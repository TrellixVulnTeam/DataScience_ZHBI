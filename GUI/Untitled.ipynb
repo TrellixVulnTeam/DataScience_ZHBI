{
 "cells": [
  {
   "cell_type": "code",
   "execution_count": null,
   "metadata": {},
   "outputs": [],
   "source": [
    "import tkinter.messagebox\n",
    "from tkinter import *\n",
    "root=Tk()\n",
    "root.geometry(\"1350x750\")\n",
    "root.title('Tic Tac Toe')\n",
    "root.configure(background='Cadet Blue')\n",
    "\n",
    "\n",
    "\n",
    "Tops=Frame(root,bg='Cadet Blue',pady=2,width=1300,height=100,relief=RIDGE)\n",
    "Tops.grid(row=0,column=0)\n",
    "\n",
    "lblTitle=Label(Tops,text='Tic Tac Toe',justify=CENTER,\n",
    "              bd=21 ,bg='Cadet Blue',fg='Cornsilk',\n",
    "              font=('arial',50,'bold'))\n",
    "lblTitle.grid(row=0,column=0)\n",
    "\n",
    "Mainframe=Frame(root,bg='Powder Blue',bd=10,width=1350,height=600,relief=RIDGE)\n",
    "Mainframe.grid(row=1,column=0)\n",
    "\n",
    "LeftFrame=Frame(Mainframe,bg='Cadet Blue',\n",
    "                bd=10,width=750,height=500,relief=RIDGE,\n",
    "               pady=2,padx=10\n",
    "               )\n",
    "LeftFrame.pack(side=LEFT)\n",
    "\n",
    "RightFrame=Frame(Mainframe,bg='Cadet Blue',\n",
    "                bd=10,width=560,height=500,relief=RIDGE,\n",
    "               pady=2,padx=10\n",
    "               )\n",
    "RightFrame.pack(side=RIGHT)\n",
    "\n",
    "RightFrame1=Frame(RightFrame,bg='Powder Blue',\n",
    "                  \n",
    "                  bd=10,width=560,height=200,relief=RIDGE)\n",
    "RightFrame1.grid(row=0,column=0)\n",
    "\n",
    "RightFrame2=Frame(RightFrame,bg='Powder Blue',bd=10,\n",
    "                  \n",
    "                  width=560,height=200,relief=RIDGE)\n",
    "RightFrame2.grid(row=1,column=0)\n",
    "\n",
    "PlayerX=IntVar()\n",
    "PlayerY=IntVar()\n",
    "\n",
    "PlayerX.set(0)\n",
    "PlayerY.set(0)\n",
    "\n",
    "buttom1=Button(LeftFrame,text=\" \",font=('Times 26 bold'),\n",
    "              height=3,\n",
    "              width=8,\n",
    "              bg='gainsboro'\n",
    "              )\n",
    "buttom1.grid(row=1,column=0)\n",
    "\n",
    "buttom2=Button(LeftFrame,text=\" \",font=('Times 26 bold'),\n",
    "              height=3,\n",
    "              width=8,\n",
    "              bg='gainsboro'\n",
    "              )\n",
    "buttom2.grid(row=1,column=1)\n",
    "\n",
    "\n",
    "buttom3=Button(LeftFrame,text=\" \",font=('Times 26 bold'),\n",
    "              height=3,\n",
    "              width=8,\n",
    "              bg='gainsboro'\n",
    "              )\n",
    "buttom3.grid(row=1,column=2)\n",
    "\n",
    "buttom4=Button(LeftFrame,text=\" \",font=('Times 26 bold'),\n",
    "              height=3,\n",
    "              width=8,\n",
    "              bg='gainsboro'\n",
    "              )\n",
    "buttom4.grid(row=2,column=0)\n",
    "\n",
    "buttom5=Button(LeftFrame,text=\" \",font=('Times 26 bold'),\n",
    "              height=3,\n",
    "              width=8,\n",
    "              bg='gainsboro'\n",
    "              )\n",
    "buttom5.grid(row=2,column=1)\n",
    "\n",
    "\n",
    "buttom6=Button(LeftFrame,text=\" \",font=('Times 26 bold'),\n",
    "              height=3,\n",
    "              width=8,\n",
    "              bg='gainsboro'\n",
    "              )\n",
    "buttom6.grid(row=2,column=2)\n",
    "\n",
    "buttom7=Button(LeftFrame,text=\" \",font=('Times 26 bold'),\n",
    "              height=3,\n",
    "              width=8,\n",
    "              bg='gainsboro'\n",
    "              )\n",
    "buttom7.grid(row=3,column=0)\n",
    "\n",
    "buttom8=Button(LeftFrame,text=\" \",font=('Times 26 bold'),\n",
    "              height=3,\n",
    "              width=8,\n",
    "              bg='gainsboro'\n",
    "              )\n",
    "buttom8.grid(row=3,column=1)\n",
    "    \n",
    "\n",
    "buttom9=Button(LeftFrame,text=\" \",font=('Times 26 bold'),\n",
    "              height=3,\n",
    "              width=8,\n",
    "              bg='gainsboro'\n",
    "              )\n",
    "buttom9.grid(row=3,column=2)\n",
    "\n",
    "lbl=Label(RightFrame1,text='Player O',font=('ariel',40,'bold'),bg='Cadet Blue',\n",
    "         padx=2,pady=2)\n",
    "lbl.grid(row=0,column=0,sticky=W)\n",
    "lbl=Label(RightFrame1,text='Player X',font=('ariel',40,'bold'),bg='Cadet Blue',\n",
    "         padx=2,pady=2)\n",
    "lbl.grid(row=1,column=0,sticky=W+E)\n",
    "\n",
    "txtPlayerO=Entry(RightFrame1,justify=RIGHT,\n",
    "                font=('ariel',40,'bold'),\n",
    "                 bd=2,fg='black',\n",
    "                 width=14\n",
    "                ).grid(row=0,column=1)\n",
    "txtPlayerX=Entry(RightFrame1,justify=RIGHT,\n",
    "                font=('ariel',40,'bold'),\n",
    "                 bd=2,fg='black',\n",
    "                 width=14\n",
    "                ).grid(row=1,column=1)\n",
    "\n",
    "\n",
    "buttonReset=Button(RightFrame2,text='Reset',font=('ariel',26,'bold'),\n",
    "                  height=2,width=29,bg='gainsboro',\n",
    "                  \n",
    "                  ).grid(row=2,column=0, padx=6,pady=11)\n",
    "\n",
    "buttonNewgame=Button(RightFrame2,text='New Game',font=('ariel',26,'bold'),\n",
    "                  height=2,width=29,bg='gainsboro',\n",
    "                     \n",
    "                  ).grid(row=3,column=0,padx=6,pady=10)\n",
    "\n",
    "Bottom=Frame(root,bg='Cadet Blue',pady=2,width=1300,height=100,relief=RIDGE)\n",
    "Bottom.grid(row=2,column=0)\n",
    "\n",
    "lblTitle=Label(Bottom,text='By: Rishav Paudel',justify=CENTER,\n",
    "              bd=21 ,bg='Cadet Blue',fg='Cornsilk',\n",
    "              font=('arial',30,'bold'))\n",
    "lblTitle.grid(row=0,column=0)\n",
    "\n",
    "\n",
    "\n",
    "\n",
    "root.mainloop()"
   ]
  },
  {
   "cell_type": "code",
   "execution_count": null,
   "metadata": {},
   "outputs": [],
   "source": []
  },
  {
   "cell_type": "code",
   "execution_count": null,
   "metadata": {},
   "outputs": [],
   "source": []
  },
  {
   "cell_type": "code",
   "execution_count": null,
   "metadata": {},
   "outputs": [],
   "source": []
  },
  {
   "cell_type": "code",
   "execution_count": null,
   "metadata": {},
   "outputs": [],
   "source": []
  },
  {
   "cell_type": "code",
   "execution_count": null,
   "metadata": {},
   "outputs": [],
   "source": []
  },
  {
   "cell_type": "code",
   "execution_count": null,
   "metadata": {},
   "outputs": [],
   "source": []
  },
  {
   "cell_type": "code",
   "execution_count": null,
   "metadata": {},
   "outputs": [],
   "source": []
  },
  {
   "cell_type": "code",
   "execution_count": null,
   "metadata": {},
   "outputs": [],
   "source": []
  },
  {
   "cell_type": "code",
   "execution_count": null,
   "metadata": {},
   "outputs": [],
   "source": []
  },
  {
   "cell_type": "code",
   "execution_count": null,
   "metadata": {},
   "outputs": [],
   "source": []
  },
  {
   "cell_type": "code",
   "execution_count": null,
   "metadata": {},
   "outputs": [],
   "source": []
  },
  {
   "cell_type": "code",
   "execution_count": null,
   "metadata": {},
   "outputs": [],
   "source": []
  },
  {
   "cell_type": "code",
   "execution_count": null,
   "metadata": {},
   "outputs": [],
   "source": []
  },
  {
   "cell_type": "code",
   "execution_count": null,
   "metadata": {},
   "outputs": [],
   "source": []
  },
  {
   "cell_type": "code",
   "execution_count": null,
   "metadata": {},
   "outputs": [],
   "source": []
  },
  {
   "cell_type": "code",
   "execution_count": null,
   "metadata": {},
   "outputs": [],
   "source": []
  },
  {
   "cell_type": "code",
   "execution_count": null,
   "metadata": {},
   "outputs": [],
   "source": []
  },
  {
   "cell_type": "code",
   "execution_count": null,
   "metadata": {},
   "outputs": [],
   "source": []
  },
  {
   "cell_type": "code",
   "execution_count": null,
   "metadata": {},
   "outputs": [],
   "source": []
  },
  {
   "cell_type": "code",
   "execution_count": null,
   "metadata": {},
   "outputs": [],
   "source": []
  },
  {
   "cell_type": "code",
   "execution_count": null,
   "metadata": {},
   "outputs": [],
   "source": []
  },
  {
   "cell_type": "code",
   "execution_count": null,
   "metadata": {},
   "outputs": [],
   "source": []
  },
  {
   "cell_type": "code",
   "execution_count": null,
   "metadata": {},
   "outputs": [],
   "source": []
  },
  {
   "cell_type": "code",
   "execution_count": null,
   "metadata": {},
   "outputs": [],
   "source": []
  },
  {
   "cell_type": "code",
   "execution_count": null,
   "metadata": {},
   "outputs": [],
   "source": []
  },
  {
   "cell_type": "code",
   "execution_count": null,
   "metadata": {},
   "outputs": [],
   "source": []
  },
  {
   "cell_type": "code",
   "execution_count": null,
   "metadata": {},
   "outputs": [],
   "source": []
  },
  {
   "cell_type": "code",
   "execution_count": null,
   "metadata": {},
   "outputs": [],
   "source": []
  },
  {
   "cell_type": "code",
   "execution_count": null,
   "metadata": {},
   "outputs": [],
   "source": []
  },
  {
   "cell_type": "code",
   "execution_count": null,
   "metadata": {},
   "outputs": [],
   "source": []
  },
  {
   "cell_type": "code",
   "execution_count": null,
   "metadata": {},
   "outputs": [],
   "source": []
  },
  {
   "cell_type": "code",
   "execution_count": null,
   "metadata": {},
   "outputs": [],
   "source": []
  },
  {
   "cell_type": "code",
   "execution_count": null,
   "metadata": {},
   "outputs": [],
   "source": []
  },
  {
   "cell_type": "code",
   "execution_count": null,
   "metadata": {},
   "outputs": [],
   "source": []
  },
  {
   "cell_type": "code",
   "execution_count": null,
   "metadata": {},
   "outputs": [],
   "source": []
  },
  {
   "cell_type": "code",
   "execution_count": null,
   "metadata": {},
   "outputs": [],
   "source": []
  },
  {
   "cell_type": "code",
   "execution_count": null,
   "metadata": {},
   "outputs": [],
   "source": []
  },
  {
   "cell_type": "code",
   "execution_count": null,
   "metadata": {},
   "outputs": [],
   "source": []
  },
  {
   "cell_type": "code",
   "execution_count": null,
   "metadata": {},
   "outputs": [],
   "source": []
  },
  {
   "cell_type": "code",
   "execution_count": null,
   "metadata": {},
   "outputs": [],
   "source": []
  },
  {
   "cell_type": "code",
   "execution_count": null,
   "metadata": {},
   "outputs": [],
   "source": []
  },
  {
   "cell_type": "code",
   "execution_count": null,
   "metadata": {},
   "outputs": [],
   "source": []
  },
  {
   "cell_type": "code",
   "execution_count": null,
   "metadata": {},
   "outputs": [],
   "source": []
  },
  {
   "cell_type": "code",
   "execution_count": null,
   "metadata": {},
   "outputs": [],
   "source": []
  },
  {
   "cell_type": "code",
   "execution_count": null,
   "metadata": {},
   "outputs": [],
   "source": []
  },
  {
   "cell_type": "code",
   "execution_count": null,
   "metadata": {},
   "outputs": [],
   "source": []
  },
  {
   "cell_type": "code",
   "execution_count": null,
   "metadata": {},
   "outputs": [],
   "source": []
  },
  {
   "cell_type": "code",
   "execution_count": null,
   "metadata": {},
   "outputs": [],
   "source": []
  },
  {
   "cell_type": "code",
   "execution_count": null,
   "metadata": {},
   "outputs": [],
   "source": []
  },
  {
   "cell_type": "code",
   "execution_count": null,
   "metadata": {},
   "outputs": [],
   "source": []
  },
  {
   "cell_type": "code",
   "execution_count": null,
   "metadata": {},
   "outputs": [],
   "source": []
  },
  {
   "cell_type": "code",
   "execution_count": null,
   "metadata": {},
   "outputs": [],
   "source": []
  },
  {
   "cell_type": "code",
   "execution_count": null,
   "metadata": {},
   "outputs": [],
   "source": []
  },
  {
   "cell_type": "code",
   "execution_count": null,
   "metadata": {},
   "outputs": [],
   "source": []
  },
  {
   "cell_type": "code",
   "execution_count": null,
   "metadata": {},
   "outputs": [],
   "source": []
  },
  {
   "cell_type": "code",
   "execution_count": null,
   "metadata": {},
   "outputs": [],
   "source": []
  },
  {
   "cell_type": "code",
   "execution_count": null,
   "metadata": {},
   "outputs": [],
   "source": []
  },
  {
   "cell_type": "code",
   "execution_count": null,
   "metadata": {},
   "outputs": [],
   "source": []
  },
  {
   "cell_type": "code",
   "execution_count": null,
   "metadata": {},
   "outputs": [],
   "source": []
  },
  {
   "cell_type": "code",
   "execution_count": null,
   "metadata": {},
   "outputs": [],
   "source": []
  },
  {
   "cell_type": "code",
   "execution_count": null,
   "metadata": {},
   "outputs": [],
   "source": []
  }
 ],
 "metadata": {
  "kernelspec": {
   "display_name": "Python 3",
   "language": "python",
   "name": "python3"
  },
  "language_info": {
   "codemirror_mode": {
    "name": "ipython",
    "version": 3
   },
   "file_extension": ".py",
   "mimetype": "text/x-python",
   "name": "python",
   "nbconvert_exporter": "python",
   "pygments_lexer": "ipython3",
   "version": "3.7.7"
  }
 },
 "nbformat": 4,
 "nbformat_minor": 4
}
