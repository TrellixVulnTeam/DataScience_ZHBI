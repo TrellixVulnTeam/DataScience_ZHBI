{
 "cells": [
  {
   "cell_type": "code",
   "execution_count": 27,
   "metadata": {},
   "outputs": [
    {
     "data": {
      "text/html": [
       "<div>\n",
       "<style scoped>\n",
       "    .dataframe tbody tr th:only-of-type {\n",
       "        vertical-align: middle;\n",
       "    }\n",
       "\n",
       "    .dataframe tbody tr th {\n",
       "        vertical-align: top;\n",
       "    }\n",
       "\n",
       "    .dataframe thead th {\n",
       "        text-align: right;\n",
       "    }\n",
       "</style>\n",
       "<table border=\"1\" class=\"dataframe\">\n",
       "  <thead>\n",
       "    <tr style=\"text-align: right;\">\n",
       "      <th></th>\n",
       "      <th>val_l</th>\n",
       "      <th>val_2</th>\n",
       "    </tr>\n",
       "  </thead>\n",
       "  <tbody>\n",
       "    <tr>\n",
       "      <td>a</td>\n",
       "      <td>1</td>\n",
       "      <td>4</td>\n",
       "    </tr>\n",
       "    <tr>\n",
       "      <td>b</td>\n",
       "      <td>2</td>\n",
       "      <td>5</td>\n",
       "    </tr>\n",
       "  </tbody>\n",
       "</table>\n",
       "</div>"
      ],
      "text/plain": [
       "   val_l  val_2\n",
       "a      1      4\n",
       "b      2      5"
      ]
     },
     "execution_count": 27,
     "metadata": {},
     "output_type": "execute_result"
    }
   ],
   "source": [
    "import pandas as pd\n",
    "import matplotlib.pyplot as pl\n",
    "import numpy as np\n",
    "from math import exp\n",
    "df=pd.DataFrame({ \"val_l\":[1,2],\n",
    "                  \"val_2\":[4,5]},index=[\"a\",\"b\"])\n",
    "df\n"
   ]
  },
  {
   "cell_type": "code",
   "execution_count": 55,
   "metadata": {},
   "outputs": [],
   "source": [
    "def predict(row,coff):\n",
    "    yhat=coff[0]\n",
    "    for i in range(row-1):\n",
    "        yhat+=coff[i+1]*row[i]\n",
    "    return (1.0/(1.0)+exp(-yhat))\n"
   ]
  },
  {
   "cell_type": "code",
   "execution_count": 56,
   "metadata": {},
   "outputs": [
    {
     "data": {
      "text/plain": [
       "array([[[0.70344793, 0.84953976],\n",
       "        [0.14732808, 0.26915961],\n",
       "        [0.24131379, 0.32732007],\n",
       "        [0.50612559, 0.97735408],\n",
       "        [0.85665617, 0.35670561],\n",
       "        [0.20472631, 0.11977215],\n",
       "        [0.49598549, 0.24737928],\n",
       "        [0.23343691, 0.40725721],\n",
       "        [0.26601978, 0.23704965],\n",
       "        [0.0041505 , 0.98311991]]])"
      ]
     },
     "execution_count": 56,
     "metadata": {},
     "output_type": "execute_result"
    }
   ],
   "source": [
    "import random\n",
    "\n",
    "temp=np.random.random((1,10,2))\n",
    "temp"
   ]
  },
  {
   "cell_type": "code",
   "execution_count": 59,
   "metadata": {},
   "outputs": [],
   "source": [
    "def coefficients_sgd(train,l_rate,n_epoch):\n",
    "    coef=[0.0 for i in range(len(train[0]))]\n",
    "    for epoch in range(n_epoch):\n",
    "        sum_error=0\n",
    "        for row in train:\n",
    "            yhat=predict(row,coef)\n",
    "            error=row[-1] -yhat\n",
    "            sum_error+=error**2\n",
    "            coef[0]=coef[0]+l_rate*error*yhat*(1.0-yhat)\n",
    "            for i in range(len(row)-1):\n",
    "                coef[i+1]=coef[i+1]+l_rate*error*yhat*(1.0-yhat)*row[i]\n",
    "        print('>epoch=%d.lrate=%.3f,error=%.3f'%(epoch,l_rate,sum_error))\n",
    "    return coef"
   ]
  }
 ],
 "metadata": {
  "kernelspec": {
   "display_name": "Python 3",
   "language": "python",
   "name": "python3"
  },
  "language_info": {
   "codemirror_mode": {
    "name": "ipython",
    "version": 3
   },
   "file_extension": ".py",
   "mimetype": "text/x-python",
   "name": "python",
   "nbconvert_exporter": "python",
   "pygments_lexer": "ipython3",
   "version": "3.7.4"
  }
 },
 "nbformat": 4,
 "nbformat_minor": 2
}
