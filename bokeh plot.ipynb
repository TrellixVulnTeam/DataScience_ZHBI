{
 "cells": [
  {
   "cell_type": "code",
   "execution_count": 1,
   "metadata": {},
   "outputs": [],
   "source": [
    "from bokeh.plotting import figure,output_file,show\n",
    "import pandas\n",
    "\n",
    "df=pandas.read_csv(\"survey.csv\")\n",
    "p=figure(plot_width=10000,plot_height=1000)\n",
    "\n",
    "p.title.text=\"Measurements\" \n",
    "p.xaxis.axis_label=\"Time\"\n",
    "p.yaxis.axis_label=\"Temperature\"\n",
    "p.line(df[\"B\"],df[\"A\"])\n",
    "p.circle(df[\"A\"],df[\"B\"])\n",
    "\n",
    "show(p)"
   ]
  }
 ],
 "metadata": {
  "kernelspec": {
   "display_name": "Python 3",
   "language": "python",
   "name": "python3"
  },
  "language_info": {
   "codemirror_mode": {
    "name": "ipython",
    "version": 3
   },
   "file_extension": ".py",
   "mimetype": "text/x-python",
   "name": "python",
   "nbconvert_exporter": "python",
   "pygments_lexer": "ipython3",
   "version": "3.7.4"
  }
 },
 "nbformat": 4,
 "nbformat_minor": 2
}
