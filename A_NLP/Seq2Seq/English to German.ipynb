{
 "cells": [
  {
   "cell_type": "code",
   "execution_count": 1,
   "metadata": {},
   "outputs": [],
   "source": [
    "import pandas as pd"
   ]
  },
  {
   "cell_type": "code",
   "execution_count": 2,
   "metadata": {},
   "outputs": [],
   "source": [
    "import tensorflow as tf\n",
    "physical_devices = tf.config.list_physical_devices('GPU') \n",
    "tf.config.experimental.set_memory_growth(physical_devices[0], True)\n",
    "\n",
    "\n"
   ]
  },
  {
   "cell_type": "code",
   "execution_count": 3,
   "metadata": {},
   "outputs": [],
   "source": [
    "with open('input.txt','r',encoding='utf-8') as f:\n",
    "    lines=f.read().split('\\n')"
   ]
  },
  {
   "cell_type": "code",
   "execution_count": 4,
   "metadata": {},
   "outputs": [
    {
     "name": "stdout",
     "output_type": "stream",
     "text": [
      "It's me!\tIch bin's.\n"
     ]
    }
   ],
   "source": [
    "print(lines[155])"
   ]
  },
  {
   "cell_type": "code",
   "execution_count": 5,
   "metadata": {},
   "outputs": [
    {
     "data": {
      "text/plain": [
       "169813"
      ]
     },
     "execution_count": 5,
     "metadata": {},
     "output_type": "execute_result"
    }
   ],
   "source": [
    "len(lines)"
   ]
  },
  {
   "cell_type": "code",
   "execution_count": 21,
   "metadata": {},
   "outputs": [],
   "source": [
    "input_texts = []\n",
    "target_texts = []\n",
    "input_characters = set()\n",
    "target_characters = set()"
   ]
  },
  {
   "cell_type": "code",
   "execution_count": 22,
   "metadata": {},
   "outputs": [
    {
     "data": {
      "text/plain": [
       "10000"
      ]
     },
     "execution_count": 22,
     "metadata": {},
     "output_type": "execute_result"
    }
   ],
   "source": [
    "num_samples = 10000\n",
    "num_samples"
   ]
  },
  {
   "cell_type": "code",
   "execution_count": 23,
   "metadata": {},
   "outputs": [],
   "source": [
    "for line in lines[: min(num_samples, len(lines) - 1)]:\n",
    "    input_text, target_text = line.split('\\t')\n",
    "    target_text = '\\t' + target_text + '\\n'\n",
    "    input_texts.append(input_text)\n",
    "    target_texts.append(target_text)\n",
    "    for char in input_text:\n",
    "        if char not in input_characters:\n",
    "            input_characters.add(char)\n",
    "    for char in target_text:\n",
    "        if char not in target_characters:\n",
    "            target_characters.add(char)"
   ]
  },
  {
   "cell_type": "code",
   "execution_count": 24,
   "metadata": {},
   "outputs": [
    {
     "data": {
      "text/plain": [
       "(\"It's me!\", \"\\tIch bin's.\\n\")"
      ]
     },
     "execution_count": 24,
     "metadata": {},
     "output_type": "execute_result"
    }
   ],
   "source": [
    "input_texts[155],target_texts[155]"
   ]
  },
  {
   "cell_type": "code",
   "execution_count": 25,
   "metadata": {},
   "outputs": [
    {
     "name": "stdout",
     "output_type": "stream",
     "text": [
      "Number of samples: 10000\n",
      "Number of unique input tokens: 70\n",
      "Number of unique output tokens: 90\n",
      "Max sequence length for inputs: 16\n",
      "Max sequence length for outputs: 53\n"
     ]
    }
   ],
   "source": [
    "input_characters = sorted(list(input_characters))\n",
    "target_characters = sorted(list(target_characters))\n",
    "num_encoder_tokens = len(input_characters)\n",
    "num_decoder_tokens = len(target_characters)\n",
    "max_encoder_seq_length = max([len(txt) for txt in input_texts])\n",
    "max_decoder_seq_length = max([len(txt) for txt in target_texts])\n",
    "\n",
    "print('Number of samples:', len(input_texts))\n",
    "print('Number of unique input tokens:', num_encoder_tokens)\n",
    "print('Number of unique output tokens:', num_decoder_tokens)\n",
    "print('Max sequence length for inputs:', max_encoder_seq_length)\n",
    "print('Max sequence length for outputs:', max_decoder_seq_length)"
   ]
  },
  {
   "cell_type": "code",
   "execution_count": 26,
   "metadata": {},
   "outputs": [],
   "source": [
    "input_token_index = dict(\n",
    "  [(char, i) for i, char in enumerate(input_characters)])\n",
    "target_token_index = dict(\n",
    "  [(char, i) for i, char in enumerate(target_characters)])"
   ]
  },
  {
   "cell_type": "code",
   "execution_count": null,
   "metadata": {},
   "outputs": [],
   "source": []
  },
  {
   "cell_type": "code",
   "execution_count": 27,
   "metadata": {},
   "outputs": [],
   "source": [
    "import numpy as np\n",
    "\n",
    "encoder_input_data = np.zeros(\n",
    "  (len(input_texts), max_encoder_seq_length, num_encoder_tokens),\n",
    "  dtype='float32')\n",
    "decoder_input_data = np.zeros(\n",
    "  (len(input_texts), max_decoder_seq_length, num_decoder_tokens),\n",
    "  dtype='float32')\n",
    "decoder_target_data = np.zeros(\n",
    "  (len(input_texts), max_decoder_seq_length, num_decoder_tokens),\n",
    "  dtype='float32')"
   ]
  },
  {
   "cell_type": "code",
   "execution_count": 28,
   "metadata": {},
   "outputs": [],
   "source": [
    "for i, (input_text, target_text) in enumerate(zip(input_texts, target_texts)):\n",
    "    for t, char in enumerate(input_text):\n",
    "        encoder_input_data[i, t, input_token_index[char]] = 1.\n",
    "    for t, char in enumerate(target_text):\n",
    "    # decoder_target_data is ahead of decoder_input_data by one timestep\n",
    "        decoder_input_data[i, t, target_token_index[char]] = 1.\n",
    "        if t > 0:\n",
    "          # decoder_target_data will be ahead by one timestep\n",
    "          # and will not include the start character.\n",
    "            decoder_target_data[i, t - 1, target_token_index[char]] = 1."
   ]
  },
  {
   "cell_type": "code",
   "execution_count": 29,
   "metadata": {},
   "outputs": [],
   "source": [
    "import keras,tensorflow\n",
    "from keras.models import Model\n",
    "from keras.layers import Input,LSTM,Dense\n"
   ]
  },
  {
   "cell_type": "code",
   "execution_count": 30,
   "metadata": {},
   "outputs": [],
   "source": [
    "batch_size = 64  # batch size for training\n",
    "epochs = 100  # number of epochs to train for\n",
    "latent_dim = 256  # latent dimensionality of the encoding space"
   ]
  },
  {
   "cell_type": "code",
   "execution_count": 31,
   "metadata": {},
   "outputs": [],
   "source": [
    "encoder_inputs = Input(shape=(None, num_encoder_tokens))\n",
    "encoder = LSTM(latent_dim, return_state=True)\n",
    "encoder_outputs, state_h, state_c = encoder(encoder_inputs)\n",
    "encoder_states = [state_h, state_c]"
   ]
  },
  {
   "cell_type": "code",
   "execution_count": 32,
   "metadata": {},
   "outputs": [],
   "source": [
    "decoder_inputs = Input(shape=(None, num_decoder_tokens))\n",
    "decoder_lstm = LSTM(latent_dim, return_sequences=True, return_state=True)\n",
    "decoder_outputs, _, _ = decoder_lstm(decoder_inputs,\n",
    "                                     initial_state=encoder_states)\n",
    "decoder_dense = Dense(num_decoder_tokens, activation='softmax')\n",
    "decoder_outputs = decoder_dense(decoder_outputs)"
   ]
  },
  {
   "cell_type": "code",
   "execution_count": 33,
   "metadata": {},
   "outputs": [],
   "source": [
    "model = Model(inputs=[encoder_inputs, decoder_inputs], \n",
    "              outputs=decoder_outputs)"
   ]
  },
  {
   "cell_type": "code",
   "execution_count": 34,
   "metadata": {},
   "outputs": [
    {
     "name": "stdout",
     "output_type": "stream",
     "text": [
      "Model: \"model_2\"\n",
      "__________________________________________________________________________________________________\n",
      "Layer (type)                    Output Shape         Param #     Connected to                     \n",
      "==================================================================================================\n",
      "input_3 (InputLayer)            (None, None, 70)     0                                            \n",
      "__________________________________________________________________________________________________\n",
      "input_4 (InputLayer)            (None, None, 90)     0                                            \n",
      "__________________________________________________________________________________________________\n",
      "lstm_3 (LSTM)                   [(None, 256), (None, 334848      input_3[0][0]                    \n",
      "__________________________________________________________________________________________________\n",
      "lstm_4 (LSTM)                   [(None, None, 256),  355328      input_4[0][0]                    \n",
      "                                                                 lstm_3[0][1]                     \n",
      "                                                                 lstm_3[0][2]                     \n",
      "__________________________________________________________________________________________________\n",
      "dense_2 (Dense)                 (None, None, 90)     23130       lstm_4[0][0]                     \n",
      "==================================================================================================\n",
      "Total params: 713,306\n",
      "Trainable params: 713,306\n",
      "Non-trainable params: 0\n",
      "__________________________________________________________________________________________________\n"
     ]
    }
   ],
   "source": [
    "model.compile(optimizer='rmsprop', loss='categorical_crossentropy')\n",
    "model.summary()"
   ]
  },
  {
   "cell_type": "code",
   "execution_count": 20,
   "metadata": {
    "scrolled": true
   },
   "outputs": [
    {
     "name": "stdout",
     "output_type": "stream",
     "text": [
      "Epoch 1/100\n",
      "10000/10000 [==============================] - 8s 806us/step - loss: 1.0534\n",
      "Epoch 2/100\n",
      "10000/10000 [==============================] - 7s 719us/step - loss: 0.7820\n",
      "Epoch 3/100\n",
      "10000/10000 [==============================] - 8s 841us/step - loss: 0.6554\n",
      "Epoch 4/100\n",
      "10000/10000 [==============================] - 8s 800us/step - loss: 0.5934\n",
      "Epoch 5/100\n",
      "10000/10000 [==============================] - 7s 742us/step - loss: 0.5523\n",
      "Epoch 6/100\n",
      "10000/10000 [==============================] - 8s 756us/step - loss: 0.5193\n",
      "Epoch 7/100\n",
      "10000/10000 [==============================] - 8s 760us/step - loss: 0.4934\n",
      "Epoch 8/100\n",
      "10000/10000 [==============================] - 8s 761us/step - loss: 0.4712\n",
      "Epoch 9/100\n",
      "10000/10000 [==============================] - 8s 750us/step - loss: 0.4521\n",
      "Epoch 10/100\n",
      "10000/10000 [==============================] - 7s 744us/step - loss: 0.4349\n",
      "Epoch 11/100\n",
      "10000/10000 [==============================] - 7s 740us/step - loss: 0.4198\n",
      "Epoch 12/100\n",
      "10000/10000 [==============================] - 7s 741us/step - loss: 0.4051\n",
      "Epoch 13/100\n",
      "10000/10000 [==============================] - 8s 761us/step - loss: 0.3917\n",
      "Epoch 14/100\n",
      "10000/10000 [==============================] - 7s 743us/step - loss: 0.3791\n",
      "Epoch 15/100\n",
      "10000/10000 [==============================] - 7s 738us/step - loss: 0.3672\n",
      "Epoch 16/100\n",
      "10000/10000 [==============================] - 7s 738us/step - loss: 0.3562\n",
      "Epoch 17/100\n",
      "10000/10000 [==============================] - 8s 836us/step - loss: 0.3456\n",
      "Epoch 18/100\n",
      "10000/10000 [==============================] - 7s 745us/step - loss: 0.3354\n",
      "Epoch 19/100\n",
      "10000/10000 [==============================] - 7s 740us/step - loss: 0.3261\n",
      "Epoch 20/100\n",
      "10000/10000 [==============================] - 7s 744us/step - loss: 0.3170\n",
      "Epoch 21/100\n",
      "10000/10000 [==============================] - 7s 739us/step - loss: 0.3080\n",
      "Epoch 22/100\n",
      "10000/10000 [==============================] - 7s 745us/step - loss: 0.3000\n",
      "Epoch 23/100\n",
      "10000/10000 [==============================] - 7s 741us/step - loss: 0.2917\n",
      "Epoch 24/100\n",
      "10000/10000 [==============================] - 7s 745us/step - loss: 0.2842\n",
      "Epoch 25/100\n",
      "10000/10000 [==============================] - 7s 743us/step - loss: 0.2766\n",
      "Epoch 26/100\n",
      "10000/10000 [==============================] - 7s 744us/step - loss: 0.2695\n",
      "Epoch 27/100\n",
      "10000/10000 [==============================] - 7s 747us/step - loss: 0.2629\n",
      "Epoch 28/100\n",
      "10000/10000 [==============================] - 7s 742us/step - loss: 0.2557\n",
      "Epoch 29/100\n",
      "10000/10000 [==============================] - 7s 740us/step - loss: 0.2491\n",
      "Epoch 30/100\n",
      "10000/10000 [==============================] - 7s 742us/step - loss: 0.2430\n",
      "Epoch 31/100\n",
      "10000/10000 [==============================] - 7s 742us/step - loss: 0.2365\n",
      "Epoch 32/100\n",
      "10000/10000 [==============================] - 7s 747us/step - loss: 0.2309\n",
      "Epoch 33/100\n",
      "10000/10000 [==============================] - 7s 746us/step - loss: 0.2250\n",
      "Epoch 34/100\n",
      "10000/10000 [==============================] - 7s 747us/step - loss: 0.2195\n",
      "Epoch 35/100\n",
      "10000/10000 [==============================] - 7s 748us/step - loss: 0.2141\n",
      "Epoch 36/100\n",
      "10000/10000 [==============================] - 7s 741us/step - loss: 0.2089\n",
      "Epoch 37/100\n",
      "10000/10000 [==============================] - 7s 744us/step - loss: 0.2041\n",
      "Epoch 38/100\n",
      "10000/10000 [==============================] - 7s 746us/step - loss: 0.1994\n",
      "Epoch 39/100\n",
      "10000/10000 [==============================] - 7s 743us/step - loss: 0.1948\n",
      "Epoch 40/100\n",
      "10000/10000 [==============================] - 7s 739us/step - loss: 0.1904\n",
      "Epoch 41/100\n",
      "10000/10000 [==============================] - 7s 740us/step - loss: 0.1855\n",
      "Epoch 42/100\n",
      "10000/10000 [==============================] - 7s 747us/step - loss: 0.1817\n",
      "Epoch 43/100\n",
      "10000/10000 [==============================] - 7s 747us/step - loss: 0.1774\n",
      "Epoch 44/100\n",
      "10000/10000 [==============================] - 7s 745us/step - loss: 0.1733 0s - loss\n",
      "Epoch 45/100\n",
      "10000/10000 [==============================] - 7s 742us/step - loss: 0.1696\n",
      "Epoch 46/100\n",
      "10000/10000 [==============================] - 7s 742us/step - loss: 0.1658\n",
      "Epoch 47/100\n",
      "10000/10000 [==============================] - 7s 746us/step - loss: 0.1622\n",
      "Epoch 48/100\n",
      "10000/10000 [==============================] - 7s 747us/step - loss: 0.1589\n",
      "Epoch 49/100\n",
      "10000/10000 [==============================] - 7s 745us/step - loss: 0.1554\n",
      "Epoch 50/100\n",
      "10000/10000 [==============================] - 8s 759us/step - loss: 0.1518\n",
      "Epoch 51/100\n",
      "10000/10000 [==============================] - 7s 746us/step - loss: 0.1488 0s - loss:\n",
      "Epoch 52/100\n",
      "10000/10000 [==============================] - 8s 777us/step - loss: 0.1456\n",
      "Epoch 53/100\n",
      "10000/10000 [==============================] - 7s 747us/step - loss: 0.1429\n",
      "Epoch 54/100\n",
      "10000/10000 [==============================] - 7s 745us/step - loss: 0.1400\n",
      "Epoch 55/100\n",
      "10000/10000 [==============================] - 7s 741us/step - loss: 0.1371\n",
      "Epoch 56/100\n",
      "10000/10000 [==============================] - 7s 738us/step - loss: 0.1340\n",
      "Epoch 57/100\n",
      "10000/10000 [==============================] - 7s 743us/step - loss: 0.1318\n",
      "Epoch 58/100\n",
      "10000/10000 [==============================] - 7s 749us/step - loss: 0.1290\n",
      "Epoch 59/100\n",
      "10000/10000 [==============================] - 8s 769us/step - loss: 0.1270\n",
      "Epoch 60/100\n",
      "10000/10000 [==============================] - 8s 789us/step - loss: 0.1240\n",
      "Epoch 61/100\n",
      "10000/10000 [==============================] - 7s 747us/step - loss: 0.1219\n",
      "Epoch 62/100\n",
      "10000/10000 [==============================] - 7s 743us/step - loss: 0.1195\n",
      "Epoch 63/100\n",
      "10000/10000 [==============================] - 7s 743us/step - loss: 0.1172\n",
      "Epoch 64/100\n",
      "10000/10000 [==============================] - 8s 773us/step - loss: 0.1152\n",
      "Epoch 65/100\n",
      "10000/10000 [==============================] - 7s 747us/step - loss: 0.1128\n",
      "Epoch 66/100\n",
      "10000/10000 [==============================] - 7s 743us/step - loss: 0.1107 0s - loss: 0.1\n",
      "Epoch 67/100\n",
      "10000/10000 [==============================] - 8s 800us/step - loss: 0.1092\n",
      "Epoch 68/100\n",
      "10000/10000 [==============================] - 9s 879us/step - loss: 0.1070\n",
      "Epoch 69/100\n",
      "10000/10000 [==============================] - 8s 802us/step - loss: 0.1051\n",
      "Epoch 70/100\n",
      "10000/10000 [==============================] - 8s 806us/step - loss: 0.1033\n",
      "Epoch 71/100\n",
      "10000/10000 [==============================] - 9s 895us/step - loss: 0.1015\n",
      "Epoch 72/100\n",
      "10000/10000 [==============================] - 8s 779us/step - loss: 0.0994\n",
      "Epoch 73/100\n",
      "10000/10000 [==============================] - 8s 756us/step - loss: 0.0982\n",
      "Epoch 74/100\n",
      "10000/10000 [==============================] - 7s 749us/step - loss: 0.0964\n",
      "Epoch 75/100\n",
      "10000/10000 [==============================] - 8s 752us/step - loss: 0.0947\n",
      "Epoch 76/100\n",
      "10000/10000 [==============================] - 7s 741us/step - loss: 0.0934\n",
      "Epoch 77/100\n",
      "10000/10000 [==============================] - 9s 855us/step - loss: 0.0917\n",
      "Epoch 78/100\n",
      "10000/10000 [==============================] - 8s 790us/step - loss: 0.0903\n",
      "Epoch 79/100\n",
      "10000/10000 [==============================] - 8s 832us/step - loss: 0.0886\n",
      "Epoch 80/100\n",
      "10000/10000 [==============================] - 8s 824us/step - loss: 0.0869\n",
      "Epoch 81/100\n",
      "10000/10000 [==============================] - 8s 777us/step - loss: 0.0856\n",
      "Epoch 82/100\n",
      "10000/10000 [==============================] - 8s 755us/step - loss: 0.0847\n",
      "Epoch 83/100\n",
      "10000/10000 [==============================] - 8s 754us/step - loss: 0.0831\n",
      "Epoch 84/100\n",
      "10000/10000 [==============================] - 8s 754us/step - loss: 0.0820\n",
      "Epoch 85/100\n",
      "10000/10000 [==============================] - 8s 756us/step - loss: 0.0806\n",
      "Epoch 86/100\n",
      "10000/10000 [==============================] - 8s 764us/step - loss: 0.0793\n",
      "Epoch 87/100\n",
      "10000/10000 [==============================] - 9s 920us/step - loss: 0.0780\n",
      "Epoch 88/100\n",
      "10000/10000 [==============================] - 8s 769us/step - loss: 0.0766\n",
      "Epoch 89/100\n",
      "10000/10000 [==============================] - 8s 807us/step - loss: 0.0758\n",
      "Epoch 90/100\n",
      "10000/10000 [==============================] - 8s 847us/step - loss: 0.0744\n",
      "Epoch 91/100\n",
      "10000/10000 [==============================] - 8s 765us/step - loss: 0.0735\n",
      "Epoch 92/100\n"
     ]
    },
    {
     "name": "stdout",
     "output_type": "stream",
     "text": [
      "10000/10000 [==============================] - 8s 759us/step - loss: 0.0724\n",
      "Epoch 93/100\n",
      "10000/10000 [==============================] - 8s 782us/step - loss: 0.0714\n",
      "Epoch 94/100\n",
      "10000/10000 [==============================] - 9s 870us/step - loss: 0.0700 \n",
      "Epoch 95/100\n",
      "10000/10000 [==============================] - 8s 807us/step - loss: 0.0691\n",
      "Epoch 96/100\n",
      "10000/10000 [==============================] - 8s 752us/step - loss: 0.0681\n",
      "Epoch 97/100\n",
      "10000/10000 [==============================] - 8s 751us/step - loss: 0.0667\n",
      "Epoch 98/100\n",
      "10000/10000 [==============================] - 7s 744us/step - loss: 0.0661\n",
      "Epoch 99/100\n",
      "10000/10000 [==============================] - 7s 745us/step - loss: 0.0652\n",
      "Epoch 100/100\n",
      "10000/10000 [==============================] - 7s 742us/step - loss: 0.0641\n"
     ]
    },
    {
     "data": {
      "text/plain": [
       "<keras.callbacks.callbacks.History at 0x1b1eee1c0c8>"
      ]
     },
     "execution_count": 20,
     "metadata": {},
     "output_type": "execute_result"
    }
   ],
   "source": [
    "model.fit([encoder_input_data, decoder_input_data], decoder_target_data,\n",
    "          batch_size=batch_size,\n",
    "          epochs=epochs)"
   ]
  },
  {
   "cell_type": "code",
   "execution_count": null,
   "metadata": {},
   "outputs": [],
   "source": []
  },
  {
   "cell_type": "code",
   "execution_count": 35,
   "metadata": {
    "scrolled": true
   },
   "outputs": [
    {
     "name": "stdout",
     "output_type": "stream",
     "text": [
      "Train on 8000 samples, validate on 2000 samples\n",
      "Epoch 1/100\n",
      "8000/8000 [==============================] - 7s 864us/step - loss: 1.0393 - val_loss: 1.0502\n",
      "Epoch 2/100\n",
      "8000/8000 [==============================] - 6s 809us/step - loss: 0.8035 - val_loss: 0.8464\n",
      "Epoch 3/100\n",
      "8000/8000 [==============================] - 7s 852us/step - loss: 0.6746 - val_loss: 0.7595\n",
      "Epoch 4/100\n",
      "8000/8000 [==============================] - 6s 792us/step - loss: 0.6098 - val_loss: 0.7129\n",
      "Epoch 5/100\n",
      "8000/8000 [==============================] - 6s 776us/step - loss: 0.5696 - val_loss: 0.6802\n",
      "Epoch 6/100\n",
      "8000/8000 [==============================] - 6s 777us/step - loss: 0.5364 - val_loss: 0.6494\n",
      "Epoch 7/100\n",
      "8000/8000 [==============================] - 6s 788us/step - loss: 0.5083 - val_loss: 0.6275\n",
      "Epoch 8/100\n",
      "8000/8000 [==============================] - 6s 790us/step - loss: 0.4841 - val_loss: 0.6158\n",
      "Epoch 9/100\n",
      "8000/8000 [==============================] - 6s 800us/step - loss: 0.4630 - val_loss: 0.5911\n",
      "Epoch 10/100\n",
      "8000/8000 [==============================] - 6s 786us/step - loss: 0.4474 - val_loss: 0.5862\n",
      "Epoch 11/100\n",
      "8000/8000 [==============================] - 6s 795us/step - loss: 0.4287 - val_loss: 0.5669\n",
      "Epoch 12/100\n",
      "8000/8000 [==============================] - 6s 795us/step - loss: 0.4135 - val_loss: 0.5567\n",
      "Epoch 13/100\n",
      "8000/8000 [==============================] - 6s 792us/step - loss: 0.3990 - val_loss: 0.5487\n",
      "Epoch 14/100\n",
      "8000/8000 [==============================] - 6s 795us/step - loss: 0.3860 - val_loss: 0.5437\n",
      "Epoch 15/100\n",
      "8000/8000 [==============================] - 6s 788us/step - loss: 0.3730 - val_loss: 0.5366\n",
      "Epoch 16/100\n",
      "8000/8000 [==============================] - 6s 795us/step - loss: 0.3610 - val_loss: 0.5310\n",
      "Epoch 17/100\n",
      "8000/8000 [==============================] - 6s 789us/step - loss: 0.3497 - val_loss: 0.5285\n",
      "Epoch 18/100\n",
      "8000/8000 [==============================] - 6s 795us/step - loss: 0.3390 - val_loss: 0.5262\n",
      "Epoch 19/100\n",
      "8000/8000 [==============================] - 6s 799us/step - loss: 0.3287 - val_loss: 0.5222\n",
      "Epoch 20/100\n",
      "8000/8000 [==============================] - 6s 787us/step - loss: 0.3193 - val_loss: 0.5187\n",
      "Epoch 21/100\n",
      "8000/8000 [==============================] - 6s 798us/step - loss: 0.3099 - val_loss: 0.5193\n",
      "Epoch 22/100\n",
      "8000/8000 [==============================] - 6s 803us/step - loss: 0.3008 - val_loss: 0.5273\n",
      "Epoch 23/100\n",
      "8000/8000 [==============================] - 7s 855us/step - loss: 0.2923 - val_loss: 0.5265\n",
      "Epoch 24/100\n",
      "8000/8000 [==============================] - 7s 906us/step - loss: 0.2841 - val_loss: 0.5218\n",
      "Epoch 25/100\n",
      "8000/8000 [==============================] - 7s 816us/step - loss: 0.2761 - val_loss: 0.5233\n",
      "Epoch 26/100\n",
      "8000/8000 [==============================] - 7s 894us/step - loss: 0.2683 - val_loss: 0.5270\n",
      "Epoch 27/100\n",
      "8000/8000 [==============================] - 8s 1ms/step - loss: 0.2610 - val_loss: 0.5290\n",
      "Epoch 28/100\n",
      "8000/8000 [==============================] - 8s 940us/step - loss: 0.2535 - val_loss: 0.5288\n",
      "Epoch 29/100\n",
      "8000/8000 [==============================] - 7s 876us/step - loss: 0.2465 - val_loss: 0.5303\n",
      "Epoch 30/100\n",
      "8000/8000 [==============================] - 7s 889us/step - loss: 0.2398 - val_loss: 0.5330\n",
      "Epoch 31/100\n",
      "8000/8000 [==============================] - 7s 881us/step - loss: 0.2332 - val_loss: 0.5368\n",
      "Epoch 32/100\n",
      "8000/8000 [==============================] - 7s 929us/step - loss: 0.2271 - val_loss: 0.5435\n",
      "Epoch 33/100\n",
      "8000/8000 [==============================] - 8s 1ms/step - loss: 0.2207 - val_loss: 0.5450\n",
      "Epoch 34/100\n",
      "8000/8000 [==============================] - 8s 984us/step - loss: 0.2147 - val_loss: 0.5504\n",
      "Epoch 35/100\n",
      "8000/8000 [==============================] - 7s 843us/step - loss: 0.2093 - val_loss: 0.5548\n",
      "Epoch 36/100\n",
      "8000/8000 [==============================] - 8s 967us/step - loss: 0.2037 - val_loss: 0.5567\n",
      "Epoch 37/100\n",
      "8000/8000 [==============================] - 8s 1ms/step - loss: 0.1983 - val_loss: 0.5658\n",
      "Epoch 38/100\n",
      "8000/8000 [==============================] - 8s 995us/step - loss: 0.1930 - val_loss: 0.5679\n",
      "Epoch 39/100\n",
      "8000/8000 [==============================] - 8s 1ms/step - loss: 0.1883 - val_loss: 0.5719\n",
      "Epoch 40/100\n",
      "8000/8000 [==============================] - 8s 1ms/step - loss: 0.1837 - val_loss: 0.5748\n",
      "Epoch 41/100\n",
      "8000/8000 [==============================] - 8s 1ms/step - loss: 0.1789 - val_loss: 0.5779\n",
      "Epoch 42/100\n",
      "8000/8000 [==============================] - 8s 1ms/step - loss: 0.1739 - val_loss: 0.5907\n",
      "Epoch 43/100\n",
      "8000/8000 [==============================] - 8s 995us/step - loss: 0.1700 - val_loss: 0.5959\n",
      "Epoch 44/100\n",
      "8000/8000 [==============================] - 8s 1ms/step - loss: 0.1660 - val_loss: 0.5969\n",
      "Epoch 45/100\n",
      "8000/8000 [==============================] - 8s 1ms/step - loss: 0.1616 - val_loss: 0.6047\n",
      "Epoch 46/100\n",
      "8000/8000 [==============================] - 8s 954us/step - loss: 0.1579 - val_loss: 0.6128\n",
      "Epoch 47/100\n",
      "8000/8000 [==============================] - 8s 958us/step - loss: 0.1543 - val_loss: 0.6137\n",
      "Epoch 48/100\n",
      "8000/8000 [==============================] - 7s 923us/step - loss: 0.1503 - val_loss: 0.6243\n",
      "Epoch 49/100\n",
      "8000/8000 [==============================] - 8s 950us/step - loss: 0.1473 - val_loss: 0.6220\n",
      "Epoch 50/100\n",
      "8000/8000 [==============================] - 8s 1ms/step - loss: 0.1437 - val_loss: 0.6321\n",
      "Epoch 51/100\n",
      "8000/8000 [==============================] - 9s 1ms/step - loss: 0.1404 - val_loss: 0.6296\n",
      "Epoch 52/100\n",
      "8000/8000 [==============================] - 8s 1ms/step - loss: 0.1374 - val_loss: 0.6426\n",
      "Epoch 53/100\n",
      "8000/8000 [==============================] - 8s 1ms/step - loss: 0.1345 - val_loss: 0.6487\n",
      "Epoch 54/100\n",
      "8000/8000 [==============================] - 9s 1ms/step - loss: 0.1314 - val_loss: 0.6531\n",
      "Epoch 55/100\n",
      "8000/8000 [==============================] - 8s 1ms/step - loss: 0.1287 - val_loss: 0.6570\n",
      "Epoch 56/100\n",
      "8000/8000 [==============================] - 8s 1ms/step - loss: 0.1258 - val_loss: 0.6710\n",
      "Epoch 57/100\n",
      "8000/8000 [==============================] - 8s 956us/step - loss: 0.1232 - val_loss: 0.6696\n",
      "Epoch 58/100\n",
      "8000/8000 [==============================] - 9s 1ms/step - loss: 0.1208 - val_loss: 0.6771\n",
      "Epoch 59/100\n",
      "8000/8000 [==============================] - 8s 1ms/step - loss: 0.1185 - val_loss: 0.6803\n",
      "Epoch 60/100\n",
      "8000/8000 [==============================] - 8s 1ms/step - loss: 0.1160 - val_loss: 0.6865\n",
      "Epoch 61/100\n",
      "8000/8000 [==============================] - 8s 1ms/step - loss: 0.1133 - val_loss: 0.6887\n",
      "Epoch 62/100\n",
      "8000/8000 [==============================] - 8s 961us/step - loss: 0.1113 - val_loss: 0.6953\n",
      "Epoch 63/100\n",
      "8000/8000 [==============================] - 9s 1ms/step - loss: 0.1091 - val_loss: 0.7064\n",
      "Epoch 64/100\n",
      "8000/8000 [==============================] - 8s 1ms/step - loss: 0.1074 - val_loss: 0.7093\n",
      "Epoch 65/100\n",
      "8000/8000 [==============================] - 9s 1ms/step - loss: 0.1046 - val_loss: 0.7108\n",
      "Epoch 66/100\n",
      "8000/8000 [==============================] - 9s 1ms/step - loss: 0.1031 - val_loss: 0.7210\n",
      "Epoch 67/100\n",
      "8000/8000 [==============================] - 8s 1ms/step - loss: 0.1011 - val_loss: 0.7268\n",
      "Epoch 68/100\n",
      "8000/8000 [==============================] - 8s 950us/step - loss: 0.0989 - val_loss: 0.7277\n",
      "Epoch 69/100\n",
      "8000/8000 [==============================] - 8s 1ms/step - loss: 0.0973 - val_loss: 0.7351\n",
      "Epoch 70/100\n",
      "8000/8000 [==============================] - 8s 1ms/step - loss: 0.0954 - val_loss: 0.7338\n",
      "Epoch 71/100\n",
      "8000/8000 [==============================] - 8s 1ms/step - loss: 0.0941 - val_loss: 0.7389\n",
      "Epoch 72/100\n",
      "8000/8000 [==============================] - 8s 1ms/step - loss: 0.0922 - val_loss: 0.7453\n",
      "Epoch 73/100\n",
      "8000/8000 [==============================] - 8s 1ms/step - loss: 0.0907 - val_loss: 0.7533\n",
      "Epoch 74/100\n",
      "8000/8000 [==============================] - 8s 1ms/step - loss: 0.0885 - val_loss: 0.7651\n",
      "Epoch 75/100\n",
      "8000/8000 [==============================] - 8s 995us/step - loss: 0.0876 - val_loss: 0.7571\n",
      "Epoch 76/100\n",
      "8000/8000 [==============================] - 9s 1ms/step - loss: 0.0858 - val_loss: 0.7685\n",
      "Epoch 77/100\n",
      "8000/8000 [==============================] - 7s 882us/step - loss: 0.0839 - val_loss: 0.7743\n",
      "Epoch 78/100\n"
     ]
    },
    {
     "name": "stdout",
     "output_type": "stream",
     "text": [
      "8000/8000 [==============================] - 7s 832us/step - loss: 0.0828 - val_loss: 0.7761\n",
      "Epoch 79/100\n",
      "8000/8000 [==============================] - 7s 839us/step - loss: 0.0811 - val_loss: 0.7822\n",
      "Epoch 80/100\n",
      "8000/8000 [==============================] - 7s 853us/step - loss: 0.0803 - val_loss: 0.7825\n",
      "Epoch 81/100\n",
      "8000/8000 [==============================] - 7s 837us/step - loss: 0.0785 - val_loss: 0.7887\n",
      "Epoch 82/100\n",
      "8000/8000 [==============================] - 6s 806us/step - loss: 0.0772 - val_loss: 0.8007\n",
      "Epoch 83/100\n",
      "8000/8000 [==============================] - 7s 834us/step - loss: 0.0764 - val_loss: 0.8003\n",
      "Epoch 84/100\n",
      "8000/8000 [==============================] - 7s 861us/step - loss: 0.0747 - val_loss: 0.8004\n",
      "Epoch 85/100\n",
      "8000/8000 [==============================] - 6s 790us/step - loss: 0.0734 - val_loss: 0.8121\n",
      "Epoch 86/100\n",
      "8000/8000 [==============================] - 6s 788us/step - loss: 0.0724 - val_loss: 0.8147\n",
      "Epoch 87/100\n",
      "8000/8000 [==============================] - 6s 792us/step - loss: 0.0714 - val_loss: 0.8226\n",
      "Epoch 88/100\n",
      "8000/8000 [==============================] - 6s 790us/step - loss: 0.0701 - val_loss: 0.8232\n",
      "Epoch 89/100\n",
      "8000/8000 [==============================] - 6s 793us/step - loss: 0.0689 - val_loss: 0.8279\n",
      "Epoch 90/100\n",
      "8000/8000 [==============================] - 6s 789us/step - loss: 0.0678 - val_loss: 0.8272\n",
      "Epoch 91/100\n",
      "8000/8000 [==============================] - 6s 790us/step - loss: 0.0670 - val_loss: 0.8414\n",
      "Epoch 92/100\n",
      "8000/8000 [==============================] - 6s 797us/step - loss: 0.0658 - val_loss: 0.8357\n",
      "Epoch 93/100\n",
      "8000/8000 [==============================] - 6s 804us/step - loss: 0.0650 - val_loss: 0.8407\n",
      "Epoch 94/100\n",
      "8000/8000 [==============================] - 6s 809us/step - loss: 0.0637 - val_loss: 0.8503\n",
      "Epoch 95/100\n",
      "8000/8000 [==============================] - 6s 806us/step - loss: 0.0625 - val_loss: 0.8558\n",
      "Epoch 96/100\n",
      "8000/8000 [==============================] - 7s 867us/step - loss: 0.0620 - val_loss: 0.8609\n",
      "Epoch 97/100\n",
      "8000/8000 [==============================] - 6s 810us/step - loss: 0.0605 - val_loss: 0.8653\n",
      "Epoch 98/100\n",
      "8000/8000 [==============================] - 7s 845us/step - loss: 0.0602 - val_loss: 0.8660\n",
      "Epoch 99/100\n",
      "8000/8000 [==============================] - 7s 823us/step - loss: 0.0589 - val_loss: 0.8707\n",
      "Epoch 100/100\n",
      "8000/8000 [==============================] - 6s 809us/step - loss: 0.0579 - val_loss: 0.8732\n"
     ]
    },
    {
     "data": {
      "text/plain": [
       "<keras.callbacks.callbacks.History at 0x1b1b8255608>"
      ]
     },
     "execution_count": 35,
     "metadata": {},
     "output_type": "execute_result"
    }
   ],
   "source": [
    " model.fit([encoder_input_data, decoder_input_data],\n",
    "           decoder_target_data, batch_size=batch_size,\n",
    "           epochs=epochs, validation_split=0.2)"
   ]
  },
  {
   "cell_type": "code",
   "execution_count": null,
   "metadata": {},
   "outputs": [],
   "source": []
  },
  {
   "cell_type": "code",
   "execution_count": null,
   "metadata": {},
   "outputs": [],
   "source": []
  },
  {
   "cell_type": "code",
   "execution_count": null,
   "metadata": {},
   "outputs": [],
   "source": []
  },
  {
   "cell_type": "code",
   "execution_count": null,
   "metadata": {},
   "outputs": [],
   "source": []
  },
  {
   "cell_type": "code",
   "execution_count": null,
   "metadata": {},
   "outputs": [],
   "source": []
  },
  {
   "cell_type": "code",
   "execution_count": null,
   "metadata": {},
   "outputs": [],
   "source": []
  },
  {
   "cell_type": "code",
   "execution_count": null,
   "metadata": {},
   "outputs": [],
   "source": []
  },
  {
   "cell_type": "code",
   "execution_count": null,
   "metadata": {},
   "outputs": [],
   "source": []
  },
  {
   "cell_type": "code",
   "execution_count": null,
   "metadata": {},
   "outputs": [],
   "source": []
  },
  {
   "cell_type": "code",
   "execution_count": null,
   "metadata": {},
   "outputs": [],
   "source": []
  },
  {
   "cell_type": "code",
   "execution_count": null,
   "metadata": {},
   "outputs": [],
   "source": []
  },
  {
   "cell_type": "code",
   "execution_count": null,
   "metadata": {},
   "outputs": [],
   "source": []
  },
  {
   "cell_type": "code",
   "execution_count": null,
   "metadata": {},
   "outputs": [],
   "source": []
  },
  {
   "cell_type": "code",
   "execution_count": null,
   "metadata": {},
   "outputs": [],
   "source": []
  },
  {
   "cell_type": "code",
   "execution_count": null,
   "metadata": {},
   "outputs": [],
   "source": []
  },
  {
   "cell_type": "code",
   "execution_count": null,
   "metadata": {},
   "outputs": [],
   "source": []
  },
  {
   "cell_type": "code",
   "execution_count": null,
   "metadata": {},
   "outputs": [],
   "source": []
  },
  {
   "cell_type": "code",
   "execution_count": null,
   "metadata": {},
   "outputs": [],
   "source": []
  },
  {
   "cell_type": "code",
   "execution_count": null,
   "metadata": {},
   "outputs": [],
   "source": []
  },
  {
   "cell_type": "code",
   "execution_count": null,
   "metadata": {},
   "outputs": [],
   "source": []
  },
  {
   "cell_type": "code",
   "execution_count": null,
   "metadata": {},
   "outputs": [],
   "source": []
  },
  {
   "cell_type": "code",
   "execution_count": null,
   "metadata": {},
   "outputs": [],
   "source": []
  },
  {
   "cell_type": "code",
   "execution_count": null,
   "metadata": {},
   "outputs": [],
   "source": []
  },
  {
   "cell_type": "code",
   "execution_count": null,
   "metadata": {},
   "outputs": [],
   "source": []
  },
  {
   "cell_type": "code",
   "execution_count": null,
   "metadata": {},
   "outputs": [],
   "source": []
  },
  {
   "cell_type": "code",
   "execution_count": null,
   "metadata": {},
   "outputs": [],
   "source": []
  },
  {
   "cell_type": "code",
   "execution_count": null,
   "metadata": {},
   "outputs": [],
   "source": []
  },
  {
   "cell_type": "code",
   "execution_count": null,
   "metadata": {},
   "outputs": [],
   "source": []
  },
  {
   "cell_type": "code",
   "execution_count": null,
   "metadata": {},
   "outputs": [],
   "source": []
  },
  {
   "cell_type": "code",
   "execution_count": null,
   "metadata": {},
   "outputs": [],
   "source": []
  },
  {
   "cell_type": "code",
   "execution_count": null,
   "metadata": {},
   "outputs": [],
   "source": []
  },
  {
   "cell_type": "code",
   "execution_count": null,
   "metadata": {},
   "outputs": [],
   "source": []
  },
  {
   "cell_type": "code",
   "execution_count": null,
   "metadata": {},
   "outputs": [],
   "source": []
  },
  {
   "cell_type": "code",
   "execution_count": null,
   "metadata": {},
   "outputs": [],
   "source": []
  },
  {
   "cell_type": "code",
   "execution_count": null,
   "metadata": {},
   "outputs": [],
   "source": []
  },
  {
   "cell_type": "code",
   "execution_count": null,
   "metadata": {},
   "outputs": [],
   "source": []
  },
  {
   "cell_type": "code",
   "execution_count": null,
   "metadata": {},
   "outputs": [],
   "source": []
  },
  {
   "cell_type": "code",
   "execution_count": null,
   "metadata": {},
   "outputs": [],
   "source": []
  },
  {
   "cell_type": "code",
   "execution_count": null,
   "metadata": {},
   "outputs": [],
   "source": []
  },
  {
   "cell_type": "code",
   "execution_count": null,
   "metadata": {},
   "outputs": [],
   "source": []
  },
  {
   "cell_type": "code",
   "execution_count": null,
   "metadata": {},
   "outputs": [],
   "source": []
  },
  {
   "cell_type": "code",
   "execution_count": null,
   "metadata": {},
   "outputs": [],
   "source": []
  },
  {
   "cell_type": "code",
   "execution_count": null,
   "metadata": {},
   "outputs": [],
   "source": []
  },
  {
   "cell_type": "code",
   "execution_count": null,
   "metadata": {},
   "outputs": [],
   "source": []
  },
  {
   "cell_type": "code",
   "execution_count": null,
   "metadata": {},
   "outputs": [],
   "source": []
  },
  {
   "cell_type": "code",
   "execution_count": null,
   "metadata": {},
   "outputs": [],
   "source": []
  },
  {
   "cell_type": "code",
   "execution_count": null,
   "metadata": {},
   "outputs": [],
   "source": []
  },
  {
   "cell_type": "code",
   "execution_count": null,
   "metadata": {},
   "outputs": [],
   "source": []
  },
  {
   "cell_type": "code",
   "execution_count": null,
   "metadata": {},
   "outputs": [],
   "source": []
  },
  {
   "cell_type": "code",
   "execution_count": null,
   "metadata": {},
   "outputs": [],
   "source": []
  },
  {
   "cell_type": "code",
   "execution_count": null,
   "metadata": {},
   "outputs": [],
   "source": []
  },
  {
   "cell_type": "code",
   "execution_count": null,
   "metadata": {},
   "outputs": [],
   "source": []
  },
  {
   "cell_type": "code",
   "execution_count": null,
   "metadata": {},
   "outputs": [],
   "source": []
  },
  {
   "cell_type": "code",
   "execution_count": null,
   "metadata": {},
   "outputs": [],
   "source": []
  },
  {
   "cell_type": "code",
   "execution_count": null,
   "metadata": {},
   "outputs": [],
   "source": []
  },
  {
   "cell_type": "code",
   "execution_count": null,
   "metadata": {},
   "outputs": [],
   "source": []
  },
  {
   "cell_type": "code",
   "execution_count": null,
   "metadata": {},
   "outputs": [],
   "source": [
    "\n"
   ]
  },
  {
   "cell_type": "code",
   "execution_count": null,
   "metadata": {},
   "outputs": [],
   "source": []
  },
  {
   "cell_type": "code",
   "execution_count": null,
   "metadata": {},
   "outputs": [],
   "source": []
  },
  {
   "cell_type": "code",
   "execution_count": null,
   "metadata": {},
   "outputs": [],
   "source": []
  },
  {
   "cell_type": "code",
   "execution_count": null,
   "metadata": {},
   "outputs": [],
   "source": []
  },
  {
   "cell_type": "code",
   "execution_count": null,
   "metadata": {},
   "outputs": [],
   "source": []
  },
  {
   "cell_type": "code",
   "execution_count": null,
   "metadata": {},
   "outputs": [],
   "source": []
  },
  {
   "cell_type": "code",
   "execution_count": null,
   "metadata": {},
   "outputs": [],
   "source": []
  },
  {
   "cell_type": "code",
   "execution_count": null,
   "metadata": {},
   "outputs": [],
   "source": []
  },
  {
   "cell_type": "code",
   "execution_count": null,
   "metadata": {},
   "outputs": [],
   "source": []
  },
  {
   "cell_type": "code",
   "execution_count": null,
   "metadata": {},
   "outputs": [],
   "source": []
  },
  {
   "cell_type": "code",
   "execution_count": null,
   "metadata": {},
   "outputs": [],
   "source": []
  },
  {
   "cell_type": "code",
   "execution_count": null,
   "metadata": {},
   "outputs": [],
   "source": []
  },
  {
   "cell_type": "code",
   "execution_count": null,
   "metadata": {},
   "outputs": [],
   "source": []
  },
  {
   "cell_type": "code",
   "execution_count": null,
   "metadata": {},
   "outputs": [],
   "source": []
  },
  {
   "cell_type": "code",
   "execution_count": null,
   "metadata": {},
   "outputs": [],
   "source": []
  },
  {
   "cell_type": "code",
   "execution_count": null,
   "metadata": {},
   "outputs": [],
   "source": []
  },
  {
   "cell_type": "code",
   "execution_count": null,
   "metadata": {},
   "outputs": [],
   "source": []
  },
  {
   "cell_type": "code",
   "execution_count": null,
   "metadata": {},
   "outputs": [],
   "source": []
  },
  {
   "cell_type": "code",
   "execution_count": null,
   "metadata": {},
   "outputs": [],
   "source": []
  },
  {
   "cell_type": "code",
   "execution_count": null,
   "metadata": {},
   "outputs": [],
   "source": []
  },
  {
   "cell_type": "code",
   "execution_count": null,
   "metadata": {},
   "outputs": [],
   "source": []
  },
  {
   "cell_type": "code",
   "execution_count": null,
   "metadata": {},
   "outputs": [],
   "source": []
  },
  {
   "cell_type": "code",
   "execution_count": null,
   "metadata": {},
   "outputs": [],
   "source": []
  },
  {
   "cell_type": "code",
   "execution_count": null,
   "metadata": {},
   "outputs": [],
   "source": []
  },
  {
   "cell_type": "code",
   "execution_count": null,
   "metadata": {},
   "outputs": [],
   "source": []
  },
  {
   "cell_type": "code",
   "execution_count": null,
   "metadata": {},
   "outputs": [],
   "source": []
  },
  {
   "cell_type": "code",
   "execution_count": null,
   "metadata": {},
   "outputs": [],
   "source": []
  },
  {
   "cell_type": "code",
   "execution_count": null,
   "metadata": {},
   "outputs": [],
   "source": []
  },
  {
   "cell_type": "code",
   "execution_count": null,
   "metadata": {},
   "outputs": [],
   "source": []
  },
  {
   "cell_type": "code",
   "execution_count": null,
   "metadata": {},
   "outputs": [],
   "source": []
  },
  {
   "cell_type": "code",
   "execution_count": null,
   "metadata": {},
   "outputs": [],
   "source": []
  },
  {
   "cell_type": "code",
   "execution_count": null,
   "metadata": {},
   "outputs": [],
   "source": []
  },
  {
   "cell_type": "code",
   "execution_count": null,
   "metadata": {},
   "outputs": [],
   "source": []
  },
  {
   "cell_type": "code",
   "execution_count": null,
   "metadata": {},
   "outputs": [],
   "source": []
  },
  {
   "cell_type": "code",
   "execution_count": null,
   "metadata": {},
   "outputs": [],
   "source": []
  },
  {
   "cell_type": "code",
   "execution_count": null,
   "metadata": {},
   "outputs": [],
   "source": []
  }
 ],
 "metadata": {
  "kernelspec": {
   "display_name": "Python 3",
   "language": "python",
   "name": "python3"
  },
  "language_info": {
   "codemirror_mode": {
    "name": "ipython",
    "version": 3
   },
   "file_extension": ".py",
   "mimetype": "text/x-python",
   "name": "python",
   "nbconvert_exporter": "python",
   "pygments_lexer": "ipython3",
   "version": "3.7.7"
  }
 },
 "nbformat": 4,
 "nbformat_minor": 4
}
