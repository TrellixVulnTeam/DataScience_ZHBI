{
 "cells": [
  {
   "cell_type": "code",
   "execution_count": 1,
   "metadata": {},
   "outputs": [
    {
     "data": {
      "application/javascript": [
       "\n",
       "        if (window._pyforest_update_imports_cell) { window._pyforest_update_imports_cell('import matplotlib.pyplot as plt'); }\n",
       "    "
      ],
      "text/plain": [
       "<IPython.core.display.Javascript object>"
      ]
     },
     "metadata": {},
     "output_type": "display_data"
    }
   ],
   "source": [
    "import numpy as np\n",
    "import pandas as pd\n",
    "import matplotlib.pyplot as pl\n",
    "import seaborn as sns\n",
    "import plotly.express as px\n",
    "import plotly.graph_objs as go\n",
    "sns.set_style('whitegrid')\n",
    "plt.style.use('fivethirtyeight')\n",
    "%matplotlib inline\n",
    "from pandas_datareader.data import DataReader\n",
    "from datetime import datetime"
   ]
  },
  {
   "cell_type": "code",
   "execution_count": null,
   "metadata": {},
   "outputs": [],
   "source": []
  },
  {
   "cell_type": "code",
   "execution_count": 2,
   "metadata": {},
   "outputs": [],
   "source": [
    "hist_quotes_df=pd.read_csv('HistoricalQuotes.csv')"
   ]
  },
  {
   "cell_type": "code",
   "execution_count": 3,
   "metadata": {},
   "outputs": [
    {
     "data": {
      "text/html": [
       "<div>\n",
       "<style scoped>\n",
       "    .dataframe tbody tr th:only-of-type {\n",
       "        vertical-align: middle;\n",
       "    }\n",
       "\n",
       "    .dataframe tbody tr th {\n",
       "        vertical-align: top;\n",
       "    }\n",
       "\n",
       "    .dataframe thead th {\n",
       "        text-align: right;\n",
       "    }\n",
       "</style>\n",
       "<table border=\"1\" class=\"dataframe\">\n",
       "  <thead>\n",
       "    <tr style=\"text-align: right;\">\n",
       "      <th></th>\n",
       "      <th>Date</th>\n",
       "      <th>Close/Last</th>\n",
       "      <th>Volume</th>\n",
       "      <th>Open</th>\n",
       "      <th>High</th>\n",
       "      <th>Low</th>\n",
       "    </tr>\n",
       "  </thead>\n",
       "  <tbody>\n",
       "    <tr>\n",
       "      <th>0</th>\n",
       "      <td>02/28/2020</td>\n",
       "      <td>$273.36</td>\n",
       "      <td>106721200</td>\n",
       "      <td>$257.26</td>\n",
       "      <td>$278.41</td>\n",
       "      <td>$256.37</td>\n",
       "    </tr>\n",
       "    <tr>\n",
       "      <th>1</th>\n",
       "      <td>02/27/2020</td>\n",
       "      <td>$273.52</td>\n",
       "      <td>80151380</td>\n",
       "      <td>$281.1</td>\n",
       "      <td>$286</td>\n",
       "      <td>$272.96</td>\n",
       "    </tr>\n",
       "    <tr>\n",
       "      <th>2</th>\n",
       "      <td>02/26/2020</td>\n",
       "      <td>$292.65</td>\n",
       "      <td>49678430</td>\n",
       "      <td>$286.53</td>\n",
       "      <td>$297.88</td>\n",
       "      <td>$286.5</td>\n",
       "    </tr>\n",
       "    <tr>\n",
       "      <th>3</th>\n",
       "      <td>02/25/2020</td>\n",
       "      <td>$288.08</td>\n",
       "      <td>57668360</td>\n",
       "      <td>$300.95</td>\n",
       "      <td>$302.53</td>\n",
       "      <td>$286.13</td>\n",
       "    </tr>\n",
       "    <tr>\n",
       "      <th>4</th>\n",
       "      <td>02/24/2020</td>\n",
       "      <td>$298.18</td>\n",
       "      <td>55548830</td>\n",
       "      <td>$297.26</td>\n",
       "      <td>$304.18</td>\n",
       "      <td>$289.23</td>\n",
       "    </tr>\n",
       "  </tbody>\n",
       "</table>\n",
       "</div>"
      ],
      "text/plain": [
       "         Date  Close/Last     Volume      Open      High       Low\n",
       "0  02/28/2020     $273.36  106721200   $257.26   $278.41   $256.37\n",
       "1  02/27/2020     $273.52   80151380    $281.1      $286   $272.96\n",
       "2  02/26/2020     $292.65   49678430   $286.53   $297.88    $286.5\n",
       "3  02/25/2020     $288.08   57668360   $300.95   $302.53   $286.13\n",
       "4  02/24/2020     $298.18   55548830   $297.26   $304.18   $289.23"
      ]
     },
     "execution_count": 3,
     "metadata": {},
     "output_type": "execute_result"
    }
   ],
   "source": [
    "hist_quotes_df.head()"
   ]
  },
  {
   "cell_type": "code",
   "execution_count": 4,
   "metadata": {},
   "outputs": [],
   "source": [
    "tech_list=['AAPL','GOOG','MSFT','AMZN']\n",
    "\n",
    "end=datetime.now()\n",
    "\n",
    "start=datetime(end.year-1,end.month,end.day)\n",
    "\n",
    "for stock in tech_list:\n",
    "    globals()[stock]=DataReader(stock,'yahoo',start,end)"
   ]
  },
  {
   "cell_type": "code",
   "execution_count": 5,
   "metadata": {},
   "outputs": [
    {
     "data": {
      "text/plain": [
       "'AMZN'"
      ]
     },
     "execution_count": 5,
     "metadata": {},
     "output_type": "execute_result"
    }
   ],
   "source": [
    "stock"
   ]
  },
  {
   "cell_type": "code",
   "execution_count": 11,
   "metadata": {},
   "outputs": [
    {
     "data": {
      "text/html": [
       "<div>\n",
       "<style scoped>\n",
       "    .dataframe tbody tr th:only-of-type {\n",
       "        vertical-align: middle;\n",
       "    }\n",
       "\n",
       "    .dataframe tbody tr th {\n",
       "        vertical-align: top;\n",
       "    }\n",
       "\n",
       "    .dataframe thead th {\n",
       "        text-align: right;\n",
       "    }\n",
       "</style>\n",
       "<table border=\"1\" class=\"dataframe\">\n",
       "  <thead>\n",
       "    <tr style=\"text-align: right;\">\n",
       "      <th></th>\n",
       "      <th>High</th>\n",
       "      <th>Low</th>\n",
       "      <th>Open</th>\n",
       "      <th>Close</th>\n",
       "      <th>Volume</th>\n",
       "      <th>Adj Close</th>\n",
       "    </tr>\n",
       "    <tr>\n",
       "      <th>Date</th>\n",
       "      <th></th>\n",
       "      <th></th>\n",
       "      <th></th>\n",
       "      <th></th>\n",
       "      <th></th>\n",
       "      <th></th>\n",
       "    </tr>\n",
       "  </thead>\n",
       "  <tbody>\n",
       "    <tr>\n",
       "      <th>2019-11-11</th>\n",
       "      <td>1780.000000</td>\n",
       "      <td>1767.130005</td>\n",
       "      <td>1778.000000</td>\n",
       "      <td>1771.650024</td>\n",
       "      <td>1946000</td>\n",
       "      <td>1771.650024</td>\n",
       "    </tr>\n",
       "    <tr>\n",
       "      <th>2019-11-12</th>\n",
       "      <td>1786.219971</td>\n",
       "      <td>1771.910034</td>\n",
       "      <td>1774.660034</td>\n",
       "      <td>1778.000000</td>\n",
       "      <td>2037600</td>\n",
       "      <td>1778.000000</td>\n",
       "    </tr>\n",
       "    <tr>\n",
       "      <th>2019-11-13</th>\n",
       "      <td>1775.000000</td>\n",
       "      <td>1747.319946</td>\n",
       "      <td>1773.390015</td>\n",
       "      <td>1753.109985</td>\n",
       "      <td>2989500</td>\n",
       "      <td>1753.109985</td>\n",
       "    </tr>\n",
       "    <tr>\n",
       "      <th>2019-11-14</th>\n",
       "      <td>1766.589966</td>\n",
       "      <td>1749.560059</td>\n",
       "      <td>1751.430054</td>\n",
       "      <td>1754.599976</td>\n",
       "      <td>2264800</td>\n",
       "      <td>1754.599976</td>\n",
       "    </tr>\n",
       "    <tr>\n",
       "      <th>2019-11-15</th>\n",
       "      <td>1761.680054</td>\n",
       "      <td>1732.859985</td>\n",
       "      <td>1760.050049</td>\n",
       "      <td>1739.489990</td>\n",
       "      <td>3927600</td>\n",
       "      <td>1739.489990</td>\n",
       "    </tr>\n",
       "  </tbody>\n",
       "</table>\n",
       "</div>"
      ],
      "text/plain": [
       "                   High          Low         Open        Close   Volume  \\\n",
       "Date                                                                      \n",
       "2019-11-11  1780.000000  1767.130005  1778.000000  1771.650024  1946000   \n",
       "2019-11-12  1786.219971  1771.910034  1774.660034  1778.000000  2037600   \n",
       "2019-11-13  1775.000000  1747.319946  1773.390015  1753.109985  2989500   \n",
       "2019-11-14  1766.589966  1749.560059  1751.430054  1754.599976  2264800   \n",
       "2019-11-15  1761.680054  1732.859985  1760.050049  1739.489990  3927600   \n",
       "\n",
       "              Adj Close  \n",
       "Date                     \n",
       "2019-11-11  1771.650024  \n",
       "2019-11-12  1778.000000  \n",
       "2019-11-13  1753.109985  \n",
       "2019-11-14  1754.599976  \n",
       "2019-11-15  1739.489990  "
      ]
     },
     "execution_count": 11,
     "metadata": {},
     "output_type": "execute_result"
    }
   ],
   "source": [
    "globals()[stock].head()\n"
   ]
  },
  {
   "cell_type": "code",
   "execution_count": 20,
   "metadata": {},
   "outputs": [
    {
     "data": {
      "text/html": [
       "<div>\n",
       "<style scoped>\n",
       "    .dataframe tbody tr th:only-of-type {\n",
       "        vertical-align: middle;\n",
       "    }\n",
       "\n",
       "    .dataframe tbody tr th {\n",
       "        vertical-align: top;\n",
       "    }\n",
       "\n",
       "    .dataframe thead th {\n",
       "        text-align: right;\n",
       "    }\n",
       "</style>\n",
       "<table border=\"1\" class=\"dataframe\">\n",
       "  <thead>\n",
       "    <tr style=\"text-align: right;\">\n",
       "      <th></th>\n",
       "      <th>High</th>\n",
       "      <th>Low</th>\n",
       "      <th>Open</th>\n",
       "      <th>Close</th>\n",
       "      <th>Volume</th>\n",
       "      <th>Adj Close</th>\n",
       "      <th>company_name</th>\n",
       "    </tr>\n",
       "    <tr>\n",
       "      <th>Date</th>\n",
       "      <th></th>\n",
       "      <th></th>\n",
       "      <th></th>\n",
       "      <th></th>\n",
       "      <th></th>\n",
       "      <th></th>\n",
       "      <th></th>\n",
       "    </tr>\n",
       "  </thead>\n",
       "  <tbody>\n",
       "    <tr>\n",
       "      <th>2019-11-11</th>\n",
       "      <td>65.617500</td>\n",
       "      <td>64.570000</td>\n",
       "      <td>64.574997</td>\n",
       "      <td>65.550003</td>\n",
       "      <td>81821200.0</td>\n",
       "      <td>64.460991</td>\n",
       "      <td>APPLE</td>\n",
       "    </tr>\n",
       "    <tr>\n",
       "      <th>2019-11-12</th>\n",
       "      <td>65.697502</td>\n",
       "      <td>65.230003</td>\n",
       "      <td>65.387497</td>\n",
       "      <td>65.489998</td>\n",
       "      <td>87388800.0</td>\n",
       "      <td>64.401978</td>\n",
       "      <td>APPLE</td>\n",
       "    </tr>\n",
       "    <tr>\n",
       "      <th>2019-11-13</th>\n",
       "      <td>66.195000</td>\n",
       "      <td>65.267502</td>\n",
       "      <td>65.282501</td>\n",
       "      <td>66.117500</td>\n",
       "      <td>102734400.0</td>\n",
       "      <td>65.019051</td>\n",
       "      <td>APPLE</td>\n",
       "    </tr>\n",
       "    <tr>\n",
       "      <th>2019-11-14</th>\n",
       "      <td>66.220001</td>\n",
       "      <td>65.525002</td>\n",
       "      <td>65.937500</td>\n",
       "      <td>65.660004</td>\n",
       "      <td>89182800.0</td>\n",
       "      <td>64.569160</td>\n",
       "      <td>APPLE</td>\n",
       "    </tr>\n",
       "    <tr>\n",
       "      <th>2019-11-15</th>\n",
       "      <td>66.445000</td>\n",
       "      <td>65.752502</td>\n",
       "      <td>65.919998</td>\n",
       "      <td>66.440002</td>\n",
       "      <td>100206400.0</td>\n",
       "      <td>65.336212</td>\n",
       "      <td>APPLE</td>\n",
       "    </tr>\n",
       "  </tbody>\n",
       "</table>\n",
       "</div>"
      ],
      "text/plain": [
       "                 High        Low       Open      Close       Volume  \\\n",
       "Date                                                                  \n",
       "2019-11-11  65.617500  64.570000  64.574997  65.550003   81821200.0   \n",
       "2019-11-12  65.697502  65.230003  65.387497  65.489998   87388800.0   \n",
       "2019-11-13  66.195000  65.267502  65.282501  66.117500  102734400.0   \n",
       "2019-11-14  66.220001  65.525002  65.937500  65.660004   89182800.0   \n",
       "2019-11-15  66.445000  65.752502  65.919998  66.440002  100206400.0   \n",
       "\n",
       "            Adj Close company_name  \n",
       "Date                                \n",
       "2019-11-11  64.460991        APPLE  \n",
       "2019-11-12  64.401978        APPLE  \n",
       "2019-11-13  65.019051        APPLE  \n",
       "2019-11-14  64.569160        APPLE  \n",
       "2019-11-15  65.336212        APPLE  "
      ]
     },
     "execution_count": 20,
     "metadata": {},
     "output_type": "execute_result"
    }
   ],
   "source": [
    "company_list=[AAPL,GOOG,MSFT,AMZN]\n",
    "company_name=['APPLE','GOOGLE','MICROSOFT','AMAZON']\n",
    "\n",
    "for company,comp_name in zip(company_list,company_name):\n",
    "    company['company_name']=comp_name\n",
    "df=pd.concat(company_list,axis=0)\n",
    "df.head()"
   ]
  },
  {
   "cell_type": "code",
   "execution_count": null,
   "metadata": {},
   "outputs": [],
   "source": []
  },
  {
   "cell_type": "code",
   "execution_count": null,
   "metadata": {},
   "outputs": [],
   "source": []
  },
  {
   "cell_type": "code",
   "execution_count": null,
   "metadata": {},
   "outputs": [],
   "source": []
  },
  {
   "cell_type": "code",
   "execution_count": null,
   "metadata": {},
   "outputs": [],
   "source": []
  },
  {
   "cell_type": "code",
   "execution_count": null,
   "metadata": {},
   "outputs": [],
   "source": []
  },
  {
   "cell_type": "code",
   "execution_count": null,
   "metadata": {},
   "outputs": [],
   "source": []
  },
  {
   "cell_type": "code",
   "execution_count": null,
   "metadata": {},
   "outputs": [],
   "source": []
  },
  {
   "cell_type": "code",
   "execution_count": null,
   "metadata": {},
   "outputs": [],
   "source": []
  },
  {
   "cell_type": "code",
   "execution_count": null,
   "metadata": {},
   "outputs": [],
   "source": []
  },
  {
   "cell_type": "code",
   "execution_count": null,
   "metadata": {},
   "outputs": [],
   "source": []
  },
  {
   "cell_type": "code",
   "execution_count": null,
   "metadata": {},
   "outputs": [],
   "source": []
  },
  {
   "cell_type": "code",
   "execution_count": null,
   "metadata": {},
   "outputs": [],
   "source": []
  },
  {
   "cell_type": "code",
   "execution_count": null,
   "metadata": {},
   "outputs": [],
   "source": []
  },
  {
   "cell_type": "code",
   "execution_count": null,
   "metadata": {},
   "outputs": [],
   "source": []
  },
  {
   "cell_type": "code",
   "execution_count": null,
   "metadata": {},
   "outputs": [],
   "source": []
  },
  {
   "cell_type": "code",
   "execution_count": null,
   "metadata": {},
   "outputs": [],
   "source": []
  },
  {
   "cell_type": "code",
   "execution_count": null,
   "metadata": {},
   "outputs": [],
   "source": []
  },
  {
   "cell_type": "code",
   "execution_count": null,
   "metadata": {},
   "outputs": [],
   "source": []
  },
  {
   "cell_type": "code",
   "execution_count": null,
   "metadata": {},
   "outputs": [],
   "source": []
  },
  {
   "cell_type": "code",
   "execution_count": null,
   "metadata": {},
   "outputs": [],
   "source": []
  },
  {
   "cell_type": "code",
   "execution_count": null,
   "metadata": {},
   "outputs": [],
   "source": []
  },
  {
   "cell_type": "code",
   "execution_count": null,
   "metadata": {},
   "outputs": [],
   "source": []
  },
  {
   "cell_type": "code",
   "execution_count": null,
   "metadata": {},
   "outputs": [],
   "source": []
  },
  {
   "cell_type": "code",
   "execution_count": null,
   "metadata": {},
   "outputs": [],
   "source": []
  },
  {
   "cell_type": "code",
   "execution_count": null,
   "metadata": {},
   "outputs": [],
   "source": []
  },
  {
   "cell_type": "code",
   "execution_count": null,
   "metadata": {},
   "outputs": [],
   "source": []
  },
  {
   "cell_type": "code",
   "execution_count": null,
   "metadata": {},
   "outputs": [],
   "source": []
  },
  {
   "cell_type": "code",
   "execution_count": null,
   "metadata": {},
   "outputs": [],
   "source": []
  },
  {
   "cell_type": "code",
   "execution_count": null,
   "metadata": {},
   "outputs": [],
   "source": []
  },
  {
   "cell_type": "code",
   "execution_count": null,
   "metadata": {},
   "outputs": [],
   "source": []
  },
  {
   "cell_type": "code",
   "execution_count": null,
   "metadata": {},
   "outputs": [],
   "source": []
  },
  {
   "cell_type": "code",
   "execution_count": null,
   "metadata": {},
   "outputs": [],
   "source": []
  },
  {
   "cell_type": "code",
   "execution_count": null,
   "metadata": {},
   "outputs": [],
   "source": []
  },
  {
   "cell_type": "code",
   "execution_count": null,
   "metadata": {},
   "outputs": [],
   "source": []
  },
  {
   "cell_type": "code",
   "execution_count": null,
   "metadata": {},
   "outputs": [],
   "source": []
  },
  {
   "cell_type": "code",
   "execution_count": null,
   "metadata": {},
   "outputs": [],
   "source": []
  },
  {
   "cell_type": "code",
   "execution_count": null,
   "metadata": {},
   "outputs": [],
   "source": []
  }
 ],
 "metadata": {
  "kernelspec": {
   "display_name": "Python 3",
   "language": "python",
   "name": "python3"
  },
  "language_info": {
   "codemirror_mode": {
    "name": "ipython",
    "version": 3
   },
   "file_extension": ".py",
   "mimetype": "text/x-python",
   "name": "python",
   "nbconvert_exporter": "python",
   "pygments_lexer": "ipython3",
   "version": "3.7.7"
  }
 },
 "nbformat": 4,
 "nbformat_minor": 4
}
