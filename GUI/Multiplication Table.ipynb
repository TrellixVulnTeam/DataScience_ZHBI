{
 "cells": [
  {
   "cell_type": "code",
   "execution_count": 154,
   "metadata": {},
   "outputs": [],
   "source": [
    "# import tkinter\n",
    "from tkinter import *\n",
    "\n",
    "root=Tk()\n",
    "\n",
    "\n",
    "def printTable():\n",
    "    number=int(entry.get())\n",
    "    textdisplay.delete('1.0',END)\n",
    "    textdisplay.insert(END,\"Welcome to Multiplication    Table of \"+str(number)+\" : \\n\")\n",
    "\n",
    "    textdisplay.insert(END,\"**********************************\")\n",
    "    textdisplay.insert(END,\"\\n\")\n",
    "\n",
    "    \n",
    "    for i in range(1,11):\n",
    "        textdisplay.insert(END,\"\\t\"+str(number)+\" x \"+str(i)+\" = \"+str(number*i)+\"\\n\")\n",
    "    \n",
    "    textdisplay.insert(END,\"**********************************\\n\")\n",
    "    textdisplay.insert(END,\"Thanks for using my app\")\n",
    "\n",
    "number=StringVar() \n",
    "root.geometry('400x720')\n",
    "root.title('Multiplication Table')\n",
    "\n",
    "\n",
    "\n",
    "topframe=Frame(root,bg='violet',height=100,width=400,relief=RIDGE,bd=10)\n",
    "topframe.grid(row=0,column=1)\n",
    "\n",
    "entry=Entry(topframe,width=10,bd=15,justify=CENTER,\n",
    "           font=('ariel',47,'bold')\n",
    "           )\n",
    "entry.grid(row=1,column=0)\n",
    "\n",
    "midframe=Frame(root,bg='grey',height=500,width=400,relief=RIDGE,bd=10)\n",
    "midframe.grid(row=1,column=1)\n",
    "\n",
    "buttonframe=Frame(root,height=100,width=400,bg='pink',relief=RIDGE,bd=10)\n",
    "buttonframe.grid(row=2,column=1)\n",
    "\n",
    "textdisplay=Text(midframe,width=25,height=15,\n",
    "                font=('ariel',20,'bold'))\n",
    "textdisplay.grid(row=0,column=0)\n",
    "\n",
    "buttonMultiply=Button(buttonframe,height=1,width=10,text='Multiply',\n",
    "                     font=('ariel',25,'bold'),command=printTable)\n",
    "buttonMultiply.grid(row=0,column=0)\n",
    "\n",
    "root.mainloop()"
   ]
  },
  {
   "cell_type": "code",
   "execution_count": null,
   "metadata": {},
   "outputs": [],
   "source": []
  },
  {
   "cell_type": "code",
   "execution_count": null,
   "metadata": {},
   "outputs": [],
   "source": []
  },
  {
   "cell_type": "code",
   "execution_count": null,
   "metadata": {},
   "outputs": [],
   "source": []
  },
  {
   "cell_type": "code",
   "execution_count": null,
   "metadata": {},
   "outputs": [],
   "source": []
  },
  {
   "cell_type": "code",
   "execution_count": null,
   "metadata": {},
   "outputs": [],
   "source": []
  },
  {
   "cell_type": "code",
   "execution_count": null,
   "metadata": {},
   "outputs": [],
   "source": []
  },
  {
   "cell_type": "code",
   "execution_count": null,
   "metadata": {},
   "outputs": [],
   "source": []
  },
  {
   "cell_type": "code",
   "execution_count": null,
   "metadata": {},
   "outputs": [],
   "source": []
  },
  {
   "cell_type": "code",
   "execution_count": null,
   "metadata": {},
   "outputs": [],
   "source": []
  },
  {
   "cell_type": "code",
   "execution_count": null,
   "metadata": {},
   "outputs": [],
   "source": []
  },
  {
   "cell_type": "code",
   "execution_count": null,
   "metadata": {},
   "outputs": [],
   "source": []
  }
 ],
 "metadata": {
  "kernelspec": {
   "display_name": "Python 3",
   "language": "python",
   "name": "python3"
  },
  "language_info": {
   "codemirror_mode": {
    "name": "ipython",
    "version": 3
   },
   "file_extension": ".py",
   "mimetype": "text/x-python",
   "name": "python",
   "nbconvert_exporter": "python",
   "pygments_lexer": "ipython3",
   "version": "3.7.7"
  }
 },
 "nbformat": 4,
 "nbformat_minor": 4
}
