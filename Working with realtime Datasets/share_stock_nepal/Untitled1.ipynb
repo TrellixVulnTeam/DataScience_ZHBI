{
 "cells": [
  {
   "cell_type": "code",
   "execution_count": 1,
   "id": "d6522ab7",
   "metadata": {},
   "outputs": [],
   "source": [
    "import pandas as pd"
   ]
  },
  {
   "cell_type": "code",
   "execution_count": 2,
   "id": "db678e4d",
   "metadata": {},
   "outputs": [],
   "source": [
    "df = pd.read_csv('01_03_2021.csv')"
   ]
  },
  {
   "cell_type": "code",
   "execution_count": 3,
   "id": "8c73b50e",
   "metadata": {},
   "outputs": [
    {
     "data": {
      "text/html": [
       "<div>\n",
       "<style scoped>\n",
       "    .dataframe tbody tr th:only-of-type {\n",
       "        vertical-align: middle;\n",
       "    }\n",
       "\n",
       "    .dataframe tbody tr th {\n",
       "        vertical-align: top;\n",
       "    }\n",
       "\n",
       "    .dataframe thead th {\n",
       "        text-align: right;\n",
       "    }\n",
       "</style>\n",
       "<table border=\"1\" class=\"dataframe\">\n",
       "  <thead>\n",
       "    <tr style=\"text-align: right;\">\n",
       "      <th></th>\n",
       "      <th>Transact. No.</th>\n",
       "      <th>Symbol</th>\n",
       "      <th>Buyer</th>\n",
       "      <th>Seller</th>\n",
       "      <th>Quantity</th>\n",
       "      <th>Rate</th>\n",
       "      <th>Amount</th>\n",
       "    </tr>\n",
       "  </thead>\n",
       "  <tbody>\n",
       "    <tr>\n",
       "      <th>0</th>\n",
       "      <td>2021010304002221</td>\n",
       "      <td>BBC</td>\n",
       "      <td>5</td>\n",
       "      <td>7</td>\n",
       "      <td>30</td>\n",
       "      <td>2840.0</td>\n",
       "      <td>85200.0</td>\n",
       "    </tr>\n",
       "    <tr>\n",
       "      <th>1</th>\n",
       "      <td>2021010304002220</td>\n",
       "      <td>BBC</td>\n",
       "      <td>5</td>\n",
       "      <td>51</td>\n",
       "      <td>20</td>\n",
       "      <td>2840.0</td>\n",
       "      <td>56800.0</td>\n",
       "    </tr>\n",
       "    <tr>\n",
       "      <th>2</th>\n",
       "      <td>2021010304002082</td>\n",
       "      <td>BBC</td>\n",
       "      <td>58</td>\n",
       "      <td>56</td>\n",
       "      <td>20</td>\n",
       "      <td>2840.0</td>\n",
       "      <td>56800.0</td>\n",
       "    </tr>\n",
       "    <tr>\n",
       "      <th>3</th>\n",
       "      <td>2021010304002081</td>\n",
       "      <td>BBC</td>\n",
       "      <td>58</td>\n",
       "      <td>3</td>\n",
       "      <td>20</td>\n",
       "      <td>2830.0</td>\n",
       "      <td>56600.0</td>\n",
       "    </tr>\n",
       "    <tr>\n",
       "      <th>4</th>\n",
       "      <td>2021010304002067</td>\n",
       "      <td>BBC</td>\n",
       "      <td>58</td>\n",
       "      <td>20</td>\n",
       "      <td>200</td>\n",
       "      <td>2820.0</td>\n",
       "      <td>564000.0</td>\n",
       "    </tr>\n",
       "  </tbody>\n",
       "</table>\n",
       "</div>"
      ],
      "text/plain": [
       "      Transact. No. Symbol  Buyer  Seller Quantity    Rate    Amount\n",
       "0  2021010304002221    BBC      5       7       30  2840.0   85200.0\n",
       "1  2021010304002220    BBC      5      51       20  2840.0   56800.0\n",
       "2  2021010304002082    BBC     58      56       20  2840.0   56800.0\n",
       "3  2021010304002081    BBC     58       3       20  2830.0   56600.0\n",
       "4  2021010304002067    BBC     58      20      200  2820.0  564000.0"
      ]
     },
     "execution_count": 3,
     "metadata": {},
     "output_type": "execute_result"
    }
   ],
   "source": [
    "df.head()"
   ]
  },
  {
   "cell_type": "code",
   "execution_count": 6,
   "id": "5e6eacfe",
   "metadata": {},
   "outputs": [
    {
     "data": {
      "text/plain": [
       "2"
      ]
     },
     "execution_count": 6,
     "metadata": {},
     "output_type": "execute_result"
    }
   ],
   "source": [
    "df.duplicated('Transact. No.').sum()"
   ]
  }
 ],
 "metadata": {
  "kernelspec": {
   "display_name": "Python 3",
   "language": "python",
   "name": "python3"
  },
  "language_info": {
   "codemirror_mode": {
    "name": "ipython",
    "version": 3
   },
   "file_extension": ".py",
   "mimetype": "text/x-python",
   "name": "python",
   "nbconvert_exporter": "python",
   "pygments_lexer": "ipython3",
   "version": "3.9.5"
  }
 },
 "nbformat": 4,
 "nbformat_minor": 5
}
