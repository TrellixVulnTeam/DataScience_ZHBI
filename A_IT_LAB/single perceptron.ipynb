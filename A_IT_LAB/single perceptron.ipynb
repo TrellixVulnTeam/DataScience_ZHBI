{
 "cells": [
  {
   "cell_type": "code",
   "execution_count": null,
   "metadata": {},
   "outputs": [],
   "source": []
  },
  {
   "cell_type": "code",
   "execution_count": null,
   "metadata": {},
   "outputs": [],
   "source": []
  },
  {
   "cell_type": "code",
   "execution_count": null,
   "metadata": {},
   "outputs": [],
   "source": []
  },
  {
   "cell_type": "code",
   "execution_count": null,
   "metadata": {},
   "outputs": [],
   "source": []
  },
  {
   "cell_type": "code",
   "execution_count": null,
   "metadata": {},
   "outputs": [],
   "source": []
  },
  {
   "cell_type": "code",
   "execution_count": null,
   "metadata": {},
   "outputs": [],
   "source": []
  },
  {
   "cell_type": "code",
   "execution_count": null,
   "metadata": {},
   "outputs": [],
   "source": []
  },
  {
   "cell_type": "code",
   "execution_count": null,
   "metadata": {},
   "outputs": [],
   "source": []
  },
  {
   "cell_type": "code",
   "execution_count": null,
   "metadata": {},
   "outputs": [],
   "source": []
  },
  {
   "cell_type": "code",
   "execution_count": 292,
   "metadata": {},
   "outputs": [],
   "source": [
    "# Solving xor problem\n",
    "# 1 1 = 0\n",
    "# 0 1 = 1\n",
    "# 1 0 = 1\n",
    "# 0 0 = 0"
   ]
  },
  {
   "cell_type": "code",
   "execution_count": 293,
   "metadata": {},
   "outputs": [],
   "source": [
    "import numpy as np\n",
    "import matplotlib.pyplot as pl"
   ]
  },
  {
   "cell_type": "code",
   "execution_count": 294,
   "metadata": {},
   "outputs": [],
   "source": [
    "# Activation Function\n",
    "def sigmoid(x):\n",
    "    return 1/(1+np.exp(-x ))"
   ]
  },
  {
   "cell_type": "code",
   "execution_count": 295,
   "metadata": {},
   "outputs": [],
   "source": [
    "# Sigmoid derivatives\n",
    "def sigmoid_derivative(x):\n",
    "    return sigmoid(x)*(1-sigmoid(x))"
   ]
  },
  {
   "cell_type": "code",
   "execution_count": 296,
   "metadata": {},
   "outputs": [],
   "source": [
    "# Forward Function\n",
    "# Here np.matmul() and np.dot() is same\n",
    "def forward(x,w1,w2,predict=False):\n",
    "    a1=np.matmul(x,w1)\n",
    "    z1=sigmoid(a1)\n",
    "#   Create and add Bias\n",
    "    bias=np.ones((len(z1),1))\n",
    "    z1=np.concatenate((bias,z1),axis=1)\n",
    "    a2=np.matmul(z1,w2)\n",
    "    z2=sigmoid(a2)\n",
    "    if predict:\n",
    "        return z2\n",
    "    return a1,z1,a2,z2"
   ]
  },
  {
   "cell_type": "code",
   "execution_count": 297,
   "metadata": {},
   "outputs": [],
   "source": [
    "def back_prop(a1,z0,z1,z2,y):\n",
    "    delta2=z2-y\n",
    "    Delta2=np.matmul(z1.T,delta2)\n",
    "    delta1=(delta2.dot(w2[1:,:].T)*sigmoid_derivative(a1))\n",
    "    Delta1=np.matmul(z0.T,delta1)\n",
    "    return delta2,Delta1,Delta2"
   ]
  },
  {
   "cell_type": "code",
   "execution_count": 298,
   "metadata": {},
   "outputs": [
    {
     "data": {
      "text/plain": [
       "array([[1, 1, 0],\n",
       "       [1, 0, 1],\n",
       "       [1, 0, 0],\n",
       "       [1, 1, 1]])"
      ]
     },
     "execution_count": 298,
     "metadata": {},
     "output_type": "execute_result"
    }
   ],
   "source": [
    "# first column is Bias\n",
    "x=np.array([[1,1,0],[1,0,1],[1,0,0],[1,1,1]])\n",
    "x"
   ]
  },
  {
   "cell_type": "code",
   "execution_count": 299,
   "metadata": {},
   "outputs": [
    {
     "data": {
      "text/plain": [
       "array([[1],\n",
       "       [1],\n",
       "       [0],\n",
       "       [0]])"
      ]
     },
     "execution_count": 299,
     "metadata": {},
     "output_type": "execute_result"
    }
   ],
   "source": [
    "# Output label\n",
    "y=np.array([[1],[1],[0],[0]])\n",
    "y"
   ]
  },
  {
   "cell_type": "code",
   "execution_count": 300,
   "metadata": {},
   "outputs": [],
   "source": [
    "# initialize weights\n",
    "np.random.seed(1)\n",
    "w1=np.random.randn(3,5)\n",
    "w2=np.random.randn(6,1)"
   ]
  },
  {
   "cell_type": "code",
   "execution_count": 301,
   "metadata": {},
   "outputs": [],
   "source": [
    "lr=0.09\n",
    "costs=[]\n",
    "epochs=15000\n",
    "m=len(x)"
   ]
  },
  {
   "cell_type": "code",
   "execution_count": 302,
   "metadata": {},
   "outputs": [
    {
     "name": "stdout",
     "output_type": "stream",
     "text": [
      "Iteration:0.Error:0.5018721437293049\n",
      "Iteration:1000.Error:0.48070161499227126\n",
      "Iteration:2000.Error:0.48342775757060497\n",
      "Iteration:3000.Error:0.482892326359894\n",
      "Iteration:4000.Error:0.47769031498006786\n",
      "Iteration:5000.Error:0.4722496858788187\n",
      "Iteration:6000.Error:0.4668996057701478\n",
      "Iteration:7000.Error:0.4616329322502836\n",
      "Iteration:8000.Error:0.4564396679732647\n",
      "Iteration:9000.Error:0.451313812135239\n",
      "Iteration:10000.Error:0.44625213888864385\n",
      "Iteration:11000.Error:0.4412530937753039\n",
      "Iteration:12000.Error:0.4363160621663077\n",
      "Iteration:13000.Error:0.4314409208483508\n",
      "Iteration:14000.Error:0.426627773727062\n",
      "Training complete\n"
     ]
    }
   ],
   "source": [
    "for i in range(epochs):\n",
    "    a1,z1,a2,z2=forward(x,w1,w2)\n",
    "    delta2,Delta1,Delta2=back_prop(a2,x,z1,z2,y)\n",
    "    w1-=lr*(1/m)*Delta1\n",
    "    w2-=lr*(1/m)*Delta2\n",
    "    c=np.mean(np.abs(delta2))\n",
    "    costs.append(c)\n",
    "    if i%1000==0:\n",
    "        print(f\"Iteration:{i}.Error:{c}\")\n",
    "print(\"Training complete\")"
   ]
  },
  {
   "cell_type": "code",
   "execution_count": 310,
   "metadata": {},
   "outputs": [
    {
     "name": "stdout",
     "output_type": "stream",
     "text": [
      "Percentages:\n",
      "[[0.57813856]\n",
      " [0.57813307]\n",
      " [0.42196833]\n",
      " [0.42181051]]\n",
      "Prediction:\n",
      "[[1.]\n",
      " [1.]\n",
      " [0.]\n",
      " [0.]]\n"
     ]
    }
   ],
   "source": [
    "z3=forward(x,w1,w2,True)\n",
    "print(\"Percentages:\")\n",
    "print(z3)\n",
    "print(\"Prediction:\")\n",
    "print(np.round(z3))"
   ]
  },
  {
   "cell_type": "code",
   "execution_count": 304,
   "metadata": {},
   "outputs": [
    {
     "data": {
      "image/png": "[encoded data removed]",
      "text/plain": [
       "<Figure size 432x288 with 1 Axes>"
      ]
     },
     "metadata": {
      "needs_background": "light"
     },
     "output_type": "display_data"
    }
   ],
   "source": [
    "pl.plot(costs)\n",
    "pl.show()"
   ]
  },
  {
   "cell_type": "code",
   "execution_count": null,
   "metadata": {},
   "outputs": [],
   "source": []
  },
  {
   "cell_type": "code",
   "execution_count": null,
   "metadata": {},
   "outputs": [],
   "source": []
  },
  {
   "cell_type": "code",
   "execution_count": null,
   "metadata": {},
   "outputs": [],
   "source": []
  },
  {
   "cell_type": "code",
   "execution_count": null,
   "metadata": {},
   "outputs": [],
   "source": []
  },
  {
   "cell_type": "code",
   "execution_count": null,
   "metadata": {},
   "outputs": [],
   "source": []
  },
  {
   "cell_type": "code",
   "execution_count": null,
   "metadata": {},
   "outputs": [],
   "source": []
  },
  {
   "cell_type": "code",
   "execution_count": null,
   "metadata": {},
   "outputs": [],
   "source": []
  },
  {
   "cell_type": "code",
   "execution_count": null,
   "metadata": {},
   "outputs": [],
   "source": []
  },
  {
   "cell_type": "code",
   "execution_count": null,
   "metadata": {},
   "outputs": [],
   "source": []
  }
 ],
 "metadata": {
  "kernelspec": {
   "display_name": "Python 3",
   "language": "python",
   "name": "python3"
  },
  "language_info": {
   "codemirror_mode": {
    "name": "ipython",
    "version": 3
   },
   "file_extension": ".py",
   "mimetype": "text/x-python",
   "name": "python",
   "nbconvert_exporter": "python",
   "pygments_lexer": "ipython3",
   "version": "3.7.6"
  }
 },
 "nbformat": 4,
 "nbformat_minor": 4
}
