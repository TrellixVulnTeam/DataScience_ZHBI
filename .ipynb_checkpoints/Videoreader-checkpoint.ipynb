{
 "cells": [
  {
   "cell_type": "code",
   "execution_count": 4,
   "metadata": {},
   "outputs": [],
   "source": [
    "import cv2, time\n",
    "\n",
    "first_frame=None\n",
    "\n",
    "video=cv2.VideoCapture(0)\n",
    "\n",
    "while True:\n",
    "    check,frame=video.read()\n",
    "    gray=cv2.cvtColor(frame,cv2.COLOR_BGR2GRAY)\n",
    "    gray1=cv2.GaussianBlur(gray,(21,21),0)\n",
    "    \"\"\"if first_frame is None:\n",
    "        first_frame=gray\n",
    "        continue\n",
    "    delta_frame=cv2.absdiff(first_frame,gray)\n",
    "    thres=cv2.threshold(delta_frame,\n",
    "                       30,255,\n",
    "                       cv2.THRESH_BINARY)[1]\"\"\"\n",
    "    cv2.imshow(\"Grey\",gray)\n",
    "    cv2.imshow(\"Blur\",gray1)\n",
    "\n",
    "    #cv2.imshow(\"Delta\",delta_frame)\n",
    "    #cv2.imshow(\"Thresold\",thres)\n",
    "    key=cv2.waitKey(1)\n",
    "    if key==ord('q'):\n",
    "        break\n",
    "video.release()\n",
    "cv2.destroyAllWindows() \n",
    " "
   ]
  },
  {
   "cell_type": "code",
   "execution_count": null,
   "metadata": {},
   "outputs": [],
   "source": []
  }
 ],
 "metadata": {
  "kernelspec": {
   "display_name": "Python 3",
   "language": "python",
   "name": "python3"
  },
  "language_info": {
   "codemirror_mode": {
    "name": "ipython",
    "version": 3
   },
   "file_extension": ".py",
   "mimetype": "text/x-python",
   "name": "python",
   "nbconvert_exporter": "python",
   "pygments_lexer": "ipython3",
   "version": "3.7.4"
  }
 },
 "nbformat": 4,
 "nbformat_minor": 2
}
