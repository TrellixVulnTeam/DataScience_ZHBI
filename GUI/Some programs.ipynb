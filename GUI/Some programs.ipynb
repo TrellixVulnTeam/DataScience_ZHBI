{
 "cells": [
  {
   "cell_type": "code",
   "execution_count": 17,
   "metadata": {},
   "outputs": [
    {
     "name": "stdout",
     "output_type": "stream",
     "text": [
      "Original array:[1, 2, 3, 4, 5]\n",
      "After:  [3, 4, 5, 1, 2]\n"
     ]
    }
   ],
   "source": [
    "#Rotate left array elements\n",
    "\n",
    "arr=[1,2,3,4,5]\n",
    "\n",
    "\n",
    "n=2\n",
    "\n",
    "print('Original array:{}'.format(arr))\n",
    "\n",
    "for i in range(0,n):\n",
    "    first=arr[0]\n",
    "    \n",
    "    for j in range(0,len(arr)-1):\n",
    "        arr[j]=arr[j+1]\n",
    "    arr[len(arr)-1]=first\n",
    "    \n",
    "print('After: ',arr)\n"
   ]
  },
  {
   "cell_type": "code",
   "execution_count": 12,
   "metadata": {},
   "outputs": [
    {
     "name": "stdout",
     "output_type": "stream",
     "text": [
      "Before copying [1, 2, 3, 4, 5]\n",
      "After copying [1, 2, 3, 4, 5]\n"
     ]
    }
   ],
   "source": [
    "#Copy elements of one array to another\n",
    "\n",
    "arr1=[1,2,3,4,5]\n",
    "arr2=[0]*len(arr1)\n",
    "print('Before copying',arr1)\n",
    "for i in range(len(arr1)):\n",
    "    arr2[i]=arr1[i]\n",
    "\n",
    "\n",
    "print('After copying',arr2)\n"
   ]
  },
  {
   "cell_type": "code",
   "execution_count": 16,
   "metadata": {},
   "outputs": [
    {
     "name": "stdout",
     "output_type": "stream",
     "text": [
      "Original [1, 2, 3, 4, 5]\n",
      "Reversed [5, 4, 3, 2, 1]\n"
     ]
    }
   ],
   "source": [
    "#Reverse array elements \n",
    "\n",
    "\n",
    "arr=[1,2,3,4,5]\n",
    "\n",
    "reverse=[0]*len(arr)\n",
    "\n",
    "print('Original',arr)\n",
    "\n",
    "for i in range(len(arr)):\n",
    "    reverse[i]=arr[len(arr)-i-1]\n",
    "\n",
    "print('Reversed',reverse)\n",
    "\n"
   ]
  },
  {
   "cell_type": "code",
   "execution_count": 34,
   "metadata": {},
   "outputs": [
    {
     "name": "stdout",
     "output_type": "stream",
     "text": [
      "Original array:[1, 2, 3, 4, 5]\n",
      "After:  [4, 5, 1, 2, 3]\n"
     ]
    }
   ],
   "source": [
    "#Rotate right array elements\n",
    "\n",
    "arr=[1,2,3,4,5]\n",
    "\n",
    "\n",
    "n=2\n",
    "\n",
    "print('Original array:{}'.format(arr))\n",
    "\n",
    "for i in range(n):\n",
    "    last=arr[len(arr)-1]\n",
    "    \n",
    "    for j in range(len(arr)-1,-1,-1):\n",
    "        arr[j]=arr[j-1]\n",
    "    arr[0]=last\n",
    "    \n",
    "print('After: ',arr)\n"
   ]
  },
  {
   "cell_type": "code",
   "execution_count": 41,
   "metadata": {},
   "outputs": [
    {
     "name": "stdout",
     "output_type": "stream",
     "text": [
      "4\n",
      "3\n",
      "2\n",
      "1\n",
      "0\n"
     ]
    }
   ],
   "source": [
    "for j in range(len(arr)-1,-1,-1):\n",
    "    print(j)"
   ]
  },
  {
   "cell_type": "code",
   "execution_count": null,
   "metadata": {},
   "outputs": [],
   "source": []
  },
  {
   "cell_type": "code",
   "execution_count": null,
   "metadata": {},
   "outputs": [],
   "source": []
  }
 ],
 "metadata": {
  "kernelspec": {
   "display_name": "Python 3",
   "language": "python",
   "name": "python3"
  },
  "language_info": {
   "codemirror_mode": {
    "name": "ipython",
    "version": 3
   },
   "file_extension": ".py",
   "mimetype": "text/x-python",
   "name": "python",
   "nbconvert_exporter": "python",
   "pygments_lexer": "ipython3",
   "version": "3.7.7"
  }
 },
 "nbformat": 4,
 "nbformat_minor": 4
}
