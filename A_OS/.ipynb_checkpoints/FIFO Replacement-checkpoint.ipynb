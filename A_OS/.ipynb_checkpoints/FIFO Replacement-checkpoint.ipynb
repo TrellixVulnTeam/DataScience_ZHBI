{
 "cells": [
  {
   "cell_type": "code",
   "execution_count": 6,
   "metadata": {},
   "outputs": [
    {
     "name": "stdout",
     "output_type": "stream",
     "text": [
      "7\n"
     ]
    },
    {
     "ename": "NameError",
     "evalue": "name 'indexes' is not defined",
     "output_type": "error",
     "traceback": [
      "\u001b[1;31m---------------------------------------------------------------------------\u001b[0m",
      "\u001b[1;31mNameError\u001b[0m                                 Traceback (most recent call last)",
      "\u001b[1;32m<ipython-input-6-f69ae0f4ff14>\u001b[0m in \u001b[0;36m<module>\u001b[1;34m\u001b[0m\n\u001b[0;32m     68\u001b[0m \u001b[0mcapacity\u001b[0m \u001b[1;33m=\u001b[0m \u001b[1;36m4\u001b[0m\u001b[1;33m\u001b[0m\u001b[1;33m\u001b[0m\u001b[0m\n\u001b[0;32m     69\u001b[0m \u001b[0mprint\u001b[0m\u001b[1;33m(\u001b[0m\u001b[0mpageFaults\u001b[0m\u001b[1;33m(\u001b[0m\u001b[0mpages\u001b[0m\u001b[1;33m,\u001b[0m \u001b[0mn\u001b[0m\u001b[1;33m,\u001b[0m \u001b[0mcapacity\u001b[0m\u001b[1;33m)\u001b[0m\u001b[1;33m)\u001b[0m\u001b[1;33m\u001b[0m\u001b[1;33m\u001b[0m\u001b[0m\n\u001b[1;32m---> 70\u001b[1;33m \u001b[0mindexes\u001b[0m\u001b[1;33m\u001b[0m\u001b[1;33m\u001b[0m\u001b[0m\n\u001b[0m",
      "\u001b[1;31mNameError\u001b[0m: name 'indexes' is not defined"
     ]
    }
   ],
   "source": [
    "from queue import Queue  \n",
    "\n",
    "def pageFaults(pages, n, capacity): \n",
    "      \n",
    "    # To represent set of current pages.  \n",
    "    # We use an unordered_set so that we \n",
    "    # quickly check if a page is present \n",
    "    # in set or not  \n",
    "    s = set()  \n",
    "  \n",
    "    # To store the pages in FIFO manner  \n",
    "    indexes = Queue()  \n",
    "  \n",
    "    # Start from initial page  \n",
    "    page_faults = 0\n",
    "    for i in range(n): \n",
    "          \n",
    "        # Check if the set can hold  \n",
    "        # more pages  \n",
    "        if (len(s) < capacity): \n",
    "              \n",
    "            # Insert it into set if not present  \n",
    "            # already which represents page fault  \n",
    "            if (pages[i] not in s): \n",
    "                s.add(pages[i])  \n",
    "  \n",
    "                # increment page fault  \n",
    "                page_faults += 1\n",
    "  \n",
    "                # Push the current page into \n",
    "                # the queue  \n",
    "                indexes.put(pages[i]) \n",
    "  \n",
    "        # If the set is full then need to perform FIFO  \n",
    "        # i.e. remove the first page of the queue from  \n",
    "        # set and queue both and insert the current page  \n",
    "        else: \n",
    "              \n",
    "            # Check if current page is not  \n",
    "            # already present in the set  \n",
    "            if (pages[i] not in s): \n",
    "                  \n",
    "                # Pop the first page from the queue  \n",
    "                val = indexes.queue[0]  \n",
    "  \n",
    "                indexes.get()  \n",
    "  \n",
    "                # Remove the indexes page  \n",
    "                s.remove(val)  \n",
    "  \n",
    "                # insert the current page  \n",
    "                s.add(pages[i])  \n",
    "  \n",
    "                # push the current page into  \n",
    "                # the queue  \n",
    "                indexes.put(pages[i])  \n",
    "  \n",
    "                # Increment page faults  \n",
    "                page_faults += 1\n",
    "  \n",
    "    return page_faults \n",
    "  \n",
    "# Driver code  \n",
    "\n",
    "pages = [7, 0, 1, 2, 0, 3, 0,  \n",
    "            4, 2, 3, 0, 3, 2]  \n",
    "n = len(pages)  \n",
    "capacity = 4\n",
    "print(pageFaults(pages, n, capacity)) \n"
   ]
  }
 ],
 "metadata": {
  "kernelspec": {
   "display_name": "Python 3",
   "language": "python",
   "name": "python3"
  },
  "language_info": {
   "codemirror_mode": {
    "name": "ipython",
    "version": 3
   },
   "file_extension": ".py",
   "mimetype": "text/x-python",
   "name": "python",
   "nbconvert_exporter": "python",
   "pygments_lexer": "ipython3",
   "version": "3.7.7"
  }
 },
 "nbformat": 4,
 "nbformat_minor": 4
}
