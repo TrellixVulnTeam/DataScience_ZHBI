{
 "cells": [
  {
   "cell_type": "code",
   "execution_count": 265,
   "metadata": {},
   "outputs": [],
   "source": [
    "import pandas as pd\n",
    "from sklearn.model_selection import train_test_split"
   ]
  },
  {
   "cell_type": "code",
   "execution_count": 266,
   "metadata": {},
   "outputs": [],
   "source": [
    "df=pd.read_csv('StockSentiment.csv',encoding='latin',parse_dates=True)"
   ]
  },
  {
   "cell_type": "code",
   "execution_count": 267,
   "metadata": {},
   "outputs": [
    {
     "data": {
      "text/html": [
       "<div>\n",
       "<style scoped>\n",
       "    .dataframe tbody tr th:only-of-type {\n",
       "        vertical-align: middle;\n",
       "    }\n",
       "\n",
       "    .dataframe tbody tr th {\n",
       "        vertical-align: top;\n",
       "    }\n",
       "\n",
       "    .dataframe thead th {\n",
       "        text-align: right;\n",
       "    }\n",
       "</style>\n",
       "<table border=\"1\" class=\"dataframe\">\n",
       "  <thead>\n",
       "    <tr style=\"text-align: right;\">\n",
       "      <th></th>\n",
       "      <th>Date</th>\n",
       "      <th>Label</th>\n",
       "      <th>Top1</th>\n",
       "      <th>Top2</th>\n",
       "      <th>Top3</th>\n",
       "      <th>Top4</th>\n",
       "      <th>Top5</th>\n",
       "      <th>Top6</th>\n",
       "      <th>Top7</th>\n",
       "      <th>Top8</th>\n",
       "      <th>...</th>\n",
       "      <th>Top16</th>\n",
       "      <th>Top17</th>\n",
       "      <th>Top18</th>\n",
       "      <th>Top19</th>\n",
       "      <th>Top20</th>\n",
       "      <th>Top21</th>\n",
       "      <th>Top22</th>\n",
       "      <th>Top23</th>\n",
       "      <th>Top24</th>\n",
       "      <th>Top25</th>\n",
       "    </tr>\n",
       "  </thead>\n",
       "  <tbody>\n",
       "    <tr>\n",
       "      <th>0</th>\n",
       "      <td>2000-01-03</td>\n",
       "      <td>0</td>\n",
       "      <td>A 'hindrance to operations': extracts from the...</td>\n",
       "      <td>Scorecard</td>\n",
       "      <td>Hughes' instant hit buoys Blues</td>\n",
       "      <td>Jack gets his skates on at ice-cold Alex</td>\n",
       "      <td>Chaos as Maracana builds up for United</td>\n",
       "      <td>Depleted Leicester prevail as Elliott spoils E...</td>\n",
       "      <td>Hungry Spurs sense rich pickings</td>\n",
       "      <td>Gunners so wide of an easy target</td>\n",
       "      <td>...</td>\n",
       "      <td>Flintoff injury piles on woe for England</td>\n",
       "      <td>Hunters threaten Jospin with new battle of the...</td>\n",
       "      <td>Kohl's successor drawn into scandal</td>\n",
       "      <td>The difference between men and women</td>\n",
       "      <td>Sara Denver, nurse turned solicitor</td>\n",
       "      <td>Diana's landmine crusade put Tories in a panic</td>\n",
       "      <td>Yeltsin's resignation caught opposition flat-f...</td>\n",
       "      <td>Russian roulette</td>\n",
       "      <td>Sold out</td>\n",
       "      <td>Recovering a title</td>\n",
       "    </tr>\n",
       "    <tr>\n",
       "      <th>1</th>\n",
       "      <td>2000-01-04</td>\n",
       "      <td>0</td>\n",
       "      <td>Scorecard</td>\n",
       "      <td>The best lake scene</td>\n",
       "      <td>Leader: German sleaze inquiry</td>\n",
       "      <td>Cheerio, boyo</td>\n",
       "      <td>The main recommendations</td>\n",
       "      <td>Has Cubie killed fees?</td>\n",
       "      <td>Has Cubie killed fees?</td>\n",
       "      <td>Has Cubie killed fees?</td>\n",
       "      <td>...</td>\n",
       "      <td>On the critical list</td>\n",
       "      <td>The timing of their lives</td>\n",
       "      <td>Dear doctor</td>\n",
       "      <td>Irish court halts IRA man's extradition to Nor...</td>\n",
       "      <td>Burundi peace initiative fades after rebels re...</td>\n",
       "      <td>PE points the way forward to the ECB</td>\n",
       "      <td>Campaigners keep up pressure on Nazi war crime...</td>\n",
       "      <td>Jane Ratcliffe</td>\n",
       "      <td>Yet more things you wouldn't know without the ...</td>\n",
       "      <td>Millennium bug fails to bite</td>\n",
       "    </tr>\n",
       "    <tr>\n",
       "      <th>2</th>\n",
       "      <td>2000-01-05</td>\n",
       "      <td>0</td>\n",
       "      <td>Coventry caught on counter by Flo</td>\n",
       "      <td>United's rivals on the road to Rio</td>\n",
       "      <td>Thatcher issues defence before trial by video</td>\n",
       "      <td>Police help Smith lay down the law at Everton</td>\n",
       "      <td>Tale of Trautmann bears two more retellings</td>\n",
       "      <td>England on the rack</td>\n",
       "      <td>Pakistan retaliate with call for video of Walsh</td>\n",
       "      <td>Cullinan continues his Cape monopoly</td>\n",
       "      <td>...</td>\n",
       "      <td>South Melbourne (Australia)</td>\n",
       "      <td>Necaxa (Mexico)</td>\n",
       "      <td>Real Madrid (Spain)</td>\n",
       "      <td>Raja Casablanca (Morocco)</td>\n",
       "      <td>Corinthians (Brazil)</td>\n",
       "      <td>Tony's pet project</td>\n",
       "      <td>Al Nassr (Saudi Arabia)</td>\n",
       "      <td>Ideal Holmes show</td>\n",
       "      <td>Pinochet leaves hospital after tests</td>\n",
       "      <td>Useful links</td>\n",
       "    </tr>\n",
       "  </tbody>\n",
       "</table>\n",
       "<p>3 rows × 27 columns</p>\n",
       "</div>"
      ],
      "text/plain": [
       "         Date  Label                                               Top1  \\\n",
       "0  2000-01-03      0  A 'hindrance to operations': extracts from the...   \n",
       "1  2000-01-04      0                                          Scorecard   \n",
       "2  2000-01-05      0                  Coventry caught on counter by Flo   \n",
       "\n",
       "                                 Top2  \\\n",
       "0                           Scorecard   \n",
       "1                 The best lake scene   \n",
       "2  United's rivals on the road to Rio   \n",
       "\n",
       "                                            Top3  \\\n",
       "0                Hughes' instant hit buoys Blues   \n",
       "1                  Leader: German sleaze inquiry   \n",
       "2  Thatcher issues defence before trial by video   \n",
       "\n",
       "                                            Top4  \\\n",
       "0       Jack gets his skates on at ice-cold Alex   \n",
       "1                                  Cheerio, boyo   \n",
       "2  Police help Smith lay down the law at Everton   \n",
       "\n",
       "                                          Top5  \\\n",
       "0       Chaos as Maracana builds up for United   \n",
       "1                     The main recommendations   \n",
       "2  Tale of Trautmann bears two more retellings   \n",
       "\n",
       "                                                Top6  \\\n",
       "0  Depleted Leicester prevail as Elliott spoils E...   \n",
       "1                             Has Cubie killed fees?   \n",
       "2                                England on the rack   \n",
       "\n",
       "                                              Top7  \\\n",
       "0                 Hungry Spurs sense rich pickings   \n",
       "1                           Has Cubie killed fees?   \n",
       "2  Pakistan retaliate with call for video of Walsh   \n",
       "\n",
       "                                   Top8  ...  \\\n",
       "0     Gunners so wide of an easy target  ...   \n",
       "1                Has Cubie killed fees?  ...   \n",
       "2  Cullinan continues his Cape monopoly  ...   \n",
       "\n",
       "                                      Top16  \\\n",
       "0  Flintoff injury piles on woe for England   \n",
       "1                      On the critical list   \n",
       "2               South Melbourne (Australia)   \n",
       "\n",
       "                                               Top17  \\\n",
       "0  Hunters threaten Jospin with new battle of the...   \n",
       "1                          The timing of their lives   \n",
       "2                                    Necaxa (Mexico)   \n",
       "\n",
       "                                 Top18  \\\n",
       "0  Kohl's successor drawn into scandal   \n",
       "1                          Dear doctor   \n",
       "2                  Real Madrid (Spain)   \n",
       "\n",
       "                                               Top19  \\\n",
       "0               The difference between men and women   \n",
       "1  Irish court halts IRA man's extradition to Nor...   \n",
       "2                          Raja Casablanca (Morocco)   \n",
       "\n",
       "                                               Top20  \\\n",
       "0                Sara Denver, nurse turned solicitor   \n",
       "1  Burundi peace initiative fades after rebels re...   \n",
       "2                               Corinthians (Brazil)   \n",
       "\n",
       "                                            Top21  \\\n",
       "0  Diana's landmine crusade put Tories in a panic   \n",
       "1            PE points the way forward to the ECB   \n",
       "2                              Tony's pet project   \n",
       "\n",
       "                                               Top22              Top23  \\\n",
       "0  Yeltsin's resignation caught opposition flat-f...   Russian roulette   \n",
       "1  Campaigners keep up pressure on Nazi war crime...     Jane Ratcliffe   \n",
       "2                            Al Nassr (Saudi Arabia)  Ideal Holmes show   \n",
       "\n",
       "                                               Top24  \\\n",
       "0                                           Sold out   \n",
       "1  Yet more things you wouldn't know without the ...   \n",
       "2               Pinochet leaves hospital after tests   \n",
       "\n",
       "                          Top25  \n",
       "0            Recovering a title  \n",
       "1  Millennium bug fails to bite  \n",
       "2                  Useful links  \n",
       "\n",
       "[3 rows x 27 columns]"
      ]
     },
     "execution_count": 267,
     "metadata": {},
     "output_type": "execute_result"
    }
   ],
   "source": [
    "df.head(3)"
   ]
  },
  {
   "cell_type": "code",
   "execution_count": 268,
   "metadata": {},
   "outputs": [],
   "source": [
    "# train=df[df['Date']<'2015-01-01']\n",
    "# test=df[df['Date']>'2014-12-31']"
   ]
  },
  {
   "cell_type": "code",
   "execution_count": 269,
   "metadata": {},
   "outputs": [],
   "source": [
    "train,test=train_test_split(df)"
   ]
  },
  {
   "cell_type": "code",
   "execution_count": 270,
   "metadata": {},
   "outputs": [
    {
     "data": {
      "text/plain": [
       "(1026, 27)"
      ]
     },
     "execution_count": 270,
     "metadata": {},
     "output_type": "execute_result"
    }
   ],
   "source": [
    "test.shape"
   ]
  },
  {
   "cell_type": "code",
   "execution_count": 271,
   "metadata": {},
   "outputs": [
    {
     "data": {
      "text/plain": [
       "(3075, 27)"
      ]
     },
     "execution_count": 271,
     "metadata": {},
     "output_type": "execute_result"
    }
   ],
   "source": [
    "train.shape"
   ]
  },
  {
   "cell_type": "code",
   "execution_count": 272,
   "metadata": {},
   "outputs": [
    {
     "data": {
      "text/plain": [
       "(1026, 27)"
      ]
     },
     "execution_count": 272,
     "metadata": {},
     "output_type": "execute_result"
    }
   ],
   "source": [
    "test.shape"
   ]
  },
  {
   "cell_type": "code",
   "execution_count": 273,
   "metadata": {},
   "outputs": [
    {
     "data": {
      "text/html": [
       "<div>\n",
       "<style scoped>\n",
       "    .dataframe tbody tr th:only-of-type {\n",
       "        vertical-align: middle;\n",
       "    }\n",
       "\n",
       "    .dataframe tbody tr th {\n",
       "        vertical-align: top;\n",
       "    }\n",
       "\n",
       "    .dataframe thead th {\n",
       "        text-align: right;\n",
       "    }\n",
       "</style>\n",
       "<table border=\"1\" class=\"dataframe\">\n",
       "  <thead>\n",
       "    <tr style=\"text-align: right;\">\n",
       "      <th></th>\n",
       "      <th>0</th>\n",
       "      <th>1</th>\n",
       "      <th>2</th>\n",
       "      <th>3</th>\n",
       "      <th>4</th>\n",
       "      <th>5</th>\n",
       "      <th>6</th>\n",
       "      <th>7</th>\n",
       "      <th>8</th>\n",
       "      <th>9</th>\n",
       "      <th>...</th>\n",
       "      <th>15</th>\n",
       "      <th>16</th>\n",
       "      <th>17</th>\n",
       "      <th>18</th>\n",
       "      <th>19</th>\n",
       "      <th>20</th>\n",
       "      <th>21</th>\n",
       "      <th>22</th>\n",
       "      <th>23</th>\n",
       "      <th>24</th>\n",
       "    </tr>\n",
       "  </thead>\n",
       "  <tbody>\n",
       "    <tr>\n",
       "      <th>1656</th>\n",
       "      <td>UK news in brief</td>\n",
       "      <td>Thames Water sold for   bn to Australian bank ...</td>\n",
       "      <td>Bright new Vista for Microsoft and EC after th...</td>\n",
       "      <td>Different cultures  same concerns</td>\n",
       "      <td>Bank error in my favour   what should I do</td>\n",
       "      <td>Can my credit card be cancelled without warning</td>\n",
       "      <td>Sam Wollaston on last night s TV</td>\n",
       "      <td>Polar explorer brought in from the cold after ...</td>\n",
       "      <td>Life sentence for teenager who murdered school...</td>\n",
       "      <td>Players walk away as US law wipes out     of P...</td>\n",
       "      <td>...</td>\n",
       "      <td>Man guilty of murder bid with latex glove</td>\n",
       "      <td>US says air tests confirm that blast was nuclear</td>\n",
       "      <td>Record advance sales for Vel zquez show</td>\n",
       "      <td>Not for sale yet   the  cursed     pieces of s...</td>\n",
       "      <td>Radio pick of the day</td>\n",
       "      <td>Obituary  Mazisi Kunene</td>\n",
       "      <td>Obituary  Lucilla Andrews</td>\n",
       "      <td>Obituary  Chandra Gurung</td>\n",
       "      <td>Letters  Russian clampdown</td>\n",
       "      <td>Letters  Iraq s impact on human rights</td>\n",
       "    </tr>\n",
       "    <tr>\n",
       "      <th>1052</th>\n",
       "      <td>Danvers  devastated  at news of pregnancy</td>\n",
       "      <td>Fight for Liverpool gets serious</td>\n",
       "      <td>Bradford tell players to find new clubs</td>\n",
       "      <td>Fans in a fizz over Coca Cola</td>\n",
       "      <td>Woodward misses transparent draw</td>\n",
       "      <td>The      Rugby World Cup</td>\n",
       "      <td>Seaham Hall Hotel and Serenity Spa</td>\n",
       "      <td>The best in the business</td>\n",
       "      <td>feared dead in factory blast</td>\n",
       "      <td>Islamist website shows  beheading</td>\n",
       "      <td>...</td>\n",
       "      <td>Probation staff in demo over merger plans</td>\n",
       "      <td>Business news in brief</td>\n",
       "      <td>Blair  I will quit if I become electoral liabi...</td>\n",
       "      <td>Martin Kettle  Blair must listen to those he d...</td>\n",
       "      <td>General lists failures that led to abuse</td>\n",
       "      <td>Fine tuning China s brakes</td>\n",
       "      <td>Spy chips  raise civil liberties fears</td>\n",
       "      <td>Blair defends  negative  EU election campaign</td>\n",
       "      <td>Lack of scientists prompts natural history wor...</td>\n",
       "      <td>Is blog a masculine noun</td>\n",
       "    </tr>\n",
       "    <tr>\n",
       "      <th>1544</th>\n",
       "      <td>Champions League  Barcelona       Milan  Agg  ...</td>\n",
       "      <td>Premiership  West Ham United       Liverpool</td>\n",
       "      <td>Kevin McCarra  Big Phil is the boldest appoint...</td>\n",
       "      <td>Higher fees a deterrent  say graduates</td>\n",
       "      <td>Professors attack illegal drugs rating system</td>\n",
       "      <td>Battle for the soul and bank balance of New Yo...</td>\n",
       "      <td>Safe  burial plan for waste may clear way for...</td>\n",
       "      <td>Country diary  Loch Flemington</td>\n",
       "      <td>Briton accused of central role in Libya s nucl...</td>\n",
       "      <td>People</td>\n",
       "      <td>...</td>\n",
       "      <td>Songbirds tune in to basic grammar  says study</td>\n",
       "      <td>Letter  Progress in Pakistan</td>\n",
       "      <td>Thousands in Sri Lanka flee bombing raids</td>\n",
       "      <td>Putin diverts new oil pipeline from Lake Baika...</td>\n",
       "      <td>Troubled island</td>\n",
       "      <td>Rice and Rumsfeld bury the hatchet for Iraq visit</td>\n",
       "      <td>Letters  Threat of war over Iran s nuclear plans</td>\n",
       "      <td>Obituary  Jeremy Janes</td>\n",
       "      <td>Obituary  Marillyn Gray</td>\n",
       "      <td>Suicide bomb attacks at Sinai peacekeeping base</td>\n",
       "    </tr>\n",
       "  </tbody>\n",
       "</table>\n",
       "<p>3 rows × 25 columns</p>\n",
       "</div>"
      ],
      "text/plain": [
       "                                                      0  \\\n",
       "1656                                   UK news in brief   \n",
       "1052          Danvers  devastated  at news of pregnancy   \n",
       "1544  Champions League  Barcelona       Milan  Agg  ...   \n",
       "\n",
       "                                                      1  \\\n",
       "1656  Thames Water sold for   bn to Australian bank ...   \n",
       "1052                   Fight for Liverpool gets serious   \n",
       "1544       Premiership  West Ham United       Liverpool   \n",
       "\n",
       "                                                      2  \\\n",
       "1656  Bright new Vista for Microsoft and EC after th...   \n",
       "1052            Bradford tell players to find new clubs   \n",
       "1544  Kevin McCarra  Big Phil is the boldest appoint...   \n",
       "\n",
       "                                           3  \\\n",
       "1656       Different cultures  same concerns   \n",
       "1052           Fans in a fizz over Coca Cola   \n",
       "1544  Higher fees a deterrent  say graduates   \n",
       "\n",
       "                                                  4  \\\n",
       "1656    Bank error in my favour   what should I do    \n",
       "1052               Woodward misses transparent draw   \n",
       "1544  Professors attack illegal drugs rating system   \n",
       "\n",
       "                                                      5  \\\n",
       "1656   Can my credit card be cancelled without warning    \n",
       "1052                           The      Rugby World Cup   \n",
       "1544  Battle for the soul and bank balance of New Yo...   \n",
       "\n",
       "                                                      6  \\\n",
       "1656                   Sam Wollaston on last night s TV   \n",
       "1052                 Seaham Hall Hotel and Serenity Spa   \n",
       "1544   Safe  burial plan for waste may clear way for...   \n",
       "\n",
       "                                                      7  \\\n",
       "1656  Polar explorer brought in from the cold after ...   \n",
       "1052                      The best in the business        \n",
       "1544                     Country diary  Loch Flemington   \n",
       "\n",
       "                                                      8  \\\n",
       "1656  Life sentence for teenager who murdered school...   \n",
       "1052                       feared dead in factory blast   \n",
       "1544  Briton accused of central role in Libya s nucl...   \n",
       "\n",
       "                                                      9  ...  \\\n",
       "1656  Players walk away as US law wipes out     of P...  ...   \n",
       "1052                 Islamist website shows  beheading   ...   \n",
       "1544                                             People  ...   \n",
       "\n",
       "                                                  15  \\\n",
       "1656       Man guilty of murder bid with latex glove   \n",
       "1052       Probation staff in demo over merger plans   \n",
       "1544  Songbirds tune in to basic grammar  says study   \n",
       "\n",
       "                                                    16  \\\n",
       "1656  US says air tests confirm that blast was nuclear   \n",
       "1052                            Business news in brief   \n",
       "1544                      Letter  Progress in Pakistan   \n",
       "\n",
       "                                                     17  \\\n",
       "1656            Record advance sales for Vel zquez show   \n",
       "1052  Blair  I will quit if I become electoral liabi...   \n",
       "1544          Thousands in Sri Lanka flee bombing raids   \n",
       "\n",
       "                                                     18  \\\n",
       "1656  Not for sale yet   the  cursed     pieces of s...   \n",
       "1052  Martin Kettle  Blair must listen to those he d...   \n",
       "1544  Putin diverts new oil pipeline from Lake Baika...   \n",
       "\n",
       "                                            19  \\\n",
       "1656                     Radio pick of the day   \n",
       "1052  General lists failures that led to abuse   \n",
       "1544                           Troubled island   \n",
       "\n",
       "                                                     20  \\\n",
       "1656                            Obituary  Mazisi Kunene   \n",
       "1052                         Fine tuning China s brakes   \n",
       "1544  Rice and Rumsfeld bury the hatchet for Iraq visit   \n",
       "\n",
       "                                                    21  \\\n",
       "1656                         Obituary  Lucilla Andrews   \n",
       "1052            Spy chips  raise civil liberties fears   \n",
       "1544  Letters  Threat of war over Iran s nuclear plans   \n",
       "\n",
       "                                                 22  \\\n",
       "1656                       Obituary  Chandra Gurung   \n",
       "1052  Blair defends  negative  EU election campaign   \n",
       "1544                         Obituary  Jeremy Janes   \n",
       "\n",
       "                                                     23  \\\n",
       "1656                         Letters  Russian clampdown   \n",
       "1052  Lack of scientists prompts natural history wor...   \n",
       "1544                            Obituary  Marillyn Gray   \n",
       "\n",
       "                                                   24  \n",
       "1656           Letters  Iraq s impact on human rights  \n",
       "1052                        Is blog a masculine noun   \n",
       "1544  Suicide bomb attacks at Sinai peacekeeping base  \n",
       "\n",
       "[3 rows x 25 columns]"
      ]
     },
     "execution_count": 273,
     "metadata": {},
     "output_type": "execute_result"
    }
   ],
   "source": [
    "data=train.iloc[:,2:]\n",
    "data.replace('[^a-zA-Z]',' ',regex=True,inplace=True)\n",
    "list1=[i for i in range(25)]\n",
    "new_index=[str(i) for i in list1]\n",
    "data.columns=new_index\n",
    "data.head(3)"
   ]
  },
  {
   "cell_type": "code",
   "execution_count": 274,
   "metadata": {},
   "outputs": [
    {
     "data": {
      "text/html": [
       "<div>\n",
       "<style scoped>\n",
       "    .dataframe tbody tr th:only-of-type {\n",
       "        vertical-align: middle;\n",
       "    }\n",
       "\n",
       "    .dataframe tbody tr th {\n",
       "        vertical-align: top;\n",
       "    }\n",
       "\n",
       "    .dataframe thead th {\n",
       "        text-align: right;\n",
       "    }\n",
       "</style>\n",
       "<table border=\"1\" class=\"dataframe\">\n",
       "  <thead>\n",
       "    <tr style=\"text-align: right;\">\n",
       "      <th></th>\n",
       "      <th>0</th>\n",
       "      <th>1</th>\n",
       "      <th>2</th>\n",
       "      <th>3</th>\n",
       "      <th>4</th>\n",
       "      <th>5</th>\n",
       "      <th>6</th>\n",
       "      <th>7</th>\n",
       "      <th>8</th>\n",
       "      <th>9</th>\n",
       "      <th>...</th>\n",
       "      <th>15</th>\n",
       "      <th>16</th>\n",
       "      <th>17</th>\n",
       "      <th>18</th>\n",
       "      <th>19</th>\n",
       "      <th>20</th>\n",
       "      <th>21</th>\n",
       "      <th>22</th>\n",
       "      <th>23</th>\n",
       "      <th>24</th>\n",
       "    </tr>\n",
       "  </thead>\n",
       "  <tbody>\n",
       "    <tr>\n",
       "      <th>1656</th>\n",
       "      <td>uk news in brief</td>\n",
       "      <td>thames water sold for   bn to australian bank ...</td>\n",
       "      <td>bright new vista for microsoft and ec after th...</td>\n",
       "      <td>different cultures  same concerns</td>\n",
       "      <td>bank error in my favour   what should i do</td>\n",
       "      <td>can my credit card be cancelled without warning</td>\n",
       "      <td>sam wollaston on last night s tv</td>\n",
       "      <td>polar explorer brought in from the cold after ...</td>\n",
       "      <td>life sentence for teenager who murdered school...</td>\n",
       "      <td>players walk away as us law wipes out     of p...</td>\n",
       "      <td>...</td>\n",
       "      <td>man guilty of murder bid with latex glove</td>\n",
       "      <td>us says air tests confirm that blast was nuclear</td>\n",
       "      <td>record advance sales for vel zquez show</td>\n",
       "      <td>not for sale yet   the  cursed     pieces of s...</td>\n",
       "      <td>radio pick of the day</td>\n",
       "      <td>obituary  mazisi kunene</td>\n",
       "      <td>obituary  lucilla andrews</td>\n",
       "      <td>obituary  chandra gurung</td>\n",
       "      <td>letters  russian clampdown</td>\n",
       "      <td>letters  iraq s impact on human rights</td>\n",
       "    </tr>\n",
       "    <tr>\n",
       "      <th>1052</th>\n",
       "      <td>danvers  devastated  at news of pregnancy</td>\n",
       "      <td>fight for liverpool gets serious</td>\n",
       "      <td>bradford tell players to find new clubs</td>\n",
       "      <td>fans in a fizz over coca cola</td>\n",
       "      <td>woodward misses transparent draw</td>\n",
       "      <td>the      rugby world cup</td>\n",
       "      <td>seaham hall hotel and serenity spa</td>\n",
       "      <td>the best in the business</td>\n",
       "      <td>feared dead in factory blast</td>\n",
       "      <td>islamist website shows  beheading</td>\n",
       "      <td>...</td>\n",
       "      <td>probation staff in demo over merger plans</td>\n",
       "      <td>business news in brief</td>\n",
       "      <td>blair  i will quit if i become electoral liabi...</td>\n",
       "      <td>martin kettle  blair must listen to those he d...</td>\n",
       "      <td>general lists failures that led to abuse</td>\n",
       "      <td>fine tuning china s brakes</td>\n",
       "      <td>spy chips  raise civil liberties fears</td>\n",
       "      <td>blair defends  negative  eu election campaign</td>\n",
       "      <td>lack of scientists prompts natural history wor...</td>\n",
       "      <td>is blog a masculine noun</td>\n",
       "    </tr>\n",
       "  </tbody>\n",
       "</table>\n",
       "<p>2 rows × 25 columns</p>\n",
       "</div>"
      ],
      "text/plain": [
       "                                              0  \\\n",
       "1656                           uk news in brief   \n",
       "1052  danvers  devastated  at news of pregnancy   \n",
       "\n",
       "                                                      1  \\\n",
       "1656  thames water sold for   bn to australian bank ...   \n",
       "1052                   fight for liverpool gets serious   \n",
       "\n",
       "                                                      2  \\\n",
       "1656  bright new vista for microsoft and ec after th...   \n",
       "1052            bradford tell players to find new clubs   \n",
       "\n",
       "                                      3  \\\n",
       "1656  different cultures  same concerns   \n",
       "1052      fans in a fizz over coca cola   \n",
       "\n",
       "                                                4  \\\n",
       "1656  bank error in my favour   what should i do    \n",
       "1052             woodward misses transparent draw   \n",
       "\n",
       "                                                     5  \\\n",
       "1656  can my credit card be cancelled without warning    \n",
       "1052                          the      rugby world cup   \n",
       "\n",
       "                                       6  \\\n",
       "1656    sam wollaston on last night s tv   \n",
       "1052  seaham hall hotel and serenity spa   \n",
       "\n",
       "                                                      7  \\\n",
       "1656  polar explorer brought in from the cold after ...   \n",
       "1052                      the best in the business        \n",
       "\n",
       "                                                      8  \\\n",
       "1656  life sentence for teenager who murdered school...   \n",
       "1052                       feared dead in factory blast   \n",
       "\n",
       "                                                      9  ...  \\\n",
       "1656  players walk away as us law wipes out     of p...  ...   \n",
       "1052                 islamist website shows  beheading   ...   \n",
       "\n",
       "                                             15  \\\n",
       "1656  man guilty of murder bid with latex glove   \n",
       "1052  probation staff in demo over merger plans   \n",
       "\n",
       "                                                    16  \\\n",
       "1656  us says air tests confirm that blast was nuclear   \n",
       "1052                            business news in brief   \n",
       "\n",
       "                                                     17  \\\n",
       "1656            record advance sales for vel zquez show   \n",
       "1052  blair  i will quit if i become electoral liabi...   \n",
       "\n",
       "                                                     18  \\\n",
       "1656  not for sale yet   the  cursed     pieces of s...   \n",
       "1052  martin kettle  blair must listen to those he d...   \n",
       "\n",
       "                                            19                          20  \\\n",
       "1656                     radio pick of the day     obituary  mazisi kunene   \n",
       "1052  general lists failures that led to abuse  fine tuning china s brakes   \n",
       "\n",
       "                                           21  \\\n",
       "1656                obituary  lucilla andrews   \n",
       "1052   spy chips  raise civil liberties fears   \n",
       "\n",
       "                                                 22  \\\n",
       "1656                       obituary  chandra gurung   \n",
       "1052  blair defends  negative  eu election campaign   \n",
       "\n",
       "                                                     23  \\\n",
       "1656                         letters  russian clampdown   \n",
       "1052  lack of scientists prompts natural history wor...   \n",
       "\n",
       "                                          24  \n",
       "1656  letters  iraq s impact on human rights  \n",
       "1052               is blog a masculine noun   \n",
       "\n",
       "[2 rows x 25 columns]"
      ]
     },
     "execution_count": 274,
     "metadata": {},
     "output_type": "execute_result"
    }
   ],
   "source": [
    "for i in data.columns:\n",
    "    data[i]=data[i].str.lower()\n",
    "data.head(2)"
   ]
  },
  {
   "cell_type": "code",
   "execution_count": 275,
   "metadata": {},
   "outputs": [],
   "source": [
    "headlines=[]\n",
    "for row in range(len(data.index)):\n",
    "    headlines.append(' '.join(str(x) for x in data.iloc[row,:]))"
   ]
  },
  {
   "cell_type": "code",
   "execution_count": 276,
   "metadata": {},
   "outputs": [
    {
     "data": {
      "text/plain": [
       "'uk news in brief thames water sold for   bn to australian bank macquarie bright new vista for microsoft and ec after their seven year war different cultures  same concerns bank error in my favour   what should i do  can my credit card be cancelled without warning  sam wollaston on last night s tv polar explorer brought in from the cold after    years life sentence for teenager who murdered schoolboy in  savage  kitchen knife attack players walk away as us law wipes out     of partygaming s poker revenue obituary  peter hepple french cafe games get a tax break widow of nimrod crash victim calls for more investment in fleet shell s environmental efforts fail to quell russian threat allianz chief seeks single watchdog for europe man guilty of murder bid with latex glove us says air tests confirm that blast was nuclear record advance sales for vel zquez show not for sale yet   the  cursed     pieces of silver worth     m radio pick of the day obituary  mazisi kunene obituary  lucilla andrews obituary  chandra gurung letters  russian clampdown letters  iraq s impact on human rights'"
      ]
     },
     "execution_count": 276,
     "metadata": {},
     "output_type": "execute_result"
    }
   ],
   "source": [
    "headlines[0]"
   ]
  },
  {
   "cell_type": "code",
   "execution_count": 288,
   "metadata": {},
   "outputs": [],
   "source": [
    "from sklearn.feature_extraction.text import CountVectorizer,TfidfVectorizer\n",
    "from sklearn.ensemble import RandomForestClassifier\n",
    "from sklearn.metrics import accuracy_score,confusion_matrix"
   ]
  },
  {
   "cell_type": "code",
   "execution_count": 289,
   "metadata": {},
   "outputs": [],
   "source": [
    "cv=TfidfVectorizer()\n",
    "traindata=cv.fit_transform(headlines)"
   ]
  },
  {
   "cell_type": "code",
   "execution_count": 290,
   "metadata": {},
   "outputs": [
    {
     "data": {
      "text/plain": [
       "(3075, 41282)"
      ]
     },
     "execution_count": 290,
     "metadata": {},
     "output_type": "execute_result"
    }
   ],
   "source": [
    "traindata.shape"
   ]
  },
  {
   "cell_type": "code",
   "execution_count": null,
   "metadata": {},
   "outputs": [],
   "source": []
  },
  {
   "cell_type": "code",
   "execution_count": 291,
   "metadata": {},
   "outputs": [
    {
     "data": {
      "text/plain": [
       "RandomForestClassifier(bootstrap=True, ccp_alpha=0.0, class_weight=None,\n",
       "                       criterion='entropy', max_depth=None, max_features='auto',\n",
       "                       max_leaf_nodes=None, max_samples=None,\n",
       "                       min_impurity_decrease=0.0, min_impurity_split=None,\n",
       "                       min_samples_leaf=1, min_samples_split=2,\n",
       "                       min_weight_fraction_leaf=0.0, n_estimators=200,\n",
       "                       n_jobs=None, oob_score=False, random_state=None,\n",
       "                       verbose=0, warm_start=False)"
      ]
     },
     "execution_count": 291,
     "metadata": {},
     "output_type": "execute_result"
    }
   ],
   "source": [
    "randomcl=RandomForestClassifier(n_estimators=200,criterion='entropy')\n",
    "randomcl.fit(traindata,train['Label'])"
   ]
  },
  {
   "cell_type": "code",
   "execution_count": 293,
   "metadata": {},
   "outputs": [
    {
     "data": {
      "text/plain": [
       "1.0"
      ]
     },
     "execution_count": 293,
     "metadata": {},
     "output_type": "execute_result"
    }
   ],
   "source": [
    "randomcl.score(traindata,train['Label'])"
   ]
  },
  {
   "cell_type": "code",
   "execution_count": 294,
   "metadata": {},
   "outputs": [],
   "source": [
    "testdata=test.iloc[:,2:]\n",
    "testdata.replace('[^a-zA-Z]',' ',regex=True,inplace=True)\n",
    "list1=[i for i in range(25)]\n",
    "new_index=[str(i) for i in list1]\n",
    "testdata.columns=new_index\n",
    "\n",
    "for i in testdata.columns:\n",
    "    testdata[i]=testdata[i].str.lower()\n",
    "    \n",
    "\n",
    "test_headlines=[]\n",
    "for row in range(len(testdata.index)):\n",
    "    test_headlines.append(' '.join(str(x) for x in testdata.iloc[row,:]))"
   ]
  },
  {
   "cell_type": "code",
   "execution_count": 295,
   "metadata": {},
   "outputs": [],
   "source": [
    "test_data=cv.transform(test_headlines)"
   ]
  },
  {
   "cell_type": "code",
   "execution_count": 296,
   "metadata": {},
   "outputs": [],
   "source": [
    "pred=randomcl.predict(test_data)"
   ]
  },
  {
   "cell_type": "code",
   "execution_count": 297,
   "metadata": {},
   "outputs": [
    {
     "data": {
      "text/plain": [
       "0.5224171539961013"
      ]
     },
     "execution_count": 297,
     "metadata": {},
     "output_type": "execute_result"
    }
   ],
   "source": [
    "accuracy_score(pred,test['Label'])"
   ]
  },
  {
   "cell_type": "code",
   "execution_count": 298,
   "metadata": {},
   "outputs": [
    {
     "data": {
      "text/plain": [
       "LogisticRegression(C=1.0, class_weight=None, dual=False, fit_intercept=True,\n",
       "                   intercept_scaling=1, l1_ratio=None, max_iter=100,\n",
       "                   multi_class='auto', n_jobs=None, penalty='l2',\n",
       "                   random_state=None, solver='lbfgs', tol=0.0001, verbose=0,\n",
       "                   warm_start=False)"
      ]
     },
     "execution_count": 298,
     "metadata": {},
     "output_type": "execute_result"
    }
   ],
   "source": [
    "from sklearn.linear_model import LogisticRegression\n",
    "lg=LogisticRegression()\n",
    "lg.fit(traindata,train['Label'])"
   ]
  },
  {
   "cell_type": "code",
   "execution_count": 300,
   "metadata": {},
   "outputs": [
    {
     "data": {
      "text/plain": [
       "(0.95869918699187, 0.52046783625731)"
      ]
     },
     "execution_count": 300,
     "metadata": {},
     "output_type": "execute_result"
    }
   ],
   "source": [
    "lg.score(traindata,train['Label']),lg.score(test_data,test['Label'])"
   ]
  },
  {
   "cell_type": "code",
   "execution_count": null,
   "metadata": {},
   "outputs": [],
   "source": []
  },
  {
   "cell_type": "code",
   "execution_count": null,
   "metadata": {},
   "outputs": [],
   "source": []
  },
  {
   "cell_type": "code",
   "execution_count": null,
   "metadata": {},
   "outputs": [],
   "source": []
  },
  {
   "cell_type": "code",
   "execution_count": null,
   "metadata": {},
   "outputs": [],
   "source": []
  },
  {
   "cell_type": "code",
   "execution_count": null,
   "metadata": {},
   "outputs": [],
   "source": []
  },
  {
   "cell_type": "code",
   "execution_count": null,
   "metadata": {},
   "outputs": [],
   "source": []
  }
 ],
 "metadata": {
  "kernelspec": {
   "display_name": "Python 3",
   "language": "python",
   "name": "python3"
  },
  "language_info": {
   "codemirror_mode": {
    "name": "ipython",
    "version": 3
   },
   "file_extension": ".py",
   "mimetype": "text/x-python",
   "name": "python",
   "nbconvert_exporter": "python",
   "pygments_lexer": "ipython3",
   "version": "3.7.7"
  }
 },
 "nbformat": 4,
 "nbformat_minor": 4
}
