{
 "cells": [
  {
   "cell_type": "code",
   "execution_count": 6,
   "id": "d442399c",
   "metadata": {},
   "outputs": [],
   "source": [
    "import os\n",
    "import glob\n",
    "import warnings\n",
    "import numpy as np\n",
    "import pandas as pd\n",
    "import seaborn as sns\n",
    "import plotly.graph_objs as go\n",
    "import matplotlib.pyplot as pl"
   ]
  },
  {
   "cell_type": "code",
   "execution_count": 7,
   "id": "0ab86711",
   "metadata": {},
   "outputs": [],
   "source": [
    "warnings.filterwarnings(\"ignore\")"
   ]
  },
  {
   "cell_type": "markdown",
   "id": "0295bc02",
   "metadata": {},
   "source": [
    "# Merging all the available csv files to single dataframe"
   ]
  },
  {
   "cell_type": "raw",
   "id": "314adf43",
   "metadata": {},
   "source": [
    "basedir=\"D:/A_DataScience/Working with realtime Datasets/share_stock_nepal/Nepali_Stock_Market _Data__2012-2020\"\n",
    "os.chdir(basedir)\n",
    "dirs=os.listdir('.')\n",
    "extension = 'csv'\n",
    "columns=['S.No', 'Symbol', 'Conf.', 'Open', 'High', 'Low', 'Close', 'VWAP',\n",
    "       'Vol', 'Prev. Close', 'Turnover', 'Trans.', 'Diff', 'Range', 'Diff %',\n",
    "       'Range %', 'VWAP %', '52 Weeks High', '52 Weeks Low', '180 Days','Date']"
   ]
  },
  {
   "cell_type": "raw",
   "id": "0bea1dca",
   "metadata": {},
   "source": [
    "dataframe=pd.DataFrame(columns=columns)\n",
    "for directory in dirs:\n",
    "    os.chdir(f\"{basedir}/{directory}\")\n",
    "    all_filenames = [i for i in glob.glob('*.{}'.format(extension))]\n",
    "    for f in all_filenames:\n",
    "        df=pd.read_csv(f)\n",
    "        df['Date']=f[:-4]\n",
    "        dataframe=pd.concat([dataframe,df])    \n",
    "os.chdir(basedir)\n",
    "dataframe.to_csv( \"data_csv.csv\", index=False, encoding='utf-8-sig')"
   ]
  },
  {
   "cell_type": "code",
   "execution_count": 48,
   "id": "b9670c04",
   "metadata": {},
   "outputs": [],
   "source": [
    "df=pd.read_csv(\"./Nepali_Stock_Market _Data__2012-2020/data_csv.csv\")"
   ]
  },
  {
   "cell_type": "code",
   "execution_count": 49,
   "id": "2ee93ddf",
   "metadata": {},
   "outputs": [
    {
     "data": {
      "text/plain": [
       "(250901, 21)"
      ]
     },
     "execution_count": 49,
     "metadata": {},
     "output_type": "execute_result"
    }
   ],
   "source": [
    "df.shape"
   ]
  },
  {
   "cell_type": "code",
   "execution_count": 50,
   "id": "d35247f5",
   "metadata": {},
   "outputs": [
    {
     "data": {
      "text/html": [
       "<div>\n",
       "<style scoped>\n",
       "    .dataframe tbody tr th:only-of-type {\n",
       "        vertical-align: middle;\n",
       "    }\n",
       "\n",
       "    .dataframe tbody tr th {\n",
       "        vertical-align: top;\n",
       "    }\n",
       "\n",
       "    .dataframe thead th {\n",
       "        text-align: right;\n",
       "    }\n",
       "</style>\n",
       "<table border=\"1\" class=\"dataframe\">\n",
       "  <thead>\n",
       "    <tr style=\"text-align: right;\">\n",
       "      <th></th>\n",
       "      <th>S.No</th>\n",
       "      <th>Symbol</th>\n",
       "      <th>Conf.</th>\n",
       "      <th>Open</th>\n",
       "      <th>High</th>\n",
       "      <th>Low</th>\n",
       "      <th>Close</th>\n",
       "      <th>VWAP</th>\n",
       "      <th>Vol</th>\n",
       "      <th>Prev. Close</th>\n",
       "      <th>...</th>\n",
       "      <th>Trans.</th>\n",
       "      <th>Diff</th>\n",
       "      <th>Range</th>\n",
       "      <th>Diff %</th>\n",
       "      <th>Range %</th>\n",
       "      <th>VWAP %</th>\n",
       "      <th>52 Weeks High</th>\n",
       "      <th>52 Weeks Low</th>\n",
       "      <th>180 Days</th>\n",
       "      <th>Date</th>\n",
       "    </tr>\n",
       "  </thead>\n",
       "  <tbody>\n",
       "    <tr>\n",
       "      <th>0</th>\n",
       "      <td>1</td>\n",
       "      <td>ACEDBL</td>\n",
       "      <td>-</td>\n",
       "      <td>114.0</td>\n",
       "      <td>113.0</td>\n",
       "      <td>112.0</td>\n",
       "      <td>113.0</td>\n",
       "      <td>112.83</td>\n",
       "      <td>1,962</td>\n",
       "      <td>114.0</td>\n",
       "      <td>...</td>\n",
       "      <td>6</td>\n",
       "      <td>-1.0</td>\n",
       "      <td>1.0</td>\n",
       "      <td>-0.88</td>\n",
       "      <td>0.89</td>\n",
       "      <td>0.15</td>\n",
       "      <td>0.0</td>\n",
       "      <td>0.0</td>\n",
       "      <td>NaN</td>\n",
       "      <td>2012-01-01</td>\n",
       "    </tr>\n",
       "    <tr>\n",
       "      <th>1</th>\n",
       "      <td>2</td>\n",
       "      <td>ACEDPO</td>\n",
       "      <td>-</td>\n",
       "      <td>188.0</td>\n",
       "      <td>114.0</td>\n",
       "      <td>114.0</td>\n",
       "      <td>114.0</td>\n",
       "      <td>114.00</td>\n",
       "      <td>10,000</td>\n",
       "      <td>188.0</td>\n",
       "      <td>...</td>\n",
       "      <td>1</td>\n",
       "      <td>-74.0</td>\n",
       "      <td>0.0</td>\n",
       "      <td>-39.36</td>\n",
       "      <td>0.00</td>\n",
       "      <td>0.0</td>\n",
       "      <td>0.0</td>\n",
       "      <td>0.0</td>\n",
       "      <td>NaN</td>\n",
       "      <td>2012-01-01</td>\n",
       "    </tr>\n",
       "    <tr>\n",
       "      <th>2</th>\n",
       "      <td>3</td>\n",
       "      <td>ADBL</td>\n",
       "      <td>-</td>\n",
       "      <td>115.0</td>\n",
       "      <td>115.0</td>\n",
       "      <td>113.0</td>\n",
       "      <td>114.0</td>\n",
       "      <td>113.39</td>\n",
       "      <td>1,111</td>\n",
       "      <td>115.0</td>\n",
       "      <td>...</td>\n",
       "      <td>15</td>\n",
       "      <td>-1.0</td>\n",
       "      <td>2.0</td>\n",
       "      <td>-0.87</td>\n",
       "      <td>1.77</td>\n",
       "      <td>0.54</td>\n",
       "      <td>0.0</td>\n",
       "      <td>0.0</td>\n",
       "      <td>NaN</td>\n",
       "      <td>2012-01-01</td>\n",
       "    </tr>\n",
       "    <tr>\n",
       "      <th>3</th>\n",
       "      <td>4</td>\n",
       "      <td>AHPC</td>\n",
       "      <td>-</td>\n",
       "      <td>319.0</td>\n",
       "      <td>319.0</td>\n",
       "      <td>312.0</td>\n",
       "      <td>312.0</td>\n",
       "      <td>318.38</td>\n",
       "      <td>377</td>\n",
       "      <td>319.0</td>\n",
       "      <td>...</td>\n",
       "      <td>17</td>\n",
       "      <td>-7.0</td>\n",
       "      <td>7.0</td>\n",
       "      <td>-2.19</td>\n",
       "      <td>2.24</td>\n",
       "      <td>-2.05</td>\n",
       "      <td>0.0</td>\n",
       "      <td>0.0</td>\n",
       "      <td>NaN</td>\n",
       "      <td>2012-01-01</td>\n",
       "    </tr>\n",
       "    <tr>\n",
       "      <th>4</th>\n",
       "      <td>5</td>\n",
       "      <td>ALDBL</td>\n",
       "      <td>-</td>\n",
       "      <td>102.0</td>\n",
       "      <td>101.0</td>\n",
       "      <td>101.0</td>\n",
       "      <td>101.0</td>\n",
       "      <td>101.00</td>\n",
       "      <td>30</td>\n",
       "      <td>102.0</td>\n",
       "      <td>...</td>\n",
       "      <td>3</td>\n",
       "      <td>-1.0</td>\n",
       "      <td>0.0</td>\n",
       "      <td>-0.98</td>\n",
       "      <td>0.00</td>\n",
       "      <td>0.0</td>\n",
       "      <td>0.0</td>\n",
       "      <td>0.0</td>\n",
       "      <td>NaN</td>\n",
       "      <td>2012-01-01</td>\n",
       "    </tr>\n",
       "  </tbody>\n",
       "</table>\n",
       "<p>5 rows × 21 columns</p>\n",
       "</div>"
      ],
      "text/plain": [
       "   S.No  Symbol Conf.   Open   High    Low  Close    VWAP     Vol  \\\n",
       "0     1  ACEDBL     -  114.0  113.0  112.0  113.0  112.83   1,962   \n",
       "1     2  ACEDPO     -  188.0  114.0  114.0  114.0  114.00  10,000   \n",
       "2     3    ADBL     -  115.0  115.0  113.0  114.0  113.39   1,111   \n",
       "3     4    AHPC     -  319.0  319.0  312.0  312.0  318.38     377   \n",
       "4     5   ALDBL     -  102.0  101.0  101.0  101.0  101.00      30   \n",
       "\n",
       "   Prev. Close  ... Trans.  Diff Range Diff %  Range %  VWAP % 52 Weeks High  \\\n",
       "0        114.0  ...      6  -1.0   1.0  -0.88     0.89    0.15           0.0   \n",
       "1        188.0  ...      1 -74.0   0.0 -39.36     0.00     0.0           0.0   \n",
       "2        115.0  ...     15  -1.0   2.0  -0.87     1.77    0.54           0.0   \n",
       "3        319.0  ...     17  -7.0   7.0  -2.19     2.24   -2.05           0.0   \n",
       "4        102.0  ...      3  -1.0   0.0  -0.98     0.00     0.0           0.0   \n",
       "\n",
       "  52 Weeks Low 180 Days        Date  \n",
       "0          0.0      NaN  2012-01-01  \n",
       "1          0.0      NaN  2012-01-01  \n",
       "2          0.0      NaN  2012-01-01  \n",
       "3          0.0      NaN  2012-01-01  \n",
       "4          0.0      NaN  2012-01-01  \n",
       "\n",
       "[5 rows x 21 columns]"
      ]
     },
     "execution_count": 50,
     "metadata": {},
     "output_type": "execute_result"
    }
   ],
   "source": [
    "df.head()"
   ]
  },
  {
   "cell_type": "markdown",
   "id": "0d905f5d",
   "metadata": {},
   "source": [
    "# Checking for types of column data"
   ]
  },
  {
   "cell_type": "code",
   "execution_count": 51,
   "id": "9af67b46",
   "metadata": {},
   "outputs": [
    {
     "data": {
      "text/html": [
       "<div>\n",
       "<style scoped>\n",
       "    .dataframe tbody tr th:only-of-type {\n",
       "        vertical-align: middle;\n",
       "    }\n",
       "\n",
       "    .dataframe tbody tr th {\n",
       "        vertical-align: top;\n",
       "    }\n",
       "\n",
       "    .dataframe thead th {\n",
       "        text-align: right;\n",
       "    }\n",
       "</style>\n",
       "<table border=\"1\" class=\"dataframe\">\n",
       "  <thead>\n",
       "    <tr style=\"text-align: right;\">\n",
       "      <th></th>\n",
       "      <th>Column name</th>\n",
       "      <th>Data Type</th>\n",
       "    </tr>\n",
       "  </thead>\n",
       "  <tbody>\n",
       "    <tr>\n",
       "      <th>0</th>\n",
       "      <td>S.No</td>\n",
       "      <td>int64</td>\n",
       "    </tr>\n",
       "    <tr>\n",
       "      <th>1</th>\n",
       "      <td>Symbol</td>\n",
       "      <td>object</td>\n",
       "    </tr>\n",
       "    <tr>\n",
       "      <th>2</th>\n",
       "      <td>Conf.</td>\n",
       "      <td>object</td>\n",
       "    </tr>\n",
       "    <tr>\n",
       "      <th>3</th>\n",
       "      <td>Open</td>\n",
       "      <td>float64</td>\n",
       "    </tr>\n",
       "    <tr>\n",
       "      <th>4</th>\n",
       "      <td>High</td>\n",
       "      <td>float64</td>\n",
       "    </tr>\n",
       "    <tr>\n",
       "      <th>5</th>\n",
       "      <td>Low</td>\n",
       "      <td>float64</td>\n",
       "    </tr>\n",
       "    <tr>\n",
       "      <th>6</th>\n",
       "      <td>Close</td>\n",
       "      <td>float64</td>\n",
       "    </tr>\n",
       "    <tr>\n",
       "      <th>7</th>\n",
       "      <td>VWAP</td>\n",
       "      <td>object</td>\n",
       "    </tr>\n",
       "    <tr>\n",
       "      <th>8</th>\n",
       "      <td>Vol</td>\n",
       "      <td>object</td>\n",
       "    </tr>\n",
       "    <tr>\n",
       "      <th>9</th>\n",
       "      <td>Prev. Close</td>\n",
       "      <td>float64</td>\n",
       "    </tr>\n",
       "    <tr>\n",
       "      <th>10</th>\n",
       "      <td>Turnover</td>\n",
       "      <td>object</td>\n",
       "    </tr>\n",
       "    <tr>\n",
       "      <th>11</th>\n",
       "      <td>Trans.</td>\n",
       "      <td>object</td>\n",
       "    </tr>\n",
       "    <tr>\n",
       "      <th>12</th>\n",
       "      <td>Diff</td>\n",
       "      <td>object</td>\n",
       "    </tr>\n",
       "    <tr>\n",
       "      <th>13</th>\n",
       "      <td>Range</td>\n",
       "      <td>object</td>\n",
       "    </tr>\n",
       "    <tr>\n",
       "      <th>14</th>\n",
       "      <td>Diff %</td>\n",
       "      <td>float64</td>\n",
       "    </tr>\n",
       "    <tr>\n",
       "      <th>15</th>\n",
       "      <td>Range %</td>\n",
       "      <td>float64</td>\n",
       "    </tr>\n",
       "    <tr>\n",
       "      <th>16</th>\n",
       "      <td>VWAP %</td>\n",
       "      <td>object</td>\n",
       "    </tr>\n",
       "    <tr>\n",
       "      <th>17</th>\n",
       "      <td>52 Weeks High</td>\n",
       "      <td>object</td>\n",
       "    </tr>\n",
       "    <tr>\n",
       "      <th>18</th>\n",
       "      <td>52 Weeks Low</td>\n",
       "      <td>object</td>\n",
       "    </tr>\n",
       "    <tr>\n",
       "      <th>19</th>\n",
       "      <td>180 Days</td>\n",
       "      <td>object</td>\n",
       "    </tr>\n",
       "    <tr>\n",
       "      <th>20</th>\n",
       "      <td>Date</td>\n",
       "      <td>object</td>\n",
       "    </tr>\n",
       "  </tbody>\n",
       "</table>\n",
       "</div>"
      ],
      "text/plain": [
       "      Column name Data Type\n",
       "0            S.No     int64\n",
       "1          Symbol    object\n",
       "2           Conf.    object\n",
       "3            Open   float64\n",
       "4            High   float64\n",
       "5             Low   float64\n",
       "6           Close   float64\n",
       "7            VWAP    object\n",
       "8             Vol    object\n",
       "9     Prev. Close   float64\n",
       "10       Turnover    object\n",
       "11         Trans.    object\n",
       "12           Diff    object\n",
       "13          Range    object\n",
       "14         Diff %   float64\n",
       "15        Range %   float64\n",
       "16         VWAP %    object\n",
       "17  52 Weeks High    object\n",
       "18   52 Weeks Low    object\n",
       "19       180 Days    object\n",
       "20           Date    object"
      ]
     },
     "execution_count": 51,
     "metadata": {},
     "output_type": "execute_result"
    }
   ],
   "source": [
    "pd.DataFrame(df.dtypes,columns=[\"Columns\"]).reset_index().rename(columns={\"index\":\"Column name\",\"Columns\":\"Data Type\"})"
   ]
  },
  {
   "cell_type": "markdown",
   "id": "37165f2e",
   "metadata": {},
   "source": [
    "# Checking missing values"
   ]
  },
  {
   "cell_type": "code",
   "execution_count": 52,
   "id": "5b83ad39",
   "metadata": {},
   "outputs": [
    {
     "data": {
      "text/plain": [
       "S.No                  0\n",
       "Symbol              140\n",
       "Conf.                 0\n",
       "Open                  0\n",
       "High                  0\n",
       "Low                   0\n",
       "Close                 0\n",
       "VWAP                  0\n",
       "Vol                   0\n",
       "Prev. Close           0\n",
       "Turnover              0\n",
       "Trans.                0\n",
       "Diff                  0\n",
       "Range                 0\n",
       "Diff %                0\n",
       "Range %               0\n",
       "VWAP %                0\n",
       "52 Weeks High         0\n",
       "52 Weeks Low          0\n",
       "180 Days         250779\n",
       "Date                  0\n",
       "dtype: int64"
      ]
     },
     "execution_count": 52,
     "metadata": {},
     "output_type": "execute_result"
    }
   ],
   "source": [
    "null_values=df.isnull().sum()\n",
    "null_values"
   ]
  },
  {
   "cell_type": "code",
   "execution_count": 34,
   "id": "143af146",
   "metadata": {},
   "outputs": [
    {
     "data": {
      "text/plain": [
       "<AxesSubplot:>"
      ]
     },
     "execution_count": 34,
     "metadata": {},
     "output_type": "execute_result"
    },
    {
     "data": {
      "image/png": "[encoded data removed]",
      "text/plain": [
       "<Figure size 432x288 with 2 Axes>"
      ]
     },
     "metadata": {
      "needs_background": "light"
     },
     "output_type": "display_data"
    }
   ],
   "source": [
    "sns.heatmap(df.isnull())"
   ]
  },
  {
   "cell_type": "code",
   "execution_count": 53,
   "id": "231d8b93",
   "metadata": {},
   "outputs": [
    {
     "data": {
      "text/plain": [
       "S.No             0.000000\n",
       "Symbol           0.000558\n",
       "Conf.            0.000000\n",
       "Open             0.000000\n",
       "High             0.000000\n",
       "Low              0.000000\n",
       "Close            0.000000\n",
       "VWAP             0.000000\n",
       "Vol              0.000000\n",
       "Prev. Close      0.000000\n",
       "Turnover         0.000000\n",
       "Trans.           0.000000\n",
       "Diff             0.000000\n",
       "Range            0.000000\n",
       "Diff %           0.000000\n",
       "Range %          0.000000\n",
       "VWAP %           0.000000\n",
       "52 Weeks High    0.000000\n",
       "52 Weeks Low     0.000000\n",
       "180 Days         0.999514\n",
       "Date             0.000000\n",
       "dtype: float64"
      ]
     },
     "execution_count": 53,
     "metadata": {},
     "output_type": "execute_result"
    }
   ],
   "source": [
    "null_values/len(df)"
   ]
  },
  {
   "cell_type": "markdown",
   "id": "4edd3296",
   "metadata": {},
   "source": [
    "### 99 percent of 180 Days data is missing so we can drop this column"
   ]
  },
  {
   "cell_type": "code",
   "execution_count": 54,
   "id": "8d9fb0e4",
   "metadata": {},
   "outputs": [],
   "source": [
    "df.drop(columns=[\"180 Days\"],axis=0,inplace=True)"
   ]
  },
  {
   "cell_type": "code",
   "execution_count": 66,
   "id": "62d07723",
   "metadata": {},
   "outputs": [
    {
     "data": {
      "text/html": [
       "<style  type=\"text/css\" >\n",
       "#T_ddb23_row0_col0,#T_ddb23_row0_col1,#T_ddb23_row0_col2,#T_ddb23_row0_col3,#T_ddb23_row0_col4,#T_ddb23_row0_col5,#T_ddb23_row0_col6,#T_ddb23_row0_col7{\n",
       "            background-color:  #ffed6f;\n",
       "            color:  #000000;\n",
       "        }#T_ddb23_row1_col0,#T_ddb23_row1_col1,#T_ddb23_row1_col2,#T_ddb23_row1_col3,#T_ddb23_row1_col4,#T_ddb23_row1_col5,#T_ddb23_row1_col6,#T_ddb23_row1_col7,#T_ddb23_row2_col0,#T_ddb23_row2_col1,#T_ddb23_row2_col2,#T_ddb23_row2_col3,#T_ddb23_row2_col4,#T_ddb23_row2_col5,#T_ddb23_row2_col6,#T_ddb23_row2_col7,#T_ddb23_row3_col0,#T_ddb23_row3_col1,#T_ddb23_row3_col2,#T_ddb23_row3_col3,#T_ddb23_row3_col4,#T_ddb23_row3_col5,#T_ddb23_row3_col6,#T_ddb23_row3_col7,#T_ddb23_row4_col0,#T_ddb23_row4_col1,#T_ddb23_row4_col2,#T_ddb23_row4_col3,#T_ddb23_row4_col4,#T_ddb23_row4_col5,#T_ddb23_row4_col6,#T_ddb23_row4_col7,#T_ddb23_row5_col0,#T_ddb23_row5_col1,#T_ddb23_row5_col2,#T_ddb23_row5_col3,#T_ddb23_row5_col4,#T_ddb23_row5_col5,#T_ddb23_row5_col6,#T_ddb23_row5_col7,#T_ddb23_row6_col0,#T_ddb23_row6_col1,#T_ddb23_row6_col2,#T_ddb23_row6_col3,#T_ddb23_row6_col4,#T_ddb23_row6_col5,#T_ddb23_row6_col6,#T_ddb23_row6_col7,#T_ddb23_row7_col0,#T_ddb23_row7_col6,#T_ddb23_row7_col7{\n",
       "            background-color:  #8dd3c7;\n",
       "            color:  #000000;\n",
       "        }#T_ddb23_row7_col1,#T_ddb23_row7_col2,#T_ddb23_row7_col3,#T_ddb23_row7_col4,#T_ddb23_row7_col5{\n",
       "            background-color:  #ffffb3;\n",
       "            color:  #000000;\n",
       "        }</style><table id=\"T_ddb23_\" ><thead>    <tr>        <th class=\"blank level0\" ></th>        <th class=\"col_heading level0 col0\" >S.No</th>        <th class=\"col_heading level0 col1\" >Open</th>        <th class=\"col_heading level0 col2\" >High</th>        <th class=\"col_heading level0 col3\" >Low</th>        <th class=\"col_heading level0 col4\" >Close</th>        <th class=\"col_heading level0 col5\" >Prev. Close</th>        <th class=\"col_heading level0 col6\" >Diff %</th>        <th class=\"col_heading level0 col7\" >Range %</th>    </tr></thead><tbody>\n",
       "                <tr>\n",
       "                        <th id=\"T_ddb23_level0_row0\" class=\"row_heading level0 row0\" >count</th>\n",
       "                        <td id=\"T_ddb23_row0_col0\" class=\"data row0 col0\" >250901.000000</td>\n",
       "                        <td id=\"T_ddb23_row0_col1\" class=\"data row0 col1\" >250901.000000</td>\n",
       "                        <td id=\"T_ddb23_row0_col2\" class=\"data row0 col2\" >250901.000000</td>\n",
       "                        <td id=\"T_ddb23_row0_col3\" class=\"data row0 col3\" >250901.000000</td>\n",
       "                        <td id=\"T_ddb23_row0_col4\" class=\"data row0 col4\" >250901.000000</td>\n",
       "                        <td id=\"T_ddb23_row0_col5\" class=\"data row0 col5\" >250901.000000</td>\n",
       "                        <td id=\"T_ddb23_row0_col6\" class=\"data row0 col6\" >250901.000000</td>\n",
       "                        <td id=\"T_ddb23_row0_col7\" class=\"data row0 col7\" >250901.000000</td>\n",
       "            </tr>\n",
       "            <tr>\n",
       "                        <th id=\"T_ddb23_level0_row1\" class=\"row_heading level0 row1\" >mean</th>\n",
       "                        <td id=\"T_ddb23_row1_col0\" class=\"data row1 col0\" >70.281685</td>\n",
       "                        <td id=\"T_ddb23_row1_col1\" class=\"data row1 col1\" >728.115518</td>\n",
       "                        <td id=\"T_ddb23_row1_col2\" class=\"data row1 col2\" >738.121261</td>\n",
       "                        <td id=\"T_ddb23_row1_col3\" class=\"data row1 col3\" >719.442406</td>\n",
       "                        <td id=\"T_ddb23_row1_col4\" class=\"data row1 col4\" >729.287949</td>\n",
       "                        <td id=\"T_ddb23_row1_col5\" class=\"data row1 col5\" >728.147330</td>\n",
       "                        <td id=\"T_ddb23_row1_col6\" class=\"data row1 col6\" >0.154513</td>\n",
       "                        <td id=\"T_ddb23_row1_col7\" class=\"data row1 col7\" >2.721788</td>\n",
       "            </tr>\n",
       "            <tr>\n",
       "                        <th id=\"T_ddb23_level0_row2\" class=\"row_heading level0 row2\" >std</th>\n",
       "                        <td id=\"T_ddb23_row2_col0\" class=\"data row2 col0\" >44.248010</td>\n",
       "                        <td id=\"T_ddb23_row2_col1\" class=\"data row2 col1\" >1589.122378</td>\n",
       "                        <td id=\"T_ddb23_row2_col2\" class=\"data row2 col2\" >1604.530323</td>\n",
       "                        <td id=\"T_ddb23_row2_col3\" class=\"data row2 col3\" >1577.026589</td>\n",
       "                        <td id=\"T_ddb23_row2_col4\" class=\"data row2 col4\" >1591.221102</td>\n",
       "                        <td id=\"T_ddb23_row2_col5\" class=\"data row2 col5\" >1589.493687</td>\n",
       "                        <td id=\"T_ddb23_row2_col6\" class=\"data row2 col6\" >3.364801</td>\n",
       "                        <td id=\"T_ddb23_row2_col7\" class=\"data row2 col7\" >2.592309</td>\n",
       "            </tr>\n",
       "            <tr>\n",
       "                        <th id=\"T_ddb23_level0_row3\" class=\"row_heading level0 row3\" >min</th>\n",
       "                        <td id=\"T_ddb23_row3_col0\" class=\"data row3 col0\" >1.000000</td>\n",
       "                        <td id=\"T_ddb23_row3_col1\" class=\"data row3 col1\" >0.000000</td>\n",
       "                        <td id=\"T_ddb23_row3_col2\" class=\"data row3 col2\" >0.000000</td>\n",
       "                        <td id=\"T_ddb23_row3_col3\" class=\"data row3 col3\" >0.000000</td>\n",
       "                        <td id=\"T_ddb23_row3_col4\" class=\"data row3 col4\" >0.000000</td>\n",
       "                        <td id=\"T_ddb23_row3_col5\" class=\"data row3 col5\" >0.000000</td>\n",
       "                        <td id=\"T_ddb23_row3_col6\" class=\"data row3 col6\" >-100.000000</td>\n",
       "                        <td id=\"T_ddb23_row3_col7\" class=\"data row3 col7\" >-100.000000</td>\n",
       "            </tr>\n",
       "            <tr>\n",
       "                        <th id=\"T_ddb23_level0_row4\" class=\"row_heading level0 row4\" >25%</th>\n",
       "                        <td id=\"T_ddb23_row4_col0\" class=\"data row4 col0\" >33.000000</td>\n",
       "                        <td id=\"T_ddb23_row4_col1\" class=\"data row4 col1\" >169.000000</td>\n",
       "                        <td id=\"T_ddb23_row4_col2\" class=\"data row4 col2\" >171.000000</td>\n",
       "                        <td id=\"T_ddb23_row4_col3\" class=\"data row4 col3\" >167.000000</td>\n",
       "                        <td id=\"T_ddb23_row4_col4\" class=\"data row4 col4\" >170.000000</td>\n",
       "                        <td id=\"T_ddb23_row4_col5\" class=\"data row4 col5\" >169.000000</td>\n",
       "                        <td id=\"T_ddb23_row4_col6\" class=\"data row4 col6\" >-1.410000</td>\n",
       "                        <td id=\"T_ddb23_row4_col7\" class=\"data row4 col7\" >1.140000</td>\n",
       "            </tr>\n",
       "            <tr>\n",
       "                        <th id=\"T_ddb23_level0_row5\" class=\"row_heading level0 row5\" >50%</th>\n",
       "                        <td id=\"T_ddb23_row5_col0\" class=\"data row5 col0\" >66.000000</td>\n",
       "                        <td id=\"T_ddb23_row5_col1\" class=\"data row5 col1\" >350.000000</td>\n",
       "                        <td id=\"T_ddb23_row5_col2\" class=\"data row5 col2\" >356.000000</td>\n",
       "                        <td id=\"T_ddb23_row5_col3\" class=\"data row5 col3\" >346.000000</td>\n",
       "                        <td id=\"T_ddb23_row5_col4\" class=\"data row5 col4\" >351.000000</td>\n",
       "                        <td id=\"T_ddb23_row5_col5\" class=\"data row5 col5\" >350.000000</td>\n",
       "                        <td id=\"T_ddb23_row5_col6\" class=\"data row5 col6\" >0.000000</td>\n",
       "                        <td id=\"T_ddb23_row5_col7\" class=\"data row5 col7\" >2.050000</td>\n",
       "            </tr>\n",
       "            <tr>\n",
       "                        <th id=\"T_ddb23_level0_row6\" class=\"row_heading level0 row6\" >75%</th>\n",
       "                        <td id=\"T_ddb23_row6_col0\" class=\"data row6 col0\" >104.000000</td>\n",
       "                        <td id=\"T_ddb23_row6_col1\" class=\"data row6 col1\" >755.000000</td>\n",
       "                        <td id=\"T_ddb23_row6_col2\" class=\"data row6 col2\" >768.000000</td>\n",
       "                        <td id=\"T_ddb23_row6_col3\" class=\"data row6 col3\" >745.000000</td>\n",
       "                        <td id=\"T_ddb23_row6_col4\" class=\"data row6 col4\" >757.000000</td>\n",
       "                        <td id=\"T_ddb23_row6_col5\" class=\"data row6 col5\" >755.000000</td>\n",
       "                        <td id=\"T_ddb23_row6_col6\" class=\"data row6 col6\" >1.420000</td>\n",
       "                        <td id=\"T_ddb23_row6_col7\" class=\"data row6 col7\" >3.740000</td>\n",
       "            </tr>\n",
       "            <tr>\n",
       "                        <th id=\"T_ddb23_level0_row7\" class=\"row_heading level0 row7\" >max</th>\n",
       "                        <td id=\"T_ddb23_row7_col0\" class=\"data row7 col0\" >378.000000</td>\n",
       "                        <td id=\"T_ddb23_row7_col1\" class=\"data row7 col1\" >36000.000000</td>\n",
       "                        <td id=\"T_ddb23_row7_col2\" class=\"data row7 col2\" >36000.000000</td>\n",
       "                        <td id=\"T_ddb23_row7_col3\" class=\"data row7 col3\" >36000.000000</td>\n",
       "                        <td id=\"T_ddb23_row7_col4\" class=\"data row7 col4\" >36000.000000</td>\n",
       "                        <td id=\"T_ddb23_row7_col5\" class=\"data row7 col5\" >36000.000000</td>\n",
       "                        <td id=\"T_ddb23_row7_col6\" class=\"data row7 col6\" >412.730000</td>\n",
       "                        <td id=\"T_ddb23_row7_col7\" class=\"data row7 col7\" >261.920000</td>\n",
       "            </tr>\n",
       "    </tbody></table>"
      ],
      "text/plain": [
       "<pandas.io.formats.style.Styler at 0x26404c11d30>"
      ]
     },
     "execution_count": 66,
     "metadata": {},
     "output_type": "execute_result"
    }
   ],
   "source": [
    "df.describe().style.background_gradient(cmap=\"Set3\")"
   ]
  },
  {
   "cell_type": "code",
   "execution_count": null,
   "id": "61b6f4ed",
   "metadata": {},
   "outputs": [],
   "source": []
  },
  {
   "cell_type": "code",
   "execution_count": null,
   "id": "426d1e92",
   "metadata": {},
   "outputs": [],
   "source": []
  },
  {
   "cell_type": "code",
   "execution_count": null,
   "id": "32c7dfa6",
   "metadata": {},
   "outputs": [],
   "source": []
  },
  {
   "cell_type": "code",
   "execution_count": null,
   "id": "55726d46",
   "metadata": {},
   "outputs": [],
   "source": []
  },
  {
   "cell_type": "code",
   "execution_count": null,
   "id": "25073a58",
   "metadata": {},
   "outputs": [],
   "source": []
  },
  {
   "cell_type": "code",
   "execution_count": null,
   "id": "65afd29c",
   "metadata": {},
   "outputs": [],
   "source": []
  },
  {
   "cell_type": "code",
   "execution_count": null,
   "id": "d0150fe5",
   "metadata": {},
   "outputs": [],
   "source": []
  },
  {
   "cell_type": "code",
   "execution_count": null,
   "id": "f05cd54a",
   "metadata": {},
   "outputs": [],
   "source": []
  },
  {
   "cell_type": "code",
   "execution_count": null,
   "id": "41002a89",
   "metadata": {},
   "outputs": [],
   "source": []
  },
  {
   "cell_type": "code",
   "execution_count": null,
   "id": "b9790399",
   "metadata": {},
   "outputs": [],
   "source": []
  },
  {
   "cell_type": "code",
   "execution_count": null,
   "id": "58a7cb85",
   "metadata": {},
   "outputs": [],
   "source": []
  },
  {
   "cell_type": "code",
   "execution_count": null,
   "id": "bb51017e",
   "metadata": {},
   "outputs": [],
   "source": []
  },
  {
   "cell_type": "code",
   "execution_count": null,
   "id": "877c041a",
   "metadata": {},
   "outputs": [],
   "source": []
  },
  {
   "cell_type": "code",
   "execution_count": null,
   "id": "07c4f6a1",
   "metadata": {},
   "outputs": [],
   "source": []
  },
  {
   "cell_type": "code",
   "execution_count": null,
   "id": "1fa41bdd",
   "metadata": {},
   "outputs": [],
   "source": []
  },
  {
   "cell_type": "code",
   "execution_count": null,
   "id": "6ac10286",
   "metadata": {},
   "outputs": [],
   "source": []
  },
  {
   "cell_type": "code",
   "execution_count": null,
   "id": "30558731",
   "metadata": {},
   "outputs": [],
   "source": []
  },
  {
   "cell_type": "code",
   "execution_count": null,
   "id": "06246342",
   "metadata": {},
   "outputs": [],
   "source": []
  },
  {
   "cell_type": "code",
   "execution_count": null,
   "id": "00c4ffe4",
   "metadata": {},
   "outputs": [],
   "source": []
  },
  {
   "cell_type": "code",
   "execution_count": null,
   "id": "486d1bd5",
   "metadata": {},
   "outputs": [],
   "source": []
  },
  {
   "cell_type": "code",
   "execution_count": null,
   "id": "01097e96",
   "metadata": {},
   "outputs": [],
   "source": []
  }
 ],
 "metadata": {
  "kernelspec": {
   "display_name": "Python 3",
   "language": "python",
   "name": "python3"
  },
  "language_info": {
   "codemirror_mode": {
    "name": "ipython",
    "version": 3
   },
   "file_extension": ".py",
   "mimetype": "text/x-python",
   "name": "python",
   "nbconvert_exporter": "python",
   "pygments_lexer": "ipython3",
   "version": "3.9.5"
  }
 },
 "nbformat": 4,
 "nbformat_minor": 5
}
