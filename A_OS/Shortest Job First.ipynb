{
 "cells": [
  {
   "cell_type": "raw",
   "metadata": {},
   "source": [
    "Max CPU utilization [Keep CPU as busy as possible]\n",
    "Fair allocation of CPU.\n",
    "Max throughput [Number of processes that complete their execution per time unit]\n",
    "Min turnaround time [Time taken by a process to finish execution]\n",
    "Min waiting time [Time a process waits in ready queue]\n",
    "Min response time [Time when a process produces first response]"
   ]
  },
  {
   "cell_type": "raw",
   "metadata": {},
   "source": [
    "The process with lowest arrival time will be checked first and \n",
    "its burst time will also be verified. The one with less burst time will \n",
    "be selected first"
   ]
  },
  {
   "cell_type": "code",
   "execution_count": 1,
   "metadata": {},
   "outputs": [],
   "source": [
    "import pandas as pd"
   ]
  },
  {
   "cell_type": "code",
   "execution_count": 89,
   "metadata": {},
   "outputs": [
    {
     "name": "stdout",
     "output_type": "stream",
     "text": [
      "  Process  Arrival_t  Burst_t\n",
      "0      p1          1        3\n",
      "1      p3          1        2\n",
      "2      p2          2        4\n",
      "3      p4          4        4\n",
      "\n",
      "\n",
      "\n",
      "\n",
      "\n",
      "  Process  Arrival_t  Burst_t\n",
      "0      p3          1        2\n",
      "1      p1          1        3\n",
      "  Process  Arrival_t  Burst_t\n",
      "0      p2          2        4\n",
      "1      p4          4        4\n",
      "______________________________\n",
      "  Process  Arrival_t  Burst_t\n",
      "0      p2          2        4\n",
      "  Process  Arrival_t  Burst_t\n",
      "0      p4          4        4\n",
      "______________________________\n",
      "  Process  Arrival_t  Burst_t\n",
      "0      p4          4        4\n",
      "Empty DataFrame\n",
      "Columns: [Process, Arrival_t, Burst_t]\n",
      "Index: []\n",
      "______________________________\n",
      "['CPU Idle1']\n",
      "[4, 6, 0, 0]\n"
     ]
    }
   ],
   "source": [
    "\n",
    "\n",
    "\n",
    "\n",
    "\n",
    "def shortest_job_first(process,arrival,burst):\n",
    "    df=pd.DataFrame({'Process':process,\n",
    "                     'Arrival_t':arrival,\n",
    "                     'Burst_t':burst})\n",
    "    df=df.sort_values('Arrival_t').reset_index(drop=True)\n",
    "    print(df)\n",
    "    print('\\n\\n\\n\\n')\n",
    "    available=0\n",
    "    cpu_status=[]\n",
    "    completion_time=[0]*len(df)\n",
    "    while len(df)!=0:\n",
    "        min_arrival=min(df['Arrival_t'])\n",
    "        temp_df=df[df['Arrival_t']==min_arrival]\n",
    "        temp_df=temp_df.sort_values('Burst_t',axis=0).reset_index(drop=True)\n",
    "        print(temp_df)\n",
    "        df=df[df['Arrival_t']!=min_arrival].reset_index(drop=True)\n",
    "        print(df)\n",
    "        print('______________________________')\n",
    "        for i,j in temp_df.iterrows():\n",
    "            if j['Arrival_t']>available:\n",
    "                cpu_status.append('CPU Idle'+str(j['Arrival_t']))\n",
    "                completion_time[i]=j['Arrival_t']+j['Burst_t']\n",
    "            else:\n",
    "                completion_time[i]=completion_time[i-1]+j['Burst_t']\n",
    "        \n",
    "            \n",
    "            available+=int(j['Burst_t'])\n",
    "    print(cpu_status)\n",
    "    print(completion_time)\n",
    "\n",
    "process=['p1','p2','p3','p4']\n",
    "arrival=[1,2,1,4]\n",
    "burst=[3,4,2,4]\n",
    "\n",
    "shortest_job_first(process,arrival,burst)"
   ]
  },
  {
   "cell_type": "code",
   "execution_count": 57,
   "metadata": {},
   "outputs": [
    {
     "data": {
      "application/javascript": [
       "\n",
       "        if (window._pyforest_update_imports_cell) { window._pyforest_update_imports_cell('import numpy as np'); }\n",
       "    "
      ],
      "text/plain": [
       "<IPython.core.display.Javascript object>"
      ]
     },
     "metadata": {},
     "output_type": "display_data"
    }
   ],
   "source": [
    "process=['p1','p2','p3','p4']\n",
    "arrival=[1,2,1,4]\n",
    "burst=[3,4,2,4]\n",
    "\n",
    "array=np.array([['p1','p2','p3','p4'],[1,2,1,4],[3,4,2,4]])"
   ]
  },
  {
   "cell_type": "code",
   "execution_count": 58,
   "metadata": {},
   "outputs": [
    {
     "data": {
      "application/javascript": [
       "\n",
       "        if (window._pyforest_update_imports_cell) { window._pyforest_update_imports_cell('import numpy as np'); }\n",
       "    "
      ],
      "text/plain": [
       "<IPython.core.display.Javascript object>"
      ]
     },
     "metadata": {},
     "output_type": "display_data"
    },
    {
     "data": {
      "text/plain": [
       "array([['p1', 'p2', 'p3', 'p4'],\n",
       "       ['1', '1', '2', '4'],\n",
       "       ['2', '3', '4', '4']], dtype='<U2')"
      ]
     },
     "execution_count": 58,
     "metadata": {},
     "output_type": "execute_result"
    }
   ],
   "source": [
    "np.sort(array,axis=1)"
   ]
  },
  {
   "cell_type": "code",
   "execution_count": null,
   "metadata": {},
   "outputs": [],
   "source": []
  },
  {
   "cell_type": "code",
   "execution_count": null,
   "metadata": {},
   "outputs": [],
   "source": []
  },
  {
   "cell_type": "code",
   "execution_count": null,
   "metadata": {},
   "outputs": [],
   "source": []
  },
  {
   "cell_type": "code",
   "execution_count": null,
   "metadata": {},
   "outputs": [],
   "source": []
  },
  {
   "cell_type": "code",
   "execution_count": null,
   "metadata": {},
   "outputs": [],
   "source": []
  },
  {
   "cell_type": "code",
   "execution_count": null,
   "metadata": {},
   "outputs": [],
   "source": []
  },
  {
   "cell_type": "code",
   "execution_count": null,
   "metadata": {},
   "outputs": [],
   "source": []
  },
  {
   "cell_type": "code",
   "execution_count": null,
   "metadata": {},
   "outputs": [],
   "source": []
  },
  {
   "cell_type": "code",
   "execution_count": null,
   "metadata": {},
   "outputs": [],
   "source": []
  },
  {
   "cell_type": "code",
   "execution_count": null,
   "metadata": {},
   "outputs": [],
   "source": []
  },
  {
   "cell_type": "code",
   "execution_count": null,
   "metadata": {},
   "outputs": [],
   "source": []
  },
  {
   "cell_type": "code",
   "execution_count": null,
   "metadata": {},
   "outputs": [],
   "source": []
  },
  {
   "cell_type": "code",
   "execution_count": null,
   "metadata": {},
   "outputs": [],
   "source": []
  },
  {
   "cell_type": "code",
   "execution_count": null,
   "metadata": {},
   "outputs": [],
   "source": []
  },
  {
   "cell_type": "code",
   "execution_count": null,
   "metadata": {},
   "outputs": [],
   "source": []
  },
  {
   "cell_type": "code",
   "execution_count": null,
   "metadata": {},
   "outputs": [],
   "source": []
  },
  {
   "cell_type": "code",
   "execution_count": null,
   "metadata": {},
   "outputs": [],
   "source": []
  },
  {
   "cell_type": "code",
   "execution_count": null,
   "metadata": {},
   "outputs": [],
   "source": []
  }
 ],
 "metadata": {
  "kernelspec": {
   "display_name": "Python 3",
   "language": "python",
   "name": "python3"
  },
  "language_info": {
   "codemirror_mode": {
    "name": "ipython",
    "version": 3
   },
   "file_extension": ".py",
   "mimetype": "text/x-python",
   "name": "python",
   "nbconvert_exporter": "python",
   "pygments_lexer": "ipython3",
   "version": "3.7.7"
  }
 },
 "nbformat": 4,
 "nbformat_minor": 4
}
