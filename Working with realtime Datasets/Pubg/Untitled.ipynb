{
 "cells": [
  {
   "cell_type": "code",
   "execution_count": 60,
   "metadata": {},
   "outputs": [],
   "source": [
    "import numpy as np\n",
    "import pandas as pd\n",
    "import matplotlib.pyplot as pl\n",
    "from plotly import express as plo\n",
    "import seaborn as sns\n",
    "import itertools\n",
    "import warnings\n",
    "warnings.filterwarnings('ignore')\n",
    "pl.style.use('seaborn-whitegrid')"
   ]
  },
  {
   "cell_type": "code",
   "execution_count": 4,
   "metadata": {},
   "outputs": [],
   "source": [
    "train=pd.read_csv('/Users/rissu/Downloads/Compressed/drive-download-20200502T100031Z-001/train_V2.csv')\n",
    "test=pd.read_csv('/Users/rissu/Downloads/Compressed/drive-download-20200502T100031Z-001/test_V2.csv')"
   ]
  },
  {
   "cell_type": "code",
   "execution_count": 5,
   "metadata": {},
   "outputs": [
    {
     "data": {
      "text/plain": [
       "((4446966, 29), (1934174, 28))"
      ]
     },
     "execution_count": 5,
     "metadata": {},
     "output_type": "execute_result"
    }
   ],
   "source": [
    "train.shape,test.shape"
   ]
  },
  {
   "cell_type": "code",
   "execution_count": 6,
   "metadata": {},
   "outputs": [
    {
     "data": {
      "text/html": [
       "<div>\n",
       "<style scoped>\n",
       "    .dataframe tbody tr th:only-of-type {\n",
       "        vertical-align: middle;\n",
       "    }\n",
       "\n",
       "    .dataframe tbody tr th {\n",
       "        vertical-align: top;\n",
       "    }\n",
       "\n",
       "    .dataframe thead th {\n",
       "        text-align: right;\n",
       "    }\n",
       "</style>\n",
       "<table border=\"1\" class=\"dataframe\">\n",
       "  <thead>\n",
       "    <tr style=\"text-align: right;\">\n",
       "      <th></th>\n",
       "      <th>0</th>\n",
       "      <th>1</th>\n",
       "      <th>2</th>\n",
       "    </tr>\n",
       "  </thead>\n",
       "  <tbody>\n",
       "    <tr>\n",
       "      <th>Id</th>\n",
       "      <td>7f96b2f878858a</td>\n",
       "      <td>eef90569b9d03c</td>\n",
       "      <td>1eaf90ac73de72</td>\n",
       "    </tr>\n",
       "    <tr>\n",
       "      <th>groupId</th>\n",
       "      <td>4d4b580de459be</td>\n",
       "      <td>684d5656442f9e</td>\n",
       "      <td>6a4a42c3245a74</td>\n",
       "    </tr>\n",
       "    <tr>\n",
       "      <th>matchId</th>\n",
       "      <td>a10357fd1a4a91</td>\n",
       "      <td>aeb375fc57110c</td>\n",
       "      <td>110163d8bb94ae</td>\n",
       "    </tr>\n",
       "    <tr>\n",
       "      <th>assists</th>\n",
       "      <td>0</td>\n",
       "      <td>0</td>\n",
       "      <td>1</td>\n",
       "    </tr>\n",
       "    <tr>\n",
       "      <th>boosts</th>\n",
       "      <td>0</td>\n",
       "      <td>0</td>\n",
       "      <td>0</td>\n",
       "    </tr>\n",
       "    <tr>\n",
       "      <th>damageDealt</th>\n",
       "      <td>0</td>\n",
       "      <td>91.47</td>\n",
       "      <td>68</td>\n",
       "    </tr>\n",
       "    <tr>\n",
       "      <th>DBNOs</th>\n",
       "      <td>0</td>\n",
       "      <td>0</td>\n",
       "      <td>0</td>\n",
       "    </tr>\n",
       "    <tr>\n",
       "      <th>headshotKills</th>\n",
       "      <td>0</td>\n",
       "      <td>0</td>\n",
       "      <td>0</td>\n",
       "    </tr>\n",
       "    <tr>\n",
       "      <th>heals</th>\n",
       "      <td>0</td>\n",
       "      <td>0</td>\n",
       "      <td>0</td>\n",
       "    </tr>\n",
       "    <tr>\n",
       "      <th>killPlace</th>\n",
       "      <td>60</td>\n",
       "      <td>57</td>\n",
       "      <td>47</td>\n",
       "    </tr>\n",
       "    <tr>\n",
       "      <th>killPoints</th>\n",
       "      <td>1241</td>\n",
       "      <td>0</td>\n",
       "      <td>0</td>\n",
       "    </tr>\n",
       "    <tr>\n",
       "      <th>kills</th>\n",
       "      <td>0</td>\n",
       "      <td>0</td>\n",
       "      <td>0</td>\n",
       "    </tr>\n",
       "    <tr>\n",
       "      <th>killStreaks</th>\n",
       "      <td>0</td>\n",
       "      <td>0</td>\n",
       "      <td>0</td>\n",
       "    </tr>\n",
       "    <tr>\n",
       "      <th>longestKill</th>\n",
       "      <td>0</td>\n",
       "      <td>0</td>\n",
       "      <td>0</td>\n",
       "    </tr>\n",
       "    <tr>\n",
       "      <th>matchDuration</th>\n",
       "      <td>1306</td>\n",
       "      <td>1777</td>\n",
       "      <td>1318</td>\n",
       "    </tr>\n",
       "    <tr>\n",
       "      <th>matchType</th>\n",
       "      <td>squad-fpp</td>\n",
       "      <td>squad-fpp</td>\n",
       "      <td>duo</td>\n",
       "    </tr>\n",
       "    <tr>\n",
       "      <th>maxPlace</th>\n",
       "      <td>28</td>\n",
       "      <td>26</td>\n",
       "      <td>50</td>\n",
       "    </tr>\n",
       "    <tr>\n",
       "      <th>numGroups</th>\n",
       "      <td>26</td>\n",
       "      <td>25</td>\n",
       "      <td>47</td>\n",
       "    </tr>\n",
       "    <tr>\n",
       "      <th>rankPoints</th>\n",
       "      <td>-1</td>\n",
       "      <td>1484</td>\n",
       "      <td>1491</td>\n",
       "    </tr>\n",
       "    <tr>\n",
       "      <th>revives</th>\n",
       "      <td>0</td>\n",
       "      <td>0</td>\n",
       "      <td>0</td>\n",
       "    </tr>\n",
       "    <tr>\n",
       "      <th>rideDistance</th>\n",
       "      <td>0</td>\n",
       "      <td>0.0045</td>\n",
       "      <td>0</td>\n",
       "    </tr>\n",
       "    <tr>\n",
       "      <th>roadKills</th>\n",
       "      <td>0</td>\n",
       "      <td>0</td>\n",
       "      <td>0</td>\n",
       "    </tr>\n",
       "    <tr>\n",
       "      <th>swimDistance</th>\n",
       "      <td>0</td>\n",
       "      <td>11.04</td>\n",
       "      <td>0</td>\n",
       "    </tr>\n",
       "    <tr>\n",
       "      <th>teamKills</th>\n",
       "      <td>0</td>\n",
       "      <td>0</td>\n",
       "      <td>0</td>\n",
       "    </tr>\n",
       "    <tr>\n",
       "      <th>vehicleDestroys</th>\n",
       "      <td>0</td>\n",
       "      <td>0</td>\n",
       "      <td>0</td>\n",
       "    </tr>\n",
       "    <tr>\n",
       "      <th>walkDistance</th>\n",
       "      <td>244.8</td>\n",
       "      <td>1434</td>\n",
       "      <td>161.8</td>\n",
       "    </tr>\n",
       "    <tr>\n",
       "      <th>weaponsAcquired</th>\n",
       "      <td>1</td>\n",
       "      <td>5</td>\n",
       "      <td>2</td>\n",
       "    </tr>\n",
       "    <tr>\n",
       "      <th>winPoints</th>\n",
       "      <td>1466</td>\n",
       "      <td>0</td>\n",
       "      <td>0</td>\n",
       "    </tr>\n",
       "    <tr>\n",
       "      <th>winPlacePerc</th>\n",
       "      <td>0.4444</td>\n",
       "      <td>0.64</td>\n",
       "      <td>0.7755</td>\n",
       "    </tr>\n",
       "  </tbody>\n",
       "</table>\n",
       "</div>"
      ],
      "text/plain": [
       "                              0               1               2\n",
       "Id               7f96b2f878858a  eef90569b9d03c  1eaf90ac73de72\n",
       "groupId          4d4b580de459be  684d5656442f9e  6a4a42c3245a74\n",
       "matchId          a10357fd1a4a91  aeb375fc57110c  110163d8bb94ae\n",
       "assists                       0               0               1\n",
       "boosts                        0               0               0\n",
       "damageDealt                   0           91.47              68\n",
       "DBNOs                         0               0               0\n",
       "headshotKills                 0               0               0\n",
       "heals                         0               0               0\n",
       "killPlace                    60              57              47\n",
       "killPoints                 1241               0               0\n",
       "kills                         0               0               0\n",
       "killStreaks                   0               0               0\n",
       "longestKill                   0               0               0\n",
       "matchDuration              1306            1777            1318\n",
       "matchType             squad-fpp       squad-fpp             duo\n",
       "maxPlace                     28              26              50\n",
       "numGroups                    26              25              47\n",
       "rankPoints                   -1            1484            1491\n",
       "revives                       0               0               0\n",
       "rideDistance                  0          0.0045               0\n",
       "roadKills                     0               0               0\n",
       "swimDistance                  0           11.04               0\n",
       "teamKills                     0               0               0\n",
       "vehicleDestroys               0               0               0\n",
       "walkDistance              244.8            1434           161.8\n",
       "weaponsAcquired               1               5               2\n",
       "winPoints                  1466               0               0\n",
       "winPlacePerc             0.4444            0.64          0.7755"
      ]
     },
     "execution_count": 6,
     "metadata": {},
     "output_type": "execute_result"
    }
   ],
   "source": [
    "train.head(3).T"
   ]
  },
  {
   "cell_type": "code",
   "execution_count": 7,
   "metadata": {},
   "outputs": [
    {
     "data": {
      "text/plain": [
       "Id                 0\n",
       "groupId            0\n",
       "matchId            0\n",
       "assists            0\n",
       "boosts             0\n",
       "damageDealt        0\n",
       "DBNOs              0\n",
       "headshotKills      0\n",
       "heals              0\n",
       "killPlace          0\n",
       "killPoints         0\n",
       "kills              0\n",
       "killStreaks        0\n",
       "longestKill        0\n",
       "matchDuration      0\n",
       "matchType          0\n",
       "maxPlace           0\n",
       "numGroups          0\n",
       "rankPoints         0\n",
       "revives            0\n",
       "rideDistance       0\n",
       "roadKills          0\n",
       "swimDistance       0\n",
       "teamKills          0\n",
       "vehicleDestroys    0\n",
       "walkDistance       0\n",
       "weaponsAcquired    0\n",
       "winPoints          0\n",
       "dtype: int64"
      ]
     },
     "execution_count": 7,
     "metadata": {},
     "output_type": "execute_result"
    }
   ],
   "source": [
    "test.isnull().sum()"
   ]
  },
  {
   "cell_type": "code",
   "execution_count": 8,
   "metadata": {},
   "outputs": [
    {
     "data": {
      "text/plain": [
       "(4446966, 2026745, 47965)"
      ]
     },
     "execution_count": 8,
     "metadata": {},
     "output_type": "execute_result"
    }
   ],
   "source": [
    "train['Id'].nunique(),train['groupId'].nunique(),train['matchId'].nunique()"
   ]
  },
  {
   "cell_type": "code",
   "execution_count": null,
   "metadata": {},
   "outputs": [],
   "source": [
    "train.groupby('matchId')['matchType']"
   ]
  },
  {
   "cell_type": "code",
   "execution_count": 11,
   "metadata": {},
   "outputs": [
    {
     "data": {
      "text/plain": [
       "matchId\n",
       "0000a43bce5eec     95\n",
       "0000eb01ea6cdd     98\n",
       "0002912fe5ed71     95\n",
       "0003b92987589e    100\n",
       "0006eb8c17708d     93\n",
       "                 ... \n",
       "fffd74b5150cb4     97\n",
       "fffe53015be300     97\n",
       "fffe562611d981     94\n",
       "fffe721f841f85     97\n",
       "fffe92232706aa     93\n",
       "Name: matchId, Length: 47965, dtype: int64"
      ]
     },
     "execution_count": 11,
     "metadata": {},
     "output_type": "execute_result"
    }
   ],
   "source": [
    "train.groupby('matchId')['matchId'].count()"
   ]
  },
  {
   "cell_type": "code",
   "execution_count": 62,
   "metadata": {},
   "outputs": [],
   "source": [
    "a=train.groupby('matchType')['matchType'].count()"
   ]
  },
  {
   "cell_type": "code",
   "execution_count": 63,
   "metadata": {},
   "outputs": [],
   "source": [
    "a=a.sort_values(ascending=True)"
   ]
  },
  {
   "cell_type": "code",
   "execution_count": 64,
   "metadata": {},
   "outputs": [
    {
     "data": {
      "text/plain": [
       "<matplotlib.axes._subplots.AxesSubplot at 0x182e28eb348>"
      ]
     },
     "execution_count": 64,
     "metadata": {},
     "output_type": "execute_result"
    },
    {
     "data": {
      "image/png": "[encoded data removed]",
      "text/plain": [
       "<Figure size 432x288 with 1 Axes>"
      ]
     },
     "metadata": {},
     "output_type": "display_data"
    }
   ],
   "source": [
    "a.plot.bar()"
   ]
  },
  {
   "cell_type": "code",
   "execution_count": 57,
   "metadata": {},
   "outputs": [],
   "source": [
    "a=a[[2,12,14]]"
   ]
  },
  {
   "cell_type": "code",
   "execution_count": null,
   "metadata": {},
   "outputs": [],
   "source": []
  },
  {
   "cell_type": "code",
   "execution_count": 61,
   "metadata": {},
   "outputs": [
    {
     "data": {
      "image/png": "[encoded data removed]",
      "text/plain": [
       "<Figure size 432x288 with 1 Axes>"
      ]
     },
     "metadata": {},
     "output_type": "display_data"
    }
   ],
   "source": [
    "a.plot(kind='bar')\n",
    "pl.show()"
   ]
  },
  {
   "cell_type": "code",
   "execution_count": 68,
   "metadata": {},
   "outputs": [],
   "source": [
    "a=[1,2,3,4,5]\n",
    "b=[6,7,8,9,10]"
   ]
  },
  {
   "cell_type": "code",
   "execution_count": 115,
   "metadata": {},
   "outputs": [],
   "source": [
    "match=train.groupby('matchType')['matchId'].size().to_frame('players in match')\n",
    "group=train.groupby(['matchType','matchId','groupId']).size().to_frame('players in group')\n"
   ]
  },
  {
   "cell_type": "code",
   "execution_count": 116,
   "metadata": {},
   "outputs": [],
   "source": [
    "def mergelist(list1,list2):\n",
    "    return list(itertools.product(list1,list2))"
   ]
  },
  {
   "cell_type": "code",
   "execution_count": 170,
   "metadata": {},
   "outputs": [
    {
     "data": {
      "text/html": [
       "<div>\n",
       "<style scoped>\n",
       "    .dataframe tbody tr th:only-of-type {\n",
       "        vertical-align: middle;\n",
       "    }\n",
       "\n",
       "    .dataframe tbody tr th {\n",
       "        vertical-align: top;\n",
       "    }\n",
       "\n",
       "    .dataframe thead tr th {\n",
       "        text-align: left;\n",
       "    }\n",
       "\n",
       "    .dataframe thead tr:last-of-type th {\n",
       "        text-align: right;\n",
       "    }\n",
       "</style>\n",
       "<table border=\"1\" class=\"dataframe\">\n",
       "  <thead>\n",
       "    <tr>\n",
       "      <th></th>\n",
       "      <th colspan=\"3\" halign=\"left\">players in match</th>\n",
       "      <th colspan=\"3\" halign=\"left\">players in group</th>\n",
       "    </tr>\n",
       "    <tr>\n",
       "      <th></th>\n",
       "      <th>min</th>\n",
       "      <th>max</th>\n",
       "      <th>mean</th>\n",
       "      <th>min</th>\n",
       "      <th>max</th>\n",
       "      <th>mean</th>\n",
       "    </tr>\n",
       "    <tr>\n",
       "      <th>matchType</th>\n",
       "      <th></th>\n",
       "      <th></th>\n",
       "      <th></th>\n",
       "      <th></th>\n",
       "      <th></th>\n",
       "      <th></th>\n",
       "    </tr>\n",
       "  </thead>\n",
       "  <tbody>\n",
       "    <tr>\n",
       "      <th>crashfpp</th>\n",
       "      <td>6287.0</td>\n",
       "      <td>6287.0</td>\n",
       "      <td>6287.0</td>\n",
       "      <td>1.0</td>\n",
       "      <td>10.0</td>\n",
       "      <td>2.008626</td>\n",
       "    </tr>\n",
       "    <tr>\n",
       "      <th>crashtpp</th>\n",
       "      <td>371.0</td>\n",
       "      <td>371.0</td>\n",
       "      <td>371.0</td>\n",
       "      <td>1.0</td>\n",
       "      <td>7.0</td>\n",
       "      <td>2.061111</td>\n",
       "    </tr>\n",
       "    <tr>\n",
       "      <th>duo</th>\n",
       "      <td>313591.0</td>\n",
       "      <td>313591.0</td>\n",
       "      <td>313591.0</td>\n",
       "      <td>1.0</td>\n",
       "      <td>16.0</td>\n",
       "      <td>2.058710</td>\n",
       "    </tr>\n",
       "    <tr>\n",
       "      <th>duo-fpp</th>\n",
       "      <td>996691.0</td>\n",
       "      <td>996691.0</td>\n",
       "      <td>996691.0</td>\n",
       "      <td>1.0</td>\n",
       "      <td>72.0</td>\n",
       "      <td>2.048735</td>\n",
       "    </tr>\n",
       "    <tr>\n",
       "      <th>flarefpp</th>\n",
       "      <td>718.0</td>\n",
       "      <td>718.0</td>\n",
       "      <td>718.0</td>\n",
       "      <td>1.0</td>\n",
       "      <td>17.0</td>\n",
       "      <td>3.590000</td>\n",
       "    </tr>\n",
       "    <tr>\n",
       "      <th>flaretpp</th>\n",
       "      <td>2505.0</td>\n",
       "      <td>2505.0</td>\n",
       "      <td>2505.0</td>\n",
       "      <td>1.0</td>\n",
       "      <td>18.0</td>\n",
       "      <td>3.604317</td>\n",
       "    </tr>\n",
       "    <tr>\n",
       "      <th>normal-duo</th>\n",
       "      <td>199.0</td>\n",
       "      <td>199.0</td>\n",
       "      <td>199.0</td>\n",
       "      <td>1.0</td>\n",
       "      <td>5.0</td>\n",
       "      <td>1.970297</td>\n",
       "    </tr>\n",
       "    <tr>\n",
       "      <th>normal-duo-fpp</th>\n",
       "      <td>5489.0</td>\n",
       "      <td>5489.0</td>\n",
       "      <td>5489.0</td>\n",
       "      <td>1.0</td>\n",
       "      <td>7.0</td>\n",
       "      <td>1.949911</td>\n",
       "    </tr>\n",
       "    <tr>\n",
       "      <th>normal-solo</th>\n",
       "      <td>326.0</td>\n",
       "      <td>326.0</td>\n",
       "      <td>326.0</td>\n",
       "      <td>1.0</td>\n",
       "      <td>7.0</td>\n",
       "      <td>1.405172</td>\n",
       "    </tr>\n",
       "    <tr>\n",
       "      <th>normal-solo-fpp</th>\n",
       "      <td>1682.0</td>\n",
       "      <td>1682.0</td>\n",
       "      <td>1682.0</td>\n",
       "      <td>1.0</td>\n",
       "      <td>10.0</td>\n",
       "      <td>1.370823</td>\n",
       "    </tr>\n",
       "    <tr>\n",
       "      <th>normal-squad</th>\n",
       "      <td>516.0</td>\n",
       "      <td>516.0</td>\n",
       "      <td>516.0</td>\n",
       "      <td>1.0</td>\n",
       "      <td>10.0</td>\n",
       "      <td>4.161290</td>\n",
       "    </tr>\n",
       "    <tr>\n",
       "      <th>normal-squad-fpp</th>\n",
       "      <td>17174.0</td>\n",
       "      <td>17174.0</td>\n",
       "      <td>17174.0</td>\n",
       "      <td>1.0</td>\n",
       "      <td>74.0</td>\n",
       "      <td>4.347848</td>\n",
       "    </tr>\n",
       "    <tr>\n",
       "      <th>solo</th>\n",
       "      <td>181943.0</td>\n",
       "      <td>181943.0</td>\n",
       "      <td>181943.0</td>\n",
       "      <td>1.0</td>\n",
       "      <td>21.0</td>\n",
       "      <td>1.079287</td>\n",
       "    </tr>\n",
       "    <tr>\n",
       "      <th>solo-fpp</th>\n",
       "      <td>536762.0</td>\n",
       "      <td>536762.0</td>\n",
       "      <td>536762.0</td>\n",
       "      <td>1.0</td>\n",
       "      <td>64.0</td>\n",
       "      <td>1.025416</td>\n",
       "    </tr>\n",
       "    <tr>\n",
       "      <th>squad</th>\n",
       "      <td>626526.0</td>\n",
       "      <td>626526.0</td>\n",
       "      <td>626526.0</td>\n",
       "      <td>1.0</td>\n",
       "      <td>28.0</td>\n",
       "      <td>3.538096</td>\n",
       "    </tr>\n",
       "    <tr>\n",
       "      <th>squad-fpp</th>\n",
       "      <td>1756186.0</td>\n",
       "      <td>1756186.0</td>\n",
       "      <td>1756186.0</td>\n",
       "      <td>1.0</td>\n",
       "      <td>31.0</td>\n",
       "      <td>3.469619</td>\n",
       "    </tr>\n",
       "  </tbody>\n",
       "</table>\n",
       "</div>"
      ],
      "text/plain": [
       "                 players in match                       players in group  \\\n",
       "                              min        max       mean              min   \n",
       "matchType                                                                  \n",
       "crashfpp                   6287.0     6287.0     6287.0              1.0   \n",
       "crashtpp                    371.0      371.0      371.0              1.0   \n",
       "duo                      313591.0   313591.0   313591.0              1.0   \n",
       "duo-fpp                  996691.0   996691.0   996691.0              1.0   \n",
       "flarefpp                    718.0      718.0      718.0              1.0   \n",
       "flaretpp                   2505.0     2505.0     2505.0              1.0   \n",
       "normal-duo                  199.0      199.0      199.0              1.0   \n",
       "normal-duo-fpp             5489.0     5489.0     5489.0              1.0   \n",
       "normal-solo                 326.0      326.0      326.0              1.0   \n",
       "normal-solo-fpp            1682.0     1682.0     1682.0              1.0   \n",
       "normal-squad                516.0      516.0      516.0              1.0   \n",
       "normal-squad-fpp          17174.0    17174.0    17174.0              1.0   \n",
       "solo                     181943.0   181943.0   181943.0              1.0   \n",
       "solo-fpp                 536762.0   536762.0   536762.0              1.0   \n",
       "squad                    626526.0   626526.0   626526.0              1.0   \n",
       "squad-fpp               1756186.0  1756186.0  1756186.0              1.0   \n",
       "\n",
       "                                  \n",
       "                   max      mean  \n",
       "matchType                         \n",
       "crashfpp          10.0  2.008626  \n",
       "crashtpp           7.0  2.061111  \n",
       "duo               16.0  2.058710  \n",
       "duo-fpp           72.0  2.048735  \n",
       "flarefpp          17.0  3.590000  \n",
       "flaretpp          18.0  3.604317  \n",
       "normal-duo         5.0  1.970297  \n",
       "normal-duo-fpp     7.0  1.949911  \n",
       "normal-solo        7.0  1.405172  \n",
       "normal-solo-fpp   10.0  1.370823  \n",
       "normal-squad      10.0  4.161290  \n",
       "normal-squad-fpp  74.0  4.347848  \n",
       "solo              21.0  1.079287  \n",
       "solo-fpp          64.0  1.025416  \n",
       "squad             28.0  3.538096  \n",
       "squad-fpp         31.0  3.469619  "
      ]
     },
     "execution_count": 170,
     "metadata": {},
     "output_type": "execute_result"
    }
   ],
   "source": [
    "pd.concat([match.groupby('matchType').describe()[mergelist(['players in match'],['min','max','mean'])],\n",
    "           group.groupby('matchType').describe()[mergelist(['players in group'],['min','max','mean'])]],axis=1)\n",
    "           "
   ]
  },
  {
   "cell_type": "code",
   "execution_count": 172,
   "metadata": {},
   "outputs": [],
   "source": [
    "a=match.groupby('matchType').describe()\n"
   ]
  },
  {
   "cell_type": "code",
   "execution_count": 177,
   "metadata": {},
   "outputs": [],
   "source": [
    "a.columns=a.columns.get_level_values(1)"
   ]
  },
  {
   "cell_type": "code",
   "execution_count": 184,
   "metadata": {},
   "outputs": [],
   "source": [
    "a=a.reset_index()"
   ]
  },
  {
   "cell_type": "code",
   "execution_count": null,
   "metadata": {},
   "outputs": [],
   "source": []
  },
  {
   "cell_type": "code",
   "execution_count": 210,
   "metadata": {},
   "outputs": [],
   "source": [
    "a=a[['matchType','min','max','mean']]"
   ]
  },
  {
   "cell_type": "code",
   "execution_count": 230,
   "metadata": {},
   "outputs": [],
   "source": [
    "a=a.loc[[2,12,14]]"
   ]
  },
  {
   "cell_type": "code",
   "execution_count": null,
   "metadata": {},
   "outputs": [],
   "source": [
    "corr=train.corr()\n",
    "f,ax=pl.subplots(figsize=(20,15))\n",
    "sns.heatmap(corr,ax=ax,annot=True,fmt='.1f',cmap='BrBG')"
   ]
  },
  {
   "cell_type": "code",
   "execution_count": null,
   "metadata": {},
   "outputs": [],
   "source": []
  },
  {
   "cell_type": "code",
   "execution_count": null,
   "metadata": {},
   "outputs": [],
   "source": []
  },
  {
   "cell_type": "code",
   "execution_count": null,
   "metadata": {},
   "outputs": [],
   "source": []
  },
  {
   "cell_type": "code",
   "execution_count": null,
   "metadata": {},
   "outputs": [],
   "source": []
  },
  {
   "cell_type": "code",
   "execution_count": null,
   "metadata": {},
   "outputs": [],
   "source": []
  },
  {
   "cell_type": "code",
   "execution_count": null,
   "metadata": {},
   "outputs": [],
   "source": []
  },
  {
   "cell_type": "code",
   "execution_count": null,
   "metadata": {},
   "outputs": [],
   "source": []
  },
  {
   "cell_type": "code",
   "execution_count": null,
   "metadata": {},
   "outputs": [],
   "source": []
  },
  {
   "cell_type": "code",
   "execution_count": null,
   "metadata": {},
   "outputs": [],
   "source": []
  },
  {
   "cell_type": "code",
   "execution_count": null,
   "metadata": {},
   "outputs": [],
   "source": []
  },
  {
   "cell_type": "code",
   "execution_count": null,
   "metadata": {},
   "outputs": [],
   "source": []
  },
  {
   "cell_type": "code",
   "execution_count": null,
   "metadata": {},
   "outputs": [],
   "source": []
  },
  {
   "cell_type": "code",
   "execution_count": null,
   "metadata": {},
   "outputs": [],
   "source": []
  },
  {
   "cell_type": "code",
   "execution_count": null,
   "metadata": {},
   "outputs": [],
   "source": []
  },
  {
   "cell_type": "code",
   "execution_count": null,
   "metadata": {},
   "outputs": [],
   "source": []
  },
  {
   "cell_type": "code",
   "execution_count": null,
   "metadata": {},
   "outputs": [],
   "source": []
  },
  {
   "cell_type": "code",
   "execution_count": null,
   "metadata": {},
   "outputs": [],
   "source": []
  },
  {
   "cell_type": "code",
   "execution_count": null,
   "metadata": {},
   "outputs": [],
   "source": []
  },
  {
   "cell_type": "code",
   "execution_count": null,
   "metadata": {},
   "outputs": [],
   "source": []
  },
  {
   "cell_type": "code",
   "execution_count": null,
   "metadata": {},
   "outputs": [],
   "source": []
  },
  {
   "cell_type": "code",
   "execution_count": null,
   "metadata": {},
   "outputs": [],
   "source": []
  },
  {
   "cell_type": "code",
   "execution_count": null,
   "metadata": {},
   "outputs": [],
   "source": []
  },
  {
   "cell_type": "code",
   "execution_count": null,
   "metadata": {},
   "outputs": [],
   "source": []
  },
  {
   "cell_type": "code",
   "execution_count": null,
   "metadata": {},
   "outputs": [],
   "source": []
  },
  {
   "cell_type": "code",
   "execution_count": null,
   "metadata": {},
   "outputs": [],
   "source": []
  },
  {
   "cell_type": "code",
   "execution_count": null,
   "metadata": {},
   "outputs": [],
   "source": []
  },
  {
   "cell_type": "code",
   "execution_count": null,
   "metadata": {},
   "outputs": [],
   "source": []
  },
  {
   "cell_type": "code",
   "execution_count": null,
   "metadata": {},
   "outputs": [],
   "source": []
  },
  {
   "cell_type": "code",
   "execution_count": null,
   "metadata": {},
   "outputs": [],
   "source": []
  },
  {
   "cell_type": "code",
   "execution_count": null,
   "metadata": {},
   "outputs": [],
   "source": []
  },
  {
   "cell_type": "code",
   "execution_count": null,
   "metadata": {},
   "outputs": [],
   "source": []
  },
  {
   "cell_type": "code",
   "execution_count": null,
   "metadata": {},
   "outputs": [],
   "source": []
  },
  {
   "cell_type": "code",
   "execution_count": null,
   "metadata": {},
   "outputs": [],
   "source": []
  },
  {
   "cell_type": "code",
   "execution_count": null,
   "metadata": {},
   "outputs": [],
   "source": []
  },
  {
   "cell_type": "code",
   "execution_count": null,
   "metadata": {},
   "outputs": [],
   "source": []
  },
  {
   "cell_type": "code",
   "execution_count": null,
   "metadata": {},
   "outputs": [],
   "source": []
  },
  {
   "cell_type": "code",
   "execution_count": null,
   "metadata": {},
   "outputs": [],
   "source": []
  },
  {
   "cell_type": "code",
   "execution_count": null,
   "metadata": {},
   "outputs": [],
   "source": []
  },
  {
   "cell_type": "code",
   "execution_count": null,
   "metadata": {},
   "outputs": [],
   "source": []
  }
 ],
 "metadata": {
  "kernelspec": {
   "display_name": "Python 3",
   "language": "python",
   "name": "python3"
  },
  "language_info": {
   "codemirror_mode": {
    "name": "ipython",
    "version": 3
   },
   "file_extension": ".py",
   "mimetype": "text/x-python",
   "name": "python",
   "nbconvert_exporter": "python",
   "pygments_lexer": "ipython3",
   "version": "3.7.7"
  }
 },
 "nbformat": 4,
 "nbformat_minor": 4
}
