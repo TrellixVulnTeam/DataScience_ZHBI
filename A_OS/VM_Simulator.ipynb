{
 "cells": [
  {
   "cell_type": "code",
   "execution_count": 1,
   "metadata": {},
   "outputs": [],
   "source": [
    "class Process:\n",
    "    page_size=5\n",
    "    proc_count=0\n",
    "    \n",
    "    def __init__(self,name,num_pages):\n",
    "        self.name=name\n",
    "        self.num_pages=num_pages\n",
    "        Process.proc_count+=1\n",
    "        \n",
    "    def set_page_size(self,ps):\n",
    "        page_size=ps\n",
    "    \n",
    "    def displayProcess(self):\n",
    "        print( 'Name: ',self.name,', Num Pages:',self.num_pages,', Page size: ',Process.page_size)\n",
    "    \n",
    "    \n",
    "    \n",
    "    "
   ]
  },
  {
   "cell_type": "code",
   "execution_count": null,
   "metadata": {},
   "outputs": [],
   "source": []
  }
 ],
 "metadata": {
  "kernelspec": {
   "display_name": "Python 3",
   "language": "python",
   "name": "python3"
  },
  "language_info": {
   "codemirror_mode": {
    "name": "ipython",
    "version": 3
   },
   "file_extension": ".py",
   "mimetype": "text/x-python",
   "name": "python",
   "nbconvert_exporter": "python",
   "pygments_lexer": "ipython3",
   "version": "3.7.7"
  }
 },
 "nbformat": 4,
 "nbformat_minor": 4
}
