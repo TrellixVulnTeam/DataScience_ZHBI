{
 "cells": [
  {
   "cell_type": "code",
   "execution_count": 1,
   "metadata": {},
   "outputs": [],
   "source": [
    "import pandas as pd\n",
    "import numpy as np\n",
    "import random as rd \n",
    "from sklearn.decomposition import PCA\n",
    "from sklearn import preprocessing\n",
    "import matplotlib.pyplot as pl"
   ]
  },
  {
   "cell_type": "code",
   "execution_count": 2,
   "metadata": {},
   "outputs": [],
   "source": [
    "genes=['gene'+str(i) for i in range(1,101)]\n",
    "wt=['wt'+str(i) for i in range(1,6)]\n",
    "ko=['ko'+str(i) for i in range(1,6)]\n",
    "data=pd.DataFrame(columns=[*wt,*ko],index=genes)"
   ]
  },
  {
   "cell_type": "code",
   "execution_count": 3,
   "metadata": {},
   "outputs": [
    {
     "data": {
      "text/html": [
       "<div>\n",
       "<style scoped>\n",
       "    .dataframe tbody tr th:only-of-type {\n",
       "        vertical-align: middle;\n",
       "    }\n",
       "\n",
       "    .dataframe tbody tr th {\n",
       "        vertical-align: top;\n",
       "    }\n",
       "\n",
       "    .dataframe thead th {\n",
       "        text-align: right;\n",
       "    }\n",
       "</style>\n",
       "<table border=\"1\" class=\"dataframe\">\n",
       "  <thead>\n",
       "    <tr style=\"text-align: right;\">\n",
       "      <th></th>\n",
       "      <th>wt1</th>\n",
       "      <th>wt2</th>\n",
       "      <th>wt3</th>\n",
       "      <th>wt4</th>\n",
       "      <th>wt5</th>\n",
       "      <th>ko1</th>\n",
       "      <th>ko2</th>\n",
       "      <th>ko3</th>\n",
       "      <th>ko4</th>\n",
       "      <th>ko5</th>\n",
       "    </tr>\n",
       "  </thead>\n",
       "  <tbody>\n",
       "    <tr>\n",
       "      <th>gene1</th>\n",
       "      <td>NaN</td>\n",
       "      <td>NaN</td>\n",
       "      <td>NaN</td>\n",
       "      <td>NaN</td>\n",
       "      <td>NaN</td>\n",
       "      <td>NaN</td>\n",
       "      <td>NaN</td>\n",
       "      <td>NaN</td>\n",
       "      <td>NaN</td>\n",
       "      <td>NaN</td>\n",
       "    </tr>\n",
       "    <tr>\n",
       "      <th>gene2</th>\n",
       "      <td>NaN</td>\n",
       "      <td>NaN</td>\n",
       "      <td>NaN</td>\n",
       "      <td>NaN</td>\n",
       "      <td>NaN</td>\n",
       "      <td>NaN</td>\n",
       "      <td>NaN</td>\n",
       "      <td>NaN</td>\n",
       "      <td>NaN</td>\n",
       "      <td>NaN</td>\n",
       "    </tr>\n",
       "    <tr>\n",
       "      <th>gene3</th>\n",
       "      <td>NaN</td>\n",
       "      <td>NaN</td>\n",
       "      <td>NaN</td>\n",
       "      <td>NaN</td>\n",
       "      <td>NaN</td>\n",
       "      <td>NaN</td>\n",
       "      <td>NaN</td>\n",
       "      <td>NaN</td>\n",
       "      <td>NaN</td>\n",
       "      <td>NaN</td>\n",
       "    </tr>\n",
       "    <tr>\n",
       "      <th>gene4</th>\n",
       "      <td>NaN</td>\n",
       "      <td>NaN</td>\n",
       "      <td>NaN</td>\n",
       "      <td>NaN</td>\n",
       "      <td>NaN</td>\n",
       "      <td>NaN</td>\n",
       "      <td>NaN</td>\n",
       "      <td>NaN</td>\n",
       "      <td>NaN</td>\n",
       "      <td>NaN</td>\n",
       "    </tr>\n",
       "    <tr>\n",
       "      <th>gene5</th>\n",
       "      <td>NaN</td>\n",
       "      <td>NaN</td>\n",
       "      <td>NaN</td>\n",
       "      <td>NaN</td>\n",
       "      <td>NaN</td>\n",
       "      <td>NaN</td>\n",
       "      <td>NaN</td>\n",
       "      <td>NaN</td>\n",
       "      <td>NaN</td>\n",
       "      <td>NaN</td>\n",
       "    </tr>\n",
       "    <tr>\n",
       "      <th>...</th>\n",
       "      <td>...</td>\n",
       "      <td>...</td>\n",
       "      <td>...</td>\n",
       "      <td>...</td>\n",
       "      <td>...</td>\n",
       "      <td>...</td>\n",
       "      <td>...</td>\n",
       "      <td>...</td>\n",
       "      <td>...</td>\n",
       "      <td>...</td>\n",
       "    </tr>\n",
       "    <tr>\n",
       "      <th>gene96</th>\n",
       "      <td>NaN</td>\n",
       "      <td>NaN</td>\n",
       "      <td>NaN</td>\n",
       "      <td>NaN</td>\n",
       "      <td>NaN</td>\n",
       "      <td>NaN</td>\n",
       "      <td>NaN</td>\n",
       "      <td>NaN</td>\n",
       "      <td>NaN</td>\n",
       "      <td>NaN</td>\n",
       "    </tr>\n",
       "    <tr>\n",
       "      <th>gene97</th>\n",
       "      <td>NaN</td>\n",
       "      <td>NaN</td>\n",
       "      <td>NaN</td>\n",
       "      <td>NaN</td>\n",
       "      <td>NaN</td>\n",
       "      <td>NaN</td>\n",
       "      <td>NaN</td>\n",
       "      <td>NaN</td>\n",
       "      <td>NaN</td>\n",
       "      <td>NaN</td>\n",
       "    </tr>\n",
       "    <tr>\n",
       "      <th>gene98</th>\n",
       "      <td>NaN</td>\n",
       "      <td>NaN</td>\n",
       "      <td>NaN</td>\n",
       "      <td>NaN</td>\n",
       "      <td>NaN</td>\n",
       "      <td>NaN</td>\n",
       "      <td>NaN</td>\n",
       "      <td>NaN</td>\n",
       "      <td>NaN</td>\n",
       "      <td>NaN</td>\n",
       "    </tr>\n",
       "    <tr>\n",
       "      <th>gene99</th>\n",
       "      <td>NaN</td>\n",
       "      <td>NaN</td>\n",
       "      <td>NaN</td>\n",
       "      <td>NaN</td>\n",
       "      <td>NaN</td>\n",
       "      <td>NaN</td>\n",
       "      <td>NaN</td>\n",
       "      <td>NaN</td>\n",
       "      <td>NaN</td>\n",
       "      <td>NaN</td>\n",
       "    </tr>\n",
       "    <tr>\n",
       "      <th>gene100</th>\n",
       "      <td>NaN</td>\n",
       "      <td>NaN</td>\n",
       "      <td>NaN</td>\n",
       "      <td>NaN</td>\n",
       "      <td>NaN</td>\n",
       "      <td>NaN</td>\n",
       "      <td>NaN</td>\n",
       "      <td>NaN</td>\n",
       "      <td>NaN</td>\n",
       "      <td>NaN</td>\n",
       "    </tr>\n",
       "  </tbody>\n",
       "</table>\n",
       "<p>100 rows × 10 columns</p>\n",
       "</div>"
      ],
      "text/plain": [
       "         wt1  wt2  wt3  wt4  wt5  ko1  ko2  ko3  ko4  ko5\n",
       "gene1    NaN  NaN  NaN  NaN  NaN  NaN  NaN  NaN  NaN  NaN\n",
       "gene2    NaN  NaN  NaN  NaN  NaN  NaN  NaN  NaN  NaN  NaN\n",
       "gene3    NaN  NaN  NaN  NaN  NaN  NaN  NaN  NaN  NaN  NaN\n",
       "gene4    NaN  NaN  NaN  NaN  NaN  NaN  NaN  NaN  NaN  NaN\n",
       "gene5    NaN  NaN  NaN  NaN  NaN  NaN  NaN  NaN  NaN  NaN\n",
       "...      ...  ...  ...  ...  ...  ...  ...  ...  ...  ...\n",
       "gene96   NaN  NaN  NaN  NaN  NaN  NaN  NaN  NaN  NaN  NaN\n",
       "gene97   NaN  NaN  NaN  NaN  NaN  NaN  NaN  NaN  NaN  NaN\n",
       "gene98   NaN  NaN  NaN  NaN  NaN  NaN  NaN  NaN  NaN  NaN\n",
       "gene99   NaN  NaN  NaN  NaN  NaN  NaN  NaN  NaN  NaN  NaN\n",
       "gene100  NaN  NaN  NaN  NaN  NaN  NaN  NaN  NaN  NaN  NaN\n",
       "\n",
       "[100 rows x 10 columns]"
      ]
     },
     "execution_count": 3,
     "metadata": {},
     "output_type": "execute_result"
    }
   ],
   "source": [
    "data"
   ]
  },
  {
   "cell_type": "code",
   "execution_count": 4,
   "metadata": {},
   "outputs": [],
   "source": [
    "for gene in data.index:\n",
    "    data.loc[gene,'wt1':'wt5']=np.random.poisson(lam=rd.randrange(10,1000),size=5)\n",
    "    data.loc[gene,'ko1':'ko5']=np.random.poisson(lam=rd.randrange(10,1000),size=5)"
   ]
  },
  {
   "cell_type": "code",
   "execution_count": 5,
   "metadata": {},
   "outputs": [
    {
     "data": {
      "text/html": [
       "<div>\n",
       "<style scoped>\n",
       "    .dataframe tbody tr th:only-of-type {\n",
       "        vertical-align: middle;\n",
       "    }\n",
       "\n",
       "    .dataframe tbody tr th {\n",
       "        vertical-align: top;\n",
       "    }\n",
       "\n",
       "    .dataframe thead th {\n",
       "        text-align: right;\n",
       "    }\n",
       "</style>\n",
       "<table border=\"1\" class=\"dataframe\">\n",
       "  <thead>\n",
       "    <tr style=\"text-align: right;\">\n",
       "      <th></th>\n",
       "      <th>wt1</th>\n",
       "      <th>wt2</th>\n",
       "      <th>wt3</th>\n",
       "      <th>wt4</th>\n",
       "      <th>wt5</th>\n",
       "    </tr>\n",
       "  </thead>\n",
       "  <tbody>\n",
       "    <tr>\n",
       "      <th>gene1</th>\n",
       "      <td>254</td>\n",
       "      <td>238</td>\n",
       "      <td>221</td>\n",
       "      <td>252</td>\n",
       "      <td>241</td>\n",
       "    </tr>\n",
       "    <tr>\n",
       "      <th>gene6</th>\n",
       "      <td>458</td>\n",
       "      <td>438</td>\n",
       "      <td>463</td>\n",
       "      <td>447</td>\n",
       "      <td>473</td>\n",
       "    </tr>\n",
       "  </tbody>\n",
       "</table>\n",
       "</div>"
      ],
      "text/plain": [
       "       wt1  wt2  wt3  wt4  wt5\n",
       "gene1  254  238  221  252  241\n",
       "gene6  458  438  463  447  473"
      ]
     },
     "execution_count": 5,
     "metadata": {},
     "output_type": "execute_result"
    }
   ],
   "source": [
    "data.loc[['gene1','gene6'],'wt1':'wt5']"
   ]
  },
  {
   "cell_type": "code",
   "execution_count": 6,
   "metadata": {},
   "outputs": [
    {
     "data": {
      "text/html": [
       "<div>\n",
       "<style scoped>\n",
       "    .dataframe tbody tr th:only-of-type {\n",
       "        vertical-align: middle;\n",
       "    }\n",
       "\n",
       "    .dataframe tbody tr th {\n",
       "        vertical-align: top;\n",
       "    }\n",
       "\n",
       "    .dataframe thead th {\n",
       "        text-align: right;\n",
       "    }\n",
       "</style>\n",
       "<table border=\"1\" class=\"dataframe\">\n",
       "  <thead>\n",
       "    <tr style=\"text-align: right;\">\n",
       "      <th></th>\n",
       "      <th>wt1</th>\n",
       "      <th>wt2</th>\n",
       "      <th>wt3</th>\n",
       "      <th>wt4</th>\n",
       "      <th>wt5</th>\n",
       "      <th>ko1</th>\n",
       "      <th>ko2</th>\n",
       "      <th>ko3</th>\n",
       "      <th>ko4</th>\n",
       "      <th>ko5</th>\n",
       "    </tr>\n",
       "  </thead>\n",
       "  <tbody>\n",
       "    <tr>\n",
       "      <th>gene1</th>\n",
       "      <td>254</td>\n",
       "      <td>238</td>\n",
       "      <td>221</td>\n",
       "      <td>252</td>\n",
       "      <td>241</td>\n",
       "      <td>184</td>\n",
       "      <td>173</td>\n",
       "      <td>172</td>\n",
       "      <td>192</td>\n",
       "      <td>196</td>\n",
       "    </tr>\n",
       "    <tr>\n",
       "      <th>gene2</th>\n",
       "      <td>526</td>\n",
       "      <td>568</td>\n",
       "      <td>567</td>\n",
       "      <td>533</td>\n",
       "      <td>589</td>\n",
       "      <td>680</td>\n",
       "      <td>660</td>\n",
       "      <td>711</td>\n",
       "      <td>638</td>\n",
       "      <td>677</td>\n",
       "    </tr>\n",
       "    <tr>\n",
       "      <th>gene3</th>\n",
       "      <td>1001</td>\n",
       "      <td>942</td>\n",
       "      <td>944</td>\n",
       "      <td>986</td>\n",
       "      <td>994</td>\n",
       "      <td>658</td>\n",
       "      <td>589</td>\n",
       "      <td>654</td>\n",
       "      <td>588</td>\n",
       "      <td>658</td>\n",
       "    </tr>\n",
       "    <tr>\n",
       "      <th>gene4</th>\n",
       "      <td>538</td>\n",
       "      <td>569</td>\n",
       "      <td>473</td>\n",
       "      <td>563</td>\n",
       "      <td>480</td>\n",
       "      <td>591</td>\n",
       "      <td>578</td>\n",
       "      <td>577</td>\n",
       "      <td>563</td>\n",
       "      <td>617</td>\n",
       "    </tr>\n",
       "    <tr>\n",
       "      <th>gene5</th>\n",
       "      <td>871</td>\n",
       "      <td>838</td>\n",
       "      <td>887</td>\n",
       "      <td>886</td>\n",
       "      <td>853</td>\n",
       "      <td>605</td>\n",
       "      <td>701</td>\n",
       "      <td>566</td>\n",
       "      <td>633</td>\n",
       "      <td>680</td>\n",
       "    </tr>\n",
       "    <tr>\n",
       "      <th>...</th>\n",
       "      <td>...</td>\n",
       "      <td>...</td>\n",
       "      <td>...</td>\n",
       "      <td>...</td>\n",
       "      <td>...</td>\n",
       "      <td>...</td>\n",
       "      <td>...</td>\n",
       "      <td>...</td>\n",
       "      <td>...</td>\n",
       "      <td>...</td>\n",
       "    </tr>\n",
       "    <tr>\n",
       "      <th>gene96</th>\n",
       "      <td>936</td>\n",
       "      <td>980</td>\n",
       "      <td>974</td>\n",
       "      <td>974</td>\n",
       "      <td>941</td>\n",
       "      <td>598</td>\n",
       "      <td>637</td>\n",
       "      <td>618</td>\n",
       "      <td>673</td>\n",
       "      <td>626</td>\n",
       "    </tr>\n",
       "    <tr>\n",
       "      <th>gene97</th>\n",
       "      <td>690</td>\n",
       "      <td>684</td>\n",
       "      <td>688</td>\n",
       "      <td>631</td>\n",
       "      <td>655</td>\n",
       "      <td>237</td>\n",
       "      <td>239</td>\n",
       "      <td>263</td>\n",
       "      <td>223</td>\n",
       "      <td>232</td>\n",
       "    </tr>\n",
       "    <tr>\n",
       "      <th>gene98</th>\n",
       "      <td>533</td>\n",
       "      <td>542</td>\n",
       "      <td>539</td>\n",
       "      <td>552</td>\n",
       "      <td>565</td>\n",
       "      <td>433</td>\n",
       "      <td>426</td>\n",
       "      <td>438</td>\n",
       "      <td>455</td>\n",
       "      <td>442</td>\n",
       "    </tr>\n",
       "    <tr>\n",
       "      <th>gene99</th>\n",
       "      <td>711</td>\n",
       "      <td>734</td>\n",
       "      <td>828</td>\n",
       "      <td>776</td>\n",
       "      <td>743</td>\n",
       "      <td>706</td>\n",
       "      <td>751</td>\n",
       "      <td>667</td>\n",
       "      <td>648</td>\n",
       "      <td>744</td>\n",
       "    </tr>\n",
       "    <tr>\n",
       "      <th>gene100</th>\n",
       "      <td>74</td>\n",
       "      <td>85</td>\n",
       "      <td>64</td>\n",
       "      <td>65</td>\n",
       "      <td>69</td>\n",
       "      <td>591</td>\n",
       "      <td>610</td>\n",
       "      <td>614</td>\n",
       "      <td>577</td>\n",
       "      <td>583</td>\n",
       "    </tr>\n",
       "  </tbody>\n",
       "</table>\n",
       "<p>100 rows × 10 columns</p>\n",
       "</div>"
      ],
      "text/plain": [
       "          wt1  wt2  wt3  wt4  wt5  ko1  ko2  ko3  ko4  ko5\n",
       "gene1     254  238  221  252  241  184  173  172  192  196\n",
       "gene2     526  568  567  533  589  680  660  711  638  677\n",
       "gene3    1001  942  944  986  994  658  589  654  588  658\n",
       "gene4     538  569  473  563  480  591  578  577  563  617\n",
       "gene5     871  838  887  886  853  605  701  566  633  680\n",
       "...       ...  ...  ...  ...  ...  ...  ...  ...  ...  ...\n",
       "gene96    936  980  974  974  941  598  637  618  673  626\n",
       "gene97    690  684  688  631  655  237  239  263  223  232\n",
       "gene98    533  542  539  552  565  433  426  438  455  442\n",
       "gene99    711  734  828  776  743  706  751  667  648  744\n",
       "gene100    74   85   64   65   69  591  610  614  577  583\n",
       "\n",
       "[100 rows x 10 columns]"
      ]
     },
     "execution_count": 6,
     "metadata": {},
     "output_type": "execute_result"
    }
   ],
   "source": [
    "data"
   ]
  },
  {
   "cell_type": "code",
   "execution_count": null,
   "metadata": {},
   "outputs": [],
   "source": []
  },
  {
   "cell_type": "code",
   "execution_count": 7,
   "metadata": {},
   "outputs": [
    {
     "data": {
      "text/html": [
       "<div>\n",
       "<style scoped>\n",
       "    .dataframe tbody tr th:only-of-type {\n",
       "        vertical-align: middle;\n",
       "    }\n",
       "\n",
       "    .dataframe tbody tr th {\n",
       "        vertical-align: top;\n",
       "    }\n",
       "\n",
       "    .dataframe thead th {\n",
       "        text-align: right;\n",
       "    }\n",
       "</style>\n",
       "<table border=\"1\" class=\"dataframe\">\n",
       "  <thead>\n",
       "    <tr style=\"text-align: right;\">\n",
       "      <th></th>\n",
       "      <th>wt1</th>\n",
       "      <th>wt2</th>\n",
       "      <th>wt3</th>\n",
       "      <th>wt4</th>\n",
       "      <th>wt5</th>\n",
       "      <th>ko1</th>\n",
       "      <th>ko2</th>\n",
       "      <th>ko3</th>\n",
       "      <th>ko4</th>\n",
       "      <th>ko5</th>\n",
       "    </tr>\n",
       "  </thead>\n",
       "  <tbody>\n",
       "    <tr>\n",
       "      <th>gene1</th>\n",
       "      <td>235</td>\n",
       "      <td>224</td>\n",
       "      <td>544</td>\n",
       "      <td>856</td>\n",
       "      <td>794</td>\n",
       "      <td>429</td>\n",
       "      <td>827</td>\n",
       "      <td>362</td>\n",
       "      <td>290</td>\n",
       "      <td>805</td>\n",
       "    </tr>\n",
       "    <tr>\n",
       "      <th>gene2</th>\n",
       "      <td>90</td>\n",
       "      <td>844</td>\n",
       "      <td>41</td>\n",
       "      <td>579</td>\n",
       "      <td>80</td>\n",
       "      <td>46</td>\n",
       "      <td>255</td>\n",
       "      <td>737</td>\n",
       "      <td>323</td>\n",
       "      <td>465</td>\n",
       "    </tr>\n",
       "    <tr>\n",
       "      <th>gene3</th>\n",
       "      <td>154</td>\n",
       "      <td>677</td>\n",
       "      <td>712</td>\n",
       "      <td>902</td>\n",
       "      <td>611</td>\n",
       "      <td>454</td>\n",
       "      <td>561</td>\n",
       "      <td>604</td>\n",
       "      <td>982</td>\n",
       "      <td>335</td>\n",
       "    </tr>\n",
       "    <tr>\n",
       "      <th>gene4</th>\n",
       "      <td>99</td>\n",
       "      <td>52</td>\n",
       "      <td>998</td>\n",
       "      <td>392</td>\n",
       "      <td>737</td>\n",
       "      <td>649</td>\n",
       "      <td>147</td>\n",
       "      <td>528</td>\n",
       "      <td>519</td>\n",
       "      <td>23</td>\n",
       "    </tr>\n",
       "    <tr>\n",
       "      <th>gene5</th>\n",
       "      <td>595</td>\n",
       "      <td>568</td>\n",
       "      <td>299</td>\n",
       "      <td>163</td>\n",
       "      <td>57</td>\n",
       "      <td>126</td>\n",
       "      <td>263</td>\n",
       "      <td>462</td>\n",
       "      <td>349</td>\n",
       "      <td>434</td>\n",
       "    </tr>\n",
       "    <tr>\n",
       "      <th>...</th>\n",
       "      <td>...</td>\n",
       "      <td>...</td>\n",
       "      <td>...</td>\n",
       "      <td>...</td>\n",
       "      <td>...</td>\n",
       "      <td>...</td>\n",
       "      <td>...</td>\n",
       "      <td>...</td>\n",
       "      <td>...</td>\n",
       "      <td>...</td>\n",
       "    </tr>\n",
       "    <tr>\n",
       "      <th>gene96</th>\n",
       "      <td>327</td>\n",
       "      <td>572</td>\n",
       "      <td>628</td>\n",
       "      <td>446</td>\n",
       "      <td>87</td>\n",
       "      <td>937</td>\n",
       "      <td>474</td>\n",
       "      <td>613</td>\n",
       "      <td>453</td>\n",
       "      <td>457</td>\n",
       "    </tr>\n",
       "    <tr>\n",
       "      <th>gene97</th>\n",
       "      <td>846</td>\n",
       "      <td>947</td>\n",
       "      <td>244</td>\n",
       "      <td>283</td>\n",
       "      <td>872</td>\n",
       "      <td>375</td>\n",
       "      <td>347</td>\n",
       "      <td>615</td>\n",
       "      <td>224</td>\n",
       "      <td>618</td>\n",
       "    </tr>\n",
       "    <tr>\n",
       "      <th>gene98</th>\n",
       "      <td>329</td>\n",
       "      <td>735</td>\n",
       "      <td>116</td>\n",
       "      <td>972</td>\n",
       "      <td>553</td>\n",
       "      <td>890</td>\n",
       "      <td>747</td>\n",
       "      <td>433</td>\n",
       "      <td>520</td>\n",
       "      <td>481</td>\n",
       "    </tr>\n",
       "    <tr>\n",
       "      <th>gene99</th>\n",
       "      <td>205</td>\n",
       "      <td>832</td>\n",
       "      <td>257</td>\n",
       "      <td>498</td>\n",
       "      <td>353</td>\n",
       "      <td>999</td>\n",
       "      <td>567</td>\n",
       "      <td>854</td>\n",
       "      <td>432</td>\n",
       "      <td>785</td>\n",
       "    </tr>\n",
       "    <tr>\n",
       "      <th>gene100</th>\n",
       "      <td>532</td>\n",
       "      <td>556</td>\n",
       "      <td>83</td>\n",
       "      <td>234</td>\n",
       "      <td>868</td>\n",
       "      <td>175</td>\n",
       "      <td>873</td>\n",
       "      <td>306</td>\n",
       "      <td>682</td>\n",
       "      <td>862</td>\n",
       "    </tr>\n",
       "  </tbody>\n",
       "</table>\n",
       "<p>100 rows × 10 columns</p>\n",
       "</div>"
      ],
      "text/plain": [
       "         wt1  wt2  wt3  wt4  wt5  ko1  ko2  ko3  ko4  ko5\n",
       "gene1    235  224  544  856  794  429  827  362  290  805\n",
       "gene2     90  844   41  579   80   46  255  737  323  465\n",
       "gene3    154  677  712  902  611  454  561  604  982  335\n",
       "gene4     99   52  998  392  737  649  147  528  519   23\n",
       "gene5    595  568  299  163   57  126  263  462  349  434\n",
       "...      ...  ...  ...  ...  ...  ...  ...  ...  ...  ...\n",
       "gene96   327  572  628  446   87  937  474  613  453  457\n",
       "gene97   846  947  244  283  872  375  347  615  224  618\n",
       "gene98   329  735  116  972  553  890  747  433  520  481\n",
       "gene99   205  832  257  498  353  999  567  854  432  785\n",
       "gene100  532  556   83  234  868  175  873  306  682  862\n",
       "\n",
       "[100 rows x 10 columns]"
      ]
     },
     "execution_count": 7,
     "metadata": {},
     "output_type": "execute_result"
    }
   ],
   "source": [
    "# or we can also generate rando, numbers like this\n",
    "a=np.random.randint(10,1000,(100,10))\n",
    "pd.DataFrame(a,columns=[*wt,*ko],index=genes)"
   ]
  },
  {
   "cell_type": "code",
   "execution_count": 33,
   "metadata": {},
   "outputs": [
    {
     "name": "stderr",
     "output_type": "stream",
     "text": [
      "C:\\Users\\rissu\\anaconda3\\lib\\site-packages\\ipykernel_launcher.py:6: MatplotlibDeprecationWarning: \n",
      "The 'normed' kwarg was deprecated in Matplotlib 2.1 and will be removed in 3.1. Use 'density' instead.\n",
      "  \n"
     ]
    },
    {
     "data": {
      "image/png": "[encoded data removed]",
      "text/plain": [
       "<Figure size 432x288 with 1 Axes>"
      ]
     },
     "metadata": {
      "needs_background": "light"
     },
     "output_type": "display_data"
    }
   ],
   "source": [
    "import numpy as np\n",
    "s = np.random.poisson(5, 10000)\n",
    "# Display histogram of the sample:\n",
    "\n",
    "import matplotlib.pyplot as plt\n",
    "count, bins, ignored = plt.hist(s, 14, normed=True)\n",
    "plt.show()"
   ]
  },
  {
   "cell_type": "code",
   "execution_count": 35,
   "metadata": {},
   "outputs": [
    {
     "data": {
      "text/plain": [
       "(array([0.03584   , 0.07681333, 0.13216   , 0.15988   , 0.1638    ,\n",
       "        0.13897333, 0.10126667, 0.06010667, 0.03425333, 0.01801333,\n",
       "        0.00737333, 0.00214667, 0.00149333, 0.00121333]),\n",
       " array([ 0.        ,  1.07142857,  2.14285714,  3.21428571,  4.28571429,\n",
       "         5.35714286,  6.42857143,  7.5       ,  8.57142857,  9.64285714,\n",
       "        10.71428571, 11.78571429, 12.85714286, 13.92857143, 15.        ]),\n",
       " <a list of 14 Patch objects>)"
      ]
     },
     "execution_count": 35,
     "metadata": {},
     "output_type": "execute_result"
    }
   ],
   "source": [
    "count,bins,ignored"
   ]
  },
  {
   "cell_type": "code",
   "execution_count": 9,
   "metadata": {},
   "outputs": [
    {
     "data": {
      "text/plain": [
       "(100, 10)"
      ]
     },
     "execution_count": 9,
     "metadata": {},
     "output_type": "execute_result"
    }
   ],
   "source": [
    "data.shape"
   ]
  },
  {
   "cell_type": "code",
   "execution_count": 10,
   "metadata": {},
   "outputs": [],
   "source": [
    "scaled_data=preprocessing.scale(data.T)"
   ]
  },
  {
   "cell_type": "code",
   "execution_count": 11,
   "metadata": {},
   "outputs": [
    {
     "data": {
      "text/plain": [
       "(10, 100)"
      ]
     },
     "execution_count": 11,
     "metadata": {},
     "output_type": "execute_result"
    }
   ],
   "source": [
    "scaled_data.shape"
   ]
  },
  {
   "cell_type": "code",
   "execution_count": 12,
   "metadata": {},
   "outputs": [
    {
     "data": {
      "text/plain": [
       "(array([ 0.22499743,  0.20101305,  0.17091471,  0.25097763,  0.1963535 ,\n",
       "        -0.21147071, -0.21023387, -0.20467884, -0.16713066, -0.25074225]),\n",
       " array([0.97923276, 0.91964685, 1.03901577, 0.98229296, 0.94068451,\n",
       "        0.97948964, 0.97997205, 0.9985587 , 1.0100065 , 0.94108035]))"
      ]
     },
     "execution_count": 12,
     "metadata": {},
     "output_type": "execute_result"
    }
   ],
   "source": [
    "# after scaling mean for each column is 0 and std deviation is 1\n",
    "scaled_data.mean(axis=1),scaled_data.std(axis=1)"
   ]
  },
  {
   "cell_type": "code",
   "execution_count": 36,
   "metadata": {},
   "outputs": [],
   "source": [
    "pca=PCA()\n",
    "pca.fit(scaled_data)\n",
    "pca_data=pca.transform(scaled_data)"
   ]
  },
  {
   "cell_type": "code",
   "execution_count": 38,
   "metadata": {},
   "outputs": [
    {
     "data": {
      "text/plain": [
       "(10, 10)"
      ]
     },
     "execution_count": 38,
     "metadata": {},
     "output_type": "execute_result"
    }
   ],
   "source": [
    "pca_data.shape"
   ]
  },
  {
   "cell_type": "code",
   "execution_count": 43,
   "metadata": {},
   "outputs": [],
   "source": [
    "per_var=np.round(pca.explained_variance_ratio_*100,decimals=1)\n",
    "labels=['PC'+str(x) for x in range(1,len(per_var)+1)]"
   ]
  },
  {
   "cell_type": "code",
   "execution_count": 44,
   "metadata": {},
   "outputs": [
    {
     "data": {
      "image/png": "[encoded data removed]",
      "text/plain": [
       "<Figure size 432x288 with 1 Axes>"
      ]
     },
     "metadata": {
      "needs_background": "light"
     },
     "output_type": "display_data"
    }
   ],
   "source": [
    "pl.bar(range(10),per_var,tick_label=labels)\n",
    "pl.xlabel('Principal Component')\n",
    "pl.ylabel('Percentage of Explained Variance')\n",
    "pl.title('Scree Plot')\n",
    "pl.show()"
   ]
  },
  {
   "cell_type": "markdown",
   "metadata": {},
   "source": [
    "# Here PCA1 and PCA2 can do a god job to represent the original data"
   ]
  },
  {
   "cell_type": "code",
   "execution_count": 16,
   "metadata": {},
   "outputs": [],
   "source": [
    "pca_df=pd.DataFrame(pca_data,index=[*wt,*ko],columns=labels)"
   ]
  },
  {
   "cell_type": "code",
   "execution_count": 17,
   "metadata": {},
   "outputs": [
    {
     "data": {
      "text/html": [
       "<div>\n",
       "<style scoped>\n",
       "    .dataframe tbody tr th:only-of-type {\n",
       "        vertical-align: middle;\n",
       "    }\n",
       "\n",
       "    .dataframe tbody tr th {\n",
       "        vertical-align: top;\n",
       "    }\n",
       "\n",
       "    .dataframe thead th {\n",
       "        text-align: right;\n",
       "    }\n",
       "</style>\n",
       "<table border=\"1\" class=\"dataframe\">\n",
       "  <thead>\n",
       "    <tr style=\"text-align: right;\">\n",
       "      <th></th>\n",
       "      <th>PC1</th>\n",
       "      <th>PC2</th>\n",
       "      <th>PC3</th>\n",
       "      <th>PC4</th>\n",
       "      <th>PC5</th>\n",
       "      <th>PC6</th>\n",
       "      <th>PC7</th>\n",
       "      <th>PC8</th>\n",
       "      <th>PC9</th>\n",
       "      <th>PC10</th>\n",
       "    </tr>\n",
       "  </thead>\n",
       "  <tbody>\n",
       "    <tr>\n",
       "      <th>wt1</th>\n",
       "      <td>9.611849</td>\n",
       "      <td>0.883230</td>\n",
       "      <td>-1.537013</td>\n",
       "      <td>-0.584416</td>\n",
       "      <td>-0.553871</td>\n",
       "      <td>-0.950181</td>\n",
       "      <td>-1.429063</td>\n",
       "      <td>1.000979</td>\n",
       "      <td>0.909168</td>\n",
       "      <td>-3.330669e-16</td>\n",
       "    </tr>\n",
       "    <tr>\n",
       "      <th>wt2</th>\n",
       "      <td>8.881537</td>\n",
       "      <td>-0.414280</td>\n",
       "      <td>-1.351206</td>\n",
       "      <td>-1.566082</td>\n",
       "      <td>0.059970</td>\n",
       "      <td>0.649214</td>\n",
       "      <td>2.144013</td>\n",
       "      <td>-0.209526</td>\n",
       "      <td>0.467111</td>\n",
       "      <td>-1.110223e-16</td>\n",
       "    </tr>\n",
       "    <tr>\n",
       "      <th>wt3</th>\n",
       "      <td>9.733728</td>\n",
       "      <td>-1.333584</td>\n",
       "      <td>3.270507</td>\n",
       "      <td>-1.287294</td>\n",
       "      <td>1.184706</td>\n",
       "      <td>0.250619</td>\n",
       "      <td>-0.689897</td>\n",
       "      <td>-0.231834</td>\n",
       "      <td>0.057267</td>\n",
       "      <td>-5.204170e-16</td>\n",
       "    </tr>\n",
       "    <tr>\n",
       "      <th>wt4</th>\n",
       "      <td>9.662993</td>\n",
       "      <td>-0.405621</td>\n",
       "      <td>-1.352832</td>\n",
       "      <td>1.597003</td>\n",
       "      <td>-0.589427</td>\n",
       "      <td>1.348038</td>\n",
       "      <td>-0.910867</td>\n",
       "      <td>-1.271515</td>\n",
       "      <td>-0.509246</td>\n",
       "      <td>4.996004e-16</td>\n",
       "    </tr>\n",
       "    <tr>\n",
       "      <th>wt5</th>\n",
       "      <td>9.066888</td>\n",
       "      <td>1.319598</td>\n",
       "      <td>0.910216</td>\n",
       "      <td>1.838365</td>\n",
       "      <td>-0.067417</td>\n",
       "      <td>-1.352134</td>\n",
       "      <td>1.002978</td>\n",
       "      <td>0.699445</td>\n",
       "      <td>-0.926465</td>\n",
       "      <td>5.551115e-16</td>\n",
       "    </tr>\n",
       "    <tr>\n",
       "      <th>ko1</th>\n",
       "      <td>-9.400040</td>\n",
       "      <td>-2.055862</td>\n",
       "      <td>-0.644604</td>\n",
       "      <td>-1.701701</td>\n",
       "      <td>-1.299648</td>\n",
       "      <td>-1.326543</td>\n",
       "      <td>-0.243381</td>\n",
       "      <td>-0.360434</td>\n",
       "      <td>-0.935630</td>\n",
       "      <td>8.881784e-16</td>\n",
       "    </tr>\n",
       "    <tr>\n",
       "      <th>ko2</th>\n",
       "      <td>-9.593595</td>\n",
       "      <td>-0.972354</td>\n",
       "      <td>0.235764</td>\n",
       "      <td>1.746803</td>\n",
       "      <td>0.699403</td>\n",
       "      <td>-1.235820</td>\n",
       "      <td>0.316241</td>\n",
       "      <td>-0.978328</td>\n",
       "      <td>1.136377</td>\n",
       "      <td>9.992007e-16</td>\n",
       "    </tr>\n",
       "    <tr>\n",
       "      <th>ko3</th>\n",
       "      <td>-9.290218</td>\n",
       "      <td>3.225117</td>\n",
       "      <td>1.604906</td>\n",
       "      <td>-0.477906</td>\n",
       "      <td>-1.885824</td>\n",
       "      <td>0.817686</td>\n",
       "      <td>0.081536</td>\n",
       "      <td>-0.278317</td>\n",
       "      <td>0.280347</td>\n",
       "      <td>-2.220446e-15</td>\n",
       "    </tr>\n",
       "    <tr>\n",
       "      <th>ko4</th>\n",
       "      <td>-9.533131</td>\n",
       "      <td>2.077263</td>\n",
       "      <td>-1.250117</td>\n",
       "      <td>-0.653262</td>\n",
       "      <td>2.665781</td>\n",
       "      <td>0.315346</td>\n",
       "      <td>-0.352078</td>\n",
       "      <td>0.061976</td>\n",
       "      <td>-0.534596</td>\n",
       "      <td>1.942890e-16</td>\n",
       "    </tr>\n",
       "    <tr>\n",
       "      <th>ko5</th>\n",
       "      <td>-9.140009</td>\n",
       "      <td>-2.323508</td>\n",
       "      <td>0.114378</td>\n",
       "      <td>1.088489</td>\n",
       "      <td>-0.213671</td>\n",
       "      <td>1.483774</td>\n",
       "      <td>0.080518</td>\n",
       "      <td>1.567555</td>\n",
       "      <td>0.055667</td>\n",
       "      <td>8.881784e-16</td>\n",
       "    </tr>\n",
       "  </tbody>\n",
       "</table>\n",
       "</div>"
      ],
      "text/plain": [
       "          PC1       PC2       PC3       PC4       PC5       PC6       PC7  \\\n",
       "wt1  9.611849  0.883230 -1.537013 -0.584416 -0.553871 -0.950181 -1.429063   \n",
       "wt2  8.881537 -0.414280 -1.351206 -1.566082  0.059970  0.649214  2.144013   \n",
       "wt3  9.733728 -1.333584  3.270507 -1.287294  1.184706  0.250619 -0.689897   \n",
       "wt4  9.662993 -0.405621 -1.352832  1.597003 -0.589427  1.348038 -0.910867   \n",
       "wt5  9.066888  1.319598  0.910216  1.838365 -0.067417 -1.352134  1.002978   \n",
       "ko1 -9.400040 -2.055862 -0.644604 -1.701701 -1.299648 -1.326543 -0.243381   \n",
       "ko2 -9.593595 -0.972354  0.235764  1.746803  0.699403 -1.235820  0.316241   \n",
       "ko3 -9.290218  3.225117  1.604906 -0.477906 -1.885824  0.817686  0.081536   \n",
       "ko4 -9.533131  2.077263 -1.250117 -0.653262  2.665781  0.315346 -0.352078   \n",
       "ko5 -9.140009 -2.323508  0.114378  1.088489 -0.213671  1.483774  0.080518   \n",
       "\n",
       "          PC8       PC9          PC10  \n",
       "wt1  1.000979  0.909168 -3.330669e-16  \n",
       "wt2 -0.209526  0.467111 -1.110223e-16  \n",
       "wt3 -0.231834  0.057267 -5.204170e-16  \n",
       "wt4 -1.271515 -0.509246  4.996004e-16  \n",
       "wt5  0.699445 -0.926465  5.551115e-16  \n",
       "ko1 -0.360434 -0.935630  8.881784e-16  \n",
       "ko2 -0.978328  1.136377  9.992007e-16  \n",
       "ko3 -0.278317  0.280347 -2.220446e-15  \n",
       "ko4  0.061976 -0.534596  1.942890e-16  \n",
       "ko5  1.567555  0.055667  8.881784e-16  "
      ]
     },
     "execution_count": 17,
     "metadata": {},
     "output_type": "execute_result"
    }
   ],
   "source": [
    "pca_df"
   ]
  },
  {
   "cell_type": "code",
   "execution_count": 31,
   "metadata": {},
   "outputs": [
    {
     "data": {
      "image/png": "[encoded data removed]",
      "text/plain": [
       "<Figure size 432x288 with 1 Axes>"
      ]
     },
     "metadata": {
      "needs_background": "light"
     },
     "output_type": "display_data"
    }
   ],
   "source": [
    "pl.scatter(pca_df.PC1,pca_df.PC2)\n",
    "pl.title('My PCA graph')\n",
    "pl.xlabel('PCA1-{0}%'.format(per_var[0]))\n",
    "pl.ylabel('PCA2-{0}%'.format(per_var[1]))\n",
    "for sample in pca_df.index:\n",
    "    pl.annotate(sample,(pca_df.PC1.loc[sample],pca_df.PC2.loc[sample]))"
   ]
  },
  {
   "cell_type": "code",
   "execution_count": 32,
   "metadata": {},
   "outputs": [
    {
     "data": {
      "image/png": "[encoded data removed]",
      "text/plain": [
       "<Figure size 432x288 with 1 Axes>"
      ]
     },
     "metadata": {
      "needs_background": "light"
     },
     "output_type": "display_data"
    }
   ],
   "source": [
    "pl.scatter(pca_df.PC1,pca_df.PC3)\n",
    "pl.title('My PCA graph')\n",
    "pl.xlabel('PCA1-{0}%'.format(per_var[0]))\n",
    "pl.ylabel('PCA2-{0}%'.format(per_var[1]))\n",
    "for sample in pca_df.index:\n",
    "    pl.annotate(sample,(pca_df.PC1.loc[sample],pca_df.PC3.loc[sample]))"
   ]
  },
  {
   "cell_type": "code",
   "execution_count": 29,
   "metadata": {},
   "outputs": [
    {
     "data": {
      "image/png": "[encoded data removed]",
      "text/plain": [
       "<Figure size 432x288 with 1 Axes>"
      ]
     },
     "metadata": {
      "needs_background": "light"
     },
     "output_type": "display_data"
    }
   ],
   "source": [
    "pl.scatter(pca_df.PC3,pca_df.PC4)\n",
    "pl.title('My PCA graph')\n",
    "pl.xlabel('PCA1-{0}%'.format(per_var[0]))\n",
    "pl.ylabel('PCA2-{0}%'.format(per_var[1]))\n",
    "for sample in pca_df.index:\n",
    "    pl.annotate(sample,(pca_df.PC3.loc[sample],pca_df.PC4.loc[sample]))"
   ]
  },
  {
   "cell_type": "code",
   "execution_count": 30,
   "metadata": {},
   "outputs": [
    {
     "data": {
      "image/png": "[encoded data removed]",
      "text/plain": [
       "<Figure size 432x288 with 1 Axes>"
      ]
     },
     "metadata": {
      "needs_background": "light"
     },
     "output_type": "display_data"
    }
   ],
   "source": [
    "pl.scatter(pca_df.PC5,pca_df.PC6)\n",
    "pl.title('My PCA graph')\n",
    "pl.xlabel('PCA1-{0}%'.format(per_var[0]))\n",
    "pl.ylabel('PCA2-{0}%'.format(per_var[1]))\n",
    "for sample in pca_df.index:\n",
    "    pl.annotate(sample,(pca_df.PC5.loc[sample],pca_df.PC6.loc[sample]))"
   ]
  },
  {
   "cell_type": "code",
   "execution_count": 19,
   "metadata": {},
   "outputs": [
    {
     "data": {
      "text/plain": [
       "gene1      0.099767\n",
       "gene2     -0.098719\n",
       "gene3      0.105056\n",
       "gene4     -0.073752\n",
       "gene5      0.101449\n",
       "             ...   \n",
       "gene96     0.105399\n",
       "gene97     0.105990\n",
       "gene98     0.104277\n",
       "gene99     0.060662\n",
       "gene100   -0.106335\n",
       "Length: 100, dtype: float64"
      ]
     },
     "execution_count": 19,
     "metadata": {},
     "output_type": "execute_result"
    }
   ],
   "source": [
    "loadin_scores=pd.Series(pca.components_[0],index=genes)\n",
    "loadin_scores"
   ]
  },
  {
   "cell_type": "code",
   "execution_count": 20,
   "metadata": {},
   "outputs": [],
   "source": [
    "sorted_loading_scores=loadin_scores.abs().sort_values(ascending=False)"
   ]
  },
  {
   "cell_type": "code",
   "execution_count": 21,
   "metadata": {},
   "outputs": [],
   "source": [
    "top10genes=sorted_loading_scores[:10].index.values"
   ]
  },
  {
   "cell_type": "code",
   "execution_count": 22,
   "metadata": {},
   "outputs": [
    {
     "data": {
      "text/plain": [
       "array(['gene65', 'gene100', 'gene83', 'gene49', 'gene69', 'gene52',\n",
       "       'gene42', 'gene45', 'gene13', 'gene80'], dtype=object)"
      ]
     },
     "execution_count": 22,
     "metadata": {},
     "output_type": "execute_result"
    }
   ],
   "source": [
    "top10genes"
   ]
  },
  {
   "cell_type": "code",
   "execution_count": 23,
   "metadata": {},
   "outputs": [
    {
     "data": {
      "text/plain": [
       "1.0"
      ]
     },
     "execution_count": 23,
     "metadata": {},
     "output_type": "execute_result"
    }
   ],
   "source": [
    "## calculatng correlation\n",
    "a=np.arange(10)\n",
    "b=np.arange(10)\n",
    "abar=np.mean(a)\n",
    "bbar=np.mean(b)\n",
    "np.sum(((a-abar)*(b-bbar)))/((np.sqrt(np.sum((a-abar)**2))*np.sqrt(np.sum((b-bbar)**2))))"
   ]
  },
  {
   "cell_type": "code",
   "execution_count": 24,
   "metadata": {},
   "outputs": [],
   "source": [
    "x=np.random.randn(100,200)"
   ]
  },
  {
   "cell_type": "code",
   "execution_count": 25,
   "metadata": {},
   "outputs": [
    {
     "data": {
      "text/plain": [
       "array([ 0.1,  0.2, -0. ,  0.1, -0.1,  0.1,  0.1, -0. ,  0. , -0.1, -0.1,\n",
       "        0.1,  0.2, -0.1,  0.1, -0.1,  0. , -0. , -0.1,  0. ,  0. , -0.1,\n",
       "        0.1,  0.1,  0.1, -0. , -0.1,  0.2, -0.1, -0.3,  0.1,  0. ,  0.1,\n",
       "       -0. ,  0. ,  0.2, -0. , -0.2, -0.1, -0.1,  0. , -0.1, -0. , -0.1,\n",
       "       -0. , -0. ,  0. , -0.1, -0. , -0. , -0.1,  0.1, -0.1,  0.2,  0.1,\n",
       "       -0.1, -0.1, -0.1,  0. , -0.1, -0.1,  0.1, -0.1, -0.1, -0.2, -0. ,\n",
       "        0.1, -0. ,  0. ,  0. , -0.1, -0.1, -0. ,  0.2, -0. ,  0. ,  0.1,\n",
       "       -0. , -0.1, -0.2,  0.1,  0. , -0. , -0. , -0.2, -0.1, -0.1,  0.1,\n",
       "       -0.1, -0.1, -0. , -0. ,  0.1, -0.2,  0. , -0.2,  0. , -0. , -0. ,\n",
       "        0.2,  0. ,  0.2,  0.1,  0.1,  0.1,  0.1,  0. ,  0.1, -0. , -0.1,\n",
       "       -0.1,  0.1,  0. ,  0. ,  0.1, -0.1,  0.1, -0.1,  0. , -0. ,  0.1,\n",
       "       -0.1,  0. , -0.1, -0.1,  0.2, -0.1,  0.1, -0.1, -0.1,  0.1,  0.1,\n",
       "        0. , -0.1,  0. , -0. ,  0.1,  0.1,  0.2,  0. , -0.1, -0.1, -0.1,\n",
       "       -0.1, -0.1, -0.1,  0.1,  0. ,  0.1,  0.1,  0. , -0.1,  0.1, -0.2,\n",
       "       -0.1,  0.2,  0. , -0. ,  0.1,  0.1,  0.1,  0. , -0.2,  0.1,  0. ,\n",
       "       -0. , -0.1, -0.1,  0. , -0.1,  0.1,  0. ,  0.1,  0.1,  0. ,  0.1,\n",
       "       -0. , -0. ,  0. ,  0. ,  0. ,  0. , -0.1, -0.1, -0.1, -0. ,  0.1,\n",
       "       -0.1,  0.1,  0. , -0. , -0. ,  0.2,  0.1, -0. , -0. ,  0. ,  0.1,\n",
       "        0.2,  0.3])"
      ]
     },
     "execution_count": 25,
     "metadata": {},
     "output_type": "execute_result"
    }
   ],
   "source": [
    "np.round(x.mean(axis=0),1)"
   ]
  },
  {
   "cell_type": "code",
   "execution_count": null,
   "metadata": {},
   "outputs": [],
   "source": [
    "    "
   ]
  },
  {
   "cell_type": "code",
   "execution_count": null,
   "metadata": {},
   "outputs": [],
   "source": []
  },
  {
   "cell_type": "code",
   "execution_count": null,
   "metadata": {},
   "outputs": [],
   "source": []
  },
  {
   "cell_type": "code",
   "execution_count": null,
   "metadata": {},
   "outputs": [],
   "source": []
  },
  {
   "cell_type": "code",
   "execution_count": null,
   "metadata": {},
   "outputs": [],
   "source": []
  },
  {
   "cell_type": "code",
   "execution_count": null,
   "metadata": {},
   "outputs": [],
   "source": []
  },
  {
   "cell_type": "code",
   "execution_count": null,
   "metadata": {},
   "outputs": [],
   "source": []
  },
  {
   "cell_type": "code",
   "execution_count": null,
   "metadata": {},
   "outputs": [],
   "source": []
  },
  {
   "cell_type": "code",
   "execution_count": null,
   "metadata": {},
   "outputs": [],
   "source": []
  },
  {
   "cell_type": "code",
   "execution_count": null,
   "metadata": {},
   "outputs": [],
   "source": []
  },
  {
   "cell_type": "code",
   "execution_count": null,
   "metadata": {},
   "outputs": [],
   "source": []
  },
  {
   "cell_type": "code",
   "execution_count": null,
   "metadata": {},
   "outputs": [],
   "source": []
  },
  {
   "cell_type": "code",
   "execution_count": null,
   "metadata": {},
   "outputs": [],
   "source": []
  },
  {
   "cell_type": "code",
   "execution_count": null,
   "metadata": {},
   "outputs": [],
   "source": []
  },
  {
   "cell_type": "code",
   "execution_count": null,
   "metadata": {},
   "outputs": [],
   "source": []
  },
  {
   "cell_type": "code",
   "execution_count": null,
   "metadata": {},
   "outputs": [],
   "source": []
  },
  {
   "cell_type": "code",
   "execution_count": null,
   "metadata": {},
   "outputs": [],
   "source": []
  },
  {
   "cell_type": "code",
   "execution_count": null,
   "metadata": {},
   "outputs": [],
   "source": []
  },
  {
   "cell_type": "code",
   "execution_count": null,
   "metadata": {},
   "outputs": [],
   "source": []
  },
  {
   "cell_type": "code",
   "execution_count": null,
   "metadata": {},
   "outputs": [],
   "source": []
  },
  {
   "cell_type": "code",
   "execution_count": null,
   "metadata": {},
   "outputs": [],
   "source": []
  },
  {
   "cell_type": "code",
   "execution_count": null,
   "metadata": {},
   "outputs": [],
   "source": []
  },
  {
   "cell_type": "code",
   "execution_count": null,
   "metadata": {},
   "outputs": [],
   "source": []
  },
  {
   "cell_type": "code",
   "execution_count": null,
   "metadata": {},
   "outputs": [],
   "source": []
  },
  {
   "cell_type": "code",
   "execution_count": null,
   "metadata": {},
   "outputs": [],
   "source": []
  },
  {
   "cell_type": "code",
   "execution_count": null,
   "metadata": {},
   "outputs": [],
   "source": []
  },
  {
   "cell_type": "code",
   "execution_count": null,
   "metadata": {},
   "outputs": [],
   "source": []
  },
  {
   "cell_type": "code",
   "execution_count": null,
   "metadata": {},
   "outputs": [],
   "source": []
  },
  {
   "cell_type": "code",
   "execution_count": null,
   "metadata": {},
   "outputs": [],
   "source": []
  },
  {
   "cell_type": "code",
   "execution_count": null,
   "metadata": {},
   "outputs": [],
   "source": []
  },
  {
   "cell_type": "code",
   "execution_count": null,
   "metadata": {},
   "outputs": [],
   "source": []
  },
  {
   "cell_type": "code",
   "execution_count": null,
   "metadata": {},
   "outputs": [],
   "source": []
  },
  {
   "cell_type": "code",
   "execution_count": null,
   "metadata": {},
   "outputs": [],
   "source": []
  },
  {
   "cell_type": "code",
   "execution_count": null,
   "metadata": {},
   "outputs": [],
   "source": []
  },
  {
   "cell_type": "code",
   "execution_count": null,
   "metadata": {},
   "outputs": [],
   "source": []
  },
  {
   "cell_type": "code",
   "execution_count": null,
   "metadata": {},
   "outputs": [],
   "source": []
  },
  {
   "cell_type": "code",
   "execution_count": null,
   "metadata": {},
   "outputs": [],
   "source": []
  },
  {
   "cell_type": "code",
   "execution_count": null,
   "metadata": {},
   "outputs": [],
   "source": []
  },
  {
   "cell_type": "code",
   "execution_count": null,
   "metadata": {},
   "outputs": [],
   "source": []
  },
  {
   "cell_type": "code",
   "execution_count": null,
   "metadata": {},
   "outputs": [],
   "source": []
  },
  {
   "cell_type": "code",
   "execution_count": null,
   "metadata": {},
   "outputs": [],
   "source": []
  },
  {
   "cell_type": "code",
   "execution_count": null,
   "metadata": {},
   "outputs": [],
   "source": []
  },
  {
   "cell_type": "code",
   "execution_count": null,
   "metadata": {},
   "outputs": [],
   "source": []
  },
  {
   "cell_type": "code",
   "execution_count": null,
   "metadata": {},
   "outputs": [],
   "source": []
  },
  {
   "cell_type": "code",
   "execution_count": null,
   "metadata": {},
   "outputs": [],
   "source": []
  },
  {
   "cell_type": "code",
   "execution_count": null,
   "metadata": {},
   "outputs": [],
   "source": []
  },
  {
   "cell_type": "code",
   "execution_count": null,
   "metadata": {},
   "outputs": [],
   "source": []
  },
  {
   "cell_type": "code",
   "execution_count": null,
   "metadata": {},
   "outputs": [],
   "source": []
  },
  {
   "cell_type": "code",
   "execution_count": null,
   "metadata": {},
   "outputs": [],
   "source": []
  },
  {
   "cell_type": "code",
   "execution_count": null,
   "metadata": {},
   "outputs": [],
   "source": []
  },
  {
   "cell_type": "code",
   "execution_count": null,
   "metadata": {},
   "outputs": [],
   "source": []
  },
  {
   "cell_type": "code",
   "execution_count": null,
   "metadata": {},
   "outputs": [],
   "source": []
  },
  {
   "cell_type": "code",
   "execution_count": null,
   "metadata": {},
   "outputs": [],
   "source": []
  },
  {
   "cell_type": "code",
   "execution_count": null,
   "metadata": {},
   "outputs": [],
   "source": []
  },
  {
   "cell_type": "code",
   "execution_count": null,
   "metadata": {},
   "outputs": [],
   "source": []
  },
  {
   "cell_type": "code",
   "execution_count": null,
   "metadata": {},
   "outputs": [],
   "source": []
  },
  {
   "cell_type": "code",
   "execution_count": null,
   "metadata": {},
   "outputs": [],
   "source": []
  },
  {
   "cell_type": "code",
   "execution_count": null,
   "metadata": {},
   "outputs": [],
   "source": []
  },
  {
   "cell_type": "code",
   "execution_count": null,
   "metadata": {},
   "outputs": [],
   "source": []
  },
  {
   "cell_type": "code",
   "execution_count": null,
   "metadata": {},
   "outputs": [],
   "source": []
  },
  {
   "cell_type": "code",
   "execution_count": null,
   "metadata": {},
   "outputs": [],
   "source": []
  },
  {
   "cell_type": "code",
   "execution_count": null,
   "metadata": {},
   "outputs": [],
   "source": []
  },
  {
   "cell_type": "code",
   "execution_count": null,
   "metadata": {},
   "outputs": [],
   "source": []
  },
  {
   "cell_type": "code",
   "execution_count": null,
   "metadata": {},
   "outputs": [],
   "source": []
  },
  {
   "cell_type": "code",
   "execution_count": null,
   "metadata": {},
   "outputs": [],
   "source": []
  },
  {
   "cell_type": "code",
   "execution_count": null,
   "metadata": {},
   "outputs": [],
   "source": []
  },
  {
   "cell_type": "code",
   "execution_count": null,
   "metadata": {},
   "outputs": [],
   "source": []
  }
 ],
 "metadata": {
  "kernelspec": {
   "display_name": "Python 3",
   "language": "python",
   "name": "python3"
  },
  "language_info": {
   "codemirror_mode": {
    "name": "ipython",
    "version": 3
   },
   "file_extension": ".py",
   "mimetype": "text/x-python",
   "name": "python",
   "nbconvert_exporter": "python",
   "pygments_lexer": "ipython3",
   "version": "3.7.7"
  }
 },
 "nbformat": 4,
 "nbformat_minor": 4
}
