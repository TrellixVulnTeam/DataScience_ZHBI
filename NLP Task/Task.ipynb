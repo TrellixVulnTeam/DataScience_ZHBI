{
 "cells": [
  {
   "cell_type": "code",
   "execution_count": 5,
   "metadata": {},
   "outputs": [],
   "source": [
    "import pandas as pd\n",
    "import matplotlib.pyplot as pl\n"
   ]
  },
  {
   "cell_type": "code",
   "execution_count": 8,
   "metadata": {},
   "outputs": [],
   "source": [
    "df=pd.read_excel('data.xlsx',names=['Category',\n",
    "                                   'Tag',\n",
    "                                   'Question',\n",
    "                                   'Answer'])"
   ]
  },
  {
   "cell_type": "code",
   "execution_count": 11,
   "metadata": {},
   "outputs": [
    {
     "data": {
      "text/html": [
       "<div>\n",
       "<style scoped>\n",
       "    .dataframe tbody tr th:only-of-type {\n",
       "        vertical-align: middle;\n",
       "    }\n",
       "\n",
       "    .dataframe tbody tr th {\n",
       "        vertical-align: top;\n",
       "    }\n",
       "\n",
       "    .dataframe thead th {\n",
       "        text-align: right;\n",
       "    }\n",
       "</style>\n",
       "<table border=\"1\" class=\"dataframe\">\n",
       "  <thead>\n",
       "    <tr style=\"text-align: right;\">\n",
       "      <th></th>\n",
       "      <th>Category</th>\n",
       "      <th>Tag</th>\n",
       "      <th>Question</th>\n",
       "      <th>Answer</th>\n",
       "    </tr>\n",
       "  </thead>\n",
       "  <tbody>\n",
       "    <tr>\n",
       "      <th>0</th>\n",
       "      <td>My Account</td>\n",
       "      <td>Rating and Reviews</td>\n",
       "      <td>How to Filter Search Results with Product Rati...</td>\n",
       "      <td>[Products can also be filtered according to th...</td>\n",
       "    </tr>\n",
       "    <tr>\n",
       "      <th>1</th>\n",
       "      <td>My Account</td>\n",
       "      <td>Rating and Reviews</td>\n",
       "      <td>What are Ratings &amp; Reviews and how do I write ...</td>\n",
       "      <td>[Daraz customers have the option of rating and...</td>\n",
       "    </tr>\n",
       "    <tr>\n",
       "      <th>2</th>\n",
       "      <td>My Account</td>\n",
       "      <td>Product Warranty</td>\n",
       "      <td>How do I know if a product comes with free ins...</td>\n",
       "      <td>[Unfortunately, we are not providing the Free ...</td>\n",
       "    </tr>\n",
       "    <tr>\n",
       "      <th>3</th>\n",
       "      <td>My Account</td>\n",
       "      <td>Product Warranty</td>\n",
       "      <td>How do I know if a product comes with warranty?</td>\n",
       "      <td>[If a warranty is offered on a product, the wa...</td>\n",
       "    </tr>\n",
       "    <tr>\n",
       "      <th>4</th>\n",
       "      <td>My Account</td>\n",
       "      <td>Product Warranty</td>\n",
       "      <td>I lost my warranty card. How can I claim warra...</td>\n",
       "      <td>Lost your warranty card? Don't worry! You can ...</td>\n",
       "    </tr>\n",
       "  </tbody>\n",
       "</table>\n",
       "</div>"
      ],
      "text/plain": [
       "     Category                 Tag  \\\n",
       "0  My Account  Rating and Reviews   \n",
       "1  My Account  Rating and Reviews   \n",
       "2  My Account    Product Warranty   \n",
       "3  My Account    Product Warranty   \n",
       "4  My Account    Product Warranty   \n",
       "\n",
       "                                            Question  \\\n",
       "0  How to Filter Search Results with Product Rati...   \n",
       "1  What are Ratings & Reviews and how do I write ...   \n",
       "2  How do I know if a product comes with free ins...   \n",
       "3    How do I know if a product comes with warranty?   \n",
       "4  I lost my warranty card. How can I claim warra...   \n",
       "\n",
       "                                              Answer  \n",
       "0  [Products can also be filtered according to th...  \n",
       "1  [Daraz customers have the option of rating and...  \n",
       "2  [Unfortunately, we are not providing the Free ...  \n",
       "3  [If a warranty is offered on a product, the wa...  \n",
       "4  Lost your warranty card? Don't worry! You can ...  "
      ]
     },
     "execution_count": 11,
     "metadata": {},
     "output_type": "execute_result"
    }
   ],
   "source": [
    "df.head()"
   ]
  },
  {
   "cell_type": "code",
   "execution_count": null,
   "metadata": {},
   "outputs": [],
   "source": []
  },
  {
   "cell_type": "code",
   "execution_count": null,
   "metadata": {},
   "outputs": [],
   "source": []
  },
  {
   "cell_type": "code",
   "execution_count": null,
   "metadata": {},
   "outputs": [],
   "source": []
  },
  {
   "cell_type": "code",
   "execution_count": null,
   "metadata": {},
   "outputs": [],
   "source": []
  },
  {
   "cell_type": "code",
   "execution_count": null,
   "metadata": {},
   "outputs": [],
   "source": []
  }
 ],
 "metadata": {
  "kernelspec": {
   "display_name": "Python 3",
   "language": "python",
   "name": "python3"
  },
  "language_info": {
   "codemirror_mode": {
    "name": "ipython",
    "version": 3
   },
   "file_extension": ".py",
   "mimetype": "text/x-python",
   "name": "python",
   "nbconvert_exporter": "python",
   "pygments_lexer": "ipython3",
   "version": "3.7.7"
  }
 },
 "nbformat": 4,
 "nbformat_minor": 4
}
