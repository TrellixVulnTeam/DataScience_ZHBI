{
 "cells": [
  {
   "cell_type": "code",
   "execution_count": 30,
   "metadata": {},
   "outputs": [
    {
     "name": "stdout",
     "output_type": "stream",
     "text": [
      "[5 0 3 3 7 9] \n",
      "\n",
      "[4 6 3 5 8 7] \n",
      "\n",
      "[[9 9 2]\n",
      " [7 8 8]\n",
      " [9 2 6]] \n",
      "\n",
      "[[9 8 9 4]\n",
      " [3 0 3 5]\n",
      " [0 2 3 8]] \n",
      "------------------------\n",
      "[[[49 29 19 19 14]\n",
      "  [39 32 65  9 57]\n",
      "  [32 31 74 23 35]]\n",
      "\n",
      " [[75 55 28 34  0]\n",
      "  [ 0 36 53  5 38]\n",
      "  [17 79  4 42 58]]\n",
      "\n",
      " [[31  1 65 41 57]\n",
      "  [35 11 46 82 91]\n",
      "  [ 0 14 99 53 12]]]\n"
     ]
    }
   ],
   "source": [
    "import numpy as np\n",
    "np.random.seed(0)\n",
    "\n",
    "x1=np.random.randint(10,size=6)\n",
    "print(x1,\"\\n\")\n",
    "\n",
    "x2=np.random.randint(1,10,(6))\n",
    "print(x2,\"\\n\")\n",
    "\n",
    "x3=np.random.randint(1,10,(3,3))\n",
    "print(x3,\"\\n\")\n",
    "\n",
    "x4=np.random.randint(10,size=(3,4))\n",
    "print(x4,\"\\n------------------------\")\n",
    "\n",
    "x5=np.random.randint(100,size=(3,3,5))\n",
    "print(x5)"
   ]
  },
  {
   "cell_type": "code",
   "execution_count": 42,
   "metadata": {},
   "outputs": [
    {
     "name": "stdout",
     "output_type": "stream",
     "text": [
      "X1-> 1 (6,) 6 int32\n",
      "X2-> 1 (6,) 6 int32\n",
      "X3-> 2 (3, 3) 9 int32\n",
      "X4-> 2 (3, 4) 12 int32\n",
      "X5-> 3 (3, 3, 5) 45 int32\n"
     ]
    }
   ],
   "source": [
    "print(\"X1->\",x1.ndim,x1.shape,x1.size,x1.dtype)\n",
    "print(\"X2->\",x2.ndim,x2.shape,x2.size,x2.dtype)\n",
    "print(\"X3->\",x3.ndim,x3.shape,x3.size,x3.dtype)\n",
    "print(\"X4->\",x4.ndim,x4.shape,x4.size,x4.dtype)\n",
    "print(\"X5->\",x5.ndim,x5.shape,x5.size,x5.dtype)\n"
   ]
  },
  {
   "cell_type": "code",
   "execution_count": null,
   "metadata": {},
   "outputs": [],
   "source": []
  }
 ],
 "metadata": {
  "kernelspec": {
   "display_name": "Python 3",
   "language": "python",
   "name": "python3"
  },
  "language_info": {
   "codemirror_mode": {
    "name": "ipython",
    "version": 3
   },
   "file_extension": ".py",
   "mimetype": "text/x-python",
   "name": "python",
   "nbconvert_exporter": "python",
   "pygments_lexer": "ipython3",
   "version": "3.7.4"
  }
 },
 "nbformat": 4,
 "nbformat_minor": 2
}
