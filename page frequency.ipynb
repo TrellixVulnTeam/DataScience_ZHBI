{
 "cells": [
  {
   "cell_type": "code",
   "execution_count": null,
   "id": "e86fa952",
   "metadata": {},
   "outputs": [],
   "source": []
  },
  {
   "cell_type": "code",
   "execution_count": 5,
   "id": "db076e5e",
   "metadata": {},
   "outputs": [],
   "source": [
    "import numpy as np"
   ]
  },
  {
   "cell_type": "code",
   "execution_count": 116,
   "id": "b3fe1853",
   "metadata": {},
   "outputs": [],
   "source": [
    "phys_mem = np.array([\n",
    "    [1,2],\n",
    "    [1,3],\n",
    "    [2,0],\n",
    "    [2,4],\n",
    "    [1,5],\n",
    "    [3,4],\n",
    "    [4,6],\n",
    "    [2,6],\n",
    "    [2,2],\n",
    "    [2,1],\n",
    "    \n",
    "])"
   ]
  },
  {
   "cell_type": "code",
   "execution_count": 117,
   "id": "88c33761",
   "metadata": {},
   "outputs": [
    {
     "data": {
      "text/plain": [
       "array([[1, 2],\n",
       "       [1, 3],\n",
       "       [2, 0],\n",
       "       [2, 4],\n",
       "       [1, 5],\n",
       "       [3, 4],\n",
       "       [4, 6],\n",
       "       [2, 6],\n",
       "       [2, 2],\n",
       "       [2, 1]])"
      ]
     },
     "execution_count": 117,
     "metadata": {},
     "output_type": "execute_result"
    }
   ],
   "source": [
    "phys_mem"
   ]
  },
  {
   "cell_type": "code",
   "execution_count": null,
   "id": "022c966b",
   "metadata": {},
   "outputs": [],
   "source": []
  },
  {
   "cell_type": "code",
   "execution_count": 1,
   "id": "78dc4726",
   "metadata": {},
   "outputs": [],
   "source": [
    "freq = {0: {4: 4404, 8: 0, 2: 5263, 1: 2583, 0: 3477, 6: 2555, 3: 1517, 5: 9, 7: 0},\n",
    " 1: {6: 5, 0: 7927, 2: 5, 7: 6561, 1: 9, 3: 3, 4: 2, 5: 10},\n",
    " 2: {5: 0, 1: 7079, 2: 3263, 0: 7886, 3: 0, 4: 3},\n",
    " 3: {4: 0, 0: 5178, 1: 1777, 2: 5, 3: 4},\n",
    " 4: {9: 791,\n",
    "  7: 3607,\n",
    "  5: 8678,\n",
    "  8: 6383,\n",
    "  12: 2698,\n",
    "  2: 19,\n",
    "  11: 2706,\n",
    "  0: 4022,\n",
    "  6: 5,\n",
    "  1: 22,\n",
    "  3: 14,\n",
    "  4: 17,\n",
    "  10: 4}}"
   ]
  },
  {
   "cell_type": "code",
   "execution_count": 149,
   "id": "6ae3a9e0",
   "metadata": {},
   "outputs": [
    {
     "data": {
      "text/plain": [
       "{0: {4: 4404, 8: 0, 2: 5263, 1: 2583, 0: 3477, 6: 2555, 3: 1517, 5: 9, 7: 0},\n",
       " 1: {6: 0, 0: 0, 2: 0, 7: 0, 1: 0, 3: 0, 4: 0, 5: 0},\n",
       " 2: {5: 0, 1: 7079, 2: 3263, 0: 7886, 3: 0, 4: 3},\n",
       " 3: {4: 0, 0: 5178, 1: 1777, 2: 5, 3: 4},\n",
       " 4: {9: 791,\n",
       "  7: 3607,\n",
       "  5: 8678,\n",
       "  8: 6383,\n",
       "  12: 2698,\n",
       "  2: 19,\n",
       "  11: 2706,\n",
       "  0: 4022,\n",
       "  6: 5,\n",
       "  1: 22,\n",
       "  3: 14,\n",
       "  4: 17,\n",
       "  10: 4}}"
      ]
     },
     "execution_count": 149,
     "metadata": {},
     "output_type": "execute_result"
    }
   ],
   "source": [
    "freq"
   ]
  },
  {
   "cell_type": "code",
   "execution_count": 152,
   "id": "c8cde02f",
   "metadata": {},
   "outputs": [
    {
     "data": {
      "text/plain": [
       "{0: {1: 0, 2: 0, 3: 0}, 1: {1: 0, 2: 0, 3: 0}, 2: {1: 0, 2: 0, 3: 0}}"
      ]
     },
     "execution_count": 152,
     "metadata": {},
     "output_type": "execute_result"
    }
   ],
   "source": [
    "freq = {0:{1:0,2:0,3:0},1:{1:0,2:0,3:0},2:{1:0,2:0,3:0}}\n",
    "freq"
   ]
  },
  {
   "cell_type": "code",
   "execution_count": 159,
   "id": "24380baf",
   "metadata": {},
   "outputs": [
    {
     "name": "stdout",
     "output_type": "stream",
     "text": [
      "2\n"
     ]
    }
   ],
   "source": [
    "NUM = 999999999999\n",
    "def replace(pid,pg_num):\n",
    "#     try:\n",
    "        if pid in phys_mem[:,0]:\n",
    "            min_val = NUM\n",
    "            pg = None\n",
    "            p_mem = phys_mem[phys_mem[:,0]==pid]\n",
    "            for process in p_mem:\n",
    "                if process[1] in freq[pid]:\n",
    "                    if freq[pid][process[1]]<min_val and freq[pid][process[1]] != 0:\n",
    "                        min_val = freq[pid][process[1]]\n",
    "                        pg = process[1]\n",
    "            if min_val != NUM:\n",
    "                frame_loc = np.where((phys_mem[:,0]==pid) & (phys_mem[:,1]==pg))[0]\n",
    "\n",
    "            if min_val == NUM:\n",
    "                frame_loc = np.random.choice(np.where((phys_mem[:,0]==pid))[0])\n",
    "            print(frame_loc)\n",
    "        if pid not in phys_mem[:,0]:\n",
    "            min_val = NUM\n",
    "            min_pg = None\n",
    "            min_pid = None\n",
    "            frame_loc = 0\n",
    "            for i,process in enumerate(phys_mem):\n",
    "                if process[0] in freq:\n",
    "                    freq_lst = freq[process[0]]\n",
    "                    for pgn,cnt in freq_lst.items():\n",
    "                        if pgn in phys_mem[:,1]:\n",
    "                            if freq[process[0]][pgn] !=0 and freq[process[0]][pgn] < min_val:\n",
    "                                min_val = freq[process[0]][pgn]\n",
    "                                min_pg = pgn\n",
    "                                min_pid = process[0]\n",
    "            \n",
    "            if min_val!=NUM:\n",
    "                frame_loc = np.where((phys_mem[:,0]==min_pid) & (phys_mem[:,1]==min_pg))[0]\n",
    "                print(frame_loc)\n",
    "                print(min_pg)\n",
    "            if min_val ==NUM:\n",
    "                frame_loc = np.random.randint(9)\n",
    "                print(frame_loc)\n",
    "                    \n",
    "                \n",
    "#     except:\n",
    "#         pass\n",
    "\n",
    "    \n",
    "replace(9,9)"
   ]
  },
  {
   "cell_type": "code",
   "execution_count": 132,
   "id": "8ca2ff1d",
   "metadata": {},
   "outputs": [
    {
     "data": {
      "text/plain": [
       "array([[1, 2],\n",
       "       [1, 3],\n",
       "       [2, 0],\n",
       "       [2, 4],\n",
       "       [1, 5],\n",
       "       [3, 4],\n",
       "       [4, 6],\n",
       "       [2, 6],\n",
       "       [2, 2],\n",
       "       [2, 1]])"
      ]
     },
     "execution_count": 132,
     "metadata": {},
     "output_type": "execute_result"
    }
   ],
   "source": [
    "phys_mem"
   ]
  },
  {
   "cell_type": "code",
   "execution_count": 53,
   "id": "ff407bb8",
   "metadata": {},
   "outputs": [
    {
     "data": {
      "text/plain": [
       "0"
      ]
     },
     "execution_count": 53,
     "metadata": {},
     "output_type": "execute_result"
    }
   ],
   "source": [
    "np.random.choice(np.where((phys_mem[:,0]==1))[0])"
   ]
  },
  {
   "cell_type": "code",
   "execution_count": 33,
   "id": "180a422c",
   "metadata": {},
   "outputs": [
    {
     "data": {
      "text/plain": [
       "999999999"
      ]
     },
     "execution_count": 33,
     "metadata": {},
     "output_type": "execute_result"
    }
   ],
   "source": [
    "min_val = 999999999\n",
    "for process in phys_mem[phys_mem[:,0]==1]:\n",
    "    if freq[1][process[1]]<min_val and freq[1][process[1]]!=0:\n",
    "        min_val = freq[1][process[1]]\n",
    "min_val"
   ]
  },
  {
   "cell_type": "code",
   "execution_count": 19,
   "id": "558ee82c",
   "metadata": {},
   "outputs": [
    {
     "name": "stdout",
     "output_type": "stream",
     "text": [
      "0\n",
      "0\n",
      "0\n",
      "0\n",
      "0\n",
      "0\n",
      "0\n",
      "0\n"
     ]
    }
   ],
   "source": [
    "for i,j in freq[1].items():\n",
    "    print()"
   ]
  },
  {
   "cell_type": "code",
   "execution_count": null,
   "id": "74d8e5c7",
   "metadata": {},
   "outputs": [],
   "source": []
  }
 ],
 "metadata": {
  "kernelspec": {
   "display_name": "Python 3",
   "language": "python",
   "name": "python3"
  },
  "language_info": {
   "codemirror_mode": {
    "name": "ipython",
    "version": 3
   },
   "file_extension": ".py",
   "mimetype": "text/x-python",
   "name": "python",
   "nbconvert_exporter": "python",
   "pygments_lexer": "ipython3",
   "version": "3.9.5"
  }
 },
 "nbformat": 4,
 "nbformat_minor": 5
}
