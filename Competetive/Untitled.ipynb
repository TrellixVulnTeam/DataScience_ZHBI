{
 "cells": [
  {
   "cell_type": "markdown",
   "id": "6c3f0469",
   "metadata": {},
   "source": [
    "Q1). Write a program to reverse an integer in Python"
   ]
  },
  {
   "cell_type": "code",
   "execution_count": 56,
   "id": "376e138d",
   "metadata": {},
   "outputs": [
    {
     "name": "stdout",
     "output_type": "stream",
     "text": [
      "102013\n"
     ]
    },
    {
     "data": {
      "text/plain": [
       "310201"
      ]
     },
     "execution_count": 56,
     "metadata": {},
     "output_type": "execute_result"
    }
   ],
   "source": [
    "def reverse(integer):\n",
    "    n = integer\n",
    "    print(n)\n",
    "    reverse = 0\n",
    "    while n >0:\n",
    "        rem = n % 10\n",
    "        reverse = reverse*10+rem\n",
    "        n = n //10\n",
    "    return reverse\n",
    "    \n",
    "    \n",
    "    \n",
    "reverse(102013)"
   ]
  },
  {
   "cell_type": "markdown",
   "id": "b042e96c",
   "metadata": {},
   "source": [
    "Q2). Write a program in Python to check whether an integer is Armstrong number or not."
   ]
  },
  {
   "cell_type": "code",
   "execution_count": null,
   "id": "ef43eb18",
   "metadata": {},
   "outputs": [],
   "source": []
  },
  {
   "cell_type": "code",
   "execution_count": null,
   "id": "e1db7f29",
   "metadata": {},
   "outputs": [],
   "source": []
  },
  {
   "cell_type": "code",
   "execution_count": null,
   "id": "d853b5e2",
   "metadata": {},
   "outputs": [],
   "source": []
  }
 ],
 "metadata": {
  "kernelspec": {
   "display_name": "Python 3 (ipykernel)",
   "language": "python",
   "name": "python3"
  },
  "language_info": {
   "codemirror_mode": {
    "name": "ipython",
    "version": 3
   },
   "file_extension": ".py",
   "mimetype": "text/x-python",
   "name": "python",
   "nbconvert_exporter": "python",
   "pygments_lexer": "ipython3",
   "version": "3.9.14"
  }
 },
 "nbformat": 4,
 "nbformat_minor": 5
}
