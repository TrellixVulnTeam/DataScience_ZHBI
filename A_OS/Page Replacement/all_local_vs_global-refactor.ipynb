{
 "cells": [
  {
   "cell_type": "code",
   "execution_count": 622,
   "id": "8ccf4716",
   "metadata": {},
   "outputs": [],
   "source": [
    "import numpy as np\n",
    "import math\n",
    "import os\n",
    "import random\n",
    "from matplotlib import pyplot as pl\n",
    "import queue\n",
    "import collections\n",
    "import seaborn as sns"
   ]
  },
  {
   "cell_type": "code",
   "execution_count": 623,
   "id": "bf9de83a",
   "metadata": {},
   "outputs": [],
   "source": [
    "import pandas as pd"
   ]
  },
  {
   "cell_type": "code",
   "execution_count": 624,
   "id": "42bea50e",
   "metadata": {},
   "outputs": [],
   "source": [
    "PAGE_SIZE = 4096                   # Page Size in Bytes\n",
    "NP = 5                              # No. of processes in memory\n",
    "F = 16                               # No. of Frames in physical memory\n",
    "INVALID = -10\n",
    "PID = 0                             # Used for Indexing into Frames\n",
    "FRAME = 1                           # Used for Indexing into Frames\n",
    "COMPLETED = 10                      # Process Status Flags\n",
    "INCOMPLETE = 20                     #\n",
    "# The following are page replacement algorithm types\n",
    "FIFO_GLOBAL = 10\n",
    "oldest_frame = 0\n",
    "recent_frame=0\n",
    "IN_MEMORY = 1\n",
    "MEM_FAULT = 50\n",
    "PAGE_REPLACE = 100"
   ]
  },
  {
   "cell_type": "code",
   "execution_count": 625,
   "id": "10c68e43",
   "metadata": {},
   "outputs": [],
   "source": [
    "loc_oldest_frame = np.zeros(F).astype('int32')\n",
    "algos=[\"lrul\",\"lrug\",\"fifol\",\"fifog\",\"mrul\",\"mrug\",\"lful\",\"lfug\",\"rrl\",\"rrg\"]\n",
    "\n",
    "page_frequency = {}\n",
    "page_frequencyg = {}\n",
    "fifo_old_frames = {}\n",
    "mru_recent_frames = {}\n",
    "\n",
    "\n",
    "fifo_l=[]\n",
    "fifo_g=[]\n",
    "\n",
    "lru_l=[]\n",
    "lru_g=[]\n",
    "\n",
    "mru_l=[]\n",
    "mru_g=[]\n",
    "\n",
    "rr_l=[]\n",
    "rr_g=[]\n",
    "\n",
    "lfu_l=[]\n",
    "lfu_g=[]"
   ]
  },
  {
   "cell_type": "code",
   "execution_count": 626,
   "id": "4905f067",
   "metadata": {},
   "outputs": [],
   "source": [
    "phys_mem_fifo_l = np.full((F, 2), INVALID).astype('int32')\n",
    "phys_mem_fifo_g = np.full((F, 2), INVALID).astype('int32')\n",
    "\n",
    "phys_mem_lru_l = np.full((F, 2), INVALID).astype('int32')\n",
    "phys_mem_lru_g = np.full((F, 2), INVALID).astype('int32')\n",
    "\n",
    "phys_mem_rr_l = np.full((F, 2), INVALID).astype('int32')\n",
    "phys_mem_rr_g = np.full((F, 2), INVALID).astype('int32')\n",
    "\n",
    "phys_mem_lfu_l = np.full((F, 2), INVALID).astype('int32')\n",
    "phys_mem_lfu_g = np.full((F, 2), INVALID).astype('int32')\n",
    "\n",
    "phys_mem_mru_l = np.full((F, 2), INVALID).astype('int32')\n",
    "phys_mem_mru_g = np.full((F, 2), INVALID).astype('int32')\n",
    "\n",
    "pr_timing_fifol = np.zeros(F).astype('int32')\n",
    "pr_timing_fifog = np.zeros(F).astype('int32')\n",
    "pr_timing_lrul = np.zeros(F).astype('int32')\n",
    "pr_timing_lrug = np.zeros(F).astype('int32')\n",
    "pr_timing_rrl = np.zeros(F).astype('int32')\n",
    "pr_timing_rrg = np.zeros(F).astype('int32')\n",
    "pr_timing_lful = np.zeros(F).astype('int32')\n",
    "pr_timing_lfug = np.zeros(F).astype('int32')\n",
    "pr_timing_mrul = np.zeros(F).astype('int32')\n",
    "pr_timing_mrug = np.zeros(F).astype('int32')"
   ]
  },
  {
   "cell_type": "code",
   "execution_count": 627,
   "id": "9458bc70",
   "metadata": {},
   "outputs": [],
   "source": [
    "def init_proc_queue():\n",
    "    pq = queue.Queue(maxsize=NP)\n",
    "    proc_queue = list(set((NP * np.random.random(20)).astype('int32')))\n",
    "    random.shuffle(proc_queue)\n",
    "    print(proc_queue)\n",
    "    for pr in proc_queue:\n",
    "        fifo_old_frames[pr]=0\n",
    "        mru_recent_frames[pr]=0\n",
    "        pq.put_nowait(pr)\n",
    "    return(pq)\n",
    "\n",
    "def readq(q):\n",
    "    while True:\n",
    "        try:\n",
    "            yield q.get_nowait()\n",
    "        except queue.Empty:\n",
    "            break"
   ]
  },
  {
   "cell_type": "code",
   "execution_count": 628,
   "id": "3a084b2d",
   "metadata": {},
   "outputs": [],
   "source": [
    "def init_phys_mem():\n",
    "    for i in range(F):\n",
    "        phys_mem_fifo_l[i, PID] = INVALID\n",
    "        phys_mem_fifo_l[i, FRAME] = INVALID\n",
    "\n",
    "        phys_mem_fifo_g[i, PID] = INVALID\n",
    "        phys_mem_fifo_g[i, FRAME] = INVALID\n",
    "\n",
    "        phys_mem_lru_g[i, PID] = INVALID\n",
    "        phys_mem_lru_g[i, FRAME] = INVALID\n",
    "\n",
    "        phys_mem_lru_l[i, PID] = INVALID\n",
    "        phys_mem_lru_l[i, FRAME] = INVALID\n",
    "        \n",
    "        phys_mem_rr_l[i, PID] = INVALID\n",
    "        phys_mem_rr_l[i, FRAME] = INVALID\n",
    "\n",
    "        phys_mem_rr_g[i, PID] = INVALID\n",
    "        phys_mem_rr_g[i, FRAME] = INVALID\n",
    "\n",
    "        phys_mem_lfu_g[i, PID] = INVALID\n",
    "        phys_mem_lfu_g[i, FRAME] = INVALID\n",
    "\n",
    "        phys_mem_lfu_l[i, PID] = INVALID\n",
    "        phys_mem_lfu_l[i, FRAME] = INVALID\n",
    "\n",
    "        phys_mem_mru_l[i, PID] = INVALID\n",
    "        phys_mem_mru_l[i, FRAME] = INVALID\n",
    "\n",
    "        phys_mem_mru_g[i, PID] = INVALID\n",
    "        phys_mem_mru_g[i, FRAME] = INVALID\n",
    "\n",
    "\n",
    "\n",
    "def update_phys_mem(pid):\n",
    "    for i in range(F):\n",
    "        \n",
    "        #         Updating physical memory of FIFO Local\n",
    "        \n",
    "        if phys_mem_fifo_l[i, PID] == pid:\n",
    "            phys_mem_fifo_l[i, PID] = INVALID\n",
    "            phys_mem_fifo_l[i, FRAME] = INVALID\n",
    "            \n",
    "        #         Updating physical memory of FIFO Global\n",
    "        \n",
    "        if phys_mem_fifo_g[i, PID] == pid:\n",
    "            phys_mem_fifo_g[i, PID] = INVALID\n",
    "            phys_mem_fifo_g[i, FRAME] = INVALID\n",
    "            \n",
    "        #         Updating physical memory of LRU Global\n",
    "        \n",
    "        if phys_mem_lru_g[i, PID] == pid:\n",
    "            phys_mem_lru_g[i, PID] = INVALID\n",
    "            phys_mem_lru_g[i, FRAME] = INVALID\n",
    "            \n",
    "        #         Updating physical memory of LRU Local\n",
    "        \n",
    "        if phys_mem_lru_l[i, PID] == pid:\n",
    "            phys_mem_lru_l[i, PID] = INVALID\n",
    "            phys_mem_lru_l[i, FRAME] = INVALID\n",
    "    \n",
    "    \n",
    "    \n",
    "        if phys_mem_rr_l[i,PID] == pid:\n",
    "            phys_mem_rr_l[i, PID] = INVALID\n",
    "            phys_mem_rr_l[i, FRAME] = INVALID\n",
    "        \n",
    "        \n",
    "        if phys_mem_rr_g[i,PID] == pid:\n",
    "            phys_mem_rr_g[i, PID] = INVALID\n",
    "            phys_mem_rr_g[i, FRAME] = INVALID\n",
    "        \n",
    "        \n",
    "        if phys_mem_lfu_g[i,PID] == pid:\n",
    "            phys_mem_lfu_g[i, PID] = INVALID\n",
    "            phys_mem_lfu_g[i, FRAME] = INVALID\n",
    "\n",
    "        \n",
    "        if phys_mem_lfu_l[i,PID] == pid:\n",
    "            phys_mem_lfu_l[i, PID] = INVALID\n",
    "            phys_mem_lfu_l[i, FRAME] = INVALID\n",
    "\n",
    "            \n",
    "        if phys_mem_mru_l[i,PID] == pid:\n",
    "            phys_mem_mru_l[i, PID] = INVALID\n",
    "            phys_mem_mru_l[i, FRAME] = INVALID\n",
    "\n",
    "                \n",
    "        if phys_mem_mru_g[i,PID] == pid:\n",
    "            phys_mem_mru_g[i, PID] = INVALID\n",
    "            phys_mem_mru_g[i, FRAME] = INVALID"
   ]
  },
  {
   "cell_type": "code",
   "execution_count": 629,
   "id": "e8d8c190",
   "metadata": {},
   "outputs": [],
   "source": [
    "def correct_refs(alist, cent, maxpg):\n",
    "    if cent != 0:\n",
    "        pgnum = int(cent / PAGE_SIZE)\n",
    "        lh = (pgnum + 1) * PAGE_SIZE - 1\n",
    "        ll = pgnum * PAGE_SIZE\n",
    "    else:\n",
    "        lh = maxpg * PAGE_SIZE\n",
    "        ll = 0\n",
    "    for i in range(alist.shape[0]):\n",
    "        if alist[i] >= lh:\n",
    "            alist[i] = lh - 1\n",
    "        if alist[i] < ll:\n",
    "            alist[i] = ll + 1\n",
    "    return alist\n",
    "\n",
    "def sim_process(M, sigma, outfile,pid, lfrac):\n",
    "    cur_page = int(M * np.random.random())  # Generate a random start page\n",
    "    cur_locale = round(PAGE_SIZE * (cur_page + 0.5))  # Locality of reference\n",
    "    sum_refs = 0\n",
    "    list_locales = list()\n",
    "    frequencies={}\n",
    "    for count in range(M):\n",
    "        \n",
    "        frequencies[cur_page]=0\n",
    "\n",
    "        # random page address in memory.\n",
    "        num_refs = int(512 + (PAGE_SIZE - 512) * np.random.random())\n",
    "        sum_refs += num_refs\n",
    "        list_locales.append(cur_page)\n",
    "        num_loc = round(lfrac * num_refs)\n",
    "        aref_list = np.random.normal(cur_locale, sigma * 300 + 100,\n",
    "                                     num_loc)  # If siagma is less, it stays less within that locality of reference\n",
    "        # if sigma more, it may vary more\n",
    "        aref_list = correct_refs(aref_list, cur_locale, M)\n",
    "        aref_list = aref_list.astype('int32')\n",
    "        cur_page = int(M * np.random.random())\n",
    "        cur_locale = round(PAGE_SIZE * (cur_page + 0.5))\n",
    "        num_trans = round((1 - lfrac) * num_refs)\n",
    "        tref_list = np.random.random(num_trans) * cur_locale\n",
    "        tref_list = correct_refs(tref_list, 0, M)\n",
    "        tref_list = tref_list.astype('int32')\n",
    "        np.append(aref_list, tref_list).tofile(outfile, sep='\\n')\n",
    "        outfile.write('\\n')\n",
    "    page_frequency[pid]=frequencies\n",
    "    return list_locales, sum_refs"
   ]
  },
  {
   "cell_type": "code",
   "execution_count": 630,
   "id": "5aae95aa",
   "metadata": {},
   "outputs": [],
   "source": [
    "def get_oldest_frameL(pr):\n",
    "    global oldest_frame\n",
    "    rv = oldest_frame\n",
    "    oldest_frame += 1\n",
    "    if oldest_frame == F:\n",
    "        oldest_frame = 0\n",
    "    return rv\n",
    "\n",
    "def get_oldest_frameG(pr):\n",
    "    global fifo_old_frames\n",
    "    rv = fifo_old_frames[pr]\n",
    "    fifo_old_frames[pr] += 1\n",
    "    if fifo_old_frames[pr] == F:\n",
    "        fifo_old_frames[pr] = 0\n",
    "    return rv\n",
    "\n",
    "\n",
    "def getFifoFrameL( pnum, pr):\n",
    "    fr_num=0\n",
    "    while fr_num < F:\n",
    "        if phys_mem_fifo_l[fr_num, PID] == pr and phys_mem_fifo_l[fr_num, FRAME] == pnum:\n",
    "            break\n",
    "        else:\n",
    "            fr_num += 1\n",
    "    return fr_num\n",
    "\n",
    "def getFifoFrameG( pnum, pr):\n",
    "    fr_num=0\n",
    "    while fr_num < F:\n",
    "        if phys_mem_fifo_g[fr_num, PID] == pr and phys_mem_fifo_g[fr_num, FRAME] == pnum:\n",
    "            break\n",
    "        else:\n",
    "            fr_num += 1\n",
    "    return fr_num\n",
    "\n",
    "\n",
    "def getLruFrameL(pnum, pr):\n",
    "    fr_num=0\n",
    "    global phys_mem_lru_l\n",
    "    while fr_num < F:\n",
    "        if phys_mem_lru_l[fr_num, PID] == pr and phys_mem_lru_l[fr_num, FRAME] == pnum:\n",
    "            temp = np.array([pr, pnum])\n",
    "            phys_mem_lru_l = np.delete(phys_mem_lru_l, fr_num, axis=0)\n",
    "            phys_mem_lru_l = np.concatenate([phys_mem_lru_l, temp.reshape(1, -1)], axis=0)\n",
    "            break\n",
    "        else:\n",
    "            fr_num += 1\n",
    "    return fr_num\n",
    "\n",
    "def getLruFrameG( pnum, pr):\n",
    "    fr_num=0\n",
    "    global phys_mem_lru_g\n",
    "    while fr_num < F:\n",
    "        if phys_mem_lru_g[fr_num, PID] == pr and phys_mem_lru_g[fr_num, FRAME] == pnum:\n",
    "            temp = np.array([pr, pnum])\n",
    "            phys_mem_lru_g = np.delete(phys_mem_lru_g, fr_num, axis=0)\n",
    "            phys_mem_lru_g = np.concatenate([phys_mem_lru_g, temp.reshape(1, -1)], axis=0)\n",
    "            break\n",
    "        else:\n",
    "            fr_num += 1\n",
    "    return fr_num\n",
    "\n",
    "def getMRUFrameL(pnum, pr):\n",
    "    fr_num = 0\n",
    "    while fr_num < F:\n",
    "        if phys_mem_mru_l[fr_num, PID] == pr and phys_mem_mru_l[fr_num, FRAME] == pnum:\n",
    "            mru_recent_frames[pr]=fr_num\n",
    "            break\n",
    "        else:\n",
    "            fr_num += 1\n",
    "    return fr_num\n",
    "\n",
    "\n",
    "def getRRFrameL(pnum, pr):\n",
    "    fr_num = 0\n",
    "    while fr_num < F:\n",
    "        if phys_mem_rr_l[fr_num, PID] == pr and phys_mem_rr_l[fr_num, FRAME] == pnum:\n",
    "            break\n",
    "        else:\n",
    "            fr_num += 1\n",
    "    return fr_num\n",
    "\n",
    "\n",
    "def getLFUFrameL(pnum, pr):\n",
    "    global page_frequency\n",
    "    fr_num = 0\n",
    "    while fr_num < F:\n",
    "        if phys_mem_lfu_l[fr_num, PID] == pr and phys_mem_lfu_l[fr_num, FRAME] == pnum:\n",
    "            if pnum not in page_frequency[pr]:\n",
    "                page_frequency[pr][pnum]=1\n",
    "            else:\n",
    "                page_frequency[pr][pnum]+=1\n",
    "            break\n",
    "        else:\n",
    "            fr_num += 1\n",
    "    return fr_num\n",
    "\n",
    "def getMRUFrameG( pnum, pr):\n",
    "    fr_num = 0\n",
    "    while fr_num < F:\n",
    "        if phys_mem_mru_g[fr_num, PID] == pr and phys_mem_mru_g[fr_num, FRAME] == pnum:\n",
    "            break\n",
    "        else:\n",
    "            fr_num += 1\n",
    "    recent_frame=fr_num\n",
    "    return fr_num\n",
    "\n",
    "\n",
    "def getRRFrameG( pnum, pr):\n",
    "    fr_num = 0\n",
    "    while fr_num < F:\n",
    "        if phys_mem_rr_g[fr_num, PID] == pr and phys_mem_rr_g[fr_num, FRAME] == pnum:\n",
    "            break\n",
    "        else:\n",
    "            fr_num += 1\n",
    "    return fr_num\n",
    "\n",
    "\n",
    "def getLFUFrameG( pnum, pr):\n",
    "    fr_num = 0\n",
    "    while fr_num < F:\n",
    "        if phys_mem_lfu_g[fr_num, PID] == pr and phys_mem_lfu_g[fr_num, FRAME] == pnum:\n",
    "            if pnum not in page_frequencyg:\n",
    "                page_frequencyg[pnum]=1\n",
    "            else:\n",
    "                page_frequencyg[pnum]+=1\n",
    "            break\n",
    "        else:\n",
    "            fr_num += 1\n",
    "    return fr_num"
   ]
  },
  {
   "cell_type": "code",
   "execution_count": 631,
   "id": "c09c5c84",
   "metadata": {},
   "outputs": [],
   "source": [
    "def gen_pagefault(pgnum, pr,algo=None):\n",
    "\n",
    "    fr_num = 0\n",
    "    \n",
    "    if algo==\"lrul\":\n",
    "        while fr_num < F and phys_mem_lru_l[fr_num, FRAME] >= 0:\n",
    "            fr_num += 1\n",
    "        if fr_num >= F:\n",
    "            return INVALID\n",
    "        phys_mem_lru_l[fr_num, FRAME] = pgnum\n",
    "        phys_mem_lru_l[fr_num, PID] = pr\n",
    "        return fr_num\n",
    "    \n",
    "    elif algo==\"lrug\":\n",
    "        while fr_num < F and phys_mem_lru_g[fr_num, FRAME] >= 0:\n",
    "            fr_num += 1\n",
    "        if fr_num >= F:\n",
    "            return INVALID\n",
    "        phys_mem_lru_g[fr_num, FRAME] = pgnum\n",
    "        phys_mem_lru_g[fr_num, PID] = pr\n",
    "        return fr_num\n",
    "            \n",
    "    elif algo==\"fifol\":\n",
    "        while fr_num < F and phys_mem_fifo_l[fr_num, FRAME] >= 0:\n",
    "            fr_num += 1\n",
    "        if fr_num >= F:\n",
    "            return INVALID\n",
    "        phys_mem_fifo_l[fr_num, FRAME] = pgnum\n",
    "        phys_mem_fifo_l[fr_num, PID] = pr\n",
    "        return fr_num\n",
    "        \n",
    "    elif algo == \"fifog\":\n",
    "        while fr_num < F and phys_mem_fifo_g[fr_num, FRAME] >= 0:\n",
    "            fr_num += 1\n",
    "        if fr_num >= F:\n",
    "            return INVALID\n",
    "        phys_mem_fifo_g[fr_num, FRAME] = pgnum\n",
    "        phys_mem_fifo_g[fr_num, PID] = pr\n",
    "        return fr_num\n",
    "        \n",
    "    elif algo == \"lful\":\n",
    "        while fr_num < F and phys_mem_lfu_l[fr_num, FRAME] >= 0:\n",
    "            fr_num += 1\n",
    "        if fr_num >= F:\n",
    "            return INVALID\n",
    "        phys_mem_lfu_l[fr_num, FRAME] = pgnum\n",
    "        phys_mem_lfu_l[fr_num, PID] = pr\n",
    "        if pgnum not in page_frequency[pr]:\n",
    "            page_frequency[pr][pgnum]=1\n",
    "        else:\n",
    "            page_frequency[pr][pgnum]+=1\n",
    "        return fr_num\n",
    "    \n",
    "    elif algo == \"rrl\":\n",
    "        while fr_num < F and phys_mem_rr_l[fr_num, FRAME] >= 0:\n",
    "            fr_num += 1\n",
    "        if fr_num >= F:\n",
    "            return INVALID\n",
    "        phys_mem_rr_l[fr_num, FRAME] = pgnum\n",
    "        phys_mem_rr_l[fr_num, PID] = pr\n",
    "        return fr_num\n",
    "\n",
    "    elif algo == \"mrul\":\n",
    "        while fr_num < F and phys_mem_mru_l[fr_num, FRAME] >= 0:\n",
    "            fr_num += 1\n",
    "        if fr_num >= F:\n",
    "            return INVALID\n",
    "        phys_mem_mru_l[fr_num, FRAME] = pgnum\n",
    "        phys_mem_mru_l[fr_num, PID] = pr\n",
    "        mru_recent_frames[pr] = fr_num\n",
    "        return fr_num\n",
    "    elif algo == \"lfug\":\n",
    "        while fr_num < F and phys_mem_lfu_g[fr_num, FRAME] >= 0:\n",
    "            fr_num += 1\n",
    "        if fr_num >= F:\n",
    "            return INVALID\n",
    "        phys_mem_lfu_g[fr_num, FRAME] = pgnum\n",
    "        phys_mem_lfu_g[fr_num, PID] = pr\n",
    "        if pgnum not in page_frequencyg:\n",
    "            page_frequencyg[pgnum]=1\n",
    "        else:\n",
    "            page_frequencyg[pgnum]+=1\n",
    "        return fr_num\n",
    "    \n",
    "    elif algo == \"rrg\":\n",
    "        while fr_num < F and phys_mem_rr_g[fr_num, FRAME] >= 0:\n",
    "            fr_num += 1\n",
    "        if fr_num >= F:\n",
    "            return INVALID\n",
    "        phys_mem_rr_g[fr_num, FRAME] = pgnum\n",
    "        phys_mem_rr_g[fr_num, PID] = pr\n",
    "        return fr_num\n",
    "\n",
    "    elif algo == \"mrug\":\n",
    "        while fr_num < F and phys_mem_mru_g[fr_num, FRAME] >= 0:\n",
    "            fr_num += 1\n",
    "        if fr_num >= F:\n",
    "            return INVALID\n",
    "        phys_mem_mru_g[fr_num, FRAME] = pgnum\n",
    "        phys_mem_mru_g[fr_num, PID] = pr\n",
    "        recent_frame=fr_num\n",
    "        return fr_num"
   ]
  },
  {
   "cell_type": "code",
   "execution_count": 632,
   "id": "9cf04c5c",
   "metadata": {},
   "outputs": [],
   "source": [
    "def page_replaceLRUL(pgnum, pr):\n",
    "    global phys_mem_lru_l\n",
    "    temp = np.array([pr, pgnum])\n",
    "    try:\n",
    "        least_used=np.where(phys_mem_lru_l[:,0]==pr)[0][0]\n",
    "    except IndexError:\n",
    "        least_used = 0\n",
    "    phys_mem_lru_l[least_used]=temp\n",
    "    return least_used\n",
    "\n",
    "\n",
    "def page_replaceFIFOL(pgnum, pr):\n",
    "    cur_frame = get_oldest_frameL(pr)\n",
    "    phys_mem_fifo_l[cur_frame, PID] = pr\n",
    "    phys_mem_fifo_l[cur_frame, FRAME] = pgnum\n",
    "    return cur_frame\n",
    "\n",
    "def page_replaceLRUG(pgnum, pr):\n",
    "    global phys_mem_lru_g\n",
    "    temp = np.array([pr, pgnum])\n",
    "    least_used = 0\n",
    "    phys_mem_lru_g[least_used]=temp\n",
    "    return least_used\n",
    "\n",
    "\n",
    "def page_replaceFIFOG(pgnum, pr):\n",
    "    cur_frame = get_oldest_frameG(pr)\n",
    "    phys_mem_fifo_g[cur_frame, PID] = pr\n",
    "    phys_mem_fifo_g[cur_frame, FRAME] = pgnum\n",
    "    return cur_frame\n",
    "\n",
    "def page_replaceMRUL(pgnum,pr):\n",
    "    global phys_mem_mru_l\n",
    "    temp = np.array([pr, pgnum])\n",
    "    phys_mem_mru_l = np.delete(phys_mem_mru_l, mru_recent_frames[pr], axis=0)\n",
    "    phys_mem_mru_l=np.insert(phys_mem_mru_l,mru_recent_frames[pr],temp,axis=0)\n",
    "    return mru_recent_frames[pr]\n",
    "\n",
    "\n",
    "def page_replaceRRL(pgnum, pr):\n",
    "    global phys_mem_rr_l\n",
    "    try:\n",
    "        f_num=np.random.choice(np.where(phys_mem[:,0]==pr)[0])\n",
    "    except:\n",
    "        f_num=np.random.randint(F)\n",
    "    temp = np.array([pr, pgnum])\n",
    "    phys_mem_rr_l = np.delete(phys_mem_rr_l, f_num, axis=0)\n",
    "    phys_mem_rr_l=np.insert(phys_mem_rr_l,f_num,temp,axis=0)\n",
    "    return f_num\n",
    "\n",
    "def check_min_freq(page,page_frequency):\n",
    "    min_freq=min(page_frequency,key=page_frequency.get)\n",
    "    if min_freq==page:\n",
    "        return True\n",
    "    else:\n",
    "        return False\n",
    "        \n",
    "def page_replaceLFUL(pgnum,pr):\n",
    "    global phys_mem_lfu_l\n",
    "    global page_frequency\n",
    "    currentpage=None\n",
    "    try:\n",
    "        process_location=np.where(phys_mem_lfu_l[:,PID]==pr)\n",
    "        pages=set(phys_mem_lfu_l[process_location][:,FRAME])\n",
    "        current_frequencies={key: page_frequency[pr][key] for key in pages}\n",
    "        for pg in pages:\n",
    "            min_freq=check_min_freq(pg,current_frequencies)\n",
    "            if min_freq:\n",
    "                currentpage=pg\n",
    "        frame_loc=np.where(phys_mem_lfu_l[process_location][:,FRAME]==currentpage)[0][0]\n",
    "        temp = np.array([pr,pgnum])\n",
    "        phys_mem_lfu_l = np.delete(phys_mem_lfu_l, frame_loc, axis=0)\n",
    "        phys_mem_lfu_l=np.insert(phys_mem_lfu_l,frame_loc,temp,axis=0)\n",
    "        page_frequency[pr][currentpage]=0\n",
    "    except:\n",
    "        dicts={}\n",
    "        min_el=None\n",
    "        for j,i in enumerate(phys_mem_lfu_l):\n",
    "            temp=[]\n",
    "            pid=i[PID]\n",
    "            page=i[FRAME]\n",
    "            if page in page_frequency[pid]:\n",
    "                if pid not in dicts:\n",
    "                    if page_frequency[pid][page]==0:\n",
    "                        pass\n",
    "                    else:\n",
    "                        dicts[pid]={page:page_frequency[pid][page],'f_index':j}\n",
    "                        if len(dicts)==1:\n",
    "                            min_el=dicts.copy()\n",
    "                        elif len(dicts)>1:\n",
    "                            if page_frequency[pid][page]< list(list(min_el.values())[0].values())[0]:\n",
    "                                min_el={pid:{page:page_frequency[pid][page],'f_index':j}}\n",
    "                else:\n",
    "                    if page_frequency[pid][page]<=list(dicts[pid].values())[0] and page_frequency[pid][page]!=0:\n",
    "                        dicts[pid]={page:page_frequency[pid][page],'f_index':j}\n",
    "                        if len(dicts)==1:\n",
    "                            min_el=dicts.copy()\n",
    "                        elif len(dicts)>1:\n",
    "                            if page_frequency[pid][page]< list(list(min_el.values())[0].values())[0]:\n",
    "                                min_el={pid:{page:page_frequency[pid][page],'f_index':j}}\n",
    "        frame_loc=list(min_el.values())[0]['f_index']\n",
    "        temp = np.array([pr,pgnum])\n",
    "        phys_mem_lfu_l = np.delete(phys_mem_lfu_l, frame_loc, axis=0)\n",
    "        phys_mem_lfu_l=np.insert(phys_mem_lfu_l,frame_loc,temp,axis=0)\n",
    "        pr=list(min_el.keys())[0]\n",
    "        pgnum=list(list(min_el.values())[0].keys())[0]\n",
    "        page_frequency[pr][pgnum]=0\n",
    "    return frame_loc\n",
    "\n",
    "def page_replaceMRUG(pgnum,pr):\n",
    "    global phys_mem_mru_g\n",
    "    temp = np.array([pr, pgnum])\n",
    "    phys_mem_mru_g = np.delete(phys_mem_mru_g, recent_frame, axis=0)\n",
    "    phys_mem_mru_g=np.insert(phys_mem_mru_g,recent_frame,temp,axis=0)\n",
    "    return recent_frame\n",
    "\n",
    "\n",
    "def page_replaceRRG(pgnum, pr):\n",
    "    global phys_mem_rr_g\n",
    "    f_num=np.random.randint(F)\n",
    "    temp = np.array([pr, pgnum])\n",
    "    phys_mem_rr_g = np.delete(phys_mem_rr_g, f_num, axis=0)\n",
    "    phys_mem_rr_g=np.insert(phys_mem_rr_g,f_num,temp,axis=0)\n",
    "    return f_num\n",
    "\n",
    "\n",
    "def page_replaceLFUG(pgnum,pr):\n",
    "    global phys_mem_lfu_g\n",
    "    temp_freq=page_frequencyg.copy()\n",
    "    flag=\"not_found\"\n",
    "    while flag ==\"not_found\":\n",
    "        try:\n",
    "            min_freq=min(temp_freq,key=temp_freq.get)\n",
    "            frame_loc=np.where(phys_mem_lfu_g[:,FRAME]==min_freq)[0][0]\n",
    "            temp = np.array([pr,pgnum])\n",
    "            phys_mem_lfu_g = np.delete(phys_mem_lfu_g, frame_loc, axis=0)\n",
    "            phys_mem_lfu_g=np.insert(phys_mem_lfu_g,frame_loc,temp,axis=0)\n",
    "            page_frequencyg[min_freq]=0\n",
    "            flag=\"found\"\n",
    "        except:\n",
    "            min_freq=min(temp_freq,key=temp_freq.get)\n",
    "            del(temp_freq[min_freq])\n",
    "            flag=\"not_found\"\n",
    "\n",
    "    return frame_loc\n"
   ]
  },
  {
   "cell_type": "code",
   "execution_count": 633,
   "id": "f5428025",
   "metadata": {},
   "outputs": [],
   "source": [
    "a=np.array([[1,2],[2,3],[4,5]])"
   ]
  },
  {
   "cell_type": "code",
   "execution_count": 634,
   "id": "28279d87",
   "metadata": {},
   "outputs": [],
   "source": [
    "a[1]=np.array([9,9])"
   ]
  },
  {
   "cell_type": "code",
   "execution_count": 635,
   "id": "af74d5d7",
   "metadata": {},
   "outputs": [
    {
     "data": {
      "text/plain": [
       "array([[1, 2],\n",
       "       [9, 9],\n",
       "       [4, 5]])"
      ]
     },
     "execution_count": 635,
     "metadata": {},
     "output_type": "execute_result"
    }
   ],
   "source": [
    "a"
   ]
  },
  {
   "cell_type": "markdown",
   "id": "4fddf48b",
   "metadata": {},
   "source": [
    "#### I used  dict.keys() and dict.values() many places in LFU so as to map and get pages associated to it frequencies and all."
   ]
  },
  {
   "cell_type": "markdown",
   "id": "429537b9",
   "metadata": {},
   "source": [
    "# LeastFreqUsed is divided into two parts. \n",
    "1. Geting all the processes that are located in physical memory when page replacement for that particular process\n",
    "    was called. After that we try to find all the associated pages of particular page and try to find the minimum\n",
    "    frequency of a page associated to that process. if the page is found with minimum frequency. once the page with \n",
    "    minimum frequency is found, we replace that [pid,pgnum] from main memory. if not, it means the physical memory \n",
    "    doesnot have current process to replace its associated minimum frequency page.\n",
    "2. We try to find all other processes and their associated pages which frequency is minimum. once a process and page\n",
    "    is identified, we replace that with the current pid and page."
   ]
  },
  {
   "cell_type": "code",
   "execution_count": 636,
   "id": "83588653",
   "metadata": {},
   "outputs": [],
   "source": [
    "def get_pageframe(pnum, pr, algo):\n",
    "    # Trying to get a page Hit below\n",
    "    if algo == \"lrul\":\n",
    "        fr_num = getLruFrameL( pnum, pr)\n",
    "    elif algo == \"lrug\":\n",
    "        fr_num = getLruFrameG( pnum, pr)\n",
    "    elif algo == \"fifol\":\n",
    "        fr_num = getFifoFrameL( pnum, pr)\n",
    "    elif algo == \"fifog\":\n",
    "        fr_num = getFifoFrameG( pnum, pr)\n",
    "    elif algo == \"rrl\":\n",
    "        fr_num = getRRFrameL(pnum, pr)\n",
    "    elif algo == \"mrul\":\n",
    "        fr_num = getMRUFrameL(pnum, pr)\n",
    "    elif algo == \"lful\":\n",
    "        fr_num = getLFUFrameL(pnum, pr)\n",
    "    elif algo == \"rrg\":\n",
    "        fr_num = getRRFrameG(pnum, pr)\n",
    "    elif algo == \"mrug\":\n",
    "        fr_num = getMRUFrameG(pnum, pr)\n",
    "    elif algo == \"lfug\":\n",
    "        fr_num = getLFUFrameG(pnum, pr)\n",
    "\n",
    "    # This indicates Page Hit.\n",
    "    if fr_num < F:\n",
    "        return fr_num * PAGE_SIZE, 0\n",
    "\n",
    "    # This tries to find page fault if occured.\n",
    "    fr_num = gen_pagefault(pnum, pr,algo)\n",
    "\n",
    "    if fr_num >= 0:\n",
    "        return fr_num * PAGE_SIZE, 1\n",
    "\n",
    "    # This is for page replacement based on algorith choosen\n",
    "    if algo == \"lrul\":\n",
    "        fr_num = page_replaceLRUL(pnum, pr)\n",
    "    elif algo == \"lrug\":\n",
    "        fr_num = page_replaceLRUG(pnum, pr)\n",
    "    elif algo == \"fifol\":\n",
    "        fr_num = page_replaceFIFOL(pnum, pr)\n",
    "    elif algo == \"fifog\":\n",
    "        fr_num = page_replaceFIFOG(pnum, pr)\n",
    "    elif algo == \"rrl\":\n",
    "        fr_num = page_replaceRRL(pnum, pr)\n",
    "    elif algo == \"mrul\":\n",
    "        fr_num = page_replaceMRUL(pnum, pr)\n",
    "    elif algo == \"lful\":\n",
    "        fr_num = page_replaceLFUL(pnum, pr)\n",
    "    elif algo == \"rrg\":\n",
    "        fr_num = page_replaceRRG(pnum, pr)\n",
    "    elif algo == \"mrug\":\n",
    "        fr_num = page_replaceMRUG(pnum, pr)\n",
    "    elif algo == \"lfug\":\n",
    "        fr_num = page_replaceLFUG(pnum, pr)\n",
    "        \n",
    "    if fr_num >= 0:\n",
    "        return fr_num * PAGE_SIZE, 2\n",
    "    return INVALID, 0"
   ]
  },
  {
   "cell_type": "code",
   "execution_count": 637,
   "id": "0fd4ab81",
   "metadata": {},
   "outputs": [],
   "source": [
    "def mem_manager(infile, pid):\n",
    "    #    num_faults = 0\n",
    "    # Read a number of address references, i.e., execute the process\n",
    "    # partially (or fully, if the number generated is > process size)\n",
    "    num_addr = 512 + int(4096 * np.random.random())\n",
    "    idx = 0\n",
    "    while idx < num_addr:\n",
    "        addr_ref = infile.readline().strip()\n",
    "        if addr_ref == '':\n",
    "            break\n",
    "        addr_ref = int(addr_ref)\n",
    "        pg_num = int(addr_ref / PAGE_SIZE)\n",
    "        pg_offset = addr_ref % PAGE_SIZE\n",
    "        pg_basefl, pg_faultfl = get_pageframe(pg_num, pid, algo=\"fifol\")\n",
    "        fifo_l.append([pid,pg_faultfl])\n",
    "        pg_basefg, pg_faultfg = get_pageframe(pg_num, pid, algo=\"fifog\")\n",
    "        fifo_g.append([pid,pg_faultfg])\n",
    "        pg_basell, pg_faultll = get_pageframe(pg_num, pid, algo=\"lrul\")\n",
    "        lru_l.append([pid,pg_faultll])\n",
    "        pg_baselg, pg_faultlg = get_pageframe(pg_num, pid, algo=\"lrug\")\n",
    "        lru_g.append([pid,pg_faultlg])\n",
    "        pg_baselful, pg_faultlful = get_pageframe(pg_num, pid, algo=\"lful\")\n",
    "        lfu_l.append([pid,pg_faultlful])\n",
    "        pg_basemrul, pg_faultmrul = get_pageframe(pg_num, pid, algo=\"mrul\")\n",
    "        mru_l.append([pid,pg_faultmrul])\n",
    "        pg_baserrl, pg_faultrrl = get_pageframe(pg_num, pid, algo=\"rrl\")\n",
    "        rr_l.append([pid,pg_faultrrl])\n",
    "        pg_baselfug, pg_faultlfug = get_pageframe(pg_num, pid, algo=\"lfug\")\n",
    "        lfu_g.append([pid,pg_faultlfug])\n",
    "        pg_basemrug, pg_faultmrug = get_pageframe(pg_num, pid, algo=\"mrug\")\n",
    "        mru_g.append([pid,pg_faultmrug])\n",
    "        pg_baserrg, pg_faultrrg = get_pageframe(pg_num, pid, algo=\"rrg\")\n",
    "        rr_g.append([pid,pg_faultrrg])\n",
    "        \n",
    "        if (pg_basefl>=0 and pg_basefg>=0 and pg_basell>=0 and pg_baselg>=0 and pg_baselful>=0 and \n",
    "        pg_baselfug>=0 and pg_baserrl>=0 and pg_baserrg>=0 and pg_basemrul>=0 and pg_basemrug>=0):\n",
    "            pass\n",
    "#             phys_addr = pg_base + pg_offset\n",
    "# #             outfile.write(str(addr_ref) + ',' + str(phys_addr) + ','\n",
    "# #                           + str(pg_fault) + '\\n')  # Saving the logical add, physical add and faults\n",
    "\n",
    "            if pg_faultfl == 0:\n",
    "                pr_timing_fifol[pid] += IN_MEMORY\n",
    "            elif pg_faultfl == 1:\n",
    "                pr_timing_fifol[pid] += MEM_FAULT\n",
    "            else:\n",
    "                pr_timing_fifol[pid] += PAGE_REPLACE\n",
    "            \n",
    "            if pg_faultfg == 0:\n",
    "                pr_timing_fifog[pid] += IN_MEMORY\n",
    "            elif pg_faultfg == 1:\n",
    "                pr_timing_fifog[pid] += MEM_FAULT\n",
    "            else:\n",
    "                pr_timing_fifog[pid] += PAGE_REPLACE\n",
    "            \n",
    "            if pg_faultll == 0:\n",
    "                pr_timing_lrul[pid] += IN_MEMORY\n",
    "            elif pg_faultll == 1:\n",
    "                pr_timing_lrul[pid] += MEM_FAULT\n",
    "            else:\n",
    "                pr_timing_lrul[pid] += PAGE_REPLACE\n",
    "            \n",
    "            if pg_faultlg == 0:\n",
    "                pr_timing_lrug[pid] += IN_MEMORY\n",
    "            elif pg_faultlg == 1:\n",
    "                pr_timing_lrug[pid] += MEM_FAULT\n",
    "            else:\n",
    "                pr_timing_lrug[pid] += PAGE_REPLACE\n",
    "            \n",
    "            if pg_faultlful == 0:\n",
    "                pr_timing_lful[pid] += IN_MEMORY\n",
    "            elif pg_faultlful == 1:\n",
    "                pr_timing_lful[pid] += MEM_FAULT\n",
    "            else:\n",
    "                pr_timing_lful[pid] += PAGE_REPLACE\n",
    "                \n",
    "            if pg_faultlfug == 0:\n",
    "                pr_timing_lfug[pid] += IN_MEMORY\n",
    "            elif pg_faultlfug == 1:\n",
    "                pr_timing_lfug[pid] += MEM_FAULT\n",
    "            else:\n",
    "                pr_timing_lfug[pid] += PAGE_REPLACE\n",
    "                \n",
    "            if pg_faultrrl == 0:\n",
    "                pr_timing_rrl[pid] += IN_MEMORY\n",
    "            elif pg_faultrrl == 1:\n",
    "                pr_timing_rrl[pid] += MEM_FAULT\n",
    "            else:\n",
    "                pr_timing_rrl[pid] += PAGE_REPLACE\n",
    "                \n",
    "            if pg_faultrrg == 0:\n",
    "                pr_timing_rrg[pid] += IN_MEMORY\n",
    "            elif pg_faultrrg == 1:\n",
    "                pr_timing_rrg[pid] += MEM_FAULT\n",
    "            else:\n",
    "                pr_timing_rrg[pid] += PAGE_REPLACE\n",
    "                \n",
    "            if pg_faultmrul == 0:\n",
    "                pr_timing_mrul[pid] += IN_MEMORY\n",
    "            elif pg_faultmrul == 1:\n",
    "                pr_timing_mrul[pid] += MEM_FAULT\n",
    "            else:\n",
    "                pr_timing_mrul[pid] += PAGE_REPLACE\n",
    "                \n",
    "            if pg_faultmrug == 0:\n",
    "                pr_timing_mrug[pid] += IN_MEMORY\n",
    "            elif pg_faultmrug == 1:\n",
    "                pr_timing_mrug[pid] += MEM_FAULT\n",
    "            else:\n",
    "                pr_timing_mrug[pid] += PAGE_REPLACE\n",
    "                \n",
    "\n",
    "        else:\n",
    "            print(idx)\n",
    "            return INVALID\n",
    "        idx += 1\n",
    "\n",
    "    if idx >= num_addr:\n",
    "        return INCOMPLETE\n",
    "    return COMPLETED"
   ]
  },
  {
   "cell_type": "code",
   "execution_count": 638,
   "id": "0ec95eea",
   "metadata": {},
   "outputs": [],
   "source": [
    "def print_phys_mem():\n",
    "    print('{:^10s} {:^6s} {:^6s}'.format('Frame', 'PID', 'Page No.'))\n",
    "    print('{:^10s} {:^6s} {:^6s}'.format('-----', '---', '--------'))\n",
    "    for memory,algo in zip(physical_memories,algos):\n",
    "        print(f\"--------------------{algo}-------------------------\")\n",
    "        for i in range(F):\n",
    "            if memory[i, PID] != INVALID:\n",
    "                print('{:^10d} {:^6d} {:^6d}'.format(i, memory[i, PID],\n",
    "                                                     memory[i, FRAME]))\n",
    "            else:\n",
    "                print('Free Frame: ', i)\n",
    "    print('_____________________________________________________________')\n"
   ]
  },
  {
   "cell_type": "code",
   "execution_count": 639,
   "id": "b92fa9d7",
   "metadata": {},
   "outputs": [],
   "source": [
    "pr_size = np.zeros(NP, dtype='int32')\n",
    "def create_simulation():\n",
    "    for p in range(NP):\n",
    "        fname = 'AR_' + '{:02d}'.format(p) + '.txt'\n",
    "        op = open(fname, 'w')\n",
    "        npg = int(np.random.normal(10, 2.5))\n",
    "        nsig = int(5 * np.random.random())\n",
    "        print(f'Process {p} requires {npg} pages and has a quality {nsig}')\n",
    "        pg_seq, pr_size[p] = sim_process(npg, nsig, op,pid=p,lfrac=0.99)\n",
    "        print(pg_seq, pr_size[p])\n",
    "        op.write('\\n')\n",
    "        op.close()\n",
    "        print('Written process ', p, 'to ', fname)"
   ]
  },
  {
   "cell_type": "code",
   "execution_count": 640,
   "id": "28f88b41",
   "metadata": {},
   "outputs": [
    {
     "name": "stdout",
     "output_type": "stream",
     "text": [
      "Process 0 requires 8 pages and has a quality 3\n",
      "[0, 7, 5, 2, 7, 1, 5, 1] 19211\n",
      "Written process  0 to  AR_00.txt\n",
      "Process 1 requires 11 pages and has a quality 2\n",
      "[5, 4, 4, 5, 3, 4, 7, 4, 0, 3, 5] 27477\n",
      "Written process  1 to  AR_01.txt\n",
      "Process 2 requires 9 pages and has a quality 4\n",
      "[7, 8, 2, 3, 2, 0, 4, 5, 3] 24372\n",
      "Written process  2 to  AR_02.txt\n",
      "Process 3 requires 11 pages and has a quality 4\n",
      "[9, 9, 10, 0, 10, 3, 7, 5, 10, 7, 5] 22993\n",
      "Written process  3 to  AR_03.txt\n",
      "Process 4 requires 9 pages and has a quality 4\n",
      "[6, 4, 0, 4, 2, 4, 0, 2, 6] 17302\n",
      "Written process  4 to  AR_04.txt\n"
     ]
    }
   ],
   "source": [
    "create_simulation()"
   ]
  },
  {
   "cell_type": "code",
   "execution_count": 641,
   "id": "0992fdad",
   "metadata": {},
   "outputs": [
    {
     "data": {
      "image/png": "[encoded data removed]",
      "text/plain": [
       "<Figure size 432x288 with 1 Axes>"
      ]
     },
     "metadata": {
      "needs_background": "light"
     },
     "output_type": "display_data"
    },
    {
     "data": {
      "image/png": "[encoded data removed]",
      "text/plain": [
       "<Figure size 432x288 with 1 Axes>"
      ]
     },
     "metadata": {
      "needs_background": "light"
     },
     "output_type": "display_data"
    },
    {
     "data": {
      "image/png": "[encoded data removed]",
      "text/plain": [
       "<Figure size 432x288 with 1 Axes>"
      ]
     },
     "metadata": {
      "needs_background": "light"
     },
     "output_type": "display_data"
    },
    {
     "data": {
      "image/png": "[encoded data removed]",
      "text/plain": [
       "<Figure size 432x288 with 1 Axes>"
      ]
     },
     "metadata": {
      "needs_background": "light"
     },
     "output_type": "display_data"
    },
    {
     "data": {
      "image/png": "[encoded data removed]",
      "text/plain": [
       "<Figure size 432x288 with 1 Axes>"
      ]
     },
     "metadata": {
      "needs_background": "light"
     },
     "output_type": "display_data"
    }
   ],
   "source": [
    "for i,p in enumerate(range(NP)) :\n",
    "    fname = 'AR_' + '{:02d}'.format(p) + '.txt'\n",
    "    data=np.loadtxt(fname)\n",
    "    pl.plot(data)\n",
    "    pl.title('Process {}'.format(i))\n",
    "    pl.show()"
   ]
  },
  {
   "cell_type": "code",
   "execution_count": 642,
   "id": "2d1f0ef3",
   "metadata": {
    "scrolled": false
   },
   "outputs": [
    {
     "name": "stdout",
     "output_type": "stream",
     "text": [
      "[4, 2, 0, 1, 3]\n",
      "Reading Process from AR_00.txt\n",
      "Reading Process from AR_01.txt\n",
      "Reading Process from AR_02.txt\n",
      "Reading Process from AR_03.txt\n",
      "Reading Process from AR_04.txt\n",
      "Process 0 (Size: 19211 Bytes) completed for FIFO LOCAL;         removing from queue\n",
      "Time taken: 21930\n",
      "Slow down by 14.15%\n",
      "Process 0 (Size: 19211 Bytes) completed for FIFO GLOBAL;         removing from queue\n",
      "Time taken: 20940\n",
      "Slow down by 9.00%\n",
      "Process 0 (Size: 19211 Bytes) completed for LRU LOCAL;         removing from queue\n",
      "Time taken: 20445\n",
      "Slow down by 6.42%\n",
      "Process 0 (Size: 19211 Bytes) completed for LRU GLOBAL;         removing from queue\n",
      "Time taken: 23514\n",
      "Slow down by 22.40%\n",
      "Process 0 (Size: 19211 Bytes) completed for LFU LOCAL;         removing from queue\n",
      "Time taken: 25098\n",
      "Slow down by 30.64%\n",
      "Process 0 (Size: 19211 Bytes) completed for LFU GLOBAL;         removing from queue\n",
      "Time taken: 25989\n",
      "Slow down by 35.28%\n",
      "Process 0 (Size: 19211 Bytes) completed for RR LOCAL;         removing from queue\n",
      "Time taken: 21138\n",
      "Slow down by 10.03%\n",
      "Process 0 (Size: 19211 Bytes) completed for RR GLOBAL;         removing from queue\n",
      "Time taken: 21633\n",
      "Slow down by 12.61%\n",
      "Process 0 (Size: 19211 Bytes) completed for  MRU LOCAL;         removing from queue\n",
      "Time taken: 22227\n",
      "Slow down by 15.70%\n",
      "Process 0 (Size: 19211 Bytes) completed for MRU GLOBAL;         removing from queue\n",
      "Time taken: 19851\n",
      "Slow down by 3.33%\n"
     ]
    },
    {
     "data": {
      "image/png": "[encoded data removed]",
      "text/plain": [
       "<Figure size 864x576 with 1 Axes>"
      ]
     },
     "metadata": {
      "needs_background": "light"
     },
     "output_type": "display_data"
    },
    {
     "name": "stdout",
     "output_type": "stream",
     "text": [
      "Process 4 (Size: 17302 Bytes) completed for FIFO LOCAL;         removing from queue\n",
      "Time taken: 20618\n",
      "Slow down by 19.17%\n",
      "Process 4 (Size: 17302 Bytes) completed for FIFO GLOBAL;         removing from queue\n",
      "Time taken: 20024\n",
      "Slow down by 15.73%\n",
      "Process 4 (Size: 17302 Bytes) completed for LRU LOCAL;         removing from queue\n",
      "Time taken: 26013\n",
      "Slow down by 50.35%\n",
      "Process 4 (Size: 17302 Bytes) completed for LRU GLOBAL;         removing from queue\n",
      "Time taken: 21311\n",
      "Slow down by 23.17%\n",
      "Process 4 (Size: 17302 Bytes) completed for LFU LOCAL;         removing from queue\n",
      "Time taken: 21212\n",
      "Slow down by 22.60%\n",
      "Process 4 (Size: 17302 Bytes) completed for LFU GLOBAL;         removing from queue\n",
      "Time taken: 23489\n",
      "Slow down by 35.76%\n",
      "Process 4 (Size: 17302 Bytes) completed for RR LOCAL;         removing from queue\n",
      "Time taken: 20420\n",
      "Slow down by 18.02%\n",
      "Process 4 (Size: 17302 Bytes) completed for RR GLOBAL;         removing from queue\n",
      "Time taken: 20222\n",
      "Slow down by 16.88%\n",
      "Process 4 (Size: 17302 Bytes) completed for  MRU LOCAL;         removing from queue\n",
      "Time taken: 26706\n",
      "Slow down by 54.35%\n",
      "Process 4 (Size: 17302 Bytes) completed for MRU GLOBAL;         removing from queue\n",
      "Time taken: 27944\n",
      "Slow down by 61.51%\n"
     ]
    },
    {
     "data": {
      "image/png": "[encoded data removed]",
      "text/plain": [
       "<Figure size 864x576 with 1 Axes>"
      ]
     },
     "metadata": {
      "needs_background": "light"
     },
     "output_type": "display_data"
    },
    {
     "name": "stdout",
     "output_type": "stream",
     "text": [
      "Process 3 (Size: 22993 Bytes) completed for FIFO LOCAL;         removing from queue\n",
      "Time taken: 28684\n",
      "Slow down by 24.75%\n",
      "Process 3 (Size: 22993 Bytes) completed for FIFO GLOBAL;         removing from queue\n",
      "Time taken: 26803\n",
      "Slow down by 16.57%\n",
      "Process 3 (Size: 22993 Bytes) completed for LRU LOCAL;         removing from queue\n",
      "Time taken: 31950\n",
      "Slow down by 38.96%\n",
      "Process 3 (Size: 22993 Bytes) completed for LRU GLOBAL;         removing from queue\n",
      "Time taken: 32149\n",
      "Slow down by 39.82%\n",
      "Process 3 (Size: 22993 Bytes) completed for LFU LOCAL;         removing from queue\n",
      "Time taken: 33931\n",
      "Slow down by 47.57%\n",
      "Process 3 (Size: 22993 Bytes) completed for LFU GLOBAL;         removing from queue\n",
      "Time taken: 29774\n",
      "Slow down by 29.49%\n",
      "Process 3 (Size: 22993 Bytes) completed for RR LOCAL;         removing from queue\n",
      "Time taken: 28139\n",
      "Slow down by 22.38%\n",
      "Process 3 (Size: 22993 Bytes) completed for RR GLOBAL;         removing from queue\n",
      "Time taken: 28337\n",
      "Slow down by 23.24%\n",
      "Process 3 (Size: 22993 Bytes) completed for  MRU LOCAL;         removing from queue\n",
      "Time taken: 35613\n",
      "Slow down by 54.89%\n",
      "Process 3 (Size: 22993 Bytes) completed for MRU GLOBAL;         removing from queue\n",
      "Time taken: 31405\n",
      "Slow down by 36.59%\n"
     ]
    },
    {
     "data": {
      "image/png": "[encoded data removed]",
      "text/plain": [
       "<Figure size 864x576 with 1 Axes>"
      ]
     },
     "metadata": {
      "needs_background": "light"
     },
     "output_type": "display_data"
    },
    {
     "name": "stdout",
     "output_type": "stream",
     "text": [
      "Process 2 (Size: 24372 Bytes) completed for FIFO LOCAL;         removing from queue\n",
      "Time taken: 27288\n",
      "Slow down by 11.96%\n",
      "Process 2 (Size: 24372 Bytes) completed for FIFO GLOBAL;         removing from queue\n",
      "Time taken: 27240\n",
      "Slow down by 11.77%\n",
      "Process 2 (Size: 24372 Bytes) completed for LRU LOCAL;         removing from queue\n",
      "Time taken: 37685\n",
      "Slow down by 54.62%\n",
      "Process 2 (Size: 24372 Bytes) completed for LRU GLOBAL;         removing from queue\n",
      "Time taken: 29963\n",
      "Slow down by 22.94%\n",
      "Process 2 (Size: 24372 Bytes) completed for LFU LOCAL;         removing from queue\n",
      "Time taken: 27239\n",
      "Slow down by 11.76%\n",
      "Process 2 (Size: 24372 Bytes) completed for LFU GLOBAL;         removing from queue\n",
      "Time taken: 31002\n",
      "Slow down by 27.20%\n",
      "Process 2 (Size: 24372 Bytes) completed for RR LOCAL;         removing from queue\n",
      "Time taken: 27636\n",
      "Slow down by 13.39%\n",
      "Process 2 (Size: 24372 Bytes) completed for RR GLOBAL;         removing from queue\n",
      "Time taken: 27636\n",
      "Slow down by 13.39%\n",
      "Process 2 (Size: 24372 Bytes) completed for  MRU LOCAL;         removing from queue\n",
      "Time taken: 39120\n",
      "Slow down by 60.51%\n",
      "Process 2 (Size: 24372 Bytes) completed for MRU GLOBAL;         removing from queue\n",
      "Time taken: 40753\n",
      "Slow down by 67.21%\n"
     ]
    },
    {
     "data": {
      "image/png": "[encoded data removed]",
      "text/plain": [
       "<Figure size 864x576 with 1 Axes>"
      ]
     },
     "metadata": {
      "needs_background": "light"
     },
     "output_type": "display_data"
    },
    {
     "name": "stdout",
     "output_type": "stream",
     "text": [
      "Process 1 (Size: 27477 Bytes) completed for FIFO LOCAL;         removing from queue\n",
      "Time taken: 30984\n",
      "Slow down by 12.76%\n",
      "Process 1 (Size: 27477 Bytes) completed for FIFO GLOBAL;         removing from queue\n",
      "Time taken: 30389\n",
      "Slow down by 10.60%\n",
      "Process 1 (Size: 27477 Bytes) completed for LRU LOCAL;         removing from queue\n",
      "Time taken: 27967\n",
      "Slow down by 1.78%\n",
      "Process 1 (Size: 27477 Bytes) completed for LRU GLOBAL;         removing from queue\n",
      "Time taken: 32667\n",
      "Slow down by 18.89%\n",
      "Process 1 (Size: 27477 Bytes) completed for LFU LOCAL;         removing from queue\n",
      "Time taken: 30489\n",
      "Slow down by 10.96%\n",
      "Process 1 (Size: 27477 Bytes) completed for LFU GLOBAL;         removing from queue\n",
      "Time taken: 34052\n",
      "Slow down by 23.93%\n",
      "Process 1 (Size: 27477 Bytes) completed for RR LOCAL;         removing from queue\n",
      "Time taken: 30587\n",
      "Slow down by 11.32%\n",
      "Process 1 (Size: 27477 Bytes) completed for RR GLOBAL;         removing from queue\n",
      "Time taken: 30736\n",
      "Slow down by 11.86%\n",
      "Process 1 (Size: 27477 Bytes) completed for  MRU LOCAL;         removing from queue\n",
      "Time taken: 27967\n",
      "Slow down by 1.78%\n",
      "Process 1 (Size: 27477 Bytes) completed for MRU GLOBAL;         removing from queue\n",
      "Time taken: 27967\n",
      "Slow down by 1.78%\n"
     ]
    },
    {
     "data": {
      "image/png": "[encoded data removed]",
      "text/plain": [
       "<Figure size 864x576 with 1 Axes>"
      ]
     },
     "metadata": {
      "needs_background": "light"
     },
     "output_type": "display_data"
    }
   ],
   "source": [
    "init_phys_mem()\n",
    "\n",
    "pr_que = init_proc_queue()\n",
    "\n",
    "infiles = list()\n",
    "outfiles = list()\n",
    "for i in range(NP):\n",
    "    fname = 'AR_{:02d}.txt'.format(i)\n",
    "#     outname = 'AR_{:02}_{}_out.txt'.format(i, algo)\n",
    "\n",
    "    if os.access(fname, os.R_OK):\n",
    "        print(f'Reading Process from {fname}')\n",
    "        infiles.append(open(fname, 'r'))\n",
    "    else:\n",
    "        print(f'Cannot open {fname} for reading')\n",
    "#     outfiles.append(open(outname, 'w'))\n",
    "\n",
    "# Map logical into physical addresses and keep track of page faults\n",
    "for pr in readq(pr_que):\n",
    "    rv = mem_manager(infiles[pr], pr)\n",
    "    if rv == INVALID:\n",
    "        print('Memory overflow error')\n",
    "        break\n",
    "    if rv == INCOMPLETE:\n",
    "        pr_que.put_nowait(pr)\n",
    "    else:\n",
    "        print(f'Process {pr} (Size: {pr_size[pr]} Bytes) completed for FIFO LOCAL; \\\n",
    "        removing from queue')\n",
    "        print(f'Time taken: {pr_timing_fifol[pr]}')\n",
    "        slowfl = (pr_timing_fifol[pr] - pr_size[pr]) * 100.0 / pr_size[pr]\n",
    "        print('Slow down by {:.2f}%'.format(slowfl))\n",
    "        \n",
    "        print(f'Process {pr} (Size: {pr_size[pr]} Bytes) completed for FIFO GLOBAL; \\\n",
    "        removing from queue')\n",
    "        print(f'Time taken: {pr_timing_fifog[pr]}')\n",
    "        slowfg = (pr_timing_fifog[pr] - pr_size[pr]) * 100.0 / pr_size[pr]\n",
    "        print('Slow down by {:.2f}%'.format(slowfg))\n",
    "        \n",
    "        print(f'Process {pr} (Size: {pr_size[pr]} Bytes) completed for LRU LOCAL; \\\n",
    "        removing from queue')\n",
    "        print(f'Time taken: {pr_timing_lrul[pr]}')\n",
    "        slowll = (pr_timing_lrul[pr] - pr_size[pr]) * 100.0 / pr_size[pr]\n",
    "        print('Slow down by {:.2f}%'.format(slowll))\n",
    "        \n",
    "        print(f'Process {pr} (Size: {pr_size[pr]} Bytes) completed for LRU GLOBAL; \\\n",
    "        removing from queue')\n",
    "        print(f'Time taken: {pr_timing_lrug[pr]}')\n",
    "        slowlg = (pr_timing_lrug[pr] - pr_size[pr]) * 100.0 / pr_size[pr]\n",
    "        print('Slow down by {:.2f}%'.format(slowlg))\n",
    "        \n",
    "        print(f'Process {pr} (Size: {pr_size[pr]} Bytes) completed for LFU LOCAL; \\\n",
    "        removing from queue')\n",
    "        print(f'Time taken: {pr_timing_lful[pr]}')\n",
    "        slowlfl = (pr_timing_lful[pr] - pr_size[pr]) * 100.0 / pr_size[pr]\n",
    "        print('Slow down by {:.2f}%'.format(slowlfl))\n",
    "        \n",
    "        print(f'Process {pr} (Size: {pr_size[pr]} Bytes) completed for LFU GLOBAL; \\\n",
    "        removing from queue')\n",
    "        print(f'Time taken: {pr_timing_lfug[pr]}')\n",
    "        slowlfg = (pr_timing_lfug[pr] - pr_size[pr]) * 100.0 / pr_size[pr]\n",
    "        print('Slow down by {:.2f}%'.format(slowlfg))\n",
    "        \n",
    "        print(f'Process {pr} (Size: {pr_size[pr]} Bytes) completed for RR LOCAL; \\\n",
    "        removing from queue')\n",
    "        print(f'Time taken: {pr_timing_rrl[pr]}')\n",
    "        slowrrl = (pr_timing_rrl[pr] - pr_size[pr]) * 100.0 / pr_size[pr]\n",
    "        print('Slow down by {:.2f}%'.format(slowrrl))\n",
    "        \n",
    "        print(f'Process {pr} (Size: {pr_size[pr]} Bytes) completed for RR GLOBAL; \\\n",
    "        removing from queue')\n",
    "        print(f'Time taken: {pr_timing_rrg[pr]}')\n",
    "        slowrrg = (pr_timing_rrg[pr] - pr_size[pr]) * 100.0 / pr_size[pr]\n",
    "        print('Slow down by {:.2f}%'.format(slowrrg))\n",
    "        \n",
    "        print(f'Process {pr} (Size: {pr_size[pr]} Bytes) completed for  MRU LOCAL; \\\n",
    "        removing from queue')\n",
    "        print(f'Time taken: {pr_timing_mrul[pr]}')\n",
    "        slowmrl = (pr_timing_mrul[pr] - pr_size[pr]) * 100.0 / pr_size[pr]\n",
    "        print('Slow down by {:.2f}%'.format(slowmrl))\n",
    "        \n",
    "        print(f'Process {pr} (Size: {pr_size[pr]} Bytes) completed for MRU GLOBAL; \\\n",
    "        removing from queue')\n",
    "        print(f'Time taken: {pr_timing_mrug[pr]}')\n",
    "        slowmrg = (pr_timing_mrug[pr] - pr_size[pr]) * 100.0 / pr_size[pr]\n",
    "        print('Slow down by {:.2f}%'.format(slowmrg))\n",
    "        data = {'fifo_local':slowfl, 'fifo_global':slowfg,\n",
    "               'lru_local':slowll, 'lru_global':slowlg,\n",
    "                'lfu_local':slowlfl, 'lfu_global':slowlfg,\n",
    "                'rr_local':slowrrl, 'rr_global':slowrrg,\n",
    "                'mru_local':slowmrl, 'mru_global':slowmrg,\n",
    "               }\n",
    "        pl.figure(figsize=(12,8))\n",
    "        pl.title(f'Process {pr}')\n",
    "        pl.bar(data.keys(),data.values())\n",
    "        pl.show()\n",
    "        \n",
    "#         print_phys_mem()\n",
    "        update_phys_mem(pr)\n",
    "\n",
    "#        print('Current Status of Physical Memory')\n",
    "#        print_phys_mem()\n",
    "\n",
    "# Close all files\n",
    "for i in range(NP):\n",
    "    infiles[i].close()\n",
    "#     outfiles[i].close()"
   ]
  },
  {
   "cell_type": "code",
   "execution_count": 643,
   "id": "df98f5c8",
   "metadata": {},
   "outputs": [
    {
     "data": {
      "text/plain": [
       "<BarContainer object of 2 artists>"
      ]
     },
     "execution_count": 643,
     "metadata": {},
     "output_type": "execute_result"
    },
    {
     "data": {
      "image/png": "[encoded data removed]",
      "text/plain": [
       "<Figure size 432x288 with 1 Axes>"
      ]
     },
     "metadata": {
      "needs_background": "light"
     },
     "output_type": "display_data"
    }
   ],
   "source": [
    "data = {'a':10,'b':20}\n",
    "pl.bar(data.keys(),data.values())"
   ]
  },
  {
   "cell_type": "code",
   "execution_count": null,
   "id": "8c240f3f",
   "metadata": {},
   "outputs": [],
   "source": []
  },
  {
   "cell_type": "code",
   "execution_count": 644,
   "id": "079f8ecb",
   "metadata": {},
   "outputs": [],
   "source": [
    "# fig,axes=pl.subplots(2,3,figsize=(15,10))\n",
    "# axes=axes.ravel()[:5]\n",
    "# for algo,axs in zip(algos,axes):\n",
    "#     file_name='AR_00_{}_out.txt'.format(algo)\n",
    "#     file=open(file_name,'r')\n",
    "#     data=file.read()\n",
    "#     datas=np.array(data.split('\\n'))\n",
    "#     faults=[data[-1] for data in datas[:-1]]\n",
    "#     sns.countplot(x=faults,ax=axs)\n",
    "#     axs.set_title(\" {} {}\".format(algo,collections.Counter(faults)))"
   ]
  },
  {
   "cell_type": "code",
   "execution_count": 645,
   "id": "002dfbd1",
   "metadata": {},
   "outputs": [],
   "source": [
    "lru_l=np.array(lru_l)\n",
    "lru_g=np.array(lru_g)\n",
    "fifo_l=np.array(fifo_l)\n",
    "fifo_g=np.array(fifo_g)\n",
    "mru_l=np.array(mru_l)\n",
    "lfu_l=np.array(lfu_l)\n",
    "rr_l=np.array(rr_l)\n",
    "mru_g=np.array(mru_g)\n",
    "lfu_g=np.array(lfu_g)\n",
    "rr_g=np.array(rr_g)"
   ]
  },
  {
   "cell_type": "code",
   "execution_count": 646,
   "id": "f474fae9",
   "metadata": {},
   "outputs": [
    {
     "data": {
      "text/plain": [
       "array([[0, 1],\n",
       "       [0, 0],\n",
       "       [0, 0],\n",
       "       ...,\n",
       "       [0, 0],\n",
       "       [0, 0],\n",
       "       [0, 0]])"
      ]
     },
     "execution_count": 646,
     "metadata": {},
     "output_type": "execute_result"
    }
   ],
   "source": [
    "lru_l[lru_l[:,0]==0]"
   ]
  },
  {
   "cell_type": "code",
   "execution_count": 647,
   "id": "16c45bef",
   "metadata": {
    "scrolled": false
   },
   "outputs": [
    {
     "data": {
      "image/png": "[encoded data removed]",
      "text/plain": [
       "<Figure size 1080x1080 with 10 Axes>"
      ]
     },
     "metadata": {
      "needs_background": "light"
     },
     "output_type": "display_data"
    },
    {
     "data": {
      "image/png": "[encoded data removed]",
      "text/plain": [
       "<Figure size 1080x1080 with 10 Axes>"
      ]
     },
     "metadata": {
      "needs_background": "light"
     },
     "output_type": "display_data"
    },
    {
     "data": {
      "image/png": "[encoded data removed]",
      "text/plain": [
       "<Figure size 1080x1080 with 10 Axes>"
      ]
     },
     "metadata": {
      "needs_background": "light"
     },
     "output_type": "display_data"
    },
    {
     "data": {
      "image/png": "[encoded data removed]",
      "text/plain": [
       "<Figure size 1080x1080 with 10 Axes>"
      ]
     },
     "metadata": {
      "needs_background": "light"
     },
     "output_type": "display_data"
    },
    {
     "data": {
      "image/png": "[encoded data removed]",
      "text/plain": [
       "<Figure size 1080x1080 with 10 Axes>"
      ]
     },
     "metadata": {
      "needs_background": "light"
     },
     "output_type": "display_data"
    }
   ],
   "source": [
    "for i in range(NP):\n",
    "    lru_lp1=lru_l[lru_l[:,0]==i][:,1]\n",
    "    lru_gp1=lru_g[lru_g[:,0]==i][:,1]\n",
    "    fifo_lp1=fifo_l[fifo_l[:,0]==i][:,1]\n",
    "    fifo_gp1=fifo_g[fifo_g[:,0]==i][:,1]\n",
    "    lfu_lp1=lfu_l[lfu_l[:,0]==i][:,1]\n",
    "    mru_lp1=mru_l[mru_l[:,0]==i][:,1]\n",
    "    rr_lp1=rr_l[rr_l[:,0]==i][:,1]\n",
    "    lfu_gp1=lfu_g[lfu_g[:,0]==i][:,1]\n",
    "    mru_gp1=mru_g[mru_g[:,0]==i][:,1]\n",
    "    rr_gp1=rr_g[rr_g[:,0]==i][:,1]\n",
    "    faults_list=[lru_lp1,lru_gp1,fifo_lp1,fifo_gp1,mru_lp1,mru_gp1,lfu_lp1,lfu_gp1,rr_lp1,rr_gp1]\n",
    "    fig,axes=pl.subplots(5,2,figsize=(15,15))\n",
    "    axes=axes.ravel()\n",
    "    for algo,fault,ax in zip(algos,faults_list,axes):\n",
    "        sns.countplot(x=fault,ax=ax)\n",
    "        ax.set_title(\"Process P-{} {} {}\".format(i,algo,collections.Counter(fault)))\n"
   ]
  },
  {
   "cell_type": "code",
   "execution_count": 648,
   "id": "ae5f08ce",
   "metadata": {},
   "outputs": [],
   "source": [
    "# faults_list=[lru_lp1,lru_gp1,fifo_lp1,fifo_gp1,mru_lp1,mru_gp1,lfu_lp1,lfu_gp1,rr_lp1,rr_gp1]\n",
    "# fig,axes=pl.subplots(5,2,figsize=(15,15))\n",
    "# axes=axes.ravel()\n",
    "# for algo,fault,ax in zip(algos,faults_list,axes):\n",
    "#     sns.countplot(x=fault,ax=ax)\n",
    "#     ax.set_title(\" {} {}\".format(algo,collections.Counter(fault)))\n"
   ]
  },
  {
   "cell_type": "code",
   "execution_count": 649,
   "id": "3b03818d",
   "metadata": {},
   "outputs": [],
   "source": [
    "# d=np.loadtxt('AR_02.txt')\n",
    "# pl.plot(d)"
   ]
  },
  {
   "cell_type": "code",
   "execution_count": 650,
   "id": "3abeee85",
   "metadata": {},
   "outputs": [],
   "source": [
    "algorithms= [\"lru_l\",\"lru_g\",\"fifo_l\",\"fifo_g\",\"mru_l\",\"mru_g\",\"lfu_l\",\"lfu_g\",\"rr_l\",\"rr_g\"]"
   ]
  },
  {
   "cell_type": "code",
   "execution_count": 651,
   "id": "4fa87943",
   "metadata": {},
   "outputs": [],
   "source": [
    "df = pd.DataFrame([])\n",
    "for i in range(NP):\n",
    "    lru_lp1=lru_l[lru_l[:,0]==i][:,1]\n",
    "    lru_gp1=lru_g[lru_g[:,0]==i][:,1]\n",
    "    fifo_lp1=fifo_l[fifo_l[:,0]==i][:,1]\n",
    "    fifo_gp1=fifo_g[fifo_g[:,0]==i][:,1]\n",
    "    lfu_lp1=lfu_l[lfu_l[:,0]==i][:,1]\n",
    "    mru_lp1=mru_l[mru_l[:,0]==i][:,1]\n",
    "    rr_lp1=rr_l[rr_l[:,0]==i][:,1]\n",
    "    lfu_gp1=lfu_g[lfu_g[:,0]==i][:,1]\n",
    "    mru_gp1=mru_g[mru_g[:,0]==i][:,1]\n",
    "    rr_gp1=rr_g[rr_g[:,0]==i][:,1]\n",
    "    faults_list=[lru_lp1,lru_gp1,fifo_lp1,fifo_gp1,mru_lp1,mru_gp1,lfu_lp1,lfu_gp1,rr_lp1,rr_gp1]\n",
    "    for ii,j in zip(faults_list,algorithms):\n",
    "        temp_df = pd.DataFrame(dict(collections.Counter(ii)),index = [j])\n",
    "        temp_df[\"process\"] = f\"P-{i}\"\n",
    "        df = pd.concat([df,temp_df],axis=0)\n",
    "df = df.T\n",
    "df.index = [\"Page Fault\",\"Page Hit\",\"Page Replace\",\"Process\"]"
   ]
  },
  {
   "cell_type": "code",
   "execution_count": 652,
   "id": "befdf8c4",
   "metadata": {
    "scrolled": false
   },
   "outputs": [
    {
     "data": {
      "text/html": [
       "<div>\n",
       "<style scoped>\n",
       "    .dataframe tbody tr th:only-of-type {\n",
       "        vertical-align: middle;\n",
       "    }\n",
       "\n",
       "    .dataframe tbody tr th {\n",
       "        vertical-align: top;\n",
       "    }\n",
       "\n",
       "    .dataframe thead th {\n",
       "        text-align: right;\n",
       "    }\n",
       "</style>\n",
       "<table border=\"1\" class=\"dataframe\">\n",
       "  <thead>\n",
       "    <tr style=\"text-align: right;\">\n",
       "      <th></th>\n",
       "      <th>Page Fault</th>\n",
       "      <th>Page Hit</th>\n",
       "      <th>Page Replace</th>\n",
       "      <th>Process</th>\n",
       "    </tr>\n",
       "  </thead>\n",
       "  <tbody>\n",
       "    <tr>\n",
       "      <th>lru_l</th>\n",
       "      <td>7</td>\n",
       "      <td>19195</td>\n",
       "      <td>9.0</td>\n",
       "      <td>P-0</td>\n",
       "    </tr>\n",
       "    <tr>\n",
       "      <th>lru_g</th>\n",
       "      <td>7</td>\n",
       "      <td>19164</td>\n",
       "      <td>40.0</td>\n",
       "      <td>P-0</td>\n",
       "    </tr>\n",
       "    <tr>\n",
       "      <th>fifo_l</th>\n",
       "      <td>7</td>\n",
       "      <td>19180</td>\n",
       "      <td>24.0</td>\n",
       "      <td>P-0</td>\n",
       "    </tr>\n",
       "    <tr>\n",
       "      <th>fifo_g</th>\n",
       "      <td>7</td>\n",
       "      <td>19190</td>\n",
       "      <td>14.0</td>\n",
       "      <td>P-0</td>\n",
       "    </tr>\n",
       "    <tr>\n",
       "      <th>mru_l</th>\n",
       "      <td>7</td>\n",
       "      <td>19177</td>\n",
       "      <td>27.0</td>\n",
       "      <td>P-0</td>\n",
       "    </tr>\n",
       "    <tr>\n",
       "      <th>mru_g</th>\n",
       "      <td>7</td>\n",
       "      <td>19201</td>\n",
       "      <td>3.0</td>\n",
       "      <td>P-0</td>\n",
       "    </tr>\n",
       "    <tr>\n",
       "      <th>lfu_l</th>\n",
       "      <td>7</td>\n",
       "      <td>19148</td>\n",
       "      <td>56.0</td>\n",
       "      <td>P-0</td>\n",
       "    </tr>\n",
       "    <tr>\n",
       "      <th>lfu_g</th>\n",
       "      <td>7</td>\n",
       "      <td>19139</td>\n",
       "      <td>65.0</td>\n",
       "      <td>P-0</td>\n",
       "    </tr>\n",
       "    <tr>\n",
       "      <th>rr_l</th>\n",
       "      <td>7</td>\n",
       "      <td>19188</td>\n",
       "      <td>16.0</td>\n",
       "      <td>P-0</td>\n",
       "    </tr>\n",
       "    <tr>\n",
       "      <th>rr_g</th>\n",
       "      <td>7</td>\n",
       "      <td>19183</td>\n",
       "      <td>21.0</td>\n",
       "      <td>P-0</td>\n",
       "    </tr>\n",
       "    <tr>\n",
       "      <th>lru_l</th>\n",
       "      <td>10</td>\n",
       "      <td>27467</td>\n",
       "      <td>NaN</td>\n",
       "      <td>P-1</td>\n",
       "    </tr>\n",
       "    <tr>\n",
       "      <th>lru_g</th>\n",
       "      <td>15</td>\n",
       "      <td>27417</td>\n",
       "      <td>45.0</td>\n",
       "      <td>P-1</td>\n",
       "    </tr>\n",
       "    <tr>\n",
       "      <th>fifo_l</th>\n",
       "      <td>15</td>\n",
       "      <td>27434</td>\n",
       "      <td>28.0</td>\n",
       "      <td>P-1</td>\n",
       "    </tr>\n",
       "    <tr>\n",
       "      <th>fifo_g</th>\n",
       "      <td>17</td>\n",
       "      <td>27439</td>\n",
       "      <td>21.0</td>\n",
       "      <td>P-1</td>\n",
       "    </tr>\n",
       "    <tr>\n",
       "      <th>mru_l</th>\n",
       "      <td>10</td>\n",
       "      <td>27467</td>\n",
       "      <td>NaN</td>\n",
       "      <td>P-1</td>\n",
       "    </tr>\n",
       "    <tr>\n",
       "      <th>mru_g</th>\n",
       "      <td>10</td>\n",
       "      <td>27467</td>\n",
       "      <td>NaN</td>\n",
       "      <td>P-1</td>\n",
       "    </tr>\n",
       "    <tr>\n",
       "      <th>lfu_l</th>\n",
       "      <td>15</td>\n",
       "      <td>27439</td>\n",
       "      <td>23.0</td>\n",
       "      <td>P-1</td>\n",
       "    </tr>\n",
       "    <tr>\n",
       "      <th>lfu_g</th>\n",
       "      <td>17</td>\n",
       "      <td>27402</td>\n",
       "      <td>58.0</td>\n",
       "      <td>P-1</td>\n",
       "    </tr>\n",
       "    <tr>\n",
       "      <th>rr_l</th>\n",
       "      <td>17</td>\n",
       "      <td>27437</td>\n",
       "      <td>23.0</td>\n",
       "      <td>P-1</td>\n",
       "    </tr>\n",
       "    <tr>\n",
       "      <th>rr_g</th>\n",
       "      <td>16</td>\n",
       "      <td>27436</td>\n",
       "      <td>25.0</td>\n",
       "      <td>P-1</td>\n",
       "    </tr>\n",
       "    <tr>\n",
       "      <th>lru_l</th>\n",
       "      <td>5</td>\n",
       "      <td>24235</td>\n",
       "      <td>132.0</td>\n",
       "      <td>P-2</td>\n",
       "    </tr>\n",
       "    <tr>\n",
       "      <th>lru_g</th>\n",
       "      <td>5</td>\n",
       "      <td>24313</td>\n",
       "      <td>54.0</td>\n",
       "      <td>P-2</td>\n",
       "    </tr>\n",
       "    <tr>\n",
       "      <th>fifo_l</th>\n",
       "      <td>9</td>\n",
       "      <td>24338</td>\n",
       "      <td>25.0</td>\n",
       "      <td>P-2</td>\n",
       "    </tr>\n",
       "    <tr>\n",
       "      <th>fifo_g</th>\n",
       "      <td>6</td>\n",
       "      <td>24340</td>\n",
       "      <td>26.0</td>\n",
       "      <td>P-2</td>\n",
       "    </tr>\n",
       "    <tr>\n",
       "      <th>mru_l</th>\n",
       "      <td>6</td>\n",
       "      <td>24220</td>\n",
       "      <td>146.0</td>\n",
       "      <td>P-2</td>\n",
       "    </tr>\n",
       "    <tr>\n",
       "      <th>mru_g</th>\n",
       "      <td>7</td>\n",
       "      <td>24203</td>\n",
       "      <td>162.0</td>\n",
       "      <td>P-2</td>\n",
       "    </tr>\n",
       "    <tr>\n",
       "      <th>lfu_l</th>\n",
       "      <td>8</td>\n",
       "      <td>24339</td>\n",
       "      <td>25.0</td>\n",
       "      <td>P-2</td>\n",
       "    </tr>\n",
       "    <tr>\n",
       "      <th>lfu_g</th>\n",
       "      <td>6</td>\n",
       "      <td>24302</td>\n",
       "      <td>64.0</td>\n",
       "      <td>P-2</td>\n",
       "    </tr>\n",
       "    <tr>\n",
       "      <th>rr_l</th>\n",
       "      <td>6</td>\n",
       "      <td>24336</td>\n",
       "      <td>30.0</td>\n",
       "      <td>P-2</td>\n",
       "    </tr>\n",
       "    <tr>\n",
       "      <th>rr_g</th>\n",
       "      <td>6</td>\n",
       "      <td>24336</td>\n",
       "      <td>30.0</td>\n",
       "      <td>P-2</td>\n",
       "    </tr>\n",
       "    <tr>\n",
       "      <th>lru_l</th>\n",
       "      <td>5</td>\n",
       "      <td>22900</td>\n",
       "      <td>88.0</td>\n",
       "      <td>P-3</td>\n",
       "    </tr>\n",
       "    <tr>\n",
       "      <th>lru_g</th>\n",
       "      <td>3</td>\n",
       "      <td>22899</td>\n",
       "      <td>91.0</td>\n",
       "      <td>P-3</td>\n",
       "    </tr>\n",
       "    <tr>\n",
       "      <th>fifo_l</th>\n",
       "      <td>3</td>\n",
       "      <td>22934</td>\n",
       "      <td>56.0</td>\n",
       "      <td>P-3</td>\n",
       "    </tr>\n",
       "    <tr>\n",
       "      <th>fifo_g</th>\n",
       "      <td>3</td>\n",
       "      <td>22953</td>\n",
       "      <td>37.0</td>\n",
       "      <td>P-3</td>\n",
       "    </tr>\n",
       "    <tr>\n",
       "      <th>mru_l</th>\n",
       "      <td>5</td>\n",
       "      <td>22863</td>\n",
       "      <td>125.0</td>\n",
       "      <td>P-3</td>\n",
       "    </tr>\n",
       "    <tr>\n",
       "      <th>mru_g</th>\n",
       "      <td>6</td>\n",
       "      <td>22905</td>\n",
       "      <td>82.0</td>\n",
       "      <td>P-3</td>\n",
       "    </tr>\n",
       "    <tr>\n",
       "      <th>lfu_l</th>\n",
       "      <td>3</td>\n",
       "      <td>22881</td>\n",
       "      <td>109.0</td>\n",
       "      <td>P-3</td>\n",
       "    </tr>\n",
       "    <tr>\n",
       "      <th>lfu_g</th>\n",
       "      <td>1</td>\n",
       "      <td>22924</td>\n",
       "      <td>68.0</td>\n",
       "      <td>P-3</td>\n",
       "    </tr>\n",
       "    <tr>\n",
       "      <th>rr_l</th>\n",
       "      <td>4</td>\n",
       "      <td>22939</td>\n",
       "      <td>50.0</td>\n",
       "      <td>P-3</td>\n",
       "    </tr>\n",
       "    <tr>\n",
       "      <th>rr_g</th>\n",
       "      <td>4</td>\n",
       "      <td>22937</td>\n",
       "      <td>52.0</td>\n",
       "      <td>P-3</td>\n",
       "    </tr>\n",
       "    <tr>\n",
       "      <th>lru_l</th>\n",
       "      <td>2</td>\n",
       "      <td>17213</td>\n",
       "      <td>87.0</td>\n",
       "      <td>P-4</td>\n",
       "    </tr>\n",
       "    <tr>\n",
       "      <th>lru_g</th>\n",
       "      <td>1</td>\n",
       "      <td>17261</td>\n",
       "      <td>40.0</td>\n",
       "      <td>P-4</td>\n",
       "    </tr>\n",
       "    <tr>\n",
       "      <th>fifo_l</th>\n",
       "      <td>1</td>\n",
       "      <td>17268</td>\n",
       "      <td>33.0</td>\n",
       "      <td>P-4</td>\n",
       "    </tr>\n",
       "    <tr>\n",
       "      <th>fifo_g</th>\n",
       "      <td>1</td>\n",
       "      <td>17274</td>\n",
       "      <td>27.0</td>\n",
       "      <td>P-4</td>\n",
       "    </tr>\n",
       "    <tr>\n",
       "      <th>mru_l</th>\n",
       "      <td>2</td>\n",
       "      <td>17206</td>\n",
       "      <td>94.0</td>\n",
       "      <td>P-4</td>\n",
       "    </tr>\n",
       "    <tr>\n",
       "      <th>mru_g</th>\n",
       "      <td>1</td>\n",
       "      <td>17194</td>\n",
       "      <td>107.0</td>\n",
       "      <td>P-4</td>\n",
       "    </tr>\n",
       "    <tr>\n",
       "      <th>lfu_l</th>\n",
       "      <td>1</td>\n",
       "      <td>17262</td>\n",
       "      <td>39.0</td>\n",
       "      <td>P-4</td>\n",
       "    </tr>\n",
       "    <tr>\n",
       "      <th>lfu_g</th>\n",
       "      <td>1</td>\n",
       "      <td>17239</td>\n",
       "      <td>62.0</td>\n",
       "      <td>P-4</td>\n",
       "    </tr>\n",
       "    <tr>\n",
       "      <th>rr_l</th>\n",
       "      <td>1</td>\n",
       "      <td>17270</td>\n",
       "      <td>31.0</td>\n",
       "      <td>P-4</td>\n",
       "    </tr>\n",
       "    <tr>\n",
       "      <th>rr_g</th>\n",
       "      <td>1</td>\n",
       "      <td>17272</td>\n",
       "      <td>29.0</td>\n",
       "      <td>P-4</td>\n",
       "    </tr>\n",
       "  </tbody>\n",
       "</table>\n",
       "</div>"
      ],
      "text/plain": [
       "       Page Fault Page Hit Page Replace Process\n",
       "lru_l           7    19195          9.0     P-0\n",
       "lru_g           7    19164         40.0     P-0\n",
       "fifo_l          7    19180         24.0     P-0\n",
       "fifo_g          7    19190         14.0     P-0\n",
       "mru_l           7    19177         27.0     P-0\n",
       "mru_g           7    19201          3.0     P-0\n",
       "lfu_l           7    19148         56.0     P-0\n",
       "lfu_g           7    19139         65.0     P-0\n",
       "rr_l            7    19188         16.0     P-0\n",
       "rr_g            7    19183         21.0     P-0\n",
       "lru_l          10    27467          NaN     P-1\n",
       "lru_g          15    27417         45.0     P-1\n",
       "fifo_l         15    27434         28.0     P-1\n",
       "fifo_g         17    27439         21.0     P-1\n",
       "mru_l          10    27467          NaN     P-1\n",
       "mru_g          10    27467          NaN     P-1\n",
       "lfu_l          15    27439         23.0     P-1\n",
       "lfu_g          17    27402         58.0     P-1\n",
       "rr_l           17    27437         23.0     P-1\n",
       "rr_g           16    27436         25.0     P-1\n",
       "lru_l           5    24235        132.0     P-2\n",
       "lru_g           5    24313         54.0     P-2\n",
       "fifo_l          9    24338         25.0     P-2\n",
       "fifo_g          6    24340         26.0     P-2\n",
       "mru_l           6    24220        146.0     P-2\n",
       "mru_g           7    24203        162.0     P-2\n",
       "lfu_l           8    24339         25.0     P-2\n",
       "lfu_g           6    24302         64.0     P-2\n",
       "rr_l            6    24336         30.0     P-2\n",
       "rr_g            6    24336         30.0     P-2\n",
       "lru_l           5    22900         88.0     P-3\n",
       "lru_g           3    22899         91.0     P-3\n",
       "fifo_l          3    22934         56.0     P-3\n",
       "fifo_g          3    22953         37.0     P-3\n",
       "mru_l           5    22863        125.0     P-3\n",
       "mru_g           6    22905         82.0     P-3\n",
       "lfu_l           3    22881        109.0     P-3\n",
       "lfu_g           1    22924         68.0     P-3\n",
       "rr_l            4    22939         50.0     P-3\n",
       "rr_g            4    22937         52.0     P-3\n",
       "lru_l           2    17213         87.0     P-4\n",
       "lru_g           1    17261         40.0     P-4\n",
       "fifo_l          1    17268         33.0     P-4\n",
       "fifo_g          1    17274         27.0     P-4\n",
       "mru_l           2    17206         94.0     P-4\n",
       "mru_g           1    17194        107.0     P-4\n",
       "lfu_l           1    17262         39.0     P-4\n",
       "lfu_g           1    17239         62.0     P-4\n",
       "rr_l            1    17270         31.0     P-4\n",
       "rr_g            1    17272         29.0     P-4"
      ]
     },
     "execution_count": 652,
     "metadata": {},
     "output_type": "execute_result"
    }
   ],
   "source": [
    "df.T"
   ]
  },
  {
   "cell_type": "code",
   "execution_count": 653,
   "id": "339b64c7",
   "metadata": {},
   "outputs": [],
   "source": [
    "# df.to_csv(\"run-4.csv\")"
   ]
  },
  {
   "cell_type": "code",
   "execution_count": 654,
   "id": "68f411cb",
   "metadata": {},
   "outputs": [],
   "source": [
    "for i in range(NP):\n",
    "    infiles[i].close()"
   ]
  },
  {
   "cell_type": "code",
   "execution_count": 655,
   "id": "9e7df3d4",
   "metadata": {},
   "outputs": [],
   "source": [
    "freq = {0: {0: 19, 1: 818}, 1: {0: 0, 6: 0, 4: 0, 2: 0, 3: 0, 1: 0, 5: 0}, 2: {14: 1199, 3: 0, 0: 0, 6: 0, 7: 0, 10: 0, 13: 0, 8: 0, 5: 0, 12: 0, 2: 0, 1: 0}, 3: {5: 0, 8: 0, 3: 2441, 1: 0, 2: 1498, 4: 0, 0: 0, 6: 0}, 4: {7: 0, 4: 0, 11: 1306, 2: 0, 1: 9, 5: 0, 9: 0, 3: 0, 6: 0, 8: 0, 0: 0, 10: 0}}"
   ]
  },
  {
   "cell_type": "code",
   "execution_count": 656,
   "id": "b13f96b4",
   "metadata": {},
   "outputs": [
    {
     "data": {
      "text/plain": [
       "{0: {0: 19, 1: 818},\n",
       " 1: {0: 0, 6: 0, 4: 0, 2: 0, 3: 0, 1: 0, 5: 0},\n",
       " 2: {14: 1199,\n",
       "  3: 0,\n",
       "  0: 0,\n",
       "  6: 0,\n",
       "  7: 0,\n",
       "  10: 0,\n",
       "  13: 0,\n",
       "  8: 0,\n",
       "  5: 0,\n",
       "  12: 0,\n",
       "  2: 0,\n",
       "  1: 0},\n",
       " 3: {5: 0, 8: 0, 3: 2441, 1: 0, 2: 1498, 4: 0, 0: 0, 6: 0},\n",
       " 4: {7: 0,\n",
       "  4: 0,\n",
       "  11: 1306,\n",
       "  2: 0,\n",
       "  1: 9,\n",
       "  5: 0,\n",
       "  9: 0,\n",
       "  3: 0,\n",
       "  6: 0,\n",
       "  8: 0,\n",
       "  0: 0,\n",
       "  10: 0}}"
      ]
     },
     "execution_count": 656,
     "metadata": {},
     "output_type": "execute_result"
    }
   ],
   "source": [
    "freq"
   ]
  },
  {
   "cell_type": "code",
   "execution_count": 657,
   "id": "5e68f2e0",
   "metadata": {},
   "outputs": [
    {
     "data": {
      "text/plain": [
       "array([[2, 6],\n",
       "       [2, 4],\n",
       "       [4, 9],\n",
       "       [2, 3],\n",
       "       [2, 5],\n",
       "       [3, 4],\n",
       "       [2, 1],\n",
       "       [3, 7]])"
      ]
     },
     "execution_count": 657,
     "metadata": {},
     "output_type": "execute_result"
    }
   ],
   "source": [
    "phys_mem_lfu_l = np.array([[2, 6],\n",
    "       [2, 4],\n",
    "       [4, 9],\n",
    "       [2, 3],\n",
    "       [2, 5],\n",
    "       [3, 4],\n",
    "       [2, 1],\n",
    "       [3, 7]])\n",
    "phys_mem_lfu_l"
   ]
  },
  {
   "cell_type": "code",
   "execution_count": 658,
   "id": "6442cb3e",
   "metadata": {},
   "outputs": [],
   "source": [
    "replace_p = freq[2]"
   ]
  },
  {
   "cell_type": "code",
   "execution_count": 659,
   "id": "274b827e",
   "metadata": {},
   "outputs": [
    {
     "data": {
      "text/plain": [
       "{14: 1199, 3: 0, 0: 0, 6: 0, 7: 0, 10: 0, 13: 0, 8: 0, 5: 0, 12: 0, 2: 0, 1: 0}"
      ]
     },
     "execution_count": 659,
     "metadata": {},
     "output_type": "execute_result"
    }
   ],
   "source": [
    "replace_p"
   ]
  },
  {
   "cell_type": "code",
   "execution_count": 660,
   "id": "22be86ed",
   "metadata": {},
   "outputs": [
    {
     "data": {
      "text/plain": [
       "array([[2, 6],\n",
       "       [2, 4],\n",
       "       [2, 3],\n",
       "       [2, 5],\n",
       "       [2, 1]])"
      ]
     },
     "execution_count": 660,
     "metadata": {},
     "output_type": "execute_result"
    }
   ],
   "source": [
    "process_mem = phys_mem_lfu_l[phys_mem_lfu_l[:,0]==2]\n",
    "process_mem"
   ]
  },
  {
   "cell_type": "code",
   "execution_count": 661,
   "id": "5d66ddf4",
   "metadata": {},
   "outputs": [],
   "source": [
    "dicts = {}\n",
    "for i in process_mem[:,1]:\n",
    "    if i in replace_p:\n",
    "        dicts[i]=replace_p[i]"
   ]
  },
  {
   "cell_type": "code",
   "execution_count": 662,
   "id": "26f93f92",
   "metadata": {},
   "outputs": [
    {
     "data": {
      "text/plain": [
       "{6: 0, 3: 0, 5: 0, 1: 0}"
      ]
     },
     "execution_count": 662,
     "metadata": {},
     "output_type": "execute_result"
    }
   ],
   "source": [
    "dicts"
   ]
  },
  {
   "cell_type": "code",
   "execution_count": 663,
   "id": "6195d242",
   "metadata": {},
   "outputs": [],
   "source": [
    "dicts = {}\n",
    "for i in set(phys_mem_lfu_l[:,0]):\n",
    "    temp_dict = {}\n",
    "    for i,j in freq[i].items():\n",
    "        if j !=0:\n",
    "            temp_dict[i]=j\n",
    "    dicts[i] = temp_dict"
   ]
  },
  {
   "cell_type": "code",
   "execution_count": 664,
   "id": "f42a84c1",
   "metadata": {},
   "outputs": [
    {
     "data": {
      "text/plain": [
       "{1: {14: 1199}, 6: {3: 2441, 2: 1498}, 10: {11: 1306, 1: 9}}"
      ]
     },
     "execution_count": 664,
     "metadata": {},
     "output_type": "execute_result"
    }
   ],
   "source": [
    "dicts"
   ]
  },
  {
   "cell_type": "code",
   "execution_count": 665,
   "id": "85db3b3c",
   "metadata": {},
   "outputs": [
    {
     "name": "stdout",
     "output_type": "stream",
     "text": [
      "{14: 1199}\n",
      "{3: 2441, 2: 1498}\n",
      "{11: 1306, 1: 9}\n"
     ]
    }
   ],
   "source": [
    "max_val = 999999999\n",
    "for i,j in dicts.items():\n",
    "    print(j)\n",
    "          "
   ]
  },
  {
   "cell_type": "code",
   "execution_count": 666,
   "id": "1caab0e8",
   "metadata": {},
   "outputs": [],
   "source": [
    "tmp = {}\n",
    "tmp[2]=2441\n",
    "tmp[3] = 1498"
   ]
  },
  {
   "cell_type": "code",
   "execution_count": 667,
   "id": "b91f6dca",
   "metadata": {},
   "outputs": [
    {
     "data": {
      "text/plain": [
       "{2: 2441, 3: 1498}"
      ]
     },
     "execution_count": 667,
     "metadata": {},
     "output_type": "execute_result"
    }
   ],
   "source": [
    "tmp"
   ]
  },
  {
   "cell_type": "code",
   "execution_count": 668,
   "id": "fa5582dd",
   "metadata": {},
   "outputs": [],
   "source": [
    "key_min = min(tmp.keys(), key=(lambda k: tmp[k]))"
   ]
  },
  {
   "cell_type": "code",
   "execution_count": 669,
   "id": "27b10159",
   "metadata": {},
   "outputs": [
    {
     "data": {
      "text/plain": [
       "3"
      ]
     },
     "execution_count": 669,
     "metadata": {},
     "output_type": "execute_result"
    }
   ],
   "source": [
    "key_min"
   ]
  },
  {
   "cell_type": "code",
   "execution_count": null,
   "id": "9f2a9be8",
   "metadata": {},
   "outputs": [],
   "source": []
  },
  {
   "cell_type": "code",
   "execution_count": null,
   "id": "3ff3a974",
   "metadata": {},
   "outputs": [],
   "source": []
  },
  {
   "cell_type": "code",
   "execution_count": null,
   "id": "c5949d6a",
   "metadata": {},
   "outputs": [],
   "source": []
  },
  {
   "cell_type": "code",
   "execution_count": 670,
   "id": "36586a87",
   "metadata": {},
   "outputs": [
    {
     "data": {
      "text/plain": [
       "array([[9, 3],\n",
       "       [2, 5],\n",
       "       [4, 1],\n",
       "       [5, 1],\n",
       "       [1, 4],\n",
       "       [6, 5],\n",
       "       [3, 4],\n",
       "       [2, 2]])"
      ]
     },
     "execution_count": 670,
     "metadata": {},
     "output_type": "execute_result"
    }
   ],
   "source": [
    "np.random.randint(1,10,(8,2))"
   ]
  },
  {
   "cell_type": "code",
   "execution_count": 671,
   "id": "f0d697f5",
   "metadata": {},
   "outputs": [
    {
     "data": {
      "text/plain": [
       "{0: {0: 1548, 7: 1029, 5: 2259, 2: 3707, 1: 7173, 4: 4, 6: 0, 3: 5},\n",
       " 1: {5: 6900,\n",
       "  4: 8680,\n",
       "  3: 4090,\n",
       "  7: 3931,\n",
       "  0: 3743,\n",
       "  1: 32,\n",
       "  2: 33,\n",
       "  6: 4,\n",
       "  9: 3,\n",
       "  10: 1},\n",
       " 2: {7: 1, 8: 2206, 2: 4309, 3: 6787, 0: 8, 4: 3133, 5: 3920, 1: 28, 6: 3},\n",
       " 3: {9: 3,\n",
       "  10: 6001,\n",
       "  0: 2508,\n",
       "  3: 3171,\n",
       "  7: 4676,\n",
       "  5: 3619,\n",
       "  1: 10,\n",
       "  8: 1,\n",
       "  2: 17,\n",
       "  4: 6,\n",
       "  6: 0},\n",
       " 4: {6: 1004, 4: 7555, 0: 2775, 2: 0, 3: 0, 1: 0}}"
      ]
     },
     "execution_count": 671,
     "metadata": {},
     "output_type": "execute_result"
    }
   ],
   "source": [
    "page_frequency"
   ]
  },
  {
   "cell_type": "code",
   "execution_count": 672,
   "id": "3bd5b878",
   "metadata": {},
   "outputs": [
    {
     "data": {
      "text/plain": [
       "array([[2, 6],\n",
       "       [2, 4],\n",
       "       [4, 9],\n",
       "       [2, 3],\n",
       "       [2, 5],\n",
       "       [3, 4],\n",
       "       [2, 1],\n",
       "       [3, 7]])"
      ]
     },
     "execution_count": 672,
     "metadata": {},
     "output_type": "execute_result"
    }
   ],
   "source": [
    "phys_mem_lfu_l"
   ]
  },
  {
   "cell_type": "code",
   "execution_count": 673,
   "id": "308dcc44",
   "metadata": {},
   "outputs": [
    {
     "data": {
      "text/plain": [
       "{0: {0: 1548, 7: 1029, 5: 2259, 2: 3707, 1: 7173, 4: 4, 6: 0, 3: 5},\n",
       " 1: {5: 6900,\n",
       "  4: 8680,\n",
       "  3: 4090,\n",
       "  7: 3931,\n",
       "  0: 3743,\n",
       "  1: 32,\n",
       "  2: 33,\n",
       "  6: 4,\n",
       "  9: 3,\n",
       "  10: 1},\n",
       " 2: {7: 1, 8: 2206, 2: 4309, 3: 6787, 0: 8, 4: 3133, 5: 3920, 1: 28, 6: 3},\n",
       " 3: {9: 3,\n",
       "  10: 6001,\n",
       "  0: 2508,\n",
       "  3: 3171,\n",
       "  7: 4676,\n",
       "  5: 3619,\n",
       "  1: 10,\n",
       "  8: 1,\n",
       "  2: 17,\n",
       "  4: 6,\n",
       "  6: 0},\n",
       " 4: {6: 1004, 4: 7555, 0: 2775, 2: 0, 3: 0, 1: 0}}"
      ]
     },
     "execution_count": 673,
     "metadata": {},
     "output_type": "execute_result"
    }
   ],
   "source": [
    "page_frequency"
   ]
  },
  {
   "cell_type": "code",
   "execution_count": null,
   "id": "e440bbe8",
   "metadata": {},
   "outputs": [],
   "source": []
  },
  {
   "cell_type": "code",
   "execution_count": null,
   "id": "929e98f8",
   "metadata": {},
   "outputs": [],
   "source": []
  },
  {
   "cell_type": "code",
   "execution_count": null,
   "id": "f0acf640",
   "metadata": {},
   "outputs": [],
   "source": []
  },
  {
   "cell_type": "code",
   "execution_count": null,
   "id": "fd07f385",
   "metadata": {},
   "outputs": [],
   "source": []
  },
  {
   "cell_type": "code",
   "execution_count": null,
   "id": "3023e1a2",
   "metadata": {},
   "outputs": [],
   "source": []
  },
  {
   "cell_type": "code",
   "execution_count": null,
   "id": "be08dd87",
   "metadata": {},
   "outputs": [],
   "source": []
  },
  {
   "cell_type": "code",
   "execution_count": null,
   "id": "7b8aac1b",
   "metadata": {},
   "outputs": [],
   "source": []
  },
  {
   "cell_type": "code",
   "execution_count": null,
   "id": "8f5ca2ac",
   "metadata": {},
   "outputs": [],
   "source": []
  },
  {
   "cell_type": "code",
   "execution_count": null,
   "id": "ac70b494",
   "metadata": {},
   "outputs": [],
   "source": []
  },
  {
   "cell_type": "code",
   "execution_count": null,
   "id": "92209e03",
   "metadata": {},
   "outputs": [],
   "source": []
  },
  {
   "cell_type": "code",
   "execution_count": null,
   "id": "4c81249e",
   "metadata": {},
   "outputs": [],
   "source": []
  },
  {
   "cell_type": "code",
   "execution_count": null,
   "id": "b439852c",
   "metadata": {},
   "outputs": [],
   "source": []
  },
  {
   "cell_type": "code",
   "execution_count": null,
   "id": "14f91147",
   "metadata": {},
   "outputs": [],
   "source": []
  }
 ],
 "metadata": {
  "kernelspec": {
   "display_name": "Python 3",
   "language": "python",
   "name": "python3"
  },
  "language_info": {
   "codemirror_mode": {
    "name": "ipython",
    "version": 3
   },
   "file_extension": ".py",
   "mimetype": "text/x-python",
   "name": "python",
   "nbconvert_exporter": "python",
   "pygments_lexer": "ipython3",
   "version": "3.9.5"
  }
 },
 "nbformat": 4,
 "nbformat_minor": 5
}
