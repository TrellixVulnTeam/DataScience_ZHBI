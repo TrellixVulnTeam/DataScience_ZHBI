{
 "cells": [
  {
   "cell_type": "code",
   "execution_count": 579,
   "metadata": {},
   "outputs": [],
   "source": [
    "import numpy as np\n",
    "import math\n",
    "import os\n",
    "import random\n",
    "import queue\n",
    "import matplotlib.pyplot as pl\n",
    "from IPython.display import Image\n",
    "from queue import Queue\n",
    "import seaborn as sns\n",
    "import time"
   ]
  },
  {
   "cell_type": "markdown",
   "metadata": {},
   "source": [
    "# First Come First Serve Scheduling Algorithm"
   ]
  },
  {
   "cell_type": "code",
   "execution_count": 610,
   "metadata": {},
   "outputs": [
    {
     "name": "stdout",
     "output_type": "stream",
     "text": [
      " Process   Arrival_t   Burst_t   Completion_t Waiting_t.  TurnA_t  \n",
      "  -----     -------    -------   ------------  -------- \n",
      "    P1         0          2          2          0          2     \n",
      "    P2         1          2          4          1          3     \n",
      "    P3         5          3          8          0          3     \n",
      "    P4         6          4          12         2          6     \n",
      "    P5         20         5          25         0          5     \n",
      "    P6         22         9          34         3          12    \n"
     ]
    }
   ],
   "source": [
    "# def find waiting_time()\n",
    "\n",
    "def turn_around_time(ct,arrival,tat):\n",
    "    for i in range(len(ct)):\n",
    "        tat[i]=ct[i]-arrival[i]\n",
    "#Formula for Turn Around Time.\n",
    "        \n",
    "def waiting_time(tat,burst,wt):\n",
    "    for i in range(len(tat)):\n",
    "        wt[i]=tat[i]-burst[i]\n",
    "#This is formula for waiting time of each process.\n",
    "\n",
    "def find_burst_time(burst,burst_,n):\n",
    "    burst_[0]=0\n",
    "    for i in range(1,n):\n",
    "        burst_[i]=burst[i-1]\n",
    "#This is formula for calculating burst time of each process.\n",
    "\n",
    "def find_completion_time(processes,process,arrival,burst,ct,n):\n",
    "    availabele_time=0 #This is the total time that takes place\n",
    "#From the begining when a process starts to keep track of how much time\n",
    "# was spent for particular process. This is done to check for CPU idle if any.\n",
    "    \n",
    "    availabele_time+=burst[0]\n",
    "#This is when first process comes to execute than it will update the available\n",
    "#time. Burst time is the time taken to execute particular process.\n",
    "\n",
    "    ct[0]+=burst[0]\n",
    "#This is completion time which is updated for the first process\n",
    "\n",
    "    processes.append(process[0])\n",
    "#It will append the first process that is executed into completion list.\n",
    "    \n",
    "    for i in range(1,n):\n",
    "#Loop continues from second process as we have already stored in list.\n",
    "\n",
    "        if arrival[i]>availabele_time:\n",
    "#This is where we are checking if the next arrival is more than the available\n",
    "#time and if it is greater than previous time, it will make cpu idle for\n",
    "#That time decided by remaining....\n",
    "            remaining=arrival[i]-ct[i-1]\n",
    "    #Only if next process arrival time is more than previously executed time.\n",
    "            ct[i]=ct[i-1]+burst[i]+remaining\n",
    "    #Completion time for another process is sum of ct of previous process+\n",
    "    #bt of current process + remaining i.e idle time\n",
    "    \n",
    "            processes.append('CPU-idle:'+str(remaining))\n",
    "            processes.append(process[i])\n",
    "    #This appends current process and also idle time.\n",
    "            availabele_time+=remaining\n",
    "        else:\n",
    "            \n",
    "#If the next arrival time is less than the previously executed avilable\n",
    "#time, than update current completion time.\n",
    "            ct[i]=ct[i-1]+burst[i]\n",
    "            processes.append(process[i])\n",
    "    #Update the process list with the current process.\n",
    "        availabele_time+=burst[i]\n",
    "    #Update also available time after executing current process.\n",
    "\n",
    "\n",
    "# def find turn_around_time()\n",
    "\n",
    "\n",
    "\n",
    "\n",
    "def calculate_all(process,arrival,burst):\n",
    "    n=len(process) #Length of processes list\n",
    "    burst_=[0]*n #Creating empty list of burst processes\n",
    "    ct=[0]*n     #Creating empty list of completion time for processes\n",
    "    processes=[] #Creating processes to execute list.\n",
    "    find_burst_time(burst,burst_,n)  #This calculates Burst time\n",
    "#     print(burst_)\n",
    "    tat=[0]*n\n",
    "    wt=[0]*n\n",
    "    \n",
    "    find_completion_time(processes,process,arrival,burst,ct,n)\n",
    "    turn_around_time(ct,arrival,tat)\n",
    "    waiting_time(tat,burst,wt)\n",
    "#     print(processes)\n",
    "    \n",
    "    print('{:^10s} {:^10s} {:^10s} {:^10s} {:^10s} {:^10s}'.format('Process','Arrival_t','Burst_t', 'Completion_t', 'Waiting_t.','TurnA_t'))\n",
    "    print('{:^10s} {:^10s} {:^10s} {:^10s} {:^10s}'.format('-----', '-------', '-------','------------', '--------','--------'))\n",
    "    for i in range(n):\n",
    "        print('{:^10s} {:^10d} {:^10d} {:^10d} {:^10d} {:^10d}'.format(process[i],arrival[i],burst[i],ct[i],wt[i],tat[i]))\n",
    "\n",
    "    \n",
    "\n",
    "\n",
    "\n",
    "process=['P1','P2','P3','P4','P5','P6']\n",
    "arrival=[0,1,5,6,20,22]\n",
    "burst=[2,2,3,4,5,9]\n",
    "\n",
    "calculate_all(process,arrival,burst) "
   ]
  },
  {
   "cell_type": "raw",
   "metadata": {},
   "source": [
    "process generate tousand strings. each string has two numbers\n",
    "\n",
    "\n",
    "1st number is going to be 0 or 1 0 is short SC  1 is schedule 2 is IO\n",
    "2nd number is logical addess eg. 3941 \n",
    "if short system call, no interruption and checks for address 3941\n",
    "if long system call, scheduler comes into action.\n",
    "keep a time slice. global variable. 0,1 initially\n",
    "\n",
    "Process state. ready state waiting state etc.\n",
    "\n"
   ]
  },
  {
   "cell_type": "code",
   "execution_count": 581,
   "metadata": {},
   "outputs": [],
   "source": [
    "# https://ibm.webex.com/meet/sjandhya"
   ]
  },
  {
   "cell_type": "code",
   "execution_count": 582,
   "metadata": {},
   "outputs": [
    {
     "data": {
      "text/plain": [
       "array([[-10, -10],\n",
       "       [-10, -10],\n",
       "       [-10, -10],\n",
       "       [-10, -10],\n",
       "       [-10, -10],\n",
       "       [-10, -10],\n",
       "       [-10, -10],\n",
       "       [-10, -10],\n",
       "       [-10, -10],\n",
       "       [-10, -10],\n",
       "       [-10, -10],\n",
       "       [-10, -10],\n",
       "       [-10, -10],\n",
       "       [-10, -10],\n",
       "       [-10, -10],\n",
       "       [-10, -10]])"
      ]
     },
     "execution_count": 582,
     "metadata": {},
     "output_type": "execute_result"
    }
   ],
   "source": [
    "NP=5 #Number of processes\n",
    "PAGE_SIZE=4096 #Page size in bytes\n",
    "F=16 #Number of Frames\n",
    "INVALID = -10\n",
    "PID=0\n",
    "FRAME = 1 #Used for indexing into frames\n",
    "pr_timing = np.zeros(F).astype('int32')\n",
    "\n",
    "COMPLETED=10\n",
    "INCOMPLETE=20\n",
    "\n",
    "\n",
    "IN_MEMORY = 1\n",
    "MEM_FAULT = 50\n",
    "PAGE_REPLACE = 100\n",
    "FIFO_GLOBAL=10\n",
    "\n",
    "phys_mem = np.full((F,2), INVALID).astype('int32') #Initial Physical memory addresses\n",
    "phys_mem"
   ]
  },
  {
   "cell_type": "code",
   "execution_count": 583,
   "metadata": {},
   "outputs": [
    {
     "name": "stdout",
     "output_type": "stream",
     "text": [
      "[0, 4, 3, 1]\n"
     ]
    },
    {
     "data": {
      "text/plain": [
       "<queue.Queue at 0x2270864f688>"
      ]
     },
     "execution_count": 583,
     "metadata": {},
     "output_type": "execute_result"
    }
   ],
   "source": [
    "def init_proc_queue():\n",
    "    pq=queue.Queue(maxsize=NP) #Create a queue of size of number of processes\n",
    "    proc_queue=list(set((NP*np.random.random(20)).astype('int32'))) #creating a process queue\n",
    "    random.shuffle(proc_queue) # Shuffle the list\n",
    "    print(proc_queue)\n",
    "    for pr in proc_queue:\n",
    "        pq.put_nowait(pr)     #Put all process in queue\n",
    "    return pq\n",
    "init_proc_queue()"
   ]
  },
  {
   "cell_type": "code",
   "execution_count": 584,
   "metadata": {},
   "outputs": [
    {
     "data": {
      "text/plain": [
       "([4, 5, 2, 1, 0, 6, 6], 17344)"
      ]
     },
     "execution_count": 584,
     "metadata": {},
     "output_type": "execute_result"
    }
   ],
   "source": [
    "def correct_refs(alist,cent,maxpg):\n",
    "    if cent!=0:\n",
    "        pgnum=int(cent/PAGE_SIZE)\n",
    "        lh=(pgnum+1)*PAGE_SIZE-1\n",
    "        ll=pgnum*PAGE_SIZE\n",
    "    else:\n",
    "        lh=maxpg*PAGE_SIZE\n",
    "        ll=0\n",
    "        \n",
    "    for i in range(alist.shape[0]):\n",
    "        if alist[i]>=lh:\n",
    "            alist[i]=lh-1\n",
    "        if alist[i]<ll:\n",
    "            alist[i]=ll+1\n",
    "    return alist\n",
    "\n",
    "def sim_process(M,sigma,outfile,lfrac=0.9):\n",
    "    cur_page=int(M*np.random.random()) #Generating random start page\n",
    "    cur_locale=round(PAGE_SIZE*(cur_page+0.5)) #Generating location of current page\n",
    "    sum_refs=0\n",
    "    list_locales=list()\n",
    "    for count in range(M):\n",
    "        num_refs=int(512+(PAGE_SIZE-512)*np.random.random())\n",
    "        sum_refs+=num_refs\n",
    "        list_locales.append(cur_page)\n",
    "        num_loc=round(lfrac*num_refs)\n",
    "        aref_list=np.random.normal(cur_locale,sigma*300+100,num_loc)\n",
    "        aref_list=correct_refs(aref_list,cur_locale,M)\n",
    "        aref_list=aref_list.astype('int32')\n",
    "        cur_page=int(M*np.random.random())\n",
    "        cur_locale=round(PAGE_SIZE*(cur_page+0.5))\n",
    "        num_trans=round((1-lfrac)*num_refs)\n",
    "        tref_list=np.random.random(num_trans)*cur_locale\n",
    "        tref_list=correct_refs(tref_list,0,M)\n",
    "        tref_list=tref_list.astype('int32')\n",
    "        np.append(aref_list,tref_list).tofile(outfile,sep='\\n')\n",
    "        outfile.write('\\n')\n",
    "    return list_locales,sum_refs\n",
    "        \n",
    "      \n",
    "    print('Current Page',cur_page)\n",
    "    print('Current Location',cur_locale)\n",
    "    print('List of Locations',list_locales)\n",
    "    \n",
    "npg = int(np.random.normal(10,2.5))\n",
    "nsig = int(5 * np.random.random())    \n",
    "fname = 'AR_' + '{:02d}'.format(0) + '.txt'\n",
    "fname=open(fname,'w')\n",
    "sim_process(npg,nsig,fname)"
   ]
  },
  {
   "cell_type": "code",
   "execution_count": 585,
   "metadata": {},
   "outputs": [
    {
     "data": {
      "text/plain": [
       "3175"
      ]
     },
     "execution_count": 585,
     "metadata": {},
     "output_type": "execute_result"
    }
   ],
   "source": [
    "int(512+(PAGE_SIZE-512)*np.random.random())"
   ]
  },
  {
   "cell_type": "code",
   "execution_count": 586,
   "metadata": {},
   "outputs": [
    {
     "data": {
      "text/plain": [
       "[<matplotlib.lines.Line2D at 0x22708d33c88>]"
      ]
     },
     "execution_count": 586,
     "metadata": {},
     "output_type": "execute_result"
    },
    {
     "data": {
      "image/png": "[encoded data removed]",
      "text/plain": [
       "<Figure size 432x288 with 1 Axes>"
      ]
     },
     "metadata": {
      "needs_background": "light"
     },
     "output_type": "display_data"
    }
   ],
   "source": [
    "file=np.loadtxt('AR_00.txt')\n",
    "pl.plot(file)"
   ]
  },
  {
   "cell_type": "code",
   "execution_count": 587,
   "metadata": {},
   "outputs": [
    {
     "name": "stdout",
     "output_type": "stream",
     "text": [
      "Process 0 requires 14 pages and has a quality 3\n",
      "[8, 4, 10, 7, 8, 5, 11, 6, 0, 3, 5, 10, 13, 7] 31917\n",
      "written process 0 to  AR_00.txt\n",
      "Process 1 requires 11 pages and has a quality 1\n",
      "[2, 3, 3, 6, 7, 4, 7, 5, 2, 0, 10] 28914\n",
      "written process 1 to  AR_01.txt\n",
      "Process 2 requires 11 pages and has a quality 2\n",
      "[6, 0, 1, 5, 1, 7, 4, 1, 8, 8, 6] 20289\n",
      "written process 2 to  AR_02.txt\n",
      "Process 3 requires 8 pages and has a quality 3\n",
      "[6, 5, 4, 1, 2, 7, 3, 0] 15615\n",
      "written process 3 to  AR_03.txt\n",
      "Process 4 requires 11 pages and has a quality 0\n",
      "[5, 7, 6, 10, 6, 6, 4, 5, 4, 10, 7] 26611\n",
      "written process 4 to  AR_04.txt\n"
     ]
    }
   ],
   "source": [
    "pr_size=np.zeros(NP,dtype='int32')\n",
    "\n",
    "for p in range(NP):\n",
    "    fname='AR_'+'{:02d}'.format(p)+'.txt'\n",
    "    op=open(fname,'w')\n",
    "    npg=int(np.random.normal(10,2.5))\n",
    "    nsig=int(5*np.random.random())\n",
    "    print(f'Process {p} requires {npg} pages and has a quality {nsig}')\n",
    "    pg_seq,pr_size[p]=sim_process(npg,nsig,op)\n",
    "    print(pg_seq,pr_size[p])\n",
    "    op.write('\\n')\n",
    "    op.close()\n",
    "    print('written process',p,'to ',fname)"
   ]
  },
  {
   "cell_type": "code",
   "execution_count": 588,
   "metadata": {
    "scrolled": false
   },
   "outputs": [
    {
     "name": "stdout",
     "output_type": "stream",
     "text": [
      "31917\n"
     ]
    },
    {
     "data": {
      "image/png": "[encoded data removed]",
      "text/plain": [
       "<Figure size 432x288 with 1 Axes>"
      ]
     },
     "metadata": {
      "needs_background": "light"
     },
     "output_type": "display_data"
    },
    {
     "name": "stdout",
     "output_type": "stream",
     "text": [
      "28913\n"
     ]
    },
    {
     "data": {
      "image/png": "[encoded data removed]",
      "text/plain": [
       "<Figure size 432x288 with 1 Axes>"
      ]
     },
     "metadata": {
      "needs_background": "light"
     },
     "output_type": "display_data"
    },
    {
     "name": "stdout",
     "output_type": "stream",
     "text": [
      "20288\n"
     ]
    },
    {
     "data": {
      "image/png": "[encoded data removed]",
      "text/plain": [
       "<Figure size 432x288 with 1 Axes>"
      ]
     },
     "metadata": {
      "needs_background": "light"
     },
     "output_type": "display_data"
    },
    {
     "name": "stdout",
     "output_type": "stream",
     "text": [
      "15615\n"
     ]
    },
    {
     "data": {
      "image/png": "[encoded data removed]",
      "text/plain": [
       "<Figure size 432x288 with 1 Axes>"
      ]
     },
     "metadata": {
      "needs_background": "light"
     },
     "output_type": "display_data"
    },
    {
     "name": "stdout",
     "output_type": "stream",
     "text": [
      "26610\n"
     ]
    },
    {
     "data": {
      "image/png": "[encoded data removed]",
      "text/plain": [
       "<Figure size 432x288 with 1 Axes>"
      ]
     },
     "metadata": {
      "needs_background": "light"
     },
     "output_type": "display_data"
    }
   ],
   "source": [
    "for p in range(NP):\n",
    "    fname='AR_'+'{:02d}'.format(p)+'.txt'\n",
    "    temp=np.loadtxt(fname)\n",
    "    print(len(temp))\n",
    "    pl.plot(range(len(temp)),temp)\n",
    "    pl.title(fname)\n",
    "    pl.show()"
   ]
  },
  {
   "cell_type": "code",
   "execution_count": 589,
   "metadata": {},
   "outputs": [],
   "source": [
    "def init_phys_mem():\n",
    "    for i in range(F):           \n",
    "        phys_mem[i,PID]=INVALID      #Initialize physical memory PID with empty\n",
    "        phys_mem[i,FRAME]=INVALID    #Initialize physical memory frame with empty\n",
    "        \n",
    "init_phys_mem()"
   ]
  },
  {
   "cell_type": "code",
   "execution_count": 590,
   "metadata": {},
   "outputs": [
    {
     "name": "stdout",
     "output_type": "stream",
     "text": [
      "  Frame     PID   Page No.\n",
      "  -----     ---   --------\n",
      "Free Frame:  0\n",
      "Free Frame:  1\n",
      "Free Frame:  2\n",
      "Free Frame:  3\n",
      "Free Frame:  4\n",
      "Free Frame:  5\n",
      "Free Frame:  6\n",
      "Free Frame:  7\n",
      "Free Frame:  8\n",
      "Free Frame:  9\n",
      "Free Frame:  10\n",
      "Free Frame:  11\n",
      "Free Frame:  12\n",
      "Free Frame:  13\n",
      "Free Frame:  14\n",
      "Free Frame:  15\n"
     ]
    }
   ],
   "source": [
    "def update_phys_mem(pid):\n",
    "    for i in range(F):                     \n",
    "        if phys_mem[i,PID]==pid:\n",
    "            #Execute the particular process  in that frame and make memory\n",
    "            #available for other processes.\n",
    "            \n",
    "            phys_mem[i,PID]=INVALID        \n",
    "            phys_mem[i,FRAME]=INVALID      \n",
    "\n",
    "            \n",
    "def memory_manager(infile,outfile,pid):\n",
    "    num_adr=512+int(4096*np.random.random())\n",
    "    idx=0 #counter to increase and read addresses.\n",
    "    \n",
    "    while idx<num_adr:\n",
    "        add_ref=infile.readline().strip() #This will load all the address line by line\n",
    "                                        #Also considered as virtual addresses.\n",
    "        if add_ref=='':\n",
    "            break #Finished reading address references\n",
    "            \n",
    "        add_ref=int(add_ref)  #Address reference\n",
    "        pg_num=int(add_ref/PAGE_SIZE) #Page number to keep track of\n",
    "        pg_offset=add_ref%PAGE_SIZE #Page offset.\n",
    "        pg_base,pg_fault=get_pageframe(pg_num,pid) #Get page offset and page fault if occured \n",
    "                                                    #eslse initialize page for memory\n",
    "        \n",
    "        if pg_base>=0:\n",
    "            phys_addr=pg_base+pg_offset            #Generating a physical address by adding both.\n",
    "            outfile.write(str(add_ref)+','+str(phys_addr)+','\n",
    "                         +str(pg_fault)+'\\n')      #Copy logical address, physical address along \n",
    "                                                    #with page fault status in out file.\n",
    "            \n",
    "            if pg_fault==0:                #If returned value is 0 i.e load from memory.\n",
    "                pr_timing[pid]+=IN_MEMORY\n",
    "                #This is responsible for executing and storing time that \n",
    "                #is taken if no page fault occured\n",
    "                \n",
    "                \n",
    "            elif pg_fault==1:              #IF returned value is 1 i.e memory fault occured\n",
    "                pr_timing[pid]+=MEM_FAULT\n",
    "                #If page fault occured it added time that is taken for process\n",
    "                # execute\n",
    "                \n",
    "                \n",
    "            else:\n",
    "                pr_timing[pid]+=PAGE_REPLACE #Page replacement algo being run.\n",
    "                #This time is responsible for replacing page and executing\n",
    "                #particular process.\n",
    "                \n",
    "        else:\n",
    "            print(idx)\n",
    "            return INVALID\n",
    "        idx+=1\n",
    "    \n",
    "    if idx>=num_adr:\n",
    "        return INCOMPLETE\n",
    "    \n",
    "    return COMPLETED\n",
    "            \n",
    "\n",
    "def get_pageframe(pnum, pr) :\n",
    "    fr_num = 0  #Initialize frame number to 0\n",
    "    while fr_num < F : #Loop until counter reaches to all frames\n",
    "        if phys_mem[fr_num,PID] == pr and phys_mem[fr_num,FRAME] == pnum : #if process is found in a frame, stop loop\n",
    "            break                                                          #and keep track of frame number\n",
    "        else :\n",
    "            fr_num += 1  #Increase counter for frame\n",
    "\n",
    "    if fr_num < F : #If the searched frame number is less than the available frames,\n",
    "        return fr_num * PAGE_SIZE, 0 #Return frame number x 4096 i.e page base with page fault 0 i.e fault didnt occur.\n",
    "                                    # Required page is in main memory and execute process.\n",
    "    fr_num = gen_pagefault(pnum, pr) #Since frame number was greater than frame size so generate page fault.\n",
    "                                    #So search for the frame and try to load in physical memory\n",
    "    \n",
    "    if fr_num>=0:  #check for the frame number returned from pagefault and return page fault occured once.\n",
    "        return fr_num*PAGE_SIZE,1\n",
    "    \n",
    "    fr_num=page_replace(pnum,pr) #Running page replacement algorithm. Since page has to be \n",
    "                                #Loaded into physical memory.\n",
    "    \n",
    "    if fr_num>=0: \n",
    "        return fr_num*PAGE_SIZE,2 #This is to replace the page into main memory\n",
    "    \n",
    "    return INVALID,0 #If the required frame is not found, return Invalid\n",
    "    \n",
    "    \n",
    "    \n",
    "def gen_pagefault(pgnum, pr) :\n",
    "    fr_num = 0 #Initialize frame number to 0\n",
    "    while fr_num < F and phys_mem[fr_num,FRAME] >= 0 : #Loop untill frame number is not less than Frame number\n",
    "        #and physical memory's frame number,Frame index >=0 i.e valid. It is searching for a page\n",
    "        #inside main memory.  This is to check whether hit or fault is occured or not.\n",
    "            \n",
    "        fr_num += 1                                    # Increment frame number.\n",
    "    \n",
    "    if fr_num >= F :  #If frame number is greater than Frame Size than its Invalid i.e it is not present in memory.\n",
    "        return INVALID\n",
    "    \n",
    "    #If fault didnt occur than  update physical memory and execute the process\n",
    "    phys_mem[fr_num,FRAME] = pgnum     #Update physical memory with current page number\n",
    "    phys_mem[fr_num,PID] = pr          #update physical memory with current process id\n",
    "    \n",
    "    return fr_num                      #return frame number in which Hit was occured.\n",
    "        \n",
    "\n",
    "  \n",
    "def get_oldest_frame(pr,algo_type):\n",
    "    global oldest_frame              #Access to the variable global_frame assigned\n",
    "    if algo_type==FIFO_GLOBAL:      #IF algorithm is FIFO GLOBAL ,\n",
    "        rv=oldest_frame            #temporary variable to store value of oldest_frame\n",
    "        oldest_frame+=1           #Increase the value of oldest frame by 1 as it is accessed once\n",
    "        if oldest_frame==F:      # If oldest frame reaches to max, again make it 0 to start\n",
    "            oldest_frame=0       #So as to form a cycle and make frame available to all process\n",
    "        return rv\n",
    "    return INVALID\n",
    "    \n",
    "\n",
    "\n",
    "\n",
    "def page_replace(pgnum,pr,algo=FIFO_GLOBAL):\n",
    "    current_frame=get_oldest_frame(pr,algo)  #Get track of previous frame so as to update the last\n",
    "                                            #Frame in which process was executed and replace that \n",
    "                                            #with the new process to execute.\n",
    "    phys_mem[current_frame,PID]=pr          #Update physical memory and execute process with the \n",
    "                                            #Current process ID.\n",
    "    phys_mem[current_frame,FRAME]=pgnum     #Update physical memory and execute process with the \n",
    "                                            #Current page number.\n",
    "    return current_frame                    #Return current frame in which page was loaded.\n",
    "\n",
    "    \n",
    "def print_phys_mem():\n",
    "    print('{:^10s} {:^6s} {:^6s}'.format('Frame', 'PID', 'Page No.'))\n",
    "    print('{:^10s} {:^6s} {:^6s}'.format('-----', '---', '--------'))\n",
    "    for i in range(F):                 #Run for loop for 16 times and print status of all\n",
    "        if phys_mem[i,PID]!=INVALID:\n",
    "            print('{:^10d} {:^6d} {:^6d}'.format(i,phys_mem[i,PID],phys_mem[i,FRAME]))\n",
    "        else:\n",
    "            print('Free Frame: ',i)\n",
    "    \n",
    "\n",
    "    \n",
    "def ready_queue(q):  #Trying to read processes from ready queue\n",
    "    while True:\n",
    "        try:\n",
    "            yield q.get_nowait()    #Try to get the process from queue\n",
    "        except queue.Empty:\n",
    "            break                   #If the queue is empty, Break.\n",
    "    \n",
    "print_phys_mem()\n"
   ]
  },
  {
   "cell_type": "code",
   "execution_count": 591,
   "metadata": {
    "scrolled": false
   },
   "outputs": [
    {
     "name": "stdout",
     "output_type": "stream",
     "text": [
      "[4, 2, 1, 3]\n",
      "Reading Process from AR_00.txt\n",
      "Reading Process from AR_01.txt\n",
      "Reading Process from AR_02.txt\n",
      "Reading Process from AR_03.txt\n",
      "Reading Process from AR_04.txt\n",
      "Process 3 (Size:15615 Bytes) Completed;        removing from Queue\n",
      "Slow down by 12.974703810438681\n",
      "  Frame     PID   Page No.\n",
      "  -----     ---   --------\n",
      "    0        2      8   \n",
      "    1        2      7   \n",
      "    2        2      5   \n",
      "    3        2      2   \n",
      "    4        2      3   \n",
      "    5        1      3   \n",
      "    6        1      5   \n",
      "    7        1      0   \n",
      "    8        1      4   \n",
      "    9        1      6   \n",
      "    10       1      1   \n",
      "    11       1      2   \n",
      "Free Frame:  12\n",
      "    13       2      1   \n",
      "    14       2      0   \n",
      "    15       2      6   \n",
      "Process 2 (Size:20289 Bytes) Completed;        removing from Queue\n",
      "Slow down by 17.802750258760906\n",
      "  Frame     PID   Page No.\n",
      "  -----     ---   --------\n",
      "    0        4      3   \n",
      "    1        4      0   \n",
      "Free Frame:  2\n",
      "Free Frame:  3\n",
      "Free Frame:  4\n",
      "Free Frame:  5\n",
      "Free Frame:  6\n",
      "Free Frame:  7\n",
      "Free Frame:  8\n",
      "Free Frame:  9\n",
      "Free Frame:  10\n",
      "    11       1      2   \n",
      "    12       4      6   \n",
      "    13       4      4   \n",
      "    14       4      2   \n",
      "    15       4      1   \n",
      "Process 1 (Size:28914 Bytes) Completed;        removing from Queue\n",
      "Slow down by 12.13253095386318\n",
      "  Frame     PID   Page No.\n",
      "  -----     ---   --------\n",
      "    0        4      4   \n",
      "    1        4      1   \n",
      "    2        4      0   \n",
      "    3        4      3   \n",
      "Free Frame:  4\n",
      "Free Frame:  5\n",
      "Free Frame:  6\n",
      "Free Frame:  7\n",
      "Free Frame:  8\n",
      "Free Frame:  9\n",
      "Free Frame:  10\n",
      "Free Frame:  11\n",
      "Free Frame:  12\n",
      "Free Frame:  13\n",
      "Free Frame:  14\n",
      "    15       4      7   \n",
      "Process 4 (Size:26611 Bytes) Completed;        removing from Queue\n",
      "Slow down by 18.210514448912104\n",
      "  Frame     PID   Page No.\n",
      "  -----     ---   --------\n",
      "Free Frame:  0\n",
      "Free Frame:  1\n",
      "Free Frame:  2\n",
      "Free Frame:  3\n",
      "Free Frame:  4\n",
      "Free Frame:  5\n",
      "Free Frame:  6\n",
      "Free Frame:  7\n",
      "Free Frame:  8\n",
      "Free Frame:  9\n",
      "Free Frame:  10\n",
      "Free Frame:  11\n",
      "Free Frame:  12\n",
      "Free Frame:  13\n",
      "Free Frame:  14\n",
      "Free Frame:  15\n"
     ]
    }
   ],
   "source": [
    "init_phys_mem()\n",
    "oldest_frame=0\n",
    "pr_que=init_proc_queue()\n",
    "pr_timing=np.zeros(F).astype('int32')\n",
    "IN_MEMORY=1\n",
    "MEM_FAULT=50\n",
    "PAGE_REPLACE=100\n",
    "\n",
    "infiles=list()\n",
    "outfile=list()\n",
    "\n",
    "for i in range(NP):\n",
    "    fname = 'AR_{:02d}.txt'.format(i)\n",
    "    outname = 'AR_{:02}_out.txt'.format(i)\n",
    "    if os.access(fname,os.R_OK):\n",
    "        print(f'Reading Process from {fname}')\n",
    "        infiles.append(open(fname,'r'))\n",
    "    else:\n",
    "        print(f'Cannot open {fname} for reading')\n",
    "    outfile.append(open(outname,'w'))\n",
    "for pr in ready_queue(pr_que):\n",
    "    rv=memory_manager(infiles[pr],outfile[pr],pr)\n",
    "    if rv==INVALID:\n",
    "        print('Memory overflow error')\n",
    "        break\n",
    "    if rv==INCOMPLETE:\n",
    "        pr_que.put_nowait(pr)\n",
    "    else:\n",
    "        print(f'Process {pr} (Size:{pr_size[pr]} Bytes) Completed;\\\n",
    "        removing from Queue')\n",
    "        slow=((pr_timing[pr]-pr_size[pr])*100.0/pr_size[pr])\n",
    "        print(f'Slow down by {slow}')\n",
    "        update_phys_mem(pr)\n",
    "        print_phys_mem()"
   ]
  },
  {
   "cell_type": "code",
   "execution_count": 592,
   "metadata": {},
   "outputs": [],
   "source": [
    "for i in range(NP) :\n",
    "    infiles[i].close()\n",
    "    outfile[i].close()"
   ]
  },
  {
   "cell_type": "code",
   "execution_count": 593,
   "metadata": {},
   "outputs": [],
   "source": [
    "# Command to execute \n",
    "# Using Windows OS command \n",
    "cmd = 'notepad'\n",
    "  \n",
    "# Using os.system() method \n",
    "# os.system(cmd)"
   ]
  },
  {
   "cell_type": "markdown",
   "metadata": {},
   "source": [
    "# How System Call Works?\n",
    "Here are steps for System Call:"
   ]
  },
  {
   "cell_type": "code",
   "execution_count": 594,
   "metadata": {},
   "outputs": [
    {
     "data": {
      "text/html": [
       "<img src=\"https://www.guru99.com/images/1/121119_0451_SystemCalli2.png\"/>"
      ],
      "text/plain": [
       "<IPython.core.display.Image object>"
      ]
     },
     "execution_count": 594,
     "metadata": {},
     "output_type": "execute_result"
    }
   ],
   "source": [
    "Image(url='https://www.guru99.com/images/1/121119_0451_SystemCalli2.png')"
   ]
  },
  {
   "cell_type": "code",
   "execution_count": 595,
   "metadata": {},
   "outputs": [
    {
     "data": {
      "text/html": [
       "<img src=\"https://www.guru99.com/images/1/121119_0451_SystemCalli3.png\"/>"
      ],
      "text/plain": [
       "<IPython.core.display.Image object>"
      ]
     },
     "execution_count": 595,
     "metadata": {},
     "output_type": "execute_result"
    }
   ],
   "source": [
    "Image(url='https://www.guru99.com/images/1/121119_0451_SystemCalli3.png')"
   ]
  },
  {
   "cell_type": "markdown",
   "metadata": {},
   "source": [
    "Step 1) The processes executed in the user mode till the time a system call interrupts it.\n",
    "\n",
    "Step 2) After that, the system call is executed in the kernel-mode on a priority basis.\n",
    "\n",
    "Step 3) Once system call execution is over, control returns to the user mode.,\n",
    "\n",
    "Step 4) The execution of user processes resumed in Kernel mode."
   ]
  },
  {
   "cell_type": "markdown",
   "metadata": {},
   "source": [
    "Why do you need System Calls in OS?\n",
    "Following are situations which need system calls in OS:\n",
    "\n",
    "Reading and writing from files demand system calls.\n",
    "If a file system wants to create or delete files, system calls are required.\n",
    "System calls are used for the creation and management of new processes.\n",
    "Network connections need system calls for sending and receiving packets.\n",
    "Access to hardware devices like scanner, printer, need a system call."
   ]
  },
  {
   "cell_type": "markdown",
   "metadata": {},
   "source": [
    "# Types of System calls\n"
   ]
  },
  {
   "cell_type": "raw",
   "metadata": {},
   "source": [
    "Here are the five types of system calls used in OS:\n",
    "\n",
    "Process Control \n",
    "File Management \n",
    "Device Management \n",
    "Information Maintenance \n",
    "Communications"
   ]
  },
  {
   "cell_type": "code",
   "execution_count": 596,
   "metadata": {},
   "outputs": [
    {
     "data": {
      "text/html": [
       "<img src=\"https://www.guru99.com/images/1/121119_0451_SystemCalli4.png\"/>"
      ],
      "text/plain": [
       "<IPython.core.display.Image object>"
      ]
     },
     "execution_count": 596,
     "metadata": {},
     "output_type": "execute_result"
    }
   ],
   "source": [
    "Image(url='https://www.guru99.com/images/1/121119_0451_SystemCalli4.png')"
   ]
  },
  {
   "cell_type": "markdown",
   "metadata": {},
   "source": [
    "## Process Control"
   ]
  },
  {
   "cell_type": "raw",
   "metadata": {},
   "source": [
    "This system calls perform the task of process creation, process termination, etc.\n",
    "\n",
    "Functions:\n",
    "\n",
    "End and Abort\n",
    "Load and Execute\n",
    "Create Process and Terminate Process\n",
    "Wait and Signed Event\n",
    "Allocate and free memory"
   ]
  },
  {
   "cell_type": "markdown",
   "metadata": {},
   "source": [
    "## File Management"
   ]
  },
  {
   "cell_type": "raw",
   "metadata": {},
   "source": [
    "File management system calls handle file manipulation jobs like creating a file, reading, and writing, etc.\n",
    "\n",
    "Functions:\n",
    "\n",
    "Create a file\n",
    "Delete file\n",
    "Open and close file\n",
    "Read, write, and reposition\n",
    "Get and set file attributes"
   ]
  },
  {
   "cell_type": "markdown",
   "metadata": {},
   "source": [
    "## Device Management"
   ]
  },
  {
   "cell_type": "raw",
   "metadata": {},
   "source": [
    "Device management does the job of device manipulation like reading from device buffers, writing into device buffers, etc.\n",
    "\n",
    "Functions\n",
    "\n",
    "Request and release device\n",
    "Logically attach/ detach devices\n",
    "Get and Set device attributes"
   ]
  },
  {
   "cell_type": "markdown",
   "metadata": {},
   "source": [
    "## Information Maintenance"
   ]
  },
  {
   "cell_type": "raw",
   "metadata": {},
   "source": [
    "It handles information and its transfer between the OS and the user program.\n",
    "\n",
    "Functions:\n",
    "\n",
    "Get or set time and date\n",
    "Get process and device attributes"
   ]
  },
  {
   "cell_type": "markdown",
   "metadata": {},
   "source": [
    "## Communication:"
   ]
  },
  {
   "cell_type": "raw",
   "metadata": {},
   "source": [
    "These types of system calls are specially used for interprocess communications.\n",
    "\n",
    "Functions:\n",
    "\n",
    "Create, delete communications connections\n",
    "Send, receive message\n",
    "Help OS to transfer status information\n",
    "Attach or detach remote devices"
   ]
  },
  {
   "cell_type": "markdown",
   "metadata": {},
   "source": [
    "## Rules for passing Parameters for System Call"
   ]
  },
  {
   "cell_type": "raw",
   "metadata": {},
   "source": [
    "Here are general common rules for passing parameters to the System Call:\n",
    "\n",
    "Parameters should be pushed on or popped off the stack by the operating system.\n",
    "Parameters can be passed in registers.\n",
    "When there are more parameters than registers, it should be stored in a block, and the block address should be passed as a parameter to a register."
   ]
  },
  {
   "cell_type": "markdown",
   "metadata": {},
   "source": [
    "# Important System Calls Used in OS"
   ]
  },
  {
   "cell_type": "markdown",
   "metadata": {},
   "source": [
    "### wait()"
   ]
  },
  {
   "cell_type": "raw",
   "metadata": {},
   "source": [
    "In some systems, a process needs to wait for another process to complete its execution. This type of situation occurs when a parent process creates a child process, and the execution of the parent process remains suspended until its child process executes.\n",
    "\n",
    "The suspension of the parent process automatically occurs with a wait() system call. When the child process ends execution, the control moves back to the parent process."
   ]
  },
  {
   "cell_type": "markdown",
   "metadata": {},
   "source": [
    "### fork()"
   ]
  },
  {
   "cell_type": "raw",
   "metadata": {},
   "source": [
    "Processes use this system call to create processes that are a copy of themselves. With the help of this system Call parent process creates a child process, and the execution of the parent process will be suspended till the child process executes.\n"
   ]
  },
  {
   "cell_type": "markdown",
   "metadata": {},
   "source": [
    "### exec()"
   ]
  },
  {
   "cell_type": "raw",
   "metadata": {},
   "source": [
    "This system call runs when an executable file in the context of an already running process that replaces the older executable file. However, the original process identifier remains as a new process is not built, but stack, data, head, data, etc. are replaced by the new process."
   ]
  },
  {
   "cell_type": "markdown",
   "metadata": {},
   "source": [
    "### kill():"
   ]
  },
  {
   "cell_type": "raw",
   "metadata": {},
   "source": [
    "The kill() system call is used by OS to send a termination signal to a process that urges the process to exit. However, a kill system call does not necessarily mean killing the process and can have various meanings."
   ]
  },
  {
   "cell_type": "markdown",
   "metadata": {},
   "source": [
    "### exit():"
   ]
  },
  {
   "cell_type": "raw",
   "metadata": {},
   "source": [
    "The exit() system call is used to terminate program execution. Specially in the multi-threaded environment, this call defines that the thread execution is complete. The OS reclaims resources that were used by the process after the use of exit() system call."
   ]
  },
  {
   "cell_type": "code",
   "execution_count": 597,
   "metadata": {},
   "outputs": [
    {
     "data": {
      "image/png": "[encoded data removed]",
      "text/plain": [
       "<IPython.core.display.Image object>"
      ]
     },
     "execution_count": 597,
     "metadata": {},
     "output_type": "execute_result"
    }
   ],
   "source": [
    "Image(filename='summary.png')"
   ]
  },
  {
   "cell_type": "markdown",
   "metadata": {},
   "source": [
    "### Program to open notepad using a system call"
   ]
  },
  {
   "cell_type": "raw",
   "metadata": {},
   "source": [
    "command='notepad'\n",
    "os.system(command)"
   ]
  },
  {
   "cell_type": "raw",
   "metadata": {},
   "source": [
    "convert text into random numbers"
   ]
  },
  {
   "cell_type": "code",
   "execution_count": 598,
   "metadata": {},
   "outputs": [],
   "source": [
    "command='notepad'"
   ]
  },
  {
   "cell_type": "code",
   "execution_count": 599,
   "metadata": {},
   "outputs": [
    {
     "name": "stdout",
     "output_type": "stream",
     "text": [
      "Process notepad.txt requires 11 pages and has a quality 0\n",
      "[10, 0, 6, 7, 10, 4, 5, 1, 7, 4, 6] 24346\n",
      "written process 4 to  notepad.txt\n"
     ]
    }
   ],
   "source": [
    "fname=command+'.txt'\n",
    "op=open(fname,'w')\n",
    "npg=int(np.random.normal(10,2.5))\n",
    "nsig=int(5*np.random.random())\n",
    "print(f'Process {fname} requires {npg} pages and has a quality {nsig}')\n",
    "pg_seq,pr_size[p]=sim_process(npg,nsig,op)\n",
    "print(pg_seq,pr_size[p])\n",
    "op.write('\\n')\n",
    "op.close()\n",
    "print('written process',p,'to ',fname)"
   ]
  },
  {
   "cell_type": "code",
   "execution_count": 600,
   "metadata": {},
   "outputs": [
    {
     "name": "stdout",
     "output_type": "stream",
     "text": [
      "20\n"
     ]
    }
   ],
   "source": [
    "outfile=open('notepad_out.txt','w')\n",
    "rv=memory_manager(open('notepad.txt','r'),outfile,10)\n",
    "outfile.close()\n",
    "print(rv)"
   ]
  },
  {
   "cell_type": "code",
   "execution_count": 601,
   "metadata": {},
   "outputs": [
    {
     "data": {
      "text/plain": [
       "3399"
      ]
     },
     "execution_count": 601,
     "metadata": {},
     "output_type": "execute_result"
    }
   ],
   "source": [
    "512 + int(4096 * np.random.random())"
   ]
  },
  {
   "cell_type": "code",
   "execution_count": 602,
   "metadata": {},
   "outputs": [],
   "source": [
    "# os.system('notepad')"
   ]
  },
  {
   "cell_type": "code",
   "execution_count": 603,
   "metadata": {},
   "outputs": [
    {
     "name": "stdout",
     "output_type": "stream",
     "text": [
      "[97, 98, 99, 100, 101, 102, 103, 104, 105, 106, 107, 108, 109, 110, 111, 112, 113, 114, 115, 116, 117, 118, 119, 120, 121, 122]\n"
     ]
    },
    {
     "data": {
      "text/plain": [
       "array([['ktljyr', 17, 12, 0],\n",
       "       ['tywz', 23, 13, 1],\n",
       "       ['vkexetdh', 80, 1, 0],\n",
       "       ['tjnzgehv', 93, 42, 0],\n",
       "       ['ckp', 74, 4, 0],\n",
       "       ['qjvuynavy', 56, 37, 2],\n",
       "       ['rvv', 71, 5, 0],\n",
       "       ['jxpstfi', 30, 5, 2],\n",
       "       ['ogfpmf', 89, 15, 0],\n",
       "       ['zmmccfdf', 48, 29, 0]], dtype=object)"
      ]
     },
     "execution_count": 603,
     "metadata": {},
     "output_type": "execute_result"
    }
   ],
   "source": [
    "#Creating some random strings that are considered as instrucions to be\n",
    "#executed. \n",
    "#0 indicates short system call i.e it executes properly.\n",
    "#1 indicates long system call where scheduler comes into action\n",
    "#2 indicates IO system call where process goes into wait state \n",
    "\n",
    "letters=list('abcdefghijklmnopqrstuvwxyz')\n",
    "letters=[ord(i) for i in letters]\n",
    "print(letters)\n",
    "\n",
    "temp0=np.array([[''.join([chr(i) for i in np.random.choice(letters,np.random.randint(3,10))]),np.random.randint(1,100),np.random.randint(1,50),np.random.randint(0,1)] for i in range(800)],dtype='O')\n",
    "temp1=np.array([[''.join([chr(i) for i in np.random.choice(letters,np.random.randint(3,10))]),np.random.randint(1,100),np.random.randint(1,50),np.random.randint(1,3)] for i in range(200)],dtype='O')\n",
    "temp=np.append(temp0,temp1,axis=0)\n",
    "np.random.shuffle(temp)\n",
    "temp[:10]\n",
    "\n",
    "# 1st param is process id\n",
    "# 2nd param is arrival time\n",
    "# 3rd param is burst time\n",
    "# 4th param is unique id to recognize type of system call"
   ]
  },
  {
   "cell_type": "code",
   "execution_count": null,
   "metadata": {},
   "outputs": [],
   "source": []
  },
  {
   "cell_type": "code",
   "execution_count": 604,
   "metadata": {},
   "outputs": [
    {
     "name": "stdout",
     "output_type": "stream",
     "text": [
      "      Process        Arrival_t   Burst_t    Sys_call \n",
      "     ----------      ---------- ---------- ----------\n",
      "       ktljyr            17         12         0     \n",
      "        tywz             23         13         1     \n",
      "      vkexetdh           80         1          0     \n",
      "      tjnzgehv           93         42         0     \n",
      "        ckp              74         4          0     \n"
     ]
    }
   ],
   "source": [
    "print('{:^20s} {:^10s} {:^10s} {:^10s}'.format('Process','Arrival_t','Burst_t','Sys_call'))\n",
    "print('{:^20s} {:^10s} {:^10s} {:^10s}'.format('----------','----------','----------','----------'))\n",
    "for i in temp[:5]:\n",
    "    print('{:^20s} {:^10d} {:^10d} {:^10d}'.format(i[0],i[1],i[2],i[3]))\n"
   ]
  },
  {
   "cell_type": "code",
   "execution_count": 605,
   "metadata": {},
   "outputs": [
    {
     "data": {
      "image/png": "[encoded data removed]",
      "text/plain": [
       "<Figure size 432x288 with 1 Axes>"
      ]
     },
     "metadata": {
      "needs_background": "light"
     },
     "output_type": "display_data"
    }
   ],
   "source": [
    "pl.title('Distribution of System calls')\n",
    "sns.countplot(np.array(temp)[:,3])\n",
    "pl.xticks(range(3),['Short SC','Long SC','IO Call'])\n",
    "pl.show()"
   ]
  },
  {
   "cell_type": "code",
   "execution_count": 606,
   "metadata": {},
   "outputs": [
    {
     "name": "stdout",
     "output_type": "stream",
     "text": [
      "There are 1000 unique processes\n"
     ]
    }
   ],
   "source": [
    "print(f\"There are {np.unique(np.array(temp)[:,0],return_counts=True)[1].sum()} unique processes\")"
   ]
  },
  {
   "cell_type": "code",
   "execution_count": null,
   "metadata": {},
   "outputs": [],
   "source": []
  },
  {
   "cell_type": "code",
   "execution_count": 607,
   "metadata": {
    "scrolled": false
   },
   "outputs": [
    {
     "data": {
      "application/javascript": [
       "\n",
       "        if (window._pyforest_update_imports_cell) { window._pyforest_update_imports_cell('import statistics\\nimport numpy as np\\nimport sys\\nimport pandas as pd\\nimport seaborn as sns\\nimport sklearn\\nimport spacy\\nimport re\\nimport datetime as dt\\nfrom sklearn import svm'); }\n",
       "    "
      ],
      "text/plain": [
       "<IPython.core.display.Javascript object>"
      ]
     },
     "metadata": {},
     "output_type": "display_data"
    },
    {
     "name": "stdout",
     "output_type": "stream",
     "text": [
      "--------------------------------------------------------------------\n",
      "Execute process ktljyr\n",
      "--------------------------------------------------------------------\n",
      "Process is Long SC so tywz added to queue\n",
      "['tywz']\n",
      "--------------------------------------------------------------------\n",
      "Execute process vkexetdh\n",
      "--------------------------------------------------------------------\n",
      "Execute process tjnzgehv\n",
      "--------------------------------------------------------------------\n",
      "Execute process ckp\n",
      "--------------------------------------------------------------------\n",
      "Process qjvuynavy is an IO call so made it wait\n",
      "Waiting Queue ['qjvuynavy']\n",
      "--------------------------------------------------------------------\n",
      "Execute process rvv\n",
      "--------------------------------------------------------------------\n",
      "Process jxpstfi is an IO call so made it wait\n",
      "Waiting Queue ['qjvuynavy', 'jxpstfi']\n",
      "--------------------------------------------------------------------\n",
      "Execute process ogfpmf\n",
      "--------------------------------------------------------------------\n",
      "Execute process zmmccfdf\n",
      "--------------------------------------------------------------------\n",
      "Execute process ghz\n",
      "--------------------------------------------------------------------\n",
      "Execute process qbdxxkct\n",
      "--------------------------------------------------------------------\n",
      "Execute process luqwtyc\n",
      "--------------------------------------------------------------------\n",
      "Execute process uzwepaj\n",
      "--------------------------------------------------------------------\n",
      "Execute process nnburqoji\n",
      "--------------------------------------------------------------------\n",
      "Execute process embzvocnl\n",
      "--------------------------------------------------------------------\n",
      "Execute process nlltlndic\n",
      "--------------------------------------------------------------------\n",
      "Process psy is an IO call so made it wait\n",
      "Waiting Queue ['qjvuynavy', 'jxpstfi', 'psy']\n",
      "--------------------------------------------------------------------\n",
      "Execute process japgwgay\n",
      "--------------------------------------------------------------------\n",
      "Execute process tpvxt\n",
      "Executing processes those were in ready state\n",
      "--------------------------------------------------------------------\n",
      "Execute process tywz\n",
      "Executig processes those were in wait state\n",
      "--------------------------------------------------------------------\n",
      "Execute process qjvuynavy\n",
      "--------------------------------------------------------------------\n",
      "Execute process jxpstfi\n",
      "--------------------------------------------------------------------\n",
      "Execute process psy\n"
     ]
    }
   ],
   "source": [
    "#Here instead of passing whole process as a list,passing index of that process would be a better idea\n",
    "\n",
    "def fix_burst(process):\n",
    "    df=pd.DataFrame(process,columns=['Process','Arrival_t','Burst_t','Sys_call'])\n",
    "    tmp=df['Burst_t'].values.copy()\n",
    "    for i in range(len(tmp)):\n",
    "        if df['Sys_call'].values[i]==0 and tmp[i]>20:\n",
    "            tmp[i]=int(tmp[i]/np.random.randint(4,9))\n",
    "    df['Burst_t']=tmp\n",
    "    return df.values\n",
    "\n",
    "\n",
    "def readyQueue(pr):\n",
    "    print('--------------------------------------------------------------------')\n",
    "    print(f\"Process is Long SC so {pr} added to queue\")\n",
    "    #Process after initialized goes to ready Queue which is ready for execution.\n",
    "    ready_state.append(pr)\n",
    "    print(ready_state)\n",
    "\n",
    "    \n",
    "    \n",
    "def waitState(pr):\n",
    "    print('--------------------------------------------------------------------')\n",
    "    print(f'Process {pr} is an IO call so made it wait')\n",
    "    #Here IO call has occured and process goes to wait_state.\n",
    "    wait_state.append(pr)\n",
    "    print('Waiting Queue',wait_state)\n",
    "    \n",
    "def returnProcess(process):\n",
    "    return process.pop(0)\n",
    "\n",
    "def run_process(data):\n",
    "    print('--------------------------------------------------------------------')\n",
    "    print(f\"Execute process {data}\")\n",
    "    \n",
    "def sim(procsSS):\n",
    "    for i in range(20):\n",
    "        if procsSS[i][3]==0:\n",
    "            run_process(procsSS[i][0])\n",
    "            time.sleep(0.4)\n",
    "        if procsSS[i][3]==1:\n",
    "            readyQueue(procsSS[i][0])\n",
    "            time.sleep(0.4)\n",
    "        if procsSS[i][3]==2:\n",
    "            waitState(procsSS[i][0])\n",
    "            time.sleep(0.4)\n",
    "    print(\"Executing processes those were in ready state\")\n",
    "    while len(ready_state)!=0:\n",
    "        p=returnProcess(ready_state)\n",
    "        run_process(p)\n",
    "        time.sleep(0.4)\n",
    "    print(\"Executig processes those were in wait state\")\n",
    "    while len(wait_state)!=0:\n",
    "        p=returnProcess(wait_state)\n",
    "        run_process(p)\n",
    "        time.sleep(0.4)\n",
    "        \n",
    "        \n",
    "process=[]\n",
    "wait_state=[]\n",
    "ready_state=[]\n",
    "procsSS=fix_burst(temp)\n",
    "sim(procsSS)"
   ]
  },
  {
   "cell_type": "code",
   "execution_count": 608,
   "metadata": {},
   "outputs": [
    {
     "data": {
      "text/plain": [
       "array([['ktljyr', 17, 12, 0],\n",
       "       ['tywz', 23, 13, 1],\n",
       "       ['vkexetdh', 80, 1, 0],\n",
       "       ['tjnzgehv', 93, 6, 0],\n",
       "       ['ckp', 74, 4, 0],\n",
       "       ['qjvuynavy', 56, 37, 2],\n",
       "       ['rvv', 71, 5, 0],\n",
       "       ['jxpstfi', 30, 5, 2],\n",
       "       ['ogfpmf', 89, 15, 0],\n",
       "       ['zmmccfdf', 48, 4, 0],\n",
       "       ['ghz', 17, 4, 0],\n",
       "       ['qbdxxkct', 76, 3, 0],\n",
       "       ['luqwtyc', 18, 3, 0],\n",
       "       ['uzwepaj', 40, 4, 0],\n",
       "       ['nnburqoji', 82, 7, 0],\n",
       "       ['embzvocnl', 41, 3, 0],\n",
       "       ['nlltlndic', 61, 6, 0],\n",
       "       ['psy', 75, 22, 2],\n",
       "       ['japgwgay', 82, 3, 0],\n",
       "       ['tpvxt', 16, 6, 0]], dtype=object)"
      ]
     },
     "execution_count": 608,
     "metadata": {},
     "output_type": "execute_result"
    }
   ],
   "source": [
    "procsSS[:20]"
   ]
  },
  {
   "cell_type": "code",
   "execution_count": 611,
   "metadata": {},
   "outputs": [
    {
     "name": "stdout",
     "output_type": "stream",
     "text": [
      " Process   Arrival_t   Burst_t   Completion_t Waiting_t.  TurnA_t  \n",
      "  -----     -------    -------   ------------  -------- \n",
      "  ktljyr       17         12         12        -17         -5    \n",
      "   tywz        23         13         36         0          13    \n",
      " vkexetdh      80         1          81         0          1     \n",
      " tjnzgehv      93         6          99         0          6     \n",
      "   ckp         74         4         103         25         29    \n",
      "qjvuynavy      56         37        140         47         84    \n",
      "   rvv         71         5         145         69         74    \n",
      " jxpstfi       30         5         150        115        120    \n",
      "  ogfpmf       89         15        165         61         76    \n",
      " zmmccfdf      48         4         169        117        121    \n",
      "   ghz         17         4         173        152        156    \n",
      " qbdxxkct      76         3         176         97        100    \n",
      " luqwtyc       18         3         179        158        161    \n",
      " uzwepaj       40         4         183        139        143    \n",
      "nnburqoji      82         7         190        101        108    \n",
      "embzvocnl      41         3         193        149        152    \n",
      "nlltlndic      61         6         199        132        138    \n",
      "   psy         75         22        221        124        146    \n",
      " japgwgay      82         3         224        139        142    \n",
      "  tpvxt        16         6         230        208        214    \n",
      "mdgzjxpeu      50         3         233        180        183    \n",
      "   ypx         43         4         237        190        194    \n",
      "   his         40         7         244        197        204    \n",
      "ibjxubqgk      46         7         251        198        205    \n",
      "  oetih        77         19        270        174        193    \n",
      " onugvey       37         48        318        233        281    \n",
      "  fxdvej       59         4         322        259        263    \n",
      " kkkcaxg       91         3         325        231        234    \n",
      " jphdutm       14         39        364        311        350    \n",
      " vrljpbb       91         3         367        273        276    \n",
      "  ltdph        41         6         373        326        332    \n",
      " wpzqoqkl      99         5         378        274        279    \n",
      " kgathst       61         4         382        317        321    \n",
      "   yedm        81         16        398        301        317    \n",
      "  xiszv        19         43        441        379        422    \n",
      "  tkojz        60         4         445        381        385    \n",
      "   yidl        36         3         448        409        412    \n",
      "  wiwqeg       75         7         455        373        380    \n",
      "   blb         55         40        495        400        440    \n",
      "   okn         38         5         500        457        462    \n",
      "   uci         88         2         502        412        414    \n",
      "   ewl         95         5         507        407        412    \n",
      "jfjzkwspp      22         43        550        485        528    \n",
      " mevmkohb      20         9         559        530        539    \n",
      "   lse         69         7         566        490        497    \n",
      " sqtazns       45         6         572        521        527    \n",
      "   ioy         40         5         577        532        537    \n",
      " dprnftze      42         5         582        535        540    \n",
      " nidyeue       59         11        593        523        534    \n",
      "   cjra        25         2         595        568        570    \n",
      "   fbz         21         1         596        574        575    \n",
      "   ebim        68         5         601        528        533    \n",
      "   wkkf        81         11        612        520        531    \n",
      "   ntax        11         15        627        601        616    \n",
      " lyhzwah       54         3         630        573        576    \n",
      "  bzctc        11         31        661        619        650    \n",
      " ehuchhf       70         8         669        591        599    \n",
      "   zdrb        90         12        681        579        591    \n",
      "   pipo        71         5         686        610        615    \n",
      "hgcatorag      34         4         690        652        656    \n",
      " cymwbhcr      54         37        727        636        673    \n",
      "  qnqlw        65         8         735        662        670    \n",
      "   xgj         5          6         741        730        736    \n",
      "  zyuye        15         33        774        726        759    \n",
      "yipewilvl      45         45        819        729        774    \n",
      " fheornhp      69         23        842        750        773    \n",
      "   tou         91         20        862        751        771    \n",
      " zorrinn       22         10        872        840        850    \n",
      " eccmrrm       82         5         877        790        795    \n",
      " ygbpxlkx      49         20        897        828        848    \n",
      "   qfo         2          13        910        895        908    \n",
      "  wvcba        95         2         912        815        817    \n",
      "xyltpnhqx      21         6         918        891        897    \n",
      " cumhche       56         5         923        862        867    \n",
      "   lrev        9          14        937        914        928    \n",
      " atofmafc      84         5         942        853        858    \n",
      " kklwaji       4          29        971        938        967    \n",
      "   nadz        32         11        982        939        950    \n",
      "  wqyzw        81         26        1008       901        927    \n",
      "  ewmhtm       9          7         1015       999        1006   \n",
      "   nwci        36         5         1020       979        984    \n",
      " nnyubujm      57         22        1042       963        985    \n",
      " ukywnqvy      42         5         1047       1000       1005   \n",
      " akbyhtwk      11         5         1052       1036       1041   \n",
      "  trroyf       15         45        1097       1037       1082   \n",
      "   kpas        63         5         1102       1034       1039   \n",
      "  kksrv        47         7         1109       1055       1062   \n",
      "mftkeizyd      11         7         1116       1098       1105   \n",
      "jtreeecsu      53         6         1122       1063       1069   \n",
      "   xkd         6          24        1146       1116       1140   \n",
      "   axf         34         9         1155       1112       1121   \n",
      " ohtcmefq      45         8         1163       1110       1118   \n",
      "   quua        70         38        1201       1093       1131   \n",
      "  ngmer        8          3         1204       1193       1196   \n",
      "  frywn        80         9         1213       1124       1133   \n",
      "  hapdm        32         47        1260       1181       1228   \n",
      "fdpdtrjta      58         6         1266       1202       1208   \n",
      "  ukcbix       56         3         1269       1210       1213   \n",
      "   kae         49         3         1272       1220       1223   \n",
      "   ahlp        2          12        1284       1270       1282   \n",
      "   pvp         17         12        1296       1267       1279   \n",
      "ycmfowyjy      93         7         1303       1203       1210   \n",
      "  rvggbw       72         4         1307       1231       1235   \n",
      "   eii         21         4         1311       1286       1290   \n",
      " qhwsxdxc      90         6         1317       1221       1227   \n",
      " atkullh       37         37        1354       1280       1317   \n",
      "  zutbq        36         28        1382       1318       1346   \n",
      "  wyxkh        95         44        1426       1287       1331   \n",
      "  pnkywj       26         9         1435       1400       1409   \n",
      "  jtjwqe       77         1         1436       1358       1359   \n",
      "  xsktsi       39         1         1437       1397       1398   \n",
      " giiuazpo      4          15        1452       1433       1448   \n",
      "  jgdrtn       75         3         1455       1377       1380   \n",
      "  phrbac       12         9         1464       1443       1452   \n",
      " mridtesq      44         37        1501       1420       1457   \n",
      "   mlb         11         8         1509       1490       1498   \n",
      "   ovbi        2          6         1515       1507       1513   \n",
      "  wjvzm        42         5         1520       1473       1478   \n",
      "   ruj         20         3         1523       1500       1503   \n",
      " yrlesmq       22         8         1531       1501       1509   \n",
      " hylzrrax      43         9         1540       1488       1497   \n",
      " lifywgd       97         6         1546       1443       1449   \n",
      "psoadhfja      3          11        1557       1543       1554   \n",
      " wjjtbcgy      26         5         1562       1531       1536   \n",
      "   pvxr        57         8         1570       1505       1513   \n",
      "  cirnw        99         6         1576       1471       1477   \n",
      "   ozi         87         4         1580       1489       1493   \n",
      "fzlmcmckr      52         6         1586       1528       1534   \n",
      "  antxsw       60         16        1602       1526       1542   \n",
      " wtbrpoai      89         6         1608       1513       1519   \n",
      " jkuxyxxk      59         23        1631       1549       1572   \n",
      " jognexz       17         4         1635       1614       1618   \n",
      " hbefvin       35         5         1640       1600       1605   \n",
      "   pibc        9          16        1656       1631       1647   \n",
      "   isb         81         12        1668       1575       1587   \n",
      " llhytzjy      43         5         1673       1625       1630   \n",
      " wglcnprd      41         8         1681       1632       1640   \n",
      "  tkpth        95         2         1683       1586       1588   \n",
      "rcwkkfhal      41         10        1693       1642       1652   \n",
      " mmtgmupx      66         10        1703       1627       1637   \n",
      " uefccyi       52         3         1706       1651       1654   \n",
      "   gun         14         13        1719       1692       1705   \n",
      " yfixglti      24         16        1735       1695       1711   \n",
      " oziasfb       71         3         1738       1664       1667   \n",
      "  vhkncy       92         5         1743       1646       1651   \n",
      "  sicoep       23         4         1747       1720       1724   \n",
      "  pqcij        67         4         1751       1680       1684   \n",
      "  kmpgg        44         3         1754       1707       1710   \n",
      " ngsskdd       35         8         1762       1719       1727   \n",
      " zzitckb       7          9         1771       1755       1764   \n",
      "ffonjumqs      73         7         1778       1698       1705   \n",
      "hrwbfrhfr      53         6         1784       1725       1731   \n",
      "  hqdgg        3          5         1789       1781       1786   \n",
      "  tinhic       85         3         1792       1704       1707   \n",
      "  ildiv        20         19        1811       1772       1791   \n",
      "  mzrft        60         3         1814       1751       1754   \n",
      "  dihzlf       60         11        1825       1754       1765   \n",
      "bcdcanqio      14         8         1833       1811       1819   \n",
      "duuuhwhzz      2          6         1839       1831       1837   \n",
      " awfnectt      75         2         1841       1764       1766   \n",
      "  xibigk       87         12        1853       1754       1766   \n",
      "   dfv         40         3         1856       1813       1816   \n",
      " prysvyer      54         5         1861       1802       1807   \n",
      " qjosknl       12         11        1872       1849       1860   \n",
      "   uid         56         12        1884       1816       1828   \n",
      "   ssvk        71         7         1891       1813       1820   \n",
      "  xuhgd        95         4         1895       1796       1800   \n",
      " ccstqyc       50         6         1901       1845       1851   \n",
      "  bmhlmc       76         30        1931       1825       1855   \n",
      " jlmtxfe       49         4         1935       1882       1886   \n",
      "   nsq         5          7         1942       1930       1937   \n",
      " qynzhqg       45         5         1947       1897       1902   \n",
      "  kuyzv        73         16        1963       1874       1890   \n",
      "  quppg        69         4         1967       1894       1898   \n",
      " jpncnhtt      94         35        2002       1873       1908   \n",
      " cbudqzdn      75         11        2013       1927       1938   \n",
      "  izezxk       51         1         2014       1962       1963   \n",
      "  xskukq       8          14        2028       2006       2020   \n",
      "   vkj         66         8         2036       1962       1970   \n",
      "   ntg         81         10        2046       1955       1965   \n",
      "   vzi         55         7         2053       1991       1998   \n",
      "qaesujbsu      64         4         2057       1989       1993   \n",
      "   bsd         63         4         2061       1994       1998   \n",
      " cbrcbok       43         10        2071       2018       2028   \n",
      " dgujqfy       98         12        2083       1973       1985   \n",
      "   jjt         38         17        2100       2045       2062   \n",
      "  ugrmt        89         17        2117       2011       2028   \n",
      "  evfgp        46         17        2134       2071       2088   \n",
      "wqxtmpihy      72         6         2140       2062       2068   \n",
      "   zci         87         6         2146       2053       2059   \n",
      "qiwqaykty      38         39        2185       2108       2147   \n",
      " ndladle       45         9         2194       2140       2149   \n",
      " gepiflsj      70         20        2214       2124       2144   \n",
      " mnqkxtjp      32         5         2219       2182       2187   \n",
      "   cliz        43         11        2230       2176       2187   \n",
      "  sxrrjo       13         2         2232       2217       2219   \n",
      " yvknxpx       66         5         2237       2166       2171   \n",
      "   ruq         51         6         2243       2186       2192   \n",
      "  oguyyn       66         6         2249       2177       2183   \n",
      "  rnaxro       52         14        2263       2197       2211   \n",
      " tveuzgqb      67         6         2269       2196       2202   \n",
      "  wnzwnk       78         29        2298       2191       2220   \n",
      " zstxmiwb      37         3         2301       2261       2264   \n",
      " hejnakkx      51         18        2319       2250       2268   \n",
      "kgfxijpgy      60         10        2329       2259       2269   \n",
      " ndgyppya      98         5         2334       2231       2236   \n",
      "   jzts        41         8         2342       2293       2301   \n",
      "maedmsiny      1          3         2345       2341       2344   \n",
      "   dyx         60         2         2347       2285       2287   \n",
      "   yjvv        28         38        2385       2319       2357   \n",
      "  wnguoq       39         6         2391       2346       2352   \n",
      "  osvln        61         5         2396       2330       2335   \n",
      " oxxymiu       52         8         2404       2344       2352   \n",
      "  yazeu        47         8         2412       2357       2365   \n",
      "   gxq         22         4         2416       2390       2394   \n",
      "   qlaa        83         19        2435       2333       2352   \n",
      "mgydsynfr      8          4         2439       2427       2431   \n",
      " byzsegl       20         8         2447       2419       2427   \n",
      " edcjfnw       55         4         2451       2392       2396   \n",
      "wwxalopdj      52         8         2459       2399       2407   \n",
      " jqzaxjbj      5          3         2462       2454       2457   \n",
      "   fvrh        69         5         2467       2393       2398   \n",
      "uyzohjqot      29         5         2472       2438       2443   \n",
      "bfcemtnwq      24         8         2480       2448       2456   \n",
      "   xsj         19         11        2491       2461       2472   \n",
      "   ywu         54         43        2534       2437       2480   \n",
      "qviayajqp      95         18        2552       2439       2457   \n",
      "   vvej        80         19        2571       2472       2491   \n",
      "mvkmbabfr      79         3         2574       2492       2495   \n",
      "  vjvnl        56         5         2579       2518       2523   \n",
      "   diun        86         19        2598       2493       2512   \n",
      "   wzdu        22         3         2601       2576       2579   \n",
      " qxwzzpcf      49         14        2615       2552       2566   \n",
      "  tjjxi        54         5         2620       2561       2566   \n",
      "   dvmf        63         5         2625       2557       2562   \n",
      "  hpjcjo       60         22        2647       2565       2587   \n",
      "   dku         14         12        2659       2633       2645   \n",
      "  gphcf        18         3         2662       2641       2644   \n",
      "   qwl         2          17        2679       2660       2677   \n",
      "   wmv         94         5         2684       2585       2590   \n",
      "  eikefk       45         7         2691       2639       2646   \n",
      "   gogw        54         8         2699       2637       2645   \n",
      "  rikmw        95         4         2703       2604       2608   \n",
      "   ycgu        97         10        2713       2606       2616   \n",
      "  hdnpjk       14         9         2722       2699       2708   \n",
      "mrsfutogo      48         27        2749       2674       2701   \n",
      "gddkugxdd      78         1         2750       2671       2672   \n",
      "vzslwlkyr      52         19        2769       2698       2717   \n",
      " nyjuruh       40         8         2777       2729       2737   \n",
      "  nxfqd        46         5         2782       2731       2736   \n",
      "   rmm         40         5         2787       2742       2747   \n",
      "   erkc        46         9         2796       2741       2750   \n",
      "   fql         50         4         2800       2746       2750   \n",
      " vruqggj       65         11        2811       2735       2746   \n",
      "zuhvcxrzk      12         6         2817       2799       2805   \n",
      "tvewfqqud      21         3         2820       2796       2799   \n",
      "flxjbspgc      45         19        2839       2775       2794   \n",
      "   cvwd        62         5         2844       2777       2782   \n",
      "  jcqham       75         3         2847       2769       2772   \n",
      " htlsxdgy      53         1         2848       2794       2795   \n",
      "  lfnpxe       82         9         2857       2766       2775   \n",
      " haycbyo       59         14        2871       2798       2812   \n",
      "dsseikjhk      98         29        2900       2773       2802   \n",
      "   uexp        95         5         2905       2805       2810   \n",
      "  kfobl        12         8         2913       2893       2901   \n",
      "   ify         91         19        2932       2822       2841   \n",
      " fxhvfwl       21         12        2944       2911       2923   \n",
      "   lxwf        28         6         2950       2916       2922   \n",
      "   gqe         54         8         2958       2896       2904   \n",
      "  xqbfzw       3          1         2959       2955       2956   \n",
      " kikexouy      38         18        2977       2921       2939   \n",
      "  hvlky        58         7         2984       2919       2926   \n",
      " ecucavrz      45         42        3026       2939       2981   \n",
      "  dbzyi        19         9         3035       3007       3016   \n",
      " bfxmopr       91         7         3042       2944       2951   \n",
      "  qrxrv        75         20        3062       2967       2987   \n",
      "  fbdyw        64         3         3065       2998       3001   \n",
      " gablpzum      57         4         3069       3008       3012   \n",
      "   zcw         60         10        3079       3009       3019   \n",
      " hpgnudwk      41         6         3085       3038       3044   \n",
      " gbeuwud       73         5         3090       3012       3017   \n",
      "qvkmmxzje      73         5         3095       3017       3022   \n",
      "  dmmdcz       41         4         3099       3054       3058   \n",
      "   qemo        10         5         3104       3089       3094   \n",
      "   lgu         28         2         3106       3076       3078   \n",
      "  ouuwgm       4          3         3109       3102       3105   \n",
      "   mcv         3          15        3124       3106       3121   \n",
      "  uabdx        80         6         3130       3044       3050   \n",
      " scysaeck      41         6         3136       3089       3095   \n",
      "  psfcl        83         7         3143       3053       3060   \n",
      "   udi         45         8         3151       3098       3106   \n",
      "  lrnbt        18         7         3158       3133       3140   \n",
      " nkrxbdj       66         41        3199       3092       3133   \n",
      " fksjqcn       35         13        3212       3164       3177   \n",
      "   nwwd        72         15        3227       3140       3155   \n",
      " azgzwdt       29         20        3247       3198       3218   \n",
      "clwhjzawx      19         12        3259       3228       3240   \n",
      "terwcmwdk      64         5         3264       3195       3200   \n",
      "   auby        34         19        3283       3230       3249   \n",
      "  rmrcaf       63         4         3287       3220       3224   \n",
      "  umgdzg       13         7         3294       3274       3281   \n",
      "   xcge        1          1         3295       3293       3294   \n",
      "   tum         55         10        3305       3240       3250   \n",
      "ebpsvmbsc      44         4         3309       3261       3265   \n",
      "   urui        99         41        3350       3210       3251   \n",
      "   tnn         78         13        3363       3272       3285   \n",
      " sesrxcdx      54         4         3367       3309       3313   \n",
      "   xuo         31         11        3378       3336       3347   \n",
      "  isnca        75         11        3389       3303       3314   \n",
      "   dml         25         6         3395       3364       3370   \n",
      " nnpfijh       66         8         3403       3329       3337   \n",
      "  ptins        39         5         3408       3364       3369   \n",
      " dzacten       58         11        3419       3350       3361   \n",
      "   uyi         73         11        3430       3346       3357   \n",
      "iigyufajf      78         3         3433       3352       3355   \n",
      " enedqug       27         24        3457       3406       3430   \n",
      "  osfgjc       44         2         3459       3413       3415   \n",
      "  kwtvnn       53         12        3471       3406       3418   \n",
      "   cjyo        5          11        3482       3466       3477   \n",
      " lvxcwoe       69         6         3488       3413       3419   \n",
      " dvslwkmz      11         37        3525       3477       3514   \n",
      "  hgvbei       19         12        3537       3506       3518   \n",
      " jntfoid       66         4         3541       3471       3475   \n",
      "   pufp        26         14        3555       3515       3529   \n",
      "  fuoqya       41         31        3586       3514       3545   \n",
      "   eihb        63         6         3592       3523       3529   \n",
      "   bnj         68         5         3597       3524       3529   \n",
      "  fihns        58         46        3643       3539       3585   \n",
      "   ikuq        46         6         3649       3597       3603   \n",
      "  uhqqfq       96         6         3655       3553       3559   \n",
      " yjrzgpmt      57         20        3675       3598       3618   \n",
      "  jgjgw        75         3         3678       3600       3603   \n",
      "  acdkib       4          13        3691       3674       3687   \n",
      "  mkkftq       61         6         3697       3630       3636   \n",
      "  yjdpv        75         4         3701       3622       3626   \n",
      " vmgnaaaq      54         2         3703       3647       3649   \n",
      "   oef         28         17        3720       3675       3692   \n",
      "   qzrj        24         3         3723       3696       3699   \n",
      " wusfhcl       83         12        3735       3640       3652   \n",
      "  xrqfb        60         9         3744       3675       3684   \n",
      "   emg         99         6         3750       3645       3651   \n",
      "  pgjzd        35         12        3762       3715       3727   \n",
      "yqzuwpiig      70         8         3770       3692       3700   \n",
      "  ikdjj        71         18        3788       3699       3717   \n",
      "  xjnfgq       21         38        3826       3767       3805   \n",
      "   tqdv        30         8         3834       3796       3804   \n",
      "   lolw        64         6         3840       3770       3776   \n",
      "pzykjpcer      77         5         3845       3763       3768   \n",
      " eoaaxfur      87         6         3851       3758       3764   \n",
      "  ftlgq        42         6         3857       3809       3815   \n",
      " qnnizmi       19         6         3863       3838       3844   \n",
      " kjatrvr       64         16        3879       3799       3815   \n",
      " lzdyaxl       16         6         3885       3863       3869   \n",
      " xibujarl      16         2         3887       3869       3871   \n",
      " mzsnwlli      29         4         3891       3858       3862   \n",
      " roptama       81         4         3895       3810       3814   \n",
      "  xscow        17         11        3906       3878       3889   \n",
      "   zdi         19         10        3916       3887       3897   \n",
      " kqxjyjw       29         46        3962       3887       3933   \n",
      "bqalstewi      98         45        4007       3864       3909   \n",
      " dwggvudu      57         15        4022       3950       3965   \n",
      " ntvbpcp       1          9         4031       4021       4030   \n",
      "   zzt         61         12        4043       3970       3982   \n",
      "   srko        80         4         4047       3963       3967   \n",
      "jjgzglbrx      46         17        4064       4001       4018   \n",
      "   vkc         78         5         4069       3986       3991   \n",
      "   boi         70         20        4089       3999       4019   \n",
      "   hjig        45         38        4127       4044       4082   \n",
      " lrcauxm       15         3         4130       4112       4115   \n",
      "   enu         49         1         4131       4081       4082   \n",
      " xxvcsjen      70         19        4150       4061       4080   \n",
      "   fex         44         37        4187       4106       4143   \n",
      "  izedf        85         6         4193       4102       4108   \n",
      " ebjlfzc       30         2         4195       4163       4165   \n",
      "  opxjly       48         2         4197       4147       4149   \n",
      "   ugxj        98         4         4201       4099       4103   \n",
      " uwtjxnsh      17         3         4204       4184       4187   \n",
      "  hyfpdx       47         24        4228       4157       4181   \n",
      " brdsjhib      10         4         4232       4218       4222   \n",
      "  jonwp        82         7         4239       4150       4157   \n",
      "  gyuob        80         3         4242       4159       4162   \n",
      "   dnzd        37         4         4246       4205       4209   \n",
      "asebqujqh      87         3         4249       4159       4162   \n",
      "  qfglc        11         10        4259       4238       4248   \n",
      "  ykbxti       14         4         4263       4245       4249   \n",
      "  yvgxho       57         11        4274       4206       4217   \n",
      "   svpo        2          19        4293       4272       4291   \n",
      "eoavscamg      82         17        4310       4211       4228   \n",
      "jzpazvjeb      2          9         4319       4308       4317   \n",
      "otrqdxyth      4          4         4323       4315       4319   \n",
      "kvlixnqwr      64         4         4327       4259       4263   \n",
      "  pkwuzy       62         3         4330       4265       4268   \n",
      "  jjpkny       80         7         4337       4250       4257   \n",
      "   qcgr        56         5         4342       4281       4286   \n",
      " webhtrqa      19         6         4348       4323       4329   \n",
      " uwvqyjty      1          6         4354       4347       4353   \n",
      "viyeyuhvh      60         6         4360       4294       4300   \n",
      "   ezpg        95         8         4368       4265       4273   \n",
      "   lce         11         24        4392       4357       4381   \n",
      " mrhajet       26         3         4395       4366       4369   \n",
      "   dsei        25         2         4397       4370       4372   \n",
      "   wmz         76         17        4414       4321       4338   \n",
      "   kry         27         1         4415       4387       4388   \n",
      "  ecluy        25         16        4431       4390       4406   \n",
      "  lkair        40         5         4436       4391       4396   \n",
      "qiqycpnwb      51         38        4474       4385       4423   \n",
      " zbxhnjn       14         4         4478       4460       4464   \n",
      "rfjuwagtn      6          18        4496       4472       4490   \n",
      "   jluu        54         15        4511       4442       4457   \n",
      " abcpbxek      99         6         4517       4412       4418   \n",
      "  fzist        35         4         4521       4482       4486   \n",
      "   eysz        59         6         4527       4462       4468   \n",
      "   qyas        14         28        4555       4513       4541   \n",
      "  alilr        51         8         4563       4504       4512   \n",
      "uutmvlzlr      24         19        4582       4539       4558   \n",
      "   ors         82         7         4589       4500       4507   \n",
      "   xomp        72         7         4596       4517       4524   \n",
      " xbootoix      2          2         4598       4594       4596   \n",
      " vkjategy      1          14        4612       4597       4611   \n",
      "   tjg         92         17        4629       4520       4537   \n",
      "  hfiev        29         5         4634       4600       4605   \n",
      "  qaenm        25         8         4642       4609       4617   \n",
      " tzsgxhz       43         11        4653       4599       4610   \n",
      "ibxevpjta      18         11        4664       4635       4646   \n",
      " ydbfmezz      58         3         4667       4606       4609   \n",
      " zgbpaqfu      19         4         4671       4648       4652   \n",
      " cfpaalb       58         4         4675       4613       4617   \n",
      " erivsvoc      40         12        4687       4635       4647   \n",
      "   oyk         93         7         4694       4594       4601   \n",
      "  wvpxd        55         14        4708       4639       4653   \n",
      "  oxavf        94         7         4715       4614       4621   \n",
      "  iyewld       24         5         4720       4691       4696   \n",
      "   fxa         74         8         4728       4646       4654   \n",
      "vlakjrlvw      35         10        4738       4693       4703   \n",
      "  uulgjz       95         36        4774       4643       4679   \n",
      " toxxlcoc      52         10        4784       4722       4732   \n",
      " gauelfk       34         5         4789       4750       4755   \n",
      " uenujzo       18         12        4801       4771       4783   \n",
      "  xlgas        94         5         4806       4707       4712   \n",
      " wblphxh       20         42        4848       4786       4828   \n",
      "   qym         92         3         4851       4756       4759   \n",
      "  eddgzn       47         5         4856       4804       4809   \n",
      "lkjudnhzm      88         2         4858       4768       4770   \n",
      "  bqiwc        13         9         4867       4845       4854   \n",
      "  omkhrk       38         3         4870       4829       4832   \n",
      "  cuzefr       50         10        4880       4820       4830   \n",
      "  jasfg        93         15        4895       4787       4802   \n",
      "   axu         90         3         4898       4805       4808   \n",
      "   fsmg        43         27        4925       4855       4882   \n",
      "  dkxftn       38         20        4945       4887       4907   \n",
      "xxnaljfgr      22         10        4955       4923       4933   \n",
      " fpeeqzdg      93         20        4975       4862       4882   \n",
      "  ftbsv        60         3         4978       4915       4918   \n",
      "   tzn         79         5         4983       4899       4904   \n",
      "  qbotdj       74         17        5000       4909       4926   \n",
      " fewsubqv      9          12        5012       4991       5003   \n",
      "  ezqdmq       33         3         5015       4979       4982   \n",
      "  fuojfa       14         18        5033       5001       5019   \n",
      " uygzjvfy      62         10        5043       4971       4981   \n",
      "  zuhtcu       69         19        5062       4974       4993   \n",
      " sazstons      30         4         5066       5032       5036   \n",
      "   mns         82         6         5072       4984       4990   \n",
      "  unenbs       49         9         5081       5023       5032   \n",
      "  jwczwz       25         14        5095       5056       5070   \n",
      " qleaawiy      53         10        5105       5042       5052   \n",
      "  ganvzr       35         6         5111       5070       5076   \n",
      "   wdhg        12         6         5117       5099       5105   \n",
      "nddymrlyo      37         12        5129       5080       5092   \n",
      "  kymung       41         7         5136       5088       5095   \n",
      " hafeehjh      64         6         5142       5072       5078   \n",
      "   ghz         79         4         5146       5063       5067   \n",
      " qodcjxaz      24         18        5164       5122       5140   \n",
      " qkdmyral      86         30        5194       5078       5108   \n",
      " lhdhhprr      56         12        5206       5138       5150   \n",
      " acaixwe       37         28        5234       5169       5197   \n",
      " nplummpa      78         2         5236       5156       5158   \n",
      " cbjwaot       35         5         5241       5201       5206   \n",
      " btjkony       67         2         5243       5174       5176   \n",
      "  idfny        59         4         5247       5184       5188   \n",
      "  pqvbj        65         3         5250       5182       5185   \n",
      "  rtjxhx       49         11        5261       5201       5212   \n",
      "   lbl         25         3         5264       5236       5239   \n",
      "zzcptbphc      20         5         5269       5244       5249   \n",
      "   hrae        59         6         5275       5210       5216   \n",
      "   ghzr        79         3         5278       5196       5199   \n",
      "   wyw         3          6         5284       5275       5281   \n",
      "   hnzr        12         8         5292       5272       5280   \n",
      "   gsmf        59         6         5298       5233       5239   \n",
      "   rrym        45         4         5302       5253       5257   \n",
      "   srgi        89         34        5336       5213       5247   \n",
      "  mlrztf       60         10        5346       5276       5286   \n",
      "   udna        35         7         5353       5311       5318   \n",
      "wexlbpkbu      25         6         5359       5328       5334   \n",
      "  yhvqc        16         9         5368       5343       5352   \n",
      " xzxkmmyr      25         17        5385       5343       5360   \n",
      "   tfmp        95         4         5389       5290       5294   \n",
      "  kebbi        28         7         5396       5361       5368   \n",
      " vusjfiu       46         4         5400       5350       5354   \n",
      "  iindda       19         29        5429       5381       5410   \n",
      " zkswwcw       85         15        5444       5344       5359   \n",
      " qtraehz       64         4         5448       5380       5384   \n",
      " onahkqgy      3          14        5462       5445       5459   \n",
      "   dbz         58         15        5477       5404       5419   \n",
      " vfokxojo      75         10        5487       5402       5412   \n",
      "   tya         25         4         5491       5462       5466   \n",
      "   skiy        53         29        5520       5438       5467   \n",
      " bznhncl       52         6         5526       5468       5474   \n",
      "krgndqobv      30         14        5540       5496       5510   \n",
      "btofqikyp      44         20        5560       5496       5516   \n",
      "  pjkth        1          14        5574       5559       5573   \n",
      "  hutql        32         4         5578       5542       5546   \n",
      "  lbopsp       20         5         5583       5558       5563   \n",
      " dcfpszu       83         36        5619       5500       5536   \n",
      "  rnujq        14         4         5623       5605       5609   \n",
      "axgaqykaa      49         5         5628       5574       5579   \n",
      "  ixusjy       31         6         5634       5597       5603   \n",
      "   dof         30         3         5637       5604       5607   \n",
      " fuewccg       71         3         5640       5566       5569   \n",
      "   kqb         89         5         5645       5551       5556   \n",
      "  uepwei       8          5         5650       5637       5642   \n",
      "   bzwz        49         3         5653       5601       5604   \n",
      " ztsopig       34         20        5673       5619       5639   \n",
      "   wta         41         27        5700       5632       5659   \n",
      "  jmgtj        47         5         5705       5653       5658   \n",
      "   tlcf        2          11        5716       5703       5714   \n",
      "ptkbarbme      78         6         5722       5638       5644   \n",
      "  tquxm        75         11        5733       5647       5658   \n",
      "   pkr         64         18        5751       5669       5687   \n",
      "  noymeb       3          11        5762       5748       5759   \n",
      "   nyb         70         19        5781       5692       5711   \n",
      " zpcxdfo       46         8         5789       5735       5743   \n",
      " tjpqukzx      68         9         5798       5721       5730   \n",
      "   bkqm        23         12        5810       5775       5787   \n",
      " ckzaevex      29         2         5812       5781       5783   \n",
      " loptmvh       14         2         5814       5798       5800   \n",
      "   urzq        54         14        5828       5760       5774   \n",
      "  edidnn       61         4         5832       5767       5771   \n",
      "   hco         30         20        5852       5802       5822   \n",
      "   nsi         5          15        5867       5847       5862   \n",
      "   tcao        26         7         5874       5841       5848   \n",
      " awdgcgd       47         48        5922       5827       5875   \n",
      "  wapfza       14         35        5957       5908       5943   \n",
      "bwkwbzwgt      8          2         5959       5949       5951   \n",
      "  qbjot        66         5         5964       5893       5898   \n",
      "   fumq        5          3         5967       5959       5962   \n",
      "   doo         59         6         5973       5908       5914   \n",
      "jsdeyopbp      65         4         5977       5908       5912   \n",
      "sqrdholku      3          20        5997       5974       5994   \n",
      "   gnxh        73         33        6030       5924       5957   \n",
      " yyvufdyt      88         17        6047       5942       5959   \n",
      "   lrm         71         8         6055       5976       5984   \n",
      "  lxqkmd       6          8         6063       6049       6057   \n",
      "   neuk        12         10        6073       6051       6061   \n",
      "   txqn        60         34        6107       6013       6047   \n",
      " zhnhqlwj      45         19        6126       6062       6081   \n",
      "   oehw        19         15        6141       6107       6122   \n",
      " xpgghdvz      87         5         6146       6054       6059   \n",
      " oznayrkm      77         4         6150       6069       6073   \n",
      "uimottjus      75         46        6196       6075       6121   \n",
      " ejwrlkv       53         2         6198       6143       6145   \n",
      " qfctbec       79         3         6201       6119       6122   \n",
      "  yyszd        86         20        6221       6115       6135   \n",
      "   pwg         87         6         6227       6134       6140   \n",
      " lozwoty       52         6         6233       6175       6181   \n",
      "   bml         56         23        6256       6177       6200   \n",
      "   qwa         94         20        6276       6162       6182   \n",
      "  ttjsl        16         25        6301       6260       6285   \n",
      " asrzdar       54         4         6305       6247       6251   \n",
      " yvftlpee      41         6         6311       6264       6270   \n",
      "  rthsl        21         6         6317       6290       6296   \n",
      "  drdeew       15         15        6332       6302       6317   \n",
      "   osf         87         37        6369       6245       6282   \n",
      " wlmxeqn       73         7         6376       6296       6303   \n",
      "   yoc         87         5         6381       6289       6294   \n",
      "  korzya       71         3         6384       6310       6313   \n",
      "  kccgk        78         6         6390       6306       6312   \n",
      "   vbgt        62         13        6403       6328       6341   \n",
      " wfxwzkqo      92         20        6423       6311       6331   \n",
      " orolynk       74         6         6429       6349       6355   \n",
      " bzzewuuu      99         5         6434       6330       6335   \n",
      " jhwmkhoi      77         1         6435       6357       6358   \n",
      " dhiuawc       43         46        6481       6392       6438   \n",
      "   rsf         28         23        6504       6453       6476   \n",
      " rgvtnaf       15         8         6512       6489       6497   \n",
      " vnbsahfn      84         7         6519       6428       6435   \n",
      "  ydgxiw       59         15        6534       6460       6475   \n",
      "  agguj        92         7         6541       6442       6449   \n",
      "  nsspmz       57         7         6548       6484       6491   \n",
      " pthpbua       99         6         6554       6449       6455   \n",
      " hhcswss       42         7         6561       6512       6519   \n",
      "   hqin        11         32        6593       6550       6582   \n",
      "  fgrtz        32         9         6602       6561       6570   \n",
      "  uxoxy        48         43        6645       6554       6597   \n",
      "  sadyan       25         7         6652       6620       6627   \n",
      "  haoyj        26         4         6656       6626       6630   \n",
      " cbcmnima      78         17        6673       6578       6595   \n",
      "   ayc         90         6         6679       6583       6589   \n",
      "okkonpmrz      97         11        6690       6582       6593   \n",
      "  uiqhgc       81         17        6707       6609       6626   \n",
      "  cyvdb        50         14        6721       6657       6671   \n",
      "dlndlxwoe      41         5         6726       6680       6685   \n",
      "  sziype       47         3         6729       6679       6682   \n",
      "cmujnloes      74         3         6732       6655       6658   \n",
      "   gmyl        50         4         6736       6682       6686   \n",
      " unbqxrlw      61         4         6740       6675       6679   \n",
      "relfujguu      63         8         6748       6677       6685   \n",
      "  pdomu        14         12        6760       6734       6746   \n",
      "   ipc         26         5         6765       6734       6739   \n",
      " ggjppgus      82         20        6785       6683       6703   \n",
      "ygntgzaps      41         24        6809       6744       6768   \n",
      "   ybdn        43         4         6813       6766       6770   \n",
      "   fmx         19         8         6821       6794       6802   \n",
      " sptqanp       42         6         6827       6779       6785   \n",
      " dwtekxwn      42         14        6841       6785       6799   \n",
      "  pmvuh        53         20        6861       6788       6808   \n",
      "   pvt         45         4         6865       6816       6820   \n",
      " qekdhxbd      54         8         6873       6811       6819   \n",
      "   tjqa        1          9         6882       6872       6881   \n",
      "  exogw        35         13        6895       6847       6860   \n",
      " thwybody      86         8         6903       6809       6817   \n",
      "  hmkxxd       86         4         6907       6817       6821   \n",
      "   aux         56         5         6912       6851       6856   \n",
      "  lxcfrm       22         15        6927       6890       6905   \n",
      " bdvlqhk       97         1         6928       6830       6831   \n",
      "   lqs         80         5         6933       6848       6853   \n",
      " nwynuoem      14         17        6950       6919       6936   \n",
      " xwgyqdb       1          7         6957       6949       6956   \n",
      "   fqx         32         9         6966       6925       6934   \n",
      "   gffo        24         4         6970       6942       6946   \n",
      "   wup         35         3         6973       6935       6938   \n",
      "vuigzehtb      50         3         6976       6923       6926   \n",
      " vcmgrshc      94         3         6979       6882       6885   \n",
      " eknhhdn       43         7         6986       6936       6943   \n",
      "ciohyjwuf      37         5         6991       6949       6954   \n",
      "   ltqp        44         4         6995       6947       6951   \n",
      " ogicjhed      85         41        7036       6910       6951   \n",
      " xrucvmf       74         3         7039       6962       6965   \n",
      "sqnfrsaxk      37         12        7051       7002       7014   \n",
      "rfnozupth      24         3         7054       7027       7030   \n",
      "   zxf         39         4         7058       7015       7019   \n",
      "   prxx        2          9         7067       7056       7065   \n",
      "vqmjgyaoc      61         18        7085       7006       7024   \n",
      "  ppevbb       18         6         7091       7067       7073   \n",
      " wtewilh       79         18        7109       7012       7030   \n",
      "  qriqov       75         16        7125       7034       7050   \n",
      "ztyyubiwc      52         5         7130       7073       7078   \n",
      "  mweqhy       22         4         7134       7108       7112   \n",
      " xmhnleji      40         5         7139       7094       7099   \n",
      "  ekxkzy       48         4         7143       7091       7095   \n",
      " yymfmcyr      90         10        7153       7053       7063   \n",
      "   bcpw        36         5         7158       7117       7122   \n",
      "   icqj        23         35        7193       7135       7170   \n",
      "  cvjyao       34         9         7202       7159       7168   \n",
      "   gak         70         6         7208       7132       7138   \n",
      " srnukfts      88         16        7224       7120       7136   \n",
      "   onhy        31         1         7225       7193       7194   \n",
      "   tkuf        7          3         7228       7218       7221   \n",
      "qeolpavwp      84         9         7237       7144       7153   \n",
      "  egydne       96         7         7244       7141       7148   \n",
      "fiamrjfls      33         12        7256       7211       7223   \n",
      "  twjmr        35         4         7260       7221       7225   \n",
      "  carsv        64         3         7263       7196       7199   \n",
      "  ynpkbi       88         5         7268       7175       7180   \n",
      "vwavzhybq      61         7         7275       7207       7214   \n",
      " mzzujpi       42         18        7293       7233       7251   \n",
      "   xowd        98         5         7298       7195       7200   \n",
      "  gqmct        93         7         7305       7205       7212   \n",
      "  jxjen        15         3         7308       7290       7293   \n",
      " ilcthmzq      7          2         7310       7301       7303   \n",
      "  jpjrix       81         5         7315       7229       7234   \n",
      "unndunkyf      14         12        7327       7301       7313   \n",
      "   pds         14         1         7328       7313       7314   \n",
      " nhdrrky       4          7         7335       7324       7331   \n",
      " cvxuzkkt      67         17        7352       7268       7285   \n",
      "   kabn        18         7         7359       7334       7341   \n",
      "uhudgcbas      51         46        7405       7308       7354   \n",
      " uyoknak       71         14        7419       7334       7348   \n",
      "   rwjy        73         7         7426       7346       7353   \n",
      " hocxtpbz      90         11        7437       7336       7347   \n",
      "   tet         93         6         7443       7344       7350   \n",
      "zncevqnxg      1          8         7451       7442       7450   \n",
      "  gnewq        53         8         7459       7398       7406   \n",
      "  nndxc        88         43        7502       7371       7414   \n",
      "   zmv         5          19        7521       7497       7516   \n",
      " bhnenvqm      14         20        7541       7507       7527   \n",
      "dvsrkmgut      50         17        7558       7491       7508   \n",
      " vucmgzir      90         9         7567       7468       7477   \n",
      "hnkirottq      85         16        7583       7482       7498   \n",
      "   tbht        45         5         7588       7538       7543   \n",
      " xdclzrr       33         4         7592       7555       7559   \n",
      "ieenpyhwl      55         7         7599       7537       7544   \n",
      "   iki         74         12        7611       7525       7537   \n",
      "   lbl         65         13        7624       7546       7559   \n",
      "ztmwpsdgi      97         6         7630       7527       7533   \n",
      "  aijgm        32         13        7643       7598       7611   \n",
      "btqybssbi      63         44        7687       7580       7624   \n",
      "btzjebnnf      64         44        7731       7623       7667   \n",
      "  zhvwn        26         6         7737       7705       7711   \n",
      "   luxc        3          6         7743       7734       7740   \n",
      "ggygmekhh      10         30        7773       7733       7763   \n",
      "turdkqcgc      71         6         7779       7702       7708   \n",
      "   qymd        11         1         7780       7768       7769   \n",
      "  yyahgs       78         4         7784       7702       7706   \n",
      "nzzxauldi      16         17        7801       7768       7785   \n",
      "  tbdbbg       52         21        7822       7749       7770   \n",
      "   jso         83         6         7828       7739       7745   \n",
      " siixusbh      40         11        7839       7788       7799   \n",
      " iehkisju      98         22        7861       7741       7763   \n",
      "  rxjnr        9          19        7880       7852       7871   \n",
      "  uebwgl       67         9         7889       7813       7822   \n",
      "  fxcnut       42         7         7896       7847       7854   \n",
      " uupascmd      87         12        7908       7809       7821   \n",
      " rpgdxui       67         2         7910       7841       7843   \n",
      "bppnjatfz      87         10        7920       7823       7833   \n",
      "  jdfpzz       38         5         7925       7882       7887   \n",
      "  ivmnuf       27         9         7934       7898       7907   \n",
      " qcifeziv      17         6         7940       7917       7923   \n",
      "  hjpmbj       51         13        7953       7889       7902   \n",
      "idhmslmpt      6          12        7965       7947       7959   \n",
      " acncysx       38         18        7983       7927       7945   \n",
      " ofkwrxg       98         34        8017       7885       7919   \n",
      "  vpcqtl       22         16        8033       7995       8011   \n",
      "  fefcc        81         19        8052       7952       7971   \n",
      "   zix         44         16        8068       8008       8024   \n",
      " rzkemdtp      54         9         8077       8014       8023   \n",
      "   efky        97         14        8091       7980       7994   \n",
      " zxdxiowk      35         6         8097       8056       8062   \n",
      " iotrqdtj      85         14        8111       8012       8026   \n",
      " crbwaics      95         4         8115       8016       8020   \n",
      "   jor         27         19        8134       8088       8107   \n",
      " bfwxryyx      96         5         8139       8038       8043   \n",
      "  hgcil        36         7         8146       8103       8110   \n",
      "   lwp         48         4         8150       8098       8102   \n",
      "   tnje        21         8         8158       8129       8137   \n",
      "  yecga        64         7         8165       8094       8101   \n",
      "   ocze        87         17        8182       8078       8095   \n",
      "   zsfl        84         18        8200       8098       8116   \n",
      "  cqdpr        78         18        8218       8122       8140   \n",
      " kmrwoko       64         8         8226       8154       8162   \n",
      "pcymagevm      52         10        8236       8174       8184   \n",
      "   snzq        88         14        8250       8148       8162   \n",
      " uljqndra      57         5         8255       8193       8198   \n",
      "  yqamch       3          45        8300       8252       8297   \n",
      " mwecpnn       21         7         8307       8279       8286   \n",
      "   efj         14         5         8312       8293       8298   \n",
      "   ysjz        75         30        8342       8237       8267   \n",
      "tmylnivvh      73         15        8357       8269       8284   \n",
      " cwjeujao      85         7         8364       8272       8279   \n",
      " cqzahzg       73         4         8368       8291       8295   \n",
      " alhxnltv      51         6         8374       8317       8323   \n",
      "   wiar        41         9         8383       8333       8342   \n",
      "spvvpsrfx      72         3         8386       8311       8314   \n",
      "  wsxcci       66         4         8390       8320       8324   \n",
      " fqmzqxgi      90         7         8397       8300       8307   \n",
      "   grlz        8          6         8403       8389       8395   \n",
      "zqjudfuyl      1          18        8421       8402       8420   \n",
      " rorgszy       31         9         8430       8390       8399   \n",
      " phhydbi       51         5         8435       8379       8384   \n",
      "   qzjx        12         2         8437       8423       8425   \n",
      "  quhgah       14         5         8442       8423       8428   \n",
      "datunbznr      53         4         8446       8389       8393   \n",
      "   xvm         93         11        8457       8353       8364   \n",
      " pbhzbae       7          19        8476       8450       8469   \n",
      "   imr         7          8         8484       8469       8477   \n",
      "   ibzp        41         3         8487       8443       8446   \n",
      "   lay         87         4         8491       8400       8404   \n",
      "   eira        14         5         8496       8477       8482   \n",
      " quctfblx      36         19        8515       8460       8479   \n",
      "   scn         72         5         8520       8443       8448   \n",
      "  nqrgg        54         12        8532       8466       8478   \n",
      "fsbedzqwu      85         3         8535       8447       8450   \n",
      " lecplhp       5          12        8547       8530       8542   \n",
      "benipaevu      20         6         8553       8527       8533   \n",
      " geqrluto      47         7         8560       8506       8513   \n",
      "  zuvjh        81         5         8565       8479       8484   \n",
      "ibewmdtdp      52         6         8571       8513       8519   \n",
      "   hol         58         20        8591       8513       8533   \n",
      "wwbkrmedz      20         10        8601       8571       8581   \n",
      "   pbqr        43         9         8610       8558       8567   \n",
      " ylrjvad       45         2         8612       8565       8567   \n",
      "  zegmge       45         10        8622       8567       8577   \n",
      " mtyodvqb      64         1         8623       8558       8559   \n",
      " vxuwoijb      45         13        8636       8578       8591   \n",
      "  zqayu        21         8         8644       8615       8623   \n",
      " koamxsog      8          7         8651       8636       8643   \n",
      "  dqsht        68         47        8698       8583       8630   \n",
      "   nljz        73         20        8718       8625       8645   \n",
      "mzqmfzvru      25         18        8736       8693       8711   \n",
      "  knghz        85         15        8751       8651       8666   \n",
      "  btqjo        21         5         8756       8730       8735   \n",
      "  caacx        45         8         8764       8711       8719   \n",
      "   lwl         63         3         8767       8701       8704   \n",
      "   zszn        23         3         8770       8744       8747   \n",
      "  ohhyq        94         16        8786       8676       8692   \n",
      "  jpxxcp       98         42        8828       8688       8730   \n",
      "  lofots       69         31        8859       8759       8790   \n",
      "  eycezz       15         13        8872       8844       8857   \n",
      "bgfldlcag      43         3         8875       8829       8832   \n",
      "  yptqp        91         3         8878       8784       8787   \n",
      "   ljb         43         10        8888       8835       8845   \n",
      " ebznysfm      25         19        8907       8863       8882   \n",
      " qvslmqqa      27         3         8910       8880       8883   \n",
      "tiahbzeyp      43         36        8946       8867       8903   \n",
      "  szerak       81         16        8962       8865       8881   \n",
      "tgivonhqb      44         20        8982       8918       8938   \n",
      "pzqefqgek      78         4         8986       8904       8908   \n",
      "  qicukh       64         8         8994       8922       8930   \n",
      "  psyvft       14         17        9011       8980       8997   \n",
      "  rkpql        90         9         9020       8921       8930   \n",
      "  obvyzh       33         5         9025       8987       8992   \n",
      "  cypngw       3          8         9033       9022       9030   \n",
      "  hiigai       22         6         9039       9011       9017   \n",
      " xkrihse       94         9         9048       8945       8954   \n",
      "  ejkfq        62         4         9052       8986       8990   \n",
      "eybmsrnjq      14         19        9071       9038       9057   \n",
      "  jntkf        45         5         9076       9026       9031   \n",
      "   monx        38         15        9091       9038       9053   \n",
      " qsulini       1          6         9097       9090       9096   \n",
      "prfceajqy      10         4         9101       9087       9091   \n",
      "  hltrh        87         49        9150       9014       9063   \n",
      " mzbpuiid      18         9         9159       9132       9141   \n",
      "   wuel        55         5         9164       9104       9109   \n",
      "   oej         38         19        9183       9126       9145   \n",
      "   fcr         87         10        9193       9096       9106   \n",
      "vwpszfejl      15         11        9204       9178       9189   \n",
      "   qzmg        82         12        9216       9122       9134   \n",
      "   scek        20         20        9236       9196       9216   \n",
      "   snz         61         17        9253       9175       9192   \n",
      "  zbmzzi       56         8         9261       9197       9205   \n",
      "  dcekhd       56         3         9264       9205       9208   \n",
      "wvsqiuaxz      56         4         9268       9208       9212   \n",
      " pibehfz       18         41        9309       9250       9291   \n",
      "  hmcwd        41         5         9314       9268       9273   \n",
      "yytdjlegz      46         3         9317       9268       9271   \n",
      "  gdkior       30         32        9349       9287       9319   \n",
      "   wjy         53         17        9366       9296       9313   \n",
      "xsxoiugcu      7          13        9379       9359       9372   \n",
      "  jabjy        66         19        9398       9313       9332   \n",
      "  hvgnin       83         20        9418       9315       9335   \n",
      " ywdckcju      49         3         9421       9369       9372   \n",
      "gigmeeycr      78         5         9426       9343       9348   \n",
      " udbohja       73         5         9431       9353       9358   \n",
      " mndjdby       85         36        9467       9346       9382   \n",
      " wpvalah       48         48        9515       9419       9467   \n",
      " foeodabx      70         5         9520       9445       9450   \n",
      "bdonsojtb      55         6         9526       9465       9471   \n",
      "  xvnehe       16         6         9532       9510       9516   \n",
      " mozqufa       23         2         9534       9509       9511   \n",
      "   hnak        52         17        9551       9482       9499   \n",
      "  ujwjg        77         19        9570       9474       9493   \n",
      " dbjkiuux      45         4         9574       9525       9529   \n",
      " hakqkdz       49         6         9580       9525       9531   \n",
      " suytbif       19         14        9594       9561       9575   \n",
      "  sypmwz       57         9         9603       9537       9546   \n",
      "evrhomiti      87         10        9613       9516       9526   \n",
      "  cuaau        76         7         9620       9537       9544   \n",
      "  roceqm       12         19        9639       9608       9627   \n",
      " pqrmqppn      52         4         9643       9587       9591   \n",
      "   iuui        72         24        9667       9571       9595   \n",
      "lwtewtbps      77         6         9673       9590       9596   \n",
      "   sez         87         5         9678       9586       9591   \n",
      " hymangx       29         7         9685       9649       9656   \n",
      "   pxzo        84         47        9732       9601       9648   \n",
      " aosolmci      54         7         9739       9678       9685   \n",
      "  srceyp       26         8         9747       9713       9721   \n",
      "   qujd        35         5         9752       9712       9717   \n",
      "   mozj        87         4         9756       9665       9669   \n",
      "   kijz        99         15        9771       9657       9672   \n",
      " rzebgtl       95         5         9776       9676       9681   \n",
      "  ezaaj        34         7         9783       9742       9749   \n",
      "ukufsnhmr      6          8         9791       9777       9785   \n",
      "   yjp         96         12        9803       9695       9707   \n",
      "  wmlemf       80         1         9804       9723       9724   \n",
      " kjjzddkj      19         35        9839       9785       9820   \n",
      " qbpeorq       87         19        9858       9752       9771   \n",
      "   hofn        62         5         9863       9796       9801   \n",
      "   abq         83         4         9867       9780       9784   \n",
      " bshmvcd       77         4         9871       9790       9794   \n",
      "   ecbv        3          35        9906       9868       9903   \n",
      " echiysot      47         17        9923       9859       9876   \n",
      "  fohct        50         5         9928       9873       9878   \n",
      "oeltuosvx      60         29        9957       9868       9897   \n",
      "   frr         24         5         9962       9933       9938   \n",
      " bddlexc       89         5         9967       9873       9878   \n",
      " hyugpyv       6          6         9973       9961       9967   \n",
      "  kzcmrp       86         3         9976       9887       9890   \n",
      "   msww        26         10        9986       9950       9960   \n",
      " mjyncnut      66         3         9989       9920       9923   \n",
      " fpqworg       96         9         9998       9893       9902   \n",
      "  dxfipc       82         7        10005       9916       9923   \n",
      " rdtjttye      15         6        10011       9990       9996   \n",
      "  fbdtbo       23         19       10030       9988      10007   \n",
      "  ozmtf        46         5        10035       9984       9989   \n",
      "  gocjgo       99         3        10038       9936       9939   \n",
      "   faba        49         7        10045       9989       9996   \n",
      "zzohefeed      10         26       10071      10035      10061   \n",
      "  emjlh        44         6        10077      10027      10033   \n",
      "   sgjt        50         9        10086      10027      10036   \n",
      " meqexanf      12         30       10116      10074      10104   \n",
      "  dbkqgt       71         16       10132      10045      10061   \n",
      "   zbwe        67         5        10137      10065      10070   \n",
      "kiarfnddv      72         14       10151      10065      10079   \n",
      " khdupfam      12         6        10157      10139      10145   \n",
      " lbqpwdbf      16         3        10160      10141      10144   \n",
      "   zcbc        59         10       10170      10101      10111   \n",
      "nnswtonpt      14         37       10207      10156      10193   \n",
      "  uhyly        4          8        10215      10203      10211   \n",
      "  giaflu       61         5        10220      10154      10159   \n",
      "  juqja        39         8        10228      10181      10189   \n",
      "  hfety        1          9        10237      10227      10236   \n",
      "  wfmpu        37         9        10246      10200      10209   \n",
      " pbbspngk      70         3        10249      10176      10179   \n",
      "zljnaeegg      97         5        10254      10152      10157   \n",
      "  okfdym       55         31       10285      10199      10230   \n",
      " jbtburrg      80         39       10324      10205      10244   \n",
      "  deekj        45         6        10330      10279      10285   \n",
      "  othov        59         8        10338      10271      10279   \n",
      "   ghjs        87         39       10377      10251      10290   \n",
      " ddmxjsoy      67         3        10380      10310      10313   \n",
      "  ljutdo       64         5        10385      10316      10321   \n",
      "wdsrvjbbw      35         19       10404      10350      10369   \n",
      "   add         64         9        10413      10340      10349   \n",
      "   jyv         2          7        10420      10411      10418   \n",
      "buccchbyd      50         9        10429      10370      10379   \n",
      "acfbsagex      41         10       10439      10388      10398   \n",
      " jumhavj       88         5        10444      10351      10356   \n",
      "  hdycs        53         5        10449      10391      10396   \n",
      "  fpcsxb       77         5        10454      10372      10377   \n",
      "   ltnf        68         4        10458      10386      10390   \n",
      "   ght         95         8        10466      10363      10371   \n",
      "   how         97         14       10480      10369      10383   \n",
      "tnaweiran      10         10       10490      10470      10480   \n",
      "   mwi         87         7        10497      10403      10410   \n",
      " elxsdmh       71         6        10503      10426      10432   \n",
      "   skod        16         26       10529      10487      10513   \n",
      "igshcxjij      97         9        10538      10432      10441   \n",
      "  snppu        68         3        10541      10470      10473   \n",
      "   fnhi        23         8        10549      10518      10526   \n",
      "vzoatenei      49         10       10559      10500      10510   \n",
      "   ulco        56         20       10579      10503      10523   \n",
      "  cieoxx       5          8        10587      10574      10582   \n",
      " fiitwink      66         10       10597      10521      10531   \n",
      "   eajh        49         6        10603      10548      10554   \n",
      " grvooboc      35         16       10619      10568      10584   \n",
      "  jeigfx       97         2        10621      10522      10524   \n",
      "  uxypdd       57         43       10664      10564      10607   \n",
      "  frnjuh       97         12       10676      10567      10579   \n",
      "ephhtkzca      23         5        10681      10653      10658   \n",
      "   ezis        74         8        10689      10607      10615   \n",
      "   gvl         59         16       10705      10630      10646   \n",
      "  wafpnc       67         5        10710      10638      10643   \n",
      " waxmfghd      17         10       10720      10693      10703   \n",
      "   zepz        74         6        10726      10646      10652   \n",
      " fkrrdus       97         6        10732      10629      10635   \n",
      " xmsgafz       87         5        10737      10645      10650   \n",
      "   eeov        57         2        10739      10680      10682   \n",
      " qchkhjoc      82         3        10742      10657      10660   \n",
      " lhfecooo      53         39       10781      10689      10728   \n",
      "   bkn         24         12       10793      10757      10769   \n",
      "  idpsn        50         20       10813      10743      10763   \n",
      " jugvjln       83         42       10855      10730      10772   \n",
      " etuxafp       50         8        10863      10805      10813   \n",
      "   fuu         7          6        10869      10856      10862   \n",
      "mwghazmaw      55         9        10878      10814      10823   \n",
      "   xqd         6          14       10892      10872      10886   \n",
      "zbyvqoxdv      65         5        10897      10827      10832   \n",
      " oozhncf       54         7        10904      10843      10850   \n",
      "   tbc         2          14       10918      10902      10916   \n",
      "dnquntggd      75         46       10964      10843      10889   \n",
      " neofxxmw      79         48       11012      10885      10933   \n",
      "vqkiyuubv      73         17       11029      10939      10956   \n",
      "   hhc         24         5        11034      11005      11010   \n",
      " ndhiebbl      20         19       11053      11014      11033   \n",
      "   lgk         80         6        11059      10973      10979   \n",
      "  dziva        15         15       11074      11044      11059   \n",
      " tdykafy       11         17       11091      11063      11080   \n",
      "ogmrhedem      75         3        11094      11016      11019   \n",
      "   uhnl        8          17       11111      11086      11103   \n",
      " vpiceoql      19         11       11122      11092      11103   \n",
      " pmbmuey       27         13       11135      11095      11108   \n",
      " hjwasny       83         7        11142      11052      11059   \n",
      "   jsrb        38         5        11147      11104      11109   \n",
      "  qzxwqt       62         43       11190      11085      11128   \n",
      " lcnkzuj       30         37       11227      11160      11197   \n",
      "mufeaqcjp      47         2        11229      11180      11182   \n",
      "   pgw         46         9        11238      11183      11192   \n",
      "   ywz         64         4        11242      11174      11178   \n",
      " qcariso       92         7        11249      11150      11157   \n",
      "   llnj        32         47       11296      11217      11264   \n",
      "  rnjwx        6          13       11309      11290      11303   \n",
      "   grv         14         29       11338      11295      11324   \n",
      " halxcgmc      28         4        11342      11310      11314   \n",
      "  dtzah        79         16       11358      11263      11279   \n",
      " cblyksak      78         47       11405      11280      11327   \n",
      "   nnam        99         3        11408      11306      11309   \n",
      "   oajn        46         9        11417      11362      11371   \n",
      " ewkpflbc      99         8        11425      11318      11326   \n",
      "   zvk         19         3        11428      11406      11409   \n",
      "  tmgzn        14         5        11433      11414      11419   \n",
      "  nhrvge       4          5        11438      11429      11434   \n"
     ]
    }
   ],
   "source": [
    "calculate_all(procsSS[:,0],procsSS[:,1],procsSS[:,2])"
   ]
  },
  {
   "cell_type": "code",
   "execution_count": null,
   "metadata": {},
   "outputs": [],
   "source": []
  },
  {
   "cell_type": "code",
   "execution_count": null,
   "metadata": {},
   "outputs": [],
   "source": []
  },
  {
   "cell_type": "code",
   "execution_count": null,
   "metadata": {},
   "outputs": [],
   "source": []
  },
  {
   "cell_type": "code",
   "execution_count": null,
   "metadata": {},
   "outputs": [],
   "source": []
  },
  {
   "cell_type": "code",
   "execution_count": null,
   "metadata": {},
   "outputs": [],
   "source": []
  },
  {
   "cell_type": "code",
   "execution_count": null,
   "metadata": {},
   "outputs": [],
   "source": []
  },
  {
   "cell_type": "code",
   "execution_count": null,
   "metadata": {},
   "outputs": [],
   "source": []
  },
  {
   "cell_type": "code",
   "execution_count": null,
   "metadata": {},
   "outputs": [],
   "source": []
  },
  {
   "cell_type": "code",
   "execution_count": null,
   "metadata": {},
   "outputs": [],
   "source": []
  },
  {
   "cell_type": "code",
   "execution_count": null,
   "metadata": {},
   "outputs": [],
   "source": []
  },
  {
   "cell_type": "code",
   "execution_count": null,
   "metadata": {},
   "outputs": [],
   "source": []
  },
  {
   "cell_type": "code",
   "execution_count": null,
   "metadata": {},
   "outputs": [],
   "source": []
  },
  {
   "cell_type": "code",
   "execution_count": null,
   "metadata": {},
   "outputs": [],
   "source": []
  },
  {
   "cell_type": "code",
   "execution_count": null,
   "metadata": {},
   "outputs": [],
   "source": []
  },
  {
   "cell_type": "code",
   "execution_count": null,
   "metadata": {},
   "outputs": [],
   "source": []
  },
  {
   "cell_type": "code",
   "execution_count": null,
   "metadata": {},
   "outputs": [],
   "source": []
  },
  {
   "cell_type": "code",
   "execution_count": null,
   "metadata": {},
   "outputs": [],
   "source": []
  },
  {
   "cell_type": "code",
   "execution_count": null,
   "metadata": {},
   "outputs": [],
   "source": []
  },
  {
   "cell_type": "code",
   "execution_count": null,
   "metadata": {},
   "outputs": [],
   "source": []
  },
  {
   "cell_type": "code",
   "execution_count": null,
   "metadata": {},
   "outputs": [],
   "source": []
  },
  {
   "cell_type": "code",
   "execution_count": null,
   "metadata": {},
   "outputs": [],
   "source": []
  },
  {
   "cell_type": "code",
   "execution_count": null,
   "metadata": {},
   "outputs": [],
   "source": []
  },
  {
   "cell_type": "code",
   "execution_count": null,
   "metadata": {},
   "outputs": [],
   "source": []
  },
  {
   "cell_type": "code",
   "execution_count": null,
   "metadata": {},
   "outputs": [],
   "source": []
  },
  {
   "cell_type": "code",
   "execution_count": null,
   "metadata": {},
   "outputs": [],
   "source": []
  },
  {
   "cell_type": "code",
   "execution_count": null,
   "metadata": {},
   "outputs": [],
   "source": []
  }
 ],
 "metadata": {
  "kernelspec": {
   "display_name": "Python 3",
   "language": "python",
   "name": "python3"
  },
  "language_info": {
   "codemirror_mode": {
    "name": "ipython",
    "version": 3
   },
   "file_extension": ".py",
   "mimetype": "text/x-python",
   "name": "python",
   "nbconvert_exporter": "python",
   "pygments_lexer": "ipython3",
   "version": "3.7.7"
  }
 },
 "nbformat": 4,
 "nbformat_minor": 4
}
