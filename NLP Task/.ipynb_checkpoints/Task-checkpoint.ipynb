{
 "cells": [
  {
   "cell_type": "code",
   "execution_count": 88,
   "metadata": {},
   "outputs": [],
   "source": [
    "import pandas as pd\n",
    "import matplotlib.pyplot as pl\n",
    "from gensim.models import Word2Vec,KeyedVectors\n",
    "import nltk\n",
    "from nltk.corpus import stopwords\n",
    "import re\n",
    "\n",
    "from sklearn.feature_extraction.text import CountVectorizer,TfidfVectorizer\n",
    "from sklearn.preprocessing import LabelEncoder\n",
    "\n",
    "\n",
    "from sklearn.metrics.pairwise import cosine_similarity,cosine_distances"
   ]
  },
  {
   "cell_type": "code",
   "execution_count": null,
   "metadata": {},
   "outputs": [],
   "source": []
  },
  {
   "cell_type": "code",
   "execution_count": 67,
   "metadata": {},
   "outputs": [],
   "source": [
    "df=pd.read_excel('data.xlsx')"
   ]
  },
  {
   "cell_type": "code",
   "execution_count": 68,
   "metadata": {},
   "outputs": [
    {
     "data": {
      "text/html": [
       "<div>\n",
       "<style scoped>\n",
       "    .dataframe tbody tr th:only-of-type {\n",
       "        vertical-align: middle;\n",
       "    }\n",
       "\n",
       "    .dataframe tbody tr th {\n",
       "        vertical-align: top;\n",
       "    }\n",
       "\n",
       "    .dataframe thead th {\n",
       "        text-align: right;\n",
       "    }\n",
       "</style>\n",
       "<table border=\"1\" class=\"dataframe\">\n",
       "  <thead>\n",
       "    <tr style=\"text-align: right;\">\n",
       "      <th></th>\n",
       "      <th>Category</th>\n",
       "      <th>Tag</th>\n",
       "      <th>Question</th>\n",
       "      <th>Answer</th>\n",
       "    </tr>\n",
       "  </thead>\n",
       "  <tbody>\n",
       "    <tr>\n",
       "      <th>0</th>\n",
       "      <td>My Account</td>\n",
       "      <td>Rating and Reviews</td>\n",
       "      <td>How to Review Product as well as Seller?</td>\n",
       "      <td>Everything is right here. Please check this ou...</td>\n",
       "    </tr>\n",
       "    <tr>\n",
       "      <th>1</th>\n",
       "      <td>My Account</td>\n",
       "      <td>Rating and Reviews</td>\n",
       "      <td>How to Filter Search Results with Product Rati...</td>\n",
       "      <td>Products can also be filtered according to the...</td>\n",
       "    </tr>\n",
       "    <tr>\n",
       "      <th>2</th>\n",
       "      <td>My Account</td>\n",
       "      <td>Rating and Reviews</td>\n",
       "      <td>What are Ratings &amp; Reviews and how do I write ...</td>\n",
       "      <td>Daraz customers have the option of rating and ...</td>\n",
       "    </tr>\n",
       "    <tr>\n",
       "      <th>3</th>\n",
       "      <td>My Account</td>\n",
       "      <td>Product Warranty</td>\n",
       "      <td>How do I know if a product comes with free ins...</td>\n",
       "      <td>Unfortunately we are not providing the Free In...</td>\n",
       "    </tr>\n",
       "    <tr>\n",
       "      <th>4</th>\n",
       "      <td>My Account</td>\n",
       "      <td>Product Warranty</td>\n",
       "      <td>How do I know if a product comes with warranty?</td>\n",
       "      <td>If a warranty is offered on a product the warr...</td>\n",
       "    </tr>\n",
       "  </tbody>\n",
       "</table>\n",
       "</div>"
      ],
      "text/plain": [
       "     Category                 Tag  \\\n",
       "0  My Account  Rating and Reviews   \n",
       "1  My Account  Rating and Reviews   \n",
       "2  My Account  Rating and Reviews   \n",
       "3  My Account    Product Warranty   \n",
       "4  My Account    Product Warranty   \n",
       "\n",
       "                                            Question  \\\n",
       "0           How to Review Product as well as Seller?   \n",
       "1  How to Filter Search Results with Product Rati...   \n",
       "2  What are Ratings & Reviews and how do I write ...   \n",
       "3  How do I know if a product comes with free ins...   \n",
       "4    How do I know if a product comes with warranty?   \n",
       "\n",
       "                                              Answer  \n",
       "0  Everything is right here. Please check this ou...  \n",
       "1  Products can also be filtered according to the...  \n",
       "2  Daraz customers have the option of rating and ...  \n",
       "3  Unfortunately we are not providing the Free In...  \n",
       "4  If a warranty is offered on a product the warr...  "
      ]
     },
     "execution_count": 68,
     "metadata": {},
     "output_type": "execute_result"
    }
   ],
   "source": [
    "df.head()"
   ]
  },
  {
   "cell_type": "code",
   "execution_count": null,
   "metadata": {},
   "outputs": [],
   "source": []
  },
  {
   "cell_type": "code",
   "execution_count": 69,
   "metadata": {},
   "outputs": [
    {
     "data": {
      "text/plain": [
       "'Daraz customers have the option of rating and reviewing their product and seller experiences.,The customers can both leave star ratings and add text to describe what they liked or disliked about their experience.'"
      ]
     },
     "execution_count": 69,
     "metadata": {},
     "output_type": "execute_result"
    }
   ],
   "source": [
    "txt=df['Answer'][2]\n",
    "txt"
   ]
  },
  {
   "cell_type": "code",
   "execution_count": 70,
   "metadata": {},
   "outputs": [
    {
     "data": {
      "text/plain": [
       "['Daraz customers have the option of rating and reviewing their product and seller experiences.',\n",
       " 'The customers can both leave star ratings and add text to describe what they liked or disliked about their experience.']"
      ]
     },
     "execution_count": 70,
     "metadata": {},
     "output_type": "execute_result"
    }
   ],
   "source": [
    "txt.split(',')"
   ]
  },
  {
   "cell_type": "code",
   "execution_count": 71,
   "metadata": {},
   "outputs": [
    {
     "data": {
      "text/plain": [
       "0             How to Review Product as well as Seller?\n",
       "1    How to Filter Search Results with Product Rati...\n",
       "2    What are Ratings & Reviews and how do I write ...\n",
       "3    How do I know if a product comes with free ins...\n",
       "4      How do I know if a product comes with warranty?\n",
       "Name: Question, dtype: object"
      ]
     },
     "execution_count": 71,
     "metadata": {},
     "output_type": "execute_result"
    }
   ],
   "source": [
    "df['Question'].head()"
   ]
  },
  {
   "cell_type": "code",
   "execution_count": 72,
   "metadata": {},
   "outputs": [],
   "source": [
    "def cleantext(txt):\n",
    "    txt=txt.split()\n",
    "    txt=[i.lower() for i in txt if i not in stopwords.words('english') ]\n",
    "    txt=' '.join(txt)\n",
    "    txt=re.sub(r'[^A-Za-z0-9]',' ',txt)\n",
    "    txt=' '.join(txt.split())\n",
    "    return txt \n",
    "    \n",
    "    \n",
    "cleantext('My name  is  rishav..') \n",
    "df['Cleaned']=df['Question'].apply(lambda x :cleantext(x))"
   ]
  },
  {
   "cell_type": "code",
   "execution_count": 73,
   "metadata": {},
   "outputs": [
    {
     "data": {
      "text/plain": [
       "0                how review product well seller\n",
       "1     how filter search results product ratings\n",
       "2     what ratings reviews i write good reviews\n",
       "3    how i know product comes free installation\n",
       "4             how i know product comes warranty\n",
       "5     i lost warranty card how i claim warranty\n",
       "6        are hidden costs charges i order daraz\n",
       "7                   are prices daraz negotiable\n",
       "8            why i see different prices product\n",
       "9                            how contact vendor\n",
       "Name: Cleaned, dtype: object"
      ]
     },
     "execution_count": 73,
     "metadata": {},
     "output_type": "execute_result"
    }
   ],
   "source": [
    "df['Cleaned'].head(10)"
   ]
  },
  {
   "cell_type": "code",
   "execution_count": 74,
   "metadata": {},
   "outputs": [],
   "source": [
    "vectorizer=TfidfVectorizer()\n",
    "X_=vectorizer.fit_transform(df['Cleaned']).toarray()"
   ]
  },
  {
   "cell_type": "code",
   "execution_count": 80,
   "metadata": {},
   "outputs": [
    {
     "data": {
      "text/plain": [
       "array([[0.        , 0.        , 0.        , 0.        , 0.        ,\n",
       "        0.        , 0.        , 0.        , 0.        , 0.        ,\n",
       "        0.        , 0.        , 0.        , 0.        , 0.        ,\n",
       "        0.        , 0.        , 0.        , 0.        , 0.        ,\n",
       "        0.        , 0.        , 0.        , 0.        , 0.        ,\n",
       "        0.        , 0.        , 0.        , 0.        , 0.        ,\n",
       "        0.        , 0.        , 0.        , 0.        , 0.        ,\n",
       "        0.        , 0.        , 0.        , 0.        , 0.        ,\n",
       "        0.        , 0.        , 0.        , 0.        , 0.        ,\n",
       "        0.        , 0.        , 0.        , 0.28192401, 0.        ,\n",
       "        0.        , 0.        , 0.        , 0.        , 0.        ,\n",
       "        0.        , 0.        , 0.        , 0.        , 0.        ,\n",
       "        0.        , 0.        , 0.        , 0.        , 0.        ,\n",
       "        0.        , 0.        , 0.        , 0.        , 0.        ,\n",
       "        0.        , 0.        , 0.        , 0.        , 0.        ,\n",
       "        0.        , 0.        , 0.        , 0.        , 0.        ,\n",
       "        0.        , 0.3429828 , 0.        , 0.        , 0.        ,\n",
       "        0.        , 0.        , 0.        , 0.        , 0.        ,\n",
       "        0.51732699, 0.        , 0.        , 0.        , 0.        ,\n",
       "        0.        , 0.51732699, 0.        , 0.        , 0.        ,\n",
       "        0.        , 0.        , 0.        , 0.        , 0.        ,\n",
       "        0.        , 0.        , 0.        , 0.        , 0.        ,\n",
       "        0.        , 0.        , 0.        , 0.        , 0.        ,\n",
       "        0.51732699, 0.        , 0.        , 0.        , 0.        ,\n",
       "        0.        , 0.        , 0.        ],\n",
       "       [0.        , 0.        , 0.        , 0.        , 0.        ,\n",
       "        0.        , 0.        , 0.        , 0.        , 0.        ,\n",
       "        0.        , 0.        , 0.        , 0.        , 0.        ,\n",
       "        0.        , 0.        , 0.        , 0.        , 0.        ,\n",
       "        0.        , 0.        , 0.        , 0.        , 0.        ,\n",
       "        0.        , 0.        , 0.        , 0.        , 0.        ,\n",
       "        0.        , 0.        , 0.        , 0.        , 0.        ,\n",
       "        0.        , 0.        , 0.46885265, 0.        , 0.        ,\n",
       "        0.        , 0.        , 0.        , 0.        , 0.        ,\n",
       "        0.        , 0.        , 0.        , 0.25550729, 0.        ,\n",
       "        0.        , 0.        , 0.        , 0.        , 0.        ,\n",
       "        0.        , 0.        , 0.        , 0.        , 0.        ,\n",
       "        0.        , 0.        , 0.        , 0.        , 0.        ,\n",
       "        0.        , 0.        , 0.        , 0.        , 0.        ,\n",
       "        0.        , 0.        , 0.        , 0.        , 0.        ,\n",
       "        0.        , 0.        , 0.        , 0.        , 0.        ,\n",
       "        0.        , 0.31084478, 0.        , 0.        , 0.42263831,\n",
       "        0.        , 0.        , 0.        , 0.46885265, 0.        ,\n",
       "        0.        , 0.        , 0.        , 0.        , 0.46885265,\n",
       "        0.        , 0.        , 0.        , 0.        , 0.        ,\n",
       "        0.        , 0.        , 0.        , 0.        , 0.        ,\n",
       "        0.        , 0.        , 0.        , 0.        , 0.        ,\n",
       "        0.        , 0.        , 0.        , 0.        , 0.        ,\n",
       "        0.        , 0.        , 0.        , 0.        , 0.        ,\n",
       "        0.        , 0.        , 0.        ]])"
      ]
     },
     "execution_count": 80,
     "metadata": {},
     "output_type": "execute_result"
    }
   ],
   "source": [
    "X_[:2]"
   ]
  },
  {
   "cell_type": "code",
   "execution_count": 75,
   "metadata": {},
   "outputs": [
    {
     "data": {
      "text/plain": [
       "(44, 123)"
      ]
     },
     "execution_count": 75,
     "metadata": {},
     "output_type": "execute_result"
    }
   ],
   "source": [
    "X_.shape"
   ]
  },
  {
   "cell_type": "code",
   "execution_count": 76,
   "metadata": {},
   "outputs": [],
   "source": [
    "labelencoder=LabelEncoder()\n",
    "df['Label']=labelencoder.fit_transform(df['Category'])"
   ]
  },
  {
   "cell_type": "code",
   "execution_count": 78,
   "metadata": {},
   "outputs": [
    {
     "data": {
      "text/html": [
       "<div>\n",
       "<style scoped>\n",
       "    .dataframe tbody tr th:only-of-type {\n",
       "        vertical-align: middle;\n",
       "    }\n",
       "\n",
       "    .dataframe tbody tr th {\n",
       "        vertical-align: top;\n",
       "    }\n",
       "\n",
       "    .dataframe thead th {\n",
       "        text-align: right;\n",
       "    }\n",
       "</style>\n",
       "<table border=\"1\" class=\"dataframe\">\n",
       "  <thead>\n",
       "    <tr style=\"text-align: right;\">\n",
       "      <th></th>\n",
       "      <th>Category</th>\n",
       "      <th>Tag</th>\n",
       "      <th>Question</th>\n",
       "      <th>Answer</th>\n",
       "      <th>Cleaned</th>\n",
       "      <th>Label</th>\n",
       "    </tr>\n",
       "  </thead>\n",
       "  <tbody>\n",
       "    <tr>\n",
       "      <th>0</th>\n",
       "      <td>My Account</td>\n",
       "      <td>Rating and Reviews</td>\n",
       "      <td>How to Review Product as well as Seller?</td>\n",
       "      <td>Everything is right here. Please check this ou...</td>\n",
       "      <td>how review product well seller</td>\n",
       "      <td>1</td>\n",
       "    </tr>\n",
       "    <tr>\n",
       "      <th>1</th>\n",
       "      <td>My Account</td>\n",
       "      <td>Rating and Reviews</td>\n",
       "      <td>How to Filter Search Results with Product Rati...</td>\n",
       "      <td>Products can also be filtered according to the...</td>\n",
       "      <td>how filter search results product ratings</td>\n",
       "      <td>1</td>\n",
       "    </tr>\n",
       "    <tr>\n",
       "      <th>2</th>\n",
       "      <td>My Account</td>\n",
       "      <td>Rating and Reviews</td>\n",
       "      <td>What are Ratings &amp; Reviews and how do I write ...</td>\n",
       "      <td>Daraz customers have the option of rating and ...</td>\n",
       "      <td>what ratings reviews i write good reviews</td>\n",
       "      <td>1</td>\n",
       "    </tr>\n",
       "    <tr>\n",
       "      <th>3</th>\n",
       "      <td>My Account</td>\n",
       "      <td>Product Warranty</td>\n",
       "      <td>How do I know if a product comes with free ins...</td>\n",
       "      <td>Unfortunately we are not providing the Free In...</td>\n",
       "      <td>how i know product comes free installation</td>\n",
       "      <td>1</td>\n",
       "    </tr>\n",
       "    <tr>\n",
       "      <th>4</th>\n",
       "      <td>My Account</td>\n",
       "      <td>Product Warranty</td>\n",
       "      <td>How do I know if a product comes with warranty?</td>\n",
       "      <td>If a warranty is offered on a product the warr...</td>\n",
       "      <td>how i know product comes warranty</td>\n",
       "      <td>1</td>\n",
       "    </tr>\n",
       "  </tbody>\n",
       "</table>\n",
       "</div>"
      ],
      "text/plain": [
       "     Category                 Tag  \\\n",
       "0  My Account  Rating and Reviews   \n",
       "1  My Account  Rating and Reviews   \n",
       "2  My Account  Rating and Reviews   \n",
       "3  My Account    Product Warranty   \n",
       "4  My Account    Product Warranty   \n",
       "\n",
       "                                            Question  \\\n",
       "0           How to Review Product as well as Seller?   \n",
       "1  How to Filter Search Results with Product Rati...   \n",
       "2  What are Ratings & Reviews and how do I write ...   \n",
       "3  How do I know if a product comes with free ins...   \n",
       "4    How do I know if a product comes with warranty?   \n",
       "\n",
       "                                              Answer  \\\n",
       "0  Everything is right here. Please check this ou...   \n",
       "1  Products can also be filtered according to the...   \n",
       "2  Daraz customers have the option of rating and ...   \n",
       "3  Unfortunately we are not providing the Free In...   \n",
       "4  If a warranty is offered on a product the warr...   \n",
       "\n",
       "                                      Cleaned  Label  \n",
       "0              how review product well seller      1  \n",
       "1   how filter search results product ratings      1  \n",
       "2   what ratings reviews i write good reviews      1  \n",
       "3  how i know product comes free installation      1  \n",
       "4           how i know product comes warranty      1  "
      ]
     },
     "execution_count": 78,
     "metadata": {},
     "output_type": "execute_result"
    }
   ],
   "source": [
    "df.head()"
   ]
  },
  {
   "cell_type": "code",
   "execution_count": 82,
   "metadata": {},
   "outputs": [],
   "source": [
    "from sklearn.linear_model import LogisticRegression\n",
    "logistic=LogisticRegression()"
   ]
  },
  {
   "cell_type": "code",
   "execution_count": 85,
   "metadata": {},
   "outputs": [],
   "source": [
    "X=X_.copy()\n",
    "y=df['Label']"
   ]
  },
  {
   "cell_type": "code",
   "execution_count": 86,
   "metadata": {},
   "outputs": [
    {
     "data": {
      "text/plain": [
       "LogisticRegression()"
      ]
     },
     "execution_count": 86,
     "metadata": {},
     "output_type": "execute_result"
    }
   ],
   "source": [
    "logistic.fit(X,y)"
   ]
  },
  {
   "cell_type": "code",
   "execution_count": 87,
   "metadata": {},
   "outputs": [
    {
     "data": {
      "text/plain": [
       "0.9090909090909091"
      ]
     },
     "execution_count": 87,
     "metadata": {},
     "output_type": "execute_result"
    }
   ],
   "source": [
    "logistic.score(X,y)"
   ]
  },
  {
   "cell_type": "code",
   "execution_count": 121,
   "metadata": {},
   "outputs": [
    {
     "name": "stdout",
     "output_type": "stream",
     "text": [
      "how check warrenty product\n"
     ]
    },
    {
     "data": {
      "text/plain": [
       "array([[0.        , 0.        , 0.        , 0.        , 0.        ,\n",
       "        0.        , 0.        , 0.        , 0.        , 0.        ,\n",
       "        0.        , 0.        , 0.75885275, 0.        , 0.        ,\n",
       "        0.        , 0.        , 0.        , 0.        , 0.        ,\n",
       "        0.        , 0.        , 0.        , 0.        , 0.        ,\n",
       "        0.        , 0.        , 0.        , 0.        , 0.        ,\n",
       "        0.        , 0.        , 0.        , 0.        , 0.        ,\n",
       "        0.        , 0.        , 0.        , 0.        , 0.        ,\n",
       "        0.        , 0.        , 0.        , 0.        , 0.        ,\n",
       "        0.        , 0.        , 0.        , 0.41354658, 0.        ,\n",
       "        0.        , 0.        , 0.        , 0.        , 0.        ,\n",
       "        0.        , 0.        , 0.        , 0.        , 0.        ,\n",
       "        0.        , 0.        , 0.        , 0.        , 0.        ,\n",
       "        0.        , 0.        , 0.        , 0.        , 0.        ,\n",
       "        0.        , 0.        , 0.        , 0.        , 0.        ,\n",
       "        0.        , 0.        , 0.        , 0.        , 0.        ,\n",
       "        0.        , 0.50311205, 0.        , 0.        , 0.        ,\n",
       "        0.        , 0.        , 0.        , 0.        , 0.        ,\n",
       "        0.        , 0.        , 0.        , 0.        , 0.        ,\n",
       "        0.        , 0.        , 0.        , 0.        , 0.        ,\n",
       "        0.        , 0.        , 0.        , 0.        , 0.        ,\n",
       "        0.        , 0.        , 0.        , 0.        , 0.        ,\n",
       "        0.        , 0.        , 0.        , 0.        , 0.        ,\n",
       "        0.        , 0.        , 0.        , 0.        , 0.        ,\n",
       "        0.        , 0.        , 0.        ]])"
      ]
     },
     "execution_count": 121,
     "metadata": {},
     "output_type": "execute_result"
    }
   ],
   "source": [
    "def return_tfidf_data(text):\n",
    "    return vectorizer.transform([text])\n",
    "\n",
    "def return_similarity(text):\n",
    "    text=cleantext(text)\n",
    "    print(text)\n",
    "    text=return_tfidf_data(text)\n",
    "    return text.toarray()\n",
    "    \n",
    "    \n",
    "temp=return_similarity('How to check warrenty of product?')\n",
    "temp"
   ]
  },
  {
   "cell_type": "code",
   "execution_count": null,
   "metadata": {},
   "outputs": [],
   "source": [
    "cos_sim=cosine_similarity(A.reshape(1,-1),B.reshape(1,-1))\n",
    "print (f\"Cosine Similarity between A and B:{cos_sim}\")\n",
    "print (f\"Cosine Distance between A and B:{1-cos_sim}\")"
   ]
  },
  {
   "cell_type": "code",
   "execution_count": 111,
   "metadata": {},
   "outputs": [
    {
     "data": {
      "application/javascript": [
       "\n",
       "        if (window._pyforest_update_imports_cell) { window._pyforest_update_imports_cell('from sklearn.ensemble import RandomForestRegressor\\nfrom sklearn.ensemble import GradientBoostingRegressor\\nimport numpy as np\\nfrom sklearn.ensemble import GradientBoostingClassifier\\nfrom pathlib import Path\\nfrom sklearn.preprocessing import OneHotEncoder\\nfrom sklearn.ensemble import RandomForestClassifier'); }\n",
       "    "
      ],
      "text/plain": [
       "<IPython.core.display.Javascript object>"
      ]
     },
     "metadata": {},
     "output_type": "display_data"
    }
   ],
   "source": [
    "cos_sim=[cosine_similarity(X_[i].reshape(1,-1),temp.reshape(1,-1)) for i in range(len(X_))]\n",
    "cos_sim=np.array(cos_sim)\n",
    "\n",
    "cos_sim=cos_sim.flatten()"
   ]
  },
  {
   "cell_type": "code",
   "execution_count": 112,
   "metadata": {},
   "outputs": [],
   "source": [
    "df_temp=df.copy()\n",
    "df_temp['Cos_sim']=cos_sim"
   ]
  },
  {
   "cell_type": "code",
   "execution_count": 113,
   "metadata": {},
   "outputs": [
    {
     "data": {
      "text/html": [
       "<div>\n",
       "<style scoped>\n",
       "    .dataframe tbody tr th:only-of-type {\n",
       "        vertical-align: middle;\n",
       "    }\n",
       "\n",
       "    .dataframe tbody tr th {\n",
       "        vertical-align: top;\n",
       "    }\n",
       "\n",
       "    .dataframe thead th {\n",
       "        text-align: right;\n",
       "    }\n",
       "</style>\n",
       "<table border=\"1\" class=\"dataframe\">\n",
       "  <thead>\n",
       "    <tr style=\"text-align: right;\">\n",
       "      <th></th>\n",
       "      <th>Category</th>\n",
       "      <th>Tag</th>\n",
       "      <th>Question</th>\n",
       "      <th>Answer</th>\n",
       "      <th>Cleaned</th>\n",
       "      <th>Label</th>\n",
       "      <th>Cos_sim</th>\n",
       "    </tr>\n",
       "  </thead>\n",
       "  <tbody>\n",
       "    <tr>\n",
       "      <th>0</th>\n",
       "      <td>My Account</td>\n",
       "      <td>Rating and Reviews</td>\n",
       "      <td>How to Review Product as well as Seller?</td>\n",
       "      <td>Everything is right here. Please check this ou...</td>\n",
       "      <td>how review product well seller</td>\n",
       "      <td>1</td>\n",
       "      <td>0.289147</td>\n",
       "    </tr>\n",
       "    <tr>\n",
       "      <th>1</th>\n",
       "      <td>My Account</td>\n",
       "      <td>Rating and Reviews</td>\n",
       "      <td>How to Filter Search Results with Product Rati...</td>\n",
       "      <td>Products can also be filtered according to the...</td>\n",
       "      <td>how filter search results product ratings</td>\n",
       "      <td>1</td>\n",
       "      <td>0.262054</td>\n",
       "    </tr>\n",
       "    <tr>\n",
       "      <th>2</th>\n",
       "      <td>My Account</td>\n",
       "      <td>Rating and Reviews</td>\n",
       "      <td>What are Ratings &amp; Reviews and how do I write ...</td>\n",
       "      <td>Daraz customers have the option of rating and ...</td>\n",
       "      <td>what ratings reviews i write good reviews</td>\n",
       "      <td>1</td>\n",
       "      <td>0.000000</td>\n",
       "    </tr>\n",
       "    <tr>\n",
       "      <th>3</th>\n",
       "      <td>My Account</td>\n",
       "      <td>Product Warranty</td>\n",
       "      <td>How do I know if a product comes with free ins...</td>\n",
       "      <td>Unfortunately we are not providing the Free In...</td>\n",
       "      <td>how i know product comes free installation</td>\n",
       "      <td>1</td>\n",
       "      <td>0.267625</td>\n",
       "    </tr>\n",
       "    <tr>\n",
       "      <th>4</th>\n",
       "      <td>My Account</td>\n",
       "      <td>Product Warranty</td>\n",
       "      <td>How do I know if a product comes with warranty?</td>\n",
       "      <td>If a warranty is offered on a product the warr...</td>\n",
       "      <td>how i know product comes warranty</td>\n",
       "      <td>1</td>\n",
       "      <td>0.313713</td>\n",
       "    </tr>\n",
       "  </tbody>\n",
       "</table>\n",
       "</div>"
      ],
      "text/plain": [
       "     Category                 Tag  \\\n",
       "0  My Account  Rating and Reviews   \n",
       "1  My Account  Rating and Reviews   \n",
       "2  My Account  Rating and Reviews   \n",
       "3  My Account    Product Warranty   \n",
       "4  My Account    Product Warranty   \n",
       "\n",
       "                                            Question  \\\n",
       "0           How to Review Product as well as Seller?   \n",
       "1  How to Filter Search Results with Product Rati...   \n",
       "2  What are Ratings & Reviews and how do I write ...   \n",
       "3  How do I know if a product comes with free ins...   \n",
       "4    How do I know if a product comes with warranty?   \n",
       "\n",
       "                                              Answer  \\\n",
       "0  Everything is right here. Please check this ou...   \n",
       "1  Products can also be filtered according to the...   \n",
       "2  Daraz customers have the option of rating and ...   \n",
       "3  Unfortunately we are not providing the Free In...   \n",
       "4  If a warranty is offered on a product the warr...   \n",
       "\n",
       "                                      Cleaned  Label   Cos_sim  \n",
       "0              how review product well seller      1  0.289147  \n",
       "1   how filter search results product ratings      1  0.262054  \n",
       "2   what ratings reviews i write good reviews      1  0.000000  \n",
       "3  how i know product comes free installation      1  0.267625  \n",
       "4           how i know product comes warranty      1  0.313713  "
      ]
     },
     "execution_count": 113,
     "metadata": {},
     "output_type": "execute_result"
    }
   ],
   "source": [
    "df_temp.head()"
   ]
  },
  {
   "cell_type": "code",
   "execution_count": 116,
   "metadata": {},
   "outputs": [
    {
     "data": {
      "text/html": [
       "<div>\n",
       "<style scoped>\n",
       "    .dataframe tbody tr th:only-of-type {\n",
       "        vertical-align: middle;\n",
       "    }\n",
       "\n",
       "    .dataframe tbody tr th {\n",
       "        vertical-align: top;\n",
       "    }\n",
       "\n",
       "    .dataframe thead th {\n",
       "        text-align: right;\n",
       "    }\n",
       "</style>\n",
       "<table border=\"1\" class=\"dataframe\">\n",
       "  <thead>\n",
       "    <tr style=\"text-align: right;\">\n",
       "      <th></th>\n",
       "      <th>Category</th>\n",
       "      <th>Tag</th>\n",
       "      <th>Question</th>\n",
       "      <th>Answer</th>\n",
       "      <th>Cleaned</th>\n",
       "      <th>Label</th>\n",
       "      <th>Cos_sim</th>\n",
       "    </tr>\n",
       "  </thead>\n",
       "  <tbody>\n",
       "    <tr>\n",
       "      <th>32</th>\n",
       "      <td>Ordering</td>\n",
       "      <td>Big mart</td>\n",
       "      <td>Problems with Check Out/ or any issues encount...</td>\n",
       "      <td>If you are facing any error while placing the ...</td>\n",
       "      <td>problems check out issues encountered</td>\n",
       "      <td>2</td>\n",
       "      <td>0.339369</td>\n",
       "    </tr>\n",
       "    <tr>\n",
       "      <th>15</th>\n",
       "      <td>DarazMall</td>\n",
       "      <td>What is Darazmall</td>\n",
       "      <td>How can I identify a DarazMall product in the ...</td>\n",
       "      <td>You can identify\" DarazMall\" products by the \"...</td>\n",
       "      <td>how i identify darazmall product website</td>\n",
       "      <td>0</td>\n",
       "      <td>0.314758</td>\n",
       "    </tr>\n",
       "    <tr>\n",
       "      <th>4</th>\n",
       "      <td>My Account</td>\n",
       "      <td>Product Warranty</td>\n",
       "      <td>How do I know if a product comes with warranty?</td>\n",
       "      <td>If a warranty is offered on a product the warr...</td>\n",
       "      <td>how i know product comes warranty</td>\n",
       "      <td>1</td>\n",
       "      <td>0.313713</td>\n",
       "    </tr>\n",
       "    <tr>\n",
       "      <th>0</th>\n",
       "      <td>My Account</td>\n",
       "      <td>Rating and Reviews</td>\n",
       "      <td>How to Review Product as well as Seller?</td>\n",
       "      <td>Everything is right here. Please check this ou...</td>\n",
       "      <td>how review product well seller</td>\n",
       "      <td>1</td>\n",
       "      <td>0.289147</td>\n",
       "    </tr>\n",
       "    <tr>\n",
       "      <th>3</th>\n",
       "      <td>My Account</td>\n",
       "      <td>Product Warranty</td>\n",
       "      <td>How do I know if a product comes with free ins...</td>\n",
       "      <td>Unfortunately we are not providing the Free In...</td>\n",
       "      <td>how i know product comes free installation</td>\n",
       "      <td>1</td>\n",
       "      <td>0.267625</td>\n",
       "    </tr>\n",
       "  </tbody>\n",
       "</table>\n",
       "</div>"
      ],
      "text/plain": [
       "      Category                 Tag  \\\n",
       "32    Ordering            Big mart   \n",
       "15   DarazMall   What is Darazmall   \n",
       "4   My Account    Product Warranty   \n",
       "0   My Account  Rating and Reviews   \n",
       "3   My Account    Product Warranty   \n",
       "\n",
       "                                             Question  \\\n",
       "32  Problems with Check Out/ or any issues encount...   \n",
       "15  How can I identify a DarazMall product in the ...   \n",
       "4     How do I know if a product comes with warranty?   \n",
       "0            How to Review Product as well as Seller?   \n",
       "3   How do I know if a product comes with free ins...   \n",
       "\n",
       "                                               Answer  \\\n",
       "32  If you are facing any error while placing the ...   \n",
       "15  You can identify\" DarazMall\" products by the \"...   \n",
       "4   If a warranty is offered on a product the warr...   \n",
       "0   Everything is right here. Please check this ou...   \n",
       "3   Unfortunately we are not providing the Free In...   \n",
       "\n",
       "                                       Cleaned  Label   Cos_sim  \n",
       "32       problems check out issues encountered      2  0.339369  \n",
       "15    how i identify darazmall product website      0  0.314758  \n",
       "4            how i know product comes warranty      1  0.313713  \n",
       "0               how review product well seller      1  0.289147  \n",
       "3   how i know product comes free installation      1  0.267625  "
      ]
     },
     "execution_count": 116,
     "metadata": {},
     "output_type": "execute_result"
    }
   ],
   "source": [
    "df_temp.sort_values('Cos_sim',ascending=False).head()"
   ]
  },
  {
   "cell_type": "code",
   "execution_count": null,
   "metadata": {},
   "outputs": [],
   "source": []
  },
  {
   "cell_type": "code",
   "execution_count": null,
   "metadata": {},
   "outputs": [],
   "source": []
  },
  {
   "cell_type": "code",
   "execution_count": null,
   "metadata": {},
   "outputs": [],
   "source": []
  },
  {
   "cell_type": "code",
   "execution_count": null,
   "metadata": {},
   "outputs": [],
   "source": []
  },
  {
   "cell_type": "code",
   "execution_count": null,
   "metadata": {},
   "outputs": [],
   "source": []
  },
  {
   "cell_type": "code",
   "execution_count": null,
   "metadata": {},
   "outputs": [],
   "source": []
  },
  {
   "cell_type": "code",
   "execution_count": null,
   "metadata": {},
   "outputs": [],
   "source": []
  },
  {
   "cell_type": "code",
   "execution_count": null,
   "metadata": {},
   "outputs": [],
   "source": []
  },
  {
   "cell_type": "code",
   "execution_count": null,
   "metadata": {},
   "outputs": [],
   "source": []
  },
  {
   "cell_type": "code",
   "execution_count": null,
   "metadata": {},
   "outputs": [],
   "source": []
  },
  {
   "cell_type": "code",
   "execution_count": null,
   "metadata": {},
   "outputs": [],
   "source": []
  }
 ],
 "metadata": {
  "kernelspec": {
   "display_name": "Python 3",
   "language": "python",
   "name": "python3"
  },
  "language_info": {
   "codemirror_mode": {
    "name": "ipython",
    "version": 3
   },
   "file_extension": ".py",
   "mimetype": "text/x-python",
   "name": "python",
   "nbconvert_exporter": "python",
   "pygments_lexer": "ipython3",
   "version": "3.7.7"
  }
 },
 "nbformat": 4,
 "nbformat_minor": 4
}
