{
 "cells": [
  {
   "cell_type": "code",
   "execution_count": 49,
   "metadata": {
    "scrolled": true
   },
   "outputs": [
    {
     "data": {
      "text/plain": [
       "array([[0.25745555, 0.56823825, 0.76102109],\n",
       "       [0.99918633, 0.35541798, 0.32050845],\n",
       "       [0.81593997, 0.27103716, 0.36018152],\n",
       "       [0.79800411, 0.84256886, 0.06115749],\n",
       "       [0.82906539, 0.35645145, 0.70417957],\n",
       "       [0.07080568, 0.39635355, 0.60240259],\n",
       "       [0.89473882, 0.97619298, 0.41705498],\n",
       "       [0.31454807, 0.66982026, 0.21147415],\n",
       "       [0.67090733, 0.67597341, 0.53178911],\n",
       "       [0.2027379 , 0.77660532, 0.47489518]])"
      ]
     },
     "execution_count": 49,
     "metadata": {},
     "output_type": "execute_result"
    }
   ],
   "source": [
    "import numpy as np\n",
    "import matplotlib.pyplot as pl\n",
    "%matplotlib inline\n",
    "x=np.random.random((10,3))\n",
    "x\n",
    "\n"
   ]
  },
  {
   "cell_type": "code",
   "execution_count": 15,
   "metadata": {},
   "outputs": [
    {
     "data": {
      "text/plain": [
       "(array([0.5300958 , 0.5645174 , 0.66061705]),\n",
       " array([0.12010394, 0.44890874, 0.56559468, 0.67067754, 0.65116265,\n",
       "        0.63391858, 0.66083928, 0.63692772, 0.8048793 , 0.65775507]))"
      ]
     },
     "execution_count": 15,
     "metadata": {},
     "output_type": "execute_result"
    }
   ],
   "source": [
    "xmean1=x.mean(0)\n",
    "xmean2=x.mean(1)\n",
    "xmean1,xmean2"
   ]
  },
  {
   "cell_type": "code",
   "execution_count": 22,
   "metadata": {},
   "outputs": [
    {
     "data": {
      "text/plain": [
       "array([ 3.33066907e-17, -1.11022302e-17,  6.66133815e-17])"
      ]
     },
     "execution_count": 22,
     "metadata": {},
     "output_type": "execute_result"
    }
   ],
   "source": [
    "x_centered=x-xmean1\n",
    "x_centered.mean(0)\n"
   ]
  },
  {
   "cell_type": "code",
   "execution_count": 32,
   "metadata": {},
   "outputs": [
    {
     "name": "stdout",
     "output_type": "stream",
     "text": [
      "[[4 2 2]\n",
      " [3 3 3]\n",
      " [5 5 5]]\n"
     ]
    },
    {
     "data": {
      "text/plain": [
       "array([2.66666667, 3.        , 5.        ])"
      ]
     },
     "execution_count": 32,
     "metadata": {},
     "output_type": "execute_result"
    }
   ],
   "source": [
    "a=np.array([[4,2,2],[3,3,3],[5,5,5]])\n",
    "print(a)\n",
    "a.mean(1)"
   ]
  },
  {
   "cell_type": "code",
   "execution_count": 52,
   "metadata": {},
   "outputs": [
    {
     "data": {
      "text/plain": [
       "(array([0.        , 0.10204082, 0.20408163, 0.30612245, 0.40816327,\n",
       "        0.51020408, 0.6122449 , 0.71428571, 0.81632653, 0.91836735,\n",
       "        1.02040816, 1.12244898, 1.2244898 , 1.32653061, 1.42857143,\n",
       "        1.53061224, 1.63265306, 1.73469388, 1.83673469, 1.93877551,\n",
       "        2.04081633, 2.14285714, 2.24489796, 2.34693878, 2.44897959,\n",
       "        2.55102041, 2.65306122, 2.75510204, 2.85714286, 2.95918367,\n",
       "        3.06122449, 3.16326531, 3.26530612, 3.36734694, 3.46938776,\n",
       "        3.57142857, 3.67346939, 3.7755102 , 3.87755102, 3.97959184,\n",
       "        4.08163265, 4.18367347, 4.28571429, 4.3877551 , 4.48979592,\n",
       "        4.59183673, 4.69387755, 4.79591837, 4.89795918, 5.        ]),\n",
       " array([[0.        ],\n",
       "        [0.10204082],\n",
       "        [0.20408163],\n",
       "        [0.30612245],\n",
       "        [0.40816327],\n",
       "        [0.51020408],\n",
       "        [0.6122449 ],\n",
       "        [0.71428571],\n",
       "        [0.81632653],\n",
       "        [0.91836735],\n",
       "        [1.02040816],\n",
       "        [1.12244898],\n",
       "        [1.2244898 ],\n",
       "        [1.32653061],\n",
       "        [1.42857143],\n",
       "        [1.53061224],\n",
       "        [1.63265306],\n",
       "        [1.73469388],\n",
       "        [1.83673469],\n",
       "        [1.93877551],\n",
       "        [2.04081633],\n",
       "        [2.14285714],\n",
       "        [2.24489796],\n",
       "        [2.34693878],\n",
       "        [2.44897959],\n",
       "        [2.55102041],\n",
       "        [2.65306122],\n",
       "        [2.75510204],\n",
       "        [2.85714286],\n",
       "        [2.95918367],\n",
       "        [3.06122449],\n",
       "        [3.16326531],\n",
       "        [3.26530612],\n",
       "        [3.36734694],\n",
       "        [3.46938776],\n",
       "        [3.57142857],\n",
       "        [3.67346939],\n",
       "        [3.7755102 ],\n",
       "        [3.87755102],\n",
       "        [3.97959184],\n",
       "        [4.08163265],\n",
       "        [4.18367347],\n",
       "        [4.28571429],\n",
       "        [4.3877551 ],\n",
       "        [4.48979592],\n",
       "        [4.59183673],\n",
       "        [4.69387755],\n",
       "        [4.79591837],\n",
       "        [4.89795918],\n",
       "        [5.        ]]))"
      ]
     },
     "execution_count": 52,
     "metadata": {},
     "output_type": "execute_result"
    }
   ],
   "source": [
    "x=np.linspace(0,5,50)\n",
    "y=np.linspace(0,5,50)[:,np.newaxis]\n",
    "x,y"
   ]
  },
  {
   "cell_type": "code",
   "execution_count": 54,
   "metadata": {},
   "outputs": [
    {
     "data": {
      "text/plain": [
       "<matplotlib.colorbar.Colorbar at 0x16e2deb0>"
      ]
     },
     "execution_count": 54,
     "metadata": {},
     "output_type": "execute_result"
    },
    {
     "data": {
      "image/png": "[encoded data removed]",
      "text/plain": [
       "<Figure size 432x288 with 2 Axes>"
      ]
     },
     "metadata": {
      "needs_background": "light"
     },
     "output_type": "display_data"
    }
   ],
   "source": [
    "z=np.sin(x)**10 +np.cos(10+y*x)*np.cos(x)\n",
    "pl.imshow(z,origin=\"lower\",extent=[0,5,0,5],cmap='viridis')\n",
    "pl.colorbar()"
   ]
  },
  {
   "cell_type": "code",
   "execution_count": 87,
   "metadata": {},
   "outputs": [
    {
     "data": {
      "text/html": [
       "<div>\n",
       "<style scoped>\n",
       "    .dataframe tbody tr th:only-of-type {\n",
       "        vertical-align: middle;\n",
       "    }\n",
       "\n",
       "    .dataframe tbody tr th {\n",
       "        vertical-align: top;\n",
       "    }\n",
       "\n",
       "    .dataframe thead th {\n",
       "        text-align: right;\n",
       "    }\n",
       "</style>\n",
       "<table border=\"1\" class=\"dataframe\">\n",
       "  <thead>\n",
       "    <tr style=\"text-align: right;\">\n",
       "      <th></th>\n",
       "      <th>STATION</th>\n",
       "      <th>STATION_NAME</th>\n",
       "      <th>DATE</th>\n",
       "      <th>PRCP</th>\n",
       "      <th>SNWD</th>\n",
       "      <th>SNOW</th>\n",
       "      <th>TMAX</th>\n",
       "      <th>TMIN</th>\n",
       "      <th>AWND</th>\n",
       "      <th>WDF2</th>\n",
       "      <th>WDF5</th>\n",
       "      <th>WSF2</th>\n",
       "      <th>WSF5</th>\n",
       "      <th>WT01</th>\n",
       "      <th>WT05</th>\n",
       "      <th>WT02</th>\n",
       "      <th>WT03</th>\n",
       "    </tr>\n",
       "  </thead>\n",
       "  <tbody>\n",
       "    <tr>\n",
       "      <td>0</td>\n",
       "      <td>GHCND:USW00024233</td>\n",
       "      <td>SEATTLE TACOMA INTERNATIONAL AIRPORT WA US</td>\n",
       "      <td>20140101</td>\n",
       "      <td>0</td>\n",
       "      <td>0</td>\n",
       "      <td>0</td>\n",
       "      <td>72</td>\n",
       "      <td>33</td>\n",
       "      <td>12</td>\n",
       "      <td>340</td>\n",
       "      <td>310</td>\n",
       "      <td>36</td>\n",
       "      <td>40</td>\n",
       "      <td>-9999</td>\n",
       "      <td>-9999</td>\n",
       "      <td>-9999</td>\n",
       "      <td>-9999</td>\n",
       "    </tr>\n",
       "    <tr>\n",
       "      <td>1</td>\n",
       "      <td>GHCND:USW00024233</td>\n",
       "      <td>SEATTLE TACOMA INTERNATIONAL AIRPORT WA US</td>\n",
       "      <td>20140102</td>\n",
       "      <td>41</td>\n",
       "      <td>0</td>\n",
       "      <td>0</td>\n",
       "      <td>106</td>\n",
       "      <td>61</td>\n",
       "      <td>32</td>\n",
       "      <td>190</td>\n",
       "      <td>200</td>\n",
       "      <td>94</td>\n",
       "      <td>116</td>\n",
       "      <td>-9999</td>\n",
       "      <td>-9999</td>\n",
       "      <td>-9999</td>\n",
       "      <td>-9999</td>\n",
       "    </tr>\n",
       "    <tr>\n",
       "      <td>2</td>\n",
       "      <td>GHCND:USW00024233</td>\n",
       "      <td>SEATTLE TACOMA INTERNATIONAL AIRPORT WA US</td>\n",
       "      <td>20140103</td>\n",
       "      <td>15</td>\n",
       "      <td>0</td>\n",
       "      <td>0</td>\n",
       "      <td>89</td>\n",
       "      <td>28</td>\n",
       "      <td>26</td>\n",
       "      <td>30</td>\n",
       "      <td>50</td>\n",
       "      <td>63</td>\n",
       "      <td>72</td>\n",
       "      <td>1</td>\n",
       "      <td>-9999</td>\n",
       "      <td>-9999</td>\n",
       "      <td>-9999</td>\n",
       "    </tr>\n",
       "    <tr>\n",
       "      <td>3</td>\n",
       "      <td>GHCND:USW00024233</td>\n",
       "      <td>SEATTLE TACOMA INTERNATIONAL AIRPORT WA US</td>\n",
       "      <td>20140104</td>\n",
       "      <td>0</td>\n",
       "      <td>0</td>\n",
       "      <td>0</td>\n",
       "      <td>78</td>\n",
       "      <td>6</td>\n",
       "      <td>27</td>\n",
       "      <td>40</td>\n",
       "      <td>40</td>\n",
       "      <td>45</td>\n",
       "      <td>58</td>\n",
       "      <td>1</td>\n",
       "      <td>-9999</td>\n",
       "      <td>-9999</td>\n",
       "      <td>-9999</td>\n",
       "    </tr>\n",
       "    <tr>\n",
       "      <td>4</td>\n",
       "      <td>GHCND:USW00024233</td>\n",
       "      <td>SEATTLE TACOMA INTERNATIONAL AIRPORT WA US</td>\n",
       "      <td>20140105</td>\n",
       "      <td>0</td>\n",
       "      <td>0</td>\n",
       "      <td>0</td>\n",
       "      <td>83</td>\n",
       "      <td>-5</td>\n",
       "      <td>37</td>\n",
       "      <td>10</td>\n",
       "      <td>10</td>\n",
       "      <td>67</td>\n",
       "      <td>76</td>\n",
       "      <td>-9999</td>\n",
       "      <td>-9999</td>\n",
       "      <td>-9999</td>\n",
       "      <td>-9999</td>\n",
       "    </tr>\n",
       "  </tbody>\n",
       "</table>\n",
       "</div>"
      ],
      "text/plain": [
       "             STATION                                STATION_NAME      DATE  \\\n",
       "0  GHCND:USW00024233  SEATTLE TACOMA INTERNATIONAL AIRPORT WA US  20140101   \n",
       "1  GHCND:USW00024233  SEATTLE TACOMA INTERNATIONAL AIRPORT WA US  20140102   \n",
       "2  GHCND:USW00024233  SEATTLE TACOMA INTERNATIONAL AIRPORT WA US  20140103   \n",
       "3  GHCND:USW00024233  SEATTLE TACOMA INTERNATIONAL AIRPORT WA US  20140104   \n",
       "4  GHCND:USW00024233  SEATTLE TACOMA INTERNATIONAL AIRPORT WA US  20140105   \n",
       "\n",
       "   PRCP  SNWD  SNOW  TMAX  TMIN  AWND  WDF2  WDF5  WSF2  WSF5  WT01  WT05  \\\n",
       "0     0     0     0    72    33    12   340   310    36    40 -9999 -9999   \n",
       "1    41     0     0   106    61    32   190   200    94   116 -9999 -9999   \n",
       "2    15     0     0    89    28    26    30    50    63    72     1 -9999   \n",
       "3     0     0     0    78     6    27    40    40    45    58     1 -9999   \n",
       "4     0     0     0    83    -5    37    10    10    67    76 -9999 -9999   \n",
       "\n",
       "   WT02  WT03  \n",
       "0 -9999 -9999  \n",
       "1 -9999 -9999  \n",
       "2 -9999 -9999  \n",
       "3 -9999 -9999  \n",
       "4 -9999 -9999  "
      ]
     },
     "execution_count": 87,
     "metadata": {},
     "output_type": "execute_result"
    }
   ],
   "source": [
    "import numpy as np\n",
    "import pandas as pd\n",
    "import matplotlib.pyplot as pl\n",
    "import seaborn as sns\n",
    "# we can import any values directly by mentioning this row name........\n",
    "# rainfall=pd.read_csv(\"Seattle2014.csv\")['PRCP'].values\n",
    "df=pd.read_csv(\"Seattle2014.csv\")\n",
    "rainfall=df[\"PRCP\"].values\n",
    "inches=rainfall/254\n",
    "inches.shape\n",
    "df.head()"
   ]
  },
  {
   "cell_type": "code",
   "execution_count": 97,
   "metadata": {},
   "outputs": [
    {
     "data": {
      "text/html": [
       "<div>\n",
       "<style scoped>\n",
       "    .dataframe tbody tr th:only-of-type {\n",
       "        vertical-align: middle;\n",
       "    }\n",
       "\n",
       "    .dataframe tbody tr th {\n",
       "        vertical-align: top;\n",
       "    }\n",
       "\n",
       "    .dataframe thead th {\n",
       "        text-align: right;\n",
       "    }\n",
       "</style>\n",
       "<table border=\"1\" class=\"dataframe\">\n",
       "  <thead>\n",
       "    <tr style=\"text-align: right;\">\n",
       "      <th></th>\n",
       "      <th>STATION</th>\n",
       "      <th>STATION_NAME</th>\n",
       "      <th>DATE</th>\n",
       "      <th>PRCP</th>\n",
       "      <th>SNWD</th>\n",
       "      <th>SNOW</th>\n",
       "      <th>TMAX</th>\n",
       "      <th>TMIN</th>\n",
       "      <th>AWND</th>\n",
       "      <th>WDF2</th>\n",
       "      <th>WDF5</th>\n",
       "      <th>WSF2</th>\n",
       "      <th>WSF5</th>\n",
       "      <th>WT01</th>\n",
       "      <th>WT05</th>\n",
       "      <th>WT02</th>\n",
       "      <th>WT03</th>\n",
       "    </tr>\n",
       "  </thead>\n",
       "  <tbody>\n",
       "    <tr>\n",
       "      <td>0</td>\n",
       "      <td>GHCND:USW00024233</td>\n",
       "      <td>SEATTLE TACOMA INTERNATIONAL AIRPORT WA US</td>\n",
       "      <td>20140101</td>\n",
       "      <td>0</td>\n",
       "      <td>0</td>\n",
       "      <td>0</td>\n",
       "      <td>72</td>\n",
       "      <td>33</td>\n",
       "      <td>12</td>\n",
       "      <td>340</td>\n",
       "      <td>310</td>\n",
       "      <td>36</td>\n",
       "      <td>40</td>\n",
       "      <td>-9999</td>\n",
       "      <td>-9999</td>\n",
       "      <td>-9999</td>\n",
       "      <td>-9999</td>\n",
       "    </tr>\n",
       "    <tr>\n",
       "      <td>1</td>\n",
       "      <td>GHCND:USW00024233</td>\n",
       "      <td>SEATTLE TACOMA INTERNATIONAL AIRPORT WA US</td>\n",
       "      <td>20140102</td>\n",
       "      <td>41</td>\n",
       "      <td>0</td>\n",
       "      <td>0</td>\n",
       "      <td>106</td>\n",
       "      <td>61</td>\n",
       "      <td>32</td>\n",
       "      <td>190</td>\n",
       "      <td>200</td>\n",
       "      <td>94</td>\n",
       "      <td>116</td>\n",
       "      <td>-9999</td>\n",
       "      <td>-9999</td>\n",
       "      <td>-9999</td>\n",
       "      <td>-9999</td>\n",
       "    </tr>\n",
       "    <tr>\n",
       "      <td>2</td>\n",
       "      <td>GHCND:USW00024233</td>\n",
       "      <td>SEATTLE TACOMA INTERNATIONAL AIRPORT WA US</td>\n",
       "      <td>20140103</td>\n",
       "      <td>15</td>\n",
       "      <td>0</td>\n",
       "      <td>0</td>\n",
       "      <td>89</td>\n",
       "      <td>28</td>\n",
       "      <td>26</td>\n",
       "      <td>30</td>\n",
       "      <td>50</td>\n",
       "      <td>63</td>\n",
       "      <td>72</td>\n",
       "      <td>1</td>\n",
       "      <td>-9999</td>\n",
       "      <td>-9999</td>\n",
       "      <td>-9999</td>\n",
       "    </tr>\n",
       "    <tr>\n",
       "      <td>3</td>\n",
       "      <td>GHCND:USW00024233</td>\n",
       "      <td>SEATTLE TACOMA INTERNATIONAL AIRPORT WA US</td>\n",
       "      <td>20140104</td>\n",
       "      <td>0</td>\n",
       "      <td>0</td>\n",
       "      <td>0</td>\n",
       "      <td>78</td>\n",
       "      <td>6</td>\n",
       "      <td>27</td>\n",
       "      <td>40</td>\n",
       "      <td>40</td>\n",
       "      <td>45</td>\n",
       "      <td>58</td>\n",
       "      <td>1</td>\n",
       "      <td>-9999</td>\n",
       "      <td>-9999</td>\n",
       "      <td>-9999</td>\n",
       "    </tr>\n",
       "    <tr>\n",
       "      <td>4</td>\n",
       "      <td>GHCND:USW00024233</td>\n",
       "      <td>SEATTLE TACOMA INTERNATIONAL AIRPORT WA US</td>\n",
       "      <td>20140105</td>\n",
       "      <td>0</td>\n",
       "      <td>0</td>\n",
       "      <td>0</td>\n",
       "      <td>83</td>\n",
       "      <td>-5</td>\n",
       "      <td>37</td>\n",
       "      <td>10</td>\n",
       "      <td>10</td>\n",
       "      <td>67</td>\n",
       "      <td>76</td>\n",
       "      <td>-9999</td>\n",
       "      <td>-9999</td>\n",
       "      <td>-9999</td>\n",
       "      <td>-9999</td>\n",
       "    </tr>\n",
       "    <tr>\n",
       "      <td>5</td>\n",
       "      <td>GHCND:USW00024233</td>\n",
       "      <td>SEATTLE TACOMA INTERNATIONAL AIRPORT WA US</td>\n",
       "      <td>20140106</td>\n",
       "      <td>3</td>\n",
       "      <td>0</td>\n",
       "      <td>0</td>\n",
       "      <td>78</td>\n",
       "      <td>-5</td>\n",
       "      <td>26</td>\n",
       "      <td>210</td>\n",
       "      <td>210</td>\n",
       "      <td>112</td>\n",
       "      <td>125</td>\n",
       "      <td>1</td>\n",
       "      <td>-9999</td>\n",
       "      <td>-9999</td>\n",
       "      <td>-9999</td>\n",
       "    </tr>\n",
       "    <tr>\n",
       "      <td>6</td>\n",
       "      <td>GHCND:USW00024233</td>\n",
       "      <td>SEATTLE TACOMA INTERNATIONAL AIRPORT WA US</td>\n",
       "      <td>20140107</td>\n",
       "      <td>122</td>\n",
       "      <td>0</td>\n",
       "      <td>0</td>\n",
       "      <td>83</td>\n",
       "      <td>50</td>\n",
       "      <td>16</td>\n",
       "      <td>160</td>\n",
       "      <td>150</td>\n",
       "      <td>45</td>\n",
       "      <td>54</td>\n",
       "      <td>-9999</td>\n",
       "      <td>-9999</td>\n",
       "      <td>-9999</td>\n",
       "      <td>-9999</td>\n",
       "    </tr>\n",
       "    <tr>\n",
       "      <td>7</td>\n",
       "      <td>GHCND:USW00024233</td>\n",
       "      <td>SEATTLE TACOMA INTERNATIONAL AIRPORT WA US</td>\n",
       "      <td>20140108</td>\n",
       "      <td>97</td>\n",
       "      <td>0</td>\n",
       "      <td>0</td>\n",
       "      <td>100</td>\n",
       "      <td>72</td>\n",
       "      <td>46</td>\n",
       "      <td>180</td>\n",
       "      <td>180</td>\n",
       "      <td>107</td>\n",
       "      <td>143</td>\n",
       "      <td>1</td>\n",
       "      <td>-9999</td>\n",
       "      <td>-9999</td>\n",
       "      <td>-9999</td>\n",
       "    </tr>\n",
       "    <tr>\n",
       "      <td>8</td>\n",
       "      <td>GHCND:USW00024233</td>\n",
       "      <td>SEATTLE TACOMA INTERNATIONAL AIRPORT WA US</td>\n",
       "      <td>20140109</td>\n",
       "      <td>58</td>\n",
       "      <td>0</td>\n",
       "      <td>0</td>\n",
       "      <td>94</td>\n",
       "      <td>56</td>\n",
       "      <td>63</td>\n",
       "      <td>210</td>\n",
       "      <td>230</td>\n",
       "      <td>143</td>\n",
       "      <td>183</td>\n",
       "      <td>1</td>\n",
       "      <td>-9999</td>\n",
       "      <td>-9999</td>\n",
       "      <td>-9999</td>\n",
       "    </tr>\n",
       "    <tr>\n",
       "      <td>9</td>\n",
       "      <td>GHCND:USW00024233</td>\n",
       "      <td>SEATTLE TACOMA INTERNATIONAL AIRPORT WA US</td>\n",
       "      <td>20140110</td>\n",
       "      <td>43</td>\n",
       "      <td>0</td>\n",
       "      <td>0</td>\n",
       "      <td>128</td>\n",
       "      <td>83</td>\n",
       "      <td>70</td>\n",
       "      <td>200</td>\n",
       "      <td>200</td>\n",
       "      <td>134</td>\n",
       "      <td>183</td>\n",
       "      <td>-9999</td>\n",
       "      <td>-9999</td>\n",
       "      <td>-9999</td>\n",
       "      <td>-9999</td>\n",
       "    </tr>\n",
       "    <tr>\n",
       "      <td>10</td>\n",
       "      <td>GHCND:USW00024233</td>\n",
       "      <td>SEATTLE TACOMA INTERNATIONAL AIRPORT WA US</td>\n",
       "      <td>20140111</td>\n",
       "      <td>213</td>\n",
       "      <td>0</td>\n",
       "      <td>0</td>\n",
       "      <td>144</td>\n",
       "      <td>72</td>\n",
       "      <td>88</td>\n",
       "      <td>210</td>\n",
       "      <td>200</td>\n",
       "      <td>183</td>\n",
       "      <td>250</td>\n",
       "      <td>1</td>\n",
       "      <td>-9999</td>\n",
       "      <td>-9999</td>\n",
       "      <td>-9999</td>\n",
       "    </tr>\n",
       "    <tr>\n",
       "      <td>11</td>\n",
       "      <td>GHCND:USW00024233</td>\n",
       "      <td>SEATTLE TACOMA INTERNATIONAL AIRPORT WA US</td>\n",
       "      <td>20140112</td>\n",
       "      <td>15</td>\n",
       "      <td>0</td>\n",
       "      <td>0</td>\n",
       "      <td>111</td>\n",
       "      <td>56</td>\n",
       "      <td>81</td>\n",
       "      <td>200</td>\n",
       "      <td>210</td>\n",
       "      <td>134</td>\n",
       "      <td>174</td>\n",
       "      <td>1</td>\n",
       "      <td>-9999</td>\n",
       "      <td>-9999</td>\n",
       "      <td>-9999</td>\n",
       "    </tr>\n",
       "    <tr>\n",
       "      <td>12</td>\n",
       "      <td>GHCND:USW00024233</td>\n",
       "      <td>SEATTLE TACOMA INTERNATIONAL AIRPORT WA US</td>\n",
       "      <td>20140113</td>\n",
       "      <td>0</td>\n",
       "      <td>0</td>\n",
       "      <td>0</td>\n",
       "      <td>106</td>\n",
       "      <td>100</td>\n",
       "      <td>71</td>\n",
       "      <td>200</td>\n",
       "      <td>210</td>\n",
       "      <td>148</td>\n",
       "      <td>201</td>\n",
       "      <td>-9999</td>\n",
       "      <td>-9999</td>\n",
       "      <td>-9999</td>\n",
       "      <td>-9999</td>\n",
       "    </tr>\n",
       "    <tr>\n",
       "      <td>13</td>\n",
       "      <td>GHCND:USW00024233</td>\n",
       "      <td>SEATTLE TACOMA INTERNATIONAL AIRPORT WA US</td>\n",
       "      <td>20140114</td>\n",
       "      <td>0</td>\n",
       "      <td>0</td>\n",
       "      <td>0</td>\n",
       "      <td>111</td>\n",
       "      <td>72</td>\n",
       "      <td>13</td>\n",
       "      <td>180</td>\n",
       "      <td>180</td>\n",
       "      <td>58</td>\n",
       "      <td>72</td>\n",
       "      <td>-9999</td>\n",
       "      <td>-9999</td>\n",
       "      <td>-9999</td>\n",
       "      <td>-9999</td>\n",
       "    </tr>\n",
       "    <tr>\n",
       "      <td>14</td>\n",
       "      <td>GHCND:USW00024233</td>\n",
       "      <td>SEATTLE TACOMA INTERNATIONAL AIRPORT WA US</td>\n",
       "      <td>20140115</td>\n",
       "      <td>0</td>\n",
       "      <td>0</td>\n",
       "      <td>0</td>\n",
       "      <td>111</td>\n",
       "      <td>56</td>\n",
       "      <td>25</td>\n",
       "      <td>20</td>\n",
       "      <td>10</td>\n",
       "      <td>58</td>\n",
       "      <td>67</td>\n",
       "      <td>-9999</td>\n",
       "      <td>-9999</td>\n",
       "      <td>-9999</td>\n",
       "      <td>-9999</td>\n",
       "    </tr>\n",
       "    <tr>\n",
       "      <td>15</td>\n",
       "      <td>GHCND:USW00024233</td>\n",
       "      <td>SEATTLE TACOMA INTERNATIONAL AIRPORT WA US</td>\n",
       "      <td>20140116</td>\n",
       "      <td>0</td>\n",
       "      <td>0</td>\n",
       "      <td>0</td>\n",
       "      <td>67</td>\n",
       "      <td>44</td>\n",
       "      <td>27</td>\n",
       "      <td>30</td>\n",
       "      <td>30</td>\n",
       "      <td>63</td>\n",
       "      <td>67</td>\n",
       "      <td>-9999</td>\n",
       "      <td>-9999</td>\n",
       "      <td>-9999</td>\n",
       "      <td>-9999</td>\n",
       "    </tr>\n",
       "    <tr>\n",
       "      <td>16</td>\n",
       "      <td>GHCND:USW00024233</td>\n",
       "      <td>SEATTLE TACOMA INTERNATIONAL AIRPORT WA US</td>\n",
       "      <td>20140117</td>\n",
       "      <td>0</td>\n",
       "      <td>0</td>\n",
       "      <td>0</td>\n",
       "      <td>56</td>\n",
       "      <td>28</td>\n",
       "      <td>23</td>\n",
       "      <td>30</td>\n",
       "      <td>10</td>\n",
       "      <td>45</td>\n",
       "      <td>58</td>\n",
       "      <td>-9999</td>\n",
       "      <td>-9999</td>\n",
       "      <td>-9999</td>\n",
       "      <td>-9999</td>\n",
       "    </tr>\n",
       "    <tr>\n",
       "      <td>17</td>\n",
       "      <td>GHCND:USW00024233</td>\n",
       "      <td>SEATTLE TACOMA INTERNATIONAL AIRPORT WA US</td>\n",
       "      <td>20140118</td>\n",
       "      <td>0</td>\n",
       "      <td>0</td>\n",
       "      <td>0</td>\n",
       "      <td>94</td>\n",
       "      <td>6</td>\n",
       "      <td>22</td>\n",
       "      <td>120</td>\n",
       "      <td>120</td>\n",
       "      <td>63</td>\n",
       "      <td>67</td>\n",
       "      <td>-9999</td>\n",
       "      <td>-9999</td>\n",
       "      <td>-9999</td>\n",
       "      <td>-9999</td>\n",
       "    </tr>\n",
       "    <tr>\n",
       "      <td>18</td>\n",
       "      <td>GHCND:USW00024233</td>\n",
       "      <td>SEATTLE TACOMA INTERNATIONAL AIRPORT WA US</td>\n",
       "      <td>20140119</td>\n",
       "      <td>0</td>\n",
       "      <td>0</td>\n",
       "      <td>0</td>\n",
       "      <td>61</td>\n",
       "      <td>33</td>\n",
       "      <td>25</td>\n",
       "      <td>30</td>\n",
       "      <td>-9999</td>\n",
       "      <td>40</td>\n",
       "      <td>-9999</td>\n",
       "      <td>-9999</td>\n",
       "      <td>-9999</td>\n",
       "      <td>-9999</td>\n",
       "      <td>-9999</td>\n",
       "    </tr>\n",
       "    <tr>\n",
       "      <td>19</td>\n",
       "      <td>GHCND:USW00024233</td>\n",
       "      <td>SEATTLE TACOMA INTERNATIONAL AIRPORT WA US</td>\n",
       "      <td>20140120</td>\n",
       "      <td>0</td>\n",
       "      <td>0</td>\n",
       "      <td>0</td>\n",
       "      <td>100</td>\n",
       "      <td>28</td>\n",
       "      <td>22</td>\n",
       "      <td>20</td>\n",
       "      <td>10</td>\n",
       "      <td>54</td>\n",
       "      <td>63</td>\n",
       "      <td>-9999</td>\n",
       "      <td>-9999</td>\n",
       "      <td>-9999</td>\n",
       "      <td>-9999</td>\n",
       "    </tr>\n",
       "    <tr>\n",
       "      <td>20</td>\n",
       "      <td>GHCND:USW00024233</td>\n",
       "      <td>SEATTLE TACOMA INTERNATIONAL AIRPORT WA US</td>\n",
       "      <td>20140121</td>\n",
       "      <td>0</td>\n",
       "      <td>0</td>\n",
       "      <td>0</td>\n",
       "      <td>100</td>\n",
       "      <td>17</td>\n",
       "      <td>15</td>\n",
       "      <td>240</td>\n",
       "      <td>240</td>\n",
       "      <td>72</td>\n",
       "      <td>94</td>\n",
       "      <td>-9999</td>\n",
       "      <td>-9999</td>\n",
       "      <td>-9999</td>\n",
       "      <td>-9999</td>\n",
       "    </tr>\n",
       "    <tr>\n",
       "      <td>21</td>\n",
       "      <td>GHCND:USW00024233</td>\n",
       "      <td>SEATTLE TACOMA INTERNATIONAL AIRPORT WA US</td>\n",
       "      <td>20140122</td>\n",
       "      <td>5</td>\n",
       "      <td>0</td>\n",
       "      <td>0</td>\n",
       "      <td>94</td>\n",
       "      <td>56</td>\n",
       "      <td>26</td>\n",
       "      <td>40</td>\n",
       "      <td>40</td>\n",
       "      <td>72</td>\n",
       "      <td>98</td>\n",
       "      <td>-9999</td>\n",
       "      <td>-9999</td>\n",
       "      <td>-9999</td>\n",
       "      <td>-9999</td>\n",
       "    </tr>\n",
       "    <tr>\n",
       "      <td>22</td>\n",
       "      <td>GHCND:USW00024233</td>\n",
       "      <td>SEATTLE TACOMA INTERNATIONAL AIRPORT WA US</td>\n",
       "      <td>20140123</td>\n",
       "      <td>0</td>\n",
       "      <td>0</td>\n",
       "      <td>0</td>\n",
       "      <td>100</td>\n",
       "      <td>28</td>\n",
       "      <td>52</td>\n",
       "      <td>20</td>\n",
       "      <td>20</td>\n",
       "      <td>103</td>\n",
       "      <td>125</td>\n",
       "      <td>1</td>\n",
       "      <td>-9999</td>\n",
       "      <td>-9999</td>\n",
       "      <td>-9999</td>\n",
       "    </tr>\n",
       "    <tr>\n",
       "      <td>23</td>\n",
       "      <td>GHCND:USW00024233</td>\n",
       "      <td>SEATTLE TACOMA INTERNATIONAL AIRPORT WA US</td>\n",
       "      <td>20140124</td>\n",
       "      <td>0</td>\n",
       "      <td>0</td>\n",
       "      <td>0</td>\n",
       "      <td>128</td>\n",
       "      <td>11</td>\n",
       "      <td>19</td>\n",
       "      <td>10</td>\n",
       "      <td>10</td>\n",
       "      <td>45</td>\n",
       "      <td>58</td>\n",
       "      <td>-9999</td>\n",
       "      <td>-9999</td>\n",
       "      <td>-9999</td>\n",
       "      <td>-9999</td>\n",
       "    </tr>\n",
       "    <tr>\n",
       "      <td>24</td>\n",
       "      <td>GHCND:USW00024233</td>\n",
       "      <td>SEATTLE TACOMA INTERNATIONAL AIRPORT WA US</td>\n",
       "      <td>20140125</td>\n",
       "      <td>0</td>\n",
       "      <td>0</td>\n",
       "      <td>0</td>\n",
       "      <td>122</td>\n",
       "      <td>11</td>\n",
       "      <td>8</td>\n",
       "      <td>110</td>\n",
       "      <td>120</td>\n",
       "      <td>45</td>\n",
       "      <td>54</td>\n",
       "      <td>-9999</td>\n",
       "      <td>-9999</td>\n",
       "      <td>-9999</td>\n",
       "      <td>-9999</td>\n",
       "    </tr>\n",
       "    <tr>\n",
       "      <td>25</td>\n",
       "      <td>GHCND:USW00024233</td>\n",
       "      <td>SEATTLE TACOMA INTERNATIONAL AIRPORT WA US</td>\n",
       "      <td>20140126</td>\n",
       "      <td>0</td>\n",
       "      <td>0</td>\n",
       "      <td>0</td>\n",
       "      <td>83</td>\n",
       "      <td>6</td>\n",
       "      <td>13</td>\n",
       "      <td>270</td>\n",
       "      <td>270</td>\n",
       "      <td>36</td>\n",
       "      <td>40</td>\n",
       "      <td>-9999</td>\n",
       "      <td>-9999</td>\n",
       "      <td>-9999</td>\n",
       "      <td>-9999</td>\n",
       "    </tr>\n",
       "    <tr>\n",
       "      <td>26</td>\n",
       "      <td>GHCND:USW00024233</td>\n",
       "      <td>SEATTLE TACOMA INTERNATIONAL AIRPORT WA US</td>\n",
       "      <td>20140127</td>\n",
       "      <td>0</td>\n",
       "      <td>0</td>\n",
       "      <td>0</td>\n",
       "      <td>94</td>\n",
       "      <td>17</td>\n",
       "      <td>13</td>\n",
       "      <td>130</td>\n",
       "      <td>130</td>\n",
       "      <td>40</td>\n",
       "      <td>54</td>\n",
       "      <td>-9999</td>\n",
       "      <td>-9999</td>\n",
       "      <td>-9999</td>\n",
       "      <td>-9999</td>\n",
       "    </tr>\n",
       "    <tr>\n",
       "      <td>27</td>\n",
       "      <td>GHCND:USW00024233</td>\n",
       "      <td>SEATTLE TACOMA INTERNATIONAL AIRPORT WA US</td>\n",
       "      <td>20140128</td>\n",
       "      <td>89</td>\n",
       "      <td>0</td>\n",
       "      <td>0</td>\n",
       "      <td>111</td>\n",
       "      <td>61</td>\n",
       "      <td>16</td>\n",
       "      <td>40</td>\n",
       "      <td>40</td>\n",
       "      <td>40</td>\n",
       "      <td>54</td>\n",
       "      <td>1</td>\n",
       "      <td>-9999</td>\n",
       "      <td>-9999</td>\n",
       "      <td>-9999</td>\n",
       "    </tr>\n",
       "    <tr>\n",
       "      <td>28</td>\n",
       "      <td>GHCND:USW00024233</td>\n",
       "      <td>SEATTLE TACOMA INTERNATIONAL AIRPORT WA US</td>\n",
       "      <td>20140129</td>\n",
       "      <td>216</td>\n",
       "      <td>0</td>\n",
       "      <td>0</td>\n",
       "      <td>111</td>\n",
       "      <td>72</td>\n",
       "      <td>34</td>\n",
       "      <td>210</td>\n",
       "      <td>200</td>\n",
       "      <td>89</td>\n",
       "      <td>112</td>\n",
       "      <td>1</td>\n",
       "      <td>-9999</td>\n",
       "      <td>-9999</td>\n",
       "      <td>-9999</td>\n",
       "    </tr>\n",
       "    <tr>\n",
       "      <td>29</td>\n",
       "      <td>GHCND:USW00024233</td>\n",
       "      <td>SEATTLE TACOMA INTERNATIONAL AIRPORT WA US</td>\n",
       "      <td>20140130</td>\n",
       "      <td>0</td>\n",
       "      <td>0</td>\n",
       "      <td>0</td>\n",
       "      <td>83</td>\n",
       "      <td>61</td>\n",
       "      <td>64</td>\n",
       "      <td>210</td>\n",
       "      <td>210</td>\n",
       "      <td>103</td>\n",
       "      <td>139</td>\n",
       "      <td>-9999</td>\n",
       "      <td>-9999</td>\n",
       "      <td>-9999</td>\n",
       "      <td>-9999</td>\n",
       "    </tr>\n",
       "    <tr>\n",
       "      <td>30</td>\n",
       "      <td>GHCND:USW00024233</td>\n",
       "      <td>SEATTLE TACOMA INTERNATIONAL AIRPORT WA US</td>\n",
       "      <td>20140131</td>\n",
       "      <td>23</td>\n",
       "      <td>0</td>\n",
       "      <td>0</td>\n",
       "      <td>78</td>\n",
       "      <td>56</td>\n",
       "      <td>26</td>\n",
       "      <td>200</td>\n",
       "      <td>200</td>\n",
       "      <td>67</td>\n",
       "      <td>81</td>\n",
       "      <td>1</td>\n",
       "      <td>-9999</td>\n",
       "      <td>-9999</td>\n",
       "      <td>-9999</td>\n",
       "    </tr>\n",
       "  </tbody>\n",
       "</table>\n",
       "</div>"
      ],
      "text/plain": [
       "              STATION                                STATION_NAME      DATE  \\\n",
       "0   GHCND:USW00024233  SEATTLE TACOMA INTERNATIONAL AIRPORT WA US  20140101   \n",
       "1   GHCND:USW00024233  SEATTLE TACOMA INTERNATIONAL AIRPORT WA US  20140102   \n",
       "2   GHCND:USW00024233  SEATTLE TACOMA INTERNATIONAL AIRPORT WA US  20140103   \n",
       "3   GHCND:USW00024233  SEATTLE TACOMA INTERNATIONAL AIRPORT WA US  20140104   \n",
       "4   GHCND:USW00024233  SEATTLE TACOMA INTERNATIONAL AIRPORT WA US  20140105   \n",
       "5   GHCND:USW00024233  SEATTLE TACOMA INTERNATIONAL AIRPORT WA US  20140106   \n",
       "6   GHCND:USW00024233  SEATTLE TACOMA INTERNATIONAL AIRPORT WA US  20140107   \n",
       "7   GHCND:USW00024233  SEATTLE TACOMA INTERNATIONAL AIRPORT WA US  20140108   \n",
       "8   GHCND:USW00024233  SEATTLE TACOMA INTERNATIONAL AIRPORT WA US  20140109   \n",
       "9   GHCND:USW00024233  SEATTLE TACOMA INTERNATIONAL AIRPORT WA US  20140110   \n",
       "10  GHCND:USW00024233  SEATTLE TACOMA INTERNATIONAL AIRPORT WA US  20140111   \n",
       "11  GHCND:USW00024233  SEATTLE TACOMA INTERNATIONAL AIRPORT WA US  20140112   \n",
       "12  GHCND:USW00024233  SEATTLE TACOMA INTERNATIONAL AIRPORT WA US  20140113   \n",
       "13  GHCND:USW00024233  SEATTLE TACOMA INTERNATIONAL AIRPORT WA US  20140114   \n",
       "14  GHCND:USW00024233  SEATTLE TACOMA INTERNATIONAL AIRPORT WA US  20140115   \n",
       "15  GHCND:USW00024233  SEATTLE TACOMA INTERNATIONAL AIRPORT WA US  20140116   \n",
       "16  GHCND:USW00024233  SEATTLE TACOMA INTERNATIONAL AIRPORT WA US  20140117   \n",
       "17  GHCND:USW00024233  SEATTLE TACOMA INTERNATIONAL AIRPORT WA US  20140118   \n",
       "18  GHCND:USW00024233  SEATTLE TACOMA INTERNATIONAL AIRPORT WA US  20140119   \n",
       "19  GHCND:USW00024233  SEATTLE TACOMA INTERNATIONAL AIRPORT WA US  20140120   \n",
       "20  GHCND:USW00024233  SEATTLE TACOMA INTERNATIONAL AIRPORT WA US  20140121   \n",
       "21  GHCND:USW00024233  SEATTLE TACOMA INTERNATIONAL AIRPORT WA US  20140122   \n",
       "22  GHCND:USW00024233  SEATTLE TACOMA INTERNATIONAL AIRPORT WA US  20140123   \n",
       "23  GHCND:USW00024233  SEATTLE TACOMA INTERNATIONAL AIRPORT WA US  20140124   \n",
       "24  GHCND:USW00024233  SEATTLE TACOMA INTERNATIONAL AIRPORT WA US  20140125   \n",
       "25  GHCND:USW00024233  SEATTLE TACOMA INTERNATIONAL AIRPORT WA US  20140126   \n",
       "26  GHCND:USW00024233  SEATTLE TACOMA INTERNATIONAL AIRPORT WA US  20140127   \n",
       "27  GHCND:USW00024233  SEATTLE TACOMA INTERNATIONAL AIRPORT WA US  20140128   \n",
       "28  GHCND:USW00024233  SEATTLE TACOMA INTERNATIONAL AIRPORT WA US  20140129   \n",
       "29  GHCND:USW00024233  SEATTLE TACOMA INTERNATIONAL AIRPORT WA US  20140130   \n",
       "30  GHCND:USW00024233  SEATTLE TACOMA INTERNATIONAL AIRPORT WA US  20140131   \n",
       "\n",
       "    PRCP  SNWD  SNOW  TMAX  TMIN  AWND  WDF2  WDF5  WSF2  WSF5  WT01  WT05  \\\n",
       "0      0     0     0    72    33    12   340   310    36    40 -9999 -9999   \n",
       "1     41     0     0   106    61    32   190   200    94   116 -9999 -9999   \n",
       "2     15     0     0    89    28    26    30    50    63    72     1 -9999   \n",
       "3      0     0     0    78     6    27    40    40    45    58     1 -9999   \n",
       "4      0     0     0    83    -5    37    10    10    67    76 -9999 -9999   \n",
       "5      3     0     0    78    -5    26   210   210   112   125     1 -9999   \n",
       "6    122     0     0    83    50    16   160   150    45    54 -9999 -9999   \n",
       "7     97     0     0   100    72    46   180   180   107   143     1 -9999   \n",
       "8     58     0     0    94    56    63   210   230   143   183     1 -9999   \n",
       "9     43     0     0   128    83    70   200   200   134   183 -9999 -9999   \n",
       "10   213     0     0   144    72    88   210   200   183   250     1 -9999   \n",
       "11    15     0     0   111    56    81   200   210   134   174     1 -9999   \n",
       "12     0     0     0   106   100    71   200   210   148   201 -9999 -9999   \n",
       "13     0     0     0   111    72    13   180   180    58    72 -9999 -9999   \n",
       "14     0     0     0   111    56    25    20    10    58    67 -9999 -9999   \n",
       "15     0     0     0    67    44    27    30    30    63    67 -9999 -9999   \n",
       "16     0     0     0    56    28    23    30    10    45    58 -9999 -9999   \n",
       "17     0     0     0    94     6    22   120   120    63    67 -9999 -9999   \n",
       "18     0     0     0    61    33    25    30 -9999    40 -9999 -9999 -9999   \n",
       "19     0     0     0   100    28    22    20    10    54    63 -9999 -9999   \n",
       "20     0     0     0   100    17    15   240   240    72    94 -9999 -9999   \n",
       "21     5     0     0    94    56    26    40    40    72    98 -9999 -9999   \n",
       "22     0     0     0   100    28    52    20    20   103   125     1 -9999   \n",
       "23     0     0     0   128    11    19    10    10    45    58 -9999 -9999   \n",
       "24     0     0     0   122    11     8   110   120    45    54 -9999 -9999   \n",
       "25     0     0     0    83     6    13   270   270    36    40 -9999 -9999   \n",
       "26     0     0     0    94    17    13   130   130    40    54 -9999 -9999   \n",
       "27    89     0     0   111    61    16    40    40    40    54     1 -9999   \n",
       "28   216     0     0   111    72    34   210   200    89   112     1 -9999   \n",
       "29     0     0     0    83    61    64   210   210   103   139 -9999 -9999   \n",
       "30    23     0     0    78    56    26   200   200    67    81     1 -9999   \n",
       "\n",
       "    WT02  WT03  \n",
       "0  -9999 -9999  \n",
       "1  -9999 -9999  \n",
       "2  -9999 -9999  \n",
       "3  -9999 -9999  \n",
       "4  -9999 -9999  \n",
       "5  -9999 -9999  \n",
       "6  -9999 -9999  \n",
       "7  -9999 -9999  \n",
       "8  -9999 -9999  \n",
       "9  -9999 -9999  \n",
       "10 -9999 -9999  \n",
       "11 -9999 -9999  \n",
       "12 -9999 -9999  \n",
       "13 -9999 -9999  \n",
       "14 -9999 -9999  \n",
       "15 -9999 -9999  \n",
       "16 -9999 -9999  \n",
       "17 -9999 -9999  \n",
       "18 -9999 -9999  \n",
       "19 -9999 -9999  \n",
       "20 -9999 -9999  \n",
       "21 -9999 -9999  \n",
       "22 -9999 -9999  \n",
       "23 -9999 -9999  \n",
       "24 -9999 -9999  \n",
       "25 -9999 -9999  \n",
       "26 -9999 -9999  \n",
       "27 -9999 -9999  \n",
       "28 -9999 -9999  \n",
       "29 -9999 -9999  \n",
       "30 -9999 -9999  "
      ]
     },
     "execution_count": 97,
     "metadata": {},
     "output_type": "execute_result"
    }
   ],
   "source": [
    "a=df.iloc[:31,:]\n",
    "a\n"
   ]
  },
  {
   "cell_type": "code",
   "execution_count": 85,
   "metadata": {},
   "outputs": [
    {
     "data": {
      "text/plain": [
       "(array([259.,  30.,  14.,  11.,   7.,  13.,   6.,   7.,   6.,   4.,   1.,\n",
       "          2.,   0.,   2.,   2.,   0.,   0.,   0.,   0.,   1.]),\n",
       " array([0.        , 0.09192913, 0.18385827, 0.2757874 , 0.36771654,\n",
       "        0.45964567, 0.5515748 , 0.64350394, 0.73543307, 0.8273622 ,\n",
       "        0.91929134, 1.01122047, 1.10314961, 1.19507874, 1.28700787,\n",
       "        1.37893701, 1.47086614, 1.56279528, 1.65472441, 1.74665354,\n",
       "        1.83858268]),\n",
       " <a list of 20 Patch objects>)"
      ]
     },
     "execution_count": 85,
     "metadata": {},
     "output_type": "execute_result"
    },
    {
     "data": {
      "image/png": "[encoded data removed]",
      "text/plain": [
       "<Figure size 1080x576 with 1 Axes>"
      ]
     },
     "metadata": {},
     "output_type": "display_data"
    }
   ],
   "source": [
    "sns.set()\n",
    "pl.figure(figsize=(15,8))\n",
    "pl.hist(inches,20)"
   ]
  },
  {
   "cell_type": "code",
   "execution_count": 100,
   "metadata": {},
   "outputs": [
    {
     "data": {
      "text/plain": [
       "array([ True,  True, False, False, False])"
      ]
     },
     "execution_count": 100,
     "metadata": {},
     "output_type": "execute_result"
    }
   ],
   "source": [
    "x=np.array([1,2,3,4,5])\n",
    "x<3\n"
   ]
  },
  {
   "cell_type": "code",
   "execution_count": 102,
   "metadata": {},
   "outputs": [
    {
     "data": {
      "text/plain": [
       "array([False, False, False,  True,  True])"
      ]
     },
     "execution_count": 102,
     "metadata": {},
     "output_type": "execute_result"
    }
   ],
   "source": [
    "x>3"
   ]
  },
  {
   "cell_type": "code",
   "execution_count": 103,
   "metadata": {},
   "outputs": [
    {
     "data": {
      "text/plain": [
       "array([ True,  True,  True, False, False])"
      ]
     },
     "execution_count": 103,
     "metadata": {},
     "output_type": "execute_result"
    }
   ],
   "source": [
    "x<=3"
   ]
  },
  {
   "cell_type": "code",
   "execution_count": 104,
   "metadata": {},
   "outputs": [
    {
     "data": {
      "text/plain": [
       "array([False, False,  True,  True,  True])"
      ]
     },
     "execution_count": 104,
     "metadata": {},
     "output_type": "execute_result"
    }
   ],
   "source": [
    "x>=3"
   ]
  },
  {
   "cell_type": "code",
   "execution_count": 106,
   "metadata": {},
   "outputs": [
    {
     "data": {
      "text/plain": [
       "array([ True,  True, False,  True,  True])"
      ]
     },
     "execution_count": 106,
     "metadata": {},
     "output_type": "execute_result"
    }
   ],
   "source": [
    "x!=3"
   ]
  },
  {
   "cell_type": "code",
   "execution_count": 107,
   "metadata": {},
   "outputs": [
    {
     "data": {
      "text/plain": [
       "array([False, False,  True, False, False])"
      ]
     },
     "execution_count": 107,
     "metadata": {},
     "output_type": "execute_result"
    }
   ],
   "source": [
    "x==3"
   ]
  },
  {
   "cell_type": "code",
   "execution_count": 108,
   "metadata": {},
   "outputs": [
    {
     "data": {
      "text/plain": [
       "array([False,  True, False, False, False])"
      ]
     },
     "execution_count": 108,
     "metadata": {},
     "output_type": "execute_result"
    }
   ],
   "source": [
    "2*x==x**2"
   ]
  },
  {
   "cell_type": "code",
   "execution_count": 177,
   "metadata": {},
   "outputs": [
    {
     "data": {
      "text/plain": [
       "array([[5, 0, 3, 3],\n",
       "       [7, 9, 3, 5],\n",
       "       [2, 4, 7, 6]])"
      ]
     },
     "execution_count": 177,
     "metadata": {},
     "output_type": "execute_result"
    }
   ],
   "source": [
    "rng=np.random.RandomState(0)\n",
    "x=rng.randint(10,size=(3,4))\n",
    "x"
   ]
  },
  {
   "cell_type": "code",
   "execution_count": 161,
   "metadata": {},
   "outputs": [
    {
     "data": {
      "text/plain": [
       "array([[ True,  True,  True,  True],\n",
       "       [False, False,  True,  True],\n",
       "       [ True,  True, False, False]])"
      ]
     },
     "execution_count": 161,
     "metadata": {},
     "output_type": "execute_result"
    }
   ],
   "source": [
    "x<6"
   ]
  },
  {
   "cell_type": "code",
   "execution_count": 169,
   "metadata": {},
   "outputs": [
    {
     "data": {
      "text/plain": [
       "8"
      ]
     },
     "execution_count": 169,
     "metadata": {},
     "output_type": "execute_result"
    }
   ],
   "source": [
    "np.count_nonzero(x<6)"
   ]
  },
  {
   "cell_type": "code",
   "execution_count": 171,
   "metadata": {},
   "outputs": [
    {
     "data": {
      "text/plain": [
       "array([5, 0, 3, 3, 3, 5, 2, 4])"
      ]
     },
     "execution_count": 171,
     "metadata": {},
     "output_type": "execute_result"
    }
   ],
   "source": [
    "x[x<6]"
   ]
  },
  {
   "cell_type": "code",
   "execution_count": 180,
   "metadata": {},
   "outputs": [
    {
     "data": {
      "text/plain": [
       "array([4, 2, 2])"
      ]
     },
     "execution_count": 180,
     "metadata": {},
     "output_type": "execute_result"
    }
   ],
   "source": [
    "np.sum(x<6,axis=1)"
   ]
  },
  {
   "cell_type": "code",
   "execution_count": 182,
   "metadata": {},
   "outputs": [
    {
     "data": {
      "text/plain": [
       "True"
      ]
     },
     "execution_count": 182,
     "metadata": {},
     "output_type": "execute_result"
    }
   ],
   "source": [
    "np.any(x>8)"
   ]
  },
  {
   "cell_type": "code",
   "execution_count": 185,
   "metadata": {},
   "outputs": [
    {
     "data": {
      "text/plain": [
       "array([ True,  True,  True,  True])"
      ]
     },
     "execution_count": 185,
     "metadata": {},
     "output_type": "execute_result"
    }
   ],
   "source": [
    "np.all(x>8)\n",
    "np.any(x<6,axis=0)"
   ]
  },
  {
   "cell_type": "code",
   "execution_count": 188,
   "metadata": {},
   "outputs": [
    {
     "data": {
      "text/plain": [
       "array([False,  True,  True])"
      ]
     },
     "execution_count": 188,
     "metadata": {},
     "output_type": "execute_result"
    }
   ],
   "source": [
    "np.all(x>0,axis=1)"
   ]
  },
  {
   "cell_type": "code",
   "execution_count": 234,
   "metadata": {},
   "outputs": [
    {
     "name": "stdout",
     "output_type": "stream",
     "text": [
      "[0.83858268 0.8503937  0.72047244 0.66929134 0.57086614 0.5984252\n",
      " 0.51181102 0.7519685  0.6496063  0.74015748 0.87007874 0.5511811\n",
      " 0.72834646 0.53937008 0.55905512 0.62992126 0.53937008 0.75984252\n",
      " 0.8503937  0.72047244 0.7992126  0.59055118 0.66929134 0.5984252\n",
      " 0.72047244 0.51181102 0.51181102 0.77165354 0.81102362]\n"
     ]
    },
    {
     "data": {
      "text/plain": [
       "29"
      ]
     },
     "execution_count": 234,
     "metadata": {},
     "output_type": "execute_result"
    }
   ],
   "source": [
    "ainc=inches[(inches>0.5) & (inches<1)]\n",
    "print(ainc)\n",
    "np.sum((inches>0.5) & (inches<1))\n",
    "# print((inches>0.5) & (inches<1))\n",
    "# (inches>0.5) & (inches<1)\n",
    "# print((inches>0.5) & (inches<1))"
   ]
  },
  {
   "cell_type": "code",
   "execution_count": 229,
   "metadata": {},
   "outputs": [
    {
     "name": "stdout",
     "output_type": "stream",
     "text": [
      "Number of Days without rain 215\n",
      "Number of Days with rain 150\n",
      "Number of Days more than 0.5 inches rain 37\n",
      "Number of Days less than 0.1 rain 75\n"
     ]
    }
   ],
   "source": [
    "print(\"Number of Days without rain\",np.sum(inches==0))\n",
    "print(\"Number of Days with rain\",np.sum(inches>0))\n",
    "print(\"Number of Days more than 0.5 inches rain\",np.sum(inches>0.50))\n",
    "print(\"Number of Days less than 0.1 rain\",np.sum((inches>0)&(inches<0.2))) "
   ]
  },
  {
   "cell_type": "code",
   "execution_count": 255,
   "metadata": {},
   "outputs": [
    {
     "data": {
      "text/plain": [
       "Counter({False: 276, True: 89})"
      ]
     },
     "execution_count": 255,
     "metadata": {},
     "output_type": "execute_result"
    }
   ],
   "source": [
    "import collections\n",
    "rainy=inches>0\n",
    "np.sum(rainy)\n",
    "summer=(np.arange(365)-172<90) & (np.arange(365)-172>0)\n",
    "collections.Counter(summer)"
   ]
  },
  {
   "cell_type": "code",
   "execution_count": 266,
   "metadata": {},
   "outputs": [
    {
     "name": "stdout",
     "output_type": "stream",
     "text": [
      "Median precip on rainy days in 2014 0.19488188976377951\n",
      "Meidan precip on summer days in 2014 0.0\n",
      "Maximum precip on summer days in 2014 0.8503937007874016\n"
     ]
    }
   ],
   "source": [
    "print(\"Median precip on rainy days in 2014\",np.median(inches[rainy]))\n",
    "print(\"Meidan precip on summer days in 2014\",np.median(inches[summer]))\n",
    "print(\"Maximum precip on summer days in 2014\",np.max(inches[summer]))\n",
    "print(\"Minimum precip on summer days in 2014\",np.max(inches[summer]))\n",
    "print(\"Maximum precip on summer days in 2014\",np.max(inches[summer]))\n",
    "print(\"Maximum precip on summer days in 2014\",np.max(inches[summer]))\n"
   ]
  },
  {
   "cell_type": "code",
   "execution_count": 265,
   "metadata": {},
   "outputs": [
    {
     "data": {
      "text/plain": [
       "<matplotlib.axes._subplots.AxesSubplot at 0x2f5998f0>"
      ]
     },
     "execution_count": 265,
     "metadata": {},
     "output_type": "execute_result"
    },
    {
     "data": {
      "image/png": "[encoded data removed]",
      "text/plain": [
       "<Figure size 1080x576 with 1 Axes>"
      ]
     },
     "metadata": {},
     "output_type": "display_data"
    }
   ],
   "source": [
    "a=collections.Counter(df[\"SNOW\"])\n",
    "pl.figure(figsize=(15,8))\n",
    "sns.countplot(x=\"SNOW\",data=df)"
   ]
  }
 ],
 "metadata": {
  "kernelspec": {
   "display_name": "Python 3",
   "language": "python",
   "name": "python3"
  },
  "language_info": {
   "codemirror_mode": {
    "name": "ipython",
    "version": 3
   },
   "file_extension": ".py",
   "mimetype": "text/x-python",
   "name": "python",
   "nbconvert_exporter": "python",
   "pygments_lexer": "ipython3",
   "version": "3.7.4"
  }
 },
 "nbformat": 4,
 "nbformat_minor": 2
}
