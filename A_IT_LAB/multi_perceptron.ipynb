{
 "cells": [
  {
   "cell_type": "code",
   "execution_count": null,
   "metadata": {},
   "outputs": [],
   "source": [
    "import numpy as np\n",
    "import pandas as pd\n",
    "import matplotlib.pyplot as pl\n",
    "np.random.seed(10)\n",
    "from sklearn.datasets import make_blobs\n",
    "X,y=make_blobs(1500,n_features=2,centers=4,random_state=0)\n",
    "from sklearn.model_selection import train_test_split\n",
    "from sklearn.metrics import accuracy_score,mean_squared_error,log_loss"
   ]
  },
  {
   "cell_type": "code",
   "execution_count": null,
   "metadata": {},
   "outputs": [],
   "source": [
    "print(X.shape,y.shape)\n",
    "np.unique(y)"
   ]
  },
  {
   "cell_type": "code",
   "execution_count": null,
   "metadata": {},
   "outputs": [],
   "source": [
    "pl.figure(figsize=(10,6))\n",
    "for cls in np.unique(y):\n",
    "    pl.scatter(X[y==cls,0],X[y==cls,1],label=cls)\n",
    "    pl.legend()\n",
    "pl.title(\"Plot of \"+str(len(X))+\" Data Points before splitting\")\n",
    "pl.show()"
   ]
  },
  {
   "cell_type": "code",
   "execution_count": null,
   "metadata": {},
   "outputs": [],
   "source": [
    "y=np.mod(y,2)\n",
    "np.unique(y)"
   ]
  },
  {
   "cell_type": "code",
   "execution_count": null,
   "metadata": {},
   "outputs": [],
   "source": [
    "pl.figure(figsize=(10,6))\n",
    "for cls in np.unique(y):\n",
    "    pl.scatter(X[y==cls,0],X[y==cls,1],label=cls)\n",
    "    pl.legend()\n",
    "pl.title(\"Plot of \"+str(len(X))+\" Data Points before splitting\")\n",
    "pl.show()"
   ]
  },
  {
   "cell_type": "code",
   "execution_count": null,
   "metadata": {},
   "outputs": [],
   "source": [
    "weights1=np.arange(4).reshape(2,2)\n",
    "weights2=np.array([3,3]).reshape(2,1)\n",
    "print(weights1,weights2)"
   ]
  },
  {
   "cell_type": "code",
   "execution_count": null,
   "metadata": {},
   "outputs": [],
   "source": [
    "class Multi_N:\n",
    "    def __init__(self,layers=[2,2,1]):\n",
    "        self.input_layers,self.hidden_layers,self.output_layers=layers\n",
    "        \n",
    "        self.Weights1=np.random.randn(self.hidden_layers,self.input_layers)\n",
    "        self.Bias1=np.random.randn(self.hidden_layers).reshape(-1,1)\n",
    "        \n",
    "        self.Weights2=np.random.randn(self.output_layers,self.hidden_layers)\n",
    "        self.Bias2=np.random.randn(self.output_layers).reshape(-1,1)\n",
    "        \n",
    "    def Forward_Formula(self,X,W,B):\n",
    "        z=np.dot(X,W.T)+B.T\n",
    "        return z.astype(np.float32)\n",
    "        \n",
    "    def Sigmoid(self,z):\n",
    "        return 1.0/(1.0+np.exp(-z))\n",
    "\n",
    "    def loss(self,Y_original,Y_predicted):\n",
    "#         print(Y_original.shape,Y_predicted.shape)\n",
    "        loss=(0.5*mean_squared_error(Y_original,Y_predicted))\n",
    "        return loss\n",
    "        \n",
    "    def Forward(self,X):\n",
    "        self.A1=self.Forward_Formula(X,self.Weights1,self.Bias1)\n",
    "        self.H1=self.Sigmoid(self.A1)\n",
    "        \n",
    "        self.A2=self.Forward_Formula(self.H1,self.Weights2,self.Bias2)\n",
    "        self.H2=self.Sigmoid(self.A2)\n",
    "        return self.H2\n",
    "    \n",
    "    def Gradient(self,X,Y):\n",
    "        Y=Y.reshape(-1,1) if (Y.ndim==1) else Y\n",
    "        Y_predicted=self.Forward(X)\n",
    "        \n",
    "#         //derivatives from output to hidden\n",
    "        self.DA2=(((Y_predicted-Y)*Y_predicted*(1-Y_predicted)))\n",
    "        self.DW2=self.DA2.T.dot(self.H1)\n",
    "        self.DB2=self.DA2.sum(axis=0).reshape(-1,1)\n",
    "        \n",
    "        \n",
    "#         //derivatives from hidden to input\n",
    "        self.DA1=self.DA2*(self.Weights2)*self.H1*(1-self.H1)\n",
    "        self.DW1=(self.DA1).sum(axis=0).reshape(-1,1)*self.Weights1\n",
    "        self.DB1=(self.DA1).sum(axis=0).reshape(-1,1)\n",
    "        return Y_predicted\n",
    "    \n",
    "    def fit(self,X,Y,epochs=1,lr=1.0,rand_init=True):\n",
    "        Y=Y.reshape(-1,1) if(Y.ndim==1) else Y\n",
    "        mse_lists=[]\n",
    "        min_batch_size=X.shape[0]\n",
    "        \n",
    "        for i in range(epochs):\n",
    "            Y_predicted=self.Gradient(X,Y)\n",
    "            mse=self.loss(Y,Y_predicted)\n",
    "            mse_lists.append(mse)\n",
    "            self.Weights2=self.Weights2-lr*(self.DW2/min_batch_size)\n",
    "            self.Bias2=self.Bias2-lr*(self.DB2/min_batch_size)\n",
    "            self.Weights1=self.Weights1-lr*(self.DW1/min_batch_size)\n",
    "            self.Bias1=self.Bias1-lr*(self.DB1/min_batch_size)\n",
    "        return mse_lists\n",
    "    def predict(self,X,thresh=0.5):\n",
    "        Y_pred=self.Forward(X)\n",
    "        return(Y_pred>thresh).astype(int).ravel()"
   ]
  },
  {
   "cell_type": "code",
   "execution_count": null,
   "metadata": {},
   "outputs": [],
   "source": [
    "X_train, X_test, y_train, y_test = train_test_split(X, y, stratify=y, random_state=0)\n",
    "print(X_train.shape, y_train.shape)"
   ]
  },
  {
   "cell_type": "code",
   "execution_count": null,
   "metadata": {},
   "outputs": [],
   "source": [
    "#plotting the train split data coloured by their class labels(2 classes)\n",
    "pl.figure(figsize=(10,6))\n",
    "\n",
    "for cls in np.unique(y_train):\n",
    "    pl.scatter(X_train[y_train==cls,0], X_train[y_train==cls,1], label=cls)\n",
    "pl.title(\"Plot of \"+str(X_train.shape[0])+\" points from training data\")\n",
    "pl.legend()\n",
    "pl.show()"
   ]
  },
  {
   "cell_type": "code",
   "execution_count": null,
   "metadata": {},
   "outputs": [],
   "source": [
    "epoch=100000\n",
    "lr=0.1\n",
    "ffn=Multi_N([2,2,1])\n",
    "loss_list=ffn.fit(X_train,y_train,epochs=epoch,lr=lr)\n",
    "y_train_pred=ffn.predict(X_train)\n",
    "accu"
   ]
  },
  {
   "cell_type": "code",
   "execution_count": null,
   "metadata": {},
   "outputs": [],
   "source": []
  },
  {
   "cell_type": "code",
   "execution_count": null,
   "metadata": {},
   "outputs": [],
   "source": []
  },
  {
   "cell_type": "code",
   "execution_count": null,
   "metadata": {},
   "outputs": [],
   "source": []
  },
  {
   "cell_type": "code",
   "execution_count": null,
   "metadata": {},
   "outputs": [],
   "source": []
  },
  {
   "cell_type": "code",
   "execution_count": null,
   "metadata": {},
   "outputs": [],
   "source": []
  }
 ],
 "metadata": {
  "kernelspec": {
   "display_name": "Python 3",
   "language": "python",
   "name": "python3"
  },
  "language_info": {
   "codemirror_mode": {
    "name": "ipython",
    "version": 3
   },
   "file_extension": ".py",
   "mimetype": "text/x-python",
   "name": "python",
   "nbconvert_exporter": "python",
   "pygments_lexer": "ipython3",
   "version": "3.7.6"
  }
 },
 "nbformat": 4,
 "nbformat_minor": 4
}
