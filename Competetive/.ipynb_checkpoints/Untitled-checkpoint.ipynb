{
 "cells": [
  {
   "cell_type": "markdown",
   "id": "d5f52777",
   "metadata": {},
   "source": [
    "Q1). Write a program to reverse an integer in Python"
   ]
  },
  {
   "cell_type": "code",
   "execution_count": 80,
   "id": "da497044",
   "metadata": {},
   "outputs": [],
   "source": [
    "def reverse(integer):\n",
    "    n = integer\n",
    "    reverse = 0\n",
    "    while n >0:\n",
    "        rem = n % 10\n",
    "        reverse = reverse*10+rem\n",
    "        n = n //10\n",
    "    return reverse"
   ]
  },
  {
   "cell_type": "code",
   "execution_count": 81,
   "id": "ea7addb6",
   "metadata": {},
   "outputs": [
    {
     "data": {
      "text/plain": [
       "310201"
      ]
     },
     "execution_count": 81,
     "metadata": {},
     "output_type": "execute_result"
    }
   ],
   "source": [
    "reverse(102013)"
   ]
  },
  {
   "cell_type": "code",
   "execution_count": 82,
   "id": "87a9844e",
   "metadata": {},
   "outputs": [
    {
     "data": {
      "text/plain": [
       "4433"
      ]
     },
     "execution_count": 82,
     "metadata": {},
     "output_type": "execute_result"
    }
   ],
   "source": [
    "reverse(3344)"
   ]
  },
  {
   "cell_type": "markdown",
   "id": "0aa7e057",
   "metadata": {},
   "source": [
    "Q2). Write a program in Python to check whether an integer is Armstrong number or not."
   ]
  },
  {
   "cell_type": "code",
   "execution_count": 57,
   "id": "2193b6b8",
   "metadata": {},
   "outputs": [
    {
     "data": {
      "text/plain": [
       "True"
      ]
     },
     "execution_count": 57,
     "metadata": {},
     "output_type": "execute_result"
    }
   ],
   "source": [
    "371 == 3**3 + 7**3 + 1**3"
   ]
  },
  {
   "cell_type": "code",
   "execution_count": 74,
   "id": "4c30fd7d",
   "metadata": {},
   "outputs": [],
   "source": [
    "def gen_armstrong(number):\n",
    "    arm = 0\n",
    "    n = number\n",
    "    while n>0:\n",
    "        rem = n%10\n",
    "        arm = arm+rem**3\n",
    "        n = n//10\n",
    "    return arm == number    "
   ]
  },
  {
   "cell_type": "code",
   "execution_count": 75,
   "id": "8298da47",
   "metadata": {},
   "outputs": [
    {
     "data": {
      "text/plain": [
       "True"
      ]
     },
     "execution_count": 75,
     "metadata": {},
     "output_type": "execute_result"
    }
   ],
   "source": [
    "gen_armstrong(371)"
   ]
  },
  {
   "cell_type": "code",
   "execution_count": 83,
   "id": "07cb4623",
   "metadata": {},
   "outputs": [
    {
     "data": {
      "text/plain": [
       "False"
      ]
     },
     "execution_count": 83,
     "metadata": {},
     "output_type": "execute_result"
    }
   ],
   "source": [
    "gen_armstrong(421)"
   ]
  },
  {
   "cell_type": "markdown",
   "id": "90deb78a",
   "metadata": {},
   "source": [
    "Q3). Write a program in Python to check given number is prime or not."
   ]
  },
  {
   "cell_type": "code",
   "execution_count": 28,
   "id": "fa49378d",
   "metadata": {},
   "outputs": [],
   "source": [
    "def find_prime(number):\n",
    "    count = 0\n",
    "    for i in range(2,number):\n",
    "        if number%i == 0:\n",
    "            count+=1\n",
    "    if count>=1:\n",
    "        return \"Not Prime\"\n",
    "    else:\n",
    "        return \"Prime\""
   ]
  },
  {
   "cell_type": "code",
   "execution_count": 38,
   "id": "e97b5fd8",
   "metadata": {},
   "outputs": [
    {
     "data": {
      "text/plain": [
       "'Prime'"
      ]
     },
     "execution_count": 38,
     "metadata": {},
     "output_type": "execute_result"
    }
   ],
   "source": [
    "find_prime(11)"
   ]
  },
  {
   "cell_type": "code",
   "execution_count": 4,
   "id": "707fc16f",
   "metadata": {},
   "outputs": [
    {
     "data": {
      "text/plain": [
       "1"
      ]
     },
     "execution_count": 4,
     "metadata": {},
     "output_type": "execute_result"
    }
   ],
   "source": [
    "7%2"
   ]
  },
  {
   "cell_type": "code",
   "execution_count": 6,
   "id": "870444f2",
   "metadata": {},
   "outputs": [
    {
     "data": {
      "text/plain": [
       "0"
      ]
     },
     "execution_count": 6,
     "metadata": {},
     "output_type": "execute_result"
    }
   ],
   "source": [
    "2,3,4,5,6,7"
   ]
  },
  {
   "cell_type": "code",
   "execution_count": null,
   "id": "2082c431",
   "metadata": {},
   "outputs": [],
   "source": []
  },
  {
   "cell_type": "code",
   "execution_count": null,
   "id": "15c62ceb",
   "metadata": {},
   "outputs": [],
   "source": []
  },
  {
   "cell_type": "code",
   "execution_count": null,
   "id": "432b117b",
   "metadata": {},
   "outputs": [],
   "source": []
  },
  {
   "cell_type": "code",
   "execution_count": null,
   "id": "9e8483c6",
   "metadata": {},
   "outputs": [],
   "source": []
  },
  {
   "cell_type": "code",
   "execution_count": null,
   "id": "2828942b",
   "metadata": {},
   "outputs": [],
   "source": []
  },
  {
   "cell_type": "code",
   "execution_count": null,
   "id": "96ed93d9",
   "metadata": {},
   "outputs": [],
   "source": []
  },
  {
   "cell_type": "code",
   "execution_count": null,
   "id": "fe2d4b05",
   "metadata": {},
   "outputs": [],
   "source": []
  },
  {
   "cell_type": "code",
   "execution_count": null,
   "id": "60741151",
   "metadata": {},
   "outputs": [],
   "source": []
  },
  {
   "cell_type": "code",
   "execution_count": null,
   "id": "ed822671",
   "metadata": {},
   "outputs": [],
   "source": []
  },
  {
   "cell_type": "code",
   "execution_count": null,
   "id": "f8160d0b",
   "metadata": {},
   "outputs": [],
   "source": []
  },
  {
   "cell_type": "code",
   "execution_count": null,
   "id": "cf6a0878",
   "metadata": {},
   "outputs": [],
   "source": []
  }
 ],
 "metadata": {
  "kernelspec": {
   "display_name": "Python 3 (ipykernel)",
   "language": "python",
   "name": "python3"
  },
  "language_info": {
   "codemirror_mode": {
    "name": "ipython",
    "version": 3
   },
   "file_extension": ".py",
   "mimetype": "text/x-python",
   "name": "python",
   "nbconvert_exporter": "python",
   "pygments_lexer": "ipython3",
   "version": "3.9.14"
  }
 },
 "nbformat": 4,
 "nbformat_minor": 5
}
