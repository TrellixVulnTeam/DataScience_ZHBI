{
 "cells": [
  {
   "cell_type": "code",
   "execution_count": 1,
   "metadata": {},
   "outputs": [],
   "source": [
    "import pandas as pd\n",
    "import numpy as np"
   ]
  },
  {
   "cell_type": "code",
   "execution_count": 2,
   "metadata": {},
   "outputs": [],
   "source": [
    "df_episodes=pd.read_csv('Episodes.csv')"
   ]
  },
  {
   "cell_type": "code",
   "execution_count": 4,
   "metadata": {},
   "outputs": [
    {
     "data": {
      "text/html": [
       "<div>\n",
       "<style scoped>\n",
       "    .dataframe tbody tr th:only-of-type {\n",
       "        vertical-align: middle;\n",
       "    }\n",
       "\n",
       "    .dataframe tbody tr th {\n",
       "        vertical-align: top;\n",
       "    }\n",
       "\n",
       "    .dataframe thead th {\n",
       "        text-align: right;\n",
       "    }\n",
       "</style>\n",
       "<table border=\"1\" class=\"dataframe\">\n",
       "  <thead>\n",
       "    <tr style=\"text-align: right;\">\n",
       "      <th></th>\n",
       "      <th>episode_id</th>\n",
       "      <th>episode_name</th>\n",
       "      <th>heroes</th>\n",
       "      <th>heroes_gender</th>\n",
       "      <th>heroes_location</th>\n",
       "      <th>heroes_nationality</th>\n",
       "      <th>heroes_kaggle_username</th>\n",
       "      <th>heroes_twitter_handle</th>\n",
       "      <th>category</th>\n",
       "      <th>flavour_of_tea</th>\n",
       "      <th>...</th>\n",
       "      <th>youtube_subscribers</th>\n",
       "      <th>anchor_url</th>\n",
       "      <th>anchor_thumbnail_type</th>\n",
       "      <th>anchor_plays</th>\n",
       "      <th>spotify_starts</th>\n",
       "      <th>spotify_streams</th>\n",
       "      <th>spotify_listeners</th>\n",
       "      <th>apple_listeners</th>\n",
       "      <th>apple_listened_hours</th>\n",
       "      <th>apple_avg_listen_duration</th>\n",
       "    </tr>\n",
       "  </thead>\n",
       "  <tbody>\n",
       "    <tr>\n",
       "      <th>0</th>\n",
       "      <td>E0</td>\n",
       "      <td>Chai Time Data Science Launch Announcement</td>\n",
       "      <td>NaN</td>\n",
       "      <td>NaN</td>\n",
       "      <td>NaN</td>\n",
       "      <td>NaN</td>\n",
       "      <td>NaN</td>\n",
       "      <td>NaN</td>\n",
       "      <td>Other</td>\n",
       "      <td>Masala Chai</td>\n",
       "      <td>...</td>\n",
       "      <td>3</td>\n",
       "      <td>https://anchor.fm/chaitimedatascience/episodes...</td>\n",
       "      <td>0.0</td>\n",
       "      <td>553.0</td>\n",
       "      <td>491.0</td>\n",
       "      <td>262.0</td>\n",
       "      <td>359.0</td>\n",
       "      <td>29.0</td>\n",
       "      <td>1.0</td>\n",
       "      <td>117.0</td>\n",
       "    </tr>\n",
       "    <tr>\n",
       "      <th>1</th>\n",
       "      <td>E1</td>\n",
       "      <td>Kaggle Triple Grandmaster, Abhishek Thakur Int...</td>\n",
       "      <td>Abhishek Thakur</td>\n",
       "      <td>Male</td>\n",
       "      <td>Norway</td>\n",
       "      <td>India</td>\n",
       "      <td>abhishek</td>\n",
       "      <td>abhi1thakur</td>\n",
       "      <td>Kaggle</td>\n",
       "      <td>Ginger Chai</td>\n",
       "      <td>...</td>\n",
       "      <td>60</td>\n",
       "      <td>https://anchor.fm/chaitimedatascience/episodes...</td>\n",
       "      <td>0.0</td>\n",
       "      <td>1271.0</td>\n",
       "      <td>826.0</td>\n",
       "      <td>608.0</td>\n",
       "      <td>456.0</td>\n",
       "      <td>56.0</td>\n",
       "      <td>25.0</td>\n",
       "      <td>1621.0</td>\n",
       "    </tr>\n",
       "    <tr>\n",
       "      <th>2</th>\n",
       "      <td>E2</td>\n",
       "      <td>Interview with Kaggle Master, ML Engineer: Rya...</td>\n",
       "      <td>Ryan Chesler</td>\n",
       "      <td>Male</td>\n",
       "      <td>USA</td>\n",
       "      <td>USA</td>\n",
       "      <td>ryches</td>\n",
       "      <td>ryan_chesler</td>\n",
       "      <td>Kaggle</td>\n",
       "      <td>Masala Chai</td>\n",
       "      <td>...</td>\n",
       "      <td>3</td>\n",
       "      <td>https://anchor.fm/chaitimedatascience/episodes...</td>\n",
       "      <td>0.0</td>\n",
       "      <td>681.0</td>\n",
       "      <td>398.0</td>\n",
       "      <td>274.0</td>\n",
       "      <td>214.0</td>\n",
       "      <td>19.0</td>\n",
       "      <td>10.0</td>\n",
       "      <td>1879.0</td>\n",
       "    </tr>\n",
       "    <tr>\n",
       "      <th>3</th>\n",
       "      <td>E3</td>\n",
       "      <td>Interview with CEO of SharpestMinds, Edouard H...</td>\n",
       "      <td>Edouard Harris</td>\n",
       "      <td>Male</td>\n",
       "      <td>Canada</td>\n",
       "      <td>Canada</td>\n",
       "      <td>NaN</td>\n",
       "      <td>neutronsNeurons</td>\n",
       "      <td>Industry</td>\n",
       "      <td>Kashmiri Kahwa</td>\n",
       "      <td>...</td>\n",
       "      <td>1</td>\n",
       "      <td>https://anchor.fm/chaitimedatascience/episodes...</td>\n",
       "      <td>0.0</td>\n",
       "      <td>638.0</td>\n",
       "      <td>334.0</td>\n",
       "      <td>230.0</td>\n",
       "      <td>169.0</td>\n",
       "      <td>10.0</td>\n",
       "      <td>4.0</td>\n",
       "      <td>1344.0</td>\n",
       "    </tr>\n",
       "    <tr>\n",
       "      <th>4</th>\n",
       "      <td>E4</td>\n",
       "      <td>Data Science for Good: City of LA Kaggle Winni...</td>\n",
       "      <td>Shivam Bansal</td>\n",
       "      <td>Male</td>\n",
       "      <td>Singapore</td>\n",
       "      <td>India</td>\n",
       "      <td>shivamb</td>\n",
       "      <td>shivamshaz</td>\n",
       "      <td>Kaggle</td>\n",
       "      <td>Apple Cinnamon</td>\n",
       "      <td>...</td>\n",
       "      <td>4</td>\n",
       "      <td>https://anchor.fm/chaitimedatascience/episodes...</td>\n",
       "      <td>0.0</td>\n",
       "      <td>495.0</td>\n",
       "      <td>201.0</td>\n",
       "      <td>139.0</td>\n",
       "      <td>123.0</td>\n",
       "      <td>17.0</td>\n",
       "      <td>3.0</td>\n",
       "      <td>633.0</td>\n",
       "    </tr>\n",
       "  </tbody>\n",
       "</table>\n",
       "<p>5 rows × 36 columns</p>\n",
       "</div>"
      ],
      "text/plain": [
       "  episode_id                                       episode_name  \\\n",
       "0         E0         Chai Time Data Science Launch Announcement   \n",
       "1         E1  Kaggle Triple Grandmaster, Abhishek Thakur Int...   \n",
       "2         E2  Interview with Kaggle Master, ML Engineer: Rya...   \n",
       "3         E3  Interview with CEO of SharpestMinds, Edouard H...   \n",
       "4         E4  Data Science for Good: City of LA Kaggle Winni...   \n",
       "\n",
       "            heroes heroes_gender heroes_location heroes_nationality  \\\n",
       "0              NaN           NaN             NaN                NaN   \n",
       "1  Abhishek Thakur          Male          Norway              India   \n",
       "2     Ryan Chesler          Male             USA                USA   \n",
       "3   Edouard Harris          Male          Canada             Canada   \n",
       "4    Shivam Bansal          Male       Singapore              India   \n",
       "\n",
       "  heroes_kaggle_username heroes_twitter_handle  category  flavour_of_tea  ...  \\\n",
       "0                    NaN                   NaN     Other     Masala Chai  ...   \n",
       "1               abhishek           abhi1thakur    Kaggle     Ginger Chai  ...   \n",
       "2                 ryches          ryan_chesler    Kaggle     Masala Chai  ...   \n",
       "3                    NaN       neutronsNeurons  Industry  Kashmiri Kahwa  ...   \n",
       "4                shivamb            shivamshaz    Kaggle  Apple Cinnamon  ...   \n",
       "\n",
       "  youtube_subscribers                                         anchor_url  \\\n",
       "0                   3  https://anchor.fm/chaitimedatascience/episodes...   \n",
       "1                  60  https://anchor.fm/chaitimedatascience/episodes...   \n",
       "2                   3  https://anchor.fm/chaitimedatascience/episodes...   \n",
       "3                   1  https://anchor.fm/chaitimedatascience/episodes...   \n",
       "4                   4  https://anchor.fm/chaitimedatascience/episodes...   \n",
       "\n",
       "  anchor_thumbnail_type  anchor_plays spotify_starts  spotify_streams  \\\n",
       "0                   0.0         553.0          491.0            262.0   \n",
       "1                   0.0        1271.0          826.0            608.0   \n",
       "2                   0.0         681.0          398.0            274.0   \n",
       "3                   0.0         638.0          334.0            230.0   \n",
       "4                   0.0         495.0          201.0            139.0   \n",
       "\n",
       "   spotify_listeners  apple_listeners  apple_listened_hours  \\\n",
       "0              359.0             29.0                   1.0   \n",
       "1              456.0             56.0                  25.0   \n",
       "2              214.0             19.0                  10.0   \n",
       "3              169.0             10.0                   4.0   \n",
       "4              123.0             17.0                   3.0   \n",
       "\n",
       "   apple_avg_listen_duration  \n",
       "0                      117.0  \n",
       "1                     1621.0  \n",
       "2                     1879.0  \n",
       "3                     1344.0  \n",
       "4                      633.0  \n",
       "\n",
       "[5 rows x 36 columns]"
      ]
     },
     "execution_count": 4,
     "metadata": {},
     "output_type": "execute_result"
    }
   ],
   "source": [
    "df_episodes.head()"
   ]
  },
  {
   "cell_type": "code",
   "execution_count": 5,
   "metadata": {},
   "outputs": [
    {
     "data": {
      "text/plain": [
       "(85, 36)"
      ]
     },
     "execution_count": 5,
     "metadata": {},
     "output_type": "execute_result"
    }
   ],
   "source": [
    "df_episodes.shape"
   ]
  },
  {
   "cell_type": "code",
   "execution_count": 6,
   "metadata": {},
   "outputs": [
    {
     "data": {
      "application/javascript": [
       "\n",
       "        if (window._pyforest_update_imports_cell) { window._pyforest_update_imports_cell('import seaborn as sns'); }\n",
       "    "
      ],
      "text/plain": [
       "<IPython.core.display.Javascript object>"
      ]
     },
     "metadata": {},
     "output_type": "display_data"
    },
    {
     "data": {
      "text/plain": [
       "<matplotlib.axes._subplots.AxesSubplot at 0x1ea5dc2e3c8>"
      ]
     },
     "execution_count": 6,
     "metadata": {},
     "output_type": "execute_result"
    },
    {
     "data": {
      "image/png": "[encoded data removed]",
      "text/plain": [
       "<Figure size 432x288 with 2 Axes>"
      ]
     },
     "metadata": {
      "needs_background": "light"
     },
     "output_type": "display_data"
    }
   ],
   "source": [
    "sns.heatmap(df_episodes.isnull(),cmap='Blues')"
   ]
  },
  {
   "cell_type": "code",
   "execution_count": null,
   "metadata": {},
   "outputs": [],
   "source": []
  },
  {
   "cell_type": "code",
   "execution_count": null,
   "metadata": {},
   "outputs": [],
   "source": []
  },
  {
   "cell_type": "code",
   "execution_count": null,
   "metadata": {},
   "outputs": [],
   "source": []
  },
  {
   "cell_type": "code",
   "execution_count": null,
   "metadata": {},
   "outputs": [],
   "source": []
  },
  {
   "cell_type": "code",
   "execution_count": null,
   "metadata": {},
   "outputs": [],
   "source": []
  },
  {
   "cell_type": "code",
   "execution_count": null,
   "metadata": {},
   "outputs": [],
   "source": []
  },
  {
   "cell_type": "code",
   "execution_count": null,
   "metadata": {},
   "outputs": [],
   "source": []
  },
  {
   "cell_type": "code",
   "execution_count": null,
   "metadata": {},
   "outputs": [],
   "source": []
  },
  {
   "cell_type": "code",
   "execution_count": null,
   "metadata": {},
   "outputs": [],
   "source": []
  },
  {
   "cell_type": "code",
   "execution_count": null,
   "metadata": {},
   "outputs": [],
   "source": []
  },
  {
   "cell_type": "code",
   "execution_count": null,
   "metadata": {},
   "outputs": [],
   "source": []
  },
  {
   "cell_type": "code",
   "execution_count": null,
   "metadata": {},
   "outputs": [],
   "source": []
  },
  {
   "cell_type": "code",
   "execution_count": null,
   "metadata": {},
   "outputs": [],
   "source": []
  },
  {
   "cell_type": "code",
   "execution_count": null,
   "metadata": {},
   "outputs": [],
   "source": []
  },
  {
   "cell_type": "code",
   "execution_count": null,
   "metadata": {},
   "outputs": [],
   "source": []
  },
  {
   "cell_type": "code",
   "execution_count": null,
   "metadata": {},
   "outputs": [],
   "source": []
  },
  {
   "cell_type": "code",
   "execution_count": null,
   "metadata": {},
   "outputs": [],
   "source": []
  },
  {
   "cell_type": "code",
   "execution_count": null,
   "metadata": {},
   "outputs": [],
   "source": []
  },
  {
   "cell_type": "code",
   "execution_count": null,
   "metadata": {},
   "outputs": [],
   "source": []
  },
  {
   "cell_type": "code",
   "execution_count": null,
   "metadata": {},
   "outputs": [],
   "source": []
  },
  {
   "cell_type": "code",
   "execution_count": null,
   "metadata": {},
   "outputs": [],
   "source": []
  },
  {
   "cell_type": "code",
   "execution_count": null,
   "metadata": {},
   "outputs": [],
   "source": []
  },
  {
   "cell_type": "code",
   "execution_count": null,
   "metadata": {},
   "outputs": [],
   "source": []
  },
  {
   "cell_type": "code",
   "execution_count": null,
   "metadata": {},
   "outputs": [],
   "source": []
  },
  {
   "cell_type": "code",
   "execution_count": null,
   "metadata": {},
   "outputs": [],
   "source": []
  },
  {
   "cell_type": "code",
   "execution_count": null,
   "metadata": {},
   "outputs": [],
   "source": []
  },
  {
   "cell_type": "code",
   "execution_count": null,
   "metadata": {},
   "outputs": [],
   "source": []
  },
  {
   "cell_type": "code",
   "execution_count": null,
   "metadata": {},
   "outputs": [],
   "source": []
  },
  {
   "cell_type": "code",
   "execution_count": null,
   "metadata": {},
   "outputs": [],
   "source": []
  },
  {
   "cell_type": "code",
   "execution_count": null,
   "metadata": {},
   "outputs": [],
   "source": []
  },
  {
   "cell_type": "code",
   "execution_count": null,
   "metadata": {},
   "outputs": [],
   "source": []
  },
  {
   "cell_type": "code",
   "execution_count": null,
   "metadata": {},
   "outputs": [],
   "source": []
  },
  {
   "cell_type": "code",
   "execution_count": null,
   "metadata": {},
   "outputs": [],
   "source": []
  },
  {
   "cell_type": "code",
   "execution_count": null,
   "metadata": {},
   "outputs": [],
   "source": []
  },
  {
   "cell_type": "code",
   "execution_count": null,
   "metadata": {},
   "outputs": [],
   "source": []
  },
  {
   "cell_type": "code",
   "execution_count": null,
   "metadata": {},
   "outputs": [],
   "source": []
  },
  {
   "cell_type": "code",
   "execution_count": null,
   "metadata": {},
   "outputs": [],
   "source": []
  },
  {
   "cell_type": "code",
   "execution_count": null,
   "metadata": {},
   "outputs": [],
   "source": []
  },
  {
   "cell_type": "code",
   "execution_count": null,
   "metadata": {},
   "outputs": [],
   "source": []
  },
  {
   "cell_type": "code",
   "execution_count": null,
   "metadata": {},
   "outputs": [],
   "source": []
  },
  {
   "cell_type": "code",
   "execution_count": null,
   "metadata": {},
   "outputs": [],
   "source": []
  },
  {
   "cell_type": "code",
   "execution_count": null,
   "metadata": {},
   "outputs": [],
   "source": []
  },
  {
   "cell_type": "code",
   "execution_count": null,
   "metadata": {},
   "outputs": [],
   "source": []
  },
  {
   "cell_type": "code",
   "execution_count": null,
   "metadata": {},
   "outputs": [],
   "source": []
  },
  {
   "cell_type": "code",
   "execution_count": null,
   "metadata": {},
   "outputs": [],
   "source": []
  },
  {
   "cell_type": "code",
   "execution_count": null,
   "metadata": {},
   "outputs": [],
   "source": []
  },
  {
   "cell_type": "code",
   "execution_count": null,
   "metadata": {},
   "outputs": [],
   "source": []
  },
  {
   "cell_type": "code",
   "execution_count": null,
   "metadata": {},
   "outputs": [],
   "source": []
  },
  {
   "cell_type": "code",
   "execution_count": null,
   "metadata": {},
   "outputs": [],
   "source": []
  },
  {
   "cell_type": "code",
   "execution_count": null,
   "metadata": {},
   "outputs": [],
   "source": []
  },
  {
   "cell_type": "code",
   "execution_count": null,
   "metadata": {},
   "outputs": [],
   "source": []
  },
  {
   "cell_type": "code",
   "execution_count": null,
   "metadata": {},
   "outputs": [],
   "source": []
  },
  {
   "cell_type": "code",
   "execution_count": null,
   "metadata": {},
   "outputs": [],
   "source": []
  },
  {
   "cell_type": "code",
   "execution_count": null,
   "metadata": {},
   "outputs": [],
   "source": []
  }
 ],
 "metadata": {
  "kernelspec": {
   "display_name": "Python 3",
   "language": "python",
   "name": "python3"
  },
  "language_info": {
   "codemirror_mode": {
    "name": "ipython",
    "version": 3
   },
   "file_extension": ".py",
   "mimetype": "text/x-python",
   "name": "python",
   "nbconvert_exporter": "python",
   "pygments_lexer": "ipython3",
   "version": "3.7.7"
  }
 },
 "nbformat": 4,
 "nbformat_minor": 4
}
