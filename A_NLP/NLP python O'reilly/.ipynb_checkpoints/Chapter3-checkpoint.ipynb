{
 "cells": [
  {
   "cell_type": "code",
   "execution_count": 2,
   "metadata": {},
   "outputs": [],
   "source": [
    "from __future__ import division\n",
    "import nltk,re,pprint\n",
    "from urllib.request import urlopen\n",
    "from bs4 import BeautifulSoup"
   ]
  },
  {
   "cell_type": "code",
   "execution_count": null,
   "metadata": {},
   "outputs": [],
   "source": []
  },
  {
   "cell_type": "code",
   "execution_count": 3,
   "metadata": {},
   "outputs": [],
   "source": [
    "url=\"http://www.gutenberg.org/files/2554/2554-0.txt\""
   ]
  },
  {
   "cell_type": "code",
   "execution_count": 4,
   "metadata": {},
   "outputs": [],
   "source": [
    "raw=urlopen(url).read()"
   ]
  },
  {
   "cell_type": "code",
   "execution_count": 5,
   "metadata": {},
   "outputs": [
    {
     "data": {
      "text/plain": [
       "bytes"
      ]
     },
     "execution_count": 5,
     "metadata": {},
     "output_type": "execute_result"
    }
   ],
   "source": [
    "type(raw)"
   ]
  },
  {
   "cell_type": "code",
   "execution_count": 6,
   "metadata": {},
   "outputs": [
    {
     "data": {
      "text/plain": [
       "1201735"
      ]
     },
     "execution_count": 6,
     "metadata": {},
     "output_type": "execute_result"
    }
   ],
   "source": [
    "len(raw)"
   ]
  },
  {
   "cell_type": "code",
   "execution_count": 7,
   "metadata": {},
   "outputs": [
    {
     "data": {
      "text/plain": [
       "b'ject Gutenberg EBook of Crime and Punishment, by Fyodor Dostoevsk'"
      ]
     },
     "execution_count": 7,
     "metadata": {},
     "output_type": "execute_result"
    }
   ],
   "source": [
    "raw[10:75]"
   ]
  },
  {
   "cell_type": "code",
   "execution_count": 8,
   "metadata": {},
   "outputs": [],
   "source": [
    "proxies={'http':'http://www.someproxy.com:3128'}"
   ]
  },
  {
   "cell_type": "code",
   "execution_count": 9,
   "metadata": {},
   "outputs": [],
   "source": [
    "# raw=urlopen(url,proxies=proxies).read()"
   ]
  },
  {
   "cell_type": "code",
   "execution_count": 10,
   "metadata": {},
   "outputs": [],
   "source": [
    "url=\"https://www.medium.com\""
   ]
  },
  {
   "cell_type": "code",
   "execution_count": 11,
   "metadata": {},
   "outputs": [],
   "source": [
    "raw=raw.decode('utf-8')"
   ]
  },
  {
   "cell_type": "code",
   "execution_count": 12,
   "metadata": {},
   "outputs": [],
   "source": [
    "tokens=nltk.word_tokenize(raw)"
   ]
  },
  {
   "cell_type": "code",
   "execution_count": 13,
   "metadata": {},
   "outputs": [
    {
     "data": {
      "text/plain": [
       "list"
      ]
     },
     "execution_count": 13,
     "metadata": {},
     "output_type": "execute_result"
    }
   ],
   "source": [
    "type(tokens)"
   ]
  },
  {
   "cell_type": "code",
   "execution_count": 14,
   "metadata": {},
   "outputs": [
    {
     "data": {
      "text/plain": [
       "257085"
      ]
     },
     "execution_count": 14,
     "metadata": {},
     "output_type": "execute_result"
    }
   ],
   "source": [
    "len(tokens)"
   ]
  },
  {
   "cell_type": "code",
   "execution_count": 15,
   "metadata": {},
   "outputs": [
    {
     "data": {
      "text/plain": [
       "['\\ufeffThe',\n",
       " 'Project',\n",
       " 'Gutenberg',\n",
       " 'EBook',\n",
       " 'of',\n",
       " 'Crime',\n",
       " 'and',\n",
       " 'Punishment',\n",
       " ',',\n",
       " 'by']"
      ]
     },
     "execution_count": 15,
     "metadata": {},
     "output_type": "execute_result"
    }
   ],
   "source": [
    "tokens[:10]"
   ]
  },
  {
   "cell_type": "code",
   "execution_count": 16,
   "metadata": {},
   "outputs": [],
   "source": [
    "text=nltk.Text(tokens)"
   ]
  },
  {
   "cell_type": "code",
   "execution_count": 17,
   "metadata": {},
   "outputs": [
    {
     "data": {
      "text/plain": [
       "nltk.text.Text"
      ]
     },
     "execution_count": 17,
     "metadata": {},
     "output_type": "execute_result"
    }
   ],
   "source": [
    "type(text)"
   ]
  },
  {
   "cell_type": "code",
   "execution_count": 18,
   "metadata": {},
   "outputs": [
    {
     "data": {
      "text/plain": [
       "['PROJECT',\n",
       " 'GUTENBERG',\n",
       " 'EBOOK',\n",
       " 'CRIME',\n",
       " 'AND',\n",
       " 'PUNISHMENT',\n",
       " '*',\n",
       " '*',\n",
       " '*',\n",
       " 'Produced',\n",
       " 'by',\n",
       " 'John',\n",
       " 'Bickers',\n",
       " ';',\n",
       " 'and',\n",
       " 'Dagny',\n",
       " 'CRIME',\n",
       " 'AND',\n",
       " 'PUNISHMENT',\n",
       " 'By',\n",
       " 'Fyodor',\n",
       " 'Dostoevsky',\n",
       " 'Translated',\n",
       " 'By',\n",
       " 'Constance',\n",
       " 'Garnett',\n",
       " 'TRANSLATOR',\n",
       " '’',\n",
       " 'S',\n",
       " 'PREFACE',\n",
       " 'A',\n",
       " 'few',\n",
       " 'words',\n",
       " 'about',\n",
       " 'Dostoevsky',\n",
       " 'himself',\n",
       " 'may',\n",
       " 'help',\n",
       " 'the',\n",
       " 'English',\n",
       " 'reader',\n",
       " 'to',\n",
       " 'understand',\n",
       " 'his',\n",
       " 'work',\n",
       " '.',\n",
       " 'Dostoevsky',\n",
       " 'was',\n",
       " 'the',\n",
       " 'son']"
      ]
     },
     "execution_count": 18,
     "metadata": {},
     "output_type": "execute_result"
    }
   ],
   "source": [
    "text[100:150]"
   ]
  },
  {
   "cell_type": "code",
   "execution_count": 19,
   "metadata": {},
   "outputs": [
    {
     "name": "stdout",
     "output_type": "stream",
     "text": [
      "Katerina Ivanovna; Pyotr Petrovitch; Pulcheria Alexandrovna; Avdotya\n",
      "Romanovna; Rodion Romanovitch; Marfa Petrovna; Sofya Semyonovna; old\n",
      "woman; Project Gutenberg-tm; Porfiry Petrovitch; Amalia Ivanovna;\n",
      "great deal; young man; Nikodim Fomitch; Ilya Petrovitch; Project\n",
      "Gutenberg; Andrey Semyonovitch; Hay Market; Dmitri Prokofitch; Good\n",
      "heavens\n"
     ]
    }
   ],
   "source": [
    "text.collocations()"
   ]
  },
  {
   "cell_type": "code",
   "execution_count": 20,
   "metadata": {},
   "outputs": [
    {
     "data": {
      "text/plain": [
       "[('Katerina', 'Ivanovna'),\n",
       " ('Pyotr', 'Petrovitch'),\n",
       " ('Pulcheria', 'Alexandrovna'),\n",
       " ('Avdotya', 'Romanovna'),\n",
       " ('Rodion', 'Romanovitch'),\n",
       " ('Marfa', 'Petrovna'),\n",
       " ('Sofya', 'Semyonovna'),\n",
       " ('old', 'woman'),\n",
       " ('Project', 'Gutenberg-tm'),\n",
       " ('Porfiry', 'Petrovitch'),\n",
       " ('Amalia', 'Ivanovna'),\n",
       " ('great', 'deal'),\n",
       " ('young', 'man'),\n",
       " ('Nikodim', 'Fomitch'),\n",
       " ('Ilya', 'Petrovitch'),\n",
       " ('Project', 'Gutenberg'),\n",
       " ('Andrey', 'Semyonovitch'),\n",
       " ('Hay', 'Market'),\n",
       " ('Dmitri', 'Prokofitch'),\n",
       " ('Good', 'heavens')]"
      ]
     },
     "execution_count": 20,
     "metadata": {},
     "output_type": "execute_result"
    }
   ],
   "source": [
    "text.collocation_list()"
   ]
  },
  {
   "cell_type": "code",
   "execution_count": 21,
   "metadata": {},
   "outputs": [
    {
     "data": {
      "text/plain": [
       "5336"
      ]
     },
     "execution_count": 21,
     "metadata": {},
     "output_type": "execute_result"
    }
   ],
   "source": [
    "raw.find('PART I')"
   ]
  },
  {
   "cell_type": "code",
   "execution_count": 22,
   "metadata": {},
   "outputs": [
    {
     "data": {
      "text/plain": [
       "13"
      ]
     },
     "execution_count": 22,
     "metadata": {},
     "output_type": "execute_result"
    }
   ],
   "source": [
    "raw.rfind(\"Gutenberg EBook of Crime\")"
   ]
  },
  {
   "cell_type": "code",
   "execution_count": 23,
   "metadata": {},
   "outputs": [],
   "source": [
    "url = \"http://news.bbc.co.uk/2/hi/health/2284783.stm\""
   ]
  },
  {
   "cell_type": "code",
   "execution_count": 24,
   "metadata": {},
   "outputs": [],
   "source": [
    "html=urlopen(url).read()"
   ]
  },
  {
   "cell_type": "code",
   "execution_count": 25,
   "metadata": {},
   "outputs": [],
   "source": [
    "raw=BeautifulSoup(html).get_text()"
   ]
  },
  {
   "cell_type": "code",
   "execution_count": 26,
   "metadata": {},
   "outputs": [],
   "source": [
    "tokens=nltk.word_tokenize(raw)"
   ]
  },
  {
   "cell_type": "code",
   "execution_count": 27,
   "metadata": {},
   "outputs": [
    {
     "data": {
      "text/plain": [
       "['BBC', 'NEWS', '|', 'Health', '|', 'Blondes', \"'to\", 'die', 'out', 'in']"
      ]
     },
     "execution_count": 27,
     "metadata": {},
     "output_type": "execute_result"
    }
   ],
   "source": [
    "tokens[:10]"
   ]
  },
  {
   "cell_type": "code",
   "execution_count": 28,
   "metadata": {},
   "outputs": [
    {
     "name": "stdout",
     "output_type": "stream",
     "text": [
      "Displaying 7 of 7 matches:\n",
      "hey say too few people now carry the gene for blondes to last beyond the next \n",
      "blonde hair is caused by a recessive gene . In order for a child to have blond\n",
      " have blonde hair , it must have the gene on both sides of the family in the g\n",
      "ere is a disadvantage of having that gene or by chance . They do n't disappear\n",
      "des would disappear is if having the gene was a disadvantage and I do not thin\n",
      "er's Polio campaign launched in Iraq Gene defect explains high blood pressure \n",
      "er's Polio campaign launched in Iraq Gene defect explains high blood pressure \n"
     ]
    }
   ],
   "source": [
    "text=nltk.Text(tokens)\n",
    "text.concordance('gene')"
   ]
  },
  {
   "cell_type": "markdown",
   "metadata": {},
   "source": [
    "concordance finds the strings present in particular sentences"
   ]
  },
  {
   "cell_type": "code",
   "execution_count": 29,
   "metadata": {},
   "outputs": [],
   "source": [
    "import feedparser\n",
    "llog=feedparser.parse(\"http://languagelog.ldc.upenn.edu/nll/?feed=atom\")\n"
   ]
  },
  {
   "cell_type": "code",
   "execution_count": 30,
   "metadata": {},
   "outputs": [
    {
     "data": {
      "text/plain": [
       "'Language Log'"
      ]
     },
     "execution_count": 30,
     "metadata": {},
     "output_type": "execute_result"
    }
   ],
   "source": [
    "llog['feed']['title']"
   ]
  },
  {
   "cell_type": "code",
   "execution_count": 31,
   "metadata": {},
   "outputs": [
    {
     "data": {
      "text/plain": [
       "13"
      ]
     },
     "execution_count": 31,
     "metadata": {},
     "output_type": "execute_result"
    }
   ],
   "source": [
    "len(llog.entries)"
   ]
  },
  {
   "cell_type": "code",
   "execution_count": 32,
   "metadata": {},
   "outputs": [],
   "source": [
    "post=llog.entries[2]"
   ]
  },
  {
   "cell_type": "code",
   "execution_count": 33,
   "metadata": {},
   "outputs": [
    {
     "data": {
      "text/plain": [
       "{'authors': [{'name': 'Victor Mair',\n",
       "   'href': 'https://www.sas.upenn.edu/ealc/mair'}],\n",
       " 'author_detail': {'name': 'Victor Mair',\n",
       "  'href': 'https://www.sas.upenn.edu/ealc/mair'},\n",
       " 'href': 'https://www.sas.upenn.edu/ealc/mair',\n",
       " 'author': 'Victor Mair',\n",
       " 'title': 'GFHG, SDGM',\n",
       " 'title_detail': {'type': 'text/html',\n",
       "  'language': 'en-US',\n",
       "  'base': 'https://languagelog.ldc.upenn.edu/nll/wp-atom.php',\n",
       "  'value': 'GFHG, SDGM'},\n",
       " 'links': [{'rel': 'alternate',\n",
       "   'type': 'text/html',\n",
       "   'href': 'https://languagelog.ldc.upenn.edu/nll/?p=47570&utm_source=rss&utm_medium=rss&utm_campaign=gfhg-sdgm'},\n",
       "  {'rel': 'replies',\n",
       "   'type': 'text/html',\n",
       "   'href': 'https://languagelog.ldc.upenn.edu/nll/?p=47570&utm_source=rss&utm_medium=rss&utm_campaign=gfhg-sdgm#comments',\n",
       "   'count': '8',\n",
       "   'thr:count': '8'},\n",
       "  {'rel': 'replies',\n",
       "   'type': 'application/atom+xml',\n",
       "   'href': 'https://languagelog.ldc.upenn.edu/nll/?feed=atom&p=47570',\n",
       "   'count': '8',\n",
       "   'thr:count': '8'}],\n",
       " 'link': 'https://languagelog.ldc.upenn.edu/nll/?p=47570&utm_source=rss&utm_medium=rss&utm_campaign=gfhg-sdgm',\n",
       " 'id': 'https://languagelog.ldc.upenn.edu/nll/?p=47570',\n",
       " 'guidislink': False,\n",
       " 'updated': '2020-07-07T22:23:36Z',\n",
       " 'updated_parsed': time.struct_time(tm_year=2020, tm_mon=7, tm_mday=7, tm_hour=22, tm_min=23, tm_sec=36, tm_wday=1, tm_yday=189, tm_isdst=0),\n",
       " 'published': '2020-07-07T14:04:38Z',\n",
       " 'published_parsed': time.struct_time(tm_year=2020, tm_mon=7, tm_mday=7, tm_hour=14, tm_min=4, tm_sec=38, tm_wday=1, tm_yday=189, tm_isdst=0),\n",
       " 'tags': [{'term': 'Censorship',\n",
       "   'scheme': 'https://languagelog.ldc.upenn.edu/nll',\n",
       "   'label': None},\n",
       "  {'term': 'Slogans',\n",
       "   'scheme': 'https://languagelog.ldc.upenn.edu/nll',\n",
       "   'label': None}],\n",
       " 'summary': 'Hong Kong opponents of PRC / CCP totalitarian rule can read the title of this post.\\xa0 Many of them can also read this geometric typeface: In both cases it is the rallying cry of the dissidents: gwong1 fuk6 hoeng1 gong2 si4 doi6 gaak3 ming6\\xa0 (Jyutping) 光復香港时代革命 \"Liberate Hong Kong! the revolution of our times!\" With [&#8230;]',\n",
       " 'summary_detail': {'type': 'text/html',\n",
       "  'language': 'en-US',\n",
       "  'base': 'https://languagelog.ldc.upenn.edu/nll/wp-atom.php',\n",
       "  'value': 'Hong Kong opponents of PRC / CCP totalitarian rule can read the title of this post.\\xa0 Many of them can also read this geometric typeface: In both cases it is the rallying cry of the dissidents: gwong1 fuk6 hoeng1 gong2 si4 doi6 gaak3 ming6\\xa0 (Jyutping) 光復香港时代革命 \"Liberate Hong Kong! the revolution of our times!\" With [&#8230;]'},\n",
       " 'content': [{'type': 'text/html',\n",
       "   'language': 'en-US',\n",
       "   'base': 'https://languagelog.ldc.upenn.edu/nll/?p=47570&utm_source=rss&utm_medium=rss&utm_campaign=gfhg-sdgm',\n",
       "   'value': '<p>Hong Kong opponents of PRC / CCP totalitarian rule can read the title of this post.\\xa0 Many of them can also read this geometric typeface:</p>\\n<p align=\"center\"><a href=\"http://languagelog.ldc.upenn.edu/~bgzimmer/GFHG.jpg\"><img title=\"Click to embiggen\" src=\"http://languagelog.ldc.upenn.edu/~bgzimmer/GFHG.jpg\" alt=\"\" width=\"475\" /></a><span id=\"more-47570\"></span></p>\\n<p>In both cases it is the rallying cry of the dissidents:</p>\\n<p style=\"padding-left: 40px;\">gwong1 fuk6 hoeng1 gong2 si4 doi6 gaak3 ming6\\xa0 (<a href=\"https://en.wikipedia.org/wiki/Jyutping\" target=\"_blank\" rel=\"noopener noreferrer\" data-saferedirecturl=\"https://www.google.com/url?q=https://en.wikipedia.org/wiki/Jyutping&amp;source=gmail&amp;ust=1594178928840000&amp;usg=AFQjCNGbxTZfZYijIwXFK3gJs-rT_0LoHg\">Jyutping</a>)<br />\\n光復香港时代革命<br />\\n\"Liberate Hong Kong! the revolution of our times!\"</p>\\n<p>With the recent imposition of the National Security Law, the Beijing government has suddenly (27 years ahead of schedule) made Hong Kong subject to the same draconian constraints on free speech that are enforced everywhere in the PRC. (See: \"<a title=\"Permanent link to National Security Law eclipses Hong Kong\" href=\"https://languagelog.ldc.upenn.edu/nll/?p=47331\" target=\"_blank\" rel=\"bookmark noopener noreferrer\" data-saferedirecturl=\"https://www.google.com/url?q=https://languagelog.ldc.upenn.edu/nll/?p%3D47331&amp;source=gmail&amp;ust=1594178928840000&amp;usg=AFQjCNEl3yD777ta7chwlElTgvWWC16VSA\">National Security Law eclipses Hong Kong</a>\", 6/2/20.)</p>\\n<p>The erstwhile principle of \"<a href=\"https://en.wikipedia.org/wiki/One_country,_two_systems\" target=\"_blank\" rel=\"noopener noreferrer\" data-saferedirecturl=\"https://www.google.com/url?q=https://en.wikipedia.org/wiki/One_country,_two_systems&amp;source=gmail&amp;ust=1594178928840000&amp;usg=AFQjCNG4W6rX_nNt9nl7pLOjgxngpOc62Q\">One country, two systems</a>\" (Yīguóliǎngzhì 一国两制) is dead.</p>\\n<p style=\"padding-left: 40px;\">\"<a href=\"https://qz.com/1877057/as-in-mainland-china-hong-kongers-use-code-to-skirt-censorship/\" target=\"_blank\" rel=\"noopener noreferrer\" data-saferedirecturl=\"https://www.google.com/url?q=https://qz.com/1877057/as-in-mainland-china-hong-kongers-use-code-to-skirt-censorship/&amp;source=gmail&amp;ust=1594178928840000&amp;usg=AFQjCNGbmR8IX8nKi9BvIZkT3TSPg7r6WA\">As in mainland China, Hong Kongers now use code to evade political censorship</a>\" (Quartz, 7/3/20)</p>\\n<p style=\"padding-left: 40px;\">\"‘<a href=\"https://hongkongfp.com/2020/07/03/gfhg-sdgm-hong-kong-netizens-reimagine-illegal-slogan-as-protesters-find-workaround/\">GFHG, SDGM’: Hong Kong netizens reimagine illegal slogan as protesters find workarounds\"</a> (Hong Kong Free Press, 7/3/20)</p>\\n<p>The ultimate anti-censorship dodge:\\xa0 holding up blank signs.</p>\\n<p style=\"padding-left: 40px;\">\"<a href=\"https://www.businessinsider.com/hong-kong-activists-blank-signs-avoid-china-national-security-law-2020-7\">Hong Kong activists are holding up blank signs because China now has the power to define pro-democracy slogans as terrorism</a>\", by <span data-e2e-name=\"Bill Bostock\"><span class=\"byline-link byline-author-name\">Bill Bostock, Business Insider</span></span> (7/6/20).</p>\\n<p>It is impossible for the censors to keep up with the creativity and determination of the people who want to be free.</p>\\n<p><b>Selected readings</b></p>\\n<ul>\\n<li>\"<a href=\"https://languagelog.ldc.upenn.edu/nll/?p=44272\" target=\"_blank\" rel=\"noopener noreferrer\" data-saferedirecturl=\"https://www.google.com/url?q=https://languagelog.ldc.upenn.edu/nll/?p%3D44272&amp;source=gmail&amp;ust=1594178928840000&amp;usg=AFQjCNG4pPoqLdvTN2qpVuzajHUzwswLwg\">Vocabulary of Hong Kong protest slogans and new characters</a>\" (9/1/19)</li>\\n<li>\"<a title=\"Permanent link to Hong Kong protests: \" href=\"https://languagelog.ldc.upenn.edu/nll/?p=44886\" target=\"_blank\" rel=\"bookmark noopener noreferrer\" data-saferedirecturl=\"https://www.google.com/url?q=https://languagelog.ldc.upenn.edu/nll/?p%3D44886&amp;source=gmail&amp;ust=1594178928840000&amp;usg=AFQjCNGGrjQs86K8pjTahiJ2PqqEubbuxg\">Hong Kong protests: \\'recover\\' or \\'liberate\\'</a>\" (11/3/19)</li>\\n<li>\"<a title=\"Permanent link to Loose Romanization for Cantonese\" href=\"https://languagelog.ldc.upenn.edu/nll/?p=44443\" target=\"_blank\" rel=\"bookmark noopener noreferrer\" data-saferedirecturl=\"https://www.google.com/url?q=https://languagelog.ldc.upenn.edu/nll/?p%3D44443&amp;source=gmail&amp;ust=1594178928840000&amp;usg=AFQjCNFqNYe86CFW2c_81wv7iuBpYwOWMw\">Loose Romanization for Cantonese</a>\" (9/21/19)</li>\\n<li>\"<a title=\"Permanent link to Women\\'s Romanization for Hong Kong\" href=\"https://languagelog.ldc.upenn.edu/nll/?p=44034\" target=\"_blank\" rel=\"bookmark noopener noreferrer\" data-saferedirecturl=\"https://www.google.com/url?q=https://languagelog.ldc.upenn.edu/nll/?p%3D44034&amp;source=gmail&amp;ust=1594178928840000&amp;usg=AFQjCNG6SMFeOYGehQ8RscslRFh_9BPtoA\">Women\\'s Romanization for Hong Kong</a></li>\\n<li>\"<a title=\"Permanent link to Hong Kong protesters\\' argot\" href=\"https://languagelog.ldc.upenn.edu/nll/?p=44317\" target=\"_blank\" rel=\"bookmark noopener noreferrer\" data-saferedirecturl=\"https://www.google.com/url?q=https://languagelog.ldc.upenn.edu/nll/?p%3D44317&amp;source=gmail&amp;ust=1594178928840000&amp;usg=AFQjCNEPMHiJvb8wnFoCTGL0p5GxAeOdOg\">Hong Kong protesters\\' argot</a>\" (9/7/19) — includes a long list of relevant posts</li>\\n<li>\"<a title=\"Permanent link to Uppercase and lowercase letters in Cantonese Romanization\" href=\"https://languagelog.ldc.upenn.edu/nll/?p=47267\" target=\"_blank\" rel=\"bookmark noopener noreferrer\" data-saferedirecturl=\"https://www.google.com/url?q=https://languagelog.ldc.upenn.edu/nll/?p%3D47267&amp;source=gmail&amp;ust=1594178928840000&amp;usg=AFQjCNEH3CWPgwQDc6UVaO5I_13Ye3wJ8Q\">Uppercase and lowercase letters in Cantonese Romanization</a>\" (5/28/20) — also includes a long list of relevant posts</li>\\n<li>\"<a title=\"Permanent link to Better said in Cantonese\" href=\"https://languagelog.ldc.upenn.edu/nll/?p=47559\" target=\"_blank\" rel=\"bookmark noopener noreferrer\" data-saferedirecturl=\"https://www.google.com/url?q=https://languagelog.ldc.upenn.edu/nll/?p%3D47559&amp;source=gmail&amp;ust=1594178928840000&amp;usg=AFQjCNFS8-ocwN3DjMvhAfsDENI56_P0yg\">Better said in Cantonese</a>\" (7/4/20) — also includes a long list of relevant posts</li>\\n<li>\"<a title=\"Permanent link to National Security Law eclipses Hong Kong\" href=\"https://languagelog.ldc.upenn.edu/nll/?p=47331\" target=\"_blank\" rel=\"bookmark noopener noreferrer\" data-saferedirecturl=\"https://www.google.com/url?q=https://languagelog.ldc.upenn.edu/nll/?p%3D47331&amp;source=gmail&amp;ust=1594178928840000&amp;usg=AFQjCNEl3yD777ta7chwlElTgvWWC16VSA\">National Security Law eclipses Hong Kong</a>\" (6/2/20)</li>\\n</ul>\\n<p>[h.t. Norman Leung and Mark Metcalf]</p>'}],\n",
       " 'thr_total': '8'}"
      ]
     },
     "execution_count": 33,
     "metadata": {},
     "output_type": "execute_result"
    }
   ],
   "source": [
    "post"
   ]
  },
  {
   "cell_type": "code",
   "execution_count": 34,
   "metadata": {},
   "outputs": [
    {
     "data": {
      "text/plain": [
       "'GFHG, SDGM'"
      ]
     },
     "execution_count": 34,
     "metadata": {},
     "output_type": "execute_result"
    }
   ],
   "source": [
    "post.title"
   ]
  },
  {
   "cell_type": "code",
   "execution_count": 35,
   "metadata": {},
   "outputs": [
    {
     "data": {
      "text/plain": [
       "'<p>Hong Kong opponents of PRC / CCP totalitarian rule can read the title of this post.\\xa0 Many of them can also read this geometric typeface:</p>\\n<p align=\"center\"><a href=\"http://languagelog.ldc.upenn.edu/~bgzimmer/GFHG.jpg\"><img title=\"Click to embiggen\" src=\"http://languagelog.ldc.upenn.edu/~bgzimmer/GFHG.jpg\" alt=\"\" width=\"475\" /></a><span id=\"more-47570\"></span></p>\\n<p>In both cases it is the rallying cry of the dissidents:</p>\\n<p style=\"padding-left: 40px;\">gwong1 fuk6 hoeng1 gong2 si4 doi6 '"
      ]
     },
     "execution_count": 35,
     "metadata": {},
     "output_type": "execute_result"
    }
   ],
   "source": [
    "content=post.content[0].value\n",
    "content[:500]"
   ]
  },
  {
   "cell_type": "code",
   "execution_count": 36,
   "metadata": {},
   "outputs": [
    {
     "data": {
      "text/plain": [
       "['Hong',\n",
       " 'Kong',\n",
       " 'opponents',\n",
       " 'of',\n",
       " 'PRC',\n",
       " '/',\n",
       " 'CCP',\n",
       " 'totalitarian',\n",
       " 'rule',\n",
       " 'can',\n",
       " 'read',\n",
       " 'the',\n",
       " 'title',\n",
       " 'of',\n",
       " 'this',\n",
       " 'post',\n",
       " '.',\n",
       " 'Many',\n",
       " 'of',\n",
       " 'them',\n",
       " 'can',\n",
       " 'also',\n",
       " 'read',\n",
       " 'this',\n",
       " 'geometric',\n",
       " 'typeface',\n",
       " ':',\n",
       " 'In',\n",
       " 'both',\n",
       " 'cases',\n",
       " 'it',\n",
       " 'is',\n",
       " 'the',\n",
       " 'rallying',\n",
       " 'cry',\n",
       " 'of',\n",
       " 'the',\n",
       " 'dissidents',\n",
       " ':',\n",
       " 'gwong1',\n",
       " 'fuk6',\n",
       " 'hoeng1',\n",
       " 'gong2',\n",
       " 'si4',\n",
       " 'doi6',\n",
       " 'gaak3',\n",
       " 'ming6',\n",
       " '(',\n",
       " 'Jyutping',\n",
       " ')',\n",
       " '光復香港时代革命',\n",
       " \"''\",\n",
       " 'Liberate',\n",
       " 'Hong',\n",
       " 'Kong',\n",
       " '!',\n",
       " 'the',\n",
       " 'revolution',\n",
       " 'of',\n",
       " 'our',\n",
       " 'times',\n",
       " '!',\n",
       " \"''\",\n",
       " 'With',\n",
       " 'the',\n",
       " 'recent',\n",
       " 'imposition',\n",
       " 'of',\n",
       " 'the',\n",
       " 'National',\n",
       " 'Security',\n",
       " 'Law',\n",
       " ',',\n",
       " 'the',\n",
       " 'Beijing',\n",
       " 'government',\n",
       " 'has',\n",
       " 'suddenly',\n",
       " '(',\n",
       " '27',\n",
       " 'years',\n",
       " 'ahead',\n",
       " 'of',\n",
       " 'schedule',\n",
       " ')',\n",
       " 'made',\n",
       " 'Hong',\n",
       " 'Kong',\n",
       " 'subject',\n",
       " 'to',\n",
       " 'the',\n",
       " 'same',\n",
       " 'draconian',\n",
       " 'constraints',\n",
       " 'on',\n",
       " 'free',\n",
       " 'speech',\n",
       " 'that',\n",
       " 'are',\n",
       " 'enforced',\n",
       " 'everywhere',\n",
       " 'in',\n",
       " 'the',\n",
       " 'PRC',\n",
       " '.',\n",
       " '(',\n",
       " 'See',\n",
       " ':',\n",
       " '``',\n",
       " 'National',\n",
       " 'Security',\n",
       " 'Law',\n",
       " 'eclipses',\n",
       " 'Hong',\n",
       " 'Kong',\n",
       " \"''\",\n",
       " ',',\n",
       " '6/2/20',\n",
       " '.',\n",
       " ')',\n",
       " 'The',\n",
       " 'erstwhile',\n",
       " 'principle',\n",
       " 'of',\n",
       " '``',\n",
       " 'One',\n",
       " 'country',\n",
       " ',',\n",
       " 'two',\n",
       " 'systems',\n",
       " \"''\",\n",
       " '(',\n",
       " 'Yīguóliǎngzhì',\n",
       " '一国两制',\n",
       " ')',\n",
       " 'is',\n",
       " 'dead',\n",
       " '.',\n",
       " '``',\n",
       " 'As',\n",
       " 'in',\n",
       " 'mainland',\n",
       " 'China',\n",
       " ',',\n",
       " 'Hong',\n",
       " 'Kongers',\n",
       " 'now',\n",
       " 'use',\n",
       " 'code',\n",
       " 'to',\n",
       " 'evade',\n",
       " 'political',\n",
       " 'censorship',\n",
       " \"''\",\n",
       " '(',\n",
       " 'Quartz',\n",
       " ',',\n",
       " '7/3/20',\n",
       " ')',\n",
       " \"''\",\n",
       " '‘',\n",
       " 'GFHG',\n",
       " ',',\n",
       " 'SDGM',\n",
       " '’',\n",
       " ':',\n",
       " 'Hong',\n",
       " 'Kong',\n",
       " 'netizens',\n",
       " 'reimagine',\n",
       " 'illegal',\n",
       " 'slogan',\n",
       " 'as',\n",
       " 'protesters',\n",
       " 'find',\n",
       " 'workarounds',\n",
       " \"''\",\n",
       " '(',\n",
       " 'Hong',\n",
       " 'Kong',\n",
       " 'Free',\n",
       " 'Press',\n",
       " ',',\n",
       " '7/3/20',\n",
       " ')',\n",
       " 'The',\n",
       " 'ultimate',\n",
       " 'anti-censorship',\n",
       " 'dodge',\n",
       " ':',\n",
       " 'holding',\n",
       " 'up',\n",
       " 'blank',\n",
       " 'signs',\n",
       " '.',\n",
       " '``',\n",
       " 'Hong',\n",
       " 'Kong',\n",
       " 'activists',\n",
       " 'are',\n",
       " 'holding',\n",
       " 'up',\n",
       " 'blank',\n",
       " 'signs',\n",
       " 'because',\n",
       " 'China',\n",
       " 'now',\n",
       " 'has',\n",
       " 'the',\n",
       " 'power',\n",
       " 'to',\n",
       " 'define',\n",
       " 'pro-democracy',\n",
       " 'slogans',\n",
       " 'as',\n",
       " 'terrorism',\n",
       " \"''\",\n",
       " ',',\n",
       " 'by',\n",
       " 'Bill',\n",
       " 'Bostock',\n",
       " ',',\n",
       " 'Business',\n",
       " 'Insider',\n",
       " '(',\n",
       " '7/6/20',\n",
       " ')',\n",
       " '.',\n",
       " 'It',\n",
       " 'is',\n",
       " 'impossible',\n",
       " 'for',\n",
       " 'the',\n",
       " 'censors',\n",
       " 'to',\n",
       " 'keep',\n",
       " 'up',\n",
       " 'with',\n",
       " 'the',\n",
       " 'creativity',\n",
       " 'and',\n",
       " 'determination',\n",
       " 'of',\n",
       " 'the',\n",
       " 'people',\n",
       " 'who',\n",
       " 'want',\n",
       " 'to',\n",
       " 'be',\n",
       " 'free',\n",
       " '.',\n",
       " 'Selected',\n",
       " 'readings',\n",
       " \"''\",\n",
       " 'Vocabulary',\n",
       " 'of',\n",
       " 'Hong',\n",
       " 'Kong',\n",
       " 'protest',\n",
       " 'slogans',\n",
       " 'and',\n",
       " 'new',\n",
       " 'characters',\n",
       " \"''\",\n",
       " '(',\n",
       " '9/1/19',\n",
       " ')',\n",
       " \"''\",\n",
       " 'Hong',\n",
       " 'Kong',\n",
       " 'protests',\n",
       " ':',\n",
       " \"'recover\",\n",
       " \"'\",\n",
       " 'or',\n",
       " \"'liberate\",\n",
       " \"'\",\n",
       " \"''\",\n",
       " '(',\n",
       " '11/3/19',\n",
       " ')',\n",
       " \"''\",\n",
       " 'Loose',\n",
       " 'Romanization',\n",
       " 'for',\n",
       " 'Cantonese',\n",
       " \"''\",\n",
       " '(',\n",
       " '9/21/19',\n",
       " ')',\n",
       " \"''\",\n",
       " 'Women',\n",
       " \"'s\",\n",
       " 'Romanization',\n",
       " 'for',\n",
       " 'Hong',\n",
       " 'Kong',\n",
       " \"''\",\n",
       " 'Hong',\n",
       " 'Kong',\n",
       " 'protesters',\n",
       " \"'\",\n",
       " 'argot',\n",
       " \"''\",\n",
       " '(',\n",
       " '9/7/19',\n",
       " ')',\n",
       " '—',\n",
       " 'includes',\n",
       " 'a',\n",
       " 'long',\n",
       " 'list',\n",
       " 'of',\n",
       " 'relevant',\n",
       " 'posts',\n",
       " \"''\",\n",
       " 'Uppercase',\n",
       " 'and',\n",
       " 'lowercase',\n",
       " 'letters',\n",
       " 'in',\n",
       " 'Cantonese',\n",
       " 'Romanization',\n",
       " \"''\",\n",
       " '(',\n",
       " '5/28/20',\n",
       " ')',\n",
       " '—',\n",
       " 'also',\n",
       " 'includes',\n",
       " 'a',\n",
       " 'long',\n",
       " 'list',\n",
       " 'of',\n",
       " 'relevant',\n",
       " 'posts',\n",
       " \"''\",\n",
       " 'Better',\n",
       " 'said',\n",
       " 'in',\n",
       " 'Cantonese',\n",
       " \"''\",\n",
       " '(',\n",
       " '7/4/20',\n",
       " ')',\n",
       " '—',\n",
       " 'also',\n",
       " 'includes',\n",
       " 'a',\n",
       " 'long',\n",
       " 'list',\n",
       " 'of',\n",
       " 'relevant',\n",
       " 'posts',\n",
       " \"''\",\n",
       " 'National',\n",
       " 'Security',\n",
       " 'Law',\n",
       " 'eclipses',\n",
       " 'Hong',\n",
       " 'Kong',\n",
       " \"''\",\n",
       " '(',\n",
       " '6/2/20',\n",
       " ')',\n",
       " '[',\n",
       " 'h.t',\n",
       " '.',\n",
       " 'Norman',\n",
       " 'Leung',\n",
       " 'and',\n",
       " 'Mark',\n",
       " 'Metcalf',\n",
       " ']']"
      ]
     },
     "execution_count": 36,
     "metadata": {},
     "output_type": "execute_result"
    }
   ],
   "source": [
    "nltk.word_tokenize(BeautifulSoup(llog.entries[2].content[0].value).get_text())"
   ]
  },
  {
   "cell_type": "code",
   "execution_count": 37,
   "metadata": {},
   "outputs": [],
   "source": [
    "f=open('text.txt')"
   ]
  },
  {
   "cell_type": "code",
   "execution_count": 38,
   "metadata": {},
   "outputs": [
    {
     "data": {
      "text/plain": [
       "'My name is Rishav Paudel. I am doing masters in Artificial Intelligence. I am very good student.'"
      ]
     },
     "execution_count": 38,
     "metadata": {},
     "output_type": "execute_result"
    }
   ],
   "source": [
    "f.read()"
   ]
  },
  {
   "cell_type": "code",
   "execution_count": 39,
   "metadata": {},
   "outputs": [
    {
     "data": {
      "text/plain": [
       "''"
      ]
     },
     "execution_count": 39,
     "metadata": {},
     "output_type": "execute_result"
    }
   ],
   "source": [
    "f.readline()"
   ]
  },
  {
   "cell_type": "code",
   "execution_count": 40,
   "metadata": {},
   "outputs": [
    {
     "data": {
      "text/plain": [
       "['.ipynb_checkpoints',\n",
       " 'chapter1.ipynb',\n",
       " 'Chapter1exercise.ipynb',\n",
       " 'chapter2.ipynb',\n",
       " 'Chapter3.ipynb',\n",
       " 'text.txt']"
      ]
     },
     "execution_count": 40,
     "metadata": {},
     "output_type": "execute_result"
    }
   ],
   "source": [
    "import os\n",
    "os.listdir('.')"
   ]
  },
  {
   "cell_type": "code",
   "execution_count": 46,
   "metadata": {},
   "outputs": [
    {
     "name": "stderr",
     "output_type": "stream",
     "text": [
      "C:\\Users\\rissu\\anaconda3\\lib\\site-packages\\ipykernel_launcher.py:1: DeprecationWarning: 'U' mode is deprecated\n",
      "  \"\"\"Entry point for launching an IPython kernel.\n"
     ]
    }
   ],
   "source": [
    "file=open('text.txt','rU')"
   ]
  },
  {
   "cell_type": "code",
   "execution_count": 47,
   "metadata": {},
   "outputs": [
    {
     "name": "stdout",
     "output_type": "stream",
     "text": [
      "My name is Rishav Paudel. I am doing masters in Artificial Intelligence. I am very good student.\n"
     ]
    }
   ],
   "source": [
    "for line in file:\n",
    "    print(line.strip())"
   ]
  },
  {
   "cell_type": "code",
   "execution_count": 48,
   "metadata": {},
   "outputs": [
    {
     "data": {
      "text/plain": [
       "''"
      ]
     },
     "execution_count": 48,
     "metadata": {},
     "output_type": "execute_result"
    }
   ],
   "source": [
    "file.read()"
   ]
  },
  {
   "cell_type": "code",
   "execution_count": 49,
   "metadata": {},
   "outputs": [
    {
     "data": {
      "text/plain": [
       "0"
      ]
     },
     "execution_count": 49,
     "metadata": {},
     "output_type": "execute_result"
    }
   ],
   "source": [
    "len(file.read())"
   ]
  },
  {
   "cell_type": "code",
   "execution_count": 61,
   "metadata": {},
   "outputs": [
    {
     "data": {
      "text/plain": [
       "\"Rishav Paudel's\""
      ]
     },
     "execution_count": 61,
     "metadata": {},
     "output_type": "execute_result"
    }
   ],
   "source": [
    "'Rishav Paudel\\'s'"
   ]
  },
  {
   "cell_type": "code",
   "execution_count": 72,
   "metadata": {},
   "outputs": [
    {
     "name": "stdout",
     "output_type": "stream",
     "text": [
      "Rishav Paudel\n"
     ]
    }
   ],
   "source": [
    "print('Rishav \\\n",
    "Paudel')"
   ]
  },
  {
   "cell_type": "code",
   "execution_count": 71,
   "metadata": {},
   "outputs": [
    {
     "name": "stdout",
     "output_type": "stream",
     "text": [
      "Rishav\n",
      "Paudel\n"
     ]
    }
   ],
   "source": [
    "print(\"\"\"Rishav\n",
    "Paudel\"\"\")"
   ]
  },
  {
   "cell_type": "code",
   "execution_count": 73,
   "metadata": {},
   "outputs": [
    {
     "name": "stdout",
     "output_type": "stream",
     "text": [
      "Rishav\n",
      "Paudel\n"
     ]
    }
   ],
   "source": [
    "print('''Rishav\n",
    "Paudel''')"
   ]
  },
  {
   "cell_type": "code",
   "execution_count": 74,
   "metadata": {},
   "outputs": [
    {
     "data": {
      "text/plain": [
       "'aaa'"
      ]
     },
     "execution_count": 74,
     "metadata": {},
     "output_type": "execute_result"
    }
   ],
   "source": [
    "'a'+'a'+'a'"
   ]
  },
  {
   "cell_type": "code",
   "execution_count": 75,
   "metadata": {},
   "outputs": [
    {
     "data": {
      "text/plain": [
       "'aaa'"
      ]
     },
     "execution_count": 75,
     "metadata": {},
     "output_type": "execute_result"
    }
   ],
   "source": [
    "'a'*3"
   ]
  },
  {
   "cell_type": "code",
   "execution_count": 88,
   "metadata": {},
   "outputs": [],
   "source": [
    "a = [1, 2, 3, 4, 5, 6, 7, 6, 5, 4, 3, 2, 1]\n",
    "b = [' ' * 2 * (7 - i) + '****' * i for i in a]"
   ]
  },
  {
   "cell_type": "code",
   "execution_count": 89,
   "metadata": {},
   "outputs": [
    {
     "data": {
      "text/plain": [
       "['            ****',\n",
       " '          ********',\n",
       " '        ************',\n",
       " '      ****************',\n",
       " '    ********************',\n",
       " '  ************************',\n",
       " '****************************',\n",
       " '  ************************',\n",
       " '    ********************',\n",
       " '      ****************',\n",
       " '        ************',\n",
       " '          ********',\n",
       " '            ****']"
      ]
     },
     "execution_count": 89,
     "metadata": {},
     "output_type": "execute_result"
    }
   ],
   "source": [
    "b"
   ]
  },
  {
   "cell_type": "code",
   "execution_count": 104,
   "metadata": {},
   "outputs": [
    {
     "data": {
      "text/plain": [
       "'Rishav Paudel'"
      ]
     },
     "execution_count": 104,
     "metadata": {},
     "output_type": "execute_result"
    }
   ],
   "source": [
    "'Rishav'+' Paudel'"
   ]
  },
  {
   "cell_type": "code",
   "execution_count": 105,
   "metadata": {},
   "outputs": [],
   "source": [
    "sent='My name is Rishav Paudel'"
   ]
  },
  {
   "cell_type": "code",
   "execution_count": 112,
   "metadata": {},
   "outputs": [
    {
     "name": "stdout",
     "output_type": "stream",
     "text": [
      "My name is Rishav Paudel"
     ]
    }
   ],
   "source": [
    "for char in sent:\n",
    "    print(char,end='')"
   ]
  },
  {
   "cell_type": "code",
   "execution_count": 118,
   "metadata": {},
   "outputs": [],
   "source": [
    "from nltk.corpus import gutenberg\n",
    "raw=gutenberg.raw('melville-moby_dick.txt')\n",
    "fdist=nltk.FreqDist(ch.lower() for ch in raw if ch.isalpha())"
   ]
  },
  {
   "cell_type": "code",
   "execution_count": 121,
   "metadata": {},
   "outputs": [
    {
     "data": {
      "text/plain": [
       "dict_keys(['m', 'o', 'b', 'y', 'd', 'i', 'c', 'k', 'h', 'e', 'r', 'a', 'n', 'l', 'v', 't', 'g', 's', 'u', 'p', 'w', 'x', 'q', 'f', 'j', 'z'])"
      ]
     },
     "execution_count": 121,
     "metadata": {},
     "output_type": "execute_result"
    }
   ],
   "source": [
    "fdist.keys()"
   ]
  },
  {
   "cell_type": "code",
   "execution_count": 123,
   "metadata": {},
   "outputs": [
    {
     "data": {
      "text/plain": [
       "dict_values([23277, 69326, 16877, 16872, 38219, 65434, 22507, 8059, 62896, 117092, 52134, 77916, 65617, 42793, 8598, 87996, 20820, 64231, 26697, 17255, 22222, 1030, 1556, 20833, 1082, 632])"
      ]
     },
     "execution_count": 123,
     "metadata": {},
     "output_type": "execute_result"
    }
   ],
   "source": [
    "fdist.values()"
   ]
  },
  {
   "cell_type": "code",
   "execution_count": 172,
   "metadata": {},
   "outputs": [
    {
     "name": "stdout",
     "output_type": "stream",
     "text": [
      "Found\n"
     ]
    }
   ],
   "source": [
    "a='My name is Rishav Paudel......I am in Hyderabad'\n",
    "if 'name' in a:\n",
    "    print('Found')"
   ]
  },
  {
   "cell_type": "code",
   "execution_count": 135,
   "metadata": {},
   "outputs": [
    {
     "data": {
      "text/plain": [
       "0"
      ]
     },
     "execution_count": 135,
     "metadata": {},
     "output_type": "execute_result"
    }
   ],
   "source": [
    "a.find('My')"
   ]
  },
  {
   "cell_type": "code",
   "execution_count": 136,
   "metadata": {},
   "outputs": [
    {
     "data": {
      "text/plain": [
       "11"
      ]
     },
     "execution_count": 136,
     "metadata": {},
     "output_type": "execute_result"
    }
   ],
   "source": [
    "a.index('Rishav')"
   ]
  },
  {
   "cell_type": "code",
   "execution_count": 137,
   "metadata": {},
   "outputs": [
    {
     "data": {
      "text/plain": [
       "18"
      ]
     },
     "execution_count": 137,
     "metadata": {},
     "output_type": "execute_result"
    }
   ],
   "source": [
    "a.rfind('P')"
   ]
  },
  {
   "cell_type": "code",
   "execution_count": 138,
   "metadata": {},
   "outputs": [
    {
     "data": {
      "text/plain": [
       "['My', 'name', 'is', 'Rishav', 'Paudel.', 'I', 'am', 'in', 'Hyderabad']"
      ]
     },
     "execution_count": 138,
     "metadata": {},
     "output_type": "execute_result"
    }
   ],
   "source": [
    "a.split()"
   ]
  },
  {
   "cell_type": "code",
   "execution_count": 139,
   "metadata": {},
   "outputs": [
    {
     "data": {
      "text/plain": [
       "['My name is Rishav Paudel. I am in Hyderabad']"
      ]
     },
     "execution_count": 139,
     "metadata": {},
     "output_type": "execute_result"
    }
   ],
   "source": [
    "a.splitlines()"
   ]
  },
  {
   "cell_type": "code",
   "execution_count": 169,
   "metadata": {},
   "outputs": [
    {
     "data": {
      "text/plain": [
       "'My Name Is Rishav Paudel               I Am In Hyderabad'"
      ]
     },
     "execution_count": 169,
     "metadata": {},
     "output_type": "execute_result"
    }
   ],
   "source": [
    "a.title()"
   ]
  },
  {
   "cell_type": "code",
   "execution_count": 170,
   "metadata": {},
   "outputs": [
    {
     "data": {
      "text/plain": [
       "'My name is Rishav Paudel               I am in Hyderabad'"
      ]
     },
     "execution_count": 170,
     "metadata": {},
     "output_type": "execute_result"
    }
   ],
   "source": [
    "a"
   ]
  },
  {
   "cell_type": "code",
   "execution_count": 173,
   "metadata": {},
   "outputs": [
    {
     "data": {
      "text/plain": [
       "'My name is Rishav Paudel......I am in Hyderabad'"
      ]
     },
     "execution_count": 173,
     "metadata": {},
     "output_type": "execute_result"
    }
   ],
   "source": [
    "a.strip(\"is.\")"
   ]
  },
  {
   "cell_type": "code",
   "execution_count": 186,
   "metadata": {},
   "outputs": [
    {
     "data": {
      "text/plain": [
       "'banana'"
      ]
     },
     "execution_count": 186,
     "metadata": {},
     "output_type": "execute_result"
    }
   ],
   "source": [
    "txt = \",,,,,rrttgg...   ..banana....rrr\"\n",
    "\n",
    "x = txt.strip(\",.grt \")\n",
    "x"
   ]
  },
  {
   "cell_type": "code",
   "execution_count": 193,
   "metadata": {},
   "outputs": [
    {
     "data": {
      "text/plain": [
       "'My,name,is,Rishav,paudel'"
      ]
     },
     "execution_count": 193,
     "metadata": {},
     "output_type": "execute_result"
    }
   ],
   "source": [
    "txt='My,name,is,Rishav,paudel'\n",
    "txt.strip(',')"
   ]
  },
  {
   "cell_type": "code",
   "execution_count": 197,
   "metadata": {},
   "outputs": [
    {
     "data": {
      "text/plain": [
       "'Rishav'"
      ]
     },
     "execution_count": 197,
     "metadata": {},
     "output_type": "execute_result"
    }
   ],
   "source": [
    "'   Rishav   '.strip()"
   ]
  },
  {
   "cell_type": "code",
   "execution_count": 198,
   "metadata": {},
   "outputs": [],
   "source": [
    "lis=['a','b','c']\n",
    "st='abc'"
   ]
  },
  {
   "cell_type": "code",
   "execution_count": 199,
   "metadata": {},
   "outputs": [
    {
     "data": {
      "text/plain": [
       "['r', 'b', 'c']"
      ]
     },
     "execution_count": 199,
     "metadata": {},
     "output_type": "execute_result"
    }
   ],
   "source": [
    "lis[0]='r'\n",
    "lis"
   ]
  },
  {
   "cell_type": "markdown",
   "metadata": {},
   "source": [
    "st[0]='z'\n",
    "---------------------------------------------------------------------------\n",
    "TypeError                                 Traceback (most recent call last)\n",
    "<ipython-input-200-2d107e0e7ba1> in <module>\n",
    "----> 1 st[0]='z'\n",
    "\n",
    "TypeError: 'str' object does not support item assignment\n"
   ]
  },
  {
   "cell_type": "code",
   "execution_count": 201,
   "metadata": {},
   "outputs": [],
   "source": [
    "import codecs"
   ]
  },
  {
   "cell_type": "code",
   "execution_count": null,
   "metadata": {},
   "outputs": [],
   "source": []
  },
  {
   "cell_type": "code",
   "execution_count": 221,
   "metadata": {},
   "outputs": [],
   "source": [
    "path = nltk.data.find('corpora/unicode_samples/polish-lat2.txt')"
   ]
  },
  {
   "cell_type": "code",
   "execution_count": 222,
   "metadata": {},
   "outputs": [],
   "source": [
    "f=codecs.open(path,encoding='latin1')"
   ]
  },
  {
   "cell_type": "code",
   "execution_count": 223,
   "metadata": {},
   "outputs": [
    {
     "data": {
      "text/plain": [
       "<codecs.StreamReaderWriter at 0x1f46e89ebc8>"
      ]
     },
     "execution_count": 223,
     "metadata": {},
     "output_type": "execute_result"
    }
   ],
   "source": [
    "f"
   ]
  },
  {
   "cell_type": "code",
   "execution_count": 224,
   "metadata": {},
   "outputs": [
    {
     "name": "stdout",
     "output_type": "stream",
     "text": [
      "b'Pruska Biblioteka Pa\\xc3\\xb1stwowa. Jej dawne zbiory znane pod nazw\\xc2\\xb1'\n",
      "b'\"Berlinka\" to skarb kultury i sztuki niemieckiej. Przewiezione przez'\n",
      "b'Niemc\\xc3\\xb3w pod koniec II wojny \\xc2\\xb6wiatowej na Dolny \\xc2\\xa6l\\xc2\\xb1sk, zosta\\xc2\\xb3y'\n",
      "b'odnalezione po 1945 r. na terytorium Polski. Trafi\\xc2\\xb3y do Biblioteki'\n",
      "b'Jagiello\\xc3\\xb1skiej w Krakowie, obejmuj\\xc2\\xb1 ponad 500 tys. zabytkowych'\n",
      "b'archiwali\\xc3\\xb3w, m.in. manuskrypty Goethego, Mozarta, Beethovena, Bacha.'\n"
     ]
    }
   ],
   "source": [
    "for line in f:\n",
    "    line=line.strip()\n",
    "    print(line.encode('utf-8'))"
   ]
  },
  {
   "cell_type": "code",
   "execution_count": 225,
   "metadata": {},
   "outputs": [
    {
     "data": {
      "text/plain": [
       "97"
      ]
     },
     "execution_count": 225,
     "metadata": {},
     "output_type": "execute_result"
    }
   ],
   "source": [
    "ord('a')"
   ]
  },
  {
   "cell_type": "code",
   "execution_count": 226,
   "metadata": {},
   "outputs": [
    {
     "data": {
      "text/plain": [
       "'a'"
      ]
     },
     "execution_count": 226,
     "metadata": {},
     "output_type": "execute_result"
    }
   ],
   "source": [
    "chr(97)"
   ]
  },
  {
   "cell_type": "code",
   "execution_count": 229,
   "metadata": {},
   "outputs": [
    {
     "data": {
      "text/plain": [
       "'ń'"
      ]
     },
     "execution_count": 229,
     "metadata": {},
     "output_type": "execute_result"
    }
   ],
   "source": [
    "nacute = u'\\u0144'\n",
    "nacute"
   ]
  },
  {
   "cell_type": "code",
   "execution_count": 230,
   "metadata": {},
   "outputs": [
    {
     "data": {
      "text/plain": [
       "b'\\xc5\\x84'"
      ]
     },
     "execution_count": 230,
     "metadata": {},
     "output_type": "execute_result"
    }
   ],
   "source": [
    "nacute.encode('utf8')"
   ]
  },
  {
   "cell_type": "code",
   "execution_count": 231,
   "metadata": {},
   "outputs": [
    {
     "data": {
      "text/plain": [
       "256"
      ]
     },
     "execution_count": 231,
     "metadata": {},
     "output_type": "execute_result"
    }
   ],
   "source": [
    "2**8"
   ]
  },
  {
   "cell_type": "code",
   "execution_count": 232,
   "metadata": {},
   "outputs": [],
   "source": [
    "import unicodedata\n",
    "lines=codecs.open(path,encoding='latin2').readline()"
   ]
  },
  {
   "cell_type": "code",
   "execution_count": 234,
   "metadata": {},
   "outputs": [
    {
     "data": {
      "text/plain": [
       "'Pruska Biblioteka Państwowa. Jej dawne zbiory znane pod nazwą\\n'"
      ]
     },
     "execution_count": 234,
     "metadata": {},
     "output_type": "execute_result"
    }
   ],
   "source": [
    "lines"
   ]
  },
  {
   "cell_type": "code",
   "execution_count": 235,
   "metadata": {},
   "outputs": [
    {
     "data": {
      "text/plain": [
       "b'Pruska Biblioteka Pa\\\\u0144stwowa. Jej dawne zbiory znane pod nazw\\\\u0105\\\\n'"
      ]
     },
     "execution_count": 235,
     "metadata": {},
     "output_type": "execute_result"
    }
   ],
   "source": [
    "lines.encode('unicode_escape')"
   ]
  },
  {
   "cell_type": "code",
   "execution_count": 238,
   "metadata": {},
   "outputs": [
    {
     "data": {
      "text/plain": [
       "b'\\xff\\xfeP\\x00r\\x00u\\x00s\\x00k\\x00a\\x00 \\x00B\\x00i\\x00b\\x00l\\x00i\\x00o\\x00t\\x00e\\x00k\\x00a\\x00 \\x00P\\x00a\\x00D\\x01s\\x00t\\x00w\\x00o\\x00w\\x00a\\x00.\\x00 \\x00J\\x00e\\x00j\\x00 \\x00d\\x00a\\x00w\\x00n\\x00e\\x00 \\x00z\\x00b\\x00i\\x00o\\x00r\\x00y\\x00 \\x00z\\x00n\\x00a\\x00n\\x00e\\x00 \\x00p\\x00o\\x00d\\x00 \\x00n\\x00a\\x00z\\x00w\\x00\\x05\\x01\\n\\x00'"
      ]
     },
     "execution_count": 238,
     "metadata": {},
     "output_type": "execute_result"
    }
   ],
   "source": [
    "temp=lines.encode('utf16')\n",
    "temp"
   ]
  },
  {
   "cell_type": "code",
   "execution_count": 240,
   "metadata": {},
   "outputs": [
    {
     "data": {
      "text/plain": [
       "'Pruska Biblioteka Państwowa. Jej dawne zbiory znane pod nazwą\\n'"
      ]
     },
     "execution_count": 240,
     "metadata": {},
     "output_type": "execute_result"
    }
   ],
   "source": [
    "temp.decode('utf16')"
   ]
  },
  {
   "cell_type": "code",
   "execution_count": 241,
   "metadata": {},
   "outputs": [],
   "source": [
    "line=lines[2]"
   ]
  },
  {
   "cell_type": "code",
   "execution_count": 242,
   "metadata": {},
   "outputs": [
    {
     "data": {
      "text/plain": [
       "'u'"
      ]
     },
     "execution_count": 242,
     "metadata": {},
     "output_type": "execute_result"
    }
   ],
   "source": [
    "line"
   ]
  },
  {
   "cell_type": "code",
   "execution_count": 244,
   "metadata": {},
   "outputs": [
    {
     "data": {
      "text/plain": [
       "117"
      ]
     },
     "execution_count": 244,
     "metadata": {},
     "output_type": "execute_result"
    }
   ],
   "source": [
    "ord('u')"
   ]
  },
  {
   "cell_type": "code",
   "execution_count": 245,
   "metadata": {},
   "outputs": [],
   "source": [
    "import re\n"
   ]
  },
  {
   "cell_type": "code",
   "execution_count": 246,
   "metadata": {},
   "outputs": [],
   "source": [
    "wordlist=[w for w in nltk.corpus.words.words('en') if w.islower()]"
   ]
  },
  {
   "cell_type": "code",
   "execution_count": 247,
   "metadata": {},
   "outputs": [
    {
     "data": {
      "text/plain": [
       "['a',\n",
       " 'aa',\n",
       " 'aal',\n",
       " 'aalii',\n",
       " 'aam',\n",
       " 'aardvark',\n",
       " 'aardwolf',\n",
       " 'aba',\n",
       " 'abac',\n",
       " 'abaca',\n",
       " 'abacate',\n",
       " 'abacay',\n",
       " 'abacinate',\n",
       " 'abacination',\n",
       " 'abaciscus',\n",
       " 'abacist',\n",
       " 'aback',\n",
       " 'abactinal',\n",
       " 'abactinally',\n",
       " 'abaction',\n",
       " 'abactor',\n",
       " 'abaculus',\n",
       " 'abacus',\n",
       " 'abaff',\n",
       " 'abaft',\n",
       " 'abaisance',\n",
       " 'abaiser',\n",
       " 'abaissed',\n",
       " 'abalienate',\n",
       " 'abalienation',\n",
       " 'abalone',\n",
       " 'abampere',\n",
       " 'abandon',\n",
       " 'abandonable',\n",
       " 'abandoned',\n",
       " 'abandonedly',\n",
       " 'abandonee',\n",
       " 'abandoner',\n",
       " 'abandonment',\n",
       " 'abaptiston',\n",
       " 'abarthrosis',\n",
       " 'abarticular',\n",
       " 'abarticulation',\n",
       " 'abas',\n",
       " 'abase',\n",
       " 'abased',\n",
       " 'abasedly',\n",
       " 'abasedness',\n",
       " 'abasement',\n",
       " 'abaser',\n",
       " 'abash',\n",
       " 'abashed',\n",
       " 'abashedly',\n",
       " 'abashedness',\n",
       " 'abashless',\n",
       " 'abashlessly',\n",
       " 'abashment',\n",
       " 'abasia',\n",
       " 'abasic',\n",
       " 'abask',\n",
       " 'abastardize',\n",
       " 'abatable',\n",
       " 'abate',\n",
       " 'abatement',\n",
       " 'abater',\n",
       " 'abatis',\n",
       " 'abatised',\n",
       " 'abaton',\n",
       " 'abator',\n",
       " 'abattoir',\n",
       " 'abature',\n",
       " 'abave',\n",
       " 'abaxial',\n",
       " 'abaxile',\n",
       " 'abaze',\n",
       " 'abb',\n",
       " 'abbacomes',\n",
       " 'abbacy',\n",
       " 'abbas',\n",
       " 'abbasi',\n",
       " 'abbassi',\n",
       " 'abbatial',\n",
       " 'abbatical',\n",
       " 'abbess',\n",
       " 'abbey',\n",
       " 'abbeystede',\n",
       " 'abbot',\n",
       " 'abbotcy',\n",
       " 'abbotnullius',\n",
       " 'abbotship',\n",
       " 'abbreviate',\n",
       " 'abbreviately',\n",
       " 'abbreviation',\n",
       " 'abbreviator',\n",
       " 'abbreviatory',\n",
       " 'abbreviature',\n",
       " 'abcoulomb',\n",
       " 'abdal',\n",
       " 'abdat',\n",
       " 'abdest',\n",
       " 'abdicable',\n",
       " 'abdicant',\n",
       " 'abdicate',\n",
       " 'abdication',\n",
       " 'abdicative',\n",
       " 'abdicator',\n",
       " 'abditive',\n",
       " 'abditory',\n",
       " 'abdomen',\n",
       " 'abdominal',\n",
       " 'abdominalian',\n",
       " 'abdominally',\n",
       " 'abdominoanterior',\n",
       " 'abdominocardiac',\n",
       " 'abdominocentesis',\n",
       " 'abdominocystic',\n",
       " 'abdominogenital',\n",
       " 'abdominohysterectomy',\n",
       " 'abdominohysterotomy',\n",
       " 'abdominoposterior',\n",
       " 'abdominoscope',\n",
       " 'abdominoscopy',\n",
       " 'abdominothoracic',\n",
       " 'abdominous',\n",
       " 'abdominovaginal',\n",
       " 'abdominovesical',\n",
       " 'abduce',\n",
       " 'abducens',\n",
       " 'abducent',\n",
       " 'abduct',\n",
       " 'abduction',\n",
       " 'abductor',\n",
       " 'abeam',\n",
       " 'abear',\n",
       " 'abearance',\n",
       " 'abecedarian',\n",
       " 'abecedarium',\n",
       " 'abecedary',\n",
       " 'abed',\n",
       " 'abeigh',\n",
       " 'abele',\n",
       " 'abelite',\n",
       " 'abelmosk',\n",
       " 'abeltree',\n",
       " 'abenteric',\n",
       " 'abepithymia',\n",
       " 'aberdevine',\n",
       " 'aberrance',\n",
       " 'aberrancy',\n",
       " 'aberrant',\n",
       " 'aberrate',\n",
       " 'aberration',\n",
       " 'aberrational',\n",
       " 'aberrator',\n",
       " 'aberrometer',\n",
       " 'aberroscope',\n",
       " 'aberuncator',\n",
       " 'abet',\n",
       " 'abetment',\n",
       " 'abettal',\n",
       " 'abettor',\n",
       " 'abevacuation',\n",
       " 'abey',\n",
       " 'abeyance',\n",
       " 'abeyancy',\n",
       " 'abeyant',\n",
       " 'abfarad',\n",
       " 'abhenry',\n",
       " 'abhiseka',\n",
       " 'abhominable',\n",
       " 'abhor',\n",
       " 'abhorrence',\n",
       " 'abhorrency',\n",
       " 'abhorrent',\n",
       " 'abhorrently',\n",
       " 'abhorrer',\n",
       " 'abhorrible',\n",
       " 'abhorring',\n",
       " 'abidal',\n",
       " 'abidance',\n",
       " 'abide',\n",
       " 'abider',\n",
       " 'abidi',\n",
       " 'abiding',\n",
       " 'abidingly',\n",
       " 'abidingness',\n",
       " 'abietate',\n",
       " 'abietene',\n",
       " 'abietic',\n",
       " 'abietin',\n",
       " 'abietineous',\n",
       " 'abietinic',\n",
       " 'abigail',\n",
       " 'abigailship',\n",
       " 'abigeat',\n",
       " 'abigeus',\n",
       " 'abilao',\n",
       " 'ability',\n",
       " 'abilla',\n",
       " 'abilo',\n",
       " 'abintestate',\n",
       " 'abiogenesis',\n",
       " 'abiogenesist',\n",
       " 'abiogenetic',\n",
       " 'abiogenetical',\n",
       " 'abiogenetically',\n",
       " 'abiogenist',\n",
       " 'abiogenous',\n",
       " 'abiogeny',\n",
       " 'abiological',\n",
       " 'abiologically',\n",
       " 'abiology',\n",
       " 'abiosis',\n",
       " 'abiotic',\n",
       " 'abiotrophic',\n",
       " 'abiotrophy',\n",
       " 'abir',\n",
       " 'abirritant',\n",
       " 'abirritate',\n",
       " 'abirritation',\n",
       " 'abirritative',\n",
       " 'abiston',\n",
       " 'abiuret',\n",
       " 'abject',\n",
       " 'abjectedness',\n",
       " 'abjection',\n",
       " 'abjective',\n",
       " 'abjectly',\n",
       " 'abjectness',\n",
       " 'abjoint',\n",
       " 'abjudge',\n",
       " 'abjudicate',\n",
       " 'abjudication',\n",
       " 'abjunction',\n",
       " 'abjunctive',\n",
       " 'abjuration',\n",
       " 'abjuratory',\n",
       " 'abjure',\n",
       " 'abjurement',\n",
       " 'abjurer',\n",
       " 'abkar',\n",
       " 'abkari',\n",
       " 'ablach',\n",
       " 'ablactate',\n",
       " 'ablactation',\n",
       " 'ablare',\n",
       " 'ablastemic',\n",
       " 'ablastous',\n",
       " 'ablate',\n",
       " 'ablation',\n",
       " 'ablatitious',\n",
       " 'ablatival',\n",
       " 'ablative',\n",
       " 'ablator',\n",
       " 'ablaut',\n",
       " 'ablaze',\n",
       " 'able',\n",
       " 'ableeze',\n",
       " 'ablegate',\n",
       " 'ableness',\n",
       " 'ablepharia',\n",
       " 'ablepharon',\n",
       " 'ablepharous',\n",
       " 'ablepsia',\n",
       " 'ableptical',\n",
       " 'ableptically',\n",
       " 'abler',\n",
       " 'ablest',\n",
       " 'ablewhackets',\n",
       " 'ablins',\n",
       " 'abloom',\n",
       " 'ablow',\n",
       " 'ablude',\n",
       " 'abluent',\n",
       " 'ablush',\n",
       " 'ablution',\n",
       " 'ablutionary',\n",
       " 'abluvion',\n",
       " 'ably',\n",
       " 'abmho',\n",
       " 'abnegate',\n",
       " 'abnegation',\n",
       " 'abnegative',\n",
       " 'abnegator',\n",
       " 'abnerval',\n",
       " 'abnet',\n",
       " 'abneural',\n",
       " 'abnormal',\n",
       " 'abnormalism',\n",
       " 'abnormalist',\n",
       " 'abnormality',\n",
       " 'abnormalize',\n",
       " 'abnormally',\n",
       " 'abnormalness',\n",
       " 'abnormity',\n",
       " 'abnormous',\n",
       " 'abnumerable',\n",
       " 'aboard',\n",
       " 'abode',\n",
       " 'abodement',\n",
       " 'abody',\n",
       " 'abohm',\n",
       " 'aboil',\n",
       " 'abolish',\n",
       " 'abolisher',\n",
       " 'abolishment',\n",
       " 'abolition',\n",
       " 'abolitionary',\n",
       " 'abolitionism',\n",
       " 'abolitionist',\n",
       " 'abolitionize',\n",
       " 'abolla',\n",
       " 'aboma',\n",
       " 'abomasum',\n",
       " 'abomasus',\n",
       " 'abominable',\n",
       " 'abominableness',\n",
       " 'abominably',\n",
       " 'abominate',\n",
       " 'abomination',\n",
       " 'abominator',\n",
       " 'abomine',\n",
       " 'aboon',\n",
       " 'aborad',\n",
       " 'aboral',\n",
       " 'aborally',\n",
       " 'abord',\n",
       " 'aboriginal',\n",
       " 'aboriginality',\n",
       " 'aboriginally',\n",
       " 'aboriginary',\n",
       " 'aborigine',\n",
       " 'abort',\n",
       " 'aborted',\n",
       " 'aborticide',\n",
       " 'abortient',\n",
       " 'abortifacient',\n",
       " 'abortin',\n",
       " 'abortion',\n",
       " 'abortional',\n",
       " 'abortionist',\n",
       " 'abortive',\n",
       " 'abortively',\n",
       " 'abortiveness',\n",
       " 'abortus',\n",
       " 'abouchement',\n",
       " 'abound',\n",
       " 'abounder',\n",
       " 'abounding',\n",
       " 'aboundingly',\n",
       " 'about',\n",
       " 'abouts',\n",
       " 'above',\n",
       " 'aboveboard',\n",
       " 'abovedeck',\n",
       " 'aboveground',\n",
       " 'aboveproof',\n",
       " 'abovestairs',\n",
       " 'abox',\n",
       " 'abracadabra',\n",
       " 'abrachia',\n",
       " 'abradant',\n",
       " 'abrade',\n",
       " 'abrader',\n",
       " 'abraid',\n",
       " 'abranchial',\n",
       " 'abranchialism',\n",
       " 'abranchian',\n",
       " 'abranchiate',\n",
       " 'abranchious',\n",
       " 'abrasax',\n",
       " 'abrase',\n",
       " 'abrash',\n",
       " 'abrasiometer',\n",
       " 'abrasion',\n",
       " 'abrasive',\n",
       " 'abrastol',\n",
       " 'abraum',\n",
       " 'abraxas',\n",
       " 'abreact',\n",
       " 'abreaction',\n",
       " 'abreast',\n",
       " 'abrenounce',\n",
       " 'abret',\n",
       " 'abrico',\n",
       " 'abridge',\n",
       " 'abridgeable',\n",
       " 'abridged',\n",
       " 'abridgedly',\n",
       " 'abridger',\n",
       " 'abridgment',\n",
       " 'abrim',\n",
       " 'abrin',\n",
       " 'abristle',\n",
       " 'abroach',\n",
       " 'abroad',\n",
       " 'abrocome',\n",
       " 'abrogable',\n",
       " 'abrogate',\n",
       " 'abrogation',\n",
       " 'abrogative',\n",
       " 'abrogator',\n",
       " 'abrook',\n",
       " 'abrotanum',\n",
       " 'abrotine',\n",
       " 'abrupt',\n",
       " 'abruptedly',\n",
       " 'abruption',\n",
       " 'abruptly',\n",
       " 'abruptness',\n",
       " 'absampere',\n",
       " 'absarokite',\n",
       " 'abscess',\n",
       " 'abscessed',\n",
       " 'abscession',\n",
       " 'abscessroot',\n",
       " 'abscind',\n",
       " 'abscise',\n",
       " 'abscision',\n",
       " 'absciss',\n",
       " 'abscissa',\n",
       " 'abscissae',\n",
       " 'abscisse',\n",
       " 'abscission',\n",
       " 'absconce',\n",
       " 'abscond',\n",
       " 'absconded',\n",
       " 'abscondedly',\n",
       " 'abscondence',\n",
       " 'absconder',\n",
       " 'absconsa',\n",
       " 'abscoulomb',\n",
       " 'absence',\n",
       " 'absent',\n",
       " 'absentation',\n",
       " 'absentee',\n",
       " 'absenteeism',\n",
       " 'absenteeship',\n",
       " 'absenter',\n",
       " 'absently',\n",
       " 'absentment',\n",
       " 'absentmindedly',\n",
       " 'absentness',\n",
       " 'absfarad',\n",
       " 'abshenry',\n",
       " 'absinthe',\n",
       " 'absinthial',\n",
       " 'absinthian',\n",
       " 'absinthiate',\n",
       " 'absinthic',\n",
       " 'absinthin',\n",
       " 'absinthine',\n",
       " 'absinthism',\n",
       " 'absinthismic',\n",
       " 'absinthium',\n",
       " 'absinthol',\n",
       " 'absit',\n",
       " 'absmho',\n",
       " 'absohm',\n",
       " 'absolute',\n",
       " 'absolutely',\n",
       " 'absoluteness',\n",
       " 'absolution',\n",
       " 'absolutism',\n",
       " 'absolutist',\n",
       " 'absolutistic',\n",
       " 'absolutistically',\n",
       " 'absolutive',\n",
       " 'absolutization',\n",
       " 'absolutize',\n",
       " 'absolutory',\n",
       " 'absolvable',\n",
       " 'absolvatory',\n",
       " 'absolve',\n",
       " 'absolvent',\n",
       " 'absolver',\n",
       " 'absolvitor',\n",
       " 'absolvitory',\n",
       " 'absonant',\n",
       " 'absonous',\n",
       " 'absorb',\n",
       " 'absorbability',\n",
       " 'absorbable',\n",
       " 'absorbed',\n",
       " 'absorbedly',\n",
       " 'absorbedness',\n",
       " 'absorbefacient',\n",
       " 'absorbency',\n",
       " 'absorbent',\n",
       " 'absorber',\n",
       " 'absorbing',\n",
       " 'absorbingly',\n",
       " 'absorbition',\n",
       " 'absorpt',\n",
       " 'absorptance',\n",
       " 'absorptiometer',\n",
       " 'absorptiometric',\n",
       " 'absorption',\n",
       " 'absorptive',\n",
       " 'absorptively',\n",
       " 'absorptiveness',\n",
       " 'absorptivity',\n",
       " 'absquatulate',\n",
       " 'abstain',\n",
       " 'abstainer',\n",
       " 'abstainment',\n",
       " 'abstemious',\n",
       " 'abstemiously',\n",
       " 'abstemiousness',\n",
       " 'abstention',\n",
       " 'abstentionist',\n",
       " 'abstentious',\n",
       " 'absterge',\n",
       " 'abstergent',\n",
       " 'abstersion',\n",
       " 'abstersive',\n",
       " 'abstersiveness',\n",
       " 'abstinence',\n",
       " 'abstinency',\n",
       " 'abstinent',\n",
       " 'abstinential',\n",
       " 'abstinently',\n",
       " 'abstract',\n",
       " 'abstracted',\n",
       " 'abstractedly',\n",
       " 'abstractedness',\n",
       " 'abstracter',\n",
       " 'abstraction',\n",
       " 'abstractional',\n",
       " 'abstractionism',\n",
       " 'abstractionist',\n",
       " 'abstractitious',\n",
       " 'abstractive',\n",
       " 'abstractively',\n",
       " 'abstractiveness',\n",
       " 'abstractly',\n",
       " 'abstractness',\n",
       " 'abstractor',\n",
       " 'abstrahent',\n",
       " 'abstricted',\n",
       " 'abstriction',\n",
       " 'abstruse',\n",
       " 'abstrusely',\n",
       " 'abstruseness',\n",
       " 'abstrusion',\n",
       " 'abstrusity',\n",
       " 'absume',\n",
       " 'absumption',\n",
       " 'absurd',\n",
       " 'absurdity',\n",
       " 'absurdly',\n",
       " 'absurdness',\n",
       " 'absvolt',\n",
       " 'abterminal',\n",
       " 'abthain',\n",
       " 'abthainrie',\n",
       " 'abthainry',\n",
       " 'abthanage',\n",
       " 'abu',\n",
       " 'abucco',\n",
       " 'abulia',\n",
       " 'abulic',\n",
       " 'abulomania',\n",
       " 'abuna',\n",
       " 'abundance',\n",
       " 'abundancy',\n",
       " 'abundant',\n",
       " 'abundantly',\n",
       " 'abura',\n",
       " 'aburabozu',\n",
       " 'aburban',\n",
       " 'aburst',\n",
       " 'aburton',\n",
       " 'abusable',\n",
       " 'abuse',\n",
       " 'abusedly',\n",
       " 'abusee',\n",
       " 'abuseful',\n",
       " 'abusefully',\n",
       " 'abusefulness',\n",
       " 'abuser',\n",
       " 'abusion',\n",
       " 'abusious',\n",
       " 'abusive',\n",
       " 'abusively',\n",
       " 'abusiveness',\n",
       " 'abut',\n",
       " 'abutment',\n",
       " 'abuttal',\n",
       " 'abutter',\n",
       " 'abutting',\n",
       " 'abuzz',\n",
       " 'abvolt',\n",
       " 'abwab',\n",
       " 'aby',\n",
       " 'abysm',\n",
       " 'abysmal',\n",
       " 'abysmally',\n",
       " 'abyss',\n",
       " 'abyssal',\n",
       " 'abyssobenthonic',\n",
       " 'abyssolith',\n",
       " 'abyssopelagic',\n",
       " 'acacatechin',\n",
       " 'acacatechol',\n",
       " 'acacetin',\n",
       " 'acaciin',\n",
       " 'acacin',\n",
       " 'academe',\n",
       " 'academial',\n",
       " 'academian',\n",
       " 'academic',\n",
       " 'academical',\n",
       " 'academically',\n",
       " 'academicals',\n",
       " 'academician',\n",
       " 'academicism',\n",
       " 'academism',\n",
       " 'academist',\n",
       " 'academite',\n",
       " 'academization',\n",
       " 'academize',\n",
       " 'academy',\n",
       " 'acadialite',\n",
       " 'acajou',\n",
       " 'acaleph',\n",
       " 'acalephan',\n",
       " 'acalephoid',\n",
       " 'acalycal',\n",
       " 'acalycine',\n",
       " 'acalycinous',\n",
       " 'acalyculate',\n",
       " 'acalyptrate',\n",
       " 'acampsia',\n",
       " 'acana',\n",
       " 'acanaceous',\n",
       " 'acanonical',\n",
       " 'acanth',\n",
       " 'acantha',\n",
       " 'acanthaceous',\n",
       " 'acanthad',\n",
       " 'acanthial',\n",
       " 'acanthin',\n",
       " 'acanthine',\n",
       " 'acanthion',\n",
       " 'acanthite',\n",
       " 'acanthocarpous',\n",
       " 'acanthocephalan',\n",
       " 'acanthocephalous',\n",
       " 'acanthocladous',\n",
       " 'acanthodean',\n",
       " 'acanthodian',\n",
       " 'acanthoid',\n",
       " 'acanthological',\n",
       " 'acanthology',\n",
       " 'acantholysis',\n",
       " 'acanthoma',\n",
       " 'acanthon',\n",
       " 'acanthophorous',\n",
       " 'acanthopod',\n",
       " 'acanthopodous',\n",
       " 'acanthopomatous',\n",
       " 'acanthopore',\n",
       " 'acanthopteran',\n",
       " 'acanthopterous',\n",
       " 'acanthopterygian',\n",
       " 'acanthosis',\n",
       " 'acanthous',\n",
       " 'acanthus',\n",
       " 'acapnia',\n",
       " 'acapnial',\n",
       " 'acapsular',\n",
       " 'acapu',\n",
       " 'acapulco',\n",
       " 'acara',\n",
       " 'acardia',\n",
       " 'acardiac',\n",
       " 'acari',\n",
       " 'acarian',\n",
       " 'acariasis',\n",
       " 'acaricidal',\n",
       " 'acaricide',\n",
       " 'acarid',\n",
       " 'acaridean',\n",
       " 'acaridomatium',\n",
       " 'acariform',\n",
       " 'acarine',\n",
       " 'acarinosis',\n",
       " 'acarocecidium',\n",
       " 'acarodermatitis',\n",
       " 'acaroid',\n",
       " 'acarol',\n",
       " 'acarologist',\n",
       " 'acarology',\n",
       " 'acarophilous',\n",
       " 'acarophobia',\n",
       " 'acarotoxic',\n",
       " 'acarpelous',\n",
       " 'acarpous',\n",
       " 'acatalectic',\n",
       " 'acatalepsia',\n",
       " 'acatalepsy',\n",
       " 'acataleptic',\n",
       " 'acatallactic',\n",
       " 'acatamathesia',\n",
       " 'acataphasia',\n",
       " 'acataposis',\n",
       " 'acatastasia',\n",
       " 'acatastatic',\n",
       " 'acate',\n",
       " 'acategorical',\n",
       " 'acatery',\n",
       " 'acatharsia',\n",
       " 'acatharsy',\n",
       " 'acatholic',\n",
       " 'acaudal',\n",
       " 'acaudate',\n",
       " 'acaulescent',\n",
       " 'acauline',\n",
       " 'acaulose',\n",
       " 'acaulous',\n",
       " 'acca',\n",
       " 'accede',\n",
       " 'accedence',\n",
       " 'acceder',\n",
       " 'accelerable',\n",
       " 'accelerando',\n",
       " 'accelerant',\n",
       " 'accelerate',\n",
       " 'accelerated',\n",
       " 'acceleratedly',\n",
       " 'acceleration',\n",
       " 'accelerative',\n",
       " 'accelerator',\n",
       " 'acceleratory',\n",
       " 'accelerograph',\n",
       " 'accelerometer',\n",
       " 'accend',\n",
       " 'accendibility',\n",
       " 'accendible',\n",
       " 'accension',\n",
       " 'accensor',\n",
       " 'accent',\n",
       " 'accentless',\n",
       " 'accentor',\n",
       " 'accentuable',\n",
       " 'accentual',\n",
       " 'accentuality',\n",
       " 'accentually',\n",
       " 'accentuate',\n",
       " 'accentuation',\n",
       " 'accentuator',\n",
       " 'accentus',\n",
       " 'accept',\n",
       " 'acceptability',\n",
       " 'acceptable',\n",
       " 'acceptableness',\n",
       " 'acceptably',\n",
       " 'acceptance',\n",
       " 'acceptancy',\n",
       " 'acceptant',\n",
       " 'acceptation',\n",
       " 'accepted',\n",
       " 'acceptedly',\n",
       " 'accepter',\n",
       " 'acceptilate',\n",
       " 'acceptilation',\n",
       " 'acception',\n",
       " 'acceptive',\n",
       " 'acceptor',\n",
       " 'acceptress',\n",
       " 'accerse',\n",
       " 'accersition',\n",
       " 'accersitor',\n",
       " 'access',\n",
       " 'accessarily',\n",
       " 'accessariness',\n",
       " 'accessary',\n",
       " 'accessaryship',\n",
       " 'accessibility',\n",
       " 'accessible',\n",
       " 'accessibly',\n",
       " 'accession',\n",
       " 'accessional',\n",
       " 'accessioner',\n",
       " 'accessive',\n",
       " 'accessively',\n",
       " 'accessless',\n",
       " 'accessorial',\n",
       " 'accessorily',\n",
       " 'accessoriness',\n",
       " 'accessorius',\n",
       " 'accessory',\n",
       " 'accidence',\n",
       " 'accidency',\n",
       " 'accident',\n",
       " 'accidental',\n",
       " 'accidentalism',\n",
       " 'accidentalist',\n",
       " 'accidentality',\n",
       " 'accidentally',\n",
       " 'accidentalness',\n",
       " 'accidented',\n",
       " 'accidential',\n",
       " 'accidentiality',\n",
       " 'accidently',\n",
       " 'accidia',\n",
       " 'accidie',\n",
       " 'accinge',\n",
       " 'accipient',\n",
       " 'accipitral',\n",
       " 'accipitrary',\n",
       " 'accipitrine',\n",
       " 'accismus',\n",
       " 'accite',\n",
       " 'acclaim',\n",
       " 'acclaimable',\n",
       " 'acclaimer',\n",
       " 'acclamation',\n",
       " 'acclamator',\n",
       " 'acclamatory',\n",
       " 'acclimatable',\n",
       " 'acclimatation',\n",
       " 'acclimate',\n",
       " 'acclimatement',\n",
       " 'acclimation',\n",
       " 'acclimatizable',\n",
       " 'acclimatization',\n",
       " 'acclimatize',\n",
       " 'acclimatizer',\n",
       " 'acclimature',\n",
       " 'acclinal',\n",
       " 'acclinate',\n",
       " 'acclivitous',\n",
       " 'acclivity',\n",
       " 'acclivous',\n",
       " 'accloy',\n",
       " 'accoast',\n",
       " 'accoil',\n",
       " 'accolade',\n",
       " 'accoladed',\n",
       " 'accolated',\n",
       " 'accolent',\n",
       " 'accolle',\n",
       " 'accombination',\n",
       " 'accommodable',\n",
       " 'accommodableness',\n",
       " 'accommodate',\n",
       " 'accommodately',\n",
       " 'accommodateness',\n",
       " 'accommodating',\n",
       " 'accommodatingly',\n",
       " 'accommodation',\n",
       " 'accommodational',\n",
       " 'accommodative',\n",
       " 'accommodativeness',\n",
       " 'accommodator',\n",
       " 'accompanier',\n",
       " 'accompaniment',\n",
       " 'accompanimental',\n",
       " 'accompanist',\n",
       " 'accompany',\n",
       " 'accompanyist',\n",
       " 'accompletive',\n",
       " 'accomplice',\n",
       " 'accompliceship',\n",
       " 'accomplicity',\n",
       " 'accomplish',\n",
       " 'accomplishable',\n",
       " 'accomplished',\n",
       " 'accomplisher',\n",
       " 'accomplishment',\n",
       " 'accomplisht',\n",
       " 'accompt',\n",
       " 'accord',\n",
       " 'accordable',\n",
       " 'accordance',\n",
       " 'accordancy',\n",
       " 'accordant',\n",
       " 'accordantly',\n",
       " 'accorder',\n",
       " 'according',\n",
       " 'accordingly',\n",
       " 'accordion',\n",
       " 'accordionist',\n",
       " 'accorporate',\n",
       " 'accorporation',\n",
       " 'accost',\n",
       " 'accostable',\n",
       " 'accosted',\n",
       " 'accouche',\n",
       " 'accouchement',\n",
       " 'accoucheur',\n",
       " 'accoucheuse',\n",
       " 'account',\n",
       " 'accountability',\n",
       " 'accountable',\n",
       " 'accountableness',\n",
       " 'accountably',\n",
       " 'accountancy',\n",
       " 'accountant',\n",
       " 'accountantship',\n",
       " 'accounting',\n",
       " 'accountment',\n",
       " 'accouple',\n",
       " 'accouplement',\n",
       " 'accouter',\n",
       " 'accouterment',\n",
       " 'accoy',\n",
       " 'accredit',\n",
       " 'accreditate',\n",
       " 'accreditation',\n",
       " 'accredited',\n",
       " 'accreditment',\n",
       " 'accrementitial',\n",
       " 'accrementition',\n",
       " 'accresce',\n",
       " 'accrescence',\n",
       " 'accrescent',\n",
       " 'accretal',\n",
       " 'accrete',\n",
       " 'accretion',\n",
       " 'accretionary',\n",
       " 'accretive',\n",
       " 'accroach',\n",
       " 'accroides',\n",
       " 'accrual',\n",
       " 'accrue',\n",
       " 'accruement',\n",
       " 'accruer',\n",
       " 'accubation',\n",
       " 'accubitum',\n",
       " 'accubitus',\n",
       " 'accultural',\n",
       " 'acculturate',\n",
       " 'acculturation',\n",
       " 'acculturize',\n",
       " 'accumbency',\n",
       " 'accumbent',\n",
       " 'accumber',\n",
       " 'accumulable',\n",
       " 'accumulate',\n",
       " 'accumulation',\n",
       " 'accumulativ',\n",
       " 'accumulative',\n",
       " 'accumulatively',\n",
       " 'accumulativeness',\n",
       " 'accumulator',\n",
       " 'accuracy',\n",
       " 'accurate',\n",
       " 'accurately',\n",
       " 'accurateness',\n",
       " 'accurse',\n",
       " 'accursed',\n",
       " 'accursedly',\n",
       " 'accursedness',\n",
       " 'accusable',\n",
       " 'accusably',\n",
       " 'accusal',\n",
       " 'accusant',\n",
       " 'accusation',\n",
       " 'accusatival',\n",
       " 'accusative',\n",
       " 'accusatively',\n",
       " 'accusatorial',\n",
       " 'accusatorially',\n",
       " 'accusatory',\n",
       " 'accusatrix',\n",
       " 'accuse',\n",
       " 'accused',\n",
       " 'accuser',\n",
       " 'accusingly',\n",
       " 'accusive',\n",
       " 'accustom',\n",
       " 'accustomed',\n",
       " 'accustomedly',\n",
       " 'accustomedness',\n",
       " 'ace',\n",
       " 'aceacenaphthene',\n",
       " 'aceanthrene',\n",
       " 'aceanthrenequinone',\n",
       " 'acecaffine',\n",
       " 'aceconitic',\n",
       " 'acedia',\n",
       " 'acediamine',\n",
       " 'acediast',\n",
       " 'acedy',\n",
       " 'acenaphthene',\n",
       " 'acenaphthenyl',\n",
       " 'acenaphthylene',\n",
       " 'acentric',\n",
       " 'acentrous',\n",
       " 'aceologic',\n",
       " 'aceology',\n",
       " 'acephal',\n",
       " 'acephalan',\n",
       " 'acephalia',\n",
       " 'acephaline',\n",
       " 'acephalism',\n",
       " 'acephalist',\n",
       " ...]"
      ]
     },
     "execution_count": 247,
     "metadata": {},
     "output_type": "execute_result"
    }
   ],
   "source": [
    "wordlist"
   ]
  },
  {
   "cell_type": "code",
   "execution_count": 255,
   "metadata": {},
   "outputs": [
    {
     "data": {
      "text/plain": [
       "['abaissed',\n",
       " 'abandoned',\n",
       " 'abased',\n",
       " 'abashed',\n",
       " 'abatised',\n",
       " 'abed',\n",
       " 'aborted',\n",
       " 'abridged',\n",
       " 'abscessed',\n",
       " 'absconded']"
      ]
     },
     "execution_count": 255,
     "metadata": {},
     "output_type": "execute_result"
    }
   ],
   "source": [
    "[w for w in wordlist if re.search('ed$',w)][:10]"
   ]
  },
  {
   "cell_type": "code",
   "execution_count": 276,
   "metadata": {},
   "outputs": [
    {
     "data": {
      "text/plain": [
       "['edacious',\n",
       " 'edaciously',\n",
       " 'edaciousness',\n",
       " 'edacity',\n",
       " 'edaphic',\n",
       " 'edaphology',\n",
       " 'edaphon',\n",
       " 'edder',\n",
       " 'eddish',\n",
       " 'eddo']"
      ]
     },
     "execution_count": 276,
     "metadata": {},
     "output_type": "execute_result"
    }
   ],
   "source": [
    "[w for w in wordlist if re.search('^ed',w)][:10]"
   ]
  },
  {
   "cell_type": "code",
   "execution_count": 251,
   "metadata": {},
   "outputs": [
    {
     "data": {
      "text/plain": [
       "9148"
      ]
     },
     "execution_count": 251,
     "metadata": {},
     "output_type": "execute_result"
    }
   ],
   "source": [
    "len([w for w in wordlist if re.search('ed$',w)])"
   ]
  },
  {
   "cell_type": "code",
   "execution_count": 252,
   "metadata": {},
   "outputs": [
    {
     "data": {
      "text/plain": [
       "14144"
      ]
     },
     "execution_count": 252,
     "metadata": {},
     "output_type": "execute_result"
    }
   ],
   "source": [
    "len([w for w in wordlist if re.search('ed',w)])"
   ]
  },
  {
   "cell_type": "code",
   "execution_count": 267,
   "metadata": {},
   "outputs": [
    {
     "data": {
      "text/plain": [
       "['antieducation',\n",
       " 'autoeducation',\n",
       " 'coeducation',\n",
       " 'education',\n",
       " 'fucation',\n",
       " 'ineducation',\n",
       " 'interlucation',\n",
       " 'maleducation',\n",
       " 'manducation',\n",
       " 'miseducation']"
      ]
     },
     "execution_count": 267,
     "metadata": {},
     "output_type": "execute_result"
    }
   ],
   "source": [
    "[w for w in wordlist if re.search('ucation$',w)][:10]"
   ]
  },
  {
   "cell_type": "code",
   "execution_count": 293,
   "metadata": {},
   "outputs": [
    {
     "data": {
      "text/plain": [
       "['education']"
      ]
     },
     "execution_count": 293,
     "metadata": {},
     "output_type": "execute_result"
    }
   ],
   "source": [
    "[w for w in wordlist if w=='education']"
   ]
  },
  {
   "cell_type": "markdown",
   "metadata": {},
   "source": [
    "Here in the below section, ^ is used to find all strings that is starting\n",
    "with particular digit. the term -> . is used to escape any character in \n",
    "between. $ is used to terminate the character search"
   ]
  },
  {
   "cell_type": "code",
   "execution_count": 280,
   "metadata": {},
   "outputs": [
    {
     "data": {
      "text/plain": [
       "['abjectly',\n",
       " 'adjuster',\n",
       " 'dejected',\n",
       " 'dejectly',\n",
       " 'injector',\n",
       " 'majestic',\n",
       " 'objectee',\n",
       " 'objector',\n",
       " 'rejecter',\n",
       " 'rejector',\n",
       " 'unjilted',\n",
       " 'unjolted',\n",
       " 'unjustly']"
      ]
     },
     "execution_count": 280,
     "metadata": {},
     "output_type": "execute_result"
    }
   ],
   "source": [
    "[w for w in wordlist if re.search('^..j..t..$',w)]"
   ]
  },
  {
   "cell_type": "code",
   "execution_count": 281,
   "metadata": {},
   "outputs": [
    {
     "data": {
      "text/plain": [
       "['abjectly', 'adjuster']"
      ]
     },
     "execution_count": 281,
     "metadata": {},
     "output_type": "execute_result"
    }
   ],
   "source": [
    "[w for w in wordlist if re.search('^a.j..t..$',w)]"
   ]
  },
  {
   "cell_type": "code",
   "execution_count": 283,
   "metadata": {},
   "outputs": [
    {
     "data": {
      "text/plain": [
       "['honeymoon']"
      ]
     },
     "execution_count": 283,
     "metadata": {},
     "output_type": "execute_result"
    }
   ],
   "source": [
    "[w for w in wordlist if re.search('^h...y...n$',w)]"
   ]
  },
  {
   "cell_type": "code",
   "execution_count": 290,
   "metadata": {},
   "outputs": [
    {
     "data": {
      "text/plain": [
       "['easel',\n",
       " 'ectal',\n",
       " 'enoil',\n",
       " 'enrol',\n",
       " 'ental',\n",
       " 'equal',\n",
       " 'ergal',\n",
       " 'ethal',\n",
       " 'ethel',\n",
       " 'ethyl',\n",
       " 'eusol',\n",
       " 'excel',\n",
       " 'expel',\n",
       " 'extol']"
      ]
     },
     "execution_count": 290,
     "metadata": {},
     "output_type": "execute_result"
    }
   ],
   "source": [
    "[w for w in wordlist if re.search('^e...l$',w)]"
   ]
  },
  {
   "cell_type": "code",
   "execution_count": 299,
   "metadata": {},
   "outputs": [
    {
     "data": {
      "text/plain": [
       "['gale',\n",
       " 'gold',\n",
       " 'golf',\n",
       " 'haje',\n",
       " 'hake',\n",
       " 'hale',\n",
       " 'half',\n",
       " 'hold',\n",
       " 'hole',\n",
       " 'wake',\n",
       " 'wakf',\n",
       " 'wale',\n",
       " 'walk',\n",
       " 'woke',\n",
       " 'wold',\n",
       " 'wolf']"
      ]
     },
     "execution_count": 299,
     "metadata": {},
     "output_type": "execute_result"
    }
   ],
   "source": [
    "[w for w in wordlist if re.search('^[ghiw][mnoa][jlk][defk]$', w)]"
   ]
  },
  {
   "cell_type": "markdown",
   "metadata": {},
   "source": [
    "The first part of the expression, «^[ghi]», matches the start of a word followed by g,\n",
    "h, or i. The next part of the expression, «[mno]», constrains the second character to be m,\n",
    "n, or o. The third and fourth characters are also constrained. Only four words satisfy\n",
    " all these constraints."
   ]
  },
  {
   "cell_type": "code",
   "execution_count": 300,
   "metadata": {},
   "outputs": [],
   "source": [
    "chat_words=sorted(set(w for w in nltk.corpus.nps_chat.words()))"
   ]
  },
  {
   "cell_type": "code",
   "execution_count": 302,
   "metadata": {},
   "outputs": [
    {
     "data": {
      "text/plain": [
       "['',\n",
       " '!',\n",
       " '!!',\n",
       " '!!!',\n",
       " '!!!!',\n",
       " '!!!!!',\n",
       " '!!!!!!',\n",
       " '!!!!!!!',\n",
       " '!!!!!!!!',\n",
       " '!!!!!!!!!']"
      ]
     },
     "execution_count": 302,
     "metadata": {},
     "output_type": "execute_result"
    }
   ],
   "source": [
    "chat_words[:10]"
   ]
  },
  {
   "cell_type": "code",
   "execution_count": 309,
   "metadata": {},
   "outputs": [
    {
     "data": {
      "text/plain": [
       "['miiiiiiiiiiiiinnnnnnnnnnneeeeeeeeee',\n",
       " 'miiiiiinnnnnnnnnneeeeeeee',\n",
       " 'mine',\n",
       " 'mmmmmmmmiiiiiiiiinnnnnnnnneeeeeeee']"
      ]
     },
     "execution_count": 309,
     "metadata": {},
     "output_type": "execute_result"
    }
   ],
   "source": [
    "[w for w in chat_words if re.search('^m+i+n+e+$',w)]"
   ]
  },
  {
   "cell_type": "code",
   "execution_count": 310,
   "metadata": {},
   "outputs": [
    {
     "data": {
      "text/plain": [
       "['a',\n",
       " 'aaaaaaaaaaaaaaaaa',\n",
       " 'aaahhhh',\n",
       " 'ah',\n",
       " 'ahah',\n",
       " 'ahahah',\n",
       " 'ahh',\n",
       " 'ahhahahaha',\n",
       " 'ahhh',\n",
       " 'ahhhh',\n",
       " 'ahhhhhh',\n",
       " 'ahhhhhhhhhhhhhh',\n",
       " 'h',\n",
       " 'ha',\n",
       " 'haaa',\n",
       " 'hah',\n",
       " 'haha',\n",
       " 'hahaaa',\n",
       " 'hahah',\n",
       " 'hahaha',\n",
       " 'hahahaa',\n",
       " 'hahahah',\n",
       " 'hahahaha',\n",
       " 'hahahahaaa',\n",
       " 'hahahahahaha',\n",
       " 'hahahahahahaha',\n",
       " 'hahahahahahahahahahahahahahahaha',\n",
       " 'hahahhahah',\n",
       " 'hahhahahaha']"
      ]
     },
     "execution_count": 310,
     "metadata": {},
     "output_type": "execute_result"
    }
   ],
   "source": [
    "[w for w in chat_words if re.search('^[ha]+$',w)]"
   ]
  },
  {
   "cell_type": "markdown",
   "metadata": {},
   "source": [
    "+ \"+\" gives all the occurances of particular character "
   ]
  },
  {
   "cell_type": "code",
   "execution_count": 312,
   "metadata": {},
   "outputs": [
    {
     "data": {
      "text/plain": [
       "['',\n",
       " 'a',\n",
       " 'aaaaaaaaaaaaaaaaa',\n",
       " 'al',\n",
       " 'all',\n",
       " 'k',\n",
       " 'l',\n",
       " 'll',\n",
       " 'w',\n",
       " 'wa',\n",
       " 'waaa',\n",
       " 'walk',\n",
       " 'wall']"
      ]
     },
     "execution_count": 312,
     "metadata": {},
     "output_type": "execute_result"
    }
   ],
   "source": [
    "[w for w in chat_words if re.search('^w*a*l*k*$',w)]"
   ]
  },
  {
   "cell_type": "code",
   "execution_count": 313,
   "metadata": {},
   "outputs": [
    {
     "data": {
      "text/plain": [
       "['walk']"
      ]
     },
     "execution_count": 313,
     "metadata": {},
     "output_type": "execute_result"
    }
   ],
   "source": [
    "[w for w in chat_words if re.search('^w+a+l+k+$',w)]"
   ]
  },
  {
   "cell_type": "code",
   "execution_count": 314,
   "metadata": {},
   "outputs": [],
   "source": [
    "wsj=sorted(set(nltk.corpus.treebank.words()))"
   ]
  },
  {
   "cell_type": "code",
   "execution_count": 316,
   "metadata": {},
   "outputs": [
    {
     "data": {
      "text/plain": [
       "[\"'80s\", \"'82\", \"'86\", \"'S\", \"'d\", \"'ll\", \"'m\", \"'re\", \"'s\", \"'ve\"]"
      ]
     },
     "execution_count": 316,
     "metadata": {},
     "output_type": "execute_result"
    }
   ],
   "source": [
    "wsj[10:20]"
   ]
  },
  {
   "cell_type": "code",
   "execution_count": 331,
   "metadata": {},
   "outputs": [
    {
     "data": {
      "text/plain": [
       "['C$', 'US$']"
      ]
     },
     "execution_count": 331,
     "metadata": {},
     "output_type": "execute_result"
    }
   ],
   "source": [
    "[w for w in wsj if re.search('^[A-Z]+\\$',w)]"
   ]
  },
  {
   "cell_type": "code",
   "execution_count": 340,
   "metadata": {},
   "outputs": [
    {
     "data": {
      "text/plain": [
       "['0.0085', '0.05', '0.1', '0.16', '0.2', '0.25', '0.28', '0.3', '0.4', '0.5']"
      ]
     },
     "execution_count": 340,
     "metadata": {},
     "output_type": "execute_result"
    }
   ],
   "source": [
    "[w for w in wsj if re.search('^[0-9]+\\.[0-9]+$',w)][:10]"
   ]
  },
  {
   "cell_type": "code",
   "execution_count": 346,
   "metadata": {},
   "outputs": [
    {
     "data": {
      "text/plain": [
       "['100', '101', '102', '103', '105', '106', '107', '108', '110', '111']"
      ]
     },
     "execution_count": 346,
     "metadata": {},
     "output_type": "execute_result"
    }
   ],
   "source": [
    "[w for w in wsj if re.search('^[0-9]{3}$', w)][:10]"
   ]
  },
  {
   "cell_type": "code",
   "execution_count": 347,
   "metadata": {},
   "outputs": [
    {
     "data": {
      "text/plain": [
       "['1614',\n",
       " '1637',\n",
       " '1787',\n",
       " '1901',\n",
       " '1903',\n",
       " '1917',\n",
       " '1925',\n",
       " '1929',\n",
       " '1933',\n",
       " '1934']"
      ]
     },
     "execution_count": 347,
     "metadata": {},
     "output_type": "execute_result"
    }
   ],
   "source": [
    "[w for w in wsj if re.search('^[0-9]{4}$', w)][:10]"
   ]
  },
  {
   "cell_type": "markdown",
   "metadata": {},
   "source": [
    "The above curly brace gives number of digits to be specified for given \n",
    "regular expression"
   ]
  },
  {
   "cell_type": "code",
   "execution_count": 359,
   "metadata": {},
   "outputs": [
    {
     "data": {
      "text/plain": [
       "['10-day',\n",
       " '10-lap',\n",
       " '10-year',\n",
       " '12-year',\n",
       " '14-hour',\n",
       " '15-day',\n",
       " '237-seat',\n",
       " '240-page',\n",
       " '27-year',\n",
       " '30-day',\n",
       " '30-year',\n",
       " '300-day',\n",
       " '36-day',\n",
       " '42-year',\n",
       " '52-week',\n",
       " '90-day']"
      ]
     },
     "execution_count": 359,
     "metadata": {},
     "output_type": "execute_result"
    }
   ],
   "source": [
    "[w for w in wsj if re.search('^[0-9]+-[a-z]{3,4}$', w)]"
   ]
  },
  {
   "cell_type": "code",
   "execution_count": 360,
   "metadata": {},
   "outputs": [
    {
     "data": {
      "text/plain": [
       "['black-and-white',\n",
       " 'bread-and-butter',\n",
       " 'father-in-law',\n",
       " 'machine-gun-toting',\n",
       " 'savings-and-loan']"
      ]
     },
     "execution_count": 360,
     "metadata": {},
     "output_type": "execute_result"
    }
   ],
   "source": [
    "[w for w in wsj if re.search('^[a-z]{5,}-[a-z]{2,3}-[a-z]{,6}$', w)]"
   ]
  },
  {
   "cell_type": "code",
   "execution_count": 363,
   "metadata": {
    "scrolled": true
   },
   "outputs": [
    {
     "data": {
      "text/plain": [
       "['edged',\n",
       " 'editing',\n",
       " 'edition',\n",
       " 'editions',\n",
       " 'editor',\n",
       " 'editorial',\n",
       " 'editorially',\n",
       " 'editors',\n",
       " 'educated',\n",
       " 'education',\n",
       " 'educational',\n",
       " 'educators',\n",
       " 'ingenuity',\n",
       " 'ingredients']"
      ]
     },
     "execution_count": 363,
     "metadata": {},
     "output_type": "execute_result"
    }
   ],
   "source": [
    "[w for w in wsj if re.search('^(ed|ing)', w)]"
   ]
  },
  {
   "cell_type": "code",
   "execution_count": 364,
   "metadata": {},
   "outputs": [
    {
     "data": {
      "text/plain": [
       "['62%-owned',\n",
       " 'Absorbed',\n",
       " 'According',\n",
       " 'Adopting',\n",
       " 'Advanced',\n",
       " 'Advancing',\n",
       " 'Alfred',\n",
       " 'Allied',\n",
       " 'Annualized',\n",
       " 'Anything',\n",
       " 'Arbitrage-related',\n",
       " 'Arbitraging',\n",
       " 'Asked',\n",
       " 'Assuming',\n",
       " 'Atlanta-based',\n",
       " 'Baking',\n",
       " 'Banking',\n",
       " 'Beginning',\n",
       " 'Beijing',\n",
       " 'Being',\n",
       " 'Bermuda-based',\n",
       " 'Betting',\n",
       " 'Boeing',\n",
       " 'Broadcasting',\n",
       " 'Bucking',\n",
       " 'Buying',\n",
       " 'Calif.-based',\n",
       " 'Change-ringing',\n",
       " 'Citing',\n",
       " 'Concerned',\n",
       " 'Confronted',\n",
       " 'Conn.based',\n",
       " 'Consolidated',\n",
       " 'Continued',\n",
       " 'Continuing',\n",
       " 'Declining',\n",
       " 'Defending',\n",
       " 'Depending',\n",
       " 'Designated',\n",
       " 'Determining',\n",
       " 'Developed',\n",
       " 'Died',\n",
       " 'During',\n",
       " 'Encouraged',\n",
       " 'Encouraging',\n",
       " 'English-speaking',\n",
       " 'Estimated',\n",
       " 'Everything',\n",
       " 'Excluding',\n",
       " 'Exxon-owned',\n",
       " 'Faulding',\n",
       " 'Fed',\n",
       " 'Feeding',\n",
       " 'Filling',\n",
       " 'Filmed',\n",
       " 'Financing',\n",
       " 'Following',\n",
       " 'Founded',\n",
       " 'Fracturing',\n",
       " 'Francisco-based',\n",
       " 'Fred',\n",
       " 'Funded',\n",
       " 'Funding',\n",
       " 'Generalized',\n",
       " 'Germany-based',\n",
       " 'Getting',\n",
       " 'Guaranteed',\n",
       " 'Having',\n",
       " 'Heating',\n",
       " 'Heightened',\n",
       " 'Holding',\n",
       " 'Housing',\n",
       " 'Illuminating',\n",
       " 'Indeed',\n",
       " 'Indexing',\n",
       " 'Irving',\n",
       " 'Jersey-based',\n",
       " 'Judging',\n",
       " 'Knowing',\n",
       " 'Learning',\n",
       " 'Legislating',\n",
       " 'Leming',\n",
       " 'Limited',\n",
       " 'London-based',\n",
       " 'Manfred',\n",
       " 'Manufacturing',\n",
       " 'Melamed',\n",
       " 'Miami-based',\n",
       " 'Mich.-based',\n",
       " 'Mining',\n",
       " 'Minneapolis-based',\n",
       " 'Mo.-based',\n",
       " 'Mortgage-Backed',\n",
       " 'Moving',\n",
       " 'Muzzling',\n",
       " 'N.J.-based',\n",
       " 'NBC-owned',\n",
       " 'NIH-appointed',\n",
       " 'Named',\n",
       " 'No-Smoking',\n",
       " 'Observing',\n",
       " 'Offering',\n",
       " 'Ohio-based',\n",
       " 'Orleans-based',\n",
       " 'Packaging',\n",
       " 'Performing',\n",
       " 'Philadelphia-based',\n",
       " 'Posted',\n",
       " 'Provided',\n",
       " 'Publishing',\n",
       " 'Purchasing',\n",
       " 'Rated',\n",
       " 'Reached',\n",
       " 'Red',\n",
       " 'Red-blooded',\n",
       " 'Reducing',\n",
       " 'Reed',\n",
       " 'Regarded',\n",
       " 'Rekindled',\n",
       " 'Related',\n",
       " 'Ringing',\n",
       " 'Rolling',\n",
       " 'Sacramento-based',\n",
       " 'Scoring',\n",
       " 'Seattle-based',\n",
       " 'Seed',\n",
       " 'Skilled',\n",
       " 'Smelting',\n",
       " 'Something',\n",
       " 'Spending',\n",
       " 'Standardized',\n",
       " 'Standing',\n",
       " 'Starting',\n",
       " 'Sterling',\n",
       " 'Taking',\n",
       " 'Texas-based',\n",
       " 'Toronto-based',\n",
       " 'Traded',\n",
       " 'Trading',\n",
       " 'Troubled',\n",
       " 'U.N.-supervised',\n",
       " 'U.S.-backed',\n",
       " 'United',\n",
       " 'Used',\n",
       " 'Varying',\n",
       " 'Washington-based',\n",
       " 'Whiting',\n",
       " 'Wilfred',\n",
       " 'Winning',\n",
       " 'Xiaoping',\n",
       " 'York-based',\n",
       " 'Zayed',\n",
       " 'abandoned',\n",
       " 'abating',\n",
       " 'abolishing',\n",
       " 'abortion-related',\n",
       " 'abounding',\n",
       " 'abridging',\n",
       " 'absorbed',\n",
       " 'acceded',\n",
       " 'accelerated',\n",
       " 'accepted',\n",
       " 'accepting',\n",
       " 'according',\n",
       " 'accounted',\n",
       " 'accounting',\n",
       " 'accrued',\n",
       " 'accumulated',\n",
       " 'accused',\n",
       " 'accusing',\n",
       " 'achieved',\n",
       " 'achieving',\n",
       " 'acknowledging',\n",
       " 'acquired',\n",
       " 'acquiring',\n",
       " 'acquisition-minded',\n",
       " 'acted',\n",
       " 'acting',\n",
       " 'adapted',\n",
       " 'adapting',\n",
       " 'added',\n",
       " 'adding',\n",
       " 'addressing',\n",
       " 'adjusted',\n",
       " 'adjusting',\n",
       " 'admitted',\n",
       " 'admitting',\n",
       " 'adopted',\n",
       " 'advanced',\n",
       " 'advancing',\n",
       " 'advertised',\n",
       " 'advertising',\n",
       " 'advised',\n",
       " 'advocated',\n",
       " 'advocating',\n",
       " 'affecting',\n",
       " 'afflicted',\n",
       " 'aggravated',\n",
       " 'agreed',\n",
       " 'agreeing',\n",
       " 'ailing',\n",
       " 'aimed',\n",
       " 'aiming',\n",
       " 'aired',\n",
       " 'airline-related',\n",
       " 'alarmed',\n",
       " 'alienated',\n",
       " 'alleged',\n",
       " 'alleging',\n",
       " 'allocated',\n",
       " 'allowed',\n",
       " 'altered',\n",
       " 'altering',\n",
       " 'amended',\n",
       " 'amending',\n",
       " 'amounted',\n",
       " 'amusing',\n",
       " 'angered',\n",
       " 'announced',\n",
       " 'annoyed',\n",
       " 'annualized',\n",
       " 'answered',\n",
       " 'anti-dumping',\n",
       " 'anticipated',\n",
       " 'anticipating',\n",
       " 'anything',\n",
       " 'apologizing',\n",
       " 'appealing',\n",
       " 'appeared',\n",
       " 'appearing',\n",
       " 'applied',\n",
       " 'appointed',\n",
       " 'approached',\n",
       " 'appropriated',\n",
       " 'approved',\n",
       " 'arched',\n",
       " 'argued',\n",
       " 'arguing',\n",
       " 'arising',\n",
       " 'armed',\n",
       " 'arranged',\n",
       " 'arrested',\n",
       " 'arrived',\n",
       " 'asbestos-related',\n",
       " 'asked',\n",
       " 'asking',\n",
       " 'assassinated',\n",
       " 'assembled',\n",
       " 'asserted',\n",
       " 'asserting',\n",
       " 'assessed',\n",
       " 'assigned',\n",
       " 'assisted',\n",
       " 'associated',\n",
       " 'assumed',\n",
       " 'assuming',\n",
       " 'assured',\n",
       " 'attached',\n",
       " 'attacking',\n",
       " 'attempted',\n",
       " 'attempting',\n",
       " 'attended',\n",
       " 'attending',\n",
       " 'attracted',\n",
       " 'attracting',\n",
       " 'attributed',\n",
       " 'auctioned',\n",
       " 'authorized',\n",
       " 'authorizing',\n",
       " 'automated',\n",
       " 'automotive-lighting',\n",
       " 'averaged',\n",
       " 'averted',\n",
       " 'avoiding',\n",
       " 'awarded',\n",
       " 'awarding',\n",
       " 'backed',\n",
       " 'backing',\n",
       " 'balanced',\n",
       " 'bald-faced',\n",
       " 'balkanized',\n",
       " 'balked',\n",
       " 'balloting',\n",
       " 'bank-backed',\n",
       " 'banking',\n",
       " 'banned',\n",
       " 'banning',\n",
       " 'barking',\n",
       " 'barred',\n",
       " 'based',\n",
       " 'battered',\n",
       " 'battery-operated',\n",
       " 'batting',\n",
       " 'bearing',\n",
       " 'becoming',\n",
       " 'bedding',\n",
       " 'befuddled',\n",
       " 'beginning',\n",
       " 'behaving',\n",
       " 'beheading',\n",
       " 'being',\n",
       " 'beleaguered',\n",
       " 'believed',\n",
       " 'bell-ringing',\n",
       " 'belonging',\n",
       " 'benefited',\n",
       " 'best-selling',\n",
       " 'betting',\n",
       " 'bickering',\n",
       " 'bidding',\n",
       " 'billed',\n",
       " 'billing',\n",
       " 'blamed',\n",
       " 'bled',\n",
       " 'blessing',\n",
       " 'blighted',\n",
       " 'blocked',\n",
       " 'blurred',\n",
       " 'boarding',\n",
       " 'bolstered',\n",
       " 'bombarding',\n",
       " 'booked',\n",
       " 'booming',\n",
       " 'boosted',\n",
       " 'boosting',\n",
       " 'borrowed',\n",
       " 'borrowing',\n",
       " 'botched',\n",
       " 'bothered',\n",
       " 'bounced',\n",
       " 'bowed',\n",
       " 'breaking',\n",
       " 'breathed',\n",
       " 'breathtaking',\n",
       " 'breed',\n",
       " 'bribed',\n",
       " 'bribing',\n",
       " 'briefing',\n",
       " 'brightened',\n",
       " 'bring',\n",
       " 'bringing',\n",
       " 'broad-based',\n",
       " 'broadcasting',\n",
       " 'broadened',\n",
       " 'brokering',\n",
       " 'brushed',\n",
       " 'budding',\n",
       " 'building',\n",
       " 'bundling',\n",
       " 'buoyed',\n",
       " 'burned',\n",
       " 'buying',\n",
       " 'calculated',\n",
       " 'called',\n",
       " 'calling',\n",
       " 'campaigning',\n",
       " 'cancer-causing',\n",
       " 'capitalized',\n",
       " 'capped',\n",
       " 'captivating',\n",
       " 'cared',\n",
       " 'carried',\n",
       " 'carrying',\n",
       " 'cascading',\n",
       " 'casting',\n",
       " 'caused',\n",
       " 'causing',\n",
       " 'cautioned',\n",
       " 'ceiling',\n",
       " 'centralized',\n",
       " 'certified',\n",
       " 'chaired',\n",
       " 'challenging',\n",
       " 'championing',\n",
       " 'change-ringing',\n",
       " 'changed',\n",
       " 'changing',\n",
       " 'characterized',\n",
       " 'characterizing',\n",
       " 'charged',\n",
       " 'charging',\n",
       " 'chastised',\n",
       " 'cheating',\n",
       " 'checking',\n",
       " 'cheerleading',\n",
       " 'chilled',\n",
       " 'choosing',\n",
       " 'chopped',\n",
       " 'circulated',\n",
       " 'cited',\n",
       " 'citing',\n",
       " 'citizen-sparked',\n",
       " 'city-owned',\n",
       " 'claimed',\n",
       " 'claiming',\n",
       " 'clamped',\n",
       " 'clarified',\n",
       " 'clashed',\n",
       " 'classed',\n",
       " 'classified',\n",
       " 'cleaned',\n",
       " 'cleaner-burning',\n",
       " 'cleared',\n",
       " 'clearing',\n",
       " 'clicked',\n",
       " 'climbed',\n",
       " 'climbing',\n",
       " 'clipped',\n",
       " 'clobbered',\n",
       " 'closed',\n",
       " 'closing',\n",
       " 'clothing',\n",
       " 'clouding',\n",
       " 'cluttered',\n",
       " 'co-founded',\n",
       " 'coaching',\n",
       " 'coal-fired',\n",
       " 'coated',\n",
       " 'codified',\n",
       " 'collaborated',\n",
       " 'collapsed',\n",
       " 'collected',\n",
       " 'collecting',\n",
       " 'collective-bargaining',\n",
       " 'colored',\n",
       " 'combined',\n",
       " 'coming',\n",
       " 'commanded',\n",
       " 'commenting',\n",
       " 'committed',\n",
       " 'committing',\n",
       " 'compared',\n",
       " 'compelling',\n",
       " 'competed',\n",
       " 'competing',\n",
       " 'compiled',\n",
       " 'complained',\n",
       " 'complaining',\n",
       " 'completed',\n",
       " 'completing',\n",
       " 'complicated',\n",
       " 'composed',\n",
       " 'composting',\n",
       " 'compressed',\n",
       " 'computer-aided',\n",
       " 'computer-assisted',\n",
       " 'computer-generated',\n",
       " 'computerized',\n",
       " 'computing',\n",
       " 'conceding',\n",
       " 'concentrated',\n",
       " 'concentrating',\n",
       " 'concerned',\n",
       " 'concluded',\n",
       " 'condemned',\n",
       " 'condemning',\n",
       " 'conducted',\n",
       " 'conducting',\n",
       " 'confined',\n",
       " 'confirmed',\n",
       " 'confused',\n",
       " 'connected',\n",
       " 'consented',\n",
       " 'considered',\n",
       " 'considering',\n",
       " 'consisting',\n",
       " 'construed',\n",
       " 'consulting',\n",
       " 'contacted',\n",
       " 'contained',\n",
       " 'containing',\n",
       " 'contesting',\n",
       " 'continued',\n",
       " 'continuing',\n",
       " 'contracted',\n",
       " 'contributed',\n",
       " 'contributing',\n",
       " 'controlled',\n",
       " 'controlling',\n",
       " 'converted',\n",
       " 'converting',\n",
       " 'convicted',\n",
       " 'convinced',\n",
       " 'cooled',\n",
       " 'cooperating',\n",
       " 'copied',\n",
       " 'copying',\n",
       " 'corn-buying',\n",
       " 'corrected',\n",
       " 'correcting',\n",
       " 'cost-cutting',\n",
       " 'cost-sharing',\n",
       " 'counseling',\n",
       " 'counting',\n",
       " 'coupled',\n",
       " 'court-ordered',\n",
       " 'covered',\n",
       " 'covering',\n",
       " 'cranked',\n",
       " 'crashing',\n",
       " 'created',\n",
       " 'creating',\n",
       " 'credit-rating',\n",
       " 'crippled',\n",
       " 'criticized',\n",
       " 'crossed',\n",
       " 'crossing',\n",
       " 'crowded',\n",
       " 'cruising',\n",
       " 'crushed',\n",
       " 'crying',\n",
       " 'cultivated',\n",
       " 'curbed',\n",
       " 'curbing',\n",
       " 'curled',\n",
       " 'current-carrying',\n",
       " 'curtailed',\n",
       " 'cushioned',\n",
       " 'customized',\n",
       " 'cutting',\n",
       " 'damaged',\n",
       " 'damaging',\n",
       " 'dancing',\n",
       " 'darned',\n",
       " 'dashed',\n",
       " 'dating',\n",
       " 'dead-eyed',\n",
       " 'dealing',\n",
       " 'decided',\n",
       " 'declared',\n",
       " 'declaring',\n",
       " 'declined',\n",
       " 'declining',\n",
       " 'decorated',\n",
       " 'decried',\n",
       " 'deducting',\n",
       " 'deemed',\n",
       " 'defeated',\n",
       " 'defended',\n",
       " 'defined',\n",
       " 'defying',\n",
       " 'delayed',\n",
       " 'deliberating',\n",
       " 'delisted',\n",
       " 'delivered',\n",
       " 'delivering',\n",
       " 'demanding',\n",
       " 'demonstrating',\n",
       " 'denied',\n",
       " 'denouncing',\n",
       " 'denying',\n",
       " 'depended',\n",
       " 'depending',\n",
       " 'depleted',\n",
       " 'depressed',\n",
       " 'deprived',\n",
       " 'derived',\n",
       " 'descending',\n",
       " 'described',\n",
       " 'deserving',\n",
       " 'designated',\n",
       " 'designed',\n",
       " 'designing',\n",
       " 'desired',\n",
       " 'despised',\n",
       " 'detailed',\n",
       " 'deteriorated',\n",
       " 'deteriorating',\n",
       " 'determined',\n",
       " 'deterring',\n",
       " 'devastating',\n",
       " 'developed',\n",
       " 'developing',\n",
       " 'devised',\n",
       " 'devoted',\n",
       " 'devouring',\n",
       " 'diagnosed',\n",
       " 'died',\n",
       " 'diluted',\n",
       " 'diming',\n",
       " 'diminished',\n",
       " 'directed',\n",
       " 'directing',\n",
       " 'disaffected',\n",
       " 'disagreed',\n",
       " 'disappointed',\n",
       " 'disappointing',\n",
       " 'disapproved',\n",
       " 'discarded',\n",
       " 'disciplined',\n",
       " 'disclosed',\n",
       " 'disclosing',\n",
       " 'discontinued',\n",
       " 'discontinuing',\n",
       " 'discouraging',\n",
       " 'discovered',\n",
       " 'discussed',\n",
       " 'discussing',\n",
       " 'disembodied',\n",
       " 'dismayed',\n",
       " 'dismissed',\n",
       " 'disposed',\n",
       " 'disputed',\n",
       " 'disseminating',\n",
       " 'distinguished',\n",
       " 'distorted',\n",
       " 'distributed',\n",
       " 'disturbing',\n",
       " 'diversified',\n",
       " 'diversifying',\n",
       " 'divided',\n",
       " 'dividing',\n",
       " 'documented',\n",
       " 'doing',\n",
       " 'doling',\n",
       " 'dollar-denominated',\n",
       " 'dominated',\n",
       " 'dominating',\n",
       " 'doubled',\n",
       " 'doubted',\n",
       " 'downgraded',\n",
       " 'downgrading',\n",
       " 'drafted',\n",
       " 'drawing',\n",
       " 'dreamed',\n",
       " 'dressed',\n",
       " 'drifted',\n",
       " 'drinking',\n",
       " 'driving',\n",
       " 'drooled',\n",
       " 'dropped',\n",
       " 'dubbed',\n",
       " 'duckling',\n",
       " 'dumbfounded',\n",
       " 'dumped',\n",
       " 'during',\n",
       " 'dwindling',\n",
       " 'earned',\n",
       " 'earning',\n",
       " 'eased',\n",
       " 'easing',\n",
       " 'eating',\n",
       " 'echoed',\n",
       " 'edged',\n",
       " 'editing',\n",
       " 'educated',\n",
       " 'elected',\n",
       " 'eliminated',\n",
       " 'eliminating',\n",
       " 'embarrassing',\n",
       " 'embroiled',\n",
       " 'emerged',\n",
       " 'emerging',\n",
       " 'emphasized',\n",
       " 'employed',\n",
       " 'empowered',\n",
       " 'enabled',\n",
       " 'enabling',\n",
       " 'enacted',\n",
       " 'encircling',\n",
       " 'enclosed',\n",
       " 'encouraging',\n",
       " 'encroaching',\n",
       " 'ended',\n",
       " 'ending',\n",
       " 'endorsed',\n",
       " 'engaged',\n",
       " 'engaging',\n",
       " 'engineered',\n",
       " 'engineering',\n",
       " 'enhanced',\n",
       " 'enjoyed',\n",
       " 'enjoying',\n",
       " 'enlarged',\n",
       " 'enraged',\n",
       " 'ensnarled',\n",
       " 'entangled',\n",
       " 'entered',\n",
       " 'entering',\n",
       " 'entertaining',\n",
       " 'enticed',\n",
       " 'entitled',\n",
       " 'entrenched',\n",
       " 'entrusted',\n",
       " 'equaling',\n",
       " 'equipped',\n",
       " 'escalated',\n",
       " 'escaped',\n",
       " 'established',\n",
       " 'establishing',\n",
       " 'estimated',\n",
       " 'evaluated',\n",
       " 'evaluating',\n",
       " 'evaporated',\n",
       " 'evening',\n",
       " 'everything',\n",
       " 'evoking',\n",
       " 'evolved',\n",
       " 'exacerbated',\n",
       " 'examined',\n",
       " 'exceed',\n",
       " 'exceeded',\n",
       " 'exceeding',\n",
       " 'exchanging',\n",
       " 'excited',\n",
       " 'exciting',\n",
       " 'executed',\n",
       " 'executing',\n",
       " 'exercised',\n",
       " 'exerting',\n",
       " 'exhausted',\n",
       " 'exhibited',\n",
       " 'existed',\n",
       " 'existing',\n",
       " 'expanded',\n",
       " 'expanding',\n",
       " 'expected',\n",
       " 'expecting',\n",
       " 'expedited',\n",
       " 'expelled',\n",
       " 'experienced',\n",
       " 'experiencing',\n",
       " 'expired',\n",
       " 'explained',\n",
       " 'explaining',\n",
       " 'exploded',\n",
       " 'export-oriented',\n",
       " 'exposed',\n",
       " 'expressed',\n",
       " 'expressing',\n",
       " 'expunged',\n",
       " 'extended',\n",
       " 'extending',\n",
       " 'exuded',\n",
       " 'eyeing',\n",
       " 'fabled',\n",
       " 'faced',\n",
       " 'facing',\n",
       " 'factoring',\n",
       " 'faded',\n",
       " 'failed',\n",
       " 'failing',\n",
       " 'fainting',\n",
       " 'falling',\n",
       " 'faltered',\n",
       " 'famed',\n",
       " 'family-planning',\n",
       " 'fared',\n",
       " 'fashioned',\n",
       " 'fast-growing',\n",
       " 'fastest-growing',\n",
       " 'fattened',\n",
       " 'favored',\n",
       " 'fawning',\n",
       " 'feared',\n",
       " 'featured',\n",
       " 'featuring',\n",
       " 'fed',\n",
       " 'feed',\n",
       " 'feeling',\n",
       " 'fetching',\n",
       " 'fielded',\n",
       " 'fighting',\n",
       " 'filed',\n",
       " 'filing',\n",
       " 'filled',\n",
       " 'filling',\n",
       " 'finalized',\n",
       " 'financed',\n",
       " 'financing',\n",
       " 'finding',\n",
       " 'fined',\n",
       " 'finished',\n",
       " 'fired',\n",
       " 'firmed',\n",
       " 'fixed',\n",
       " 'fizzled',\n",
       " 'fled',\n",
       " 'fledgling',\n",
       " 'fleeting',\n",
       " 'flirted',\n",
       " 'floated',\n",
       " 'flooded',\n",
       " 'focused',\n",
       " 'focusing',\n",
       " 'folded',\n",
       " 'followed',\n",
       " 'following',\n",
       " 'forced',\n",
       " 'forcing',\n",
       " 'forecasting',\n",
       " 'foreign-led',\n",
       " 'formed',\n",
       " 'forthcoming',\n",
       " 'founded',\n",
       " 'foundering',\n",
       " 'fretted',\n",
       " 'frightened',\n",
       " 'frustrating',\n",
       " 'fueled',\n",
       " 'fueling',\n",
       " 'full-fledged',\n",
       " 'fuming',\n",
       " 'functioning',\n",
       " 'funded',\n",
       " 'funding',\n",
       " 'fundraising',\n",
       " 'futures-related',\n",
       " 'gained',\n",
       " 'gaining',\n",
       " 'galling',\n",
       " 'galvanized',\n",
       " 'gambling',\n",
       " 'gauging',\n",
       " 'generated',\n",
       " 'getting',\n",
       " 'giving',\n",
       " 'going',\n",
       " 'good-hearted',\n",
       " 'good-natured',\n",
       " 'gored',\n",
       " 'government-certified',\n",
       " 'government-funded',\n",
       " 'government-owned',\n",
       " 'graduated',\n",
       " 'granted',\n",
       " 'granting',\n",
       " 'greed',\n",
       " 'gripping',\n",
       " 'growing',\n",
       " 'guaranteed',\n",
       " 'guarding',\n",
       " 'guided',\n",
       " 'gut-wrenching',\n",
       " 'hailed',\n",
       " 'hailing',\n",
       " 'halted',\n",
       " 'hampered',\n",
       " 'handed',\n",
       " 'handled',\n",
       " 'handling',\n",
       " 'happened',\n",
       " 'happening',\n",
       " 'hard-charging',\n",
       " 'hard-drinking',\n",
       " 'hard-hitting',\n",
       " 'harmed',\n",
       " 'harped',\n",
       " 'harvested',\n",
       " 'hauled',\n",
       " 'hauling',\n",
       " 'having',\n",
       " 'headed',\n",
       " 'heading',\n",
       " 'headlined',\n",
       " 'healing',\n",
       " 'hearing',\n",
       " 'heated',\n",
       " 'heating',\n",
       " 'hedging',\n",
       " 'heightened',\n",
       " 'helped',\n",
       " 'helping',\n",
       " 'high-flying',\n",
       " 'high-minded',\n",
       " 'high-polluting',\n",
       " 'high-priced',\n",
       " 'high-rolling',\n",
       " 'high-speed',\n",
       " 'higher-salaried',\n",
       " 'highest-pitched',\n",
       " 'hired',\n",
       " 'hitting',\n",
       " 'holding',\n",
       " 'hoped',\n",
       " 'hosted',\n",
       " 'housing',\n",
       " 'hugging',\n",
       " 'hundred',\n",
       " 'hunted',\n",
       " 'hurting',\n",
       " 'identified',\n",
       " 'ignored',\n",
       " 'ignoring',\n",
       " 'impaired',\n",
       " 'impeding',\n",
       " 'impending',\n",
       " 'implemented',\n",
       " 'implied',\n",
       " 'imported',\n",
       " 'imposed',\n",
       " 'imposing',\n",
       " 'impressed',\n",
       " 'improved',\n",
       " 'improving',\n",
       " 'incentive-backed',\n",
       " 'inched',\n",
       " 'inching',\n",
       " 'included',\n",
       " 'including',\n",
       " 'incorporated',\n",
       " 'increased',\n",
       " 'increasing',\n",
       " 'incurred',\n",
       " 'indeed',\n",
       " 'index-related',\n",
       " 'indicated',\n",
       " 'indicating',\n",
       " 'indulging',\n",
       " 'industrialized',\n",
       " 'industry-supported',\n",
       " 'inflated',\n",
       " 'influenced',\n",
       " 'influencing',\n",
       " 'infringed',\n",
       " 'inherited',\n",
       " 'initialing',\n",
       " 'initiated',\n",
       " 'initiating',\n",
       " 'injecting',\n",
       " 'injuring',\n",
       " 'inkling',\n",
       " 'inquiring',\n",
       " 'inserted',\n",
       " 'insider-trading',\n",
       " 'insinuating',\n",
       " 'insisted',\n",
       " 'inspired',\n",
       " 'installed',\n",
       " 'installing',\n",
       " 'instituted',\n",
       " 'instructed',\n",
       " 'insured',\n",
       " 'integrated',\n",
       " 'intended',\n",
       " 'intentioned',\n",
       " 'interest-bearing',\n",
       " 'interested',\n",
       " 'interesting',\n",
       " 'interrogated',\n",
       " 'interviewed',\n",
       " 'intriguing',\n",
       " 'introduced',\n",
       " 'introducing',\n",
       " 'invented',\n",
       " 'inverted',\n",
       " 'invested',\n",
       " 'investigating',\n",
       " 'investing',\n",
       " 'inviting',\n",
       " 'involved',\n",
       " 'involving',\n",
       " 'issued',\n",
       " 'issuing',\n",
       " 'jeopardizing',\n",
       " 'joined',\n",
       " 'joining',\n",
       " 'judged',\n",
       " 'jumped',\n",
       " 'jumping',\n",
       " 'justified',\n",
       " 'justifying',\n",
       " 'keeping',\n",
       " 'kicked',\n",
       " 'kidnapping',\n",
       " 'killed',\n",
       " 'killing',\n",
       " 'knitted',\n",
       " 'knocked',\n",
       " 'labeled',\n",
       " 'labeling',\n",
       " 'labor-backed',\n",
       " 'lacked',\n",
       " 'lagging',\n",
       " 'land-idling',\n",
       " 'landing',\n",
       " 'lasted',\n",
       " 'lasting',\n",
       " 'lauded',\n",
       " 'laughing',\n",
       " 'launched',\n",
       " 'lawmaking',\n",
       " 'laying',\n",
       " 'leading',\n",
       " 'learned',\n",
       " 'learning',\n",
       " 'leasing',\n",
       " 'leaving',\n",
       " 'led',\n",
       " 'lending',\n",
       " 'lengthened',\n",
       " 'lessening',\n",
       " 'letter-writing',\n",
       " 'letting',\n",
       " 'leveling',\n",
       " 'leveraged',\n",
       " 'leveraging',\n",
       " 'licensed',\n",
       " 'licensing',\n",
       " 'lifted',\n",
       " ...]"
      ]
     },
     "execution_count": 364,
     "metadata": {},
     "output_type": "execute_result"
    }
   ],
   "source": [
    "[w for w in wsj if re.search('(ed|ing)$', w)]"
   ]
  },
  {
   "cell_type": "markdown",
   "metadata": {},
   "source": [
    ". Wildcard, matches any character\n",
    "\n",
    "^abc Matches some pattern abc at the start of a string\n",
    "\n",
    "abc$ Matches some pattern abc at the end of a string\n",
    "\n",
    "[abc] Matches one of a set of characters\n",
    "\n",
    "[A-Z0-9] Matches one of a range of characters\n",
    "\n",
    "ed|ing|s Matches one of the specified strings (disjunction)\n",
    "\n",
    "* Zero or more of previous item, e.g., a*, [a-z]* (also known as Kleene Closure)\n",
    "\n",
    "+ One or more of previous item, e.g., a+, [a-z]+\n",
    "\n",
    "? Zero or one of the previous item (i.e., optional), e.g., a?, [a-z]?\n",
    "\n",
    "{n} Exactly n repeats where n is a non-negative integer\n",
    "\n",
    "{n,} At least n repeats\n",
    "\n",
    "{,n} No more than n repeats\n",
    "\n",
    "{m,n} At least m and no more than n repeats\n",
    "\n",
    "a(b|c)+ Parentheses that indicate the scope of the operators"
   ]
  },
  {
   "cell_type": "code",
   "execution_count": 373,
   "metadata": {},
   "outputs": [
    {
     "data": {
      "text/plain": [
       "['u',\n",
       " 'e',\n",
       " 'a',\n",
       " 'i',\n",
       " 'a',\n",
       " 'i',\n",
       " 'i',\n",
       " 'i',\n",
       " 'e',\n",
       " 'i',\n",
       " 'a',\n",
       " 'i',\n",
       " 'o',\n",
       " 'i',\n",
       " 'o',\n",
       " 'u']"
      ]
     },
     "execution_count": 373,
     "metadata": {},
     "output_type": "execute_result"
    }
   ],
   "source": [
    "word='supercalifragilisticexpialidocious'\n",
    "vow=re.findall(r'[aeiou]',word)\n",
    "vow"
   ]
  },
  {
   "cell_type": "code",
   "execution_count": 374,
   "metadata": {},
   "outputs": [
    {
     "data": {
      "text/plain": [
       "16"
      ]
     },
     "execution_count": 374,
     "metadata": {},
     "output_type": "execute_result"
    }
   ],
   "source": [
    "len(vow)"
   ]
  },
  {
   "cell_type": "code",
   "execution_count": 375,
   "metadata": {},
   "outputs": [
    {
     "data": {
      "text/plain": [
       "['a', 'e', 'i', 'o', 'u']"
      ]
     },
     "execution_count": 375,
     "metadata": {},
     "output_type": "execute_result"
    }
   ],
   "source": [
    "sorted(set(vow))"
   ]
  },
  {
   "cell_type": "code",
   "execution_count": 376,
   "metadata": {},
   "outputs": [],
   "source": [
    "wsj = sorted(set(nltk.corpus.treebank.words()))"
   ]
  },
  {
   "cell_type": "code",
   "execution_count": 378,
   "metadata": {},
   "outputs": [],
   "source": [
    "fd=nltk.FreqDist(vs for word in wsj\n",
    "                    for vs in re.findall(r'[aeiou]{2,}',word))"
   ]
  },
  {
   "cell_type": "code",
   "execution_count": 379,
   "metadata": {},
   "outputs": [
    {
     "data": {
      "text/plain": [
       "FreqDist({'io': 549, 'ea': 476, 'ie': 331, 'ou': 329, 'ai': 261, 'ia': 253, 'ee': 217, 'oo': 174, 'ua': 109, 'au': 106, ...})"
      ]
     },
     "execution_count": 379,
     "metadata": {},
     "output_type": "execute_result"
    }
   ],
   "source": [
    "fd"
   ]
  },
  {
   "cell_type": "code",
   "execution_count": 381,
   "metadata": {},
   "outputs": [
    {
     "data": {
      "text/plain": [
       "43"
      ]
     },
     "execution_count": 381,
     "metadata": {},
     "output_type": "execute_result"
    }
   ],
   "source": [
    "len(fd.keys())"
   ]
  },
  {
   "cell_type": "code",
   "execution_count": 394,
   "metadata": {},
   "outputs": [],
   "source": [
    "fd=nltk.ConditionalFreqDist((word,vs) for word in wsj\n",
    "                    for vs in re.findall(r'[aeiou]{2}',word))"
   ]
  },
  {
   "cell_type": "code",
   "execution_count": 397,
   "metadata": {},
   "outputs": [
    {
     "data": {
      "text/plain": [
       "['10-year',\n",
       " '12-point',\n",
       " '12-year',\n",
       " '14-hour',\n",
       " '150-point',\n",
       " '17-year-old',\n",
       " '18-year-old',\n",
       " '190-point',\n",
       " '20-point',\n",
       " '237-seat',\n",
       " '238,000-circulation',\n",
       " '25-year-old',\n",
       " '27-year',\n",
       " '29year',\n",
       " '30-point',\n",
       " '30-year',\n",
       " '31-year-old',\n",
       " '37-year-old',\n",
       " '40-year-old',\n",
       " '42-year',\n",
       " '43-year-old',\n",
       " '51-year-old',\n",
       " '52-week',\n",
       " '53-year-old',\n",
       " '54-year-old',\n",
       " '55-year-old',\n",
       " '58-year-old',\n",
       " '59-year-old',\n",
       " '62-year-old',\n",
       " '63-year-old',\n",
       " '64-year-old',\n",
       " '69-point',\n",
       " '75-year-old',\n",
       " '84-year-old',\n",
       " '90-cent-an-hour',\n",
       " 'About',\n",
       " 'Account',\n",
       " 'Achievement',\n",
       " 'Acquisition',\n",
       " 'Actually',\n",
       " 'Administration',\n",
       " 'Affairs',\n",
       " 'Again',\n",
       " 'Against',\n",
       " 'Akio',\n",
       " 'Aktiebolaget',\n",
       " 'Albuquerque',\n",
       " 'Alliance',\n",
       " 'Allied',\n",
       " 'Already',\n",
       " 'Altair',\n",
       " 'Although',\n",
       " 'Alysia',\n",
       " 'Alzheimer',\n",
       " 'Ancient',\n",
       " 'Andean',\n",
       " 'Andrea',\n",
       " 'Angier',\n",
       " 'Anglia',\n",
       " 'Anglian',\n",
       " 'Annualized',\n",
       " 'Anti-Deficiency',\n",
       " 'Antonio',\n",
       " 'Appeals',\n",
       " 'Appropriations',\n",
       " 'Aquino',\n",
       " 'Arabia',\n",
       " 'Arabian',\n",
       " 'Areas',\n",
       " 'Ariail',\n",
       " 'Arraignments',\n",
       " 'Asia',\n",
       " 'Asian',\n",
       " 'Asians',\n",
       " 'Associates',\n",
       " 'Association',\n",
       " 'Attwood',\n",
       " 'Auctions',\n",
       " 'Australia',\n",
       " 'Australian',\n",
       " 'Austria',\n",
       " 'Austrian',\n",
       " 'Avenue',\n",
       " 'Backseat',\n",
       " 'Bailey',\n",
       " 'Baim',\n",
       " 'Banque',\n",
       " 'Barfield',\n",
       " 'Baum',\n",
       " 'Beach',\n",
       " 'Beall',\n",
       " 'Bears',\n",
       " 'Beatles',\n",
       " 'Beauty',\n",
       " 'Because',\n",
       " 'Beige',\n",
       " 'Beijing',\n",
       " 'Being',\n",
       " 'Beirut',\n",
       " 'Bernstein',\n",
       " 'Biaggi',\n",
       " 'Biedermann',\n",
       " 'Biondi-Santi',\n",
       " 'Blue',\n",
       " 'Board',\n",
       " 'Boeing',\n",
       " 'Boesel',\n",
       " 'Bolivia',\n",
       " 'Book',\n",
       " 'Boone',\n",
       " 'Boorse',\n",
       " 'Bordeaux',\n",
       " 'Borough',\n",
       " 'Bougainville',\n",
       " 'Boulder',\n",
       " 'Braidwood',\n",
       " 'Bramalea',\n",
       " 'Braun',\n",
       " 'Brazilian',\n",
       " 'Breakey',\n",
       " 'Brean',\n",
       " 'Breeden',\n",
       " 'Brian',\n",
       " 'Britain',\n",
       " 'Broadcasting',\n",
       " 'Brooke',\n",
       " 'Brooklyn',\n",
       " 'Brooks',\n",
       " 'Brownstein',\n",
       " 'Brunei',\n",
       " 'Buckhead',\n",
       " 'Buick',\n",
       " 'Builders',\n",
       " 'Bureau',\n",
       " 'Burgundies',\n",
       " 'California',\n",
       " 'Californian',\n",
       " 'Campaign',\n",
       " 'Campeau',\n",
       " 'Canadian',\n",
       " 'Caribbean',\n",
       " 'Carnegie-Mellon',\n",
       " 'Carrier',\n",
       " 'Cartoonist',\n",
       " 'Certainly',\n",
       " 'Chairman',\n",
       " 'Champion',\n",
       " 'Charities',\n",
       " 'Charlie',\n",
       " 'Chateau',\n",
       " 'Cheese',\n",
       " 'Cheetham',\n",
       " 'Chilean',\n",
       " 'Chiodo',\n",
       " 'Choose',\n",
       " 'Christian',\n",
       " 'Christie',\n",
       " 'Circuit',\n",
       " 'Circulation',\n",
       " 'Circulations',\n",
       " 'Civilization',\n",
       " 'Claire',\n",
       " 'Clairton',\n",
       " 'Claude',\n",
       " 'Coast',\n",
       " 'Coincident',\n",
       " 'Columbia',\n",
       " 'Commission',\n",
       " 'Commissions',\n",
       " 'Committee',\n",
       " 'Commodities',\n",
       " 'Commonwealth',\n",
       " 'Communication',\n",
       " 'Communications',\n",
       " 'Companies',\n",
       " 'Compound',\n",
       " 'Confederation',\n",
       " 'Connections',\n",
       " 'Consequence',\n",
       " 'Constitution',\n",
       " 'Constitutional',\n",
       " 'Containers',\n",
       " 'Continued',\n",
       " 'Continuing',\n",
       " 'Convention',\n",
       " 'Cooper',\n",
       " 'Coors',\n",
       " 'Corporations',\n",
       " 'Cougar',\n",
       " 'Could',\n",
       " 'Council',\n",
       " 'Countries',\n",
       " 'Country',\n",
       " 'County',\n",
       " 'Court',\n",
       " 'Courter',\n",
       " 'Courts',\n",
       " 'Creek',\n",
       " 'Cruise',\n",
       " 'Cullowhee',\n",
       " 'Czechoslovakia',\n",
       " 'Dai-Ichi',\n",
       " 'Daily',\n",
       " 'Daiwa',\n",
       " 'Daniel',\n",
       " 'Daniels',\n",
       " 'Datapoint',\n",
       " 'Davies',\n",
       " 'DeFazio',\n",
       " 'Dealers',\n",
       " 'Dean',\n",
       " 'Deane',\n",
       " 'Deere',\n",
       " 'Default',\n",
       " 'Deregulation',\n",
       " 'Desai',\n",
       " 'Destinations',\n",
       " 'Detroit',\n",
       " 'Diamond',\n",
       " 'Diaper',\n",
       " 'Diceon',\n",
       " 'Died',\n",
       " 'Disease',\n",
       " 'Division',\n",
       " 'Doak',\n",
       " 'Doerflinger',\n",
       " 'Domaine',\n",
       " 'Dominion',\n",
       " 'Dompierre',\n",
       " 'Donoghue',\n",
       " 'Douglas',\n",
       " 'Duchossois',\n",
       " 'Due',\n",
       " 'DyDee',\n",
       " 'Earlier',\n",
       " 'Editorials',\n",
       " 'Ednie',\n",
       " 'Education',\n",
       " 'Educational',\n",
       " 'Egyptian',\n",
       " 'Elliott',\n",
       " 'Elsevier',\n",
       " 'Encouraged',\n",
       " 'Encouraging',\n",
       " 'Engineers',\n",
       " 'English-speaking',\n",
       " 'Entertainment',\n",
       " 'Equal',\n",
       " 'Equitable',\n",
       " 'Equity',\n",
       " 'Equivalents',\n",
       " 'Equus',\n",
       " 'European',\n",
       " 'Eveready',\n",
       " 'Excision',\n",
       " 'Express-Buick',\n",
       " 'F-series',\n",
       " 'Fabian',\n",
       " 'Facilities',\n",
       " 'Factories',\n",
       " 'Fahrenheit',\n",
       " 'Fails',\n",
       " 'Failure',\n",
       " 'Fair',\n",
       " 'Fairlawn',\n",
       " 'Fairless',\n",
       " 'Fannie',\n",
       " 'Faulding',\n",
       " 'Fears',\n",
       " 'February',\n",
       " 'Federation',\n",
       " 'Feeding',\n",
       " 'Fees',\n",
       " 'Fields',\n",
       " 'Fifteen',\n",
       " 'Financial',\n",
       " 'Financially',\n",
       " 'Florio',\n",
       " 'Food',\n",
       " 'Foods',\n",
       " 'Foot',\n",
       " 'Foreign',\n",
       " 'Foreigners',\n",
       " 'Foundation',\n",
       " 'Founded',\n",
       " 'Fountain',\n",
       " 'Four',\n",
       " 'Fourteen',\n",
       " 'Fourth',\n",
       " 'Freddie',\n",
       " 'Free',\n",
       " 'Freeport-McMoRan',\n",
       " 'Freud',\n",
       " 'FreudToy',\n",
       " 'Friedrichs',\n",
       " 'Friends',\n",
       " 'Fuentes',\n",
       " 'Gaithersburg',\n",
       " 'Genie',\n",
       " 'George',\n",
       " 'Georgetown',\n",
       " 'Georgia',\n",
       " 'Georgia-Pacific',\n",
       " 'Giant',\n",
       " 'Giants',\n",
       " 'Gillespie',\n",
       " 'Ginnie',\n",
       " 'Giraud',\n",
       " 'Giuliani',\n",
       " 'Glauber',\n",
       " 'Goode',\n",
       " 'Goodman',\n",
       " 'Gottlieb',\n",
       " 'Graduate',\n",
       " 'Graduates',\n",
       " 'Grain',\n",
       " 'Great',\n",
       " 'Greece',\n",
       " 'Green',\n",
       " 'Greenville',\n",
       " 'Greenwich',\n",
       " 'Greer',\n",
       " 'Groucho',\n",
       " 'Group',\n",
       " 'Groups',\n",
       " 'Guarantee',\n",
       " 'Guaranteed',\n",
       " 'Guard',\n",
       " 'Guerrilla',\n",
       " 'Guigal',\n",
       " 'Guild',\n",
       " 'Guinea',\n",
       " 'Hallwood',\n",
       " 'Harcourt',\n",
       " 'Hasbrouk',\n",
       " 'Haut-Brion',\n",
       " 'Hawaii',\n",
       " 'Hawaiian',\n",
       " 'Health',\n",
       " 'Hearst',\n",
       " 'Heatherington',\n",
       " 'Heating',\n",
       " 'Heavy',\n",
       " 'Heidelberg',\n",
       " 'Heightened',\n",
       " 'Heights',\n",
       " 'Heiwado',\n",
       " 'Hoosier',\n",
       " 'Hopwood',\n",
       " 'Houghton',\n",
       " 'Hours',\n",
       " 'House',\n",
       " 'House-Senate',\n",
       " 'Housing',\n",
       " 'Houston',\n",
       " 'Ideas',\n",
       " 'Illinois',\n",
       " 'Indeed',\n",
       " 'India',\n",
       " 'Indiana',\n",
       " 'Indianapolis',\n",
       " 'Individual',\n",
       " 'Individuals',\n",
       " 'Indonesia',\n",
       " 'Industrial',\n",
       " 'Industries',\n",
       " 'Information',\n",
       " 'Initiative',\n",
       " 'Inouye',\n",
       " 'Instead',\n",
       " 'Institution',\n",
       " 'Institutions',\n",
       " 'Interleukin-3',\n",
       " 'Intermediate',\n",
       " 'International',\n",
       " 'Interviews',\n",
       " 'Invariably',\n",
       " 'Inventories',\n",
       " 'Israel',\n",
       " 'Issues',\n",
       " 'Italian',\n",
       " 'Jaguar',\n",
       " 'Jail',\n",
       " 'Jalaalwalikraam',\n",
       " 'Jamaica',\n",
       " 'January',\n",
       " 'Joanne',\n",
       " 'Joe',\n",
       " 'Joel',\n",
       " 'Journal',\n",
       " 'Journals',\n",
       " 'Judicial',\n",
       " 'Judiciary',\n",
       " 'Judie',\n",
       " 'Julia',\n",
       " 'Kalamazoo',\n",
       " 'Kathleen',\n",
       " 'Katzenstein',\n",
       " 'Kean',\n",
       " 'Kearny',\n",
       " 'Keehn',\n",
       " 'Keidanren',\n",
       " 'Keith',\n",
       " 'Killeen',\n",
       " 'Klauser',\n",
       " 'Klein',\n",
       " 'Koito',\n",
       " 'Koizumi',\n",
       " 'Korea',\n",
       " 'Kuala',\n",
       " 'Laboratories',\n",
       " 'Labouisse',\n",
       " 'Landrieu',\n",
       " 'Latour',\n",
       " 'Lauderhill',\n",
       " 'Laura',\n",
       " 'Laurence',\n",
       " 'Lead',\n",
       " 'Leap',\n",
       " 'Learning',\n",
       " 'Lee',\n",
       " 'Lefcourt',\n",
       " 'Legislation',\n",
       " 'Leigh',\n",
       " 'Leighton',\n",
       " 'Leinonen',\n",
       " 'Leo',\n",
       " 'Leon',\n",
       " 'Liberation',\n",
       " 'Lieberman',\n",
       " 'Lighthouse',\n",
       " 'Loan',\n",
       " 'Loewi',\n",
       " 'Loews',\n",
       " 'Longwood',\n",
       " 'Lorain',\n",
       " 'Louis',\n",
       " 'Louisiana',\n",
       " 'Louisiana-Pacific',\n",
       " 'Louisville',\n",
       " 'Lurie',\n",
       " 'Mae',\n",
       " 'Maine',\n",
       " 'Malaysia',\n",
       " 'Malizia',\n",
       " 'Marie',\n",
       " 'Marie-Louise',\n",
       " 'Marietta',\n",
       " 'Mario',\n",
       " 'Marion',\n",
       " 'Mariotta',\n",
       " 'Materials',\n",
       " 'Maughan',\n",
       " 'McGuigan',\n",
       " 'McLeod',\n",
       " 'Mead',\n",
       " 'Meanwhile',\n",
       " 'Media',\n",
       " 'Meese',\n",
       " 'Meinders',\n",
       " 'Meridian',\n",
       " 'Miami',\n",
       " 'Miami-based',\n",
       " 'Michael',\n",
       " 'Michaels',\n",
       " 'Michio',\n",
       " 'Miguel',\n",
       " 'Mikhail',\n",
       " 'Milwaukee',\n",
       " 'Minneapolis',\n",
       " 'Minneapolis-based',\n",
       " 'Mission',\n",
       " 'Missouri',\n",
       " 'Mitsui',\n",
       " 'Modifications',\n",
       " 'Moines',\n",
       " 'Monchecourt',\n",
       " 'Monopolies',\n",
       " 'Moody',\n",
       " 'Moon',\n",
       " 'Moore',\n",
       " 'Moreover',\n",
       " 'Mount',\n",
       " 'Mutual',\n",
       " 'NIH-appointed',\n",
       " 'Najarian',\n",
       " 'Namibia',\n",
       " 'Namibian',\n",
       " 'National',\n",
       " 'Nationale',\n",
       " 'Nations',\n",
       " 'Nationwide',\n",
       " 'Neal',\n",
       " 'Neanderthals',\n",
       " 'Nearby',\n",
       " 'Needham',\n",
       " 'Negotiable',\n",
       " 'Neil',\n",
       " 'Neither',\n",
       " 'Nekoosa',\n",
       " 'Neuberger',\n",
       " 'Newhouse',\n",
       " 'Newsweek',\n",
       " 'Nicaraguan',\n",
       " 'Nielsen',\n",
       " 'Nikkei',\n",
       " 'Nissho-Iwai',\n",
       " 'Noriega',\n",
       " 'Northeast',\n",
       " 'Norwegian',\n",
       " 'Numerous',\n",
       " \"O'Brien\",\n",
       " \"O'Loughlin\",\n",
       " \"O'Neill\",\n",
       " 'Obligations',\n",
       " 'Occupational',\n",
       " 'Odd-year',\n",
       " 'Officials',\n",
       " 'Ohio',\n",
       " 'Ohio-based',\n",
       " 'Old-House',\n",
       " 'Olympia',\n",
       " 'Operations',\n",
       " 'Opinion',\n",
       " 'Options',\n",
       " 'Organization',\n",
       " 'Organizations',\n",
       " 'Orleans',\n",
       " 'Orleans-based',\n",
       " 'Overseas',\n",
       " 'PaineWebber',\n",
       " 'Palestinian',\n",
       " 'Papua-New',\n",
       " 'Paramount',\n",
       " 'Parliament',\n",
       " 'Patients',\n",
       " 'Patricia',\n",
       " 'Paul',\n",
       " 'Pauline',\n",
       " 'Payouts',\n",
       " 'Peabody',\n",
       " 'Pennsylvania',\n",
       " 'Pennview',\n",
       " 'People',\n",
       " 'Peoria',\n",
       " 'Perestroika',\n",
       " 'Periods',\n",
       " 'Perpetual',\n",
       " 'Petroleum',\n",
       " 'Pharaoh',\n",
       " 'Philadelphia',\n",
       " 'Philadelphia-based',\n",
       " 'Phoenix',\n",
       " 'Piero',\n",
       " 'Pierre',\n",
       " 'Pinocchio',\n",
       " 'Plains',\n",
       " 'Plantation',\n",
       " 'Policies',\n",
       " 'Poor',\n",
       " 'Poore',\n",
       " 'Population',\n",
       " 'Pramual',\n",
       " 'Precious',\n",
       " 'Premier',\n",
       " 'Pretoria',\n",
       " 'Previously',\n",
       " 'Prior',\n",
       " 'Proceeds',\n",
       " 'Productions',\n",
       " 'Professional',\n",
       " 'Property\\\\/casualty',\n",
       " 'Protection',\n",
       " 'Prudential-Bache',\n",
       " 'Psychiatry',\n",
       " 'Publications',\n",
       " 'Puccio',\n",
       " 'Puerto',\n",
       " 'Quant',\n",
       " 'Queen',\n",
       " 'Rabia',\n",
       " 'Radio',\n",
       " 'Rae',\n",
       " 'Rail',\n",
       " 'Railroad',\n",
       " 'Raleigh',\n",
       " 'Ranieri',\n",
       " 'Raul',\n",
       " 'Ravenswood',\n",
       " 'Reached',\n",
       " 'Reagan',\n",
       " 'Reagan-Bush',\n",
       " 'Reames',\n",
       " 'Reasons',\n",
       " 'Red-blooded',\n",
       " 'Reed',\n",
       " 'Relations',\n",
       " 'Reliance',\n",
       " 'Renaissance-style',\n",
       " 'Renee',\n",
       " 'Research',\n",
       " 'Researchers',\n",
       " 'Resources',\n",
       " 'Restaurant',\n",
       " 'Retail',\n",
       " 'Reupke',\n",
       " 'Reuter',\n",
       " 'Reuters',\n",
       " 'Revenue',\n",
       " 'Review',\n",
       " 'Revolution',\n",
       " 'Richebourg',\n",
       " 'Ridgefield',\n",
       " 'Riese',\n",
       " 'Rieslings',\n",
       " 'Riviera',\n",
       " 'Robbie',\n",
       " 'Roederer',\n",
       " 'Romanee-Conti',\n",
       " 'Roof',\n",
       " 'Roosevelt',\n",
       " 'Root',\n",
       " 'Rotie',\n",
       " 'Rouge',\n",
       " 'Roukema',\n",
       " 'Rubinfien',\n",
       " 'Russian',\n",
       " 'Saints',\n",
       " 'Saitama',\n",
       " 'Samuel',\n",
       " 'Saudi',\n",
       " 'Saul',\n",
       " 'Sauternes',\n",
       " 'Sauvignon',\n",
       " 'Scandinavian',\n",
       " 'Schaefer',\n",
       " 'School',\n",
       " 'Schweiz',\n",
       " 'Science',\n",
       " 'Scientists',\n",
       " 'Scotia',\n",
       " 'Sea',\n",
       " 'Seagate',\n",
       " 'Seahorse',\n",
       " 'Seats',\n",
       " 'Seattle',\n",
       " 'Seattle-based',\n",
       " 'Sebastian',\n",
       " 'Secilia',\n",
       " 'Section',\n",
       " 'Securities',\n",
       " 'Seed',\n",
       " 'Senate-House',\n",
       " 'Senior',\n",
       " 'Seniors',\n",
       " 'Seoul',\n",
       " 'Serial',\n",
       " 'Series',\n",
       " 'Session',\n",
       " 'Seymour',\n",
       " 'Shearson',\n",
       " 'Sheep',\n",
       " 'Sheffield',\n",
       " 'Sherwood',\n",
       " 'Shokubai',\n",
       " 'Shuxian',\n",
       " 'Siegal',\n",
       " 'Sierra',\n",
       " 'Simeon',\n",
       " 'Skokie',\n",
       " 'Sloan',\n",
       " 'Social',\n",
       " 'Society',\n",
       " 'Solaia',\n",
       " 'Solution',\n",
       " 'Soon',\n",
       " 'Soup',\n",
       " 'Souper',\n",
       " 'Soups',\n",
       " 'Source',\n",
       " 'South',\n",
       " 'Southeast',\n",
       " 'Southern',\n",
       " 'Soviet',\n",
       " 'Soviets',\n",
       " 'Spain',\n",
       " 'Speculation',\n",
       " 'Speedway',\n",
       " 'Spiegel',\n",
       " 'Spielvogel',\n",
       " 'Spoon',\n",
       " 'Spreads',\n",
       " 'Springfield',\n",
       " 'Squier',\n",
       " 'Stadium',\n",
       " 'Stadiums',\n",
       " 'Stearn',\n",
       " 'Steel',\n",
       " 'Steelworkers',\n",
       " 'Steinberg',\n",
       " 'Stephanie',\n",
       " 'Stieglitz',\n",
       " 'Stories',\n",
       " 'Strait',\n",
       " 'Street',\n",
       " 'Stuart',\n",
       " 'Suisse',\n",
       " 'Sulaiman',\n",
       " 'Swearingen',\n",
       " 'Tailors',\n",
       " 'Taipei',\n",
       " 'Taittinger',\n",
       " 'Taiwan',\n",
       " 'Taizo',\n",
       " 'Takeover',\n",
       " 'Taurus',\n",
       " 'Teacher',\n",
       " 'Team',\n",
       " 'Teikoku',\n",
       " 'Television',\n",
       " 'Test-preparation',\n",
       " 'Thai',\n",
       " 'Thailand',\n",
       " 'Their',\n",
       " 'Theodore',\n",
       " 'Though',\n",
       " 'Thousands',\n",
       " 'Three',\n",
       " 'Tiphook',\n",
       " 'Tokio',\n",
       " 'Too',\n",
       " 'Touches',\n",
       " 'Tourism',\n",
       " 'Traditional',\n",
       " 'Traditionally',\n",
       " 'Trailer',\n",
       " 'Train',\n",
       " 'Transportation',\n",
       " 'Treasury',\n",
       " 'Trettien',\n",
       " 'Trockenbeerenauslesen',\n",
       " 'Troubled',\n",
       " 'Trudeau',\n",
       " 'Tuesday',\n",
       " 'Turnaround',\n",
       " 'Uncertainty',\n",
       " 'Underwood',\n",
       " 'Underwoods',\n",
       " 'Union',\n",
       " 'Utilities',\n",
       " 'Vacancies',\n",
       " 'Value',\n",
       " 'Viacom',\n",
       " 'Video',\n",
       " 'Virginia',\n",
       " 'Virginians',\n",
       " 'Virtually',\n",
       " 'Voice',\n",
       " 'Waertsilae',\n",
       " 'Wakui',\n",
       " 'Warehouse',\n",
       " 'Waterloo',\n",
       " 'Weatherly',\n",
       " 'Week',\n",
       " 'Weil',\n",
       " 'Weisfield',\n",
       " 'Wertheim',\n",
       " 'Westborough',\n",
       " 'Wheeland',\n",
       " 'Whereas',\n",
       " 'William',\n",
       " 'Williams',\n",
       " 'Winiarski',\n",
       " 'Without',\n",
       " 'Wood',\n",
       " 'Woodcliff',\n",
       " 'Woodrow',\n",
       " 'Woodward',\n",
       " 'Woolworth',\n",
       " 'Worksheets',\n",
       " 'Wozniak',\n",
       " 'Xiaoping',\n",
       " 'Yamaichi',\n",
       " 'Year',\n",
       " 'Yeargin',\n",
       " 'Yields',\n",
       " 'You',\n",
       " 'Young',\n",
       " 'Younkers',\n",
       " 'Your',\n",
       " 'Youths',\n",
       " 'Yquem',\n",
       " 'Zealand',\n",
       " 'aboard',\n",
       " 'abortion',\n",
       " 'abortion-related',\n",
       " 'abortionist',\n",
       " 'abortions',\n",
       " 'abounding',\n",
       " 'about',\n",
       " 'abroad',\n",
       " 'acceleration',\n",
       " 'accessories',\n",
       " 'accommodations',\n",
       " 'account',\n",
       " 'accountability',\n",
       " 'accountant',\n",
       " 'accountants',\n",
       " 'accounted',\n",
       " 'accounting',\n",
       " 'accounts',\n",
       " 'accrue',\n",
       " 'accrued',\n",
       " 'achieve',\n",
       " 'achieved',\n",
       " 'achievement',\n",
       " 'achievement-test',\n",
       " 'achieving',\n",
       " 'acid-rain',\n",
       " 'acquire',\n",
       " 'acquired',\n",
       " 'acquirer',\n",
       " 'acquirers',\n",
       " 'acquires',\n",
       " 'acquiring',\n",
       " 'acquisition',\n",
       " 'acquisition-minded',\n",
       " 'acquisitions',\n",
       " 'action',\n",
       " 'actions',\n",
       " 'activities',\n",
       " 'actual',\n",
       " 'actually',\n",
       " 'addiction',\n",
       " 'addition',\n",
       " 'additional',\n",
       " 'additions',\n",
       " 'adequate',\n",
       " 'adequately',\n",
       " 'administration',\n",
       " 'administrations',\n",
       " 'advertorial',\n",
       " 'aerospace',\n",
       " 'aesthetic',\n",
       " 'affair',\n",
       " 'affairs',\n",
       " 'affiliate',\n",
       " 'affiliates',\n",
       " 'afraid',\n",
       " 'afternoon',\n",
       " 'again',\n",
       " 'against',\n",
       " 'agencies',\n",
       " 'agree',\n",
       " 'agreed',\n",
       " 'agreed-upon',\n",
       " 'agreeing',\n",
       " 'agreement',\n",
       " 'agreements',\n",
       " 'agrees',\n",
       " 'ahead',\n",
       " 'ai',\n",
       " 'aid',\n",
       " 'aide',\n",
       " 'aides',\n",
       " 'aids',\n",
       " 'ailing',\n",
       " 'aim',\n",
       " 'aimed',\n",
       " 'aiming',\n",
       " 'aims',\n",
       " 'air',\n",
       " 'aircraft',\n",
       " 'aired',\n",
       " 'airline',\n",
       " 'airline-related',\n",
       " 'airlines',\n",
       " 'airplane',\n",
       " 'airports',\n",
       " 'aisles',\n",
       " 'alienated',\n",
       " 'allegations',\n",
       " 'alleviate',\n",
       " 'allies',\n",
       " 'allocation',\n",
       " 'already',\n",
       " 'although',\n",
       " 'altruistic',\n",
       " 'ambitions',\n",
       " 'ambitious',\n",
       " 'amortization',\n",
       " 'amount',\n",
       " 'amounted',\n",
       " 'amounts',\n",
       " 'ancient',\n",
       " 'announce',\n",
       " 'announced',\n",
       " 'announcement',\n",
       " 'announcer',\n",
       " 'annual',\n",
       " 'annualized',\n",
       " 'annually',\n",
       " 'anti-abortion',\n",
       " 'anti-abortionists',\n",
       " 'anti-miscarriage',\n",
       " 'anti-takeover',\n",
       " 'anticipation',\n",
       " 'anxieties',\n",
       " 'anxious',\n",
       " 'apiece',\n",
       " 'appeal',\n",
       " 'appealing',\n",
       " 'appeals',\n",
       " 'appear',\n",
       " 'appeared',\n",
       " 'appearing',\n",
       " 'appears',\n",
       " 'appease',\n",
       " 'applaud',\n",
       " 'appliance',\n",
       " 'appliances',\n",
       " 'application',\n",
       " 'applications',\n",
       " 'applied',\n",
       " 'appoint',\n",
       " 'appointed',\n",
       " 'appointment',\n",
       " 'appointments',\n",
       " 'appreciation',\n",
       " 'approach',\n",
       " 'approached',\n",
       " 'approaches',\n",
       " 'appropriate',\n",
       " 'appropriated',\n",
       " 'appropriation',\n",
       " 'appropriations',\n",
       " 'appropriators',\n",
       " 'area',\n",
       " 'areas',\n",
       " 'argue',\n",
       " 'argued',\n",
       " 'argues',\n",
       " 'arguing',\n",
       " 'around',\n",
       " 'aspersions',\n",
       " 'assault',\n",
       " 'assaults',\n",
       " 'assertion',\n",
       " 'assertions',\n",
       " 'asset-valuation',\n",
       " 'associate',\n",
       " 'associated',\n",
       " 'associates',\n",
       " 'association',\n",
       " 'assumption',\n",
       " 'attention',\n",
       " 'attorney-client',\n",
       " 'attractions',\n",
       " 'auction',\n",
       " 'auctioned',\n",
       " 'auctions',\n",
       " 'audience',\n",
       " 'audiocassettes',\n",
       " 'audit',\n",
       " 'auditor',\n",
       " 'augment',\n",
       " 'auspices',\n",
       " 'austere',\n",
       " 'author',\n",
       " 'authorities',\n",
       " 'authority',\n",
       " 'authorized',\n",
       " 'authorizes',\n",
       " 'authorizing',\n",
       " 'authors',\n",
       " 'autions',\n",
       " 'auto',\n",
       " 'auto-safety',\n",
       " 'automated',\n",
       " 'automatic',\n",
       " 'automation',\n",
       " 'automobile',\n",
       " 'automobiles',\n",
       " 'automotive',\n",
       " 'automotive-lighting',\n",
       " 'automotive-parts',\n",
       " 'autos',\n",
       " 'autumn',\n",
       " 'available',\n",
       " 'avenues',\n",
       " 'avoid',\n",
       " 'avoiding',\n",
       " 'awaits',\n",
       " 'backgrounds',\n",
       " 'balloon',\n",
       " 'ballroom',\n",
       " 'banquet',\n",
       " 'bargain',\n",
       " 'bargains',\n",
       " 'barrier',\n",
       " ...]"
      ]
     },
     "execution_count": 397,
     "metadata": {},
     "output_type": "execute_result"
    }
   ],
   "source": [
    "list(fd)"
   ]
  },
  {
   "cell_type": "code",
   "execution_count": 398,
   "metadata": {},
   "outputs": [
    {
     "data": {
      "text/plain": [
       "'Unvrsl Dclrtn of Hmn Rghts Prmble Whrs rcgntn of the inhrnt dgnty and\\nof the eql and inlnble rghts of all mmbrs of the hmn fmly is the fndtn\\nof frdm , jstce and pce in the wrld , Whrs dsrgrd and cntmpt fr hmn\\nrghts hve rsltd in brbrs acts whch hve outrgd the cnscnce of mnknd ,\\nand the advnt of a wrld in whch hmn bngs shll enjy frdm of spch and'"
      ]
     },
     "execution_count": 398,
     "metadata": {},
     "output_type": "execute_result"
    }
   ],
   "source": [
    "regexpr=r'^[AEIOUaeiou]+|[AEIOUaeiou]+$|[^AEIOUaeiou]'\n",
    "def compress(word):\n",
    "    pieces=re.findall(regexpr,word)\n",
    "    return ''.join(pieces)\n",
    "\n",
    "\n",
    "english_udhr=nltk.corpus.udhr.words('English-Latin1')\n",
    "nltk.tokenwrap(compress(w) for w in english_udhr[:75])"
   ]
  },
  {
   "cell_type": "code",
   "execution_count": null,
   "metadata": {},
   "outputs": [],
   "source": []
  },
  {
   "cell_type": "code",
   "execution_count": null,
   "metadata": {},
   "outputs": [],
   "source": []
  },
  {
   "cell_type": "code",
   "execution_count": null,
   "metadata": {},
   "outputs": [],
   "source": []
  },
  {
   "cell_type": "code",
   "execution_count": null,
   "metadata": {},
   "outputs": [],
   "source": []
  },
  {
   "cell_type": "code",
   "execution_count": null,
   "metadata": {},
   "outputs": [],
   "source": []
  },
  {
   "cell_type": "code",
   "execution_count": null,
   "metadata": {},
   "outputs": [],
   "source": []
  },
  {
   "cell_type": "code",
   "execution_count": null,
   "metadata": {},
   "outputs": [],
   "source": []
  },
  {
   "cell_type": "code",
   "execution_count": null,
   "metadata": {},
   "outputs": [],
   "source": []
  },
  {
   "cell_type": "code",
   "execution_count": null,
   "metadata": {},
   "outputs": [],
   "source": []
  },
  {
   "cell_type": "code",
   "execution_count": null,
   "metadata": {},
   "outputs": [],
   "source": []
  },
  {
   "cell_type": "code",
   "execution_count": null,
   "metadata": {},
   "outputs": [],
   "source": []
  },
  {
   "cell_type": "code",
   "execution_count": null,
   "metadata": {},
   "outputs": [],
   "source": []
  },
  {
   "cell_type": "code",
   "execution_count": null,
   "metadata": {},
   "outputs": [],
   "source": []
  },
  {
   "cell_type": "code",
   "execution_count": null,
   "metadata": {},
   "outputs": [],
   "source": []
  },
  {
   "cell_type": "code",
   "execution_count": null,
   "metadata": {},
   "outputs": [],
   "source": []
  },
  {
   "cell_type": "code",
   "execution_count": null,
   "metadata": {},
   "outputs": [],
   "source": []
  },
  {
   "cell_type": "code",
   "execution_count": null,
   "metadata": {},
   "outputs": [],
   "source": []
  },
  {
   "cell_type": "code",
   "execution_count": null,
   "metadata": {},
   "outputs": [],
   "source": []
  },
  {
   "cell_type": "code",
   "execution_count": null,
   "metadata": {},
   "outputs": [],
   "source": []
  },
  {
   "cell_type": "code",
   "execution_count": null,
   "metadata": {},
   "outputs": [],
   "source": []
  },
  {
   "cell_type": "code",
   "execution_count": null,
   "metadata": {},
   "outputs": [],
   "source": []
  },
  {
   "cell_type": "code",
   "execution_count": null,
   "metadata": {},
   "outputs": [],
   "source": []
  },
  {
   "cell_type": "code",
   "execution_count": null,
   "metadata": {},
   "outputs": [],
   "source": []
  },
  {
   "cell_type": "code",
   "execution_count": null,
   "metadata": {},
   "outputs": [],
   "source": []
  },
  {
   "cell_type": "code",
   "execution_count": null,
   "metadata": {},
   "outputs": [],
   "source": []
  },
  {
   "cell_type": "code",
   "execution_count": null,
   "metadata": {},
   "outputs": [],
   "source": []
  },
  {
   "cell_type": "code",
   "execution_count": null,
   "metadata": {},
   "outputs": [],
   "source": []
  },
  {
   "cell_type": "code",
   "execution_count": null,
   "metadata": {},
   "outputs": [],
   "source": []
  },
  {
   "cell_type": "code",
   "execution_count": null,
   "metadata": {},
   "outputs": [],
   "source": []
  },
  {
   "cell_type": "code",
   "execution_count": null,
   "metadata": {},
   "outputs": [],
   "source": []
  },
  {
   "cell_type": "code",
   "execution_count": null,
   "metadata": {},
   "outputs": [],
   "source": []
  },
  {
   "cell_type": "code",
   "execution_count": null,
   "metadata": {},
   "outputs": [],
   "source": []
  },
  {
   "cell_type": "code",
   "execution_count": null,
   "metadata": {},
   "outputs": [],
   "source": []
  },
  {
   "cell_type": "code",
   "execution_count": null,
   "metadata": {},
   "outputs": [],
   "source": []
  },
  {
   "cell_type": "code",
   "execution_count": null,
   "metadata": {},
   "outputs": [],
   "source": []
  },
  {
   "cell_type": "code",
   "execution_count": null,
   "metadata": {},
   "outputs": [],
   "source": []
  },
  {
   "cell_type": "code",
   "execution_count": null,
   "metadata": {},
   "outputs": [],
   "source": []
  },
  {
   "cell_type": "code",
   "execution_count": null,
   "metadata": {},
   "outputs": [],
   "source": []
  },
  {
   "cell_type": "code",
   "execution_count": null,
   "metadata": {},
   "outputs": [],
   "source": []
  },
  {
   "cell_type": "code",
   "execution_count": null,
   "metadata": {},
   "outputs": [],
   "source": []
  },
  {
   "cell_type": "code",
   "execution_count": null,
   "metadata": {},
   "outputs": [],
   "source": []
  },
  {
   "cell_type": "code",
   "execution_count": null,
   "metadata": {},
   "outputs": [],
   "source": []
  },
  {
   "cell_type": "code",
   "execution_count": null,
   "metadata": {},
   "outputs": [],
   "source": []
  },
  {
   "cell_type": "code",
   "execution_count": null,
   "metadata": {},
   "outputs": [],
   "source": []
  },
  {
   "cell_type": "code",
   "execution_count": null,
   "metadata": {},
   "outputs": [],
   "source": []
  },
  {
   "cell_type": "code",
   "execution_count": null,
   "metadata": {},
   "outputs": [],
   "source": []
  },
  {
   "cell_type": "code",
   "execution_count": null,
   "metadata": {},
   "outputs": [],
   "source": []
  },
  {
   "cell_type": "code",
   "execution_count": null,
   "metadata": {},
   "outputs": [],
   "source": []
  },
  {
   "cell_type": "code",
   "execution_count": null,
   "metadata": {},
   "outputs": [],
   "source": []
  },
  {
   "cell_type": "code",
   "execution_count": null,
   "metadata": {},
   "outputs": [],
   "source": []
  },
  {
   "cell_type": "code",
   "execution_count": null,
   "metadata": {},
   "outputs": [],
   "source": []
  },
  {
   "cell_type": "code",
   "execution_count": null,
   "metadata": {},
   "outputs": [],
   "source": []
  },
  {
   "cell_type": "code",
   "execution_count": null,
   "metadata": {},
   "outputs": [],
   "source": []
  },
  {
   "cell_type": "code",
   "execution_count": null,
   "metadata": {},
   "outputs": [],
   "source": []
  },
  {
   "cell_type": "code",
   "execution_count": null,
   "metadata": {},
   "outputs": [],
   "source": []
  },
  {
   "cell_type": "code",
   "execution_count": null,
   "metadata": {},
   "outputs": [],
   "source": []
  },
  {
   "cell_type": "code",
   "execution_count": null,
   "metadata": {},
   "outputs": [],
   "source": []
  },
  {
   "cell_type": "code",
   "execution_count": null,
   "metadata": {},
   "outputs": [],
   "source": []
  },
  {
   "cell_type": "code",
   "execution_count": null,
   "metadata": {},
   "outputs": [],
   "source": []
  },
  {
   "cell_type": "code",
   "execution_count": null,
   "metadata": {},
   "outputs": [],
   "source": []
  },
  {
   "cell_type": "code",
   "execution_count": null,
   "metadata": {},
   "outputs": [],
   "source": []
  },
  {
   "cell_type": "code",
   "execution_count": null,
   "metadata": {},
   "outputs": [],
   "source": []
  },
  {
   "cell_type": "code",
   "execution_count": null,
   "metadata": {},
   "outputs": [],
   "source": [
    "\n"
   ]
  },
  {
   "cell_type": "code",
   "execution_count": null,
   "metadata": {},
   "outputs": [],
   "source": []
  },
  {
   "cell_type": "code",
   "execution_count": null,
   "metadata": {},
   "outputs": [],
   "source": []
  },
  {
   "cell_type": "code",
   "execution_count": null,
   "metadata": {},
   "outputs": [],
   "source": []
  },
  {
   "cell_type": "code",
   "execution_count": null,
   "metadata": {},
   "outputs": [],
   "source": []
  },
  {
   "cell_type": "code",
   "execution_count": null,
   "metadata": {},
   "outputs": [],
   "source": []
  }
 ],
 "metadata": {
  "kernelspec": {
   "display_name": "Python 3",
   "language": "python",
   "name": "python3"
  },
  "language_info": {
   "codemirror_mode": {
    "name": "ipython",
    "version": 3
   },
   "file_extension": ".py",
   "mimetype": "text/x-python",
   "name": "python",
   "nbconvert_exporter": "python",
   "pygments_lexer": "ipython3",
   "version": "3.7.7"
  }
 },
 "nbformat": 4,
 "nbformat_minor": 4
}
