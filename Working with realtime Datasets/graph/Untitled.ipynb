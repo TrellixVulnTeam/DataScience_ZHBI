{
 "cells": [
  {
   "cell_type": "code",
   "execution_count": 5,
   "metadata": {},
   "outputs": [],
   "source": [
    "import networkx as nx\n",
    "import matplotlib.pyplot as pl\n",
    "import pandas as pd\n",
    "from subprocess import check_output\n",
    "import warnings\n",
    "warnings.filterwarnings('ignore')"
   ]
  },
  {
   "cell_type": "code",
   "execution_count": 6,
   "metadata": {},
   "outputs": [],
   "source": [
    "G=nx.Graph(day=\"Stackoverflow\")\n",
    "df_nodes=pd.read_csv('stack_network_nodes.csv')\n",
    "df_edges=pd.read_csv('stack_network_links.csv')\n"
   ]
  },
  {
   "cell_type": "code",
   "execution_count": 7,
   "metadata": {},
   "outputs": [
    {
     "data": {
      "text/html": [
       "<div>\n",
       "<style scoped>\n",
       "    .dataframe tbody tr th:only-of-type {\n",
       "        vertical-align: middle;\n",
       "    }\n",
       "\n",
       "    .dataframe tbody tr th {\n",
       "        vertical-align: top;\n",
       "    }\n",
       "\n",
       "    .dataframe thead th {\n",
       "        text-align: right;\n",
       "    }\n",
       "</style>\n",
       "<table border=\"1\" class=\"dataframe\">\n",
       "  <thead>\n",
       "    <tr style=\"text-align: right;\">\n",
       "      <th></th>\n",
       "      <th>name</th>\n",
       "      <th>group</th>\n",
       "      <th>nodesize</th>\n",
       "    </tr>\n",
       "  </thead>\n",
       "  <tbody>\n",
       "    <tr>\n",
       "      <th>0</th>\n",
       "      <td>html</td>\n",
       "      <td>6</td>\n",
       "      <td>272.45</td>\n",
       "    </tr>\n",
       "    <tr>\n",
       "      <th>1</th>\n",
       "      <td>css</td>\n",
       "      <td>6</td>\n",
       "      <td>341.17</td>\n",
       "    </tr>\n",
       "    <tr>\n",
       "      <th>2</th>\n",
       "      <td>hibernate</td>\n",
       "      <td>8</td>\n",
       "      <td>29.83</td>\n",
       "    </tr>\n",
       "    <tr>\n",
       "      <th>3</th>\n",
       "      <td>spring</td>\n",
       "      <td>8</td>\n",
       "      <td>52.84</td>\n",
       "    </tr>\n",
       "    <tr>\n",
       "      <th>4</th>\n",
       "      <td>ruby</td>\n",
       "      <td>3</td>\n",
       "      <td>70.14</td>\n",
       "    </tr>\n",
       "  </tbody>\n",
       "</table>\n",
       "</div>"
      ],
      "text/plain": [
       "        name  group  nodesize\n",
       "0       html      6    272.45\n",
       "1        css      6    341.17\n",
       "2  hibernate      8     29.83\n",
       "3     spring      8     52.84\n",
       "4       ruby      3     70.14"
      ]
     },
     "execution_count": 7,
     "metadata": {},
     "output_type": "execute_result"
    }
   ],
   "source": [
    "df_nodes.head()"
   ]
  },
  {
   "cell_type": "code",
   "execution_count": 8,
   "metadata": {},
   "outputs": [
    {
     "data": {
      "text/html": [
       "<div>\n",
       "<style scoped>\n",
       "    .dataframe tbody tr th:only-of-type {\n",
       "        vertical-align: middle;\n",
       "    }\n",
       "\n",
       "    .dataframe tbody tr th {\n",
       "        vertical-align: top;\n",
       "    }\n",
       "\n",
       "    .dataframe thead th {\n",
       "        text-align: right;\n",
       "    }\n",
       "</style>\n",
       "<table border=\"1\" class=\"dataframe\">\n",
       "  <thead>\n",
       "    <tr style=\"text-align: right;\">\n",
       "      <th></th>\n",
       "      <th>source</th>\n",
       "      <th>target</th>\n",
       "      <th>value</th>\n",
       "    </tr>\n",
       "  </thead>\n",
       "  <tbody>\n",
       "    <tr>\n",
       "      <th>0</th>\n",
       "      <td>azure</td>\n",
       "      <td>.net</td>\n",
       "      <td>20.933192</td>\n",
       "    </tr>\n",
       "    <tr>\n",
       "      <th>1</th>\n",
       "      <td>sql-server</td>\n",
       "      <td>.net</td>\n",
       "      <td>32.322524</td>\n",
       "    </tr>\n",
       "    <tr>\n",
       "      <th>2</th>\n",
       "      <td>asp.net</td>\n",
       "      <td>.net</td>\n",
       "      <td>48.407030</td>\n",
       "    </tr>\n",
       "    <tr>\n",
       "      <th>3</th>\n",
       "      <td>entity-framework</td>\n",
       "      <td>.net</td>\n",
       "      <td>24.370903</td>\n",
       "    </tr>\n",
       "    <tr>\n",
       "      <th>4</th>\n",
       "      <td>wpf</td>\n",
       "      <td>.net</td>\n",
       "      <td>32.350925</td>\n",
       "    </tr>\n",
       "  </tbody>\n",
       "</table>\n",
       "</div>"
      ],
      "text/plain": [
       "             source target      value\n",
       "0             azure   .net  20.933192\n",
       "1        sql-server   .net  32.322524\n",
       "2           asp.net   .net  48.407030\n",
       "3  entity-framework   .net  24.370903\n",
       "4               wpf   .net  32.350925"
      ]
     },
     "execution_count": 8,
     "metadata": {},
     "output_type": "execute_result"
    }
   ],
   "source": [
    "df_edges.head()"
   ]
  },
  {
   "cell_type": "code",
   "execution_count": 9,
   "metadata": {},
   "outputs": [
    {
     "data": {
      "text/plain": [
       "array(['html', 'css', 'hibernate', 'spring', 'ruby', 'ruby-on-rails',\n",
       "       'ios', 'swift', 'html5', 'c', 'c++', 'asp.net', 'c#',\n",
       "       'objective-c', 'javascript', 'jquery', 'redux', 'reactjs', 'php',\n",
       "       'mysql', 'spring-mvc', '.net', 'react-native', 'spring-boot',\n",
       "       'less', 'sass', 'hadoop', 'apache-spark', 'sql-server', 'express',\n",
       "       'node.js', 'mongodb', 'iphone', 'github', 'git', 'excel',\n",
       "       'excel-vba', 'entity-framework', 'linq', 'wcf', 'wpf', 'android',\n",
       "       'java', 'scala', 'ajax', 'django', 'python', 'vba', 'xcode',\n",
       "       'apache', 'nginx', 'angularjs', 'asp.net-web-api', 'laravel',\n",
       "       'plsql', 'oracle', 'json', 'xml', 'flask', 'wordpress', 'java-ee',\n",
       "       'maven', 'jsp', 'bash', 'linux', 'angular2', 'typescript',\n",
       "       'codeigniter', 'tdd', 'agile', 'twitter-bootstrap', 'web-services',\n",
       "       'rest', 'testing', 'selenium', 'android-studio', 'redis',\n",
       "       'jenkins', 'docker', 'amazon-web-services', 'angular', 'osx',\n",
       "       'machine-learning', 'qt', 'windows', 'ubuntu', 'ionic-framework',\n",
       "       'elasticsearch', 'vue.js', 'r', 'embedded', 'go', 'visual-studio',\n",
       "       'postgresql', 'sql', 'unix', 'eclipse', 'vb.net', 'unity3d',\n",
       "       'devops', 'drupal', 'shell', 'bootstrap', 'xamarin', 'azure',\n",
       "       'mvc', 'haskell', 'api', 'twitter-bootstrap-3', 'regex', 'perl',\n",
       "       'cloud', 'photoshop', 'powershell', 'matlab'], dtype=object)"
      ]
     },
     "execution_count": 9,
     "metadata": {},
     "output_type": "execute_result"
    }
   ],
   "source": [
    "df_nodes['name'].unique()"
   ]
  },
  {
   "cell_type": "code",
   "execution_count": 10,
   "metadata": {},
   "outputs": [
    {
     "data": {
      "text/plain": [
       "array([ 6,  8,  3,  4,  1,  2, 10,  5, 14,  7, 12, 11,  9, 13],\n",
       "      dtype=int64)"
      ]
     },
     "execution_count": 10,
     "metadata": {},
     "output_type": "execute_result"
    }
   ],
   "source": [
    "df_nodes['group'].unique()"
   ]
  },
  {
   "cell_type": "code",
   "execution_count": 11,
   "metadata": {},
   "outputs": [
    {
     "data": {
      "text/plain": [
       "array(['.net', 'agile', 'ajax', 'amazon-web-services', 'android',\n",
       "       'android-studio', 'angular', 'angular2', 'angularjs', 'apache',\n",
       "       'apache-spark', 'api', 'asp.net', 'asp.net-web-api', 'azure',\n",
       "       'bash', 'bootstrap', 'c', 'c#', 'c++', 'cloud', 'codeigniter',\n",
       "       'css', 'devops', 'django', 'docker', 'drupal', 'eclipse',\n",
       "       'elasticsearch', 'embedded', 'entity-framework', 'excel',\n",
       "       'excel-vba', 'express', 'flask', 'git', 'github', 'go', 'hadoop',\n",
       "       'haskell', 'hibernate', 'html', 'html5', 'ionic-framework', 'ios',\n",
       "       'iphone', 'java', 'java-ee', 'javascript', 'jenkins', 'jquery',\n",
       "       'json', 'jsp', 'laravel', 'less', 'linq', 'linux',\n",
       "       'machine-learning', 'matlab', 'maven', 'mongodb', 'mvc', 'mysql',\n",
       "       'nginx', 'node.js', 'objective-c', 'oracle', 'osx', 'perl',\n",
       "       'photoshop', 'php', 'plsql', 'postgresql', 'powershell', 'python',\n",
       "       'qt', 'r', 'react-native', 'reactjs', 'redis', 'redux', 'regex',\n",
       "       'rest', 'ruby', 'ruby-on-rails', 'sass', 'scala', 'selenium',\n",
       "       'shell', 'spring', 'spring-boot', 'spring-mvc', 'sql',\n",
       "       'sql-server', 'swift', 'tdd', 'testing', 'twitter-bootstrap',\n",
       "       'twitter-bootstrap-3', 'typescript', 'ubuntu', 'unity3d', 'unix',\n",
       "       'vb.net', 'vba', 'visual-studio', 'vue.js', 'wcf', 'web-services',\n",
       "       'windows', 'wordpress', 'wpf', 'xamarin', 'xcode', 'xml'],\n",
       "      dtype=object)"
      ]
     },
     "execution_count": 11,
     "metadata": {},
     "output_type": "execute_result"
    }
   ],
   "source": [
    "df_edges['target'].unique()"
   ]
  },
  {
   "cell_type": "code",
   "execution_count": 18,
   "metadata": {},
   "outputs": [],
   "source": [
    "for index,row in df_nodes.iterrows():\n",
    "    G.add_node(row['name'],group=row['group'],nodesize=row['nodesize'])"
   ]
  },
  {
   "cell_type": "code",
   "execution_count": 19,
   "metadata": {},
   "outputs": [],
   "source": [
    "for index,row in df_edges.iterrows():\n",
    "    G.add_node(row['source'],group=row['target'],nodesize=row['value'])"
   ]
  },
  {
   "cell_type": "code",
   "execution_count": 20,
   "metadata": {},
   "outputs": [],
   "source": [
    "color_map = {1:'#f09494', 2:'#eebcbc', 3:'#72bbd0', 4:'#91f0a1', 5:'#629fff', 6:'#bcc2f2',  \n",
    "             7:'#eebcbc', 8:'#f1f0c0', 9:'#d2ffe7', 10:'#caf3a6', 11:'#ffdf55', 12:'#ef77aa', \n",
    "             13:'#d6dcff', 14:'#d2f5f0'} "
   ]
  },
  {
   "cell_type": "code",
   "execution_count": null,
   "metadata": {},
   "outputs": [],
   "source": []
  },
  {
   "cell_type": "code",
   "execution_count": null,
   "metadata": {},
   "outputs": [],
   "source": []
  },
  {
   "cell_type": "code",
   "execution_count": null,
   "metadata": {},
   "outputs": [],
   "source": []
  },
  {
   "cell_type": "code",
   "execution_count": null,
   "metadata": {},
   "outputs": [],
   "source": []
  },
  {
   "cell_type": "code",
   "execution_count": null,
   "metadata": {},
   "outputs": [],
   "source": []
  },
  {
   "cell_type": "code",
   "execution_count": null,
   "metadata": {},
   "outputs": [],
   "source": []
  },
  {
   "cell_type": "code",
   "execution_count": null,
   "metadata": {},
   "outputs": [],
   "source": []
  },
  {
   "cell_type": "code",
   "execution_count": null,
   "metadata": {},
   "outputs": [],
   "source": []
  },
  {
   "cell_type": "code",
   "execution_count": null,
   "metadata": {},
   "outputs": [],
   "source": []
  },
  {
   "cell_type": "code",
   "execution_count": null,
   "metadata": {},
   "outputs": [],
   "source": []
  },
  {
   "cell_type": "code",
   "execution_count": null,
   "metadata": {},
   "outputs": [],
   "source": []
  },
  {
   "cell_type": "code",
   "execution_count": null,
   "metadata": {},
   "outputs": [],
   "source": []
  },
  {
   "cell_type": "code",
   "execution_count": null,
   "metadata": {},
   "outputs": [],
   "source": []
  },
  {
   "cell_type": "code",
   "execution_count": null,
   "metadata": {},
   "outputs": [],
   "source": []
  },
  {
   "cell_type": "code",
   "execution_count": null,
   "metadata": {},
   "outputs": [],
   "source": []
  },
  {
   "cell_type": "code",
   "execution_count": null,
   "metadata": {},
   "outputs": [],
   "source": []
  },
  {
   "cell_type": "code",
   "execution_count": null,
   "metadata": {},
   "outputs": [],
   "source": []
  },
  {
   "cell_type": "code",
   "execution_count": null,
   "metadata": {},
   "outputs": [],
   "source": []
  },
  {
   "cell_type": "code",
   "execution_count": null,
   "metadata": {},
   "outputs": [],
   "source": []
  },
  {
   "cell_type": "code",
   "execution_count": null,
   "metadata": {},
   "outputs": [],
   "source": []
  },
  {
   "cell_type": "code",
   "execution_count": null,
   "metadata": {},
   "outputs": [],
   "source": []
  },
  {
   "cell_type": "code",
   "execution_count": null,
   "metadata": {},
   "outputs": [],
   "source": []
  },
  {
   "cell_type": "code",
   "execution_count": null,
   "metadata": {},
   "outputs": [],
   "source": []
  },
  {
   "cell_type": "code",
   "execution_count": null,
   "metadata": {},
   "outputs": [],
   "source": []
  },
  {
   "cell_type": "code",
   "execution_count": null,
   "metadata": {},
   "outputs": [],
   "source": []
  },
  {
   "cell_type": "code",
   "execution_count": null,
   "metadata": {},
   "outputs": [],
   "source": []
  },
  {
   "cell_type": "code",
   "execution_count": null,
   "metadata": {},
   "outputs": [],
   "source": []
  },
  {
   "cell_type": "code",
   "execution_count": null,
   "metadata": {},
   "outputs": [],
   "source": []
  },
  {
   "cell_type": "code",
   "execution_count": null,
   "metadata": {},
   "outputs": [],
   "source": []
  },
  {
   "cell_type": "code",
   "execution_count": null,
   "metadata": {},
   "outputs": [],
   "source": []
  },
  {
   "cell_type": "code",
   "execution_count": null,
   "metadata": {},
   "outputs": [],
   "source": []
  },
  {
   "cell_type": "code",
   "execution_count": null,
   "metadata": {},
   "outputs": [],
   "source": []
  },
  {
   "cell_type": "code",
   "execution_count": null,
   "metadata": {},
   "outputs": [],
   "source": []
  }
 ],
 "metadata": {
  "kernelspec": {
   "display_name": "Python 3",
   "language": "python",
   "name": "python3"
  },
  "language_info": {
   "codemirror_mode": {
    "name": "ipython",
    "version": 3
   },
   "file_extension": ".py",
   "mimetype": "text/x-python",
   "name": "python",
   "nbconvert_exporter": "python",
   "pygments_lexer": "ipython3",
   "version": "3.7.7"
  }
 },
 "nbformat": 4,
 "nbformat_minor": 4
}
