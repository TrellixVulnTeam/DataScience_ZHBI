{
 "cells": [
  {
   "cell_type": "code",
   "execution_count": 137,
   "metadata": {},
   "outputs": [],
   "source": [
    "import numpy as np\n",
    "from sklearn import datasets\n",
    "import matplotlib.pyplot as pl\n",
    "from sklearn.model_selection import train_test_split\n",
    "import mglearn"
   ]
  },
  {
   "cell_type": "code",
   "execution_count": 34,
   "metadata": {},
   "outputs": [],
   "source": [
    "class SVM:\n",
    "    def __init__(self,lr=0.001,lambda_par=0.01,epoch=1000):\n",
    "        self.lr=lr\n",
    "        self.lambda_par=lambda_par\n",
    "        self.epoch=epoch\n",
    "        self.w=None\n",
    "        self.b=None\n",
    "    def fit(self,X,y):\n",
    "        y_=np.where(y<=0,-1,1)\n",
    "        n_samples,n_features=X.shape\n",
    "        self.w=np.zeros(n_features)\n",
    "        self.b=0\n",
    "        \n",
    "        for _ in range(self.epoch):\n",
    "            for index,x_i in enumerate(X):\n",
    "                condition=y_[index]*(np.dot(x_i,self.w)-self.b)\n",
    "                if condition >=1:\n",
    "                    self.w-=self.lr*(2*self.lambda_par*self.w)\n",
    "                else:\n",
    "                    self.w-=self.lr*(2*self.lambda_par*self.w-np.dot(x_i,y_[index]))\n",
    "                    self.b-=self.lr*(y_[index])\n",
    "    \n",
    "    def Predict(self,X):\n",
    "        output=np.dot(X,self.w)-self.b\n",
    "        return output"
   ]
  },
  {
   "cell_type": "code",
   "execution_count": 156,
   "metadata": {},
   "outputs": [
    {
     "name": "stdout",
     "output_type": "stream",
     "text": [
      "[-0.86720721 -1.39754934  1.35801607 -1.45910153 -1.33176566  1.41125641\n",
      "  0.96202464 -1.27877469 -1.28155666 -1.13002117 -1.45892185 -1.35154224\n",
      "  1.45765284 -1.16200229  1.32760482 -1.69625296  1.54577623  1.24197608\n",
      "  1.42993206  1.24642543  1.72167777  1.54592966 -1.52336076  1.35107017\n",
      " -1.79780673 -1.21282839  1.4999211   1.16100443 -1.74341662 -1.53543759]\n"
     ]
    },
    {
     "data": {
      "image/png": "[encoded data removed]",
      "text/plain": [
       "<Figure size 432x288 with 1 Axes>"
      ]
     },
     "metadata": {
      "needs_background": "light"
     },
     "output_type": "display_data"
    }
   ],
   "source": [
    "X,y=datasets.make_blobs(n_samples=100,n_features=2,centers=2,\n",
    "                       cluster_std=1.05)\n",
    "X_train,X_test,y_train,y_test=train_test_split(X,y,random_state=0,test_size=0.3)\n",
    "y=np.where(y==0,-1,1)\n",
    "clf=SVM()\n",
    "clf.fit(X_train,y_train)\n",
    "visualize()\n",
    "clf.w,clf.b\n",
    "pr=clf.Predict(X_test)\n",
    "print(pr)"
   ]
  },
  {
   "cell_type": "code",
   "execution_count": 114,
   "metadata": {},
   "outputs": [],
   "source": [
    "def visualize():\n",
    "    def get_hyperplane(x,w,b,offset):\n",
    "        return(-w[0]*x+b+offset)/w[1]\n",
    "    fig=pl.figure()\n",
    "    ax=fig.add_subplot(1,1,1)\n",
    "    \n",
    "    x0_1=np.amin(X[:,0])\n",
    "    x0_2=np.amax(X[:,0])\n",
    "    \n",
    "    x1_1=get_hyperplane(x0_1,clf.w,clf.b,0)\n",
    "    x1_2=get_hyperplane(x0_2,clf.w,clf.b,0)\n",
    "    \n",
    "    x1_1_m=get_hyperplane(x0_1,clf.w,clf.b,-1)\n",
    "    x1_2_m=get_hyperplane(x0_2,clf.w,clf.b,-1)\n",
    "    \n",
    "    x1_1_p=get_hyperplane(x0_1,clf.w,clf.b,1)\n",
    "    x1_2_p=get_hyperplane(x0_2,clf.w,clf.b,1)\n",
    "    pl.scatter(X[:,0],X[:,1],marker='o',c=y)\n",
    "    ax.plot([x0_1,x0_2],[x1_1,x1_2],'y--')\n",
    "    ax.plot([x0_1,x0_2],[x1_1_m,x1_2_m],'k')\n",
    "    ax.plot([x0_1,x0_2],[x1_1_p,x1_2_p],'k')\n",
    "    \n",
    "    x1_min=np.amin(X[:,1])\n",
    "    x1_max=np.amax(X[:,1])\n",
    "    ax.set_ylim(x1_min-3,x1_max+3)"
   ]
  },
  {
   "cell_type": "code",
   "execution_count": null,
   "metadata": {},
   "outputs": [],
   "source": []
  },
  {
   "cell_type": "code",
   "execution_count": null,
   "metadata": {},
   "outputs": [],
   "source": []
  },
  {
   "cell_type": "code",
   "execution_count": null,
   "metadata": {},
   "outputs": [],
   "source": []
  },
  {
   "cell_type": "code",
   "execution_count": null,
   "metadata": {},
   "outputs": [],
   "source": []
  },
  {
   "cell_type": "code",
   "execution_count": 61,
   "metadata": {},
   "outputs": [],
   "source": []
  },
  {
   "cell_type": "code",
   "execution_count": null,
   "metadata": {},
   "outputs": [],
   "source": []
  },
  {
   "cell_type": "code",
   "execution_count": null,
   "metadata": {},
   "outputs": [],
   "source": []
  },
  {
   "cell_type": "code",
   "execution_count": null,
   "metadata": {},
   "outputs": [],
   "source": []
  },
  {
   "cell_type": "code",
   "execution_count": null,
   "metadata": {},
   "outputs": [],
   "source": []
  }
 ],
 "metadata": {
  "kernelspec": {
   "display_name": "Python 3",
   "language": "python",
   "name": "python3"
  },
  "language_info": {
   "codemirror_mode": {
    "name": "ipython",
    "version": 3
   },
   "file_extension": ".py",
   "mimetype": "text/x-python",
   "name": "python",
   "nbconvert_exporter": "python",
   "pygments_lexer": "ipython3",
   "version": "3.7.7"
  }
 },
 "nbformat": 4,
 "nbformat_minor": 4
}
