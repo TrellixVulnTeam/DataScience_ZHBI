{
 "cells": [
  {
   "cell_type": "markdown",
   "metadata": {},
   "source": [
    "Context\n",
    "It's importante to assemble, analyse, monitor and improve the data visualization and exploration, making it easier to undertand to apply in real problems solutions.\n",
    "In this data set we have access to the import data (quantity and value), exports and production of fertilizers separated by their main composition, over the years.\n",
    "\n",
    "Content\n",
    "The Fertilizers by Product dataset contains information on product amounts for the Production, Trade, Agriculture Use and Other Uses of chemical and mineral fertilizers products, over the time series 2002-present. The fertilizer statistics data are validated separately for a set of over thirty individual products. Both straight and compound fertilizers are included. Detailed information on Fertilizers by Product Methodology at: Link\n",
    "\n",
    "If FAO is to carry out its work successfully it will need to know where and why hunger and malnutrition exist, what forms they take, and how widespread they are. Such data will serve as a basis for making plans, determining the efficacy of measures used, and measuring progress from time to time.\n",
    "\n",
    "Flags Column\n",
    "\n",
    "A - Aggregate; may include official; semi-official; estimated or calculated data;\n",
    "E - Expert sources from FAO (including other divisions);\n",
    "Fb - Data obtained as a balance;\n",
    "Fm - Manual Estimation;\n",
    "P - Provisional official data;\n",
    "Qm - Official data from questionnaires and/or national sources and/or COMTRADE (reporters);\n",
    "R - Estimated data using trading partners database;\n",
    "W - Data reported on country official publications or web sites (Official) or trade country files;\n",
    "Acknowledgements\n",
    "Food and Agriculture Organization of the United Nations (FAO), Statistics Division (ESS), Environment Statistics team, Francesco Nicola Tubiello.\n",
    "\n",
    "Inspiration\n",
    "How is the import and export relationship of each type of fertilizer in your country over the years?"
   ]
  },
  {
   "cell_type": "markdown",
   "metadata": {},
   "source": [
    "# TASK:"
   ]
  },
  {
   "cell_type": "markdown",
   "metadata": {},
   "source": [
    "Task Details\n",
    "Fertilizers are used daily by farmers and families to help crops and gardens grow. Whether for a small garden of flowers and plants, or a large farm with thousands of acres of crops, a wide range of fertilizers have been developed to help different crops grow in different soil and weather conditions.\n",
    "\n",
    "Chemical ingredients help create fertilizers that promote plant growth and are cost effective, too. Commercial and consumer fertilizers are strictly regulated by both individual states and the federal government to ensure that they are safe for the people who use them, people nearby, and the surrounding environment.\n",
    "\n",
    "So how is fertilizer being used in your country?\n",
    "\n",
    "Expected Submission\n",
    "What is the most used fertilizer in your country over the years?\n",
    "What is the most produced in your country and how is the export?\n",
    "What is the best and worst rate of import and export (that is, ratio of imported and exported product) in your country over the years?\n",
    "\n",
    "Evaluation\n",
    "Is data visualization the most suitable? Did you achieve the goal? What can you take from the analysis of the results?"
   ]
  },
  {
   "cell_type": "code",
   "execution_count": 1,
   "metadata": {},
   "outputs": [],
   "source": [
    "import pandas as pd\n",
    "import numpy as np\n",
    "import matplotlib.pyplot as pl\n",
    "import seaborn as sns\n",
    "import warnings\n",
    "warnings.filterwarnings('ignore')\n",
    "pl.rcParams['figure.figsize']=8,6"
   ]
  },
  {
   "cell_type": "code",
   "execution_count": 4,
   "metadata": {},
   "outputs": [],
   "source": [
    "data=pd.read_csv('FertilizersProduct.csv',encoding='latin')"
   ]
  },
  {
   "cell_type": "code",
   "execution_count": 6,
   "metadata": {},
   "outputs": [
    {
     "data": {
      "text/plain": [
       "(164468, 11)"
      ]
     },
     "execution_count": 6,
     "metadata": {},
     "output_type": "execute_result"
    }
   ],
   "source": [
    "data.shape"
   ]
  },
  {
   "cell_type": "code",
   "execution_count": 7,
   "metadata": {},
   "outputs": [
    {
     "data": {
      "text/html": [
       "<div>\n",
       "<style scoped>\n",
       "    .dataframe tbody tr th:only-of-type {\n",
       "        vertical-align: middle;\n",
       "    }\n",
       "\n",
       "    .dataframe tbody tr th {\n",
       "        vertical-align: top;\n",
       "    }\n",
       "\n",
       "    .dataframe thead th {\n",
       "        text-align: right;\n",
       "    }\n",
       "</style>\n",
       "<table border=\"1\" class=\"dataframe\">\n",
       "  <thead>\n",
       "    <tr style=\"text-align: right;\">\n",
       "      <th></th>\n",
       "      <th>Area Code</th>\n",
       "      <th>Area</th>\n",
       "      <th>Item Code</th>\n",
       "      <th>Item</th>\n",
       "      <th>Element Code</th>\n",
       "      <th>Element</th>\n",
       "      <th>Year Code</th>\n",
       "      <th>Year</th>\n",
       "      <th>Unit</th>\n",
       "      <th>Value</th>\n",
       "      <th>Flag</th>\n",
       "    </tr>\n",
       "  </thead>\n",
       "  <tbody>\n",
       "    <tr>\n",
       "      <th>0</th>\n",
       "      <td>2</td>\n",
       "      <td>Afghanistan</td>\n",
       "      <td>4007</td>\n",
       "      <td>Ammonia, anhydrous</td>\n",
       "      <td>5610</td>\n",
       "      <td>Import Quantity</td>\n",
       "      <td>2011</td>\n",
       "      <td>2011</td>\n",
       "      <td>tonnes</td>\n",
       "      <td>4.49</td>\n",
       "      <td>R</td>\n",
       "    </tr>\n",
       "    <tr>\n",
       "      <th>1</th>\n",
       "      <td>2</td>\n",
       "      <td>Afghanistan</td>\n",
       "      <td>4007</td>\n",
       "      <td>Ammonia, anhydrous</td>\n",
       "      <td>5610</td>\n",
       "      <td>Import Quantity</td>\n",
       "      <td>2014</td>\n",
       "      <td>2014</td>\n",
       "      <td>tonnes</td>\n",
       "      <td>2.00</td>\n",
       "      <td>R</td>\n",
       "    </tr>\n",
       "    <tr>\n",
       "      <th>2</th>\n",
       "      <td>2</td>\n",
       "      <td>Afghanistan</td>\n",
       "      <td>4007</td>\n",
       "      <td>Ammonia, anhydrous</td>\n",
       "      <td>5610</td>\n",
       "      <td>Import Quantity</td>\n",
       "      <td>2017</td>\n",
       "      <td>2017</td>\n",
       "      <td>tonnes</td>\n",
       "      <td>2.07</td>\n",
       "      <td>R</td>\n",
       "    </tr>\n",
       "    <tr>\n",
       "      <th>3</th>\n",
       "      <td>2</td>\n",
       "      <td>Afghanistan</td>\n",
       "      <td>4007</td>\n",
       "      <td>Ammonia, anhydrous</td>\n",
       "      <td>5622</td>\n",
       "      <td>Import Value</td>\n",
       "      <td>2011</td>\n",
       "      <td>2011</td>\n",
       "      <td>1000 US$</td>\n",
       "      <td>2.69</td>\n",
       "      <td>R</td>\n",
       "    </tr>\n",
       "    <tr>\n",
       "      <th>4</th>\n",
       "      <td>2</td>\n",
       "      <td>Afghanistan</td>\n",
       "      <td>4007</td>\n",
       "      <td>Ammonia, anhydrous</td>\n",
       "      <td>5622</td>\n",
       "      <td>Import Value</td>\n",
       "      <td>2014</td>\n",
       "      <td>2014</td>\n",
       "      <td>1000 US$</td>\n",
       "      <td>1.07</td>\n",
       "      <td>R</td>\n",
       "    </tr>\n",
       "  </tbody>\n",
       "</table>\n",
       "</div>"
      ],
      "text/plain": [
       "   Area Code         Area  Item Code                Item  Element Code  \\\n",
       "0          2  Afghanistan       4007  Ammonia, anhydrous          5610   \n",
       "1          2  Afghanistan       4007  Ammonia, anhydrous          5610   \n",
       "2          2  Afghanistan       4007  Ammonia, anhydrous          5610   \n",
       "3          2  Afghanistan       4007  Ammonia, anhydrous          5622   \n",
       "4          2  Afghanistan       4007  Ammonia, anhydrous          5622   \n",
       "\n",
       "           Element  Year Code  Year      Unit  Value Flag  \n",
       "0  Import Quantity       2011  2011    tonnes   4.49    R  \n",
       "1  Import Quantity       2014  2014    tonnes   2.00    R  \n",
       "2  Import Quantity       2017  2017    tonnes   2.07    R  \n",
       "3     Import Value       2011  2011  1000 US$   2.69    R  \n",
       "4     Import Value       2014  2014  1000 US$   1.07    R  "
      ]
     },
     "execution_count": 7,
     "metadata": {},
     "output_type": "execute_result"
    }
   ],
   "source": [
    "data.head()"
   ]
  },
  {
   "cell_type": "code",
   "execution_count": 9,
   "metadata": {},
   "outputs": [
    {
     "data": {
      "text/plain": [
       "<matplotlib.axes._subplots.AxesSubplot at 0x24f9db34808>"
      ]
     },
     "execution_count": 9,
     "metadata": {},
     "output_type": "execute_result"
    },
    {
     "data": {
      "image/png": "[encoded data removed]",
      "text/plain": [
       "<Figure size 576x432 with 2 Axes>"
      ]
     },
     "metadata": {
      "needs_background": "light"
     },
     "output_type": "display_data"
    }
   ],
   "source": [
    "sns.heatmap(data.isnull())"
   ]
  },
  {
   "cell_type": "code",
   "execution_count": 11,
   "metadata": {},
   "outputs": [
    {
     "data": {
      "text/html": [
       "<div>\n",
       "<style scoped>\n",
       "    .dataframe tbody tr th:only-of-type {\n",
       "        vertical-align: middle;\n",
       "    }\n",
       "\n",
       "    .dataframe tbody tr th {\n",
       "        vertical-align: top;\n",
       "    }\n",
       "\n",
       "    .dataframe thead th {\n",
       "        text-align: right;\n",
       "    }\n",
       "</style>\n",
       "<table border=\"1\" class=\"dataframe\">\n",
       "  <thead>\n",
       "    <tr style=\"text-align: right;\">\n",
       "      <th></th>\n",
       "      <th>Area Code</th>\n",
       "      <th>Item Code</th>\n",
       "      <th>Element Code</th>\n",
       "      <th>Year Code</th>\n",
       "      <th>Year</th>\n",
       "      <th>Value</th>\n",
       "    </tr>\n",
       "  </thead>\n",
       "  <tbody>\n",
       "    <tr>\n",
       "      <th>count</th>\n",
       "      <td>164468.000000</td>\n",
       "      <td>164468.000000</td>\n",
       "      <td>164468.000000</td>\n",
       "      <td>164468.000000</td>\n",
       "      <td>164468.000000</td>\n",
       "      <td>1.644680e+05</td>\n",
       "    </tr>\n",
       "    <tr>\n",
       "      <th>mean</th>\n",
       "      <td>129.207493</td>\n",
       "      <td>4014.222098</td>\n",
       "      <td>5663.300387</td>\n",
       "      <td>2009.734125</td>\n",
       "      <td>2009.734125</td>\n",
       "      <td>9.460314e+04</td>\n",
       "    </tr>\n",
       "    <tr>\n",
       "      <th>std</th>\n",
       "      <td>73.530215</td>\n",
       "      <td>9.014672</td>\n",
       "      <td>211.588558</td>\n",
       "      <td>4.542937</td>\n",
       "      <td>4.542937</td>\n",
       "      <td>6.910195e+05</td>\n",
       "    </tr>\n",
       "    <tr>\n",
       "      <th>min</th>\n",
       "      <td>1.000000</td>\n",
       "      <td>4001.000000</td>\n",
       "      <td>5157.000000</td>\n",
       "      <td>2002.000000</td>\n",
       "      <td>2002.000000</td>\n",
       "      <td>-1.043000e+03</td>\n",
       "    </tr>\n",
       "    <tr>\n",
       "      <th>25%</th>\n",
       "      <td>66.000000</td>\n",
       "      <td>4006.000000</td>\n",
       "      <td>5610.000000</td>\n",
       "      <td>2006.000000</td>\n",
       "      <td>2006.000000</td>\n",
       "      <td>4.553000e+01</td>\n",
       "    </tr>\n",
       "    <tr>\n",
       "      <th>50%</th>\n",
       "      <td>126.000000</td>\n",
       "      <td>4014.000000</td>\n",
       "      <td>5622.000000</td>\n",
       "      <td>2010.000000</td>\n",
       "      <td>2010.000000</td>\n",
       "      <td>9.891650e+02</td>\n",
       "    </tr>\n",
       "    <tr>\n",
       "      <th>75%</th>\n",
       "      <td>196.000000</td>\n",
       "      <td>4022.000000</td>\n",
       "      <td>5910.000000</td>\n",
       "      <td>2014.000000</td>\n",
       "      <td>2014.000000</td>\n",
       "      <td>1.502811e+04</td>\n",
       "    </tr>\n",
       "    <tr>\n",
       "      <th>max</th>\n",
       "      <td>276.000000</td>\n",
       "      <td>4030.000000</td>\n",
       "      <td>5922.000000</td>\n",
       "      <td>2017.000000</td>\n",
       "      <td>2017.000000</td>\n",
       "      <td>4.904667e+07</td>\n",
       "    </tr>\n",
       "  </tbody>\n",
       "</table>\n",
       "</div>"
      ],
      "text/plain": [
       "           Area Code      Item Code   Element Code      Year Code  \\\n",
       "count  164468.000000  164468.000000  164468.000000  164468.000000   \n",
       "mean      129.207493    4014.222098    5663.300387    2009.734125   \n",
       "std        73.530215       9.014672     211.588558       4.542937   \n",
       "min         1.000000    4001.000000    5157.000000    2002.000000   \n",
       "25%        66.000000    4006.000000    5610.000000    2006.000000   \n",
       "50%       126.000000    4014.000000    5622.000000    2010.000000   \n",
       "75%       196.000000    4022.000000    5910.000000    2014.000000   \n",
       "max       276.000000    4030.000000    5922.000000    2017.000000   \n",
       "\n",
       "                Year         Value  \n",
       "count  164468.000000  1.644680e+05  \n",
       "mean     2009.734125  9.460314e+04  \n",
       "std         4.542937  6.910195e+05  \n",
       "min      2002.000000 -1.043000e+03  \n",
       "25%      2006.000000  4.553000e+01  \n",
       "50%      2010.000000  9.891650e+02  \n",
       "75%      2014.000000  1.502811e+04  \n",
       "max      2017.000000  4.904667e+07  "
      ]
     },
     "execution_count": 11,
     "metadata": {},
     "output_type": "execute_result"
    }
   ],
   "source": [
    "data.describe()"
   ]
  },
  {
   "cell_type": "code",
   "execution_count": 15,
   "metadata": {},
   "outputs": [
    {
     "data": {
      "text/plain": [
       "[<matplotlib.lines.Line2D at 0x24f9d889d88>]"
      ]
     },
     "execution_count": 15,
     "metadata": {},
     "output_type": "execute_result"
    },
    {
     "data": {
      "image/png": "[encoded data removed]",
      "text/plain": [
       "<Figure size 576x432 with 1 Axes>"
      ]
     },
     "metadata": {
      "needs_background": "light"
     },
     "output_type": "display_data"
    }
   ],
   "source": [
    "pl.plot(data['Value'])"
   ]
  },
  {
   "cell_type": "code",
   "execution_count": 19,
   "metadata": {},
   "outputs": [
    {
     "data": {
      "text/plain": [
       "23"
      ]
     },
     "execution_count": 19,
     "metadata": {},
     "output_type": "execute_result"
    }
   ],
   "source": [
    "np.argmax(np.unique(data['Area'],return_counts=True)[1])"
   ]
  },
  {
   "cell_type": "code",
   "execution_count": 21,
   "metadata": {},
   "outputs": [
    {
     "data": {
      "text/plain": [
       "'Brazil'"
      ]
     },
     "execution_count": 21,
     "metadata": {},
     "output_type": "execute_result"
    }
   ],
   "source": [
    "np.unique(data['Area'],return_counts=True)[0][23]"
   ]
  },
  {
   "cell_type": "code",
   "execution_count": 33,
   "metadata": {},
   "outputs": [
    {
     "data": {
      "text/html": [
       "<div>\n",
       "<style scoped>\n",
       "    .dataframe tbody tr th:only-of-type {\n",
       "        vertical-align: middle;\n",
       "    }\n",
       "\n",
       "    .dataframe tbody tr th {\n",
       "        vertical-align: top;\n",
       "    }\n",
       "\n",
       "    .dataframe thead th {\n",
       "        text-align: right;\n",
       "    }\n",
       "</style>\n",
       "<table border=\"1\" class=\"dataframe\">\n",
       "  <thead>\n",
       "    <tr style=\"text-align: right;\">\n",
       "      <th></th>\n",
       "      <th>Area Code</th>\n",
       "      <th>Area</th>\n",
       "      <th>Item Code</th>\n",
       "      <th>Item</th>\n",
       "      <th>Element Code</th>\n",
       "      <th>Element</th>\n",
       "      <th>Year Code</th>\n",
       "      <th>Year</th>\n",
       "      <th>Unit</th>\n",
       "      <th>Value</th>\n",
       "      <th>Flag</th>\n",
       "    </tr>\n",
       "  </thead>\n",
       "  <tbody>\n",
       "    <tr>\n",
       "      <th>18575</th>\n",
       "      <td>21</td>\n",
       "      <td>Brazil</td>\n",
       "      <td>4007</td>\n",
       "      <td>Ammonia, anhydrous</td>\n",
       "      <td>5510</td>\n",
       "      <td>Production</td>\n",
       "      <td>2002</td>\n",
       "      <td>2002</td>\n",
       "      <td>tonnes</td>\n",
       "      <td>1248009.0</td>\n",
       "      <td>Qm</td>\n",
       "    </tr>\n",
       "    <tr>\n",
       "      <th>18576</th>\n",
       "      <td>21</td>\n",
       "      <td>Brazil</td>\n",
       "      <td>4007</td>\n",
       "      <td>Ammonia, anhydrous</td>\n",
       "      <td>5510</td>\n",
       "      <td>Production</td>\n",
       "      <td>2003</td>\n",
       "      <td>2003</td>\n",
       "      <td>tonnes</td>\n",
       "      <td>1143059.0</td>\n",
       "      <td>Qm</td>\n",
       "    </tr>\n",
       "    <tr>\n",
       "      <th>18577</th>\n",
       "      <td>21</td>\n",
       "      <td>Brazil</td>\n",
       "      <td>4007</td>\n",
       "      <td>Ammonia, anhydrous</td>\n",
       "      <td>5510</td>\n",
       "      <td>Production</td>\n",
       "      <td>2004</td>\n",
       "      <td>2004</td>\n",
       "      <td>tonnes</td>\n",
       "      <td>1301483.0</td>\n",
       "      <td>Qm</td>\n",
       "    </tr>\n",
       "    <tr>\n",
       "      <th>18578</th>\n",
       "      <td>21</td>\n",
       "      <td>Brazil</td>\n",
       "      <td>4007</td>\n",
       "      <td>Ammonia, anhydrous</td>\n",
       "      <td>5510</td>\n",
       "      <td>Production</td>\n",
       "      <td>2005</td>\n",
       "      <td>2005</td>\n",
       "      <td>tonnes</td>\n",
       "      <td>1301083.0</td>\n",
       "      <td>Qm</td>\n",
       "    </tr>\n",
       "    <tr>\n",
       "      <th>18579</th>\n",
       "      <td>21</td>\n",
       "      <td>Brazil</td>\n",
       "      <td>4007</td>\n",
       "      <td>Ammonia, anhydrous</td>\n",
       "      <td>5510</td>\n",
       "      <td>Production</td>\n",
       "      <td>2006</td>\n",
       "      <td>2006</td>\n",
       "      <td>tonnes</td>\n",
       "      <td>1315421.0</td>\n",
       "      <td>Qm</td>\n",
       "    </tr>\n",
       "    <tr>\n",
       "      <th>...</th>\n",
       "      <td>...</td>\n",
       "      <td>...</td>\n",
       "      <td>...</td>\n",
       "      <td>...</td>\n",
       "      <td>...</td>\n",
       "      <td>...</td>\n",
       "      <td>...</td>\n",
       "      <td>...</td>\n",
       "      <td>...</td>\n",
       "      <td>...</td>\n",
       "      <td>...</td>\n",
       "    </tr>\n",
       "    <tr>\n",
       "      <th>20349</th>\n",
       "      <td>21</td>\n",
       "      <td>Brazil</td>\n",
       "      <td>4006</td>\n",
       "      <td>Urea and ammonium nitrate solutions (UAN)</td>\n",
       "      <td>5157</td>\n",
       "      <td>Agricultural Use</td>\n",
       "      <td>2013</td>\n",
       "      <td>2013</td>\n",
       "      <td>tonnes</td>\n",
       "      <td>0.0</td>\n",
       "      <td>Z</td>\n",
       "    </tr>\n",
       "    <tr>\n",
       "      <th>20350</th>\n",
       "      <td>21</td>\n",
       "      <td>Brazil</td>\n",
       "      <td>4006</td>\n",
       "      <td>Urea and ammonium nitrate solutions (UAN)</td>\n",
       "      <td>5157</td>\n",
       "      <td>Agricultural Use</td>\n",
       "      <td>2014</td>\n",
       "      <td>2014</td>\n",
       "      <td>tonnes</td>\n",
       "      <td>0.0</td>\n",
       "      <td>Qm</td>\n",
       "    </tr>\n",
       "    <tr>\n",
       "      <th>20351</th>\n",
       "      <td>21</td>\n",
       "      <td>Brazil</td>\n",
       "      <td>4006</td>\n",
       "      <td>Urea and ammonium nitrate solutions (UAN)</td>\n",
       "      <td>5157</td>\n",
       "      <td>Agricultural Use</td>\n",
       "      <td>2015</td>\n",
       "      <td>2015</td>\n",
       "      <td>tonnes</td>\n",
       "      <td>0.0</td>\n",
       "      <td>Qm</td>\n",
       "    </tr>\n",
       "    <tr>\n",
       "      <th>20352</th>\n",
       "      <td>21</td>\n",
       "      <td>Brazil</td>\n",
       "      <td>4006</td>\n",
       "      <td>Urea and ammonium nitrate solutions (UAN)</td>\n",
       "      <td>5157</td>\n",
       "      <td>Agricultural Use</td>\n",
       "      <td>2016</td>\n",
       "      <td>2016</td>\n",
       "      <td>tonnes</td>\n",
       "      <td>0.0</td>\n",
       "      <td>Qm</td>\n",
       "    </tr>\n",
       "    <tr>\n",
       "      <th>20353</th>\n",
       "      <td>21</td>\n",
       "      <td>Brazil</td>\n",
       "      <td>4006</td>\n",
       "      <td>Urea and ammonium nitrate solutions (UAN)</td>\n",
       "      <td>5157</td>\n",
       "      <td>Agricultural Use</td>\n",
       "      <td>2017</td>\n",
       "      <td>2017</td>\n",
       "      <td>tonnes</td>\n",
       "      <td>0.0</td>\n",
       "      <td>Qm</td>\n",
       "    </tr>\n",
       "  </tbody>\n",
       "</table>\n",
       "<p>1779 rows × 11 columns</p>\n",
       "</div>"
      ],
      "text/plain": [
       "       Area Code    Area  Item Code  \\\n",
       "18575         21  Brazil       4007   \n",
       "18576         21  Brazil       4007   \n",
       "18577         21  Brazil       4007   \n",
       "18578         21  Brazil       4007   \n",
       "18579         21  Brazil       4007   \n",
       "...          ...     ...        ...   \n",
       "20349         21  Brazil       4006   \n",
       "20350         21  Brazil       4006   \n",
       "20351         21  Brazil       4006   \n",
       "20352         21  Brazil       4006   \n",
       "20353         21  Brazil       4006   \n",
       "\n",
       "                                            Item  Element Code  \\\n",
       "18575                         Ammonia, anhydrous          5510   \n",
       "18576                         Ammonia, anhydrous          5510   \n",
       "18577                         Ammonia, anhydrous          5510   \n",
       "18578                         Ammonia, anhydrous          5510   \n",
       "18579                         Ammonia, anhydrous          5510   \n",
       "...                                          ...           ...   \n",
       "20349  Urea and ammonium nitrate solutions (UAN)          5157   \n",
       "20350  Urea and ammonium nitrate solutions (UAN)          5157   \n",
       "20351  Urea and ammonium nitrate solutions (UAN)          5157   \n",
       "20352  Urea and ammonium nitrate solutions (UAN)          5157   \n",
       "20353  Urea and ammonium nitrate solutions (UAN)          5157   \n",
       "\n",
       "                Element  Year Code  Year    Unit      Value Flag  \n",
       "18575        Production       2002  2002  tonnes  1248009.0   Qm  \n",
       "18576        Production       2003  2003  tonnes  1143059.0   Qm  \n",
       "18577        Production       2004  2004  tonnes  1301483.0   Qm  \n",
       "18578        Production       2005  2005  tonnes  1301083.0   Qm  \n",
       "18579        Production       2006  2006  tonnes  1315421.0   Qm  \n",
       "...                 ...        ...   ...     ...        ...  ...  \n",
       "20349  Agricultural Use       2013  2013  tonnes        0.0    Z  \n",
       "20350  Agricultural Use       2014  2014  tonnes        0.0   Qm  \n",
       "20351  Agricultural Use       2015  2015  tonnes        0.0   Qm  \n",
       "20352  Agricultural Use       2016  2016  tonnes        0.0   Qm  \n",
       "20353  Agricultural Use       2017  2017  tonnes        0.0   Qm  \n",
       "\n",
       "[1779 rows x 11 columns]"
      ]
     },
     "execution_count": 33,
     "metadata": {},
     "output_type": "execute_result"
    }
   ],
   "source": [
    "data[data['Area']=='Brazil']"
   ]
  },
  {
   "cell_type": "code",
   "execution_count": 70,
   "metadata": {},
   "outputs": [
    {
     "data": {
      "text/plain": [
       "Area\n",
       "Zimbabwe                     937\n",
       "Uganda                       949\n",
       "Bosnia and Herzegovina       952\n",
       "Algeria                      972\n",
       "Malawi                       978\n",
       "                            ... \n",
       "Sweden                      1575\n",
       "United States of America    1592\n",
       "Denmark                     1621\n",
       "Slovenia                    1626\n",
       "Brazil                      1779\n",
       "Name: Area, Length: 91, dtype: int64"
      ]
     },
     "execution_count": 70,
     "metadata": {},
     "output_type": "execute_result"
    }
   ],
   "source": [
    "datas=data.groupby('Area')['Area'].count().sort_values(ascending=True)[80:]\n",
    "datas"
   ]
  },
  {
   "cell_type": "code",
   "execution_count": 72,
   "metadata": {},
   "outputs": [
    {
     "data": {
      "image/png": "[encoded data removed]",
      "text/plain": [
       "<Figure size 1080x720 with 1 Axes>"
      ]
     },
     "metadata": {
      "needs_background": "light"
     },
     "output_type": "display_data"
    }
   ],
   "source": [
    "pl.figure(figsize=(15,10))\n",
    "pl.bar(range(len(datas.keys())),datas.values)\n",
    "pl.xticks(range(len(datas.keys())),datas.keys(),rotation=90)\n",
    "pl.title(\"Countries with maximum counts\")\n",
    "pl.ylabel(\"Counts\")\n",
    "pl.xlabel(\"Countries\")\n",
    "pl.show()"
   ]
  },
  {
   "cell_type": "code",
   "execution_count": 56,
   "metadata": {},
   "outputs": [
    {
     "data": {
      "text/plain": [
       "171"
      ]
     },
     "execution_count": 56,
     "metadata": {},
     "output_type": "execute_result"
    }
   ],
   "source": [
    "len(datas.keys())"
   ]
  },
  {
   "cell_type": "code",
   "execution_count": 122,
   "metadata": {},
   "outputs": [
    {
     "data": {
      "text/html": [
       "<div>\n",
       "<style scoped>\n",
       "    .dataframe tbody tr th:only-of-type {\n",
       "        vertical-align: middle;\n",
       "    }\n",
       "\n",
       "    .dataframe tbody tr th {\n",
       "        vertical-align: top;\n",
       "    }\n",
       "\n",
       "    .dataframe thead th {\n",
       "        text-align: right;\n",
       "    }\n",
       "</style>\n",
       "<table border=\"1\" class=\"dataframe\">\n",
       "  <thead>\n",
       "    <tr style=\"text-align: right;\">\n",
       "      <th></th>\n",
       "      <th>Area Code</th>\n",
       "      <th>Area</th>\n",
       "      <th>Item Code</th>\n",
       "      <th>Item</th>\n",
       "      <th>Element Code</th>\n",
       "      <th>Element</th>\n",
       "      <th>Year Code</th>\n",
       "      <th>Year</th>\n",
       "      <th>Unit</th>\n",
       "      <th>Value</th>\n",
       "      <th>Flag</th>\n",
       "    </tr>\n",
       "  </thead>\n",
       "  <tbody>\n",
       "    <tr>\n",
       "      <th>18575</th>\n",
       "      <td>21</td>\n",
       "      <td>Brazil</td>\n",
       "      <td>4007</td>\n",
       "      <td>Ammonia, anhydrous</td>\n",
       "      <td>5510</td>\n",
       "      <td>Production</td>\n",
       "      <td>2002</td>\n",
       "      <td>2002</td>\n",
       "      <td>tonnes</td>\n",
       "      <td>1248009.0</td>\n",
       "      <td>Qm</td>\n",
       "    </tr>\n",
       "    <tr>\n",
       "      <th>18576</th>\n",
       "      <td>21</td>\n",
       "      <td>Brazil</td>\n",
       "      <td>4007</td>\n",
       "      <td>Ammonia, anhydrous</td>\n",
       "      <td>5510</td>\n",
       "      <td>Production</td>\n",
       "      <td>2003</td>\n",
       "      <td>2003</td>\n",
       "      <td>tonnes</td>\n",
       "      <td>1143059.0</td>\n",
       "      <td>Qm</td>\n",
       "    </tr>\n",
       "    <tr>\n",
       "      <th>18577</th>\n",
       "      <td>21</td>\n",
       "      <td>Brazil</td>\n",
       "      <td>4007</td>\n",
       "      <td>Ammonia, anhydrous</td>\n",
       "      <td>5510</td>\n",
       "      <td>Production</td>\n",
       "      <td>2004</td>\n",
       "      <td>2004</td>\n",
       "      <td>tonnes</td>\n",
       "      <td>1301483.0</td>\n",
       "      <td>Qm</td>\n",
       "    </tr>\n",
       "    <tr>\n",
       "      <th>18578</th>\n",
       "      <td>21</td>\n",
       "      <td>Brazil</td>\n",
       "      <td>4007</td>\n",
       "      <td>Ammonia, anhydrous</td>\n",
       "      <td>5510</td>\n",
       "      <td>Production</td>\n",
       "      <td>2005</td>\n",
       "      <td>2005</td>\n",
       "      <td>tonnes</td>\n",
       "      <td>1301083.0</td>\n",
       "      <td>Qm</td>\n",
       "    </tr>\n",
       "    <tr>\n",
       "      <th>18579</th>\n",
       "      <td>21</td>\n",
       "      <td>Brazil</td>\n",
       "      <td>4007</td>\n",
       "      <td>Ammonia, anhydrous</td>\n",
       "      <td>5510</td>\n",
       "      <td>Production</td>\n",
       "      <td>2006</td>\n",
       "      <td>2006</td>\n",
       "      <td>tonnes</td>\n",
       "      <td>1315421.0</td>\n",
       "      <td>Qm</td>\n",
       "    </tr>\n",
       "  </tbody>\n",
       "</table>\n",
       "</div>"
      ],
      "text/plain": [
       "       Area Code    Area  Item Code                Item  Element Code  \\\n",
       "18575         21  Brazil       4007  Ammonia, anhydrous          5510   \n",
       "18576         21  Brazil       4007  Ammonia, anhydrous          5510   \n",
       "18577         21  Brazil       4007  Ammonia, anhydrous          5510   \n",
       "18578         21  Brazil       4007  Ammonia, anhydrous          5510   \n",
       "18579         21  Brazil       4007  Ammonia, anhydrous          5510   \n",
       "\n",
       "          Element  Year Code  Year    Unit      Value Flag  \n",
       "18575  Production       2002  2002  tonnes  1248009.0   Qm  \n",
       "18576  Production       2003  2003  tonnes  1143059.0   Qm  \n",
       "18577  Production       2004  2004  tonnes  1301483.0   Qm  \n",
       "18578  Production       2005  2005  tonnes  1301083.0   Qm  \n",
       "18579  Production       2006  2006  tonnes  1315421.0   Qm  "
      ]
     },
     "execution_count": 122,
     "metadata": {},
     "output_type": "execute_result"
    }
   ],
   "source": [
    "brazil=data[data['Area']=='Brazil']\n",
    "brazil.head()"
   ]
  },
  {
   "cell_type": "code",
   "execution_count": 87,
   "metadata": {},
   "outputs": [
    {
     "data": {
      "text/plain": [
       "(array(['Agricultural Use', 'Export Quantity', 'Export Value',\n",
       "        'Import Quantity', 'Import Value', 'Production'], dtype=object),\n",
       " array([252, 322, 322, 328, 328, 227], dtype=int64))"
      ]
     },
     "execution_count": 87,
     "metadata": {},
     "output_type": "execute_result"
    }
   ],
   "source": [
    "np.unique(brazil['Element'],return_counts=True)"
   ]
  },
  {
   "cell_type": "code",
   "execution_count": 88,
   "metadata": {},
   "outputs": [
    {
     "data": {
      "text/plain": [
       "[<matplotlib.lines.Line2D at 0x24facadf788>]"
      ]
     },
     "execution_count": 88,
     "metadata": {},
     "output_type": "execute_result"
    },
    {
     "data": {
      "image/png": "[encoded data removed]",
      "text/plain": [
       "<Figure size 576x432 with 1 Axes>"
      ]
     },
     "metadata": {
      "needs_background": "light"
     },
     "output_type": "display_data"
    }
   ],
   "source": [
    "pl.plot(brazil.Value[brazil['Element']=='Import Quantity'])\n",
    "pl.plot(brazil.Value[brazil['Element']=='Export Quantity'])"
   ]
  },
  {
   "cell_type": "code",
   "execution_count": 116,
   "metadata": {},
   "outputs": [
    {
     "data": {
      "image/png": "[encoded data removed]",
      "text/plain": [
       "<Figure size 576x432 with 1 Axes>"
      ]
     },
     "metadata": {
      "needs_background": "light"
     },
     "output_type": "display_data"
    },
    {
     "data": {
      "image/png": "[encoded data removed]",
      "text/plain": [
       "<Figure size 576x432 with 1 Axes>"
      ]
     },
     "metadata": {
      "needs_background": "light"
     },
     "output_type": "display_data"
    }
   ],
   "source": [
    "def plotvalue(df):\n",
    "    import_={}\n",
    "    export_={}\n",
    "    for year in df['Year'].unique():\n",
    "        import_[year]=0\n",
    "        export_[year]=0\n",
    "    \n",
    "    for year,value,element in zip(df['Year'],df['Value'],df['Element']):\n",
    "        if element=='Export Value':\n",
    "            export_[year]+=value\n",
    "        elif element=='Import Value':\n",
    "            import_[year]+=value\n",
    "    \n",
    "    pl.plot(list(import_.keys()),list(import_.values()),label=\"Import\")\n",
    "    pl.plot(list(export_.keys()),list(export_.values()),label=\"Export\")\n",
    "    pl.legend()\n",
    "    pl.title(\"Import vs export Value in Brazil\")\n",
    "    pl.show()\n",
    "\n",
    "\n",
    "def plotquantity(df):\n",
    "    import_={}\n",
    "    export={}\n",
    "    for year in df['Year'].unique():\n",
    "        import_[year]=0\n",
    "        export_[year]=0\n",
    "    for year,value,element in zip(df['Year'],df['Value'],df['Element']):\n",
    "        if element=='Export Quantity':\n",
    "            export_[year]+=value\n",
    "        elif element=='Import Quantity':\n",
    "            import_[year]+=value\n",
    "    pl.plot(list(import_.keys()),list(import_.values()),label=\"Import\")\n",
    "    pl.plot(list(export_.keys()),list(export_.values()),label=\"Export\")\n",
    "    pl.legend()\n",
    "    pl.title(\"Import vs export Value in Brazil\")\n",
    "    pl.show()\n",
    "plotvalue(brazil)\n",
    "plotquantity(brazil)"
   ]
  },
  {
   "cell_type": "code",
   "execution_count": 114,
   "metadata": {},
   "outputs": [
    {
     "data": {
      "text/plain": [
       "{2002: 1319145.2200000002,\n",
       " 2003: 1833469.6099999999,\n",
       " 2004: 2735278.9999999995,\n",
       " 2005: 2414071.0699999994,\n",
       " 2006: 2514057.81,\n",
       " 2007: 4754392.300000001,\n",
       " 2008: 9837663.11,\n",
       " 2009: 4100875.16,\n",
       " 2010: 5222369.62,\n",
       " 2011: 9534401.52,\n",
       " 2012: 9018080.54,\n",
       " 2013: 9279504.92,\n",
       " 2014: 8802357.209999999,\n",
       " 2015: 6950725.580000001,\n",
       " 2016: 6236245.03,\n",
       " 2017: 7495812.84}"
      ]
     },
     "execution_count": 114,
     "metadata": {},
     "output_type": "execute_result"
    }
   ],
   "source": [
    "import_"
   ]
  },
  {
   "cell_type": "code",
   "execution_count": 120,
   "metadata": {},
   "outputs": [],
   "source": [
    "import plotly.express as px\n",
    "from plotly.offline import init_notebook_mode,iplot"
   ]
  },
  {
   "cell_type": "code",
   "execution_count": 153,
   "metadata": {},
   "outputs": [
    {
     "data": {
      "application/vnd.plotly.v1+json": {
       "config": {
        "linkText": "Export to plot.ly",
        "plotlyServerURL": "https://plot.ly",
        "showLink": false
       },
       "data": [
        {
         "alignmentgroup": "True",
         "customdata": [
          [
           2002
          ],
          [
           2003
          ],
          [
           2004
          ],
          [
           2005
          ],
          [
           2006
          ],
          [
           2007
          ],
          [
           2008
          ],
          [
           2009
          ],
          [
           2010
          ],
          [
           2011
          ],
          [
           2012
          ],
          [
           2013
          ],
          [
           2014
          ],
          [
           2015
          ],
          [
           2016
          ],
          [
           2017
          ],
          [
           2002
          ],
          [
           2003
          ],
          [
           2004
          ],
          [
           2005
          ],
          [
           2006
          ],
          [
           2007
          ],
          [
           2008
          ],
          [
           2009
          ],
          [
           2010
          ],
          [
           2011
          ],
          [
           2012
          ],
          [
           2013
          ],
          [
           2014
          ],
          [
           2015
          ],
          [
           2016
          ],
          [
           2017
          ],
          [
           2002
          ],
          [
           2003
          ],
          [
           2004
          ],
          [
           2005
          ],
          [
           2006
          ],
          [
           2007
          ],
          [
           2008
          ],
          [
           2009
          ],
          [
           2010
          ],
          [
           2011
          ],
          [
           2012
          ],
          [
           2013
          ],
          [
           2014
          ],
          [
           2015
          ],
          [
           2016
          ],
          [
           2017
          ],
          [
           2003
          ],
          [
           2004
          ],
          [
           2006
          ],
          [
           2007
          ],
          [
           2008
          ],
          [
           2009
          ],
          [
           2010
          ],
          [
           2011
          ],
          [
           2012
          ],
          [
           2013
          ],
          [
           2014
          ],
          [
           2015
          ],
          [
           2016
          ],
          [
           2017
          ],
          [
           2002
          ],
          [
           2003
          ],
          [
           2004
          ],
          [
           2005
          ],
          [
           2006
          ],
          [
           2007
          ],
          [
           2008
          ],
          [
           2009
          ],
          [
           2010
          ],
          [
           2011
          ],
          [
           2012
          ],
          [
           2013
          ],
          [
           2014
          ],
          [
           2015
          ],
          [
           2016
          ],
          [
           2017
          ],
          [
           2002
          ],
          [
           2003
          ],
          [
           2004
          ],
          [
           2005
          ],
          [
           2006
          ],
          [
           2007
          ],
          [
           2008
          ],
          [
           2009
          ],
          [
           2010
          ],
          [
           2011
          ],
          [
           2012
          ],
          [
           2013
          ],
          [
           2014
          ],
          [
           2015
          ],
          [
           2016
          ],
          [
           2017
          ],
          [
           2002
          ],
          [
           2003
          ],
          [
           2004
          ],
          [
           2005
          ],
          [
           2006
          ],
          [
           2007
          ],
          [
           2008
          ],
          [
           2009
          ],
          [
           2010
          ],
          [
           2011
          ],
          [
           2012
          ],
          [
           2013
          ],
          [
           2014
          ],
          [
           2015
          ],
          [
           2016
          ],
          [
           2017
          ],
          [
           2002
          ],
          [
           2003
          ],
          [
           2004
          ],
          [
           2005
          ],
          [
           2006
          ],
          [
           2007
          ],
          [
           2008
          ],
          [
           2009
          ],
          [
           2010
          ],
          [
           2011
          ],
          [
           2012
          ],
          [
           2013
          ],
          [
           2014
          ],
          [
           2015
          ],
          [
           2016
          ],
          [
           2017
          ],
          [
           2002
          ],
          [
           2003
          ],
          [
           2004
          ],
          [
           2005
          ],
          [
           2006
          ],
          [
           2007
          ],
          [
           2008
          ],
          [
           2009
          ],
          [
           2010
          ],
          [
           2011
          ],
          [
           2012
          ],
          [
           2013
          ],
          [
           2014
          ],
          [
           2015
          ],
          [
           2016
          ],
          [
           2017
          ],
          [
           2002
          ],
          [
           2003
          ],
          [
           2004
          ],
          [
           2005
          ],
          [
           2006
          ],
          [
           2007
          ],
          [
           2008
          ],
          [
           2009
          ],
          [
           2010
          ],
          [
           2011
          ],
          [
           2012
          ],
          [
           2013
          ],
          [
           2014
          ],
          [
           2015
          ],
          [
           2016
          ],
          [
           2017
          ],
          [
           2002
          ],
          [
           2003
          ],
          [
           2004
          ],
          [
           2005
          ],
          [
           2006
          ],
          [
           2007
          ],
          [
           2008
          ],
          [
           2009
          ],
          [
           2010
          ],
          [
           2011
          ],
          [
           2012
          ],
          [
           2013
          ],
          [
           2014
          ],
          [
           2015
          ],
          [
           2016
          ],
          [
           2017
          ],
          [
           2002
          ],
          [
           2003
          ],
          [
           2004
          ],
          [
           2005
          ],
          [
           2006
          ],
          [
           2007
          ],
          [
           2008
          ],
          [
           2009
          ],
          [
           2010
          ],
          [
           2011
          ],
          [
           2012
          ],
          [
           2013
          ],
          [
           2014
          ],
          [
           2015
          ],
          [
           2016
          ],
          [
           2017
          ],
          [
           2002
          ],
          [
           2003
          ],
          [
           2004
          ],
          [
           2005
          ],
          [
           2006
          ],
          [
           2007
          ],
          [
           2008
          ],
          [
           2009
          ],
          [
           2010
          ],
          [
           2011
          ],
          [
           2012
          ],
          [
           2013
          ],
          [
           2014
          ],
          [
           2015
          ],
          [
           2016
          ],
          [
           2017
          ],
          [
           2002
          ],
          [
           2003
          ],
          [
           2004
          ],
          [
           2005
          ],
          [
           2006
          ],
          [
           2007
          ],
          [
           2008
          ],
          [
           2009
          ],
          [
           2010
          ],
          [
           2011
          ],
          [
           2012
          ],
          [
           2013
          ],
          [
           2014
          ],
          [
           2015
          ],
          [
           2016
          ],
          [
           2017
          ],
          [
           2002
          ],
          [
           2003
          ],
          [
           2004
          ],
          [
           2005
          ],
          [
           2006
          ],
          [
           2007
          ],
          [
           2008
          ],
          [
           2009
          ],
          [
           2010
          ],
          [
           2011
          ],
          [
           2012
          ],
          [
           2013
          ],
          [
           2014
          ],
          [
           2015
          ],
          [
           2016
          ],
          [
           2017
          ],
          [
           2002
          ],
          [
           2003
          ],
          [
           2004
          ],
          [
           2005
          ],
          [
           2006
          ],
          [
           2007
          ],
          [
           2008
          ],
          [
           2009
          ],
          [
           2010
          ],
          [
           2011
          ],
          [
           2012
          ],
          [
           2013
          ],
          [
           2014
          ],
          [
           2015
          ],
          [
           2016
          ],
          [
           2017
          ],
          [
           2002
          ],
          [
           2003
          ],
          [
           2004
          ],
          [
           2005
          ],
          [
           2006
          ],
          [
           2007
          ],
          [
           2008
          ],
          [
           2009
          ],
          [
           2010
          ],
          [
           2011
          ],
          [
           2012
          ],
          [
           2013
          ],
          [
           2014
          ],
          [
           2015
          ],
          [
           2016
          ],
          [
           2017
          ],
          [
           2002
          ],
          [
           2003
          ],
          [
           2004
          ],
          [
           2005
          ],
          [
           2006
          ],
          [
           2007
          ],
          [
           2008
          ],
          [
           2009
          ],
          [
           2010
          ],
          [
           2011
          ],
          [
           2012
          ],
          [
           2013
          ],
          [
           2014
          ],
          [
           2015
          ],
          [
           2016
          ],
          [
           2017
          ],
          [
           2002
          ],
          [
           2003
          ],
          [
           2004
          ],
          [
           2005
          ],
          [
           2006
          ],
          [
           2007
          ],
          [
           2008
          ],
          [
           2009
          ],
          [
           2010
          ],
          [
           2011
          ],
          [
           2012
          ],
          [
           2013
          ],
          [
           2014
          ],
          [
           2015
          ],
          [
           2016
          ],
          [
           2017
          ],
          [
           2017
          ],
          [
           2002
          ],
          [
           2003
          ],
          [
           2004
          ],
          [
           2005
          ],
          [
           2006
          ],
          [
           2007
          ],
          [
           2008
          ],
          [
           2009
          ],
          [
           2010
          ],
          [
           2011
          ],
          [
           2012
          ],
          [
           2013
          ],
          [
           2014
          ],
          [
           2015
          ],
          [
           2016
          ],
          [
           2017
          ],
          [
           2005
          ],
          [
           2009
          ],
          [
           2010
          ],
          [
           2012
          ],
          [
           2013
          ],
          [
           2014
          ],
          [
           2015
          ],
          [
           2016
          ],
          [
           2017
          ]
         ],
         "hovertemplate": "Item=%{x}<br>Value=%{y}<br>Year=%{customdata[0]}<extra></extra>",
         "legendgroup": "",
         "marker": {
          "color": "#636efa"
         },
         "name": "",
         "offsetgroup": "",
         "orientation": "v",
         "showlegend": false,
         "textposition": "auto",
         "type": "bar",
         "x": [
          "Ammonia, anhydrous",
          "Ammonia, anhydrous",
          "Ammonia, anhydrous",
          "Ammonia, anhydrous",
          "Ammonia, anhydrous",
          "Ammonia, anhydrous",
          "Ammonia, anhydrous",
          "Ammonia, anhydrous",
          "Ammonia, anhydrous",
          "Ammonia, anhydrous",
          "Ammonia, anhydrous",
          "Ammonia, anhydrous",
          "Ammonia, anhydrous",
          "Ammonia, anhydrous",
          "Ammonia, anhydrous",
          "Ammonia, anhydrous",
          "Ammonium nitrate (AN)",
          "Ammonium nitrate (AN)",
          "Ammonium nitrate (AN)",
          "Ammonium nitrate (AN)",
          "Ammonium nitrate (AN)",
          "Ammonium nitrate (AN)",
          "Ammonium nitrate (AN)",
          "Ammonium nitrate (AN)",
          "Ammonium nitrate (AN)",
          "Ammonium nitrate (AN)",
          "Ammonium nitrate (AN)",
          "Ammonium nitrate (AN)",
          "Ammonium nitrate (AN)",
          "Ammonium nitrate (AN)",
          "Ammonium nitrate (AN)",
          "Ammonium nitrate (AN)",
          "Ammonium sulphate",
          "Ammonium sulphate",
          "Ammonium sulphate",
          "Ammonium sulphate",
          "Ammonium sulphate",
          "Ammonium sulphate",
          "Ammonium sulphate",
          "Ammonium sulphate",
          "Ammonium sulphate",
          "Ammonium sulphate",
          "Ammonium sulphate",
          "Ammonium sulphate",
          "Ammonium sulphate",
          "Ammonium sulphate",
          "Ammonium sulphate",
          "Ammonium sulphate",
          "Calcium ammonium nitrate (CAN) and other mixtures with calcium carbonate",
          "Calcium ammonium nitrate (CAN) and other mixtures with calcium carbonate",
          "Calcium ammonium nitrate (CAN) and other mixtures with calcium carbonate",
          "Calcium ammonium nitrate (CAN) and other mixtures with calcium carbonate",
          "Calcium ammonium nitrate (CAN) and other mixtures with calcium carbonate",
          "Calcium ammonium nitrate (CAN) and other mixtures with calcium carbonate",
          "Calcium ammonium nitrate (CAN) and other mixtures with calcium carbonate",
          "Calcium ammonium nitrate (CAN) and other mixtures with calcium carbonate",
          "Calcium ammonium nitrate (CAN) and other mixtures with calcium carbonate",
          "Calcium ammonium nitrate (CAN) and other mixtures with calcium carbonate",
          "Calcium ammonium nitrate (CAN) and other mixtures with calcium carbonate",
          "Calcium ammonium nitrate (CAN) and other mixtures with calcium carbonate",
          "Calcium ammonium nitrate (CAN) and other mixtures with calcium carbonate",
          "Calcium ammonium nitrate (CAN) and other mixtures with calcium carbonate",
          "Diammonium phosphate (DAP)",
          "Diammonium phosphate (DAP)",
          "Diammonium phosphate (DAP)",
          "Diammonium phosphate (DAP)",
          "Diammonium phosphate (DAP)",
          "Diammonium phosphate (DAP)",
          "Diammonium phosphate (DAP)",
          "Diammonium phosphate (DAP)",
          "Diammonium phosphate (DAP)",
          "Diammonium phosphate (DAP)",
          "Diammonium phosphate (DAP)",
          "Diammonium phosphate (DAP)",
          "Diammonium phosphate (DAP)",
          "Diammonium phosphate (DAP)",
          "Diammonium phosphate (DAP)",
          "Diammonium phosphate (DAP)",
          "Fertilizers n.e.c.",
          "Fertilizers n.e.c.",
          "Fertilizers n.e.c.",
          "Fertilizers n.e.c.",
          "Fertilizers n.e.c.",
          "Fertilizers n.e.c.",
          "Fertilizers n.e.c.",
          "Fertilizers n.e.c.",
          "Fertilizers n.e.c.",
          "Fertilizers n.e.c.",
          "Fertilizers n.e.c.",
          "Fertilizers n.e.c.",
          "Fertilizers n.e.c.",
          "Fertilizers n.e.c.",
          "Fertilizers n.e.c.",
          "Fertilizers n.e.c.",
          "Monoammonium phosphate (MAP)",
          "Monoammonium phosphate (MAP)",
          "Monoammonium phosphate (MAP)",
          "Monoammonium phosphate (MAP)",
          "Monoammonium phosphate (MAP)",
          "Monoammonium phosphate (MAP)",
          "Monoammonium phosphate (MAP)",
          "Monoammonium phosphate (MAP)",
          "Monoammonium phosphate (MAP)",
          "Monoammonium phosphate (MAP)",
          "Monoammonium phosphate (MAP)",
          "Monoammonium phosphate (MAP)",
          "Monoammonium phosphate (MAP)",
          "Monoammonium phosphate (MAP)",
          "Monoammonium phosphate (MAP)",
          "Monoammonium phosphate (MAP)",
          "NPK fertilizers",
          "NPK fertilizers",
          "NPK fertilizers",
          "NPK fertilizers",
          "NPK fertilizers",
          "NPK fertilizers",
          "NPK fertilizers",
          "NPK fertilizers",
          "NPK fertilizers",
          "NPK fertilizers",
          "NPK fertilizers",
          "NPK fertilizers",
          "NPK fertilizers",
          "NPK fertilizers",
          "NPK fertilizers",
          "NPK fertilizers",
          "Other nitrogenous fertilizers, n.e.c.",
          "Other nitrogenous fertilizers, n.e.c.",
          "Other nitrogenous fertilizers, n.e.c.",
          "Other nitrogenous fertilizers, n.e.c.",
          "Other nitrogenous fertilizers, n.e.c.",
          "Other nitrogenous fertilizers, n.e.c.",
          "Other nitrogenous fertilizers, n.e.c.",
          "Other nitrogenous fertilizers, n.e.c.",
          "Other nitrogenous fertilizers, n.e.c.",
          "Other nitrogenous fertilizers, n.e.c.",
          "Other nitrogenous fertilizers, n.e.c.",
          "Other nitrogenous fertilizers, n.e.c.",
          "Other nitrogenous fertilizers, n.e.c.",
          "Other nitrogenous fertilizers, n.e.c.",
          "Other nitrogenous fertilizers, n.e.c.",
          "Other nitrogenous fertilizers, n.e.c.",
          "Other NP compounds",
          "Other NP compounds",
          "Other NP compounds",
          "Other NP compounds",
          "Other NP compounds",
          "Other NP compounds",
          "Other NP compounds",
          "Other NP compounds",
          "Other NP compounds",
          "Other NP compounds",
          "Other NP compounds",
          "Other NP compounds",
          "Other NP compounds",
          "Other NP compounds",
          "Other NP compounds",
          "Other NP compounds",
          "Other phosphatic fertilizers, n.e.c.",
          "Other phosphatic fertilizers, n.e.c.",
          "Other phosphatic fertilizers, n.e.c.",
          "Other phosphatic fertilizers, n.e.c.",
          "Other phosphatic fertilizers, n.e.c.",
          "Other phosphatic fertilizers, n.e.c.",
          "Other phosphatic fertilizers, n.e.c.",
          "Other phosphatic fertilizers, n.e.c.",
          "Other phosphatic fertilizers, n.e.c.",
          "Other phosphatic fertilizers, n.e.c.",
          "Other phosphatic fertilizers, n.e.c.",
          "Other phosphatic fertilizers, n.e.c.",
          "Other phosphatic fertilizers, n.e.c.",
          "Other phosphatic fertilizers, n.e.c.",
          "Other phosphatic fertilizers, n.e.c.",
          "Other phosphatic fertilizers, n.e.c.",
          "Other potassic fertilizers, n.e.c.",
          "Other potassic fertilizers, n.e.c.",
          "Other potassic fertilizers, n.e.c.",
          "Other potassic fertilizers, n.e.c.",
          "Other potassic fertilizers, n.e.c.",
          "Other potassic fertilizers, n.e.c.",
          "Other potassic fertilizers, n.e.c.",
          "Other potassic fertilizers, n.e.c.",
          "Other potassic fertilizers, n.e.c.",
          "Other potassic fertilizers, n.e.c.",
          "Other potassic fertilizers, n.e.c.",
          "Other potassic fertilizers, n.e.c.",
          "Other potassic fertilizers, n.e.c.",
          "Other potassic fertilizers, n.e.c.",
          "Other potassic fertilizers, n.e.c.",
          "Other potassic fertilizers, n.e.c.",
          "Phosphate rock",
          "Phosphate rock",
          "Phosphate rock",
          "Phosphate rock",
          "Phosphate rock",
          "Phosphate rock",
          "Phosphate rock",
          "Phosphate rock",
          "Phosphate rock",
          "Phosphate rock",
          "Phosphate rock",
          "Phosphate rock",
          "Phosphate rock",
          "Phosphate rock",
          "Phosphate rock",
          "Phosphate rock",
          "PK compounds",
          "PK compounds",
          "PK compounds",
          "PK compounds",
          "PK compounds",
          "PK compounds",
          "PK compounds",
          "PK compounds",
          "PK compounds",
          "PK compounds",
          "PK compounds",
          "PK compounds",
          "PK compounds",
          "PK compounds",
          "PK compounds",
          "PK compounds",
          "Potassium chloride (muriate of potash) (MOP)",
          "Potassium chloride (muriate of potash) (MOP)",
          "Potassium chloride (muriate of potash) (MOP)",
          "Potassium chloride (muriate of potash) (MOP)",
          "Potassium chloride (muriate of potash) (MOP)",
          "Potassium chloride (muriate of potash) (MOP)",
          "Potassium chloride (muriate of potash) (MOP)",
          "Potassium chloride (muriate of potash) (MOP)",
          "Potassium chloride (muriate of potash) (MOP)",
          "Potassium chloride (muriate of potash) (MOP)",
          "Potassium chloride (muriate of potash) (MOP)",
          "Potassium chloride (muriate of potash) (MOP)",
          "Potassium chloride (muriate of potash) (MOP)",
          "Potassium chloride (muriate of potash) (MOP)",
          "Potassium chloride (muriate of potash) (MOP)",
          "Potassium chloride (muriate of potash) (MOP)",
          "Potassium nitrate",
          "Potassium nitrate",
          "Potassium nitrate",
          "Potassium nitrate",
          "Potassium nitrate",
          "Potassium nitrate",
          "Potassium nitrate",
          "Potassium nitrate",
          "Potassium nitrate",
          "Potassium nitrate",
          "Potassium nitrate",
          "Potassium nitrate",
          "Potassium nitrate",
          "Potassium nitrate",
          "Potassium nitrate",
          "Potassium nitrate",
          "Potassium sulphate (sulphate of potash) (SOP)",
          "Potassium sulphate (sulphate of potash) (SOP)",
          "Potassium sulphate (sulphate of potash) (SOP)",
          "Potassium sulphate (sulphate of potash) (SOP)",
          "Potassium sulphate (sulphate of potash) (SOP)",
          "Potassium sulphate (sulphate of potash) (SOP)",
          "Potassium sulphate (sulphate of potash) (SOP)",
          "Potassium sulphate (sulphate of potash) (SOP)",
          "Potassium sulphate (sulphate of potash) (SOP)",
          "Potassium sulphate (sulphate of potash) (SOP)",
          "Potassium sulphate (sulphate of potash) (SOP)",
          "Potassium sulphate (sulphate of potash) (SOP)",
          "Potassium sulphate (sulphate of potash) (SOP)",
          "Potassium sulphate (sulphate of potash) (SOP)",
          "Potassium sulphate (sulphate of potash) (SOP)",
          "Potassium sulphate (sulphate of potash) (SOP)",
          "Sodium nitrate",
          "Sodium nitrate",
          "Sodium nitrate",
          "Sodium nitrate",
          "Sodium nitrate",
          "Sodium nitrate",
          "Sodium nitrate",
          "Sodium nitrate",
          "Sodium nitrate",
          "Sodium nitrate",
          "Sodium nitrate",
          "Sodium nitrate",
          "Sodium nitrate",
          "Sodium nitrate",
          "Sodium nitrate",
          "Sodium nitrate",
          "Superphosphates above 35%",
          "Superphosphates above 35%",
          "Superphosphates above 35%",
          "Superphosphates above 35%",
          "Superphosphates above 35%",
          "Superphosphates above 35%",
          "Superphosphates above 35%",
          "Superphosphates above 35%",
          "Superphosphates above 35%",
          "Superphosphates above 35%",
          "Superphosphates above 35%",
          "Superphosphates above 35%",
          "Superphosphates above 35%",
          "Superphosphates above 35%",
          "Superphosphates above 35%",
          "Superphosphates above 35%",
          "Superphosphates, other",
          "Urea",
          "Urea",
          "Urea",
          "Urea",
          "Urea",
          "Urea",
          "Urea",
          "Urea",
          "Urea",
          "Urea",
          "Urea",
          "Urea",
          "Urea",
          "Urea",
          "Urea",
          "Urea",
          "Urea and ammonium nitrate solutions (UAN)",
          "Urea and ammonium nitrate solutions (UAN)",
          "Urea and ammonium nitrate solutions (UAN)",
          "Urea and ammonium nitrate solutions (UAN)",
          "Urea and ammonium nitrate solutions (UAN)",
          "Urea and ammonium nitrate solutions (UAN)",
          "Urea and ammonium nitrate solutions (UAN)",
          "Urea and ammonium nitrate solutions (UAN)",
          "Urea and ammonium nitrate solutions (UAN)"
         ],
         "xaxis": "x",
         "y": [
          267472.82,
          287944.72,
          228732.15,
          252243.8,
          254143.91,
          313405.88,
          305677.5,
          325792.22,
          363663.02,
          334139.89,
          399030.14,
          321784.56,
          354621.76,
          353045.17,
          348339.2,
          286186.31,
          564611.47,
          477506.28,
          269025.37,
          244101.88,
          339036.66,
          771186.05,
          769084.46,
          942008.52,
          1036106.59,
          1488751.67,
          1235815.95,
          1372458.77,
          1085818.19,
          1039858.35,
          1183597.26,
          1327483.45,
          1145132.03,
          1639322.63,
          1695997.41,
          1314582.24,
          1635602.72,
          2023899.8,
          1525887.86,
          1506588.71,
          1652500.92,
          2025118.91,
          1631845.9,
          1778577.25,
          1837135.99,
          1624428.34,
          1917926.05,
          1903960.77,
          450,
          2775,
          308,
          38137.36,
          16105.85,
          36044.44,
          119822.15,
          208913.88,
          299785.57,
          219287.84,
          261825.98,
          221753.89,
          274126.66,
          321650.4,
          151045.49,
          220864,
          303683.52,
          244752.8,
          252834.72,
          576744.68,
          535139.1,
          304910.31,
          358707.37,
          489706.43,
          577615.27,
          846206.53,
          756484.92,
          402225.31,
          445349.62,
          458184.74,
          170519.84,
          178280.74,
          229138.59,
          180457.6,
          182937.68,
          177054.02,
          183402.5,
          187705.29,
          165573.79,
          149729.38,
          183451.32,
          182127.14,
          100775.74,
          79958.73,
          81245.75,
          97426.22,
          1395627.76,
          1769050.96,
          2234825.73,
          1286737.37,
          1135562.27,
          1644945.04,
          1130044.11,
          852578.86,
          1195855.32,
          2104092.66,
          1772184.61,
          2500663.72,
          3004766.08,
          2281251.42,
          2714211.42,
          3634880.75,
          11113.21,
          22557.86,
          87799.04,
          10640.52,
          40171.95,
          99642.32,
          350746.52,
          195324.91,
          279931.4,
          457968.94,
          495030.31,
          474144.39,
          629250.11,
          456596.21,
          873232.65,
          1117233.11,
          28987.5,
          36169.22,
          46452.07,
          56011.55,
          49080.51,
          88248.69,
          95674.02,
          88615.09,
          99733.94,
          124196.85,
          123022.48,
          151172.59,
          235633.42,
          258834.26,
          422945.44,
          563976.24,
          283327.21,
          504897.43,
          844204.52,
          550474.54,
          623347.42,
          951659.71,
          780162.84,
          216655.37,
          478739.53,
          1132988.16,
          883146.99,
          1446371.4,
          1846156.68,
          1257898.13,
          1687946.32,
          2276184.64,
          10720.78,
          9185.93,
          364.5,
          33.51,
          9.25,
          140.49,
          47445.36,
          405.28,
          641.29,
          1025.5,
          25076.12,
          626.76,
          6743.7,
          463.66,
          359.8,
          245.27,
          39.63,
          3116.74,
          5444.21,
          6083.09,
          8098.85,
          7630.66,
          8889.8,
          15150.55,
          24290.38,
          30309.31,
          20396.7,
          14780.99,
          9956.53,
          31666.06,
          69426.43,
          147471.33,
          1047951.86,
          1095172.82,
          1563891.56,
          1215092.13,
          1406010.38,
          1749664.85,
          1615730.44,
          915067.87,
          1399346.57,
          1427578.9,
          1271643,
          1628737.92,
          1752862.53,
          1870923.27,
          1711172,
          1903017.38,
          1317.65,
          939.98,
          1622.45,
          1572.83,
          1886.69,
          1842.83,
          2728.67,
          1160.78,
          1997.72,
          3086.31,
          2721.82,
          3966.19,
          4258.3,
          4750.61,
          5070.69,
          12650.66,
          4372074.21,
          5228202.66,
          6816873.71,
          5013053.86,
          5403469.83,
          6762615.08,
          6751696.78,
          3447333.44,
          6123851.32,
          7679198.79,
          7043157.87,
          8135848.51,
          9051324.82,
          7821589.61,
          8713262.33,
          9673652.54,
          32169.93,
          36765.84,
          32745.39,
          32808.85,
          22758.07,
          24219.85,
          28645.37,
          17761.7,
          6868.21,
          8969.37,
          15223.83,
          9680.86,
          10559.48,
          7345.92,
          4129.24,
          3581.63,
          78513.2,
          59958.67,
          83888.2,
          50519.91,
          54290.81,
          34537.99,
          34656.74,
          29043,
          37063.36,
          32538.64,
          40489.3,
          40920.69,
          48224.11,
          41555.42,
          45175.87,
          44435.52,
          8548.39,
          11053.81,
          10781.18,
          10377.9,
          10976.97,
          13567.05,
          17427.37,
          13606.06,
          13450.11,
          11911.13,
          13031.94,
          13661.91,
          11909.94,
          13537.06,
          9864.27,
          9099.47,
          866292.46,
          1066874.14,
          1540582.84,
          984908.59,
          1070312.03,
          1572247.28,
          1322427.97,
          1084845.05,
          1304139.7,
          1739777.07,
          1667003,
          2018911.5,
          1626736.77,
          1413098.08,
          1387812.86,
          765504.44,
          632341.63,
          1103268.79,
          1447940.16,
          1861204.96,
          1558041.7,
          1587751.3,
          2510764.76,
          2234527.93,
          1940874,
          2547141.88,
          3041100.26,
          2878253.64,
          3498416.54,
          4401407.41,
          2849774.93,
          3958012.31,
          5425178,
          0.01,
          0.95,
          1.63,
          1.83,
          1.54,
          98.5,
          15571.42,
          28046.43,
          32476.77
         ],
         "yaxis": "y"
        }
       ],
       "layout": {
        "barmode": "relative",
        "legend": {
         "tracegroupgap": 0
        },
        "template": {
         "data": {
          "bar": [
           {
            "error_x": {
             "color": "#2a3f5f"
            },
            "error_y": {
             "color": "#2a3f5f"
            },
            "marker": {
             "line": {
              "color": "#E5ECF6",
              "width": 0.5
             }
            },
            "type": "bar"
           }
          ],
          "barpolar": [
           {
            "marker": {
             "line": {
              "color": "#E5ECF6",
              "width": 0.5
             }
            },
            "type": "barpolar"
           }
          ],
          "carpet": [
           {
            "aaxis": {
             "endlinecolor": "#2a3f5f",
             "gridcolor": "white",
             "linecolor": "white",
             "minorgridcolor": "white",
             "startlinecolor": "#2a3f5f"
            },
            "baxis": {
             "endlinecolor": "#2a3f5f",
             "gridcolor": "white",
             "linecolor": "white",
             "minorgridcolor": "white",
             "startlinecolor": "#2a3f5f"
            },
            "type": "carpet"
           }
          ],
          "choropleth": [
           {
            "colorbar": {
             "outlinewidth": 0,
             "ticks": ""
            },
            "type": "choropleth"
           }
          ],
          "contour": [
           {
            "colorbar": {
             "outlinewidth": 0,
             "ticks": ""
            },
            "colorscale": [
             [
              0,
              "#0d0887"
             ],
             [
              0.1111111111111111,
              "#46039f"
             ],
             [
              0.2222222222222222,
              "#7201a8"
             ],
             [
              0.3333333333333333,
              "#9c179e"
             ],
             [
              0.4444444444444444,
              "#bd3786"
             ],
             [
              0.5555555555555556,
              "#d8576b"
             ],
             [
              0.6666666666666666,
              "#ed7953"
             ],
             [
              0.7777777777777778,
              "#fb9f3a"
             ],
             [
              0.8888888888888888,
              "#fdca26"
             ],
             [
              1,
              "#f0f921"
             ]
            ],
            "type": "contour"
           }
          ],
          "contourcarpet": [
           {
            "colorbar": {
             "outlinewidth": 0,
             "ticks": ""
            },
            "type": "contourcarpet"
           }
          ],
          "heatmap": [
           {
            "colorbar": {
             "outlinewidth": 0,
             "ticks": ""
            },
            "colorscale": [
             [
              0,
              "#0d0887"
             ],
             [
              0.1111111111111111,
              "#46039f"
             ],
             [
              0.2222222222222222,
              "#7201a8"
             ],
             [
              0.3333333333333333,
              "#9c179e"
             ],
             [
              0.4444444444444444,
              "#bd3786"
             ],
             [
              0.5555555555555556,
              "#d8576b"
             ],
             [
              0.6666666666666666,
              "#ed7953"
             ],
             [
              0.7777777777777778,
              "#fb9f3a"
             ],
             [
              0.8888888888888888,
              "#fdca26"
             ],
             [
              1,
              "#f0f921"
             ]
            ],
            "type": "heatmap"
           }
          ],
          "heatmapgl": [
           {
            "colorbar": {
             "outlinewidth": 0,
             "ticks": ""
            },
            "colorscale": [
             [
              0,
              "#0d0887"
             ],
             [
              0.1111111111111111,
              "#46039f"
             ],
             [
              0.2222222222222222,
              "#7201a8"
             ],
             [
              0.3333333333333333,
              "#9c179e"
             ],
             [
              0.4444444444444444,
              "#bd3786"
             ],
             [
              0.5555555555555556,
              "#d8576b"
             ],
             [
              0.6666666666666666,
              "#ed7953"
             ],
             [
              0.7777777777777778,
              "#fb9f3a"
             ],
             [
              0.8888888888888888,
              "#fdca26"
             ],
             [
              1,
              "#f0f921"
             ]
            ],
            "type": "heatmapgl"
           }
          ],
          "histogram": [
           {
            "marker": {
             "colorbar": {
              "outlinewidth": 0,
              "ticks": ""
             }
            },
            "type": "histogram"
           }
          ],
          "histogram2d": [
           {
            "colorbar": {
             "outlinewidth": 0,
             "ticks": ""
            },
            "colorscale": [
             [
              0,
              "#0d0887"
             ],
             [
              0.1111111111111111,
              "#46039f"
             ],
             [
              0.2222222222222222,
              "#7201a8"
             ],
             [
              0.3333333333333333,
              "#9c179e"
             ],
             [
              0.4444444444444444,
              "#bd3786"
             ],
             [
              0.5555555555555556,
              "#d8576b"
             ],
             [
              0.6666666666666666,
              "#ed7953"
             ],
             [
              0.7777777777777778,
              "#fb9f3a"
             ],
             [
              0.8888888888888888,
              "#fdca26"
             ],
             [
              1,
              "#f0f921"
             ]
            ],
            "type": "histogram2d"
           }
          ],
          "histogram2dcontour": [
           {
            "colorbar": {
             "outlinewidth": 0,
             "ticks": ""
            },
            "colorscale": [
             [
              0,
              "#0d0887"
             ],
             [
              0.1111111111111111,
              "#46039f"
             ],
             [
              0.2222222222222222,
              "#7201a8"
             ],
             [
              0.3333333333333333,
              "#9c179e"
             ],
             [
              0.4444444444444444,
              "#bd3786"
             ],
             [
              0.5555555555555556,
              "#d8576b"
             ],
             [
              0.6666666666666666,
              "#ed7953"
             ],
             [
              0.7777777777777778,
              "#fb9f3a"
             ],
             [
              0.8888888888888888,
              "#fdca26"
             ],
             [
              1,
              "#f0f921"
             ]
            ],
            "type": "histogram2dcontour"
           }
          ],
          "mesh3d": [
           {
            "colorbar": {
             "outlinewidth": 0,
             "ticks": ""
            },
            "type": "mesh3d"
           }
          ],
          "parcoords": [
           {
            "line": {
             "colorbar": {
              "outlinewidth": 0,
              "ticks": ""
             }
            },
            "type": "parcoords"
           }
          ],
          "pie": [
           {
            "automargin": true,
            "type": "pie"
           }
          ],
          "scatter": [
           {
            "marker": {
             "colorbar": {
              "outlinewidth": 0,
              "ticks": ""
             }
            },
            "type": "scatter"
           }
          ],
          "scatter3d": [
           {
            "line": {
             "colorbar": {
              "outlinewidth": 0,
              "ticks": ""
             }
            },
            "marker": {
             "colorbar": {
              "outlinewidth": 0,
              "ticks": ""
             }
            },
            "type": "scatter3d"
           }
          ],
          "scattercarpet": [
           {
            "marker": {
             "colorbar": {
              "outlinewidth": 0,
              "ticks": ""
             }
            },
            "type": "scattercarpet"
           }
          ],
          "scattergeo": [
           {
            "marker": {
             "colorbar": {
              "outlinewidth": 0,
              "ticks": ""
             }
            },
            "type": "scattergeo"
           }
          ],
          "scattergl": [
           {
            "marker": {
             "colorbar": {
              "outlinewidth": 0,
              "ticks": ""
             }
            },
            "type": "scattergl"
           }
          ],
          "scattermapbox": [
           {
            "marker": {
             "colorbar": {
              "outlinewidth": 0,
              "ticks": ""
             }
            },
            "type": "scattermapbox"
           }
          ],
          "scatterpolar": [
           {
            "marker": {
             "colorbar": {
              "outlinewidth": 0,
              "ticks": ""
             }
            },
            "type": "scatterpolar"
           }
          ],
          "scatterpolargl": [
           {
            "marker": {
             "colorbar": {
              "outlinewidth": 0,
              "ticks": ""
             }
            },
            "type": "scatterpolargl"
           }
          ],
          "scatterternary": [
           {
            "marker": {
             "colorbar": {
              "outlinewidth": 0,
              "ticks": ""
             }
            },
            "type": "scatterternary"
           }
          ],
          "surface": [
           {
            "colorbar": {
             "outlinewidth": 0,
             "ticks": ""
            },
            "colorscale": [
             [
              0,
              "#0d0887"
             ],
             [
              0.1111111111111111,
              "#46039f"
             ],
             [
              0.2222222222222222,
              "#7201a8"
             ],
             [
              0.3333333333333333,
              "#9c179e"
             ],
             [
              0.4444444444444444,
              "#bd3786"
             ],
             [
              0.5555555555555556,
              "#d8576b"
             ],
             [
              0.6666666666666666,
              "#ed7953"
             ],
             [
              0.7777777777777778,
              "#fb9f3a"
             ],
             [
              0.8888888888888888,
              "#fdca26"
             ],
             [
              1,
              "#f0f921"
             ]
            ],
            "type": "surface"
           }
          ],
          "table": [
           {
            "cells": {
             "fill": {
              "color": "#EBF0F8"
             },
             "line": {
              "color": "white"
             }
            },
            "header": {
             "fill": {
              "color": "#C8D4E3"
             },
             "line": {
              "color": "white"
             }
            },
            "type": "table"
           }
          ]
         },
         "layout": {
          "annotationdefaults": {
           "arrowcolor": "#2a3f5f",
           "arrowhead": 0,
           "arrowwidth": 1
          },
          "coloraxis": {
           "colorbar": {
            "outlinewidth": 0,
            "ticks": ""
           }
          },
          "colorscale": {
           "diverging": [
            [
             0,
             "#8e0152"
            ],
            [
             0.1,
             "#c51b7d"
            ],
            [
             0.2,
             "#de77ae"
            ],
            [
             0.3,
             "#f1b6da"
            ],
            [
             0.4,
             "#fde0ef"
            ],
            [
             0.5,
             "#f7f7f7"
            ],
            [
             0.6,
             "#e6f5d0"
            ],
            [
             0.7,
             "#b8e186"
            ],
            [
             0.8,
             "#7fbc41"
            ],
            [
             0.9,
             "#4d9221"
            ],
            [
             1,
             "#276419"
            ]
           ],
           "sequential": [
            [
             0,
             "#0d0887"
            ],
            [
             0.1111111111111111,
             "#46039f"
            ],
            [
             0.2222222222222222,
             "#7201a8"
            ],
            [
             0.3333333333333333,
             "#9c179e"
            ],
            [
             0.4444444444444444,
             "#bd3786"
            ],
            [
             0.5555555555555556,
             "#d8576b"
            ],
            [
             0.6666666666666666,
             "#ed7953"
            ],
            [
             0.7777777777777778,
             "#fb9f3a"
            ],
            [
             0.8888888888888888,
             "#fdca26"
            ],
            [
             1,
             "#f0f921"
            ]
           ],
           "sequentialminus": [
            [
             0,
             "#0d0887"
            ],
            [
             0.1111111111111111,
             "#46039f"
            ],
            [
             0.2222222222222222,
             "#7201a8"
            ],
            [
             0.3333333333333333,
             "#9c179e"
            ],
            [
             0.4444444444444444,
             "#bd3786"
            ],
            [
             0.5555555555555556,
             "#d8576b"
            ],
            [
             0.6666666666666666,
             "#ed7953"
            ],
            [
             0.7777777777777778,
             "#fb9f3a"
            ],
            [
             0.8888888888888888,
             "#fdca26"
            ],
            [
             1,
             "#f0f921"
            ]
           ]
          },
          "colorway": [
           "#636efa",
           "#EF553B",
           "#00cc96",
           "#ab63fa",
           "#FFA15A",
           "#19d3f3",
           "#FF6692",
           "#B6E880",
           "#FF97FF",
           "#FECB52"
          ],
          "font": {
           "color": "#2a3f5f"
          },
          "geo": {
           "bgcolor": "white",
           "lakecolor": "white",
           "landcolor": "#E5ECF6",
           "showlakes": true,
           "showland": true,
           "subunitcolor": "white"
          },
          "hoverlabel": {
           "align": "left"
          },
          "hovermode": "closest",
          "mapbox": {
           "style": "light"
          },
          "paper_bgcolor": "white",
          "plot_bgcolor": "#E5ECF6",
          "polar": {
           "angularaxis": {
            "gridcolor": "white",
            "linecolor": "white",
            "ticks": ""
           },
           "bgcolor": "#E5ECF6",
           "radialaxis": {
            "gridcolor": "white",
            "linecolor": "white",
            "ticks": ""
           }
          },
          "scene": {
           "xaxis": {
            "backgroundcolor": "#E5ECF6",
            "gridcolor": "white",
            "gridwidth": 2,
            "linecolor": "white",
            "showbackground": true,
            "ticks": "",
            "zerolinecolor": "white"
           },
           "yaxis": {
            "backgroundcolor": "#E5ECF6",
            "gridcolor": "white",
            "gridwidth": 2,
            "linecolor": "white",
            "showbackground": true,
            "ticks": "",
            "zerolinecolor": "white"
           },
           "zaxis": {
            "backgroundcolor": "#E5ECF6",
            "gridcolor": "white",
            "gridwidth": 2,
            "linecolor": "white",
            "showbackground": true,
            "ticks": "",
            "zerolinecolor": "white"
           }
          },
          "shapedefaults": {
           "line": {
            "color": "#2a3f5f"
           }
          },
          "ternary": {
           "aaxis": {
            "gridcolor": "white",
            "linecolor": "white",
            "ticks": ""
           },
           "baxis": {
            "gridcolor": "white",
            "linecolor": "white",
            "ticks": ""
           },
           "bgcolor": "#E5ECF6",
           "caxis": {
            "gridcolor": "white",
            "linecolor": "white",
            "ticks": ""
           }
          },
          "title": {
           "x": 0.05
          },
          "xaxis": {
           "automargin": true,
           "gridcolor": "white",
           "linecolor": "white",
           "ticks": "",
           "title": {
            "standoff": 15
           },
           "zerolinecolor": "white",
           "zerolinewidth": 2
          },
          "yaxis": {
           "automargin": true,
           "gridcolor": "white",
           "linecolor": "white",
           "ticks": "",
           "title": {
            "standoff": 15
           },
           "zerolinecolor": "white",
           "zerolinewidth": 2
          }
         }
        },
        "title": {
         "text": "Import Quantity products over a year"
        },
        "xaxis": {
         "anchor": "y",
         "domain": [
          0,
          1
         ],
         "title": {
          "text": "Item"
         }
        },
        "yaxis": {
         "anchor": "x",
         "domain": [
          0,
          1
         ],
         "title": {
          "text": "Value"
         }
        }
       }
      },
      "text/html": [
       "<div>\n",
       "        \n",
       "        \n",
       "            <div id=\"a123602b-f9d9-42cf-910d-420da8dad733\" class=\"plotly-graph-div\" style=\"height:525px; width:100%;\"></div>\n",
       "            <script type=\"text/javascript\">\n",
       "                require([\"plotly\"], function(Plotly) {\n",
       "                    window.PLOTLYENV=window.PLOTLYENV || {};\n",
       "                    \n",
       "                if (document.getElementById(\"a123602b-f9d9-42cf-910d-420da8dad733\")) {\n",
       "                    Plotly.newPlot(\n",
       "                        'a123602b-f9d9-42cf-910d-420da8dad733',\n",
       "                        [{\"alignmentgroup\": \"True\", \"customdata\": [[2002], [2003], [2004], [2005], [2006], [2007], [2008], [2009], [2010], [2011], [2012], [2013], [2014], [2015], [2016], [2017], [2002], [2003], [2004], [2005], [2006], [2007], [2008], [2009], [2010], [2011], [2012], [2013], [2014], [2015], [2016], [2017], [2002], [2003], [2004], [2005], [2006], [2007], [2008], [2009], [2010], [2011], [2012], [2013], [2014], [2015], [2016], [2017], [2003], [2004], [2006], [2007], [2008], [2009], [2010], [2011], [2012], [2013], [2014], [2015], [2016], [2017], [2002], [2003], [2004], [2005], [2006], [2007], [2008], [2009], [2010], [2011], [2012], [2013], [2014], [2015], [2016], [2017], [2002], [2003], [2004], [2005], [2006], [2007], [2008], [2009], [2010], [2011], [2012], [2013], [2014], [2015], [2016], [2017], [2002], [2003], [2004], [2005], [2006], [2007], [2008], [2009], [2010], [2011], [2012], [2013], [2014], [2015], [2016], [2017], [2002], [2003], [2004], [2005], [2006], [2007], [2008], [2009], [2010], [2011], [2012], [2013], [2014], [2015], [2016], [2017], [2002], [2003], [2004], [2005], [2006], [2007], [2008], [2009], [2010], [2011], [2012], [2013], [2014], [2015], [2016], [2017], [2002], [2003], [2004], [2005], [2006], [2007], [2008], [2009], [2010], [2011], [2012], [2013], [2014], [2015], [2016], [2017], [2002], [2003], [2004], [2005], [2006], [2007], [2008], [2009], [2010], [2011], [2012], [2013], [2014], [2015], [2016], [2017], [2002], [2003], [2004], [2005], [2006], [2007], [2008], [2009], [2010], [2011], [2012], [2013], [2014], [2015], [2016], [2017], [2002], [2003], [2004], [2005], [2006], [2007], [2008], [2009], [2010], [2011], [2012], [2013], [2014], [2015], [2016], [2017], [2002], [2003], [2004], [2005], [2006], [2007], [2008], [2009], [2010], [2011], [2012], [2013], [2014], [2015], [2016], [2017], [2002], [2003], [2004], [2005], [2006], [2007], [2008], [2009], [2010], [2011], [2012], [2013], [2014], [2015], [2016], [2017], [2002], [2003], [2004], [2005], [2006], [2007], [2008], [2009], [2010], [2011], [2012], [2013], [2014], [2015], [2016], [2017], [2002], [2003], [2004], [2005], [2006], [2007], [2008], [2009], [2010], [2011], [2012], [2013], [2014], [2015], [2016], [2017], [2002], [2003], [2004], [2005], [2006], [2007], [2008], [2009], [2010], [2011], [2012], [2013], [2014], [2015], [2016], [2017], [2002], [2003], [2004], [2005], [2006], [2007], [2008], [2009], [2010], [2011], [2012], [2013], [2014], [2015], [2016], [2017], [2017], [2002], [2003], [2004], [2005], [2006], [2007], [2008], [2009], [2010], [2011], [2012], [2013], [2014], [2015], [2016], [2017], [2005], [2009], [2010], [2012], [2013], [2014], [2015], [2016], [2017]], \"hovertemplate\": \"Item=%{x}<br>Value=%{y}<br>Year=%{customdata[0]}<extra></extra>\", \"legendgroup\": \"\", \"marker\": {\"color\": \"#636efa\"}, \"name\": \"\", \"offsetgroup\": \"\", \"orientation\": \"v\", \"showlegend\": false, \"textposition\": \"auto\", \"type\": \"bar\", \"x\": [\"Ammonia, anhydrous\", \"Ammonia, anhydrous\", \"Ammonia, anhydrous\", \"Ammonia, anhydrous\", \"Ammonia, anhydrous\", \"Ammonia, anhydrous\", \"Ammonia, anhydrous\", \"Ammonia, anhydrous\", \"Ammonia, anhydrous\", \"Ammonia, anhydrous\", \"Ammonia, anhydrous\", \"Ammonia, anhydrous\", \"Ammonia, anhydrous\", \"Ammonia, anhydrous\", \"Ammonia, anhydrous\", \"Ammonia, anhydrous\", \"Ammonium nitrate (AN)\", \"Ammonium nitrate (AN)\", \"Ammonium nitrate (AN)\", \"Ammonium nitrate (AN)\", \"Ammonium nitrate (AN)\", \"Ammonium nitrate (AN)\", \"Ammonium nitrate (AN)\", \"Ammonium nitrate (AN)\", \"Ammonium nitrate (AN)\", \"Ammonium nitrate (AN)\", \"Ammonium nitrate (AN)\", \"Ammonium nitrate (AN)\", \"Ammonium nitrate (AN)\", \"Ammonium nitrate (AN)\", \"Ammonium nitrate (AN)\", \"Ammonium nitrate (AN)\", \"Ammonium sulphate\", \"Ammonium sulphate\", \"Ammonium sulphate\", \"Ammonium sulphate\", \"Ammonium sulphate\", \"Ammonium sulphate\", \"Ammonium sulphate\", \"Ammonium sulphate\", \"Ammonium sulphate\", \"Ammonium sulphate\", \"Ammonium sulphate\", \"Ammonium sulphate\", \"Ammonium sulphate\", \"Ammonium sulphate\", \"Ammonium sulphate\", \"Ammonium sulphate\", \"Calcium ammonium nitrate (CAN) and other mixtures with calcium carbonate\", \"Calcium ammonium nitrate (CAN) and other mixtures with calcium carbonate\", \"Calcium ammonium nitrate (CAN) and other mixtures with calcium carbonate\", \"Calcium ammonium nitrate (CAN) and other mixtures with calcium carbonate\", \"Calcium ammonium nitrate (CAN) and other mixtures with calcium carbonate\", \"Calcium ammonium nitrate (CAN) and other mixtures with calcium carbonate\", \"Calcium ammonium nitrate (CAN) and other mixtures with calcium carbonate\", \"Calcium ammonium nitrate (CAN) and other mixtures with calcium carbonate\", \"Calcium ammonium nitrate (CAN) and other mixtures with calcium carbonate\", \"Calcium ammonium nitrate (CAN) and other mixtures with calcium carbonate\", \"Calcium ammonium nitrate (CAN) and other mixtures with calcium carbonate\", \"Calcium ammonium nitrate (CAN) and other mixtures with calcium carbonate\", \"Calcium ammonium nitrate (CAN) and other mixtures with calcium carbonate\", \"Calcium ammonium nitrate (CAN) and other mixtures with calcium carbonate\", \"Diammonium phosphate (DAP)\", \"Diammonium phosphate (DAP)\", \"Diammonium phosphate (DAP)\", \"Diammonium phosphate (DAP)\", \"Diammonium phosphate (DAP)\", \"Diammonium phosphate (DAP)\", \"Diammonium phosphate (DAP)\", \"Diammonium phosphate (DAP)\", \"Diammonium phosphate (DAP)\", \"Diammonium phosphate (DAP)\", \"Diammonium phosphate (DAP)\", \"Diammonium phosphate (DAP)\", \"Diammonium phosphate (DAP)\", \"Diammonium phosphate (DAP)\", \"Diammonium phosphate (DAP)\", \"Diammonium phosphate (DAP)\", \"Fertilizers n.e.c.\", \"Fertilizers n.e.c.\", \"Fertilizers n.e.c.\", \"Fertilizers n.e.c.\", \"Fertilizers n.e.c.\", \"Fertilizers n.e.c.\", \"Fertilizers n.e.c.\", \"Fertilizers n.e.c.\", \"Fertilizers n.e.c.\", \"Fertilizers n.e.c.\", \"Fertilizers n.e.c.\", \"Fertilizers n.e.c.\", \"Fertilizers n.e.c.\", \"Fertilizers n.e.c.\", \"Fertilizers n.e.c.\", \"Fertilizers n.e.c.\", \"Monoammonium phosphate (MAP)\", \"Monoammonium phosphate (MAP)\", \"Monoammonium phosphate (MAP)\", \"Monoammonium phosphate (MAP)\", \"Monoammonium phosphate (MAP)\", \"Monoammonium phosphate (MAP)\", \"Monoammonium phosphate (MAP)\", \"Monoammonium phosphate (MAP)\", \"Monoammonium phosphate (MAP)\", \"Monoammonium phosphate (MAP)\", \"Monoammonium phosphate (MAP)\", \"Monoammonium phosphate (MAP)\", \"Monoammonium phosphate (MAP)\", \"Monoammonium phosphate (MAP)\", \"Monoammonium phosphate (MAP)\", \"Monoammonium phosphate (MAP)\", \"NPK fertilizers\", \"NPK fertilizers\", \"NPK fertilizers\", \"NPK fertilizers\", \"NPK fertilizers\", \"NPK fertilizers\", \"NPK fertilizers\", \"NPK fertilizers\", \"NPK fertilizers\", \"NPK fertilizers\", \"NPK fertilizers\", \"NPK fertilizers\", \"NPK fertilizers\", \"NPK fertilizers\", \"NPK fertilizers\", \"NPK fertilizers\", \"Other nitrogenous fertilizers, n.e.c.\", \"Other nitrogenous fertilizers, n.e.c.\", \"Other nitrogenous fertilizers, n.e.c.\", \"Other nitrogenous fertilizers, n.e.c.\", \"Other nitrogenous fertilizers, n.e.c.\", \"Other nitrogenous fertilizers, n.e.c.\", \"Other nitrogenous fertilizers, n.e.c.\", \"Other nitrogenous fertilizers, n.e.c.\", \"Other nitrogenous fertilizers, n.e.c.\", \"Other nitrogenous fertilizers, n.e.c.\", \"Other nitrogenous fertilizers, n.e.c.\", \"Other nitrogenous fertilizers, n.e.c.\", \"Other nitrogenous fertilizers, n.e.c.\", \"Other nitrogenous fertilizers, n.e.c.\", \"Other nitrogenous fertilizers, n.e.c.\", \"Other nitrogenous fertilizers, n.e.c.\", \"Other NP compounds\", \"Other NP compounds\", \"Other NP compounds\", \"Other NP compounds\", \"Other NP compounds\", \"Other NP compounds\", \"Other NP compounds\", \"Other NP compounds\", \"Other NP compounds\", \"Other NP compounds\", \"Other NP compounds\", \"Other NP compounds\", \"Other NP compounds\", \"Other NP compounds\", \"Other NP compounds\", \"Other NP compounds\", \"Other phosphatic fertilizers, n.e.c.\", \"Other phosphatic fertilizers, n.e.c.\", \"Other phosphatic fertilizers, n.e.c.\", \"Other phosphatic fertilizers, n.e.c.\", \"Other phosphatic fertilizers, n.e.c.\", \"Other phosphatic fertilizers, n.e.c.\", \"Other phosphatic fertilizers, n.e.c.\", \"Other phosphatic fertilizers, n.e.c.\", \"Other phosphatic fertilizers, n.e.c.\", \"Other phosphatic fertilizers, n.e.c.\", \"Other phosphatic fertilizers, n.e.c.\", \"Other phosphatic fertilizers, n.e.c.\", \"Other phosphatic fertilizers, n.e.c.\", \"Other phosphatic fertilizers, n.e.c.\", \"Other phosphatic fertilizers, n.e.c.\", \"Other phosphatic fertilizers, n.e.c.\", \"Other potassic fertilizers, n.e.c.\", \"Other potassic fertilizers, n.e.c.\", \"Other potassic fertilizers, n.e.c.\", \"Other potassic fertilizers, n.e.c.\", \"Other potassic fertilizers, n.e.c.\", \"Other potassic fertilizers, n.e.c.\", \"Other potassic fertilizers, n.e.c.\", \"Other potassic fertilizers, n.e.c.\", \"Other potassic fertilizers, n.e.c.\", \"Other potassic fertilizers, n.e.c.\", \"Other potassic fertilizers, n.e.c.\", \"Other potassic fertilizers, n.e.c.\", \"Other potassic fertilizers, n.e.c.\", \"Other potassic fertilizers, n.e.c.\", \"Other potassic fertilizers, n.e.c.\", \"Other potassic fertilizers, n.e.c.\", \"Phosphate rock\", \"Phosphate rock\", \"Phosphate rock\", \"Phosphate rock\", \"Phosphate rock\", \"Phosphate rock\", \"Phosphate rock\", \"Phosphate rock\", \"Phosphate rock\", \"Phosphate rock\", \"Phosphate rock\", \"Phosphate rock\", \"Phosphate rock\", \"Phosphate rock\", \"Phosphate rock\", \"Phosphate rock\", \"PK compounds\", \"PK compounds\", \"PK compounds\", \"PK compounds\", \"PK compounds\", \"PK compounds\", \"PK compounds\", \"PK compounds\", \"PK compounds\", \"PK compounds\", \"PK compounds\", \"PK compounds\", \"PK compounds\", \"PK compounds\", \"PK compounds\", \"PK compounds\", \"Potassium chloride (muriate of potash) (MOP)\", \"Potassium chloride (muriate of potash) (MOP)\", \"Potassium chloride (muriate of potash) (MOP)\", \"Potassium chloride (muriate of potash) (MOP)\", \"Potassium chloride (muriate of potash) (MOP)\", \"Potassium chloride (muriate of potash) (MOP)\", \"Potassium chloride (muriate of potash) (MOP)\", \"Potassium chloride (muriate of potash) (MOP)\", \"Potassium chloride (muriate of potash) (MOP)\", \"Potassium chloride (muriate of potash) (MOP)\", \"Potassium chloride (muriate of potash) (MOP)\", \"Potassium chloride (muriate of potash) (MOP)\", \"Potassium chloride (muriate of potash) (MOP)\", \"Potassium chloride (muriate of potash) (MOP)\", \"Potassium chloride (muriate of potash) (MOP)\", \"Potassium chloride (muriate of potash) (MOP)\", \"Potassium nitrate\", \"Potassium nitrate\", \"Potassium nitrate\", \"Potassium nitrate\", \"Potassium nitrate\", \"Potassium nitrate\", \"Potassium nitrate\", \"Potassium nitrate\", \"Potassium nitrate\", \"Potassium nitrate\", \"Potassium nitrate\", \"Potassium nitrate\", \"Potassium nitrate\", \"Potassium nitrate\", \"Potassium nitrate\", \"Potassium nitrate\", \"Potassium sulphate (sulphate of potash) (SOP)\", \"Potassium sulphate (sulphate of potash) (SOP)\", \"Potassium sulphate (sulphate of potash) (SOP)\", \"Potassium sulphate (sulphate of potash) (SOP)\", \"Potassium sulphate (sulphate of potash) (SOP)\", \"Potassium sulphate (sulphate of potash) (SOP)\", \"Potassium sulphate (sulphate of potash) (SOP)\", \"Potassium sulphate (sulphate of potash) (SOP)\", \"Potassium sulphate (sulphate of potash) (SOP)\", \"Potassium sulphate (sulphate of potash) (SOP)\", \"Potassium sulphate (sulphate of potash) (SOP)\", \"Potassium sulphate (sulphate of potash) (SOP)\", \"Potassium sulphate (sulphate of potash) (SOP)\", \"Potassium sulphate (sulphate of potash) (SOP)\", \"Potassium sulphate (sulphate of potash) (SOP)\", \"Potassium sulphate (sulphate of potash) (SOP)\", \"Sodium nitrate\", \"Sodium nitrate\", \"Sodium nitrate\", \"Sodium nitrate\", \"Sodium nitrate\", \"Sodium nitrate\", \"Sodium nitrate\", \"Sodium nitrate\", \"Sodium nitrate\", \"Sodium nitrate\", \"Sodium nitrate\", \"Sodium nitrate\", \"Sodium nitrate\", \"Sodium nitrate\", \"Sodium nitrate\", \"Sodium nitrate\", \"Superphosphates above 35%\", \"Superphosphates above 35%\", \"Superphosphates above 35%\", \"Superphosphates above 35%\", \"Superphosphates above 35%\", \"Superphosphates above 35%\", \"Superphosphates above 35%\", \"Superphosphates above 35%\", \"Superphosphates above 35%\", \"Superphosphates above 35%\", \"Superphosphates above 35%\", \"Superphosphates above 35%\", \"Superphosphates above 35%\", \"Superphosphates above 35%\", \"Superphosphates above 35%\", \"Superphosphates above 35%\", \"Superphosphates, other\", \"Urea\", \"Urea\", \"Urea\", \"Urea\", \"Urea\", \"Urea\", \"Urea\", \"Urea\", \"Urea\", \"Urea\", \"Urea\", \"Urea\", \"Urea\", \"Urea\", \"Urea\", \"Urea\", \"Urea and ammonium nitrate solutions (UAN)\", \"Urea and ammonium nitrate solutions (UAN)\", \"Urea and ammonium nitrate solutions (UAN)\", \"Urea and ammonium nitrate solutions (UAN)\", \"Urea and ammonium nitrate solutions (UAN)\", \"Urea and ammonium nitrate solutions (UAN)\", \"Urea and ammonium nitrate solutions (UAN)\", \"Urea and ammonium nitrate solutions (UAN)\", \"Urea and ammonium nitrate solutions (UAN)\"], \"xaxis\": \"x\", \"y\": [267472.82, 287944.72, 228732.15, 252243.8, 254143.91, 313405.88, 305677.5, 325792.22, 363663.02, 334139.89, 399030.14, 321784.56, 354621.76, 353045.17, 348339.2, 286186.31, 564611.47, 477506.28, 269025.37, 244101.88, 339036.66, 771186.05, 769084.46, 942008.52, 1036106.59, 1488751.67, 1235815.95, 1372458.77, 1085818.19, 1039858.35, 1183597.26, 1327483.45, 1145132.03, 1639322.63, 1695997.41, 1314582.24, 1635602.72, 2023899.8, 1525887.86, 1506588.71, 1652500.92, 2025118.91, 1631845.9, 1778577.25, 1837135.99, 1624428.34, 1917926.05, 1903960.77, 450.0, 2775.0, 308.0, 38137.36, 16105.85, 36044.44, 119822.15, 208913.88, 299785.57, 219287.84, 261825.98, 221753.89, 274126.66, 321650.4, 151045.49, 220864.0, 303683.52, 244752.8, 252834.72, 576744.68, 535139.1, 304910.31, 358707.37, 489706.43, 577615.27, 846206.53, 756484.92, 402225.31, 445349.62, 458184.74, 170519.84, 178280.74, 229138.59, 180457.6, 182937.68, 177054.02, 183402.5, 187705.29, 165573.79, 149729.38, 183451.32, 182127.14, 100775.74, 79958.73, 81245.75, 97426.22, 1395627.76, 1769050.96, 2234825.73, 1286737.37, 1135562.27, 1644945.04, 1130044.11, 852578.86, 1195855.32, 2104092.66, 1772184.61, 2500663.72, 3004766.08, 2281251.42, 2714211.42, 3634880.75, 11113.21, 22557.86, 87799.04, 10640.52, 40171.95, 99642.32, 350746.52, 195324.91, 279931.4, 457968.94, 495030.31, 474144.39, 629250.11, 456596.21, 873232.65, 1117233.11, 28987.5, 36169.22, 46452.07, 56011.55, 49080.51, 88248.69, 95674.02, 88615.09, 99733.94, 124196.85, 123022.48, 151172.59, 235633.42, 258834.26, 422945.44, 563976.24, 283327.21, 504897.43, 844204.52, 550474.54, 623347.42, 951659.71, 780162.84, 216655.37, 478739.53, 1132988.16, 883146.99, 1446371.4, 1846156.68, 1257898.13, 1687946.32, 2276184.64, 10720.78, 9185.93, 364.5, 33.51, 9.25, 140.49, 47445.36, 405.28, 641.29, 1025.5, 25076.12, 626.76, 6743.7, 463.66, 359.8, 245.27, 39.63, 3116.74, 5444.21, 6083.09, 8098.85, 7630.66, 8889.8, 15150.55, 24290.38, 30309.31, 20396.7, 14780.99, 9956.53, 31666.06, 69426.43, 147471.33, 1047951.86, 1095172.82, 1563891.56, 1215092.13, 1406010.38, 1749664.85, 1615730.44, 915067.87, 1399346.57, 1427578.9, 1271643.0, 1628737.92, 1752862.53, 1870923.27, 1711172.0, 1903017.38, 1317.65, 939.98, 1622.45, 1572.83, 1886.69, 1842.83, 2728.67, 1160.78, 1997.72, 3086.31, 2721.82, 3966.19, 4258.3, 4750.61, 5070.69, 12650.66, 4372074.21, 5228202.66, 6816873.71, 5013053.86, 5403469.83, 6762615.08, 6751696.78, 3447333.44, 6123851.32, 7679198.79, 7043157.87, 8135848.51, 9051324.82, 7821589.61, 8713262.33, 9673652.54, 32169.93, 36765.84, 32745.39, 32808.85, 22758.07, 24219.85, 28645.37, 17761.7, 6868.21, 8969.37, 15223.83, 9680.86, 10559.48, 7345.92, 4129.24, 3581.63, 78513.2, 59958.67, 83888.2, 50519.91, 54290.81, 34537.99, 34656.74, 29043.0, 37063.36, 32538.64, 40489.3, 40920.69, 48224.11, 41555.42, 45175.87, 44435.52, 8548.39, 11053.81, 10781.18, 10377.9, 10976.97, 13567.05, 17427.37, 13606.06, 13450.11, 11911.13, 13031.94, 13661.91, 11909.94, 13537.06, 9864.27, 9099.47, 866292.46, 1066874.14, 1540582.84, 984908.59, 1070312.03, 1572247.28, 1322427.97, 1084845.05, 1304139.7, 1739777.07, 1667003.0, 2018911.5, 1626736.77, 1413098.08, 1387812.86, 765504.44, 632341.63, 1103268.79, 1447940.16, 1861204.96, 1558041.7, 1587751.3, 2510764.76, 2234527.93, 1940874.0, 2547141.88, 3041100.26, 2878253.64, 3498416.54, 4401407.41, 2849774.93, 3958012.31, 5425178.0, 0.01, 0.95, 1.63, 1.83, 1.54, 98.5, 15571.42, 28046.43, 32476.77], \"yaxis\": \"y\"}],\n",
       "                        {\"barmode\": \"relative\", \"legend\": {\"tracegroupgap\": 0}, \"template\": {\"data\": {\"bar\": [{\"error_x\": {\"color\": \"#2a3f5f\"}, \"error_y\": {\"color\": \"#2a3f5f\"}, \"marker\": {\"line\": {\"color\": \"#E5ECF6\", \"width\": 0.5}}, \"type\": \"bar\"}], \"barpolar\": [{\"marker\": {\"line\": {\"color\": \"#E5ECF6\", \"width\": 0.5}}, \"type\": \"barpolar\"}], \"carpet\": [{\"aaxis\": {\"endlinecolor\": \"#2a3f5f\", \"gridcolor\": \"white\", \"linecolor\": \"white\", \"minorgridcolor\": \"white\", \"startlinecolor\": \"#2a3f5f\"}, \"baxis\": {\"endlinecolor\": \"#2a3f5f\", \"gridcolor\": \"white\", \"linecolor\": \"white\", \"minorgridcolor\": \"white\", \"startlinecolor\": \"#2a3f5f\"}, \"type\": \"carpet\"}], \"choropleth\": [{\"colorbar\": {\"outlinewidth\": 0, \"ticks\": \"\"}, \"type\": \"choropleth\"}], \"contour\": [{\"colorbar\": {\"outlinewidth\": 0, \"ticks\": \"\"}, \"colorscale\": [[0.0, \"#0d0887\"], [0.1111111111111111, \"#46039f\"], [0.2222222222222222, \"#7201a8\"], [0.3333333333333333, \"#9c179e\"], [0.4444444444444444, \"#bd3786\"], [0.5555555555555556, \"#d8576b\"], [0.6666666666666666, \"#ed7953\"], [0.7777777777777778, \"#fb9f3a\"], [0.8888888888888888, \"#fdca26\"], [1.0, \"#f0f921\"]], \"type\": \"contour\"}], \"contourcarpet\": [{\"colorbar\": {\"outlinewidth\": 0, \"ticks\": \"\"}, \"type\": \"contourcarpet\"}], \"heatmap\": [{\"colorbar\": {\"outlinewidth\": 0, \"ticks\": \"\"}, \"colorscale\": [[0.0, \"#0d0887\"], [0.1111111111111111, \"#46039f\"], [0.2222222222222222, \"#7201a8\"], [0.3333333333333333, \"#9c179e\"], [0.4444444444444444, \"#bd3786\"], [0.5555555555555556, \"#d8576b\"], [0.6666666666666666, \"#ed7953\"], [0.7777777777777778, \"#fb9f3a\"], [0.8888888888888888, \"#fdca26\"], [1.0, \"#f0f921\"]], \"type\": \"heatmap\"}], \"heatmapgl\": [{\"colorbar\": {\"outlinewidth\": 0, \"ticks\": \"\"}, \"colorscale\": [[0.0, \"#0d0887\"], [0.1111111111111111, \"#46039f\"], [0.2222222222222222, \"#7201a8\"], [0.3333333333333333, \"#9c179e\"], [0.4444444444444444, \"#bd3786\"], [0.5555555555555556, \"#d8576b\"], [0.6666666666666666, \"#ed7953\"], [0.7777777777777778, \"#fb9f3a\"], [0.8888888888888888, \"#fdca26\"], [1.0, \"#f0f921\"]], \"type\": \"heatmapgl\"}], \"histogram\": [{\"marker\": {\"colorbar\": {\"outlinewidth\": 0, \"ticks\": \"\"}}, \"type\": \"histogram\"}], \"histogram2d\": [{\"colorbar\": {\"outlinewidth\": 0, \"ticks\": \"\"}, \"colorscale\": [[0.0, \"#0d0887\"], [0.1111111111111111, \"#46039f\"], [0.2222222222222222, \"#7201a8\"], [0.3333333333333333, \"#9c179e\"], [0.4444444444444444, \"#bd3786\"], [0.5555555555555556, \"#d8576b\"], [0.6666666666666666, \"#ed7953\"], [0.7777777777777778, \"#fb9f3a\"], [0.8888888888888888, \"#fdca26\"], [1.0, \"#f0f921\"]], \"type\": \"histogram2d\"}], \"histogram2dcontour\": [{\"colorbar\": {\"outlinewidth\": 0, \"ticks\": \"\"}, \"colorscale\": [[0.0, \"#0d0887\"], [0.1111111111111111, \"#46039f\"], [0.2222222222222222, \"#7201a8\"], [0.3333333333333333, \"#9c179e\"], [0.4444444444444444, \"#bd3786\"], [0.5555555555555556, \"#d8576b\"], [0.6666666666666666, \"#ed7953\"], [0.7777777777777778, \"#fb9f3a\"], [0.8888888888888888, \"#fdca26\"], [1.0, \"#f0f921\"]], \"type\": \"histogram2dcontour\"}], \"mesh3d\": [{\"colorbar\": {\"outlinewidth\": 0, \"ticks\": \"\"}, \"type\": \"mesh3d\"}], \"parcoords\": [{\"line\": {\"colorbar\": {\"outlinewidth\": 0, \"ticks\": \"\"}}, \"type\": \"parcoords\"}], \"pie\": [{\"automargin\": true, \"type\": \"pie\"}], \"scatter\": [{\"marker\": {\"colorbar\": {\"outlinewidth\": 0, \"ticks\": \"\"}}, \"type\": \"scatter\"}], \"scatter3d\": [{\"line\": {\"colorbar\": {\"outlinewidth\": 0, \"ticks\": \"\"}}, \"marker\": {\"colorbar\": {\"outlinewidth\": 0, \"ticks\": \"\"}}, \"type\": \"scatter3d\"}], \"scattercarpet\": [{\"marker\": {\"colorbar\": {\"outlinewidth\": 0, \"ticks\": \"\"}}, \"type\": \"scattercarpet\"}], \"scattergeo\": [{\"marker\": {\"colorbar\": {\"outlinewidth\": 0, \"ticks\": \"\"}}, \"type\": \"scattergeo\"}], \"scattergl\": [{\"marker\": {\"colorbar\": {\"outlinewidth\": 0, \"ticks\": \"\"}}, \"type\": \"scattergl\"}], \"scattermapbox\": [{\"marker\": {\"colorbar\": {\"outlinewidth\": 0, \"ticks\": \"\"}}, \"type\": \"scattermapbox\"}], \"scatterpolar\": [{\"marker\": {\"colorbar\": {\"outlinewidth\": 0, \"ticks\": \"\"}}, \"type\": \"scatterpolar\"}], \"scatterpolargl\": [{\"marker\": {\"colorbar\": {\"outlinewidth\": 0, \"ticks\": \"\"}}, \"type\": \"scatterpolargl\"}], \"scatterternary\": [{\"marker\": {\"colorbar\": {\"outlinewidth\": 0, \"ticks\": \"\"}}, \"type\": \"scatterternary\"}], \"surface\": [{\"colorbar\": {\"outlinewidth\": 0, \"ticks\": \"\"}, \"colorscale\": [[0.0, \"#0d0887\"], [0.1111111111111111, \"#46039f\"], [0.2222222222222222, \"#7201a8\"], [0.3333333333333333, \"#9c179e\"], [0.4444444444444444, \"#bd3786\"], [0.5555555555555556, \"#d8576b\"], [0.6666666666666666, \"#ed7953\"], [0.7777777777777778, \"#fb9f3a\"], [0.8888888888888888, \"#fdca26\"], [1.0, \"#f0f921\"]], \"type\": \"surface\"}], \"table\": [{\"cells\": {\"fill\": {\"color\": \"#EBF0F8\"}, \"line\": {\"color\": \"white\"}}, \"header\": {\"fill\": {\"color\": \"#C8D4E3\"}, \"line\": {\"color\": \"white\"}}, \"type\": \"table\"}]}, \"layout\": {\"annotationdefaults\": {\"arrowcolor\": \"#2a3f5f\", \"arrowhead\": 0, \"arrowwidth\": 1}, \"coloraxis\": {\"colorbar\": {\"outlinewidth\": 0, \"ticks\": \"\"}}, \"colorscale\": {\"diverging\": [[0, \"#8e0152\"], [0.1, \"#c51b7d\"], [0.2, \"#de77ae\"], [0.3, \"#f1b6da\"], [0.4, \"#fde0ef\"], [0.5, \"#f7f7f7\"], [0.6, \"#e6f5d0\"], [0.7, \"#b8e186\"], [0.8, \"#7fbc41\"], [0.9, \"#4d9221\"], [1, \"#276419\"]], \"sequential\": [[0.0, \"#0d0887\"], [0.1111111111111111, \"#46039f\"], [0.2222222222222222, \"#7201a8\"], [0.3333333333333333, \"#9c179e\"], [0.4444444444444444, \"#bd3786\"], [0.5555555555555556, \"#d8576b\"], [0.6666666666666666, \"#ed7953\"], [0.7777777777777778, \"#fb9f3a\"], [0.8888888888888888, \"#fdca26\"], [1.0, \"#f0f921\"]], \"sequentialminus\": [[0.0, \"#0d0887\"], [0.1111111111111111, \"#46039f\"], [0.2222222222222222, \"#7201a8\"], [0.3333333333333333, \"#9c179e\"], [0.4444444444444444, \"#bd3786\"], [0.5555555555555556, \"#d8576b\"], [0.6666666666666666, \"#ed7953\"], [0.7777777777777778, \"#fb9f3a\"], [0.8888888888888888, \"#fdca26\"], [1.0, \"#f0f921\"]]}, \"colorway\": [\"#636efa\", \"#EF553B\", \"#00cc96\", \"#ab63fa\", \"#FFA15A\", \"#19d3f3\", \"#FF6692\", \"#B6E880\", \"#FF97FF\", \"#FECB52\"], \"font\": {\"color\": \"#2a3f5f\"}, \"geo\": {\"bgcolor\": \"white\", \"lakecolor\": \"white\", \"landcolor\": \"#E5ECF6\", \"showlakes\": true, \"showland\": true, \"subunitcolor\": \"white\"}, \"hoverlabel\": {\"align\": \"left\"}, \"hovermode\": \"closest\", \"mapbox\": {\"style\": \"light\"}, \"paper_bgcolor\": \"white\", \"plot_bgcolor\": \"#E5ECF6\", \"polar\": {\"angularaxis\": {\"gridcolor\": \"white\", \"linecolor\": \"white\", \"ticks\": \"\"}, \"bgcolor\": \"#E5ECF6\", \"radialaxis\": {\"gridcolor\": \"white\", \"linecolor\": \"white\", \"ticks\": \"\"}}, \"scene\": {\"xaxis\": {\"backgroundcolor\": \"#E5ECF6\", \"gridcolor\": \"white\", \"gridwidth\": 2, \"linecolor\": \"white\", \"showbackground\": true, \"ticks\": \"\", \"zerolinecolor\": \"white\"}, \"yaxis\": {\"backgroundcolor\": \"#E5ECF6\", \"gridcolor\": \"white\", \"gridwidth\": 2, \"linecolor\": \"white\", \"showbackground\": true, \"ticks\": \"\", \"zerolinecolor\": \"white\"}, \"zaxis\": {\"backgroundcolor\": \"#E5ECF6\", \"gridcolor\": \"white\", \"gridwidth\": 2, \"linecolor\": \"white\", \"showbackground\": true, \"ticks\": \"\", \"zerolinecolor\": \"white\"}}, \"shapedefaults\": {\"line\": {\"color\": \"#2a3f5f\"}}, \"ternary\": {\"aaxis\": {\"gridcolor\": \"white\", \"linecolor\": \"white\", \"ticks\": \"\"}, \"baxis\": {\"gridcolor\": \"white\", \"linecolor\": \"white\", \"ticks\": \"\"}, \"bgcolor\": \"#E5ECF6\", \"caxis\": {\"gridcolor\": \"white\", \"linecolor\": \"white\", \"ticks\": \"\"}}, \"title\": {\"x\": 0.05}, \"xaxis\": {\"automargin\": true, \"gridcolor\": \"white\", \"linecolor\": \"white\", \"ticks\": \"\", \"title\": {\"standoff\": 15}, \"zerolinecolor\": \"white\", \"zerolinewidth\": 2}, \"yaxis\": {\"automargin\": true, \"gridcolor\": \"white\", \"linecolor\": \"white\", \"ticks\": \"\", \"title\": {\"standoff\": 15}, \"zerolinecolor\": \"white\", \"zerolinewidth\": 2}}}, \"title\": {\"text\": \"Import Quantity products over a year\"}, \"xaxis\": {\"anchor\": \"y\", \"domain\": [0.0, 1.0], \"title\": {\"text\": \"Item\"}}, \"yaxis\": {\"anchor\": \"x\", \"domain\": [0.0, 1.0], \"title\": {\"text\": \"Value\"}}},\n",
       "                        {\"responsive\": true}\n",
       "                    ).then(function(){\n",
       "                            \n",
       "var gd = document.getElementById('a123602b-f9d9-42cf-910d-420da8dad733');\n",
       "var x = new MutationObserver(function (mutations, observer) {{\n",
       "        var display = window.getComputedStyle(gd).display;\n",
       "        if (!display || display === 'none') {{\n",
       "            console.log([gd, 'removed!']);\n",
       "            Plotly.purge(gd);\n",
       "            observer.disconnect();\n",
       "        }}\n",
       "}});\n",
       "\n",
       "// Listen for the removal of the full notebook cells\n",
       "var notebookContainer = gd.closest('#notebook-container');\n",
       "if (notebookContainer) {{\n",
       "    x.observe(notebookContainer, {childList: true});\n",
       "}}\n",
       "\n",
       "// Listen for the clearing of the current output cell\n",
       "var outputEl = gd.closest('.output');\n",
       "if (outputEl) {{\n",
       "    x.observe(outputEl, {childList: true});\n",
       "}}\n",
       "\n",
       "                        })\n",
       "                };\n",
       "                });\n",
       "            </script>\n",
       "        </div>"
      ]
     },
     "metadata": {},
     "output_type": "display_data"
    },
    {
     "data": {
      "application/vnd.plotly.v1+json": {
       "config": {
        "linkText": "Export to plot.ly",
        "plotlyServerURL": "https://plot.ly",
        "showLink": false
       },
       "data": [
        {
         "alignmentgroup": "True",
         "customdata": [
          [
           2002
          ],
          [
           2003
          ],
          [
           2004
          ],
          [
           2005
          ],
          [
           2006
          ],
          [
           2007
          ],
          [
           2008
          ],
          [
           2009
          ],
          [
           2010
          ],
          [
           2011
          ],
          [
           2012
          ],
          [
           2013
          ],
          [
           2014
          ],
          [
           2015
          ],
          [
           2016
          ],
          [
           2017
          ],
          [
           2002
          ],
          [
           2003
          ],
          [
           2004
          ],
          [
           2005
          ],
          [
           2006
          ],
          [
           2007
          ],
          [
           2008
          ],
          [
           2009
          ],
          [
           2010
          ],
          [
           2011
          ],
          [
           2012
          ],
          [
           2013
          ],
          [
           2014
          ],
          [
           2015
          ],
          [
           2016
          ],
          [
           2017
          ],
          [
           2002
          ],
          [
           2003
          ],
          [
           2004
          ],
          [
           2005
          ],
          [
           2006
          ],
          [
           2007
          ],
          [
           2008
          ],
          [
           2009
          ],
          [
           2010
          ],
          [
           2011
          ],
          [
           2012
          ],
          [
           2013
          ],
          [
           2014
          ],
          [
           2015
          ],
          [
           2016
          ],
          [
           2017
          ],
          [
           2003
          ],
          [
           2006
          ],
          [
           2011
          ],
          [
           2012
          ],
          [
           2013
          ],
          [
           2014
          ],
          [
           2015
          ],
          [
           2016
          ],
          [
           2017
          ],
          [
           2002
          ],
          [
           2003
          ],
          [
           2004
          ],
          [
           2005
          ],
          [
           2006
          ],
          [
           2007
          ],
          [
           2008
          ],
          [
           2009
          ],
          [
           2010
          ],
          [
           2011
          ],
          [
           2012
          ],
          [
           2013
          ],
          [
           2014
          ],
          [
           2015
          ],
          [
           2016
          ],
          [
           2017
          ],
          [
           2002
          ],
          [
           2003
          ],
          [
           2004
          ],
          [
           2005
          ],
          [
           2006
          ],
          [
           2007
          ],
          [
           2008
          ],
          [
           2009
          ],
          [
           2010
          ],
          [
           2011
          ],
          [
           2012
          ],
          [
           2013
          ],
          [
           2014
          ],
          [
           2015
          ],
          [
           2016
          ],
          [
           2017
          ],
          [
           2002
          ],
          [
           2003
          ],
          [
           2004
          ],
          [
           2005
          ],
          [
           2006
          ],
          [
           2007
          ],
          [
           2008
          ],
          [
           2009
          ],
          [
           2010
          ],
          [
           2011
          ],
          [
           2012
          ],
          [
           2013
          ],
          [
           2014
          ],
          [
           2015
          ],
          [
           2016
          ],
          [
           2017
          ],
          [
           2002
          ],
          [
           2003
          ],
          [
           2004
          ],
          [
           2005
          ],
          [
           2006
          ],
          [
           2007
          ],
          [
           2008
          ],
          [
           2009
          ],
          [
           2010
          ],
          [
           2011
          ],
          [
           2012
          ],
          [
           2013
          ],
          [
           2014
          ],
          [
           2015
          ],
          [
           2016
          ],
          [
           2017
          ],
          [
           2002
          ],
          [
           2003
          ],
          [
           2004
          ],
          [
           2005
          ],
          [
           2006
          ],
          [
           2007
          ],
          [
           2008
          ],
          [
           2009
          ],
          [
           2010
          ],
          [
           2011
          ],
          [
           2012
          ],
          [
           2013
          ],
          [
           2014
          ],
          [
           2015
          ],
          [
           2016
          ],
          [
           2017
          ],
          [
           2002
          ],
          [
           2003
          ],
          [
           2004
          ],
          [
           2005
          ],
          [
           2006
          ],
          [
           2007
          ],
          [
           2008
          ],
          [
           2009
          ],
          [
           2010
          ],
          [
           2011
          ],
          [
           2012
          ],
          [
           2013
          ],
          [
           2014
          ],
          [
           2015
          ],
          [
           2016
          ],
          [
           2017
          ],
          [
           2002
          ],
          [
           2003
          ],
          [
           2004
          ],
          [
           2005
          ],
          [
           2006
          ],
          [
           2007
          ],
          [
           2008
          ],
          [
           2009
          ],
          [
           2010
          ],
          [
           2011
          ],
          [
           2012
          ],
          [
           2013
          ],
          [
           2014
          ],
          [
           2015
          ],
          [
           2016
          ],
          [
           2017
          ],
          [
           2002
          ],
          [
           2003
          ],
          [
           2004
          ],
          [
           2005
          ],
          [
           2006
          ],
          [
           2007
          ],
          [
           2008
          ],
          [
           2009
          ],
          [
           2010
          ],
          [
           2011
          ],
          [
           2012
          ],
          [
           2013
          ],
          [
           2014
          ],
          [
           2015
          ],
          [
           2016
          ],
          [
           2017
          ],
          [
           2002
          ],
          [
           2003
          ],
          [
           2004
          ],
          [
           2005
          ],
          [
           2006
          ],
          [
           2007
          ],
          [
           2008
          ],
          [
           2009
          ],
          [
           2010
          ],
          [
           2011
          ],
          [
           2012
          ],
          [
           2013
          ],
          [
           2014
          ],
          [
           2015
          ],
          [
           2016
          ],
          [
           2017
          ],
          [
           2002
          ],
          [
           2003
          ],
          [
           2004
          ],
          [
           2005
          ],
          [
           2006
          ],
          [
           2007
          ],
          [
           2008
          ],
          [
           2009
          ],
          [
           2010
          ],
          [
           2011
          ],
          [
           2012
          ],
          [
           2013
          ],
          [
           2014
          ],
          [
           2015
          ],
          [
           2016
          ],
          [
           2017
          ],
          [
           2002
          ],
          [
           2003
          ],
          [
           2004
          ],
          [
           2005
          ],
          [
           2006
          ],
          [
           2007
          ],
          [
           2008
          ],
          [
           2009
          ],
          [
           2010
          ],
          [
           2011
          ],
          [
           2012
          ],
          [
           2013
          ],
          [
           2014
          ],
          [
           2015
          ],
          [
           2016
          ],
          [
           2017
          ],
          [
           2004
          ],
          [
           2007
          ],
          [
           2008
          ],
          [
           2009
          ],
          [
           2010
          ],
          [
           2011
          ],
          [
           2012
          ],
          [
           2013
          ],
          [
           2014
          ],
          [
           2015
          ],
          [
           2016
          ],
          [
           2017
          ],
          [
           2002
          ],
          [
           2003
          ],
          [
           2004
          ],
          [
           2005
          ],
          [
           2006
          ],
          [
           2007
          ],
          [
           2008
          ],
          [
           2009
          ],
          [
           2010
          ],
          [
           2011
          ],
          [
           2012
          ],
          [
           2013
          ],
          [
           2014
          ],
          [
           2015
          ],
          [
           2016
          ],
          [
           2017
          ],
          [
           2002
          ],
          [
           2003
          ],
          [
           2004
          ],
          [
           2005
          ],
          [
           2006
          ],
          [
           2007
          ],
          [
           2008
          ],
          [
           2009
          ],
          [
           2010
          ],
          [
           2011
          ],
          [
           2012
          ],
          [
           2013
          ],
          [
           2014
          ],
          [
           2015
          ],
          [
           2016
          ],
          [
           2017
          ],
          [
           2002
          ],
          [
           2003
          ],
          [
           2004
          ],
          [
           2005
          ],
          [
           2006
          ],
          [
           2007
          ],
          [
           2008
          ],
          [
           2009
          ],
          [
           2010
          ],
          [
           2011
          ],
          [
           2012
          ],
          [
           2013
          ],
          [
           2014
          ],
          [
           2015
          ],
          [
           2016
          ],
          [
           2017
          ],
          [
           2017
          ],
          [
           2002
          ],
          [
           2003
          ],
          [
           2004
          ],
          [
           2005
          ],
          [
           2006
          ],
          [
           2007
          ],
          [
           2008
          ],
          [
           2009
          ],
          [
           2010
          ],
          [
           2011
          ],
          [
           2012
          ],
          [
           2013
          ],
          [
           2014
          ],
          [
           2015
          ],
          [
           2016
          ],
          [
           2017
          ],
          [
           2005
          ],
          [
           2007
          ],
          [
           2008
          ],
          [
           2009
          ],
          [
           2010
          ],
          [
           2011
          ],
          [
           2012
          ],
          [
           2013
          ],
          [
           2014
          ],
          [
           2015
          ],
          [
           2016
          ],
          [
           2017
          ]
         ],
         "hovertemplate": "Item=%{x}<br>Value=%{y}<br>Year=%{customdata[0]}<extra></extra>",
         "legendgroup": "",
         "marker": {
          "color": "#636efa"
         },
         "name": "",
         "offsetgroup": "",
         "orientation": "v",
         "showlegend": false,
         "textposition": "auto",
         "type": "bar",
         "x": [
          "Ammonia, anhydrous",
          "Ammonia, anhydrous",
          "Ammonia, anhydrous",
          "Ammonia, anhydrous",
          "Ammonia, anhydrous",
          "Ammonia, anhydrous",
          "Ammonia, anhydrous",
          "Ammonia, anhydrous",
          "Ammonia, anhydrous",
          "Ammonia, anhydrous",
          "Ammonia, anhydrous",
          "Ammonia, anhydrous",
          "Ammonia, anhydrous",
          "Ammonia, anhydrous",
          "Ammonia, anhydrous",
          "Ammonia, anhydrous",
          "Ammonium nitrate (AN)",
          "Ammonium nitrate (AN)",
          "Ammonium nitrate (AN)",
          "Ammonium nitrate (AN)",
          "Ammonium nitrate (AN)",
          "Ammonium nitrate (AN)",
          "Ammonium nitrate (AN)",
          "Ammonium nitrate (AN)",
          "Ammonium nitrate (AN)",
          "Ammonium nitrate (AN)",
          "Ammonium nitrate (AN)",
          "Ammonium nitrate (AN)",
          "Ammonium nitrate (AN)",
          "Ammonium nitrate (AN)",
          "Ammonium nitrate (AN)",
          "Ammonium nitrate (AN)",
          "Ammonium sulphate",
          "Ammonium sulphate",
          "Ammonium sulphate",
          "Ammonium sulphate",
          "Ammonium sulphate",
          "Ammonium sulphate",
          "Ammonium sulphate",
          "Ammonium sulphate",
          "Ammonium sulphate",
          "Ammonium sulphate",
          "Ammonium sulphate",
          "Ammonium sulphate",
          "Ammonium sulphate",
          "Ammonium sulphate",
          "Ammonium sulphate",
          "Ammonium sulphate",
          "Calcium ammonium nitrate (CAN) and other mixtures with calcium carbonate",
          "Calcium ammonium nitrate (CAN) and other mixtures with calcium carbonate",
          "Calcium ammonium nitrate (CAN) and other mixtures with calcium carbonate",
          "Calcium ammonium nitrate (CAN) and other mixtures with calcium carbonate",
          "Calcium ammonium nitrate (CAN) and other mixtures with calcium carbonate",
          "Calcium ammonium nitrate (CAN) and other mixtures with calcium carbonate",
          "Calcium ammonium nitrate (CAN) and other mixtures with calcium carbonate",
          "Calcium ammonium nitrate (CAN) and other mixtures with calcium carbonate",
          "Calcium ammonium nitrate (CAN) and other mixtures with calcium carbonate",
          "Diammonium phosphate (DAP)",
          "Diammonium phosphate (DAP)",
          "Diammonium phosphate (DAP)",
          "Diammonium phosphate (DAP)",
          "Diammonium phosphate (DAP)",
          "Diammonium phosphate (DAP)",
          "Diammonium phosphate (DAP)",
          "Diammonium phosphate (DAP)",
          "Diammonium phosphate (DAP)",
          "Diammonium phosphate (DAP)",
          "Diammonium phosphate (DAP)",
          "Diammonium phosphate (DAP)",
          "Diammonium phosphate (DAP)",
          "Diammonium phosphate (DAP)",
          "Diammonium phosphate (DAP)",
          "Diammonium phosphate (DAP)",
          "Fertilizers n.e.c.",
          "Fertilizers n.e.c.",
          "Fertilizers n.e.c.",
          "Fertilizers n.e.c.",
          "Fertilizers n.e.c.",
          "Fertilizers n.e.c.",
          "Fertilizers n.e.c.",
          "Fertilizers n.e.c.",
          "Fertilizers n.e.c.",
          "Fertilizers n.e.c.",
          "Fertilizers n.e.c.",
          "Fertilizers n.e.c.",
          "Fertilizers n.e.c.",
          "Fertilizers n.e.c.",
          "Fertilizers n.e.c.",
          "Fertilizers n.e.c.",
          "Monoammonium phosphate (MAP)",
          "Monoammonium phosphate (MAP)",
          "Monoammonium phosphate (MAP)",
          "Monoammonium phosphate (MAP)",
          "Monoammonium phosphate (MAP)",
          "Monoammonium phosphate (MAP)",
          "Monoammonium phosphate (MAP)",
          "Monoammonium phosphate (MAP)",
          "Monoammonium phosphate (MAP)",
          "Monoammonium phosphate (MAP)",
          "Monoammonium phosphate (MAP)",
          "Monoammonium phosphate (MAP)",
          "Monoammonium phosphate (MAP)",
          "Monoammonium phosphate (MAP)",
          "Monoammonium phosphate (MAP)",
          "Monoammonium phosphate (MAP)",
          "NPK fertilizers",
          "NPK fertilizers",
          "NPK fertilizers",
          "NPK fertilizers",
          "NPK fertilizers",
          "NPK fertilizers",
          "NPK fertilizers",
          "NPK fertilizers",
          "NPK fertilizers",
          "NPK fertilizers",
          "NPK fertilizers",
          "NPK fertilizers",
          "NPK fertilizers",
          "NPK fertilizers",
          "NPK fertilizers",
          "NPK fertilizers",
          "Other nitrogenous fertilizers, n.e.c.",
          "Other nitrogenous fertilizers, n.e.c.",
          "Other nitrogenous fertilizers, n.e.c.",
          "Other nitrogenous fertilizers, n.e.c.",
          "Other nitrogenous fertilizers, n.e.c.",
          "Other nitrogenous fertilizers, n.e.c.",
          "Other nitrogenous fertilizers, n.e.c.",
          "Other nitrogenous fertilizers, n.e.c.",
          "Other nitrogenous fertilizers, n.e.c.",
          "Other nitrogenous fertilizers, n.e.c.",
          "Other nitrogenous fertilizers, n.e.c.",
          "Other nitrogenous fertilizers, n.e.c.",
          "Other nitrogenous fertilizers, n.e.c.",
          "Other nitrogenous fertilizers, n.e.c.",
          "Other nitrogenous fertilizers, n.e.c.",
          "Other nitrogenous fertilizers, n.e.c.",
          "Other NP compounds",
          "Other NP compounds",
          "Other NP compounds",
          "Other NP compounds",
          "Other NP compounds",
          "Other NP compounds",
          "Other NP compounds",
          "Other NP compounds",
          "Other NP compounds",
          "Other NP compounds",
          "Other NP compounds",
          "Other NP compounds",
          "Other NP compounds",
          "Other NP compounds",
          "Other NP compounds",
          "Other NP compounds",
          "Other phosphatic fertilizers, n.e.c.",
          "Other phosphatic fertilizers, n.e.c.",
          "Other phosphatic fertilizers, n.e.c.",
          "Other phosphatic fertilizers, n.e.c.",
          "Other phosphatic fertilizers, n.e.c.",
          "Other phosphatic fertilizers, n.e.c.",
          "Other phosphatic fertilizers, n.e.c.",
          "Other phosphatic fertilizers, n.e.c.",
          "Other phosphatic fertilizers, n.e.c.",
          "Other phosphatic fertilizers, n.e.c.",
          "Other phosphatic fertilizers, n.e.c.",
          "Other phosphatic fertilizers, n.e.c.",
          "Other phosphatic fertilizers, n.e.c.",
          "Other phosphatic fertilizers, n.e.c.",
          "Other phosphatic fertilizers, n.e.c.",
          "Other phosphatic fertilizers, n.e.c.",
          "Other potassic fertilizers, n.e.c.",
          "Other potassic fertilizers, n.e.c.",
          "Other potassic fertilizers, n.e.c.",
          "Other potassic fertilizers, n.e.c.",
          "Other potassic fertilizers, n.e.c.",
          "Other potassic fertilizers, n.e.c.",
          "Other potassic fertilizers, n.e.c.",
          "Other potassic fertilizers, n.e.c.",
          "Other potassic fertilizers, n.e.c.",
          "Other potassic fertilizers, n.e.c.",
          "Other potassic fertilizers, n.e.c.",
          "Other potassic fertilizers, n.e.c.",
          "Other potassic fertilizers, n.e.c.",
          "Other potassic fertilizers, n.e.c.",
          "Other potassic fertilizers, n.e.c.",
          "Other potassic fertilizers, n.e.c.",
          "Phosphate rock",
          "Phosphate rock",
          "Phosphate rock",
          "Phosphate rock",
          "Phosphate rock",
          "Phosphate rock",
          "Phosphate rock",
          "Phosphate rock",
          "Phosphate rock",
          "Phosphate rock",
          "Phosphate rock",
          "Phosphate rock",
          "Phosphate rock",
          "Phosphate rock",
          "Phosphate rock",
          "Phosphate rock",
          "PK compounds",
          "PK compounds",
          "PK compounds",
          "PK compounds",
          "PK compounds",
          "PK compounds",
          "PK compounds",
          "PK compounds",
          "PK compounds",
          "PK compounds",
          "PK compounds",
          "PK compounds",
          "PK compounds",
          "PK compounds",
          "PK compounds",
          "PK compounds",
          "Potassium chloride (muriate of potash) (MOP)",
          "Potassium chloride (muriate of potash) (MOP)",
          "Potassium chloride (muriate of potash) (MOP)",
          "Potassium chloride (muriate of potash) (MOP)",
          "Potassium chloride (muriate of potash) (MOP)",
          "Potassium chloride (muriate of potash) (MOP)",
          "Potassium chloride (muriate of potash) (MOP)",
          "Potassium chloride (muriate of potash) (MOP)",
          "Potassium chloride (muriate of potash) (MOP)",
          "Potassium chloride (muriate of potash) (MOP)",
          "Potassium chloride (muriate of potash) (MOP)",
          "Potassium chloride (muriate of potash) (MOP)",
          "Potassium chloride (muriate of potash) (MOP)",
          "Potassium chloride (muriate of potash) (MOP)",
          "Potassium chloride (muriate of potash) (MOP)",
          "Potassium chloride (muriate of potash) (MOP)",
          "Potassium nitrate",
          "Potassium nitrate",
          "Potassium nitrate",
          "Potassium nitrate",
          "Potassium nitrate",
          "Potassium nitrate",
          "Potassium nitrate",
          "Potassium nitrate",
          "Potassium nitrate",
          "Potassium nitrate",
          "Potassium nitrate",
          "Potassium nitrate",
          "Potassium sulphate (sulphate of potash) (SOP)",
          "Potassium sulphate (sulphate of potash) (SOP)",
          "Potassium sulphate (sulphate of potash) (SOP)",
          "Potassium sulphate (sulphate of potash) (SOP)",
          "Potassium sulphate (sulphate of potash) (SOP)",
          "Potassium sulphate (sulphate of potash) (SOP)",
          "Potassium sulphate (sulphate of potash) (SOP)",
          "Potassium sulphate (sulphate of potash) (SOP)",
          "Potassium sulphate (sulphate of potash) (SOP)",
          "Potassium sulphate (sulphate of potash) (SOP)",
          "Potassium sulphate (sulphate of potash) (SOP)",
          "Potassium sulphate (sulphate of potash) (SOP)",
          "Potassium sulphate (sulphate of potash) (SOP)",
          "Potassium sulphate (sulphate of potash) (SOP)",
          "Potassium sulphate (sulphate of potash) (SOP)",
          "Potassium sulphate (sulphate of potash) (SOP)",
          "Sodium nitrate",
          "Sodium nitrate",
          "Sodium nitrate",
          "Sodium nitrate",
          "Sodium nitrate",
          "Sodium nitrate",
          "Sodium nitrate",
          "Sodium nitrate",
          "Sodium nitrate",
          "Sodium nitrate",
          "Sodium nitrate",
          "Sodium nitrate",
          "Sodium nitrate",
          "Sodium nitrate",
          "Sodium nitrate",
          "Sodium nitrate",
          "Superphosphates above 35%",
          "Superphosphates above 35%",
          "Superphosphates above 35%",
          "Superphosphates above 35%",
          "Superphosphates above 35%",
          "Superphosphates above 35%",
          "Superphosphates above 35%",
          "Superphosphates above 35%",
          "Superphosphates above 35%",
          "Superphosphates above 35%",
          "Superphosphates above 35%",
          "Superphosphates above 35%",
          "Superphosphates above 35%",
          "Superphosphates above 35%",
          "Superphosphates above 35%",
          "Superphosphates above 35%",
          "Superphosphates, other",
          "Urea",
          "Urea",
          "Urea",
          "Urea",
          "Urea",
          "Urea",
          "Urea",
          "Urea",
          "Urea",
          "Urea",
          "Urea",
          "Urea",
          "Urea",
          "Urea",
          "Urea",
          "Urea",
          "Urea and ammonium nitrate solutions (UAN)",
          "Urea and ammonium nitrate solutions (UAN)",
          "Urea and ammonium nitrate solutions (UAN)",
          "Urea and ammonium nitrate solutions (UAN)",
          "Urea and ammonium nitrate solutions (UAN)",
          "Urea and ammonium nitrate solutions (UAN)",
          "Urea and ammonium nitrate solutions (UAN)",
          "Urea and ammonium nitrate solutions (UAN)",
          "Urea and ammonium nitrate solutions (UAN)",
          "Urea and ammonium nitrate solutions (UAN)",
          "Urea and ammonium nitrate solutions (UAN)",
          "Urea and ammonium nitrate solutions (UAN)"
         ],
         "xaxis": "x",
         "y": [
          158,
          78.24,
          160,
          262,
          294,
          23981.93,
          24087.38,
          14870.78,
          35460.87,
          28539,
          24159.32,
          25728.05,
          24036.64,
          39005.54,
          101796.93,
          56537.6,
          31377.38,
          28555.79,
          32364.1,
          32967.68,
          19469.6,
          14148.58,
          13625,
          16496.36,
          10061.68,
          3870.08,
          2760.16,
          2444.4,
          1142.72,
          423.2,
          2612.24,
          2306.68,
          2435.71,
          2463.91,
          1437.35,
          3531.08,
          4345.28,
          4130.25,
          3374.6,
          3473.36,
          2831.31,
          4884,
          1169.19,
          4110.66,
          4068.01,
          5020.03,
          3692.4,
          2873.11,
          1,
          0.03,
          780,
          3791,
          2583,
          1778,
          917,
          894,
          100,
          14297.1,
          14126,
          13332.01,
          13731.36,
          11006.5,
          9909,
          2709.9,
          30112.64,
          10592,
          2756.75,
          7149.76,
          5175,
          7547,
          3591,
          1855,
          963.11,
          11902.03,
          18330.91,
          9182.08,
          7493.7,
          6455.43,
          4747.21,
          8041.91,
          8529.28,
          10233.33,
          11625.71,
          10834.17,
          14543.79,
          12701.62,
          11467.33,
          13953.98,
          18809.04,
          379,
          804.01,
          5187.27,
          238.38,
          86,
          314.35,
          7.93,
          1852.46,
          543.46,
          890.45,
          1383.94,
          2905.45,
          3083.21,
          2313.8,
          4748.2,
          6062.39,
          171739.5,
          231914.89,
          272020.44,
          250049.48,
          273104.75,
          393352.7,
          354248.76,
          263507.27,
          392350.9,
          392365.55,
          374391.72,
          500720.25,
          543865.9,
          454545,
          314635.84,
          290130.56,
          83130.99,
          63360.09,
          133197.14,
          84355.3,
          78072.66,
          36301.17,
          29288.3,
          20483.36,
          29695.5,
          30180.75,
          15492.57,
          17886.23,
          17379.78,
          13877.11,
          16071.16,
          19318.2,
          13532.81,
          22889.99,
          44141.84,
          41502.17,
          31994.22,
          46947.34,
          44781.24,
          46884.77,
          57371.3,
          62663.3,
          50140.4,
          62417.17,
          49312.71,
          42834.13,
          56677.19,
          46647.02,
          693,
          1974.5,
          3753.73,
          7761.42,
          12108.1,
          25854.83,
          14858.5,
          10163.18,
          20132.27,
          12862.59,
          4904.57,
          13706.36,
          15500.62,
          4030,
          5225.52,
          6584.9,
          196.3,
          117.6,
          141.05,
          133.85,
          276.32,
          170.76,
          219.15,
          80.34,
          121.14,
          229.37,
          313.5,
          265.75,
          355.6,
          331.1,
          793.28,
          276.04,
          629,
          4210.01,
          621,
          165.73,
          462.21,
          1026,
          863.63,
          0,
          1653.4,
          1679.13,
          1082.91,
          409.73,
          702.82,
          0.71,
          2.5,
          20,
          112486.9,
          201774.1,
          247299.8,
          191188.59,
          206255.55,
          226869.38,
          213413.53,
          116983.7,
          154494.87,
          124546.65,
          68493.43,
          69723.49,
          46230.12,
          19046.86,
          9997.39,
          8099.59,
          1885.25,
          3525.44,
          4492.26,
          3233.23,
          5895.99,
          13974.07,
          17193.37,
          13862.5,
          21466.38,
          15921.26,
          12187.66,
          33955.47,
          26611.01,
          25371.81,
          19008.02,
          11990.64,
          0.03,
          0.05,
          0.16,
          0.03,
          0.16,
          0.03,
          0.36,
          0.01,
          1.02,
          0.47,
          12.51,
          15,
          0.9,
          14.11,
          0.02,
          0.01,
          0.01,
          98.44,
          532.84,
          169.85,
          256.12,
          721.7,
          313.14,
          547.71,
          468.41,
          281.98,
          439.24,
          797.71,
          5,
          0,
          0.4,
          2.62,
          0.02,
          4.2,
          0.63,
          111.69,
          108.92,
          13.91,
          665.11,
          49.2,
          32.17,
          68.36,
          59.18,
          55.44,
          33548.9,
          46976.26,
          63681.95,
          169471.75,
          134437.13,
          67072.4,
          43276.54,
          66134.58,
          68761.11,
          72230.05,
          34489.76,
          20704.96,
          32067.69,
          15481.68,
          8068.33,
          3095,
          1285.55,
          99206.96,
          45200.54,
          26477.46,
          62324.57,
          9511,
          17162.04,
          15795.95,
          15358.54,
          16152.11,
          10030.8,
          12291.02,
          16291.46,
          17022.23,
          18123.33,
          28501.59,
          20628.42,
          0.34,
          347.55,
          886.69,
          396.25,
          581.09,
          670.51,
          289.5,
          587.08,
          316.4,
          368.11,
          299.4,
          438.59
         ],
         "yaxis": "y"
        }
       ],
       "layout": {
        "barmode": "relative",
        "legend": {
         "tracegroupgap": 0
        },
        "template": {
         "data": {
          "bar": [
           {
            "error_x": {
             "color": "#2a3f5f"
            },
            "error_y": {
             "color": "#2a3f5f"
            },
            "marker": {
             "line": {
              "color": "#E5ECF6",
              "width": 0.5
             }
            },
            "type": "bar"
           }
          ],
          "barpolar": [
           {
            "marker": {
             "line": {
              "color": "#E5ECF6",
              "width": 0.5
             }
            },
            "type": "barpolar"
           }
          ],
          "carpet": [
           {
            "aaxis": {
             "endlinecolor": "#2a3f5f",
             "gridcolor": "white",
             "linecolor": "white",
             "minorgridcolor": "white",
             "startlinecolor": "#2a3f5f"
            },
            "baxis": {
             "endlinecolor": "#2a3f5f",
             "gridcolor": "white",
             "linecolor": "white",
             "minorgridcolor": "white",
             "startlinecolor": "#2a3f5f"
            },
            "type": "carpet"
           }
          ],
          "choropleth": [
           {
            "colorbar": {
             "outlinewidth": 0,
             "ticks": ""
            },
            "type": "choropleth"
           }
          ],
          "contour": [
           {
            "colorbar": {
             "outlinewidth": 0,
             "ticks": ""
            },
            "colorscale": [
             [
              0,
              "#0d0887"
             ],
             [
              0.1111111111111111,
              "#46039f"
             ],
             [
              0.2222222222222222,
              "#7201a8"
             ],
             [
              0.3333333333333333,
              "#9c179e"
             ],
             [
              0.4444444444444444,
              "#bd3786"
             ],
             [
              0.5555555555555556,
              "#d8576b"
             ],
             [
              0.6666666666666666,
              "#ed7953"
             ],
             [
              0.7777777777777778,
              "#fb9f3a"
             ],
             [
              0.8888888888888888,
              "#fdca26"
             ],
             [
              1,
              "#f0f921"
             ]
            ],
            "type": "contour"
           }
          ],
          "contourcarpet": [
           {
            "colorbar": {
             "outlinewidth": 0,
             "ticks": ""
            },
            "type": "contourcarpet"
           }
          ],
          "heatmap": [
           {
            "colorbar": {
             "outlinewidth": 0,
             "ticks": ""
            },
            "colorscale": [
             [
              0,
              "#0d0887"
             ],
             [
              0.1111111111111111,
              "#46039f"
             ],
             [
              0.2222222222222222,
              "#7201a8"
             ],
             [
              0.3333333333333333,
              "#9c179e"
             ],
             [
              0.4444444444444444,
              "#bd3786"
             ],
             [
              0.5555555555555556,
              "#d8576b"
             ],
             [
              0.6666666666666666,
              "#ed7953"
             ],
             [
              0.7777777777777778,
              "#fb9f3a"
             ],
             [
              0.8888888888888888,
              "#fdca26"
             ],
             [
              1,
              "#f0f921"
             ]
            ],
            "type": "heatmap"
           }
          ],
          "heatmapgl": [
           {
            "colorbar": {
             "outlinewidth": 0,
             "ticks": ""
            },
            "colorscale": [
             [
              0,
              "#0d0887"
             ],
             [
              0.1111111111111111,
              "#46039f"
             ],
             [
              0.2222222222222222,
              "#7201a8"
             ],
             [
              0.3333333333333333,
              "#9c179e"
             ],
             [
              0.4444444444444444,
              "#bd3786"
             ],
             [
              0.5555555555555556,
              "#d8576b"
             ],
             [
              0.6666666666666666,
              "#ed7953"
             ],
             [
              0.7777777777777778,
              "#fb9f3a"
             ],
             [
              0.8888888888888888,
              "#fdca26"
             ],
             [
              1,
              "#f0f921"
             ]
            ],
            "type": "heatmapgl"
           }
          ],
          "histogram": [
           {
            "marker": {
             "colorbar": {
              "outlinewidth": 0,
              "ticks": ""
             }
            },
            "type": "histogram"
           }
          ],
          "histogram2d": [
           {
            "colorbar": {
             "outlinewidth": 0,
             "ticks": ""
            },
            "colorscale": [
             [
              0,
              "#0d0887"
             ],
             [
              0.1111111111111111,
              "#46039f"
             ],
             [
              0.2222222222222222,
              "#7201a8"
             ],
             [
              0.3333333333333333,
              "#9c179e"
             ],
             [
              0.4444444444444444,
              "#bd3786"
             ],
             [
              0.5555555555555556,
              "#d8576b"
             ],
             [
              0.6666666666666666,
              "#ed7953"
             ],
             [
              0.7777777777777778,
              "#fb9f3a"
             ],
             [
              0.8888888888888888,
              "#fdca26"
             ],
             [
              1,
              "#f0f921"
             ]
            ],
            "type": "histogram2d"
           }
          ],
          "histogram2dcontour": [
           {
            "colorbar": {
             "outlinewidth": 0,
             "ticks": ""
            },
            "colorscale": [
             [
              0,
              "#0d0887"
             ],
             [
              0.1111111111111111,
              "#46039f"
             ],
             [
              0.2222222222222222,
              "#7201a8"
             ],
             [
              0.3333333333333333,
              "#9c179e"
             ],
             [
              0.4444444444444444,
              "#bd3786"
             ],
             [
              0.5555555555555556,
              "#d8576b"
             ],
             [
              0.6666666666666666,
              "#ed7953"
             ],
             [
              0.7777777777777778,
              "#fb9f3a"
             ],
             [
              0.8888888888888888,
              "#fdca26"
             ],
             [
              1,
              "#f0f921"
             ]
            ],
            "type": "histogram2dcontour"
           }
          ],
          "mesh3d": [
           {
            "colorbar": {
             "outlinewidth": 0,
             "ticks": ""
            },
            "type": "mesh3d"
           }
          ],
          "parcoords": [
           {
            "line": {
             "colorbar": {
              "outlinewidth": 0,
              "ticks": ""
             }
            },
            "type": "parcoords"
           }
          ],
          "pie": [
           {
            "automargin": true,
            "type": "pie"
           }
          ],
          "scatter": [
           {
            "marker": {
             "colorbar": {
              "outlinewidth": 0,
              "ticks": ""
             }
            },
            "type": "scatter"
           }
          ],
          "scatter3d": [
           {
            "line": {
             "colorbar": {
              "outlinewidth": 0,
              "ticks": ""
             }
            },
            "marker": {
             "colorbar": {
              "outlinewidth": 0,
              "ticks": ""
             }
            },
            "type": "scatter3d"
           }
          ],
          "scattercarpet": [
           {
            "marker": {
             "colorbar": {
              "outlinewidth": 0,
              "ticks": ""
             }
            },
            "type": "scattercarpet"
           }
          ],
          "scattergeo": [
           {
            "marker": {
             "colorbar": {
              "outlinewidth": 0,
              "ticks": ""
             }
            },
            "type": "scattergeo"
           }
          ],
          "scattergl": [
           {
            "marker": {
             "colorbar": {
              "outlinewidth": 0,
              "ticks": ""
             }
            },
            "type": "scattergl"
           }
          ],
          "scattermapbox": [
           {
            "marker": {
             "colorbar": {
              "outlinewidth": 0,
              "ticks": ""
             }
            },
            "type": "scattermapbox"
           }
          ],
          "scatterpolar": [
           {
            "marker": {
             "colorbar": {
              "outlinewidth": 0,
              "ticks": ""
             }
            },
            "type": "scatterpolar"
           }
          ],
          "scatterpolargl": [
           {
            "marker": {
             "colorbar": {
              "outlinewidth": 0,
              "ticks": ""
             }
            },
            "type": "scatterpolargl"
           }
          ],
          "scatterternary": [
           {
            "marker": {
             "colorbar": {
              "outlinewidth": 0,
              "ticks": ""
             }
            },
            "type": "scatterternary"
           }
          ],
          "surface": [
           {
            "colorbar": {
             "outlinewidth": 0,
             "ticks": ""
            },
            "colorscale": [
             [
              0,
              "#0d0887"
             ],
             [
              0.1111111111111111,
              "#46039f"
             ],
             [
              0.2222222222222222,
              "#7201a8"
             ],
             [
              0.3333333333333333,
              "#9c179e"
             ],
             [
              0.4444444444444444,
              "#bd3786"
             ],
             [
              0.5555555555555556,
              "#d8576b"
             ],
             [
              0.6666666666666666,
              "#ed7953"
             ],
             [
              0.7777777777777778,
              "#fb9f3a"
             ],
             [
              0.8888888888888888,
              "#fdca26"
             ],
             [
              1,
              "#f0f921"
             ]
            ],
            "type": "surface"
           }
          ],
          "table": [
           {
            "cells": {
             "fill": {
              "color": "#EBF0F8"
             },
             "line": {
              "color": "white"
             }
            },
            "header": {
             "fill": {
              "color": "#C8D4E3"
             },
             "line": {
              "color": "white"
             }
            },
            "type": "table"
           }
          ]
         },
         "layout": {
          "annotationdefaults": {
           "arrowcolor": "#2a3f5f",
           "arrowhead": 0,
           "arrowwidth": 1
          },
          "coloraxis": {
           "colorbar": {
            "outlinewidth": 0,
            "ticks": ""
           }
          },
          "colorscale": {
           "diverging": [
            [
             0,
             "#8e0152"
            ],
            [
             0.1,
             "#c51b7d"
            ],
            [
             0.2,
             "#de77ae"
            ],
            [
             0.3,
             "#f1b6da"
            ],
            [
             0.4,
             "#fde0ef"
            ],
            [
             0.5,
             "#f7f7f7"
            ],
            [
             0.6,
             "#e6f5d0"
            ],
            [
             0.7,
             "#b8e186"
            ],
            [
             0.8,
             "#7fbc41"
            ],
            [
             0.9,
             "#4d9221"
            ],
            [
             1,
             "#276419"
            ]
           ],
           "sequential": [
            [
             0,
             "#0d0887"
            ],
            [
             0.1111111111111111,
             "#46039f"
            ],
            [
             0.2222222222222222,
             "#7201a8"
            ],
            [
             0.3333333333333333,
             "#9c179e"
            ],
            [
             0.4444444444444444,
             "#bd3786"
            ],
            [
             0.5555555555555556,
             "#d8576b"
            ],
            [
             0.6666666666666666,
             "#ed7953"
            ],
            [
             0.7777777777777778,
             "#fb9f3a"
            ],
            [
             0.8888888888888888,
             "#fdca26"
            ],
            [
             1,
             "#f0f921"
            ]
           ],
           "sequentialminus": [
            [
             0,
             "#0d0887"
            ],
            [
             0.1111111111111111,
             "#46039f"
            ],
            [
             0.2222222222222222,
             "#7201a8"
            ],
            [
             0.3333333333333333,
             "#9c179e"
            ],
            [
             0.4444444444444444,
             "#bd3786"
            ],
            [
             0.5555555555555556,
             "#d8576b"
            ],
            [
             0.6666666666666666,
             "#ed7953"
            ],
            [
             0.7777777777777778,
             "#fb9f3a"
            ],
            [
             0.8888888888888888,
             "#fdca26"
            ],
            [
             1,
             "#f0f921"
            ]
           ]
          },
          "colorway": [
           "#636efa",
           "#EF553B",
           "#00cc96",
           "#ab63fa",
           "#FFA15A",
           "#19d3f3",
           "#FF6692",
           "#B6E880",
           "#FF97FF",
           "#FECB52"
          ],
          "font": {
           "color": "#2a3f5f"
          },
          "geo": {
           "bgcolor": "white",
           "lakecolor": "white",
           "landcolor": "#E5ECF6",
           "showlakes": true,
           "showland": true,
           "subunitcolor": "white"
          },
          "hoverlabel": {
           "align": "left"
          },
          "hovermode": "closest",
          "mapbox": {
           "style": "light"
          },
          "paper_bgcolor": "white",
          "plot_bgcolor": "#E5ECF6",
          "polar": {
           "angularaxis": {
            "gridcolor": "white",
            "linecolor": "white",
            "ticks": ""
           },
           "bgcolor": "#E5ECF6",
           "radialaxis": {
            "gridcolor": "white",
            "linecolor": "white",
            "ticks": ""
           }
          },
          "scene": {
           "xaxis": {
            "backgroundcolor": "#E5ECF6",
            "gridcolor": "white",
            "gridwidth": 2,
            "linecolor": "white",
            "showbackground": true,
            "ticks": "",
            "zerolinecolor": "white"
           },
           "yaxis": {
            "backgroundcolor": "#E5ECF6",
            "gridcolor": "white",
            "gridwidth": 2,
            "linecolor": "white",
            "showbackground": true,
            "ticks": "",
            "zerolinecolor": "white"
           },
           "zaxis": {
            "backgroundcolor": "#E5ECF6",
            "gridcolor": "white",
            "gridwidth": 2,
            "linecolor": "white",
            "showbackground": true,
            "ticks": "",
            "zerolinecolor": "white"
           }
          },
          "shapedefaults": {
           "line": {
            "color": "#2a3f5f"
           }
          },
          "ternary": {
           "aaxis": {
            "gridcolor": "white",
            "linecolor": "white",
            "ticks": ""
           },
           "baxis": {
            "gridcolor": "white",
            "linecolor": "white",
            "ticks": ""
           },
           "bgcolor": "#E5ECF6",
           "caxis": {
            "gridcolor": "white",
            "linecolor": "white",
            "ticks": ""
           }
          },
          "title": {
           "x": 0.05
          },
          "xaxis": {
           "automargin": true,
           "gridcolor": "white",
           "linecolor": "white",
           "ticks": "",
           "title": {
            "standoff": 15
           },
           "zerolinecolor": "white",
           "zerolinewidth": 2
          },
          "yaxis": {
           "automargin": true,
           "gridcolor": "white",
           "linecolor": "white",
           "ticks": "",
           "title": {
            "standoff": 15
           },
           "zerolinecolor": "white",
           "zerolinewidth": 2
          }
         }
        },
        "title": {
         "text": "Export Quantity products over a year"
        },
        "xaxis": {
         "anchor": "y",
         "domain": [
          0,
          1
         ],
         "title": {
          "text": "Item"
         }
        },
        "yaxis": {
         "anchor": "x",
         "domain": [
          0,
          1
         ],
         "title": {
          "text": "Value"
         }
        }
       }
      },
      "text/html": [
       "<div>\n",
       "        \n",
       "        \n",
       "            <div id=\"1d4623f0-f1b5-4870-bed2-589050824017\" class=\"plotly-graph-div\" style=\"height:525px; width:100%;\"></div>\n",
       "            <script type=\"text/javascript\">\n",
       "                require([\"plotly\"], function(Plotly) {\n",
       "                    window.PLOTLYENV=window.PLOTLYENV || {};\n",
       "                    \n",
       "                if (document.getElementById(\"1d4623f0-f1b5-4870-bed2-589050824017\")) {\n",
       "                    Plotly.newPlot(\n",
       "                        '1d4623f0-f1b5-4870-bed2-589050824017',\n",
       "                        [{\"alignmentgroup\": \"True\", \"customdata\": [[2002], [2003], [2004], [2005], [2006], [2007], [2008], [2009], [2010], [2011], [2012], [2013], [2014], [2015], [2016], [2017], [2002], [2003], [2004], [2005], [2006], [2007], [2008], [2009], [2010], [2011], [2012], [2013], [2014], [2015], [2016], [2017], [2002], [2003], [2004], [2005], [2006], [2007], [2008], [2009], [2010], [2011], [2012], [2013], [2014], [2015], [2016], [2017], [2003], [2006], [2011], [2012], [2013], [2014], [2015], [2016], [2017], [2002], [2003], [2004], [2005], [2006], [2007], [2008], [2009], [2010], [2011], [2012], [2013], [2014], [2015], [2016], [2017], [2002], [2003], [2004], [2005], [2006], [2007], [2008], [2009], [2010], [2011], [2012], [2013], [2014], [2015], [2016], [2017], [2002], [2003], [2004], [2005], [2006], [2007], [2008], [2009], [2010], [2011], [2012], [2013], [2014], [2015], [2016], [2017], [2002], [2003], [2004], [2005], [2006], [2007], [2008], [2009], [2010], [2011], [2012], [2013], [2014], [2015], [2016], [2017], [2002], [2003], [2004], [2005], [2006], [2007], [2008], [2009], [2010], [2011], [2012], [2013], [2014], [2015], [2016], [2017], [2002], [2003], [2004], [2005], [2006], [2007], [2008], [2009], [2010], [2011], [2012], [2013], [2014], [2015], [2016], [2017], [2002], [2003], [2004], [2005], [2006], [2007], [2008], [2009], [2010], [2011], [2012], [2013], [2014], [2015], [2016], [2017], [2002], [2003], [2004], [2005], [2006], [2007], [2008], [2009], [2010], [2011], [2012], [2013], [2014], [2015], [2016], [2017], [2002], [2003], [2004], [2005], [2006], [2007], [2008], [2009], [2010], [2011], [2012], [2013], [2014], [2015], [2016], [2017], [2002], [2003], [2004], [2005], [2006], [2007], [2008], [2009], [2010], [2011], [2012], [2013], [2014], [2015], [2016], [2017], [2002], [2003], [2004], [2005], [2006], [2007], [2008], [2009], [2010], [2011], [2012], [2013], [2014], [2015], [2016], [2017], [2004], [2007], [2008], [2009], [2010], [2011], [2012], [2013], [2014], [2015], [2016], [2017], [2002], [2003], [2004], [2005], [2006], [2007], [2008], [2009], [2010], [2011], [2012], [2013], [2014], [2015], [2016], [2017], [2002], [2003], [2004], [2005], [2006], [2007], [2008], [2009], [2010], [2011], [2012], [2013], [2014], [2015], [2016], [2017], [2002], [2003], [2004], [2005], [2006], [2007], [2008], [2009], [2010], [2011], [2012], [2013], [2014], [2015], [2016], [2017], [2017], [2002], [2003], [2004], [2005], [2006], [2007], [2008], [2009], [2010], [2011], [2012], [2013], [2014], [2015], [2016], [2017], [2005], [2007], [2008], [2009], [2010], [2011], [2012], [2013], [2014], [2015], [2016], [2017]], \"hovertemplate\": \"Item=%{x}<br>Value=%{y}<br>Year=%{customdata[0]}<extra></extra>\", \"legendgroup\": \"\", \"marker\": {\"color\": \"#636efa\"}, \"name\": \"\", \"offsetgroup\": \"\", \"orientation\": \"v\", \"showlegend\": false, \"textposition\": \"auto\", \"type\": \"bar\", \"x\": [\"Ammonia, anhydrous\", \"Ammonia, anhydrous\", \"Ammonia, anhydrous\", \"Ammonia, anhydrous\", \"Ammonia, anhydrous\", \"Ammonia, anhydrous\", \"Ammonia, anhydrous\", \"Ammonia, anhydrous\", \"Ammonia, anhydrous\", \"Ammonia, anhydrous\", \"Ammonia, anhydrous\", \"Ammonia, anhydrous\", \"Ammonia, anhydrous\", \"Ammonia, anhydrous\", \"Ammonia, anhydrous\", \"Ammonia, anhydrous\", \"Ammonium nitrate (AN)\", \"Ammonium nitrate (AN)\", \"Ammonium nitrate (AN)\", \"Ammonium nitrate (AN)\", \"Ammonium nitrate (AN)\", \"Ammonium nitrate (AN)\", \"Ammonium nitrate (AN)\", \"Ammonium nitrate (AN)\", \"Ammonium nitrate (AN)\", \"Ammonium nitrate (AN)\", \"Ammonium nitrate (AN)\", \"Ammonium nitrate (AN)\", \"Ammonium nitrate (AN)\", \"Ammonium nitrate (AN)\", \"Ammonium nitrate (AN)\", \"Ammonium nitrate (AN)\", \"Ammonium sulphate\", \"Ammonium sulphate\", \"Ammonium sulphate\", \"Ammonium sulphate\", \"Ammonium sulphate\", \"Ammonium sulphate\", \"Ammonium sulphate\", \"Ammonium sulphate\", \"Ammonium sulphate\", \"Ammonium sulphate\", \"Ammonium sulphate\", \"Ammonium sulphate\", \"Ammonium sulphate\", \"Ammonium sulphate\", \"Ammonium sulphate\", \"Ammonium sulphate\", \"Calcium ammonium nitrate (CAN) and other mixtures with calcium carbonate\", \"Calcium ammonium nitrate (CAN) and other mixtures with calcium carbonate\", \"Calcium ammonium nitrate (CAN) and other mixtures with calcium carbonate\", \"Calcium ammonium nitrate (CAN) and other mixtures with calcium carbonate\", \"Calcium ammonium nitrate (CAN) and other mixtures with calcium carbonate\", \"Calcium ammonium nitrate (CAN) and other mixtures with calcium carbonate\", \"Calcium ammonium nitrate (CAN) and other mixtures with calcium carbonate\", \"Calcium ammonium nitrate (CAN) and other mixtures with calcium carbonate\", \"Calcium ammonium nitrate (CAN) and other mixtures with calcium carbonate\", \"Diammonium phosphate (DAP)\", \"Diammonium phosphate (DAP)\", \"Diammonium phosphate (DAP)\", \"Diammonium phosphate (DAP)\", \"Diammonium phosphate (DAP)\", \"Diammonium phosphate (DAP)\", \"Diammonium phosphate (DAP)\", \"Diammonium phosphate (DAP)\", \"Diammonium phosphate (DAP)\", \"Diammonium phosphate (DAP)\", \"Diammonium phosphate (DAP)\", \"Diammonium phosphate (DAP)\", \"Diammonium phosphate (DAP)\", \"Diammonium phosphate (DAP)\", \"Diammonium phosphate (DAP)\", \"Diammonium phosphate (DAP)\", \"Fertilizers n.e.c.\", \"Fertilizers n.e.c.\", \"Fertilizers n.e.c.\", \"Fertilizers n.e.c.\", \"Fertilizers n.e.c.\", \"Fertilizers n.e.c.\", \"Fertilizers n.e.c.\", \"Fertilizers n.e.c.\", \"Fertilizers n.e.c.\", \"Fertilizers n.e.c.\", \"Fertilizers n.e.c.\", \"Fertilizers n.e.c.\", \"Fertilizers n.e.c.\", \"Fertilizers n.e.c.\", \"Fertilizers n.e.c.\", \"Fertilizers n.e.c.\", \"Monoammonium phosphate (MAP)\", \"Monoammonium phosphate (MAP)\", \"Monoammonium phosphate (MAP)\", \"Monoammonium phosphate (MAP)\", \"Monoammonium phosphate (MAP)\", \"Monoammonium phosphate (MAP)\", \"Monoammonium phosphate (MAP)\", \"Monoammonium phosphate (MAP)\", \"Monoammonium phosphate (MAP)\", \"Monoammonium phosphate (MAP)\", \"Monoammonium phosphate (MAP)\", \"Monoammonium phosphate (MAP)\", \"Monoammonium phosphate (MAP)\", \"Monoammonium phosphate (MAP)\", \"Monoammonium phosphate (MAP)\", \"Monoammonium phosphate (MAP)\", \"NPK fertilizers\", \"NPK fertilizers\", \"NPK fertilizers\", \"NPK fertilizers\", \"NPK fertilizers\", \"NPK fertilizers\", \"NPK fertilizers\", \"NPK fertilizers\", \"NPK fertilizers\", \"NPK fertilizers\", \"NPK fertilizers\", \"NPK fertilizers\", \"NPK fertilizers\", \"NPK fertilizers\", \"NPK fertilizers\", \"NPK fertilizers\", \"Other nitrogenous fertilizers, n.e.c.\", \"Other nitrogenous fertilizers, n.e.c.\", \"Other nitrogenous fertilizers, n.e.c.\", \"Other nitrogenous fertilizers, n.e.c.\", \"Other nitrogenous fertilizers, n.e.c.\", \"Other nitrogenous fertilizers, n.e.c.\", \"Other nitrogenous fertilizers, n.e.c.\", \"Other nitrogenous fertilizers, n.e.c.\", \"Other nitrogenous fertilizers, n.e.c.\", \"Other nitrogenous fertilizers, n.e.c.\", \"Other nitrogenous fertilizers, n.e.c.\", \"Other nitrogenous fertilizers, n.e.c.\", \"Other nitrogenous fertilizers, n.e.c.\", \"Other nitrogenous fertilizers, n.e.c.\", \"Other nitrogenous fertilizers, n.e.c.\", \"Other nitrogenous fertilizers, n.e.c.\", \"Other NP compounds\", \"Other NP compounds\", \"Other NP compounds\", \"Other NP compounds\", \"Other NP compounds\", \"Other NP compounds\", \"Other NP compounds\", \"Other NP compounds\", \"Other NP compounds\", \"Other NP compounds\", \"Other NP compounds\", \"Other NP compounds\", \"Other NP compounds\", \"Other NP compounds\", \"Other NP compounds\", \"Other NP compounds\", \"Other phosphatic fertilizers, n.e.c.\", \"Other phosphatic fertilizers, n.e.c.\", \"Other phosphatic fertilizers, n.e.c.\", \"Other phosphatic fertilizers, n.e.c.\", \"Other phosphatic fertilizers, n.e.c.\", \"Other phosphatic fertilizers, n.e.c.\", \"Other phosphatic fertilizers, n.e.c.\", \"Other phosphatic fertilizers, n.e.c.\", \"Other phosphatic fertilizers, n.e.c.\", \"Other phosphatic fertilizers, n.e.c.\", \"Other phosphatic fertilizers, n.e.c.\", \"Other phosphatic fertilizers, n.e.c.\", \"Other phosphatic fertilizers, n.e.c.\", \"Other phosphatic fertilizers, n.e.c.\", \"Other phosphatic fertilizers, n.e.c.\", \"Other phosphatic fertilizers, n.e.c.\", \"Other potassic fertilizers, n.e.c.\", \"Other potassic fertilizers, n.e.c.\", \"Other potassic fertilizers, n.e.c.\", \"Other potassic fertilizers, n.e.c.\", \"Other potassic fertilizers, n.e.c.\", \"Other potassic fertilizers, n.e.c.\", \"Other potassic fertilizers, n.e.c.\", \"Other potassic fertilizers, n.e.c.\", \"Other potassic fertilizers, n.e.c.\", \"Other potassic fertilizers, n.e.c.\", \"Other potassic fertilizers, n.e.c.\", \"Other potassic fertilizers, n.e.c.\", \"Other potassic fertilizers, n.e.c.\", \"Other potassic fertilizers, n.e.c.\", \"Other potassic fertilizers, n.e.c.\", \"Other potassic fertilizers, n.e.c.\", \"Phosphate rock\", \"Phosphate rock\", \"Phosphate rock\", \"Phosphate rock\", \"Phosphate rock\", \"Phosphate rock\", \"Phosphate rock\", \"Phosphate rock\", \"Phosphate rock\", \"Phosphate rock\", \"Phosphate rock\", \"Phosphate rock\", \"Phosphate rock\", \"Phosphate rock\", \"Phosphate rock\", \"Phosphate rock\", \"PK compounds\", \"PK compounds\", \"PK compounds\", \"PK compounds\", \"PK compounds\", \"PK compounds\", \"PK compounds\", \"PK compounds\", \"PK compounds\", \"PK compounds\", \"PK compounds\", \"PK compounds\", \"PK compounds\", \"PK compounds\", \"PK compounds\", \"PK compounds\", \"Potassium chloride (muriate of potash) (MOP)\", \"Potassium chloride (muriate of potash) (MOP)\", \"Potassium chloride (muriate of potash) (MOP)\", \"Potassium chloride (muriate of potash) (MOP)\", \"Potassium chloride (muriate of potash) (MOP)\", \"Potassium chloride (muriate of potash) (MOP)\", \"Potassium chloride (muriate of potash) (MOP)\", \"Potassium chloride (muriate of potash) (MOP)\", \"Potassium chloride (muriate of potash) (MOP)\", \"Potassium chloride (muriate of potash) (MOP)\", \"Potassium chloride (muriate of potash) (MOP)\", \"Potassium chloride (muriate of potash) (MOP)\", \"Potassium chloride (muriate of potash) (MOP)\", \"Potassium chloride (muriate of potash) (MOP)\", \"Potassium chloride (muriate of potash) (MOP)\", \"Potassium chloride (muriate of potash) (MOP)\", \"Potassium nitrate\", \"Potassium nitrate\", \"Potassium nitrate\", \"Potassium nitrate\", \"Potassium nitrate\", \"Potassium nitrate\", \"Potassium nitrate\", \"Potassium nitrate\", \"Potassium nitrate\", \"Potassium nitrate\", \"Potassium nitrate\", \"Potassium nitrate\", \"Potassium sulphate (sulphate of potash) (SOP)\", \"Potassium sulphate (sulphate of potash) (SOP)\", \"Potassium sulphate (sulphate of potash) (SOP)\", \"Potassium sulphate (sulphate of potash) (SOP)\", \"Potassium sulphate (sulphate of potash) (SOP)\", \"Potassium sulphate (sulphate of potash) (SOP)\", \"Potassium sulphate (sulphate of potash) (SOP)\", \"Potassium sulphate (sulphate of potash) (SOP)\", \"Potassium sulphate (sulphate of potash) (SOP)\", \"Potassium sulphate (sulphate of potash) (SOP)\", \"Potassium sulphate (sulphate of potash) (SOP)\", \"Potassium sulphate (sulphate of potash) (SOP)\", \"Potassium sulphate (sulphate of potash) (SOP)\", \"Potassium sulphate (sulphate of potash) (SOP)\", \"Potassium sulphate (sulphate of potash) (SOP)\", \"Potassium sulphate (sulphate of potash) (SOP)\", \"Sodium nitrate\", \"Sodium nitrate\", \"Sodium nitrate\", \"Sodium nitrate\", \"Sodium nitrate\", \"Sodium nitrate\", \"Sodium nitrate\", \"Sodium nitrate\", \"Sodium nitrate\", \"Sodium nitrate\", \"Sodium nitrate\", \"Sodium nitrate\", \"Sodium nitrate\", \"Sodium nitrate\", \"Sodium nitrate\", \"Sodium nitrate\", \"Superphosphates above 35%\", \"Superphosphates above 35%\", \"Superphosphates above 35%\", \"Superphosphates above 35%\", \"Superphosphates above 35%\", \"Superphosphates above 35%\", \"Superphosphates above 35%\", \"Superphosphates above 35%\", \"Superphosphates above 35%\", \"Superphosphates above 35%\", \"Superphosphates above 35%\", \"Superphosphates above 35%\", \"Superphosphates above 35%\", \"Superphosphates above 35%\", \"Superphosphates above 35%\", \"Superphosphates above 35%\", \"Superphosphates, other\", \"Urea\", \"Urea\", \"Urea\", \"Urea\", \"Urea\", \"Urea\", \"Urea\", \"Urea\", \"Urea\", \"Urea\", \"Urea\", \"Urea\", \"Urea\", \"Urea\", \"Urea\", \"Urea\", \"Urea and ammonium nitrate solutions (UAN)\", \"Urea and ammonium nitrate solutions (UAN)\", \"Urea and ammonium nitrate solutions (UAN)\", \"Urea and ammonium nitrate solutions (UAN)\", \"Urea and ammonium nitrate solutions (UAN)\", \"Urea and ammonium nitrate solutions (UAN)\", \"Urea and ammonium nitrate solutions (UAN)\", \"Urea and ammonium nitrate solutions (UAN)\", \"Urea and ammonium nitrate solutions (UAN)\", \"Urea and ammonium nitrate solutions (UAN)\", \"Urea and ammonium nitrate solutions (UAN)\", \"Urea and ammonium nitrate solutions (UAN)\"], \"xaxis\": \"x\", \"y\": [158.0, 78.24, 160.0, 262.0, 294.0, 23981.93, 24087.38, 14870.78, 35460.87, 28539.0, 24159.32, 25728.05, 24036.64, 39005.54, 101796.93, 56537.6, 31377.38, 28555.79, 32364.1, 32967.68, 19469.6, 14148.58, 13625.0, 16496.36, 10061.68, 3870.08, 2760.16, 2444.4, 1142.72, 423.2, 2612.24, 2306.68, 2435.71, 2463.91, 1437.35, 3531.08, 4345.28, 4130.25, 3374.6, 3473.36, 2831.31, 4884.0, 1169.19, 4110.66, 4068.01, 5020.03, 3692.4, 2873.11, 1.0, 0.03, 780.0, 3791.0, 2583.0, 1778.0, 917.0, 894.0, 100.0, 14297.1, 14126.0, 13332.01, 13731.36, 11006.5, 9909.0, 2709.9, 30112.64, 10592.0, 2756.75, 7149.76, 5175.0, 7547.0, 3591.0, 1855.0, 963.11, 11902.03, 18330.91, 9182.08, 7493.7, 6455.43, 4747.21, 8041.91, 8529.28, 10233.33, 11625.71, 10834.17, 14543.79, 12701.62, 11467.33, 13953.98, 18809.04, 379.0, 804.01, 5187.27, 238.38, 86.0, 314.35, 7.93, 1852.46, 543.46, 890.45, 1383.94, 2905.45, 3083.21, 2313.8, 4748.2, 6062.39, 171739.5, 231914.89, 272020.44, 250049.48, 273104.75, 393352.7, 354248.76, 263507.27, 392350.9, 392365.55, 374391.72, 500720.25, 543865.9, 454545.0, 314635.84, 290130.56, 83130.99, 63360.09, 133197.14, 84355.3, 78072.66, 36301.17, 29288.3, 20483.36, 29695.5, 30180.75, 15492.57, 17886.23, 17379.78, 13877.11, 16071.16, 19318.2, 13532.81, 22889.99, 44141.84, 41502.17, 31994.22, 46947.34, 44781.24, 46884.77, 57371.3, 62663.3, 50140.4, 62417.17, 49312.71, 42834.13, 56677.19, 46647.02, 693.0, 1974.5, 3753.73, 7761.42, 12108.1, 25854.83, 14858.5, 10163.18, 20132.27, 12862.59, 4904.57, 13706.36, 15500.62, 4030.0, 5225.52, 6584.9, 196.3, 117.6, 141.05, 133.85, 276.32, 170.76, 219.15, 80.34, 121.14, 229.37, 313.5, 265.75, 355.6, 331.1, 793.28, 276.04, 629.0, 4210.01, 621.0, 165.73, 462.21, 1026.0, 863.63, 0.0, 1653.4, 1679.13, 1082.91, 409.73, 702.82, 0.71, 2.5, 20.0, 112486.9, 201774.1, 247299.8, 191188.59, 206255.55, 226869.38, 213413.53, 116983.7, 154494.87, 124546.65, 68493.43, 69723.49, 46230.12, 19046.86, 9997.39, 8099.59, 1885.25, 3525.44, 4492.26, 3233.23, 5895.99, 13974.07, 17193.37, 13862.5, 21466.38, 15921.26, 12187.66, 33955.47, 26611.01, 25371.81, 19008.02, 11990.64, 0.03, 0.05, 0.16, 0.03, 0.16, 0.03, 0.36, 0.01, 1.02, 0.47, 12.51, 15.0, 0.9, 14.11, 0.02, 0.01, 0.01, 98.44, 532.84, 169.85, 256.12, 721.7, 313.14, 547.71, 468.41, 281.98, 439.24, 797.71, 5.0, 0.0, 0.4, 2.62, 0.02, 4.2, 0.63, 111.69, 108.92, 13.91, 665.11, 49.2, 32.17, 68.36, 59.18, 55.44, 33548.9, 46976.26, 63681.95, 169471.75, 134437.13, 67072.4, 43276.54, 66134.58, 68761.11, 72230.05, 34489.76, 20704.96, 32067.69, 15481.68, 8068.33, 3095.0, 1285.55, 99206.96, 45200.54, 26477.46, 62324.57, 9511.0, 17162.04, 15795.95, 15358.54, 16152.11, 10030.8, 12291.02, 16291.46, 17022.23, 18123.33, 28501.59, 20628.42, 0.34, 347.55, 886.69, 396.25, 581.09, 670.51, 289.5, 587.08, 316.4, 368.11, 299.4, 438.59], \"yaxis\": \"y\"}],\n",
       "                        {\"barmode\": \"relative\", \"legend\": {\"tracegroupgap\": 0}, \"template\": {\"data\": {\"bar\": [{\"error_x\": {\"color\": \"#2a3f5f\"}, \"error_y\": {\"color\": \"#2a3f5f\"}, \"marker\": {\"line\": {\"color\": \"#E5ECF6\", \"width\": 0.5}}, \"type\": \"bar\"}], \"barpolar\": [{\"marker\": {\"line\": {\"color\": \"#E5ECF6\", \"width\": 0.5}}, \"type\": \"barpolar\"}], \"carpet\": [{\"aaxis\": {\"endlinecolor\": \"#2a3f5f\", \"gridcolor\": \"white\", \"linecolor\": \"white\", \"minorgridcolor\": \"white\", \"startlinecolor\": \"#2a3f5f\"}, \"baxis\": {\"endlinecolor\": \"#2a3f5f\", \"gridcolor\": \"white\", \"linecolor\": \"white\", \"minorgridcolor\": \"white\", \"startlinecolor\": \"#2a3f5f\"}, \"type\": \"carpet\"}], \"choropleth\": [{\"colorbar\": {\"outlinewidth\": 0, \"ticks\": \"\"}, \"type\": \"choropleth\"}], \"contour\": [{\"colorbar\": {\"outlinewidth\": 0, \"ticks\": \"\"}, \"colorscale\": [[0.0, \"#0d0887\"], [0.1111111111111111, \"#46039f\"], [0.2222222222222222, \"#7201a8\"], [0.3333333333333333, \"#9c179e\"], [0.4444444444444444, \"#bd3786\"], [0.5555555555555556, \"#d8576b\"], [0.6666666666666666, \"#ed7953\"], [0.7777777777777778, \"#fb9f3a\"], [0.8888888888888888, \"#fdca26\"], [1.0, \"#f0f921\"]], \"type\": \"contour\"}], \"contourcarpet\": [{\"colorbar\": {\"outlinewidth\": 0, \"ticks\": \"\"}, \"type\": \"contourcarpet\"}], \"heatmap\": [{\"colorbar\": {\"outlinewidth\": 0, \"ticks\": \"\"}, \"colorscale\": [[0.0, \"#0d0887\"], [0.1111111111111111, \"#46039f\"], [0.2222222222222222, \"#7201a8\"], [0.3333333333333333, \"#9c179e\"], [0.4444444444444444, \"#bd3786\"], [0.5555555555555556, \"#d8576b\"], [0.6666666666666666, \"#ed7953\"], [0.7777777777777778, \"#fb9f3a\"], [0.8888888888888888, \"#fdca26\"], [1.0, \"#f0f921\"]], \"type\": \"heatmap\"}], \"heatmapgl\": [{\"colorbar\": {\"outlinewidth\": 0, \"ticks\": \"\"}, \"colorscale\": [[0.0, \"#0d0887\"], [0.1111111111111111, \"#46039f\"], [0.2222222222222222, \"#7201a8\"], [0.3333333333333333, \"#9c179e\"], [0.4444444444444444, \"#bd3786\"], [0.5555555555555556, \"#d8576b\"], [0.6666666666666666, \"#ed7953\"], [0.7777777777777778, \"#fb9f3a\"], [0.8888888888888888, \"#fdca26\"], [1.0, \"#f0f921\"]], \"type\": \"heatmapgl\"}], \"histogram\": [{\"marker\": {\"colorbar\": {\"outlinewidth\": 0, \"ticks\": \"\"}}, \"type\": \"histogram\"}], \"histogram2d\": [{\"colorbar\": {\"outlinewidth\": 0, \"ticks\": \"\"}, \"colorscale\": [[0.0, \"#0d0887\"], [0.1111111111111111, \"#46039f\"], [0.2222222222222222, \"#7201a8\"], [0.3333333333333333, \"#9c179e\"], [0.4444444444444444, \"#bd3786\"], [0.5555555555555556, \"#d8576b\"], [0.6666666666666666, \"#ed7953\"], [0.7777777777777778, \"#fb9f3a\"], [0.8888888888888888, \"#fdca26\"], [1.0, \"#f0f921\"]], \"type\": \"histogram2d\"}], \"histogram2dcontour\": [{\"colorbar\": {\"outlinewidth\": 0, \"ticks\": \"\"}, \"colorscale\": [[0.0, \"#0d0887\"], [0.1111111111111111, \"#46039f\"], [0.2222222222222222, \"#7201a8\"], [0.3333333333333333, \"#9c179e\"], [0.4444444444444444, \"#bd3786\"], [0.5555555555555556, \"#d8576b\"], [0.6666666666666666, \"#ed7953\"], [0.7777777777777778, \"#fb9f3a\"], [0.8888888888888888, \"#fdca26\"], [1.0, \"#f0f921\"]], \"type\": \"histogram2dcontour\"}], \"mesh3d\": [{\"colorbar\": {\"outlinewidth\": 0, \"ticks\": \"\"}, \"type\": \"mesh3d\"}], \"parcoords\": [{\"line\": {\"colorbar\": {\"outlinewidth\": 0, \"ticks\": \"\"}}, \"type\": \"parcoords\"}], \"pie\": [{\"automargin\": true, \"type\": \"pie\"}], \"scatter\": [{\"marker\": {\"colorbar\": {\"outlinewidth\": 0, \"ticks\": \"\"}}, \"type\": \"scatter\"}], \"scatter3d\": [{\"line\": {\"colorbar\": {\"outlinewidth\": 0, \"ticks\": \"\"}}, \"marker\": {\"colorbar\": {\"outlinewidth\": 0, \"ticks\": \"\"}}, \"type\": \"scatter3d\"}], \"scattercarpet\": [{\"marker\": {\"colorbar\": {\"outlinewidth\": 0, \"ticks\": \"\"}}, \"type\": \"scattercarpet\"}], \"scattergeo\": [{\"marker\": {\"colorbar\": {\"outlinewidth\": 0, \"ticks\": \"\"}}, \"type\": \"scattergeo\"}], \"scattergl\": [{\"marker\": {\"colorbar\": {\"outlinewidth\": 0, \"ticks\": \"\"}}, \"type\": \"scattergl\"}], \"scattermapbox\": [{\"marker\": {\"colorbar\": {\"outlinewidth\": 0, \"ticks\": \"\"}}, \"type\": \"scattermapbox\"}], \"scatterpolar\": [{\"marker\": {\"colorbar\": {\"outlinewidth\": 0, \"ticks\": \"\"}}, \"type\": \"scatterpolar\"}], \"scatterpolargl\": [{\"marker\": {\"colorbar\": {\"outlinewidth\": 0, \"ticks\": \"\"}}, \"type\": \"scatterpolargl\"}], \"scatterternary\": [{\"marker\": {\"colorbar\": {\"outlinewidth\": 0, \"ticks\": \"\"}}, \"type\": \"scatterternary\"}], \"surface\": [{\"colorbar\": {\"outlinewidth\": 0, \"ticks\": \"\"}, \"colorscale\": [[0.0, \"#0d0887\"], [0.1111111111111111, \"#46039f\"], [0.2222222222222222, \"#7201a8\"], [0.3333333333333333, \"#9c179e\"], [0.4444444444444444, \"#bd3786\"], [0.5555555555555556, \"#d8576b\"], [0.6666666666666666, \"#ed7953\"], [0.7777777777777778, \"#fb9f3a\"], [0.8888888888888888, \"#fdca26\"], [1.0, \"#f0f921\"]], \"type\": \"surface\"}], \"table\": [{\"cells\": {\"fill\": {\"color\": \"#EBF0F8\"}, \"line\": {\"color\": \"white\"}}, \"header\": {\"fill\": {\"color\": \"#C8D4E3\"}, \"line\": {\"color\": \"white\"}}, \"type\": \"table\"}]}, \"layout\": {\"annotationdefaults\": {\"arrowcolor\": \"#2a3f5f\", \"arrowhead\": 0, \"arrowwidth\": 1}, \"coloraxis\": {\"colorbar\": {\"outlinewidth\": 0, \"ticks\": \"\"}}, \"colorscale\": {\"diverging\": [[0, \"#8e0152\"], [0.1, \"#c51b7d\"], [0.2, \"#de77ae\"], [0.3, \"#f1b6da\"], [0.4, \"#fde0ef\"], [0.5, \"#f7f7f7\"], [0.6, \"#e6f5d0\"], [0.7, \"#b8e186\"], [0.8, \"#7fbc41\"], [0.9, \"#4d9221\"], [1, \"#276419\"]], \"sequential\": [[0.0, \"#0d0887\"], [0.1111111111111111, \"#46039f\"], [0.2222222222222222, \"#7201a8\"], [0.3333333333333333, \"#9c179e\"], [0.4444444444444444, \"#bd3786\"], [0.5555555555555556, \"#d8576b\"], [0.6666666666666666, \"#ed7953\"], [0.7777777777777778, \"#fb9f3a\"], [0.8888888888888888, \"#fdca26\"], [1.0, \"#f0f921\"]], \"sequentialminus\": [[0.0, \"#0d0887\"], [0.1111111111111111, \"#46039f\"], [0.2222222222222222, \"#7201a8\"], [0.3333333333333333, \"#9c179e\"], [0.4444444444444444, \"#bd3786\"], [0.5555555555555556, \"#d8576b\"], [0.6666666666666666, \"#ed7953\"], [0.7777777777777778, \"#fb9f3a\"], [0.8888888888888888, \"#fdca26\"], [1.0, \"#f0f921\"]]}, \"colorway\": [\"#636efa\", \"#EF553B\", \"#00cc96\", \"#ab63fa\", \"#FFA15A\", \"#19d3f3\", \"#FF6692\", \"#B6E880\", \"#FF97FF\", \"#FECB52\"], \"font\": {\"color\": \"#2a3f5f\"}, \"geo\": {\"bgcolor\": \"white\", \"lakecolor\": \"white\", \"landcolor\": \"#E5ECF6\", \"showlakes\": true, \"showland\": true, \"subunitcolor\": \"white\"}, \"hoverlabel\": {\"align\": \"left\"}, \"hovermode\": \"closest\", \"mapbox\": {\"style\": \"light\"}, \"paper_bgcolor\": \"white\", \"plot_bgcolor\": \"#E5ECF6\", \"polar\": {\"angularaxis\": {\"gridcolor\": \"white\", \"linecolor\": \"white\", \"ticks\": \"\"}, \"bgcolor\": \"#E5ECF6\", \"radialaxis\": {\"gridcolor\": \"white\", \"linecolor\": \"white\", \"ticks\": \"\"}}, \"scene\": {\"xaxis\": {\"backgroundcolor\": \"#E5ECF6\", \"gridcolor\": \"white\", \"gridwidth\": 2, \"linecolor\": \"white\", \"showbackground\": true, \"ticks\": \"\", \"zerolinecolor\": \"white\"}, \"yaxis\": {\"backgroundcolor\": \"#E5ECF6\", \"gridcolor\": \"white\", \"gridwidth\": 2, \"linecolor\": \"white\", \"showbackground\": true, \"ticks\": \"\", \"zerolinecolor\": \"white\"}, \"zaxis\": {\"backgroundcolor\": \"#E5ECF6\", \"gridcolor\": \"white\", \"gridwidth\": 2, \"linecolor\": \"white\", \"showbackground\": true, \"ticks\": \"\", \"zerolinecolor\": \"white\"}}, \"shapedefaults\": {\"line\": {\"color\": \"#2a3f5f\"}}, \"ternary\": {\"aaxis\": {\"gridcolor\": \"white\", \"linecolor\": \"white\", \"ticks\": \"\"}, \"baxis\": {\"gridcolor\": \"white\", \"linecolor\": \"white\", \"ticks\": \"\"}, \"bgcolor\": \"#E5ECF6\", \"caxis\": {\"gridcolor\": \"white\", \"linecolor\": \"white\", \"ticks\": \"\"}}, \"title\": {\"x\": 0.05}, \"xaxis\": {\"automargin\": true, \"gridcolor\": \"white\", \"linecolor\": \"white\", \"ticks\": \"\", \"title\": {\"standoff\": 15}, \"zerolinecolor\": \"white\", \"zerolinewidth\": 2}, \"yaxis\": {\"automargin\": true, \"gridcolor\": \"white\", \"linecolor\": \"white\", \"ticks\": \"\", \"title\": {\"standoff\": 15}, \"zerolinecolor\": \"white\", \"zerolinewidth\": 2}}}, \"title\": {\"text\": \"Export Quantity products over a year\"}, \"xaxis\": {\"anchor\": \"y\", \"domain\": [0.0, 1.0], \"title\": {\"text\": \"Item\"}}, \"yaxis\": {\"anchor\": \"x\", \"domain\": [0.0, 1.0], \"title\": {\"text\": \"Value\"}}},\n",
       "                        {\"responsive\": true}\n",
       "                    ).then(function(){\n",
       "                            \n",
       "var gd = document.getElementById('1d4623f0-f1b5-4870-bed2-589050824017');\n",
       "var x = new MutationObserver(function (mutations, observer) {{\n",
       "        var display = window.getComputedStyle(gd).display;\n",
       "        if (!display || display === 'none') {{\n",
       "            console.log([gd, 'removed!']);\n",
       "            Plotly.purge(gd);\n",
       "            observer.disconnect();\n",
       "        }}\n",
       "}});\n",
       "\n",
       "// Listen for the removal of the full notebook cells\n",
       "var notebookContainer = gd.closest('#notebook-container');\n",
       "if (notebookContainer) {{\n",
       "    x.observe(notebookContainer, {childList: true});\n",
       "}}\n",
       "\n",
       "// Listen for the clearing of the current output cell\n",
       "var outputEl = gd.closest('.output');\n",
       "if (outputEl) {{\n",
       "    x.observe(outputEl, {childList: true});\n",
       "}}\n",
       "\n",
       "                        })\n",
       "                };\n",
       "                });\n",
       "            </script>\n",
       "        </div>"
      ]
     },
     "metadata": {},
     "output_type": "display_data"
    },
    {
     "data": {
      "application/vnd.plotly.v1+json": {
       "config": {
        "linkText": "Export to plot.ly",
        "plotlyServerURL": "https://plot.ly",
        "showLink": false
       },
       "data": [
        {
         "alignmentgroup": "True",
         "customdata": [
          [
           2002
          ],
          [
           2003
          ],
          [
           2004
          ],
          [
           2005
          ],
          [
           2006
          ],
          [
           2007
          ],
          [
           2008
          ],
          [
           2009
          ],
          [
           2010
          ],
          [
           2011
          ],
          [
           2012
          ],
          [
           2013
          ],
          [
           2014
          ],
          [
           2015
          ],
          [
           2016
          ],
          [
           2017
          ],
          [
           2002
          ],
          [
           2003
          ],
          [
           2004
          ],
          [
           2005
          ],
          [
           2006
          ],
          [
           2007
          ],
          [
           2008
          ],
          [
           2009
          ],
          [
           2010
          ],
          [
           2011
          ],
          [
           2012
          ],
          [
           2013
          ],
          [
           2014
          ],
          [
           2015
          ],
          [
           2016
          ],
          [
           2017
          ],
          [
           2002
          ],
          [
           2003
          ],
          [
           2004
          ],
          [
           2005
          ],
          [
           2006
          ],
          [
           2007
          ],
          [
           2008
          ],
          [
           2009
          ],
          [
           2010
          ],
          [
           2011
          ],
          [
           2012
          ],
          [
           2013
          ],
          [
           2014
          ],
          [
           2015
          ],
          [
           2016
          ],
          [
           2017
          ],
          [
           2003
          ],
          [
           2004
          ],
          [
           2006
          ],
          [
           2007
          ],
          [
           2008
          ],
          [
           2009
          ],
          [
           2010
          ],
          [
           2011
          ],
          [
           2012
          ],
          [
           2013
          ],
          [
           2014
          ],
          [
           2015
          ],
          [
           2016
          ],
          [
           2017
          ],
          [
           2002
          ],
          [
           2003
          ],
          [
           2004
          ],
          [
           2005
          ],
          [
           2006
          ],
          [
           2007
          ],
          [
           2008
          ],
          [
           2009
          ],
          [
           2010
          ],
          [
           2011
          ],
          [
           2012
          ],
          [
           2013
          ],
          [
           2014
          ],
          [
           2015
          ],
          [
           2016
          ],
          [
           2017
          ],
          [
           2002
          ],
          [
           2003
          ],
          [
           2004
          ],
          [
           2005
          ],
          [
           2006
          ],
          [
           2007
          ],
          [
           2008
          ],
          [
           2009
          ],
          [
           2010
          ],
          [
           2011
          ],
          [
           2012
          ],
          [
           2013
          ],
          [
           2014
          ],
          [
           2015
          ],
          [
           2016
          ],
          [
           2017
          ],
          [
           2002
          ],
          [
           2003
          ],
          [
           2004
          ],
          [
           2005
          ],
          [
           2006
          ],
          [
           2007
          ],
          [
           2008
          ],
          [
           2009
          ],
          [
           2010
          ],
          [
           2011
          ],
          [
           2012
          ],
          [
           2013
          ],
          [
           2014
          ],
          [
           2015
          ],
          [
           2016
          ],
          [
           2017
          ],
          [
           2002
          ],
          [
           2003
          ],
          [
           2004
          ],
          [
           2005
          ],
          [
           2006
          ],
          [
           2007
          ],
          [
           2008
          ],
          [
           2009
          ],
          [
           2010
          ],
          [
           2011
          ],
          [
           2012
          ],
          [
           2013
          ],
          [
           2014
          ],
          [
           2015
          ],
          [
           2016
          ],
          [
           2017
          ],
          [
           2002
          ],
          [
           2003
          ],
          [
           2004
          ],
          [
           2005
          ],
          [
           2006
          ],
          [
           2007
          ],
          [
           2008
          ],
          [
           2009
          ],
          [
           2010
          ],
          [
           2011
          ],
          [
           2012
          ],
          [
           2013
          ],
          [
           2014
          ],
          [
           2015
          ],
          [
           2016
          ],
          [
           2017
          ],
          [
           2002
          ],
          [
           2003
          ],
          [
           2004
          ],
          [
           2005
          ],
          [
           2006
          ],
          [
           2007
          ],
          [
           2008
          ],
          [
           2009
          ],
          [
           2010
          ],
          [
           2011
          ],
          [
           2012
          ],
          [
           2013
          ],
          [
           2014
          ],
          [
           2015
          ],
          [
           2016
          ],
          [
           2017
          ],
          [
           2002
          ],
          [
           2003
          ],
          [
           2004
          ],
          [
           2005
          ],
          [
           2006
          ],
          [
           2007
          ],
          [
           2008
          ],
          [
           2009
          ],
          [
           2010
          ],
          [
           2011
          ],
          [
           2012
          ],
          [
           2013
          ],
          [
           2014
          ],
          [
           2015
          ],
          [
           2016
          ],
          [
           2017
          ],
          [
           2002
          ],
          [
           2003
          ],
          [
           2004
          ],
          [
           2005
          ],
          [
           2006
          ],
          [
           2007
          ],
          [
           2008
          ],
          [
           2009
          ],
          [
           2010
          ],
          [
           2011
          ],
          [
           2012
          ],
          [
           2013
          ],
          [
           2014
          ],
          [
           2015
          ],
          [
           2016
          ],
          [
           2017
          ],
          [
           2002
          ],
          [
           2003
          ],
          [
           2004
          ],
          [
           2005
          ],
          [
           2006
          ],
          [
           2007
          ],
          [
           2008
          ],
          [
           2009
          ],
          [
           2010
          ],
          [
           2011
          ],
          [
           2012
          ],
          [
           2013
          ],
          [
           2014
          ],
          [
           2015
          ],
          [
           2016
          ],
          [
           2017
          ],
          [
           2002
          ],
          [
           2003
          ],
          [
           2004
          ],
          [
           2005
          ],
          [
           2006
          ],
          [
           2007
          ],
          [
           2008
          ],
          [
           2009
          ],
          [
           2010
          ],
          [
           2011
          ],
          [
           2012
          ],
          [
           2013
          ],
          [
           2014
          ],
          [
           2015
          ],
          [
           2016
          ],
          [
           2017
          ],
          [
           2002
          ],
          [
           2003
          ],
          [
           2004
          ],
          [
           2005
          ],
          [
           2006
          ],
          [
           2007
          ],
          [
           2008
          ],
          [
           2009
          ],
          [
           2010
          ],
          [
           2011
          ],
          [
           2012
          ],
          [
           2013
          ],
          [
           2014
          ],
          [
           2015
          ],
          [
           2016
          ],
          [
           2017
          ],
          [
           2002
          ],
          [
           2003
          ],
          [
           2004
          ],
          [
           2005
          ],
          [
           2006
          ],
          [
           2007
          ],
          [
           2008
          ],
          [
           2009
          ],
          [
           2010
          ],
          [
           2011
          ],
          [
           2012
          ],
          [
           2013
          ],
          [
           2014
          ],
          [
           2015
          ],
          [
           2016
          ],
          [
           2017
          ],
          [
           2002
          ],
          [
           2003
          ],
          [
           2004
          ],
          [
           2005
          ],
          [
           2006
          ],
          [
           2007
          ],
          [
           2008
          ],
          [
           2009
          ],
          [
           2010
          ],
          [
           2011
          ],
          [
           2012
          ],
          [
           2013
          ],
          [
           2014
          ],
          [
           2015
          ],
          [
           2016
          ],
          [
           2017
          ],
          [
           2002
          ],
          [
           2003
          ],
          [
           2004
          ],
          [
           2005
          ],
          [
           2006
          ],
          [
           2007
          ],
          [
           2008
          ],
          [
           2009
          ],
          [
           2010
          ],
          [
           2011
          ],
          [
           2012
          ],
          [
           2013
          ],
          [
           2014
          ],
          [
           2015
          ],
          [
           2016
          ],
          [
           2017
          ],
          [
           2002
          ],
          [
           2003
          ],
          [
           2004
          ],
          [
           2005
          ],
          [
           2006
          ],
          [
           2007
          ],
          [
           2008
          ],
          [
           2009
          ],
          [
           2010
          ],
          [
           2011
          ],
          [
           2012
          ],
          [
           2013
          ],
          [
           2014
          ],
          [
           2015
          ],
          [
           2016
          ],
          [
           2017
          ],
          [
           2017
          ],
          [
           2002
          ],
          [
           2003
          ],
          [
           2004
          ],
          [
           2005
          ],
          [
           2006
          ],
          [
           2007
          ],
          [
           2008
          ],
          [
           2009
          ],
          [
           2010
          ],
          [
           2011
          ],
          [
           2012
          ],
          [
           2013
          ],
          [
           2014
          ],
          [
           2015
          ],
          [
           2016
          ],
          [
           2017
          ],
          [
           2005
          ],
          [
           2009
          ],
          [
           2010
          ],
          [
           2012
          ],
          [
           2013
          ],
          [
           2014
          ],
          [
           2015
          ],
          [
           2016
          ],
          [
           2017
          ]
         ],
         "hovertemplate": "Item=%{x}<br>Value=%{y}<br>Year=%{customdata[0]}<extra></extra>",
         "legendgroup": "",
         "marker": {
          "color": "#636efa"
         },
         "name": "",
         "offsetgroup": "",
         "orientation": "v",
         "showlegend": false,
         "textposition": "auto",
         "type": "bar",
         "x": [
          "Ammonia, anhydrous",
          "Ammonia, anhydrous",
          "Ammonia, anhydrous",
          "Ammonia, anhydrous",
          "Ammonia, anhydrous",
          "Ammonia, anhydrous",
          "Ammonia, anhydrous",
          "Ammonia, anhydrous",
          "Ammonia, anhydrous",
          "Ammonia, anhydrous",
          "Ammonia, anhydrous",
          "Ammonia, anhydrous",
          "Ammonia, anhydrous",
          "Ammonia, anhydrous",
          "Ammonia, anhydrous",
          "Ammonia, anhydrous",
          "Ammonium nitrate (AN)",
          "Ammonium nitrate (AN)",
          "Ammonium nitrate (AN)",
          "Ammonium nitrate (AN)",
          "Ammonium nitrate (AN)",
          "Ammonium nitrate (AN)",
          "Ammonium nitrate (AN)",
          "Ammonium nitrate (AN)",
          "Ammonium nitrate (AN)",
          "Ammonium nitrate (AN)",
          "Ammonium nitrate (AN)",
          "Ammonium nitrate (AN)",
          "Ammonium nitrate (AN)",
          "Ammonium nitrate (AN)",
          "Ammonium nitrate (AN)",
          "Ammonium nitrate (AN)",
          "Ammonium sulphate",
          "Ammonium sulphate",
          "Ammonium sulphate",
          "Ammonium sulphate",
          "Ammonium sulphate",
          "Ammonium sulphate",
          "Ammonium sulphate",
          "Ammonium sulphate",
          "Ammonium sulphate",
          "Ammonium sulphate",
          "Ammonium sulphate",
          "Ammonium sulphate",
          "Ammonium sulphate",
          "Ammonium sulphate",
          "Ammonium sulphate",
          "Ammonium sulphate",
          "Calcium ammonium nitrate (CAN) and other mixtures with calcium carbonate",
          "Calcium ammonium nitrate (CAN) and other mixtures with calcium carbonate",
          "Calcium ammonium nitrate (CAN) and other mixtures with calcium carbonate",
          "Calcium ammonium nitrate (CAN) and other mixtures with calcium carbonate",
          "Calcium ammonium nitrate (CAN) and other mixtures with calcium carbonate",
          "Calcium ammonium nitrate (CAN) and other mixtures with calcium carbonate",
          "Calcium ammonium nitrate (CAN) and other mixtures with calcium carbonate",
          "Calcium ammonium nitrate (CAN) and other mixtures with calcium carbonate",
          "Calcium ammonium nitrate (CAN) and other mixtures with calcium carbonate",
          "Calcium ammonium nitrate (CAN) and other mixtures with calcium carbonate",
          "Calcium ammonium nitrate (CAN) and other mixtures with calcium carbonate",
          "Calcium ammonium nitrate (CAN) and other mixtures with calcium carbonate",
          "Calcium ammonium nitrate (CAN) and other mixtures with calcium carbonate",
          "Calcium ammonium nitrate (CAN) and other mixtures with calcium carbonate",
          "Diammonium phosphate (DAP)",
          "Diammonium phosphate (DAP)",
          "Diammonium phosphate (DAP)",
          "Diammonium phosphate (DAP)",
          "Diammonium phosphate (DAP)",
          "Diammonium phosphate (DAP)",
          "Diammonium phosphate (DAP)",
          "Diammonium phosphate (DAP)",
          "Diammonium phosphate (DAP)",
          "Diammonium phosphate (DAP)",
          "Diammonium phosphate (DAP)",
          "Diammonium phosphate (DAP)",
          "Diammonium phosphate (DAP)",
          "Diammonium phosphate (DAP)",
          "Diammonium phosphate (DAP)",
          "Diammonium phosphate (DAP)",
          "Fertilizers n.e.c.",
          "Fertilizers n.e.c.",
          "Fertilizers n.e.c.",
          "Fertilizers n.e.c.",
          "Fertilizers n.e.c.",
          "Fertilizers n.e.c.",
          "Fertilizers n.e.c.",
          "Fertilizers n.e.c.",
          "Fertilizers n.e.c.",
          "Fertilizers n.e.c.",
          "Fertilizers n.e.c.",
          "Fertilizers n.e.c.",
          "Fertilizers n.e.c.",
          "Fertilizers n.e.c.",
          "Fertilizers n.e.c.",
          "Fertilizers n.e.c.",
          "Monoammonium phosphate (MAP)",
          "Monoammonium phosphate (MAP)",
          "Monoammonium phosphate (MAP)",
          "Monoammonium phosphate (MAP)",
          "Monoammonium phosphate (MAP)",
          "Monoammonium phosphate (MAP)",
          "Monoammonium phosphate (MAP)",
          "Monoammonium phosphate (MAP)",
          "Monoammonium phosphate (MAP)",
          "Monoammonium phosphate (MAP)",
          "Monoammonium phosphate (MAP)",
          "Monoammonium phosphate (MAP)",
          "Monoammonium phosphate (MAP)",
          "Monoammonium phosphate (MAP)",
          "Monoammonium phosphate (MAP)",
          "Monoammonium phosphate (MAP)",
          "NPK fertilizers",
          "NPK fertilizers",
          "NPK fertilizers",
          "NPK fertilizers",
          "NPK fertilizers",
          "NPK fertilizers",
          "NPK fertilizers",
          "NPK fertilizers",
          "NPK fertilizers",
          "NPK fertilizers",
          "NPK fertilizers",
          "NPK fertilizers",
          "NPK fertilizers",
          "NPK fertilizers",
          "NPK fertilizers",
          "NPK fertilizers",
          "Other nitrogenous fertilizers, n.e.c.",
          "Other nitrogenous fertilizers, n.e.c.",
          "Other nitrogenous fertilizers, n.e.c.",
          "Other nitrogenous fertilizers, n.e.c.",
          "Other nitrogenous fertilizers, n.e.c.",
          "Other nitrogenous fertilizers, n.e.c.",
          "Other nitrogenous fertilizers, n.e.c.",
          "Other nitrogenous fertilizers, n.e.c.",
          "Other nitrogenous fertilizers, n.e.c.",
          "Other nitrogenous fertilizers, n.e.c.",
          "Other nitrogenous fertilizers, n.e.c.",
          "Other nitrogenous fertilizers, n.e.c.",
          "Other nitrogenous fertilizers, n.e.c.",
          "Other nitrogenous fertilizers, n.e.c.",
          "Other nitrogenous fertilizers, n.e.c.",
          "Other nitrogenous fertilizers, n.e.c.",
          "Other NP compounds",
          "Other NP compounds",
          "Other NP compounds",
          "Other NP compounds",
          "Other NP compounds",
          "Other NP compounds",
          "Other NP compounds",
          "Other NP compounds",
          "Other NP compounds",
          "Other NP compounds",
          "Other NP compounds",
          "Other NP compounds",
          "Other NP compounds",
          "Other NP compounds",
          "Other NP compounds",
          "Other NP compounds",
          "Other phosphatic fertilizers, n.e.c.",
          "Other phosphatic fertilizers, n.e.c.",
          "Other phosphatic fertilizers, n.e.c.",
          "Other phosphatic fertilizers, n.e.c.",
          "Other phosphatic fertilizers, n.e.c.",
          "Other phosphatic fertilizers, n.e.c.",
          "Other phosphatic fertilizers, n.e.c.",
          "Other phosphatic fertilizers, n.e.c.",
          "Other phosphatic fertilizers, n.e.c.",
          "Other phosphatic fertilizers, n.e.c.",
          "Other phosphatic fertilizers, n.e.c.",
          "Other phosphatic fertilizers, n.e.c.",
          "Other phosphatic fertilizers, n.e.c.",
          "Other phosphatic fertilizers, n.e.c.",
          "Other phosphatic fertilizers, n.e.c.",
          "Other phosphatic fertilizers, n.e.c.",
          "Other potassic fertilizers, n.e.c.",
          "Other potassic fertilizers, n.e.c.",
          "Other potassic fertilizers, n.e.c.",
          "Other potassic fertilizers, n.e.c.",
          "Other potassic fertilizers, n.e.c.",
          "Other potassic fertilizers, n.e.c.",
          "Other potassic fertilizers, n.e.c.",
          "Other potassic fertilizers, n.e.c.",
          "Other potassic fertilizers, n.e.c.",
          "Other potassic fertilizers, n.e.c.",
          "Other potassic fertilizers, n.e.c.",
          "Other potassic fertilizers, n.e.c.",
          "Other potassic fertilizers, n.e.c.",
          "Other potassic fertilizers, n.e.c.",
          "Other potassic fertilizers, n.e.c.",
          "Other potassic fertilizers, n.e.c.",
          "Phosphate rock",
          "Phosphate rock",
          "Phosphate rock",
          "Phosphate rock",
          "Phosphate rock",
          "Phosphate rock",
          "Phosphate rock",
          "Phosphate rock",
          "Phosphate rock",
          "Phosphate rock",
          "Phosphate rock",
          "Phosphate rock",
          "Phosphate rock",
          "Phosphate rock",
          "Phosphate rock",
          "Phosphate rock",
          "PK compounds",
          "PK compounds",
          "PK compounds",
          "PK compounds",
          "PK compounds",
          "PK compounds",
          "PK compounds",
          "PK compounds",
          "PK compounds",
          "PK compounds",
          "PK compounds",
          "PK compounds",
          "PK compounds",
          "PK compounds",
          "PK compounds",
          "PK compounds",
          "Potassium chloride (muriate of potash) (MOP)",
          "Potassium chloride (muriate of potash) (MOP)",
          "Potassium chloride (muriate of potash) (MOP)",
          "Potassium chloride (muriate of potash) (MOP)",
          "Potassium chloride (muriate of potash) (MOP)",
          "Potassium chloride (muriate of potash) (MOP)",
          "Potassium chloride (muriate of potash) (MOP)",
          "Potassium chloride (muriate of potash) (MOP)",
          "Potassium chloride (muriate of potash) (MOP)",
          "Potassium chloride (muriate of potash) (MOP)",
          "Potassium chloride (muriate of potash) (MOP)",
          "Potassium chloride (muriate of potash) (MOP)",
          "Potassium chloride (muriate of potash) (MOP)",
          "Potassium chloride (muriate of potash) (MOP)",
          "Potassium chloride (muriate of potash) (MOP)",
          "Potassium chloride (muriate of potash) (MOP)",
          "Potassium nitrate",
          "Potassium nitrate",
          "Potassium nitrate",
          "Potassium nitrate",
          "Potassium nitrate",
          "Potassium nitrate",
          "Potassium nitrate",
          "Potassium nitrate",
          "Potassium nitrate",
          "Potassium nitrate",
          "Potassium nitrate",
          "Potassium nitrate",
          "Potassium nitrate",
          "Potassium nitrate",
          "Potassium nitrate",
          "Potassium nitrate",
          "Potassium sulphate (sulphate of potash) (SOP)",
          "Potassium sulphate (sulphate of potash) (SOP)",
          "Potassium sulphate (sulphate of potash) (SOP)",
          "Potassium sulphate (sulphate of potash) (SOP)",
          "Potassium sulphate (sulphate of potash) (SOP)",
          "Potassium sulphate (sulphate of potash) (SOP)",
          "Potassium sulphate (sulphate of potash) (SOP)",
          "Potassium sulphate (sulphate of potash) (SOP)",
          "Potassium sulphate (sulphate of potash) (SOP)",
          "Potassium sulphate (sulphate of potash) (SOP)",
          "Potassium sulphate (sulphate of potash) (SOP)",
          "Potassium sulphate (sulphate of potash) (SOP)",
          "Potassium sulphate (sulphate of potash) (SOP)",
          "Potassium sulphate (sulphate of potash) (SOP)",
          "Potassium sulphate (sulphate of potash) (SOP)",
          "Potassium sulphate (sulphate of potash) (SOP)",
          "Sodium nitrate",
          "Sodium nitrate",
          "Sodium nitrate",
          "Sodium nitrate",
          "Sodium nitrate",
          "Sodium nitrate",
          "Sodium nitrate",
          "Sodium nitrate",
          "Sodium nitrate",
          "Sodium nitrate",
          "Sodium nitrate",
          "Sodium nitrate",
          "Sodium nitrate",
          "Sodium nitrate",
          "Sodium nitrate",
          "Sodium nitrate",
          "Superphosphates above 35%",
          "Superphosphates above 35%",
          "Superphosphates above 35%",
          "Superphosphates above 35%",
          "Superphosphates above 35%",
          "Superphosphates above 35%",
          "Superphosphates above 35%",
          "Superphosphates above 35%",
          "Superphosphates above 35%",
          "Superphosphates above 35%",
          "Superphosphates above 35%",
          "Superphosphates above 35%",
          "Superphosphates above 35%",
          "Superphosphates above 35%",
          "Superphosphates above 35%",
          "Superphosphates above 35%",
          "Superphosphates, other",
          "Urea",
          "Urea",
          "Urea",
          "Urea",
          "Urea",
          "Urea",
          "Urea",
          "Urea",
          "Urea",
          "Urea",
          "Urea",
          "Urea",
          "Urea",
          "Urea",
          "Urea",
          "Urea",
          "Urea and ammonium nitrate solutions (UAN)",
          "Urea and ammonium nitrate solutions (UAN)",
          "Urea and ammonium nitrate solutions (UAN)",
          "Urea and ammonium nitrate solutions (UAN)",
          "Urea and ammonium nitrate solutions (UAN)",
          "Urea and ammonium nitrate solutions (UAN)",
          "Urea and ammonium nitrate solutions (UAN)",
          "Urea and ammonium nitrate solutions (UAN)",
          "Urea and ammonium nitrate solutions (UAN)"
         ],
         "xaxis": "x",
         "y": [
          33250.75,
          60289.16,
          62854.72,
          74365.34,
          80488.66,
          110233.34,
          197813.67,
          93803.29,
          138353.75,
          185023.6,
          230969.76,
          174069.98,
          181549.83,
          155349.85,
          92725.19,
          68438.76,
          57443.38,
          49509.58,
          35650.22,
          44056.22,
          61942.11,
          187656.68,
          324408.07,
          170525.93,
          221433.85,
          505623.13,
          417433.41,
          414275.25,
          319891.31,
          258407.76,
          214970.74,
          252940.19,
          80190.66,
          122471.22,
          177858.09,
          157054.7,
          185530.83,
          331165.06,
          499495.1,
          188739.72,
          229865.4,
          474548.65,
          422719.23,
          408204.79,
          322452.96,
          307150.92,
          328063.06,
          295007.4,
          49.04,
          415.72,
          67.05,
          7840.97,
          5239.48,
          5682.01,
          24447,
          62493.45,
          81940.9,
          57654.11,
          61520.04,
          48699.89,
          48368.86,
          55099.15,
          24666.32,
          41662.04,
          64517.83,
          59354.22,
          67201.81,
          209758.46,
          449911.23,
          111564.06,
          150312.24,
          296005.05,
          322796.42,
          424152.53,
          333202.45,
          188622.08,
          159848.86,
          153585.04,
          35458.04,
          37893.84,
          50680.05,
          46245.1,
          50967.53,
          52444.79,
          99587.94,
          99952.11,
          85404.47,
          105810.24,
          134103.86,
          140783.6,
          110676.49,
          84840.53,
          91903.16,
          108925.91,
          224410.95,
          339541.09,
          496100.35,
          322758.59,
          309373.36,
          678633.14,
          1159291.17,
          282764.4,
          561386.33,
          1350224.27,
          1019564.45,
          1253558.38,
          1384705.38,
          1080444.93,
          977918.09,
          1286621.19,
          3526.33,
          5559.96,
          16660.43,
          5589.57,
          11729.21,
          31353.75,
          206024.09,
          72125.81,
          101980.94,
          213506.5,
          248757.27,
          199321.32,
          230527.16,
          166320.77,
          254751.32,
          298016.37,
          6307.59,
          8619.37,
          8586.92,
          10845.4,
          11084.68,
          18228.8,
          28631.31,
          22776.43,
          28281.93,
          42996.1,
          45285.12,
          53922.51,
          75445.49,
          81095.74,
          95853.88,
          120001.3,
          34581.61,
          70444.2,
          139144.44,
          108447.35,
          120568.06,
          274759.05,
          435930.33,
          76828.67,
          163101.07,
          517176.33,
          407412.79,
          603861.77,
          687866.63,
          504551.5,
          566518.79,
          712175.75,
          777.99,
          737.99,
          190.3,
          70.27,
          56.23,
          34.04,
          16060.99,
          241.24,
          404.6,
          715.24,
          5053.81,
          662,
          2453.28,
          538.28,
          376.92,
          243.63,
          87.08,
          598.79,
          1008.32,
          1160.29,
          1528,
          1689.02,
          3345.7,
          5027.3,
          7793.27,
          10368.02,
          10275.06,
          7857.29,
          5776.81,
          11272.52,
          12754.87,
          22160.5,
          48037.84,
          50880.54,
          74754.76,
          59894.72,
          66976.1,
          104625.58,
          311677.63,
          83805.55,
          134704.22,
          206567.41,
          205477.1,
          219946.46,
          188027.72,
          205673.51,
          152517.93,
          147926.52,
          1234.58,
          1002.16,
          1636.49,
          1810.24,
          2213.94,
          2367.64,
          6098.09,
          2239.02,
          3159.87,
          6003.8,
          5066.98,
          7107.06,
          7411.15,
          6800.27,
          6548.46,
          8656.77,
          529949.75,
          624437.27,
          980768.59,
          959563.19,
          950346.82,
          1500130.51,
          3828779.3,
          2079147.37,
          2234386.1,
          3503286.79,
          3512828.84,
          3324578.26,
          2897139.53,
          2513959.66,
          1990909.3,
          2394045.19,
          8072.37,
          9220.63,
          9750.56,
          12138.92,
          9268.37,
          9398.83,
          22459.05,
          19947.49,
          6395.91,
          7533.47,
          13632.66,
          9544.07,
          9779.47,
          6543.64,
          3846.15,
          3217.88,
          14082.97,
          12818.53,
          19019.42,
          14837.17,
          16680.96,
          11377.2,
          25275.02,
          28510.27,
          21153.9,
          19359.33,
          26666.02,
          23709.37,
          31297.86,
          30118.16,
          25400.75,
          21908.91,
          2017.63,
          3076.58,
          3475.53,
          3616.91,
          3918.08,
          4917.85,
          9186.99,
          7873.71,
          7726.4,
          7613.81,
          9309.89,
          9589.28,
          9081.76,
          10196.18,
          5804.08,
          5286.38,
          95326.88,
          147204.65,
          240767.86,
          176413.31,
          199321.66,
          450354.2,
          981034.29,
          235862.69,
          389999.12,
          699130.65,
          610410.72,
          638448.46,
          460675.25,
          406495.57,
          302325.6,
          207676.85,
          86496.91,
          119722.5,
          247452.97,
          351438.4,
          355849.51,
          364794.35,
          767423.39,
          1227413.66,
          513455.55,
          712075.87,
          1320415.68,
          1288373.66,
          1308255.25,
          1482848.69,
          882144.4,
          903141.9,
          1244561.76,
          0.05,
          2.54,
          3.38,
          2.59,
          3.18,
          27.95,
          1499.42,
          1697.12,
          2820.48
         ],
         "yaxis": "y"
        }
       ],
       "layout": {
        "barmode": "relative",
        "legend": {
         "tracegroupgap": 0
        },
        "template": {
         "data": {
          "bar": [
           {
            "error_x": {
             "color": "#2a3f5f"
            },
            "error_y": {
             "color": "#2a3f5f"
            },
            "marker": {
             "line": {
              "color": "#E5ECF6",
              "width": 0.5
             }
            },
            "type": "bar"
           }
          ],
          "barpolar": [
           {
            "marker": {
             "line": {
              "color": "#E5ECF6",
              "width": 0.5
             }
            },
            "type": "barpolar"
           }
          ],
          "carpet": [
           {
            "aaxis": {
             "endlinecolor": "#2a3f5f",
             "gridcolor": "white",
             "linecolor": "white",
             "minorgridcolor": "white",
             "startlinecolor": "#2a3f5f"
            },
            "baxis": {
             "endlinecolor": "#2a3f5f",
             "gridcolor": "white",
             "linecolor": "white",
             "minorgridcolor": "white",
             "startlinecolor": "#2a3f5f"
            },
            "type": "carpet"
           }
          ],
          "choropleth": [
           {
            "colorbar": {
             "outlinewidth": 0,
             "ticks": ""
            },
            "type": "choropleth"
           }
          ],
          "contour": [
           {
            "colorbar": {
             "outlinewidth": 0,
             "ticks": ""
            },
            "colorscale": [
             [
              0,
              "#0d0887"
             ],
             [
              0.1111111111111111,
              "#46039f"
             ],
             [
              0.2222222222222222,
              "#7201a8"
             ],
             [
              0.3333333333333333,
              "#9c179e"
             ],
             [
              0.4444444444444444,
              "#bd3786"
             ],
             [
              0.5555555555555556,
              "#d8576b"
             ],
             [
              0.6666666666666666,
              "#ed7953"
             ],
             [
              0.7777777777777778,
              "#fb9f3a"
             ],
             [
              0.8888888888888888,
              "#fdca26"
             ],
             [
              1,
              "#f0f921"
             ]
            ],
            "type": "contour"
           }
          ],
          "contourcarpet": [
           {
            "colorbar": {
             "outlinewidth": 0,
             "ticks": ""
            },
            "type": "contourcarpet"
           }
          ],
          "heatmap": [
           {
            "colorbar": {
             "outlinewidth": 0,
             "ticks": ""
            },
            "colorscale": [
             [
              0,
              "#0d0887"
             ],
             [
              0.1111111111111111,
              "#46039f"
             ],
             [
              0.2222222222222222,
              "#7201a8"
             ],
             [
              0.3333333333333333,
              "#9c179e"
             ],
             [
              0.4444444444444444,
              "#bd3786"
             ],
             [
              0.5555555555555556,
              "#d8576b"
             ],
             [
              0.6666666666666666,
              "#ed7953"
             ],
             [
              0.7777777777777778,
              "#fb9f3a"
             ],
             [
              0.8888888888888888,
              "#fdca26"
             ],
             [
              1,
              "#f0f921"
             ]
            ],
            "type": "heatmap"
           }
          ],
          "heatmapgl": [
           {
            "colorbar": {
             "outlinewidth": 0,
             "ticks": ""
            },
            "colorscale": [
             [
              0,
              "#0d0887"
             ],
             [
              0.1111111111111111,
              "#46039f"
             ],
             [
              0.2222222222222222,
              "#7201a8"
             ],
             [
              0.3333333333333333,
              "#9c179e"
             ],
             [
              0.4444444444444444,
              "#bd3786"
             ],
             [
              0.5555555555555556,
              "#d8576b"
             ],
             [
              0.6666666666666666,
              "#ed7953"
             ],
             [
              0.7777777777777778,
              "#fb9f3a"
             ],
             [
              0.8888888888888888,
              "#fdca26"
             ],
             [
              1,
              "#f0f921"
             ]
            ],
            "type": "heatmapgl"
           }
          ],
          "histogram": [
           {
            "marker": {
             "colorbar": {
              "outlinewidth": 0,
              "ticks": ""
             }
            },
            "type": "histogram"
           }
          ],
          "histogram2d": [
           {
            "colorbar": {
             "outlinewidth": 0,
             "ticks": ""
            },
            "colorscale": [
             [
              0,
              "#0d0887"
             ],
             [
              0.1111111111111111,
              "#46039f"
             ],
             [
              0.2222222222222222,
              "#7201a8"
             ],
             [
              0.3333333333333333,
              "#9c179e"
             ],
             [
              0.4444444444444444,
              "#bd3786"
             ],
             [
              0.5555555555555556,
              "#d8576b"
             ],
             [
              0.6666666666666666,
              "#ed7953"
             ],
             [
              0.7777777777777778,
              "#fb9f3a"
             ],
             [
              0.8888888888888888,
              "#fdca26"
             ],
             [
              1,
              "#f0f921"
             ]
            ],
            "type": "histogram2d"
           }
          ],
          "histogram2dcontour": [
           {
            "colorbar": {
             "outlinewidth": 0,
             "ticks": ""
            },
            "colorscale": [
             [
              0,
              "#0d0887"
             ],
             [
              0.1111111111111111,
              "#46039f"
             ],
             [
              0.2222222222222222,
              "#7201a8"
             ],
             [
              0.3333333333333333,
              "#9c179e"
             ],
             [
              0.4444444444444444,
              "#bd3786"
             ],
             [
              0.5555555555555556,
              "#d8576b"
             ],
             [
              0.6666666666666666,
              "#ed7953"
             ],
             [
              0.7777777777777778,
              "#fb9f3a"
             ],
             [
              0.8888888888888888,
              "#fdca26"
             ],
             [
              1,
              "#f0f921"
             ]
            ],
            "type": "histogram2dcontour"
           }
          ],
          "mesh3d": [
           {
            "colorbar": {
             "outlinewidth": 0,
             "ticks": ""
            },
            "type": "mesh3d"
           }
          ],
          "parcoords": [
           {
            "line": {
             "colorbar": {
              "outlinewidth": 0,
              "ticks": ""
             }
            },
            "type": "parcoords"
           }
          ],
          "pie": [
           {
            "automargin": true,
            "type": "pie"
           }
          ],
          "scatter": [
           {
            "marker": {
             "colorbar": {
              "outlinewidth": 0,
              "ticks": ""
             }
            },
            "type": "scatter"
           }
          ],
          "scatter3d": [
           {
            "line": {
             "colorbar": {
              "outlinewidth": 0,
              "ticks": ""
             }
            },
            "marker": {
             "colorbar": {
              "outlinewidth": 0,
              "ticks": ""
             }
            },
            "type": "scatter3d"
           }
          ],
          "scattercarpet": [
           {
            "marker": {
             "colorbar": {
              "outlinewidth": 0,
              "ticks": ""
             }
            },
            "type": "scattercarpet"
           }
          ],
          "scattergeo": [
           {
            "marker": {
             "colorbar": {
              "outlinewidth": 0,
              "ticks": ""
             }
            },
            "type": "scattergeo"
           }
          ],
          "scattergl": [
           {
            "marker": {
             "colorbar": {
              "outlinewidth": 0,
              "ticks": ""
             }
            },
            "type": "scattergl"
           }
          ],
          "scattermapbox": [
           {
            "marker": {
             "colorbar": {
              "outlinewidth": 0,
              "ticks": ""
             }
            },
            "type": "scattermapbox"
           }
          ],
          "scatterpolar": [
           {
            "marker": {
             "colorbar": {
              "outlinewidth": 0,
              "ticks": ""
             }
            },
            "type": "scatterpolar"
           }
          ],
          "scatterpolargl": [
           {
            "marker": {
             "colorbar": {
              "outlinewidth": 0,
              "ticks": ""
             }
            },
            "type": "scatterpolargl"
           }
          ],
          "scatterternary": [
           {
            "marker": {
             "colorbar": {
              "outlinewidth": 0,
              "ticks": ""
             }
            },
            "type": "scatterternary"
           }
          ],
          "surface": [
           {
            "colorbar": {
             "outlinewidth": 0,
             "ticks": ""
            },
            "colorscale": [
             [
              0,
              "#0d0887"
             ],
             [
              0.1111111111111111,
              "#46039f"
             ],
             [
              0.2222222222222222,
              "#7201a8"
             ],
             [
              0.3333333333333333,
              "#9c179e"
             ],
             [
              0.4444444444444444,
              "#bd3786"
             ],
             [
              0.5555555555555556,
              "#d8576b"
             ],
             [
              0.6666666666666666,
              "#ed7953"
             ],
             [
              0.7777777777777778,
              "#fb9f3a"
             ],
             [
              0.8888888888888888,
              "#fdca26"
             ],
             [
              1,
              "#f0f921"
             ]
            ],
            "type": "surface"
           }
          ],
          "table": [
           {
            "cells": {
             "fill": {
              "color": "#EBF0F8"
             },
             "line": {
              "color": "white"
             }
            },
            "header": {
             "fill": {
              "color": "#C8D4E3"
             },
             "line": {
              "color": "white"
             }
            },
            "type": "table"
           }
          ]
         },
         "layout": {
          "annotationdefaults": {
           "arrowcolor": "#2a3f5f",
           "arrowhead": 0,
           "arrowwidth": 1
          },
          "coloraxis": {
           "colorbar": {
            "outlinewidth": 0,
            "ticks": ""
           }
          },
          "colorscale": {
           "diverging": [
            [
             0,
             "#8e0152"
            ],
            [
             0.1,
             "#c51b7d"
            ],
            [
             0.2,
             "#de77ae"
            ],
            [
             0.3,
             "#f1b6da"
            ],
            [
             0.4,
             "#fde0ef"
            ],
            [
             0.5,
             "#f7f7f7"
            ],
            [
             0.6,
             "#e6f5d0"
            ],
            [
             0.7,
             "#b8e186"
            ],
            [
             0.8,
             "#7fbc41"
            ],
            [
             0.9,
             "#4d9221"
            ],
            [
             1,
             "#276419"
            ]
           ],
           "sequential": [
            [
             0,
             "#0d0887"
            ],
            [
             0.1111111111111111,
             "#46039f"
            ],
            [
             0.2222222222222222,
             "#7201a8"
            ],
            [
             0.3333333333333333,
             "#9c179e"
            ],
            [
             0.4444444444444444,
             "#bd3786"
            ],
            [
             0.5555555555555556,
             "#d8576b"
            ],
            [
             0.6666666666666666,
             "#ed7953"
            ],
            [
             0.7777777777777778,
             "#fb9f3a"
            ],
            [
             0.8888888888888888,
             "#fdca26"
            ],
            [
             1,
             "#f0f921"
            ]
           ],
           "sequentialminus": [
            [
             0,
             "#0d0887"
            ],
            [
             0.1111111111111111,
             "#46039f"
            ],
            [
             0.2222222222222222,
             "#7201a8"
            ],
            [
             0.3333333333333333,
             "#9c179e"
            ],
            [
             0.4444444444444444,
             "#bd3786"
            ],
            [
             0.5555555555555556,
             "#d8576b"
            ],
            [
             0.6666666666666666,
             "#ed7953"
            ],
            [
             0.7777777777777778,
             "#fb9f3a"
            ],
            [
             0.8888888888888888,
             "#fdca26"
            ],
            [
             1,
             "#f0f921"
            ]
           ]
          },
          "colorway": [
           "#636efa",
           "#EF553B",
           "#00cc96",
           "#ab63fa",
           "#FFA15A",
           "#19d3f3",
           "#FF6692",
           "#B6E880",
           "#FF97FF",
           "#FECB52"
          ],
          "font": {
           "color": "#2a3f5f"
          },
          "geo": {
           "bgcolor": "white",
           "lakecolor": "white",
           "landcolor": "#E5ECF6",
           "showlakes": true,
           "showland": true,
           "subunitcolor": "white"
          },
          "hoverlabel": {
           "align": "left"
          },
          "hovermode": "closest",
          "mapbox": {
           "style": "light"
          },
          "paper_bgcolor": "white",
          "plot_bgcolor": "#E5ECF6",
          "polar": {
           "angularaxis": {
            "gridcolor": "white",
            "linecolor": "white",
            "ticks": ""
           },
           "bgcolor": "#E5ECF6",
           "radialaxis": {
            "gridcolor": "white",
            "linecolor": "white",
            "ticks": ""
           }
          },
          "scene": {
           "xaxis": {
            "backgroundcolor": "#E5ECF6",
            "gridcolor": "white",
            "gridwidth": 2,
            "linecolor": "white",
            "showbackground": true,
            "ticks": "",
            "zerolinecolor": "white"
           },
           "yaxis": {
            "backgroundcolor": "#E5ECF6",
            "gridcolor": "white",
            "gridwidth": 2,
            "linecolor": "white",
            "showbackground": true,
            "ticks": "",
            "zerolinecolor": "white"
           },
           "zaxis": {
            "backgroundcolor": "#E5ECF6",
            "gridcolor": "white",
            "gridwidth": 2,
            "linecolor": "white",
            "showbackground": true,
            "ticks": "",
            "zerolinecolor": "white"
           }
          },
          "shapedefaults": {
           "line": {
            "color": "#2a3f5f"
           }
          },
          "ternary": {
           "aaxis": {
            "gridcolor": "white",
            "linecolor": "white",
            "ticks": ""
           },
           "baxis": {
            "gridcolor": "white",
            "linecolor": "white",
            "ticks": ""
           },
           "bgcolor": "#E5ECF6",
           "caxis": {
            "gridcolor": "white",
            "linecolor": "white",
            "ticks": ""
           }
          },
          "title": {
           "x": 0.05
          },
          "xaxis": {
           "automargin": true,
           "gridcolor": "white",
           "linecolor": "white",
           "ticks": "",
           "title": {
            "standoff": 15
           },
           "zerolinecolor": "white",
           "zerolinewidth": 2
          },
          "yaxis": {
           "automargin": true,
           "gridcolor": "white",
           "linecolor": "white",
           "ticks": "",
           "title": {
            "standoff": 15
           },
           "zerolinecolor": "white",
           "zerolinewidth": 2
          }
         }
        },
        "title": {
         "text": "Import Value of products over a year"
        },
        "xaxis": {
         "anchor": "y",
         "domain": [
          0,
          1
         ],
         "title": {
          "text": "Item"
         }
        },
        "yaxis": {
         "anchor": "x",
         "domain": [
          0,
          1
         ],
         "title": {
          "text": "Value"
         }
        }
       }
      },
      "text/html": [
       "<div>\n",
       "        \n",
       "        \n",
       "            <div id=\"4a46d8de-7735-4f46-bd8e-0c281f62e691\" class=\"plotly-graph-div\" style=\"height:525px; width:100%;\"></div>\n",
       "            <script type=\"text/javascript\">\n",
       "                require([\"plotly\"], function(Plotly) {\n",
       "                    window.PLOTLYENV=window.PLOTLYENV || {};\n",
       "                    \n",
       "                if (document.getElementById(\"4a46d8de-7735-4f46-bd8e-0c281f62e691\")) {\n",
       "                    Plotly.newPlot(\n",
       "                        '4a46d8de-7735-4f46-bd8e-0c281f62e691',\n",
       "                        [{\"alignmentgroup\": \"True\", \"customdata\": [[2002], [2003], [2004], [2005], [2006], [2007], [2008], [2009], [2010], [2011], [2012], [2013], [2014], [2015], [2016], [2017], [2002], [2003], [2004], [2005], [2006], [2007], [2008], [2009], [2010], [2011], [2012], [2013], [2014], [2015], [2016], [2017], [2002], [2003], [2004], [2005], [2006], [2007], [2008], [2009], [2010], [2011], [2012], [2013], [2014], [2015], [2016], [2017], [2003], [2004], [2006], [2007], [2008], [2009], [2010], [2011], [2012], [2013], [2014], [2015], [2016], [2017], [2002], [2003], [2004], [2005], [2006], [2007], [2008], [2009], [2010], [2011], [2012], [2013], [2014], [2015], [2016], [2017], [2002], [2003], [2004], [2005], [2006], [2007], [2008], [2009], [2010], [2011], [2012], [2013], [2014], [2015], [2016], [2017], [2002], [2003], [2004], [2005], [2006], [2007], [2008], [2009], [2010], [2011], [2012], [2013], [2014], [2015], [2016], [2017], [2002], [2003], [2004], [2005], [2006], [2007], [2008], [2009], [2010], [2011], [2012], [2013], [2014], [2015], [2016], [2017], [2002], [2003], [2004], [2005], [2006], [2007], [2008], [2009], [2010], [2011], [2012], [2013], [2014], [2015], [2016], [2017], [2002], [2003], [2004], [2005], [2006], [2007], [2008], [2009], [2010], [2011], [2012], [2013], [2014], [2015], [2016], [2017], [2002], [2003], [2004], [2005], [2006], [2007], [2008], [2009], [2010], [2011], [2012], [2013], [2014], [2015], [2016], [2017], [2002], [2003], [2004], [2005], [2006], [2007], [2008], [2009], [2010], [2011], [2012], [2013], [2014], [2015], [2016], [2017], [2002], [2003], [2004], [2005], [2006], [2007], [2008], [2009], [2010], [2011], [2012], [2013], [2014], [2015], [2016], [2017], [2002], [2003], [2004], [2005], [2006], [2007], [2008], [2009], [2010], [2011], [2012], [2013], [2014], [2015], [2016], [2017], [2002], [2003], [2004], [2005], [2006], [2007], [2008], [2009], [2010], [2011], [2012], [2013], [2014], [2015], [2016], [2017], [2002], [2003], [2004], [2005], [2006], [2007], [2008], [2009], [2010], [2011], [2012], [2013], [2014], [2015], [2016], [2017], [2002], [2003], [2004], [2005], [2006], [2007], [2008], [2009], [2010], [2011], [2012], [2013], [2014], [2015], [2016], [2017], [2002], [2003], [2004], [2005], [2006], [2007], [2008], [2009], [2010], [2011], [2012], [2013], [2014], [2015], [2016], [2017], [2002], [2003], [2004], [2005], [2006], [2007], [2008], [2009], [2010], [2011], [2012], [2013], [2014], [2015], [2016], [2017], [2017], [2002], [2003], [2004], [2005], [2006], [2007], [2008], [2009], [2010], [2011], [2012], [2013], [2014], [2015], [2016], [2017], [2005], [2009], [2010], [2012], [2013], [2014], [2015], [2016], [2017]], \"hovertemplate\": \"Item=%{x}<br>Value=%{y}<br>Year=%{customdata[0]}<extra></extra>\", \"legendgroup\": \"\", \"marker\": {\"color\": \"#636efa\"}, \"name\": \"\", \"offsetgroup\": \"\", \"orientation\": \"v\", \"showlegend\": false, \"textposition\": \"auto\", \"type\": \"bar\", \"x\": [\"Ammonia, anhydrous\", \"Ammonia, anhydrous\", \"Ammonia, anhydrous\", \"Ammonia, anhydrous\", \"Ammonia, anhydrous\", \"Ammonia, anhydrous\", \"Ammonia, anhydrous\", \"Ammonia, anhydrous\", \"Ammonia, anhydrous\", \"Ammonia, anhydrous\", \"Ammonia, anhydrous\", \"Ammonia, anhydrous\", \"Ammonia, anhydrous\", \"Ammonia, anhydrous\", \"Ammonia, anhydrous\", \"Ammonia, anhydrous\", \"Ammonium nitrate (AN)\", \"Ammonium nitrate (AN)\", \"Ammonium nitrate (AN)\", \"Ammonium nitrate (AN)\", \"Ammonium nitrate (AN)\", \"Ammonium nitrate (AN)\", \"Ammonium nitrate (AN)\", \"Ammonium nitrate (AN)\", \"Ammonium nitrate (AN)\", \"Ammonium nitrate (AN)\", \"Ammonium nitrate (AN)\", \"Ammonium nitrate (AN)\", \"Ammonium nitrate (AN)\", \"Ammonium nitrate (AN)\", \"Ammonium nitrate (AN)\", \"Ammonium nitrate (AN)\", \"Ammonium sulphate\", \"Ammonium sulphate\", \"Ammonium sulphate\", \"Ammonium sulphate\", \"Ammonium sulphate\", \"Ammonium sulphate\", \"Ammonium sulphate\", \"Ammonium sulphate\", \"Ammonium sulphate\", \"Ammonium sulphate\", \"Ammonium sulphate\", \"Ammonium sulphate\", \"Ammonium sulphate\", \"Ammonium sulphate\", \"Ammonium sulphate\", \"Ammonium sulphate\", \"Calcium ammonium nitrate (CAN) and other mixtures with calcium carbonate\", \"Calcium ammonium nitrate (CAN) and other mixtures with calcium carbonate\", \"Calcium ammonium nitrate (CAN) and other mixtures with calcium carbonate\", \"Calcium ammonium nitrate (CAN) and other mixtures with calcium carbonate\", \"Calcium ammonium nitrate (CAN) and other mixtures with calcium carbonate\", \"Calcium ammonium nitrate (CAN) and other mixtures with calcium carbonate\", \"Calcium ammonium nitrate (CAN) and other mixtures with calcium carbonate\", \"Calcium ammonium nitrate (CAN) and other mixtures with calcium carbonate\", \"Calcium ammonium nitrate (CAN) and other mixtures with calcium carbonate\", \"Calcium ammonium nitrate (CAN) and other mixtures with calcium carbonate\", \"Calcium ammonium nitrate (CAN) and other mixtures with calcium carbonate\", \"Calcium ammonium nitrate (CAN) and other mixtures with calcium carbonate\", \"Calcium ammonium nitrate (CAN) and other mixtures with calcium carbonate\", \"Calcium ammonium nitrate (CAN) and other mixtures with calcium carbonate\", \"Diammonium phosphate (DAP)\", \"Diammonium phosphate (DAP)\", \"Diammonium phosphate (DAP)\", \"Diammonium phosphate (DAP)\", \"Diammonium phosphate (DAP)\", \"Diammonium phosphate (DAP)\", \"Diammonium phosphate (DAP)\", \"Diammonium phosphate (DAP)\", \"Diammonium phosphate (DAP)\", \"Diammonium phosphate (DAP)\", \"Diammonium phosphate (DAP)\", \"Diammonium phosphate (DAP)\", \"Diammonium phosphate (DAP)\", \"Diammonium phosphate (DAP)\", \"Diammonium phosphate (DAP)\", \"Diammonium phosphate (DAP)\", \"Fertilizers n.e.c.\", \"Fertilizers n.e.c.\", \"Fertilizers n.e.c.\", \"Fertilizers n.e.c.\", \"Fertilizers n.e.c.\", \"Fertilizers n.e.c.\", \"Fertilizers n.e.c.\", \"Fertilizers n.e.c.\", \"Fertilizers n.e.c.\", \"Fertilizers n.e.c.\", \"Fertilizers n.e.c.\", \"Fertilizers n.e.c.\", \"Fertilizers n.e.c.\", \"Fertilizers n.e.c.\", \"Fertilizers n.e.c.\", \"Fertilizers n.e.c.\", \"Monoammonium phosphate (MAP)\", \"Monoammonium phosphate (MAP)\", \"Monoammonium phosphate (MAP)\", \"Monoammonium phosphate (MAP)\", \"Monoammonium phosphate (MAP)\", \"Monoammonium phosphate (MAP)\", \"Monoammonium phosphate (MAP)\", \"Monoammonium phosphate (MAP)\", \"Monoammonium phosphate (MAP)\", \"Monoammonium phosphate (MAP)\", \"Monoammonium phosphate (MAP)\", \"Monoammonium phosphate (MAP)\", \"Monoammonium phosphate (MAP)\", \"Monoammonium phosphate (MAP)\", \"Monoammonium phosphate (MAP)\", \"Monoammonium phosphate (MAP)\", \"NPK fertilizers\", \"NPK fertilizers\", \"NPK fertilizers\", \"NPK fertilizers\", \"NPK fertilizers\", \"NPK fertilizers\", \"NPK fertilizers\", \"NPK fertilizers\", \"NPK fertilizers\", \"NPK fertilizers\", \"NPK fertilizers\", \"NPK fertilizers\", \"NPK fertilizers\", \"NPK fertilizers\", \"NPK fertilizers\", \"NPK fertilizers\", \"Other nitrogenous fertilizers, n.e.c.\", \"Other nitrogenous fertilizers, n.e.c.\", \"Other nitrogenous fertilizers, n.e.c.\", \"Other nitrogenous fertilizers, n.e.c.\", \"Other nitrogenous fertilizers, n.e.c.\", \"Other nitrogenous fertilizers, n.e.c.\", \"Other nitrogenous fertilizers, n.e.c.\", \"Other nitrogenous fertilizers, n.e.c.\", \"Other nitrogenous fertilizers, n.e.c.\", \"Other nitrogenous fertilizers, n.e.c.\", \"Other nitrogenous fertilizers, n.e.c.\", \"Other nitrogenous fertilizers, n.e.c.\", \"Other nitrogenous fertilizers, n.e.c.\", \"Other nitrogenous fertilizers, n.e.c.\", \"Other nitrogenous fertilizers, n.e.c.\", \"Other nitrogenous fertilizers, n.e.c.\", \"Other NP compounds\", \"Other NP compounds\", \"Other NP compounds\", \"Other NP compounds\", \"Other NP compounds\", \"Other NP compounds\", \"Other NP compounds\", \"Other NP compounds\", \"Other NP compounds\", \"Other NP compounds\", \"Other NP compounds\", \"Other NP compounds\", \"Other NP compounds\", \"Other NP compounds\", \"Other NP compounds\", \"Other NP compounds\", \"Other phosphatic fertilizers, n.e.c.\", \"Other phosphatic fertilizers, n.e.c.\", \"Other phosphatic fertilizers, n.e.c.\", \"Other phosphatic fertilizers, n.e.c.\", \"Other phosphatic fertilizers, n.e.c.\", \"Other phosphatic fertilizers, n.e.c.\", \"Other phosphatic fertilizers, n.e.c.\", \"Other phosphatic fertilizers, n.e.c.\", \"Other phosphatic fertilizers, n.e.c.\", \"Other phosphatic fertilizers, n.e.c.\", \"Other phosphatic fertilizers, n.e.c.\", \"Other phosphatic fertilizers, n.e.c.\", \"Other phosphatic fertilizers, n.e.c.\", \"Other phosphatic fertilizers, n.e.c.\", \"Other phosphatic fertilizers, n.e.c.\", \"Other phosphatic fertilizers, n.e.c.\", \"Other potassic fertilizers, n.e.c.\", \"Other potassic fertilizers, n.e.c.\", \"Other potassic fertilizers, n.e.c.\", \"Other potassic fertilizers, n.e.c.\", \"Other potassic fertilizers, n.e.c.\", \"Other potassic fertilizers, n.e.c.\", \"Other potassic fertilizers, n.e.c.\", \"Other potassic fertilizers, n.e.c.\", \"Other potassic fertilizers, n.e.c.\", \"Other potassic fertilizers, n.e.c.\", \"Other potassic fertilizers, n.e.c.\", \"Other potassic fertilizers, n.e.c.\", \"Other potassic fertilizers, n.e.c.\", \"Other potassic fertilizers, n.e.c.\", \"Other potassic fertilizers, n.e.c.\", \"Other potassic fertilizers, n.e.c.\", \"Phosphate rock\", \"Phosphate rock\", \"Phosphate rock\", \"Phosphate rock\", \"Phosphate rock\", \"Phosphate rock\", \"Phosphate rock\", \"Phosphate rock\", \"Phosphate rock\", \"Phosphate rock\", \"Phosphate rock\", \"Phosphate rock\", \"Phosphate rock\", \"Phosphate rock\", \"Phosphate rock\", \"Phosphate rock\", \"PK compounds\", \"PK compounds\", \"PK compounds\", \"PK compounds\", \"PK compounds\", \"PK compounds\", \"PK compounds\", \"PK compounds\", \"PK compounds\", \"PK compounds\", \"PK compounds\", \"PK compounds\", \"PK compounds\", \"PK compounds\", \"PK compounds\", \"PK compounds\", \"Potassium chloride (muriate of potash) (MOP)\", \"Potassium chloride (muriate of potash) (MOP)\", \"Potassium chloride (muriate of potash) (MOP)\", \"Potassium chloride (muriate of potash) (MOP)\", \"Potassium chloride (muriate of potash) (MOP)\", \"Potassium chloride (muriate of potash) (MOP)\", \"Potassium chloride (muriate of potash) (MOP)\", \"Potassium chloride (muriate of potash) (MOP)\", \"Potassium chloride (muriate of potash) (MOP)\", \"Potassium chloride (muriate of potash) (MOP)\", \"Potassium chloride (muriate of potash) (MOP)\", \"Potassium chloride (muriate of potash) (MOP)\", \"Potassium chloride (muriate of potash) (MOP)\", \"Potassium chloride (muriate of potash) (MOP)\", \"Potassium chloride (muriate of potash) (MOP)\", \"Potassium chloride (muriate of potash) (MOP)\", \"Potassium nitrate\", \"Potassium nitrate\", \"Potassium nitrate\", \"Potassium nitrate\", \"Potassium nitrate\", \"Potassium nitrate\", \"Potassium nitrate\", \"Potassium nitrate\", \"Potassium nitrate\", \"Potassium nitrate\", \"Potassium nitrate\", \"Potassium nitrate\", \"Potassium nitrate\", \"Potassium nitrate\", \"Potassium nitrate\", \"Potassium nitrate\", \"Potassium sulphate (sulphate of potash) (SOP)\", \"Potassium sulphate (sulphate of potash) (SOP)\", \"Potassium sulphate (sulphate of potash) (SOP)\", \"Potassium sulphate (sulphate of potash) (SOP)\", \"Potassium sulphate (sulphate of potash) (SOP)\", \"Potassium sulphate (sulphate of potash) (SOP)\", \"Potassium sulphate (sulphate of potash) (SOP)\", \"Potassium sulphate (sulphate of potash) (SOP)\", \"Potassium sulphate (sulphate of potash) (SOP)\", \"Potassium sulphate (sulphate of potash) (SOP)\", \"Potassium sulphate (sulphate of potash) (SOP)\", \"Potassium sulphate (sulphate of potash) (SOP)\", \"Potassium sulphate (sulphate of potash) (SOP)\", \"Potassium sulphate (sulphate of potash) (SOP)\", \"Potassium sulphate (sulphate of potash) (SOP)\", \"Potassium sulphate (sulphate of potash) (SOP)\", \"Sodium nitrate\", \"Sodium nitrate\", \"Sodium nitrate\", \"Sodium nitrate\", \"Sodium nitrate\", \"Sodium nitrate\", \"Sodium nitrate\", \"Sodium nitrate\", \"Sodium nitrate\", \"Sodium nitrate\", \"Sodium nitrate\", \"Sodium nitrate\", \"Sodium nitrate\", \"Sodium nitrate\", \"Sodium nitrate\", \"Sodium nitrate\", \"Superphosphates above 35%\", \"Superphosphates above 35%\", \"Superphosphates above 35%\", \"Superphosphates above 35%\", \"Superphosphates above 35%\", \"Superphosphates above 35%\", \"Superphosphates above 35%\", \"Superphosphates above 35%\", \"Superphosphates above 35%\", \"Superphosphates above 35%\", \"Superphosphates above 35%\", \"Superphosphates above 35%\", \"Superphosphates above 35%\", \"Superphosphates above 35%\", \"Superphosphates above 35%\", \"Superphosphates above 35%\", \"Superphosphates, other\", \"Urea\", \"Urea\", \"Urea\", \"Urea\", \"Urea\", \"Urea\", \"Urea\", \"Urea\", \"Urea\", \"Urea\", \"Urea\", \"Urea\", \"Urea\", \"Urea\", \"Urea\", \"Urea\", \"Urea and ammonium nitrate solutions (UAN)\", \"Urea and ammonium nitrate solutions (UAN)\", \"Urea and ammonium nitrate solutions (UAN)\", \"Urea and ammonium nitrate solutions (UAN)\", \"Urea and ammonium nitrate solutions (UAN)\", \"Urea and ammonium nitrate solutions (UAN)\", \"Urea and ammonium nitrate solutions (UAN)\", \"Urea and ammonium nitrate solutions (UAN)\", \"Urea and ammonium nitrate solutions (UAN)\"], \"xaxis\": \"x\", \"y\": [33250.75, 60289.16, 62854.72, 74365.34, 80488.66, 110233.34, 197813.67, 93803.29, 138353.75, 185023.6, 230969.76, 174069.98, 181549.83, 155349.85, 92725.19, 68438.76, 57443.38, 49509.58, 35650.22, 44056.22, 61942.11, 187656.68, 324408.07, 170525.93, 221433.85, 505623.13, 417433.41, 414275.25, 319891.31, 258407.76, 214970.74, 252940.19, 80190.66, 122471.22, 177858.09, 157054.7, 185530.83, 331165.06, 499495.1, 188739.72, 229865.4, 474548.65, 422719.23, 408204.79, 322452.96, 307150.92, 328063.06, 295007.4, 49.04, 415.72, 67.05, 7840.97, 5239.48, 5682.01, 24447.0, 62493.45, 81940.9, 57654.11, 61520.04, 48699.89, 48368.86, 55099.15, 24666.32, 41662.04, 64517.83, 59354.22, 67201.81, 209758.46, 449911.23, 111564.06, 150312.24, 296005.05, 322796.42, 424152.53, 333202.45, 188622.08, 159848.86, 153585.04, 35458.04, 37893.84, 50680.05, 46245.1, 50967.53, 52444.79, 99587.94, 99952.11, 85404.47, 105810.24, 134103.86, 140783.6, 110676.49, 84840.53, 91903.16, 108925.91, 224410.95, 339541.09, 496100.35, 322758.59, 309373.36, 678633.14, 1159291.17, 282764.4, 561386.33, 1350224.27, 1019564.45, 1253558.38, 1384705.38, 1080444.93, 977918.09, 1286621.19, 3526.33, 5559.96, 16660.43, 5589.57, 11729.21, 31353.75, 206024.09, 72125.81, 101980.94, 213506.5, 248757.27, 199321.32, 230527.16, 166320.77, 254751.32, 298016.37, 6307.59, 8619.37, 8586.92, 10845.4, 11084.68, 18228.8, 28631.31, 22776.43, 28281.93, 42996.1, 45285.12, 53922.51, 75445.49, 81095.74, 95853.88, 120001.3, 34581.61, 70444.2, 139144.44, 108447.35, 120568.06, 274759.05, 435930.33, 76828.67, 163101.07, 517176.33, 407412.79, 603861.77, 687866.63, 504551.5, 566518.79, 712175.75, 777.99, 737.99, 190.3, 70.27, 56.23, 34.04, 16060.99, 241.24, 404.6, 715.24, 5053.81, 662.0, 2453.28, 538.28, 376.92, 243.63, 87.08, 598.79, 1008.32, 1160.29, 1528.0, 1689.02, 3345.7, 5027.3, 7793.27, 10368.02, 10275.06, 7857.29, 5776.81, 11272.52, 12754.87, 22160.5, 48037.84, 50880.54, 74754.76, 59894.72, 66976.1, 104625.58, 311677.63, 83805.55, 134704.22, 206567.41, 205477.1, 219946.46, 188027.72, 205673.51, 152517.93, 147926.52, 1234.58, 1002.16, 1636.49, 1810.24, 2213.94, 2367.64, 6098.09, 2239.02, 3159.87, 6003.8, 5066.98, 7107.06, 7411.15, 6800.27, 6548.46, 8656.77, 529949.75, 624437.27, 980768.59, 959563.19, 950346.82, 1500130.51, 3828779.3, 2079147.37, 2234386.1, 3503286.79, 3512828.84, 3324578.26, 2897139.53, 2513959.66, 1990909.3, 2394045.19, 8072.37, 9220.63, 9750.56, 12138.92, 9268.37, 9398.83, 22459.05, 19947.49, 6395.91, 7533.47, 13632.66, 9544.07, 9779.47, 6543.64, 3846.15, 3217.88, 14082.97, 12818.53, 19019.42, 14837.17, 16680.96, 11377.2, 25275.02, 28510.27, 21153.9, 19359.33, 26666.02, 23709.37, 31297.86, 30118.16, 25400.75, 21908.91, 2017.63, 3076.58, 3475.53, 3616.91, 3918.08, 4917.85, 9186.99, 7873.71, 7726.4, 7613.81, 9309.89, 9589.28, 9081.76, 10196.18, 5804.08, 5286.38, 95326.88, 147204.65, 240767.86, 176413.31, 199321.66, 450354.2, 981034.29, 235862.69, 389999.12, 699130.65, 610410.72, 638448.46, 460675.25, 406495.57, 302325.6, 207676.85, 86496.91, 119722.5, 247452.97, 351438.4, 355849.51, 364794.35, 767423.39, 1227413.66, 513455.55, 712075.87, 1320415.68, 1288373.66, 1308255.25, 1482848.69, 882144.4, 903141.9, 1244561.76, 0.05, 2.54, 3.38, 2.59, 3.18, 27.95, 1499.42, 1697.12, 2820.48], \"yaxis\": \"y\"}],\n",
       "                        {\"barmode\": \"relative\", \"legend\": {\"tracegroupgap\": 0}, \"template\": {\"data\": {\"bar\": [{\"error_x\": {\"color\": \"#2a3f5f\"}, \"error_y\": {\"color\": \"#2a3f5f\"}, \"marker\": {\"line\": {\"color\": \"#E5ECF6\", \"width\": 0.5}}, \"type\": \"bar\"}], \"barpolar\": [{\"marker\": {\"line\": {\"color\": \"#E5ECF6\", \"width\": 0.5}}, \"type\": \"barpolar\"}], \"carpet\": [{\"aaxis\": {\"endlinecolor\": \"#2a3f5f\", \"gridcolor\": \"white\", \"linecolor\": \"white\", \"minorgridcolor\": \"white\", \"startlinecolor\": \"#2a3f5f\"}, \"baxis\": {\"endlinecolor\": \"#2a3f5f\", \"gridcolor\": \"white\", \"linecolor\": \"white\", \"minorgridcolor\": \"white\", \"startlinecolor\": \"#2a3f5f\"}, \"type\": \"carpet\"}], \"choropleth\": [{\"colorbar\": {\"outlinewidth\": 0, \"ticks\": \"\"}, \"type\": \"choropleth\"}], \"contour\": [{\"colorbar\": {\"outlinewidth\": 0, \"ticks\": \"\"}, \"colorscale\": [[0.0, \"#0d0887\"], [0.1111111111111111, \"#46039f\"], [0.2222222222222222, \"#7201a8\"], [0.3333333333333333, \"#9c179e\"], [0.4444444444444444, \"#bd3786\"], [0.5555555555555556, \"#d8576b\"], [0.6666666666666666, \"#ed7953\"], [0.7777777777777778, \"#fb9f3a\"], [0.8888888888888888, \"#fdca26\"], [1.0, \"#f0f921\"]], \"type\": \"contour\"}], \"contourcarpet\": [{\"colorbar\": {\"outlinewidth\": 0, \"ticks\": \"\"}, \"type\": \"contourcarpet\"}], \"heatmap\": [{\"colorbar\": {\"outlinewidth\": 0, \"ticks\": \"\"}, \"colorscale\": [[0.0, \"#0d0887\"], [0.1111111111111111, \"#46039f\"], [0.2222222222222222, \"#7201a8\"], [0.3333333333333333, \"#9c179e\"], [0.4444444444444444, \"#bd3786\"], [0.5555555555555556, \"#d8576b\"], [0.6666666666666666, \"#ed7953\"], [0.7777777777777778, \"#fb9f3a\"], [0.8888888888888888, \"#fdca26\"], [1.0, \"#f0f921\"]], \"type\": \"heatmap\"}], \"heatmapgl\": [{\"colorbar\": {\"outlinewidth\": 0, \"ticks\": \"\"}, \"colorscale\": [[0.0, \"#0d0887\"], [0.1111111111111111, \"#46039f\"], [0.2222222222222222, \"#7201a8\"], [0.3333333333333333, \"#9c179e\"], [0.4444444444444444, \"#bd3786\"], [0.5555555555555556, \"#d8576b\"], [0.6666666666666666, \"#ed7953\"], [0.7777777777777778, \"#fb9f3a\"], [0.8888888888888888, \"#fdca26\"], [1.0, \"#f0f921\"]], \"type\": \"heatmapgl\"}], \"histogram\": [{\"marker\": {\"colorbar\": {\"outlinewidth\": 0, \"ticks\": \"\"}}, \"type\": \"histogram\"}], \"histogram2d\": [{\"colorbar\": {\"outlinewidth\": 0, \"ticks\": \"\"}, \"colorscale\": [[0.0, \"#0d0887\"], [0.1111111111111111, \"#46039f\"], [0.2222222222222222, \"#7201a8\"], [0.3333333333333333, \"#9c179e\"], [0.4444444444444444, \"#bd3786\"], [0.5555555555555556, \"#d8576b\"], [0.6666666666666666, \"#ed7953\"], [0.7777777777777778, \"#fb9f3a\"], [0.8888888888888888, \"#fdca26\"], [1.0, \"#f0f921\"]], \"type\": \"histogram2d\"}], \"histogram2dcontour\": [{\"colorbar\": {\"outlinewidth\": 0, \"ticks\": \"\"}, \"colorscale\": [[0.0, \"#0d0887\"], [0.1111111111111111, \"#46039f\"], [0.2222222222222222, \"#7201a8\"], [0.3333333333333333, \"#9c179e\"], [0.4444444444444444, \"#bd3786\"], [0.5555555555555556, \"#d8576b\"], [0.6666666666666666, \"#ed7953\"], [0.7777777777777778, \"#fb9f3a\"], [0.8888888888888888, \"#fdca26\"], [1.0, \"#f0f921\"]], \"type\": \"histogram2dcontour\"}], \"mesh3d\": [{\"colorbar\": {\"outlinewidth\": 0, \"ticks\": \"\"}, \"type\": \"mesh3d\"}], \"parcoords\": [{\"line\": {\"colorbar\": {\"outlinewidth\": 0, \"ticks\": \"\"}}, \"type\": \"parcoords\"}], \"pie\": [{\"automargin\": true, \"type\": \"pie\"}], \"scatter\": [{\"marker\": {\"colorbar\": {\"outlinewidth\": 0, \"ticks\": \"\"}}, \"type\": \"scatter\"}], \"scatter3d\": [{\"line\": {\"colorbar\": {\"outlinewidth\": 0, \"ticks\": \"\"}}, \"marker\": {\"colorbar\": {\"outlinewidth\": 0, \"ticks\": \"\"}}, \"type\": \"scatter3d\"}], \"scattercarpet\": [{\"marker\": {\"colorbar\": {\"outlinewidth\": 0, \"ticks\": \"\"}}, \"type\": \"scattercarpet\"}], \"scattergeo\": [{\"marker\": {\"colorbar\": {\"outlinewidth\": 0, \"ticks\": \"\"}}, \"type\": \"scattergeo\"}], \"scattergl\": [{\"marker\": {\"colorbar\": {\"outlinewidth\": 0, \"ticks\": \"\"}}, \"type\": \"scattergl\"}], \"scattermapbox\": [{\"marker\": {\"colorbar\": {\"outlinewidth\": 0, \"ticks\": \"\"}}, \"type\": \"scattermapbox\"}], \"scatterpolar\": [{\"marker\": {\"colorbar\": {\"outlinewidth\": 0, \"ticks\": \"\"}}, \"type\": \"scatterpolar\"}], \"scatterpolargl\": [{\"marker\": {\"colorbar\": {\"outlinewidth\": 0, \"ticks\": \"\"}}, \"type\": \"scatterpolargl\"}], \"scatterternary\": [{\"marker\": {\"colorbar\": {\"outlinewidth\": 0, \"ticks\": \"\"}}, \"type\": \"scatterternary\"}], \"surface\": [{\"colorbar\": {\"outlinewidth\": 0, \"ticks\": \"\"}, \"colorscale\": [[0.0, \"#0d0887\"], [0.1111111111111111, \"#46039f\"], [0.2222222222222222, \"#7201a8\"], [0.3333333333333333, \"#9c179e\"], [0.4444444444444444, \"#bd3786\"], [0.5555555555555556, \"#d8576b\"], [0.6666666666666666, \"#ed7953\"], [0.7777777777777778, \"#fb9f3a\"], [0.8888888888888888, \"#fdca26\"], [1.0, \"#f0f921\"]], \"type\": \"surface\"}], \"table\": [{\"cells\": {\"fill\": {\"color\": \"#EBF0F8\"}, \"line\": {\"color\": \"white\"}}, \"header\": {\"fill\": {\"color\": \"#C8D4E3\"}, \"line\": {\"color\": \"white\"}}, \"type\": \"table\"}]}, \"layout\": {\"annotationdefaults\": {\"arrowcolor\": \"#2a3f5f\", \"arrowhead\": 0, \"arrowwidth\": 1}, \"coloraxis\": {\"colorbar\": {\"outlinewidth\": 0, \"ticks\": \"\"}}, \"colorscale\": {\"diverging\": [[0, \"#8e0152\"], [0.1, \"#c51b7d\"], [0.2, \"#de77ae\"], [0.3, \"#f1b6da\"], [0.4, \"#fde0ef\"], [0.5, \"#f7f7f7\"], [0.6, \"#e6f5d0\"], [0.7, \"#b8e186\"], [0.8, \"#7fbc41\"], [0.9, \"#4d9221\"], [1, \"#276419\"]], \"sequential\": [[0.0, \"#0d0887\"], [0.1111111111111111, \"#46039f\"], [0.2222222222222222, \"#7201a8\"], [0.3333333333333333, \"#9c179e\"], [0.4444444444444444, \"#bd3786\"], [0.5555555555555556, \"#d8576b\"], [0.6666666666666666, \"#ed7953\"], [0.7777777777777778, \"#fb9f3a\"], [0.8888888888888888, \"#fdca26\"], [1.0, \"#f0f921\"]], \"sequentialminus\": [[0.0, \"#0d0887\"], [0.1111111111111111, \"#46039f\"], [0.2222222222222222, \"#7201a8\"], [0.3333333333333333, \"#9c179e\"], [0.4444444444444444, \"#bd3786\"], [0.5555555555555556, \"#d8576b\"], [0.6666666666666666, \"#ed7953\"], [0.7777777777777778, \"#fb9f3a\"], [0.8888888888888888, \"#fdca26\"], [1.0, \"#f0f921\"]]}, \"colorway\": [\"#636efa\", \"#EF553B\", \"#00cc96\", \"#ab63fa\", \"#FFA15A\", \"#19d3f3\", \"#FF6692\", \"#B6E880\", \"#FF97FF\", \"#FECB52\"], \"font\": {\"color\": \"#2a3f5f\"}, \"geo\": {\"bgcolor\": \"white\", \"lakecolor\": \"white\", \"landcolor\": \"#E5ECF6\", \"showlakes\": true, \"showland\": true, \"subunitcolor\": \"white\"}, \"hoverlabel\": {\"align\": \"left\"}, \"hovermode\": \"closest\", \"mapbox\": {\"style\": \"light\"}, \"paper_bgcolor\": \"white\", \"plot_bgcolor\": \"#E5ECF6\", \"polar\": {\"angularaxis\": {\"gridcolor\": \"white\", \"linecolor\": \"white\", \"ticks\": \"\"}, \"bgcolor\": \"#E5ECF6\", \"radialaxis\": {\"gridcolor\": \"white\", \"linecolor\": \"white\", \"ticks\": \"\"}}, \"scene\": {\"xaxis\": {\"backgroundcolor\": \"#E5ECF6\", \"gridcolor\": \"white\", \"gridwidth\": 2, \"linecolor\": \"white\", \"showbackground\": true, \"ticks\": \"\", \"zerolinecolor\": \"white\"}, \"yaxis\": {\"backgroundcolor\": \"#E5ECF6\", \"gridcolor\": \"white\", \"gridwidth\": 2, \"linecolor\": \"white\", \"showbackground\": true, \"ticks\": \"\", \"zerolinecolor\": \"white\"}, \"zaxis\": {\"backgroundcolor\": \"#E5ECF6\", \"gridcolor\": \"white\", \"gridwidth\": 2, \"linecolor\": \"white\", \"showbackground\": true, \"ticks\": \"\", \"zerolinecolor\": \"white\"}}, \"shapedefaults\": {\"line\": {\"color\": \"#2a3f5f\"}}, \"ternary\": {\"aaxis\": {\"gridcolor\": \"white\", \"linecolor\": \"white\", \"ticks\": \"\"}, \"baxis\": {\"gridcolor\": \"white\", \"linecolor\": \"white\", \"ticks\": \"\"}, \"bgcolor\": \"#E5ECF6\", \"caxis\": {\"gridcolor\": \"white\", \"linecolor\": \"white\", \"ticks\": \"\"}}, \"title\": {\"x\": 0.05}, \"xaxis\": {\"automargin\": true, \"gridcolor\": \"white\", \"linecolor\": \"white\", \"ticks\": \"\", \"title\": {\"standoff\": 15}, \"zerolinecolor\": \"white\", \"zerolinewidth\": 2}, \"yaxis\": {\"automargin\": true, \"gridcolor\": \"white\", \"linecolor\": \"white\", \"ticks\": \"\", \"title\": {\"standoff\": 15}, \"zerolinecolor\": \"white\", \"zerolinewidth\": 2}}}, \"title\": {\"text\": \"Import Value of products over a year\"}, \"xaxis\": {\"anchor\": \"y\", \"domain\": [0.0, 1.0], \"title\": {\"text\": \"Item\"}}, \"yaxis\": {\"anchor\": \"x\", \"domain\": [0.0, 1.0], \"title\": {\"text\": \"Value\"}}},\n",
       "                        {\"responsive\": true}\n",
       "                    ).then(function(){\n",
       "                            \n",
       "var gd = document.getElementById('4a46d8de-7735-4f46-bd8e-0c281f62e691');\n",
       "var x = new MutationObserver(function (mutations, observer) {{\n",
       "        var display = window.getComputedStyle(gd).display;\n",
       "        if (!display || display === 'none') {{\n",
       "            console.log([gd, 'removed!']);\n",
       "            Plotly.purge(gd);\n",
       "            observer.disconnect();\n",
       "        }}\n",
       "}});\n",
       "\n",
       "// Listen for the removal of the full notebook cells\n",
       "var notebookContainer = gd.closest('#notebook-container');\n",
       "if (notebookContainer) {{\n",
       "    x.observe(notebookContainer, {childList: true});\n",
       "}}\n",
       "\n",
       "// Listen for the clearing of the current output cell\n",
       "var outputEl = gd.closest('.output');\n",
       "if (outputEl) {{\n",
       "    x.observe(outputEl, {childList: true});\n",
       "}}\n",
       "\n",
       "                        })\n",
       "                };\n",
       "                });\n",
       "            </script>\n",
       "        </div>"
      ]
     },
     "metadata": {},
     "output_type": "display_data"
    },
    {
     "data": {
      "application/vnd.plotly.v1+json": {
       "config": {
        "linkText": "Export to plot.ly",
        "plotlyServerURL": "https://plot.ly",
        "showLink": false
       },
       "data": [
        {
         "alignmentgroup": "True",
         "customdata": [
          [
           2002
          ],
          [
           2003
          ],
          [
           2004
          ],
          [
           2005
          ],
          [
           2006
          ],
          [
           2007
          ],
          [
           2008
          ],
          [
           2009
          ],
          [
           2010
          ],
          [
           2011
          ],
          [
           2012
          ],
          [
           2013
          ],
          [
           2014
          ],
          [
           2015
          ],
          [
           2016
          ],
          [
           2017
          ],
          [
           2002
          ],
          [
           2003
          ],
          [
           2004
          ],
          [
           2005
          ],
          [
           2006
          ],
          [
           2007
          ],
          [
           2008
          ],
          [
           2009
          ],
          [
           2010
          ],
          [
           2011
          ],
          [
           2012
          ],
          [
           2013
          ],
          [
           2014
          ],
          [
           2015
          ],
          [
           2016
          ],
          [
           2017
          ],
          [
           2002
          ],
          [
           2003
          ],
          [
           2004
          ],
          [
           2005
          ],
          [
           2006
          ],
          [
           2007
          ],
          [
           2008
          ],
          [
           2009
          ],
          [
           2010
          ],
          [
           2011
          ],
          [
           2012
          ],
          [
           2013
          ],
          [
           2014
          ],
          [
           2015
          ],
          [
           2016
          ],
          [
           2017
          ],
          [
           2003
          ],
          [
           2006
          ],
          [
           2011
          ],
          [
           2012
          ],
          [
           2013
          ],
          [
           2014
          ],
          [
           2015
          ],
          [
           2016
          ],
          [
           2017
          ],
          [
           2002
          ],
          [
           2003
          ],
          [
           2004
          ],
          [
           2005
          ],
          [
           2006
          ],
          [
           2007
          ],
          [
           2008
          ],
          [
           2009
          ],
          [
           2010
          ],
          [
           2011
          ],
          [
           2012
          ],
          [
           2013
          ],
          [
           2014
          ],
          [
           2015
          ],
          [
           2016
          ],
          [
           2017
          ],
          [
           2002
          ],
          [
           2003
          ],
          [
           2004
          ],
          [
           2005
          ],
          [
           2006
          ],
          [
           2007
          ],
          [
           2008
          ],
          [
           2009
          ],
          [
           2010
          ],
          [
           2011
          ],
          [
           2012
          ],
          [
           2013
          ],
          [
           2014
          ],
          [
           2015
          ],
          [
           2016
          ],
          [
           2017
          ],
          [
           2002
          ],
          [
           2003
          ],
          [
           2004
          ],
          [
           2005
          ],
          [
           2006
          ],
          [
           2007
          ],
          [
           2008
          ],
          [
           2009
          ],
          [
           2010
          ],
          [
           2011
          ],
          [
           2012
          ],
          [
           2013
          ],
          [
           2014
          ],
          [
           2015
          ],
          [
           2016
          ],
          [
           2017
          ],
          [
           2002
          ],
          [
           2003
          ],
          [
           2004
          ],
          [
           2005
          ],
          [
           2006
          ],
          [
           2007
          ],
          [
           2008
          ],
          [
           2009
          ],
          [
           2010
          ],
          [
           2011
          ],
          [
           2012
          ],
          [
           2013
          ],
          [
           2014
          ],
          [
           2015
          ],
          [
           2016
          ],
          [
           2017
          ],
          [
           2002
          ],
          [
           2003
          ],
          [
           2004
          ],
          [
           2005
          ],
          [
           2006
          ],
          [
           2007
          ],
          [
           2008
          ],
          [
           2009
          ],
          [
           2010
          ],
          [
           2011
          ],
          [
           2012
          ],
          [
           2013
          ],
          [
           2014
          ],
          [
           2015
          ],
          [
           2016
          ],
          [
           2017
          ],
          [
           2002
          ],
          [
           2003
          ],
          [
           2004
          ],
          [
           2005
          ],
          [
           2006
          ],
          [
           2007
          ],
          [
           2008
          ],
          [
           2009
          ],
          [
           2010
          ],
          [
           2011
          ],
          [
           2012
          ],
          [
           2013
          ],
          [
           2014
          ],
          [
           2015
          ],
          [
           2016
          ],
          [
           2017
          ],
          [
           2002
          ],
          [
           2003
          ],
          [
           2004
          ],
          [
           2005
          ],
          [
           2006
          ],
          [
           2007
          ],
          [
           2008
          ],
          [
           2009
          ],
          [
           2010
          ],
          [
           2011
          ],
          [
           2012
          ],
          [
           2013
          ],
          [
           2014
          ],
          [
           2015
          ],
          [
           2016
          ],
          [
           2017
          ],
          [
           2002
          ],
          [
           2003
          ],
          [
           2004
          ],
          [
           2005
          ],
          [
           2006
          ],
          [
           2007
          ],
          [
           2008
          ],
          [
           2009
          ],
          [
           2010
          ],
          [
           2011
          ],
          [
           2012
          ],
          [
           2013
          ],
          [
           2014
          ],
          [
           2015
          ],
          [
           2016
          ],
          [
           2017
          ],
          [
           2002
          ],
          [
           2003
          ],
          [
           2004
          ],
          [
           2005
          ],
          [
           2006
          ],
          [
           2007
          ],
          [
           2008
          ],
          [
           2009
          ],
          [
           2010
          ],
          [
           2011
          ],
          [
           2012
          ],
          [
           2013
          ],
          [
           2014
          ],
          [
           2015
          ],
          [
           2016
          ],
          [
           2017
          ],
          [
           2002
          ],
          [
           2003
          ],
          [
           2004
          ],
          [
           2005
          ],
          [
           2006
          ],
          [
           2007
          ],
          [
           2008
          ],
          [
           2009
          ],
          [
           2010
          ],
          [
           2011
          ],
          [
           2012
          ],
          [
           2013
          ],
          [
           2014
          ],
          [
           2015
          ],
          [
           2016
          ],
          [
           2017
          ],
          [
           2002
          ],
          [
           2003
          ],
          [
           2004
          ],
          [
           2005
          ],
          [
           2006
          ],
          [
           2007
          ],
          [
           2008
          ],
          [
           2009
          ],
          [
           2010
          ],
          [
           2011
          ],
          [
           2012
          ],
          [
           2013
          ],
          [
           2014
          ],
          [
           2015
          ],
          [
           2016
          ],
          [
           2017
          ],
          [
           2004
          ],
          [
           2007
          ],
          [
           2008
          ],
          [
           2009
          ],
          [
           2010
          ],
          [
           2011
          ],
          [
           2012
          ],
          [
           2013
          ],
          [
           2014
          ],
          [
           2015
          ],
          [
           2016
          ],
          [
           2017
          ],
          [
           2002
          ],
          [
           2003
          ],
          [
           2004
          ],
          [
           2005
          ],
          [
           2006
          ],
          [
           2007
          ],
          [
           2008
          ],
          [
           2009
          ],
          [
           2010
          ],
          [
           2011
          ],
          [
           2012
          ],
          [
           2013
          ],
          [
           2014
          ],
          [
           2015
          ],
          [
           2016
          ],
          [
           2017
          ],
          [
           2002
          ],
          [
           2003
          ],
          [
           2004
          ],
          [
           2005
          ],
          [
           2006
          ],
          [
           2007
          ],
          [
           2008
          ],
          [
           2009
          ],
          [
           2010
          ],
          [
           2011
          ],
          [
           2012
          ],
          [
           2013
          ],
          [
           2014
          ],
          [
           2015
          ],
          [
           2016
          ],
          [
           2017
          ],
          [
           2002
          ],
          [
           2003
          ],
          [
           2004
          ],
          [
           2005
          ],
          [
           2006
          ],
          [
           2007
          ],
          [
           2008
          ],
          [
           2009
          ],
          [
           2010
          ],
          [
           2011
          ],
          [
           2012
          ],
          [
           2013
          ],
          [
           2014
          ],
          [
           2015
          ],
          [
           2016
          ],
          [
           2017
          ],
          [
           2017
          ],
          [
           2002
          ],
          [
           2003
          ],
          [
           2004
          ],
          [
           2005
          ],
          [
           2006
          ],
          [
           2007
          ],
          [
           2008
          ],
          [
           2009
          ],
          [
           2010
          ],
          [
           2011
          ],
          [
           2012
          ],
          [
           2013
          ],
          [
           2014
          ],
          [
           2015
          ],
          [
           2016
          ],
          [
           2017
          ],
          [
           2005
          ],
          [
           2007
          ],
          [
           2008
          ],
          [
           2009
          ],
          [
           2010
          ],
          [
           2011
          ],
          [
           2012
          ],
          [
           2013
          ],
          [
           2014
          ],
          [
           2015
          ],
          [
           2016
          ],
          [
           2017
          ]
         ],
         "hovertemplate": "Item=%{x}<br>Value=%{y}<br>Year=%{customdata[0]}<extra></extra>",
         "legendgroup": "",
         "marker": {
          "color": "#636efa"
         },
         "name": "",
         "offsetgroup": "",
         "orientation": "v",
         "showlegend": false,
         "textposition": "auto",
         "type": "bar",
         "x": [
          "Ammonia, anhydrous",
          "Ammonia, anhydrous",
          "Ammonia, anhydrous",
          "Ammonia, anhydrous",
          "Ammonia, anhydrous",
          "Ammonia, anhydrous",
          "Ammonia, anhydrous",
          "Ammonia, anhydrous",
          "Ammonia, anhydrous",
          "Ammonia, anhydrous",
          "Ammonia, anhydrous",
          "Ammonia, anhydrous",
          "Ammonia, anhydrous",
          "Ammonia, anhydrous",
          "Ammonia, anhydrous",
          "Ammonia, anhydrous",
          "Ammonium nitrate (AN)",
          "Ammonium nitrate (AN)",
          "Ammonium nitrate (AN)",
          "Ammonium nitrate (AN)",
          "Ammonium nitrate (AN)",
          "Ammonium nitrate (AN)",
          "Ammonium nitrate (AN)",
          "Ammonium nitrate (AN)",
          "Ammonium nitrate (AN)",
          "Ammonium nitrate (AN)",
          "Ammonium nitrate (AN)",
          "Ammonium nitrate (AN)",
          "Ammonium nitrate (AN)",
          "Ammonium nitrate (AN)",
          "Ammonium nitrate (AN)",
          "Ammonium nitrate (AN)",
          "Ammonium sulphate",
          "Ammonium sulphate",
          "Ammonium sulphate",
          "Ammonium sulphate",
          "Ammonium sulphate",
          "Ammonium sulphate",
          "Ammonium sulphate",
          "Ammonium sulphate",
          "Ammonium sulphate",
          "Ammonium sulphate",
          "Ammonium sulphate",
          "Ammonium sulphate",
          "Ammonium sulphate",
          "Ammonium sulphate",
          "Ammonium sulphate",
          "Ammonium sulphate",
          "Calcium ammonium nitrate (CAN) and other mixtures with calcium carbonate",
          "Calcium ammonium nitrate (CAN) and other mixtures with calcium carbonate",
          "Calcium ammonium nitrate (CAN) and other mixtures with calcium carbonate",
          "Calcium ammonium nitrate (CAN) and other mixtures with calcium carbonate",
          "Calcium ammonium nitrate (CAN) and other mixtures with calcium carbonate",
          "Calcium ammonium nitrate (CAN) and other mixtures with calcium carbonate",
          "Calcium ammonium nitrate (CAN) and other mixtures with calcium carbonate",
          "Calcium ammonium nitrate (CAN) and other mixtures with calcium carbonate",
          "Calcium ammonium nitrate (CAN) and other mixtures with calcium carbonate",
          "Diammonium phosphate (DAP)",
          "Diammonium phosphate (DAP)",
          "Diammonium phosphate (DAP)",
          "Diammonium phosphate (DAP)",
          "Diammonium phosphate (DAP)",
          "Diammonium phosphate (DAP)",
          "Diammonium phosphate (DAP)",
          "Diammonium phosphate (DAP)",
          "Diammonium phosphate (DAP)",
          "Diammonium phosphate (DAP)",
          "Diammonium phosphate (DAP)",
          "Diammonium phosphate (DAP)",
          "Diammonium phosphate (DAP)",
          "Diammonium phosphate (DAP)",
          "Diammonium phosphate (DAP)",
          "Diammonium phosphate (DAP)",
          "Fertilizers n.e.c.",
          "Fertilizers n.e.c.",
          "Fertilizers n.e.c.",
          "Fertilizers n.e.c.",
          "Fertilizers n.e.c.",
          "Fertilizers n.e.c.",
          "Fertilizers n.e.c.",
          "Fertilizers n.e.c.",
          "Fertilizers n.e.c.",
          "Fertilizers n.e.c.",
          "Fertilizers n.e.c.",
          "Fertilizers n.e.c.",
          "Fertilizers n.e.c.",
          "Fertilizers n.e.c.",
          "Fertilizers n.e.c.",
          "Fertilizers n.e.c.",
          "Monoammonium phosphate (MAP)",
          "Monoammonium phosphate (MAP)",
          "Monoammonium phosphate (MAP)",
          "Monoammonium phosphate (MAP)",
          "Monoammonium phosphate (MAP)",
          "Monoammonium phosphate (MAP)",
          "Monoammonium phosphate (MAP)",
          "Monoammonium phosphate (MAP)",
          "Monoammonium phosphate (MAP)",
          "Monoammonium phosphate (MAP)",
          "Monoammonium phosphate (MAP)",
          "Monoammonium phosphate (MAP)",
          "Monoammonium phosphate (MAP)",
          "Monoammonium phosphate (MAP)",
          "Monoammonium phosphate (MAP)",
          "Monoammonium phosphate (MAP)",
          "NPK fertilizers",
          "NPK fertilizers",
          "NPK fertilizers",
          "NPK fertilizers",
          "NPK fertilizers",
          "NPK fertilizers",
          "NPK fertilizers",
          "NPK fertilizers",
          "NPK fertilizers",
          "NPK fertilizers",
          "NPK fertilizers",
          "NPK fertilizers",
          "NPK fertilizers",
          "NPK fertilizers",
          "NPK fertilizers",
          "NPK fertilizers",
          "Other nitrogenous fertilizers, n.e.c.",
          "Other nitrogenous fertilizers, n.e.c.",
          "Other nitrogenous fertilizers, n.e.c.",
          "Other nitrogenous fertilizers, n.e.c.",
          "Other nitrogenous fertilizers, n.e.c.",
          "Other nitrogenous fertilizers, n.e.c.",
          "Other nitrogenous fertilizers, n.e.c.",
          "Other nitrogenous fertilizers, n.e.c.",
          "Other nitrogenous fertilizers, n.e.c.",
          "Other nitrogenous fertilizers, n.e.c.",
          "Other nitrogenous fertilizers, n.e.c.",
          "Other nitrogenous fertilizers, n.e.c.",
          "Other nitrogenous fertilizers, n.e.c.",
          "Other nitrogenous fertilizers, n.e.c.",
          "Other nitrogenous fertilizers, n.e.c.",
          "Other nitrogenous fertilizers, n.e.c.",
          "Other NP compounds",
          "Other NP compounds",
          "Other NP compounds",
          "Other NP compounds",
          "Other NP compounds",
          "Other NP compounds",
          "Other NP compounds",
          "Other NP compounds",
          "Other NP compounds",
          "Other NP compounds",
          "Other NP compounds",
          "Other NP compounds",
          "Other NP compounds",
          "Other NP compounds",
          "Other NP compounds",
          "Other NP compounds",
          "Other phosphatic fertilizers, n.e.c.",
          "Other phosphatic fertilizers, n.e.c.",
          "Other phosphatic fertilizers, n.e.c.",
          "Other phosphatic fertilizers, n.e.c.",
          "Other phosphatic fertilizers, n.e.c.",
          "Other phosphatic fertilizers, n.e.c.",
          "Other phosphatic fertilizers, n.e.c.",
          "Other phosphatic fertilizers, n.e.c.",
          "Other phosphatic fertilizers, n.e.c.",
          "Other phosphatic fertilizers, n.e.c.",
          "Other phosphatic fertilizers, n.e.c.",
          "Other phosphatic fertilizers, n.e.c.",
          "Other phosphatic fertilizers, n.e.c.",
          "Other phosphatic fertilizers, n.e.c.",
          "Other phosphatic fertilizers, n.e.c.",
          "Other phosphatic fertilizers, n.e.c.",
          "Other potassic fertilizers, n.e.c.",
          "Other potassic fertilizers, n.e.c.",
          "Other potassic fertilizers, n.e.c.",
          "Other potassic fertilizers, n.e.c.",
          "Other potassic fertilizers, n.e.c.",
          "Other potassic fertilizers, n.e.c.",
          "Other potassic fertilizers, n.e.c.",
          "Other potassic fertilizers, n.e.c.",
          "Other potassic fertilizers, n.e.c.",
          "Other potassic fertilizers, n.e.c.",
          "Other potassic fertilizers, n.e.c.",
          "Other potassic fertilizers, n.e.c.",
          "Other potassic fertilizers, n.e.c.",
          "Other potassic fertilizers, n.e.c.",
          "Other potassic fertilizers, n.e.c.",
          "Other potassic fertilizers, n.e.c.",
          "Phosphate rock",
          "Phosphate rock",
          "Phosphate rock",
          "Phosphate rock",
          "Phosphate rock",
          "Phosphate rock",
          "Phosphate rock",
          "Phosphate rock",
          "Phosphate rock",
          "Phosphate rock",
          "Phosphate rock",
          "Phosphate rock",
          "Phosphate rock",
          "Phosphate rock",
          "Phosphate rock",
          "Phosphate rock",
          "PK compounds",
          "PK compounds",
          "PK compounds",
          "PK compounds",
          "PK compounds",
          "PK compounds",
          "PK compounds",
          "PK compounds",
          "PK compounds",
          "PK compounds",
          "PK compounds",
          "PK compounds",
          "PK compounds",
          "PK compounds",
          "PK compounds",
          "PK compounds",
          "Potassium chloride (muriate of potash) (MOP)",
          "Potassium chloride (muriate of potash) (MOP)",
          "Potassium chloride (muriate of potash) (MOP)",
          "Potassium chloride (muriate of potash) (MOP)",
          "Potassium chloride (muriate of potash) (MOP)",
          "Potassium chloride (muriate of potash) (MOP)",
          "Potassium chloride (muriate of potash) (MOP)",
          "Potassium chloride (muriate of potash) (MOP)",
          "Potassium chloride (muriate of potash) (MOP)",
          "Potassium chloride (muriate of potash) (MOP)",
          "Potassium chloride (muriate of potash) (MOP)",
          "Potassium chloride (muriate of potash) (MOP)",
          "Potassium chloride (muriate of potash) (MOP)",
          "Potassium chloride (muriate of potash) (MOP)",
          "Potassium chloride (muriate of potash) (MOP)",
          "Potassium chloride (muriate of potash) (MOP)",
          "Potassium nitrate",
          "Potassium nitrate",
          "Potassium nitrate",
          "Potassium nitrate",
          "Potassium nitrate",
          "Potassium nitrate",
          "Potassium nitrate",
          "Potassium nitrate",
          "Potassium nitrate",
          "Potassium nitrate",
          "Potassium nitrate",
          "Potassium nitrate",
          "Potassium sulphate (sulphate of potash) (SOP)",
          "Potassium sulphate (sulphate of potash) (SOP)",
          "Potassium sulphate (sulphate of potash) (SOP)",
          "Potassium sulphate (sulphate of potash) (SOP)",
          "Potassium sulphate (sulphate of potash) (SOP)",
          "Potassium sulphate (sulphate of potash) (SOP)",
          "Potassium sulphate (sulphate of potash) (SOP)",
          "Potassium sulphate (sulphate of potash) (SOP)",
          "Potassium sulphate (sulphate of potash) (SOP)",
          "Potassium sulphate (sulphate of potash) (SOP)",
          "Potassium sulphate (sulphate of potash) (SOP)",
          "Potassium sulphate (sulphate of potash) (SOP)",
          "Potassium sulphate (sulphate of potash) (SOP)",
          "Potassium sulphate (sulphate of potash) (SOP)",
          "Potassium sulphate (sulphate of potash) (SOP)",
          "Potassium sulphate (sulphate of potash) (SOP)",
          "Sodium nitrate",
          "Sodium nitrate",
          "Sodium nitrate",
          "Sodium nitrate",
          "Sodium nitrate",
          "Sodium nitrate",
          "Sodium nitrate",
          "Sodium nitrate",
          "Sodium nitrate",
          "Sodium nitrate",
          "Sodium nitrate",
          "Sodium nitrate",
          "Sodium nitrate",
          "Sodium nitrate",
          "Sodium nitrate",
          "Sodium nitrate",
          "Superphosphates above 35%",
          "Superphosphates above 35%",
          "Superphosphates above 35%",
          "Superphosphates above 35%",
          "Superphosphates above 35%",
          "Superphosphates above 35%",
          "Superphosphates above 35%",
          "Superphosphates above 35%",
          "Superphosphates above 35%",
          "Superphosphates above 35%",
          "Superphosphates above 35%",
          "Superphosphates above 35%",
          "Superphosphates above 35%",
          "Superphosphates above 35%",
          "Superphosphates above 35%",
          "Superphosphates above 35%",
          "Superphosphates, other",
          "Urea",
          "Urea",
          "Urea",
          "Urea",
          "Urea",
          "Urea",
          "Urea",
          "Urea",
          "Urea",
          "Urea",
          "Urea",
          "Urea",
          "Urea",
          "Urea",
          "Urea",
          "Urea",
          "Urea and ammonium nitrate solutions (UAN)",
          "Urea and ammonium nitrate solutions (UAN)",
          "Urea and ammonium nitrate solutions (UAN)",
          "Urea and ammonium nitrate solutions (UAN)",
          "Urea and ammonium nitrate solutions (UAN)",
          "Urea and ammonium nitrate solutions (UAN)",
          "Urea and ammonium nitrate solutions (UAN)",
          "Urea and ammonium nitrate solutions (UAN)",
          "Urea and ammonium nitrate solutions (UAN)",
          "Urea and ammonium nitrate solutions (UAN)",
          "Urea and ammonium nitrate solutions (UAN)",
          "Urea and ammonium nitrate solutions (UAN)"
         ],
         "xaxis": "x",
         "y": [
          40.9,
          29.69,
          54.9,
          109.92,
          133.25,
          5622.3,
          11669.38,
          4362.77,
          14383.79,
          13896.88,
          15294.47,
          9982.94,
          13260.32,
          14903.97,
          24739.58,
          14128.06,
          5629.28,
          5847.59,
          7887.31,
          9131.72,
          6313.45,
          4423.39,
          6691.41,
          6470.66,
          4696.89,
          2171.27,
          1637.49,
          1319.06,
          495.65,
          200.19,
          967.4,
          809.71,
          374.63,
          365,
          296.5,
          768.91,
          906.55,
          1115.52,
          1465.03,
          818.3,
          834.92,
          1667.31,
          485.31,
          1486.94,
          1398.85,
          1657.8,
          1112.71,
          990.46,
          0.27,
          0.07,
          327.6,
          1669.94,
          1217.44,
          743.27,
          407.88,
          259.57,
          27.6,
          2874.69,
          3278.49,
          3767.58,
          4424.72,
          3942.39,
          4055.91,
          2859.6,
          13601.49,
          5020.71,
          2029.36,
          5103.07,
          3823.08,
          3764.48,
          1989.6,
          820.5,
          400.72,
          3797.09,
          5518.67,
          4988.33,
          3753.14,
          3465.25,
          5101.2,
          13814.57,
          10654.34,
          12571.88,
          18825.12,
          15571.18,
          20769.33,
          18036.98,
          23986.58,
          21258.87,
          23732.01,
          88.38,
          189.14,
          1178.72,
          85.83,
          32.74,
          130.18,
          8.39,
          862.38,
          306.29,
          688.78,
          1120.86,
          2002.8,
          1801.84,
          1302.44,
          2157.76,
          2718.2,
          27891.37,
          41954.94,
          59388.02,
          61244.58,
          67328.27,
          124330.93,
          207749.78,
          109799.79,
          151781.02,
          206387.83,
          201514.86,
          254046.1,
          237618.76,
          188653.72,
          108072.83,
          99615.24,
          7353.83,
          9842.63,
          28505.31,
          20209.29,
          19874.63,
          11854.54,
          16458.41,
          7520.91,
          12132.1,
          16275.19,
          8637.77,
          10878.58,
          9507.89,
          7080.6,
          7638.68,
          9570.83,
          1935,
          3119.92,
          7239.93,
          6909.19,
          6016.46,
          13679.66,
          27723.97,
          13434.78,
          22490.6,
          30681.5,
          23100.03,
          27094.39,
          23396.76,
          19464.81,
          19829.24,
          17763.75,
          101.17,
          340.94,
          772.98,
          1311.22,
          2099.21,
          5462.59,
          7470.72,
          2878.71,
          6290.71,
          5487.01,
          3558.09,
          6847.77,
          7072.31,
          2150.4,
          1701.86,
          2283.31,
          171.46,
          118.56,
          138.22,
          104.13,
          190.25,
          234.46,
          313.73,
          248.3,
          388.92,
          851.12,
          918.69,
          844.21,
          1235.46,
          850.71,
          577.35,
          439.78,
          57.38,
          184.11,
          67.69,
          23.81,
          70.2,
          140.89,
          356.67,
          0.9,
          473.02,
          435.8,
          319.3,
          130.7,
          159.41,
          3.15,
          0.44,
          4.17,
          16922.81,
          33989.45,
          51987.47,
          42305.6,
          46126.87,
          72446.44,
          130253.87,
          45075.3,
          57965.86,
          60634.54,
          34225.27,
          34338.67,
          19054.48,
          8754.68,
          3865.39,
          5489.67,
          309.45,
          596.65,
          983.02,
          877.88,
          1544.88,
          4774.67,
          11839.53,
          9312.1,
          9863,
          8638.04,
          7545.55,
          17450.35,
          11218.56,
          10378.37,
          5757.36,
          4072.33,
          0.01,
          0.16,
          5.61,
          0.87,
          0.28,
          0.92,
          0.38,
          0.58,
          3.2,
          10.13,
          137.79,
          179.18,
          5.72,
          8.36,
          0.09,
          0.04,
          0.56,
          64.8,
          617.09,
          531.38,
          740.64,
          1362.27,
          777.21,
          1154.55,
          1235.98,
          710.8,
          1008.09,
          1261.56,
          0.27,
          0,
          0.17,
          4.26,
          0.01,
          6.19,
          1.65,
          100.86,
          96.36,
          25.82,
          365.88,
          105.57,
          151.46,
          470.53,
          325.12,
          438.15,
          4616.8,
          6864.55,
          11113.38,
          22420.21,
          17799.44,
          14656.58,
          20416.34,
          16947.77,
          20073.57,
          27236.43,
          11006.41,
          7854.18,
          10731.71,
          5341.02,
          2991.71,
          1159.98,
          1128.34,
          8989.1,
          6632.64,
          5145.35,
          14608.74,
          3057.71,
          6803.44,
          10069.05,
          5662.66,
          6379.76,
          6054.79,
          7251.37,
          8499.76,
          8906.54,
          7750.18,
          9068.57,
          8294.3,
          0.08,
          371.54,
          1193.28,
          521.8,
          602.03,
          787.41,
          356.41,
          713.26,
          711.13,
          1090.17,
          1920.66,
          1922.86
         ],
         "yaxis": "y"
        }
       ],
       "layout": {
        "barmode": "relative",
        "legend": {
         "tracegroupgap": 0
        },
        "template": {
         "data": {
          "bar": [
           {
            "error_x": {
             "color": "#2a3f5f"
            },
            "error_y": {
             "color": "#2a3f5f"
            },
            "marker": {
             "line": {
              "color": "#E5ECF6",
              "width": 0.5
             }
            },
            "type": "bar"
           }
          ],
          "barpolar": [
           {
            "marker": {
             "line": {
              "color": "#E5ECF6",
              "width": 0.5
             }
            },
            "type": "barpolar"
           }
          ],
          "carpet": [
           {
            "aaxis": {
             "endlinecolor": "#2a3f5f",
             "gridcolor": "white",
             "linecolor": "white",
             "minorgridcolor": "white",
             "startlinecolor": "#2a3f5f"
            },
            "baxis": {
             "endlinecolor": "#2a3f5f",
             "gridcolor": "white",
             "linecolor": "white",
             "minorgridcolor": "white",
             "startlinecolor": "#2a3f5f"
            },
            "type": "carpet"
           }
          ],
          "choropleth": [
           {
            "colorbar": {
             "outlinewidth": 0,
             "ticks": ""
            },
            "type": "choropleth"
           }
          ],
          "contour": [
           {
            "colorbar": {
             "outlinewidth": 0,
             "ticks": ""
            },
            "colorscale": [
             [
              0,
              "#0d0887"
             ],
             [
              0.1111111111111111,
              "#46039f"
             ],
             [
              0.2222222222222222,
              "#7201a8"
             ],
             [
              0.3333333333333333,
              "#9c179e"
             ],
             [
              0.4444444444444444,
              "#bd3786"
             ],
             [
              0.5555555555555556,
              "#d8576b"
             ],
             [
              0.6666666666666666,
              "#ed7953"
             ],
             [
              0.7777777777777778,
              "#fb9f3a"
             ],
             [
              0.8888888888888888,
              "#fdca26"
             ],
             [
              1,
              "#f0f921"
             ]
            ],
            "type": "contour"
           }
          ],
          "contourcarpet": [
           {
            "colorbar": {
             "outlinewidth": 0,
             "ticks": ""
            },
            "type": "contourcarpet"
           }
          ],
          "heatmap": [
           {
            "colorbar": {
             "outlinewidth": 0,
             "ticks": ""
            },
            "colorscale": [
             [
              0,
              "#0d0887"
             ],
             [
              0.1111111111111111,
              "#46039f"
             ],
             [
              0.2222222222222222,
              "#7201a8"
             ],
             [
              0.3333333333333333,
              "#9c179e"
             ],
             [
              0.4444444444444444,
              "#bd3786"
             ],
             [
              0.5555555555555556,
              "#d8576b"
             ],
             [
              0.6666666666666666,
              "#ed7953"
             ],
             [
              0.7777777777777778,
              "#fb9f3a"
             ],
             [
              0.8888888888888888,
              "#fdca26"
             ],
             [
              1,
              "#f0f921"
             ]
            ],
            "type": "heatmap"
           }
          ],
          "heatmapgl": [
           {
            "colorbar": {
             "outlinewidth": 0,
             "ticks": ""
            },
            "colorscale": [
             [
              0,
              "#0d0887"
             ],
             [
              0.1111111111111111,
              "#46039f"
             ],
             [
              0.2222222222222222,
              "#7201a8"
             ],
             [
              0.3333333333333333,
              "#9c179e"
             ],
             [
              0.4444444444444444,
              "#bd3786"
             ],
             [
              0.5555555555555556,
              "#d8576b"
             ],
             [
              0.6666666666666666,
              "#ed7953"
             ],
             [
              0.7777777777777778,
              "#fb9f3a"
             ],
             [
              0.8888888888888888,
              "#fdca26"
             ],
             [
              1,
              "#f0f921"
             ]
            ],
            "type": "heatmapgl"
           }
          ],
          "histogram": [
           {
            "marker": {
             "colorbar": {
              "outlinewidth": 0,
              "ticks": ""
             }
            },
            "type": "histogram"
           }
          ],
          "histogram2d": [
           {
            "colorbar": {
             "outlinewidth": 0,
             "ticks": ""
            },
            "colorscale": [
             [
              0,
              "#0d0887"
             ],
             [
              0.1111111111111111,
              "#46039f"
             ],
             [
              0.2222222222222222,
              "#7201a8"
             ],
             [
              0.3333333333333333,
              "#9c179e"
             ],
             [
              0.4444444444444444,
              "#bd3786"
             ],
             [
              0.5555555555555556,
              "#d8576b"
             ],
             [
              0.6666666666666666,
              "#ed7953"
             ],
             [
              0.7777777777777778,
              "#fb9f3a"
             ],
             [
              0.8888888888888888,
              "#fdca26"
             ],
             [
              1,
              "#f0f921"
             ]
            ],
            "type": "histogram2d"
           }
          ],
          "histogram2dcontour": [
           {
            "colorbar": {
             "outlinewidth": 0,
             "ticks": ""
            },
            "colorscale": [
             [
              0,
              "#0d0887"
             ],
             [
              0.1111111111111111,
              "#46039f"
             ],
             [
              0.2222222222222222,
              "#7201a8"
             ],
             [
              0.3333333333333333,
              "#9c179e"
             ],
             [
              0.4444444444444444,
              "#bd3786"
             ],
             [
              0.5555555555555556,
              "#d8576b"
             ],
             [
              0.6666666666666666,
              "#ed7953"
             ],
             [
              0.7777777777777778,
              "#fb9f3a"
             ],
             [
              0.8888888888888888,
              "#fdca26"
             ],
             [
              1,
              "#f0f921"
             ]
            ],
            "type": "histogram2dcontour"
           }
          ],
          "mesh3d": [
           {
            "colorbar": {
             "outlinewidth": 0,
             "ticks": ""
            },
            "type": "mesh3d"
           }
          ],
          "parcoords": [
           {
            "line": {
             "colorbar": {
              "outlinewidth": 0,
              "ticks": ""
             }
            },
            "type": "parcoords"
           }
          ],
          "pie": [
           {
            "automargin": true,
            "type": "pie"
           }
          ],
          "scatter": [
           {
            "marker": {
             "colorbar": {
              "outlinewidth": 0,
              "ticks": ""
             }
            },
            "type": "scatter"
           }
          ],
          "scatter3d": [
           {
            "line": {
             "colorbar": {
              "outlinewidth": 0,
              "ticks": ""
             }
            },
            "marker": {
             "colorbar": {
              "outlinewidth": 0,
              "ticks": ""
             }
            },
            "type": "scatter3d"
           }
          ],
          "scattercarpet": [
           {
            "marker": {
             "colorbar": {
              "outlinewidth": 0,
              "ticks": ""
             }
            },
            "type": "scattercarpet"
           }
          ],
          "scattergeo": [
           {
            "marker": {
             "colorbar": {
              "outlinewidth": 0,
              "ticks": ""
             }
            },
            "type": "scattergeo"
           }
          ],
          "scattergl": [
           {
            "marker": {
             "colorbar": {
              "outlinewidth": 0,
              "ticks": ""
             }
            },
            "type": "scattergl"
           }
          ],
          "scattermapbox": [
           {
            "marker": {
             "colorbar": {
              "outlinewidth": 0,
              "ticks": ""
             }
            },
            "type": "scattermapbox"
           }
          ],
          "scatterpolar": [
           {
            "marker": {
             "colorbar": {
              "outlinewidth": 0,
              "ticks": ""
             }
            },
            "type": "scatterpolar"
           }
          ],
          "scatterpolargl": [
           {
            "marker": {
             "colorbar": {
              "outlinewidth": 0,
              "ticks": ""
             }
            },
            "type": "scatterpolargl"
           }
          ],
          "scatterternary": [
           {
            "marker": {
             "colorbar": {
              "outlinewidth": 0,
              "ticks": ""
             }
            },
            "type": "scatterternary"
           }
          ],
          "surface": [
           {
            "colorbar": {
             "outlinewidth": 0,
             "ticks": ""
            },
            "colorscale": [
             [
              0,
              "#0d0887"
             ],
             [
              0.1111111111111111,
              "#46039f"
             ],
             [
              0.2222222222222222,
              "#7201a8"
             ],
             [
              0.3333333333333333,
              "#9c179e"
             ],
             [
              0.4444444444444444,
              "#bd3786"
             ],
             [
              0.5555555555555556,
              "#d8576b"
             ],
             [
              0.6666666666666666,
              "#ed7953"
             ],
             [
              0.7777777777777778,
              "#fb9f3a"
             ],
             [
              0.8888888888888888,
              "#fdca26"
             ],
             [
              1,
              "#f0f921"
             ]
            ],
            "type": "surface"
           }
          ],
          "table": [
           {
            "cells": {
             "fill": {
              "color": "#EBF0F8"
             },
             "line": {
              "color": "white"
             }
            },
            "header": {
             "fill": {
              "color": "#C8D4E3"
             },
             "line": {
              "color": "white"
             }
            },
            "type": "table"
           }
          ]
         },
         "layout": {
          "annotationdefaults": {
           "arrowcolor": "#2a3f5f",
           "arrowhead": 0,
           "arrowwidth": 1
          },
          "coloraxis": {
           "colorbar": {
            "outlinewidth": 0,
            "ticks": ""
           }
          },
          "colorscale": {
           "diverging": [
            [
             0,
             "#8e0152"
            ],
            [
             0.1,
             "#c51b7d"
            ],
            [
             0.2,
             "#de77ae"
            ],
            [
             0.3,
             "#f1b6da"
            ],
            [
             0.4,
             "#fde0ef"
            ],
            [
             0.5,
             "#f7f7f7"
            ],
            [
             0.6,
             "#e6f5d0"
            ],
            [
             0.7,
             "#b8e186"
            ],
            [
             0.8,
             "#7fbc41"
            ],
            [
             0.9,
             "#4d9221"
            ],
            [
             1,
             "#276419"
            ]
           ],
           "sequential": [
            [
             0,
             "#0d0887"
            ],
            [
             0.1111111111111111,
             "#46039f"
            ],
            [
             0.2222222222222222,
             "#7201a8"
            ],
            [
             0.3333333333333333,
             "#9c179e"
            ],
            [
             0.4444444444444444,
             "#bd3786"
            ],
            [
             0.5555555555555556,
             "#d8576b"
            ],
            [
             0.6666666666666666,
             "#ed7953"
            ],
            [
             0.7777777777777778,
             "#fb9f3a"
            ],
            [
             0.8888888888888888,
             "#fdca26"
            ],
            [
             1,
             "#f0f921"
            ]
           ],
           "sequentialminus": [
            [
             0,
             "#0d0887"
            ],
            [
             0.1111111111111111,
             "#46039f"
            ],
            [
             0.2222222222222222,
             "#7201a8"
            ],
            [
             0.3333333333333333,
             "#9c179e"
            ],
            [
             0.4444444444444444,
             "#bd3786"
            ],
            [
             0.5555555555555556,
             "#d8576b"
            ],
            [
             0.6666666666666666,
             "#ed7953"
            ],
            [
             0.7777777777777778,
             "#fb9f3a"
            ],
            [
             0.8888888888888888,
             "#fdca26"
            ],
            [
             1,
             "#f0f921"
            ]
           ]
          },
          "colorway": [
           "#636efa",
           "#EF553B",
           "#00cc96",
           "#ab63fa",
           "#FFA15A",
           "#19d3f3",
           "#FF6692",
           "#B6E880",
           "#FF97FF",
           "#FECB52"
          ],
          "font": {
           "color": "#2a3f5f"
          },
          "geo": {
           "bgcolor": "white",
           "lakecolor": "white",
           "landcolor": "#E5ECF6",
           "showlakes": true,
           "showland": true,
           "subunitcolor": "white"
          },
          "hoverlabel": {
           "align": "left"
          },
          "hovermode": "closest",
          "mapbox": {
           "style": "light"
          },
          "paper_bgcolor": "white",
          "plot_bgcolor": "#E5ECF6",
          "polar": {
           "angularaxis": {
            "gridcolor": "white",
            "linecolor": "white",
            "ticks": ""
           },
           "bgcolor": "#E5ECF6",
           "radialaxis": {
            "gridcolor": "white",
            "linecolor": "white",
            "ticks": ""
           }
          },
          "scene": {
           "xaxis": {
            "backgroundcolor": "#E5ECF6",
            "gridcolor": "white",
            "gridwidth": 2,
            "linecolor": "white",
            "showbackground": true,
            "ticks": "",
            "zerolinecolor": "white"
           },
           "yaxis": {
            "backgroundcolor": "#E5ECF6",
            "gridcolor": "white",
            "gridwidth": 2,
            "linecolor": "white",
            "showbackground": true,
            "ticks": "",
            "zerolinecolor": "white"
           },
           "zaxis": {
            "backgroundcolor": "#E5ECF6",
            "gridcolor": "white",
            "gridwidth": 2,
            "linecolor": "white",
            "showbackground": true,
            "ticks": "",
            "zerolinecolor": "white"
           }
          },
          "shapedefaults": {
           "line": {
            "color": "#2a3f5f"
           }
          },
          "ternary": {
           "aaxis": {
            "gridcolor": "white",
            "linecolor": "white",
            "ticks": ""
           },
           "baxis": {
            "gridcolor": "white",
            "linecolor": "white",
            "ticks": ""
           },
           "bgcolor": "#E5ECF6",
           "caxis": {
            "gridcolor": "white",
            "linecolor": "white",
            "ticks": ""
           }
          },
          "title": {
           "x": 0.05
          },
          "xaxis": {
           "automargin": true,
           "gridcolor": "white",
           "linecolor": "white",
           "ticks": "",
           "title": {
            "standoff": 15
           },
           "zerolinecolor": "white",
           "zerolinewidth": 2
          },
          "yaxis": {
           "automargin": true,
           "gridcolor": "white",
           "linecolor": "white",
           "ticks": "",
           "title": {
            "standoff": 15
           },
           "zerolinecolor": "white",
           "zerolinewidth": 2
          }
         }
        },
        "title": {
         "text": "Export Value of products over a year"
        },
        "xaxis": {
         "anchor": "y",
         "domain": [
          0,
          1
         ],
         "title": {
          "text": "Item"
         }
        },
        "yaxis": {
         "anchor": "x",
         "domain": [
          0,
          1
         ],
         "title": {
          "text": "Value"
         }
        }
       }
      },
      "text/html": [
       "<div>\n",
       "        \n",
       "        \n",
       "            <div id=\"d82d56f1-9172-44a0-ba6a-0e54a8b10943\" class=\"plotly-graph-div\" style=\"height:525px; width:100%;\"></div>\n",
       "            <script type=\"text/javascript\">\n",
       "                require([\"plotly\"], function(Plotly) {\n",
       "                    window.PLOTLYENV=window.PLOTLYENV || {};\n",
       "                    \n",
       "                if (document.getElementById(\"d82d56f1-9172-44a0-ba6a-0e54a8b10943\")) {\n",
       "                    Plotly.newPlot(\n",
       "                        'd82d56f1-9172-44a0-ba6a-0e54a8b10943',\n",
       "                        [{\"alignmentgroup\": \"True\", \"customdata\": [[2002], [2003], [2004], [2005], [2006], [2007], [2008], [2009], [2010], [2011], [2012], [2013], [2014], [2015], [2016], [2017], [2002], [2003], [2004], [2005], [2006], [2007], [2008], [2009], [2010], [2011], [2012], [2013], [2014], [2015], [2016], [2017], [2002], [2003], [2004], [2005], [2006], [2007], [2008], [2009], [2010], [2011], [2012], [2013], [2014], [2015], [2016], [2017], [2003], [2006], [2011], [2012], [2013], [2014], [2015], [2016], [2017], [2002], [2003], [2004], [2005], [2006], [2007], [2008], [2009], [2010], [2011], [2012], [2013], [2014], [2015], [2016], [2017], [2002], [2003], [2004], [2005], [2006], [2007], [2008], [2009], [2010], [2011], [2012], [2013], [2014], [2015], [2016], [2017], [2002], [2003], [2004], [2005], [2006], [2007], [2008], [2009], [2010], [2011], [2012], [2013], [2014], [2015], [2016], [2017], [2002], [2003], [2004], [2005], [2006], [2007], [2008], [2009], [2010], [2011], [2012], [2013], [2014], [2015], [2016], [2017], [2002], [2003], [2004], [2005], [2006], [2007], [2008], [2009], [2010], [2011], [2012], [2013], [2014], [2015], [2016], [2017], [2002], [2003], [2004], [2005], [2006], [2007], [2008], [2009], [2010], [2011], [2012], [2013], [2014], [2015], [2016], [2017], [2002], [2003], [2004], [2005], [2006], [2007], [2008], [2009], [2010], [2011], [2012], [2013], [2014], [2015], [2016], [2017], [2002], [2003], [2004], [2005], [2006], [2007], [2008], [2009], [2010], [2011], [2012], [2013], [2014], [2015], [2016], [2017], [2002], [2003], [2004], [2005], [2006], [2007], [2008], [2009], [2010], [2011], [2012], [2013], [2014], [2015], [2016], [2017], [2002], [2003], [2004], [2005], [2006], [2007], [2008], [2009], [2010], [2011], [2012], [2013], [2014], [2015], [2016], [2017], [2002], [2003], [2004], [2005], [2006], [2007], [2008], [2009], [2010], [2011], [2012], [2013], [2014], [2015], [2016], [2017], [2004], [2007], [2008], [2009], [2010], [2011], [2012], [2013], [2014], [2015], [2016], [2017], [2002], [2003], [2004], [2005], [2006], [2007], [2008], [2009], [2010], [2011], [2012], [2013], [2014], [2015], [2016], [2017], [2002], [2003], [2004], [2005], [2006], [2007], [2008], [2009], [2010], [2011], [2012], [2013], [2014], [2015], [2016], [2017], [2002], [2003], [2004], [2005], [2006], [2007], [2008], [2009], [2010], [2011], [2012], [2013], [2014], [2015], [2016], [2017], [2017], [2002], [2003], [2004], [2005], [2006], [2007], [2008], [2009], [2010], [2011], [2012], [2013], [2014], [2015], [2016], [2017], [2005], [2007], [2008], [2009], [2010], [2011], [2012], [2013], [2014], [2015], [2016], [2017]], \"hovertemplate\": \"Item=%{x}<br>Value=%{y}<br>Year=%{customdata[0]}<extra></extra>\", \"legendgroup\": \"\", \"marker\": {\"color\": \"#636efa\"}, \"name\": \"\", \"offsetgroup\": \"\", \"orientation\": \"v\", \"showlegend\": false, \"textposition\": \"auto\", \"type\": \"bar\", \"x\": [\"Ammonia, anhydrous\", \"Ammonia, anhydrous\", \"Ammonia, anhydrous\", \"Ammonia, anhydrous\", \"Ammonia, anhydrous\", \"Ammonia, anhydrous\", \"Ammonia, anhydrous\", \"Ammonia, anhydrous\", \"Ammonia, anhydrous\", \"Ammonia, anhydrous\", \"Ammonia, anhydrous\", \"Ammonia, anhydrous\", \"Ammonia, anhydrous\", \"Ammonia, anhydrous\", \"Ammonia, anhydrous\", \"Ammonia, anhydrous\", \"Ammonium nitrate (AN)\", \"Ammonium nitrate (AN)\", \"Ammonium nitrate (AN)\", \"Ammonium nitrate (AN)\", \"Ammonium nitrate (AN)\", \"Ammonium nitrate (AN)\", \"Ammonium nitrate (AN)\", \"Ammonium nitrate (AN)\", \"Ammonium nitrate (AN)\", \"Ammonium nitrate (AN)\", \"Ammonium nitrate (AN)\", \"Ammonium nitrate (AN)\", \"Ammonium nitrate (AN)\", \"Ammonium nitrate (AN)\", \"Ammonium nitrate (AN)\", \"Ammonium nitrate (AN)\", \"Ammonium sulphate\", \"Ammonium sulphate\", \"Ammonium sulphate\", \"Ammonium sulphate\", \"Ammonium sulphate\", \"Ammonium sulphate\", \"Ammonium sulphate\", \"Ammonium sulphate\", \"Ammonium sulphate\", \"Ammonium sulphate\", \"Ammonium sulphate\", \"Ammonium sulphate\", \"Ammonium sulphate\", \"Ammonium sulphate\", \"Ammonium sulphate\", \"Ammonium sulphate\", \"Calcium ammonium nitrate (CAN) and other mixtures with calcium carbonate\", \"Calcium ammonium nitrate (CAN) and other mixtures with calcium carbonate\", \"Calcium ammonium nitrate (CAN) and other mixtures with calcium carbonate\", \"Calcium ammonium nitrate (CAN) and other mixtures with calcium carbonate\", \"Calcium ammonium nitrate (CAN) and other mixtures with calcium carbonate\", \"Calcium ammonium nitrate (CAN) and other mixtures with calcium carbonate\", \"Calcium ammonium nitrate (CAN) and other mixtures with calcium carbonate\", \"Calcium ammonium nitrate (CAN) and other mixtures with calcium carbonate\", \"Calcium ammonium nitrate (CAN) and other mixtures with calcium carbonate\", \"Diammonium phosphate (DAP)\", \"Diammonium phosphate (DAP)\", \"Diammonium phosphate (DAP)\", \"Diammonium phosphate (DAP)\", \"Diammonium phosphate (DAP)\", \"Diammonium phosphate (DAP)\", \"Diammonium phosphate (DAP)\", \"Diammonium phosphate (DAP)\", \"Diammonium phosphate (DAP)\", \"Diammonium phosphate (DAP)\", \"Diammonium phosphate (DAP)\", \"Diammonium phosphate (DAP)\", \"Diammonium phosphate (DAP)\", \"Diammonium phosphate (DAP)\", \"Diammonium phosphate (DAP)\", \"Diammonium phosphate (DAP)\", \"Fertilizers n.e.c.\", \"Fertilizers n.e.c.\", \"Fertilizers n.e.c.\", \"Fertilizers n.e.c.\", \"Fertilizers n.e.c.\", \"Fertilizers n.e.c.\", \"Fertilizers n.e.c.\", \"Fertilizers n.e.c.\", \"Fertilizers n.e.c.\", \"Fertilizers n.e.c.\", \"Fertilizers n.e.c.\", \"Fertilizers n.e.c.\", \"Fertilizers n.e.c.\", \"Fertilizers n.e.c.\", \"Fertilizers n.e.c.\", \"Fertilizers n.e.c.\", \"Monoammonium phosphate (MAP)\", \"Monoammonium phosphate (MAP)\", \"Monoammonium phosphate (MAP)\", \"Monoammonium phosphate (MAP)\", \"Monoammonium phosphate (MAP)\", \"Monoammonium phosphate (MAP)\", \"Monoammonium phosphate (MAP)\", \"Monoammonium phosphate (MAP)\", \"Monoammonium phosphate (MAP)\", \"Monoammonium phosphate (MAP)\", \"Monoammonium phosphate (MAP)\", \"Monoammonium phosphate (MAP)\", \"Monoammonium phosphate (MAP)\", \"Monoammonium phosphate (MAP)\", \"Monoammonium phosphate (MAP)\", \"Monoammonium phosphate (MAP)\", \"NPK fertilizers\", \"NPK fertilizers\", \"NPK fertilizers\", \"NPK fertilizers\", \"NPK fertilizers\", \"NPK fertilizers\", \"NPK fertilizers\", \"NPK fertilizers\", \"NPK fertilizers\", \"NPK fertilizers\", \"NPK fertilizers\", \"NPK fertilizers\", \"NPK fertilizers\", \"NPK fertilizers\", \"NPK fertilizers\", \"NPK fertilizers\", \"Other nitrogenous fertilizers, n.e.c.\", \"Other nitrogenous fertilizers, n.e.c.\", \"Other nitrogenous fertilizers, n.e.c.\", \"Other nitrogenous fertilizers, n.e.c.\", \"Other nitrogenous fertilizers, n.e.c.\", \"Other nitrogenous fertilizers, n.e.c.\", \"Other nitrogenous fertilizers, n.e.c.\", \"Other nitrogenous fertilizers, n.e.c.\", \"Other nitrogenous fertilizers, n.e.c.\", \"Other nitrogenous fertilizers, n.e.c.\", \"Other nitrogenous fertilizers, n.e.c.\", \"Other nitrogenous fertilizers, n.e.c.\", \"Other nitrogenous fertilizers, n.e.c.\", \"Other nitrogenous fertilizers, n.e.c.\", \"Other nitrogenous fertilizers, n.e.c.\", \"Other nitrogenous fertilizers, n.e.c.\", \"Other NP compounds\", \"Other NP compounds\", \"Other NP compounds\", \"Other NP compounds\", \"Other NP compounds\", \"Other NP compounds\", \"Other NP compounds\", \"Other NP compounds\", \"Other NP compounds\", \"Other NP compounds\", \"Other NP compounds\", \"Other NP compounds\", \"Other NP compounds\", \"Other NP compounds\", \"Other NP compounds\", \"Other NP compounds\", \"Other phosphatic fertilizers, n.e.c.\", \"Other phosphatic fertilizers, n.e.c.\", \"Other phosphatic fertilizers, n.e.c.\", \"Other phosphatic fertilizers, n.e.c.\", \"Other phosphatic fertilizers, n.e.c.\", \"Other phosphatic fertilizers, n.e.c.\", \"Other phosphatic fertilizers, n.e.c.\", \"Other phosphatic fertilizers, n.e.c.\", \"Other phosphatic fertilizers, n.e.c.\", \"Other phosphatic fertilizers, n.e.c.\", \"Other phosphatic fertilizers, n.e.c.\", \"Other phosphatic fertilizers, n.e.c.\", \"Other phosphatic fertilizers, n.e.c.\", \"Other phosphatic fertilizers, n.e.c.\", \"Other phosphatic fertilizers, n.e.c.\", \"Other phosphatic fertilizers, n.e.c.\", \"Other potassic fertilizers, n.e.c.\", \"Other potassic fertilizers, n.e.c.\", \"Other potassic fertilizers, n.e.c.\", \"Other potassic fertilizers, n.e.c.\", \"Other potassic fertilizers, n.e.c.\", \"Other potassic fertilizers, n.e.c.\", \"Other potassic fertilizers, n.e.c.\", \"Other potassic fertilizers, n.e.c.\", \"Other potassic fertilizers, n.e.c.\", \"Other potassic fertilizers, n.e.c.\", \"Other potassic fertilizers, n.e.c.\", \"Other potassic fertilizers, n.e.c.\", \"Other potassic fertilizers, n.e.c.\", \"Other potassic fertilizers, n.e.c.\", \"Other potassic fertilizers, n.e.c.\", \"Other potassic fertilizers, n.e.c.\", \"Phosphate rock\", \"Phosphate rock\", \"Phosphate rock\", \"Phosphate rock\", \"Phosphate rock\", \"Phosphate rock\", \"Phosphate rock\", \"Phosphate rock\", \"Phosphate rock\", \"Phosphate rock\", \"Phosphate rock\", \"Phosphate rock\", \"Phosphate rock\", \"Phosphate rock\", \"Phosphate rock\", \"Phosphate rock\", \"PK compounds\", \"PK compounds\", \"PK compounds\", \"PK compounds\", \"PK compounds\", \"PK compounds\", \"PK compounds\", \"PK compounds\", \"PK compounds\", \"PK compounds\", \"PK compounds\", \"PK compounds\", \"PK compounds\", \"PK compounds\", \"PK compounds\", \"PK compounds\", \"Potassium chloride (muriate of potash) (MOP)\", \"Potassium chloride (muriate of potash) (MOP)\", \"Potassium chloride (muriate of potash) (MOP)\", \"Potassium chloride (muriate of potash) (MOP)\", \"Potassium chloride (muriate of potash) (MOP)\", \"Potassium chloride (muriate of potash) (MOP)\", \"Potassium chloride (muriate of potash) (MOP)\", \"Potassium chloride (muriate of potash) (MOP)\", \"Potassium chloride (muriate of potash) (MOP)\", \"Potassium chloride (muriate of potash) (MOP)\", \"Potassium chloride (muriate of potash) (MOP)\", \"Potassium chloride (muriate of potash) (MOP)\", \"Potassium chloride (muriate of potash) (MOP)\", \"Potassium chloride (muriate of potash) (MOP)\", \"Potassium chloride (muriate of potash) (MOP)\", \"Potassium chloride (muriate of potash) (MOP)\", \"Potassium nitrate\", \"Potassium nitrate\", \"Potassium nitrate\", \"Potassium nitrate\", \"Potassium nitrate\", \"Potassium nitrate\", \"Potassium nitrate\", \"Potassium nitrate\", \"Potassium nitrate\", \"Potassium nitrate\", \"Potassium nitrate\", \"Potassium nitrate\", \"Potassium sulphate (sulphate of potash) (SOP)\", \"Potassium sulphate (sulphate of potash) (SOP)\", \"Potassium sulphate (sulphate of potash) (SOP)\", \"Potassium sulphate (sulphate of potash) (SOP)\", \"Potassium sulphate (sulphate of potash) (SOP)\", \"Potassium sulphate (sulphate of potash) (SOP)\", \"Potassium sulphate (sulphate of potash) (SOP)\", \"Potassium sulphate (sulphate of potash) (SOP)\", \"Potassium sulphate (sulphate of potash) (SOP)\", \"Potassium sulphate (sulphate of potash) (SOP)\", \"Potassium sulphate (sulphate of potash) (SOP)\", \"Potassium sulphate (sulphate of potash) (SOP)\", \"Potassium sulphate (sulphate of potash) (SOP)\", \"Potassium sulphate (sulphate of potash) (SOP)\", \"Potassium sulphate (sulphate of potash) (SOP)\", \"Potassium sulphate (sulphate of potash) (SOP)\", \"Sodium nitrate\", \"Sodium nitrate\", \"Sodium nitrate\", \"Sodium nitrate\", \"Sodium nitrate\", \"Sodium nitrate\", \"Sodium nitrate\", \"Sodium nitrate\", \"Sodium nitrate\", \"Sodium nitrate\", \"Sodium nitrate\", \"Sodium nitrate\", \"Sodium nitrate\", \"Sodium nitrate\", \"Sodium nitrate\", \"Sodium nitrate\", \"Superphosphates above 35%\", \"Superphosphates above 35%\", \"Superphosphates above 35%\", \"Superphosphates above 35%\", \"Superphosphates above 35%\", \"Superphosphates above 35%\", \"Superphosphates above 35%\", \"Superphosphates above 35%\", \"Superphosphates above 35%\", \"Superphosphates above 35%\", \"Superphosphates above 35%\", \"Superphosphates above 35%\", \"Superphosphates above 35%\", \"Superphosphates above 35%\", \"Superphosphates above 35%\", \"Superphosphates above 35%\", \"Superphosphates, other\", \"Urea\", \"Urea\", \"Urea\", \"Urea\", \"Urea\", \"Urea\", \"Urea\", \"Urea\", \"Urea\", \"Urea\", \"Urea\", \"Urea\", \"Urea\", \"Urea\", \"Urea\", \"Urea\", \"Urea and ammonium nitrate solutions (UAN)\", \"Urea and ammonium nitrate solutions (UAN)\", \"Urea and ammonium nitrate solutions (UAN)\", \"Urea and ammonium nitrate solutions (UAN)\", \"Urea and ammonium nitrate solutions (UAN)\", \"Urea and ammonium nitrate solutions (UAN)\", \"Urea and ammonium nitrate solutions (UAN)\", \"Urea and ammonium nitrate solutions (UAN)\", \"Urea and ammonium nitrate solutions (UAN)\", \"Urea and ammonium nitrate solutions (UAN)\", \"Urea and ammonium nitrate solutions (UAN)\", \"Urea and ammonium nitrate solutions (UAN)\"], \"xaxis\": \"x\", \"y\": [40.9, 29.69, 54.9, 109.92, 133.25, 5622.3, 11669.38, 4362.77, 14383.79, 13896.88, 15294.47, 9982.94, 13260.32, 14903.97, 24739.58, 14128.06, 5629.28, 5847.59, 7887.31, 9131.72, 6313.45, 4423.39, 6691.41, 6470.66, 4696.89, 2171.27, 1637.49, 1319.06, 495.65, 200.19, 967.4, 809.71, 374.63, 365.0, 296.5, 768.91, 906.55, 1115.52, 1465.03, 818.3, 834.92, 1667.31, 485.31, 1486.94, 1398.85, 1657.8, 1112.71, 990.46, 0.27, 0.07, 327.6, 1669.94, 1217.44, 743.27, 407.88, 259.57, 27.6, 2874.69, 3278.49, 3767.58, 4424.72, 3942.39, 4055.91, 2859.6, 13601.49, 5020.71, 2029.36, 5103.07, 3823.08, 3764.48, 1989.6, 820.5, 400.72, 3797.09, 5518.67, 4988.33, 3753.14, 3465.25, 5101.2, 13814.57, 10654.34, 12571.88, 18825.12, 15571.18, 20769.33, 18036.98, 23986.58, 21258.87, 23732.01, 88.38, 189.14, 1178.72, 85.83, 32.74, 130.18, 8.39, 862.38, 306.29, 688.78, 1120.86, 2002.8, 1801.84, 1302.44, 2157.76, 2718.2, 27891.37, 41954.94, 59388.02, 61244.58, 67328.27, 124330.93, 207749.78, 109799.79, 151781.02, 206387.83, 201514.86, 254046.1, 237618.76, 188653.72, 108072.83, 99615.24, 7353.83, 9842.63, 28505.31, 20209.29, 19874.63, 11854.54, 16458.41, 7520.91, 12132.1, 16275.19, 8637.77, 10878.58, 9507.89, 7080.6, 7638.68, 9570.83, 1935.0, 3119.92, 7239.93, 6909.19, 6016.46, 13679.66, 27723.97, 13434.78, 22490.6, 30681.5, 23100.03, 27094.39, 23396.76, 19464.81, 19829.24, 17763.75, 101.17, 340.94, 772.98, 1311.22, 2099.21, 5462.59, 7470.72, 2878.71, 6290.71, 5487.01, 3558.09, 6847.77, 7072.31, 2150.4, 1701.86, 2283.31, 171.46, 118.56, 138.22, 104.13, 190.25, 234.46, 313.73, 248.3, 388.92, 851.12, 918.69, 844.21, 1235.46, 850.71, 577.35, 439.78, 57.38, 184.11, 67.69, 23.81, 70.2, 140.89, 356.67, 0.9, 473.02, 435.8, 319.3, 130.7, 159.41, 3.15, 0.44, 4.17, 16922.81, 33989.45, 51987.47, 42305.6, 46126.87, 72446.44, 130253.87, 45075.3, 57965.86, 60634.54, 34225.27, 34338.67, 19054.48, 8754.68, 3865.39, 5489.67, 309.45, 596.65, 983.02, 877.88, 1544.88, 4774.67, 11839.53, 9312.1, 9863.0, 8638.04, 7545.55, 17450.35, 11218.56, 10378.37, 5757.36, 4072.33, 0.01, 0.16, 5.61, 0.87, 0.28, 0.92, 0.38, 0.58, 3.2, 10.13, 137.79, 179.18, 5.72, 8.36, 0.09, 0.04, 0.56, 64.8, 617.09, 531.38, 740.64, 1362.27, 777.21, 1154.55, 1235.98, 710.8, 1008.09, 1261.56, 0.27, 0.0, 0.17, 4.26, 0.01, 6.19, 1.65, 100.86, 96.36, 25.82, 365.88, 105.57, 151.46, 470.53, 325.12, 438.15, 4616.8, 6864.55, 11113.38, 22420.21, 17799.44, 14656.58, 20416.34, 16947.77, 20073.57, 27236.43, 11006.41, 7854.18, 10731.71, 5341.02, 2991.71, 1159.98, 1128.34, 8989.1, 6632.64, 5145.35, 14608.74, 3057.71, 6803.44, 10069.05, 5662.66, 6379.76, 6054.79, 7251.37, 8499.76, 8906.54, 7750.18, 9068.57, 8294.3, 0.08, 371.54, 1193.28, 521.8, 602.03, 787.41, 356.41, 713.26, 711.13, 1090.17, 1920.66, 1922.86], \"yaxis\": \"y\"}],\n",
       "                        {\"barmode\": \"relative\", \"legend\": {\"tracegroupgap\": 0}, \"template\": {\"data\": {\"bar\": [{\"error_x\": {\"color\": \"#2a3f5f\"}, \"error_y\": {\"color\": \"#2a3f5f\"}, \"marker\": {\"line\": {\"color\": \"#E5ECF6\", \"width\": 0.5}}, \"type\": \"bar\"}], \"barpolar\": [{\"marker\": {\"line\": {\"color\": \"#E5ECF6\", \"width\": 0.5}}, \"type\": \"barpolar\"}], \"carpet\": [{\"aaxis\": {\"endlinecolor\": \"#2a3f5f\", \"gridcolor\": \"white\", \"linecolor\": \"white\", \"minorgridcolor\": \"white\", \"startlinecolor\": \"#2a3f5f\"}, \"baxis\": {\"endlinecolor\": \"#2a3f5f\", \"gridcolor\": \"white\", \"linecolor\": \"white\", \"minorgridcolor\": \"white\", \"startlinecolor\": \"#2a3f5f\"}, \"type\": \"carpet\"}], \"choropleth\": [{\"colorbar\": {\"outlinewidth\": 0, \"ticks\": \"\"}, \"type\": \"choropleth\"}], \"contour\": [{\"colorbar\": {\"outlinewidth\": 0, \"ticks\": \"\"}, \"colorscale\": [[0.0, \"#0d0887\"], [0.1111111111111111, \"#46039f\"], [0.2222222222222222, \"#7201a8\"], [0.3333333333333333, \"#9c179e\"], [0.4444444444444444, \"#bd3786\"], [0.5555555555555556, \"#d8576b\"], [0.6666666666666666, \"#ed7953\"], [0.7777777777777778, \"#fb9f3a\"], [0.8888888888888888, \"#fdca26\"], [1.0, \"#f0f921\"]], \"type\": \"contour\"}], \"contourcarpet\": [{\"colorbar\": {\"outlinewidth\": 0, \"ticks\": \"\"}, \"type\": \"contourcarpet\"}], \"heatmap\": [{\"colorbar\": {\"outlinewidth\": 0, \"ticks\": \"\"}, \"colorscale\": [[0.0, \"#0d0887\"], [0.1111111111111111, \"#46039f\"], [0.2222222222222222, \"#7201a8\"], [0.3333333333333333, \"#9c179e\"], [0.4444444444444444, \"#bd3786\"], [0.5555555555555556, \"#d8576b\"], [0.6666666666666666, \"#ed7953\"], [0.7777777777777778, \"#fb9f3a\"], [0.8888888888888888, \"#fdca26\"], [1.0, \"#f0f921\"]], \"type\": \"heatmap\"}], \"heatmapgl\": [{\"colorbar\": {\"outlinewidth\": 0, \"ticks\": \"\"}, \"colorscale\": [[0.0, \"#0d0887\"], [0.1111111111111111, \"#46039f\"], [0.2222222222222222, \"#7201a8\"], [0.3333333333333333, \"#9c179e\"], [0.4444444444444444, \"#bd3786\"], [0.5555555555555556, \"#d8576b\"], [0.6666666666666666, \"#ed7953\"], [0.7777777777777778, \"#fb9f3a\"], [0.8888888888888888, \"#fdca26\"], [1.0, \"#f0f921\"]], \"type\": \"heatmapgl\"}], \"histogram\": [{\"marker\": {\"colorbar\": {\"outlinewidth\": 0, \"ticks\": \"\"}}, \"type\": \"histogram\"}], \"histogram2d\": [{\"colorbar\": {\"outlinewidth\": 0, \"ticks\": \"\"}, \"colorscale\": [[0.0, \"#0d0887\"], [0.1111111111111111, \"#46039f\"], [0.2222222222222222, \"#7201a8\"], [0.3333333333333333, \"#9c179e\"], [0.4444444444444444, \"#bd3786\"], [0.5555555555555556, \"#d8576b\"], [0.6666666666666666, \"#ed7953\"], [0.7777777777777778, \"#fb9f3a\"], [0.8888888888888888, \"#fdca26\"], [1.0, \"#f0f921\"]], \"type\": \"histogram2d\"}], \"histogram2dcontour\": [{\"colorbar\": {\"outlinewidth\": 0, \"ticks\": \"\"}, \"colorscale\": [[0.0, \"#0d0887\"], [0.1111111111111111, \"#46039f\"], [0.2222222222222222, \"#7201a8\"], [0.3333333333333333, \"#9c179e\"], [0.4444444444444444, \"#bd3786\"], [0.5555555555555556, \"#d8576b\"], [0.6666666666666666, \"#ed7953\"], [0.7777777777777778, \"#fb9f3a\"], [0.8888888888888888, \"#fdca26\"], [1.0, \"#f0f921\"]], \"type\": \"histogram2dcontour\"}], \"mesh3d\": [{\"colorbar\": {\"outlinewidth\": 0, \"ticks\": \"\"}, \"type\": \"mesh3d\"}], \"parcoords\": [{\"line\": {\"colorbar\": {\"outlinewidth\": 0, \"ticks\": \"\"}}, \"type\": \"parcoords\"}], \"pie\": [{\"automargin\": true, \"type\": \"pie\"}], \"scatter\": [{\"marker\": {\"colorbar\": {\"outlinewidth\": 0, \"ticks\": \"\"}}, \"type\": \"scatter\"}], \"scatter3d\": [{\"line\": {\"colorbar\": {\"outlinewidth\": 0, \"ticks\": \"\"}}, \"marker\": {\"colorbar\": {\"outlinewidth\": 0, \"ticks\": \"\"}}, \"type\": \"scatter3d\"}], \"scattercarpet\": [{\"marker\": {\"colorbar\": {\"outlinewidth\": 0, \"ticks\": \"\"}}, \"type\": \"scattercarpet\"}], \"scattergeo\": [{\"marker\": {\"colorbar\": {\"outlinewidth\": 0, \"ticks\": \"\"}}, \"type\": \"scattergeo\"}], \"scattergl\": [{\"marker\": {\"colorbar\": {\"outlinewidth\": 0, \"ticks\": \"\"}}, \"type\": \"scattergl\"}], \"scattermapbox\": [{\"marker\": {\"colorbar\": {\"outlinewidth\": 0, \"ticks\": \"\"}}, \"type\": \"scattermapbox\"}], \"scatterpolar\": [{\"marker\": {\"colorbar\": {\"outlinewidth\": 0, \"ticks\": \"\"}}, \"type\": \"scatterpolar\"}], \"scatterpolargl\": [{\"marker\": {\"colorbar\": {\"outlinewidth\": 0, \"ticks\": \"\"}}, \"type\": \"scatterpolargl\"}], \"scatterternary\": [{\"marker\": {\"colorbar\": {\"outlinewidth\": 0, \"ticks\": \"\"}}, \"type\": \"scatterternary\"}], \"surface\": [{\"colorbar\": {\"outlinewidth\": 0, \"ticks\": \"\"}, \"colorscale\": [[0.0, \"#0d0887\"], [0.1111111111111111, \"#46039f\"], [0.2222222222222222, \"#7201a8\"], [0.3333333333333333, \"#9c179e\"], [0.4444444444444444, \"#bd3786\"], [0.5555555555555556, \"#d8576b\"], [0.6666666666666666, \"#ed7953\"], [0.7777777777777778, \"#fb9f3a\"], [0.8888888888888888, \"#fdca26\"], [1.0, \"#f0f921\"]], \"type\": \"surface\"}], \"table\": [{\"cells\": {\"fill\": {\"color\": \"#EBF0F8\"}, \"line\": {\"color\": \"white\"}}, \"header\": {\"fill\": {\"color\": \"#C8D4E3\"}, \"line\": {\"color\": \"white\"}}, \"type\": \"table\"}]}, \"layout\": {\"annotationdefaults\": {\"arrowcolor\": \"#2a3f5f\", \"arrowhead\": 0, \"arrowwidth\": 1}, \"coloraxis\": {\"colorbar\": {\"outlinewidth\": 0, \"ticks\": \"\"}}, \"colorscale\": {\"diverging\": [[0, \"#8e0152\"], [0.1, \"#c51b7d\"], [0.2, \"#de77ae\"], [0.3, \"#f1b6da\"], [0.4, \"#fde0ef\"], [0.5, \"#f7f7f7\"], [0.6, \"#e6f5d0\"], [0.7, \"#b8e186\"], [0.8, \"#7fbc41\"], [0.9, \"#4d9221\"], [1, \"#276419\"]], \"sequential\": [[0.0, \"#0d0887\"], [0.1111111111111111, \"#46039f\"], [0.2222222222222222, \"#7201a8\"], [0.3333333333333333, \"#9c179e\"], [0.4444444444444444, \"#bd3786\"], [0.5555555555555556, \"#d8576b\"], [0.6666666666666666, \"#ed7953\"], [0.7777777777777778, \"#fb9f3a\"], [0.8888888888888888, \"#fdca26\"], [1.0, \"#f0f921\"]], \"sequentialminus\": [[0.0, \"#0d0887\"], [0.1111111111111111, \"#46039f\"], [0.2222222222222222, \"#7201a8\"], [0.3333333333333333, \"#9c179e\"], [0.4444444444444444, \"#bd3786\"], [0.5555555555555556, \"#d8576b\"], [0.6666666666666666, \"#ed7953\"], [0.7777777777777778, \"#fb9f3a\"], [0.8888888888888888, \"#fdca26\"], [1.0, \"#f0f921\"]]}, \"colorway\": [\"#636efa\", \"#EF553B\", \"#00cc96\", \"#ab63fa\", \"#FFA15A\", \"#19d3f3\", \"#FF6692\", \"#B6E880\", \"#FF97FF\", \"#FECB52\"], \"font\": {\"color\": \"#2a3f5f\"}, \"geo\": {\"bgcolor\": \"white\", \"lakecolor\": \"white\", \"landcolor\": \"#E5ECF6\", \"showlakes\": true, \"showland\": true, \"subunitcolor\": \"white\"}, \"hoverlabel\": {\"align\": \"left\"}, \"hovermode\": \"closest\", \"mapbox\": {\"style\": \"light\"}, \"paper_bgcolor\": \"white\", \"plot_bgcolor\": \"#E5ECF6\", \"polar\": {\"angularaxis\": {\"gridcolor\": \"white\", \"linecolor\": \"white\", \"ticks\": \"\"}, \"bgcolor\": \"#E5ECF6\", \"radialaxis\": {\"gridcolor\": \"white\", \"linecolor\": \"white\", \"ticks\": \"\"}}, \"scene\": {\"xaxis\": {\"backgroundcolor\": \"#E5ECF6\", \"gridcolor\": \"white\", \"gridwidth\": 2, \"linecolor\": \"white\", \"showbackground\": true, \"ticks\": \"\", \"zerolinecolor\": \"white\"}, \"yaxis\": {\"backgroundcolor\": \"#E5ECF6\", \"gridcolor\": \"white\", \"gridwidth\": 2, \"linecolor\": \"white\", \"showbackground\": true, \"ticks\": \"\", \"zerolinecolor\": \"white\"}, \"zaxis\": {\"backgroundcolor\": \"#E5ECF6\", \"gridcolor\": \"white\", \"gridwidth\": 2, \"linecolor\": \"white\", \"showbackground\": true, \"ticks\": \"\", \"zerolinecolor\": \"white\"}}, \"shapedefaults\": {\"line\": {\"color\": \"#2a3f5f\"}}, \"ternary\": {\"aaxis\": {\"gridcolor\": \"white\", \"linecolor\": \"white\", \"ticks\": \"\"}, \"baxis\": {\"gridcolor\": \"white\", \"linecolor\": \"white\", \"ticks\": \"\"}, \"bgcolor\": \"#E5ECF6\", \"caxis\": {\"gridcolor\": \"white\", \"linecolor\": \"white\", \"ticks\": \"\"}}, \"title\": {\"x\": 0.05}, \"xaxis\": {\"automargin\": true, \"gridcolor\": \"white\", \"linecolor\": \"white\", \"ticks\": \"\", \"title\": {\"standoff\": 15}, \"zerolinecolor\": \"white\", \"zerolinewidth\": 2}, \"yaxis\": {\"automargin\": true, \"gridcolor\": \"white\", \"linecolor\": \"white\", \"ticks\": \"\", \"title\": {\"standoff\": 15}, \"zerolinecolor\": \"white\", \"zerolinewidth\": 2}}}, \"title\": {\"text\": \"Export Value of products over a year\"}, \"xaxis\": {\"anchor\": \"y\", \"domain\": [0.0, 1.0], \"title\": {\"text\": \"Item\"}}, \"yaxis\": {\"anchor\": \"x\", \"domain\": [0.0, 1.0], \"title\": {\"text\": \"Value\"}}},\n",
       "                        {\"responsive\": true}\n",
       "                    ).then(function(){\n",
       "                            \n",
       "var gd = document.getElementById('d82d56f1-9172-44a0-ba6a-0e54a8b10943');\n",
       "var x = new MutationObserver(function (mutations, observer) {{\n",
       "        var display = window.getComputedStyle(gd).display;\n",
       "        if (!display || display === 'none') {{\n",
       "            console.log([gd, 'removed!']);\n",
       "            Plotly.purge(gd);\n",
       "            observer.disconnect();\n",
       "        }}\n",
       "}});\n",
       "\n",
       "// Listen for the removal of the full notebook cells\n",
       "var notebookContainer = gd.closest('#notebook-container');\n",
       "if (notebookContainer) {{\n",
       "    x.observe(notebookContainer, {childList: true});\n",
       "}}\n",
       "\n",
       "// Listen for the clearing of the current output cell\n",
       "var outputEl = gd.closest('.output');\n",
       "if (outputEl) {{\n",
       "    x.observe(outputEl, {childList: true});\n",
       "}}\n",
       "\n",
       "                        })\n",
       "                };\n",
       "                });\n",
       "            </script>\n",
       "        </div>"
      ]
     },
     "metadata": {},
     "output_type": "display_data"
    }
   ],
   "source": [
    "import_q=brazil[brazil['Element']=='Import Quantity']\n",
    "export_q=brazil[brazil['Element']=='Export Quantity']\n",
    "import_v=brazil[brazil['Element']=='Import Value']\n",
    "export_v=brazil[brazil['Element']=='Export Value']\n",
    "\n",
    "\n",
    "fig=px.bar(import_q,x='Item',y='Value',hover_data=['Year'],\n",
    "           title='Import Quantity products over a year')\n",
    "iplot(fig)\n",
    "\n",
    "fig=px.bar(export_q,x='Item',y='Value',hover_data=['Year'],\n",
    "          title='Export Quantity products over a year')\n",
    "iplot(fig)\n",
    "\n",
    "fig=px.bar(import_v,x='Item',y='Value',hover_data=['Year'],\n",
    "          title='Import Value of products over a year')\n",
    "iplot(fig)\n",
    "\n",
    "fig=px.bar(export_v,x='Item',y='Value',hover_data=['Year'],\n",
    "          title='Export Value of products over a year')\n",
    "iplot(fig)\n"
   ]
  },
  {
   "cell_type": "code",
   "execution_count": 155,
   "metadata": {},
   "outputs": [
    {
     "data": {
      "text/html": [
       "<div>\n",
       "<style scoped>\n",
       "    .dataframe tbody tr th:only-of-type {\n",
       "        vertical-align: middle;\n",
       "    }\n",
       "\n",
       "    .dataframe tbody tr th {\n",
       "        vertical-align: top;\n",
       "    }\n",
       "\n",
       "    .dataframe thead th {\n",
       "        text-align: right;\n",
       "    }\n",
       "</style>\n",
       "<table border=\"1\" class=\"dataframe\">\n",
       "  <thead>\n",
       "    <tr style=\"text-align: right;\">\n",
       "      <th></th>\n",
       "      <th>Area Code</th>\n",
       "      <th>Area</th>\n",
       "      <th>Item Code</th>\n",
       "      <th>Item</th>\n",
       "      <th>Element Code</th>\n",
       "      <th>Element</th>\n",
       "      <th>Year Code</th>\n",
       "      <th>Year</th>\n",
       "      <th>Unit</th>\n",
       "      <th>Value</th>\n",
       "      <th>Flag</th>\n",
       "    </tr>\n",
       "  </thead>\n",
       "  <tbody>\n",
       "    <tr>\n",
       "      <th>18575</th>\n",
       "      <td>21</td>\n",
       "      <td>Brazil</td>\n",
       "      <td>4007</td>\n",
       "      <td>Ammonia, anhydrous</td>\n",
       "      <td>5510</td>\n",
       "      <td>Production</td>\n",
       "      <td>2002</td>\n",
       "      <td>2002</td>\n",
       "      <td>tonnes</td>\n",
       "      <td>1248009.0</td>\n",
       "      <td>Qm</td>\n",
       "    </tr>\n",
       "    <tr>\n",
       "      <th>18576</th>\n",
       "      <td>21</td>\n",
       "      <td>Brazil</td>\n",
       "      <td>4007</td>\n",
       "      <td>Ammonia, anhydrous</td>\n",
       "      <td>5510</td>\n",
       "      <td>Production</td>\n",
       "      <td>2003</td>\n",
       "      <td>2003</td>\n",
       "      <td>tonnes</td>\n",
       "      <td>1143059.0</td>\n",
       "      <td>Qm</td>\n",
       "    </tr>\n",
       "    <tr>\n",
       "      <th>18577</th>\n",
       "      <td>21</td>\n",
       "      <td>Brazil</td>\n",
       "      <td>4007</td>\n",
       "      <td>Ammonia, anhydrous</td>\n",
       "      <td>5510</td>\n",
       "      <td>Production</td>\n",
       "      <td>2004</td>\n",
       "      <td>2004</td>\n",
       "      <td>tonnes</td>\n",
       "      <td>1301483.0</td>\n",
       "      <td>Qm</td>\n",
       "    </tr>\n",
       "    <tr>\n",
       "      <th>18578</th>\n",
       "      <td>21</td>\n",
       "      <td>Brazil</td>\n",
       "      <td>4007</td>\n",
       "      <td>Ammonia, anhydrous</td>\n",
       "      <td>5510</td>\n",
       "      <td>Production</td>\n",
       "      <td>2005</td>\n",
       "      <td>2005</td>\n",
       "      <td>tonnes</td>\n",
       "      <td>1301083.0</td>\n",
       "      <td>Qm</td>\n",
       "    </tr>\n",
       "    <tr>\n",
       "      <th>18579</th>\n",
       "      <td>21</td>\n",
       "      <td>Brazil</td>\n",
       "      <td>4007</td>\n",
       "      <td>Ammonia, anhydrous</td>\n",
       "      <td>5510</td>\n",
       "      <td>Production</td>\n",
       "      <td>2006</td>\n",
       "      <td>2006</td>\n",
       "      <td>tonnes</td>\n",
       "      <td>1315421.0</td>\n",
       "      <td>Qm</td>\n",
       "    </tr>\n",
       "  </tbody>\n",
       "</table>\n",
       "</div>"
      ],
      "text/plain": [
       "       Area Code    Area  Item Code                Item  Element Code  \\\n",
       "18575         21  Brazil       4007  Ammonia, anhydrous          5510   \n",
       "18576         21  Brazil       4007  Ammonia, anhydrous          5510   \n",
       "18577         21  Brazil       4007  Ammonia, anhydrous          5510   \n",
       "18578         21  Brazil       4007  Ammonia, anhydrous          5510   \n",
       "18579         21  Brazil       4007  Ammonia, anhydrous          5510   \n",
       "\n",
       "          Element  Year Code  Year    Unit      Value Flag  \n",
       "18575  Production       2002  2002  tonnes  1248009.0   Qm  \n",
       "18576  Production       2003  2003  tonnes  1143059.0   Qm  \n",
       "18577  Production       2004  2004  tonnes  1301483.0   Qm  \n",
       "18578  Production       2005  2005  tonnes  1301083.0   Qm  \n",
       "18579  Production       2006  2006  tonnes  1315421.0   Qm  "
      ]
     },
     "execution_count": 155,
     "metadata": {},
     "output_type": "execute_result"
    }
   ],
   "source": [
    "brazil_fertilizers=brazil[brazil['Element']=='Production']\n",
    "brazil_fertilizers.head()"
   ]
  },
  {
   "cell_type": "code",
   "execution_count": 165,
   "metadata": {},
   "outputs": [
    {
     "data": {
      "application/vnd.plotly.v1+json": {
       "config": {
        "linkText": "Export to plot.ly",
        "plotlyServerURL": "https://plot.ly",
        "showLink": false
       },
       "data": [
        {
         "domain": {
          "x": [
           0,
           1
          ],
          "y": [
           0,
           1
          ]
         },
         "hovertemplate": "Item=%{label}<br>Value=%{value}<extra></extra>",
         "labels": [
          "Ammonia, anhydrous",
          "Ammonia, anhydrous",
          "Ammonia, anhydrous",
          "Ammonia, anhydrous",
          "Ammonia, anhydrous",
          "Ammonia, anhydrous",
          "Ammonia, anhydrous",
          "Ammonia, anhydrous",
          "Ammonia, anhydrous",
          "Ammonia, anhydrous",
          "Ammonia, anhydrous",
          "Ammonia, anhydrous",
          "Ammonia, anhydrous",
          "Ammonia, anhydrous",
          "Ammonia, anhydrous",
          "Ammonia, anhydrous",
          "Ammonium nitrate (AN)",
          "Ammonium nitrate (AN)",
          "Ammonium nitrate (AN)",
          "Ammonium nitrate (AN)",
          "Ammonium nitrate (AN)",
          "Ammonium nitrate (AN)",
          "Ammonium nitrate (AN)",
          "Ammonium nitrate (AN)",
          "Ammonium nitrate (AN)",
          "Ammonium nitrate (AN)",
          "Ammonium nitrate (AN)",
          "Ammonium nitrate (AN)",
          "Ammonium nitrate (AN)",
          "Ammonium nitrate (AN)",
          "Ammonium nitrate (AN)",
          "Ammonium nitrate (AN)",
          "Ammonium sulphate",
          "Ammonium sulphate",
          "Ammonium sulphate",
          "Ammonium sulphate",
          "Ammonium sulphate",
          "Ammonium sulphate",
          "Ammonium sulphate",
          "Ammonium sulphate",
          "Ammonium sulphate",
          "Ammonium sulphate",
          "Ammonium sulphate",
          "Ammonium sulphate",
          "Ammonium sulphate",
          "Ammonium sulphate",
          "Ammonium sulphate",
          "Ammonium sulphate",
          "Calcium ammonium nitrate (CAN) and other mixtures with calcium carbonate",
          "Calcium ammonium nitrate (CAN) and other mixtures with calcium carbonate",
          "Calcium ammonium nitrate (CAN) and other mixtures with calcium carbonate",
          "Calcium ammonium nitrate (CAN) and other mixtures with calcium carbonate",
          "Calcium ammonium nitrate (CAN) and other mixtures with calcium carbonate",
          "Diammonium phosphate (DAP)",
          "Diammonium phosphate (DAP)",
          "Diammonium phosphate (DAP)",
          "Diammonium phosphate (DAP)",
          "Diammonium phosphate (DAP)",
          "Diammonium phosphate (DAP)",
          "Diammonium phosphate (DAP)",
          "Diammonium phosphate (DAP)",
          "Diammonium phosphate (DAP)",
          "Diammonium phosphate (DAP)",
          "Diammonium phosphate (DAP)",
          "Fertilizers n.e.c.",
          "Fertilizers n.e.c.",
          "Fertilizers n.e.c.",
          "Fertilizers n.e.c.",
          "Fertilizers n.e.c.",
          "Monoammonium phosphate (MAP)",
          "Monoammonium phosphate (MAP)",
          "Monoammonium phosphate (MAP)",
          "Monoammonium phosphate (MAP)",
          "Monoammonium phosphate (MAP)",
          "Monoammonium phosphate (MAP)",
          "Monoammonium phosphate (MAP)",
          "Monoammonium phosphate (MAP)",
          "Monoammonium phosphate (MAP)",
          "Monoammonium phosphate (MAP)",
          "Monoammonium phosphate (MAP)",
          "Monoammonium phosphate (MAP)",
          "Monoammonium phosphate (MAP)",
          "Monoammonium phosphate (MAP)",
          "Monoammonium phosphate (MAP)",
          "Monoammonium phosphate (MAP)",
          "NPK fertilizers",
          "NPK fertilizers",
          "NPK fertilizers",
          "NPK fertilizers",
          "NPK fertilizers",
          "Other nitrogenous fertilizers, n.e.c.",
          "Other nitrogenous fertilizers, n.e.c.",
          "Other nitrogenous fertilizers, n.e.c.",
          "Other nitrogenous fertilizers, n.e.c.",
          "Other nitrogenous fertilizers, n.e.c.",
          "Other NK compounds",
          "Other NK compounds",
          "Other NK compounds",
          "Other NK compounds",
          "Other NK compounds",
          "Other NP compounds",
          "Other NP compounds",
          "Other NP compounds",
          "Other NP compounds",
          "Other NP compounds",
          "Other NP compounds",
          "Other NP compounds",
          "Other NP compounds",
          "Other NP compounds",
          "Other NP compounds",
          "Other NP compounds",
          "Other NP compounds",
          "Other NP compounds",
          "Other NP compounds",
          "Other phosphatic fertilizers, n.e.c.",
          "Other phosphatic fertilizers, n.e.c.",
          "Other phosphatic fertilizers, n.e.c.",
          "Other phosphatic fertilizers, n.e.c.",
          "Other phosphatic fertilizers, n.e.c.",
          "Other potassic fertilizers, n.e.c.",
          "Other potassic fertilizers, n.e.c.",
          "Other potassic fertilizers, n.e.c.",
          "Other potassic fertilizers, n.e.c.",
          "Other potassic fertilizers, n.e.c.",
          "Phosphate rock",
          "Phosphate rock",
          "Phosphate rock",
          "Phosphate rock",
          "Phosphate rock",
          "Phosphate rock",
          "Phosphate rock",
          "Phosphate rock",
          "Phosphate rock",
          "Phosphate rock",
          "Phosphate rock",
          "Phosphate rock",
          "Phosphate rock",
          "Phosphate rock",
          "Phosphate rock",
          "Phosphate rock",
          "PK compounds",
          "PK compounds",
          "PK compounds",
          "PK compounds",
          "PK compounds",
          "Potassium chloride (muriate of potash) (MOP)",
          "Potassium chloride (muriate of potash) (MOP)",
          "Potassium chloride (muriate of potash) (MOP)",
          "Potassium chloride (muriate of potash) (MOP)",
          "Potassium chloride (muriate of potash) (MOP)",
          "Potassium chloride (muriate of potash) (MOP)",
          "Potassium chloride (muriate of potash) (MOP)",
          "Potassium chloride (muriate of potash) (MOP)",
          "Potassium chloride (muriate of potash) (MOP)",
          "Potassium chloride (muriate of potash) (MOP)",
          "Potassium chloride (muriate of potash) (MOP)",
          "Potassium chloride (muriate of potash) (MOP)",
          "Potassium chloride (muriate of potash) (MOP)",
          "Potassium chloride (muriate of potash) (MOP)",
          "Potassium chloride (muriate of potash) (MOP)",
          "Potassium chloride (muriate of potash) (MOP)",
          "Potassium nitrate",
          "Potassium nitrate",
          "Potassium nitrate",
          "Potassium nitrate",
          "Potassium nitrate",
          "Potassium sulphate (sulphate of potash) (SOP)",
          "Potassium sulphate (sulphate of potash) (SOP)",
          "Potassium sulphate (sulphate of potash) (SOP)",
          "Potassium sulphate (sulphate of potash) (SOP)",
          "Potassium sulphate (sulphate of potash) (SOP)",
          "Sodium nitrate",
          "Sodium nitrate",
          "Sodium nitrate",
          "Sodium nitrate",
          "Sodium nitrate",
          "Superphosphates above 35%",
          "Superphosphates above 35%",
          "Superphosphates above 35%",
          "Superphosphates above 35%",
          "Superphosphates above 35%",
          "Superphosphates above 35%",
          "Superphosphates above 35%",
          "Superphosphates above 35%",
          "Superphosphates above 35%",
          "Superphosphates above 35%",
          "Superphosphates above 35%",
          "Superphosphates above 35%",
          "Superphosphates above 35%",
          "Superphosphates above 35%",
          "Superphosphates above 35%",
          "Superphosphates, other",
          "Superphosphates, other",
          "Superphosphates, other",
          "Superphosphates, other",
          "Superphosphates, other",
          "Superphosphates, other",
          "Superphosphates, other",
          "Superphosphates, other",
          "Superphosphates, other",
          "Superphosphates, other",
          "Superphosphates, other",
          "Superphosphates, other",
          "Superphosphates, other",
          "Superphosphates, other",
          "Superphosphates, other",
          "Urea",
          "Urea",
          "Urea",
          "Urea",
          "Urea",
          "Urea",
          "Urea",
          "Urea",
          "Urea",
          "Urea",
          "Urea",
          "Urea",
          "Urea",
          "Urea",
          "Urea",
          "Urea",
          "Urea and ammonium nitrate solutions (UAN)",
          "Urea and ammonium nitrate solutions (UAN)",
          "Urea and ammonium nitrate solutions (UAN)",
          "Urea and ammonium nitrate solutions (UAN)",
          "Urea and ammonium nitrate solutions (UAN)"
         ],
         "legendgroup": "",
         "name": "",
         "showlegend": true,
         "type": "pie",
         "values": [
          1248009,
          1143059,
          1301483,
          1301083,
          1315421,
          1211604,
          1226059,
          1058540,
          1176526,
          1352598,
          1182014,
          1225655,
          1060074,
          1221803,
          1212560,
          911861,
          484283,
          416835,
          412139,
          506335,
          470518,
          462060,
          447057,
          455159,
          446983,
          457897,
          489560,
          420513,
          484655,
          515348,
          522786,
          407838,
          213165,
          223383,
          240824,
          219367,
          236449,
          258127,
          219265,
          226378,
          293137,
          314435,
          295846,
          253359,
          338110,
          275402,
          258482,
          264208,
          0,
          0,
          0,
          0,
          0,
          6126,
          4356,
          7071,
          217,
          4839,
          1768,
          0,
          0,
          0,
          0,
          0,
          0,
          0,
          0,
          0,
          0,
          888375,
          1010317,
          966679,
          913866,
          1098239,
          1043301,
          1130097,
          1065910,
          1047536,
          952634,
          1344694,
          1305765,
          1173197,
          1220400,
          1153823,
          1184560,
          0,
          0,
          0,
          0,
          0,
          0,
          0,
          0,
          0,
          0,
          0,
          0,
          0,
          0,
          0,
          276489,
          286220,
          285117,
          280673,
          222901,
          238260,
          237775,
          207628,
          180716,
          163581,
          151622,
          140547,
          160956,
          144271,
          50791,
          46956,
          63674,
          100107,
          117463,
          0,
          0,
          0,
          0,
          0,
          4984772,
          5213482,
          5660587,
          5588265,
          5754141,
          6057579,
          6292826,
          5913835,
          5587566,
          6022722,
          6019758,
          5940568,
          5792980,
          5439334,
          5110514,
          5343992,
          0,
          0,
          0,
          0,
          0,
          627217,
          650536,
          640473,
          640852,
          731401,
          670969,
          606707,
          716635,
          664214,
          619346,
          548533,
          492152,
          492355,
          481269,
          499082,
          484877,
          0,
          0,
          0,
          0,
          0,
          0,
          0,
          0,
          0,
          0,
          0,
          0,
          0,
          0,
          0,
          530498,
          650021,
          670083,
          742791,
          910047,
          808312,
          801369,
          942774,
          914369,
          1007860,
          936367,
          915823,
          859375,
          854528,
          953790,
          5307384,
          5628486,
          4707320,
          4540965,
          5767188,
          5056130,
          4553714,
          5412780,
          5888603,
          5448432,
          4931309,
          4626220,
          4779825,
          4758855,
          4255164,
          1284962,
          1193568,
          1195504,
          1294662,
          1411673,
          1277753,
          1182484,
          1117345,
          1269301,
          1463372,
          1340811,
          1357412,
          1107156,
          1423005,
          1327214,
          836754,
          0,
          0,
          0,
          0,
          0
         ]
        }
       ],
       "layout": {
        "legend": {
         "tracegroupgap": 0
        },
        "margin": {
         "t": 60
        },
        "showlegend": false,
        "template": {
         "data": {
          "bar": [
           {
            "error_x": {
             "color": "#2a3f5f"
            },
            "error_y": {
             "color": "#2a3f5f"
            },
            "marker": {
             "line": {
              "color": "#E5ECF6",
              "width": 0.5
             }
            },
            "type": "bar"
           }
          ],
          "barpolar": [
           {
            "marker": {
             "line": {
              "color": "#E5ECF6",
              "width": 0.5
             }
            },
            "type": "barpolar"
           }
          ],
          "carpet": [
           {
            "aaxis": {
             "endlinecolor": "#2a3f5f",
             "gridcolor": "white",
             "linecolor": "white",
             "minorgridcolor": "white",
             "startlinecolor": "#2a3f5f"
            },
            "baxis": {
             "endlinecolor": "#2a3f5f",
             "gridcolor": "white",
             "linecolor": "white",
             "minorgridcolor": "white",
             "startlinecolor": "#2a3f5f"
            },
            "type": "carpet"
           }
          ],
          "choropleth": [
           {
            "colorbar": {
             "outlinewidth": 0,
             "ticks": ""
            },
            "type": "choropleth"
           }
          ],
          "contour": [
           {
            "colorbar": {
             "outlinewidth": 0,
             "ticks": ""
            },
            "colorscale": [
             [
              0,
              "#0d0887"
             ],
             [
              0.1111111111111111,
              "#46039f"
             ],
             [
              0.2222222222222222,
              "#7201a8"
             ],
             [
              0.3333333333333333,
              "#9c179e"
             ],
             [
              0.4444444444444444,
              "#bd3786"
             ],
             [
              0.5555555555555556,
              "#d8576b"
             ],
             [
              0.6666666666666666,
              "#ed7953"
             ],
             [
              0.7777777777777778,
              "#fb9f3a"
             ],
             [
              0.8888888888888888,
              "#fdca26"
             ],
             [
              1,
              "#f0f921"
             ]
            ],
            "type": "contour"
           }
          ],
          "contourcarpet": [
           {
            "colorbar": {
             "outlinewidth": 0,
             "ticks": ""
            },
            "type": "contourcarpet"
           }
          ],
          "heatmap": [
           {
            "colorbar": {
             "outlinewidth": 0,
             "ticks": ""
            },
            "colorscale": [
             [
              0,
              "#0d0887"
             ],
             [
              0.1111111111111111,
              "#46039f"
             ],
             [
              0.2222222222222222,
              "#7201a8"
             ],
             [
              0.3333333333333333,
              "#9c179e"
             ],
             [
              0.4444444444444444,
              "#bd3786"
             ],
             [
              0.5555555555555556,
              "#d8576b"
             ],
             [
              0.6666666666666666,
              "#ed7953"
             ],
             [
              0.7777777777777778,
              "#fb9f3a"
             ],
             [
              0.8888888888888888,
              "#fdca26"
             ],
             [
              1,
              "#f0f921"
             ]
            ],
            "type": "heatmap"
           }
          ],
          "heatmapgl": [
           {
            "colorbar": {
             "outlinewidth": 0,
             "ticks": ""
            },
            "colorscale": [
             [
              0,
              "#0d0887"
             ],
             [
              0.1111111111111111,
              "#46039f"
             ],
             [
              0.2222222222222222,
              "#7201a8"
             ],
             [
              0.3333333333333333,
              "#9c179e"
             ],
             [
              0.4444444444444444,
              "#bd3786"
             ],
             [
              0.5555555555555556,
              "#d8576b"
             ],
             [
              0.6666666666666666,
              "#ed7953"
             ],
             [
              0.7777777777777778,
              "#fb9f3a"
             ],
             [
              0.8888888888888888,
              "#fdca26"
             ],
             [
              1,
              "#f0f921"
             ]
            ],
            "type": "heatmapgl"
           }
          ],
          "histogram": [
           {
            "marker": {
             "colorbar": {
              "outlinewidth": 0,
              "ticks": ""
             }
            },
            "type": "histogram"
           }
          ],
          "histogram2d": [
           {
            "colorbar": {
             "outlinewidth": 0,
             "ticks": ""
            },
            "colorscale": [
             [
              0,
              "#0d0887"
             ],
             [
              0.1111111111111111,
              "#46039f"
             ],
             [
              0.2222222222222222,
              "#7201a8"
             ],
             [
              0.3333333333333333,
              "#9c179e"
             ],
             [
              0.4444444444444444,
              "#bd3786"
             ],
             [
              0.5555555555555556,
              "#d8576b"
             ],
             [
              0.6666666666666666,
              "#ed7953"
             ],
             [
              0.7777777777777778,
              "#fb9f3a"
             ],
             [
              0.8888888888888888,
              "#fdca26"
             ],
             [
              1,
              "#f0f921"
             ]
            ],
            "type": "histogram2d"
           }
          ],
          "histogram2dcontour": [
           {
            "colorbar": {
             "outlinewidth": 0,
             "ticks": ""
            },
            "colorscale": [
             [
              0,
              "#0d0887"
             ],
             [
              0.1111111111111111,
              "#46039f"
             ],
             [
              0.2222222222222222,
              "#7201a8"
             ],
             [
              0.3333333333333333,
              "#9c179e"
             ],
             [
              0.4444444444444444,
              "#bd3786"
             ],
             [
              0.5555555555555556,
              "#d8576b"
             ],
             [
              0.6666666666666666,
              "#ed7953"
             ],
             [
              0.7777777777777778,
              "#fb9f3a"
             ],
             [
              0.8888888888888888,
              "#fdca26"
             ],
             [
              1,
              "#f0f921"
             ]
            ],
            "type": "histogram2dcontour"
           }
          ],
          "mesh3d": [
           {
            "colorbar": {
             "outlinewidth": 0,
             "ticks": ""
            },
            "type": "mesh3d"
           }
          ],
          "parcoords": [
           {
            "line": {
             "colorbar": {
              "outlinewidth": 0,
              "ticks": ""
             }
            },
            "type": "parcoords"
           }
          ],
          "pie": [
           {
            "automargin": true,
            "type": "pie"
           }
          ],
          "scatter": [
           {
            "marker": {
             "colorbar": {
              "outlinewidth": 0,
              "ticks": ""
             }
            },
            "type": "scatter"
           }
          ],
          "scatter3d": [
           {
            "line": {
             "colorbar": {
              "outlinewidth": 0,
              "ticks": ""
             }
            },
            "marker": {
             "colorbar": {
              "outlinewidth": 0,
              "ticks": ""
             }
            },
            "type": "scatter3d"
           }
          ],
          "scattercarpet": [
           {
            "marker": {
             "colorbar": {
              "outlinewidth": 0,
              "ticks": ""
             }
            },
            "type": "scattercarpet"
           }
          ],
          "scattergeo": [
           {
            "marker": {
             "colorbar": {
              "outlinewidth": 0,
              "ticks": ""
             }
            },
            "type": "scattergeo"
           }
          ],
          "scattergl": [
           {
            "marker": {
             "colorbar": {
              "outlinewidth": 0,
              "ticks": ""
             }
            },
            "type": "scattergl"
           }
          ],
          "scattermapbox": [
           {
            "marker": {
             "colorbar": {
              "outlinewidth": 0,
              "ticks": ""
             }
            },
            "type": "scattermapbox"
           }
          ],
          "scatterpolar": [
           {
            "marker": {
             "colorbar": {
              "outlinewidth": 0,
              "ticks": ""
             }
            },
            "type": "scatterpolar"
           }
          ],
          "scatterpolargl": [
           {
            "marker": {
             "colorbar": {
              "outlinewidth": 0,
              "ticks": ""
             }
            },
            "type": "scatterpolargl"
           }
          ],
          "scatterternary": [
           {
            "marker": {
             "colorbar": {
              "outlinewidth": 0,
              "ticks": ""
             }
            },
            "type": "scatterternary"
           }
          ],
          "surface": [
           {
            "colorbar": {
             "outlinewidth": 0,
             "ticks": ""
            },
            "colorscale": [
             [
              0,
              "#0d0887"
             ],
             [
              0.1111111111111111,
              "#46039f"
             ],
             [
              0.2222222222222222,
              "#7201a8"
             ],
             [
              0.3333333333333333,
              "#9c179e"
             ],
             [
              0.4444444444444444,
              "#bd3786"
             ],
             [
              0.5555555555555556,
              "#d8576b"
             ],
             [
              0.6666666666666666,
              "#ed7953"
             ],
             [
              0.7777777777777778,
              "#fb9f3a"
             ],
             [
              0.8888888888888888,
              "#fdca26"
             ],
             [
              1,
              "#f0f921"
             ]
            ],
            "type": "surface"
           }
          ],
          "table": [
           {
            "cells": {
             "fill": {
              "color": "#EBF0F8"
             },
             "line": {
              "color": "white"
             }
            },
            "header": {
             "fill": {
              "color": "#C8D4E3"
             },
             "line": {
              "color": "white"
             }
            },
            "type": "table"
           }
          ]
         },
         "layout": {
          "annotationdefaults": {
           "arrowcolor": "#2a3f5f",
           "arrowhead": 0,
           "arrowwidth": 1
          },
          "coloraxis": {
           "colorbar": {
            "outlinewidth": 0,
            "ticks": ""
           }
          },
          "colorscale": {
           "diverging": [
            [
             0,
             "#8e0152"
            ],
            [
             0.1,
             "#c51b7d"
            ],
            [
             0.2,
             "#de77ae"
            ],
            [
             0.3,
             "#f1b6da"
            ],
            [
             0.4,
             "#fde0ef"
            ],
            [
             0.5,
             "#f7f7f7"
            ],
            [
             0.6,
             "#e6f5d0"
            ],
            [
             0.7,
             "#b8e186"
            ],
            [
             0.8,
             "#7fbc41"
            ],
            [
             0.9,
             "#4d9221"
            ],
            [
             1,
             "#276419"
            ]
           ],
           "sequential": [
            [
             0,
             "#0d0887"
            ],
            [
             0.1111111111111111,
             "#46039f"
            ],
            [
             0.2222222222222222,
             "#7201a8"
            ],
            [
             0.3333333333333333,
             "#9c179e"
            ],
            [
             0.4444444444444444,
             "#bd3786"
            ],
            [
             0.5555555555555556,
             "#d8576b"
            ],
            [
             0.6666666666666666,
             "#ed7953"
            ],
            [
             0.7777777777777778,
             "#fb9f3a"
            ],
            [
             0.8888888888888888,
             "#fdca26"
            ],
            [
             1,
             "#f0f921"
            ]
           ],
           "sequentialminus": [
            [
             0,
             "#0d0887"
            ],
            [
             0.1111111111111111,
             "#46039f"
            ],
            [
             0.2222222222222222,
             "#7201a8"
            ],
            [
             0.3333333333333333,
             "#9c179e"
            ],
            [
             0.4444444444444444,
             "#bd3786"
            ],
            [
             0.5555555555555556,
             "#d8576b"
            ],
            [
             0.6666666666666666,
             "#ed7953"
            ],
            [
             0.7777777777777778,
             "#fb9f3a"
            ],
            [
             0.8888888888888888,
             "#fdca26"
            ],
            [
             1,
             "#f0f921"
            ]
           ]
          },
          "colorway": [
           "#636efa",
           "#EF553B",
           "#00cc96",
           "#ab63fa",
           "#FFA15A",
           "#19d3f3",
           "#FF6692",
           "#B6E880",
           "#FF97FF",
           "#FECB52"
          ],
          "font": {
           "color": "#2a3f5f"
          },
          "geo": {
           "bgcolor": "white",
           "lakecolor": "white",
           "landcolor": "#E5ECF6",
           "showlakes": true,
           "showland": true,
           "subunitcolor": "white"
          },
          "hoverlabel": {
           "align": "left"
          },
          "hovermode": "closest",
          "mapbox": {
           "style": "light"
          },
          "paper_bgcolor": "white",
          "plot_bgcolor": "#E5ECF6",
          "polar": {
           "angularaxis": {
            "gridcolor": "white",
            "linecolor": "white",
            "ticks": ""
           },
           "bgcolor": "#E5ECF6",
           "radialaxis": {
            "gridcolor": "white",
            "linecolor": "white",
            "ticks": ""
           }
          },
          "scene": {
           "xaxis": {
            "backgroundcolor": "#E5ECF6",
            "gridcolor": "white",
            "gridwidth": 2,
            "linecolor": "white",
            "showbackground": true,
            "ticks": "",
            "zerolinecolor": "white"
           },
           "yaxis": {
            "backgroundcolor": "#E5ECF6",
            "gridcolor": "white",
            "gridwidth": 2,
            "linecolor": "white",
            "showbackground": true,
            "ticks": "",
            "zerolinecolor": "white"
           },
           "zaxis": {
            "backgroundcolor": "#E5ECF6",
            "gridcolor": "white",
            "gridwidth": 2,
            "linecolor": "white",
            "showbackground": true,
            "ticks": "",
            "zerolinecolor": "white"
           }
          },
          "shapedefaults": {
           "line": {
            "color": "#2a3f5f"
           }
          },
          "ternary": {
           "aaxis": {
            "gridcolor": "white",
            "linecolor": "white",
            "ticks": ""
           },
           "baxis": {
            "gridcolor": "white",
            "linecolor": "white",
            "ticks": ""
           },
           "bgcolor": "#E5ECF6",
           "caxis": {
            "gridcolor": "white",
            "linecolor": "white",
            "ticks": ""
           }
          },
          "title": {
           "x": 0.05
          },
          "xaxis": {
           "automargin": true,
           "gridcolor": "white",
           "linecolor": "white",
           "ticks": "",
           "title": {
            "standoff": 15
           },
           "zerolinecolor": "white",
           "zerolinewidth": 2
          },
          "yaxis": {
           "automargin": true,
           "gridcolor": "white",
           "linecolor": "white",
           "ticks": "",
           "title": {
            "standoff": 15
           },
           "zerolinecolor": "white",
           "zerolinewidth": 2
          }
         }
        }
       }
      },
      "text/html": [
       "<div>\n",
       "        \n",
       "        \n",
       "            <div id=\"2cb4918f-bac2-4142-b005-c6692b67d394\" class=\"plotly-graph-div\" style=\"height:525px; width:100%;\"></div>\n",
       "            <script type=\"text/javascript\">\n",
       "                require([\"plotly\"], function(Plotly) {\n",
       "                    window.PLOTLYENV=window.PLOTLYENV || {};\n",
       "                    \n",
       "                if (document.getElementById(\"2cb4918f-bac2-4142-b005-c6692b67d394\")) {\n",
       "                    Plotly.newPlot(\n",
       "                        '2cb4918f-bac2-4142-b005-c6692b67d394',\n",
       "                        [{\"domain\": {\"x\": [0.0, 1.0], \"y\": [0.0, 1.0]}, \"hovertemplate\": \"Item=%{label}<br>Value=%{value}<extra></extra>\", \"labels\": [\"Ammonia, anhydrous\", \"Ammonia, anhydrous\", \"Ammonia, anhydrous\", \"Ammonia, anhydrous\", \"Ammonia, anhydrous\", \"Ammonia, anhydrous\", \"Ammonia, anhydrous\", \"Ammonia, anhydrous\", \"Ammonia, anhydrous\", \"Ammonia, anhydrous\", \"Ammonia, anhydrous\", \"Ammonia, anhydrous\", \"Ammonia, anhydrous\", \"Ammonia, anhydrous\", \"Ammonia, anhydrous\", \"Ammonia, anhydrous\", \"Ammonium nitrate (AN)\", \"Ammonium nitrate (AN)\", \"Ammonium nitrate (AN)\", \"Ammonium nitrate (AN)\", \"Ammonium nitrate (AN)\", \"Ammonium nitrate (AN)\", \"Ammonium nitrate (AN)\", \"Ammonium nitrate (AN)\", \"Ammonium nitrate (AN)\", \"Ammonium nitrate (AN)\", \"Ammonium nitrate (AN)\", \"Ammonium nitrate (AN)\", \"Ammonium nitrate (AN)\", \"Ammonium nitrate (AN)\", \"Ammonium nitrate (AN)\", \"Ammonium nitrate (AN)\", \"Ammonium sulphate\", \"Ammonium sulphate\", \"Ammonium sulphate\", \"Ammonium sulphate\", \"Ammonium sulphate\", \"Ammonium sulphate\", \"Ammonium sulphate\", \"Ammonium sulphate\", \"Ammonium sulphate\", \"Ammonium sulphate\", \"Ammonium sulphate\", \"Ammonium sulphate\", \"Ammonium sulphate\", \"Ammonium sulphate\", \"Ammonium sulphate\", \"Ammonium sulphate\", \"Calcium ammonium nitrate (CAN) and other mixtures with calcium carbonate\", \"Calcium ammonium nitrate (CAN) and other mixtures with calcium carbonate\", \"Calcium ammonium nitrate (CAN) and other mixtures with calcium carbonate\", \"Calcium ammonium nitrate (CAN) and other mixtures with calcium carbonate\", \"Calcium ammonium nitrate (CAN) and other mixtures with calcium carbonate\", \"Diammonium phosphate (DAP)\", \"Diammonium phosphate (DAP)\", \"Diammonium phosphate (DAP)\", \"Diammonium phosphate (DAP)\", \"Diammonium phosphate (DAP)\", \"Diammonium phosphate (DAP)\", \"Diammonium phosphate (DAP)\", \"Diammonium phosphate (DAP)\", \"Diammonium phosphate (DAP)\", \"Diammonium phosphate (DAP)\", \"Diammonium phosphate (DAP)\", \"Fertilizers n.e.c.\", \"Fertilizers n.e.c.\", \"Fertilizers n.e.c.\", \"Fertilizers n.e.c.\", \"Fertilizers n.e.c.\", \"Monoammonium phosphate (MAP)\", \"Monoammonium phosphate (MAP)\", \"Monoammonium phosphate (MAP)\", \"Monoammonium phosphate (MAP)\", \"Monoammonium phosphate (MAP)\", \"Monoammonium phosphate (MAP)\", \"Monoammonium phosphate (MAP)\", \"Monoammonium phosphate (MAP)\", \"Monoammonium phosphate (MAP)\", \"Monoammonium phosphate (MAP)\", \"Monoammonium phosphate (MAP)\", \"Monoammonium phosphate (MAP)\", \"Monoammonium phosphate (MAP)\", \"Monoammonium phosphate (MAP)\", \"Monoammonium phosphate (MAP)\", \"Monoammonium phosphate (MAP)\", \"NPK fertilizers\", \"NPK fertilizers\", \"NPK fertilizers\", \"NPK fertilizers\", \"NPK fertilizers\", \"Other nitrogenous fertilizers, n.e.c.\", \"Other nitrogenous fertilizers, n.e.c.\", \"Other nitrogenous fertilizers, n.e.c.\", \"Other nitrogenous fertilizers, n.e.c.\", \"Other nitrogenous fertilizers, n.e.c.\", \"Other NK compounds\", \"Other NK compounds\", \"Other NK compounds\", \"Other NK compounds\", \"Other NK compounds\", \"Other NP compounds\", \"Other NP compounds\", \"Other NP compounds\", \"Other NP compounds\", \"Other NP compounds\", \"Other NP compounds\", \"Other NP compounds\", \"Other NP compounds\", \"Other NP compounds\", \"Other NP compounds\", \"Other NP compounds\", \"Other NP compounds\", \"Other NP compounds\", \"Other NP compounds\", \"Other phosphatic fertilizers, n.e.c.\", \"Other phosphatic fertilizers, n.e.c.\", \"Other phosphatic fertilizers, n.e.c.\", \"Other phosphatic fertilizers, n.e.c.\", \"Other phosphatic fertilizers, n.e.c.\", \"Other potassic fertilizers, n.e.c.\", \"Other potassic fertilizers, n.e.c.\", \"Other potassic fertilizers, n.e.c.\", \"Other potassic fertilizers, n.e.c.\", \"Other potassic fertilizers, n.e.c.\", \"Phosphate rock\", \"Phosphate rock\", \"Phosphate rock\", \"Phosphate rock\", \"Phosphate rock\", \"Phosphate rock\", \"Phosphate rock\", \"Phosphate rock\", \"Phosphate rock\", \"Phosphate rock\", \"Phosphate rock\", \"Phosphate rock\", \"Phosphate rock\", \"Phosphate rock\", \"Phosphate rock\", \"Phosphate rock\", \"PK compounds\", \"PK compounds\", \"PK compounds\", \"PK compounds\", \"PK compounds\", \"Potassium chloride (muriate of potash) (MOP)\", \"Potassium chloride (muriate of potash) (MOP)\", \"Potassium chloride (muriate of potash) (MOP)\", \"Potassium chloride (muriate of potash) (MOP)\", \"Potassium chloride (muriate of potash) (MOP)\", \"Potassium chloride (muriate of potash) (MOP)\", \"Potassium chloride (muriate of potash) (MOP)\", \"Potassium chloride (muriate of potash) (MOP)\", \"Potassium chloride (muriate of potash) (MOP)\", \"Potassium chloride (muriate of potash) (MOP)\", \"Potassium chloride (muriate of potash) (MOP)\", \"Potassium chloride (muriate of potash) (MOP)\", \"Potassium chloride (muriate of potash) (MOP)\", \"Potassium chloride (muriate of potash) (MOP)\", \"Potassium chloride (muriate of potash) (MOP)\", \"Potassium chloride (muriate of potash) (MOP)\", \"Potassium nitrate\", \"Potassium nitrate\", \"Potassium nitrate\", \"Potassium nitrate\", \"Potassium nitrate\", \"Potassium sulphate (sulphate of potash) (SOP)\", \"Potassium sulphate (sulphate of potash) (SOP)\", \"Potassium sulphate (sulphate of potash) (SOP)\", \"Potassium sulphate (sulphate of potash) (SOP)\", \"Potassium sulphate (sulphate of potash) (SOP)\", \"Sodium nitrate\", \"Sodium nitrate\", \"Sodium nitrate\", \"Sodium nitrate\", \"Sodium nitrate\", \"Superphosphates above 35%\", \"Superphosphates above 35%\", \"Superphosphates above 35%\", \"Superphosphates above 35%\", \"Superphosphates above 35%\", \"Superphosphates above 35%\", \"Superphosphates above 35%\", \"Superphosphates above 35%\", \"Superphosphates above 35%\", \"Superphosphates above 35%\", \"Superphosphates above 35%\", \"Superphosphates above 35%\", \"Superphosphates above 35%\", \"Superphosphates above 35%\", \"Superphosphates above 35%\", \"Superphosphates, other\", \"Superphosphates, other\", \"Superphosphates, other\", \"Superphosphates, other\", \"Superphosphates, other\", \"Superphosphates, other\", \"Superphosphates, other\", \"Superphosphates, other\", \"Superphosphates, other\", \"Superphosphates, other\", \"Superphosphates, other\", \"Superphosphates, other\", \"Superphosphates, other\", \"Superphosphates, other\", \"Superphosphates, other\", \"Urea\", \"Urea\", \"Urea\", \"Urea\", \"Urea\", \"Urea\", \"Urea\", \"Urea\", \"Urea\", \"Urea\", \"Urea\", \"Urea\", \"Urea\", \"Urea\", \"Urea\", \"Urea\", \"Urea and ammonium nitrate solutions (UAN)\", \"Urea and ammonium nitrate solutions (UAN)\", \"Urea and ammonium nitrate solutions (UAN)\", \"Urea and ammonium nitrate solutions (UAN)\", \"Urea and ammonium nitrate solutions (UAN)\"], \"legendgroup\": \"\", \"name\": \"\", \"showlegend\": true, \"type\": \"pie\", \"values\": [1248009.0, 1143059.0, 1301483.0, 1301083.0, 1315421.0, 1211604.0, 1226059.0, 1058540.0, 1176526.0, 1352598.0, 1182014.0, 1225655.0, 1060074.0, 1221803.0, 1212560.0, 911861.0, 484283.0, 416835.0, 412139.0, 506335.0, 470518.0, 462060.0, 447057.0, 455159.0, 446983.0, 457897.0, 489560.0, 420513.0, 484655.0, 515348.0, 522786.0, 407838.0, 213165.0, 223383.0, 240824.0, 219367.0, 236449.0, 258127.0, 219265.0, 226378.0, 293137.0, 314435.0, 295846.0, 253359.0, 338110.0, 275402.0, 258482.0, 264208.0, 0.0, 0.0, 0.0, 0.0, 0.0, 6126.0, 4356.0, 7071.0, 217.0, 4839.0, 1768.0, 0.0, 0.0, 0.0, 0.0, 0.0, 0.0, 0.0, 0.0, 0.0, 0.0, 888375.0, 1010317.0, 966679.0, 913866.0, 1098239.0, 1043301.0, 1130097.0, 1065910.0, 1047536.0, 952634.0, 1344694.0, 1305765.0, 1173197.0, 1220400.0, 1153823.0, 1184560.0, 0.0, 0.0, 0.0, 0.0, 0.0, 0.0, 0.0, 0.0, 0.0, 0.0, 0.0, 0.0, 0.0, 0.0, 0.0, 276489.0, 286220.0, 285117.0, 280673.0, 222901.0, 238260.0, 237775.0, 207628.0, 180716.0, 163581.0, 151622.0, 140547.0, 160956.0, 144271.0, 50791.0, 46956.0, 63674.0, 100107.0, 117463.0, 0.0, 0.0, 0.0, 0.0, 0.0, 4984772.0, 5213482.0, 5660587.0, 5588265.0, 5754141.0, 6057579.0, 6292826.0, 5913835.0, 5587566.0, 6022722.0, 6019758.0, 5940568.0, 5792980.0, 5439334.0, 5110514.0, 5343992.0, 0.0, 0.0, 0.0, 0.0, 0.0, 627217.0, 650536.0, 640473.0, 640852.0, 731401.0, 670969.0, 606707.0, 716635.0, 664214.0, 619346.0, 548533.0, 492152.0, 492355.0, 481269.0, 499082.0, 484877.0, 0.0, 0.0, 0.0, 0.0, 0.0, 0.0, 0.0, 0.0, 0.0, 0.0, 0.0, 0.0, 0.0, 0.0, 0.0, 530498.0, 650021.0, 670083.0, 742791.0, 910047.0, 808312.0, 801369.0, 942774.0, 914369.0, 1007860.0, 936367.0, 915823.0, 859375.0, 854528.0, 953790.0, 5307384.0, 5628486.0, 4707320.0, 4540965.0, 5767188.0, 5056130.0, 4553714.0, 5412780.0, 5888603.0, 5448432.0, 4931309.0, 4626220.0, 4779825.0, 4758855.0, 4255164.0, 1284962.0, 1193568.0, 1195504.0, 1294662.0, 1411673.0, 1277753.0, 1182484.0, 1117345.0, 1269301.0, 1463372.0, 1340811.0, 1357412.0, 1107156.0, 1423005.0, 1327214.0, 836754.0, 0.0, 0.0, 0.0, 0.0, 0.0]}],\n",
       "                        {\"legend\": {\"tracegroupgap\": 0}, \"margin\": {\"t\": 60}, \"showlegend\": false, \"template\": {\"data\": {\"bar\": [{\"error_x\": {\"color\": \"#2a3f5f\"}, \"error_y\": {\"color\": \"#2a3f5f\"}, \"marker\": {\"line\": {\"color\": \"#E5ECF6\", \"width\": 0.5}}, \"type\": \"bar\"}], \"barpolar\": [{\"marker\": {\"line\": {\"color\": \"#E5ECF6\", \"width\": 0.5}}, \"type\": \"barpolar\"}], \"carpet\": [{\"aaxis\": {\"endlinecolor\": \"#2a3f5f\", \"gridcolor\": \"white\", \"linecolor\": \"white\", \"minorgridcolor\": \"white\", \"startlinecolor\": \"#2a3f5f\"}, \"baxis\": {\"endlinecolor\": \"#2a3f5f\", \"gridcolor\": \"white\", \"linecolor\": \"white\", \"minorgridcolor\": \"white\", \"startlinecolor\": \"#2a3f5f\"}, \"type\": \"carpet\"}], \"choropleth\": [{\"colorbar\": {\"outlinewidth\": 0, \"ticks\": \"\"}, \"type\": \"choropleth\"}], \"contour\": [{\"colorbar\": {\"outlinewidth\": 0, \"ticks\": \"\"}, \"colorscale\": [[0.0, \"#0d0887\"], [0.1111111111111111, \"#46039f\"], [0.2222222222222222, \"#7201a8\"], [0.3333333333333333, \"#9c179e\"], [0.4444444444444444, \"#bd3786\"], [0.5555555555555556, \"#d8576b\"], [0.6666666666666666, \"#ed7953\"], [0.7777777777777778, \"#fb9f3a\"], [0.8888888888888888, \"#fdca26\"], [1.0, \"#f0f921\"]], \"type\": \"contour\"}], \"contourcarpet\": [{\"colorbar\": {\"outlinewidth\": 0, \"ticks\": \"\"}, \"type\": \"contourcarpet\"}], \"heatmap\": [{\"colorbar\": {\"outlinewidth\": 0, \"ticks\": \"\"}, \"colorscale\": [[0.0, \"#0d0887\"], [0.1111111111111111, \"#46039f\"], [0.2222222222222222, \"#7201a8\"], [0.3333333333333333, \"#9c179e\"], [0.4444444444444444, \"#bd3786\"], [0.5555555555555556, \"#d8576b\"], [0.6666666666666666, \"#ed7953\"], [0.7777777777777778, \"#fb9f3a\"], [0.8888888888888888, \"#fdca26\"], [1.0, \"#f0f921\"]], \"type\": \"heatmap\"}], \"heatmapgl\": [{\"colorbar\": {\"outlinewidth\": 0, \"ticks\": \"\"}, \"colorscale\": [[0.0, \"#0d0887\"], [0.1111111111111111, \"#46039f\"], [0.2222222222222222, \"#7201a8\"], [0.3333333333333333, \"#9c179e\"], [0.4444444444444444, \"#bd3786\"], [0.5555555555555556, \"#d8576b\"], [0.6666666666666666, \"#ed7953\"], [0.7777777777777778, \"#fb9f3a\"], [0.8888888888888888, \"#fdca26\"], [1.0, \"#f0f921\"]], \"type\": \"heatmapgl\"}], \"histogram\": [{\"marker\": {\"colorbar\": {\"outlinewidth\": 0, \"ticks\": \"\"}}, \"type\": \"histogram\"}], \"histogram2d\": [{\"colorbar\": {\"outlinewidth\": 0, \"ticks\": \"\"}, \"colorscale\": [[0.0, \"#0d0887\"], [0.1111111111111111, \"#46039f\"], [0.2222222222222222, \"#7201a8\"], [0.3333333333333333, \"#9c179e\"], [0.4444444444444444, \"#bd3786\"], [0.5555555555555556, \"#d8576b\"], [0.6666666666666666, \"#ed7953\"], [0.7777777777777778, \"#fb9f3a\"], [0.8888888888888888, \"#fdca26\"], [1.0, \"#f0f921\"]], \"type\": \"histogram2d\"}], \"histogram2dcontour\": [{\"colorbar\": {\"outlinewidth\": 0, \"ticks\": \"\"}, \"colorscale\": [[0.0, \"#0d0887\"], [0.1111111111111111, \"#46039f\"], [0.2222222222222222, \"#7201a8\"], [0.3333333333333333, \"#9c179e\"], [0.4444444444444444, \"#bd3786\"], [0.5555555555555556, \"#d8576b\"], [0.6666666666666666, \"#ed7953\"], [0.7777777777777778, \"#fb9f3a\"], [0.8888888888888888, \"#fdca26\"], [1.0, \"#f0f921\"]], \"type\": \"histogram2dcontour\"}], \"mesh3d\": [{\"colorbar\": {\"outlinewidth\": 0, \"ticks\": \"\"}, \"type\": \"mesh3d\"}], \"parcoords\": [{\"line\": {\"colorbar\": {\"outlinewidth\": 0, \"ticks\": \"\"}}, \"type\": \"parcoords\"}], \"pie\": [{\"automargin\": true, \"type\": \"pie\"}], \"scatter\": [{\"marker\": {\"colorbar\": {\"outlinewidth\": 0, \"ticks\": \"\"}}, \"type\": \"scatter\"}], \"scatter3d\": [{\"line\": {\"colorbar\": {\"outlinewidth\": 0, \"ticks\": \"\"}}, \"marker\": {\"colorbar\": {\"outlinewidth\": 0, \"ticks\": \"\"}}, \"type\": \"scatter3d\"}], \"scattercarpet\": [{\"marker\": {\"colorbar\": {\"outlinewidth\": 0, \"ticks\": \"\"}}, \"type\": \"scattercarpet\"}], \"scattergeo\": [{\"marker\": {\"colorbar\": {\"outlinewidth\": 0, \"ticks\": \"\"}}, \"type\": \"scattergeo\"}], \"scattergl\": [{\"marker\": {\"colorbar\": {\"outlinewidth\": 0, \"ticks\": \"\"}}, \"type\": \"scattergl\"}], \"scattermapbox\": [{\"marker\": {\"colorbar\": {\"outlinewidth\": 0, \"ticks\": \"\"}}, \"type\": \"scattermapbox\"}], \"scatterpolar\": [{\"marker\": {\"colorbar\": {\"outlinewidth\": 0, \"ticks\": \"\"}}, \"type\": \"scatterpolar\"}], \"scatterpolargl\": [{\"marker\": {\"colorbar\": {\"outlinewidth\": 0, \"ticks\": \"\"}}, \"type\": \"scatterpolargl\"}], \"scatterternary\": [{\"marker\": {\"colorbar\": {\"outlinewidth\": 0, \"ticks\": \"\"}}, \"type\": \"scatterternary\"}], \"surface\": [{\"colorbar\": {\"outlinewidth\": 0, \"ticks\": \"\"}, \"colorscale\": [[0.0, \"#0d0887\"], [0.1111111111111111, \"#46039f\"], [0.2222222222222222, \"#7201a8\"], [0.3333333333333333, \"#9c179e\"], [0.4444444444444444, \"#bd3786\"], [0.5555555555555556, \"#d8576b\"], [0.6666666666666666, \"#ed7953\"], [0.7777777777777778, \"#fb9f3a\"], [0.8888888888888888, \"#fdca26\"], [1.0, \"#f0f921\"]], \"type\": \"surface\"}], \"table\": [{\"cells\": {\"fill\": {\"color\": \"#EBF0F8\"}, \"line\": {\"color\": \"white\"}}, \"header\": {\"fill\": {\"color\": \"#C8D4E3\"}, \"line\": {\"color\": \"white\"}}, \"type\": \"table\"}]}, \"layout\": {\"annotationdefaults\": {\"arrowcolor\": \"#2a3f5f\", \"arrowhead\": 0, \"arrowwidth\": 1}, \"coloraxis\": {\"colorbar\": {\"outlinewidth\": 0, \"ticks\": \"\"}}, \"colorscale\": {\"diverging\": [[0, \"#8e0152\"], [0.1, \"#c51b7d\"], [0.2, \"#de77ae\"], [0.3, \"#f1b6da\"], [0.4, \"#fde0ef\"], [0.5, \"#f7f7f7\"], [0.6, \"#e6f5d0\"], [0.7, \"#b8e186\"], [0.8, \"#7fbc41\"], [0.9, \"#4d9221\"], [1, \"#276419\"]], \"sequential\": [[0.0, \"#0d0887\"], [0.1111111111111111, \"#46039f\"], [0.2222222222222222, \"#7201a8\"], [0.3333333333333333, \"#9c179e\"], [0.4444444444444444, \"#bd3786\"], [0.5555555555555556, \"#d8576b\"], [0.6666666666666666, \"#ed7953\"], [0.7777777777777778, \"#fb9f3a\"], [0.8888888888888888, \"#fdca26\"], [1.0, \"#f0f921\"]], \"sequentialminus\": [[0.0, \"#0d0887\"], [0.1111111111111111, \"#46039f\"], [0.2222222222222222, \"#7201a8\"], [0.3333333333333333, \"#9c179e\"], [0.4444444444444444, \"#bd3786\"], [0.5555555555555556, \"#d8576b\"], [0.6666666666666666, \"#ed7953\"], [0.7777777777777778, \"#fb9f3a\"], [0.8888888888888888, \"#fdca26\"], [1.0, \"#f0f921\"]]}, \"colorway\": [\"#636efa\", \"#EF553B\", \"#00cc96\", \"#ab63fa\", \"#FFA15A\", \"#19d3f3\", \"#FF6692\", \"#B6E880\", \"#FF97FF\", \"#FECB52\"], \"font\": {\"color\": \"#2a3f5f\"}, \"geo\": {\"bgcolor\": \"white\", \"lakecolor\": \"white\", \"landcolor\": \"#E5ECF6\", \"showlakes\": true, \"showland\": true, \"subunitcolor\": \"white\"}, \"hoverlabel\": {\"align\": \"left\"}, \"hovermode\": \"closest\", \"mapbox\": {\"style\": \"light\"}, \"paper_bgcolor\": \"white\", \"plot_bgcolor\": \"#E5ECF6\", \"polar\": {\"angularaxis\": {\"gridcolor\": \"white\", \"linecolor\": \"white\", \"ticks\": \"\"}, \"bgcolor\": \"#E5ECF6\", \"radialaxis\": {\"gridcolor\": \"white\", \"linecolor\": \"white\", \"ticks\": \"\"}}, \"scene\": {\"xaxis\": {\"backgroundcolor\": \"#E5ECF6\", \"gridcolor\": \"white\", \"gridwidth\": 2, \"linecolor\": \"white\", \"showbackground\": true, \"ticks\": \"\", \"zerolinecolor\": \"white\"}, \"yaxis\": {\"backgroundcolor\": \"#E5ECF6\", \"gridcolor\": \"white\", \"gridwidth\": 2, \"linecolor\": \"white\", \"showbackground\": true, \"ticks\": \"\", \"zerolinecolor\": \"white\"}, \"zaxis\": {\"backgroundcolor\": \"#E5ECF6\", \"gridcolor\": \"white\", \"gridwidth\": 2, \"linecolor\": \"white\", \"showbackground\": true, \"ticks\": \"\", \"zerolinecolor\": \"white\"}}, \"shapedefaults\": {\"line\": {\"color\": \"#2a3f5f\"}}, \"ternary\": {\"aaxis\": {\"gridcolor\": \"white\", \"linecolor\": \"white\", \"ticks\": \"\"}, \"baxis\": {\"gridcolor\": \"white\", \"linecolor\": \"white\", \"ticks\": \"\"}, \"bgcolor\": \"#E5ECF6\", \"caxis\": {\"gridcolor\": \"white\", \"linecolor\": \"white\", \"ticks\": \"\"}}, \"title\": {\"x\": 0.05}, \"xaxis\": {\"automargin\": true, \"gridcolor\": \"white\", \"linecolor\": \"white\", \"ticks\": \"\", \"title\": {\"standoff\": 15}, \"zerolinecolor\": \"white\", \"zerolinewidth\": 2}, \"yaxis\": {\"automargin\": true, \"gridcolor\": \"white\", \"linecolor\": \"white\", \"ticks\": \"\", \"title\": {\"standoff\": 15}, \"zerolinecolor\": \"white\", \"zerolinewidth\": 2}}}},\n",
       "                        {\"responsive\": true}\n",
       "                    ).then(function(){\n",
       "                            \n",
       "var gd = document.getElementById('2cb4918f-bac2-4142-b005-c6692b67d394');\n",
       "var x = new MutationObserver(function (mutations, observer) {{\n",
       "        var display = window.getComputedStyle(gd).display;\n",
       "        if (!display || display === 'none') {{\n",
       "            console.log([gd, 'removed!']);\n",
       "            Plotly.purge(gd);\n",
       "            observer.disconnect();\n",
       "        }}\n",
       "}});\n",
       "\n",
       "// Listen for the removal of the full notebook cells\n",
       "var notebookContainer = gd.closest('#notebook-container');\n",
       "if (notebookContainer) {{\n",
       "    x.observe(notebookContainer, {childList: true});\n",
       "}}\n",
       "\n",
       "// Listen for the clearing of the current output cell\n",
       "var outputEl = gd.closest('.output');\n",
       "if (outputEl) {{\n",
       "    x.observe(outputEl, {childList: true});\n",
       "}}\n",
       "\n",
       "                        })\n",
       "                };\n",
       "                });\n",
       "            </script>\n",
       "        </div>"
      ]
     },
     "metadata": {},
     "output_type": "display_data"
    }
   ],
   "source": [
    "fig=px.pie(brazil_fertilizers,values='Value',names='Item')\n",
    "fig.update(layout_showlegend=False)\n",
    "iplot(fig)"
   ]
  },
  {
   "cell_type": "code",
   "execution_count": 178,
   "metadata": {},
   "outputs": [
    {
     "data": {
      "application/vnd.plotly.v1+json": {
       "config": {
        "linkText": "Export to plot.ly",
        "plotlyServerURL": "https://plot.ly",
        "showLink": false
       },
       "data": [
        {
         "domain": {
          "x": [
           0,
           1
          ],
          "y": [
           0,
           1
          ]
         },
         "hovertemplate": "Item=%{label}<br>Value=%{value}<extra></extra>",
         "labels": [
          "Ammonia, anhydrous",
          "Ammonia, anhydrous",
          "Ammonia, anhydrous",
          "Ammonia, anhydrous",
          "Ammonia, anhydrous",
          "Ammonia, anhydrous",
          "Ammonia, anhydrous",
          "Ammonia, anhydrous",
          "Ammonia, anhydrous",
          "Ammonia, anhydrous",
          "Ammonia, anhydrous",
          "Ammonia, anhydrous",
          "Ammonia, anhydrous",
          "Ammonia, anhydrous",
          "Ammonia, anhydrous",
          "Ammonia, anhydrous",
          "Ammonia, anhydrous",
          "Ammonia, anhydrous",
          "Ammonia, anhydrous",
          "Ammonia, anhydrous",
          "Ammonia, anhydrous",
          "Ammonia, anhydrous",
          "Ammonia, anhydrous",
          "Ammonia, anhydrous",
          "Ammonia, anhydrous",
          "Ammonia, anhydrous",
          "Ammonia, anhydrous",
          "Ammonia, anhydrous",
          "Ammonia, anhydrous",
          "Ammonia, anhydrous",
          "Ammonia, anhydrous",
          "Ammonia, anhydrous",
          "Ammonium nitrate (AN)",
          "Ammonium nitrate (AN)",
          "Ammonium nitrate (AN)",
          "Ammonium nitrate (AN)",
          "Ammonium nitrate (AN)",
          "Ammonium nitrate (AN)",
          "Ammonium nitrate (AN)",
          "Ammonium nitrate (AN)",
          "Ammonium nitrate (AN)",
          "Ammonium nitrate (AN)",
          "Ammonium nitrate (AN)",
          "Ammonium nitrate (AN)",
          "Ammonium nitrate (AN)",
          "Ammonium nitrate (AN)",
          "Ammonium nitrate (AN)",
          "Ammonium nitrate (AN)",
          "Ammonium nitrate (AN)",
          "Ammonium nitrate (AN)",
          "Ammonium nitrate (AN)",
          "Ammonium nitrate (AN)",
          "Ammonium nitrate (AN)",
          "Ammonium nitrate (AN)",
          "Ammonium nitrate (AN)",
          "Ammonium nitrate (AN)",
          "Ammonium nitrate (AN)",
          "Ammonium nitrate (AN)",
          "Ammonium nitrate (AN)",
          "Ammonium nitrate (AN)",
          "Ammonium nitrate (AN)",
          "Ammonium nitrate (AN)",
          "Ammonium nitrate (AN)",
          "Ammonium nitrate (AN)",
          "Ammonium sulphate",
          "Ammonium sulphate",
          "Ammonium sulphate",
          "Ammonium sulphate",
          "Ammonium sulphate",
          "Ammonium sulphate",
          "Ammonium sulphate",
          "Ammonium sulphate",
          "Ammonium sulphate",
          "Ammonium sulphate",
          "Ammonium sulphate",
          "Ammonium sulphate",
          "Ammonium sulphate",
          "Ammonium sulphate",
          "Ammonium sulphate",
          "Ammonium sulphate",
          "Ammonium sulphate",
          "Ammonium sulphate",
          "Ammonium sulphate",
          "Ammonium sulphate",
          "Ammonium sulphate",
          "Ammonium sulphate",
          "Ammonium sulphate",
          "Ammonium sulphate",
          "Ammonium sulphate",
          "Ammonium sulphate",
          "Ammonium sulphate",
          "Ammonium sulphate",
          "Ammonium sulphate",
          "Ammonium sulphate",
          "Ammonium sulphate",
          "Ammonium sulphate",
          "Calcium ammonium nitrate (CAN) and other mixtures with calcium carbonate",
          "Calcium ammonium nitrate (CAN) and other mixtures with calcium carbonate",
          "Calcium ammonium nitrate (CAN) and other mixtures with calcium carbonate",
          "Calcium ammonium nitrate (CAN) and other mixtures with calcium carbonate",
          "Calcium ammonium nitrate (CAN) and other mixtures with calcium carbonate",
          "Calcium ammonium nitrate (CAN) and other mixtures with calcium carbonate",
          "Calcium ammonium nitrate (CAN) and other mixtures with calcium carbonate",
          "Calcium ammonium nitrate (CAN) and other mixtures with calcium carbonate",
          "Calcium ammonium nitrate (CAN) and other mixtures with calcium carbonate",
          "Calcium ammonium nitrate (CAN) and other mixtures with calcium carbonate",
          "Calcium ammonium nitrate (CAN) and other mixtures with calcium carbonate",
          "Calcium ammonium nitrate (CAN) and other mixtures with calcium carbonate",
          "Calcium ammonium nitrate (CAN) and other mixtures with calcium carbonate",
          "Calcium ammonium nitrate (CAN) and other mixtures with calcium carbonate",
          "Calcium ammonium nitrate (CAN) and other mixtures with calcium carbonate",
          "Calcium ammonium nitrate (CAN) and other mixtures with calcium carbonate",
          "Calcium ammonium nitrate (CAN) and other mixtures with calcium carbonate",
          "Calcium ammonium nitrate (CAN) and other mixtures with calcium carbonate",
          "Calcium ammonium nitrate (CAN) and other mixtures with calcium carbonate",
          "Calcium ammonium nitrate (CAN) and other mixtures with calcium carbonate",
          "Calcium ammonium nitrate (CAN) and other mixtures with calcium carbonate",
          "Calcium ammonium nitrate (CAN) and other mixtures with calcium carbonate",
          "Calcium ammonium nitrate (CAN) and other mixtures with calcium carbonate",
          "Diammonium phosphate (DAP)",
          "Diammonium phosphate (DAP)",
          "Diammonium phosphate (DAP)",
          "Diammonium phosphate (DAP)",
          "Diammonium phosphate (DAP)",
          "Diammonium phosphate (DAP)",
          "Diammonium phosphate (DAP)",
          "Diammonium phosphate (DAP)",
          "Diammonium phosphate (DAP)",
          "Diammonium phosphate (DAP)",
          "Diammonium phosphate (DAP)",
          "Diammonium phosphate (DAP)",
          "Diammonium phosphate (DAP)",
          "Diammonium phosphate (DAP)",
          "Diammonium phosphate (DAP)",
          "Diammonium phosphate (DAP)",
          "Diammonium phosphate (DAP)",
          "Diammonium phosphate (DAP)",
          "Diammonium phosphate (DAP)",
          "Diammonium phosphate (DAP)",
          "Diammonium phosphate (DAP)",
          "Diammonium phosphate (DAP)",
          "Diammonium phosphate (DAP)",
          "Diammonium phosphate (DAP)",
          "Diammonium phosphate (DAP)",
          "Diammonium phosphate (DAP)",
          "Diammonium phosphate (DAP)",
          "Diammonium phosphate (DAP)",
          "Diammonium phosphate (DAP)",
          "Diammonium phosphate (DAP)",
          "Diammonium phosphate (DAP)",
          "Diammonium phosphate (DAP)",
          "Fertilizers n.e.c.",
          "Fertilizers n.e.c.",
          "Fertilizers n.e.c.",
          "Fertilizers n.e.c.",
          "Fertilizers n.e.c.",
          "Fertilizers n.e.c.",
          "Fertilizers n.e.c.",
          "Fertilizers n.e.c.",
          "Fertilizers n.e.c.",
          "Fertilizers n.e.c.",
          "Fertilizers n.e.c.",
          "Fertilizers n.e.c.",
          "Fertilizers n.e.c.",
          "Fertilizers n.e.c.",
          "Fertilizers n.e.c.",
          "Fertilizers n.e.c.",
          "Fertilizers n.e.c.",
          "Fertilizers n.e.c.",
          "Fertilizers n.e.c.",
          "Fertilizers n.e.c.",
          "Fertilizers n.e.c.",
          "Fertilizers n.e.c.",
          "Fertilizers n.e.c.",
          "Fertilizers n.e.c.",
          "Fertilizers n.e.c.",
          "Fertilizers n.e.c.",
          "Fertilizers n.e.c.",
          "Fertilizers n.e.c.",
          "Fertilizers n.e.c.",
          "Fertilizers n.e.c.",
          "Fertilizers n.e.c.",
          "Fertilizers n.e.c.",
          "Monoammonium phosphate (MAP)",
          "Monoammonium phosphate (MAP)",
          "Monoammonium phosphate (MAP)",
          "Monoammonium phosphate (MAP)",
          "Monoammonium phosphate (MAP)",
          "Monoammonium phosphate (MAP)",
          "Monoammonium phosphate (MAP)",
          "Monoammonium phosphate (MAP)",
          "Monoammonium phosphate (MAP)",
          "Monoammonium phosphate (MAP)",
          "Monoammonium phosphate (MAP)",
          "Monoammonium phosphate (MAP)",
          "Monoammonium phosphate (MAP)",
          "Monoammonium phosphate (MAP)",
          "Monoammonium phosphate (MAP)",
          "Monoammonium phosphate (MAP)",
          "Monoammonium phosphate (MAP)",
          "Monoammonium phosphate (MAP)",
          "Monoammonium phosphate (MAP)",
          "Monoammonium phosphate (MAP)",
          "Monoammonium phosphate (MAP)",
          "Monoammonium phosphate (MAP)",
          "Monoammonium phosphate (MAP)",
          "Monoammonium phosphate (MAP)",
          "Monoammonium phosphate (MAP)",
          "Monoammonium phosphate (MAP)",
          "Monoammonium phosphate (MAP)",
          "Monoammonium phosphate (MAP)",
          "Monoammonium phosphate (MAP)",
          "Monoammonium phosphate (MAP)",
          "Monoammonium phosphate (MAP)",
          "Monoammonium phosphate (MAP)",
          "NPK fertilizers",
          "NPK fertilizers",
          "NPK fertilizers",
          "NPK fertilizers",
          "NPK fertilizers",
          "NPK fertilizers",
          "NPK fertilizers",
          "NPK fertilizers",
          "NPK fertilizers",
          "NPK fertilizers",
          "NPK fertilizers",
          "NPK fertilizers",
          "NPK fertilizers",
          "NPK fertilizers",
          "NPK fertilizers",
          "NPK fertilizers",
          "NPK fertilizers",
          "NPK fertilizers",
          "NPK fertilizers",
          "NPK fertilizers",
          "NPK fertilizers",
          "NPK fertilizers",
          "NPK fertilizers",
          "NPK fertilizers",
          "NPK fertilizers",
          "NPK fertilizers",
          "NPK fertilizers",
          "NPK fertilizers",
          "NPK fertilizers",
          "NPK fertilizers",
          "NPK fertilizers",
          "NPK fertilizers",
          "Other nitrogenous fertilizers, n.e.c.",
          "Other nitrogenous fertilizers, n.e.c.",
          "Other nitrogenous fertilizers, n.e.c.",
          "Other nitrogenous fertilizers, n.e.c.",
          "Other nitrogenous fertilizers, n.e.c.",
          "Other nitrogenous fertilizers, n.e.c.",
          "Other nitrogenous fertilizers, n.e.c.",
          "Other nitrogenous fertilizers, n.e.c.",
          "Other nitrogenous fertilizers, n.e.c.",
          "Other nitrogenous fertilizers, n.e.c.",
          "Other nitrogenous fertilizers, n.e.c.",
          "Other nitrogenous fertilizers, n.e.c.",
          "Other nitrogenous fertilizers, n.e.c.",
          "Other nitrogenous fertilizers, n.e.c.",
          "Other nitrogenous fertilizers, n.e.c.",
          "Other nitrogenous fertilizers, n.e.c.",
          "Other nitrogenous fertilizers, n.e.c.",
          "Other nitrogenous fertilizers, n.e.c.",
          "Other nitrogenous fertilizers, n.e.c.",
          "Other nitrogenous fertilizers, n.e.c.",
          "Other nitrogenous fertilizers, n.e.c.",
          "Other nitrogenous fertilizers, n.e.c.",
          "Other nitrogenous fertilizers, n.e.c.",
          "Other nitrogenous fertilizers, n.e.c.",
          "Other nitrogenous fertilizers, n.e.c.",
          "Other nitrogenous fertilizers, n.e.c.",
          "Other nitrogenous fertilizers, n.e.c.",
          "Other nitrogenous fertilizers, n.e.c.",
          "Other nitrogenous fertilizers, n.e.c.",
          "Other nitrogenous fertilizers, n.e.c.",
          "Other nitrogenous fertilizers, n.e.c.",
          "Other nitrogenous fertilizers, n.e.c.",
          "Other NP compounds",
          "Other NP compounds",
          "Other NP compounds",
          "Other NP compounds",
          "Other NP compounds",
          "Other NP compounds",
          "Other NP compounds",
          "Other NP compounds",
          "Other NP compounds",
          "Other NP compounds",
          "Other NP compounds",
          "Other NP compounds",
          "Other NP compounds",
          "Other NP compounds",
          "Other NP compounds",
          "Other NP compounds",
          "Other NP compounds",
          "Other NP compounds",
          "Other NP compounds",
          "Other NP compounds",
          "Other NP compounds",
          "Other NP compounds",
          "Other NP compounds",
          "Other NP compounds",
          "Other NP compounds",
          "Other NP compounds",
          "Other NP compounds",
          "Other NP compounds",
          "Other NP compounds",
          "Other NP compounds",
          "Other NP compounds",
          "Other NP compounds",
          "Other phosphatic fertilizers, n.e.c.",
          "Other phosphatic fertilizers, n.e.c.",
          "Other phosphatic fertilizers, n.e.c.",
          "Other phosphatic fertilizers, n.e.c.",
          "Other phosphatic fertilizers, n.e.c.",
          "Other phosphatic fertilizers, n.e.c.",
          "Other phosphatic fertilizers, n.e.c.",
          "Other phosphatic fertilizers, n.e.c.",
          "Other phosphatic fertilizers, n.e.c.",
          "Other phosphatic fertilizers, n.e.c.",
          "Other phosphatic fertilizers, n.e.c.",
          "Other phosphatic fertilizers, n.e.c.",
          "Other phosphatic fertilizers, n.e.c.",
          "Other phosphatic fertilizers, n.e.c.",
          "Other phosphatic fertilizers, n.e.c.",
          "Other phosphatic fertilizers, n.e.c.",
          "Other phosphatic fertilizers, n.e.c.",
          "Other phosphatic fertilizers, n.e.c.",
          "Other phosphatic fertilizers, n.e.c.",
          "Other phosphatic fertilizers, n.e.c.",
          "Other phosphatic fertilizers, n.e.c.",
          "Other phosphatic fertilizers, n.e.c.",
          "Other phosphatic fertilizers, n.e.c.",
          "Other phosphatic fertilizers, n.e.c.",
          "Other phosphatic fertilizers, n.e.c.",
          "Other phosphatic fertilizers, n.e.c.",
          "Other phosphatic fertilizers, n.e.c.",
          "Other phosphatic fertilizers, n.e.c.",
          "Other phosphatic fertilizers, n.e.c.",
          "Other phosphatic fertilizers, n.e.c.",
          "Other phosphatic fertilizers, n.e.c.",
          "Other phosphatic fertilizers, n.e.c.",
          "Other potassic fertilizers, n.e.c.",
          "Other potassic fertilizers, n.e.c.",
          "Other potassic fertilizers, n.e.c.",
          "Other potassic fertilizers, n.e.c.",
          "Other potassic fertilizers, n.e.c.",
          "Other potassic fertilizers, n.e.c.",
          "Other potassic fertilizers, n.e.c.",
          "Other potassic fertilizers, n.e.c.",
          "Other potassic fertilizers, n.e.c.",
          "Other potassic fertilizers, n.e.c.",
          "Other potassic fertilizers, n.e.c.",
          "Other potassic fertilizers, n.e.c.",
          "Other potassic fertilizers, n.e.c.",
          "Other potassic fertilizers, n.e.c.",
          "Other potassic fertilizers, n.e.c.",
          "Other potassic fertilizers, n.e.c.",
          "Other potassic fertilizers, n.e.c.",
          "Other potassic fertilizers, n.e.c.",
          "Other potassic fertilizers, n.e.c.",
          "Other potassic fertilizers, n.e.c.",
          "Other potassic fertilizers, n.e.c.",
          "Other potassic fertilizers, n.e.c.",
          "Other potassic fertilizers, n.e.c.",
          "Other potassic fertilizers, n.e.c.",
          "Other potassic fertilizers, n.e.c.",
          "Other potassic fertilizers, n.e.c.",
          "Other potassic fertilizers, n.e.c.",
          "Other potassic fertilizers, n.e.c.",
          "Other potassic fertilizers, n.e.c.",
          "Other potassic fertilizers, n.e.c.",
          "Other potassic fertilizers, n.e.c.",
          "Other potassic fertilizers, n.e.c.",
          "Phosphate rock",
          "Phosphate rock",
          "Phosphate rock",
          "Phosphate rock",
          "Phosphate rock",
          "Phosphate rock",
          "Phosphate rock",
          "Phosphate rock",
          "Phosphate rock",
          "Phosphate rock",
          "Phosphate rock",
          "Phosphate rock",
          "Phosphate rock",
          "Phosphate rock",
          "Phosphate rock",
          "Phosphate rock",
          "Phosphate rock",
          "Phosphate rock",
          "Phosphate rock",
          "Phosphate rock",
          "Phosphate rock",
          "Phosphate rock",
          "Phosphate rock",
          "Phosphate rock",
          "Phosphate rock",
          "Phosphate rock",
          "Phosphate rock",
          "Phosphate rock",
          "Phosphate rock",
          "Phosphate rock",
          "Phosphate rock",
          "Phosphate rock",
          "PK compounds",
          "PK compounds",
          "PK compounds",
          "PK compounds",
          "PK compounds",
          "PK compounds",
          "PK compounds",
          "PK compounds",
          "PK compounds",
          "PK compounds",
          "PK compounds",
          "PK compounds",
          "PK compounds",
          "PK compounds",
          "PK compounds",
          "PK compounds",
          "PK compounds",
          "PK compounds",
          "PK compounds",
          "PK compounds",
          "PK compounds",
          "PK compounds",
          "PK compounds",
          "PK compounds",
          "PK compounds",
          "PK compounds",
          "PK compounds",
          "PK compounds",
          "PK compounds",
          "PK compounds",
          "PK compounds",
          "PK compounds",
          "Potassium chloride (muriate of potash) (MOP)",
          "Potassium chloride (muriate of potash) (MOP)",
          "Potassium chloride (muriate of potash) (MOP)",
          "Potassium chloride (muriate of potash) (MOP)",
          "Potassium chloride (muriate of potash) (MOP)",
          "Potassium chloride (muriate of potash) (MOP)",
          "Potassium chloride (muriate of potash) (MOP)",
          "Potassium chloride (muriate of potash) (MOP)",
          "Potassium chloride (muriate of potash) (MOP)",
          "Potassium chloride (muriate of potash) (MOP)",
          "Potassium chloride (muriate of potash) (MOP)",
          "Potassium chloride (muriate of potash) (MOP)",
          "Potassium chloride (muriate of potash) (MOP)",
          "Potassium chloride (muriate of potash) (MOP)",
          "Potassium chloride (muriate of potash) (MOP)",
          "Potassium chloride (muriate of potash) (MOP)",
          "Potassium chloride (muriate of potash) (MOP)",
          "Potassium chloride (muriate of potash) (MOP)",
          "Potassium chloride (muriate of potash) (MOP)",
          "Potassium chloride (muriate of potash) (MOP)",
          "Potassium chloride (muriate of potash) (MOP)",
          "Potassium chloride (muriate of potash) (MOP)",
          "Potassium chloride (muriate of potash) (MOP)",
          "Potassium chloride (muriate of potash) (MOP)",
          "Potassium chloride (muriate of potash) (MOP)",
          "Potassium chloride (muriate of potash) (MOP)",
          "Potassium chloride (muriate of potash) (MOP)",
          "Potassium chloride (muriate of potash) (MOP)",
          "Potassium chloride (muriate of potash) (MOP)",
          "Potassium chloride (muriate of potash) (MOP)",
          "Potassium chloride (muriate of potash) (MOP)",
          "Potassium chloride (muriate of potash) (MOP)",
          "Potassium nitrate",
          "Potassium nitrate",
          "Potassium nitrate",
          "Potassium nitrate",
          "Potassium nitrate",
          "Potassium nitrate",
          "Potassium nitrate",
          "Potassium nitrate",
          "Potassium nitrate",
          "Potassium nitrate",
          "Potassium nitrate",
          "Potassium nitrate",
          "Potassium nitrate",
          "Potassium nitrate",
          "Potassium nitrate",
          "Potassium nitrate",
          "Potassium nitrate",
          "Potassium nitrate",
          "Potassium nitrate",
          "Potassium nitrate",
          "Potassium nitrate",
          "Potassium nitrate",
          "Potassium nitrate",
          "Potassium nitrate",
          "Potassium nitrate",
          "Potassium nitrate",
          "Potassium nitrate",
          "Potassium nitrate",
          "Potassium sulphate (sulphate of potash) (SOP)",
          "Potassium sulphate (sulphate of potash) (SOP)",
          "Potassium sulphate (sulphate of potash) (SOP)",
          "Potassium sulphate (sulphate of potash) (SOP)",
          "Potassium sulphate (sulphate of potash) (SOP)",
          "Potassium sulphate (sulphate of potash) (SOP)",
          "Potassium sulphate (sulphate of potash) (SOP)",
          "Potassium sulphate (sulphate of potash) (SOP)",
          "Potassium sulphate (sulphate of potash) (SOP)",
          "Potassium sulphate (sulphate of potash) (SOP)",
          "Potassium sulphate (sulphate of potash) (SOP)",
          "Potassium sulphate (sulphate of potash) (SOP)",
          "Potassium sulphate (sulphate of potash) (SOP)",
          "Potassium sulphate (sulphate of potash) (SOP)",
          "Potassium sulphate (sulphate of potash) (SOP)",
          "Potassium sulphate (sulphate of potash) (SOP)",
          "Potassium sulphate (sulphate of potash) (SOP)",
          "Potassium sulphate (sulphate of potash) (SOP)",
          "Potassium sulphate (sulphate of potash) (SOP)",
          "Potassium sulphate (sulphate of potash) (SOP)",
          "Potassium sulphate (sulphate of potash) (SOP)",
          "Potassium sulphate (sulphate of potash) (SOP)",
          "Potassium sulphate (sulphate of potash) (SOP)",
          "Potassium sulphate (sulphate of potash) (SOP)",
          "Potassium sulphate (sulphate of potash) (SOP)",
          "Potassium sulphate (sulphate of potash) (SOP)",
          "Potassium sulphate (sulphate of potash) (SOP)",
          "Potassium sulphate (sulphate of potash) (SOP)",
          "Potassium sulphate (sulphate of potash) (SOP)",
          "Potassium sulphate (sulphate of potash) (SOP)",
          "Potassium sulphate (sulphate of potash) (SOP)",
          "Potassium sulphate (sulphate of potash) (SOP)",
          "Sodium nitrate",
          "Sodium nitrate",
          "Sodium nitrate",
          "Sodium nitrate",
          "Sodium nitrate",
          "Sodium nitrate",
          "Sodium nitrate",
          "Sodium nitrate",
          "Sodium nitrate",
          "Sodium nitrate",
          "Sodium nitrate",
          "Sodium nitrate",
          "Sodium nitrate",
          "Sodium nitrate",
          "Sodium nitrate",
          "Sodium nitrate",
          "Sodium nitrate",
          "Sodium nitrate",
          "Sodium nitrate",
          "Sodium nitrate",
          "Sodium nitrate",
          "Sodium nitrate",
          "Sodium nitrate",
          "Sodium nitrate",
          "Sodium nitrate",
          "Sodium nitrate",
          "Sodium nitrate",
          "Sodium nitrate",
          "Sodium nitrate",
          "Sodium nitrate",
          "Sodium nitrate",
          "Sodium nitrate",
          "Superphosphates above 35%",
          "Superphosphates above 35%",
          "Superphosphates above 35%",
          "Superphosphates above 35%",
          "Superphosphates above 35%",
          "Superphosphates above 35%",
          "Superphosphates above 35%",
          "Superphosphates above 35%",
          "Superphosphates above 35%",
          "Superphosphates above 35%",
          "Superphosphates above 35%",
          "Superphosphates above 35%",
          "Superphosphates above 35%",
          "Superphosphates above 35%",
          "Superphosphates above 35%",
          "Superphosphates above 35%",
          "Superphosphates above 35%",
          "Superphosphates above 35%",
          "Superphosphates above 35%",
          "Superphosphates above 35%",
          "Superphosphates above 35%",
          "Superphosphates above 35%",
          "Superphosphates above 35%",
          "Superphosphates above 35%",
          "Superphosphates above 35%",
          "Superphosphates above 35%",
          "Superphosphates above 35%",
          "Superphosphates above 35%",
          "Superphosphates above 35%",
          "Superphosphates above 35%",
          "Superphosphates above 35%",
          "Superphosphates above 35%",
          "Superphosphates, other",
          "Superphosphates, other",
          "Urea",
          "Urea",
          "Urea",
          "Urea",
          "Urea",
          "Urea",
          "Urea",
          "Urea",
          "Urea",
          "Urea",
          "Urea",
          "Urea",
          "Urea",
          "Urea",
          "Urea",
          "Urea",
          "Urea",
          "Urea",
          "Urea",
          "Urea",
          "Urea",
          "Urea",
          "Urea",
          "Urea",
          "Urea",
          "Urea",
          "Urea",
          "Urea",
          "Urea",
          "Urea",
          "Urea",
          "Urea",
          "Urea and ammonium nitrate solutions (UAN)",
          "Urea and ammonium nitrate solutions (UAN)",
          "Urea and ammonium nitrate solutions (UAN)",
          "Urea and ammonium nitrate solutions (UAN)",
          "Urea and ammonium nitrate solutions (UAN)",
          "Urea and ammonium nitrate solutions (UAN)",
          "Urea and ammonium nitrate solutions (UAN)",
          "Urea and ammonium nitrate solutions (UAN)",
          "Urea and ammonium nitrate solutions (UAN)",
          "Urea and ammonium nitrate solutions (UAN)",
          "Urea and ammonium nitrate solutions (UAN)",
          "Urea and ammonium nitrate solutions (UAN)",
          "Urea and ammonium nitrate solutions (UAN)",
          "Urea and ammonium nitrate solutions (UAN)",
          "Urea and ammonium nitrate solutions (UAN)",
          "Urea and ammonium nitrate solutions (UAN)",
          "Urea and ammonium nitrate solutions (UAN)",
          "Urea and ammonium nitrate solutions (UAN)",
          "Urea and ammonium nitrate solutions (UAN)",
          "Urea and ammonium nitrate solutions (UAN)",
          "Urea and ammonium nitrate solutions (UAN)"
         ],
         "legendgroup": "",
         "name": "",
         "showlegend": true,
         "type": "pie",
         "values": [
          33250.75,
          60289.16,
          62854.72,
          74365.34,
          80488.66,
          110233.34,
          197813.67,
          93803.29,
          138353.75,
          185023.6,
          230969.76,
          174069.98,
          181549.83,
          155349.85,
          92725.19,
          68438.76,
          40.9,
          29.69,
          54.9,
          109.92,
          133.25,
          5622.3,
          11669.38,
          4362.77,
          14383.79,
          13896.88,
          15294.47,
          9982.94,
          13260.32,
          14903.97,
          24739.58,
          14128.06,
          57443.38,
          49509.58,
          35650.22,
          44056.22,
          61942.11,
          187656.68,
          324408.07,
          170525.93,
          221433.85,
          505623.13,
          417433.41,
          414275.25,
          319891.31,
          258407.76,
          214970.74,
          252940.19,
          5629.28,
          5847.59,
          7887.31,
          9131.72,
          6313.45,
          4423.39,
          6691.41,
          6470.66,
          4696.89,
          2171.27,
          1637.49,
          1319.06,
          495.65,
          200.19,
          967.4,
          809.71,
          80190.66,
          122471.22,
          177858.09,
          157054.7,
          185530.83,
          331165.06,
          499495.1,
          188739.72,
          229865.4,
          474548.65,
          422719.23,
          408204.79,
          322452.96,
          307150.92,
          328063.06,
          295007.4,
          374.63,
          365,
          296.5,
          768.91,
          906.55,
          1115.52,
          1465.03,
          818.3,
          834.92,
          1667.31,
          485.31,
          1486.94,
          1398.85,
          1657.8,
          1112.71,
          990.46,
          49.04,
          415.72,
          67.05,
          7840.97,
          5239.48,
          5682.01,
          24447,
          62493.45,
          81940.9,
          57654.11,
          61520.04,
          48699.89,
          48368.86,
          55099.15,
          0.27,
          0.07,
          327.6,
          1669.94,
          1217.44,
          743.27,
          407.88,
          259.57,
          27.6,
          24666.32,
          41662.04,
          64517.83,
          59354.22,
          67201.81,
          209758.46,
          449911.23,
          111564.06,
          150312.24,
          296005.05,
          322796.42,
          424152.53,
          333202.45,
          188622.08,
          159848.86,
          153585.04,
          2874.69,
          3278.49,
          3767.58,
          4424.72,
          3942.39,
          4055.91,
          2859.6,
          13601.49,
          5020.71,
          2029.36,
          5103.07,
          3823.08,
          3764.48,
          1989.6,
          820.5,
          400.72,
          35458.04,
          37893.84,
          50680.05,
          46245.1,
          50967.53,
          52444.79,
          99587.94,
          99952.11,
          85404.47,
          105810.24,
          134103.86,
          140783.6,
          110676.49,
          84840.53,
          91903.16,
          108925.91,
          3797.09,
          5518.67,
          4988.33,
          3753.14,
          3465.25,
          5101.2,
          13814.57,
          10654.34,
          12571.88,
          18825.12,
          15571.18,
          20769.33,
          18036.98,
          23986.58,
          21258.87,
          23732.01,
          224410.95,
          339541.09,
          496100.35,
          322758.59,
          309373.36,
          678633.14,
          1159291.17,
          282764.4,
          561386.33,
          1350224.27,
          1019564.45,
          1253558.38,
          1384705.38,
          1080444.93,
          977918.09,
          1286621.19,
          88.38,
          189.14,
          1178.72,
          85.83,
          32.74,
          130.18,
          8.39,
          862.38,
          306.29,
          688.78,
          1120.86,
          2002.8,
          1801.84,
          1302.44,
          2157.76,
          2718.2,
          3526.33,
          5559.96,
          16660.43,
          5589.57,
          11729.21,
          31353.75,
          206024.09,
          72125.81,
          101980.94,
          213506.5,
          248757.27,
          199321.32,
          230527.16,
          166320.77,
          254751.32,
          298016.37,
          27891.37,
          41954.94,
          59388.02,
          61244.58,
          67328.27,
          124330.93,
          207749.78,
          109799.79,
          151781.02,
          206387.83,
          201514.86,
          254046.1,
          237618.76,
          188653.72,
          108072.83,
          99615.24,
          6307.59,
          8619.37,
          8586.92,
          10845.4,
          11084.68,
          18228.8,
          28631.31,
          22776.43,
          28281.93,
          42996.1,
          45285.12,
          53922.51,
          75445.49,
          81095.74,
          95853.88,
          120001.3,
          7353.83,
          9842.63,
          28505.31,
          20209.29,
          19874.63,
          11854.54,
          16458.41,
          7520.91,
          12132.1,
          16275.19,
          8637.77,
          10878.58,
          9507.89,
          7080.6,
          7638.68,
          9570.83,
          34581.61,
          70444.2,
          139144.44,
          108447.35,
          120568.06,
          274759.05,
          435930.33,
          76828.67,
          163101.07,
          517176.33,
          407412.79,
          603861.77,
          687866.63,
          504551.5,
          566518.79,
          712175.75,
          1935,
          3119.92,
          7239.93,
          6909.19,
          6016.46,
          13679.66,
          27723.97,
          13434.78,
          22490.6,
          30681.5,
          23100.03,
          27094.39,
          23396.76,
          19464.81,
          19829.24,
          17763.75,
          777.99,
          737.99,
          190.3,
          70.27,
          56.23,
          34.04,
          16060.99,
          241.24,
          404.6,
          715.24,
          5053.81,
          662,
          2453.28,
          538.28,
          376.92,
          243.63,
          101.17,
          340.94,
          772.98,
          1311.22,
          2099.21,
          5462.59,
          7470.72,
          2878.71,
          6290.71,
          5487.01,
          3558.09,
          6847.77,
          7072.31,
          2150.4,
          1701.86,
          2283.31,
          87.08,
          598.79,
          1008.32,
          1160.29,
          1528,
          1689.02,
          3345.7,
          5027.3,
          7793.27,
          10368.02,
          10275.06,
          7857.29,
          5776.81,
          11272.52,
          12754.87,
          22160.5,
          171.46,
          118.56,
          138.22,
          104.13,
          190.25,
          234.46,
          313.73,
          248.3,
          388.92,
          851.12,
          918.69,
          844.21,
          1235.46,
          850.71,
          577.35,
          439.78,
          48037.84,
          50880.54,
          74754.76,
          59894.72,
          66976.1,
          104625.58,
          311677.63,
          83805.55,
          134704.22,
          206567.41,
          205477.1,
          219946.46,
          188027.72,
          205673.51,
          152517.93,
          147926.52,
          57.38,
          184.11,
          67.69,
          23.81,
          70.2,
          140.89,
          356.67,
          0.9,
          473.02,
          435.8,
          319.3,
          130.7,
          159.41,
          3.15,
          0.44,
          4.17,
          1234.58,
          1002.16,
          1636.49,
          1810.24,
          2213.94,
          2367.64,
          6098.09,
          2239.02,
          3159.87,
          6003.8,
          5066.98,
          7107.06,
          7411.15,
          6800.27,
          6548.46,
          8656.77,
          16922.81,
          33989.45,
          51987.47,
          42305.6,
          46126.87,
          72446.44,
          130253.87,
          45075.3,
          57965.86,
          60634.54,
          34225.27,
          34338.67,
          19054.48,
          8754.68,
          3865.39,
          5489.67,
          529949.75,
          624437.27,
          980768.59,
          959563.19,
          950346.82,
          1500130.51,
          3828779.3,
          2079147.37,
          2234386.1,
          3503286.79,
          3512828.84,
          3324578.26,
          2897139.53,
          2513959.66,
          1990909.3,
          2394045.19,
          309.45,
          596.65,
          983.02,
          877.88,
          1544.88,
          4774.67,
          11839.53,
          9312.1,
          9863,
          8638.04,
          7545.55,
          17450.35,
          11218.56,
          10378.37,
          5757.36,
          4072.33,
          8072.37,
          9220.63,
          9750.56,
          12138.92,
          9268.37,
          9398.83,
          22459.05,
          19947.49,
          6395.91,
          7533.47,
          13632.66,
          9544.07,
          9779.47,
          6543.64,
          3846.15,
          3217.88,
          0.01,
          0.16,
          5.61,
          0.87,
          0.28,
          0.92,
          0.38,
          0.58,
          3.2,
          10.13,
          137.79,
          179.18,
          14082.97,
          12818.53,
          19019.42,
          14837.17,
          16680.96,
          11377.2,
          25275.02,
          28510.27,
          21153.9,
          19359.33,
          26666.02,
          23709.37,
          31297.86,
          30118.16,
          25400.75,
          21908.91,
          5.72,
          8.36,
          0.09,
          0.04,
          0.56,
          64.8,
          617.09,
          531.38,
          740.64,
          1362.27,
          777.21,
          1154.55,
          1235.98,
          710.8,
          1008.09,
          1261.56,
          2017.63,
          3076.58,
          3475.53,
          3616.91,
          3918.08,
          4917.85,
          9186.99,
          7873.71,
          7726.4,
          7613.81,
          9309.89,
          9589.28,
          9081.76,
          10196.18,
          5804.08,
          5286.38,
          0.27,
          0,
          0.17,
          4.26,
          0.01,
          6.19,
          1.65,
          100.86,
          96.36,
          25.82,
          365.88,
          105.57,
          151.46,
          470.53,
          325.12,
          438.15,
          95326.88,
          147204.65,
          240767.86,
          176413.31,
          199321.66,
          450354.2,
          981034.29,
          235862.69,
          389999.12,
          699130.65,
          610410.72,
          638448.46,
          460675.25,
          406495.57,
          302325.6,
          207676.85,
          4616.8,
          6864.55,
          11113.38,
          22420.21,
          17799.44,
          14656.58,
          20416.34,
          16947.77,
          20073.57,
          27236.43,
          11006.41,
          7854.18,
          10731.71,
          5341.02,
          2991.71,
          1159.98,
          86496.91,
          1128.34,
          119722.5,
          247452.97,
          351438.4,
          355849.51,
          364794.35,
          767423.39,
          1227413.66,
          513455.55,
          712075.87,
          1320415.68,
          1288373.66,
          1308255.25,
          1482848.69,
          882144.4,
          903141.9,
          1244561.76,
          8989.1,
          6632.64,
          5145.35,
          14608.74,
          3057.71,
          6803.44,
          10069.05,
          5662.66,
          6379.76,
          6054.79,
          7251.37,
          8499.76,
          8906.54,
          7750.18,
          9068.57,
          8294.3,
          0.05,
          2.54,
          3.38,
          2.59,
          3.18,
          27.95,
          1499.42,
          1697.12,
          2820.48,
          0.08,
          371.54,
          1193.28,
          521.8,
          602.03,
          787.41,
          356.41,
          713.26,
          711.13,
          1090.17,
          1920.66,
          1922.86
         ]
        }
       ],
       "layout": {
        "legend": {
         "tracegroupgap": 0
        },
        "margin": {
         "t": 60
        },
        "showlegend": false,
        "template": {
         "data": {
          "bar": [
           {
            "error_x": {
             "color": "#2a3f5f"
            },
            "error_y": {
             "color": "#2a3f5f"
            },
            "marker": {
             "line": {
              "color": "#E5ECF6",
              "width": 0.5
             }
            },
            "type": "bar"
           }
          ],
          "barpolar": [
           {
            "marker": {
             "line": {
              "color": "#E5ECF6",
              "width": 0.5
             }
            },
            "type": "barpolar"
           }
          ],
          "carpet": [
           {
            "aaxis": {
             "endlinecolor": "#2a3f5f",
             "gridcolor": "white",
             "linecolor": "white",
             "minorgridcolor": "white",
             "startlinecolor": "#2a3f5f"
            },
            "baxis": {
             "endlinecolor": "#2a3f5f",
             "gridcolor": "white",
             "linecolor": "white",
             "minorgridcolor": "white",
             "startlinecolor": "#2a3f5f"
            },
            "type": "carpet"
           }
          ],
          "choropleth": [
           {
            "colorbar": {
             "outlinewidth": 0,
             "ticks": ""
            },
            "type": "choropleth"
           }
          ],
          "contour": [
           {
            "colorbar": {
             "outlinewidth": 0,
             "ticks": ""
            },
            "colorscale": [
             [
              0,
              "#0d0887"
             ],
             [
              0.1111111111111111,
              "#46039f"
             ],
             [
              0.2222222222222222,
              "#7201a8"
             ],
             [
              0.3333333333333333,
              "#9c179e"
             ],
             [
              0.4444444444444444,
              "#bd3786"
             ],
             [
              0.5555555555555556,
              "#d8576b"
             ],
             [
              0.6666666666666666,
              "#ed7953"
             ],
             [
              0.7777777777777778,
              "#fb9f3a"
             ],
             [
              0.8888888888888888,
              "#fdca26"
             ],
             [
              1,
              "#f0f921"
             ]
            ],
            "type": "contour"
           }
          ],
          "contourcarpet": [
           {
            "colorbar": {
             "outlinewidth": 0,
             "ticks": ""
            },
            "type": "contourcarpet"
           }
          ],
          "heatmap": [
           {
            "colorbar": {
             "outlinewidth": 0,
             "ticks": ""
            },
            "colorscale": [
             [
              0,
              "#0d0887"
             ],
             [
              0.1111111111111111,
              "#46039f"
             ],
             [
              0.2222222222222222,
              "#7201a8"
             ],
             [
              0.3333333333333333,
              "#9c179e"
             ],
             [
              0.4444444444444444,
              "#bd3786"
             ],
             [
              0.5555555555555556,
              "#d8576b"
             ],
             [
              0.6666666666666666,
              "#ed7953"
             ],
             [
              0.7777777777777778,
              "#fb9f3a"
             ],
             [
              0.8888888888888888,
              "#fdca26"
             ],
             [
              1,
              "#f0f921"
             ]
            ],
            "type": "heatmap"
           }
          ],
          "heatmapgl": [
           {
            "colorbar": {
             "outlinewidth": 0,
             "ticks": ""
            },
            "colorscale": [
             [
              0,
              "#0d0887"
             ],
             [
              0.1111111111111111,
              "#46039f"
             ],
             [
              0.2222222222222222,
              "#7201a8"
             ],
             [
              0.3333333333333333,
              "#9c179e"
             ],
             [
              0.4444444444444444,
              "#bd3786"
             ],
             [
              0.5555555555555556,
              "#d8576b"
             ],
             [
              0.6666666666666666,
              "#ed7953"
             ],
             [
              0.7777777777777778,
              "#fb9f3a"
             ],
             [
              0.8888888888888888,
              "#fdca26"
             ],
             [
              1,
              "#f0f921"
             ]
            ],
            "type": "heatmapgl"
           }
          ],
          "histogram": [
           {
            "marker": {
             "colorbar": {
              "outlinewidth": 0,
              "ticks": ""
             }
            },
            "type": "histogram"
           }
          ],
          "histogram2d": [
           {
            "colorbar": {
             "outlinewidth": 0,
             "ticks": ""
            },
            "colorscale": [
             [
              0,
              "#0d0887"
             ],
             [
              0.1111111111111111,
              "#46039f"
             ],
             [
              0.2222222222222222,
              "#7201a8"
             ],
             [
              0.3333333333333333,
              "#9c179e"
             ],
             [
              0.4444444444444444,
              "#bd3786"
             ],
             [
              0.5555555555555556,
              "#d8576b"
             ],
             [
              0.6666666666666666,
              "#ed7953"
             ],
             [
              0.7777777777777778,
              "#fb9f3a"
             ],
             [
              0.8888888888888888,
              "#fdca26"
             ],
             [
              1,
              "#f0f921"
             ]
            ],
            "type": "histogram2d"
           }
          ],
          "histogram2dcontour": [
           {
            "colorbar": {
             "outlinewidth": 0,
             "ticks": ""
            },
            "colorscale": [
             [
              0,
              "#0d0887"
             ],
             [
              0.1111111111111111,
              "#46039f"
             ],
             [
              0.2222222222222222,
              "#7201a8"
             ],
             [
              0.3333333333333333,
              "#9c179e"
             ],
             [
              0.4444444444444444,
              "#bd3786"
             ],
             [
              0.5555555555555556,
              "#d8576b"
             ],
             [
              0.6666666666666666,
              "#ed7953"
             ],
             [
              0.7777777777777778,
              "#fb9f3a"
             ],
             [
              0.8888888888888888,
              "#fdca26"
             ],
             [
              1,
              "#f0f921"
             ]
            ],
            "type": "histogram2dcontour"
           }
          ],
          "mesh3d": [
           {
            "colorbar": {
             "outlinewidth": 0,
             "ticks": ""
            },
            "type": "mesh3d"
           }
          ],
          "parcoords": [
           {
            "line": {
             "colorbar": {
              "outlinewidth": 0,
              "ticks": ""
             }
            },
            "type": "parcoords"
           }
          ],
          "pie": [
           {
            "automargin": true,
            "type": "pie"
           }
          ],
          "scatter": [
           {
            "marker": {
             "colorbar": {
              "outlinewidth": 0,
              "ticks": ""
             }
            },
            "type": "scatter"
           }
          ],
          "scatter3d": [
           {
            "line": {
             "colorbar": {
              "outlinewidth": 0,
              "ticks": ""
             }
            },
            "marker": {
             "colorbar": {
              "outlinewidth": 0,
              "ticks": ""
             }
            },
            "type": "scatter3d"
           }
          ],
          "scattercarpet": [
           {
            "marker": {
             "colorbar": {
              "outlinewidth": 0,
              "ticks": ""
             }
            },
            "type": "scattercarpet"
           }
          ],
          "scattergeo": [
           {
            "marker": {
             "colorbar": {
              "outlinewidth": 0,
              "ticks": ""
             }
            },
            "type": "scattergeo"
           }
          ],
          "scattergl": [
           {
            "marker": {
             "colorbar": {
              "outlinewidth": 0,
              "ticks": ""
             }
            },
            "type": "scattergl"
           }
          ],
          "scattermapbox": [
           {
            "marker": {
             "colorbar": {
              "outlinewidth": 0,
              "ticks": ""
             }
            },
            "type": "scattermapbox"
           }
          ],
          "scatterpolar": [
           {
            "marker": {
             "colorbar": {
              "outlinewidth": 0,
              "ticks": ""
             }
            },
            "type": "scatterpolar"
           }
          ],
          "scatterpolargl": [
           {
            "marker": {
             "colorbar": {
              "outlinewidth": 0,
              "ticks": ""
             }
            },
            "type": "scatterpolargl"
           }
          ],
          "scatterternary": [
           {
            "marker": {
             "colorbar": {
              "outlinewidth": 0,
              "ticks": ""
             }
            },
            "type": "scatterternary"
           }
          ],
          "surface": [
           {
            "colorbar": {
             "outlinewidth": 0,
             "ticks": ""
            },
            "colorscale": [
             [
              0,
              "#0d0887"
             ],
             [
              0.1111111111111111,
              "#46039f"
             ],
             [
              0.2222222222222222,
              "#7201a8"
             ],
             [
              0.3333333333333333,
              "#9c179e"
             ],
             [
              0.4444444444444444,
              "#bd3786"
             ],
             [
              0.5555555555555556,
              "#d8576b"
             ],
             [
              0.6666666666666666,
              "#ed7953"
             ],
             [
              0.7777777777777778,
              "#fb9f3a"
             ],
             [
              0.8888888888888888,
              "#fdca26"
             ],
             [
              1,
              "#f0f921"
             ]
            ],
            "type": "surface"
           }
          ],
          "table": [
           {
            "cells": {
             "fill": {
              "color": "#EBF0F8"
             },
             "line": {
              "color": "white"
             }
            },
            "header": {
             "fill": {
              "color": "#C8D4E3"
             },
             "line": {
              "color": "white"
             }
            },
            "type": "table"
           }
          ]
         },
         "layout": {
          "annotationdefaults": {
           "arrowcolor": "#2a3f5f",
           "arrowhead": 0,
           "arrowwidth": 1
          },
          "coloraxis": {
           "colorbar": {
            "outlinewidth": 0,
            "ticks": ""
           }
          },
          "colorscale": {
           "diverging": [
            [
             0,
             "#8e0152"
            ],
            [
             0.1,
             "#c51b7d"
            ],
            [
             0.2,
             "#de77ae"
            ],
            [
             0.3,
             "#f1b6da"
            ],
            [
             0.4,
             "#fde0ef"
            ],
            [
             0.5,
             "#f7f7f7"
            ],
            [
             0.6,
             "#e6f5d0"
            ],
            [
             0.7,
             "#b8e186"
            ],
            [
             0.8,
             "#7fbc41"
            ],
            [
             0.9,
             "#4d9221"
            ],
            [
             1,
             "#276419"
            ]
           ],
           "sequential": [
            [
             0,
             "#0d0887"
            ],
            [
             0.1111111111111111,
             "#46039f"
            ],
            [
             0.2222222222222222,
             "#7201a8"
            ],
            [
             0.3333333333333333,
             "#9c179e"
            ],
            [
             0.4444444444444444,
             "#bd3786"
            ],
            [
             0.5555555555555556,
             "#d8576b"
            ],
            [
             0.6666666666666666,
             "#ed7953"
            ],
            [
             0.7777777777777778,
             "#fb9f3a"
            ],
            [
             0.8888888888888888,
             "#fdca26"
            ],
            [
             1,
             "#f0f921"
            ]
           ],
           "sequentialminus": [
            [
             0,
             "#0d0887"
            ],
            [
             0.1111111111111111,
             "#46039f"
            ],
            [
             0.2222222222222222,
             "#7201a8"
            ],
            [
             0.3333333333333333,
             "#9c179e"
            ],
            [
             0.4444444444444444,
             "#bd3786"
            ],
            [
             0.5555555555555556,
             "#d8576b"
            ],
            [
             0.6666666666666666,
             "#ed7953"
            ],
            [
             0.7777777777777778,
             "#fb9f3a"
            ],
            [
             0.8888888888888888,
             "#fdca26"
            ],
            [
             1,
             "#f0f921"
            ]
           ]
          },
          "colorway": [
           "#636efa",
           "#EF553B",
           "#00cc96",
           "#ab63fa",
           "#FFA15A",
           "#19d3f3",
           "#FF6692",
           "#B6E880",
           "#FF97FF",
           "#FECB52"
          ],
          "font": {
           "color": "#2a3f5f"
          },
          "geo": {
           "bgcolor": "white",
           "lakecolor": "white",
           "landcolor": "#E5ECF6",
           "showlakes": true,
           "showland": true,
           "subunitcolor": "white"
          },
          "hoverlabel": {
           "align": "left"
          },
          "hovermode": "closest",
          "mapbox": {
           "style": "light"
          },
          "paper_bgcolor": "white",
          "plot_bgcolor": "#E5ECF6",
          "polar": {
           "angularaxis": {
            "gridcolor": "white",
            "linecolor": "white",
            "ticks": ""
           },
           "bgcolor": "#E5ECF6",
           "radialaxis": {
            "gridcolor": "white",
            "linecolor": "white",
            "ticks": ""
           }
          },
          "scene": {
           "xaxis": {
            "backgroundcolor": "#E5ECF6",
            "gridcolor": "white",
            "gridwidth": 2,
            "linecolor": "white",
            "showbackground": true,
            "ticks": "",
            "zerolinecolor": "white"
           },
           "yaxis": {
            "backgroundcolor": "#E5ECF6",
            "gridcolor": "white",
            "gridwidth": 2,
            "linecolor": "white",
            "showbackground": true,
            "ticks": "",
            "zerolinecolor": "white"
           },
           "zaxis": {
            "backgroundcolor": "#E5ECF6",
            "gridcolor": "white",
            "gridwidth": 2,
            "linecolor": "white",
            "showbackground": true,
            "ticks": "",
            "zerolinecolor": "white"
           }
          },
          "shapedefaults": {
           "line": {
            "color": "#2a3f5f"
           }
          },
          "ternary": {
           "aaxis": {
            "gridcolor": "white",
            "linecolor": "white",
            "ticks": ""
           },
           "baxis": {
            "gridcolor": "white",
            "linecolor": "white",
            "ticks": ""
           },
           "bgcolor": "#E5ECF6",
           "caxis": {
            "gridcolor": "white",
            "linecolor": "white",
            "ticks": ""
           }
          },
          "title": {
           "x": 0.05
          },
          "xaxis": {
           "automargin": true,
           "gridcolor": "white",
           "linecolor": "white",
           "ticks": "",
           "title": {
            "standoff": 15
           },
           "zerolinecolor": "white",
           "zerolinewidth": 2
          },
          "yaxis": {
           "automargin": true,
           "gridcolor": "white",
           "linecolor": "white",
           "ticks": "",
           "title": {
            "standoff": 15
           },
           "zerolinecolor": "white",
           "zerolinewidth": 2
          }
         }
        }
       }
      },
      "text/html": [
       "<div>\n",
       "        \n",
       "        \n",
       "            <div id=\"3879d054-57f8-455a-a500-331ae471877b\" class=\"plotly-graph-div\" style=\"height:525px; width:100%;\"></div>\n",
       "            <script type=\"text/javascript\">\n",
       "                require([\"plotly\"], function(Plotly) {\n",
       "                    window.PLOTLYENV=window.PLOTLYENV || {};\n",
       "                    \n",
       "                if (document.getElementById(\"3879d054-57f8-455a-a500-331ae471877b\")) {\n",
       "                    Plotly.newPlot(\n",
       "                        '3879d054-57f8-455a-a500-331ae471877b',\n",
       "                        [{\"domain\": {\"x\": [0.0, 1.0], \"y\": [0.0, 1.0]}, \"hovertemplate\": \"Item=%{label}<br>Value=%{value}<extra></extra>\", \"labels\": [\"Ammonia, anhydrous\", \"Ammonia, anhydrous\", \"Ammonia, anhydrous\", \"Ammonia, anhydrous\", \"Ammonia, anhydrous\", \"Ammonia, anhydrous\", \"Ammonia, anhydrous\", \"Ammonia, anhydrous\", \"Ammonia, anhydrous\", \"Ammonia, anhydrous\", \"Ammonia, anhydrous\", \"Ammonia, anhydrous\", \"Ammonia, anhydrous\", \"Ammonia, anhydrous\", \"Ammonia, anhydrous\", \"Ammonia, anhydrous\", \"Ammonia, anhydrous\", \"Ammonia, anhydrous\", \"Ammonia, anhydrous\", \"Ammonia, anhydrous\", \"Ammonia, anhydrous\", \"Ammonia, anhydrous\", \"Ammonia, anhydrous\", \"Ammonia, anhydrous\", \"Ammonia, anhydrous\", \"Ammonia, anhydrous\", \"Ammonia, anhydrous\", \"Ammonia, anhydrous\", \"Ammonia, anhydrous\", \"Ammonia, anhydrous\", \"Ammonia, anhydrous\", \"Ammonia, anhydrous\", \"Ammonium nitrate (AN)\", \"Ammonium nitrate (AN)\", \"Ammonium nitrate (AN)\", \"Ammonium nitrate (AN)\", \"Ammonium nitrate (AN)\", \"Ammonium nitrate (AN)\", \"Ammonium nitrate (AN)\", \"Ammonium nitrate (AN)\", \"Ammonium nitrate (AN)\", \"Ammonium nitrate (AN)\", \"Ammonium nitrate (AN)\", \"Ammonium nitrate (AN)\", \"Ammonium nitrate (AN)\", \"Ammonium nitrate (AN)\", \"Ammonium nitrate (AN)\", \"Ammonium nitrate (AN)\", \"Ammonium nitrate (AN)\", \"Ammonium nitrate (AN)\", \"Ammonium nitrate (AN)\", \"Ammonium nitrate (AN)\", \"Ammonium nitrate (AN)\", \"Ammonium nitrate (AN)\", \"Ammonium nitrate (AN)\", \"Ammonium nitrate (AN)\", \"Ammonium nitrate (AN)\", \"Ammonium nitrate (AN)\", \"Ammonium nitrate (AN)\", \"Ammonium nitrate (AN)\", \"Ammonium nitrate (AN)\", \"Ammonium nitrate (AN)\", \"Ammonium nitrate (AN)\", \"Ammonium nitrate (AN)\", \"Ammonium sulphate\", \"Ammonium sulphate\", \"Ammonium sulphate\", \"Ammonium sulphate\", \"Ammonium sulphate\", \"Ammonium sulphate\", \"Ammonium sulphate\", \"Ammonium sulphate\", \"Ammonium sulphate\", \"Ammonium sulphate\", \"Ammonium sulphate\", \"Ammonium sulphate\", \"Ammonium sulphate\", \"Ammonium sulphate\", \"Ammonium sulphate\", \"Ammonium sulphate\", \"Ammonium sulphate\", \"Ammonium sulphate\", \"Ammonium sulphate\", \"Ammonium sulphate\", \"Ammonium sulphate\", \"Ammonium sulphate\", \"Ammonium sulphate\", \"Ammonium sulphate\", \"Ammonium sulphate\", \"Ammonium sulphate\", \"Ammonium sulphate\", \"Ammonium sulphate\", \"Ammonium sulphate\", \"Ammonium sulphate\", \"Ammonium sulphate\", \"Ammonium sulphate\", \"Calcium ammonium nitrate (CAN) and other mixtures with calcium carbonate\", \"Calcium ammonium nitrate (CAN) and other mixtures with calcium carbonate\", \"Calcium ammonium nitrate (CAN) and other mixtures with calcium carbonate\", \"Calcium ammonium nitrate (CAN) and other mixtures with calcium carbonate\", \"Calcium ammonium nitrate (CAN) and other mixtures with calcium carbonate\", \"Calcium ammonium nitrate (CAN) and other mixtures with calcium carbonate\", \"Calcium ammonium nitrate (CAN) and other mixtures with calcium carbonate\", \"Calcium ammonium nitrate (CAN) and other mixtures with calcium carbonate\", \"Calcium ammonium nitrate (CAN) and other mixtures with calcium carbonate\", \"Calcium ammonium nitrate (CAN) and other mixtures with calcium carbonate\", \"Calcium ammonium nitrate (CAN) and other mixtures with calcium carbonate\", \"Calcium ammonium nitrate (CAN) and other mixtures with calcium carbonate\", \"Calcium ammonium nitrate (CAN) and other mixtures with calcium carbonate\", \"Calcium ammonium nitrate (CAN) and other mixtures with calcium carbonate\", \"Calcium ammonium nitrate (CAN) and other mixtures with calcium carbonate\", \"Calcium ammonium nitrate (CAN) and other mixtures with calcium carbonate\", \"Calcium ammonium nitrate (CAN) and other mixtures with calcium carbonate\", \"Calcium ammonium nitrate (CAN) and other mixtures with calcium carbonate\", \"Calcium ammonium nitrate (CAN) and other mixtures with calcium carbonate\", \"Calcium ammonium nitrate (CAN) and other mixtures with calcium carbonate\", \"Calcium ammonium nitrate (CAN) and other mixtures with calcium carbonate\", \"Calcium ammonium nitrate (CAN) and other mixtures with calcium carbonate\", \"Calcium ammonium nitrate (CAN) and other mixtures with calcium carbonate\", \"Diammonium phosphate (DAP)\", \"Diammonium phosphate (DAP)\", \"Diammonium phosphate (DAP)\", \"Diammonium phosphate (DAP)\", \"Diammonium phosphate (DAP)\", \"Diammonium phosphate (DAP)\", \"Diammonium phosphate (DAP)\", \"Diammonium phosphate (DAP)\", \"Diammonium phosphate (DAP)\", \"Diammonium phosphate (DAP)\", \"Diammonium phosphate (DAP)\", \"Diammonium phosphate (DAP)\", \"Diammonium phosphate (DAP)\", \"Diammonium phosphate (DAP)\", \"Diammonium phosphate (DAP)\", \"Diammonium phosphate (DAP)\", \"Diammonium phosphate (DAP)\", \"Diammonium phosphate (DAP)\", \"Diammonium phosphate (DAP)\", \"Diammonium phosphate (DAP)\", \"Diammonium phosphate (DAP)\", \"Diammonium phosphate (DAP)\", \"Diammonium phosphate (DAP)\", \"Diammonium phosphate (DAP)\", \"Diammonium phosphate (DAP)\", \"Diammonium phosphate (DAP)\", \"Diammonium phosphate (DAP)\", \"Diammonium phosphate (DAP)\", \"Diammonium phosphate (DAP)\", \"Diammonium phosphate (DAP)\", \"Diammonium phosphate (DAP)\", \"Diammonium phosphate (DAP)\", \"Fertilizers n.e.c.\", \"Fertilizers n.e.c.\", \"Fertilizers n.e.c.\", \"Fertilizers n.e.c.\", \"Fertilizers n.e.c.\", \"Fertilizers n.e.c.\", \"Fertilizers n.e.c.\", \"Fertilizers n.e.c.\", \"Fertilizers n.e.c.\", \"Fertilizers n.e.c.\", \"Fertilizers n.e.c.\", \"Fertilizers n.e.c.\", \"Fertilizers n.e.c.\", \"Fertilizers n.e.c.\", \"Fertilizers n.e.c.\", \"Fertilizers n.e.c.\", \"Fertilizers n.e.c.\", \"Fertilizers n.e.c.\", \"Fertilizers n.e.c.\", \"Fertilizers n.e.c.\", \"Fertilizers n.e.c.\", \"Fertilizers n.e.c.\", \"Fertilizers n.e.c.\", \"Fertilizers n.e.c.\", \"Fertilizers n.e.c.\", \"Fertilizers n.e.c.\", \"Fertilizers n.e.c.\", \"Fertilizers n.e.c.\", \"Fertilizers n.e.c.\", \"Fertilizers n.e.c.\", \"Fertilizers n.e.c.\", \"Fertilizers n.e.c.\", \"Monoammonium phosphate (MAP)\", \"Monoammonium phosphate (MAP)\", \"Monoammonium phosphate (MAP)\", \"Monoammonium phosphate (MAP)\", \"Monoammonium phosphate (MAP)\", \"Monoammonium phosphate (MAP)\", \"Monoammonium phosphate (MAP)\", \"Monoammonium phosphate (MAP)\", \"Monoammonium phosphate (MAP)\", \"Monoammonium phosphate (MAP)\", \"Monoammonium phosphate (MAP)\", \"Monoammonium phosphate (MAP)\", \"Monoammonium phosphate (MAP)\", \"Monoammonium phosphate (MAP)\", \"Monoammonium phosphate (MAP)\", \"Monoammonium phosphate (MAP)\", \"Monoammonium phosphate (MAP)\", \"Monoammonium phosphate (MAP)\", \"Monoammonium phosphate (MAP)\", \"Monoammonium phosphate (MAP)\", \"Monoammonium phosphate (MAP)\", \"Monoammonium phosphate (MAP)\", \"Monoammonium phosphate (MAP)\", \"Monoammonium phosphate (MAP)\", \"Monoammonium phosphate (MAP)\", \"Monoammonium phosphate (MAP)\", \"Monoammonium phosphate (MAP)\", \"Monoammonium phosphate (MAP)\", \"Monoammonium phosphate (MAP)\", \"Monoammonium phosphate (MAP)\", \"Monoammonium phosphate (MAP)\", \"Monoammonium phosphate (MAP)\", \"NPK fertilizers\", \"NPK fertilizers\", \"NPK fertilizers\", \"NPK fertilizers\", \"NPK fertilizers\", \"NPK fertilizers\", \"NPK fertilizers\", \"NPK fertilizers\", \"NPK fertilizers\", \"NPK fertilizers\", \"NPK fertilizers\", \"NPK fertilizers\", \"NPK fertilizers\", \"NPK fertilizers\", \"NPK fertilizers\", \"NPK fertilizers\", \"NPK fertilizers\", \"NPK fertilizers\", \"NPK fertilizers\", \"NPK fertilizers\", \"NPK fertilizers\", \"NPK fertilizers\", \"NPK fertilizers\", \"NPK fertilizers\", \"NPK fertilizers\", \"NPK fertilizers\", \"NPK fertilizers\", \"NPK fertilizers\", \"NPK fertilizers\", \"NPK fertilizers\", \"NPK fertilizers\", \"NPK fertilizers\", \"Other nitrogenous fertilizers, n.e.c.\", \"Other nitrogenous fertilizers, n.e.c.\", \"Other nitrogenous fertilizers, n.e.c.\", \"Other nitrogenous fertilizers, n.e.c.\", \"Other nitrogenous fertilizers, n.e.c.\", \"Other nitrogenous fertilizers, n.e.c.\", \"Other nitrogenous fertilizers, n.e.c.\", \"Other nitrogenous fertilizers, n.e.c.\", \"Other nitrogenous fertilizers, n.e.c.\", \"Other nitrogenous fertilizers, n.e.c.\", \"Other nitrogenous fertilizers, n.e.c.\", \"Other nitrogenous fertilizers, n.e.c.\", \"Other nitrogenous fertilizers, n.e.c.\", \"Other nitrogenous fertilizers, n.e.c.\", \"Other nitrogenous fertilizers, n.e.c.\", \"Other nitrogenous fertilizers, n.e.c.\", \"Other nitrogenous fertilizers, n.e.c.\", \"Other nitrogenous fertilizers, n.e.c.\", \"Other nitrogenous fertilizers, n.e.c.\", \"Other nitrogenous fertilizers, n.e.c.\", \"Other nitrogenous fertilizers, n.e.c.\", \"Other nitrogenous fertilizers, n.e.c.\", \"Other nitrogenous fertilizers, n.e.c.\", \"Other nitrogenous fertilizers, n.e.c.\", \"Other nitrogenous fertilizers, n.e.c.\", \"Other nitrogenous fertilizers, n.e.c.\", \"Other nitrogenous fertilizers, n.e.c.\", \"Other nitrogenous fertilizers, n.e.c.\", \"Other nitrogenous fertilizers, n.e.c.\", \"Other nitrogenous fertilizers, n.e.c.\", \"Other nitrogenous fertilizers, n.e.c.\", \"Other nitrogenous fertilizers, n.e.c.\", \"Other NP compounds\", \"Other NP compounds\", \"Other NP compounds\", \"Other NP compounds\", \"Other NP compounds\", \"Other NP compounds\", \"Other NP compounds\", \"Other NP compounds\", \"Other NP compounds\", \"Other NP compounds\", \"Other NP compounds\", \"Other NP compounds\", \"Other NP compounds\", \"Other NP compounds\", \"Other NP compounds\", \"Other NP compounds\", \"Other NP compounds\", \"Other NP compounds\", \"Other NP compounds\", \"Other NP compounds\", \"Other NP compounds\", \"Other NP compounds\", \"Other NP compounds\", \"Other NP compounds\", \"Other NP compounds\", \"Other NP compounds\", \"Other NP compounds\", \"Other NP compounds\", \"Other NP compounds\", \"Other NP compounds\", \"Other NP compounds\", \"Other NP compounds\", \"Other phosphatic fertilizers, n.e.c.\", \"Other phosphatic fertilizers, n.e.c.\", \"Other phosphatic fertilizers, n.e.c.\", \"Other phosphatic fertilizers, n.e.c.\", \"Other phosphatic fertilizers, n.e.c.\", \"Other phosphatic fertilizers, n.e.c.\", \"Other phosphatic fertilizers, n.e.c.\", \"Other phosphatic fertilizers, n.e.c.\", \"Other phosphatic fertilizers, n.e.c.\", \"Other phosphatic fertilizers, n.e.c.\", \"Other phosphatic fertilizers, n.e.c.\", \"Other phosphatic fertilizers, n.e.c.\", \"Other phosphatic fertilizers, n.e.c.\", \"Other phosphatic fertilizers, n.e.c.\", \"Other phosphatic fertilizers, n.e.c.\", \"Other phosphatic fertilizers, n.e.c.\", \"Other phosphatic fertilizers, n.e.c.\", \"Other phosphatic fertilizers, n.e.c.\", \"Other phosphatic fertilizers, n.e.c.\", \"Other phosphatic fertilizers, n.e.c.\", \"Other phosphatic fertilizers, n.e.c.\", \"Other phosphatic fertilizers, n.e.c.\", \"Other phosphatic fertilizers, n.e.c.\", \"Other phosphatic fertilizers, n.e.c.\", \"Other phosphatic fertilizers, n.e.c.\", \"Other phosphatic fertilizers, n.e.c.\", \"Other phosphatic fertilizers, n.e.c.\", \"Other phosphatic fertilizers, n.e.c.\", \"Other phosphatic fertilizers, n.e.c.\", \"Other phosphatic fertilizers, n.e.c.\", \"Other phosphatic fertilizers, n.e.c.\", \"Other phosphatic fertilizers, n.e.c.\", \"Other potassic fertilizers, n.e.c.\", \"Other potassic fertilizers, n.e.c.\", \"Other potassic fertilizers, n.e.c.\", \"Other potassic fertilizers, n.e.c.\", \"Other potassic fertilizers, n.e.c.\", \"Other potassic fertilizers, n.e.c.\", \"Other potassic fertilizers, n.e.c.\", \"Other potassic fertilizers, n.e.c.\", \"Other potassic fertilizers, n.e.c.\", \"Other potassic fertilizers, n.e.c.\", \"Other potassic fertilizers, n.e.c.\", \"Other potassic fertilizers, n.e.c.\", \"Other potassic fertilizers, n.e.c.\", \"Other potassic fertilizers, n.e.c.\", \"Other potassic fertilizers, n.e.c.\", \"Other potassic fertilizers, n.e.c.\", \"Other potassic fertilizers, n.e.c.\", \"Other potassic fertilizers, n.e.c.\", \"Other potassic fertilizers, n.e.c.\", \"Other potassic fertilizers, n.e.c.\", \"Other potassic fertilizers, n.e.c.\", \"Other potassic fertilizers, n.e.c.\", \"Other potassic fertilizers, n.e.c.\", \"Other potassic fertilizers, n.e.c.\", \"Other potassic fertilizers, n.e.c.\", \"Other potassic fertilizers, n.e.c.\", \"Other potassic fertilizers, n.e.c.\", \"Other potassic fertilizers, n.e.c.\", \"Other potassic fertilizers, n.e.c.\", \"Other potassic fertilizers, n.e.c.\", \"Other potassic fertilizers, n.e.c.\", \"Other potassic fertilizers, n.e.c.\", \"Phosphate rock\", \"Phosphate rock\", \"Phosphate rock\", \"Phosphate rock\", \"Phosphate rock\", \"Phosphate rock\", \"Phosphate rock\", \"Phosphate rock\", \"Phosphate rock\", \"Phosphate rock\", \"Phosphate rock\", \"Phosphate rock\", \"Phosphate rock\", \"Phosphate rock\", \"Phosphate rock\", \"Phosphate rock\", \"Phosphate rock\", \"Phosphate rock\", \"Phosphate rock\", \"Phosphate rock\", \"Phosphate rock\", \"Phosphate rock\", \"Phosphate rock\", \"Phosphate rock\", \"Phosphate rock\", \"Phosphate rock\", \"Phosphate rock\", \"Phosphate rock\", \"Phosphate rock\", \"Phosphate rock\", \"Phosphate rock\", \"Phosphate rock\", \"PK compounds\", \"PK compounds\", \"PK compounds\", \"PK compounds\", \"PK compounds\", \"PK compounds\", \"PK compounds\", \"PK compounds\", \"PK compounds\", \"PK compounds\", \"PK compounds\", \"PK compounds\", \"PK compounds\", \"PK compounds\", \"PK compounds\", \"PK compounds\", \"PK compounds\", \"PK compounds\", \"PK compounds\", \"PK compounds\", \"PK compounds\", \"PK compounds\", \"PK compounds\", \"PK compounds\", \"PK compounds\", \"PK compounds\", \"PK compounds\", \"PK compounds\", \"PK compounds\", \"PK compounds\", \"PK compounds\", \"PK compounds\", \"Potassium chloride (muriate of potash) (MOP)\", \"Potassium chloride (muriate of potash) (MOP)\", \"Potassium chloride (muriate of potash) (MOP)\", \"Potassium chloride (muriate of potash) (MOP)\", \"Potassium chloride (muriate of potash) (MOP)\", \"Potassium chloride (muriate of potash) (MOP)\", \"Potassium chloride (muriate of potash) (MOP)\", \"Potassium chloride (muriate of potash) (MOP)\", \"Potassium chloride (muriate of potash) (MOP)\", \"Potassium chloride (muriate of potash) (MOP)\", \"Potassium chloride (muriate of potash) (MOP)\", \"Potassium chloride (muriate of potash) (MOP)\", \"Potassium chloride (muriate of potash) (MOP)\", \"Potassium chloride (muriate of potash) (MOP)\", \"Potassium chloride (muriate of potash) (MOP)\", \"Potassium chloride (muriate of potash) (MOP)\", \"Potassium chloride (muriate of potash) (MOP)\", \"Potassium chloride (muriate of potash) (MOP)\", \"Potassium chloride (muriate of potash) (MOP)\", \"Potassium chloride (muriate of potash) (MOP)\", \"Potassium chloride (muriate of potash) (MOP)\", \"Potassium chloride (muriate of potash) (MOP)\", \"Potassium chloride (muriate of potash) (MOP)\", \"Potassium chloride (muriate of potash) (MOP)\", \"Potassium chloride (muriate of potash) (MOP)\", \"Potassium chloride (muriate of potash) (MOP)\", \"Potassium chloride (muriate of potash) (MOP)\", \"Potassium chloride (muriate of potash) (MOP)\", \"Potassium chloride (muriate of potash) (MOP)\", \"Potassium chloride (muriate of potash) (MOP)\", \"Potassium chloride (muriate of potash) (MOP)\", \"Potassium chloride (muriate of potash) (MOP)\", \"Potassium nitrate\", \"Potassium nitrate\", \"Potassium nitrate\", \"Potassium nitrate\", \"Potassium nitrate\", \"Potassium nitrate\", \"Potassium nitrate\", \"Potassium nitrate\", \"Potassium nitrate\", \"Potassium nitrate\", \"Potassium nitrate\", \"Potassium nitrate\", \"Potassium nitrate\", \"Potassium nitrate\", \"Potassium nitrate\", \"Potassium nitrate\", \"Potassium nitrate\", \"Potassium nitrate\", \"Potassium nitrate\", \"Potassium nitrate\", \"Potassium nitrate\", \"Potassium nitrate\", \"Potassium nitrate\", \"Potassium nitrate\", \"Potassium nitrate\", \"Potassium nitrate\", \"Potassium nitrate\", \"Potassium nitrate\", \"Potassium sulphate (sulphate of potash) (SOP)\", \"Potassium sulphate (sulphate of potash) (SOP)\", \"Potassium sulphate (sulphate of potash) (SOP)\", \"Potassium sulphate (sulphate of potash) (SOP)\", \"Potassium sulphate (sulphate of potash) (SOP)\", \"Potassium sulphate (sulphate of potash) (SOP)\", \"Potassium sulphate (sulphate of potash) (SOP)\", \"Potassium sulphate (sulphate of potash) (SOP)\", \"Potassium sulphate (sulphate of potash) (SOP)\", \"Potassium sulphate (sulphate of potash) (SOP)\", \"Potassium sulphate (sulphate of potash) (SOP)\", \"Potassium sulphate (sulphate of potash) (SOP)\", \"Potassium sulphate (sulphate of potash) (SOP)\", \"Potassium sulphate (sulphate of potash) (SOP)\", \"Potassium sulphate (sulphate of potash) (SOP)\", \"Potassium sulphate (sulphate of potash) (SOP)\", \"Potassium sulphate (sulphate of potash) (SOP)\", \"Potassium sulphate (sulphate of potash) (SOP)\", \"Potassium sulphate (sulphate of potash) (SOP)\", \"Potassium sulphate (sulphate of potash) (SOP)\", \"Potassium sulphate (sulphate of potash) (SOP)\", \"Potassium sulphate (sulphate of potash) (SOP)\", \"Potassium sulphate (sulphate of potash) (SOP)\", \"Potassium sulphate (sulphate of potash) (SOP)\", \"Potassium sulphate (sulphate of potash) (SOP)\", \"Potassium sulphate (sulphate of potash) (SOP)\", \"Potassium sulphate (sulphate of potash) (SOP)\", \"Potassium sulphate (sulphate of potash) (SOP)\", \"Potassium sulphate (sulphate of potash) (SOP)\", \"Potassium sulphate (sulphate of potash) (SOP)\", \"Potassium sulphate (sulphate of potash) (SOP)\", \"Potassium sulphate (sulphate of potash) (SOP)\", \"Sodium nitrate\", \"Sodium nitrate\", \"Sodium nitrate\", \"Sodium nitrate\", \"Sodium nitrate\", \"Sodium nitrate\", \"Sodium nitrate\", \"Sodium nitrate\", \"Sodium nitrate\", \"Sodium nitrate\", \"Sodium nitrate\", \"Sodium nitrate\", \"Sodium nitrate\", \"Sodium nitrate\", \"Sodium nitrate\", \"Sodium nitrate\", \"Sodium nitrate\", \"Sodium nitrate\", \"Sodium nitrate\", \"Sodium nitrate\", \"Sodium nitrate\", \"Sodium nitrate\", \"Sodium nitrate\", \"Sodium nitrate\", \"Sodium nitrate\", \"Sodium nitrate\", \"Sodium nitrate\", \"Sodium nitrate\", \"Sodium nitrate\", \"Sodium nitrate\", \"Sodium nitrate\", \"Sodium nitrate\", \"Superphosphates above 35%\", \"Superphosphates above 35%\", \"Superphosphates above 35%\", \"Superphosphates above 35%\", \"Superphosphates above 35%\", \"Superphosphates above 35%\", \"Superphosphates above 35%\", \"Superphosphates above 35%\", \"Superphosphates above 35%\", \"Superphosphates above 35%\", \"Superphosphates above 35%\", \"Superphosphates above 35%\", \"Superphosphates above 35%\", \"Superphosphates above 35%\", \"Superphosphates above 35%\", \"Superphosphates above 35%\", \"Superphosphates above 35%\", \"Superphosphates above 35%\", \"Superphosphates above 35%\", \"Superphosphates above 35%\", \"Superphosphates above 35%\", \"Superphosphates above 35%\", \"Superphosphates above 35%\", \"Superphosphates above 35%\", \"Superphosphates above 35%\", \"Superphosphates above 35%\", \"Superphosphates above 35%\", \"Superphosphates above 35%\", \"Superphosphates above 35%\", \"Superphosphates above 35%\", \"Superphosphates above 35%\", \"Superphosphates above 35%\", \"Superphosphates, other\", \"Superphosphates, other\", \"Urea\", \"Urea\", \"Urea\", \"Urea\", \"Urea\", \"Urea\", \"Urea\", \"Urea\", \"Urea\", \"Urea\", \"Urea\", \"Urea\", \"Urea\", \"Urea\", \"Urea\", \"Urea\", \"Urea\", \"Urea\", \"Urea\", \"Urea\", \"Urea\", \"Urea\", \"Urea\", \"Urea\", \"Urea\", \"Urea\", \"Urea\", \"Urea\", \"Urea\", \"Urea\", \"Urea\", \"Urea\", \"Urea and ammonium nitrate solutions (UAN)\", \"Urea and ammonium nitrate solutions (UAN)\", \"Urea and ammonium nitrate solutions (UAN)\", \"Urea and ammonium nitrate solutions (UAN)\", \"Urea and ammonium nitrate solutions (UAN)\", \"Urea and ammonium nitrate solutions (UAN)\", \"Urea and ammonium nitrate solutions (UAN)\", \"Urea and ammonium nitrate solutions (UAN)\", \"Urea and ammonium nitrate solutions (UAN)\", \"Urea and ammonium nitrate solutions (UAN)\", \"Urea and ammonium nitrate solutions (UAN)\", \"Urea and ammonium nitrate solutions (UAN)\", \"Urea and ammonium nitrate solutions (UAN)\", \"Urea and ammonium nitrate solutions (UAN)\", \"Urea and ammonium nitrate solutions (UAN)\", \"Urea and ammonium nitrate solutions (UAN)\", \"Urea and ammonium nitrate solutions (UAN)\", \"Urea and ammonium nitrate solutions (UAN)\", \"Urea and ammonium nitrate solutions (UAN)\", \"Urea and ammonium nitrate solutions (UAN)\", \"Urea and ammonium nitrate solutions (UAN)\"], \"legendgroup\": \"\", \"name\": \"\", \"showlegend\": true, \"type\": \"pie\", \"values\": [33250.75, 60289.16, 62854.72, 74365.34, 80488.66, 110233.34, 197813.67, 93803.29, 138353.75, 185023.6, 230969.76, 174069.98, 181549.83, 155349.85, 92725.19, 68438.76, 40.9, 29.69, 54.9, 109.92, 133.25, 5622.3, 11669.38, 4362.77, 14383.79, 13896.88, 15294.47, 9982.94, 13260.32, 14903.97, 24739.58, 14128.06, 57443.38, 49509.58, 35650.22, 44056.22, 61942.11, 187656.68, 324408.07, 170525.93, 221433.85, 505623.13, 417433.41, 414275.25, 319891.31, 258407.76, 214970.74, 252940.19, 5629.28, 5847.59, 7887.31, 9131.72, 6313.45, 4423.39, 6691.41, 6470.66, 4696.89, 2171.27, 1637.49, 1319.06, 495.65, 200.19, 967.4, 809.71, 80190.66, 122471.22, 177858.09, 157054.7, 185530.83, 331165.06, 499495.1, 188739.72, 229865.4, 474548.65, 422719.23, 408204.79, 322452.96, 307150.92, 328063.06, 295007.4, 374.63, 365.0, 296.5, 768.91, 906.55, 1115.52, 1465.03, 818.3, 834.92, 1667.31, 485.31, 1486.94, 1398.85, 1657.8, 1112.71, 990.46, 49.04, 415.72, 67.05, 7840.97, 5239.48, 5682.01, 24447.0, 62493.45, 81940.9, 57654.11, 61520.04, 48699.89, 48368.86, 55099.15, 0.27, 0.07, 327.6, 1669.94, 1217.44, 743.27, 407.88, 259.57, 27.6, 24666.32, 41662.04, 64517.83, 59354.22, 67201.81, 209758.46, 449911.23, 111564.06, 150312.24, 296005.05, 322796.42, 424152.53, 333202.45, 188622.08, 159848.86, 153585.04, 2874.69, 3278.49, 3767.58, 4424.72, 3942.39, 4055.91, 2859.6, 13601.49, 5020.71, 2029.36, 5103.07, 3823.08, 3764.48, 1989.6, 820.5, 400.72, 35458.04, 37893.84, 50680.05, 46245.1, 50967.53, 52444.79, 99587.94, 99952.11, 85404.47, 105810.24, 134103.86, 140783.6, 110676.49, 84840.53, 91903.16, 108925.91, 3797.09, 5518.67, 4988.33, 3753.14, 3465.25, 5101.2, 13814.57, 10654.34, 12571.88, 18825.12, 15571.18, 20769.33, 18036.98, 23986.58, 21258.87, 23732.01, 224410.95, 339541.09, 496100.35, 322758.59, 309373.36, 678633.14, 1159291.17, 282764.4, 561386.33, 1350224.27, 1019564.45, 1253558.38, 1384705.38, 1080444.93, 977918.09, 1286621.19, 88.38, 189.14, 1178.72, 85.83, 32.74, 130.18, 8.39, 862.38, 306.29, 688.78, 1120.86, 2002.8, 1801.84, 1302.44, 2157.76, 2718.2, 3526.33, 5559.96, 16660.43, 5589.57, 11729.21, 31353.75, 206024.09, 72125.81, 101980.94, 213506.5, 248757.27, 199321.32, 230527.16, 166320.77, 254751.32, 298016.37, 27891.37, 41954.94, 59388.02, 61244.58, 67328.27, 124330.93, 207749.78, 109799.79, 151781.02, 206387.83, 201514.86, 254046.1, 237618.76, 188653.72, 108072.83, 99615.24, 6307.59, 8619.37, 8586.92, 10845.4, 11084.68, 18228.8, 28631.31, 22776.43, 28281.93, 42996.1, 45285.12, 53922.51, 75445.49, 81095.74, 95853.88, 120001.3, 7353.83, 9842.63, 28505.31, 20209.29, 19874.63, 11854.54, 16458.41, 7520.91, 12132.1, 16275.19, 8637.77, 10878.58, 9507.89, 7080.6, 7638.68, 9570.83, 34581.61, 70444.2, 139144.44, 108447.35, 120568.06, 274759.05, 435930.33, 76828.67, 163101.07, 517176.33, 407412.79, 603861.77, 687866.63, 504551.5, 566518.79, 712175.75, 1935.0, 3119.92, 7239.93, 6909.19, 6016.46, 13679.66, 27723.97, 13434.78, 22490.6, 30681.5, 23100.03, 27094.39, 23396.76, 19464.81, 19829.24, 17763.75, 777.99, 737.99, 190.3, 70.27, 56.23, 34.04, 16060.99, 241.24, 404.6, 715.24, 5053.81, 662.0, 2453.28, 538.28, 376.92, 243.63, 101.17, 340.94, 772.98, 1311.22, 2099.21, 5462.59, 7470.72, 2878.71, 6290.71, 5487.01, 3558.09, 6847.77, 7072.31, 2150.4, 1701.86, 2283.31, 87.08, 598.79, 1008.32, 1160.29, 1528.0, 1689.02, 3345.7, 5027.3, 7793.27, 10368.02, 10275.06, 7857.29, 5776.81, 11272.52, 12754.87, 22160.5, 171.46, 118.56, 138.22, 104.13, 190.25, 234.46, 313.73, 248.3, 388.92, 851.12, 918.69, 844.21, 1235.46, 850.71, 577.35, 439.78, 48037.84, 50880.54, 74754.76, 59894.72, 66976.1, 104625.58, 311677.63, 83805.55, 134704.22, 206567.41, 205477.1, 219946.46, 188027.72, 205673.51, 152517.93, 147926.52, 57.38, 184.11, 67.69, 23.81, 70.2, 140.89, 356.67, 0.9, 473.02, 435.8, 319.3, 130.7, 159.41, 3.15, 0.44, 4.17, 1234.58, 1002.16, 1636.49, 1810.24, 2213.94, 2367.64, 6098.09, 2239.02, 3159.87, 6003.8, 5066.98, 7107.06, 7411.15, 6800.27, 6548.46, 8656.77, 16922.81, 33989.45, 51987.47, 42305.6, 46126.87, 72446.44, 130253.87, 45075.3, 57965.86, 60634.54, 34225.27, 34338.67, 19054.48, 8754.68, 3865.39, 5489.67, 529949.75, 624437.27, 980768.59, 959563.19, 950346.82, 1500130.51, 3828779.3, 2079147.37, 2234386.1, 3503286.79, 3512828.84, 3324578.26, 2897139.53, 2513959.66, 1990909.3, 2394045.19, 309.45, 596.65, 983.02, 877.88, 1544.88, 4774.67, 11839.53, 9312.1, 9863.0, 8638.04, 7545.55, 17450.35, 11218.56, 10378.37, 5757.36, 4072.33, 8072.37, 9220.63, 9750.56, 12138.92, 9268.37, 9398.83, 22459.05, 19947.49, 6395.91, 7533.47, 13632.66, 9544.07, 9779.47, 6543.64, 3846.15, 3217.88, 0.01, 0.16, 5.61, 0.87, 0.28, 0.92, 0.38, 0.58, 3.2, 10.13, 137.79, 179.18, 14082.97, 12818.53, 19019.42, 14837.17, 16680.96, 11377.2, 25275.02, 28510.27, 21153.9, 19359.33, 26666.02, 23709.37, 31297.86, 30118.16, 25400.75, 21908.91, 5.72, 8.36, 0.09, 0.04, 0.56, 64.8, 617.09, 531.38, 740.64, 1362.27, 777.21, 1154.55, 1235.98, 710.8, 1008.09, 1261.56, 2017.63, 3076.58, 3475.53, 3616.91, 3918.08, 4917.85, 9186.99, 7873.71, 7726.4, 7613.81, 9309.89, 9589.28, 9081.76, 10196.18, 5804.08, 5286.38, 0.27, 0.0, 0.17, 4.26, 0.01, 6.19, 1.65, 100.86, 96.36, 25.82, 365.88, 105.57, 151.46, 470.53, 325.12, 438.15, 95326.88, 147204.65, 240767.86, 176413.31, 199321.66, 450354.2, 981034.29, 235862.69, 389999.12, 699130.65, 610410.72, 638448.46, 460675.25, 406495.57, 302325.6, 207676.85, 4616.8, 6864.55, 11113.38, 22420.21, 17799.44, 14656.58, 20416.34, 16947.77, 20073.57, 27236.43, 11006.41, 7854.18, 10731.71, 5341.02, 2991.71, 1159.98, 86496.91, 1128.34, 119722.5, 247452.97, 351438.4, 355849.51, 364794.35, 767423.39, 1227413.66, 513455.55, 712075.87, 1320415.68, 1288373.66, 1308255.25, 1482848.69, 882144.4, 903141.9, 1244561.76, 8989.1, 6632.64, 5145.35, 14608.74, 3057.71, 6803.44, 10069.05, 5662.66, 6379.76, 6054.79, 7251.37, 8499.76, 8906.54, 7750.18, 9068.57, 8294.3, 0.05, 2.54, 3.38, 2.59, 3.18, 27.95, 1499.42, 1697.12, 2820.48, 0.08, 371.54, 1193.28, 521.8, 602.03, 787.41, 356.41, 713.26, 711.13, 1090.17, 1920.66, 1922.86]}],\n",
       "                        {\"legend\": {\"tracegroupgap\": 0}, \"margin\": {\"t\": 60}, \"showlegend\": false, \"template\": {\"data\": {\"bar\": [{\"error_x\": {\"color\": \"#2a3f5f\"}, \"error_y\": {\"color\": \"#2a3f5f\"}, \"marker\": {\"line\": {\"color\": \"#E5ECF6\", \"width\": 0.5}}, \"type\": \"bar\"}], \"barpolar\": [{\"marker\": {\"line\": {\"color\": \"#E5ECF6\", \"width\": 0.5}}, \"type\": \"barpolar\"}], \"carpet\": [{\"aaxis\": {\"endlinecolor\": \"#2a3f5f\", \"gridcolor\": \"white\", \"linecolor\": \"white\", \"minorgridcolor\": \"white\", \"startlinecolor\": \"#2a3f5f\"}, \"baxis\": {\"endlinecolor\": \"#2a3f5f\", \"gridcolor\": \"white\", \"linecolor\": \"white\", \"minorgridcolor\": \"white\", \"startlinecolor\": \"#2a3f5f\"}, \"type\": \"carpet\"}], \"choropleth\": [{\"colorbar\": {\"outlinewidth\": 0, \"ticks\": \"\"}, \"type\": \"choropleth\"}], \"contour\": [{\"colorbar\": {\"outlinewidth\": 0, \"ticks\": \"\"}, \"colorscale\": [[0.0, \"#0d0887\"], [0.1111111111111111, \"#46039f\"], [0.2222222222222222, \"#7201a8\"], [0.3333333333333333, \"#9c179e\"], [0.4444444444444444, \"#bd3786\"], [0.5555555555555556, \"#d8576b\"], [0.6666666666666666, \"#ed7953\"], [0.7777777777777778, \"#fb9f3a\"], [0.8888888888888888, \"#fdca26\"], [1.0, \"#f0f921\"]], \"type\": \"contour\"}], \"contourcarpet\": [{\"colorbar\": {\"outlinewidth\": 0, \"ticks\": \"\"}, \"type\": \"contourcarpet\"}], \"heatmap\": [{\"colorbar\": {\"outlinewidth\": 0, \"ticks\": \"\"}, \"colorscale\": [[0.0, \"#0d0887\"], [0.1111111111111111, \"#46039f\"], [0.2222222222222222, \"#7201a8\"], [0.3333333333333333, \"#9c179e\"], [0.4444444444444444, \"#bd3786\"], [0.5555555555555556, \"#d8576b\"], [0.6666666666666666, \"#ed7953\"], [0.7777777777777778, \"#fb9f3a\"], [0.8888888888888888, \"#fdca26\"], [1.0, \"#f0f921\"]], \"type\": \"heatmap\"}], \"heatmapgl\": [{\"colorbar\": {\"outlinewidth\": 0, \"ticks\": \"\"}, \"colorscale\": [[0.0, \"#0d0887\"], [0.1111111111111111, \"#46039f\"], [0.2222222222222222, \"#7201a8\"], [0.3333333333333333, \"#9c179e\"], [0.4444444444444444, \"#bd3786\"], [0.5555555555555556, \"#d8576b\"], [0.6666666666666666, \"#ed7953\"], [0.7777777777777778, \"#fb9f3a\"], [0.8888888888888888, \"#fdca26\"], [1.0, \"#f0f921\"]], \"type\": \"heatmapgl\"}], \"histogram\": [{\"marker\": {\"colorbar\": {\"outlinewidth\": 0, \"ticks\": \"\"}}, \"type\": \"histogram\"}], \"histogram2d\": [{\"colorbar\": {\"outlinewidth\": 0, \"ticks\": \"\"}, \"colorscale\": [[0.0, \"#0d0887\"], [0.1111111111111111, \"#46039f\"], [0.2222222222222222, \"#7201a8\"], [0.3333333333333333, \"#9c179e\"], [0.4444444444444444, \"#bd3786\"], [0.5555555555555556, \"#d8576b\"], [0.6666666666666666, \"#ed7953\"], [0.7777777777777778, \"#fb9f3a\"], [0.8888888888888888, \"#fdca26\"], [1.0, \"#f0f921\"]], \"type\": \"histogram2d\"}], \"histogram2dcontour\": [{\"colorbar\": {\"outlinewidth\": 0, \"ticks\": \"\"}, \"colorscale\": [[0.0, \"#0d0887\"], [0.1111111111111111, \"#46039f\"], [0.2222222222222222, \"#7201a8\"], [0.3333333333333333, \"#9c179e\"], [0.4444444444444444, \"#bd3786\"], [0.5555555555555556, \"#d8576b\"], [0.6666666666666666, \"#ed7953\"], [0.7777777777777778, \"#fb9f3a\"], [0.8888888888888888, \"#fdca26\"], [1.0, \"#f0f921\"]], \"type\": \"histogram2dcontour\"}], \"mesh3d\": [{\"colorbar\": {\"outlinewidth\": 0, \"ticks\": \"\"}, \"type\": \"mesh3d\"}], \"parcoords\": [{\"line\": {\"colorbar\": {\"outlinewidth\": 0, \"ticks\": \"\"}}, \"type\": \"parcoords\"}], \"pie\": [{\"automargin\": true, \"type\": \"pie\"}], \"scatter\": [{\"marker\": {\"colorbar\": {\"outlinewidth\": 0, \"ticks\": \"\"}}, \"type\": \"scatter\"}], \"scatter3d\": [{\"line\": {\"colorbar\": {\"outlinewidth\": 0, \"ticks\": \"\"}}, \"marker\": {\"colorbar\": {\"outlinewidth\": 0, \"ticks\": \"\"}}, \"type\": \"scatter3d\"}], \"scattercarpet\": [{\"marker\": {\"colorbar\": {\"outlinewidth\": 0, \"ticks\": \"\"}}, \"type\": \"scattercarpet\"}], \"scattergeo\": [{\"marker\": {\"colorbar\": {\"outlinewidth\": 0, \"ticks\": \"\"}}, \"type\": \"scattergeo\"}], \"scattergl\": [{\"marker\": {\"colorbar\": {\"outlinewidth\": 0, \"ticks\": \"\"}}, \"type\": \"scattergl\"}], \"scattermapbox\": [{\"marker\": {\"colorbar\": {\"outlinewidth\": 0, \"ticks\": \"\"}}, \"type\": \"scattermapbox\"}], \"scatterpolar\": [{\"marker\": {\"colorbar\": {\"outlinewidth\": 0, \"ticks\": \"\"}}, \"type\": \"scatterpolar\"}], \"scatterpolargl\": [{\"marker\": {\"colorbar\": {\"outlinewidth\": 0, \"ticks\": \"\"}}, \"type\": \"scatterpolargl\"}], \"scatterternary\": [{\"marker\": {\"colorbar\": {\"outlinewidth\": 0, \"ticks\": \"\"}}, \"type\": \"scatterternary\"}], \"surface\": [{\"colorbar\": {\"outlinewidth\": 0, \"ticks\": \"\"}, \"colorscale\": [[0.0, \"#0d0887\"], [0.1111111111111111, \"#46039f\"], [0.2222222222222222, \"#7201a8\"], [0.3333333333333333, \"#9c179e\"], [0.4444444444444444, \"#bd3786\"], [0.5555555555555556, \"#d8576b\"], [0.6666666666666666, \"#ed7953\"], [0.7777777777777778, \"#fb9f3a\"], [0.8888888888888888, \"#fdca26\"], [1.0, \"#f0f921\"]], \"type\": \"surface\"}], \"table\": [{\"cells\": {\"fill\": {\"color\": \"#EBF0F8\"}, \"line\": {\"color\": \"white\"}}, \"header\": {\"fill\": {\"color\": \"#C8D4E3\"}, \"line\": {\"color\": \"white\"}}, \"type\": \"table\"}]}, \"layout\": {\"annotationdefaults\": {\"arrowcolor\": \"#2a3f5f\", \"arrowhead\": 0, \"arrowwidth\": 1}, \"coloraxis\": {\"colorbar\": {\"outlinewidth\": 0, \"ticks\": \"\"}}, \"colorscale\": {\"diverging\": [[0, \"#8e0152\"], [0.1, \"#c51b7d\"], [0.2, \"#de77ae\"], [0.3, \"#f1b6da\"], [0.4, \"#fde0ef\"], [0.5, \"#f7f7f7\"], [0.6, \"#e6f5d0\"], [0.7, \"#b8e186\"], [0.8, \"#7fbc41\"], [0.9, \"#4d9221\"], [1, \"#276419\"]], \"sequential\": [[0.0, \"#0d0887\"], [0.1111111111111111, \"#46039f\"], [0.2222222222222222, \"#7201a8\"], [0.3333333333333333, \"#9c179e\"], [0.4444444444444444, \"#bd3786\"], [0.5555555555555556, \"#d8576b\"], [0.6666666666666666, \"#ed7953\"], [0.7777777777777778, \"#fb9f3a\"], [0.8888888888888888, \"#fdca26\"], [1.0, \"#f0f921\"]], \"sequentialminus\": [[0.0, \"#0d0887\"], [0.1111111111111111, \"#46039f\"], [0.2222222222222222, \"#7201a8\"], [0.3333333333333333, \"#9c179e\"], [0.4444444444444444, \"#bd3786\"], [0.5555555555555556, \"#d8576b\"], [0.6666666666666666, \"#ed7953\"], [0.7777777777777778, \"#fb9f3a\"], [0.8888888888888888, \"#fdca26\"], [1.0, \"#f0f921\"]]}, \"colorway\": [\"#636efa\", \"#EF553B\", \"#00cc96\", \"#ab63fa\", \"#FFA15A\", \"#19d3f3\", \"#FF6692\", \"#B6E880\", \"#FF97FF\", \"#FECB52\"], \"font\": {\"color\": \"#2a3f5f\"}, \"geo\": {\"bgcolor\": \"white\", \"lakecolor\": \"white\", \"landcolor\": \"#E5ECF6\", \"showlakes\": true, \"showland\": true, \"subunitcolor\": \"white\"}, \"hoverlabel\": {\"align\": \"left\"}, \"hovermode\": \"closest\", \"mapbox\": {\"style\": \"light\"}, \"paper_bgcolor\": \"white\", \"plot_bgcolor\": \"#E5ECF6\", \"polar\": {\"angularaxis\": {\"gridcolor\": \"white\", \"linecolor\": \"white\", \"ticks\": \"\"}, \"bgcolor\": \"#E5ECF6\", \"radialaxis\": {\"gridcolor\": \"white\", \"linecolor\": \"white\", \"ticks\": \"\"}}, \"scene\": {\"xaxis\": {\"backgroundcolor\": \"#E5ECF6\", \"gridcolor\": \"white\", \"gridwidth\": 2, \"linecolor\": \"white\", \"showbackground\": true, \"ticks\": \"\", \"zerolinecolor\": \"white\"}, \"yaxis\": {\"backgroundcolor\": \"#E5ECF6\", \"gridcolor\": \"white\", \"gridwidth\": 2, \"linecolor\": \"white\", \"showbackground\": true, \"ticks\": \"\", \"zerolinecolor\": \"white\"}, \"zaxis\": {\"backgroundcolor\": \"#E5ECF6\", \"gridcolor\": \"white\", \"gridwidth\": 2, \"linecolor\": \"white\", \"showbackground\": true, \"ticks\": \"\", \"zerolinecolor\": \"white\"}}, \"shapedefaults\": {\"line\": {\"color\": \"#2a3f5f\"}}, \"ternary\": {\"aaxis\": {\"gridcolor\": \"white\", \"linecolor\": \"white\", \"ticks\": \"\"}, \"baxis\": {\"gridcolor\": \"white\", \"linecolor\": \"white\", \"ticks\": \"\"}, \"bgcolor\": \"#E5ECF6\", \"caxis\": {\"gridcolor\": \"white\", \"linecolor\": \"white\", \"ticks\": \"\"}}, \"title\": {\"x\": 0.05}, \"xaxis\": {\"automargin\": true, \"gridcolor\": \"white\", \"linecolor\": \"white\", \"ticks\": \"\", \"title\": {\"standoff\": 15}, \"zerolinecolor\": \"white\", \"zerolinewidth\": 2}, \"yaxis\": {\"automargin\": true, \"gridcolor\": \"white\", \"linecolor\": \"white\", \"ticks\": \"\", \"title\": {\"standoff\": 15}, \"zerolinecolor\": \"white\", \"zerolinewidth\": 2}}}},\n",
       "                        {\"responsive\": true}\n",
       "                    ).then(function(){\n",
       "                            \n",
       "var gd = document.getElementById('3879d054-57f8-455a-a500-331ae471877b');\n",
       "var x = new MutationObserver(function (mutations, observer) {{\n",
       "        var display = window.getComputedStyle(gd).display;\n",
       "        if (!display || display === 'none') {{\n",
       "            console.log([gd, 'removed!']);\n",
       "            Plotly.purge(gd);\n",
       "            observer.disconnect();\n",
       "        }}\n",
       "}});\n",
       "\n",
       "// Listen for the removal of the full notebook cells\n",
       "var notebookContainer = gd.closest('#notebook-container');\n",
       "if (notebookContainer) {{\n",
       "    x.observe(notebookContainer, {childList: true});\n",
       "}}\n",
       "\n",
       "// Listen for the clearing of the current output cell\n",
       "var outputEl = gd.closest('.output');\n",
       "if (outputEl) {{\n",
       "    x.observe(outputEl, {childList: true});\n",
       "}}\n",
       "\n",
       "                        })\n",
       "                };\n",
       "                });\n",
       "            </script>\n",
       "        </div>"
      ]
     },
     "metadata": {},
     "output_type": "display_data"
    }
   ],
   "source": [
    "export_value=brazil[(brazil['Element']=='Export Value') | \n",
    "                   (brazil['Element']=='Import Value')]\n",
    "fig=px.pie(export_value,values='Value',names='Item')\n",
    "fig.update(layout_showlegend=False)\n",
    "iplot(fig)"
   ]
  },
  {
   "cell_type": "code",
   "execution_count": null,
   "metadata": {},
   "outputs": [],
   "source": []
  },
  {
   "cell_type": "code",
   "execution_count": 194,
   "metadata": {},
   "outputs": [
    {
     "data": {
      "text/html": [
       "<div>\n",
       "<style scoped>\n",
       "    .dataframe tbody tr th:only-of-type {\n",
       "        vertical-align: middle;\n",
       "    }\n",
       "\n",
       "    .dataframe tbody tr th {\n",
       "        vertical-align: top;\n",
       "    }\n",
       "\n",
       "    .dataframe thead th {\n",
       "        text-align: right;\n",
       "    }\n",
       "</style>\n",
       "<table border=\"1\" class=\"dataframe\">\n",
       "  <thead>\n",
       "    <tr style=\"text-align: right;\">\n",
       "      <th></th>\n",
       "      <th>Item</th>\n",
       "      <th>Value</th>\n",
       "    </tr>\n",
       "  </thead>\n",
       "  <tbody>\n",
       "    <tr>\n",
       "      <th>0</th>\n",
       "      <td>Urea and ammonium nitrate solutions (UAN)</td>\n",
       "      <td>16247.34</td>\n",
       "    </tr>\n",
       "    <tr>\n",
       "      <th>1</th>\n",
       "      <td>Other phosphatic fertilizers, n.e.c.</td>\n",
       "      <td>84445.81</td>\n",
       "    </tr>\n",
       "    <tr>\n",
       "      <th>2</th>\n",
       "      <td>Superphosphates, other</td>\n",
       "      <td>87625.25</td>\n",
       "    </tr>\n",
       "    <tr>\n",
       "      <th>3</th>\n",
       "      <td>Sodium nitrate</td>\n",
       "      <td>104783.36</td>\n",
       "    </tr>\n",
       "    <tr>\n",
       "      <th>4</th>\n",
       "      <td>Other potassic fertilizers, n.e.c.</td>\n",
       "      <td>110328.19</td>\n",
       "    </tr>\n",
       "    <tr>\n",
       "      <th>5</th>\n",
       "      <td>Potassium nitrate</td>\n",
       "      <td>161088.58</td>\n",
       "    </tr>\n",
       "    <tr>\n",
       "      <th>6</th>\n",
       "      <td>Potassium sulphate (sulphate of potash) (SOP)</td>\n",
       "      <td>351694.98</td>\n",
       "    </tr>\n",
       "    <tr>\n",
       "      <th>7</th>\n",
       "      <td>Calcium ammonium nitrate (CAN) and other mixtu...</td>\n",
       "      <td>464171.31</td>\n",
       "    </tr>\n",
       "    <tr>\n",
       "      <th>8</th>\n",
       "      <td>PK compounds</td>\n",
       "      <td>732792.89</td>\n",
       "    </tr>\n",
       "    <tr>\n",
       "      <th>9</th>\n",
       "      <td>Other nitrogenous fertilizers, n.e.c.</td>\n",
       "      <td>861303.76</td>\n",
       "    </tr>\n",
       "    <tr>\n",
       "      <th>10</th>\n",
       "      <td>Fertilizers n.e.c.</td>\n",
       "      <td>1541522.20</td>\n",
       "    </tr>\n",
       "    <tr>\n",
       "      <th>11</th>\n",
       "      <td>Ammonia, anhydrous</td>\n",
       "      <td>2082192.77</td>\n",
       "    </tr>\n",
       "    <tr>\n",
       "      <th>12</th>\n",
       "      <td>Phosphate rock</td>\n",
       "      <td>2263921.23</td>\n",
       "    </tr>\n",
       "    <tr>\n",
       "      <th>13</th>\n",
       "      <td>Diammonium phosphate (DAP)</td>\n",
       "      <td>3118917.03</td>\n",
       "    </tr>\n",
       "    <tr>\n",
       "      <th>14</th>\n",
       "      <td>Ammonium nitrate (AN)</td>\n",
       "      <td>3600860.30</td>\n",
       "    </tr>\n",
       "    <tr>\n",
       "      <th>15</th>\n",
       "      <td>NPK fertilizers</td>\n",
       "      <td>4213128.84</td>\n",
       "    </tr>\n",
       "    <tr>\n",
       "      <th>16</th>\n",
       "      <td>Ammonium sulphate</td>\n",
       "      <td>4546262.53</td>\n",
       "    </tr>\n",
       "    <tr>\n",
       "      <th>17</th>\n",
       "      <td>Other NP compounds</td>\n",
       "      <td>5687248.33</td>\n",
       "    </tr>\n",
       "    <tr>\n",
       "      <th>18</th>\n",
       "      <td>Superphosphates above 35%</td>\n",
       "      <td>6442677.84</td>\n",
       "    </tr>\n",
       "    <tr>\n",
       "      <th>19</th>\n",
       "      <td>Monoammonium phosphate (MAP)</td>\n",
       "      <td>12741970.80</td>\n",
       "    </tr>\n",
       "    <tr>\n",
       "      <th>20</th>\n",
       "      <td>Urea</td>\n",
       "      <td>13212541.50</td>\n",
       "    </tr>\n",
       "    <tr>\n",
       "      <th>21</th>\n",
       "      <td>Potassium chloride (muriate of potash) (MOP)</td>\n",
       "      <td>33929418.21</td>\n",
       "    </tr>\n",
       "  </tbody>\n",
       "</table>\n",
       "</div>"
      ],
      "text/plain": [
       "                                                 Item        Value\n",
       "0           Urea and ammonium nitrate solutions (UAN)     16247.34\n",
       "1                Other phosphatic fertilizers, n.e.c.     84445.81\n",
       "2                              Superphosphates, other     87625.25\n",
       "3                                      Sodium nitrate    104783.36\n",
       "4                  Other potassic fertilizers, n.e.c.    110328.19\n",
       "5                                   Potassium nitrate    161088.58\n",
       "6       Potassium sulphate (sulphate of potash) (SOP)    351694.98\n",
       "7   Calcium ammonium nitrate (CAN) and other mixtu...    464171.31\n",
       "8                                        PK compounds    732792.89\n",
       "9               Other nitrogenous fertilizers, n.e.c.    861303.76\n",
       "10                                 Fertilizers n.e.c.   1541522.20\n",
       "11                                 Ammonia, anhydrous   2082192.77\n",
       "12                                     Phosphate rock   2263921.23\n",
       "13                         Diammonium phosphate (DAP)   3118917.03\n",
       "14                              Ammonium nitrate (AN)   3600860.30\n",
       "15                                    NPK fertilizers   4213128.84\n",
       "16                                  Ammonium sulphate   4546262.53\n",
       "17                                 Other NP compounds   5687248.33\n",
       "18                          Superphosphates above 35%   6442677.84\n",
       "19                       Monoammonium phosphate (MAP)  12741970.80\n",
       "20                                               Urea  13212541.50\n",
       "21       Potassium chloride (muriate of potash) (MOP)  33929418.21"
      ]
     },
     "execution_count": 194,
     "metadata": {},
     "output_type": "execute_result"
    }
   ],
   "source": [
    "data=export_value.groupby('Item')['Value'].sum().sort_values(ascending=True)\n",
    "data=pd.DataFrame(data).reset_index()\n",
    "data"
   ]
  },
  {
   "cell_type": "code",
   "execution_count": 203,
   "metadata": {},
   "outputs": [
    {
     "data": {
      "application/javascript": [
       "\n",
       "        if (window._pyforest_update_imports_cell) { window._pyforest_update_imports_cell('import matplotlib.pyplot as plt'); }\n",
       "    "
      ],
      "text/plain": [
       "<IPython.core.display.Javascript object>"
      ]
     },
     "metadata": {},
     "output_type": "display_data"
    },
    {
     "data": {
      "image/png": "[encoded data removed]",
      "text/plain": [
       "<Figure size 576x432 with 1 Axes>"
      ]
     },
     "metadata": {},
     "output_type": "display_data"
    }
   ],
   "source": [
    "pl.pie(data=data,x='Value',labels='Item',rotatelabels=45,\n",
    "      autopct='%1.1f%%')\n",
    "centre_circle = plt.Circle((0,0),0.70,fc='white')\n",
    "fig = pl.gcf()\n",
    "fig.gca().add_artist(centre_circle)\n",
    "# pl.tight_layout()\n",
    "pl.show()"
   ]
  },
  {
   "cell_type": "code",
   "execution_count": 209,
   "metadata": {},
   "outputs": [
    {
     "data": {
      "application/vnd.plotly.v1+json": {
       "config": {
        "linkText": "Export to plot.ly",
        "plotlyServerURL": "https://plot.ly",
        "showLink": false
       },
       "data": [
        {
         "domain": {
          "x": [
           0,
           1
          ],
          "y": [
           0,
           1
          ]
         },
         "hovertemplate": "Item=%{label}<br>Value=%{value}<extra></extra>",
         "labels": [
          "Ammonia, anhydrous",
          "Ammonia, anhydrous",
          "Ammonia, anhydrous",
          "Ammonia, anhydrous",
          "Ammonia, anhydrous",
          "Ammonia, anhydrous",
          "Ammonia, anhydrous",
          "Ammonia, anhydrous",
          "Ammonia, anhydrous",
          "Ammonia, anhydrous",
          "Ammonia, anhydrous",
          "Ammonia, anhydrous",
          "Ammonia, anhydrous",
          "Ammonia, anhydrous",
          "Ammonia, anhydrous",
          "Ammonia, anhydrous",
          "Ammonia, anhydrous",
          "Ammonia, anhydrous",
          "Ammonia, anhydrous",
          "Ammonia, anhydrous",
          "Ammonia, anhydrous",
          "Ammonia, anhydrous",
          "Ammonia, anhydrous",
          "Ammonia, anhydrous",
          "Ammonia, anhydrous",
          "Ammonia, anhydrous",
          "Ammonia, anhydrous",
          "Ammonia, anhydrous",
          "Ammonia, anhydrous",
          "Ammonia, anhydrous",
          "Ammonia, anhydrous",
          "Ammonia, anhydrous",
          "Ammonium nitrate (AN)",
          "Ammonium nitrate (AN)",
          "Ammonium nitrate (AN)",
          "Ammonium nitrate (AN)",
          "Ammonium nitrate (AN)",
          "Ammonium nitrate (AN)",
          "Ammonium nitrate (AN)",
          "Ammonium nitrate (AN)",
          "Ammonium nitrate (AN)",
          "Ammonium nitrate (AN)",
          "Ammonium nitrate (AN)",
          "Ammonium nitrate (AN)",
          "Ammonium nitrate (AN)",
          "Ammonium nitrate (AN)",
          "Ammonium nitrate (AN)",
          "Ammonium nitrate (AN)",
          "Ammonium nitrate (AN)",
          "Ammonium nitrate (AN)",
          "Ammonium nitrate (AN)",
          "Ammonium nitrate (AN)",
          "Ammonium nitrate (AN)",
          "Ammonium nitrate (AN)",
          "Ammonium nitrate (AN)",
          "Ammonium nitrate (AN)",
          "Ammonium nitrate (AN)",
          "Ammonium nitrate (AN)",
          "Ammonium nitrate (AN)",
          "Ammonium nitrate (AN)",
          "Ammonium nitrate (AN)",
          "Ammonium nitrate (AN)",
          "Ammonium nitrate (AN)",
          "Ammonium nitrate (AN)",
          "Ammonium sulphate",
          "Ammonium sulphate",
          "Ammonium sulphate",
          "Ammonium sulphate",
          "Ammonium sulphate",
          "Ammonium sulphate",
          "Ammonium sulphate",
          "Ammonium sulphate",
          "Ammonium sulphate",
          "Ammonium sulphate",
          "Ammonium sulphate",
          "Ammonium sulphate",
          "Ammonium sulphate",
          "Ammonium sulphate",
          "Ammonium sulphate",
          "Ammonium sulphate",
          "Ammonium sulphate",
          "Ammonium sulphate",
          "Ammonium sulphate",
          "Ammonium sulphate",
          "Ammonium sulphate",
          "Ammonium sulphate",
          "Ammonium sulphate",
          "Ammonium sulphate",
          "Ammonium sulphate",
          "Ammonium sulphate",
          "Ammonium sulphate",
          "Ammonium sulphate",
          "Ammonium sulphate",
          "Ammonium sulphate",
          "Ammonium sulphate",
          "Ammonium sulphate",
          "Calcium ammonium nitrate (CAN) and other mixtures with calcium carbonate",
          "Calcium ammonium nitrate (CAN) and other mixtures with calcium carbonate",
          "Calcium ammonium nitrate (CAN) and other mixtures with calcium carbonate",
          "Calcium ammonium nitrate (CAN) and other mixtures with calcium carbonate",
          "Calcium ammonium nitrate (CAN) and other mixtures with calcium carbonate",
          "Calcium ammonium nitrate (CAN) and other mixtures with calcium carbonate",
          "Calcium ammonium nitrate (CAN) and other mixtures with calcium carbonate",
          "Calcium ammonium nitrate (CAN) and other mixtures with calcium carbonate",
          "Calcium ammonium nitrate (CAN) and other mixtures with calcium carbonate",
          "Calcium ammonium nitrate (CAN) and other mixtures with calcium carbonate",
          "Calcium ammonium nitrate (CAN) and other mixtures with calcium carbonate",
          "Calcium ammonium nitrate (CAN) and other mixtures with calcium carbonate",
          "Calcium ammonium nitrate (CAN) and other mixtures with calcium carbonate",
          "Calcium ammonium nitrate (CAN) and other mixtures with calcium carbonate",
          "Calcium ammonium nitrate (CAN) and other mixtures with calcium carbonate",
          "Calcium ammonium nitrate (CAN) and other mixtures with calcium carbonate",
          "Calcium ammonium nitrate (CAN) and other mixtures with calcium carbonate",
          "Calcium ammonium nitrate (CAN) and other mixtures with calcium carbonate",
          "Calcium ammonium nitrate (CAN) and other mixtures with calcium carbonate",
          "Calcium ammonium nitrate (CAN) and other mixtures with calcium carbonate",
          "Calcium ammonium nitrate (CAN) and other mixtures with calcium carbonate",
          "Calcium ammonium nitrate (CAN) and other mixtures with calcium carbonate",
          "Calcium ammonium nitrate (CAN) and other mixtures with calcium carbonate",
          "Diammonium phosphate (DAP)",
          "Diammonium phosphate (DAP)",
          "Diammonium phosphate (DAP)",
          "Diammonium phosphate (DAP)",
          "Diammonium phosphate (DAP)",
          "Diammonium phosphate (DAP)",
          "Diammonium phosphate (DAP)",
          "Diammonium phosphate (DAP)",
          "Diammonium phosphate (DAP)",
          "Diammonium phosphate (DAP)",
          "Diammonium phosphate (DAP)",
          "Diammonium phosphate (DAP)",
          "Diammonium phosphate (DAP)",
          "Diammonium phosphate (DAP)",
          "Diammonium phosphate (DAP)",
          "Diammonium phosphate (DAP)",
          "Diammonium phosphate (DAP)",
          "Diammonium phosphate (DAP)",
          "Diammonium phosphate (DAP)",
          "Diammonium phosphate (DAP)",
          "Diammonium phosphate (DAP)",
          "Diammonium phosphate (DAP)",
          "Diammonium phosphate (DAP)",
          "Diammonium phosphate (DAP)",
          "Diammonium phosphate (DAP)",
          "Diammonium phosphate (DAP)",
          "Diammonium phosphate (DAP)",
          "Diammonium phosphate (DAP)",
          "Diammonium phosphate (DAP)",
          "Diammonium phosphate (DAP)",
          "Diammonium phosphate (DAP)",
          "Diammonium phosphate (DAP)",
          "Fertilizers n.e.c.",
          "Fertilizers n.e.c.",
          "Fertilizers n.e.c.",
          "Fertilizers n.e.c.",
          "Fertilizers n.e.c.",
          "Fertilizers n.e.c.",
          "Fertilizers n.e.c.",
          "Fertilizers n.e.c.",
          "Fertilizers n.e.c.",
          "Fertilizers n.e.c.",
          "Fertilizers n.e.c.",
          "Fertilizers n.e.c.",
          "Fertilizers n.e.c.",
          "Fertilizers n.e.c.",
          "Fertilizers n.e.c.",
          "Fertilizers n.e.c.",
          "Fertilizers n.e.c.",
          "Fertilizers n.e.c.",
          "Fertilizers n.e.c.",
          "Fertilizers n.e.c.",
          "Fertilizers n.e.c.",
          "Fertilizers n.e.c.",
          "Fertilizers n.e.c.",
          "Fertilizers n.e.c.",
          "Fertilizers n.e.c.",
          "Fertilizers n.e.c.",
          "Fertilizers n.e.c.",
          "Fertilizers n.e.c.",
          "Fertilizers n.e.c.",
          "Fertilizers n.e.c.",
          "Fertilizers n.e.c.",
          "Fertilizers n.e.c.",
          "Monoammonium phosphate (MAP)",
          "Monoammonium phosphate (MAP)",
          "Monoammonium phosphate (MAP)",
          "Monoammonium phosphate (MAP)",
          "Monoammonium phosphate (MAP)",
          "Monoammonium phosphate (MAP)",
          "Monoammonium phosphate (MAP)",
          "Monoammonium phosphate (MAP)",
          "Monoammonium phosphate (MAP)",
          "Monoammonium phosphate (MAP)",
          "Monoammonium phosphate (MAP)",
          "Monoammonium phosphate (MAP)",
          "Monoammonium phosphate (MAP)",
          "Monoammonium phosphate (MAP)",
          "Monoammonium phosphate (MAP)",
          "Monoammonium phosphate (MAP)",
          "Monoammonium phosphate (MAP)",
          "Monoammonium phosphate (MAP)",
          "Monoammonium phosphate (MAP)",
          "Monoammonium phosphate (MAP)",
          "Monoammonium phosphate (MAP)",
          "Monoammonium phosphate (MAP)",
          "Monoammonium phosphate (MAP)",
          "Monoammonium phosphate (MAP)",
          "Monoammonium phosphate (MAP)",
          "Monoammonium phosphate (MAP)",
          "Monoammonium phosphate (MAP)",
          "Monoammonium phosphate (MAP)",
          "Monoammonium phosphate (MAP)",
          "Monoammonium phosphate (MAP)",
          "Monoammonium phosphate (MAP)",
          "Monoammonium phosphate (MAP)",
          "NPK fertilizers",
          "NPK fertilizers",
          "NPK fertilizers",
          "NPK fertilizers",
          "NPK fertilizers",
          "NPK fertilizers",
          "NPK fertilizers",
          "NPK fertilizers",
          "NPK fertilizers",
          "NPK fertilizers",
          "NPK fertilizers",
          "NPK fertilizers",
          "NPK fertilizers",
          "NPK fertilizers",
          "NPK fertilizers",
          "NPK fertilizers",
          "NPK fertilizers",
          "NPK fertilizers",
          "NPK fertilizers",
          "NPK fertilizers",
          "NPK fertilizers",
          "NPK fertilizers",
          "NPK fertilizers",
          "NPK fertilizers",
          "NPK fertilizers",
          "NPK fertilizers",
          "NPK fertilizers",
          "NPK fertilizers",
          "NPK fertilizers",
          "NPK fertilizers",
          "NPK fertilizers",
          "NPK fertilizers",
          "Other nitrogenous fertilizers, n.e.c.",
          "Other nitrogenous fertilizers, n.e.c.",
          "Other nitrogenous fertilizers, n.e.c.",
          "Other nitrogenous fertilizers, n.e.c.",
          "Other nitrogenous fertilizers, n.e.c.",
          "Other nitrogenous fertilizers, n.e.c.",
          "Other nitrogenous fertilizers, n.e.c.",
          "Other nitrogenous fertilizers, n.e.c.",
          "Other nitrogenous fertilizers, n.e.c.",
          "Other nitrogenous fertilizers, n.e.c.",
          "Other nitrogenous fertilizers, n.e.c.",
          "Other nitrogenous fertilizers, n.e.c.",
          "Other nitrogenous fertilizers, n.e.c.",
          "Other nitrogenous fertilizers, n.e.c.",
          "Other nitrogenous fertilizers, n.e.c.",
          "Other nitrogenous fertilizers, n.e.c.",
          "Other nitrogenous fertilizers, n.e.c.",
          "Other nitrogenous fertilizers, n.e.c.",
          "Other nitrogenous fertilizers, n.e.c.",
          "Other nitrogenous fertilizers, n.e.c.",
          "Other nitrogenous fertilizers, n.e.c.",
          "Other nitrogenous fertilizers, n.e.c.",
          "Other nitrogenous fertilizers, n.e.c.",
          "Other nitrogenous fertilizers, n.e.c.",
          "Other nitrogenous fertilizers, n.e.c.",
          "Other nitrogenous fertilizers, n.e.c.",
          "Other nitrogenous fertilizers, n.e.c.",
          "Other nitrogenous fertilizers, n.e.c.",
          "Other nitrogenous fertilizers, n.e.c.",
          "Other nitrogenous fertilizers, n.e.c.",
          "Other nitrogenous fertilizers, n.e.c.",
          "Other nitrogenous fertilizers, n.e.c.",
          "Other NP compounds",
          "Other NP compounds",
          "Other NP compounds",
          "Other NP compounds",
          "Other NP compounds",
          "Other NP compounds",
          "Other NP compounds",
          "Other NP compounds",
          "Other NP compounds",
          "Other NP compounds",
          "Other NP compounds",
          "Other NP compounds",
          "Other NP compounds",
          "Other NP compounds",
          "Other NP compounds",
          "Other NP compounds",
          "Other NP compounds",
          "Other NP compounds",
          "Other NP compounds",
          "Other NP compounds",
          "Other NP compounds",
          "Other NP compounds",
          "Other NP compounds",
          "Other NP compounds",
          "Other NP compounds",
          "Other NP compounds",
          "Other NP compounds",
          "Other NP compounds",
          "Other NP compounds",
          "Other NP compounds",
          "Other NP compounds",
          "Other NP compounds",
          "Other phosphatic fertilizers, n.e.c.",
          "Other phosphatic fertilizers, n.e.c.",
          "Other phosphatic fertilizers, n.e.c.",
          "Other phosphatic fertilizers, n.e.c.",
          "Other phosphatic fertilizers, n.e.c.",
          "Other phosphatic fertilizers, n.e.c.",
          "Other phosphatic fertilizers, n.e.c.",
          "Other phosphatic fertilizers, n.e.c.",
          "Other phosphatic fertilizers, n.e.c.",
          "Other phosphatic fertilizers, n.e.c.",
          "Other phosphatic fertilizers, n.e.c.",
          "Other phosphatic fertilizers, n.e.c.",
          "Other phosphatic fertilizers, n.e.c.",
          "Other phosphatic fertilizers, n.e.c.",
          "Other phosphatic fertilizers, n.e.c.",
          "Other phosphatic fertilizers, n.e.c.",
          "Other phosphatic fertilizers, n.e.c.",
          "Other phosphatic fertilizers, n.e.c.",
          "Other phosphatic fertilizers, n.e.c.",
          "Other phosphatic fertilizers, n.e.c.",
          "Other phosphatic fertilizers, n.e.c.",
          "Other phosphatic fertilizers, n.e.c.",
          "Other phosphatic fertilizers, n.e.c.",
          "Other phosphatic fertilizers, n.e.c.",
          "Other phosphatic fertilizers, n.e.c.",
          "Other phosphatic fertilizers, n.e.c.",
          "Other phosphatic fertilizers, n.e.c.",
          "Other phosphatic fertilizers, n.e.c.",
          "Other phosphatic fertilizers, n.e.c.",
          "Other phosphatic fertilizers, n.e.c.",
          "Other phosphatic fertilizers, n.e.c.",
          "Other phosphatic fertilizers, n.e.c.",
          "Other potassic fertilizers, n.e.c.",
          "Other potassic fertilizers, n.e.c.",
          "Other potassic fertilizers, n.e.c.",
          "Other potassic fertilizers, n.e.c.",
          "Other potassic fertilizers, n.e.c.",
          "Other potassic fertilizers, n.e.c.",
          "Other potassic fertilizers, n.e.c.",
          "Other potassic fertilizers, n.e.c.",
          "Other potassic fertilizers, n.e.c.",
          "Other potassic fertilizers, n.e.c.",
          "Other potassic fertilizers, n.e.c.",
          "Other potassic fertilizers, n.e.c.",
          "Other potassic fertilizers, n.e.c.",
          "Other potassic fertilizers, n.e.c.",
          "Other potassic fertilizers, n.e.c.",
          "Other potassic fertilizers, n.e.c.",
          "Other potassic fertilizers, n.e.c.",
          "Other potassic fertilizers, n.e.c.",
          "Other potassic fertilizers, n.e.c.",
          "Other potassic fertilizers, n.e.c.",
          "Other potassic fertilizers, n.e.c.",
          "Other potassic fertilizers, n.e.c.",
          "Other potassic fertilizers, n.e.c.",
          "Other potassic fertilizers, n.e.c.",
          "Other potassic fertilizers, n.e.c.",
          "Other potassic fertilizers, n.e.c.",
          "Other potassic fertilizers, n.e.c.",
          "Other potassic fertilizers, n.e.c.",
          "Other potassic fertilizers, n.e.c.",
          "Other potassic fertilizers, n.e.c.",
          "Other potassic fertilizers, n.e.c.",
          "Other potassic fertilizers, n.e.c.",
          "Phosphate rock",
          "Phosphate rock",
          "Phosphate rock",
          "Phosphate rock",
          "Phosphate rock",
          "Phosphate rock",
          "Phosphate rock",
          "Phosphate rock",
          "Phosphate rock",
          "Phosphate rock",
          "Phosphate rock",
          "Phosphate rock",
          "Phosphate rock",
          "Phosphate rock",
          "Phosphate rock",
          "Phosphate rock",
          "Phosphate rock",
          "Phosphate rock",
          "Phosphate rock",
          "Phosphate rock",
          "Phosphate rock",
          "Phosphate rock",
          "Phosphate rock",
          "Phosphate rock",
          "Phosphate rock",
          "Phosphate rock",
          "Phosphate rock",
          "Phosphate rock",
          "Phosphate rock",
          "Phosphate rock",
          "Phosphate rock",
          "Phosphate rock",
          "PK compounds",
          "PK compounds",
          "PK compounds",
          "PK compounds",
          "PK compounds",
          "PK compounds",
          "PK compounds",
          "PK compounds",
          "PK compounds",
          "PK compounds",
          "PK compounds",
          "PK compounds",
          "PK compounds",
          "PK compounds",
          "PK compounds",
          "PK compounds",
          "PK compounds",
          "PK compounds",
          "PK compounds",
          "PK compounds",
          "PK compounds",
          "PK compounds",
          "PK compounds",
          "PK compounds",
          "PK compounds",
          "PK compounds",
          "PK compounds",
          "PK compounds",
          "PK compounds",
          "PK compounds",
          "PK compounds",
          "PK compounds",
          "Potassium chloride (muriate of potash) (MOP)",
          "Potassium chloride (muriate of potash) (MOP)",
          "Potassium chloride (muriate of potash) (MOP)",
          "Potassium chloride (muriate of potash) (MOP)",
          "Potassium chloride (muriate of potash) (MOP)",
          "Potassium chloride (muriate of potash) (MOP)",
          "Potassium chloride (muriate of potash) (MOP)",
          "Potassium chloride (muriate of potash) (MOP)",
          "Potassium chloride (muriate of potash) (MOP)",
          "Potassium chloride (muriate of potash) (MOP)",
          "Potassium chloride (muriate of potash) (MOP)",
          "Potassium chloride (muriate of potash) (MOP)",
          "Potassium chloride (muriate of potash) (MOP)",
          "Potassium chloride (muriate of potash) (MOP)",
          "Potassium chloride (muriate of potash) (MOP)",
          "Potassium chloride (muriate of potash) (MOP)",
          "Potassium chloride (muriate of potash) (MOP)",
          "Potassium chloride (muriate of potash) (MOP)",
          "Potassium chloride (muriate of potash) (MOP)",
          "Potassium chloride (muriate of potash) (MOP)",
          "Potassium chloride (muriate of potash) (MOP)",
          "Potassium chloride (muriate of potash) (MOP)",
          "Potassium chloride (muriate of potash) (MOP)",
          "Potassium chloride (muriate of potash) (MOP)",
          "Potassium chloride (muriate of potash) (MOP)",
          "Potassium chloride (muriate of potash) (MOP)",
          "Potassium chloride (muriate of potash) (MOP)",
          "Potassium chloride (muriate of potash) (MOP)",
          "Potassium chloride (muriate of potash) (MOP)",
          "Potassium chloride (muriate of potash) (MOP)",
          "Potassium chloride (muriate of potash) (MOP)",
          "Potassium chloride (muriate of potash) (MOP)",
          "Potassium nitrate",
          "Potassium nitrate",
          "Potassium nitrate",
          "Potassium nitrate",
          "Potassium nitrate",
          "Potassium nitrate",
          "Potassium nitrate",
          "Potassium nitrate",
          "Potassium nitrate",
          "Potassium nitrate",
          "Potassium nitrate",
          "Potassium nitrate",
          "Potassium nitrate",
          "Potassium nitrate",
          "Potassium nitrate",
          "Potassium nitrate",
          "Potassium nitrate",
          "Potassium nitrate",
          "Potassium nitrate",
          "Potassium nitrate",
          "Potassium nitrate",
          "Potassium nitrate",
          "Potassium nitrate",
          "Potassium nitrate",
          "Potassium nitrate",
          "Potassium nitrate",
          "Potassium nitrate",
          "Potassium nitrate",
          "Potassium sulphate (sulphate of potash) (SOP)",
          "Potassium sulphate (sulphate of potash) (SOP)",
          "Potassium sulphate (sulphate of potash) (SOP)",
          "Potassium sulphate (sulphate of potash) (SOP)",
          "Potassium sulphate (sulphate of potash) (SOP)",
          "Potassium sulphate (sulphate of potash) (SOP)",
          "Potassium sulphate (sulphate of potash) (SOP)",
          "Potassium sulphate (sulphate of potash) (SOP)",
          "Potassium sulphate (sulphate of potash) (SOP)",
          "Potassium sulphate (sulphate of potash) (SOP)",
          "Potassium sulphate (sulphate of potash) (SOP)",
          "Potassium sulphate (sulphate of potash) (SOP)",
          "Potassium sulphate (sulphate of potash) (SOP)",
          "Potassium sulphate (sulphate of potash) (SOP)",
          "Potassium sulphate (sulphate of potash) (SOP)",
          "Potassium sulphate (sulphate of potash) (SOP)",
          "Potassium sulphate (sulphate of potash) (SOP)",
          "Potassium sulphate (sulphate of potash) (SOP)",
          "Potassium sulphate (sulphate of potash) (SOP)",
          "Potassium sulphate (sulphate of potash) (SOP)",
          "Potassium sulphate (sulphate of potash) (SOP)",
          "Potassium sulphate (sulphate of potash) (SOP)",
          "Potassium sulphate (sulphate of potash) (SOP)",
          "Potassium sulphate (sulphate of potash) (SOP)",
          "Potassium sulphate (sulphate of potash) (SOP)",
          "Potassium sulphate (sulphate of potash) (SOP)",
          "Potassium sulphate (sulphate of potash) (SOP)",
          "Potassium sulphate (sulphate of potash) (SOP)",
          "Potassium sulphate (sulphate of potash) (SOP)",
          "Potassium sulphate (sulphate of potash) (SOP)",
          "Potassium sulphate (sulphate of potash) (SOP)",
          "Potassium sulphate (sulphate of potash) (SOP)",
          "Sodium nitrate",
          "Sodium nitrate",
          "Sodium nitrate",
          "Sodium nitrate",
          "Sodium nitrate",
          "Sodium nitrate",
          "Sodium nitrate",
          "Sodium nitrate",
          "Sodium nitrate",
          "Sodium nitrate",
          "Sodium nitrate",
          "Sodium nitrate",
          "Sodium nitrate",
          "Sodium nitrate",
          "Sodium nitrate",
          "Sodium nitrate",
          "Sodium nitrate",
          "Sodium nitrate",
          "Sodium nitrate",
          "Sodium nitrate",
          "Sodium nitrate",
          "Sodium nitrate",
          "Sodium nitrate",
          "Sodium nitrate",
          "Sodium nitrate",
          "Sodium nitrate",
          "Sodium nitrate",
          "Sodium nitrate",
          "Sodium nitrate",
          "Sodium nitrate",
          "Sodium nitrate",
          "Sodium nitrate",
          "Superphosphates above 35%",
          "Superphosphates above 35%",
          "Superphosphates above 35%",
          "Superphosphates above 35%",
          "Superphosphates above 35%",
          "Superphosphates above 35%",
          "Superphosphates above 35%",
          "Superphosphates above 35%",
          "Superphosphates above 35%",
          "Superphosphates above 35%",
          "Superphosphates above 35%",
          "Superphosphates above 35%",
          "Superphosphates above 35%",
          "Superphosphates above 35%",
          "Superphosphates above 35%",
          "Superphosphates above 35%",
          "Superphosphates above 35%",
          "Superphosphates above 35%",
          "Superphosphates above 35%",
          "Superphosphates above 35%",
          "Superphosphates above 35%",
          "Superphosphates above 35%",
          "Superphosphates above 35%",
          "Superphosphates above 35%",
          "Superphosphates above 35%",
          "Superphosphates above 35%",
          "Superphosphates above 35%",
          "Superphosphates above 35%",
          "Superphosphates above 35%",
          "Superphosphates above 35%",
          "Superphosphates above 35%",
          "Superphosphates above 35%",
          "Superphosphates, other",
          "Superphosphates, other",
          "Urea",
          "Urea",
          "Urea",
          "Urea",
          "Urea",
          "Urea",
          "Urea",
          "Urea",
          "Urea",
          "Urea",
          "Urea",
          "Urea",
          "Urea",
          "Urea",
          "Urea",
          "Urea",
          "Urea",
          "Urea",
          "Urea",
          "Urea",
          "Urea",
          "Urea",
          "Urea",
          "Urea",
          "Urea",
          "Urea",
          "Urea",
          "Urea",
          "Urea",
          "Urea",
          "Urea",
          "Urea",
          "Urea and ammonium nitrate solutions (UAN)",
          "Urea and ammonium nitrate solutions (UAN)",
          "Urea and ammonium nitrate solutions (UAN)",
          "Urea and ammonium nitrate solutions (UAN)",
          "Urea and ammonium nitrate solutions (UAN)",
          "Urea and ammonium nitrate solutions (UAN)",
          "Urea and ammonium nitrate solutions (UAN)",
          "Urea and ammonium nitrate solutions (UAN)",
          "Urea and ammonium nitrate solutions (UAN)",
          "Urea and ammonium nitrate solutions (UAN)",
          "Urea and ammonium nitrate solutions (UAN)",
          "Urea and ammonium nitrate solutions (UAN)",
          "Urea and ammonium nitrate solutions (UAN)",
          "Urea and ammonium nitrate solutions (UAN)",
          "Urea and ammonium nitrate solutions (UAN)",
          "Urea and ammonium nitrate solutions (UAN)",
          "Urea and ammonium nitrate solutions (UAN)",
          "Urea and ammonium nitrate solutions (UAN)",
          "Urea and ammonium nitrate solutions (UAN)",
          "Urea and ammonium nitrate solutions (UAN)",
          "Urea and ammonium nitrate solutions (UAN)"
         ],
         "legendgroup": "",
         "name": "",
         "showlegend": true,
         "type": "pie",
         "values": [
          267472.82,
          287944.72,
          228732.15,
          252243.8,
          254143.91,
          313405.88,
          305677.5,
          325792.22,
          363663.02,
          334139.89,
          399030.14,
          321784.56,
          354621.76,
          353045.17,
          348339.2,
          286186.31,
          158,
          78.24,
          160,
          262,
          294,
          23981.93,
          24087.38,
          14870.78,
          35460.87,
          28539,
          24159.32,
          25728.05,
          24036.64,
          39005.54,
          101796.93,
          56537.6,
          564611.47,
          477506.28,
          269025.37,
          244101.88,
          339036.66,
          771186.05,
          769084.46,
          942008.52,
          1036106.59,
          1488751.67,
          1235815.95,
          1372458.77,
          1085818.19,
          1039858.35,
          1183597.26,
          1327483.45,
          31377.38,
          28555.79,
          32364.1,
          32967.68,
          19469.6,
          14148.58,
          13625,
          16496.36,
          10061.68,
          3870.08,
          2760.16,
          2444.4,
          1142.72,
          423.2,
          2612.24,
          2306.68,
          1145132.03,
          1639322.63,
          1695997.41,
          1314582.24,
          1635602.72,
          2023899.8,
          1525887.86,
          1506588.71,
          1652500.92,
          2025118.91,
          1631845.9,
          1778577.25,
          1837135.99,
          1624428.34,
          1917926.05,
          1903960.77,
          2435.71,
          2463.91,
          1437.35,
          3531.08,
          4345.28,
          4130.25,
          3374.6,
          3473.36,
          2831.31,
          4884,
          1169.19,
          4110.66,
          4068.01,
          5020.03,
          3692.4,
          2873.11,
          450,
          2775,
          308,
          38137.36,
          16105.85,
          36044.44,
          119822.15,
          208913.88,
          299785.57,
          219287.84,
          261825.98,
          221753.89,
          274126.66,
          321650.4,
          1,
          0.03,
          780,
          3791,
          2583,
          1778,
          917,
          894,
          100,
          151045.49,
          220864,
          303683.52,
          244752.8,
          252834.72,
          576744.68,
          535139.1,
          304910.31,
          358707.37,
          489706.43,
          577615.27,
          846206.53,
          756484.92,
          402225.31,
          445349.62,
          458184.74,
          14297.1,
          14126,
          13332.01,
          13731.36,
          11006.5,
          9909,
          2709.9,
          30112.64,
          10592,
          2756.75,
          7149.76,
          5175,
          7547,
          3591,
          1855,
          963.11,
          170519.84,
          178280.74,
          229138.59,
          180457.6,
          182937.68,
          177054.02,
          183402.5,
          187705.29,
          165573.79,
          149729.38,
          183451.32,
          182127.14,
          100775.74,
          79958.73,
          81245.75,
          97426.22,
          11902.03,
          18330.91,
          9182.08,
          7493.7,
          6455.43,
          4747.21,
          8041.91,
          8529.28,
          10233.33,
          11625.71,
          10834.17,
          14543.79,
          12701.62,
          11467.33,
          13953.98,
          18809.04,
          1395627.76,
          1769050.96,
          2234825.73,
          1286737.37,
          1135562.27,
          1644945.04,
          1130044.11,
          852578.86,
          1195855.32,
          2104092.66,
          1772184.61,
          2500663.72,
          3004766.08,
          2281251.42,
          2714211.42,
          3634880.75,
          379,
          804.01,
          5187.27,
          238.38,
          86,
          314.35,
          7.93,
          1852.46,
          543.46,
          890.45,
          1383.94,
          2905.45,
          3083.21,
          2313.8,
          4748.2,
          6062.39,
          11113.21,
          22557.86,
          87799.04,
          10640.52,
          40171.95,
          99642.32,
          350746.52,
          195324.91,
          279931.4,
          457968.94,
          495030.31,
          474144.39,
          629250.11,
          456596.21,
          873232.65,
          1117233.11,
          171739.5,
          231914.89,
          272020.44,
          250049.48,
          273104.75,
          393352.7,
          354248.76,
          263507.27,
          392350.9,
          392365.55,
          374391.72,
          500720.25,
          543865.9,
          454545,
          314635.84,
          290130.56,
          28987.5,
          36169.22,
          46452.07,
          56011.55,
          49080.51,
          88248.69,
          95674.02,
          88615.09,
          99733.94,
          124196.85,
          123022.48,
          151172.59,
          235633.42,
          258834.26,
          422945.44,
          563976.24,
          83130.99,
          63360.09,
          133197.14,
          84355.3,
          78072.66,
          36301.17,
          29288.3,
          20483.36,
          29695.5,
          30180.75,
          15492.57,
          17886.23,
          17379.78,
          13877.11,
          16071.16,
          19318.2,
          283327.21,
          504897.43,
          844204.52,
          550474.54,
          623347.42,
          951659.71,
          780162.84,
          216655.37,
          478739.53,
          1132988.16,
          883146.99,
          1446371.4,
          1846156.68,
          1257898.13,
          1687946.32,
          2276184.64,
          13532.81,
          22889.99,
          44141.84,
          41502.17,
          31994.22,
          46947.34,
          44781.24,
          46884.77,
          57371.3,
          62663.3,
          50140.4,
          62417.17,
          49312.71,
          42834.13,
          56677.19,
          46647.02,
          10720.78,
          9185.93,
          364.5,
          33.51,
          9.25,
          140.49,
          47445.36,
          405.28,
          641.29,
          1025.5,
          25076.12,
          626.76,
          6743.7,
          463.66,
          359.8,
          245.27,
          693,
          1974.5,
          3753.73,
          7761.42,
          12108.1,
          25854.83,
          14858.5,
          10163.18,
          20132.27,
          12862.59,
          4904.57,
          13706.36,
          15500.62,
          4030,
          5225.52,
          6584.9,
          39.63,
          3116.74,
          5444.21,
          6083.09,
          8098.85,
          7630.66,
          8889.8,
          15150.55,
          24290.38,
          30309.31,
          20396.7,
          14780.99,
          9956.53,
          31666.06,
          69426.43,
          147471.33,
          196.3,
          117.6,
          141.05,
          133.85,
          276.32,
          170.76,
          219.15,
          80.34,
          121.14,
          229.37,
          313.5,
          265.75,
          355.6,
          331.1,
          793.28,
          276.04,
          1047951.86,
          1095172.82,
          1563891.56,
          1215092.13,
          1406010.38,
          1749664.85,
          1615730.44,
          915067.87,
          1399346.57,
          1427578.9,
          1271643,
          1628737.92,
          1752862.53,
          1870923.27,
          1711172,
          1903017.38,
          629,
          4210.01,
          621,
          165.73,
          462.21,
          1026,
          863.63,
          0,
          1653.4,
          1679.13,
          1082.91,
          409.73,
          702.82,
          0.71,
          2.5,
          20,
          1317.65,
          939.98,
          1622.45,
          1572.83,
          1886.69,
          1842.83,
          2728.67,
          1160.78,
          1997.72,
          3086.31,
          2721.82,
          3966.19,
          4258.3,
          4750.61,
          5070.69,
          12650.66,
          112486.9,
          201774.1,
          247299.8,
          191188.59,
          206255.55,
          226869.38,
          213413.53,
          116983.7,
          154494.87,
          124546.65,
          68493.43,
          69723.49,
          46230.12,
          19046.86,
          9997.39,
          8099.59,
          4372074.21,
          5228202.66,
          6816873.71,
          5013053.86,
          5403469.83,
          6762615.08,
          6751696.78,
          3447333.44,
          6123851.32,
          7679198.79,
          7043157.87,
          8135848.51,
          9051324.82,
          7821589.61,
          8713262.33,
          9673652.54,
          1885.25,
          3525.44,
          4492.26,
          3233.23,
          5895.99,
          13974.07,
          17193.37,
          13862.5,
          21466.38,
          15921.26,
          12187.66,
          33955.47,
          26611.01,
          25371.81,
          19008.02,
          11990.64,
          32169.93,
          36765.84,
          32745.39,
          32808.85,
          22758.07,
          24219.85,
          28645.37,
          17761.7,
          6868.21,
          8969.37,
          15223.83,
          9680.86,
          10559.48,
          7345.92,
          4129.24,
          3581.63,
          0.03,
          0.05,
          0.16,
          0.03,
          0.16,
          0.03,
          0.36,
          0.01,
          1.02,
          0.47,
          12.51,
          15,
          78513.2,
          59958.67,
          83888.2,
          50519.91,
          54290.81,
          34537.99,
          34656.74,
          29043,
          37063.36,
          32538.64,
          40489.3,
          40920.69,
          48224.11,
          41555.42,
          45175.87,
          44435.52,
          0.9,
          14.11,
          0.02,
          0.01,
          0.01,
          98.44,
          532.84,
          169.85,
          256.12,
          721.7,
          313.14,
          547.71,
          468.41,
          281.98,
          439.24,
          797.71,
          8548.39,
          11053.81,
          10781.18,
          10377.9,
          10976.97,
          13567.05,
          17427.37,
          13606.06,
          13450.11,
          11911.13,
          13031.94,
          13661.91,
          11909.94,
          13537.06,
          9864.27,
          9099.47,
          5,
          0,
          0.4,
          2.62,
          0.02,
          4.2,
          0.63,
          111.69,
          108.92,
          13.91,
          665.11,
          49.2,
          32.17,
          68.36,
          59.18,
          55.44,
          866292.46,
          1066874.14,
          1540582.84,
          984908.59,
          1070312.03,
          1572247.28,
          1322427.97,
          1084845.05,
          1304139.7,
          1739777.07,
          1667003,
          2018911.5,
          1626736.77,
          1413098.08,
          1387812.86,
          765504.44,
          33548.9,
          46976.26,
          63681.95,
          169471.75,
          134437.13,
          67072.4,
          43276.54,
          66134.58,
          68761.11,
          72230.05,
          34489.76,
          20704.96,
          32067.69,
          15481.68,
          8068.33,
          3095,
          632341.63,
          1285.55,
          1103268.79,
          1447940.16,
          1861204.96,
          1558041.7,
          1587751.3,
          2510764.76,
          2234527.93,
          1940874,
          2547141.88,
          3041100.26,
          2878253.64,
          3498416.54,
          4401407.41,
          2849774.93,
          3958012.31,
          5425178,
          99206.96,
          45200.54,
          26477.46,
          62324.57,
          9511,
          17162.04,
          15795.95,
          15358.54,
          16152.11,
          10030.8,
          12291.02,
          16291.46,
          17022.23,
          18123.33,
          28501.59,
          20628.42,
          0.01,
          0.95,
          1.63,
          1.83,
          1.54,
          98.5,
          15571.42,
          28046.43,
          32476.77,
          0.34,
          347.55,
          886.69,
          396.25,
          581.09,
          670.51,
          289.5,
          587.08,
          316.4,
          368.11,
          299.4,
          438.59
         ]
        }
       ],
       "layout": {
        "legend": {
         "tracegroupgap": 0
        },
        "margin": {
         "t": 60
        },
        "showlegend": false,
        "template": {
         "data": {
          "bar": [
           {
            "error_x": {
             "color": "#2a3f5f"
            },
            "error_y": {
             "color": "#2a3f5f"
            },
            "marker": {
             "line": {
              "color": "#E5ECF6",
              "width": 0.5
             }
            },
            "type": "bar"
           }
          ],
          "barpolar": [
           {
            "marker": {
             "line": {
              "color": "#E5ECF6",
              "width": 0.5
             }
            },
            "type": "barpolar"
           }
          ],
          "carpet": [
           {
            "aaxis": {
             "endlinecolor": "#2a3f5f",
             "gridcolor": "white",
             "linecolor": "white",
             "minorgridcolor": "white",
             "startlinecolor": "#2a3f5f"
            },
            "baxis": {
             "endlinecolor": "#2a3f5f",
             "gridcolor": "white",
             "linecolor": "white",
             "minorgridcolor": "white",
             "startlinecolor": "#2a3f5f"
            },
            "type": "carpet"
           }
          ],
          "choropleth": [
           {
            "colorbar": {
             "outlinewidth": 0,
             "ticks": ""
            },
            "type": "choropleth"
           }
          ],
          "contour": [
           {
            "colorbar": {
             "outlinewidth": 0,
             "ticks": ""
            },
            "colorscale": [
             [
              0,
              "#0d0887"
             ],
             [
              0.1111111111111111,
              "#46039f"
             ],
             [
              0.2222222222222222,
              "#7201a8"
             ],
             [
              0.3333333333333333,
              "#9c179e"
             ],
             [
              0.4444444444444444,
              "#bd3786"
             ],
             [
              0.5555555555555556,
              "#d8576b"
             ],
             [
              0.6666666666666666,
              "#ed7953"
             ],
             [
              0.7777777777777778,
              "#fb9f3a"
             ],
             [
              0.8888888888888888,
              "#fdca26"
             ],
             [
              1,
              "#f0f921"
             ]
            ],
            "type": "contour"
           }
          ],
          "contourcarpet": [
           {
            "colorbar": {
             "outlinewidth": 0,
             "ticks": ""
            },
            "type": "contourcarpet"
           }
          ],
          "heatmap": [
           {
            "colorbar": {
             "outlinewidth": 0,
             "ticks": ""
            },
            "colorscale": [
             [
              0,
              "#0d0887"
             ],
             [
              0.1111111111111111,
              "#46039f"
             ],
             [
              0.2222222222222222,
              "#7201a8"
             ],
             [
              0.3333333333333333,
              "#9c179e"
             ],
             [
              0.4444444444444444,
              "#bd3786"
             ],
             [
              0.5555555555555556,
              "#d8576b"
             ],
             [
              0.6666666666666666,
              "#ed7953"
             ],
             [
              0.7777777777777778,
              "#fb9f3a"
             ],
             [
              0.8888888888888888,
              "#fdca26"
             ],
             [
              1,
              "#f0f921"
             ]
            ],
            "type": "heatmap"
           }
          ],
          "heatmapgl": [
           {
            "colorbar": {
             "outlinewidth": 0,
             "ticks": ""
            },
            "colorscale": [
             [
              0,
              "#0d0887"
             ],
             [
              0.1111111111111111,
              "#46039f"
             ],
             [
              0.2222222222222222,
              "#7201a8"
             ],
             [
              0.3333333333333333,
              "#9c179e"
             ],
             [
              0.4444444444444444,
              "#bd3786"
             ],
             [
              0.5555555555555556,
              "#d8576b"
             ],
             [
              0.6666666666666666,
              "#ed7953"
             ],
             [
              0.7777777777777778,
              "#fb9f3a"
             ],
             [
              0.8888888888888888,
              "#fdca26"
             ],
             [
              1,
              "#f0f921"
             ]
            ],
            "type": "heatmapgl"
           }
          ],
          "histogram": [
           {
            "marker": {
             "colorbar": {
              "outlinewidth": 0,
              "ticks": ""
             }
            },
            "type": "histogram"
           }
          ],
          "histogram2d": [
           {
            "colorbar": {
             "outlinewidth": 0,
             "ticks": ""
            },
            "colorscale": [
             [
              0,
              "#0d0887"
             ],
             [
              0.1111111111111111,
              "#46039f"
             ],
             [
              0.2222222222222222,
              "#7201a8"
             ],
             [
              0.3333333333333333,
              "#9c179e"
             ],
             [
              0.4444444444444444,
              "#bd3786"
             ],
             [
              0.5555555555555556,
              "#d8576b"
             ],
             [
              0.6666666666666666,
              "#ed7953"
             ],
             [
              0.7777777777777778,
              "#fb9f3a"
             ],
             [
              0.8888888888888888,
              "#fdca26"
             ],
             [
              1,
              "#f0f921"
             ]
            ],
            "type": "histogram2d"
           }
          ],
          "histogram2dcontour": [
           {
            "colorbar": {
             "outlinewidth": 0,
             "ticks": ""
            },
            "colorscale": [
             [
              0,
              "#0d0887"
             ],
             [
              0.1111111111111111,
              "#46039f"
             ],
             [
              0.2222222222222222,
              "#7201a8"
             ],
             [
              0.3333333333333333,
              "#9c179e"
             ],
             [
              0.4444444444444444,
              "#bd3786"
             ],
             [
              0.5555555555555556,
              "#d8576b"
             ],
             [
              0.6666666666666666,
              "#ed7953"
             ],
             [
              0.7777777777777778,
              "#fb9f3a"
             ],
             [
              0.8888888888888888,
              "#fdca26"
             ],
             [
              1,
              "#f0f921"
             ]
            ],
            "type": "histogram2dcontour"
           }
          ],
          "mesh3d": [
           {
            "colorbar": {
             "outlinewidth": 0,
             "ticks": ""
            },
            "type": "mesh3d"
           }
          ],
          "parcoords": [
           {
            "line": {
             "colorbar": {
              "outlinewidth": 0,
              "ticks": ""
             }
            },
            "type": "parcoords"
           }
          ],
          "pie": [
           {
            "automargin": true,
            "type": "pie"
           }
          ],
          "scatter": [
           {
            "marker": {
             "colorbar": {
              "outlinewidth": 0,
              "ticks": ""
             }
            },
            "type": "scatter"
           }
          ],
          "scatter3d": [
           {
            "line": {
             "colorbar": {
              "outlinewidth": 0,
              "ticks": ""
             }
            },
            "marker": {
             "colorbar": {
              "outlinewidth": 0,
              "ticks": ""
             }
            },
            "type": "scatter3d"
           }
          ],
          "scattercarpet": [
           {
            "marker": {
             "colorbar": {
              "outlinewidth": 0,
              "ticks": ""
             }
            },
            "type": "scattercarpet"
           }
          ],
          "scattergeo": [
           {
            "marker": {
             "colorbar": {
              "outlinewidth": 0,
              "ticks": ""
             }
            },
            "type": "scattergeo"
           }
          ],
          "scattergl": [
           {
            "marker": {
             "colorbar": {
              "outlinewidth": 0,
              "ticks": ""
             }
            },
            "type": "scattergl"
           }
          ],
          "scattermapbox": [
           {
            "marker": {
             "colorbar": {
              "outlinewidth": 0,
              "ticks": ""
             }
            },
            "type": "scattermapbox"
           }
          ],
          "scatterpolar": [
           {
            "marker": {
             "colorbar": {
              "outlinewidth": 0,
              "ticks": ""
             }
            },
            "type": "scatterpolar"
           }
          ],
          "scatterpolargl": [
           {
            "marker": {
             "colorbar": {
              "outlinewidth": 0,
              "ticks": ""
             }
            },
            "type": "scatterpolargl"
           }
          ],
          "scatterternary": [
           {
            "marker": {
             "colorbar": {
              "outlinewidth": 0,
              "ticks": ""
             }
            },
            "type": "scatterternary"
           }
          ],
          "surface": [
           {
            "colorbar": {
             "outlinewidth": 0,
             "ticks": ""
            },
            "colorscale": [
             [
              0,
              "#0d0887"
             ],
             [
              0.1111111111111111,
              "#46039f"
             ],
             [
              0.2222222222222222,
              "#7201a8"
             ],
             [
              0.3333333333333333,
              "#9c179e"
             ],
             [
              0.4444444444444444,
              "#bd3786"
             ],
             [
              0.5555555555555556,
              "#d8576b"
             ],
             [
              0.6666666666666666,
              "#ed7953"
             ],
             [
              0.7777777777777778,
              "#fb9f3a"
             ],
             [
              0.8888888888888888,
              "#fdca26"
             ],
             [
              1,
              "#f0f921"
             ]
            ],
            "type": "surface"
           }
          ],
          "table": [
           {
            "cells": {
             "fill": {
              "color": "#EBF0F8"
             },
             "line": {
              "color": "white"
             }
            },
            "header": {
             "fill": {
              "color": "#C8D4E3"
             },
             "line": {
              "color": "white"
             }
            },
            "type": "table"
           }
          ]
         },
         "layout": {
          "annotationdefaults": {
           "arrowcolor": "#2a3f5f",
           "arrowhead": 0,
           "arrowwidth": 1
          },
          "coloraxis": {
           "colorbar": {
            "outlinewidth": 0,
            "ticks": ""
           }
          },
          "colorscale": {
           "diverging": [
            [
             0,
             "#8e0152"
            ],
            [
             0.1,
             "#c51b7d"
            ],
            [
             0.2,
             "#de77ae"
            ],
            [
             0.3,
             "#f1b6da"
            ],
            [
             0.4,
             "#fde0ef"
            ],
            [
             0.5,
             "#f7f7f7"
            ],
            [
             0.6,
             "#e6f5d0"
            ],
            [
             0.7,
             "#b8e186"
            ],
            [
             0.8,
             "#7fbc41"
            ],
            [
             0.9,
             "#4d9221"
            ],
            [
             1,
             "#276419"
            ]
           ],
           "sequential": [
            [
             0,
             "#0d0887"
            ],
            [
             0.1111111111111111,
             "#46039f"
            ],
            [
             0.2222222222222222,
             "#7201a8"
            ],
            [
             0.3333333333333333,
             "#9c179e"
            ],
            [
             0.4444444444444444,
             "#bd3786"
            ],
            [
             0.5555555555555556,
             "#d8576b"
            ],
            [
             0.6666666666666666,
             "#ed7953"
            ],
            [
             0.7777777777777778,
             "#fb9f3a"
            ],
            [
             0.8888888888888888,
             "#fdca26"
            ],
            [
             1,
             "#f0f921"
            ]
           ],
           "sequentialminus": [
            [
             0,
             "#0d0887"
            ],
            [
             0.1111111111111111,
             "#46039f"
            ],
            [
             0.2222222222222222,
             "#7201a8"
            ],
            [
             0.3333333333333333,
             "#9c179e"
            ],
            [
             0.4444444444444444,
             "#bd3786"
            ],
            [
             0.5555555555555556,
             "#d8576b"
            ],
            [
             0.6666666666666666,
             "#ed7953"
            ],
            [
             0.7777777777777778,
             "#fb9f3a"
            ],
            [
             0.8888888888888888,
             "#fdca26"
            ],
            [
             1,
             "#f0f921"
            ]
           ]
          },
          "colorway": [
           "#636efa",
           "#EF553B",
           "#00cc96",
           "#ab63fa",
           "#FFA15A",
           "#19d3f3",
           "#FF6692",
           "#B6E880",
           "#FF97FF",
           "#FECB52"
          ],
          "font": {
           "color": "#2a3f5f"
          },
          "geo": {
           "bgcolor": "white",
           "lakecolor": "white",
           "landcolor": "#E5ECF6",
           "showlakes": true,
           "showland": true,
           "subunitcolor": "white"
          },
          "hoverlabel": {
           "align": "left"
          },
          "hovermode": "closest",
          "mapbox": {
           "style": "light"
          },
          "paper_bgcolor": "white",
          "plot_bgcolor": "#E5ECF6",
          "polar": {
           "angularaxis": {
            "gridcolor": "white",
            "linecolor": "white",
            "ticks": ""
           },
           "bgcolor": "#E5ECF6",
           "radialaxis": {
            "gridcolor": "white",
            "linecolor": "white",
            "ticks": ""
           }
          },
          "scene": {
           "xaxis": {
            "backgroundcolor": "#E5ECF6",
            "gridcolor": "white",
            "gridwidth": 2,
            "linecolor": "white",
            "showbackground": true,
            "ticks": "",
            "zerolinecolor": "white"
           },
           "yaxis": {
            "backgroundcolor": "#E5ECF6",
            "gridcolor": "white",
            "gridwidth": 2,
            "linecolor": "white",
            "showbackground": true,
            "ticks": "",
            "zerolinecolor": "white"
           },
           "zaxis": {
            "backgroundcolor": "#E5ECF6",
            "gridcolor": "white",
            "gridwidth": 2,
            "linecolor": "white",
            "showbackground": true,
            "ticks": "",
            "zerolinecolor": "white"
           }
          },
          "shapedefaults": {
           "line": {
            "color": "#2a3f5f"
           }
          },
          "ternary": {
           "aaxis": {
            "gridcolor": "white",
            "linecolor": "white",
            "ticks": ""
           },
           "baxis": {
            "gridcolor": "white",
            "linecolor": "white",
            "ticks": ""
           },
           "bgcolor": "#E5ECF6",
           "caxis": {
            "gridcolor": "white",
            "linecolor": "white",
            "ticks": ""
           }
          },
          "title": {
           "x": 0.05
          },
          "xaxis": {
           "automargin": true,
           "gridcolor": "white",
           "linecolor": "white",
           "ticks": "",
           "title": {
            "standoff": 15
           },
           "zerolinecolor": "white",
           "zerolinewidth": 2
          },
          "yaxis": {
           "automargin": true,
           "gridcolor": "white",
           "linecolor": "white",
           "ticks": "",
           "title": {
            "standoff": 15
           },
           "zerolinecolor": "white",
           "zerolinewidth": 2
          }
         }
        }
       }
      },
      "text/html": [
       "<div>\n",
       "        \n",
       "        \n",
       "            <div id=\"641ff8b0-d213-452a-9973-0dce576d9ae7\" class=\"plotly-graph-div\" style=\"height:525px; width:100%;\"></div>\n",
       "            <script type=\"text/javascript\">\n",
       "                require([\"plotly\"], function(Plotly) {\n",
       "                    window.PLOTLYENV=window.PLOTLYENV || {};\n",
       "                    \n",
       "                if (document.getElementById(\"641ff8b0-d213-452a-9973-0dce576d9ae7\")) {\n",
       "                    Plotly.newPlot(\n",
       "                        '641ff8b0-d213-452a-9973-0dce576d9ae7',\n",
       "                        [{\"domain\": {\"x\": [0.0, 1.0], \"y\": [0.0, 1.0]}, \"hovertemplate\": \"Item=%{label}<br>Value=%{value}<extra></extra>\", \"labels\": [\"Ammonia, anhydrous\", \"Ammonia, anhydrous\", \"Ammonia, anhydrous\", \"Ammonia, anhydrous\", \"Ammonia, anhydrous\", \"Ammonia, anhydrous\", \"Ammonia, anhydrous\", \"Ammonia, anhydrous\", \"Ammonia, anhydrous\", \"Ammonia, anhydrous\", \"Ammonia, anhydrous\", \"Ammonia, anhydrous\", \"Ammonia, anhydrous\", \"Ammonia, anhydrous\", \"Ammonia, anhydrous\", \"Ammonia, anhydrous\", \"Ammonia, anhydrous\", \"Ammonia, anhydrous\", \"Ammonia, anhydrous\", \"Ammonia, anhydrous\", \"Ammonia, anhydrous\", \"Ammonia, anhydrous\", \"Ammonia, anhydrous\", \"Ammonia, anhydrous\", \"Ammonia, anhydrous\", \"Ammonia, anhydrous\", \"Ammonia, anhydrous\", \"Ammonia, anhydrous\", \"Ammonia, anhydrous\", \"Ammonia, anhydrous\", \"Ammonia, anhydrous\", \"Ammonia, anhydrous\", \"Ammonium nitrate (AN)\", \"Ammonium nitrate (AN)\", \"Ammonium nitrate (AN)\", \"Ammonium nitrate (AN)\", \"Ammonium nitrate (AN)\", \"Ammonium nitrate (AN)\", \"Ammonium nitrate (AN)\", \"Ammonium nitrate (AN)\", \"Ammonium nitrate (AN)\", \"Ammonium nitrate (AN)\", \"Ammonium nitrate (AN)\", \"Ammonium nitrate (AN)\", \"Ammonium nitrate (AN)\", \"Ammonium nitrate (AN)\", \"Ammonium nitrate (AN)\", \"Ammonium nitrate (AN)\", \"Ammonium nitrate (AN)\", \"Ammonium nitrate (AN)\", \"Ammonium nitrate (AN)\", \"Ammonium nitrate (AN)\", \"Ammonium nitrate (AN)\", \"Ammonium nitrate (AN)\", \"Ammonium nitrate (AN)\", \"Ammonium nitrate (AN)\", \"Ammonium nitrate (AN)\", \"Ammonium nitrate (AN)\", \"Ammonium nitrate (AN)\", \"Ammonium nitrate (AN)\", \"Ammonium nitrate (AN)\", \"Ammonium nitrate (AN)\", \"Ammonium nitrate (AN)\", \"Ammonium nitrate (AN)\", \"Ammonium sulphate\", \"Ammonium sulphate\", \"Ammonium sulphate\", \"Ammonium sulphate\", \"Ammonium sulphate\", \"Ammonium sulphate\", \"Ammonium sulphate\", \"Ammonium sulphate\", \"Ammonium sulphate\", \"Ammonium sulphate\", \"Ammonium sulphate\", \"Ammonium sulphate\", \"Ammonium sulphate\", \"Ammonium sulphate\", \"Ammonium sulphate\", \"Ammonium sulphate\", \"Ammonium sulphate\", \"Ammonium sulphate\", \"Ammonium sulphate\", \"Ammonium sulphate\", \"Ammonium sulphate\", \"Ammonium sulphate\", \"Ammonium sulphate\", \"Ammonium sulphate\", \"Ammonium sulphate\", \"Ammonium sulphate\", \"Ammonium sulphate\", \"Ammonium sulphate\", \"Ammonium sulphate\", \"Ammonium sulphate\", \"Ammonium sulphate\", \"Ammonium sulphate\", \"Calcium ammonium nitrate (CAN) and other mixtures with calcium carbonate\", \"Calcium ammonium nitrate (CAN) and other mixtures with calcium carbonate\", \"Calcium ammonium nitrate (CAN) and other mixtures with calcium carbonate\", \"Calcium ammonium nitrate (CAN) and other mixtures with calcium carbonate\", \"Calcium ammonium nitrate (CAN) and other mixtures with calcium carbonate\", \"Calcium ammonium nitrate (CAN) and other mixtures with calcium carbonate\", \"Calcium ammonium nitrate (CAN) and other mixtures with calcium carbonate\", \"Calcium ammonium nitrate (CAN) and other mixtures with calcium carbonate\", \"Calcium ammonium nitrate (CAN) and other mixtures with calcium carbonate\", \"Calcium ammonium nitrate (CAN) and other mixtures with calcium carbonate\", \"Calcium ammonium nitrate (CAN) and other mixtures with calcium carbonate\", \"Calcium ammonium nitrate (CAN) and other mixtures with calcium carbonate\", \"Calcium ammonium nitrate (CAN) and other mixtures with calcium carbonate\", \"Calcium ammonium nitrate (CAN) and other mixtures with calcium carbonate\", \"Calcium ammonium nitrate (CAN) and other mixtures with calcium carbonate\", \"Calcium ammonium nitrate (CAN) and other mixtures with calcium carbonate\", \"Calcium ammonium nitrate (CAN) and other mixtures with calcium carbonate\", \"Calcium ammonium nitrate (CAN) and other mixtures with calcium carbonate\", \"Calcium ammonium nitrate (CAN) and other mixtures with calcium carbonate\", \"Calcium ammonium nitrate (CAN) and other mixtures with calcium carbonate\", \"Calcium ammonium nitrate (CAN) and other mixtures with calcium carbonate\", \"Calcium ammonium nitrate (CAN) and other mixtures with calcium carbonate\", \"Calcium ammonium nitrate (CAN) and other mixtures with calcium carbonate\", \"Diammonium phosphate (DAP)\", \"Diammonium phosphate (DAP)\", \"Diammonium phosphate (DAP)\", \"Diammonium phosphate (DAP)\", \"Diammonium phosphate (DAP)\", \"Diammonium phosphate (DAP)\", \"Diammonium phosphate (DAP)\", \"Diammonium phosphate (DAP)\", \"Diammonium phosphate (DAP)\", \"Diammonium phosphate (DAP)\", \"Diammonium phosphate (DAP)\", \"Diammonium phosphate (DAP)\", \"Diammonium phosphate (DAP)\", \"Diammonium phosphate (DAP)\", \"Diammonium phosphate (DAP)\", \"Diammonium phosphate (DAP)\", \"Diammonium phosphate (DAP)\", \"Diammonium phosphate (DAP)\", \"Diammonium phosphate (DAP)\", \"Diammonium phosphate (DAP)\", \"Diammonium phosphate (DAP)\", \"Diammonium phosphate (DAP)\", \"Diammonium phosphate (DAP)\", \"Diammonium phosphate (DAP)\", \"Diammonium phosphate (DAP)\", \"Diammonium phosphate (DAP)\", \"Diammonium phosphate (DAP)\", \"Diammonium phosphate (DAP)\", \"Diammonium phosphate (DAP)\", \"Diammonium phosphate (DAP)\", \"Diammonium phosphate (DAP)\", \"Diammonium phosphate (DAP)\", \"Fertilizers n.e.c.\", \"Fertilizers n.e.c.\", \"Fertilizers n.e.c.\", \"Fertilizers n.e.c.\", \"Fertilizers n.e.c.\", \"Fertilizers n.e.c.\", \"Fertilizers n.e.c.\", \"Fertilizers n.e.c.\", \"Fertilizers n.e.c.\", \"Fertilizers n.e.c.\", \"Fertilizers n.e.c.\", \"Fertilizers n.e.c.\", \"Fertilizers n.e.c.\", \"Fertilizers n.e.c.\", \"Fertilizers n.e.c.\", \"Fertilizers n.e.c.\", \"Fertilizers n.e.c.\", \"Fertilizers n.e.c.\", \"Fertilizers n.e.c.\", \"Fertilizers n.e.c.\", \"Fertilizers n.e.c.\", \"Fertilizers n.e.c.\", \"Fertilizers n.e.c.\", \"Fertilizers n.e.c.\", \"Fertilizers n.e.c.\", \"Fertilizers n.e.c.\", \"Fertilizers n.e.c.\", \"Fertilizers n.e.c.\", \"Fertilizers n.e.c.\", \"Fertilizers n.e.c.\", \"Fertilizers n.e.c.\", \"Fertilizers n.e.c.\", \"Monoammonium phosphate (MAP)\", \"Monoammonium phosphate (MAP)\", \"Monoammonium phosphate (MAP)\", \"Monoammonium phosphate (MAP)\", \"Monoammonium phosphate (MAP)\", \"Monoammonium phosphate (MAP)\", \"Monoammonium phosphate (MAP)\", \"Monoammonium phosphate (MAP)\", \"Monoammonium phosphate (MAP)\", \"Monoammonium phosphate (MAP)\", \"Monoammonium phosphate (MAP)\", \"Monoammonium phosphate (MAP)\", \"Monoammonium phosphate (MAP)\", \"Monoammonium phosphate (MAP)\", \"Monoammonium phosphate (MAP)\", \"Monoammonium phosphate (MAP)\", \"Monoammonium phosphate (MAP)\", \"Monoammonium phosphate (MAP)\", \"Monoammonium phosphate (MAP)\", \"Monoammonium phosphate (MAP)\", \"Monoammonium phosphate (MAP)\", \"Monoammonium phosphate (MAP)\", \"Monoammonium phosphate (MAP)\", \"Monoammonium phosphate (MAP)\", \"Monoammonium phosphate (MAP)\", \"Monoammonium phosphate (MAP)\", \"Monoammonium phosphate (MAP)\", \"Monoammonium phosphate (MAP)\", \"Monoammonium phosphate (MAP)\", \"Monoammonium phosphate (MAP)\", \"Monoammonium phosphate (MAP)\", \"Monoammonium phosphate (MAP)\", \"NPK fertilizers\", \"NPK fertilizers\", \"NPK fertilizers\", \"NPK fertilizers\", \"NPK fertilizers\", \"NPK fertilizers\", \"NPK fertilizers\", \"NPK fertilizers\", \"NPK fertilizers\", \"NPK fertilizers\", \"NPK fertilizers\", \"NPK fertilizers\", \"NPK fertilizers\", \"NPK fertilizers\", \"NPK fertilizers\", \"NPK fertilizers\", \"NPK fertilizers\", \"NPK fertilizers\", \"NPK fertilizers\", \"NPK fertilizers\", \"NPK fertilizers\", \"NPK fertilizers\", \"NPK fertilizers\", \"NPK fertilizers\", \"NPK fertilizers\", \"NPK fertilizers\", \"NPK fertilizers\", \"NPK fertilizers\", \"NPK fertilizers\", \"NPK fertilizers\", \"NPK fertilizers\", \"NPK fertilizers\", \"Other nitrogenous fertilizers, n.e.c.\", \"Other nitrogenous fertilizers, n.e.c.\", \"Other nitrogenous fertilizers, n.e.c.\", \"Other nitrogenous fertilizers, n.e.c.\", \"Other nitrogenous fertilizers, n.e.c.\", \"Other nitrogenous fertilizers, n.e.c.\", \"Other nitrogenous fertilizers, n.e.c.\", \"Other nitrogenous fertilizers, n.e.c.\", \"Other nitrogenous fertilizers, n.e.c.\", \"Other nitrogenous fertilizers, n.e.c.\", \"Other nitrogenous fertilizers, n.e.c.\", \"Other nitrogenous fertilizers, n.e.c.\", \"Other nitrogenous fertilizers, n.e.c.\", \"Other nitrogenous fertilizers, n.e.c.\", \"Other nitrogenous fertilizers, n.e.c.\", \"Other nitrogenous fertilizers, n.e.c.\", \"Other nitrogenous fertilizers, n.e.c.\", \"Other nitrogenous fertilizers, n.e.c.\", \"Other nitrogenous fertilizers, n.e.c.\", \"Other nitrogenous fertilizers, n.e.c.\", \"Other nitrogenous fertilizers, n.e.c.\", \"Other nitrogenous fertilizers, n.e.c.\", \"Other nitrogenous fertilizers, n.e.c.\", \"Other nitrogenous fertilizers, n.e.c.\", \"Other nitrogenous fertilizers, n.e.c.\", \"Other nitrogenous fertilizers, n.e.c.\", \"Other nitrogenous fertilizers, n.e.c.\", \"Other nitrogenous fertilizers, n.e.c.\", \"Other nitrogenous fertilizers, n.e.c.\", \"Other nitrogenous fertilizers, n.e.c.\", \"Other nitrogenous fertilizers, n.e.c.\", \"Other nitrogenous fertilizers, n.e.c.\", \"Other NP compounds\", \"Other NP compounds\", \"Other NP compounds\", \"Other NP compounds\", \"Other NP compounds\", \"Other NP compounds\", \"Other NP compounds\", \"Other NP compounds\", \"Other NP compounds\", \"Other NP compounds\", \"Other NP compounds\", \"Other NP compounds\", \"Other NP compounds\", \"Other NP compounds\", \"Other NP compounds\", \"Other NP compounds\", \"Other NP compounds\", \"Other NP compounds\", \"Other NP compounds\", \"Other NP compounds\", \"Other NP compounds\", \"Other NP compounds\", \"Other NP compounds\", \"Other NP compounds\", \"Other NP compounds\", \"Other NP compounds\", \"Other NP compounds\", \"Other NP compounds\", \"Other NP compounds\", \"Other NP compounds\", \"Other NP compounds\", \"Other NP compounds\", \"Other phosphatic fertilizers, n.e.c.\", \"Other phosphatic fertilizers, n.e.c.\", \"Other phosphatic fertilizers, n.e.c.\", \"Other phosphatic fertilizers, n.e.c.\", \"Other phosphatic fertilizers, n.e.c.\", \"Other phosphatic fertilizers, n.e.c.\", \"Other phosphatic fertilizers, n.e.c.\", \"Other phosphatic fertilizers, n.e.c.\", \"Other phosphatic fertilizers, n.e.c.\", \"Other phosphatic fertilizers, n.e.c.\", \"Other phosphatic fertilizers, n.e.c.\", \"Other phosphatic fertilizers, n.e.c.\", \"Other phosphatic fertilizers, n.e.c.\", \"Other phosphatic fertilizers, n.e.c.\", \"Other phosphatic fertilizers, n.e.c.\", \"Other phosphatic fertilizers, n.e.c.\", \"Other phosphatic fertilizers, n.e.c.\", \"Other phosphatic fertilizers, n.e.c.\", \"Other phosphatic fertilizers, n.e.c.\", \"Other phosphatic fertilizers, n.e.c.\", \"Other phosphatic fertilizers, n.e.c.\", \"Other phosphatic fertilizers, n.e.c.\", \"Other phosphatic fertilizers, n.e.c.\", \"Other phosphatic fertilizers, n.e.c.\", \"Other phosphatic fertilizers, n.e.c.\", \"Other phosphatic fertilizers, n.e.c.\", \"Other phosphatic fertilizers, n.e.c.\", \"Other phosphatic fertilizers, n.e.c.\", \"Other phosphatic fertilizers, n.e.c.\", \"Other phosphatic fertilizers, n.e.c.\", \"Other phosphatic fertilizers, n.e.c.\", \"Other phosphatic fertilizers, n.e.c.\", \"Other potassic fertilizers, n.e.c.\", \"Other potassic fertilizers, n.e.c.\", \"Other potassic fertilizers, n.e.c.\", \"Other potassic fertilizers, n.e.c.\", \"Other potassic fertilizers, n.e.c.\", \"Other potassic fertilizers, n.e.c.\", \"Other potassic fertilizers, n.e.c.\", \"Other potassic fertilizers, n.e.c.\", \"Other potassic fertilizers, n.e.c.\", \"Other potassic fertilizers, n.e.c.\", \"Other potassic fertilizers, n.e.c.\", \"Other potassic fertilizers, n.e.c.\", \"Other potassic fertilizers, n.e.c.\", \"Other potassic fertilizers, n.e.c.\", \"Other potassic fertilizers, n.e.c.\", \"Other potassic fertilizers, n.e.c.\", \"Other potassic fertilizers, n.e.c.\", \"Other potassic fertilizers, n.e.c.\", \"Other potassic fertilizers, n.e.c.\", \"Other potassic fertilizers, n.e.c.\", \"Other potassic fertilizers, n.e.c.\", \"Other potassic fertilizers, n.e.c.\", \"Other potassic fertilizers, n.e.c.\", \"Other potassic fertilizers, n.e.c.\", \"Other potassic fertilizers, n.e.c.\", \"Other potassic fertilizers, n.e.c.\", \"Other potassic fertilizers, n.e.c.\", \"Other potassic fertilizers, n.e.c.\", \"Other potassic fertilizers, n.e.c.\", \"Other potassic fertilizers, n.e.c.\", \"Other potassic fertilizers, n.e.c.\", \"Other potassic fertilizers, n.e.c.\", \"Phosphate rock\", \"Phosphate rock\", \"Phosphate rock\", \"Phosphate rock\", \"Phosphate rock\", \"Phosphate rock\", \"Phosphate rock\", \"Phosphate rock\", \"Phosphate rock\", \"Phosphate rock\", \"Phosphate rock\", \"Phosphate rock\", \"Phosphate rock\", \"Phosphate rock\", \"Phosphate rock\", \"Phosphate rock\", \"Phosphate rock\", \"Phosphate rock\", \"Phosphate rock\", \"Phosphate rock\", \"Phosphate rock\", \"Phosphate rock\", \"Phosphate rock\", \"Phosphate rock\", \"Phosphate rock\", \"Phosphate rock\", \"Phosphate rock\", \"Phosphate rock\", \"Phosphate rock\", \"Phosphate rock\", \"Phosphate rock\", \"Phosphate rock\", \"PK compounds\", \"PK compounds\", \"PK compounds\", \"PK compounds\", \"PK compounds\", \"PK compounds\", \"PK compounds\", \"PK compounds\", \"PK compounds\", \"PK compounds\", \"PK compounds\", \"PK compounds\", \"PK compounds\", \"PK compounds\", \"PK compounds\", \"PK compounds\", \"PK compounds\", \"PK compounds\", \"PK compounds\", \"PK compounds\", \"PK compounds\", \"PK compounds\", \"PK compounds\", \"PK compounds\", \"PK compounds\", \"PK compounds\", \"PK compounds\", \"PK compounds\", \"PK compounds\", \"PK compounds\", \"PK compounds\", \"PK compounds\", \"Potassium chloride (muriate of potash) (MOP)\", \"Potassium chloride (muriate of potash) (MOP)\", \"Potassium chloride (muriate of potash) (MOP)\", \"Potassium chloride (muriate of potash) (MOP)\", \"Potassium chloride (muriate of potash) (MOP)\", \"Potassium chloride (muriate of potash) (MOP)\", \"Potassium chloride (muriate of potash) (MOP)\", \"Potassium chloride (muriate of potash) (MOP)\", \"Potassium chloride (muriate of potash) (MOP)\", \"Potassium chloride (muriate of potash) (MOP)\", \"Potassium chloride (muriate of potash) (MOP)\", \"Potassium chloride (muriate of potash) (MOP)\", \"Potassium chloride (muriate of potash) (MOP)\", \"Potassium chloride (muriate of potash) (MOP)\", \"Potassium chloride (muriate of potash) (MOP)\", \"Potassium chloride (muriate of potash) (MOP)\", \"Potassium chloride (muriate of potash) (MOP)\", \"Potassium chloride (muriate of potash) (MOP)\", \"Potassium chloride (muriate of potash) (MOP)\", \"Potassium chloride (muriate of potash) (MOP)\", \"Potassium chloride (muriate of potash) (MOP)\", \"Potassium chloride (muriate of potash) (MOP)\", \"Potassium chloride (muriate of potash) (MOP)\", \"Potassium chloride (muriate of potash) (MOP)\", \"Potassium chloride (muriate of potash) (MOP)\", \"Potassium chloride (muriate of potash) (MOP)\", \"Potassium chloride (muriate of potash) (MOP)\", \"Potassium chloride (muriate of potash) (MOP)\", \"Potassium chloride (muriate of potash) (MOP)\", \"Potassium chloride (muriate of potash) (MOP)\", \"Potassium chloride (muriate of potash) (MOP)\", \"Potassium chloride (muriate of potash) (MOP)\", \"Potassium nitrate\", \"Potassium nitrate\", \"Potassium nitrate\", \"Potassium nitrate\", \"Potassium nitrate\", \"Potassium nitrate\", \"Potassium nitrate\", \"Potassium nitrate\", \"Potassium nitrate\", \"Potassium nitrate\", \"Potassium nitrate\", \"Potassium nitrate\", \"Potassium nitrate\", \"Potassium nitrate\", \"Potassium nitrate\", \"Potassium nitrate\", \"Potassium nitrate\", \"Potassium nitrate\", \"Potassium nitrate\", \"Potassium nitrate\", \"Potassium nitrate\", \"Potassium nitrate\", \"Potassium nitrate\", \"Potassium nitrate\", \"Potassium nitrate\", \"Potassium nitrate\", \"Potassium nitrate\", \"Potassium nitrate\", \"Potassium sulphate (sulphate of potash) (SOP)\", \"Potassium sulphate (sulphate of potash) (SOP)\", \"Potassium sulphate (sulphate of potash) (SOP)\", \"Potassium sulphate (sulphate of potash) (SOP)\", \"Potassium sulphate (sulphate of potash) (SOP)\", \"Potassium sulphate (sulphate of potash) (SOP)\", \"Potassium sulphate (sulphate of potash) (SOP)\", \"Potassium sulphate (sulphate of potash) (SOP)\", \"Potassium sulphate (sulphate of potash) (SOP)\", \"Potassium sulphate (sulphate of potash) (SOP)\", \"Potassium sulphate (sulphate of potash) (SOP)\", \"Potassium sulphate (sulphate of potash) (SOP)\", \"Potassium sulphate (sulphate of potash) (SOP)\", \"Potassium sulphate (sulphate of potash) (SOP)\", \"Potassium sulphate (sulphate of potash) (SOP)\", \"Potassium sulphate (sulphate of potash) (SOP)\", \"Potassium sulphate (sulphate of potash) (SOP)\", \"Potassium sulphate (sulphate of potash) (SOP)\", \"Potassium sulphate (sulphate of potash) (SOP)\", \"Potassium sulphate (sulphate of potash) (SOP)\", \"Potassium sulphate (sulphate of potash) (SOP)\", \"Potassium sulphate (sulphate of potash) (SOP)\", \"Potassium sulphate (sulphate of potash) (SOP)\", \"Potassium sulphate (sulphate of potash) (SOP)\", \"Potassium sulphate (sulphate of potash) (SOP)\", \"Potassium sulphate (sulphate of potash) (SOP)\", \"Potassium sulphate (sulphate of potash) (SOP)\", \"Potassium sulphate (sulphate of potash) (SOP)\", \"Potassium sulphate (sulphate of potash) (SOP)\", \"Potassium sulphate (sulphate of potash) (SOP)\", \"Potassium sulphate (sulphate of potash) (SOP)\", \"Potassium sulphate (sulphate of potash) (SOP)\", \"Sodium nitrate\", \"Sodium nitrate\", \"Sodium nitrate\", \"Sodium nitrate\", \"Sodium nitrate\", \"Sodium nitrate\", \"Sodium nitrate\", \"Sodium nitrate\", \"Sodium nitrate\", \"Sodium nitrate\", \"Sodium nitrate\", \"Sodium nitrate\", \"Sodium nitrate\", \"Sodium nitrate\", \"Sodium nitrate\", \"Sodium nitrate\", \"Sodium nitrate\", \"Sodium nitrate\", \"Sodium nitrate\", \"Sodium nitrate\", \"Sodium nitrate\", \"Sodium nitrate\", \"Sodium nitrate\", \"Sodium nitrate\", \"Sodium nitrate\", \"Sodium nitrate\", \"Sodium nitrate\", \"Sodium nitrate\", \"Sodium nitrate\", \"Sodium nitrate\", \"Sodium nitrate\", \"Sodium nitrate\", \"Superphosphates above 35%\", \"Superphosphates above 35%\", \"Superphosphates above 35%\", \"Superphosphates above 35%\", \"Superphosphates above 35%\", \"Superphosphates above 35%\", \"Superphosphates above 35%\", \"Superphosphates above 35%\", \"Superphosphates above 35%\", \"Superphosphates above 35%\", \"Superphosphates above 35%\", \"Superphosphates above 35%\", \"Superphosphates above 35%\", \"Superphosphates above 35%\", \"Superphosphates above 35%\", \"Superphosphates above 35%\", \"Superphosphates above 35%\", \"Superphosphates above 35%\", \"Superphosphates above 35%\", \"Superphosphates above 35%\", \"Superphosphates above 35%\", \"Superphosphates above 35%\", \"Superphosphates above 35%\", \"Superphosphates above 35%\", \"Superphosphates above 35%\", \"Superphosphates above 35%\", \"Superphosphates above 35%\", \"Superphosphates above 35%\", \"Superphosphates above 35%\", \"Superphosphates above 35%\", \"Superphosphates above 35%\", \"Superphosphates above 35%\", \"Superphosphates, other\", \"Superphosphates, other\", \"Urea\", \"Urea\", \"Urea\", \"Urea\", \"Urea\", \"Urea\", \"Urea\", \"Urea\", \"Urea\", \"Urea\", \"Urea\", \"Urea\", \"Urea\", \"Urea\", \"Urea\", \"Urea\", \"Urea\", \"Urea\", \"Urea\", \"Urea\", \"Urea\", \"Urea\", \"Urea\", \"Urea\", \"Urea\", \"Urea\", \"Urea\", \"Urea\", \"Urea\", \"Urea\", \"Urea\", \"Urea\", \"Urea and ammonium nitrate solutions (UAN)\", \"Urea and ammonium nitrate solutions (UAN)\", \"Urea and ammonium nitrate solutions (UAN)\", \"Urea and ammonium nitrate solutions (UAN)\", \"Urea and ammonium nitrate solutions (UAN)\", \"Urea and ammonium nitrate solutions (UAN)\", \"Urea and ammonium nitrate solutions (UAN)\", \"Urea and ammonium nitrate solutions (UAN)\", \"Urea and ammonium nitrate solutions (UAN)\", \"Urea and ammonium nitrate solutions (UAN)\", \"Urea and ammonium nitrate solutions (UAN)\", \"Urea and ammonium nitrate solutions (UAN)\", \"Urea and ammonium nitrate solutions (UAN)\", \"Urea and ammonium nitrate solutions (UAN)\", \"Urea and ammonium nitrate solutions (UAN)\", \"Urea and ammonium nitrate solutions (UAN)\", \"Urea and ammonium nitrate solutions (UAN)\", \"Urea and ammonium nitrate solutions (UAN)\", \"Urea and ammonium nitrate solutions (UAN)\", \"Urea and ammonium nitrate solutions (UAN)\", \"Urea and ammonium nitrate solutions (UAN)\"], \"legendgroup\": \"\", \"name\": \"\", \"showlegend\": true, \"type\": \"pie\", \"values\": [267472.82, 287944.72, 228732.15, 252243.8, 254143.91, 313405.88, 305677.5, 325792.22, 363663.02, 334139.89, 399030.14, 321784.56, 354621.76, 353045.17, 348339.2, 286186.31, 158.0, 78.24, 160.0, 262.0, 294.0, 23981.93, 24087.38, 14870.78, 35460.87, 28539.0, 24159.32, 25728.05, 24036.64, 39005.54, 101796.93, 56537.6, 564611.47, 477506.28, 269025.37, 244101.88, 339036.66, 771186.05, 769084.46, 942008.52, 1036106.59, 1488751.67, 1235815.95, 1372458.77, 1085818.19, 1039858.35, 1183597.26, 1327483.45, 31377.38, 28555.79, 32364.1, 32967.68, 19469.6, 14148.58, 13625.0, 16496.36, 10061.68, 3870.08, 2760.16, 2444.4, 1142.72, 423.2, 2612.24, 2306.68, 1145132.03, 1639322.63, 1695997.41, 1314582.24, 1635602.72, 2023899.8, 1525887.86, 1506588.71, 1652500.92, 2025118.91, 1631845.9, 1778577.25, 1837135.99, 1624428.34, 1917926.05, 1903960.77, 2435.71, 2463.91, 1437.35, 3531.08, 4345.28, 4130.25, 3374.6, 3473.36, 2831.31, 4884.0, 1169.19, 4110.66, 4068.01, 5020.03, 3692.4, 2873.11, 450.0, 2775.0, 308.0, 38137.36, 16105.85, 36044.44, 119822.15, 208913.88, 299785.57, 219287.84, 261825.98, 221753.89, 274126.66, 321650.4, 1.0, 0.03, 780.0, 3791.0, 2583.0, 1778.0, 917.0, 894.0, 100.0, 151045.49, 220864.0, 303683.52, 244752.8, 252834.72, 576744.68, 535139.1, 304910.31, 358707.37, 489706.43, 577615.27, 846206.53, 756484.92, 402225.31, 445349.62, 458184.74, 14297.1, 14126.0, 13332.01, 13731.36, 11006.5, 9909.0, 2709.9, 30112.64, 10592.0, 2756.75, 7149.76, 5175.0, 7547.0, 3591.0, 1855.0, 963.11, 170519.84, 178280.74, 229138.59, 180457.6, 182937.68, 177054.02, 183402.5, 187705.29, 165573.79, 149729.38, 183451.32, 182127.14, 100775.74, 79958.73, 81245.75, 97426.22, 11902.03, 18330.91, 9182.08, 7493.7, 6455.43, 4747.21, 8041.91, 8529.28, 10233.33, 11625.71, 10834.17, 14543.79, 12701.62, 11467.33, 13953.98, 18809.04, 1395627.76, 1769050.96, 2234825.73, 1286737.37, 1135562.27, 1644945.04, 1130044.11, 852578.86, 1195855.32, 2104092.66, 1772184.61, 2500663.72, 3004766.08, 2281251.42, 2714211.42, 3634880.75, 379.0, 804.01, 5187.27, 238.38, 86.0, 314.35, 7.93, 1852.46, 543.46, 890.45, 1383.94, 2905.45, 3083.21, 2313.8, 4748.2, 6062.39, 11113.21, 22557.86, 87799.04, 10640.52, 40171.95, 99642.32, 350746.52, 195324.91, 279931.4, 457968.94, 495030.31, 474144.39, 629250.11, 456596.21, 873232.65, 1117233.11, 171739.5, 231914.89, 272020.44, 250049.48, 273104.75, 393352.7, 354248.76, 263507.27, 392350.9, 392365.55, 374391.72, 500720.25, 543865.9, 454545.0, 314635.84, 290130.56, 28987.5, 36169.22, 46452.07, 56011.55, 49080.51, 88248.69, 95674.02, 88615.09, 99733.94, 124196.85, 123022.48, 151172.59, 235633.42, 258834.26, 422945.44, 563976.24, 83130.99, 63360.09, 133197.14, 84355.3, 78072.66, 36301.17, 29288.3, 20483.36, 29695.5, 30180.75, 15492.57, 17886.23, 17379.78, 13877.11, 16071.16, 19318.2, 283327.21, 504897.43, 844204.52, 550474.54, 623347.42, 951659.71, 780162.84, 216655.37, 478739.53, 1132988.16, 883146.99, 1446371.4, 1846156.68, 1257898.13, 1687946.32, 2276184.64, 13532.81, 22889.99, 44141.84, 41502.17, 31994.22, 46947.34, 44781.24, 46884.77, 57371.3, 62663.3, 50140.4, 62417.17, 49312.71, 42834.13, 56677.19, 46647.02, 10720.78, 9185.93, 364.5, 33.51, 9.25, 140.49, 47445.36, 405.28, 641.29, 1025.5, 25076.12, 626.76, 6743.7, 463.66, 359.8, 245.27, 693.0, 1974.5, 3753.73, 7761.42, 12108.1, 25854.83, 14858.5, 10163.18, 20132.27, 12862.59, 4904.57, 13706.36, 15500.62, 4030.0, 5225.52, 6584.9, 39.63, 3116.74, 5444.21, 6083.09, 8098.85, 7630.66, 8889.8, 15150.55, 24290.38, 30309.31, 20396.7, 14780.99, 9956.53, 31666.06, 69426.43, 147471.33, 196.3, 117.6, 141.05, 133.85, 276.32, 170.76, 219.15, 80.34, 121.14, 229.37, 313.5, 265.75, 355.6, 331.1, 793.28, 276.04, 1047951.86, 1095172.82, 1563891.56, 1215092.13, 1406010.38, 1749664.85, 1615730.44, 915067.87, 1399346.57, 1427578.9, 1271643.0, 1628737.92, 1752862.53, 1870923.27, 1711172.0, 1903017.38, 629.0, 4210.01, 621.0, 165.73, 462.21, 1026.0, 863.63, 0.0, 1653.4, 1679.13, 1082.91, 409.73, 702.82, 0.71, 2.5, 20.0, 1317.65, 939.98, 1622.45, 1572.83, 1886.69, 1842.83, 2728.67, 1160.78, 1997.72, 3086.31, 2721.82, 3966.19, 4258.3, 4750.61, 5070.69, 12650.66, 112486.9, 201774.1, 247299.8, 191188.59, 206255.55, 226869.38, 213413.53, 116983.7, 154494.87, 124546.65, 68493.43, 69723.49, 46230.12, 19046.86, 9997.39, 8099.59, 4372074.21, 5228202.66, 6816873.71, 5013053.86, 5403469.83, 6762615.08, 6751696.78, 3447333.44, 6123851.32, 7679198.79, 7043157.87, 8135848.51, 9051324.82, 7821589.61, 8713262.33, 9673652.54, 1885.25, 3525.44, 4492.26, 3233.23, 5895.99, 13974.07, 17193.37, 13862.5, 21466.38, 15921.26, 12187.66, 33955.47, 26611.01, 25371.81, 19008.02, 11990.64, 32169.93, 36765.84, 32745.39, 32808.85, 22758.07, 24219.85, 28645.37, 17761.7, 6868.21, 8969.37, 15223.83, 9680.86, 10559.48, 7345.92, 4129.24, 3581.63, 0.03, 0.05, 0.16, 0.03, 0.16, 0.03, 0.36, 0.01, 1.02, 0.47, 12.51, 15.0, 78513.2, 59958.67, 83888.2, 50519.91, 54290.81, 34537.99, 34656.74, 29043.0, 37063.36, 32538.64, 40489.3, 40920.69, 48224.11, 41555.42, 45175.87, 44435.52, 0.9, 14.11, 0.02, 0.01, 0.01, 98.44, 532.84, 169.85, 256.12, 721.7, 313.14, 547.71, 468.41, 281.98, 439.24, 797.71, 8548.39, 11053.81, 10781.18, 10377.9, 10976.97, 13567.05, 17427.37, 13606.06, 13450.11, 11911.13, 13031.94, 13661.91, 11909.94, 13537.06, 9864.27, 9099.47, 5.0, 0.0, 0.4, 2.62, 0.02, 4.2, 0.63, 111.69, 108.92, 13.91, 665.11, 49.2, 32.17, 68.36, 59.18, 55.44, 866292.46, 1066874.14, 1540582.84, 984908.59, 1070312.03, 1572247.28, 1322427.97, 1084845.05, 1304139.7, 1739777.07, 1667003.0, 2018911.5, 1626736.77, 1413098.08, 1387812.86, 765504.44, 33548.9, 46976.26, 63681.95, 169471.75, 134437.13, 67072.4, 43276.54, 66134.58, 68761.11, 72230.05, 34489.76, 20704.96, 32067.69, 15481.68, 8068.33, 3095.0, 632341.63, 1285.55, 1103268.79, 1447940.16, 1861204.96, 1558041.7, 1587751.3, 2510764.76, 2234527.93, 1940874.0, 2547141.88, 3041100.26, 2878253.64, 3498416.54, 4401407.41, 2849774.93, 3958012.31, 5425178.0, 99206.96, 45200.54, 26477.46, 62324.57, 9511.0, 17162.04, 15795.95, 15358.54, 16152.11, 10030.8, 12291.02, 16291.46, 17022.23, 18123.33, 28501.59, 20628.42, 0.01, 0.95, 1.63, 1.83, 1.54, 98.5, 15571.42, 28046.43, 32476.77, 0.34, 347.55, 886.69, 396.25, 581.09, 670.51, 289.5, 587.08, 316.4, 368.11, 299.4, 438.59]}],\n",
       "                        {\"legend\": {\"tracegroupgap\": 0}, \"margin\": {\"t\": 60}, \"showlegend\": false, \"template\": {\"data\": {\"bar\": [{\"error_x\": {\"color\": \"#2a3f5f\"}, \"error_y\": {\"color\": \"#2a3f5f\"}, \"marker\": {\"line\": {\"color\": \"#E5ECF6\", \"width\": 0.5}}, \"type\": \"bar\"}], \"barpolar\": [{\"marker\": {\"line\": {\"color\": \"#E5ECF6\", \"width\": 0.5}}, \"type\": \"barpolar\"}], \"carpet\": [{\"aaxis\": {\"endlinecolor\": \"#2a3f5f\", \"gridcolor\": \"white\", \"linecolor\": \"white\", \"minorgridcolor\": \"white\", \"startlinecolor\": \"#2a3f5f\"}, \"baxis\": {\"endlinecolor\": \"#2a3f5f\", \"gridcolor\": \"white\", \"linecolor\": \"white\", \"minorgridcolor\": \"white\", \"startlinecolor\": \"#2a3f5f\"}, \"type\": \"carpet\"}], \"choropleth\": [{\"colorbar\": {\"outlinewidth\": 0, \"ticks\": \"\"}, \"type\": \"choropleth\"}], \"contour\": [{\"colorbar\": {\"outlinewidth\": 0, \"ticks\": \"\"}, \"colorscale\": [[0.0, \"#0d0887\"], [0.1111111111111111, \"#46039f\"], [0.2222222222222222, \"#7201a8\"], [0.3333333333333333, \"#9c179e\"], [0.4444444444444444, \"#bd3786\"], [0.5555555555555556, \"#d8576b\"], [0.6666666666666666, \"#ed7953\"], [0.7777777777777778, \"#fb9f3a\"], [0.8888888888888888, \"#fdca26\"], [1.0, \"#f0f921\"]], \"type\": \"contour\"}], \"contourcarpet\": [{\"colorbar\": {\"outlinewidth\": 0, \"ticks\": \"\"}, \"type\": \"contourcarpet\"}], \"heatmap\": [{\"colorbar\": {\"outlinewidth\": 0, \"ticks\": \"\"}, \"colorscale\": [[0.0, \"#0d0887\"], [0.1111111111111111, \"#46039f\"], [0.2222222222222222, \"#7201a8\"], [0.3333333333333333, \"#9c179e\"], [0.4444444444444444, \"#bd3786\"], [0.5555555555555556, \"#d8576b\"], [0.6666666666666666, \"#ed7953\"], [0.7777777777777778, \"#fb9f3a\"], [0.8888888888888888, \"#fdca26\"], [1.0, \"#f0f921\"]], \"type\": \"heatmap\"}], \"heatmapgl\": [{\"colorbar\": {\"outlinewidth\": 0, \"ticks\": \"\"}, \"colorscale\": [[0.0, \"#0d0887\"], [0.1111111111111111, \"#46039f\"], [0.2222222222222222, \"#7201a8\"], [0.3333333333333333, \"#9c179e\"], [0.4444444444444444, \"#bd3786\"], [0.5555555555555556, \"#d8576b\"], [0.6666666666666666, \"#ed7953\"], [0.7777777777777778, \"#fb9f3a\"], [0.8888888888888888, \"#fdca26\"], [1.0, \"#f0f921\"]], \"type\": \"heatmapgl\"}], \"histogram\": [{\"marker\": {\"colorbar\": {\"outlinewidth\": 0, \"ticks\": \"\"}}, \"type\": \"histogram\"}], \"histogram2d\": [{\"colorbar\": {\"outlinewidth\": 0, \"ticks\": \"\"}, \"colorscale\": [[0.0, \"#0d0887\"], [0.1111111111111111, \"#46039f\"], [0.2222222222222222, \"#7201a8\"], [0.3333333333333333, \"#9c179e\"], [0.4444444444444444, \"#bd3786\"], [0.5555555555555556, \"#d8576b\"], [0.6666666666666666, \"#ed7953\"], [0.7777777777777778, \"#fb9f3a\"], [0.8888888888888888, \"#fdca26\"], [1.0, \"#f0f921\"]], \"type\": \"histogram2d\"}], \"histogram2dcontour\": [{\"colorbar\": {\"outlinewidth\": 0, \"ticks\": \"\"}, \"colorscale\": [[0.0, \"#0d0887\"], [0.1111111111111111, \"#46039f\"], [0.2222222222222222, \"#7201a8\"], [0.3333333333333333, \"#9c179e\"], [0.4444444444444444, \"#bd3786\"], [0.5555555555555556, \"#d8576b\"], [0.6666666666666666, \"#ed7953\"], [0.7777777777777778, \"#fb9f3a\"], [0.8888888888888888, \"#fdca26\"], [1.0, \"#f0f921\"]], \"type\": \"histogram2dcontour\"}], \"mesh3d\": [{\"colorbar\": {\"outlinewidth\": 0, \"ticks\": \"\"}, \"type\": \"mesh3d\"}], \"parcoords\": [{\"line\": {\"colorbar\": {\"outlinewidth\": 0, \"ticks\": \"\"}}, \"type\": \"parcoords\"}], \"pie\": [{\"automargin\": true, \"type\": \"pie\"}], \"scatter\": [{\"marker\": {\"colorbar\": {\"outlinewidth\": 0, \"ticks\": \"\"}}, \"type\": \"scatter\"}], \"scatter3d\": [{\"line\": {\"colorbar\": {\"outlinewidth\": 0, \"ticks\": \"\"}}, \"marker\": {\"colorbar\": {\"outlinewidth\": 0, \"ticks\": \"\"}}, \"type\": \"scatter3d\"}], \"scattercarpet\": [{\"marker\": {\"colorbar\": {\"outlinewidth\": 0, \"ticks\": \"\"}}, \"type\": \"scattercarpet\"}], \"scattergeo\": [{\"marker\": {\"colorbar\": {\"outlinewidth\": 0, \"ticks\": \"\"}}, \"type\": \"scattergeo\"}], \"scattergl\": [{\"marker\": {\"colorbar\": {\"outlinewidth\": 0, \"ticks\": \"\"}}, \"type\": \"scattergl\"}], \"scattermapbox\": [{\"marker\": {\"colorbar\": {\"outlinewidth\": 0, \"ticks\": \"\"}}, \"type\": \"scattermapbox\"}], \"scatterpolar\": [{\"marker\": {\"colorbar\": {\"outlinewidth\": 0, \"ticks\": \"\"}}, \"type\": \"scatterpolar\"}], \"scatterpolargl\": [{\"marker\": {\"colorbar\": {\"outlinewidth\": 0, \"ticks\": \"\"}}, \"type\": \"scatterpolargl\"}], \"scatterternary\": [{\"marker\": {\"colorbar\": {\"outlinewidth\": 0, \"ticks\": \"\"}}, \"type\": \"scatterternary\"}], \"surface\": [{\"colorbar\": {\"outlinewidth\": 0, \"ticks\": \"\"}, \"colorscale\": [[0.0, \"#0d0887\"], [0.1111111111111111, \"#46039f\"], [0.2222222222222222, \"#7201a8\"], [0.3333333333333333, \"#9c179e\"], [0.4444444444444444, \"#bd3786\"], [0.5555555555555556, \"#d8576b\"], [0.6666666666666666, \"#ed7953\"], [0.7777777777777778, \"#fb9f3a\"], [0.8888888888888888, \"#fdca26\"], [1.0, \"#f0f921\"]], \"type\": \"surface\"}], \"table\": [{\"cells\": {\"fill\": {\"color\": \"#EBF0F8\"}, \"line\": {\"color\": \"white\"}}, \"header\": {\"fill\": {\"color\": \"#C8D4E3\"}, \"line\": {\"color\": \"white\"}}, \"type\": \"table\"}]}, \"layout\": {\"annotationdefaults\": {\"arrowcolor\": \"#2a3f5f\", \"arrowhead\": 0, \"arrowwidth\": 1}, \"coloraxis\": {\"colorbar\": {\"outlinewidth\": 0, \"ticks\": \"\"}}, \"colorscale\": {\"diverging\": [[0, \"#8e0152\"], [0.1, \"#c51b7d\"], [0.2, \"#de77ae\"], [0.3, \"#f1b6da\"], [0.4, \"#fde0ef\"], [0.5, \"#f7f7f7\"], [0.6, \"#e6f5d0\"], [0.7, \"#b8e186\"], [0.8, \"#7fbc41\"], [0.9, \"#4d9221\"], [1, \"#276419\"]], \"sequential\": [[0.0, \"#0d0887\"], [0.1111111111111111, \"#46039f\"], [0.2222222222222222, \"#7201a8\"], [0.3333333333333333, \"#9c179e\"], [0.4444444444444444, \"#bd3786\"], [0.5555555555555556, \"#d8576b\"], [0.6666666666666666, \"#ed7953\"], [0.7777777777777778, \"#fb9f3a\"], [0.8888888888888888, \"#fdca26\"], [1.0, \"#f0f921\"]], \"sequentialminus\": [[0.0, \"#0d0887\"], [0.1111111111111111, \"#46039f\"], [0.2222222222222222, \"#7201a8\"], [0.3333333333333333, \"#9c179e\"], [0.4444444444444444, \"#bd3786\"], [0.5555555555555556, \"#d8576b\"], [0.6666666666666666, \"#ed7953\"], [0.7777777777777778, \"#fb9f3a\"], [0.8888888888888888, \"#fdca26\"], [1.0, \"#f0f921\"]]}, \"colorway\": [\"#636efa\", \"#EF553B\", \"#00cc96\", \"#ab63fa\", \"#FFA15A\", \"#19d3f3\", \"#FF6692\", \"#B6E880\", \"#FF97FF\", \"#FECB52\"], \"font\": {\"color\": \"#2a3f5f\"}, \"geo\": {\"bgcolor\": \"white\", \"lakecolor\": \"white\", \"landcolor\": \"#E5ECF6\", \"showlakes\": true, \"showland\": true, \"subunitcolor\": \"white\"}, \"hoverlabel\": {\"align\": \"left\"}, \"hovermode\": \"closest\", \"mapbox\": {\"style\": \"light\"}, \"paper_bgcolor\": \"white\", \"plot_bgcolor\": \"#E5ECF6\", \"polar\": {\"angularaxis\": {\"gridcolor\": \"white\", \"linecolor\": \"white\", \"ticks\": \"\"}, \"bgcolor\": \"#E5ECF6\", \"radialaxis\": {\"gridcolor\": \"white\", \"linecolor\": \"white\", \"ticks\": \"\"}}, \"scene\": {\"xaxis\": {\"backgroundcolor\": \"#E5ECF6\", \"gridcolor\": \"white\", \"gridwidth\": 2, \"linecolor\": \"white\", \"showbackground\": true, \"ticks\": \"\", \"zerolinecolor\": \"white\"}, \"yaxis\": {\"backgroundcolor\": \"#E5ECF6\", \"gridcolor\": \"white\", \"gridwidth\": 2, \"linecolor\": \"white\", \"showbackground\": true, \"ticks\": \"\", \"zerolinecolor\": \"white\"}, \"zaxis\": {\"backgroundcolor\": \"#E5ECF6\", \"gridcolor\": \"white\", \"gridwidth\": 2, \"linecolor\": \"white\", \"showbackground\": true, \"ticks\": \"\", \"zerolinecolor\": \"white\"}}, \"shapedefaults\": {\"line\": {\"color\": \"#2a3f5f\"}}, \"ternary\": {\"aaxis\": {\"gridcolor\": \"white\", \"linecolor\": \"white\", \"ticks\": \"\"}, \"baxis\": {\"gridcolor\": \"white\", \"linecolor\": \"white\", \"ticks\": \"\"}, \"bgcolor\": \"#E5ECF6\", \"caxis\": {\"gridcolor\": \"white\", \"linecolor\": \"white\", \"ticks\": \"\"}}, \"title\": {\"x\": 0.05}, \"xaxis\": {\"automargin\": true, \"gridcolor\": \"white\", \"linecolor\": \"white\", \"ticks\": \"\", \"title\": {\"standoff\": 15}, \"zerolinecolor\": \"white\", \"zerolinewidth\": 2}, \"yaxis\": {\"automargin\": true, \"gridcolor\": \"white\", \"linecolor\": \"white\", \"ticks\": \"\", \"title\": {\"standoff\": 15}, \"zerolinecolor\": \"white\", \"zerolinewidth\": 2}}}},\n",
       "                        {\"responsive\": true}\n",
       "                    ).then(function(){\n",
       "                            \n",
       "var gd = document.getElementById('641ff8b0-d213-452a-9973-0dce576d9ae7');\n",
       "var x = new MutationObserver(function (mutations, observer) {{\n",
       "        var display = window.getComputedStyle(gd).display;\n",
       "        if (!display || display === 'none') {{\n",
       "            console.log([gd, 'removed!']);\n",
       "            Plotly.purge(gd);\n",
       "            observer.disconnect();\n",
       "        }}\n",
       "}});\n",
       "\n",
       "// Listen for the removal of the full notebook cells\n",
       "var notebookContainer = gd.closest('#notebook-container');\n",
       "if (notebookContainer) {{\n",
       "    x.observe(notebookContainer, {childList: true});\n",
       "}}\n",
       "\n",
       "// Listen for the clearing of the current output cell\n",
       "var outputEl = gd.closest('.output');\n",
       "if (outputEl) {{\n",
       "    x.observe(outputEl, {childList: true});\n",
       "}}\n",
       "\n",
       "                        })\n",
       "                };\n",
       "                });\n",
       "            </script>\n",
       "        </div>"
      ]
     },
     "metadata": {},
     "output_type": "display_data"
    }
   ],
   "source": [
    "exports=brazil[(brazil['Element']=='Export Quantity')|\n",
    "              (brazil['Element']=='Import Quantity')]\n",
    "fig=px.pie(exports,values='Value',names='Item')\n",
    "fig.update(layout_showlegend=False)\n",
    "iplot(fig)"
   ]
  },
  {
   "cell_type": "code",
   "execution_count": null,
   "metadata": {},
   "outputs": [],
   "source": []
  },
  {
   "cell_type": "code",
   "execution_count": null,
   "metadata": {},
   "outputs": [],
   "source": []
  },
  {
   "cell_type": "code",
   "execution_count": null,
   "metadata": {},
   "outputs": [],
   "source": []
  },
  {
   "cell_type": "code",
   "execution_count": null,
   "metadata": {},
   "outputs": [],
   "source": []
  },
  {
   "cell_type": "code",
   "execution_count": null,
   "metadata": {},
   "outputs": [],
   "source": []
  },
  {
   "cell_type": "code",
   "execution_count": null,
   "metadata": {},
   "outputs": [],
   "source": []
  },
  {
   "cell_type": "code",
   "execution_count": null,
   "metadata": {},
   "outputs": [],
   "source": []
  },
  {
   "cell_type": "code",
   "execution_count": null,
   "metadata": {},
   "outputs": [],
   "source": []
  },
  {
   "cell_type": "code",
   "execution_count": null,
   "metadata": {},
   "outputs": [],
   "source": []
  },
  {
   "cell_type": "code",
   "execution_count": null,
   "metadata": {},
   "outputs": [],
   "source": []
  },
  {
   "cell_type": "code",
   "execution_count": null,
   "metadata": {},
   "outputs": [],
   "source": []
  }
 ],
 "metadata": {
  "kernelspec": {
   "display_name": "Python 3",
   "language": "python",
   "name": "python3"
  },
  "language_info": {
   "codemirror_mode": {
    "name": "ipython",
    "version": 3
   },
   "file_extension": ".py",
   "mimetype": "text/x-python",
   "name": "python",
   "nbconvert_exporter": "python",
   "pygments_lexer": "ipython3",
   "version": "3.7.7"
  }
 },
 "nbformat": 4,
 "nbformat_minor": 4
}
