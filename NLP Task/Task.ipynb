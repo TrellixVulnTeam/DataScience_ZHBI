{
 "cells": [
  {
   "cell_type": "code",
   "execution_count": 115,
   "metadata": {},
   "outputs": [],
   "source": [
    "import pandas as pd\n",
    "\n",
    "\n",
    "import nltk   #This is a core NLP library\n",
    "from nltk.corpus import stopwords  #\n",
    "import re\n",
    "\n",
    "#Used for creating a feature vector\n",
    "from sklearn.feature_extraction.text import CountVectorizer,TfidfVectorizer\n",
    "\n",
    "#Used for labelling the feature_output\n",
    "from sklearn.preprocessing import LabelEncoder\n",
    "\n",
    "#some classification algorithms to check into\n",
    "from sklearn.svm import SVC\n",
    "from sklearn.linear_model import PassiveAggressiveClassifier\n",
    "from sklearn.naive_bayes import MultinomialNB\n",
    "from sklearn.tree import DecisionTreeClassifier\n",
    "from sklearn.ensemble import RandomForestClassifier\n",
    "from sklearn.linear_model import SGDClassifier\n",
    "from sklearn.linear_model import LogisticRegression\n",
    "\n",
    "#Used to compare similarity between docs\n",
    "from sklearn.metrics.pairwise import cosine_similarity\n",
    "\n",
    "from nltk.stem import PorterStemmer,WordNetLemmatizer\n",
    "stemmer=PorterStemmer()\n",
    "lemetizer=WordNetLemmatizer()\n",
    "\n",
    "#Used to return a sample response.\n",
    "import numpy as np"
   ]
  },
  {
   "cell_type": "code",
   "execution_count": null,
   "metadata": {},
   "outputs": [],
   "source": []
  },
  {
   "cell_type": "code",
   "execution_count": 116,
   "metadata": {},
   "outputs": [],
   "source": [
    "#Reading initial sample knowledge base i created \n",
    "df=pd.read_excel('data.xlsx')"
   ]
  },
  {
   "cell_type": "code",
   "execution_count": 117,
   "metadata": {},
   "outputs": [
    {
     "data": {
      "text/html": [
       "<div>\n",
       "<style scoped>\n",
       "    .dataframe tbody tr th:only-of-type {\n",
       "        vertical-align: middle;\n",
       "    }\n",
       "\n",
       "    .dataframe tbody tr th {\n",
       "        vertical-align: top;\n",
       "    }\n",
       "\n",
       "    .dataframe thead th {\n",
       "        text-align: right;\n",
       "    }\n",
       "</style>\n",
       "<table border=\"1\" class=\"dataframe\">\n",
       "  <thead>\n",
       "    <tr style=\"text-align: right;\">\n",
       "      <th></th>\n",
       "      <th>Category</th>\n",
       "      <th>Tag</th>\n",
       "      <th>Question</th>\n",
       "      <th>Answer</th>\n",
       "    </tr>\n",
       "  </thead>\n",
       "  <tbody>\n",
       "    <tr>\n",
       "      <th>0</th>\n",
       "      <td>My Account</td>\n",
       "      <td>Rating and Reviews</td>\n",
       "      <td>How to Review Product as well as Seller?</td>\n",
       "      <td>Everything is right here. Please check this ou...</td>\n",
       "    </tr>\n",
       "    <tr>\n",
       "      <th>1</th>\n",
       "      <td>My Account</td>\n",
       "      <td>Rating and Reviews</td>\n",
       "      <td>How to Filter Search Results with Product Rati...</td>\n",
       "      <td>Products can also be filtered according to the...</td>\n",
       "    </tr>\n",
       "    <tr>\n",
       "      <th>2</th>\n",
       "      <td>My Account</td>\n",
       "      <td>Rating and Reviews</td>\n",
       "      <td>What are Ratings &amp; Reviews and how do I write ...</td>\n",
       "      <td>Daraz customers have the option of rating and ...</td>\n",
       "    </tr>\n",
       "    <tr>\n",
       "      <th>3</th>\n",
       "      <td>My Account</td>\n",
       "      <td>Product Warranty</td>\n",
       "      <td>How do I know if a product comes with free ins...</td>\n",
       "      <td>Unfortunately we are not providing the Free In...</td>\n",
       "    </tr>\n",
       "    <tr>\n",
       "      <th>4</th>\n",
       "      <td>My Account</td>\n",
       "      <td>Product Warranty</td>\n",
       "      <td>How do I know if a product comes with warranty?</td>\n",
       "      <td>If a warranty is offered on a product the warr...</td>\n",
       "    </tr>\n",
       "  </tbody>\n",
       "</table>\n",
       "</div>"
      ],
      "text/plain": [
       "     Category                 Tag  \\\n",
       "0  My Account  Rating and Reviews   \n",
       "1  My Account  Rating and Reviews   \n",
       "2  My Account  Rating and Reviews   \n",
       "3  My Account    Product Warranty   \n",
       "4  My Account    Product Warranty   \n",
       "\n",
       "                                            Question  \\\n",
       "0           How to Review Product as well as Seller?   \n",
       "1  How to Filter Search Results with Product Rati...   \n",
       "2  What are Ratings & Reviews and how do I write ...   \n",
       "3  How do I know if a product comes with free ins...   \n",
       "4    How do I know if a product comes with warranty?   \n",
       "\n",
       "                                              Answer  \n",
       "0  Everything is right here. Please check this ou...  \n",
       "1  Products can also be filtered according to the...  \n",
       "2  Daraz customers have the option of rating and ...  \n",
       "3  Unfortunately we are not providing the Free In...  \n",
       "4  If a warranty is offered on a product the warr...  "
      ]
     },
     "execution_count": 117,
     "metadata": {},
     "output_type": "execute_result"
    }
   ],
   "source": [
    "df.head()"
   ]
  },
  {
   "cell_type": "code",
   "execution_count": null,
   "metadata": {},
   "outputs": [],
   "source": []
  },
  {
   "cell_type": "code",
   "execution_count": 118,
   "metadata": {},
   "outputs": [
    {
     "data": {
      "text/plain": [
       "'Daraz customers have the option of rating and reviewing their product and seller experiences.,The customers can both leave star ratings and add text to describe what they liked or disliked about their experience.'"
      ]
     },
     "execution_count": 118,
     "metadata": {},
     "output_type": "execute_result"
    }
   ],
   "source": [
    "txt=df['Answer'][2]\n",
    "txt"
   ]
  },
  {
   "cell_type": "code",
   "execution_count": 119,
   "metadata": {},
   "outputs": [
    {
     "data": {
      "text/plain": [
       "['Daraz customers have the option of rating and reviewing their product and seller experiences.',\n",
       " 'The customers can both leave star ratings and add text to describe what they liked or disliked about their experience.']"
      ]
     },
     "execution_count": 119,
     "metadata": {},
     "output_type": "execute_result"
    }
   ],
   "source": [
    "#Some answers may have more than 1 responses so splitting them using ',' and checking it\n",
    "txt.split(',') "
   ]
  },
  {
   "cell_type": "code",
   "execution_count": 120,
   "metadata": {},
   "outputs": [
    {
     "data": {
      "text/plain": [
       "0             How to Review Product as well as Seller?\n",
       "1    How to Filter Search Results with Product Rati...\n",
       "2    What are Ratings & Reviews and how do I write ...\n",
       "3    How do I know if a product comes with free ins...\n",
       "4      How do I know if a product comes with warranty?\n",
       "Name: Question, dtype: object"
      ]
     },
     "execution_count": 120,
     "metadata": {},
     "output_type": "execute_result"
    }
   ],
   "source": [
    "df['Question'].head()"
   ]
  },
  {
   "cell_type": "code",
   "execution_count": 121,
   "metadata": {},
   "outputs": [
    {
     "name": "stdout",
     "output_type": "stream",
     "text": [
      "my name rishav\n"
     ]
    }
   ],
   "source": [
    "def cleantext(txt):\n",
    "    txt=txt.split() #spliting all text into single words like nltk.word_tokenize()\n",
    "    txt=[stemmer.stem(i.lower()) for i in txt if i not in stopwords.words('english') ] #removing stop words\n",
    "    txt=' '.join(txt)    #again joining the words to make a sentence\n",
    "    txt=re.sub(r'[^A-Za-z0-9]',' ',txt)   #removing all punctuations and special symbols \n",
    "    txt=' '.join(txt.split()) #splitting texts because some of the sentences were having more than 3,4 times and rejoining\n",
    "                            #them\n",
    "    return txt #returning the final cleaned text.\n",
    "    \n",
    "    \n",
    "print(cleantext('My name  is  rishav..'))\n",
    "df['Cleaned']=df['Question'].apply(lambda x :cleantext(x)) #Creating new feature cleaned with cleaned text"
   ]
  },
  {
   "cell_type": "code",
   "execution_count": 122,
   "metadata": {},
   "outputs": [
    {
     "data": {
      "text/plain": [
       "0               how review product well seller\n",
       "1     how filter search result product ratings\n",
       "2        what rate review i write good reviews\n",
       "3    how i know product come free installation\n",
       "4             how i know product come warranty\n",
       "5    i lost warranti card how i claim warranty\n",
       "6          are hidden cost charg i order daraz\n",
       "7                   are price daraz negotiable\n",
       "8               whi i see differ price product\n",
       "9                           how contact vendor\n",
       "Name: Cleaned, dtype: object"
      ]
     },
     "execution_count": 122,
     "metadata": {},
     "output_type": "execute_result"
    }
   ],
   "source": [
    "df['Cleaned'].head(10)"
   ]
  },
  {
   "cell_type": "code",
   "execution_count": 123,
   "metadata": {},
   "outputs": [],
   "source": [
    "#This is Tfidf vectorizer object\n",
    "vectorizer=TfidfVectorizer()\n",
    "X_=vectorizer.fit_transform(df['Cleaned']).toarray()\n",
    "\n",
    "#This is count vectorizer object\n",
    "cv=CountVectorizer()\n",
    "X_cv_=cv.fit_transform(df['Cleaned']).toarray()"
   ]
  },
  {
   "cell_type": "code",
   "execution_count": 124,
   "metadata": {},
   "outputs": [
    {
     "data": {
      "text/plain": [
       "array([[0.        , 0.        , 0.        , 0.        , 0.        ,\n",
       "        0.        , 0.        , 0.        , 0.        , 0.        ,\n",
       "        0.        , 0.        , 0.        , 0.        , 0.        ,\n",
       "        0.        , 0.        , 0.        , 0.        , 0.        ,\n",
       "        0.        , 0.        , 0.        , 0.        , 0.        ,\n",
       "        0.        , 0.        , 0.        , 0.        , 0.        ,\n",
       "        0.        , 0.        , 0.        , 0.        , 0.        ,\n",
       "        0.        , 0.        , 0.        , 0.        , 0.        ,\n",
       "        0.        , 0.        , 0.        , 0.        , 0.        ,\n",
       "        0.        , 0.        , 0.        , 0.        , 0.29526348,\n",
       "        0.        , 0.        , 0.        , 0.        , 0.        ,\n",
       "        0.        , 0.        , 0.        , 0.        , 0.        ,\n",
       "        0.        , 0.        , 0.        , 0.        , 0.        ,\n",
       "        0.        , 0.        , 0.        , 0.        , 0.        ,\n",
       "        0.        , 0.        , 0.        , 0.        , 0.        ,\n",
       "        0.        , 0.        , 0.        , 0.        , 0.29526348,\n",
       "        0.        , 0.        , 0.        , 0.        , 0.        ,\n",
       "        0.        , 0.        , 0.        , 0.        , 0.4883996 ,\n",
       "        0.        , 0.        , 0.        , 0.        , 0.        ,\n",
       "        0.54180476, 0.        , 0.        , 0.        , 0.        ,\n",
       "        0.        , 0.        , 0.        , 0.        , 0.        ,\n",
       "        0.        , 0.        , 0.        , 0.        , 0.        ,\n",
       "        0.        , 0.        , 0.        , 0.        , 0.        ,\n",
       "        0.        , 0.54180476, 0.        , 0.        , 0.        ,\n",
       "        0.        , 0.        , 0.        , 0.        ],\n",
       "       [0.        , 0.        , 0.        , 0.        , 0.        ,\n",
       "        0.        , 0.        , 0.        , 0.        , 0.        ,\n",
       "        0.        , 0.        , 0.        , 0.        , 0.        ,\n",
       "        0.        , 0.        , 0.        , 0.        , 0.        ,\n",
       "        0.        , 0.        , 0.        , 0.        , 0.        ,\n",
       "        0.        , 0.        , 0.        , 0.        , 0.        ,\n",
       "        0.        , 0.        , 0.        , 0.        , 0.        ,\n",
       "        0.        , 0.        , 0.46655835, 0.        , 0.        ,\n",
       "        0.        , 0.        , 0.        , 0.        , 0.        ,\n",
       "        0.        , 0.        , 0.        , 0.        , 0.25425698,\n",
       "        0.        , 0.        , 0.        , 0.        , 0.        ,\n",
       "        0.        , 0.        , 0.        , 0.        , 0.        ,\n",
       "        0.        , 0.        , 0.        , 0.        , 0.        ,\n",
       "        0.        , 0.        , 0.        , 0.        , 0.        ,\n",
       "        0.        , 0.        , 0.        , 0.        , 0.        ,\n",
       "        0.        , 0.        , 0.        , 0.        , 0.25425698,\n",
       "        0.        , 0.        , 0.        , 0.46655835, 0.        ,\n",
       "        0.        , 0.        , 0.46655835, 0.        , 0.        ,\n",
       "        0.        , 0.        , 0.        , 0.46655835, 0.        ,\n",
       "        0.        , 0.        , 0.        , 0.        , 0.        ,\n",
       "        0.        , 0.        , 0.        , 0.        , 0.        ,\n",
       "        0.        , 0.        , 0.        , 0.        , 0.        ,\n",
       "        0.        , 0.        , 0.        , 0.        , 0.        ,\n",
       "        0.        , 0.        , 0.        , 0.        , 0.        ,\n",
       "        0.        , 0.        , 0.        , 0.        ]])"
      ]
     },
     "execution_count": 124,
     "metadata": {},
     "output_type": "execute_result"
    }
   ],
   "source": [
    "X_[:2]  #Checking tfidf vectorized input vector."
   ]
  },
  {
   "cell_type": "code",
   "execution_count": 125,
   "metadata": {},
   "outputs": [
    {
     "data": {
      "text/plain": [
       "(44, 124)"
      ]
     },
     "execution_count": 125,
     "metadata": {},
     "output_type": "execute_result"
    }
   ],
   "source": [
    "X_.shape   #shape of input vector"
   ]
  },
  {
   "cell_type": "code",
   "execution_count": 126,
   "metadata": {},
   "outputs": [],
   "source": [
    "labelencoder=LabelEncoder() #trying to encode label of feature with only category.\n",
    "df['Label']=labelencoder.fit_transform(df['Category'])"
   ]
  },
  {
   "cell_type": "code",
   "execution_count": 127,
   "metadata": {},
   "outputs": [
    {
     "data": {
      "text/html": [
       "<div>\n",
       "<style scoped>\n",
       "    .dataframe tbody tr th:only-of-type {\n",
       "        vertical-align: middle;\n",
       "    }\n",
       "\n",
       "    .dataframe tbody tr th {\n",
       "        vertical-align: top;\n",
       "    }\n",
       "\n",
       "    .dataframe thead th {\n",
       "        text-align: right;\n",
       "    }\n",
       "</style>\n",
       "<table border=\"1\" class=\"dataframe\">\n",
       "  <thead>\n",
       "    <tr style=\"text-align: right;\">\n",
       "      <th></th>\n",
       "      <th>Category</th>\n",
       "      <th>Tag</th>\n",
       "      <th>Question</th>\n",
       "      <th>Answer</th>\n",
       "      <th>Cleaned</th>\n",
       "      <th>Label</th>\n",
       "    </tr>\n",
       "  </thead>\n",
       "  <tbody>\n",
       "    <tr>\n",
       "      <th>0</th>\n",
       "      <td>My Account</td>\n",
       "      <td>Rating and Reviews</td>\n",
       "      <td>How to Review Product as well as Seller?</td>\n",
       "      <td>Everything is right here. Please check this ou...</td>\n",
       "      <td>how review product well seller</td>\n",
       "      <td>1</td>\n",
       "    </tr>\n",
       "    <tr>\n",
       "      <th>1</th>\n",
       "      <td>My Account</td>\n",
       "      <td>Rating and Reviews</td>\n",
       "      <td>How to Filter Search Results with Product Rati...</td>\n",
       "      <td>Products can also be filtered according to the...</td>\n",
       "      <td>how filter search result product ratings</td>\n",
       "      <td>1</td>\n",
       "    </tr>\n",
       "    <tr>\n",
       "      <th>2</th>\n",
       "      <td>My Account</td>\n",
       "      <td>Rating and Reviews</td>\n",
       "      <td>What are Ratings &amp; Reviews and how do I write ...</td>\n",
       "      <td>Daraz customers have the option of rating and ...</td>\n",
       "      <td>what rate review i write good reviews</td>\n",
       "      <td>1</td>\n",
       "    </tr>\n",
       "    <tr>\n",
       "      <th>3</th>\n",
       "      <td>My Account</td>\n",
       "      <td>Product Warranty</td>\n",
       "      <td>How do I know if a product comes with free ins...</td>\n",
       "      <td>Unfortunately we are not providing the Free In...</td>\n",
       "      <td>how i know product come free installation</td>\n",
       "      <td>1</td>\n",
       "    </tr>\n",
       "    <tr>\n",
       "      <th>4</th>\n",
       "      <td>My Account</td>\n",
       "      <td>Product Warranty</td>\n",
       "      <td>How do I know if a product comes with warranty?</td>\n",
       "      <td>If a warranty is offered on a product the warr...</td>\n",
       "      <td>how i know product come warranty</td>\n",
       "      <td>1</td>\n",
       "    </tr>\n",
       "  </tbody>\n",
       "</table>\n",
       "</div>"
      ],
      "text/plain": [
       "     Category                 Tag  \\\n",
       "0  My Account  Rating and Reviews   \n",
       "1  My Account  Rating and Reviews   \n",
       "2  My Account  Rating and Reviews   \n",
       "3  My Account    Product Warranty   \n",
       "4  My Account    Product Warranty   \n",
       "\n",
       "                                            Question  \\\n",
       "0           How to Review Product as well as Seller?   \n",
       "1  How to Filter Search Results with Product Rati...   \n",
       "2  What are Ratings & Reviews and how do I write ...   \n",
       "3  How do I know if a product comes with free ins...   \n",
       "4    How do I know if a product comes with warranty?   \n",
       "\n",
       "                                              Answer  \\\n",
       "0  Everything is right here. Please check this ou...   \n",
       "1  Products can also be filtered according to the...   \n",
       "2  Daraz customers have the option of rating and ...   \n",
       "3  Unfortunately we are not providing the Free In...   \n",
       "4  If a warranty is offered on a product the warr...   \n",
       "\n",
       "                                     Cleaned  Label  \n",
       "0             how review product well seller      1  \n",
       "1   how filter search result product ratings      1  \n",
       "2      what rate review i write good reviews      1  \n",
       "3  how i know product come free installation      1  \n",
       "4           how i know product come warranty      1  "
      ]
     },
     "execution_count": 127,
     "metadata": {},
     "output_type": "execute_result"
    }
   ],
   "source": [
    "df.head()"
   ]
  },
  {
   "cell_type": "code",
   "execution_count": 128,
   "metadata": {},
   "outputs": [],
   "source": [
    "y=df['Label']"
   ]
  },
  {
   "cell_type": "markdown",
   "metadata": {},
   "source": [
    "# Since the knowledge base is very small so there is no point of splitting data into training data and test data. So i have taken whole data as a training data. When we try to predict with some input question text than we compare how similar is this question to the one we have in the knowledge base"
   ]
  },
  {
   "cell_type": "code",
   "execution_count": 129,
   "metadata": {},
   "outputs": [],
   "source": [
    "#Creating all the objects for Classifiers\n",
    "logistic=LogisticRegression().fit(X_,y)\n",
    "passive=PassiveAggressiveClassifier().fit(X_,y)\n",
    "svm=SVC().fit(X_,y)\n",
    "naive=MultinomialNB().fit(X_,y)\n",
    "dectr=DecisionTreeClassifier().fit(X_,y)\n",
    "rand_for=RandomForestClassifier().fit(X_,y)\n",
    "sgd=SGDClassifier().fit(X_,y)"
   ]
  },
  {
   "cell_type": "code",
   "execution_count": 130,
   "metadata": {},
   "outputs": [
    {
     "name": "stdout",
     "output_type": "stream",
     "text": [
      "0.8636363636363636\n",
      "1.0\n",
      "1.0\n",
      "0.8181818181818182\n",
      "1.0\n",
      "1.0\n",
      "1.0\n"
     ]
    }
   ],
   "source": [
    "#Checking whats the training score of particular data.\n",
    "print(logistic.score(X_,y))\n",
    "print(passive.score(X_,y))\n",
    "print(svm.score(X_,y))\n",
    "print(naive.score(X_,y))\n",
    "print(dectr.score(X_,y))\n",
    "print(rand_for.score(X_,y))\n",
    "print(sgd.score(X_,y))"
   ]
  },
  {
   "cell_type": "code",
   "execution_count": 131,
   "metadata": {},
   "outputs": [],
   "source": [
    "models=[logistic,passive,svm,naive,dectr,rand_for,sgd]"
   ]
  },
  {
   "cell_type": "code",
   "execution_count": 132,
   "metadata": {},
   "outputs": [
    {
     "name": "stdout",
     "output_type": "stream",
     "text": [
      "Asked Question:  how check warrenti product\n",
      "-----------------------------\n",
      "LogisticRegression()\n",
      "                                             Question  cosine_sim\n",
      "32  Problems with Check Out/ or any issues encount...    0.354222\n",
      "43         How can I find overseas products on Daraz?    0.293922\n",
      "27                          How do I cancel my order?    0.173690\n",
      "----------------------------------------------------------\n",
      "PassiveAggressiveClassifier()\n",
      "                                             Question  cosine_sim\n",
      "32  Problems with Check Out/ or any issues encount...    0.354222\n",
      "43         How can I find overseas products on Daraz?    0.293922\n",
      "27                          How do I cancel my order?    0.173690\n",
      "----------------------------------------------------------\n",
      "SVC()\n",
      "                                             Question  cosine_sim\n",
      "32  Problems with Check Out/ or any issues encount...    0.354222\n",
      "43         How can I find overseas products on Daraz?    0.293922\n",
      "27                          How do I cancel my order?    0.173690\n",
      "----------------------------------------------------------\n",
      "MultinomialNB()\n",
      "                                             Question  cosine_sim\n",
      "32  Problems with Check Out/ or any issues encount...    0.354222\n",
      "43         How can I find overseas products on Daraz?    0.293922\n",
      "27                          How do I cancel my order?    0.173690\n",
      "----------------------------------------------------------\n",
      "DecisionTreeClassifier()\n",
      "                                            Question  cosine_sim\n",
      "4    How do I know if a product comes with warranty?    0.270197\n",
      "0           How to Review Product as well as Seller?    0.254898\n",
      "3  How do I know if a product comes with free ins...    0.229041\n",
      "----------------------------------------------------------\n",
      "RandomForestClassifier()\n",
      "                                             Question  cosine_sim\n",
      "32  Problems with Check Out/ or any issues encount...    0.354222\n",
      "43         How can I find overseas products on Daraz?    0.293922\n",
      "27                          How do I cancel my order?    0.173690\n",
      "----------------------------------------------------------\n",
      "SGDClassifier()\n",
      "                                            Question  cosine_sim\n",
      "4    How do I know if a product comes with warranty?    0.270197\n",
      "0           How to Review Product as well as Seller?    0.254898\n",
      "3  How do I know if a product comes with free ins...    0.229041\n",
      "----------------------------------------------------------\n"
     ]
    }
   ],
   "source": [
    "def return_tfidf_data(text):\n",
    "    return vectorizer.transform([text])    #It returns tfidf vectorized output for the text that we want to predict\n",
    "\n",
    "def return_cv_data(text):                 #It returns count vectorized output for the text that we want to predict\n",
    "    return cv.transform([text])\n",
    "\n",
    "def return_vectorized_data(text):\n",
    "    text=cleantext(text)                #Firstly, we clean the text to be predicted and pass the text to above \n",
    "                                        #tfidf function.\n",
    "    print('Asked Question: ',text)\n",
    "    print('-----------------------------')\n",
    "    text=return_tfidf_data(text)     #Finally we get the vector for particular sentence\n",
    "    return text.toarray()\n",
    "\n",
    "\n",
    "\n",
    "def return_countvectorized_data(text):   #This function is similar to the above one and only change is this function is\n",
    "                                         # for count vectorizer\n",
    "    text=cleantext(text)\n",
    "    print('Asked Question: ',text)\n",
    "    print('-----------------------------')\n",
    "    text=return_cv_data(text)\n",
    "    return text.toarray()\n",
    "\n",
    "\n",
    "#I could have created a single function and pass the parameter whether i want cv or tfidf, but since i didnt want things\n",
    "#to be messy so i created individual functions for both.\n",
    "\n",
    "\n",
    "    \n",
    "def predict_label(model):              #This function is used to predict the vectorized data with the output label\n",
    "    prediction=model.predict(temp)[0]  #This will return predicted label of index 0 so as to smooth process.\n",
    "    return prediction\n",
    "    \n",
    "def find_relevant_ques_ans_model(temp,items):   #I am running this function to check with all the models and how it perorms\n",
    "                        #and finding similarity score with the only data with the output label \n",
    "                        #that is returned from model prediction which reduces burden of finding similarity score with\n",
    "                        #the whole data. so we only check similarity with data of predicted output babel\n",
    "                \n",
    "        \n",
    "    for i in models:\n",
    "        prediction=predict_label(i)  #Trying to predict with available models\n",
    "        index=df[df['Label']==prediction].index\n",
    "\n",
    "        cos_sim=[cosine_similarity(j.reshape(1,-1),temp.reshape(1,-1)) for j in X_[df[df['Label']==prediction].index]]\n",
    "        cos_sim=np.array(cos_sim)\n",
    "\n",
    "        cos_sim=cos_sim.flatten()\n",
    "        temp_df=df.iloc[index,:].copy()\n",
    "        temp_df['cosine_sim']=cos_sim\n",
    "        temp_df=temp_df.sort_values('cosine_sim',ascending=False)\n",
    "        print(i)\n",
    "        print(temp_df[['Question','cosine_sim']].head(items))\n",
    "        print('----------------------------------------------------------')\n",
    "  \n",
    "\n",
    "#Checking with some questions.\n",
    "temp=return_vectorized_data('How to check warrenty of product?')\n",
    "find_relevant_ques_ans_model(temp,3)"
   ]
  },
  {
   "cell_type": "code",
   "execution_count": 133,
   "metadata": {},
   "outputs": [
    {
     "name": "stdout",
     "output_type": "stream",
     "text": [
      "Asked Question:  how check product installation\n",
      "-----------------------------\n",
      "LogisticRegression()\n",
      "                                             Question  cosine_sim\n",
      "32  Problems with Check Out/ or any issues encount...    0.277672\n",
      "43         How can I find overseas products on Daraz?    0.230404\n",
      "27                          How do I cancel my order?    0.136155\n",
      "----------------------------------------------------------\n",
      "PassiveAggressiveClassifier()\n",
      "                                            Question  cosine_sim\n",
      "3  How do I know if a product comes with free ins...    0.481822\n",
      "4    How do I know if a product comes with warranty?    0.211806\n",
      "0           How to Review Product as well as Seller?    0.199813\n",
      "----------------------------------------------------------\n",
      "SVC()\n",
      "                                             Question  cosine_sim\n",
      "32  Problems with Check Out/ or any issues encount...    0.277672\n",
      "43         How can I find overseas products on Daraz?    0.230404\n",
      "27                          How do I cancel my order?    0.136155\n",
      "----------------------------------------------------------\n",
      "MultinomialNB()\n",
      "                                             Question  cosine_sim\n",
      "32  Problems with Check Out/ or any issues encount...    0.277672\n",
      "43         How can I find overseas products on Daraz?    0.230404\n",
      "27                          How do I cancel my order?    0.136155\n",
      "----------------------------------------------------------\n",
      "DecisionTreeClassifier()\n",
      "                                            Question  cosine_sim\n",
      "3  How do I know if a product comes with free ins...    0.481822\n",
      "4    How do I know if a product comes with warranty?    0.211806\n",
      "0           How to Review Product as well as Seller?    0.199813\n",
      "----------------------------------------------------------\n",
      "RandomForestClassifier()\n",
      "                                            Question  cosine_sim\n",
      "3  How do I know if a product comes with free ins...    0.481822\n",
      "4    How do I know if a product comes with warranty?    0.211806\n",
      "0           How to Review Product as well as Seller?    0.199813\n",
      "----------------------------------------------------------\n",
      "SGDClassifier()\n",
      "                                            Question  cosine_sim\n",
      "3  How do I know if a product comes with free ins...    0.481822\n",
      "4    How do I know if a product comes with warranty?    0.211806\n",
      "0           How to Review Product as well as Seller?    0.199813\n",
      "----------------------------------------------------------\n"
     ]
    }
   ],
   "source": [
    "#Checking with some other question\n",
    "temp=return_vectorized_data('How to check product installation?')\n",
    "find_relevant_ques_ans_model(temp,3)"
   ]
  },
  {
   "cell_type": "code",
   "execution_count": null,
   "metadata": {},
   "outputs": [],
   "source": []
  },
  {
   "cell_type": "code",
   "execution_count": 134,
   "metadata": {},
   "outputs": [],
   "source": [
    "#This part is checking cosine similarity with all the input data which didnt perform well and also if we have a huge\n",
    "#data set, this will be veri impractical to compare with the whole dataset.\n",
    "cos_sim=[cosine_similarity(X_[i].reshape(1,-1),temp.reshape(1,-1)) for i in range(len(X_))]\n",
    "cos_sim=np.array(cos_sim)\n",
    "cos_sim=cos_sim.flatten()"
   ]
  },
  {
   "cell_type": "code",
   "execution_count": 135,
   "metadata": {},
   "outputs": [],
   "source": [
    "df_temp=df.copy()\n",
    "df_temp['Cos_sim']=cos_sim #creating a temporary dataset to store similarity score for all datas."
   ]
  },
  {
   "cell_type": "code",
   "execution_count": 136,
   "metadata": {},
   "outputs": [
    {
     "data": {
      "text/html": [
       "<div>\n",
       "<style scoped>\n",
       "    .dataframe tbody tr th:only-of-type {\n",
       "        vertical-align: middle;\n",
       "    }\n",
       "\n",
       "    .dataframe tbody tr th {\n",
       "        vertical-align: top;\n",
       "    }\n",
       "\n",
       "    .dataframe thead th {\n",
       "        text-align: right;\n",
       "    }\n",
       "</style>\n",
       "<table border=\"1\" class=\"dataframe\">\n",
       "  <thead>\n",
       "    <tr style=\"text-align: right;\">\n",
       "      <th></th>\n",
       "      <th>Category</th>\n",
       "      <th>Tag</th>\n",
       "      <th>Question</th>\n",
       "      <th>Answer</th>\n",
       "      <th>Cleaned</th>\n",
       "      <th>Label</th>\n",
       "      <th>Cos_sim</th>\n",
       "    </tr>\n",
       "  </thead>\n",
       "  <tbody>\n",
       "    <tr>\n",
       "      <th>0</th>\n",
       "      <td>My Account</td>\n",
       "      <td>Rating and Reviews</td>\n",
       "      <td>How to Review Product as well as Seller?</td>\n",
       "      <td>Everything is right here. Please check this ou...</td>\n",
       "      <td>how review product well seller</td>\n",
       "      <td>1</td>\n",
       "      <td>0.199813</td>\n",
       "    </tr>\n",
       "    <tr>\n",
       "      <th>1</th>\n",
       "      <td>My Account</td>\n",
       "      <td>Rating and Reviews</td>\n",
       "      <td>How to Filter Search Results with Product Rati...</td>\n",
       "      <td>Products can also be filtered according to the...</td>\n",
       "      <td>how filter search result product ratings</td>\n",
       "      <td>1</td>\n",
       "      <td>0.172063</td>\n",
       "    </tr>\n",
       "    <tr>\n",
       "      <th>2</th>\n",
       "      <td>My Account</td>\n",
       "      <td>Rating and Reviews</td>\n",
       "      <td>What are Ratings &amp; Reviews and how do I write ...</td>\n",
       "      <td>Daraz customers have the option of rating and ...</td>\n",
       "      <td>what rate review i write good reviews</td>\n",
       "      <td>1</td>\n",
       "      <td>0.000000</td>\n",
       "    </tr>\n",
       "    <tr>\n",
       "      <th>3</th>\n",
       "      <td>My Account</td>\n",
       "      <td>Product Warranty</td>\n",
       "      <td>How do I know if a product comes with free ins...</td>\n",
       "      <td>Unfortunately we are not providing the Free In...</td>\n",
       "      <td>how i know product come free installation</td>\n",
       "      <td>1</td>\n",
       "      <td>0.481822</td>\n",
       "    </tr>\n",
       "    <tr>\n",
       "      <th>4</th>\n",
       "      <td>My Account</td>\n",
       "      <td>Product Warranty</td>\n",
       "      <td>How do I know if a product comes with warranty?</td>\n",
       "      <td>If a warranty is offered on a product the warr...</td>\n",
       "      <td>how i know product come warranty</td>\n",
       "      <td>1</td>\n",
       "      <td>0.211806</td>\n",
       "    </tr>\n",
       "  </tbody>\n",
       "</table>\n",
       "</div>"
      ],
      "text/plain": [
       "     Category                 Tag  \\\n",
       "0  My Account  Rating and Reviews   \n",
       "1  My Account  Rating and Reviews   \n",
       "2  My Account  Rating and Reviews   \n",
       "3  My Account    Product Warranty   \n",
       "4  My Account    Product Warranty   \n",
       "\n",
       "                                            Question  \\\n",
       "0           How to Review Product as well as Seller?   \n",
       "1  How to Filter Search Results with Product Rati...   \n",
       "2  What are Ratings & Reviews and how do I write ...   \n",
       "3  How do I know if a product comes with free ins...   \n",
       "4    How do I know if a product comes with warranty?   \n",
       "\n",
       "                                              Answer  \\\n",
       "0  Everything is right here. Please check this ou...   \n",
       "1  Products can also be filtered according to the...   \n",
       "2  Daraz customers have the option of rating and ...   \n",
       "3  Unfortunately we are not providing the Free In...   \n",
       "4  If a warranty is offered on a product the warr...   \n",
       "\n",
       "                                     Cleaned  Label   Cos_sim  \n",
       "0             how review product well seller      1  0.199813  \n",
       "1   how filter search result product ratings      1  0.172063  \n",
       "2      what rate review i write good reviews      1  0.000000  \n",
       "3  how i know product come free installation      1  0.481822  \n",
       "4           how i know product come warranty      1  0.211806  "
      ]
     },
     "execution_count": 136,
     "metadata": {},
     "output_type": "execute_result"
    }
   ],
   "source": [
    "df_temp.head()#T"
   ]
  },
  {
   "cell_type": "code",
   "execution_count": 137,
   "metadata": {},
   "outputs": [
    {
     "data": {
      "text/html": [
       "<div>\n",
       "<style scoped>\n",
       "    .dataframe tbody tr th:only-of-type {\n",
       "        vertical-align: middle;\n",
       "    }\n",
       "\n",
       "    .dataframe tbody tr th {\n",
       "        vertical-align: top;\n",
       "    }\n",
       "\n",
       "    .dataframe thead th {\n",
       "        text-align: right;\n",
       "    }\n",
       "</style>\n",
       "<table border=\"1\" class=\"dataframe\">\n",
       "  <thead>\n",
       "    <tr style=\"text-align: right;\">\n",
       "      <th></th>\n",
       "      <th>Category</th>\n",
       "      <th>Tag</th>\n",
       "      <th>Question</th>\n",
       "      <th>Answer</th>\n",
       "      <th>Cleaned</th>\n",
       "      <th>Label</th>\n",
       "      <th>Cos_sim</th>\n",
       "    </tr>\n",
       "  </thead>\n",
       "  <tbody>\n",
       "    <tr>\n",
       "      <th>3</th>\n",
       "      <td>My Account</td>\n",
       "      <td>Product Warranty</td>\n",
       "      <td>How do I know if a product comes with free ins...</td>\n",
       "      <td>Unfortunately we are not providing the Free In...</td>\n",
       "      <td>how i know product come free installation</td>\n",
       "      <td>1</td>\n",
       "      <td>0.481822</td>\n",
       "    </tr>\n",
       "    <tr>\n",
       "      <th>32</th>\n",
       "      <td>Ordering</td>\n",
       "      <td>Big mart</td>\n",
       "      <td>Problems with Check Out/ or any issues encount...</td>\n",
       "      <td>If you are facing any error while placing the ...</td>\n",
       "      <td>problem check out issu encountered</td>\n",
       "      <td>2</td>\n",
       "      <td>0.277672</td>\n",
       "    </tr>\n",
       "    <tr>\n",
       "      <th>43</th>\n",
       "      <td>Ordering</td>\n",
       "      <td>Global Collection</td>\n",
       "      <td>How can I find overseas products on Daraz?</td>\n",
       "      <td>Overseas products are listed in the“Global Col...</td>\n",
       "      <td>how i find oversea product daraz</td>\n",
       "      <td>2</td>\n",
       "      <td>0.230404</td>\n",
       "    </tr>\n",
       "    <tr>\n",
       "      <th>4</th>\n",
       "      <td>My Account</td>\n",
       "      <td>Product Warranty</td>\n",
       "      <td>How do I know if a product comes with warranty?</td>\n",
       "      <td>If a warranty is offered on a product the warr...</td>\n",
       "      <td>how i know product come warranty</td>\n",
       "      <td>1</td>\n",
       "      <td>0.211806</td>\n",
       "    </tr>\n",
       "    <tr>\n",
       "      <th>0</th>\n",
       "      <td>My Account</td>\n",
       "      <td>Rating and Reviews</td>\n",
       "      <td>How to Review Product as well as Seller?</td>\n",
       "      <td>Everything is right here. Please check this ou...</td>\n",
       "      <td>how review product well seller</td>\n",
       "      <td>1</td>\n",
       "      <td>0.199813</td>\n",
       "    </tr>\n",
       "  </tbody>\n",
       "</table>\n",
       "</div>"
      ],
      "text/plain": [
       "      Category                 Tag  \\\n",
       "3   My Account    Product Warranty   \n",
       "32    Ordering            Big mart   \n",
       "43    Ordering   Global Collection   \n",
       "4   My Account    Product Warranty   \n",
       "0   My Account  Rating and Reviews   \n",
       "\n",
       "                                             Question  \\\n",
       "3   How do I know if a product comes with free ins...   \n",
       "32  Problems with Check Out/ or any issues encount...   \n",
       "43         How can I find overseas products on Daraz?   \n",
       "4     How do I know if a product comes with warranty?   \n",
       "0            How to Review Product as well as Seller?   \n",
       "\n",
       "                                               Answer  \\\n",
       "3   Unfortunately we are not providing the Free In...   \n",
       "32  If you are facing any error while placing the ...   \n",
       "43  Overseas products are listed in the“Global Col...   \n",
       "4   If a warranty is offered on a product the warr...   \n",
       "0   Everything is right here. Please check this ou...   \n",
       "\n",
       "                                      Cleaned  Label   Cos_sim  \n",
       "3   how i know product come free installation      1  0.481822  \n",
       "32         problem check out issu encountered      2  0.277672  \n",
       "43           how i find oversea product daraz      2  0.230404  \n",
       "4            how i know product come warranty      1  0.211806  \n",
       "0              how review product well seller      1  0.199813  "
      ]
     },
     "execution_count": 137,
     "metadata": {},
     "output_type": "execute_result"
    }
   ],
   "source": [
    "df_temp.sort_values('Cos_sim',ascending=False).head()  #Finding out top similar questions from whole dataset."
   ]
  },
  {
   "cell_type": "code",
   "execution_count": 138,
   "metadata": {},
   "outputs": [],
   "source": [
    "def return_response(temp_df):\n",
    "    most_relevant=temp_df.copy()\n",
    "    relevant_index=most_relevant.index[0] #This will try to give the index of data with highest score.\n",
    "    response_list=df.iloc[relevant_index,:]['Answer'] #This will store list of reponses separated by comma\n",
    "    \n",
    "    try:   #This function is checking either a string can be splitted into other items or not using comma.\n",
    "        responses=df.iloc[relevant_index,:]['Answer'].split(',')\n",
    "        print('Response: ',np.random.choice(responses))\n",
    "        #This will give a random response corrosponding to particular question \n",
    "    except:\n",
    "        print('Response: ',responses) #This will run if it is a single string.\n",
    "    \n",
    "#For finding relavant questions that matches the given question using TFIDF \n",
    "def find_relevant(temp,items):\n",
    "    prediction=predict_label(passive) #Predicting label for test data\n",
    "    index=df[df['Label']==prediction].index  #finding index of dataset with the predicted label so as to compare with\n",
    "\n",
    "    cos_sim=[cosine_similarity(j.reshape(1,-1),temp.reshape(1,-1)) for j in X_[index]] #This is vectorized data for TFIDF\n",
    "    cos_sim=np.array(cos_sim)\n",
    "    cos_sim=cos_sim.flatten() #Creating a numpy array and flattening to a 1d list.\n",
    "    temp_df=df.iloc[index,:].copy() #This returns the dataset with the predicted labels only.\n",
    "    temp_df['cosine_sim']=cos_sim #Store the cosine similarity for particular input data.\n",
    "    temp_df=temp_df.sort_values('cosine_sim',ascending=False) #Finding out top similarity scores.\n",
    "    return(temp_df[['Question','cosine_sim']].head(items)),return_response(temp_df) \n",
    "    #this will return top questions that are matched with the test data with particular limit specified by items.\n",
    "    #and also will try to give response to that question.\n",
    "\n",
    "#For finding relavant questions that matches the given question using CV\n",
    "def find_relevant_cv(temp,items):\n",
    "    prediction=predict_label(passive)\n",
    "    index=df[df['Label']==prediction].index\n",
    "    cos_sim=[cosine_similarity(j.reshape(1,-1),temp.reshape(1,-1)) for j in X_cv_[index]] #This is vectorized data for CV\n",
    "    cos_sim=np.array(cos_sim)\n",
    "\n",
    "    cos_sim=cos_sim.flatten()\n",
    "    temp_df=df.iloc[index,:].copy()\n",
    "    temp_df['cosine_sim']=cos_sim\n",
    "    temp_df=temp_df.sort_values('cosine_sim',ascending=False)\n",
    "    return(temp_df[['Question','cosine_sim']].head(items)),return_response(temp_df)\n",
    "\n",
    "\n",
    "#The above two functions can be merged together by specifying a parameter either to take cv or tfidf."
   ]
  },
  {
   "cell_type": "markdown",
   "metadata": {},
   "source": [
    "# Using Countvectorizer"
   ]
  },
  {
   "cell_type": "code",
   "execution_count": 139,
   "metadata": {},
   "outputs": [
    {
     "name": "stdout",
     "output_type": "stream",
     "text": [
      "Asked Question:  how know good reviews\n",
      "-----------------------------\n",
      "Response:  Just click on the more information icon on the right side of the Return and Warranty tab\n"
     ]
    },
    {
     "data": {
      "text/html": [
       "<div>\n",
       "<style scoped>\n",
       "    .dataframe tbody tr th:only-of-type {\n",
       "        vertical-align: middle;\n",
       "    }\n",
       "\n",
       "    .dataframe tbody tr th {\n",
       "        vertical-align: top;\n",
       "    }\n",
       "\n",
       "    .dataframe thead th {\n",
       "        text-align: right;\n",
       "    }\n",
       "</style>\n",
       "<table border=\"1\" class=\"dataframe\">\n",
       "  <thead>\n",
       "    <tr style=\"text-align: right;\">\n",
       "      <th></th>\n",
       "      <th>Question</th>\n",
       "      <th>cosine_sim</th>\n",
       "    </tr>\n",
       "  </thead>\n",
       "  <tbody>\n",
       "    <tr>\n",
       "      <th>4</th>\n",
       "      <td>How do I know if a product comes with warranty?</td>\n",
       "      <td>0.447214</td>\n",
       "    </tr>\n",
       "    <tr>\n",
       "      <th>2</th>\n",
       "      <td>What are Ratings &amp; Reviews and how do I write ...</td>\n",
       "      <td>0.408248</td>\n",
       "    </tr>\n",
       "    <tr>\n",
       "      <th>3</th>\n",
       "      <td>How do I know if a product comes with free ins...</td>\n",
       "      <td>0.408248</td>\n",
       "    </tr>\n",
       "  </tbody>\n",
       "</table>\n",
       "</div>"
      ],
      "text/plain": [
       "                                            Question  cosine_sim\n",
       "4    How do I know if a product comes with warranty?    0.447214\n",
       "2  What are Ratings & Reviews and how do I write ...    0.408248\n",
       "3  How do I know if a product comes with free ins...    0.408248"
      ]
     },
     "execution_count": 139,
     "metadata": {},
     "output_type": "execute_result"
    }
   ],
   "source": [
    "temp=return_countvectorized_data('How to know good reviews?')\n",
    "returned_df,relevant_answer=find_relevant_cv(temp,3)\n",
    "returned_df"
   ]
  },
  {
   "cell_type": "code",
   "execution_count": 140,
   "metadata": {},
   "outputs": [
    {
     "name": "stdout",
     "output_type": "stream",
     "text": [
      "Asked Question:  how check product installation\n",
      "-----------------------------\n",
      "Response:  Unfortunately we are not providing the Free Installation Services for now\n"
     ]
    },
    {
     "data": {
      "text/html": [
       "<div>\n",
       "<style scoped>\n",
       "    .dataframe tbody tr th:only-of-type {\n",
       "        vertical-align: middle;\n",
       "    }\n",
       "\n",
       "    .dataframe tbody tr th {\n",
       "        vertical-align: top;\n",
       "    }\n",
       "\n",
       "    .dataframe thead th {\n",
       "        text-align: right;\n",
       "    }\n",
       "</style>\n",
       "<table border=\"1\" class=\"dataframe\">\n",
       "  <thead>\n",
       "    <tr style=\"text-align: right;\">\n",
       "      <th></th>\n",
       "      <th>Question</th>\n",
       "      <th>cosine_sim</th>\n",
       "    </tr>\n",
       "  </thead>\n",
       "  <tbody>\n",
       "    <tr>\n",
       "      <th>3</th>\n",
       "      <td>How do I know if a product comes with free ins...</td>\n",
       "      <td>0.612372</td>\n",
       "    </tr>\n",
       "    <tr>\n",
       "      <th>0</th>\n",
       "      <td>How to Review Product as well as Seller?</td>\n",
       "      <td>0.447214</td>\n",
       "    </tr>\n",
       "    <tr>\n",
       "      <th>4</th>\n",
       "      <td>How do I know if a product comes with warranty?</td>\n",
       "      <td>0.447214</td>\n",
       "    </tr>\n",
       "  </tbody>\n",
       "</table>\n",
       "</div>"
      ],
      "text/plain": [
       "                                            Question  cosine_sim\n",
       "3  How do I know if a product comes with free ins...    0.612372\n",
       "0           How to Review Product as well as Seller?    0.447214\n",
       "4    How do I know if a product comes with warranty?    0.447214"
      ]
     },
     "execution_count": 140,
     "metadata": {},
     "output_type": "execute_result"
    }
   ],
   "source": [
    "temp=return_countvectorized_data('How to check product installation?')\n",
    "returned_df,relevant_answer=find_relevant_cv(temp,3)\n",
    "returned_df"
   ]
  },
  {
   "cell_type": "code",
   "execution_count": 141,
   "metadata": {},
   "outputs": [
    {
     "name": "stdout",
     "output_type": "stream",
     "text": [
      "Asked Question:  how write name\n",
      "-----------------------------\n",
      "Response:  Now you can easily contact vendor through Daraz App and ask a query about any product of your choice\n"
     ]
    },
    {
     "data": {
      "text/html": [
       "<div>\n",
       "<style scoped>\n",
       "    .dataframe tbody tr th:only-of-type {\n",
       "        vertical-align: middle;\n",
       "    }\n",
       "\n",
       "    .dataframe tbody tr th {\n",
       "        vertical-align: top;\n",
       "    }\n",
       "\n",
       "    .dataframe thead th {\n",
       "        text-align: right;\n",
       "    }\n",
       "</style>\n",
       "<table border=\"1\" class=\"dataframe\">\n",
       "  <thead>\n",
       "    <tr style=\"text-align: right;\">\n",
       "      <th></th>\n",
       "      <th>Question</th>\n",
       "      <th>cosine_sim</th>\n",
       "    </tr>\n",
       "  </thead>\n",
       "  <tbody>\n",
       "    <tr>\n",
       "      <th>9</th>\n",
       "      <td>How to contact Vendor?</td>\n",
       "      <td>0.408248</td>\n",
       "    </tr>\n",
       "    <tr>\n",
       "      <th>0</th>\n",
       "      <td>How to Review Product as well as Seller?</td>\n",
       "      <td>0.316228</td>\n",
       "    </tr>\n",
       "    <tr>\n",
       "      <th>4</th>\n",
       "      <td>How do I know if a product comes with warranty?</td>\n",
       "      <td>0.316228</td>\n",
       "    </tr>\n",
       "  </tbody>\n",
       "</table>\n",
       "</div>"
      ],
      "text/plain": [
       "                                          Question  cosine_sim\n",
       "9                           How to contact Vendor?    0.408248\n",
       "0         How to Review Product as well as Seller?    0.316228\n",
       "4  How do I know if a product comes with warranty?    0.316228"
      ]
     },
     "execution_count": 141,
     "metadata": {},
     "output_type": "execute_result"
    }
   ],
   "source": [
    "temp=return_countvectorized_data('How to write my name?')\n",
    "returned_df,relevant_answer=find_relevant_cv(temp,3)\n",
    "returned_df"
   ]
  },
  {
   "cell_type": "code",
   "execution_count": 142,
   "metadata": {},
   "outputs": [
    {
     "name": "stdout",
     "output_type": "stream",
     "text": [
      "Asked Question:  play daraz first game desktop too\n",
      "-----------------------------\n",
      "Response:   We will be releasing the games on other platforms soon. Stay tuned!\n"
     ]
    },
    {
     "data": {
      "text/html": [
       "<div>\n",
       "<style scoped>\n",
       "    .dataframe tbody tr th:only-of-type {\n",
       "        vertical-align: middle;\n",
       "    }\n",
       "\n",
       "    .dataframe tbody tr th {\n",
       "        vertical-align: top;\n",
       "    }\n",
       "\n",
       "    .dataframe thead th {\n",
       "        text-align: right;\n",
       "    }\n",
       "</style>\n",
       "<table border=\"1\" class=\"dataframe\">\n",
       "  <thead>\n",
       "    <tr style=\"text-align: right;\">\n",
       "      <th></th>\n",
       "      <th>Question</th>\n",
       "      <th>cosine_sim</th>\n",
       "    </tr>\n",
       "  </thead>\n",
       "  <tbody>\n",
       "    <tr>\n",
       "      <th>21</th>\n",
       "      <td>Can I play Daraz First Games on Desktop too?</td>\n",
       "      <td>0.925820</td>\n",
       "    </tr>\n",
       "    <tr>\n",
       "      <th>22</th>\n",
       "      <td>What is Daraz First Games?</td>\n",
       "      <td>0.408248</td>\n",
       "    </tr>\n",
       "    <tr>\n",
       "      <th>18</th>\n",
       "      <td>Why am I not able to see my Collectible Vouche...</td>\n",
       "      <td>0.000000</td>\n",
       "    </tr>\n",
       "  </tbody>\n",
       "</table>\n",
       "</div>"
      ],
      "text/plain": [
       "                                             Question  cosine_sim\n",
       "21       Can I play Daraz First Games on Desktop too?    0.925820\n",
       "22                         What is Daraz First Games?    0.408248\n",
       "18  Why am I not able to see my Collectible Vouche...    0.000000"
      ]
     },
     "execution_count": 142,
     "metadata": {},
     "output_type": "execute_result"
    }
   ],
   "source": [
    "temp=return_countvectorized_data('can i play daraz first games desktop too?')\n",
    "returned_df,relevant_answer=find_relevant_cv(temp,3)\n",
    "returned_df"
   ]
  },
  {
   "cell_type": "markdown",
   "metadata": {},
   "source": [
    "# Using TFIDF Vectorizer"
   ]
  },
  {
   "cell_type": "code",
   "execution_count": 163,
   "metadata": {},
   "outputs": [
    {
     "name": "stdout",
     "output_type": "stream",
     "text": [
      "Asked Question:  how check product installation\n",
      "-----------------------------\n",
      "Response:  Unfortunately we are not providing the Free Installation Services for now\n"
     ]
    },
    {
     "data": {
      "text/html": [
       "<div>\n",
       "<style scoped>\n",
       "    .dataframe tbody tr th:only-of-type {\n",
       "        vertical-align: middle;\n",
       "    }\n",
       "\n",
       "    .dataframe tbody tr th {\n",
       "        vertical-align: top;\n",
       "    }\n",
       "\n",
       "    .dataframe thead th {\n",
       "        text-align: right;\n",
       "    }\n",
       "</style>\n",
       "<table border=\"1\" class=\"dataframe\">\n",
       "  <thead>\n",
       "    <tr style=\"text-align: right;\">\n",
       "      <th></th>\n",
       "      <th>Question</th>\n",
       "      <th>cosine_sim</th>\n",
       "    </tr>\n",
       "  </thead>\n",
       "  <tbody>\n",
       "    <tr>\n",
       "      <th>3</th>\n",
       "      <td>How do I know if a product comes with free ins...</td>\n",
       "      <td>0.481822</td>\n",
       "    </tr>\n",
       "    <tr>\n",
       "      <th>4</th>\n",
       "      <td>How do I know if a product comes with warranty?</td>\n",
       "      <td>0.211806</td>\n",
       "    </tr>\n",
       "    <tr>\n",
       "      <th>0</th>\n",
       "      <td>How to Review Product as well as Seller?</td>\n",
       "      <td>0.199813</td>\n",
       "    </tr>\n",
       "  </tbody>\n",
       "</table>\n",
       "</div>"
      ],
      "text/plain": [
       "                                            Question  cosine_sim\n",
       "3  How do I know if a product comes with free ins...    0.481822\n",
       "4    How do I know if a product comes with warranty?    0.211806\n",
       "0           How to Review Product as well as Seller?    0.199813"
      ]
     },
     "execution_count": 163,
     "metadata": {},
     "output_type": "execute_result"
    }
   ],
   "source": [
    "temp=return_vectorized_data('How to check product installation?')\n",
    "returned_df,relevant_answer=find_relevant(temp,3)\n",
    "returned_df"
   ]
  },
  {
   "cell_type": "code",
   "execution_count": 173,
   "metadata": {},
   "outputs": [
    {
     "name": "stdout",
     "output_type": "stream",
     "text": [
      "Asked Question:  what daraz game\n",
      "-----------------------------\n",
      "Response:   We will be releasing the games on other platforms soon. Stay tuned!\n"
     ]
    },
    {
     "data": {
      "text/html": [
       "<div>\n",
       "<style scoped>\n",
       "    .dataframe tbody tr th:only-of-type {\n",
       "        vertical-align: middle;\n",
       "    }\n",
       "\n",
       "    .dataframe tbody tr th {\n",
       "        vertical-align: top;\n",
       "    }\n",
       "\n",
       "    .dataframe thead th {\n",
       "        text-align: right;\n",
       "    }\n",
       "</style>\n",
       "<table border=\"1\" class=\"dataframe\">\n",
       "  <thead>\n",
       "    <tr style=\"text-align: right;\">\n",
       "      <th></th>\n",
       "      <th>Question</th>\n",
       "      <th>cosine_sim</th>\n",
       "    </tr>\n",
       "  </thead>\n",
       "  <tbody>\n",
       "    <tr>\n",
       "      <th>21</th>\n",
       "      <td>Can I play Daraz First Games on Desktop too?</td>\n",
       "      <td>0.439555</td>\n",
       "    </tr>\n",
       "    <tr>\n",
       "      <th>22</th>\n",
       "      <td>What is Daraz First Games?</td>\n",
       "      <td>0.312516</td>\n",
       "    </tr>\n",
       "    <tr>\n",
       "      <th>23</th>\n",
       "      <td>What do I do if the vouchers I win are not wor...</td>\n",
       "      <td>0.124080</td>\n",
       "    </tr>\n",
       "  </tbody>\n",
       "</table>\n",
       "</div>"
      ],
      "text/plain": [
       "                                             Question  cosine_sim\n",
       "21       Can I play Daraz First Games on Desktop too?    0.439555\n",
       "22                         What is Daraz First Games?    0.312516\n",
       "23  What do I do if the vouchers I win are not wor...    0.124080"
      ]
     },
     "execution_count": 173,
     "metadata": {},
     "output_type": "execute_result"
    }
   ],
   "source": [
    "temp=return_vectorized_data('What is daraz game?')\n",
    "returned_df,relevant_answer=find_relevant(temp,3)\n",
    "returned_df"
   ]
  },
  {
   "cell_type": "code",
   "execution_count": 144,
   "metadata": {},
   "outputs": [
    {
     "name": "stdout",
     "output_type": "stream",
     "text": [
      "Asked Question:  see differ price product\n",
      "-----------------------------\n",
      "Response:  Daraz is a marketplace. We have a huge seller base and each one sources their product differently due to which prices vary for the same product but you can choose depending on your preference as the product quality remains the same.\n"
     ]
    },
    {
     "data": {
      "text/html": [
       "<div>\n",
       "<style scoped>\n",
       "    .dataframe tbody tr th:only-of-type {\n",
       "        vertical-align: middle;\n",
       "    }\n",
       "\n",
       "    .dataframe tbody tr th {\n",
       "        vertical-align: top;\n",
       "    }\n",
       "\n",
       "    .dataframe thead th {\n",
       "        text-align: right;\n",
       "    }\n",
       "</style>\n",
       "<table border=\"1\" class=\"dataframe\">\n",
       "  <thead>\n",
       "    <tr style=\"text-align: right;\">\n",
       "      <th></th>\n",
       "      <th>Question</th>\n",
       "      <th>cosine_sim</th>\n",
       "    </tr>\n",
       "  </thead>\n",
       "  <tbody>\n",
       "    <tr>\n",
       "      <th>8</th>\n",
       "      <td>Why do I see different prices for the same pro...</td>\n",
       "      <td>0.916012</td>\n",
       "    </tr>\n",
       "    <tr>\n",
       "      <th>7</th>\n",
       "      <td>Are the prices on Daraz negotiable?</td>\n",
       "      <td>0.254330</td>\n",
       "    </tr>\n",
       "    <tr>\n",
       "      <th>4</th>\n",
       "      <td>How do I know if a product comes with warranty?</td>\n",
       "      <td>0.101915</td>\n",
       "    </tr>\n",
       "  </tbody>\n",
       "</table>\n",
       "</div>"
      ],
      "text/plain": [
       "                                            Question  cosine_sim\n",
       "8  Why do I see different prices for the same pro...    0.916012\n",
       "7                Are the prices on Daraz negotiable?    0.254330\n",
       "4    How do I know if a product comes with warranty?    0.101915"
      ]
     },
     "execution_count": 144,
     "metadata": {},
     "output_type": "execute_result"
    }
   ],
   "source": [
    "temp=return_vectorized_data('why i see different prices product?')\n",
    "returned_df,relevant_answer=find_relevant(temp,3)\n",
    "returned_df"
   ]
  },
  {
   "cell_type": "code",
   "execution_count": 145,
   "metadata": {},
   "outputs": [
    {
     "name": "stdout",
     "output_type": "stream",
     "text": [
      "Asked Question:  how play daraz game desktop too\n",
      "-----------------------------\n",
      "Response:  No you can only play Daraz First Games on Daraz Android App.\n"
     ]
    },
    {
     "data": {
      "text/html": [
       "<div>\n",
       "<style scoped>\n",
       "    .dataframe tbody tr th:only-of-type {\n",
       "        vertical-align: middle;\n",
       "    }\n",
       "\n",
       "    .dataframe tbody tr th {\n",
       "        vertical-align: top;\n",
       "    }\n",
       "\n",
       "    .dataframe thead th {\n",
       "        text-align: right;\n",
       "    }\n",
       "</style>\n",
       "<table border=\"1\" class=\"dataframe\">\n",
       "  <thead>\n",
       "    <tr style=\"text-align: right;\">\n",
       "      <th></th>\n",
       "      <th>Question</th>\n",
       "      <th>cosine_sim</th>\n",
       "    </tr>\n",
       "  </thead>\n",
       "  <tbody>\n",
       "    <tr>\n",
       "      <th>21</th>\n",
       "      <td>Can I play Daraz First Games on Desktop too?</td>\n",
       "      <td>0.840099</td>\n",
       "    </tr>\n",
       "    <tr>\n",
       "      <th>22</th>\n",
       "      <td>What is Daraz First Games?</td>\n",
       "      <td>0.102053</td>\n",
       "    </tr>\n",
       "    <tr>\n",
       "      <th>18</th>\n",
       "      <td>Why am I not able to see my Collectible Vouche...</td>\n",
       "      <td>0.000000</td>\n",
       "    </tr>\n",
       "  </tbody>\n",
       "</table>\n",
       "</div>"
      ],
      "text/plain": [
       "                                             Question  cosine_sim\n",
       "21       Can I play Daraz First Games on Desktop too?    0.840099\n",
       "22                         What is Daraz First Games?    0.102053\n",
       "18  Why am I not able to see my Collectible Vouche...    0.000000"
      ]
     },
     "execution_count": 145,
     "metadata": {},
     "output_type": "execute_result"
    }
   ],
   "source": [
    "temp=return_vectorized_data('How to play daraz games desktop too?')\n",
    "returned_df,relevant_answer=find_relevant(temp,3)\n",
    "returned_df"
   ]
  },
  {
   "cell_type": "code",
   "execution_count": 162,
   "metadata": {},
   "outputs": [
    {
     "name": "stdout",
     "output_type": "stream",
     "text": [
      "Asked Question:  what daraz game\n",
      "-----------------------------\n",
      "Response:   We will be releasing the games on other platforms soon. Stay tuned!\n"
     ]
    },
    {
     "data": {
      "text/html": [
       "<div>\n",
       "<style scoped>\n",
       "    .dataframe tbody tr th:only-of-type {\n",
       "        vertical-align: middle;\n",
       "    }\n",
       "\n",
       "    .dataframe tbody tr th {\n",
       "        vertical-align: top;\n",
       "    }\n",
       "\n",
       "    .dataframe thead th {\n",
       "        text-align: right;\n",
       "    }\n",
       "</style>\n",
       "<table border=\"1\" class=\"dataframe\">\n",
       "  <thead>\n",
       "    <tr style=\"text-align: right;\">\n",
       "      <th></th>\n",
       "      <th>Question</th>\n",
       "      <th>cosine_sim</th>\n",
       "    </tr>\n",
       "  </thead>\n",
       "  <tbody>\n",
       "    <tr>\n",
       "      <th>21</th>\n",
       "      <td>Can I play Daraz First Games on Desktop too?</td>\n",
       "      <td>0.439555</td>\n",
       "    </tr>\n",
       "    <tr>\n",
       "      <th>22</th>\n",
       "      <td>What is Daraz First Games?</td>\n",
       "      <td>0.312516</td>\n",
       "    </tr>\n",
       "    <tr>\n",
       "      <th>23</th>\n",
       "      <td>What do I do if the vouchers I win are not wor...</td>\n",
       "      <td>0.124080</td>\n",
       "    </tr>\n",
       "  </tbody>\n",
       "</table>\n",
       "</div>"
      ],
      "text/plain": [
       "                                             Question  cosine_sim\n",
       "21       Can I play Daraz First Games on Desktop too?    0.439555\n",
       "22                         What is Daraz First Games?    0.312516\n",
       "23  What do I do if the vouchers I win are not wor...    0.124080"
      ]
     },
     "execution_count": 162,
     "metadata": {},
     "output_type": "execute_result"
    }
   ],
   "source": [
    "temp=return_vectorized_data('What is daraz gaming')\n",
    "returned_df,relevant_answer=find_relevant(temp,3)\n",
    "returned_df"
   ]
  },
  {
   "cell_type": "markdown",
   "metadata": {},
   "source": [
    "# Saving models:"
   ]
  },
  {
   "cell_type": "code",
   "execution_count": 147,
   "metadata": {},
   "outputs": [
    {
     "data": {
      "application/javascript": [
       "\n",
       "        if (window._pyforest_update_imports_cell) { window._pyforest_update_imports_cell('import sklearn\\nfrom sklearn.preprocessing import OneHotEncoder\\nimport statistics\\nimport sys\\nimport spacy\\nimport seaborn as sns\\nimport tensorflow as tf\\nfrom pathlib import Path\\nfrom sklearn.ensemble import RandomForestRegressor\\nfrom sklearn.ensemble import GradientBoostingClassifier\\nimport pickle\\nfrom sklearn.ensemble import GradientBoostingRegressor'); }\n",
       "    "
      ],
      "text/plain": [
       "<IPython.core.display.Javascript object>"
      ]
     },
     "metadata": {},
     "output_type": "display_data"
    },
    {
     "data": {
      "application/javascript": [
       "\n",
       "        if (window._pyforest_update_imports_cell) { window._pyforest_update_imports_cell('import sklearn\\nfrom sklearn.preprocessing import OneHotEncoder\\nimport statistics\\nimport sys\\nimport spacy\\nimport seaborn as sns\\nimport tensorflow as tf\\nfrom pathlib import Path\\nfrom sklearn.ensemble import RandomForestRegressor\\nfrom sklearn.ensemble import GradientBoostingClassifier\\nimport pickle\\nfrom sklearn.ensemble import GradientBoostingRegressor'); }\n",
       "    "
      ],
      "text/plain": [
       "<IPython.core.display.Javascript object>"
      ]
     },
     "metadata": {},
     "output_type": "display_data"
    },
    {
     "data": {
      "application/javascript": [
       "\n",
       "        if (window._pyforest_update_imports_cell) { window._pyforest_update_imports_cell('import sklearn\\nfrom sklearn.preprocessing import OneHotEncoder\\nimport statistics\\nimport sys\\nimport spacy\\nimport seaborn as sns\\nimport tensorflow as tf\\nfrom pathlib import Path\\nfrom sklearn.ensemble import RandomForestRegressor\\nfrom sklearn.ensemble import GradientBoostingClassifier\\nimport pickle\\nfrom sklearn.ensemble import GradientBoostingRegressor'); }\n",
       "    "
      ],
      "text/plain": [
       "<IPython.core.display.Javascript object>"
      ]
     },
     "metadata": {},
     "output_type": "display_data"
    }
   ],
   "source": [
    "with open('vectorizer.pk', 'wb') as fin:\n",
    "    pickle.dump(vectorizer,fin)\n",
    "with open('svm.pk', 'wb') as fin:\n",
    "    pickle.dump(svm,fin)\n",
    "with open('passive.pk', 'wb') as fin:\n",
    "    pickle.dump(passive,fin)"
   ]
  },
  {
   "cell_type": "code",
   "execution_count": 148,
   "metadata": {},
   "outputs": [
    {
     "data": {
      "application/javascript": [
       "\n",
       "        if (window._pyforest_update_imports_cell) { window._pyforest_update_imports_cell('import sklearn\\nfrom sklearn.preprocessing import OneHotEncoder\\nimport statistics\\nimport sys\\nimport spacy\\nimport seaborn as sns\\nimport tensorflow as tf\\nfrom pathlib import Path\\nfrom sklearn.ensemble import RandomForestRegressor\\nfrom sklearn.ensemble import GradientBoostingClassifier\\nimport pickle\\nfrom sklearn.ensemble import GradientBoostingRegressor'); }\n",
       "    "
      ],
      "text/plain": [
       "<IPython.core.display.Javascript object>"
      ]
     },
     "metadata": {},
     "output_type": "display_data"
    }
   ],
   "source": [
    "mod=pickle.load(open('vectorizer.pk','rb'))"
   ]
  },
  {
   "cell_type": "code",
   "execution_count": 149,
   "metadata": {},
   "outputs": [
    {
     "data": {
      "application/javascript": [
       "\n",
       "        if (window._pyforest_update_imports_cell) { window._pyforest_update_imports_cell('import sklearn\\nfrom sklearn.preprocessing import OneHotEncoder\\nimport statistics\\nimport sys\\nimport spacy\\nimport seaborn as sns\\nimport tensorflow as tf\\nfrom pathlib import Path\\nfrom sklearn.ensemble import RandomForestRegressor\\nfrom sklearn.ensemble import GradientBoostingClassifier\\nimport pickle\\nfrom sklearn.ensemble import GradientBoostingRegressor'); }\n",
       "    "
      ],
      "text/plain": [
       "<IPython.core.display.Javascript object>"
      ]
     },
     "metadata": {},
     "output_type": "display_data"
    }
   ],
   "source": [
    "sv_mod=pickle.load(open('svm.pk','rb'))"
   ]
  },
  {
   "cell_type": "code",
   "execution_count": 150,
   "metadata": {},
   "outputs": [
    {
     "data": {
      "text/plain": [
       "array([[0.        , 0.        , 0.        , 0.        , 0.        ,\n",
       "        0.        , 0.        , 0.        , 0.        , 0.        ,\n",
       "        0.        , 0.        , 0.        , 0.        , 0.        ,\n",
       "        0.        , 0.        , 0.        , 0.        , 0.        ,\n",
       "        0.        , 0.        , 0.38256491, 0.        , 0.        ,\n",
       "        0.        , 0.        , 0.        , 0.        , 0.        ,\n",
       "        0.        , 0.        , 0.        , 0.        , 0.        ,\n",
       "        0.        , 0.        , 0.        , 0.        , 0.        ,\n",
       "        0.        , 0.        , 0.        , 0.65331619, 0.        ,\n",
       "        0.        , 0.        , 0.        , 0.        , 0.        ,\n",
       "        0.        , 0.        , 0.        , 0.        , 0.        ,\n",
       "        0.        , 0.        , 0.        , 0.        , 0.        ,\n",
       "        0.        , 0.        , 0.        , 0.        , 0.        ,\n",
       "        0.        , 0.        , 0.        , 0.        , 0.        ,\n",
       "        0.        , 0.        , 0.        , 0.        , 0.65331619,\n",
       "        0.        , 0.        , 0.        , 0.        , 0.        ,\n",
       "        0.        , 0.        , 0.        , 0.        , 0.        ,\n",
       "        0.        , 0.        , 0.        , 0.        , 0.        ,\n",
       "        0.        , 0.        , 0.        , 0.        , 0.        ,\n",
       "        0.        , 0.        , 0.        , 0.        , 0.        ,\n",
       "        0.        , 0.        , 0.        , 0.        , 0.        ,\n",
       "        0.        , 0.        , 0.        , 0.        , 0.        ,\n",
       "        0.        , 0.        , 0.        , 0.        , 0.        ,\n",
       "        0.        , 0.        , 0.        , 0.        , 0.        ,\n",
       "        0.        , 0.        , 0.        , 0.        ]])"
      ]
     },
     "execution_count": 150,
     "metadata": {},
     "output_type": "execute_result"
    }
   ],
   "source": [
    "arr=mod.transform(['I want to play daraz games']).toarray()\n",
    "arr"
   ]
  },
  {
   "cell_type": "code",
   "execution_count": 151,
   "metadata": {},
   "outputs": [
    {
     "data": {
      "text/plain": [
       "array([2])"
      ]
     },
     "execution_count": 151,
     "metadata": {},
     "output_type": "execute_result"
    }
   ],
   "source": [
    "svm.predict(arr)"
   ]
  },
  {
   "cell_type": "code",
   "execution_count": 152,
   "metadata": {},
   "outputs": [
    {
     "data": {
      "text/html": [
       "<div>\n",
       "<style scoped>\n",
       "    .dataframe tbody tr th:only-of-type {\n",
       "        vertical-align: middle;\n",
       "    }\n",
       "\n",
       "    .dataframe tbody tr th {\n",
       "        vertical-align: top;\n",
       "    }\n",
       "\n",
       "    .dataframe thead th {\n",
       "        text-align: right;\n",
       "    }\n",
       "</style>\n",
       "<table border=\"1\" class=\"dataframe\">\n",
       "  <thead>\n",
       "    <tr style=\"text-align: right;\">\n",
       "      <th></th>\n",
       "      <th>Category</th>\n",
       "      <th>Tag</th>\n",
       "      <th>Question</th>\n",
       "      <th>Answer</th>\n",
       "      <th>Cleaned</th>\n",
       "      <th>Label</th>\n",
       "    </tr>\n",
       "  </thead>\n",
       "  <tbody>\n",
       "    <tr>\n",
       "      <th>0</th>\n",
       "      <td>My Account</td>\n",
       "      <td>Rating and Reviews</td>\n",
       "      <td>How to Review Product as well as Seller?</td>\n",
       "      <td>Everything is right here. Please check this ou...</td>\n",
       "      <td>how review product well seller</td>\n",
       "      <td>1</td>\n",
       "    </tr>\n",
       "    <tr>\n",
       "      <th>1</th>\n",
       "      <td>My Account</td>\n",
       "      <td>Rating and Reviews</td>\n",
       "      <td>How to Filter Search Results with Product Rati...</td>\n",
       "      <td>Products can also be filtered according to the...</td>\n",
       "      <td>how filter search result product ratings</td>\n",
       "      <td>1</td>\n",
       "    </tr>\n",
       "    <tr>\n",
       "      <th>2</th>\n",
       "      <td>My Account</td>\n",
       "      <td>Rating and Reviews</td>\n",
       "      <td>What are Ratings &amp; Reviews and how do I write ...</td>\n",
       "      <td>Daraz customers have the option of rating and ...</td>\n",
       "      <td>what rate review i write good reviews</td>\n",
       "      <td>1</td>\n",
       "    </tr>\n",
       "    <tr>\n",
       "      <th>3</th>\n",
       "      <td>My Account</td>\n",
       "      <td>Product Warranty</td>\n",
       "      <td>How do I know if a product comes with free ins...</td>\n",
       "      <td>Unfortunately we are not providing the Free In...</td>\n",
       "      <td>how i know product come free installation</td>\n",
       "      <td>1</td>\n",
       "    </tr>\n",
       "    <tr>\n",
       "      <th>4</th>\n",
       "      <td>My Account</td>\n",
       "      <td>Product Warranty</td>\n",
       "      <td>How do I know if a product comes with warranty?</td>\n",
       "      <td>If a warranty is offered on a product the warr...</td>\n",
       "      <td>how i know product come warranty</td>\n",
       "      <td>1</td>\n",
       "    </tr>\n",
       "    <tr>\n",
       "      <th>5</th>\n",
       "      <td>My Account</td>\n",
       "      <td>Product Warranty</td>\n",
       "      <td>I lost my warranty card. How can I claim warra...</td>\n",
       "      <td>Lost your warranty card? Don't worry! You can ...</td>\n",
       "      <td>i lost warranti card how i claim warranty</td>\n",
       "      <td>1</td>\n",
       "    </tr>\n",
       "    <tr>\n",
       "      <th>6</th>\n",
       "      <td>My Account</td>\n",
       "      <td>Product Price</td>\n",
       "      <td>Are there any hidden costs or charges if I ord...</td>\n",
       "      <td>There are no hidden costs or charges when you ...</td>\n",
       "      <td>are hidden cost charg i order daraz</td>\n",
       "      <td>1</td>\n",
       "    </tr>\n",
       "    <tr>\n",
       "      <th>7</th>\n",
       "      <td>My Account</td>\n",
       "      <td>Product Price</td>\n",
       "      <td>Are the prices on Daraz negotiable?</td>\n",
       "      <td>Prices on Daraz are not negotiable. Daraz has ...</td>\n",
       "      <td>are price daraz negotiable</td>\n",
       "      <td>1</td>\n",
       "    </tr>\n",
       "    <tr>\n",
       "      <th>8</th>\n",
       "      <td>My Account</td>\n",
       "      <td>Product Price</td>\n",
       "      <td>Why do I see different prices for the same pro...</td>\n",
       "      <td>Daraz is a marketplace. We have a huge seller ...</td>\n",
       "      <td>whi i see differ price product</td>\n",
       "      <td>1</td>\n",
       "    </tr>\n",
       "    <tr>\n",
       "      <th>9</th>\n",
       "      <td>My Account</td>\n",
       "      <td>Product Information</td>\n",
       "      <td>How to contact Vendor?</td>\n",
       "      <td>Now you can easily contact vendor through Dara...</td>\n",
       "      <td>how contact vendor</td>\n",
       "      <td>1</td>\n",
       "    </tr>\n",
       "    <tr>\n",
       "      <th>10</th>\n",
       "      <td>My Account</td>\n",
       "      <td>Product Information</td>\n",
       "      <td>Where can I find more detailed information abo...</td>\n",
       "      <td>Information regarding your product are describ...</td>\n",
       "      <td>where i find detail inform product</td>\n",
       "      <td>1</td>\n",
       "    </tr>\n",
       "    <tr>\n",
       "      <th>11</th>\n",
       "      <td>My Account</td>\n",
       "      <td>Product Information</td>\n",
       "      <td>Are all products on Daraz new and unused?</td>\n",
       "      <td>Yes Daraz only offers 100% new and unused prod...</td>\n",
       "      <td>are product daraz new unused</td>\n",
       "      <td>1</td>\n",
       "    </tr>\n",
       "    <tr>\n",
       "      <th>12</th>\n",
       "      <td>DarazMall</td>\n",
       "      <td>Darazmall for Sellers</td>\n",
       "      <td>How do I join DarazMall?</td>\n",
       "      <td>Currently participation in DarazMall is on an ...</td>\n",
       "      <td>how i join darazmall</td>\n",
       "      <td>0</td>\n",
       "    </tr>\n",
       "    <tr>\n",
       "      <th>13</th>\n",
       "      <td>DarazMall</td>\n",
       "      <td>Darazmall return</td>\n",
       "      <td>What is DarazMall's return policy?</td>\n",
       "      <td>DarazMall items can be returned within 14 days...</td>\n",
       "      <td>what darazmall return policy</td>\n",
       "      <td>0</td>\n",
       "    </tr>\n",
       "    <tr>\n",
       "      <th>14</th>\n",
       "      <td>DarazMall</td>\n",
       "      <td>Darazmall shipping</td>\n",
       "      <td>What do I do if my order did not reach in the ...</td>\n",
       "      <td>If you do not receive your DarazMall orders pe...</td>\n",
       "      <td>what i order reach promis lead time</td>\n",
       "      <td>0</td>\n",
       "    </tr>\n",
       "    <tr>\n",
       "      <th>15</th>\n",
       "      <td>DarazMall</td>\n",
       "      <td>What is Darazmall</td>\n",
       "      <td>How can I identify a DarazMall product in the ...</td>\n",
       "      <td>You can identify\" DarazMall\" products by the \"...</td>\n",
       "      <td>how i identifi darazmal product website</td>\n",
       "      <td>0</td>\n",
       "    </tr>\n",
       "    <tr>\n",
       "      <th>16</th>\n",
       "      <td>DarazMall</td>\n",
       "      <td>What is Darazmall</td>\n",
       "      <td>What is DarazMall?</td>\n",
       "      <td>DarazMall is basically Nepal's largest shoppin...</td>\n",
       "      <td>what darazmall</td>\n",
       "      <td>0</td>\n",
       "    </tr>\n",
       "    <tr>\n",
       "      <th>17</th>\n",
       "      <td>DarazMall</td>\n",
       "      <td>What is Darazmall</td>\n",
       "      <td>What is a Flagship Store?</td>\n",
       "      <td>Flagship stores are a selection of leading int...</td>\n",
       "      <td>what flagship store</td>\n",
       "      <td>0</td>\n",
       "    </tr>\n",
       "    <tr>\n",
       "      <th>18</th>\n",
       "      <td>Voucher</td>\n",
       "      <td>Collective Vouchers</td>\n",
       "      <td>Why am I not able to see my Collectible Vouche...</td>\n",
       "      <td>Vouchers for which the validity has ended can ...</td>\n",
       "      <td>whi i abl see collect voucher wallet</td>\n",
       "      <td>3</td>\n",
       "    </tr>\n",
       "    <tr>\n",
       "      <th>19</th>\n",
       "      <td>Voucher</td>\n",
       "      <td>Collective Vouchers</td>\n",
       "      <td>Why am I unable to use my Collectible Vouchers?</td>\n",
       "      <td>The voucher validity has ended - in which case...</td>\n",
       "      <td>whi i unabl use collect vouchers</td>\n",
       "      <td>3</td>\n",
       "    </tr>\n",
       "    <tr>\n",
       "      <th>20</th>\n",
       "      <td>Voucher</td>\n",
       "      <td>Collective Vouchers</td>\n",
       "      <td>Why am I unable to collect vouchers?</td>\n",
       "      <td>Some of the voucher can be only collected by t...</td>\n",
       "      <td>whi i unabl collect vouchers</td>\n",
       "      <td>3</td>\n",
       "    </tr>\n",
       "    <tr>\n",
       "      <th>21</th>\n",
       "      <td>Voucher</td>\n",
       "      <td>Daraz First Games</td>\n",
       "      <td>Can I play Daraz First Games on Desktop too?</td>\n",
       "      <td>No you can only play Daraz First Games on Dara...</td>\n",
       "      <td>can i play daraz first game desktop too</td>\n",
       "      <td>3</td>\n",
       "    </tr>\n",
       "    <tr>\n",
       "      <th>22</th>\n",
       "      <td>Voucher</td>\n",
       "      <td>Daraz First Games</td>\n",
       "      <td>What is Daraz First Games?</td>\n",
       "      <td>Daraz First Games is a mobile gaming platform ...</td>\n",
       "      <td>what daraz first games</td>\n",
       "      <td>3</td>\n",
       "    </tr>\n",
       "    <tr>\n",
       "      <th>23</th>\n",
       "      <td>Voucher</td>\n",
       "      <td>Daraz First Games</td>\n",
       "      <td>What do I do if the vouchers I win are not wor...</td>\n",
       "      <td>Please make sure that you have applied the cor...</td>\n",
       "      <td>what i voucher i win working</td>\n",
       "      <td>3</td>\n",
       "    </tr>\n",
       "    <tr>\n",
       "      <th>24</th>\n",
       "      <td>Ordering</td>\n",
       "      <td>Digital Goods</td>\n",
       "      <td>What are digital goods?</td>\n",
       "      <td>Digital goods or e-stores are products which y...</td>\n",
       "      <td>what digit goods</td>\n",
       "      <td>2</td>\n",
       "    </tr>\n",
       "    <tr>\n",
       "      <th>25</th>\n",
       "      <td>Ordering</td>\n",
       "      <td>Digital Goods</td>\n",
       "      <td>What is Top Up?</td>\n",
       "      <td>Mobile Recharge! Just a few clicks away.,Daraz...</td>\n",
       "      <td>what top up</td>\n",
       "      <td>2</td>\n",
       "    </tr>\n",
       "    <tr>\n",
       "      <th>26</th>\n",
       "      <td>Ordering</td>\n",
       "      <td>Digital Goods</td>\n",
       "      <td>Can I buy the digital goods on COD / Esewa/Kha...</td>\n",
       "      <td>Yes We accept eSewa/Card payments on our platf...</td>\n",
       "      <td>can i buy digit good cod esewa khalti digit pa...</td>\n",
       "      <td>2</td>\n",
       "    </tr>\n",
       "    <tr>\n",
       "      <th>27</th>\n",
       "      <td>Ordering</td>\n",
       "      <td>Order Cancellation</td>\n",
       "      <td>How do I cancel my order?</td>\n",
       "      <td>If your order is not yet on its way to you and...</td>\n",
       "      <td>how i cancel order</td>\n",
       "      <td>2</td>\n",
       "    </tr>\n",
       "    <tr>\n",
       "      <th>28</th>\n",
       "      <td>Ordering</td>\n",
       "      <td>Covid-19</td>\n",
       "      <td>Is cash safe to use?</td>\n",
       "      <td>As per World Health Organization there is no e...</td>\n",
       "      <td>is cash safe use</td>\n",
       "      <td>2</td>\n",
       "    </tr>\n",
       "    <tr>\n",
       "      <th>29</th>\n",
       "      <td>Ordering</td>\n",
       "      <td>Covid-20</td>\n",
       "      <td>Are the employees at Daraz safe?</td>\n",
       "      <td>We are committed to taking precautions to prot...</td>\n",
       "      <td>are employe daraz safe</td>\n",
       "      <td>2</td>\n",
       "    </tr>\n",
       "    <tr>\n",
       "      <th>30</th>\n",
       "      <td>Ordering</td>\n",
       "      <td>Covid-21</td>\n",
       "      <td>What is Daraz doing to prevent price hikes on ...</td>\n",
       "      <td>We have issued a stern warning to sellers, on ...</td>\n",
       "      <td>what daraz prevent price hike product reduc ri...</td>\n",
       "      <td>2</td>\n",
       "    </tr>\n",
       "    <tr>\n",
       "      <th>31</th>\n",
       "      <td>Ordering</td>\n",
       "      <td>Big mart</td>\n",
       "      <td>How can I order daily essentials through Daraz...</td>\n",
       "      <td>Firstly visit this page to view all the Bigmar...</td>\n",
       "      <td>how i order daili essenti daraz bigmart</td>\n",
       "      <td>2</td>\n",
       "    </tr>\n",
       "    <tr>\n",
       "      <th>32</th>\n",
       "      <td>Ordering</td>\n",
       "      <td>Big mart</td>\n",
       "      <td>Problems with Check Out/ or any issues encount...</td>\n",
       "      <td>If you are facing any error while placing the ...</td>\n",
       "      <td>problem check out issu encountered</td>\n",
       "      <td>2</td>\n",
       "    </tr>\n",
       "    <tr>\n",
       "      <th>33</th>\n",
       "      <td>Ordering</td>\n",
       "      <td>Big mart</td>\n",
       "      <td>Can orders be placed directly on Bigmart websi...</td>\n",
       "      <td>You need to place an order via Daraz app/websi...</td>\n",
       "      <td>can order place directli bigmart websit phone</td>\n",
       "      <td>2</td>\n",
       "    </tr>\n",
       "    <tr>\n",
       "      <th>34</th>\n",
       "      <td>Ordering</td>\n",
       "      <td>D Fresh</td>\n",
       "      <td>Items from the cart were missing?</td>\n",
       "      <td>If items added to the cart are missing it coul...</td>\n",
       "      <td>item cart missing</td>\n",
       "      <td>2</td>\n",
       "    </tr>\n",
       "    <tr>\n",
       "      <th>35</th>\n",
       "      <td>Ordering</td>\n",
       "      <td>D Fresh</td>\n",
       "      <td>Can I return Dfresh Items?</td>\n",
       "      <td>If you find any quality issues with your Dfres...</td>\n",
       "      <td>can i return dfresh items</td>\n",
       "      <td>2</td>\n",
       "    </tr>\n",
       "    <tr>\n",
       "      <th>36</th>\n",
       "      <td>Ordering</td>\n",
       "      <td>D Fresh</td>\n",
       "      <td>When are the DFresh products delivered?</td>\n",
       "      <td>dFresh orders are delivered the very next day ...</td>\n",
       "      <td>when dfresh product delivered</td>\n",
       "      <td>2</td>\n",
       "    </tr>\n",
       "    <tr>\n",
       "      <th>37</th>\n",
       "      <td>Ordering</td>\n",
       "      <td>Shipping Fees</td>\n",
       "      <td>What are the shipping charges?</td>\n",
       "      <td>Shipping charges are the costs undertaken by o...</td>\n",
       "      <td>what ship charges</td>\n",
       "      <td>2</td>\n",
       "    </tr>\n",
       "    <tr>\n",
       "      <th>38</th>\n",
       "      <td>Ordering</td>\n",
       "      <td>Order Placement</td>\n",
       "      <td>Why am I having trouble placing products in th...</td>\n",
       "      <td>If you are having trouble placing products in ...</td>\n",
       "      <td>whi i troubl place product cart</td>\n",
       "      <td>2</td>\n",
       "    </tr>\n",
       "    <tr>\n",
       "      <th>39</th>\n",
       "      <td>Ordering</td>\n",
       "      <td>Order Placement</td>\n",
       "      <td>Do I need an account to shop on Daraz?</td>\n",
       "      <td>Having a Daraz account helps us to make your s...</td>\n",
       "      <td>do i need account shop daraz</td>\n",
       "      <td>2</td>\n",
       "    </tr>\n",
       "    <tr>\n",
       "      <th>40</th>\n",
       "      <td>Ordering</td>\n",
       "      <td>Order Placement</td>\n",
       "      <td>How do I remove an item from my shopping cart?</td>\n",
       "      <td>Go to your“Cart”.,Slide to left on the item yo...</td>\n",
       "      <td>how i remov item shop cart</td>\n",
       "      <td>2</td>\n",
       "    </tr>\n",
       "    <tr>\n",
       "      <th>41</th>\n",
       "      <td>Ordering</td>\n",
       "      <td>Global Collection</td>\n",
       "      <td>What payment method can I use to buy overseas ...</td>\n",
       "      <td>You can use any of our prepayment options. Als...</td>\n",
       "      <td>what payment method i use buy oversea products</td>\n",
       "      <td>2</td>\n",
       "    </tr>\n",
       "    <tr>\n",
       "      <th>42</th>\n",
       "      <td>Ordering</td>\n",
       "      <td>Global Collection</td>\n",
       "      <td>What are Global Collection Products?</td>\n",
       "      <td>Overseas products are internationally sourced ...</td>\n",
       "      <td>what global collect products</td>\n",
       "      <td>2</td>\n",
       "    </tr>\n",
       "    <tr>\n",
       "      <th>43</th>\n",
       "      <td>Ordering</td>\n",
       "      <td>Global Collection</td>\n",
       "      <td>How can I find overseas products on Daraz?</td>\n",
       "      <td>Overseas products are listed in the“Global Col...</td>\n",
       "      <td>how i find oversea product daraz</td>\n",
       "      <td>2</td>\n",
       "    </tr>\n",
       "  </tbody>\n",
       "</table>\n",
       "</div>"
      ],
      "text/plain": [
       "      Category                    Tag  \\\n",
       "0   My Account     Rating and Reviews   \n",
       "1   My Account     Rating and Reviews   \n",
       "2   My Account     Rating and Reviews   \n",
       "3   My Account       Product Warranty   \n",
       "4   My Account       Product Warranty   \n",
       "5   My Account       Product Warranty   \n",
       "6   My Account          Product Price   \n",
       "7   My Account          Product Price   \n",
       "8   My Account          Product Price   \n",
       "9   My Account    Product Information   \n",
       "10  My Account    Product Information   \n",
       "11  My Account    Product Information   \n",
       "12   DarazMall  Darazmall for Sellers   \n",
       "13   DarazMall       Darazmall return   \n",
       "14   DarazMall     Darazmall shipping   \n",
       "15   DarazMall      What is Darazmall   \n",
       "16   DarazMall      What is Darazmall   \n",
       "17   DarazMall      What is Darazmall   \n",
       "18     Voucher    Collective Vouchers   \n",
       "19     Voucher    Collective Vouchers   \n",
       "20     Voucher    Collective Vouchers   \n",
       "21     Voucher      Daraz First Games   \n",
       "22     Voucher      Daraz First Games   \n",
       "23     Voucher      Daraz First Games   \n",
       "24    Ordering          Digital Goods   \n",
       "25    Ordering          Digital Goods   \n",
       "26    Ordering          Digital Goods   \n",
       "27    Ordering     Order Cancellation   \n",
       "28    Ordering               Covid-19   \n",
       "29    Ordering               Covid-20   \n",
       "30    Ordering               Covid-21   \n",
       "31    Ordering               Big mart   \n",
       "32    Ordering               Big mart   \n",
       "33    Ordering               Big mart   \n",
       "34    Ordering                D Fresh   \n",
       "35    Ordering                D Fresh   \n",
       "36    Ordering                D Fresh   \n",
       "37    Ordering          Shipping Fees   \n",
       "38    Ordering        Order Placement   \n",
       "39    Ordering        Order Placement   \n",
       "40    Ordering        Order Placement   \n",
       "41    Ordering      Global Collection   \n",
       "42    Ordering      Global Collection   \n",
       "43    Ordering      Global Collection   \n",
       "\n",
       "                                             Question  \\\n",
       "0            How to Review Product as well as Seller?   \n",
       "1   How to Filter Search Results with Product Rati...   \n",
       "2   What are Ratings & Reviews and how do I write ...   \n",
       "3   How do I know if a product comes with free ins...   \n",
       "4     How do I know if a product comes with warranty?   \n",
       "5   I lost my warranty card. How can I claim warra...   \n",
       "6   Are there any hidden costs or charges if I ord...   \n",
       "7                 Are the prices on Daraz negotiable?   \n",
       "8   Why do I see different prices for the same pro...   \n",
       "9                              How to contact Vendor?   \n",
       "10  Where can I find more detailed information abo...   \n",
       "11          Are all products on Daraz new and unused?   \n",
       "12                           How do I join DarazMall?   \n",
       "13                 What is DarazMall's return policy?   \n",
       "14  What do I do if my order did not reach in the ...   \n",
       "15  How can I identify a DarazMall product in the ...   \n",
       "16                                 What is DarazMall?   \n",
       "17                          What is a Flagship Store?   \n",
       "18  Why am I not able to see my Collectible Vouche...   \n",
       "19    Why am I unable to use my Collectible Vouchers?   \n",
       "20               Why am I unable to collect vouchers?   \n",
       "21       Can I play Daraz First Games on Desktop too?   \n",
       "22                         What is Daraz First Games?   \n",
       "23  What do I do if the vouchers I win are not wor...   \n",
       "24                            What are digital goods?   \n",
       "25                                    What is Top Up?   \n",
       "26  Can I buy the digital goods on COD / Esewa/Kha...   \n",
       "27                          How do I cancel my order?   \n",
       "28                               Is cash safe to use?   \n",
       "29                   Are the employees at Daraz safe?   \n",
       "30  What is Daraz doing to prevent price hikes on ...   \n",
       "31  How can I order daily essentials through Daraz...   \n",
       "32  Problems with Check Out/ or any issues encount...   \n",
       "33  Can orders be placed directly on Bigmart websi...   \n",
       "34                  Items from the cart were missing?   \n",
       "35                         Can I return Dfresh Items?   \n",
       "36            When are the DFresh products delivered?   \n",
       "37                     What are the shipping charges?   \n",
       "38  Why am I having trouble placing products in th...   \n",
       "39             Do I need an account to shop on Daraz?   \n",
       "40     How do I remove an item from my shopping cart?   \n",
       "41  What payment method can I use to buy overseas ...   \n",
       "42               What are Global Collection Products?   \n",
       "43         How can I find overseas products on Daraz?   \n",
       "\n",
       "                                               Answer  \\\n",
       "0   Everything is right here. Please check this ou...   \n",
       "1   Products can also be filtered according to the...   \n",
       "2   Daraz customers have the option of rating and ...   \n",
       "3   Unfortunately we are not providing the Free In...   \n",
       "4   If a warranty is offered on a product the warr...   \n",
       "5   Lost your warranty card? Don't worry! You can ...   \n",
       "6   There are no hidden costs or charges when you ...   \n",
       "7   Prices on Daraz are not negotiable. Daraz has ...   \n",
       "8   Daraz is a marketplace. We have a huge seller ...   \n",
       "9   Now you can easily contact vendor through Dara...   \n",
       "10  Information regarding your product are describ...   \n",
       "11  Yes Daraz only offers 100% new and unused prod...   \n",
       "12  Currently participation in DarazMall is on an ...   \n",
       "13  DarazMall items can be returned within 14 days...   \n",
       "14  If you do not receive your DarazMall orders pe...   \n",
       "15  You can identify\" DarazMall\" products by the \"...   \n",
       "16  DarazMall is basically Nepal's largest shoppin...   \n",
       "17  Flagship stores are a selection of leading int...   \n",
       "18  Vouchers for which the validity has ended can ...   \n",
       "19  The voucher validity has ended - in which case...   \n",
       "20  Some of the voucher can be only collected by t...   \n",
       "21  No you can only play Daraz First Games on Dara...   \n",
       "22  Daraz First Games is a mobile gaming platform ...   \n",
       "23  Please make sure that you have applied the cor...   \n",
       "24  Digital goods or e-stores are products which y...   \n",
       "25  Mobile Recharge! Just a few clicks away.,Daraz...   \n",
       "26  Yes We accept eSewa/Card payments on our platf...   \n",
       "27  If your order is not yet on its way to you and...   \n",
       "28  As per World Health Organization there is no e...   \n",
       "29  We are committed to taking precautions to prot...   \n",
       "30  We have issued a stern warning to sellers, on ...   \n",
       "31  Firstly visit this page to view all the Bigmar...   \n",
       "32  If you are facing any error while placing the ...   \n",
       "33  You need to place an order via Daraz app/websi...   \n",
       "34  If items added to the cart are missing it coul...   \n",
       "35  If you find any quality issues with your Dfres...   \n",
       "36  dFresh orders are delivered the very next day ...   \n",
       "37  Shipping charges are the costs undertaken by o...   \n",
       "38  If you are having trouble placing products in ...   \n",
       "39  Having a Daraz account helps us to make your s...   \n",
       "40  Go to your“Cart”.,Slide to left on the item yo...   \n",
       "41  You can use any of our prepayment options. Als...   \n",
       "42  Overseas products are internationally sourced ...   \n",
       "43  Overseas products are listed in the“Global Col...   \n",
       "\n",
       "                                              Cleaned  Label  \n",
       "0                      how review product well seller      1  \n",
       "1            how filter search result product ratings      1  \n",
       "2               what rate review i write good reviews      1  \n",
       "3           how i know product come free installation      1  \n",
       "4                    how i know product come warranty      1  \n",
       "5           i lost warranti card how i claim warranty      1  \n",
       "6                 are hidden cost charg i order daraz      1  \n",
       "7                          are price daraz negotiable      1  \n",
       "8                      whi i see differ price product      1  \n",
       "9                                  how contact vendor      1  \n",
       "10                 where i find detail inform product      1  \n",
       "11                       are product daraz new unused      1  \n",
       "12                               how i join darazmall      0  \n",
       "13                       what darazmall return policy      0  \n",
       "14                what i order reach promis lead time      0  \n",
       "15            how i identifi darazmal product website      0  \n",
       "16                                     what darazmall      0  \n",
       "17                                what flagship store      0  \n",
       "18               whi i abl see collect voucher wallet      3  \n",
       "19                   whi i unabl use collect vouchers      3  \n",
       "20                       whi i unabl collect vouchers      3  \n",
       "21            can i play daraz first game desktop too      3  \n",
       "22                             what daraz first games      3  \n",
       "23                       what i voucher i win working      3  \n",
       "24                                   what digit goods      2  \n",
       "25                                        what top up      2  \n",
       "26  can i buy digit good cod esewa khalti digit pa...      2  \n",
       "27                                 how i cancel order      2  \n",
       "28                                   is cash safe use      2  \n",
       "29                             are employe daraz safe      2  \n",
       "30  what daraz prevent price hike product reduc ri...      2  \n",
       "31            how i order daili essenti daraz bigmart      2  \n",
       "32                 problem check out issu encountered      2  \n",
       "33      can order place directli bigmart websit phone      2  \n",
       "34                                  item cart missing      2  \n",
       "35                          can i return dfresh items      2  \n",
       "36                      when dfresh product delivered      2  \n",
       "37                                  what ship charges      2  \n",
       "38                    whi i troubl place product cart      2  \n",
       "39                       do i need account shop daraz      2  \n",
       "40                         how i remov item shop cart      2  \n",
       "41     what payment method i use buy oversea products      2  \n",
       "42                       what global collect products      2  \n",
       "43                   how i find oversea product daraz      2  "
      ]
     },
     "execution_count": 152,
     "metadata": {},
     "output_type": "execute_result"
    }
   ],
   "source": [
    "df"
   ]
  },
  {
   "cell_type": "code",
   "execution_count": null,
   "metadata": {},
   "outputs": [],
   "source": []
  },
  {
   "cell_type": "code",
   "execution_count": 153,
   "metadata": {},
   "outputs": [],
   "source": [
    "df.to_csv('df_clean.csv')"
   ]
  },
  {
   "cell_type": "markdown",
   "metadata": {},
   "source": [
    "# Doc 2 vec"
   ]
  },
  {
   "cell_type": "markdown",
   "metadata": {},
   "source": [
    "# This thing can also be tried creating a vector for particular document using doc2vec model"
   ]
  },
  {
   "cell_type": "code",
   "execution_count": 154,
   "metadata": {},
   "outputs": [],
   "source": [
    "X_.tofile('file.txt')"
   ]
  },
  {
   "cell_type": "code",
   "execution_count": null,
   "metadata": {},
   "outputs": [],
   "source": []
  },
  {
   "cell_type": "code",
   "execution_count": null,
   "metadata": {},
   "outputs": [],
   "source": []
  },
  {
   "cell_type": "code",
   "execution_count": 155,
   "metadata": {},
   "outputs": [
    {
     "data": {
      "application/javascript": [
       "\n",
       "        if (window._pyforest_update_imports_cell) { window._pyforest_update_imports_cell('import sklearn\\nfrom sklearn.preprocessing import OneHotEncoder\\nimport statistics\\nimport sys\\nimport spacy\\nimport seaborn as sns\\nimport tensorflow as tf\\nfrom pathlib import Path\\nfrom sklearn.ensemble import RandomForestRegressor\\nfrom sklearn.ensemble import GradientBoostingClassifier\\nimport pickle\\nfrom sklearn.ensemble import GradientBoostingRegressor'); }\n",
       "    "
      ],
      "text/plain": [
       "<IPython.core.display.Javascript object>"
      ]
     },
     "metadata": {},
     "output_type": "display_data"
    }
   ],
   "source": [
    "with open('data.pk', 'wb') as fin:\n",
    "    pickle.dump(X_,fin)"
   ]
  },
  {
   "cell_type": "code",
   "execution_count": 156,
   "metadata": {},
   "outputs": [
    {
     "data": {
      "application/javascript": [
       "\n",
       "        if (window._pyforest_update_imports_cell) { window._pyforest_update_imports_cell('import sklearn\\nfrom sklearn.preprocessing import OneHotEncoder\\nimport statistics\\nimport sys\\nimport spacy\\nimport seaborn as sns\\nimport tensorflow as tf\\nfrom pathlib import Path\\nfrom sklearn.ensemble import RandomForestRegressor\\nfrom sklearn.ensemble import GradientBoostingClassifier\\nimport pickle\\nfrom sklearn.ensemble import GradientBoostingRegressor'); }\n",
       "    "
      ],
      "text/plain": [
       "<IPython.core.display.Javascript object>"
      ]
     },
     "metadata": {},
     "output_type": "display_data"
    }
   ],
   "source": [
    "data=pickle.load(open('data.pk','rb'))"
   ]
  },
  {
   "cell_type": "code",
   "execution_count": 157,
   "metadata": {},
   "outputs": [
    {
     "data": {
      "text/plain": [
       "array([[0.       , 0.       , 0.       , ..., 0.       , 0.       ,\n",
       "        0.       ],\n",
       "       [0.       , 0.       , 0.       , ..., 0.       , 0.       ,\n",
       "        0.       ],\n",
       "       [0.       , 0.       , 0.       , ..., 0.       , 0.       ,\n",
       "        0.4516236],\n",
       "       ...,\n",
       "       [0.       , 0.       , 0.       , ..., 0.       , 0.       ,\n",
       "        0.       ],\n",
       "       [0.       , 0.       , 0.       , ..., 0.       , 0.       ,\n",
       "        0.       ],\n",
       "       [0.       , 0.       , 0.       , ..., 0.       , 0.       ,\n",
       "        0.       ]])"
      ]
     },
     "execution_count": 157,
     "metadata": {},
     "output_type": "execute_result"
    }
   ],
   "source": [
    "data"
   ]
  },
  {
   "cell_type": "code",
   "execution_count": 158,
   "metadata": {},
   "outputs": [
    {
     "data": {
      "text/plain": [
       "array([[0.       , 0.       , 0.       , ..., 0.       , 0.       ,\n",
       "        0.       ],\n",
       "       [0.       , 0.       , 0.       , ..., 0.       , 0.       ,\n",
       "        0.       ],\n",
       "       [0.       , 0.       , 0.       , ..., 0.       , 0.       ,\n",
       "        0.4516236],\n",
       "       ...,\n",
       "       [0.       , 0.       , 0.       , ..., 0.       , 0.       ,\n",
       "        0.       ],\n",
       "       [0.       , 0.       , 0.       , ..., 0.       , 0.       ,\n",
       "        0.       ],\n",
       "       [0.       , 0.       , 0.       , ..., 0.       , 0.       ,\n",
       "        0.       ]])"
      ]
     },
     "execution_count": 158,
     "metadata": {},
     "output_type": "execute_result"
    }
   ],
   "source": [
    "X_"
   ]
  },
  {
   "cell_type": "code",
   "execution_count": 159,
   "metadata": {},
   "outputs": [
    {
     "data": {
      "text/html": [
       "<div>\n",
       "<style scoped>\n",
       "    .dataframe tbody tr th:only-of-type {\n",
       "        vertical-align: middle;\n",
       "    }\n",
       "\n",
       "    .dataframe tbody tr th {\n",
       "        vertical-align: top;\n",
       "    }\n",
       "\n",
       "    .dataframe thead th {\n",
       "        text-align: right;\n",
       "    }\n",
       "</style>\n",
       "<table border=\"1\" class=\"dataframe\">\n",
       "  <thead>\n",
       "    <tr style=\"text-align: right;\">\n",
       "      <th></th>\n",
       "      <th>Category</th>\n",
       "      <th>Tag</th>\n",
       "      <th>Question</th>\n",
       "      <th>Answer</th>\n",
       "      <th>Cleaned</th>\n",
       "      <th>Label</th>\n",
       "    </tr>\n",
       "  </thead>\n",
       "  <tbody>\n",
       "    <tr>\n",
       "      <th>0</th>\n",
       "      <td>My Account</td>\n",
       "      <td>Rating and Reviews</td>\n",
       "      <td>How to Review Product as well as Seller?</td>\n",
       "      <td>Everything is right here. Please check this ou...</td>\n",
       "      <td>how review product well seller</td>\n",
       "      <td>1</td>\n",
       "    </tr>\n",
       "    <tr>\n",
       "      <th>1</th>\n",
       "      <td>My Account</td>\n",
       "      <td>Rating and Reviews</td>\n",
       "      <td>How to Filter Search Results with Product Rati...</td>\n",
       "      <td>Products can also be filtered according to the...</td>\n",
       "      <td>how filter search result product ratings</td>\n",
       "      <td>1</td>\n",
       "    </tr>\n",
       "    <tr>\n",
       "      <th>2</th>\n",
       "      <td>My Account</td>\n",
       "      <td>Rating and Reviews</td>\n",
       "      <td>What are Ratings &amp; Reviews and how do I write ...</td>\n",
       "      <td>Daraz customers have the option of rating and ...</td>\n",
       "      <td>what rate review i write good reviews</td>\n",
       "      <td>1</td>\n",
       "    </tr>\n",
       "    <tr>\n",
       "      <th>3</th>\n",
       "      <td>My Account</td>\n",
       "      <td>Product Warranty</td>\n",
       "      <td>How do I know if a product comes with free ins...</td>\n",
       "      <td>Unfortunately we are not providing the Free In...</td>\n",
       "      <td>how i know product come free installation</td>\n",
       "      <td>1</td>\n",
       "    </tr>\n",
       "    <tr>\n",
       "      <th>4</th>\n",
       "      <td>My Account</td>\n",
       "      <td>Product Warranty</td>\n",
       "      <td>How do I know if a product comes with warranty?</td>\n",
       "      <td>If a warranty is offered on a product the warr...</td>\n",
       "      <td>how i know product come warranty</td>\n",
       "      <td>1</td>\n",
       "    </tr>\n",
       "  </tbody>\n",
       "</table>\n",
       "</div>"
      ],
      "text/plain": [
       "     Category                 Tag  \\\n",
       "0  My Account  Rating and Reviews   \n",
       "1  My Account  Rating and Reviews   \n",
       "2  My Account  Rating and Reviews   \n",
       "3  My Account    Product Warranty   \n",
       "4  My Account    Product Warranty   \n",
       "\n",
       "                                            Question  \\\n",
       "0           How to Review Product as well as Seller?   \n",
       "1  How to Filter Search Results with Product Rati...   \n",
       "2  What are Ratings & Reviews and how do I write ...   \n",
       "3  How do I know if a product comes with free ins...   \n",
       "4    How do I know if a product comes with warranty?   \n",
       "\n",
       "                                              Answer  \\\n",
       "0  Everything is right here. Please check this ou...   \n",
       "1  Products can also be filtered according to the...   \n",
       "2  Daraz customers have the option of rating and ...   \n",
       "3  Unfortunately we are not providing the Free In...   \n",
       "4  If a warranty is offered on a product the warr...   \n",
       "\n",
       "                                     Cleaned  Label  \n",
       "0             how review product well seller      1  \n",
       "1   how filter search result product ratings      1  \n",
       "2      what rate review i write good reviews      1  \n",
       "3  how i know product come free installation      1  \n",
       "4           how i know product come warranty      1  "
      ]
     },
     "execution_count": 159,
     "metadata": {},
     "output_type": "execute_result"
    }
   ],
   "source": [
    "a=pd.read_csv('df_clean.csv')\n",
    "a.drop('Unnamed: 0',axis=1,inplace=True)\n",
    "a.head()"
   ]
  },
  {
   "cell_type": "code",
   "execution_count": null,
   "metadata": {},
   "outputs": [],
   "source": []
  },
  {
   "cell_type": "code",
   "execution_count": null,
   "metadata": {},
   "outputs": [],
   "source": []
  },
  {
   "cell_type": "code",
   "execution_count": null,
   "metadata": {},
   "outputs": [],
   "source": [
    "\n"
   ]
  }
 ],
 "metadata": {
  "kernelspec": {
   "display_name": "Python 3",
   "language": "python",
   "name": "python3"
  },
  "language_info": {
   "codemirror_mode": {
    "name": "ipython",
    "version": 3
   },
   "file_extension": ".py",
   "mimetype": "text/x-python",
   "name": "python",
   "nbconvert_exporter": "python",
   "pygments_lexer": "ipython3",
   "version": "3.7.7"
  }
 },
 "nbformat": 4,
 "nbformat_minor": 4
}
