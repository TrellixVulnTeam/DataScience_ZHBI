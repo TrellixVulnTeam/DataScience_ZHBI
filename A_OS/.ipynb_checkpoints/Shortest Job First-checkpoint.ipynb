{
 "cells": [
  {
   "cell_type": "raw",
   "metadata": {},
   "source": [
    "Max CPU utilization [Keep CPU as busy as possible]\n",
    "Fair allocation of CPU.\n",
    "Max throughput [Number of processes that complete their execution per time unit]\n",
    "Min turnaround time [Time taken by a process to finish execution]\n",
    "Min waiting time [Time a process waits in ready queue]\n",
    "Min response time [Time when a process produces first response]"
   ]
  },
  {
   "cell_type": "raw",
   "metadata": {},
   "source": [
    "The process with lowest arrival time will be checked first and \n",
    "its burst time will also be verified. The one with less burst time will \n",
    "be selected first"
   ]
  },
  {
   "cell_type": "code",
   "execution_count": 1,
   "metadata": {},
   "outputs": [],
   "source": [
    "import pandas as pd"
   ]
  },
  {
   "cell_type": "code",
   "execution_count": 100,
   "metadata": {},
   "outputs": [
    {
     "data": {
      "application/javascript": [
       "\n",
       "        if (window._pyforest_update_imports_cell) { window._pyforest_update_imports_cell('import numpy as np\\nimport pandas as pd'); }\n",
       "    "
      ],
      "text/plain": [
       "<IPython.core.display.Javascript object>"
      ]
     },
     "metadata": {},
     "output_type": "display_data"
    },
    {
     "name": "stdout",
     "output_type": "stream",
     "text": [
      "  Process  Arrivals  Bursts\n",
      "0      p1         1       3\n",
      "1      p2         2       4\n",
      "2      p3         1       2\n",
      "3      p4         4       4\n",
      "1\n",
      "[3, 2] ['p1', 'p3']\n",
      "['CPU idle:1', 'p3', 'p1']\n",
      "6\n"
     ]
    }
   ],
   "source": [
    "\n",
    "process=['p1','p2','p3','p4']\n",
    "arrival=[1,2,1,4]\n",
    "burst=[3,4,2,4]\n",
    "print(pd.DataFrame({'Process':process,\n",
    "                   'Arrivals':arrival,\n",
    "                   'Bursts':burst}))\n",
    "def find_other_arrivals(arrivals,arrival_t,burst,available,process_to_execute):\n",
    "    arrival_temp=[]\n",
    "    bursts_temp=[]\n",
    "    process_temp=[]\n",
    "    for i,j in enumerate(arrivals):\n",
    "        if j==arrival_t:\n",
    "            arrival_temp.append(i)\n",
    "            bursts_temp.append(burst[i])\n",
    "            process_temp.append(process[i])\n",
    "\n",
    "    print(bursts_temp,process_temp)\n",
    "    \n",
    "    for i in range(1, len(bursts_temp)): \n",
    "        key = bursts_temp[i] \n",
    "        proc=process_temp[i]\n",
    "        j = i-1\n",
    "        while j >=0 and key < bursts_temp[j] : \n",
    "                bursts_temp[j+1] = bursts_temp[j] \n",
    "                process_temp[j+1] = process_temp[j]\n",
    "                j -= 1\n",
    "        process_temp[j+1] = proc\n",
    "        bursts_temp[j+1] = key\n",
    "    for i,j in zip(process_temp,bursts_temp):\n",
    "        process_to_execute.append(i)\n",
    "        available+=j\n",
    "    return available\n",
    "    print(bursts_temp,process_temp)\n",
    "\n",
    "\n",
    "\n",
    "def shortest_job_first(process,arrival,burst):\n",
    "    available=0\n",
    "    first_arrival=min(arrival)\n",
    "    process_to_execute=[]\n",
    "    \n",
    "    print(first_arrival)\n",
    "    cpu_idle=first_arrival-available\n",
    "    if cpu_idle>0:\n",
    "        process_to_execute.append('CPU idle:{}'.format(cpu_idle))\n",
    "    available+=cpu_idle\n",
    "    \n",
    "    \n",
    "    \n",
    "#     while(len(process)!=0):\n",
    "#         print(process)\n",
    "#         arrival_min=np.argmin(arrival)\n",
    "#         print(arrival_min)\n",
    "    \n",
    "    available=find_other_arrivals(arrival,first_arrival,burst,available,process_to_execute)\n",
    "    print(process_to_execute)\n",
    "    print(available)\n",
    "\n",
    "shortest_job_first(process,arrival,burst)\n",
    "\n",
    "\n",
    "\n",
    "\n",
    "\n",
    "\n"
   ]
  },
  {
   "cell_type": "code",
   "execution_count": null,
   "metadata": {},
   "outputs": [],
   "source": []
  },
  {
   "cell_type": "code",
   "execution_count": null,
   "metadata": {},
   "outputs": [],
   "source": []
  },
  {
   "cell_type": "code",
   "execution_count": null,
   "metadata": {},
   "outputs": [],
   "source": []
  },
  {
   "cell_type": "code",
   "execution_count": null,
   "metadata": {},
   "outputs": [],
   "source": []
  },
  {
   "cell_type": "code",
   "execution_count": null,
   "metadata": {},
   "outputs": [],
   "source": []
  },
  {
   "cell_type": "code",
   "execution_count": null,
   "metadata": {},
   "outputs": [],
   "source": []
  },
  {
   "cell_type": "code",
   "execution_count": null,
   "metadata": {},
   "outputs": [],
   "source": []
  },
  {
   "cell_type": "code",
   "execution_count": null,
   "metadata": {},
   "outputs": [],
   "source": []
  },
  {
   "cell_type": "code",
   "execution_count": null,
   "metadata": {},
   "outputs": [],
   "source": []
  },
  {
   "cell_type": "code",
   "execution_count": null,
   "metadata": {},
   "outputs": [],
   "source": []
  },
  {
   "cell_type": "code",
   "execution_count": null,
   "metadata": {},
   "outputs": [],
   "source": []
  },
  {
   "cell_type": "code",
   "execution_count": null,
   "metadata": {},
   "outputs": [],
   "source": []
  },
  {
   "cell_type": "code",
   "execution_count": null,
   "metadata": {},
   "outputs": [],
   "source": []
  },
  {
   "cell_type": "code",
   "execution_count": null,
   "metadata": {},
   "outputs": [],
   "source": []
  },
  {
   "cell_type": "code",
   "execution_count": null,
   "metadata": {},
   "outputs": [],
   "source": []
  },
  {
   "cell_type": "code",
   "execution_count": null,
   "metadata": {},
   "outputs": [],
   "source": []
  },
  {
   "cell_type": "code",
   "execution_count": null,
   "metadata": {},
   "outputs": [],
   "source": []
  },
  {
   "cell_type": "code",
   "execution_count": null,
   "metadata": {},
   "outputs": [],
   "source": []
  },
  {
   "cell_type": "code",
   "execution_count": null,
   "metadata": {},
   "outputs": [],
   "source": []
  },
  {
   "cell_type": "code",
   "execution_count": null,
   "metadata": {},
   "outputs": [],
   "source": []
  },
  {
   "cell_type": "code",
   "execution_count": null,
   "metadata": {},
   "outputs": [],
   "source": []
  },
  {
   "cell_type": "code",
   "execution_count": null,
   "metadata": {},
   "outputs": [],
   "source": []
  },
  {
   "cell_type": "code",
   "execution_count": null,
   "metadata": {},
   "outputs": [],
   "source": []
  },
  {
   "cell_type": "code",
   "execution_count": null,
   "metadata": {},
   "outputs": [],
   "source": []
  },
  {
   "cell_type": "code",
   "execution_count": null,
   "metadata": {},
   "outputs": [],
   "source": []
  },
  {
   "cell_type": "code",
   "execution_count": 1,
   "metadata": {},
   "outputs": [
    {
     "name": "stdout",
     "output_type": "stream",
     "text": [
      "Processes    Burst Time     Waiting Time     Turn-Around Time\n",
      "  1 \t\t 6 \t\t 3 \t\t 9\n",
      "  2 \t\t 8 \t\t 16 \t\t 24\n",
      "  3 \t\t 7 \t\t 8 \t\t 15\n",
      "  4 \t\t 3 \t\t 0 \t\t 3\n",
      "\n",
      "Average waiting time = 6.75000 \n",
      "Average turn around time =  12.75\n"
     ]
    }
   ],
   "source": [
    "def findWaitingTime(processes, n, wt):  \n",
    "    rt = [0] * n \n",
    "  \n",
    "    # Copy the burst time into rt[]  \n",
    "    for i in range(n):  \n",
    "        rt[i] = processes[i][1] \n",
    "    complete = 0\n",
    "    t = 0\n",
    "    minm = 999999999\n",
    "    short = 0\n",
    "    check = False\n",
    "  \n",
    "    # Process until all processes gets  \n",
    "    # completed  \n",
    "    while (complete != n): \n",
    "          \n",
    "        # Find process with minimum remaining  \n",
    "        # time among the processes that  \n",
    "        # arrives till the current time` \n",
    "        for j in range(n): \n",
    "            if ((processes[j][2] <= t) and \n",
    "                (rt[j] < minm) and rt[j] > 0): \n",
    "                minm = rt[j] \n",
    "                short = j \n",
    "                check = True\n",
    "        if (check == False): \n",
    "            t += 1\n",
    "            continue\n",
    "              \n",
    "        # Reduce remaining time by one  \n",
    "        rt[short] -= 1\n",
    "  \n",
    "        # Update minimum  \n",
    "        minm = rt[short]  \n",
    "        if (minm == 0):  \n",
    "            minm = 999999999\n",
    "  \n",
    "        # If a process gets completely  \n",
    "        # executed  \n",
    "        if (rt[short] == 0):  \n",
    "  \n",
    "            # Increment complete  \n",
    "            complete += 1\n",
    "            check = False\n",
    "  \n",
    "            # Find finish time of current  \n",
    "            # process  \n",
    "            fint = t + 1\n",
    "  \n",
    "            # Calculate waiting time  \n",
    "            wt[short] = (fint - proc[short][1] -    \n",
    "                                proc[short][2]) \n",
    "  \n",
    "            if (wt[short] < 0): \n",
    "                wt[short] = 0\n",
    "          \n",
    "        # Increment time  \n",
    "        t += 1\n",
    "  \n",
    "# Function to calculate turn around time  \n",
    "def findTurnAroundTime(processes, n, wt, tat):  \n",
    "      \n",
    "    # Calculating turnaround time  \n",
    "    for i in range(n): \n",
    "        tat[i] = processes[i][1] + wt[i]  \n",
    "  \n",
    "# Function to calculate average waiting  \n",
    "# and turn-around times.  \n",
    "def findavgTime(processes, n):  \n",
    "    wt = [0] * n \n",
    "    tat = [0] * n  \n",
    "  \n",
    "    # Function to find waiting time  \n",
    "    # of all processes  \n",
    "    findWaitingTime(processes, n, wt)  \n",
    "  \n",
    "    # Function to find turn around time \n",
    "    # for all processes  \n",
    "    findTurnAroundTime(processes, n, wt, tat)  \n",
    "  \n",
    "    # Display processes along with all details  \n",
    "    print(\"Processes    Burst Time     Waiting\",  \n",
    "                    \"Time     Turn-Around Time\") \n",
    "    total_wt = 0\n",
    "    total_tat = 0\n",
    "    for i in range(n): \n",
    "  \n",
    "        total_wt = total_wt + wt[i]  \n",
    "        total_tat = total_tat + tat[i]  \n",
    "        print(\" \", processes[i][0], \"\\t\\t\",  \n",
    "                   processes[i][1], \"\\t\\t\",  \n",
    "                   wt[i], \"\\t\\t\", tat[i]) \n",
    "  \n",
    "    print(\"\\nAverage waiting time = %.5f \"%(total_wt /n) ) \n",
    "    print(\"Average turn around time = \", total_tat / n)  \n",
    "      \n",
    "# Driver code  \n",
    "if __name__ ==\"__main__\": \n",
    "      \n",
    "    # Process id's  \n",
    "    proc = [[1, 6, 1], [2, 8, 1], \n",
    "            [3, 7, 2], [4, 3, 3]] \n",
    "    n = 4\n",
    "    findavgTime(proc, n) "
   ]
  },
  {
   "cell_type": "code",
   "execution_count": null,
   "metadata": {},
   "outputs": [],
   "source": []
  },
  {
   "cell_type": "code",
   "execution_count": null,
   "metadata": {},
   "outputs": [],
   "source": []
  },
  {
   "cell_type": "code",
   "execution_count": null,
   "metadata": {},
   "outputs": [],
   "source": []
  },
  {
   "cell_type": "code",
   "execution_count": null,
   "metadata": {},
   "outputs": [],
   "source": []
  },
  {
   "cell_type": "code",
   "execution_count": null,
   "metadata": {},
   "outputs": [],
   "source": []
  },
  {
   "cell_type": "code",
   "execution_count": null,
   "metadata": {},
   "outputs": [],
   "source": []
  },
  {
   "cell_type": "code",
   "execution_count": null,
   "metadata": {},
   "outputs": [],
   "source": []
  },
  {
   "cell_type": "code",
   "execution_count": null,
   "metadata": {},
   "outputs": [],
   "source": []
  },
  {
   "cell_type": "code",
   "execution_count": null,
   "metadata": {},
   "outputs": [],
   "source": []
  },
  {
   "cell_type": "code",
   "execution_count": null,
   "metadata": {},
   "outputs": [],
   "source": []
  },
  {
   "cell_type": "code",
   "execution_count": null,
   "metadata": {},
   "outputs": [],
   "source": []
  },
  {
   "cell_type": "code",
   "execution_count": null,
   "metadata": {},
   "outputs": [],
   "source": []
  },
  {
   "cell_type": "code",
   "execution_count": null,
   "metadata": {},
   "outputs": [],
   "source": []
  },
  {
   "cell_type": "code",
   "execution_count": null,
   "metadata": {},
   "outputs": [],
   "source": []
  },
  {
   "cell_type": "code",
   "execution_count": null,
   "metadata": {},
   "outputs": [],
   "source": []
  },
  {
   "cell_type": "code",
   "execution_count": null,
   "metadata": {},
   "outputs": [],
   "source": []
  },
  {
   "cell_type": "code",
   "execution_count": null,
   "metadata": {},
   "outputs": [],
   "source": []
  }
 ],
 "metadata": {
  "kernelspec": {
   "display_name": "Python 3",
   "language": "python",
   "name": "python3"
  },
  "language_info": {
   "codemirror_mode": {
    "name": "ipython",
    "version": 3
   },
   "file_extension": ".py",
   "mimetype": "text/x-python",
   "name": "python",
   "nbconvert_exporter": "python",
   "pygments_lexer": "ipython3",
   "version": "3.7.7"
  }
 },
 "nbformat": 4,
 "nbformat_minor": 4
}
