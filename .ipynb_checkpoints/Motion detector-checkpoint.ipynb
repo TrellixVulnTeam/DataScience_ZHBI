{
 "cells": [
  {
   "cell_type": "code",
   "execution_count": 66,
   "metadata": {},
   "outputs": [],
   "source": [
    "import cv2\n",
    "face=cv2.CascadeClassifier(\"harcascadeface.xml\")\n",
    "img=cv2.imread(\"risu.jpg\")\n",
    "img=cv2.resize(img,(400,400))\n",
    "gray_image=cv2.cvtColor(img,cv2.COLOR_BGR2GRAY)\n",
    "faces=face.detectMultiScale(gray_image,\n",
    "                           scaleFactor=1.05,\n",
    "                           minNeighbors=5)\n",
    "img=cv2.resize(img,(400,400))\n",
    "for x,y,w,h in faces:\n",
    "    img=cv2.rectangle(img,(x,y),\n",
    "                     (x+w,y+h),\n",
    "                      (0,255,0),\n",
    "                      3)\n",
    "               \n",
    "cv2.imshow(\"Gray\",img)\n",
    "cv2.waitKey(0)\n",
    "cv2.destroyAllWindows()"
   ]
  }
 ],
 "metadata": {
  "kernelspec": {
   "display_name": "Python 3",
   "language": "python",
   "name": "python3"
  },
  "language_info": {
   "codemirror_mode": {
    "name": "ipython",
    "version": 3
   },
   "file_extension": ".py",
   "mimetype": "text/x-python",
   "name": "python",
   "nbconvert_exporter": "python",
   "pygments_lexer": "ipython3",
   "version": "3.7.4"
  }
 },
 "nbformat": 4,
 "nbformat_minor": 2
}
