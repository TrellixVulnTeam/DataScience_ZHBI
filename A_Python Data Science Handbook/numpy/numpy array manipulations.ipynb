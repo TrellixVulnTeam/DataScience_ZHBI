{
 "cells": [
  {
   "cell_type": "code",
   "execution_count": 57,
   "metadata": {},
   "outputs": [
    {
     "name": "stdout",
     "output_type": "stream",
     "text": [
      "[5 0 3 3 7 9] \n",
      "\n",
      "[4 6 3 5 8 7] \n",
      "\n",
      "[[9 9 2]\n",
      " [7 8 8]\n",
      " [9 2 6]] \n",
      "\n",
      "[[9 8 9 4]\n",
      " [3 0 3 5]\n",
      " [0 2 3 8]] \n",
      "------------------------\n",
      "[[[49 29 19 19 14]\n",
      "  [39 32 65  9 57]\n",
      "  [32 31 74 23 35]]\n",
      "\n",
      " [[75 55 28 34  0]\n",
      "  [ 0 36 53  5 38]\n",
      "  [17 79  4 42 58]]\n",
      "\n",
      " [[31  1 65 41 57]\n",
      "  [35 11 46 82 91]\n",
      "  [ 0 14 99 53 12]]]\n"
     ]
    }
   ],
   "source": [
    "import numpy as np\n",
    "np.random.seed(0)\n",
    "\n",
    "x1=np.random.randint(10,size=6)\n",
    "print(x1,\"\\n\")\n",
    "\n",
    "x2=np.random.randint(1,10,(6))\n",
    "print(x2,\"\\n\")\n",
    "\n",
    "x3=np.random.randint(1,10,(3,3))\n",
    "print(x3,\"\\n\")\n",
    "\n",
    "x4=np.random.randint(10,size=(3,4))\n",
    "print(x4,\"\\n------------------------\")\n",
    "\n",
    "x5=np.random.randint(100,size=(3,3,5))\n",
    "print(x5)"
   ]
  },
  {
   "cell_type": "code",
   "execution_count": 42,
   "metadata": {},
   "outputs": [
    {
     "name": "stdout",
     "output_type": "stream",
     "text": [
      "X1-> 1 (6,) 6 int32\n",
      "X2-> 1 (6,) 6 int32\n",
      "X3-> 2 (3, 3) 9 int32\n",
      "X4-> 2 (3, 4) 12 int32\n",
      "X5-> 3 (3, 3, 5) 45 int32\n"
     ]
    }
   ],
   "source": [
    "print(\"X1->\",x1.ndim,x1.shape,x1.size,x1.dtype)\n",
    "print(\"X2->\",x2.ndim,x2.shape,x2.size,x2.dtype)\n",
    "print(\"X3->\",x3.ndim,x3.shape,x3.size,x3.dtype)\n",
    "print(\"X4->\",x4.ndim,x4.shape,x4.size,x4.dtype)\n",
    "print(\"X5->\",x5.ndim,x5.shape,x5.size,x5.dtype)\n"
   ]
  },
  {
   "cell_type": "code",
   "execution_count": 58,
   "metadata": {},
   "outputs": [
    {
     "name": "stdout",
     "output_type": "stream",
     "text": [
      "4\n"
     ]
    }
   ],
   "source": [
    "print(x2.itemsize)"
   ]
  },
  {
   "cell_type": "code",
   "execution_count": 62,
   "metadata": {},
   "outputs": [
    {
     "data": {
      "text/plain": [
       "array([39, 32, 65,  9, 57])"
      ]
     },
     "execution_count": 62,
     "metadata": {},
     "output_type": "execute_result"
    }
   ],
   "source": [
    "x5[0,1]"
   ]
  },
  {
   "cell_type": "code",
   "execution_count": 67,
   "metadata": {},
   "outputs": [
    {
     "data": {
      "text/plain": [
       "32"
      ]
     },
     "execution_count": 67,
     "metadata": {},
     "output_type": "execute_result"
    }
   ],
   "source": [
    "x5[0,1,1]"
   ]
  },
  {
   "cell_type": "code",
   "execution_count": 121,
   "metadata": {},
   "outputs": [
    {
     "name": "stdout",
     "output_type": "stream",
     "text": [
      "[ 1  2  5  3  1  4  7 76  4  2] \n",
      "\n",
      "10\n"
     ]
    }
   ],
   "source": [
    "x3=np.array([1,2,5,3,1,4,7,76,4,2])\n",
    "print(x3,\"\\n\")\n",
    "print(x3.size)"
   ]
  },
  {
   "cell_type": "code",
   "execution_count": 126,
   "metadata": {},
   "outputs": [
    {
     "name": "stdout",
     "output_type": "stream",
     "text": [
      "[4 1 3 5 2 1]\n"
     ]
    },
    {
     "data": {
      "text/plain": [
       "array([ 2,  4, 76,  7,  4])"
      ]
     },
     "execution_count": 126,
     "metadata": {},
     "output_type": "execute_result"
    }
   ],
   "source": [
    "print(x3[5::-1])\n",
    "x3[9:4:-1] "
   ]
  },
  {
   "cell_type": "code",
   "execution_count": 128,
   "metadata": {},
   "outputs": [
    {
     "data": {
      "text/plain": [
       "array([[[49, 29, 19, 19, 14],\n",
       "        [39, 32, 65,  9, 57],\n",
       "        [32, 31, 74, 23, 35]],\n",
       "\n",
       "       [[75, 55, 28, 34,  0],\n",
       "        [ 0, 36, 53,  5, 38],\n",
       "        [17, 79,  4, 42, 58]],\n",
       "\n",
       "       [[31,  1, 65, 41, 57],\n",
       "        [35, 11, 46, 82, 91],\n",
       "        [ 0, 14, 99, 53, 12]]])"
      ]
     },
     "execution_count": 128,
     "metadata": {},
     "output_type": "execute_result"
    }
   ],
   "source": [
    "x5"
   ]
  },
  {
   "cell_type": "code",
   "execution_count": 142,
   "metadata": {},
   "outputs": [
    {
     "data": {
      "text/plain": [
       "array([[[14, 19, 19, 29, 49],\n",
       "        [57,  9, 65, 32, 39],\n",
       "        [35, 23, 74, 31, 32]],\n",
       "\n",
       "       [[ 0, 34, 28, 55, 75],\n",
       "        [38,  5, 53, 36,  0],\n",
       "        [58, 42,  4, 79, 17]],\n",
       "\n",
       "       [[57, 41, 65,  1, 31],\n",
       "        [91, 82, 46, 11, 35],\n",
       "        [12, 53, 99, 14,  0]]])"
      ]
     },
     "execution_count": 142,
     "metadata": {},
     "output_type": "execute_result"
    }
   ],
   "source": [
    "x5[::,::,::-1]"
   ]
  },
  {
   "cell_type": "code",
   "execution_count": 173,
   "metadata": {},
   "outputs": [
    {
     "name": "stdout",
     "output_type": "stream",
     "text": [
      "[[ 1  2  3  4]\n",
      " [ 5  6  7  8]\n",
      " [ 9 10 11 12]] \n",
      "-----------------------\n",
      "[[ 5  6]\n",
      " [ 9 10]]\n"
     ]
    }
   ],
   "source": [
    "x=np.array([[1,2,3,4],[5,6,7,8],[9,10,11,12]])\n",
    "print(x,\"\\n-----------------------\")\n",
    "print(x[1:3,:2])"
   ]
  },
  {
   "cell_type": "code",
   "execution_count": 189,
   "metadata": {},
   "outputs": [
    {
     "name": "stdout",
     "output_type": "stream",
     "text": [
      "[[ 0  1  2  3]\n",
      " [ 4  5  6  7]\n",
      " [ 8  9 10 11]\n",
      " [12 13 14 15]]\n",
      "[[  0   1   2   3]\n",
      " [  4   5   6   7]\n",
      " [  8 100  10  11]\n",
      " [ 12  13  14  15]]\n"
     ]
    }
   ],
   "source": [
    "a=np.array(range(16)).reshape(4,4)\n",
    "a\n",
    "b=a.copy()\n",
    "b[2,1]=100\n",
    "print(a)\n",
    "print(b)"
   ]
  },
  {
   "cell_type": "code",
   "execution_count": 205,
   "metadata": {},
   "outputs": [
    {
     "data": {
      "text/plain": [
       "array([[ 1,  1,  1,  3],\n",
       "       [ 1,  5,  1,  7],\n",
       "       [ 1,  9,  1, 11],\n",
       "       [ 1, 13,  1, 15]])"
      ]
     },
     "execution_count": 205,
     "metadata": {},
     "output_type": "execute_result"
    }
   ],
   "source": [
    "a[a%2==0]\n",
    "a"
   ]
  },
  {
   "cell_type": "code",
   "execution_count": 228,
   "metadata": {},
   "outputs": [
    {
     "name": "stdout",
     "output_type": "stream",
     "text": [
      " A is:\n",
      " [[0 1 2 3 4]\n",
      " [5 6 7 8 9]] \n",
      "--------------\n",
      " B is:\n",
      " [[10 11 12 13 14]\n",
      " [15 16 17 18 19]] \n",
      "\n"
     ]
    },
    {
     "data": {
      "text/plain": [
       "array([[ 0,  1,  2,  3,  4, 10, 11, 12, 13, 14],\n",
       "       [ 5,  6,  7,  8,  9, 15, 16, 17, 18, 19]])"
      ]
     },
     "execution_count": 228,
     "metadata": {},
     "output_type": "execute_result"
    }
   ],
   "source": [
    "a=np.array(range(10)).reshape(2,5)\n",
    "b=np.array(range(10,20)).reshape(2,5)\n",
    "print(\" A is:\\n\",a,\"\\n--------------\\n\",\"B is:\\n\",b,\"\\n\")\n",
    "\n",
    "# row concatenate\n",
    "np.concatenate([a,b],axis=1)\n"
   ]
  },
  {
   "cell_type": "code",
   "execution_count": 231,
   "metadata": {},
   "outputs": [
    {
     "data": {
      "text/plain": [
       "array([[ 0,  1,  2,  3,  4],\n",
       "       [ 5,  6,  7,  8,  9],\n",
       "       [10, 11, 12, 13, 14],\n",
       "       [15, 16, 17, 18, 19]])"
      ]
     },
     "execution_count": 231,
     "metadata": {},
     "output_type": "execute_result"
    }
   ],
   "source": [
    "#column concatenate \n",
    "np.concatenate([a,b],axis=0)"
   ]
  },
  {
   "cell_type": "code",
   "execution_count": 234,
   "metadata": {},
   "outputs": [
    {
     "data": {
      "text/plain": [
       "array([[0, 1, 2, 3, 4],\n",
       "       [5, 6, 7, 8, 9]])"
      ]
     },
     "execution_count": 234,
     "metadata": {},
     "output_type": "execute_result"
    }
   ],
   "source": [
    "a"
   ]
  },
  {
   "cell_type": "code",
   "execution_count": 235,
   "metadata": {},
   "outputs": [
    {
     "data": {
      "text/plain": [
       "array([[10, 11, 12, 13, 14],\n",
       "       [15, 16, 17, 18, 19]])"
      ]
     },
     "execution_count": 235,
     "metadata": {},
     "output_type": "execute_result"
    }
   ],
   "source": [
    "b"
   ]
  },
  {
   "cell_type": "code",
   "execution_count": 239,
   "metadata": {},
   "outputs": [
    {
     "data": {
      "text/plain": [
       "array([[ 0,  1,  2,  3,  4, 10, 11, 12, 13, 14],\n",
       "       [ 5,  6,  7,  8,  9, 15, 16, 17, 18, 19]])"
      ]
     },
     "execution_count": 239,
     "metadata": {},
     "output_type": "execute_result"
    }
   ],
   "source": [
    "np.vstack([a,b])\n",
    "np.hstack([a,b])"
   ]
  },
  {
   "cell_type": "code",
   "execution_count": 287,
   "metadata": {},
   "outputs": [
    {
     "name": "stdout",
     "output_type": "stream",
     "text": [
      "[6 1 4 4 8]\n"
     ]
    },
    {
     "data": {
      "text/plain": [
       "array([0.16666667, 1.        , 0.25      , 0.25      , 0.125     ])"
      ]
     },
     "execution_count": 287,
     "metadata": {},
     "output_type": "execute_result"
    }
   ],
   "source": [
    "np.random.seed(0)\n",
    "def compute_reciprocals(values):\n",
    "    print(values)\n",
    "    output=np.empty(len(values))\n",
    "    for i in range(len(values)):\n",
    "        output[i]=1.0/values[i]\n",
    "    return output\n",
    "values=np.random.randint(1,10,size=5)\n",
    "a=compute_reciprocals(values)    \n",
    "a"
   ]
  },
  {
   "cell_type": "code",
   "execution_count": 292,
   "metadata": {},
   "outputs": [
    {
     "name": "stdout",
     "output_type": "stream",
     "text": [
      "[79 11 71 ... 58 51 56]\n",
      "[79 11 71 ... 58 51 56]\n",
      "[79 11 71 ... 58 51 56]\n",
      "[79 11 71 ... 58 51 56]\n",
      "[79 11 71 ... 58 51 56]\n",
      "[79 11 71 ... 58 51 56]\n",
      "[79 11 71 ... 58 51 56]\n",
      "[79 11 71 ... 58 51 56]\n",
      "2.4 s ± 20.3 ms per loop (mean ± std. dev. of 7 runs, 1 loop each)\n"
     ]
    }
   ],
   "source": [
    "big_array=np.random.randint(1,100,size=1000000)\n",
    "%timeit compute_reciprocals(big_array)"
   ]
  },
  {
   "cell_type": "code",
   "execution_count": 308,
   "metadata": {},
   "outputs": [
    {
     "data": {
      "text/plain": [
       "array([[255,  50, 390,  20, 490, 220, 285,  50,  70, 370, 110, 375, 370,\n",
       "        235, 250, 420, 300, 375, 165, 235, 320, 215, 190, 430, 135],\n",
       "       [170,  85, 475, 475, 450, 460,  65, 375, 430, 455, 260, 440, 385,\n",
       "        270, 355,  90,  45, 300, 175, 250, 460, 165, 360, 200, 380],\n",
       "       [ 65,  70, 365, 105, 135, 335, 440, 250, 285,  60,  75,  50,  50,\n",
       "         35, 175, 145,  90, 345, 190, 220, 365, 175, 255, 425, 395],\n",
       "       [460,  10, 255, 290, 160, 245,  10, 405, 305, 260, 300, 255, 490,\n",
       "        210, 315, 395, 360, 440, 260,  60,  30, 190,  20,  20, 235]])"
      ]
     },
     "execution_count": 308,
     "metadata": {},
     "output_type": "execute_result"
    }
   ],
   "source": [
    "n=np.random.randint(1,100,size=(4,25))\n",
    "n*5"
   ]
  },
  {
   "cell_type": "code",
   "execution_count": 327,
   "metadata": {},
   "outputs": [
    {
     "name": "stdout",
     "output_type": "stream",
     "text": [
      "[[36  1 16]\n",
      " [16 64 16]\n",
      " [36  9 25]]\n",
      "[[3 0 2]\n",
      " [2 4 2]\n",
      " [3 1 2]]\n"
     ]
    }
   ],
   "source": [
    "np.random.seed(0)\n",
    "n=np.random.randint(1,10,size=(3,3))\n",
    "print(n**2)\n",
    "print(n//2)\n"
   ]
  },
  {
   "cell_type": "code",
   "execution_count": 332,
   "metadata": {},
   "outputs": [
    {
     "name": "stdout",
     "output_type": "stream",
     "text": [
      "[-10  -9  -8  -7  -6  -5  -4  -3  -2  -1   0   1   2   3   4   5   6   7\n",
      "   8   9]\n",
      "[10  9  8  7  6  5  4  3  2  1  0  1  2  3  4  5  6  7  8  9]\n"
     ]
    }
   ],
   "source": [
    "# abs converts negative values into positive values....\n",
    "a=np.array(range(-10,10))\n",
    "print(a)\n",
    "print(abs(a))"
   ]
  },
  {
   "cell_type": "code",
   "execution_count": 336,
   "metadata": {},
   "outputs": [
    {
     "data": {
      "text/plain": [
       "array([10,  9,  8,  7,  6,  5,  4,  3,  2,  1,  0,  1,  2,  3,  4,  5,  6,\n",
       "        7,  8,  9])"
      ]
     },
     "execution_count": 336,
     "metadata": {},
     "output_type": "execute_result"
    }
   ],
   "source": [
    "np.absolute(a)\n"
   ]
  },
  {
   "cell_type": "code",
   "execution_count": 338,
   "metadata": {},
   "outputs": [
    {
     "data": {
      "text/plain": [
       "array([10,  9,  8,  7,  6,  5,  4,  3,  2,  1,  0,  1,  2,  3,  4,  5,  6,\n",
       "        7,  8,  9])"
      ]
     },
     "execution_count": 338,
     "metadata": {},
     "output_type": "execute_result"
    }
   ],
   "source": [
    "np.abs(a)"
   ]
  },
  {
   "cell_type": "code",
   "execution_count": 346,
   "metadata": {},
   "outputs": [
    {
     "data": {
      "text/plain": [
       "array([0.        , 1.57079633, 3.14159265])"
      ]
     },
     "execution_count": 346,
     "metadata": {},
     "output_type": "execute_result"
    }
   ],
   "source": [
    "theta=np.linspace(0,np.pi,3)\n",
    "theta\n"
   ]
  },
  {
   "cell_type": "code",
   "execution_count": 350,
   "metadata": {},
   "outputs": [
    {
     "data": {
      "text/plain": [
       "array([0.0000000e+00, 1.0000000e+00, 1.2246468e-16])"
      ]
     },
     "execution_count": 350,
     "metadata": {},
     "output_type": "execute_result"
    }
   ],
   "source": [
    "np.sin(theta)"
   ]
  },
  {
   "cell_type": "code",
   "execution_count": 352,
   "metadata": {},
   "outputs": [
    {
     "data": {
      "text/plain": [
       "array([ 1.000000e+00,  6.123234e-17, -1.000000e+00])"
      ]
     },
     "execution_count": 352,
     "metadata": {},
     "output_type": "execute_result"
    }
   ],
   "source": [
    "np.cos(theta)"
   ]
  },
  {
   "cell_type": "code",
   "execution_count": 353,
   "metadata": {},
   "outputs": [
    {
     "data": {
      "text/plain": [
       "array([ 0.00000000e+00,  1.63312394e+16, -1.22464680e-16])"
      ]
     },
     "execution_count": 353,
     "metadata": {},
     "output_type": "execute_result"
    }
   ],
   "source": [
    "np.tan(theta)"
   ]
  },
  {
   "cell_type": "code",
   "execution_count": 357,
   "metadata": {},
   "outputs": [
    {
     "data": {
      "text/plain": [
       "array([-1.57079633,  0.        ,  1.57079633])"
      ]
     },
     "execution_count": 357,
     "metadata": {},
     "output_type": "execute_result"
    }
   ],
   "source": [
    "theta=[-1,0,1]\n",
    "np.arcsin(theta)"
   ]
  },
  {
   "cell_type": "code",
   "execution_count": 360,
   "metadata": {},
   "outputs": [
    {
     "data": {
      "text/plain": [
       "array([3.14159265, 1.57079633, 0.        ])"
      ]
     },
     "execution_count": 360,
     "metadata": {},
     "output_type": "execute_result"
    }
   ],
   "source": [
    "np.arccos(theta)"
   ]
  },
  {
   "cell_type": "code",
   "execution_count": 363,
   "metadata": {},
   "outputs": [
    {
     "data": {
      "text/plain": [
       "array([ 2.71828183,  7.3890561 , 20.08553692])"
      ]
     },
     "execution_count": 363,
     "metadata": {},
     "output_type": "execute_result"
    }
   ],
   "source": [
    "a=[1,2,3]\n",
    "np.exp(a)"
   ]
  },
  {
   "cell_type": "code",
   "execution_count": 365,
   "metadata": {},
   "outputs": [
    {
     "data": {
      "text/plain": [
       "array([2., 4., 8.])"
      ]
     },
     "execution_count": 365,
     "metadata": {},
     "output_type": "execute_result"
    }
   ],
   "source": [
    "np.exp2(a)"
   ]
  },
  {
   "cell_type": "code",
   "execution_count": 369,
   "metadata": {},
   "outputs": [
    {
     "data": {
      "text/plain": [
       "array([ 1,  8, 27], dtype=int32)"
      ]
     },
     "execution_count": 369,
     "metadata": {},
     "output_type": "execute_result"
    }
   ],
   "source": [
    "# [1,2,3] power of 3\n",
    "np.power(a,3)"
   ]
  },
  {
   "cell_type": "code",
   "execution_count": 372,
   "metadata": {},
   "outputs": [
    {
     "data": {
      "text/plain": [
       "array([ 3,  9, 27], dtype=int32)"
      ]
     },
     "execution_count": 372,
     "metadata": {},
     "output_type": "execute_result"
    }
   ],
   "source": [
    "# 3 power of [1,2,3]\n",
    "np.power(3,a)"
   ]
  },
  {
   "cell_type": "code",
   "execution_count": 383,
   "metadata": {},
   "outputs": [
    {
     "data": {
      "text/plain": [
       "array([ 0., 10., 20., 30., 40.])"
      ]
     },
     "execution_count": 383,
     "metadata": {},
     "output_type": "execute_result"
    }
   ],
   "source": [
    "x=np.arange(5)\n",
    "y=np.empty(5)\n",
    "np.multiply(x,10,out=y)"
   ]
  },
  {
   "cell_type": "code",
   "execution_count": 404,
   "metadata": {},
   "outputs": [
    {
     "data": {
      "text/plain": [
       "array([ 1.,  2.,  4.,  8., 16.])"
      ]
     },
     "execution_count": 404,
     "metadata": {},
     "output_type": "execute_result"
    }
   ],
   "source": [
    "y=np.empty(5)\n",
    "np.power(2,x,out=y[::1])\n",
    "y"
   ]
  },
  {
   "cell_type": "code",
   "execution_count": 406,
   "metadata": {},
   "outputs": [
    {
     "data": {
      "text/plain": [
       "15"
      ]
     },
     "execution_count": 406,
     "metadata": {},
     "output_type": "execute_result"
    }
   ],
   "source": [
    "x=np.arange(1,6)\n",
    "np.add.reduce(x)"
   ]
  },
  {
   "cell_type": "code",
   "execution_count": 408,
   "metadata": {},
   "outputs": [
    {
     "data": {
      "text/plain": [
       "120"
      ]
     },
     "execution_count": 408,
     "metadata": {},
     "output_type": "execute_result"
    }
   ],
   "source": [
    "\n",
    "np.multiply.reduce(x)"
   ]
  },
  {
   "cell_type": "code",
   "execution_count": 412,
   "metadata": {},
   "outputs": [
    {
     "data": {
      "text/plain": [
       "array([0.33333333, 0.66666667, 1.        , 1.33333333, 1.66666667])"
      ]
     },
     "execution_count": 412,
     "metadata": {},
     "output_type": "execute_result"
    }
   ],
   "source": [
    "np.divide(x,3)"
   ]
  },
  {
   "cell_type": "code",
   "execution_count": 414,
   "metadata": {},
   "outputs": [
    {
     "data": {
      "text/plain": [
       "array([ 1,  3,  6, 10, 15], dtype=int32)"
      ]
     },
     "execution_count": 414,
     "metadata": {},
     "output_type": "execute_result"
    }
   ],
   "source": [
    "np.add.accumulate(x)\n"
   ]
  },
  {
   "cell_type": "code",
   "execution_count": 416,
   "metadata": {},
   "outputs": [
    {
     "data": {
      "text/plain": [
       "array([  1,   2,   6,  24, 120], dtype=int32)"
      ]
     },
     "execution_count": 416,
     "metadata": {},
     "output_type": "execute_result"
    }
   ],
   "source": [
    "np.multiply.accumulate(x)"
   ]
  },
  {
   "cell_type": "code",
   "execution_count": 475,
   "metadata": {},
   "outputs": [
    {
     "name": "stdout",
     "output_type": "stream",
     "text": [
      "[[ 1  2  3  4  5]\n",
      " [ 2  4  6  8 10]\n",
      " [ 3  6  9 12 15]\n",
      " [ 4  8 12 16 20]\n",
      " [ 5 10 15 20 25]]\n"
     ]
    },
    {
     "data": {
      "text/plain": [
       "array([[ 2,  3,  4,  5,  6,  7,  8,  9],\n",
       "       [ 4,  6,  8, 10, 12, 14, 16, 18],\n",
       "       [ 6,  9, 12, 15, 18, 21, 24, 27],\n",
       "       [ 8, 12, 16, 20, 24, 28, 32, 36],\n",
       "       [10, 15, 20, 25, 30, 35, 40, 45]])"
      ]
     },
     "execution_count": 475,
     "metadata": {},
     "output_type": "execute_result"
    }
   ],
   "source": [
    "x=np.arange(1,6)\n",
    "print(np.multiply.outer(x,x))\n",
    "np.multiply.outer(x,[2,3,4,5,6,7,8,9])"
   ]
  },
  {
   "cell_type": "code",
   "execution_count": 476,
   "metadata": {},
   "outputs": [
    {
     "name": "stdout",
     "output_type": "stream",
     "text": [
      "[[1 4 2 1]\n",
      " [4 4 4 4]\n",
      " [2 4 2 3]\n",
      " [1 4 3 1]]\n"
     ]
    },
    {
     "data": {
      "text/plain": [
       "array([ 8, 16, 11,  9])"
      ]
     },
     "execution_count": 476,
     "metadata": {},
     "output_type": "execute_result"
    }
   ],
   "source": [
    "np.random.seed(0)\n",
    "a=np.random.randint(1,5,[4,4])\n",
    "print(a)\n",
    "sum(a)"
   ]
  },
  {
   "cell_type": "code",
   "execution_count": 495,
   "metadata": {},
   "outputs": [
    {
     "data": {
      "text/plain": [
       "array([[68269, 43568, 42614, 45892, 21244, 95940, 97640, 41994],\n",
       "       [86294, 55027, 80472, 80967, 48601, 39513, 52621, 80187],\n",
       "       [17090, 32231, 18984, 89689, 82458, 93006,  6922, 38805],\n",
       "       [67700, 70609, 37620,  7878, 83967,  1872, 73136,  2497],\n",
       "       [47955, 24676, 31922, 99060,   798, 49812, 68756, 80783],\n",
       "       [90536, 81858, 52490, 84666, 41505, 49867, 84213, 96767],\n",
       "       [11724, 43891, 17592, 58147, 92289, 59301, 89142, 71558],\n",
       "       [20007,  3561, 90869, 61714, 96592, 45445, 46523, 86905]])"
      ]
     },
     "execution_count": 495,
     "metadata": {},
     "output_type": "execute_result"
    }
   ],
   "source": [
    "np.random.seed(0)\n",
    "a=np.random.randint(1,100000,(8,8))\n",
    "a"
   ]
  },
  {
   "cell_type": "code",
   "execution_count": 513,
   "metadata": {},
   "outputs": [
    {
     "data": {
      "text/plain": [
       "(798,\n",
       " 99060,\n",
       " 3586231,\n",
       " array([ 1605280256,   332695168,  -919617536,   762164096, -1552267520,\n",
       "         1367435776, -1215891456,   307620100]),\n",
       " array([409575, 355421, 372563, 528013, 467454, 434756, 518953, 499496]))"
      ]
     },
     "execution_count": 513,
     "metadata": {},
     "output_type": "execute_result"
    }
   ],
   "source": [
    "np.min(a),np.max(a),np.sum(a),np.multiply.reduce(a),np.add.reduce(a)\n"
   ]
  },
  {
   "cell_type": "code",
   "execution_count": 523,
   "metadata": {},
   "outputs": [
    {
     "name": "stdout",
     "output_type": "stream",
     "text": [
      "[[0.71158382 0.15369431 0.73044218 0.64626444]\n",
      " [0.21488074 0.18645822 0.80758027 0.74707947]\n",
      " [0.67484735 0.27689375 0.17490887 0.70447426]\n",
      " [0.4631502  0.84042853 0.20486576 0.16495887]]\n",
      "7.702511023429581\n",
      "16\n",
      "(4, 4)\n",
      "2\n"
     ]
    }
   ],
   "source": [
    "a=np.random.random((4,4))\n",
    "print(a)\n",
    "print(a.sum())\n",
    "print(a.size)\n",
    "print(a.shape)\n",
    "print(a.ndim)"
   ]
  },
  {
   "cell_type": "code",
   "execution_count": 536,
   "metadata": {},
   "outputs": [
    {
     "name": "stdout",
     "output_type": "stream",
     "text": [
      "[0.21488074 0.15369431 0.17490887 0.16495887]\n",
      "[0.15369431 0.18645822 0.17490887 0.16495887]\n"
     ]
    },
    {
     "data": {
      "text/plain": [
       "array([[[[0.50635153, 0.10936638, 0.51977083, 0.45987132],\n",
       "         [0.15290565, 0.13268065, 0.57466105, 0.53160966],\n",
       "         [0.48021045, 0.19703311, 0.12446232, 0.50129248],\n",
       "         [0.32957019, 0.59803534, 0.14577916, 0.11738206]],\n",
       "\n",
       "        [[0.10936638, 0.02362194, 0.1122648 , 0.09932716],\n",
       "         [0.03302595, 0.02865757, 0.12412049, 0.11482186],\n",
       "         [0.10372019, 0.04255699, 0.0268825 , 0.10827368],\n",
       "         [0.07118355, 0.12916908, 0.0314867 , 0.02535324]],\n",
       "\n",
       "        [[0.51977083, 0.1122648 , 0.53354577, 0.4720588 ],\n",
       "         [0.15695795, 0.13619695, 0.58989069, 0.54569835],\n",
       "         [0.49293696, 0.20225487, 0.12776082, 0.51457771],\n",
       "         [0.33830444, 0.61388445, 0.14964259, 0.12049291]],\n",
       "\n",
       "        [[0.45987132, 0.09932716, 0.4720588 , 0.41765772],\n",
       "         [0.13886978, 0.12050132, 0.52191041, 0.48281089],\n",
       "         [0.43612984, 0.17894658, 0.11303739, 0.45527666],\n",
       "         [0.2993175 , 0.54313907, 0.13239746, 0.10660705]]],\n",
       "\n",
       "\n",
       "       [[[0.15290565, 0.03302595, 0.15695795, 0.13886978],\n",
       "         [0.04617373, 0.04006628, 0.17353344, 0.16053299],\n",
       "         [0.14501169, 0.05949913, 0.03758455, 0.15137795],\n",
       "         [0.09952206, 0.1805919 , 0.04402171, 0.03544648]],\n",
       "\n",
       "        [[0.13268065, 0.02865757, 0.13619695, 0.12050132],\n",
       "         [0.04006628, 0.03476667, 0.15057998, 0.13929911],\n",
       "         [0.12583083, 0.05162912, 0.0326132 , 0.13135502],\n",
       "         [0.08635816, 0.15670481, 0.03819891, 0.03075794]],\n",
       "\n",
       "        [[0.57466105, 0.12412049, 0.58989069, 0.52191041],\n",
       "         [0.17353344, 0.15057998, 0.65218589, 0.60332664],\n",
       "         [0.5449934 , 0.22361393, 0.14125296, 0.56891951],\n",
       "         [0.37403096, 0.6787135 , 0.16544555, 0.13321753]],\n",
       "\n",
       "        [[0.53160966, 0.11482186, 0.54569835, 0.48281089],\n",
       "         [0.16053299, 0.13929911, 0.60332664, 0.55812773],\n",
       "         [0.5041646 , 0.20686164, 0.13067083, 0.52629826],\n",
       "         [0.34601001, 0.6278669 , 0.15305101, 0.12323738]]],\n",
       "\n",
       "\n",
       "       [[[0.48021045, 0.10372019, 0.49293696, 0.43612984],\n",
       "         [0.14501169, 0.12583083, 0.5449934 , 0.5041646 ],\n",
       "         [0.45541894, 0.18686101, 0.11803679, 0.47541258],\n",
       "         [0.31255568, 0.56716096, 0.13825312, 0.11132205]],\n",
       "\n",
       "        [[0.19703311, 0.04255699, 0.20225487, 0.17894658],\n",
       "         [0.05949913, 0.05162912, 0.22361393, 0.20686164],\n",
       "         [0.18686101, 0.07667015, 0.04843117, 0.19506452],\n",
       "         [0.1282434 , 0.23270941, 0.05672605, 0.04567608]],\n",
       "\n",
       "        [[0.12446232, 0.0268825 , 0.12776082, 0.11303739],\n",
       "         [0.03758455, 0.0326132 , 0.14125296, 0.13067083],\n",
       "         [0.11803679, 0.04843117, 0.03059311, 0.1232188 ],\n",
       "         [0.08100908, 0.14699841, 0.03583284, 0.02885277]],\n",
       "\n",
       "        [[0.50129248, 0.10827368, 0.51457771, 0.45527666],\n",
       "         [0.15137795, 0.13135502, 0.56891951, 0.52629826],\n",
       "         [0.47541258, 0.19506452, 0.1232188 , 0.49628398],\n",
       "         [0.32627739, 0.59206027, 0.14432266, 0.11620928]]],\n",
       "\n",
       "\n",
       "       [[[0.32957019, 0.07118355, 0.33830444, 0.2993175 ],\n",
       "         [0.09952206, 0.08635816, 0.37403096, 0.34601001],\n",
       "         [0.31255568, 0.1282434 , 0.08100908, 0.32627739],\n",
       "         [0.21450811, 0.38924464, 0.09488362, 0.07640073]],\n",
       "\n",
       "        [[0.59803534, 0.12916908, 0.61388445, 0.54313907],\n",
       "         [0.1805919 , 0.15670481, 0.6787135 , 0.6278669 ],\n",
       "         [0.56716096, 0.23270941, 0.14699841, 0.59206027],\n",
       "         [0.38924464, 0.70632012, 0.17217503, 0.13863614]],\n",
       "\n",
       "        [[0.14577916, 0.0314867 , 0.14964259, 0.13239746],\n",
       "         [0.04402171, 0.03819891, 0.16544555, 0.15305101],\n",
       "         [0.13825312, 0.05672605, 0.03583284, 0.14432266],\n",
       "         [0.09488362, 0.17217503, 0.04196998, 0.03379442]],\n",
       "\n",
       "        [[0.11738206, 0.02535324, 0.12049291, 0.10660705],\n",
       "         [0.03544648, 0.03075794, 0.13321753, 0.12323738],\n",
       "         [0.11132205, 0.04567608, 0.02885277, 0.11620928],\n",
       "         [0.07640073, 0.13863614, 0.03379442, 0.02721143]]]])"
      ]
     },
     "execution_count": 536,
     "metadata": {},
     "output_type": "execute_result"
    }
   ],
   "source": [
    "\n",
    "print(np.min(a,axis=0))\n",
    "print(np.min(a,axis=1))\n",
    "b=np.multiply.outer(a,a)\n",
    "b"
   ]
  },
  {
   "cell_type": "code",
   "execution_count": 541,
   "metadata": {},
   "outputs": [
    {
     "data": {
      "text/plain": [
       "array([[[0.15290565, 0.03302595, 0.15695795, 0.13886978],\n",
       "        [0.04617373, 0.04006628, 0.17353344, 0.16053299],\n",
       "        [0.14501169, 0.05949913, 0.03758455, 0.15137795],\n",
       "        [0.09952206, 0.1805919 , 0.04402171, 0.03544648]],\n",
       "\n",
       "       [[0.10936638, 0.02362194, 0.1122648 , 0.09932716],\n",
       "        [0.03302595, 0.02865757, 0.12412049, 0.11482186],\n",
       "        [0.10372019, 0.04255699, 0.0268825 , 0.10827368],\n",
       "        [0.07118355, 0.12916908, 0.0314867 , 0.02535324]],\n",
       "\n",
       "       [[0.12446232, 0.0268825 , 0.12776082, 0.11303739],\n",
       "        [0.03758455, 0.0326132 , 0.14125296, 0.13067083],\n",
       "        [0.11803679, 0.04843117, 0.03059311, 0.1232188 ],\n",
       "        [0.08100908, 0.14699841, 0.03583284, 0.02885277]],\n",
       "\n",
       "       [[0.11738206, 0.02535324, 0.12049291, 0.10660705],\n",
       "        [0.03544648, 0.03075794, 0.13321753, 0.12323738],\n",
       "        [0.11132205, 0.04567608, 0.02885277, 0.11620928],\n",
       "        [0.07640073, 0.13863614, 0.03379442, 0.02721143]]])"
      ]
     },
     "execution_count": 541,
     "metadata": {},
     "output_type": "execute_result"
    }
   ],
   "source": [
    "np.min(b,axis=0)"
   ]
  },
  {
   "cell_type": "code",
   "execution_count": 544,
   "metadata": {},
   "outputs": [
    {
     "data": {
      "text/plain": [
       "array([[[0.10936638, 0.02362194, 0.1122648 , 0.09932716],\n",
       "        [0.03302595, 0.02865757, 0.12412049, 0.11482186],\n",
       "        [0.10372019, 0.04255699, 0.0268825 , 0.10827368],\n",
       "        [0.07118355, 0.12916908, 0.0314867 , 0.02535324]],\n",
       "\n",
       "       [[0.13268065, 0.02865757, 0.13619695, 0.12050132],\n",
       "        [0.04006628, 0.03476667, 0.15057998, 0.13929911],\n",
       "        [0.12583083, 0.05162912, 0.0326132 , 0.13135502],\n",
       "        [0.08635816, 0.15670481, 0.03819891, 0.03075794]],\n",
       "\n",
       "       [[0.12446232, 0.0268825 , 0.12776082, 0.11303739],\n",
       "        [0.03758455, 0.0326132 , 0.14125296, 0.13067083],\n",
       "        [0.11803679, 0.04843117, 0.03059311, 0.1232188 ],\n",
       "        [0.08100908, 0.14699841, 0.03583284, 0.02885277]],\n",
       "\n",
       "       [[0.11738206, 0.02535324, 0.12049291, 0.10660705],\n",
       "        [0.03544648, 0.03075794, 0.13321753, 0.12323738],\n",
       "        [0.11132205, 0.04567608, 0.02885277, 0.11620928],\n",
       "        [0.07640073, 0.13863614, 0.03379442, 0.02721143]]])"
      ]
     },
     "execution_count": 544,
     "metadata": {},
     "output_type": "execute_result"
    }
   ],
   "source": [
    "np.min(b,axis=1)"
   ]
  },
  {
   "cell_type": "code",
   "execution_count": null,
   "metadata": {},
   "outputs": [],
   "source": []
  }
 ],
 "metadata": {
  "kernelspec": {
   "display_name": "Python 3",
   "language": "python",
   "name": "python3"
  },
  "language_info": {
   "codemirror_mode": {
    "name": "ipython",
    "version": 3
   },
   "file_extension": ".py",
   "mimetype": "text/x-python",
   "name": "python",
   "nbconvert_exporter": "python",
   "pygments_lexer": "ipython3",
   "version": "3.7.4"
  }
 },
 "nbformat": 4,
 "nbformat_minor": 2
}
