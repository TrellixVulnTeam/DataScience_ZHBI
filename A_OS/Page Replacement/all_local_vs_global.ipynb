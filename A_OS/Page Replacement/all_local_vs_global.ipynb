{
 "cells": [
  {
   "cell_type": "code",
   "execution_count": 1,
   "id": "8ccf4716",
   "metadata": {},
   "outputs": [],
   "source": [
    "import numpy as np\n",
    "import math\n",
    "import os\n",
    "import random\n",
    "from matplotlib import pyplot as pl\n",
    "import queue\n",
    "import collections\n",
    "import seaborn as sns"
   ]
  },
  {
   "cell_type": "code",
   "execution_count": null,
   "id": "bf9de83a",
   "metadata": {},
   "outputs": [],
   "source": []
  },
  {
   "cell_type": "code",
   "execution_count": 166,
   "id": "42bea50e",
   "metadata": {},
   "outputs": [],
   "source": [
    "PAGE_SIZE = 4096                    # Page Size in Bytes\n",
    "NP = 6                              # No. of processes in memory\n",
    "F = 32                              # No. of Frames in physical memory\n",
    "INVALID = -10\n",
    "PID = 0                             # Used for Indexing into Frames\n",
    "FRAME = 1                           # Used for Indexing into Frames\n",
    "COMPLETED = 10                      # Process Status Flags\n",
    "INCOMPLETE = 20                     #\n",
    "# The following are page replacement algorithm types\n",
    "FIFO_GLOBAL = 10\n",
    "oldest_frame = 0\n",
    "recent_frame=0"
   ]
  },
  {
   "cell_type": "code",
   "execution_count": 167,
   "id": "10c68e43",
   "metadata": {},
   "outputs": [],
   "source": [
    "fifo_old_frames={}\n",
    "mru_recent_frames={}\n",
    "loc_oldest_frame = np.zeros(F).astype('int32')\n",
    "algos=[\"lrul\",\"lrug\",\"fifol\",\"fifog\",\"mrul\",\"mrug\",\"rrl\",\"rrg\",\"lful\",\"lfug\"]\n",
    "\n",
    "fifo_l=[]\n",
    "fifo_g=[]\n",
    "\n",
    "lru_l=[]\n",
    "lru_g=[]\n",
    "\n",
    "mru_l=[]\n",
    "mru_g=[]\n",
    "\n",
    "rr_l=[]\n",
    "rr_g=[]\n",
    "\n",
    "lfu_l=[]\n",
    "lfu_g=[]"
   ]
  },
  {
   "cell_type": "code",
   "execution_count": 2,
   "id": "4905f067",
   "metadata": {},
   "outputs": [
    {
     "ename": "NameError",
     "evalue": "name 'F' is not defined",
     "output_type": "error",
     "traceback": [
      "\u001b[1;31m---------------------------------------------------------------------------\u001b[0m",
      "\u001b[1;31mNameError\u001b[0m                                 Traceback (most recent call last)",
      "\u001b[1;32m<ipython-input-2-914353a65bd4>\u001b[0m in \u001b[0;36m<module>\u001b[1;34m\u001b[0m\n\u001b[1;32m----> 1\u001b[1;33m \u001b[0mphys_mem_fifo_l\u001b[0m \u001b[1;33m=\u001b[0m \u001b[0mnp\u001b[0m\u001b[1;33m.\u001b[0m\u001b[0mfull\u001b[0m\u001b[1;33m(\u001b[0m\u001b[1;33m(\u001b[0m\u001b[0mF\u001b[0m\u001b[1;33m,\u001b[0m \u001b[1;36m2\u001b[0m\u001b[1;33m)\u001b[0m\u001b[1;33m,\u001b[0m \u001b[0mINVALID\u001b[0m\u001b[1;33m)\u001b[0m\u001b[1;33m.\u001b[0m\u001b[0mastype\u001b[0m\u001b[1;33m(\u001b[0m\u001b[1;34m'int32'\u001b[0m\u001b[1;33m)\u001b[0m\u001b[1;33m\u001b[0m\u001b[1;33m\u001b[0m\u001b[0m\n\u001b[0m\u001b[0;32m      2\u001b[0m \u001b[0mphys_mem_fifo_g\u001b[0m \u001b[1;33m=\u001b[0m \u001b[0mnp\u001b[0m\u001b[1;33m.\u001b[0m\u001b[0mfull\u001b[0m\u001b[1;33m(\u001b[0m\u001b[1;33m(\u001b[0m\u001b[0mF\u001b[0m\u001b[1;33m,\u001b[0m \u001b[1;36m2\u001b[0m\u001b[1;33m)\u001b[0m\u001b[1;33m,\u001b[0m \u001b[0mINVALID\u001b[0m\u001b[1;33m)\u001b[0m\u001b[1;33m.\u001b[0m\u001b[0mastype\u001b[0m\u001b[1;33m(\u001b[0m\u001b[1;34m'int32'\u001b[0m\u001b[1;33m)\u001b[0m\u001b[1;33m\u001b[0m\u001b[1;33m\u001b[0m\u001b[0m\n\u001b[0;32m      3\u001b[0m \u001b[1;33m\u001b[0m\u001b[0m\n\u001b[0;32m      4\u001b[0m \u001b[0mphys_mem_lru_l\u001b[0m \u001b[1;33m=\u001b[0m \u001b[0mnp\u001b[0m\u001b[1;33m.\u001b[0m\u001b[0mfull\u001b[0m\u001b[1;33m(\u001b[0m\u001b[1;33m(\u001b[0m\u001b[0mF\u001b[0m\u001b[1;33m,\u001b[0m \u001b[1;36m2\u001b[0m\u001b[1;33m)\u001b[0m\u001b[1;33m,\u001b[0m \u001b[0mINVALID\u001b[0m\u001b[1;33m)\u001b[0m\u001b[1;33m.\u001b[0m\u001b[0mastype\u001b[0m\u001b[1;33m(\u001b[0m\u001b[1;34m'int32'\u001b[0m\u001b[1;33m)\u001b[0m\u001b[1;33m\u001b[0m\u001b[1;33m\u001b[0m\u001b[0m\n\u001b[0;32m      5\u001b[0m \u001b[0mphys_mem_lru_g\u001b[0m \u001b[1;33m=\u001b[0m \u001b[0mnp\u001b[0m\u001b[1;33m.\u001b[0m\u001b[0mfull\u001b[0m\u001b[1;33m(\u001b[0m\u001b[1;33m(\u001b[0m\u001b[0mF\u001b[0m\u001b[1;33m,\u001b[0m \u001b[1;36m2\u001b[0m\u001b[1;33m)\u001b[0m\u001b[1;33m,\u001b[0m \u001b[0mINVALID\u001b[0m\u001b[1;33m)\u001b[0m\u001b[1;33m.\u001b[0m\u001b[0mastype\u001b[0m\u001b[1;33m(\u001b[0m\u001b[1;34m'int32'\u001b[0m\u001b[1;33m)\u001b[0m\u001b[1;33m\u001b[0m\u001b[1;33m\u001b[0m\u001b[0m\n",
      "\u001b[1;31mNameError\u001b[0m: name 'F' is not defined"
     ]
    }
   ],
   "source": [
    "phys_mem_fifo_l = np.full((F, 2), INVALID).astype('int32')\n",
    "phys_mem_fifo_g = np.full((F, 2), INVALID).astype('int32')\n",
    "\n",
    "phys_mem_lru_l = np.full((F, 2), INVALID).astype('int32')\n",
    "phys_mem_lru_g = np.full((F, 2), INVALID).astype('int32')\n",
    "\n",
    "phys_mem_rr_l = np.full((F, 2), INVALID).astype('int32')\n",
    "phys_mem_rr_g = np.full((F, 2), INVALID).astype('int32')\n",
    "\n",
    "phys_mem_lfu_l = np.full((F, 2), INVALID).astype('int32')\n",
    "phys_mem_lfu_g = np.full((F, 2), INVALID).astype('int32')\n",
    "\n",
    "phys_mem_mru_l = np.full((F, 2), INVALID).astype('int32')\n",
    "phys_mem_mru_g = np.full((F, 2), INVALID).astype('int32')\n"
   ]
  },
  {
   "cell_type": "code",
   "execution_count": 169,
   "id": "9458bc70",
   "metadata": {},
   "outputs": [],
   "source": [
    "def init_proc_queue():\n",
    "    pq = queue.Queue(maxsize=NP)\n",
    "    proc_queue = list(set((NP * np.random.random(20)).astype('int32')))\n",
    "    random.shuffle(proc_queue)\n",
    "    print(proc_queue)\n",
    "    for pr in proc_queue:\n",
    "        fifo_old_frames[pr]=0\n",
    "        pq.put_nowait(pr)\n",
    "    return(pq)\n",
    "\n",
    "def readq(q):\n",
    "    while True:\n",
    "        try:\n",
    "            yield q.get_nowait()\n",
    "        except queue.Empty:\n",
    "            break"
   ]
  },
  {
   "cell_type": "code",
   "execution_count": 170,
   "id": "3a084b2d",
   "metadata": {},
   "outputs": [],
   "source": [
    "def init_phys_mem():\n",
    "    for i in range(F):\n",
    "        phys_mem_fifo_l[i, PID] = INVALID\n",
    "        phys_mem_fifo_l[i, FRAME] = INVALID\n",
    "\n",
    "        phys_mem_fifo_g[i, PID] = INVALID\n",
    "        phys_mem_fifo_g[i, FRAME] = INVALID\n",
    "\n",
    "        phys_mem_lru_g[i, PID] = INVALID\n",
    "        phys_mem_lru_g[i, FRAME] = INVALID\n",
    "\n",
    "        phys_mem_lru_l[i, PID] = INVALID\n",
    "        phys_mem_lru_l[i, FRAME] = INVALID\n",
    "        \n",
    "        phys_mem_rr_l[i, PID] = INVALID\n",
    "        phys_mem_rr_l[i, FRAME] = INVALID\n",
    "\n",
    "        phys_mem_rr_g[i, PID] = INVALID\n",
    "        phys_mem_rr_g[i, FRAME] = INVALID\n",
    "\n",
    "        phys_mem_lfu_g[i, PID] = INVALID\n",
    "        phys_mem_lfu_g[i, FRAME] = INVALID\n",
    "\n",
    "        phys_mem_lfu_l[i, PID] = INVALID\n",
    "        phys_mem_lfu_l[i, FRAME] = INVALID\n",
    "\n",
    "        phys_mem_mru_l[i, PID] = INVALID\n",
    "        phys_mem_mru_l[i, FRAME] = INVALID\n",
    "\n",
    "        phys_mem_mru_g[i, PID] = INVALID\n",
    "        phys_mem_mru_g[i, FRAME] = INVALID\n",
    "\n",
    "\n",
    "\n",
    "def update_phys_mem(pid):\n",
    "    for i in range(F):\n",
    "        \n",
    "        #         Updating physical memory of FIFO Local\n",
    "        \n",
    "        if phys_mem_fifo_l[i, PID] == pid:\n",
    "            phys_mem_fifo_l[i, PID] = INVALID\n",
    "            phys_mem_fifo_l[i, FRAME] = INVALID\n",
    "            \n",
    "        #         Updating physical memory of FIFO Global\n",
    "        \n",
    "        if phys_mem_fifo_g[i, PID] == pid:\n",
    "            phys_mem_fifo_g[i, PID] = INVALID\n",
    "            phys_mem_fifo_g[i, FRAME] = INVALID\n",
    "            \n",
    "        #         Updating physical memory of LRU Global\n",
    "        \n",
    "        if phys_mem_lru_g[i, PID] == pid:\n",
    "            phys_mem_lru_g[i, PID] = INVALID\n",
    "            phys_mem_lru_g[i, FRAME] = INVALID\n",
    "            \n",
    "        #         Updating physical memory of LRU Local\n",
    "        \n",
    "        if phys_mem_lru_l[i, PID] == pid:\n",
    "            phys_mem_lru_l[i, PID] = INVALID\n",
    "            phys_mem_lru_l[i, FRAME] = INVALID\n",
    "    \n",
    "    \n",
    "    \n",
    "        if phys_mem_rr_l[i,PID] == pid:\n",
    "            phys_mem_rr_l[i, PID] = INVALID\n",
    "            phys_mem_rr_l[i, FRAME] = INVALID\n",
    "        \n",
    "        \n",
    "        if phys_mem_rr_g[i,PID] == pid:\n",
    "            phys_mem_rr_g[i, PID] = INVALID\n",
    "            phys_mem_rr_g[i, FRAME] = INVALID\n",
    "        \n",
    "        \n",
    "        if phys_mem_lfu_g[i,PID] == pid:\n",
    "            phys_mem_lfu_g[i, PID] = INVALID\n",
    "            phys_mem_lfu_g[i, FRAME] = INVALID\n",
    "\n",
    "        \n",
    "        if phys_mem_lfu_l[i,PID] == pid:\n",
    "            phys_mem_lfu_l[i, PID] = INVALID\n",
    "            phys_mem_lfu_l[i, FRAME] = INVALID\n",
    "\n",
    "            \n",
    "        if phys_mem_mru_l[i,PID] == pid:\n",
    "            phys_mem_mru_l[i, PID] = INVALID\n",
    "            phys_mem_mru_l[i, FRAME] = INVALID\n",
    "\n",
    "                \n",
    "        if phys_mem_mru_g[i,PID] == pid:\n",
    "            phys_mem_mru_g[i, PID] = INVALID\n",
    "            phys_mem_mru_g[i, FRAME] = INVALID"
   ]
  },
  {
   "cell_type": "code",
   "execution_count": 171,
   "id": "e8d8c190",
   "metadata": {},
   "outputs": [],
   "source": [
    "def correct_refs(alist, cent, maxpg):\n",
    "    if cent != 0:\n",
    "        pgnum = int(cent / PAGE_SIZE)\n",
    "        lh = (pgnum + 1) * PAGE_SIZE - 1\n",
    "        ll = pgnum * PAGE_SIZE\n",
    "    else:\n",
    "        lh = maxpg * PAGE_SIZE\n",
    "        ll = 0\n",
    "    for i in range(alist.shape[0]):\n",
    "        if alist[i] >= lh:\n",
    "            alist[i] = lh - 1\n",
    "        if alist[i] < ll:\n",
    "            alist[i] = ll + 1\n",
    "    return alist\n",
    "def sim_process(M, sigma, outfile,pid, lfrac):\n",
    "    cur_page = int(M * np.random.random())  # Generate a random start page\n",
    "    cur_locale = round(PAGE_SIZE * (cur_page + 0.5))  # Locality of reference\n",
    "    sum_refs = 0\n",
    "    list_locales = list()\n",
    "    for count in range(M):\n",
    "        # random page address in memory.\n",
    "        num_refs = int(512 + (PAGE_SIZE - 512) * np.random.random())\n",
    "        sum_refs += num_refs\n",
    "        list_locales.append(cur_page)\n",
    "        num_loc = round(lfrac * num_refs)\n",
    "        aref_list = np.random.normal(cur_locale, sigma * 300 + 100,\n",
    "                                     num_loc)  # If siagma is less, it stays less within that locality of reference\n",
    "        # if sigma more, it may vary more\n",
    "        aref_list = correct_refs(aref_list, cur_locale, M)\n",
    "        aref_list = aref_list.astype('int32')\n",
    "        cur_page = int(M * np.random.random())\n",
    "        cur_locale = round(PAGE_SIZE * (cur_page + 0.5))\n",
    "        num_trans = round((1 - lfrac) * num_refs)\n",
    "        tref_list = np.random.random(num_trans) * cur_locale\n",
    "        tref_list = correct_refs(tref_list, 0, M)\n",
    "        tref_list = tref_list.astype('int32')\n",
    "        np.append(aref_list, tref_list).tofile(outfile, sep='\\n')\n",
    "        outfile.write('\\n')\n",
    "    return list_locales, sum_refs"
   ]
  },
  {
   "cell_type": "code",
   "execution_count": 172,
   "id": "5aae95aa",
   "metadata": {},
   "outputs": [],
   "source": [
    "def get_oldest_frameL(pr):\n",
    "    global oldest_frame\n",
    "    rv = oldest_frame\n",
    "    oldest_frame += 1\n",
    "    if oldest_frame == F:\n",
    "        oldest_frame = 0\n",
    "    return rv\n",
    "\n",
    "def get_oldest_frameG(pr):\n",
    "    global fifo_old_frames\n",
    "    rv = fifo_old_frames[pr]\n",
    "    fifo_old_frames[pr] += 1\n",
    "    if fifo_old_frames[pr] == F:\n",
    "        fifo_old_frames[pr] = 0\n",
    "    return rv\n",
    "\n",
    "\n",
    "def getFifoFrameL( pnum, pr):\n",
    "    fr_num=0\n",
    "    while fr_num < F:\n",
    "        if phys_mem_fifo_l[fr_num, PID] == pr and phys_mem_fifo_l[fr_num, FRAME] == pnum:\n",
    "            break\n",
    "        else:\n",
    "            fr_num += 1\n",
    "    return fr_num\n",
    "\n",
    "def getFifoFrameG( pnum, pr):\n",
    "    fr_num=0\n",
    "    while fr_num < F:\n",
    "        if phys_mem_fifo_g[fr_num, PID] == pr and phys_mem_fifo_g[fr_num, FRAME] == pnum:\n",
    "            break\n",
    "        else:\n",
    "            fr_num += 1\n",
    "    return fr_num\n",
    "\n",
    "\n",
    "def getLruFrameL(pnum, pr):\n",
    "    fr_num=0\n",
    "    global phys_mem_lru_l\n",
    "    while fr_num < F:\n",
    "        if phys_mem_lru_l[fr_num, PID] == pr and phys_mem_lru_l[fr_num, FRAME] == pnum:\n",
    "            temp = np.array([pr, pnum])\n",
    "            phys_mem_lru_l = np.delete(phys_mem_lru_l, fr_num, axis=0)\n",
    "            phys_mem_lru_l = np.concatenate([phys_mem_lru_l, temp.reshape(1, -1)], axis=0)\n",
    "            break\n",
    "        else:\n",
    "            fr_num += 1\n",
    "    return fr_num\n",
    "\n",
    "def getLruFrameG( pnum, pr):\n",
    "    fr_num=0\n",
    "    global phys_mem_lru_g\n",
    "    while fr_num < F:\n",
    "        if phys_mem_lru_g[fr_num, PID] == pr and phys_mem_lru_g[fr_num, FRAME] == pnum:\n",
    "            temp = np.array([pr, pnum])\n",
    "            phys_mem_lru_g = np.delete(phys_mem_lru_g, fr_num, axis=0)\n",
    "            phys_mem_lru_g = np.concatenate([phys_mem_lru_g, temp.reshape(1, -1)], axis=0)\n",
    "            break\n",
    "        else:\n",
    "            fr_num += 1\n",
    "    return fr_num"
   ]
  },
  {
   "cell_type": "code",
   "execution_count": 173,
   "id": "c09c5c84",
   "metadata": {},
   "outputs": [],
   "source": [
    "def gen_pagefault(pgnum, pr,algo=None):\n",
    "\n",
    "    fr_num = 0\n",
    "    \n",
    "    if algo==\"lrul\":\n",
    "        while fr_num < F and phys_mem_lru_l[fr_num, FRAME] >= 0:\n",
    "            fr_num += 1\n",
    "        if fr_num >= F:\n",
    "            return INVALID\n",
    "        phys_mem_lru_l[fr_num, FRAME] = pgnum\n",
    "        phys_mem_lru_l[fr_num, PID] = pr\n",
    "        return fr_num\n",
    "    \n",
    "    elif algo==\"lrug\":\n",
    "        while fr_num < F and phys_mem_lru_g[fr_num, FRAME] >= 0:\n",
    "            fr_num += 1\n",
    "        if fr_num >= F:\n",
    "            return INVALID\n",
    "        phys_mem_lru_g[fr_num, FRAME] = pgnum\n",
    "        phys_mem_lru_g[fr_num, PID] = pr\n",
    "        return fr_num\n",
    "            \n",
    "    elif algo==\"fifol\":\n",
    "        while fr_num < F and phys_mem_fifo_l[fr_num, FRAME] >= 0:\n",
    "            fr_num += 1\n",
    "        if fr_num >= F:\n",
    "            return INVALID\n",
    "        phys_mem_fifo_l[fr_num, FRAME] = pgnum\n",
    "        phys_mem_fifo_l[fr_num, PID] = pr\n",
    "        return fr_num\n",
    "        \n",
    "    elif algo == \"fifog\":\n",
    "        while fr_num < F and phys_mem_fifo_g[fr_num, FRAME] >= 0:\n",
    "            fr_num += 1\n",
    "        if fr_num >= F:\n",
    "            return INVALID\n",
    "        phys_mem_fifo_g[fr_num, FRAME] = pgnum\n",
    "        phys_mem_fifo_g[fr_num, PID] = pr\n",
    "        return fr_num\n",
    "        \n"
   ]
  },
  {
   "cell_type": "code",
   "execution_count": 174,
   "id": "9cf04c5c",
   "metadata": {},
   "outputs": [],
   "source": [
    "def page_replaceLRUL(pgnum, pr):\n",
    "    global phys_mem_lru_l\n",
    "    temp = np.array([pr, pgnum])\n",
    "    try:\n",
    "        least_used=np.where(phys_mem_lru_l[:,0]==pr)[0][0]\n",
    "    except IndexError:\n",
    "        least_used = 0\n",
    "    phys_mem_lru_l[least_used]=temp\n",
    "    return least_used\n",
    "\n",
    "\n",
    "def page_replaceFIFOL(pgnum, pr):\n",
    "    cur_frame = get_oldest_frameL(pr)\n",
    "    phys_mem_fifo_l[cur_frame, PID] = pr\n",
    "    phys_mem_fifo_l[cur_frame, FRAME] = pgnum\n",
    "    return cur_frame\n",
    "\n",
    "def page_replaceLRUG(pgnum, pr):\n",
    "    global phys_mem_lru_g\n",
    "    temp = np.array([pr, pgnum])\n",
    "    least_used = 0\n",
    "    phys_mem_lru_g[least_used]=temp\n",
    "    return least_used\n",
    "\n",
    "\n",
    "def page_replaceFIFOG(pgnum, pr):\n",
    "    cur_frame = get_oldest_frameG(pr)\n",
    "    phys_mem_fifo_g[cur_frame, PID] = pr\n",
    "    phys_mem_fifo_g[cur_frame, FRAME] = pgnum\n",
    "    return cur_frame"
   ]
  },
  {
   "cell_type": "code",
   "execution_count": 175,
   "id": "f5428025",
   "metadata": {},
   "outputs": [],
   "source": [
    "a=np.array([[1,2],[2,3],[4,5]])"
   ]
  },
  {
   "cell_type": "code",
   "execution_count": 176,
   "id": "28279d87",
   "metadata": {},
   "outputs": [],
   "source": [
    "a[1]=np.array([9,9])"
   ]
  },
  {
   "cell_type": "code",
   "execution_count": 177,
   "id": "af74d5d7",
   "metadata": {},
   "outputs": [
    {
     "data": {
      "text/plain": [
       "array([[1, 2],\n",
       "       [9, 9],\n",
       "       [4, 5]])"
      ]
     },
     "execution_count": 177,
     "metadata": {},
     "output_type": "execute_result"
    }
   ],
   "source": [
    "a"
   ]
  },
  {
   "cell_type": "markdown",
   "id": "4fddf48b",
   "metadata": {},
   "source": [
    "#### I used  dict.keys() and dict.values() many places in LFU so as to map and get pages associated to it frequencies and all."
   ]
  },
  {
   "cell_type": "markdown",
   "id": "429537b9",
   "metadata": {},
   "source": [
    "# LeastFreqUsed is divided into two parts. \n",
    "1. Geting all the processes that are located in physical memory when page replacement for that particular process\n",
    "    was called. After that we try to find all the associated pages of particular page and try to find the minimum\n",
    "    frequency of a page associated to that process. if the page is found with minimum frequency. once the page with \n",
    "    minimum frequency is found, we replace that [pid,pgnum] from main memory. if not, it means the physical memory \n",
    "    doesnot have current process to replace its associated minimum frequency page.\n",
    "2. We try to find all other processes and their associated pages which frequency is minimum. once a process and page\n",
    "    is identified, we replace that with the current pid and page."
   ]
  },
  {
   "cell_type": "code",
   "execution_count": 178,
   "id": "83588653",
   "metadata": {},
   "outputs": [],
   "source": [
    "def get_pageframe(pnum, pr, algo):\n",
    "    # Trying to get a page Hit below\n",
    "    if algo == \"lrul\":\n",
    "        fr_num = getLruFrameL( pnum, pr)\n",
    "    elif algo == \"lrug\":\n",
    "        fr_num = getLruFrameG( pnum, pr)\n",
    "    elif algo == \"fifol\":\n",
    "        fr_num = getFifoFrameL( pnum, pr)\n",
    "    elif algo == \"fifog\":\n",
    "        fr_num = getFifoFrameG( pnum, pr)\n",
    "\n",
    "    # This indicates Page Hit.\n",
    "    if fr_num < F:\n",
    "        return fr_num * PAGE_SIZE, 0\n",
    "\n",
    "    # This tries to find page fault if occured.\n",
    "    fr_num = gen_pagefault(pnum, pr,algo)\n",
    "\n",
    "    if fr_num >= 0:\n",
    "        return fr_num * PAGE_SIZE, 1\n",
    "\n",
    "    # This is for page replacement based on algorith choosen\n",
    "    if algo == \"lrul\":\n",
    "        fr_num = page_replaceLRUL(pnum, pr)\n",
    "    elif algo == \"lrug\":\n",
    "        fr_num = page_replaceLRUG(pnum, pr)\n",
    "    elif algo == \"fifol\":\n",
    "        fr_num = page_replaceFIFOL(pnum, pr)\n",
    "    elif algo == \"fifog\":\n",
    "        fr_num = page_replaceFIFOG(pnum, pr)\n",
    "\n",
    "    if fr_num >= 0:\n",
    "        return fr_num * PAGE_SIZE, 2\n",
    "    return INVALID, 0"
   ]
  },
  {
   "cell_type": "code",
   "execution_count": 179,
   "id": "0fd4ab81",
   "metadata": {},
   "outputs": [],
   "source": [
    "def mem_manager(infile, pid):\n",
    "    #    num_faults = 0\n",
    "    # Read a number of address references, i.e., execute the process\n",
    "    # partially (or fully, if the number generated is > process size)\n",
    "    num_addr = 512 + int(4096 * np.random.random())\n",
    "    idx = 0\n",
    "    while idx < num_addr:\n",
    "        addr_ref = infile.readline().strip()\n",
    "        if addr_ref == '':\n",
    "            break\n",
    "        addr_ref = int(addr_ref)\n",
    "        pg_num = int(addr_ref / PAGE_SIZE)\n",
    "        pg_offset = addr_ref % PAGE_SIZE\n",
    "        pg_basefl, pg_faultfl = get_pageframe(pg_num, pid, algo=\"fifol\")\n",
    "        fifo_l.append([pid,pg_faultfl])\n",
    "        pg_basefg, pg_faultfg = get_pageframe(pg_num, pid, algo=\"fifog\")\n",
    "        fifo_g.append([pid,pg_faultfg])\n",
    "        pg_basell, pg_faultll = get_pageframe(pg_num, pid, algo=\"lrul\")\n",
    "        lru_l.append([pid,pg_faultll])\n",
    "        pg_baselg, pg_faultlg = get_pageframe(pg_num, pid, algo=\"lrug\")\n",
    "        lru_g.append([pid,pg_faultlg])\n",
    "        if pg_basell>=0 and pg_basefg>=0 and pg_baselg>=0 and pg_basefl>=0:\n",
    "            pass\n",
    "#             phys_addr = pg_base + pg_offset\n",
    "# #             outfile.write(str(addr_ref) + ',' + str(phys_addr) + ','\n",
    "# #                           + str(pg_fault) + '\\n')  # Saving the logical add, physical add and faults\n",
    "\n",
    "#             if pg_fault == 0:\n",
    "#                 pr_timing[pid] += IN_MEMORY\n",
    "#             elif pg_fault == 1:\n",
    "#                 pr_timing[pid] += MEM_FAULT\n",
    "#             else:\n",
    "#                 pr_timing[pid] += PAGE_REPLACE\n",
    "\n",
    "        else:\n",
    "            print(idx)\n",
    "            return INVALID\n",
    "        idx += 1\n",
    "\n",
    "    if idx >= num_addr:\n",
    "        return INCOMPLETE\n",
    "    return COMPLETED"
   ]
  },
  {
   "cell_type": "code",
   "execution_count": 180,
   "id": "0ec95eea",
   "metadata": {},
   "outputs": [],
   "source": [
    "def print_phys_mem():\n",
    "    print('{:^10s} {:^6s} {:^6s}'.format('Frame', 'PID', 'Page No.'))\n",
    "    print('{:^10s} {:^6s} {:^6s}'.format('-----', '---', '--------'))\n",
    "    for memory,algo in zip(physical_memories,algos):\n",
    "        print(f\"--------------------{algo}-------------------------\")\n",
    "        for i in range(F):\n",
    "            if memory[i, PID] != INVALID:\n",
    "                print('{:^10d} {:^6d} {:^6d}'.format(i, memory[i, PID],\n",
    "                                                     memory[i, FRAME]))\n",
    "            else:\n",
    "                print('Free Frame: ', i)\n",
    "    print('_____________________________________________________________')\n"
   ]
  },
  {
   "cell_type": "code",
   "execution_count": 211,
   "id": "b92fa9d7",
   "metadata": {},
   "outputs": [],
   "source": [
    "pr_size = np.zeros(NP, dtype='int32')\n",
    "def create_simulation():\n",
    "    for p in range(NP):\n",
    "        fname = 'AR_' + '{:02d}'.format(p) + '.txt'\n",
    "        op = open(fname, 'w')\n",
    "        npg = int(np.random.normal(10, 2.5))\n",
    "        nsig = int(5 * np.random.random())\n",
    "        print(f'Process {p} requires {npg} pages and has a quality {nsig}')\n",
    "        pg_seq, pr_size[p] = sim_process(npg, nsig, op,pid=p,lfrac=0.99)\n",
    "        print(pg_seq, pr_size[p])\n",
    "        op.write('\\n')\n",
    "        op.close()\n",
    "        print('Written process ', p, 'to ', fname)"
   ]
  },
  {
   "cell_type": "code",
   "execution_count": 212,
   "id": "28f88b41",
   "metadata": {},
   "outputs": [
    {
     "name": "stdout",
     "output_type": "stream",
     "text": [
      "Process 0 requires 10 pages and has a quality 0\n",
      "[0, 5, 3, 6, 7, 3, 1, 0, 0, 1] 22271\n",
      "Written process  0 to  AR_00.txt\n",
      "Process 1 requires 7 pages and has a quality 2\n",
      "[2, 3, 5, 4, 4, 5, 1] 18697\n",
      "Written process  1 to  AR_01.txt\n",
      "Process 2 requires 18 pages and has a quality 0\n",
      "[9, 10, 1, 14, 7, 4, 1, 11, 10, 5, 2, 5, 1, 1, 13, 6, 14, 7] 41995\n",
      "Written process  2 to  AR_02.txt\n",
      "Process 3 requires 10 pages and has a quality 2\n",
      "[4, 5, 7, 8, 9, 2, 4, 9, 6, 6] 26037\n",
      "Written process  3 to  AR_03.txt\n",
      "Process 4 requires 9 pages and has a quality 2\n",
      "[0, 2, 2, 8, 5, 8, 2, 8, 2] 25167\n",
      "Written process  4 to  AR_04.txt\n",
      "Process 5 requires 11 pages and has a quality 4\n",
      "[1, 6, 3, 8, 9, 5, 1, 5, 6, 5, 3] 25398\n",
      "Written process  5 to  AR_05.txt\n"
     ]
    }
   ],
   "source": [
    "create_simulation()"
   ]
  },
  {
   "cell_type": "code",
   "execution_count": 213,
   "id": "0992fdad",
   "metadata": {},
   "outputs": [
    {
     "data": {
      "image/png": "[encoded data removed]",
      "text/plain": [
       "<Figure size 432x288 with 1 Axes>"
      ]
     },
     "metadata": {
      "needs_background": "light"
     },
     "output_type": "display_data"
    },
    {
     "data": {
      "image/png": "[encoded data removed]",
      "text/plain": [
       "<Figure size 432x288 with 1 Axes>"
      ]
     },
     "metadata": {
      "needs_background": "light"
     },
     "output_type": "display_data"
    },
    {
     "data": {
      "image/png": "[encoded data removed]",
      "text/plain": [
       "<Figure size 432x288 with 1 Axes>"
      ]
     },
     "metadata": {
      "needs_background": "light"
     },
     "output_type": "display_data"
    },
    {
     "data": {
      "image/png": "[encoded data removed]",
      "text/plain": [
       "<Figure size 432x288 with 1 Axes>"
      ]
     },
     "metadata": {
      "needs_background": "light"
     },
     "output_type": "display_data"
    },
    {
     "data": {
      "image/png": "[encoded data removed]",
      "text/plain": [
       "<Figure size 432x288 with 1 Axes>"
      ]
     },
     "metadata": {
      "needs_background": "light"
     },
     "output_type": "display_data"
    },
    {
     "data": {
      "image/png": "[encoded data removed]",
      "text/plain": [
       "<Figure size 432x288 with 1 Axes>"
      ]
     },
     "metadata": {
      "needs_background": "light"
     },
     "output_type": "display_data"
    }
   ],
   "source": [
    "for i,p in enumerate(range(NP)) :\n",
    "    fname = 'AR_' + '{:02d}'.format(p) + '.txt'\n",
    "    data=np.loadtxt(fname)\n",
    "    pl.plot(data)\n",
    "    pl.title('Process {}'.format(i))\n",
    "    pl.show()"
   ]
  },
  {
   "cell_type": "code",
   "execution_count": 214,
   "id": "2d1f0ef3",
   "metadata": {},
   "outputs": [
    {
     "name": "stdout",
     "output_type": "stream",
     "text": [
      "[5, 0, 4, 3, 1, 2]\n",
      "Reading Process from AR_00.txt\n",
      "Reading Process from AR_01.txt\n",
      "Reading Process from AR_02.txt\n",
      "Reading Process from AR_03.txt\n",
      "Reading Process from AR_04.txt\n",
      "Reading Process from AR_05.txt\n",
      "Slow down by -100.00%\n",
      "Slow down by -100.00%\n",
      "Slow down by -100.00%\n",
      "Slow down by -100.00%\n",
      "Slow down by -100.00%\n",
      "Slow down by -100.00%\n"
     ]
    }
   ],
   "source": [
    "# for algo in algos:\n",
    "#     print(f\"_________________________Algorithm {algo}______________________________\\n\")\n",
    "#     phys_mem = np.full((F, 2), INVALID).astype('int32')\n",
    "#     fifo_old_frames={}\n",
    "#     mru_recent_frames={}\n",
    "phys_mem_fifo_l = np.full((F, 2), INVALID).astype('int32')\n",
    "phys_mem_fifo_g = np.full((F, 2), INVALID).astype('int32')\n",
    "phys_mem_lru_l = np.full((F, 2), INVALID).astype('int32')\n",
    "phys_mem_lru_g = np.full((F, 2), INVALID).astype('int32')\n",
    "fifo_l=[]\n",
    "fifo_g=[]\n",
    "lru_l=[]\n",
    "lru_g=[]\n",
    "init_phys_mem()\n",
    "#     oldest_frame = 0\n",
    "#     recent_frame=0\n",
    "pr_que = init_proc_queue()\n",
    "pr_timing = np.zeros(F).astype('int32')\n",
    "IN_MEMORY = 1\n",
    "MEM_FAULT = 50\n",
    "PAGE_REPLACE = 100\n",
    "oldest_frame = 0\n",
    "recent_frame=0\n",
    "# Open necessary files\n",
    "infiles = list()\n",
    "outfiles = list()\n",
    "for i in range(NP):\n",
    "    fname = 'AR_{:02d}.txt'.format(i)\n",
    "#     outname = 'AR_{:02}_{}_out.txt'.format(i, algo)\n",
    "\n",
    "    if os.access(fname, os.R_OK):\n",
    "        print(f'Reading Process from {fname}')\n",
    "        infiles.append(open(fname, 'r'))\n",
    "    else:\n",
    "        print(f'Cannot open {fname} for reading')\n",
    "#     outfiles.append(open(outname, 'w'))\n",
    "\n",
    "# Map logical into physical addresses and keep track of page faults\n",
    "for pr in readq(pr_que):\n",
    "    rv = mem_manager(infiles[pr], pr)\n",
    "    if rv == INVALID:\n",
    "        print('Memory overflow error')\n",
    "        break\n",
    "    if rv == INCOMPLETE:\n",
    "        pr_que.put_nowait(pr)\n",
    "    else:\n",
    "#             print(f'Process {pr} (Size: {pr_size[pr]} Bytes) completed; \\\n",
    "#             removing from queue')\n",
    "#             print(f'Time taken: {pr_timing[pr]}')\n",
    "        slow = (pr_timing[pr] - pr_size[pr]) * 100.0 / pr_size[pr]\n",
    "        print('Slow down by {:.2f}%'.format(slow))\n",
    "#         print_phys_mem()\n",
    "        update_phys_mem(pr)\n",
    "\n",
    "#        print('Current Status of Physical Memory')\n",
    "#        print_phys_mem()\n",
    "\n",
    "# Close all files\n",
    "for i in range(NP):\n",
    "    infiles[i].close()\n",
    "#     outfiles[i].close()"
   ]
  },
  {
   "cell_type": "code",
   "execution_count": null,
   "id": "8c240f3f",
   "metadata": {},
   "outputs": [],
   "source": []
  },
  {
   "cell_type": "code",
   "execution_count": 215,
   "id": "079f8ecb",
   "metadata": {},
   "outputs": [],
   "source": [
    "# fig,axes=pl.subplots(2,3,figsize=(15,10))\n",
    "# axes=axes.ravel()[:5]\n",
    "# for algo,axs in zip(algos,axes):\n",
    "#     file_name='AR_00_{}_out.txt'.format(algo)\n",
    "#     file=open(file_name,'r')\n",
    "#     data=file.read()\n",
    "#     datas=np.array(data.split('\\n'))\n",
    "#     faults=[data[-1] for data in datas[:-1]]\n",
    "#     sns.countplot(x=faults,ax=axs)\n",
    "#     axs.set_title(\" {} {}\".format(algo,collections.Counter(faults)))"
   ]
  },
  {
   "cell_type": "code",
   "execution_count": 216,
   "id": "002dfbd1",
   "metadata": {},
   "outputs": [],
   "source": [
    "lru_l=np.array(lru_l)\n",
    "lru_g=np.array(lru_g)\n",
    "fifo_l=np.array(fifo_l)\n",
    "fifo_g=np.array(fifo_g)"
   ]
  },
  {
   "cell_type": "code",
   "execution_count": 217,
   "id": "16c45bef",
   "metadata": {},
   "outputs": [],
   "source": [
    "lru_l=lru_l[lru_l[:,0]==0][:,1]\n",
    "lru_g=lru_g[lru_g[:,0]==1][:,1]\n",
    "fifo_l=fifo_l[fifo_l[:,0]==1][:,1]\n",
    "fifo_g=fifo_g[fifo_g[:,0]==1][:,1]"
   ]
  },
  {
   "cell_type": "code",
   "execution_count": 218,
   "id": "ae5f08ce",
   "metadata": {},
   "outputs": [
    {
     "data": {
      "image/png": "[encoded data removed]",
      "text/plain": [
       "<Figure size 1080x720 with 4 Axes>"
      ]
     },
     "metadata": {
      "needs_background": "light"
     },
     "output_type": "display_data"
    }
   ],
   "source": [
    "faults_list=[lru_l,lru_g,fifo_l,fifo_g]\n",
    "fig,axes=pl.subplots(2,2,figsize=(15,10))\n",
    "axes=axes.ravel()\n",
    "for algo,fault,ax in zip(algos,faults_list,axes):\n",
    "    sns.countplot(x=fault,ax=ax)\n",
    "    ax.set_title(\" {} {}\".format(algo,collections.Counter(fault)))\n"
   ]
  },
  {
   "cell_type": "code",
   "execution_count": 219,
   "id": "3b03818d",
   "metadata": {},
   "outputs": [
    {
     "data": {
      "text/plain": [
       "[<matplotlib.lines.Line2D at 0x15823674070>]"
      ]
     },
     "execution_count": 219,
     "metadata": {},
     "output_type": "execute_result"
    },
    {
     "data": {
      "image/png": "[encoded data removed]",
      "text/plain": [
       "<Figure size 432x288 with 1 Axes>"
      ]
     },
     "metadata": {
      "needs_background": "light"
     },
     "output_type": "display_data"
    }
   ],
   "source": [
    "d=np.loadtxt('AR_02.txt')\n",
    "pl.plot(d)"
   ]
  },
  {
   "cell_type": "code",
   "execution_count": null,
   "id": "4fa87943",
   "metadata": {},
   "outputs": [],
   "source": []
  },
  {
   "cell_type": "code",
   "execution_count": null,
   "id": "befdf8c4",
   "metadata": {},
   "outputs": [],
   "source": []
  },
  {
   "cell_type": "code",
   "execution_count": null,
   "id": "339b64c7",
   "metadata": {},
   "outputs": [],
   "source": []
  },
  {
   "cell_type": "code",
   "execution_count": null,
   "id": "b13f96b4",
   "metadata": {},
   "outputs": [],
   "source": []
  },
  {
   "cell_type": "code",
   "execution_count": null,
   "id": "5e68f2e0",
   "metadata": {},
   "outputs": [],
   "source": []
  },
  {
   "cell_type": "code",
   "execution_count": null,
   "id": "6195d242",
   "metadata": {},
   "outputs": [],
   "source": []
  }
 ],
 "metadata": {
  "kernelspec": {
   "display_name": "Python 3",
   "language": "python",
   "name": "python3"
  },
  "language_info": {
   "codemirror_mode": {
    "name": "ipython",
    "version": 3
   },
   "file_extension": ".py",
   "mimetype": "text/x-python",
   "name": "python",
   "nbconvert_exporter": "python",
   "pygments_lexer": "ipython3",
   "version": "3.9.5"
  }
 },
 "nbformat": 4,
 "nbformat_minor": 5
}
