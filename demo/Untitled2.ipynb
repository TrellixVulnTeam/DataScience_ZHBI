{
 "cells": [
  {
   "cell_type": "code",
   "execution_count": 1,
   "metadata": {},
   "outputs": [],
   "source": [
    "import numpy as np"
   ]
  },
  {
   "cell_type": "code",
   "execution_count": 2,
   "metadata": {},
   "outputs": [],
   "source": [
    "a=np.arange(1000).reshape(-1,100)"
   ]
  },
  {
   "cell_type": "code",
   "execution_count": 20,
   "metadata": {},
   "outputs": [],
   "source": [
    "a=a.flatten()"
   ]
  },
  {
   "cell_type": "code",
   "execution_count": 21,
   "metadata": {},
   "outputs": [],
   "source": [
    "b=a.astype(int).ravel()"
   ]
  },
  {
   "cell_type": "code",
   "execution_count": 28,
   "metadata": {},
   "outputs": [
    {
     "data": {
      "text/plain": [
       "array([False])"
      ]
     },
     "execution_count": 28,
     "metadata": {},
     "output_type": "execute_result"
    }
   ],
   "source": [
    "c=np.equal(a,b)\n",
    "np.unique(c)\n"
   ]
  },
  {
   "cell_type": "code",
   "execution_count": 29,
   "metadata": {},
   "outputs": [],
   "source": [
    "def Sigmoid(X):\n",
    "    return 1.0/(1.0+np.exp(X))"
   ]
  },
  {
   "cell_type": "code",
   "execution_count": 30,
   "metadata": {},
   "outputs": [
    {
     "name": "stdout",
     "output_type": "stream",
     "text": [
      "[[0.04 0.08 0.09]\n",
      " [0.1  0.18 0.19]\n",
      " [0.16 0.28 0.29]]\n",
      "[[0.49000133 0.48001066 0.47751518]\n",
      " [0.47502081 0.45512111 0.45264238]\n",
      " [0.46008512 0.43045378 0.42800387]]\n"
     ]
    }
   ],
   "source": [
    "a=np.array([[0.1,0.2],[0.3,0.4],[0.5,0.6]])\n",
    "b=np.array([[0.2,0.1],[0.2,0.3],[0.1,0.4]])\n",
    "A1=np.dot(a,b.T)\n",
    "print(A1)\n",
    "H1=Sigmoid(A1)\n",
    "print(H1)"
   ]
  },
  {
   "cell_type": "code",
   "execution_count": 43,
   "metadata": {},
   "outputs": [
    {
     "name": "stdout",
     "output_type": "stream",
     "text": [
      "[0.38600754 0.36907531 0.35227246]\n"
     ]
    },
    {
     "data": {
      "text/plain": [
       "array([0.40467877, 0.40876448, 0.41283146])"
      ]
     },
     "execution_count": 43,
     "metadata": {},
     "output_type": "execute_result"
    }
   ],
   "source": [
    "c=np.array([0.3,0.1,0.4])\n",
    "A2=np.dot(H1,c.T)\n",
    "print(A2)\n",
    "H2=Sigmoid(A2)\n",
    "H2"
   ]
  },
  {
   "cell_type": "code",
   "execution_count": 51,
   "metadata": {},
   "outputs": [
    {
     "data": {
      "text/plain": [
       "array([[0.40467877],\n",
       "       [0.40876448],\n",
       "       [0.41283146]])"
      ]
     },
     "execution_count": 51,
     "metadata": {},
     "output_type": "execute_result"
    }
   ],
   "source": [
    "H2=H2.reshape(-1,1) if (H2.ndim==1) else H2\n",
    "H2"
   ]
  },
  {
   "cell_type": "code",
   "execution_count": 57,
   "metadata": {},
   "outputs": [
    {
     "data": {
      "text/plain": [
       "array([[0.12311663, 0.22154472, 0.23380747]])"
      ]
     },
     "execution_count": 57,
     "metadata": {},
     "output_type": "execute_result"
    }
   ],
   "source": [
    "np.dot(H2.T,A1)"
   ]
  }
 ],
 "metadata": {
  "kernelspec": {
   "display_name": "Python 3",
   "language": "python",
   "name": "python3"
  },
  "language_info": {
   "codemirror_mode": {
    "name": "ipython",
    "version": 3
   },
   "file_extension": ".py",
   "mimetype": "text/x-python",
   "name": "python",
   "nbconvert_exporter": "python",
   "pygments_lexer": "ipython3",
   "version": "3.7.6"
  }
 },
 "nbformat": 4,
 "nbformat_minor": 4
}
