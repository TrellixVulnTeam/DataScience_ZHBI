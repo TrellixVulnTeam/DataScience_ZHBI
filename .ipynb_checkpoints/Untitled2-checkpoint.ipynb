{
 "cells": [
  {
   "cell_type": "code",
   "execution_count": 22,
   "metadata": {},
   "outputs": [],
   "source": [
    "import numpy as np\n",
    "a=np.random.randint(1,10,10)"
   ]
  },
  {
   "cell_type": "code",
   "execution_count": 23,
   "metadata": {},
   "outputs": [
    {
     "data": {
      "text/plain": [
       "array([9, 7, 5, 2, 5, 9, 5, 9, 6, 6])"
      ]
     },
     "execution_count": 23,
     "metadata": {},
     "output_type": "execute_result"
    }
   ],
   "source": [
    "a"
   ]
  },
  {
   "cell_type": "code",
   "execution_count": 24,
   "metadata": {},
   "outputs": [],
   "source": [
    "avg=np.mean(a).astype(int)"
   ]
  },
  {
   "cell_type": "code",
   "execution_count": 25,
   "metadata": {},
   "outputs": [
    {
     "data": {
      "text/plain": [
       "6"
      ]
     },
     "execution_count": 25,
     "metadata": {},
     "output_type": "execute_result"
    }
   ],
   "source": [
    "avg"
   ]
  },
  {
   "cell_type": "code",
   "execution_count": 26,
   "metadata": {},
   "outputs": [],
   "source": [
    "count=0\n",
    "for i in a:\n",
    "    if avg==i:\n",
    "        count+=1"
   ]
  },
  {
   "cell_type": "code",
   "execution_count": 27,
   "metadata": {},
   "outputs": [
    {
     "data": {
      "text/plain": [
       "2"
      ]
     },
     "execution_count": 27,
     "metadata": {},
     "output_type": "execute_result"
    }
   ],
   "source": [
    "count"
   ]
  },
  {
   "cell_type": "code",
   "execution_count": 29,
   "metadata": {},
   "outputs": [],
   "source": [
    "email='rissuuuu@gmail.com'"
   ]
  },
  {
   "cell_type": "code",
   "execution_count": 35,
   "metadata": {},
   "outputs": [],
   "source": [
    "a=email.split('@')"
   ]
  },
  {
   "cell_type": "code",
   "execution_count": 38,
   "metadata": {},
   "outputs": [],
   "source": [
    "emails=['ghi@hotmail.com', 'def@yahoo.com', \n",
    "        'ghi@gmail.com', 'abc@channelier.com', \n",
    "        'abc@hotmail.com', 'def@hotmail.com', \n",
    "        'abc@gmail.com', 'abc@yahoo.com', 'def@channelier.com'\n",
    "        ,'jkl@hotmail.com', 'ghi@yahoo.com', 'def@gmail.com'\n",
    "       ]"
   ]
  },
  {
   "cell_type": "code",
   "execution_count": 183,
   "metadata": {},
   "outputs": [
    {
     "data": {
      "text/plain": [
       "array([['abc', 'channelier.com'],\n",
       "       ['def', 'channelier.com'],\n",
       "       ['ghi', 'gmail.com'],\n",
       "       ['abc', 'gmail.com'],\n",
       "       ['def', 'gmail.com'],\n",
       "       ['ghi', 'hotmail.com'],\n",
       "       ['abc', 'hotmail.com'],\n",
       "       ['def', 'hotmail.com'],\n",
       "       ['jkl', 'hotmail.com'],\n",
       "       ['def', 'yahoo.com'],\n",
       "       ['abc', 'yahoo.com'],\n",
       "       ['ghi', 'yahoo.com']], dtype='<U14')"
      ]
     },
     "execution_count": 183,
     "metadata": {},
     "output_type": "execute_result"
    }
   ],
   "source": [
    "splitted=[]\n",
    "for i in emails:\n",
    "    splitted.append(i.split('@'))\n",
    "\n",
    "splitted.sort(key=lambda x: x[1])\n",
    "splitted=np.array(splitted)\n",
    "splitted"
   ]
  },
  {
   "cell_type": "code",
   "execution_count": 96,
   "metadata": {},
   "outputs": [
    {
     "name": "stdout",
     "output_type": "stream",
     "text": [
      "{'channelier.com': [array([['abc', 'channelier.com'],\n",
      "       ['def', 'channelier.com']], dtype='<U14')], 'gmail.com': [array([['ghi', 'gmail.com'],\n",
      "       ['abc', 'gmail.com'],\n",
      "       ['def', 'gmail.com']], dtype='<U14')], 'hotmail.com': [array([['ghi', 'hotmail.com'],\n",
      "       ['abc', 'hotmail.com'],\n",
      "       ['def', 'hotmail.com'],\n",
      "       ['jkl', 'hotmail.com']], dtype='<U14')], 'yahoo.com': [array([['def', 'yahoo.com'],\n",
      "       ['abc', 'yahoo.com'],\n",
      "       ['ghi', 'yahoo.com']], dtype='<U14')]}\n"
     ]
    }
   ],
   "source": [
    "groups=dict()\n",
    "unique=np.unique(splitted[:,1])\n",
    "for i in range(len(unique)):\n",
    "    groups[unique[i]]=list()\n",
    "    temp=splitted[splitted[:,1]==unique[i]]\n",
    "    groups[unique[i]].append(temp)\n",
    "print(groups)"
   ]
  },
  {
   "cell_type": "code",
   "execution_count": 222,
   "metadata": {},
   "outputs": [],
   "source": [
    "a=[splitted[splitted[:,1]==unique[i]] for i in range(len(unique))]"
   ]
  },
  {
   "cell_type": "code",
   "execution_count": 232,
   "metadata": {},
   "outputs": [],
   "source": [
    "array=[]\n",
    "for i in range(len(a)):\n",
    "    temp=a[i]\n",
    "    temp.sort(axis=0)\n",
    "    array.append(temp)"
   ]
  },
  {
   "cell_type": "code",
   "execution_count": null,
   "metadata": {},
   "outputs": [],
   "source": []
  },
  {
   "cell_type": "code",
   "execution_count": 252,
   "metadata": {},
   "outputs": [
    {
     "name": "stdout",
     "output_type": "stream",
     "text": [
      "abc@channelier.com\n",
      "def@channelier.com\n",
      "abc@gmail.com\n",
      "def@gmail.com\n",
      "ghi@gmail.com\n",
      "abc@hotmail.com\n",
      "def@hotmail.com\n",
      "ghi@hotmail.com\n",
      "jkl@hotmail.com\n",
      "abc@yahoo.com\n",
      "def@yahoo.com\n",
      "ghi@yahoo.com\n"
     ]
    }
   ],
   "source": [
    "def sendmail(array):\n",
    "    for i in range(len(array)):\n",
    "        for j in range(len(array[i])):\n",
    "            mail=np.array(array[i][j][0]+\"@\"+array[i][j][1])\n",
    "            print(mail)\n",
    "    return mail\n",
    "mail=sendmail(array)"
   ]
  },
  {
   "cell_type": "code",
   "execution_count": null,
   "metadata": {},
   "outputs": [],
   "source": []
  },
  {
   "cell_type": "code",
   "execution_count": null,
   "metadata": {},
   "outputs": [],
   "source": []
  },
  {
   "cell_type": "code",
   "execution_count": null,
   "metadata": {},
   "outputs": [],
   "source": []
  },
  {
   "cell_type": "code",
   "execution_count": null,
   "metadata": {},
   "outputs": [],
   "source": []
  },
  {
   "cell_type": "code",
   "execution_count": null,
   "metadata": {},
   "outputs": [],
   "source": []
  }
 ],
 "metadata": {
  "kernelspec": {
   "display_name": "Python 3",
   "language": "python",
   "name": "python3"
  },
  "language_info": {
   "codemirror_mode": {
    "name": "ipython",
    "version": 3
   },
   "file_extension": ".py",
   "mimetype": "text/x-python",
   "name": "python",
   "nbconvert_exporter": "python",
   "pygments_lexer": "ipython3",
   "version": "3.7.7"
  }
 },
 "nbformat": 4,
 "nbformat_minor": 4
}
