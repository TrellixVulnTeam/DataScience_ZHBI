{
 "cells": [
  {
   "cell_type": "code",
   "execution_count": 173,
   "metadata": {},
   "outputs": [],
   "source": [
    "import torch\n",
    "import pandas as pd\n",
    "import numpy as np\n",
    "import torch.nn as nn\n",
    "import torch.nn.parallel\n",
    "import torch.optim as optim\n",
    "import torch.utils.data\n",
    "from torch.autograd import Variable\n",
    "import seaborn as sns\n",
    "import matplotlib.pyplot as pl"
   ]
  },
  {
   "cell_type": "code",
   "execution_count": 174,
   "metadata": {},
   "outputs": [],
   "source": [
    "movies=pd.read_csv('movies.dat',sep='::',\n",
    "                  header=None,\n",
    "                  engine='python',\n",
    "                  encoding='latin-1'\n",
    "                  )\n",
    "users=pd.read_csv('users.dat',sep='::',\n",
    "                  header=None,\n",
    "                  engine='python',\n",
    "                  encoding='latin-1'\n",
    "                  )\n",
    "ratings=pd.read_csv('ratings.dat',sep='::',\n",
    "                  header=None,\n",
    "                  engine='python',\n",
    "                  encoding='latin-1'\n",
    "                  )"
   ]
  },
  {
   "cell_type": "code",
   "execution_count": 175,
   "metadata": {},
   "outputs": [
    {
     "data": {
      "text/html": [
       "<div>\n",
       "<style scoped>\n",
       "    .dataframe tbody tr th:only-of-type {\n",
       "        vertical-align: middle;\n",
       "    }\n",
       "\n",
       "    .dataframe tbody tr th {\n",
       "        vertical-align: top;\n",
       "    }\n",
       "\n",
       "    .dataframe thead th {\n",
       "        text-align: right;\n",
       "    }\n",
       "</style>\n",
       "<table border=\"1\" class=\"dataframe\">\n",
       "  <thead>\n",
       "    <tr style=\"text-align: right;\">\n",
       "      <th></th>\n",
       "      <th>0</th>\n",
       "      <th>1</th>\n",
       "      <th>2</th>\n",
       "    </tr>\n",
       "  </thead>\n",
       "  <tbody>\n",
       "    <tr>\n",
       "      <th>0</th>\n",
       "      <td>1</td>\n",
       "      <td>Toy Story (1995)</td>\n",
       "      <td>Animation|Children's|Comedy</td>\n",
       "    </tr>\n",
       "    <tr>\n",
       "      <th>1</th>\n",
       "      <td>2</td>\n",
       "      <td>Jumanji (1995)</td>\n",
       "      <td>Adventure|Children's|Fantasy</td>\n",
       "    </tr>\n",
       "    <tr>\n",
       "      <th>2</th>\n",
       "      <td>3</td>\n",
       "      <td>Grumpier Old Men (1995)</td>\n",
       "      <td>Comedy|Romance</td>\n",
       "    </tr>\n",
       "    <tr>\n",
       "      <th>3</th>\n",
       "      <td>4</td>\n",
       "      <td>Waiting to Exhale (1995)</td>\n",
       "      <td>Comedy|Drama</td>\n",
       "    </tr>\n",
       "    <tr>\n",
       "      <th>4</th>\n",
       "      <td>5</td>\n",
       "      <td>Father of the Bride Part II (1995)</td>\n",
       "      <td>Comedy</td>\n",
       "    </tr>\n",
       "  </tbody>\n",
       "</table>\n",
       "</div>"
      ],
      "text/plain": [
       "   0                                   1                             2\n",
       "0  1                    Toy Story (1995)   Animation|Children's|Comedy\n",
       "1  2                      Jumanji (1995)  Adventure|Children's|Fantasy\n",
       "2  3             Grumpier Old Men (1995)                Comedy|Romance\n",
       "3  4            Waiting to Exhale (1995)                  Comedy|Drama\n",
       "4  5  Father of the Bride Part II (1995)                        Comedy"
      ]
     },
     "execution_count": 175,
     "metadata": {},
     "output_type": "execute_result"
    }
   ],
   "source": [
    "movies.head()"
   ]
  },
  {
   "cell_type": "code",
   "execution_count": 176,
   "metadata": {},
   "outputs": [
    {
     "data": {
      "text/html": [
       "<div>\n",
       "<style scoped>\n",
       "    .dataframe tbody tr th:only-of-type {\n",
       "        vertical-align: middle;\n",
       "    }\n",
       "\n",
       "    .dataframe tbody tr th {\n",
       "        vertical-align: top;\n",
       "    }\n",
       "\n",
       "    .dataframe thead th {\n",
       "        text-align: right;\n",
       "    }\n",
       "</style>\n",
       "<table border=\"1\" class=\"dataframe\">\n",
       "  <thead>\n",
       "    <tr style=\"text-align: right;\">\n",
       "      <th></th>\n",
       "      <th>0</th>\n",
       "      <th>1</th>\n",
       "      <th>2</th>\n",
       "      <th>3</th>\n",
       "      <th>4</th>\n",
       "    </tr>\n",
       "  </thead>\n",
       "  <tbody>\n",
       "    <tr>\n",
       "      <th>0</th>\n",
       "      <td>1</td>\n",
       "      <td>F</td>\n",
       "      <td>1</td>\n",
       "      <td>10</td>\n",
       "      <td>48067</td>\n",
       "    </tr>\n",
       "    <tr>\n",
       "      <th>1</th>\n",
       "      <td>2</td>\n",
       "      <td>M</td>\n",
       "      <td>56</td>\n",
       "      <td>16</td>\n",
       "      <td>70072</td>\n",
       "    </tr>\n",
       "    <tr>\n",
       "      <th>2</th>\n",
       "      <td>3</td>\n",
       "      <td>M</td>\n",
       "      <td>25</td>\n",
       "      <td>15</td>\n",
       "      <td>55117</td>\n",
       "    </tr>\n",
       "    <tr>\n",
       "      <th>3</th>\n",
       "      <td>4</td>\n",
       "      <td>M</td>\n",
       "      <td>45</td>\n",
       "      <td>7</td>\n",
       "      <td>02460</td>\n",
       "    </tr>\n",
       "    <tr>\n",
       "      <th>4</th>\n",
       "      <td>5</td>\n",
       "      <td>M</td>\n",
       "      <td>25</td>\n",
       "      <td>20</td>\n",
       "      <td>55455</td>\n",
       "    </tr>\n",
       "  </tbody>\n",
       "</table>\n",
       "</div>"
      ],
      "text/plain": [
       "   0  1   2   3      4\n",
       "0  1  F   1  10  48067\n",
       "1  2  M  56  16  70072\n",
       "2  3  M  25  15  55117\n",
       "3  4  M  45   7  02460\n",
       "4  5  M  25  20  55455"
      ]
     },
     "execution_count": 176,
     "metadata": {},
     "output_type": "execute_result"
    }
   ],
   "source": [
    "users.head()"
   ]
  },
  {
   "cell_type": "code",
   "execution_count": 177,
   "metadata": {},
   "outputs": [
    {
     "data": {
      "text/html": [
       "<div>\n",
       "<style scoped>\n",
       "    .dataframe tbody tr th:only-of-type {\n",
       "        vertical-align: middle;\n",
       "    }\n",
       "\n",
       "    .dataframe tbody tr th {\n",
       "        vertical-align: top;\n",
       "    }\n",
       "\n",
       "    .dataframe thead th {\n",
       "        text-align: right;\n",
       "    }\n",
       "</style>\n",
       "<table border=\"1\" class=\"dataframe\">\n",
       "  <thead>\n",
       "    <tr style=\"text-align: right;\">\n",
       "      <th></th>\n",
       "      <th>0</th>\n",
       "      <th>1</th>\n",
       "      <th>2</th>\n",
       "      <th>3</th>\n",
       "    </tr>\n",
       "  </thead>\n",
       "  <tbody>\n",
       "    <tr>\n",
       "      <th>0</th>\n",
       "      <td>1</td>\n",
       "      <td>1193</td>\n",
       "      <td>5</td>\n",
       "      <td>978300760</td>\n",
       "    </tr>\n",
       "    <tr>\n",
       "      <th>1</th>\n",
       "      <td>1</td>\n",
       "      <td>661</td>\n",
       "      <td>3</td>\n",
       "      <td>978302109</td>\n",
       "    </tr>\n",
       "    <tr>\n",
       "      <th>2</th>\n",
       "      <td>1</td>\n",
       "      <td>914</td>\n",
       "      <td>3</td>\n",
       "      <td>978301968</td>\n",
       "    </tr>\n",
       "    <tr>\n",
       "      <th>3</th>\n",
       "      <td>1</td>\n",
       "      <td>3408</td>\n",
       "      <td>4</td>\n",
       "      <td>978300275</td>\n",
       "    </tr>\n",
       "    <tr>\n",
       "      <th>4</th>\n",
       "      <td>1</td>\n",
       "      <td>2355</td>\n",
       "      <td>5</td>\n",
       "      <td>978824291</td>\n",
       "    </tr>\n",
       "  </tbody>\n",
       "</table>\n",
       "</div>"
      ],
      "text/plain": [
       "   0     1  2          3\n",
       "0  1  1193  5  978300760\n",
       "1  1   661  3  978302109\n",
       "2  1   914  3  978301968\n",
       "3  1  3408  4  978300275\n",
       "4  1  2355  5  978824291"
      ]
     },
     "execution_count": 177,
     "metadata": {},
     "output_type": "execute_result"
    }
   ],
   "source": [
    "ratings.head()"
   ]
  },
  {
   "cell_type": "code",
   "execution_count": 178,
   "metadata": {},
   "outputs": [
    {
     "data": {
      "text/plain": [
       "((3883, 3), (6040, 5), (3883, 3))"
      ]
     },
     "execution_count": 178,
     "metadata": {},
     "output_type": "execute_result"
    }
   ],
   "source": [
    "movies.shape,users.shape,movies.shape"
   ]
  },
  {
   "cell_type": "code",
   "execution_count": 179,
   "metadata": {},
   "outputs": [
    {
     "data": {
      "text/plain": [
       "1\n",
       "2858    3428\n",
       "260     2991\n",
       "1196    2990\n",
       "1210    2883\n",
       "480     2672\n",
       "2028    2653\n",
       "589     2649\n",
       "2571    2590\n",
       "1270    2583\n",
       "593     2578\n",
       "Name: 2, dtype: int64"
      ]
     },
     "execution_count": 179,
     "metadata": {},
     "output_type": "execute_result"
    }
   ],
   "source": [
    "ratings.groupby(1)[2].count().sort_values(ascending=False).head(10)"
   ]
  },
  {
   "cell_type": "code",
   "execution_count": 180,
   "metadata": {},
   "outputs": [
    {
     "data": {
      "image/png": "[encoded data removed]",
      "text/plain": [
       "<Figure size 432x288 with 1 Axes>"
      ]
     },
     "metadata": {
      "needs_background": "light"
     },
     "output_type": "display_data"
    }
   ],
   "source": [
    "sns.countplot(ratings[2])\n",
    "pl.grid()"
   ]
  },
  {
   "cell_type": "code",
   "execution_count": 181,
   "metadata": {},
   "outputs": [
    {
     "data": {
      "image/png": "[encoded data removed]",
      "text/plain": [
       "<Figure size 432x288 with 1 Axes>"
      ]
     },
     "metadata": {
      "needs_background": "light"
     },
     "output_type": "display_data"
    }
   ],
   "source": [
    "sns.countplot(users[1])\n",
    "pl.grid()"
   ]
  },
  {
   "cell_type": "code",
   "execution_count": 182,
   "metadata": {},
   "outputs": [],
   "source": [
    "training_set=pd.read_csv('u1.base',delimiter='\\t',names=['User','Movie','Rating','Timestamp'])\n",
    "training_set=np.array(training_set,dtype='int')\n",
    "test_set=pd.read_csv('u1.test',delimiter='\\t',names=['User','Movie','Rating','Timestamp'])\n",
    "test_set=np.array(test_set,dtype='int')"
   ]
  },
  {
   "cell_type": "code",
   "execution_count": 183,
   "metadata": {},
   "outputs": [
    {
     "data": {
      "text/plain": [
       "array([[        1,         1,         5, 874965758],\n",
       "       [        1,         2,         3, 876893171],\n",
       "       [        1,         3,         4, 878542960],\n",
       "       ...,\n",
       "       [      943,      1188,         3, 888640250],\n",
       "       [      943,      1228,         3, 888640275],\n",
       "       [      943,      1330,         3, 888692465]])"
      ]
     },
     "execution_count": 183,
     "metadata": {},
     "output_type": "execute_result"
    }
   ],
   "source": [
    "training_set"
   ]
  },
  {
   "cell_type": "code",
   "execution_count": 184,
   "metadata": {},
   "outputs": [
    {
     "data": {
      "text/plain": [
       "array([[        1,         6,         5, 887431973],\n",
       "       [        1,        10,         3, 875693118],\n",
       "       [        1,        12,         5, 878542960],\n",
       "       ...,\n",
       "       [      459,       934,         3, 879563639],\n",
       "       [      460,        10,         3, 882912371],\n",
       "       [      462,       682,         5, 886365231]])"
      ]
     },
     "execution_count": 184,
     "metadata": {},
     "output_type": "execute_result"
    }
   ],
   "source": [
    "test_set"
   ]
  },
  {
   "cell_type": "code",
   "execution_count": 185,
   "metadata": {},
   "outputs": [
    {
     "data": {
      "text/plain": [
       "943"
      ]
     },
     "execution_count": 185,
     "metadata": {},
     "output_type": "execute_result"
    }
   ],
   "source": [
    "nb_users=max(max(training_set[:,0]),max(test_set[:,0]))\n",
    "nb_users=int(nb_users)\n",
    "nb_users"
   ]
  },
  {
   "cell_type": "code",
   "execution_count": 186,
   "metadata": {},
   "outputs": [
    {
     "data": {
      "text/plain": [
       "1682"
      ]
     },
     "execution_count": 186,
     "metadata": {},
     "output_type": "execute_result"
    }
   ],
   "source": [
    "nb_movies=max(max(training_set[:,1]),max(test_set[:,1]))\n",
    "nb_movies=int(nb_movies)\n",
    "nb_movies"
   ]
  },
  {
   "cell_type": "code",
   "execution_count": 187,
   "metadata": {},
   "outputs": [],
   "source": [
    "# def convert(df):\n",
    "#     a=pd.pivot_table(data=df,\n",
    "#                    index='User',\n",
    "#                    columns='Movie',\n",
    "#                    values='Rating'\n",
    "#                   )\n",
    "#     a.fillna(0.0,inplace=True)\n",
    "#     a=np.array(a)\n",
    "# #     a=a.values\n",
    "#     return a"
   ]
  },
  {
   "cell_type": "code",
   "execution_count": 188,
   "metadata": {},
   "outputs": [],
   "source": [
    "def convert(data):\n",
    "    new_data=[]\n",
    "    for id_users in range(1,nb_users+1):\n",
    "        id_movies=data[:,1][data[:,0]==id_users]\n",
    "        id_ratings=data[:,2][data[:,0]==id_users]\n",
    "        ratings=np.zeros(nb_movies)\n",
    "        ratings[id_movies-1]=id_ratings\n",
    "        new_data.append(list(ratings))\n",
    "    return new_data"
   ]
  },
  {
   "cell_type": "code",
   "execution_count": 189,
   "metadata": {},
   "outputs": [],
   "source": [
    "training_set=convert(training_set)\n",
    "test_set=convert(test_set)"
   ]
  },
  {
   "cell_type": "code",
   "execution_count": 190,
   "metadata": {},
   "outputs": [],
   "source": [
    "training_set=torch.FloatTensor(training_set)\n",
    "test_set=torch.FloatTensor(test_set)"
   ]
  },
  {
   "cell_type": "code",
   "execution_count": 193,
   "metadata": {},
   "outputs": [],
   "source": [
    "class SAE(nn.Module):\n",
    "    def __init__(self,):\n",
    "        super(SAE,self).__init__()\n",
    "        self.fc1=nn.Linear(nb_movies,20)\n",
    "        self.fc2=nn.Linear(20,10)\n",
    "        self.fc3=nn.Linear(10,20)\n",
    "        self.fc4=nn.Linear(20,nb_movies)\n",
    "        self.activation=nn.Sigmoid()\n",
    "    def forward(self,x):\n",
    "        x=self.activation(self.fc1(x))\n",
    "        x=self.activation(self.fc2(x))\n",
    "        x=self.activation(self.fc3(x))\n",
    "        x=self.fc4(x)     \n",
    "        return x\n",
    "        \n",
    "sae=SAE()\n",
    "criterian=nn.MSELoss()\n",
    "optimizer=optim.RMSprop(sae.parameters(),lr=0.01,\n",
    "                       weight_decay=0.5)"
   ]
  },
  {
   "cell_type": "code",
   "execution_count": 195,
   "metadata": {},
   "outputs": [
    {
     "name": "stdout",
     "output_type": "stream",
     "text": [
      "epoch: 1loss: tensor(1.7717)\n",
      "epoch: 2loss: tensor(1.0967)\n",
      "epoch: 3loss: tensor(1.0533)\n",
      "epoch: 4loss: tensor(1.0384)\n",
      "epoch: 5loss: tensor(1.0308)\n",
      "epoch: 6loss: tensor(1.0265)\n",
      "epoch: 7loss: tensor(1.0237)\n",
      "epoch: 8loss: tensor(1.0219)\n",
      "epoch: 9loss: tensor(1.0206)\n",
      "epoch: 10loss: tensor(1.0196)\n",
      "epoch: 11loss: tensor(1.0188)\n",
      "epoch: 12loss: tensor(1.0183)\n",
      "epoch: 13loss: tensor(1.0180)\n",
      "epoch: 14loss: tensor(1.0174)\n",
      "epoch: 15loss: tensor(1.0173)\n",
      "epoch: 16loss: tensor(1.0169)\n",
      "epoch: 17loss: tensor(1.0166)\n",
      "epoch: 18loss: tensor(1.0163)\n",
      "epoch: 19loss: tensor(1.0163)\n",
      "epoch: 20loss: tensor(1.0162)\n",
      "epoch: 21loss: tensor(1.0161)\n",
      "epoch: 22loss: tensor(1.0162)\n",
      "epoch: 23loss: tensor(1.0158)\n",
      "epoch: 24loss: tensor(1.0158)\n",
      "epoch: 25loss: tensor(1.0158)\n",
      "epoch: 26loss: tensor(1.0156)\n",
      "epoch: 27loss: tensor(1.0152)\n",
      "epoch: 28loss: tensor(1.0150)\n",
      "epoch: 29loss: tensor(1.0129)\n",
      "epoch: 30loss: tensor(1.0115)\n",
      "epoch: 31loss: tensor(1.0096)\n",
      "epoch: 32loss: tensor(1.0089)\n",
      "epoch: 33loss: tensor(1.0051)\n",
      "epoch: 34loss: tensor(1.0045)\n",
      "epoch: 35loss: tensor(1.0013)\n",
      "epoch: 36loss: tensor(1.0002)\n",
      "epoch: 37loss: tensor(0.9978)\n",
      "epoch: 38loss: tensor(0.9967)\n",
      "epoch: 39loss: tensor(0.9929)\n",
      "epoch: 40loss: tensor(0.9918)\n",
      "epoch: 41loss: tensor(0.9921)\n",
      "epoch: 42loss: tensor(0.9890)\n",
      "epoch: 43loss: tensor(0.9859)\n",
      "epoch: 44loss: tensor(0.9866)\n",
      "epoch: 45loss: tensor(0.9847)\n",
      "epoch: 46loss: tensor(0.9815)\n",
      "epoch: 47loss: tensor(0.9794)\n",
      "epoch: 48loss: tensor(0.9810)\n",
      "epoch: 49loss: tensor(0.9758)\n",
      "epoch: 50loss: tensor(0.9749)\n",
      "epoch: 51loss: tensor(0.9696)\n",
      "epoch: 52loss: tensor(0.9709)\n",
      "epoch: 53loss: tensor(0.9706)\n",
      "epoch: 54loss: tensor(0.9751)\n",
      "epoch: 55loss: tensor(0.9784)\n",
      "epoch: 56loss: tensor(0.9765)\n",
      "epoch: 57loss: tensor(0.9721)\n",
      "epoch: 58loss: tensor(0.9702)\n",
      "epoch: 59loss: tensor(0.9675)\n",
      "epoch: 60loss: tensor(0.9679)\n",
      "epoch: 61loss: tensor(0.9637)\n",
      "epoch: 62loss: tensor(0.9659)\n",
      "epoch: 63loss: tensor(0.9631)\n",
      "epoch: 64loss: tensor(0.9628)\n",
      "epoch: 65loss: tensor(0.9597)\n",
      "epoch: 66loss: tensor(0.9587)\n",
      "epoch: 67loss: tensor(0.9564)\n",
      "epoch: 68loss: tensor(0.9566)\n",
      "epoch: 69loss: tensor(0.9560)\n",
      "epoch: 70loss: tensor(0.9558)\n",
      "epoch: 71loss: tensor(0.9540)\n",
      "epoch: 72loss: tensor(0.9521)\n",
      "epoch: 73loss: tensor(0.9512)\n",
      "epoch: 74loss: tensor(0.9515)\n",
      "epoch: 75loss: tensor(0.9481)\n",
      "epoch: 76loss: tensor(0.9568)\n",
      "epoch: 77loss: tensor(0.9536)\n",
      "epoch: 78loss: tensor(0.9546)\n",
      "epoch: 79loss: tensor(0.9518)\n",
      "epoch: 80loss: tensor(0.9523)\n",
      "epoch: 81loss: tensor(0.9492)\n",
      "epoch: 82loss: tensor(0.9517)\n",
      "epoch: 83loss: tensor(0.9489)\n",
      "epoch: 84loss: tensor(0.9508)\n",
      "epoch: 85loss: tensor(0.9491)\n",
      "epoch: 86loss: tensor(0.9487)\n",
      "epoch: 87loss: tensor(0.9481)\n",
      "epoch: 88loss: tensor(0.9447)\n",
      "epoch: 89loss: tensor(0.9436)\n",
      "epoch: 90loss: tensor(0.9442)\n",
      "epoch: 91loss: tensor(0.9420)\n",
      "epoch: 92loss: tensor(0.9430)\n",
      "epoch: 93loss: tensor(0.9414)\n",
      "epoch: 94loss: tensor(0.9524)\n",
      "epoch: 95loss: tensor(0.9542)\n",
      "epoch: 96loss: tensor(0.9554)\n",
      "epoch: 97loss: tensor(0.9518)\n",
      "epoch: 98loss: tensor(0.9497)\n",
      "epoch: 99loss: tensor(0.9505)\n",
      "epoch: 100loss: tensor(0.9536)\n",
      "epoch: 101loss: tensor(0.9488)\n",
      "epoch: 102loss: tensor(0.9482)\n",
      "epoch: 103loss: tensor(0.9438)\n",
      "epoch: 104loss: tensor(0.9443)\n",
      "epoch: 105loss: tensor(0.9407)\n",
      "epoch: 106loss: tensor(0.9420)\n",
      "epoch: 107loss: tensor(0.9391)\n",
      "epoch: 108loss: tensor(0.9416)\n",
      "epoch: 109loss: tensor(0.9385)\n",
      "epoch: 110loss: tensor(0.9416)\n",
      "epoch: 111loss: tensor(0.9381)\n",
      "epoch: 112loss: tensor(0.9388)\n",
      "epoch: 113loss: tensor(0.9385)\n",
      "epoch: 114loss: tensor(0.9387)\n",
      "epoch: 115loss: tensor(0.9365)\n",
      "epoch: 116loss: tensor(0.9396)\n",
      "epoch: 117loss: tensor(0.9356)\n",
      "epoch: 118loss: tensor(0.9369)\n",
      "epoch: 119loss: tensor(0.9356)\n",
      "epoch: 120loss: tensor(0.9360)\n",
      "epoch: 121loss: tensor(0.9349)\n",
      "epoch: 122loss: tensor(0.9343)\n",
      "epoch: 123loss: tensor(0.9329)\n",
      "epoch: 124loss: tensor(0.9337)\n",
      "epoch: 125loss: tensor(0.9319)\n",
      "epoch: 126loss: tensor(0.9325)\n",
      "epoch: 127loss: tensor(0.9312)\n",
      "epoch: 128loss: tensor(0.9320)\n",
      "epoch: 129loss: tensor(0.9308)\n",
      "epoch: 130loss: tensor(0.9307)\n",
      "epoch: 131loss: tensor(0.9295)\n",
      "epoch: 132loss: tensor(0.9304)\n",
      "epoch: 133loss: tensor(0.9287)\n",
      "epoch: 134loss: tensor(0.9304)\n",
      "epoch: 135loss: tensor(0.9359)\n",
      "epoch: 136loss: tensor(0.9384)\n",
      "epoch: 137loss: tensor(0.9373)\n",
      "epoch: 138loss: tensor(0.9353)\n",
      "epoch: 139loss: tensor(0.9369)\n",
      "epoch: 140loss: tensor(0.9360)\n",
      "epoch: 141loss: tensor(0.9324)\n",
      "epoch: 142loss: tensor(0.9326)\n",
      "epoch: 143loss: tensor(0.9317)\n",
      "epoch: 144loss: tensor(0.9302)\n",
      "epoch: 145loss: tensor(0.9301)\n",
      "epoch: 146loss: tensor(0.9296)\n",
      "epoch: 147loss: tensor(0.9282)\n",
      "epoch: 148loss: tensor(0.9287)\n",
      "epoch: 149loss: tensor(0.9281)\n",
      "epoch: 150loss: tensor(0.9277)\n",
      "epoch: 151loss: tensor(0.9267)\n",
      "epoch: 152loss: tensor(0.9270)\n",
      "epoch: 153loss: tensor(0.9255)\n",
      "epoch: 154loss: tensor(0.9259)\n",
      "epoch: 155loss: tensor(0.9254)\n",
      "epoch: 156loss: tensor(0.9267)\n",
      "epoch: 157loss: tensor(0.9249)\n",
      "epoch: 158loss: tensor(0.9249)\n",
      "epoch: 159loss: tensor(0.9244)\n",
      "epoch: 160loss: tensor(0.9250)\n",
      "epoch: 161loss: tensor(0.9244)\n",
      "epoch: 162loss: tensor(0.9244)\n",
      "epoch: 163loss: tensor(0.9232)\n",
      "epoch: 164loss: tensor(0.9234)\n",
      "epoch: 165loss: tensor(0.9228)\n",
      "epoch: 166loss: tensor(0.9232)\n",
      "epoch: 167loss: tensor(0.9225)\n",
      "epoch: 168loss: tensor(0.9236)\n",
      "epoch: 169loss: tensor(0.9226)\n",
      "epoch: 170loss: tensor(0.9228)\n",
      "epoch: 171loss: tensor(0.9220)\n",
      "epoch: 172loss: tensor(0.9222)\n",
      "epoch: 173loss: tensor(0.9215)\n",
      "epoch: 174loss: tensor(0.9218)\n",
      "epoch: 175loss: tensor(0.9217)\n",
      "epoch: 176loss: tensor(0.9217)\n",
      "epoch: 177loss: tensor(0.9210)\n",
      "epoch: 178loss: tensor(0.9212)\n",
      "epoch: 179loss: tensor(0.9203)\n",
      "epoch: 180loss: tensor(0.9210)\n",
      "epoch: 181loss: tensor(0.9205)\n",
      "epoch: 182loss: tensor(0.9208)\n",
      "epoch: 183loss: tensor(0.9203)\n",
      "epoch: 184loss: tensor(0.9201)\n",
      "epoch: 185loss: tensor(0.9200)\n",
      "epoch: 186loss: tensor(0.9212)\n",
      "epoch: 187loss: tensor(0.9197)\n",
      "epoch: 188loss: tensor(0.9205)\n",
      "epoch: 189loss: tensor(0.9198)\n",
      "epoch: 190loss: tensor(0.9193)\n",
      "epoch: 191loss: tensor(0.9194)\n",
      "epoch: 192loss: tensor(0.9187)\n",
      "epoch: 193loss: tensor(0.9189)\n",
      "epoch: 194loss: tensor(0.9191)\n",
      "epoch: 195loss: tensor(0.9188)\n",
      "epoch: 196loss: tensor(0.9191)\n",
      "epoch: 197loss: tensor(0.9179)\n",
      "epoch: 198loss: tensor(0.9181)\n",
      "epoch: 199loss: tensor(0.9180)\n",
      "epoch: 200loss: tensor(0.9182)\n"
     ]
    }
   ],
   "source": [
    "nb_epoch = 200\n",
    "for epoch in range(1, nb_epoch + 1):\n",
    "    train_loss = 0\n",
    "    s = 0.\n",
    "    for id_user in range(nb_users):\n",
    "        input = Variable(training_set[id_user]).unsqueeze(0)\n",
    "        target = input.clone()\n",
    "        if torch.sum(target.data > 0) > 0:\n",
    "            output = sae(input)\n",
    "            target.require_grad = False\n",
    "            output[target == 0] = 0\n",
    "            loss = criterian(output, target)\n",
    "            mean_corrector = nb_movies/float(torch.sum(target.data > 0) + 1e-10)\n",
    "            loss.backward()\n",
    "            train_loss += np.sqrt(loss.data*mean_corrector)\n",
    "            s += 1.\n",
    "            optimizer.step()\n",
    "    print('epoch: '+str(epoch)+'loss: '+ str(train_loss/s))"
   ]
  },
  {
   "cell_type": "code",
   "execution_count": 207,
   "metadata": {},
   "outputs": [],
   "source": [
    "import keras\n",
    "from keras.datasets import mnist"
   ]
  },
  {
   "cell_type": "code",
   "execution_count": 208,
   "metadata": {},
   "outputs": [],
   "source": [
    "(X_train,_),(X_test,_)=mnist.load_data()\n"
   ]
  },
  {
   "cell_type": "code",
   "execution_count": 209,
   "metadata": {},
   "outputs": [],
   "source": [
    "import matplotlib.pyplot as pl"
   ]
  },
  {
   "cell_type": "code",
   "execution_count": 210,
   "metadata": {},
   "outputs": [],
   "source": [
    "X_train=(X_train/255).reshape(-1,784)\n",
    "X_test=(X_test/255).reshape(-1,784)"
   ]
  },
  {
   "cell_type": "code",
   "execution_count": 222,
   "metadata": {},
   "outputs": [],
   "source": [
    "def Sigmoid(z,d=False):\n",
    "    return Sigmoid(z)*(1-Sigmoid(z))+1e-12 if d else 1/(1+np.exp(-z))\n",
    "\n",
    "def Relu(z,d=False):\n",
    "    return (z>0)+1e-12 if d else z*(z>0)\n"
   ]
  },
  {
   "cell_type": "code",
   "execution_count": 227,
   "metadata": {},
   "outputs": [],
   "source": [
    "layers=[{'act':Relu,'shape':(1024,784)},\n",
    "       {'act':Relu,'shape':(50,1024)},\n",
    "       {'act':Relu,'shape':(1024,50)},\n",
    "       {'act':Sigmoid,'shape':(784,1024)}]"
   ]
  },
  {
   "cell_type": "code",
   "execution_count": 319,
   "metadata": {},
   "outputs": [],
   "source": [
    "l,errors,epochs=len(layers),[],30\n",
    "\n",
    "lr,b1,b2=0.002,0.9,0.999\n",
    "rw,mw,rb,mb={},{},{},{}\n",
    "\n",
    "a,w,b,f={},{},{},{}\n",
    "\n",
    "for i,layer in zip(range(1,l+1),layers):\n",
    "    n_out,n_in=layer['shape']\n",
    "    f[i]=layer['act']\n",
    "    w[i]=np.random.randn(n_out,n_in)/n_in**0.5\n",
    "    b[i],rb[i],mb[i]=[np.zeros((n_out,1)) for i in [1,2,3]]\n",
    "    rw[i],mw[i]=[np.zeros((n_out,n_in)) for i in [1,2]]"
   ]
  },
  {
   "cell_type": "code",
   "execution_count": null,
   "metadata": {},
   "outputs": [
    {
     "name": "stdout",
     "output_type": "stream",
     "text": [
      "Val loss -  0.20146994635964727\n",
      "Val loss -  0.10551893234272341\n",
      "Val loss -  0.0849984311387851\n",
      "Val loss -  0.07729261587787317\n",
      "Val loss -  0.08499011565125816\n",
      "Val loss -  0.08608933612025674\n",
      "Val loss -  0.08093259439521068\n",
      "Val loss -  0.07358536744418732\n",
      "Val loss -  0.06905941007823008\n",
      "Val loss -  0.06814837683562769\n",
      "Val loss -  0.06463068375198901\n",
      "Val loss -  0.061040060285937114\n",
      "Val loss -  0.05950171925494192\n",
      "Val loss -  0.05841509826290356\n",
      "Val loss -  0.05666705027546306\n",
      "Val loss -  0.0554248703216699\n",
      "Val loss -  0.05320842892183775\n",
      "Val loss -  0.05147340139837516\n",
      "Val loss -  0.05027865482826964\n",
      "Val loss -  0.049176224829435365\n",
      "Val loss -  0.04824823142343551\n",
      "Val loss -  0.04713041606401685\n",
      "Val loss -  0.045749538385526034\n",
      "Val loss -  0.04426037112599704\n",
      "Val loss -  0.04330680999018104\n",
      "Val loss -  0.0421998568342713\n",
      "Val loss -  0.04161374854014044\n",
      "Val loss -  0.0406021149346513\n",
      "Val loss -  0.04005284394770222\n",
      "Val loss -  0.039219061599163184\n",
      "Val loss -  0.03875058472363023\n",
      "Val loss -  0.03824013140379076\n",
      "Val loss -  0.03764629550761387\n",
      "Val loss -  0.03721237122298704\n",
      "Val loss -  0.03673497951707539\n"
     ]
    }
   ],
   "source": [
    "for t in range(1, epochs+1):\n",
    "    for batch in np.split(X_train, 30):\n",
    "        # Forward pass\n",
    "        a[0] = batch.T\n",
    "        for i in range(1,l+1):\n",
    "            a[i] = f[i]((w[i] @ a[i-1]) + b[i])\n",
    "        # Backpropagation\n",
    "        dz,dw,db = {},{},{}\n",
    "        for i in range(1,l+1)[::-1]:\n",
    "            d = w[i+1].T @ dz[i+1] if l-i else 0.5*(a[l]-a[0])\n",
    "            dz[i] = d * f[i](a[i],d=1)\n",
    "            dw[i] = dz[i] @ a[i-1].T\n",
    "            db[i] = np.sum(dz[i], 1, keepdims=True)\n",
    "        # Adam updates\n",
    "        def adam(m, r, z, dz, i):\n",
    "            m[i] = b1 * m[i] + (1 - b1) * dz[i]\n",
    "            r[i] = b2 * r[i] + (1 - b2) * dz[i]**2\n",
    "            m_hat = m[i] / (1. - b1**t)\n",
    "            r_hat = r[i] / (1. - b2**t) \n",
    "            z[i] -= lr * m_hat / (r_hat**0.5 + 1e-12)\n",
    "        for i in range(1,l+1):\n",
    "            adam(mw, rw, w, dw, i)\n",
    "            adam(mb, rb, b, db, i)\n",
    "    # Validate\n",
    "        a[0] = X_test.T\n",
    "        for i in range(1,l+1):\n",
    "            a[i] = f[i]((w[i] @ a[i-1]) + b[i])\n",
    "        errors += [np.mean((a[l]-a[0])**2)]\n",
    "        print(\"Val loss - \", errors[-1])\n"
   ]
  },
  {
   "cell_type": "code",
   "execution_count": null,
   "metadata": {},
   "outputs": [],
   "source": [
    "y_pred = []\n",
    "a[0] = X_train[:20].T\n",
    "#forward pass\n",
    "for i in range(1,l+1):\n",
    "    a[i] = f[i](w[i] @ a[i-1] + b[i])\n",
    "y_pred = a[l]\n",
    "\n",
    "plt.figure(figsize=(20,5))\n",
    "\n",
    "for i in range(20):\n",
    "    plt.subplot(3, 20, i + 1)\n",
    "    plt.imshow(X_train[i].reshape(28,28), cmap=\"gray\")\n",
    "    plt.axis(\"off\")\n",
    "    plt.grid(b=False)\n",
    "\n",
    "for i in range(20):\n",
    "    plt.subplot(3, 20, i + 1 + 20)\n",
    "    plt.imshow(a[l-2].T[i].reshape(5,-1), cmap=\"gray\")\n",
    "    plt.axis(\"off\")\n",
    "    plt.grid(b=False)\n",
    "    \n",
    "for i in range(20):\n",
    "    plt.subplot(3, 20, i + 1 + 40)\n",
    "    plt.imshow(y_pred.T[i].reshape(28,28), cmap=\"gray\")\n",
    "    plt.axis(\"off\")\n",
    "    plt.grid(b=False)\n",
    "\n",
    "plt.show()"
   ]
  },
  {
   "cell_type": "code",
   "execution_count": null,
   "metadata": {},
   "outputs": [],
   "source": [
    "pl.plot(errors)"
   ]
  },
  {
   "cell_type": "code",
   "execution_count": null,
   "metadata": {},
   "outputs": [],
   "source": []
  },
  {
   "cell_type": "code",
   "execution_count": null,
   "metadata": {},
   "outputs": [],
   "source": [
    "\n"
   ]
  },
  {
   "cell_type": "code",
   "execution_count": null,
   "metadata": {},
   "outputs": [],
   "source": []
  },
  {
   "cell_type": "code",
   "execution_count": null,
   "metadata": {},
   "outputs": [],
   "source": []
  },
  {
   "cell_type": "code",
   "execution_count": null,
   "metadata": {},
   "outputs": [],
   "source": []
  },
  {
   "cell_type": "code",
   "execution_count": null,
   "metadata": {},
   "outputs": [],
   "source": []
  },
  {
   "cell_type": "code",
   "execution_count": null,
   "metadata": {},
   "outputs": [],
   "source": []
  },
  {
   "cell_type": "code",
   "execution_count": null,
   "metadata": {},
   "outputs": [],
   "source": []
  },
  {
   "cell_type": "code",
   "execution_count": null,
   "metadata": {},
   "outputs": [],
   "source": []
  },
  {
   "cell_type": "code",
   "execution_count": null,
   "metadata": {},
   "outputs": [],
   "source": []
  },
  {
   "cell_type": "code",
   "execution_count": null,
   "metadata": {},
   "outputs": [],
   "source": []
  },
  {
   "cell_type": "code",
   "execution_count": null,
   "metadata": {},
   "outputs": [],
   "source": []
  },
  {
   "cell_type": "code",
   "execution_count": null,
   "metadata": {},
   "outputs": [],
   "source": []
  },
  {
   "cell_type": "code",
   "execution_count": null,
   "metadata": {},
   "outputs": [],
   "source": []
  },
  {
   "cell_type": "code",
   "execution_count": null,
   "metadata": {},
   "outputs": [],
   "source": []
  },
  {
   "cell_type": "code",
   "execution_count": null,
   "metadata": {},
   "outputs": [],
   "source": []
  },
  {
   "cell_type": "code",
   "execution_count": null,
   "metadata": {},
   "outputs": [],
   "source": []
  },
  {
   "cell_type": "code",
   "execution_count": null,
   "metadata": {},
   "outputs": [],
   "source": []
  },
  {
   "cell_type": "code",
   "execution_count": null,
   "metadata": {},
   "outputs": [],
   "source": []
  },
  {
   "cell_type": "code",
   "execution_count": null,
   "metadata": {},
   "outputs": [],
   "source": []
  }
 ],
 "metadata": {
  "kernelspec": {
   "display_name": "Python 3",
   "language": "python",
   "name": "python3"
  },
  "language_info": {
   "codemirror_mode": {
    "name": "ipython",
    "version": 3
   },
   "file_extension": ".py",
   "mimetype": "text/x-python",
   "name": "python",
   "nbconvert_exporter": "python",
   "pygments_lexer": "ipython3",
   "version": "3.7.7"
  }
 },
 "nbformat": 4,
 "nbformat_minor": 4
}
