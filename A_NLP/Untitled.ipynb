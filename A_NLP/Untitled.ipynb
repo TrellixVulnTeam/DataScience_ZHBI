{
 "cells": [
  {
   "cell_type": "code",
   "execution_count": 1,
   "metadata": {},
   "outputs": [],
   "source": [
    "from tensorflow.keras.preprocessing.text import one_hot"
   ]
  },
  {
   "cell_type": "code",
   "execution_count": 2,
   "metadata": {},
   "outputs": [],
   "source": [
    "sent=[  'the glass of milk',\n",
    "     'the glass of juice',\n",
    "     'the cup of tea',\n",
    "    'I am a good boy',\n",
    "     'I am a good developer',\n",
    "     'understand the meaning of words',\n",
    "     'your videos are good',]"
   ]
  },
  {
   "cell_type": "code",
   "execution_count": 3,
   "metadata": {},
   "outputs": [
    {
     "data": {
      "text/plain": [
       "['the glass of milk',\n",
       " 'the glass of juice',\n",
       " 'the cup of tea',\n",
       " 'I am a good boy',\n",
       " 'I am a good developer',\n",
       " 'understand the meaning of words',\n",
       " 'your videos are good']"
      ]
     },
     "execution_count": 3,
     "metadata": {},
     "output_type": "execute_result"
    }
   ],
   "source": [
    "sent"
   ]
  },
  {
   "cell_type": "code",
   "execution_count": 4,
   "metadata": {},
   "outputs": [],
   "source": [
    "voc_size=10000"
   ]
  },
  {
   "cell_type": "code",
   "execution_count": 5,
   "metadata": {},
   "outputs": [],
   "source": [
    "onehot_rep=[one_hot(word,voc_size) for word in sent]"
   ]
  },
  {
   "cell_type": "code",
   "execution_count": 6,
   "metadata": {},
   "outputs": [
    {
     "data": {
      "text/plain": [
       "[[3401, 6031, 6582, 4291],\n",
       " [3401, 6031, 6582, 9524],\n",
       " [3401, 4917, 6582, 997],\n",
       " [7061, 766, 3271, 7537, 1847],\n",
       " [7061, 766, 3271, 7537, 1601],\n",
       " [6617, 3401, 1269, 6582, 6345],\n",
       " [4552, 7845, 5775, 7537]]"
      ]
     },
     "execution_count": 6,
     "metadata": {},
     "output_type": "execute_result"
    }
   ],
   "source": [
    "onehot_rep"
   ]
  },
  {
   "cell_type": "code",
   "execution_count": 9,
   "metadata": {},
   "outputs": [],
   "source": [
    "from tensorflow.keras.layers import Embedding\n",
    "from tensorflow.keras.preprocessing.sequence import pad_sequences\n",
    "from tensorflow.keras.models import Sequential"
   ]
  },
  {
   "cell_type": "code",
   "execution_count": 7,
   "metadata": {},
   "outputs": [],
   "source": [
    "import numpy as np"
   ]
  },
  {
   "cell_type": "code",
   "execution_count": 11,
   "metadata": {},
   "outputs": [
    {
     "data": {
      "text/plain": [
       "array([[   0,    0,    0,    0, 3401, 6031, 6582, 4291],\n",
       "       [   0,    0,    0,    0, 3401, 6031, 6582, 9524],\n",
       "       [   0,    0,    0,    0, 3401, 4917, 6582,  997],\n",
       "       [   0,    0,    0, 7061,  766, 3271, 7537, 1847],\n",
       "       [   0,    0,    0, 7061,  766, 3271, 7537, 1601],\n",
       "       [   0,    0,    0, 6617, 3401, 1269, 6582, 6345],\n",
       "       [   0,    0,    0,    0, 4552, 7845, 5775, 7537]])"
      ]
     },
     "execution_count": 11,
     "metadata": {},
     "output_type": "execute_result"
    }
   ],
   "source": [
    "sent_len=8\n",
    "embedded_docs=pad_sequences(onehot_rep,padding='pre',maxlen=sent_len)\n",
    "embedded_docs"
   ]
  },
  {
   "cell_type": "code",
   "execution_count": 12,
   "metadata": {},
   "outputs": [],
   "source": [
    "dim=15"
   ]
  },
  {
   "cell_type": "code",
   "execution_count": 13,
   "metadata": {},
   "outputs": [],
   "source": [
    "model=Sequential()\n",
    "model.add(Embedding(voc_size,10,input_length=sent_len))\n",
    "model.compile('adam','mse')"
   ]
  },
  {
   "cell_type": "code",
   "execution_count": 14,
   "metadata": {},
   "outputs": [
    {
     "name": "stdout",
     "output_type": "stream",
     "text": [
      "Model: \"sequential\"\n",
      "_________________________________________________________________\n",
      "Layer (type)                 Output Shape              Param #   \n",
      "=================================================================\n",
      "embedding (Embedding)        (None, 8, 10)             100000    \n",
      "=================================================================\n",
      "Total params: 100,000\n",
      "Trainable params: 100,000\n",
      "Non-trainable params: 0\n",
      "_________________________________________________________________\n"
     ]
    }
   ],
   "source": [
    "model.summary()"
   ]
  },
  {
   "cell_type": "code",
   "execution_count": 21,
   "metadata": {},
   "outputs": [
    {
     "data": {
      "text/plain": [
       "array([[ 0.04059331,  0.0139527 , -0.01600055,  0.03386256,  0.00159238,\n",
       "         0.03086097, -0.02182965, -0.04902672,  0.02390294,  0.03917695],\n",
       "       [ 0.04059331,  0.0139527 , -0.01600055,  0.03386256,  0.00159238,\n",
       "         0.03086097, -0.02182965, -0.04902672,  0.02390294,  0.03917695],\n",
       "       [ 0.04059331,  0.0139527 , -0.01600055,  0.03386256,  0.00159238,\n",
       "         0.03086097, -0.02182965, -0.04902672,  0.02390294,  0.03917695],\n",
       "       [ 0.04059331,  0.0139527 , -0.01600055,  0.03386256,  0.00159238,\n",
       "         0.03086097, -0.02182965, -0.04902672,  0.02390294,  0.03917695],\n",
       "       [-0.021208  ,  0.03164264,  0.02176757,  0.03374905,  0.03698038,\n",
       "         0.0422279 ,  0.03087649,  0.00380771,  0.00852204,  0.02350787],\n",
       "       [-0.00227009,  0.01187164, -0.00523112, -0.01465929, -0.02828833,\n",
       "        -0.02428681,  0.02798544,  0.04019072,  0.01914367, -0.01687495],\n",
       "       [ 0.03522054, -0.03560526, -0.04491654,  0.02917457,  0.04917235,\n",
       "        -0.01651084, -0.02781159, -0.02626278, -0.03226259, -0.0443671 ],\n",
       "       [ 0.01445729, -0.04906137,  0.00381462,  0.02095585, -0.04033058,\n",
       "         0.02645091, -0.02176768,  0.00482768, -0.00416328, -0.01922724]],\n",
       "      dtype=float32)"
      ]
     },
     "execution_count": 21,
     "metadata": {},
     "output_type": "execute_result"
    }
   ],
   "source": [
    "model.predict(embedded_docs)[0]"
   ]
  },
  {
   "cell_type": "code",
   "execution_count": 16,
   "metadata": {},
   "outputs": [
    {
     "data": {
      "text/plain": [
       "array([   0,    0,    0,    0, 3401, 6031, 6582, 4291])"
      ]
     },
     "execution_count": 16,
     "metadata": {},
     "output_type": "execute_result"
    }
   ],
   "source": [
    "embedded_docs[0]"
   ]
  },
  {
   "cell_type": "code",
   "execution_count": null,
   "metadata": {},
   "outputs": [],
   "source": []
  },
  {
   "cell_type": "code",
   "execution_count": null,
   "metadata": {},
   "outputs": [],
   "source": []
  },
  {
   "cell_type": "code",
   "execution_count": null,
   "metadata": {},
   "outputs": [],
   "source": []
  },
  {
   "cell_type": "code",
   "execution_count": null,
   "metadata": {},
   "outputs": [],
   "source": []
  },
  {
   "cell_type": "code",
   "execution_count": null,
   "metadata": {},
   "outputs": [],
   "source": []
  },
  {
   "cell_type": "code",
   "execution_count": null,
   "metadata": {},
   "outputs": [],
   "source": []
  },
  {
   "cell_type": "code",
   "execution_count": null,
   "metadata": {},
   "outputs": [],
   "source": []
  },
  {
   "cell_type": "code",
   "execution_count": null,
   "metadata": {},
   "outputs": [],
   "source": []
  }
 ],
 "metadata": {
  "kernelspec": {
   "display_name": "Python 3",
   "language": "python",
   "name": "python3"
  },
  "language_info": {
   "codemirror_mode": {
    "name": "ipython",
    "version": 3
   },
   "file_extension": ".py",
   "mimetype": "text/x-python",
   "name": "python",
   "nbconvert_exporter": "python",
   "pygments_lexer": "ipython3",
   "version": "3.7.7"
  }
 },
 "nbformat": 4,
 "nbformat_minor": 4
}
