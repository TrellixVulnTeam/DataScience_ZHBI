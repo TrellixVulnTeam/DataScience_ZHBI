{
 "cells": [
  {
   "cell_type": "code",
   "execution_count": 8,
   "metadata": {},
   "outputs": [],
   "source": [
    "import matplotlib.pyplot as pl\n",
    "import seaborn as sns\n",
    "import pandas as pd\n",
    "import numpy as np"
   ]
  },
  {
   "cell_type": "code",
   "execution_count": 9,
   "metadata": {},
   "outputs": [],
   "source": [
    "data=pd.read_csv('romans 2.csv')"
   ]
  },
  {
   "cell_type": "code",
   "execution_count": 26,
   "metadata": {},
   "outputs": [
    {
     "data": {
      "text/html": [
       "<div>\n",
       "<style scoped>\n",
       "    .dataframe tbody tr th:only-of-type {\n",
       "        vertical-align: middle;\n",
       "    }\n",
       "\n",
       "    .dataframe tbody tr th {\n",
       "        vertical-align: top;\n",
       "    }\n",
       "\n",
       "    .dataframe thead th {\n",
       "        text-align: right;\n",
       "    }\n",
       "</style>\n",
       "<table border=\"1\" class=\"dataframe\">\n",
       "  <thead>\n",
       "    <tr style=\"text-align: right;\">\n",
       "      <th></th>\n",
       "      <th>Name</th>\n",
       "      <th>Birth</th>\n",
       "      <th>Succession</th>\n",
       "      <th>Reign</th>\n",
       "      <th>Time</th>\n",
       "      <th>Deaths</th>\n",
       "    </tr>\n",
       "  </thead>\n",
       "  <tbody>\n",
       "    <tr>\n",
       "      <th>0</th>\n",
       "      <td>Augustus</td>\n",
       "      <td>23 September 63 BC,  Rome ,  Italia \\n</td>\n",
       "      <td>Great-nephew and adopted son of  Julius Caesa...</td>\n",
       "      <td>16 January 27 BC – 19 August 14 AD\\n</td>\n",
       "      <td>40 years, 7 months and 3 days\\n</td>\n",
       "      <td>19 August 14 AD (aged 75) Natural causes \\n</td>\n",
       "    </tr>\n",
       "    <tr>\n",
       "      <th>1</th>\n",
       "      <td>Tiberius</td>\n",
       "      <td>16 November 42 BC,  Rome ,  Italia \\n</td>\n",
       "      <td>Natural son of  Livia Drusilla , Augustus' th...</td>\n",
       "      <td>18 September 14 AD – 16 March 37 AD\\n</td>\n",
       "      <td>22 years, 5 months and 27 days\\n</td>\n",
       "      <td>16 March 37 AD (aged 77) Probably natural cau...</td>\n",
       "    </tr>\n",
       "    <tr>\n",
       "      <th>2</th>\n",
       "      <td>Caligula</td>\n",
       "      <td>31 August 12 AD,  Antium ,  Italia \\n</td>\n",
       "      <td>Great-nephew and adoptive grandson of Tiberiu...</td>\n",
       "      <td>18 March 37 AD – 24 January 41 AD\\n</td>\n",
       "      <td>3 years, 10 months and 6 days\\n</td>\n",
       "      <td>24 January 41 AD (aged 28) Assassinated in a ...</td>\n",
       "    </tr>\n",
       "    <tr>\n",
       "      <th>3</th>\n",
       "      <td>Claudius</td>\n",
       "      <td>1 August 10 BC,  Lugdunum ,  Gallia Lugdunens...</td>\n",
       "      <td>Uncle of Caligula; brother of Germanicus; nep...</td>\n",
       "      <td>25/26 January 41 AD – 13 October 54 AD\\n</td>\n",
       "      <td>13 years, 8 months and 18/19 days\\n</td>\n",
       "      <td>13 October 54 AD (aged 63) Probably poisoned ...</td>\n",
       "    </tr>\n",
       "    <tr>\n",
       "      <th>4</th>\n",
       "      <td>Nero</td>\n",
       "      <td>15 December 37 AD,  Antium ,  Italia \\n</td>\n",
       "      <td>Great-nephew, stepson, son-in-law and adopted...</td>\n",
       "      <td>13 October 54 AD – 9 June 68 AD\\n</td>\n",
       "      <td>13 years, 7 months and 27 days\\n</td>\n",
       "      <td>9 June 68 AD (aged 30) Committed suicide afte...</td>\n",
       "    </tr>\n",
       "  </tbody>\n",
       "</table>\n",
       "</div>"
      ],
      "text/plain": [
       "       Name                                              Birth  \\\n",
       "0  Augustus             23 September 63 BC,  Rome ,  Italia \\n   \n",
       "1  Tiberius              16 November 42 BC,  Rome ,  Italia \\n   \n",
       "2  Caligula              31 August 12 AD,  Antium ,  Italia \\n   \n",
       "3  Claudius   1 August 10 BC,  Lugdunum ,  Gallia Lugdunens...   \n",
       "4      Nero            15 December 37 AD,  Antium ,  Italia \\n   \n",
       "\n",
       "                                          Succession  \\\n",
       "0   Great-nephew and adopted son of  Julius Caesa...   \n",
       "1   Natural son of  Livia Drusilla , Augustus' th...   \n",
       "2   Great-nephew and adoptive grandson of Tiberiu...   \n",
       "3   Uncle of Caligula; brother of Germanicus; nep...   \n",
       "4   Great-nephew, stepson, son-in-law and adopted...   \n",
       "\n",
       "                                       Reign  \\\n",
       "0       16 January 27 BC – 19 August 14 AD\\n   \n",
       "1      18 September 14 AD – 16 March 37 AD\\n   \n",
       "2        18 March 37 AD – 24 January 41 AD\\n   \n",
       "3   25/26 January 41 AD – 13 October 54 AD\\n   \n",
       "4          13 October 54 AD – 9 June 68 AD\\n   \n",
       "\n",
       "                                   Time  \\\n",
       "0       40 years, 7 months and 3 days\\n   \n",
       "1      22 years, 5 months and 27 days\\n   \n",
       "2       3 years, 10 months and 6 days\\n   \n",
       "3   13 years, 8 months and 18/19 days\\n   \n",
       "4      13 years, 7 months and 27 days\\n   \n",
       "\n",
       "                                              Deaths  \n",
       "0        19 August 14 AD (aged 75) Natural causes \\n  \n",
       "1   16 March 37 AD (aged 77) Probably natural cau...  \n",
       "2   24 January 41 AD (aged 28) Assassinated in a ...  \n",
       "3   13 October 54 AD (aged 63) Probably poisoned ...  \n",
       "4   9 June 68 AD (aged 30) Committed suicide afte...  "
      ]
     },
     "execution_count": 26,
     "metadata": {},
     "output_type": "execute_result"
    }
   ],
   "source": [
    "data.head()"
   ]
  },
  {
   "cell_type": "code",
   "execution_count": 25,
   "metadata": {},
   "outputs": [],
   "source": [
    "data['Name']=data['Name'].apply(lambda x: x.split()[0])"
   ]
  },
  {
   "cell_type": "code",
   "execution_count": 33,
   "metadata": {},
   "outputs": [],
   "source": [
    "deaths=[]\n",
    "for i in data.Deaths:\n",
    "    if 'assassin' in i or 'murdered' in i or ('killed' in i and not 'battle' in i):\n",
    "        deaths.append('Assassinated')\n",
    "    elif 'natural' in i:\n",
    "        deaths.append('Natural Causes')\n",
    "    elif \"suicide\" in i:\n",
    "        deaths.append(\"Suicide\")\n",
    "    elif \"executed\" in i or \"beheaded\" in i:\n",
    "        deaths.append(\"Executed\")\n",
    "    elif \"battle\" in i:\n",
    "        deaths.append(\"Killed in Battle\")\n",
    "    elif \"poison\" in i:\n",
    "        deaths.append(\"Poisoned\")      \n",
    "    elif \"unknown\" in i or i[-2] == \")\" or \"constantinople\" in i:\n",
    "        deaths.append(\"Other/Unknown\")\n",
    "    elif \"illness\" in i:\n",
    "        deaths.append(\"Illness\")\n",
    "    elif any(disease in i for disease in [\"tuberculosis\", \"edema\", \"gout\", 'carbuncle', 'dysentery', \"epilepsy\" ]):\n",
    "        deaths.append(\"Illness\")\n",
    "    else:\n",
    "        deaths.append(\"Other/Unknown\")"
   ]
  },
  {
   "cell_type": "code",
   "execution_count": 39,
   "metadata": {},
   "outputs": [],
   "source": [
    "temp=data.copy()\n",
    "temp['Cause']=deaths"
   ]
  },
  {
   "cell_type": "code",
   "execution_count": 41,
   "metadata": {},
   "outputs": [
    {
     "data": {
      "text/html": [
       "<div>\n",
       "<style scoped>\n",
       "    .dataframe tbody tr th:only-of-type {\n",
       "        vertical-align: middle;\n",
       "    }\n",
       "\n",
       "    .dataframe tbody tr th {\n",
       "        vertical-align: top;\n",
       "    }\n",
       "\n",
       "    .dataframe thead th {\n",
       "        text-align: right;\n",
       "    }\n",
       "</style>\n",
       "<table border=\"1\" class=\"dataframe\">\n",
       "  <thead>\n",
       "    <tr style=\"text-align: right;\">\n",
       "      <th></th>\n",
       "      <th>Name</th>\n",
       "      <th>Birth</th>\n",
       "      <th>Succession</th>\n",
       "      <th>Reign</th>\n",
       "      <th>Time</th>\n",
       "      <th>Deaths</th>\n",
       "      <th>Cause</th>\n",
       "    </tr>\n",
       "  </thead>\n",
       "  <tbody>\n",
       "    <tr>\n",
       "      <th>0</th>\n",
       "      <td>Augustus</td>\n",
       "      <td>23 September 63 BC,  Rome ,  Italia \\n</td>\n",
       "      <td>Great-nephew and adopted son of  Julius Caesa...</td>\n",
       "      <td>16 January 27 BC – 19 August 14 AD\\n</td>\n",
       "      <td>40 years, 7 months and 3 days\\n</td>\n",
       "      <td>19 August 14 AD (aged 75) Natural causes \\n</td>\n",
       "      <td>Other/Unknown</td>\n",
       "    </tr>\n",
       "    <tr>\n",
       "      <th>1</th>\n",
       "      <td>Tiberius</td>\n",
       "      <td>16 November 42 BC,  Rome ,  Italia \\n</td>\n",
       "      <td>Natural son of  Livia Drusilla , Augustus' th...</td>\n",
       "      <td>18 September 14 AD – 16 March 37 AD\\n</td>\n",
       "      <td>22 years, 5 months and 27 days\\n</td>\n",
       "      <td>16 March 37 AD (aged 77) Probably natural cau...</td>\n",
       "      <td>Assassinated</td>\n",
       "    </tr>\n",
       "    <tr>\n",
       "      <th>2</th>\n",
       "      <td>Caligula</td>\n",
       "      <td>31 August 12 AD,  Antium ,  Italia \\n</td>\n",
       "      <td>Great-nephew and adoptive grandson of Tiberiu...</td>\n",
       "      <td>18 March 37 AD – 24 January 41 AD\\n</td>\n",
       "      <td>3 years, 10 months and 6 days\\n</td>\n",
       "      <td>24 January 41 AD (aged 28) Assassinated in a ...</td>\n",
       "      <td>Other/Unknown</td>\n",
       "    </tr>\n",
       "    <tr>\n",
       "      <th>3</th>\n",
       "      <td>Claudius</td>\n",
       "      <td>1 August 10 BC,  Lugdunum ,  Gallia Lugdunens...</td>\n",
       "      <td>Uncle of Caligula; brother of Germanicus; nep...</td>\n",
       "      <td>25/26 January 41 AD – 13 October 54 AD\\n</td>\n",
       "      <td>13 years, 8 months and 18/19 days\\n</td>\n",
       "      <td>13 October 54 AD (aged 63) Probably poisoned ...</td>\n",
       "      <td>Natural Causes</td>\n",
       "    </tr>\n",
       "    <tr>\n",
       "      <th>4</th>\n",
       "      <td>Nero</td>\n",
       "      <td>15 December 37 AD,  Antium ,  Italia \\n</td>\n",
       "      <td>Great-nephew, stepson, son-in-law and adopted...</td>\n",
       "      <td>13 October 54 AD – 9 June 68 AD\\n</td>\n",
       "      <td>13 years, 7 months and 27 days\\n</td>\n",
       "      <td>9 June 68 AD (aged 30) Committed suicide afte...</td>\n",
       "      <td>Suicide</td>\n",
       "    </tr>\n",
       "  </tbody>\n",
       "</table>\n",
       "</div>"
      ],
      "text/plain": [
       "       Name                                              Birth  \\\n",
       "0  Augustus             23 September 63 BC,  Rome ,  Italia \\n   \n",
       "1  Tiberius              16 November 42 BC,  Rome ,  Italia \\n   \n",
       "2  Caligula              31 August 12 AD,  Antium ,  Italia \\n   \n",
       "3  Claudius   1 August 10 BC,  Lugdunum ,  Gallia Lugdunens...   \n",
       "4      Nero            15 December 37 AD,  Antium ,  Italia \\n   \n",
       "\n",
       "                                          Succession  \\\n",
       "0   Great-nephew and adopted son of  Julius Caesa...   \n",
       "1   Natural son of  Livia Drusilla , Augustus' th...   \n",
       "2   Great-nephew and adoptive grandson of Tiberiu...   \n",
       "3   Uncle of Caligula; brother of Germanicus; nep...   \n",
       "4   Great-nephew, stepson, son-in-law and adopted...   \n",
       "\n",
       "                                       Reign  \\\n",
       "0       16 January 27 BC – 19 August 14 AD\\n   \n",
       "1      18 September 14 AD – 16 March 37 AD\\n   \n",
       "2        18 March 37 AD – 24 January 41 AD\\n   \n",
       "3   25/26 January 41 AD – 13 October 54 AD\\n   \n",
       "4          13 October 54 AD – 9 June 68 AD\\n   \n",
       "\n",
       "                                   Time  \\\n",
       "0       40 years, 7 months and 3 days\\n   \n",
       "1      22 years, 5 months and 27 days\\n   \n",
       "2       3 years, 10 months and 6 days\\n   \n",
       "3   13 years, 8 months and 18/19 days\\n   \n",
       "4      13 years, 7 months and 27 days\\n   \n",
       "\n",
       "                                              Deaths           Cause  \n",
       "0        19 August 14 AD (aged 75) Natural causes \\n   Other/Unknown  \n",
       "1   16 March 37 AD (aged 77) Probably natural cau...    Assassinated  \n",
       "2   24 January 41 AD (aged 28) Assassinated in a ...   Other/Unknown  \n",
       "3   13 October 54 AD (aged 63) Probably poisoned ...  Natural Causes  \n",
       "4   9 June 68 AD (aged 30) Committed suicide afte...         Suicide  "
      ]
     },
     "execution_count": 41,
     "metadata": {},
     "output_type": "execute_result"
    }
   ],
   "source": [
    "temp.head()"
   ]
  },
  {
   "cell_type": "code",
   "execution_count": 78,
   "metadata": {},
   "outputs": [],
   "source": [
    "ages=[]\n",
    "for i in data.Deaths:\n",
    "    if 'age' in i:\n",
    "        a=i.split('age',1)\n",
    "        b=a[-1].split(')')\n",
    "        c=b[0].split(' ')\n",
    "        d=c[-1].split('-')\n",
    "        e=d[0].split('~')\n",
    "        f=e[-1].split('/')\n",
    "        try:\n",
    "            age=int(f[-1])\n",
    "            ages.append(age)\n",
    "        except:\n",
    "            ages.append('Unknown')\n",
    "            pass\n",
    "    else:\n",
    "        ages.append('Unknown')\n",
    "temp['Age']=ages"
   ]
  },
  {
   "cell_type": "code",
   "execution_count": 80,
   "metadata": {},
   "outputs": [
    {
     "data": {
      "text/html": [
       "<div>\n",
       "<style scoped>\n",
       "    .dataframe tbody tr th:only-of-type {\n",
       "        vertical-align: middle;\n",
       "    }\n",
       "\n",
       "    .dataframe tbody tr th {\n",
       "        vertical-align: top;\n",
       "    }\n",
       "\n",
       "    .dataframe thead th {\n",
       "        text-align: right;\n",
       "    }\n",
       "</style>\n",
       "<table border=\"1\" class=\"dataframe\">\n",
       "  <thead>\n",
       "    <tr style=\"text-align: right;\">\n",
       "      <th></th>\n",
       "      <th>Name</th>\n",
       "      <th>Birth</th>\n",
       "      <th>Succession</th>\n",
       "      <th>Reign</th>\n",
       "      <th>Time</th>\n",
       "      <th>Deaths</th>\n",
       "      <th>Cause</th>\n",
       "      <th>Age</th>\n",
       "    </tr>\n",
       "  </thead>\n",
       "  <tbody>\n",
       "    <tr>\n",
       "      <th>0</th>\n",
       "      <td>Augustus</td>\n",
       "      <td>23 September 63 BC,  Rome ,  Italia \\n</td>\n",
       "      <td>Great-nephew and adopted son of  Julius Caesa...</td>\n",
       "      <td>16 January 27 BC – 19 August 14 AD\\n</td>\n",
       "      <td>40 years, 7 months and 3 days\\n</td>\n",
       "      <td>19 August 14 AD (aged 75) Natural causes \\n</td>\n",
       "      <td>Other/Unknown</td>\n",
       "      <td>75</td>\n",
       "    </tr>\n",
       "    <tr>\n",
       "      <th>1</th>\n",
       "      <td>Tiberius</td>\n",
       "      <td>16 November 42 BC,  Rome ,  Italia \\n</td>\n",
       "      <td>Natural son of  Livia Drusilla , Augustus' th...</td>\n",
       "      <td>18 September 14 AD – 16 March 37 AD\\n</td>\n",
       "      <td>22 years, 5 months and 27 days\\n</td>\n",
       "      <td>16 March 37 AD (aged 77) Probably natural cau...</td>\n",
       "      <td>Assassinated</td>\n",
       "      <td>77</td>\n",
       "    </tr>\n",
       "    <tr>\n",
       "      <th>2</th>\n",
       "      <td>Caligula</td>\n",
       "      <td>31 August 12 AD,  Antium ,  Italia \\n</td>\n",
       "      <td>Great-nephew and adoptive grandson of Tiberiu...</td>\n",
       "      <td>18 March 37 AD – 24 January 41 AD\\n</td>\n",
       "      <td>3 years, 10 months and 6 days\\n</td>\n",
       "      <td>24 January 41 AD (aged 28) Assassinated in a ...</td>\n",
       "      <td>Other/Unknown</td>\n",
       "      <td>28</td>\n",
       "    </tr>\n",
       "    <tr>\n",
       "      <th>3</th>\n",
       "      <td>Claudius</td>\n",
       "      <td>1 August 10 BC,  Lugdunum ,  Gallia Lugdunens...</td>\n",
       "      <td>Uncle of Caligula; brother of Germanicus; nep...</td>\n",
       "      <td>25/26 January 41 AD – 13 October 54 AD\\n</td>\n",
       "      <td>13 years, 8 months and 18/19 days\\n</td>\n",
       "      <td>13 October 54 AD (aged 63) Probably poisoned ...</td>\n",
       "      <td>Natural Causes</td>\n",
       "      <td>63</td>\n",
       "    </tr>\n",
       "    <tr>\n",
       "      <th>4</th>\n",
       "      <td>Nero</td>\n",
       "      <td>15 December 37 AD,  Antium ,  Italia \\n</td>\n",
       "      <td>Great-nephew, stepson, son-in-law and adopted...</td>\n",
       "      <td>13 October 54 AD – 9 June 68 AD\\n</td>\n",
       "      <td>13 years, 7 months and 27 days\\n</td>\n",
       "      <td>9 June 68 AD (aged 30) Committed suicide afte...</td>\n",
       "      <td>Suicide</td>\n",
       "      <td>30</td>\n",
       "    </tr>\n",
       "  </tbody>\n",
       "</table>\n",
       "</div>"
      ],
      "text/plain": [
       "       Name                                              Birth  \\\n",
       "0  Augustus             23 September 63 BC,  Rome ,  Italia \\n   \n",
       "1  Tiberius              16 November 42 BC,  Rome ,  Italia \\n   \n",
       "2  Caligula              31 August 12 AD,  Antium ,  Italia \\n   \n",
       "3  Claudius   1 August 10 BC,  Lugdunum ,  Gallia Lugdunens...   \n",
       "4      Nero            15 December 37 AD,  Antium ,  Italia \\n   \n",
       "\n",
       "                                          Succession  \\\n",
       "0   Great-nephew and adopted son of  Julius Caesa...   \n",
       "1   Natural son of  Livia Drusilla , Augustus' th...   \n",
       "2   Great-nephew and adoptive grandson of Tiberiu...   \n",
       "3   Uncle of Caligula; brother of Germanicus; nep...   \n",
       "4   Great-nephew, stepson, son-in-law and adopted...   \n",
       "\n",
       "                                       Reign  \\\n",
       "0       16 January 27 BC – 19 August 14 AD\\n   \n",
       "1      18 September 14 AD – 16 March 37 AD\\n   \n",
       "2        18 March 37 AD – 24 January 41 AD\\n   \n",
       "3   25/26 January 41 AD – 13 October 54 AD\\n   \n",
       "4          13 October 54 AD – 9 June 68 AD\\n   \n",
       "\n",
       "                                   Time  \\\n",
       "0       40 years, 7 months and 3 days\\n   \n",
       "1      22 years, 5 months and 27 days\\n   \n",
       "2       3 years, 10 months and 6 days\\n   \n",
       "3   13 years, 8 months and 18/19 days\\n   \n",
       "4      13 years, 7 months and 27 days\\n   \n",
       "\n",
       "                                              Deaths           Cause Age  \n",
       "0        19 August 14 AD (aged 75) Natural causes \\n   Other/Unknown  75  \n",
       "1   16 March 37 AD (aged 77) Probably natural cau...    Assassinated  77  \n",
       "2   24 January 41 AD (aged 28) Assassinated in a ...   Other/Unknown  28  \n",
       "3   13 October 54 AD (aged 63) Probably poisoned ...  Natural Causes  63  \n",
       "4   9 June 68 AD (aged 30) Committed suicide afte...         Suicide  30  "
      ]
     },
     "execution_count": 80,
     "metadata": {},
     "output_type": "execute_result"
    }
   ],
   "source": [
    "temp.head()"
   ]
  },
  {
   "cell_type": "code",
   "execution_count": 84,
   "metadata": {},
   "outputs": [
    {
     "data": {
      "text/plain": [
       "<matplotlib.axes._subplots.AxesSubplot at 0x1f49056fa88>"
      ]
     },
     "execution_count": 84,
     "metadata": {},
     "output_type": "execute_result"
    },
    {
     "data": {
      "image/png": "[encoded data removed]",
      "text/plain": [
       "<Figure size 1440x720 with 1 Axes>"
      ]
     },
     "metadata": {
      "needs_background": "light"
     },
     "output_type": "display_data"
    }
   ],
   "source": [
    "pl.figure(figsize=(20,10))\n",
    "sns.countplot(temp['Age'])"
   ]
  },
  {
   "cell_type": "code",
   "execution_count": null,
   "metadata": {},
   "outputs": [],
   "source": []
  },
  {
   "cell_type": "code",
   "execution_count": 114,
   "metadata": {},
   "outputs": [],
   "source": [
    "births = []\n",
    "for i in temp.Birth:\n",
    "    if \"?\" in i:\n",
    "        year = \"Unknown\"\n",
    "    elif \"ad,\" in i:\n",
    "        a = i.split(\" ad\", 1)\n",
    "        b = a[0].split()\n",
    "        year = int(b[-1])\n",
    "    elif \"bc,\" in i:\n",
    "        a = i.split(\" bc\", 1)\n",
    "        b = a[0].split()\n",
    "        year = -int(b[-1])\n",
    "    elif \",\" in i:\n",
    "        a = i.split(\",\")\n",
    "        b = a[-2].split()\n",
    "        c = b[-1].split(\".\")\n",
    "        d = c[-1].split(\"/\")\n",
    "        year = d[-1]\n",
    "    elif \"c.\" in i:\n",
    "        a = i.split(\".\")\n",
    "        b = a[-1].split()\n",
    "        try:\n",
    "            year = int(b[0])\n",
    "        except:\n",
    "            year = \"Unknown\"\n",
    "            pass\n",
    "    else:\n",
    "        a = i.split()\n",
    "        try:\n",
    "            year = int(a[-1])\n",
    "        except:\n",
    "            year = \"Unknown\"\n",
    "            pass\n",
    "    births.append(year)\n",
    "\n",
    "#fixing wrong entry    \n",
    "births[71] = 384    \n",
    "temp[\"Births\"] = births"
   ]
  },
  {
   "cell_type": "code",
   "execution_count": 115,
   "metadata": {},
   "outputs": [
    {
     "data": {
      "text/plain": [
       "127"
      ]
     },
     "execution_count": 115,
     "metadata": {},
     "output_type": "execute_result"
    }
   ],
   "source": [
    "temp['Births'].nunique()"
   ]
  },
  {
   "cell_type": "code",
   "execution_count": 116,
   "metadata": {},
   "outputs": [
    {
     "data": {
      "image/png": "[encoded data removed]",
      "text/plain": [
       "<Figure size 1440x720 with 1 Axes>"
      ]
     },
     "metadata": {
      "needs_background": "light"
     },
     "output_type": "display_data"
    }
   ],
   "source": [
    "pl.figure(figsize=(20,10))\n",
    "sns.countplot(temp['Births'])\n",
    "pl.xticks(rotation=90)\n",
    "pl.show()"
   ]
  },
  {
   "cell_type": "code",
   "execution_count": 175,
   "metadata": {},
   "outputs": [],
   "source": [
    "lengths=[]\n",
    "for i in temp.Time:\n",
    "    year=0\n",
    "    month=0\n",
    "    if 'year' in i:\n",
    "        a=i.split()[0].split('/')[0]\n",
    "        year=int(a)\n",
    "        length=year\n",
    "        lengths.append(length)\n",
    "        \n",
    "    elif 'month' in i:\n",
    "        a=i.split()[0].split('-')[0]\n",
    "        if '–' in a:               \n",
    "            length=int(a[0])\n",
    "            lengths.append(length)\n",
    "        else:\n",
    "            length=int(a)\n",
    "            lengths.append(length)\n",
    "#     elif 'day' in i:\n",
    "#         length=year\n",
    "#         lengths.append(length)\n",
    "    else:\n",
    "        lengths.append('Unknown')\n",
    "temp['Length']=lengths"
   ]
  },
  {
   "cell_type": "code",
   "execution_count": 176,
   "metadata": {},
   "outputs": [
    {
     "data": {
      "text/plain": [
       "<matplotlib.axes._subplots.AxesSubplot at 0x1f49116e2c8>"
      ]
     },
     "execution_count": 176,
     "metadata": {},
     "output_type": "execute_result"
    },
    {
     "data": {
      "image/png": "[encoded data removed]",
      "text/plain": [
       "<Figure size 1440x720 with 1 Axes>"
      ]
     },
     "metadata": {
      "needs_background": "light"
     },
     "output_type": "display_data"
    }
   ],
   "source": [
    "pl.figure(figsize=(20,10))\n",
    "sns.countplot(temp['Length'])"
   ]
  },
  {
   "cell_type": "code",
   "execution_count": null,
   "metadata": {},
   "outputs": [],
   "source": []
  },
  {
   "cell_type": "code",
   "execution_count": null,
   "metadata": {},
   "outputs": [],
   "source": []
  },
  {
   "cell_type": "code",
   "execution_count": null,
   "metadata": {},
   "outputs": [],
   "source": []
  },
  {
   "cell_type": "code",
   "execution_count": null,
   "metadata": {},
   "outputs": [],
   "source": []
  },
  {
   "cell_type": "code",
   "execution_count": null,
   "metadata": {},
   "outputs": [],
   "source": []
  },
  {
   "cell_type": "code",
   "execution_count": null,
   "metadata": {},
   "outputs": [],
   "source": []
  },
  {
   "cell_type": "code",
   "execution_count": null,
   "metadata": {},
   "outputs": [],
   "source": []
  },
  {
   "cell_type": "code",
   "execution_count": null,
   "metadata": {},
   "outputs": [],
   "source": []
  },
  {
   "cell_type": "code",
   "execution_count": null,
   "metadata": {},
   "outputs": [],
   "source": []
  },
  {
   "cell_type": "code",
   "execution_count": null,
   "metadata": {},
   "outputs": [],
   "source": []
  },
  {
   "cell_type": "code",
   "execution_count": null,
   "metadata": {},
   "outputs": [],
   "source": []
  },
  {
   "cell_type": "code",
   "execution_count": null,
   "metadata": {},
   "outputs": [],
   "source": []
  },
  {
   "cell_type": "code",
   "execution_count": null,
   "metadata": {},
   "outputs": [],
   "source": []
  },
  {
   "cell_type": "code",
   "execution_count": null,
   "metadata": {},
   "outputs": [],
   "source": []
  },
  {
   "cell_type": "code",
   "execution_count": null,
   "metadata": {},
   "outputs": [],
   "source": []
  },
  {
   "cell_type": "code",
   "execution_count": null,
   "metadata": {},
   "outputs": [],
   "source": []
  },
  {
   "cell_type": "code",
   "execution_count": null,
   "metadata": {},
   "outputs": [],
   "source": []
  },
  {
   "cell_type": "code",
   "execution_count": null,
   "metadata": {},
   "outputs": [],
   "source": []
  },
  {
   "cell_type": "code",
   "execution_count": null,
   "metadata": {},
   "outputs": [],
   "source": []
  },
  {
   "cell_type": "code",
   "execution_count": null,
   "metadata": {},
   "outputs": [],
   "source": []
  },
  {
   "cell_type": "code",
   "execution_count": null,
   "metadata": {},
   "outputs": [],
   "source": []
  },
  {
   "cell_type": "code",
   "execution_count": null,
   "metadata": {},
   "outputs": [],
   "source": []
  },
  {
   "cell_type": "code",
   "execution_count": null,
   "metadata": {},
   "outputs": [],
   "source": []
  },
  {
   "cell_type": "code",
   "execution_count": null,
   "metadata": {},
   "outputs": [],
   "source": []
  },
  {
   "cell_type": "code",
   "execution_count": null,
   "metadata": {},
   "outputs": [],
   "source": []
  }
 ],
 "metadata": {
  "kernelspec": {
   "display_name": "Python 3",
   "language": "python",
   "name": "python3"
  },
  "language_info": {
   "codemirror_mode": {
    "name": "ipython",
    "version": 3
   },
   "file_extension": ".py",
   "mimetype": "text/x-python",
   "name": "python",
   "nbconvert_exporter": "python",
   "pygments_lexer": "ipython3",
   "version": "3.7.7"
  }
 },
 "nbformat": 4,
 "nbformat_minor": 4
}
