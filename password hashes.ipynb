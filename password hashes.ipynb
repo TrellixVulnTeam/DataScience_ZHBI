{
 "cells": [
  {
   "cell_type": "code",
   "execution_count": 6,
   "id": "404a882b",
   "metadata": {},
   "outputs": [],
   "source": [
    "import bcrypt\n",
    "from werkzeug.security import generate_password_hash, check_password_hash\n"
   ]
  },
  {
   "cell_type": "code",
   "execution_count": 95,
   "id": "cd83e468",
   "metadata": {},
   "outputs": [],
   "source": [
    "secret_key = \"urNWC9UxGb3hMm_mD5Z_tQBzsMMA49ge2ZocCNP4IcM=\"\n",
    "password = \"abcd1234efgh\""
   ]
  },
  {
   "cell_type": "code",
   "execution_count": 77,
   "id": "5a91b12e",
   "metadata": {},
   "outputs": [
    {
     "data": {
      "text/plain": [
       "32"
      ]
     },
     "execution_count": 77,
     "metadata": {},
     "output_type": "execute_result"
    }
   ],
   "source": [
    "len(secret_key)"
   ]
  },
  {
   "cell_type": "code",
   "execution_count": 18,
   "id": "673ed68c",
   "metadata": {},
   "outputs": [],
   "source": [
    "def set_password(password):\n",
    "    password_hash = generate_password_hash(password)\n",
    "    return password_hash\n",
    "\n",
    "def check_password(password_hash, password):\n",
    "    return check_password_hash(password_hash, password)"
   ]
  },
  {
   "cell_type": "code",
   "execution_count": 22,
   "id": "c41c3d40",
   "metadata": {},
   "outputs": [
    {
     "data": {
      "text/plain": [
       "'pbkdf2:sha256:260000$fGOPtfvphAPmw1JN$8a1e970805dfce4bbbefb505a6711aeaaa482dd1b1aa57a99351d7815c4f68f8'"
      ]
     },
     "execution_count": 22,
     "metadata": {},
     "output_type": "execute_result"
    }
   ],
   "source": [
    "pw_hash = set_password(password)\n",
    "pw_hash"
   ]
  },
  {
   "cell_type": "code",
   "execution_count": 21,
   "id": "c89dea78",
   "metadata": {},
   "outputs": [
    {
     "data": {
      "text/plain": [
       "True"
      ]
     },
     "execution_count": 21,
     "metadata": {},
     "output_type": "execute_result"
    }
   ],
   "source": [
    "check_password(pw_hash,password)"
   ]
  },
  {
   "cell_type": "code",
   "execution_count": 25,
   "id": "13bff277",
   "metadata": {},
   "outputs": [
    {
     "data": {
      "text/plain": [
       "'pbkdf2:sha256:260000$f7xt6dZzKrWsQLmf$084f2b81ad2decb52c743d82658223c508dc06582bd02da5b8870e4235787b6e'"
      ]
     },
     "execution_count": 25,
     "metadata": {},
     "output_type": "execute_result"
    }
   ],
   "source": [
    "generate_password_hash(\"a\")"
   ]
  },
  {
   "cell_type": "code",
   "execution_count": 46,
   "id": "75c9a57a",
   "metadata": {},
   "outputs": [
    {
     "data": {
      "text/plain": [
       "b'$2b$12$Cyi1NcG1SzhXmLovMqaFOusdvAwVSpMNqqNrPxwhoUsvVWvbhZ8rO'"
      ]
     },
     "execution_count": 46,
     "metadata": {},
     "output_type": "execute_result"
    }
   ],
   "source": [
    "bcrypt.hashpw(password.encode('utf-8'),bcrypt.gensalt())"
   ]
  },
  {
   "cell_type": "code",
   "execution_count": 45,
   "id": "0bc788bc",
   "metadata": {},
   "outputs": [
    {
     "data": {
      "text/plain": [
       "b'$2b$12$C.4TxM4kh.ZbBowQjK.jle'"
      ]
     },
     "execution_count": 45,
     "metadata": {},
     "output_type": "execute_result"
    }
   ],
   "source": [
    "bcrypt.gensalt()"
   ]
  },
  {
   "cell_type": "code",
   "execution_count": 43,
   "id": "9a0dc1a3",
   "metadata": {},
   "outputs": [
    {
     "data": {
      "text/plain": [
       "b'as456r7t8y92ehiudwgysftg#$%^&*UGVCTDR$%^&FYVG&T^R%DTRYV'"
      ]
     },
     "execution_count": 43,
     "metadata": {},
     "output_type": "execute_result"
    }
   ],
   "source": [
    "secret_key.encode('utf-8')"
   ]
  },
  {
   "cell_type": "code",
   "execution_count": 136,
   "id": "8ce1f97e",
   "metadata": {},
   "outputs": [
    {
     "name": "stdout",
     "output_type": "stream",
     "text": [
      "encrypted string:  b'gAAAAABg3qhlVaOlvE1BIZgj5XV_cGlgRxzPmPvIzy-cwyv4rhaeCMSueaNR8FFlvyRtf3w_fYwhW2I05nJYrDf8SgnZLu0vmVXEe-x6Kxr9j14aMbu5jFM='\n"
     ]
    }
   ],
   "source": [
    "from cryptography.fernet import Fernet\n",
    "key = Fernet.generate_key()\n",
    "  \n",
    "fernet = Fernet(secret_key.encode())\n",
    "  \n",
    "password1 = \"rishav_rishav_123_123_@#$%\"\n",
    "# password2 = \"#$%TYUG&^%$LIUYFVRTDFYUGHI*&^FG*\"\n",
    "# password3 = \"#$%TYUG&^%$34567(RDTFYGUH()*&^FGY)\"\n",
    "# password4 = \"#$%TYUG&^%$YUHJ`67-098KLkjHtg6578\"\n",
    "\n",
    "    \n",
    "encMessage1 = fernet.encrypt(password1.encode())\n",
    "# encMessage2 = fernet.encrypt(password2.encode())\n",
    "# encMessage3 = fernet.encrypt(password3.encode())\n",
    "# encMessage4 = fernet.encrypt(password4.encode())\n",
    "\n",
    "\n",
    "print(\"encrypted string: \", encMessage1)\n",
    "# print(\"encrypted string: \", encMessage2)\n",
    "# print(\"encrypted string: \", encMessage3)\n",
    "# print(\"encrypted string: \", encMessage4)"
   ]
  },
  {
   "cell_type": "code",
   "execution_count": 137,
   "id": "c9c4f50d",
   "metadata": {},
   "outputs": [
    {
     "data": {
      "text/plain": [
       "b'rishav_rishav_123_123_@#$%'"
      ]
     },
     "execution_count": 137,
     "metadata": {},
     "output_type": "execute_result"
    }
   ],
   "source": [
    "fernet.decrypt(encMessage1)"
   ]
  },
  {
   "cell_type": "code",
   "execution_count": 133,
   "id": "dbf9c141",
   "metadata": {},
   "outputs": [
    {
     "data": {
      "text/plain": [
       "('#$%TYUG&^%$CTYVGCFXRERCTGVY2345t',\n",
       " '#$%TYUG&^%$LIUYFVRTDFYUGHI*&^FG*',\n",
       " '#$%TYUG&^%$34567(RDTFYGUH()*&^FGY)',\n",
       " '#$%TYUG&^%$YUHJ`67-098KLkjHtg6578')"
      ]
     },
     "execution_count": 133,
     "metadata": {},
     "output_type": "execute_result"
    }
   ],
   "source": [
    "fernet.decrypt(encMessage1).decode(),fernet.decrypt(encMessage2).decode(),fernet.decrypt(encMessage3).decode(),fernet.decrypt(encMessage4).decode()"
   ]
  },
  {
   "cell_type": "code",
   "execution_count": null,
   "id": "e2ffdd58",
   "metadata": {},
   "outputs": [],
   "source": []
  },
  {
   "cell_type": "code",
   "execution_count": null,
   "id": "de9967a7",
   "metadata": {},
   "outputs": [],
   "source": []
  },
  {
   "cell_type": "code",
   "execution_count": null,
   "id": "4885e117",
   "metadata": {},
   "outputs": [],
   "source": []
  }
 ],
 "metadata": {
  "kernelspec": {
   "display_name": "Python 3",
   "language": "python",
   "name": "python3"
  },
  "language_info": {
   "codemirror_mode": {
    "name": "ipython",
    "version": 3
   },
   "file_extension": ".py",
   "mimetype": "text/x-python",
   "name": "python",
   "nbconvert_exporter": "python",
   "pygments_lexer": "ipython3",
   "version": "3.9.5"
  }
 },
 "nbformat": 4,
 "nbformat_minor": 5
}
