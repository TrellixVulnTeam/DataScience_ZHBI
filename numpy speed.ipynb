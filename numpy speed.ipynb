{
 "cells": [
  {
   "cell_type": "code",
   "execution_count": 15,
   "metadata": {},
   "outputs": [
    {
     "name": "stdout",
     "output_type": "stream",
     "text": [
      "Size of list: 14000\n",
      "Size of array: 4000\n"
     ]
    }
   ],
   "source": [
    "import numpy as np\n",
    "import sys\n",
    "\n",
    "l=range(1000)\n",
    "print(\"Size of list:\",sys.getsizeof(1)*len(l))\n",
    "a=np.arange(1000)\n",
    "print(\"Size of array:\",len(a)*a.itemsize)\n"
   ]
  },
  {
   "cell_type": "code",
   "execution_count": 60,
   "metadata": {},
   "outputs": [
    {
     "name": "stdout",
     "output_type": "stream",
     "text": [
      "0.03889584541320801 0.000997304916381836\n",
      "Numpy is 39.000956251494145 faster than list\n"
     ]
    }
   ],
   "source": [
    "import time\n",
    "def using_list():\n",
    "    t1=time.time()\n",
    "    x=range(100000)\n",
    "    y=range(100000)\n",
    "    z=[x[i]+y[i] for i in range(len(x))]\n",
    "    return time.time()-t1\n",
    "    \n",
    "    \n",
    "def using_numpyarray():\n",
    "    t1=time.time()\n",
    "    a=np.arange(100000)\n",
    "    b=np.arange(100000)\n",
    "    z=a+b\n",
    "    return time.time()-t1\n",
    "\n",
    "list_time=using_list()\n",
    "numpy_time=using_numpyarray()\n",
    "print(list_time,numpy_time)\n",
    "print(\"Numpy is\",(list_time/numpy_time),\"faster than list\")\n",
    "\n",
    "\n"
   ]
  }
 ],
 "metadata": {
  "kernelspec": {
   "display_name": "Python 3",
   "language": "python",
   "name": "python3"
  },
  "language_info": {
   "codemirror_mode": {
    "name": "ipython",
    "version": 3
   },
   "file_extension": ".py",
   "mimetype": "text/x-python",
   "name": "python",
   "nbconvert_exporter": "python",
   "pygments_lexer": "ipython3",
   "version": "3.7.4"
  }
 },
 "nbformat": 4,
 "nbformat_minor": 2
}
