{
 "cells": [
  {
   "cell_type": "code",
   "execution_count": 2,
   "metadata": {},
   "outputs": [
    {
     "data": {
      "text/plain": [
       "\n",
       "<!DOCTYPE html>\n",
       "\n",
       "<html>\n",
       "<head>\n",
       "<meta charset=\"utf-8\"/>\n",
       "<meta content=\"IE=edge\" http-equiv=\"X-UA-Compatible\"/>\n",
       "<title>Help Center</title>\n",
       "<meta content=\"width=device-width, initial-scale=1\" name=\"viewport\"/>\n",
       "<link href=\"//g.alicdn.com/helphub/helphub-lib/0.0.5/antd/3.13.2/antd.min.css\" rel=\"stylesheet\"/>\n",
       "<script>\n",
       "        window.g_config_d9d0d375c966e68a = {\"siblingPages\":[{\"instanceId\":5,\"pageType\":\"home\",\"viewEnd\":\"pc\",\"baseColourList\":[{\"colourValue\":\"#FF6A00\",\"colourKey\":\"--color-a-1\"},{\"colourValue\":\"#FF8929\",\"colourKey\":\"--color-a-2\"},{\"colourValue\":\"#D95201\",\"colourKey\":\"--color-a-3\"},{\"colourValue\":\"#FFF7F5\",\"colourKey\":\"--color-a-4\"},{\"colourValue\":\"#FFE3DB\",\"colourKey\":\"--color-a-5\"},{\"colourValue\":\"#FEA666\",\"colourKey\":\"--color-a-6\"},{\"colourValue\":\"#FEF0D7\",\"colourKey\":\"--color-a-7\"}],\"entityType\":\"scenario\",\"icon\":\"//starship-sg-public.oss-ap-southeast-1.aliyuncs.com/daraz%20tab%20icon.png\",\"name\":\"Homepage\",\"entityId\":3,\"theme\":\"orange\",\"id\":3,\"url\":\"/page/home?pageId=3\"},{\"instanceId\":5,\"pageType\":\"knowledge\",\"viewEnd\":\"pc\",\"baseColourList\":[{\"colourValue\":\"#FF6A00\",\"colourKey\":\"--color-a-1\"},{\"colourValue\":\"#FF8929\",\"colourKey\":\"--color-a-2\"},{\"colourValue\":\"#D95201\",\"colourKey\":\"--color-a-3\"},{\"colourValue\":\"#FFF7F5\",\"colourKey\":\"--color-a-4\"},{\"colourValue\":\"#FFE3DB\",\"colourKey\":\"--color-a-5\"},{\"colourValue\":\"#FEA666\",\"colourKey\":\"--color-a-6\"},{\"colourValue\":\"#FEF0D7\",\"colourKey\":\"--color-a-7\"}],\"entityType\":\"scenario\",\"icon\":\"//starship-sg-public.oss-ap-southeast-1.aliyuncs.com/daraz%20tab%20icon.png\",\"name\":\"FAQ\",\"entityId\":3,\"theme\":\"orange\",\"id\":13,\"url\":\"/page/knowledge?pageId=13\"},{\"instanceId\":5,\"pageType\":\"search\",\"viewEnd\":\"pc\",\"baseColourList\":[{\"colourValue\":\"#FF6A00\",\"colourKey\":\"--color-a-1\"},{\"colourValue\":\"#FF8929\",\"colourKey\":\"--color-a-2\"},{\"colourValue\":\"#D95201\",\"colourKey\":\"--color-a-3\"},{\"colourValue\":\"#FFF7F5\",\"colourKey\":\"--color-a-4\"},{\"colourValue\":\"#FFE3DB\",\"colourKey\":\"--color-a-5\"},{\"colourValue\":\"#FEA666\",\"colourKey\":\"--color-a-6\"},{\"colourValue\":\"#FEF0D7\",\"colourKey\":\"--color-a-7\"}],\"entityType\":\"scenario\",\"icon\":\"//starship-sg-public.oss-ap-southeast-1.aliyuncs.com/daraz%20tab%20icon.png\",\"name\":\"Search\",\"entityId\":3,\"theme\":\"orange\",\"id\":8,\"url\":\"/page/search?pageId=8\"}],\"plugins\":[{\"frontEndCode\":\"icms-header\",\"entityType\":\"header\",\"frontEndVersion\":\"0.0.1\",\"priority\":1},{\"frontEndCode\":\"page-toolbar\",\"t\":{\"leftNavigationItems\":[{\"text\":\"Help Center\",\"navigationItemType\":\"text\"}],\"pageNavigationItems\":[{\"instanceId\":5,\"pageType\":\"home\",\"viewEnd\":\"pc\",\"entityType\":\"scenario\",\"icon\":\"//starship-sg-public.oss-ap-southeast-1.aliyuncs.com/daraz%20tab%20icon.png\",\"name\":\"Homepage\",\"entityId\":3,\"theme\":\"orange\",\"id\":3,\"url\":\"/page/home?pageId=3\"},{\"instanceId\":5,\"pageType\":\"knowledge\",\"viewEnd\":\"pc\",\"entityType\":\"scenario\",\"icon\":\"//starship-sg-public.oss-ap-southeast-1.aliyuncs.com/daraz%20tab%20icon.png\",\"name\":\"FAQ\",\"entityId\":3,\"theme\":\"orange\",\"id\":13,\"url\":\"/page/knowledge?pageId=13\"}]},\"entityType\":\"navigationbar\",\"frontEndVersion\":\"1.0.8\",\"priority\":2},{\"frontEndCode\":\"helphub-page-body\",\"entityType\":\"page\",\"frontEndVersion\":\"1.0.5\",\"priority\":3},{\"frontEndCode\":\"icms-footer\",\"entityType\":\"footer\",\"frontEndVersion\":\"0.0.1\",\"priority\":4}],\"language\":\"en\",\"currentPage\":{\"instanceId\":5,\"pageType\":\"home\",\"viewEnd\":\"pc\",\"baseColourList\":[{\"colourValue\":\"#FF6A00\",\"colourKey\":\"--color-a-1\"},{\"colourValue\":\"#FF8929\",\"colourKey\":\"--color-a-2\"},{\"colourValue\":\"#D95201\",\"colourKey\":\"--color-a-3\"},{\"colourValue\":\"#FFF7F5\",\"colourKey\":\"--color-a-4\"},{\"colourValue\":\"#FFE3DB\",\"colourKey\":\"--color-a-5\"},{\"colourValue\":\"#FEA666\",\"colourKey\":\"--color-a-6\"},{\"colourValue\":\"#FEF0D7\",\"colourKey\":\"--color-a-7\"}],\"entityType\":\"scenario\",\"icon\":\"//starship-sg-public.oss-ap-southeast-1.aliyuncs.com/daraz%20tab%20icon.png\",\"name\":\"Homepage\",\"entityId\":3,\"theme\":\"orange\",\"id\":3,\"url\":\"/page/home?pageId=3\"},\"env\":\"online\"};\n",
       "        window.g_resource = {};\n",
       "    </script>\n",
       "<script src=\"//g.alicdn.com/helphub/??helphub-lib/0.0.5/require/2.3.6/require.min.js,helphub-entry/1.0.11/config.js\" type=\"text/javascript\"></script>\n",
       "<link href=\"//starship-sg-public.oss-ap-southeast-1.aliyuncs.com/daraz%20tab%20icon.png\" rel=\"shortcut icon\" type=\"image/png\"/>\n",
       "<script>\n",
       "\n",
       "                    var _g_q = (window.goldlog_queue || (window.goldlog_queue = []));\n",
       "            _g_q.push({\n",
       "                action: 'goldlog.setMetaInfo',\n",
       "                arguments: ['aplus-rhost-g', 'sg.mmstat.com']\n",
       "            });\n",
       "        \n",
       "\n",
       "\n",
       "        (function (window, document, tagName, url, name) {\n",
       "            window.XTrackerLoggerObject = name;\n",
       "            window[name] = window[name] || function () {\n",
       "                (window[name].q = window[name].q || []).push(arguments);\n",
       "            };\n",
       "            var sdk = document.createElement(tagName);\n",
       "            var position = document.getElementsByTagName(tagName)[0];\n",
       "            sdk.async = 1;\n",
       "            sdk.src = url;\n",
       "            position.parentNode.insertBefore(sdk, position);\n",
       "        } (window, document, 'script', '//g.alicdn.com/xtracker/xtracker/logger.min.js', 'XT'));\n",
       "    </script>\n",
       "</head>\n",
       "<body><script>\n",
       "with(document)with(body)with(insertBefore(createElement(\"script\"),firstChild))setAttribute(\"exparams\",\"category=&userid=&aplus&yunid=&&trid=0b5b05a116064732310975770e364b&asid=AQAAAAAP1sBfI8RSMQAAAADBb9iwBSXSpw==\",id=\"tb-beacon-aplus\",src=(location>\"https\"?\"//g\":\"//g\")+\".alicdn.com/alilog/mlog/aplus_v2.js\")\n",
       "</script>\n",
       "<div class=\"app-wrapper\">\n",
       "<div id=\"helphub\"></div>\n",
       "</div>\n",
       "</body>\n",
       "</html>"
      ]
     },
     "execution_count": 2,
     "metadata": {},
     "output_type": "execute_result"
    }
   ],
   "source": [
    "import requests\n",
    "from bs4 import BeautifulSoup\n",
    "url='https://helpcenter.daraz.com.np/page/home?pageId=3&language=en'\n",
    "r=requests.get(url)\n",
    "htmlcontent=r.content\n",
    "soup=BeautifulSoup(htmlcontent,'html.parser')\n",
    "soup"
   ]
  },
  {
   "cell_type": "code",
   "execution_count": null,
   "metadata": {},
   "outputs": [],
   "source": []
  },
  {
   "cell_type": "code",
   "execution_count": null,
   "metadata": {},
   "outputs": [],
   "source": []
  },
  {
   "cell_type": "code",
   "execution_count": null,
   "metadata": {},
   "outputs": [],
   "source": []
  },
  {
   "cell_type": "code",
   "execution_count": null,
   "metadata": {},
   "outputs": [],
   "source": []
  },
  {
   "cell_type": "code",
   "execution_count": null,
   "metadata": {},
   "outputs": [],
   "source": []
  },
  {
   "cell_type": "code",
   "execution_count": null,
   "metadata": {},
   "outputs": [],
   "source": []
  }
 ],
 "metadata": {
  "kernelspec": {
   "display_name": "Python 3",
   "language": "python",
   "name": "python3"
  },
  "language_info": {
   "codemirror_mode": {
    "name": "ipython",
    "version": 3
   },
   "file_extension": ".py",
   "mimetype": "text/x-python",
   "name": "python",
   "nbconvert_exporter": "python",
   "pygments_lexer": "ipython3",
   "version": "3.7.7"
  }
 },
 "nbformat": 4,
 "nbformat_minor": 4
}
