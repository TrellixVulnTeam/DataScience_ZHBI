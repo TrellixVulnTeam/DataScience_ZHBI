{
 "cells": [
  {
   "cell_type": "code",
   "execution_count": 90,
   "id": "08e0768f",
   "metadata": {},
   "outputs": [
    {
     "data": {
      "text/plain": [
       "[2, 3, 4, 5, 1]"
      ]
     },
     "execution_count": 90,
     "metadata": {},
     "output_type": "execute_result"
    }
   ],
   "source": [
    "arr = [1,2,3,4,5]\n",
    "def left_rotate(arr,d,n):\n",
    "    temp = arr[0]\n",
    "    for i in range(n-1):\n",
    "        arr[i] = arr[i+1]\n",
    "    arr[n-1] = temp\n",
    "        \n",
    "left_rotate(arr,2,5)\n",
    "arr"
   ]
  },
  {
   "cell_type": "code",
   "execution_count": 89,
   "id": "d8f70b43",
   "metadata": {},
   "outputs": [
    {
     "data": {
      "text/plain": [
       "[5, 1, 2, 3, 4]"
      ]
     },
     "execution_count": 89,
     "metadata": {},
     "output_type": "execute_result"
    }
   ],
   "source": [
    "def right_rotate(arr,d,n):\n",
    "    temp = arr[n-1]\n",
    "    for i in range(n-1,0,-1):\n",
    "        arr[i] = arr[i-1]\n",
    "    arr[0] = temp\n",
    "\n",
    "arr = [1,2,3,4,5]        \n",
    "left_rotate(arr,2,5)\n",
    "arr"
   ]
  },
  {
   "cell_type": "code",
   "execution_count": 95,
   "id": "cd6193a4",
   "metadata": {},
   "outputs": [
    {
     "data": {
      "text/plain": [
       "[3, 4, 5, 1, 2]"
      ]
     },
     "execution_count": 95,
     "metadata": {},
     "output_type": "execute_result"
    }
   ],
   "source": [
    "arr = [1,2,3,4,5]\n",
    "def left_rotate_by_d(arr,d,n):\n",
    "    for _ in range(d):\n",
    "        temp = arr[0]\n",
    "        for i in range(n-1):\n",
    "            arr[i] = arr[i+1]\n",
    "        arr[n-1] = temp\n",
    "        \n",
    "left_rotate_by_d(arr,2,5)\n",
    "arr"
   ]
  },
  {
   "cell_type": "code",
   "execution_count": 96,
   "id": "2dce5005",
   "metadata": {},
   "outputs": [
    {
     "data": {
      "text/plain": [
       "[4, 5, 1, 2, 3]"
      ]
     },
     "execution_count": 96,
     "metadata": {},
     "output_type": "execute_result"
    }
   ],
   "source": [
    "def right_rotate_by_d(arr,d,n):\n",
    "    for _ in range(d):\n",
    "        temp = arr[n-1]\n",
    "        for i in range(n-1,0,-1):\n",
    "            arr[i] = arr[i-1]\n",
    "        arr[0] = temp\n",
    "arr = [1,2,3,4,5]        \n",
    "right_rotate_by_d(arr,2,5)\n",
    "arr"
   ]
  },
  {
   "cell_type": "code",
   "execution_count": null,
   "id": "37e03708",
   "metadata": {},
   "outputs": [],
   "source": []
  }
 ],
 "metadata": {
  "kernelspec": {
   "display_name": "Python 3 (ipykernel)",
   "language": "python",
   "name": "python3"
  },
  "language_info": {
   "codemirror_mode": {
    "name": "ipython",
    "version": 3
   },
   "file_extension": ".py",
   "mimetype": "text/x-python",
   "name": "python",
   "nbconvert_exporter": "python",
   "pygments_lexer": "ipython3",
   "version": "3.9.6"
  }
 },
 "nbformat": 4,
 "nbformat_minor": 5
}
