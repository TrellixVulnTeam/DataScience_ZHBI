{
 "cells": [
  {
   "cell_type": "code",
   "execution_count": 105,
   "metadata": {},
   "outputs": [],
   "source": [
    "import pandas as pd\n",
    "import numpy as np\n",
    "import matplotlib.pyplot as pl\n",
    "import seaborn as sns\n",
    "from sklearn.linear_model import LinearRegression\n",
    "import plotly.express as px\n",
    "import plotly.graph_objects as go\n",
    "from sklearn.preprocessing import StandardScaler\n",
    "from sklearn.model_selection import train_test_split\n",
    "from sklearn.model_selection import cross_val_score\n",
    "from sklearn.model_selection import KFold\n",
    "from sklearn.metrics import r2_score\n",
    "from sklearn.externals import joblib"
   ]
  },
  {
   "cell_type": "code",
   "execution_count": 2,
   "metadata": {},
   "outputs": [],
   "source": [
    "df=pd.read_excel('startup.xlsx')"
   ]
  },
  {
   "cell_type": "code",
   "execution_count": 3,
   "metadata": {},
   "outputs": [
    {
     "data": {
      "text/html": [
       "<div>\n",
       "<style scoped>\n",
       "    .dataframe tbody tr th:only-of-type {\n",
       "        vertical-align: middle;\n",
       "    }\n",
       "\n",
       "    .dataframe tbody tr th {\n",
       "        vertical-align: top;\n",
       "    }\n",
       "\n",
       "    .dataframe thead th {\n",
       "        text-align: right;\n",
       "    }\n",
       "</style>\n",
       "<table border=\"1\" class=\"dataframe\">\n",
       "  <thead>\n",
       "    <tr style=\"text-align: right;\">\n",
       "      <th></th>\n",
       "      <th>R&amp;D Spend</th>\n",
       "      <th>Administration</th>\n",
       "      <th>Marketing Spend</th>\n",
       "      <th>State</th>\n",
       "      <th>Profit</th>\n",
       "    </tr>\n",
       "  </thead>\n",
       "  <tbody>\n",
       "    <tr>\n",
       "      <th>0</th>\n",
       "      <td>165349.20</td>\n",
       "      <td>136897.80</td>\n",
       "      <td>471784.10</td>\n",
       "      <td>New York</td>\n",
       "      <td>192261.83</td>\n",
       "    </tr>\n",
       "    <tr>\n",
       "      <th>1</th>\n",
       "      <td>162597.70</td>\n",
       "      <td>151377.59</td>\n",
       "      <td>443898.53</td>\n",
       "      <td>California</td>\n",
       "      <td>191792.06</td>\n",
       "    </tr>\n",
       "    <tr>\n",
       "      <th>2</th>\n",
       "      <td>153441.51</td>\n",
       "      <td>101145.55</td>\n",
       "      <td>407934.54</td>\n",
       "      <td>Florida</td>\n",
       "      <td>191050.39</td>\n",
       "    </tr>\n",
       "    <tr>\n",
       "      <th>3</th>\n",
       "      <td>144372.41</td>\n",
       "      <td>118671.85</td>\n",
       "      <td>383199.62</td>\n",
       "      <td>New York</td>\n",
       "      <td>182901.99</td>\n",
       "    </tr>\n",
       "    <tr>\n",
       "      <th>4</th>\n",
       "      <td>142107.34</td>\n",
       "      <td>91391.77</td>\n",
       "      <td>366168.42</td>\n",
       "      <td>Florida</td>\n",
       "      <td>166187.94</td>\n",
       "    </tr>\n",
       "  </tbody>\n",
       "</table>\n",
       "</div>"
      ],
      "text/plain": [
       "   R&D Spend  Administration  Marketing Spend       State     Profit\n",
       "0  165349.20       136897.80        471784.10    New York  192261.83\n",
       "1  162597.70       151377.59        443898.53  California  191792.06\n",
       "2  153441.51       101145.55        407934.54     Florida  191050.39\n",
       "3  144372.41       118671.85        383199.62    New York  182901.99\n",
       "4  142107.34        91391.77        366168.42     Florida  166187.94"
      ]
     },
     "execution_count": 3,
     "metadata": {},
     "output_type": "execute_result"
    }
   ],
   "source": [
    "df.head()"
   ]
  },
  {
   "cell_type": "code",
   "execution_count": 4,
   "metadata": {},
   "outputs": [
    {
     "data": {
      "text/plain": [
       "(array([5., 0., 1., 3., 3., 1., 2., 1., 1., 6., 2., 6., 0., 3., 2., 2., 0.,\n",
       "        1., 3., 2., 1., 2., 0., 1., 2.]),\n",
       " array([     0.   ,   6613.968,  13227.936,  19841.904,  26455.872,\n",
       "         33069.84 ,  39683.808,  46297.776,  52911.744,  59525.712,\n",
       "         66139.68 ,  72753.648,  79367.616,  85981.584,  92595.552,\n",
       "         99209.52 , 105823.488, 112437.456, 119051.424, 125665.392,\n",
       "        132279.36 , 138893.328, 145507.296, 152121.264, 158735.232,\n",
       "        165349.2  ]),\n",
       " <a list of 25 Patch objects>)"
      ]
     },
     "execution_count": 4,
     "metadata": {},
     "output_type": "execute_result"
    },
    {
     "data": {
      "image/png": "[encoded data removed]",
      "text/plain": [
       "<Figure size 432x288 with 1 Axes>"
      ]
     },
     "metadata": {
      "needs_background": "light"
     },
     "output_type": "display_data"
    }
   ],
   "source": [
    "pl.hist(df['R&D Spend'],bins=25)"
   ]
  },
  {
   "cell_type": "code",
   "execution_count": 5,
   "metadata": {},
   "outputs": [
    {
     "data": {
      "text/plain": [
       "<matplotlib.axes._subplots.AxesSubplot at 0x2cbee23df08>"
      ]
     },
     "execution_count": 5,
     "metadata": {},
     "output_type": "execute_result"
    },
    {
     "data": {
      "image/png": "[encoded data removed]",
      "text/plain": [
       "<Figure size 432x288 with 1 Axes>"
      ]
     },
     "metadata": {
      "needs_background": "light"
     },
     "output_type": "display_data"
    }
   ],
   "source": [
    "sns.distplot(df['R&D Spend'])"
   ]
  },
  {
   "cell_type": "code",
   "execution_count": 6,
   "metadata": {},
   "outputs": [
    {
     "data": {
      "text/plain": [
       "Index(['R&D Spend', 'Administration', 'Marketing Spend', 'State', 'Profit'], dtype='object')"
      ]
     },
     "execution_count": 6,
     "metadata": {},
     "output_type": "execute_result"
    }
   ],
   "source": [
    "df.columns\n"
   ]
  },
  {
   "cell_type": "code",
   "execution_count": 7,
   "metadata": {},
   "outputs": [
    {
     "data": {
      "image/png": "[encoded data removed]",
      "text/plain": [
       "<Figure size 720x720 with 20 Axes>"
      ]
     },
     "metadata": {
      "needs_background": "light"
     },
     "output_type": "display_data"
    }
   ],
   "source": [
    "sns.pairplot(df)\n",
    "pl.show()"
   ]
  },
  {
   "cell_type": "code",
   "execution_count": 8,
   "metadata": {},
   "outputs": [
    {
     "data": {
      "text/plain": [
       "<matplotlib.axes._subplots.AxesSubplot at 0x2cbeebc04c8>"
      ]
     },
     "execution_count": 8,
     "metadata": {},
     "output_type": "execute_result"
    },
    {
     "data": {
      "image/png": "[encoded data removed]",
      "text/plain": [
       "<Figure size 432x288 with 1 Axes>"
      ]
     },
     "metadata": {
      "needs_background": "light"
     },
     "output_type": "display_data"
    }
   ],
   "source": [
    "sns.pointplot(data=df,x='R&D Spend',y='Profit')"
   ]
  },
  {
   "cell_type": "code",
   "execution_count": 12,
   "metadata": {},
   "outputs": [],
   "source": [
    "fig=go.Figure()"
   ]
  },
  {
   "cell_type": "code",
   "execution_count": 13,
   "metadata": {},
   "outputs": [
    {
     "data": {
      "application/vnd.plotly.v1+json": {
       "config": {
        "plotlyServerURL": "https://plot.ly"
       },
       "data": [
        {
         "mode": "lines+markers",
         "type": "scatter",
         "x": [
          165349.2,
          162597.7,
          153441.51,
          144372.41,
          142107.34,
          131876.9,
          134615.46,
          130298.13,
          120542.52,
          123334.88,
          101913.08,
          100671.96,
          93863.75,
          91992.39,
          119943.24,
          114523.61,
          78013.11,
          94657.16,
          91749.16,
          86419.7,
          76253.86,
          78389.47,
          73994.56,
          67532.53,
          77044.01,
          64664.71,
          75328.87,
          72107.6,
          66051.52,
          65605.48,
          61994.48,
          61136.38,
          63408.86,
          55493.95,
          46426.07,
          46014.02,
          28663.76,
          44069.95,
          20229.59,
          38558.51,
          28754.33,
          27892.92,
          23640.93,
          15505.73,
          22177.74,
          1000.23,
          1315.46,
          0,
          542.05,
          0
         ],
         "y": [
          192261.83,
          191792.06,
          191050.39,
          182901.99,
          166187.94,
          156991.12,
          156122.51,
          155752.6,
          152211.77,
          149759.96,
          146121.95,
          144259.4,
          141585.52,
          134307.35,
          132602.65,
          129917.04,
          126992.93,
          125370.37,
          124266.9,
          122776.86,
          118474.03,
          111313.02,
          110352.25,
          108733.99,
          108552.04,
          107404.34,
          105733.54,
          105008.31,
          103282.38,
          101004.64,
          99937.59,
          97483.56,
          97427.84,
          96778.92,
          96712.8,
          96479.51,
          90708.19,
          89949.14,
          81229.06,
          81005.76,
          78239.91,
          77798.83,
          71498.49,
          69758.98,
          65200.33,
          64926.08,
          49490.75,
          42559.73,
          35673.41,
          14681.4
         ]
        }
       ],
       "layout": {
        "template": {
         "data": {
          "bar": [
           {
            "error_x": {
             "color": "#2a3f5f"
            },
            "error_y": {
             "color": "#2a3f5f"
            },
            "marker": {
             "line": {
              "color": "#E5ECF6",
              "width": 0.5
             }
            },
            "type": "bar"
           }
          ],
          "barpolar": [
           {
            "marker": {
             "line": {
              "color": "#E5ECF6",
              "width": 0.5
             }
            },
            "type": "barpolar"
           }
          ],
          "carpet": [
           {
            "aaxis": {
             "endlinecolor": "#2a3f5f",
             "gridcolor": "white",
             "linecolor": "white",
             "minorgridcolor": "white",
             "startlinecolor": "#2a3f5f"
            },
            "baxis": {
             "endlinecolor": "#2a3f5f",
             "gridcolor": "white",
             "linecolor": "white",
             "minorgridcolor": "white",
             "startlinecolor": "#2a3f5f"
            },
            "type": "carpet"
           }
          ],
          "choropleth": [
           {
            "colorbar": {
             "outlinewidth": 0,
             "ticks": ""
            },
            "type": "choropleth"
           }
          ],
          "contour": [
           {
            "colorbar": {
             "outlinewidth": 0,
             "ticks": ""
            },
            "colorscale": [
             [
              0,
              "#0d0887"
             ],
             [
              0.1111111111111111,
              "#46039f"
             ],
             [
              0.2222222222222222,
              "#7201a8"
             ],
             [
              0.3333333333333333,
              "#9c179e"
             ],
             [
              0.4444444444444444,
              "#bd3786"
             ],
             [
              0.5555555555555556,
              "#d8576b"
             ],
             [
              0.6666666666666666,
              "#ed7953"
             ],
             [
              0.7777777777777778,
              "#fb9f3a"
             ],
             [
              0.8888888888888888,
              "#fdca26"
             ],
             [
              1,
              "#f0f921"
             ]
            ],
            "type": "contour"
           }
          ],
          "contourcarpet": [
           {
            "colorbar": {
             "outlinewidth": 0,
             "ticks": ""
            },
            "type": "contourcarpet"
           }
          ],
          "heatmap": [
           {
            "colorbar": {
             "outlinewidth": 0,
             "ticks": ""
            },
            "colorscale": [
             [
              0,
              "#0d0887"
             ],
             [
              0.1111111111111111,
              "#46039f"
             ],
             [
              0.2222222222222222,
              "#7201a8"
             ],
             [
              0.3333333333333333,
              "#9c179e"
             ],
             [
              0.4444444444444444,
              "#bd3786"
             ],
             [
              0.5555555555555556,
              "#d8576b"
             ],
             [
              0.6666666666666666,
              "#ed7953"
             ],
             [
              0.7777777777777778,
              "#fb9f3a"
             ],
             [
              0.8888888888888888,
              "#fdca26"
             ],
             [
              1,
              "#f0f921"
             ]
            ],
            "type": "heatmap"
           }
          ],
          "heatmapgl": [
           {
            "colorbar": {
             "outlinewidth": 0,
             "ticks": ""
            },
            "colorscale": [
             [
              0,
              "#0d0887"
             ],
             [
              0.1111111111111111,
              "#46039f"
             ],
             [
              0.2222222222222222,
              "#7201a8"
             ],
             [
              0.3333333333333333,
              "#9c179e"
             ],
             [
              0.4444444444444444,
              "#bd3786"
             ],
             [
              0.5555555555555556,
              "#d8576b"
             ],
             [
              0.6666666666666666,
              "#ed7953"
             ],
             [
              0.7777777777777778,
              "#fb9f3a"
             ],
             [
              0.8888888888888888,
              "#fdca26"
             ],
             [
              1,
              "#f0f921"
             ]
            ],
            "type": "heatmapgl"
           }
          ],
          "histogram": [
           {
            "marker": {
             "colorbar": {
              "outlinewidth": 0,
              "ticks": ""
             }
            },
            "type": "histogram"
           }
          ],
          "histogram2d": [
           {
            "colorbar": {
             "outlinewidth": 0,
             "ticks": ""
            },
            "colorscale": [
             [
              0,
              "#0d0887"
             ],
             [
              0.1111111111111111,
              "#46039f"
             ],
             [
              0.2222222222222222,
              "#7201a8"
             ],
             [
              0.3333333333333333,
              "#9c179e"
             ],
             [
              0.4444444444444444,
              "#bd3786"
             ],
             [
              0.5555555555555556,
              "#d8576b"
             ],
             [
              0.6666666666666666,
              "#ed7953"
             ],
             [
              0.7777777777777778,
              "#fb9f3a"
             ],
             [
              0.8888888888888888,
              "#fdca26"
             ],
             [
              1,
              "#f0f921"
             ]
            ],
            "type": "histogram2d"
           }
          ],
          "histogram2dcontour": [
           {
            "colorbar": {
             "outlinewidth": 0,
             "ticks": ""
            },
            "colorscale": [
             [
              0,
              "#0d0887"
             ],
             [
              0.1111111111111111,
              "#46039f"
             ],
             [
              0.2222222222222222,
              "#7201a8"
             ],
             [
              0.3333333333333333,
              "#9c179e"
             ],
             [
              0.4444444444444444,
              "#bd3786"
             ],
             [
              0.5555555555555556,
              "#d8576b"
             ],
             [
              0.6666666666666666,
              "#ed7953"
             ],
             [
              0.7777777777777778,
              "#fb9f3a"
             ],
             [
              0.8888888888888888,
              "#fdca26"
             ],
             [
              1,
              "#f0f921"
             ]
            ],
            "type": "histogram2dcontour"
           }
          ],
          "mesh3d": [
           {
            "colorbar": {
             "outlinewidth": 0,
             "ticks": ""
            },
            "type": "mesh3d"
           }
          ],
          "parcoords": [
           {
            "line": {
             "colorbar": {
              "outlinewidth": 0,
              "ticks": ""
             }
            },
            "type": "parcoords"
           }
          ],
          "pie": [
           {
            "automargin": true,
            "type": "pie"
           }
          ],
          "scatter": [
           {
            "marker": {
             "colorbar": {
              "outlinewidth": 0,
              "ticks": ""
             }
            },
            "type": "scatter"
           }
          ],
          "scatter3d": [
           {
            "line": {
             "colorbar": {
              "outlinewidth": 0,
              "ticks": ""
             }
            },
            "marker": {
             "colorbar": {
              "outlinewidth": 0,
              "ticks": ""
             }
            },
            "type": "scatter3d"
           }
          ],
          "scattercarpet": [
           {
            "marker": {
             "colorbar": {
              "outlinewidth": 0,
              "ticks": ""
             }
            },
            "type": "scattercarpet"
           }
          ],
          "scattergeo": [
           {
            "marker": {
             "colorbar": {
              "outlinewidth": 0,
              "ticks": ""
             }
            },
            "type": "scattergeo"
           }
          ],
          "scattergl": [
           {
            "marker": {
             "colorbar": {
              "outlinewidth": 0,
              "ticks": ""
             }
            },
            "type": "scattergl"
           }
          ],
          "scattermapbox": [
           {
            "marker": {
             "colorbar": {
              "outlinewidth": 0,
              "ticks": ""
             }
            },
            "type": "scattermapbox"
           }
          ],
          "scatterpolar": [
           {
            "marker": {
             "colorbar": {
              "outlinewidth": 0,
              "ticks": ""
             }
            },
            "type": "scatterpolar"
           }
          ],
          "scatterpolargl": [
           {
            "marker": {
             "colorbar": {
              "outlinewidth": 0,
              "ticks": ""
             }
            },
            "type": "scatterpolargl"
           }
          ],
          "scatterternary": [
           {
            "marker": {
             "colorbar": {
              "outlinewidth": 0,
              "ticks": ""
             }
            },
            "type": "scatterternary"
           }
          ],
          "surface": [
           {
            "colorbar": {
             "outlinewidth": 0,
             "ticks": ""
            },
            "colorscale": [
             [
              0,
              "#0d0887"
             ],
             [
              0.1111111111111111,
              "#46039f"
             ],
             [
              0.2222222222222222,
              "#7201a8"
             ],
             [
              0.3333333333333333,
              "#9c179e"
             ],
             [
              0.4444444444444444,
              "#bd3786"
             ],
             [
              0.5555555555555556,
              "#d8576b"
             ],
             [
              0.6666666666666666,
              "#ed7953"
             ],
             [
              0.7777777777777778,
              "#fb9f3a"
             ],
             [
              0.8888888888888888,
              "#fdca26"
             ],
             [
              1,
              "#f0f921"
             ]
            ],
            "type": "surface"
           }
          ],
          "table": [
           {
            "cells": {
             "fill": {
              "color": "#EBF0F8"
             },
             "line": {
              "color": "white"
             }
            },
            "header": {
             "fill": {
              "color": "#C8D4E3"
             },
             "line": {
              "color": "white"
             }
            },
            "type": "table"
           }
          ]
         },
         "layout": {
          "annotationdefaults": {
           "arrowcolor": "#2a3f5f",
           "arrowhead": 0,
           "arrowwidth": 1
          },
          "coloraxis": {
           "colorbar": {
            "outlinewidth": 0,
            "ticks": ""
           }
          },
          "colorscale": {
           "diverging": [
            [
             0,
             "#8e0152"
            ],
            [
             0.1,
             "#c51b7d"
            ],
            [
             0.2,
             "#de77ae"
            ],
            [
             0.3,
             "#f1b6da"
            ],
            [
             0.4,
             "#fde0ef"
            ],
            [
             0.5,
             "#f7f7f7"
            ],
            [
             0.6,
             "#e6f5d0"
            ],
            [
             0.7,
             "#b8e186"
            ],
            [
             0.8,
             "#7fbc41"
            ],
            [
             0.9,
             "#4d9221"
            ],
            [
             1,
             "#276419"
            ]
           ],
           "sequential": [
            [
             0,
             "#0d0887"
            ],
            [
             0.1111111111111111,
             "#46039f"
            ],
            [
             0.2222222222222222,
             "#7201a8"
            ],
            [
             0.3333333333333333,
             "#9c179e"
            ],
            [
             0.4444444444444444,
             "#bd3786"
            ],
            [
             0.5555555555555556,
             "#d8576b"
            ],
            [
             0.6666666666666666,
             "#ed7953"
            ],
            [
             0.7777777777777778,
             "#fb9f3a"
            ],
            [
             0.8888888888888888,
             "#fdca26"
            ],
            [
             1,
             "#f0f921"
            ]
           ],
           "sequentialminus": [
            [
             0,
             "#0d0887"
            ],
            [
             0.1111111111111111,
             "#46039f"
            ],
            [
             0.2222222222222222,
             "#7201a8"
            ],
            [
             0.3333333333333333,
             "#9c179e"
            ],
            [
             0.4444444444444444,
             "#bd3786"
            ],
            [
             0.5555555555555556,
             "#d8576b"
            ],
            [
             0.6666666666666666,
             "#ed7953"
            ],
            [
             0.7777777777777778,
             "#fb9f3a"
            ],
            [
             0.8888888888888888,
             "#fdca26"
            ],
            [
             1,
             "#f0f921"
            ]
           ]
          },
          "colorway": [
           "#636efa",
           "#EF553B",
           "#00cc96",
           "#ab63fa",
           "#FFA15A",
           "#19d3f3",
           "#FF6692",
           "#B6E880",
           "#FF97FF",
           "#FECB52"
          ],
          "font": {
           "color": "#2a3f5f"
          },
          "geo": {
           "bgcolor": "white",
           "lakecolor": "white",
           "landcolor": "#E5ECF6",
           "showlakes": true,
           "showland": true,
           "subunitcolor": "white"
          },
          "hoverlabel": {
           "align": "left"
          },
          "hovermode": "closest",
          "mapbox": {
           "style": "light"
          },
          "paper_bgcolor": "white",
          "plot_bgcolor": "#E5ECF6",
          "polar": {
           "angularaxis": {
            "gridcolor": "white",
            "linecolor": "white",
            "ticks": ""
           },
           "bgcolor": "#E5ECF6",
           "radialaxis": {
            "gridcolor": "white",
            "linecolor": "white",
            "ticks": ""
           }
          },
          "scene": {
           "xaxis": {
            "backgroundcolor": "#E5ECF6",
            "gridcolor": "white",
            "gridwidth": 2,
            "linecolor": "white",
            "showbackground": true,
            "ticks": "",
            "zerolinecolor": "white"
           },
           "yaxis": {
            "backgroundcolor": "#E5ECF6",
            "gridcolor": "white",
            "gridwidth": 2,
            "linecolor": "white",
            "showbackground": true,
            "ticks": "",
            "zerolinecolor": "white"
           },
           "zaxis": {
            "backgroundcolor": "#E5ECF6",
            "gridcolor": "white",
            "gridwidth": 2,
            "linecolor": "white",
            "showbackground": true,
            "ticks": "",
            "zerolinecolor": "white"
           }
          },
          "shapedefaults": {
           "line": {
            "color": "#2a3f5f"
           }
          },
          "ternary": {
           "aaxis": {
            "gridcolor": "white",
            "linecolor": "white",
            "ticks": ""
           },
           "baxis": {
            "gridcolor": "white",
            "linecolor": "white",
            "ticks": ""
           },
           "bgcolor": "#E5ECF6",
           "caxis": {
            "gridcolor": "white",
            "linecolor": "white",
            "ticks": ""
           }
          },
          "title": {
           "x": 0.05
          },
          "xaxis": {
           "automargin": true,
           "gridcolor": "white",
           "linecolor": "white",
           "ticks": "",
           "title": {
            "standoff": 15
           },
           "zerolinecolor": "white",
           "zerolinewidth": 2
          },
          "yaxis": {
           "automargin": true,
           "gridcolor": "white",
           "linecolor": "white",
           "ticks": "",
           "title": {
            "standoff": 15
           },
           "zerolinecolor": "white",
           "zerolinewidth": 2
          }
         }
        }
       }
      },
      "text/html": [
       "<div>\n",
       "        \n",
       "        \n",
       "            <div id=\"371a5699-8c41-4b4c-9e04-89be1fa92bbd\" class=\"plotly-graph-div\" style=\"height:525px; width:100%;\"></div>\n",
       "            <script type=\"text/javascript\">\n",
       "                require([\"plotly\"], function(Plotly) {\n",
       "                    window.PLOTLYENV=window.PLOTLYENV || {};\n",
       "                    \n",
       "                if (document.getElementById(\"371a5699-8c41-4b4c-9e04-89be1fa92bbd\")) {\n",
       "                    Plotly.newPlot(\n",
       "                        '371a5699-8c41-4b4c-9e04-89be1fa92bbd',\n",
       "                        [{\"mode\": \"lines+markers\", \"type\": \"scatter\", \"x\": [165349.2, 162597.7, 153441.51, 144372.41, 142107.34, 131876.9, 134615.46, 130298.13, 120542.52, 123334.88, 101913.08, 100671.96, 93863.75, 91992.39, 119943.24, 114523.61, 78013.11, 94657.16, 91749.16, 86419.7, 76253.86, 78389.47, 73994.56, 67532.53, 77044.01, 64664.71, 75328.87, 72107.6, 66051.52, 65605.48, 61994.48, 61136.38, 63408.86, 55493.95, 46426.07, 46014.02, 28663.76, 44069.95, 20229.59, 38558.51, 28754.33, 27892.92, 23640.93, 15505.73, 22177.74, 1000.23, 1315.46, 0.0, 542.05, 0.0], \"y\": [192261.83, 191792.06, 191050.39, 182901.99, 166187.94, 156991.12, 156122.51, 155752.6, 152211.77, 149759.96, 146121.95, 144259.4, 141585.52, 134307.35, 132602.65, 129917.04, 126992.93, 125370.37, 124266.9, 122776.86, 118474.03, 111313.02, 110352.25, 108733.99, 108552.04, 107404.34, 105733.54, 105008.31, 103282.38, 101004.64, 99937.59, 97483.56, 97427.84, 96778.92, 96712.8, 96479.51, 90708.19, 89949.14, 81229.06, 81005.76, 78239.91, 77798.83, 71498.49, 69758.98, 65200.33, 64926.08, 49490.75, 42559.73, 35673.41, 14681.4]}],\n",
       "                        {\"template\": {\"data\": {\"bar\": [{\"error_x\": {\"color\": \"#2a3f5f\"}, \"error_y\": {\"color\": \"#2a3f5f\"}, \"marker\": {\"line\": {\"color\": \"#E5ECF6\", \"width\": 0.5}}, \"type\": \"bar\"}], \"barpolar\": [{\"marker\": {\"line\": {\"color\": \"#E5ECF6\", \"width\": 0.5}}, \"type\": \"barpolar\"}], \"carpet\": [{\"aaxis\": {\"endlinecolor\": \"#2a3f5f\", \"gridcolor\": \"white\", \"linecolor\": \"white\", \"minorgridcolor\": \"white\", \"startlinecolor\": \"#2a3f5f\"}, \"baxis\": {\"endlinecolor\": \"#2a3f5f\", \"gridcolor\": \"white\", \"linecolor\": \"white\", \"minorgridcolor\": \"white\", \"startlinecolor\": \"#2a3f5f\"}, \"type\": \"carpet\"}], \"choropleth\": [{\"colorbar\": {\"outlinewidth\": 0, \"ticks\": \"\"}, \"type\": \"choropleth\"}], \"contour\": [{\"colorbar\": {\"outlinewidth\": 0, \"ticks\": \"\"}, \"colorscale\": [[0.0, \"#0d0887\"], [0.1111111111111111, \"#46039f\"], [0.2222222222222222, \"#7201a8\"], [0.3333333333333333, \"#9c179e\"], [0.4444444444444444, \"#bd3786\"], [0.5555555555555556, \"#d8576b\"], [0.6666666666666666, \"#ed7953\"], [0.7777777777777778, \"#fb9f3a\"], [0.8888888888888888, \"#fdca26\"], [1.0, \"#f0f921\"]], \"type\": \"contour\"}], \"contourcarpet\": [{\"colorbar\": {\"outlinewidth\": 0, \"ticks\": \"\"}, \"type\": \"contourcarpet\"}], \"heatmap\": [{\"colorbar\": {\"outlinewidth\": 0, \"ticks\": \"\"}, \"colorscale\": [[0.0, \"#0d0887\"], [0.1111111111111111, \"#46039f\"], [0.2222222222222222, \"#7201a8\"], [0.3333333333333333, \"#9c179e\"], [0.4444444444444444, \"#bd3786\"], [0.5555555555555556, \"#d8576b\"], [0.6666666666666666, \"#ed7953\"], [0.7777777777777778, \"#fb9f3a\"], [0.8888888888888888, \"#fdca26\"], [1.0, \"#f0f921\"]], \"type\": \"heatmap\"}], \"heatmapgl\": [{\"colorbar\": {\"outlinewidth\": 0, \"ticks\": \"\"}, \"colorscale\": [[0.0, \"#0d0887\"], [0.1111111111111111, \"#46039f\"], [0.2222222222222222, \"#7201a8\"], [0.3333333333333333, \"#9c179e\"], [0.4444444444444444, \"#bd3786\"], [0.5555555555555556, \"#d8576b\"], [0.6666666666666666, \"#ed7953\"], [0.7777777777777778, \"#fb9f3a\"], [0.8888888888888888, \"#fdca26\"], [1.0, \"#f0f921\"]], \"type\": \"heatmapgl\"}], \"histogram\": [{\"marker\": {\"colorbar\": {\"outlinewidth\": 0, \"ticks\": \"\"}}, \"type\": \"histogram\"}], \"histogram2d\": [{\"colorbar\": {\"outlinewidth\": 0, \"ticks\": \"\"}, \"colorscale\": [[0.0, \"#0d0887\"], [0.1111111111111111, \"#46039f\"], [0.2222222222222222, \"#7201a8\"], [0.3333333333333333, \"#9c179e\"], [0.4444444444444444, \"#bd3786\"], [0.5555555555555556, \"#d8576b\"], [0.6666666666666666, \"#ed7953\"], [0.7777777777777778, \"#fb9f3a\"], [0.8888888888888888, \"#fdca26\"], [1.0, \"#f0f921\"]], \"type\": \"histogram2d\"}], \"histogram2dcontour\": [{\"colorbar\": {\"outlinewidth\": 0, \"ticks\": \"\"}, \"colorscale\": [[0.0, \"#0d0887\"], [0.1111111111111111, \"#46039f\"], [0.2222222222222222, \"#7201a8\"], [0.3333333333333333, \"#9c179e\"], [0.4444444444444444, \"#bd3786\"], [0.5555555555555556, \"#d8576b\"], [0.6666666666666666, \"#ed7953\"], [0.7777777777777778, \"#fb9f3a\"], [0.8888888888888888, \"#fdca26\"], [1.0, \"#f0f921\"]], \"type\": \"histogram2dcontour\"}], \"mesh3d\": [{\"colorbar\": {\"outlinewidth\": 0, \"ticks\": \"\"}, \"type\": \"mesh3d\"}], \"parcoords\": [{\"line\": {\"colorbar\": {\"outlinewidth\": 0, \"ticks\": \"\"}}, \"type\": \"parcoords\"}], \"pie\": [{\"automargin\": true, \"type\": \"pie\"}], \"scatter\": [{\"marker\": {\"colorbar\": {\"outlinewidth\": 0, \"ticks\": \"\"}}, \"type\": \"scatter\"}], \"scatter3d\": [{\"line\": {\"colorbar\": {\"outlinewidth\": 0, \"ticks\": \"\"}}, \"marker\": {\"colorbar\": {\"outlinewidth\": 0, \"ticks\": \"\"}}, \"type\": \"scatter3d\"}], \"scattercarpet\": [{\"marker\": {\"colorbar\": {\"outlinewidth\": 0, \"ticks\": \"\"}}, \"type\": \"scattercarpet\"}], \"scattergeo\": [{\"marker\": {\"colorbar\": {\"outlinewidth\": 0, \"ticks\": \"\"}}, \"type\": \"scattergeo\"}], \"scattergl\": [{\"marker\": {\"colorbar\": {\"outlinewidth\": 0, \"ticks\": \"\"}}, \"type\": \"scattergl\"}], \"scattermapbox\": [{\"marker\": {\"colorbar\": {\"outlinewidth\": 0, \"ticks\": \"\"}}, \"type\": \"scattermapbox\"}], \"scatterpolar\": [{\"marker\": {\"colorbar\": {\"outlinewidth\": 0, \"ticks\": \"\"}}, \"type\": \"scatterpolar\"}], \"scatterpolargl\": [{\"marker\": {\"colorbar\": {\"outlinewidth\": 0, \"ticks\": \"\"}}, \"type\": \"scatterpolargl\"}], \"scatterternary\": [{\"marker\": {\"colorbar\": {\"outlinewidth\": 0, \"ticks\": \"\"}}, \"type\": \"scatterternary\"}], \"surface\": [{\"colorbar\": {\"outlinewidth\": 0, \"ticks\": \"\"}, \"colorscale\": [[0.0, \"#0d0887\"], [0.1111111111111111, \"#46039f\"], [0.2222222222222222, \"#7201a8\"], [0.3333333333333333, \"#9c179e\"], [0.4444444444444444, \"#bd3786\"], [0.5555555555555556, \"#d8576b\"], [0.6666666666666666, \"#ed7953\"], [0.7777777777777778, \"#fb9f3a\"], [0.8888888888888888, \"#fdca26\"], [1.0, \"#f0f921\"]], \"type\": \"surface\"}], \"table\": [{\"cells\": {\"fill\": {\"color\": \"#EBF0F8\"}, \"line\": {\"color\": \"white\"}}, \"header\": {\"fill\": {\"color\": \"#C8D4E3\"}, \"line\": {\"color\": \"white\"}}, \"type\": \"table\"}]}, \"layout\": {\"annotationdefaults\": {\"arrowcolor\": \"#2a3f5f\", \"arrowhead\": 0, \"arrowwidth\": 1}, \"coloraxis\": {\"colorbar\": {\"outlinewidth\": 0, \"ticks\": \"\"}}, \"colorscale\": {\"diverging\": [[0, \"#8e0152\"], [0.1, \"#c51b7d\"], [0.2, \"#de77ae\"], [0.3, \"#f1b6da\"], [0.4, \"#fde0ef\"], [0.5, \"#f7f7f7\"], [0.6, \"#e6f5d0\"], [0.7, \"#b8e186\"], [0.8, \"#7fbc41\"], [0.9, \"#4d9221\"], [1, \"#276419\"]], \"sequential\": [[0.0, \"#0d0887\"], [0.1111111111111111, \"#46039f\"], [0.2222222222222222, \"#7201a8\"], [0.3333333333333333, \"#9c179e\"], [0.4444444444444444, \"#bd3786\"], [0.5555555555555556, \"#d8576b\"], [0.6666666666666666, \"#ed7953\"], [0.7777777777777778, \"#fb9f3a\"], [0.8888888888888888, \"#fdca26\"], [1.0, \"#f0f921\"]], \"sequentialminus\": [[0.0, \"#0d0887\"], [0.1111111111111111, \"#46039f\"], [0.2222222222222222, \"#7201a8\"], [0.3333333333333333, \"#9c179e\"], [0.4444444444444444, \"#bd3786\"], [0.5555555555555556, \"#d8576b\"], [0.6666666666666666, \"#ed7953\"], [0.7777777777777778, \"#fb9f3a\"], [0.8888888888888888, \"#fdca26\"], [1.0, \"#f0f921\"]]}, \"colorway\": [\"#636efa\", \"#EF553B\", \"#00cc96\", \"#ab63fa\", \"#FFA15A\", \"#19d3f3\", \"#FF6692\", \"#B6E880\", \"#FF97FF\", \"#FECB52\"], \"font\": {\"color\": \"#2a3f5f\"}, \"geo\": {\"bgcolor\": \"white\", \"lakecolor\": \"white\", \"landcolor\": \"#E5ECF6\", \"showlakes\": true, \"showland\": true, \"subunitcolor\": \"white\"}, \"hoverlabel\": {\"align\": \"left\"}, \"hovermode\": \"closest\", \"mapbox\": {\"style\": \"light\"}, \"paper_bgcolor\": \"white\", \"plot_bgcolor\": \"#E5ECF6\", \"polar\": {\"angularaxis\": {\"gridcolor\": \"white\", \"linecolor\": \"white\", \"ticks\": \"\"}, \"bgcolor\": \"#E5ECF6\", \"radialaxis\": {\"gridcolor\": \"white\", \"linecolor\": \"white\", \"ticks\": \"\"}}, \"scene\": {\"xaxis\": {\"backgroundcolor\": \"#E5ECF6\", \"gridcolor\": \"white\", \"gridwidth\": 2, \"linecolor\": \"white\", \"showbackground\": true, \"ticks\": \"\", \"zerolinecolor\": \"white\"}, \"yaxis\": {\"backgroundcolor\": \"#E5ECF6\", \"gridcolor\": \"white\", \"gridwidth\": 2, \"linecolor\": \"white\", \"showbackground\": true, \"ticks\": \"\", \"zerolinecolor\": \"white\"}, \"zaxis\": {\"backgroundcolor\": \"#E5ECF6\", \"gridcolor\": \"white\", \"gridwidth\": 2, \"linecolor\": \"white\", \"showbackground\": true, \"ticks\": \"\", \"zerolinecolor\": \"white\"}}, \"shapedefaults\": {\"line\": {\"color\": \"#2a3f5f\"}}, \"ternary\": {\"aaxis\": {\"gridcolor\": \"white\", \"linecolor\": \"white\", \"ticks\": \"\"}, \"baxis\": {\"gridcolor\": \"white\", \"linecolor\": \"white\", \"ticks\": \"\"}, \"bgcolor\": \"#E5ECF6\", \"caxis\": {\"gridcolor\": \"white\", \"linecolor\": \"white\", \"ticks\": \"\"}}, \"title\": {\"x\": 0.05}, \"xaxis\": {\"automargin\": true, \"gridcolor\": \"white\", \"linecolor\": \"white\", \"ticks\": \"\", \"title\": {\"standoff\": 15}, \"zerolinecolor\": \"white\", \"zerolinewidth\": 2}, \"yaxis\": {\"automargin\": true, \"gridcolor\": \"white\", \"linecolor\": \"white\", \"ticks\": \"\", \"title\": {\"standoff\": 15}, \"zerolinecolor\": \"white\", \"zerolinewidth\": 2}}}},\n",
       "                        {\"responsive\": true}\n",
       "                    ).then(function(){\n",
       "                            \n",
       "var gd = document.getElementById('371a5699-8c41-4b4c-9e04-89be1fa92bbd');\n",
       "var x = new MutationObserver(function (mutations, observer) {{\n",
       "        var display = window.getComputedStyle(gd).display;\n",
       "        if (!display || display === 'none') {{\n",
       "            console.log([gd, 'removed!']);\n",
       "            Plotly.purge(gd);\n",
       "            observer.disconnect();\n",
       "        }}\n",
       "}});\n",
       "\n",
       "// Listen for the removal of the full notebook cells\n",
       "var notebookContainer = gd.closest('#notebook-container');\n",
       "if (notebookContainer) {{\n",
       "    x.observe(notebookContainer, {childList: true});\n",
       "}}\n",
       "\n",
       "// Listen for the clearing of the current output cell\n",
       "var outputEl = gd.closest('.output');\n",
       "if (outputEl) {{\n",
       "    x.observe(outputEl, {childList: true});\n",
       "}}\n",
       "\n",
       "                        })\n",
       "                };\n",
       "                });\n",
       "            </script>\n",
       "        </div>"
      ]
     },
     "metadata": {},
     "output_type": "display_data"
    }
   ],
   "source": [
    "fig.add_trace(go.Scatter(x=df['R&D Spend'],y=df['Profit'],mode='lines+markers'))"
   ]
  },
  {
   "cell_type": "code",
   "execution_count": 14,
   "metadata": {},
   "outputs": [
    {
     "data": {
      "application/vnd.plotly.v1+json": {
       "config": {
        "plotlyServerURL": "https://plot.ly"
       },
       "data": [
        {
         "mode": "lines+markers",
         "type": "scatter",
         "x": [
          165349.2,
          162597.7,
          153441.51,
          144372.41,
          142107.34,
          131876.9,
          134615.46,
          130298.13,
          120542.52,
          123334.88,
          101913.08,
          100671.96,
          93863.75,
          91992.39,
          119943.24,
          114523.61,
          78013.11,
          94657.16,
          91749.16,
          86419.7,
          76253.86,
          78389.47,
          73994.56,
          67532.53,
          77044.01,
          64664.71,
          75328.87,
          72107.6,
          66051.52,
          65605.48,
          61994.48,
          61136.38,
          63408.86,
          55493.95,
          46426.07,
          46014.02,
          28663.76,
          44069.95,
          20229.59,
          38558.51,
          28754.33,
          27892.92,
          23640.93,
          15505.73,
          22177.74,
          1000.23,
          1315.46,
          0,
          542.05,
          0
         ],
         "y": [
          192261.83,
          191792.06,
          191050.39,
          182901.99,
          166187.94,
          156991.12,
          156122.51,
          155752.6,
          152211.77,
          149759.96,
          146121.95,
          144259.4,
          141585.52,
          134307.35,
          132602.65,
          129917.04,
          126992.93,
          125370.37,
          124266.9,
          122776.86,
          118474.03,
          111313.02,
          110352.25,
          108733.99,
          108552.04,
          107404.34,
          105733.54,
          105008.31,
          103282.38,
          101004.64,
          99937.59,
          97483.56,
          97427.84,
          96778.92,
          96712.8,
          96479.51,
          90708.19,
          89949.14,
          81229.06,
          81005.76,
          78239.91,
          77798.83,
          71498.49,
          69758.98,
          65200.33,
          64926.08,
          49490.75,
          42559.73,
          35673.41,
          14681.4
         ]
        },
        {
         "type": "bar",
         "x": [
          165349.2,
          162597.7,
          153441.51,
          144372.41,
          142107.34,
          131876.9,
          134615.46,
          130298.13,
          120542.52,
          123334.88,
          101913.08,
          100671.96,
          93863.75,
          91992.39,
          119943.24,
          114523.61,
          78013.11,
          94657.16,
          91749.16,
          86419.7,
          76253.86,
          78389.47,
          73994.56,
          67532.53,
          77044.01,
          64664.71,
          75328.87,
          72107.6,
          66051.52,
          65605.48,
          61994.48,
          61136.38,
          63408.86,
          55493.95,
          46426.07,
          46014.02,
          28663.76,
          44069.95,
          20229.59,
          38558.51,
          28754.33,
          27892.92,
          23640.93,
          15505.73,
          22177.74,
          1000.23,
          1315.46,
          0,
          542.05,
          0
         ]
        }
       ],
       "layout": {
        "template": {
         "data": {
          "bar": [
           {
            "error_x": {
             "color": "#2a3f5f"
            },
            "error_y": {
             "color": "#2a3f5f"
            },
            "marker": {
             "line": {
              "color": "#E5ECF6",
              "width": 0.5
             }
            },
            "type": "bar"
           }
          ],
          "barpolar": [
           {
            "marker": {
             "line": {
              "color": "#E5ECF6",
              "width": 0.5
             }
            },
            "type": "barpolar"
           }
          ],
          "carpet": [
           {
            "aaxis": {
             "endlinecolor": "#2a3f5f",
             "gridcolor": "white",
             "linecolor": "white",
             "minorgridcolor": "white",
             "startlinecolor": "#2a3f5f"
            },
            "baxis": {
             "endlinecolor": "#2a3f5f",
             "gridcolor": "white",
             "linecolor": "white",
             "minorgridcolor": "white",
             "startlinecolor": "#2a3f5f"
            },
            "type": "carpet"
           }
          ],
          "choropleth": [
           {
            "colorbar": {
             "outlinewidth": 0,
             "ticks": ""
            },
            "type": "choropleth"
           }
          ],
          "contour": [
           {
            "colorbar": {
             "outlinewidth": 0,
             "ticks": ""
            },
            "colorscale": [
             [
              0,
              "#0d0887"
             ],
             [
              0.1111111111111111,
              "#46039f"
             ],
             [
              0.2222222222222222,
              "#7201a8"
             ],
             [
              0.3333333333333333,
              "#9c179e"
             ],
             [
              0.4444444444444444,
              "#bd3786"
             ],
             [
              0.5555555555555556,
              "#d8576b"
             ],
             [
              0.6666666666666666,
              "#ed7953"
             ],
             [
              0.7777777777777778,
              "#fb9f3a"
             ],
             [
              0.8888888888888888,
              "#fdca26"
             ],
             [
              1,
              "#f0f921"
             ]
            ],
            "type": "contour"
           }
          ],
          "contourcarpet": [
           {
            "colorbar": {
             "outlinewidth": 0,
             "ticks": ""
            },
            "type": "contourcarpet"
           }
          ],
          "heatmap": [
           {
            "colorbar": {
             "outlinewidth": 0,
             "ticks": ""
            },
            "colorscale": [
             [
              0,
              "#0d0887"
             ],
             [
              0.1111111111111111,
              "#46039f"
             ],
             [
              0.2222222222222222,
              "#7201a8"
             ],
             [
              0.3333333333333333,
              "#9c179e"
             ],
             [
              0.4444444444444444,
              "#bd3786"
             ],
             [
              0.5555555555555556,
              "#d8576b"
             ],
             [
              0.6666666666666666,
              "#ed7953"
             ],
             [
              0.7777777777777778,
              "#fb9f3a"
             ],
             [
              0.8888888888888888,
              "#fdca26"
             ],
             [
              1,
              "#f0f921"
             ]
            ],
            "type": "heatmap"
           }
          ],
          "heatmapgl": [
           {
            "colorbar": {
             "outlinewidth": 0,
             "ticks": ""
            },
            "colorscale": [
             [
              0,
              "#0d0887"
             ],
             [
              0.1111111111111111,
              "#46039f"
             ],
             [
              0.2222222222222222,
              "#7201a8"
             ],
             [
              0.3333333333333333,
              "#9c179e"
             ],
             [
              0.4444444444444444,
              "#bd3786"
             ],
             [
              0.5555555555555556,
              "#d8576b"
             ],
             [
              0.6666666666666666,
              "#ed7953"
             ],
             [
              0.7777777777777778,
              "#fb9f3a"
             ],
             [
              0.8888888888888888,
              "#fdca26"
             ],
             [
              1,
              "#f0f921"
             ]
            ],
            "type": "heatmapgl"
           }
          ],
          "histogram": [
           {
            "marker": {
             "colorbar": {
              "outlinewidth": 0,
              "ticks": ""
             }
            },
            "type": "histogram"
           }
          ],
          "histogram2d": [
           {
            "colorbar": {
             "outlinewidth": 0,
             "ticks": ""
            },
            "colorscale": [
             [
              0,
              "#0d0887"
             ],
             [
              0.1111111111111111,
              "#46039f"
             ],
             [
              0.2222222222222222,
              "#7201a8"
             ],
             [
              0.3333333333333333,
              "#9c179e"
             ],
             [
              0.4444444444444444,
              "#bd3786"
             ],
             [
              0.5555555555555556,
              "#d8576b"
             ],
             [
              0.6666666666666666,
              "#ed7953"
             ],
             [
              0.7777777777777778,
              "#fb9f3a"
             ],
             [
              0.8888888888888888,
              "#fdca26"
             ],
             [
              1,
              "#f0f921"
             ]
            ],
            "type": "histogram2d"
           }
          ],
          "histogram2dcontour": [
           {
            "colorbar": {
             "outlinewidth": 0,
             "ticks": ""
            },
            "colorscale": [
             [
              0,
              "#0d0887"
             ],
             [
              0.1111111111111111,
              "#46039f"
             ],
             [
              0.2222222222222222,
              "#7201a8"
             ],
             [
              0.3333333333333333,
              "#9c179e"
             ],
             [
              0.4444444444444444,
              "#bd3786"
             ],
             [
              0.5555555555555556,
              "#d8576b"
             ],
             [
              0.6666666666666666,
              "#ed7953"
             ],
             [
              0.7777777777777778,
              "#fb9f3a"
             ],
             [
              0.8888888888888888,
              "#fdca26"
             ],
             [
              1,
              "#f0f921"
             ]
            ],
            "type": "histogram2dcontour"
           }
          ],
          "mesh3d": [
           {
            "colorbar": {
             "outlinewidth": 0,
             "ticks": ""
            },
            "type": "mesh3d"
           }
          ],
          "parcoords": [
           {
            "line": {
             "colorbar": {
              "outlinewidth": 0,
              "ticks": ""
             }
            },
            "type": "parcoords"
           }
          ],
          "pie": [
           {
            "automargin": true,
            "type": "pie"
           }
          ],
          "scatter": [
           {
            "marker": {
             "colorbar": {
              "outlinewidth": 0,
              "ticks": ""
             }
            },
            "type": "scatter"
           }
          ],
          "scatter3d": [
           {
            "line": {
             "colorbar": {
              "outlinewidth": 0,
              "ticks": ""
             }
            },
            "marker": {
             "colorbar": {
              "outlinewidth": 0,
              "ticks": ""
             }
            },
            "type": "scatter3d"
           }
          ],
          "scattercarpet": [
           {
            "marker": {
             "colorbar": {
              "outlinewidth": 0,
              "ticks": ""
             }
            },
            "type": "scattercarpet"
           }
          ],
          "scattergeo": [
           {
            "marker": {
             "colorbar": {
              "outlinewidth": 0,
              "ticks": ""
             }
            },
            "type": "scattergeo"
           }
          ],
          "scattergl": [
           {
            "marker": {
             "colorbar": {
              "outlinewidth": 0,
              "ticks": ""
             }
            },
            "type": "scattergl"
           }
          ],
          "scattermapbox": [
           {
            "marker": {
             "colorbar": {
              "outlinewidth": 0,
              "ticks": ""
             }
            },
            "type": "scattermapbox"
           }
          ],
          "scatterpolar": [
           {
            "marker": {
             "colorbar": {
              "outlinewidth": 0,
              "ticks": ""
             }
            },
            "type": "scatterpolar"
           }
          ],
          "scatterpolargl": [
           {
            "marker": {
             "colorbar": {
              "outlinewidth": 0,
              "ticks": ""
             }
            },
            "type": "scatterpolargl"
           }
          ],
          "scatterternary": [
           {
            "marker": {
             "colorbar": {
              "outlinewidth": 0,
              "ticks": ""
             }
            },
            "type": "scatterternary"
           }
          ],
          "surface": [
           {
            "colorbar": {
             "outlinewidth": 0,
             "ticks": ""
            },
            "colorscale": [
             [
              0,
              "#0d0887"
             ],
             [
              0.1111111111111111,
              "#46039f"
             ],
             [
              0.2222222222222222,
              "#7201a8"
             ],
             [
              0.3333333333333333,
              "#9c179e"
             ],
             [
              0.4444444444444444,
              "#bd3786"
             ],
             [
              0.5555555555555556,
              "#d8576b"
             ],
             [
              0.6666666666666666,
              "#ed7953"
             ],
             [
              0.7777777777777778,
              "#fb9f3a"
             ],
             [
              0.8888888888888888,
              "#fdca26"
             ],
             [
              1,
              "#f0f921"
             ]
            ],
            "type": "surface"
           }
          ],
          "table": [
           {
            "cells": {
             "fill": {
              "color": "#EBF0F8"
             },
             "line": {
              "color": "white"
             }
            },
            "header": {
             "fill": {
              "color": "#C8D4E3"
             },
             "line": {
              "color": "white"
             }
            },
            "type": "table"
           }
          ]
         },
         "layout": {
          "annotationdefaults": {
           "arrowcolor": "#2a3f5f",
           "arrowhead": 0,
           "arrowwidth": 1
          },
          "coloraxis": {
           "colorbar": {
            "outlinewidth": 0,
            "ticks": ""
           }
          },
          "colorscale": {
           "diverging": [
            [
             0,
             "#8e0152"
            ],
            [
             0.1,
             "#c51b7d"
            ],
            [
             0.2,
             "#de77ae"
            ],
            [
             0.3,
             "#f1b6da"
            ],
            [
             0.4,
             "#fde0ef"
            ],
            [
             0.5,
             "#f7f7f7"
            ],
            [
             0.6,
             "#e6f5d0"
            ],
            [
             0.7,
             "#b8e186"
            ],
            [
             0.8,
             "#7fbc41"
            ],
            [
             0.9,
             "#4d9221"
            ],
            [
             1,
             "#276419"
            ]
           ],
           "sequential": [
            [
             0,
             "#0d0887"
            ],
            [
             0.1111111111111111,
             "#46039f"
            ],
            [
             0.2222222222222222,
             "#7201a8"
            ],
            [
             0.3333333333333333,
             "#9c179e"
            ],
            [
             0.4444444444444444,
             "#bd3786"
            ],
            [
             0.5555555555555556,
             "#d8576b"
            ],
            [
             0.6666666666666666,
             "#ed7953"
            ],
            [
             0.7777777777777778,
             "#fb9f3a"
            ],
            [
             0.8888888888888888,
             "#fdca26"
            ],
            [
             1,
             "#f0f921"
            ]
           ],
           "sequentialminus": [
            [
             0,
             "#0d0887"
            ],
            [
             0.1111111111111111,
             "#46039f"
            ],
            [
             0.2222222222222222,
             "#7201a8"
            ],
            [
             0.3333333333333333,
             "#9c179e"
            ],
            [
             0.4444444444444444,
             "#bd3786"
            ],
            [
             0.5555555555555556,
             "#d8576b"
            ],
            [
             0.6666666666666666,
             "#ed7953"
            ],
            [
             0.7777777777777778,
             "#fb9f3a"
            ],
            [
             0.8888888888888888,
             "#fdca26"
            ],
            [
             1,
             "#f0f921"
            ]
           ]
          },
          "colorway": [
           "#636efa",
           "#EF553B",
           "#00cc96",
           "#ab63fa",
           "#FFA15A",
           "#19d3f3",
           "#FF6692",
           "#B6E880",
           "#FF97FF",
           "#FECB52"
          ],
          "font": {
           "color": "#2a3f5f"
          },
          "geo": {
           "bgcolor": "white",
           "lakecolor": "white",
           "landcolor": "#E5ECF6",
           "showlakes": true,
           "showland": true,
           "subunitcolor": "white"
          },
          "hoverlabel": {
           "align": "left"
          },
          "hovermode": "closest",
          "mapbox": {
           "style": "light"
          },
          "paper_bgcolor": "white",
          "plot_bgcolor": "#E5ECF6",
          "polar": {
           "angularaxis": {
            "gridcolor": "white",
            "linecolor": "white",
            "ticks": ""
           },
           "bgcolor": "#E5ECF6",
           "radialaxis": {
            "gridcolor": "white",
            "linecolor": "white",
            "ticks": ""
           }
          },
          "scene": {
           "xaxis": {
            "backgroundcolor": "#E5ECF6",
            "gridcolor": "white",
            "gridwidth": 2,
            "linecolor": "white",
            "showbackground": true,
            "ticks": "",
            "zerolinecolor": "white"
           },
           "yaxis": {
            "backgroundcolor": "#E5ECF6",
            "gridcolor": "white",
            "gridwidth": 2,
            "linecolor": "white",
            "showbackground": true,
            "ticks": "",
            "zerolinecolor": "white"
           },
           "zaxis": {
            "backgroundcolor": "#E5ECF6",
            "gridcolor": "white",
            "gridwidth": 2,
            "linecolor": "white",
            "showbackground": true,
            "ticks": "",
            "zerolinecolor": "white"
           }
          },
          "shapedefaults": {
           "line": {
            "color": "#2a3f5f"
           }
          },
          "ternary": {
           "aaxis": {
            "gridcolor": "white",
            "linecolor": "white",
            "ticks": ""
           },
           "baxis": {
            "gridcolor": "white",
            "linecolor": "white",
            "ticks": ""
           },
           "bgcolor": "#E5ECF6",
           "caxis": {
            "gridcolor": "white",
            "linecolor": "white",
            "ticks": ""
           }
          },
          "title": {
           "x": 0.05
          },
          "xaxis": {
           "automargin": true,
           "gridcolor": "white",
           "linecolor": "white",
           "ticks": "",
           "title": {
            "standoff": 15
           },
           "zerolinecolor": "white",
           "zerolinewidth": 2
          },
          "yaxis": {
           "automargin": true,
           "gridcolor": "white",
           "linecolor": "white",
           "ticks": "",
           "title": {
            "standoff": 15
           },
           "zerolinecolor": "white",
           "zerolinewidth": 2
          }
         }
        }
       }
      },
      "text/html": [
       "<div>\n",
       "        \n",
       "        \n",
       "            <div id=\"d78441d7-9231-442b-91e7-1f8a28b62321\" class=\"plotly-graph-div\" style=\"height:525px; width:100%;\"></div>\n",
       "            <script type=\"text/javascript\">\n",
       "                require([\"plotly\"], function(Plotly) {\n",
       "                    window.PLOTLYENV=window.PLOTLYENV || {};\n",
       "                    \n",
       "                if (document.getElementById(\"d78441d7-9231-442b-91e7-1f8a28b62321\")) {\n",
       "                    Plotly.newPlot(\n",
       "                        'd78441d7-9231-442b-91e7-1f8a28b62321',\n",
       "                        [{\"mode\": \"lines+markers\", \"type\": \"scatter\", \"x\": [165349.2, 162597.7, 153441.51, 144372.41, 142107.34, 131876.9, 134615.46, 130298.13, 120542.52, 123334.88, 101913.08, 100671.96, 93863.75, 91992.39, 119943.24, 114523.61, 78013.11, 94657.16, 91749.16, 86419.7, 76253.86, 78389.47, 73994.56, 67532.53, 77044.01, 64664.71, 75328.87, 72107.6, 66051.52, 65605.48, 61994.48, 61136.38, 63408.86, 55493.95, 46426.07, 46014.02, 28663.76, 44069.95, 20229.59, 38558.51, 28754.33, 27892.92, 23640.93, 15505.73, 22177.74, 1000.23, 1315.46, 0.0, 542.05, 0.0], \"y\": [192261.83, 191792.06, 191050.39, 182901.99, 166187.94, 156991.12, 156122.51, 155752.6, 152211.77, 149759.96, 146121.95, 144259.4, 141585.52, 134307.35, 132602.65, 129917.04, 126992.93, 125370.37, 124266.9, 122776.86, 118474.03, 111313.02, 110352.25, 108733.99, 108552.04, 107404.34, 105733.54, 105008.31, 103282.38, 101004.64, 99937.59, 97483.56, 97427.84, 96778.92, 96712.8, 96479.51, 90708.19, 89949.14, 81229.06, 81005.76, 78239.91, 77798.83, 71498.49, 69758.98, 65200.33, 64926.08, 49490.75, 42559.73, 35673.41, 14681.4]}, {\"type\": \"bar\", \"x\": [165349.2, 162597.7, 153441.51, 144372.41, 142107.34, 131876.9, 134615.46, 130298.13, 120542.52, 123334.88, 101913.08, 100671.96, 93863.75, 91992.39, 119943.24, 114523.61, 78013.11, 94657.16, 91749.16, 86419.7, 76253.86, 78389.47, 73994.56, 67532.53, 77044.01, 64664.71, 75328.87, 72107.6, 66051.52, 65605.48, 61994.48, 61136.38, 63408.86, 55493.95, 46426.07, 46014.02, 28663.76, 44069.95, 20229.59, 38558.51, 28754.33, 27892.92, 23640.93, 15505.73, 22177.74, 1000.23, 1315.46, 0.0, 542.05, 0.0]}],\n",
       "                        {\"template\": {\"data\": {\"bar\": [{\"error_x\": {\"color\": \"#2a3f5f\"}, \"error_y\": {\"color\": \"#2a3f5f\"}, \"marker\": {\"line\": {\"color\": \"#E5ECF6\", \"width\": 0.5}}, \"type\": \"bar\"}], \"barpolar\": [{\"marker\": {\"line\": {\"color\": \"#E5ECF6\", \"width\": 0.5}}, \"type\": \"barpolar\"}], \"carpet\": [{\"aaxis\": {\"endlinecolor\": \"#2a3f5f\", \"gridcolor\": \"white\", \"linecolor\": \"white\", \"minorgridcolor\": \"white\", \"startlinecolor\": \"#2a3f5f\"}, \"baxis\": {\"endlinecolor\": \"#2a3f5f\", \"gridcolor\": \"white\", \"linecolor\": \"white\", \"minorgridcolor\": \"white\", \"startlinecolor\": \"#2a3f5f\"}, \"type\": \"carpet\"}], \"choropleth\": [{\"colorbar\": {\"outlinewidth\": 0, \"ticks\": \"\"}, \"type\": \"choropleth\"}], \"contour\": [{\"colorbar\": {\"outlinewidth\": 0, \"ticks\": \"\"}, \"colorscale\": [[0.0, \"#0d0887\"], [0.1111111111111111, \"#46039f\"], [0.2222222222222222, \"#7201a8\"], [0.3333333333333333, \"#9c179e\"], [0.4444444444444444, \"#bd3786\"], [0.5555555555555556, \"#d8576b\"], [0.6666666666666666, \"#ed7953\"], [0.7777777777777778, \"#fb9f3a\"], [0.8888888888888888, \"#fdca26\"], [1.0, \"#f0f921\"]], \"type\": \"contour\"}], \"contourcarpet\": [{\"colorbar\": {\"outlinewidth\": 0, \"ticks\": \"\"}, \"type\": \"contourcarpet\"}], \"heatmap\": [{\"colorbar\": {\"outlinewidth\": 0, \"ticks\": \"\"}, \"colorscale\": [[0.0, \"#0d0887\"], [0.1111111111111111, \"#46039f\"], [0.2222222222222222, \"#7201a8\"], [0.3333333333333333, \"#9c179e\"], [0.4444444444444444, \"#bd3786\"], [0.5555555555555556, \"#d8576b\"], [0.6666666666666666, \"#ed7953\"], [0.7777777777777778, \"#fb9f3a\"], [0.8888888888888888, \"#fdca26\"], [1.0, \"#f0f921\"]], \"type\": \"heatmap\"}], \"heatmapgl\": [{\"colorbar\": {\"outlinewidth\": 0, \"ticks\": \"\"}, \"colorscale\": [[0.0, \"#0d0887\"], [0.1111111111111111, \"#46039f\"], [0.2222222222222222, \"#7201a8\"], [0.3333333333333333, \"#9c179e\"], [0.4444444444444444, \"#bd3786\"], [0.5555555555555556, \"#d8576b\"], [0.6666666666666666, \"#ed7953\"], [0.7777777777777778, \"#fb9f3a\"], [0.8888888888888888, \"#fdca26\"], [1.0, \"#f0f921\"]], \"type\": \"heatmapgl\"}], \"histogram\": [{\"marker\": {\"colorbar\": {\"outlinewidth\": 0, \"ticks\": \"\"}}, \"type\": \"histogram\"}], \"histogram2d\": [{\"colorbar\": {\"outlinewidth\": 0, \"ticks\": \"\"}, \"colorscale\": [[0.0, \"#0d0887\"], [0.1111111111111111, \"#46039f\"], [0.2222222222222222, \"#7201a8\"], [0.3333333333333333, \"#9c179e\"], [0.4444444444444444, \"#bd3786\"], [0.5555555555555556, \"#d8576b\"], [0.6666666666666666, \"#ed7953\"], [0.7777777777777778, \"#fb9f3a\"], [0.8888888888888888, \"#fdca26\"], [1.0, \"#f0f921\"]], \"type\": \"histogram2d\"}], \"histogram2dcontour\": [{\"colorbar\": {\"outlinewidth\": 0, \"ticks\": \"\"}, \"colorscale\": [[0.0, \"#0d0887\"], [0.1111111111111111, \"#46039f\"], [0.2222222222222222, \"#7201a8\"], [0.3333333333333333, \"#9c179e\"], [0.4444444444444444, \"#bd3786\"], [0.5555555555555556, \"#d8576b\"], [0.6666666666666666, \"#ed7953\"], [0.7777777777777778, \"#fb9f3a\"], [0.8888888888888888, \"#fdca26\"], [1.0, \"#f0f921\"]], \"type\": \"histogram2dcontour\"}], \"mesh3d\": [{\"colorbar\": {\"outlinewidth\": 0, \"ticks\": \"\"}, \"type\": \"mesh3d\"}], \"parcoords\": [{\"line\": {\"colorbar\": {\"outlinewidth\": 0, \"ticks\": \"\"}}, \"type\": \"parcoords\"}], \"pie\": [{\"automargin\": true, \"type\": \"pie\"}], \"scatter\": [{\"marker\": {\"colorbar\": {\"outlinewidth\": 0, \"ticks\": \"\"}}, \"type\": \"scatter\"}], \"scatter3d\": [{\"line\": {\"colorbar\": {\"outlinewidth\": 0, \"ticks\": \"\"}}, \"marker\": {\"colorbar\": {\"outlinewidth\": 0, \"ticks\": \"\"}}, \"type\": \"scatter3d\"}], \"scattercarpet\": [{\"marker\": {\"colorbar\": {\"outlinewidth\": 0, \"ticks\": \"\"}}, \"type\": \"scattercarpet\"}], \"scattergeo\": [{\"marker\": {\"colorbar\": {\"outlinewidth\": 0, \"ticks\": \"\"}}, \"type\": \"scattergeo\"}], \"scattergl\": [{\"marker\": {\"colorbar\": {\"outlinewidth\": 0, \"ticks\": \"\"}}, \"type\": \"scattergl\"}], \"scattermapbox\": [{\"marker\": {\"colorbar\": {\"outlinewidth\": 0, \"ticks\": \"\"}}, \"type\": \"scattermapbox\"}], \"scatterpolar\": [{\"marker\": {\"colorbar\": {\"outlinewidth\": 0, \"ticks\": \"\"}}, \"type\": \"scatterpolar\"}], \"scatterpolargl\": [{\"marker\": {\"colorbar\": {\"outlinewidth\": 0, \"ticks\": \"\"}}, \"type\": \"scatterpolargl\"}], \"scatterternary\": [{\"marker\": {\"colorbar\": {\"outlinewidth\": 0, \"ticks\": \"\"}}, \"type\": \"scatterternary\"}], \"surface\": [{\"colorbar\": {\"outlinewidth\": 0, \"ticks\": \"\"}, \"colorscale\": [[0.0, \"#0d0887\"], [0.1111111111111111, \"#46039f\"], [0.2222222222222222, \"#7201a8\"], [0.3333333333333333, \"#9c179e\"], [0.4444444444444444, \"#bd3786\"], [0.5555555555555556, \"#d8576b\"], [0.6666666666666666, \"#ed7953\"], [0.7777777777777778, \"#fb9f3a\"], [0.8888888888888888, \"#fdca26\"], [1.0, \"#f0f921\"]], \"type\": \"surface\"}], \"table\": [{\"cells\": {\"fill\": {\"color\": \"#EBF0F8\"}, \"line\": {\"color\": \"white\"}}, \"header\": {\"fill\": {\"color\": \"#C8D4E3\"}, \"line\": {\"color\": \"white\"}}, \"type\": \"table\"}]}, \"layout\": {\"annotationdefaults\": {\"arrowcolor\": \"#2a3f5f\", \"arrowhead\": 0, \"arrowwidth\": 1}, \"coloraxis\": {\"colorbar\": {\"outlinewidth\": 0, \"ticks\": \"\"}}, \"colorscale\": {\"diverging\": [[0, \"#8e0152\"], [0.1, \"#c51b7d\"], [0.2, \"#de77ae\"], [0.3, \"#f1b6da\"], [0.4, \"#fde0ef\"], [0.5, \"#f7f7f7\"], [0.6, \"#e6f5d0\"], [0.7, \"#b8e186\"], [0.8, \"#7fbc41\"], [0.9, \"#4d9221\"], [1, \"#276419\"]], \"sequential\": [[0.0, \"#0d0887\"], [0.1111111111111111, \"#46039f\"], [0.2222222222222222, \"#7201a8\"], [0.3333333333333333, \"#9c179e\"], [0.4444444444444444, \"#bd3786\"], [0.5555555555555556, \"#d8576b\"], [0.6666666666666666, \"#ed7953\"], [0.7777777777777778, \"#fb9f3a\"], [0.8888888888888888, \"#fdca26\"], [1.0, \"#f0f921\"]], \"sequentialminus\": [[0.0, \"#0d0887\"], [0.1111111111111111, \"#46039f\"], [0.2222222222222222, \"#7201a8\"], [0.3333333333333333, \"#9c179e\"], [0.4444444444444444, \"#bd3786\"], [0.5555555555555556, \"#d8576b\"], [0.6666666666666666, \"#ed7953\"], [0.7777777777777778, \"#fb9f3a\"], [0.8888888888888888, \"#fdca26\"], [1.0, \"#f0f921\"]]}, \"colorway\": [\"#636efa\", \"#EF553B\", \"#00cc96\", \"#ab63fa\", \"#FFA15A\", \"#19d3f3\", \"#FF6692\", \"#B6E880\", \"#FF97FF\", \"#FECB52\"], \"font\": {\"color\": \"#2a3f5f\"}, \"geo\": {\"bgcolor\": \"white\", \"lakecolor\": \"white\", \"landcolor\": \"#E5ECF6\", \"showlakes\": true, \"showland\": true, \"subunitcolor\": \"white\"}, \"hoverlabel\": {\"align\": \"left\"}, \"hovermode\": \"closest\", \"mapbox\": {\"style\": \"light\"}, \"paper_bgcolor\": \"white\", \"plot_bgcolor\": \"#E5ECF6\", \"polar\": {\"angularaxis\": {\"gridcolor\": \"white\", \"linecolor\": \"white\", \"ticks\": \"\"}, \"bgcolor\": \"#E5ECF6\", \"radialaxis\": {\"gridcolor\": \"white\", \"linecolor\": \"white\", \"ticks\": \"\"}}, \"scene\": {\"xaxis\": {\"backgroundcolor\": \"#E5ECF6\", \"gridcolor\": \"white\", \"gridwidth\": 2, \"linecolor\": \"white\", \"showbackground\": true, \"ticks\": \"\", \"zerolinecolor\": \"white\"}, \"yaxis\": {\"backgroundcolor\": \"#E5ECF6\", \"gridcolor\": \"white\", \"gridwidth\": 2, \"linecolor\": \"white\", \"showbackground\": true, \"ticks\": \"\", \"zerolinecolor\": \"white\"}, \"zaxis\": {\"backgroundcolor\": \"#E5ECF6\", \"gridcolor\": \"white\", \"gridwidth\": 2, \"linecolor\": \"white\", \"showbackground\": true, \"ticks\": \"\", \"zerolinecolor\": \"white\"}}, \"shapedefaults\": {\"line\": {\"color\": \"#2a3f5f\"}}, \"ternary\": {\"aaxis\": {\"gridcolor\": \"white\", \"linecolor\": \"white\", \"ticks\": \"\"}, \"baxis\": {\"gridcolor\": \"white\", \"linecolor\": \"white\", \"ticks\": \"\"}, \"bgcolor\": \"#E5ECF6\", \"caxis\": {\"gridcolor\": \"white\", \"linecolor\": \"white\", \"ticks\": \"\"}}, \"title\": {\"x\": 0.05}, \"xaxis\": {\"automargin\": true, \"gridcolor\": \"white\", \"linecolor\": \"white\", \"ticks\": \"\", \"title\": {\"standoff\": 15}, \"zerolinecolor\": \"white\", \"zerolinewidth\": 2}, \"yaxis\": {\"automargin\": true, \"gridcolor\": \"white\", \"linecolor\": \"white\", \"ticks\": \"\", \"title\": {\"standoff\": 15}, \"zerolinecolor\": \"white\", \"zerolinewidth\": 2}}}},\n",
       "                        {\"responsive\": true}\n",
       "                    ).then(function(){\n",
       "                            \n",
       "var gd = document.getElementById('d78441d7-9231-442b-91e7-1f8a28b62321');\n",
       "var x = new MutationObserver(function (mutations, observer) {{\n",
       "        var display = window.getComputedStyle(gd).display;\n",
       "        if (!display || display === 'none') {{\n",
       "            console.log([gd, 'removed!']);\n",
       "            Plotly.purge(gd);\n",
       "            observer.disconnect();\n",
       "        }}\n",
       "}});\n",
       "\n",
       "// Listen for the removal of the full notebook cells\n",
       "var notebookContainer = gd.closest('#notebook-container');\n",
       "if (notebookContainer) {{\n",
       "    x.observe(notebookContainer, {childList: true});\n",
       "}}\n",
       "\n",
       "// Listen for the clearing of the current output cell\n",
       "var outputEl = gd.closest('.output');\n",
       "if (outputEl) {{\n",
       "    x.observe(outputEl, {childList: true});\n",
       "}}\n",
       "\n",
       "                        })\n",
       "                };\n",
       "                });\n",
       "            </script>\n",
       "        </div>"
      ]
     },
     "metadata": {},
     "output_type": "display_data"
    }
   ],
   "source": [
    "fig.add_trace(go.Bar(x=df['R&D Spend']))"
   ]
  },
  {
   "cell_type": "code",
   "execution_count": 15,
   "metadata": {},
   "outputs": [
    {
     "data": {
      "text/plain": [
       "Index(['R&D Spend', 'Administration', 'Marketing Spend', 'State', 'Profit'], dtype='object')"
      ]
     },
     "execution_count": 15,
     "metadata": {},
     "output_type": "execute_result"
    }
   ],
   "source": [
    "df.columns"
   ]
  },
  {
   "cell_type": "code",
   "execution_count": 19,
   "metadata": {},
   "outputs": [
    {
     "data": {
      "text/plain": [
       "<matplotlib.axes._subplots.AxesSubplot at 0x2cbf2f94c08>"
      ]
     },
     "execution_count": 19,
     "metadata": {},
     "output_type": "execute_result"
    },
    {
     "data": {
      "image/png": "[encoded data removed]",
      "text/plain": [
       "<Figure size 432x288 with 1 Axes>"
      ]
     },
     "metadata": {
      "needs_background": "light"
     },
     "output_type": "display_data"
    }
   ],
   "source": [
    "df.plot(kind='box')"
   ]
  },
  {
   "cell_type": "code",
   "execution_count": 20,
   "metadata": {},
   "outputs": [
    {
     "data": {
      "text/html": [
       "<div>\n",
       "<style scoped>\n",
       "    .dataframe tbody tr th:only-of-type {\n",
       "        vertical-align: middle;\n",
       "    }\n",
       "\n",
       "    .dataframe tbody tr th {\n",
       "        vertical-align: top;\n",
       "    }\n",
       "\n",
       "    .dataframe thead th {\n",
       "        text-align: right;\n",
       "    }\n",
       "</style>\n",
       "<table border=\"1\" class=\"dataframe\">\n",
       "  <thead>\n",
       "    <tr style=\"text-align: right;\">\n",
       "      <th></th>\n",
       "      <th>R&amp;D Spend</th>\n",
       "      <th>Administration</th>\n",
       "      <th>Marketing Spend</th>\n",
       "      <th>Profit</th>\n",
       "    </tr>\n",
       "  </thead>\n",
       "  <tbody>\n",
       "    <tr>\n",
       "      <th>count</th>\n",
       "      <td>50.000000</td>\n",
       "      <td>50.000000</td>\n",
       "      <td>50.000000</td>\n",
       "      <td>50.000000</td>\n",
       "    </tr>\n",
       "    <tr>\n",
       "      <th>mean</th>\n",
       "      <td>73721.615600</td>\n",
       "      <td>121344.639600</td>\n",
       "      <td>211025.097800</td>\n",
       "      <td>112012.639200</td>\n",
       "    </tr>\n",
       "    <tr>\n",
       "      <th>std</th>\n",
       "      <td>45902.256482</td>\n",
       "      <td>28017.802755</td>\n",
       "      <td>122290.310726</td>\n",
       "      <td>40306.180338</td>\n",
       "    </tr>\n",
       "    <tr>\n",
       "      <th>min</th>\n",
       "      <td>0.000000</td>\n",
       "      <td>51283.140000</td>\n",
       "      <td>0.000000</td>\n",
       "      <td>14681.400000</td>\n",
       "    </tr>\n",
       "    <tr>\n",
       "      <th>25%</th>\n",
       "      <td>39936.370000</td>\n",
       "      <td>103730.875000</td>\n",
       "      <td>129300.132500</td>\n",
       "      <td>90138.902500</td>\n",
       "    </tr>\n",
       "    <tr>\n",
       "      <th>50%</th>\n",
       "      <td>73051.080000</td>\n",
       "      <td>122699.795000</td>\n",
       "      <td>212716.240000</td>\n",
       "      <td>107978.190000</td>\n",
       "    </tr>\n",
       "    <tr>\n",
       "      <th>75%</th>\n",
       "      <td>101602.800000</td>\n",
       "      <td>144842.180000</td>\n",
       "      <td>299469.085000</td>\n",
       "      <td>139765.977500</td>\n",
       "    </tr>\n",
       "    <tr>\n",
       "      <th>max</th>\n",
       "      <td>165349.200000</td>\n",
       "      <td>182645.560000</td>\n",
       "      <td>471784.100000</td>\n",
       "      <td>192261.830000</td>\n",
       "    </tr>\n",
       "  </tbody>\n",
       "</table>\n",
       "</div>"
      ],
      "text/plain": [
       "           R&D Spend  Administration  Marketing Spend         Profit\n",
       "count      50.000000       50.000000        50.000000      50.000000\n",
       "mean    73721.615600   121344.639600    211025.097800  112012.639200\n",
       "std     45902.256482    28017.802755    122290.310726   40306.180338\n",
       "min         0.000000    51283.140000         0.000000   14681.400000\n",
       "25%     39936.370000   103730.875000    129300.132500   90138.902500\n",
       "50%     73051.080000   122699.795000    212716.240000  107978.190000\n",
       "75%    101602.800000   144842.180000    299469.085000  139765.977500\n",
       "max    165349.200000   182645.560000    471784.100000  192261.830000"
      ]
     },
     "execution_count": 20,
     "metadata": {},
     "output_type": "execute_result"
    }
   ],
   "source": [
    "df.describe()"
   ]
  },
  {
   "cell_type": "code",
   "execution_count": 24,
   "metadata": {},
   "outputs": [
    {
     "data": {
      "text/plain": [
       "<matplotlib.axes._subplots.AxesSubplot at 0x2cbf4158488>"
      ]
     },
     "execution_count": 24,
     "metadata": {},
     "output_type": "execute_result"
    },
    {
     "data": {
      "image/png": "[encoded data removed]",
      "text/plain": [
       "<Figure size 432x288 with 1 Axes>"
      ]
     },
     "metadata": {
      "needs_background": "light"
     },
     "output_type": "display_data"
    }
   ],
   "source": [
    "df.plot.density()"
   ]
  },
  {
   "cell_type": "code",
   "execution_count": 34,
   "metadata": {},
   "outputs": [
    {
     "data": {
      "text/html": [
       "<style  type=\"text/css\" >\n",
       "    #T_7c0706ba_8de7_11ea_b007_e4e74946428crow0_col0 {\n",
       "            background-color:  #023858;\n",
       "            color:  #f1f1f1;\n",
       "        }    #T_7c0706ba_8de7_11ea_b007_e4e74946428crow0_col1 {\n",
       "            background-color:  #2c89bd;\n",
       "            color:  #000000;\n",
       "        }    #T_7c0706ba_8de7_11ea_b007_e4e74946428crow0_col2 {\n",
       "            background-color:  #023858;\n",
       "            color:  #f1f1f1;\n",
       "        }    #T_7c0706ba_8de7_11ea_b007_e4e74946428crow0_col4 {\n",
       "            background-color:  #023858;\n",
       "            color:  #f1f1f1;\n",
       "        }    #T_7c0706ba_8de7_11ea_b007_e4e74946428crow1_col0 {\n",
       "            background-color:  #023c5f;\n",
       "            color:  #f1f1f1;\n",
       "        }    #T_7c0706ba_8de7_11ea_b007_e4e74946428crow1_col1 {\n",
       "            background-color:  #056dac;\n",
       "            color:  #f1f1f1;\n",
       "        }    #T_7c0706ba_8de7_11ea_b007_e4e74946428crow1_col2 {\n",
       "            background-color:  #034871;\n",
       "            color:  #f1f1f1;\n",
       "        }    #T_7c0706ba_8de7_11ea_b007_e4e74946428crow1_col4 {\n",
       "            background-color:  #023858;\n",
       "            color:  #f1f1f1;\n",
       "        }    #T_7c0706ba_8de7_11ea_b007_e4e74946428crow2_col0 {\n",
       "            background-color:  #034b76;\n",
       "            color:  #f1f1f1;\n",
       "        }    #T_7c0706ba_8de7_11ea_b007_e4e74946428crow2_col1 {\n",
       "            background-color:  #a4bcda;\n",
       "            color:  #000000;\n",
       "        }    #T_7c0706ba_8de7_11ea_b007_e4e74946428crow2_col2 {\n",
       "            background-color:  #045b8f;\n",
       "            color:  #f1f1f1;\n",
       "        }    #T_7c0706ba_8de7_11ea_b007_e4e74946428crow2_col4 {\n",
       "            background-color:  #02395a;\n",
       "            color:  #f1f1f1;\n",
       "        }    #T_7c0706ba_8de7_11ea_b007_e4e74946428crow3_col0 {\n",
       "            background-color:  #045a8d;\n",
       "            color:  #f1f1f1;\n",
       "        }    #T_7c0706ba_8de7_11ea_b007_e4e74946428crow3_col1 {\n",
       "            background-color:  #6da6cd;\n",
       "            color:  #000000;\n",
       "        }    #T_7c0706ba_8de7_11ea_b007_e4e74946428crow3_col2 {\n",
       "            background-color:  #05659f;\n",
       "            color:  #f1f1f1;\n",
       "        }    #T_7c0706ba_8de7_11ea_b007_e4e74946428crow3_col4 {\n",
       "            background-color:  #03466e;\n",
       "            color:  #f1f1f1;\n",
       "        }    #T_7c0706ba_8de7_11ea_b007_e4e74946428crow4_col0 {\n",
       "            background-color:  #045c90;\n",
       "            color:  #f1f1f1;\n",
       "        }    #T_7c0706ba_8de7_11ea_b007_e4e74946428crow4_col1 {\n",
       "            background-color:  #bdc8e1;\n",
       "            color:  #000000;\n",
       "        }    #T_7c0706ba_8de7_11ea_b007_e4e74946428crow4_col2 {\n",
       "            background-color:  #056ba9;\n",
       "            color:  #f1f1f1;\n",
       "        }    #T_7c0706ba_8de7_11ea_b007_e4e74946428crow4_col4 {\n",
       "            background-color:  #045e93;\n",
       "            color:  #f1f1f1;\n",
       "        }    #T_7c0706ba_8de7_11ea_b007_e4e74946428crow5_col0 {\n",
       "            background-color:  #0567a2;\n",
       "            color:  #f1f1f1;\n",
       "        }    #T_7c0706ba_8de7_11ea_b007_e4e74946428crow5_col1 {\n",
       "            background-color:  #a8bedc;\n",
       "            color:  #000000;\n",
       "        }    #T_7c0706ba_8de7_11ea_b007_e4e74946428crow5_col2 {\n",
       "            background-color:  #056dab;\n",
       "            color:  #f1f1f1;\n",
       "        }    #T_7c0706ba_8de7_11ea_b007_e4e74946428crow5_col4 {\n",
       "            background-color:  #0567a1;\n",
       "            color:  #f1f1f1;\n",
       "        }    #T_7c0706ba_8de7_11ea_b007_e4e74946428crow6_col0 {\n",
       "            background-color:  #04649e;\n",
       "            color:  #f1f1f1;\n",
       "        }    #T_7c0706ba_8de7_11ea_b007_e4e74946428crow6_col1 {\n",
       "            background-color:  #0d75b3;\n",
       "            color:  #f1f1f1;\n",
       "        }    #T_7c0706ba_8de7_11ea_b007_e4e74946428crow6_col2 {\n",
       "            background-color:  #c9cee4;\n",
       "            color:  #000000;\n",
       "        }    #T_7c0706ba_8de7_11ea_b007_e4e74946428crow6_col4 {\n",
       "            background-color:  #0568a3;\n",
       "            color:  #f1f1f1;\n",
       "        }    #T_7c0706ba_8de7_11ea_b007_e4e74946428crow7_col0 {\n",
       "            background-color:  #0569a5;\n",
       "            color:  #f1f1f1;\n",
       "        }    #T_7c0706ba_8de7_11ea_b007_e4e74946428crow7_col1 {\n",
       "            background-color:  #1278b4;\n",
       "            color:  #f1f1f1;\n",
       "        }    #T_7c0706ba_8de7_11ea_b007_e4e74946428crow7_col2 {\n",
       "            background-color:  #1e80b8;\n",
       "            color:  #000000;\n",
       "        }    #T_7c0706ba_8de7_11ea_b007_e4e74946428crow7_col4 {\n",
       "            background-color:  #0568a3;\n",
       "            color:  #f1f1f1;\n",
       "        }    #T_7c0706ba_8de7_11ea_b007_e4e74946428crow8_col0 {\n",
       "            background-color:  #0d75b3;\n",
       "            color:  #f1f1f1;\n",
       "        }    #T_7c0706ba_8de7_11ea_b007_e4e74946428crow8_col1 {\n",
       "            background-color:  #0872b1;\n",
       "            color:  #f1f1f1;\n",
       "        }    #T_7c0706ba_8de7_11ea_b007_e4e74946428crow8_col2 {\n",
       "            background-color:  #2786bb;\n",
       "            color:  #000000;\n",
       "        }    #T_7c0706ba_8de7_11ea_b007_e4e74946428crow8_col4 {\n",
       "            background-color:  #056ba9;\n",
       "            color:  #f1f1f1;\n",
       "        }    #T_7c0706ba_8de7_11ea_b007_e4e74946428crow9_col0 {\n",
       "            background-color:  #0771b1;\n",
       "            color:  #f1f1f1;\n",
       "        }    #T_7c0706ba_8de7_11ea_b007_e4e74946428crow9_col1 {\n",
       "            background-color:  #8eb3d5;\n",
       "            color:  #000000;\n",
       "        }    #T_7c0706ba_8de7_11ea_b007_e4e74946428crow9_col2 {\n",
       "            background-color:  #2d8abd;\n",
       "            color:  #000000;\n",
       "        }    #T_7c0706ba_8de7_11ea_b007_e4e74946428crow9_col4 {\n",
       "            background-color:  #056ead;\n",
       "            color:  #f1f1f1;\n",
       "        }    #T_7c0706ba_8de7_11ea_b007_e4e74946428crow10_col0 {\n",
       "            background-color:  #3b92c1;\n",
       "            color:  #000000;\n",
       "        }    #T_7c0706ba_8de7_11ea_b007_e4e74946428crow10_col1 {\n",
       "            background-color:  #88b1d4;\n",
       "            color:  #000000;\n",
       "        }    #T_7c0706ba_8de7_11ea_b007_e4e74946428crow10_col2 {\n",
       "            background-color:  #79abd0;\n",
       "            color:  #000000;\n",
       "        }    #T_7c0706ba_8de7_11ea_b007_e4e74946428crow10_col4 {\n",
       "            background-color:  #0872b1;\n",
       "            color:  #f1f1f1;\n",
       "        }    #T_7c0706ba_8de7_11ea_b007_e4e74946428crow11_col0 {\n",
       "            background-color:  #3f93c2;\n",
       "            color:  #000000;\n",
       "        }    #T_7c0706ba_8de7_11ea_b007_e4e74946428crow11_col1 {\n",
       "            background-color:  #bdc8e1;\n",
       "            color:  #000000;\n",
       "        }    #T_7c0706ba_8de7_11ea_b007_e4e74946428crow11_col2 {\n",
       "            background-color:  #65a3cb;\n",
       "            color:  #000000;\n",
       "        }    #T_7c0706ba_8de7_11ea_b007_e4e74946428crow11_col4 {\n",
       "            background-color:  #0d75b3;\n",
       "            color:  #f1f1f1;\n",
       "        }    #T_7c0706ba_8de7_11ea_b007_e4e74946428crow12_col0 {\n",
       "            background-color:  #529bc7;\n",
       "            color:  #000000;\n",
       "        }    #T_7c0706ba_8de7_11ea_b007_e4e74946428crow12_col1 {\n",
       "            background-color:  #4c99c5;\n",
       "            color:  #000000;\n",
       "        }    #T_7c0706ba_8de7_11ea_b007_e4e74946428crow12_col2 {\n",
       "            background-color:  #65a3cb;\n",
       "            color:  #000000;\n",
       "        }    #T_7c0706ba_8de7_11ea_b007_e4e74946428crow12_col4 {\n",
       "            background-color:  #1379b5;\n",
       "            color:  #f1f1f1;\n",
       "        }    #T_7c0706ba_8de7_11ea_b007_e4e74946428crow13_col0 {\n",
       "            background-color:  #589ec8;\n",
       "            color:  #000000;\n",
       "        }    #T_7c0706ba_8de7_11ea_b007_e4e74946428crow13_col1 {\n",
       "            background-color:  #2f8bbe;\n",
       "            color:  #000000;\n",
       "        }    #T_7c0706ba_8de7_11ea_b007_e4e74946428crow13_col2 {\n",
       "            background-color:  #62a2cb;\n",
       "            color:  #000000;\n",
       "        }    #T_7c0706ba_8de7_11ea_b007_e4e74946428crow13_col4 {\n",
       "            background-color:  #2383ba;\n",
       "            color:  #000000;\n",
       "        }    #T_7c0706ba_8de7_11ea_b007_e4e74946428crow14_col0 {\n",
       "            background-color:  #0f76b3;\n",
       "            color:  #f1f1f1;\n",
       "        }    #T_7c0706ba_8de7_11ea_b007_e4e74946428crow14_col1 {\n",
       "            background-color:  #0567a1;\n",
       "            color:  #f1f1f1;\n",
       "        }    #T_7c0706ba_8de7_11ea_b007_e4e74946428crow14_col2 {\n",
       "            background-color:  #5ea0ca;\n",
       "            color:  #000000;\n",
       "        }    #T_7c0706ba_8de7_11ea_b007_e4e74946428crow14_col4 {\n",
       "            background-color:  #2786bb;\n",
       "            color:  #000000;\n",
       "        }    #T_7c0706ba_8de7_11ea_b007_e4e74946428crow15_col0 {\n",
       "            background-color:  #1b7eb7;\n",
       "            color:  #000000;\n",
       "        }    #T_7c0706ba_8de7_11ea_b007_e4e74946428crow15_col1 {\n",
       "            background-color:  #5ea0ca;\n",
       "            color:  #000000;\n",
       "        }    #T_7c0706ba_8de7_11ea_b007_e4e74946428crow15_col2 {\n",
       "            background-color:  #589ec8;\n",
       "            color:  #000000;\n",
       "        }    #T_7c0706ba_8de7_11ea_b007_e4e74946428crow15_col4 {\n",
       "            background-color:  #2c89bd;\n",
       "            color:  #000000;\n",
       "        }    #T_7c0706ba_8de7_11ea_b007_e4e74946428crow16_col0 {\n",
       "            background-color:  #80aed2;\n",
       "            color:  #000000;\n",
       "        }    #T_7c0706ba_8de7_11ea_b007_e4e74946428crow16_col1 {\n",
       "            background-color:  #62a2cb;\n",
       "            color:  #000000;\n",
       "        }    #T_7c0706ba_8de7_11ea_b007_e4e74946428crow16_col2 {\n",
       "            background-color:  #569dc8;\n",
       "            color:  #000000;\n",
       "        }    #T_7c0706ba_8de7_11ea_b007_e4e74946428crow16_col4 {\n",
       "            background-color:  #348ebf;\n",
       "            color:  #000000;\n",
       "        }    #T_7c0706ba_8de7_11ea_b007_e4e74946428crow17_col0 {\n",
       "            background-color:  #509ac6;\n",
       "            color:  #000000;\n",
       "        }    #T_7c0706ba_8de7_11ea_b007_e4e74946428crow17_col1 {\n",
       "            background-color:  #1379b5;\n",
       "            color:  #f1f1f1;\n",
       "        }    #T_7c0706ba_8de7_11ea_b007_e4e74946428crow17_col2 {\n",
       "            background-color:  #4295c3;\n",
       "            color:  #000000;\n",
       "        }    #T_7c0706ba_8de7_11ea_b007_e4e74946428crow17_col4 {\n",
       "            background-color:  #3790c0;\n",
       "            color:  #000000;\n",
       "        }    #T_7c0706ba_8de7_11ea_b007_e4e74946428crow18_col0 {\n",
       "            background-color:  #589ec8;\n",
       "            color:  #000000;\n",
       "        }    #T_7c0706ba_8de7_11ea_b007_e4e74946428crow18_col1 {\n",
       "            background-color:  #7dacd1;\n",
       "            color:  #000000;\n",
       "        }    #T_7c0706ba_8de7_11ea_b007_e4e74946428crow18_col2 {\n",
       "            background-color:  #358fc0;\n",
       "            color:  #000000;\n",
       "        }    #T_7c0706ba_8de7_11ea_b007_e4e74946428crow18_col4 {\n",
       "            background-color:  #3b92c1;\n",
       "            color:  #000000;\n",
       "        }    #T_7c0706ba_8de7_11ea_b007_e4e74946428crow19_col0 {\n",
       "            background-color:  #69a5cc;\n",
       "            color:  #000000;\n",
       "        }    #T_7c0706ba_8de7_11ea_b007_e4e74946428crow19_col1 {\n",
       "            background-color:  #056ba7;\n",
       "            color:  #f1f1f1;\n",
       "        }    #T_7c0706ba_8de7_11ea_b007_e4e74946428crow19_col2 {\n",
       "            background-color:  #fff7fb;\n",
       "            color:  #000000;\n",
       "        }    #T_7c0706ba_8de7_11ea_b007_e4e74946428crow19_col4 {\n",
       "            background-color:  #3f93c2;\n",
       "            color:  #000000;\n",
       "        }    #T_7c0706ba_8de7_11ea_b007_e4e74946428crow20_col0 {\n",
       "            background-color:  #83afd3;\n",
       "            color:  #000000;\n",
       "        }    #T_7c0706ba_8de7_11ea_b007_e4e74946428crow20_col1 {\n",
       "            background-color:  #7eadd1;\n",
       "            color:  #000000;\n",
       "        }    #T_7c0706ba_8de7_11ea_b007_e4e74946428crow20_col2 {\n",
       "            background-color:  #328dbf;\n",
       "            color:  #000000;\n",
       "        }    #T_7c0706ba_8de7_11ea_b007_e4e74946428crow20_col4 {\n",
       "            background-color:  #4a98c5;\n",
       "            color:  #000000;\n",
       "        }    #T_7c0706ba_8de7_11ea_b007_e4e74946428crow21_col0 {\n",
       "            background-color:  #7eadd1;\n",
       "            color:  #000000;\n",
       "        }    #T_7c0706ba_8de7_11ea_b007_e4e74946428crow21_col1 {\n",
       "            background-color:  #056ba7;\n",
       "            color:  #f1f1f1;\n",
       "        }    #T_7c0706ba_8de7_11ea_b007_e4e74946428crow21_col2 {\n",
       "            background-color:  #328dbf;\n",
       "            color:  #000000;\n",
       "        }    #T_7c0706ba_8de7_11ea_b007_e4e74946428crow21_col4 {\n",
       "            background-color:  #5ea0ca;\n",
       "            color:  #000000;\n",
       "        }    #T_7c0706ba_8de7_11ea_b007_e4e74946428crow22_col0 {\n",
       "            background-color:  #89b1d4;\n",
       "            color:  #000000;\n",
       "        }    #T_7c0706ba_8de7_11ea_b007_e4e74946428crow22_col1 {\n",
       "            background-color:  #5ea0ca;\n",
       "            color:  #000000;\n",
       "        }    #T_7c0706ba_8de7_11ea_b007_e4e74946428crow22_col2 {\n",
       "            background-color:  #2f8bbe;\n",
       "            color:  #000000;\n",
       "        }    #T_7c0706ba_8de7_11ea_b007_e4e74946428crow22_col4 {\n",
       "            background-color:  #62a2cb;\n",
       "            color:  #000000;\n",
       "        }    #T_7c0706ba_8de7_11ea_b007_e4e74946428crow23_col0 {\n",
       "            background-color:  #99b8d8;\n",
       "            color:  #000000;\n",
       "        }    #T_7c0706ba_8de7_11ea_b007_e4e74946428crow23_col1 {\n",
       "            background-color:  #96b6d7;\n",
       "            color:  #000000;\n",
       "        }    #T_7c0706ba_8de7_11ea_b007_e4e74946428crow23_col2 {\n",
       "            background-color:  #2d8abd;\n",
       "            color:  #000000;\n",
       "        }    #T_7c0706ba_8de7_11ea_b007_e4e74946428crow23_col4 {\n",
       "            background-color:  #65a3cb;\n",
       "            color:  #000000;\n",
       "        }    #T_7c0706ba_8de7_11ea_b007_e4e74946428crow24_col0 {\n",
       "            background-color:  #81aed2;\n",
       "            color:  #000000;\n",
       "        }    #T_7c0706ba_8de7_11ea_b007_e4e74946428crow24_col1 {\n",
       "            background-color:  #a9bfdc;\n",
       "            color:  #000000;\n",
       "        }    #T_7c0706ba_8de7_11ea_b007_e4e74946428crow24_col2 {\n",
       "            background-color:  #c0c9e2;\n",
       "            color:  #000000;\n",
       "        }    #T_7c0706ba_8de7_11ea_b007_e4e74946428crow24_col4 {\n",
       "            background-color:  #65a3cb;\n",
       "            color:  #000000;\n",
       "        }    #T_7c0706ba_8de7_11ea_b007_e4e74946428crow25_col0 {\n",
       "            background-color:  #9fbad9;\n",
       "            color:  #000000;\n",
       "        }    #T_7c0706ba_8de7_11ea_b007_e4e74946428crow25_col1 {\n",
       "            background-color:  #2383ba;\n",
       "            color:  #000000;\n",
       "        }    #T_7c0706ba_8de7_11ea_b007_e4e74946428crow25_col2 {\n",
       "            background-color:  #c2cbe2;\n",
       "            color:  #000000;\n",
       "        }    #T_7c0706ba_8de7_11ea_b007_e4e74946428crow25_col4 {\n",
       "            background-color:  #69a5cc;\n",
       "            color:  #000000;\n",
       "        }    #T_7c0706ba_8de7_11ea_b007_e4e74946428crow26_col0 {\n",
       "            background-color:  #86b0d3;\n",
       "            color:  #000000;\n",
       "        }    #T_7c0706ba_8de7_11ea_b007_e4e74946428crow26_col1 {\n",
       "            background-color:  #167bb6;\n",
       "            color:  #000000;\n",
       "        }    #T_7c0706ba_8de7_11ea_b007_e4e74946428crow26_col2 {\n",
       "            background-color:  #c5cce3;\n",
       "            color:  #000000;\n",
       "        }    #T_7c0706ba_8de7_11ea_b007_e4e74946428crow26_col4 {\n",
       "            background-color:  #6da6cd;\n",
       "            color:  #000000;\n",
       "        }    #T_7c0706ba_8de7_11ea_b007_e4e74946428crow27_col0 {\n",
       "            background-color:  #8eb3d5;\n",
       "            color:  #000000;\n",
       "        }    #T_7c0706ba_8de7_11ea_b007_e4e74946428crow27_col1 {\n",
       "            background-color:  #4a98c5;\n",
       "            color:  #000000;\n",
       "        }    #T_7c0706ba_8de7_11ea_b007_e4e74946428crow27_col2 {\n",
       "            background-color:  #0570b0;\n",
       "            color:  #f1f1f1;\n",
       "        }    #T_7c0706ba_8de7_11ea_b007_e4e74946428crow27_col4 {\n",
       "            background-color:  #6fa7ce;\n",
       "            color:  #000000;\n",
       "        }    #T_7c0706ba_8de7_11ea_b007_e4e74946428crow28_col0 {\n",
       "            background-color:  #9cb9d9;\n",
       "            color:  #000000;\n",
       "        }    #T_7c0706ba_8de7_11ea_b007_e4e74946428crow28_col1 {\n",
       "            background-color:  #023858;\n",
       "            color:  #f1f1f1;\n",
       "        }    #T_7c0706ba_8de7_11ea_b007_e4e74946428crow28_col2 {\n",
       "            background-color:  #d0d1e6;\n",
       "            color:  #000000;\n",
       "        }    #T_7c0706ba_8de7_11ea_b007_e4e74946428crow28_col4 {\n",
       "            background-color:  #75a9cf;\n",
       "            color:  #000000;\n",
       "        }    #T_7c0706ba_8de7_11ea_b007_e4e74946428crow29_col0 {\n",
       "            background-color:  #9ebad9;\n",
       "            color:  #000000;\n",
       "        }    #T_7c0706ba_8de7_11ea_b007_e4e74946428crow29_col1 {\n",
       "            background-color:  #056ba9;\n",
       "            color:  #f1f1f1;\n",
       "        }    #T_7c0706ba_8de7_11ea_b007_e4e74946428crow29_col2 {\n",
       "            background-color:  #d5d5e8;\n",
       "            color:  #000000;\n",
       "        }    #T_7c0706ba_8de7_11ea_b007_e4e74946428crow29_col4 {\n",
       "            background-color:  #79abd0;\n",
       "            color:  #000000;\n",
       "        }    #T_7c0706ba_8de7_11ea_b007_e4e74946428crow30_col0 {\n",
       "            background-color:  #a7bddb;\n",
       "            color:  #000000;\n",
       "        }    #T_7c0706ba_8de7_11ea_b007_e4e74946428crow30_col1 {\n",
       "            background-color:  #78abd0;\n",
       "            color:  #000000;\n",
       "        }    #T_7c0706ba_8de7_11ea_b007_e4e74946428crow30_col2 {\n",
       "            background-color:  #dddbec;\n",
       "            color:  #000000;\n",
       "        }    #T_7c0706ba_8de7_11ea_b007_e4e74946428crow30_col4 {\n",
       "            background-color:  #7dacd1;\n",
       "            color:  #000000;\n",
       "        }    #T_7c0706ba_8de7_11ea_b007_e4e74946428crow31_col0 {\n",
       "            background-color:  #a8bedc;\n",
       "            color:  #000000;\n",
       "        }    #T_7c0706ba_8de7_11ea_b007_e4e74946428crow31_col1 {\n",
       "            background-color:  #056caa;\n",
       "            color:  #f1f1f1;\n",
       "        }    #T_7c0706ba_8de7_11ea_b007_e4e74946428crow31_col2 {\n",
       "            background-color:  #dfddec;\n",
       "            color:  #000000;\n",
       "        }    #T_7c0706ba_8de7_11ea_b007_e4e74946428crow31_col4 {\n",
       "            background-color:  #81aed2;\n",
       "            color:  #000000;\n",
       "        }    #T_7c0706ba_8de7_11ea_b007_e4e74946428crow32_col0 {\n",
       "            background-color:  #a2bcda;\n",
       "            color:  #000000;\n",
       "        }    #T_7c0706ba_8de7_11ea_b007_e4e74946428crow32_col1 {\n",
       "            background-color:  #4697c4;\n",
       "            color:  #000000;\n",
       "        }    #T_7c0706ba_8de7_11ea_b007_e4e74946428crow32_col2 {\n",
       "            background-color:  #f0eaf4;\n",
       "            color:  #000000;\n",
       "        }    #T_7c0706ba_8de7_11ea_b007_e4e74946428crow32_col4 {\n",
       "            background-color:  #81aed2;\n",
       "            color:  #000000;\n",
       "        }    #T_7c0706ba_8de7_11ea_b007_e4e74946428crow33_col0 {\n",
       "            background-color:  #b4c4df;\n",
       "            color:  #000000;\n",
       "        }    #T_7c0706ba_8de7_11ea_b007_e4e74946428crow33_col1 {\n",
       "            background-color:  #9fbad9;\n",
       "            color:  #000000;\n",
       "        }    #T_7c0706ba_8de7_11ea_b007_e4e74946428crow33_col2 {\n",
       "            background-color:  #86b0d3;\n",
       "            color:  #000000;\n",
       "        }    #T_7c0706ba_8de7_11ea_b007_e4e74946428crow33_col4 {\n",
       "            background-color:  #83afd3;\n",
       "            color:  #000000;\n",
       "        }    #T_7c0706ba_8de7_11ea_b007_e4e74946428crow34_col0 {\n",
       "            background-color:  #c6cce3;\n",
       "            color:  #000000;\n",
       "        }    #T_7c0706ba_8de7_11ea_b007_e4e74946428crow34_col1 {\n",
       "            background-color:  #05659f;\n",
       "            color:  #f1f1f1;\n",
       "        }    #T_7c0706ba_8de7_11ea_b007_e4e74946428crow34_col2 {\n",
       "            background-color:  #89b1d4;\n",
       "            color:  #000000;\n",
       "        }    #T_7c0706ba_8de7_11ea_b007_e4e74946428crow34_col4 {\n",
       "            background-color:  #83afd3;\n",
       "            color:  #000000;\n",
       "        }    #T_7c0706ba_8de7_11ea_b007_e4e74946428crow35_col0 {\n",
       "            background-color:  #c6cce3;\n",
       "            color:  #000000;\n",
       "        }    #T_7c0706ba_8de7_11ea_b007_e4e74946428crow35_col1 {\n",
       "            background-color:  #ced0e6;\n",
       "            color:  #000000;\n",
       "        }    #T_7c0706ba_8de7_11ea_b007_e4e74946428crow35_col2 {\n",
       "            background-color:  #8eb3d5;\n",
       "            color:  #000000;\n",
       "        }    #T_7c0706ba_8de7_11ea_b007_e4e74946428crow35_col4 {\n",
       "            background-color:  #84b0d3;\n",
       "            color:  #000000;\n",
       "        }    #T_7c0706ba_8de7_11ea_b007_e4e74946428crow36_col0 {\n",
       "            background-color:  #e1dfed;\n",
       "            color:  #000000;\n",
       "        }    #T_7c0706ba_8de7_11ea_b007_e4e74946428crow36_col1 {\n",
       "            background-color:  #4e9ac6;\n",
       "            color:  #000000;\n",
       "        }    #T_7c0706ba_8de7_11ea_b007_e4e74946428crow36_col2 {\n",
       "            background-color:  #91b5d6;\n",
       "            color:  #000000;\n",
       "        }    #T_7c0706ba_8de7_11ea_b007_e4e74946428crow36_col4 {\n",
       "            background-color:  #91b5d6;\n",
       "            color:  #000000;\n",
       "        }    #T_7c0706ba_8de7_11ea_b007_e4e74946428crow37_col0 {\n",
       "            background-color:  #cacee5;\n",
       "            color:  #000000;\n",
       "        }    #T_7c0706ba_8de7_11ea_b007_e4e74946428crow37_col1 {\n",
       "            background-color:  #fff7fb;\n",
       "            color:  #000000;\n",
       "        }    #T_7c0706ba_8de7_11ea_b007_e4e74946428crow37_col2 {\n",
       "            background-color:  #96b6d7;\n",
       "            color:  #000000;\n",
       "        }    #T_7c0706ba_8de7_11ea_b007_e4e74946428crow37_col4 {\n",
       "            background-color:  #93b5d6;\n",
       "            color:  #000000;\n",
       "        }    #T_7c0706ba_8de7_11ea_b007_e4e74946428crow38_col0 {\n",
       "            background-color:  #ede7f2;\n",
       "            color:  #000000;\n",
       "        }    #T_7c0706ba_8de7_11ea_b007_e4e74946428crow38_col1 {\n",
       "            background-color:  #eee9f3;\n",
       "            color:  #000000;\n",
       "        }    #T_7c0706ba_8de7_11ea_b007_e4e74946428crow38_col2 {\n",
       "            background-color:  #9fbad9;\n",
       "            color:  #000000;\n",
       "        }    #T_7c0706ba_8de7_11ea_b007_e4e74946428crow38_col4 {\n",
       "            background-color:  #a7bddb;\n",
       "            color:  #000000;\n",
       "        }    #T_7c0706ba_8de7_11ea_b007_e4e74946428crow39_col0 {\n",
       "            background-color:  #d4d4e8;\n",
       "            color:  #000000;\n",
       "        }    #T_7c0706ba_8de7_11ea_b007_e4e74946428crow39_col1 {\n",
       "            background-color:  #d2d3e7;\n",
       "            color:  #000000;\n",
       "        }    #T_7c0706ba_8de7_11ea_b007_e4e74946428crow39_col2 {\n",
       "            background-color:  #a8bedc;\n",
       "            color:  #000000;\n",
       "        }    #T_7c0706ba_8de7_11ea_b007_e4e74946428crow39_col4 {\n",
       "            background-color:  #a7bddb;\n",
       "            color:  #000000;\n",
       "        }    #T_7c0706ba_8de7_11ea_b007_e4e74946428crow40_col0 {\n",
       "            background-color:  #e1dfed;\n",
       "            color:  #000000;\n",
       "        }    #T_7c0706ba_8de7_11ea_b007_e4e74946428crow40_col1 {\n",
       "            background-color:  #6da6cd;\n",
       "            color:  #000000;\n",
       "        }    #T_7c0706ba_8de7_11ea_b007_e4e74946428crow40_col2 {\n",
       "            background-color:  #a9bfdc;\n",
       "            color:  #000000;\n",
       "        }    #T_7c0706ba_8de7_11ea_b007_e4e74946428crow40_col4 {\n",
       "            background-color:  #acc0dd;\n",
       "            color:  #000000;\n",
       "        }    #T_7c0706ba_8de7_11ea_b007_e4e74946428crow41_col0 {\n",
       "            background-color:  #e2dfee;\n",
       "            color:  #000000;\n",
       "        }    #T_7c0706ba_8de7_11ea_b007_e4e74946428crow41_col1 {\n",
       "            background-color:  #ced0e6;\n",
       "            color:  #000000;\n",
       "        }    #T_7c0706ba_8de7_11ea_b007_e4e74946428crow41_col2 {\n",
       "            background-color:  #afc1dd;\n",
       "            color:  #000000;\n",
       "        }    #T_7c0706ba_8de7_11ea_b007_e4e74946428crow41_col4 {\n",
       "            background-color:  #adc1dd;\n",
       "            color:  #000000;\n",
       "        }    #T_7c0706ba_8de7_11ea_b007_e4e74946428crow42_col0 {\n",
       "            background-color:  #e8e4f0;\n",
       "            color:  #000000;\n",
       "        }    #T_7c0706ba_8de7_11ea_b007_e4e74946428crow42_col1 {\n",
       "            background-color:  #b1c2de;\n",
       "            color:  #000000;\n",
       "        }    #T_7c0706ba_8de7_11ea_b007_e4e74946428crow42_col2 {\n",
       "            background-color:  #bbc7e0;\n",
       "            color:  #000000;\n",
       "        }    #T_7c0706ba_8de7_11ea_b007_e4e74946428crow42_col4 {\n",
       "            background-color:  #b9c6e0;\n",
       "            color:  #000000;\n",
       "        }    #T_7c0706ba_8de7_11ea_b007_e4e74946428crow43_col0 {\n",
       "            background-color:  #f1ebf4;\n",
       "            color:  #000000;\n",
       "        }    #T_7c0706ba_8de7_11ea_b007_e4e74946428crow43_col1 {\n",
       "            background-color:  #4c99c5;\n",
       "            color:  #000000;\n",
       "        }    #T_7c0706ba_8de7_11ea_b007_e4e74946428crow43_col2 {\n",
       "            background-color:  #f4edf6;\n",
       "            color:  #000000;\n",
       "        }    #T_7c0706ba_8de7_11ea_b007_e4e74946428crow43_col4 {\n",
       "            background-color:  #bcc7e1;\n",
       "            color:  #000000;\n",
       "        }    #T_7c0706ba_8de7_11ea_b007_e4e74946428crow44_col0 {\n",
       "            background-color:  #eae6f1;\n",
       "            color:  #000000;\n",
       "        }    #T_7c0706ba_8de7_11ea_b007_e4e74946428crow44_col1 {\n",
       "            background-color:  #0569a5;\n",
       "            color:  #f1f1f1;\n",
       "        }    #T_7c0706ba_8de7_11ea_b007_e4e74946428crow44_col2 {\n",
       "            background-color:  #f6eff7;\n",
       "            color:  #000000;\n",
       "        }    #T_7c0706ba_8de7_11ea_b007_e4e74946428crow44_col4 {\n",
       "            background-color:  #c5cce3;\n",
       "            color:  #000000;\n",
       "        }    #T_7c0706ba_8de7_11ea_b007_e4e74946428crow45_col0 {\n",
       "            background-color:  #fef6fb;\n",
       "            color:  #000000;\n",
       "        }    #T_7c0706ba_8de7_11ea_b007_e4e74946428crow45_col1 {\n",
       "            background-color:  #589ec8;\n",
       "            color:  #000000;\n",
       "        }    #T_7c0706ba_8de7_11ea_b007_e4e74946428crow45_col2 {\n",
       "            background-color:  #fef6fb;\n",
       "            color:  #000000;\n",
       "        }    #T_7c0706ba_8de7_11ea_b007_e4e74946428crow45_col4 {\n",
       "            background-color:  #c5cce3;\n",
       "            color:  #000000;\n",
       "        }    #T_7c0706ba_8de7_11ea_b007_e4e74946428crow46_col0 {\n",
       "            background-color:  #fef6fa;\n",
       "            color:  #000000;\n",
       "        }    #T_7c0706ba_8de7_11ea_b007_e4e74946428crow46_col1 {\n",
       "            background-color:  #78abd0;\n",
       "            color:  #000000;\n",
       "        }    #T_7c0706ba_8de7_11ea_b007_e4e74946428crow46_col2 {\n",
       "            background-color:  #348ebf;\n",
       "            color:  #000000;\n",
       "        }    #T_7c0706ba_8de7_11ea_b007_e4e74946428crow46_col4 {\n",
       "            background-color:  #dcdaeb;\n",
       "            color:  #000000;\n",
       "        }    #T_7c0706ba_8de7_11ea_b007_e4e74946428crow47_col0 {\n",
       "            background-color:  #fff7fb;\n",
       "            color:  #000000;\n",
       "        }    #T_7c0706ba_8de7_11ea_b007_e4e74946428crow47_col1 {\n",
       "            background-color:  #308cbe;\n",
       "            color:  #000000;\n",
       "        }    #T_7c0706ba_8de7_11ea_b007_e4e74946428crow47_col2 {\n",
       "            background-color:  #fff7fb;\n",
       "            color:  #000000;\n",
       "        }    #T_7c0706ba_8de7_11ea_b007_e4e74946428crow47_col4 {\n",
       "            background-color:  #e5e1ef;\n",
       "            color:  #000000;\n",
       "        }    #T_7c0706ba_8de7_11ea_b007_e4e74946428crow48_col0 {\n",
       "            background-color:  #fff7fb;\n",
       "            color:  #000000;\n",
       "        }    #T_7c0706ba_8de7_11ea_b007_e4e74946428crow48_col1 {\n",
       "            background-color:  #fff7fb;\n",
       "            color:  #000000;\n",
       "        }    #T_7c0706ba_8de7_11ea_b007_e4e74946428crow48_col2 {\n",
       "            background-color:  #fff7fb;\n",
       "            color:  #000000;\n",
       "        }    #T_7c0706ba_8de7_11ea_b007_e4e74946428crow48_col4 {\n",
       "            background-color:  #ede8f3;\n",
       "            color:  #000000;\n",
       "        }    #T_7c0706ba_8de7_11ea_b007_e4e74946428crow49_col0 {\n",
       "            background-color:  #fff7fb;\n",
       "            color:  #000000;\n",
       "        }    #T_7c0706ba_8de7_11ea_b007_e4e74946428crow49_col1 {\n",
       "            background-color:  #73a9cf;\n",
       "            color:  #000000;\n",
       "        }    #T_7c0706ba_8de7_11ea_b007_e4e74946428crow49_col2 {\n",
       "            background-color:  #f1ebf4;\n",
       "            color:  #000000;\n",
       "        }    #T_7c0706ba_8de7_11ea_b007_e4e74946428crow49_col4 {\n",
       "            background-color:  #fff7fb;\n",
       "            color:  #000000;\n",
       "        }</style><table id=\"T_7c0706ba_8de7_11ea_b007_e4e74946428c\" ><thead>    <tr>        <th class=\"blank level0\" ></th>        <th class=\"col_heading level0 col0\" >R&D Spend</th>        <th class=\"col_heading level0 col1\" >Administration</th>        <th class=\"col_heading level0 col2\" >Marketing Spend</th>        <th class=\"col_heading level0 col3\" >State</th>        <th class=\"col_heading level0 col4\" >Profit</th>    </tr></thead><tbody>\n",
       "                <tr>\n",
       "                        <th id=\"T_7c0706ba_8de7_11ea_b007_e4e74946428clevel0_row0\" class=\"row_heading level0 row0\" >0</th>\n",
       "                        <td id=\"T_7c0706ba_8de7_11ea_b007_e4e74946428crow0_col0\" class=\"data row0 col0\" >165349.200000</td>\n",
       "                        <td id=\"T_7c0706ba_8de7_11ea_b007_e4e74946428crow0_col1\" class=\"data row0 col1\" >136897.800000</td>\n",
       "                        <td id=\"T_7c0706ba_8de7_11ea_b007_e4e74946428crow0_col2\" class=\"data row0 col2\" >471784.100000</td>\n",
       "                        <td id=\"T_7c0706ba_8de7_11ea_b007_e4e74946428crow0_col3\" class=\"data row0 col3\" >New York</td>\n",
       "                        <td id=\"T_7c0706ba_8de7_11ea_b007_e4e74946428crow0_col4\" class=\"data row0 col4\" >192261.830000</td>\n",
       "            </tr>\n",
       "            <tr>\n",
       "                        <th id=\"T_7c0706ba_8de7_11ea_b007_e4e74946428clevel0_row1\" class=\"row_heading level0 row1\" >1</th>\n",
       "                        <td id=\"T_7c0706ba_8de7_11ea_b007_e4e74946428crow1_col0\" class=\"data row1 col0\" >162597.700000</td>\n",
       "                        <td id=\"T_7c0706ba_8de7_11ea_b007_e4e74946428crow1_col1\" class=\"data row1 col1\" >151377.590000</td>\n",
       "                        <td id=\"T_7c0706ba_8de7_11ea_b007_e4e74946428crow1_col2\" class=\"data row1 col2\" >443898.530000</td>\n",
       "                        <td id=\"T_7c0706ba_8de7_11ea_b007_e4e74946428crow1_col3\" class=\"data row1 col3\" >California</td>\n",
       "                        <td id=\"T_7c0706ba_8de7_11ea_b007_e4e74946428crow1_col4\" class=\"data row1 col4\" >191792.060000</td>\n",
       "            </tr>\n",
       "            <tr>\n",
       "                        <th id=\"T_7c0706ba_8de7_11ea_b007_e4e74946428clevel0_row2\" class=\"row_heading level0 row2\" >2</th>\n",
       "                        <td id=\"T_7c0706ba_8de7_11ea_b007_e4e74946428crow2_col0\" class=\"data row2 col0\" >153441.510000</td>\n",
       "                        <td id=\"T_7c0706ba_8de7_11ea_b007_e4e74946428crow2_col1\" class=\"data row2 col1\" >101145.550000</td>\n",
       "                        <td id=\"T_7c0706ba_8de7_11ea_b007_e4e74946428crow2_col2\" class=\"data row2 col2\" >407934.540000</td>\n",
       "                        <td id=\"T_7c0706ba_8de7_11ea_b007_e4e74946428crow2_col3\" class=\"data row2 col3\" >Florida</td>\n",
       "                        <td id=\"T_7c0706ba_8de7_11ea_b007_e4e74946428crow2_col4\" class=\"data row2 col4\" >191050.390000</td>\n",
       "            </tr>\n",
       "            <tr>\n",
       "                        <th id=\"T_7c0706ba_8de7_11ea_b007_e4e74946428clevel0_row3\" class=\"row_heading level0 row3\" >3</th>\n",
       "                        <td id=\"T_7c0706ba_8de7_11ea_b007_e4e74946428crow3_col0\" class=\"data row3 col0\" >144372.410000</td>\n",
       "                        <td id=\"T_7c0706ba_8de7_11ea_b007_e4e74946428crow3_col1\" class=\"data row3 col1\" >118671.850000</td>\n",
       "                        <td id=\"T_7c0706ba_8de7_11ea_b007_e4e74946428crow3_col2\" class=\"data row3 col2\" >383199.620000</td>\n",
       "                        <td id=\"T_7c0706ba_8de7_11ea_b007_e4e74946428crow3_col3\" class=\"data row3 col3\" >New York</td>\n",
       "                        <td id=\"T_7c0706ba_8de7_11ea_b007_e4e74946428crow3_col4\" class=\"data row3 col4\" >182901.990000</td>\n",
       "            </tr>\n",
       "            <tr>\n",
       "                        <th id=\"T_7c0706ba_8de7_11ea_b007_e4e74946428clevel0_row4\" class=\"row_heading level0 row4\" >4</th>\n",
       "                        <td id=\"T_7c0706ba_8de7_11ea_b007_e4e74946428crow4_col0\" class=\"data row4 col0\" >142107.340000</td>\n",
       "                        <td id=\"T_7c0706ba_8de7_11ea_b007_e4e74946428crow4_col1\" class=\"data row4 col1\" >91391.770000</td>\n",
       "                        <td id=\"T_7c0706ba_8de7_11ea_b007_e4e74946428crow4_col2\" class=\"data row4 col2\" >366168.420000</td>\n",
       "                        <td id=\"T_7c0706ba_8de7_11ea_b007_e4e74946428crow4_col3\" class=\"data row4 col3\" >Florida</td>\n",
       "                        <td id=\"T_7c0706ba_8de7_11ea_b007_e4e74946428crow4_col4\" class=\"data row4 col4\" >166187.940000</td>\n",
       "            </tr>\n",
       "            <tr>\n",
       "                        <th id=\"T_7c0706ba_8de7_11ea_b007_e4e74946428clevel0_row5\" class=\"row_heading level0 row5\" >5</th>\n",
       "                        <td id=\"T_7c0706ba_8de7_11ea_b007_e4e74946428crow5_col0\" class=\"data row5 col0\" >131876.900000</td>\n",
       "                        <td id=\"T_7c0706ba_8de7_11ea_b007_e4e74946428crow5_col1\" class=\"data row5 col1\" >99814.710000</td>\n",
       "                        <td id=\"T_7c0706ba_8de7_11ea_b007_e4e74946428crow5_col2\" class=\"data row5 col2\" >362861.360000</td>\n",
       "                        <td id=\"T_7c0706ba_8de7_11ea_b007_e4e74946428crow5_col3\" class=\"data row5 col3\" >New York</td>\n",
       "                        <td id=\"T_7c0706ba_8de7_11ea_b007_e4e74946428crow5_col4\" class=\"data row5 col4\" >156991.120000</td>\n",
       "            </tr>\n",
       "            <tr>\n",
       "                        <th id=\"T_7c0706ba_8de7_11ea_b007_e4e74946428clevel0_row6\" class=\"row_heading level0 row6\" >6</th>\n",
       "                        <td id=\"T_7c0706ba_8de7_11ea_b007_e4e74946428crow6_col0\" class=\"data row6 col0\" >134615.460000</td>\n",
       "                        <td id=\"T_7c0706ba_8de7_11ea_b007_e4e74946428crow6_col1\" class=\"data row6 col1\" >147198.870000</td>\n",
       "                        <td id=\"T_7c0706ba_8de7_11ea_b007_e4e74946428crow6_col2\" class=\"data row6 col2\" >127716.820000</td>\n",
       "                        <td id=\"T_7c0706ba_8de7_11ea_b007_e4e74946428crow6_col3\" class=\"data row6 col3\" >California</td>\n",
       "                        <td id=\"T_7c0706ba_8de7_11ea_b007_e4e74946428crow6_col4\" class=\"data row6 col4\" >156122.510000</td>\n",
       "            </tr>\n",
       "            <tr>\n",
       "                        <th id=\"T_7c0706ba_8de7_11ea_b007_e4e74946428clevel0_row7\" class=\"row_heading level0 row7\" >7</th>\n",
       "                        <td id=\"T_7c0706ba_8de7_11ea_b007_e4e74946428crow7_col0\" class=\"data row7 col0\" >130298.130000</td>\n",
       "                        <td id=\"T_7c0706ba_8de7_11ea_b007_e4e74946428crow7_col1\" class=\"data row7 col1\" >145530.060000</td>\n",
       "                        <td id=\"T_7c0706ba_8de7_11ea_b007_e4e74946428crow7_col2\" class=\"data row7 col2\" >323876.680000</td>\n",
       "                        <td id=\"T_7c0706ba_8de7_11ea_b007_e4e74946428crow7_col3\" class=\"data row7 col3\" >Florida</td>\n",
       "                        <td id=\"T_7c0706ba_8de7_11ea_b007_e4e74946428crow7_col4\" class=\"data row7 col4\" >155752.600000</td>\n",
       "            </tr>\n",
       "            <tr>\n",
       "                        <th id=\"T_7c0706ba_8de7_11ea_b007_e4e74946428clevel0_row8\" class=\"row_heading level0 row8\" >8</th>\n",
       "                        <td id=\"T_7c0706ba_8de7_11ea_b007_e4e74946428crow8_col0\" class=\"data row8 col0\" >120542.520000</td>\n",
       "                        <td id=\"T_7c0706ba_8de7_11ea_b007_e4e74946428crow8_col1\" class=\"data row8 col1\" >148718.950000</td>\n",
       "                        <td id=\"T_7c0706ba_8de7_11ea_b007_e4e74946428crow8_col2\" class=\"data row8 col2\" >311613.290000</td>\n",
       "                        <td id=\"T_7c0706ba_8de7_11ea_b007_e4e74946428crow8_col3\" class=\"data row8 col3\" >New York</td>\n",
       "                        <td id=\"T_7c0706ba_8de7_11ea_b007_e4e74946428crow8_col4\" class=\"data row8 col4\" >152211.770000</td>\n",
       "            </tr>\n",
       "            <tr>\n",
       "                        <th id=\"T_7c0706ba_8de7_11ea_b007_e4e74946428clevel0_row9\" class=\"row_heading level0 row9\" >9</th>\n",
       "                        <td id=\"T_7c0706ba_8de7_11ea_b007_e4e74946428crow9_col0\" class=\"data row9 col0\" >123334.880000</td>\n",
       "                        <td id=\"T_7c0706ba_8de7_11ea_b007_e4e74946428crow9_col1\" class=\"data row9 col1\" >108679.170000</td>\n",
       "                        <td id=\"T_7c0706ba_8de7_11ea_b007_e4e74946428crow9_col2\" class=\"data row9 col2\" >304981.620000</td>\n",
       "                        <td id=\"T_7c0706ba_8de7_11ea_b007_e4e74946428crow9_col3\" class=\"data row9 col3\" >California</td>\n",
       "                        <td id=\"T_7c0706ba_8de7_11ea_b007_e4e74946428crow9_col4\" class=\"data row9 col4\" >149759.960000</td>\n",
       "            </tr>\n",
       "            <tr>\n",
       "                        <th id=\"T_7c0706ba_8de7_11ea_b007_e4e74946428clevel0_row10\" class=\"row_heading level0 row10\" >10</th>\n",
       "                        <td id=\"T_7c0706ba_8de7_11ea_b007_e4e74946428crow10_col0\" class=\"data row10 col0\" >101913.080000</td>\n",
       "                        <td id=\"T_7c0706ba_8de7_11ea_b007_e4e74946428crow10_col1\" class=\"data row10 col1\" >110594.110000</td>\n",
       "                        <td id=\"T_7c0706ba_8de7_11ea_b007_e4e74946428crow10_col2\" class=\"data row10 col2\" >229160.950000</td>\n",
       "                        <td id=\"T_7c0706ba_8de7_11ea_b007_e4e74946428crow10_col3\" class=\"data row10 col3\" >Florida</td>\n",
       "                        <td id=\"T_7c0706ba_8de7_11ea_b007_e4e74946428crow10_col4\" class=\"data row10 col4\" >146121.950000</td>\n",
       "            </tr>\n",
       "            <tr>\n",
       "                        <th id=\"T_7c0706ba_8de7_11ea_b007_e4e74946428clevel0_row11\" class=\"row_heading level0 row11\" >11</th>\n",
       "                        <td id=\"T_7c0706ba_8de7_11ea_b007_e4e74946428crow11_col0\" class=\"data row11 col0\" >100671.960000</td>\n",
       "                        <td id=\"T_7c0706ba_8de7_11ea_b007_e4e74946428crow11_col1\" class=\"data row11 col1\" >91790.610000</td>\n",
       "                        <td id=\"T_7c0706ba_8de7_11ea_b007_e4e74946428crow11_col2\" class=\"data row11 col2\" >249744.550000</td>\n",
       "                        <td id=\"T_7c0706ba_8de7_11ea_b007_e4e74946428crow11_col3\" class=\"data row11 col3\" >California</td>\n",
       "                        <td id=\"T_7c0706ba_8de7_11ea_b007_e4e74946428crow11_col4\" class=\"data row11 col4\" >144259.400000</td>\n",
       "            </tr>\n",
       "            <tr>\n",
       "                        <th id=\"T_7c0706ba_8de7_11ea_b007_e4e74946428clevel0_row12\" class=\"row_heading level0 row12\" >12</th>\n",
       "                        <td id=\"T_7c0706ba_8de7_11ea_b007_e4e74946428crow12_col0\" class=\"data row12 col0\" >93863.750000</td>\n",
       "                        <td id=\"T_7c0706ba_8de7_11ea_b007_e4e74946428crow12_col1\" class=\"data row12 col1\" >127320.380000</td>\n",
       "                        <td id=\"T_7c0706ba_8de7_11ea_b007_e4e74946428crow12_col2\" class=\"data row12 col2\" >249839.440000</td>\n",
       "                        <td id=\"T_7c0706ba_8de7_11ea_b007_e4e74946428crow12_col3\" class=\"data row12 col3\" >Florida</td>\n",
       "                        <td id=\"T_7c0706ba_8de7_11ea_b007_e4e74946428crow12_col4\" class=\"data row12 col4\" >141585.520000</td>\n",
       "            </tr>\n",
       "            <tr>\n",
       "                        <th id=\"T_7c0706ba_8de7_11ea_b007_e4e74946428clevel0_row13\" class=\"row_heading level0 row13\" >13</th>\n",
       "                        <td id=\"T_7c0706ba_8de7_11ea_b007_e4e74946428crow13_col0\" class=\"data row13 col0\" >91992.390000</td>\n",
       "                        <td id=\"T_7c0706ba_8de7_11ea_b007_e4e74946428crow13_col1\" class=\"data row13 col1\" >135495.070000</td>\n",
       "                        <td id=\"T_7c0706ba_8de7_11ea_b007_e4e74946428crow13_col2\" class=\"data row13 col2\" >252664.930000</td>\n",
       "                        <td id=\"T_7c0706ba_8de7_11ea_b007_e4e74946428crow13_col3\" class=\"data row13 col3\" >California</td>\n",
       "                        <td id=\"T_7c0706ba_8de7_11ea_b007_e4e74946428crow13_col4\" class=\"data row13 col4\" >134307.350000</td>\n",
       "            </tr>\n",
       "            <tr>\n",
       "                        <th id=\"T_7c0706ba_8de7_11ea_b007_e4e74946428clevel0_row14\" class=\"row_heading level0 row14\" >14</th>\n",
       "                        <td id=\"T_7c0706ba_8de7_11ea_b007_e4e74946428crow14_col0\" class=\"data row14 col0\" >119943.240000</td>\n",
       "                        <td id=\"T_7c0706ba_8de7_11ea_b007_e4e74946428crow14_col1\" class=\"data row14 col1\" >156547.420000</td>\n",
       "                        <td id=\"T_7c0706ba_8de7_11ea_b007_e4e74946428crow14_col2\" class=\"data row14 col2\" >256512.920000</td>\n",
       "                        <td id=\"T_7c0706ba_8de7_11ea_b007_e4e74946428crow14_col3\" class=\"data row14 col3\" >Florida</td>\n",
       "                        <td id=\"T_7c0706ba_8de7_11ea_b007_e4e74946428crow14_col4\" class=\"data row14 col4\" >132602.650000</td>\n",
       "            </tr>\n",
       "            <tr>\n",
       "                        <th id=\"T_7c0706ba_8de7_11ea_b007_e4e74946428clevel0_row15\" class=\"row_heading level0 row15\" >15</th>\n",
       "                        <td id=\"T_7c0706ba_8de7_11ea_b007_e4e74946428crow15_col0\" class=\"data row15 col0\" >114523.610000</td>\n",
       "                        <td id=\"T_7c0706ba_8de7_11ea_b007_e4e74946428crow15_col1\" class=\"data row15 col1\" >122616.840000</td>\n",
       "                        <td id=\"T_7c0706ba_8de7_11ea_b007_e4e74946428crow15_col2\" class=\"data row15 col2\" >261776.230000</td>\n",
       "                        <td id=\"T_7c0706ba_8de7_11ea_b007_e4e74946428crow15_col3\" class=\"data row15 col3\" >New York</td>\n",
       "                        <td id=\"T_7c0706ba_8de7_11ea_b007_e4e74946428crow15_col4\" class=\"data row15 col4\" >129917.040000</td>\n",
       "            </tr>\n",
       "            <tr>\n",
       "                        <th id=\"T_7c0706ba_8de7_11ea_b007_e4e74946428clevel0_row16\" class=\"row_heading level0 row16\" >16</th>\n",
       "                        <td id=\"T_7c0706ba_8de7_11ea_b007_e4e74946428crow16_col0\" class=\"data row16 col0\" >78013.110000</td>\n",
       "                        <td id=\"T_7c0706ba_8de7_11ea_b007_e4e74946428crow16_col1\" class=\"data row16 col1\" >121597.550000</td>\n",
       "                        <td id=\"T_7c0706ba_8de7_11ea_b007_e4e74946428crow16_col2\" class=\"data row16 col2\" >264346.060000</td>\n",
       "                        <td id=\"T_7c0706ba_8de7_11ea_b007_e4e74946428crow16_col3\" class=\"data row16 col3\" >California</td>\n",
       "                        <td id=\"T_7c0706ba_8de7_11ea_b007_e4e74946428crow16_col4\" class=\"data row16 col4\" >126992.930000</td>\n",
       "            </tr>\n",
       "            <tr>\n",
       "                        <th id=\"T_7c0706ba_8de7_11ea_b007_e4e74946428clevel0_row17\" class=\"row_heading level0 row17\" >17</th>\n",
       "                        <td id=\"T_7c0706ba_8de7_11ea_b007_e4e74946428crow17_col0\" class=\"data row17 col0\" >94657.160000</td>\n",
       "                        <td id=\"T_7c0706ba_8de7_11ea_b007_e4e74946428crow17_col1\" class=\"data row17 col1\" >145077.580000</td>\n",
       "                        <td id=\"T_7c0706ba_8de7_11ea_b007_e4e74946428crow17_col2\" class=\"data row17 col2\" >282574.310000</td>\n",
       "                        <td id=\"T_7c0706ba_8de7_11ea_b007_e4e74946428crow17_col3\" class=\"data row17 col3\" >New York</td>\n",
       "                        <td id=\"T_7c0706ba_8de7_11ea_b007_e4e74946428crow17_col4\" class=\"data row17 col4\" >125370.370000</td>\n",
       "            </tr>\n",
       "            <tr>\n",
       "                        <th id=\"T_7c0706ba_8de7_11ea_b007_e4e74946428clevel0_row18\" class=\"row_heading level0 row18\" >18</th>\n",
       "                        <td id=\"T_7c0706ba_8de7_11ea_b007_e4e74946428crow18_col0\" class=\"data row18 col0\" >91749.160000</td>\n",
       "                        <td id=\"T_7c0706ba_8de7_11ea_b007_e4e74946428crow18_col1\" class=\"data row18 col1\" >114175.790000</td>\n",
       "                        <td id=\"T_7c0706ba_8de7_11ea_b007_e4e74946428crow18_col2\" class=\"data row18 col2\" >294919.570000</td>\n",
       "                        <td id=\"T_7c0706ba_8de7_11ea_b007_e4e74946428crow18_col3\" class=\"data row18 col3\" >Florida</td>\n",
       "                        <td id=\"T_7c0706ba_8de7_11ea_b007_e4e74946428crow18_col4\" class=\"data row18 col4\" >124266.900000</td>\n",
       "            </tr>\n",
       "            <tr>\n",
       "                        <th id=\"T_7c0706ba_8de7_11ea_b007_e4e74946428clevel0_row19\" class=\"row_heading level0 row19\" >19</th>\n",
       "                        <td id=\"T_7c0706ba_8de7_11ea_b007_e4e74946428crow19_col0\" class=\"data row19 col0\" >86419.700000</td>\n",
       "                        <td id=\"T_7c0706ba_8de7_11ea_b007_e4e74946428crow19_col1\" class=\"data row19 col1\" >153514.110000</td>\n",
       "                        <td id=\"T_7c0706ba_8de7_11ea_b007_e4e74946428crow19_col2\" class=\"data row19 col2\" >0.000000</td>\n",
       "                        <td id=\"T_7c0706ba_8de7_11ea_b007_e4e74946428crow19_col3\" class=\"data row19 col3\" >New York</td>\n",
       "                        <td id=\"T_7c0706ba_8de7_11ea_b007_e4e74946428crow19_col4\" class=\"data row19 col4\" >122776.860000</td>\n",
       "            </tr>\n",
       "            <tr>\n",
       "                        <th id=\"T_7c0706ba_8de7_11ea_b007_e4e74946428clevel0_row20\" class=\"row_heading level0 row20\" >20</th>\n",
       "                        <td id=\"T_7c0706ba_8de7_11ea_b007_e4e74946428crow20_col0\" class=\"data row20 col0\" >76253.860000</td>\n",
       "                        <td id=\"T_7c0706ba_8de7_11ea_b007_e4e74946428crow20_col1\" class=\"data row20 col1\" >113867.300000</td>\n",
       "                        <td id=\"T_7c0706ba_8de7_11ea_b007_e4e74946428crow20_col2\" class=\"data row20 col2\" >298664.470000</td>\n",
       "                        <td id=\"T_7c0706ba_8de7_11ea_b007_e4e74946428crow20_col3\" class=\"data row20 col3\" >California</td>\n",
       "                        <td id=\"T_7c0706ba_8de7_11ea_b007_e4e74946428crow20_col4\" class=\"data row20 col4\" >118474.030000</td>\n",
       "            </tr>\n",
       "            <tr>\n",
       "                        <th id=\"T_7c0706ba_8de7_11ea_b007_e4e74946428clevel0_row21\" class=\"row_heading level0 row21\" >21</th>\n",
       "                        <td id=\"T_7c0706ba_8de7_11ea_b007_e4e74946428crow21_col0\" class=\"data row21 col0\" >78389.470000</td>\n",
       "                        <td id=\"T_7c0706ba_8de7_11ea_b007_e4e74946428crow21_col1\" class=\"data row21 col1\" >153773.430000</td>\n",
       "                        <td id=\"T_7c0706ba_8de7_11ea_b007_e4e74946428crow21_col2\" class=\"data row21 col2\" >299737.290000</td>\n",
       "                        <td id=\"T_7c0706ba_8de7_11ea_b007_e4e74946428crow21_col3\" class=\"data row21 col3\" >New York</td>\n",
       "                        <td id=\"T_7c0706ba_8de7_11ea_b007_e4e74946428crow21_col4\" class=\"data row21 col4\" >111313.020000</td>\n",
       "            </tr>\n",
       "            <tr>\n",
       "                        <th id=\"T_7c0706ba_8de7_11ea_b007_e4e74946428clevel0_row22\" class=\"row_heading level0 row22\" >22</th>\n",
       "                        <td id=\"T_7c0706ba_8de7_11ea_b007_e4e74946428crow22_col0\" class=\"data row22 col0\" >73994.560000</td>\n",
       "                        <td id=\"T_7c0706ba_8de7_11ea_b007_e4e74946428crow22_col1\" class=\"data row22 col1\" >122782.750000</td>\n",
       "                        <td id=\"T_7c0706ba_8de7_11ea_b007_e4e74946428crow22_col2\" class=\"data row22 col2\" >303319.260000</td>\n",
       "                        <td id=\"T_7c0706ba_8de7_11ea_b007_e4e74946428crow22_col3\" class=\"data row22 col3\" >Florida</td>\n",
       "                        <td id=\"T_7c0706ba_8de7_11ea_b007_e4e74946428crow22_col4\" class=\"data row22 col4\" >110352.250000</td>\n",
       "            </tr>\n",
       "            <tr>\n",
       "                        <th id=\"T_7c0706ba_8de7_11ea_b007_e4e74946428clevel0_row23\" class=\"row_heading level0 row23\" >23</th>\n",
       "                        <td id=\"T_7c0706ba_8de7_11ea_b007_e4e74946428crow23_col0\" class=\"data row23 col0\" >67532.530000</td>\n",
       "                        <td id=\"T_7c0706ba_8de7_11ea_b007_e4e74946428crow23_col1\" class=\"data row23 col1\" >105751.030000</td>\n",
       "                        <td id=\"T_7c0706ba_8de7_11ea_b007_e4e74946428crow23_col2\" class=\"data row23 col2\" >304768.730000</td>\n",
       "                        <td id=\"T_7c0706ba_8de7_11ea_b007_e4e74946428crow23_col3\" class=\"data row23 col3\" >Florida</td>\n",
       "                        <td id=\"T_7c0706ba_8de7_11ea_b007_e4e74946428crow23_col4\" class=\"data row23 col4\" >108733.990000</td>\n",
       "            </tr>\n",
       "            <tr>\n",
       "                        <th id=\"T_7c0706ba_8de7_11ea_b007_e4e74946428clevel0_row24\" class=\"row_heading level0 row24\" >24</th>\n",
       "                        <td id=\"T_7c0706ba_8de7_11ea_b007_e4e74946428crow24_col0\" class=\"data row24 col0\" >77044.010000</td>\n",
       "                        <td id=\"T_7c0706ba_8de7_11ea_b007_e4e74946428crow24_col1\" class=\"data row24 col1\" >99281.340000</td>\n",
       "                        <td id=\"T_7c0706ba_8de7_11ea_b007_e4e74946428crow24_col2\" class=\"data row24 col2\" >140574.810000</td>\n",
       "                        <td id=\"T_7c0706ba_8de7_11ea_b007_e4e74946428crow24_col3\" class=\"data row24 col3\" >New York</td>\n",
       "                        <td id=\"T_7c0706ba_8de7_11ea_b007_e4e74946428crow24_col4\" class=\"data row24 col4\" >108552.040000</td>\n",
       "            </tr>\n",
       "            <tr>\n",
       "                        <th id=\"T_7c0706ba_8de7_11ea_b007_e4e74946428clevel0_row25\" class=\"row_heading level0 row25\" >25</th>\n",
       "                        <td id=\"T_7c0706ba_8de7_11ea_b007_e4e74946428crow25_col0\" class=\"data row25 col0\" >64664.710000</td>\n",
       "                        <td id=\"T_7c0706ba_8de7_11ea_b007_e4e74946428crow25_col1\" class=\"data row25 col1\" >139553.160000</td>\n",
       "                        <td id=\"T_7c0706ba_8de7_11ea_b007_e4e74946428crow25_col2\" class=\"data row25 col2\" >137962.620000</td>\n",
       "                        <td id=\"T_7c0706ba_8de7_11ea_b007_e4e74946428crow25_col3\" class=\"data row25 col3\" >California</td>\n",
       "                        <td id=\"T_7c0706ba_8de7_11ea_b007_e4e74946428crow25_col4\" class=\"data row25 col4\" >107404.340000</td>\n",
       "            </tr>\n",
       "            <tr>\n",
       "                        <th id=\"T_7c0706ba_8de7_11ea_b007_e4e74946428clevel0_row26\" class=\"row_heading level0 row26\" >26</th>\n",
       "                        <td id=\"T_7c0706ba_8de7_11ea_b007_e4e74946428crow26_col0\" class=\"data row26 col0\" >75328.870000</td>\n",
       "                        <td id=\"T_7c0706ba_8de7_11ea_b007_e4e74946428crow26_col1\" class=\"data row26 col1\" >144135.980000</td>\n",
       "                        <td id=\"T_7c0706ba_8de7_11ea_b007_e4e74946428crow26_col2\" class=\"data row26 col2\" >134050.070000</td>\n",
       "                        <td id=\"T_7c0706ba_8de7_11ea_b007_e4e74946428crow26_col3\" class=\"data row26 col3\" >Florida</td>\n",
       "                        <td id=\"T_7c0706ba_8de7_11ea_b007_e4e74946428crow26_col4\" class=\"data row26 col4\" >105733.540000</td>\n",
       "            </tr>\n",
       "            <tr>\n",
       "                        <th id=\"T_7c0706ba_8de7_11ea_b007_e4e74946428clevel0_row27\" class=\"row_heading level0 row27\" >27</th>\n",
       "                        <td id=\"T_7c0706ba_8de7_11ea_b007_e4e74946428crow27_col0\" class=\"data row27 col0\" >72107.600000</td>\n",
       "                        <td id=\"T_7c0706ba_8de7_11ea_b007_e4e74946428crow27_col1\" class=\"data row27 col1\" >127864.550000</td>\n",
       "                        <td id=\"T_7c0706ba_8de7_11ea_b007_e4e74946428crow27_col2\" class=\"data row27 col2\" >353183.810000</td>\n",
       "                        <td id=\"T_7c0706ba_8de7_11ea_b007_e4e74946428crow27_col3\" class=\"data row27 col3\" >New York</td>\n",
       "                        <td id=\"T_7c0706ba_8de7_11ea_b007_e4e74946428crow27_col4\" class=\"data row27 col4\" >105008.310000</td>\n",
       "            </tr>\n",
       "            <tr>\n",
       "                        <th id=\"T_7c0706ba_8de7_11ea_b007_e4e74946428clevel0_row28\" class=\"row_heading level0 row28\" >28</th>\n",
       "                        <td id=\"T_7c0706ba_8de7_11ea_b007_e4e74946428crow28_col0\" class=\"data row28 col0\" >66051.520000</td>\n",
       "                        <td id=\"T_7c0706ba_8de7_11ea_b007_e4e74946428crow28_col1\" class=\"data row28 col1\" >182645.560000</td>\n",
       "                        <td id=\"T_7c0706ba_8de7_11ea_b007_e4e74946428crow28_col2\" class=\"data row28 col2\" >118148.200000</td>\n",
       "                        <td id=\"T_7c0706ba_8de7_11ea_b007_e4e74946428crow28_col3\" class=\"data row28 col3\" >Florida</td>\n",
       "                        <td id=\"T_7c0706ba_8de7_11ea_b007_e4e74946428crow28_col4\" class=\"data row28 col4\" >103282.380000</td>\n",
       "            </tr>\n",
       "            <tr>\n",
       "                        <th id=\"T_7c0706ba_8de7_11ea_b007_e4e74946428clevel0_row29\" class=\"row_heading level0 row29\" >29</th>\n",
       "                        <td id=\"T_7c0706ba_8de7_11ea_b007_e4e74946428crow29_col0\" class=\"data row29 col0\" >65605.480000</td>\n",
       "                        <td id=\"T_7c0706ba_8de7_11ea_b007_e4e74946428crow29_col1\" class=\"data row29 col1\" >153032.060000</td>\n",
       "                        <td id=\"T_7c0706ba_8de7_11ea_b007_e4e74946428crow29_col2\" class=\"data row29 col2\" >107138.380000</td>\n",
       "                        <td id=\"T_7c0706ba_8de7_11ea_b007_e4e74946428crow29_col3\" class=\"data row29 col3\" >New York</td>\n",
       "                        <td id=\"T_7c0706ba_8de7_11ea_b007_e4e74946428crow29_col4\" class=\"data row29 col4\" >101004.640000</td>\n",
       "            </tr>\n",
       "            <tr>\n",
       "                        <th id=\"T_7c0706ba_8de7_11ea_b007_e4e74946428clevel0_row30\" class=\"row_heading level0 row30\" >30</th>\n",
       "                        <td id=\"T_7c0706ba_8de7_11ea_b007_e4e74946428crow30_col0\" class=\"data row30 col0\" >61994.480000</td>\n",
       "                        <td id=\"T_7c0706ba_8de7_11ea_b007_e4e74946428crow30_col1\" class=\"data row30 col1\" >115641.280000</td>\n",
       "                        <td id=\"T_7c0706ba_8de7_11ea_b007_e4e74946428crow30_col2\" class=\"data row30 col2\" >91131.240000</td>\n",
       "                        <td id=\"T_7c0706ba_8de7_11ea_b007_e4e74946428crow30_col3\" class=\"data row30 col3\" >Florida</td>\n",
       "                        <td id=\"T_7c0706ba_8de7_11ea_b007_e4e74946428crow30_col4\" class=\"data row30 col4\" >99937.590000</td>\n",
       "            </tr>\n",
       "            <tr>\n",
       "                        <th id=\"T_7c0706ba_8de7_11ea_b007_e4e74946428clevel0_row31\" class=\"row_heading level0 row31\" >31</th>\n",
       "                        <td id=\"T_7c0706ba_8de7_11ea_b007_e4e74946428crow31_col0\" class=\"data row31 col0\" >61136.380000</td>\n",
       "                        <td id=\"T_7c0706ba_8de7_11ea_b007_e4e74946428crow31_col1\" class=\"data row31 col1\" >152701.920000</td>\n",
       "                        <td id=\"T_7c0706ba_8de7_11ea_b007_e4e74946428crow31_col2\" class=\"data row31 col2\" >88218.230000</td>\n",
       "                        <td id=\"T_7c0706ba_8de7_11ea_b007_e4e74946428crow31_col3\" class=\"data row31 col3\" >New York</td>\n",
       "                        <td id=\"T_7c0706ba_8de7_11ea_b007_e4e74946428crow31_col4\" class=\"data row31 col4\" >97483.560000</td>\n",
       "            </tr>\n",
       "            <tr>\n",
       "                        <th id=\"T_7c0706ba_8de7_11ea_b007_e4e74946428clevel0_row32\" class=\"row_heading level0 row32\" >32</th>\n",
       "                        <td id=\"T_7c0706ba_8de7_11ea_b007_e4e74946428crow32_col0\" class=\"data row32 col0\" >63408.860000</td>\n",
       "                        <td id=\"T_7c0706ba_8de7_11ea_b007_e4e74946428crow32_col1\" class=\"data row32 col1\" >129219.610000</td>\n",
       "                        <td id=\"T_7c0706ba_8de7_11ea_b007_e4e74946428crow32_col2\" class=\"data row32 col2\" >46085.250000</td>\n",
       "                        <td id=\"T_7c0706ba_8de7_11ea_b007_e4e74946428crow32_col3\" class=\"data row32 col3\" >California</td>\n",
       "                        <td id=\"T_7c0706ba_8de7_11ea_b007_e4e74946428crow32_col4\" class=\"data row32 col4\" >97427.840000</td>\n",
       "            </tr>\n",
       "            <tr>\n",
       "                        <th id=\"T_7c0706ba_8de7_11ea_b007_e4e74946428clevel0_row33\" class=\"row_heading level0 row33\" >33</th>\n",
       "                        <td id=\"T_7c0706ba_8de7_11ea_b007_e4e74946428crow33_col0\" class=\"data row33 col0\" >55493.950000</td>\n",
       "                        <td id=\"T_7c0706ba_8de7_11ea_b007_e4e74946428crow33_col1\" class=\"data row33 col1\" >103057.490000</td>\n",
       "                        <td id=\"T_7c0706ba_8de7_11ea_b007_e4e74946428crow33_col2\" class=\"data row33 col2\" >214634.810000</td>\n",
       "                        <td id=\"T_7c0706ba_8de7_11ea_b007_e4e74946428crow33_col3\" class=\"data row33 col3\" >Florida</td>\n",
       "                        <td id=\"T_7c0706ba_8de7_11ea_b007_e4e74946428crow33_col4\" class=\"data row33 col4\" >96778.920000</td>\n",
       "            </tr>\n",
       "            <tr>\n",
       "                        <th id=\"T_7c0706ba_8de7_11ea_b007_e4e74946428clevel0_row34\" class=\"row_heading level0 row34\" >34</th>\n",
       "                        <td id=\"T_7c0706ba_8de7_11ea_b007_e4e74946428crow34_col0\" class=\"data row34 col0\" >46426.070000</td>\n",
       "                        <td id=\"T_7c0706ba_8de7_11ea_b007_e4e74946428crow34_col1\" class=\"data row34 col1\" >157693.920000</td>\n",
       "                        <td id=\"T_7c0706ba_8de7_11ea_b007_e4e74946428crow34_col2\" class=\"data row34 col2\" >210797.670000</td>\n",
       "                        <td id=\"T_7c0706ba_8de7_11ea_b007_e4e74946428crow34_col3\" class=\"data row34 col3\" >California</td>\n",
       "                        <td id=\"T_7c0706ba_8de7_11ea_b007_e4e74946428crow34_col4\" class=\"data row34 col4\" >96712.800000</td>\n",
       "            </tr>\n",
       "            <tr>\n",
       "                        <th id=\"T_7c0706ba_8de7_11ea_b007_e4e74946428clevel0_row35\" class=\"row_heading level0 row35\" >35</th>\n",
       "                        <td id=\"T_7c0706ba_8de7_11ea_b007_e4e74946428crow35_col0\" class=\"data row35 col0\" >46014.020000</td>\n",
       "                        <td id=\"T_7c0706ba_8de7_11ea_b007_e4e74946428crow35_col1\" class=\"data row35 col1\" >85047.440000</td>\n",
       "                        <td id=\"T_7c0706ba_8de7_11ea_b007_e4e74946428crow35_col2\" class=\"data row35 col2\" >205517.640000</td>\n",
       "                        <td id=\"T_7c0706ba_8de7_11ea_b007_e4e74946428crow35_col3\" class=\"data row35 col3\" >New York</td>\n",
       "                        <td id=\"T_7c0706ba_8de7_11ea_b007_e4e74946428crow35_col4\" class=\"data row35 col4\" >96479.510000</td>\n",
       "            </tr>\n",
       "            <tr>\n",
       "                        <th id=\"T_7c0706ba_8de7_11ea_b007_e4e74946428clevel0_row36\" class=\"row_heading level0 row36\" >36</th>\n",
       "                        <td id=\"T_7c0706ba_8de7_11ea_b007_e4e74946428crow36_col0\" class=\"data row36 col0\" >28663.760000</td>\n",
       "                        <td id=\"T_7c0706ba_8de7_11ea_b007_e4e74946428crow36_col1\" class=\"data row36 col1\" >127056.210000</td>\n",
       "                        <td id=\"T_7c0706ba_8de7_11ea_b007_e4e74946428crow36_col2\" class=\"data row36 col2\" >201126.820000</td>\n",
       "                        <td id=\"T_7c0706ba_8de7_11ea_b007_e4e74946428crow36_col3\" class=\"data row36 col3\" >Florida</td>\n",
       "                        <td id=\"T_7c0706ba_8de7_11ea_b007_e4e74946428crow36_col4\" class=\"data row36 col4\" >90708.190000</td>\n",
       "            </tr>\n",
       "            <tr>\n",
       "                        <th id=\"T_7c0706ba_8de7_11ea_b007_e4e74946428clevel0_row37\" class=\"row_heading level0 row37\" >37</th>\n",
       "                        <td id=\"T_7c0706ba_8de7_11ea_b007_e4e74946428crow37_col0\" class=\"data row37 col0\" >44069.950000</td>\n",
       "                        <td id=\"T_7c0706ba_8de7_11ea_b007_e4e74946428crow37_col1\" class=\"data row37 col1\" >51283.140000</td>\n",
       "                        <td id=\"T_7c0706ba_8de7_11ea_b007_e4e74946428crow37_col2\" class=\"data row37 col2\" >197029.420000</td>\n",
       "                        <td id=\"T_7c0706ba_8de7_11ea_b007_e4e74946428crow37_col3\" class=\"data row37 col3\" >California</td>\n",
       "                        <td id=\"T_7c0706ba_8de7_11ea_b007_e4e74946428crow37_col4\" class=\"data row37 col4\" >89949.140000</td>\n",
       "            </tr>\n",
       "            <tr>\n",
       "                        <th id=\"T_7c0706ba_8de7_11ea_b007_e4e74946428clevel0_row38\" class=\"row_heading level0 row38\" >38</th>\n",
       "                        <td id=\"T_7c0706ba_8de7_11ea_b007_e4e74946428crow38_col0\" class=\"data row38 col0\" >20229.590000</td>\n",
       "                        <td id=\"T_7c0706ba_8de7_11ea_b007_e4e74946428crow38_col1\" class=\"data row38 col1\" >65947.930000</td>\n",
       "                        <td id=\"T_7c0706ba_8de7_11ea_b007_e4e74946428crow38_col2\" class=\"data row38 col2\" >185265.100000</td>\n",
       "                        <td id=\"T_7c0706ba_8de7_11ea_b007_e4e74946428crow38_col3\" class=\"data row38 col3\" >New York</td>\n",
       "                        <td id=\"T_7c0706ba_8de7_11ea_b007_e4e74946428crow38_col4\" class=\"data row38 col4\" >81229.060000</td>\n",
       "            </tr>\n",
       "            <tr>\n",
       "                        <th id=\"T_7c0706ba_8de7_11ea_b007_e4e74946428clevel0_row39\" class=\"row_heading level0 row39\" >39</th>\n",
       "                        <td id=\"T_7c0706ba_8de7_11ea_b007_e4e74946428crow39_col0\" class=\"data row39 col0\" >38558.510000</td>\n",
       "                        <td id=\"T_7c0706ba_8de7_11ea_b007_e4e74946428crow39_col1\" class=\"data row39 col1\" >82982.090000</td>\n",
       "                        <td id=\"T_7c0706ba_8de7_11ea_b007_e4e74946428crow39_col2\" class=\"data row39 col2\" >174999.300000</td>\n",
       "                        <td id=\"T_7c0706ba_8de7_11ea_b007_e4e74946428crow39_col3\" class=\"data row39 col3\" >California</td>\n",
       "                        <td id=\"T_7c0706ba_8de7_11ea_b007_e4e74946428crow39_col4\" class=\"data row39 col4\" >81005.760000</td>\n",
       "            </tr>\n",
       "            <tr>\n",
       "                        <th id=\"T_7c0706ba_8de7_11ea_b007_e4e74946428clevel0_row40\" class=\"row_heading level0 row40\" >40</th>\n",
       "                        <td id=\"T_7c0706ba_8de7_11ea_b007_e4e74946428crow40_col0\" class=\"data row40 col0\" >28754.330000</td>\n",
       "                        <td id=\"T_7c0706ba_8de7_11ea_b007_e4e74946428crow40_col1\" class=\"data row40 col1\" >118546.050000</td>\n",
       "                        <td id=\"T_7c0706ba_8de7_11ea_b007_e4e74946428crow40_col2\" class=\"data row40 col2\" >172795.670000</td>\n",
       "                        <td id=\"T_7c0706ba_8de7_11ea_b007_e4e74946428crow40_col3\" class=\"data row40 col3\" >California</td>\n",
       "                        <td id=\"T_7c0706ba_8de7_11ea_b007_e4e74946428crow40_col4\" class=\"data row40 col4\" >78239.910000</td>\n",
       "            </tr>\n",
       "            <tr>\n",
       "                        <th id=\"T_7c0706ba_8de7_11ea_b007_e4e74946428clevel0_row41\" class=\"row_heading level0 row41\" >41</th>\n",
       "                        <td id=\"T_7c0706ba_8de7_11ea_b007_e4e74946428crow41_col0\" class=\"data row41 col0\" >27892.920000</td>\n",
       "                        <td id=\"T_7c0706ba_8de7_11ea_b007_e4e74946428crow41_col1\" class=\"data row41 col1\" >84710.770000</td>\n",
       "                        <td id=\"T_7c0706ba_8de7_11ea_b007_e4e74946428crow41_col2\" class=\"data row41 col2\" >164470.710000</td>\n",
       "                        <td id=\"T_7c0706ba_8de7_11ea_b007_e4e74946428crow41_col3\" class=\"data row41 col3\" >Florida</td>\n",
       "                        <td id=\"T_7c0706ba_8de7_11ea_b007_e4e74946428crow41_col4\" class=\"data row41 col4\" >77798.830000</td>\n",
       "            </tr>\n",
       "            <tr>\n",
       "                        <th id=\"T_7c0706ba_8de7_11ea_b007_e4e74946428clevel0_row42\" class=\"row_heading level0 row42\" >42</th>\n",
       "                        <td id=\"T_7c0706ba_8de7_11ea_b007_e4e74946428crow42_col0\" class=\"data row42 col0\" >23640.930000</td>\n",
       "                        <td id=\"T_7c0706ba_8de7_11ea_b007_e4e74946428crow42_col1\" class=\"data row42 col1\" >96189.630000</td>\n",
       "                        <td id=\"T_7c0706ba_8de7_11ea_b007_e4e74946428crow42_col2\" class=\"data row42 col2\" >148001.110000</td>\n",
       "                        <td id=\"T_7c0706ba_8de7_11ea_b007_e4e74946428crow42_col3\" class=\"data row42 col3\" >California</td>\n",
       "                        <td id=\"T_7c0706ba_8de7_11ea_b007_e4e74946428crow42_col4\" class=\"data row42 col4\" >71498.490000</td>\n",
       "            </tr>\n",
       "            <tr>\n",
       "                        <th id=\"T_7c0706ba_8de7_11ea_b007_e4e74946428clevel0_row43\" class=\"row_heading level0 row43\" >43</th>\n",
       "                        <td id=\"T_7c0706ba_8de7_11ea_b007_e4e74946428crow43_col0\" class=\"data row43 col0\" >15505.730000</td>\n",
       "                        <td id=\"T_7c0706ba_8de7_11ea_b007_e4e74946428crow43_col1\" class=\"data row43 col1\" >127382.300000</td>\n",
       "                        <td id=\"T_7c0706ba_8de7_11ea_b007_e4e74946428crow43_col2\" class=\"data row43 col2\" >35534.170000</td>\n",
       "                        <td id=\"T_7c0706ba_8de7_11ea_b007_e4e74946428crow43_col3\" class=\"data row43 col3\" >New York</td>\n",
       "                        <td id=\"T_7c0706ba_8de7_11ea_b007_e4e74946428crow43_col4\" class=\"data row43 col4\" >69758.980000</td>\n",
       "            </tr>\n",
       "            <tr>\n",
       "                        <th id=\"T_7c0706ba_8de7_11ea_b007_e4e74946428clevel0_row44\" class=\"row_heading level0 row44\" >44</th>\n",
       "                        <td id=\"T_7c0706ba_8de7_11ea_b007_e4e74946428crow44_col0\" class=\"data row44 col0\" >22177.740000</td>\n",
       "                        <td id=\"T_7c0706ba_8de7_11ea_b007_e4e74946428crow44_col1\" class=\"data row44 col1\" >154806.140000</td>\n",
       "                        <td id=\"T_7c0706ba_8de7_11ea_b007_e4e74946428crow44_col2\" class=\"data row44 col2\" >28334.720000</td>\n",
       "                        <td id=\"T_7c0706ba_8de7_11ea_b007_e4e74946428crow44_col3\" class=\"data row44 col3\" >California</td>\n",
       "                        <td id=\"T_7c0706ba_8de7_11ea_b007_e4e74946428crow44_col4\" class=\"data row44 col4\" >65200.330000</td>\n",
       "            </tr>\n",
       "            <tr>\n",
       "                        <th id=\"T_7c0706ba_8de7_11ea_b007_e4e74946428clevel0_row45\" class=\"row_heading level0 row45\" >45</th>\n",
       "                        <td id=\"T_7c0706ba_8de7_11ea_b007_e4e74946428crow45_col0\" class=\"data row45 col0\" >1000.230000</td>\n",
       "                        <td id=\"T_7c0706ba_8de7_11ea_b007_e4e74946428crow45_col1\" class=\"data row45 col1\" >124153.040000</td>\n",
       "                        <td id=\"T_7c0706ba_8de7_11ea_b007_e4e74946428crow45_col2\" class=\"data row45 col2\" >1903.930000</td>\n",
       "                        <td id=\"T_7c0706ba_8de7_11ea_b007_e4e74946428crow45_col3\" class=\"data row45 col3\" >New York</td>\n",
       "                        <td id=\"T_7c0706ba_8de7_11ea_b007_e4e74946428crow45_col4\" class=\"data row45 col4\" >64926.080000</td>\n",
       "            </tr>\n",
       "            <tr>\n",
       "                        <th id=\"T_7c0706ba_8de7_11ea_b007_e4e74946428clevel0_row46\" class=\"row_heading level0 row46\" >46</th>\n",
       "                        <td id=\"T_7c0706ba_8de7_11ea_b007_e4e74946428crow46_col0\" class=\"data row46 col0\" >1315.460000</td>\n",
       "                        <td id=\"T_7c0706ba_8de7_11ea_b007_e4e74946428crow46_col1\" class=\"data row46 col1\" >115816.210000</td>\n",
       "                        <td id=\"T_7c0706ba_8de7_11ea_b007_e4e74946428crow46_col2\" class=\"data row46 col2\" >297114.460000</td>\n",
       "                        <td id=\"T_7c0706ba_8de7_11ea_b007_e4e74946428crow46_col3\" class=\"data row46 col3\" >Florida</td>\n",
       "                        <td id=\"T_7c0706ba_8de7_11ea_b007_e4e74946428crow46_col4\" class=\"data row46 col4\" >49490.750000</td>\n",
       "            </tr>\n",
       "            <tr>\n",
       "                        <th id=\"T_7c0706ba_8de7_11ea_b007_e4e74946428clevel0_row47\" class=\"row_heading level0 row47\" >47</th>\n",
       "                        <td id=\"T_7c0706ba_8de7_11ea_b007_e4e74946428crow47_col0\" class=\"data row47 col0\" >0.000000</td>\n",
       "                        <td id=\"T_7c0706ba_8de7_11ea_b007_e4e74946428crow47_col1\" class=\"data row47 col1\" >135426.920000</td>\n",
       "                        <td id=\"T_7c0706ba_8de7_11ea_b007_e4e74946428crow47_col2\" class=\"data row47 col2\" >0.000000</td>\n",
       "                        <td id=\"T_7c0706ba_8de7_11ea_b007_e4e74946428crow47_col3\" class=\"data row47 col3\" >California</td>\n",
       "                        <td id=\"T_7c0706ba_8de7_11ea_b007_e4e74946428crow47_col4\" class=\"data row47 col4\" >42559.730000</td>\n",
       "            </tr>\n",
       "            <tr>\n",
       "                        <th id=\"T_7c0706ba_8de7_11ea_b007_e4e74946428clevel0_row48\" class=\"row_heading level0 row48\" >48</th>\n",
       "                        <td id=\"T_7c0706ba_8de7_11ea_b007_e4e74946428crow48_col0\" class=\"data row48 col0\" >542.050000</td>\n",
       "                        <td id=\"T_7c0706ba_8de7_11ea_b007_e4e74946428crow48_col1\" class=\"data row48 col1\" >51743.150000</td>\n",
       "                        <td id=\"T_7c0706ba_8de7_11ea_b007_e4e74946428crow48_col2\" class=\"data row48 col2\" >0.000000</td>\n",
       "                        <td id=\"T_7c0706ba_8de7_11ea_b007_e4e74946428crow48_col3\" class=\"data row48 col3\" >New York</td>\n",
       "                        <td id=\"T_7c0706ba_8de7_11ea_b007_e4e74946428crow48_col4\" class=\"data row48 col4\" >35673.410000</td>\n",
       "            </tr>\n",
       "            <tr>\n",
       "                        <th id=\"T_7c0706ba_8de7_11ea_b007_e4e74946428clevel0_row49\" class=\"row_heading level0 row49\" >49</th>\n",
       "                        <td id=\"T_7c0706ba_8de7_11ea_b007_e4e74946428crow49_col0\" class=\"data row49 col0\" >0.000000</td>\n",
       "                        <td id=\"T_7c0706ba_8de7_11ea_b007_e4e74946428crow49_col1\" class=\"data row49 col1\" >116983.800000</td>\n",
       "                        <td id=\"T_7c0706ba_8de7_11ea_b007_e4e74946428crow49_col2\" class=\"data row49 col2\" >45173.060000</td>\n",
       "                        <td id=\"T_7c0706ba_8de7_11ea_b007_e4e74946428crow49_col3\" class=\"data row49 col3\" >California</td>\n",
       "                        <td id=\"T_7c0706ba_8de7_11ea_b007_e4e74946428crow49_col4\" class=\"data row49 col4\" >14681.400000</td>\n",
       "            </tr>\n",
       "    </tbody></table>"
      ],
      "text/plain": [
       "<pandas.io.formats.style.Styler at 0x2cbf530fc88>"
      ]
     },
     "execution_count": 34,
     "metadata": {},
     "output_type": "execute_result"
    }
   ],
   "source": [
    "df.style.background_gradient()"
   ]
  },
  {
   "cell_type": "code",
   "execution_count": 56,
   "metadata": {},
   "outputs": [],
   "source": [
    "X=df.iloc[:,:-1]\n",
    "y=df.iloc[:,-1]"
   ]
  },
  {
   "cell_type": "code",
   "execution_count": 57,
   "metadata": {},
   "outputs": [
    {
     "data": {
      "text/html": [
       "<div>\n",
       "<style scoped>\n",
       "    .dataframe tbody tr th:only-of-type {\n",
       "        vertical-align: middle;\n",
       "    }\n",
       "\n",
       "    .dataframe tbody tr th {\n",
       "        vertical-align: top;\n",
       "    }\n",
       "\n",
       "    .dataframe thead th {\n",
       "        text-align: right;\n",
       "    }\n",
       "</style>\n",
       "<table border=\"1\" class=\"dataframe\">\n",
       "  <thead>\n",
       "    <tr style=\"text-align: right;\">\n",
       "      <th></th>\n",
       "      <th>R&amp;D Spend</th>\n",
       "      <th>Administration</th>\n",
       "      <th>Marketing Spend</th>\n",
       "      <th>State</th>\n",
       "    </tr>\n",
       "  </thead>\n",
       "  <tbody>\n",
       "    <tr>\n",
       "      <th>0</th>\n",
       "      <td>165349.20</td>\n",
       "      <td>136897.80</td>\n",
       "      <td>471784.10</td>\n",
       "      <td>New York</td>\n",
       "    </tr>\n",
       "    <tr>\n",
       "      <th>1</th>\n",
       "      <td>162597.70</td>\n",
       "      <td>151377.59</td>\n",
       "      <td>443898.53</td>\n",
       "      <td>California</td>\n",
       "    </tr>\n",
       "    <tr>\n",
       "      <th>2</th>\n",
       "      <td>153441.51</td>\n",
       "      <td>101145.55</td>\n",
       "      <td>407934.54</td>\n",
       "      <td>Florida</td>\n",
       "    </tr>\n",
       "    <tr>\n",
       "      <th>3</th>\n",
       "      <td>144372.41</td>\n",
       "      <td>118671.85</td>\n",
       "      <td>383199.62</td>\n",
       "      <td>New York</td>\n",
       "    </tr>\n",
       "    <tr>\n",
       "      <th>4</th>\n",
       "      <td>142107.34</td>\n",
       "      <td>91391.77</td>\n",
       "      <td>366168.42</td>\n",
       "      <td>Florida</td>\n",
       "    </tr>\n",
       "  </tbody>\n",
       "</table>\n",
       "</div>"
      ],
      "text/plain": [
       "   R&D Spend  Administration  Marketing Spend       State\n",
       "0  165349.20       136897.80        471784.10    New York\n",
       "1  162597.70       151377.59        443898.53  California\n",
       "2  153441.51       101145.55        407934.54     Florida\n",
       "3  144372.41       118671.85        383199.62    New York\n",
       "4  142107.34        91391.77        366168.42     Florida"
      ]
     },
     "execution_count": 57,
     "metadata": {},
     "output_type": "execute_result"
    }
   ],
   "source": [
    "X.head()"
   ]
  },
  {
   "cell_type": "code",
   "execution_count": 58,
   "metadata": {},
   "outputs": [],
   "source": [
    "X=pd.get_dummies(X)"
   ]
  },
  {
   "cell_type": "code",
   "execution_count": 60,
   "metadata": {},
   "outputs": [],
   "source": [
    "X=X.values"
   ]
  },
  {
   "cell_type": "code",
   "execution_count": 63,
   "metadata": {},
   "outputs": [],
   "source": [
    "scale=StandardScaler()"
   ]
  },
  {
   "cell_type": "code",
   "execution_count": 88,
   "metadata": {},
   "outputs": [],
   "source": [
    "X_train,X_test,y_train,y_test=train_test_split(X,y,test_size=.3,random_state=0)"
   ]
  },
  {
   "cell_type": "code",
   "execution_count": 67,
   "metadata": {},
   "outputs": [],
   "source": [
    "X_train=scale.fit_transform(X_train)"
   ]
  },
  {
   "cell_type": "code",
   "execution_count": 72,
   "metadata": {},
   "outputs": [],
   "source": [
    "X_test=scale.transform(X_test)"
   ]
  },
  {
   "cell_type": "code",
   "execution_count": 106,
   "metadata": {},
   "outputs": [],
   "source": [
    "linear=LinearRegression().fit(X_train,y_train)"
   ]
  },
  {
   "cell_type": "code",
   "execution_count": 107,
   "metadata": {},
   "outputs": [
    {
     "data": {
      "text/plain": [
       "(0.951557126270021, 0.9358680970046518)"
      ]
     },
     "execution_count": 107,
     "metadata": {},
     "output_type": "execute_result"
    }
   ],
   "source": [
    "linear.score(X_train,y_train),linear.score(X_test,y_test)"
   ]
  },
  {
   "cell_type": "code",
   "execution_count": 80,
   "metadata": {},
   "outputs": [],
   "source": [
    "cross=KFold(n_splits=10)"
   ]
  },
  {
   "cell_type": "code",
   "execution_count": null,
   "metadata": {},
   "outputs": [],
   "source": [
    "cross.get_n_splits()"
   ]
  },
  {
   "cell_type": "code",
   "execution_count": 82,
   "metadata": {},
   "outputs": [],
   "source": [
    "linear=LinearRegression()\n",
    "cl=cross_val_score(linear,X_train,y_train,cv=5)"
   ]
  },
  {
   "cell_type": "code",
   "execution_count": 83,
   "metadata": {},
   "outputs": [
    {
     "data": {
      "text/plain": [
       "array([0.81864783, 0.92025779, 0.91427451, 0.82613043, 0.98233304])"
      ]
     },
     "execution_count": 83,
     "metadata": {},
     "output_type": "execute_result"
    }
   ],
   "source": [
    "cross_val_score(linear,X_train,y_train,cv=5)"
   ]
  },
  {
   "cell_type": "code",
   "execution_count": 99,
   "metadata": {},
   "outputs": [],
   "source": [
    "from sklearn.pipeline import Pipeline\n",
    "pipe=Pipeline([('Scaler',StandardScaler()),\n",
    "               ('linear',LinearRegression())])"
   ]
  },
  {
   "cell_type": "code",
   "execution_count": 100,
   "metadata": {},
   "outputs": [
    {
     "data": {
      "text/plain": [
       "Pipeline(memory=None,\n",
       "         steps=[('Scaler',\n",
       "                 StandardScaler(copy=True, with_mean=True, with_std=True)),\n",
       "                ('linear',\n",
       "                 LinearRegression(copy_X=True, fit_intercept=True, n_jobs=None,\n",
       "                                  normalize=False))],\n",
       "         verbose=False)"
      ]
     },
     "execution_count": 100,
     "metadata": {},
     "output_type": "execute_result"
    }
   ],
   "source": [
    "pipe.fit(X_train,y_train)"
   ]
  },
  {
   "cell_type": "code",
   "execution_count": 93,
   "metadata": {},
   "outputs": [
    {
     "data": {
      "text/plain": [
       "(0.951557126270021, 0.9358680970046518)"
      ]
     },
     "execution_count": 93,
     "metadata": {},
     "output_type": "execute_result"
    }
   ],
   "source": [
    "pipe.score(X_train,y_train),pipe.score(X_test,y_test)"
   ]
  },
  {
   "cell_type": "code",
   "execution_count": 94,
   "metadata": {},
   "outputs": [],
   "source": [
    "cl=cross_val_score(pipe,X_train,y_train,cv=5)"
   ]
  },
  {
   "cell_type": "code",
   "execution_count": 101,
   "metadata": {},
   "outputs": [],
   "source": [
    "pred=pipe.predict(X_test)"
   ]
  },
  {
   "cell_type": "code",
   "execution_count": 102,
   "metadata": {},
   "outputs": [
    {
     "data": {
      "text/plain": [
       "0.9358680970046518"
      ]
     },
     "execution_count": 102,
     "metadata": {},
     "output_type": "execute_result"
    }
   ],
   "source": [
    "r2_score(y_test,pred)"
   ]
  },
  {
   "cell_type": "code",
   "execution_count": 103,
   "metadata": {},
   "outputs": [
    {
     "data": {
      "text/html": [
       "<div>\n",
       "<style scoped>\n",
       "    .dataframe tbody tr th:only-of-type {\n",
       "        vertical-align: middle;\n",
       "    }\n",
       "\n",
       "    .dataframe tbody tr th {\n",
       "        vertical-align: top;\n",
       "    }\n",
       "\n",
       "    .dataframe thead th {\n",
       "        text-align: right;\n",
       "    }\n",
       "</style>\n",
       "<table border=\"1\" class=\"dataframe\">\n",
       "  <thead>\n",
       "    <tr style=\"text-align: right;\">\n",
       "      <th></th>\n",
       "      <th>Test</th>\n",
       "      <th>Pred</th>\n",
       "    </tr>\n",
       "  </thead>\n",
       "  <tbody>\n",
       "    <tr>\n",
       "      <th>28</th>\n",
       "      <td>103282.38</td>\n",
       "      <td>104282.764722</td>\n",
       "    </tr>\n",
       "    <tr>\n",
       "      <th>11</th>\n",
       "      <td>144259.40</td>\n",
       "      <td>132536.884992</td>\n",
       "    </tr>\n",
       "    <tr>\n",
       "      <th>10</th>\n",
       "      <td>146121.95</td>\n",
       "      <td>133910.850078</td>\n",
       "    </tr>\n",
       "    <tr>\n",
       "      <th>41</th>\n",
       "      <td>77798.83</td>\n",
       "      <td>72584.774894</td>\n",
       "    </tr>\n",
       "    <tr>\n",
       "      <th>2</th>\n",
       "      <td>191050.39</td>\n",
       "      <td>179920.927619</td>\n",
       "    </tr>\n",
       "    <tr>\n",
       "      <th>27</th>\n",
       "      <td>105008.31</td>\n",
       "      <td>114549.310792</td>\n",
       "    </tr>\n",
       "    <tr>\n",
       "      <th>38</th>\n",
       "      <td>81229.06</td>\n",
       "      <td>66444.432613</td>\n",
       "    </tr>\n",
       "    <tr>\n",
       "      <th>31</th>\n",
       "      <td>97483.56</td>\n",
       "      <td>98404.968401</td>\n",
       "    </tr>\n",
       "    <tr>\n",
       "      <th>22</th>\n",
       "      <td>110352.25</td>\n",
       "      <td>114499.828086</td>\n",
       "    </tr>\n",
       "    <tr>\n",
       "      <th>4</th>\n",
       "      <td>166187.94</td>\n",
       "      <td>169367.506399</td>\n",
       "    </tr>\n",
       "    <tr>\n",
       "      <th>33</th>\n",
       "      <td>96778.92</td>\n",
       "      <td>96522.625400</td>\n",
       "    </tr>\n",
       "    <tr>\n",
       "      <th>35</th>\n",
       "      <td>96479.51</td>\n",
       "      <td>88040.671829</td>\n",
       "    </tr>\n",
       "    <tr>\n",
       "      <th>26</th>\n",
       "      <td>105733.54</td>\n",
       "      <td>110949.994055</td>\n",
       "    </tr>\n",
       "    <tr>\n",
       "      <th>34</th>\n",
       "      <td>96712.80</td>\n",
       "      <td>90419.189785</td>\n",
       "    </tr>\n",
       "    <tr>\n",
       "      <th>18</th>\n",
       "      <td>124266.90</td>\n",
       "      <td>128020.462501</td>\n",
       "    </tr>\n",
       "  </tbody>\n",
       "</table>\n",
       "</div>"
      ],
      "text/plain": [
       "         Test           Pred\n",
       "28  103282.38  104282.764722\n",
       "11  144259.40  132536.884992\n",
       "10  146121.95  133910.850078\n",
       "41   77798.83   72584.774894\n",
       "2   191050.39  179920.927619\n",
       "27  105008.31  114549.310792\n",
       "38   81229.06   66444.432613\n",
       "31   97483.56   98404.968401\n",
       "22  110352.25  114499.828086\n",
       "4   166187.94  169367.506399\n",
       "33   96778.92   96522.625400\n",
       "35   96479.51   88040.671829\n",
       "26  105733.54  110949.994055\n",
       "34   96712.80   90419.189785\n",
       "18  124266.90  128020.462501"
      ]
     },
     "execution_count": 103,
     "metadata": {},
     "output_type": "execute_result"
    }
   ],
   "source": [
    "pd.DataFrame({'Test':y_test,\n",
    "              'Pred':pred})"
   ]
  },
  {
   "cell_type": "code",
   "execution_count": 109,
   "metadata": {},
   "outputs": [
    {
     "data": {
      "text/plain": [
       "['linear_reg.pkl']"
      ]
     },
     "execution_count": 109,
     "metadata": {},
     "output_type": "execute_result"
    }
   ],
   "source": [
    "joblib.dump(linear,'linear_reg.pkl')"
   ]
  },
  {
   "cell_type": "code",
   "execution_count": null,
   "metadata": {},
   "outputs": [],
   "source": []
  },
  {
   "cell_type": "code",
   "execution_count": null,
   "metadata": {},
   "outputs": [],
   "source": []
  },
  {
   "cell_type": "code",
   "execution_count": null,
   "metadata": {},
   "outputs": [],
   "source": []
  },
  {
   "cell_type": "code",
   "execution_count": null,
   "metadata": {},
   "outputs": [],
   "source": []
  },
  {
   "cell_type": "code",
   "execution_count": null,
   "metadata": {},
   "outputs": [],
   "source": [
    "\n"
   ]
  }
 ],
 "metadata": {
  "kernelspec": {
   "display_name": "Python 3",
   "language": "python",
   "name": "python3"
  },
  "language_info": {
   "codemirror_mode": {
    "name": "ipython",
    "version": 3
   },
   "file_extension": ".py",
   "mimetype": "text/x-python",
   "name": "python",
   "nbconvert_exporter": "python",
   "pygments_lexer": "ipython3",
   "version": "3.7.7"
  }
 },
 "nbformat": 4,
 "nbformat_minor": 4
}
