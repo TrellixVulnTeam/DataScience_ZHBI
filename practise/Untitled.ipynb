{
 "cells": [
  {
   "cell_type": "code",
   "execution_count": 3,
   "id": "7b428002",
   "metadata": {},
   "outputs": [],
   "source": [
    "a= [\"dbc\",\"aefg\",\"qijkl\",\"mnopqr\"]"
   ]
  },
  {
   "cell_type": "code",
   "execution_count": 4,
   "id": "6b3fc93f",
   "metadata": {},
   "outputs": [
    {
     "name": "stdout",
     "output_type": "stream",
     "text": [
      "['aefg', 'dbc', 'mnopqr', 'qijkl']\n"
     ]
    }
   ],
   "source": [
    "print(sorted(a))"
   ]
  },
  {
   "cell_type": "code",
   "execution_count": 5,
   "id": "d01a45e5",
   "metadata": {},
   "outputs": [
    {
     "name": "stdout",
     "output_type": "stream",
     "text": [
      "['dbc', 'aefg', 'qijkl', 'mnopqr']\n"
     ]
    }
   ],
   "source": [
    "print(sorted(a,key=len))"
   ]
  },
  {
   "cell_type": "code",
   "execution_count": 7,
   "id": "6c8d4815",
   "metadata": {},
   "outputs": [
    {
     "name": "stdout",
     "output_type": "stream",
     "text": [
      "['dbc', 'aefg', 'qijkl', 'mnopqr']\n"
     ]
    }
   ],
   "source": [
    "print(sorted(a,key=max))"
   ]
  },
  {
   "cell_type": "code",
   "execution_count": 8,
   "id": "9cbbff74",
   "metadata": {},
   "outputs": [
    {
     "name": "stdout",
     "output_type": "stream",
     "text": [
      "['aefg', 'dbc', 'qijkl', 'mnopqr']\n"
     ]
    }
   ],
   "source": [
    "print(sorted(a,key=min))"
   ]
  },
  {
   "cell_type": "code",
   "execution_count": null,
   "id": "c017c79f",
   "metadata": {},
   "outputs": [],
   "source": []
  }
 ],
 "metadata": {
  "kernelspec": {
   "display_name": "Python 3 (ipykernel)",
   "language": "python",
   "name": "python3"
  },
  "language_info": {
   "codemirror_mode": {
    "name": "ipython",
    "version": 3
   },
   "file_extension": ".py",
   "mimetype": "text/x-python",
   "name": "python",
   "nbconvert_exporter": "python",
   "pygments_lexer": "ipython3",
   "version": "3.9.6"
  }
 },
 "nbformat": 4,
 "nbformat_minor": 5
}
