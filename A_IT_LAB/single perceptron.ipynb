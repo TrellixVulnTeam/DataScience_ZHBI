{
 "cells": [
  {
   "cell_type": "code",
   "execution_count": 99,
   "metadata": {},
   "outputs": [],
   "source": [
    "# Solving xor problem\n",
    "# 1 1 = 0\n",
    "# 0 1 = 1\n",
    "# 1 0 = 1\n",
    "# 0 0 = 0"
   ]
  },
  {
   "cell_type": "code",
   "execution_count": 100,
   "metadata": {},
   "outputs": [],
   "source": [
    "import numpy as np\n",
    "import matplotlib.pyplot as pl\n",
    "from "
   ]
  },
  {
   "cell_type": "code",
   "execution_count": 101,
   "metadata": {},
   "outputs": [],
   "source": [
    "# Activation Function\n",
    "def sigmoid(x):\n",
    "    return 1/(1+np.exp(-x ))"
   ]
  },
  {
   "cell_type": "code",
   "execution_count": 102,
   "metadata": {},
   "outputs": [],
   "source": [
    "# Sigmoid derivatives\n",
    "def sigmoid_derivative(x):\n",
    "    return sigmoid(x)*(1-sigmoid(x))"
   ]
  },
  {
   "cell_type": "code",
   "execution_count": 103,
   "metadata": {},
   "outputs": [],
   "source": [
    "# Forward Function\n",
    "# Here np.matmul() and np.dot() is same\n",
    "def forward(x,w1,w2,predict=False):\n",
    "    a1=np.matmul(x,w1)\n",
    "    z1=sigmoid(a1)\n",
    "#   Create and add Bias\n",
    "    bias=np.ones((len(z1),1))\n",
    "    z1=np.concatenate((bias,z1),axis=1)\n",
    "    a2=np.matmul(z1,w2)\n",
    "    z2=sigmoid(a2)\n",
    "    if predict:\n",
    "        return z2\n",
    "    return a1,z1,a2,z2"
   ]
  },
  {
   "cell_type": "code",
   "execution_count": 104,
   "metadata": {},
   "outputs": [],
   "source": [
    "def back_prop(a1,z0,z1,z2,y):\n",
    "    delta2=z2-y\n",
    "    Delta2=np.matmul(z1.T,delta2)\n",
    "    delta1=(delta2.dot(w2[1:,:].T)*sigmoid_derivative(a1))\n",
    "    Delta1=np.matmul(z0.T,delta1)\n",
    "    return delta2,Delta1,Delta2"
   ]
  },
  {
   "cell_type": "code",
   "execution_count": 105,
   "metadata": {},
   "outputs": [
    {
     "data": {
      "text/plain": [
       "array([[1, 1, 0],\n",
       "       [1, 0, 1],\n",
       "       [1, 0, 0],\n",
       "       [1, 1, 1]])"
      ]
     },
     "execution_count": 105,
     "metadata": {},
     "output_type": "execute_result"
    }
   ],
   "source": [
    "# first column is Bias\n"
   ]
  },
  {
   "cell_type": "code",
   "execution_count": 106,
   "metadata": {},
   "outputs": [
    {
     "data": {
      "text/plain": [
       "array([[1],\n",
       "       [1],\n",
       "       [0],\n",
       "       [0]])"
      ]
     },
     "execution_count": 106,
     "metadata": {},
     "output_type": "execute_result"
    }
   ],
   "source": [
    "# Output label\n",
    "y=np.array([[1],[1],[0],[0]])\n",
    "y"
   ]
  },
  {
   "cell_type": "code",
   "execution_count": 107,
   "metadata": {},
   "outputs": [
    {
     "name": "stdout",
     "output_type": "stream",
     "text": [
      "[[ 1.62434536 -0.61175641 -0.52817175 -1.07296862  0.86540763]\n",
      " [-2.3015387   1.74481176 -0.7612069   0.3190391  -0.24937038]\n",
      " [ 1.46210794 -2.06014071 -0.3224172  -0.38405435  1.13376944]]\n",
      "[[-1.09989127]\n",
      " [-0.17242821]\n",
      " [-0.87785842]\n",
      " [ 0.04221375]\n",
      " [ 0.58281521]\n",
      " [-1.10061918]]\n"
     ]
    }
   ],
   "source": [
    "# initialize weights\n",
    "np.random.seed(1)\n",
    "w1=np.random.randn(3,5)\n",
    "w2=np.random.randn(6,1)\n",
    "print(w1)\n",
    "print(w2)"
   ]
  },
  {
   "cell_type": "code",
   "execution_count": 108,
   "metadata": {},
   "outputs": [],
   "source": []
  },
  {
   "cell_type": "code",
   "execution_count": 109,
   "metadata": {},
   "outputs": [
    {
     "name": "stdout",
     "output_type": "stream",
     "text": [
      "Iteration:0.Error:0.5018721437293049\n",
      "Iteration:1000.Error:0.48070161499227126\n",
      "Iteration:2000.Error:0.48342775757060497\n",
      "Iteration:3000.Error:0.482892326359894\n",
      "Iteration:4000.Error:0.47769031498006786\n",
      "Iteration:5000.Error:0.4722496858788187\n",
      "Iteration:6000.Error:0.4668996057701478\n",
      "Iteration:7000.Error:0.4616329322502836\n",
      "Iteration:8000.Error:0.4564396679732647\n",
      "Iteration:9000.Error:0.451313812135239\n",
      "Training complete\n",
      "[[ 1.94190421 -0.98321005 -0.59989223 -1.20991133  0.73992099]\n",
      " [-1.13554533  0.66430728 -1.16627889 -0.69741667 -0.34279973]\n",
      " [ 0.16636507 -0.87674138  0.22747251  1.04967154  1.07185537]] [[ 0.21168513]\n",
      " [-3.22154851]\n",
      " [ 5.50380232]\n",
      " [ 2.34775254]\n",
      " [ 6.53981415]\n",
      " [-2.12989764]]\n"
     ]
    }
   ],
   "source": [
    "for i in range(epochs):\n",
    "    a1,z1,a2,z2=forward(x,w1,w2)\n",
    "    delta2,Delta1,Delta2=back_prop(a2,x,z1,z2,y)\n",
    "    w1-=lr*(1/m)*Delta1\n",
    "    w2-=lr*(1/m)*Delta2\n",
    "    c=np.mean(np.abs(delta2))\n",
    "    costs.append(c)\n",
    "    if i%1000==0:\n",
    "        print(f\"Iteration:{i}.Error:{c}\")\n",
    "print(\"Training complete\")\n",
    "print(w1,w2)"
   ]
  },
  {
   "cell_type": "code",
   "execution_count": 110,
   "metadata": {},
   "outputs": [
    {
     "name": "stdout",
     "output_type": "stream",
     "text": [
      "Percentages:\n",
      "[[0.55377446]\n",
      " [0.55376116]\n",
      " [0.44647144]\n",
      " [0.44607273]]\n",
      "Prediction:\n",
      "[[1.]\n",
      " [1.]\n",
      " [0.]\n",
      " [0.]]\n"
     ]
    }
   ],
   "source": [
    "z3=forward(x,w1,w2,True)\n",
    "print(\"Percentages:\")\n",
    "print(z3)\n",
    "print(\"Prediction:\")\n",
    "print(np.round(z3))"
   ]
  },
  {
   "cell_type": "code",
   "execution_count": 111,
   "metadata": {},
   "outputs": [
    {
     "data": {
      "image/png": "[encoded data removed]",
      "text/plain": [
       "<Figure size 432x288 with 1 Axes>"
      ]
     },
     "metadata": {
      "needs_background": "light"
     },
     "output_type": "display_data"
    }
   ],
   "source": [
    "pl.plot(costs)\n",
    "pl.show()"
   ]
  },
  {
   "cell_type": "code",
   "execution_count": null,
   "metadata": {},
   "outputs": [],
   "source": []
  },
  {
   "cell_type": "code",
   "execution_count": null,
   "metadata": {},
   "outputs": [],
   "source": []
  },
  {
   "cell_type": "code",
   "execution_count": null,
   "metadata": {},
   "outputs": [],
   "source": []
  },
  {
   "cell_type": "code",
   "execution_count": null,
   "metadata": {},
   "outputs": [],
   "source": []
  },
  {
   "cell_type": "code",
   "execution_count": null,
   "metadata": {},
   "outputs": [],
   "source": []
  },
  {
   "cell_type": "code",
   "execution_count": null,
   "metadata": {},
   "outputs": [],
   "source": []
  },
  {
   "cell_type": "code",
   "execution_count": null,
   "metadata": {},
   "outputs": [],
   "source": []
  },
  {
   "cell_type": "code",
   "execution_count": null,
   "metadata": {},
   "outputs": [],
   "source": []
  },
  {
   "cell_type": "code",
   "execution_count": null,
   "metadata": {},
   "outputs": [],
   "source": []
  }
 ],
 "metadata": {
  "kernelspec": {
   "display_name": "Python 3",
   "language": "python",
   "name": "python3"
  },
  "language_info": {
   "codemirror_mode": {
    "name": "ipython",
    "version": 3
   },
   "file_extension": ".py",
   "mimetype": "text/x-python",
   "name": "python",
   "nbconvert_exporter": "python",
   "pygments_lexer": "ipython3",
   "version": "3.7.7"
  }
 },
 "nbformat": 4,
 "nbformat_minor": 4
}
