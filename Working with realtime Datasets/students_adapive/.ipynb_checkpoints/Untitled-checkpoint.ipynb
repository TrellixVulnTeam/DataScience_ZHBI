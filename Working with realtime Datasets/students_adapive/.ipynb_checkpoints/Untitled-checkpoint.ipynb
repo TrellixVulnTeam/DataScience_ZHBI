{
 "cells": [
  {
   "cell_type": "code",
   "execution_count": 3,
   "id": "1fdcbd56",
   "metadata": {},
   "outputs": [],
   "source": [
    "import numpy as np\n",
    "import pandas as pd\n",
    "import seaborn as sns\n",
    "import matplotlib.pyplot as pl\n",
    "pl.style.use('ggplot')\n",
    "%matplotlib inline\n",
    "import plotly.graph_objects as go\n",
    "import plotly.express as px"
   ]
  },
  {
   "cell_type": "code",
   "execution_count": 4,
   "id": "16f2a9ee",
   "metadata": {},
   "outputs": [
    {
     "data": {
      "text/html": [
       "<div>\n",
       "<style scoped>\n",
       "    .dataframe tbody tr th:only-of-type {\n",
       "        vertical-align: middle;\n",
       "    }\n",
       "\n",
       "    .dataframe tbody tr th {\n",
       "        vertical-align: top;\n",
       "    }\n",
       "\n",
       "    .dataframe thead th {\n",
       "        text-align: right;\n",
       "    }\n",
       "</style>\n",
       "<table border=\"1\" class=\"dataframe\">\n",
       "  <thead>\n",
       "    <tr style=\"text-align: right;\">\n",
       "      <th></th>\n",
       "      <th>Gender</th>\n",
       "      <th>Age</th>\n",
       "      <th>Education Level</th>\n",
       "      <th>Institution Type</th>\n",
       "      <th>IT Student</th>\n",
       "      <th>Location</th>\n",
       "      <th>Load-shedding</th>\n",
       "      <th>Financial Condition</th>\n",
       "      <th>Internet Type</th>\n",
       "      <th>Network Type</th>\n",
       "      <th>Class Duration</th>\n",
       "      <th>Self Lms</th>\n",
       "      <th>Device</th>\n",
       "      <th>Adaptivity Level</th>\n",
       "    </tr>\n",
       "  </thead>\n",
       "  <tbody>\n",
       "    <tr>\n",
       "      <th>0</th>\n",
       "      <td>Boy</td>\n",
       "      <td>21-25</td>\n",
       "      <td>University</td>\n",
       "      <td>Non Government</td>\n",
       "      <td>No</td>\n",
       "      <td>Yes</td>\n",
       "      <td>Low</td>\n",
       "      <td>Mid</td>\n",
       "      <td>Wifi</td>\n",
       "      <td>4G</td>\n",
       "      <td>3-6</td>\n",
       "      <td>No</td>\n",
       "      <td>Tab</td>\n",
       "      <td>Moderate</td>\n",
       "    </tr>\n",
       "    <tr>\n",
       "      <th>1</th>\n",
       "      <td>Girl</td>\n",
       "      <td>21-25</td>\n",
       "      <td>University</td>\n",
       "      <td>Non Government</td>\n",
       "      <td>No</td>\n",
       "      <td>Yes</td>\n",
       "      <td>High</td>\n",
       "      <td>Mid</td>\n",
       "      <td>Mobile Data</td>\n",
       "      <td>4G</td>\n",
       "      <td>1-3</td>\n",
       "      <td>Yes</td>\n",
       "      <td>Mobile</td>\n",
       "      <td>Moderate</td>\n",
       "    </tr>\n",
       "    <tr>\n",
       "      <th>2</th>\n",
       "      <td>Girl</td>\n",
       "      <td>16-20</td>\n",
       "      <td>College</td>\n",
       "      <td>Government</td>\n",
       "      <td>No</td>\n",
       "      <td>Yes</td>\n",
       "      <td>Low</td>\n",
       "      <td>Mid</td>\n",
       "      <td>Wifi</td>\n",
       "      <td>4G</td>\n",
       "      <td>1-3</td>\n",
       "      <td>No</td>\n",
       "      <td>Mobile</td>\n",
       "      <td>Moderate</td>\n",
       "    </tr>\n",
       "    <tr>\n",
       "      <th>3</th>\n",
       "      <td>Girl</td>\n",
       "      <td>11-15</td>\n",
       "      <td>School</td>\n",
       "      <td>Non Government</td>\n",
       "      <td>No</td>\n",
       "      <td>Yes</td>\n",
       "      <td>Low</td>\n",
       "      <td>Mid</td>\n",
       "      <td>Mobile Data</td>\n",
       "      <td>4G</td>\n",
       "      <td>1-3</td>\n",
       "      <td>No</td>\n",
       "      <td>Mobile</td>\n",
       "      <td>Moderate</td>\n",
       "    </tr>\n",
       "    <tr>\n",
       "      <th>4</th>\n",
       "      <td>Girl</td>\n",
       "      <td>16-20</td>\n",
       "      <td>School</td>\n",
       "      <td>Non Government</td>\n",
       "      <td>No</td>\n",
       "      <td>Yes</td>\n",
       "      <td>Low</td>\n",
       "      <td>Poor</td>\n",
       "      <td>Mobile Data</td>\n",
       "      <td>3G</td>\n",
       "      <td>0</td>\n",
       "      <td>No</td>\n",
       "      <td>Mobile</td>\n",
       "      <td>Low</td>\n",
       "    </tr>\n",
       "  </tbody>\n",
       "</table>\n",
       "</div>"
      ],
      "text/plain": [
       "  Gender    Age Education Level Institution Type IT Student Location  \\\n",
       "0    Boy  21-25      University   Non Government         No      Yes   \n",
       "1   Girl  21-25      University   Non Government         No      Yes   \n",
       "2   Girl  16-20         College       Government         No      Yes   \n",
       "3   Girl  11-15          School   Non Government         No      Yes   \n",
       "4   Girl  16-20          School   Non Government         No      Yes   \n",
       "\n",
       "  Load-shedding Financial Condition Internet Type Network Type Class Duration  \\\n",
       "0           Low                 Mid          Wifi           4G            3-6   \n",
       "1          High                 Mid   Mobile Data           4G            1-3   \n",
       "2           Low                 Mid          Wifi           4G            1-3   \n",
       "3           Low                 Mid   Mobile Data           4G            1-3   \n",
       "4           Low                Poor   Mobile Data           3G              0   \n",
       "\n",
       "  Self Lms  Device Adaptivity Level  \n",
       "0       No     Tab         Moderate  \n",
       "1      Yes  Mobile         Moderate  \n",
       "2       No  Mobile         Moderate  \n",
       "3       No  Mobile         Moderate  \n",
       "4       No  Mobile              Low  "
      ]
     },
     "execution_count": 4,
     "metadata": {},
     "output_type": "execute_result"
    }
   ],
   "source": [
    "df = pd.read_csv('students_adaptability_level_online_education.csv')\n",
    "df.head()\n"
   ]
  },
  {
   "cell_type": "code",
   "execution_count": 5,
   "id": "bd659e19",
   "metadata": {},
   "outputs": [
    {
     "data": {
      "text/plain": [
       "(1205, 14)"
      ]
     },
     "execution_count": 5,
     "metadata": {},
     "output_type": "execute_result"
    }
   ],
   "source": [
    "df.shape"
   ]
  },
  {
   "cell_type": "code",
   "execution_count": 6,
   "id": "6f2ef3d5",
   "metadata": {},
   "outputs": [
    {
     "name": "stdout",
     "output_type": "stream",
     "text": [
      "<class 'pandas.core.frame.DataFrame'>\n",
      "RangeIndex: 1205 entries, 0 to 1204\n",
      "Data columns (total 14 columns):\n",
      " #   Column               Non-Null Count  Dtype \n",
      "---  ------               --------------  ----- \n",
      " 0   Gender               1205 non-null   object\n",
      " 1   Age                  1205 non-null   object\n",
      " 2   Education Level      1205 non-null   object\n",
      " 3   Institution Type     1205 non-null   object\n",
      " 4   IT Student           1205 non-null   object\n",
      " 5   Location             1205 non-null   object\n",
      " 6   Load-shedding        1205 non-null   object\n",
      " 7   Financial Condition  1205 non-null   object\n",
      " 8   Internet Type        1205 non-null   object\n",
      " 9   Network Type         1205 non-null   object\n",
      " 10  Class Duration       1205 non-null   object\n",
      " 11  Self Lms             1205 non-null   object\n",
      " 12  Device               1205 non-null   object\n",
      " 13  Adaptivity Level     1205 non-null   object\n",
      "dtypes: object(14)\n",
      "memory usage: 131.9+ KB\n"
     ]
    }
   ],
   "source": [
    "df.info()"
   ]
  },
  {
   "cell_type": "code",
   "execution_count": 9,
   "id": "996885a0",
   "metadata": {},
   "outputs": [
    {
     "data": {
      "text/plain": [
       "Gender                 0\n",
       "Age                    0\n",
       "Education Level        0\n",
       "Institution Type       0\n",
       "IT Student             0\n",
       "Location               0\n",
       "Load-shedding          0\n",
       "Financial Condition    0\n",
       "Internet Type          0\n",
       "Network Type           0\n",
       "Class Duration         0\n",
       "Self Lms               0\n",
       "Device                 0\n",
       "Adaptivity Level       0\n",
       "dtype: int64"
      ]
     },
     "execution_count": 9,
     "metadata": {},
     "output_type": "execute_result"
    }
   ],
   "source": [
    "df.isnull().sum()"
   ]
  },
  {
   "cell_type": "code",
   "execution_count": null,
   "id": "95cd1efc",
   "metadata": {},
   "outputs": [],
   "source": []
  },
  {
   "cell_type": "code",
   "execution_count": null,
   "id": "7851037c",
   "metadata": {},
   "outputs": [],
   "source": []
  },
  {
   "cell_type": "code",
   "execution_count": null,
   "id": "cde4eb91",
   "metadata": {},
   "outputs": [],
   "source": []
  },
  {
   "cell_type": "code",
   "execution_count": null,
   "id": "1ab527d5",
   "metadata": {},
   "outputs": [],
   "source": []
  },
  {
   "cell_type": "code",
   "execution_count": null,
   "id": "3325f107",
   "metadata": {},
   "outputs": [],
   "source": []
  },
  {
   "cell_type": "code",
   "execution_count": null,
   "id": "8ecb1594",
   "metadata": {},
   "outputs": [],
   "source": []
  },
  {
   "cell_type": "code",
   "execution_count": null,
   "id": "6f57c58b",
   "metadata": {},
   "outputs": [],
   "source": []
  },
  {
   "cell_type": "code",
   "execution_count": null,
   "id": "160a4938",
   "metadata": {},
   "outputs": [],
   "source": []
  },
  {
   "cell_type": "code",
   "execution_count": null,
   "id": "169a5252",
   "metadata": {},
   "outputs": [],
   "source": []
  },
  {
   "cell_type": "code",
   "execution_count": null,
   "id": "eaf774ba",
   "metadata": {},
   "outputs": [],
   "source": []
  },
  {
   "cell_type": "code",
   "execution_count": null,
   "id": "cbcce4a7",
   "metadata": {},
   "outputs": [],
   "source": []
  },
  {
   "cell_type": "code",
   "execution_count": null,
   "id": "a71ad4e8",
   "metadata": {},
   "outputs": [],
   "source": []
  },
  {
   "cell_type": "code",
   "execution_count": null,
   "id": "4d819870",
   "metadata": {},
   "outputs": [],
   "source": []
  },
  {
   "cell_type": "code",
   "execution_count": null,
   "id": "9039c5ec",
   "metadata": {},
   "outputs": [],
   "source": []
  },
  {
   "cell_type": "code",
   "execution_count": null,
   "id": "020022c1",
   "metadata": {},
   "outputs": [],
   "source": []
  },
  {
   "cell_type": "code",
   "execution_count": null,
   "id": "7710d858",
   "metadata": {},
   "outputs": [],
   "source": []
  },
  {
   "cell_type": "code",
   "execution_count": null,
   "id": "4bd83f30",
   "metadata": {},
   "outputs": [],
   "source": []
  }
 ],
 "metadata": {
  "kernelspec": {
   "display_name": "Python 3 (ipykernel)",
   "language": "python",
   "name": "python3"
  },
  "language_info": {
   "codemirror_mode": {
    "name": "ipython",
    "version": 3
   },
   "file_extension": ".py",
   "mimetype": "text/x-python",
   "name": "python",
   "nbconvert_exporter": "python",
   "pygments_lexer": "ipython3",
   "version": "3.9.10"
  }
 },
 "nbformat": 4,
 "nbformat_minor": 5
}
