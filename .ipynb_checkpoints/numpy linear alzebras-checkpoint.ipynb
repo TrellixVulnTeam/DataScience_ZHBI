{
 "cells": [
  {
   "cell_type": "code",
   "execution_count": 3,
   "metadata": {},
   "outputs": [
    {
     "name": "stdout",
     "output_type": "stream",
     "text": [
      "150\n"
     ]
    },
    {
     "data": {
      "text/plain": [
       "array([ 5, 16, 24, 38, 43])"
      ]
     },
     "execution_count": 3,
     "metadata": {},
     "output_type": "execute_result"
    }
   ],
   "source": [
    "import numpy as np\n",
    "\n",
    "a=np.array([10,20,30,40,50])\n",
    "print(np.sum(a))\n",
    "b=np.array([5,4,6,2,7])\n",
    "np.subtract(a,b)\n",
    "\n"
   ]
  },
  {
   "cell_type": "code",
   "execution_count": 5,
   "metadata": {},
   "outputs": [
    {
     "name": "stdout",
     "output_type": "stream",
     "text": [
      "[22 24 26 28 30 32 34 36 38 40]\n",
      "[ 1  3  5  7  9 11 13 15 17 19]\n",
      "310\n",
      "100\n",
      "[21 21 21 21 21 21 21 21 21 21]\n",
      "[ 22  72 130 196 270 352 442 540 646 760]\n",
      "[22.          8.          5.2         4.          3.33333333  2.90909091\n",
      "  2.61538462  2.4         2.23529412  2.10526316]\n"
     ]
    }
   ],
   "source": [
    "a=np.arange(22,42,2)\n",
    "print(a)\n",
    "b=np.arange(1,20,2)\n",
    "print(b)\n",
    "\n",
    "print(np.sum(a))\n",
    "print(np.sum(b))\n",
    "\n",
    "print(np.subtract(a,b))\n",
    "print(np.multiply(a,b))\n",
    "print(np.divide(a,b))\n",
    "\n"
   ]
  },
  {
   "cell_type": "code",
   "execution_count": 42,
   "metadata": {},
   "outputs": [
    {
     "name": "stdout",
     "output_type": "stream",
     "text": [
      "[310 100]\n"
     ]
    }
   ],
   "source": [
    "print(np.sum([a,b],axis=1))"
   ]
  },
  {
   "cell_type": "code",
   "execution_count": 47,
   "metadata": {},
   "outputs": [
    {
     "data": {
      "text/plain": [
       "array([6, 1])"
      ]
     },
     "execution_count": 47,
     "metadata": {},
     "output_type": "execute_result"
    }
   ],
   "source": [
    "np.sum([[1,5],[0,1]],axis=1)"
   ]
  },
  {
   "cell_type": "code",
   "execution_count": 61,
   "metadata": {},
   "outputs": [
    {
     "name": "stdout",
     "output_type": "stream",
     "text": [
      "22026.465794806718\n",
      "8.0\n",
      "0.8939966636005579\n",
      "1.0\n",
      "1.6197751905438615\n"
     ]
    }
   ],
   "source": [
    "print(np.exp(10))\n",
    "print(np.sqrt(64))\n",
    "print(np.sin(90))\n",
    "print(np.cos(0))\n",
    "print(np.tan(45))"
   ]
  },
  {
   "cell_type": "code",
   "execution_count": 6,
   "metadata": {},
   "outputs": [
    {
     "data": {
      "text/plain": [
       "array([ True, False, False, False, False,  True, False, False,  True,\n",
       "        True])"
      ]
     },
     "execution_count": 6,
     "metadata": {},
     "output_type": "execute_result"
    }
   ],
   "source": [
    "a=np.array([1,2,3,4,5,6,7,8,9,10])\n",
    "b=np.array([1,4,2,3,6,6,8,9,9,10])\n",
    "np.equal(a,b)"
   ]
  },
  {
   "cell_type": "code",
   "execution_count": 94,
   "metadata": {},
   "outputs": [
    {
     "name": "stdout",
     "output_type": "stream",
     "text": [
      "[[[4 8]]\n",
      "\n",
      " [[1 2]]]\n"
     ]
    }
   ],
   "source": [
    "a=np.array([1,2])\n",
    "b=np.array([[[4]],\n",
    "            [[1]]])\n",
    "print(np.multiply(a,b))\n",
    "# print(np.sum([a,b],axis=0))\n",
    "# print(np.equal(a,b))\n",
    "# print(np.array_equal(a,b))"
   ]
  },
  {
   "cell_type": "code",
   "execution_count": 108,
   "metadata": {},
   "outputs": [
    {
     "name": "stdout",
     "output_type": "stream",
     "text": [
      "17\n",
      "1\n",
      "8.823529411764707\n",
      "9.0\n",
      "5.090190035949162\n"
     ]
    }
   ],
   "source": [
    "a=np.array([1,2,3,4,2,6,7,8,9,10,11,12,13,14,15,16,17])\n",
    "print(np.max(a))\n",
    "print(np.min(a))\n",
    "print(np.mean(a))\n",
    "print(np.median(a))\n",
    "print(np.std(a))"
   ]
  },
  {
   "cell_type": "code",
   "execution_count": 167,
   "metadata": {},
   "outputs": [
    {
     "name": "stdout",
     "output_type": "stream",
     "text": [
      "[115 140 182 160 150 170 168]\n",
      "155.0\n",
      "20.695064974184408\n",
      "428.2857142857143\n",
      "[[ 1.         -0.57871915]\n",
      " [-0.57871915  1.        ]]\n"
     ]
    }
   ],
   "source": [
    "a=np.array([168,170,150,160,182,140,115])\n",
    "b=a[::-1]\n",
    "print(b)\n",
    "print(np.mean(a))\n",
    "print(np.std(a))\n",
    "print(np.var(a))\n",
    "print(np.corrcoef(a,b))"
   ]
  },
  {
   "cell_type": "code",
   "execution_count": 168,
   "metadata": {},
   "outputs": [
    {
     "name": "stdout",
     "output_type": "stream",
     "text": [
      "[[ 8 10 12]\n",
      " [11 13 15]]\n"
     ]
    }
   ],
   "source": [
    "# Array Broadcasting:\n",
    "\n",
    "a=np.array([[1,2,3],[4,5,6]])\n",
    "b=np.array([7,8,9])\n",
    "print(np.sum([a,b]))"
   ]
  },
  {
   "cell_type": "code",
   "execution_count": null,
   "metadata": {},
   "outputs": [],
   "source": []
  }
 ],
 "metadata": {
  "kernelspec": {
   "display_name": "Python 3",
   "language": "python",
   "name": "python3"
  },
  "language_info": {
   "codemirror_mode": {
    "name": "ipython",
    "version": 3
   },
   "file_extension": ".py",
   "mimetype": "text/x-python",
   "name": "python",
   "nbconvert_exporter": "python",
   "pygments_lexer": "ipython3",
   "version": "3.7.4"
  }
 },
 "nbformat": 4,
 "nbformat_minor": 2
}
