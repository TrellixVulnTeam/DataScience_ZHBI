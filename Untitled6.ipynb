{
 "cells": [
  {
   "cell_type": "code",
   "execution_count": 31,
   "id": "c1ded857",
   "metadata": {},
   "outputs": [],
   "source": [
    "import os"
   ]
  },
  {
   "cell_type": "code",
   "execution_count": null,
   "id": "92fc81e2",
   "metadata": {},
   "outputs": [],
   "source": []
  },
  {
   "cell_type": "code",
   "execution_count": null,
   "id": "fc714592",
   "metadata": {},
   "outputs": [],
   "source": []
  },
  {
   "cell_type": "code",
   "execution_count": null,
   "id": "1a2ac03e",
   "metadata": {},
   "outputs": [],
   "source": []
  },
  {
   "cell_type": "code",
   "execution_count": 85,
   "id": "engaging-decline",
   "metadata": {},
   "outputs": [],
   "source": [
    "import xlsxwriter\n",
    "\n",
    "def generate_excel(data):\n",
    "    if not os.path.exists('excelsheets'):\n",
    "        os.makedirs('excelsheets')\n",
    "    workbook = xlsxwriter.Workbook('excelsheets/demo.xlsx')\n",
    "    worksheet = workbook.add_worksheet()\n",
    "    worksheet.set_column('B:D', 12)\n",
    "\n",
    "    merge_format = workbook.add_format(\n",
    "        {\n",
    "        'bold': 3,\n",
    "        'border': 1,\n",
    "        'align': 'center',\n",
    "        'valign': 'vcenter',\n",
    "    #     'fg_color': 'yellow',\n",
    "        'size':20,\n",
    "        }\n",
    "        )\n",
    "\n",
    "\n",
    "    worksheet.merge_range('B2:I2', 'Nepal Oil Corporation', merge_format)\n",
    "\n",
    "    cell_format = workbook.add_format()\n",
    "    cell_format.set_align('center')\n",
    "    cell_format.set_font_size(18)\n",
    "\n",
    "    cell_format2 = workbook.add_format()\n",
    "    cell_format2.set_align('center')\n",
    "    cell_format2.set_font_size(14)\n",
    "\n",
    "    columns=[\"First Name\",\"Middle Name\",\"Last Name\",\"Gender\",\"Mobile\",\"Customer Kind\",\"Kyc Status\"]\n",
    "\n",
    "    location_data=\"Province -1\"\n",
    "    type_=\"Customers\"\n",
    "    worksheet.merge_range('E4:G4',location_data+\"    \"+type_,merge_format)\n",
    "    for i in range(2,len(columns)+2):\n",
    "        worksheet.write(4,i,columns[i-2],cell_format)\n",
    "\n",
    "    for j,d in enumerate(data):\n",
    "        for i in range(2,9):\n",
    "            worksheet.set_column(i,i,20)\n",
    "        worksheet.write(j+5,2,d[\"first_name\"],cell_format2)\n",
    "        worksheet.write(j+5,3,d[\"middle_name\"],cell_format2)\n",
    "        worksheet.write(j+5,4,d[\"last_name\"],cell_format2)\n",
    "        worksheet.write(j+5,5,d[\"gender\"],cell_format2)\n",
    "        worksheet.write(j+5,6,d[\"mobile\"],cell_format2)\n",
    "        worksheet.write(j+5,7,d[\"customer_kind\"],cell_format2)\n",
    "        worksheet.write(j+5,8,d[\"kyc_updated\"],cell_format2)\n",
    "        \n",
    "    workbook.close()"
   ]
  },
  {
   "cell_type": "code",
   "execution_count": null,
   "id": "sporting-planning",
   "metadata": {},
   "outputs": [],
   "source": []
  },
  {
   "cell_type": "code",
   "execution_count": null,
   "id": "792de074",
   "metadata": {},
   "outputs": [],
   "source": []
  },
  {
   "cell_type": "code",
   "execution_count": 34,
   "id": "cbd596d1",
   "metadata": {},
   "outputs": [],
   "source": [
    "data=open('customers.json','r')\n",
    "data=data.read()"
   ]
  },
  {
   "cell_type": "code",
   "execution_count": null,
   "id": "78e1c58a",
   "metadata": {},
   "outputs": [],
   "source": []
  },
  {
   "cell_type": "code",
   "execution_count": 46,
   "id": "d146df4e",
   "metadata": {},
   "outputs": [],
   "source": [
    "import json\n",
    "json_data=json.loads(data)"
   ]
  },
  {
   "cell_type": "code",
   "execution_count": 86,
   "id": "17281935",
   "metadata": {
    "scrolled": true
   },
   "outputs": [],
   "source": [
    "generate_excel(json_data)"
   ]
  },
  {
   "cell_type": "code",
   "execution_count": null,
   "id": "1244a705",
   "metadata": {},
   "outputs": [],
   "source": []
  },
  {
   "cell_type": "code",
   "execution_count": null,
   "id": "e29e55bd",
   "metadata": {},
   "outputs": [],
   "source": []
  },
  {
   "cell_type": "code",
   "execution_count": null,
   "id": "04b4a96b",
   "metadata": {},
   "outputs": [],
   "source": []
  },
  {
   "cell_type": "code",
   "execution_count": null,
   "id": "63d3755b",
   "metadata": {},
   "outputs": [],
   "source": []
  }
 ],
 "metadata": {
  "kernelspec": {
   "display_name": "Python 3",
   "language": "python",
   "name": "python3"
  },
  "language_info": {
   "codemirror_mode": {
    "name": "ipython",
    "version": 3
   },
   "file_extension": ".py",
   "mimetype": "text/x-python",
   "name": "python",
   "nbconvert_exporter": "python",
   "pygments_lexer": "ipython3",
   "version": "3.9.4"
  }
 },
 "nbformat": 4,
 "nbformat_minor": 5
}
