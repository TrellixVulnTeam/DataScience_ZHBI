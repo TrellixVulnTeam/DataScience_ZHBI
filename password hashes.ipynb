{
 "cells": [
  {
   "cell_type": "code",
   "execution_count": 6,
   "id": "e87802c6",
   "metadata": {},
   "outputs": [],
   "source": [
    "import bcrypt\n",
    "from werkzeug.security import generate_password_hash, check_password_hash\n"
   ]
  },
  {
   "cell_type": "code",
   "execution_count": 8,
   "id": "55d80dd6",
   "metadata": {},
   "outputs": [],
   "source": [
    "secret_key = \"as456r7t8y92ehiudwgysftg#$%^&*UGVCTDR$%^&FYVG&T^R%DTRYV\"\n",
    "password = \"abcd1234efgh\""
   ]
  },
  {
   "cell_type": "code",
   "execution_count": 9,
   "id": "4bf7fa91",
   "metadata": {},
   "outputs": [],
   "source": [
    "def set_password(password):\n",
    "    password_hash = generate_password_hash(password)\n",
    "    return password_hash\n",
    "\n",
    "def check_password(self, password):\n",
    "    return check_password_hash(self.password_hash, password)"
   ]
  },
  {
   "cell_type": "code",
   "execution_count": null,
   "id": "303d8797",
   "metadata": {},
   "outputs": [],
   "source": []
  },
  {
   "cell_type": "code",
   "execution_count": null,
   "id": "cbdc0551",
   "metadata": {},
   "outputs": [],
   "source": []
  }
 ],
 "metadata": {
  "kernelspec": {
   "display_name": "Python 3",
   "language": "python",
   "name": "python3"
  },
  "language_info": {
   "codemirror_mode": {
    "name": "ipython",
    "version": 3
   },
   "file_extension": ".py",
   "mimetype": "text/x-python",
   "name": "python",
   "nbconvert_exporter": "python",
   "pygments_lexer": "ipython3",
   "version": "3.9.5"
  }
 },
 "nbformat": 4,
 "nbformat_minor": 5
}
