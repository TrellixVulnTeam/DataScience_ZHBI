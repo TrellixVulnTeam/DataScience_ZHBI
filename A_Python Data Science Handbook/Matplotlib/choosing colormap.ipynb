{
 "cells": [
  {
   "cell_type": "code",
   "execution_count": 78,
   "metadata": {},
   "outputs": [],
   "source": [
    "from matplotlib.colors import LinearSegmentedColormap\n",
    "import numpy as np\n",
    "import matplotlib.pyplot as pl"
   ]
  },
  {
   "cell_type": "code",
   "execution_count": 79,
   "metadata": {},
   "outputs": [
    {
     "data": {
      "image/png": "[encoded data removed]",
      "text/plain": [
       "<Figure size 432x144 with 2 Axes>"
      ]
     },
     "metadata": {},
     "output_type": "display_data"
    }
   ],
   "source": [
    "def grayscale_cmap(cmap):\n",
    "    cmap=pl.cm.get_cmap(cmap)\n",
    "    colors=cmap(np.arange(cmap.N))\n",
    "    rgb_wt=[0.299,0.587,0.114]\n",
    "    luminace=np.sqrt(np.dot(colors[:,:3]**2,rgb_wt))\n",
    "    colors[:,:3]=luminace[:,np.newaxis]\n",
    "    return LinearSegmentedColormap.from_list(cmap.name+\"_gray\",colors,cmap.N)\n",
    "\n",
    "def view_colormap(cmap):\n",
    "    cmap=pl.cm.get_cmap(cmap)\n",
    "    colors=cmap(np.arange(cmap.N))\n",
    "    cmap=grayscale_cmap(cmap)\n",
    "    grayscale=cmap(np.arange(cmap.N))\n",
    "\n",
    "    fig,ax=pl.subplots(2,figsize=(6,2),\n",
    "                      subplot_kw=dict(xticks=[],yticks=[]))\n",
    "    ax[0].imshow([colors],extent=[0,10,0,1])\n",
    "    ax[1].imshow([grayscale],extent=[0,10,0,1])\n",
    "view_colormap('jet')"
   ]
  },
  {
   "cell_type": "code",
   "execution_count": null,
   "metadata": {},
   "outputs": [],
   "source": []
  },
  {
   "cell_type": "code",
   "execution_count": 80,
   "metadata": {},
   "outputs": [
    {
     "data": {
      "image/png": "[encoded data removed]",
      "text/plain": [
       "<Figure size 432x144 with 2 Axes>"
      ]
     },
     "metadata": {},
     "output_type": "display_data"
    }
   ],
   "source": [
    "view_colormap('viridis')"
   ]
  },
  {
   "cell_type": "code",
   "execution_count": 81,
   "metadata": {},
   "outputs": [
    {
     "data": {
      "image/png": "[encoded data removed]",
      "text/plain": [
       "<Figure size 432x144 with 2 Axes>"
      ]
     },
     "metadata": {},
     "output_type": "display_data"
    }
   ],
   "source": [
    "view_colormap('cubehelix')"
   ]
  },
  {
   "cell_type": "code",
   "execution_count": 82,
   "metadata": {},
   "outputs": [
    {
     "data": {
      "image/png": "[encoded data removed]",
      "text/plain": [
       "<Figure size 432x144 with 2 Axes>"
      ]
     },
     "metadata": {},
     "output_type": "display_data"
    }
   ],
   "source": [
    "view_colormap('RdBu')"
   ]
  },
  {
   "cell_type": "code",
   "execution_count": 83,
   "metadata": {},
   "outputs": [
    {
     "data": {
      "text/plain": [
       "array([[0.267004, 0.004874, 0.329415, 1.      ],\n",
       "       [0.26851 , 0.009605, 0.335427, 1.      ],\n",
       "       [0.269944, 0.014625, 0.341379, 1.      ],\n",
       "       ...,\n",
       "       [0.974417, 0.90359 , 0.130215, 1.      ],\n",
       "       [0.983868, 0.904867, 0.136897, 1.      ],\n",
       "       [0.993248, 0.906157, 0.143936, 1.      ]])"
      ]
     },
     "execution_count": 83,
     "metadata": {},
     "output_type": "execute_result"
    }
   ],
   "source": [
    "cmap=pl.cm.get_cmap(\"viridis\")\n",
    "colors=cmap(np.arange(cmap.N))\n",
    "colors"
   ]
  },
  {
   "cell_type": "code",
   "execution_count": 84,
   "metadata": {},
   "outputs": [
    {
     "data": {
      "text/plain": [
       "array([[0.40392157, 0.        , 0.12156863, 1.        ],\n",
       "       [0.41545559, 0.00369089, 0.12341407, 1.        ],\n",
       "       [0.42698962, 0.00738178, 0.12525952, 1.        ],\n",
       "       ...,\n",
       "       [0.02821992, 0.20484429, 0.40346021, 1.        ],\n",
       "       [0.02391388, 0.19653979, 0.39192618, 1.        ],\n",
       "       [0.01960784, 0.18823529, 0.38039216, 1.        ]])"
      ]
     },
     "execution_count": 84,
     "metadata": {},
     "output_type": "execute_result"
    }
   ],
   "source": [
    "cmap=pl.cm.get_cmap(\"RdBu\")\n",
    "colors=cmap(np.arange(cmap.N))\n",
    "colors"
   ]
  },
  {
   "cell_type": "code",
   "execution_count": 102,
   "metadata": {},
   "outputs": [
    {
     "data": {
      "text/plain": [
       "<matplotlib.image.AxesImage at 0x2438cf14d08>"
      ]
     },
     "execution_count": 102,
     "metadata": {},
     "output_type": "execute_result"
    },
    {
     "data": {
      "image/png": "[encoded data removed]",
      "text/plain": [
       "<Figure size 432x288 with 1 Axes>"
      ]
     },
     "metadata": {
      "needs_background": "light"
     },
     "output_type": "display_data"
    }
   ],
   "source": [
    "colors[:,:3]\n",
    "a=np.dot(colors[:,:3],[0.3,0.2,0.4]).reshape(-1,4)\n",
    "pl.imshow(a)"
   ]
  },
  {
   "cell_type": "code",
   "execution_count": null,
   "metadata": {},
   "outputs": [],
   "source": []
  },
  {
   "cell_type": "code",
   "execution_count": null,
   "metadata": {},
   "outputs": [],
   "source": []
  },
  {
   "cell_type": "code",
   "execution_count": null,
   "metadata": {},
   "outputs": [],
   "source": []
  },
  {
   "cell_type": "code",
   "execution_count": null,
   "metadata": {},
   "outputs": [],
   "source": []
  }
 ],
 "metadata": {
  "kernelspec": {
   "display_name": "Python 3",
   "language": "python",
   "name": "python3"
  },
  "language_info": {
   "codemirror_mode": {
    "name": "ipython",
    "version": 3
   },
   "file_extension": ".py",
   "mimetype": "text/x-python",
   "name": "python",
   "nbconvert_exporter": "python",
   "pygments_lexer": "ipython3",
   "version": "3.7.6"
  }
 },
 "nbformat": 4,
 "nbformat_minor": 4
}
