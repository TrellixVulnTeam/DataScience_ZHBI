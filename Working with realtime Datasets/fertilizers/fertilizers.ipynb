{
 "cells": [
  {
   "cell_type": "markdown",
   "metadata": {},
   "source": [
    "Context\n",
    "It's importante to assemble, analyse, monitor and improve the data visualization and exploration, making it easier to undertand to apply in real problems solutions.\n",
    "In this data set we have access to the import data (quantity and value), exports and production of fertilizers separated by their main composition, over the years.\n",
    "\n",
    "Content\n",
    "The Fertilizers by Product dataset contains information on product amounts for the Production, Trade, Agriculture Use and Other Uses of chemical and mineral fertilizers products, over the time series 2002-present. The fertilizer statistics data are validated separately for a set of over thirty individual products. Both straight and compound fertilizers are included. Detailed information on Fertilizers by Product Methodology at: Link\n",
    "\n",
    "If FAO is to carry out its work successfully it will need to know where and why hunger and malnutrition exist, what forms they take, and how widespread they are. Such data will serve as a basis for making plans, determining the efficacy of measures used, and measuring progress from time to time.\n",
    "\n",
    "Flags Column\n",
    "\n",
    "A - Aggregate; may include official; semi-official; estimated or calculated data;\n",
    "E - Expert sources from FAO (including other divisions);\n",
    "Fb - Data obtained as a balance;\n",
    "Fm - Manual Estimation;\n",
    "P - Provisional official data;\n",
    "Qm - Official data from questionnaires and/or national sources and/or COMTRADE (reporters);\n",
    "R - Estimated data using trading partners database;\n",
    "W - Data reported on country official publications or web sites (Official) or trade country files;\n",
    "Acknowledgements\n",
    "Food and Agriculture Organization of the United Nations (FAO), Statistics Division (ESS), Environment Statistics team, Francesco Nicola Tubiello.\n",
    "\n",
    "Inspiration\n",
    "How is the import and export relationship of each type of fertilizer in your country over the years?"
   ]
  },
  {
   "cell_type": "markdown",
   "metadata": {},
   "source": [
    "# TASK:"
   ]
  },
  {
   "cell_type": "markdown",
   "metadata": {},
   "source": [
    "Task Details\n",
    "Fertilizers are used daily by farmers and families to help crops and gardens grow. Whether for a small garden of flowers and plants, or a large farm with thousands of acres of crops, a wide range of fertilizers have been developed to help different crops grow in different soil and weather conditions.\n",
    "\n",
    "Chemical ingredients help create fertilizers that promote plant growth and are cost effective, too. Commercial and consumer fertilizers are strictly regulated by both individual states and the federal government to ensure that they are safe for the people who use them, people nearby, and the surrounding environment.\n",
    "\n",
    "So how is fertilizer being used in your country?\n",
    "\n",
    "Expected Submission\n",
    "What is the most used fertilizer in your country over the years?\n",
    "What is the most produced in your country and how is the export?\n",
    "What is the best and worst rate of import and export (that is, ratio of imported and exported product) in your country over the years?\n",
    "\n",
    "Evaluation\n",
    "Is data visualization the most suitable? Did you achieve the goal? What can you take from the analysis of the results?"
   ]
  },
  {
   "cell_type": "code",
   "execution_count": 1,
   "metadata": {},
   "outputs": [],
   "source": [
    "import pandas as pd\n",
    "import numpy as np\n",
    "import matplotlib.pyplot as pl\n",
    "import seaborn as sns\n",
    "import warnings\n",
    "warnings.filterwarnings('ignore')\n",
    "pl.rcParams['figure.figsize']=8,6"
   ]
  },
  {
   "cell_type": "code",
   "execution_count": 4,
   "metadata": {},
   "outputs": [],
   "source": [
    "data=pd.read_csv('FertilizersProduct.csv',encoding='latin')"
   ]
  },
  {
   "cell_type": "code",
   "execution_count": 6,
   "metadata": {},
   "outputs": [
    {
     "data": {
      "text/plain": [
       "(164468, 11)"
      ]
     },
     "execution_count": 6,
     "metadata": {},
     "output_type": "execute_result"
    }
   ],
   "source": [
    "data.shape"
   ]
  },
  {
   "cell_type": "code",
   "execution_count": 7,
   "metadata": {},
   "outputs": [
    {
     "data": {
      "text/html": [
       "<div>\n",
       "<style scoped>\n",
       "    .dataframe tbody tr th:only-of-type {\n",
       "        vertical-align: middle;\n",
       "    }\n",
       "\n",
       "    .dataframe tbody tr th {\n",
       "        vertical-align: top;\n",
       "    }\n",
       "\n",
       "    .dataframe thead th {\n",
       "        text-align: right;\n",
       "    }\n",
       "</style>\n",
       "<table border=\"1\" class=\"dataframe\">\n",
       "  <thead>\n",
       "    <tr style=\"text-align: right;\">\n",
       "      <th></th>\n",
       "      <th>Area Code</th>\n",
       "      <th>Area</th>\n",
       "      <th>Item Code</th>\n",
       "      <th>Item</th>\n",
       "      <th>Element Code</th>\n",
       "      <th>Element</th>\n",
       "      <th>Year Code</th>\n",
       "      <th>Year</th>\n",
       "      <th>Unit</th>\n",
       "      <th>Value</th>\n",
       "      <th>Flag</th>\n",
       "    </tr>\n",
       "  </thead>\n",
       "  <tbody>\n",
       "    <tr>\n",
       "      <th>0</th>\n",
       "      <td>2</td>\n",
       "      <td>Afghanistan</td>\n",
       "      <td>4007</td>\n",
       "      <td>Ammonia, anhydrous</td>\n",
       "      <td>5610</td>\n",
       "      <td>Import Quantity</td>\n",
       "      <td>2011</td>\n",
       "      <td>2011</td>\n",
       "      <td>tonnes</td>\n",
       "      <td>4.49</td>\n",
       "      <td>R</td>\n",
       "    </tr>\n",
       "    <tr>\n",
       "      <th>1</th>\n",
       "      <td>2</td>\n",
       "      <td>Afghanistan</td>\n",
       "      <td>4007</td>\n",
       "      <td>Ammonia, anhydrous</td>\n",
       "      <td>5610</td>\n",
       "      <td>Import Quantity</td>\n",
       "      <td>2014</td>\n",
       "      <td>2014</td>\n",
       "      <td>tonnes</td>\n",
       "      <td>2.00</td>\n",
       "      <td>R</td>\n",
       "    </tr>\n",
       "    <tr>\n",
       "      <th>2</th>\n",
       "      <td>2</td>\n",
       "      <td>Afghanistan</td>\n",
       "      <td>4007</td>\n",
       "      <td>Ammonia, anhydrous</td>\n",
       "      <td>5610</td>\n",
       "      <td>Import Quantity</td>\n",
       "      <td>2017</td>\n",
       "      <td>2017</td>\n",
       "      <td>tonnes</td>\n",
       "      <td>2.07</td>\n",
       "      <td>R</td>\n",
       "    </tr>\n",
       "    <tr>\n",
       "      <th>3</th>\n",
       "      <td>2</td>\n",
       "      <td>Afghanistan</td>\n",
       "      <td>4007</td>\n",
       "      <td>Ammonia, anhydrous</td>\n",
       "      <td>5622</td>\n",
       "      <td>Import Value</td>\n",
       "      <td>2011</td>\n",
       "      <td>2011</td>\n",
       "      <td>1000 US$</td>\n",
       "      <td>2.69</td>\n",
       "      <td>R</td>\n",
       "    </tr>\n",
       "    <tr>\n",
       "      <th>4</th>\n",
       "      <td>2</td>\n",
       "      <td>Afghanistan</td>\n",
       "      <td>4007</td>\n",
       "      <td>Ammonia, anhydrous</td>\n",
       "      <td>5622</td>\n",
       "      <td>Import Value</td>\n",
       "      <td>2014</td>\n",
       "      <td>2014</td>\n",
       "      <td>1000 US$</td>\n",
       "      <td>1.07</td>\n",
       "      <td>R</td>\n",
       "    </tr>\n",
       "  </tbody>\n",
       "</table>\n",
       "</div>"
      ],
      "text/plain": [
       "   Area Code         Area  Item Code                Item  Element Code  \\\n",
       "0          2  Afghanistan       4007  Ammonia, anhydrous          5610   \n",
       "1          2  Afghanistan       4007  Ammonia, anhydrous          5610   \n",
       "2          2  Afghanistan       4007  Ammonia, anhydrous          5610   \n",
       "3          2  Afghanistan       4007  Ammonia, anhydrous          5622   \n",
       "4          2  Afghanistan       4007  Ammonia, anhydrous          5622   \n",
       "\n",
       "           Element  Year Code  Year      Unit  Value Flag  \n",
       "0  Import Quantity       2011  2011    tonnes   4.49    R  \n",
       "1  Import Quantity       2014  2014    tonnes   2.00    R  \n",
       "2  Import Quantity       2017  2017    tonnes   2.07    R  \n",
       "3     Import Value       2011  2011  1000 US$   2.69    R  \n",
       "4     Import Value       2014  2014  1000 US$   1.07    R  "
      ]
     },
     "execution_count": 7,
     "metadata": {},
     "output_type": "execute_result"
    }
   ],
   "source": [
    "data.head()"
   ]
  },
  {
   "cell_type": "code",
   "execution_count": 9,
   "metadata": {},
   "outputs": [
    {
     "data": {
      "text/plain": [
       "<matplotlib.axes._subplots.AxesSubplot at 0x24f9db34808>"
      ]
     },
     "execution_count": 9,
     "metadata": {},
     "output_type": "execute_result"
    },
    {
     "data": {
      "image/png": "[encoded data removed]",
      "text/plain": [
       "<Figure size 576x432 with 2 Axes>"
      ]
     },
     "metadata": {
      "needs_background": "light"
     },
     "output_type": "display_data"
    }
   ],
   "source": [
    "sns.heatmap(data.isnull())"
   ]
  },
  {
   "cell_type": "code",
   "execution_count": 11,
   "metadata": {},
   "outputs": [
    {
     "data": {
      "text/html": [
       "<div>\n",
       "<style scoped>\n",
       "    .dataframe tbody tr th:only-of-type {\n",
       "        vertical-align: middle;\n",
       "    }\n",
       "\n",
       "    .dataframe tbody tr th {\n",
       "        vertical-align: top;\n",
       "    }\n",
       "\n",
       "    .dataframe thead th {\n",
       "        text-align: right;\n",
       "    }\n",
       "</style>\n",
       "<table border=\"1\" class=\"dataframe\">\n",
       "  <thead>\n",
       "    <tr style=\"text-align: right;\">\n",
       "      <th></th>\n",
       "      <th>Area Code</th>\n",
       "      <th>Item Code</th>\n",
       "      <th>Element Code</th>\n",
       "      <th>Year Code</th>\n",
       "      <th>Year</th>\n",
       "      <th>Value</th>\n",
       "    </tr>\n",
       "  </thead>\n",
       "  <tbody>\n",
       "    <tr>\n",
       "      <th>count</th>\n",
       "      <td>164468.000000</td>\n",
       "      <td>164468.000000</td>\n",
       "      <td>164468.000000</td>\n",
       "      <td>164468.000000</td>\n",
       "      <td>164468.000000</td>\n",
       "      <td>1.644680e+05</td>\n",
       "    </tr>\n",
       "    <tr>\n",
       "      <th>mean</th>\n",
       "      <td>129.207493</td>\n",
       "      <td>4014.222098</td>\n",
       "      <td>5663.300387</td>\n",
       "      <td>2009.734125</td>\n",
       "      <td>2009.734125</td>\n",
       "      <td>9.460314e+04</td>\n",
       "    </tr>\n",
       "    <tr>\n",
       "      <th>std</th>\n",
       "      <td>73.530215</td>\n",
       "      <td>9.014672</td>\n",
       "      <td>211.588558</td>\n",
       "      <td>4.542937</td>\n",
       "      <td>4.542937</td>\n",
       "      <td>6.910195e+05</td>\n",
       "    </tr>\n",
       "    <tr>\n",
       "      <th>min</th>\n",
       "      <td>1.000000</td>\n",
       "      <td>4001.000000</td>\n",
       "      <td>5157.000000</td>\n",
       "      <td>2002.000000</td>\n",
       "      <td>2002.000000</td>\n",
       "      <td>-1.043000e+03</td>\n",
       "    </tr>\n",
       "    <tr>\n",
       "      <th>25%</th>\n",
       "      <td>66.000000</td>\n",
       "      <td>4006.000000</td>\n",
       "      <td>5610.000000</td>\n",
       "      <td>2006.000000</td>\n",
       "      <td>2006.000000</td>\n",
       "      <td>4.553000e+01</td>\n",
       "    </tr>\n",
       "    <tr>\n",
       "      <th>50%</th>\n",
       "      <td>126.000000</td>\n",
       "      <td>4014.000000</td>\n",
       "      <td>5622.000000</td>\n",
       "      <td>2010.000000</td>\n",
       "      <td>2010.000000</td>\n",
       "      <td>9.891650e+02</td>\n",
       "    </tr>\n",
       "    <tr>\n",
       "      <th>75%</th>\n",
       "      <td>196.000000</td>\n",
       "      <td>4022.000000</td>\n",
       "      <td>5910.000000</td>\n",
       "      <td>2014.000000</td>\n",
       "      <td>2014.000000</td>\n",
       "      <td>1.502811e+04</td>\n",
       "    </tr>\n",
       "    <tr>\n",
       "      <th>max</th>\n",
       "      <td>276.000000</td>\n",
       "      <td>4030.000000</td>\n",
       "      <td>5922.000000</td>\n",
       "      <td>2017.000000</td>\n",
       "      <td>2017.000000</td>\n",
       "      <td>4.904667e+07</td>\n",
       "    </tr>\n",
       "  </tbody>\n",
       "</table>\n",
       "</div>"
      ],
      "text/plain": [
       "           Area Code      Item Code   Element Code      Year Code  \\\n",
       "count  164468.000000  164468.000000  164468.000000  164468.000000   \n",
       "mean      129.207493    4014.222098    5663.300387    2009.734125   \n",
       "std        73.530215       9.014672     211.588558       4.542937   \n",
       "min         1.000000    4001.000000    5157.000000    2002.000000   \n",
       "25%        66.000000    4006.000000    5610.000000    2006.000000   \n",
       "50%       126.000000    4014.000000    5622.000000    2010.000000   \n",
       "75%       196.000000    4022.000000    5910.000000    2014.000000   \n",
       "max       276.000000    4030.000000    5922.000000    2017.000000   \n",
       "\n",
       "                Year         Value  \n",
       "count  164468.000000  1.644680e+05  \n",
       "mean     2009.734125  9.460314e+04  \n",
       "std         4.542937  6.910195e+05  \n",
       "min      2002.000000 -1.043000e+03  \n",
       "25%      2006.000000  4.553000e+01  \n",
       "50%      2010.000000  9.891650e+02  \n",
       "75%      2014.000000  1.502811e+04  \n",
       "max      2017.000000  4.904667e+07  "
      ]
     },
     "execution_count": 11,
     "metadata": {},
     "output_type": "execute_result"
    }
   ],
   "source": [
    "data.describe()"
   ]
  },
  {
   "cell_type": "code",
   "execution_count": 15,
   "metadata": {},
   "outputs": [
    {
     "data": {
      "text/plain": [
       "[<matplotlib.lines.Line2D at 0x24f9d889d88>]"
      ]
     },
     "execution_count": 15,
     "metadata": {},
     "output_type": "execute_result"
    },
    {
     "data": {
      "image/png": "[encoded data removed]",
      "text/plain": [
       "<Figure size 576x432 with 1 Axes>"
      ]
     },
     "metadata": {
      "needs_background": "light"
     },
     "output_type": "display_data"
    }
   ],
   "source": [
    "pl.plot(data['Value'])"
   ]
  },
  {
   "cell_type": "code",
   "execution_count": 19,
   "metadata": {},
   "outputs": [
    {
     "data": {
      "text/plain": [
       "23"
      ]
     },
     "execution_count": 19,
     "metadata": {},
     "output_type": "execute_result"
    }
   ],
   "source": [
    "np.argmax(np.unique(data['Area'],return_counts=True)[1])"
   ]
  },
  {
   "cell_type": "code",
   "execution_count": 21,
   "metadata": {},
   "outputs": [
    {
     "data": {
      "text/plain": [
       "'Brazil'"
      ]
     },
     "execution_count": 21,
     "metadata": {},
     "output_type": "execute_result"
    }
   ],
   "source": [
    "np.unique(data['Area'],return_counts=True)[0][23]"
   ]
  },
  {
   "cell_type": "code",
   "execution_count": 33,
   "metadata": {},
   "outputs": [
    {
     "data": {
      "text/html": [
       "<div>\n",
       "<style scoped>\n",
       "    .dataframe tbody tr th:only-of-type {\n",
       "        vertical-align: middle;\n",
       "    }\n",
       "\n",
       "    .dataframe tbody tr th {\n",
       "        vertical-align: top;\n",
       "    }\n",
       "\n",
       "    .dataframe thead th {\n",
       "        text-align: right;\n",
       "    }\n",
       "</style>\n",
       "<table border=\"1\" class=\"dataframe\">\n",
       "  <thead>\n",
       "    <tr style=\"text-align: right;\">\n",
       "      <th></th>\n",
       "      <th>Area Code</th>\n",
       "      <th>Area</th>\n",
       "      <th>Item Code</th>\n",
       "      <th>Item</th>\n",
       "      <th>Element Code</th>\n",
       "      <th>Element</th>\n",
       "      <th>Year Code</th>\n",
       "      <th>Year</th>\n",
       "      <th>Unit</th>\n",
       "      <th>Value</th>\n",
       "      <th>Flag</th>\n",
       "    </tr>\n",
       "  </thead>\n",
       "  <tbody>\n",
       "    <tr>\n",
       "      <th>18575</th>\n",
       "      <td>21</td>\n",
       "      <td>Brazil</td>\n",
       "      <td>4007</td>\n",
       "      <td>Ammonia, anhydrous</td>\n",
       "      <td>5510</td>\n",
       "      <td>Production</td>\n",
       "      <td>2002</td>\n",
       "      <td>2002</td>\n",
       "      <td>tonnes</td>\n",
       "      <td>1248009.0</td>\n",
       "      <td>Qm</td>\n",
       "    </tr>\n",
       "    <tr>\n",
       "      <th>18576</th>\n",
       "      <td>21</td>\n",
       "      <td>Brazil</td>\n",
       "      <td>4007</td>\n",
       "      <td>Ammonia, anhydrous</td>\n",
       "      <td>5510</td>\n",
       "      <td>Production</td>\n",
       "      <td>2003</td>\n",
       "      <td>2003</td>\n",
       "      <td>tonnes</td>\n",
       "      <td>1143059.0</td>\n",
       "      <td>Qm</td>\n",
       "    </tr>\n",
       "    <tr>\n",
       "      <th>18577</th>\n",
       "      <td>21</td>\n",
       "      <td>Brazil</td>\n",
       "      <td>4007</td>\n",
       "      <td>Ammonia, anhydrous</td>\n",
       "      <td>5510</td>\n",
       "      <td>Production</td>\n",
       "      <td>2004</td>\n",
       "      <td>2004</td>\n",
       "      <td>tonnes</td>\n",
       "      <td>1301483.0</td>\n",
       "      <td>Qm</td>\n",
       "    </tr>\n",
       "    <tr>\n",
       "      <th>18578</th>\n",
       "      <td>21</td>\n",
       "      <td>Brazil</td>\n",
       "      <td>4007</td>\n",
       "      <td>Ammonia, anhydrous</td>\n",
       "      <td>5510</td>\n",
       "      <td>Production</td>\n",
       "      <td>2005</td>\n",
       "      <td>2005</td>\n",
       "      <td>tonnes</td>\n",
       "      <td>1301083.0</td>\n",
       "      <td>Qm</td>\n",
       "    </tr>\n",
       "    <tr>\n",
       "      <th>18579</th>\n",
       "      <td>21</td>\n",
       "      <td>Brazil</td>\n",
       "      <td>4007</td>\n",
       "      <td>Ammonia, anhydrous</td>\n",
       "      <td>5510</td>\n",
       "      <td>Production</td>\n",
       "      <td>2006</td>\n",
       "      <td>2006</td>\n",
       "      <td>tonnes</td>\n",
       "      <td>1315421.0</td>\n",
       "      <td>Qm</td>\n",
       "    </tr>\n",
       "    <tr>\n",
       "      <th>...</th>\n",
       "      <td>...</td>\n",
       "      <td>...</td>\n",
       "      <td>...</td>\n",
       "      <td>...</td>\n",
       "      <td>...</td>\n",
       "      <td>...</td>\n",
       "      <td>...</td>\n",
       "      <td>...</td>\n",
       "      <td>...</td>\n",
       "      <td>...</td>\n",
       "      <td>...</td>\n",
       "    </tr>\n",
       "    <tr>\n",
       "      <th>20349</th>\n",
       "      <td>21</td>\n",
       "      <td>Brazil</td>\n",
       "      <td>4006</td>\n",
       "      <td>Urea and ammonium nitrate solutions (UAN)</td>\n",
       "      <td>5157</td>\n",
       "      <td>Agricultural Use</td>\n",
       "      <td>2013</td>\n",
       "      <td>2013</td>\n",
       "      <td>tonnes</td>\n",
       "      <td>0.0</td>\n",
       "      <td>Z</td>\n",
       "    </tr>\n",
       "    <tr>\n",
       "      <th>20350</th>\n",
       "      <td>21</td>\n",
       "      <td>Brazil</td>\n",
       "      <td>4006</td>\n",
       "      <td>Urea and ammonium nitrate solutions (UAN)</td>\n",
       "      <td>5157</td>\n",
       "      <td>Agricultural Use</td>\n",
       "      <td>2014</td>\n",
       "      <td>2014</td>\n",
       "      <td>tonnes</td>\n",
       "      <td>0.0</td>\n",
       "      <td>Qm</td>\n",
       "    </tr>\n",
       "    <tr>\n",
       "      <th>20351</th>\n",
       "      <td>21</td>\n",
       "      <td>Brazil</td>\n",
       "      <td>4006</td>\n",
       "      <td>Urea and ammonium nitrate solutions (UAN)</td>\n",
       "      <td>5157</td>\n",
       "      <td>Agricultural Use</td>\n",
       "      <td>2015</td>\n",
       "      <td>2015</td>\n",
       "      <td>tonnes</td>\n",
       "      <td>0.0</td>\n",
       "      <td>Qm</td>\n",
       "    </tr>\n",
       "    <tr>\n",
       "      <th>20352</th>\n",
       "      <td>21</td>\n",
       "      <td>Brazil</td>\n",
       "      <td>4006</td>\n",
       "      <td>Urea and ammonium nitrate solutions (UAN)</td>\n",
       "      <td>5157</td>\n",
       "      <td>Agricultural Use</td>\n",
       "      <td>2016</td>\n",
       "      <td>2016</td>\n",
       "      <td>tonnes</td>\n",
       "      <td>0.0</td>\n",
       "      <td>Qm</td>\n",
       "    </tr>\n",
       "    <tr>\n",
       "      <th>20353</th>\n",
       "      <td>21</td>\n",
       "      <td>Brazil</td>\n",
       "      <td>4006</td>\n",
       "      <td>Urea and ammonium nitrate solutions (UAN)</td>\n",
       "      <td>5157</td>\n",
       "      <td>Agricultural Use</td>\n",
       "      <td>2017</td>\n",
       "      <td>2017</td>\n",
       "      <td>tonnes</td>\n",
       "      <td>0.0</td>\n",
       "      <td>Qm</td>\n",
       "    </tr>\n",
       "  </tbody>\n",
       "</table>\n",
       "<p>1779 rows × 11 columns</p>\n",
       "</div>"
      ],
      "text/plain": [
       "       Area Code    Area  Item Code  \\\n",
       "18575         21  Brazil       4007   \n",
       "18576         21  Brazil       4007   \n",
       "18577         21  Brazil       4007   \n",
       "18578         21  Brazil       4007   \n",
       "18579         21  Brazil       4007   \n",
       "...          ...     ...        ...   \n",
       "20349         21  Brazil       4006   \n",
       "20350         21  Brazil       4006   \n",
       "20351         21  Brazil       4006   \n",
       "20352         21  Brazil       4006   \n",
       "20353         21  Brazil       4006   \n",
       "\n",
       "                                            Item  Element Code  \\\n",
       "18575                         Ammonia, anhydrous          5510   \n",
       "18576                         Ammonia, anhydrous          5510   \n",
       "18577                         Ammonia, anhydrous          5510   \n",
       "18578                         Ammonia, anhydrous          5510   \n",
       "18579                         Ammonia, anhydrous          5510   \n",
       "...                                          ...           ...   \n",
       "20349  Urea and ammonium nitrate solutions (UAN)          5157   \n",
       "20350  Urea and ammonium nitrate solutions (UAN)          5157   \n",
       "20351  Urea and ammonium nitrate solutions (UAN)          5157   \n",
       "20352  Urea and ammonium nitrate solutions (UAN)          5157   \n",
       "20353  Urea and ammonium nitrate solutions (UAN)          5157   \n",
       "\n",
       "                Element  Year Code  Year    Unit      Value Flag  \n",
       "18575        Production       2002  2002  tonnes  1248009.0   Qm  \n",
       "18576        Production       2003  2003  tonnes  1143059.0   Qm  \n",
       "18577        Production       2004  2004  tonnes  1301483.0   Qm  \n",
       "18578        Production       2005  2005  tonnes  1301083.0   Qm  \n",
       "18579        Production       2006  2006  tonnes  1315421.0   Qm  \n",
       "...                 ...        ...   ...     ...        ...  ...  \n",
       "20349  Agricultural Use       2013  2013  tonnes        0.0    Z  \n",
       "20350  Agricultural Use       2014  2014  tonnes        0.0   Qm  \n",
       "20351  Agricultural Use       2015  2015  tonnes        0.0   Qm  \n",
       "20352  Agricultural Use       2016  2016  tonnes        0.0   Qm  \n",
       "20353  Agricultural Use       2017  2017  tonnes        0.0   Qm  \n",
       "\n",
       "[1779 rows x 11 columns]"
      ]
     },
     "execution_count": 33,
     "metadata": {},
     "output_type": "execute_result"
    }
   ],
   "source": [
    "data[data['Area']=='Brazil']"
   ]
  },
  {
   "cell_type": "code",
   "execution_count": 70,
   "metadata": {},
   "outputs": [
    {
     "data": {
      "text/plain": [
       "Area\n",
       "Zimbabwe                     937\n",
       "Uganda                       949\n",
       "Bosnia and Herzegovina       952\n",
       "Algeria                      972\n",
       "Malawi                       978\n",
       "                            ... \n",
       "Sweden                      1575\n",
       "United States of America    1592\n",
       "Denmark                     1621\n",
       "Slovenia                    1626\n",
       "Brazil                      1779\n",
       "Name: Area, Length: 91, dtype: int64"
      ]
     },
     "execution_count": 70,
     "metadata": {},
     "output_type": "execute_result"
    }
   ],
   "source": [
    "datas=data.groupby('Area')['Area'].count().sort_values(ascending=True)[80:]\n",
    "datas"
   ]
  },
  {
   "cell_type": "code",
   "execution_count": 72,
   "metadata": {},
   "outputs": [
    {
     "data": {
      "image/png": "[encoded data removed]",
      "text/plain": [
       "<Figure size 1080x720 with 1 Axes>"
      ]
     },
     "metadata": {
      "needs_background": "light"
     },
     "output_type": "display_data"
    }
   ],
   "source": [
    "pl.figure(figsize=(15,10))\n",
    "pl.bar(range(len(datas.keys())),datas.values)\n",
    "pl.xticks(range(len(datas.keys())),datas.keys(),rotation=90)\n",
    "pl.title(\"Countries with maximum counts\")\n",
    "pl.ylabel(\"Counts\")\n",
    "pl.xlabel(\"Countries\")\n",
    "pl.show()"
   ]
  },
  {
   "cell_type": "code",
   "execution_count": 56,
   "metadata": {},
   "outputs": [
    {
     "data": {
      "text/plain": [
       "171"
      ]
     },
     "execution_count": 56,
     "metadata": {},
     "output_type": "execute_result"
    }
   ],
   "source": [
    "len(datas.keys())"
   ]
  },
  {
   "cell_type": "code",
   "execution_count": 108,
   "metadata": {},
   "outputs": [
    {
     "data": {
      "text/html": [
       "<div>\n",
       "<style scoped>\n",
       "    .dataframe tbody tr th:only-of-type {\n",
       "        vertical-align: middle;\n",
       "    }\n",
       "\n",
       "    .dataframe tbody tr th {\n",
       "        vertical-align: top;\n",
       "    }\n",
       "\n",
       "    .dataframe thead th {\n",
       "        text-align: right;\n",
       "    }\n",
       "</style>\n",
       "<table border=\"1\" class=\"dataframe\">\n",
       "  <thead>\n",
       "    <tr style=\"text-align: right;\">\n",
       "      <th></th>\n",
       "      <th>Area Code</th>\n",
       "      <th>Area</th>\n",
       "      <th>Item Code</th>\n",
       "      <th>Item</th>\n",
       "      <th>Element Code</th>\n",
       "      <th>Element</th>\n",
       "      <th>Year Code</th>\n",
       "      <th>Year</th>\n",
       "      <th>Unit</th>\n",
       "      <th>Value</th>\n",
       "      <th>Flag</th>\n",
       "    </tr>\n",
       "  </thead>\n",
       "  <tbody>\n",
       "    <tr>\n",
       "      <th>18575</th>\n",
       "      <td>21</td>\n",
       "      <td>Brazil</td>\n",
       "      <td>4007</td>\n",
       "      <td>Ammonia, anhydrous</td>\n",
       "      <td>5510</td>\n",
       "      <td>Production</td>\n",
       "      <td>2002</td>\n",
       "      <td>2002</td>\n",
       "      <td>tonnes</td>\n",
       "      <td>1248009.0</td>\n",
       "      <td>Qm</td>\n",
       "    </tr>\n",
       "    <tr>\n",
       "      <th>18576</th>\n",
       "      <td>21</td>\n",
       "      <td>Brazil</td>\n",
       "      <td>4007</td>\n",
       "      <td>Ammonia, anhydrous</td>\n",
       "      <td>5510</td>\n",
       "      <td>Production</td>\n",
       "      <td>2003</td>\n",
       "      <td>2003</td>\n",
       "      <td>tonnes</td>\n",
       "      <td>1143059.0</td>\n",
       "      <td>Qm</td>\n",
       "    </tr>\n",
       "    <tr>\n",
       "      <th>18577</th>\n",
       "      <td>21</td>\n",
       "      <td>Brazil</td>\n",
       "      <td>4007</td>\n",
       "      <td>Ammonia, anhydrous</td>\n",
       "      <td>5510</td>\n",
       "      <td>Production</td>\n",
       "      <td>2004</td>\n",
       "      <td>2004</td>\n",
       "      <td>tonnes</td>\n",
       "      <td>1301483.0</td>\n",
       "      <td>Qm</td>\n",
       "    </tr>\n",
       "    <tr>\n",
       "      <th>18578</th>\n",
       "      <td>21</td>\n",
       "      <td>Brazil</td>\n",
       "      <td>4007</td>\n",
       "      <td>Ammonia, anhydrous</td>\n",
       "      <td>5510</td>\n",
       "      <td>Production</td>\n",
       "      <td>2005</td>\n",
       "      <td>2005</td>\n",
       "      <td>tonnes</td>\n",
       "      <td>1301083.0</td>\n",
       "      <td>Qm</td>\n",
       "    </tr>\n",
       "    <tr>\n",
       "      <th>18579</th>\n",
       "      <td>21</td>\n",
       "      <td>Brazil</td>\n",
       "      <td>4007</td>\n",
       "      <td>Ammonia, anhydrous</td>\n",
       "      <td>5510</td>\n",
       "      <td>Production</td>\n",
       "      <td>2006</td>\n",
       "      <td>2006</td>\n",
       "      <td>tonnes</td>\n",
       "      <td>1315421.0</td>\n",
       "      <td>Qm</td>\n",
       "    </tr>\n",
       "    <tr>\n",
       "      <th>...</th>\n",
       "      <td>...</td>\n",
       "      <td>...</td>\n",
       "      <td>...</td>\n",
       "      <td>...</td>\n",
       "      <td>...</td>\n",
       "      <td>...</td>\n",
       "      <td>...</td>\n",
       "      <td>...</td>\n",
       "      <td>...</td>\n",
       "      <td>...</td>\n",
       "      <td>...</td>\n",
       "    </tr>\n",
       "    <tr>\n",
       "      <th>20349</th>\n",
       "      <td>21</td>\n",
       "      <td>Brazil</td>\n",
       "      <td>4006</td>\n",
       "      <td>Urea and ammonium nitrate solutions (UAN)</td>\n",
       "      <td>5157</td>\n",
       "      <td>Agricultural Use</td>\n",
       "      <td>2013</td>\n",
       "      <td>2013</td>\n",
       "      <td>tonnes</td>\n",
       "      <td>0.0</td>\n",
       "      <td>Z</td>\n",
       "    </tr>\n",
       "    <tr>\n",
       "      <th>20350</th>\n",
       "      <td>21</td>\n",
       "      <td>Brazil</td>\n",
       "      <td>4006</td>\n",
       "      <td>Urea and ammonium nitrate solutions (UAN)</td>\n",
       "      <td>5157</td>\n",
       "      <td>Agricultural Use</td>\n",
       "      <td>2014</td>\n",
       "      <td>2014</td>\n",
       "      <td>tonnes</td>\n",
       "      <td>0.0</td>\n",
       "      <td>Qm</td>\n",
       "    </tr>\n",
       "    <tr>\n",
       "      <th>20351</th>\n",
       "      <td>21</td>\n",
       "      <td>Brazil</td>\n",
       "      <td>4006</td>\n",
       "      <td>Urea and ammonium nitrate solutions (UAN)</td>\n",
       "      <td>5157</td>\n",
       "      <td>Agricultural Use</td>\n",
       "      <td>2015</td>\n",
       "      <td>2015</td>\n",
       "      <td>tonnes</td>\n",
       "      <td>0.0</td>\n",
       "      <td>Qm</td>\n",
       "    </tr>\n",
       "    <tr>\n",
       "      <th>20352</th>\n",
       "      <td>21</td>\n",
       "      <td>Brazil</td>\n",
       "      <td>4006</td>\n",
       "      <td>Urea and ammonium nitrate solutions (UAN)</td>\n",
       "      <td>5157</td>\n",
       "      <td>Agricultural Use</td>\n",
       "      <td>2016</td>\n",
       "      <td>2016</td>\n",
       "      <td>tonnes</td>\n",
       "      <td>0.0</td>\n",
       "      <td>Qm</td>\n",
       "    </tr>\n",
       "    <tr>\n",
       "      <th>20353</th>\n",
       "      <td>21</td>\n",
       "      <td>Brazil</td>\n",
       "      <td>4006</td>\n",
       "      <td>Urea and ammonium nitrate solutions (UAN)</td>\n",
       "      <td>5157</td>\n",
       "      <td>Agricultural Use</td>\n",
       "      <td>2017</td>\n",
       "      <td>2017</td>\n",
       "      <td>tonnes</td>\n",
       "      <td>0.0</td>\n",
       "      <td>Qm</td>\n",
       "    </tr>\n",
       "  </tbody>\n",
       "</table>\n",
       "<p>1779 rows × 11 columns</p>\n",
       "</div>"
      ],
      "text/plain": [
       "       Area Code    Area  Item Code  \\\n",
       "18575         21  Brazil       4007   \n",
       "18576         21  Brazil       4007   \n",
       "18577         21  Brazil       4007   \n",
       "18578         21  Brazil       4007   \n",
       "18579         21  Brazil       4007   \n",
       "...          ...     ...        ...   \n",
       "20349         21  Brazil       4006   \n",
       "20350         21  Brazil       4006   \n",
       "20351         21  Brazil       4006   \n",
       "20352         21  Brazil       4006   \n",
       "20353         21  Brazil       4006   \n",
       "\n",
       "                                            Item  Element Code  \\\n",
       "18575                         Ammonia, anhydrous          5510   \n",
       "18576                         Ammonia, anhydrous          5510   \n",
       "18577                         Ammonia, anhydrous          5510   \n",
       "18578                         Ammonia, anhydrous          5510   \n",
       "18579                         Ammonia, anhydrous          5510   \n",
       "...                                          ...           ...   \n",
       "20349  Urea and ammonium nitrate solutions (UAN)          5157   \n",
       "20350  Urea and ammonium nitrate solutions (UAN)          5157   \n",
       "20351  Urea and ammonium nitrate solutions (UAN)          5157   \n",
       "20352  Urea and ammonium nitrate solutions (UAN)          5157   \n",
       "20353  Urea and ammonium nitrate solutions (UAN)          5157   \n",
       "\n",
       "                Element  Year Code  Year    Unit      Value Flag  \n",
       "18575        Production       2002  2002  tonnes  1248009.0   Qm  \n",
       "18576        Production       2003  2003  tonnes  1143059.0   Qm  \n",
       "18577        Production       2004  2004  tonnes  1301483.0   Qm  \n",
       "18578        Production       2005  2005  tonnes  1301083.0   Qm  \n",
       "18579        Production       2006  2006  tonnes  1315421.0   Qm  \n",
       "...                 ...        ...   ...     ...        ...  ...  \n",
       "20349  Agricultural Use       2013  2013  tonnes        0.0    Z  \n",
       "20350  Agricultural Use       2014  2014  tonnes        0.0   Qm  \n",
       "20351  Agricultural Use       2015  2015  tonnes        0.0   Qm  \n",
       "20352  Agricultural Use       2016  2016  tonnes        0.0   Qm  \n",
       "20353  Agricultural Use       2017  2017  tonnes        0.0   Qm  \n",
       "\n",
       "[1779 rows x 11 columns]"
      ]
     },
     "execution_count": 108,
     "metadata": {},
     "output_type": "execute_result"
    }
   ],
   "source": [
    "brazil=data[data['Area']=='Brazil']\n",
    "brazil"
   ]
  },
  {
   "cell_type": "code",
   "execution_count": 87,
   "metadata": {},
   "outputs": [
    {
     "data": {
      "text/plain": [
       "(array(['Agricultural Use', 'Export Quantity', 'Export Value',\n",
       "        'Import Quantity', 'Import Value', 'Production'], dtype=object),\n",
       " array([252, 322, 322, 328, 328, 227], dtype=int64))"
      ]
     },
     "execution_count": 87,
     "metadata": {},
     "output_type": "execute_result"
    }
   ],
   "source": [
    "np.unique(brazil['Element'],return_counts=True)"
   ]
  },
  {
   "cell_type": "code",
   "execution_count": 88,
   "metadata": {},
   "outputs": [
    {
     "data": {
      "text/plain": [
       "[<matplotlib.lines.Line2D at 0x24facadf788>]"
      ]
     },
     "execution_count": 88,
     "metadata": {},
     "output_type": "execute_result"
    },
    {
     "data": {
      "image/png": "[encoded data removed]",
      "text/plain": [
       "<Figure size 576x432 with 1 Axes>"
      ]
     },
     "metadata": {
      "needs_background": "light"
     },
     "output_type": "display_data"
    }
   ],
   "source": [
    "pl.plot(brazil.Value[brazil['Element']=='Import Quantity'])\n",
    "pl.plot(brazil.Value[brazil['Element']=='Export Quantity'])"
   ]
  },
  {
   "cell_type": "code",
   "execution_count": 109,
   "metadata": {},
   "outputs": [
    {
     "data": {
      "image/png": "[encoded data removed]",
      "text/plain": [
       "<Figure size 576x432 with 1 Axes>"
      ]
     },
     "metadata": {
      "needs_background": "light"
     },
     "output_type": "display_data"
    }
   ],
   "source": [
    "def plot(df):\n",
    "    import_={}\n",
    "    export_={}\n",
    "    for year in df['Year'].unique():\n",
    "        import_[year]=0\n",
    "        export_[year]=0\n",
    "    \n",
    "    for year,value,element in zip(df['Year'],df['Value'],df['Element']):\n",
    "        if element=='Export Value':\n",
    "            export_[year]+=value\n",
    "        elif element=='Import Value':\n",
    "            import_[year]+=value\n",
    "    \n",
    "    pl.plot(list(import_.keys()),list(import_.values()),label=\"Import\")\n",
    "    pl.plot(list(export_.keys()),list(export_.values()),label=\"Export\")\n",
    "    pl.legend()\n",
    "    pl.title(\"Import vs export in Brazil\")\n",
    "    pl.show()\n",
    "    \n",
    "plot(brazil)"
   ]
  },
  {
   "cell_type": "code",
   "execution_count": null,
   "metadata": {},
   "outputs": [],
   "source": []
  },
  {
   "cell_type": "code",
   "execution_count": null,
   "metadata": {},
   "outputs": [],
   "source": []
  }
 ],
 "metadata": {
  "kernelspec": {
   "display_name": "Python 3",
   "language": "python",
   "name": "python3"
  },
  "language_info": {
   "codemirror_mode": {
    "name": "ipython",
    "version": 3
   },
   "file_extension": ".py",
   "mimetype": "text/x-python",
   "name": "python",
   "nbconvert_exporter": "python",
   "pygments_lexer": "ipython3",
   "version": "3.7.7"
  }
 },
 "nbformat": 4,
 "nbformat_minor": 4
}
