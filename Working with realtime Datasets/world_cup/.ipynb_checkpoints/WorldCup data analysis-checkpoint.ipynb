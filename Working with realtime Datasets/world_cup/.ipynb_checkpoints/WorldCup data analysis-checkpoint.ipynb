{
 "cells": [
  {
   "cell_type": "code",
   "execution_count": 2,
   "metadata": {},
   "outputs": [],
   "source": [
    "import pandas as pd\n",
    "import seaborn as sns\n",
    "import plotly.offline as py\n",
    "import seaborn as sns\n",
    "import matplotlib.pyplot as pl"
   ]
  },
  {
   "cell_type": "code",
   "execution_count": 3,
   "metadata": {},
   "outputs": [],
   "source": [
    "matches=pd.read_csv('WorldCupMatches.csv')\n",
    "players=pd.read_csv('WorldCupPlayers.csv')\n",
    "cups=pd.read_csv('WorldCups.csv')"
   ]
  },
  {
   "cell_type": "code",
   "execution_count": 4,
   "metadata": {},
   "outputs": [
    {
     "data": {
      "text/html": [
       "<div>\n",
       "<style scoped>\n",
       "    .dataframe tbody tr th:only-of-type {\n",
       "        vertical-align: middle;\n",
       "    }\n",
       "\n",
       "    .dataframe tbody tr th {\n",
       "        vertical-align: top;\n",
       "    }\n",
       "\n",
       "    .dataframe thead th {\n",
       "        text-align: right;\n",
       "    }\n",
       "</style>\n",
       "<table border=\"1\" class=\"dataframe\">\n",
       "  <thead>\n",
       "    <tr style=\"text-align: right;\">\n",
       "      <th></th>\n",
       "      <th>Year</th>\n",
       "      <th>Datetime</th>\n",
       "      <th>Stage</th>\n",
       "      <th>Stadium</th>\n",
       "      <th>City</th>\n",
       "      <th>Home Team Name</th>\n",
       "      <th>Home Team Goals</th>\n",
       "      <th>Away Team Goals</th>\n",
       "      <th>Away Team Name</th>\n",
       "      <th>Win conditions</th>\n",
       "      <th>Attendance</th>\n",
       "      <th>Half-time Home Goals</th>\n",
       "      <th>Half-time Away Goals</th>\n",
       "      <th>Referee</th>\n",
       "      <th>Assistant 1</th>\n",
       "      <th>Assistant 2</th>\n",
       "      <th>RoundID</th>\n",
       "      <th>MatchID</th>\n",
       "      <th>Home Team Initials</th>\n",
       "      <th>Away Team Initials</th>\n",
       "    </tr>\n",
       "  </thead>\n",
       "  <tbody>\n",
       "    <tr>\n",
       "      <th>0</th>\n",
       "      <td>1930.0</td>\n",
       "      <td>13 Jul 1930 - 15:00</td>\n",
       "      <td>Group 1</td>\n",
       "      <td>Pocitos</td>\n",
       "      <td>Montevideo</td>\n",
       "      <td>France</td>\n",
       "      <td>4.0</td>\n",
       "      <td>1.0</td>\n",
       "      <td>Mexico</td>\n",
       "      <td></td>\n",
       "      <td>4444.0</td>\n",
       "      <td>3.0</td>\n",
       "      <td>0.0</td>\n",
       "      <td>LOMBARDI Domingo (URU)</td>\n",
       "      <td>CRISTOPHE Henry (BEL)</td>\n",
       "      <td>REGO Gilberto (BRA)</td>\n",
       "      <td>201.0</td>\n",
       "      <td>1096.0</td>\n",
       "      <td>FRA</td>\n",
       "      <td>MEX</td>\n",
       "    </tr>\n",
       "    <tr>\n",
       "      <th>1</th>\n",
       "      <td>1930.0</td>\n",
       "      <td>13 Jul 1930 - 15:00</td>\n",
       "      <td>Group 4</td>\n",
       "      <td>Parque Central</td>\n",
       "      <td>Montevideo</td>\n",
       "      <td>USA</td>\n",
       "      <td>3.0</td>\n",
       "      <td>0.0</td>\n",
       "      <td>Belgium</td>\n",
       "      <td></td>\n",
       "      <td>18346.0</td>\n",
       "      <td>2.0</td>\n",
       "      <td>0.0</td>\n",
       "      <td>MACIAS Jose (ARG)</td>\n",
       "      <td>MATEUCCI Francisco (URU)</td>\n",
       "      <td>WARNKEN Alberto (CHI)</td>\n",
       "      <td>201.0</td>\n",
       "      <td>1090.0</td>\n",
       "      <td>USA</td>\n",
       "      <td>BEL</td>\n",
       "    </tr>\n",
       "    <tr>\n",
       "      <th>2</th>\n",
       "      <td>1930.0</td>\n",
       "      <td>14 Jul 1930 - 12:45</td>\n",
       "      <td>Group 2</td>\n",
       "      <td>Parque Central</td>\n",
       "      <td>Montevideo</td>\n",
       "      <td>Yugoslavia</td>\n",
       "      <td>2.0</td>\n",
       "      <td>1.0</td>\n",
       "      <td>Brazil</td>\n",
       "      <td></td>\n",
       "      <td>24059.0</td>\n",
       "      <td>2.0</td>\n",
       "      <td>0.0</td>\n",
       "      <td>TEJADA Anibal (URU)</td>\n",
       "      <td>VALLARINO Ricardo (URU)</td>\n",
       "      <td>BALWAY Thomas (FRA)</td>\n",
       "      <td>201.0</td>\n",
       "      <td>1093.0</td>\n",
       "      <td>YUG</td>\n",
       "      <td>BRA</td>\n",
       "    </tr>\n",
       "  </tbody>\n",
       "</table>\n",
       "</div>"
      ],
      "text/plain": [
       "     Year              Datetime    Stage         Stadium         City  \\\n",
       "0  1930.0  13 Jul 1930 - 15:00   Group 1         Pocitos  Montevideo    \n",
       "1  1930.0  13 Jul 1930 - 15:00   Group 4  Parque Central  Montevideo    \n",
       "2  1930.0  14 Jul 1930 - 12:45   Group 2  Parque Central  Montevideo    \n",
       "\n",
       "  Home Team Name  Home Team Goals  Away Team Goals Away Team Name  \\\n",
       "0         France              4.0              1.0         Mexico   \n",
       "1            USA              3.0              0.0        Belgium   \n",
       "2     Yugoslavia              2.0              1.0         Brazil   \n",
       "\n",
       "  Win conditions  Attendance  Half-time Home Goals  Half-time Away Goals  \\\n",
       "0                     4444.0                   3.0                   0.0   \n",
       "1                    18346.0                   2.0                   0.0   \n",
       "2                    24059.0                   2.0                   0.0   \n",
       "\n",
       "                  Referee               Assistant 1            Assistant 2  \\\n",
       "0  LOMBARDI Domingo (URU)     CRISTOPHE Henry (BEL)    REGO Gilberto (BRA)   \n",
       "1       MACIAS Jose (ARG)  MATEUCCI Francisco (URU)  WARNKEN Alberto (CHI)   \n",
       "2     TEJADA Anibal (URU)   VALLARINO Ricardo (URU)    BALWAY Thomas (FRA)   \n",
       "\n",
       "   RoundID  MatchID Home Team Initials Away Team Initials  \n",
       "0    201.0   1096.0                FRA                MEX  \n",
       "1    201.0   1090.0                USA                BEL  \n",
       "2    201.0   1093.0                YUG                BRA  "
      ]
     },
     "execution_count": 4,
     "metadata": {},
     "output_type": "execute_result"
    }
   ],
   "source": [
    "matches.head(3)"
   ]
  },
  {
   "cell_type": "code",
   "execution_count": 6,
   "metadata": {},
   "outputs": [
    {
     "data": {
      "text/html": [
       "<div>\n",
       "<style scoped>\n",
       "    .dataframe tbody tr th:only-of-type {\n",
       "        vertical-align: middle;\n",
       "    }\n",
       "\n",
       "    .dataframe tbody tr th {\n",
       "        vertical-align: top;\n",
       "    }\n",
       "\n",
       "    .dataframe thead th {\n",
       "        text-align: right;\n",
       "    }\n",
       "</style>\n",
       "<table border=\"1\" class=\"dataframe\">\n",
       "  <thead>\n",
       "    <tr style=\"text-align: right;\">\n",
       "      <th></th>\n",
       "      <th>RoundID</th>\n",
       "      <th>MatchID</th>\n",
       "      <th>Team Initials</th>\n",
       "      <th>Coach Name</th>\n",
       "      <th>Line-up</th>\n",
       "      <th>Shirt Number</th>\n",
       "      <th>Player Name</th>\n",
       "      <th>Position</th>\n",
       "      <th>Event</th>\n",
       "    </tr>\n",
       "  </thead>\n",
       "  <tbody>\n",
       "    <tr>\n",
       "      <th>0</th>\n",
       "      <td>201</td>\n",
       "      <td>1096</td>\n",
       "      <td>FRA</td>\n",
       "      <td>CAUDRON Raoul (FRA)</td>\n",
       "      <td>S</td>\n",
       "      <td>0</td>\n",
       "      <td>Alex THEPOT</td>\n",
       "      <td>GK</td>\n",
       "      <td>NaN</td>\n",
       "    </tr>\n",
       "    <tr>\n",
       "      <th>1</th>\n",
       "      <td>201</td>\n",
       "      <td>1096</td>\n",
       "      <td>MEX</td>\n",
       "      <td>LUQUE Juan (MEX)</td>\n",
       "      <td>S</td>\n",
       "      <td>0</td>\n",
       "      <td>Oscar BONFIGLIO</td>\n",
       "      <td>GK</td>\n",
       "      <td>NaN</td>\n",
       "    </tr>\n",
       "    <tr>\n",
       "      <th>2</th>\n",
       "      <td>201</td>\n",
       "      <td>1096</td>\n",
       "      <td>FRA</td>\n",
       "      <td>CAUDRON Raoul (FRA)</td>\n",
       "      <td>S</td>\n",
       "      <td>0</td>\n",
       "      <td>Marcel LANGILLER</td>\n",
       "      <td>NaN</td>\n",
       "      <td>G40'</td>\n",
       "    </tr>\n",
       "  </tbody>\n",
       "</table>\n",
       "</div>"
      ],
      "text/plain": [
       "   RoundID  MatchID Team Initials           Coach Name Line-up  Shirt Number  \\\n",
       "0      201     1096           FRA  CAUDRON Raoul (FRA)       S             0   \n",
       "1      201     1096           MEX     LUQUE Juan (MEX)       S             0   \n",
       "2      201     1096           FRA  CAUDRON Raoul (FRA)       S             0   \n",
       "\n",
       "        Player Name Position Event  \n",
       "0       Alex THEPOT       GK   NaN  \n",
       "1   Oscar BONFIGLIO       GK   NaN  \n",
       "2  Marcel LANGILLER      NaN  G40'  "
      ]
     },
     "execution_count": 6,
     "metadata": {},
     "output_type": "execute_result"
    }
   ],
   "source": [
    "players.head(3)"
   ]
  },
  {
   "cell_type": "code",
   "execution_count": 7,
   "metadata": {},
   "outputs": [
    {
     "data": {
      "text/html": [
       "<div>\n",
       "<style scoped>\n",
       "    .dataframe tbody tr th:only-of-type {\n",
       "        vertical-align: middle;\n",
       "    }\n",
       "\n",
       "    .dataframe tbody tr th {\n",
       "        vertical-align: top;\n",
       "    }\n",
       "\n",
       "    .dataframe thead th {\n",
       "        text-align: right;\n",
       "    }\n",
       "</style>\n",
       "<table border=\"1\" class=\"dataframe\">\n",
       "  <thead>\n",
       "    <tr style=\"text-align: right;\">\n",
       "      <th></th>\n",
       "      <th>Year</th>\n",
       "      <th>Country</th>\n",
       "      <th>Winner</th>\n",
       "      <th>Runners-Up</th>\n",
       "      <th>Third</th>\n",
       "      <th>Fourth</th>\n",
       "      <th>GoalsScored</th>\n",
       "      <th>QualifiedTeams</th>\n",
       "      <th>MatchesPlayed</th>\n",
       "      <th>Attendance</th>\n",
       "    </tr>\n",
       "  </thead>\n",
       "  <tbody>\n",
       "    <tr>\n",
       "      <th>0</th>\n",
       "      <td>1930</td>\n",
       "      <td>Uruguay</td>\n",
       "      <td>Uruguay</td>\n",
       "      <td>Argentina</td>\n",
       "      <td>USA</td>\n",
       "      <td>Yugoslavia</td>\n",
       "      <td>70</td>\n",
       "      <td>13</td>\n",
       "      <td>18</td>\n",
       "      <td>590.549</td>\n",
       "    </tr>\n",
       "    <tr>\n",
       "      <th>1</th>\n",
       "      <td>1934</td>\n",
       "      <td>Italy</td>\n",
       "      <td>Italy</td>\n",
       "      <td>Czechoslovakia</td>\n",
       "      <td>Germany</td>\n",
       "      <td>Austria</td>\n",
       "      <td>70</td>\n",
       "      <td>16</td>\n",
       "      <td>17</td>\n",
       "      <td>363.000</td>\n",
       "    </tr>\n",
       "    <tr>\n",
       "      <th>2</th>\n",
       "      <td>1938</td>\n",
       "      <td>France</td>\n",
       "      <td>Italy</td>\n",
       "      <td>Hungary</td>\n",
       "      <td>Brazil</td>\n",
       "      <td>Sweden</td>\n",
       "      <td>84</td>\n",
       "      <td>15</td>\n",
       "      <td>18</td>\n",
       "      <td>375.700</td>\n",
       "    </tr>\n",
       "  </tbody>\n",
       "</table>\n",
       "</div>"
      ],
      "text/plain": [
       "   Year  Country   Winner      Runners-Up    Third      Fourth  GoalsScored  \\\n",
       "0  1930  Uruguay  Uruguay       Argentina      USA  Yugoslavia           70   \n",
       "1  1934    Italy    Italy  Czechoslovakia  Germany     Austria           70   \n",
       "2  1938   France    Italy         Hungary   Brazil      Sweden           84   \n",
       "\n",
       "   QualifiedTeams  MatchesPlayed Attendance  \n",
       "0              13             18    590.549  \n",
       "1              16             17    363.000  \n",
       "2              15             18    375.700  "
      ]
     },
     "execution_count": 7,
     "metadata": {},
     "output_type": "execute_result"
    }
   ],
   "source": [
    "cups.head(3)"
   ]
  },
  {
   "cell_type": "code",
   "execution_count": 28,
   "metadata": {},
   "outputs": [],
   "source": [
    "matches_temp=matches[matches['Year'].notnull()]"
   ]
  },
  {
   "cell_type": "code",
   "execution_count": 29,
   "metadata": {},
   "outputs": [
    {
     "name": "stderr",
     "output_type": "stream",
     "text": [
      "C:\\Users\\rissu\\anaconda3\\lib\\site-packages\\ipykernel_launcher.py:1: SettingWithCopyWarning:\n",
      "\n",
      "\n",
      "A value is trying to be set on a copy of a slice from a DataFrame.\n",
      "Try using .loc[row_indexer,col_indexer] = value instead\n",
      "\n",
      "See the caveats in the documentation: https://pandas.pydata.org/pandas-docs/stable/user_guide/indexing.html#returning-a-view-versus-a-copy\n",
      "\n"
     ]
    }
   ],
   "source": [
    "matches_temp['Year']=matches_temp['Year'].astype(int)\n",
    "matches_temp=matches_temp.groupby('Year')['Attendance'].sum().reset_index()"
   ]
  },
  {
   "cell_type": "code",
   "execution_count": 31,
   "metadata": {},
   "outputs": [
    {
     "data": {
      "text/html": [
       "<div>\n",
       "<style scoped>\n",
       "    .dataframe tbody tr th:only-of-type {\n",
       "        vertical-align: middle;\n",
       "    }\n",
       "\n",
       "    .dataframe tbody tr th {\n",
       "        vertical-align: top;\n",
       "    }\n",
       "\n",
       "    .dataframe thead th {\n",
       "        text-align: right;\n",
       "    }\n",
       "</style>\n",
       "<table border=\"1\" class=\"dataframe\">\n",
       "  <thead>\n",
       "    <tr style=\"text-align: right;\">\n",
       "      <th></th>\n",
       "      <th>Year</th>\n",
       "      <th>Attendance</th>\n",
       "    </tr>\n",
       "  </thead>\n",
       "  <tbody>\n",
       "    <tr>\n",
       "      <th>0</th>\n",
       "      <td>1930</td>\n",
       "      <td>590549.0</td>\n",
       "    </tr>\n",
       "    <tr>\n",
       "      <th>1</th>\n",
       "      <td>1934</td>\n",
       "      <td>363000.0</td>\n",
       "    </tr>\n",
       "    <tr>\n",
       "      <th>2</th>\n",
       "      <td>1938</td>\n",
       "      <td>375700.0</td>\n",
       "    </tr>\n",
       "    <tr>\n",
       "      <th>3</th>\n",
       "      <td>1950</td>\n",
       "      <td>1045246.0</td>\n",
       "    </tr>\n",
       "    <tr>\n",
       "      <th>4</th>\n",
       "      <td>1954</td>\n",
       "      <td>768607.0</td>\n",
       "    </tr>\n",
       "    <tr>\n",
       "      <th>5</th>\n",
       "      <td>1958</td>\n",
       "      <td>819810.0</td>\n",
       "    </tr>\n",
       "    <tr>\n",
       "      <th>6</th>\n",
       "      <td>1962</td>\n",
       "      <td>893172.0</td>\n",
       "    </tr>\n",
       "    <tr>\n",
       "      <th>7</th>\n",
       "      <td>1966</td>\n",
       "      <td>1563135.0</td>\n",
       "    </tr>\n",
       "    <tr>\n",
       "      <th>8</th>\n",
       "      <td>1970</td>\n",
       "      <td>1603975.0</td>\n",
       "    </tr>\n",
       "    <tr>\n",
       "      <th>9</th>\n",
       "      <td>1974</td>\n",
       "      <td>1865753.0</td>\n",
       "    </tr>\n",
       "    <tr>\n",
       "      <th>10</th>\n",
       "      <td>1978</td>\n",
       "      <td>1545791.0</td>\n",
       "    </tr>\n",
       "    <tr>\n",
       "      <th>11</th>\n",
       "      <td>1982</td>\n",
       "      <td>2109723.0</td>\n",
       "    </tr>\n",
       "    <tr>\n",
       "      <th>12</th>\n",
       "      <td>1986</td>\n",
       "      <td>2394031.0</td>\n",
       "    </tr>\n",
       "    <tr>\n",
       "      <th>13</th>\n",
       "      <td>1990</td>\n",
       "      <td>2516215.0</td>\n",
       "    </tr>\n",
       "    <tr>\n",
       "      <th>14</th>\n",
       "      <td>1994</td>\n",
       "      <td>3587538.0</td>\n",
       "    </tr>\n",
       "    <tr>\n",
       "      <th>15</th>\n",
       "      <td>1998</td>\n",
       "      <td>2785100.0</td>\n",
       "    </tr>\n",
       "    <tr>\n",
       "      <th>16</th>\n",
       "      <td>2002</td>\n",
       "      <td>2705197.0</td>\n",
       "    </tr>\n",
       "    <tr>\n",
       "      <th>17</th>\n",
       "      <td>2006</td>\n",
       "      <td>3359439.0</td>\n",
       "    </tr>\n",
       "    <tr>\n",
       "      <th>18</th>\n",
       "      <td>2010</td>\n",
       "      <td>3178856.0</td>\n",
       "    </tr>\n",
       "    <tr>\n",
       "      <th>19</th>\n",
       "      <td>2014</td>\n",
       "      <td>4319243.0</td>\n",
       "    </tr>\n",
       "  </tbody>\n",
       "</table>\n",
       "</div>"
      ],
      "text/plain": [
       "    Year  Attendance\n",
       "0   1930    590549.0\n",
       "1   1934    363000.0\n",
       "2   1938    375700.0\n",
       "3   1950   1045246.0\n",
       "4   1954    768607.0\n",
       "5   1958    819810.0\n",
       "6   1962    893172.0\n",
       "7   1966   1563135.0\n",
       "8   1970   1603975.0\n",
       "9   1974   1865753.0\n",
       "10  1978   1545791.0\n",
       "11  1982   2109723.0\n",
       "12  1986   2394031.0\n",
       "13  1990   2516215.0\n",
       "14  1994   3587538.0\n",
       "15  1998   2785100.0\n",
       "16  2002   2705197.0\n",
       "17  2006   3359439.0\n",
       "18  2010   3178856.0\n",
       "19  2014   4319243.0"
      ]
     },
     "execution_count": 31,
     "metadata": {},
     "output_type": "execute_result"
    }
   ],
   "source": [
    "matches_temp"
   ]
  },
  {
   "cell_type": "code",
   "execution_count": 54,
   "metadata": {},
   "outputs": [
    {
     "data": {
      "image/png": "[encoded data removed]",
      "text/plain": [
       "<Figure size 720x576 with 1 Axes>"
      ]
     },
     "metadata": {
      "needs_background": "light"
     },
     "output_type": "display_data"
    }
   ],
   "source": [
    "pl.figure(figsize=(10,8))\n",
    "sns.barplot(matches_temp['Year'],matches_temp['Attendance'],\n",
    "           linewidth=1.2,edgecolor='k')\n",
    "pl.xticks(rotation=90)\n",
    "pl.ylim(0,4500000)\n",
    "pl.grid()\n",
    "pl.title('Attendance by year')\n",
    "pl.show()"
   ]
  },
  {
   "cell_type": "markdown",
   "metadata": {},
   "source": [
    "2014 had tha maximum attandees followed by 1994"
   ]
  },
  {
   "cell_type": "code",
   "execution_count": 55,
   "metadata": {},
   "outputs": [],
   "source": [
    "matches_notnull=matches[matches['Year'].notnull()].copy()"
   ]
  },
  {
   "cell_type": "code",
   "execution_count": 57,
   "metadata": {},
   "outputs": [],
   "source": [
    "matches_temp=matches_notnull.groupby('Year')['Attendance'].mean().reset_index()"
   ]
  },
  {
   "cell_type": "code",
   "execution_count": 67,
   "metadata": {},
   "outputs": [],
   "source": [
    "matches_temp['Year']=matches_temp['Year'].astype(int)"
   ]
  },
  {
   "cell_type": "code",
   "execution_count": 75,
   "metadata": {},
   "outputs": [
    {
     "data": {
      "image/png": "[encoded data removed]",
      "text/plain": [
       "<Figure size 720x432 with 1 Axes>"
      ]
     },
     "metadata": {
      "needs_background": "light"
     },
     "output_type": "display_data"
    }
   ],
   "source": [
    "pl.figure(figsize=(10,6))\n",
    "pl.plot(matches_temp['Attendance'],marker='o')\n",
    "pl.xticks(range(len(matches_temp)),matches_temp['Year'],rotation=90)\n",
    "pl.show()"
   ]
  },
  {
   "cell_type": "code",
   "execution_count": 83,
   "metadata": {},
   "outputs": [
    {
     "data": {
      "image/png": "[encoded data removed]",
      "text/plain": [
       "<Figure size 720x432 with 1 Axes>"
      ]
     },
     "metadata": {
      "needs_background": "light"
     },
     "output_type": "display_data"
    }
   ],
   "source": [
    "pl.figure(figsize=(10,6))\n",
    "ax=sns.pointplot(matches_temp['Year'],matches_temp['Attendance'],color='w')\n",
    "ax.set_facecolor('k')\n",
    "pl.grid(color='c',alpha=0.5)\n",
    "pl.show()"
   ]
  },
  {
   "cell_type": "code",
   "execution_count": 85,
   "metadata": {},
   "outputs": [
    {
     "data": {
      "text/html": [
       "<div>\n",
       "<style scoped>\n",
       "    .dataframe tbody tr th:only-of-type {\n",
       "        vertical-align: middle;\n",
       "    }\n",
       "\n",
       "    .dataframe tbody tr th {\n",
       "        vertical-align: top;\n",
       "    }\n",
       "\n",
       "    .dataframe thead th {\n",
       "        text-align: right;\n",
       "    }\n",
       "</style>\n",
       "<table border=\"1\" class=\"dataframe\">\n",
       "  <thead>\n",
       "    <tr style=\"text-align: right;\">\n",
       "      <th></th>\n",
       "      <th>Year</th>\n",
       "      <th>Country</th>\n",
       "      <th>Winner</th>\n",
       "      <th>Runners-Up</th>\n",
       "      <th>Third</th>\n",
       "      <th>Fourth</th>\n",
       "      <th>GoalsScored</th>\n",
       "      <th>QualifiedTeams</th>\n",
       "      <th>MatchesPlayed</th>\n",
       "      <th>Attendance</th>\n",
       "    </tr>\n",
       "  </thead>\n",
       "  <tbody>\n",
       "    <tr>\n",
       "      <th>0</th>\n",
       "      <td>1930</td>\n",
       "      <td>Uruguay</td>\n",
       "      <td>Uruguay</td>\n",
       "      <td>Argentina</td>\n",
       "      <td>USA</td>\n",
       "      <td>Yugoslavia</td>\n",
       "      <td>70</td>\n",
       "      <td>13</td>\n",
       "      <td>18</td>\n",
       "      <td>590.549</td>\n",
       "    </tr>\n",
       "    <tr>\n",
       "      <th>1</th>\n",
       "      <td>1934</td>\n",
       "      <td>Italy</td>\n",
       "      <td>Italy</td>\n",
       "      <td>Czechoslovakia</td>\n",
       "      <td>Germany</td>\n",
       "      <td>Austria</td>\n",
       "      <td>70</td>\n",
       "      <td>16</td>\n",
       "      <td>17</td>\n",
       "      <td>363.000</td>\n",
       "    </tr>\n",
       "    <tr>\n",
       "      <th>2</th>\n",
       "      <td>1938</td>\n",
       "      <td>France</td>\n",
       "      <td>Italy</td>\n",
       "      <td>Hungary</td>\n",
       "      <td>Brazil</td>\n",
       "      <td>Sweden</td>\n",
       "      <td>84</td>\n",
       "      <td>15</td>\n",
       "      <td>18</td>\n",
       "      <td>375.700</td>\n",
       "    </tr>\n",
       "    <tr>\n",
       "      <th>3</th>\n",
       "      <td>1950</td>\n",
       "      <td>Brazil</td>\n",
       "      <td>Uruguay</td>\n",
       "      <td>Brazil</td>\n",
       "      <td>Sweden</td>\n",
       "      <td>Spain</td>\n",
       "      <td>88</td>\n",
       "      <td>13</td>\n",
       "      <td>22</td>\n",
       "      <td>1.045.246</td>\n",
       "    </tr>\n",
       "    <tr>\n",
       "      <th>4</th>\n",
       "      <td>1954</td>\n",
       "      <td>Switzerland</td>\n",
       "      <td>Germany FR</td>\n",
       "      <td>Hungary</td>\n",
       "      <td>Austria</td>\n",
       "      <td>Uruguay</td>\n",
       "      <td>140</td>\n",
       "      <td>16</td>\n",
       "      <td>26</td>\n",
       "      <td>768.607</td>\n",
       "    </tr>\n",
       "    <tr>\n",
       "      <th>5</th>\n",
       "      <td>1958</td>\n",
       "      <td>Sweden</td>\n",
       "      <td>Brazil</td>\n",
       "      <td>Sweden</td>\n",
       "      <td>France</td>\n",
       "      <td>Germany FR</td>\n",
       "      <td>126</td>\n",
       "      <td>16</td>\n",
       "      <td>35</td>\n",
       "      <td>819.810</td>\n",
       "    </tr>\n",
       "    <tr>\n",
       "      <th>6</th>\n",
       "      <td>1962</td>\n",
       "      <td>Chile</td>\n",
       "      <td>Brazil</td>\n",
       "      <td>Czechoslovakia</td>\n",
       "      <td>Chile</td>\n",
       "      <td>Yugoslavia</td>\n",
       "      <td>89</td>\n",
       "      <td>16</td>\n",
       "      <td>32</td>\n",
       "      <td>893.172</td>\n",
       "    </tr>\n",
       "    <tr>\n",
       "      <th>7</th>\n",
       "      <td>1966</td>\n",
       "      <td>England</td>\n",
       "      <td>England</td>\n",
       "      <td>Germany FR</td>\n",
       "      <td>Portugal</td>\n",
       "      <td>Soviet Union</td>\n",
       "      <td>89</td>\n",
       "      <td>16</td>\n",
       "      <td>32</td>\n",
       "      <td>1.563.135</td>\n",
       "    </tr>\n",
       "    <tr>\n",
       "      <th>8</th>\n",
       "      <td>1970</td>\n",
       "      <td>Mexico</td>\n",
       "      <td>Brazil</td>\n",
       "      <td>Italy</td>\n",
       "      <td>Germany FR</td>\n",
       "      <td>Uruguay</td>\n",
       "      <td>95</td>\n",
       "      <td>16</td>\n",
       "      <td>32</td>\n",
       "      <td>1.603.975</td>\n",
       "    </tr>\n",
       "    <tr>\n",
       "      <th>9</th>\n",
       "      <td>1974</td>\n",
       "      <td>Germany</td>\n",
       "      <td>Germany FR</td>\n",
       "      <td>Netherlands</td>\n",
       "      <td>Poland</td>\n",
       "      <td>Brazil</td>\n",
       "      <td>97</td>\n",
       "      <td>16</td>\n",
       "      <td>38</td>\n",
       "      <td>1.865.753</td>\n",
       "    </tr>\n",
       "    <tr>\n",
       "      <th>10</th>\n",
       "      <td>1978</td>\n",
       "      <td>Argentina</td>\n",
       "      <td>Argentina</td>\n",
       "      <td>Netherlands</td>\n",
       "      <td>Brazil</td>\n",
       "      <td>Italy</td>\n",
       "      <td>102</td>\n",
       "      <td>16</td>\n",
       "      <td>38</td>\n",
       "      <td>1.545.791</td>\n",
       "    </tr>\n",
       "    <tr>\n",
       "      <th>11</th>\n",
       "      <td>1982</td>\n",
       "      <td>Spain</td>\n",
       "      <td>Italy</td>\n",
       "      <td>Germany FR</td>\n",
       "      <td>Poland</td>\n",
       "      <td>France</td>\n",
       "      <td>146</td>\n",
       "      <td>24</td>\n",
       "      <td>52</td>\n",
       "      <td>2.109.723</td>\n",
       "    </tr>\n",
       "    <tr>\n",
       "      <th>12</th>\n",
       "      <td>1986</td>\n",
       "      <td>Mexico</td>\n",
       "      <td>Argentina</td>\n",
       "      <td>Germany FR</td>\n",
       "      <td>France</td>\n",
       "      <td>Belgium</td>\n",
       "      <td>132</td>\n",
       "      <td>24</td>\n",
       "      <td>52</td>\n",
       "      <td>2.394.031</td>\n",
       "    </tr>\n",
       "    <tr>\n",
       "      <th>13</th>\n",
       "      <td>1990</td>\n",
       "      <td>Italy</td>\n",
       "      <td>Germany FR</td>\n",
       "      <td>Argentina</td>\n",
       "      <td>Italy</td>\n",
       "      <td>England</td>\n",
       "      <td>115</td>\n",
       "      <td>24</td>\n",
       "      <td>52</td>\n",
       "      <td>2.516.215</td>\n",
       "    </tr>\n",
       "    <tr>\n",
       "      <th>14</th>\n",
       "      <td>1994</td>\n",
       "      <td>USA</td>\n",
       "      <td>Brazil</td>\n",
       "      <td>Italy</td>\n",
       "      <td>Sweden</td>\n",
       "      <td>Bulgaria</td>\n",
       "      <td>141</td>\n",
       "      <td>24</td>\n",
       "      <td>52</td>\n",
       "      <td>3.587.538</td>\n",
       "    </tr>\n",
       "    <tr>\n",
       "      <th>15</th>\n",
       "      <td>1998</td>\n",
       "      <td>France</td>\n",
       "      <td>France</td>\n",
       "      <td>Brazil</td>\n",
       "      <td>Croatia</td>\n",
       "      <td>Netherlands</td>\n",
       "      <td>171</td>\n",
       "      <td>32</td>\n",
       "      <td>64</td>\n",
       "      <td>2.785.100</td>\n",
       "    </tr>\n",
       "    <tr>\n",
       "      <th>16</th>\n",
       "      <td>2002</td>\n",
       "      <td>Korea/Japan</td>\n",
       "      <td>Brazil</td>\n",
       "      <td>Germany</td>\n",
       "      <td>Turkey</td>\n",
       "      <td>Korea Republic</td>\n",
       "      <td>161</td>\n",
       "      <td>32</td>\n",
       "      <td>64</td>\n",
       "      <td>2.705.197</td>\n",
       "    </tr>\n",
       "    <tr>\n",
       "      <th>17</th>\n",
       "      <td>2006</td>\n",
       "      <td>Germany</td>\n",
       "      <td>Italy</td>\n",
       "      <td>France</td>\n",
       "      <td>Germany</td>\n",
       "      <td>Portugal</td>\n",
       "      <td>147</td>\n",
       "      <td>32</td>\n",
       "      <td>64</td>\n",
       "      <td>3.359.439</td>\n",
       "    </tr>\n",
       "    <tr>\n",
       "      <th>18</th>\n",
       "      <td>2010</td>\n",
       "      <td>South Africa</td>\n",
       "      <td>Spain</td>\n",
       "      <td>Netherlands</td>\n",
       "      <td>Germany</td>\n",
       "      <td>Uruguay</td>\n",
       "      <td>145</td>\n",
       "      <td>32</td>\n",
       "      <td>64</td>\n",
       "      <td>3.178.856</td>\n",
       "    </tr>\n",
       "    <tr>\n",
       "      <th>19</th>\n",
       "      <td>2014</td>\n",
       "      <td>Brazil</td>\n",
       "      <td>Germany</td>\n",
       "      <td>Argentina</td>\n",
       "      <td>Netherlands</td>\n",
       "      <td>Brazil</td>\n",
       "      <td>171</td>\n",
       "      <td>32</td>\n",
       "      <td>64</td>\n",
       "      <td>3.386.810</td>\n",
       "    </tr>\n",
       "  </tbody>\n",
       "</table>\n",
       "</div>"
      ],
      "text/plain": [
       "    Year       Country      Winner      Runners-Up        Third  \\\n",
       "0   1930       Uruguay     Uruguay       Argentina          USA   \n",
       "1   1934         Italy       Italy  Czechoslovakia      Germany   \n",
       "2   1938        France       Italy         Hungary       Brazil   \n",
       "3   1950        Brazil     Uruguay          Brazil       Sweden   \n",
       "4   1954   Switzerland  Germany FR         Hungary      Austria   \n",
       "5   1958        Sweden      Brazil          Sweden       France   \n",
       "6   1962         Chile      Brazil  Czechoslovakia        Chile   \n",
       "7   1966       England     England      Germany FR     Portugal   \n",
       "8   1970        Mexico      Brazil           Italy   Germany FR   \n",
       "9   1974       Germany  Germany FR     Netherlands       Poland   \n",
       "10  1978     Argentina   Argentina     Netherlands       Brazil   \n",
       "11  1982         Spain       Italy      Germany FR       Poland   \n",
       "12  1986        Mexico   Argentina      Germany FR       France   \n",
       "13  1990         Italy  Germany FR       Argentina        Italy   \n",
       "14  1994           USA      Brazil           Italy       Sweden   \n",
       "15  1998        France      France          Brazil      Croatia   \n",
       "16  2002   Korea/Japan      Brazil         Germany       Turkey   \n",
       "17  2006       Germany       Italy          France      Germany   \n",
       "18  2010  South Africa       Spain     Netherlands      Germany   \n",
       "19  2014        Brazil     Germany       Argentina  Netherlands   \n",
       "\n",
       "            Fourth  GoalsScored  QualifiedTeams  MatchesPlayed Attendance  \n",
       "0       Yugoslavia           70              13             18    590.549  \n",
       "1          Austria           70              16             17    363.000  \n",
       "2           Sweden           84              15             18    375.700  \n",
       "3            Spain           88              13             22  1.045.246  \n",
       "4          Uruguay          140              16             26    768.607  \n",
       "5       Germany FR          126              16             35    819.810  \n",
       "6       Yugoslavia           89              16             32    893.172  \n",
       "7     Soviet Union           89              16             32  1.563.135  \n",
       "8          Uruguay           95              16             32  1.603.975  \n",
       "9           Brazil           97              16             38  1.865.753  \n",
       "10           Italy          102              16             38  1.545.791  \n",
       "11          France          146              24             52  2.109.723  \n",
       "12         Belgium          132              24             52  2.394.031  \n",
       "13         England          115              24             52  2.516.215  \n",
       "14        Bulgaria          141              24             52  3.587.538  \n",
       "15     Netherlands          171              32             64  2.785.100  \n",
       "16  Korea Republic          161              32             64  2.705.197  \n",
       "17        Portugal          147              32             64  3.359.439  \n",
       "18         Uruguay          145              32             64  3.178.856  \n",
       "19          Brazil          171              32             64  3.386.810  "
      ]
     },
     "execution_count": 85,
     "metadata": {},
     "output_type": "execute_result"
    }
   ],
   "source": [
    "cups"
   ]
  },
  {
   "cell_type": "code",
   "execution_count": 132,
   "metadata": {},
   "outputs": [
    {
     "data": {
      "image/png": "[encoded data removed]",
      "text/plain": [
       "<Figure size 720x432 with 1 Axes>"
      ]
     },
     "metadata": {
      "needs_background": "light"
     },
     "output_type": "display_data"
    }
   ],
   "source": [
    "cups_t=cups.copy()\n",
    "cups_t['Year']=cups_t['Year'].astype(str)\n",
    "pl.figure(figsize=(10,6))\n",
    "ax=pl.scatter(data=cups_t,x='Year',y='GoalsScored',c=cups_t['GoalsScored'],s=500,\n",
    "          edgecolor='k',linewidth=1,)\n",
    "pl.xticks(cups_t['Year'].unique())\n",
    "pl.xticks(rotation=45)\n",
    "pl.grid(alpha=0.4)"
   ]
  },
  {
   "cell_type": "code",
   "execution_count": 129,
   "metadata": {},
   "outputs": [
    {
     "data": {
      "text/plain": [
       "array(['1930', '1934', '1938', '1950', '1954', '1958', '1962', '1966',\n",
       "       '1970', '1974', '1978', '1982', '1986', '1990', '1994', '1998',\n",
       "       '2002', '2006', '2010', '2014'], dtype=object)"
      ]
     },
     "execution_count": 129,
     "metadata": {},
     "output_type": "execute_result"
    }
   ],
   "source": [
    "cups_t['Year'].unique()"
   ]
  },
  {
   "cell_type": "code",
   "execution_count": null,
   "metadata": {},
   "outputs": [],
   "source": []
  },
  {
   "cell_type": "code",
   "execution_count": null,
   "metadata": {},
   "outputs": [],
   "source": []
  },
  {
   "cell_type": "code",
   "execution_count": null,
   "metadata": {},
   "outputs": [],
   "source": []
  },
  {
   "cell_type": "code",
   "execution_count": null,
   "metadata": {},
   "outputs": [],
   "source": []
  },
  {
   "cell_type": "code",
   "execution_count": null,
   "metadata": {},
   "outputs": [],
   "source": []
  },
  {
   "cell_type": "code",
   "execution_count": null,
   "metadata": {},
   "outputs": [],
   "source": []
  },
  {
   "cell_type": "code",
   "execution_count": null,
   "metadata": {},
   "outputs": [],
   "source": []
  },
  {
   "cell_type": "code",
   "execution_count": null,
   "metadata": {},
   "outputs": [],
   "source": []
  },
  {
   "cell_type": "code",
   "execution_count": null,
   "metadata": {},
   "outputs": [],
   "source": []
  },
  {
   "cell_type": "code",
   "execution_count": null,
   "metadata": {},
   "outputs": [],
   "source": []
  },
  {
   "cell_type": "code",
   "execution_count": null,
   "metadata": {},
   "outputs": [],
   "source": []
  },
  {
   "cell_type": "code",
   "execution_count": null,
   "metadata": {},
   "outputs": [],
   "source": []
  },
  {
   "cell_type": "code",
   "execution_count": null,
   "metadata": {},
   "outputs": [],
   "source": []
  },
  {
   "cell_type": "code",
   "execution_count": null,
   "metadata": {},
   "outputs": [],
   "source": []
  },
  {
   "cell_type": "code",
   "execution_count": null,
   "metadata": {},
   "outputs": [],
   "source": []
  },
  {
   "cell_type": "code",
   "execution_count": null,
   "metadata": {},
   "outputs": [],
   "source": []
  },
  {
   "cell_type": "code",
   "execution_count": null,
   "metadata": {},
   "outputs": [],
   "source": []
  },
  {
   "cell_type": "code",
   "execution_count": null,
   "metadata": {},
   "outputs": [],
   "source": []
  },
  {
   "cell_type": "code",
   "execution_count": null,
   "metadata": {},
   "outputs": [],
   "source": []
  },
  {
   "cell_type": "code",
   "execution_count": null,
   "metadata": {},
   "outputs": [],
   "source": []
  },
  {
   "cell_type": "code",
   "execution_count": null,
   "metadata": {},
   "outputs": [],
   "source": []
  },
  {
   "cell_type": "code",
   "execution_count": null,
   "metadata": {},
   "outputs": [],
   "source": []
  },
  {
   "cell_type": "code",
   "execution_count": null,
   "metadata": {},
   "outputs": [],
   "source": []
  },
  {
   "cell_type": "code",
   "execution_count": null,
   "metadata": {},
   "outputs": [],
   "source": []
  },
  {
   "cell_type": "code",
   "execution_count": null,
   "metadata": {},
   "outputs": [],
   "source": []
  },
  {
   "cell_type": "code",
   "execution_count": null,
   "metadata": {},
   "outputs": [],
   "source": []
  },
  {
   "cell_type": "code",
   "execution_count": null,
   "metadata": {},
   "outputs": [],
   "source": []
  },
  {
   "cell_type": "code",
   "execution_count": null,
   "metadata": {},
   "outputs": [],
   "source": []
  },
  {
   "cell_type": "code",
   "execution_count": null,
   "metadata": {},
   "outputs": [],
   "source": []
  },
  {
   "cell_type": "code",
   "execution_count": null,
   "metadata": {},
   "outputs": [],
   "source": []
  },
  {
   "cell_type": "code",
   "execution_count": null,
   "metadata": {},
   "outputs": [],
   "source": []
  },
  {
   "cell_type": "code",
   "execution_count": null,
   "metadata": {},
   "outputs": [],
   "source": []
  },
  {
   "cell_type": "code",
   "execution_count": null,
   "metadata": {},
   "outputs": [],
   "source": []
  },
  {
   "cell_type": "code",
   "execution_count": null,
   "metadata": {},
   "outputs": [],
   "source": []
  },
  {
   "cell_type": "code",
   "execution_count": null,
   "metadata": {},
   "outputs": [],
   "source": []
  },
  {
   "cell_type": "code",
   "execution_count": null,
   "metadata": {},
   "outputs": [],
   "source": []
  },
  {
   "cell_type": "code",
   "execution_count": null,
   "metadata": {},
   "outputs": [],
   "source": []
  },
  {
   "cell_type": "code",
   "execution_count": null,
   "metadata": {},
   "outputs": [],
   "source": []
  },
  {
   "cell_type": "code",
   "execution_count": null,
   "metadata": {},
   "outputs": [],
   "source": []
  },
  {
   "cell_type": "code",
   "execution_count": null,
   "metadata": {},
   "outputs": [],
   "source": []
  },
  {
   "cell_type": "code",
   "execution_count": null,
   "metadata": {},
   "outputs": [],
   "source": []
  },
  {
   "cell_type": "code",
   "execution_count": null,
   "metadata": {},
   "outputs": [],
   "source": []
  },
  {
   "cell_type": "code",
   "execution_count": null,
   "metadata": {},
   "outputs": [],
   "source": []
  },
  {
   "cell_type": "code",
   "execution_count": null,
   "metadata": {},
   "outputs": [],
   "source": []
  },
  {
   "cell_type": "code",
   "execution_count": null,
   "metadata": {},
   "outputs": [],
   "source": []
  },
  {
   "cell_type": "code",
   "execution_count": null,
   "metadata": {},
   "outputs": [],
   "source": []
  },
  {
   "cell_type": "code",
   "execution_count": null,
   "metadata": {},
   "outputs": [],
   "source": []
  },
  {
   "cell_type": "code",
   "execution_count": null,
   "metadata": {},
   "outputs": [],
   "source": []
  },
  {
   "cell_type": "code",
   "execution_count": null,
   "metadata": {},
   "outputs": [],
   "source": []
  },
  {
   "cell_type": "code",
   "execution_count": null,
   "metadata": {},
   "outputs": [],
   "source": []
  },
  {
   "cell_type": "code",
   "execution_count": null,
   "metadata": {},
   "outputs": [],
   "source": []
  },
  {
   "cell_type": "code",
   "execution_count": null,
   "metadata": {},
   "outputs": [],
   "source": []
  },
  {
   "cell_type": "code",
   "execution_count": null,
   "metadata": {},
   "outputs": [],
   "source": []
  },
  {
   "cell_type": "code",
   "execution_count": null,
   "metadata": {},
   "outputs": [],
   "source": []
  },
  {
   "cell_type": "code",
   "execution_count": null,
   "metadata": {},
   "outputs": [],
   "source": []
  },
  {
   "cell_type": "code",
   "execution_count": null,
   "metadata": {},
   "outputs": [],
   "source": []
  },
  {
   "cell_type": "code",
   "execution_count": null,
   "metadata": {},
   "outputs": [],
   "source": []
  },
  {
   "cell_type": "code",
   "execution_count": null,
   "metadata": {},
   "outputs": [],
   "source": []
  },
  {
   "cell_type": "code",
   "execution_count": null,
   "metadata": {},
   "outputs": [],
   "source": []
  },
  {
   "cell_type": "code",
   "execution_count": null,
   "metadata": {},
   "outputs": [],
   "source": []
  },
  {
   "cell_type": "code",
   "execution_count": null,
   "metadata": {},
   "outputs": [],
   "source": []
  },
  {
   "cell_type": "code",
   "execution_count": null,
   "metadata": {},
   "outputs": [],
   "source": []
  },
  {
   "cell_type": "code",
   "execution_count": null,
   "metadata": {},
   "outputs": [],
   "source": []
  },
  {
   "cell_type": "code",
   "execution_count": null,
   "metadata": {},
   "outputs": [],
   "source": []
  },
  {
   "cell_type": "code",
   "execution_count": null,
   "metadata": {},
   "outputs": [],
   "source": []
  },
  {
   "cell_type": "code",
   "execution_count": null,
   "metadata": {},
   "outputs": [],
   "source": []
  },
  {
   "cell_type": "code",
   "execution_count": null,
   "metadata": {},
   "outputs": [],
   "source": []
  }
 ],
 "metadata": {
  "kernelspec": {
   "display_name": "Python 3",
   "language": "python",
   "name": "python3"
  },
  "language_info": {
   "codemirror_mode": {
    "name": "ipython",
    "version": 3
   },
   "file_extension": ".py",
   "mimetype": "text/x-python",
   "name": "python",
   "nbconvert_exporter": "python",
   "pygments_lexer": "ipython3",
   "version": "3.7.7"
  }
 },
 "nbformat": 4,
 "nbformat_minor": 4
}
