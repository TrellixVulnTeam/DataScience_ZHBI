{
 "cells": [
  {
   "cell_type": "code",
   "execution_count": 1,
   "metadata": {},
   "outputs": [],
   "source": [
    "%matplotlib inline\n",
    "import matplotlib.pyplot as plt\n",
    "import numpy as np\n",
    "import seaborn as sns; sns.set()"
   ]
  },
  {
   "cell_type": "code",
   "execution_count": 2,
   "metadata": {},
   "outputs": [],
   "source": [
    "points = np.vstack(((np.random.randn(150, 2) * 0.75 + np.array([1, 0])),\n",
    "                  (np.random.randn(50, 2) * 0.25 + np.array([-0.5, 0.5])),\n",
    "                  (np.random.randn(50, 2) * 0.5 + np.array([-0.5, -0.5]))))"
   ]
  },
  {
   "cell_type": "code",
   "execution_count": 3,
   "metadata": {},
   "outputs": [
    {
     "data": {
      "text/plain": [
       "array([[ 2.40638514e-01,  1.11283778e+00],\n",
       "       [ 2.70458207e-01, -6.87488794e-01],\n",
       "       [ 4.96527819e-01, -8.33163999e-01],\n",
       "       [ 1.02771579e+00,  1.75476262e-01],\n",
       "       [ 2.33420088e+00,  3.55629740e-01],\n",
       "       [ 7.99304498e-02,  4.93255624e-01],\n",
       "       [ 1.97649789e+00, -2.01649399e-01],\n",
       "       [ 5.03896636e-01, -6.19101926e-01],\n",
       "       [ 1.99151727e+00, -5.31934701e-01],\n",
       "       [ 3.51692850e-01, -4.41367639e-02],\n",
       "       [ 8.49916735e-01,  1.33608800e-01],\n",
       "       [-1.65897363e-01, -5.91019492e-01],\n",
       "       [ 9.43040232e-01,  6.03369204e-02],\n",
       "       [ 8.82604698e-01, -2.11491691e-01],\n",
       "       [ 7.38734970e-01,  8.21380931e-01],\n",
       "       [ 1.06162180e+00,  1.36698796e-01],\n",
       "       [ 1.08853455e+00,  5.90806854e-01],\n",
       "       [ 1.02446966e+00, -8.38525786e-01],\n",
       "       [ 1.16197132e+00,  3.70124952e-01],\n",
       "       [ 9.41483387e-01, -7.37853798e-03],\n",
       "       [ 5.97929024e-01,  3.79357172e-01],\n",
       "       [ 1.30079396e+00,  1.28239095e+00],\n",
       "       [ 3.36180108e-01,  2.33781124e-01],\n",
       "       [-2.40640150e-01,  1.84156551e-01],\n",
       "       [ 1.52694704e+00,  1.39555301e+00],\n",
       "       [ 9.34098673e-01, -9.69300206e-02],\n",
       "       [ 9.48797674e-01, -2.48540688e+00],\n",
       "       [ 9.12616092e-01, -3.92557611e-01],\n",
       "       [ 1.24700988e+00, -8.65558288e-01],\n",
       "       [ 5.00297337e-01, -8.21282351e-02],\n",
       "       [ 8.75890345e-01,  9.20759472e-01],\n",
       "       [ 2.34957327e+00,  1.56286881e+00],\n",
       "       [ 2.82691498e-01, -6.09184356e-01],\n",
       "       [ 5.89940037e-01, -2.00554034e-01],\n",
       "       [ 1.72861948e+00, -6.70759085e-01],\n",
       "       [ 1.91299655e+00,  4.36430486e-01],\n",
       "       [ 1.26202259e+00, -5.27648836e-01],\n",
       "       [ 9.91815068e-02,  3.10709622e-01],\n",
       "       [ 2.38935343e+00,  7.15324784e-02],\n",
       "       [ 7.19103106e-01, -8.50353262e-01],\n",
       "       [ 1.27320288e+00, -1.07863965e+00],\n",
       "       [ 3.05746497e-01,  9.47867255e-01],\n",
       "       [ 9.25205773e-01, -2.30394272e-01],\n",
       "       [ 1.78948228e+00, -5.72291824e-01],\n",
       "       [ 1.04062969e+00, -5.03706847e-01],\n",
       "       [ 1.65999636e+00, -3.15499674e-01],\n",
       "       [ 2.81537058e-01,  5.75998588e-01],\n",
       "       [ 4.85213353e-01, -5.30644672e-01],\n",
       "       [ 6.19557150e-01, -4.18567269e-01],\n",
       "       [ 1.45593145e+00, -5.00131047e-01],\n",
       "       [ 1.23281444e+00,  8.44850096e-01],\n",
       "       [ 5.53312385e-01,  5.20807642e-01],\n",
       "       [ 1.35667047e+00,  2.23448418e-01],\n",
       "       [ 1.23695219e+00,  4.80566153e-02],\n",
       "       [ 1.48326475e+00, -1.67159263e-01],\n",
       "       [ 7.12622905e-01, -1.31360442e+00],\n",
       "       [ 2.17940750e+00,  1.69858025e+00],\n",
       "       [-2.94640133e-01,  5.92240185e-01],\n",
       "       [ 5.62904972e-01,  8.36079756e-01],\n",
       "       [ 1.50941571e+00,  6.60564875e-01],\n",
       "       [ 2.70650107e-02,  6.61019405e-02],\n",
       "       [ 1.00181954e+00,  1.01419073e+00],\n",
       "       [ 1.36317156e+00, -8.17154497e-01],\n",
       "       [ 5.82115252e-02,  3.42317118e-01],\n",
       "       [ 1.68235354e+00,  7.32741964e-02],\n",
       "       [ 3.89612686e-01, -1.45823005e+00],\n",
       "       [ 9.48908079e-01,  1.53642508e-01],\n",
       "       [ 6.94859493e-01, -6.31948162e-01],\n",
       "       [ 8.88754053e-01, -8.05195749e-01],\n",
       "       [ 1.22093572e+00, -5.29195718e-01],\n",
       "       [ 7.69874910e-01,  1.13884923e-02],\n",
       "       [ 1.20170656e+00, -1.21325342e+00],\n",
       "       [ 1.56397175e+00,  8.12154406e-02],\n",
       "       [ 1.23288522e+00,  1.12419230e+00],\n",
       "       [ 1.43141870e+00, -6.17652671e-02],\n",
       "       [ 1.09448971e+00, -8.26541957e-01],\n",
       "       [ 5.55422953e-02,  5.64929013e-01],\n",
       "       [-2.88144990e-01, -5.67925623e-02],\n",
       "       [ 2.49397655e+00, -1.35853428e-01],\n",
       "       [ 1.09979015e+00,  3.60188903e-01],\n",
       "       [ 4.18199295e-01,  2.83616490e-01],\n",
       "       [ 4.05192579e-01, -2.45776240e-01],\n",
       "       [ 8.07877503e-01,  7.59541732e-01],\n",
       "       [ 2.59163775e+00, -6.62532569e-02],\n",
       "       [ 1.20210947e+00, -8.45412584e-01],\n",
       "       [-1.76886410e-01, -3.04811554e-02],\n",
       "       [ 1.45574801e+00,  1.08590270e-01],\n",
       "       [ 2.57653057e+00,  5.20856611e-01],\n",
       "       [ 1.81237079e+00, -7.60362684e-01],\n",
       "       [ 6.31591526e-01,  1.05254011e+00],\n",
       "       [ 3.31961774e-02,  6.16312964e-01],\n",
       "       [ 1.61279951e+00, -1.03572400e-01],\n",
       "       [ 2.73498953e-01,  2.94996700e-01],\n",
       "       [ 1.58916722e+00, -8.70968813e-01],\n",
       "       [ 1.04883933e+00,  4.77008697e-01],\n",
       "       [ 1.07317753e+00, -4.56259930e-01],\n",
       "       [ 1.18921261e+00,  9.22853325e-01],\n",
       "       [ 3.55749195e-01, -1.56031535e+00],\n",
       "       [ 1.99364701e+00,  1.65862865e+00],\n",
       "       [ 1.52456797e+00, -6.26220935e-03],\n",
       "       [ 1.77633196e+00,  2.96753636e-01],\n",
       "       [ 1.34053907e+00, -7.74882873e-01],\n",
       "       [ 7.12764873e-01, -4.29278081e-01],\n",
       "       [ 4.04508146e-01,  9.50827295e-01],\n",
       "       [ 1.04242797e+00, -8.67863440e-01],\n",
       "       [ 2.27281134e+00, -1.51074788e-01],\n",
       "       [ 1.35907743e-01,  1.31503317e+00],\n",
       "       [ 5.74892604e-01, -5.58827368e-01],\n",
       "       [ 1.56006476e+00,  6.00665409e-01],\n",
       "       [ 8.78299169e-01,  2.44848273e-01],\n",
       "       [ 2.79411931e-01, -2.79975226e-01],\n",
       "       [ 6.50439777e-01,  9.34926744e-01],\n",
       "       [-8.74314872e-02,  1.60306378e-01],\n",
       "       [ 7.12775615e-01,  6.54191876e-01],\n",
       "       [ 6.29314633e-01,  1.41180797e+00],\n",
       "       [ 7.68049043e-01,  3.59231845e-01],\n",
       "       [ 1.43725357e+00,  6.72177639e-01],\n",
       "       [ 7.12316157e-01,  6.80907246e-01],\n",
       "       [ 1.07107518e+00, -3.79070360e-01],\n",
       "       [ 2.88599719e-01, -5.36268259e-01],\n",
       "       [ 1.88794548e+00, -3.68502431e-01],\n",
       "       [-1.17790714e-01,  1.24097607e+00],\n",
       "       [-5.80566050e-01, -5.89019333e-01],\n",
       "       [ 1.67256225e+00,  8.86535264e-01],\n",
       "       [ 1.70937762e+00, -6.88297478e-01],\n",
       "       [ 1.31533847e+00, -7.74532061e-01],\n",
       "       [ 4.29083660e-01,  7.90954348e-01],\n",
       "       [ 1.69734775e+00,  8.28255892e-01],\n",
       "       [ 1.45956052e+00,  3.10181867e-01],\n",
       "       [ 1.27272202e+00,  2.82673039e-01],\n",
       "       [ 2.60567140e-02,  4.20769439e-01],\n",
       "       [ 1.07648363e+00, -4.12912537e-01],\n",
       "       [ 1.09725567e+00,  7.93002124e-01],\n",
       "       [ 2.18409388e+00, -5.80870120e-01],\n",
       "       [ 1.73445606e+00, -2.74540390e-01],\n",
       "       [-1.02793744e-01, -1.45245618e+00],\n",
       "       [ 2.05546334e+00, -2.08707520e-01],\n",
       "       [ 1.41030012e+00,  8.47601528e-02],\n",
       "       [ 8.76802343e-01, -1.42050104e+00],\n",
       "       [ 5.24348128e-01,  8.89439113e-01],\n",
       "       [ 4.87592500e-01, -6.45343972e-01],\n",
       "       [ 9.83489849e-02, -5.27320792e-01],\n",
       "       [-6.43739791e-01,  1.03061082e+00],\n",
       "       [ 2.05776395e-03,  3.16755848e-01],\n",
       "       [ 8.67714280e-01,  9.10627721e-02],\n",
       "       [ 3.43309277e-01, -7.01809722e-02],\n",
       "       [ 3.04168834e-01, -3.40089434e-01],\n",
       "       [ 2.70028219e+00,  1.48942050e-01],\n",
       "       [ 1.28138928e+00, -6.46907705e-01],\n",
       "       [ 1.43335030e+00,  1.02806882e+00],\n",
       "       [-7.30354483e-01,  6.20790846e-01],\n",
       "       [-7.92852883e-01,  2.71470943e-01],\n",
       "       [-2.46429098e-01,  2.82425679e-01],\n",
       "       [-8.39408288e-01,  6.91921794e-01],\n",
       "       [-4.76217655e-01,  7.22058103e-01],\n",
       "       [-2.94273654e-01,  5.00169420e-01],\n",
       "       [-6.53353508e-01,  3.78383773e-01],\n",
       "       [-6.00282129e-01,  4.12671840e-01],\n",
       "       [-8.12302195e-01,  9.20871381e-01],\n",
       "       [-5.94215091e-01,  3.61158978e-02],\n",
       "       [-6.70348505e-01,  4.33009335e-01],\n",
       "       [-7.39423314e-01,  6.37217138e-01],\n",
       "       [-1.62515740e-01,  5.86311754e-01],\n",
       "       [-1.18169359e+00,  6.61819526e-01],\n",
       "       [-5.03629212e-01,  2.49827935e-01],\n",
       "       [-3.10005442e-01,  8.05216755e-01],\n",
       "       [-9.03596332e-01,  6.56461401e-01],\n",
       "       [-9.72158376e-01,  1.50906664e-01],\n",
       "       [-6.53810231e-02,  9.75569101e-01],\n",
       "       [-8.51502126e-01,  7.09412037e-01],\n",
       "       [ 8.78407635e-02,  1.60024083e-01],\n",
       "       [-8.52916717e-01,  7.98760324e-01],\n",
       "       [-2.80784960e-01,  3.14647233e-01],\n",
       "       [-3.31879749e-01,  4.63325227e-01],\n",
       "       [-6.02271481e-01,  4.61276548e-01],\n",
       "       [-1.38313081e-01,  3.94403287e-01],\n",
       "       [-7.49413320e-01,  1.39472923e-01],\n",
       "       [-7.34905948e-01, -2.31819831e-01],\n",
       "       [-6.58614983e-01,  3.85005663e-01],\n",
       "       [-5.37362759e-01,  4.87341664e-01],\n",
       "       [-2.55794446e-01,  3.95794889e-01],\n",
       "       [-4.18140945e-01,  9.48540053e-01],\n",
       "       [-4.55758649e-01,  7.01757255e-01],\n",
       "       [-3.68439843e-01,  8.48930926e-01],\n",
       "       [-3.32259539e-01,  4.37205024e-01],\n",
       "       [ 5.17462760e-02,  5.12519467e-01],\n",
       "       [-3.29475947e-01,  6.51208977e-01],\n",
       "       [-5.02880102e-01,  7.37467613e-01],\n",
       "       [-1.18087324e-01,  4.23604228e-01],\n",
       "       [-4.11567504e-01,  2.67937820e-01],\n",
       "       [-7.20026529e-01,  4.14537917e-01],\n",
       "       [-1.06733630e-01,  7.82787454e-01],\n",
       "       [-6.73314117e-01,  4.83783604e-01],\n",
       "       [-7.06861311e-01,  9.56742940e-01],\n",
       "       [-3.13776602e-01,  2.09542377e-01],\n",
       "       [-6.08877016e-01,  1.76120951e-01],\n",
       "       [-5.37600114e-01,  3.08362687e-01],\n",
       "       [-7.30545808e-01,  3.96439736e-01],\n",
       "       [-3.48927597e-02,  4.62286119e-01],\n",
       "       [-1.58051916e-01,  9.37526583e-01],\n",
       "       [-1.93085251e+00, -3.17691117e-01],\n",
       "       [-1.48560036e+00, -5.52716373e-01],\n",
       "       [-4.89732435e-01, -7.36504830e-01],\n",
       "       [-7.83445137e-01, -1.50827473e-01],\n",
       "       [-3.23589421e-01, -5.38147872e-01],\n",
       "       [-6.02924887e-01, -1.02313132e+00],\n",
       "       [-7.39735373e-01, -3.60885297e-01],\n",
       "       [ 2.73750079e-01, -3.44007069e-01],\n",
       "       [-5.43084070e-01, -1.67610479e+00],\n",
       "       [-2.90262478e-02,  3.29780069e-01],\n",
       "       [ 1.73419699e-02, -4.46205649e-01],\n",
       "       [-2.55399500e-01, -8.69691598e-01],\n",
       "       [-9.15133863e-02,  2.13927732e-01],\n",
       "       [-1.50884735e-01,  2.53209671e-01],\n",
       "       [ 9.55403631e-02, -3.71697573e-01],\n",
       "       [-3.77611748e-01,  2.53502162e-01],\n",
       "       [-2.41399859e-01, -3.40692935e-01],\n",
       "       [-9.07354053e-01, -9.75963988e-01],\n",
       "       [-2.09666232e-01, -1.52792169e-01],\n",
       "       [ 4.52201587e-01, -8.48526286e-01],\n",
       "       [-7.65023570e-01, -4.07587283e-01],\n",
       "       [-7.12820916e-01, -7.00661703e-01],\n",
       "       [-1.73128008e+00, -3.99180693e-01],\n",
       "       [-1.56847320e+00, -6.66757744e-01],\n",
       "       [-3.03911940e-01,  4.24881134e-01],\n",
       "       [-1.03072200e+00, -4.99035718e-01],\n",
       "       [-1.10956264e+00, -5.15530132e-01],\n",
       "       [-7.04109571e-01, -4.87841301e-01],\n",
       "       [-9.51968596e-01,  8.98697547e-02],\n",
       "       [-3.37316984e-01, -5.27610034e-01],\n",
       "       [ 4.48297238e-01, -6.71335120e-02],\n",
       "       [-4.94458320e-01, -1.15305747e+00],\n",
       "       [-3.24330928e-01, -8.35689033e-01],\n",
       "       [-3.16688761e-01, -1.35767812e+00],\n",
       "       [-2.23246033e-01,  8.84758513e-02],\n",
       "       [-6.90738803e-01, -1.16691195e+00],\n",
       "       [-3.22277747e-01, -6.34578957e-01],\n",
       "       [-2.49988650e-01, -7.49458442e-01],\n",
       "       [-4.17720279e-01, -3.86717332e-01],\n",
       "       [-5.90691694e-01, -1.75682190e-01],\n",
       "       [ 6.30130396e-01, -1.61300732e+00],\n",
       "       [-1.79837835e-01, -2.67999582e-01],\n",
       "       [-6.39930099e-01, -8.54180703e-01],\n",
       "       [ 5.87953872e-02, -1.07128756e+00],\n",
       "       [-1.81954299e-01, -1.01991882e+00],\n",
       "       [-1.09057221e+00, -1.34253425e+00],\n",
       "       [-8.20400308e-01, -1.96466417e-01],\n",
       "       [-1.16911567e+00, -4.29958744e-01],\n",
       "       [-1.29280944e-01, -1.27101677e+00],\n",
       "       [-7.15857106e-01, -1.27134484e+00]])"
      ]
     },
     "execution_count": 3,
     "metadata": {},
     "output_type": "execute_result"
    }
   ],
   "source": [
    "points"
   ]
  },
  {
   "cell_type": "code",
   "execution_count": 4,
   "metadata": {},
   "outputs": [
    {
     "data": {
      "text/plain": [
       "<matplotlib.axes._subplots.AxesSubplot at 0x1c05f82a3c8>"
      ]
     },
     "execution_count": 4,
     "metadata": {},
     "output_type": "execute_result"
    },
    {
     "data": {
      "image/png": "[encoded data removed]",
      "text/plain": [
       "<Figure size 432x288 with 1 Axes>"
      ]
     },
     "metadata": {},
     "output_type": "display_data"
    }
   ],
   "source": [
    "sns.distplot(points[:,0])"
   ]
  },
  {
   "cell_type": "code",
   "execution_count": 5,
   "metadata": {},
   "outputs": [
    {
     "data": {
      "text/plain": [
       "<matplotlib.axes._subplots.AxesSubplot at 0x1c060006bc8>"
      ]
     },
     "execution_count": 5,
     "metadata": {},
     "output_type": "execute_result"
    },
    {
     "data": {
      "image/png": "[encoded data removed]",
      "text/plain": [
       "<Figure size 432x288 with 1 Axes>"
      ]
     },
     "metadata": {},
     "output_type": "display_data"
    }
   ],
   "source": [
    "sns.distplot(points[:,1])"
   ]
  },
  {
   "cell_type": "code",
   "execution_count": null,
   "metadata": {},
   "outputs": [],
   "source": []
  },
  {
   "cell_type": "code",
   "execution_count": null,
   "metadata": {},
   "outputs": [],
   "source": []
  },
  {
   "cell_type": "code",
   "execution_count": null,
   "metadata": {},
   "outputs": [],
   "source": []
  },
  {
   "cell_type": "code",
   "execution_count": null,
   "metadata": {},
   "outputs": [],
   "source": []
  },
  {
   "cell_type": "code",
   "execution_count": null,
   "metadata": {},
   "outputs": [],
   "source": []
  },
  {
   "cell_type": "code",
   "execution_count": null,
   "metadata": {},
   "outputs": [],
   "source": []
  },
  {
   "cell_type": "code",
   "execution_count": null,
   "metadata": {},
   "outputs": [],
   "source": []
  },
  {
   "cell_type": "code",
   "execution_count": null,
   "metadata": {},
   "outputs": [],
   "source": []
  },
  {
   "cell_type": "code",
   "execution_count": null,
   "metadata": {},
   "outputs": [],
   "source": []
  },
  {
   "cell_type": "code",
   "execution_count": null,
   "metadata": {},
   "outputs": [],
   "source": []
  },
  {
   "cell_type": "code",
   "execution_count": null,
   "metadata": {},
   "outputs": [],
   "source": []
  },
  {
   "cell_type": "code",
   "execution_count": null,
   "metadata": {},
   "outputs": [],
   "source": []
  },
  {
   "cell_type": "code",
   "execution_count": null,
   "metadata": {},
   "outputs": [],
   "source": []
  },
  {
   "cell_type": "code",
   "execution_count": null,
   "metadata": {},
   "outputs": [],
   "source": []
  },
  {
   "cell_type": "code",
   "execution_count": null,
   "metadata": {},
   "outputs": [],
   "source": []
  },
  {
   "cell_type": "code",
   "execution_count": null,
   "metadata": {},
   "outputs": [],
   "source": []
  },
  {
   "cell_type": "code",
   "execution_count": null,
   "metadata": {},
   "outputs": [],
   "source": []
  },
  {
   "cell_type": "code",
   "execution_count": null,
   "metadata": {},
   "outputs": [],
   "source": []
  },
  {
   "cell_type": "code",
   "execution_count": null,
   "metadata": {},
   "outputs": [],
   "source": []
  },
  {
   "cell_type": "code",
   "execution_count": null,
   "metadata": {},
   "outputs": [],
   "source": []
  },
  {
   "cell_type": "code",
   "execution_count": null,
   "metadata": {},
   "outputs": [],
   "source": []
  },
  {
   "cell_type": "code",
   "execution_count": null,
   "metadata": {},
   "outputs": [],
   "source": []
  },
  {
   "cell_type": "code",
   "execution_count": null,
   "metadata": {},
   "outputs": [],
   "source": []
  },
  {
   "cell_type": "code",
   "execution_count": null,
   "metadata": {},
   "outputs": [],
   "source": []
  },
  {
   "cell_type": "code",
   "execution_count": null,
   "metadata": {},
   "outputs": [],
   "source": []
  },
  {
   "cell_type": "code",
   "execution_count": null,
   "metadata": {},
   "outputs": [],
   "source": []
  },
  {
   "cell_type": "code",
   "execution_count": null,
   "metadata": {},
   "outputs": [],
   "source": []
  },
  {
   "cell_type": "code",
   "execution_count": null,
   "metadata": {},
   "outputs": [],
   "source": []
  },
  {
   "cell_type": "code",
   "execution_count": null,
   "metadata": {},
   "outputs": [],
   "source": []
  },
  {
   "cell_type": "code",
   "execution_count": null,
   "metadata": {},
   "outputs": [],
   "source": []
  }
 ],
 "metadata": {
  "kernelspec": {
   "display_name": "Python 3",
   "language": "python",
   "name": "python3"
  },
  "language_info": {
   "codemirror_mode": {
    "name": "ipython",
    "version": 3
   },
   "file_extension": ".py",
   "mimetype": "text/x-python",
   "name": "python",
   "nbconvert_exporter": "python",
   "pygments_lexer": "ipython3",
   "version": "3.7.7"
  }
 },
 "nbformat": 4,
 "nbformat_minor": 4
}
