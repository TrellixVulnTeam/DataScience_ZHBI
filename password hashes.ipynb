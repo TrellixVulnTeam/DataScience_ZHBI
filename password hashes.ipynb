{
 "cells": [
  {
   "cell_type": "code",
   "execution_count": 6,
   "id": "2991b1c8",
   "metadata": {},
   "outputs": [],
   "source": [
    "import bcrypt\n",
    "from werkzeug.security import generate_password_hash, check_password_hash\n"
   ]
  },
  {
   "cell_type": "code",
   "execution_count": 8,
   "id": "4165531d",
   "metadata": {},
   "outputs": [],
   "source": [
    "secret_key = \"as456r7t8y92ehiudwgysftg#$%^&*UGVCTDR$%^&FYVG&T^R%DTRYV\"\n",
    "password = \"abcd1234efgh\""
   ]
  },
  {
   "cell_type": "code",
   "execution_count": 18,
   "id": "e25d0c1d",
   "metadata": {},
   "outputs": [],
   "source": [
    "def set_password(password):\n",
    "    password_hash = generate_password_hash(password)\n",
    "    return password_hash\n",
    "\n",
    "def check_password(password_hash, password):\n",
    "    return check_password_hash(password_hash, password)"
   ]
  },
  {
   "cell_type": "code",
   "execution_count": 22,
   "id": "6131f1f9",
   "metadata": {},
   "outputs": [
    {
     "data": {
      "text/plain": [
       "'pbkdf2:sha256:260000$fGOPtfvphAPmw1JN$8a1e970805dfce4bbbefb505a6711aeaaa482dd1b1aa57a99351d7815c4f68f8'"
      ]
     },
     "execution_count": 22,
     "metadata": {},
     "output_type": "execute_result"
    }
   ],
   "source": [
    "pw_hash = set_password(password)\n",
    "pw_hash"
   ]
  },
  {
   "cell_type": "code",
   "execution_count": 21,
   "id": "d9d78923",
   "metadata": {},
   "outputs": [
    {
     "data": {
      "text/plain": [
       "True"
      ]
     },
     "execution_count": 21,
     "metadata": {},
     "output_type": "execute_result"
    }
   ],
   "source": [
    "check_password(pw_hash,password)"
   ]
  },
  {
   "cell_type": "code",
   "execution_count": null,
   "id": "698e1e83",
   "metadata": {},
   "outputs": [],
   "source": []
  },
  {
   "cell_type": "code",
   "execution_count": null,
   "id": "b066ef38",
   "metadata": {},
   "outputs": [],
   "source": []
  },
  {
   "cell_type": "code",
   "execution_count": null,
   "id": "ab9467d4",
   "metadata": {},
   "outputs": [],
   "source": []
  },
  {
   "cell_type": "code",
   "execution_count": null,
   "id": "6ecc2c66",
   "metadata": {},
   "outputs": [],
   "source": []
  },
  {
   "cell_type": "code",
   "execution_count": null,
   "id": "78d286b9",
   "metadata": {},
   "outputs": [],
   "source": []
  },
  {
   "cell_type": "code",
   "execution_count": null,
   "id": "6ebebb7a",
   "metadata": {},
   "outputs": [],
   "source": []
  },
  {
   "cell_type": "code",
   "execution_count": null,
   "id": "913410ca",
   "metadata": {},
   "outputs": [],
   "source": []
  },
  {
   "cell_type": "code",
   "execution_count": null,
   "id": "cc41f04b",
   "metadata": {},
   "outputs": [],
   "source": []
  },
  {
   "cell_type": "code",
   "execution_count": null,
   "id": "dfb72cca",
   "metadata": {},
   "outputs": [],
   "source": []
  }
 ],
 "metadata": {
  "kernelspec": {
   "display_name": "Python 3",
   "language": "python",
   "name": "python3"
  },
  "language_info": {
   "codemirror_mode": {
    "name": "ipython",
    "version": 3
   },
   "file_extension": ".py",
   "mimetype": "text/x-python",
   "name": "python",
   "nbconvert_exporter": "python",
   "pygments_lexer": "ipython3",
   "version": "3.9.5"
  }
 },
 "nbformat": 4,
 "nbformat_minor": 5
}
