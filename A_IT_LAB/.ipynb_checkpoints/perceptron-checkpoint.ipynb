{
 "cells": [
  {
   "cell_type": "code",
   "execution_count": 64,
   "metadata": {},
   "outputs": [
    {
     "name": "stdout",
     "output_type": "stream",
     "text": [
      "1\n",
      "1\n",
      "0\n",
      "1\n",
      "1\n"
     ]
    }
   ],
   "source": [
    "import numpy as np\n",
    "\n",
    "class Perceptron(object):\n",
    "    def __init__(self,no_of_inputs,thresold=100,learning_rate=0.01):\n",
    "        # Thresold is number of epochs, learning rate is magnitude of \n",
    "        # change of our weights during each step\n",
    "        self.thresold=thresold\n",
    "        self.learning_rate=learning_rate\n",
    "        self.weights=np.zeros(no_of_inputs+1)\n",
    "        self.count=0\n",
    "        \n",
    "    def predict(self,inputs):\n",
    "        summation=np.dot(inputs,self.weights[1:])+self.weights[0]\n",
    "        if summation>0:\n",
    "            activation=1\n",
    "        else:\n",
    "            activation=0\n",
    "        return activation\n",
    "    def train(self,training_inputs,labels):\n",
    "        for _ in range(self.thresold):\n",
    "            for inputs,label in zip(training_inputs,labels):\n",
    "                prediction=self.predict(inputs)\n",
    "                self.weights[1:]+=self.learning_rate*(label-prediction)*inputs\n",
    "                self.weights[0]+=self.learning_rate*(label-prediction)\n",
    "                \n",
    "training_inputs=np.array([[1,1,1],[1,1,0],[1,0,1],[1,0,0],[0,1,1],\n",
    "                         [0,1,0],[0,0,1],[0,0,0]])\n",
    "labels=np.array([1,1,1,1,1,1,1,0])\n",
    "pereptron=Perceptron(3)\n",
    "pereptron.train(training_inputs,labels)\n",
    "input1=np.array([1,1,1])\n",
    "print(pereptron.predict(input1))\n",
    "input2=np.array([0,0,1])\n",
    "print(pereptron.predict(input2))\n",
    "print(pereptron.predict([0,0,0]))\n",
    "print(pereptron.predict([0,0,1]))\n",
    "print(pereptron.predict([1,1,1]))\n"
   ]
  }
 ],
 "metadata": {
  "kernelspec": {
   "display_name": "Python 3",
   "language": "python",
   "name": "python3"
  },
  "language_info": {
   "codemirror_mode": {
    "name": "ipython",
    "version": 3
   },
   "file_extension": ".py",
   "mimetype": "text/x-python",
   "name": "python",
   "nbconvert_exporter": "python",
   "pygments_lexer": "ipython3",
   "version": "3.7.6"
  }
 },
 "nbformat": 4,
 "nbformat_minor": 2
}
