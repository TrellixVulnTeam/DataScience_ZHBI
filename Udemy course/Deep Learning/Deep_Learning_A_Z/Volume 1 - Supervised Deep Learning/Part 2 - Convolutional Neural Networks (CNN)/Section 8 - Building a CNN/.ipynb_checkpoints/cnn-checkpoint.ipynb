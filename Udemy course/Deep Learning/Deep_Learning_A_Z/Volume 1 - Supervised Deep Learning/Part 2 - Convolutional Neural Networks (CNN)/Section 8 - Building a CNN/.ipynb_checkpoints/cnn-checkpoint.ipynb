{
 "cells": [
  {
   "cell_type": "code",
   "execution_count": 1,
   "metadata": {},
   "outputs": [
    {
     "name": "stderr",
     "output_type": "stream",
     "text": [
      "Using TensorFlow backend.\n"
     ]
    }
   ],
   "source": [
    "import keras\n",
    "from keras.models import Sequential\n",
    "from keras.layers import Convolution2D\n",
    "from keras.layers import MaxPooling2D\n",
    "from keras.layers import Flatten\n",
    "from keras.layers import Dense\n",
    "from keras.preprocessing.image import ImageDataGenerator\n"
   ]
  },
  {
   "cell_type": "code",
   "execution_count": 2,
   "metadata": {},
   "outputs": [],
   "source": [
    "classifier=Sequential()"
   ]
  },
  {
   "cell_type": "code",
   "execution_count": 3,
   "metadata": {},
   "outputs": [
    {
     "name": "stderr",
     "output_type": "stream",
     "text": [
      "C:\\Users\\rissu\\anaconda3\\lib\\site-packages\\ipykernel_launcher.py:3: UserWarning: Update your `Conv2D` call to the Keras 2 API: `Conv2D(32, (3, 3), input_shape=(64, 64, 3..., activation=\"relu\")`\n",
      "  This is separate from the ipykernel package so we can avoid doing imports until\n"
     ]
    }
   ],
   "source": [
    "classifier.add(Convolution2D(32,3,3,\n",
    "                  input_shape=(64,64,3),\n",
    "                    activation='relu'))"
   ]
  },
  {
   "cell_type": "code",
   "execution_count": 4,
   "metadata": {},
   "outputs": [],
   "source": [
    "classifier.add(MaxPooling2D(pool_size=(2,2)))"
   ]
  },
  {
   "cell_type": "code",
   "execution_count": 5,
   "metadata": {},
   "outputs": [
    {
     "name": "stderr",
     "output_type": "stream",
     "text": [
      "C:\\Users\\rissu\\anaconda3\\lib\\site-packages\\ipykernel_launcher.py:1: UserWarning: Update your `Conv2D` call to the Keras 2 API: `Conv2D(32, (3, 3), activation=\"relu\")`\n",
      "  \"\"\"Entry point for launching an IPython kernel.\n"
     ]
    }
   ],
   "source": [
    "# classifier.add(Convolution2D(32,3,3,activation='relu'))\n",
    "# classifier.add(MaxPooling2D(pool_size=(2,2)))"
   ]
  },
  {
   "cell_type": "code",
   "execution_count": 6,
   "metadata": {},
   "outputs": [],
   "source": [
    "classifier.add(Flatten())"
   ]
  },
  {
   "cell_type": "code",
   "execution_count": 7,
   "metadata": {},
   "outputs": [
    {
     "name": "stderr",
     "output_type": "stream",
     "text": [
      "C:\\Users\\rissu\\anaconda3\\lib\\site-packages\\ipykernel_launcher.py:2: UserWarning: Update your `Dense` call to the Keras 2 API: `Dense(activation=\"relu\", units=128)`\n",
      "  \n"
     ]
    }
   ],
   "source": [
    "classifier.add(Dense(output_dim=128,\n",
    "                    activation='relu'))"
   ]
  },
  {
   "cell_type": "code",
   "execution_count": 8,
   "metadata": {},
   "outputs": [
    {
     "name": "stderr",
     "output_type": "stream",
     "text": [
      "C:\\Users\\rissu\\anaconda3\\lib\\site-packages\\ipykernel_launcher.py:2: UserWarning: Update your `Dense` call to the Keras 2 API: `Dense(activation=\"sigmoid\", units=1)`\n",
      "  \n"
     ]
    }
   ],
   "source": [
    "classifier.add(Dense(output_dim=1,\n",
    "                    activation='sigmoid'))"
   ]
  },
  {
   "cell_type": "code",
   "execution_count": 9,
   "metadata": {},
   "outputs": [],
   "source": [
    "classifier.compile(optimizer='adam',\n",
    "                  loss='binary_crossentropy',\n",
    "                  metrics=['accuracy'])"
   ]
  },
  {
   "cell_type": "code",
   "execution_count": 10,
   "metadata": {},
   "outputs": [],
   "source": [
    "train_datagen = ImageDataGenerator(\n",
    "        rescale=1./255,\n",
    "        shear_range=0.2,\n",
    "        zoom_range=0.2,\n",
    "        horizontal_flip=True)\n",
    "\n"
   ]
  },
  {
   "cell_type": "code",
   "execution_count": 11,
   "metadata": {},
   "outputs": [],
   "source": [
    "test_datagen = ImageDataGenerator(rescale=1./255)\n"
   ]
  },
  {
   "cell_type": "code",
   "execution_count": 12,
   "metadata": {},
   "outputs": [
    {
     "name": "stdout",
     "output_type": "stream",
     "text": [
      "Found 8000 images belonging to 2 classes.\n"
     ]
    }
   ],
   "source": [
    "training_set = train_datagen.flow_from_directory(\n",
    "        'dataset/training_set/',\n",
    "        target_size=(64, 64),\n",
    "        batch_size=32,\n",
    "        class_mode='binary')\n",
    "\n"
   ]
  },
  {
   "cell_type": "code",
   "execution_count": 13,
   "metadata": {},
   "outputs": [
    {
     "name": "stdout",
     "output_type": "stream",
     "text": [
      "Found 2000 images belonging to 2 classes.\n"
     ]
    }
   ],
   "source": [
    "test_set = test_datagen.flow_from_directory(\n",
    "        'dataset/test_set/',\n",
    "        target_size=(64, 64),\n",
    "        batch_size=32,\n",
    "        class_mode='binary')\n",
    "\n"
   ]
  },
  {
   "cell_type": "code",
   "execution_count": 14,
   "metadata": {},
   "outputs": [
    {
     "name": "stdout",
     "output_type": "stream",
     "text": [
      "Epoch 1/25\n",
      "8000/8000 [==============================] - 796s 99ms/step - loss: 0.3688 - accuracy: 0.8262 - val_loss: 0.6696 - val_accuracy: 0.7899\n",
      "Epoch 2/25\n",
      "8000/8000 [==============================] - 772s 96ms/step - loss: 0.1051 - accuracy: 0.9602 - val_loss: 0.9504 - val_accuracy: 0.7894\n",
      "Epoch 3/25\n",
      "8000/8000 [==============================] - 809s 101ms/step - loss: 0.0551 - accuracy: 0.9804 - val_loss: 1.0969 - val_accuracy: 0.7875\n",
      "Epoch 4/25\n",
      "8000/8000 [==============================] - 800s 100ms/step - loss: 0.0404 - accuracy: 0.9864 - val_loss: 0.8262 - val_accuracy: 0.7859\n",
      "Epoch 5/25\n",
      "8000/8000 [==============================] - 764s 96ms/step - loss: 0.0321 - accuracy: 0.9891 - val_loss: 1.0323 - val_accuracy: 0.7834\n",
      "Epoch 6/25\n",
      "8000/8000 [==============================] - 766s 96ms/step - loss: 0.0269 - accuracy: 0.9909 - val_loss: 2.3282 - val_accuracy: 0.7893\n",
      "Epoch 7/25\n",
      "8000/8000 [==============================] - 763s 95ms/step - loss: 0.0234 - accuracy: 0.9923 - val_loss: 2.3852 - val_accuracy: 0.7968\n",
      "Epoch 8/25\n",
      "8000/8000 [==============================] - 764s 95ms/step - loss: 0.0210 - accuracy: 0.9933 - val_loss: 2.5970 - val_accuracy: 0.7886\n",
      "Epoch 9/25\n",
      "8000/8000 [==============================] - 768s 96ms/step - loss: 0.0182 - accuracy: 0.9942 - val_loss: 1.9455 - val_accuracy: 0.7969\n",
      "Epoch 10/25\n",
      "8000/8000 [==============================] - 766s 96ms/step - loss: 0.0168 - accuracy: 0.9946 - val_loss: 2.2962 - val_accuracy: 0.7921\n",
      "Epoch 11/25\n",
      "8000/8000 [==============================] - 767s 96ms/step - loss: 0.0163 - accuracy: 0.9950 - val_loss: 1.7164 - val_accuracy: 0.7859\n",
      "Epoch 12/25\n",
      "8000/8000 [==============================] - 765s 96ms/step - loss: 0.0153 - accuracy: 0.9953 - val_loss: 2.3309 - val_accuracy: 0.7918\n",
      "Epoch 13/25\n",
      "8000/8000 [==============================] - 771s 96ms/step - loss: 0.0146 - accuracy: 0.9956 - val_loss: 1.5204 - val_accuracy: 0.7916\n",
      "Epoch 14/25\n",
      "8000/8000 [==============================] - 764s 95ms/step - loss: 0.0133 - accuracy: 0.9959 - val_loss: 2.7295 - val_accuracy: 0.7786\n",
      "Epoch 15/25\n",
      "8000/8000 [==============================] - 765s 96ms/step - loss: 0.0115 - accuracy: 0.9963 - val_loss: 1.0909 - val_accuracy: 0.7885\n",
      "Epoch 16/25\n",
      "8000/8000 [==============================] - 762s 95ms/step - loss: 0.0116 - accuracy: 0.9965 - val_loss: 0.7900 - val_accuracy: 0.7773\n",
      "Epoch 17/25\n",
      "8000/8000 [==============================] - 761s 95ms/step - loss: 0.0109 - accuracy: 0.9967 - val_loss: 1.2233 - val_accuracy: 0.7917\n",
      "Epoch 18/25\n",
      "8000/8000 [==============================] - 764s 96ms/step - loss: 0.0115 - accuracy: 0.9967 - val_loss: 2.4146 - val_accuracy: 0.7943\n",
      "Epoch 19/25\n",
      "8000/8000 [==============================] - 763s 95ms/step - loss: 0.0099 - accuracy: 0.9970 - val_loss: 4.8115 - val_accuracy: 0.7850\n",
      "Epoch 20/25\n",
      "8000/8000 [==============================] - 778s 97ms/step - loss: 0.0092 - accuracy: 0.9973 - val_loss: 5.5630 - val_accuracy: 0.7764\n",
      "Epoch 21/25\n",
      "8000/8000 [==============================] - 782s 98ms/step - loss: 0.0098 - accuracy: 0.9971 - val_loss: 5.2158 - val_accuracy: 0.7856\n",
      "Epoch 22/25\n",
      "8000/8000 [==============================] - 780s 98ms/step - loss: 0.0093 - accuracy: 0.9974 - val_loss: 2.5195 - val_accuracy: 0.7847\n",
      "Epoch 23/25\n",
      "8000/8000 [==============================] - 783s 98ms/step - loss: 0.0083 - accuracy: 0.9975 - val_loss: 1.3756 - val_accuracy: 0.7858\n",
      "Epoch 24/25\n",
      "8000/8000 [==============================] - 779s 97ms/step - loss: 0.0081 - accuracy: 0.9976 - val_loss: 0.8388 - val_accuracy: 0.7825\n",
      "Epoch 25/25\n",
      "8000/8000 [==============================] - 781s 98ms/step - loss: 0.0088 - accuracy: 0.9975 - val_loss: 2.5601 - val_accuracy: 0.7866\n"
     ]
    },
    {
     "data": {
      "text/plain": [
       "<keras.callbacks.callbacks.History at 0x18c75920c48>"
      ]
     },
     "execution_count": 14,
     "metadata": {},
     "output_type": "execute_result"
    }
   ],
   "source": [
    "classifier.fit_generator(\n",
    "        training_set,\n",
    "        steps_per_epoch=8000,\n",
    "        epochs=25,\n",
    "        validation_data=test_set,\n",
    "        validation_steps=2000)"
   ]
  },
  {
   "cell_type": "code",
   "execution_count": 15,
   "metadata": {},
   "outputs": [],
   "source": [
    "import numpy as np\n",
    "from keras.preprocessing import image"
   ]
  },
  {
   "cell_type": "code",
   "execution_count": 73,
   "metadata": {},
   "outputs": [
    {
     "data": {
      "image/png": "[encoded data removed]",
      "text/plain": [
       "<PIL.Image.Image image mode=RGB size=64x64 at 0x18CA80A6108>"
      ]
     },
     "execution_count": 73,
     "metadata": {},
     "output_type": "execute_result"
    }
   ],
   "source": [
    "test_image1=image.load_img('dataset/single_prediction/cat_or_dog_1.jpg',target_size=(64,64))\n",
    "test_image2=image.load_img('dataset/single_prediction/cat_or_dog_2.jpg',target_size=(64,64))\n",
    "test_image1"
   ]
  },
  {
   "cell_type": "code",
   "execution_count": 74,
   "metadata": {},
   "outputs": [
    {
     "data": {
      "image/png": "[encoded data removed]",
      "text/plain": [
       "<PIL.Image.Image image mode=RGB size=64x64 at 0x18CA80A6B48>"
      ]
     },
     "execution_count": 74,
     "metadata": {},
     "output_type": "execute_result"
    }
   ],
   "source": [
    "test_image2"
   ]
  },
  {
   "cell_type": "code",
   "execution_count": 75,
   "metadata": {},
   "outputs": [],
   "source": [
    "test_image1=image.img_to_array(test_image1)\n",
    "test_image2=image.img_to_array(test_image2)"
   ]
  },
  {
   "cell_type": "code",
   "execution_count": 76,
   "metadata": {},
   "outputs": [],
   "source": [
    "test_image1=np.expand_dims(test_image1,axis=0)\n",
    "test_image2=np.expand_dims(test_image2,axis=0)"
   ]
  },
  {
   "cell_type": "code",
   "execution_count": 77,
   "metadata": {},
   "outputs": [
    {
     "data": {
      "text/plain": [
       "{'cats': 0, 'dogs': 1}"
      ]
     },
     "execution_count": 77,
     "metadata": {},
     "output_type": "execute_result"
    }
   ],
   "source": [
    "training_set.class_indices"
   ]
  },
  {
   "cell_type": "code",
   "execution_count": 85,
   "metadata": {},
   "outputs": [
    {
     "data": {
      "text/plain": [
       "'dog'"
      ]
     },
     "execution_count": 85,
     "metadata": {},
     "output_type": "execute_result"
    }
   ],
   "source": [
    "prediction=classifier.predict(test_image1)\n",
    "if prediction[0,0]==1:\n",
    "    prediction='dog'\n",
    "else:\n",
    "    prediction='cat'\n",
    "prediction"
   ]
  },
  {
   "cell_type": "code",
   "execution_count": 82,
   "metadata": {},
   "outputs": [],
   "source": []
  },
  {
   "cell_type": "code",
   "execution_count": null,
   "metadata": {},
   "outputs": [],
   "source": []
  },
  {
   "cell_type": "code",
   "execution_count": null,
   "metadata": {},
   "outputs": [],
   "source": []
  },
  {
   "cell_type": "code",
   "execution_count": null,
   "metadata": {},
   "outputs": [],
   "source": []
  }
 ],
 "metadata": {
  "kernelspec": {
   "display_name": "Python 3",
   "language": "python",
   "name": "python3"
  },
  "language_info": {
   "codemirror_mode": {
    "name": "ipython",
    "version": 3
   },
   "file_extension": ".py",
   "mimetype": "text/x-python",
   "name": "python",
   "nbconvert_exporter": "python",
   "pygments_lexer": "ipython3",
   "version": "3.7.7"
  }
 },
 "nbformat": 4,
 "nbformat_minor": 4
}
