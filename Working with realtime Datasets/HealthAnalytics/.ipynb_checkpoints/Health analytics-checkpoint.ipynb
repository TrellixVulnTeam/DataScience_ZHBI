{
 "cells": [
  {
   "cell_type": "code",
   "execution_count": 1,
   "metadata": {},
   "outputs": [],
   "source": [
    "import numpy as np\n",
    "import pandas as pd\n",
    "import matplotlib.pyplot as pl\n",
    "import seaborn as sns"
   ]
  },
  {
   "cell_type": "code",
   "execution_count": 3,
   "metadata": {},
   "outputs": [],
   "source": [
    "district_wise=pd.read_csv('Key_indicator_districtwise.csv')\n",
    "state_wise=pd.read_csv('Key_indicator_statewise.csv')"
   ]
  },
  {
   "cell_type": "code",
   "execution_count": 6,
   "metadata": {},
   "outputs": [
    {
     "data": {
      "text/html": [
       "<div>\n",
       "<style scoped>\n",
       "    .dataframe tbody tr th:only-of-type {\n",
       "        vertical-align: middle;\n",
       "    }\n",
       "\n",
       "    .dataframe tbody tr th {\n",
       "        vertical-align: top;\n",
       "    }\n",
       "\n",
       "    .dataframe thead th {\n",
       "        text-align: right;\n",
       "    }\n",
       "</style>\n",
       "<table border=\"1\" class=\"dataframe\">\n",
       "  <thead>\n",
       "    <tr style=\"text-align: right;\">\n",
       "      <th></th>\n",
       "      <th>State_Name</th>\n",
       "      <th>State_District_Name</th>\n",
       "      <th>AA_Sample_Units_Total</th>\n",
       "      <th>AA_Sample_Units_Rural</th>\n",
       "      <th>AA_Sample_Units_Urban</th>\n",
       "      <th>AA_Households_Total</th>\n",
       "      <th>AA_Households_Rural</th>\n",
       "      <th>AA_Households_Urban</th>\n",
       "      <th>AA_Population_Total</th>\n",
       "      <th>AA_Population_Rural</th>\n",
       "      <th>...</th>\n",
       "      <th>ZZ_Under_Five_Mortality_Rate_U5MR_Rural_Lower_Limit</th>\n",
       "      <th>ZZ_Under_Five_Mortality_Rate_U5MR_Rural_Upper_Limit</th>\n",
       "      <th>ZZ_Under_Five_Mortality_Rate_U5MR_Urban_Lower_Limit</th>\n",
       "      <th>ZZ_Under_Five_Mortality_Rate_U5MR_Urban_Upper_Limit</th>\n",
       "      <th>ZZ_Sex_Ratio_At_Birth_Total_Lower_Limit</th>\n",
       "      <th>ZZ_Sex_Ratio_At_Birth_Total_Upper_Limit</th>\n",
       "      <th>ZZ_Sex_Ratio_At_Birth_Rural_Lower_Limit</th>\n",
       "      <th>ZZ_Sex_Ratio_At_Birth_Rural_Upper_Limit</th>\n",
       "      <th>ZZ_Sex_Ratio_At_Birth_Urban_Lower_Limit</th>\n",
       "      <th>ZZ_Sex_Ratio_At_Birth_Urban_Upper_Limit</th>\n",
       "    </tr>\n",
       "  </thead>\n",
       "  <tbody>\n",
       "    <tr>\n",
       "      <th>0</th>\n",
       "      <td>Assam</td>\n",
       "      <td>Barpeta</td>\n",
       "      <td>53</td>\n",
       "      <td>47</td>\n",
       "      <td>6</td>\n",
       "      <td>13711</td>\n",
       "      <td>12765</td>\n",
       "      <td>946</td>\n",
       "      <td>64606</td>\n",
       "      <td>60293</td>\n",
       "      <td>...</td>\n",
       "      <td>54</td>\n",
       "      <td>70</td>\n",
       "      <td>NaN</td>\n",
       "      <td>NaN</td>\n",
       "      <td>871</td>\n",
       "      <td>985</td>\n",
       "      <td>851</td>\n",
       "      <td>965</td>\n",
       "      <td>908.0</td>\n",
       "      <td>1611.0</td>\n",
       "    </tr>\n",
       "    <tr>\n",
       "      <th>1</th>\n",
       "      <td>Assam</td>\n",
       "      <td>Bongaigaon</td>\n",
       "      <td>89</td>\n",
       "      <td>73</td>\n",
       "      <td>16</td>\n",
       "      <td>17384</td>\n",
       "      <td>14904</td>\n",
       "      <td>2480</td>\n",
       "      <td>84012</td>\n",
       "      <td>73899</td>\n",
       "      <td>...</td>\n",
       "      <td>58</td>\n",
       "      <td>73</td>\n",
       "      <td>NaN</td>\n",
       "      <td>NaN</td>\n",
       "      <td>897</td>\n",
       "      <td>1005</td>\n",
       "      <td>911</td>\n",
       "      <td>1026</td>\n",
       "      <td>621.0</td>\n",
       "      <td>956.0</td>\n",
       "    </tr>\n",
       "    <tr>\n",
       "      <th>2</th>\n",
       "      <td>Assam</td>\n",
       "      <td>Cachar</td>\n",
       "      <td>105</td>\n",
       "      <td>84</td>\n",
       "      <td>21</td>\n",
       "      <td>27488</td>\n",
       "      <td>24207</td>\n",
       "      <td>3281</td>\n",
       "      <td>127158</td>\n",
       "      <td>112171</td>\n",
       "      <td>...</td>\n",
       "      <td>68</td>\n",
       "      <td>80</td>\n",
       "      <td>31.0</td>\n",
       "      <td>57.0</td>\n",
       "      <td>891</td>\n",
       "      <td>966</td>\n",
       "      <td>871</td>\n",
       "      <td>949</td>\n",
       "      <td>905.0</td>\n",
       "      <td>1168.0</td>\n",
       "    </tr>\n",
       "    <tr>\n",
       "      <th>3</th>\n",
       "      <td>Assam</td>\n",
       "      <td>Darrang</td>\n",
       "      <td>26</td>\n",
       "      <td>24</td>\n",
       "      <td>2</td>\n",
       "      <td>5951</td>\n",
       "      <td>5769</td>\n",
       "      <td>182</td>\n",
       "      <td>29048</td>\n",
       "      <td>28256</td>\n",
       "      <td>...</td>\n",
       "      <td>79</td>\n",
       "      <td>107</td>\n",
       "      <td>NaN</td>\n",
       "      <td>NaN</td>\n",
       "      <td>913</td>\n",
       "      <td>1102</td>\n",
       "      <td>908</td>\n",
       "      <td>1097</td>\n",
       "      <td>NaN</td>\n",
       "      <td>NaN</td>\n",
       "    </tr>\n",
       "    <tr>\n",
       "      <th>4</th>\n",
       "      <td>Assam</td>\n",
       "      <td>Dhemaji</td>\n",
       "      <td>121</td>\n",
       "      <td>108</td>\n",
       "      <td>13</td>\n",
       "      <td>14481</td>\n",
       "      <td>12619</td>\n",
       "      <td>1862</td>\n",
       "      <td>75451</td>\n",
       "      <td>66537</td>\n",
       "      <td>...</td>\n",
       "      <td>40</td>\n",
       "      <td>53</td>\n",
       "      <td>11.0</td>\n",
       "      <td>38.0</td>\n",
       "      <td>935</td>\n",
       "      <td>1045</td>\n",
       "      <td>938</td>\n",
       "      <td>1054</td>\n",
       "      <td>772.0</td>\n",
       "      <td>1083.0</td>\n",
       "    </tr>\n",
       "  </tbody>\n",
       "</table>\n",
       "<p>5 rows × 644 columns</p>\n",
       "</div>"
      ],
      "text/plain": [
       "  State_Name State_District_Name  AA_Sample_Units_Total  \\\n",
       "0      Assam             Barpeta                     53   \n",
       "1      Assam          Bongaigaon                     89   \n",
       "2      Assam              Cachar                    105   \n",
       "3      Assam             Darrang                     26   \n",
       "4      Assam             Dhemaji                    121   \n",
       "\n",
       "   AA_Sample_Units_Rural  AA_Sample_Units_Urban  AA_Households_Total  \\\n",
       "0                     47                      6                13711   \n",
       "1                     73                     16                17384   \n",
       "2                     84                     21                27488   \n",
       "3                     24                      2                 5951   \n",
       "4                    108                     13                14481   \n",
       "\n",
       "   AA_Households_Rural  AA_Households_Urban  AA_Population_Total  \\\n",
       "0                12765                  946                64606   \n",
       "1                14904                 2480                84012   \n",
       "2                24207                 3281               127158   \n",
       "3                 5769                  182                29048   \n",
       "4                12619                 1862                75451   \n",
       "\n",
       "   AA_Population_Rural  ...  \\\n",
       "0                60293  ...   \n",
       "1                73899  ...   \n",
       "2               112171  ...   \n",
       "3                28256  ...   \n",
       "4                66537  ...   \n",
       "\n",
       "   ZZ_Under_Five_Mortality_Rate_U5MR_Rural_Lower_Limit  \\\n",
       "0                                                 54     \n",
       "1                                                 58     \n",
       "2                                                 68     \n",
       "3                                                 79     \n",
       "4                                                 40     \n",
       "\n",
       "   ZZ_Under_Five_Mortality_Rate_U5MR_Rural_Upper_Limit  \\\n",
       "0                                                 70     \n",
       "1                                                 73     \n",
       "2                                                 80     \n",
       "3                                                107     \n",
       "4                                                 53     \n",
       "\n",
       "   ZZ_Under_Five_Mortality_Rate_U5MR_Urban_Lower_Limit  \\\n",
       "0                                                NaN     \n",
       "1                                                NaN     \n",
       "2                                               31.0     \n",
       "3                                                NaN     \n",
       "4                                               11.0     \n",
       "\n",
       "   ZZ_Under_Five_Mortality_Rate_U5MR_Urban_Upper_Limit  \\\n",
       "0                                                NaN     \n",
       "1                                                NaN     \n",
       "2                                               57.0     \n",
       "3                                                NaN     \n",
       "4                                               38.0     \n",
       "\n",
       "   ZZ_Sex_Ratio_At_Birth_Total_Lower_Limit  \\\n",
       "0                                      871   \n",
       "1                                      897   \n",
       "2                                      891   \n",
       "3                                      913   \n",
       "4                                      935   \n",
       "\n",
       "   ZZ_Sex_Ratio_At_Birth_Total_Upper_Limit  \\\n",
       "0                                      985   \n",
       "1                                     1005   \n",
       "2                                      966   \n",
       "3                                     1102   \n",
       "4                                     1045   \n",
       "\n",
       "   ZZ_Sex_Ratio_At_Birth_Rural_Lower_Limit  \\\n",
       "0                                      851   \n",
       "1                                      911   \n",
       "2                                      871   \n",
       "3                                      908   \n",
       "4                                      938   \n",
       "\n",
       "   ZZ_Sex_Ratio_At_Birth_Rural_Upper_Limit  \\\n",
       "0                                      965   \n",
       "1                                     1026   \n",
       "2                                      949   \n",
       "3                                     1097   \n",
       "4                                     1054   \n",
       "\n",
       "   ZZ_Sex_Ratio_At_Birth_Urban_Lower_Limit  \\\n",
       "0                                    908.0   \n",
       "1                                    621.0   \n",
       "2                                    905.0   \n",
       "3                                      NaN   \n",
       "4                                    772.0   \n",
       "\n",
       "   ZZ_Sex_Ratio_At_Birth_Urban_Upper_Limit  \n",
       "0                                   1611.0  \n",
       "1                                    956.0  \n",
       "2                                   1168.0  \n",
       "3                                      NaN  \n",
       "4                                   1083.0  \n",
       "\n",
       "[5 rows x 644 columns]"
      ]
     },
     "execution_count": 6,
     "metadata": {},
     "output_type": "execute_result"
    }
   ],
   "source": [
    "district_wise.head()"
   ]
  },
  {
   "cell_type": "code",
   "execution_count": 8,
   "metadata": {},
   "outputs": [
    {
     "data": {
      "text/html": [
       "<div>\n",
       "<style scoped>\n",
       "    .dataframe tbody tr th:only-of-type {\n",
       "        vertical-align: middle;\n",
       "    }\n",
       "\n",
       "    .dataframe tbody tr th {\n",
       "        vertical-align: top;\n",
       "    }\n",
       "\n",
       "    .dataframe thead th {\n",
       "        text-align: right;\n",
       "    }\n",
       "</style>\n",
       "<table border=\"1\" class=\"dataframe\">\n",
       "  <thead>\n",
       "    <tr style=\"text-align: right;\">\n",
       "      <th></th>\n",
       "      <th>State_Name</th>\n",
       "      <th>AA_Sample_Units_Total</th>\n",
       "      <th>AA_Sample_Units_Rural</th>\n",
       "      <th>AA_Sample_Units_Urban</th>\n",
       "      <th>AA_Households_Total</th>\n",
       "      <th>AA_Households_Rural</th>\n",
       "      <th>AA_Households_Urban</th>\n",
       "      <th>AA_Population_Total</th>\n",
       "      <th>AA_Population_Rural</th>\n",
       "      <th>AA_Population_Urban</th>\n",
       "      <th>...</th>\n",
       "      <th>ZZ_Under_Five_Mortality_Rate_U5MR_Rural_Lower_Limit</th>\n",
       "      <th>ZZ_Under_Five_Mortality_Rate_U5MR_Rural_Upper_Limit</th>\n",
       "      <th>ZZ_Under_Five_Mortality_Rate_U5MR_Urban_Lower_Limit</th>\n",
       "      <th>ZZ_Under_Five_Mortality_Rate_U5MR_Urban_Upper_Limit</th>\n",
       "      <th>ZZ_Sex_Ratio_At_Birth_Total_Lower_Limit</th>\n",
       "      <th>ZZ_Sex_Ratio_At_Birth_Total_Upper_Limit</th>\n",
       "      <th>ZZ_Sex_Ratio_At_Birth_Rural_Lower_Limit</th>\n",
       "      <th>ZZ_Sex_Ratio_At_Birth_Rural_Upper_Limit</th>\n",
       "      <th>ZZ_Sex_Ratio_At_Birth_Urban_Lower_Limit</th>\n",
       "      <th>ZZ_Sex_Ratio_At_Birth_Urban_Upper_Limit</th>\n",
       "    </tr>\n",
       "  </thead>\n",
       "  <tbody>\n",
       "    <tr>\n",
       "      <th>0</th>\n",
       "      <td>Assam</td>\n",
       "      <td>1784</td>\n",
       "      <td>1412</td>\n",
       "      <td>372</td>\n",
       "      <td>388853</td>\n",
       "      <td>319766</td>\n",
       "      <td>69087</td>\n",
       "      <td>1809610</td>\n",
       "      <td>1518639</td>\n",
       "      <td>290971</td>\n",
       "      <td>...</td>\n",
       "      <td>76</td>\n",
       "      <td>79</td>\n",
       "      <td>33</td>\n",
       "      <td>40</td>\n",
       "      <td>936</td>\n",
       "      <td>958</td>\n",
       "      <td>930</td>\n",
       "      <td>954</td>\n",
       "      <td>945</td>\n",
       "      <td>1009</td>\n",
       "    </tr>\n",
       "    <tr>\n",
       "      <th>1</th>\n",
       "      <td>Bihar</td>\n",
       "      <td>2356</td>\n",
       "      <td>1981</td>\n",
       "      <td>375</td>\n",
       "      <td>612684</td>\n",
       "      <td>568030</td>\n",
       "      <td>44654</td>\n",
       "      <td>3227867</td>\n",
       "      <td>2993906</td>\n",
       "      <td>233961</td>\n",
       "      <td>...</td>\n",
       "      <td>71</td>\n",
       "      <td>73</td>\n",
       "      <td>48</td>\n",
       "      <td>55</td>\n",
       "      <td>918</td>\n",
       "      <td>932</td>\n",
       "      <td>918</td>\n",
       "      <td>933</td>\n",
       "      <td>893</td>\n",
       "      <td>953</td>\n",
       "    </tr>\n",
       "    <tr>\n",
       "      <th>2</th>\n",
       "      <td>Chhattisgarh</td>\n",
       "      <td>1255</td>\n",
       "      <td>926</td>\n",
       "      <td>329</td>\n",
       "      <td>287085</td>\n",
       "      <td>226554</td>\n",
       "      <td>60531</td>\n",
       "      <td>1264309</td>\n",
       "      <td>994416</td>\n",
       "      <td>269893</td>\n",
       "      <td>...</td>\n",
       "      <td>63</td>\n",
       "      <td>67</td>\n",
       "      <td>37</td>\n",
       "      <td>43</td>\n",
       "      <td>943</td>\n",
       "      <td>969</td>\n",
       "      <td>944</td>\n",
       "      <td>973</td>\n",
       "      <td>916</td>\n",
       "      <td>975</td>\n",
       "    </tr>\n",
       "    <tr>\n",
       "      <th>3</th>\n",
       "      <td>Jharkhand</td>\n",
       "      <td>2108</td>\n",
       "      <td>1513</td>\n",
       "      <td>595</td>\n",
       "      <td>392734</td>\n",
       "      <td>318142</td>\n",
       "      <td>74592</td>\n",
       "      <td>2019298</td>\n",
       "      <td>1644036</td>\n",
       "      <td>375262</td>\n",
       "      <td>...</td>\n",
       "      <td>56</td>\n",
       "      <td>58</td>\n",
       "      <td>27</td>\n",
       "      <td>31</td>\n",
       "      <td>920</td>\n",
       "      <td>940</td>\n",
       "      <td>932</td>\n",
       "      <td>954</td>\n",
       "      <td>860</td>\n",
       "      <td>909</td>\n",
       "    </tr>\n",
       "    <tr>\n",
       "      <th>4</th>\n",
       "      <td>Madhya Pradesh</td>\n",
       "      <td>2557</td>\n",
       "      <td>1660</td>\n",
       "      <td>897</td>\n",
       "      <td>519811</td>\n",
       "      <td>357179</td>\n",
       "      <td>162632</td>\n",
       "      <td>2389787</td>\n",
       "      <td>1629355</td>\n",
       "      <td>760432</td>\n",
       "      <td>...</td>\n",
       "      <td>91</td>\n",
       "      <td>94</td>\n",
       "      <td>55</td>\n",
       "      <td>59</td>\n",
       "      <td>897</td>\n",
       "      <td>914</td>\n",
       "      <td>906</td>\n",
       "      <td>926</td>\n",
       "      <td>860</td>\n",
       "      <td>893</td>\n",
       "    </tr>\n",
       "  </tbody>\n",
       "</table>\n",
       "<p>5 rows × 643 columns</p>\n",
       "</div>"
      ],
      "text/plain": [
       "       State_Name  AA_Sample_Units_Total  AA_Sample_Units_Rural  \\\n",
       "0           Assam                   1784                   1412   \n",
       "1           Bihar                   2356                   1981   \n",
       "2    Chhattisgarh                   1255                    926   \n",
       "3       Jharkhand                   2108                   1513   \n",
       "4  Madhya Pradesh                   2557                   1660   \n",
       "\n",
       "   AA_Sample_Units_Urban  AA_Households_Total  AA_Households_Rural  \\\n",
       "0                    372               388853               319766   \n",
       "1                    375               612684               568030   \n",
       "2                    329               287085               226554   \n",
       "3                    595               392734               318142   \n",
       "4                    897               519811               357179   \n",
       "\n",
       "   AA_Households_Urban  AA_Population_Total  AA_Population_Rural  \\\n",
       "0                69087              1809610              1518639   \n",
       "1                44654              3227867              2993906   \n",
       "2                60531              1264309               994416   \n",
       "3                74592              2019298              1644036   \n",
       "4               162632              2389787              1629355   \n",
       "\n",
       "   AA_Population_Urban  ...  \\\n",
       "0               290971  ...   \n",
       "1               233961  ...   \n",
       "2               269893  ...   \n",
       "3               375262  ...   \n",
       "4               760432  ...   \n",
       "\n",
       "   ZZ_Under_Five_Mortality_Rate_U5MR_Rural_Lower_Limit  \\\n",
       "0                                                 76     \n",
       "1                                                 71     \n",
       "2                                                 63     \n",
       "3                                                 56     \n",
       "4                                                 91     \n",
       "\n",
       "   ZZ_Under_Five_Mortality_Rate_U5MR_Rural_Upper_Limit  \\\n",
       "0                                                 79     \n",
       "1                                                 73     \n",
       "2                                                 67     \n",
       "3                                                 58     \n",
       "4                                                 94     \n",
       "\n",
       "   ZZ_Under_Five_Mortality_Rate_U5MR_Urban_Lower_Limit  \\\n",
       "0                                                 33     \n",
       "1                                                 48     \n",
       "2                                                 37     \n",
       "3                                                 27     \n",
       "4                                                 55     \n",
       "\n",
       "   ZZ_Under_Five_Mortality_Rate_U5MR_Urban_Upper_Limit  \\\n",
       "0                                                 40     \n",
       "1                                                 55     \n",
       "2                                                 43     \n",
       "3                                                 31     \n",
       "4                                                 59     \n",
       "\n",
       "   ZZ_Sex_Ratio_At_Birth_Total_Lower_Limit  \\\n",
       "0                                      936   \n",
       "1                                      918   \n",
       "2                                      943   \n",
       "3                                      920   \n",
       "4                                      897   \n",
       "\n",
       "   ZZ_Sex_Ratio_At_Birth_Total_Upper_Limit  \\\n",
       "0                                      958   \n",
       "1                                      932   \n",
       "2                                      969   \n",
       "3                                      940   \n",
       "4                                      914   \n",
       "\n",
       "   ZZ_Sex_Ratio_At_Birth_Rural_Lower_Limit  \\\n",
       "0                                      930   \n",
       "1                                      918   \n",
       "2                                      944   \n",
       "3                                      932   \n",
       "4                                      906   \n",
       "\n",
       "   ZZ_Sex_Ratio_At_Birth_Rural_Upper_Limit  \\\n",
       "0                                      954   \n",
       "1                                      933   \n",
       "2                                      973   \n",
       "3                                      954   \n",
       "4                                      926   \n",
       "\n",
       "   ZZ_Sex_Ratio_At_Birth_Urban_Lower_Limit  \\\n",
       "0                                      945   \n",
       "1                                      893   \n",
       "2                                      916   \n",
       "3                                      860   \n",
       "4                                      860   \n",
       "\n",
       "   ZZ_Sex_Ratio_At_Birth_Urban_Upper_Limit  \n",
       "0                                     1009  \n",
       "1                                      953  \n",
       "2                                      975  \n",
       "3                                      909  \n",
       "4                                      893  \n",
       "\n",
       "[5 rows x 643 columns]"
      ]
     },
     "execution_count": 8,
     "metadata": {},
     "output_type": "execute_result"
    }
   ],
   "source": [
    "state_wise.head()"
   ]
  },
  {
   "cell_type": "code",
   "execution_count": 10,
   "metadata": {},
   "outputs": [
    {
     "data": {
      "text/plain": [
       "((9, 643), (284, 644))"
      ]
     },
     "execution_count": 10,
     "metadata": {},
     "output_type": "execute_result"
    }
   ],
   "source": [
    "state_wise.shape,district_wise.shape"
   ]
  },
  {
   "cell_type": "code",
   "execution_count": null,
   "metadata": {},
   "outputs": [],
   "source": []
  },
  {
   "cell_type": "code",
   "execution_count": null,
   "metadata": {},
   "outputs": [],
   "source": []
  },
  {
   "cell_type": "code",
   "execution_count": null,
   "metadata": {},
   "outputs": [],
   "source": []
  },
  {
   "cell_type": "code",
   "execution_count": null,
   "metadata": {},
   "outputs": [],
   "source": []
  },
  {
   "cell_type": "code",
   "execution_count": null,
   "metadata": {},
   "outputs": [],
   "source": []
  },
  {
   "cell_type": "code",
   "execution_count": null,
   "metadata": {},
   "outputs": [],
   "source": []
  },
  {
   "cell_type": "code",
   "execution_count": null,
   "metadata": {},
   "outputs": [],
   "source": []
  },
  {
   "cell_type": "code",
   "execution_count": null,
   "metadata": {},
   "outputs": [],
   "source": []
  },
  {
   "cell_type": "code",
   "execution_count": null,
   "metadata": {},
   "outputs": [],
   "source": []
  },
  {
   "cell_type": "code",
   "execution_count": null,
   "metadata": {},
   "outputs": [],
   "source": []
  },
  {
   "cell_type": "code",
   "execution_count": null,
   "metadata": {},
   "outputs": [],
   "source": []
  },
  {
   "cell_type": "code",
   "execution_count": null,
   "metadata": {},
   "outputs": [],
   "source": []
  },
  {
   "cell_type": "code",
   "execution_count": null,
   "metadata": {},
   "outputs": [],
   "source": []
  },
  {
   "cell_type": "code",
   "execution_count": null,
   "metadata": {},
   "outputs": [],
   "source": []
  },
  {
   "cell_type": "code",
   "execution_count": null,
   "metadata": {},
   "outputs": [],
   "source": []
  },
  {
   "cell_type": "code",
   "execution_count": null,
   "metadata": {},
   "outputs": [],
   "source": []
  },
  {
   "cell_type": "code",
   "execution_count": null,
   "metadata": {},
   "outputs": [],
   "source": []
  },
  {
   "cell_type": "code",
   "execution_count": null,
   "metadata": {},
   "outputs": [],
   "source": []
  },
  {
   "cell_type": "code",
   "execution_count": null,
   "metadata": {},
   "outputs": [],
   "source": []
  },
  {
   "cell_type": "code",
   "execution_count": null,
   "metadata": {},
   "outputs": [],
   "source": []
  },
  {
   "cell_type": "code",
   "execution_count": null,
   "metadata": {},
   "outputs": [],
   "source": []
  },
  {
   "cell_type": "code",
   "execution_count": null,
   "metadata": {},
   "outputs": [],
   "source": []
  },
  {
   "cell_type": "code",
   "execution_count": null,
   "metadata": {},
   "outputs": [],
   "source": []
  },
  {
   "cell_type": "code",
   "execution_count": null,
   "metadata": {},
   "outputs": [],
   "source": []
  },
  {
   "cell_type": "code",
   "execution_count": null,
   "metadata": {},
   "outputs": [],
   "source": []
  },
  {
   "cell_type": "code",
   "execution_count": null,
   "metadata": {},
   "outputs": [],
   "source": []
  },
  {
   "cell_type": "code",
   "execution_count": null,
   "metadata": {},
   "outputs": [],
   "source": []
  },
  {
   "cell_type": "code",
   "execution_count": null,
   "metadata": {},
   "outputs": [],
   "source": []
  },
  {
   "cell_type": "code",
   "execution_count": null,
   "metadata": {},
   "outputs": [],
   "source": []
  },
  {
   "cell_type": "code",
   "execution_count": null,
   "metadata": {},
   "outputs": [],
   "source": []
  },
  {
   "cell_type": "code",
   "execution_count": null,
   "metadata": {},
   "outputs": [],
   "source": []
  },
  {
   "cell_type": "code",
   "execution_count": null,
   "metadata": {},
   "outputs": [],
   "source": []
  },
  {
   "cell_type": "code",
   "execution_count": null,
   "metadata": {},
   "outputs": [],
   "source": []
  },
  {
   "cell_type": "code",
   "execution_count": null,
   "metadata": {},
   "outputs": [],
   "source": []
  },
  {
   "cell_type": "code",
   "execution_count": null,
   "metadata": {},
   "outputs": [],
   "source": []
  },
  {
   "cell_type": "code",
   "execution_count": null,
   "metadata": {},
   "outputs": [],
   "source": []
  },
  {
   "cell_type": "code",
   "execution_count": null,
   "metadata": {},
   "outputs": [],
   "source": []
  },
  {
   "cell_type": "code",
   "execution_count": null,
   "metadata": {},
   "outputs": [],
   "source": []
  },
  {
   "cell_type": "code",
   "execution_count": null,
   "metadata": {},
   "outputs": [],
   "source": []
  },
  {
   "cell_type": "code",
   "execution_count": null,
   "metadata": {},
   "outputs": [],
   "source": []
  },
  {
   "cell_type": "code",
   "execution_count": null,
   "metadata": {},
   "outputs": [],
   "source": []
  },
  {
   "cell_type": "code",
   "execution_count": null,
   "metadata": {},
   "outputs": [],
   "source": []
  },
  {
   "cell_type": "code",
   "execution_count": null,
   "metadata": {},
   "outputs": [],
   "source": []
  },
  {
   "cell_type": "code",
   "execution_count": null,
   "metadata": {},
   "outputs": [],
   "source": []
  },
  {
   "cell_type": "code",
   "execution_count": null,
   "metadata": {},
   "outputs": [],
   "source": []
  },
  {
   "cell_type": "code",
   "execution_count": null,
   "metadata": {},
   "outputs": [],
   "source": []
  },
  {
   "cell_type": "code",
   "execution_count": null,
   "metadata": {},
   "outputs": [],
   "source": []
  },
  {
   "cell_type": "code",
   "execution_count": null,
   "metadata": {},
   "outputs": [],
   "source": []
  },
  {
   "cell_type": "code",
   "execution_count": null,
   "metadata": {},
   "outputs": [],
   "source": []
  },
  {
   "cell_type": "code",
   "execution_count": null,
   "metadata": {},
   "outputs": [],
   "source": []
  },
  {
   "cell_type": "code",
   "execution_count": null,
   "metadata": {},
   "outputs": [],
   "source": []
  },
  {
   "cell_type": "code",
   "execution_count": null,
   "metadata": {},
   "outputs": [],
   "source": []
  },
  {
   "cell_type": "code",
   "execution_count": null,
   "metadata": {},
   "outputs": [],
   "source": []
  },
  {
   "cell_type": "code",
   "execution_count": null,
   "metadata": {},
   "outputs": [],
   "source": []
  },
  {
   "cell_type": "code",
   "execution_count": null,
   "metadata": {},
   "outputs": [],
   "source": []
  },
  {
   "cell_type": "code",
   "execution_count": null,
   "metadata": {},
   "outputs": [],
   "source": []
  },
  {
   "cell_type": "code",
   "execution_count": null,
   "metadata": {},
   "outputs": [],
   "source": []
  },
  {
   "cell_type": "code",
   "execution_count": null,
   "metadata": {},
   "outputs": [],
   "source": []
  },
  {
   "cell_type": "code",
   "execution_count": null,
   "metadata": {},
   "outputs": [],
   "source": []
  },
  {
   "cell_type": "code",
   "execution_count": null,
   "metadata": {},
   "outputs": [],
   "source": []
  },
  {
   "cell_type": "code",
   "execution_count": null,
   "metadata": {},
   "outputs": [],
   "source": []
  },
  {
   "cell_type": "code",
   "execution_count": null,
   "metadata": {},
   "outputs": [],
   "source": []
  },
  {
   "cell_type": "code",
   "execution_count": null,
   "metadata": {},
   "outputs": [],
   "source": []
  },
  {
   "cell_type": "code",
   "execution_count": null,
   "metadata": {},
   "outputs": [],
   "source": []
  },
  {
   "cell_type": "code",
   "execution_count": null,
   "metadata": {},
   "outputs": [],
   "source": []
  },
  {
   "cell_type": "code",
   "execution_count": null,
   "metadata": {},
   "outputs": [],
   "source": []
  },
  {
   "cell_type": "code",
   "execution_count": null,
   "metadata": {},
   "outputs": [],
   "source": []
  },
  {
   "cell_type": "code",
   "execution_count": null,
   "metadata": {},
   "outputs": [],
   "source": []
  },
  {
   "cell_type": "code",
   "execution_count": null,
   "metadata": {},
   "outputs": [],
   "source": []
  },
  {
   "cell_type": "code",
   "execution_count": null,
   "metadata": {},
   "outputs": [],
   "source": []
  },
  {
   "cell_type": "code",
   "execution_count": null,
   "metadata": {},
   "outputs": [],
   "source": []
  },
  {
   "cell_type": "code",
   "execution_count": null,
   "metadata": {},
   "outputs": [],
   "source": []
  },
  {
   "cell_type": "code",
   "execution_count": null,
   "metadata": {},
   "outputs": [],
   "source": []
  },
  {
   "cell_type": "code",
   "execution_count": null,
   "metadata": {},
   "outputs": [],
   "source": []
  },
  {
   "cell_type": "code",
   "execution_count": null,
   "metadata": {},
   "outputs": [],
   "source": []
  },
  {
   "cell_type": "code",
   "execution_count": null,
   "metadata": {},
   "outputs": [],
   "source": []
  },
  {
   "cell_type": "code",
   "execution_count": null,
   "metadata": {},
   "outputs": [],
   "source": []
  },
  {
   "cell_type": "code",
   "execution_count": null,
   "metadata": {},
   "outputs": [],
   "source": []
  },
  {
   "cell_type": "code",
   "execution_count": null,
   "metadata": {},
   "outputs": [],
   "source": []
  },
  {
   "cell_type": "code",
   "execution_count": null,
   "metadata": {},
   "outputs": [],
   "source": []
  },
  {
   "cell_type": "code",
   "execution_count": null,
   "metadata": {},
   "outputs": [],
   "source": []
  },
  {
   "cell_type": "code",
   "execution_count": null,
   "metadata": {},
   "outputs": [],
   "source": []
  },
  {
   "cell_type": "code",
   "execution_count": null,
   "metadata": {},
   "outputs": [],
   "source": []
  },
  {
   "cell_type": "code",
   "execution_count": null,
   "metadata": {},
   "outputs": [],
   "source": []
  },
  {
   "cell_type": "code",
   "execution_count": null,
   "metadata": {},
   "outputs": [],
   "source": []
  },
  {
   "cell_type": "code",
   "execution_count": null,
   "metadata": {},
   "outputs": [],
   "source": []
  },
  {
   "cell_type": "code",
   "execution_count": null,
   "metadata": {},
   "outputs": [],
   "source": []
  },
  {
   "cell_type": "code",
   "execution_count": null,
   "metadata": {},
   "outputs": [],
   "source": []
  },
  {
   "cell_type": "code",
   "execution_count": null,
   "metadata": {},
   "outputs": [],
   "source": []
  },
  {
   "cell_type": "code",
   "execution_count": null,
   "metadata": {},
   "outputs": [],
   "source": []
  },
  {
   "cell_type": "code",
   "execution_count": null,
   "metadata": {},
   "outputs": [],
   "source": []
  },
  {
   "cell_type": "code",
   "execution_count": null,
   "metadata": {},
   "outputs": [],
   "source": []
  },
  {
   "cell_type": "code",
   "execution_count": null,
   "metadata": {},
   "outputs": [],
   "source": []
  },
  {
   "cell_type": "code",
   "execution_count": null,
   "metadata": {},
   "outputs": [],
   "source": []
  },
  {
   "cell_type": "code",
   "execution_count": null,
   "metadata": {},
   "outputs": [],
   "source": []
  },
  {
   "cell_type": "code",
   "execution_count": null,
   "metadata": {},
   "outputs": [],
   "source": []
  },
  {
   "cell_type": "code",
   "execution_count": null,
   "metadata": {},
   "outputs": [],
   "source": []
  },
  {
   "cell_type": "code",
   "execution_count": null,
   "metadata": {},
   "outputs": [],
   "source": []
  },
  {
   "cell_type": "code",
   "execution_count": null,
   "metadata": {},
   "outputs": [],
   "source": []
  },
  {
   "cell_type": "code",
   "execution_count": null,
   "metadata": {},
   "outputs": [],
   "source": []
  },
  {
   "cell_type": "code",
   "execution_count": null,
   "metadata": {},
   "outputs": [],
   "source": []
  },
  {
   "cell_type": "code",
   "execution_count": null,
   "metadata": {},
   "outputs": [],
   "source": []
  },
  {
   "cell_type": "code",
   "execution_count": null,
   "metadata": {},
   "outputs": [],
   "source": []
  },
  {
   "cell_type": "code",
   "execution_count": null,
   "metadata": {},
   "outputs": [],
   "source": []
  },
  {
   "cell_type": "code",
   "execution_count": null,
   "metadata": {},
   "outputs": [],
   "source": []
  },
  {
   "cell_type": "code",
   "execution_count": null,
   "metadata": {},
   "outputs": [],
   "source": []
  },
  {
   "cell_type": "code",
   "execution_count": null,
   "metadata": {},
   "outputs": [],
   "source": []
  },
  {
   "cell_type": "code",
   "execution_count": null,
   "metadata": {},
   "outputs": [],
   "source": []
  },
  {
   "cell_type": "code",
   "execution_count": null,
   "metadata": {},
   "outputs": [],
   "source": []
  },
  {
   "cell_type": "code",
   "execution_count": null,
   "metadata": {},
   "outputs": [],
   "source": []
  },
  {
   "cell_type": "code",
   "execution_count": null,
   "metadata": {},
   "outputs": [],
   "source": []
  },
  {
   "cell_type": "code",
   "execution_count": null,
   "metadata": {},
   "outputs": [],
   "source": []
  },
  {
   "cell_type": "code",
   "execution_count": null,
   "metadata": {},
   "outputs": [],
   "source": []
  },
  {
   "cell_type": "code",
   "execution_count": null,
   "metadata": {},
   "outputs": [],
   "source": []
  },
  {
   "cell_type": "code",
   "execution_count": null,
   "metadata": {},
   "outputs": [],
   "source": []
  },
  {
   "cell_type": "code",
   "execution_count": null,
   "metadata": {},
   "outputs": [],
   "source": []
  },
  {
   "cell_type": "code",
   "execution_count": null,
   "metadata": {},
   "outputs": [],
   "source": []
  },
  {
   "cell_type": "code",
   "execution_count": null,
   "metadata": {},
   "outputs": [],
   "source": []
  },
  {
   "cell_type": "code",
   "execution_count": null,
   "metadata": {},
   "outputs": [],
   "source": []
  },
  {
   "cell_type": "code",
   "execution_count": null,
   "metadata": {},
   "outputs": [],
   "source": []
  },
  {
   "cell_type": "code",
   "execution_count": null,
   "metadata": {},
   "outputs": [],
   "source": []
  },
  {
   "cell_type": "code",
   "execution_count": null,
   "metadata": {},
   "outputs": [],
   "source": []
  },
  {
   "cell_type": "code",
   "execution_count": null,
   "metadata": {},
   "outputs": [],
   "source": []
  },
  {
   "cell_type": "code",
   "execution_count": null,
   "metadata": {},
   "outputs": [],
   "source": []
  },
  {
   "cell_type": "code",
   "execution_count": null,
   "metadata": {},
   "outputs": [],
   "source": []
  },
  {
   "cell_type": "code",
   "execution_count": null,
   "metadata": {},
   "outputs": [],
   "source": []
  },
  {
   "cell_type": "code",
   "execution_count": null,
   "metadata": {},
   "outputs": [],
   "source": []
  },
  {
   "cell_type": "code",
   "execution_count": null,
   "metadata": {},
   "outputs": [],
   "source": []
  },
  {
   "cell_type": "code",
   "execution_count": null,
   "metadata": {},
   "outputs": [],
   "source": []
  },
  {
   "cell_type": "code",
   "execution_count": null,
   "metadata": {},
   "outputs": [],
   "source": []
  },
  {
   "cell_type": "code",
   "execution_count": null,
   "metadata": {},
   "outputs": [],
   "source": []
  },
  {
   "cell_type": "code",
   "execution_count": null,
   "metadata": {},
   "outputs": [],
   "source": []
  },
  {
   "cell_type": "code",
   "execution_count": null,
   "metadata": {},
   "outputs": [],
   "source": []
  },
  {
   "cell_type": "code",
   "execution_count": null,
   "metadata": {},
   "outputs": [],
   "source": []
  },
  {
   "cell_type": "code",
   "execution_count": null,
   "metadata": {},
   "outputs": [],
   "source": []
  },
  {
   "cell_type": "code",
   "execution_count": null,
   "metadata": {},
   "outputs": [],
   "source": []
  },
  {
   "cell_type": "code",
   "execution_count": null,
   "metadata": {},
   "outputs": [],
   "source": []
  },
  {
   "cell_type": "code",
   "execution_count": null,
   "metadata": {},
   "outputs": [],
   "source": []
  },
  {
   "cell_type": "code",
   "execution_count": null,
   "metadata": {},
   "outputs": [],
   "source": []
  },
  {
   "cell_type": "code",
   "execution_count": null,
   "metadata": {},
   "outputs": [],
   "source": []
  },
  {
   "cell_type": "code",
   "execution_count": null,
   "metadata": {},
   "outputs": [],
   "source": []
  },
  {
   "cell_type": "code",
   "execution_count": null,
   "metadata": {},
   "outputs": [],
   "source": []
  },
  {
   "cell_type": "code",
   "execution_count": null,
   "metadata": {},
   "outputs": [],
   "source": []
  },
  {
   "cell_type": "code",
   "execution_count": null,
   "metadata": {},
   "outputs": [],
   "source": []
  },
  {
   "cell_type": "code",
   "execution_count": null,
   "metadata": {},
   "outputs": [],
   "source": []
  },
  {
   "cell_type": "code",
   "execution_count": null,
   "metadata": {},
   "outputs": [],
   "source": []
  },
  {
   "cell_type": "code",
   "execution_count": null,
   "metadata": {},
   "outputs": [],
   "source": []
  },
  {
   "cell_type": "code",
   "execution_count": null,
   "metadata": {},
   "outputs": [],
   "source": []
  },
  {
   "cell_type": "code",
   "execution_count": null,
   "metadata": {},
   "outputs": [],
   "source": []
  },
  {
   "cell_type": "code",
   "execution_count": null,
   "metadata": {},
   "outputs": [],
   "source": []
  },
  {
   "cell_type": "code",
   "execution_count": null,
   "metadata": {},
   "outputs": [],
   "source": []
  },
  {
   "cell_type": "code",
   "execution_count": null,
   "metadata": {},
   "outputs": [],
   "source": []
  },
  {
   "cell_type": "code",
   "execution_count": null,
   "metadata": {},
   "outputs": [],
   "source": []
  },
  {
   "cell_type": "code",
   "execution_count": null,
   "metadata": {},
   "outputs": [],
   "source": []
  },
  {
   "cell_type": "code",
   "execution_count": null,
   "metadata": {},
   "outputs": [],
   "source": []
  },
  {
   "cell_type": "code",
   "execution_count": null,
   "metadata": {},
   "outputs": [],
   "source": []
  },
  {
   "cell_type": "code",
   "execution_count": null,
   "metadata": {},
   "outputs": [],
   "source": []
  },
  {
   "cell_type": "code",
   "execution_count": null,
   "metadata": {},
   "outputs": [],
   "source": []
  },
  {
   "cell_type": "code",
   "execution_count": null,
   "metadata": {},
   "outputs": [],
   "source": []
  },
  {
   "cell_type": "code",
   "execution_count": null,
   "metadata": {},
   "outputs": [],
   "source": []
  },
  {
   "cell_type": "code",
   "execution_count": null,
   "metadata": {},
   "outputs": [],
   "source": []
  },
  {
   "cell_type": "code",
   "execution_count": null,
   "metadata": {},
   "outputs": [],
   "source": []
  },
  {
   "cell_type": "code",
   "execution_count": null,
   "metadata": {},
   "outputs": [],
   "source": []
  },
  {
   "cell_type": "code",
   "execution_count": null,
   "metadata": {},
   "outputs": [],
   "source": []
  },
  {
   "cell_type": "code",
   "execution_count": null,
   "metadata": {},
   "outputs": [],
   "source": []
  },
  {
   "cell_type": "code",
   "execution_count": null,
   "metadata": {},
   "outputs": [],
   "source": []
  },
  {
   "cell_type": "code",
   "execution_count": null,
   "metadata": {},
   "outputs": [],
   "source": []
  },
  {
   "cell_type": "code",
   "execution_count": null,
   "metadata": {},
   "outputs": [],
   "source": []
  },
  {
   "cell_type": "code",
   "execution_count": null,
   "metadata": {},
   "outputs": [],
   "source": []
  },
  {
   "cell_type": "code",
   "execution_count": null,
   "metadata": {},
   "outputs": [],
   "source": []
  },
  {
   "cell_type": "code",
   "execution_count": null,
   "metadata": {},
   "outputs": [],
   "source": []
  },
  {
   "cell_type": "code",
   "execution_count": null,
   "metadata": {},
   "outputs": [],
   "source": []
  },
  {
   "cell_type": "code",
   "execution_count": null,
   "metadata": {},
   "outputs": [],
   "source": []
  },
  {
   "cell_type": "code",
   "execution_count": null,
   "metadata": {},
   "outputs": [],
   "source": []
  },
  {
   "cell_type": "code",
   "execution_count": null,
   "metadata": {},
   "outputs": [],
   "source": []
  },
  {
   "cell_type": "code",
   "execution_count": null,
   "metadata": {},
   "outputs": [],
   "source": []
  },
  {
   "cell_type": "code",
   "execution_count": null,
   "metadata": {},
   "outputs": [],
   "source": []
  },
  {
   "cell_type": "code",
   "execution_count": null,
   "metadata": {},
   "outputs": [],
   "source": []
  },
  {
   "cell_type": "code",
   "execution_count": null,
   "metadata": {},
   "outputs": [],
   "source": []
  },
  {
   "cell_type": "code",
   "execution_count": null,
   "metadata": {},
   "outputs": [],
   "source": []
  },
  {
   "cell_type": "code",
   "execution_count": null,
   "metadata": {},
   "outputs": [],
   "source": []
  },
  {
   "cell_type": "code",
   "execution_count": null,
   "metadata": {},
   "outputs": [],
   "source": []
  },
  {
   "cell_type": "code",
   "execution_count": null,
   "metadata": {},
   "outputs": [],
   "source": []
  },
  {
   "cell_type": "code",
   "execution_count": null,
   "metadata": {},
   "outputs": [],
   "source": []
  },
  {
   "cell_type": "code",
   "execution_count": null,
   "metadata": {},
   "outputs": [],
   "source": []
  },
  {
   "cell_type": "code",
   "execution_count": null,
   "metadata": {},
   "outputs": [],
   "source": []
  },
  {
   "cell_type": "code",
   "execution_count": null,
   "metadata": {},
   "outputs": [],
   "source": []
  },
  {
   "cell_type": "code",
   "execution_count": null,
   "metadata": {},
   "outputs": [],
   "source": []
  },
  {
   "cell_type": "code",
   "execution_count": null,
   "metadata": {},
   "outputs": [],
   "source": []
  },
  {
   "cell_type": "code",
   "execution_count": null,
   "metadata": {},
   "outputs": [],
   "source": []
  },
  {
   "cell_type": "code",
   "execution_count": null,
   "metadata": {},
   "outputs": [],
   "source": []
  },
  {
   "cell_type": "code",
   "execution_count": null,
   "metadata": {},
   "outputs": [],
   "source": []
  },
  {
   "cell_type": "code",
   "execution_count": null,
   "metadata": {},
   "outputs": [],
   "source": []
  },
  {
   "cell_type": "code",
   "execution_count": null,
   "metadata": {},
   "outputs": [],
   "source": []
  },
  {
   "cell_type": "code",
   "execution_count": null,
   "metadata": {},
   "outputs": [],
   "source": []
  },
  {
   "cell_type": "code",
   "execution_count": null,
   "metadata": {},
   "outputs": [],
   "source": []
  },
  {
   "cell_type": "code",
   "execution_count": null,
   "metadata": {},
   "outputs": [],
   "source": []
  },
  {
   "cell_type": "code",
   "execution_count": null,
   "metadata": {},
   "outputs": [],
   "source": []
  },
  {
   "cell_type": "code",
   "execution_count": null,
   "metadata": {},
   "outputs": [],
   "source": []
  },
  {
   "cell_type": "code",
   "execution_count": null,
   "metadata": {},
   "outputs": [],
   "source": []
  },
  {
   "cell_type": "code",
   "execution_count": null,
   "metadata": {},
   "outputs": [],
   "source": []
  },
  {
   "cell_type": "code",
   "execution_count": null,
   "metadata": {},
   "outputs": [],
   "source": []
  },
  {
   "cell_type": "code",
   "execution_count": null,
   "metadata": {},
   "outputs": [],
   "source": []
  },
  {
   "cell_type": "code",
   "execution_count": null,
   "metadata": {},
   "outputs": [],
   "source": []
  },
  {
   "cell_type": "code",
   "execution_count": null,
   "metadata": {},
   "outputs": [],
   "source": []
  },
  {
   "cell_type": "code",
   "execution_count": null,
   "metadata": {},
   "outputs": [],
   "source": []
  },
  {
   "cell_type": "code",
   "execution_count": null,
   "metadata": {},
   "outputs": [],
   "source": []
  },
  {
   "cell_type": "code",
   "execution_count": null,
   "metadata": {},
   "outputs": [],
   "source": []
  },
  {
   "cell_type": "code",
   "execution_count": null,
   "metadata": {},
   "outputs": [],
   "source": []
  },
  {
   "cell_type": "code",
   "execution_count": null,
   "metadata": {},
   "outputs": [],
   "source": []
  },
  {
   "cell_type": "code",
   "execution_count": null,
   "metadata": {},
   "outputs": [],
   "source": []
  },
  {
   "cell_type": "code",
   "execution_count": null,
   "metadata": {},
   "outputs": [],
   "source": []
  },
  {
   "cell_type": "code",
   "execution_count": null,
   "metadata": {},
   "outputs": [],
   "source": []
  },
  {
   "cell_type": "code",
   "execution_count": null,
   "metadata": {},
   "outputs": [],
   "source": []
  },
  {
   "cell_type": "code",
   "execution_count": null,
   "metadata": {},
   "outputs": [],
   "source": []
  },
  {
   "cell_type": "code",
   "execution_count": null,
   "metadata": {},
   "outputs": [],
   "source": []
  },
  {
   "cell_type": "code",
   "execution_count": null,
   "metadata": {},
   "outputs": [],
   "source": []
  },
  {
   "cell_type": "code",
   "execution_count": null,
   "metadata": {},
   "outputs": [],
   "source": []
  },
  {
   "cell_type": "code",
   "execution_count": null,
   "metadata": {},
   "outputs": [],
   "source": []
  },
  {
   "cell_type": "code",
   "execution_count": null,
   "metadata": {},
   "outputs": [],
   "source": []
  },
  {
   "cell_type": "code",
   "execution_count": null,
   "metadata": {},
   "outputs": [],
   "source": []
  },
  {
   "cell_type": "code",
   "execution_count": null,
   "metadata": {},
   "outputs": [],
   "source": []
  },
  {
   "cell_type": "code",
   "execution_count": null,
   "metadata": {},
   "outputs": [],
   "source": []
  },
  {
   "cell_type": "code",
   "execution_count": null,
   "metadata": {},
   "outputs": [],
   "source": []
  },
  {
   "cell_type": "code",
   "execution_count": null,
   "metadata": {},
   "outputs": [],
   "source": []
  },
  {
   "cell_type": "code",
   "execution_count": null,
   "metadata": {},
   "outputs": [],
   "source": []
  },
  {
   "cell_type": "code",
   "execution_count": null,
   "metadata": {},
   "outputs": [],
   "source": []
  },
  {
   "cell_type": "code",
   "execution_count": null,
   "metadata": {},
   "outputs": [],
   "source": []
  },
  {
   "cell_type": "code",
   "execution_count": null,
   "metadata": {},
   "outputs": [],
   "source": []
  },
  {
   "cell_type": "code",
   "execution_count": null,
   "metadata": {},
   "outputs": [],
   "source": []
  },
  {
   "cell_type": "code",
   "execution_count": null,
   "metadata": {},
   "outputs": [],
   "source": []
  },
  {
   "cell_type": "code",
   "execution_count": null,
   "metadata": {},
   "outputs": [],
   "source": []
  },
  {
   "cell_type": "code",
   "execution_count": null,
   "metadata": {},
   "outputs": [],
   "source": []
  },
  {
   "cell_type": "code",
   "execution_count": null,
   "metadata": {},
   "outputs": [],
   "source": []
  },
  {
   "cell_type": "code",
   "execution_count": null,
   "metadata": {},
   "outputs": [],
   "source": []
  }
 ],
 "metadata": {
  "kernelspec": {
   "display_name": "Python 3",
   "language": "python",
   "name": "python3"
  },
  "language_info": {
   "codemirror_mode": {
    "name": "ipython",
    "version": 3
   },
   "file_extension": ".py",
   "mimetype": "text/x-python",
   "name": "python",
   "nbconvert_exporter": "python",
   "pygments_lexer": "ipython3",
   "version": "3.7.7"
  }
 },
 "nbformat": 4,
 "nbformat_minor": 4
}
