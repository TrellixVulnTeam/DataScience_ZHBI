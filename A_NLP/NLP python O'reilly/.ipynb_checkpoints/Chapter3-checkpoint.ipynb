{
 "cells": [
  {
   "cell_type": "code",
   "execution_count": 82,
   "metadata": {},
   "outputs": [],
   "source": [
    "from __future__ import division\n",
    "import nltk,re,pprint\n",
    "from urllib.request import urlopen\n",
    "from bs4 import BeautifulSoup"
   ]
  },
  {
   "cell_type": "code",
   "execution_count": null,
   "metadata": {},
   "outputs": [],
   "source": []
  },
  {
   "cell_type": "code",
   "execution_count": 38,
   "metadata": {},
   "outputs": [],
   "source": [
    "url=\"http://www.gutenberg.org/files/2554/2554-0.txt\""
   ]
  },
  {
   "cell_type": "code",
   "execution_count": 39,
   "metadata": {},
   "outputs": [],
   "source": [
    "raw=urlopen(url).read()"
   ]
  },
  {
   "cell_type": "code",
   "execution_count": 40,
   "metadata": {},
   "outputs": [
    {
     "data": {
      "text/plain": [
       "bytes"
      ]
     },
     "execution_count": 40,
     "metadata": {},
     "output_type": "execute_result"
    }
   ],
   "source": [
    "type(raw)"
   ]
  },
  {
   "cell_type": "code",
   "execution_count": 41,
   "metadata": {},
   "outputs": [
    {
     "data": {
      "text/plain": [
       "1201735"
      ]
     },
     "execution_count": 41,
     "metadata": {},
     "output_type": "execute_result"
    }
   ],
   "source": [
    "len(raw)"
   ]
  },
  {
   "cell_type": "code",
   "execution_count": 42,
   "metadata": {},
   "outputs": [
    {
     "data": {
      "text/plain": [
       "b'ject Gutenberg EBook of Crime and Punishment, by Fyodor Dostoevsk'"
      ]
     },
     "execution_count": 42,
     "metadata": {},
     "output_type": "execute_result"
    }
   ],
   "source": [
    "raw[10:75]"
   ]
  },
  {
   "cell_type": "code",
   "execution_count": 43,
   "metadata": {},
   "outputs": [],
   "source": [
    "proxies={'http':'http://www.someproxy.com:3128'}"
   ]
  },
  {
   "cell_type": "code",
   "execution_count": 44,
   "metadata": {},
   "outputs": [],
   "source": [
    "# raw=urlopen(url,proxies=proxies).read()"
   ]
  },
  {
   "cell_type": "code",
   "execution_count": 45,
   "metadata": {},
   "outputs": [],
   "source": [
    "url=\"https://www.medium.com\""
   ]
  },
  {
   "cell_type": "code",
   "execution_count": 53,
   "metadata": {},
   "outputs": [],
   "source": [
    "raw=raw.decode('utf-8')"
   ]
  },
  {
   "cell_type": "code",
   "execution_count": 54,
   "metadata": {},
   "outputs": [],
   "source": [
    "tokens=nltk.word_tokenize(raw)"
   ]
  },
  {
   "cell_type": "code",
   "execution_count": 55,
   "metadata": {},
   "outputs": [
    {
     "data": {
      "text/plain": [
       "list"
      ]
     },
     "execution_count": 55,
     "metadata": {},
     "output_type": "execute_result"
    }
   ],
   "source": [
    "type(tokens)"
   ]
  },
  {
   "cell_type": "code",
   "execution_count": 56,
   "metadata": {},
   "outputs": [
    {
     "data": {
      "text/plain": [
       "257085"
      ]
     },
     "execution_count": 56,
     "metadata": {},
     "output_type": "execute_result"
    }
   ],
   "source": [
    "len(tokens)"
   ]
  },
  {
   "cell_type": "code",
   "execution_count": 57,
   "metadata": {},
   "outputs": [
    {
     "data": {
      "text/plain": [
       "['\\ufeffThe',\n",
       " 'Project',\n",
       " 'Gutenberg',\n",
       " 'EBook',\n",
       " 'of',\n",
       " 'Crime',\n",
       " 'and',\n",
       " 'Punishment',\n",
       " ',',\n",
       " 'by']"
      ]
     },
     "execution_count": 57,
     "metadata": {},
     "output_type": "execute_result"
    }
   ],
   "source": [
    "tokens[:10]"
   ]
  },
  {
   "cell_type": "code",
   "execution_count": 59,
   "metadata": {},
   "outputs": [],
   "source": [
    "text=nltk.Text(tokens)"
   ]
  },
  {
   "cell_type": "code",
   "execution_count": 61,
   "metadata": {},
   "outputs": [
    {
     "data": {
      "text/plain": [
       "nltk.text.Text"
      ]
     },
     "execution_count": 61,
     "metadata": {},
     "output_type": "execute_result"
    }
   ],
   "source": [
    "type(text)"
   ]
  },
  {
   "cell_type": "code",
   "execution_count": 63,
   "metadata": {},
   "outputs": [
    {
     "data": {
      "text/plain": [
       "['PROJECT',\n",
       " 'GUTENBERG',\n",
       " 'EBOOK',\n",
       " 'CRIME',\n",
       " 'AND',\n",
       " 'PUNISHMENT',\n",
       " '*',\n",
       " '*',\n",
       " '*',\n",
       " 'Produced',\n",
       " 'by',\n",
       " 'John',\n",
       " 'Bickers',\n",
       " ';',\n",
       " 'and',\n",
       " 'Dagny',\n",
       " 'CRIME',\n",
       " 'AND',\n",
       " 'PUNISHMENT',\n",
       " 'By',\n",
       " 'Fyodor',\n",
       " 'Dostoevsky',\n",
       " 'Translated',\n",
       " 'By',\n",
       " 'Constance',\n",
       " 'Garnett',\n",
       " 'TRANSLATOR',\n",
       " '’',\n",
       " 'S',\n",
       " 'PREFACE',\n",
       " 'A',\n",
       " 'few',\n",
       " 'words',\n",
       " 'about',\n",
       " 'Dostoevsky',\n",
       " 'himself',\n",
       " 'may',\n",
       " 'help',\n",
       " 'the',\n",
       " 'English',\n",
       " 'reader',\n",
       " 'to',\n",
       " 'understand',\n",
       " 'his',\n",
       " 'work',\n",
       " '.',\n",
       " 'Dostoevsky',\n",
       " 'was',\n",
       " 'the',\n",
       " 'son']"
      ]
     },
     "execution_count": 63,
     "metadata": {},
     "output_type": "execute_result"
    }
   ],
   "source": [
    "text[100:150]"
   ]
  },
  {
   "cell_type": "code",
   "execution_count": 65,
   "metadata": {},
   "outputs": [
    {
     "name": "stdout",
     "output_type": "stream",
     "text": [
      "Katerina Ivanovna; Pyotr Petrovitch; Pulcheria Alexandrovna; Avdotya\n",
      "Romanovna; Rodion Romanovitch; Marfa Petrovna; Sofya Semyonovna; old\n",
      "woman; Project Gutenberg-tm; Porfiry Petrovitch; Amalia Ivanovna;\n",
      "great deal; young man; Nikodim Fomitch; Ilya Petrovitch; Project\n",
      "Gutenberg; Andrey Semyonovitch; Hay Market; Dmitri Prokofitch; Good\n",
      "heavens\n"
     ]
    }
   ],
   "source": [
    "text.collocations()"
   ]
  },
  {
   "cell_type": "code",
   "execution_count": 66,
   "metadata": {},
   "outputs": [
    {
     "data": {
      "text/plain": [
       "[('Katerina', 'Ivanovna'),\n",
       " ('Pyotr', 'Petrovitch'),\n",
       " ('Pulcheria', 'Alexandrovna'),\n",
       " ('Avdotya', 'Romanovna'),\n",
       " ('Rodion', 'Romanovitch'),\n",
       " ('Marfa', 'Petrovna'),\n",
       " ('Sofya', 'Semyonovna'),\n",
       " ('old', 'woman'),\n",
       " ('Project', 'Gutenberg-tm'),\n",
       " ('Porfiry', 'Petrovitch'),\n",
       " ('Amalia', 'Ivanovna'),\n",
       " ('great', 'deal'),\n",
       " ('young', 'man'),\n",
       " ('Nikodim', 'Fomitch'),\n",
       " ('Ilya', 'Petrovitch'),\n",
       " ('Project', 'Gutenberg'),\n",
       " ('Andrey', 'Semyonovitch'),\n",
       " ('Hay', 'Market'),\n",
       " ('Dmitri', 'Prokofitch'),\n",
       " ('Good', 'heavens')]"
      ]
     },
     "execution_count": 66,
     "metadata": {},
     "output_type": "execute_result"
    }
   ],
   "source": [
    "text.collocation_list()"
   ]
  },
  {
   "cell_type": "code",
   "execution_count": 68,
   "metadata": {},
   "outputs": [
    {
     "data": {
      "text/plain": [
       "5336"
      ]
     },
     "execution_count": 68,
     "metadata": {},
     "output_type": "execute_result"
    }
   ],
   "source": [
    "raw.find('PART I')"
   ]
  },
  {
   "cell_type": "code",
   "execution_count": 74,
   "metadata": {},
   "outputs": [
    {
     "data": {
      "text/plain": [
       "13"
      ]
     },
     "execution_count": 74,
     "metadata": {},
     "output_type": "execute_result"
    }
   ],
   "source": [
    "raw.rfind(\"Gutenberg EBook of Crime\")"
   ]
  },
  {
   "cell_type": "code",
   "execution_count": 75,
   "metadata": {},
   "outputs": [],
   "source": [
    "url = \"http://news.bbc.co.uk/2/hi/health/2284783.stm\""
   ]
  },
  {
   "cell_type": "code",
   "execution_count": 104,
   "metadata": {},
   "outputs": [],
   "source": [
    "html=urlopen(url).read()"
   ]
  },
  {
   "cell_type": "code",
   "execution_count": 108,
   "metadata": {},
   "outputs": [],
   "source": [
    "raw=BeautifulSoup(html).get_text()"
   ]
  },
  {
   "cell_type": "code",
   "execution_count": 111,
   "metadata": {},
   "outputs": [],
   "source": [
    "tokens=nltk.word_tokenize(raw)"
   ]
  },
  {
   "cell_type": "code",
   "execution_count": 113,
   "metadata": {},
   "outputs": [
    {
     "data": {
      "text/plain": [
       "['BBC', 'NEWS', '|', 'Health', '|', 'Blondes', \"'to\", 'die', 'out', 'in']"
      ]
     },
     "execution_count": 113,
     "metadata": {},
     "output_type": "execute_result"
    }
   ],
   "source": [
    "tokens[:10]"
   ]
  },
  {
   "cell_type": "code",
   "execution_count": 114,
   "metadata": {},
   "outputs": [
    {
     "name": "stdout",
     "output_type": "stream",
     "text": [
      "Displaying 7 of 7 matches:\n",
      "hey say too few people now carry the gene for blondes to last beyond the next \n",
      "blonde hair is caused by a recessive gene . In order for a child to have blond\n",
      " have blonde hair , it must have the gene on both sides of the family in the g\n",
      "ere is a disadvantage of having that gene or by chance . They do n't disappear\n",
      "des would disappear is if having the gene was a disadvantage and I do not thin\n",
      "er's Polio campaign launched in Iraq Gene defect explains high blood pressure \n",
      "er's Polio campaign launched in Iraq Gene defect explains high blood pressure \n"
     ]
    }
   ],
   "source": [
    "text=nltk.Text(tokens)\n",
    "text.concordance('gene')"
   ]
  },
  {
   "cell_type": "markdown",
   "metadata": {},
   "source": [
    "concordance finds the strings present in particular sentences"
   ]
  },
  {
   "cell_type": "code",
   "execution_count": 116,
   "metadata": {},
   "outputs": [],
   "source": [
    "import feedparser\n",
    "llog=feedparser.parse(\"http://languagelog.ldc.upenn.edu/nll/?feed=atom\")\n"
   ]
  },
  {
   "cell_type": "code",
   "execution_count": 125,
   "metadata": {},
   "outputs": [
    {
     "data": {
      "text/plain": [
       "'Language Log'"
      ]
     },
     "execution_count": 125,
     "metadata": {},
     "output_type": "execute_result"
    }
   ],
   "source": [
    "llog['feed']['title']"
   ]
  },
  {
   "cell_type": "code",
   "execution_count": 126,
   "metadata": {},
   "outputs": [
    {
     "data": {
      "text/plain": [
       "13"
      ]
     },
     "execution_count": 126,
     "metadata": {},
     "output_type": "execute_result"
    }
   ],
   "source": [
    "len(llog.entries)"
   ]
  },
  {
   "cell_type": "code",
   "execution_count": 130,
   "metadata": {},
   "outputs": [],
   "source": [
    "post=llog.entries[2]"
   ]
  },
  {
   "cell_type": "code",
   "execution_count": 131,
   "metadata": {},
   "outputs": [
    {
     "data": {
      "text/plain": [
       "{'authors': [{'name': 'Victor Mair',\n",
       "   'href': 'https://www.sas.upenn.edu/ealc/mair'}],\n",
       " 'author_detail': {'name': 'Victor Mair',\n",
       "  'href': 'https://www.sas.upenn.edu/ealc/mair'},\n",
       " 'href': 'https://www.sas.upenn.edu/ealc/mair',\n",
       " 'author': 'Victor Mair',\n",
       " 'title': 'GFHG, SDGM',\n",
       " 'title_detail': {'type': 'text/html',\n",
       "  'language': 'en-US',\n",
       "  'base': 'https://languagelog.ldc.upenn.edu/nll/wp-atom.php',\n",
       "  'value': 'GFHG, SDGM'},\n",
       " 'links': [{'rel': 'alternate',\n",
       "   'type': 'text/html',\n",
       "   'href': 'https://languagelog.ldc.upenn.edu/nll/?p=47570&utm_source=rss&utm_medium=rss&utm_campaign=gfhg-sdgm'},\n",
       "  {'rel': 'replies',\n",
       "   'type': 'text/html',\n",
       "   'href': 'https://languagelog.ldc.upenn.edu/nll/?p=47570&utm_source=rss&utm_medium=rss&utm_campaign=gfhg-sdgm#comments',\n",
       "   'count': '6',\n",
       "   'thr:count': '6'},\n",
       "  {'rel': 'replies',\n",
       "   'type': 'application/atom+xml',\n",
       "   'href': 'https://languagelog.ldc.upenn.edu/nll/?feed=atom&p=47570',\n",
       "   'count': '6',\n",
       "   'thr:count': '6'}],\n",
       " 'link': 'https://languagelog.ldc.upenn.edu/nll/?p=47570&utm_source=rss&utm_medium=rss&utm_campaign=gfhg-sdgm',\n",
       " 'id': 'https://languagelog.ldc.upenn.edu/nll/?p=47570',\n",
       " 'guidislink': False,\n",
       " 'updated': '2020-07-07T22:23:36Z',\n",
       " 'updated_parsed': time.struct_time(tm_year=2020, tm_mon=7, tm_mday=7, tm_hour=22, tm_min=23, tm_sec=36, tm_wday=1, tm_yday=189, tm_isdst=0),\n",
       " 'published': '2020-07-07T14:04:38Z',\n",
       " 'published_parsed': time.struct_time(tm_year=2020, tm_mon=7, tm_mday=7, tm_hour=14, tm_min=4, tm_sec=38, tm_wday=1, tm_yday=189, tm_isdst=0),\n",
       " 'tags': [{'term': 'Censorship',\n",
       "   'scheme': 'https://languagelog.ldc.upenn.edu/nll',\n",
       "   'label': None},\n",
       "  {'term': 'Slogans',\n",
       "   'scheme': 'https://languagelog.ldc.upenn.edu/nll',\n",
       "   'label': None}],\n",
       " 'summary': 'Hong Kong opponents of PRC / CCP totalitarian rule can read the title of this post.\\xa0 Many of them can also read this geometric typeface: In both cases it is the rallying cry of the dissidents: gwong1 fuk6 hoeng1 gong2 si4 doi6 gaak3 ming6\\xa0 (Jyutping) 光復香港时代革命 \"Liberate Hong Kong! the revolution of our times!\" With [&#8230;]',\n",
       " 'summary_detail': {'type': 'text/html',\n",
       "  'language': 'en-US',\n",
       "  'base': 'https://languagelog.ldc.upenn.edu/nll/wp-atom.php',\n",
       "  'value': 'Hong Kong opponents of PRC / CCP totalitarian rule can read the title of this post.\\xa0 Many of them can also read this geometric typeface: In both cases it is the rallying cry of the dissidents: gwong1 fuk6 hoeng1 gong2 si4 doi6 gaak3 ming6\\xa0 (Jyutping) 光復香港时代革命 \"Liberate Hong Kong! the revolution of our times!\" With [&#8230;]'},\n",
       " 'content': [{'type': 'text/html',\n",
       "   'language': 'en-US',\n",
       "   'base': 'https://languagelog.ldc.upenn.edu/nll/?p=47570&utm_source=rss&utm_medium=rss&utm_campaign=gfhg-sdgm',\n",
       "   'value': '<p>Hong Kong opponents of PRC / CCP totalitarian rule can read the title of this post.\\xa0 Many of them can also read this geometric typeface:</p>\\n<p align=\"center\"><a href=\"http://languagelog.ldc.upenn.edu/~bgzimmer/GFHG.jpg\"><img title=\"Click to embiggen\" src=\"http://languagelog.ldc.upenn.edu/~bgzimmer/GFHG.jpg\" alt=\"\" width=\"475\" /></a><span id=\"more-47570\"></span></p>\\n<p>In both cases it is the rallying cry of the dissidents:</p>\\n<p style=\"padding-left: 40px;\">gwong1 fuk6 hoeng1 gong2 si4 doi6 gaak3 ming6\\xa0 (<a href=\"https://en.wikipedia.org/wiki/Jyutping\" target=\"_blank\" rel=\"noopener noreferrer\" data-saferedirecturl=\"https://www.google.com/url?q=https://en.wikipedia.org/wiki/Jyutping&amp;source=gmail&amp;ust=1594178928840000&amp;usg=AFQjCNGbxTZfZYijIwXFK3gJs-rT_0LoHg\">Jyutping</a>)<br />\\n光復香港时代革命<br />\\n\"Liberate Hong Kong! the revolution of our times!\"</p>\\n<p>With the recent imposition of the National Security Law, the Beijing government has suddenly (27 years ahead of schedule) made Hong Kong subject to the same draconian constraints on free speech that are enforced everywhere in the PRC. (See: \"<a title=\"Permanent link to National Security Law eclipses Hong Kong\" href=\"https://languagelog.ldc.upenn.edu/nll/?p=47331\" target=\"_blank\" rel=\"bookmark noopener noreferrer\" data-saferedirecturl=\"https://www.google.com/url?q=https://languagelog.ldc.upenn.edu/nll/?p%3D47331&amp;source=gmail&amp;ust=1594178928840000&amp;usg=AFQjCNEl3yD777ta7chwlElTgvWWC16VSA\">National Security Law eclipses Hong Kong</a>\", 6/2/20.)</p>\\n<p>The erstwhile principle of \"<a href=\"https://en.wikipedia.org/wiki/One_country,_two_systems\" target=\"_blank\" rel=\"noopener noreferrer\" data-saferedirecturl=\"https://www.google.com/url?q=https://en.wikipedia.org/wiki/One_country,_two_systems&amp;source=gmail&amp;ust=1594178928840000&amp;usg=AFQjCNG4W6rX_nNt9nl7pLOjgxngpOc62Q\">One country, two systems</a>\" (Yīguóliǎngzhì 一国两制) is dead.</p>\\n<p style=\"padding-left: 40px;\">\"<a href=\"https://qz.com/1877057/as-in-mainland-china-hong-kongers-use-code-to-skirt-censorship/\" target=\"_blank\" rel=\"noopener noreferrer\" data-saferedirecturl=\"https://www.google.com/url?q=https://qz.com/1877057/as-in-mainland-china-hong-kongers-use-code-to-skirt-censorship/&amp;source=gmail&amp;ust=1594178928840000&amp;usg=AFQjCNGbmR8IX8nKi9BvIZkT3TSPg7r6WA\">As in mainland China, Hong Kongers now use code to evade political censorship</a>\" (Quartz, 7/3/20)</p>\\n<p style=\"padding-left: 40px;\">\"‘<a href=\"https://hongkongfp.com/2020/07/03/gfhg-sdgm-hong-kong-netizens-reimagine-illegal-slogan-as-protesters-find-workaround/\">GFHG, SDGM’: Hong Kong netizens reimagine illegal slogan as protesters find workarounds\"</a> (Hong Kong Free Press, 7/3/20)</p>\\n<p>The ultimate anti-censorship dodge:\\xa0 holding up blank signs.</p>\\n<p style=\"padding-left: 40px;\">\"<a href=\"https://www.businessinsider.com/hong-kong-activists-blank-signs-avoid-china-national-security-law-2020-7\">Hong Kong activists are holding up blank signs because China now has the power to define pro-democracy slogans as terrorism</a>\", by <span data-e2e-name=\"Bill Bostock\"><span class=\"byline-link byline-author-name\">Bill Bostock, Business Insider</span></span> (7/6/20).</p>\\n<p>It is impossible for the censors to keep up with the creativity and determination of the people who want to be free.</p>\\n<p><b>Selected readings</b></p>\\n<ul>\\n<li>\"<a href=\"https://languagelog.ldc.upenn.edu/nll/?p=44272\" target=\"_blank\" rel=\"noopener noreferrer\" data-saferedirecturl=\"https://www.google.com/url?q=https://languagelog.ldc.upenn.edu/nll/?p%3D44272&amp;source=gmail&amp;ust=1594178928840000&amp;usg=AFQjCNG4pPoqLdvTN2qpVuzajHUzwswLwg\">Vocabulary of Hong Kong protest slogans and new characters</a>\" (9/1/19)</li>\\n<li>\"<a title=\"Permanent link to Hong Kong protests: \" href=\"https://languagelog.ldc.upenn.edu/nll/?p=44886\" target=\"_blank\" rel=\"bookmark noopener noreferrer\" data-saferedirecturl=\"https://www.google.com/url?q=https://languagelog.ldc.upenn.edu/nll/?p%3D44886&amp;source=gmail&amp;ust=1594178928840000&amp;usg=AFQjCNGGrjQs86K8pjTahiJ2PqqEubbuxg\">Hong Kong protests: \\'recover\\' or \\'liberate\\'</a>\" (11/3/19)</li>\\n<li>\"<a title=\"Permanent link to Loose Romanization for Cantonese\" href=\"https://languagelog.ldc.upenn.edu/nll/?p=44443\" target=\"_blank\" rel=\"bookmark noopener noreferrer\" data-saferedirecturl=\"https://www.google.com/url?q=https://languagelog.ldc.upenn.edu/nll/?p%3D44443&amp;source=gmail&amp;ust=1594178928840000&amp;usg=AFQjCNFqNYe86CFW2c_81wv7iuBpYwOWMw\">Loose Romanization for Cantonese</a>\" (9/21/19)</li>\\n<li>\"<a title=\"Permanent link to Women\\'s Romanization for Hong Kong\" href=\"https://languagelog.ldc.upenn.edu/nll/?p=44034\" target=\"_blank\" rel=\"bookmark noopener noreferrer\" data-saferedirecturl=\"https://www.google.com/url?q=https://languagelog.ldc.upenn.edu/nll/?p%3D44034&amp;source=gmail&amp;ust=1594178928840000&amp;usg=AFQjCNG6SMFeOYGehQ8RscslRFh_9BPtoA\">Women\\'s Romanization for Hong Kong</a></li>\\n<li>\"<a title=\"Permanent link to Hong Kong protesters\\' argot\" href=\"https://languagelog.ldc.upenn.edu/nll/?p=44317\" target=\"_blank\" rel=\"bookmark noopener noreferrer\" data-saferedirecturl=\"https://www.google.com/url?q=https://languagelog.ldc.upenn.edu/nll/?p%3D44317&amp;source=gmail&amp;ust=1594178928840000&amp;usg=AFQjCNEPMHiJvb8wnFoCTGL0p5GxAeOdOg\">Hong Kong protesters\\' argot</a>\" (9/7/19) — includes a long list of relevant posts</li>\\n<li>\"<a title=\"Permanent link to Uppercase and lowercase letters in Cantonese Romanization\" href=\"https://languagelog.ldc.upenn.edu/nll/?p=47267\" target=\"_blank\" rel=\"bookmark noopener noreferrer\" data-saferedirecturl=\"https://www.google.com/url?q=https://languagelog.ldc.upenn.edu/nll/?p%3D47267&amp;source=gmail&amp;ust=1594178928840000&amp;usg=AFQjCNEH3CWPgwQDc6UVaO5I_13Ye3wJ8Q\">Uppercase and lowercase letters in Cantonese Romanization</a>\" (5/28/20) — also includes a long list of relevant posts</li>\\n<li>\"<a title=\"Permanent link to Better said in Cantonese\" href=\"https://languagelog.ldc.upenn.edu/nll/?p=47559\" target=\"_blank\" rel=\"bookmark noopener noreferrer\" data-saferedirecturl=\"https://www.google.com/url?q=https://languagelog.ldc.upenn.edu/nll/?p%3D47559&amp;source=gmail&amp;ust=1594178928840000&amp;usg=AFQjCNFS8-ocwN3DjMvhAfsDENI56_P0yg\">Better said in Cantonese</a>\" (7/4/20) — also includes a long list of relevant posts</li>\\n<li>\"<a title=\"Permanent link to National Security Law eclipses Hong Kong\" href=\"https://languagelog.ldc.upenn.edu/nll/?p=47331\" target=\"_blank\" rel=\"bookmark noopener noreferrer\" data-saferedirecturl=\"https://www.google.com/url?q=https://languagelog.ldc.upenn.edu/nll/?p%3D47331&amp;source=gmail&amp;ust=1594178928840000&amp;usg=AFQjCNEl3yD777ta7chwlElTgvWWC16VSA\">National Security Law eclipses Hong Kong</a>\" (6/2/20)</li>\\n</ul>\\n<p>[h.t. Norman Leung and Mark Metcalf]</p>'}],\n",
       " 'thr_total': '6'}"
      ]
     },
     "execution_count": 131,
     "metadata": {},
     "output_type": "execute_result"
    }
   ],
   "source": [
    "post"
   ]
  },
  {
   "cell_type": "code",
   "execution_count": 129,
   "metadata": {},
   "outputs": [
    {
     "data": {
      "text/plain": [
       "'GFHG, SDGM'"
      ]
     },
     "execution_count": 129,
     "metadata": {},
     "output_type": "execute_result"
    }
   ],
   "source": [
    "post.title"
   ]
  },
  {
   "cell_type": "code",
   "execution_count": 137,
   "metadata": {},
   "outputs": [
    {
     "data": {
      "text/plain": [
       "'<p>Hong Kong opponents of PRC / CCP totalitarian rule can read the title of this post.\\xa0 Many of them can also read this geometric typeface:</p>\\n<p align=\"center\"><a href=\"http://languagelog.ldc.upenn.edu/~bgzimmer/GFHG.jpg\"><img title=\"Click to embiggen\" src=\"http://languagelog.ldc.upenn.edu/~bgzimmer/GFHG.jpg\" alt=\"\" width=\"475\" /></a><span id=\"more-47570\"></span></p>\\n<p>In both cases it is the rallying cry of the dissidents:</p>\\n<p style=\"padding-left: 40px;\">gwong1 fuk6 hoeng1 gong2 si4 doi6 '"
      ]
     },
     "execution_count": 137,
     "metadata": {},
     "output_type": "execute_result"
    }
   ],
   "source": [
    "content=post.content[0].value\n",
    "content[:500]"
   ]
  },
  {
   "cell_type": "code",
   "execution_count": 149,
   "metadata": {},
   "outputs": [
    {
     "data": {
      "text/plain": [
       "['Hong',\n",
       " 'Kong',\n",
       " 'opponents',\n",
       " 'of',\n",
       " 'PRC',\n",
       " '/',\n",
       " 'CCP',\n",
       " 'totalitarian',\n",
       " 'rule',\n",
       " 'can',\n",
       " 'read',\n",
       " 'the',\n",
       " 'title',\n",
       " 'of',\n",
       " 'this',\n",
       " 'post',\n",
       " '.',\n",
       " 'Many',\n",
       " 'of',\n",
       " 'them',\n",
       " 'can',\n",
       " 'also',\n",
       " 'read',\n",
       " 'this',\n",
       " 'geometric',\n",
       " 'typeface',\n",
       " ':',\n",
       " 'In',\n",
       " 'both',\n",
       " 'cases',\n",
       " 'it',\n",
       " 'is',\n",
       " 'the',\n",
       " 'rallying',\n",
       " 'cry',\n",
       " 'of',\n",
       " 'the',\n",
       " 'dissidents',\n",
       " ':',\n",
       " 'gwong1',\n",
       " 'fuk6',\n",
       " 'hoeng1',\n",
       " 'gong2',\n",
       " 'si4',\n",
       " 'doi6',\n",
       " 'gaak3',\n",
       " 'ming6',\n",
       " '(',\n",
       " 'Jyutping',\n",
       " ')',\n",
       " '光復香港时代革命',\n",
       " \"''\",\n",
       " 'Liberate',\n",
       " 'Hong',\n",
       " 'Kong',\n",
       " '!',\n",
       " 'the',\n",
       " 'revolution',\n",
       " 'of',\n",
       " 'our',\n",
       " 'times',\n",
       " '!',\n",
       " \"''\",\n",
       " 'With',\n",
       " 'the',\n",
       " 'recent',\n",
       " 'imposition',\n",
       " 'of',\n",
       " 'the',\n",
       " 'National',\n",
       " 'Security',\n",
       " 'Law',\n",
       " ',',\n",
       " 'the',\n",
       " 'Beijing',\n",
       " 'government',\n",
       " 'has',\n",
       " 'suddenly',\n",
       " '(',\n",
       " '27',\n",
       " 'years',\n",
       " 'ahead',\n",
       " 'of',\n",
       " 'schedule',\n",
       " ')',\n",
       " 'made',\n",
       " 'Hong',\n",
       " 'Kong',\n",
       " 'subject',\n",
       " 'to',\n",
       " 'the',\n",
       " 'same',\n",
       " 'draconian',\n",
       " 'constraints',\n",
       " 'on',\n",
       " 'free',\n",
       " 'speech',\n",
       " 'that',\n",
       " 'are',\n",
       " 'enforced',\n",
       " 'everywhere',\n",
       " 'in',\n",
       " 'the',\n",
       " 'PRC',\n",
       " '.',\n",
       " '(',\n",
       " 'See',\n",
       " ':',\n",
       " '``',\n",
       " 'National',\n",
       " 'Security',\n",
       " 'Law',\n",
       " 'eclipses',\n",
       " 'Hong',\n",
       " 'Kong',\n",
       " \"''\",\n",
       " ',',\n",
       " '6/2/20',\n",
       " '.',\n",
       " ')',\n",
       " 'The',\n",
       " 'erstwhile',\n",
       " 'principle',\n",
       " 'of',\n",
       " '``',\n",
       " 'One',\n",
       " 'country',\n",
       " ',',\n",
       " 'two',\n",
       " 'systems',\n",
       " \"''\",\n",
       " '(',\n",
       " 'Yīguóliǎngzhì',\n",
       " '一国两制',\n",
       " ')',\n",
       " 'is',\n",
       " 'dead',\n",
       " '.',\n",
       " '``',\n",
       " 'As',\n",
       " 'in',\n",
       " 'mainland',\n",
       " 'China',\n",
       " ',',\n",
       " 'Hong',\n",
       " 'Kongers',\n",
       " 'now',\n",
       " 'use',\n",
       " 'code',\n",
       " 'to',\n",
       " 'evade',\n",
       " 'political',\n",
       " 'censorship',\n",
       " \"''\",\n",
       " '(',\n",
       " 'Quartz',\n",
       " ',',\n",
       " '7/3/20',\n",
       " ')',\n",
       " \"''\",\n",
       " '‘',\n",
       " 'GFHG',\n",
       " ',',\n",
       " 'SDGM',\n",
       " '’',\n",
       " ':',\n",
       " 'Hong',\n",
       " 'Kong',\n",
       " 'netizens',\n",
       " 'reimagine',\n",
       " 'illegal',\n",
       " 'slogan',\n",
       " 'as',\n",
       " 'protesters',\n",
       " 'find',\n",
       " 'workarounds',\n",
       " \"''\",\n",
       " '(',\n",
       " 'Hong',\n",
       " 'Kong',\n",
       " 'Free',\n",
       " 'Press',\n",
       " ',',\n",
       " '7/3/20',\n",
       " ')',\n",
       " 'The',\n",
       " 'ultimate',\n",
       " 'anti-censorship',\n",
       " 'dodge',\n",
       " ':',\n",
       " 'holding',\n",
       " 'up',\n",
       " 'blank',\n",
       " 'signs',\n",
       " '.',\n",
       " '``',\n",
       " 'Hong',\n",
       " 'Kong',\n",
       " 'activists',\n",
       " 'are',\n",
       " 'holding',\n",
       " 'up',\n",
       " 'blank',\n",
       " 'signs',\n",
       " 'because',\n",
       " 'China',\n",
       " 'now',\n",
       " 'has',\n",
       " 'the',\n",
       " 'power',\n",
       " 'to',\n",
       " 'define',\n",
       " 'pro-democracy',\n",
       " 'slogans',\n",
       " 'as',\n",
       " 'terrorism',\n",
       " \"''\",\n",
       " ',',\n",
       " 'by',\n",
       " 'Bill',\n",
       " 'Bostock',\n",
       " ',',\n",
       " 'Business',\n",
       " 'Insider',\n",
       " '(',\n",
       " '7/6/20',\n",
       " ')',\n",
       " '.',\n",
       " 'It',\n",
       " 'is',\n",
       " 'impossible',\n",
       " 'for',\n",
       " 'the',\n",
       " 'censors',\n",
       " 'to',\n",
       " 'keep',\n",
       " 'up',\n",
       " 'with',\n",
       " 'the',\n",
       " 'creativity',\n",
       " 'and',\n",
       " 'determination',\n",
       " 'of',\n",
       " 'the',\n",
       " 'people',\n",
       " 'who',\n",
       " 'want',\n",
       " 'to',\n",
       " 'be',\n",
       " 'free',\n",
       " '.',\n",
       " 'Selected',\n",
       " 'readings',\n",
       " \"''\",\n",
       " 'Vocabulary',\n",
       " 'of',\n",
       " 'Hong',\n",
       " 'Kong',\n",
       " 'protest',\n",
       " 'slogans',\n",
       " 'and',\n",
       " 'new',\n",
       " 'characters',\n",
       " \"''\",\n",
       " '(',\n",
       " '9/1/19',\n",
       " ')',\n",
       " \"''\",\n",
       " 'Hong',\n",
       " 'Kong',\n",
       " 'protests',\n",
       " ':',\n",
       " \"'recover\",\n",
       " \"'\",\n",
       " 'or',\n",
       " \"'liberate\",\n",
       " \"'\",\n",
       " \"''\",\n",
       " '(',\n",
       " '11/3/19',\n",
       " ')',\n",
       " \"''\",\n",
       " 'Loose',\n",
       " 'Romanization',\n",
       " 'for',\n",
       " 'Cantonese',\n",
       " \"''\",\n",
       " '(',\n",
       " '9/21/19',\n",
       " ')',\n",
       " \"''\",\n",
       " 'Women',\n",
       " \"'s\",\n",
       " 'Romanization',\n",
       " 'for',\n",
       " 'Hong',\n",
       " 'Kong',\n",
       " \"''\",\n",
       " 'Hong',\n",
       " 'Kong',\n",
       " 'protesters',\n",
       " \"'\",\n",
       " 'argot',\n",
       " \"''\",\n",
       " '(',\n",
       " '9/7/19',\n",
       " ')',\n",
       " '—',\n",
       " 'includes',\n",
       " 'a',\n",
       " 'long',\n",
       " 'list',\n",
       " 'of',\n",
       " 'relevant',\n",
       " 'posts',\n",
       " \"''\",\n",
       " 'Uppercase',\n",
       " 'and',\n",
       " 'lowercase',\n",
       " 'letters',\n",
       " 'in',\n",
       " 'Cantonese',\n",
       " 'Romanization',\n",
       " \"''\",\n",
       " '(',\n",
       " '5/28/20',\n",
       " ')',\n",
       " '—',\n",
       " 'also',\n",
       " 'includes',\n",
       " 'a',\n",
       " 'long',\n",
       " 'list',\n",
       " 'of',\n",
       " 'relevant',\n",
       " 'posts',\n",
       " \"''\",\n",
       " 'Better',\n",
       " 'said',\n",
       " 'in',\n",
       " 'Cantonese',\n",
       " \"''\",\n",
       " '(',\n",
       " '7/4/20',\n",
       " ')',\n",
       " '—',\n",
       " 'also',\n",
       " 'includes',\n",
       " 'a',\n",
       " 'long',\n",
       " 'list',\n",
       " 'of',\n",
       " 'relevant',\n",
       " 'posts',\n",
       " \"''\",\n",
       " 'National',\n",
       " 'Security',\n",
       " 'Law',\n",
       " 'eclipses',\n",
       " 'Hong',\n",
       " 'Kong',\n",
       " \"''\",\n",
       " '(',\n",
       " '6/2/20',\n",
       " ')',\n",
       " '[',\n",
       " 'h.t',\n",
       " '.',\n",
       " 'Norman',\n",
       " 'Leung',\n",
       " 'and',\n",
       " 'Mark',\n",
       " 'Metcalf',\n",
       " ']']"
      ]
     },
     "execution_count": 149,
     "metadata": {},
     "output_type": "execute_result"
    }
   ],
   "source": [
    "nltk.word_tokenize(BeautifulSoup(llog.entries[2].content[0].value).get_text())"
   ]
  },
  {
   "cell_type": "code",
   "execution_count": 150,
   "metadata": {},
   "outputs": [],
   "source": [
    "f=open('text.txt')"
   ]
  },
  {
   "cell_type": "code",
   "execution_count": 154,
   "metadata": {},
   "outputs": [
    {
     "data": {
      "text/plain": [
       "'My name is Rishav Paudel. I am doing masters in Artificial Intelligence. I am very good student.'"
      ]
     },
     "execution_count": 154,
     "metadata": {},
     "output_type": "execute_result"
    }
   ],
   "source": [
    "f.read()"
   ]
  },
  {
   "cell_type": "code",
   "execution_count": 157,
   "metadata": {},
   "outputs": [
    {
     "data": {
      "text/plain": [
       "''"
      ]
     },
     "execution_count": 157,
     "metadata": {},
     "output_type": "execute_result"
    }
   ],
   "source": [
    "f.readline()"
   ]
  },
  {
   "cell_type": "code",
   "execution_count": 158,
   "metadata": {},
   "outputs": [
    {
     "data": {
      "text/plain": [
       "['.ipynb_checkpoints',\n",
       " 'chapter1.ipynb',\n",
       " 'Chapter1exercise.ipynb',\n",
       " 'chapter2.ipynb',\n",
       " 'Chapter3.ipynb',\n",
       " 'text.txt']"
      ]
     },
     "execution_count": 158,
     "metadata": {},
     "output_type": "execute_result"
    }
   ],
   "source": [
    "import os\n",
    "os.listdir('.')"
   ]
  },
  {
   "cell_type": "code",
   "execution_count": 189,
   "metadata": {},
   "outputs": [],
   "source": [
    "file=open('text.txt')"
   ]
  },
  {
   "cell_type": "code",
   "execution_count": 178,
   "metadata": {},
   "outputs": [
    {
     "name": "stdout",
     "output_type": "stream",
     "text": [
      "My name is Rishav Paudel. I am doing masters in Artificial Intelligence. I am very good student.\n"
     ]
    }
   ],
   "source": [
    "for line in file:\n",
    "    print(line.strip())"
   ]
  },
  {
   "cell_type": "code",
   "execution_count": 190,
   "metadata": {},
   "outputs": [
    {
     "data": {
      "text/plain": [
       "'My name is Rishav Paudel. I am doing masters in Artificial Intelligence. I am very good student.'"
      ]
     },
     "execution_count": 190,
     "metadata": {},
     "output_type": "execute_result"
    }
   ],
   "source": [
    "file.read()"
   ]
  },
  {
   "cell_type": "code",
   "execution_count": 187,
   "metadata": {},
   "outputs": [
    {
     "data": {
      "text/plain": [
       "96"
      ]
     },
     "execution_count": 187,
     "metadata": {},
     "output_type": "execute_result"
    }
   ],
   "source": [
    "len(file.read())"
   ]
  },
  {
   "cell_type": "code",
   "execution_count": null,
   "metadata": {},
   "outputs": [],
   "source": []
  },
  {
   "cell_type": "code",
   "execution_count": null,
   "metadata": {},
   "outputs": [],
   "source": []
  },
  {
   "cell_type": "code",
   "execution_count": null,
   "metadata": {},
   "outputs": [],
   "source": []
  },
  {
   "cell_type": "code",
   "execution_count": null,
   "metadata": {},
   "outputs": [],
   "source": []
  },
  {
   "cell_type": "code",
   "execution_count": null,
   "metadata": {},
   "outputs": [],
   "source": []
  },
  {
   "cell_type": "code",
   "execution_count": null,
   "metadata": {},
   "outputs": [],
   "source": []
  },
  {
   "cell_type": "code",
   "execution_count": null,
   "metadata": {},
   "outputs": [],
   "source": []
  },
  {
   "cell_type": "code",
   "execution_count": null,
   "metadata": {},
   "outputs": [],
   "source": []
  },
  {
   "cell_type": "code",
   "execution_count": null,
   "metadata": {},
   "outputs": [],
   "source": []
  },
  {
   "cell_type": "code",
   "execution_count": null,
   "metadata": {},
   "outputs": [],
   "source": []
  },
  {
   "cell_type": "code",
   "execution_count": null,
   "metadata": {},
   "outputs": [],
   "source": []
  },
  {
   "cell_type": "code",
   "execution_count": null,
   "metadata": {},
   "outputs": [],
   "source": []
  },
  {
   "cell_type": "code",
   "execution_count": null,
   "metadata": {},
   "outputs": [],
   "source": []
  },
  {
   "cell_type": "code",
   "execution_count": null,
   "metadata": {},
   "outputs": [],
   "source": []
  },
  {
   "cell_type": "code",
   "execution_count": null,
   "metadata": {},
   "outputs": [],
   "source": []
  },
  {
   "cell_type": "code",
   "execution_count": null,
   "metadata": {},
   "outputs": [],
   "source": []
  },
  {
   "cell_type": "code",
   "execution_count": null,
   "metadata": {},
   "outputs": [],
   "source": []
  },
  {
   "cell_type": "code",
   "execution_count": null,
   "metadata": {},
   "outputs": [],
   "source": []
  },
  {
   "cell_type": "code",
   "execution_count": null,
   "metadata": {},
   "outputs": [],
   "source": []
  },
  {
   "cell_type": "code",
   "execution_count": null,
   "metadata": {},
   "outputs": [],
   "source": []
  },
  {
   "cell_type": "code",
   "execution_count": null,
   "metadata": {},
   "outputs": [],
   "source": []
  },
  {
   "cell_type": "code",
   "execution_count": null,
   "metadata": {},
   "outputs": [],
   "source": []
  },
  {
   "cell_type": "code",
   "execution_count": null,
   "metadata": {},
   "outputs": [],
   "source": []
  },
  {
   "cell_type": "code",
   "execution_count": null,
   "metadata": {},
   "outputs": [],
   "source": []
  },
  {
   "cell_type": "code",
   "execution_count": null,
   "metadata": {},
   "outputs": [],
   "source": []
  },
  {
   "cell_type": "code",
   "execution_count": null,
   "metadata": {},
   "outputs": [],
   "source": []
  },
  {
   "cell_type": "code",
   "execution_count": null,
   "metadata": {},
   "outputs": [],
   "source": []
  },
  {
   "cell_type": "code",
   "execution_count": null,
   "metadata": {},
   "outputs": [],
   "source": []
  },
  {
   "cell_type": "code",
   "execution_count": null,
   "metadata": {},
   "outputs": [],
   "source": []
  },
  {
   "cell_type": "code",
   "execution_count": null,
   "metadata": {},
   "outputs": [],
   "source": []
  },
  {
   "cell_type": "code",
   "execution_count": null,
   "metadata": {},
   "outputs": [],
   "source": []
  },
  {
   "cell_type": "code",
   "execution_count": null,
   "metadata": {},
   "outputs": [],
   "source": []
  },
  {
   "cell_type": "code",
   "execution_count": null,
   "metadata": {},
   "outputs": [],
   "source": []
  },
  {
   "cell_type": "code",
   "execution_count": null,
   "metadata": {},
   "outputs": [],
   "source": []
  },
  {
   "cell_type": "code",
   "execution_count": null,
   "metadata": {},
   "outputs": [],
   "source": []
  },
  {
   "cell_type": "code",
   "execution_count": null,
   "metadata": {},
   "outputs": [],
   "source": []
  },
  {
   "cell_type": "code",
   "execution_count": null,
   "metadata": {},
   "outputs": [],
   "source": []
  },
  {
   "cell_type": "code",
   "execution_count": null,
   "metadata": {},
   "outputs": [],
   "source": []
  },
  {
   "cell_type": "code",
   "execution_count": null,
   "metadata": {},
   "outputs": [],
   "source": []
  },
  {
   "cell_type": "code",
   "execution_count": null,
   "metadata": {},
   "outputs": [],
   "source": []
  },
  {
   "cell_type": "code",
   "execution_count": null,
   "metadata": {},
   "outputs": [],
   "source": []
  },
  {
   "cell_type": "code",
   "execution_count": null,
   "metadata": {},
   "outputs": [],
   "source": []
  },
  {
   "cell_type": "code",
   "execution_count": null,
   "metadata": {},
   "outputs": [],
   "source": []
  },
  {
   "cell_type": "code",
   "execution_count": null,
   "metadata": {},
   "outputs": [],
   "source": []
  }
 ],
 "metadata": {
  "kernelspec": {
   "display_name": "Python 3",
   "language": "python",
   "name": "python3"
  },
  "language_info": {
   "codemirror_mode": {
    "name": "ipython",
    "version": 3
   },
   "file_extension": ".py",
   "mimetype": "text/x-python",
   "name": "python",
   "nbconvert_exporter": "python",
   "pygments_lexer": "ipython3",
   "version": "3.7.7"
  }
 },
 "nbformat": 4,
 "nbformat_minor": 4
}
