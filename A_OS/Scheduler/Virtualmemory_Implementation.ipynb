{
 "cells": [
  {
   "cell_type": "code",
   "execution_count": 19,
   "metadata": {},
   "outputs": [],
   "source": [
    "import numpy as np\n",
    "import math\n",
    "import os\n",
    "import random\n",
    "import queue\n",
    "import matplotlib.pyplot as pl\n",
    "from IPython.display import Image"
   ]
  },
  {
   "cell_type": "code",
   "execution_count": 2,
   "metadata": {},
   "outputs": [
    {
     "data": {
      "text/plain": [
       "array([[-10, -10],\n",
       "       [-10, -10],\n",
       "       [-10, -10],\n",
       "       [-10, -10],\n",
       "       [-10, -10],\n",
       "       [-10, -10],\n",
       "       [-10, -10],\n",
       "       [-10, -10],\n",
       "       [-10, -10],\n",
       "       [-10, -10],\n",
       "       [-10, -10],\n",
       "       [-10, -10],\n",
       "       [-10, -10],\n",
       "       [-10, -10],\n",
       "       [-10, -10],\n",
       "       [-10, -10]])"
      ]
     },
     "execution_count": 2,
     "metadata": {},
     "output_type": "execute_result"
    }
   ],
   "source": [
    "NP=5 #Number of processes\n",
    "PAGE_SIZE=4096 #Page size in bytes\n",
    "F=16 #Number of Frames\n",
    "INVALID = -10\n",
    "PID=0\n",
    "FRAME = 1 #Used for indexing into frames\n",
    "pr_timing = np.zeros(F).astype('int32')\n",
    "\n",
    "COMPLETED=10\n",
    "INCOMPLETE=20\n",
    "\n",
    "\n",
    "IN_MEMORY = 1\n",
    "MEM_FAULT = 50\n",
    "PAGE_REPLACE = 100\n",
    "FIFO_GLOBAL=10\n",
    "\n",
    "phys_mem = np.full((F,2), INVALID).astype('int32') #Initial Physical memory addresses\n",
    "phys_mem"
   ]
  },
  {
   "cell_type": "code",
   "execution_count": 3,
   "metadata": {},
   "outputs": [
    {
     "name": "stdout",
     "output_type": "stream",
     "text": [
      "[1, 0, 4, 3, 2]\n"
     ]
    },
    {
     "data": {
      "text/plain": [
       "<queue.Queue at 0x24f9bfadf48>"
      ]
     },
     "execution_count": 3,
     "metadata": {},
     "output_type": "execute_result"
    }
   ],
   "source": [
    "def init_proc_queue():\n",
    "    pq=queue.Queue(maxsize=NP) #Create a queue of size of number of processes\n",
    "    proc_queue=list(set((NP*np.random.random(20)).astype('int32'))) #creating a process queue\n",
    "    random.shuffle(proc_queue) # Shuffle the list\n",
    "    print(proc_queue)\n",
    "    for pr in proc_queue:\n",
    "        pq.put_nowait(pr)     #Put all process in queue\n",
    "    return pq\n",
    "init_proc_queue()"
   ]
  },
  {
   "cell_type": "code",
   "execution_count": 4,
   "metadata": {},
   "outputs": [
    {
     "data": {
      "text/plain": [
       "([2, 6, 8, 7, 8, 6, 2, 3, 0], 22023)"
      ]
     },
     "execution_count": 4,
     "metadata": {},
     "output_type": "execute_result"
    }
   ],
   "source": [
    "def correct_refs(alist,cent,maxpg):\n",
    "    if cent!=0:\n",
    "        pgnum=int(cent/PAGE_SIZE)\n",
    "        lh=(pgnum+1)*PAGE_SIZE-1\n",
    "        ll=pgnum*PAGE_SIZE\n",
    "    else:\n",
    "        lh=maxpg*PAGE_SIZE\n",
    "        ll=0\n",
    "        \n",
    "    for i in range(alist.shape[0]):\n",
    "        if alist[i]>=lh:\n",
    "            alist[i]=lh-1\n",
    "        if alist[i]<ll:\n",
    "            alist[i]=ll+1\n",
    "    return alist\n",
    "\n",
    "def sim_process(M,sigma,outfile,lfrac=0.9):\n",
    "    cur_page=int(M*np.random.random()) #Generating random start page\n",
    "    cur_locale=round(PAGE_SIZE*(cur_page+0.5)) #Generating location of current page\n",
    "    sum_refs=0\n",
    "    list_locales=list()\n",
    "    for count in range(M):\n",
    "        num_refs=int(512+(PAGE_SIZE-512)*np.random.random())\n",
    "        sum_refs+=num_refs\n",
    "        list_locales.append(cur_page)\n",
    "        num_loc=round(lfrac*num_refs)\n",
    "        aref_list=np.random.normal(cur_locale,sigma*300+100,num_loc)\n",
    "        aref_list=correct_refs(aref_list,cur_locale,M)\n",
    "        aref_list=aref_list.astype('int32')\n",
    "        cur_page=int(M*np.random.random())\n",
    "        cur_locale=round(PAGE_SIZE*(cur_page+0.5))\n",
    "        num_trans=round((1-lfrac)*num_refs)\n",
    "        tref_list=np.random.random(num_trans)*cur_locale\n",
    "        tref_list=correct_refs(tref_list,0,M)\n",
    "        tref_list=tref_list.astype('int32')\n",
    "        np.append(aref_list,tref_list).tofile(outfile,sep='\\n')\n",
    "        outfile.write('\\n')\n",
    "    return list_locales,sum_refs\n",
    "        \n",
    "      \n",
    "    print('Current Page',cur_page)\n",
    "    print('Current Location',cur_locale)\n",
    "    print('List of Locations',list_locales)\n",
    "    \n",
    "npg = int(np.random.normal(10,2.5))\n",
    "nsig = int(5 * np.random.random())    \n",
    "fname = 'AR_' + '{:02d}'.format(0) + '.txt'\n",
    "fname=open(fname,'w')\n",
    "sim_process(npg,nsig,fname)"
   ]
  },
  {
   "cell_type": "code",
   "execution_count": 5,
   "metadata": {},
   "outputs": [
    {
     "data": {
      "text/plain": [
       "3826"
      ]
     },
     "execution_count": 5,
     "metadata": {},
     "output_type": "execute_result"
    }
   ],
   "source": [
    "int(512+(PAGE_SIZE-512)*np.random.random())"
   ]
  },
  {
   "cell_type": "code",
   "execution_count": 6,
   "metadata": {},
   "outputs": [
    {
     "data": {
      "text/plain": [
       "[<matplotlib.lines.Line2D at 0x24f9bfe7e88>]"
      ]
     },
     "execution_count": 6,
     "metadata": {},
     "output_type": "execute_result"
    },
    {
     "data": {
      "image/png": "[encoded data removed]",
      "text/plain": [
       "<Figure size 432x288 with 1 Axes>"
      ]
     },
     "metadata": {
      "needs_background": "light"
     },
     "output_type": "display_data"
    }
   ],
   "source": [
    "file=np.loadtxt('AR_00.txt')\n",
    "pl.plot(file)"
   ]
  },
  {
   "cell_type": "code",
   "execution_count": 7,
   "metadata": {},
   "outputs": [
    {
     "name": "stdout",
     "output_type": "stream",
     "text": [
      "Process 0 requires 10 pages and has a quality 1\n",
      "[6, 5, 6, 0, 8, 4, 0, 5, 8, 7] 20613\n",
      "written process 0 to  AR_00.txt\n",
      "Process 1 requires 12 pages and has a quality 4\n",
      "[9, 11, 8, 10, 1, 11, 8, 1, 0, 1, 7, 11] 22684\n",
      "written process 1 to  AR_01.txt\n",
      "Process 2 requires 8 pages and has a quality 2\n",
      "[7, 4, 5, 1, 4, 3, 5, 3] 18487\n",
      "written process 2 to  AR_02.txt\n",
      "Process 3 requires 9 pages and has a quality 4\n",
      "[5, 6, 1, 7, 0, 5, 3, 1, 7] 22715\n",
      "written process 3 to  AR_03.txt\n",
      "Process 4 requires 12 pages and has a quality 4\n",
      "[10, 4, 1, 0, 5, 5, 0, 9, 11, 3, 8, 10] 28958\n",
      "written process 4 to  AR_04.txt\n"
     ]
    }
   ],
   "source": [
    "pr_size=np.zeros(NP,dtype='int32')\n",
    "\n",
    "for p in range(NP):\n",
    "    fname='AR_'+'{:02d}'.format(p)+'.txt'\n",
    "    op=open(fname,'w')\n",
    "    npg=int(np.random.normal(10,2.5))\n",
    "    nsig=int(5*np.random.random())\n",
    "    print(f'Process {p} requires {npg} pages and has a quality {nsig}')\n",
    "    pg_seq,pr_size[p]=sim_process(npg,nsig,op)\n",
    "    print(pg_seq,pr_size[p])\n",
    "    op.write('\\n')\n",
    "    op.close()\n",
    "    print('written process',p,'to ',fname)"
   ]
  },
  {
   "cell_type": "code",
   "execution_count": 8,
   "metadata": {
    "scrolled": false
   },
   "outputs": [
    {
     "name": "stdout",
     "output_type": "stream",
     "text": [
      "20613\n"
     ]
    },
    {
     "data": {
      "image/png": "[encoded data removed]",
      "text/plain": [
       "<Figure size 432x288 with 1 Axes>"
      ]
     },
     "metadata": {
      "needs_background": "light"
     },
     "output_type": "display_data"
    },
    {
     "name": "stdout",
     "output_type": "stream",
     "text": [
      "22684\n"
     ]
    },
    {
     "data": {
      "image/png": "[encoded data removed]",
      "text/plain": [
       "<Figure size 432x288 with 1 Axes>"
      ]
     },
     "metadata": {
      "needs_background": "light"
     },
     "output_type": "display_data"
    },
    {
     "name": "stdout",
     "output_type": "stream",
     "text": [
      "18487\n"
     ]
    },
    {
     "data": {
      "image/png": "[encoded data removed]",
      "text/plain": [
       "<Figure size 432x288 with 1 Axes>"
      ]
     },
     "metadata": {
      "needs_background": "light"
     },
     "output_type": "display_data"
    },
    {
     "name": "stdout",
     "output_type": "stream",
     "text": [
      "22715\n"
     ]
    },
    {
     "data": {
      "image/png": "[encoded data removed]",
      "text/plain": [
       "<Figure size 432x288 with 1 Axes>"
      ]
     },
     "metadata": {
      "needs_background": "light"
     },
     "output_type": "display_data"
    },
    {
     "name": "stdout",
     "output_type": "stream",
     "text": [
      "28958\n"
     ]
    },
    {
     "data": {
      "image/png": "[encoded data removed]",
      "text/plain": [
       "<Figure size 432x288 with 1 Axes>"
      ]
     },
     "metadata": {
      "needs_background": "light"
     },
     "output_type": "display_data"
    }
   ],
   "source": [
    "for p in range(NP):\n",
    "    fname='AR_'+'{:02d}'.format(p)+'.txt'\n",
    "    temp=np.loadtxt(fname)\n",
    "    print(len(temp))\n",
    "    pl.plot(range(len(temp)),temp)\n",
    "    pl.title(fname)\n",
    "    pl.show()"
   ]
  },
  {
   "cell_type": "code",
   "execution_count": 9,
   "metadata": {},
   "outputs": [],
   "source": [
    "def init_phys_mem():\n",
    "    for i in range(F):           \n",
    "        phys_mem[i,PID]=INVALID      #Initialize physical memory PID with empty\n",
    "        phys_mem[i,FRAME]=INVALID    #Initialize physical memory frame with empty\n",
    "        \n",
    "init_phys_mem()"
   ]
  },
  {
   "cell_type": "code",
   "execution_count": 10,
   "metadata": {},
   "outputs": [
    {
     "name": "stdout",
     "output_type": "stream",
     "text": [
      "  Frame     PID   Page No.\n",
      "  -----     ---   --------\n",
      "Free Frame:  0\n",
      "Free Frame:  1\n",
      "Free Frame:  2\n",
      "Free Frame:  3\n",
      "Free Frame:  4\n",
      "Free Frame:  5\n",
      "Free Frame:  6\n",
      "Free Frame:  7\n",
      "Free Frame:  8\n",
      "Free Frame:  9\n",
      "Free Frame:  10\n",
      "Free Frame:  11\n",
      "Free Frame:  12\n",
      "Free Frame:  13\n",
      "Free Frame:  14\n",
      "Free Frame:  15\n"
     ]
    }
   ],
   "source": [
    "def update_phys_mem(pid):\n",
    "    for i in range(F):                     \n",
    "        if phys_mem[i,PID]==pid:\n",
    "            #Execute the particular process  in that frame and make memory\n",
    "            #available for other processes.\n",
    "            \n",
    "            phys_mem[i,PID]=INVALID        \n",
    "            phys_mem[i,FRAME]=INVALID      \n",
    "\n",
    "            \n",
    "def memory_manager(infile,outfile,pid):\n",
    "    num_adr=512+int(4096*np.random.random())\n",
    "    idx=0 #counter to increase and read addresses.\n",
    "    \n",
    "    while idx<num_adr:\n",
    "        add_ref=infile.readline().strip() #This will load all the address line by line\n",
    "                                        #Also considered as virtual addresses.\n",
    "        if add_ref=='':\n",
    "            break #Finished reading address references\n",
    "            \n",
    "        add_ref=int(add_ref)  #Address reference\n",
    "        pg_num=int(add_ref/PAGE_SIZE) #Page number to keep track of\n",
    "        pg_offset=add_ref%PAGE_SIZE #Page offset.\n",
    "        pg_base,pg_fault=get_pageframe(pg_num,pid) #Get page offset and page fault if occured \n",
    "                                                    #eslse initialize page for memory\n",
    "        \n",
    "        if pg_base>=0:\n",
    "            phys_addr=pg_base+pg_offset            #Generating a physical address by adding both.\n",
    "            outfile.write(str(add_ref)+','+str(phys_addr)+','\n",
    "                         +str(pg_fault)+'\\n')      #Copy logical address, physical address along \n",
    "                                                    #with page fault status in out file.\n",
    "            \n",
    "            if pg_fault==0:                #If returned value is 0 i.e load from memory.\n",
    "                pr_timing[pid]+=IN_MEMORY\n",
    "                #This is responsible for executing and storing time that \n",
    "                #is taken if no page fault occured\n",
    "                \n",
    "                \n",
    "            elif pg_fault==1:              #IF returned value is 1 i.e memory fault occured\n",
    "                pr_timing[pid]+=MEM_FAULT\n",
    "                #If page fault occured it added time that is taken for process\n",
    "                # execute\n",
    "                \n",
    "                \n",
    "            else:\n",
    "                pr_timing[pid]+=PAGE_REPLACE #Page replacement algo being run.\n",
    "                #This time is responsible for replacing page and executing\n",
    "                #particular process.\n",
    "                \n",
    "        else:\n",
    "            print(idx)\n",
    "            return INVALID\n",
    "        idx+=1\n",
    "    \n",
    "    if idx>=num_adr:\n",
    "        return INCOMPLETE\n",
    "    \n",
    "    return COMPLETED\n",
    "            \n",
    "\n",
    "def get_pageframe(pnum, pr) :\n",
    "    fr_num = 0  #Initialize frame number to 0\n",
    "    while fr_num < F : #Loop until counter reaches to all frames\n",
    "        if phys_mem[fr_num,PID] == pr and phys_mem[fr_num,FRAME] == pnum : #if process is found in a frame, stop loop\n",
    "            break                                                          #and keep track of frame number\n",
    "        else :\n",
    "            fr_num += 1  #Increase counter for frame\n",
    "\n",
    "    if fr_num < F : #If the searched frame number is less than the available frames,\n",
    "        return fr_num * PAGE_SIZE, 0 #Return frame number x 4096 i.e page base with page fault 0 i.e fault didnt occur.\n",
    "                                    # Required page is in main memory and execute process.\n",
    "    fr_num = gen_pagefault(pnum, pr) #Since frame number was greater than frame size so generate page fault.\n",
    "                                    #So search for the frame and try to load in physical memory\n",
    "    \n",
    "    if fr_num>=0:  #check for the frame number returned from pagefault and return page fault occured once.\n",
    "        return fr_num*PAGE_SIZE,1\n",
    "    \n",
    "    fr_num=page_replace(pnum,pr) #Running page replacement algorithm. Since page has to be \n",
    "                                #Loaded into physical memory.\n",
    "    \n",
    "    if fr_num>=0: \n",
    "        return fr_num*PAGE_SIZE,2 #This is to replace the page into main memory\n",
    "    \n",
    "    return INVALID,0 #If the required frame is not found, return Invalid\n",
    "    \n",
    "    \n",
    "    \n",
    "def gen_pagefault(pgnum, pr) :\n",
    "    fr_num = 0 #Initialize frame number to 0\n",
    "    while fr_num < F and phys_mem[fr_num,FRAME] >= 0 : #Loop untill frame number is not less than Frame number\n",
    "        #and physical memory's frame number,Frame index >=0 i.e valid. It is searching for a page\n",
    "        #inside main memory.  This is to check whether hit or fault is occured or not.\n",
    "            \n",
    "        fr_num += 1                                    # Increment frame number.\n",
    "    \n",
    "    if fr_num >= F :  #If frame number is greater than Frame Size than its Invalid i.e it is not present in memory.\n",
    "        return INVALID\n",
    "    \n",
    "    #If fault didnt occur than  update physical memory and execute the process\n",
    "    phys_mem[fr_num,FRAME] = pgnum     #Update physical memory with current page number\n",
    "    phys_mem[fr_num,PID] = pr          #update physical memory with current process id\n",
    "    \n",
    "    return fr_num                      #return frame number in which Hit was occured.\n",
    "        \n",
    "\n",
    "  \n",
    "def get_oldest_frame(pr,algo_type):\n",
    "    global oldest_frame              #Access to the variable global_frame assigned\n",
    "    if algo_type==FIFO_GLOBAL:      #IF algorithm is FIFO GLOBAL ,\n",
    "        rv=oldest_frame            #temporary variable to store value of oldest_frame\n",
    "        oldest_frame+=1           #Increase the value of oldest frame by 1 as it is accessed once\n",
    "        if oldest_frame==F:      # If oldest frame reaches to max, again make it 0 to start\n",
    "            oldest_frame=0       #So as to form a cycle and make frame available to all process\n",
    "        return rv\n",
    "    return INVALID\n",
    "    \n",
    "\n",
    "\n",
    "\n",
    "def page_replace(pgnum,pr,algo=FIFO_GLOBAL):\n",
    "    current_frame=get_oldest_frame(pr,algo)  #Get track of previous frame so as to update the last\n",
    "                                            #Frame in which process was executed and replace that \n",
    "                                            #with the new process to execute.\n",
    "    phys_mem[current_frame,PID]=pr          #Update physical memory and execute process with the \n",
    "                                            #Current process ID.\n",
    "    phys_mem[current_frame,FRAME]=pgnum     #Update physical memory and execute process with the \n",
    "                                            #Current page number.\n",
    "    return current_frame                    #Return current frame in which page was loaded.\n",
    "\n",
    "    \n",
    "def print_phys_mem():\n",
    "    print('{:^10s} {:^6s} {:^6s}'.format('Frame', 'PID', 'Page No.'))\n",
    "    print('{:^10s} {:^6s} {:^6s}'.format('-----', '---', '--------'))\n",
    "    for i in range(F):                 #Run for loop for 16 times and print status of all\n",
    "        if phys_mem[i,PID]!=INVALID:\n",
    "            print('{:^10d} {:^6d} {:^6d}'.format(i,phys_mem[i,PID],phys_mem[i,FRAME]))\n",
    "        else:\n",
    "            print('Free Frame: ',i)\n",
    "    \n",
    "\n",
    "    \n",
    "def ready_queue(q):  #Trying to read processes from ready queue\n",
    "    while True:\n",
    "        try:\n",
    "            yield q.get_nowait()    #Try to get the process from queue\n",
    "        except queue.Empty:\n",
    "            break                   #If the queue is empty, Break.\n",
    "    \n",
    "print_phys_mem()\n"
   ]
  },
  {
   "cell_type": "code",
   "execution_count": 11,
   "metadata": {
    "scrolled": false
   },
   "outputs": [
    {
     "name": "stdout",
     "output_type": "stream",
     "text": [
      "[3, 0, 4, 1, 2]\n",
      "Reading Process from AR_00.txt\n",
      "Reading Process from AR_01.txt\n",
      "Reading Process from AR_02.txt\n",
      "Reading Process from AR_03.txt\n",
      "Reading Process from AR_04.txt\n",
      "  Frame     PID   Page No.\n",
      "  -----     ---   --------\n",
      "Free Frame:  0\n",
      "Free Frame:  1\n",
      "Free Frame:  2\n",
      "Free Frame:  3\n",
      "Free Frame:  4\n",
      "Free Frame:  5\n",
      "Free Frame:  6\n",
      "Free Frame:  7\n",
      "Free Frame:  8\n",
      "Free Frame:  9\n",
      "Free Frame:  10\n",
      "Free Frame:  11\n",
      "Free Frame:  12\n",
      "Free Frame:  13\n",
      "Free Frame:  14\n",
      "Free Frame:  15\n",
      "Process 2 (Size:18487 Bytes) Completed;        removing from Queue\n",
      "Slow down by 14.994320333207119\n",
      "  Frame     PID   Page No.\n",
      "  -----     ---   --------\n",
      "    0        1      11  \n",
      "    1        1      6   \n",
      "    2        1      2   \n",
      "    3        1      7   \n",
      "    4        1      5   \n",
      "    5        1      1   \n",
      "    6        1      3   \n",
      "    7        1      4   \n",
      "    8        1      8   \n",
      "    9        1      0   \n",
      "Free Frame:  10\n",
      "Free Frame:  11\n",
      "Free Frame:  12\n",
      "    13       4      1   \n",
      "    14       4      2   \n",
      "    15       4      0   \n",
      "Process 0 (Size:20613 Bytes) Completed;        removing from Queue\n",
      "Slow down by 25.192839470237228\n",
      "  Frame     PID   Page No.\n",
      "  -----     ---   --------\n",
      "Free Frame:  0\n",
      "Free Frame:  1\n",
      "Free Frame:  2\n",
      "    3        1      7   \n",
      "    4        1      5   \n",
      "    5        1      1   \n",
      "    6        1      3   \n",
      "    7        1      4   \n",
      "    8        1      8   \n",
      "    9        1      0   \n",
      "    10       3      1   \n",
      "Free Frame:  11\n",
      "Free Frame:  12\n",
      "Free Frame:  13\n",
      "Free Frame:  14\n",
      "Free Frame:  15\n",
      "Process 4 (Size:28958 Bytes) Completed;        removing from Queue\n",
      "Slow down by 21.18240209959251\n",
      "  Frame     PID   Page No.\n",
      "  -----     ---   --------\n",
      "Free Frame:  0\n",
      "Free Frame:  1\n",
      "Free Frame:  2\n",
      "Free Frame:  3\n",
      "Free Frame:  4\n",
      "    5        3      5   \n",
      "    6        3      3   \n",
      "    7        3      0   \n",
      "    8        3      7   \n",
      "    9        3      4   \n",
      "    10       3      6   \n",
      "    11       3      2   \n",
      "Free Frame:  12\n",
      "Free Frame:  13\n",
      "Free Frame:  14\n",
      "Free Frame:  15\n",
      "Process 1 (Size:22684 Bytes) Completed;        removing from Queue\n",
      "Slow down by 33.799153588432375\n",
      "  Frame     PID   Page No.\n",
      "  -----     ---   --------\n",
      "Free Frame:  0\n",
      "Free Frame:  1\n",
      "Free Frame:  2\n",
      "Free Frame:  3\n",
      "Free Frame:  4\n",
      "    5        3      5   \n",
      "    6        3      3   \n",
      "    7        3      0   \n",
      "    8        3      7   \n",
      "    9        3      4   \n",
      "    10       3      6   \n",
      "    11       3      2   \n",
      "Free Frame:  12\n",
      "Free Frame:  13\n",
      "Free Frame:  14\n",
      "Free Frame:  15\n",
      "Process 3 (Size:22715 Bytes) Completed;        removing from Queue\n",
      "Slow down by 18.939027074620295\n",
      "  Frame     PID   Page No.\n",
      "  -----     ---   --------\n",
      "Free Frame:  0\n",
      "Free Frame:  1\n",
      "Free Frame:  2\n",
      "Free Frame:  3\n",
      "Free Frame:  4\n",
      "Free Frame:  5\n",
      "Free Frame:  6\n",
      "Free Frame:  7\n",
      "Free Frame:  8\n",
      "Free Frame:  9\n",
      "Free Frame:  10\n",
      "Free Frame:  11\n",
      "Free Frame:  12\n",
      "Free Frame:  13\n",
      "Free Frame:  14\n",
      "Free Frame:  15\n"
     ]
    }
   ],
   "source": [
    "init_phys_mem()\n",
    "oldest_frame=0\n",
    "pr_que=init_proc_queue()\n",
    "pr_timing=np.zeros(F).astype('int32')\n",
    "IN_MEMORY=1\n",
    "MEM_FAULT=50\n",
    "PAGE_REPLACE=100\n",
    "\n",
    "infiles=list()\n",
    "outfile=list()\n",
    "\n",
    "for i in range(NP):\n",
    "    fname = 'AR_{:02d}.txt'.format(i)\n",
    "    outname = 'AR_{:02}_out.txt'.format(i)\n",
    "    if os.access(fname,os.R_OK):\n",
    "        print(f'Reading Process from {fname}')\n",
    "        infiles.append(open(fname,'r'))\n",
    "    else:\n",
    "        print(f'Cannot open {fname} for reading')\n",
    "    outfile.append(open(outname,'w'))\n",
    "print_phys_mem()\n",
    "for pr in ready_queue(pr_que):\n",
    "    rv=memory_manager(infiles[pr],outfile[pr],pr)\n",
    "    if rv==INVALID:\n",
    "        print('Memory overflow error')\n",
    "        break\n",
    "    if rv==INCOMPLETE:\n",
    "        pr_que.put_nowait(pr)\n",
    "    else:\n",
    "        print(f'Process {pr} (Size:{pr_size[pr]} Bytes) Completed;\\\n",
    "        removing from Queue')\n",
    "        slow=((pr_timing[pr]-pr_size[pr])*100.0/pr_size[pr])\n",
    "        print(f'Slow down by {slow}')\n",
    "        update_phys_mem(pr)\n",
    "        print_phys_mem()"
   ]
  },
  {
   "cell_type": "code",
   "execution_count": 12,
   "metadata": {},
   "outputs": [],
   "source": [
    "for i in range(NP) :\n",
    "    infiles[i].close()\n",
    "    outfile[i].close()"
   ]
  },
  {
   "cell_type": "code",
   "execution_count": 18,
   "metadata": {},
   "outputs": [
    {
     "data": {
      "text/plain": [
       "0"
      ]
     },
     "execution_count": 18,
     "metadata": {},
     "output_type": "execute_result"
    }
   ],
   "source": [
    "# Command to execute \n",
    "# Using Windows OS command \n",
    "cmd = 'notepad'\n",
    "  \n",
    "# Using os.system() method \n",
    "os.system(cmd)"
   ]
  },
  {
   "cell_type": "markdown",
   "metadata": {},
   "source": [
    "# How System Call Works?\n",
    "Here are steps for System Call:"
   ]
  },
  {
   "cell_type": "code",
   "execution_count": 21,
   "metadata": {},
   "outputs": [
    {
     "data": {
      "text/html": [
       "<img src=\"https://www.guru99.com/images/1/121119_0451_SystemCalli2.png\"/>"
      ],
      "text/plain": [
       "<IPython.core.display.Image object>"
      ]
     },
     "execution_count": 21,
     "metadata": {},
     "output_type": "execute_result"
    }
   ],
   "source": [
    "Image(url='https://www.guru99.com/images/1/121119_0451_SystemCalli2.png')"
   ]
  },
  {
   "cell_type": "code",
   "execution_count": 22,
   "metadata": {},
   "outputs": [
    {
     "data": {
      "text/html": [
       "<img src=\"https://www.guru99.com/images/1/121119_0451_SystemCalli3.png\"/>"
      ],
      "text/plain": [
       "<IPython.core.display.Image object>"
      ]
     },
     "execution_count": 22,
     "metadata": {},
     "output_type": "execute_result"
    }
   ],
   "source": [
    "Image(url='https://www.guru99.com/images/1/121119_0451_SystemCalli3.png')"
   ]
  },
  {
   "cell_type": "code",
   "execution_count": null,
   "metadata": {},
   "outputs": [],
   "source": []
  },
  {
   "cell_type": "code",
   "execution_count": null,
   "metadata": {},
   "outputs": [],
   "source": []
  },
  {
   "cell_type": "code",
   "execution_count": null,
   "metadata": {},
   "outputs": [],
   "source": []
  },
  {
   "cell_type": "code",
   "execution_count": null,
   "metadata": {},
   "outputs": [],
   "source": []
  },
  {
   "cell_type": "code",
   "execution_count": null,
   "metadata": {},
   "outputs": [],
   "source": []
  },
  {
   "cell_type": "code",
   "execution_count": null,
   "metadata": {},
   "outputs": [],
   "source": []
  },
  {
   "cell_type": "code",
   "execution_count": null,
   "metadata": {},
   "outputs": [],
   "source": []
  },
  {
   "cell_type": "code",
   "execution_count": null,
   "metadata": {},
   "outputs": [],
   "source": []
  },
  {
   "cell_type": "code",
   "execution_count": null,
   "metadata": {},
   "outputs": [],
   "source": []
  },
  {
   "cell_type": "code",
   "execution_count": null,
   "metadata": {},
   "outputs": [],
   "source": []
  },
  {
   "cell_type": "code",
   "execution_count": null,
   "metadata": {},
   "outputs": [],
   "source": []
  },
  {
   "cell_type": "code",
   "execution_count": null,
   "metadata": {},
   "outputs": [],
   "source": []
  },
  {
   "cell_type": "code",
   "execution_count": null,
   "metadata": {},
   "outputs": [],
   "source": []
  },
  {
   "cell_type": "code",
   "execution_count": null,
   "metadata": {},
   "outputs": [],
   "source": []
  },
  {
   "cell_type": "code",
   "execution_count": null,
   "metadata": {},
   "outputs": [],
   "source": []
  },
  {
   "cell_type": "code",
   "execution_count": null,
   "metadata": {},
   "outputs": [],
   "source": []
  },
  {
   "cell_type": "code",
   "execution_count": null,
   "metadata": {},
   "outputs": [],
   "source": []
  },
  {
   "cell_type": "code",
   "execution_count": null,
   "metadata": {},
   "outputs": [],
   "source": []
  },
  {
   "cell_type": "code",
   "execution_count": null,
   "metadata": {},
   "outputs": [],
   "source": []
  },
  {
   "cell_type": "code",
   "execution_count": null,
   "metadata": {},
   "outputs": [],
   "source": []
  },
  {
   "cell_type": "code",
   "execution_count": null,
   "metadata": {},
   "outputs": [],
   "source": []
  },
  {
   "cell_type": "code",
   "execution_count": null,
   "metadata": {},
   "outputs": [],
   "source": []
  },
  {
   "cell_type": "code",
   "execution_count": null,
   "metadata": {},
   "outputs": [],
   "source": []
  },
  {
   "cell_type": "code",
   "execution_count": null,
   "metadata": {},
   "outputs": [],
   "source": []
  },
  {
   "cell_type": "code",
   "execution_count": null,
   "metadata": {},
   "outputs": [],
   "source": []
  }
 ],
 "metadata": {
  "kernelspec": {
   "display_name": "Python 3",
   "language": "python",
   "name": "python3"
  },
  "language_info": {
   "codemirror_mode": {
    "name": "ipython",
    "version": 3
   },
   "file_extension": ".py",
   "mimetype": "text/x-python",
   "name": "python",
   "nbconvert_exporter": "python",
   "pygments_lexer": "ipython3",
   "version": "3.7.7"
  }
 },
 "nbformat": 4,
 "nbformat_minor": 4
}
