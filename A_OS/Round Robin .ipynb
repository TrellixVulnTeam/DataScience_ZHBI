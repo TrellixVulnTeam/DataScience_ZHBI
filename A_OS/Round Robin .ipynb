{
 "cells": [
  {
   "cell_type": "code",
   "execution_count": 86,
   "metadata": {},
   "outputs": [
    {
     "name": "stdout",
     "output_type": "stream",
     "text": [
      "['P1']\n",
      "['P1' 'P2' 'P5'] [0 5 8] [8 2 5]\n"
     ]
    }
   ],
   "source": [
    "import numpy as np\n",
    "\n",
    "\n",
    "def add_to_queue(arrival,ready_queue,current_time,processes):\n",
    "    next_arrivals=check_next_arrival(arrival,current_time)\n",
    "    np.append(ready_queue,processes[next_arrivals])\n",
    "    \n",
    "\n",
    "def check_next_arrival(arrival,current_time):\n",
    "    next_arrivals=[]\n",
    "    for i in range(len(arrival)):\n",
    "        if arrival[i]<current_time:\n",
    "            next_arrivals.append(i)\n",
    "    return next_arrivals\n",
    "\n",
    "def check_process_completion(arrival,processes,burst):\n",
    "    empty_processes=np.where(burst==0)\n",
    "    arrival=np.delete(arrival,empty_processes)\n",
    "    processes=np.delete(processes,empty_processes)\n",
    "    burst=np.delete(burst,empty_processes)\n",
    "    return arrival,burst,processes\n",
    "\n",
    "\n",
    "def round_robin(processes,arrival,burst,time_quantam):\n",
    "    ready_queue=np.array([])\n",
    "    running=[]\n",
    "    current_time=0\n",
    "    first_arrival=np.argmin(arrival)\n",
    "    ready_queue=np.append(ready_queue,processes[first_arrival])\n",
    "    arrival,burst,processes=check_process_completion(arrival,processes,burst)\n",
    "    print(ready_queue)\n",
    "    print(processes,arrival,burst)\n",
    "\n",
    "\n",
    "processes=np.array(['P1','P2','P3','P4','P5'])\n",
    "arrival=np.array([0,5,1,6,8],dtype='int32')\n",
    "burst=np.array([8,2,0,0,5],dtype='int32')\n",
    "time_quantam=2\n",
    "\n",
    "\n",
    "\n",
    "round_robin(processes,arrival,burst,time_quantam)"
   ]
  },
  {
   "cell_type": "code",
   "execution_count": null,
   "metadata": {},
   "outputs": [],
   "source": []
  },
  {
   "cell_type": "code",
   "execution_count": 17,
   "metadata": {},
   "outputs": [
    {
     "data": {
      "text/plain": [
       "array([1, 2])"
      ]
     },
     "execution_count": 17,
     "metadata": {},
     "output_type": "execute_result"
    }
   ],
   "source": [
    "a=np.array([1,2,3,4,5])\n",
    "a[[0,1]]"
   ]
  },
  {
   "cell_type": "code",
   "execution_count": 23,
   "metadata": {},
   "outputs": [
    {
     "data": {
      "text/plain": [
       "1"
      ]
     },
     "execution_count": 23,
     "metadata": {},
     "output_type": "execute_result"
    }
   ],
   "source": [
    "np.argmin([9,2,3])"
   ]
  },
  {
   "cell_type": "code",
   "execution_count": 31,
   "metadata": {},
   "outputs": [
    {
     "data": {
      "text/plain": [
       "array([1, 2, 3, 4, 5, 1, 1, 1])"
      ]
     },
     "execution_count": 31,
     "metadata": {},
     "output_type": "execute_result"
    }
   ],
   "source": [
    "np.append(a,[1,1,1])\n"
   ]
  },
  {
   "cell_type": "code",
   "execution_count": null,
   "metadata": {},
   "outputs": [],
   "source": []
  },
  {
   "cell_type": "code",
   "execution_count": null,
   "metadata": {},
   "outputs": [],
   "source": []
  },
  {
   "cell_type": "code",
   "execution_count": 32,
   "metadata": {},
   "outputs": [
    {
     "data": {
      "text/plain": [
       "(array([0, 5], dtype=int64),)"
      ]
     },
     "execution_count": 32,
     "metadata": {},
     "output_type": "execute_result"
    }
   ],
   "source": [
    "np.where(np.array([0,1,2,3,10,0])==0)"
   ]
  },
  {
   "cell_type": "code",
   "execution_count": 46,
   "metadata": {},
   "outputs": [],
   "source": [
    "a=np.delete(a,1)"
   ]
  },
  {
   "cell_type": "code",
   "execution_count": 60,
   "metadata": {},
   "outputs": [
    {
     "data": {
      "text/plain": [
       "array([1, 3, 2, 5])"
      ]
     },
     "execution_count": 60,
     "metadata": {},
     "output_type": "execute_result"
    }
   ],
   "source": [
    "a"
   ]
  },
  {
   "cell_type": "code",
   "execution_count": null,
   "metadata": {},
   "outputs": [],
   "source": [
    "\n"
   ]
  },
  {
   "cell_type": "code",
   "execution_count": 64,
   "metadata": {},
   "outputs": [
    {
     "data": {
      "text/plain": [
       "array([1, 3])"
      ]
     },
     "execution_count": 64,
     "metadata": {},
     "output_type": "execute_result"
    }
   ],
   "source": [
    "np.delete(a,[2,3])"
   ]
  },
  {
   "cell_type": "code",
   "execution_count": 65,
   "metadata": {},
   "outputs": [
    {
     "data": {
      "text/plain": [
       "array([1, 3, 2, 5])"
      ]
     },
     "execution_count": 65,
     "metadata": {},
     "output_type": "execute_result"
    }
   ],
   "source": [
    "a"
   ]
  }
 ],
 "metadata": {
  "kernelspec": {
   "display_name": "Python 3",
   "language": "python",
   "name": "python3"
  },
  "language_info": {
   "codemirror_mode": {
    "name": "ipython",
    "version": 3
   },
   "file_extension": ".py",
   "mimetype": "text/x-python",
   "name": "python",
   "nbconvert_exporter": "python",
   "pygments_lexer": "ipython3",
   "version": "3.7.7"
  }
 },
 "nbformat": 4,
 "nbformat_minor": 4
}
