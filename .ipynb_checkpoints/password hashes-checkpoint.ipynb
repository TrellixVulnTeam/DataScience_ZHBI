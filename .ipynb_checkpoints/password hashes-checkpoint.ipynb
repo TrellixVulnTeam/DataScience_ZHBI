{
 "cells": [
  {
   "cell_type": "code",
   "execution_count": 6,
   "id": "f0938253",
   "metadata": {},
   "outputs": [],
   "source": [
    "import bcrypt\n",
    "from werkzeug.security import generate_password_hash, check_password_hash\n"
   ]
  },
  {
   "cell_type": "code",
   "execution_count": 95,
   "id": "20f87f37",
   "metadata": {},
   "outputs": [],
   "source": [
    "secret_key = \"urNWC9UxGb3hMm_mD5Z_tQBzsMMA49ge2ZocCNP4IcM=\"\n",
    "password = \"abcd1234efgh\""
   ]
  },
  {
   "cell_type": "code",
   "execution_count": 77,
   "id": "8d526d34",
   "metadata": {},
   "outputs": [
    {
     "data": {
      "text/plain": [
       "32"
      ]
     },
     "execution_count": 77,
     "metadata": {},
     "output_type": "execute_result"
    }
   ],
   "source": [
    "len(secret_key)"
   ]
  },
  {
   "cell_type": "code",
   "execution_count": 18,
   "id": "71c977a3",
   "metadata": {},
   "outputs": [],
   "source": [
    "def set_password(password):\n",
    "    password_hash = generate_password_hash(password)\n",
    "    return password_hash\n",
    "\n",
    "def check_password(password_hash, password):\n",
    "    return check_password_hash(password_hash, password)"
   ]
  },
  {
   "cell_type": "code",
   "execution_count": 22,
   "id": "abf89ddd",
   "metadata": {},
   "outputs": [
    {
     "data": {
      "text/plain": [
       "'pbkdf2:sha256:260000$fGOPtfvphAPmw1JN$8a1e970805dfce4bbbefb505a6711aeaaa482dd1b1aa57a99351d7815c4f68f8'"
      ]
     },
     "execution_count": 22,
     "metadata": {},
     "output_type": "execute_result"
    }
   ],
   "source": [
    "pw_hash = set_password(password)\n",
    "pw_hash"
   ]
  },
  {
   "cell_type": "code",
   "execution_count": 21,
   "id": "b9f22442",
   "metadata": {},
   "outputs": [
    {
     "data": {
      "text/plain": [
       "True"
      ]
     },
     "execution_count": 21,
     "metadata": {},
     "output_type": "execute_result"
    }
   ],
   "source": [
    "check_password(pw_hash,password)"
   ]
  },
  {
   "cell_type": "code",
   "execution_count": 25,
   "id": "36278406",
   "metadata": {},
   "outputs": [
    {
     "data": {
      "text/plain": [
       "'pbkdf2:sha256:260000$f7xt6dZzKrWsQLmf$084f2b81ad2decb52c743d82658223c508dc06582bd02da5b8870e4235787b6e'"
      ]
     },
     "execution_count": 25,
     "metadata": {},
     "output_type": "execute_result"
    }
   ],
   "source": [
    "generate_password_hash(\"a\")"
   ]
  },
  {
   "cell_type": "code",
   "execution_count": 46,
   "id": "fe301c2f",
   "metadata": {},
   "outputs": [
    {
     "data": {
      "text/plain": [
       "b'$2b$12$Cyi1NcG1SzhXmLovMqaFOusdvAwVSpMNqqNrPxwhoUsvVWvbhZ8rO'"
      ]
     },
     "execution_count": 46,
     "metadata": {},
     "output_type": "execute_result"
    }
   ],
   "source": [
    "bcrypt.hashpw(password.encode('utf-8'),bcrypt.gensalt())"
   ]
  },
  {
   "cell_type": "code",
   "execution_count": 45,
   "id": "16db6e56",
   "metadata": {},
   "outputs": [
    {
     "data": {
      "text/plain": [
       "b'$2b$12$C.4TxM4kh.ZbBowQjK.jle'"
      ]
     },
     "execution_count": 45,
     "metadata": {},
     "output_type": "execute_result"
    }
   ],
   "source": [
    "bcrypt.gensalt()"
   ]
  },
  {
   "cell_type": "code",
   "execution_count": 43,
   "id": "847d4913",
   "metadata": {},
   "outputs": [
    {
     "data": {
      "text/plain": [
       "b'as456r7t8y92ehiudwgysftg#$%^&*UGVCTDR$%^&FYVG&T^R%DTRYV'"
      ]
     },
     "execution_count": 43,
     "metadata": {},
     "output_type": "execute_result"
    }
   ],
   "source": [
    "secret_key.encode('utf-8')"
   ]
  },
  {
   "cell_type": "code",
   "execution_count": 132,
   "id": "d092cd41",
   "metadata": {},
   "outputs": [
    {
     "name": "stdout",
     "output_type": "stream",
     "text": [
      "encrypted string:  b'gAAAAABg3qgaSgbJgvOTHqLFtMacS-3Uu74j_TPbLGDNRNz9fPpHO4B0ot7xAMmn8H_PXf14I31sFscl8wj9EevGCCynzKBsIjMFXcl1xtRW3GaZMKbeiR2vmzftQQO2Lv-IIdAIBkg8'\n",
      "encrypted string:  b'gAAAAABg3qgaX4y7-if7t_1JvNv6SS7nwD2tndYhWg95dGD6wsOuJEQwmt8fmcl8hJvdpoxqtrh8hZ-UoCisebLCNOqUvV-YX82UPWceXY2LMevA5YPJHe44fkshEYDrwmOMzsE7V4ew'\n",
      "encrypted string:  b'gAAAAABg3qgayzcDQWcRqiS2p2mBTsktygxKosh0yXl8C525TOjYUu9KN6OfCG69_peP1oPljRTtTVH7BCI9uwMn_9TL_R0XzV5YEM9iYHjmPEJqzgdVhbgMxTiKyLs8K40TglLzXgvo'\n",
      "encrypted string:  b'gAAAAABg3qgaTt9e4jOvfbgPd9G_bTW8vY6tyP94GPsHACuTH6uEzes6yWgocU1Nkhafy6C7v4nQTvp2dLkBmoDqKykmRLsATMhtbs8aZ5N18CSFLkSKlFul1XHc89WswWB-l5-8SeWt'\n"
     ]
    }
   ],
   "source": [
    "from cryptography.fernet import Fernet\n",
    "key = Fernet.generate_key()\n",
    "  \n",
    "fernet = Fernet(secret_key.encode())\n",
    "  \n",
    "password1 = \"#$%TYUG&^%$CTYVGCFXRERCTGVY2345t\"\n",
    "# password2 = \"#$%TYUG&^%$LIUYFVRTDFYUGHI*&^FG*\"\n",
    "# password3 = \"#$%TYUG&^%$34567(RDTFYGUH()*&^FGY)\"\n",
    "# password4 = \"#$%TYUG&^%$YUHJ`67-098KLkjHtg6578\"\n",
    "\n",
    "    \n",
    "encMessage1 = fernet.encrypt(password1.encode())\n",
    "# encMessage2 = fernet.encrypt(password2.encode())\n",
    "# encMessage3 = fernet.encrypt(password3.encode())\n",
    "# encMessage4 = fernet.encrypt(password4.encode())\n",
    "\n",
    "\n",
    "print(\"encrypted string: \", encMessage1)\n",
    "# print(\"encrypted string: \", encMessage2)\n",
    "# print(\"encrypted string: \", encMessage3)\n",
    "# print(\"encrypted string: \", encMessage4)"
   ]
  },
  {
   "cell_type": "code",
   "execution_count": 133,
   "id": "28cab1c4",
   "metadata": {},
   "outputs": [
    {
     "data": {
      "text/plain": [
       "('#$%TYUG&^%$CTYVGCFXRERCTGVY2345t',\n",
       " '#$%TYUG&^%$LIUYFVRTDFYUGHI*&^FG*',\n",
       " '#$%TYUG&^%$34567(RDTFYGUH()*&^FGY)',\n",
       " '#$%TYUG&^%$YUHJ`67-098KLkjHtg6578')"
      ]
     },
     "execution_count": 133,
     "metadata": {},
     "output_type": "execute_result"
    }
   ],
   "source": [
    "fernet.decrypt(encMessage1).decode(),fernet.decrypt(encMessage2).decode(),fernet.decrypt(encMessage3).decode(),fernet.decrypt(encMessage4).decode()"
   ]
  },
  {
   "cell_type": "code",
   "execution_count": null,
   "id": "cc5a077d",
   "metadata": {},
   "outputs": [],
   "source": []
  },
  {
   "cell_type": "code",
   "execution_count": null,
   "id": "81bcaf48",
   "metadata": {},
   "outputs": [],
   "source": []
  },
  {
   "cell_type": "code",
   "execution_count": null,
   "id": "3668e9e7",
   "metadata": {},
   "outputs": [],
   "source": []
  }
 ],
 "metadata": {
  "kernelspec": {
   "display_name": "Python 3",
   "language": "python",
   "name": "python3"
  },
  "language_info": {
   "codemirror_mode": {
    "name": "ipython",
    "version": 3
   },
   "file_extension": ".py",
   "mimetype": "text/x-python",
   "name": "python",
   "nbconvert_exporter": "python",
   "pygments_lexer": "ipython3",
   "version": "3.9.5"
  }
 },
 "nbformat": 4,
 "nbformat_minor": 5
}
