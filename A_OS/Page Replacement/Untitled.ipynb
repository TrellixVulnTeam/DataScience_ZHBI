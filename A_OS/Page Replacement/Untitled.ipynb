{
 "cells": [
  {
   "cell_type": "code",
   "execution_count": 18,
   "id": "fallen-attendance",
   "metadata": {},
   "outputs": [
    {
     "name": "stdout",
     "output_type": "stream",
     "text": [
      "[7]\n",
      "[7, 0]\n",
      "[7, 0, 1]\n",
      "[7, 0, 1, 2]\n",
      "[7, 1, 2, 0]\n",
      "[1, 2, 0, 3]\n",
      "[1, 2, 3, 0]\n",
      "[2, 3, 0, 4]\n",
      "[3, 0, 4, 2]\n",
      "[0, 4, 2, 3]\n",
      "[4, 2, 3, 0]\n",
      "[4, 2, 0, 3]\n",
      "[4, 0, 3, 2]\n",
      "6\n"
     ]
    }
   ],
   "source": [
    "capacity = 4 \n",
    "processList = [ 7, 0, 1, 2, 0, 3, 0,\n",
    "                4, 2, 3, 0, 3, 2]\n",
    "                  \n",
    "# List of current pages in Main Memory\n",
    "s = [] \n",
    "  \n",
    "pageFaults = 0\n",
    "# pageHits = 0\n",
    "  \n",
    "for i in processList:\n",
    "    \n",
    "    # If i is not present in currentPages list\n",
    "    if i not in s:\n",
    "  \n",
    "        # Check if the list can hold equal pages\n",
    "        if(len(s) == capacity):\n",
    "            s.remove(s[0])\n",
    "            s.append(i)\n",
    "  \n",
    "        else:\n",
    "            s.append(i)\n",
    "  \n",
    "        # Increment Page faults\n",
    "        pageFaults +=1\n",
    "  \n",
    "    # If page is already there in \n",
    "    # currentPages i.e in Main\n",
    "    else:\n",
    "          \n",
    "        # Remove previous index of current page\n",
    "        s.remove(i)\n",
    "  \n",
    "        # Now append it, at last index\n",
    "        s.append(i)\n",
    "    print(s)\n",
    "      \n",
    "print(\"{}\".format(pageFaults))"
   ]
  },
  {
   "cell_type": "code",
   "execution_count": 13,
   "id": "radical-position",
   "metadata": {},
   "outputs": [
    {
     "name": "stdout",
     "output_type": "stream",
     "text": [
      "Enter the number of frames: 4\n",
      "Enter the reference string: 1254125414125210\n",
      "\n",
      "String|Frame →\t0 1 2 3 Fault\n",
      "   ↓\n",
      "\n",
      "   1254125414125210\t\t1254125414125210        Yes\n",
      "\n",
      "Total Requests: 1\n",
      "Total Page Faults: 1\n",
      "Fault Rate: 100.00%\n"
     ]
    }
   ],
   "source": [
    "#LRU page replacement algorithm implementation in python\n",
    "#Created By: Suman Adhikari\n",
    "\n",
    "print(\"Enter the number of frames: \",end=\"\")\n",
    "capacity = int(input())\n",
    "f,st,fault,pf = [],[],0,'No'\n",
    "print(\"Enter the reference string: \",end=\"\")\n",
    "s = list(map(int,input().strip().split()))\n",
    "print(\"\\nString|Frame →\\t\",end='')\n",
    "for i in range(capacity):\n",
    "    print(i,end=' ')\n",
    "print(\"Fault\\n   ↓\\n\")\n",
    "for i in s:\n",
    "    if i not in f:\n",
    "        if len(f)<capacity:\n",
    "            f.append(i)\n",
    "            st.append(len(f)-1)\n",
    "        else:\n",
    "            ind = st.pop(0)\n",
    "            f[ind] = i\n",
    "            st.append(ind)\n",
    "        pf = 'Yes'\n",
    "        fault += 1\n",
    "    else:\n",
    "        st.append(st.pop(st.index(f.index(i))))\n",
    "        pf = 'No'\n",
    "    print(\"   %d\\t\\t\"%i,end='')\n",
    "    for x in f:\n",
    "        print(x,end=' ')\n",
    "    for x in range(capacity-len(f)):\n",
    "        print(' ',end=' ')\n",
    "    print(\" %s\"%pf)\n",
    "print(\"\\nTotal Requests: %d\\nTotal Page Faults: %d\\nFault Rate: %0.2f%%\"%(len(s),fault,(fault/len(s))*100))"
   ]
  },
  {
   "cell_type": "code",
   "execution_count": null,
   "id": "documented-forest",
   "metadata": {},
   "outputs": [],
   "source": []
  },
  {
   "cell_type": "code",
   "execution_count": null,
   "id": "declared-girlfriend",
   "metadata": {},
   "outputs": [],
   "source": []
  },
  {
   "cell_type": "code",
   "execution_count": null,
   "id": "close-semiconductor",
   "metadata": {},
   "outputs": [],
   "source": []
  },
  {
   "cell_type": "code",
   "execution_count": null,
   "id": "unable-bahamas",
   "metadata": {},
   "outputs": [],
   "source": []
  }
 ],
 "metadata": {
  "kernelspec": {
   "display_name": "Python 3",
   "language": "python",
   "name": "python3"
  },
  "language_info": {
   "codemirror_mode": {
    "name": "ipython",
    "version": 3
   },
   "file_extension": ".py",
   "mimetype": "text/x-python",
   "name": "python",
   "nbconvert_exporter": "python",
   "pygments_lexer": "ipython3",
   "version": "3.7.7"
  }
 },
 "nbformat": 4,
 "nbformat_minor": 5
}
