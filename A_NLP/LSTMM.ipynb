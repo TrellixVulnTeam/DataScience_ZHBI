{
 "cells": [
  {
   "cell_type": "code",
   "execution_count": 72,
   "metadata": {},
   "outputs": [],
   "source": [
    "from keras.models import Sequential\n",
    "from keras.layers import Dense\n",
    "from keras.layers import LSTM\n",
    "from sklearn.model_selection import train_test_split\n",
    "import numpy as np\n",
    "import matplotlib.pyplot as pl"
   ]
  },
  {
   "cell_type": "code",
   "execution_count": 73,
   "metadata": {},
   "outputs": [],
   "source": [
    "data=[[[(i+j)/100] for i in range(5)] for j in range(100)]\n",
    "target=[(i+5)/100 for i in range(100)]"
   ]
  },
  {
   "cell_type": "code",
   "execution_count": 74,
   "metadata": {},
   "outputs": [
    {
     "data": {
      "text/plain": [
       "[0.05, 0.06, 0.07, 0.08, 0.09, 0.1, 0.11, 0.12, 0.13, 0.14]"
      ]
     },
     "execution_count": 74,
     "metadata": {},
     "output_type": "execute_result"
    }
   ],
   "source": [
    "target[:10]"
   ]
  },
  {
   "cell_type": "code",
   "execution_count": 75,
   "metadata": {},
   "outputs": [
    {
     "data": {
      "text/plain": [
       "[[[0.0], [0.01], [0.02], [0.03], [0.04]],\n",
       " [[0.01], [0.02], [0.03], [0.04], [0.05]],\n",
       " [[0.02], [0.03], [0.04], [0.05], [0.06]],\n",
       " [[0.03], [0.04], [0.05], [0.06], [0.07]],\n",
       " [[0.04], [0.05], [0.06], [0.07], [0.08]],\n",
       " [[0.05], [0.06], [0.07], [0.08], [0.09]],\n",
       " [[0.06], [0.07], [0.08], [0.09], [0.1]],\n",
       " [[0.07], [0.08], [0.09], [0.1], [0.11]],\n",
       " [[0.08], [0.09], [0.1], [0.11], [0.12]],\n",
       " [[0.09], [0.1], [0.11], [0.12], [0.13]]]"
      ]
     },
     "execution_count": 75,
     "metadata": {},
     "output_type": "execute_result"
    }
   ],
   "source": [
    "data[:10]"
   ]
  },
  {
   "cell_type": "code",
   "execution_count": 76,
   "metadata": {},
   "outputs": [],
   "source": [
    "data=np.array(data,dtype='float32')\n",
    "target=np.array(target,dtype='float32')"
   ]
  },
  {
   "cell_type": "code",
   "execution_count": 77,
   "metadata": {},
   "outputs": [
    {
     "data": {
      "text/plain": [
       "array([[[0.  ],\n",
       "        [0.01],\n",
       "        [0.02],\n",
       "        [0.03],\n",
       "        [0.04]],\n",
       "\n",
       "       [[0.01],\n",
       "        [0.02],\n",
       "        [0.03],\n",
       "        [0.04],\n",
       "        [0.05]],\n",
       "\n",
       "       [[0.02],\n",
       "        [0.03],\n",
       "        [0.04],\n",
       "        [0.05],\n",
       "        [0.06]],\n",
       "\n",
       "       [[0.03],\n",
       "        [0.04],\n",
       "        [0.05],\n",
       "        [0.06],\n",
       "        [0.07]]], dtype=float32)"
      ]
     },
     "execution_count": 77,
     "metadata": {},
     "output_type": "execute_result"
    }
   ],
   "source": [
    "data[:4]"
   ]
  },
  {
   "cell_type": "code",
   "execution_count": 78,
   "metadata": {},
   "outputs": [
    {
     "data": {
      "text/plain": [
       "(100, 5, 1)"
      ]
     },
     "execution_count": 78,
     "metadata": {},
     "output_type": "execute_result"
    }
   ],
   "source": [
    "data.shape"
   ]
  },
  {
   "cell_type": "code",
   "execution_count": 79,
   "metadata": {},
   "outputs": [],
   "source": [
    "X_train,X_test,y_train,y_test=train_test_split(data,target,test_size=0.2,\n",
    "                                              random_state=4)"
   ]
  },
  {
   "cell_type": "code",
   "execution_count": 80,
   "metadata": {},
   "outputs": [
    {
     "name": "stdout",
     "output_type": "stream",
     "text": [
      "Model: \"sequential_8\"\n",
      "_________________________________________________________________\n",
      "Layer (type)                 Output Shape              Param #   \n",
      "=================================================================\n",
      "lstm_9 (LSTM)                (None, 5, 1)              12        \n",
      "_________________________________________________________________\n",
      "lstm_10 (LSTM)               (None, 5, 1)              12        \n",
      "_________________________________________________________________\n",
      "lstm_11 (LSTM)               (None, 5, 1)              12        \n",
      "_________________________________________________________________\n",
      "lstm_12 (LSTM)               (None, 1)                 12        \n",
      "=================================================================\n",
      "Total params: 48\n",
      "Trainable params: 48\n",
      "Non-trainable params: 0\n",
      "_________________________________________________________________\n"
     ]
    }
   ],
   "source": [
    "model=Sequential()\n",
    "model.add(LSTM((1),batch_input_shape=(None,5,1),return_sequences=True))\n",
    "model.add(LSTM((1),return_sequences=True))\n",
    "model.add(LSTM((1),return_sequences=True))\n",
    "model.add(LSTM((1),return_sequences=False))\n",
    "model.compile(loss='mean_absolute_error',optimizer='adam',metrics=['accuracy'])\n",
    "model.summary()"
   ]
  },
  {
   "cell_type": "code",
   "execution_count": null,
   "metadata": {},
   "outputs": [
    {
     "name": "stdout",
     "output_type": "stream",
     "text": [
      "Train on 80 samples, validate on 20 samples\n",
      "Epoch 1/500\n",
      "80/80 [==============================] - 1s 14ms/step - loss: 0.5998 - accuracy: 0.0000e+00 - val_loss: 0.4810 - val_accuracy: 0.0000e+00\n",
      "Epoch 2/500\n",
      "80/80 [==============================] - 0s 665us/step - loss: 0.5960 - accuracy: 0.0000e+00 - val_loss: 0.4772 - val_accuracy: 0.0000e+00\n",
      "Epoch 3/500\n",
      "80/80 [==============================] - 0s 647us/step - loss: 0.5920 - accuracy: 0.0000e+00 - val_loss: 0.4733 - val_accuracy: 0.0000e+00\n",
      "Epoch 4/500\n",
      "80/80 [==============================] - 0s 613us/step - loss: 0.5881 - accuracy: 0.0000e+00 - val_loss: 0.4695 - val_accuracy: 0.0000e+00\n",
      "Epoch 5/500\n",
      "80/80 [==============================] - 0s 642us/step - loss: 0.5841 - accuracy: 0.0000e+00 - val_loss: 0.4657 - val_accuracy: 0.0000e+00\n",
      "Epoch 6/500\n",
      "80/80 [==============================] - 0s 608us/step - loss: 0.5802 - accuracy: 0.0000e+00 - val_loss: 0.4620 - val_accuracy: 0.0000e+00\n",
      "Epoch 7/500\n",
      "80/80 [==============================] - 0s 609us/step - loss: 0.5764 - accuracy: 0.0000e+00 - val_loss: 0.4585 - val_accuracy: 0.0000e+00\n",
      "Epoch 8/500\n",
      "80/80 [==============================] - 0s 636us/step - loss: 0.5727 - accuracy: 0.0000e+00 - val_loss: 0.4549 - val_accuracy: 0.0000e+00\n",
      "Epoch 9/500\n",
      "80/80 [==============================] - 0s 642us/step - loss: 0.5691 - accuracy: 0.0000e+00 - val_loss: 0.4515 - val_accuracy: 0.0000e+00\n",
      "Epoch 10/500\n",
      "80/80 [==============================] - 0s 641us/step - loss: 0.5655 - accuracy: 0.0000e+00 - val_loss: 0.4481 - val_accuracy: 0.0000e+00\n",
      "Epoch 11/500\n",
      "80/80 [==============================] - 0s 658us/step - loss: 0.5620 - accuracy: 0.0000e+00 - val_loss: 0.4447 - val_accuracy: 0.0000e+00\n",
      "Epoch 12/500\n",
      "80/80 [==============================] - 0s 650us/step - loss: 0.5585 - accuracy: 0.0000e+00 - val_loss: 0.4414 - val_accuracy: 0.0000e+00\n",
      "Epoch 13/500\n",
      "80/80 [==============================] - 0s 639us/step - loss: 0.5551 - accuracy: 0.0000e+00 - val_loss: 0.4381 - val_accuracy: 0.0000e+00\n",
      "Epoch 14/500\n",
      "80/80 [==============================] - 0s 634us/step - loss: 0.5517 - accuracy: 0.0000e+00 - val_loss: 0.4348 - val_accuracy: 0.0000e+00\n",
      "Epoch 15/500\n",
      "80/80 [==============================] - 0s 611us/step - loss: 0.5484 - accuracy: 0.0000e+00 - val_loss: 0.4315 - val_accuracy: 0.0000e+00\n",
      "Epoch 16/500\n",
      "80/80 [==============================] - 0s 611us/step - loss: 0.5450 - accuracy: 0.0000e+00 - val_loss: 0.4282 - val_accuracy: 0.0000e+00\n",
      "Epoch 17/500\n",
      "80/80 [==============================] - 0s 694us/step - loss: 0.5416 - accuracy: 0.0000e+00 - val_loss: 0.4249 - val_accuracy: 0.0000e+00\n",
      "Epoch 18/500\n",
      "80/80 [==============================] - 0s 624us/step - loss: 0.5382 - accuracy: 0.0000e+00 - val_loss: 0.4216 - val_accuracy: 0.0000e+00\n",
      "Epoch 19/500\n",
      "80/80 [==============================] - 0s 661us/step - loss: 0.5349 - accuracy: 0.0000e+00 - val_loss: 0.4182 - val_accuracy: 0.0000e+00\n",
      "Epoch 20/500\n",
      "80/80 [==============================] - 0s 649us/step - loss: 0.5315 - accuracy: 0.0000e+00 - val_loss: 0.4148 - val_accuracy: 0.0000e+00\n",
      "Epoch 21/500\n",
      "80/80 [==============================] - 0s 673us/step - loss: 0.5281 - accuracy: 0.0000e+00 - val_loss: 0.4113 - val_accuracy: 0.0000e+00\n",
      "Epoch 22/500\n",
      "80/80 [==============================] - 0s 636us/step - loss: 0.5247 - accuracy: 0.0000e+00 - val_loss: 0.4078 - val_accuracy: 0.0000e+00\n",
      "Epoch 23/500\n",
      "80/80 [==============================] - 0s 648us/step - loss: 0.5213 - accuracy: 0.0000e+00 - val_loss: 0.4043 - val_accuracy: 0.0000e+00\n",
      "Epoch 24/500\n",
      "80/80 [==============================] - 0s 645us/step - loss: 0.5179 - accuracy: 0.0000e+00 - val_loss: 0.4007 - val_accuracy: 0.0000e+00\n",
      "Epoch 25/500\n",
      "80/80 [==============================] - 0s 657us/step - loss: 0.5143 - accuracy: 0.0000e+00 - val_loss: 0.3973 - val_accuracy: 0.0000e+00\n",
      "Epoch 26/500\n",
      "80/80 [==============================] - 0s 638us/step - loss: 0.5107 - accuracy: 0.0000e+00 - val_loss: 0.3939 - val_accuracy: 0.0000e+00\n",
      "Epoch 27/500\n",
      "80/80 [==============================] - 0s 624us/step - loss: 0.5071 - accuracy: 0.0000e+00 - val_loss: 0.3903 - val_accuracy: 0.0000e+00\n",
      "Epoch 28/500\n",
      "80/80 [==============================] - 0s 648us/step - loss: 0.5033 - accuracy: 0.0000e+00 - val_loss: 0.3867 - val_accuracy: 0.0000e+00\n",
      "Epoch 29/500\n",
      "80/80 [==============================] - 0s 650us/step - loss: 0.4995 - accuracy: 0.0000e+00 - val_loss: 0.3830 - val_accuracy: 0.0000e+00\n",
      "Epoch 30/500\n",
      "80/80 [==============================] - 0s 623us/step - loss: 0.4957 - accuracy: 0.0000e+00 - val_loss: 0.3792 - val_accuracy: 0.0000e+00\n",
      "Epoch 31/500\n",
      "80/80 [==============================] - 0s 635us/step - loss: 0.4919 - accuracy: 0.0000e+00 - val_loss: 0.3753 - val_accuracy: 0.0000e+00\n",
      "Epoch 32/500\n",
      "80/80 [==============================] - 0s 627us/step - loss: 0.4878 - accuracy: 0.0000e+00 - val_loss: 0.3713 - val_accuracy: 0.0000e+00\n",
      "Epoch 33/500\n",
      "80/80 [==============================] - 0s 684us/step - loss: 0.4840 - accuracy: 0.0000e+00 - val_loss: 0.3672 - val_accuracy: 0.0000e+00\n",
      "Epoch 34/500\n",
      "80/80 [==============================] - 0s 652us/step - loss: 0.4799 - accuracy: 0.0000e+00 - val_loss: 0.3631 - val_accuracy: 0.0000e+00\n",
      "Epoch 35/500\n",
      "80/80 [==============================] - 0s 654us/step - loss: 0.4757 - accuracy: 0.0000e+00 - val_loss: 0.3588 - val_accuracy: 0.0000e+00\n",
      "Epoch 36/500\n",
      "80/80 [==============================] - 0s 661us/step - loss: 0.4717 - accuracy: 0.0000e+00 - val_loss: 0.3544 - val_accuracy: 0.0000e+00\n",
      "Epoch 37/500\n",
      "80/80 [==============================] - 0s 739us/step - loss: 0.4674 - accuracy: 0.0000e+00 - val_loss: 0.3498 - val_accuracy: 0.0000e+00\n",
      "Epoch 38/500\n",
      "80/80 [==============================] - 0s 621us/step - loss: 0.4632 - accuracy: 0.0000e+00 - val_loss: 0.3452 - val_accuracy: 0.0000e+00\n",
      "Epoch 39/500\n",
      "80/80 [==============================] - 0s 621us/step - loss: 0.4590 - accuracy: 0.0000e+00 - val_loss: 0.3405 - val_accuracy: 0.0000e+00\n",
      "Epoch 40/500\n",
      "80/80 [==============================] - 0s 631us/step - loss: 0.4548 - accuracy: 0.0000e+00 - val_loss: 0.3357 - val_accuracy: 0.0000e+00\n",
      "Epoch 41/500\n",
      "80/80 [==============================] - 0s 623us/step - loss: 0.4505 - accuracy: 0.0000e+00 - val_loss: 0.3307 - val_accuracy: 0.0000e+00\n",
      "Epoch 42/500\n",
      "80/80 [==============================] - 0s 648us/step - loss: 0.4460 - accuracy: 0.0000e+00 - val_loss: 0.3258 - val_accuracy: 0.0000e+00\n",
      "Epoch 43/500\n",
      "80/80 [==============================] - 0s 625us/step - loss: 0.4415 - accuracy: 0.0000e+00 - val_loss: 0.3212 - val_accuracy: 0.0000e+00\n",
      "Epoch 44/500\n",
      "80/80 [==============================] - 0s 614us/step - loss: 0.4373 - accuracy: 0.0000e+00 - val_loss: 0.3165 - val_accuracy: 0.0000e+00\n",
      "Epoch 45/500\n",
      "80/80 [==============================] - 0s 649us/step - loss: 0.4326 - accuracy: 0.0000e+00 - val_loss: 0.3116 - val_accuracy: 0.0000e+00\n",
      "Epoch 46/500\n",
      "80/80 [==============================] - 0s 624us/step - loss: 0.4281 - accuracy: 0.0000e+00 - val_loss: 0.3067 - val_accuracy: 0.0000e+00\n",
      "Epoch 47/500\n",
      "80/80 [==============================] - 0s 634us/step - loss: 0.4234 - accuracy: 0.0000e+00 - val_loss: 0.3017 - val_accuracy: 0.0000e+00\n",
      "Epoch 48/500\n",
      "80/80 [==============================] - 0s 648us/step - loss: 0.4187 - accuracy: 0.0000e+00 - val_loss: 0.2971 - val_accuracy: 0.0000e+00\n",
      "Epoch 49/500\n",
      "80/80 [==============================] - 0s 636us/step - loss: 0.4143 - accuracy: 0.0000e+00 - val_loss: 0.2925 - val_accuracy: 0.0000e+00\n",
      "Epoch 50/500\n",
      "80/80 [==============================] - 0s 660us/step - loss: 0.4092 - accuracy: 0.0000e+00 - val_loss: 0.2885 - val_accuracy: 0.0000e+00\n",
      "Epoch 51/500\n",
      "80/80 [==============================] - 0s 632us/step - loss: 0.4044 - accuracy: 0.0000e+00 - val_loss: 0.2844 - val_accuracy: 0.0000e+00\n",
      "Epoch 52/500\n",
      "80/80 [==============================] - 0s 661us/step - loss: 0.3995 - accuracy: 0.0000e+00 - val_loss: 0.2801 - val_accuracy: 0.0000e+00\n",
      "Epoch 53/500\n",
      "80/80 [==============================] - 0s 630us/step - loss: 0.3943 - accuracy: 0.0000e+00 - val_loss: 0.2766 - val_accuracy: 0.0000e+00\n",
      "Epoch 54/500\n",
      "80/80 [==============================] - 0s 633us/step - loss: 0.3896 - accuracy: 0.0000e+00 - val_loss: 0.2729 - val_accuracy: 0.0000e+00\n"
     ]
    },
    {
     "name": "stdout",
     "output_type": "stream",
     "text": [
      "Epoch 55/500\n",
      "80/80 [==============================] - 0s 636us/step - loss: 0.3845 - accuracy: 0.0000e+00 - val_loss: 0.2692 - val_accuracy: 0.0000e+00\n",
      "Epoch 56/500\n",
      "80/80 [==============================] - 0s 623us/step - loss: 0.3794 - accuracy: 0.0000e+00 - val_loss: 0.2655 - val_accuracy: 0.0000e+00\n",
      "Epoch 57/500\n",
      "32/80 [===========>..................] - ETA: 0s - loss: 0.3295 - accuracy: 0.0000e+00"
     ]
    }
   ],
   "source": [
    "history=model.fit(X_train,y_train,validation_data=(X_test,y_test),epochs=500)"
   ]
  },
  {
   "cell_type": "code",
   "execution_count": null,
   "metadata": {},
   "outputs": [],
   "source": [
    "pl.plot(history.history['loss'])"
   ]
  },
  {
   "cell_type": "code",
   "execution_count": null,
   "metadata": {},
   "outputs": [],
   "source": [
    "results=model.predict(X_test)"
   ]
  },
  {
   "cell_type": "code",
   "execution_count": null,
   "metadata": {},
   "outputs": [],
   "source": [
    "pl.scatter(range(20),y_test)\n",
    "pl.scatter(range(20),results)\n"
   ]
  },
  {
   "cell_type": "code",
   "execution_count": null,
   "metadata": {},
   "outputs": [],
   "source": []
  },
  {
   "cell_type": "code",
   "execution_count": null,
   "metadata": {},
   "outputs": [],
   "source": []
  },
  {
   "cell_type": "code",
   "execution_count": null,
   "metadata": {},
   "outputs": [],
   "source": []
  },
  {
   "cell_type": "code",
   "execution_count": null,
   "metadata": {},
   "outputs": [],
   "source": []
  },
  {
   "cell_type": "code",
   "execution_count": null,
   "metadata": {},
   "outputs": [],
   "source": []
  },
  {
   "cell_type": "code",
   "execution_count": null,
   "metadata": {},
   "outputs": [],
   "source": []
  },
  {
   "cell_type": "code",
   "execution_count": null,
   "metadata": {},
   "outputs": [],
   "source": []
  },
  {
   "cell_type": "code",
   "execution_count": null,
   "metadata": {},
   "outputs": [],
   "source": []
  },
  {
   "cell_type": "code",
   "execution_count": null,
   "metadata": {},
   "outputs": [],
   "source": []
  },
  {
   "cell_type": "code",
   "execution_count": null,
   "metadata": {},
   "outputs": [],
   "source": []
  },
  {
   "cell_type": "code",
   "execution_count": null,
   "metadata": {},
   "outputs": [],
   "source": []
  },
  {
   "cell_type": "code",
   "execution_count": null,
   "metadata": {},
   "outputs": [],
   "source": []
  },
  {
   "cell_type": "code",
   "execution_count": null,
   "metadata": {},
   "outputs": [],
   "source": []
  },
  {
   "cell_type": "code",
   "execution_count": null,
   "metadata": {},
   "outputs": [],
   "source": []
  },
  {
   "cell_type": "code",
   "execution_count": null,
   "metadata": {},
   "outputs": [],
   "source": []
  },
  {
   "cell_type": "code",
   "execution_count": null,
   "metadata": {},
   "outputs": [],
   "source": []
  },
  {
   "cell_type": "code",
   "execution_count": null,
   "metadata": {},
   "outputs": [],
   "source": []
  },
  {
   "cell_type": "code",
   "execution_count": null,
   "metadata": {},
   "outputs": [],
   "source": []
  },
  {
   "cell_type": "code",
   "execution_count": null,
   "metadata": {},
   "outputs": [],
   "source": []
  },
  {
   "cell_type": "code",
   "execution_count": null,
   "metadata": {},
   "outputs": [],
   "source": []
  },
  {
   "cell_type": "code",
   "execution_count": null,
   "metadata": {},
   "outputs": [],
   "source": []
  },
  {
   "cell_type": "code",
   "execution_count": null,
   "metadata": {},
   "outputs": [],
   "source": []
  },
  {
   "cell_type": "code",
   "execution_count": null,
   "metadata": {},
   "outputs": [],
   "source": []
  },
  {
   "cell_type": "code",
   "execution_count": null,
   "metadata": {},
   "outputs": [],
   "source": []
  },
  {
   "cell_type": "code",
   "execution_count": null,
   "metadata": {},
   "outputs": [],
   "source": []
  },
  {
   "cell_type": "code",
   "execution_count": null,
   "metadata": {},
   "outputs": [],
   "source": []
  },
  {
   "cell_type": "code",
   "execution_count": null,
   "metadata": {},
   "outputs": [],
   "source": []
  },
  {
   "cell_type": "code",
   "execution_count": null,
   "metadata": {},
   "outputs": [],
   "source": []
  },
  {
   "cell_type": "code",
   "execution_count": null,
   "metadata": {},
   "outputs": [],
   "source": []
  },
  {
   "cell_type": "code",
   "execution_count": null,
   "metadata": {},
   "outputs": [],
   "source": []
  },
  {
   "cell_type": "code",
   "execution_count": null,
   "metadata": {},
   "outputs": [],
   "source": []
  },
  {
   "cell_type": "code",
   "execution_count": null,
   "metadata": {},
   "outputs": [],
   "source": []
  },
  {
   "cell_type": "code",
   "execution_count": null,
   "metadata": {},
   "outputs": [],
   "source": []
  },
  {
   "cell_type": "code",
   "execution_count": null,
   "metadata": {},
   "outputs": [],
   "source": []
  },
  {
   "cell_type": "code",
   "execution_count": null,
   "metadata": {},
   "outputs": [],
   "source": []
  },
  {
   "cell_type": "code",
   "execution_count": null,
   "metadata": {},
   "outputs": [],
   "source": []
  },
  {
   "cell_type": "code",
   "execution_count": null,
   "metadata": {},
   "outputs": [],
   "source": []
  },
  {
   "cell_type": "code",
   "execution_count": null,
   "metadata": {},
   "outputs": [],
   "source": []
  },
  {
   "cell_type": "code",
   "execution_count": null,
   "metadata": {},
   "outputs": [],
   "source": []
  },
  {
   "cell_type": "code",
   "execution_count": null,
   "metadata": {},
   "outputs": [],
   "source": []
  },
  {
   "cell_type": "code",
   "execution_count": null,
   "metadata": {},
   "outputs": [],
   "source": []
  },
  {
   "cell_type": "code",
   "execution_count": null,
   "metadata": {},
   "outputs": [],
   "source": []
  },
  {
   "cell_type": "code",
   "execution_count": null,
   "metadata": {},
   "outputs": [],
   "source": []
  },
  {
   "cell_type": "code",
   "execution_count": null,
   "metadata": {},
   "outputs": [],
   "source": []
  }
 ],
 "metadata": {
  "kernelspec": {
   "display_name": "Python 3",
   "language": "python",
   "name": "python3"
  },
  "language_info": {
   "codemirror_mode": {
    "name": "ipython",
    "version": 3
   },
   "file_extension": ".py",
   "mimetype": "text/x-python",
   "name": "python",
   "nbconvert_exporter": "python",
   "pygments_lexer": "ipython3",
   "version": "3.7.7"
  }
 },
 "nbformat": 4,
 "nbformat_minor": 4
}
