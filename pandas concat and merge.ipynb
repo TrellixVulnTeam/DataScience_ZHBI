{
 "cells": [
  {
   "cell_type": "code",
   "execution_count": 4,
   "metadata": {},
   "outputs": [
    {
     "name": "stdout",
     "output_type": "stream",
     "text": [
      "a     1\n",
      "b     2\n",
      "c     3\n",
      "d     4\n",
      "e     5\n",
      "f     6\n",
      "g     7\n",
      "h     8\n",
      "i     9\n",
      "j    10\n",
      "dtype: int64\n",
      "a    1\n",
      "b    2\n",
      "c    3\n",
      "d    4\n",
      "dtype: int64\n"
     ]
    }
   ],
   "source": [
    "import pandas as pd\n",
    "data=[1,2,3,4,5,6,7,8,9,10]\n",
    "srs=pd.Series(data,index=[chr(i) for i in range(97,97+len(data))])\n",
    "print(srs)\n",
    "\n",
    "print(srs['a':'d'])"
   ]
  },
  {
   "cell_type": "code",
   "execution_count": 36,
   "metadata": {},
   "outputs": [
    {
     "name": "stdout",
     "output_type": "stream",
     "text": [
      "   c1  c2\n",
      "0   1   2\n",
      "1   2   3\n",
      "2   3   4\n",
      "3   4   5\n",
      "4   5   6\n"
     ]
    }
   ],
   "source": [
    "data={\"c1\":[1,2,3,4,5],\"c2\":[2,3,4,5,6]}\n",
    "df=pd.DataFrame(data) \n",
    "print(df)"
   ]
  },
  {
   "cell_type": "code",
   "execution_count": 45,
   "metadata": {},
   "outputs": [
    {
     "name": "stdout",
     "output_type": "stream",
     "text": [
      "    Fruits  Qty\n",
      "0    Apple  100\n",
      "1   Orange  200\n",
      "2  Coconut  300 \n",
      "-----------------------------------\n",
      "0      Apple\n",
      "1     Orange\n",
      "2    Coconut\n",
      "Name: Fruits, dtype: object\n",
      "0    100\n",
      "1    200\n",
      "2    300\n",
      "Name: Qty, dtype: int64\n"
     ]
    }
   ],
   "source": [
    "data={'Fruits':['Apple','Orange','Coconut'],'Qty':[100,200,300]}\n",
    "df=pd.DataFrame(data)\n",
    "print(df,\"\\n-----------------------------------\")\n",
    "\n",
    "print(df['Fruits'])\n",
    "print(df['Qty'])"
   ]
  },
  {
   "cell_type": "code",
   "execution_count": 28,
   "metadata": {},
   "outputs": [
    {
     "name": "stdout",
     "output_type": "stream",
     "text": [
      "   a   b  c   d\n",
      "0  1   6  1   6\n",
      "1  2   7  2   7\n",
      "2  3   8  3   8\n",
      "3  4   9  4   9\n",
      "4  5  10  5  10\n",
      "Empty DataFrame\n",
      "Columns: []\n",
      "Index: [0, 1, 2, 3, 4, 0, 1, 2, 3, 4]\n",
      "   a   b  c   d\n",
      "0  1   6  1   6\n",
      "1  2   7  2   7\n",
      "2  3   8  3   8\n",
      "3  4   9  4   9\n",
      "4  5  10  5  10\n"
     ]
    }
   ],
   "source": [
    "df=pd.DataFrame({'a':[1,2,3,4,5],'b':[6,7,8,9,10]})\n",
    "df2=pd.DataFrame({'c':[1,2,3,4,5],'d':[6,7,8,9,10]})\n",
    "print(pd.concat([df,df2],axis=1,join=\"inner\"))\n",
    "print(pd.concat([df,df2],axis=0,join=\"inner\"))\n",
    "\n",
    "# print(pd.concat([df,df2]))\n",
    "\n",
    "# print(pd.concat([df,df2],axis=0))\n",
    "print(pd.concat([df,df2],axis=1))\n",
    "\n",
    "\n"
   ]
  },
  {
   "cell_type": "code",
   "execution_count": 67,
   "metadata": {},
   "outputs": [
    {
     "name": "stdout",
     "output_type": "stream",
     "text": [
      "     a  b     c\n",
      "0  1.0  4   NaN\n",
      "1  2.0  5   NaN\n",
      "2  3.0  6   NaN\n",
      "0  NaN  7  10.0\n",
      "1  NaN  8  11.0\n",
      "2  NaN  9  12.0\n",
      "     a  b     c\n",
      "0  1.0  4   NaN\n",
      "1  2.0  5   NaN\n",
      "2  3.0  6   NaN\n",
      "0  NaN  7  10.0\n",
      "1  NaN  8  11.0\n",
      "2  NaN  9  12.0\n",
      "   a  b  b   c\n",
      "0  1  4  7  10\n",
      "1  2  5  8  11\n",
      "2  3  6  9  12\n",
      "   b\n",
      "0  4\n",
      "1  5\n",
      "2  6\n",
      "0  7\n",
      "1  8\n",
      "2  9\n",
      "   a  b  b   c\n",
      "0  1  4  7  10\n",
      "1  2  5  8  11\n",
      "2  3  6  9  12\n"
     ]
    },
    {
     "name": "stderr",
     "output_type": "stream",
     "text": [
      "c:\\users\\rinsu\\appdata\\local\\programs\\python\\python37-32\\lib\\site-packages\\ipykernel_launcher.py:3: FutureWarning: Sorting because non-concatenation axis is not aligned. A future version\n",
      "of pandas will change to not sort by default.\n",
      "\n",
      "To accept the future behavior, pass 'sort=False'.\n",
      "\n",
      "To retain the current behavior and silence the warning, pass 'sort=True'.\n",
      "\n",
      "  This is separate from the ipykernel package so we can avoid doing imports until\n",
      "c:\\users\\rinsu\\appdata\\local\\programs\\python\\python37-32\\lib\\site-packages\\ipykernel_launcher.py:4: FutureWarning: Sorting because non-concatenation axis is not aligned. A future version\n",
      "of pandas will change to not sort by default.\n",
      "\n",
      "To accept the future behavior, pass 'sort=False'.\n",
      "\n",
      "To retain the current behavior and silence the warning, pass 'sort=True'.\n",
      "\n",
      "  after removing the cwd from sys.path.\n"
     ]
    }
   ],
   "source": [
    "a=pd.DataFrame({'a':[1,2,3],'b':[4,5,6]})\n",
    "b=pd.DataFrame({'b':[7,8,9],'c':[10,11,12]})\n",
    "print(pd.concat([a,b]))\n",
    "print(pd.concat([a,b],axis=0))\n",
    "print(pd.concat([a,b],axis=1))\n",
    "print(pd.concat([a,b],axis=0,join='inner'))\n",
    "print(pd.concat([a,b],axis=1,join='inner'))\n"
   ]
  },
  {
   "cell_type": "code",
   "execution_count": 68,
   "metadata": {},
   "outputs": [
    {
     "name": "stdout",
     "output_type": "stream",
     "text": [
      "   a  b   c\n",
      "0  1  4 NaN\n",
      "1  2  5 NaN\n",
      "2  3  6 NaN \n",
      "----------------------------\n",
      "    a  b   c\n",
      "0 NaN  7  10\n",
      "1 NaN  8  11\n",
      "2 NaN  9  12 \n",
      "----------------------------\n",
      "Empty DataFrame\n",
      "Columns: [a, b, c]\n",
      "Index: [] \n",
      "----------------------------\n",
      "     a  b     c\n",
      "0  1.0  4   NaN\n",
      "1  2.0  5   NaN\n",
      "2  3.0  6   NaN\n",
      "3  NaN  7  10.0\n",
      "4  NaN  8  11.0\n",
      "5  NaN  9  12.0 \n",
      "----------------------------\n"
     ]
    }
   ],
   "source": [
    "print(pd.merge(a,b,how=\"left\"),\"\\n----------------------------\")\n",
    "print(pd.merge(a,b,how=\"right\"),\"\\n----------------------------\")\n",
    "print(pd.merge(a,b,on=[\"b\"],how=\"inner\"),\"\\n----------------------------\")\n",
    "print(pd.merge(a,b,how=\"outer\"),\"\\n----------------------------\")"
   ]
  },
  {
   "cell_type": "code",
   "execution_count": null,
   "metadata": {},
   "outputs": [],
   "source": [
    " "
   ]
  }
 ],
 "metadata": {
  "kernelspec": {
   "display_name": "Python 3",
   "language": "python",
   "name": "python3"
  },
  "language_info": {
   "codemirror_mode": {
    "name": "ipython",
    "version": 3
   },
   "file_extension": ".py",
   "mimetype": "text/x-python",
   "name": "python",
   "nbconvert_exporter": "python",
   "pygments_lexer": "ipython3",
   "version": "3.7.4"
  }
 },
 "nbformat": 4,
 "nbformat_minor": 2
}
