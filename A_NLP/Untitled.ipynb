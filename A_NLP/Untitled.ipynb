{
 "cells": [
  {
   "cell_type": "code",
   "execution_count": 32,
   "metadata": {},
   "outputs": [],
   "source": [
    "from tensorflow.keras.preprocessing.text import one_hot\n",
    "import nltk"
   ]
  },
  {
   "cell_type": "code",
   "execution_count": 102,
   "metadata": {},
   "outputs": [],
   "source": [
    "sent=[  'the glass of milk',\n",
    "     'the glass of juice',\n",
    "     'the cup of tea',\n",
    "    'I am a good boy',\n",
    "     'I am a good developer',\n",
    "     'understand the meaning of words',\n",
    "     'your videos are good',\n",
    "       'the glass of milk',\n",
    "     'the glass of juice',\n",
    "     'the cup of tea',\n",
    "    'I am a good boy',\n",
    "     'I am a good developer',\n",
    "     'understand the meaning of words',\n",
    "     'your videos are good',\n",
    "       'the glass of milk',\n",
    "     'the glass of juice',\n",
    "     'the cup of tea',\n",
    "    'I am a good boy',\n",
    "     'I am a good developer',\n",
    "     'understand the meaning of words',\n",
    "     'your videos are good',\n",
    "       'the glass of milk',\n",
    "     'the glass of juice',\n",
    "     'the cup of tea',\n",
    "    'I am a good boy',\n",
    "     'I am a good developer',\n",
    "     'understand the meaning of words',\n",
    "     'your videos are good',\n",
    "       'the glass of milk',\n",
    "     'the glass of juice',\n",
    "     'the cup of tea',\n",
    "    'I am a good boy',\n",
    "     'I am a good developer',\n",
    "     'understand the meaning of words',\n",
    "     'your videos are good',]"
   ]
  },
  {
   "cell_type": "code",
   "execution_count": 3,
   "metadata": {},
   "outputs": [
    {
     "data": {
      "text/plain": [
       "['the glass of milk',\n",
       " 'the glass of juice',\n",
       " 'the cup of tea',\n",
       " 'I am a good boy',\n",
       " 'I am a good developer',\n",
       " 'understand the meaning of words',\n",
       " 'your videos are good']"
      ]
     },
     "execution_count": 3,
     "metadata": {},
     "output_type": "execute_result"
    }
   ],
   "source": [
    "sent"
   ]
  },
  {
   "cell_type": "code",
   "execution_count": 4,
   "metadata": {},
   "outputs": [],
   "source": [
    "voc_size=10000"
   ]
  },
  {
   "cell_type": "code",
   "execution_count": 5,
   "metadata": {},
   "outputs": [],
   "source": [
    "onehot_rep=[one_hot(word,voc_size) for word in sent]"
   ]
  },
  {
   "cell_type": "code",
   "execution_count": 6,
   "metadata": {},
   "outputs": [
    {
     "data": {
      "text/plain": [
       "[[8086, 9164, 2360, 3681],\n",
       " [8086, 9164, 2360, 9897],\n",
       " [8086, 7526, 2360, 6122],\n",
       " [1824, 5434, 6308, 1149, 263],\n",
       " [1824, 5434, 6308, 1149, 3605],\n",
       " [9083, 8086, 7932, 2360, 4275],\n",
       " [9446, 6053, 7041, 1149]]"
      ]
     },
     "execution_count": 6,
     "metadata": {},
     "output_type": "execute_result"
    }
   ],
   "source": [
    "onehot_rep"
   ]
  },
  {
   "cell_type": "code",
   "execution_count": 7,
   "metadata": {},
   "outputs": [],
   "source": [
    "from tensorflow.keras.layers import Embedding\n",
    "from tensorflow.keras.preprocessing.sequence import pad_sequences\n",
    "from tensorflow.keras.models import Sequential"
   ]
  },
  {
   "cell_type": "code",
   "execution_count": 8,
   "metadata": {},
   "outputs": [],
   "source": [
    "import numpy as np"
   ]
  },
  {
   "cell_type": "code",
   "execution_count": 9,
   "metadata": {},
   "outputs": [
    {
     "data": {
      "text/plain": [
       "array([[   0,    0,    0,    0, 8086, 9164, 2360, 3681],\n",
       "       [   0,    0,    0,    0, 8086, 9164, 2360, 9897],\n",
       "       [   0,    0,    0,    0, 8086, 7526, 2360, 6122],\n",
       "       [   0,    0,    0, 1824, 5434, 6308, 1149,  263],\n",
       "       [   0,    0,    0, 1824, 5434, 6308, 1149, 3605],\n",
       "       [   0,    0,    0, 9083, 8086, 7932, 2360, 4275],\n",
       "       [   0,    0,    0,    0, 9446, 6053, 7041, 1149]])"
      ]
     },
     "execution_count": 9,
     "metadata": {},
     "output_type": "execute_result"
    }
   ],
   "source": [
    "sent_len=8\n",
    "embedded_docs=pad_sequences(onehot_rep,padding='pre',maxlen=sent_len)\n",
    "embedded_docs"
   ]
  },
  {
   "cell_type": "code",
   "execution_count": 10,
   "metadata": {},
   "outputs": [],
   "source": [
    "dim=15"
   ]
  },
  {
   "cell_type": "code",
   "execution_count": 11,
   "metadata": {},
   "outputs": [],
   "source": [
    "model=Sequential()\n",
    "model.add(Embedding(voc_size,10,input_length=sent_len))\n",
    "model.compile('adam','mse')"
   ]
  },
  {
   "cell_type": "code",
   "execution_count": 12,
   "metadata": {},
   "outputs": [
    {
     "name": "stdout",
     "output_type": "stream",
     "text": [
      "Model: \"sequential\"\n",
      "_________________________________________________________________\n",
      "Layer (type)                 Output Shape              Param #   \n",
      "=================================================================\n",
      "embedding (Embedding)        (None, 8, 10)             100000    \n",
      "=================================================================\n",
      "Total params: 100,000\n",
      "Trainable params: 100,000\n",
      "Non-trainable params: 0\n",
      "_________________________________________________________________\n"
     ]
    }
   ],
   "source": [
    "model.summary()"
   ]
  },
  {
   "cell_type": "code",
   "execution_count": 13,
   "metadata": {},
   "outputs": [
    {
     "data": {
      "text/plain": [
       "array([[ 2.60213874e-02, -3.01560406e-02, -2.74621379e-02,\n",
       "        -4.70143445e-02,  4.64676656e-02,  4.73259576e-02,\n",
       "         2.39644907e-02,  1.54869445e-02, -4.13775817e-02,\n",
       "        -2.86671873e-02],\n",
       "       [ 2.60213874e-02, -3.01560406e-02, -2.74621379e-02,\n",
       "        -4.70143445e-02,  4.64676656e-02,  4.73259576e-02,\n",
       "         2.39644907e-02,  1.54869445e-02, -4.13775817e-02,\n",
       "        -2.86671873e-02],\n",
       "       [ 2.60213874e-02, -3.01560406e-02, -2.74621379e-02,\n",
       "        -4.70143445e-02,  4.64676656e-02,  4.73259576e-02,\n",
       "         2.39644907e-02,  1.54869445e-02, -4.13775817e-02,\n",
       "        -2.86671873e-02],\n",
       "       [ 2.60213874e-02, -3.01560406e-02, -2.74621379e-02,\n",
       "        -4.70143445e-02,  4.64676656e-02,  4.73259576e-02,\n",
       "         2.39644907e-02,  1.54869445e-02, -4.13775817e-02,\n",
       "        -2.86671873e-02],\n",
       "       [-1.89014915e-02,  3.09907235e-02,  8.76532868e-03,\n",
       "         4.82825153e-02, -4.00388129e-02,  3.90108339e-02,\n",
       "         9.20032337e-03, -1.41406879e-02, -4.79970351e-02,\n",
       "         3.64874937e-02],\n",
       "       [ 2.96121873e-02,  1.50302537e-02, -4.82258312e-02,\n",
       "         8.25016573e-03,  3.29346545e-02,  3.37535180e-02,\n",
       "         6.97486103e-05,  4.40535583e-02,  3.73822488e-02,\n",
       "        -1.19445436e-02],\n",
       "       [ 4.64177616e-02, -1.36592388e-02,  1.61873586e-02,\n",
       "        -3.14260647e-03, -9.71877575e-03, -4.99547832e-02,\n",
       "        -2.93107759e-02,  7.46667385e-03, -2.96677276e-03,\n",
       "        -3.95350456e-02],\n",
       "       [ 3.45394276e-02, -2.87022591e-02,  1.45397820e-02,\n",
       "         4.22459356e-02, -1.30919218e-02,  8.16401094e-03,\n",
       "         2.80099846e-02, -1.44725554e-02, -1.97008979e-02,\n",
       "        -2.59835366e-02]], dtype=float32)"
      ]
     },
     "execution_count": 13,
     "metadata": {},
     "output_type": "execute_result"
    }
   ],
   "source": [
    "model.predict(embedded_docs)[0]"
   ]
  },
  {
   "cell_type": "code",
   "execution_count": 16,
   "metadata": {},
   "outputs": [
    {
     "data": {
      "text/plain": [
       "array([   0,    0,    0,    0, 3401, 6031, 6582, 4291])"
      ]
     },
     "execution_count": 16,
     "metadata": {},
     "output_type": "execute_result"
    }
   ],
   "source": [
    "embedded_docs[0]"
   ]
  },
  {
   "cell_type": "code",
   "execution_count": 14,
   "metadata": {},
   "outputs": [],
   "source": [
    "from keras.preprocessing.text import Tokenizer"
   ]
  },
  {
   "cell_type": "code",
   "execution_count": 15,
   "metadata": {},
   "outputs": [],
   "source": [
    "tok=Tokenizer()"
   ]
  },
  {
   "cell_type": "code",
   "execution_count": 16,
   "metadata": {},
   "outputs": [],
   "source": [
    "tok.fit_on_texts(sent)"
   ]
  },
  {
   "cell_type": "code",
   "execution_count": 20,
   "metadata": {},
   "outputs": [
    {
     "data": {
      "text/plain": [
       "['the glass of milk',\n",
       " 'the glass of juice',\n",
       " 'the cup of tea',\n",
       " 'I am a good boy',\n",
       " 'I am a good developer',\n",
       " 'understand the meaning of words',\n",
       " 'your videos are good']"
      ]
     },
     "execution_count": 20,
     "metadata": {},
     "output_type": "execute_result"
    }
   ],
   "source": [
    "sent"
   ]
  },
  {
   "cell_type": "code",
   "execution_count": 39,
   "metadata": {},
   "outputs": [
    {
     "data": {
      "text/plain": [
       "{'the': 1,\n",
       " 'of': 2,\n",
       " 'good': 3,\n",
       " 'glass': 4,\n",
       " 'i': 5,\n",
       " 'am': 6,\n",
       " 'a': 7,\n",
       " 'milk': 8,\n",
       " 'juice': 9,\n",
       " 'cup': 10,\n",
       " 'tea': 11,\n",
       " 'boy': 12,\n",
       " 'developer': 13,\n",
       " 'understand': 14,\n",
       " 'meaning': 15,\n",
       " 'words': 16,\n",
       " 'your': 17,\n",
       " 'videos': 18,\n",
       " 'are': 19}"
      ]
     },
     "execution_count": 39,
     "metadata": {},
     "output_type": "execute_result"
    }
   ],
   "source": [
    "tokz=tok.word_index\n",
    "tokz"
   ]
  },
  {
   "cell_type": "code",
   "execution_count": 103,
   "metadata": {},
   "outputs": [],
   "source": [
    "tokens=[nltk.word_tokenize(sents) for sents in sent]"
   ]
  },
  {
   "cell_type": "code",
   "execution_count": 104,
   "metadata": {},
   "outputs": [
    {
     "data": {
      "text/plain": [
       "[['the', 'glass', 'of', 'milk'],\n",
       " ['the', 'glass', 'of', 'juice'],\n",
       " ['the', 'cup', 'of', 'tea'],\n",
       " ['I', 'am', 'a', 'good', 'boy'],\n",
       " ['I', 'am', 'a', 'good', 'developer'],\n",
       " ['understand', 'the', 'meaning', 'of', 'words'],\n",
       " ['your', 'videos', 'are', 'good'],\n",
       " ['the', 'glass', 'of', 'milk'],\n",
       " ['the', 'glass', 'of', 'juice'],\n",
       " ['the', 'cup', 'of', 'tea'],\n",
       " ['I', 'am', 'a', 'good', 'boy'],\n",
       " ['I', 'am', 'a', 'good', 'developer'],\n",
       " ['understand', 'the', 'meaning', 'of', 'words'],\n",
       " ['your', 'videos', 'are', 'good'],\n",
       " ['the', 'glass', 'of', 'milk'],\n",
       " ['the', 'glass', 'of', 'juice'],\n",
       " ['the', 'cup', 'of', 'tea'],\n",
       " ['I', 'am', 'a', 'good', 'boy'],\n",
       " ['I', 'am', 'a', 'good', 'developer'],\n",
       " ['understand', 'the', 'meaning', 'of', 'words'],\n",
       " ['your', 'videos', 'are', 'good'],\n",
       " ['the', 'glass', 'of', 'milk'],\n",
       " ['the', 'glass', 'of', 'juice'],\n",
       " ['the', 'cup', 'of', 'tea'],\n",
       " ['I', 'am', 'a', 'good', 'boy'],\n",
       " ['I', 'am', 'a', 'good', 'developer'],\n",
       " ['understand', 'the', 'meaning', 'of', 'words'],\n",
       " ['your', 'videos', 'are', 'good'],\n",
       " ['the', 'glass', 'of', 'milk'],\n",
       " ['the', 'glass', 'of', 'juice'],\n",
       " ['the', 'cup', 'of', 'tea'],\n",
       " ['I', 'am', 'a', 'good', 'boy'],\n",
       " ['I', 'am', 'a', 'good', 'developer'],\n",
       " ['understand', 'the', 'meaning', 'of', 'words'],\n",
       " ['your', 'videos', 'are', 'good']]"
      ]
     },
     "execution_count": 104,
     "metadata": {},
     "output_type": "execute_result"
    }
   ],
   "source": [
    "tokens"
   ]
  },
  {
   "cell_type": "code",
   "execution_count": 40,
   "metadata": {},
   "outputs": [
    {
     "data": {
      "text/plain": [
       "{'a',\n",
       " 'am',\n",
       " 'are',\n",
       " 'boy',\n",
       " 'cup',\n",
       " 'developer',\n",
       " 'glass',\n",
       " 'good',\n",
       " 'i',\n",
       " 'juice',\n",
       " 'meaning',\n",
       " 'milk',\n",
       " 'of',\n",
       " 'tea',\n",
       " 'the',\n",
       " 'understand',\n",
       " 'videos',\n",
       " 'words',\n",
       " 'your'}"
      ]
     },
     "execution_count": 40,
     "metadata": {},
     "output_type": "execute_result"
    }
   ],
   "source": [
    "toknsz=set([sentz.lower() for texts in tokens for sentz in texts])\n",
    "toknsz"
   ]
  },
  {
   "cell_type": "code",
   "execution_count": 94,
   "metadata": {},
   "outputs": [
    {
     "data": {
      "text/plain": [
       "['good',\n",
       " 'words',\n",
       " 'am',\n",
       " 'tea',\n",
       " 'juice',\n",
       " 'the',\n",
       " 'your',\n",
       " 'i',\n",
       " 'glass',\n",
       " 'boy',\n",
       " 'milk',\n",
       " 'cup',\n",
       " 'videos',\n",
       " 'understand',\n",
       " 'meaning',\n",
       " 'of',\n",
       " 'a',\n",
       " 'developer',\n",
       " 'are']"
      ]
     },
     "execution_count": 94,
     "metadata": {},
     "output_type": "execute_result"
    }
   ],
   "source": [
    "toknsz=list(toknsz)\n",
    "toknsz"
   ]
  },
  {
   "cell_type": "code",
   "execution_count": 42,
   "metadata": {},
   "outputs": [
    {
     "data": {
      "text/plain": [
       "(19, 19)"
      ]
     },
     "execution_count": 42,
     "metadata": {},
     "output_type": "execute_result"
    }
   ],
   "source": [
    "len(tokz),len(toknsz)"
   ]
  },
  {
   "cell_type": "code",
   "execution_count": 43,
   "metadata": {},
   "outputs": [
    {
     "name": "stdout",
     "output_type": "stream",
     "text": [
      "('the', 1)\n",
      "('of', 2)\n",
      "('good', 3)\n",
      "('glass', 4)\n",
      "('i', 5)\n",
      "('am', 6)\n",
      "('a', 7)\n",
      "('milk', 8)\n",
      "('juice', 9)\n",
      "('cup', 10)\n",
      "('tea', 11)\n",
      "('boy', 12)\n",
      "('developer', 13)\n",
      "('understand', 14)\n",
      "('meaning', 15)\n",
      "('words', 16)\n",
      "('your', 17)\n",
      "('videos', 18)\n",
      "('are', 19)\n"
     ]
    }
   ],
   "source": [
    "for i in tok.word_index.items():\n",
    "    print(i)"
   ]
  },
  {
   "cell_type": "code",
   "execution_count": 68,
   "metadata": {},
   "outputs": [],
   "source": [
    "from gensim.models.word2vec import Word2Vec"
   ]
  },
  {
   "cell_type": "code",
   "execution_count": 105,
   "metadata": {},
   "outputs": [],
   "source": [
    "w2v=Word2Vec(size=2,window=2)\n",
    "w2v.build_vocab(tokens)"
   ]
  },
  {
   "cell_type": "code",
   "execution_count": 109,
   "metadata": {},
   "outputs": [
    {
     "data": {
      "text/plain": [
       "dict_keys(['the', 'glass', 'of', 'milk', 'juice', 'cup', 'tea', 'I', 'am', 'a', 'good', 'boy', 'developer', 'understand', 'meaning', 'words', 'your', 'videos', 'are'])"
      ]
     },
     "execution_count": 109,
     "metadata": {},
     "output_type": "execute_result"
    }
   ],
   "source": [
    "keys=w2v.wv.vocab.keys()\n",
    "keys"
   ]
  },
  {
   "cell_type": "code",
   "execution_count": 107,
   "metadata": {},
   "outputs": [
    {
     "data": {
      "text/plain": [
       "(852, 68000)"
      ]
     },
     "execution_count": 107,
     "metadata": {},
     "output_type": "execute_result"
    }
   ],
   "source": [
    "w2v.train(sent,total_examples=len(sent),epochs=100)"
   ]
  },
  {
   "cell_type": "code",
   "execution_count": 112,
   "metadata": {},
   "outputs": [],
   "source": [
    "keys=list(keys)"
   ]
  },
  {
   "cell_type": "code",
   "execution_count": 113,
   "metadata": {},
   "outputs": [],
   "source": [
    "values=[w2v.wv.get_vector(key) for key in keys]"
   ]
  },
  {
   "cell_type": "code",
   "execution_count": 123,
   "metadata": {},
   "outputs": [],
   "source": [
    "import matplotlib.pyplot as pl"
   ]
  },
  {
   "cell_type": "code",
   "execution_count": 124,
   "metadata": {},
   "outputs": [],
   "source": [
    "import numpy as np\n",
    "values=np.array(values)"
   ]
  },
  {
   "cell_type": "code",
   "execution_count": 132,
   "metadata": {},
   "outputs": [
    {
     "data": {
      "image/png": "[encoded data removed]",
      "text/plain": [
       "<Figure size 432x288 with 1 Axes>"
      ]
     },
     "metadata": {
      "needs_background": "light"
     },
     "output_type": "display_data"
    }
   ],
   "source": [
    "pl.scatter(values[:,0],values[:,1])\n",
    "for i,j in zip(keys,values):\n",
    "    \n",
    "    pl.text(j[0],j[1],i)"
   ]
  },
  {
   "cell_type": "code",
   "execution_count": 130,
   "metadata": {},
   "outputs": [
    {
     "data": {
      "text/plain": [
       "array([-0.02947344, -0.08894851], dtype=float32)"
      ]
     },
     "execution_count": 130,
     "metadata": {},
     "output_type": "execute_result"
    }
   ],
   "source": [
    "values[0]"
   ]
  },
  {
   "cell_type": "code",
   "execution_count": null,
   "metadata": {},
   "outputs": [],
   "source": []
  },
  {
   "cell_type": "code",
   "execution_count": null,
   "metadata": {},
   "outputs": [],
   "source": []
  },
  {
   "cell_type": "code",
   "execution_count": null,
   "metadata": {},
   "outputs": [],
   "source": []
  },
  {
   "cell_type": "code",
   "execution_count": null,
   "metadata": {},
   "outputs": [],
   "source": []
  },
  {
   "cell_type": "code",
   "execution_count": null,
   "metadata": {},
   "outputs": [],
   "source": []
  },
  {
   "cell_type": "code",
   "execution_count": null,
   "metadata": {},
   "outputs": [],
   "source": []
  },
  {
   "cell_type": "code",
   "execution_count": null,
   "metadata": {},
   "outputs": [],
   "source": []
  },
  {
   "cell_type": "code",
   "execution_count": null,
   "metadata": {},
   "outputs": [],
   "source": []
  },
  {
   "cell_type": "code",
   "execution_count": null,
   "metadata": {},
   "outputs": [],
   "source": []
  },
  {
   "cell_type": "code",
   "execution_count": null,
   "metadata": {},
   "outputs": [],
   "source": []
  },
  {
   "cell_type": "code",
   "execution_count": null,
   "metadata": {},
   "outputs": [],
   "source": []
  },
  {
   "cell_type": "code",
   "execution_count": null,
   "metadata": {},
   "outputs": [],
   "source": []
  },
  {
   "cell_type": "code",
   "execution_count": null,
   "metadata": {},
   "outputs": [],
   "source": []
  },
  {
   "cell_type": "code",
   "execution_count": null,
   "metadata": {},
   "outputs": [],
   "source": []
  },
  {
   "cell_type": "code",
   "execution_count": null,
   "metadata": {},
   "outputs": [],
   "source": []
  },
  {
   "cell_type": "code",
   "execution_count": null,
   "metadata": {},
   "outputs": [],
   "source": []
  },
  {
   "cell_type": "code",
   "execution_count": null,
   "metadata": {},
   "outputs": [],
   "source": []
  },
  {
   "cell_type": "code",
   "execution_count": null,
   "metadata": {},
   "outputs": [],
   "source": []
  },
  {
   "cell_type": "code",
   "execution_count": null,
   "metadata": {},
   "outputs": [],
   "source": []
  },
  {
   "cell_type": "code",
   "execution_count": null,
   "metadata": {},
   "outputs": [],
   "source": []
  },
  {
   "cell_type": "code",
   "execution_count": null,
   "metadata": {},
   "outputs": [],
   "source": []
  },
  {
   "cell_type": "code",
   "execution_count": null,
   "metadata": {},
   "outputs": [],
   "source": []
  },
  {
   "cell_type": "code",
   "execution_count": null,
   "metadata": {},
   "outputs": [],
   "source": []
  },
  {
   "cell_type": "code",
   "execution_count": null,
   "metadata": {},
   "outputs": [],
   "source": []
  },
  {
   "cell_type": "code",
   "execution_count": null,
   "metadata": {},
   "outputs": [],
   "source": []
  },
  {
   "cell_type": "code",
   "execution_count": null,
   "metadata": {},
   "outputs": [],
   "source": []
  },
  {
   "cell_type": "code",
   "execution_count": null,
   "metadata": {},
   "outputs": [],
   "source": []
  },
  {
   "cell_type": "code",
   "execution_count": null,
   "metadata": {},
   "outputs": [],
   "source": []
  },
  {
   "cell_type": "code",
   "execution_count": null,
   "metadata": {},
   "outputs": [],
   "source": []
  },
  {
   "cell_type": "code",
   "execution_count": null,
   "metadata": {},
   "outputs": [],
   "source": []
  },
  {
   "cell_type": "code",
   "execution_count": null,
   "metadata": {},
   "outputs": [],
   "source": []
  },
  {
   "cell_type": "code",
   "execution_count": null,
   "metadata": {},
   "outputs": [],
   "source": []
  },
  {
   "cell_type": "code",
   "execution_count": null,
   "metadata": {},
   "outputs": [],
   "source": []
  },
  {
   "cell_type": "code",
   "execution_count": null,
   "metadata": {},
   "outputs": [],
   "source": []
  },
  {
   "cell_type": "code",
   "execution_count": null,
   "metadata": {},
   "outputs": [],
   "source": []
  },
  {
   "cell_type": "code",
   "execution_count": null,
   "metadata": {},
   "outputs": [],
   "source": []
  },
  {
   "cell_type": "code",
   "execution_count": null,
   "metadata": {},
   "outputs": [],
   "source": []
  }
 ],
 "metadata": {
  "kernelspec": {
   "display_name": "Python 3",
   "language": "python",
   "name": "python3"
  },
  "language_info": {
   "codemirror_mode": {
    "name": "ipython",
    "version": 3
   },
   "file_extension": ".py",
   "mimetype": "text/x-python",
   "name": "python",
   "nbconvert_exporter": "python",
   "pygments_lexer": "ipython3",
   "version": "3.7.7"
  }
 },
 "nbformat": 4,
 "nbformat_minor": 4
}
