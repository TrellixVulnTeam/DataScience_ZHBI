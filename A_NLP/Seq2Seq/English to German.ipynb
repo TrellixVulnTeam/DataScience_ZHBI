{
 "cells": [
  {
   "cell_type": "code",
   "execution_count": 1,
   "metadata": {},
   "outputs": [],
   "source": [
    "import pandas as pd"
   ]
  },
  {
   "cell_type": "code",
   "execution_count": 2,
   "metadata": {},
   "outputs": [],
   "source": [
    "import tensorflow as tf\n",
    "physical_devices = tf.config.list_physical_devices('GPU') \n",
    "tf.config.experimental.set_memory_growth(physical_devices[0], True)\n",
    "\n",
    "\n"
   ]
  },
  {
   "cell_type": "code",
   "execution_count": 3,
   "metadata": {},
   "outputs": [],
   "source": [
    "with open('input.txt','r',encoding='utf-8') as f:\n",
    "    lines=f.read().split('\\n')"
   ]
  },
  {
   "cell_type": "code",
   "execution_count": 4,
   "metadata": {},
   "outputs": [
    {
     "name": "stdout",
     "output_type": "stream",
     "text": [
      "It's me!\tIch bin's.\n"
     ]
    }
   ],
   "source": [
    "print(lines[155])"
   ]
  },
  {
   "cell_type": "code",
   "execution_count": 5,
   "metadata": {},
   "outputs": [
    {
     "data": {
      "text/plain": [
       "169813"
      ]
     },
     "execution_count": 5,
     "metadata": {},
     "output_type": "execute_result"
    }
   ],
   "source": [
    "len(lines)"
   ]
  },
  {
   "cell_type": "code",
   "execution_count": 6,
   "metadata": {},
   "outputs": [],
   "source": [
    "input_texts = []\n",
    "target_texts = []\n",
    "input_characters = set()\n",
    "target_characters = set()"
   ]
  },
  {
   "cell_type": "code",
   "execution_count": 7,
   "metadata": {},
   "outputs": [
    {
     "data": {
      "text/plain": [
       "10000"
      ]
     },
     "execution_count": 7,
     "metadata": {},
     "output_type": "execute_result"
    }
   ],
   "source": [
    "num_samples = 10000\n",
    "num_samples"
   ]
  },
  {
   "cell_type": "code",
   "execution_count": 8,
   "metadata": {},
   "outputs": [],
   "source": [
    "for line in lines[: min(num_samples, len(lines) - 1)]:\n",
    "    input_text, target_text = line.split('\\t')\n",
    "    target_text = '\\t' + target_text + '\\n'\n",
    "    input_texts.append(input_text)\n",
    "    target_texts.append(target_text)\n",
    "    for char in input_text:\n",
    "        if char not in input_characters:\n",
    "            input_characters.add(char)\n",
    "    for char in target_text:\n",
    "        if char not in target_characters:\n",
    "            target_characters.add(char)"
   ]
  },
  {
   "cell_type": "code",
   "execution_count": 9,
   "metadata": {},
   "outputs": [
    {
     "data": {
      "text/plain": [
       "(\"It's me!\", \"\\tIch bin's.\\n\")"
      ]
     },
     "execution_count": 9,
     "metadata": {},
     "output_type": "execute_result"
    }
   ],
   "source": [
    "input_texts[155],target_texts[155]"
   ]
  },
  {
   "cell_type": "code",
   "execution_count": 10,
   "metadata": {},
   "outputs": [
    {
     "name": "stdout",
     "output_type": "stream",
     "text": [
      "Number of samples: 10000\n",
      "Number of unique input tokens: 70\n",
      "Number of unique output tokens: 90\n",
      "Max sequence length for inputs: 16\n",
      "Max sequence length for outputs: 53\n"
     ]
    }
   ],
   "source": [
    "input_characters = sorted(list(input_characters))\n",
    "target_characters = sorted(list(target_characters))\n",
    "num_encoder_tokens = len(input_characters)\n",
    "num_decoder_tokens = len(target_characters)\n",
    "max_encoder_seq_length = max([len(txt) for txt in input_texts])\n",
    "max_decoder_seq_length = max([len(txt) for txt in target_texts])\n",
    "\n",
    "print('Number of samples:', len(input_texts))\n",
    "print('Number of unique input tokens:', num_encoder_tokens)\n",
    "print('Number of unique output tokens:', num_decoder_tokens)\n",
    "print('Max sequence length for inputs:', max_encoder_seq_length)\n",
    "print('Max sequence length for outputs:', max_decoder_seq_length)"
   ]
  },
  {
   "cell_type": "code",
   "execution_count": 11,
   "metadata": {},
   "outputs": [],
   "source": [
    "input_token_index = dict(\n",
    "  [(char, i) for i, char in enumerate(input_characters)])\n",
    "target_token_index = dict(\n",
    "  [(char, i) for i, char in enumerate(target_characters)])"
   ]
  },
  {
   "cell_type": "code",
   "execution_count": null,
   "metadata": {},
   "outputs": [],
   "source": []
  },
  {
   "cell_type": "code",
   "execution_count": 12,
   "metadata": {},
   "outputs": [],
   "source": [
    "import numpy as np\n",
    "\n",
    "encoder_input_data = np.zeros(\n",
    "  (len(input_texts), max_encoder_seq_length, num_encoder_tokens),\n",
    "  dtype='float32')\n",
    "decoder_input_data = np.zeros(\n",
    "  (len(input_texts), max_decoder_seq_length, num_decoder_tokens),\n",
    "  dtype='float32')\n",
    "decoder_target_data = np.zeros(\n",
    "  (len(input_texts), max_decoder_seq_length, num_decoder_tokens),\n",
    "  dtype='float32')"
   ]
  },
  {
   "cell_type": "code",
   "execution_count": 13,
   "metadata": {},
   "outputs": [],
   "source": [
    "for i, (input_text, target_text) in enumerate(zip(input_texts, target_texts)):\n",
    "    for t, char in enumerate(input_text):\n",
    "        encoder_input_data[i, t, input_token_index[char]] = 1.\n",
    "    for t, char in enumerate(target_text):\n",
    "    # decoder_target_data is ahead of decoder_input_data by one timestep\n",
    "        decoder_input_data[i, t, target_token_index[char]] = 1.\n",
    "        if t > 0:\n",
    "          # decoder_target_data will be ahead by one timestep\n",
    "          # and will not include the start character.\n",
    "            decoder_target_data[i, t - 1, target_token_index[char]] = 1."
   ]
  },
  {
   "cell_type": "code",
   "execution_count": 14,
   "metadata": {},
   "outputs": [
    {
     "name": "stderr",
     "output_type": "stream",
     "text": [
      "Using TensorFlow backend.\n"
     ]
    }
   ],
   "source": [
    "import keras,tensorflow\n",
    "from keras.models import Model\n",
    "from keras.layers import Input,LSTM,Dense\n"
   ]
  },
  {
   "cell_type": "code",
   "execution_count": 15,
   "metadata": {},
   "outputs": [],
   "source": [
    "batch_size = 64  # batch size for training\n",
    "epochs = 100  # number of epochs to train for\n",
    "latent_dim = 256  # latent dimensionality of the encoding space"
   ]
  },
  {
   "cell_type": "code",
   "execution_count": 16,
   "metadata": {},
   "outputs": [],
   "source": [
    "encoder_inputs = Input(shape=(None, num_encoder_tokens))\n",
    "encoder = LSTM(latent_dim, return_state=True)\n",
    "encoder_outputs, state_h, state_c = encoder(encoder_inputs)\n",
    "encoder_states = [state_h, state_c]"
   ]
  },
  {
   "cell_type": "code",
   "execution_count": 17,
   "metadata": {},
   "outputs": [],
   "source": [
    "decoder_inputs = Input(shape=(None, num_decoder_tokens))\n",
    "decoder_lstm = LSTM(latent_dim, return_sequences=True, return_state=True)\n",
    "decoder_outputs, _, _ = decoder_lstm(decoder_inputs,\n",
    "                                     initial_state=encoder_states)\n",
    "decoder_dense = Dense(num_decoder_tokens, activation='softmax')\n",
    "decoder_outputs = decoder_dense(decoder_outputs)"
   ]
  },
  {
   "cell_type": "code",
   "execution_count": 18,
   "metadata": {},
   "outputs": [],
   "source": [
    "model = Model(inputs=[encoder_inputs, decoder_inputs], \n",
    "              outputs=decoder_outputs)"
   ]
  },
  {
   "cell_type": "code",
   "execution_count": 19,
   "metadata": {},
   "outputs": [
    {
     "name": "stdout",
     "output_type": "stream",
     "text": [
      "Model: \"model_1\"\n",
      "__________________________________________________________________________________________________\n",
      "Layer (type)                    Output Shape         Param #     Connected to                     \n",
      "==================================================================================================\n",
      "input_1 (InputLayer)            (None, None, 70)     0                                            \n",
      "__________________________________________________________________________________________________\n",
      "input_2 (InputLayer)            (None, None, 90)     0                                            \n",
      "__________________________________________________________________________________________________\n",
      "lstm_1 (LSTM)                   [(None, 256), (None, 334848      input_1[0][0]                    \n",
      "__________________________________________________________________________________________________\n",
      "lstm_2 (LSTM)                   [(None, None, 256),  355328      input_2[0][0]                    \n",
      "                                                                 lstm_1[0][1]                     \n",
      "                                                                 lstm_1[0][2]                     \n",
      "__________________________________________________________________________________________________\n",
      "dense_1 (Dense)                 (None, None, 90)     23130       lstm_2[0][0]                     \n",
      "==================================================================================================\n",
      "Total params: 713,306\n",
      "Trainable params: 713,306\n",
      "Non-trainable params: 0\n",
      "__________________________________________________________________________________________________\n"
     ]
    }
   ],
   "source": [
    "model.compile(optimizer='rmsprop', loss='categorical_crossentropy')\n",
    "model.summary()"
   ]
  },
  {
   "cell_type": "code",
   "execution_count": 20,
   "metadata": {
    "scrolled": false
   },
   "outputs": [
    {
     "name": "stdout",
     "output_type": "stream",
     "text": [
      "Epoch 1/100\n",
      "10000/10000 [==============================] - 8s 806us/step - loss: 1.0534\n",
      "Epoch 2/100\n",
      "10000/10000 [==============================] - 7s 719us/step - loss: 0.7820\n",
      "Epoch 3/100\n",
      "10000/10000 [==============================] - 8s 841us/step - loss: 0.6554\n",
      "Epoch 4/100\n",
      "10000/10000 [==============================] - 8s 800us/step - loss: 0.5934\n",
      "Epoch 5/100\n",
      "10000/10000 [==============================] - 7s 742us/step - loss: 0.5523\n",
      "Epoch 6/100\n",
      "10000/10000 [==============================] - 8s 756us/step - loss: 0.5193\n",
      "Epoch 7/100\n",
      "10000/10000 [==============================] - 8s 760us/step - loss: 0.4934\n",
      "Epoch 8/100\n",
      "10000/10000 [==============================] - 8s 761us/step - loss: 0.4712\n",
      "Epoch 9/100\n",
      "10000/10000 [==============================] - 8s 750us/step - loss: 0.4521\n",
      "Epoch 10/100\n",
      "10000/10000 [==============================] - 7s 744us/step - loss: 0.4349\n",
      "Epoch 11/100\n",
      "10000/10000 [==============================] - 7s 740us/step - loss: 0.4198\n",
      "Epoch 12/100\n",
      "10000/10000 [==============================] - 7s 741us/step - loss: 0.4051\n",
      "Epoch 13/100\n",
      "10000/10000 [==============================] - 8s 761us/step - loss: 0.3917\n",
      "Epoch 14/100\n",
      "10000/10000 [==============================] - 7s 743us/step - loss: 0.3791\n",
      "Epoch 15/100\n",
      "10000/10000 [==============================] - 7s 738us/step - loss: 0.3672\n",
      "Epoch 16/100\n",
      "10000/10000 [==============================] - 7s 738us/step - loss: 0.3562\n",
      "Epoch 17/100\n",
      "10000/10000 [==============================] - 8s 836us/step - loss: 0.3456\n",
      "Epoch 18/100\n",
      "10000/10000 [==============================] - 7s 745us/step - loss: 0.3354\n",
      "Epoch 19/100\n",
      "10000/10000 [==============================] - 7s 740us/step - loss: 0.3261\n",
      "Epoch 20/100\n",
      "10000/10000 [==============================] - 7s 744us/step - loss: 0.3170\n",
      "Epoch 21/100\n",
      "10000/10000 [==============================] - 7s 739us/step - loss: 0.3080\n",
      "Epoch 22/100\n",
      "10000/10000 [==============================] - 7s 745us/step - loss: 0.3000\n",
      "Epoch 23/100\n",
      "10000/10000 [==============================] - 7s 741us/step - loss: 0.2917\n",
      "Epoch 24/100\n",
      "10000/10000 [==============================] - 7s 745us/step - loss: 0.2842\n",
      "Epoch 25/100\n",
      "10000/10000 [==============================] - 7s 743us/step - loss: 0.2766\n",
      "Epoch 26/100\n",
      "10000/10000 [==============================] - 7s 744us/step - loss: 0.2695\n",
      "Epoch 27/100\n",
      "10000/10000 [==============================] - 7s 747us/step - loss: 0.2629\n",
      "Epoch 28/100\n",
      "10000/10000 [==============================] - 7s 742us/step - loss: 0.2557\n",
      "Epoch 29/100\n",
      "10000/10000 [==============================] - 7s 740us/step - loss: 0.2491\n",
      "Epoch 30/100\n",
      "10000/10000 [==============================] - 7s 742us/step - loss: 0.2430\n",
      "Epoch 31/100\n",
      "10000/10000 [==============================] - 7s 742us/step - loss: 0.2365\n",
      "Epoch 32/100\n",
      "10000/10000 [==============================] - 7s 747us/step - loss: 0.2309\n",
      "Epoch 33/100\n",
      "10000/10000 [==============================] - 7s 746us/step - loss: 0.2250\n",
      "Epoch 34/100\n",
      "10000/10000 [==============================] - 7s 747us/step - loss: 0.2195\n",
      "Epoch 35/100\n",
      "10000/10000 [==============================] - 7s 748us/step - loss: 0.2141\n",
      "Epoch 36/100\n",
      "10000/10000 [==============================] - 7s 741us/step - loss: 0.2089\n",
      "Epoch 37/100\n",
      "10000/10000 [==============================] - 7s 744us/step - loss: 0.2041\n",
      "Epoch 38/100\n",
      "10000/10000 [==============================] - 7s 746us/step - loss: 0.1994\n",
      "Epoch 39/100\n",
      "10000/10000 [==============================] - 7s 743us/step - loss: 0.1948\n",
      "Epoch 40/100\n",
      "10000/10000 [==============================] - 7s 739us/step - loss: 0.1904\n",
      "Epoch 41/100\n",
      "10000/10000 [==============================] - 7s 740us/step - loss: 0.1855\n",
      "Epoch 42/100\n",
      "10000/10000 [==============================] - 7s 747us/step - loss: 0.1817\n",
      "Epoch 43/100\n",
      "10000/10000 [==============================] - 7s 747us/step - loss: 0.1774\n",
      "Epoch 44/100\n",
      "10000/10000 [==============================] - 7s 745us/step - loss: 0.1733 0s - loss\n",
      "Epoch 45/100\n",
      "10000/10000 [==============================] - 7s 742us/step - loss: 0.1696\n",
      "Epoch 46/100\n",
      "10000/10000 [==============================] - 7s 742us/step - loss: 0.1658\n",
      "Epoch 47/100\n",
      "10000/10000 [==============================] - 7s 746us/step - loss: 0.1622\n",
      "Epoch 48/100\n",
      "10000/10000 [==============================] - 7s 747us/step - loss: 0.1589\n",
      "Epoch 49/100\n",
      "10000/10000 [==============================] - 7s 745us/step - loss: 0.1554\n",
      "Epoch 50/100\n",
      "10000/10000 [==============================] - 8s 759us/step - loss: 0.1518\n",
      "Epoch 51/100\n",
      "10000/10000 [==============================] - 7s 746us/step - loss: 0.1488 0s - loss:\n",
      "Epoch 52/100\n",
      "10000/10000 [==============================] - 8s 777us/step - loss: 0.1456\n",
      "Epoch 53/100\n",
      "10000/10000 [==============================] - 7s 747us/step - loss: 0.1429\n",
      "Epoch 54/100\n",
      "10000/10000 [==============================] - 7s 745us/step - loss: 0.1400\n",
      "Epoch 55/100\n",
      "10000/10000 [==============================] - 7s 741us/step - loss: 0.1371\n",
      "Epoch 56/100\n",
      "10000/10000 [==============================] - 7s 738us/step - loss: 0.1340\n",
      "Epoch 57/100\n",
      "10000/10000 [==============================] - 7s 743us/step - loss: 0.1318\n",
      "Epoch 58/100\n",
      "10000/10000 [==============================] - 7s 749us/step - loss: 0.1290\n",
      "Epoch 59/100\n",
      "10000/10000 [==============================] - 8s 769us/step - loss: 0.1270\n",
      "Epoch 60/100\n",
      "10000/10000 [==============================] - 8s 789us/step - loss: 0.1240\n",
      "Epoch 61/100\n",
      "10000/10000 [==============================] - 7s 747us/step - loss: 0.1219\n",
      "Epoch 62/100\n",
      "10000/10000 [==============================] - 7s 743us/step - loss: 0.1195\n",
      "Epoch 63/100\n",
      "10000/10000 [==============================] - 7s 743us/step - loss: 0.1172\n",
      "Epoch 64/100\n",
      "10000/10000 [==============================] - 8s 773us/step - loss: 0.1152\n",
      "Epoch 65/100\n",
      "10000/10000 [==============================] - 7s 747us/step - loss: 0.1128\n",
      "Epoch 66/100\n",
      "10000/10000 [==============================] - 7s 743us/step - loss: 0.1107 0s - loss: 0.1\n",
      "Epoch 67/100\n",
      "10000/10000 [==============================] - 8s 800us/step - loss: 0.1092\n",
      "Epoch 68/100\n",
      "10000/10000 [==============================] - 9s 879us/step - loss: 0.1070\n",
      "Epoch 69/100\n",
      "10000/10000 [==============================] - 8s 802us/step - loss: 0.1051\n",
      "Epoch 70/100\n",
      "10000/10000 [==============================] - 8s 806us/step - loss: 0.1033\n",
      "Epoch 71/100\n",
      "10000/10000 [==============================] - 9s 895us/step - loss: 0.1015\n",
      "Epoch 72/100\n",
      "10000/10000 [==============================] - 8s 779us/step - loss: 0.0994\n",
      "Epoch 73/100\n",
      "10000/10000 [==============================] - 8s 756us/step - loss: 0.0982\n",
      "Epoch 74/100\n",
      "10000/10000 [==============================] - 7s 749us/step - loss: 0.0964\n",
      "Epoch 75/100\n",
      "10000/10000 [==============================] - 8s 752us/step - loss: 0.0947\n",
      "Epoch 76/100\n",
      "10000/10000 [==============================] - 7s 741us/step - loss: 0.0934\n",
      "Epoch 77/100\n",
      "10000/10000 [==============================] - 9s 855us/step - loss: 0.0917\n",
      "Epoch 78/100\n",
      "10000/10000 [==============================] - 8s 790us/step - loss: 0.0903\n",
      "Epoch 79/100\n",
      "10000/10000 [==============================] - 8s 832us/step - loss: 0.0886\n",
      "Epoch 80/100\n",
      "10000/10000 [==============================] - 8s 824us/step - loss: 0.0869\n",
      "Epoch 81/100\n",
      "10000/10000 [==============================] - 8s 777us/step - loss: 0.0856\n",
      "Epoch 82/100\n",
      "10000/10000 [==============================] - 8s 755us/step - loss: 0.0847\n",
      "Epoch 83/100\n",
      "10000/10000 [==============================] - 8s 754us/step - loss: 0.0831\n",
      "Epoch 84/100\n",
      "10000/10000 [==============================] - 8s 754us/step - loss: 0.0820\n",
      "Epoch 85/100\n",
      "10000/10000 [==============================] - 8s 756us/step - loss: 0.0806\n",
      "Epoch 86/100\n",
      "10000/10000 [==============================] - 8s 764us/step - loss: 0.0793\n",
      "Epoch 87/100\n",
      "10000/10000 [==============================] - 9s 920us/step - loss: 0.0780\n",
      "Epoch 88/100\n",
      "10000/10000 [==============================] - 8s 769us/step - loss: 0.0766\n",
      "Epoch 89/100\n",
      "10000/10000 [==============================] - 8s 807us/step - loss: 0.0758\n",
      "Epoch 90/100\n",
      "10000/10000 [==============================] - 8s 847us/step - loss: 0.0744\n",
      "Epoch 91/100\n",
      "10000/10000 [==============================] - 8s 765us/step - loss: 0.0735\n",
      "Epoch 92/100\n"
     ]
    },
    {
     "name": "stdout",
     "output_type": "stream",
     "text": [
      "10000/10000 [==============================] - 8s 759us/step - loss: 0.0724\n",
      "Epoch 93/100\n",
      "10000/10000 [==============================] - 8s 782us/step - loss: 0.0714\n",
      "Epoch 94/100\n",
      "10000/10000 [==============================] - 9s 870us/step - loss: 0.0700 \n",
      "Epoch 95/100\n",
      "10000/10000 [==============================] - 8s 807us/step - loss: 0.0691\n",
      "Epoch 96/100\n",
      "10000/10000 [==============================] - 8s 752us/step - loss: 0.0681\n",
      "Epoch 97/100\n",
      "10000/10000 [==============================] - 8s 751us/step - loss: 0.0667\n",
      "Epoch 98/100\n",
      "10000/10000 [==============================] - 7s 744us/step - loss: 0.0661\n",
      "Epoch 99/100\n",
      "10000/10000 [==============================] - 7s 745us/step - loss: 0.0652\n",
      "Epoch 100/100\n",
      "10000/10000 [==============================] - 7s 742us/step - loss: 0.0641\n"
     ]
    },
    {
     "data": {
      "text/plain": [
       "<keras.callbacks.callbacks.History at 0x1b1eee1c0c8>"
      ]
     },
     "execution_count": 20,
     "metadata": {},
     "output_type": "execute_result"
    }
   ],
   "source": [
    "model.fit([encoder_input_data, decoder_input_data], decoder_target_data,\n",
    "          batch_size=batch_size,\n",
    "          epochs=epochs)"
   ]
  },
  {
   "cell_type": "code",
   "execution_count": null,
   "metadata": {},
   "outputs": [],
   "source": [
    " model.fit([encoder_input_data, decoder_input_data],\n",
    "           decoder_target_data, batch_size=batch_size,\n",
    "           epochs=epochs, validation_split=0.2)"
   ]
  },
  {
   "cell_type": "code",
   "execution_count": null,
   "metadata": {},
   "outputs": [],
   "source": []
  },
  {
   "cell_type": "code",
   "execution_count": null,
   "metadata": {},
   "outputs": [],
   "source": []
  },
  {
   "cell_type": "code",
   "execution_count": null,
   "metadata": {},
   "outputs": [],
   "source": []
  },
  {
   "cell_type": "code",
   "execution_count": null,
   "metadata": {},
   "outputs": [],
   "source": []
  },
  {
   "cell_type": "code",
   "execution_count": null,
   "metadata": {},
   "outputs": [],
   "source": []
  },
  {
   "cell_type": "code",
   "execution_count": null,
   "metadata": {},
   "outputs": [],
   "source": []
  },
  {
   "cell_type": "code",
   "execution_count": null,
   "metadata": {},
   "outputs": [],
   "source": []
  },
  {
   "cell_type": "code",
   "execution_count": null,
   "metadata": {},
   "outputs": [],
   "source": []
  },
  {
   "cell_type": "code",
   "execution_count": null,
   "metadata": {},
   "outputs": [],
   "source": []
  },
  {
   "cell_type": "code",
   "execution_count": null,
   "metadata": {},
   "outputs": [],
   "source": []
  },
  {
   "cell_type": "code",
   "execution_count": null,
   "metadata": {},
   "outputs": [],
   "source": []
  },
  {
   "cell_type": "code",
   "execution_count": null,
   "metadata": {},
   "outputs": [],
   "source": []
  },
  {
   "cell_type": "code",
   "execution_count": null,
   "metadata": {},
   "outputs": [],
   "source": []
  },
  {
   "cell_type": "code",
   "execution_count": null,
   "metadata": {},
   "outputs": [],
   "source": []
  },
  {
   "cell_type": "code",
   "execution_count": null,
   "metadata": {},
   "outputs": [],
   "source": []
  },
  {
   "cell_type": "code",
   "execution_count": null,
   "metadata": {},
   "outputs": [],
   "source": []
  },
  {
   "cell_type": "code",
   "execution_count": null,
   "metadata": {},
   "outputs": [],
   "source": []
  },
  {
   "cell_type": "code",
   "execution_count": null,
   "metadata": {},
   "outputs": [],
   "source": []
  },
  {
   "cell_type": "code",
   "execution_count": null,
   "metadata": {},
   "outputs": [],
   "source": []
  },
  {
   "cell_type": "code",
   "execution_count": null,
   "metadata": {},
   "outputs": [],
   "source": []
  },
  {
   "cell_type": "code",
   "execution_count": null,
   "metadata": {},
   "outputs": [],
   "source": []
  },
  {
   "cell_type": "code",
   "execution_count": null,
   "metadata": {},
   "outputs": [],
   "source": []
  },
  {
   "cell_type": "code",
   "execution_count": null,
   "metadata": {},
   "outputs": [],
   "source": []
  },
  {
   "cell_type": "code",
   "execution_count": null,
   "metadata": {},
   "outputs": [],
   "source": []
  },
  {
   "cell_type": "code",
   "execution_count": null,
   "metadata": {},
   "outputs": [],
   "source": []
  },
  {
   "cell_type": "code",
   "execution_count": null,
   "metadata": {},
   "outputs": [],
   "source": []
  },
  {
   "cell_type": "code",
   "execution_count": null,
   "metadata": {},
   "outputs": [],
   "source": []
  },
  {
   "cell_type": "code",
   "execution_count": null,
   "metadata": {},
   "outputs": [],
   "source": []
  },
  {
   "cell_type": "code",
   "execution_count": null,
   "metadata": {},
   "outputs": [],
   "source": []
  },
  {
   "cell_type": "code",
   "execution_count": null,
   "metadata": {},
   "outputs": [],
   "source": []
  },
  {
   "cell_type": "code",
   "execution_count": null,
   "metadata": {},
   "outputs": [],
   "source": []
  },
  {
   "cell_type": "code",
   "execution_count": null,
   "metadata": {},
   "outputs": [],
   "source": []
  },
  {
   "cell_type": "code",
   "execution_count": null,
   "metadata": {},
   "outputs": [],
   "source": []
  },
  {
   "cell_type": "code",
   "execution_count": null,
   "metadata": {},
   "outputs": [],
   "source": []
  },
  {
   "cell_type": "code",
   "execution_count": null,
   "metadata": {},
   "outputs": [],
   "source": []
  },
  {
   "cell_type": "code",
   "execution_count": null,
   "metadata": {},
   "outputs": [],
   "source": []
  },
  {
   "cell_type": "code",
   "execution_count": null,
   "metadata": {},
   "outputs": [],
   "source": []
  },
  {
   "cell_type": "code",
   "execution_count": null,
   "metadata": {},
   "outputs": [],
   "source": []
  },
  {
   "cell_type": "code",
   "execution_count": null,
   "metadata": {},
   "outputs": [],
   "source": []
  },
  {
   "cell_type": "code",
   "execution_count": null,
   "metadata": {},
   "outputs": [],
   "source": []
  },
  {
   "cell_type": "code",
   "execution_count": null,
   "metadata": {},
   "outputs": [],
   "source": []
  },
  {
   "cell_type": "code",
   "execution_count": null,
   "metadata": {},
   "outputs": [],
   "source": []
  },
  {
   "cell_type": "code",
   "execution_count": null,
   "metadata": {},
   "outputs": [],
   "source": []
  },
  {
   "cell_type": "code",
   "execution_count": null,
   "metadata": {},
   "outputs": [],
   "source": []
  },
  {
   "cell_type": "code",
   "execution_count": null,
   "metadata": {},
   "outputs": [],
   "source": []
  },
  {
   "cell_type": "code",
   "execution_count": null,
   "metadata": {},
   "outputs": [],
   "source": []
  },
  {
   "cell_type": "code",
   "execution_count": null,
   "metadata": {},
   "outputs": [],
   "source": []
  },
  {
   "cell_type": "code",
   "execution_count": null,
   "metadata": {},
   "outputs": [],
   "source": []
  },
  {
   "cell_type": "code",
   "execution_count": null,
   "metadata": {},
   "outputs": [],
   "source": []
  },
  {
   "cell_type": "code",
   "execution_count": null,
   "metadata": {},
   "outputs": [],
   "source": []
  },
  {
   "cell_type": "code",
   "execution_count": null,
   "metadata": {},
   "outputs": [],
   "source": []
  },
  {
   "cell_type": "code",
   "execution_count": null,
   "metadata": {},
   "outputs": [],
   "source": []
  },
  {
   "cell_type": "code",
   "execution_count": null,
   "metadata": {},
   "outputs": [],
   "source": []
  },
  {
   "cell_type": "code",
   "execution_count": null,
   "metadata": {},
   "outputs": [],
   "source": []
  },
  {
   "cell_type": "code",
   "execution_count": null,
   "metadata": {},
   "outputs": [],
   "source": []
  },
  {
   "cell_type": "code",
   "execution_count": null,
   "metadata": {},
   "outputs": [],
   "source": [
    "\n"
   ]
  },
  {
   "cell_type": "code",
   "execution_count": null,
   "metadata": {},
   "outputs": [],
   "source": []
  },
  {
   "cell_type": "code",
   "execution_count": null,
   "metadata": {},
   "outputs": [],
   "source": []
  },
  {
   "cell_type": "code",
   "execution_count": null,
   "metadata": {},
   "outputs": [],
   "source": []
  },
  {
   "cell_type": "code",
   "execution_count": null,
   "metadata": {},
   "outputs": [],
   "source": []
  },
  {
   "cell_type": "code",
   "execution_count": null,
   "metadata": {},
   "outputs": [],
   "source": []
  },
  {
   "cell_type": "code",
   "execution_count": null,
   "metadata": {},
   "outputs": [],
   "source": []
  },
  {
   "cell_type": "code",
   "execution_count": null,
   "metadata": {},
   "outputs": [],
   "source": []
  },
  {
   "cell_type": "code",
   "execution_count": null,
   "metadata": {},
   "outputs": [],
   "source": []
  },
  {
   "cell_type": "code",
   "execution_count": null,
   "metadata": {},
   "outputs": [],
   "source": []
  },
  {
   "cell_type": "code",
   "execution_count": null,
   "metadata": {},
   "outputs": [],
   "source": []
  },
  {
   "cell_type": "code",
   "execution_count": null,
   "metadata": {},
   "outputs": [],
   "source": []
  },
  {
   "cell_type": "code",
   "execution_count": null,
   "metadata": {},
   "outputs": [],
   "source": []
  },
  {
   "cell_type": "code",
   "execution_count": null,
   "metadata": {},
   "outputs": [],
   "source": []
  },
  {
   "cell_type": "code",
   "execution_count": null,
   "metadata": {},
   "outputs": [],
   "source": []
  },
  {
   "cell_type": "code",
   "execution_count": null,
   "metadata": {},
   "outputs": [],
   "source": []
  },
  {
   "cell_type": "code",
   "execution_count": null,
   "metadata": {},
   "outputs": [],
   "source": []
  },
  {
   "cell_type": "code",
   "execution_count": null,
   "metadata": {},
   "outputs": [],
   "source": []
  },
  {
   "cell_type": "code",
   "execution_count": null,
   "metadata": {},
   "outputs": [],
   "source": []
  },
  {
   "cell_type": "code",
   "execution_count": null,
   "metadata": {},
   "outputs": [],
   "source": []
  },
  {
   "cell_type": "code",
   "execution_count": null,
   "metadata": {},
   "outputs": [],
   "source": []
  },
  {
   "cell_type": "code",
   "execution_count": null,
   "metadata": {},
   "outputs": [],
   "source": []
  },
  {
   "cell_type": "code",
   "execution_count": null,
   "metadata": {},
   "outputs": [],
   "source": []
  },
  {
   "cell_type": "code",
   "execution_count": null,
   "metadata": {},
   "outputs": [],
   "source": []
  },
  {
   "cell_type": "code",
   "execution_count": null,
   "metadata": {},
   "outputs": [],
   "source": []
  },
  {
   "cell_type": "code",
   "execution_count": null,
   "metadata": {},
   "outputs": [],
   "source": []
  },
  {
   "cell_type": "code",
   "execution_count": null,
   "metadata": {},
   "outputs": [],
   "source": []
  },
  {
   "cell_type": "code",
   "execution_count": null,
   "metadata": {},
   "outputs": [],
   "source": []
  },
  {
   "cell_type": "code",
   "execution_count": null,
   "metadata": {},
   "outputs": [],
   "source": []
  },
  {
   "cell_type": "code",
   "execution_count": null,
   "metadata": {},
   "outputs": [],
   "source": []
  },
  {
   "cell_type": "code",
   "execution_count": null,
   "metadata": {},
   "outputs": [],
   "source": []
  },
  {
   "cell_type": "code",
   "execution_count": null,
   "metadata": {},
   "outputs": [],
   "source": []
  },
  {
   "cell_type": "code",
   "execution_count": null,
   "metadata": {},
   "outputs": [],
   "source": []
  },
  {
   "cell_type": "code",
   "execution_count": null,
   "metadata": {},
   "outputs": [],
   "source": []
  },
  {
   "cell_type": "code",
   "execution_count": null,
   "metadata": {},
   "outputs": [],
   "source": []
  },
  {
   "cell_type": "code",
   "execution_count": null,
   "metadata": {},
   "outputs": [],
   "source": []
  },
  {
   "cell_type": "code",
   "execution_count": null,
   "metadata": {},
   "outputs": [],
   "source": []
  }
 ],
 "metadata": {
  "kernelspec": {
   "display_name": "Python 3",
   "language": "python",
   "name": "python3"
  },
  "language_info": {
   "codemirror_mode": {
    "name": "ipython",
    "version": 3
   },
   "file_extension": ".py",
   "mimetype": "text/x-python",
   "name": "python",
   "nbconvert_exporter": "python",
   "pygments_lexer": "ipython3",
   "version": "3.7.7"
  }
 },
 "nbformat": 4,
 "nbformat_minor": 4
}
