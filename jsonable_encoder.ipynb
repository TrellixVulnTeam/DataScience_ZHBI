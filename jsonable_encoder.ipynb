{
 "cells": [
  {
   "cell_type": "code",
   "execution_count": 7,
   "id": "ade84ebf",
   "metadata": {},
   "outputs": [],
   "source": [
    "from collections import defaultdict\n",
    "from enum import Enum\n",
    "from pathlib import PurePath\n",
    "from types import GeneratorType\n",
    "from typing import Any, Callable, Dict, List, Optional, Set, Tuple, Union\n",
    "\n",
    "from pydantic import BaseModel\n",
    "from pydantic.json import ENCODERS_BY_TYPE\n",
    "\n",
    "SetIntStr = Set[Union[int, str]]\n",
    "DictIntStrAny = Dict[Union[int, str], Any]\n"
   ]
  },
  {
   "cell_type": "code",
   "execution_count": 8,
   "id": "42755531",
   "metadata": {},
   "outputs": [],
   "source": [
    "def generate_encoders_by_class_tuples(\n",
    "    type_encoder_map: Dict[Any, Callable[[Any], Any]]\n",
    ") -> Dict[Callable[[Any], Any], Tuple[Any, ...]]:\n",
    "    encoders_by_class_tuples: Dict[Callable[[Any], Any], Tuple[Any, ...]] = defaultdict(\n",
    "        tuple\n",
    "    )\n",
    "    for type_, encoder in type_encoder_map.items():\n",
    "        encoders_by_class_tuples[encoder] += (type_,)\n",
    "    return encoders_by_class_tuples"
   ]
  },
  {
   "cell_type": "code",
   "execution_count": 10,
   "id": "f8f4f1eb",
   "metadata": {},
   "outputs": [],
   "source": [
    "encoders_by_class_tuples = generate_encoders_by_class_tuples(ENCODERS_BY_TYPE)\n"
   ]
  },
  {
   "cell_type": "code",
   "execution_count": null,
   "id": "72f17509",
   "metadata": {},
   "outputs": [],
   "source": []
  },
  {
   "cell_type": "code",
   "execution_count": null,
   "id": "c7cf57c7",
   "metadata": {},
   "outputs": [],
   "source": []
  },
  {
   "cell_type": "code",
   "execution_count": null,
   "id": "48d2247f",
   "metadata": {},
   "outputs": [],
   "source": []
  },
  {
   "cell_type": "code",
   "execution_count": null,
   "id": "ae955591",
   "metadata": {},
   "outputs": [],
   "source": []
  },
  {
   "cell_type": "code",
   "execution_count": null,
   "id": "13162c74",
   "metadata": {},
   "outputs": [],
   "source": []
  },
  {
   "cell_type": "code",
   "execution_count": null,
   "id": "981ee359",
   "metadata": {},
   "outputs": [],
   "source": []
  },
  {
   "cell_type": "code",
   "execution_count": null,
   "id": "10c933bb",
   "metadata": {},
   "outputs": [],
   "source": []
  }
 ],
 "metadata": {
  "kernelspec": {
   "display_name": "Python 3",
   "language": "python",
   "name": "python3"
  },
  "language_info": {
   "codemirror_mode": {
    "name": "ipython",
    "version": 3
   },
   "file_extension": ".py",
   "mimetype": "text/x-python",
   "name": "python",
   "nbconvert_exporter": "python",
   "pygments_lexer": "ipython3",
   "version": "3.9.5"
  }
 },
 "nbformat": 4,
 "nbformat_minor": 5
}
