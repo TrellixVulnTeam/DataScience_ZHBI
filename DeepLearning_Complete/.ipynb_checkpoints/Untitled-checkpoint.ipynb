{
 "cells": [
  {
   "cell_type": "code",
   "execution_count": 2,
   "metadata": {},
   "outputs": [],
   "source": [
    "import numpy as np\n"
   ]
  },
  {
   "cell_type": "code",
   "execution_count": 6,
   "metadata": {},
   "outputs": [
    {
     "data": {
      "text/plain": [
       "array([[0, 0],\n",
       "       [0, 1],\n",
       "       [1, 0],\n",
       "       [1, 1]])"
      ]
     },
     "execution_count": 6,
     "metadata": {},
     "output_type": "execute_result"
    }
   ],
   "source": [
    "a=np.array([[0,0],[0,1],[1,0],[1,1]])\n",
    "a"
   ]
  },
  {
   "cell_type": "code",
   "execution_count": 57,
   "metadata": {},
   "outputs": [
    {
     "name": "stdout",
     "output_type": "stream",
     "text": [
      "_________________\n",
      "Original:\n",
      " [[0]\n",
      " [1]\n",
      " [1]\n",
      " [1]]\n",
      "Predicted:\n",
      " [[ 0]\n",
      " [ 0]\n",
      " [-2]\n",
      " [-3]]\n"
     ]
    }
   ],
   "source": [
    "def calculate_error(a,w0,w1,w2):\n",
    "    weight=np.array([[w1],[w2]])\n",
    "    val=np.dot(a,weight)+w0\n",
    "    if val[0]<0:\n",
    "        val[0]=0\n",
    "    if val[1]>=0:\n",
    "        val[1]=1\n",
    "    else:\n",
    "        val[1]=0\n",
    "    if val[2]>=0:\n",
    "        val[2]=1\n",
    "    else:\n",
    "        val[2]=0\n",
    "    if val[3]>=0:\n",
    "        val[3]=1   \n",
    "    return (val).astype(int)\n",
    "    \n",
    "print(\"_________________\\nOriginal:\\n\",np.array([[0],[1],[1],[1]]))\n",
    "print(\"Predicted:\\n\",calculate_error(a,-1,-1,-1))\n"
   ]
  },
  {
   "cell_type": "code",
   "execution_count": 41,
   "metadata": {},
   "outputs": [],
   "source": [
    "x=np.array(calculate_error(a,-1,1.1,1.1))"
   ]
  },
  {
   "cell_type": "code",
   "execution_count": null,
   "metadata": {},
   "outputs": [],
   "source": []
  },
  {
   "cell_type": "code",
   "execution_count": null,
   "metadata": {},
   "outputs": [],
   "source": []
  },
  {
   "cell_type": "code",
   "execution_count": null,
   "metadata": {},
   "outputs": [],
   "source": []
  },
  {
   "cell_type": "code",
   "execution_count": null,
   "metadata": {},
   "outputs": [],
   "source": []
  },
  {
   "cell_type": "code",
   "execution_count": null,
   "metadata": {},
   "outputs": [],
   "source": []
  },
  {
   "cell_type": "code",
   "execution_count": null,
   "metadata": {},
   "outputs": [],
   "source": []
  }
 ],
 "metadata": {
  "kernelspec": {
   "display_name": "Python 3",
   "language": "python",
   "name": "python3"
  },
  "language_info": {
   "codemirror_mode": {
    "name": "ipython",
    "version": 3
   },
   "file_extension": ".py",
   "mimetype": "text/x-python",
   "name": "python",
   "nbconvert_exporter": "python",
   "pygments_lexer": "ipython3",
   "version": "3.7.7"
  }
 },
 "nbformat": 4,
 "nbformat_minor": 4
}
