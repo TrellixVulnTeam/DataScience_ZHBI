{
 "cells": [
  {
   "cell_type": "code",
   "execution_count": 19,
   "metadata": {},
   "outputs": [
    {
     "name": "stdout",
     "output_type": "stream",
     "text": [
      "[[1 2 3]\n",
      " [3 4 5]\n",
      " [4 5 6]\n",
      " [6 7 8]]\n",
      "\n",
      " [[ 1  2  3  5  6  7]\n",
      " [ 4  5  6  8  9 10]]\n",
      "\n",
      " [[ 1  2  3]\n",
      " [ 4  5  6]\n",
      " [ 5  6  7]\n",
      " [ 8  9 10]]\n"
     ]
    }
   ],
   "source": [
    "import numpy as np\n",
    "a=np.array([[1,2,3],[3,4,5]])\n",
    "b=np.array([[4,5,6],[6,7,8]])\n",
    "print(np.concatenate([a,b],axis=0))\n",
    "\n",
    "c=np.array([[1,2,3],[4,5,6]])\n",
    "d=np.array([[5,6,7],[8,9,10]])\n",
    "print(\"\\n\",np.concatenate([c,d],axis=1))\n",
    "print(\"\\n\",np.concatenate([c,d],axis=0))"
   ]
  },
  {
   "cell_type": "code",
   "execution_count": 1,
   "metadata": {},
   "outputs": [
    {
     "name": "stdout",
     "output_type": "stream",
     "text": [
      "[[[1 2 3]\n",
      "  [3 4 5]]\n",
      "\n",
      " [[4 5 6]\n",
      "  [6 7 8]]]\n",
      "[[[1 2 3]\n",
      "  [4 5 6]]\n",
      "\n",
      " [[3 4 5]\n",
      "  [6 7 8]]]\n",
      "[[1 2 3 4 5 6]\n",
      " [3 4 5 6 7 8]]\n",
      "[[1 2 3]\n",
      " [3 4 5]\n",
      " [4 5 6]\n",
      " [6 7 8]]\n"
     ]
    }
   ],
   "source": [
    "import numpy as np\n",
    "a=np.array([[1,2,3],[3,4,5]])\n",
    "b=np.array([[4,5,6],[6,7,8]])\n",
    "print(np.stack((a,b),axis=0))\n",
    "print(np.stack((a,b),axis=1))\n",
    "print(np.hstack((a,b)))\n",
    "print(np.vstack((a,b)))"
   ]
  },
  {
   "cell_type": "code",
   "execution_count": 9,
   "metadata": {},
   "outputs": [
    {
     "name": "stdout",
     "output_type": "stream",
     "text": [
      "[[  1   4   7  10  13  16  19]\n",
      " [ 20  23  26  29  32  35  38]\n",
      " [ 40  43  46  49  52  55  58]\n",
      " [ 60  63  66  69  72  75  78]\n",
      " [ 80  83  86  89  92  95  98]\n",
      " [100 103 106 109 112 115 118]]\n",
      "[[  1   4   7  10  13  16  19  60  63  66  69  72  75  78]\n",
      " [ 20  23  26  29  32  35  38  80  83  86  89  92  95  98]\n",
      " [ 40  43  46  49  52  55  58 100 103 106 109 112 115 118]]\n",
      "[[  1   4   7  10  13  16  19  60  63  66  69  72  75  78]\n",
      " [ 20  23  26  29  32  35  38  80  83  86  89  92  95  98]\n",
      " [ 40  43  46  49  52  55  58 100 103 106 109 112 115 118]]\n",
      "[[  1   4   7  10  13  16  19]\n",
      " [ 20  23  26  29  32  35  38]\n",
      " [ 40  43  46  49  52  55  58]\n",
      " [ 60  63  66  69  72  75  78]\n",
      " [ 80  83  86  89  92  95  98]\n",
      " [100 103 106 109 112 115 118]]\n"
     ]
    }
   ],
   "source": [
    "a=np.array([np.arange(1,20,3),np.arange(20,40,3),np.arange(40,60,3)])\n",
    "b=np.array([np.arange(60,80,3),np.arange(80,100,3),np.arange(100,120,3)])\n",
    "\n",
    "# print(np.stack((a,b),axis=0))\n",
    "# print(np.stack((a,b),axis=1))\n",
    "print(np.vstack((a,b)))\n",
    "print(np.hstack((a,b)))\n",
    "# print(np.column_stack((a,b)))\n",
    "# print(np.row_stack((a,b)))\n",
    "print(np.concatenate([a,b],axis=1))\n",
    "print(np.concatenate([a,b],axis=0))"
   ]
  },
  {
   "cell_type": "code",
   "execution_count": 68,
   "metadata": {},
   "outputs": [
    {
     "name": "stdout",
     "output_type": "stream",
     "text": [
      "[[ 0  1  2  3]\n",
      " [ 4  5  6  7]\n",
      " [ 8  9 10 11]\n",
      " [12 13 14 15]]\n"
     ]
    }
   ],
   "source": [
    "x=np.arange(16)\n",
    "print(x.reshape(4,4))"
   ]
  }
 ],
 "metadata": {
  "kernelspec": {
   "display_name": "Python 3",
   "language": "python",
   "name": "python3"
  },
  "language_info": {
   "codemirror_mode": {
    "name": "ipython",
    "version": 3
   },
   "file_extension": ".py",
   "mimetype": "text/x-python",
   "name": "python",
   "nbconvert_exporter": "python",
   "pygments_lexer": "ipython3",
   "version": "3.7.4"
  }
 },
 "nbformat": 4,
 "nbformat_minor": 2
}
