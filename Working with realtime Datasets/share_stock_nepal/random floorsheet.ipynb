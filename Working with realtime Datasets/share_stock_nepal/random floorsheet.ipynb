{
 "cells": [
  {
   "cell_type": "code",
   "execution_count": 2,
   "id": "89fd88f3",
   "metadata": {},
   "outputs": [],
   "source": [
    "import pandas as pd\n",
    "import numpy as np\n",
    "import seaborn as sns\n",
    "import matplotlib.pyplot as pl"
   ]
  },
  {
   "cell_type": "code",
   "execution_count": 3,
   "id": "255630c8",
   "metadata": {},
   "outputs": [],
   "source": [
    "letters = list('ABCDEFGHIJKLMNOPQRSTUVWXYZ')\n",
    "company_symbol = [''.join(np.random.choice(letters,5)) for i in range(20)]"
   ]
  },
  {
   "cell_type": "code",
   "execution_count": 4,
   "id": "22c77870",
   "metadata": {},
   "outputs": [],
   "source": [
    "df = pd.DataFrame({\n",
    "    'contract no':np.random.randint(111111,999999,(10000)),\n",
    "    'stock_symbol':np.random.choice(company_symbol,10000),\n",
    "    'buyer_broker':np.random.randint(1,20,10000),\n",
    "    'seller_broker':np.random.randint(1,20,10000),\n",
    "    'Quantity':np.random.randint(50,1000,10000),\n",
    "    'Rate':np.random.randint(100,10000,10000)\n",
    "})"
   ]
  },
  {
   "cell_type": "code",
   "execution_count": 36,
   "id": "b249ece1",
   "metadata": {},
   "outputs": [
    {
     "data": {
      "text/plain": [
       "array(['GGBZI', 'SBHTP', 'SBHTP', ..., 'WHSYR', 'TAKPE', 'JTZKV'],\n",
       "      dtype='<U5')"
      ]
     },
     "execution_count": 36,
     "metadata": {},
     "output_type": "execute_result"
    }
   ],
   "source": [
    "df.head()"
   ]
  }
 ],
 "metadata": {
  "kernelspec": {
   "display_name": "Python 3",
   "language": "python",
   "name": "python3"
  },
  "language_info": {
   "codemirror_mode": {
    "name": "ipython",
    "version": 3
   },
   "file_extension": ".py",
   "mimetype": "text/x-python",
   "name": "python",
   "nbconvert_exporter": "python",
   "pygments_lexer": "ipython3",
   "version": "3.9.5"
  }
 },
 "nbformat": 4,
 "nbformat_minor": 5
}
