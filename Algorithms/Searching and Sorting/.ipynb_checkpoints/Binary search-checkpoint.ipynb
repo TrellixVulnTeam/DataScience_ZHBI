{
 "cells": [
  {
   "cell_type": "code",
   "execution_count": 6,
   "metadata": {},
   "outputs": [
    {
     "data": {
      "text/plain": [
       "'element found'"
      ]
     },
     "execution_count": 6,
     "metadata": {},
     "output_type": "execute_result"
    }
   ],
   "source": [
    "def sort(list_):\n",
    "    for i in range(len(list_)):\n",
    "        for j in range(len(list_)):\n",
    "            if list_[j]>list_[i]:\n",
    "                temp=list_[i]\n",
    "                list_[i]=list_[j]\n",
    "                list_[j]=temp\n",
    "    return list_\n",
    "\n",
    "def binary_search(arr,list_):\n",
    "    low=0\n",
    "    high=len(list_)-1\n",
    "    \n",
    "    while low<=high:\n",
    "        mid=low+(high-low)//2\n",
    "\n",
    "        if arr ==list_[mid]:\n",
    "            return('element found')\n",
    "        \n",
    "        if arr>list_[mid]:\n",
    "            low=mid+1\n",
    "            \n",
    "        else:\n",
    "            high=mid-1\n",
    "            \n",
    "    return 'Not Found'\n",
    "    \n",
    "    \n",
    "    \n",
    "def binary_search_recursion(arr,low,high,list_):\n",
    "    if high>=low:\n",
    "        mid=low+(high-low)//2\n",
    "        if arr==list_[mid]:\n",
    "            print( 'found')\n",
    "            return 'Found'\n",
    "        \n",
    "        elif arr<list_[mid]:\n",
    "            binary_search_recursion(arr,low,mid-1,list_)\n",
    "        \n",
    "        else:\n",
    "            binary_search_recursion(arr,mid+1,high,list_)\n",
    "        \n",
    "    else:\n",
    "        print( 'not found')\n",
    "        return 'Not found'\n",
    "    \n",
    "    \n",
    "list_=[1,2,3,5,2,5,7,3,2,4,6,8,5,2]\n",
    "arr=8\n",
    "list_=sort(list_)\n",
    "binary_search(arr,list_)"
   ]
  },
  {
   "cell_type": "code",
   "execution_count": 2,
   "metadata": {},
   "outputs": [
    {
     "data": {
      "text/plain": [
       "[1, 2, 2, 2, 2, 3, 3, 4, 5, 5, 5, 6, 7, 8]"
      ]
     },
     "execution_count": 2,
     "metadata": {},
     "output_type": "execute_result"
    }
   ],
   "source": [
    "list_"
   ]
  },
  {
   "cell_type": "code",
   "execution_count": 7,
   "metadata": {},
   "outputs": [
    {
     "name": "stdout",
     "output_type": "stream",
     "text": [
      "not found\n",
      "None\n"
     ]
    }
   ],
   "source": [
    "returnd=binary_search_recursion(9,0,len(list_)-1,list_)\n",
    "print(returnd)"
   ]
  },
  {
   "cell_type": "code",
   "execution_count": null,
   "metadata": {},
   "outputs": [],
   "source": []
  }
 ],
 "metadata": {
  "kernelspec": {
   "display_name": "Python 3",
   "language": "python",
   "name": "python3"
  },
  "language_info": {
   "codemirror_mode": {
    "name": "ipython",
    "version": 3
   },
   "file_extension": ".py",
   "mimetype": "text/x-python",
   "name": "python",
   "nbconvert_exporter": "python",
   "pygments_lexer": "ipython3",
   "version": "3.7.7"
  }
 },
 "nbformat": 4,
 "nbformat_minor": 4
}
