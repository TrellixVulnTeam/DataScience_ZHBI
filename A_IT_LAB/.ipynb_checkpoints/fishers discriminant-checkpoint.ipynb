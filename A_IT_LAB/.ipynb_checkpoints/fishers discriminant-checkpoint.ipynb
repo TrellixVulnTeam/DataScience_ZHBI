{
 "cells": [
  {
   "cell_type": "code",
   "execution_count": 1,
   "metadata": {},
   "outputs": [],
   "source": [
    "import numpy as np\n",
    "import matplotlib.pyplot as pl\n",
    "from matplotlib import style\n",
    "style.use(\"fivethirtyeight\")"
   ]
  },
  {
   "cell_type": "code",
   "execution_count": 38,
   "metadata": {},
   "outputs": [
    {
     "name": "stdout",
     "output_type": "stream",
     "text": [
      "[[4.5]\n",
      " [5.6]] [[15.2 ]\n",
      " [13.85]]\n"
     ]
    }
   ],
   "source": [
    "np.random.seed(10)\n",
    "x=np.random.randint(1,10,(2,20))\n",
    "y=np.random.randint(10,20,(2,20))\n",
    "x_mean=np.mean(x,axis=1).reshape(2,1)\n",
    "y_mean=np.mean(y,axis=1).reshape(2,1)\n",
    "print(x_mean,y_mean)"
   ]
  },
  {
   "cell_type": "code",
   "execution_count": 39,
   "metadata": {
    "scrolled": true
   },
   "outputs": [
    {
     "data": {
      "text/plain": [
       "<matplotlib.collections.PathCollection at 0x1408b870>"
      ]
     },
     "execution_count": 39,
     "metadata": {},
     "output_type": "execute_result"
    },
    {
     "data": {
      "image/png": "[encoded data removed]",
      "text/plain": [
       "<Figure size 720x504 with 1 Axes>"
      ]
     },
     "metadata": {
      "needs_background": "light"
     },
     "output_type": "display_data"
    }
   ],
   "source": [
    "fig=pl.figure(figsize=(10,7))\n",
    "ax=fig.add_subplot(111)\n",
    "ax.scatter(x[0],x[1],c=\"r\",marker=\"*\")\n",
    "ax.scatter(y[0],y[1],c=\"b\",marker=\"^\")\n",
    "ax.scatter(x_mean[0],x_mean[1],s=150,c=\"r\",marker=\"*\")\n",
    "ax.scatter(y_mean[0],y_mean[1],s=150,c=\"b\",marker=\"^\")\n"
   ]
  },
  {
   "cell_type": "code",
   "execution_count": 40,
   "metadata": {},
   "outputs": [
    {
     "data": {
      "text/plain": [
       "array([[169. ,  33. ],\n",
       "       [ 33. , 136.8]])"
      ]
     },
     "execution_count": 40,
     "metadata": {},
     "output_type": "execute_result"
    }
   ],
   "source": [
    "# scatter between the classes\n",
    "sw_x=np.dot((x-x_mean),(x-x_mean).T)\n",
    "sw_y=np.dot((y-y_mean),(y-y_mean).T)\n",
    "sw=sw_x+sw_y\n",
    "sw_x"
   ]
  },
  {
   "cell_type": "code",
   "execution_count": 5,
   "metadata": {},
   "outputs": [
    {
     "data": {
      "text/plain": [
       "(5.05, 14.525)"
      ]
     },
     "execution_count": 5,
     "metadata": {},
     "output_type": "execute_result"
    }
   ],
   "source": [
    "np.mean(x),np.mean(y)"
   ]
  },
  {
   "cell_type": "code",
   "execution_count": 6,
   "metadata": {},
   "outputs": [
    {
     "data": {
      "text/plain": [
       "array([[9.85 ],\n",
       "       [9.725]])"
      ]
     },
     "execution_count": 6,
     "metadata": {},
     "output_type": "execute_result"
    }
   ],
   "source": [
    "total_mean=(x_mean+y_mean)/2\n",
    "total_mean"
   ]
  },
  {
   "cell_type": "code",
   "execution_count": 7,
   "metadata": {},
   "outputs": [],
   "source": [
    "sb_x=np.dot((x_mean-total_mean),(x_mean-total_mean).T)\n",
    "sb_y=np.dot((y_mean-total_mean),(y_mean-total_mean).T)"
   ]
  },
  {
   "cell_type": "code",
   "execution_count": 8,
   "metadata": {},
   "outputs": [
    {
     "data": {
      "text/plain": [
       "array([[57.245  , 44.1375 ],\n",
       "       [44.1375 , 34.03125]])"
      ]
     },
     "execution_count": 8,
     "metadata": {},
     "output_type": "execute_result"
    }
   ],
   "source": [
    "# Scatter between the classes\n",
    "sb=sb_x+sb_y\n",
    "sb"
   ]
  },
  {
   "cell_type": "code",
   "execution_count": 9,
   "metadata": {},
   "outputs": [
    {
     "data": {
      "text/plain": [
       "(array([2.16009359e-01, 1.38777878e-17]), array([[ 0.85698669, -0.61060458],\n",
       "        [ 0.51533854,  0.79193563]]))"
      ]
     },
     "execution_count": 9,
     "metadata": {},
     "output_type": "execute_result"
    }
   ],
   "source": [
    "eig_val,eig_vect=np.linalg.eig(np.linalg.inv(sw).dot(sb))\n",
    "eig_val,eig_vect"
   ]
  },
  {
   "cell_type": "code",
   "execution_count": 10,
   "metadata": {},
   "outputs": [
    {
     "data": {
      "text/plain": [
       "[[0.21600935895730725, array([0.85698669, 0.51533854])],\n",
       " [1.3877787807814457e-17, array([-0.61060458,  0.79193563])]]"
      ]
     },
     "execution_count": 10,
     "metadata": {},
     "output_type": "execute_result"
    }
   ],
   "source": [
    "eigen_pairs=[[np.abs(eig_val[i]),eig_vect[:,i]]for i in range(len(eig_val))]\n",
    "eigen_pairs"
   ]
  },
  {
   "cell_type": "code",
   "execution_count": 11,
   "metadata": {},
   "outputs": [
    {
     "data": {
      "text/plain": [
       "[[0.21600935895730725, array([0.85698669, 0.51533854])],\n",
       " [1.3877787807814457e-17, array([-0.61060458,  0.79193563])]]"
      ]
     },
     "execution_count": 11,
     "metadata": {},
     "output_type": "execute_result"
    }
   ],
   "source": [
    "eigen_pairs=sorted(eigen_pairs,key=lambda k:k[0],reverse=True)\n",
    "eigen_pairs"
   ]
  },
  {
   "cell_type": "code",
   "execution_count": 12,
   "metadata": {},
   "outputs": [
    {
     "data": {
      "text/plain": [
       "array([[ 0.85698669, -0.61060458],\n",
       "       [ 0.51533854,  0.79193563]])"
      ]
     },
     "execution_count": 12,
     "metadata": {},
     "output_type": "execute_result"
    }
   ],
   "source": [
    "w = np.hstack((eigen_pairs[0][1][:,np.newaxis].real,eigen_pairs[1][1][:,np.newaxis].real))\n",
    "w"
   ]
  },
  {
   "cell_type": "code",
   "execution_count": null,
   "metadata": {},
   "outputs": [],
   "source": []
  }
 ],
 "metadata": {
  "kernelspec": {
   "display_name": "Python 3",
   "language": "python",
   "name": "python3"
  },
  "language_info": {
   "codemirror_mode": {
    "name": "ipython",
    "version": 3
   },
   "file_extension": ".py",
   "mimetype": "text/x-python",
   "name": "python",
   "nbconvert_exporter": "python",
   "pygments_lexer": "ipython3",
   "version": "3.7.4"
  }
 },
 "nbformat": 4,
 "nbformat_minor": 2
}
