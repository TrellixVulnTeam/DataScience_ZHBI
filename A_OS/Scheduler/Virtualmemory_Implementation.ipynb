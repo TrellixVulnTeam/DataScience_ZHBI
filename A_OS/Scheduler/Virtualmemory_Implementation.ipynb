{
 "cells": [
  {
   "cell_type": "code",
   "execution_count": 1,
   "metadata": {},
   "outputs": [],
   "source": [
    "import numpy as np\n",
    "import math\n",
    "import os\n",
    "import random\n",
    "import queue\n",
    "import matplotlib.pyplot as pl\n",
    "from IPython.display import Image\n",
    "from queue import Queue\n",
    "import seaborn as sns\n",
    "import time"
   ]
  },
  {
   "cell_type": "markdown",
   "metadata": {},
   "source": [
    "# First Come First Serve Scheduling Algorithm"
   ]
  },
  {
   "cell_type": "code",
   "execution_count": 2,
   "metadata": {},
   "outputs": [
    {
     "name": "stdout",
     "output_type": "stream",
     "text": [
      " Process   Arrival_t   Burst_t   Completion_t Waiting_t.  TurnA_t  \n",
      "  -----     -------    -------   ------------  -------- \n",
      "    P1         0          2          2          0          2     \n",
      "    P2         1          2          4          1          3     \n",
      "    P3         5          3          8          0          3     \n",
      "    P4         6          4          12         2          6     \n",
      "    P5         20         5          25         0          5     \n",
      "    P6         22         9          34         3          12    \n"
     ]
    }
   ],
   "source": [
    "# def find waiting_time()\n",
    "\n",
    "def turn_around_time(ct,arrival,tat):\n",
    "    for i in range(len(ct)):\n",
    "        tat[i]=ct[i]-arrival[i]\n",
    "#Formula for Turn Around Time.\n",
    "        \n",
    "def waiting_time(tat,burst,wt):\n",
    "    for i in range(len(tat)):\n",
    "        wt[i]=tat[i]-burst[i]\n",
    "#This is formula for waiting time of each process.\n",
    "\n",
    "def find_burst_time(burst,burst_,n):\n",
    "    burst_[0]=0\n",
    "    for i in range(1,n):\n",
    "        burst_[i]=burst[i-1]\n",
    "#This is formula for calculating burst time of each process.\n",
    "\n",
    "def find_completion_time(processes,process,arrival,burst,ct,n):\n",
    "    availabele_time=0 #This is the total time that takes place\n",
    "#From the begining when a process starts to keep track of how much time\n",
    "# was spent for particular process. This is done to check for CPU idle if any.\n",
    "    \n",
    "    availabele_time+=burst[0]\n",
    "#This is when first process comes to execute than it will update the available\n",
    "#time. Burst time is the time taken to execute particular process.\n",
    "\n",
    "    ct[0]+=burst[0]\n",
    "#This is completion time which is updated for the first process\n",
    "\n",
    "    processes.append(process[0])\n",
    "#It will append the first process that is executed into completion list.\n",
    "    \n",
    "    for i in range(1,n):\n",
    "#Loop continues from second process as we have already stored in list.\n",
    "\n",
    "        if arrival[i]>availabele_time:\n",
    "#This is where we are checking if the next arrival is more than the available\n",
    "#time and if it is greater than previous time, it will make cpu idle for\n",
    "#That time decided by remaining....\n",
    "            remaining=arrival[i]-ct[i-1]\n",
    "    #Only if next process arrival time is more than previously executed time.\n",
    "            ct[i]=ct[i-1]+burst[i]+remaining\n",
    "    #Completion time for another process is sum of ct of previous process+\n",
    "    #bt of current process + remaining i.e idle time\n",
    "    \n",
    "            processes.append('CPU-idle:'+str(remaining))\n",
    "            processes.append(process[i])\n",
    "    #This appends current process and also idle time.\n",
    "            availabele_time+=remaining\n",
    "        else:\n",
    "            \n",
    "#If the next arrival time is less than the previously executed avilable\n",
    "#time, than update current completion time.\n",
    "            ct[i]=ct[i-1]+burst[i]\n",
    "            processes.append(process[i])\n",
    "    #Update the process list with the current process.\n",
    "        availabele_time+=burst[i]\n",
    "    #Update also available time after executing current process.\n",
    "\n",
    "\n",
    "# def find turn_around_time()\n",
    "\n",
    "\n",
    "\n",
    "\n",
    "def calculate_all(process,arrival,burst):\n",
    "    n=len(process) #Length of processes list\n",
    "    burst_=[0]*n #Creating empty list of burst processes\n",
    "    ct=[0]*n     #Creating empty list of completion time for processes\n",
    "    processes=[] #Creating processes to execute list.\n",
    "    find_burst_time(burst,burst_,n)  #This calculates Burst time\n",
    "#     print(burst_)\n",
    "    tat=[0]*n\n",
    "    wt=[0]*n\n",
    "    \n",
    "    find_completion_time(processes,process,arrival,burst,ct,n)\n",
    "    turn_around_time(ct,arrival,tat)\n",
    "    waiting_time(tat,burst,wt)\n",
    "#     print(processes)\n",
    "    \n",
    "    print('{:^10s} {:^10s} {:^10s} {:^10s} {:^10s} {:^10s}'.format('Process','Arrival_t','Burst_t', 'Completion_t', 'Waiting_t.','TurnA_t'))\n",
    "    print('{:^10s} {:^10s} {:^10s} {:^10s} {:^10s}'.format('-----', '-------', '-------','------------', '--------','--------'))\n",
    "    for i in range(n):\n",
    "        print('{:^10s} {:^10d} {:^10d} {:^10d} {:^10d} {:^10d}'.format(process[i],arrival[i],burst[i],ct[i],wt[i],tat[i]))\n",
    "\n",
    "    \n",
    "\n",
    "\n",
    "\n",
    "process=['P1','P2','P3','P4','P5','P6']\n",
    "arrival=[0,1,5,6,20,22]\n",
    "burst=[2,2,3,4,5,9]\n",
    "\n",
    "calculate_all(process,arrival,burst) "
   ]
  },
  {
   "cell_type": "raw",
   "metadata": {},
   "source": [
    "process generate tousand strings. each string has two numbers\n",
    "\n",
    "\n",
    "1st number is going to be 0 or 1 0 is short SC  1 is schedule 2 is IO\n",
    "2nd number is logical addess eg. 3941 \n",
    "if short system call, no interruption and checks for address 3941\n",
    "if long system call, scheduler comes into action.\n",
    "keep a time slice. global variable. 0,1 initially\n",
    "\n",
    "Process state. ready state waiting state etc.\n",
    "\n"
   ]
  },
  {
   "cell_type": "code",
   "execution_count": 3,
   "metadata": {},
   "outputs": [],
   "source": [
    "# https://ibm.webex.com/meet/sjandhya"
   ]
  },
  {
   "cell_type": "code",
   "execution_count": 4,
   "metadata": {},
   "outputs": [
    {
     "data": {
      "text/plain": [
       "array([[-10, -10],\n",
       "       [-10, -10],\n",
       "       [-10, -10],\n",
       "       [-10, -10],\n",
       "       [-10, -10],\n",
       "       [-10, -10],\n",
       "       [-10, -10],\n",
       "       [-10, -10],\n",
       "       [-10, -10],\n",
       "       [-10, -10],\n",
       "       [-10, -10],\n",
       "       [-10, -10],\n",
       "       [-10, -10],\n",
       "       [-10, -10],\n",
       "       [-10, -10],\n",
       "       [-10, -10]])"
      ]
     },
     "execution_count": 4,
     "metadata": {},
     "output_type": "execute_result"
    }
   ],
   "source": [
    "NP=5 #Number of processes\n",
    "PAGE_SIZE=4096 #Page size in bytes\n",
    "F=16 #Number of Frames\n",
    "INVALID = -10\n",
    "PID=0\n",
    "FRAME = 1 #Used for indexing into frames\n",
    "pr_timing = np.zeros(F).astype('int32')\n",
    "\n",
    "COMPLETED=10\n",
    "INCOMPLETE=20\n",
    "\n",
    "\n",
    "IN_MEMORY = 1\n",
    "MEM_FAULT = 50\n",
    "PAGE_REPLACE = 100\n",
    "FIFO_GLOBAL=10\n",
    "\n",
    "phys_mem = np.full((F,2), INVALID).astype('int32') #Initial Physical memory addresses\n",
    "phys_mem"
   ]
  },
  {
   "cell_type": "code",
   "execution_count": 5,
   "metadata": {},
   "outputs": [
    {
     "name": "stdout",
     "output_type": "stream",
     "text": [
      "[1, 0, 2, 4, 3]\n"
     ]
    },
    {
     "data": {
      "text/plain": [
       "<queue.Queue at 0x23988638388>"
      ]
     },
     "execution_count": 5,
     "metadata": {},
     "output_type": "execute_result"
    }
   ],
   "source": [
    "def init_proc_queue():\n",
    "    pq=queue.Queue(maxsize=NP) #Create a queue of size of number of processes\n",
    "    proc_queue=list(set((NP*np.random.random(20)).astype('int32'))) #creating a process queue\n",
    "    random.shuffle(proc_queue) # Shuffle the list\n",
    "    print(proc_queue)\n",
    "    for pr in proc_queue:\n",
    "        pq.put_nowait(pr)     #Put all process in queue\n",
    "    return pq\n",
    "init_proc_queue()"
   ]
  },
  {
   "cell_type": "code",
   "execution_count": 6,
   "metadata": {},
   "outputs": [
    {
     "data": {
      "text/plain": [
       "([6, 4, 1, 0, 2, 4, 5], 15900)"
      ]
     },
     "execution_count": 6,
     "metadata": {},
     "output_type": "execute_result"
    }
   ],
   "source": [
    "def correct_refs(alist,cent,maxpg):\n",
    "    if cent!=0:\n",
    "        pgnum=int(cent/PAGE_SIZE)\n",
    "        lh=(pgnum+1)*PAGE_SIZE-1\n",
    "        ll=pgnum*PAGE_SIZE\n",
    "    else:\n",
    "        lh=maxpg*PAGE_SIZE\n",
    "        ll=0\n",
    "        \n",
    "    for i in range(alist.shape[0]):\n",
    "        if alist[i]>=lh:\n",
    "            alist[i]=lh-1\n",
    "        if alist[i]<ll:\n",
    "            alist[i]=ll+1\n",
    "    return alist\n",
    "\n",
    "def sim_process(M,sigma,outfile,lfrac=0.9):\n",
    "    cur_page=int(M*np.random.random()) #Generating random start page\n",
    "    cur_locale=round(PAGE_SIZE*(cur_page+0.5)) #Generating location of current page\n",
    "    sum_refs=0\n",
    "    list_locales=list()\n",
    "    for count in range(M):\n",
    "        num_refs=int(512+(PAGE_SIZE-512)*np.random.random())\n",
    "        sum_refs+=num_refs\n",
    "        list_locales.append(cur_page)\n",
    "        num_loc=round(lfrac*num_refs)\n",
    "        aref_list=np.random.normal(cur_locale,sigma*300+100,num_loc)\n",
    "        aref_list=correct_refs(aref_list,cur_locale,M)\n",
    "        aref_list=aref_list.astype('int32')\n",
    "        cur_page=int(M*np.random.random())\n",
    "        cur_locale=round(PAGE_SIZE*(cur_page+0.5))\n",
    "        num_trans=round((1-lfrac)*num_refs)\n",
    "        tref_list=np.random.random(num_trans)*cur_locale\n",
    "        tref_list=correct_refs(tref_list,0,M)\n",
    "        tref_list=tref_list.astype('int32')\n",
    "        np.append(aref_list,tref_list).tofile(outfile,sep='\\n')\n",
    "        outfile.write('\\n')\n",
    "    return list_locales,sum_refs\n",
    "        \n",
    "      \n",
    "    print('Current Page',cur_page)\n",
    "    print('Current Location',cur_locale)\n",
    "    print('List of Locations',list_locales)\n",
    "    \n",
    "npg = int(np.random.normal(10,2.5))\n",
    "nsig = int(5 * np.random.random())    \n",
    "fname = 'AR_' + '{:02d}'.format(0) + '.txt'\n",
    "fname=open(fname,'w')\n",
    "sim_process(npg,nsig,fname)"
   ]
  },
  {
   "cell_type": "code",
   "execution_count": 7,
   "metadata": {},
   "outputs": [
    {
     "data": {
      "text/plain": [
       "3862"
      ]
     },
     "execution_count": 7,
     "metadata": {},
     "output_type": "execute_result"
    }
   ],
   "source": [
    "int(512+(PAGE_SIZE-512)*np.random.random())"
   ]
  },
  {
   "cell_type": "code",
   "execution_count": 8,
   "metadata": {},
   "outputs": [
    {
     "data": {
      "text/plain": [
       "[<matplotlib.lines.Line2D at 0x239886726c8>]"
      ]
     },
     "execution_count": 8,
     "metadata": {},
     "output_type": "execute_result"
    },
    {
     "data": {
      "image/png": "[encoded data removed]",
      "text/plain": [
       "<Figure size 432x288 with 1 Axes>"
      ]
     },
     "metadata": {
      "needs_background": "light"
     },
     "output_type": "display_data"
    }
   ],
   "source": [
    "file=np.loadtxt('AR_00.txt')\n",
    "pl.plot(file)"
   ]
  },
  {
   "cell_type": "code",
   "execution_count": 9,
   "metadata": {},
   "outputs": [
    {
     "name": "stdout",
     "output_type": "stream",
     "text": [
      "Process 0 requires 9 pages and has a quality 0\n",
      "[7, 6, 3, 3, 7, 1, 4, 7, 4] 23296\n",
      "written process 0 to  AR_00.txt\n",
      "Process 1 requires 11 pages and has a quality 3\n",
      "[7, 1, 2, 2, 8, 1, 5, 7, 1, 0, 4] 30286\n",
      "written process 1 to  AR_01.txt\n",
      "Process 2 requires 9 pages and has a quality 0\n",
      "[3, 7, 1, 8, 5, 1, 3, 1, 8] 17235\n",
      "written process 2 to  AR_02.txt\n",
      "Process 3 requires 9 pages and has a quality 3\n",
      "[7, 2, 5, 2, 6, 6, 3, 4, 0] 18581\n",
      "written process 3 to  AR_03.txt\n",
      "Process 4 requires 7 pages and has a quality 0\n",
      "[1, 1, 6, 5, 2, 5, 5] 19108\n",
      "written process 4 to  AR_04.txt\n"
     ]
    }
   ],
   "source": [
    "pr_size=np.zeros(NP,dtype='int32')\n",
    "\n",
    "for p in range(NP):\n",
    "    fname='AR_'+'{:02d}'.format(p)+'.txt'\n",
    "    op=open(fname,'w')\n",
    "    npg=int(np.random.normal(10,2.5))\n",
    "    nsig=int(5*np.random.random())\n",
    "    print(f'Process {p} requires {npg} pages and has a quality {nsig}')\n",
    "    pg_seq,pr_size[p]=sim_process(npg,nsig,op)\n",
    "    print(pg_seq,pr_size[p])\n",
    "    op.write('\\n')\n",
    "    op.close()\n",
    "    print('written process',p,'to ',fname)"
   ]
  },
  {
   "cell_type": "code",
   "execution_count": 10,
   "metadata": {
    "scrolled": false
   },
   "outputs": [
    {
     "name": "stdout",
     "output_type": "stream",
     "text": [
      "23295\n"
     ]
    },
    {
     "data": {
      "image/png": "[encoded data removed]",
      "text/plain": [
       "<Figure size 432x288 with 1 Axes>"
      ]
     },
     "metadata": {
      "needs_background": "light"
     },
     "output_type": "display_data"
    },
    {
     "name": "stdout",
     "output_type": "stream",
     "text": [
      "30286\n"
     ]
    },
    {
     "data": {
      "image/png": "[encoded data removed]",
      "text/plain": [
       "<Figure size 432x288 with 1 Axes>"
      ]
     },
     "metadata": {
      "needs_background": "light"
     },
     "output_type": "display_data"
    },
    {
     "name": "stdout",
     "output_type": "stream",
     "text": [
      "17234\n"
     ]
    },
    {
     "data": {
      "image/png": "[encoded data removed]",
      "text/plain": [
       "<Figure size 432x288 with 1 Axes>"
      ]
     },
     "metadata": {
      "needs_background": "light"
     },
     "output_type": "display_data"
    },
    {
     "name": "stdout",
     "output_type": "stream",
     "text": [
      "18581\n"
     ]
    },
    {
     "data": {
      "image/png": "[encoded data removed]",
      "text/plain": [
       "<Figure size 432x288 with 1 Axes>"
      ]
     },
     "metadata": {
      "needs_background": "light"
     },
     "output_type": "display_data"
    },
    {
     "name": "stdout",
     "output_type": "stream",
     "text": [
      "19107\n"
     ]
    },
    {
     "data": {
      "image/png": "[encoded data removed]",
      "text/plain": [
       "<Figure size 432x288 with 1 Axes>"
      ]
     },
     "metadata": {
      "needs_background": "light"
     },
     "output_type": "display_data"
    }
   ],
   "source": [
    "for p in range(NP):\n",
    "    fname='AR_'+'{:02d}'.format(p)+'.txt'\n",
    "    temp=np.loadtxt(fname)\n",
    "    print(len(temp))\n",
    "    pl.plot(range(len(temp)),temp)\n",
    "    pl.title(fname)\n",
    "    pl.show()"
   ]
  },
  {
   "cell_type": "code",
   "execution_count": 11,
   "metadata": {},
   "outputs": [],
   "source": [
    "def init_phys_mem():\n",
    "    for i in range(F):           \n",
    "        phys_mem[i,PID]=INVALID      #Initialize physical memory PID with empty\n",
    "        phys_mem[i,FRAME]=INVALID    #Initialize physical memory frame with empty\n",
    "        \n",
    "init_phys_mem()"
   ]
  },
  {
   "cell_type": "code",
   "execution_count": 12,
   "metadata": {},
   "outputs": [
    {
     "name": "stdout",
     "output_type": "stream",
     "text": [
      "  Frame     PID   Page No.\n",
      "  -----     ---   --------\n",
      "Free Frame:  0\n",
      "Free Frame:  1\n",
      "Free Frame:  2\n",
      "Free Frame:  3\n",
      "Free Frame:  4\n",
      "Free Frame:  5\n",
      "Free Frame:  6\n",
      "Free Frame:  7\n",
      "Free Frame:  8\n",
      "Free Frame:  9\n",
      "Free Frame:  10\n",
      "Free Frame:  11\n",
      "Free Frame:  12\n",
      "Free Frame:  13\n",
      "Free Frame:  14\n",
      "Free Frame:  15\n"
     ]
    }
   ],
   "source": [
    "def update_phys_mem(pid):\n",
    "    for i in range(F):                     \n",
    "        if phys_mem[i,PID]==pid:\n",
    "            #Execute the particular process  in that frame and make memory\n",
    "            #available for other processes.\n",
    "            \n",
    "            phys_mem[i,PID]=INVALID        \n",
    "            phys_mem[i,FRAME]=INVALID      \n",
    "\n",
    "            \n",
    "def memory_manager(infile,outfile,pid):\n",
    "    num_adr=512+int(4096*np.random.random())\n",
    "    idx=0 #counter to increase and read addresses.\n",
    "    \n",
    "    while idx<num_adr:\n",
    "        add_ref=infile.readline().strip() #This will load all the address line by line\n",
    "                                        #Also considered as virtual addresses.\n",
    "        if add_ref=='':\n",
    "            break #Finished reading address references\n",
    "            \n",
    "        add_ref=int(add_ref)  #Address reference\n",
    "        pg_num=int(add_ref/PAGE_SIZE) #Page number to keep track of\n",
    "        pg_offset=add_ref%PAGE_SIZE #Page offset.\n",
    "        pg_base,pg_fault=get_pageframe(pg_num,pid) #Get page offset and page fault if occured \n",
    "                                                    #eslse initialize page for memory\n",
    "        \n",
    "        if pg_base>=0:\n",
    "            phys_addr=pg_base+pg_offset            #Generating a physical address by adding both.\n",
    "            outfile.write(str(add_ref)+','+str(phys_addr)+','\n",
    "                         +str(pg_fault)+'\\n')      #Copy logical address, physical address along \n",
    "                                                    #with page fault status in out file.\n",
    "            \n",
    "            if pg_fault==0:                #If returned value is 0 i.e load from memory.\n",
    "                pr_timing[pid]+=IN_MEMORY\n",
    "                #This is responsible for executing and storing time that \n",
    "                #is taken if no page fault occured\n",
    "                \n",
    "                \n",
    "            elif pg_fault==1:              #IF returned value is 1 i.e memory fault occured\n",
    "                pr_timing[pid]+=MEM_FAULT\n",
    "                #If page fault occured it added time that is taken for process\n",
    "                # execute\n",
    "                \n",
    "                \n",
    "            else:\n",
    "                pr_timing[pid]+=PAGE_REPLACE #Page replacement algo being run.\n",
    "                #This time is responsible for replacing page and executing\n",
    "                #particular process.\n",
    "                \n",
    "        else:\n",
    "            print(idx)\n",
    "            return INVALID\n",
    "        idx+=1\n",
    "    \n",
    "    if idx>=num_adr:\n",
    "        return INCOMPLETE\n",
    "    \n",
    "    return COMPLETED\n",
    "            \n",
    "\n",
    "def get_pageframe(pnum, pr) :\n",
    "    fr_num = 0  #Initialize frame number to 0\n",
    "    while fr_num < F : #Loop until counter reaches to all frames\n",
    "        if phys_mem[fr_num,PID] == pr and phys_mem[fr_num,FRAME] == pnum : #if process is found in a frame, stop loop\n",
    "            break                                                          #and keep track of frame number\n",
    "        else :\n",
    "            fr_num += 1  #Increase counter for frame\n",
    "\n",
    "    if fr_num < F : #If the searched frame number is less than the available frames,\n",
    "        return fr_num * PAGE_SIZE, 0 #Return frame number x 4096 i.e page base with page fault 0 i.e fault didnt occur.\n",
    "                                    # Required page is in main memory and execute process.\n",
    "    fr_num = gen_pagefault(pnum, pr) #Since frame number was greater than frame size so generate page fault.\n",
    "                                    #So search for the frame and try to load in physical memory\n",
    "    \n",
    "    if fr_num>=0:  #check for the frame number returned from pagefault and return page fault occured once.\n",
    "        return fr_num*PAGE_SIZE,1\n",
    "    \n",
    "    fr_num=page_replace(pnum,pr) #Running page replacement algorithm. Since page has to be \n",
    "                                #Loaded into physical memory.\n",
    "    \n",
    "    if fr_num>=0: \n",
    "        return fr_num*PAGE_SIZE,2 #This is to replace the page into main memory\n",
    "    \n",
    "    return INVALID,0 #If the required frame is not found, return Invalid\n",
    "    \n",
    "    \n",
    "    \n",
    "def gen_pagefault(pgnum, pr) :\n",
    "    fr_num = 0 #Initialize frame number to 0\n",
    "    while fr_num < F and phys_mem[fr_num,FRAME] >= 0 : #Loop untill frame number is not less than Frame number\n",
    "        #and physical memory's frame number,Frame index >=0 i.e valid. It is searching for a page\n",
    "        #inside main memory.  This is to check whether hit or fault is occured or not.\n",
    "            \n",
    "        fr_num += 1                                    # Increment frame number.\n",
    "    \n",
    "    if fr_num >= F :  #If frame number is greater than Frame Size than its Invalid i.e it is not present in memory.\n",
    "        return INVALID\n",
    "    \n",
    "    #If fault didnt occur than  update physical memory and execute the process\n",
    "    phys_mem[fr_num,FRAME] = pgnum     #Update physical memory with current page number\n",
    "    phys_mem[fr_num,PID] = pr          #update physical memory with current process id\n",
    "    \n",
    "    return fr_num                      #return frame number in which Hit was occured.\n",
    "        \n",
    "\n",
    "  \n",
    "def get_oldest_frame(pr,algo_type):\n",
    "    global oldest_frame              #Access to the variable global_frame assigned\n",
    "    if algo_type==FIFO_GLOBAL:      #IF algorithm is FIFO GLOBAL ,\n",
    "        rv=oldest_frame            #temporary variable to store value of oldest_frame\n",
    "        oldest_frame+=1           #Increase the value of oldest frame by 1 as it is accessed once\n",
    "        if oldest_frame==F:      # If oldest frame reaches to max, again make it 0 to start\n",
    "            oldest_frame=0       #So as to form a cycle and make frame available to all process\n",
    "        return rv\n",
    "    return INVALID\n",
    "    \n",
    "\n",
    "\n",
    "\n",
    "def page_replace(pgnum,pr,algo=FIFO_GLOBAL):\n",
    "    current_frame=get_oldest_frame(pr,algo)  #Get track of previous frame so as to update the last\n",
    "                                            #Frame in which process was executed and replace that \n",
    "                                            #with the new process to execute.\n",
    "    phys_mem[current_frame,PID]=pr          #Update physical memory and execute process with the \n",
    "                                            #Current process ID.\n",
    "    phys_mem[current_frame,FRAME]=pgnum     #Update physical memory and execute process with the \n",
    "                                            #Current page number.\n",
    "    return current_frame                    #Return current frame in which page was loaded.\n",
    "\n",
    "    \n",
    "def print_phys_mem():\n",
    "    print('{:^10s} {:^6s} {:^6s}'.format('Frame', 'PID', 'Page No.'))\n",
    "    print('{:^10s} {:^6s} {:^6s}'.format('-----', '---', '--------'))\n",
    "    for i in range(F):                 #Run for loop for 16 times and print status of all\n",
    "        if phys_mem[i,PID]!=INVALID:\n",
    "            print('{:^10d} {:^6d} {:^6d}'.format(i,phys_mem[i,PID],phys_mem[i,FRAME]))\n",
    "        else:\n",
    "            print('Free Frame: ',i)\n",
    "    \n",
    "\n",
    "    \n",
    "def ready_queue(q):  #Trying to read processes from ready queue\n",
    "    while True:\n",
    "        try:\n",
    "            yield q.get_nowait()    #Try to get the process from queue\n",
    "        except queue.Empty:\n",
    "            break                   #If the queue is empty, Break.\n",
    "    \n",
    "print_phys_mem()\n"
   ]
  },
  {
   "cell_type": "code",
   "execution_count": 13,
   "metadata": {
    "scrolled": false
   },
   "outputs": [
    {
     "name": "stdout",
     "output_type": "stream",
     "text": [
      "[1, 2, 4, 3, 0]\n",
      "Reading Process from AR_00.txt\n",
      "Reading Process from AR_01.txt\n",
      "Reading Process from AR_02.txt\n",
      "Reading Process from AR_03.txt\n",
      "Reading Process from AR_04.txt\n",
      "Process 2 (Size:17235 Bytes) Completed;        removing from Queue\n",
      "Slow down by 18.926602843051928\n",
      "  Frame     PID   Page No.\n",
      "  -----     ---   --------\n",
      "Free Frame:  0\n",
      "Free Frame:  1\n",
      "Free Frame:  2\n",
      "Free Frame:  3\n",
      "Free Frame:  4\n",
      "Free Frame:  5\n",
      "Free Frame:  6\n",
      "    7        1      1   \n",
      "    8        1      5   \n",
      "    9        1      6   \n",
      "    10       1      4   \n",
      "    11       1      2   \n",
      "    12       1      3   \n",
      "    13       1      8   \n",
      "Free Frame:  14\n",
      "Free Frame:  15\n",
      "Process 3 (Size:18581 Bytes) Completed;        removing from Queue\n",
      "Slow down by 19.69754049835854\n",
      "  Frame     PID   Page No.\n",
      "  -----     ---   --------\n",
      "    0        4      0   \n",
      "    1        4      4   \n",
      "    2        4      3   \n",
      "Free Frame:  3\n",
      "Free Frame:  4\n",
      "Free Frame:  5\n",
      "Free Frame:  6\n",
      "Free Frame:  7\n",
      "Free Frame:  8\n",
      "    9        0      7   \n",
      "    10       1      7   \n",
      "    11       4      5   \n",
      "    12       1      0   \n",
      "    13       1      1   \n",
      "    14       4      1   \n",
      "    15       4      2   \n",
      "Process 0 (Size:23296 Bytes) Completed;        removing from Queue\n",
      "Slow down by 15.285885989010989\n",
      "  Frame     PID   Page No.\n",
      "  -----     ---   --------\n",
      "    0        4      0   \n",
      "    1        4      4   \n",
      "    2        4      3   \n",
      "Free Frame:  3\n",
      "Free Frame:  4\n",
      "Free Frame:  5\n",
      "Free Frame:  6\n",
      "Free Frame:  7\n",
      "Free Frame:  8\n",
      "Free Frame:  9\n",
      "    10       1      7   \n",
      "    11       4      5   \n",
      "    12       1      0   \n",
      "    13       1      1   \n",
      "    14       4      1   \n",
      "    15       4      2   \n",
      "Process 4 (Size:19108 Bytes) Completed;        removing from Queue\n",
      "Slow down by 13.43939711115763\n",
      "  Frame     PID   Page No.\n",
      "  -----     ---   --------\n",
      "Free Frame:  0\n",
      "Free Frame:  1\n",
      "Free Frame:  2\n",
      "    3        1      3   \n",
      "    4        1      2   \n",
      "    5        1      4   \n",
      "Free Frame:  6\n",
      "Free Frame:  7\n",
      "Free Frame:  8\n",
      "Free Frame:  9\n",
      "    10       1      7   \n",
      "Free Frame:  11\n",
      "    12       1      0   \n",
      "    13       1      1   \n",
      "Free Frame:  14\n",
      "Free Frame:  15\n",
      "Process 1 (Size:30286 Bytes) Completed;        removing from Queue\n",
      "Slow down by 12.411675361553193\n",
      "  Frame     PID   Page No.\n",
      "  -----     ---   --------\n",
      "Free Frame:  0\n",
      "Free Frame:  1\n",
      "Free Frame:  2\n",
      "Free Frame:  3\n",
      "Free Frame:  4\n",
      "Free Frame:  5\n",
      "Free Frame:  6\n",
      "Free Frame:  7\n",
      "Free Frame:  8\n",
      "Free Frame:  9\n",
      "Free Frame:  10\n",
      "Free Frame:  11\n",
      "Free Frame:  12\n",
      "Free Frame:  13\n",
      "Free Frame:  14\n",
      "Free Frame:  15\n"
     ]
    }
   ],
   "source": [
    "init_phys_mem()\n",
    "oldest_frame=0\n",
    "pr_que=init_proc_queue()\n",
    "pr_timing=np.zeros(F).astype('int32')\n",
    "IN_MEMORY=1\n",
    "MEM_FAULT=50\n",
    "PAGE_REPLACE=100\n",
    "\n",
    "infiles=list()\n",
    "outfile=list()\n",
    "\n",
    "for i in range(NP):\n",
    "    fname = 'AR_{:02d}.txt'.format(i)\n",
    "    outname = 'AR_{:02}_out.txt'.format(i)\n",
    "    if os.access(fname,os.R_OK):\n",
    "        print(f'Reading Process from {fname}')\n",
    "        infiles.append(open(fname,'r'))\n",
    "    else:\n",
    "        print(f'Cannot open {fname} for reading')\n",
    "    outfile.append(open(outname,'w'))\n",
    "for pr in ready_queue(pr_que):\n",
    "    rv=memory_manager(infiles[pr],outfile[pr],pr)\n",
    "    if rv==INVALID:\n",
    "        print('Memory overflow error')\n",
    "        break\n",
    "    if rv==INCOMPLETE:\n",
    "        pr_que.put_nowait(pr)\n",
    "    else:\n",
    "        print(f'Process {pr} (Size:{pr_size[pr]} Bytes) Completed;\\\n",
    "        removing from Queue')\n",
    "        slow=((pr_timing[pr]-pr_size[pr])*100.0/pr_size[pr])\n",
    "        print(f'Slow down by {slow}')\n",
    "        update_phys_mem(pr)\n",
    "        print_phys_mem()"
   ]
  },
  {
   "cell_type": "code",
   "execution_count": 14,
   "metadata": {},
   "outputs": [],
   "source": [
    "for i in range(NP) :\n",
    "    infiles[i].close()\n",
    "    outfile[i].close()"
   ]
  },
  {
   "cell_type": "code",
   "execution_count": 15,
   "metadata": {},
   "outputs": [],
   "source": [
    "# Command to execute \n",
    "# Using Windows OS command \n",
    "cmd = 'notepad'\n",
    "  \n",
    "# Using os.system() method \n",
    "# os.system(cmd)"
   ]
  },
  {
   "cell_type": "markdown",
   "metadata": {},
   "source": [
    "# How System Call Works?\n",
    "Here are steps for System Call:"
   ]
  },
  {
   "cell_type": "code",
   "execution_count": 16,
   "metadata": {},
   "outputs": [
    {
     "data": {
      "text/html": [
       "<img src=\"https://www.guru99.com/images/1/121119_0451_SystemCalli2.png\"/>"
      ],
      "text/plain": [
       "<IPython.core.display.Image object>"
      ]
     },
     "execution_count": 16,
     "metadata": {},
     "output_type": "execute_result"
    }
   ],
   "source": [
    "Image(url='https://www.guru99.com/images/1/121119_0451_SystemCalli2.png')"
   ]
  },
  {
   "cell_type": "code",
   "execution_count": 17,
   "metadata": {},
   "outputs": [
    {
     "data": {
      "text/html": [
       "<img src=\"https://www.guru99.com/images/1/121119_0451_SystemCalli3.png\"/>"
      ],
      "text/plain": [
       "<IPython.core.display.Image object>"
      ]
     },
     "execution_count": 17,
     "metadata": {},
     "output_type": "execute_result"
    }
   ],
   "source": [
    "Image(url='https://www.guru99.com/images/1/121119_0451_SystemCalli3.png')"
   ]
  },
  {
   "cell_type": "markdown",
   "metadata": {},
   "source": [
    "Step 1) The processes executed in the user mode till the time a system call interrupts it.\n",
    "\n",
    "Step 2) After that, the system call is executed in the kernel-mode on a priority basis.\n",
    "\n",
    "Step 3) Once system call execution is over, control returns to the user mode.,\n",
    "\n",
    "Step 4) The execution of user processes resumed in Kernel mode."
   ]
  },
  {
   "cell_type": "markdown",
   "metadata": {},
   "source": [
    "Why do you need System Calls in OS?\n",
    "Following are situations which need system calls in OS:\n",
    "\n",
    "Reading and writing from files demand system calls.\n",
    "If a file system wants to create or delete files, system calls are required.\n",
    "System calls are used for the creation and management of new processes.\n",
    "Network connections need system calls for sending and receiving packets.\n",
    "Access to hardware devices like scanner, printer, need a system call."
   ]
  },
  {
   "cell_type": "markdown",
   "metadata": {},
   "source": [
    "# Types of System calls\n"
   ]
  },
  {
   "cell_type": "raw",
   "metadata": {},
   "source": [
    "Here are the five types of system calls used in OS:\n",
    "\n",
    "Process Control \n",
    "File Management \n",
    "Device Management \n",
    "Information Maintenance \n",
    "Communications"
   ]
  },
  {
   "cell_type": "code",
   "execution_count": 18,
   "metadata": {},
   "outputs": [
    {
     "data": {
      "text/html": [
       "<img src=\"https://www.guru99.com/images/1/121119_0451_SystemCalli4.png\"/>"
      ],
      "text/plain": [
       "<IPython.core.display.Image object>"
      ]
     },
     "execution_count": 18,
     "metadata": {},
     "output_type": "execute_result"
    }
   ],
   "source": [
    "Image(url='https://www.guru99.com/images/1/121119_0451_SystemCalli4.png')"
   ]
  },
  {
   "cell_type": "markdown",
   "metadata": {},
   "source": [
    "## Process Control"
   ]
  },
  {
   "cell_type": "raw",
   "metadata": {},
   "source": [
    "This system calls perform the task of process creation, process termination, etc.\n",
    "\n",
    "Functions:\n",
    "\n",
    "End and Abort\n",
    "Load and Execute\n",
    "Create Process and Terminate Process\n",
    "Wait and Signed Event\n",
    "Allocate and free memory"
   ]
  },
  {
   "cell_type": "markdown",
   "metadata": {},
   "source": [
    "## File Management"
   ]
  },
  {
   "cell_type": "raw",
   "metadata": {},
   "source": [
    "File management system calls handle file manipulation jobs like creating a file, reading, and writing, etc.\n",
    "\n",
    "Functions:\n",
    "\n",
    "Create a file\n",
    "Delete file\n",
    "Open and close file\n",
    "Read, write, and reposition\n",
    "Get and set file attributes"
   ]
  },
  {
   "cell_type": "markdown",
   "metadata": {},
   "source": [
    "## Device Management"
   ]
  },
  {
   "cell_type": "raw",
   "metadata": {},
   "source": [
    "Device management does the job of device manipulation like reading from device buffers, writing into device buffers, etc.\n",
    "\n",
    "Functions\n",
    "\n",
    "Request and release device\n",
    "Logically attach/ detach devices\n",
    "Get and Set device attributes"
   ]
  },
  {
   "cell_type": "markdown",
   "metadata": {},
   "source": [
    "## Information Maintenance"
   ]
  },
  {
   "cell_type": "raw",
   "metadata": {},
   "source": [
    "It handles information and its transfer between the OS and the user program.\n",
    "\n",
    "Functions:\n",
    "\n",
    "Get or set time and date\n",
    "Get process and device attributes"
   ]
  },
  {
   "cell_type": "markdown",
   "metadata": {},
   "source": [
    "## Communication:"
   ]
  },
  {
   "cell_type": "raw",
   "metadata": {},
   "source": [
    "These types of system calls are specially used for interprocess communications.\n",
    "\n",
    "Functions:\n",
    "\n",
    "Create, delete communications connections\n",
    "Send, receive message\n",
    "Help OS to transfer status information\n",
    "Attach or detach remote devices"
   ]
  },
  {
   "cell_type": "markdown",
   "metadata": {},
   "source": [
    "## Rules for passing Parameters for System Call"
   ]
  },
  {
   "cell_type": "raw",
   "metadata": {},
   "source": [
    "Here are general common rules for passing parameters to the System Call:\n",
    "\n",
    "Parameters should be pushed on or popped off the stack by the operating system.\n",
    "Parameters can be passed in registers.\n",
    "When there are more parameters than registers, it should be stored in a block, and the block address should be passed as a parameter to a register."
   ]
  },
  {
   "cell_type": "markdown",
   "metadata": {},
   "source": [
    "# Important System Calls Used in OS"
   ]
  },
  {
   "cell_type": "markdown",
   "metadata": {},
   "source": [
    "### wait()"
   ]
  },
  {
   "cell_type": "raw",
   "metadata": {},
   "source": [
    "In some systems, a process needs to wait for another process to complete its execution. This type of situation occurs when a parent process creates a child process, and the execution of the parent process remains suspended until its child process executes.\n",
    "\n",
    "The suspension of the parent process automatically occurs with a wait() system call. When the child process ends execution, the control moves back to the parent process."
   ]
  },
  {
   "cell_type": "markdown",
   "metadata": {},
   "source": [
    "### fork()"
   ]
  },
  {
   "cell_type": "raw",
   "metadata": {},
   "source": [
    "Processes use this system call to create processes that are a copy of themselves. With the help of this system Call parent process creates a child process, and the execution of the parent process will be suspended till the child process executes.\n"
   ]
  },
  {
   "cell_type": "markdown",
   "metadata": {},
   "source": [
    "### exec()"
   ]
  },
  {
   "cell_type": "raw",
   "metadata": {},
   "source": [
    "This system call runs when an executable file in the context of an already running process that replaces the older executable file. However, the original process identifier remains as a new process is not built, but stack, data, head, data, etc. are replaced by the new process."
   ]
  },
  {
   "cell_type": "markdown",
   "metadata": {},
   "source": [
    "### kill():"
   ]
  },
  {
   "cell_type": "raw",
   "metadata": {},
   "source": [
    "The kill() system call is used by OS to send a termination signal to a process that urges the process to exit. However, a kill system call does not necessarily mean killing the process and can have various meanings."
   ]
  },
  {
   "cell_type": "markdown",
   "metadata": {},
   "source": [
    "### exit():"
   ]
  },
  {
   "cell_type": "raw",
   "metadata": {},
   "source": [
    "The exit() system call is used to terminate program execution. Specially in the multi-threaded environment, this call defines that the thread execution is complete. The OS reclaims resources that were used by the process after the use of exit() system call."
   ]
  },
  {
   "cell_type": "code",
   "execution_count": 19,
   "metadata": {},
   "outputs": [
    {
     "data": {
      "image/png": "[encoded data removed]",
      "text/plain": [
       "<IPython.core.display.Image object>"
      ]
     },
     "execution_count": 19,
     "metadata": {},
     "output_type": "execute_result"
    }
   ],
   "source": [
    "Image(filename='summary.png')"
   ]
  },
  {
   "cell_type": "markdown",
   "metadata": {},
   "source": [
    "### Program to open notepad using a system call"
   ]
  },
  {
   "cell_type": "raw",
   "metadata": {},
   "source": [
    "command='notepad'\n",
    "os.system(command)"
   ]
  },
  {
   "cell_type": "raw",
   "metadata": {},
   "source": [
    "convert text into random numbers"
   ]
  },
  {
   "cell_type": "code",
   "execution_count": 20,
   "metadata": {},
   "outputs": [],
   "source": [
    "command='notepad'"
   ]
  },
  {
   "cell_type": "code",
   "execution_count": 21,
   "metadata": {},
   "outputs": [
    {
     "name": "stdout",
     "output_type": "stream",
     "text": [
      "Process notepad.txt requires 9 pages and has a quality 2\n",
      "[5, 0, 6, 8, 3, 4, 7, 2, 4] 25138\n",
      "written process 4 to  notepad.txt\n"
     ]
    }
   ],
   "source": [
    "fname=command+'.txt'\n",
    "op=open(fname,'w')\n",
    "npg=int(np.random.normal(10,2.5))\n",
    "nsig=int(5*np.random.random())\n",
    "print(f'Process {fname} requires {npg} pages and has a quality {nsig}')\n",
    "pg_seq,pr_size[p]=sim_process(npg,nsig,op)\n",
    "print(pg_seq,pr_size[p])\n",
    "op.write('\\n')\n",
    "op.close()\n",
    "print('written process',p,'to ',fname)"
   ]
  },
  {
   "cell_type": "code",
   "execution_count": 22,
   "metadata": {},
   "outputs": [
    {
     "name": "stdout",
     "output_type": "stream",
     "text": [
      "20\n"
     ]
    }
   ],
   "source": [
    "outfile=open('notepad_out.txt','w')\n",
    "rv=memory_manager(open('notepad.txt','r'),outfile,10)\n",
    "outfile.close()\n",
    "print(rv)"
   ]
  },
  {
   "cell_type": "code",
   "execution_count": 23,
   "metadata": {},
   "outputs": [
    {
     "data": {
      "text/plain": [
       "1482"
      ]
     },
     "execution_count": 23,
     "metadata": {},
     "output_type": "execute_result"
    }
   ],
   "source": [
    "512 + int(4096 * np.random.random())"
   ]
  },
  {
   "cell_type": "code",
   "execution_count": 24,
   "metadata": {},
   "outputs": [],
   "source": [
    "# os.system('notepad')"
   ]
  },
  {
   "cell_type": "code",
   "execution_count": 25,
   "metadata": {},
   "outputs": [
    {
     "name": "stdout",
     "output_type": "stream",
     "text": [
      "[97, 98, 99, 100, 101, 102, 103, 104, 105, 106, 107, 108, 109, 110, 111, 112, 113, 114, 115, 116, 117, 118, 119, 120, 121, 122]\n"
     ]
    },
    {
     "data": {
      "text/plain": [
       "array([['mmgtgumse', 22, 5, 0],\n",
       "       ['alekj', 94, 35, 0],\n",
       "       ['ruk', 18, 15, 0],\n",
       "       ['bucju', 20, 21, 0],\n",
       "       ['cnug', 44, 26, 0],\n",
       "       ['qelbgy', 18, 30, 2],\n",
       "       ['sqxxgkwce', 40, 13, 0],\n",
       "       ['zqnmtd', 33, 4, 2],\n",
       "       ['fhrnhk', 6, 28, 2],\n",
       "       ['fmxkwj', 55, 42, 0]], dtype=object)"
      ]
     },
     "execution_count": 25,
     "metadata": {},
     "output_type": "execute_result"
    }
   ],
   "source": [
    "#Creating some random strings that are considered as instrucions to be\n",
    "#executed. \n",
    "#0 indicates short system call i.e it executes properly.\n",
    "#1 indicates long system call where scheduler comes into action\n",
    "#2 indicates IO system call where process goes into wait state \n",
    "\n",
    "letters=list('abcdefghijklmnopqrstuvwxyz')\n",
    "letters=[ord(i) for i in letters]\n",
    "print(letters)\n",
    "\n",
    "temp0=np.array([[''.join([chr(i) for i in np.random.choice(letters,np.random.randint(3,10))]),np.random.randint(1,100),np.random.randint(1,50),np.random.randint(0,1)] for i in range(800)],dtype='O')\n",
    "temp1=np.array([[''.join([chr(i) for i in np.random.choice(letters,np.random.randint(3,10))]),np.random.randint(1,100),np.random.randint(1,50),np.random.randint(1,3)] for i in range(200)],dtype='O')\n",
    "temp=np.append(temp0,temp1,axis=0)\n",
    "np.random.shuffle(temp)\n",
    "temp[:10]\n",
    "\n",
    "# 1st param is process id\n",
    "# 2nd param is arrival time\n",
    "# 3rd param is burst time\n",
    "# 4th param is unique id to recognize type of system call"
   ]
  },
  {
   "cell_type": "code",
   "execution_count": null,
   "metadata": {},
   "outputs": [],
   "source": []
  },
  {
   "cell_type": "code",
   "execution_count": 26,
   "metadata": {},
   "outputs": [
    {
     "name": "stdout",
     "output_type": "stream",
     "text": [
      "      Process        Arrival_t   Burst_t    Sys_call \n",
      "     ----------      ---------- ---------- ----------\n",
      "     mmgtgumse           22         5          0     \n",
      "       alekj             94         35         0     \n",
      "        ruk              18         15         0     \n",
      "       bucju             20         21         0     \n",
      "        cnug             44         26         0     \n"
     ]
    }
   ],
   "source": [
    "print('{:^20s} {:^10s} {:^10s} {:^10s}'.format('Process','Arrival_t','Burst_t','Sys_call'))\n",
    "print('{:^20s} {:^10s} {:^10s} {:^10s}'.format('----------','----------','----------','----------'))\n",
    "for i in temp[:5]:\n",
    "    print('{:^20s} {:^10d} {:^10d} {:^10d}'.format(i[0],i[1],i[2],i[3]))\n"
   ]
  },
  {
   "cell_type": "code",
   "execution_count": 27,
   "metadata": {},
   "outputs": [
    {
     "data": {
      "image/png": "[encoded data removed]",
      "text/plain": [
       "<Figure size 432x288 with 1 Axes>"
      ]
     },
     "metadata": {
      "needs_background": "light"
     },
     "output_type": "display_data"
    }
   ],
   "source": [
    "pl.title('Distribution of System calls')\n",
    "sns.countplot(np.array(temp)[:,3])\n",
    "pl.xticks(range(3),['Short SC','Long SC','IO Call'])\n",
    "pl.show()"
   ]
  },
  {
   "cell_type": "code",
   "execution_count": 28,
   "metadata": {},
   "outputs": [
    {
     "name": "stdout",
     "output_type": "stream",
     "text": [
      "There are 1000 unique processes\n"
     ]
    }
   ],
   "source": [
    "print(f\"There are {np.unique(np.array(temp)[:,0],return_counts=True)[1].sum()} unique processes\")"
   ]
  },
  {
   "cell_type": "code",
   "execution_count": null,
   "metadata": {},
   "outputs": [],
   "source": []
  },
  {
   "cell_type": "code",
   "execution_count": 29,
   "metadata": {
    "scrolled": false
   },
   "outputs": [
    {
     "data": {
      "application/javascript": [
       "\n",
       "        if (window._pyforest_update_imports_cell) { window._pyforest_update_imports_cell('import pandas as pd'); }\n",
       "    "
      ],
      "text/plain": [
       "<IPython.core.display.Javascript object>"
      ]
     },
     "metadata": {},
     "output_type": "display_data"
    },
    {
     "name": "stdout",
     "output_type": "stream",
     "text": [
      "--------------------------------------------------------------------\n",
      "Execute process mmgtgumse\n",
      "--------------------------------------------------------------------\n",
      "Execute process alekj\n",
      "--------------------------------------------------------------------\n",
      "Execute process ruk\n",
      "--------------------------------------------------------------------\n",
      "Execute process bucju\n",
      "--------------------------------------------------------------------\n",
      "Execute process cnug\n",
      "--------------------------------------------------------------------\n",
      "Process qelbgy is an IO call so made it wait\n",
      "Waiting Queue ['qelbgy']\n",
      "--------------------------------------------------------------------\n",
      "Execute process sqxxgkwce\n",
      "--------------------------------------------------------------------\n",
      "Process zqnmtd is an IO call so made it wait\n",
      "Waiting Queue ['qelbgy', 'zqnmtd']\n",
      "--------------------------------------------------------------------\n",
      "Process fhrnhk is an IO call so made it wait\n",
      "Waiting Queue ['qelbgy', 'zqnmtd', 'fhrnhk']\n",
      "--------------------------------------------------------------------\n",
      "Execute process fmxkwj\n",
      "--------------------------------------------------------------------\n",
      "Execute process aeqdwcb\n",
      "--------------------------------------------------------------------\n",
      "Execute process slzdsse\n",
      "--------------------------------------------------------------------\n",
      "Process ebpm is an IO call so made it wait\n",
      "Waiting Queue ['qelbgy', 'zqnmtd', 'fhrnhk', 'ebpm']\n",
      "--------------------------------------------------------------------\n",
      "Execute process jaiiptfc\n",
      "--------------------------------------------------------------------\n",
      "Execute process jlynr\n",
      "--------------------------------------------------------------------\n",
      "Process mcopscb is an IO call so made it wait\n",
      "Waiting Queue ['qelbgy', 'zqnmtd', 'fhrnhk', 'ebpm', 'mcopscb']\n",
      "--------------------------------------------------------------------\n",
      "Execute process sfnngbzon\n",
      "--------------------------------------------------------------------\n",
      "Process is Long SC so cytg added to queue\n",
      "['cytg']\n",
      "--------------------------------------------------------------------\n",
      "Execute process gytxqtg\n",
      "--------------------------------------------------------------------\n",
      "Execute process ymf\n",
      "Executing processes those were in ready state\n",
      "--------------------------------------------------------------------\n",
      "Execute process cytg\n",
      "Executig processes those were in wait state\n",
      "--------------------------------------------------------------------\n",
      "Execute process qelbgy\n",
      "--------------------------------------------------------------------\n",
      "Execute process zqnmtd\n",
      "--------------------------------------------------------------------\n",
      "Execute process fhrnhk\n",
      "--------------------------------------------------------------------\n",
      "Execute process ebpm\n",
      "--------------------------------------------------------------------\n",
      "Execute process mcopscb\n"
     ]
    }
   ],
   "source": [
    "#Here instead of passing whole process as a list,passing index of that process would be a better idea\n",
    "\n",
    "def fix_burst(process):\n",
    "    df=pd.DataFrame(process,columns=['Process','Arrival_t','Burst_t','Sys_call'])\n",
    "    tmp=df['Burst_t'].values.copy()\n",
    "    for i in range(len(tmp)):\n",
    "        if df['Sys_call'].values[i]==0 and tmp[i]>20:\n",
    "            tmp[i]=int(tmp[i]/np.random.randint(4,9))\n",
    "    df['Burst_t']=tmp\n",
    "    return df.values\n",
    "\n",
    "\n",
    "def readyQueue(pr):\n",
    "    print('--------------------------------------------------------------------')\n",
    "    print(f\"Process is Long SC so {pr} added to queue\")\n",
    "    #Process after initialized goes to ready Queue which is ready for execution.\n",
    "    ready_state.append(pr)\n",
    "    print(ready_state)\n",
    "\n",
    "    \n",
    "    \n",
    "def waitState(pr):\n",
    "    print('--------------------------------------------------------------------')\n",
    "    print(f'Process {pr} is an IO call so made it wait')\n",
    "    #Here IO call has occured and process goes to wait_state.\n",
    "    wait_state.append(pr)\n",
    "    print('Waiting Queue',wait_state)\n",
    "    \n",
    "def returnProcess(process):\n",
    "    return process.pop(0)\n",
    "\n",
    "def run_process(data):\n",
    "    print('--------------------------------------------------------------------')\n",
    "    print(f\"Execute process {data}\")\n",
    "    \n",
    "def sim(procsSS):\n",
    "    for i in range(20):\n",
    "        if procsSS[i][3]==0:\n",
    "            run_process(procsSS[i][0])\n",
    "            time.sleep(0.4)\n",
    "        if procsSS[i][3]==1:\n",
    "            readyQueue(procsSS[i][0])\n",
    "            time.sleep(0.4)\n",
    "        if procsSS[i][3]==2:\n",
    "            waitState(procsSS[i][0])\n",
    "            time.sleep(0.4)\n",
    "    print(\"Executing processes those were in ready state\")\n",
    "    while len(ready_state)!=0:\n",
    "        p=returnProcess(ready_state)\n",
    "        run_process(p)\n",
    "        time.sleep(0.4)\n",
    "    print(\"Executig processes those were in wait state\")\n",
    "    while len(wait_state)!=0:\n",
    "        p=returnProcess(wait_state)\n",
    "        run_process(p)\n",
    "        time.sleep(0.4)\n",
    "        \n",
    "        \n",
    "process=[]\n",
    "wait_state=[]\n",
    "ready_state=[]\n",
    "procsSS=fix_burst(temp)\n",
    "sim(procsSS)"
   ]
  },
  {
   "cell_type": "code",
   "execution_count": 42,
   "metadata": {},
   "outputs": [
    {
     "data": {
      "text/plain": [
       "array([['mmgtgumse', 22, 5, 0],\n",
       "       ['alekj', 94, 4, 0],\n",
       "       ['ruk', 18, 15, 0],\n",
       "       ['bucju', 20, 2, 0],\n",
       "       ['cnug', 44, 3, 0],\n",
       "       ['qelbgy', 18, 30, 2],\n",
       "       ['sqxxgkwce', 40, 13, 0],\n",
       "       ['zqnmtd', 33, 4, 2],\n",
       "       ['fhrnhk', 6, 28, 2],\n",
       "       ['fmxkwj', 55, 7, 0],\n",
       "       ['aeqdwcb', 61, 10, 0],\n",
       "       ['slzdsse', 29, 6, 0],\n",
       "       ['ebpm', 65, 26, 2],\n",
       "       ['jaiiptfc', 37, 20, 0],\n",
       "       ['jlynr', 53, 7, 0],\n",
       "       ['mcopscb', 96, 18, 2],\n",
       "       ['sfnngbzon', 52, 4, 0],\n",
       "       ['cytg', 78, 6, 1],\n",
       "       ['gytxqtg', 18, 2, 0],\n",
       "       ['ymf', 98, 5, 0]], dtype=object)"
      ]
     },
     "execution_count": 42,
     "metadata": {},
     "output_type": "execute_result"
    }
   ],
   "source": [
    "procsSS[:20]"
   ]
  },
  {
   "cell_type": "code",
   "execution_count": 53,
   "metadata": {},
   "outputs": [],
   "source": [
    "class Process:\n",
    "    def __init__(self,pid,at,bt,inloc,outloc):\n",
    "        self.pid=pid\n",
    "        self.at=at\n",
    "        self.bt=bt\n",
    "        self.inloc=inloc\n",
    "        self.outloc=outloc\n",
    "        \n",
    "    def processId(self):\n",
    "        return self.pid\n",
    "        \n",
    "    def arrivalTime(self):\n",
    "        return self.at\n",
    "    \n",
    "    def burstTime(self):\n",
    "        return self.bt\n",
    "    \n",
    "    def inLoc(self):\n",
    "        return self.inloc\n",
    "    \n",
    "    def outLoc(self):\n",
    "        return self.outloc"
   ]
  },
  {
   "cell_type": "code",
   "execution_count": 69,
   "metadata": {},
   "outputs": [
    {
     "data": {
      "text/html": [
       "<img src=\"https://prepinsta.com/wp-content/uploads/2019/08/Process-1024x597.png\"/>"
      ],
      "text/plain": [
       "<IPython.core.display.Image object>"
      ]
     },
     "execution_count": 69,
     "metadata": {},
     "output_type": "execute_result"
    }
   ],
   "source": [
    "Image(url='https://prepinsta.com/wp-content/uploads/2019/08/Process-1024x597.png')"
   ]
  },
  {
   "cell_type": "code",
   "execution_count": 73,
   "metadata": {},
   "outputs": [
    {
     "name": "stdout",
     "output_type": "stream",
     "text": [
      "Process 0 requires 11 pages and has a quality 2\n",
      "[4, 8, 8, 8, 2, 4, 5, 0, 5, 5, 2] 27498\n",
      "Written process  4 to  notepad.txt\n",
      "Process 1 requires 9 pages and has a quality 1\n",
      "[8, 7, 0, 6, 0, 0, 7, 8, 1] 23995\n",
      "Written process  4 to  notepad.txt\n",
      "Process 2 requires 8 pages and has a quality 2\n",
      "[4, 0, 0, 0, 6, 1, 3, 4] 19279\n",
      "Written process  4 to  notepad.txt\n",
      "Process 3 requires 9 pages and has a quality 0\n",
      "[8, 3, 3, 8, 0, 4, 3, 8, 0] 18622\n",
      "Written process  4 to  notepad.txt\n",
      "Process 4 requires 12 pages and has a quality 2\n",
      "[3, 0, 9, 6, 0, 6, 10, 7, 0, 10, 9, 8] 32105\n",
      "Written process  4 to  notepad.txt\n"
     ]
    }
   ],
   "source": [
    "processes=[]\n",
    "for i in range(5):\n",
    "    temp_p=Process(i,np.random.randint(1,10),np.random.randint(1,10),'infile{:d}'.format(i)+'.txt','outfile{:d}'.format(i)+'.txt') \n",
    "    processes.append(temp_p)\n",
    "    op = open(temp_p.inLoc(), 'w')\n",
    "    npg = int(np.random.normal(10,2.5))\n",
    "    nsig = int(5 * np.random.random())\n",
    "    print(f'Process {temp_p.processId()} requires {npg} pages and has a quality {nsig}')\n",
    "    pg_seq, pr_size[p] = sim_process(npg, nsig, op)\n",
    "    print(pg_seq, pr_size[p])\n",
    "    op.write('\\n')\n",
    "    op.close()\n",
    "    print('Written process ', p, 'to ', fname)"
   ]
  },
  {
   "cell_type": "code",
   "execution_count": 74,
   "metadata": {},
   "outputs": [
    {
     "data": {
      "text/plain": [
       "(0, 1, 2, 3)"
      ]
     },
     "execution_count": 74,
     "metadata": {},
     "output_type": "execute_result"
    }
   ],
   "source": [
    "processes[0].processId(),processes[1].processId(),processes[2].processId(),processes[3].processId()"
   ]
  },
  {
   "cell_type": "code",
   "execution_count": 75,
   "metadata": {},
   "outputs": [
    {
     "data": {
      "text/plain": [
       "(6, 3, 2, 5)"
      ]
     },
     "execution_count": 75,
     "metadata": {},
     "output_type": "execute_result"
    }
   ],
   "source": [
    "processes[0].burstTime(),processes[1].burstTime(),processes[2].burstTime(),processes[3].arrivalTime()"
   ]
  },
  {
   "cell_type": "code",
   "execution_count": 76,
   "metadata": {},
   "outputs": [
    {
     "data": {
      "text/plain": [
       "('infile0.txt', 'infile1.txt', 'infile2.txt', 'infile3.txt')"
      ]
     },
     "execution_count": 76,
     "metadata": {},
     "output_type": "execute_result"
    }
   ],
   "source": [
    "processes[0].inLoc(),processes[1].inLoc(),processes[2].inLoc(),processes[3].inLoc()"
   ]
  },
  {
   "cell_type": "code",
   "execution_count": 77,
   "metadata": {},
   "outputs": [
    {
     "data": {
      "text/plain": [
       "('outfile0.txt', 'outfile1.txt', 'outfile2.txt', 'outfile3.txt')"
      ]
     },
     "execution_count": 77,
     "metadata": {},
     "output_type": "execute_result"
    }
   ],
   "source": [
    "processes[0].outLoc(),processes[1].outLoc(),processes[2].outLoc(),processes[3].outLoc()"
   ]
  },
  {
   "cell_type": "code",
   "execution_count": 80,
   "metadata": {},
   "outputs": [
    {
     "data": {
      "text/plain": [
       "[<matplotlib.lines.Line2D at 0x2398b5b0f88>]"
      ]
     },
     "execution_count": 80,
     "metadata": {},
     "output_type": "execute_result"
    },
    {
     "data": {
      "image/png": "[encoded data removed]",
      "text/plain": [
       "<Figure size 432x288 with 1 Axes>"
      ]
     },
     "metadata": {
      "needs_background": "light"
     },
     "output_type": "display_data"
    }
   ],
   "source": [
    "pl.plot(np.loadtxt(processes[0].inLoc()))"
   ]
  },
  {
   "cell_type": "code",
   "execution_count": 97,
   "metadata": {},
   "outputs": [],
   "source": [
    "def new(pr):\n",
    "    pass\n",
    "\n",
    "def LongSystemcallQueue(pr):\n",
    "    longSysCallprocess.append(pr)\n",
    "\n",
    "def ready_queue(pr):\n",
    "    return processes.pop(0)   \n",
    "    \n",
    "def wait_queue(pr):\n",
    "    waiting_processes.append(pr)\n",
    "    \n",
    "\n",
    "\n",
    "ready_processes=[]\n",
    "waiting_processes=[]\n",
    "longSysCallprocess=[]\n"
   ]
  },
  {
   "cell_type": "code",
   "execution_count": 96,
   "metadata": {},
   "outputs": [
    {
     "name": "stdout",
     "output_type": "stream",
     "text": [
      "1\n"
     ]
    }
   ],
   "source": [
    "a=[]\n",
    "a.append(1)\n",
    "a.append(2)\n",
    "print(a.pop(0))"
   ]
  },
  {
   "cell_type": "code",
   "execution_count": null,
   "metadata": {},
   "outputs": [],
   "source": []
  },
  {
   "cell_type": "code",
   "execution_count": null,
   "metadata": {},
   "outputs": [],
   "source": []
  },
  {
   "cell_type": "code",
   "execution_count": null,
   "metadata": {},
   "outputs": [],
   "source": []
  },
  {
   "cell_type": "code",
   "execution_count": null,
   "metadata": {},
   "outputs": [],
   "source": []
  },
  {
   "cell_type": "code",
   "execution_count": null,
   "metadata": {},
   "outputs": [],
   "source": []
  },
  {
   "cell_type": "code",
   "execution_count": null,
   "metadata": {},
   "outputs": [],
   "source": []
  },
  {
   "cell_type": "code",
   "execution_count": null,
   "metadata": {},
   "outputs": [],
   "source": []
  },
  {
   "cell_type": "code",
   "execution_count": null,
   "metadata": {},
   "outputs": [],
   "source": []
  },
  {
   "cell_type": "code",
   "execution_count": null,
   "metadata": {},
   "outputs": [],
   "source": []
  },
  {
   "cell_type": "code",
   "execution_count": null,
   "metadata": {},
   "outputs": [],
   "source": []
  },
  {
   "cell_type": "code",
   "execution_count": null,
   "metadata": {},
   "outputs": [],
   "source": []
  },
  {
   "cell_type": "code",
   "execution_count": null,
   "metadata": {},
   "outputs": [],
   "source": []
  },
  {
   "cell_type": "code",
   "execution_count": null,
   "metadata": {},
   "outputs": [],
   "source": []
  },
  {
   "cell_type": "code",
   "execution_count": null,
   "metadata": {},
   "outputs": [],
   "source": []
  },
  {
   "cell_type": "code",
   "execution_count": null,
   "metadata": {},
   "outputs": [],
   "source": []
  },
  {
   "cell_type": "code",
   "execution_count": null,
   "metadata": {},
   "outputs": [],
   "source": []
  },
  {
   "cell_type": "code",
   "execution_count": null,
   "metadata": {},
   "outputs": [],
   "source": []
  },
  {
   "cell_type": "code",
   "execution_count": null,
   "metadata": {},
   "outputs": [],
   "source": []
  },
  {
   "cell_type": "code",
   "execution_count": null,
   "metadata": {},
   "outputs": [],
   "source": []
  },
  {
   "cell_type": "code",
   "execution_count": null,
   "metadata": {},
   "outputs": [],
   "source": []
  },
  {
   "cell_type": "code",
   "execution_count": null,
   "metadata": {},
   "outputs": [],
   "source": []
  },
  {
   "cell_type": "code",
   "execution_count": null,
   "metadata": {},
   "outputs": [],
   "source": []
  },
  {
   "cell_type": "code",
   "execution_count": null,
   "metadata": {},
   "outputs": [],
   "source": []
  },
  {
   "cell_type": "code",
   "execution_count": null,
   "metadata": {},
   "outputs": [],
   "source": []
  },
  {
   "cell_type": "code",
   "execution_count": null,
   "metadata": {},
   "outputs": [],
   "source": []
  },
  {
   "cell_type": "code",
   "execution_count": null,
   "metadata": {},
   "outputs": [],
   "source": []
  }
 ],
 "metadata": {
  "kernelspec": {
   "display_name": "Python 3",
   "language": "python",
   "name": "python3"
  },
  "language_info": {
   "codemirror_mode": {
    "name": "ipython",
    "version": 3
   },
   "file_extension": ".py",
   "mimetype": "text/x-python",
   "name": "python",
   "nbconvert_exporter": "python",
   "pygments_lexer": "ipython3",
   "version": "3.7.7"
  }
 },
 "nbformat": 4,
 "nbformat_minor": 4
}
