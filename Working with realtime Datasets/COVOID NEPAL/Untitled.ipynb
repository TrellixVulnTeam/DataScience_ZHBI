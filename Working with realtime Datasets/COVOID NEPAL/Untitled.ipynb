{
 "cells": [
  {
   "cell_type": "code",
   "execution_count": 1,
   "metadata": {},
   "outputs": [],
   "source": [
    "import pandas as pd\n",
    "import numpy as np\n",
    "import seaborn as sns\n",
    "import matplotlib.pyplot as pl"
   ]
  },
  {
   "cell_type": "code",
   "execution_count": 2,
   "metadata": {},
   "outputs": [],
   "source": [
    "df=pd.read_excel('covid-nepal.xlsx')"
   ]
  },
  {
   "cell_type": "code",
   "execution_count": 4,
   "metadata": {},
   "outputs": [
    {
     "data": {
      "text/plain": [
       "(14031, 27)"
      ]
     },
     "execution_count": 4,
     "metadata": {},
     "output_type": "execute_result"
    }
   ],
   "source": [
    "df.shape"
   ]
  },
  {
   "cell_type": "code",
   "execution_count": 5,
   "metadata": {},
   "outputs": [
    {
     "data": {
      "text/html": [
       "<div>\n",
       "<style scoped>\n",
       "    .dataframe tbody tr th:only-of-type {\n",
       "        vertical-align: middle;\n",
       "    }\n",
       "\n",
       "    .dataframe tbody tr th {\n",
       "        vertical-align: top;\n",
       "    }\n",
       "\n",
       "    .dataframe thead th {\n",
       "        text-align: right;\n",
       "    }\n",
       "</style>\n",
       "<table border=\"1\" class=\"dataframe\">\n",
       "  <thead>\n",
       "    <tr style=\"text-align: right;\">\n",
       "      <th></th>\n",
       "      <th>id</th>\n",
       "      <th>Created On</th>\n",
       "      <th>Modified On</th>\n",
       "      <th>Recovered On</th>\n",
       "      <th>Current State</th>\n",
       "      <th>Death On</th>\n",
       "      <th>District</th>\n",
       "      <th>Province</th>\n",
       "      <th>Districts</th>\n",
       "      <th>Is Reinfected</th>\n",
       "      <th>...</th>\n",
       "      <th>Bbox/2</th>\n",
       "      <th>Bbox/3</th>\n",
       "      <th>Centroid/Coordinates/0</th>\n",
       "      <th>Centroid/Coordinates/1</th>\n",
       "      <th>Municipality</th>\n",
       "      <th>Nationality</th>\n",
       "      <th>point/coordinates/0</th>\n",
       "      <th>point/coordinates/1</th>\n",
       "      <th>Province (District)</th>\n",
       "      <th>Ward</th>\n",
       "    </tr>\n",
       "  </thead>\n",
       "  <tbody>\n",
       "    <tr>\n",
       "      <th>0</th>\n",
       "      <td>1</td>\n",
       "      <td>2020-04-08T12:10:46.924551+05:45</td>\n",
       "      <td>2020-04-29T10:23:24.996211+05:45</td>\n",
       "      <td>2020-01-31</td>\n",
       "      <td>recovered</td>\n",
       "      <td>NaT</td>\n",
       "      <td>27</td>\n",
       "      <td>3</td>\n",
       "      <td>Kathmandu</td>\n",
       "      <td>False</td>\n",
       "      <td>...</td>\n",
       "      <td>85.565844</td>\n",
       "      <td>27.817653</td>\n",
       "      <td>85.347351</td>\n",
       "      <td>27.728201</td>\n",
       "      <td>27006</td>\n",
       "      <td>2.0</td>\n",
       "      <td>85.306941</td>\n",
       "      <td>27.695445</td>\n",
       "      <td>3</td>\n",
       "      <td>3716.0</td>\n",
       "    </tr>\n",
       "    <tr>\n",
       "      <th>1</th>\n",
       "      <td>2</td>\n",
       "      <td>2020-04-08T12:10:46.924551+05:45</td>\n",
       "      <td>2020-04-18T15:44:15.656734+05:45</td>\n",
       "      <td>2020-04-18</td>\n",
       "      <td>recovered</td>\n",
       "      <td>NaT</td>\n",
       "      <td>27</td>\n",
       "      <td>3</td>\n",
       "      <td>Kathmandu</td>\n",
       "      <td>False</td>\n",
       "      <td>...</td>\n",
       "      <td>85.565844</td>\n",
       "      <td>27.817653</td>\n",
       "      <td>85.347351</td>\n",
       "      <td>27.728201</td>\n",
       "      <td>27006</td>\n",
       "      <td>2.0</td>\n",
       "      <td>85.303927</td>\n",
       "      <td>27.695357</td>\n",
       "      <td>3</td>\n",
       "      <td>3716.0</td>\n",
       "    </tr>\n",
       "    <tr>\n",
       "      <th>2</th>\n",
       "      <td>15</td>\n",
       "      <td>2020-04-14T12:59:03.097377+05:45</td>\n",
       "      <td>2020-05-24T16:45:27.983589+05:45</td>\n",
       "      <td>2020-04-23</td>\n",
       "      <td>active</td>\n",
       "      <td>NaT</td>\n",
       "      <td>27</td>\n",
       "      <td>3</td>\n",
       "      <td>Kathmandu</td>\n",
       "      <td>True</td>\n",
       "      <td>...</td>\n",
       "      <td>85.565844</td>\n",
       "      <td>27.817653</td>\n",
       "      <td>85.347351</td>\n",
       "      <td>27.728201</td>\n",
       "      <td>27005</td>\n",
       "      <td>2.0</td>\n",
       "      <td>85.370910</td>\n",
       "      <td>27.692810</td>\n",
       "      <td>3</td>\n",
       "      <td>3837.0</td>\n",
       "    </tr>\n",
       "    <tr>\n",
       "      <th>3</th>\n",
       "      <td>16</td>\n",
       "      <td>2020-04-14T12:59:53.539214+05:45</td>\n",
       "      <td>2020-04-23T16:55:04.611254+05:45</td>\n",
       "      <td>2020-04-23</td>\n",
       "      <td>recovered</td>\n",
       "      <td>NaT</td>\n",
       "      <td>27</td>\n",
       "      <td>3</td>\n",
       "      <td>Kathmandu</td>\n",
       "      <td>False</td>\n",
       "      <td>...</td>\n",
       "      <td>85.565844</td>\n",
       "      <td>27.817653</td>\n",
       "      <td>85.347351</td>\n",
       "      <td>27.728201</td>\n",
       "      <td>27005</td>\n",
       "      <td>2.0</td>\n",
       "      <td>85.371457</td>\n",
       "      <td>27.692974</td>\n",
       "      <td>3</td>\n",
       "      <td>3837.0</td>\n",
       "    </tr>\n",
       "    <tr>\n",
       "      <th>4</th>\n",
       "      <td>220</td>\n",
       "      <td>2020-05-12T22:38:57.878594+05:45</td>\n",
       "      <td>2020-05-23T13:12:30.865361+05:45</td>\n",
       "      <td>2020-05-21</td>\n",
       "      <td>recovered</td>\n",
       "      <td>NaT</td>\n",
       "      <td>27</td>\n",
       "      <td>3</td>\n",
       "      <td>Kathmandu</td>\n",
       "      <td>False</td>\n",
       "      <td>...</td>\n",
       "      <td>85.565844</td>\n",
       "      <td>27.817653</td>\n",
       "      <td>85.347351</td>\n",
       "      <td>27.728201</td>\n",
       "      <td>27001</td>\n",
       "      <td>NaN</td>\n",
       "      <td>85.356898</td>\n",
       "      <td>27.734822</td>\n",
       "      <td>3</td>\n",
       "      <td>3809.0</td>\n",
       "    </tr>\n",
       "  </tbody>\n",
       "</table>\n",
       "<p>5 rows × 27 columns</p>\n",
       "</div>"
      ],
      "text/plain": [
       "    id                        Created On                       Modified On  \\\n",
       "0    1  2020-04-08T12:10:46.924551+05:45  2020-04-29T10:23:24.996211+05:45   \n",
       "1    2  2020-04-08T12:10:46.924551+05:45  2020-04-18T15:44:15.656734+05:45   \n",
       "2   15  2020-04-14T12:59:03.097377+05:45  2020-05-24T16:45:27.983589+05:45   \n",
       "3   16  2020-04-14T12:59:53.539214+05:45  2020-04-23T16:55:04.611254+05:45   \n",
       "4  220  2020-05-12T22:38:57.878594+05:45  2020-05-23T13:12:30.865361+05:45   \n",
       "\n",
       "  Recovered On Current State Death On  District  Province  Districts  \\\n",
       "0   2020-01-31     recovered      NaT        27         3  Kathmandu   \n",
       "1   2020-04-18     recovered      NaT        27         3  Kathmandu   \n",
       "2   2020-04-23        active      NaT        27         3  Kathmandu   \n",
       "3   2020-04-23     recovered      NaT        27         3  Kathmandu   \n",
       "4   2020-05-21     recovered      NaT        27         3  Kathmandu   \n",
       "\n",
       "   Is Reinfected  ...     Bbox/2     Bbox/3  Centroid/Coordinates/0  \\\n",
       "0          False  ...  85.565844  27.817653               85.347351   \n",
       "1          False  ...  85.565844  27.817653               85.347351   \n",
       "2           True  ...  85.565844  27.817653               85.347351   \n",
       "3          False  ...  85.565844  27.817653               85.347351   \n",
       "4          False  ...  85.565844  27.817653               85.347351   \n",
       "\n",
       "  Centroid/Coordinates/1 Municipality  Nationality  point/coordinates/0  \\\n",
       "0              27.728201        27006          2.0            85.306941   \n",
       "1              27.728201        27006          2.0            85.303927   \n",
       "2              27.728201        27005          2.0            85.370910   \n",
       "3              27.728201        27005          2.0            85.371457   \n",
       "4              27.728201        27001          NaN            85.356898   \n",
       "\n",
       "   point/coordinates/1  Province (District)    Ward  \n",
       "0            27.695445                    3  3716.0  \n",
       "1            27.695357                    3  3716.0  \n",
       "2            27.692810                    3  3837.0  \n",
       "3            27.692974                    3  3837.0  \n",
       "4            27.734822                    3  3809.0  \n",
       "\n",
       "[5 rows x 27 columns]"
      ]
     },
     "execution_count": 5,
     "metadata": {},
     "output_type": "execute_result"
    }
   ],
   "source": [
    "df.head()"
   ]
  },
  {
   "cell_type": "code",
   "execution_count": null,
   "metadata": {},
   "outputs": [],
   "source": []
  },
  {
   "cell_type": "code",
   "execution_count": null,
   "metadata": {},
   "outputs": [],
   "source": []
  },
  {
   "cell_type": "code",
   "execution_count": null,
   "metadata": {},
   "outputs": [],
   "source": []
  },
  {
   "cell_type": "code",
   "execution_count": null,
   "metadata": {},
   "outputs": [],
   "source": []
  },
  {
   "cell_type": "code",
   "execution_count": null,
   "metadata": {},
   "outputs": [],
   "source": []
  },
  {
   "cell_type": "code",
   "execution_count": null,
   "metadata": {},
   "outputs": [],
   "source": []
  },
  {
   "cell_type": "code",
   "execution_count": null,
   "metadata": {},
   "outputs": [],
   "source": []
  },
  {
   "cell_type": "code",
   "execution_count": null,
   "metadata": {},
   "outputs": [],
   "source": []
  },
  {
   "cell_type": "code",
   "execution_count": null,
   "metadata": {},
   "outputs": [],
   "source": []
  },
  {
   "cell_type": "code",
   "execution_count": null,
   "metadata": {},
   "outputs": [],
   "source": []
  },
  {
   "cell_type": "code",
   "execution_count": null,
   "metadata": {},
   "outputs": [],
   "source": []
  },
  {
   "cell_type": "code",
   "execution_count": null,
   "metadata": {},
   "outputs": [],
   "source": []
  },
  {
   "cell_type": "code",
   "execution_count": null,
   "metadata": {},
   "outputs": [],
   "source": []
  },
  {
   "cell_type": "code",
   "execution_count": null,
   "metadata": {},
   "outputs": [],
   "source": []
  },
  {
   "cell_type": "code",
   "execution_count": null,
   "metadata": {},
   "outputs": [],
   "source": []
  },
  {
   "cell_type": "code",
   "execution_count": null,
   "metadata": {},
   "outputs": [],
   "source": []
  },
  {
   "cell_type": "code",
   "execution_count": null,
   "metadata": {},
   "outputs": [],
   "source": []
  },
  {
   "cell_type": "code",
   "execution_count": null,
   "metadata": {},
   "outputs": [],
   "source": []
  },
  {
   "cell_type": "code",
   "execution_count": null,
   "metadata": {},
   "outputs": [],
   "source": []
  },
  {
   "cell_type": "code",
   "execution_count": null,
   "metadata": {},
   "outputs": [],
   "source": []
  },
  {
   "cell_type": "code",
   "execution_count": null,
   "metadata": {},
   "outputs": [],
   "source": []
  },
  {
   "cell_type": "code",
   "execution_count": null,
   "metadata": {},
   "outputs": [],
   "source": []
  },
  {
   "cell_type": "code",
   "execution_count": null,
   "metadata": {},
   "outputs": [],
   "source": []
  },
  {
   "cell_type": "code",
   "execution_count": null,
   "metadata": {},
   "outputs": [],
   "source": []
  },
  {
   "cell_type": "code",
   "execution_count": null,
   "metadata": {},
   "outputs": [],
   "source": []
  },
  {
   "cell_type": "code",
   "execution_count": null,
   "metadata": {},
   "outputs": [],
   "source": []
  },
  {
   "cell_type": "code",
   "execution_count": null,
   "metadata": {},
   "outputs": [],
   "source": []
  },
  {
   "cell_type": "code",
   "execution_count": null,
   "metadata": {},
   "outputs": [],
   "source": []
  },
  {
   "cell_type": "code",
   "execution_count": null,
   "metadata": {},
   "outputs": [],
   "source": []
  },
  {
   "cell_type": "code",
   "execution_count": null,
   "metadata": {},
   "outputs": [],
   "source": []
  },
  {
   "cell_type": "code",
   "execution_count": null,
   "metadata": {},
   "outputs": [],
   "source": []
  },
  {
   "cell_type": "code",
   "execution_count": null,
   "metadata": {},
   "outputs": [],
   "source": []
  },
  {
   "cell_type": "code",
   "execution_count": null,
   "metadata": {},
   "outputs": [],
   "source": []
  },
  {
   "cell_type": "code",
   "execution_count": null,
   "metadata": {},
   "outputs": [],
   "source": []
  },
  {
   "cell_type": "code",
   "execution_count": null,
   "metadata": {},
   "outputs": [],
   "source": []
  },
  {
   "cell_type": "code",
   "execution_count": null,
   "metadata": {},
   "outputs": [],
   "source": []
  },
  {
   "cell_type": "code",
   "execution_count": null,
   "metadata": {},
   "outputs": [],
   "source": []
  },
  {
   "cell_type": "code",
   "execution_count": null,
   "metadata": {},
   "outputs": [],
   "source": []
  },
  {
   "cell_type": "code",
   "execution_count": null,
   "metadata": {},
   "outputs": [],
   "source": []
  },
  {
   "cell_type": "code",
   "execution_count": null,
   "metadata": {},
   "outputs": [],
   "source": []
  },
  {
   "cell_type": "code",
   "execution_count": null,
   "metadata": {},
   "outputs": [],
   "source": []
  },
  {
   "cell_type": "code",
   "execution_count": null,
   "metadata": {},
   "outputs": [],
   "source": []
  },
  {
   "cell_type": "code",
   "execution_count": null,
   "metadata": {},
   "outputs": [],
   "source": []
  },
  {
   "cell_type": "code",
   "execution_count": null,
   "metadata": {},
   "outputs": [],
   "source": []
  },
  {
   "cell_type": "code",
   "execution_count": null,
   "metadata": {},
   "outputs": [],
   "source": []
  },
  {
   "cell_type": "code",
   "execution_count": null,
   "metadata": {},
   "outputs": [],
   "source": []
  },
  {
   "cell_type": "code",
   "execution_count": null,
   "metadata": {},
   "outputs": [],
   "source": []
  },
  {
   "cell_type": "code",
   "execution_count": null,
   "metadata": {},
   "outputs": [],
   "source": []
  },
  {
   "cell_type": "code",
   "execution_count": null,
   "metadata": {},
   "outputs": [],
   "source": []
  },
  {
   "cell_type": "code",
   "execution_count": null,
   "metadata": {},
   "outputs": [],
   "source": []
  },
  {
   "cell_type": "code",
   "execution_count": null,
   "metadata": {},
   "outputs": [],
   "source": []
  },
  {
   "cell_type": "code",
   "execution_count": null,
   "metadata": {},
   "outputs": [],
   "source": []
  },
  {
   "cell_type": "code",
   "execution_count": null,
   "metadata": {},
   "outputs": [],
   "source": []
  },
  {
   "cell_type": "code",
   "execution_count": null,
   "metadata": {},
   "outputs": [],
   "source": []
  },
  {
   "cell_type": "code",
   "execution_count": null,
   "metadata": {},
   "outputs": [],
   "source": []
  },
  {
   "cell_type": "code",
   "execution_count": null,
   "metadata": {},
   "outputs": [],
   "source": []
  },
  {
   "cell_type": "code",
   "execution_count": null,
   "metadata": {},
   "outputs": [],
   "source": []
  }
 ],
 "metadata": {
  "kernelspec": {
   "display_name": "Python 3",
   "language": "python",
   "name": "python3"
  },
  "language_info": {
   "codemirror_mode": {
    "name": "ipython",
    "version": 3
   },
   "file_extension": ".py",
   "mimetype": "text/x-python",
   "name": "python",
   "nbconvert_exporter": "python",
   "pygments_lexer": "ipython3",
   "version": "3.7.7"
  }
 },
 "nbformat": 4,
 "nbformat_minor": 4
}
