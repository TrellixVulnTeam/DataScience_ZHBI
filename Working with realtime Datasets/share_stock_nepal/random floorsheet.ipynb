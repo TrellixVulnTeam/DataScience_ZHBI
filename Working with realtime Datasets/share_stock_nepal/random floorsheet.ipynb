{
 "cells": [
  {
   "cell_type": "code",
   "execution_count": 2,
   "id": "89fd88f3",
   "metadata": {},
   "outputs": [],
   "source": [
    "import pandas as pd\n",
    "import numpy as np\n",
    "import seaborn as sns\n",
    "import matplotlib.pyplot as pl"
   ]
  },
  {
   "cell_type": "code",
   "execution_count": 3,
   "id": "255630c8",
   "metadata": {},
   "outputs": [],
   "source": [
    "letters = list('ABCDEFGHIJKLMNOPQRSTUVWXYZ')\n",
    "company_symbol = [''.join(np.random.choice(letters,5)) for i in range(20)]"
   ]
  },
  {
   "cell_type": "code",
   "execution_count": 23,
   "id": "22c77870",
   "metadata": {},
   "outputs": [],
   "source": [
    "df = pd.DataFrame({\n",
    "    'contract no':np.random.randint(111111,999999,(10000)),\n",
    "    'stock_symbol':np.random.choice(company_symbol,10000),\n",
    "    'buyer_broker':np.random.randint(1,20,10000),\n",
    "    'seller_broker':np.random.randint(1,20,10000),\n",
    "    'quantity':np.random.randint(50,1000,10000),\n",
    "    'rate':np.random.randint(100,10000,10000)\n",
    "}).reset_index().rename(columns={'index':'sn'})"
   ]
  },
  {
   "cell_type": "code",
   "execution_count": 24,
   "id": "b249ece1",
   "metadata": {},
   "outputs": [],
   "source": [
    "df[\"amount\"] = df[\"quantity\"]* df[\"rate\"]"
   ]
  },
  {
   "cell_type": "code",
   "execution_count": 25,
   "id": "cb64a39b",
   "metadata": {},
   "outputs": [
    {
     "data": {
      "text/html": [
       "<div>\n",
       "<style scoped>\n",
       "    .dataframe tbody tr th:only-of-type {\n",
       "        vertical-align: middle;\n",
       "    }\n",
       "\n",
       "    .dataframe tbody tr th {\n",
       "        vertical-align: top;\n",
       "    }\n",
       "\n",
       "    .dataframe thead th {\n",
       "        text-align: right;\n",
       "    }\n",
       "</style>\n",
       "<table border=\"1\" class=\"dataframe\">\n",
       "  <thead>\n",
       "    <tr style=\"text-align: right;\">\n",
       "      <th></th>\n",
       "      <th>sn</th>\n",
       "      <th>contract no</th>\n",
       "      <th>stock_symbol</th>\n",
       "      <th>buyer_broker</th>\n",
       "      <th>seller_broker</th>\n",
       "      <th>quantity</th>\n",
       "      <th>rate</th>\n",
       "      <th>amount</th>\n",
       "    </tr>\n",
       "  </thead>\n",
       "  <tbody>\n",
       "    <tr>\n",
       "      <th>0</th>\n",
       "      <td>0</td>\n",
       "      <td>691815</td>\n",
       "      <td>MJSIE</td>\n",
       "      <td>10</td>\n",
       "      <td>17</td>\n",
       "      <td>537</td>\n",
       "      <td>8171</td>\n",
       "      <td>4387827</td>\n",
       "    </tr>\n",
       "    <tr>\n",
       "      <th>1</th>\n",
       "      <td>1</td>\n",
       "      <td>232947</td>\n",
       "      <td>CEWIS</td>\n",
       "      <td>11</td>\n",
       "      <td>15</td>\n",
       "      <td>585</td>\n",
       "      <td>495</td>\n",
       "      <td>289575</td>\n",
       "    </tr>\n",
       "    <tr>\n",
       "      <th>2</th>\n",
       "      <td>2</td>\n",
       "      <td>700661</td>\n",
       "      <td>IQOQW</td>\n",
       "      <td>9</td>\n",
       "      <td>6</td>\n",
       "      <td>773</td>\n",
       "      <td>8904</td>\n",
       "      <td>6882792</td>\n",
       "    </tr>\n",
       "    <tr>\n",
       "      <th>3</th>\n",
       "      <td>3</td>\n",
       "      <td>960523</td>\n",
       "      <td>BIYTI</td>\n",
       "      <td>7</td>\n",
       "      <td>2</td>\n",
       "      <td>239</td>\n",
       "      <td>1158</td>\n",
       "      <td>276762</td>\n",
       "    </tr>\n",
       "    <tr>\n",
       "      <th>4</th>\n",
       "      <td>4</td>\n",
       "      <td>953959</td>\n",
       "      <td>PFLVV</td>\n",
       "      <td>8</td>\n",
       "      <td>6</td>\n",
       "      <td>615</td>\n",
       "      <td>2799</td>\n",
       "      <td>1721385</td>\n",
       "    </tr>\n",
       "  </tbody>\n",
       "</table>\n",
       "</div>"
      ],
      "text/plain": [
       "   sn  contract no stock_symbol  buyer_broker  seller_broker  quantity  rate  \\\n",
       "0   0       691815        MJSIE            10             17       537  8171   \n",
       "1   1       232947        CEWIS            11             15       585   495   \n",
       "2   2       700661        IQOQW             9              6       773  8904   \n",
       "3   3       960523        BIYTI             7              2       239  1158   \n",
       "4   4       953959        PFLVV             8              6       615  2799   \n",
       "\n",
       "    amount  \n",
       "0  4387827  \n",
       "1   289575  \n",
       "2  6882792  \n",
       "3   276762  \n",
       "4  1721385  "
      ]
     },
     "execution_count": 25,
     "metadata": {},
     "output_type": "execute_result"
    }
   ],
   "source": [
    "df.head()"
   ]
  },
  {
   "cell_type": "code",
   "execution_count": null,
   "id": "07cb199f",
   "metadata": {},
   "outputs": [],
   "source": []
  },
  {
   "cell_type": "code",
   "execution_count": null,
   "id": "6892659f",
   "metadata": {},
   "outputs": [],
   "source": []
  },
  {
   "cell_type": "code",
   "execution_count": null,
   "id": "edc5793c",
   "metadata": {},
   "outputs": [],
   "source": []
  },
  {
   "cell_type": "code",
   "execution_count": null,
   "id": "e55c6091",
   "metadata": {},
   "outputs": [],
   "source": []
  },
  {
   "cell_type": "code",
   "execution_count": null,
   "id": "8ac3bb50",
   "metadata": {},
   "outputs": [],
   "source": []
  },
  {
   "cell_type": "code",
   "execution_count": null,
   "id": "334a1f38",
   "metadata": {},
   "outputs": [],
   "source": []
  },
  {
   "cell_type": "code",
   "execution_count": null,
   "id": "6af285cc",
   "metadata": {},
   "outputs": [],
   "source": []
  },
  {
   "cell_type": "code",
   "execution_count": null,
   "id": "2c9b079a",
   "metadata": {},
   "outputs": [],
   "source": []
  },
  {
   "cell_type": "code",
   "execution_count": null,
   "id": "e4a6e67d",
   "metadata": {},
   "outputs": [],
   "source": []
  }
 ],
 "metadata": {
  "kernelspec": {
   "display_name": "Python 3",
   "language": "python",
   "name": "python3"
  },
  "language_info": {
   "codemirror_mode": {
    "name": "ipython",
    "version": 3
   },
   "file_extension": ".py",
   "mimetype": "text/x-python",
   "name": "python",
   "nbconvert_exporter": "python",
   "pygments_lexer": "ipython3",
   "version": "3.9.5"
  }
 },
 "nbformat": 4,
 "nbformat_minor": 5
}
