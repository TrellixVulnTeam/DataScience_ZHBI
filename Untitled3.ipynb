{
 "cells": [
  {
   "cell_type": "code",
   "execution_count": null,
   "metadata": {},
   "outputs": [],
   "source": [
    "class ff:\n",
    "    def __init__(self,var):\n",
    "        self.var=var\n",
    "        \n",
    "    \n",
    "    def get(self,age):\n",
    "        age=self.age\n",
    "        \n",
    "        \n",
    "        \n",
    "    def set(self,age):\n",
    "        print(self.age)\n",
    "        \n",
    "        \n",
    "obj=  ff(\"sdasd\")\n",
    "obj2= ff()\n",
    "\n",
    "\n",
    "obj.get(\"sdasd\")\n",
    "ob2.get(\"sdasdas\")"
   ]
  }
 ],
 "metadata": {
  "kernelspec": {
   "display_name": "Python 3",
   "language": "python",
   "name": "python3"
  },
  "language_info": {
   "codemirror_mode": {
    "name": "ipython",
    "version": 3
   },
   "file_extension": ".py",
   "mimetype": "text/x-python",
   "name": "python",
   "nbconvert_exporter": "python",
   "pygments_lexer": "ipython3",
   "version": "3.7.7"
  }
 },
 "nbformat": 4,
 "nbformat_minor": 4
}
