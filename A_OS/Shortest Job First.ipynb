{
 "cells": [
  {
   "cell_type": "raw",
   "metadata": {},
   "source": [
    "Max CPU utilization [Keep CPU as busy as possible]\n",
    "Fair allocation of CPU.\n",
    "Max throughput [Number of processes that complete their execution per time unit]\n",
    "Min turnaround time [Time taken by a process to finish execution]\n",
    "Min waiting time [Time a process waits in ready queue]\n",
    "Min response time [Time when a process produces first response]"
   ]
  },
  {
   "cell_type": "raw",
   "metadata": {},
   "source": [
    "The process with lowest arrival time will be checked first and \n",
    "its burst time will also be verified. The one with less burst time will \n",
    "be selected first"
   ]
  },
  {
   "cell_type": "code",
   "execution_count": 1,
   "metadata": {},
   "outputs": [],
   "source": [
    "import pandas as pd"
   ]
  },
  {
   "cell_type": "code",
   "execution_count": 87,
   "metadata": {},
   "outputs": [
    {
     "data": {
      "application/javascript": [
       "\n",
       "        if (window._pyforest_update_imports_cell) { window._pyforest_update_imports_cell('import pandas as pd'); }\n",
       "    "
      ],
      "text/plain": [
       "<IPython.core.display.Javascript object>"
      ]
     },
     "metadata": {},
     "output_type": "display_data"
    },
    {
     "name": "stdout",
     "output_type": "stream",
     "text": [
      "  Process  Arrivals  Bursts\n",
      "0      p1        30       5\n",
      "1      p2        25       1\n",
      "2      p3         8       2\n",
      "3      p4         3       2\n",
      "4      p5         3       1\n",
      "5      p6        14       4\n",
      "6      p7        14       3\n",
      "7      p8        14       1\n",
      "______________________________________________\n",
      "Original:\n",
      "['p1', 'p2', 'p3', 'p4', 'p5', 'p6', 'p7', 'p8'] [30, 25, 8, 3, 3, 14, 14, 14] [5, 1, 2, 2, 1, 4, 3, 1]\n",
      "Temp\n",
      "['p4', 'p5'] [2, 1] [3, 3]\n",
      "4,3,\n",
      "Original:\n",
      "['p1', 'p2', 'p3', 'p6', 'p7', 'p8'] [30, 25, 8, 14, 14, 14] [5, 1, 2, 4, 3, 1]\n",
      "Temp\n",
      "['p3'] [2] [8]\n",
      "2,\n",
      "Original:\n",
      "['p1', 'p2', 'p6', 'p7', 'p8'] [30, 25, 14, 14, 14] [5, 1, 4, 3, 1]\n",
      "Temp\n",
      "['p6', 'p7', 'p8'] [4, 3, 1] [14, 14, 14]\n",
      "4,3,2,\n",
      "Original:\n",
      "['p1', 'p2'] [30, 25] [5, 1]\n",
      "Temp\n",
      "['p2'] [1] [25]\n",
      "1,\n",
      "Original:\n",
      "['p1'] [30] [5]\n",
      "Temp\n",
      "['p1'] [5] [30]\n",
      "0,\n",
      "___________________________________________________________\n",
      "['CPU idle:3', 'p5', 'p4', 'CPU idle:2', 'p3', 'CPU idle:4', 'p8', 'p7', 'p6', 'CPU idle:3', 'p2', 'CPU idle:4', 'p1']\n",
      "35\n",
      "___________________________________________________________\n"
     ]
    }
   ],
   "source": [
    "\n",
    "process=['p1','p2','p3','p4','p5','p6','p7','p8']\n",
    "arrival=[30,25,8,3,3,14,14,14]\n",
    "burst=[5,1,2,2,1,4,3,1]\n",
    "print(pd.DataFrame({'Process':process,\n",
    "                   'Arrivals':arrival,\n",
    "                   'Bursts':burst}))\n",
    "\n",
    "print('______________________________________________')\n",
    "def find_other_arrivals(arrival,arrival_t,burst,available,process_to_execute):\n",
    "    arrival_temp=[]\n",
    "    bursts_temp=[]\n",
    "    bursts_index=[]\n",
    "    process_temp=[]\n",
    "    print('Original:')\n",
    "    print(process,arrival,burst)\n",
    "    for i,j in enumerate(arrival):\n",
    "        if j==arrival_t:\n",
    "            arrival_temp.append(j)\n",
    "            bursts_temp.append(burst[i])\n",
    "            process_temp.append(process[i])          \n",
    "            bursts_index.append(i)\n",
    "\n",
    "            \n",
    "    print('Temp')\n",
    "    print(process_temp,bursts_temp,arrival_temp)\n",
    "    \n",
    "    for i in range(1, len(bursts_temp)): \n",
    "        key = bursts_temp[i] \n",
    "        proc=process_temp[i]\n",
    "        j = i-1\n",
    "        while j >=0 and key < bursts_temp[j] : \n",
    "                bursts_temp[j+1] = bursts_temp[j] \n",
    "                process_temp[j+1] = process_temp[j]\n",
    "                j -= 1\n",
    "        process_temp[j+1] = proc\n",
    "        bursts_temp[j+1] = key\n",
    "        \n",
    "    for i,j,k in zip(process_temp,bursts_temp,arrival_temp):\n",
    "        process_to_execute.append(i)\n",
    "        available+=j\n",
    "    \n",
    "    for i in sorted(bursts_index,reverse=True):\n",
    "        print(i,end=',')\n",
    "        del (arrival[i])\n",
    "        del (process[i])\n",
    "        del (burst[i])\n",
    "    print()\n",
    "#     print(available)\n",
    "    return available\n",
    "    \n",
    "\n",
    "def shortest_job_first(process,arrival,burst):\n",
    "    available=0\n",
    "    first_arrival=min(arrival)\n",
    "    process_to_execute=[]\n",
    "    completion_time=[0]*len(process)\n",
    "    \n",
    "#     print(first_arrival)\n",
    "    cpu_idle=first_arrival-available\n",
    "    if cpu_idle>0:\n",
    "        process_to_execute.append('CPU idle:{}'.format(cpu_idle))\n",
    "        available+=cpu_idle\n",
    "    \n",
    "    \n",
    "#     print(first_arrival,available)\n",
    "    while(len(process)!=0):\n",
    "        first_arrival=min(arrival)\n",
    "        if first_arrival>available:\n",
    "            temp=first_arrival-available\n",
    "            process_to_execute.append('CPU idle:{}'.format(temp))\n",
    "            available+=temp\n",
    "        available=find_other_arrivals(arrival,first_arrival,burst,available,process_to_execute)\n",
    "    print('___________________________________________________________')\n",
    "    print(process_to_execute)\n",
    "    print(available)\n",
    "    print('___________________________________________________________')\n",
    "\n",
    "shortest_job_first(process,arrival,burst)\n",
    "\n"
   ]
  },
  {
   "cell_type": "code",
   "execution_count": 1,
   "metadata": {},
   "outputs": [],
   "source": [
    "import random\n",
    "class Process(object):\n",
    "    def __init__(self, pid, start_time):\n",
    "        self.start_time = start_time #when process is added to memory\n",
    "        self.run_progress = 0\n",
    "        self.pid = pid\n",
    "        self.time_req = random.randint(500,7500)\n",
    "        self.priority = random.randint(0,4)\n",
    "        self.initwait = 0\n",
    "        self.totwait = 0\n",
    "        self.turnaround = 0\n",
    "    def run(self, runtime):\n",
    "        self.run_progress += runtime\n",
    "    def isDone(self):\n",
    "        return self.run_progress >= self.time_req\n",
    "    \n",
    "numProcs = 5\n",
    "procs = [Process(i, 0) for i in range(numProcs//4)] + [Process(i + numProcs//4, random.randint(100,2500)) for i in range(3*numProcs//4)]\n"
   ]
  },
  {
   "cell_type": "code",
   "execution_count": 2,
   "metadata": {},
   "outputs": [
    {
     "data": {
      "text/plain": [
       "[<__main__.Process at 0x24eb79d0dc8>,\n",
       " <__main__.Process at 0x24eb7997888>,\n",
       " <__main__.Process at 0x24eb7997608>,\n",
       " <__main__.Process at 0x24eb79978c8>]"
      ]
     },
     "execution_count": 2,
     "metadata": {},
     "output_type": "execute_result"
    }
   ],
   "source": [
    "procs"
   ]
  },
  {
   "cell_type": "code",
   "execution_count": null,
   "metadata": {},
   "outputs": [],
   "source": []
  },
  {
   "cell_type": "code",
   "execution_count": null,
   "metadata": {},
   "outputs": [],
   "source": []
  },
  {
   "cell_type": "code",
   "execution_count": null,
   "metadata": {},
   "outputs": [],
   "source": []
  },
  {
   "cell_type": "code",
   "execution_count": null,
   "metadata": {},
   "outputs": [],
   "source": []
  }
 ],
 "metadata": {
  "kernelspec": {
   "display_name": "Python 3",
   "language": "python",
   "name": "python3"
  },
  "language_info": {
   "codemirror_mode": {
    "name": "ipython",
    "version": 3
   },
   "file_extension": ".py",
   "mimetype": "text/x-python",
   "name": "python",
   "nbconvert_exporter": "python",
   "pygments_lexer": "ipython3",
   "version": "3.7.7"
  }
 },
 "nbformat": 4,
 "nbformat_minor": 4
}
