{
 "cells": [
  {
   "cell_type": "code",
   "execution_count": 2,
   "id": "89fd88f3",
   "metadata": {},
   "outputs": [],
   "source": [
    "import pandas as pd\n",
    "import numpy as np\n",
    "import seaborn as sns\n",
    "import matplotlib.pyplot as pl"
   ]
  },
  {
   "cell_type": "code",
   "execution_count": 3,
   "id": "255630c8",
   "metadata": {},
   "outputs": [],
   "source": [
    "letters = list('ABCDEFGHIJKLMNOPQRSTUVWXYZ')\n",
    "company_symbol = [''.join(np.random.choice(letters,5)) for i in range(20)]"
   ]
  },
  {
   "cell_type": "code",
   "execution_count": 79,
   "id": "22c77870",
   "metadata": {},
   "outputs": [],
   "source": [
    "df = pd.DataFrame({\n",
    "    'contract no':np.random.randint(111111,999999,(10000)),\n",
    "    'stock_symbol':np.random.choice(company_symbol,10000),\n",
    "    'buyer_broker':np.random.randint(1,20,10000),\n",
    "    'seller_broker':np.random.randint(1,20,10000),\n",
    "    'quantity':np.random.randint(50,1000,10000),\n",
    "    'rate':np.random.randint(100,10000,10000),\n",
    "    'date':[f\"20{k}-{i}-{j}\" for k in range(10,50) for i in range(1,11) for j in range(1,29)][:10000]\n",
    "}).reset_index().rename(columns={'index':'sn'})"
   ]
  },
  {
   "cell_type": "code",
   "execution_count": 80,
   "id": "b249ece1",
   "metadata": {},
   "outputs": [],
   "source": [
    "df[\"amount\"] = df[\"quantity\"]* df[\"rate\"]\n",
    "df['date']=pd.to_datetime(df['date'])"
   ]
  },
  {
   "cell_type": "code",
   "execution_count": 81,
   "id": "90856f72",
   "metadata": {},
   "outputs": [
    {
     "data": {
      "text/html": [
       "<div>\n",
       "<style scoped>\n",
       "    .dataframe tbody tr th:only-of-type {\n",
       "        vertical-align: middle;\n",
       "    }\n",
       "\n",
       "    .dataframe tbody tr th {\n",
       "        vertical-align: top;\n",
       "    }\n",
       "\n",
       "    .dataframe thead th {\n",
       "        text-align: right;\n",
       "    }\n",
       "</style>\n",
       "<table border=\"1\" class=\"dataframe\">\n",
       "  <thead>\n",
       "    <tr style=\"text-align: right;\">\n",
       "      <th></th>\n",
       "      <th>sn</th>\n",
       "      <th>contract no</th>\n",
       "      <th>stock_symbol</th>\n",
       "      <th>buyer_broker</th>\n",
       "      <th>seller_broker</th>\n",
       "      <th>quantity</th>\n",
       "      <th>rate</th>\n",
       "      <th>date</th>\n",
       "      <th>amount</th>\n",
       "    </tr>\n",
       "  </thead>\n",
       "  <tbody>\n",
       "    <tr>\n",
       "      <th>0</th>\n",
       "      <td>0</td>\n",
       "      <td>823728</td>\n",
       "      <td>SMPWK</td>\n",
       "      <td>9</td>\n",
       "      <td>17</td>\n",
       "      <td>867</td>\n",
       "      <td>5062</td>\n",
       "      <td>2010-01-01</td>\n",
       "      <td>4388754</td>\n",
       "    </tr>\n",
       "    <tr>\n",
       "      <th>1</th>\n",
       "      <td>1</td>\n",
       "      <td>342676</td>\n",
       "      <td>PFLVV</td>\n",
       "      <td>15</td>\n",
       "      <td>17</td>\n",
       "      <td>622</td>\n",
       "      <td>1753</td>\n",
       "      <td>2010-01-02</td>\n",
       "      <td>1090366</td>\n",
       "    </tr>\n",
       "    <tr>\n",
       "      <th>2</th>\n",
       "      <td>2</td>\n",
       "      <td>936780</td>\n",
       "      <td>AIMLZ</td>\n",
       "      <td>1</td>\n",
       "      <td>19</td>\n",
       "      <td>568</td>\n",
       "      <td>860</td>\n",
       "      <td>2010-01-03</td>\n",
       "      <td>488480</td>\n",
       "    </tr>\n",
       "    <tr>\n",
       "      <th>3</th>\n",
       "      <td>3</td>\n",
       "      <td>880927</td>\n",
       "      <td>IQOQW</td>\n",
       "      <td>14</td>\n",
       "      <td>7</td>\n",
       "      <td>411</td>\n",
       "      <td>6148</td>\n",
       "      <td>2010-01-04</td>\n",
       "      <td>2526828</td>\n",
       "    </tr>\n",
       "    <tr>\n",
       "      <th>4</th>\n",
       "      <td>4</td>\n",
       "      <td>313365</td>\n",
       "      <td>IBVAI</td>\n",
       "      <td>7</td>\n",
       "      <td>6</td>\n",
       "      <td>990</td>\n",
       "      <td>5923</td>\n",
       "      <td>2010-01-05</td>\n",
       "      <td>5863770</td>\n",
       "    </tr>\n",
       "  </tbody>\n",
       "</table>\n",
       "</div>"
      ],
      "text/plain": [
       "   sn  contract no stock_symbol  buyer_broker  seller_broker  quantity  rate  \\\n",
       "0   0       823728        SMPWK             9             17       867  5062   \n",
       "1   1       342676        PFLVV            15             17       622  1753   \n",
       "2   2       936780        AIMLZ             1             19       568   860   \n",
       "3   3       880927        IQOQW            14              7       411  6148   \n",
       "4   4       313365        IBVAI             7              6       990  5923   \n",
       "\n",
       "        date   amount  \n",
       "0 2010-01-01  4388754  \n",
       "1 2010-01-02  1090366  \n",
       "2 2010-01-03   488480  \n",
       "3 2010-01-04  2526828  \n",
       "4 2010-01-05  5863770  "
      ]
     },
     "execution_count": 81,
     "metadata": {},
     "output_type": "execute_result"
    }
   ],
   "source": [
    "df.head()"
   ]
  },
  {
   "cell_type": "markdown",
   "id": "e4fe8dc1",
   "metadata": {},
   "source": [
    "# Top buyer broker"
   ]
  },
  {
   "cell_type": "code",
   "execution_count": 82,
   "id": "1f88a60b",
   "metadata": {},
   "outputs": [
    {
     "data": {
      "text/plain": [
       "buyer_broker\n",
       "6     1548634821\n",
       "19    1479086130\n",
       "11    1471514405\n",
       "15    1464112311\n",
       "5     1456421400\n",
       "2     1420374995\n",
       "10    1405524100\n",
       "16    1393140723\n",
       "7     1388064491\n",
       "8     1380933800\n",
       "9     1374100561\n",
       "17    1369684848\n",
       "3     1368530757\n",
       "4     1343033942\n",
       "1     1337263736\n",
       "12    1335017069\n",
       "13    1325660990\n",
       "14    1310478606\n",
       "18    1307737534\n",
       "Name: amount, dtype: int32"
      ]
     },
     "execution_count": 82,
     "metadata": {},
     "output_type": "execute_result"
    }
   ],
   "source": [
    "df.groupby([\"buyer_broker\"])[\"amount\"].sum().sort_values(ascending= False)"
   ]
  },
  {
   "cell_type": "markdown",
   "id": "beaa26ed",
   "metadata": {},
   "source": [
    "# top seller broker"
   ]
  },
  {
   "cell_type": "code",
   "execution_count": 83,
   "id": "c059a159",
   "metadata": {},
   "outputs": [
    {
     "data": {
      "text/plain": [
       "seller_broker\n",
       "15    1537947254\n",
       "6     1508150675\n",
       "9     1499856261\n",
       "12    1495499534\n",
       "10    1472639272\n",
       "3     1467147725\n",
       "2     1446149269\n",
       "5     1414400370\n",
       "11    1410009658\n",
       "7     1403034578\n",
       "16    1367986384\n",
       "19    1359804352\n",
       "8     1355963657\n",
       "1     1349175418\n",
       "4     1322110438\n",
       "17    1308591097\n",
       "18    1273149648\n",
       "14    1269451957\n",
       "13    1218247672\n",
       "Name: amount, dtype: int32"
      ]
     },
     "execution_count": 83,
     "metadata": {},
     "output_type": "execute_result"
    }
   ],
   "source": [
    "df.groupby([\"seller_broker\"])[\"amount\"].sum().sort_values(ascending= False)"
   ]
  },
  {
   "cell_type": "code",
   "execution_count": null,
   "id": "b697e584",
   "metadata": {},
   "outputs": [],
   "source": []
  },
  {
   "cell_type": "code",
   "execution_count": null,
   "id": "afdecfcd",
   "metadata": {},
   "outputs": [],
   "source": []
  },
  {
   "cell_type": "code",
   "execution_count": null,
   "id": "e101b1c0",
   "metadata": {},
   "outputs": [],
   "source": []
  },
  {
   "cell_type": "code",
   "execution_count": null,
   "id": "668f8eff",
   "metadata": {},
   "outputs": [],
   "source": []
  },
  {
   "cell_type": "code",
   "execution_count": null,
   "id": "0d342916",
   "metadata": {},
   "outputs": [],
   "source": []
  },
  {
   "cell_type": "code",
   "execution_count": null,
   "id": "bb877c48",
   "metadata": {},
   "outputs": [],
   "source": []
  },
  {
   "cell_type": "code",
   "execution_count": null,
   "id": "ad341d46",
   "metadata": {},
   "outputs": [],
   "source": []
  }
 ],
 "metadata": {
  "kernelspec": {
   "display_name": "Python 3",
   "language": "python",
   "name": "python3"
  },
  "language_info": {
   "codemirror_mode": {
    "name": "ipython",
    "version": 3
   },
   "file_extension": ".py",
   "mimetype": "text/x-python",
   "name": "python",
   "nbconvert_exporter": "python",
   "pygments_lexer": "ipython3",
   "version": "3.9.5"
  }
 },
 "nbformat": 4,
 "nbformat_minor": 5
}
