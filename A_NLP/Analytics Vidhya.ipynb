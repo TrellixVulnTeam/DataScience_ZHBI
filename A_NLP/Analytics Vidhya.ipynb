{
 "cells": [
  {
   "cell_type": "code",
   "execution_count": 6,
   "metadata": {},
   "outputs": [],
   "source": [
    "from nltk.stem import PorterStemmer\n",
    "from nltk.stem import WordNetLemmatizer\n",
    "import nltk\n",
    "import re"
   ]
  },
  {
   "cell_type": "code",
   "execution_count": 5,
   "metadata": {},
   "outputs": [
    {
     "data": {
      "text/plain": [
       "'sample text'"
      ]
     },
     "execution_count": 5,
     "metadata": {},
     "output_type": "execute_result"
    }
   ],
   "source": [
    "noise_list=['is','a','this','...']\n",
    "def remove_noise(input_text):\n",
    "    words=input_text.split()\n",
    "    noise_free=[word for word in words if word not in noise_list]\n",
    "    noise_free=' '.join(noise_free)\n",
    "    \n",
    "    \n",
    "    \n",
    "    return noise_free\n",
    "\n",
    "remove_noise(\"this is a sample text\")"
   ]
  },
  {
   "cell_type": "code",
   "execution_count": 10,
   "metadata": {},
   "outputs": [
    {
     "data": {
      "text/plain": [
       "'remove this  from analytics vidhya'"
      ]
     },
     "execution_count": 10,
     "metadata": {},
     "output_type": "execute_result"
    }
   ],
   "source": [
    "def remove_noise(input_text):\n",
    "    pattern=\"#[\\w]*\"\n",
    "    urls=re.finditer(pattern,input_text)\n",
    "    for i in urls:\n",
    "        input_text=re.sub(i.group().strip(),'',input_text)\n",
    "        \n",
    "    return input_text\n",
    "\n",
    "remove_noise(\"remove this #hashtag from analytics vidhya\")"
   ]
  },
  {
   "cell_type": "code",
   "execution_count": null,
   "metadata": {},
   "outputs": [],
   "source": [
    "def remove_noise(input_text):\n",
    "    pattern=\"#[\\w]*\"\n",
    "    urls=re.finditer(pattern,input_text)\n",
    "    for i in urls:\n",
    "        input_text=re.sub(i.group().strip(),'',input_text)\n",
    "        \n",
    "    return input_text\n",
    "\n",
    "remove_noise(\"remove this #hashtag from analytics vidhya\")"
   ]
  },
  {
   "cell_type": "code",
   "execution_count": null,
   "metadata": {},
   "outputs": [],
   "source": []
  },
  {
   "cell_type": "code",
   "execution_count": null,
   "metadata": {},
   "outputs": [],
   "source": []
  }
 ],
 "metadata": {
  "kernelspec": {
   "display_name": "Python 3",
   "language": "python",
   "name": "python3"
  },
  "language_info": {
   "codemirror_mode": {
    "name": "ipython",
    "version": 3
   },
   "file_extension": ".py",
   "mimetype": "text/x-python",
   "name": "python",
   "nbconvert_exporter": "python",
   "pygments_lexer": "ipython3",
   "version": "3.7.7"
  }
 },
 "nbformat": 4,
 "nbformat_minor": 4
}
