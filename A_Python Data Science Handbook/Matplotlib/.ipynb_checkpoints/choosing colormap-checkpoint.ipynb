{
 "cells": [
  {
   "cell_type": "code",
   "execution_count": 3,
   "metadata": {},
   "outputs": [],
   "source": [
    "from matplotlib.colors import LinearSegmentedColormap\n",
    "import numpy as np\n",
    "import matplotlib.pyplot as pl"
   ]
  },
  {
   "cell_type": "code",
   "execution_count": 12,
   "metadata": {},
   "outputs": [
    {
     "data": {
      "image/png": "[encoded data removed]",
      "text/plain": [
       "<Figure size 432x144 with 2 Axes>"
      ]
     },
     "metadata": {},
     "output_type": "display_data"
    }
   ],
   "source": [
    "def grayscale_cmap(cmap):\n",
    "    cmap=pl.cm.get_cmap(cmap)\n",
    "    colors=cmap(np.arange(cmap.N))\n",
    "    rgb_wt=[0.299,0.587,0.114]\n",
    "    luminace=np.sqrt(np.dot(colors[:,:3]**2,rgb_wt))\n",
    "    colors[:,:3]=luminace[:,np.newaxis]\n",
    "    return LinearSegmentedColormap.from_list(cmap.name+\"_gray\",colors,cmap.N)\n",
    "\n",
    "def view_colormap(cmap):\n",
    "    cmap=pl.cm.get_cmap(cmap)\n",
    "    colors=cmap(np.arange(cmap.N))\n",
    "    cmap=grayscale_cmap(cmap)\n",
    "    grayscale=cmap(np.arange(cmap.N))\n",
    "\n",
    "    fig,ax=pl.subplots(2,figsize=(6,2),\n",
    "                      subplot_kw=dict(xticks=[],yticks=[]))\n",
    "    ax[0].imshow([colors],extent=[0,10,0,1])\n",
    "    ax[1].imshow([grayscale],extent=[0,10,0,1])\n",
    "view_colormap('jet')"
   ]
  },
  {
   "cell_type": "code",
   "execution_count": null,
   "metadata": {},
   "outputs": [],
   "source": []
  },
  {
   "cell_type": "code",
   "execution_count": null,
   "metadata": {},
   "outputs": [],
   "source": []
  },
  {
   "cell_type": "code",
   "execution_count": null,
   "metadata": {},
   "outputs": [],
   "source": []
  },
  {
   "cell_type": "code",
   "execution_count": null,
   "metadata": {},
   "outputs": [],
   "source": []
  },
  {
   "cell_type": "code",
   "execution_count": null,
   "metadata": {},
   "outputs": [],
   "source": []
  },
  {
   "cell_type": "code",
   "execution_count": null,
   "metadata": {},
   "outputs": [],
   "source": []
  },
  {
   "cell_type": "code",
   "execution_count": null,
   "metadata": {},
   "outputs": [],
   "source": []
  },
  {
   "cell_type": "code",
   "execution_count": null,
   "metadata": {},
   "outputs": [],
   "source": []
  },
  {
   "cell_type": "code",
   "execution_count": null,
   "metadata": {},
   "outputs": [],
   "source": []
  }
 ],
 "metadata": {
  "kernelspec": {
   "display_name": "Python 3",
   "language": "python",
   "name": "python3"
  },
  "language_info": {
   "codemirror_mode": {
    "name": "ipython",
    "version": 3
   },
   "file_extension": ".py",
   "mimetype": "text/x-python",
   "name": "python",
   "nbconvert_exporter": "python",
   "pygments_lexer": "ipython3",
   "version": "3.7.6"
  }
 },
 "nbformat": 4,
 "nbformat_minor": 4
}
