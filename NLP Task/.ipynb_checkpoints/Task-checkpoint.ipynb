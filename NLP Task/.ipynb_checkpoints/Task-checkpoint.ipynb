{
 "cells": [
  {
   "cell_type": "code",
   "execution_count": 261,
   "metadata": {},
   "outputs": [],
   "source": [
    "import pandas as pd\n",
    "import matplotlib.pyplot as pl\n",
    "from gensim.models import Word2Vec,KeyedVectors\n",
    "import nltk\n",
    "from nltk.corpus import stopwords\n",
    "import re\n",
    "\n",
    "from sklearn.feature_extraction.text import CountVectorizer,TfidfVectorizer\n",
    "from sklearn.preprocessing import LabelEncoder\n",
    "from sklearn.svm import SVC\n",
    "from sklearn.linear_model import PassiveAggressiveClassifier\n",
    "from sklearn.naive_bayes import MultinomialNB\n",
    "from sklearn.tree import DecisionTreeClassifier\n",
    "from sklearn.ensemble import RandomForestClassifier\n",
    "from sklearn.linear_model import SGDClassifier\n",
    "\n",
    "from sklearn.metrics.pairwise import cosine_similarity,cosine_distances\n",
    "\n",
    "import numpy as np"
   ]
  },
  {
   "cell_type": "code",
   "execution_count": null,
   "metadata": {},
   "outputs": [],
   "source": []
  },
  {
   "cell_type": "code",
   "execution_count": 262,
   "metadata": {},
   "outputs": [],
   "source": [
    "df=pd.read_excel('data.xlsx')"
   ]
  },
  {
   "cell_type": "code",
   "execution_count": 263,
   "metadata": {},
   "outputs": [
    {
     "data": {
      "text/html": [
       "<div>\n",
       "<style scoped>\n",
       "    .dataframe tbody tr th:only-of-type {\n",
       "        vertical-align: middle;\n",
       "    }\n",
       "\n",
       "    .dataframe tbody tr th {\n",
       "        vertical-align: top;\n",
       "    }\n",
       "\n",
       "    .dataframe thead th {\n",
       "        text-align: right;\n",
       "    }\n",
       "</style>\n",
       "<table border=\"1\" class=\"dataframe\">\n",
       "  <thead>\n",
       "    <tr style=\"text-align: right;\">\n",
       "      <th></th>\n",
       "      <th>Category</th>\n",
       "      <th>Tag</th>\n",
       "      <th>Question</th>\n",
       "      <th>Answer</th>\n",
       "    </tr>\n",
       "  </thead>\n",
       "  <tbody>\n",
       "    <tr>\n",
       "      <th>0</th>\n",
       "      <td>My Account</td>\n",
       "      <td>Rating and Reviews</td>\n",
       "      <td>How to Review Product as well as Seller?</td>\n",
       "      <td>Everything is right here. Please check this ou...</td>\n",
       "    </tr>\n",
       "    <tr>\n",
       "      <th>1</th>\n",
       "      <td>My Account</td>\n",
       "      <td>Rating and Reviews</td>\n",
       "      <td>How to Filter Search Results with Product Rati...</td>\n",
       "      <td>Products can also be filtered according to the...</td>\n",
       "    </tr>\n",
       "    <tr>\n",
       "      <th>2</th>\n",
       "      <td>My Account</td>\n",
       "      <td>Rating and Reviews</td>\n",
       "      <td>What are Ratings &amp; Reviews and how do I write ...</td>\n",
       "      <td>Daraz customers have the option of rating and ...</td>\n",
       "    </tr>\n",
       "    <tr>\n",
       "      <th>3</th>\n",
       "      <td>My Account</td>\n",
       "      <td>Product Warranty</td>\n",
       "      <td>How do I know if a product comes with free ins...</td>\n",
       "      <td>Unfortunately we are not providing the Free In...</td>\n",
       "    </tr>\n",
       "    <tr>\n",
       "      <th>4</th>\n",
       "      <td>My Account</td>\n",
       "      <td>Product Warranty</td>\n",
       "      <td>How do I know if a product comes with warranty?</td>\n",
       "      <td>If a warranty is offered on a product the warr...</td>\n",
       "    </tr>\n",
       "  </tbody>\n",
       "</table>\n",
       "</div>"
      ],
      "text/plain": [
       "     Category                 Tag  \\\n",
       "0  My Account  Rating and Reviews   \n",
       "1  My Account  Rating and Reviews   \n",
       "2  My Account  Rating and Reviews   \n",
       "3  My Account    Product Warranty   \n",
       "4  My Account    Product Warranty   \n",
       "\n",
       "                                            Question  \\\n",
       "0           How to Review Product as well as Seller?   \n",
       "1  How to Filter Search Results with Product Rati...   \n",
       "2  What are Ratings & Reviews and how do I write ...   \n",
       "3  How do I know if a product comes with free ins...   \n",
       "4    How do I know if a product comes with warranty?   \n",
       "\n",
       "                                              Answer  \n",
       "0  Everything is right here. Please check this ou...  \n",
       "1  Products can also be filtered according to the...  \n",
       "2  Daraz customers have the option of rating and ...  \n",
       "3  Unfortunately we are not providing the Free In...  \n",
       "4  If a warranty is offered on a product the warr...  "
      ]
     },
     "execution_count": 263,
     "metadata": {},
     "output_type": "execute_result"
    }
   ],
   "source": [
    "df.head()"
   ]
  },
  {
   "cell_type": "code",
   "execution_count": null,
   "metadata": {},
   "outputs": [],
   "source": []
  },
  {
   "cell_type": "code",
   "execution_count": 264,
   "metadata": {},
   "outputs": [
    {
     "data": {
      "text/plain": [
       "'Daraz customers have the option of rating and reviewing their product and seller experiences.,The customers can both leave star ratings and add text to describe what they liked or disliked about their experience.'"
      ]
     },
     "execution_count": 264,
     "metadata": {},
     "output_type": "execute_result"
    }
   ],
   "source": [
    "txt=df['Answer'][2]\n",
    "txt"
   ]
  },
  {
   "cell_type": "code",
   "execution_count": 265,
   "metadata": {},
   "outputs": [
    {
     "data": {
      "text/plain": [
       "['Daraz customers have the option of rating and reviewing their product and seller experiences.',\n",
       " 'The customers can both leave star ratings and add text to describe what they liked or disliked about their experience.']"
      ]
     },
     "execution_count": 265,
     "metadata": {},
     "output_type": "execute_result"
    }
   ],
   "source": [
    "txt.split(',')"
   ]
  },
  {
   "cell_type": "code",
   "execution_count": 266,
   "metadata": {},
   "outputs": [
    {
     "data": {
      "text/plain": [
       "0             How to Review Product as well as Seller?\n",
       "1    How to Filter Search Results with Product Rati...\n",
       "2    What are Ratings & Reviews and how do I write ...\n",
       "3    How do I know if a product comes with free ins...\n",
       "4      How do I know if a product comes with warranty?\n",
       "Name: Question, dtype: object"
      ]
     },
     "execution_count": 266,
     "metadata": {},
     "output_type": "execute_result"
    }
   ],
   "source": [
    "df['Question'].head()"
   ]
  },
  {
   "cell_type": "code",
   "execution_count": 267,
   "metadata": {},
   "outputs": [],
   "source": [
    "def cleantext(txt):\n",
    "    txt=txt.split()\n",
    "    txt=[i.lower() for i in txt if i not in stopwords.words('english') ]\n",
    "    txt=' '.join(txt)\n",
    "    txt=re.sub(r'[^A-Za-z0-9]',' ',txt)\n",
    "    txt=' '.join(txt.split())\n",
    "    return txt \n",
    "    \n",
    "    \n",
    "cleantext('My name  is  rishav..') \n",
    "df['Cleaned']=df['Question'].apply(lambda x :cleantext(x))"
   ]
  },
  {
   "cell_type": "code",
   "execution_count": 268,
   "metadata": {},
   "outputs": [
    {
     "data": {
      "text/plain": [
       "0                how review product well seller\n",
       "1     how filter search results product ratings\n",
       "2     what ratings reviews i write good reviews\n",
       "3    how i know product comes free installation\n",
       "4             how i know product comes warranty\n",
       "5     i lost warranty card how i claim warranty\n",
       "6        are hidden costs charges i order daraz\n",
       "7                   are prices daraz negotiable\n",
       "8            why i see different prices product\n",
       "9                            how contact vendor\n",
       "Name: Cleaned, dtype: object"
      ]
     },
     "execution_count": 268,
     "metadata": {},
     "output_type": "execute_result"
    }
   ],
   "source": [
    "df['Cleaned'].head(10)"
   ]
  },
  {
   "cell_type": "code",
   "execution_count": 269,
   "metadata": {},
   "outputs": [],
   "source": [
    "vectorizer=TfidfVectorizer()\n",
    "X_=vectorizer.fit_transform(df['Cleaned']).toarray()\n",
    "\n",
    "cv=CountVectorizer()\n",
    "X_cv_=cv.fit_transform(df['Cleaned']).toarray()"
   ]
  },
  {
   "cell_type": "code",
   "execution_count": 270,
   "metadata": {},
   "outputs": [
    {
     "data": {
      "text/plain": [
       "array([[0.        , 0.        , 0.        , 0.        , 0.        ,\n",
       "        0.        , 0.        , 0.        , 0.        , 0.        ,\n",
       "        0.        , 0.        , 0.        , 0.        , 0.        ,\n",
       "        0.        , 0.        , 0.        , 0.        , 0.        ,\n",
       "        0.        , 0.        , 0.        , 0.        , 0.        ,\n",
       "        0.        , 0.        , 0.        , 0.        , 0.        ,\n",
       "        0.        , 0.        , 0.        , 0.        , 0.        ,\n",
       "        0.        , 0.        , 0.        , 0.        , 0.        ,\n",
       "        0.        , 0.        , 0.        , 0.        , 0.        ,\n",
       "        0.        , 0.        , 0.        , 0.28192401, 0.        ,\n",
       "        0.        , 0.        , 0.        , 0.        , 0.        ,\n",
       "        0.        , 0.        , 0.        , 0.        , 0.        ,\n",
       "        0.        , 0.        , 0.        , 0.        , 0.        ,\n",
       "        0.        , 0.        , 0.        , 0.        , 0.        ,\n",
       "        0.        , 0.        , 0.        , 0.        , 0.        ,\n",
       "        0.        , 0.        , 0.        , 0.        , 0.        ,\n",
       "        0.        , 0.3429828 , 0.        , 0.        , 0.        ,\n",
       "        0.        , 0.        , 0.        , 0.        , 0.        ,\n",
       "        0.51732699, 0.        , 0.        , 0.        , 0.        ,\n",
       "        0.        , 0.51732699, 0.        , 0.        , 0.        ,\n",
       "        0.        , 0.        , 0.        , 0.        , 0.        ,\n",
       "        0.        , 0.        , 0.        , 0.        , 0.        ,\n",
       "        0.        , 0.        , 0.        , 0.        , 0.        ,\n",
       "        0.51732699, 0.        , 0.        , 0.        , 0.        ,\n",
       "        0.        , 0.        , 0.        ],\n",
       "       [0.        , 0.        , 0.        , 0.        , 0.        ,\n",
       "        0.        , 0.        , 0.        , 0.        , 0.        ,\n",
       "        0.        , 0.        , 0.        , 0.        , 0.        ,\n",
       "        0.        , 0.        , 0.        , 0.        , 0.        ,\n",
       "        0.        , 0.        , 0.        , 0.        , 0.        ,\n",
       "        0.        , 0.        , 0.        , 0.        , 0.        ,\n",
       "        0.        , 0.        , 0.        , 0.        , 0.        ,\n",
       "        0.        , 0.        , 0.46885265, 0.        , 0.        ,\n",
       "        0.        , 0.        , 0.        , 0.        , 0.        ,\n",
       "        0.        , 0.        , 0.        , 0.25550729, 0.        ,\n",
       "        0.        , 0.        , 0.        , 0.        , 0.        ,\n",
       "        0.        , 0.        , 0.        , 0.        , 0.        ,\n",
       "        0.        , 0.        , 0.        , 0.        , 0.        ,\n",
       "        0.        , 0.        , 0.        , 0.        , 0.        ,\n",
       "        0.        , 0.        , 0.        , 0.        , 0.        ,\n",
       "        0.        , 0.        , 0.        , 0.        , 0.        ,\n",
       "        0.        , 0.31084478, 0.        , 0.        , 0.42263831,\n",
       "        0.        , 0.        , 0.        , 0.46885265, 0.        ,\n",
       "        0.        , 0.        , 0.        , 0.        , 0.46885265,\n",
       "        0.        , 0.        , 0.        , 0.        , 0.        ,\n",
       "        0.        , 0.        , 0.        , 0.        , 0.        ,\n",
       "        0.        , 0.        , 0.        , 0.        , 0.        ,\n",
       "        0.        , 0.        , 0.        , 0.        , 0.        ,\n",
       "        0.        , 0.        , 0.        , 0.        , 0.        ,\n",
       "        0.        , 0.        , 0.        ]])"
      ]
     },
     "execution_count": 270,
     "metadata": {},
     "output_type": "execute_result"
    }
   ],
   "source": [
    "X_[:2]"
   ]
  },
  {
   "cell_type": "code",
   "execution_count": 271,
   "metadata": {},
   "outputs": [
    {
     "data": {
      "text/plain": [
       "(44, 123)"
      ]
     },
     "execution_count": 271,
     "metadata": {},
     "output_type": "execute_result"
    }
   ],
   "source": [
    "X_.shape"
   ]
  },
  {
   "cell_type": "code",
   "execution_count": 272,
   "metadata": {},
   "outputs": [],
   "source": [
    "labelencoder=LabelEncoder()\n",
    "df['Label']=labelencoder.fit_transform(df['Category'])"
   ]
  },
  {
   "cell_type": "code",
   "execution_count": 273,
   "metadata": {},
   "outputs": [
    {
     "data": {
      "text/html": [
       "<div>\n",
       "<style scoped>\n",
       "    .dataframe tbody tr th:only-of-type {\n",
       "        vertical-align: middle;\n",
       "    }\n",
       "\n",
       "    .dataframe tbody tr th {\n",
       "        vertical-align: top;\n",
       "    }\n",
       "\n",
       "    .dataframe thead th {\n",
       "        text-align: right;\n",
       "    }\n",
       "</style>\n",
       "<table border=\"1\" class=\"dataframe\">\n",
       "  <thead>\n",
       "    <tr style=\"text-align: right;\">\n",
       "      <th></th>\n",
       "      <th>Category</th>\n",
       "      <th>Tag</th>\n",
       "      <th>Question</th>\n",
       "      <th>Answer</th>\n",
       "      <th>Cleaned</th>\n",
       "      <th>Label</th>\n",
       "    </tr>\n",
       "  </thead>\n",
       "  <tbody>\n",
       "    <tr>\n",
       "      <th>0</th>\n",
       "      <td>My Account</td>\n",
       "      <td>Rating and Reviews</td>\n",
       "      <td>How to Review Product as well as Seller?</td>\n",
       "      <td>Everything is right here. Please check this ou...</td>\n",
       "      <td>how review product well seller</td>\n",
       "      <td>1</td>\n",
       "    </tr>\n",
       "    <tr>\n",
       "      <th>1</th>\n",
       "      <td>My Account</td>\n",
       "      <td>Rating and Reviews</td>\n",
       "      <td>How to Filter Search Results with Product Rati...</td>\n",
       "      <td>Products can also be filtered according to the...</td>\n",
       "      <td>how filter search results product ratings</td>\n",
       "      <td>1</td>\n",
       "    </tr>\n",
       "    <tr>\n",
       "      <th>2</th>\n",
       "      <td>My Account</td>\n",
       "      <td>Rating and Reviews</td>\n",
       "      <td>What are Ratings &amp; Reviews and how do I write ...</td>\n",
       "      <td>Daraz customers have the option of rating and ...</td>\n",
       "      <td>what ratings reviews i write good reviews</td>\n",
       "      <td>1</td>\n",
       "    </tr>\n",
       "    <tr>\n",
       "      <th>3</th>\n",
       "      <td>My Account</td>\n",
       "      <td>Product Warranty</td>\n",
       "      <td>How do I know if a product comes with free ins...</td>\n",
       "      <td>Unfortunately we are not providing the Free In...</td>\n",
       "      <td>how i know product comes free installation</td>\n",
       "      <td>1</td>\n",
       "    </tr>\n",
       "    <tr>\n",
       "      <th>4</th>\n",
       "      <td>My Account</td>\n",
       "      <td>Product Warranty</td>\n",
       "      <td>How do I know if a product comes with warranty?</td>\n",
       "      <td>If a warranty is offered on a product the warr...</td>\n",
       "      <td>how i know product comes warranty</td>\n",
       "      <td>1</td>\n",
       "    </tr>\n",
       "  </tbody>\n",
       "</table>\n",
       "</div>"
      ],
      "text/plain": [
       "     Category                 Tag  \\\n",
       "0  My Account  Rating and Reviews   \n",
       "1  My Account  Rating and Reviews   \n",
       "2  My Account  Rating and Reviews   \n",
       "3  My Account    Product Warranty   \n",
       "4  My Account    Product Warranty   \n",
       "\n",
       "                                            Question  \\\n",
       "0           How to Review Product as well as Seller?   \n",
       "1  How to Filter Search Results with Product Rati...   \n",
       "2  What are Ratings & Reviews and how do I write ...   \n",
       "3  How do I know if a product comes with free ins...   \n",
       "4    How do I know if a product comes with warranty?   \n",
       "\n",
       "                                              Answer  \\\n",
       "0  Everything is right here. Please check this ou...   \n",
       "1  Products can also be filtered according to the...   \n",
       "2  Daraz customers have the option of rating and ...   \n",
       "3  Unfortunately we are not providing the Free In...   \n",
       "4  If a warranty is offered on a product the warr...   \n",
       "\n",
       "                                      Cleaned  Label  \n",
       "0              how review product well seller      1  \n",
       "1   how filter search results product ratings      1  \n",
       "2   what ratings reviews i write good reviews      1  \n",
       "3  how i know product comes free installation      1  \n",
       "4           how i know product comes warranty      1  "
      ]
     },
     "execution_count": 273,
     "metadata": {},
     "output_type": "execute_result"
    }
   ],
   "source": [
    "df.head()"
   ]
  },
  {
   "cell_type": "code",
   "execution_count": 274,
   "metadata": {},
   "outputs": [],
   "source": [
    "y=df['Label']"
   ]
  },
  {
   "cell_type": "code",
   "execution_count": null,
   "metadata": {},
   "outputs": [],
   "source": []
  },
  {
   "cell_type": "code",
   "execution_count": 275,
   "metadata": {},
   "outputs": [],
   "source": [
    "from sklearn.linear_model import LogisticRegression\n",
    "logistic=LogisticRegression().fit(X_,y)\n",
    "passive=PassiveAggressiveClassifier().fit(X_,y)\n",
    "svm=SVC().fit(X_,y)\n",
    "naive=MultinomialNB().fit(X_,y)\n",
    "dectr=DecisionTreeClassifier().fit(X_,y)\n",
    "rand_for=RandomForestClassifier().fit(X_,y)\n",
    "sgd=SGDClassifier().fit(X_,y)"
   ]
  },
  {
   "cell_type": "code",
   "execution_count": 276,
   "metadata": {},
   "outputs": [
    {
     "name": "stdout",
     "output_type": "stream",
     "text": [
      "0.9090909090909091\n",
      "1.0\n",
      "1.0\n",
      "0.9318181818181818\n",
      "1.0\n",
      "1.0\n",
      "1.0\n"
     ]
    }
   ],
   "source": [
    "print(logistic.score(X_,y))\n",
    "print(passive.score(X_,y))\n",
    "print(svm.score(X_,y))\n",
    "print(naive.score(X_,y))\n",
    "print(dectr.score(X_,y))\n",
    "print(rand_for.score(X_,y))\n",
    "print(sgd.score(X_,y))"
   ]
  },
  {
   "cell_type": "code",
   "execution_count": null,
   "metadata": {},
   "outputs": [],
   "source": []
  },
  {
   "cell_type": "code",
   "execution_count": 277,
   "metadata": {},
   "outputs": [
    {
     "name": "stdout",
     "output_type": "stream",
     "text": [
      "Asked Question:  how check warrenty product\n",
      "-----------------------------\n",
      "LogisticRegression()\n",
      "                                            Question  cosine_sim\n",
      "4    How do I know if a product comes with warranty?    0.313713\n",
      "0           How to Review Product as well as Seller?    0.289147\n",
      "3  How do I know if a product comes with free ins...    0.267625\n",
      "----------------------------------------------------------\n",
      "PassiveAggressiveClassifier()\n",
      "                                            Question  cosine_sim\n",
      "4    How do I know if a product comes with warranty?    0.313713\n",
      "0           How to Review Product as well as Seller?    0.289147\n",
      "3  How do I know if a product comes with free ins...    0.267625\n",
      "----------------------------------------------------------\n",
      "SVC()\n",
      "                                             Question  cosine_sim\n",
      "32  Problems with Check Out/ or any issues encount...    0.339369\n",
      "27                          How do I cancel my order?    0.163451\n",
      "43         How can I find overseas products on Daraz?    0.137038\n",
      "----------------------------------------------------------\n",
      "MultinomialNB()\n",
      "                                            Question  cosine_sim\n",
      "4    How do I know if a product comes with warranty?    0.313713\n",
      "0           How to Review Product as well as Seller?    0.289147\n",
      "3  How do I know if a product comes with free ins...    0.267625\n",
      "----------------------------------------------------------\n",
      "DecisionTreeClassifier()\n",
      "                                             Question  cosine_sim\n",
      "15  How can I identify a DarazMall product in the ...    0.314758\n",
      "12                           How do I join DarazMall?    0.163451\n",
      "13                 What is DarazMall's return policy?    0.000000\n",
      "----------------------------------------------------------\n",
      "RandomForestClassifier()\n",
      "                                            Question  cosine_sim\n",
      "4    How do I know if a product comes with warranty?    0.313713\n",
      "0           How to Review Product as well as Seller?    0.289147\n",
      "3  How do I know if a product comes with free ins...    0.267625\n",
      "----------------------------------------------------------\n",
      "SGDClassifier()\n",
      "                                            Question  cosine_sim\n",
      "4    How do I know if a product comes with warranty?    0.313713\n",
      "0           How to Review Product as well as Seller?    0.289147\n",
      "3  How do I know if a product comes with free ins...    0.267625\n",
      "----------------------------------------------------------\n"
     ]
    }
   ],
   "source": [
    "def return_tfidf_data(text):\n",
    "    return vectorizer.transform([text])\n",
    "\n",
    "def return_cv_data(text):\n",
    "    return cv.transform([text])\n",
    "\n",
    "def return_vectorized_data(text):\n",
    "    text=cleantext(text)\n",
    "    print('Asked Question: ',text)\n",
    "    print('-----------------------------')\n",
    "    text=return_tfidf_data(text)\n",
    "    return text.toarray()\n",
    "\n",
    "def return_countvectorized_data(text):\n",
    "    text=cleantext(text)\n",
    "    print('Asked Question: ',text)\n",
    "    print('-----------------------------')\n",
    "    text=return_cv_data(text)\n",
    "    return text.toarray()\n",
    "    \n",
    "def predict_label(model):\n",
    "    prediction=model.predict(temp)[0]\n",
    "    return prediction\n",
    "    \n",
    "def find_relevant_ques_ans_model(temp,items):\n",
    "    for i in models:\n",
    "        prediction=predict_label(i)\n",
    "        index=df[df['Label']==prediction].index\n",
    "\n",
    "        cos_sim=[cosine_similarity(j.reshape(1,-1),temp.reshape(1,-1)) for j in X_[df[df['Label']==prediction].index]]\n",
    "        cos_sim=np.array(cos_sim)\n",
    "\n",
    "        cos_sim=cos_sim.flatten()\n",
    "        temp_df=df.iloc[index,:].copy()\n",
    "        temp_df['cosine_sim']=cos_sim\n",
    "        temp_df=temp_df.sort_values('cosine_sim',ascending=False)\n",
    "        print(i)\n",
    "        print(temp_df[['Question','cosine_sim']].head(items))\n",
    "        print('----------------------------------------------------------')\n",
    "    \n",
    "temp=return_vectorized_data('How to check warrenty of product?')\n",
    "find_relevant_ques_ans_model(temp,3)"
   ]
  },
  {
   "cell_type": "code",
   "execution_count": 278,
   "metadata": {},
   "outputs": [
    {
     "name": "stdout",
     "output_type": "stream",
     "text": [
      "Asked Question:  how check product installation\n",
      "-----------------------------\n",
      "LogisticRegression()\n",
      "                                            Question  cosine_sim\n",
      "3  How do I know if a product comes with free ins...    0.502639\n",
      "4    How do I know if a product comes with warranty?    0.249904\n",
      "0           How to Review Product as well as Seller?    0.230336\n",
      "----------------------------------------------------------\n",
      "PassiveAggressiveClassifier()\n",
      "                                            Question  cosine_sim\n",
      "3  How do I know if a product comes with free ins...    0.502639\n",
      "4    How do I know if a product comes with warranty?    0.249904\n",
      "0           How to Review Product as well as Seller?    0.230336\n",
      "----------------------------------------------------------\n",
      "SVC()\n",
      "                                            Question  cosine_sim\n",
      "3  How do I know if a product comes with free ins...    0.502639\n",
      "4    How do I know if a product comes with warranty?    0.249904\n",
      "0           How to Review Product as well as Seller?    0.230336\n",
      "----------------------------------------------------------\n",
      "MultinomialNB()\n",
      "                                            Question  cosine_sim\n",
      "3  How do I know if a product comes with free ins...    0.502639\n",
      "4    How do I know if a product comes with warranty?    0.249904\n",
      "0           How to Review Product as well as Seller?    0.230336\n",
      "----------------------------------------------------------\n",
      "DecisionTreeClassifier()\n",
      "                                             Question  cosine_sim\n",
      "15  How can I identify a DarazMall product in the ...    0.250737\n",
      "12                           How do I join DarazMall?    0.130206\n",
      "13                 What is DarazMall's return policy?    0.000000\n",
      "----------------------------------------------------------\n",
      "RandomForestClassifier()\n",
      "                                            Question  cosine_sim\n",
      "3  How do I know if a product comes with free ins...    0.502639\n",
      "4    How do I know if a product comes with warranty?    0.249904\n",
      "0           How to Review Product as well as Seller?    0.230336\n",
      "----------------------------------------------------------\n",
      "SGDClassifier()\n",
      "                                            Question  cosine_sim\n",
      "3  How do I know if a product comes with free ins...    0.502639\n",
      "4    How do I know if a product comes with warranty?    0.249904\n",
      "0           How to Review Product as well as Seller?    0.230336\n",
      "----------------------------------------------------------\n"
     ]
    }
   ],
   "source": [
    "temp=return_vectorized_data('How to check product installation?')\n",
    "find_relevant_ques_ans(temp,3)"
   ]
  },
  {
   "cell_type": "code",
   "execution_count": 279,
   "metadata": {},
   "outputs": [],
   "source": [
    "# cos_sim=cosine_similarity(A.reshape(1,-1),B.reshape(1,-1))\n",
    "# print (f\"Cosine Similarity between A and B:{cos_sim}\")\n",
    "# print (f\"Cosine Distance between A and B:{1-cos_sim}\")"
   ]
  },
  {
   "cell_type": "code",
   "execution_count": 280,
   "metadata": {},
   "outputs": [],
   "source": [
    "cos_sim=[cosine_similarity(X_[i].reshape(1,-1),temp.reshape(1,-1)) for i in range(len(X_))]\n",
    "cos_sim=np.array(cos_sim)\n",
    "\n",
    "cos_sim=cos_sim.flatten()"
   ]
  },
  {
   "cell_type": "code",
   "execution_count": 281,
   "metadata": {},
   "outputs": [],
   "source": [
    "df_temp=df.copy()\n",
    "df_temp['Cos_sim']=cos_sim"
   ]
  },
  {
   "cell_type": "code",
   "execution_count": 282,
   "metadata": {},
   "outputs": [
    {
     "data": {
      "text/html": [
       "<div>\n",
       "<style scoped>\n",
       "    .dataframe tbody tr th:only-of-type {\n",
       "        vertical-align: middle;\n",
       "    }\n",
       "\n",
       "    .dataframe tbody tr th {\n",
       "        vertical-align: top;\n",
       "    }\n",
       "\n",
       "    .dataframe thead th {\n",
       "        text-align: right;\n",
       "    }\n",
       "</style>\n",
       "<table border=\"1\" class=\"dataframe\">\n",
       "  <thead>\n",
       "    <tr style=\"text-align: right;\">\n",
       "      <th></th>\n",
       "      <th>Category</th>\n",
       "      <th>Tag</th>\n",
       "      <th>Question</th>\n",
       "      <th>Answer</th>\n",
       "      <th>Cleaned</th>\n",
       "      <th>Label</th>\n",
       "      <th>Cos_sim</th>\n",
       "    </tr>\n",
       "  </thead>\n",
       "  <tbody>\n",
       "    <tr>\n",
       "      <th>0</th>\n",
       "      <td>My Account</td>\n",
       "      <td>Rating and Reviews</td>\n",
       "      <td>How to Review Product as well as Seller?</td>\n",
       "      <td>Everything is right here. Please check this ou...</td>\n",
       "      <td>how review product well seller</td>\n",
       "      <td>1</td>\n",
       "      <td>0.230336</td>\n",
       "    </tr>\n",
       "    <tr>\n",
       "      <th>1</th>\n",
       "      <td>My Account</td>\n",
       "      <td>Rating and Reviews</td>\n",
       "      <td>How to Filter Search Results with Product Rati...</td>\n",
       "      <td>Products can also be filtered according to the...</td>\n",
       "      <td>how filter search results product ratings</td>\n",
       "      <td>1</td>\n",
       "      <td>0.208753</td>\n",
       "    </tr>\n",
       "    <tr>\n",
       "      <th>2</th>\n",
       "      <td>My Account</td>\n",
       "      <td>Rating and Reviews</td>\n",
       "      <td>What are Ratings &amp; Reviews and how do I write ...</td>\n",
       "      <td>Daraz customers have the option of rating and ...</td>\n",
       "      <td>what ratings reviews i write good reviews</td>\n",
       "      <td>1</td>\n",
       "      <td>0.000000</td>\n",
       "    </tr>\n",
       "    <tr>\n",
       "      <th>3</th>\n",
       "      <td>My Account</td>\n",
       "      <td>Product Warranty</td>\n",
       "      <td>How do I know if a product comes with free ins...</td>\n",
       "      <td>Unfortunately we are not providing the Free In...</td>\n",
       "      <td>how i know product comes free installation</td>\n",
       "      <td>1</td>\n",
       "      <td>0.502639</td>\n",
       "    </tr>\n",
       "    <tr>\n",
       "      <th>4</th>\n",
       "      <td>My Account</td>\n",
       "      <td>Product Warranty</td>\n",
       "      <td>How do I know if a product comes with warranty?</td>\n",
       "      <td>If a warranty is offered on a product the warr...</td>\n",
       "      <td>how i know product comes warranty</td>\n",
       "      <td>1</td>\n",
       "      <td>0.249904</td>\n",
       "    </tr>\n",
       "  </tbody>\n",
       "</table>\n",
       "</div>"
      ],
      "text/plain": [
       "     Category                 Tag  \\\n",
       "0  My Account  Rating and Reviews   \n",
       "1  My Account  Rating and Reviews   \n",
       "2  My Account  Rating and Reviews   \n",
       "3  My Account    Product Warranty   \n",
       "4  My Account    Product Warranty   \n",
       "\n",
       "                                            Question  \\\n",
       "0           How to Review Product as well as Seller?   \n",
       "1  How to Filter Search Results with Product Rati...   \n",
       "2  What are Ratings & Reviews and how do I write ...   \n",
       "3  How do I know if a product comes with free ins...   \n",
       "4    How do I know if a product comes with warranty?   \n",
       "\n",
       "                                              Answer  \\\n",
       "0  Everything is right here. Please check this ou...   \n",
       "1  Products can also be filtered according to the...   \n",
       "2  Daraz customers have the option of rating and ...   \n",
       "3  Unfortunately we are not providing the Free In...   \n",
       "4  If a warranty is offered on a product the warr...   \n",
       "\n",
       "                                      Cleaned  Label   Cos_sim  \n",
       "0              how review product well seller      1  0.230336  \n",
       "1   how filter search results product ratings      1  0.208753  \n",
       "2   what ratings reviews i write good reviews      1  0.000000  \n",
       "3  how i know product comes free installation      1  0.502639  \n",
       "4           how i know product comes warranty      1  0.249904  "
      ]
     },
     "execution_count": 282,
     "metadata": {},
     "output_type": "execute_result"
    }
   ],
   "source": [
    "df_temp.head()"
   ]
  },
  {
   "cell_type": "code",
   "execution_count": 283,
   "metadata": {},
   "outputs": [
    {
     "data": {
      "text/html": [
       "<div>\n",
       "<style scoped>\n",
       "    .dataframe tbody tr th:only-of-type {\n",
       "        vertical-align: middle;\n",
       "    }\n",
       "\n",
       "    .dataframe tbody tr th {\n",
       "        vertical-align: top;\n",
       "    }\n",
       "\n",
       "    .dataframe thead th {\n",
       "        text-align: right;\n",
       "    }\n",
       "</style>\n",
       "<table border=\"1\" class=\"dataframe\">\n",
       "  <thead>\n",
       "    <tr style=\"text-align: right;\">\n",
       "      <th></th>\n",
       "      <th>Category</th>\n",
       "      <th>Tag</th>\n",
       "      <th>Question</th>\n",
       "      <th>Answer</th>\n",
       "      <th>Cleaned</th>\n",
       "      <th>Label</th>\n",
       "      <th>Cos_sim</th>\n",
       "    </tr>\n",
       "  </thead>\n",
       "  <tbody>\n",
       "    <tr>\n",
       "      <th>3</th>\n",
       "      <td>My Account</td>\n",
       "      <td>Product Warranty</td>\n",
       "      <td>How do I know if a product comes with free ins...</td>\n",
       "      <td>Unfortunately we are not providing the Free In...</td>\n",
       "      <td>how i know product comes free installation</td>\n",
       "      <td>1</td>\n",
       "      <td>0.502639</td>\n",
       "    </tr>\n",
       "    <tr>\n",
       "      <th>32</th>\n",
       "      <td>Ordering</td>\n",
       "      <td>Big mart</td>\n",
       "      <td>Problems with Check Out/ or any issues encount...</td>\n",
       "      <td>If you are facing any error while placing the ...</td>\n",
       "      <td>problems check out issues encountered</td>\n",
       "      <td>2</td>\n",
       "      <td>0.270342</td>\n",
       "    </tr>\n",
       "    <tr>\n",
       "      <th>15</th>\n",
       "      <td>DarazMall</td>\n",
       "      <td>What is Darazmall</td>\n",
       "      <td>How can I identify a DarazMall product in the ...</td>\n",
       "      <td>You can identify\" DarazMall\" products by the \"...</td>\n",
       "      <td>how i identify darazmall product website</td>\n",
       "      <td>0</td>\n",
       "      <td>0.250737</td>\n",
       "    </tr>\n",
       "    <tr>\n",
       "      <th>4</th>\n",
       "      <td>My Account</td>\n",
       "      <td>Product Warranty</td>\n",
       "      <td>How do I know if a product comes with warranty?</td>\n",
       "      <td>If a warranty is offered on a product the warr...</td>\n",
       "      <td>how i know product comes warranty</td>\n",
       "      <td>1</td>\n",
       "      <td>0.249904</td>\n",
       "    </tr>\n",
       "    <tr>\n",
       "      <th>0</th>\n",
       "      <td>My Account</td>\n",
       "      <td>Rating and Reviews</td>\n",
       "      <td>How to Review Product as well as Seller?</td>\n",
       "      <td>Everything is right here. Please check this ou...</td>\n",
       "      <td>how review product well seller</td>\n",
       "      <td>1</td>\n",
       "      <td>0.230336</td>\n",
       "    </tr>\n",
       "  </tbody>\n",
       "</table>\n",
       "</div>"
      ],
      "text/plain": [
       "      Category                 Tag  \\\n",
       "3   My Account    Product Warranty   \n",
       "32    Ordering            Big mart   \n",
       "15   DarazMall   What is Darazmall   \n",
       "4   My Account    Product Warranty   \n",
       "0   My Account  Rating and Reviews   \n",
       "\n",
       "                                             Question  \\\n",
       "3   How do I know if a product comes with free ins...   \n",
       "32  Problems with Check Out/ or any issues encount...   \n",
       "15  How can I identify a DarazMall product in the ...   \n",
       "4     How do I know if a product comes with warranty?   \n",
       "0            How to Review Product as well as Seller?   \n",
       "\n",
       "                                               Answer  \\\n",
       "3   Unfortunately we are not providing the Free In...   \n",
       "32  If you are facing any error while placing the ...   \n",
       "15  You can identify\" DarazMall\" products by the \"...   \n",
       "4   If a warranty is offered on a product the warr...   \n",
       "0   Everything is right here. Please check this ou...   \n",
       "\n",
       "                                       Cleaned  Label   Cos_sim  \n",
       "3   how i know product comes free installation      1  0.502639  \n",
       "32       problems check out issues encountered      2  0.270342  \n",
       "15    how i identify darazmall product website      0  0.250737  \n",
       "4            how i know product comes warranty      1  0.249904  \n",
       "0               how review product well seller      1  0.230336  "
      ]
     },
     "execution_count": 283,
     "metadata": {},
     "output_type": "execute_result"
    }
   ],
   "source": [
    "df_temp.sort_values('Cos_sim',ascending=False).head()"
   ]
  },
  {
   "cell_type": "code",
   "execution_count": 336,
   "metadata": {},
   "outputs": [],
   "source": [
    "def return_response(temp_df):\n",
    "    most_relevant=temp_df.copy()\n",
    "    relevant_index=most_relevant.index[0]\n",
    "    response_list=df.iloc[relevant_index,:]['Answer']\n",
    "    \n",
    "    try:\n",
    "        responses=df.iloc[relevant_index,:]['Answer'].split(',')\n",
    "        print('Response: ',np.random.choice(responses))\n",
    "    except:\n",
    "        print('Response: ',responses)\n",
    "    \n",
    "#For TFIDF\n",
    "def find_relevant(temp,items):\n",
    "    prediction=predict_label(svm)\n",
    "    index=df[df['Label']==prediction].index\n",
    "\n",
    "    cos_sim=[cosine_similarity(j.reshape(1,-1),temp.reshape(1,-1)) for j in X_[index]]\n",
    "    cos_sim=np.array(cos_sim)\n",
    "\n",
    "    cos_sim=cos_sim.flatten()\n",
    "    temp_df=df.iloc[index,:].copy()\n",
    "    temp_df['cosine_sim']=cos_sim\n",
    "    temp_df=temp_df.sort_values('cosine_sim',ascending=False)\n",
    "    return(temp_df[['Question','cosine_sim']].head(items)),return_response(temp_df)\n",
    "\n",
    "#For CV\n",
    "def find_relevant_cv(temp,items):\n",
    "    prediction=predict_label(svm)\n",
    "    index=df[df['Label']==prediction].index\n",
    "    cos_sim=[cosine_similarity(j.reshape(1,-1),temp.reshape(1,-1)) for j in X_cv_[index]]\n",
    "    cos_sim=np.array(cos_sim)\n",
    "\n",
    "    cos_sim=cos_sim.flatten()\n",
    "    temp_df=df.iloc[index,:].copy()\n",
    "    temp_df['cosine_sim']=cos_sim\n",
    "    temp_df=temp_df.sort_values('cosine_sim',ascending=False)\n",
    "    return(temp_df[['Question','cosine_sim']].head(items)),return_response(temp_df)\n"
   ]
  },
  {
   "cell_type": "code",
   "execution_count": 337,
   "metadata": {},
   "outputs": [
    {
     "name": "stdout",
     "output_type": "stream",
     "text": [
      "Asked Question:  how know good reviews\n",
      "-----------------------------\n",
      "[[0 0 0 0 0 0 0 0 0 0 0 0 0 0 0 0 0 0 0 0 0 0 0 0 0 0 0 0 0 0 0 0 0 0 0 0\n",
      "  0 0 0 0 0 0 0 0 1 0 0 0 1 0 0 0 0 0 0 0 0 0 1 0 0 0 0 0 0 0 0 0 0 0 0 0\n",
      "  0 0 0 0 0 0 0 0 0 0 0 0 0 0 0 0 0 0 0 1 0 0 0 0 0 0 0 0 0 0 0 0 0 0 0 0\n",
      "  0 0 0 0 0 0 0 0 0 0 0 0 0 0 0]]\n",
      "Response:  If your order is not yet on its way to you and is eligible for cancellation  \"Cancel Button\" will indicate on your desired order that you wish to cancel.\n"
     ]
    },
    {
     "data": {
      "text/html": [
       "<div>\n",
       "<style scoped>\n",
       "    .dataframe tbody tr th:only-of-type {\n",
       "        vertical-align: middle;\n",
       "    }\n",
       "\n",
       "    .dataframe tbody tr th {\n",
       "        vertical-align: top;\n",
       "    }\n",
       "\n",
       "    .dataframe thead th {\n",
       "        text-align: right;\n",
       "    }\n",
       "</style>\n",
       "<table border=\"1\" class=\"dataframe\">\n",
       "  <thead>\n",
       "    <tr style=\"text-align: right;\">\n",
       "      <th></th>\n",
       "      <th>Question</th>\n",
       "      <th>cosine_sim</th>\n",
       "    </tr>\n",
       "  </thead>\n",
       "  <tbody>\n",
       "    <tr>\n",
       "      <th>27</th>\n",
       "      <td>How do I cancel my order?</td>\n",
       "      <td>0.288675</td>\n",
       "    </tr>\n",
       "    <tr>\n",
       "      <th>43</th>\n",
       "      <td>How can I find overseas products on Daraz?</td>\n",
       "      <td>0.223607</td>\n",
       "    </tr>\n",
       "    <tr>\n",
       "      <th>40</th>\n",
       "      <td>How do I remove an item from my shopping cart?</td>\n",
       "      <td>0.223607</td>\n",
       "    </tr>\n",
       "  </tbody>\n",
       "</table>\n",
       "</div>"
      ],
      "text/plain": [
       "                                          Question  cosine_sim\n",
       "27                       How do I cancel my order?    0.288675\n",
       "43      How can I find overseas products on Daraz?    0.223607\n",
       "40  How do I remove an item from my shopping cart?    0.223607"
      ]
     },
     "execution_count": 337,
     "metadata": {},
     "output_type": "execute_result"
    }
   ],
   "source": [
    "#Using Countvectorizer\n",
    "temp=return_countvectorized_data('How to know good reviews?')\n",
    "print(temp)\n",
    "returned_df,relevant_answer=find_relevant_cv(temp,3)\n",
    "returned_df"
   ]
  },
  {
   "cell_type": "code",
   "execution_count": 338,
   "metadata": {},
   "outputs": [
    {
     "name": "stdout",
     "output_type": "stream",
     "text": [
      "Asked Question:  how write name\n",
      "-----------------------------\n",
      "Response:  If your order is not yet on its way to you and is eligible for cancellation  \"Cancel Button\" will indicate on your desired order that you wish to cancel.\n"
     ]
    },
    {
     "data": {
      "text/html": [
       "<div>\n",
       "<style scoped>\n",
       "    .dataframe tbody tr th:only-of-type {\n",
       "        vertical-align: middle;\n",
       "    }\n",
       "\n",
       "    .dataframe tbody tr th {\n",
       "        vertical-align: top;\n",
       "    }\n",
       "\n",
       "    .dataframe thead th {\n",
       "        text-align: right;\n",
       "    }\n",
       "</style>\n",
       "<table border=\"1\" class=\"dataframe\">\n",
       "  <thead>\n",
       "    <tr style=\"text-align: right;\">\n",
       "      <th></th>\n",
       "      <th>Question</th>\n",
       "      <th>cosine_sim</th>\n",
       "    </tr>\n",
       "  </thead>\n",
       "  <tbody>\n",
       "    <tr>\n",
       "      <th>27</th>\n",
       "      <td>How do I cancel my order?</td>\n",
       "      <td>0.408248</td>\n",
       "    </tr>\n",
       "    <tr>\n",
       "      <th>43</th>\n",
       "      <td>How can I find overseas products on Daraz?</td>\n",
       "      <td>0.316228</td>\n",
       "    </tr>\n",
       "    <tr>\n",
       "      <th>40</th>\n",
       "      <td>How do I remove an item from my shopping cart?</td>\n",
       "      <td>0.316228</td>\n",
       "    </tr>\n",
       "  </tbody>\n",
       "</table>\n",
       "</div>"
      ],
      "text/plain": [
       "                                          Question  cosine_sim\n",
       "27                       How do I cancel my order?    0.408248\n",
       "43      How can I find overseas products on Daraz?    0.316228\n",
       "40  How do I remove an item from my shopping cart?    0.316228"
      ]
     },
     "execution_count": 338,
     "metadata": {},
     "output_type": "execute_result"
    }
   ],
   "source": [
    "temp=return_countvectorized_data('How to write my name?')\n",
    "returned_df,relevant_answer=find_relevant_cv(temp,3)\n",
    "returned_df"
   ]
  },
  {
   "cell_type": "code",
   "execution_count": 339,
   "metadata": {},
   "outputs": [
    {
     "name": "stdout",
     "output_type": "stream",
     "text": [
      "Asked Question:  how check product installation\n",
      "-----------------------------\n",
      "Response:  Unfortunately we are not providing the Free Installation Services for now\n"
     ]
    },
    {
     "data": {
      "text/html": [
       "<div>\n",
       "<style scoped>\n",
       "    .dataframe tbody tr th:only-of-type {\n",
       "        vertical-align: middle;\n",
       "    }\n",
       "\n",
       "    .dataframe tbody tr th {\n",
       "        vertical-align: top;\n",
       "    }\n",
       "\n",
       "    .dataframe thead th {\n",
       "        text-align: right;\n",
       "    }\n",
       "</style>\n",
       "<table border=\"1\" class=\"dataframe\">\n",
       "  <thead>\n",
       "    <tr style=\"text-align: right;\">\n",
       "      <th></th>\n",
       "      <th>Question</th>\n",
       "      <th>cosine_sim</th>\n",
       "    </tr>\n",
       "  </thead>\n",
       "  <tbody>\n",
       "    <tr>\n",
       "      <th>3</th>\n",
       "      <td>How do I know if a product comes with free ins...</td>\n",
       "      <td>0.502639</td>\n",
       "    </tr>\n",
       "    <tr>\n",
       "      <th>4</th>\n",
       "      <td>How do I know if a product comes with warranty?</td>\n",
       "      <td>0.249904</td>\n",
       "    </tr>\n",
       "    <tr>\n",
       "      <th>0</th>\n",
       "      <td>How to Review Product as well as Seller?</td>\n",
       "      <td>0.230336</td>\n",
       "    </tr>\n",
       "  </tbody>\n",
       "</table>\n",
       "</div>"
      ],
      "text/plain": [
       "                                            Question  cosine_sim\n",
       "3  How do I know if a product comes with free ins...    0.502639\n",
       "4    How do I know if a product comes with warranty?    0.249904\n",
       "0           How to Review Product as well as Seller?    0.230336"
      ]
     },
     "execution_count": 339,
     "metadata": {},
     "output_type": "execute_result"
    }
   ],
   "source": [
    "#Using TFIDF Vectorizer\n",
    "temp=return_vectorized_data('How to check product installation?')\n",
    "returned_df,relevant_answer=find_relevant(temp,3)\n",
    "returned_df"
   ]
  },
  {
   "cell_type": "code",
   "execution_count": 340,
   "metadata": {},
   "outputs": [
    {
     "name": "stdout",
     "output_type": "stream",
     "text": [
      "Asked Question:  see different prices product\n",
      "-----------------------------\n",
      "Response:  Daraz is a marketplace. We have a huge seller base and each one sources their product differently due to which prices vary for the same product but you can choose depending on your preference as the product quality remains the same.\n"
     ]
    },
    {
     "data": {
      "text/html": [
       "<div>\n",
       "<style scoped>\n",
       "    .dataframe tbody tr th:only-of-type {\n",
       "        vertical-align: middle;\n",
       "    }\n",
       "\n",
       "    .dataframe tbody tr th {\n",
       "        vertical-align: top;\n",
       "    }\n",
       "\n",
       "    .dataframe thead th {\n",
       "        text-align: right;\n",
       "    }\n",
       "</style>\n",
       "<table border=\"1\" class=\"dataframe\">\n",
       "  <thead>\n",
       "    <tr style=\"text-align: right;\">\n",
       "      <th></th>\n",
       "      <th>Question</th>\n",
       "      <th>cosine_sim</th>\n",
       "    </tr>\n",
       "  </thead>\n",
       "  <tbody>\n",
       "    <tr>\n",
       "      <th>8</th>\n",
       "      <td>Why do I see different prices for the same pro...</td>\n",
       "      <td>0.922422</td>\n",
       "    </tr>\n",
       "    <tr>\n",
       "      <th>7</th>\n",
       "      <td>Are the prices on Daraz negotiable?</td>\n",
       "      <td>0.279414</td>\n",
       "    </tr>\n",
       "    <tr>\n",
       "      <th>4</th>\n",
       "      <td>How do I know if a product comes with warranty?</td>\n",
       "      <td>0.140928</td>\n",
       "    </tr>\n",
       "  </tbody>\n",
       "</table>\n",
       "</div>"
      ],
      "text/plain": [
       "                                            Question  cosine_sim\n",
       "8  Why do I see different prices for the same pro...    0.922422\n",
       "7                Are the prices on Daraz negotiable?    0.279414\n",
       "4    How do I know if a product comes with warranty?    0.140928"
      ]
     },
     "execution_count": 340,
     "metadata": {},
     "output_type": "execute_result"
    }
   ],
   "source": [
    "temp=return_vectorized_data('why i see different prices product?')\n",
    "returned_df,relevant_answer=find_relevant(temp,3)\n",
    "returned_df"
   ]
  },
  {
   "cell_type": "code",
   "execution_count": 328,
   "metadata": {},
   "outputs": [
    {
     "data": {
      "text/plain": [
       "'Problems with Check Out/ or any issues encountered?'"
      ]
     },
     "execution_count": 328,
     "metadata": {},
     "output_type": "execute_result"
    }
   ],
   "source": [
    "returned_df['Question'][32]"
   ]
  },
  {
   "cell_type": "code",
   "execution_count": 341,
   "metadata": {},
   "outputs": [
    {
     "name": "stdout",
     "output_type": "stream",
     "text": [
      "Asked Question:  play daraz first games desktop too\n",
      "-----------------------------\n",
      "Response:  No you can only play Daraz First Games on Daraz Android App.\n"
     ]
    },
    {
     "data": {
      "text/html": [
       "<div>\n",
       "<style scoped>\n",
       "    .dataframe tbody tr th:only-of-type {\n",
       "        vertical-align: middle;\n",
       "    }\n",
       "\n",
       "    .dataframe tbody tr th {\n",
       "        vertical-align: top;\n",
       "    }\n",
       "\n",
       "    .dataframe thead th {\n",
       "        text-align: right;\n",
       "    }\n",
       "</style>\n",
       "<table border=\"1\" class=\"dataframe\">\n",
       "  <thead>\n",
       "    <tr style=\"text-align: right;\">\n",
       "      <th></th>\n",
       "      <th>Question</th>\n",
       "      <th>cosine_sim</th>\n",
       "    </tr>\n",
       "  </thead>\n",
       "  <tbody>\n",
       "    <tr>\n",
       "      <th>21</th>\n",
       "      <td>Can I play Daraz First Games on Desktop too?</td>\n",
       "      <td>0.944237</td>\n",
       "    </tr>\n",
       "    <tr>\n",
       "      <th>22</th>\n",
       "      <td>What is Daraz First Games?</td>\n",
       "      <td>0.589203</td>\n",
       "    </tr>\n",
       "    <tr>\n",
       "      <th>18</th>\n",
       "      <td>Why am I not able to see my Collectible Vouche...</td>\n",
       "      <td>0.000000</td>\n",
       "    </tr>\n",
       "  </tbody>\n",
       "</table>\n",
       "</div>"
      ],
      "text/plain": [
       "                                             Question  cosine_sim\n",
       "21       Can I play Daraz First Games on Desktop too?    0.944237\n",
       "22                         What is Daraz First Games?    0.589203\n",
       "18  Why am I not able to see my Collectible Vouche...    0.000000"
      ]
     },
     "execution_count": 341,
     "metadata": {},
     "output_type": "execute_result"
    }
   ],
   "source": [
    "temp=return_vectorized_data('can i play daraz first games desktop too?')\n",
    "returned_df,relevant_answer=find_relevant(temp,3)\n",
    "returned_df"
   ]
  },
  {
   "cell_type": "code",
   "execution_count": 343,
   "metadata": {},
   "outputs": [
    {
     "name": "stdout",
     "output_type": "stream",
     "text": [
      "Asked Question:  play daraz first games desktop too\n",
      "-----------------------------\n",
      "Response:   We are implementing WHO prescribed precautionary measures for the situation.\n",
      "\n"
     ]
    },
    {
     "data": {
      "text/html": [
       "<div>\n",
       "<style scoped>\n",
       "    .dataframe tbody tr th:only-of-type {\n",
       "        vertical-align: middle;\n",
       "    }\n",
       "\n",
       "    .dataframe tbody tr th {\n",
       "        vertical-align: top;\n",
       "    }\n",
       "\n",
       "    .dataframe thead th {\n",
       "        text-align: right;\n",
       "    }\n",
       "</style>\n",
       "<table border=\"1\" class=\"dataframe\">\n",
       "  <thead>\n",
       "    <tr style=\"text-align: right;\">\n",
       "      <th></th>\n",
       "      <th>Question</th>\n",
       "      <th>cosine_sim</th>\n",
       "    </tr>\n",
       "  </thead>\n",
       "  <tbody>\n",
       "    <tr>\n",
       "      <th>29</th>\n",
       "      <td>Are the employees at Daraz safe?</td>\n",
       "      <td>0.204124</td>\n",
       "    </tr>\n",
       "    <tr>\n",
       "      <th>43</th>\n",
       "      <td>How can I find overseas products on Daraz?</td>\n",
       "      <td>0.182574</td>\n",
       "    </tr>\n",
       "    <tr>\n",
       "      <th>39</th>\n",
       "      <td>Do I need an account to shop on Daraz?</td>\n",
       "      <td>0.182574</td>\n",
       "    </tr>\n",
       "  </tbody>\n",
       "</table>\n",
       "</div>"
      ],
      "text/plain": [
       "                                      Question  cosine_sim\n",
       "29            Are the employees at Daraz safe?    0.204124\n",
       "43  How can I find overseas products on Daraz?    0.182574\n",
       "39      Do I need an account to shop on Daraz?    0.182574"
      ]
     },
     "execution_count": 343,
     "metadata": {},
     "output_type": "execute_result"
    }
   ],
   "source": [
    "temp=return_countvectorized_data('can i play daraz first games desktop too?')\n",
    "returned_df,relevant_answer=find_relevant_cv(temp,3)\n",
    "returned_df"
   ]
  },
  {
   "cell_type": "code",
   "execution_count": null,
   "metadata": {},
   "outputs": [],
   "source": []
  },
  {
   "cell_type": "code",
   "execution_count": null,
   "metadata": {},
   "outputs": [],
   "source": []
  },
  {
   "cell_type": "code",
   "execution_count": null,
   "metadata": {},
   "outputs": [],
   "source": []
  },
  {
   "cell_type": "code",
   "execution_count": null,
   "metadata": {},
   "outputs": [],
   "source": []
  },
  {
   "cell_type": "code",
   "execution_count": null,
   "metadata": {},
   "outputs": [],
   "source": []
  },
  {
   "cell_type": "code",
   "execution_count": null,
   "metadata": {},
   "outputs": [],
   "source": []
  },
  {
   "cell_type": "code",
   "execution_count": null,
   "metadata": {},
   "outputs": [],
   "source": []
  }
 ],
 "metadata": {
  "kernelspec": {
   "display_name": "Python 3",
   "language": "python",
   "name": "python3"
  },
  "language_info": {
   "codemirror_mode": {
    "name": "ipython",
    "version": 3
   },
   "file_extension": ".py",
   "mimetype": "text/x-python",
   "name": "python",
   "nbconvert_exporter": "python",
   "pygments_lexer": "ipython3",
   "version": "3.7.7"
  }
 },
 "nbformat": 4,
 "nbformat_minor": 4
}
