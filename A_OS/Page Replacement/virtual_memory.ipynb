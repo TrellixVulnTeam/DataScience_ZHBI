{
 "cells": [
  {
   "cell_type": "code",
   "execution_count": 83,
   "metadata": {},
   "outputs": [],
   "source": [
    "import numpy as np\n",
    "import math\n",
    "import os\n",
    "import random\n",
    "from matplotlib import pyplot as plt\n",
    "import queue\n",
    "\n",
    "PAGE_SIZE = 4096                    # Page Size in Bytes\n",
    "NP = 6                              # No. of processes in memory\n",
    "F = 16                              # No. of Frames in physical memory\n",
    "INVALID = -10\n",
    "PID = 0                             # Used for Indexing into Frames\n",
    "FRAME = 1                           # Used for Indexing into Frames\n",
    "COMPLETED = 10                      # Process Status Flags\n",
    "INCOMPLETE = 20                     #\n",
    "# The following are page replacement algorithm types\n",
    "FIFO_GLOBAL = 10\n",
    "LRU_GLOBAL=[]\n",
    "oldest_frame = 0\n",
    "loc_oldest_frame = np.zeros(F).astype('int32')\n",
    "phys_mem = np.full((F,2), INVALID).astype('int32')\n",
    "pr_status = np.full(NP, INCOMPLETE).astype('int32')"
   ]
  },
  {
   "cell_type": "code",
   "execution_count": 110,
   "metadata": {},
   "outputs": [],
   "source": [
    "a=[1,2,3,4,5]"
   ]
  },
  {
   "cell_type": "code",
   "execution_count": 111,
   "metadata": {},
   "outputs": [],
   "source": [
    "del(a[0])"
   ]
  },
  {
   "cell_type": "code",
   "execution_count": 113,
   "metadata": {},
   "outputs": [
    {
     "data": {
      "text/plain": [
       "[2, 3, 4, 5]"
      ]
     },
     "execution_count": 113,
     "metadata": {},
     "output_type": "execute_result"
    }
   ],
   "source": [
    "a"
   ]
  },
  {
   "cell_type": "code",
   "execution_count": null,
   "metadata": {},
   "outputs": [],
   "source": []
  },
  {
   "cell_type": "code",
   "execution_count": null,
   "metadata": {},
   "outputs": [],
   "source": []
  },
  {
   "cell_type": "code",
   "execution_count": 84,
   "metadata": {},
   "outputs": [],
   "source": [
    "def init_proc_queue() :\n",
    "    pq = queue.Queue(maxsize=NP)\n",
    "    proc_queue = list(set((NP * np.random.random(20)).astype('int32')))\n",
    "    random.shuffle(proc_queue)\n",
    "    print(proc_queue)\n",
    "    for pr in proc_queue:\n",
    "        pq.put_nowait(pr)\n",
    "    return(pq)\n",
    "\n",
    "\n",
    "\n",
    "def sim_process(M, sigma, outfile, lfrac=0.9) :\n",
    "    cur_page = int(M * np.random.random())  # Generate a random start page\n",
    "    cur_locale = round(PAGE_SIZE * (cur_page + 0.5))  #Locality of reference\n",
    "    sum_refs = 0\n",
    "    list_locales = list()\n",
    "    for count in range(M) :\n",
    "        num_refs = int(512 + (PAGE_SIZE - 512) * np.random.random()) # random page address in memory.\n",
    "        sum_refs += num_refs\n",
    "        list_locales.append(cur_page)\n",
    "        num_loc = round(lfrac * num_refs)\n",
    "        aref_list = np.random.normal(cur_locale, sigma * 300 + 100,\n",
    "                                    num_loc)   #If siagma is less, it stays less within that locality of reference\n",
    "        #if sigma more, it may vary more\n",
    "        aref_list = correct_refs(aref_list, cur_locale, M)\n",
    "        aref_list = aref_list.astype('int32')\n",
    "        cur_page = int(M * np.random.random())\n",
    "        cur_locale = round(PAGE_SIZE * (cur_page + 0.5))\n",
    "        num_trans = round((1 - lfrac) * num_refs)\n",
    "        tref_list = np.random.random(num_trans) * cur_locale\n",
    "        tref_list = correct_refs(tref_list, 0, M)\n",
    "        tref_list = tref_list.astype('int32')\n",
    "        np.append(aref_list, tref_list).tofile(outfile, sep='\\n')\n",
    "        outfile.write('\\n')\n",
    "    \n",
    "    return list_locales, sum_refs\n",
    "\n",
    "#This block of code will control if sigma value is more.\n",
    "\n",
    "def correct_refs(alist, cent, maxpg) :\n",
    "    if cent != 0 :\n",
    "        pgnum = int(cent / PAGE_SIZE)\n",
    "        lh = (pgnum + 1) * PAGE_SIZE - 1\n",
    "        ll = pgnum * PAGE_SIZE\n",
    "    else :\n",
    "        lh = maxpg * PAGE_SIZE\n",
    "        ll = 0\n",
    "    for i in range(alist.shape[0]) :\n",
    "        if alist[i] >= lh :\n",
    "            alist[i] = lh - 1\n",
    "        if alist[i] < ll :\n",
    "            alist[i] = ll + 1\n",
    "    return alist"
   ]
  },
  {
   "cell_type": "code",
   "execution_count": 85,
   "metadata": {},
   "outputs": [],
   "source": [
    "##################################################################\n",
    "# The page replacement algorithm wrapper is defined here\n",
    "##################################################################\n",
    "def get_oldest_frame(pr, algo_type) :\n",
    "    global oldest_frame\n",
    "    if algo_type == FIFO_GLOBAL :\n",
    "        rv = oldest_frame\n",
    "        oldest_frame += 1\n",
    "        if oldest_frame == F :\n",
    "            oldest_frame = 0\n",
    "        return rv\n",
    "        \n",
    "    return INVALID"
   ]
  },
  {
   "cell_type": "code",
   "execution_count": 86,
   "metadata": {},
   "outputs": [],
   "source": [
    "def init_phys_mem() :\n",
    "    for i in range(F) :\n",
    "        phys_mem[i,PID] = INVALID\n",
    "        phys_mem[i,FRAME] = INVALID\n",
    "        \n",
    "def update_phys_mem(pid) :\n",
    "    for i in range(F) :\n",
    "        if phys_mem[i,PID] == pid :\n",
    "            phys_mem[i,PID] = INVALID\n",
    "            phys_mem[i,FRAME] = INVALID\n",
    "        \n",
    "def mem_manager(infile, outfile, pid) :\n",
    "#    num_faults = 0\n",
    "    # Read a number of address references, i.e., execute the process\n",
    "    # partially (or fully, if the number generated is > process size)\n",
    "    num_addr = 512 + int(4096 * np.random.random())\n",
    "    idx = 0\n",
    "    while idx < num_addr :\n",
    "        addr_ref = infile.readline().strip()\n",
    "        if addr_ref == '' :\n",
    "            break\n",
    "        addr_ref = int(addr_ref)\n",
    "        pg_num = int(addr_ref / PAGE_SIZE)\n",
    "        pg_offset = addr_ref % PAGE_SIZE\n",
    "        pg_base, pg_fault = get_pageframe(pg_num, pid)\n",
    "#        if pg_fault == 2 :\n",
    "#            print(f'Page replaced for Process {pid} at frame: {pg_base/PAGE_SIZE}')\n",
    "        if  pg_base >= 0 :\n",
    "            phys_addr = pg_base + pg_offset\n",
    "            outfile.write(str(addr_ref) + ',' + str(phys_addr) + ','\n",
    "                          + str(pg_fault) + '\\n')\n",
    "            if pg_fault == 0 :\n",
    "                pr_timing[pid] += IN_MEMORY\n",
    "            elif pg_fault == 1 :\n",
    "                pr_timing[pid] += MEM_FAULT\n",
    "            else :\n",
    "                pr_timing[pid] += PAGE_REPLACE\n",
    "        else :\n",
    "            print(idx)\n",
    "            return INVALID\n",
    "        idx += 1\n",
    "        \n",
    "    if idx >= num_addr :    \n",
    "        return INCOMPLETE\n",
    "    return COMPLETED\n",
    "\n",
    "def get_pageframe(pnum, pr) :\n",
    "    fr_num = 0\n",
    "    while fr_num < F :\n",
    "        if phys_mem[fr_num,PID] == pr and phys_mem[fr_num,FRAME] == pnum :\n",
    "            break\n",
    "        else :\n",
    "            fr_num += 1\n",
    "\n",
    "    if fr_num < F :\n",
    "        return fr_num * PAGE_SIZE, 0\n",
    "    \n",
    "    fr_num = gen_pagefault(pnum, pr)\n",
    "    if fr_num >= 0 :\n",
    "        return fr_num * PAGE_SIZE, 1\n",
    "    \n",
    "    fr_num = page_replace(pnum, pr)\n",
    "    if fr_num >= 0 :\n",
    "        return fr_num * PAGE_SIZE, 2\n",
    "    return INVALID, 0\n",
    "\n",
    "def gen_pagefault(pgnum, pr) :\n",
    "    fr_num = 0\n",
    "    while fr_num < F and phys_mem[fr_num,FRAME] >= 0 :\n",
    "        fr_num += 1\n",
    "    if fr_num >= F :\n",
    "        return INVALID\n",
    "    phys_mem[fr_num,FRAME] = pgnum\n",
    "    phys_mem[fr_num,PID] = pr\n",
    "    return fr_num\n",
    "\n",
    "def page_replace(pgnum, pr, algo=FIFO_GLOBAL) :\n",
    "    cur_frame = get_oldest_frame(pr, algo)\n",
    "    phys_mem[cur_frame,PID] = pr\n",
    "    phys_mem[cur_frame,FRAME] = pgnum\n",
    "    return cur_frame\n",
    "\n",
    "def LRU():\n",
    "    \n",
    "    pass\n",
    "        \n",
    "def print_phys_mem() :\n",
    "    print('{:^10s} {:^6s} {:^6s}'.format('Frame', 'PID', 'Page No.'))\n",
    "    print('{:^10s} {:^6s} {:^6s}'.format('-----', '---', '--------'))\n",
    "    for i in range(F) :\n",
    "        if phys_mem[i, PID] != INVALID :\n",
    "            print('{:^10d} {:^6d} {:^6d}'.format(i, phys_mem[i, PID],\n",
    "                                               phys_mem[i,FRAME]))\n",
    "        else:\n",
    "            print('Free Frame: ', i)\n",
    "            \n",
    "def readq(q):\n",
    "    while True:\n",
    "        try:\n",
    "            yield q.get_nowait()\n",
    "        except queue.Empty:\n",
    "            break"
   ]
  },
  {
   "cell_type": "code",
   "execution_count": 87,
   "metadata": {},
   "outputs": [
    {
     "name": "stdout",
     "output_type": "stream",
     "text": [
      "Process 0 requires 14 pages and has a quality 2\n",
      "[8, 6, 8, 3, 9, 8, 3, 5, 8, 7, 3, 9, 5, 6] 32286\n",
      "Written process  0 to  AR_00.txt\n",
      "Process 1 requires 9 pages and has a quality 3\n",
      "[2, 3, 2, 6, 8, 2, 1, 1, 8] 18778\n",
      "Written process  1 to  AR_01.txt\n",
      "Process 2 requires 11 pages and has a quality 0\n",
      "[3, 7, 9, 4, 6, 4, 2, 8, 0, 7, 6] 21642\n",
      "Written process  2 to  AR_02.txt\n",
      "Process 3 requires 6 pages and has a quality 1\n",
      "[3, 3, 5, 4, 5, 3] 13381\n",
      "Written process  3 to  AR_03.txt\n",
      "Process 4 requires 10 pages and has a quality 3\n",
      "[4, 7, 9, 5, 0, 1, 2, 1, 0, 8] 17162\n",
      "Written process  4 to  AR_04.txt\n",
      "Process 5 requires 12 pages and has a quality 0\n",
      "[4, 9, 0, 4, 10, 3, 9, 3, 4, 2, 3, 8] 35214\n",
      "Written process  5 to  AR_05.txt\n"
     ]
    }
   ],
   "source": [
    "pr_size = np.zeros(NP, dtype='int32')\n",
    "for p in range(NP) :\n",
    "    fname = 'AR_' + '{:02d}'.format(p) + '.txt'\n",
    "    op = open(fname, 'w')\n",
    "    npg = int(np.random.normal(10,2.5))\n",
    "    nsig = int(5 * np.random.random())\n",
    "    print(f'Process {p} requires {npg} pages and has a quality {nsig}')\n",
    "    pg_seq, pr_size[p] = sim_process(npg, nsig, op)\n",
    "    print(pg_seq, pr_size[p])\n",
    "    op.write('\\n')\n",
    "    op.close()\n",
    "    print('Written process ', p, 'to ', fname)"
   ]
  },
  {
   "cell_type": "code",
   "execution_count": 88,
   "metadata": {},
   "outputs": [
    {
     "name": "stdout",
     "output_type": "stream",
     "text": [
      "[2, 3, 4, 0, 1, 5]\n",
      "Reading Process from AR_00.txt\n",
      "Reading Process from AR_01.txt\n",
      "Reading Process from AR_02.txt\n",
      "Reading Process from AR_03.txt\n",
      "Reading Process from AR_04.txt\n",
      "Reading Process from AR_05.txt\n",
      "Process 2 (Size: 21642 Bytes) completed;         removing from queue\n",
      "Time taken: 25102\n",
      "Slow down by 15.99%\n",
      "Process 3 (Size: 13381 Bytes) completed;         removing from queue\n",
      "Time taken: 15654\n",
      "Slow down by 16.99%\n",
      "Process 4 (Size: 17162 Bytes) completed;         removing from queue\n",
      "Time taken: 22306\n",
      "Slow down by 29.97%\n",
      "Process 1 (Size: 18778 Bytes) completed;         removing from queue\n",
      "Time taken: 21842\n",
      "Slow down by 16.32%\n",
      "Process 0 (Size: 32286 Bytes) completed;         removing from queue\n",
      "Time taken: 37132\n",
      "Slow down by 15.01%\n",
      "Process 5 (Size: 35214 Bytes) completed;         removing from queue\n",
      "Time taken: 41298\n",
      "Slow down by 17.28%\n",
      "  Frame     PID   Page No.\n",
      "  -----     ---   --------\n",
      "Free Frame:  0\n",
      "Free Frame:  1\n",
      "Free Frame:  2\n",
      "Free Frame:  3\n",
      "Free Frame:  4\n",
      "Free Frame:  5\n",
      "Free Frame:  6\n",
      "Free Frame:  7\n",
      "Free Frame:  8\n",
      "Free Frame:  9\n",
      "Free Frame:  10\n",
      "Free Frame:  11\n",
      "Free Frame:  12\n",
      "Free Frame:  13\n",
      "Free Frame:  14\n",
      "Free Frame:  15\n"
     ]
    }
   ],
   "source": [
    "# We assume that Process Simulator(s) has(ve) been run earlier.\n",
    "# Otherwise do so now! Or else memory manager will fail gracefully?\n",
    "\n",
    "# Initialise Physical Memory and Process Queue\n",
    "init_phys_mem()\n",
    "oldest_frame = 0\n",
    "pr_que = init_proc_queue()\n",
    "pr_timing = np.zeros(F).astype('int32')\n",
    "IN_MEMORY = 1\n",
    "MEM_FAULT = 50\n",
    "PAGE_REPLACE = 100\n",
    "\n",
    "# Open necessary files\n",
    "infiles = list()\n",
    "outfiles = list()\n",
    "for i in range(NP) :\n",
    "    fname = 'AR_{:02d}.txt'.format(i)\n",
    "    outname = 'AR_{:02}_out.txt'.format(i)\n",
    "    if os.access(fname, os.R_OK) :\n",
    "        print(f'Reading Process from {fname}')\n",
    "        infiles.append(open(fname, 'r'))\n",
    "    else:\n",
    "        print(f'Cannot open {fname} for reading')\n",
    "    outfiles.append(open(outname, 'w'))\n",
    "\n",
    "# Map logical into physical addresses and keep track of page faults\n",
    "for pr in readq(pr_que) :\n",
    "    rv = mem_manager(infiles[pr], outfiles[pr], pr)\n",
    "    if rv == INVALID :\n",
    "        print('Memory overflow error')\n",
    "        break\n",
    "    if rv == INCOMPLETE :\n",
    "        pr_que.put_nowait(pr)\n",
    "    else :\n",
    "        print(f'Process {pr} (Size: {pr_size[pr]} Bytes) completed; \\\n",
    "        removing from queue')\n",
    "        print(f'Time taken: {pr_timing[pr]}')\n",
    "        slow = (pr_timing[pr] - pr_size[pr]) * 100.0 / pr_size[pr]\n",
    "        print('Slow down by {:.2f}%'.format(slow))\n",
    "        update_phys_mem(pr)\n",
    "#        print('Current Status of Physical Memory')\n",
    "#        print_phys_mem()\n",
    "\n",
    "# Close all files\n",
    "for i in range(NP) :\n",
    "    infiles[i].close()\n",
    "    outfiles[i].close()\n",
    "    \n",
    "# Print the Pages in Physical Memory\n",
    "print_phys_mem()"
   ]
  },
  {
   "cell_type": "code",
   "execution_count": 89,
   "metadata": {},
   "outputs": [
    {
     "data": {
      "text/plain": [
       "[<matplotlib.lines.Line2D at 0x21998eeb348>]"
      ]
     },
     "execution_count": 89,
     "metadata": {},
     "output_type": "execute_result"
    },
    {
     "data": {
      "image/png": "[encoded data removed]",
      "text/plain": [
       "<Figure size 432x288 with 1 Axes>"
      ]
     },
     "metadata": {
      "needs_background": "light"
     },
     "output_type": "display_data"
    }
   ],
   "source": [
    "a=np.loadtxt('AR_00.txt')\n",
    "plt.plot(a)"
   ]
  },
  {
   "cell_type": "code",
   "execution_count": 90,
   "metadata": {},
   "outputs": [
    {
     "name": "stdout",
     "output_type": "stream",
     "text": [
      "[0, 5, 1, 2, 4, 3]\n"
     ]
    }
   ],
   "source": [
    "pq = queue.Queue(maxsize=NP)\n",
    "proc_queue = list(set((NP * np.random.random(20)).astype('int32')))\n",
    "random.shuffle(proc_queue)\n",
    "print(proc_queue)\n",
    "for pr in proc_queue:\n",
    "    pq.put_nowait(pr)\n"
   ]
  },
  {
   "cell_type": "code",
   "execution_count": 91,
   "metadata": {},
   "outputs": [
    {
     "data": {
      "image/png": "[encoded data removed]",
      "text/plain": [
       "<Figure size 432x288 with 1 Axes>"
      ]
     },
     "metadata": {
      "needs_background": "light"
     },
     "output_type": "display_data"
    },
    {
     "data": {
      "image/png": "[encoded data removed]",
      "text/plain": [
       "<Figure size 432x288 with 1 Axes>"
      ]
     },
     "metadata": {
      "needs_background": "light"
     },
     "output_type": "display_data"
    },
    {
     "data": {
      "image/png": "[encoded data removed]",
      "text/plain": [
       "<Figure size 432x288 with 1 Axes>"
      ]
     },
     "metadata": {
      "needs_background": "light"
     },
     "output_type": "display_data"
    },
    {
     "data": {
      "image/png": "[encoded data removed]",
      "text/plain": [
       "<Figure size 432x288 with 1 Axes>"
      ]
     },
     "metadata": {
      "needs_background": "light"
     },
     "output_type": "display_data"
    },
    {
     "data": {
      "image/png": "[encoded data removed]",
      "text/plain": [
       "<Figure size 432x288 with 1 Axes>"
      ]
     },
     "metadata": {
      "needs_background": "light"
     },
     "output_type": "display_data"
    },
    {
     "data": {
      "image/png": "[encoded data removed]",
      "text/plain": [
       "<Figure size 432x288 with 1 Axes>"
      ]
     },
     "metadata": {
      "needs_background": "light"
     },
     "output_type": "display_data"
    }
   ],
   "source": [
    "for i,p in enumerate(range(NP)) :\n",
    "    fname = 'AR_' + '{:02d}'.format(p) + '.txt'\n",
    "    data=np.loadtxt(fname)\n",
    "    plt.plot(data)\n",
    "    plt.title('Process {}'.format(i))\n",
    "    plt.show()"
   ]
  },
  {
   "cell_type": "code",
   "execution_count": 92,
   "metadata": {},
   "outputs": [],
   "source": [
    "file=open('AR_00_out.txt','r')\n",
    "data=file.read()\n",
    "datas=np.array(data.split('\\n'))\n",
    "faults=[data[-1] for data in datas[:-1]]"
   ]
  },
  {
   "cell_type": "code",
   "execution_count": 93,
   "metadata": {},
   "outputs": [
    {
     "name": "stderr",
     "output_type": "stream",
     "text": [
      "c:\\users\\rissu\\appdata\\local\\programs\\python\\python37\\lib\\site-packages\\seaborn\\_decorators.py:43: FutureWarning: Pass the following variable as a keyword arg: x. From version 0.12, the only valid positional argument will be `data`, and passing other arguments without an explicit keyword will result in an error or misinterpretation.\n",
      "  FutureWarning\n"
     ]
    },
    {
     "data": {
      "text/plain": [
       "<AxesSubplot:ylabel='count'>"
      ]
     },
     "execution_count": 93,
     "metadata": {},
     "output_type": "execute_result"
    },
    {
     "data": {
      "image/png": "[encoded data removed]",
      "text/plain": [
       "<Figure size 432x288 with 1 Axes>"
      ]
     },
     "metadata": {
      "needs_background": "light"
     },
     "output_type": "display_data"
    }
   ],
   "source": [
    "import seaborn as sns\n",
    "sns.countplot(faults)"
   ]
  },
  {
   "cell_type": "code",
   "execution_count": 94,
   "metadata": {},
   "outputs": [
    {
     "data": {
      "text/plain": [
       "Counter({'2': 45, '0': 32232, '1': 8})"
      ]
     },
     "execution_count": 94,
     "metadata": {},
     "output_type": "execute_result"
    }
   ],
   "source": [
    "import collections\n",
    "collections.Counter(faults)"
   ]
  },
  {
   "cell_type": "code",
   "execution_count": null,
   "metadata": {},
   "outputs": [],
   "source": []
  },
  {
   "cell_type": "code",
   "execution_count": null,
   "metadata": {},
   "outputs": [],
   "source": []
  },
  {
   "cell_type": "code",
   "execution_count": null,
   "metadata": {},
   "outputs": [],
   "source": []
  },
  {
   "cell_type": "code",
   "execution_count": null,
   "metadata": {},
   "outputs": [],
   "source": []
  },
  {
   "cell_type": "code",
   "execution_count": null,
   "metadata": {},
   "outputs": [],
   "source": []
  },
  {
   "cell_type": "code",
   "execution_count": null,
   "metadata": {},
   "outputs": [],
   "source": []
  },
  {
   "cell_type": "code",
   "execution_count": null,
   "metadata": {},
   "outputs": [],
   "source": []
  },
  {
   "cell_type": "code",
   "execution_count": null,
   "metadata": {},
   "outputs": [],
   "source": []
  },
  {
   "cell_type": "code",
   "execution_count": null,
   "metadata": {},
   "outputs": [],
   "source": []
  }
 ],
 "metadata": {
  "kernelspec": {
   "display_name": "Python 3",
   "language": "python",
   "name": "python3"
  },
  "language_info": {
   "codemirror_mode": {
    "name": "ipython",
    "version": 3
   },
   "file_extension": ".py",
   "mimetype": "text/x-python",
   "name": "python",
   "nbconvert_exporter": "python",
   "pygments_lexer": "ipython3",
   "version": "3.7.7"
  }
 },
 "nbformat": 4,
 "nbformat_minor": 2
}
