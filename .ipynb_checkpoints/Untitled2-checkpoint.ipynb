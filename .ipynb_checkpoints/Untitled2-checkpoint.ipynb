{
 "cells": [
  {
   "cell_type": "code",
   "execution_count": 77,
   "metadata": {},
   "outputs": [],
   "source": [
    "from bokeh.plotting import figure,output_file,show\n",
    "import pandas\n",
    "\n",
    "df=pandas.read_csv(\"survey.csv\")\n",
    "p=figure(plot_width=10000,plot_height=1000)\n",
    "\n",
    "p.title.text=\"Measurements\" \n",
    "p.xaxis.axis_label=\"Time\"\n",
    "p.yaxis.axis_label=\"Temperature\"\n",
    "p.line(df[\"B\"],df[\"A\"])\n",
    "p.circle(df[\"A\"],df[\"B\"])\n",
    "\n",
    "show(p)"
   ]
  }
 ],
 "metadata": {
  "kernelspec": {
   "display_name": "Python 3",
   "language": "python",
   "name": "python3"
  }
 },
 "nbformat": 4,
 "nbformat_minor": 2
}
