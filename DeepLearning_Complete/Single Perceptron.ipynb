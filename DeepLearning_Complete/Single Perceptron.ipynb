{
 "cells": [
  {
   "cell_type": "code",
   "execution_count": 268,
   "metadata": {},
   "outputs": [],
   "source": [
    "import numpy as np\n",
    "import matplotlib.pyplot as pl"
   ]
  },
  {
   "cell_type": "markdown",
   "metadata": {},
   "source": [
    "# No Hidden Layers"
   ]
  },
  {
   "cell_type": "code",
   "execution_count": null,
   "metadata": {},
   "outputs": [],
   "source": []
  },
  {
   "cell_type": "code",
   "execution_count": 379,
   "metadata": {},
   "outputs": [
    {
     "name": "stdout",
     "output_type": "stream",
     "text": [
      "[0.01 0.01 0.03]\n",
      "0\n",
      "0\n",
      "0\n",
      "0\n",
      "0\n",
      "0\n",
      "0\n",
      "1\n"
     ]
    },
    {
     "data": {
      "text/plain": [
       "[<matplotlib.lines.Line2D at 0x1186dcbfd08>]"
      ]
     },
     "execution_count": 379,
     "metadata": {},
     "output_type": "execute_result"
    },
    {
     "data": {
      "image/png": "[encoded data removed]",
      "text/plain": [
       "<Figure size 432x288 with 1 Axes>"
      ]
     },
     "metadata": {
      "needs_background": "light"
     },
     "output_type": "display_data"
    }
   ],
   "source": [
    "class Perceptron():\n",
    "    def __init__(self,no_input):\n",
    "        self.epoch=200\n",
    "        self.learning_rate=0.01\n",
    "        self.weights=np.zeros(no_input)\n",
    "        self.bias=np.random.rand(1)\n",
    "        \n",
    "    def train(self,training_data,label):\n",
    "        error=[]\n",
    "        for _ in range(self.epoch):\n",
    "            for inputs,labels in zip(training_data,label):\n",
    "                prediction=self.predict(inputs)\n",
    "                self.weights+=self.learning_rate*(labels-prediction)*inputs\n",
    "                self.bias+=self.learning_rate*(labels-prediction)\n",
    "            error.append(prediction-labels)\n",
    "        print(self.weights)\n",
    "        return error\n",
    "        \n",
    "    def predict(self,inputs):\n",
    "        summation=np.dot(inputs,self.weights)+self.bias\n",
    "        if summation>0:\n",
    "            activation=1\n",
    "        else:\n",
    "            activation=0\n",
    "        return activation\n",
    "        \n",
    "        \n",
    "        \n",
    "training_inputs=np.array([[1,1,1],[1,1,0],[1,0,1],[0,1,1],\n",
    "                         [0,1,0]])\n",
    "labels=np.array([1,0,0,0,0])\n",
    "pereptron=Perceptron(3)\n",
    "errors=pereptron.train(training_inputs,labels)\n",
    "print(pereptron.predict(np.array([0,0,0])))\n",
    "print(pereptron.predict(np.array([0,0,1])))\n",
    "print(pereptron.predict(np.array([0,1,0])))\n",
    "print(pereptron.predict(np.array([0,1,1])))\n",
    "print(pereptron.predict(np.array([1,0,0])))\n",
    "print(pereptron.predict(np.array([1,0,1])))\n",
    "print(pereptron.predict(np.array([1,1,0])))\n",
    "print(pereptron.predict(np.array([1,1,1])))\n",
    "pl.plot(errors)"
   ]
  },
  {
   "cell_type": "markdown",
   "metadata": {},
   "source": [
    "# ..............................................................\n",
    "_________________________________________________________________"
   ]
  },
  {
   "cell_type": "markdown",
   "metadata": {},
   "source": [
    "# One Hidden Layer"
   ]
  },
  {
   "cell_type": "code",
   "execution_count": 420,
   "metadata": {},
   "outputs": [
    {
     "name": "stdout",
     "output_type": "stream",
     "text": [
      "[[1]]\n"
     ]
    }
   ],
   "source": [
    "def initialize(no_inputs,no_hidden,no_output):\n",
    "    hidden_weights=np.zeros(8).reshape(no_hidden,no_inputs)\n",
    "    output_weight=np.zeros(4).reshape(no_hidden,no_output)\n",
    "    return hidden_weights,output_weight\n",
    "\n",
    "def forward(training,hidden_weights,output_weight,hid_b,out_b):\n",
    "    hidden=np.dot(training,hidden_weights.T)+hid_b\n",
    "    output=np.dot(hidden,output_weight)+out_b\n",
    "    return hidden_weights,output_weight,output\n",
    "\n",
    "def train(training_data,label):\n",
    "    lr=0.01\n",
    "    hidden_weights,output_weight=initialize(2,4,1)\n",
    "    bias=np.random.rand(4).reshape(4,1)\n",
    "    bias_o=np.random.rand(1)\n",
    "    for i in range(100):\n",
    "        hidden_weights,output_weight,predict=forward(training_data,hidden_weights,output_weight,bias,bias_o)\n",
    "        labels=predict_w(predict)\n",
    "        hidden_weights+=lr*(labels-label)*training_data+bias\n",
    "        output_weight+=lr*(labels-label)*(np.sum(hidden_weights,axis=1).reshape(-1,1))+bias_o\n",
    "        bias+=lr*(labels-label)\n",
    "        bias_o+=lr*(np.mean(labels-label))\n",
    "    return hidden_weights,output_weight,bias,bias_o\n",
    "def predict_w(weights):\n",
    "#     weights=weights.flatten()\n",
    "    a=np.where(weights>=0,1,0)\n",
    "    return a\n",
    "    \n",
    "def predict(data,weight_h,weight_o,bias,bias_0):\n",
    "    a=np.dot(weight_h,data.T)+bias\n",
    "    b=np.dot(a.T,weight_o)+bias_o\n",
    "    output=predict_w(b)\n",
    "    print(output)\n",
    "    \n",
    "    \n",
    "data=np.array([0,0]).reshape(1,-1)\n",
    "training_inputs=np.array([[1,1],[1,0],[0,1],[0,0]])\n",
    "labels=np.array([1,1,1,0]).reshape(-1,1)\n",
    "weight_h,weight_o,bias,bias_o=train(training_inputs,labels)\n",
    "predict(data,weight_h,weight_o,bias,bias_o)"
   ]
  },
  {
   "cell_type": "code",
   "execution_count": null,
   "metadata": {},
   "outputs": [],
   "source": []
  },
  {
   "cell_type": "code",
   "execution_count": 340,
   "metadata": {},
   "outputs": [],
   "source": [
    "a=np.arange(8).reshape(-1,2)\n",
    "b=np.arange(4).reshape(-1,1)"
   ]
  },
  {
   "cell_type": "code",
   "execution_count": 356,
   "metadata": {},
   "outputs": [
    {
     "data": {
      "text/plain": [
       "array([[ 1],\n",
       "       [ 5],\n",
       "       [ 9],\n",
       "       [13]])"
      ]
     },
     "execution_count": 356,
     "metadata": {},
     "output_type": "execute_result"
    }
   ],
   "source": [
    "np.sum(a,axis=1).reshape(-1,1)"
   ]
  },
  {
   "cell_type": "code",
   "execution_count": 355,
   "metadata": {},
   "outputs": [
    {
     "data": {
      "text/plain": [
       "array([[0, 1],\n",
       "       [2, 3],\n",
       "       [4, 5],\n",
       "       [6, 7]])"
      ]
     },
     "execution_count": 355,
     "metadata": {},
     "output_type": "execute_result"
    }
   ],
   "source": [
    "a"
   ]
  },
  {
   "cell_type": "code",
   "execution_count": null,
   "metadata": {},
   "outputs": [],
   "source": []
  },
  {
   "cell_type": "code",
   "execution_count": null,
   "metadata": {},
   "outputs": [],
   "source": []
  },
  {
   "cell_type": "code",
   "execution_count": null,
   "metadata": {},
   "outputs": [],
   "source": []
  },
  {
   "cell_type": "code",
   "execution_count": null,
   "metadata": {},
   "outputs": [],
   "source": []
  },
  {
   "cell_type": "code",
   "execution_count": null,
   "metadata": {},
   "outputs": [],
   "source": []
  },
  {
   "cell_type": "code",
   "execution_count": null,
   "metadata": {},
   "outputs": [],
   "source": []
  },
  {
   "cell_type": "code",
   "execution_count": null,
   "metadata": {},
   "outputs": [],
   "source": []
  },
  {
   "cell_type": "code",
   "execution_count": null,
   "metadata": {},
   "outputs": [],
   "source": []
  },
  {
   "cell_type": "code",
   "execution_count": null,
   "metadata": {},
   "outputs": [],
   "source": []
  },
  {
   "cell_type": "code",
   "execution_count": null,
   "metadata": {},
   "outputs": [],
   "source": []
  },
  {
   "cell_type": "code",
   "execution_count": null,
   "metadata": {},
   "outputs": [],
   "source": []
  },
  {
   "cell_type": "code",
   "execution_count": null,
   "metadata": {},
   "outputs": [],
   "source": []
  },
  {
   "cell_type": "code",
   "execution_count": null,
   "metadata": {},
   "outputs": [],
   "source": []
  },
  {
   "cell_type": "code",
   "execution_count": null,
   "metadata": {},
   "outputs": [],
   "source": []
  },
  {
   "cell_type": "code",
   "execution_count": null,
   "metadata": {},
   "outputs": [],
   "source": []
  },
  {
   "cell_type": "code",
   "execution_count": null,
   "metadata": {},
   "outputs": [],
   "source": []
  },
  {
   "cell_type": "code",
   "execution_count": null,
   "metadata": {},
   "outputs": [],
   "source": []
  },
  {
   "cell_type": "code",
   "execution_count": null,
   "metadata": {},
   "outputs": [],
   "source": []
  },
  {
   "cell_type": "code",
   "execution_count": null,
   "metadata": {},
   "outputs": [],
   "source": []
  },
  {
   "cell_type": "code",
   "execution_count": null,
   "metadata": {},
   "outputs": [],
   "source": []
  },
  {
   "cell_type": "code",
   "execution_count": null,
   "metadata": {},
   "outputs": [],
   "source": []
  },
  {
   "cell_type": "code",
   "execution_count": null,
   "metadata": {},
   "outputs": [],
   "source": []
  },
  {
   "cell_type": "code",
   "execution_count": null,
   "metadata": {},
   "outputs": [],
   "source": []
  },
  {
   "cell_type": "code",
   "execution_count": null,
   "metadata": {},
   "outputs": [],
   "source": []
  }
 ],
 "metadata": {
  "kernelspec": {
   "display_name": "Python 3",
   "language": "python",
   "name": "python3"
  },
  "language_info": {
   "codemirror_mode": {
    "name": "ipython",
    "version": 3
   },
   "file_extension": ".py",
   "mimetype": "text/x-python",
   "name": "python",
   "nbconvert_exporter": "python",
   "pygments_lexer": "ipython3",
   "version": "3.7.7"
  }
 },
 "nbformat": 4,
 "nbformat_minor": 4
}
