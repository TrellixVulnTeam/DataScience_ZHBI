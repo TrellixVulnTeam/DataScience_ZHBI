{
 "cells": [
  {
   "cell_type": "code",
   "execution_count": 134,
   "metadata": {},
   "outputs": [
    {
     "name": "stdout",
     "output_type": "stream",
     "text": [
      "50.41 48.26\n",
      "y= 0.11107569907677435 x + 42.660674009539804\n",
      "0.014941827678531574\n"
     ]
    },
    {
     "data": {
      "image/png": "[encoded data removed]",
      "text/plain": [
       "<Figure size 1080x720 with 1 Axes>"
      ]
     },
     "metadata": {
      "needs_background": "light"
     },
     "output_type": "display_data"
    }
   ],
   "source": [
    "import matplotlib.pyplot as pl\n",
    "import random\n",
    "import numpy as np\n",
    "import pandas as pd\n",
    "%matplotlib inline\n",
    "\n",
    "a=np.array([random.randint(1,100) for i in range(100)])\n",
    "b=np.array([random.randint(1,100) for i in range(100)])\n",
    "# a=np.array([0,1,2,3,4])\n",
    "# b=np.array([0,1,2,3,4])\n",
    "x_mean=a.mean()\n",
    "y_mean=b.mean()\n",
    "print(x_mean,y_mean)\n",
    "# x-xbar\n",
    "x_xbar=np.subtract(a,x_mean)\n",
    "\n",
    "#y-ybar\n",
    "y_ybar=np.subtract(b,y_mean)\n",
    "\n",
    "# x-xbar square\n",
    "x_xbar_sq=np.square(x_xbar)\n",
    "\n",
    "#y-ybar square\n",
    "y_ybar_sq=np.square(y_ybar)\n",
    "\n",
    "#(x-xbar)(y-ybar)\n",
    "x_y_bar=np.multiply(x_xbar,y_ybar)\n",
    "\n",
    "sumx_xbar=np.sum(x_xbar)\n",
    "sumy_ybar=np.sum(y_ybar)\n",
    "sumx_xbarsquare=np.sum(x_xbar_sq)\n",
    "x_xbar_y_ybar=np.sum(x_y_bar)\n",
    "\n",
    "slope=x_xbar_y_ybar/sumx_xbarsquare\n",
    "y_intercept=y_mean-slope*x_mean\n",
    "# print(a)\n",
    "# print(b)\n",
    "# print(x_xbar)\n",
    "# print(y_ybar)\n",
    "# print(x_xbar_sq)\n",
    "# print(y_ybar_sq)\n",
    "# print(x_y_bar)\n",
    "# print(\"Slope=\",slope)\n",
    "# print(\"Y intercept=\",y_intercept)\n",
    "print(\"y=\",slope,\"x +\",y_intercept)\n",
    "\n",
    "mainslope=[]\n",
    "for i in range(len(a)):\n",
    "    y=slope*a[i]+y_intercept\n",
    "    mainslope.append(y)\n",
    "# print(mainslope)\n",
    "\n",
    "\n",
    "y_y=np.subtract(mainslope,y_mean)\n",
    "y_ysq=np.square(y_y)\n",
    "subm1=np.sum(y_ysq)\n",
    "\n",
    "LSE=subm1/(np.sum(y_ybar_sq))\n",
    "print(LSE)\n",
    "\n",
    "df2=pd.DataFrame({\"x\":a,\"y\":b,\"Y~\":mainslope,\"(y-Y~)\":y_y,\"(y-y')\":y_ybar,\"(y-Y~)^2\":y_ysq,\"(y-y')^2\":y_ybar_sq})\n",
    "# print(df2)\n",
    "\n",
    "df=pd.DataFrame({\"X\":a,\"Y\":b,\"x-x'\":x_xbar,\"y-y'\":y_ybar,\"(x-x')^2\":x_xbar_sq,\"(y-y')^2\":y_ybar_sq,\"(x-x')(y-y')\":x_y_bar})\n",
    "# print(df)\n",
    "\n",
    "pl.figure(figsize=(15,10))\n",
    "pl.scatter(a,b,marker='o',c=\"black\")\n",
    "\n",
    "pl.plot(a,mainslope,color='r')\n",
    "pl.legend([\"Slope\",\"Data Points\"],loc='best')\n",
    "pl.grid()\n",
    "pl.show()"
   ]
  },
  {
   "cell_type": "code",
   "execution_count": null,
   "metadata": {},
   "outputs": [],
   "source": []
  },
  {
   "cell_type": "code",
   "execution_count": null,
   "metadata": {},
   "outputs": [],
   "source": []
  },
  {
   "cell_type": "code",
   "execution_count": null,
   "metadata": {},
   "outputs": [],
   "source": []
  },
  {
   "cell_type": "code",
   "execution_count": null,
   "metadata": {},
   "outputs": [],
   "source": []
  }
 ],
 "metadata": {
  "kernelspec": {
   "display_name": "Python 3",
   "language": "python",
   "name": "python3"
  },
  "language_info": {
   "codemirror_mode": {
    "name": "ipython",
    "version": 3
   },
   "file_extension": ".py",
   "mimetype": "text/x-python",
   "name": "python",
   "nbconvert_exporter": "python",
   "pygments_lexer": "ipython3",
   "version": "3.7.4"
  }
 },
 "nbformat": 4,
 "nbformat_minor": 2
}
