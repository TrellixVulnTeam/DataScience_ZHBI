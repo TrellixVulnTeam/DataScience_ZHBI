{
 "cells": [
  {
   "cell_type": "code",
   "execution_count": 2,
   "metadata": {},
   "outputs": [],
   "source": [
    "import random\n",
    "import math"
   ]
  },
  {
   "cell_type": "code",
   "execution_count": 16,
   "metadata": {},
   "outputs": [
    {
     "name": "stdout",
     "output_type": "stream",
     "text": [
      "10 3.1622776601683795\n",
      "3.1622776601683795\n",
      "6.324555320336759\n"
     ]
    },
    {
     "data": {
      "text/plain": [
       "3"
      ]
     },
     "execution_count": 16,
     "metadata": {},
     "output_type": "execute_result"
    }
   ],
   "source": [
    "\n",
    "def jump_search(key,array):\n",
    "    n=len(array)\n",
    "    step=math.sqrt(n)\n",
    "    print(n,step)\n",
    "    prev=0\n",
    "    while array[int(min(step,n)-1)]<key:\n",
    "        prev=step\n",
    "        step+=math.sqrt(n)\n",
    "        if prev>=n:\n",
    "            pass\n",
    "        print(prev)\n",
    "        print(step)\n",
    "    while array[int(prev)]<key:\n",
    "        prev+=1\n",
    "        if prev==min(step,n):\n",
    "            return -1\n",
    "\n",
    "\n",
    "    if array[int(prev)]==key:\n",
    "        return round(prev)\n",
    "\n",
    "\n",
    "array=[1,2,3,4,5,6,7,8,9,10]\n",
    "array=sorted(array)\n",
    "\n",
    "jump_search(4,array)"
   ]
  },
  {
   "cell_type": "code",
   "execution_count": 4,
   "metadata": {},
   "outputs": [
    {
     "data": {
      "text/plain": [
       "[1, 2, 3, 4, 5, 6, 7, 8, 9, 10]"
      ]
     },
     "execution_count": 4,
     "metadata": {},
     "output_type": "execute_result"
    }
   ],
   "source": [
    "array"
   ]
  },
  {
   "cell_type": "code",
   "execution_count": null,
   "metadata": {},
   "outputs": [],
   "source": []
  },
  {
   "cell_type": "code",
   "execution_count": null,
   "metadata": {},
   "outputs": [],
   "source": []
  },
  {
   "cell_type": "code",
   "execution_count": null,
   "metadata": {},
   "outputs": [],
   "source": []
  }
 ],
 "metadata": {
  "kernelspec": {
   "display_name": "Python 3",
   "language": "python",
   "name": "python3"
  },
  "language_info": {
   "codemirror_mode": {
    "name": "ipython",
    "version": 3
   },
   "file_extension": ".py",
   "mimetype": "text/x-python",
   "name": "python",
   "nbconvert_exporter": "python",
   "pygments_lexer": "ipython3",
   "version": "3.7.7"
  }
 },
 "nbformat": 4,
 "nbformat_minor": 4
}
