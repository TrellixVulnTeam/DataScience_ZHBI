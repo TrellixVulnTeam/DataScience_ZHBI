{
 "cells": [
  {
   "cell_type": "code",
   "execution_count": 29,
   "metadata": {},
   "outputs": [
    {
     "name": "stdout",
     "output_type": "stream",
     "text": [
      "After [2, 5, 6, 13, 32, 45, 45, 65, 65, 87, 98]\n",
      "Before [45, 87, 98, 65, 6, 5, 2, 13, 32, 65, 45]\n"
     ]
    }
   ],
   "source": [
    "def mergeSort(arr):\n",
    "    if len(arr)>1:\n",
    "        mid=len(arr)//2\n",
    "        L=arr[:mid]\n",
    "        R=arr[mid:]\n",
    "        mergeSort(L)\n",
    "        mergeSort(R)\n",
    "        i=j=k=0\n",
    "        while i<len(L) and j<len(R):\n",
    "            if L[i]<R[j]:\n",
    "                arr[k]=L[i]\n",
    "                i+=1\n",
    "            else:\n",
    "                arr[k]=R[j]\n",
    "                j+=1\n",
    "            k+=1\n",
    "        \n",
    "        while i<len(L):\n",
    "            arr[k]=L[i]\n",
    "            i+=1\n",
    "            k+=1\n",
    "            \n",
    "        while j<len(R):\n",
    "            arr[k]=R[j]\n",
    "            j+=1\n",
    "            k+=1\n",
    "        \n",
    "print(\"After\",arr)\n",
    "    \n",
    "    \n",
    "    \n",
    "    \n",
    "    \n",
    "    \n",
    "    \n",
    "    \n",
    "arr=[45,87,98,65,6,5,2,13,32,65,45]\n",
    "# arr=[8,3,11,9]\n",
    "print(\"Before\",arr)\n",
    "mergeSort(arr)"
   ]
  }
 ],
 "metadata": {
  "kernelspec": {
   "display_name": "Python 3",
   "language": "python",
   "name": "python3"
  },
  "language_info": {
   "codemirror_mode": {
    "name": "ipython",
    "version": 3
   },
   "file_extension": ".py",
   "mimetype": "text/x-python",
   "name": "python",
   "nbconvert_exporter": "python",
   "pygments_lexer": "ipython3",
   "version": "3.7.7"
  }
 },
 "nbformat": 4,
 "nbformat_minor": 4
}
