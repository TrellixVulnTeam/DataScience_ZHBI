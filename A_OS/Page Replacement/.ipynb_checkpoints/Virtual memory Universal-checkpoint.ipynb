{
 "cells": [
  {
   "cell_type": "code",
   "execution_count": 356,
   "id": "8ccf4716",
   "metadata": {},
   "outputs": [],
   "source": [
    "import numpy as np\n",
    "import math\n",
    "import os\n",
    "import random\n",
    "from matplotlib import pyplot as plt\n",
    "import queue\n",
    "import collections\n",
    "import seaborn as sns\n",
    "PAGE_SIZE = 4096                    # Page Size in Bytes\n",
    "NP = 6                              # No. of processes in memory\n",
    "F = 16                              # No. of Frames in physical memory\n",
    "INVALID = -10\n",
    "PID = 0                             # Used for Indexing into Frames\n",
    "FRAME = 1                           # Used for Indexing into Frames\n",
    "COMPLETED = 10                      # Process Status Flags\n",
    "INCOMPLETE = 20                     #\n",
    "# The following are page replacement algorithm types\n",
    "FIFO_GLOBAL = 10\n",
    "oldest_frame = 0\n",
    "loc_oldest_frame = np.zeros(F).astype('int32')\n",
    "phys_mem = np.full((F, 2), INVALID).astype('int32')"
   ]
  },
  {
   "cell_type": "code",
   "execution_count": 357,
   "id": "9458bc70",
   "metadata": {},
   "outputs": [],
   "source": [
    "def init_proc_queue():\n",
    "    pq = queue.Queue(maxsize=NP)\n",
    "    proc_queue = list(set((NP * np.random.random(20)).astype('int32')))\n",
    "    random.shuffle(proc_queue)\n",
    "    print(proc_queue)\n",
    "    for pr in proc_queue:\n",
    "        pq.put_nowait(pr)\n",
    "    return(pq)\n",
    "\n",
    "def readq(q):\n",
    "    while True:\n",
    "        try:\n",
    "            yield q.get_nowait()\n",
    "        except queue.Empty:\n",
    "            break"
   ]
  },
  {
   "cell_type": "code",
   "execution_count": 358,
   "id": "3a084b2d",
   "metadata": {},
   "outputs": [],
   "source": [
    "def init_phys_mem():\n",
    "    for i in range(F):\n",
    "        #         initializing Physical memory to implement FIFO\n",
    "        phys_mem[i, PID] = INVALID\n",
    "        phys_mem[i, FRAME] = INVALID\n",
    "\n",
    "\n",
    "def update_phys_mem(pid):\n",
    "    for i in range(F):\n",
    "        #         Updating physical memory of FIFO\n",
    "        if phys_mem[i, PID] == pid:\n",
    "            phys_mem[i, PID] = INVALID\n",
    "            phys_mem[i, FRAME] = INVALID"
   ]
  },
  {
   "cell_type": "code",
   "execution_count": 359,
   "id": "e8d8c190",
   "metadata": {},
   "outputs": [],
   "source": [
    "def correct_refs(alist, cent, maxpg):\n",
    "    if cent != 0:\n",
    "        pgnum = int(cent / PAGE_SIZE)\n",
    "        lh = (pgnum + 1) * PAGE_SIZE - 1\n",
    "        ll = pgnum * PAGE_SIZE\n",
    "    else:\n",
    "        lh = maxpg * PAGE_SIZE\n",
    "        ll = 0\n",
    "    for i in range(alist.shape[0]):\n",
    "        if alist[i] >= lh:\n",
    "            alist[i] = lh - 1\n",
    "        if alist[i] < ll:\n",
    "            alist[i] = ll + 1\n",
    "    return alist\n",
    "def sim_process(M, sigma, outfile, lfrac=0.9):\n",
    "    cur_page = int(M * np.random.random())  # Generate a random start page\n",
    "    cur_locale = round(PAGE_SIZE * (cur_page + 0.5))  # Locality of reference\n",
    "    sum_refs = 0\n",
    "    list_locales = list()\n",
    "    for count in range(M):\n",
    "        # random page address in memory.\n",
    "        num_refs = int(512 + (PAGE_SIZE - 512) * np.random.random())\n",
    "        sum_refs += num_refs\n",
    "        list_locales.append(cur_page)\n",
    "        num_loc = round(lfrac * num_refs)\n",
    "        aref_list = np.random.normal(cur_locale, sigma * 300 + 100,\n",
    "                                     num_loc)  # If siagma is less, it stays less within that locality of reference\n",
    "        # if sigma more, it may vary more\n",
    "        aref_list = correct_refs(aref_list, cur_locale, M)\n",
    "        aref_list = aref_list.astype('int32')\n",
    "        cur_page = int(M * np.random.random())\n",
    "        cur_locale = round(PAGE_SIZE * (cur_page + 0.5))\n",
    "        num_trans = round((1 - lfrac) * num_refs)\n",
    "        tref_list = np.random.random(num_trans) * cur_locale\n",
    "        tref_list = correct_refs(tref_list, 0, M)\n",
    "        tref_list = tref_list.astype('int32')\n",
    "        np.append(aref_list, tref_list).tofile(outfile, sep='\\n')\n",
    "        outfile.write('\\n')\n",
    "\n",
    "    return list_locales, sum_refs"
   ]
  },
  {
   "cell_type": "code",
   "execution_count": 360,
   "id": "5aae95aa",
   "metadata": {},
   "outputs": [],
   "source": [
    "def get_oldest_frame(pr, algo_type):\n",
    "    global oldest_frame\n",
    "    if algo_type == FIFO_GLOBAL:\n",
    "        rv = oldest_frame\n",
    "        oldest_frame += 1\n",
    "        if oldest_frame == F:\n",
    "            oldest_frame = 0\n",
    "        return rv\n",
    "\n",
    "    return INVALID\n",
    "def getFifoFrame(fr_num, pnum, pr):\n",
    "    while fr_num < F:\n",
    "        if phys_mem[fr_num, PID] == pr and phys_mem[fr_num, FRAME] == pnum:\n",
    "            break\n",
    "        else:\n",
    "            fr_num += 1\n",
    "    return fr_num\n",
    "\n",
    "\n",
    "def getLruFrame(fr_num, pnum, pr):\n",
    "    global phys_mem\n",
    "    while fr_num < F:\n",
    "        if phys_mem[fr_num, PID] == pr and phys_mem[fr_num, FRAME] == pnum:\n",
    "            temp = phys_mem[fr_num]\n",
    "            phys_mem = np.delete(phys_mem, fr_num, axis=0)\n",
    "            phys_mem = np.concatenate([phys_mem, temp.reshape(1, -1)], axis=0)\n",
    "            break\n",
    "        else:\n",
    "            fr_num += 1\n",
    "    return fr_num\n",
    "\n",
    "\n",
    "def getMRUFrame(fr_num, pnum, pr):\n",
    "    pass\n",
    "\n",
    "\n",
    "def getRRFrame(fr_num, pnum, pr):\n",
    "    while fr_num < F:\n",
    "        if phys_mem[fr_num, PID] == pr and phys_mem[fr_num, FRAME] == pnum:\n",
    "            break\n",
    "        else:\n",
    "            fr_num += 1\n",
    "    return fr_num\n",
    "\n",
    "\n",
    "def getLFUFrame(fr_num, pnum, pr):\n",
    "    pass"
   ]
  },
  {
   "cell_type": "code",
   "execution_count": 361,
   "id": "c09c5c84",
   "metadata": {},
   "outputs": [],
   "source": [
    "def gen_pagefault(pgnum, pr):\n",
    "    fr_num = 0\n",
    "    while fr_num < F and phys_mem[fr_num, FRAME] >= 0:\n",
    "        fr_num += 1\n",
    "    if fr_num >= F:\n",
    "        return INVALID\n",
    "    phys_mem[fr_num, FRAME] = pgnum\n",
    "    phys_mem[fr_num, PID] = pr\n",
    "    return fr_num"
   ]
  },
  {
   "cell_type": "code",
   "execution_count": 362,
   "id": "9cf04c5c",
   "metadata": {},
   "outputs": [],
   "source": [
    "def page_replace(pgnum, pr):\n",
    "    global phys_mem\n",
    "    temp = np.array([pr, pgnum])\n",
    "    phys_mem = np.delete(phys_mem, 0, axis=0)\n",
    "    phys_mem = np.concatenate([phys_mem, temp.reshape(1, -1)], axis=0)\n",
    "    return F-1\n",
    "\n",
    "\n",
    "def page_replaceFIFO(pgnum, pr):\n",
    "    cur_frame = get_oldest_frame(pr, algo)\n",
    "    phys_mem[cur_frame, PID] = pr\n",
    "    phys_mem[cur_frame, FRAME] = pgnum\n",
    "    return cur_frame\n",
    "\n",
    "def page_replaceMRU():\n",
    "    \n",
    "    pass\n",
    "\n",
    "\n",
    "def page_replaceRR(pgnum, pr):\n",
    "    global phys_mem\n",
    "    f_num=np.random.randint(F)\n",
    "    temp = np.array([pr, pgnum])\n",
    "    phys_mem = np.delete(phys_mem, f_num, axis=0)\n",
    "    phys_mem=np.insert(phys_mem,f_num,temp,axis=0)\n",
    "    return f_num\n",
    "\n",
    "\n",
    "def page_replaceLFU():\n",
    "    \n",
    "    pass\n"
   ]
  },
  {
   "cell_type": "code",
   "execution_count": 363,
   "id": "83588653",
   "metadata": {},
   "outputs": [],
   "source": [
    "def get_pageframe(pnum, pr, algo=None):\n",
    "\n",
    "    # Trying to get a page Hit below\n",
    "    fr_num = 0\n",
    "    if algo == \"lru\":\n",
    "        fr_num = getLruFrame(fr_num, pnum, pr)\n",
    "    elif algo == \"fifo\":\n",
    "        fr_num = getFifoFrame(fr_num, pnum, pr)\n",
    "    elif algo == \"mru\":\n",
    "        fr_num = getLruFrame(fr_num, pnum, pr)\n",
    "    elif algo == \"rr\":\n",
    "        fr_num = getRRFrame(fr_num, pnum, pr)\n",
    "    elif algo == \"lfu\":\n",
    "        fr_num = getLFUFrame(fr_num, pnum, pr)\n",
    "\n",
    "    # This indicates Page Hit.\n",
    "    if fr_num < F:\n",
    "        return fr_num * PAGE_SIZE, 0\n",
    "\n",
    "    # This tries to find page fault if occured.\n",
    "    fr_num = gen_pagefault(pnum, pr)\n",
    "\n",
    "    if fr_num >= 0:\n",
    "        return fr_num * PAGE_SIZE, 1\n",
    "\n",
    "    # This is for page replacement based on algorith choosen\n",
    "    if algo == \"lru\":\n",
    "        fr_num = page_replace(pnum, pr)\n",
    "    elif algo == \"fifo\":\n",
    "        fr_num = page_replaceFIFO(pnum, pr)\n",
    "    elif algo==\"rr\":\n",
    "        fr_num=page_replaceRR(pnum,pr)\n",
    "\n",
    "    if fr_num >= 0:\n",
    "        return fr_num * PAGE_SIZE, 2\n",
    "    return INVALID, 0"
   ]
  },
  {
   "cell_type": "code",
   "execution_count": 364,
   "id": "0fd4ab81",
   "metadata": {},
   "outputs": [],
   "source": [
    "def mem_manager(infile, outfile, pid, algo=None):\n",
    "    #    num_faults = 0\n",
    "    # Read a number of address references, i.e., execute the process\n",
    "    # partially (or fully, if the number generated is > process size)\n",
    "    num_addr = 512 + int(4096 * np.random.random())\n",
    "    idx = 0\n",
    "    while idx < num_addr:\n",
    "        addr_ref = infile.readline().strip()\n",
    "        if addr_ref == '':\n",
    "            break\n",
    "        addr_ref = int(addr_ref)\n",
    "        pg_num = int(addr_ref / PAGE_SIZE)\n",
    "        pg_offset = addr_ref % PAGE_SIZE\n",
    "        # Trying to fetch fault for FIFO.\n",
    "        pg_base, pg_fault = get_pageframe(pg_num, pid, algo)\n",
    "\n",
    "        if pg_base >= 0:\n",
    "            phys_addr = pg_base + pg_offset\n",
    "            outfile.write(str(addr_ref) + ',' + str(phys_addr) + ','\n",
    "                          + str(pg_fault) + '\\n')  # Saving the logical add, physical add and faults for FIFO\n",
    "\n",
    "            if pg_fault == 0:\n",
    "                pr_timing[pid] += IN_MEMORY\n",
    "            elif pg_fault == 1:\n",
    "                pr_timing[pid] += MEM_FAULT\n",
    "            else:\n",
    "                pr_timing[pid] += PAGE_REPLACE\n",
    "\n",
    "        else:\n",
    "            print(idx)\n",
    "            return INVALID\n",
    "        idx += 1\n",
    "\n",
    "    if idx >= num_addr:\n",
    "        return INCOMPLETE\n",
    "    return COMPLETED"
   ]
  },
  {
   "cell_type": "code",
   "execution_count": 365,
   "id": "0ec95eea",
   "metadata": {},
   "outputs": [],
   "source": [
    "def print_phys_mem():\n",
    "    print('{:^10s} {:^6s} {:^6s}'.format('Frame', 'PID', 'Page No.'))\n",
    "    print('{:^10s} {:^6s} {:^6s}'.format('-----', '---', '--------'))\n",
    "    for i in range(F):\n",
    "        if phys_mem[i, PID] != INVALID:\n",
    "            print('{:^10d} {:^6d} {:^6d}'.format(i, phys_mem[i, PID],\n",
    "                                                 phys_mem[i, FRAME]))\n",
    "        else:\n",
    "            print('Free Frame: ', i)\n",
    "    print('_____________________________________________________________')\n"
   ]
  },
  {
   "cell_type": "code",
   "execution_count": 366,
   "id": "b92fa9d7",
   "metadata": {},
   "outputs": [],
   "source": [
    "pr_size = np.zeros(NP, dtype='int32')\n",
    "def create_simulation():\n",
    "    for p in range(NP):\n",
    "        fname = 'AR_' + '{:02d}'.format(p) + '.txt'\n",
    "        op = open(fname, 'w')\n",
    "        npg = int(np.random.normal(10, 2.5))\n",
    "        nsig = int(5 * np.random.random())\n",
    "        print(f'Process {p} requires {npg} pages and has a quality {nsig}')\n",
    "        pg_seq, pr_size[p] = sim_process(npg, nsig, op)\n",
    "        print(pg_seq, pr_size[p])\n",
    "        op.write('\\n')\n",
    "        op.close()\n",
    "        print('Written process ', p, 'to ', fname)"
   ]
  },
  {
   "cell_type": "code",
   "execution_count": 367,
   "id": "28f88b41",
   "metadata": {},
   "outputs": [],
   "source": [
    "# create_simulation()"
   ]
  },
  {
   "cell_type": "code",
   "execution_count": 368,
   "id": "c052e1c0",
   "metadata": {},
   "outputs": [
    {
     "name": "stdout",
     "output_type": "stream",
     "text": [
      "Enter the algorithm to userr\n"
     ]
    }
   ],
   "source": [
    "algo = input(\"Enter the algorithm to use\")"
   ]
  },
  {
   "cell_type": "code",
   "execution_count": 369,
   "id": "2d1f0ef3",
   "metadata": {
    "scrolled": false
   },
   "outputs": [
    {
     "name": "stdout",
     "output_type": "stream",
     "text": [
      "[5, 4, 2, 0, 3, 1]\n",
      "Reading Process from AR_00.txt\n",
      "Reading Process from AR_01.txt\n",
      "Reading Process from AR_02.txt\n",
      "Reading Process from AR_03.txt\n",
      "Reading Process from AR_04.txt\n",
      "Reading Process from AR_05.txt\n",
      "Process 5 (Size: 0 Bytes) completed;         removing from queue\n",
      "Time taken: 23048\n",
      "Slow down by inf%\n",
      "  Frame     PID   Page No.\n",
      "  -----     ---   --------\n",
      "    0        3      8   \n",
      "    1        0      6   \n",
      "    2        0      3   \n",
      "    3        0      2   \n",
      "    4        3      5   \n",
      "    5        4      8   \n",
      "    6        1      6   \n",
      "    7        0      0   \n",
      "    8        1      3   \n",
      "    9        1      5   \n",
      "    10       1      1   \n",
      "    11       3      0   \n",
      "    12       5      3   \n",
      "    13       3      3   \n",
      "    14       5      1   \n",
      "    15       5      0   \n",
      "_____________________________________________________________\n"
     ]
    },
    {
     "name": "stderr",
     "output_type": "stream",
     "text": [
      "<ipython-input-369-13aea108f0b1>:35: RuntimeWarning: divide by zero encountered in double_scalars\n",
      "  slow = (pr_timing[pr] - pr_size[pr]) * 100.0 / pr_size[pr]\n"
     ]
    },
    {
     "name": "stdout",
     "output_type": "stream",
     "text": [
      "Process 4 (Size: 0 Bytes) completed;         removing from queue\n",
      "Time taken: 38843\n",
      "Slow down by inf%\n",
      "  Frame     PID   Page No.\n",
      "  -----     ---   --------\n",
      "    0        1      3   \n",
      "    1        3      1   \n",
      "    2        4      2   \n",
      "    3        4      3   \n",
      "    4        4      0   \n",
      "    5        4      7   \n",
      "    6        4      10  \n",
      "    7        2      4   \n",
      "    8        4      1   \n",
      "    9        0      7   \n",
      "    10       4      9   \n",
      "    11       4      4   \n",
      "    12       4      8   \n",
      "    13       4      6   \n",
      "    14       3      3   \n",
      "    15       4      5   \n",
      "_____________________________________________________________\n",
      "Process 0 (Size: 0 Bytes) completed;         removing from queue\n",
      "Time taken: 27681\n",
      "Slow down by inf%\n",
      "  Frame     PID   Page No.\n",
      "  -----     ---   --------\n",
      "    0        1      3   \n",
      "    1        3      1   \n",
      "    2        2      0   \n",
      "    3        2      2   \n",
      "    4        2      1   \n",
      "    5        0      0   \n",
      "Free Frame:  6\n",
      "    7        2      4   \n",
      "Free Frame:  8\n",
      "    9        0      7   \n",
      "Free Frame:  10\n",
      "Free Frame:  11\n",
      "Free Frame:  12\n",
      "Free Frame:  13\n",
      "    14       3      3   \n",
      "Free Frame:  15\n",
      "_____________________________________________________________\n",
      "Process 1 (Size: 0 Bytes) completed;         removing from queue\n",
      "Time taken: 27923\n",
      "Slow down by inf%\n",
      "  Frame     PID   Page No.\n",
      "  -----     ---   --------\n",
      "    0        1      3   \n",
      "    1        3      1   \n",
      "    2        2      0   \n",
      "    3        2      2   \n",
      "    4        2      1   \n",
      "    5        3      0   \n",
      "    6        1      4   \n",
      "    7        2      4   \n",
      "    8        1      0   \n",
      "    9        1      2   \n",
      "    10       1      1   \n",
      "Free Frame:  11\n",
      "Free Frame:  12\n",
      "Free Frame:  13\n",
      "    14       3      3   \n",
      "Free Frame:  15\n",
      "_____________________________________________________________\n",
      "Process 3 (Size: 0 Bytes) completed;         removing from queue\n",
      "Time taken: 30589\n",
      "Slow down by inf%\n",
      "  Frame     PID   Page No.\n",
      "  -----     ---   --------\n",
      "Free Frame:  0\n",
      "    1        3      1   \n",
      "    2        2      0   \n",
      "    3        2      2   \n",
      "    4        2      1   \n",
      "    5        3      0   \n",
      "Free Frame:  6\n",
      "    7        2      4   \n",
      "Free Frame:  8\n",
      "Free Frame:  9\n",
      "Free Frame:  10\n",
      "Free Frame:  11\n",
      "Free Frame:  12\n",
      "Free Frame:  13\n",
      "    14       3      3   \n",
      "Free Frame:  15\n",
      "_____________________________________________________________\n",
      "Process 2 (Size: 0 Bytes) completed;         removing from queue\n",
      "Time taken: 33078\n",
      "Slow down by inf%\n",
      "  Frame     PID   Page No.\n",
      "  -----     ---   --------\n",
      "    0        2      3   \n",
      "    1        2      5   \n",
      "    2        2      0   \n",
      "    3        2      2   \n",
      "    4        2      1   \n",
      "    5        2      6   \n",
      "    6        2      8   \n",
      "    7        2      4   \n",
      "    8        2      7   \n",
      "Free Frame:  9\n",
      "Free Frame:  10\n",
      "Free Frame:  11\n",
      "Free Frame:  12\n",
      "Free Frame:  13\n",
      "Free Frame:  14\n",
      "Free Frame:  15\n",
      "_____________________________________________________________\n"
     ]
    }
   ],
   "source": [
    "init_phys_mem()\n",
    "oldest_frame = 0\n",
    "pr_que = init_proc_queue()\n",
    "pr_timing = np.zeros(F).astype('int32')\n",
    "IN_MEMORY = 1\n",
    "MEM_FAULT = 50\n",
    "PAGE_REPLACE = 100\n",
    "\n",
    "# Open necessary files\n",
    "infiles = list()\n",
    "outfiles = list()\n",
    "for i in range(NP):\n",
    "    fname = 'AR_{:02d}.txt'.format(i)\n",
    "    outname = 'AR_{:02}_{}_out.txt'.format(i, algo)\n",
    "\n",
    "    if os.access(fname, os.R_OK):\n",
    "        print(f'Reading Process from {fname}')\n",
    "        infiles.append(open(fname, 'r'))\n",
    "    else:\n",
    "        print(f'Cannot open {fname} for reading')\n",
    "    outfiles.append(open(outname, 'w'))\n",
    "\n",
    "# Map logical into physical addresses and keep track of page faults\n",
    "for pr in readq(pr_que):\n",
    "    rv = mem_manager(infiles[pr], outfiles[pr], pr, algo=algo)\n",
    "    if rv == INVALID:\n",
    "        print('Memory overflow error')\n",
    "        break\n",
    "    if rv == INCOMPLETE:\n",
    "        pr_que.put_nowait(pr)\n",
    "    else:\n",
    "        print(f'Process {pr} (Size: {pr_size[pr]} Bytes) completed; \\\n",
    "        removing from queue')\n",
    "        print(f'Time taken: {pr_timing[pr]}')\n",
    "        slow = (pr_timing[pr] - pr_size[pr]) * 100.0 / pr_size[pr]\n",
    "        print('Slow down by {:.2f}%'.format(slow))\n",
    "        print_phys_mem()\n",
    "        update_phys_mem(pr)\n",
    "\n",
    "#        print('Current Status of Physical Memory')\n",
    "#        print_phys_mem()\n",
    "\n",
    "# Close all files\n",
    "for i in range(NP):\n",
    "    infiles[i].close()\n",
    "    outfiles[i].close()"
   ]
  },
  {
   "cell_type": "code",
   "execution_count": 370,
   "id": "079f8ecb",
   "metadata": {},
   "outputs": [],
   "source": [
    "file_name='AR_00_{}_out.txt'.format(algo)\n",
    "file=open(file_name,'r')\n",
    "data=file.read()\n",
    "datas=np.array(data.split('\\n'))\n",
    "faults=[data[-1] for data in datas[:-1]]"
   ]
  },
  {
   "cell_type": "code",
   "execution_count": 371,
   "id": "3585269a",
   "metadata": {},
   "outputs": [
    {
     "data": {
      "image/png": "[encoded data removed]",
      "text/plain": [
       "<Figure size 432x288 with 1 Axes>"
      ]
     },
     "metadata": {
      "needs_background": "light"
     },
     "output_type": "display_data"
    }
   ],
   "source": [
    "plt.title(\"For {} Page Replacement\".format(algo))\n",
    "sns.countplot(x=faults)\n",
    "plt.show()"
   ]
  },
  {
   "cell_type": "code",
   "execution_count": 372,
   "id": "4fadb12f",
   "metadata": {},
   "outputs": [
    {
     "data": {
      "text/plain": [
       "Counter({'1': 2, '0': 22081, '2': 55})"
      ]
     },
     "execution_count": 372,
     "metadata": {},
     "output_type": "execute_result"
    }
   ],
   "source": [
    "collections.Counter(faults)"
   ]
  },
  {
   "cell_type": "code",
   "execution_count": null,
   "id": "715a5162",
   "metadata": {},
   "outputs": [],
   "source": []
  },
  {
   "cell_type": "code",
   "execution_count": null,
   "id": "1e3163d8",
   "metadata": {},
   "outputs": [],
   "source": []
  },
  {
   "cell_type": "code",
   "execution_count": null,
   "id": "926db068",
   "metadata": {},
   "outputs": [],
   "source": []
  },
  {
   "cell_type": "code",
   "execution_count": null,
   "id": "55f45929",
   "metadata": {},
   "outputs": [],
   "source": []
  },
  {
   "cell_type": "code",
   "execution_count": null,
   "id": "dc80300f",
   "metadata": {},
   "outputs": [],
   "source": []
  },
  {
   "cell_type": "code",
   "execution_count": null,
   "id": "5cd2bef5",
   "metadata": {},
   "outputs": [],
   "source": []
  },
  {
   "cell_type": "code",
   "execution_count": null,
   "id": "ae5b0046",
   "metadata": {},
   "outputs": [],
   "source": []
  },
  {
   "cell_type": "code",
   "execution_count": null,
   "id": "c3d4a2d3",
   "metadata": {},
   "outputs": [],
   "source": []
  },
  {
   "cell_type": "code",
   "execution_count": null,
   "id": "688f1e38",
   "metadata": {},
   "outputs": [],
   "source": []
  },
  {
   "cell_type": "code",
   "execution_count": null,
   "id": "e5b4f2cf",
   "metadata": {},
   "outputs": [],
   "source": []
  },
  {
   "cell_type": "code",
   "execution_count": null,
   "id": "1a4f0114",
   "metadata": {},
   "outputs": [],
   "source": []
  },
  {
   "cell_type": "code",
   "execution_count": null,
   "id": "b6dcd7cd",
   "metadata": {},
   "outputs": [],
   "source": []
  },
  {
   "cell_type": "code",
   "execution_count": null,
   "id": "e7c32574",
   "metadata": {},
   "outputs": [],
   "source": []
  },
  {
   "cell_type": "code",
   "execution_count": null,
   "id": "6be33a41",
   "metadata": {},
   "outputs": [],
   "source": []
  },
  {
   "cell_type": "code",
   "execution_count": null,
   "id": "4def1411",
   "metadata": {},
   "outputs": [],
   "source": []
  },
  {
   "cell_type": "code",
   "execution_count": null,
   "id": "f3e11378",
   "metadata": {},
   "outputs": [],
   "source": []
  },
  {
   "cell_type": "code",
   "execution_count": null,
   "id": "130b1a57",
   "metadata": {},
   "outputs": [],
   "source": []
  },
  {
   "cell_type": "code",
   "execution_count": null,
   "id": "4349f014",
   "metadata": {},
   "outputs": [],
   "source": []
  },
  {
   "cell_type": "code",
   "execution_count": null,
   "id": "044506e9",
   "metadata": {},
   "outputs": [],
   "source": []
  },
  {
   "cell_type": "code",
   "execution_count": null,
   "id": "4b9ced8f",
   "metadata": {},
   "outputs": [],
   "source": []
  },
  {
   "cell_type": "code",
   "execution_count": null,
   "id": "c0a607d7",
   "metadata": {},
   "outputs": [],
   "source": []
  },
  {
   "cell_type": "code",
   "execution_count": null,
   "id": "a6af8958",
   "metadata": {},
   "outputs": [],
   "source": []
  },
  {
   "cell_type": "code",
   "execution_count": null,
   "id": "ceb7bdf0",
   "metadata": {},
   "outputs": [],
   "source": []
  },
  {
   "cell_type": "code",
   "execution_count": null,
   "id": "0696e063",
   "metadata": {},
   "outputs": [],
   "source": []
  },
  {
   "cell_type": "code",
   "execution_count": null,
   "id": "2134de68",
   "metadata": {},
   "outputs": [],
   "source": []
  },
  {
   "cell_type": "code",
   "execution_count": null,
   "id": "f149fcf9",
   "metadata": {},
   "outputs": [],
   "source": []
  },
  {
   "cell_type": "code",
   "execution_count": null,
   "id": "e6978e8a",
   "metadata": {},
   "outputs": [],
   "source": []
  },
  {
   "cell_type": "code",
   "execution_count": null,
   "id": "7cd8c36a",
   "metadata": {},
   "outputs": [],
   "source": []
  },
  {
   "cell_type": "code",
   "execution_count": null,
   "id": "f5d876ec",
   "metadata": {},
   "outputs": [],
   "source": []
  },
  {
   "cell_type": "code",
   "execution_count": null,
   "id": "6337afe5",
   "metadata": {},
   "outputs": [],
   "source": []
  },
  {
   "cell_type": "code",
   "execution_count": null,
   "id": "18708bcd",
   "metadata": {},
   "outputs": [],
   "source": []
  },
  {
   "cell_type": "code",
   "execution_count": null,
   "id": "9b30d9c5",
   "metadata": {},
   "outputs": [],
   "source": []
  },
  {
   "cell_type": "code",
   "execution_count": null,
   "id": "dfb36819",
   "metadata": {},
   "outputs": [],
   "source": []
  },
  {
   "cell_type": "code",
   "execution_count": null,
   "id": "b3170fd5",
   "metadata": {},
   "outputs": [],
   "source": []
  },
  {
   "cell_type": "code",
   "execution_count": null,
   "id": "13c8f074",
   "metadata": {},
   "outputs": [],
   "source": []
  },
  {
   "cell_type": "code",
   "execution_count": null,
   "id": "8380c285",
   "metadata": {},
   "outputs": [],
   "source": []
  },
  {
   "cell_type": "code",
   "execution_count": null,
   "id": "b63163dc",
   "metadata": {},
   "outputs": [],
   "source": []
  },
  {
   "cell_type": "code",
   "execution_count": null,
   "id": "15db2735",
   "metadata": {},
   "outputs": [],
   "source": []
  },
  {
   "cell_type": "code",
   "execution_count": null,
   "id": "e909b178",
   "metadata": {},
   "outputs": [],
   "source": []
  },
  {
   "cell_type": "code",
   "execution_count": null,
   "id": "1f3fbf04",
   "metadata": {},
   "outputs": [],
   "source": []
  },
  {
   "cell_type": "code",
   "execution_count": null,
   "id": "91a70223",
   "metadata": {},
   "outputs": [],
   "source": []
  },
  {
   "cell_type": "code",
   "execution_count": null,
   "id": "8c871aee",
   "metadata": {},
   "outputs": [],
   "source": []
  },
  {
   "cell_type": "code",
   "execution_count": null,
   "id": "1eb08391",
   "metadata": {},
   "outputs": [],
   "source": []
  },
  {
   "cell_type": "code",
   "execution_count": null,
   "id": "683e2e8a",
   "metadata": {},
   "outputs": [],
   "source": []
  },
  {
   "cell_type": "code",
   "execution_count": null,
   "id": "7d68c3a6",
   "metadata": {},
   "outputs": [],
   "source": []
  },
  {
   "cell_type": "code",
   "execution_count": null,
   "id": "549bc6fe",
   "metadata": {},
   "outputs": [],
   "source": []
  },
  {
   "cell_type": "code",
   "execution_count": null,
   "id": "41f81262",
   "metadata": {},
   "outputs": [],
   "source": []
  },
  {
   "cell_type": "code",
   "execution_count": null,
   "id": "792ec652",
   "metadata": {},
   "outputs": [],
   "source": []
  },
  {
   "cell_type": "code",
   "execution_count": null,
   "id": "10633e97",
   "metadata": {},
   "outputs": [],
   "source": []
  },
  {
   "cell_type": "code",
   "execution_count": null,
   "id": "f59c7dba",
   "metadata": {},
   "outputs": [],
   "source": []
  },
  {
   "cell_type": "code",
   "execution_count": null,
   "id": "c972f747",
   "metadata": {},
   "outputs": [],
   "source": []
  },
  {
   "cell_type": "code",
   "execution_count": null,
   "id": "3de837df",
   "metadata": {},
   "outputs": [],
   "source": []
  },
  {
   "cell_type": "code",
   "execution_count": null,
   "id": "f5d9c252",
   "metadata": {},
   "outputs": [],
   "source": []
  },
  {
   "cell_type": "code",
   "execution_count": null,
   "id": "d40e6444",
   "metadata": {},
   "outputs": [],
   "source": []
  },
  {
   "cell_type": "code",
   "execution_count": null,
   "id": "2aafc37b",
   "metadata": {},
   "outputs": [],
   "source": []
  },
  {
   "cell_type": "code",
   "execution_count": null,
   "id": "cee61da5",
   "metadata": {},
   "outputs": [],
   "source": []
  },
  {
   "cell_type": "code",
   "execution_count": null,
   "id": "65d715e7",
   "metadata": {},
   "outputs": [],
   "source": []
  },
  {
   "cell_type": "code",
   "execution_count": null,
   "id": "425375ed",
   "metadata": {},
   "outputs": [],
   "source": []
  },
  {
   "cell_type": "code",
   "execution_count": null,
   "id": "33788572",
   "metadata": {},
   "outputs": [],
   "source": []
  },
  {
   "cell_type": "code",
   "execution_count": null,
   "id": "a71cb73d",
   "metadata": {},
   "outputs": [],
   "source": []
  },
  {
   "cell_type": "code",
   "execution_count": null,
   "id": "e54e67eb",
   "metadata": {},
   "outputs": [],
   "source": []
  },
  {
   "cell_type": "code",
   "execution_count": null,
   "id": "1adf2a6b",
   "metadata": {},
   "outputs": [],
   "source": []
  },
  {
   "cell_type": "code",
   "execution_count": null,
   "id": "c08d44f0",
   "metadata": {},
   "outputs": [],
   "source": []
  },
  {
   "cell_type": "code",
   "execution_count": null,
   "id": "60ab6acc",
   "metadata": {},
   "outputs": [],
   "source": []
  },
  {
   "cell_type": "code",
   "execution_count": null,
   "id": "fca0e9f7",
   "metadata": {},
   "outputs": [],
   "source": []
  },
  {
   "cell_type": "code",
   "execution_count": null,
   "id": "1c4690c9",
   "metadata": {},
   "outputs": [],
   "source": []
  },
  {
   "cell_type": "code",
   "execution_count": null,
   "id": "48cec9fc",
   "metadata": {},
   "outputs": [],
   "source": []
  },
  {
   "cell_type": "code",
   "execution_count": null,
   "id": "4be7ac94",
   "metadata": {},
   "outputs": [],
   "source": []
  },
  {
   "cell_type": "code",
   "execution_count": null,
   "id": "6b7792b4",
   "metadata": {},
   "outputs": [],
   "source": []
  },
  {
   "cell_type": "code",
   "execution_count": null,
   "id": "7e7945e3",
   "metadata": {},
   "outputs": [],
   "source": []
  },
  {
   "cell_type": "code",
   "execution_count": null,
   "id": "ef76967b",
   "metadata": {},
   "outputs": [],
   "source": []
  },
  {
   "cell_type": "code",
   "execution_count": null,
   "id": "e091e705",
   "metadata": {},
   "outputs": [],
   "source": []
  },
  {
   "cell_type": "code",
   "execution_count": null,
   "id": "aacec508",
   "metadata": {},
   "outputs": [],
   "source": []
  },
  {
   "cell_type": "code",
   "execution_count": null,
   "id": "ae406273",
   "metadata": {},
   "outputs": [],
   "source": []
  },
  {
   "cell_type": "code",
   "execution_count": null,
   "id": "29a401e1",
   "metadata": {},
   "outputs": [],
   "source": []
  },
  {
   "cell_type": "code",
   "execution_count": null,
   "id": "190ea972",
   "metadata": {},
   "outputs": [],
   "source": []
  },
  {
   "cell_type": "code",
   "execution_count": null,
   "id": "1c7cd9bf",
   "metadata": {},
   "outputs": [],
   "source": []
  },
  {
   "cell_type": "code",
   "execution_count": null,
   "id": "198ebc99",
   "metadata": {},
   "outputs": [],
   "source": []
  },
  {
   "cell_type": "code",
   "execution_count": null,
   "id": "565852ed",
   "metadata": {},
   "outputs": [],
   "source": []
  },
  {
   "cell_type": "code",
   "execution_count": null,
   "id": "2cc5089f",
   "metadata": {},
   "outputs": [],
   "source": []
  },
  {
   "cell_type": "code",
   "execution_count": null,
   "id": "d5569b44",
   "metadata": {},
   "outputs": [],
   "source": []
  },
  {
   "cell_type": "code",
   "execution_count": null,
   "id": "e10d98cd",
   "metadata": {},
   "outputs": [],
   "source": []
  },
  {
   "cell_type": "code",
   "execution_count": null,
   "id": "d31db5e1",
   "metadata": {},
   "outputs": [],
   "source": []
  }
 ],
 "metadata": {
  "kernelspec": {
   "display_name": "Python 3",
   "language": "python",
   "name": "python3"
  },
  "language_info": {
   "codemirror_mode": {
    "name": "ipython",
    "version": 3
   },
   "file_extension": ".py",
   "mimetype": "text/x-python",
   "name": "python",
   "nbconvert_exporter": "python",
   "pygments_lexer": "ipython3",
   "version": "3.9.4"
  }
 },
 "nbformat": 4,
 "nbformat_minor": 5
}
