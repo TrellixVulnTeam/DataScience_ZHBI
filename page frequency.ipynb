{
 "cells": [
  {
   "cell_type": "code",
   "execution_count": null,
   "id": "d9c81097",
   "metadata": {},
   "outputs": [],
   "source": []
  },
  {
   "cell_type": "code",
   "execution_count": 5,
   "id": "6ae99a73",
   "metadata": {},
   "outputs": [],
   "source": [
    "import numpy as np"
   ]
  },
  {
   "cell_type": "code",
   "execution_count": 6,
   "id": "7dc108a7",
   "metadata": {},
   "outputs": [],
   "source": [
    "phys_mem = np.array([\n",
    "    [1,2],\n",
    "    [1,3],\n",
    "    [2,0],\n",
    "    [1,5],\n",
    "    [3,4],\n",
    "    [4,6],\n",
    "    [2,6],\n",
    "    [2,2]\n",
    "])"
   ]
  },
  {
   "cell_type": "code",
   "execution_count": 7,
   "id": "b769e81e",
   "metadata": {},
   "outputs": [
    {
     "data": {
      "text/plain": [
       "array([[1, 2],\n",
       "       [1, 3],\n",
       "       [2, 0],\n",
       "       [1, 5],\n",
       "       [3, 4],\n",
       "       [4, 6],\n",
       "       [2, 6],\n",
       "       [2, 2]])"
      ]
     },
     "execution_count": 7,
     "metadata": {},
     "output_type": "execute_result"
    }
   ],
   "source": [
    "phys_mem"
   ]
  },
  {
   "cell_type": "code",
   "execution_count": null,
   "id": "675e920f",
   "metadata": {},
   "outputs": [],
   "source": []
  },
  {
   "cell_type": "code",
   "execution_count": 1,
   "id": "36dffa5d",
   "metadata": {},
   "outputs": [],
   "source": [
    "freq = {0: {4: 4404, 8: 0, 2: 5263, 1: 2583, 0: 3477, 6: 2555, 3: 1517, 5: 9, 7: 0},\n",
    " 1: {6: 5, 0: 7927, 2: 5, 7: 6561, 1: 9, 3: 3, 4: 2, 5: 10},\n",
    " 2: {5: 0, 1: 7079, 2: 3263, 0: 7886, 3: 0, 4: 3},\n",
    " 3: {4: 0, 0: 5178, 1: 1777, 2: 5, 3: 4},\n",
    " 4: {9: 791,\n",
    "  7: 3607,\n",
    "  5: 8678,\n",
    "  8: 6383,\n",
    "  12: 2698,\n",
    "  2: 19,\n",
    "  11: 2706,\n",
    "  0: 4022,\n",
    "  6: 5,\n",
    "  1: 22,\n",
    "  3: 14,\n",
    "  4: 17,\n",
    "  10: 4}}"
   ]
  },
  {
   "cell_type": "code",
   "execution_count": 9,
   "id": "91bcf3fc",
   "metadata": {},
   "outputs": [
    {
     "data": {
      "text/plain": [
       "{0: {4: 4404, 8: 0, 2: 5263, 1: 2583, 0: 3477, 6: 2555, 3: 1517, 5: 9, 7: 0},\n",
       " 1: {6: 0, 0: 0, 2: 0, 7: 0, 1: 0, 3: 0, 4: 0, 5: 0},\n",
       " 2: {5: 0, 1: 7079, 2: 3263, 0: 7886, 3: 0, 4: 3},\n",
       " 3: {4: 0, 0: 5178, 1: 1777, 2: 5, 3: 4},\n",
       " 4: {9: 791,\n",
       "  7: 3607,\n",
       "  5: 8678,\n",
       "  8: 6383,\n",
       "  12: 2698,\n",
       "  2: 19,\n",
       "  11: 2706,\n",
       "  0: 4022,\n",
       "  6: 5,\n",
       "  1: 22,\n",
       "  3: 14,\n",
       "  4: 17,\n",
       "  10: 4}}"
      ]
     },
     "execution_count": 9,
     "metadata": {},
     "output_type": "execute_result"
    }
   ],
   "source": [
    "freq"
   ]
  },
  {
   "cell_type": "code",
   "execution_count": 81,
   "id": "3876b44d",
   "metadata": {},
   "outputs": [
    {
     "name": "stdout",
     "output_type": "stream",
     "text": [
      "[7]\n"
     ]
    }
   ],
   "source": [
    "NUM = 999999999999\n",
    "def replace(pid,pg_num):\n",
    "#     try:\n",
    "        min_val = NUM\n",
    "        p_mem = phys_mem[phys_mem[:,0]==pid]\n",
    "        for process in p_mem:\n",
    "            if process[1] in freq[pid]:\n",
    "                if freq[pid][process[1]]<min_val and freq[pid][process[1]] != 0:\n",
    "                    min_val = freq[pid][process[1]]\n",
    "        if min_val != NUM:\n",
    "            frame_loc = np.where((phys_mem[:,0]==pid) & (phys_mem[:,1]==process[1]))[0]\n",
    "        \n",
    "        if min_val == NUM:\n",
    "            frame_loc = np.random.choice(np.where((phys_mem[:,0]==pid))[0])\n",
    "        print(frame_loc)\n",
    "#     except:\n",
    "        pass\n",
    "\n",
    "    \n",
    "replace(2,5)"
   ]
  },
  {
   "cell_type": "code",
   "execution_count": 73,
   "id": "cf206893",
   "metadata": {},
   "outputs": [
    {
     "data": {
      "text/plain": [
       "array([[1, 2],\n",
       "       [1, 3],\n",
       "       [2, 0],\n",
       "       [1, 5],\n",
       "       [3, 4],\n",
       "       [4, 6],\n",
       "       [2, 6],\n",
       "       [2, 2]])"
      ]
     },
     "execution_count": 73,
     "metadata": {},
     "output_type": "execute_result"
    }
   ],
   "source": [
    "phys_mem"
   ]
  },
  {
   "cell_type": "code",
   "execution_count": 53,
   "id": "5d49b480",
   "metadata": {},
   "outputs": [
    {
     "data": {
      "text/plain": [
       "0"
      ]
     },
     "execution_count": 53,
     "metadata": {},
     "output_type": "execute_result"
    }
   ],
   "source": [
    "np.random.choice(np.where((phys_mem[:,0]==1))[0])"
   ]
  },
  {
   "cell_type": "code",
   "execution_count": 33,
   "id": "424572e1",
   "metadata": {},
   "outputs": [
    {
     "data": {
      "text/plain": [
       "999999999"
      ]
     },
     "execution_count": 33,
     "metadata": {},
     "output_type": "execute_result"
    }
   ],
   "source": [
    "min_val = 999999999\n",
    "for process in phys_mem[phys_mem[:,0]==1]:\n",
    "    if freq[1][process[1]]<min_val and freq[1][process[1]]!=0:\n",
    "        min_val = freq[1][process[1]]\n",
    "min_val"
   ]
  },
  {
   "cell_type": "code",
   "execution_count": 19,
   "id": "dda3c759",
   "metadata": {},
   "outputs": [
    {
     "name": "stdout",
     "output_type": "stream",
     "text": [
      "0\n",
      "0\n",
      "0\n",
      "0\n",
      "0\n",
      "0\n",
      "0\n",
      "0\n"
     ]
    }
   ],
   "source": [
    "for i,j in freq[1].items():\n",
    "    print()"
   ]
  },
  {
   "cell_type": "code",
   "execution_count": null,
   "id": "9a9cafad",
   "metadata": {},
   "outputs": [],
   "source": []
  }
 ],
 "metadata": {
  "kernelspec": {
   "display_name": "Python 3",
   "language": "python",
   "name": "python3"
  },
  "language_info": {
   "codemirror_mode": {
    "name": "ipython",
    "version": 3
   },
   "file_extension": ".py",
   "mimetype": "text/x-python",
   "name": "python",
   "nbconvert_exporter": "python",
   "pygments_lexer": "ipython3",
   "version": "3.9.5"
  }
 },
 "nbformat": 4,
 "nbformat_minor": 5
}
