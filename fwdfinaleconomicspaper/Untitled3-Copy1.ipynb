{
 "cells": [
  {
   "cell_type": "code",
   "execution_count": 1,
   "metadata": {},
   "outputs": [
    {
     "name": "stderr",
     "output_type": "stream",
     "text": [
      "Using TensorFlow backend.\n"
     ]
    },
    {
     "name": "stdout",
     "output_type": "stream",
     "text": [
      "Device mapping:\n",
      "/job:localhost/replica:0/task:0/device:GPU:0 -> device: 0, name: GeForce GTX 1050 Ti, pci bus id: 0000:01:00.0, compute capability: 6.1\n",
      "\n"
     ]
    }
   ],
   "source": [
    "import tensorflow as tf\n",
    "\n",
    "from keras.models import Sequential\n",
    "from keras.layers import Dense\n",
    "from keras.optimizers import Adam\n",
    "from keras.callbacks import EarlyStopping\n",
    "from keras import optimizers\n",
    "\n",
    "import pandas as pd\n",
    "import numpy as np\n",
    "\n",
    "from keras.backend.tensorflow_backend import set_session\n",
    "import tensorflow as tf\n",
    "config = tf.compat.v1.ConfigProto()\n",
    "config.gpu_options.allow_growth = True  # dynamically grow the memory used on the GPU\n",
    "config.log_device_placement = True  # to log device placement (on which device the operation ran)\n",
    "sess = tf.compat.v1.Session(config=config)\n",
    "tf.compat.v1.keras.backend.set_session(sess)\n",
    "\n",
    "import sklearn\n",
    "from sklearn import preprocessing\n",
    "from sklearn.model_selection import train_test_split\n",
    "from sklearn.metrics import r2_score\n",
    "from sklearn.metrics import mean_squared_error\n",
    "\n",
    "from matplotlib import pyplot as plt\n",
    "import seaborn as sns"
   ]
  },
  {
   "cell_type": "code",
   "execution_count": 2,
   "metadata": {},
   "outputs": [],
   "source": [
    "df1 = pd.read_csv('Renewable and non renewable data.csv')\n",
    "df1=df1[df1.Nuclear != '-']"
   ]
  },
  {
   "cell_type": "code",
   "execution_count": 3,
   "metadata": {},
   "outputs": [
    {
     "data": {
      "text/html": [
       "<div>\n",
       "<style scoped>\n",
       "    .dataframe tbody tr th:only-of-type {\n",
       "        vertical-align: middle;\n",
       "    }\n",
       "\n",
       "    .dataframe tbody tr th {\n",
       "        vertical-align: top;\n",
       "    }\n",
       "\n",
       "    .dataframe thead th {\n",
       "        text-align: right;\n",
       "    }\n",
       "</style>\n",
       "<table border=\"1\" class=\"dataframe\">\n",
       "  <thead>\n",
       "    <tr style=\"text-align: right;\">\n",
       "      <th></th>\n",
       "      <th>Million tonnes oil equivalent</th>\n",
       "      <th>Natural MTO</th>\n",
       "      <th>OIL</th>\n",
       "      <th>Coal</th>\n",
       "      <th>Nuclear</th>\n",
       "      <th>Hydro</th>\n",
       "      <th>Unnamed: 6</th>\n",
       "      <th>CO2</th>\n",
       "      <th>GDP Constant</th>\n",
       "      <th>GDPPC</th>\n",
       "    </tr>\n",
       "  </thead>\n",
       "  <tbody>\n",
       "    <tr>\n",
       "      <th>4</th>\n",
       "      <td>1969</td>\n",
       "      <td>0.4</td>\n",
       "      <td>19.6</td>\n",
       "      <td>39.6</td>\n",
       "      <td>0.2</td>\n",
       "      <td>6.5</td>\n",
       "      <td>NaN</td>\n",
       "      <td>197.9</td>\n",
       "      <td>6.539700</td>\n",
       "      <td>4.269852</td>\n",
       "    </tr>\n",
       "    <tr>\n",
       "      <th>5</th>\n",
       "      <td>1970</td>\n",
       "      <td>0.5</td>\n",
       "      <td>19.5</td>\n",
       "      <td>37.6</td>\n",
       "      <td>0.3</td>\n",
       "      <td>6.9</td>\n",
       "      <td>NaN</td>\n",
       "      <td>190.3</td>\n",
       "      <td>5.157230</td>\n",
       "      <td>2.864363</td>\n",
       "    </tr>\n",
       "    <tr>\n",
       "      <th>6</th>\n",
       "      <td>1971</td>\n",
       "      <td>0.6</td>\n",
       "      <td>20.9</td>\n",
       "      <td>38.1</td>\n",
       "      <td>0.2</td>\n",
       "      <td>7.6</td>\n",
       "      <td>NaN</td>\n",
       "      <td>207.0</td>\n",
       "      <td>1.642930</td>\n",
       "      <td>-0.626351</td>\n",
       "    </tr>\n",
       "    <tr>\n",
       "      <th>7</th>\n",
       "      <td>1972</td>\n",
       "      <td>0.6</td>\n",
       "      <td>22.6</td>\n",
       "      <td>40.2</td>\n",
       "      <td>0.2</td>\n",
       "      <td>7.3</td>\n",
       "      <td>NaN</td>\n",
       "      <td>219.2</td>\n",
       "      <td>-0.553301</td>\n",
       "      <td>-2.815629</td>\n",
       "    </tr>\n",
       "    <tr>\n",
       "      <th>8</th>\n",
       "      <td>1973</td>\n",
       "      <td>0.6</td>\n",
       "      <td>23.8</td>\n",
       "      <td>39.7</td>\n",
       "      <td>0.4</td>\n",
       "      <td>7.8</td>\n",
       "      <td>NaN</td>\n",
       "      <td>219.7</td>\n",
       "      <td>3.295521</td>\n",
       "      <td>0.919174</td>\n",
       "    </tr>\n",
       "  </tbody>\n",
       "</table>\n",
       "</div>"
      ],
      "text/plain": [
       "   Million tonnes oil equivalent  Natural MTO   OIL  Coal Nuclear  Hydro  \\\n",
       "4                           1969          0.4  19.6  39.6     0.2    6.5   \n",
       "5                           1970          0.5  19.5  37.6     0.3    6.9   \n",
       "6                           1971          0.6  20.9  38.1     0.2    7.6   \n",
       "7                           1972          0.6  22.6  40.2     0.2    7.3   \n",
       "8                           1973          0.6  23.8  39.7     0.4    7.8   \n",
       "\n",
       "   Unnamed: 6    CO2  GDP Constant      GDPPC  \n",
       "4         NaN  197.9       6.539700  4.269852  \n",
       "5         NaN  190.3       5.157230  2.864363  \n",
       "6         NaN  207.0       1.642930 -0.626351  \n",
       "7         NaN  219.2      -0.553301 -2.815629  \n",
       "8         NaN  219.7       3.295521  0.919174  "
      ]
     },
     "execution_count": 3,
     "metadata": {},
     "output_type": "execute_result"
    }
   ],
   "source": [
    "df1.head()"
   ]
  },
  {
   "cell_type": "code",
   "execution_count": 4,
   "metadata": {},
   "outputs": [],
   "source": [
    "# Y_Actual_GDP = df1['GDP Constant ']\n",
    "# Y_Actual_PC = df1['GDPPC']\n",
    "Y_Actual_CO2 = df1['CO2']"
   ]
  },
  {
   "cell_type": "code",
   "execution_count": 5,
   "metadata": {},
   "outputs": [],
   "source": [
    "X_Ren = df1[['Natural MTO','OIL','Coal']]\n",
    "X_Non = df1[['Nuclear','Hydro']]"
   ]
  },
  {
   "cell_type": "code",
   "execution_count": 6,
   "metadata": {},
   "outputs": [
    {
     "name": "stdout",
     "output_type": "stream",
     "text": [
      "   Natural MTO   OIL  Coal\n",
      "4          0.4  19.6  39.6\n",
      "5          0.5  19.5  37.6\n",
      "6          0.6  20.9  38.1\n",
      "7          0.6  22.6  40.2\n",
      "8          0.6  23.8  39.7\n",
      "  Nuclear  Hydro\n",
      "4     0.2    6.5\n",
      "5     0.3    6.9\n",
      "6     0.2    7.6\n",
      "7     0.2    7.3\n",
      "8     0.4    7.8\n"
     ]
    }
   ],
   "source": [
    "print(X_Ren.head())\n",
    "print(X_Non.head())"
   ]
  },
  {
   "cell_type": "code",
   "execution_count": 7,
   "metadata": {},
   "outputs": [],
   "source": [
    "#Conventions Used in Models 1. Non-Ren GDP 2. Non-Ren PC 3. Ren GDP 4. Ren PC"
   ]
  },
  {
   "cell_type": "code",
   "execution_count": 8,
   "metadata": {},
   "outputs": [],
   "source": [
    "# MODEL 1 Starting\n",
    "# X_train_1, X_test_1, y_train_1, y_test_1 =train_test_split(X_Ren,Y_Actual_PC,test_size=.3)\n",
    "# X_train_1, X_test_1, y_train_1, y_test_1 =train_test_split(X_Ren,Y_Actual_CO2,test_size=.3,random_state = 40)\n",
    "# X_train_1 = preprocessing.scale(X_train_1)\n",
    "# X_test_1 = preprocessing.scale(X_test_1)"
   ]
  },
  {
   "cell_type": "code",
   "execution_count": 9,
   "metadata": {},
   "outputs": [],
   "source": [
    "# LR = [.1,0.5]\n",
    "# LR = [.1,1,10,100]"
   ]
  },
  {
   "cell_type": "code",
   "execution_count": 10,
   "metadata": {},
   "outputs": [],
   "source": [
    "plt.close('all')"
   ]
  },
  {
   "cell_type": "code",
   "execution_count": 11,
   "metadata": {},
   "outputs": [
    {
     "name": "stdout",
     "output_type": "stream",
     "text": [
      "0.9980302871926298\n",
      "0.9773204549030697\n"
     ]
    }
   ],
   "source": [
    "X_train_1, X_test_1, y_train_1, y_test_1 =train_test_split(X_Ren,Y_Actual_CO2,test_size=.3,random_state = 40)\n",
    "X_train_1 = preprocessing.scale(X_train_1)\n",
    "X_test_1 = preprocessing.scale(X_test_1)\n",
    "LR=100\n",
    "model_1 = Sequential()\n",
    "model_1.add(Dense(1, input_shape=(3,),activation='relu'))\n",
    "#     model_1.add(Dense(128,activation='relu'))\n",
    "# model_1.add(Dense(1,))\n",
    "# model_1.add(Dense(1, kernel_initializer='normal'))\n",
    "# model_1.compile(Adam(lr=100), 'mean_squared_error')\n",
    "model_1.compile(Adam(lr=100), 'mean_absolute_error')\n",
    "# model_1.compile(loss='mean_squared_error', optimizer='adam')\n",
    "\n",
    "history = model_1.fit(X_train_1,y_train_1,epochs = 40,validation_split = 0.1,verbose = 0)\n",
    "#     history_dict = history.history\n",
    "\n",
    "#     loss_values = history_dict['loss']\n",
    "#     val_loss_values = history_dict['val_loss']\n",
    "#     plt.figure()\n",
    "#     plt.plot(loss_values,'bo',label='training loss')\n",
    "#     plt.plot(val_loss_values,'r',label='val_training_loss')\n",
    "\n",
    "y_train_pred_1 = model_1.predict(X_train_1)\n",
    "y_test_pred_1 = model_1.predict(X_test_1)\n",
    "print(r2_score(y_train_1,y_train_pred_1))\n",
    "print(r2_score(y_test_1,y_test_pred_1))"
   ]
  },
  {
   "cell_type": "code",
   "execution_count": 12,
   "metadata": {},
   "outputs": [],
   "source": [
    "plt.close('all')\n",
    "plt.show()"
   ]
  },
  {
   "cell_type": "code",
   "execution_count": 13,
   "metadata": {},
   "outputs": [
    {
     "data": {
      "text/plain": [
       "774.4130519801565"
      ]
     },
     "execution_count": 13,
     "metadata": {},
     "output_type": "execute_result"
    }
   ],
   "source": [
    "mean_squared_error(y_train_1,y_train_pred_1)"
   ]
  },
  {
   "cell_type": "code",
   "execution_count": 14,
   "metadata": {},
   "outputs": [
    {
     "data": {
      "text/plain": [
       "Text(0.5, 1.0, 'Test')"
      ]
     },
     "execution_count": 14,
     "metadata": {},
     "output_type": "execute_result"
    },
    {
     "data": {
      "image/png": "[encoded data removed]",
      "text/plain": [
       "<Figure size 432x288 with 1 Axes>"
      ]
     },
     "metadata": {},
     "output_type": "display_data"
    },
    {
     "data": {
      "image/png": "[encoded data removed]",
      "text/plain": [
       "<Figure size 432x288 with 1 Axes>"
      ]
     },
     "metadata": {},
     "output_type": "display_data"
    }
   ],
   "source": [
    "x=np.linspace(0,2500,100)\n",
    "y=x\n",
    "plt.close('all')\n",
    "sns.set()\n",
    "plt.figure()\n",
    "ax = plt.gca()\n",
    "ax.set_aspect(1)\n",
    "# plt.plot(y_train_1,y_train_pred_1,'bo')\n",
    "plt.plot(y_train_1,y_train_pred_1,'bo')\n",
    "plt.plot(x, y, linewidth=2.0)\n",
    "plt.title('Train')\n",
    "\n",
    "plt.figure()\n",
    "ax = plt.gca()\n",
    "ax.set_aspect(1)\n",
    "plt.plot(y_test_1,y_test_pred_1,'bo')\n",
    "plt.plot(x, y, linewidth=.50)\n",
    "plt.title('Test')"
   ]
  },
  {
   "cell_type": "code",
   "execution_count": 15,
   "metadata": {},
   "outputs": [],
   "source": [
    "plt.show()"
   ]
  },
  {
   "cell_type": "code",
   "execution_count": 16,
   "metadata": {},
   "outputs": [],
   "source": [
    "y_train_1=y_train_1.reset_index()['CO2']"
   ]
  },
  {
   "cell_type": "code",
   "execution_count": 17,
   "metadata": {},
   "outputs": [
    {
     "data": {
      "text/plain": [
       "2256.4893"
      ]
     },
     "execution_count": 17,
     "metadata": {},
     "output_type": "execute_result"
    }
   ],
   "source": [
    "y_train_pred_1.max()"
   ]
  },
  {
   "cell_type": "code",
   "execution_count": 18,
   "metadata": {},
   "outputs": [],
   "source": [
    "# df4=pd.merge(y_train_1,y_train_pred_1)\n",
    "# type(y_train_pred_1)\n",
    "# np_array = np.random.randn(5)\n",
    "# print(y_train_pred_1)\n",
    "y_train_pred_1=y_train_pred_1.reshape(35,)\n",
    "# y_train_pred_1.resize(5,1)\n",
    "# np_array.shape\n",
    "df5=pd.Series(data = y_train_pred_1,name='Predicted')\n",
    "# print(type(df5),type(y_train_1))\n",
    "df6=pd.merge(y_train_1,df5,left_index=True, right_index=True)\n",
    "# sns.regplot(x=\"total_bill\", y=\"tip\", data=tips);"
   ]
  },
  {
   "cell_type": "code",
   "execution_count": 19,
   "metadata": {},
   "outputs": [
    {
     "data": {
      "image/png": "[encoded data removed]",
      "text/plain": [
       "<Figure size 432x288 with 1 Axes>"
      ]
     },
     "metadata": {},
     "output_type": "display_data"
    }
   ],
   "source": [
    "plt.close('all')\n",
    "# sns.set(color_codes=True)\n",
    "sns.regplot(x=\"Predicted\", y=\"CO2\", data=df6);\n",
    "plt.show()"
   ]
  },
  {
   "cell_type": "code",
   "execution_count": 20,
   "metadata": {},
   "outputs": [
    {
     "name": "stdout",
     "output_type": "stream",
     "text": [
      "0.9581786572976593\n",
      "0.902633363948914\n"
     ]
    }
   ],
   "source": [
    "# MODEL 2 Starts\n",
    "# for i in range(1,100):\n",
    "X_train_1, X_test_1, y_train_1, y_test_1 =train_test_split(X_Ren,Y_Actual_CO2,test_size=.3,random_state = 44)\n",
    "X_train_1 = preprocessing.scale(X_train_1)\n",
    "X_test_1 = preprocessing.scale(X_test_1)\n",
    "model_1 = Sequential()\n",
    "model_1.add(Dense(1, input_shape=(3,),activation='relu'))\n",
    "#     model_1.add(Dense(128,activation='relu'))\n",
    "# model_1.add(Dense(1,))\n",
    "# model_1.add(Dense(1, kernel_initializer='normal'))\n",
    "# model_1.compile(Adam(lr=100), 'mean_squared_error')\n",
    "sgd = optimizers.SGD(lr=100)\n",
    "model_1.compile(optimizer=sgd, loss='mean_absolute_error')\n",
    "# model_1.compile(loss='mean_squared_error', optimizer='adam')\n",
    "\n",
    "history = model_1.fit(X_train_1,y_train_1,epochs = 40,validation_split = 0.1,verbose = 0)\n",
    "#     history_dict = history.history\n",
    "\n",
    "#     loss_values = history_dict['loss']\n",
    "#     val_loss_values = history_dict['val_loss']\n",
    "#     plt.figure()\n",
    "#     plt.plot(loss_values,'bo',label='training loss')\n",
    "#     plt.plot(val_loss_values,'r',label='val_training_loss')\n",
    "\n",
    "y_train_pred_1 = model_1.predict(X_train_1)\n",
    "y_test_pred_1 = model_1.predict(X_test_1)\n",
    "print(r2_score(y_train_1,y_train_pred_1))\n",
    "print(r2_score(y_test_1,y_test_pred_1))"
   ]
  },
  {
   "cell_type": "code",
   "execution_count": 21,
   "metadata": {},
   "outputs": [
    {
     "data": {
      "text/plain": [
       "2577.8647"
      ]
     },
     "execution_count": 21,
     "metadata": {},
     "output_type": "execute_result"
    }
   ],
   "source": [
    "y_train_pred_1.max()"
   ]
  },
  {
   "cell_type": "code",
   "execution_count": 22,
   "metadata": {},
   "outputs": [
    {
     "data": {
      "text/plain": [
       "Text(0.5, 1.0, 'Test')"
      ]
     },
     "execution_count": 22,
     "metadata": {},
     "output_type": "execute_result"
    },
    {
     "data": {
      "image/png": "[encoded data removed]",
      "text/plain": [
       "<Figure size 432x288 with 1 Axes>"
      ]
     },
     "metadata": {},
     "output_type": "display_data"
    },
    {
     "data": {
      "image/png": "[encoded data removed]",
      "text/plain": [
       "<Figure size 432x288 with 1 Axes>"
      ]
     },
     "metadata": {},
     "output_type": "display_data"
    }
   ],
   "source": [
    "x=np.linspace(0,2500,100)\n",
    "y=x\n",
    "plt.close('all')\n",
    "sns.set()\n",
    "plt.figure()\n",
    "ax = plt.gca()\n",
    "ax.set_aspect(1)\n",
    "# plt.plot(y_train_1,y_train_pred_1,'bo')\n",
    "plt.plot(y_train_1,y_train_pred_1,'bo')\n",
    "plt.plot(x, y, linewidth=2.0)\n",
    "plt.title('Train')\n",
    "\n",
    "plt.figure()\n",
    "ax = plt.gca()\n",
    "ax.set_aspect(1)\n",
    "plt.plot(y_test_1,y_test_pred_1,'bo')\n",
    "plt.plot(x, y, linewidth=2.0)\n",
    "plt.title('Test')"
   ]
  },
  {
   "cell_type": "code",
   "execution_count": 23,
   "metadata": {},
   "outputs": [],
   "source": [
    "plt.show()"
   ]
  },
  {
   "cell_type": "code",
   "execution_count": 24,
   "metadata": {},
   "outputs": [],
   "source": [
    "from sklearn.linear_model import LinearRegression"
   ]
  },
  {
   "cell_type": "code",
   "execution_count": 25,
   "metadata": {},
   "outputs": [],
   "source": [
    "model = LinearRegression()"
   ]
  },
  {
   "cell_type": "code",
   "execution_count": 26,
   "metadata": {},
   "outputs": [
    {
     "data": {
      "text/plain": [
       "LinearRegression(copy_X=True, fit_intercept=True, n_jobs=None, normalize=False)"
      ]
     },
     "execution_count": 26,
     "metadata": {},
     "output_type": "execute_result"
    }
   ],
   "source": [
    "model.fit(X_train_1,y_train_1)"
   ]
  },
  {
   "cell_type": "code",
   "execution_count": 27,
   "metadata": {},
   "outputs": [
    {
     "data": {
      "text/plain": [
       "0.9870256772043021"
      ]
     },
     "execution_count": 27,
     "metadata": {},
     "output_type": "execute_result"
    }
   ],
   "source": [
    "model.score(X_test_1,y_test_1)"
   ]
  },
  {
   "cell_type": "code",
   "execution_count": 28,
   "metadata": {},
   "outputs": [
    {
     "data": {
      "text/plain": [
       "0.9999674191879566"
      ]
     },
     "execution_count": 28,
     "metadata": {},
     "output_type": "execute_result"
    }
   ],
   "source": [
    "model.score(X_train_1,y_train_1)"
   ]
  }
 ],
 "metadata": {
  "kernelspec": {
   "display_name": "Python 3",
   "language": "python",
   "name": "python3"
  },
  "language_info": {
   "codemirror_mode": {
    "name": "ipython",
    "version": 3
   },
   "file_extension": ".py",
   "mimetype": "text/x-python",
   "name": "python",
   "nbconvert_exporter": "python",
   "pygments_lexer": "ipython3",
   "version": "3.7.7"
  }
 },
 "nbformat": 4,
 "nbformat_minor": 2
}
