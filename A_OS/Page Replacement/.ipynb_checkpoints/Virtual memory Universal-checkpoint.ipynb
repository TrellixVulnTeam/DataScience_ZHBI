{
 "cells": [
  {
   "cell_type": "code",
   "execution_count": 484,
   "id": "8ccf4716",
   "metadata": {},
   "outputs": [],
   "source": [
    "import numpy as np\n",
    "import math\n",
    "import os\n",
    "import random\n",
    "from matplotlib import pyplot as plt\n",
    "import queue\n",
    "import collections\n",
    "import seaborn as sns\n",
    "PAGE_SIZE = 4096                    # Page Size in Bytes\n",
    "NP = 6                              # No. of processes in memory\n",
    "F = 16                              # No. of Frames in physical memory\n",
    "INVALID = -10\n",
    "PID = 0                             # Used for Indexing into Frames\n",
    "FRAME = 1                           # Used for Indexing into Frames\n",
    "COMPLETED = 10                      # Process Status Flags\n",
    "INCOMPLETE = 20                     #\n",
    "# The following are page replacement algorithm types\n",
    "FIFO_GLOBAL = 10\n",
    "oldest_frame = 0\n",
    "recent_frame=0\n",
    "page_frequency={}\n",
    "loc_oldest_frame = np.zeros(F).astype('int32')\n",
    "phys_mem = np.full((F, 2), INVALID).astype('int32')\n",
    "algos=[\"fifo\",\"lru\",\"rr\",\"mru\",\"lfu\"]"
   ]
  },
  {
   "cell_type": "code",
   "execution_count": 485,
   "id": "9458bc70",
   "metadata": {},
   "outputs": [],
   "source": [
    "def init_proc_queue():\n",
    "    pq = queue.Queue(maxsize=NP)\n",
    "    proc_queue = list(set((NP * np.random.random(20)).astype('int32')))\n",
    "    random.shuffle(proc_queue)\n",
    "    print(proc_queue)\n",
    "    for pr in proc_queue:\n",
    "        pq.put_nowait(pr)\n",
    "    return(pq)\n",
    "\n",
    "def readq(q):\n",
    "    while True:\n",
    "        try:\n",
    "            yield q.get_nowait()\n",
    "        except queue.Empty:\n",
    "            break"
   ]
  },
  {
   "cell_type": "code",
   "execution_count": 486,
   "id": "3a084b2d",
   "metadata": {},
   "outputs": [],
   "source": [
    "def init_phys_mem():\n",
    "    for i in range(F):\n",
    "        #         initializing Physical memory to implement FIFO\n",
    "        phys_mem[i, PID] = INVALID\n",
    "        phys_mem[i, FRAME] = INVALID\n",
    "\n",
    "\n",
    "def update_phys_mem(pid):\n",
    "    for i in range(F):\n",
    "        #         Updating physical memory of FIFO\n",
    "        if phys_mem[i, PID] == pid:\n",
    "            phys_mem[i, PID] = INVALID\n",
    "            phys_mem[i, FRAME] = INVALID"
   ]
  },
  {
   "cell_type": "code",
   "execution_count": 487,
   "id": "e8d8c190",
   "metadata": {},
   "outputs": [],
   "source": [
    "def correct_refs(alist, cent, maxpg):\n",
    "    if cent != 0:\n",
    "        pgnum = int(cent / PAGE_SIZE)\n",
    "        lh = (pgnum + 1) * PAGE_SIZE - 1\n",
    "        ll = pgnum * PAGE_SIZE\n",
    "    else:\n",
    "        lh = maxpg * PAGE_SIZE\n",
    "        ll = 0\n",
    "    for i in range(alist.shape[0]):\n",
    "        if alist[i] >= lh:\n",
    "            alist[i] = lh - 1\n",
    "        if alist[i] < ll:\n",
    "            alist[i] = ll + 1\n",
    "    return alist\n",
    "def sim_process(M, sigma, outfile, lfrac=0.9):\n",
    "    cur_page = int(M * np.random.random())  # Generate a random start page\n",
    "    cur_locale = round(PAGE_SIZE * (cur_page + 0.5))  # Locality of reference\n",
    "    sum_refs = 0\n",
    "    list_locales = list()\n",
    "    for count in range(M):\n",
    "        page_frequency[cur_page]=0\n",
    "        # random page address in memory.\n",
    "        num_refs = int(512 + (PAGE_SIZE - 512) * np.random.random())\n",
    "        sum_refs += num_refs\n",
    "        list_locales.append(cur_page)\n",
    "        num_loc = round(lfrac * num_refs)\n",
    "        aref_list = np.random.normal(cur_locale, sigma * 300 + 100,\n",
    "                                     num_loc)  # If siagma is less, it stays less within that locality of reference\n",
    "        # if sigma more, it may vary more\n",
    "        aref_list = correct_refs(aref_list, cur_locale, M)\n",
    "        aref_list = aref_list.astype('int32')\n",
    "        cur_page = int(M * np.random.random())\n",
    "        cur_locale = round(PAGE_SIZE * (cur_page + 0.5))\n",
    "        num_trans = round((1 - lfrac) * num_refs)\n",
    "        tref_list = np.random.random(num_trans) * cur_locale\n",
    "        tref_list = correct_refs(tref_list, 0, M)\n",
    "        tref_list = tref_list.astype('int32')\n",
    "        np.append(aref_list, tref_list).tofile(outfile, sep='\\n')\n",
    "        outfile.write('\\n')\n",
    "\n",
    "    return list_locales, sum_refs"
   ]
  },
  {
   "cell_type": "code",
   "execution_count": 488,
   "id": "5aae95aa",
   "metadata": {},
   "outputs": [],
   "source": [
    "def get_oldest_frame(pr):\n",
    "    global oldest_frame\n",
    "    rv = oldest_frame\n",
    "    oldest_frame += 1\n",
    "    if oldest_frame == F:\n",
    "        oldest_frame = 0\n",
    "    return rv\n",
    "\n",
    "    return INVALID\n",
    "def getFifoFrame(fr_num, pnum, pr):\n",
    "    while fr_num < F:\n",
    "        if phys_mem[fr_num, PID] == pr and phys_mem[fr_num, FRAME] == pnum:\n",
    "            break\n",
    "        else:\n",
    "            fr_num += 1\n",
    "    return fr_num\n",
    "\n",
    "\n",
    "def getLruFrame(fr_num, pnum, pr):\n",
    "    global phys_mem\n",
    "    while fr_num < F:\n",
    "        if phys_mem[fr_num, PID] == pr and phys_mem[fr_num, FRAME] == pnum:\n",
    "            temp = phys_mem[fr_num]\n",
    "            phys_mem = np.delete(phys_mem, fr_num, axis=0)\n",
    "            phys_mem = np.concatenate([phys_mem, temp.reshape(1, -1)], axis=0)\n",
    "            break\n",
    "        else:\n",
    "            fr_num += 1\n",
    "    return fr_num\n",
    "\n",
    "\n",
    "def getMRUFrame(fr_num, pnum, pr):\n",
    "    while fr_num < F:\n",
    "        if phys_mem[fr_num, PID] == pr and phys_mem[fr_num, FRAME] == pnum:\n",
    "            break\n",
    "        else:\n",
    "            fr_num += 1\n",
    "    recent_frame=fr_num\n",
    "    return fr_num\n",
    "\n",
    "\n",
    "def getRRFrame(fr_num, pnum, pr):\n",
    "    while fr_num < F:\n",
    "        if phys_mem[fr_num, PID] == pr and phys_mem[fr_num, FRAME] == pnum:\n",
    "            break\n",
    "        else:\n",
    "            fr_num += 1\n",
    "    return fr_num\n",
    "\n",
    "\n",
    "def getLFUFrame(fr_num, pnum, pr):\n",
    "    while fr_num < F:\n",
    "        if phys_mem[fr_num, PID] == pr and phys_mem[fr_num, FRAME] == pnum:\n",
    "            page_frequency[pnum]+=1\n",
    "            break\n",
    "        else:\n",
    "            fr_num += 1\n",
    "    return fr_num"
   ]
  },
  {
   "cell_type": "code",
   "execution_count": 489,
   "id": "c09c5c84",
   "metadata": {},
   "outputs": [],
   "source": [
    "def gen_pagefault(pgnum, pr):\n",
    "    fr_num = 0\n",
    "    while fr_num < F and phys_mem[fr_num, FRAME] >= 0:\n",
    "        fr_num += 1\n",
    "    if fr_num >= F:\n",
    "        return INVALID\n",
    "    phys_mem[fr_num, FRAME] = pgnum\n",
    "    phys_mem[fr_num, PID] = pr\n",
    "    recent_frame=fr_num\n",
    "    if pgnum not in page_frequency:\n",
    "        page_frequency[pgnum]=1\n",
    "    else:\n",
    "        page_frequency[pgnum]+=1\n",
    "    return fr_num"
   ]
  },
  {
   "cell_type": "code",
   "execution_count": 490,
   "id": "9cf04c5c",
   "metadata": {},
   "outputs": [],
   "source": [
    "def page_replace(pgnum, pr):\n",
    "    global phys_mem\n",
    "    temp = np.array([pr, pgnum])\n",
    "    phys_mem = np.delete(phys_mem, 0, axis=0)\n",
    "    phys_mem = np.concatenate([phys_mem, temp.reshape(1, -1)], axis=0)\n",
    "    return F-1\n",
    "\n",
    "\n",
    "def page_replaceFIFO(pgnum, pr):\n",
    "    cur_frame = get_oldest_frame(pr)\n",
    "    phys_mem[cur_frame, PID] = pr\n",
    "    phys_mem[cur_frame, FRAME] = pgnum\n",
    "    return cur_frame\n",
    "\n",
    "def page_replaceMRU(pgnum,pr):\n",
    "    global phys_mem\n",
    "    temp = np.array([pr, pgnum])\n",
    "    phys_mem = np.delete(phys_mem, recent_frame, axis=0)\n",
    "    phys_mem=np.insert(phys_mem,recent_frame,temp,axis=0)\n",
    "    return recent_frame\n",
    "\n",
    "\n",
    "def page_replaceRR(pgnum, pr):\n",
    "    global phys_mem\n",
    "    f_num=np.random.randint(F)\n",
    "    temp = np.array([pr, pgnum])\n",
    "    phys_mem = np.delete(phys_mem, f_num, axis=0)\n",
    "    phys_mem=np.insert(phys_mem,f_num,temp,axis=0)\n",
    "    return f_num\n",
    "\n",
    "\n",
    "def page_replaceLFU(pgnum,pr):\n",
    "    global phys_mem\n",
    "    temp_freq=page_frequency.copy()\n",
    "    flag=\"not_found\"\n",
    "    while flag ==\"not_found\":\n",
    "        try:\n",
    "            min_freq=min(temp_freq,key=temp_freq.get)\n",
    "            frame_loc=np.where(phys_mem[:,FRAME]==min_freq)[0][0]\n",
    "            temp = np.array([pr,pgnum])\n",
    "            phys_mem = np.delete(phys_mem, frame_loc, axis=0)\n",
    "            phys_mem=np.insert(phys_mem,frame_loc,temp,axis=0)\n",
    "            page_frequency[min_freq]=0\n",
    "            flag=\"found\"\n",
    "        except:\n",
    "            min_freq=min(temp_freq,key=temp_freq.get)\n",
    "            del(temp_freq[min_freq])\n",
    "            flag=\"not_found\"\n",
    "\n",
    "    return frame_loc\n"
   ]
  },
  {
   "cell_type": "code",
   "execution_count": 491,
   "id": "83588653",
   "metadata": {},
   "outputs": [],
   "source": [
    "def get_pageframe(pnum, pr, algo=None):\n",
    "\n",
    "    # Trying to get a page Hit below\n",
    "    fr_num = 0\n",
    "    if algo == \"lru\":\n",
    "        fr_num = getLruFrame(fr_num, pnum, pr)\n",
    "    elif algo == \"fifo\":\n",
    "        fr_num = getFifoFrame(fr_num, pnum, pr)\n",
    "    elif algo == \"mru\":\n",
    "        fr_num = getLruFrame(fr_num, pnum, pr)\n",
    "    elif algo == \"rr\":\n",
    "        fr_num = getRRFrame(fr_num, pnum, pr)\n",
    "    elif algo == \"lfu\":\n",
    "        fr_num = getLFUFrame(fr_num, pnum, pr)        \n",
    "\n",
    "    # This indicates Page Hit.\n",
    "    if fr_num < F:\n",
    "        return fr_num * PAGE_SIZE, 0\n",
    "\n",
    "    # This tries to find page fault if occured.\n",
    "    fr_num = gen_pagefault(pnum, pr)\n",
    "\n",
    "    if fr_num >= 0:\n",
    "        return fr_num * PAGE_SIZE, 1\n",
    "\n",
    "    # This is for page replacement based on algorith choosen\n",
    "    if algo == \"lru\":\n",
    "        fr_num = page_replace(pnum, pr)\n",
    "    elif algo == \"fifo\":\n",
    "        fr_num = page_replaceFIFO(pnum, pr)\n",
    "    elif algo==\"rr\":\n",
    "        fr_num=page_replaceRR(pnum,pr)\n",
    "    elif algo==\"mru\":\n",
    "        fr_num=page_replaceMRU(pnum,pr)\n",
    "    elif algo==\"lfu\":\n",
    "        fr_num=page_replaceLFU(pnum,pr)\n",
    "\n",
    "    if fr_num >= 0:\n",
    "        return fr_num * PAGE_SIZE, 2\n",
    "    return INVALID, 0"
   ]
  },
  {
   "cell_type": "code",
   "execution_count": 492,
   "id": "0fd4ab81",
   "metadata": {},
   "outputs": [],
   "source": [
    "def mem_manager(infile, outfile, pid, algo=None):\n",
    "    #    num_faults = 0\n",
    "    # Read a number of address references, i.e., execute the process\n",
    "    # partially (or fully, if the number generated is > process size)\n",
    "    num_addr = 512 + int(4096 * np.random.random())\n",
    "    idx = 0\n",
    "    while idx < num_addr:\n",
    "        addr_ref = infile.readline().strip()\n",
    "        if addr_ref == '':\n",
    "            break\n",
    "        addr_ref = int(addr_ref)\n",
    "        pg_num = int(addr_ref / PAGE_SIZE)\n",
    "        pg_offset = addr_ref % PAGE_SIZE\n",
    "        pg_base, pg_fault = get_pageframe(pg_num, pid, algo)\n",
    "\n",
    "        if pg_base >= 0:\n",
    "            phys_addr = pg_base + pg_offset\n",
    "            outfile.write(str(addr_ref) + ',' + str(phys_addr) + ','\n",
    "                          + str(pg_fault) + '\\n')  # Saving the logical add, physical add and faults\n",
    "\n",
    "            if pg_fault == 0:\n",
    "                pr_timing[pid] += IN_MEMORY\n",
    "            elif pg_fault == 1:\n",
    "                pr_timing[pid] += MEM_FAULT\n",
    "            else:\n",
    "                pr_timing[pid] += PAGE_REPLACE\n",
    "\n",
    "        else:\n",
    "            print(idx)\n",
    "            return INVALID\n",
    "        idx += 1\n",
    "\n",
    "    if idx >= num_addr:\n",
    "        return INCOMPLETE\n",
    "    return COMPLETED"
   ]
  },
  {
   "cell_type": "code",
   "execution_count": 493,
   "id": "0ec95eea",
   "metadata": {},
   "outputs": [],
   "source": [
    "def print_phys_mem():\n",
    "    print('{:^10s} {:^6s} {:^6s}'.format('Frame', 'PID', 'Page No.'))\n",
    "    print('{:^10s} {:^6s} {:^6s}'.format('-----', '---', '--------'))\n",
    "    for i in range(F):\n",
    "        if phys_mem[i, PID] != INVALID:\n",
    "            print('{:^10d} {:^6d} {:^6d}'.format(i, phys_mem[i, PID],\n",
    "                                                 phys_mem[i, FRAME]))\n",
    "        else:\n",
    "            print('Free Frame: ', i)\n",
    "    print('_____________________________________________________________')\n"
   ]
  },
  {
   "cell_type": "code",
   "execution_count": 494,
   "id": "b92fa9d7",
   "metadata": {},
   "outputs": [],
   "source": [
    "pr_size = np.zeros(NP, dtype='int32')\n",
    "def create_simulation():\n",
    "    for p in range(NP):\n",
    "        fname = 'AR_' + '{:02d}'.format(p) + '.txt'\n",
    "        op = open(fname, 'w')\n",
    "        npg = int(np.random.normal(10, 2.5))\n",
    "        nsig = int(5 * np.random.random())\n",
    "        print(f'Process {p} requires {npg} pages and has a quality {nsig}')\n",
    "        pg_seq, pr_size[p] = sim_process(npg, nsig, op)\n",
    "        print(pg_seq, pr_size[p])\n",
    "        op.write('\\n')\n",
    "        op.close()\n",
    "        print('Written process ', p, 'to ', fname)"
   ]
  },
  {
   "cell_type": "code",
   "execution_count": 495,
   "id": "04a5ee52",
   "metadata": {},
   "outputs": [
    {
     "data": {
      "text/plain": [
       "0"
      ]
     },
     "execution_count": 495,
     "metadata": {},
     "output_type": "execute_result"
    }
   ],
   "source": [
    "int(5 * np.random.random())"
   ]
  },
  {
   "cell_type": "code",
   "execution_count": 496,
   "id": "28f88b41",
   "metadata": {},
   "outputs": [
    {
     "name": "stdout",
     "output_type": "stream",
     "text": [
      "Process 0 requires 8 pages and has a quality 2\n",
      "[1, 0, 3, 0, 7, 4, 4, 2] 17438\n",
      "Written process  0 to  AR_00.txt\n",
      "Process 1 requires 12 pages and has a quality 1\n",
      "[2, 5, 1, 1, 10, 10, 6, 6, 5, 1, 7, 11] 25877\n",
      "Written process  1 to  AR_01.txt\n",
      "Process 2 requires 8 pages and has a quality 3\n",
      "[0, 7, 3, 1, 1, 0, 1, 3] 16437\n",
      "Written process  2 to  AR_02.txt\n",
      "Process 3 requires 14 pages and has a quality 4\n",
      "[2, 6, 3, 6, 13, 12, 10, 4, 3, 12, 7, 2, 0, 1] 34333\n",
      "Written process  3 to  AR_03.txt\n",
      "Process 4 requires 13 pages and has a quality 0\n",
      "[2, 12, 1, 10, 4, 9, 9, 4, 0, 9, 4, 6, 3] 29399\n",
      "Written process  4 to  AR_04.txt\n",
      "Process 5 requires 12 pages and has a quality 4\n",
      "[0, 4, 2, 10, 2, 1, 4, 4, 3, 10, 7, 11] 27684\n",
      "Written process  5 to  AR_05.txt\n"
     ]
    }
   ],
   "source": [
    "create_simulation()"
   ]
  },
  {
   "cell_type": "code",
   "execution_count": 497,
   "id": "c052e1c0",
   "metadata": {},
   "outputs": [],
   "source": [
    "# algo = input(\"Enter the algorithm to use\")"
   ]
  },
  {
   "cell_type": "code",
   "execution_count": 498,
   "id": "2d1f0ef3",
   "metadata": {
    "scrolled": false
   },
   "outputs": [
    {
     "name": "stdout",
     "output_type": "stream",
     "text": [
      "[1, 0, 5, 2, 4, 3]\n",
      "Reading Process from AR_00.txt\n",
      "Reading Process from AR_01.txt\n",
      "Reading Process from AR_02.txt\n",
      "Reading Process from AR_03.txt\n",
      "Reading Process from AR_04.txt\n",
      "Reading Process from AR_05.txt\n",
      "Process 0 (Size: 17438 Bytes) completed;             removing from queue\n",
      "Time taken: 20307\n",
      "Slow down by 16.45%\n",
      "Process 2 (Size: 16437 Bytes) completed;             removing from queue\n",
      "Time taken: 19357\n",
      "Slow down by 17.76%\n",
      "Process 5 (Size: 27684 Bytes) completed;             removing from queue\n",
      "Time taken: 33124\n",
      "Slow down by 19.65%\n",
      "Process 1 (Size: 25877 Bytes) completed;             removing from queue\n",
      "Time taken: 33990\n",
      "Slow down by 31.35%\n",
      "Process 4 (Size: 29399 Bytes) completed;             removing from queue\n",
      "Time taken: 37065\n",
      "Slow down by 26.08%\n",
      "Process 3 (Size: 34333 Bytes) completed;             removing from queue\n",
      "Time taken: 43389\n",
      "Slow down by 26.38%\n",
      "[1, 2, 3, 5, 4, 0]\n",
      "Reading Process from AR_00.txt\n",
      "Reading Process from AR_01.txt\n",
      "Reading Process from AR_02.txt\n",
      "Reading Process from AR_03.txt\n",
      "Reading Process from AR_04.txt\n",
      "Reading Process from AR_05.txt\n",
      "Process 0 (Size: 17438 Bytes) completed;             removing from queue\n",
      "Time taken: 20210\n",
      "Slow down by 15.90%\n",
      "Process 2 (Size: 16437 Bytes) completed;             removing from queue\n",
      "Time taken: 18807\n",
      "Slow down by 14.42%\n",
      "Process 5 (Size: 27684 Bytes) completed;             removing from queue\n",
      "Time taken: 33178\n",
      "Slow down by 19.85%\n",
      "Process 1 (Size: 25877 Bytes) completed;             removing from queue\n",
      "Time taken: 32653\n",
      "Slow down by 26.19%\n",
      "Process 4 (Size: 29399 Bytes) completed;             removing from queue\n",
      "Time taken: 37020\n",
      "Slow down by 25.92%\n",
      "Process 3 (Size: 34333 Bytes) completed;             removing from queue\n",
      "Time taken: 39718\n",
      "Slow down by 15.68%\n",
      "[1, 0, 3, 4, 5, 2]\n",
      "Reading Process from AR_00.txt\n",
      "Reading Process from AR_01.txt\n",
      "Reading Process from AR_02.txt\n",
      "Reading Process from AR_03.txt\n",
      "Reading Process from AR_04.txt\n",
      "Reading Process from AR_05.txt\n",
      "Process 0 (Size: 17438 Bytes) completed;             removing from queue\n",
      "Time taken: 20407\n",
      "Slow down by 17.03%\n",
      "Process 2 (Size: 16437 Bytes) completed;             removing from queue\n",
      "Time taken: 19058\n",
      "Slow down by 15.95%\n",
      "Process 1 (Size: 25877 Bytes) completed;             removing from queue\n",
      "Time taken: 34334\n",
      "Slow down by 32.68%\n",
      "Process 4 (Size: 29399 Bytes) completed;             removing from queue\n",
      "Time taken: 40338\n",
      "Slow down by 37.21%\n",
      "Process 5 (Size: 27684 Bytes) completed;             removing from queue\n",
      "Time taken: 34811\n",
      "Slow down by 25.74%\n",
      "Process 3 (Size: 34333 Bytes) completed;             removing from queue\n",
      "Time taken: 43674\n",
      "Slow down by 27.21%\n",
      "[5, 3, 1, 2, 0, 4]\n",
      "Reading Process from AR_00.txt\n",
      "Reading Process from AR_01.txt\n",
      "Reading Process from AR_02.txt\n",
      "Reading Process from AR_03.txt\n",
      "Reading Process from AR_04.txt\n",
      "Reading Process from AR_05.txt\n",
      "Process 2 (Size: 16437 Bytes) completed;             removing from queue\n",
      "Time taken: 20098\n",
      "Slow down by 22.27%\n",
      "Process 5 (Size: 27684 Bytes) completed;             removing from queue\n",
      "Time taken: 50006\n",
      "Slow down by 80.63%\n",
      "Process 1 (Size: 25877 Bytes) completed;             removing from queue\n",
      "Time taken: 52255\n",
      "Slow down by 101.94%\n",
      "Process 0 (Size: 17438 Bytes) completed;             removing from queue\n",
      "Time taken: 21395\n",
      "Slow down by 22.69%\n",
      "Process 4 (Size: 29399 Bytes) completed;             removing from queue\n",
      "Time taken: 59194\n",
      "Slow down by 101.35%\n",
      "Process 3 (Size: 34333 Bytes) completed;             removing from queue\n",
      "Time taken: 58534\n",
      "Slow down by 70.49%\n",
      "[3, 2, 0, 5, 1, 4]\n",
      "Reading Process from AR_00.txt\n",
      "Reading Process from AR_01.txt\n",
      "Reading Process from AR_02.txt\n",
      "Reading Process from AR_03.txt\n",
      "Reading Process from AR_04.txt\n",
      "Reading Process from AR_05.txt\n",
      "Process 0 (Size: 17438 Bytes) completed;             removing from queue\n",
      "Time taken: 37633\n",
      "Slow down by 115.81%\n",
      "Process 2 (Size: 16437 Bytes) completed;             removing from queue\n",
      "Time taken: 29996\n",
      "Slow down by 82.49%\n",
      "Process 5 (Size: 27684 Bytes) completed;             removing from queue\n",
      "Time taken: 69062\n",
      "Slow down by 149.47%\n",
      "Process 1 (Size: 25877 Bytes) completed;             removing from queue\n",
      "Time taken: 93736\n",
      "Slow down by 262.24%\n",
      "Process 4 (Size: 29399 Bytes) completed;             removing from queue\n",
      "Time taken: 143643\n",
      "Slow down by 388.60%\n",
      "Process 3 (Size: 34333 Bytes) completed;             removing from queue\n",
      "Time taken: 107686\n",
      "Slow down by 213.65%\n"
     ]
    }
   ],
   "source": [
    "for algo in algos:\n",
    "    init_phys_mem()\n",
    "    oldest_frame = 0\n",
    "    recent_frame=0\n",
    "    pr_que = init_proc_queue()\n",
    "    pr_timing = np.zeros(F).astype('int32')\n",
    "    IN_MEMORY = 1\n",
    "    MEM_FAULT = 50\n",
    "    PAGE_REPLACE = 100\n",
    "\n",
    "    # Open necessary files\n",
    "    infiles = list()\n",
    "    outfiles = list()\n",
    "    for i in range(NP):\n",
    "        fname = 'AR_{:02d}.txt'.format(i)\n",
    "        outname = 'AR_{:02}_{}_out.txt'.format(i, algo)\n",
    "\n",
    "        if os.access(fname, os.R_OK):\n",
    "            print(f'Reading Process from {fname}')\n",
    "            infiles.append(open(fname, 'r'))\n",
    "        else:\n",
    "            print(f'Cannot open {fname} for reading')\n",
    "        outfiles.append(open(outname, 'w'))\n",
    "\n",
    "    # Map logical into physical addresses and keep track of page faults\n",
    "    for pr in readq(pr_que):\n",
    "        rv = mem_manager(infiles[pr], outfiles[pr], pr, algo=algo)\n",
    "        if rv == INVALID:\n",
    "            print('Memory overflow error')\n",
    "            break\n",
    "        if rv == INCOMPLETE:\n",
    "            pr_que.put_nowait(pr)\n",
    "        else:\n",
    "            print(f'Process {pr} (Size: {pr_size[pr]} Bytes) completed; \\\n",
    "            removing from queue')\n",
    "            print(f'Time taken: {pr_timing[pr]}')\n",
    "            slow = (pr_timing[pr] - pr_size[pr]) * 100.0 / pr_size[pr]\n",
    "            print('Slow down by {:.2f}%'.format(slow))\n",
    "            print_phys_mem()\n",
    "            update_phys_mem(pr)\n",
    "\n",
    "    #        print('Current Status of Physical Memory')\n",
    "    #        print_phys_mem()\n",
    "\n",
    "    # Close all files\n",
    "    for i in range(NP):\n",
    "        infiles[i].close()\n",
    "        outfiles[i].close()"
   ]
  },
  {
   "cell_type": "code",
   "execution_count": 499,
   "id": "079f8ecb",
   "metadata": {
    "scrolled": false
   },
   "outputs": [
    {
     "data": {
      "image/png": "[encoded data removed]",
      "text/plain": [
       "<Figure size 432x288 with 1 Axes>"
      ]
     },
     "metadata": {
      "needs_background": "light"
     },
     "output_type": "display_data"
    },
    {
     "name": "stdout",
     "output_type": "stream",
     "text": [
      "Counter({'0': 17407, '2': 27, '1': 4})\n"
     ]
    },
    {
     "data": {
      "image/png": "[encoded data removed]",
      "text/plain": [
       "<Figure size 432x288 with 1 Axes>"
      ]
     },
     "metadata": {
      "needs_background": "light"
     },
     "output_type": "display_data"
    },
    {
     "name": "stdout",
     "output_type": "stream",
     "text": [
      "Counter({'0': 17410, '2': 28})\n"
     ]
    },
    {
     "data": {
      "image/png": "[encoded data removed]",
      "text/plain": [
       "<Figure size 432x288 with 1 Axes>"
      ]
     },
     "metadata": {
      "needs_background": "light"
     },
     "output_type": "display_data"
    },
    {
     "name": "stdout",
     "output_type": "stream",
     "text": [
      "Counter({'0': 17407, '2': 29, '1': 2})\n"
     ]
    },
    {
     "data": {
      "image/png": "[encoded data removed]",
      "text/plain": [
       "<Figure size 432x288 with 1 Axes>"
      ]
     },
     "metadata": {
      "needs_background": "light"
     },
     "output_type": "display_data"
    },
    {
     "name": "stdout",
     "output_type": "stream",
     "text": [
      "Counter({'0': 17395, '2': 37, '1': 6})\n"
     ]
    },
    {
     "data": {
      "image/png": "[encoded data removed]",
      "text/plain": [
       "<Figure size 432x288 with 1 Axes>"
      ]
     },
     "metadata": {
      "needs_background": "light"
     },
     "output_type": "display_data"
    },
    {
     "name": "stdout",
     "output_type": "stream",
     "text": [
      "Counter({'0': 17233, '2': 203, '1': 2})\n"
     ]
    }
   ],
   "source": [
    "for algo in algos:\n",
    "    file_name='AR_00_{}_out.txt'.format(algo)\n",
    "    file=open(file_name,'r')\n",
    "    data=file.read()\n",
    "    datas=np.array(data.split('\\n'))\n",
    "    faults=[data[-1] for data in datas[:-1]]\n",
    "    plt.title(\"For {} Page Replacement\".format(algo))\n",
    "    sns.countplot(x=faults)\n",
    "    plt.show()\n",
    "    print(collections.Counter(faults))"
   ]
  },
  {
   "cell_type": "code",
   "execution_count": null,
   "id": "4be7ac94",
   "metadata": {},
   "outputs": [],
   "source": []
  },
  {
   "cell_type": "code",
   "execution_count": null,
   "id": "6b7792b4",
   "metadata": {},
   "outputs": [],
   "source": []
  },
  {
   "cell_type": "code",
   "execution_count": null,
   "id": "7e7945e3",
   "metadata": {},
   "outputs": [],
   "source": []
  },
  {
   "cell_type": "code",
   "execution_count": null,
   "id": "ef76967b",
   "metadata": {},
   "outputs": [],
   "source": []
  },
  {
   "cell_type": "code",
   "execution_count": null,
   "id": "e091e705",
   "metadata": {},
   "outputs": [],
   "source": []
  },
  {
   "cell_type": "code",
   "execution_count": null,
   "id": "aacec508",
   "metadata": {},
   "outputs": [],
   "source": []
  },
  {
   "cell_type": "code",
   "execution_count": null,
   "id": "ae406273",
   "metadata": {},
   "outputs": [],
   "source": []
  },
  {
   "cell_type": "code",
   "execution_count": null,
   "id": "29a401e1",
   "metadata": {},
   "outputs": [],
   "source": []
  },
  {
   "cell_type": "code",
   "execution_count": null,
   "id": "190ea972",
   "metadata": {},
   "outputs": [],
   "source": []
  },
  {
   "cell_type": "code",
   "execution_count": null,
   "id": "1c7cd9bf",
   "metadata": {},
   "outputs": [],
   "source": []
  },
  {
   "cell_type": "code",
   "execution_count": null,
   "id": "198ebc99",
   "metadata": {},
   "outputs": [],
   "source": []
  },
  {
   "cell_type": "code",
   "execution_count": null,
   "id": "565852ed",
   "metadata": {},
   "outputs": [],
   "source": []
  },
  {
   "cell_type": "code",
   "execution_count": null,
   "id": "2cc5089f",
   "metadata": {},
   "outputs": [],
   "source": []
  },
  {
   "cell_type": "code",
   "execution_count": null,
   "id": "d5569b44",
   "metadata": {},
   "outputs": [],
   "source": []
  },
  {
   "cell_type": "code",
   "execution_count": null,
   "id": "e10d98cd",
   "metadata": {},
   "outputs": [],
   "source": []
  },
  {
   "cell_type": "code",
   "execution_count": null,
   "id": "d31db5e1",
   "metadata": {},
   "outputs": [],
   "source": []
  }
 ],
 "metadata": {
  "kernelspec": {
   "display_name": "Python 3",
   "language": "python",
   "name": "python3"
  },
  "language_info": {
   "codemirror_mode": {
    "name": "ipython",
    "version": 3
   },
   "file_extension": ".py",
   "mimetype": "text/x-python",
   "name": "python",
   "nbconvert_exporter": "python",
   "pygments_lexer": "ipython3",
   "version": "3.9.4"
  }
 },
 "nbformat": 4,
 "nbformat_minor": 5
}
