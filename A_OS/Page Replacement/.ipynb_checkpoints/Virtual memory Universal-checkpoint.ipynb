{
 "cells": [
  {
   "cell_type": "code",
   "execution_count": 11,
   "id": "ce4eda2e",
   "metadata": {},
   "outputs": [],
   "source": [
    "import numpy as np\n",
    "import math\n",
    "import os\n",
    "import random\n",
    "from matplotlib import pyplot as plt\n",
    "import queue\n",
    "import collections\n",
    "import seaborn as sns\n",
    "PAGE_SIZE = 4096                    # Page Size in Bytes\n",
    "NP = 6                              # No. of processes in memory\n",
    "F = 16                              # No. of Frames in physical memory\n",
    "INVALID = -10\n",
    "PID = 0                             # Used for Indexing into Frames\n",
    "FRAME = 1                           # Used for Indexing into Frames\n",
    "COMPLETED = 10                      # Process Status Flags\n",
    "INCOMPLETE = 20                     #\n",
    "# The following are page replacement algorithm types\n",
    "FIFO_GLOBAL = 10\n",
    "oldest_frame = 0\n",
    "loc_oldest_frame = np.zeros(F).astype('int32')\n",
    "phys_mem = np.full((F, 2), INVALID).astype('int32')"
   ]
  },
  {
   "cell_type": "code",
   "execution_count": 12,
   "id": "abdd0ae6",
   "metadata": {},
   "outputs": [],
   "source": [
    "def init_proc_queue():\n",
    "    pq = queue.Queue(maxsize=NP)\n",
    "    proc_queue = list(set((NP * np.random.random(20)).astype('int32')))\n",
    "    random.shuffle(proc_queue)\n",
    "    print(proc_queue)\n",
    "    for pr in proc_queue:\n",
    "        pq.put_nowait(pr)\n",
    "    return(pq)\n",
    "\n",
    "def readq(q):\n",
    "    while True:\n",
    "        try:\n",
    "            yield q.get_nowait()\n",
    "        except queue.Empty:\n",
    "            break"
   ]
  },
  {
   "cell_type": "code",
   "execution_count": 13,
   "id": "896ad2e1",
   "metadata": {},
   "outputs": [],
   "source": [
    "def init_phys_mem():\n",
    "    for i in range(F):\n",
    "        #         initializing Physical memory to implement FIFO\n",
    "        phys_mem[i, PID] = INVALID\n",
    "        phys_mem[i, FRAME] = INVALID\n",
    "\n",
    "\n",
    "def update_phys_mem(pid):\n",
    "    for i in range(F):\n",
    "        #         Updating physical memory of FIFO\n",
    "        if phys_mem[i, PID] == pid:\n",
    "            phys_mem[i, PID] = INVALID\n",
    "            phys_mem[i, FRAME] = INVALID"
   ]
  },
  {
   "cell_type": "code",
   "execution_count": 14,
   "id": "ab2a8fa9",
   "metadata": {},
   "outputs": [],
   "source": [
    "def correct_refs(alist, cent, maxpg):\n",
    "    if cent != 0:\n",
    "        pgnum = int(cent / PAGE_SIZE)\n",
    "        lh = (pgnum + 1) * PAGE_SIZE - 1\n",
    "        ll = pgnum * PAGE_SIZE\n",
    "    else:\n",
    "        lh = maxpg * PAGE_SIZE\n",
    "        ll = 0\n",
    "    for i in range(alist.shape[0]):\n",
    "        if alist[i] >= lh:\n",
    "            alist[i] = lh - 1\n",
    "        if alist[i] < ll:\n",
    "            alist[i] = ll + 1\n",
    "    return alist\n",
    "def sim_process(M, sigma, outfile, lfrac=0.9):\n",
    "    cur_page = int(M * np.random.random())  # Generate a random start page\n",
    "    cur_locale = round(PAGE_SIZE * (cur_page + 0.5))  # Locality of reference\n",
    "    sum_refs = 0\n",
    "    list_locales = list()\n",
    "    for count in range(M):\n",
    "        # random page address in memory.\n",
    "        num_refs = int(512 + (PAGE_SIZE - 512) * np.random.random())\n",
    "        sum_refs += num_refs\n",
    "        list_locales.append(cur_page)\n",
    "        num_loc = round(lfrac * num_refs)\n",
    "        aref_list = np.random.normal(cur_locale, sigma * 300 + 100,\n",
    "                                     num_loc)  # If siagma is less, it stays less within that locality of reference\n",
    "        # if sigma more, it may vary more\n",
    "        aref_list = correct_refs(aref_list, cur_locale, M)\n",
    "        aref_list = aref_list.astype('int32')\n",
    "        cur_page = int(M * np.random.random())\n",
    "        cur_locale = round(PAGE_SIZE * (cur_page + 0.5))\n",
    "        num_trans = round((1 - lfrac) * num_refs)\n",
    "        tref_list = np.random.random(num_trans) * cur_locale\n",
    "        tref_list = correct_refs(tref_list, 0, M)\n",
    "        tref_list = tref_list.astype('int32')\n",
    "        np.append(aref_list, tref_list).tofile(outfile, sep='\\n')\n",
    "        outfile.write('\\n')\n",
    "\n",
    "    return list_locales, sum_refs"
   ]
  },
  {
   "cell_type": "code",
   "execution_count": null,
   "id": "b67c5396",
   "metadata": {},
   "outputs": [],
   "source": []
  },
  {
   "cell_type": "code",
   "execution_count": null,
   "id": "59e8faf6",
   "metadata": {},
   "outputs": [],
   "source": []
  },
  {
   "cell_type": "code",
   "execution_count": null,
   "id": "e6afb6a5",
   "metadata": {},
   "outputs": [],
   "source": []
  },
  {
   "cell_type": "code",
   "execution_count": null,
   "id": "b1d66c01",
   "metadata": {},
   "outputs": [],
   "source": []
  },
  {
   "cell_type": "code",
   "execution_count": 15,
   "id": "31092b3e",
   "metadata": {},
   "outputs": [],
   "source": [
    "def get_oldest_frame(pr, algo_type):\n",
    "    global oldest_frame\n",
    "    if algo_type == FIFO_GLOBAL:\n",
    "        rv = oldest_frame\n",
    "        oldest_frame += 1\n",
    "        if oldest_frame == F:\n",
    "            oldest_frame = 0\n",
    "        return rv\n",
    "\n",
    "    return INVALID\n",
    "def getFifoFrame(fr_num, pnum, pr):\n",
    "    while fr_num < F:\n",
    "        if phys_mem[fr_num, PID] == pr and phys_mem[fr_num, FRAME] == pnum:\n",
    "            break\n",
    "        else:\n",
    "            fr_num += 1\n",
    "    return fr_num\n",
    "\n",
    "\n",
    "def getLruFrame(fr_num, pnum, pr):\n",
    "    global phys_mem\n",
    "    while fr_num < F:\n",
    "        if phys_mem[fr_num, PID] == pr and phys_mem[fr_num, FRAME] == pnum:\n",
    "            temp = phys_mem[fr_num]\n",
    "            phys_mem = np.delete(phys_mem, fr_num, axis=0)\n",
    "            phys_mem = np.concatenate([phys_mem, temp.reshape(1, -1)], axis=0)\n",
    "            break\n",
    "        else:\n",
    "            fr_num += 1\n",
    "    return fr_num\n",
    "\n",
    "\n",
    "def getMRUFrame(fr_num, pnum, pr):\n",
    "    pass\n",
    "\n",
    "\n",
    "def getRRFrame(fr_num, pnum, pr):\n",
    "    pass\n",
    "\n",
    "\n",
    "def getLFUFrame(fr_num, pnum, pr):\n",
    "    pass"
   ]
  },
  {
   "cell_type": "code",
   "execution_count": 16,
   "id": "090a69f0",
   "metadata": {},
   "outputs": [],
   "source": [
    "def gen_pagefault(pgnum, pr):\n",
    "    fr_num = 0\n",
    "    while fr_num < F and phys_mem[fr_num, FRAME] >= 0:\n",
    "        fr_num += 1\n",
    "    if fr_num >= F:\n",
    "        return INVALID\n",
    "    phys_mem[fr_num, FRAME] = pgnum\n",
    "    phys_mem[fr_num, PID] = pr\n",
    "    return fr_num"
   ]
  },
  {
   "cell_type": "code",
   "execution_count": 17,
   "id": "e414dfc9",
   "metadata": {},
   "outputs": [],
   "source": [
    "def page_replace(pgnum, pr):\n",
    "    global phys_mem\n",
    "    temp = np.array([pr, pgnum])\n",
    "    phys_mem = np.delete(phys_mem, 0, axis=0)\n",
    "    phys_mem = np.concatenate([phys_mem, temp.reshape(1, -1)], axis=0)\n",
    "    return F-1\n",
    "\n",
    "\n",
    "def page_replaceFIFO(pgnum, pr, algo=FIFO_GLOBAL):\n",
    "    cur_frame = get_oldest_frame(pr, algo)\n",
    "    phys_mem[cur_frame, PID] = pr\n",
    "    phys_mem[cur_frame, FRAME] = pgnum\n",
    "    return cur_frame"
   ]
  },
  {
   "cell_type": "code",
   "execution_count": 18,
   "id": "67165d91",
   "metadata": {},
   "outputs": [],
   "source": [
    "def get_pageframe(pnum, pr, algo=None):\n",
    "\n",
    "    # Trying to get a page Hit below\n",
    "    fr_num = 0\n",
    "    if algo == \"lru\":\n",
    "        fr_num = getLruFrame(fr_num, pnum, pr)\n",
    "    elif algo == \"fifo\":\n",
    "        fr_num = getFifoFrame(fr_num, pnum, pr)\n",
    "    elif algo == \"mru\":\n",
    "        fr_num = getLruFrame(fr_num, pnum, pr)\n",
    "    elif algo == \"rr\":\n",
    "        fr_num = getRRFrame(fr_num, pnum, pr)\n",
    "    elif algo == \"lfu\":\n",
    "        fr_num = getLFUFrame(fr_num, pnum, pr)\n",
    "\n",
    "    # This indicates Page Hit.\n",
    "    if fr_num < F:\n",
    "        return fr_num * PAGE_SIZE, 0\n",
    "\n",
    "    # This tries to find page fault if occured.\n",
    "    fr_num = gen_pagefault(pnum, pr)\n",
    "\n",
    "    if fr_num >= 0:\n",
    "        return fr_num * PAGE_SIZE, 1\n",
    "\n",
    "    # This is for page replacement based on algorith choosen\n",
    "    if algo == \"lru\":\n",
    "        fr_num = page_replace(pnum, pr)\n",
    "    elif algo == \"fifo\":\n",
    "        fr_num = page_replaceFIFO(pnum, pr)\n",
    "\n",
    "    if fr_num >= 0:\n",
    "        return fr_num * PAGE_SIZE, 2\n",
    "    return INVALID, 0"
   ]
  },
  {
   "cell_type": "code",
   "execution_count": null,
   "id": "46106e51",
   "metadata": {},
   "outputs": [],
   "source": []
  },
  {
   "cell_type": "code",
   "execution_count": 19,
   "id": "bfcd66ec",
   "metadata": {},
   "outputs": [],
   "source": [
    "def mem_manager(infile, outfile, pid, algo=None):\n",
    "    #    num_faults = 0\n",
    "    # Read a number of address references, i.e., execute the process\n",
    "    # partially (or fully, if the number generated is > process size)\n",
    "    num_addr = 512 + int(4096 * np.random.random())\n",
    "    idx = 0\n",
    "    while idx < num_addr:\n",
    "        addr_ref = infile.readline().strip()\n",
    "        if addr_ref == '':\n",
    "            break\n",
    "        addr_ref = int(addr_ref)\n",
    "        pg_num = int(addr_ref / PAGE_SIZE)\n",
    "        pg_offset = addr_ref % PAGE_SIZE\n",
    "        # Trying to fetch fault for FIFO.\n",
    "        pg_base, pg_fault = get_pageframe(pg_num, pid, algo)\n",
    "\n",
    "        if pg_base >= 0:\n",
    "            phys_addr = pg_base + pg_offset\n",
    "            outfile.write(str(addr_ref) + ',' + str(phys_addr) + ','\n",
    "                          + str(pg_fault) + '\\n')  # Saving the logical add, physical add and faults for FIFO\n",
    "\n",
    "            if pg_fault == 0:\n",
    "                pr_timing[pid] += IN_MEMORY\n",
    "            elif pg_fault == 1:\n",
    "                pr_timing[pid] += MEM_FAULT\n",
    "            else:\n",
    "                pr_timing[pid] += PAGE_REPLACE\n",
    "\n",
    "        else:\n",
    "            print(idx)\n",
    "            return INVALID\n",
    "        idx += 1\n",
    "\n",
    "    if idx >= num_addr:\n",
    "        return INCOMPLETE\n",
    "    return COMPLETED"
   ]
  },
  {
   "cell_type": "code",
   "execution_count": 20,
   "id": "1654f263",
   "metadata": {},
   "outputs": [],
   "source": [
    "def print_phys_mem():\n",
    "    print('{:^10s} {:^6s} {:^6s}'.format('Frame', 'PID', 'Page No.'))\n",
    "    print('{:^10s} {:^6s} {:^6s}'.format('-----', '---', '--------'))\n",
    "    for i in range(F):\n",
    "        if phys_mem[i, PID] != INVALID:\n",
    "            print('{:^10d} {:^6d} {:^6d}'.format(i, phys_mem[i, PID],\n",
    "                                                 phys_mem[i, FRAME]))\n",
    "        else:\n",
    "            print('Free Frame: ', i)\n",
    "    print('_____________________________________________________________')\n"
   ]
  },
  {
   "cell_type": "code",
   "execution_count": 21,
   "id": "ffd48f40",
   "metadata": {},
   "outputs": [
    {
     "name": "stdout",
     "output_type": "stream",
     "text": [
      "Process 0 requires 9 pages and has a quality 3\n",
      "[5, 6, 3, 8, 1, 4, 6, 7, 6] 22140\n",
      "Written process  0 to  AR_00.txt\n",
      "Process 1 requires 11 pages and has a quality 2\n",
      "[8, 5, 6, 3, 6, 2, 0, 3, 4, 0, 4] 23916\n",
      "Written process  1 to  AR_01.txt\n",
      "Process 2 requires 11 pages and has a quality 1\n",
      "[4, 10, 3, 4, 7, 5, 2, 0, 6, 1, 8] 27687\n",
      "Written process  2 to  AR_02.txt\n",
      "Process 3 requires 11 pages and has a quality 4\n",
      "[7, 2, 9, 3, 8, 6, 0, 4, 3, 8, 1] 24998\n",
      "Written process  3 to  AR_03.txt\n",
      "Process 4 requires 14 pages and has a quality 4\n",
      "[1, 5, 5, 9, 12, 9, 1, 7, 4, 9, 2, 7, 6, 1] 30878\n",
      "Written process  4 to  AR_04.txt\n",
      "Process 5 requires 7 pages and has a quality 1\n",
      "[6, 1, 4, 3, 6, 3, 3] 19139\n",
      "Written process  5 to  AR_05.txt\n"
     ]
    }
   ],
   "source": [
    "pr_size = np.zeros(NP, dtype='int32')\n",
    "for p in range(NP):\n",
    "    fname = 'AR_' + '{:02d}'.format(p) + '.txt'\n",
    "    op = open(fname, 'w')\n",
    "    npg = int(np.random.normal(10, 2.5))\n",
    "    nsig = int(5 * np.random.random())\n",
    "    print(f'Process {p} requires {npg} pages and has a quality {nsig}')\n",
    "    pg_seq, pr_size[p] = sim_process(npg, nsig, op)\n",
    "    print(pg_seq, pr_size[p])\n",
    "    op.write('\\n')\n",
    "    op.close()\n",
    "    print('Written process ', p, 'to ', fname)"
   ]
  },
  {
   "cell_type": "code",
   "execution_count": 22,
   "id": "3d59e0d2",
   "metadata": {},
   "outputs": [
    {
     "name": "stdout",
     "output_type": "stream",
     "text": [
      "Enter the algorithm to usefifo\n"
     ]
    }
   ],
   "source": [
    "algo = input(\"Enter the algorithm to use\")\n"
   ]
  },
  {
   "cell_type": "code",
   "execution_count": 24,
   "id": "6a6d8dc6",
   "metadata": {
    "scrolled": false
   },
   "outputs": [
    {
     "name": "stdout",
     "output_type": "stream",
     "text": [
      "[2, 4, 0, 5, 1, 3]\n",
      "Reading Process from AR_00.txt\n",
      "Reading Process from AR_01.txt\n",
      "Reading Process from AR_02.txt\n",
      "Reading Process from AR_03.txt\n",
      "Reading Process from AR_04.txt\n",
      "Reading Process from AR_05.txt\n",
      "Process 5 (Size: 19139 Bytes) completed;         removing from queue\n",
      "Time taken: 22752\n",
      "Slow down by 18.88%\n",
      "  Frame     PID   Page No.\n",
      "  -----     ---   --------\n",
      "    0        5      3   \n",
      "    1        5      0   \n",
      "    2        5      1   \n",
      "    3        4      6   \n",
      "    4        4      3   \n",
      "    5        4      5   \n",
      "    6        4      7   \n",
      "    7        4      4   \n",
      "    8        0      6   \n",
      "    9        0      3   \n",
      "    10       0      5   \n",
      "    11       0      0   \n",
      "    12       0      2   \n",
      "    13       0      4   \n",
      "    14       0      1   \n",
      "    15       0      7   \n",
      "_____________________________________________________________\n",
      "Process 1 (Size: 23916 Bytes) completed;         removing from queue\n",
      "Time taken: 28023\n",
      "Slow down by 17.17%\n",
      "  Frame     PID   Page No.\n",
      "  -----     ---   --------\n",
      "    0        1      4   \n",
      "    1        1      0   \n",
      "Free Frame:  2\n",
      "    3        4      6   \n",
      "    4        4      3   \n",
      "    5        4      5   \n",
      "    6        4      7   \n",
      "    7        4      4   \n",
      "    8        0      6   \n",
      "    9        0      3   \n",
      "    10       0      5   \n",
      "    11       0      0   \n",
      "    12       0      2   \n",
      "    13       0      4   \n",
      "    14       0      1   \n",
      "    15       0      7   \n",
      "_____________________________________________________________\n",
      "Process 4 (Size: 30878 Bytes) completed;         removing from queue\n",
      "Time taken: 38300\n",
      "Slow down by 24.04%\n",
      "  Frame     PID   Page No.\n",
      "  -----     ---   --------\n",
      "    0        4      4   \n",
      "    1        4      5   \n",
      "    2        4      8   \n",
      "    3        4      9   \n",
      "    4        4      3   \n",
      "    5        4      2   \n",
      "    6        4      10  \n",
      "    7        2      3   \n",
      "    8        2      5   \n",
      "    9        2      2   \n",
      "    10       2      4   \n",
      "    11       2      6   \n",
      "    12       4      6   \n",
      "    13       4      0   \n",
      "    14       4      1   \n",
      "    15       4      7   \n",
      "_____________________________________________________________\n",
      "Process 0 (Size: 22140 Bytes) completed;         removing from queue\n",
      "Time taken: 26539\n",
      "Slow down by 19.87%\n",
      "  Frame     PID   Page No.\n",
      "  -----     ---   --------\n",
      "    0        0      6   \n",
      "    1        0      0   \n",
      "Free Frame:  2\n",
      "Free Frame:  3\n",
      "Free Frame:  4\n",
      "Free Frame:  5\n",
      "Free Frame:  6\n",
      "    7        2      3   \n",
      "    8        2      5   \n",
      "    9        2      2   \n",
      "    10       2      4   \n",
      "    11       2      6   \n",
      "Free Frame:  12\n",
      "Free Frame:  13\n",
      "Free Frame:  14\n",
      "Free Frame:  15\n",
      "_____________________________________________________________\n",
      "Process 2 (Size: 27687 Bytes) completed;         removing from queue\n",
      "Time taken: 32982\n",
      "Slow down by 19.12%\n",
      "  Frame     PID   Page No.\n",
      "  -----     ---   --------\n",
      "    0        3      4   \n",
      "    1        3      1   \n",
      "    2        3      3   \n",
      "    3        3      0   \n",
      "    4        3      2   \n",
      "    5        2      0   \n",
      "    6        2      1   \n",
      "    7        2      8   \n",
      "    8        2      7   \n",
      "    9        2      3   \n",
      "    10       2      2   \n",
      "    11       2      4   \n",
      "    12       2      5   \n",
      "    13       2      6   \n",
      "    14       3      8   \n",
      "    15       3      6   \n",
      "_____________________________________________________________\n",
      "Process 3 (Size: 24998 Bytes) completed;         removing from queue\n",
      "Time taken: 30140\n",
      "Slow down by 20.57%\n",
      "  Frame     PID   Page No.\n",
      "  -----     ---   --------\n",
      "    0        3      4   \n",
      "    1        3      1   \n",
      "    2        3      3   \n",
      "    3        3      0   \n",
      "    4        3      2   \n",
      "Free Frame:  5\n",
      "Free Frame:  6\n",
      "Free Frame:  7\n",
      "Free Frame:  8\n",
      "Free Frame:  9\n",
      "Free Frame:  10\n",
      "Free Frame:  11\n",
      "Free Frame:  12\n",
      "Free Frame:  13\n",
      "    14       3      8   \n",
      "    15       3      6   \n",
      "_____________________________________________________________\n"
     ]
    }
   ],
   "source": [
    "init_phys_mem()\n",
    "oldest_frame = 0\n",
    "pr_que = init_proc_queue()\n",
    "pr_timing = np.zeros(F).astype('int32')\n",
    "IN_MEMORY = 1\n",
    "MEM_FAULT = 50\n",
    "PAGE_REPLACE = 100\n",
    "\n",
    "# Open necessary files\n",
    "infiles = list()\n",
    "outfiles = list()\n",
    "for i in range(NP):\n",
    "    fname = 'AR_{:02d}.txt'.format(i)\n",
    "    outname = 'AR_{:02}_{}_out.txt'.format(i, algo)\n",
    "\n",
    "    if os.access(fname, os.R_OK):\n",
    "        print(f'Reading Process from {fname}')\n",
    "        infiles.append(open(fname, 'r'))\n",
    "    else:\n",
    "        print(f'Cannot open {fname} for reading')\n",
    "    outfiles.append(open(outname, 'w'))\n",
    "\n",
    "# Map logical into physical addresses and keep track of page faults\n",
    "for pr in readq(pr_que):\n",
    "    rv = mem_manager(infiles[pr], outfiles[pr], pr, algo=\"fifo\")\n",
    "    if rv == INVALID:\n",
    "        print('Memory overflow error')\n",
    "        break\n",
    "    if rv == INCOMPLETE:\n",
    "        pr_que.put_nowait(pr)\n",
    "    else:\n",
    "        print(f'Process {pr} (Size: {pr_size[pr]} Bytes) completed; \\\n",
    "        removing from queue')\n",
    "        print(f'Time taken: {pr_timing[pr]}')\n",
    "        slow = (pr_timing[pr] - pr_size[pr]) * 100.0 / pr_size[pr]\n",
    "        print('Slow down by {:.2f}%'.format(slow))\n",
    "        print_phys_mem()\n",
    "        update_phys_mem(pr)\n",
    "\n",
    "#        print('Current Status of Physical Memory')\n",
    "#        print_phys_mem()\n",
    "\n",
    "# Close all files\n",
    "for i in range(NP):\n",
    "    infiles[i].close()\n",
    "    outfiles[i].close()"
   ]
  },
  {
   "cell_type": "code",
   "execution_count": null,
   "id": "be10cf09",
   "metadata": {},
   "outputs": [],
   "source": []
  },
  {
   "cell_type": "code",
   "execution_count": null,
   "id": "2866c7ef",
   "metadata": {},
   "outputs": [],
   "source": []
  },
  {
   "cell_type": "code",
   "execution_count": null,
   "id": "d3befafe",
   "metadata": {},
   "outputs": [],
   "source": []
  },
  {
   "cell_type": "code",
   "execution_count": null,
   "id": "37aa1211",
   "metadata": {},
   "outputs": [],
   "source": []
  },
  {
   "cell_type": "code",
   "execution_count": null,
   "id": "81dc0bc3",
   "metadata": {},
   "outputs": [],
   "source": []
  },
  {
   "cell_type": "code",
   "execution_count": null,
   "id": "3facfd87",
   "metadata": {},
   "outputs": [],
   "source": []
  },
  {
   "cell_type": "code",
   "execution_count": null,
   "id": "6b90ed93",
   "metadata": {},
   "outputs": [],
   "source": []
  },
  {
   "cell_type": "code",
   "execution_count": null,
   "id": "c39f614e",
   "metadata": {},
   "outputs": [],
   "source": []
  },
  {
   "cell_type": "code",
   "execution_count": null,
   "id": "e6d99584",
   "metadata": {},
   "outputs": [],
   "source": []
  },
  {
   "cell_type": "code",
   "execution_count": null,
   "id": "f6593956",
   "metadata": {},
   "outputs": [],
   "source": []
  },
  {
   "cell_type": "code",
   "execution_count": null,
   "id": "eb744df3",
   "metadata": {},
   "outputs": [],
   "source": []
  },
  {
   "cell_type": "code",
   "execution_count": null,
   "id": "4886ac1c",
   "metadata": {},
   "outputs": [],
   "source": []
  },
  {
   "cell_type": "code",
   "execution_count": null,
   "id": "e7d4f01b",
   "metadata": {},
   "outputs": [],
   "source": []
  },
  {
   "cell_type": "code",
   "execution_count": null,
   "id": "c89c7f0f",
   "metadata": {},
   "outputs": [],
   "source": []
  },
  {
   "cell_type": "code",
   "execution_count": null,
   "id": "ce877534",
   "metadata": {},
   "outputs": [],
   "source": []
  },
  {
   "cell_type": "code",
   "execution_count": null,
   "id": "d0257994",
   "metadata": {},
   "outputs": [],
   "source": []
  },
  {
   "cell_type": "code",
   "execution_count": null,
   "id": "42f6ca26",
   "metadata": {},
   "outputs": [],
   "source": []
  },
  {
   "cell_type": "code",
   "execution_count": null,
   "id": "485a7df6",
   "metadata": {},
   "outputs": [],
   "source": []
  },
  {
   "cell_type": "code",
   "execution_count": null,
   "id": "2ea4a93a",
   "metadata": {},
   "outputs": [],
   "source": []
  },
  {
   "cell_type": "code",
   "execution_count": null,
   "id": "c7768597",
   "metadata": {},
   "outputs": [],
   "source": []
  },
  {
   "cell_type": "code",
   "execution_count": null,
   "id": "d0fb2a19",
   "metadata": {},
   "outputs": [],
   "source": []
  },
  {
   "cell_type": "code",
   "execution_count": null,
   "id": "1918c149",
   "metadata": {},
   "outputs": [],
   "source": []
  },
  {
   "cell_type": "code",
   "execution_count": null,
   "id": "01d60d2c",
   "metadata": {},
   "outputs": [],
   "source": []
  },
  {
   "cell_type": "code",
   "execution_count": null,
   "id": "be992ad0",
   "metadata": {},
   "outputs": [],
   "source": []
  },
  {
   "cell_type": "code",
   "execution_count": null,
   "id": "161b9ac8",
   "metadata": {},
   "outputs": [],
   "source": []
  },
  {
   "cell_type": "code",
   "execution_count": null,
   "id": "f52a197d",
   "metadata": {},
   "outputs": [],
   "source": []
  },
  {
   "cell_type": "code",
   "execution_count": null,
   "id": "cc296d37",
   "metadata": {},
   "outputs": [],
   "source": []
  },
  {
   "cell_type": "code",
   "execution_count": null,
   "id": "2803e6c8",
   "metadata": {},
   "outputs": [],
   "source": []
  },
  {
   "cell_type": "code",
   "execution_count": null,
   "id": "1cc3c322",
   "metadata": {},
   "outputs": [],
   "source": []
  },
  {
   "cell_type": "code",
   "execution_count": null,
   "id": "9b50f8f7",
   "metadata": {},
   "outputs": [],
   "source": []
  },
  {
   "cell_type": "code",
   "execution_count": null,
   "id": "47069811",
   "metadata": {},
   "outputs": [],
   "source": []
  },
  {
   "cell_type": "code",
   "execution_count": null,
   "id": "d4d058f5",
   "metadata": {},
   "outputs": [],
   "source": []
  },
  {
   "cell_type": "code",
   "execution_count": null,
   "id": "fccb1141",
   "metadata": {},
   "outputs": [],
   "source": []
  },
  {
   "cell_type": "code",
   "execution_count": null,
   "id": "543f26de",
   "metadata": {},
   "outputs": [],
   "source": []
  },
  {
   "cell_type": "code",
   "execution_count": null,
   "id": "c860b99a",
   "metadata": {},
   "outputs": [],
   "source": []
  },
  {
   "cell_type": "code",
   "execution_count": null,
   "id": "0188b77d",
   "metadata": {},
   "outputs": [],
   "source": []
  },
  {
   "cell_type": "code",
   "execution_count": null,
   "id": "a168701a",
   "metadata": {},
   "outputs": [],
   "source": []
  },
  {
   "cell_type": "code",
   "execution_count": null,
   "id": "71fec63f",
   "metadata": {},
   "outputs": [],
   "source": []
  },
  {
   "cell_type": "code",
   "execution_count": null,
   "id": "70e98466",
   "metadata": {},
   "outputs": [],
   "source": []
  },
  {
   "cell_type": "code",
   "execution_count": null,
   "id": "060f3fab",
   "metadata": {},
   "outputs": [],
   "source": []
  },
  {
   "cell_type": "code",
   "execution_count": null,
   "id": "2d698c32",
   "metadata": {},
   "outputs": [],
   "source": []
  },
  {
   "cell_type": "code",
   "execution_count": null,
   "id": "a72e1627",
   "metadata": {},
   "outputs": [],
   "source": []
  },
  {
   "cell_type": "code",
   "execution_count": null,
   "id": "972432a8",
   "metadata": {},
   "outputs": [],
   "source": []
  },
  {
   "cell_type": "code",
   "execution_count": null,
   "id": "89a5f9f3",
   "metadata": {},
   "outputs": [],
   "source": []
  },
  {
   "cell_type": "code",
   "execution_count": null,
   "id": "8ec710f3",
   "metadata": {},
   "outputs": [],
   "source": []
  },
  {
   "cell_type": "code",
   "execution_count": null,
   "id": "403b9578",
   "metadata": {},
   "outputs": [],
   "source": []
  },
  {
   "cell_type": "code",
   "execution_count": null,
   "id": "1c612c22",
   "metadata": {},
   "outputs": [],
   "source": []
  },
  {
   "cell_type": "code",
   "execution_count": null,
   "id": "f6717d84",
   "metadata": {},
   "outputs": [],
   "source": []
  },
  {
   "cell_type": "code",
   "execution_count": null,
   "id": "e8cd14c6",
   "metadata": {},
   "outputs": [],
   "source": []
  },
  {
   "cell_type": "code",
   "execution_count": null,
   "id": "19c0002d",
   "metadata": {},
   "outputs": [],
   "source": []
  },
  {
   "cell_type": "code",
   "execution_count": null,
   "id": "acd40837",
   "metadata": {},
   "outputs": [],
   "source": []
  },
  {
   "cell_type": "code",
   "execution_count": null,
   "id": "e274e881",
   "metadata": {},
   "outputs": [],
   "source": []
  },
  {
   "cell_type": "code",
   "execution_count": null,
   "id": "b1138a1a",
   "metadata": {},
   "outputs": [],
   "source": []
  },
  {
   "cell_type": "code",
   "execution_count": null,
   "id": "5615153e",
   "metadata": {},
   "outputs": [],
   "source": []
  },
  {
   "cell_type": "code",
   "execution_count": null,
   "id": "4e56296e",
   "metadata": {},
   "outputs": [],
   "source": []
  },
  {
   "cell_type": "code",
   "execution_count": null,
   "id": "384517aa",
   "metadata": {},
   "outputs": [],
   "source": []
  },
  {
   "cell_type": "code",
   "execution_count": null,
   "id": "ae4702b0",
   "metadata": {},
   "outputs": [],
   "source": []
  },
  {
   "cell_type": "code",
   "execution_count": null,
   "id": "7f5b3243",
   "metadata": {},
   "outputs": [],
   "source": []
  },
  {
   "cell_type": "code",
   "execution_count": null,
   "id": "00dfc040",
   "metadata": {},
   "outputs": [],
   "source": []
  },
  {
   "cell_type": "code",
   "execution_count": null,
   "id": "ff6d2ba6",
   "metadata": {},
   "outputs": [],
   "source": []
  },
  {
   "cell_type": "code",
   "execution_count": null,
   "id": "b2c0995b",
   "metadata": {},
   "outputs": [],
   "source": []
  },
  {
   "cell_type": "code",
   "execution_count": null,
   "id": "690c3f5c",
   "metadata": {},
   "outputs": [],
   "source": []
  },
  {
   "cell_type": "code",
   "execution_count": null,
   "id": "d7da2644",
   "metadata": {},
   "outputs": [],
   "source": []
  },
  {
   "cell_type": "code",
   "execution_count": null,
   "id": "950c2609",
   "metadata": {},
   "outputs": [],
   "source": []
  },
  {
   "cell_type": "code",
   "execution_count": null,
   "id": "6956437d",
   "metadata": {},
   "outputs": [],
   "source": []
  },
  {
   "cell_type": "code",
   "execution_count": null,
   "id": "09137c55",
   "metadata": {},
   "outputs": [],
   "source": []
  },
  {
   "cell_type": "code",
   "execution_count": null,
   "id": "0f13da92",
   "metadata": {},
   "outputs": [],
   "source": []
  },
  {
   "cell_type": "code",
   "execution_count": null,
   "id": "c70be8ca",
   "metadata": {},
   "outputs": [],
   "source": []
  },
  {
   "cell_type": "code",
   "execution_count": null,
   "id": "a976934a",
   "metadata": {},
   "outputs": [],
   "source": []
  },
  {
   "cell_type": "code",
   "execution_count": null,
   "id": "61440bc0",
   "metadata": {},
   "outputs": [],
   "source": []
  },
  {
   "cell_type": "code",
   "execution_count": null,
   "id": "c2427a49",
   "metadata": {},
   "outputs": [],
   "source": []
  },
  {
   "cell_type": "code",
   "execution_count": null,
   "id": "dc30c408",
   "metadata": {},
   "outputs": [],
   "source": []
  },
  {
   "cell_type": "code",
   "execution_count": null,
   "id": "97076691",
   "metadata": {},
   "outputs": [],
   "source": []
  },
  {
   "cell_type": "code",
   "execution_count": null,
   "id": "7cf34e1f",
   "metadata": {},
   "outputs": [],
   "source": []
  },
  {
   "cell_type": "code",
   "execution_count": null,
   "id": "aadb1e9c",
   "metadata": {},
   "outputs": [],
   "source": []
  },
  {
   "cell_type": "code",
   "execution_count": null,
   "id": "357562b6",
   "metadata": {},
   "outputs": [],
   "source": []
  },
  {
   "cell_type": "code",
   "execution_count": null,
   "id": "0a680f5f",
   "metadata": {},
   "outputs": [],
   "source": []
  },
  {
   "cell_type": "code",
   "execution_count": null,
   "id": "dd1501cc",
   "metadata": {},
   "outputs": [],
   "source": []
  },
  {
   "cell_type": "code",
   "execution_count": null,
   "id": "a5ff9a55",
   "metadata": {},
   "outputs": [],
   "source": []
  },
  {
   "cell_type": "code",
   "execution_count": null,
   "id": "f36b8ae9",
   "metadata": {},
   "outputs": [],
   "source": []
  },
  {
   "cell_type": "code",
   "execution_count": null,
   "id": "2e0373f6",
   "metadata": {},
   "outputs": [],
   "source": []
  },
  {
   "cell_type": "code",
   "execution_count": null,
   "id": "67174e55",
   "metadata": {},
   "outputs": [],
   "source": []
  },
  {
   "cell_type": "code",
   "execution_count": null,
   "id": "d1bbc7d5",
   "metadata": {},
   "outputs": [],
   "source": []
  },
  {
   "cell_type": "code",
   "execution_count": null,
   "id": "402047ed",
   "metadata": {},
   "outputs": [],
   "source": []
  },
  {
   "cell_type": "code",
   "execution_count": null,
   "id": "ae144465",
   "metadata": {},
   "outputs": [],
   "source": []
  },
  {
   "cell_type": "code",
   "execution_count": null,
   "id": "cd791eed",
   "metadata": {},
   "outputs": [],
   "source": []
  },
  {
   "cell_type": "code",
   "execution_count": null,
   "id": "e5c857d8",
   "metadata": {},
   "outputs": [],
   "source": []
  },
  {
   "cell_type": "code",
   "execution_count": null,
   "id": "13b0991e",
   "metadata": {},
   "outputs": [],
   "source": []
  },
  {
   "cell_type": "code",
   "execution_count": null,
   "id": "e9b57087",
   "metadata": {},
   "outputs": [],
   "source": []
  },
  {
   "cell_type": "code",
   "execution_count": null,
   "id": "1916cfcf",
   "metadata": {},
   "outputs": [],
   "source": []
  },
  {
   "cell_type": "code",
   "execution_count": null,
   "id": "99afa6c9",
   "metadata": {},
   "outputs": [],
   "source": []
  },
  {
   "cell_type": "code",
   "execution_count": null,
   "id": "5117a186",
   "metadata": {},
   "outputs": [],
   "source": []
  }
 ],
 "metadata": {
  "kernelspec": {
   "display_name": "Python 3",
   "language": "python",
   "name": "python3"
  },
  "language_info": {
   "codemirror_mode": {
    "name": "ipython",
    "version": 3
   },
   "file_extension": ".py",
   "mimetype": "text/x-python",
   "name": "python",
   "nbconvert_exporter": "python",
   "pygments_lexer": "ipython3",
   "version": "3.9.4"
  }
 },
 "nbformat": 4,
 "nbformat_minor": 5
}
