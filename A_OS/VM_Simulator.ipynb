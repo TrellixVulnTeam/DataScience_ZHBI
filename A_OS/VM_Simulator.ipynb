{
 "cells": [
  {
   "cell_type": "code",
   "execution_count": 1,
   "metadata": {},
   "outputs": [],
   "source": [
    "class Process:\n",
    "    page_size=5\n",
    "    proc_count=0\n",
    "    \n",
    "    def __init__(self,name,num_pages):\n",
    "        self.name=name\n",
    "        self.num_pages=num_pages\n",
    "        Process.proc_count+=1\n",
    "        \n",
    "    def set_page_size(self,ps):\n",
    "        page_size=ps\n",
    "    \n",
    "    def displayProcess(self):\n",
    "        print( 'Name: ',self.name,', Num Pages:',self.num_pages,', Page size: ',Process.page_size)\n",
    "    \n",
    "    \n",
    "    \n",
    "    "
   ]
  },
  {
   "cell_type": "code",
   "execution_count": 6,
   "metadata": {},
   "outputs": [
    {
     "name": "stdout",
     "output_type": "stream",
     "text": [
      "Name:  P4 , Num Pages: 2 , Page size:  5\n"
     ]
    }
   ],
   "source": [
    "existing_processes=list()\n",
    "count=0\n",
    "cur_letter='A'\n",
    "\n",
    "\n",
    "import random\n",
    "\n",
    "def create_proc():\n",
    "    newp=Process('P'+str(Process.proc_count),random.randint(1,5))\n",
    "    \n",
    "    newp.displayProcess()\n",
    "    \n",
    "create_proc()\n",
    "\n",
    "\n",
    "\n"
   ]
  }
 ],
 "metadata": {
  "kernelspec": {
   "display_name": "Python 3",
   "language": "python",
   "name": "python3"
  },
  "language_info": {
   "codemirror_mode": {
    "name": "ipython",
    "version": 3
   },
   "file_extension": ".py",
   "mimetype": "text/x-python",
   "name": "python",
   "nbconvert_exporter": "python",
   "pygments_lexer": "ipython3",
   "version": "3.7.7"
  }
 },
 "nbformat": 4,
 "nbformat_minor": 4
}
