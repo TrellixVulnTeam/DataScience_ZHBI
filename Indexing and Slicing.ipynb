{
 "cells": [
  {
   "cell_type": "code",
   "execution_count": 27,
   "metadata": {},
   "outputs": [
    {
     "name": "stdout",
     "output_type": "stream",
     "text": [
      "['m', 'o', 'n', 't', 'y', 'p', 'y', 't', 'h', 'o', 'n']\n",
      "Length : 11\n",
      "['m', 'o', 'n', 't', 'y', 'p', 'y', 't', 'h', 'o', 'n']\n",
      "['m', 'o', 'n', 't', 'y', 'p', 'y', 't', 'h', 'o', 'n']\n",
      "['m', 'o', 'n', 't', 'y']\n",
      "['h', 'o', 'n']\n",
      "['m', 'n', 'y', 'y', 'h', 'n']\n",
      "['m', 'n', 'y']\n",
      "['n', 'o', 'h', 't', 'y', 'p', 'y', 't', 'n', 'o', 'm']\n",
      "['y', 't', 'h', 'o', 'n']\n"
     ]
    }
   ],
   "source": [
    "a=[\"m\",\"o\",\"n\",\"t\",\"y\",\"p\",\"y\",\"t\",\"h\",\"o\",\"n\"]\n",
    "print(a)\n",
    "\n",
    "l=len(a)\n",
    "\n",
    "print(\"Length :\",l)\n",
    "print(a[0:11])\n",
    "print(a[::])\n",
    "print(a[:5])\n",
    "print(a[8:])\n",
    "print(a[0::2])\n",
    "print(a[:6:2])\n",
    "print(a[::-1])\n",
    "print(a[-5:])"
   ]
  },
  {
   "cell_type": "code",
   "execution_count": 2,
   "metadata": {},
   "outputs": [
    {
     "name": "stdout",
     "output_type": "stream",
     "text": [
      "[[1 2 3]]\n",
      "[1 2 3]\n",
      "[[4 5 6]]\n",
      "[4 5 6]\n"
     ]
    }
   ],
   "source": [
    "import numpy as np\n",
    "a=np.array([[1,2,3],[4,5,6]])\n",
    "print(a[:1])\n",
    "print(a[0])\n",
    "print(a[1:])\n",
    "print(a[1])"
   ]
  },
  {
   "cell_type": "code",
   "execution_count": 127,
   "metadata": {},
   "outputs": [
    {
     "name": "stdout",
     "output_type": "stream",
     "text": [
      "[[1 2 3]\n",
      " [4 5 6]]\n",
      "21\n",
      "[[1 2 3]\n",
      " [4 5 6]]\n",
      "[[2 3]]\n",
      "[[2 3]\n",
      " [5 6]]\n",
      "[[1 2]\n",
      " [4 5]]\n"
     ]
    }
   ],
   "source": [
    "a=np.array([[1,2,3],[4,5,6]])\n",
    "print(a)\n",
    "print(np.sum(a))\n",
    "print(a)\n",
    "print(a[:1,1:]) \n",
    "\n",
    "print(a[:,1:])\n",
    "print(a[:,:2])"
   ]
  },
  {
   "cell_type": "code",
   "execution_count": 130,
   "metadata": {},
   "outputs": [
    {
     "name": "stdout",
     "output_type": "stream",
     "text": [
      "[18  7  9 11  5  6 15 10  8 17  8  7 11 15 14]\n",
      "[array([1, 2, 3, 4, 5, 6, 7, 8, 9])\n",
      " array([70, 71, 72, 73, 74, 75, 76, 77, 78, 79])]\n",
      "[1 2 3 4 5 6 7 8 9]\n",
      "90\n",
      "[[20 22 24 26 28 30 32 34 36 38]] [[ 0  2  4  6  8 10 12 14 16 18]]\n",
      "290\n"
     ]
    }
   ],
   "source": [
    "a=np.array([np.arange(1,10,1),np.arange(70,80,1)])\n",
    "print(np.random.randint(1,20,15))\n",
    "\n",
    "print(a)\n",
    "print(np.sum(a[:1]))\n",
    "\n",
    "c=np.array([np.arange(0,20,2)])\n",
    "b=np.array([np.arange(20,40,2)])\n",
    "print(np.sum(c))\n",
    "print(b,c)\n",
    "print(np.sum(b))"
   ]
  },
  {
   "cell_type": "code",
   "execution_count": 126,
   "metadata": {},
   "outputs": [
    {
     "name": "stdout",
     "output_type": "stream",
     "text": [
      "[[ 1  2  3  4]\n",
      " [ 5  6  7  8]\n",
      " [ 9 10 11 12]\n",
      " [13 14 15 16]] [[ 4  3  2  1]\n",
      " [ 8  7  6  5]\n",
      " [12 11 10  9]\n",
      " [16 15 14 13]]\n",
      "272\n",
      "[[11 12]\n",
      " [15 16]]\n"
     ]
    }
   ],
   "source": [
    "a=np.array([[1,2,3,4],[5,6,7,8],[9,10,11,12],[13,14,15,16]])\n",
    "b=np.array([[4,3,2,1],[8,7,6,5],[12,11,10,9],[16,15,14,13]])\n",
    "print(a,b)\n",
    "print(np.sum([a,b]))\n",
    "\n",
    "print(a[2:,2:])"
   ]
  }
 ],
 "metadata": {
  "kernelspec": {
   "display_name": "Python 3",
   "language": "python",
   "name": "python3"
  },
  "language_info": {
   "codemirror_mode": {
    "name": "ipython",
    "version": 3
   },
   "file_extension": ".py",
   "mimetype": "text/x-python",
   "name": "python",
   "nbconvert_exporter": "python",
   "pygments_lexer": "ipython3",
   "version": "3.7.4"
  }
 },
 "nbformat": 4,
 "nbformat_minor": 2
}
