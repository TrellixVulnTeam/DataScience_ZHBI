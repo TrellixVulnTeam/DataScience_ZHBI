{
 "cells": [
  {
   "cell_type": "code",
   "execution_count": null,
   "id": "5fb97206",
   "metadata": {},
   "outputs": [],
   "source": []
  },
  {
   "cell_type": "code",
   "execution_count": 5,
   "id": "9a2ad48e",
   "metadata": {},
   "outputs": [],
   "source": [
    "import numpy as np"
   ]
  },
  {
   "cell_type": "code",
   "execution_count": 6,
   "id": "6fe0be10",
   "metadata": {},
   "outputs": [],
   "source": [
    "phys_mem = np.array([\n",
    "    [1,2],\n",
    "    [1,3],\n",
    "    [2,0],\n",
    "    [1,5],\n",
    "    [3,4],\n",
    "    [4,6],\n",
    "    [2,6],\n",
    "    [2,2]\n",
    "])"
   ]
  },
  {
   "cell_type": "code",
   "execution_count": 7,
   "id": "c8cb172f",
   "metadata": {},
   "outputs": [
    {
     "data": {
      "text/plain": [
       "array([[1, 2],\n",
       "       [1, 3],\n",
       "       [2, 0],\n",
       "       [1, 5],\n",
       "       [3, 4],\n",
       "       [4, 6],\n",
       "       [2, 6],\n",
       "       [2, 2]])"
      ]
     },
     "execution_count": 7,
     "metadata": {},
     "output_type": "execute_result"
    }
   ],
   "source": [
    "phys_mem"
   ]
  },
  {
   "cell_type": "code",
   "execution_count": null,
   "id": "77501076",
   "metadata": {},
   "outputs": [],
   "source": []
  },
  {
   "cell_type": "code",
   "execution_count": 1,
   "id": "e06159cd",
   "metadata": {},
   "outputs": [],
   "source": [
    "freq = {0: {4: 4404, 8: 0, 2: 5263, 1: 2583, 0: 3477, 6: 2555, 3: 1517, 5: 9, 7: 0},\n",
    " 1: {6: 5, 0: 7927, 2: 5, 7: 6561, 1: 9, 3: 3, 4: 2, 5: 10},\n",
    " 2: {5: 0, 1: 7079, 2: 3263, 0: 7886, 3: 0, 4: 3},\n",
    " 3: {4: 0, 0: 5178, 1: 1777, 2: 5, 3: 4},\n",
    " 4: {9: 791,\n",
    "  7: 3607,\n",
    "  5: 8678,\n",
    "  8: 6383,\n",
    "  12: 2698,\n",
    "  2: 19,\n",
    "  11: 2706,\n",
    "  0: 4022,\n",
    "  6: 5,\n",
    "  1: 22,\n",
    "  3: 14,\n",
    "  4: 17,\n",
    "  10: 4}}"
   ]
  },
  {
   "cell_type": "code",
   "execution_count": 9,
   "id": "7c5d428b",
   "metadata": {},
   "outputs": [
    {
     "data": {
      "text/plain": [
       "{0: {4: 4404, 8: 0, 2: 5263, 1: 2583, 0: 3477, 6: 2555, 3: 1517, 5: 9, 7: 0},\n",
       " 1: {6: 0, 0: 0, 2: 0, 7: 0, 1: 0, 3: 0, 4: 0, 5: 0},\n",
       " 2: {5: 0, 1: 7079, 2: 3263, 0: 7886, 3: 0, 4: 3},\n",
       " 3: {4: 0, 0: 5178, 1: 1777, 2: 5, 3: 4},\n",
       " 4: {9: 791,\n",
       "  7: 3607,\n",
       "  5: 8678,\n",
       "  8: 6383,\n",
       "  12: 2698,\n",
       "  2: 19,\n",
       "  11: 2706,\n",
       "  0: 4022,\n",
       "  6: 5,\n",
       "  1: 22,\n",
       "  3: 14,\n",
       "  4: 17,\n",
       "  10: 4}}"
      ]
     },
     "execution_count": 9,
     "metadata": {},
     "output_type": "execute_result"
    }
   ],
   "source": [
    "freq"
   ]
  },
  {
   "cell_type": "code",
   "execution_count": null,
   "id": "b1e7cc08",
   "metadata": {},
   "outputs": [],
   "source": [
    "def replace(pid,pg_num):\n",
    "    \n",
    "    \n",
    "    \n",
    "    pass"
   ]
  },
  {
   "cell_type": "code",
   "execution_count": null,
   "id": "a0b3a41c",
   "metadata": {},
   "outputs": [],
   "source": []
  },
  {
   "cell_type": "code",
   "execution_count": null,
   "id": "424c2188",
   "metadata": {},
   "outputs": [],
   "source": []
  },
  {
   "cell_type": "code",
   "execution_count": null,
   "id": "fa929824",
   "metadata": {},
   "outputs": [],
   "source": []
  }
 ],
 "metadata": {
  "kernelspec": {
   "display_name": "Python 3",
   "language": "python",
   "name": "python3"
  },
  "language_info": {
   "codemirror_mode": {
    "name": "ipython",
    "version": 3
   },
   "file_extension": ".py",
   "mimetype": "text/x-python",
   "name": "python",
   "nbconvert_exporter": "python",
   "pygments_lexer": "ipython3",
   "version": "3.9.5"
  }
 },
 "nbformat": 4,
 "nbformat_minor": 5
}
