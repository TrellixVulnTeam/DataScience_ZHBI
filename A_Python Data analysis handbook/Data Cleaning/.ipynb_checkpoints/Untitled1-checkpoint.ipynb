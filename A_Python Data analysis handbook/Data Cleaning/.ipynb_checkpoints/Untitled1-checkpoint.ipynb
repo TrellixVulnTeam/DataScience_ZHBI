{
 "cells": [
  {
   "cell_type": "code",
   "execution_count": 1,
   "metadata": {},
   "outputs": [],
   "source": [
    "import numpy as np\n",
    "import pandas as pd\n",
    "from numpy import nan as NA"
   ]
  },
  {
   "cell_type": "code",
   "execution_count": 2,
   "metadata": {},
   "outputs": [],
   "source": [
    "a={\"A\":\"Apple\",\n",
    "                \"B\":\"Ball\",\n",
    "                \"C\":\"Cat\",\n",
    "                \"D\":\"Dog\",\n",
    "                \"E\":\"Elephant\",\n",
    "                \"F\":\"Fan\",\n",
    "                \"G\":\"Glass\"}\n",
    "\n",
    "df=pd.DataFrame({'Letters':[chr(i) for i in range(65,72)],\n",
    "                 'Words':['Ant','Butter','Chocolate','Donkey',NA,NA,NA]})"
   ]
  },
  {
   "cell_type": "code",
   "execution_count": 3,
   "metadata": {},
   "outputs": [
    {
     "data": {
      "text/plain": [
       "{'A': 'Apple',\n",
       " 'B': 'Ball',\n",
       " 'C': 'Cat',\n",
       " 'D': 'Dog',\n",
       " 'E': 'Elephant',\n",
       " 'F': 'Fan',\n",
       " 'G': 'Glass'}"
      ]
     },
     "execution_count": 3,
     "metadata": {},
     "output_type": "execute_result"
    }
   ],
   "source": [
    "a"
   ]
  },
  {
   "cell_type": "code",
   "execution_count": 4,
   "metadata": {},
   "outputs": [
    {
     "data": {
      "text/html": [
       "<div>\n",
       "<style scoped>\n",
       "    .dataframe tbody tr th:only-of-type {\n",
       "        vertical-align: middle;\n",
       "    }\n",
       "\n",
       "    .dataframe tbody tr th {\n",
       "        vertical-align: top;\n",
       "    }\n",
       "\n",
       "    .dataframe thead th {\n",
       "        text-align: right;\n",
       "    }\n",
       "</style>\n",
       "<table border=\"1\" class=\"dataframe\">\n",
       "  <thead>\n",
       "    <tr style=\"text-align: right;\">\n",
       "      <th></th>\n",
       "      <th>Letters</th>\n",
       "      <th>Words</th>\n",
       "    </tr>\n",
       "  </thead>\n",
       "  <tbody>\n",
       "    <tr>\n",
       "      <th>0</th>\n",
       "      <td>A</td>\n",
       "      <td>Ant</td>\n",
       "    </tr>\n",
       "    <tr>\n",
       "      <th>1</th>\n",
       "      <td>B</td>\n",
       "      <td>Butter</td>\n",
       "    </tr>\n",
       "    <tr>\n",
       "      <th>2</th>\n",
       "      <td>C</td>\n",
       "      <td>Chocolate</td>\n",
       "    </tr>\n",
       "    <tr>\n",
       "      <th>3</th>\n",
       "      <td>D</td>\n",
       "      <td>Donkey</td>\n",
       "    </tr>\n",
       "    <tr>\n",
       "      <th>4</th>\n",
       "      <td>E</td>\n",
       "      <td>NaN</td>\n",
       "    </tr>\n",
       "    <tr>\n",
       "      <th>5</th>\n",
       "      <td>F</td>\n",
       "      <td>NaN</td>\n",
       "    </tr>\n",
       "    <tr>\n",
       "      <th>6</th>\n",
       "      <td>G</td>\n",
       "      <td>NaN</td>\n",
       "    </tr>\n",
       "  </tbody>\n",
       "</table>\n",
       "</div>"
      ],
      "text/plain": [
       "  Letters      Words\n",
       "0       A        Ant\n",
       "1       B     Butter\n",
       "2       C  Chocolate\n",
       "3       D     Donkey\n",
       "4       E        NaN\n",
       "5       F        NaN\n",
       "6       G        NaN"
      ]
     },
     "execution_count": 4,
     "metadata": {},
     "output_type": "execute_result"
    }
   ],
   "source": [
    "mapping=df[\"Letters\"]\n",
    "df"
   ]
  },
  {
   "cell_type": "code",
   "execution_count": 5,
   "metadata": {},
   "outputs": [],
   "source": [
    "df['Mapped']=mapping.map(a)"
   ]
  },
  {
   "cell_type": "code",
   "execution_count": 6,
   "metadata": {},
   "outputs": [
    {
     "data": {
      "text/html": [
       "<div>\n",
       "<style scoped>\n",
       "    .dataframe tbody tr th:only-of-type {\n",
       "        vertical-align: middle;\n",
       "    }\n",
       "\n",
       "    .dataframe tbody tr th {\n",
       "        vertical-align: top;\n",
       "    }\n",
       "\n",
       "    .dataframe thead th {\n",
       "        text-align: right;\n",
       "    }\n",
       "</style>\n",
       "<table border=\"1\" class=\"dataframe\">\n",
       "  <thead>\n",
       "    <tr style=\"text-align: right;\">\n",
       "      <th></th>\n",
       "      <th>Letters</th>\n",
       "      <th>Words</th>\n",
       "      <th>Mapped</th>\n",
       "    </tr>\n",
       "  </thead>\n",
       "  <tbody>\n",
       "    <tr>\n",
       "      <th>0</th>\n",
       "      <td>A</td>\n",
       "      <td>Ant</td>\n",
       "      <td>Apple</td>\n",
       "    </tr>\n",
       "    <tr>\n",
       "      <th>1</th>\n",
       "      <td>B</td>\n",
       "      <td>Butter</td>\n",
       "      <td>Ball</td>\n",
       "    </tr>\n",
       "    <tr>\n",
       "      <th>2</th>\n",
       "      <td>C</td>\n",
       "      <td>Chocolate</td>\n",
       "      <td>Cat</td>\n",
       "    </tr>\n",
       "    <tr>\n",
       "      <th>3</th>\n",
       "      <td>D</td>\n",
       "      <td>Donkey</td>\n",
       "      <td>Dog</td>\n",
       "    </tr>\n",
       "    <tr>\n",
       "      <th>4</th>\n",
       "      <td>E</td>\n",
       "      <td>NaN</td>\n",
       "      <td>Elephant</td>\n",
       "    </tr>\n",
       "    <tr>\n",
       "      <th>5</th>\n",
       "      <td>F</td>\n",
       "      <td>NaN</td>\n",
       "      <td>Fan</td>\n",
       "    </tr>\n",
       "    <tr>\n",
       "      <th>6</th>\n",
       "      <td>G</td>\n",
       "      <td>NaN</td>\n",
       "      <td>Glass</td>\n",
       "    </tr>\n",
       "  </tbody>\n",
       "</table>\n",
       "</div>"
      ],
      "text/plain": [
       "  Letters      Words    Mapped\n",
       "0       A        Ant     Apple\n",
       "1       B     Butter      Ball\n",
       "2       C  Chocolate       Cat\n",
       "3       D     Donkey       Dog\n",
       "4       E        NaN  Elephant\n",
       "5       F        NaN       Fan\n",
       "6       G        NaN     Glass"
      ]
     },
     "execution_count": 6,
     "metadata": {},
     "output_type": "execute_result"
    }
   ],
   "source": [
    "df"
   ]
  },
  {
   "cell_type": "code",
   "execution_count": 7,
   "metadata": {},
   "outputs": [],
   "source": [
    "ages=np.random.randint(15,60,20).astype(int)\n",
    "bins=np.array([15,25,35,50,60]).astype(int)\n",
    "level=[\"Teen\",\"Adult\",\"Middle Aged\",\"Senior Citizen\"]"
   ]
  },
  {
   "cell_type": "code",
   "execution_count": 8,
   "metadata": {},
   "outputs": [
    {
     "name": "stdout",
     "output_type": "stream",
     "text": [
      "[37 44 57 53 27 36 43 16 37 55 43 41 52 16 49 32 33 32 15 29]\n"
     ]
    },
    {
     "data": {
      "text/plain": [
       "[Middle Aged, Middle Aged, Senior Citizen, Senior Citizen, Adult, ..., Adult, Adult, Adult, NaN, Adult]\n",
       "Length: 20\n",
       "Categories (4, object): [Teen < Adult < Middle Aged < Senior Citizen]"
      ]
     },
     "execution_count": 8,
     "metadata": {},
     "output_type": "execute_result"
    }
   ],
   "source": [
    "print(ages)\n",
    "pd.cut(ages,bins,labels=level)"
   ]
  },
  {
   "cell_type": "code",
   "execution_count": 9,
   "metadata": {},
   "outputs": [
    {
     "data": {
      "text/plain": [
       "array([0.27345837, 0.0332345 , 0.26669152, 0.42850943, 0.28098149,\n",
       "       0.02518545, 0.92935772, 0.2667116 , 0.14828413, 0.30890203])"
      ]
     },
     "execution_count": 9,
     "metadata": {},
     "output_type": "execute_result"
    }
   ],
   "source": [
    "data=np.random.rand(10)\n",
    "data"
   ]
  },
  {
   "cell_type": "code",
   "execution_count": 10,
   "metadata": {},
   "outputs": [
    {
     "name": "stdout",
     "output_type": "stream",
     "text": [
      "0.929357722007596 0.025185453658311374\n"
     ]
    },
    {
     "data": {
      "text/plain": [
       "[(0.251, 0.477], (0.0243, 0.251], (0.251, 0.477], (0.251, 0.477], (0.251, 0.477], (0.0243, 0.251], (0.703, 0.929], (0.251, 0.477], (0.0243, 0.251], (0.251, 0.477]]\n",
       "Categories (4, interval[float64]): [(0.0243, 0.251] < (0.251, 0.477] < (0.477, 0.703] < (0.703, 0.929]]"
      ]
     },
     "execution_count": 10,
     "metadata": {},
     "output_type": "execute_result"
    }
   ],
   "source": [
    "print(max(data),min(data))\n",
    "pd.cut(data,4)"
   ]
  },
  {
   "cell_type": "code",
   "execution_count": 11,
   "metadata": {},
   "outputs": [
    {
     "name": "stdout",
     "output_type": "stream",
     "text": [
      "[(0.3, 0.5], (0.02, 0.3], (0.3, 0.5], (0.3, 0.5], (0.3, 0.5], (0.02, 0.3], (0.7, 0.9], (0.3, 0.5], (0.02, 0.3], (0.3, 0.5]]\n",
      "Categories (4, interval[float64]): [(0.02, 0.3] < (0.3, 0.5] < (0.5, 0.7] < (0.7, 0.9]]\n",
      "[(0.25, 0.48], (0.024, 0.25], (0.25, 0.48], (0.25, 0.48], (0.25, 0.48], (0.024, 0.25], (0.7, 0.93], (0.25, 0.48], (0.024, 0.25], (0.25, 0.48]]\n",
      "Categories (4, interval[float64]): [(0.024, 0.25] < (0.25, 0.48] < (0.48, 0.7] < (0.7, 0.93]]\n",
      "[(0.251, 0.477], (0.0243, 0.251], (0.251, 0.477], (0.251, 0.477], (0.251, 0.477], (0.0243, 0.251], (0.703, 0.929], (0.251, 0.477], (0.0243, 0.251], (0.251, 0.477]]\n",
      "Categories (4, interval[float64]): [(0.0243, 0.251] < (0.251, 0.477] < (0.477, 0.703] < (0.703, 0.929]]\n",
      "[(0.2512, 0.4773], (0.02428, 0.2512], (0.2512, 0.4773], (0.2512, 0.4773], (0.2512, 0.4773], (0.02428, 0.2512], (0.7033, 0.9294], (0.2512, 0.4773], (0.02428, 0.2512], (0.2512, 0.4773]]\n",
      "Categories (4, interval[float64]): [(0.02428, 0.2512] < (0.2512, 0.4773] < (0.4773, 0.7033] < (0.7033, 0.9294]]\n"
     ]
    }
   ],
   "source": [
    "print(pd.cut(data,4,precision=1))\n",
    "print(pd.cut(data,4,precision=2))\n",
    "print(pd.cut(data,4,precision=3))\n",
    "print(pd.cut(data,4,precision=4))\n",
    "# this precision is used to display number of decimal values"
   ]
  },
  {
   "cell_type": "code",
   "execution_count": 12,
   "metadata": {},
   "outputs": [],
   "source": [
    "import matplotlib.pyplot as pl\n",
    "data=np.random.randn(1000)\n",
    "cats=pd.qcut(data,4)"
   ]
  },
  {
   "cell_type": "code",
   "execution_count": 13,
   "metadata": {},
   "outputs": [
    {
     "data": {
      "text/plain": [
       "[(-0.0301, 0.687], (-0.668, -0.0301], (0.687, 2.988], (0.687, 2.988], (-3.154, -0.668], ..., (-0.668, -0.0301], (-0.0301, 0.687], (-0.0301, 0.687], (0.687, 2.988], (-0.0301, 0.687]]\n",
       "Length: 1000\n",
       "Categories (4, interval[float64]): [(-3.154, -0.668] < (-0.668, -0.0301] < (-0.0301, 0.687] < (0.687, 2.988]]"
      ]
     },
     "execution_count": 13,
     "metadata": {},
     "output_type": "execute_result"
    }
   ],
   "source": [
    "cats"
   ]
  },
  {
   "cell_type": "code",
   "execution_count": 16,
   "metadata": {},
   "outputs": [
    {
     "data": {
      "text/plain": [
       "(0, 1)"
      ]
     },
     "execution_count": 16,
     "metadata": {},
     "output_type": "execute_result"
    }
   ],
   "source": [
    "a=np.random.randn(1000)\n",
    "np.mean(a).astype(int),np.var(a).astype(int)"
   ]
  },
  {
   "cell_type": "code",
   "execution_count": 43,
   "metadata": {},
   "outputs": [
    {
     "data": {
      "text/html": [
       "<div>\n",
       "<style scoped>\n",
       "    .dataframe tbody tr th:only-of-type {\n",
       "        vertical-align: middle;\n",
       "    }\n",
       "\n",
       "    .dataframe tbody tr th {\n",
       "        vertical-align: top;\n",
       "    }\n",
       "\n",
       "    .dataframe thead th {\n",
       "        text-align: right;\n",
       "    }\n",
       "</style>\n",
       "<table border=\"1\" class=\"dataframe\">\n",
       "  <thead>\n",
       "    <tr style=\"text-align: right;\">\n",
       "      <th></th>\n",
       "      <th>0</th>\n",
       "      <th>1</th>\n",
       "      <th>2</th>\n",
       "      <th>3</th>\n",
       "    </tr>\n",
       "  </thead>\n",
       "  <tbody>\n",
       "    <tr>\n",
       "      <th>count</th>\n",
       "      <td>1000.000000</td>\n",
       "      <td>1000.000000</td>\n",
       "      <td>1000.000000</td>\n",
       "      <td>1000.000000</td>\n",
       "    </tr>\n",
       "    <tr>\n",
       "      <th>mean</th>\n",
       "      <td>0.037411</td>\n",
       "      <td>-0.016913</td>\n",
       "      <td>0.002710</td>\n",
       "      <td>-0.006417</td>\n",
       "    </tr>\n",
       "    <tr>\n",
       "      <th>std</th>\n",
       "      <td>1.008137</td>\n",
       "      <td>0.961000</td>\n",
       "      <td>0.991797</td>\n",
       "      <td>0.975478</td>\n",
       "    </tr>\n",
       "    <tr>\n",
       "      <th>min</th>\n",
       "      <td>-3.289733</td>\n",
       "      <td>-3.456349</td>\n",
       "      <td>-3.070027</td>\n",
       "      <td>-3.830081</td>\n",
       "    </tr>\n",
       "    <tr>\n",
       "      <th>25%</th>\n",
       "      <td>-0.609830</td>\n",
       "      <td>-0.681745</td>\n",
       "      <td>-0.622015</td>\n",
       "      <td>-0.676684</td>\n",
       "    </tr>\n",
       "    <tr>\n",
       "      <th>50%</th>\n",
       "      <td>0.032107</td>\n",
       "      <td>-0.013757</td>\n",
       "      <td>0.034504</td>\n",
       "      <td>-0.014884</td>\n",
       "    </tr>\n",
       "    <tr>\n",
       "      <th>75%</th>\n",
       "      <td>0.678358</td>\n",
       "      <td>0.632925</td>\n",
       "      <td>0.682695</td>\n",
       "      <td>0.627851</td>\n",
       "    </tr>\n",
       "    <tr>\n",
       "      <th>max</th>\n",
       "      <td>3.602789</td>\n",
       "      <td>2.750372</td>\n",
       "      <td>3.232659</td>\n",
       "      <td>3.128789</td>\n",
       "    </tr>\n",
       "  </tbody>\n",
       "</table>\n",
       "</div>"
      ],
      "text/plain": [
       "                 0            1            2            3\n",
       "count  1000.000000  1000.000000  1000.000000  1000.000000\n",
       "mean      0.037411    -0.016913     0.002710    -0.006417\n",
       "std       1.008137     0.961000     0.991797     0.975478\n",
       "min      -3.289733    -3.456349    -3.070027    -3.830081\n",
       "25%      -0.609830    -0.681745    -0.622015    -0.676684\n",
       "50%       0.032107    -0.013757     0.034504    -0.014884\n",
       "75%       0.678358     0.632925     0.682695     0.627851\n",
       "max       3.602789     2.750372     3.232659     3.128789"
      ]
     },
     "execution_count": 43,
     "metadata": {},
     "output_type": "execute_result"
    }
   ],
   "source": [
    "# Detecting and filtering outliers\n",
    "data=pd.DataFrame(np.random.randn(1000,4))\n",
    "data.describe()"
   ]
  },
  {
   "cell_type": "code",
   "execution_count": 44,
   "metadata": {},
   "outputs": [
    {
     "data": {
      "text/plain": [
       "(0    3.602789\n",
       " 1    2.750372\n",
       " 2    3.232659\n",
       " 3    3.128789\n",
       " dtype: float64,\n",
       " 0      0.749924\n",
       " 1      1.229529\n",
       " 2      0.892225\n",
       " 3      0.578966\n",
       " 4      0.888853\n",
       "          ...   \n",
       " 995    1.216670\n",
       " 996    1.623665\n",
       " 997    0.324140\n",
       " 998    1.236181\n",
       " 999    1.056240\n",
       " Length: 1000, dtype: float64)"
      ]
     },
     "execution_count": 44,
     "metadata": {},
     "output_type": "execute_result"
    }
   ],
   "source": [
    "np.max(data,axis=0),np.max(data,axis=1)"
   ]
  },
  {
   "cell_type": "code",
   "execution_count": 45,
   "metadata": {},
   "outputs": [
    {
     "data": {
      "text/plain": [
       "17    -3.070027\n",
       "53     3.232659\n",
       "407    3.097724\n",
       "Name: 2, dtype: float64"
      ]
     },
     "execution_count": 45,
     "metadata": {},
     "output_type": "execute_result"
    }
   ],
   "source": [
    "col=data[2]\n",
    "col[np.abs(col)>3]"
   ]
  },
  {
   "cell_type": "code",
   "execution_count": 40,
   "metadata": {},
   "outputs": [],
   "source": [
    "data=abs(data)"
   ]
  },
  {
   "cell_type": "code",
   "execution_count": 41,
   "metadata": {},
   "outputs": [
    {
     "data": {
      "text/html": [
       "<div>\n",
       "<style scoped>\n",
       "    .dataframe tbody tr th:only-of-type {\n",
       "        vertical-align: middle;\n",
       "    }\n",
       "\n",
       "    .dataframe tbody tr th {\n",
       "        vertical-align: top;\n",
       "    }\n",
       "\n",
       "    .dataframe thead th {\n",
       "        text-align: right;\n",
       "    }\n",
       "</style>\n",
       "<table border=\"1\" class=\"dataframe\">\n",
       "  <thead>\n",
       "    <tr style=\"text-align: right;\">\n",
       "      <th></th>\n",
       "      <th>0</th>\n",
       "      <th>1</th>\n",
       "      <th>2</th>\n",
       "      <th>3</th>\n",
       "    </tr>\n",
       "  </thead>\n",
       "  <tbody>\n",
       "    <tr>\n",
       "      <th>0</th>\n",
       "      <td>0.502976</td>\n",
       "      <td>0.447873</td>\n",
       "      <td>2.637323</td>\n",
       "      <td>1.303056</td>\n",
       "    </tr>\n",
       "    <tr>\n",
       "      <th>1</th>\n",
       "      <td>0.913410</td>\n",
       "      <td>0.266695</td>\n",
       "      <td>0.698569</td>\n",
       "      <td>0.331265</td>\n",
       "    </tr>\n",
       "    <tr>\n",
       "      <th>2</th>\n",
       "      <td>0.006905</td>\n",
       "      <td>0.089034</td>\n",
       "      <td>0.277215</td>\n",
       "      <td>0.362373</td>\n",
       "    </tr>\n",
       "    <tr>\n",
       "      <th>3</th>\n",
       "      <td>0.407617</td>\n",
       "      <td>2.007286</td>\n",
       "      <td>1.418892</td>\n",
       "      <td>0.345305</td>\n",
       "    </tr>\n",
       "    <tr>\n",
       "      <th>4</th>\n",
       "      <td>0.776953</td>\n",
       "      <td>1.495395</td>\n",
       "      <td>1.432541</td>\n",
       "      <td>1.237378</td>\n",
       "    </tr>\n",
       "    <tr>\n",
       "      <th>...</th>\n",
       "      <td>...</td>\n",
       "      <td>...</td>\n",
       "      <td>...</td>\n",
       "      <td>...</td>\n",
       "    </tr>\n",
       "    <tr>\n",
       "      <th>995</th>\n",
       "      <td>0.785169</td>\n",
       "      <td>1.025607</td>\n",
       "      <td>1.581160</td>\n",
       "      <td>0.194285</td>\n",
       "    </tr>\n",
       "    <tr>\n",
       "      <th>996</th>\n",
       "      <td>1.348868</td>\n",
       "      <td>0.897853</td>\n",
       "      <td>0.817913</td>\n",
       "      <td>1.118796</td>\n",
       "    </tr>\n",
       "    <tr>\n",
       "      <th>997</th>\n",
       "      <td>0.914496</td>\n",
       "      <td>0.712331</td>\n",
       "      <td>0.745088</td>\n",
       "      <td>0.440037</td>\n",
       "    </tr>\n",
       "    <tr>\n",
       "      <th>998</th>\n",
       "      <td>1.309153</td>\n",
       "      <td>0.208324</td>\n",
       "      <td>0.288199</td>\n",
       "      <td>0.212779</td>\n",
       "    </tr>\n",
       "    <tr>\n",
       "      <th>999</th>\n",
       "      <td>0.026674</td>\n",
       "      <td>0.461043</td>\n",
       "      <td>0.800554</td>\n",
       "      <td>1.587446</td>\n",
       "    </tr>\n",
       "  </tbody>\n",
       "</table>\n",
       "<p>1000 rows × 4 columns</p>\n",
       "</div>"
      ],
      "text/plain": [
       "            0         1         2         3\n",
       "0    0.502976  0.447873  2.637323  1.303056\n",
       "1    0.913410  0.266695  0.698569  0.331265\n",
       "2    0.006905  0.089034  0.277215  0.362373\n",
       "3    0.407617  2.007286  1.418892  0.345305\n",
       "4    0.776953  1.495395  1.432541  1.237378\n",
       "..        ...       ...       ...       ...\n",
       "995  0.785169  1.025607  1.581160  0.194285\n",
       "996  1.348868  0.897853  0.817913  1.118796\n",
       "997  0.914496  0.712331  0.745088  0.440037\n",
       "998  1.309153  0.208324  0.288199  0.212779\n",
       "999  0.026674  0.461043  0.800554  1.587446\n",
       "\n",
       "[1000 rows x 4 columns]"
      ]
     },
     "execution_count": 41,
     "metadata": {},
     "output_type": "execute_result"
    }
   ],
   "source": [
    "data"
   ]
  },
  {
   "cell_type": "code",
   "execution_count": 50,
   "metadata": {},
   "outputs": [
    {
     "data": {
      "text/html": [
       "<div>\n",
       "<style scoped>\n",
       "    .dataframe tbody tr th:only-of-type {\n",
       "        vertical-align: middle;\n",
       "    }\n",
       "\n",
       "    .dataframe tbody tr th {\n",
       "        vertical-align: top;\n",
       "    }\n",
       "\n",
       "    .dataframe thead th {\n",
       "        text-align: right;\n",
       "    }\n",
       "</style>\n",
       "<table border=\"1\" class=\"dataframe\">\n",
       "  <thead>\n",
       "    <tr style=\"text-align: right;\">\n",
       "      <th></th>\n",
       "      <th>0</th>\n",
       "      <th>1</th>\n",
       "      <th>2</th>\n",
       "      <th>3</th>\n",
       "    </tr>\n",
       "  </thead>\n",
       "  <tbody>\n",
       "    <tr>\n",
       "      <th>17</th>\n",
       "      <td>0.867851</td>\n",
       "      <td>1.957886</td>\n",
       "      <td>-3.070027</td>\n",
       "      <td>-0.382835</td>\n",
       "    </tr>\n",
       "    <tr>\n",
       "      <th>53</th>\n",
       "      <td>0.574206</td>\n",
       "      <td>-0.962024</td>\n",
       "      <td>3.232659</td>\n",
       "      <td>-0.464695</td>\n",
       "    </tr>\n",
       "    <tr>\n",
       "      <th>183</th>\n",
       "      <td>-3.094646</td>\n",
       "      <td>0.027839</td>\n",
       "      <td>0.262215</td>\n",
       "      <td>2.192740</td>\n",
       "    </tr>\n",
       "    <tr>\n",
       "      <th>308</th>\n",
       "      <td>1.694915</td>\n",
       "      <td>-3.456349</td>\n",
       "      <td>-0.730435</td>\n",
       "      <td>0.300581</td>\n",
       "    </tr>\n",
       "    <tr>\n",
       "      <th>313</th>\n",
       "      <td>0.502674</td>\n",
       "      <td>0.416194</td>\n",
       "      <td>-0.857990</td>\n",
       "      <td>-3.268819</td>\n",
       "    </tr>\n",
       "    <tr>\n",
       "      <th>407</th>\n",
       "      <td>1.807224</td>\n",
       "      <td>-1.860421</td>\n",
       "      <td>3.097724</td>\n",
       "      <td>0.624890</td>\n",
       "    </tr>\n",
       "    <tr>\n",
       "      <th>504</th>\n",
       "      <td>-0.378809</td>\n",
       "      <td>1.251652</td>\n",
       "      <td>-1.253668</td>\n",
       "      <td>-3.830081</td>\n",
       "    </tr>\n",
       "    <tr>\n",
       "      <th>591</th>\n",
       "      <td>3.602789</td>\n",
       "      <td>-0.036950</td>\n",
       "      <td>0.428979</td>\n",
       "      <td>0.571923</td>\n",
       "    </tr>\n",
       "    <tr>\n",
       "      <th>684</th>\n",
       "      <td>-3.289733</td>\n",
       "      <td>-0.011927</td>\n",
       "      <td>1.035863</td>\n",
       "      <td>-1.481042</td>\n",
       "    </tr>\n",
       "    <tr>\n",
       "      <th>740</th>\n",
       "      <td>0.978064</td>\n",
       "      <td>-3.418532</td>\n",
       "      <td>0.794934</td>\n",
       "      <td>1.044049</td>\n",
       "    </tr>\n",
       "    <tr>\n",
       "      <th>805</th>\n",
       "      <td>3.144983</td>\n",
       "      <td>0.971980</td>\n",
       "      <td>-0.236522</td>\n",
       "      <td>0.534188</td>\n",
       "    </tr>\n",
       "    <tr>\n",
       "      <th>922</th>\n",
       "      <td>-0.268463</td>\n",
       "      <td>-0.484007</td>\n",
       "      <td>0.125290</td>\n",
       "      <td>3.128789</td>\n",
       "    </tr>\n",
       "  </tbody>\n",
       "</table>\n",
       "</div>"
      ],
      "text/plain": [
       "            0         1         2         3\n",
       "17   0.867851  1.957886 -3.070027 -0.382835\n",
       "53   0.574206 -0.962024  3.232659 -0.464695\n",
       "183 -3.094646  0.027839  0.262215  2.192740\n",
       "308  1.694915 -3.456349 -0.730435  0.300581\n",
       "313  0.502674  0.416194 -0.857990 -3.268819\n",
       "407  1.807224 -1.860421  3.097724  0.624890\n",
       "504 -0.378809  1.251652 -1.253668 -3.830081\n",
       "591  3.602789 -0.036950  0.428979  0.571923\n",
       "684 -3.289733 -0.011927  1.035863 -1.481042\n",
       "740  0.978064 -3.418532  0.794934  1.044049\n",
       "805  3.144983  0.971980 -0.236522  0.534188\n",
       "922 -0.268463 -0.484007  0.125290  3.128789"
      ]
     },
     "execution_count": 50,
     "metadata": {},
     "output_type": "execute_result"
    }
   ],
   "source": [
    "data[(np.abs(data)>3).any(1)]"
   ]
  },
  {
   "cell_type": "code",
   "execution_count": null,
   "metadata": {},
   "outputs": [],
   "source": []
  },
  {
   "cell_type": "code",
   "execution_count": null,
   "metadata": {},
   "outputs": [],
   "source": []
  },
  {
   "cell_type": "code",
   "execution_count": null,
   "metadata": {},
   "outputs": [],
   "source": []
  },
  {
   "cell_type": "code",
   "execution_count": null,
   "metadata": {},
   "outputs": [],
   "source": []
  },
  {
   "cell_type": "code",
   "execution_count": null,
   "metadata": {},
   "outputs": [],
   "source": []
  },
  {
   "cell_type": "code",
   "execution_count": null,
   "metadata": {},
   "outputs": [],
   "source": []
  },
  {
   "cell_type": "code",
   "execution_count": null,
   "metadata": {},
   "outputs": [],
   "source": []
  },
  {
   "cell_type": "code",
   "execution_count": null,
   "metadata": {},
   "outputs": [],
   "source": []
  },
  {
   "cell_type": "code",
   "execution_count": null,
   "metadata": {},
   "outputs": [],
   "source": []
  },
  {
   "cell_type": "code",
   "execution_count": null,
   "metadata": {},
   "outputs": [],
   "source": []
  }
 ],
 "metadata": {
  "kernelspec": {
   "display_name": "Python 3",
   "language": "python",
   "name": "python3"
  },
  "language_info": {
   "codemirror_mode": {
    "name": "ipython",
    "version": 3
   },
   "file_extension": ".py",
   "mimetype": "text/x-python",
   "name": "python",
   "nbconvert_exporter": "python",
   "pygments_lexer": "ipython3",
   "version": "3.7.6"
  }
 },
 "nbformat": 4,
 "nbformat_minor": 4
}
