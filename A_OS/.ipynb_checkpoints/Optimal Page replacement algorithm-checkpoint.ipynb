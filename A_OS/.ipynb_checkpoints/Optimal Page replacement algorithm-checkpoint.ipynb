{
 "cells": [
  {
   "cell_type": "code",
   "execution_count": 2,
   "metadata": {},
   "outputs": [
    {
     "name": "stdout",
     "output_type": "stream",
     "text": [
      "Enter the number of frames: 5\n",
      "Enter the reference string: 123\n",
      "\n",
      "String|Frame →\t0 1 2 3 4 Fault\n",
      "   ↓\n",
      "\n",
      "   123\t\t123          Yes\n",
      "\n",
      "Total requests: 1\n",
      "Total Page Faults: 1\n",
      "Fault Rate: 100.00%\n"
     ]
    }
   ],
   "source": [
    "#Optimal page replacement algorithm (OPT or OPR) implementation in python\n",
    "#Created By: Suman Adhikari\n",
    "\n",
    "print(\"Enter the number of frames: \",end=\"\")\n",
    "capacity = int(input())\n",
    "f,fault,pf = [],0,'No'\n",
    "print(\"Enter the reference string: \",end=\"\")\n",
    "s = list(map(int,input().strip().split()))\n",
    "print(\"\\nString|Frame →\\t\",end='')\n",
    "for i in range(capacity):\n",
    "    print(i,end=' ')\n",
    "print(\"Fault\\n   ↓\\n\")\n",
    "occurance = [None for i in range(capacity)]\n",
    "for i in range(len(s)):\n",
    "    if s[i] not in f:\n",
    "        if len(f)<capacity:\n",
    "            f.append(s[i])\n",
    "        else:\n",
    "            for x in range(len(f)):\n",
    "                if f[x] not in s[i+1:]:\n",
    "                    f[x] = s[i]\n",
    "                    break\n",
    "                else:\n",
    "                    occurance[x] = s[i+1:].index(f[x])\n",
    "            else:\n",
    "                f[occurance.index(max(occurance))] = s[i]\n",
    "        fault += 1\n",
    "        pf = 'Yes'\n",
    "    else:\n",
    "        pf = 'No'\n",
    "    print(\"   %d\\t\\t\"%s[i],end='')\n",
    "    for x in f:\n",
    "        print(x,end=' ')\n",
    "    for x in range(capacity-len(f)):\n",
    "        print(' ',end=' ')\n",
    "    print(\" %s\"%pf)\n",
    "print(\"\\nTotal requests: %d\\nTotal Page Faults: %d\\nFault Rate: %0.2f%%\"%(len(s),fault,(fault/len(s))*100))"
   ]
  }
 ],
 "metadata": {
  "kernelspec": {
   "display_name": "Python 3",
   "language": "python",
   "name": "python3"
  },
  "language_info": {
   "codemirror_mode": {
    "name": "ipython",
    "version": 3
   },
   "file_extension": ".py",
   "mimetype": "text/x-python",
   "name": "python",
   "nbconvert_exporter": "python",
   "pygments_lexer": "ipython3",
   "version": "3.7.7"
  }
 },
 "nbformat": 4,
 "nbformat_minor": 4
}
