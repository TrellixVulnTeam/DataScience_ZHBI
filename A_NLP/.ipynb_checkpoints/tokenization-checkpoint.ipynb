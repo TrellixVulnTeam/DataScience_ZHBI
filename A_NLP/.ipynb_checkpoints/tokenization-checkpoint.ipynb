{
 "cells": [
  {
   "cell_type": "code",
   "execution_count": 20,
   "metadata": {},
   "outputs": [],
   "source": [
    "import nltk\n",
    "from nltk.stem import PorterStemmer\n",
    "from nltk.corpus import stopwords\n",
    "stemmer=PorterStemmer()"
   ]
  },
  {
   "cell_type": "code",
   "execution_count": 2,
   "metadata": {},
   "outputs": [],
   "source": [
    "paragraph=\"\"\"I have three visions for India. In 3000 years of our history, people from all over \n",
    "               the world have come and invaded us, captured our lands, conquered our minds. \n",
    "               From Alexander onwards, the Greeks, the Turks, the Moguls, the Portuguese, the British,\n",
    "               the French, the Dutch, all of them came and looted us, took over what was ours. \n",
    "               Yet we have not done this to any other nation. We have not conquered anyone. \n",
    "               We have not grabbed their land, their culture, \n",
    "               their history and tried to enforce our way of life on them. \n",
    "               Why? Because we respect the freedom of others.That is why my \n",
    "               first vision is that of freedom. I believe that India got its first vision of \n",
    "               this in 1857, when we started the War of Independence. It is this freedom that\n",
    "               we must protect and nurture and build on. If we are not free, no one will respect us.\n",
    "               My second vision for India’s development. For fifty years we have been a developing nation.\n",
    "               It is time we see ourselves as a developed nation. We are among the top 5 nations of the world\n",
    "               in terms of GDP. We have a 10 percent growth rate in most areas. Our poverty levels are falling.\n",
    "               Our achievements are being globally recognised today. Yet we lack the self-confidence to\n",
    "               see ourselves as a developed nation, self-reliant and self-assured. Isn’t this incorrect?\n",
    "               I have a third vision. India must stand up to the world. Because I believe that unless India \n",
    "               stands up to the world, no one will respect us. Only strength respects strength. We must be \n",
    "               strong not only as a military power but also as an economic power. Both must go hand-in-hand. \n",
    "               My good fortune was to have worked with three great minds. Dr. Vikram Sarabhai of the Dept. of \n",
    "               space, Professor Satish Dhawan, who succeeded him and Dr. Brahm Prakash, father of nuclear material.\n",
    "               I was lucky to have worked with all three of them closely and consider this the great opportunity of my life. \n",
    "               I see four milestones in my career\"\"\""
   ]
  },
  {
   "cell_type": "code",
   "execution_count": 11,
   "metadata": {},
   "outputs": [],
   "source": [
    "sentence=nltk.sent_tokenize(paragraph)"
   ]
  },
  {
   "cell_type": "code",
   "execution_count": 12,
   "metadata": {},
   "outputs": [],
   "source": [
    "words=nltk.word_tokenize(paragraph)"
   ]
  },
  {
   "cell_type": "code",
   "execution_count": 14,
   "metadata": {},
   "outputs": [
    {
     "data": {
      "text/plain": [
       "31"
      ]
     },
     "execution_count": 14,
     "metadata": {},
     "output_type": "execute_result"
    }
   ],
   "source": [
    "len(sentence)"
   ]
  },
  {
   "cell_type": "code",
   "execution_count": 30,
   "metadata": {},
   "outputs": [],
   "source": [
    "words_list=[]\n",
    "for i in range(len(sentence)):\n",
    "    temp=nltk.word_tokenize(sentence[i])\n",
    "    stemd=[stemmer.stem(i.lower()) for i in temp if i not in set(stopwords.words('english'))]\n",
    "    words_list.append(stemd)"
   ]
  },
  {
   "cell_type": "code",
   "execution_count": 31,
   "metadata": {},
   "outputs": [
    {
     "data": {
      "text/plain": [
       "[['i', 'three', 'vision', 'india', '.'],\n",
       " ['in',\n",
       "  '3000',\n",
       "  'year',\n",
       "  'histori',\n",
       "  ',',\n",
       "  'peopl',\n",
       "  'world',\n",
       "  'come',\n",
       "  'invad',\n",
       "  'us',\n",
       "  ',',\n",
       "  'captur',\n",
       "  'land',\n",
       "  ',',\n",
       "  'conquer',\n",
       "  'mind',\n",
       "  '.'],\n",
       " ['from',\n",
       "  'alexand',\n",
       "  'onward',\n",
       "  ',',\n",
       "  'greek',\n",
       "  ',',\n",
       "  'turk',\n",
       "  ',',\n",
       "  'mogul',\n",
       "  ',',\n",
       "  'portugues',\n",
       "  ',',\n",
       "  'british',\n",
       "  ',',\n",
       "  'french',\n",
       "  ',',\n",
       "  'dutch',\n",
       "  ',',\n",
       "  'came',\n",
       "  'loot',\n",
       "  'us',\n",
       "  ',',\n",
       "  'took',\n",
       "  '.'],\n",
       " ['yet', 'done', 'nation', '.'],\n",
       " ['we', 'conquer', 'anyon', '.'],\n",
       " ['we',\n",
       "  'grab',\n",
       "  'land',\n",
       "  ',',\n",
       "  'cultur',\n",
       "  ',',\n",
       "  'histori',\n",
       "  'tri',\n",
       "  'enforc',\n",
       "  'way',\n",
       "  'life',\n",
       "  '.'],\n",
       " ['whi', '?'],\n",
       " ['becaus',\n",
       "  'respect',\n",
       "  'freedom',\n",
       "  'others.that',\n",
       "  'first',\n",
       "  'vision',\n",
       "  'freedom',\n",
       "  '.'],\n",
       " ['i',\n",
       "  'believ',\n",
       "  'india',\n",
       "  'got',\n",
       "  'first',\n",
       "  'vision',\n",
       "  '1857',\n",
       "  ',',\n",
       "  'start',\n",
       "  'war',\n",
       "  'independ',\n",
       "  '.'],\n",
       " ['it', 'freedom', 'must', 'protect', 'nurtur', 'build', '.'],\n",
       " ['if', 'free', ',', 'one', 'respect', 'us', '.'],\n",
       " ['my', 'second', 'vision', 'india', '’', 'develop', '.'],\n",
       " ['for', 'fifti', 'year', 'develop', 'nation', '.'],\n",
       " ['it', 'time', 'see', 'develop', 'nation', '.'],\n",
       " ['we', 'among', 'top', '5', 'nation', 'world', 'term', 'gdp', '.'],\n",
       " ['we', '10', 'percent', 'growth', 'rate', 'area', '.'],\n",
       " ['our', 'poverti', 'level', 'fall', '.'],\n",
       " ['our', 'achiev', 'global', 'recognis', 'today', '.'],\n",
       " ['yet',\n",
       "  'lack',\n",
       "  'self-confid',\n",
       "  'see',\n",
       "  'develop',\n",
       "  'nation',\n",
       "  ',',\n",
       "  'self-reli',\n",
       "  'self-assur',\n",
       "  '.'],\n",
       " ['isn', '’', 'incorrect', '?'],\n",
       " ['i', 'third', 'vision', '.'],\n",
       " ['india', 'must', 'stand', 'world', '.'],\n",
       " ['becaus',\n",
       "  'i',\n",
       "  'believ',\n",
       "  'unless',\n",
       "  'india',\n",
       "  'stand',\n",
       "  'world',\n",
       "  ',',\n",
       "  'one',\n",
       "  'respect',\n",
       "  'us',\n",
       "  '.'],\n",
       " ['onli', 'strength', 'respect', 'strength', '.'],\n",
       " ['we', 'must', 'strong', 'militari', 'power', 'also', 'econom', 'power', '.'],\n",
       " ['both', 'must', 'go', 'hand-in-hand', '.'],\n",
       " ['my', 'good', 'fortun', 'work', 'three', 'great', 'mind', '.'],\n",
       " ['dr.', 'vikram', 'sarabhai', 'dept', '.'],\n",
       " ['space',\n",
       "  ',',\n",
       "  'professor',\n",
       "  'satish',\n",
       "  'dhawan',\n",
       "  ',',\n",
       "  'succeed',\n",
       "  'dr.',\n",
       "  'brahm',\n",
       "  'prakash',\n",
       "  ',',\n",
       "  'father',\n",
       "  'nuclear',\n",
       "  'materi',\n",
       "  '.'],\n",
       " ['i',\n",
       "  'lucki',\n",
       "  'work',\n",
       "  'three',\n",
       "  'close',\n",
       "  'consid',\n",
       "  'great',\n",
       "  'opportun',\n",
       "  'life',\n",
       "  '.'],\n",
       " ['i', 'see', 'four', 'mileston', 'career']]"
      ]
     },
     "execution_count": 31,
     "metadata": {},
     "output_type": "execute_result"
    }
   ],
   "source": [
    "words_list"
   ]
  },
  {
   "cell_type": "code",
   "execution_count": null,
   "metadata": {},
   "outputs": [],
   "source": []
  },
  {
   "cell_type": "code",
   "execution_count": null,
   "metadata": {},
   "outputs": [],
   "source": []
  },
  {
   "cell_type": "code",
   "execution_count": null,
   "metadata": {},
   "outputs": [],
   "source": []
  },
  {
   "cell_type": "code",
   "execution_count": null,
   "metadata": {},
   "outputs": [],
   "source": []
  },
  {
   "cell_type": "code",
   "execution_count": null,
   "metadata": {},
   "outputs": [],
   "source": []
  },
  {
   "cell_type": "code",
   "execution_count": null,
   "metadata": {},
   "outputs": [],
   "source": []
  }
 ],
 "metadata": {
  "kernelspec": {
   "display_name": "Python 3",
   "language": "python",
   "name": "python3"
  },
  "language_info": {
   "codemirror_mode": {
    "name": "ipython",
    "version": 3
   },
   "file_extension": ".py",
   "mimetype": "text/x-python",
   "name": "python",
   "nbconvert_exporter": "python",
   "pygments_lexer": "ipython3",
   "version": "3.7.7"
  }
 },
 "nbformat": 4,
 "nbformat_minor": 4
}
