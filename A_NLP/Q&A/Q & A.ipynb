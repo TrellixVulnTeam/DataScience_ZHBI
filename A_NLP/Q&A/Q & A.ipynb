{
 "cells": [
  {
   "cell_type": "code",
   "execution_count": 1,
   "metadata": {},
   "outputs": [
    {
     "name": "stderr",
     "output_type": "stream",
     "text": [
      "Using TensorFlow backend.\n"
     ]
    }
   ],
   "source": [
    "import pandas as pd\n",
    "import matplotlib.pyplot as pl\n",
    "from keras.preprocessing.text import one_hot\n",
    "from sklearn.feature_extraction.text import TfidfVectorizer\n",
    "from sklearn.preprocessing import LabelEncoder\n",
    "import tensorflow as tf\n",
    "physical_devices = tf.config.list_physical_devices('GPU') \n",
    "tf.config.experimental.set_memory_growth(physical_devices[0], True)\n",
    "\n",
    "\n"
   ]
  },
  {
   "cell_type": "code",
   "execution_count": 2,
   "metadata": {},
   "outputs": [],
   "source": [
    "df_main=pd.read_json('train-v2.0.json')"
   ]
  },
  {
   "cell_type": "code",
   "execution_count": 3,
   "metadata": {},
   "outputs": [
    {
     "data": {
      "text/html": [
       "<div>\n",
       "<style scoped>\n",
       "    .dataframe tbody tr th:only-of-type {\n",
       "        vertical-align: middle;\n",
       "    }\n",
       "\n",
       "    .dataframe tbody tr th {\n",
       "        vertical-align: top;\n",
       "    }\n",
       "\n",
       "    .dataframe thead th {\n",
       "        text-align: right;\n",
       "    }\n",
       "</style>\n",
       "<table border=\"1\" class=\"dataframe\">\n",
       "  <thead>\n",
       "    <tr style=\"text-align: right;\">\n",
       "      <th></th>\n",
       "      <th>version</th>\n",
       "      <th>data</th>\n",
       "    </tr>\n",
       "  </thead>\n",
       "  <tbody>\n",
       "    <tr>\n",
       "      <th>0</th>\n",
       "      <td>v2.0</td>\n",
       "      <td>{'title': 'Beyoncé', 'paragraphs': [{'qas': [{...</td>\n",
       "    </tr>\n",
       "    <tr>\n",
       "      <th>1</th>\n",
       "      <td>v2.0</td>\n",
       "      <td>{'title': 'Frédéric_Chopin', 'paragraphs': [{'...</td>\n",
       "    </tr>\n",
       "    <tr>\n",
       "      <th>2</th>\n",
       "      <td>v2.0</td>\n",
       "      <td>{'title': 'Sino-Tibetan_relations_during_the_M...</td>\n",
       "    </tr>\n",
       "    <tr>\n",
       "      <th>3</th>\n",
       "      <td>v2.0</td>\n",
       "      <td>{'title': 'IPod', 'paragraphs': [{'qas': [{'qu...</td>\n",
       "    </tr>\n",
       "    <tr>\n",
       "      <th>4</th>\n",
       "      <td>v2.0</td>\n",
       "      <td>{'title': 'The_Legend_of_Zelda:_Twilight_Princ...</td>\n",
       "    </tr>\n",
       "  </tbody>\n",
       "</table>\n",
       "</div>"
      ],
      "text/plain": [
       "  version                                               data\n",
       "0    v2.0  {'title': 'Beyoncé', 'paragraphs': [{'qas': [{...\n",
       "1    v2.0  {'title': 'Frédéric_Chopin', 'paragraphs': [{'...\n",
       "2    v2.0  {'title': 'Sino-Tibetan_relations_during_the_M...\n",
       "3    v2.0  {'title': 'IPod', 'paragraphs': [{'qas': [{'qu...\n",
       "4    v2.0  {'title': 'The_Legend_of_Zelda:_Twilight_Princ..."
      ]
     },
     "execution_count": 3,
     "metadata": {},
     "output_type": "execute_result"
    }
   ],
   "source": [
    "df_main.head()"
   ]
  },
  {
   "cell_type": "code",
   "execution_count": 4,
   "metadata": {},
   "outputs": [
    {
     "data": {
      "text/plain": [
       "(442, 2)"
      ]
     },
     "execution_count": 4,
     "metadata": {},
     "output_type": "execute_result"
    }
   ],
   "source": [
    "df_main.shape"
   ]
  },
  {
   "cell_type": "code",
   "execution_count": null,
   "metadata": {
    "scrolled": false
   },
   "outputs": [],
   "source": []
  },
  {
   "cell_type": "code",
   "execution_count": 5,
   "metadata": {},
   "outputs": [],
   "source": [
    "temp=df_main['data'][0]"
   ]
  },
  {
   "cell_type": "code",
   "execution_count": 6,
   "metadata": {
    "scrolled": false
   },
   "outputs": [],
   "source": [
    "par=temp['paragraphs']"
   ]
  },
  {
   "cell_type": "code",
   "execution_count": 7,
   "metadata": {
    "scrolled": false
   },
   "outputs": [
    {
     "data": {
      "text/plain": [
       "{'question': 'When did Beyonce start becoming popular?',\n",
       " 'id': '56be85543aeaaa14008c9063',\n",
       " 'answers': [{'text': 'in the late 1990s', 'answer_start': 269}],\n",
       " 'is_impossible': False}"
      ]
     },
     "execution_count": 7,
     "metadata": {},
     "output_type": "execute_result"
    }
   ],
   "source": [
    "ques=par[0]['qas']\n",
    "ques[0]"
   ]
  },
  {
   "cell_type": "code",
   "execution_count": null,
   "metadata": {},
   "outputs": [],
   "source": []
  },
  {
   "cell_type": "code",
   "execution_count": 8,
   "metadata": {},
   "outputs": [],
   "source": [
    "title=[]\n",
    "questions=[]\n",
    "answers=[]\n",
    "answer_start=[]\n",
    "is_answerable=[]"
   ]
  },
  {
   "cell_type": "code",
   "execution_count": 9,
   "metadata": {},
   "outputs": [],
   "source": [
    "for sample in df_main['data']:\n",
    "    pars=sample['paragraphs']\n",
    "    for par in pars:\n",
    "        ques=par['qas']\n",
    "        for i in ques:\n",
    "            questions.append(i['question'])\n",
    "            if i['answers']:\n",
    "                answers.append(i['answers'][0]['text'])\n",
    "                answer_start.append(i['answers'][0]['answer_start'])\n",
    "            else:\n",
    "                answers.append('Null')\n",
    "                answer_start.append('Null')\n",
    "            is_answerable.append(i['is_impossible'])"
   ]
  },
  {
   "cell_type": "code",
   "execution_count": 10,
   "metadata": {},
   "outputs": [
    {
     "data": {
      "text/plain": [
       "(130319, 130319, 130319, 130319)"
      ]
     },
     "execution_count": 10,
     "metadata": {},
     "output_type": "execute_result"
    }
   ],
   "source": [
    "len(questions),len(answers),len(answer_start),len(is_answerable)"
   ]
  },
  {
   "cell_type": "code",
   "execution_count": 11,
   "metadata": {},
   "outputs": [],
   "source": [
    "df=pd.DataFrame({'Question':questions,\n",
    "                 'Answers':answers,\n",
    "                 'Answer_start':answer_start,\n",
    "                 'Is_answerable':is_answerable\n",
    "                })"
   ]
  },
  {
   "cell_type": "code",
   "execution_count": 12,
   "metadata": {},
   "outputs": [
    {
     "data": {
      "text/html": [
       "<div>\n",
       "<style scoped>\n",
       "    .dataframe tbody tr th:only-of-type {\n",
       "        vertical-align: middle;\n",
       "    }\n",
       "\n",
       "    .dataframe tbody tr th {\n",
       "        vertical-align: top;\n",
       "    }\n",
       "\n",
       "    .dataframe thead th {\n",
       "        text-align: right;\n",
       "    }\n",
       "</style>\n",
       "<table border=\"1\" class=\"dataframe\">\n",
       "  <thead>\n",
       "    <tr style=\"text-align: right;\">\n",
       "      <th></th>\n",
       "      <th>Question</th>\n",
       "      <th>Answers</th>\n",
       "      <th>Answer_start</th>\n",
       "      <th>Is_answerable</th>\n",
       "    </tr>\n",
       "  </thead>\n",
       "  <tbody>\n",
       "    <tr>\n",
       "      <th>0</th>\n",
       "      <td>When did Beyonce start becoming popular?</td>\n",
       "      <td>in the late 1990s</td>\n",
       "      <td>269</td>\n",
       "      <td>False</td>\n",
       "    </tr>\n",
       "    <tr>\n",
       "      <th>1</th>\n",
       "      <td>What areas did Beyonce compete in when she was...</td>\n",
       "      <td>singing and dancing</td>\n",
       "      <td>207</td>\n",
       "      <td>False</td>\n",
       "    </tr>\n",
       "    <tr>\n",
       "      <th>2</th>\n",
       "      <td>When did Beyonce leave Destiny's Child and bec...</td>\n",
       "      <td>2003</td>\n",
       "      <td>526</td>\n",
       "      <td>False</td>\n",
       "    </tr>\n",
       "    <tr>\n",
       "      <th>3</th>\n",
       "      <td>In what city and state did Beyonce  grow up?</td>\n",
       "      <td>Houston, Texas</td>\n",
       "      <td>166</td>\n",
       "      <td>False</td>\n",
       "    </tr>\n",
       "    <tr>\n",
       "      <th>4</th>\n",
       "      <td>In which decade did Beyonce become famous?</td>\n",
       "      <td>late 1990s</td>\n",
       "      <td>276</td>\n",
       "      <td>False</td>\n",
       "    </tr>\n",
       "    <tr>\n",
       "      <th>5</th>\n",
       "      <td>In what R&amp;B group was she the lead singer?</td>\n",
       "      <td>Destiny's Child</td>\n",
       "      <td>320</td>\n",
       "      <td>False</td>\n",
       "    </tr>\n",
       "    <tr>\n",
       "      <th>6</th>\n",
       "      <td>What album made her a worldwide known artist?</td>\n",
       "      <td>Dangerously in Love</td>\n",
       "      <td>505</td>\n",
       "      <td>False</td>\n",
       "    </tr>\n",
       "    <tr>\n",
       "      <th>7</th>\n",
       "      <td>Who managed the Destiny's Child group?</td>\n",
       "      <td>Mathew Knowles</td>\n",
       "      <td>360</td>\n",
       "      <td>False</td>\n",
       "    </tr>\n",
       "    <tr>\n",
       "      <th>8</th>\n",
       "      <td>When did Beyoncé rise to fame?</td>\n",
       "      <td>late 1990s</td>\n",
       "      <td>276</td>\n",
       "      <td>False</td>\n",
       "    </tr>\n",
       "    <tr>\n",
       "      <th>9</th>\n",
       "      <td>What role did Beyoncé have in Destiny's Child?</td>\n",
       "      <td>lead singer</td>\n",
       "      <td>290</td>\n",
       "      <td>False</td>\n",
       "    </tr>\n",
       "  </tbody>\n",
       "</table>\n",
       "</div>"
      ],
      "text/plain": [
       "                                            Question              Answers  \\\n",
       "0           When did Beyonce start becoming popular?    in the late 1990s   \n",
       "1  What areas did Beyonce compete in when she was...  singing and dancing   \n",
       "2  When did Beyonce leave Destiny's Child and bec...                 2003   \n",
       "3      In what city and state did Beyonce  grow up?        Houston, Texas   \n",
       "4         In which decade did Beyonce become famous?           late 1990s   \n",
       "5         In what R&B group was she the lead singer?      Destiny's Child   \n",
       "6      What album made her a worldwide known artist?  Dangerously in Love   \n",
       "7             Who managed the Destiny's Child group?       Mathew Knowles   \n",
       "8                     When did Beyoncé rise to fame?           late 1990s   \n",
       "9     What role did Beyoncé have in Destiny's Child?          lead singer   \n",
       "\n",
       "  Answer_start  Is_answerable  \n",
       "0          269          False  \n",
       "1          207          False  \n",
       "2          526          False  \n",
       "3          166          False  \n",
       "4          276          False  \n",
       "5          320          False  \n",
       "6          505          False  \n",
       "7          360          False  \n",
       "8          276          False  \n",
       "9          290          False  "
      ]
     },
     "execution_count": 12,
     "metadata": {},
     "output_type": "execute_result"
    }
   ],
   "source": [
    "df.head(10)"
   ]
  },
  {
   "cell_type": "code",
   "execution_count": 13,
   "metadata": {},
   "outputs": [],
   "source": [
    "dev_data=pd.read_json('dev-v2.0.json')"
   ]
  },
  {
   "cell_type": "code",
   "execution_count": 14,
   "metadata": {},
   "outputs": [],
   "source": [
    "questions=[]\n",
    "answers=[]\n",
    "answer_start=[]\n",
    "is_answerable=[]\n",
    "for sample in dev_data['data']:\n",
    "    pars=sample['paragraphs']\n",
    "    for par in pars:\n",
    "        ques=par['qas']\n",
    "        for i in ques:\n",
    "            questions.append(i['question'])\n",
    "            if i['answers']:\n",
    "                answers.append(i['answers'][0]['text'])\n",
    "                answer_start.append(i['answers'][0]['answer_start'])\n",
    "            else:\n",
    "                answers.append('Null')\n",
    "                answer_start.append('Null')\n",
    "            is_answerable.append(i['is_impossible'])\n",
    "dev_df=pd.DataFrame({'Question':questions,\n",
    "                 'Answers':answers,\n",
    "                 'Answer_start':answer_start,\n",
    "                 'Is_answerable':is_answerable\n",
    "                })"
   ]
  },
  {
   "cell_type": "code",
   "execution_count": 15,
   "metadata": {},
   "outputs": [
    {
     "data": {
      "text/html": [
       "<div>\n",
       "<style scoped>\n",
       "    .dataframe tbody tr th:only-of-type {\n",
       "        vertical-align: middle;\n",
       "    }\n",
       "\n",
       "    .dataframe tbody tr th {\n",
       "        vertical-align: top;\n",
       "    }\n",
       "\n",
       "    .dataframe thead th {\n",
       "        text-align: right;\n",
       "    }\n",
       "</style>\n",
       "<table border=\"1\" class=\"dataframe\">\n",
       "  <thead>\n",
       "    <tr style=\"text-align: right;\">\n",
       "      <th></th>\n",
       "      <th>Question</th>\n",
       "      <th>Answers</th>\n",
       "      <th>Answer_start</th>\n",
       "      <th>Is_answerable</th>\n",
       "    </tr>\n",
       "  </thead>\n",
       "  <tbody>\n",
       "    <tr>\n",
       "      <th>0</th>\n",
       "      <td>In what country is Normandy located?</td>\n",
       "      <td>France</td>\n",
       "      <td>159</td>\n",
       "      <td>False</td>\n",
       "    </tr>\n",
       "    <tr>\n",
       "      <th>1</th>\n",
       "      <td>When were the Normans in Normandy?</td>\n",
       "      <td>10th and 11th centuries</td>\n",
       "      <td>94</td>\n",
       "      <td>False</td>\n",
       "    </tr>\n",
       "    <tr>\n",
       "      <th>2</th>\n",
       "      <td>From which countries did the Norse originate?</td>\n",
       "      <td>Denmark, Iceland and Norway</td>\n",
       "      <td>256</td>\n",
       "      <td>False</td>\n",
       "    </tr>\n",
       "    <tr>\n",
       "      <th>3</th>\n",
       "      <td>Who was the Norse leader?</td>\n",
       "      <td>Rollo</td>\n",
       "      <td>308</td>\n",
       "      <td>False</td>\n",
       "    </tr>\n",
       "    <tr>\n",
       "      <th>4</th>\n",
       "      <td>What century did the Normans first gain their ...</td>\n",
       "      <td>10th century</td>\n",
       "      <td>671</td>\n",
       "      <td>False</td>\n",
       "    </tr>\n",
       "    <tr>\n",
       "      <th>...</th>\n",
       "      <td>...</td>\n",
       "      <td>...</td>\n",
       "      <td>...</td>\n",
       "      <td>...</td>\n",
       "    </tr>\n",
       "    <tr>\n",
       "      <th>11868</th>\n",
       "      <td>What is the seldom used force unit equal to on...</td>\n",
       "      <td>sthène</td>\n",
       "      <td>665</td>\n",
       "      <td>False</td>\n",
       "    </tr>\n",
       "    <tr>\n",
       "      <th>11869</th>\n",
       "      <td>What does not have a metric counterpart?</td>\n",
       "      <td>Null</td>\n",
       "      <td>Null</td>\n",
       "      <td>True</td>\n",
       "    </tr>\n",
       "    <tr>\n",
       "      <th>11870</th>\n",
       "      <td>What is the force exerted by standard gravity ...</td>\n",
       "      <td>Null</td>\n",
       "      <td>Null</td>\n",
       "      <td>True</td>\n",
       "    </tr>\n",
       "    <tr>\n",
       "      <th>11871</th>\n",
       "      <td>What force leads to a commonly used unit of mass?</td>\n",
       "      <td>Null</td>\n",
       "      <td>Null</td>\n",
       "      <td>True</td>\n",
       "    </tr>\n",
       "    <tr>\n",
       "      <th>11872</th>\n",
       "      <td>What force is part of the modern SI system?</td>\n",
       "      <td>Null</td>\n",
       "      <td>Null</td>\n",
       "      <td>True</td>\n",
       "    </tr>\n",
       "  </tbody>\n",
       "</table>\n",
       "<p>11873 rows × 4 columns</p>\n",
       "</div>"
      ],
      "text/plain": [
       "                                                Question  \\\n",
       "0                   In what country is Normandy located?   \n",
       "1                     When were the Normans in Normandy?   \n",
       "2          From which countries did the Norse originate?   \n",
       "3                              Who was the Norse leader?   \n",
       "4      What century did the Normans first gain their ...   \n",
       "...                                                  ...   \n",
       "11868  What is the seldom used force unit equal to on...   \n",
       "11869           What does not have a metric counterpart?   \n",
       "11870  What is the force exerted by standard gravity ...   \n",
       "11871  What force leads to a commonly used unit of mass?   \n",
       "11872        What force is part of the modern SI system?   \n",
       "\n",
       "                           Answers Answer_start  Is_answerable  \n",
       "0                           France          159          False  \n",
       "1          10th and 11th centuries           94          False  \n",
       "2      Denmark, Iceland and Norway          256          False  \n",
       "3                            Rollo          308          False  \n",
       "4                     10th century          671          False  \n",
       "...                            ...          ...            ...  \n",
       "11868                       sthène          665          False  \n",
       "11869                         Null         Null           True  \n",
       "11870                         Null         Null           True  \n",
       "11871                         Null         Null           True  \n",
       "11872                         Null         Null           True  \n",
       "\n",
       "[11873 rows x 4 columns]"
      ]
     },
     "execution_count": 15,
     "metadata": {},
     "output_type": "execute_result"
    }
   ],
   "source": [
    "dev_df"
   ]
  },
  {
   "cell_type": "code",
   "execution_count": 16,
   "metadata": {},
   "outputs": [
    {
     "data": {
      "application/javascript": [
       "\n",
       "        if (window._pyforest_update_imports_cell) { window._pyforest_update_imports_cell('import seaborn as sns'); }\n",
       "    "
      ],
      "text/plain": [
       "<IPython.core.display.Javascript object>"
      ]
     },
     "metadata": {},
     "output_type": "display_data"
    },
    {
     "data": {
      "image/png": "[encoded data removed]",
      "text/plain": [
       "<Figure size 720x576 with 1 Axes>"
      ]
     },
     "metadata": {
      "needs_background": "light"
     },
     "output_type": "display_data"
    }
   ],
   "source": [
    "pl.figure(figsize=(10,8))\n",
    "\n",
    "ax=sns.countplot(df['Is_answerable'])\n",
    "rects=ax.patches\n",
    "\n",
    "for rect in rects:\n",
    "    height=rect.get_height()\n",
    "    ax.text(x=rect.get_x()+rect.get_width()/2,y=height+5,s=height,ha='center',va='bottom')\n",
    "pl.show()"
   ]
  },
  {
   "cell_type": "code",
   "execution_count": 17,
   "metadata": {},
   "outputs": [
    {
     "data": {
      "application/javascript": [
       "\n",
       "        if (window._pyforest_update_imports_cell) { window._pyforest_update_imports_cell('import seaborn as sns'); }\n",
       "    "
      ],
      "text/plain": [
       "<IPython.core.display.Javascript object>"
      ]
     },
     "metadata": {},
     "output_type": "display_data"
    },
    {
     "name": "stdout",
     "output_type": "stream",
     "text": [
      "-0.4 0.8\n",
      "0.6 0.8\n"
     ]
    },
    {
     "data": {
      "image/png": "[encoded data removed]",
      "text/plain": [
       "<Figure size 720x576 with 1 Axes>"
      ]
     },
     "metadata": {
      "needs_background": "light"
     },
     "output_type": "display_data"
    }
   ],
   "source": [
    "pl.figure(figsize=(10,8))\n",
    "\n",
    "ax=sns.countplot(dev_df['Is_answerable'])\n",
    "rects=ax.patches\n",
    "for rect in rects:\n",
    "    height=rect.get_height()\n",
    "    print(rect.get_x(),rect.get_width())\n",
    "    ax.text(x=rect.get_x()+rect.get_width()/2,y=height+1,s=height,ha='center',va='bottom')\n",
    "pl.show()"
   ]
  },
  {
   "cell_type": "code",
   "execution_count": 18,
   "metadata": {},
   "outputs": [
    {
     "data": {
      "text/plain": [
       "(130319, 1604)"
      ]
     },
     "execution_count": 18,
     "metadata": {},
     "output_type": "execute_result"
    }
   ],
   "source": [
    "len(df),df['Answer_start'].nunique()"
   ]
  },
  {
   "cell_type": "code",
   "execution_count": 19,
   "metadata": {},
   "outputs": [
    {
     "data": {
      "image/png": "[encoded data removed]",
      "text/plain": [
       "<Figure size 720x504 with 1 Axes>"
      ]
     },
     "metadata": {
      "needs_background": "light"
     },
     "output_type": "display_data"
    }
   ],
   "source": [
    "df['Answer_start'].value_counts()[1:20].plot(kind='bar',figsize=(10,7))\n",
    "pl.grid()\n",
    "pl.show()"
   ]
  },
  {
   "cell_type": "code",
   "execution_count": 20,
   "metadata": {},
   "outputs": [],
   "source": [
    "from keras.layers import Embedding\n",
    "from keras.preprocessing.sequence import pad_sequences\n",
    "from keras.models import Sequential"
   ]
  },
  {
   "cell_type": "code",
   "execution_count": 21,
   "metadata": {},
   "outputs": [],
   "source": [
    "df['len_que']=df['Question'].apply(lambda x: len(x))\n",
    "df['len_ans']=df['Answers'].apply(lambda x: len(x))"
   ]
  },
  {
   "cell_type": "code",
   "execution_count": 22,
   "metadata": {},
   "outputs": [
    {
     "data": {
      "image/png": "[encoded data removed]",
      "text/plain": [
       "<Figure size 432x288 with 1 Axes>"
      ]
     },
     "metadata": {
      "needs_background": "light"
     },
     "output_type": "display_data"
    }
   ],
   "source": [
    "df['len_que'].value_counts()[:20].plot.bar()\n",
    "pl.title('Counts of questions with its length')\n",
    "pl.xlabel('Length of sentence')\n",
    "pl.ylabel('Counts')\n",
    "pl.show()"
   ]
  },
  {
   "cell_type": "code",
   "execution_count": 23,
   "metadata": {},
   "outputs": [
    {
     "data": {
      "image/png": "[encoded data removed]",
      "text/plain": [
       "<Figure size 432x288 with 1 Axes>"
      ]
     },
     "metadata": {
      "needs_background": "light"
     },
     "output_type": "display_data"
    }
   ],
   "source": [
    "df['len_ans'].value_counts()[:20].plot.bar()\n",
    "pl.title('Counts of answers with its length')\n",
    "pl.xlabel('Length of sentence')\n",
    "pl.ylabel('Counts')\n",
    "pl.show()"
   ]
  },
  {
   "cell_type": "code",
   "execution_count": 24,
   "metadata": {},
   "outputs": [
    {
     "data": {
      "text/html": [
       "<div>\n",
       "<style scoped>\n",
       "    .dataframe tbody tr th:only-of-type {\n",
       "        vertical-align: middle;\n",
       "    }\n",
       "\n",
       "    .dataframe tbody tr th {\n",
       "        vertical-align: top;\n",
       "    }\n",
       "\n",
       "    .dataframe thead th {\n",
       "        text-align: right;\n",
       "    }\n",
       "</style>\n",
       "<table border=\"1\" class=\"dataframe\">\n",
       "  <thead>\n",
       "    <tr style=\"text-align: right;\">\n",
       "      <th></th>\n",
       "      <th>len_que</th>\n",
       "      <th>len_ans</th>\n",
       "    </tr>\n",
       "  </thead>\n",
       "  <tbody>\n",
       "    <tr>\n",
       "      <th>count</th>\n",
       "      <td>130319.000000</td>\n",
       "      <td>130319.000000</td>\n",
       "    </tr>\n",
       "    <tr>\n",
       "      <th>mean</th>\n",
       "      <td>58.507739</td>\n",
       "      <td>14.758884</td>\n",
       "    </tr>\n",
       "    <tr>\n",
       "      <th>std</th>\n",
       "      <td>73.757111</td>\n",
       "      <td>19.193666</td>\n",
       "    </tr>\n",
       "    <tr>\n",
       "      <th>min</th>\n",
       "      <td>1.000000</td>\n",
       "      <td>1.000000</td>\n",
       "    </tr>\n",
       "    <tr>\n",
       "      <th>25%</th>\n",
       "      <td>44.000000</td>\n",
       "      <td>4.000000</td>\n",
       "    </tr>\n",
       "    <tr>\n",
       "      <th>50%</th>\n",
       "      <td>55.000000</td>\n",
       "      <td>7.000000</td>\n",
       "    </tr>\n",
       "    <tr>\n",
       "      <th>75%</th>\n",
       "      <td>69.000000</td>\n",
       "      <td>17.000000</td>\n",
       "    </tr>\n",
       "    <tr>\n",
       "      <th>max</th>\n",
       "      <td>25651.000000</td>\n",
       "      <td>239.000000</td>\n",
       "    </tr>\n",
       "  </tbody>\n",
       "</table>\n",
       "</div>"
      ],
      "text/plain": [
       "             len_que        len_ans\n",
       "count  130319.000000  130319.000000\n",
       "mean       58.507739      14.758884\n",
       "std        73.757111      19.193666\n",
       "min         1.000000       1.000000\n",
       "25%        44.000000       4.000000\n",
       "50%        55.000000       7.000000\n",
       "75%        69.000000      17.000000\n",
       "max     25651.000000     239.000000"
      ]
     },
     "execution_count": 24,
     "metadata": {},
     "output_type": "execute_result"
    }
   ],
   "source": [
    "df.describe()"
   ]
  },
  {
   "cell_type": "code",
   "execution_count": 25,
   "metadata": {},
   "outputs": [],
   "source": [
    "df.drop(107709,axis=0,inplace=True)"
   ]
  },
  {
   "cell_type": "code",
   "execution_count": 26,
   "metadata": {},
   "outputs": [],
   "source": [
    "df.reset_index(drop=True,inplace=True)"
   ]
  },
  {
   "cell_type": "code",
   "execution_count": 27,
   "metadata": {},
   "outputs": [
    {
     "data": {
      "text/html": [
       "<div>\n",
       "<style scoped>\n",
       "    .dataframe tbody tr th:only-of-type {\n",
       "        vertical-align: middle;\n",
       "    }\n",
       "\n",
       "    .dataframe tbody tr th {\n",
       "        vertical-align: top;\n",
       "    }\n",
       "\n",
       "    .dataframe thead th {\n",
       "        text-align: right;\n",
       "    }\n",
       "</style>\n",
       "<table border=\"1\" class=\"dataframe\">\n",
       "  <thead>\n",
       "    <tr style=\"text-align: right;\">\n",
       "      <th></th>\n",
       "      <th>Question</th>\n",
       "      <th>Answers</th>\n",
       "      <th>Answer_start</th>\n",
       "      <th>Is_answerable</th>\n",
       "      <th>len_que</th>\n",
       "      <th>len_ans</th>\n",
       "    </tr>\n",
       "  </thead>\n",
       "  <tbody>\n",
       "    <tr>\n",
       "      <th>0</th>\n",
       "      <td>When did Beyonce start becoming popular?</td>\n",
       "      <td>in the late 1990s</td>\n",
       "      <td>269</td>\n",
       "      <td>False</td>\n",
       "      <td>40</td>\n",
       "      <td>17</td>\n",
       "    </tr>\n",
       "    <tr>\n",
       "      <th>1</th>\n",
       "      <td>What areas did Beyonce compete in when she was...</td>\n",
       "      <td>singing and dancing</td>\n",
       "      <td>207</td>\n",
       "      <td>False</td>\n",
       "      <td>58</td>\n",
       "      <td>19</td>\n",
       "    </tr>\n",
       "    <tr>\n",
       "      <th>2</th>\n",
       "      <td>When did Beyonce leave Destiny's Child and bec...</td>\n",
       "      <td>2003</td>\n",
       "      <td>526</td>\n",
       "      <td>False</td>\n",
       "      <td>64</td>\n",
       "      <td>4</td>\n",
       "    </tr>\n",
       "    <tr>\n",
       "      <th>3</th>\n",
       "      <td>In what city and state did Beyonce  grow up?</td>\n",
       "      <td>Houston, Texas</td>\n",
       "      <td>166</td>\n",
       "      <td>False</td>\n",
       "      <td>45</td>\n",
       "      <td>14</td>\n",
       "    </tr>\n",
       "    <tr>\n",
       "      <th>4</th>\n",
       "      <td>In which decade did Beyonce become famous?</td>\n",
       "      <td>late 1990s</td>\n",
       "      <td>276</td>\n",
       "      <td>False</td>\n",
       "      <td>42</td>\n",
       "      <td>10</td>\n",
       "    </tr>\n",
       "  </tbody>\n",
       "</table>\n",
       "</div>"
      ],
      "text/plain": [
       "                                            Question              Answers  \\\n",
       "0           When did Beyonce start becoming popular?    in the late 1990s   \n",
       "1  What areas did Beyonce compete in when she was...  singing and dancing   \n",
       "2  When did Beyonce leave Destiny's Child and bec...                 2003   \n",
       "3      In what city and state did Beyonce  grow up?        Houston, Texas   \n",
       "4         In which decade did Beyonce become famous?           late 1990s   \n",
       "\n",
       "  Answer_start  Is_answerable  len_que  len_ans  \n",
       "0          269          False       40       17  \n",
       "1          207          False       58       19  \n",
       "2          526          False       64        4  \n",
       "3          166          False       45       14  \n",
       "4          276          False       42       10  "
      ]
     },
     "execution_count": 27,
     "metadata": {},
     "output_type": "execute_result"
    }
   ],
   "source": [
    "df.head()"
   ]
  },
  {
   "cell_type": "code",
   "execution_count": 28,
   "metadata": {},
   "outputs": [
    {
     "data": {
      "text/plain": [
       "130318"
      ]
     },
     "execution_count": 28,
     "metadata": {},
     "output_type": "execute_result"
    }
   ],
   "source": [
    "len(df)"
   ]
  },
  {
   "cell_type": "code",
   "execution_count": 29,
   "metadata": {},
   "outputs": [],
   "source": [
    "df=df.sort_values('len_que',ascending=False)[5000:].copy()"
   ]
  },
  {
   "cell_type": "code",
   "execution_count": 30,
   "metadata": {},
   "outputs": [],
   "source": [
    "df_s=df[df['Answers']!='Null'].copy()"
   ]
  },
  {
   "cell_type": "code",
   "execution_count": 31,
   "metadata": {},
   "outputs": [],
   "source": [
    "df_s=df_s.sample(10000).copy()"
   ]
  },
  {
   "cell_type": "code",
   "execution_count": null,
   "metadata": {},
   "outputs": [],
   "source": []
  },
  {
   "cell_type": "code",
   "execution_count": null,
   "metadata": {},
   "outputs": [],
   "source": []
  },
  {
   "cell_type": "code",
   "execution_count": null,
   "metadata": {},
   "outputs": [],
   "source": []
  },
  {
   "cell_type": "code",
   "execution_count": 41,
   "metadata": {},
   "outputs": [],
   "source": [
    "input_texts = []\n",
    "target_texts = []\n",
    "input_characters = set()\n",
    "target_characters = set()"
   ]
  },
  {
   "cell_type": "code",
   "execution_count": 42,
   "metadata": {},
   "outputs": [],
   "source": [
    "for line,t in zip(df_s['Question'],df_s['Answers']):\n",
    "    input_texts.append(line)\n",
    "    t = '\\t' + t + '\\n'\n",
    "    target_texts.append(t)\n",
    "    for char in line:\n",
    "        if char not in input_characters:\n",
    "            input_characters.add(char)\n",
    "    for char in t:\n",
    "        if char not in target_characters:\n",
    "            target_characters.add(char)\n"
   ]
  },
  {
   "cell_type": "code",
   "execution_count": 79,
   "metadata": {},
   "outputs": [],
   "source": [
    "df_save=pd.DataFrame({'Input':input_texts,\n",
    "                      'Output':target_texts})\n",
    "df_save.to_csv('inout.csv')"
   ]
  },
  {
   "cell_type": "code",
   "execution_count": 78,
   "metadata": {},
   "outputs": [
    {
     "data": {
      "text/plain": [
       "['\\tbus stations\\n',\n",
       " '\\tjhāna\\n',\n",
       " '\\tJapan\\n',\n",
       " '\\tFile Transfer Protocol\\n',\n",
       " '\\tTimothy Rowe\\n',\n",
       " '\\tSeoul\\n',\n",
       " '\\tLake Paranoá\\n',\n",
       " '\\tAffirmative Action Around the World: An Empirical Study\\n',\n",
       " '\\t488 million[web 1] and 535 million\\n',\n",
       " '\\teggs or ova\\n',\n",
       " '\\t9.9 million\\n',\n",
       " '\\ta red penalty card\\n',\n",
       " '\\tThe Towers Square\\n',\n",
       " '\\tFirelight\\n',\n",
       " '\\tdetailed identification\\n',\n",
       " '\\tjuices stored in galvanized cans\\n',\n",
       " '\\t0.97% to 2%\\n',\n",
       " '\\tThe Bolsheviks\\n',\n",
       " '\\ttwo\\n',\n",
       " '\\t1929\\n',\n",
       " '\\tU.S. Ambassador to Canada\\n',\n",
       " '\\tstanding wave\\n',\n",
       " '\\tS. pyogenes\\n',\n",
       " '\\tKorea and Vietnam\\n',\n",
       " '\\t1867\\n',\n",
       " '\\tEdward\\n',\n",
       " '\\tmonarchy\\n',\n",
       " '\\tLos Angeles\\n',\n",
       " '\\tthe Holy Roman Empire\\n',\n",
       " \"\\tDesigners' Way\\n\",\n",
       " '\\tover 30,000\\n',\n",
       " '\\tThe 24-pin double-sided connector\\n',\n",
       " '\\tall times\\n',\n",
       " '\\tfull-time undergraduate\\n',\n",
       " '\\thydrogen\\n',\n",
       " '\\tblood plasma fractions\\n',\n",
       " '\\tHayy ibn Yaqdhan (Philosophus Autodidactus)\\n',\n",
       " '\\t1992\\n',\n",
       " '\\tfour-year terms,\\n',\n",
       " '\\tthe Hellenistic age\\n',\n",
       " '\\tRoncourt\\n',\n",
       " '\\tthe University of Washington\\n',\n",
       " '\\tcomparing it to polytheism\\n',\n",
       " '\\tJapanese\\n',\n",
       " '\\t2014\\n',\n",
       " '\\tOctavian\\n',\n",
       " '\\thigh speed and light weight\\n',\n",
       " '\\tthe rivers and coast\\n',\n",
       " '\\t19th\\n',\n",
       " '\\tto write of a decline of the Ottoman Empire\\n',\n",
       " '\\teditors tended to favor trees with two branches\\n',\n",
       " '\\tSeason four\\n',\n",
       " '\\ta supporting organization\\n',\n",
       " '\\ta week-long Klavern\\n',\n",
       " '\\tA botanist\\n',\n",
       " '\\ttried to camp on the village green\\n',\n",
       " '\\tblack flag\\n',\n",
       " '\\tenergy rich nectar\\n',\n",
       " '\\tthe first volume of the 3-volume Book of Mormon Critical Text in 1984. The third volume of that first edition was published in 1987\\n',\n",
       " '\\t1992\\n',\n",
       " '\\tPremier League clubs had won the UEFA Champions League four times\\n',\n",
       " '\\t1906\\n',\n",
       " '\\tsoprano Maria Callas\\n',\n",
       " '\\tastrophysicist\\n',\n",
       " '\\tTokyo Fire Department\\n',\n",
       " '\\tthe advent of firearms, new fighting tactics and the need for additional protection\\n',\n",
       " '\\tVenetian-styled\\n',\n",
       " '\\t1954\\n',\n",
       " '\\tIslamic Extremist\\n',\n",
       " '\\tthe wrestler\\n',\n",
       " '\\tThe Inter-Island Ferry Authority\\n',\n",
       " '\\tWootz steel\\n',\n",
       " '\\t400\\n',\n",
       " '\\tDisney\\n',\n",
       " '\\tSmooth AC\\n',\n",
       " '\\tthe Anglo-Portuguese army, aided by guerrillas and practicing a scorched earth strategy, chased the greatly reduced Franco-Spanish army back to Spain\\n',\n",
       " '\\t$15,887\\n',\n",
       " '\\tin the street\\n',\n",
       " '\\tin both\\n',\n",
       " '\\ta mandatory \"corvée\" tax\\n',\n",
       " '\\tcomparative anatomy, physiology, and psychology\\n',\n",
       " '\\tEristov\\n',\n",
       " '\\tNotre Dame Cathedral\\n',\n",
       " '\\tthe theory of superposition\\n',\n",
       " '\\ttwo mandolins, mandola, and mandocello,\\n',\n",
       " '\\t43,523\\n',\n",
       " '\\tSulaf Fawakherji.\\n',\n",
       " '\\ttwo or more\\n',\n",
       " '\\tbodhisattva path\\n',\n",
       " '\\tSea City\\n',\n",
       " '\\tBattle of Mohács\\n',\n",
       " '\\t85,000 mi\\n',\n",
       " '\\tthrough traffic to non-electrified lines\\n',\n",
       " '\\tat the turn of the nineteenth century\\n',\n",
       " '\\tnovels\\n',\n",
       " '\\tVirbhadra Singh\\n',\n",
       " '\\tJanuary 21, 2014\\n',\n",
       " '\\teast to west\\n',\n",
       " '\\tNaples\\n',\n",
       " '\\t1919\\n',\n",
       " '\\tWestern Canadian Select\\n',\n",
       " '\\t2.1\\n',\n",
       " '\\tInternational Peace studies\\n',\n",
       " '\\tweak\\n',\n",
       " '\\tmusic, dancing and poetry\\n',\n",
       " '\\tTGS 2007\\n',\n",
       " '\\tIndo-Islamic architecture\\n',\n",
       " '\\tVichy France\\n',\n",
       " '\\tA8\\n',\n",
       " '\\tRCA Victor\\n',\n",
       " '\\t34 million\\n',\n",
       " '\\t12.3%\\n',\n",
       " '\\tforeigners\\n',\n",
       " '\\tJost Burgi.\\n',\n",
       " '\\tthe fundamental force of gravity\\n',\n",
       " '\\tJune 15, 2006\\n',\n",
       " '\\tthe Ku Klux Klan\\n',\n",
       " \"\\tShove ha'penny\\n\",\n",
       " '\\t1838\\n',\n",
       " '\\tthe Letters of Paul\\n',\n",
       " '\\tzincates\\n',\n",
       " '\\t1917\\n',\n",
       " '\\tRoyal Estudiantina la Napolitaine (founded in 1904) in Antwerp, Brasschaats mandoline orkest in Brasschaat and an orchestra in Mons (Bergen).\\n',\n",
       " '\\ta Division bell\\n',\n",
       " '\\tChina and South Korea\\n',\n",
       " '\\tH.264\\n',\n",
       " '\\t$1 billion\\n',\n",
       " '\\tPompeii\\n',\n",
       " '\\t150\\n',\n",
       " '\\tQueen Elizabeth\\n',\n",
       " '\\tlate 1990s\\n',\n",
       " '\\tcadenza\\n',\n",
       " '\\tAdam Lambert\\n',\n",
       " '\\tpositive effects on the educational outcomes and experiences of college students\\n',\n",
       " '\\t1888\\n',\n",
       " '\\tdowntown\\n',\n",
       " '\\tnot an absolute law\\n',\n",
       " '\\t1830\\n',\n",
       " '\\t120\\n',\n",
       " '\\tFlinders Street Station\\n',\n",
       " '\\tAbout 60%\\n',\n",
       " '\\tTamar Valley\\n',\n",
       " '\\tthe Tsar\\n',\n",
       " '\\tWang Jingwei regime\\n',\n",
       " '\\tgrading\\n',\n",
       " '\\tAlvin Ailey American Dance Theater\\n',\n",
       " '\\t6.14 inches\\n',\n",
       " '\\tScience Museum of the University of Coimbra, the National Museum of Natural History at the University of Lisbon, and the Visionarium\\n',\n",
       " '\\tUniversity of Detroit Mercy\\n',\n",
       " '\\tvocal house\\n',\n",
       " '\\tChasetown\\n',\n",
       " '\\t82\\n',\n",
       " '\\tcomposer\\n',\n",
       " '\\tLouis I of Hungary\\n',\n",
       " '\\tFree and Fair Elections\\n',\n",
       " '\\tthe doctrine of the church\\n',\n",
       " '\\tOctober 11, 1944\\n',\n",
       " '\\tApple stock options\\n',\n",
       " '\\tover five billion species\\n',\n",
       " '\\t2014\\n',\n",
       " '\\tThere have been several studies which show that sleep improves the retention of memory,\\n',\n",
       " '\\t2.97 persons.\\n',\n",
       " '\\tSony Ericsson\\n',\n",
       " '\\tconverts to Islam\\n',\n",
       " '\\tsuffering (dukkha) and the cycle of incessant rebirths (saṃsāra)\\n',\n",
       " '\\tten nominations\\n',\n",
       " \"\\tthe National Assembly's session\\n\",\n",
       " '\\tthese regions coincided to a large extent with the borders of the Byzantine Empire of the late 11th century\\n',\n",
       " '\\t509–27 BC\\n',\n",
       " '\\twas obtained legitimately\\n',\n",
       " '\\tOsama bin Laden\\n',\n",
       " '\\tHoover Institution at Stanford University\\n',\n",
       " '\\tChristmas\\n',\n",
       " '\\tBattle of Murfreesboro\\n',\n",
       " '\\tLucius Cornelius Sulla\\n',\n",
       " '\\t1921\\n',\n",
       " '\\tsource languages\\n',\n",
       " '\\t1918–1938\\n',\n",
       " '\\tdiarrhea\\n',\n",
       " '\\tannual\\n',\n",
       " '\\tESA79\\n',\n",
       " '\\tsame sex marriage\\n',\n",
       " '\\tFukushima Daiichi power plant in 2011\\n',\n",
       " '\\t1780\\n',\n",
       " '\\tSt. Moritz, Switzerland\\n',\n",
       " '\\tBoston Tech\\n',\n",
       " '\\tOlympia, Greece\\n',\n",
       " '\\ta “distention” of the mind\\n',\n",
       " '\\t330 AD\\n',\n",
       " '\\tthe downtown streets of North, East, West and South streets\\n',\n",
       " '\\ta quarter\\n',\n",
       " '\\t110,000\\n',\n",
       " '\\tKing Edward VII\\n',\n",
       " '\\tnearly 1000\\n',\n",
       " '\\tdocuments and manuscripts\\n',\n",
       " '\\tStephen Swid, Martin Bandier, and Charles Koppelman\\n',\n",
       " '\\tthe \"upper\" 128 characters for the Greek alphabet\\n',\n",
       " \"\\tone's two fists\\n\",\n",
       " '\\tThe Cronquist system\\n',\n",
       " '\\tMacArthur\\n',\n",
       " '\\tSan Diego Bay\\n',\n",
       " '\\trepublicanism\\n',\n",
       " '\\t30\\n',\n",
       " '\\taniconism\\n',\n",
       " '\\t16 2⁄3 rpm\\n',\n",
       " '\\tDerrick May\\n',\n",
       " '\\t$10,000 per transfer\\n',\n",
       " '\\t1980s and the early 1990s\\n',\n",
       " '\\tDavid Friedrich Wiser\\n',\n",
       " '\\tthe Constitution\\n',\n",
       " '\\tthe Bargate\\n',\n",
       " '\\tTelugu\\n',\n",
       " '\\tKouilou-Niari River\\n',\n",
       " '\\tDrunk in Love\\n',\n",
       " '\\tseveral thousand years ago\\n',\n",
       " '\\tIn 1740, the Mon of Lower Myanmar founded the Restored Hanthawaddy Kingdom\\n',\n",
       " '\\ta close analysis by an alleged Chinese construction engineer\\n',\n",
       " '\\ttraders or artisans\\n',\n",
       " '\\tneo-Orthodoxy\\n',\n",
       " '\\tthree\\n',\n",
       " '\\tthe ways in which scientists work\\n',\n",
       " '\\t30\\n',\n",
       " '\\tgood\\n',\n",
       " '\\tDisagreements over ritual\\n',\n",
       " '\\tOutgassing and volcanic activity\\n',\n",
       " '\\tthe outbreak of World War I and the discovery of cheap oil\\n',\n",
       " '\\t-4\\n',\n",
       " '\\tnomocracy\\n',\n",
       " '\\tThe Merge\\n',\n",
       " '\\tCanada\\n',\n",
       " '\\t2030\\n',\n",
       " '\\tHouston International Airport\\n',\n",
       " '\\tImperial Russia\\n',\n",
       " '\\trattlesnake\\n',\n",
       " '\\tGospel of John\\n',\n",
       " '\\tbetween 1/1000 second to 1/2 second\\n',\n",
       " '\\treduce overall heating and cooling requirements\\n',\n",
       " '\\t20,770 square kilometers\\n',\n",
       " '\\tcommoner social\\n',\n",
       " '\\taspiration\\n',\n",
       " '\\t10-day\\n',\n",
       " '\\tNero\\n',\n",
       " '\\t289\\n',\n",
       " '\\tThe Rocky Mountain\\n',\n",
       " '\\tnoxious and non-noxious\\n',\n",
       " '\\tcoconut rhinoceros beetle\\n',\n",
       " '\\tDowntown\\n',\n",
       " '\\tthe Pope\\n',\n",
       " '\\tBig Horn, Glacier, and Roosevelt\\n',\n",
       " '\\tone\\n',\n",
       " '\\tChicago\\n',\n",
       " '\\tthirteenth largest\\n',\n",
       " '\\tZhang Qian\\n',\n",
       " '\\tvertical mesenteries\\n',\n",
       " '\\texpulsion\\n',\n",
       " '\\twhen they reach a pre-determined passenger load, or when they have had their doors opened for a certain period of time\\n',\n",
       " '\\tSharia law\\n',\n",
       " '\\tsexual attraction is a better reflection of the concept of sexual orientation\\n',\n",
       " '\\tLe Verrier and Adams\\n',\n",
       " '\\tPennies\\n',\n",
       " '\\tlimestone\\n',\n",
       " '\\tover 1,000 bacterial species\\n',\n",
       " '\\tCharophyta\\n',\n",
       " '\\t307\\n',\n",
       " '\\tpolitical power\\n',\n",
       " '\\tUkrainian Catholics\\n',\n",
       " '\\tpink\\n',\n",
       " \"\\td'Alembert's\\n\",\n",
       " '\\ttwo\\n',\n",
       " '\\ta Free house\\n',\n",
       " '\\treaction to them.\\n',\n",
       " '\\tbandes dessinées\\n',\n",
       " '\\tdefense of an ally\\n',\n",
       " '\\tFernando Alonso\\n',\n",
       " '\\tPseudo-Dionysius\\n',\n",
       " '\\tsixteen\\n',\n",
       " '\\tCarrier battle groups\\n',\n",
       " '\\tintrinsic\\n',\n",
       " '\\tAmerican Record Corporation\\n',\n",
       " '\\tThe Swiss\\n',\n",
       " '\\theresy\\n',\n",
       " '\\tApproximately 10,000 years ago\\n',\n",
       " '\\tHousekeeping genes\\n',\n",
       " '\\tSpanish\\n',\n",
       " '\\tKing Peter II\\n',\n",
       " '\\t1833\\n',\n",
       " '\\thelp mute these resonances\\n',\n",
       " '\\tJasmine Bligh\\n',\n",
       " '\\tMandarin\\n',\n",
       " '\\t2.3\\n',\n",
       " '\\t1940\\n',\n",
       " '\\tits topology\\n',\n",
       " '\\tTheravada\\n',\n",
       " '\\tDonations of the evening totalled 1.5 billion Chinese Yuan\\n',\n",
       " '\\tCentral\\n',\n",
       " '\\tAngevin\\n',\n",
       " '\\tto defend Seoul\\n',\n",
       " '\\tclass action lawsuits\\n',\n",
       " '\\t1997\\n',\n",
       " '\\tInside Black Australia\\n',\n",
       " '\\tUtrecht as a centre of Christianity is illustrated by the election of the Utrecht-born Adriaan Florenszoon Boeyens as pope in 1522\\n',\n",
       " '\\t1727\\n',\n",
       " '\\tThe Briars\\n',\n",
       " '\\t46,000\\n',\n",
       " '\\tclass inequality\\n',\n",
       " '\\tOn the Run Tour.\\n',\n",
       " '\\t1936\\n',\n",
       " '\\tWestern Romance\\n',\n",
       " '\\t247 BC\\n',\n",
       " '\\t1965\\n',\n",
       " '\\tcharitable donation\\n',\n",
       " '\\tSouth\\n',\n",
       " '\\tall nine islands\\n',\n",
       " '\\tThe Commercial Port\\n',\n",
       " '\\tSteve Ballmer\\n',\n",
       " '\\tA portion of Detroit next to eastern Hamtramck\\n',\n",
       " '\\t4th\\n',\n",
       " '\\tancient Rome or Greece\\n',\n",
       " '\\ttechnical aid\\n',\n",
       " '\\tseven, eight, nine years old\\n',\n",
       " '\\tSaturday\\n',\n",
       " '\\tTel Aviv\\n',\n",
       " '\\thearing in them all the most beautiful things of art\\n',\n",
       " '\\tGondwana\\n',\n",
       " '\\ttwo\\n',\n",
       " '\\tColonial records of French and Spanish slave ships and sales, and plantation records in all the former colonies\\n',\n",
       " '\\tmore money has been put into the economy\\n',\n",
       " '\\tOECD\\n',\n",
       " '\\t14%\\n',\n",
       " '\\tPope Leo III crowned Charlemagne, king of the Franks, as the \"Roman Emperor\"\\n',\n",
       " '\\t18,480/km2 (47,900/sq mi)\\n',\n",
       " '\\tThe Army\\n',\n",
       " '\\tfour\\n',\n",
       " '\\t1940\\n',\n",
       " '\\tWoyciechowski\\n',\n",
       " '\\tindigenous\\n',\n",
       " '\\tSultan Abdülhamid II\\n',\n",
       " '\\t9,468\\n',\n",
       " '\\tbalcony\\n',\n",
       " '\\tgrade inflation\\n',\n",
       " '\\t60,000\\n',\n",
       " '\\tbuyers could select a title and have it written to the disk\\n',\n",
       " '\\tpostmodernism\\n',\n",
       " '\\tPope Clement XII\\n',\n",
       " '\\tCzechoslovakia\\n',\n",
       " '\\tdegree of differentiation\\n',\n",
       " '\\tLive Aid\\n',\n",
       " '\\tLutheranism\\n',\n",
       " '\\tcraving\\n',\n",
       " '\\tnot\\n',\n",
       " '\\tthe \"Barada Panel\"\\n',\n",
       " '\\t1127\\n',\n",
       " '\\thad saddled itself with heavy war debts that its inefficient financial system could barely handle\\n',\n",
       " '\\trapid\\n',\n",
       " '\\tthe interior of the mothership\\n',\n",
       " '\\t80% coverage or greater\\n',\n",
       " '\\thundreds of years\\n',\n",
       " '\\tCrassus\\n',\n",
       " '\\tMany parts of the Americas\\n',\n",
       " '\\t1965 and 1971\\n',\n",
       " '\\ttrophic level\\n',\n",
       " '\\twrit of habeas corpus\\n',\n",
       " '\\t2,258\\n',\n",
       " '\\t128 kilobits/s\\n',\n",
       " '\\tvitamin D\\n',\n",
       " '\\tindustrial (and post-industrial) capitalism\\n',\n",
       " '\\tAvenue J\\n',\n",
       " '\\tYahweh and Jehovah\\n',\n",
       " '\\tpoorest families\\n',\n",
       " '\\ttamarind\\n',\n",
       " '\\tin the jaws (or mouths)\\n',\n",
       " '\\tno state can legally assume an obligation to commit or permit such acts\\n',\n",
       " '\\tFrench\\n',\n",
       " '\\thead of military intelligence\\n',\n",
       " '\\tMatthew Trammell\\n',\n",
       " '\\tBrunetti and Weder\\n',\n",
       " '\\tLogik der Forschung\\n',\n",
       " '\\tthat belief in an external world is rationally unjustifiable\\n',\n",
       " '\\tthe crucifixion of Jesus is as certain as any historical fact can be\\n',\n",
       " '\\tfrom the 1933 election to the 1965 election\\n',\n",
       " '\\tEl Dabaa city\\n',\n",
       " '\\t12 million\\n',\n",
       " '\\tIcelandic and Faroese\\n',\n",
       " '\\t1916\\n',\n",
       " '\\t\"Paul\"\\n',\n",
       " '\\tNyāya\\n',\n",
       " '\\tthe Russian Civil War\\n',\n",
       " '\\tneopositivists\\n',\n",
       " '\\tallophonic or phonemic\\n',\n",
       " '\\tMuslim engineers\\n',\n",
       " '\\tOne World Trade Center\\n',\n",
       " '\\t3 June 1963\\n',\n",
       " '\\t$80\\n',\n",
       " '\\tphysiological\\n',\n",
       " '\\tUS$20 billion\\n',\n",
       " '\\tgaelic football\\n',\n",
       " '\\tsura\\n',\n",
       " '\\tFrance\\n',\n",
       " '\\t1990\\n',\n",
       " '\\tIran hostage crisis\\n',\n",
       " '\\t2012\\n',\n",
       " '\\t20 November 1947\\n',\n",
       " '\\tJuan María Osuna\\n',\n",
       " '\\tFrench\\n',\n",
       " '\\twithdrawal\\n',\n",
       " '\\t49%\\n',\n",
       " '\\tsoccer ball\\n',\n",
       " '\\tNapoleon III\\n',\n",
       " '\\tanode\\n',\n",
       " \"\\tTrajan's Column\\n\",\n",
       " '\\tsouthern Afghanistan\\n',\n",
       " '\\ttheir generals\\n',\n",
       " '\\t784–967\\n',\n",
       " '\\t\"Feynman\\'s Tips on Physics: A Problem-Solving Supplement to the Feynman Lectures on Physics\\n',\n",
       " '\\tinnovative\\n',\n",
       " '\\t21st Army Group\\n',\n",
       " '\\t1853\\n',\n",
       " '\\t5th\\n',\n",
       " '\\tfrustrate his efforts\\n',\n",
       " '\\tthe salination of the Werra river\\n',\n",
       " '\\t1900\\n',\n",
       " '\\t1664\\n',\n",
       " '\\tthe French\\n',\n",
       " '\\tlargest consumer\\n',\n",
       " '\\tit would still not be \"empty\"\\n',\n",
       " \"\\tLi Zicheng's peasant rebels\\n\",\n",
       " '\\tAbout twenty\\n',\n",
       " '\\t1984\\n',\n",
       " '\\tpronounce unstressed /o/ clearly\\n',\n",
       " '\\tthree\\n',\n",
       " '\\tSoviet Socialist Republics\\n',\n",
       " '\\t(NESA)\\n',\n",
       " '\\tstartling the predator and giving it time to escape\\n',\n",
       " '\\tlate 1980s\\n',\n",
       " '\\tthe Mausoleum at Halicarnassus\\n',\n",
       " '\\t1454\\n',\n",
       " '\\tSpeedway Boulevard\\n',\n",
       " '\\tblack hole\\n',\n",
       " '\\tNorman Sheffield\\n',\n",
       " '\\t884 million dollars\\n',\n",
       " '\\tthe testing objective\\n',\n",
       " '\\tdemolished or subdivided\\n',\n",
       " '\\tto later conflicts like the Napoleonic Wars\\n',\n",
       " '\\t61 BC\\n',\n",
       " '\\tFirefox\\n',\n",
       " '\\taccess previous versions of shared files stored on a Windows Server computer\\n',\n",
       " '\\tPhil Stacey and Chris Richardson\\n',\n",
       " '\\tpolymyxins\\n',\n",
       " '\\tBletchley Park\\n',\n",
       " '\\tvertical transmission\\n',\n",
       " '\\tSan Francisco Board of Supervisors\\n',\n",
       " '\\t$1\\n',\n",
       " '\\t2.60\\n',\n",
       " '\\t-io\\n',\n",
       " '\\tThe distribution of metabolic traits\\n',\n",
       " '\\t2013\\n',\n",
       " '\\tenlightenment\\n',\n",
       " '\\t6.2%\\n',\n",
       " '\\t220 AD\\n',\n",
       " '\\tsuccessful manipulation and demagoguery\\n',\n",
       " '\\t1989\\n',\n",
       " '\\topportunities for fertilisation of flowers by animals are rare\\n',\n",
       " '\\tMajuro\\n',\n",
       " '\\tbar billiards\\n',\n",
       " '\\tcharacters\\n',\n",
       " '\\tthe Constabulary\\n',\n",
       " '\\tVasco da Gama\\n',\n",
       " '\\tmashiach\\n',\n",
       " '\\tÆlfric of Eynsham\\n',\n",
       " '\\tAdmiral Grace Hopper\\n',\n",
       " '\\tSociologist\\n',\n",
       " '\\tSlovenia\\n',\n",
       " '\\tsignal-to-noise ratio\\n',\n",
       " '\\tFélix Candela\\n',\n",
       " '\\tBelfast\\n',\n",
       " '\\t5.4%\\n',\n",
       " '\\ta few blocks\\n',\n",
       " '\\tA. V. Dicey\\n',\n",
       " '\\tHenry Ford\\n',\n",
       " '\\tuses a full-screen version of the existing desktop interface\\n',\n",
       " '\\t(hot-dip galvanizing\\n',\n",
       " '\\tUralic and Scandinavian peoples\\n',\n",
       " '\\tJodhpur and Kota\\n',\n",
       " '\\tHelmut Fend\\n',\n",
       " '\\tThe American College of the Building Arts\\n',\n",
       " '\\tBedtime Stories\\n',\n",
       " '\\ta supernatural void beyond the confines of the cosmos itself\\n',\n",
       " '\\tmicroeconomics\\n',\n",
       " '\\tthe Spanish Inquisition\\n',\n",
       " '\\tnonfunctional\\n',\n",
       " '\\tsports\\n',\n",
       " '\\tMediterranean\\n',\n",
       " '\\tBatumi bottleneck\\n',\n",
       " '\\tPorifera, Ctenophora, Cnidaria and Placozoa\\n',\n",
       " '\\tevery applicant\\n',\n",
       " '\\tthe medulla and pons\\n',\n",
       " '\\t180,000\\n',\n",
       " '\\tHindu\\n',\n",
       " '\\tWycliffe Bible\\n',\n",
       " '\\tElectromagnetic Aircraft Launch System\\n',\n",
       " '\\t1904\\n',\n",
       " '\\tAdidas\\n',\n",
       " '\\t2003\\n',\n",
       " '\\tguided missiles\\n',\n",
       " '\\tThe National Historical Publications and Records Commission\\n',\n",
       " '\\tthe annexation of Austria by the German Reich\\n',\n",
       " '\\tBirds of prey\\n',\n",
       " '\\tpermission to sell slaves in Spanish America\\n',\n",
       " '\\tSampson Mathews\\n',\n",
       " '\\thigh-interest-rate loans (3 percentage points over average)\\n',\n",
       " '\\tPoles, Czechs and Slovaks\\n',\n",
       " \"\\theat left over from Neptune's formation\\n\",\n",
       " '\\tbook of train breakdowns\\n',\n",
       " '\\twarped disk\\n',\n",
       " '\\t33%\\n',\n",
       " '\\tmodern Russia, Ukraine and Belarus\\n',\n",
       " '\\tTexans, fought a war of independence from the central government of Mexico\\n',\n",
       " '\\tChinese Communists and the Chinese Nationalists\\n',\n",
       " '\\tChina and Australia\\n',\n",
       " '\\t1963\\n',\n",
       " '\\tBlu-ray playback\\n',\n",
       " '\\tlaw\\n',\n",
       " '\\tClement Greenberg.\\n',\n",
       " '\\tHarkat-ul-Jihad al-Islami\\n',\n",
       " '\\tAppalachian Trail\\n',\n",
       " '\\t1836\\n',\n",
       " '\\tBulgarian\\n',\n",
       " '\\tChemoreception\\n',\n",
       " '\\t14,000 km\\n',\n",
       " \"\\tUnion Internationale des Associations d'Alpinisme (UIAA)\\n\",\n",
       " '\\tSymphony No. 5\\n',\n",
       " '\\trare earth and transition metals\\n',\n",
       " '\\t73%\\n',\n",
       " '\\tCleveland\\n',\n",
       " '\\tthe Board of Architectural Education under the Architects (Registration) Acts, 1931 to 1938\\n',\n",
       " '\\tscience\\n',\n",
       " '\\tsevere thunderstorms\\n',\n",
       " '\\tHigh tech, health services and biotechnology\\n',\n",
       " '\\teighteenth\\n',\n",
       " '\\tDuring the week Gaddafi slept in a mosque, and at weekends walked 20 miles to visit his parents.\\n',\n",
       " '\\tAngels\\n',\n",
       " '\\tslide game cards through their \"Digivices\\n',\n",
       " '\\tfree\\n',\n",
       " '\\tthe more disruptive protesters\\n',\n",
       " '\\tpyramidal tract.\\n',\n",
       " '\\tDreams\\n',\n",
       " '\\tcopper(II) salts\\n',\n",
       " '\\tLaboustre\\n',\n",
       " '\\tCharlotte\\n',\n",
       " '\\t772,000\\n',\n",
       " '\\tq\\n',\n",
       " '\\tGod is incorporeal\\n',\n",
       " '\\torthodoxy of rituals\\n',\n",
       " '\\t\"... you end up getting us stuck in a war in Iraq. Just ask President Bush.\"\\n',\n",
       " '\\tthe Pope and crowned monarchs\\n',\n",
       " '\\tMimicry\\n',\n",
       " '\\tYamato\\n',\n",
       " '\\tSudtone\\n',\n",
       " '\\tdifficult\\n',\n",
       " '\\tBurma (Myanmar)\" and Barack Obama has referred to the country by both names\\n',\n",
       " '\\tNew England Sea Wolves\\n',\n",
       " '\\tUtrecht remained an atypical city in the new republic with about 40% Catholic in the mid-17th century, and even more among the elite groups\\n',\n",
       " '\\tfarming\\n',\n",
       " '\\texperiment with emerging identities and to broaden their peer groups\\n',\n",
       " '\\t1165\\n',\n",
       " '\\tBoeing\\n',\n",
       " '\\tSunni\\n',\n",
       " '\\t15.1 mph\\n',\n",
       " '\\tprince or monarch\\n',\n",
       " '\\tWest Yorkshire\\n',\n",
       " '\\t1870\\n',\n",
       " '\\tObsessed\\n',\n",
       " '\\tthe Q Inn\\n',\n",
       " '\\t2009\\n',\n",
       " '\\tdrowned after his ship ran aground\\n',\n",
       " '\\tISO 400\\n',\n",
       " '\\tChristmas Day 1967\\n',\n",
       " \"\\t'off-set' angles for range and elevation\\n\",\n",
       " '\\ther mother\\n',\n",
       " '\\tsapling-sized sprouts\\n',\n",
       " '\\terror robustness\\n',\n",
       " '\\tJohn Brown\\n',\n",
       " '\\t4.41%\\n',\n",
       " '\\tbreathy-voiced\\n',\n",
       " '\\tpublic money\\n',\n",
       " '\\t1776.\\n',\n",
       " '\\tJuly 1, 1960\\n',\n",
       " '\\tUCC and Clover Hill\\n',\n",
       " '\\tthere are twice as many people leaving as entering the job market annually.\\n',\n",
       " '\\tcaffeine\\n',\n",
       " '\\tThe Medill School of Journalism\\n',\n",
       " '\\tforces in the field\\n',\n",
       " '\\tatomic and plasma\\n',\n",
       " '\\tracial stereotypes merge with gender stereotypes\\n',\n",
       " '\\tthe Philippines\\n',\n",
       " '\\tJanuary 7, 1913\\n',\n",
       " '\\tJune 2005\\n',\n",
       " '\\tImams\\n',\n",
       " '\\ttorrential rain\\n',\n",
       " '\\tPacific Northwest National Laboratory\\n',\n",
       " '\\tthree\\n',\n",
       " '\\tCompagnie des Freins et Signaux\\n',\n",
       " '\\trent boys\\n',\n",
       " '\\tCarolyne zu Sayn-Wittgenstein\\n',\n",
       " '\\tPennsylvania\\n',\n",
       " \"\\tivory painter's palette\\n\",\n",
       " '\\the refused\\n',\n",
       " '\\tMaria Nafpliotou\\n',\n",
       " '\\tLord Pashupatinath\\n',\n",
       " '\\tPhenoxy compounds\\n',\n",
       " '\\tcases such as those who have bloody diarrhea and a high fever, those with severe diarrhea following travelling, and those who grow specific bacteria or parasites\\n',\n",
       " '\\t1789\\n',\n",
       " '\\taudio input jacks\\n',\n",
       " '\\t1908\\n',\n",
       " '\\tsome denomination\\n',\n",
       " '\\tthree\\n',\n",
       " '\\tKarim Khan\\n',\n",
       " '\\tIndia and Ireland\\n',\n",
       " '\\tqaraʼa\\n',\n",
       " '\\tDaedalus\\n',\n",
       " '\\thip hop\\n',\n",
       " '\\tpieces of bone and turtle shell\\n',\n",
       " '\\thomogeneous states\\n',\n",
       " '\\teight standing together\\n',\n",
       " \"\\tDarwin's Drill\\n\",\n",
       " '\\t57,000\\n',\n",
       " '\\t1907\\n',\n",
       " '\\tis set (but not filmed) in New Haven\\n',\n",
       " '\\tSuez Canal\\n',\n",
       " '\\tAntioch\\n',\n",
       " '\\tbluish-green\\n',\n",
       " '\\tSeptember 5, 2007\\n',\n",
       " '\\tFrance\\n',\n",
       " '\\tuntil the 19th century\\n',\n",
       " '\\tBlanche and Albert\\n',\n",
       " '\\tlegendary proto-Polish chief, Lech\\n',\n",
       " '\\t1991\\n',\n",
       " '\\tfrom present-day Yunnan\\n',\n",
       " '\\tmarsupial and placental\\n',\n",
       " '\\tmultiple stacks of plates and disks\\n',\n",
       " '\\tPush-Pull\\n',\n",
       " '\\tconsumption goods and leisure activities\\n',\n",
       " '\\tpublic rites\\n',\n",
       " '\\t1613\\n',\n",
       " '\\t1960\\n',\n",
       " '\\t3,400\\n',\n",
       " '\\tApril 6\\n',\n",
       " '\\t15 July 1974\\n',\n",
       " '\\tCatalan\\n',\n",
       " '\\tusing visual alphabets.\\n',\n",
       " '\\tMilitary Governor of the U.S. Occupation Zone\\n',\n",
       " '\\tcast iron\\n',\n",
       " '\\tweather\\n',\n",
       " '\\tWal-Mart\\n',\n",
       " '\\tWilliam Milliken\\n',\n",
       " '\\tShaanxi, Gansu, and Guizhou\\n',\n",
       " '\\tHerbert Chapman\\n',\n",
       " '\\tFu Ying\\n',\n",
       " '\\tLinux\\n',\n",
       " \"\\tfocuses on the sex of the individual's sexual partner/s.\\n\",\n",
       " '\\tvary\\n',\n",
       " '\\tMongolian word that means \"warrior\"\\n',\n",
       " '\\t290 kilometers\\n',\n",
       " '\\tpoultry\\n',\n",
       " '\\t1964\\n',\n",
       " '\\t1851\\n',\n",
       " '\\tto accommodate socialist and communist principles\\n',\n",
       " '\\tensure that the machines were properly repaired\\n',\n",
       " '\\tAmerica First Committee\\n',\n",
       " '\\tmetal rod\\n',\n",
       " '\\tthe Royal Navy\\n',\n",
       " '\\tMen in Black\\n',\n",
       " '\\tMarch 2005\\n',\n",
       " '\\ta wide range of creation myths\\n',\n",
       " '\\tdue east\\n',\n",
       " \"\\tSwitzerland's isolation from the rest of Europe\\n\",\n",
       " '\\tmodular\\n',\n",
       " '\\tSupremo Tribunal Federal\\n',\n",
       " '\\tdouble happiness symbol\\n',\n",
       " '\\tArmenian Brotherhood Church\\n',\n",
       " '\\tPierre Dandumont\\n',\n",
       " '\\tthe high cost of primary battery power\\n',\n",
       " '\\tstructural integration\\n',\n",
       " '\\tPrussian army\\n',\n",
       " '\\tin 785\\n',\n",
       " '\\tRCA Music Group\\n',\n",
       " '\\t2006\\n',\n",
       " '\\tMickey Mouse\\n',\n",
       " '\\talternative\\n',\n",
       " '\\tThe Encyclopédie\\n',\n",
       " '\\t1974\\n',\n",
       " '\\tchildren, youth, and families; gerontology; health; mental health; social and economic development; family therapy; and management.\\n',\n",
       " '\\tadmission to universities and other forms of higher education\\n',\n",
       " '\\tannual exhibition of local and national consumer products\\n',\n",
       " '\\tCameroon\\n',\n",
       " '\\twater\\n',\n",
       " '\\t1981\\n',\n",
       " \"\\tSquare d'Orléans\\n\",\n",
       " '\\t1800\\n',\n",
       " '\\tMarshal Mobutu Sese Seko\\n',\n",
       " '\\t2010\\n',\n",
       " '\\tKU Memorial Unions Corporation\\n',\n",
       " '\\tnational universities\\n',\n",
       " '\\tplant sources\\n',\n",
       " '\\teggs.\\n',\n",
       " '\\thistorical and political\\n',\n",
       " '\\t1836\\n',\n",
       " '\\tany serious international rival\\n',\n",
       " '\\tAsia and Africa\\n',\n",
       " \"\\tloss of France's ally in Bengal\\n\",\n",
       " '\\tPolybius\\n',\n",
       " '\\tDusty finishes\\n',\n",
       " '\\tthe court\\n',\n",
       " '\\tregional power\\n',\n",
       " '\\tcellular appendages\\n',\n",
       " '\\tits own legal system\\n',\n",
       " '\\tLamarckism\\n',\n",
       " '\\tThe Tidewater\\n',\n",
       " '\\teffective in decreasing exacerbations of asthma\\n',\n",
       " '\\tmore complex\\n',\n",
       " '\\tSociologist\\n',\n",
       " '\\t1840\\n',\n",
       " '\\tOver 20,000\\n',\n",
       " '\\tGreek\\n',\n",
       " '\\tGeneral Pile\\n',\n",
       " '\\tLaura Barcella\\n',\n",
       " '\\tpolychaetes\\n',\n",
       " '\\tVinson Massif\\n',\n",
       " '\\t1983\\n',\n",
       " '\\tit was not well received\\n',\n",
       " '\\tDogue de Bordeaux\\n',\n",
       " '\\tresentment against the former Soviet Union\\n',\n",
       " '\\ta journal of broad legal scholarship\\n',\n",
       " '\\t2010\\n',\n",
       " '\\tmixed polarization\\n',\n",
       " '\\tworkers, agricultural workers, and slaves\\n',\n",
       " '\\tH. Leslie Quigg\\n',\n",
       " '\\tIndustrialized\\n',\n",
       " '\\tthree-step\\n',\n",
       " '\\tNon-commercial\\n',\n",
       " '\\tMDNA\\n',\n",
       " '\\tEulogius Schneider\\n',\n",
       " '\\t1939\\n',\n",
       " '\\tAdult Contemporary\\n',\n",
       " '\\tMunicipal Corporation of Delhi (MCD)\\n',\n",
       " '\\t1602\\n',\n",
       " '\\t52\\n',\n",
       " '\\tmore expensive, so its use is limited to smaller lamps\\n',\n",
       " '\\tHart Plaza\\n',\n",
       " '\\t2012\\n',\n",
       " '\\tcanoe\\n',\n",
       " '\\tMacInTouch\\n',\n",
       " '\\tNintendo DS\\n',\n",
       " '\\tthe Popular Front\\n',\n",
       " '\\tGretchen Wilson\\n',\n",
       " '\\tThe Hymn to Ninkasi\\n',\n",
       " '\\t1871\\n',\n",
       " '\\tpublic disclosure of the invention\\n',\n",
       " '\\tediting\\n',\n",
       " \"\\tNoel Pemberton Billing's patented add-on governor device\\n\",\n",
       " '\\tboys\\n',\n",
       " '\\tnaked ovules\\n',\n",
       " '\\tApril 2011\\n',\n",
       " '\\tGene Simmons\\n',\n",
       " '\\tDeshin Shekpa\\n',\n",
       " '\\tDemocrat\\n',\n",
       " '\\t1526\\n',\n",
       " '\\tto balance views in parliament\\n',\n",
       " '\\tpsychiatric crisis\\n',\n",
       " '\\tAndrew Jackson\\n',\n",
       " '\\tattack British port facilities.\\n',\n",
       " '\\tover $100m\\n',\n",
       " '\\tthe perception of bodily changes\\n',\n",
       " '\\t1982\\n',\n",
       " '\\tcompromised\\n',\n",
       " \"\\tMercy's father\\n\",\n",
       " '\\tpresent building dates from 1786\\n',\n",
       " '\\telimination of discrimination in employment\\n',\n",
       " '\\tLDS teachings\\n',\n",
       " '\\tthe Supreme Court\\n',\n",
       " '\\tchivalry\\n',\n",
       " '\\tthe 1970s\\n',\n",
       " '\\tFrench painters, particularly by the Delaunays\\n',\n",
       " '\\t1.8%\\n',\n",
       " '\\t2007\\n',\n",
       " '\\ttourism\\n',\n",
       " '\\tmilitary\\n',\n",
       " '\\tDirección Nacional de Transporte\\n',\n",
       " '\\ttropical winds\\n',\n",
       " '\\tThe Times\\n',\n",
       " \"\\tpurification was eventually associated with the feast of Mary's very conception\\n\",\n",
       " '\\tlower grade with the oak leaves\\n',\n",
       " '\\tVatican II\\n',\n",
       " '\\tMassachusetts v. Environmental Protection Agency\\n',\n",
       " '\\twithdrawal\\n',\n",
       " '\\tthe same powers\\n',\n",
       " '\\tPacific Ocean\\n',\n",
       " '\\tNAACP\\n',\n",
       " '\\t4.8 metres\\n',\n",
       " '\\t1994\\n',\n",
       " '\\tfive\\n',\n",
       " \"\\t1964 New York World's Fair\\n\",\n",
       " '\\tPacific Regional Trade\\n',\n",
       " '\\tthey have also been runners-up twice,\\n',\n",
       " '\\trelationship between angiosperms and gnetophytes\\n',\n",
       " '\\tlength of proof and number of researchers.\\n',\n",
       " '\\t150,000\\n',\n",
       " '\\tMadison Hemings\\n',\n",
       " '\\tprostate cancer\\n',\n",
       " '\\t35th Street\\n',\n",
       " '\\tOperation Active Endeavour\\n',\n",
       " '\\tJordan\\n',\n",
       " '\\tNidānakathā of the Jataka tales of the Theravada\\n',\n",
       " '\\tAppalachian Mountains.\\n',\n",
       " '\\tChinese characters\\n',\n",
       " '\\tMahayana\\n',\n",
       " '\\tSummers\\n',\n",
       " '\\tThe X Corps\\n',\n",
       " '\\tIreland\\n',\n",
       " \"\\tAs of 2010, those of African ancestry accounted for 16.0% of Florida's population\\n\",\n",
       " '\\t1735\\n',\n",
       " '\\tPrivate Eye\\n',\n",
       " '\\teukaryotes\\n',\n",
       " '\\tKansas City\\n',\n",
       " '\\tthe Duke of Orléans\\n',\n",
       " '\\tseveral\\n',\n",
       " '\\tThe annual circuit of West Country Carnivals is held in a variety of Somerset towns during the autumn\\n',\n",
       " '\\tconversion\\n',\n",
       " '\\t1836\\n',\n",
       " '\\tsupport\\n',\n",
       " '\\tthe northern Dhambalin region\\n',\n",
       " '\\tWellington Polytechnic\\n',\n",
       " \"\\tHundred Days' Reform of 1898\\n\",\n",
       " '\\tRoyal Collection of furniture and art\\n',\n",
       " '\\tunrestricted\\n',\n",
       " '\\tThree\\n',\n",
       " '\\twhen hydrogen is purified by passage through hot palladium disks\\n',\n",
       " '\\tmonotheism\\n',\n",
       " \"\\tsplit the country's second largest bank\\n\",\n",
       " '\\tJohn Kerry\\n',\n",
       " '\\tsquare\\n',\n",
       " '\\tAustralia\\n',\n",
       " '\\tfemale-empowerment\\n',\n",
       " '\\tblack women\\n',\n",
       " '\\t16th century\\n',\n",
       " '\\tdealkalization\\n',\n",
       " '\\tsolder resist\\n',\n",
       " '\\tan epic poem\\n',\n",
       " '\\tthe Pope\\n',\n",
       " \"\\tdirection of the glacier's movement\\n\",\n",
       " '\\tstandard medicinal texts\\n',\n",
       " '\\tFrom 2002 through 2008\\n',\n",
       " '\\tNew Russia\\n',\n",
       " '\\tNew Zealand Western Samoa Act 1961\\n',\n",
       " '\\tIsrael\\n',\n",
       " '\\t\"dictatorship by plebiscite.\"\\n',\n",
       " '\\tBandung\\n',\n",
       " '\\tSpeedway Boulevard\\n',\n",
       " '\\tAfrikaner nationalism\\n',\n",
       " '\\thouses\\n',\n",
       " '\\t6\\n',\n",
       " '\\t29 June 2009\\n',\n",
       " '\\tGenesis\\n',\n",
       " '\\tThomas Edison\\n',\n",
       " '\\tNagorno-Karabakh conflict\\n',\n",
       " '\\tChina, France, Russia, the United Kingdom and the United States\\n',\n",
       " '\\tSahel\\n',\n",
       " '\\t1972\\n',\n",
       " '\\tChrist\\n',\n",
       " '\\tup to a third\\n',\n",
       " '\\tan area or region is perceived to be under excessive American cultural or military influence or control\\n',\n",
       " '\\tPlumage\\n',\n",
       " '\\tFederalism\\n',\n",
       " '\\t#10\\n',\n",
       " '\\tthe Caribbean\\n',\n",
       " '\\tthe fertilizer market\\n',\n",
       " '\\t787\\n',\n",
       " '\\tdifferent regional traditions\\n',\n",
       " '\\tliver\\n',\n",
       " '\\t1194\\n',\n",
       " '\\tthe Boston Marathon\\n',\n",
       " '\\tthe Armenian chant\\n',\n",
       " '\\trecycled or recovered cotton\\n',\n",
       " '\\t1977 to 1983\\n',\n",
       " '\\tallegorically\\n',\n",
       " '\\tCentral Powers\\n',\n",
       " '\\tThe Ruleteros Society\\n',\n",
       " '\\tcandela (cd)\\n',\n",
       " '\\tCharles-Louis Clérisseau\\n',\n",
       " '\\tA small degree of warp was common,\\n',\n",
       " '\\tHamden\\n',\n",
       " '\\t12,214,853\\n',\n",
       " '\\t44%\\n',\n",
       " '\\tDavid Lindberg\\n',\n",
       " '\\t$734,000\\n',\n",
       " '\\tCredere\\n',\n",
       " '\\tCPUs compatible with x86 2nd generation\\n',\n",
       " '\\tAnhui\\n',\n",
       " '\\tKuaiji\\n',\n",
       " '\\tOrthodox Judaism\\n',\n",
       " '\\tby lottery\\n',\n",
       " '\\tCanadian and a United States\\n',\n",
       " '\\tIapetus Ocean\\n',\n",
       " '\\tthe Fuggers in Germany, the Medicis in Italy, the de la Poles in England\\n',\n",
       " '\\tAbdelbaset al-Megrahi\\n',\n",
       " '\\tSvetlana Broz\\n',\n",
       " '\\tCapetian\\n',\n",
       " '\\tA reward will be paid to any person who furnishes information which leads to an arrest, conviction, or revocation of a license\\n',\n",
       " '\\tHelena of Constantinople\\n',\n",
       " '\\t42 square miles (109 km2)\\n',\n",
       " '\\ty science-fiction and adventure\\n',\n",
       " '\\tsedate\\n',\n",
       " '\\tAmazon.com\\n',\n",
       " '\\taction, work\\n',\n",
       " '\\tsmall\\n',\n",
       " '\\t132nd Street Bus Depot\\n',\n",
       " '\\ttwo-thirds\\n',\n",
       " '\\tforward\\n',\n",
       " '\\t160 km/h\\n',\n",
       " '\\tOklahoma State University\\n',\n",
       " '\\tLambda-CDM model\\n',\n",
       " '\\t18-week\\n',\n",
       " '\\tover 100\\n',\n",
       " '\\tJohn Francis\\n',\n",
       " '\\tItalian and Spanish\\n',\n",
       " '\\tsupply power\\n',\n",
       " '\\tGenesis 9:20–21\\n',\n",
       " '\\trectangular\\n',\n",
       " '\\tnatural gas\\n',\n",
       " '\\tIslamic extremism and lawlessness within Pakistan\\n',\n",
       " '\\t1430s\\n',\n",
       " '\\tCatalan and Valencian\\n',\n",
       " '\\teveryone running Snow Leopard or later\\n',\n",
       " '\\tverbal\\n',\n",
       " '\\t\"clean picture\"\\n',\n",
       " '\\t\"Late Qing Reform\"\\n',\n",
       " '\\tmotor centers\\n',\n",
       " '\\trush hour\\n',\n",
       " '\\tGreek\\n',\n",
       " '\\tto protect its \"crime-free\" reputation\\n',\n",
       " '\\tDDT use is not always effective\\n',\n",
       " '\\tgenes\\n',\n",
       " '\\tfour pavilions\\n',\n",
       " '\\tswallowing and peristalsis\\n',\n",
       " '\\tLabour\\n',\n",
       " '\\tGreek merchant families already had contacts in other countries\\n',\n",
       " '\\t66–77 MHz\\n',\n",
       " '\\tManuel Doblado\\n',\n",
       " '\\tthe mid-infrared\\n',\n",
       " '\\tmanually\\n',\n",
       " '\\tmirror-like collector\\n',\n",
       " '\\testimate\\n',\n",
       " '\\t63 days\\n',\n",
       " '\\tNewsOK.com\\n',\n",
       " '\\tsix years\\n',\n",
       " '\\tthe root hub\\n',\n",
       " '\\tpressure, or diverting strength, onto industries\\n',\n",
       " '\\t- the cup itself, plus a lid and a base\\n',\n",
       " '\\tAnthony France\\n',\n",
       " '\\tThe area in which a glacier forms\\n',\n",
       " '\\ttwo-thirds\\n',\n",
       " '\\tTeam USA\\n',\n",
       " '\\tThe \"Core-to-Shore\" project\\n',\n",
       " '\\tthree\\n',\n",
       " '\\tWill Champion\\n',\n",
       " '\\tGrand Bassa\\n',\n",
       " '\\tGreek\\n',\n",
       " '\\t2003\\n',\n",
       " '\\tmetaphysical\\n',\n",
       " '\\tMathematics\\n',\n",
       " '\\tLiberal Democrats\\n',\n",
       " '\\t229,762\\n',\n",
       " '\\t18.74\\n',\n",
       " '\\tonce because of darkness and again to refuel\\n',\n",
       " '\\tkubhula\\n',\n",
       " '\\t\"shorts\"\\n',\n",
       " '\\tbilateral agreements on the free movement of persons\\n',\n",
       " '\\t2003\\n',\n",
       " '\\tfried\\n',\n",
       " '\\thigher\\n',\n",
       " '\\tto paint as many people as you can\\n',\n",
       " '\\t27 July 1953\\n',\n",
       " '\\tSamuel Rahbar\\n',\n",
       " '\\tlate 1980s\\n',\n",
       " '\\tUnited Nations Development Group\\n',\n",
       " '\\tIrish\\n',\n",
       " '\\t1948\\n',\n",
       " '\\tFirst Night\\n',\n",
       " '\\tshort life expectancy\\n',\n",
       " '\\t120,000\\n',\n",
       " '\\tjudge advocate general\\n',\n",
       " '\\tUniversity of Vienna\\n',\n",
       " '\\t399,339\\n',\n",
       " '\\tthe guide\\n',\n",
       " '\\tAlbanian\\n',\n",
       " '\\t1848\\n',\n",
       " '\\tSerbia, Croatia, Montenegro and Bosnia and Herzegovina.\\n',\n",
       " '\\tHermann Emil Fischer and Joseph von Mering\\n',\n",
       " '\\tits most formal, longest possible form\\n',\n",
       " '\\ttraditional\\n',\n",
       " ...]"
      ]
     },
     "execution_count": 78,
     "metadata": {},
     "output_type": "execute_result"
    }
   ],
   "source": [
    "target_texts"
   ]
  },
  {
   "cell_type": "code",
   "execution_count": null,
   "metadata": {},
   "outputs": [],
   "source": []
  },
  {
   "cell_type": "code",
   "execution_count": 49,
   "metadata": {},
   "outputs": [
    {
     "data": {
      "text/plain": [
       "('How many people watched the first episode of American Idol?',\n",
       " '\\t9.9 million\\n')"
      ]
     },
     "execution_count": 49,
     "metadata": {},
     "output_type": "execute_result"
    }
   ],
   "source": [
    "input_texts[10],target_texts[10]"
   ]
  },
  {
   "cell_type": "code",
   "execution_count": 50,
   "metadata": {},
   "outputs": [
    {
     "name": "stdout",
     "output_type": "stream",
     "text": [
      "{'.', 'ū', 'w', '8', 'í', '\"', 'ē', 'ê', 'E', 'N', 'L', 'x', 'ε', 'ν', '*', 'ὠ', 'ú', 'Ś', 'Q', 'f', '督', '2', '1', '9', 's', 'K', 'ü', 'ź', '>', 'o', ' ', 'ῖ', '7', 'é', 'α', 'z', 'u', 'g', 'κ', 'ç', '5', 'P', '6', 'ï', '-', 'b', 'U', 'R', 'H', 'ń', '!', '徒', 'c', ']', '(', 'Y', 'ρ', 'C', 'Χ', 'ī', 'd', 'q', '&', '?', 'j', ',', 'F', 'T', '+', 'δ', 'r', 'p', 'W', 'B', 'ó', 'O', '’', 'ι', '基', 'A', 'D', 'ǒ', 'a', 't', '%', ':', '3', '–', 'J', 'ě', 'y', ')', 'h', 'ß', 'ς', 'ö', 'ʰ', 'ō', 'm', 'τ', '4', 'ό', 'ā', 'ć', 'S', '0', 'V', 'X', 'e', '[', 'ἰ', 'l', 'ø', 'v', 'á', '$', '−', 'I', \"'\", 'n', 'ä', 'i', 'M', '/', 'σ', 'Ṣ', '→', 'Z', 'G', 'k'}\n"
     ]
    }
   ],
   "source": [
    "print(input_characters)"
   ]
  },
  {
   "cell_type": "code",
   "execution_count": 51,
   "metadata": {},
   "outputs": [
    {
     "name": "stdout",
     "output_type": "stream",
     "text": [
      "{'.', 'Ł', 'ū', 'w', '€', 'Š', '8', 'í', '\"', 'ē', 'ė', 'Œ', 'ñ', 'Ż', 'E', 'N', 'L', 'έ', 'x', '♠', 'ν', 'ú', 'ş', 'š', 'ò', 'Q', '°', 'f', '2', '1', '9', 'ı', 's', 'K', 'ü', 'γ', '>', 'ṇ', 'o', ' ', 'Ć', '7', 'é', 'ô', 'z', 'u', 'с', 'ğ', 'g', 'ã', 'ç', '5', 'P', '6', 'ł', 'É', 'õ', '-', 'b', 'R', 'U', 'H', 'ń', '!', 'c', '—', ']', '(', 'Y', 'β', 'ṃ', 'ṣ', 'ء', 'C', 'è', 'ī', 'd', 'q', 'č', '&', 'F', 'j', ',', '?', 'T', '”', 'ž', 'â', 'r', 'p', 'ο', 'W', 'B', 'ó', 'O', '’', 'ņ', 'A', 'D', 'a', 't', 'ũ', '%', ':', '3', '–', 'J', 'y', ')', 'h', 'ß', 'ς', 'ö', 'ō', 'm', '‘', '4', 'ā', 'ć', 'S', '0', '#', '\\n', 'ż', 'V', 'Ö', 'ấ', 'X', 'ễ', '£', 'e', '[', 'l', ';', 'v', 'à', 'á', '$', '−', 'I', 'ʼ', \"'\", 'n', '⁄', 'ä', '\\t', 'i', 'M', '/', 'Æ', '̍', '“', 'Z', 'G', 'k'}\n"
     ]
    }
   ],
   "source": [
    "print(target_characters)"
   ]
  },
  {
   "cell_type": "code",
   "execution_count": 53,
   "metadata": {},
   "outputs": [
    {
     "name": "stdout",
     "output_type": "stream",
     "text": [
      "Number of samples: 10000\n",
      "Number of unique input tokens: 130\n",
      "Number of unique output tokens: 155\n",
      "Max sequence length for inputs: 100\n",
      "Max sequence length for outputs: 183\n"
     ]
    }
   ],
   "source": [
    "input_characters = sorted(list(input_characters))\n",
    "target_characters = sorted(list(target_characters))\n",
    "num_encoder_tokens = len(input_characters)\n",
    "num_decoder_tokens = len(target_characters)\n",
    "max_encoder_seq_length = max([len(txt) for txt in input_texts])\n",
    "max_decoder_seq_length = max([len(txt) for txt in target_texts])\n",
    "\n",
    "\n",
    "print('Number of samples:', len(input_texts))\n",
    "print('Number of unique input tokens:', num_encoder_tokens)\n",
    "print('Number of unique output tokens:', num_decoder_tokens)\n",
    "print('Max sequence length for inputs:', max_encoder_seq_length)\n",
    "print('Max sequence length for outputs:', max_decoder_seq_length)"
   ]
  },
  {
   "cell_type": "code",
   "execution_count": 54,
   "metadata": {},
   "outputs": [],
   "source": [
    "input_token_index = dict(\n",
    "  [(char, i) for i, char in enumerate(input_characters)])\n",
    "target_token_index = dict(\n",
    "  [(char, i) for i, char in enumerate(target_characters)])"
   ]
  },
  {
   "cell_type": "code",
   "execution_count": null,
   "metadata": {},
   "outputs": [],
   "source": []
  },
  {
   "cell_type": "code",
   "execution_count": 299,
   "metadata": {},
   "outputs": [
    {
     "name": "stdout",
     "output_type": "stream",
     "text": [
      "{' ': 0, '!': 1, '\"': 2, '#': 3, '$': 4, '%': 5, '&': 6, \"'\": 7, '(': 8, ')': 9, '*': 10, '+': 11, ',': 12, '-': 13, '.': 14, '/': 15, '0': 16, '1': 17, '2': 18, '3': 19, '4': 20, '5': 21, '6': 22, '7': 23, '8': 24, '9': 25, ':': 26, ';': 27, '=': 28, '>': 29, '?': 30, 'A': 31, 'B': 32, 'C': 33, 'D': 34, 'E': 35, 'F': 36, 'G': 37, 'H': 38, 'I': 39, 'J': 40, 'K': 41, 'L': 42, 'M': 43, 'N': 44, 'O': 45, 'P': 46, 'Q': 47, 'R': 48, 'S': 49, 'T': 50, 'U': 51, 'V': 52, 'W': 53, 'X': 54, 'Y': 55, 'Z': 56, '[': 57, ']': 58, 'a': 59, 'b': 60, 'c': 61, 'd': 62, 'e': 63, 'f': 64, 'g': 65, 'h': 66, 'i': 67, 'j': 68, 'k': 69, 'l': 70, 'm': 71, 'n': 72, 'o': 73, 'p': 74, 'q': 75, 'r': 76, 's': 77, 't': 78, 'u': 79, 'v': 80, 'w': 81, 'x': 82, 'y': 83, 'z': 84, '×': 85, 'Ü': 86, 'à': 87, 'á': 88, 'ä': 89, 'ç': 90, 'è': 91, 'é': 92, 'ê': 93, 'í': 94, 'ï': 95, 'ñ': 96, 'ó': 97, 'ö': 98, 'ü': 99, 'ā': 100, 'ć': 101, 'ē': 102, 'ě': 103, 'ī': 104, 'İ': 105, 'ł': 106, 'ń': 107, 'Ş': 108, 'š': 109, 'ū': 110, 'ǒ': 111, 'ɪ': 112, 'ʱ': 113, '̤': 114, 'δ': 115, 'ε': 116, 'κ': 117, 'λ': 118, 'ν': 119, 'ς': 120, 'ъ': 121, 'ѳ': 122, 'Ḥ': 123, 'ḥ': 124, 'ἰ': 125, 'ῆ': 126, 'ῖ': 127, '–': 128, '’': 129, '◌': 130, '⟨': 131, '⟩': 132}\n"
     ]
    }
   ],
   "source": [
    "print(input_token_index)"
   ]
  },
  {
   "cell_type": "code",
   "execution_count": 300,
   "metadata": {},
   "outputs": [
    {
     "name": "stdout",
     "output_type": "stream",
     "text": [
      "{'\\t': 0, '\\n': 1, ' ': 2, '!': 3, '\"': 4, '#': 5, '$': 6, '%': 7, '&': 8, \"'\": 9, '(': 10, ')': 11, '*': 12, '+': 13, ',': 14, '-': 15, '.': 16, '/': 17, '0': 18, '1': 19, '2': 20, '3': 21, '4': 22, '5': 23, '6': 24, '7': 25, '8': 26, '9': 27, ':': 28, ';': 29, '>': 30, '?': 31, 'A': 32, 'B': 33, 'C': 34, 'D': 35, 'E': 36, 'F': 37, 'G': 38, 'H': 39, 'I': 40, 'J': 41, 'K': 42, 'L': 43, 'M': 44, 'N': 45, 'O': 46, 'P': 47, 'Q': 48, 'R': 49, 'S': 50, 'T': 51, 'U': 52, 'V': 53, 'W': 54, 'X': 55, 'Y': 56, 'Z': 57, '[': 58, ']': 59, 'a': 60, 'b': 61, 'c': 62, 'd': 63, 'e': 64, 'f': 65, 'g': 66, 'h': 67, 'i': 68, 'j': 69, 'k': 70, 'l': 71, 'm': 72, 'n': 73, 'o': 74, 'p': 75, 'q': 76, 'r': 77, 's': 78, 't': 79, 'u': 80, 'v': 81, 'w': 82, 'x': 83, 'y': 84, 'z': 85, '£': 86, '°': 87, '±': 88, '´': 89, 'Á': 90, 'Å': 91, 'É': 92, 'Î': 93, '×': 94, 'à': 95, 'á': 96, 'â': 97, 'ã': 98, 'ä': 99, 'å': 100, 'æ': 101, 'ç': 102, 'è': 103, 'é': 104, 'ê': 105, 'ë': 106, 'í': 107, 'ñ': 108, 'ó': 109, 'ô': 110, 'õ': 111, 'ö': 112, 'ú': 113, 'ü': 114, 'Ā': 115, 'ā': 116, 'č': 117, 'ē': 118, 'ğ': 119, 'ī': 120, 'Ł': 121, 'ł': 122, 'ń': 123, 'Ō': 124, 'ō': 125, 'Ś': 126, 'ś': 127, 'Ş': 128, 'š': 129, 'ũ': 130, 'ū': 131, 'Ż': 132, 'ż': 133, 'ž': 134, 'ǎ': 135, 'ǵ': 136, '̍': 137, 'Π': 138, 'έ': 139, 'ί': 140, 'α': 141, 'γ': 142, 'ε': 143, 'ν': 144, 'ο': 145, 'ρ': 146, 'ς': 147, 'τ': 148, 'ф': 149, 'န': 150, 'သ': 151, 'ာ': 152, 'း': 153, 'ṇ': 154, 'ṣ': 155, 'ấ': 156, 'ễ': 157, 'ῖ': 158, '–': 159, '—': 160, '‘': 161, '’': 162, '“': 163, '”': 164, '…': 165, '€': 166, '−': 167, '⟨': 168, '⟩': 169, '下': 170, '北': 171, '導': 172, '斗': 173, '星': 174, '江': 175, '泥': 176, '渤': 177, '系': 178, '統': 179, '航': 180, '衛': 181}\n"
     ]
    }
   ],
   "source": [
    "print(target_token_index)"
   ]
  },
  {
   "cell_type": "code",
   "execution_count": 56,
   "metadata": {},
   "outputs": [],
   "source": [
    "import numpy as np\n",
    "encoder_input_data = np.zeros(\n",
    "  (len(input_texts), max_encoder_seq_length, num_encoder_tokens),\n",
    "  dtype='float32')\n",
    "decoder_input_data = np.zeros(\n",
    "  (len(input_texts), max_decoder_seq_length, num_decoder_tokens),\n",
    "  dtype='float32')\n",
    "decoder_target_data = np.zeros(\n",
    "  (len(input_texts), max_decoder_seq_length, num_decoder_tokens),\n",
    "  dtype='float32')"
   ]
  },
  {
   "cell_type": "code",
   "execution_count": 57,
   "metadata": {},
   "outputs": [
    {
     "data": {
      "text/plain": [
       "((10000, 100, 130), (10000, 183, 155))"
      ]
     },
     "execution_count": 57,
     "metadata": {},
     "output_type": "execute_result"
    }
   ],
   "source": [
    "encoder_input_data.shape,decoder_input_data.shape"
   ]
  },
  {
   "cell_type": "code",
   "execution_count": 58,
   "metadata": {},
   "outputs": [],
   "source": [
    "for i, (input_text, target_text) in enumerate(zip(input_texts, target_texts)):\n",
    "    for t, char in enumerate(input_text):\n",
    "        encoder_input_data[i, t, input_token_index[char]] = 1.\n",
    "    for t, char in enumerate(target_text):\n",
    "    # decoder_target_data is ahead of decoder_input_data by one timestep\n",
    "        decoder_input_data[i, t, target_token_index[char]] = 1.\n",
    "        if t > 0:\n",
    "          # decoder_target_data will be ahead by one timestep\n",
    "          # and will not include the start character.\n",
    "            decoder_target_data[i, t - 1, target_token_index[char]] = 1."
   ]
  },
  {
   "cell_type": "code",
   "execution_count": 59,
   "metadata": {},
   "outputs": [
    {
     "data": {
      "text/plain": [
       "(130, 130)"
      ]
     },
     "execution_count": 59,
     "metadata": {},
     "output_type": "execute_result"
    }
   ],
   "source": [
    "len(encoder_input_data[0][0]),len(encoder_input_data[1][8])"
   ]
  },
  {
   "cell_type": "code",
   "execution_count": 60,
   "metadata": {},
   "outputs": [],
   "source": [
    "import keras, tensorflow\n",
    "from keras.models import Model\n",
    "from keras.layers import Input, LSTM, Dense"
   ]
  },
  {
   "cell_type": "code",
   "execution_count": 61,
   "metadata": {},
   "outputs": [],
   "source": [
    "batch_size = 64  # batch size for training\n",
    "epochs = 100  # number of epochs to train for\n",
    "latent_dim = 256  # latent dimensionality of the encoding space"
   ]
  },
  {
   "cell_type": "code",
   "execution_count": 62,
   "metadata": {},
   "outputs": [],
   "source": [
    "encoder_inputs = Input(shape=(None, num_encoder_tokens))\n",
    "encoder = LSTM(latent_dim, return_state=True)\n",
    "encoder_outputs, state_h, state_c = encoder(encoder_inputs)\n",
    "encoder_states = [state_h, state_c]\n",
    "\n",
    "\n",
    "decoder_inputs = Input(shape=(None, num_decoder_tokens))\n",
    "decoder_lstm = LSTM(latent_dim, return_sequences=True, return_state=True)\n",
    "decoder_outputs, _, _ = decoder_lstm(decoder_inputs,\n",
    "                                     initial_state=encoder_states)\n",
    "decoder_dense = Dense(num_decoder_tokens, activation='softmax')\n",
    "decoder_outputs = decoder_dense(decoder_outputs)"
   ]
  },
  {
   "cell_type": "code",
   "execution_count": 63,
   "metadata": {},
   "outputs": [],
   "source": [
    "model = Model(inputs=[encoder_inputs, decoder_inputs], \n",
    "              outputs=decoder_outputs)"
   ]
  },
  {
   "cell_type": "code",
   "execution_count": 64,
   "metadata": {},
   "outputs": [
    {
     "name": "stdout",
     "output_type": "stream",
     "text": [
      "Model: \"model_1\"\n",
      "__________________________________________________________________________________________________\n",
      "Layer (type)                    Output Shape         Param #     Connected to                     \n",
      "==================================================================================================\n",
      "input_1 (InputLayer)            (None, None, 130)    0                                            \n",
      "__________________________________________________________________________________________________\n",
      "input_2 (InputLayer)            (None, None, 155)    0                                            \n",
      "__________________________________________________________________________________________________\n",
      "lstm_1 (LSTM)                   [(None, 256), (None, 396288      input_1[0][0]                    \n",
      "__________________________________________________________________________________________________\n",
      "lstm_2 (LSTM)                   [(None, None, 256),  421888      input_2[0][0]                    \n",
      "                                                                 lstm_1[0][1]                     \n",
      "                                                                 lstm_1[0][2]                     \n",
      "__________________________________________________________________________________________________\n",
      "dense_1 (Dense)                 (None, None, 155)    39835       lstm_2[0][0]                     \n",
      "==================================================================================================\n",
      "Total params: 858,011\n",
      "Trainable params: 858,011\n",
      "Non-trainable params: 0\n",
      "__________________________________________________________________________________________________\n"
     ]
    }
   ],
   "source": [
    "model.compile(optimizer='rmsprop', loss='categorical_crossentropy')\n",
    "model.summary()"
   ]
  },
  {
   "cell_type": "code",
   "execution_count": 65,
   "metadata": {
    "scrolled": true
   },
   "outputs": [
    {
     "name": "stdout",
     "output_type": "stream",
     "text": [
      "Train on 8000 samples, validate on 2000 samples\n",
      "Epoch 1/100\n",
      "8000/8000 [==============================] - 29s 4ms/step - loss: 0.3779 - val_loss: 0.3692\n",
      "Epoch 2/100\n",
      "8000/8000 [==============================] - 27s 3ms/step - loss: 0.3409 - val_loss: 0.3301\n",
      "Epoch 3/100\n",
      "8000/8000 [==============================] - 28s 3ms/step - loss: 0.3119 - val_loss: 0.3105\n",
      "Epoch 4/100\n",
      "8000/8000 [==============================] - 28s 3ms/step - loss: 0.2983 - val_loss: 0.3023\n",
      "Epoch 5/100\n",
      "8000/8000 [==============================] - 29s 4ms/step - loss: 0.2898 - val_loss: 0.2944\n",
      "Epoch 6/100\n",
      "8000/8000 [==============================] - 29s 4ms/step - loss: 0.2827 - val_loss: 0.2883\n",
      "Epoch 7/100\n",
      "8000/8000 [==============================] - 29s 4ms/step - loss: 0.2767 - val_loss: 0.2848\n",
      "Epoch 8/100\n",
      "8000/8000 [==============================] - 29s 4ms/step - loss: 0.2714 - val_loss: 0.2792\n",
      "Epoch 9/100\n",
      "8000/8000 [==============================] - 30s 4ms/step - loss: 0.2667 - val_loss: 0.2746\n",
      "Epoch 10/100\n",
      "8000/8000 [==============================] - 28s 4ms/step - loss: 0.2625 - val_loss: 0.2709\n",
      "Epoch 11/100\n",
      "8000/8000 [==============================] - 31s 4ms/step - loss: 0.2587 - val_loss: 0.2680\n",
      "Epoch 12/100\n",
      "8000/8000 [==============================] - 30s 4ms/step - loss: 0.2549 - val_loss: 0.2642\n",
      "Epoch 13/100\n",
      "8000/8000 [==============================] - 34s 4ms/step - loss: 0.2514 - val_loss: 0.2621\n",
      "Epoch 14/100\n",
      "8000/8000 [==============================] - 30s 4ms/step - loss: 0.2479 - val_loss: 0.2599\n",
      "Epoch 15/100\n",
      "8000/8000 [==============================] - 29s 4ms/step - loss: 0.2447 - val_loss: 0.2573\n",
      "Epoch 16/100\n",
      "8000/8000 [==============================] - 28s 4ms/step - loss: 0.2413 - val_loss: 0.2564\n",
      "Epoch 17/100\n",
      "8000/8000 [==============================] - 28s 4ms/step - loss: 0.2382 - val_loss: 0.2537\n",
      "Epoch 18/100\n",
      "8000/8000 [==============================] - 28s 4ms/step - loss: 0.2352 - val_loss: 0.2524\n",
      "Epoch 19/100\n",
      "8000/8000 [==============================] - 28s 4ms/step - loss: 0.2322 - val_loss: 0.2505\n",
      "Epoch 20/100\n",
      "8000/8000 [==============================] - 28s 4ms/step - loss: 0.2292 - val_loss: 0.2505\n",
      "Epoch 21/100\n",
      "8000/8000 [==============================] - 28s 4ms/step - loss: 0.2264 - val_loss: 0.2483\n",
      "Epoch 22/100\n",
      "8000/8000 [==============================] - 28s 4ms/step - loss: 0.2236 - val_loss: 0.2479\n",
      "Epoch 23/100\n",
      "8000/8000 [==============================] - 28s 4ms/step - loss: 0.2207 - val_loss: 0.2468\n",
      "Epoch 24/100\n",
      "8000/8000 [==============================] - 28s 4ms/step - loss: 0.2181 - val_loss: 0.2465\n",
      "Epoch 25/100\n",
      "8000/8000 [==============================] - 28s 4ms/step - loss: 0.2154 - val_loss: 0.2452\n",
      "Epoch 26/100\n",
      "8000/8000 [==============================] - 28s 4ms/step - loss: 0.2128 - val_loss: 0.2453\n",
      "Epoch 27/100\n",
      "8000/8000 [==============================] - 28s 3ms/step - loss: 0.2102 - val_loss: 0.2449\n",
      "Epoch 28/100\n",
      "8000/8000 [==============================] - 28s 3ms/step - loss: 0.2077 - val_loss: 0.2450\n",
      "Epoch 29/100\n",
      "8000/8000 [==============================] - 28s 4ms/step - loss: 0.2050 - val_loss: 0.2448\n",
      "Epoch 30/100\n",
      "8000/8000 [==============================] - 29s 4ms/step - loss: 0.2025 - val_loss: 0.2451\n",
      "Epoch 31/100\n",
      "8000/8000 [==============================] - 30s 4ms/step - loss: 0.2001 - val_loss: 0.2461\n",
      "Epoch 32/100\n",
      "8000/8000 [==============================] - 28s 4ms/step - loss: 0.1975 - val_loss: 0.2459\n",
      "Epoch 33/100\n",
      "8000/8000 [==============================] - 30s 4ms/step - loss: 0.1951 - val_loss: 0.2464\n",
      "Epoch 34/100\n",
      "8000/8000 [==============================] - 28s 4ms/step - loss: 0.1927 - val_loss: 0.2479\n",
      "Epoch 35/100\n",
      "8000/8000 [==============================] - 28s 4ms/step - loss: 0.1904 - val_loss: 0.2481\n",
      "Epoch 36/100\n",
      "8000/8000 [==============================] - 28s 4ms/step - loss: 0.1882 - val_loss: 0.2491\n",
      "Epoch 37/100\n",
      "8000/8000 [==============================] - 28s 4ms/step - loss: 0.1858 - val_loss: 0.2498\n",
      "Epoch 38/100\n",
      "8000/8000 [==============================] - 28s 4ms/step - loss: 0.1836 - val_loss: 0.2497\n",
      "Epoch 39/100\n",
      "8000/8000 [==============================] - 28s 3ms/step - loss: 0.1815 - val_loss: 0.2523\n",
      "Epoch 40/100\n",
      "8000/8000 [==============================] - 28s 4ms/step - loss: 0.1793 - val_loss: 0.2526\n",
      "Epoch 41/100\n",
      "8000/8000 [==============================] - 28s 4ms/step - loss: 0.1771 - val_loss: 0.2546\n",
      "Epoch 42/100\n",
      "8000/8000 [==============================] - 28s 4ms/step - loss: 0.1751 - val_loss: 0.2548\n",
      "Epoch 43/100\n",
      "8000/8000 [==============================] - 28s 4ms/step - loss: 0.1730 - val_loss: 0.2562\n",
      "Epoch 44/100\n",
      "8000/8000 [==============================] - 29s 4ms/step - loss: 0.1710 - val_loss: 0.2590\n",
      "Epoch 45/100\n",
      "8000/8000 [==============================] - 29s 4ms/step - loss: 0.1689 - val_loss: 0.2596\n",
      "Epoch 46/100\n",
      "8000/8000 [==============================] - 28s 3ms/step - loss: 0.1670 - val_loss: 0.2605\n",
      "Epoch 47/100\n",
      "8000/8000 [==============================] - 28s 3ms/step - loss: 0.1652 - val_loss: 0.2622\n",
      "Epoch 48/100\n",
      "8000/8000 [==============================] - 28s 3ms/step - loss: 0.1634 - val_loss: 0.2641\n",
      "Epoch 49/100\n",
      "8000/8000 [==============================] - 28s 4ms/step - loss: 0.1615 - val_loss: 0.2653\n",
      "Epoch 50/100\n",
      "8000/8000 [==============================] - 28s 3ms/step - loss: 0.1599 - val_loss: 0.2662\n",
      "Epoch 51/100\n",
      "8000/8000 [==============================] - 28s 3ms/step - loss: 0.1582 - val_loss: 0.2686\n",
      "Epoch 52/100\n",
      "8000/8000 [==============================] - 28s 3ms/step - loss: 0.1563 - val_loss: 0.2690\n",
      "Epoch 53/100\n",
      "8000/8000 [==============================] - 28s 3ms/step - loss: 0.1548 - val_loss: 0.2721\n",
      "Epoch 54/100\n",
      "8000/8000 [==============================] - 28s 3ms/step - loss: 0.1531 - val_loss: 0.2728\n",
      "Epoch 55/100\n",
      "8000/8000 [==============================] - 28s 3ms/step - loss: 0.1516 - val_loss: 0.2731\n",
      "Epoch 56/100\n",
      "8000/8000 [==============================] - 28s 3ms/step - loss: 0.1502 - val_loss: 0.2747\n",
      "Epoch 57/100\n",
      "8000/8000 [==============================] - 28s 4ms/step - loss: 0.1487 - val_loss: 0.2770\n",
      "Epoch 58/100\n",
      "8000/8000 [==============================] - 28s 3ms/step - loss: 0.1471 - val_loss: 0.2795\n",
      "Epoch 59/100\n",
      "8000/8000 [==============================] - 28s 3ms/step - loss: 0.1457 - val_loss: 0.2797\n",
      "Epoch 60/100\n",
      "8000/8000 [==============================] - 28s 4ms/step - loss: 0.1444 - val_loss: 0.2832\n",
      "Epoch 61/100\n",
      "8000/8000 [==============================] - 28s 3ms/step - loss: 0.1432 - val_loss: 0.2838\n",
      "Epoch 62/100\n",
      "8000/8000 [==============================] - 28s 4ms/step - loss: 0.1420 - val_loss: 0.2853\n",
      "Epoch 63/100\n",
      "8000/8000 [==============================] - 30s 4ms/step - loss: 0.1406 - val_loss: 0.2879\n",
      "Epoch 64/100\n",
      "8000/8000 [==============================] - 29s 4ms/step - loss: 0.1394 - val_loss: 0.2893\n",
      "Epoch 65/100\n",
      "8000/8000 [==============================] - 28s 4ms/step - loss: 0.1383 - val_loss: 0.2904\n",
      "Epoch 66/100\n",
      "8000/8000 [==============================] - 28s 3ms/step - loss: 0.1372 - val_loss: 0.2911\n",
      "Epoch 67/100\n",
      "8000/8000 [==============================] - 28s 3ms/step - loss: 0.1359 - val_loss: 0.2924\n",
      "Epoch 68/100\n",
      "8000/8000 [==============================] - 28s 3ms/step - loss: 0.1349 - val_loss: 0.2947\n",
      "Epoch 69/100\n",
      "8000/8000 [==============================] - 28s 3ms/step - loss: 0.1337 - val_loss: 0.2967\n",
      "Epoch 70/100\n",
      "8000/8000 [==============================] - 28s 3ms/step - loss: 0.1326 - val_loss: 0.2987\n",
      "Epoch 71/100\n",
      "8000/8000 [==============================] - 28s 3ms/step - loss: 0.1318 - val_loss: 0.3028\n",
      "Epoch 72/100\n",
      "8000/8000 [==============================] - 28s 3ms/step - loss: 0.1309 - val_loss: 0.3019\n",
      "Epoch 73/100\n",
      "8000/8000 [==============================] - 28s 3ms/step - loss: 0.1297 - val_loss: 0.3033\n",
      "Epoch 74/100\n",
      "8000/8000 [==============================] - 28s 3ms/step - loss: 0.1288 - val_loss: 0.3050\n",
      "Epoch 75/100\n",
      "8000/8000 [==============================] - 28s 3ms/step - loss: 0.1280 - val_loss: 0.3061\n",
      "Epoch 76/100\n",
      "8000/8000 [==============================] - 28s 3ms/step - loss: 0.1268 - val_loss: 0.3083\n",
      "Epoch 77/100\n",
      "8000/8000 [==============================] - 28s 3ms/step - loss: 0.1260 - val_loss: 0.3086\n",
      "Epoch 78/100\n"
     ]
    },
    {
     "name": "stdout",
     "output_type": "stream",
     "text": [
      "8000/8000 [==============================] - 28s 3ms/step - loss: 0.1254 - val_loss: 0.3103\n",
      "Epoch 79/100\n",
      "8000/8000 [==============================] - 28s 3ms/step - loss: 0.1243 - val_loss: 0.3116\n",
      "Epoch 80/100\n",
      "8000/8000 [==============================] - 28s 3ms/step - loss: 0.1237 - val_loss: 0.3134\n",
      "Epoch 81/100\n",
      "8000/8000 [==============================] - 28s 3ms/step - loss: 0.1228 - val_loss: 0.3137\n",
      "Epoch 82/100\n",
      "8000/8000 [==============================] - 28s 3ms/step - loss: 0.1223 - val_loss: 0.3168\n",
      "Epoch 83/100\n",
      "8000/8000 [==============================] - 28s 3ms/step - loss: 0.1211 - val_loss: 0.3174\n",
      "Epoch 84/100\n",
      "8000/8000 [==============================] - 28s 3ms/step - loss: 0.1203 - val_loss: 0.3192\n",
      "Epoch 85/100\n",
      "8000/8000 [==============================] - 28s 3ms/step - loss: 0.1200 - val_loss: 0.3204\n",
      "Epoch 86/100\n",
      "8000/8000 [==============================] - 28s 3ms/step - loss: 0.1192 - val_loss: 0.3230\n",
      "Epoch 87/100\n",
      "8000/8000 [==============================] - 28s 3ms/step - loss: 0.1183 - val_loss: 0.3229\n",
      "Epoch 88/100\n",
      "8000/8000 [==============================] - 28s 3ms/step - loss: 0.1176 - val_loss: 0.3270\n",
      "Epoch 89/100\n",
      "8000/8000 [==============================] - 28s 3ms/step - loss: 0.1168 - val_loss: 0.3282\n",
      "Epoch 90/100\n",
      "8000/8000 [==============================] - 28s 3ms/step - loss: 0.1161 - val_loss: 0.3290\n",
      "Epoch 91/100\n",
      "8000/8000 [==============================] - 28s 3ms/step - loss: 0.1156 - val_loss: 0.3284\n",
      "Epoch 92/100\n",
      "8000/8000 [==============================] - 28s 3ms/step - loss: 0.1148 - val_loss: 0.3315\n",
      "Epoch 93/100\n",
      "8000/8000 [==============================] - 28s 3ms/step - loss: 0.1146 - val_loss: 0.3336\n",
      "Epoch 94/100\n",
      "8000/8000 [==============================] - 28s 3ms/step - loss: 0.1135 - val_loss: 0.3348\n",
      "Epoch 95/100\n",
      "8000/8000 [==============================] - 27s 3ms/step - loss: 0.1129 - val_loss: 0.3349\n",
      "Epoch 96/100\n",
      "8000/8000 [==============================] - 28s 3ms/step - loss: 0.1126 - val_loss: 0.3362\n",
      "Epoch 97/100\n",
      "8000/8000 [==============================] - 29s 4ms/step - loss: 0.1117 - val_loss: 0.3364\n",
      "Epoch 98/100\n",
      "8000/8000 [==============================] - 26s 3ms/step - loss: 0.1111 - val_loss: 0.3398\n",
      "Epoch 99/100\n",
      "8000/8000 [==============================] - 26s 3ms/step - loss: 0.1107 - val_loss: 0.3399\n",
      "Epoch 100/100\n",
      "8000/8000 [==============================] - 26s 3ms/step - loss: 0.1102 - val_loss: 0.3430\n"
     ]
    }
   ],
   "source": [
    "history=model.fit([encoder_input_data, decoder_input_data], decoder_target_data,\n",
    "          batch_size=batch_size,\n",
    "          epochs=epochs,\n",
    "          validation_split=0.2)\n",
    "model.save('seq2seq_eng-ger.h5')"
   ]
  },
  {
   "cell_type": "code",
   "execution_count": 66,
   "metadata": {},
   "outputs": [
    {
     "data": {
      "text/plain": [
       "[<matplotlib.lines.Line2D at 0x2399624b3c8>]"
      ]
     },
     "execution_count": 66,
     "metadata": {},
     "output_type": "execute_result"
    },
    {
     "data": {
      "image/png": "[encoded data removed]",
      "text/plain": [
       "<Figure size 432x288 with 1 Axes>"
      ]
     },
     "metadata": {
      "needs_background": "light"
     },
     "output_type": "display_data"
    }
   ],
   "source": [
    "pl.plot(history.history['loss'])"
   ]
  },
  {
   "cell_type": "code",
   "execution_count": 67,
   "metadata": {},
   "outputs": [
    {
     "data": {
      "text/plain": [
       "[<matplotlib.lines.Line2D at 0x239962b5308>]"
      ]
     },
     "execution_count": 67,
     "metadata": {},
     "output_type": "execute_result"
    },
    {
     "data": {
      "image/png": "[encoded data removed]",
      "text/plain": [
       "<Figure size 432x288 with 1 Axes>"
      ]
     },
     "metadata": {
      "needs_background": "light"
     },
     "output_type": "display_data"
    }
   ],
   "source": [
    "pl.plot(history.history['val_loss'])"
   ]
  },
  {
   "cell_type": "code",
   "execution_count": 68,
   "metadata": {},
   "outputs": [],
   "source": [
    "model = Model([encoder_inputs, decoder_inputs], decoder_outputs)\n",
    "model.compile(optimizer='rmsprop', loss='categorical_crossentropy')\n",
    "model.load_weights('seq2seq_eng-ger.h5')"
   ]
  },
  {
   "cell_type": "code",
   "execution_count": 69,
   "metadata": {},
   "outputs": [],
   "source": [
    "encoder_model = Model(encoder_inputs, encoder_states)\n",
    "\n",
    "decoder_state_input_h = Input(shape=(latent_dim,))\n",
    "decoder_state_input_c = Input(shape=(latent_dim,))\n",
    "decoder_states_inputs = [decoder_state_input_h, decoder_state_input_c]\n",
    "\n",
    "decoder_outputs, state_h, state_c = decoder_lstm(\n",
    "  decoder_inputs, initial_state=decoder_states_inputs)\n",
    "decoder_states = [state_h, state_c]\n",
    "decoder_outputs = decoder_dense(decoder_outputs)\n",
    "\n",
    "decoder_model = Model(\n",
    "  [decoder_inputs] + decoder_states_inputs,\n",
    "  [decoder_outputs] + decoder_states)"
   ]
  },
  {
   "cell_type": "code",
   "execution_count": 70,
   "metadata": {},
   "outputs": [],
   "source": [
    "# reverse-lookup token index to turn sequences back to characters\n",
    "reverse_input_char_index = dict(\n",
    "  (i, char) for char, i in input_token_index.items())\n",
    "reverse_target_char_index = dict(\n",
    "  (i, char) for char, i in target_token_index.items())"
   ]
  },
  {
   "cell_type": "code",
   "execution_count": 72,
   "metadata": {},
   "outputs": [
    {
     "name": "stdout",
     "output_type": "stream",
     "text": [
      "-\n",
      "Input sentence: Where were begging children often targeted for being sold into slavery?\n",
      "Decoded sentence: the Baindand Seatly Chorestor\n",
      "\n",
      "-\n",
      "Input sentence: What is the term for tranquility?\n",
      "Decoded sentence: the Baindand Seatly Chorestor\n",
      "\n",
      "-\n",
      "Input sentence: Which country had successful public analog HDTV broadcasting?\n",
      "Decoded sentence: the Baindand Seatly Chorestor\n",
      "\n",
      "-\n",
      "Input sentence: What does ftp stand for?\n",
      "Decoded sentence: the Baindand Seatly Chorestor\n",
      "\n",
      "-\n",
      "Input sentence: Who defined mammalian as the crown group mammals?\n",
      "Decoded sentence: the Baindand Seatly Chorestor\n",
      "\n",
      "-\n",
      "Input sentence: What did the PVA and KPA gain by using the tactics during the Third Phase Offensive\n",
      "Decoded sentence: the Baindand Seatly Chorestor\n",
      "\n",
      "-\n",
      "Input sentence: What lake has some hotels around it?\n",
      "Decoded sentence: the Baindand Seatly Chorestor\n",
      "\n",
      "-\n",
      "Input sentence: What was the title of the book written by Thomas Sowell?\n",
      "Decoded sentence: the Baindand Seatly Chorestor\n",
      "\n",
      "-\n",
      "Input sentence: What is the estimated number of Buddhists in the world?\n",
      "Decoded sentence: the Baindand Seatly Chorestor\n",
      "\n",
      "-\n",
      "Input sentence: What are the gametes produced by females called?\n",
      "Decoded sentence: the Baindand Seatly Chorestor\n",
      "\n"
     ]
    }
   ],
   "source": [
    "def decode_sequence(input_seq):\n",
    "  # encode the input sequence to get the internal state vectors.\n",
    "    states_value = encoder_model.predict(input_seq)\n",
    "  \n",
    "  # generate empty target sequence of length 1 with only the start character\n",
    "    target_seq = np.zeros((1, 1, num_decoder_tokens))\n",
    "    target_seq[0, 0, target_token_index['\\t']] = 1.\n",
    "\n",
    "    # output sequence loop\n",
    "    stop_condition = False\n",
    "    decoded_sentence = ''\n",
    "    while not stop_condition:\n",
    "        output_tokens, h, c = decoder_model.predict(\n",
    "          [target_seq] + states_value)\n",
    "\n",
    "    # sample a token and add the corresponding character to the \n",
    "    # decoded sequence\n",
    "        sampled_token_index = np.argmax(output_tokens[0, -1, :])\n",
    "        sampled_char = reverse_target_char_index[sampled_token_index]\n",
    "        decoded_sentence += sampled_char\n",
    "\n",
    "        # check for the exit condition: either hitting max length\n",
    "        # or predicting the 'stop' character\n",
    "        if (sampled_char == '\\n' or \n",
    "            len(decoded_sentence) > max_decoder_seq_length):\n",
    "                stop_condition = True\n",
    "\n",
    "        # update the target sequence (length 1).\n",
    "        target_seq = np.zeros((1, 1, num_decoder_tokens))\n",
    "        target_seq[0, 0, sampled_token_index] = 1.\n",
    "\n",
    "        # update states\n",
    "        states_value = [h, c]\n",
    "\n",
    "    return decoded_sentence\n",
    "\n",
    "\n",
    "for seq_index in range(10):\n",
    "    input_seq = encoder_input_data[seq_index: seq_index + 1]\n",
    "    decoded_sentence = decode_sequence(input_seq)\n",
    "    print('-')\n",
    "    print('Input sentence:', input_texts[seq_index])\n",
    "    print('Decoded sentence:', decoded_sentence)"
   ]
  },
  {
   "cell_type": "code",
   "execution_count": 76,
   "metadata": {},
   "outputs": [
    {
     "name": "stdout",
     "output_type": "stream",
     "text": [
      "How are you?\n",
      "the Baindand Seatly Chorestor\n",
      "\n"
     ]
    }
   ],
   "source": [
    "input_sentence = \"How are you?\"\n",
    "test_sentence_tokenized = np.zeros(\n",
    "  (1, max_encoder_seq_length, num_encoder_tokens), dtype='float32')\n",
    "for t, char in enumerate(input_sentence):\n",
    "    test_sentence_tokenized[0, t, input_token_index[char]] = 1.\n",
    "print(input_sentence)\n",
    "print(decode_sequence(test_sentence_tokenized))"
   ]
  },
  {
   "cell_type": "code",
   "execution_count": null,
   "metadata": {},
   "outputs": [],
   "source": []
  },
  {
   "cell_type": "code",
   "execution_count": null,
   "metadata": {},
   "outputs": [],
   "source": []
  },
  {
   "cell_type": "code",
   "execution_count": null,
   "metadata": {},
   "outputs": [],
   "source": []
  },
  {
   "cell_type": "code",
   "execution_count": null,
   "metadata": {},
   "outputs": [],
   "source": []
  },
  {
   "cell_type": "code",
   "execution_count": null,
   "metadata": {},
   "outputs": [],
   "source": []
  },
  {
   "cell_type": "code",
   "execution_count": null,
   "metadata": {},
   "outputs": [],
   "source": []
  },
  {
   "cell_type": "code",
   "execution_count": null,
   "metadata": {},
   "outputs": [],
   "source": []
  },
  {
   "cell_type": "code",
   "execution_count": null,
   "metadata": {},
   "outputs": [],
   "source": []
  },
  {
   "cell_type": "code",
   "execution_count": null,
   "metadata": {},
   "outputs": [],
   "source": []
  },
  {
   "cell_type": "code",
   "execution_count": null,
   "metadata": {},
   "outputs": [],
   "source": []
  },
  {
   "cell_type": "code",
   "execution_count": null,
   "metadata": {},
   "outputs": [],
   "source": []
  },
  {
   "cell_type": "code",
   "execution_count": null,
   "metadata": {},
   "outputs": [],
   "source": []
  },
  {
   "cell_type": "code",
   "execution_count": null,
   "metadata": {},
   "outputs": [],
   "source": []
  },
  {
   "cell_type": "code",
   "execution_count": null,
   "metadata": {},
   "outputs": [],
   "source": []
  },
  {
   "cell_type": "code",
   "execution_count": null,
   "metadata": {},
   "outputs": [],
   "source": []
  },
  {
   "cell_type": "code",
   "execution_count": null,
   "metadata": {},
   "outputs": [],
   "source": []
  },
  {
   "cell_type": "code",
   "execution_count": null,
   "metadata": {},
   "outputs": [],
   "source": []
  },
  {
   "cell_type": "code",
   "execution_count": null,
   "metadata": {},
   "outputs": [],
   "source": []
  },
  {
   "cell_type": "code",
   "execution_count": null,
   "metadata": {},
   "outputs": [],
   "source": []
  },
  {
   "cell_type": "code",
   "execution_count": null,
   "metadata": {},
   "outputs": [],
   "source": []
  },
  {
   "cell_type": "code",
   "execution_count": null,
   "metadata": {},
   "outputs": [],
   "source": []
  },
  {
   "cell_type": "code",
   "execution_count": null,
   "metadata": {},
   "outputs": [],
   "source": []
  },
  {
   "cell_type": "code",
   "execution_count": null,
   "metadata": {},
   "outputs": [],
   "source": []
  },
  {
   "cell_type": "code",
   "execution_count": null,
   "metadata": {},
   "outputs": [],
   "source": []
  },
  {
   "cell_type": "code",
   "execution_count": null,
   "metadata": {},
   "outputs": [],
   "source": []
  },
  {
   "cell_type": "code",
   "execution_count": null,
   "metadata": {},
   "outputs": [],
   "source": []
  },
  {
   "cell_type": "code",
   "execution_count": null,
   "metadata": {},
   "outputs": [],
   "source": []
  },
  {
   "cell_type": "code",
   "execution_count": null,
   "metadata": {},
   "outputs": [],
   "source": []
  },
  {
   "cell_type": "code",
   "execution_count": null,
   "metadata": {},
   "outputs": [],
   "source": []
  },
  {
   "cell_type": "code",
   "execution_count": null,
   "metadata": {},
   "outputs": [],
   "source": []
  },
  {
   "cell_type": "code",
   "execution_count": null,
   "metadata": {},
   "outputs": [],
   "source": []
  },
  {
   "cell_type": "code",
   "execution_count": null,
   "metadata": {},
   "outputs": [],
   "source": []
  },
  {
   "cell_type": "code",
   "execution_count": null,
   "metadata": {},
   "outputs": [],
   "source": []
  },
  {
   "cell_type": "code",
   "execution_count": null,
   "metadata": {},
   "outputs": [],
   "source": []
  },
  {
   "cell_type": "code",
   "execution_count": null,
   "metadata": {},
   "outputs": [],
   "source": []
  },
  {
   "cell_type": "code",
   "execution_count": null,
   "metadata": {},
   "outputs": [],
   "source": []
  },
  {
   "cell_type": "code",
   "execution_count": null,
   "metadata": {},
   "outputs": [],
   "source": []
  },
  {
   "cell_type": "code",
   "execution_count": null,
   "metadata": {},
   "outputs": [],
   "source": []
  },
  {
   "cell_type": "code",
   "execution_count": null,
   "metadata": {},
   "outputs": [],
   "source": []
  },
  {
   "cell_type": "code",
   "execution_count": null,
   "metadata": {},
   "outputs": [],
   "source": []
  },
  {
   "cell_type": "code",
   "execution_count": null,
   "metadata": {},
   "outputs": [],
   "source": []
  },
  {
   "cell_type": "code",
   "execution_count": null,
   "metadata": {},
   "outputs": [],
   "source": []
  },
  {
   "cell_type": "code",
   "execution_count": null,
   "metadata": {},
   "outputs": [],
   "source": []
  },
  {
   "cell_type": "code",
   "execution_count": null,
   "metadata": {},
   "outputs": [],
   "source": []
  },
  {
   "cell_type": "code",
   "execution_count": null,
   "metadata": {},
   "outputs": [],
   "source": []
  },
  {
   "cell_type": "code",
   "execution_count": null,
   "metadata": {},
   "outputs": [],
   "source": []
  },
  {
   "cell_type": "code",
   "execution_count": null,
   "metadata": {},
   "outputs": [],
   "source": []
  },
  {
   "cell_type": "code",
   "execution_count": null,
   "metadata": {},
   "outputs": [],
   "source": []
  },
  {
   "cell_type": "code",
   "execution_count": null,
   "metadata": {},
   "outputs": [],
   "source": []
  },
  {
   "cell_type": "code",
   "execution_count": null,
   "metadata": {},
   "outputs": [],
   "source": []
  },
  {
   "cell_type": "code",
   "execution_count": null,
   "metadata": {},
   "outputs": [],
   "source": []
  },
  {
   "cell_type": "code",
   "execution_count": null,
   "metadata": {},
   "outputs": [],
   "source": []
  },
  {
   "cell_type": "code",
   "execution_count": null,
   "metadata": {},
   "outputs": [],
   "source": []
  },
  {
   "cell_type": "code",
   "execution_count": null,
   "metadata": {},
   "outputs": [],
   "source": []
  },
  {
   "cell_type": "code",
   "execution_count": null,
   "metadata": {},
   "outputs": [],
   "source": []
  },
  {
   "cell_type": "code",
   "execution_count": null,
   "metadata": {},
   "outputs": [],
   "source": []
  },
  {
   "cell_type": "code",
   "execution_count": null,
   "metadata": {},
   "outputs": [],
   "source": []
  },
  {
   "cell_type": "code",
   "execution_count": null,
   "metadata": {},
   "outputs": [],
   "source": []
  },
  {
   "cell_type": "code",
   "execution_count": null,
   "metadata": {},
   "outputs": [],
   "source": []
  },
  {
   "cell_type": "code",
   "execution_count": null,
   "metadata": {},
   "outputs": [],
   "source": []
  },
  {
   "cell_type": "code",
   "execution_count": null,
   "metadata": {},
   "outputs": [],
   "source": []
  },
  {
   "cell_type": "code",
   "execution_count": null,
   "metadata": {},
   "outputs": [],
   "source": []
  },
  {
   "cell_type": "code",
   "execution_count": null,
   "metadata": {},
   "outputs": [],
   "source": []
  },
  {
   "cell_type": "code",
   "execution_count": null,
   "metadata": {},
   "outputs": [],
   "source": []
  },
  {
   "cell_type": "code",
   "execution_count": null,
   "metadata": {},
   "outputs": [],
   "source": []
  },
  {
   "cell_type": "code",
   "execution_count": null,
   "metadata": {},
   "outputs": [],
   "source": []
  },
  {
   "cell_type": "code",
   "execution_count": null,
   "metadata": {},
   "outputs": [],
   "source": []
  },
  {
   "cell_type": "code",
   "execution_count": null,
   "metadata": {},
   "outputs": [],
   "source": []
  },
  {
   "cell_type": "code",
   "execution_count": null,
   "metadata": {},
   "outputs": [],
   "source": []
  },
  {
   "cell_type": "code",
   "execution_count": null,
   "metadata": {},
   "outputs": [],
   "source": []
  },
  {
   "cell_type": "code",
   "execution_count": null,
   "metadata": {},
   "outputs": [],
   "source": []
  },
  {
   "cell_type": "code",
   "execution_count": null,
   "metadata": {},
   "outputs": [],
   "source": []
  },
  {
   "cell_type": "code",
   "execution_count": null,
   "metadata": {},
   "outputs": [],
   "source": []
  },
  {
   "cell_type": "code",
   "execution_count": null,
   "metadata": {},
   "outputs": [],
   "source": []
  },
  {
   "cell_type": "code",
   "execution_count": null,
   "metadata": {},
   "outputs": [],
   "source": []
  },
  {
   "cell_type": "code",
   "execution_count": null,
   "metadata": {},
   "outputs": [],
   "source": []
  },
  {
   "cell_type": "code",
   "execution_count": null,
   "metadata": {},
   "outputs": [],
   "source": []
  },
  {
   "cell_type": "code",
   "execution_count": null,
   "metadata": {},
   "outputs": [],
   "source": []
  },
  {
   "cell_type": "code",
   "execution_count": null,
   "metadata": {},
   "outputs": [],
   "source": []
  },
  {
   "cell_type": "code",
   "execution_count": null,
   "metadata": {},
   "outputs": [],
   "source": []
  },
  {
   "cell_type": "code",
   "execution_count": null,
   "metadata": {},
   "outputs": [],
   "source": []
  },
  {
   "cell_type": "code",
   "execution_count": null,
   "metadata": {},
   "outputs": [],
   "source": []
  },
  {
   "cell_type": "code",
   "execution_count": null,
   "metadata": {},
   "outputs": [],
   "source": []
  },
  {
   "cell_type": "code",
   "execution_count": null,
   "metadata": {},
   "outputs": [],
   "source": []
  },
  {
   "cell_type": "code",
   "execution_count": null,
   "metadata": {},
   "outputs": [],
   "source": []
  },
  {
   "cell_type": "code",
   "execution_count": null,
   "metadata": {},
   "outputs": [],
   "source": []
  },
  {
   "cell_type": "code",
   "execution_count": null,
   "metadata": {},
   "outputs": [],
   "source": []
  },
  {
   "cell_type": "code",
   "execution_count": null,
   "metadata": {},
   "outputs": [],
   "source": []
  },
  {
   "cell_type": "code",
   "execution_count": null,
   "metadata": {},
   "outputs": [],
   "source": []
  },
  {
   "cell_type": "code",
   "execution_count": null,
   "metadata": {},
   "outputs": [],
   "source": []
  },
  {
   "cell_type": "code",
   "execution_count": null,
   "metadata": {},
   "outputs": [],
   "source": []
  },
  {
   "cell_type": "code",
   "execution_count": null,
   "metadata": {},
   "outputs": [],
   "source": []
  },
  {
   "cell_type": "code",
   "execution_count": null,
   "metadata": {},
   "outputs": [],
   "source": []
  },
  {
   "cell_type": "code",
   "execution_count": null,
   "metadata": {},
   "outputs": [],
   "source": []
  },
  {
   "cell_type": "code",
   "execution_count": null,
   "metadata": {},
   "outputs": [],
   "source": []
  },
  {
   "cell_type": "code",
   "execution_count": null,
   "metadata": {},
   "outputs": [],
   "source": []
  },
  {
   "cell_type": "code",
   "execution_count": null,
   "metadata": {},
   "outputs": [],
   "source": []
  },
  {
   "cell_type": "code",
   "execution_count": null,
   "metadata": {},
   "outputs": [],
   "source": []
  },
  {
   "cell_type": "code",
   "execution_count": null,
   "metadata": {},
   "outputs": [],
   "source": []
  },
  {
   "cell_type": "code",
   "execution_count": null,
   "metadata": {},
   "outputs": [],
   "source": []
  },
  {
   "cell_type": "code",
   "execution_count": null,
   "metadata": {},
   "outputs": [],
   "source": []
  },
  {
   "cell_type": "code",
   "execution_count": null,
   "metadata": {},
   "outputs": [],
   "source": []
  },
  {
   "cell_type": "code",
   "execution_count": null,
   "metadata": {},
   "outputs": [],
   "source": []
  },
  {
   "cell_type": "code",
   "execution_count": null,
   "metadata": {},
   "outputs": [],
   "source": []
  },
  {
   "cell_type": "code",
   "execution_count": null,
   "metadata": {},
   "outputs": [],
   "source": []
  },
  {
   "cell_type": "code",
   "execution_count": null,
   "metadata": {},
   "outputs": [],
   "source": []
  },
  {
   "cell_type": "code",
   "execution_count": null,
   "metadata": {},
   "outputs": [],
   "source": []
  },
  {
   "cell_type": "code",
   "execution_count": null,
   "metadata": {},
   "outputs": [],
   "source": []
  },
  {
   "cell_type": "code",
   "execution_count": null,
   "metadata": {},
   "outputs": [],
   "source": []
  },
  {
   "cell_type": "code",
   "execution_count": null,
   "metadata": {},
   "outputs": [],
   "source": []
  },
  {
   "cell_type": "code",
   "execution_count": null,
   "metadata": {},
   "outputs": [],
   "source": []
  },
  {
   "cell_type": "code",
   "execution_count": null,
   "metadata": {},
   "outputs": [],
   "source": []
  },
  {
   "cell_type": "code",
   "execution_count": null,
   "metadata": {},
   "outputs": [],
   "source": []
  },
  {
   "cell_type": "code",
   "execution_count": null,
   "metadata": {},
   "outputs": [],
   "source": []
  },
  {
   "cell_type": "code",
   "execution_count": null,
   "metadata": {},
   "outputs": [],
   "source": []
  },
  {
   "cell_type": "code",
   "execution_count": null,
   "metadata": {},
   "outputs": [],
   "source": []
  },
  {
   "cell_type": "code",
   "execution_count": null,
   "metadata": {},
   "outputs": [],
   "source": []
  },
  {
   "cell_type": "code",
   "execution_count": null,
   "metadata": {},
   "outputs": [],
   "source": []
  },
  {
   "cell_type": "code",
   "execution_count": null,
   "metadata": {},
   "outputs": [],
   "source": []
  },
  {
   "cell_type": "code",
   "execution_count": null,
   "metadata": {},
   "outputs": [],
   "source": []
  },
  {
   "cell_type": "code",
   "execution_count": null,
   "metadata": {},
   "outputs": [],
   "source": []
  },
  {
   "cell_type": "code",
   "execution_count": null,
   "metadata": {},
   "outputs": [],
   "source": []
  },
  {
   "cell_type": "code",
   "execution_count": null,
   "metadata": {},
   "outputs": [],
   "source": []
  },
  {
   "cell_type": "code",
   "execution_count": null,
   "metadata": {},
   "outputs": [],
   "source": []
  },
  {
   "cell_type": "code",
   "execution_count": null,
   "metadata": {},
   "outputs": [],
   "source": []
  },
  {
   "cell_type": "code",
   "execution_count": null,
   "metadata": {},
   "outputs": [],
   "source": []
  },
  {
   "cell_type": "code",
   "execution_count": null,
   "metadata": {},
   "outputs": [],
   "source": []
  },
  {
   "cell_type": "code",
   "execution_count": null,
   "metadata": {},
   "outputs": [],
   "source": []
  },
  {
   "cell_type": "code",
   "execution_count": null,
   "metadata": {},
   "outputs": [],
   "source": []
  },
  {
   "cell_type": "code",
   "execution_count": null,
   "metadata": {},
   "outputs": [],
   "source": []
  },
  {
   "cell_type": "code",
   "execution_count": null,
   "metadata": {},
   "outputs": [],
   "source": []
  },
  {
   "cell_type": "code",
   "execution_count": null,
   "metadata": {},
   "outputs": [],
   "source": []
  },
  {
   "cell_type": "code",
   "execution_count": null,
   "metadata": {},
   "outputs": [],
   "source": []
  },
  {
   "cell_type": "code",
   "execution_count": null,
   "metadata": {},
   "outputs": [],
   "source": []
  },
  {
   "cell_type": "code",
   "execution_count": null,
   "metadata": {},
   "outputs": [],
   "source": []
  },
  {
   "cell_type": "code",
   "execution_count": null,
   "metadata": {},
   "outputs": [],
   "source": []
  },
  {
   "cell_type": "code",
   "execution_count": null,
   "metadata": {},
   "outputs": [],
   "source": []
  },
  {
   "cell_type": "code",
   "execution_count": null,
   "metadata": {},
   "outputs": [],
   "source": []
  },
  {
   "cell_type": "code",
   "execution_count": null,
   "metadata": {},
   "outputs": [],
   "source": []
  },
  {
   "cell_type": "code",
   "execution_count": null,
   "metadata": {},
   "outputs": [],
   "source": []
  },
  {
   "cell_type": "code",
   "execution_count": null,
   "metadata": {},
   "outputs": [],
   "source": []
  }
 ],
 "metadata": {
  "kernelspec": {
   "display_name": "Python 3",
   "language": "python",
   "name": "python3"
  },
  "language_info": {
   "codemirror_mode": {
    "name": "ipython",
    "version": 3
   },
   "file_extension": ".py",
   "mimetype": "text/x-python",
   "name": "python",
   "nbconvert_exporter": "python",
   "pygments_lexer": "ipython3",
   "version": "3.7.7"
  }
 },
 "nbformat": 4,
 "nbformat_minor": 4
}
