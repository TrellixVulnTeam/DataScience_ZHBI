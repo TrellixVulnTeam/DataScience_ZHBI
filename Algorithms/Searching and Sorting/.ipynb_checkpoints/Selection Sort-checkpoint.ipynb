{
 "cells": [
  {
   "cell_type": "code",
   "execution_count": 4,
   "metadata": {},
   "outputs": [
    {
     "name": "stdout",
     "output_type": "stream",
     "text": [
      "[1, 2, 3, 4, 4, 5, 6, 9, 12, 12, 31, 32, 46, 87, 89, 645]\n"
     ]
    }
   ],
   "source": [
    "def selectionSort(array):\n",
    "    for i in range(len(array)):\n",
    "        min_index=i\n",
    "        for j in range(i+1,len(array)):\n",
    "            if array[min_index]>array[j]:\n",
    "                min_index=j\n",
    "        array[i],array[min_index]=array[min_index],array[i]\n",
    "    print(array)\n",
    "    \n",
    "    \n",
    "    \n",
    "    \n",
    "    \n",
    "    \n",
    "    \n",
    "    \n",
    "array=[1,4,2,5,89,46,12,3,32,6,4,87,9,645,12,31]\n",
    "selectionSort(array)"
   ]
  }
 ],
 "metadata": {
  "kernelspec": {
   "display_name": "Python 3",
   "language": "python",
   "name": "python3"
  },
  "language_info": {
   "codemirror_mode": {
    "name": "ipython",
    "version": 3
   },
   "file_extension": ".py",
   "mimetype": "text/x-python",
   "name": "python",
   "nbconvert_exporter": "python",
   "pygments_lexer": "ipython3",
   "version": "3.7.7"
  }
 },
 "nbformat": 4,
 "nbformat_minor": 4
}
