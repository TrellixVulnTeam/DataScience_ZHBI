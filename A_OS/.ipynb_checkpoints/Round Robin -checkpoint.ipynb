{
 "cells": [
  {
   "cell_type": "code",
   "execution_count": 21,
   "metadata": {},
   "outputs": [
    {
     "name": "stdout",
     "output_type": "stream",
     "text": [
      "['P1' 'P3']\n"
     ]
    }
   ],
   "source": [
    "import numpy as np\n",
    "\n",
    "\n",
    "\n",
    "def check_next_arrival(arrival,current_time):\n",
    "    next_arrivals=[]\n",
    "    for i in range(len(arrival)):\n",
    "        if arrival[i]<current_time:\n",
    "            next_arrivals.append(i)\n",
    "    return next_arrivals\n",
    "            \n",
    "    \n",
    "    \n",
    "    \n",
    "\n",
    "\n",
    "\n",
    "\n",
    "\n",
    "\n",
    "\n",
    "\n",
    "\n",
    "def round_robin(processes,arrival,burst,time_quantam):\n",
    "    ready_queue=[]\n",
    "    running=[]\n",
    "    current_time=0\n",
    "    \n",
    "    next_arrival_index=np.array(check_next_arrival(arrival,4))\n",
    "    print(processes[next_arrival_index])\n",
    "\n",
    "\n",
    "\n",
    "\n",
    "\n",
    "\n",
    "\n",
    "\n",
    "\n",
    "processes=np.array(['P1','P2','P3','P4','P5'])\n",
    "arrival=np.array([0,5,1,6,8])\n",
    "burst=np.array([8,2,7,3,5])\n",
    "time_quantam=2\n",
    "\n",
    "\n",
    "\n",
    "round_robin(processes,arrival,burst,time_quantam)"
   ]
  },
  {
   "cell_type": "code",
   "execution_count": null,
   "metadata": {},
   "outputs": [],
   "source": []
  },
  {
   "cell_type": "code",
   "execution_count": 17,
   "metadata": {},
   "outputs": [
    {
     "data": {
      "text/plain": [
       "array([1, 2])"
      ]
     },
     "execution_count": 17,
     "metadata": {},
     "output_type": "execute_result"
    }
   ],
   "source": [
    "a=np.array([1,2,3,4,5])\n",
    "a[[0,1]]"
   ]
  },
  {
   "cell_type": "code",
   "execution_count": 4,
   "metadata": {},
   "outputs": [
    {
     "data": {
      "text/plain": [
       "1"
      ]
     },
     "execution_count": 4,
     "metadata": {},
     "output_type": "execute_result"
    }
   ],
   "source": [
    "np.argmin([9,2,3])"
   ]
  }
 ],
 "metadata": {
  "kernelspec": {
   "display_name": "Python 3",
   "language": "python",
   "name": "python3"
  },
  "language_info": {
   "codemirror_mode": {
    "name": "ipython",
    "version": 3
   },
   "file_extension": ".py",
   "mimetype": "text/x-python",
   "name": "python",
   "nbconvert_exporter": "python",
   "pygments_lexer": "ipython3",
   "version": "3.7.7"
  }
 },
 "nbformat": 4,
 "nbformat_minor": 4
}
