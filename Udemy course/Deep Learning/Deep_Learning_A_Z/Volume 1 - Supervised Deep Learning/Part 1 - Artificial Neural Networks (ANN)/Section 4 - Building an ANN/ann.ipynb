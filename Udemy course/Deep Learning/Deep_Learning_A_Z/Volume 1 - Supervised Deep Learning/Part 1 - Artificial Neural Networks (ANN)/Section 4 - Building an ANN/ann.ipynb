{
 "cells": [
  {
   "cell_type": "code",
   "execution_count": 8,
   "metadata": {},
   "outputs": [
    {
     "name": "stdout",
     "output_type": "stream",
     "text": [
      "Device mapping:\n",
      "/job:localhost/replica:0/task:0/device:GPU:0 -> device: 0, name: GeForce GTX 1050 Ti, pci bus id: 0000:01:00.0, compute capability: 6.1\n",
      "\n"
     ]
    }
   ],
   "source": [
    "import numpy as np\n",
    "import pandas as pd\n",
    "import matplotlib.pyplot as plt\n",
    "from sklearn.preprocessing import LabelEncoder,OneHotEncoder\n",
    "from sklearn.compose import ColumnTransformer\n",
    "from sklearn.model_selection import train_test_split\n",
    "from sklearn.preprocessing import StandardScaler\n",
    "import keras\n",
    "from keras.models import Sequential\n",
    "from keras.layers import Dense\n",
    "\n",
    "from keras.backend.tensorflow_backend import set_session\n",
    "import tensorflow as tf\n",
    "config = tf.compat.v1.ConfigProto()\n",
    "config.gpu_options.allow_growth = True  # dynamically grow the memory used on the GPU\n",
    "config.log_device_placement = True  # to log device placement (on which device the operation ran)\n",
    "sess = tf.compat.v1.Session(config=config)\n",
    "tf.compat.v1.keras.backend.set_session(sess)\n",
    "from sklearn.preprocessing import StandardScaler\n",
    "sc=StandardScaler()\n",
    "\n",
    "labelencoder_X_1=LabelEncoder()\n",
    "labelencoder_X_2=LabelEncoder()\n",
    "\n",
    "dataset=pd.read_csv('Churn_Modelling.csv')\n",
    "X=dataset.iloc[:,3:13]\n",
    "y=dataset.iloc[:,13]\n"
   ]
  },
  {
   "cell_type": "code",
   "execution_count": 9,
   "metadata": {},
   "outputs": [],
   "source": [
    "\n",
    "ct = ColumnTransformer([(\"Geography\",OneHotEncoder(), [1])], remainder = 'passthrough')\n",
    "X = ct.fit_transform(X)\n",
    "\n",
    "# Male/Female\n",
    "labelencoder_X = LabelEncoder()\n",
    "X[:, 4] = labelencoder_X.fit_transform(X[:, 4])\n"
   ]
  },
  {
   "cell_type": "code",
   "execution_count": 10,
   "metadata": {},
   "outputs": [],
   "source": [
    "X=X[:,1:]"
   ]
  },
  {
   "cell_type": "code",
   "execution_count": 11,
   "metadata": {},
   "outputs": [],
   "source": [
    "X_train,X_test,y_train,y_test=train_test_split(X,y,test_size=0.2,random_state=0)"
   ]
  },
  {
   "cell_type": "code",
   "execution_count": 12,
   "metadata": {},
   "outputs": [],
   "source": [
    "X_train=sc.fit_transform(X_train)\n",
    "X_test=sc.transform(X_test)"
   ]
  },
  {
   "cell_type": "code",
   "execution_count": null,
   "metadata": {},
   "outputs": [],
   "source": []
  },
  {
   "cell_type": "code",
   "execution_count": 13,
   "metadata": {},
   "outputs": [
    {
     "name": "stderr",
     "output_type": "stream",
     "text": [
      "C:\\Users\\rissu\\anaconda3\\lib\\site-packages\\ipykernel_launcher.py:4: UserWarning: Update your `Dense` call to the Keras 2 API: `Dense(kernel_initializer=\"uniform\", activation=\"relu\", input_dim=11, units=6)`\n",
      "  after removing the cwd from sys.path.\n"
     ]
    }
   ],
   "source": [
    "classifier=Sequential()\n",
    "classifier.add(Dense(output_dim=6,kernel_initializer='uniform',\n",
    "                     activation='relu',\n",
    "                    input_dim=11))"
   ]
  },
  {
   "cell_type": "code",
   "execution_count": 14,
   "metadata": {
    "scrolled": true
   },
   "outputs": [
    {
     "name": "stderr",
     "output_type": "stream",
     "text": [
      "C:\\Users\\rissu\\anaconda3\\lib\\site-packages\\ipykernel_launcher.py:2: UserWarning: Update your `Dense` call to the Keras 2 API: `Dense(kernel_initializer=\"uniform\", activation=\"relu\", units=6)`\n",
      "  \n"
     ]
    }
   ],
   "source": [
    "classifier.add(Dense(output_dim=6,kernel_initializer='uniform',\n",
    "                     activation='relu'\n",
    "                     ))"
   ]
  },
  {
   "cell_type": "code",
   "execution_count": 15,
   "metadata": {},
   "outputs": [
    {
     "name": "stderr",
     "output_type": "stream",
     "text": [
      "C:\\Users\\rissu\\anaconda3\\lib\\site-packages\\ipykernel_launcher.py:2: UserWarning: Update your `Dense` call to the Keras 2 API: `Dense(kernel_initializer=\"uniform\", activation=\"sigmoid\", units=1)`\n",
      "  \n"
     ]
    }
   ],
   "source": [
    "classifier.add(Dense(output_dim=1,kernel_initializer='uniform',\n",
    "                     activation='sigmoid',\n",
    "                    ))"
   ]
  },
  {
   "cell_type": "code",
   "execution_count": 16,
   "metadata": {},
   "outputs": [],
   "source": [
    "# if output is binary than we can use binary_crossentropy\n",
    "# if more than two values in output, we use categorical\n",
    "classifier.compile(optimizer='adam',\n",
    "                   loss='binary_crossentropy',\n",
    "                   metrics=['accuracy'])"
   ]
  },
  {
   "cell_type": "code",
   "execution_count": null,
   "metadata": {},
   "outputs": [],
   "source": []
  },
  {
   "cell_type": "code",
   "execution_count": null,
   "metadata": {
    "scrolled": true
   },
   "outputs": [
    {
     "name": "stdout",
     "output_type": "stream",
     "text": [
      "Epoch 1/100\n",
      "8000/8000 [==============================] - 3s 315us/step - loss: 0.4756 - accuracy: 0.7960\n",
      "Epoch 2/100\n",
      "8000/8000 [==============================] - 2s 278us/step - loss: 0.4273 - accuracy: 0.7960\n",
      "Epoch 3/100\n",
      "8000/8000 [==============================] - 2s 272us/step - loss: 0.4213 - accuracy: 0.8084\n",
      "Epoch 4/100\n",
      "8000/8000 [==============================] - 2s 273us/step - loss: 0.4172 - accuracy: 0.8264\n",
      "Epoch 5/100\n",
      "8000/8000 [==============================] - 2s 269us/step - loss: 0.4148 - accuracy: 0.8294\n",
      "Epoch 6/100\n",
      "8000/8000 [==============================] - 2s 272us/step - loss: 0.4127 - accuracy: 0.8317\n",
      "Epoch 7/100\n",
      "8000/8000 [==============================] - 2s 277us/step - loss: 0.4116 - accuracy: 0.8328\n",
      "Epoch 8/100\n",
      "8000/8000 [==============================] - 2s 288us/step - loss: 0.4099 - accuracy: 0.8354\n",
      "Epoch 9/100\n",
      "8000/8000 [==============================] - 2s 283us/step - loss: 0.4091 - accuracy: 0.8349\n",
      "Epoch 10/100\n",
      "8000/8000 [==============================] - 2s 290us/step - loss: 0.4085 - accuracy: 0.8341\n",
      "Epoch 11/100\n",
      "8000/8000 [==============================] - 2s 278us/step - loss: 0.4076 - accuracy: 0.8340\n",
      "Epoch 12/100\n",
      "8000/8000 [==============================] - 2s 280us/step - loss: 0.4072 - accuracy: 0.8331\n",
      "Epoch 13/100\n",
      "8000/8000 [==============================] - 2s 283us/step - loss: 0.4061 - accuracy: 0.8347\n",
      "Epoch 14/100\n",
      "8000/8000 [==============================] - 2s 285us/step - loss: 0.4066 - accuracy: 0.8350\n",
      "Epoch 15/100\n",
      "8000/8000 [==============================] - 2s 276us/step - loss: 0.4059 - accuracy: 0.8334\n",
      "Epoch 16/100\n",
      "8000/8000 [==============================] - 2s 311us/step - loss: 0.4054 - accuracy: 0.8336\n",
      "Epoch 17/100\n",
      "8000/8000 [==============================] - 2s 297us/step - loss: 0.4054 - accuracy: 0.8351\n",
      "Epoch 18/100\n",
      "8000/8000 [==============================] - 2s 280us/step - loss: 0.4048 - accuracy: 0.8336\n",
      "Epoch 19/100\n",
      "8000/8000 [==============================] - 2s 290us/step - loss: 0.4044 - accuracy: 0.8351\n",
      "Epoch 20/100\n",
      "8000/8000 [==============================] - 2s 308us/step - loss: 0.4040 - accuracy: 0.8354\n",
      "Epoch 21/100\n",
      "8000/8000 [==============================] - 2s 282us/step - loss: 0.4040 - accuracy: 0.8346\n",
      "Epoch 22/100\n",
      "8000/8000 [==============================] - 2s 276us/step - loss: 0.4038 - accuracy: 0.8350\n",
      "Epoch 23/100\n",
      "8000/8000 [==============================] - 2s 281us/step - loss: 0.4041 - accuracy: 0.8335\n",
      "Epoch 24/100\n",
      "8000/8000 [==============================] - 3s 324us/step - loss: 0.4031 - accuracy: 0.8347\n",
      "Epoch 25/100\n",
      "8000/8000 [==============================] - 2s 308us/step - loss: 0.4038 - accuracy: 0.8338\n",
      "Epoch 26/100\n",
      "8000/8000 [==============================] - 2s 287us/step - loss: 0.4026 - accuracy: 0.8355\n",
      "Epoch 27/100\n",
      "8000/8000 [==============================] - 2s 286us/step - loss: 0.4030 - accuracy: 0.8364\n",
      "Epoch 28/100\n",
      "8000/8000 [==============================] - 2s 293us/step - loss: 0.4032 - accuracy: 0.8339\n",
      "Epoch 29/100\n",
      "8000/8000 [==============================] - 2s 309us/step - loss: 0.4024 - accuracy: 0.8345\n",
      "Epoch 30/100\n",
      "4970/8000 [=================>............] - ETA: 0s - loss: 0.3901 - accuracy: 0.8396"
     ]
    }
   ],
   "source": [
    "classifier.fit(X_train,y_train,batch_size=10,epochs=100)"
   ]
  },
  {
   "cell_type": "code",
   "execution_count": null,
   "metadata": {},
   "outputs": [],
   "source": [
    "y_pred=classifier.predict(X_test)\n",
    "y_pred=y_pred>0.5"
   ]
  },
  {
   "cell_type": "code",
   "execution_count": null,
   "metadata": {},
   "outputs": [],
   "source": [
    "from sklearn.metrics import confusion_matrix\n",
    "cm=confusion_matrix(y_test,y_pred)"
   ]
  },
  {
   "cell_type": "code",
   "execution_count": null,
   "metadata": {},
   "outputs": [],
   "source": [
    "cm"
   ]
  },
  {
   "cell_type": "code",
   "execution_count": null,
   "metadata": {},
   "outputs": [],
   "source": [
    "(1549+136)/2000"
   ]
  },
  {
   "cell_type": "code",
   "execution_count": null,
   "metadata": {},
   "outputs": [],
   "source": [
    "dataset"
   ]
  },
  {
   "cell_type": "code",
   "execution_count": null,
   "metadata": {},
   "outputs": [],
   "source": [
    "a=sc.transform(np.array([[0,0,600,1,40,3,60000,2,1,1,50000]]))\n",
    "predicted=classifier.predict(a)\n",
    "predicted>0.5"
   ]
  },
  {
   "cell_type": "code",
   "execution_count": null,
   "metadata": {},
   "outputs": [],
   "source": [
    "confusion_matrix(y_test,y_pred)"
   ]
  },
  {
   "cell_type": "code",
   "execution_count": null,
   "metadata": {},
   "outputs": [],
   "source": [
    "(1549+136)/2000"
   ]
  },
  {
   "cell_type": "code",
   "execution_count": null,
   "metadata": {},
   "outputs": [],
   "source": [
    "from keras.wrappers.scikit_learn import KerasClassifier\n",
    "from sklearn.model_selection import cross_val_score"
   ]
  },
  {
   "cell_type": "code",
   "execution_count": null,
   "metadata": {},
   "outputs": [],
   "source": [
    "# def build_classifier():\n",
    "#     classifier=Sequential()\n",
    "#     classifier.add(Dense(output_dim=6,kernel_initializer='uniform',\n",
    "#                          activation='relu',\n",
    "#                         input_dim=11))\n",
    "#     classifier.add(Dense(output_dim=6,kernel_initializer='uniform',\n",
    "#                          activation='relu'\n",
    "#                          ))\n",
    "#     classifier.add(Dense(output_dim=1,kernel_initializer='uniform',\n",
    "#                          activation='sigmoid',\n",
    "#                         ))\n",
    "#     classifier.compile(optimizer='adam',\n",
    "#                        loss='binary_crossentropy',\n",
    "#                        metrics=['accuracy'])\n",
    "#     return classifier\n",
    "# classifier=KerasClassifier(build_fn=build_classifier,batch_size=10,epochs=100)\n",
    "# accuracies=cross_val_score(estimator=classifier,X=X_train,\n",
    "#                           y=y_train,cv=10,n_jobs=5)"
   ]
  },
  {
   "cell_type": "code",
   "execution_count": null,
   "metadata": {},
   "outputs": [],
   "source": [
    "# from keras.wrappers.scikit_learn import KerasClassifier\n",
    "# from sklearn.model_selection import cross_val_score\n",
    "# import sys"
   ]
  },
  {
   "cell_type": "code",
   "execution_count": null,
   "metadata": {},
   "outputs": [],
   "source": [
    "# def build():\n",
    "#     classifier=Sequential()\n",
    "#     classifier.add(Dense(output_dim=6,kernel_initializer ='uniform',\n",
    "#                         activation='relu',\n",
    "#                         input_dim=11))\n",
    "#     classifier.add(Dense(output_dim=6, kernel_initializer ='uniform',\n",
    "#                         activation='relu'))\n",
    "#     classifier.add(Dense(output_dim=1,kernel_initializer ='uniform',\n",
    "#                         activation='sigmoid'))\n",
    "#     classifier.compile(optimizer='adam',\n",
    "#                        loss='binary_crossentropy',\n",
    "#                       metrics=['accuracy'])\n",
    "#     return classifier\n",
    "# classifier=KerasClassifier(build_fn=build,\n",
    "#                           batch_size=10,\n",
    "#                           epochs=100)\n",
    "# accuracies=cross_val_score(estimator=classifier,\n",
    "#                           X=X_train,y=y_train,\n",
    "#                           cv=10)\n",
    "# accuracies"
   ]
  },
  {
   "cell_type": "code",
   "execution_count": null,
   "metadata": {},
   "outputs": [],
   "source": []
  },
  {
   "cell_type": "code",
   "execution_count": null,
   "metadata": {
    "scrolled": true
   },
   "outputs": [],
   "source": []
  },
  {
   "cell_type": "code",
   "execution_count": null,
   "metadata": {},
   "outputs": [],
   "source": [
    "# mean=accuracies.mean()\n",
    "# variance=accuracies.std()"
   ]
  },
  {
   "cell_type": "code",
   "execution_count": null,
   "metadata": {},
   "outputs": [],
   "source": [
    "# mean,variance"
   ]
  },
  {
   "cell_type": "markdown",
   "metadata": {},
   "source": [
    "## Hyperparameter tuning is one of method of selecting\n",
    "best parameters for your model with combination of \n",
    "different other models"
   ]
  },
  {
   "cell_type": "code",
   "execution_count": null,
   "metadata": {},
   "outputs": [],
   "source": [
    "# from sklearn.model_selection import GridSearchCV\n",
    "# def build_classifier(optimizer):\n",
    "#     classifier=Sequential()\n",
    "#     classifier.add(Dense(output_dim=6,\n",
    "#                          kernel_initializer='uniform',\n",
    "#                         activation='relu',input_dim=11))\n",
    "#     classifier.add(Dense(output_dim=6,\n",
    "#                         kernel_initializer='uniform',\n",
    "#                         activation='relu'))\n",
    "#     classifier.add(Dense(output_dim=1,\n",
    "#                         kernel_initializer='uniform',\n",
    "#                         activation='sigmoid'))\n",
    "#     classifier.compile(optimizer=optimizer,\n",
    "#                       loss='binary_crossentropy',\n",
    "#                       metrics=['accuracy'])\n",
    "#     return classifier\n",
    "# classifier=KerasClassifier(build_fn=build_classifier)\n",
    "# parameters={'batch_size':[25,32],\n",
    "#             'epochs':[100,500],\n",
    "#             'optimizer':['adam','rmsprop']}\n",
    "# grid_search=GridSearchCV(estimator=classifier,\n",
    "#                         param_grid=parameters,\n",
    "#                         cv=10)\n",
    "# grid_search=grid_search.fit(X_train,y_train)\n",
    "# best_param=grid_search.best_params_\n",
    "# best_acc=grid_search.best_score_"
   ]
  },
  {
   "cell_type": "code",
   "execution_count": null,
   "metadata": {},
   "outputs": [],
   "source": []
  },
  {
   "cell_type": "code",
   "execution_count": null,
   "metadata": {},
   "outputs": [],
   "source": []
  },
  {
   "cell_type": "code",
   "execution_count": null,
   "metadata": {},
   "outputs": [],
   "source": []
  },
  {
   "cell_type": "code",
   "execution_count": null,
   "metadata": {},
   "outputs": [],
   "source": []
  },
  {
   "cell_type": "code",
   "execution_count": null,
   "metadata": {},
   "outputs": [],
   "source": []
  },
  {
   "cell_type": "code",
   "execution_count": null,
   "metadata": {},
   "outputs": [],
   "source": []
  },
  {
   "cell_type": "code",
   "execution_count": null,
   "metadata": {},
   "outputs": [],
   "source": []
  },
  {
   "cell_type": "code",
   "execution_count": null,
   "metadata": {},
   "outputs": [],
   "source": []
  },
  {
   "cell_type": "code",
   "execution_count": null,
   "metadata": {},
   "outputs": [],
   "source": []
  },
  {
   "cell_type": "code",
   "execution_count": null,
   "metadata": {},
   "outputs": [],
   "source": []
  },
  {
   "cell_type": "code",
   "execution_count": null,
   "metadata": {},
   "outputs": [],
   "source": []
  },
  {
   "cell_type": "code",
   "execution_count": null,
   "metadata": {},
   "outputs": [],
   "source": []
  },
  {
   "cell_type": "code",
   "execution_count": null,
   "metadata": {},
   "outputs": [],
   "source": []
  },
  {
   "cell_type": "code",
   "execution_count": null,
   "metadata": {},
   "outputs": [],
   "source": []
  },
  {
   "cell_type": "code",
   "execution_count": null,
   "metadata": {},
   "outputs": [],
   "source": []
  },
  {
   "cell_type": "code",
   "execution_count": null,
   "metadata": {},
   "outputs": [],
   "source": []
  }
 ],
 "metadata": {
  "kernelspec": {
   "display_name": "Python 3",
   "language": "python",
   "name": "python3"
  },
  "language_info": {
   "codemirror_mode": {
    "name": "ipython",
    "version": 3
   },
   "file_extension": ".py",
   "mimetype": "text/x-python",
   "name": "python",
   "nbconvert_exporter": "python",
   "pygments_lexer": "ipython3",
   "version": "3.7.7"
  }
 },
 "nbformat": 4,
 "nbformat_minor": 4
}
