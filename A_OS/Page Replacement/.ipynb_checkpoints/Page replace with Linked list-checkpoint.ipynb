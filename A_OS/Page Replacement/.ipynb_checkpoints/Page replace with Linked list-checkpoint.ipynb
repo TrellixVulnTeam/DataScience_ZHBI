{
 "cells": [
  {
   "cell_type": "code",
   "execution_count": 1,
   "id": "thorough-saying",
   "metadata": {},
   "outputs": [],
   "source": [
    "import numpy as np\n",
    "import math\n",
    "import os\n",
    "import random\n",
    "from matplotlib import pyplot as plt\n",
    "import queue\n",
    "\n",
    "PAGE_SIZE = 4096                    # Page Size in Bytes\n",
    "NP = 6                              # No. of processes in memory\n",
    "F = 16                              # No. of Frames in physical memory\n",
    "INVALID = -10\n",
    "PID = 0                             # Used for Indexing into Frames\n",
    "FRAME = 1                           # Used for Indexing into Frames\n",
    "COMPLETED = 10                      # Process Status Flags\n",
    "INCOMPLETE = 20                     #\n",
    "# The following are page replacement algorithm types\n",
    "FIFO_GLOBAL = 10\n",
    "oldest_frame = 0\n",
    "loc_oldest_frame = np.zeros(F).astype('int32')\n",
    "pr_status = np.full(NP, INCOMPLETE).astype('int32')"
   ]
  },
  {
   "cell_type": "code",
   "execution_count": 2,
   "id": "threatened-marketing",
   "metadata": {},
   "outputs": [],
   "source": [
    "class Node:\n",
    "    def __init__(self,pid=None,pagenum=None):\n",
    "        self.pid=pid\n",
    "        self.pagenum=pagenum\n",
    "        self.nextval=None\n",
    "        \n",
    "        \n",
    "class LinkedList:\n",
    "    def __init__(self):\n",
    "        self.headval=None\n",
    "    \n",
    "    def printlist(self):\n",
    "        printval=self.headval\n",
    "        while printval is not None:\n",
    "            print([printval.pid,printval.pagenum])\n",
    "            printval=printval.nextval\n",
    "            \n",
    "    def atBegining(self,pid,pagenum):\n",
    "        newNode=Node(pid,pagenum)\n",
    "        if self.headval is None:\n",
    "            self.headval=newNode\n",
    "            return\n",
    "        newNode.nextval=self.headval\n",
    "        self.headval=newNode\n",
    "        \n",
    "    def atLast(self,pid,pagenum):\n",
    "        newNode=Node(pid,pagenum)\n",
    "        if self.headval is None:\n",
    "            self.headval=newNode\n",
    "            return\n",
    "        currentval=self.headval\n",
    "        while currentval.nextval is not None:\n",
    "            currentval=currentval.nextval\n",
    "        currentval.nextval=newNode"
   ]
  },
  {
   "cell_type": "code",
   "execution_count": 3,
   "id": "affiliated-luxury",
   "metadata": {},
   "outputs": [],
   "source": [
    "phys_mem=LinkedList()"
   ]
  },
  {
   "cell_type": "code",
   "execution_count": 4,
   "id": "social-architect",
   "metadata": {},
   "outputs": [],
   "source": [
    "phys_mem.printlist()"
   ]
  },
  {
   "cell_type": "code",
   "execution_count": 5,
   "id": "martial-clearing",
   "metadata": {},
   "outputs": [],
   "source": [
    "def init_proc_queue() :\n",
    "    pq = queue.Queue(maxsize=NP)\n",
    "    proc_queue = list(set((NP * np.random.random(20)).astype('int32')))\n",
    "    random.shuffle(proc_queue)\n",
    "    print(proc_queue)\n",
    "    for pr in proc_queue:\n",
    "        pq.put_nowait(pr)\n",
    "    return(pq)"
   ]
  },
  {
   "cell_type": "code",
   "execution_count": 6,
   "id": "later-poker",
   "metadata": {},
   "outputs": [],
   "source": [
    "def sim_process(M, sigma, outfile, lfrac=0.9) :\n",
    "    cur_page = int(M * np.random.random())  # Generate a random start page\n",
    "    cur_locale = round(PAGE_SIZE * (cur_page + 0.5))  #Locality of reference\n",
    "    sum_refs = 0\n",
    "    list_locales = list()\n",
    "    for count in range(M) :\n",
    "        num_refs = int(512 + (PAGE_SIZE - 512) * np.random.random()) # random page address in memory.\n",
    "        sum_refs += num_refs\n",
    "        list_locales.append(cur_page)\n",
    "        num_loc = round(lfrac * num_refs)\n",
    "        aref_list = np.random.normal(cur_locale, sigma * 300 + 100,\n",
    "                                    num_loc)   #If siagma is less, it stays less within that locality of reference\n",
    "        #if sigma more, it may vary more\n",
    "        aref_list = correct_refs(aref_list, cur_locale, M)\n",
    "        aref_list = aref_list.astype('int32')\n",
    "        cur_page = int(M * np.random.random())\n",
    "        cur_locale = round(PAGE_SIZE * (cur_page + 0.5))\n",
    "        num_trans = round((1 - lfrac) * num_refs)\n",
    "        tref_list = np.random.random(num_trans) * cur_locale\n",
    "        tref_list = correct_refs(tref_list, 0, M)\n",
    "        tref_list = tref_list.astype('int32')\n",
    "        np.append(aref_list, tref_list).tofile(outfile, sep='\\n')\n",
    "        outfile.write('\\n')\n",
    "    \n",
    "    return list_locales, sum_refs\n",
    "\n",
    "def correct_refs(alist, cent, maxpg) :\n",
    "    if cent != 0 :\n",
    "        pgnum = int(cent / PAGE_SIZE)\n",
    "        lh = (pgnum + 1) * PAGE_SIZE - 1\n",
    "        ll = pgnum * PAGE_SIZE\n",
    "    else :\n",
    "        lh = maxpg * PAGE_SIZE\n",
    "        ll = 0\n",
    "    for i in range(alist.shape[0]) :\n",
    "        if alist[i] >= lh :\n",
    "            alist[i] = lh - 1\n",
    "        if alist[i] < ll :\n",
    "            alist[i] = ll + 1\n",
    "    return alist"
   ]
  },
  {
   "cell_type": "code",
   "execution_count": 7,
   "id": "accredited-canyon",
   "metadata": {},
   "outputs": [
    {
     "ename": "SyntaxError",
     "evalue": "unexpected EOF while parsing (<ipython-input-7-660c03d237bc>, line 7)",
     "output_type": "error",
     "traceback": [
      "\u001b[1;36m  File \u001b[1;32m\"<ipython-input-7-660c03d237bc>\"\u001b[1;36m, line \u001b[1;32m7\u001b[0m\n\u001b[1;33m    \u001b[0m\n\u001b[1;37m    ^\u001b[0m\n\u001b[1;31mSyntaxError\u001b[0m\u001b[1;31m:\u001b[0m unexpected EOF while parsing\n"
     ]
    }
   ],
   "source": [
    "def init_phys_mem() :\n",
    "    for i in range(F):\n",
    "        phys_mem.atBegining(INVALID,INVALID)\n",
    "        \n",
    "def update_phys_mem(pid) :\n",
    "    for i in range(F) :\n",
    "        pass"
   ]
  },
  {
   "cell_type": "code",
   "execution_count": null,
   "id": "american-momentum",
   "metadata": {},
   "outputs": [],
   "source": []
  },
  {
   "cell_type": "code",
   "execution_count": null,
   "id": "hindu-converter",
   "metadata": {},
   "outputs": [],
   "source": [
    "init_phys_mem()"
   ]
  },
  {
   "cell_type": "code",
   "execution_count": null,
   "id": "mechanical-navigation",
   "metadata": {},
   "outputs": [],
   "source": [
    "phys_mem.printlist()"
   ]
  },
  {
   "cell_type": "code",
   "execution_count": null,
   "id": "arabic-galaxy",
   "metadata": {},
   "outputs": [],
   "source": [
    "temp=phys_mem.headval\n",
    "while temp.nextval is not None:\n",
    "    previous=temp\n",
    "    \n",
    "    if temp.pid==5:\n",
    "        \n",
    "    temp=temp.nextval\n",
    "    "
   ]
  },
  {
   "cell_type": "code",
   "execution_count": null,
   "id": "virtual-river",
   "metadata": {},
   "outputs": [],
   "source": []
  },
  {
   "cell_type": "code",
   "execution_count": null,
   "id": "flush-michael",
   "metadata": {},
   "outputs": [],
   "source": [
    "currentval=self.headval\n",
    "while currentval.nextval is not None:\n",
    "    currentval=currentval.nextval\n",
    "currentval.nextval="
   ]
  },
  {
   "cell_type": "code",
   "execution_count": null,
   "id": "advised-madrid",
   "metadata": {},
   "outputs": [],
   "source": []
  },
  {
   "cell_type": "code",
   "execution_count": null,
   "id": "exciting-completion",
   "metadata": {},
   "outputs": [],
   "source": []
  },
  {
   "cell_type": "code",
   "execution_count": null,
   "id": "absolute-amateur",
   "metadata": {},
   "outputs": [],
   "source": []
  },
  {
   "cell_type": "code",
   "execution_count": null,
   "id": "photographic-terrace",
   "metadata": {},
   "outputs": [],
   "source": []
  },
  {
   "cell_type": "code",
   "execution_count": null,
   "id": "turned-vaccine",
   "metadata": {},
   "outputs": [],
   "source": []
  },
  {
   "cell_type": "code",
   "execution_count": null,
   "id": "completed-stopping",
   "metadata": {},
   "outputs": [],
   "source": []
  },
  {
   "cell_type": "code",
   "execution_count": null,
   "id": "placed-software",
   "metadata": {},
   "outputs": [],
   "source": []
  },
  {
   "cell_type": "code",
   "execution_count": null,
   "id": "intensive-canadian",
   "metadata": {},
   "outputs": [],
   "source": []
  },
  {
   "cell_type": "code",
   "execution_count": null,
   "id": "conservative-destruction",
   "metadata": {},
   "outputs": [],
   "source": []
  },
  {
   "cell_type": "code",
   "execution_count": null,
   "id": "scientific-calendar",
   "metadata": {},
   "outputs": [],
   "source": []
  },
  {
   "cell_type": "code",
   "execution_count": null,
   "id": "visible-sunset",
   "metadata": {},
   "outputs": [],
   "source": []
  },
  {
   "cell_type": "code",
   "execution_count": null,
   "id": "willing-convergence",
   "metadata": {},
   "outputs": [],
   "source": []
  },
  {
   "cell_type": "code",
   "execution_count": null,
   "id": "worldwide-secondary",
   "metadata": {},
   "outputs": [],
   "source": []
  },
  {
   "cell_type": "code",
   "execution_count": null,
   "id": "fifty-turkish",
   "metadata": {},
   "outputs": [],
   "source": []
  },
  {
   "cell_type": "code",
   "execution_count": null,
   "id": "earned-reach",
   "metadata": {},
   "outputs": [],
   "source": []
  },
  {
   "cell_type": "code",
   "execution_count": null,
   "id": "apart-adoption",
   "metadata": {},
   "outputs": [],
   "source": []
  },
  {
   "cell_type": "code",
   "execution_count": null,
   "id": "straight-green",
   "metadata": {},
   "outputs": [],
   "source": []
  },
  {
   "cell_type": "code",
   "execution_count": null,
   "id": "conditional-venice",
   "metadata": {},
   "outputs": [],
   "source": []
  },
  {
   "cell_type": "code",
   "execution_count": null,
   "id": "complimentary-machinery",
   "metadata": {},
   "outputs": [],
   "source": []
  },
  {
   "cell_type": "code",
   "execution_count": null,
   "id": "close-queensland",
   "metadata": {},
   "outputs": [],
   "source": []
  },
  {
   "cell_type": "code",
   "execution_count": null,
   "id": "opening-thompson",
   "metadata": {},
   "outputs": [],
   "source": []
  },
  {
   "cell_type": "code",
   "execution_count": null,
   "id": "solar-tournament",
   "metadata": {},
   "outputs": [],
   "source": []
  },
  {
   "cell_type": "code",
   "execution_count": null,
   "id": "talented-fault",
   "metadata": {},
   "outputs": [],
   "source": []
  },
  {
   "cell_type": "code",
   "execution_count": null,
   "id": "activated-flash",
   "metadata": {},
   "outputs": [],
   "source": []
  },
  {
   "cell_type": "code",
   "execution_count": null,
   "id": "spoken-palace",
   "metadata": {},
   "outputs": [],
   "source": []
  },
  {
   "cell_type": "code",
   "execution_count": null,
   "id": "contemporary-shopper",
   "metadata": {},
   "outputs": [],
   "source": []
  },
  {
   "cell_type": "code",
   "execution_count": null,
   "id": "essential-collapse",
   "metadata": {},
   "outputs": [],
   "source": []
  },
  {
   "cell_type": "code",
   "execution_count": null,
   "id": "infectious-grave",
   "metadata": {},
   "outputs": [],
   "source": []
  },
  {
   "cell_type": "code",
   "execution_count": null,
   "id": "discrete-heritage",
   "metadata": {},
   "outputs": [],
   "source": []
  },
  {
   "cell_type": "code",
   "execution_count": null,
   "id": "strange-badge",
   "metadata": {},
   "outputs": [],
   "source": []
  },
  {
   "cell_type": "code",
   "execution_count": null,
   "id": "sound-manufacturer",
   "metadata": {},
   "outputs": [],
   "source": []
  },
  {
   "cell_type": "code",
   "execution_count": null,
   "id": "color-broadcast",
   "metadata": {},
   "outputs": [],
   "source": []
  },
  {
   "cell_type": "code",
   "execution_count": null,
   "id": "genuine-caribbean",
   "metadata": {},
   "outputs": [],
   "source": []
  },
  {
   "cell_type": "code",
   "execution_count": null,
   "id": "discrete-uruguay",
   "metadata": {},
   "outputs": [],
   "source": []
  },
  {
   "cell_type": "code",
   "execution_count": null,
   "id": "mathematical-occasion",
   "metadata": {},
   "outputs": [],
   "source": []
  },
  {
   "cell_type": "code",
   "execution_count": null,
   "id": "antique-white",
   "metadata": {},
   "outputs": [],
   "source": []
  },
  {
   "cell_type": "code",
   "execution_count": null,
   "id": "extensive-devil",
   "metadata": {},
   "outputs": [],
   "source": []
  },
  {
   "cell_type": "code",
   "execution_count": null,
   "id": "unable-screw",
   "metadata": {},
   "outputs": [],
   "source": []
  },
  {
   "cell_type": "code",
   "execution_count": null,
   "id": "chief-tuition",
   "metadata": {},
   "outputs": [],
   "source": []
  },
  {
   "cell_type": "code",
   "execution_count": null,
   "id": "honest-coordination",
   "metadata": {},
   "outputs": [],
   "source": []
  },
  {
   "cell_type": "code",
   "execution_count": null,
   "id": "temporal-outline",
   "metadata": {},
   "outputs": [],
   "source": []
  },
  {
   "cell_type": "code",
   "execution_count": null,
   "id": "adolescent-sucking",
   "metadata": {},
   "outputs": [],
   "source": []
  },
  {
   "cell_type": "code",
   "execution_count": null,
   "id": "found-portugal",
   "metadata": {},
   "outputs": [],
   "source": []
  },
  {
   "cell_type": "code",
   "execution_count": null,
   "id": "described-commonwealth",
   "metadata": {},
   "outputs": [],
   "source": []
  },
  {
   "cell_type": "code",
   "execution_count": null,
   "id": "stretch-mexican",
   "metadata": {},
   "outputs": [],
   "source": []
  },
  {
   "cell_type": "code",
   "execution_count": null,
   "id": "twenty-reduction",
   "metadata": {},
   "outputs": [],
   "source": []
  },
  {
   "cell_type": "code",
   "execution_count": null,
   "id": "seasonal-personality",
   "metadata": {},
   "outputs": [],
   "source": []
  },
  {
   "cell_type": "code",
   "execution_count": null,
   "id": "virtual-hours",
   "metadata": {},
   "outputs": [],
   "source": []
  },
  {
   "cell_type": "code",
   "execution_count": null,
   "id": "ignored-bolivia",
   "metadata": {},
   "outputs": [],
   "source": []
  },
  {
   "cell_type": "code",
   "execution_count": null,
   "id": "current-focus",
   "metadata": {},
   "outputs": [],
   "source": []
  },
  {
   "cell_type": "code",
   "execution_count": null,
   "id": "bacterial-benjamin",
   "metadata": {},
   "outputs": [],
   "source": []
  },
  {
   "cell_type": "code",
   "execution_count": null,
   "id": "pressed-thesaurus",
   "metadata": {},
   "outputs": [],
   "source": []
  },
  {
   "cell_type": "code",
   "execution_count": null,
   "id": "worldwide-roberts",
   "metadata": {},
   "outputs": [],
   "source": []
  },
  {
   "cell_type": "code",
   "execution_count": null,
   "id": "perceived-canadian",
   "metadata": {},
   "outputs": [],
   "source": []
  },
  {
   "cell_type": "code",
   "execution_count": null,
   "id": "eastern-arena",
   "metadata": {},
   "outputs": [],
   "source": []
  },
  {
   "cell_type": "code",
   "execution_count": null,
   "id": "rising-toolbox",
   "metadata": {},
   "outputs": [],
   "source": []
  },
  {
   "cell_type": "code",
   "execution_count": null,
   "id": "virgin-description",
   "metadata": {},
   "outputs": [],
   "source": []
  },
  {
   "cell_type": "code",
   "execution_count": null,
   "id": "spatial-password",
   "metadata": {},
   "outputs": [],
   "source": []
  },
  {
   "cell_type": "code",
   "execution_count": null,
   "id": "defined-stranger",
   "metadata": {},
   "outputs": [],
   "source": []
  },
  {
   "cell_type": "code",
   "execution_count": null,
   "id": "organized-silence",
   "metadata": {},
   "outputs": [],
   "source": []
  },
  {
   "cell_type": "code",
   "execution_count": null,
   "id": "induced-going",
   "metadata": {},
   "outputs": [],
   "source": []
  },
  {
   "cell_type": "code",
   "execution_count": null,
   "id": "final-wrestling",
   "metadata": {},
   "outputs": [],
   "source": []
  },
  {
   "cell_type": "code",
   "execution_count": null,
   "id": "integral-pension",
   "metadata": {},
   "outputs": [],
   "source": []
  },
  {
   "cell_type": "code",
   "execution_count": null,
   "id": "engaging-methodology",
   "metadata": {},
   "outputs": [],
   "source": []
  },
  {
   "cell_type": "code",
   "execution_count": null,
   "id": "varied-playback",
   "metadata": {},
   "outputs": [],
   "source": []
  },
  {
   "cell_type": "code",
   "execution_count": null,
   "id": "educational-dallas",
   "metadata": {},
   "outputs": [],
   "source": []
  },
  {
   "cell_type": "code",
   "execution_count": null,
   "id": "swiss-hunger",
   "metadata": {},
   "outputs": [],
   "source": []
  },
  {
   "cell_type": "code",
   "execution_count": null,
   "id": "banned-commission",
   "metadata": {},
   "outputs": [],
   "source": []
  },
  {
   "cell_type": "code",
   "execution_count": null,
   "id": "involved-purse",
   "metadata": {},
   "outputs": [],
   "source": []
  },
  {
   "cell_type": "code",
   "execution_count": null,
   "id": "increasing-classic",
   "metadata": {},
   "outputs": [],
   "source": []
  },
  {
   "cell_type": "code",
   "execution_count": null,
   "id": "polish-degree",
   "metadata": {},
   "outputs": [],
   "source": []
  },
  {
   "cell_type": "code",
   "execution_count": null,
   "id": "documented-general",
   "metadata": {},
   "outputs": [],
   "source": []
  },
  {
   "cell_type": "code",
   "execution_count": null,
   "id": "dramatic-notice",
   "metadata": {},
   "outputs": [],
   "source": []
  },
  {
   "cell_type": "code",
   "execution_count": null,
   "id": "lonely-complex",
   "metadata": {},
   "outputs": [],
   "source": []
  },
  {
   "cell_type": "code",
   "execution_count": null,
   "id": "numerical-portland",
   "metadata": {},
   "outputs": [],
   "source": []
  },
  {
   "cell_type": "code",
   "execution_count": null,
   "id": "unusual-brown",
   "metadata": {},
   "outputs": [],
   "source": []
  },
  {
   "cell_type": "code",
   "execution_count": null,
   "id": "decimal-amendment",
   "metadata": {},
   "outputs": [],
   "source": []
  },
  {
   "cell_type": "code",
   "execution_count": null,
   "id": "subject-mission",
   "metadata": {},
   "outputs": [],
   "source": []
  },
  {
   "cell_type": "code",
   "execution_count": null,
   "id": "psychological-recruitment",
   "metadata": {},
   "outputs": [],
   "source": []
  },
  {
   "cell_type": "code",
   "execution_count": null,
   "id": "specified-overall",
   "metadata": {},
   "outputs": [],
   "source": []
  },
  {
   "cell_type": "code",
   "execution_count": null,
   "id": "grateful-angle",
   "metadata": {},
   "outputs": [],
   "source": []
  },
  {
   "cell_type": "code",
   "execution_count": null,
   "id": "exposed-transition",
   "metadata": {},
   "outputs": [],
   "source": []
  },
  {
   "cell_type": "code",
   "execution_count": null,
   "id": "photographic-inquiry",
   "metadata": {},
   "outputs": [],
   "source": []
  },
  {
   "cell_type": "code",
   "execution_count": null,
   "id": "breeding-catering",
   "metadata": {},
   "outputs": [],
   "source": []
  },
  {
   "cell_type": "code",
   "execution_count": null,
   "id": "affected-storm",
   "metadata": {},
   "outputs": [],
   "source": []
  },
  {
   "cell_type": "code",
   "execution_count": null,
   "id": "empirical-conducting",
   "metadata": {},
   "outputs": [],
   "source": []
  }
 ],
 "metadata": {
  "kernelspec": {
   "display_name": "Python 3",
   "language": "python",
   "name": "python3"
  },
  "language_info": {
   "codemirror_mode": {
    "name": "ipython",
    "version": 3
   },
   "file_extension": ".py",
   "mimetype": "text/x-python",
   "name": "python",
   "nbconvert_exporter": "python",
   "pygments_lexer": "ipython3",
   "version": "3.7.7"
  }
 },
 "nbformat": 4,
 "nbformat_minor": 5
}
