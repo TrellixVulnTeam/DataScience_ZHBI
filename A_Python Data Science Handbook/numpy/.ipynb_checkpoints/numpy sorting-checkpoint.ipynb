{
 "cells": [
  {
   "cell_type": "code",
   "execution_count": 2,
   "metadata": {},
   "outputs": [
    {
     "data": {
      "text/plain": [
       "[1, 1, 2, 2, 2, 3, 3, 4, 4, 4, 5, 5, 5, 5, 5, 6, 6, 6, 7, 8, 9, 9]"
      ]
     },
     "execution_count": 2,
     "metadata": {},
     "output_type": "execute_result"
    }
   ],
   "source": [
    "import numpy as np\n",
    "def selection_sort(x):\n",
    "    for i in range(len(x)):\n",
    "        swap=i+np.argmin(x[i:])\n",
    "        x[i],x[swap]=x[swap],x[i]\n",
    "    return x\n",
    "a=selection_sort([9,4,5,6,8,7,4,5,6,9,5,1,2,3,5,2,1,4,5,2,3,6])\n",
    "a"
   ]
  },
  {
   "cell_type": "code",
   "execution_count": 7,
   "metadata": {},
   "outputs": [
    {
     "name": "stdout",
     "output_type": "stream",
     "text": [
      "[1, 2, 9, 5, 1, 1, 2, 5, 6, 6, 8, 4, 5, 5, 2, 9, 7, 5, 4, 8, 4, 3, 6, 3, 1, 3, 2, 8, 8]"
     ]
    }
   ],
   "source": [
    "def bogsort(x):\n",
    "    while np.any(x[:-1]>x[1:]):\n",
    "        np.random.shuffle(x)\n",
    "    return x\n",
    "a=bogsort([8,4,1,2,5,6,3,2,1,4,5,8,7,4,5,8,9,6,3,2,5,1,1,5,6,3,2,8,9])\n",
    "print(a,end=\"\")"
   ]
  },
  {
   "cell_type": "code",
   "execution_count": 32,
   "metadata": {},
   "outputs": [
    {
     "name": "stdout",
     "output_type": "stream",
     "text": [
      "[[45 48 65 68]\n",
      " [68 10 84 22]\n",
      " [37 88 71 89]\n",
      " [89 13 59 66]]\n"
     ]
    },
    {
     "data": {
      "text/plain": [
       "array([[45, 48, 65, 68],\n",
       "       [10, 22, 68, 84],\n",
       "       [37, 71, 88, 89],\n",
       "       [13, 59, 66, 89]])"
      ]
     },
     "execution_count": 32,
     "metadata": {},
     "output_type": "execute_result"
    }
   ],
   "source": [
    "np.random.seed(0)\n",
    "a=np.random.randint(1,100,(4,4))\n",
    "print(a)\n",
    "a.sort(axis=1)\n",
    "a\n"
   ]
  },
  {
   "cell_type": "code",
   "execution_count": 44,
   "metadata": {},
   "outputs": [
    {
     "data": {
      "text/plain": [
       "array([1, 2, 3, 4, 5])"
      ]
     },
     "execution_count": 44,
     "metadata": {},
     "output_type": "execute_result"
    }
   ],
   "source": [
    "x=np.array([2,1,4,3,5])\n",
    "# i=np.argsort(x)\n",
    "for i in range(len(x)):\n",
    "    swap=i+np.argmin(x[i:])\n",
    "    x[swap],x[i]=x[i],x[swap]\n",
    "x"
   ]
  },
  {
   "cell_type": "code",
   "execution_count": 49,
   "metadata": {},
   "outputs": [
    {
     "name": "stdout",
     "output_type": "stream",
     "text": [
      "4\n"
     ]
    }
   ],
   "source": [
    "x=np.array([3,5,7,4,2,8,9])\n",
    "print(np.argmin(x))"
   ]
  },
  {
   "cell_type": "code",
   "execution_count": 51,
   "metadata": {},
   "outputs": [
    {
     "data": {
      "text/plain": [
       "array([[6, 3, 7, 4, 6, 9],\n",
       "       [2, 6, 7, 4, 3, 7],\n",
       "       [7, 2, 5, 4, 1, 7],\n",
       "       [5, 1, 4, 0, 9, 5]])"
      ]
     },
     "execution_count": 51,
     "metadata": {},
     "output_type": "execute_result"
    }
   ],
   "source": [
    "rand=np.random.RandomState(42)\n",
    "a=rand.randint(0,10,(4,6))\n",
    "a"
   ]
  },
  {
   "cell_type": "code",
   "execution_count": 55,
   "metadata": {},
   "outputs": [
    {
     "name": "stdout",
     "output_type": "stream",
     "text": [
      "[[2 1 4 0 1 5]\n",
      " [5 2 5 4 3 7]\n",
      " [6 3 7 4 6 7]\n",
      " [7 6 7 4 9 9]]\n",
      "\n",
      "[[3 4 6 6 7 9]\n",
      " [2 3 4 6 7 7]\n",
      " [1 2 4 5 7 7]\n",
      " [0 1 4 5 5 9]]\n"
     ]
    }
   ],
   "source": [
    "print(np.sort(a,axis=0))\n",
    "print()\n",
    "print(np.sort(a,axis=1))"
   ]
  },
  {
   "cell_type": "code",
   "execution_count": 49,
   "metadata": {},
   "outputs": [
    {
     "data": {
      "text/plain": [
       "array([2, 1, 3, 4, 4, 5, 5, 6, 7, 9, 8, 7])"
      ]
     },
     "execution_count": 49,
     "metadata": {},
     "output_type": "execute_result"
    }
   ],
   "source": [
    "# partition is used to sort arrays that is partition(x,3) means\n",
    "# it keeps left array less than 3 and right arrays more than 3\n",
    "x=np.array([7,4,5,1,2,5,4,3,6,9,8,7])\n",
    "np.partition(x,3)"
   ]
  },
  {
   "cell_type": "code",
   "execution_count": 66,
   "metadata": {},
   "outputs": [
    {
     "data": {
      "text/plain": [
       "array([[6, 6, 3, 4, 7, 9],\n",
       "       [3, 2, 6, 4, 7, 7],\n",
       "       [1, 5, 2, 4, 7, 7],\n",
       "       [0, 4, 1, 5, 5, 9]])"
      ]
     },
     "execution_count": 66,
     "metadata": {},
     "output_type": "execute_result"
    }
   ],
   "source": [
    "np.partition(a,4)"
   ]
  },
  {
   "cell_type": "code",
   "execution_count": 166,
   "metadata": {},
   "outputs": [
    {
     "data": {
      "text/plain": [
       "array([[0.51775135, 0.83771011],\n",
       "       [0.67569012, 0.73521612],\n",
       "       [0.20907162, 0.54144797],\n",
       "       [0.6957844 , 0.22855002],\n",
       "       [0.17495493, 0.98216834],\n",
       "       [0.51663589, 0.26082917],\n",
       "       [0.9962537 , 0.96541935],\n",
       "       [0.55829345, 0.88263634],\n",
       "       [0.18870711, 0.27887135],\n",
       "       [0.70035783, 0.84666114]])"
      ]
     },
     "execution_count": 166,
     "metadata": {},
     "output_type": "execute_result"
    }
   ],
   "source": [
    "x=rand.rand(10,2)\n",
    "x"
   ]
  },
  {
   "cell_type": "code",
   "execution_count": 167,
   "metadata": {},
   "outputs": [
    {
     "data": {
      "image/png": "[encoded data removed]",
      "text/plain": [
       "<Figure size 432x288 with 1 Axes>"
      ]
     },
     "metadata": {
      "needs_background": "light"
     },
     "output_type": "display_data"
    }
   ],
   "source": [
    "import matplotlib.pyplot as pl\n",
    "%matplotlib inline\n",
    "import seaborn as sns \n",
    "pl.scatter(x[:,0],x[:,1],s=100)\n",
    "pl.show()"
   ]
  },
  {
   "cell_type": "code",
   "execution_count": 172,
   "metadata": {},
   "outputs": [
    {
     "data": {
      "text/plain": [
       "array([[0.        , 0.03544967, 0.18305443, 0.40277177, 0.13837757,\n",
       "        0.33279285, 0.24527415, 0.00366203, 0.42057087, 0.03342525],\n",
       "       [0.03544967, 0.        , 0.25527892, 0.25711431, 0.31172113,\n",
       "        0.25034122, 0.15575454, 0.0355147 , 0.445403  , 0.01302849],\n",
       "       [0.18305443, 0.25527892, 0.        , 0.33479446, 0.19539839,\n",
       "        0.17334269, 0.79940735, 0.23836539, 0.0693612 , 0.33451722],\n",
       "       [0.40277177, 0.25711431, 0.33479446, 0.        , 0.83920391,\n",
       "        0.03313613, 0.63325821, 0.44673268, 0.25965962, 0.38208227],\n",
       "       [0.13837757, 0.31172113, 0.19539839, 0.83920391, 0.        ,\n",
       "        0.63707608, 0.6748122 , 0.15685504, 0.49481578, 0.29441041],\n",
       "       [0.33279285, 0.25034122, 0.17334269, 0.03313613, 0.63707608,\n",
       "        0.        , 0.72648056, 0.38837951, 0.10786281, 0.37695284],\n",
       "       [0.24527415, 0.15575454, 0.79940735, 0.63325821, 0.6748122 ,\n",
       "        0.72648056, 0.        , 0.1986622 , 1.12347965, 0.10165788],\n",
       "       [0.00366203, 0.0355147 , 0.23836539, 0.44673268, 0.15685504,\n",
       "        0.38837951, 0.1986622 , 0.        , 0.50112623, 0.0214765 ],\n",
       "       [0.42057087, 0.445403  , 0.0693612 , 0.25965962, 0.49481578,\n",
       "        0.10786281, 1.12347965, 0.50112623, 0.        , 0.58417171],\n",
       "       [0.03342525, 0.01302849, 0.33451722, 0.38208227, 0.29441041,\n",
       "        0.37695284, 0.10165788, 0.0214765 , 0.58417171, 0.        ]])"
      ]
     },
     "execution_count": 172,
     "metadata": {},
     "output_type": "execute_result"
    }
   ],
   "source": [
    "dist_sq=np.sum((x[:,np.newaxis]-x[np.newaxis,:])**2,axis=-1)\n",
    "dist_sq"
   ]
  },
  {
   "cell_type": "code",
   "execution_count": 169,
   "metadata": {},
   "outputs": [
    {
     "data": {
      "text/plain": [
       "(10, 10)"
      ]
     },
     "execution_count": 169,
     "metadata": {},
     "output_type": "execute_result"
    }
   ],
   "source": [
    "dist_sq.shape"
   ]
  },
  {
   "cell_type": "code",
   "execution_count": 170,
   "metadata": {},
   "outputs": [
    {
     "data": {
      "text/plain": [
       "array([[[ 0.        ,  0.        ],\n",
       "        [-0.15793877,  0.10249399],\n",
       "        [ 0.30867973,  0.29626213],\n",
       "        [-0.17803305,  0.60916008],\n",
       "        [ 0.34279642, -0.14445824],\n",
       "        [ 0.00111546,  0.57688093],\n",
       "        [-0.47850235, -0.12770925],\n",
       "        [-0.0405421 , -0.04492624],\n",
       "        [ 0.32904424,  0.55883875],\n",
       "        [-0.18260648, -0.00895104]],\n",
       "\n",
       "       [[ 0.15793877, -0.10249399],\n",
       "        [ 0.        ,  0.        ],\n",
       "        [ 0.4666185 ,  0.19376815],\n",
       "        [-0.02009428,  0.5066661 ],\n",
       "        [ 0.50073519, -0.24695222],\n",
       "        [ 0.15905423,  0.47438694],\n",
       "        [-0.32056358, -0.23020323],\n",
       "        [ 0.11739666, -0.14742022],\n",
       "        [ 0.48698301,  0.45634477],\n",
       "        [-0.02466771, -0.11144502]],\n",
       "\n",
       "       [[-0.30867973, -0.29626213],\n",
       "        [-0.4666185 , -0.19376815],\n",
       "        [ 0.        ,  0.        ],\n",
       "        [-0.48671278,  0.31289795],\n",
       "        [ 0.03411669, -0.44072037],\n",
       "        [-0.30756427,  0.2806188 ],\n",
       "        [-0.78718208, -0.42397138],\n",
       "        [-0.34922183, -0.34118837],\n",
       "        [ 0.02036451,  0.26257662],\n",
       "        [-0.49128621, -0.30521317]],\n",
       "\n",
       "       [[ 0.17803305, -0.60916008],\n",
       "        [ 0.02009428, -0.5066661 ],\n",
       "        [ 0.48671278, -0.31289795],\n",
       "        [ 0.        ,  0.        ],\n",
       "        [ 0.52082947, -0.75361832],\n",
       "        [ 0.17914851, -0.03227915],\n",
       "        [-0.3004693 , -0.73686933],\n",
       "        [ 0.13749095, -0.65408632],\n",
       "        [ 0.50707729, -0.05032133],\n",
       "        [-0.00457343, -0.61811112]],\n",
       "\n",
       "       [[-0.34279642,  0.14445824],\n",
       "        [-0.50073519,  0.24695222],\n",
       "        [-0.03411669,  0.44072037],\n",
       "        [-0.52082947,  0.75361832],\n",
       "        [ 0.        ,  0.        ],\n",
       "        [-0.34168096,  0.72133917],\n",
       "        [-0.82129877,  0.01674899],\n",
       "        [-0.38333853,  0.099532  ],\n",
       "        [-0.01375218,  0.70329699],\n",
       "        [-0.5254029 ,  0.1355072 ]],\n",
       "\n",
       "       [[-0.00111546, -0.57688093],\n",
       "        [-0.15905423, -0.47438694],\n",
       "        [ 0.30756427, -0.2806188 ],\n",
       "        [-0.17914851,  0.03227915],\n",
       "        [ 0.34168096, -0.72133917],\n",
       "        [ 0.        ,  0.        ],\n",
       "        [-0.47961781, -0.70459018],\n",
       "        [-0.04165756, -0.62180717],\n",
       "        [ 0.32792878, -0.01804218],\n",
       "        [-0.18372194, -0.58583197]],\n",
       "\n",
       "       [[ 0.47850235,  0.12770925],\n",
       "        [ 0.32056358,  0.23020323],\n",
       "        [ 0.78718208,  0.42397138],\n",
       "        [ 0.3004693 ,  0.73686933],\n",
       "        [ 0.82129877, -0.01674899],\n",
       "        [ 0.47961781,  0.70459018],\n",
       "        [ 0.        ,  0.        ],\n",
       "        [ 0.43796025,  0.08278301],\n",
       "        [ 0.80754659,  0.686548  ],\n",
       "        [ 0.29589587,  0.11875821]],\n",
       "\n",
       "       [[ 0.0405421 ,  0.04492624],\n",
       "        [-0.11739666,  0.14742022],\n",
       "        [ 0.34922183,  0.34118837],\n",
       "        [-0.13749095,  0.65408632],\n",
       "        [ 0.38333853, -0.099532  ],\n",
       "        [ 0.04165756,  0.62180717],\n",
       "        [-0.43796025, -0.08278301],\n",
       "        [ 0.        ,  0.        ],\n",
       "        [ 0.36958635,  0.60376499],\n",
       "        [-0.14206438,  0.0359752 ]],\n",
       "\n",
       "       [[-0.32904424, -0.55883875],\n",
       "        [-0.48698301, -0.45634477],\n",
       "        [-0.02036451, -0.26257662],\n",
       "        [-0.50707729,  0.05032133],\n",
       "        [ 0.01375218, -0.70329699],\n",
       "        [-0.32792878,  0.01804218],\n",
       "        [-0.80754659, -0.686548  ],\n",
       "        [-0.36958635, -0.60376499],\n",
       "        [ 0.        ,  0.        ],\n",
       "        [-0.51165072, -0.56778979]],\n",
       "\n",
       "       [[ 0.18260648,  0.00895104],\n",
       "        [ 0.02466771,  0.11144502],\n",
       "        [ 0.49128621,  0.30521317],\n",
       "        [ 0.00457343,  0.61811112],\n",
       "        [ 0.5254029 , -0.1355072 ],\n",
       "        [ 0.18372194,  0.58583197],\n",
       "        [-0.29589587, -0.11875821],\n",
       "        [ 0.14206438, -0.0359752 ],\n",
       "        [ 0.51165072,  0.56778979],\n",
       "        [ 0.        ,  0.        ]]])"
      ]
     },
     "execution_count": 170,
     "metadata": {},
     "output_type": "execute_result"
    }
   ],
   "source": [
    "differences=x[:,np.newaxis]-x[np.newaxis,:]\n",
    "differences\n"
   ]
  },
  {
   "cell_type": "code",
   "execution_count": 173,
   "metadata": {},
   "outputs": [
    {
     "data": {
      "text/plain": [
       "(10, 10, 2)"
      ]
     },
     "execution_count": 173,
     "metadata": {},
     "output_type": "execute_result"
    }
   ],
   "source": [
    "sq_diff=differences**2\n",
    "sq_diff.shape"
   ]
  },
  {
   "cell_type": "code",
   "execution_count": 179,
   "metadata": {},
   "outputs": [
    {
     "data": {
      "text/plain": [
       "(10, 10)"
      ]
     },
     "execution_count": 179,
     "metadata": {},
     "output_type": "execute_result"
    }
   ],
   "source": [
    "dist_sq=sq_diff.sum(-1)\n",
    "dist_sq.shape"
   ]
  },
  {
   "cell_type": "code",
   "execution_count": 180,
   "metadata": {},
   "outputs": [
    {
     "data": {
      "text/plain": [
       "array([0., 0., 0., 0., 0., 0., 0., 0., 0., 0.])"
      ]
     },
     "execution_count": 180,
     "metadata": {},
     "output_type": "execute_result"
    }
   ],
   "source": [
    "dist_sq.diagonal()"
   ]
  },
  {
   "cell_type": "code",
   "execution_count": 183,
   "metadata": {},
   "outputs": [
    {
     "data": {
      "text/plain": [
       "array([[0, 7, 9, 1, 4, 2, 6, 5, 3, 8],\n",
       "       [1, 9, 0, 7, 6, 5, 2, 3, 4, 8],\n",
       "       [2, 8, 5, 0, 4, 7, 1, 9, 3, 6],\n",
       "       [3, 5, 1, 8, 2, 9, 0, 7, 6, 4],\n",
       "       [4, 0, 7, 2, 9, 1, 8, 5, 6, 3],\n",
       "       [5, 3, 8, 2, 1, 0, 9, 7, 4, 6],\n",
       "       [6, 9, 1, 7, 0, 3, 4, 5, 2, 8],\n",
       "       [7, 0, 9, 1, 4, 6, 2, 5, 3, 8],\n",
       "       [8, 2, 5, 3, 0, 1, 4, 7, 9, 6],\n",
       "       [9, 1, 7, 0, 6, 4, 2, 5, 3, 8]], dtype=int32)"
      ]
     },
     "execution_count": 183,
     "metadata": {},
     "output_type": "execute_result"
    }
   ],
   "source": [
    "nearest=np.argsort(dist_sq,axis=1)\n",
    "nearest"
   ]
  },
  {
   "cell_type": "code",
   "execution_count": 184,
   "metadata": {},
   "outputs": [],
   "source": [
    "k=2\n",
    "nearest=np.argpartition(dist_sq,k+1,axis=1)"
   ]
  },
  {
   "cell_type": "code",
   "execution_count": 190,
   "metadata": {},
   "outputs": [
    {
     "data": {
      "image/png": "[encoded data removed]",
      "text/plain": [
       "<Figure size 432x288 with 1 Axes>"
      ]
     },
     "metadata": {
      "needs_background": "light"
     },
     "output_type": "display_data"
    }
   ],
   "source": [
    "pl.scatter(x[:,0],x[:,1],s=100)\n",
    "for i in range(x.shape[0]):\n",
    "    for j in nearest[i,:k+1]:\n",
    "        pl.plot(*zip(x[j], x[i]), color='black')"
   ]
  },
  {
   "cell_type": "code",
   "execution_count": null,
   "metadata": {},
   "outputs": [],
   "source": []
  }
 ],
 "metadata": {
  "kernelspec": {
   "display_name": "Python 3",
   "language": "python",
   "name": "python3"
  },
  "language_info": {
   "codemirror_mode": {
    "name": "ipython",
    "version": 3
   },
   "file_extension": ".py",
   "mimetype": "text/x-python",
   "name": "python",
   "nbconvert_exporter": "python",
   "pygments_lexer": "ipython3",
   "version": "3.7.4"
  }
 },
 "nbformat": 4,
 "nbformat_minor": 2
}
