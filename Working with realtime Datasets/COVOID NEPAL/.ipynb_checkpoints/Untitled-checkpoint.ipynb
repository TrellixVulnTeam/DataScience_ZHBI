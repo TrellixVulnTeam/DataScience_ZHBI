{
 "cells": [
  {
   "cell_type": "code",
   "execution_count": 56,
   "metadata": {},
   "outputs": [],
   "source": [
    "import pandas as pd\n",
    "import numpy as np\n",
    "import seaborn as sns\n",
    "import matplotlib.pyplot as pl"
   ]
  },
  {
   "cell_type": "code",
   "execution_count": 57,
   "metadata": {},
   "outputs": [],
   "source": [
    "df=pd.read_excel('covid-nepal.xlsx')"
   ]
  },
  {
   "cell_type": "code",
   "execution_count": 58,
   "metadata": {},
   "outputs": [
    {
     "data": {
      "text/plain": [
       "(14031, 27)"
      ]
     },
     "execution_count": 58,
     "metadata": {},
     "output_type": "execute_result"
    }
   ],
   "source": [
    "df.shape"
   ]
  },
  {
   "cell_type": "code",
   "execution_count": 59,
   "metadata": {},
   "outputs": [
    {
     "data": {
      "text/html": [
       "<div>\n",
       "<style scoped>\n",
       "    .dataframe tbody tr th:only-of-type {\n",
       "        vertical-align: middle;\n",
       "    }\n",
       "\n",
       "    .dataframe tbody tr th {\n",
       "        vertical-align: top;\n",
       "    }\n",
       "\n",
       "    .dataframe thead th {\n",
       "        text-align: right;\n",
       "    }\n",
       "</style>\n",
       "<table border=\"1\" class=\"dataframe\">\n",
       "  <thead>\n",
       "    <tr style=\"text-align: right;\">\n",
       "      <th></th>\n",
       "      <th>id</th>\n",
       "      <th>Created On</th>\n",
       "      <th>Modified On</th>\n",
       "      <th>Recovered On</th>\n",
       "      <th>Current State</th>\n",
       "      <th>Death On</th>\n",
       "      <th>District</th>\n",
       "      <th>Province</th>\n",
       "      <th>Districts</th>\n",
       "      <th>Is Reinfected</th>\n",
       "      <th>...</th>\n",
       "      <th>Bbox/2</th>\n",
       "      <th>Bbox/3</th>\n",
       "      <th>Centroid/Coordinates/0</th>\n",
       "      <th>Centroid/Coordinates/1</th>\n",
       "      <th>Municipality</th>\n",
       "      <th>Nationality</th>\n",
       "      <th>point/coordinates/0</th>\n",
       "      <th>point/coordinates/1</th>\n",
       "      <th>Province (District)</th>\n",
       "      <th>Ward</th>\n",
       "    </tr>\n",
       "  </thead>\n",
       "  <tbody>\n",
       "    <tr>\n",
       "      <th>0</th>\n",
       "      <td>1</td>\n",
       "      <td>2020-04-08T12:10:46.924551+05:45</td>\n",
       "      <td>2020-04-29T10:23:24.996211+05:45</td>\n",
       "      <td>2020-01-31</td>\n",
       "      <td>recovered</td>\n",
       "      <td>NaT</td>\n",
       "      <td>27</td>\n",
       "      <td>3</td>\n",
       "      <td>Kathmandu</td>\n",
       "      <td>False</td>\n",
       "      <td>...</td>\n",
       "      <td>85.565844</td>\n",
       "      <td>27.817653</td>\n",
       "      <td>85.347351</td>\n",
       "      <td>27.728201</td>\n",
       "      <td>27006</td>\n",
       "      <td>2.0</td>\n",
       "      <td>85.306941</td>\n",
       "      <td>27.695445</td>\n",
       "      <td>3</td>\n",
       "      <td>3716.0</td>\n",
       "    </tr>\n",
       "    <tr>\n",
       "      <th>1</th>\n",
       "      <td>2</td>\n",
       "      <td>2020-04-08T12:10:46.924551+05:45</td>\n",
       "      <td>2020-04-18T15:44:15.656734+05:45</td>\n",
       "      <td>2020-04-18</td>\n",
       "      <td>recovered</td>\n",
       "      <td>NaT</td>\n",
       "      <td>27</td>\n",
       "      <td>3</td>\n",
       "      <td>Kathmandu</td>\n",
       "      <td>False</td>\n",
       "      <td>...</td>\n",
       "      <td>85.565844</td>\n",
       "      <td>27.817653</td>\n",
       "      <td>85.347351</td>\n",
       "      <td>27.728201</td>\n",
       "      <td>27006</td>\n",
       "      <td>2.0</td>\n",
       "      <td>85.303927</td>\n",
       "      <td>27.695357</td>\n",
       "      <td>3</td>\n",
       "      <td>3716.0</td>\n",
       "    </tr>\n",
       "    <tr>\n",
       "      <th>2</th>\n",
       "      <td>15</td>\n",
       "      <td>2020-04-14T12:59:03.097377+05:45</td>\n",
       "      <td>2020-05-24T16:45:27.983589+05:45</td>\n",
       "      <td>2020-04-23</td>\n",
       "      <td>active</td>\n",
       "      <td>NaT</td>\n",
       "      <td>27</td>\n",
       "      <td>3</td>\n",
       "      <td>Kathmandu</td>\n",
       "      <td>True</td>\n",
       "      <td>...</td>\n",
       "      <td>85.565844</td>\n",
       "      <td>27.817653</td>\n",
       "      <td>85.347351</td>\n",
       "      <td>27.728201</td>\n",
       "      <td>27005</td>\n",
       "      <td>2.0</td>\n",
       "      <td>85.370910</td>\n",
       "      <td>27.692810</td>\n",
       "      <td>3</td>\n",
       "      <td>3837.0</td>\n",
       "    </tr>\n",
       "    <tr>\n",
       "      <th>3</th>\n",
       "      <td>16</td>\n",
       "      <td>2020-04-14T12:59:53.539214+05:45</td>\n",
       "      <td>2020-04-23T16:55:04.611254+05:45</td>\n",
       "      <td>2020-04-23</td>\n",
       "      <td>recovered</td>\n",
       "      <td>NaT</td>\n",
       "      <td>27</td>\n",
       "      <td>3</td>\n",
       "      <td>Kathmandu</td>\n",
       "      <td>False</td>\n",
       "      <td>...</td>\n",
       "      <td>85.565844</td>\n",
       "      <td>27.817653</td>\n",
       "      <td>85.347351</td>\n",
       "      <td>27.728201</td>\n",
       "      <td>27005</td>\n",
       "      <td>2.0</td>\n",
       "      <td>85.371457</td>\n",
       "      <td>27.692974</td>\n",
       "      <td>3</td>\n",
       "      <td>3837.0</td>\n",
       "    </tr>\n",
       "    <tr>\n",
       "      <th>4</th>\n",
       "      <td>220</td>\n",
       "      <td>2020-05-12T22:38:57.878594+05:45</td>\n",
       "      <td>2020-05-23T13:12:30.865361+05:45</td>\n",
       "      <td>2020-05-21</td>\n",
       "      <td>recovered</td>\n",
       "      <td>NaT</td>\n",
       "      <td>27</td>\n",
       "      <td>3</td>\n",
       "      <td>Kathmandu</td>\n",
       "      <td>False</td>\n",
       "      <td>...</td>\n",
       "      <td>85.565844</td>\n",
       "      <td>27.817653</td>\n",
       "      <td>85.347351</td>\n",
       "      <td>27.728201</td>\n",
       "      <td>27001</td>\n",
       "      <td>NaN</td>\n",
       "      <td>85.356898</td>\n",
       "      <td>27.734822</td>\n",
       "      <td>3</td>\n",
       "      <td>3809.0</td>\n",
       "    </tr>\n",
       "  </tbody>\n",
       "</table>\n",
       "<p>5 rows × 27 columns</p>\n",
       "</div>"
      ],
      "text/plain": [
       "    id                        Created On                       Modified On  \\\n",
       "0    1  2020-04-08T12:10:46.924551+05:45  2020-04-29T10:23:24.996211+05:45   \n",
       "1    2  2020-04-08T12:10:46.924551+05:45  2020-04-18T15:44:15.656734+05:45   \n",
       "2   15  2020-04-14T12:59:03.097377+05:45  2020-05-24T16:45:27.983589+05:45   \n",
       "3   16  2020-04-14T12:59:53.539214+05:45  2020-04-23T16:55:04.611254+05:45   \n",
       "4  220  2020-05-12T22:38:57.878594+05:45  2020-05-23T13:12:30.865361+05:45   \n",
       "\n",
       "  Recovered On Current State Death On  District  Province  Districts  \\\n",
       "0   2020-01-31     recovered      NaT        27         3  Kathmandu   \n",
       "1   2020-04-18     recovered      NaT        27         3  Kathmandu   \n",
       "2   2020-04-23        active      NaT        27         3  Kathmandu   \n",
       "3   2020-04-23     recovered      NaT        27         3  Kathmandu   \n",
       "4   2020-05-21     recovered      NaT        27         3  Kathmandu   \n",
       "\n",
       "   Is Reinfected  ...     Bbox/2     Bbox/3  Centroid/Coordinates/0  \\\n",
       "0          False  ...  85.565844  27.817653               85.347351   \n",
       "1          False  ...  85.565844  27.817653               85.347351   \n",
       "2           True  ...  85.565844  27.817653               85.347351   \n",
       "3          False  ...  85.565844  27.817653               85.347351   \n",
       "4          False  ...  85.565844  27.817653               85.347351   \n",
       "\n",
       "  Centroid/Coordinates/1 Municipality  Nationality  point/coordinates/0  \\\n",
       "0              27.728201        27006          2.0            85.306941   \n",
       "1              27.728201        27006          2.0            85.303927   \n",
       "2              27.728201        27005          2.0            85.370910   \n",
       "3              27.728201        27005          2.0            85.371457   \n",
       "4              27.728201        27001          NaN            85.356898   \n",
       "\n",
       "   point/coordinates/1  Province (District)    Ward  \n",
       "0            27.695445                    3  3716.0  \n",
       "1            27.695357                    3  3716.0  \n",
       "2            27.692810                    3  3837.0  \n",
       "3            27.692974                    3  3837.0  \n",
       "4            27.734822                    3  3809.0  \n",
       "\n",
       "[5 rows x 27 columns]"
      ]
     },
     "execution_count": 59,
     "metadata": {},
     "output_type": "execute_result"
    }
   ],
   "source": [
    "df.head()"
   ]
  },
  {
   "cell_type": "code",
   "execution_count": 60,
   "metadata": {},
   "outputs": [],
   "source": [
    "df['Created_month']=pd.DatetimeIndex(df['Created On']).month\n",
    "df['Modified_month']=pd.DatetimeIndex(df['Modified On']).month\n",
    "df['Recovered_month']=pd.DatetimeIndex(df['Recovered On']).month"
   ]
  },
  {
   "cell_type": "code",
   "execution_count": null,
   "metadata": {},
   "outputs": [],
   "source": []
  },
  {
   "cell_type": "code",
   "execution_count": 62,
   "metadata": {},
   "outputs": [],
   "source": [
    "df['Recovered_month'].fillna('NA',inplace=True)"
   ]
  },
  {
   "cell_type": "code",
   "execution_count": 64,
   "metadata": {},
   "outputs": [],
   "source": [
    "def convert(date):\n",
    "    if type(date)==float:\n",
    "        return int(date)\n",
    "    else:\n",
    "        return 'Na'\n",
    "        \n",
    "df['Recovered_month']=df['Recovered_month'].apply(lambda x: convert(x))"
   ]
  },
  {
   "cell_type": "code",
   "execution_count": 68,
   "metadata": {},
   "outputs": [],
   "source": [
    "df.drop(['Created On','Modified On','Recovered On'],axis=1,inplace=True)"
   ]
  },
  {
   "cell_type": "code",
   "execution_count": 69,
   "metadata": {},
   "outputs": [
    {
     "data": {
      "text/plain": [
       "Index(['id', 'Current State', 'Death On', 'District', 'Province', 'Districts',\n",
       "       'Is Reinfected', 'Gender', 'Reported On', 'Age', 'Source', 'Type',\n",
       "       'Bbox/0', 'Bbox/1', 'Bbox/2', 'Bbox/3', 'Centroid/Coordinates/0',\n",
       "       'Centroid/Coordinates/1', 'Municipality', 'Nationality',\n",
       "       'point/coordinates/0', 'point/coordinates/1', 'Province (District)',\n",
       "       'Ward', 'Created_month', 'Modified_month', 'Recovered_month'],\n",
       "      dtype='object')"
      ]
     },
     "execution_count": 69,
     "metadata": {},
     "output_type": "execute_result"
    }
   ],
   "source": []
  },
  {
   "cell_type": "code",
   "execution_count": 70,
   "metadata": {},
   "outputs": [
    {
     "data": {
      "text/html": [
       "<div>\n",
       "<style scoped>\n",
       "    .dataframe tbody tr th:only-of-type {\n",
       "        vertical-align: middle;\n",
       "    }\n",
       "\n",
       "    .dataframe tbody tr th {\n",
       "        vertical-align: top;\n",
       "    }\n",
       "\n",
       "    .dataframe thead th {\n",
       "        text-align: right;\n",
       "    }\n",
       "</style>\n",
       "<table border=\"1\" class=\"dataframe\">\n",
       "  <thead>\n",
       "    <tr style=\"text-align: right;\">\n",
       "      <th></th>\n",
       "      <th>id</th>\n",
       "      <th>Current State</th>\n",
       "      <th>Death On</th>\n",
       "      <th>District</th>\n",
       "      <th>Province</th>\n",
       "      <th>Districts</th>\n",
       "      <th>Is Reinfected</th>\n",
       "      <th>Gender</th>\n",
       "      <th>Reported On</th>\n",
       "      <th>Age</th>\n",
       "      <th>...</th>\n",
       "      <th>Centroid/Coordinates/1</th>\n",
       "      <th>Municipality</th>\n",
       "      <th>Nationality</th>\n",
       "      <th>point/coordinates/0</th>\n",
       "      <th>point/coordinates/1</th>\n",
       "      <th>Province (District)</th>\n",
       "      <th>Ward</th>\n",
       "      <th>Created_month</th>\n",
       "      <th>Modified_month</th>\n",
       "      <th>Recovered_month</th>\n",
       "    </tr>\n",
       "  </thead>\n",
       "  <tbody>\n",
       "    <tr>\n",
       "      <th>0</th>\n",
       "      <td>1</td>\n",
       "      <td>recovered</td>\n",
       "      <td>NaT</td>\n",
       "      <td>27</td>\n",
       "      <td>3</td>\n",
       "      <td>Kathmandu</td>\n",
       "      <td>False</td>\n",
       "      <td>male</td>\n",
       "      <td>2020-01-24</td>\n",
       "      <td>32.0</td>\n",
       "      <td>...</td>\n",
       "      <td>27.728201</td>\n",
       "      <td>27006</td>\n",
       "      <td>2.0</td>\n",
       "      <td>85.306941</td>\n",
       "      <td>27.695445</td>\n",
       "      <td>3</td>\n",
       "      <td>3716.0</td>\n",
       "      <td>4</td>\n",
       "      <td>4</td>\n",
       "      <td>1</td>\n",
       "    </tr>\n",
       "    <tr>\n",
       "      <th>1</th>\n",
       "      <td>2</td>\n",
       "      <td>recovered</td>\n",
       "      <td>NaT</td>\n",
       "      <td>27</td>\n",
       "      <td>3</td>\n",
       "      <td>Kathmandu</td>\n",
       "      <td>False</td>\n",
       "      <td>female</td>\n",
       "      <td>2020-03-23</td>\n",
       "      <td>19.0</td>\n",
       "      <td>...</td>\n",
       "      <td>27.728201</td>\n",
       "      <td>27006</td>\n",
       "      <td>2.0</td>\n",
       "      <td>85.303927</td>\n",
       "      <td>27.695357</td>\n",
       "      <td>3</td>\n",
       "      <td>3716.0</td>\n",
       "      <td>4</td>\n",
       "      <td>4</td>\n",
       "      <td>4</td>\n",
       "    </tr>\n",
       "    <tr>\n",
       "      <th>2</th>\n",
       "      <td>15</td>\n",
       "      <td>active</td>\n",
       "      <td>NaT</td>\n",
       "      <td>27</td>\n",
       "      <td>3</td>\n",
       "      <td>Kathmandu</td>\n",
       "      <td>True</td>\n",
       "      <td>male</td>\n",
       "      <td>2020-04-14</td>\n",
       "      <td>58.0</td>\n",
       "      <td>...</td>\n",
       "      <td>27.728201</td>\n",
       "      <td>27005</td>\n",
       "      <td>2.0</td>\n",
       "      <td>85.370910</td>\n",
       "      <td>27.692810</td>\n",
       "      <td>3</td>\n",
       "      <td>3837.0</td>\n",
       "      <td>4</td>\n",
       "      <td>5</td>\n",
       "      <td>4</td>\n",
       "    </tr>\n",
       "    <tr>\n",
       "      <th>3</th>\n",
       "      <td>16</td>\n",
       "      <td>recovered</td>\n",
       "      <td>NaT</td>\n",
       "      <td>27</td>\n",
       "      <td>3</td>\n",
       "      <td>Kathmandu</td>\n",
       "      <td>False</td>\n",
       "      <td>female</td>\n",
       "      <td>2020-04-14</td>\n",
       "      <td>81.0</td>\n",
       "      <td>...</td>\n",
       "      <td>27.728201</td>\n",
       "      <td>27005</td>\n",
       "      <td>2.0</td>\n",
       "      <td>85.371457</td>\n",
       "      <td>27.692974</td>\n",
       "      <td>3</td>\n",
       "      <td>3837.0</td>\n",
       "      <td>4</td>\n",
       "      <td>4</td>\n",
       "      <td>4</td>\n",
       "    </tr>\n",
       "    <tr>\n",
       "      <th>4</th>\n",
       "      <td>220</td>\n",
       "      <td>recovered</td>\n",
       "      <td>NaT</td>\n",
       "      <td>27</td>\n",
       "      <td>3</td>\n",
       "      <td>Kathmandu</td>\n",
       "      <td>False</td>\n",
       "      <td>female</td>\n",
       "      <td>2020-05-12</td>\n",
       "      <td>33.0</td>\n",
       "      <td>...</td>\n",
       "      <td>27.728201</td>\n",
       "      <td>27001</td>\n",
       "      <td>NaN</td>\n",
       "      <td>85.356898</td>\n",
       "      <td>27.734822</td>\n",
       "      <td>3</td>\n",
       "      <td>3809.0</td>\n",
       "      <td>5</td>\n",
       "      <td>5</td>\n",
       "      <td>5</td>\n",
       "    </tr>\n",
       "  </tbody>\n",
       "</table>\n",
       "<p>5 rows × 27 columns</p>\n",
       "</div>"
      ],
      "text/plain": [
       "    id Current State Death On  District  Province  Districts  Is Reinfected  \\\n",
       "0    1     recovered      NaT        27         3  Kathmandu          False   \n",
       "1    2     recovered      NaT        27         3  Kathmandu          False   \n",
       "2   15        active      NaT        27         3  Kathmandu           True   \n",
       "3   16     recovered      NaT        27         3  Kathmandu          False   \n",
       "4  220     recovered      NaT        27         3  Kathmandu          False   \n",
       "\n",
       "   Gender Reported On   Age  ... Centroid/Coordinates/1 Municipality  \\\n",
       "0    male  2020-01-24  32.0  ...              27.728201        27006   \n",
       "1  female  2020-03-23  19.0  ...              27.728201        27006   \n",
       "2    male  2020-04-14  58.0  ...              27.728201        27005   \n",
       "3  female  2020-04-14  81.0  ...              27.728201        27005   \n",
       "4  female  2020-05-12  33.0  ...              27.728201        27001   \n",
       "\n",
       "   Nationality  point/coordinates/0  point/coordinates/1  Province (District)  \\\n",
       "0          2.0            85.306941            27.695445                    3   \n",
       "1          2.0            85.303927            27.695357                    3   \n",
       "2          2.0            85.370910            27.692810                    3   \n",
       "3          2.0            85.371457            27.692974                    3   \n",
       "4          NaN            85.356898            27.734822                    3   \n",
       "\n",
       "     Ward  Created_month  Modified_month  Recovered_month  \n",
       "0  3716.0              4               4                1  \n",
       "1  3716.0              4               4                4  \n",
       "2  3837.0              4               5                4  \n",
       "3  3837.0              4               4                4  \n",
       "4  3809.0              5               5                5  \n",
       "\n",
       "[5 rows x 27 columns]"
      ]
     },
     "execution_count": 70,
     "metadata": {},
     "output_type": "execute_result"
    }
   ],
   "source": [
    "df.head()"
   ]
  },
  {
   "cell_type": "code",
   "execution_count": 92,
   "metadata": {},
   "outputs": [
    {
     "data": {
      "image/png": "[encoded data removed]",
      "text/plain": [
       "<Figure size 720x504 with 1 Axes>"
      ]
     },
     "metadata": {
      "needs_background": "light"
     },
     "output_type": "display_data"
    }
   ],
   "source": [
    "pl.figure(figsize=(10,7))\n",
    "ax=sns.countplot(df['Current State'])\n",
    "pl.title('Total Recovered, Active and death cases in Nepal')\n",
    "\n",
    "for i,j in enumerate(df['Current State'].value_counts().reset_index()['Current State'].values):\n",
    "    ax.text(i,1000,j,ha='center',va='center',size=15)\n",
    "pl.grid(alpha=.4)\n",
    "pl.show()"
   ]
  },
  {
   "cell_type": "code",
   "execution_count": null,
   "metadata": {},
   "outputs": [],
   "source": []
  },
  {
   "cell_type": "code",
   "execution_count": null,
   "metadata": {},
   "outputs": [],
   "source": []
  },
  {
   "cell_type": "code",
   "execution_count": null,
   "metadata": {},
   "outputs": [],
   "source": []
  },
  {
   "cell_type": "code",
   "execution_count": null,
   "metadata": {},
   "outputs": [],
   "source": []
  },
  {
   "cell_type": "code",
   "execution_count": null,
   "metadata": {},
   "outputs": [],
   "source": []
  },
  {
   "cell_type": "code",
   "execution_count": null,
   "metadata": {},
   "outputs": [],
   "source": []
  },
  {
   "cell_type": "code",
   "execution_count": null,
   "metadata": {},
   "outputs": [],
   "source": []
  },
  {
   "cell_type": "code",
   "execution_count": null,
   "metadata": {},
   "outputs": [],
   "source": []
  },
  {
   "cell_type": "code",
   "execution_count": null,
   "metadata": {},
   "outputs": [],
   "source": []
  },
  {
   "cell_type": "code",
   "execution_count": null,
   "metadata": {},
   "outputs": [],
   "source": []
  },
  {
   "cell_type": "code",
   "execution_count": null,
   "metadata": {},
   "outputs": [],
   "source": []
  },
  {
   "cell_type": "code",
   "execution_count": null,
   "metadata": {},
   "outputs": [],
   "source": []
  },
  {
   "cell_type": "code",
   "execution_count": null,
   "metadata": {},
   "outputs": [],
   "source": []
  },
  {
   "cell_type": "code",
   "execution_count": null,
   "metadata": {},
   "outputs": [],
   "source": []
  },
  {
   "cell_type": "code",
   "execution_count": null,
   "metadata": {},
   "outputs": [],
   "source": []
  },
  {
   "cell_type": "code",
   "execution_count": null,
   "metadata": {},
   "outputs": [],
   "source": []
  },
  {
   "cell_type": "code",
   "execution_count": null,
   "metadata": {},
   "outputs": [],
   "source": []
  },
  {
   "cell_type": "code",
   "execution_count": null,
   "metadata": {},
   "outputs": [],
   "source": []
  },
  {
   "cell_type": "code",
   "execution_count": null,
   "metadata": {},
   "outputs": [],
   "source": []
  },
  {
   "cell_type": "code",
   "execution_count": null,
   "metadata": {},
   "outputs": [],
   "source": []
  },
  {
   "cell_type": "code",
   "execution_count": null,
   "metadata": {},
   "outputs": [],
   "source": []
  },
  {
   "cell_type": "code",
   "execution_count": null,
   "metadata": {},
   "outputs": [],
   "source": []
  },
  {
   "cell_type": "code",
   "execution_count": null,
   "metadata": {},
   "outputs": [],
   "source": []
  },
  {
   "cell_type": "code",
   "execution_count": null,
   "metadata": {},
   "outputs": [],
   "source": []
  },
  {
   "cell_type": "code",
   "execution_count": null,
   "metadata": {},
   "outputs": [],
   "source": []
  },
  {
   "cell_type": "code",
   "execution_count": null,
   "metadata": {},
   "outputs": [],
   "source": []
  },
  {
   "cell_type": "code",
   "execution_count": null,
   "metadata": {},
   "outputs": [],
   "source": []
  },
  {
   "cell_type": "code",
   "execution_count": null,
   "metadata": {},
   "outputs": [],
   "source": []
  },
  {
   "cell_type": "code",
   "execution_count": null,
   "metadata": {},
   "outputs": [],
   "source": []
  },
  {
   "cell_type": "code",
   "execution_count": null,
   "metadata": {},
   "outputs": [],
   "source": []
  },
  {
   "cell_type": "code",
   "execution_count": null,
   "metadata": {},
   "outputs": [],
   "source": []
  },
  {
   "cell_type": "code",
   "execution_count": null,
   "metadata": {},
   "outputs": [],
   "source": []
  },
  {
   "cell_type": "code",
   "execution_count": null,
   "metadata": {},
   "outputs": [],
   "source": []
  },
  {
   "cell_type": "code",
   "execution_count": null,
   "metadata": {},
   "outputs": [],
   "source": []
  },
  {
   "cell_type": "code",
   "execution_count": null,
   "metadata": {},
   "outputs": [],
   "source": []
  },
  {
   "cell_type": "code",
   "execution_count": null,
   "metadata": {},
   "outputs": [],
   "source": []
  },
  {
   "cell_type": "code",
   "execution_count": null,
   "metadata": {},
   "outputs": [],
   "source": []
  },
  {
   "cell_type": "code",
   "execution_count": null,
   "metadata": {},
   "outputs": [],
   "source": []
  },
  {
   "cell_type": "code",
   "execution_count": null,
   "metadata": {},
   "outputs": [],
   "source": []
  },
  {
   "cell_type": "code",
   "execution_count": null,
   "metadata": {},
   "outputs": [],
   "source": []
  },
  {
   "cell_type": "code",
   "execution_count": null,
   "metadata": {},
   "outputs": [],
   "source": []
  },
  {
   "cell_type": "code",
   "execution_count": null,
   "metadata": {},
   "outputs": [],
   "source": []
  },
  {
   "cell_type": "code",
   "execution_count": null,
   "metadata": {},
   "outputs": [],
   "source": []
  },
  {
   "cell_type": "code",
   "execution_count": null,
   "metadata": {},
   "outputs": [],
   "source": []
  },
  {
   "cell_type": "code",
   "execution_count": null,
   "metadata": {},
   "outputs": [],
   "source": []
  },
  {
   "cell_type": "code",
   "execution_count": null,
   "metadata": {},
   "outputs": [],
   "source": []
  },
  {
   "cell_type": "code",
   "execution_count": null,
   "metadata": {},
   "outputs": [],
   "source": []
  },
  {
   "cell_type": "code",
   "execution_count": null,
   "metadata": {},
   "outputs": [],
   "source": []
  },
  {
   "cell_type": "code",
   "execution_count": null,
   "metadata": {},
   "outputs": [],
   "source": []
  },
  {
   "cell_type": "code",
   "execution_count": null,
   "metadata": {},
   "outputs": [],
   "source": []
  },
  {
   "cell_type": "code",
   "execution_count": null,
   "metadata": {},
   "outputs": [],
   "source": []
  }
 ],
 "metadata": {
  "kernelspec": {
   "display_name": "Python 3",
   "language": "python",
   "name": "python3"
  },
  "language_info": {
   "codemirror_mode": {
    "name": "ipython",
    "version": 3
   },
   "file_extension": ".py",
   "mimetype": "text/x-python",
   "name": "python",
   "nbconvert_exporter": "python",
   "pygments_lexer": "ipython3",
   "version": "3.7.7"
  }
 },
 "nbformat": 4,
 "nbformat_minor": 4
}
