{
 "cells": [
  {
   "cell_type": "markdown",
   "id": "953e3a75",
   "metadata": {},
   "source": [
    "Q1). Write a program to reverse an integer in Python"
   ]
  },
  {
   "cell_type": "code",
   "execution_count": 56,
   "id": "aa86630d",
   "metadata": {},
   "outputs": [
    {
     "name": "stdout",
     "output_type": "stream",
     "text": [
      "102013\n"
     ]
    },
    {
     "data": {
      "text/plain": [
       "310201"
      ]
     },
     "execution_count": 56,
     "metadata": {},
     "output_type": "execute_result"
    }
   ],
   "source": [
    "def reverse(integer):\n",
    "    n = integer\n",
    "    print(n)\n",
    "    reverse = 0\n",
    "    while n >0:\n",
    "        rem = n % 10\n",
    "        reverse = reverse*10+rem\n",
    "        n = n //10\n",
    "    return reverse\n",
    "    \n",
    "    \n",
    "    \n",
    "reverse(102013)"
   ]
  },
  {
   "cell_type": "markdown",
   "id": "5a21cf81",
   "metadata": {},
   "source": [
    "Q2). Write a program in Python to check whether an integer is Armstrong number or not."
   ]
  },
  {
   "cell_type": "code",
   "execution_count": 25,
   "id": "71726dcc",
   "metadata": {},
   "outputs": [
    {
     "data": {
      "text/plain": [
       "2"
      ]
     },
     "execution_count": 25,
     "metadata": {},
     "output_type": "execute_result"
    }
   ],
   "source": [
    "102%10"
   ]
  },
  {
   "cell_type": "code",
   "execution_count": 27,
   "id": "5e5ad762",
   "metadata": {},
   "outputs": [
    {
     "data": {
      "text/plain": [
       "0"
      ]
     },
     "execution_count": 27,
     "metadata": {},
     "output_type": "execute_result"
    }
   ],
   "source": [
    "2//10"
   ]
  },
  {
   "cell_type": "code",
   "execution_count": 30,
   "id": "aa6f1fe1",
   "metadata": {},
   "outputs": [
    {
     "data": {
      "text/plain": [
       "0"
      ]
     },
     "execution_count": 30,
     "metadata": {},
     "output_type": "execute_result"
    }
   ],
   "source": [
    "0%10\n"
   ]
  },
  {
   "cell_type": "code",
   "execution_count": 35,
   "id": "9153eae8",
   "metadata": {},
   "outputs": [
    {
     "data": {
      "text/plain": [
       "30"
      ]
     },
     "execution_count": 35,
     "metadata": {},
     "output_type": "execute_result"
    }
   ],
   "source": [
    "(102%10)*10 + (102//10)"
   ]
  },
  {
   "cell_type": "code",
   "execution_count": null,
   "id": "13c9d9fb",
   "metadata": {},
   "outputs": [],
   "source": [
    "20"
   ]
  },
  {
   "cell_type": "code",
   "execution_count": null,
   "id": "8dcf9376",
   "metadata": {},
   "outputs": [],
   "source": []
  },
  {
   "cell_type": "code",
   "execution_count": null,
   "id": "d08abb19",
   "metadata": {},
   "outputs": [],
   "source": []
  },
  {
   "cell_type": "code",
   "execution_count": null,
   "id": "8c40e3f7",
   "metadata": {},
   "outputs": [],
   "source": []
  }
 ],
 "metadata": {
  "kernelspec": {
   "display_name": "Python 3 (ipykernel)",
   "language": "python",
   "name": "python3"
  },
  "language_info": {
   "codemirror_mode": {
    "name": "ipython",
    "version": 3
   },
   "file_extension": ".py",
   "mimetype": "text/x-python",
   "name": "python",
   "nbconvert_exporter": "python",
   "pygments_lexer": "ipython3",
   "version": "3.9.14"
  }
 },
 "nbformat": 4,
 "nbformat_minor": 5
}
