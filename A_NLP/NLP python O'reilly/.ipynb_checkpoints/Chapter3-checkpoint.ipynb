{
 "cells": [
  {
   "cell_type": "code",
   "execution_count": 1,
   "metadata": {},
   "outputs": [],
   "source": [
    "from __future__ import division\n",
    "import nltk,re,pprint\n",
    "from urllib.request import urlopen\n",
    "from bs4 import BeautifulSoup"
   ]
  },
  {
   "cell_type": "code",
   "execution_count": null,
   "metadata": {},
   "outputs": [],
   "source": []
  },
  {
   "cell_type": "code",
   "execution_count": 2,
   "metadata": {},
   "outputs": [],
   "source": [
    "url=\"http://www.gutenberg.org/files/2554/2554-0.txt\""
   ]
  },
  {
   "cell_type": "code",
   "execution_count": 3,
   "metadata": {},
   "outputs": [],
   "source": [
    "raw=urlopen(url).read()"
   ]
  },
  {
   "cell_type": "code",
   "execution_count": 4,
   "metadata": {},
   "outputs": [
    {
     "data": {
      "text/plain": [
       "bytes"
      ]
     },
     "execution_count": 4,
     "metadata": {},
     "output_type": "execute_result"
    }
   ],
   "source": [
    "type(raw)"
   ]
  },
  {
   "cell_type": "code",
   "execution_count": 5,
   "metadata": {},
   "outputs": [
    {
     "data": {
      "text/plain": [
       "1201735"
      ]
     },
     "execution_count": 5,
     "metadata": {},
     "output_type": "execute_result"
    }
   ],
   "source": [
    "len(raw)"
   ]
  },
  {
   "cell_type": "code",
   "execution_count": 6,
   "metadata": {},
   "outputs": [
    {
     "data": {
      "text/plain": [
       "b'ject Gutenberg EBook of Crime and Punishment, by Fyodor Dostoevsk'"
      ]
     },
     "execution_count": 6,
     "metadata": {},
     "output_type": "execute_result"
    }
   ],
   "source": [
    "raw[10:75]"
   ]
  },
  {
   "cell_type": "code",
   "execution_count": 7,
   "metadata": {},
   "outputs": [],
   "source": [
    "proxies={'http':'http://www.someproxy.com:3128'}"
   ]
  },
  {
   "cell_type": "code",
   "execution_count": 8,
   "metadata": {},
   "outputs": [],
   "source": [
    "# raw=urlopen(url,proxies=proxies).read()"
   ]
  },
  {
   "cell_type": "code",
   "execution_count": 9,
   "metadata": {},
   "outputs": [],
   "source": [
    "url=\"https://www.medium.com\""
   ]
  },
  {
   "cell_type": "code",
   "execution_count": 10,
   "metadata": {},
   "outputs": [],
   "source": [
    "raw=raw.decode('utf-8')"
   ]
  },
  {
   "cell_type": "code",
   "execution_count": 11,
   "metadata": {},
   "outputs": [],
   "source": [
    "tokens=nltk.word_tokenize(raw)"
   ]
  },
  {
   "cell_type": "code",
   "execution_count": 12,
   "metadata": {},
   "outputs": [
    {
     "data": {
      "text/plain": [
       "list"
      ]
     },
     "execution_count": 12,
     "metadata": {},
     "output_type": "execute_result"
    }
   ],
   "source": [
    "type(tokens)"
   ]
  },
  {
   "cell_type": "code",
   "execution_count": 13,
   "metadata": {},
   "outputs": [
    {
     "data": {
      "text/plain": [
       "257085"
      ]
     },
     "execution_count": 13,
     "metadata": {},
     "output_type": "execute_result"
    }
   ],
   "source": [
    "len(tokens)"
   ]
  },
  {
   "cell_type": "code",
   "execution_count": 14,
   "metadata": {},
   "outputs": [
    {
     "data": {
      "text/plain": [
       "['\\ufeffThe',\n",
       " 'Project',\n",
       " 'Gutenberg',\n",
       " 'EBook',\n",
       " 'of',\n",
       " 'Crime',\n",
       " 'and',\n",
       " 'Punishment',\n",
       " ',',\n",
       " 'by']"
      ]
     },
     "execution_count": 14,
     "metadata": {},
     "output_type": "execute_result"
    }
   ],
   "source": [
    "tokens[:10]"
   ]
  },
  {
   "cell_type": "code",
   "execution_count": 15,
   "metadata": {},
   "outputs": [],
   "source": [
    "text=nltk.Text(tokens)"
   ]
  },
  {
   "cell_type": "code",
   "execution_count": 16,
   "metadata": {},
   "outputs": [
    {
     "data": {
      "text/plain": [
       "nltk.text.Text"
      ]
     },
     "execution_count": 16,
     "metadata": {},
     "output_type": "execute_result"
    }
   ],
   "source": [
    "type(text)"
   ]
  },
  {
   "cell_type": "code",
   "execution_count": 17,
   "metadata": {},
   "outputs": [
    {
     "data": {
      "text/plain": [
       "['PROJECT',\n",
       " 'GUTENBERG',\n",
       " 'EBOOK',\n",
       " 'CRIME',\n",
       " 'AND',\n",
       " 'PUNISHMENT',\n",
       " '*',\n",
       " '*',\n",
       " '*',\n",
       " 'Produced',\n",
       " 'by',\n",
       " 'John',\n",
       " 'Bickers',\n",
       " ';',\n",
       " 'and',\n",
       " 'Dagny',\n",
       " 'CRIME',\n",
       " 'AND',\n",
       " 'PUNISHMENT',\n",
       " 'By',\n",
       " 'Fyodor',\n",
       " 'Dostoevsky',\n",
       " 'Translated',\n",
       " 'By',\n",
       " 'Constance',\n",
       " 'Garnett',\n",
       " 'TRANSLATOR',\n",
       " '’',\n",
       " 'S',\n",
       " 'PREFACE',\n",
       " 'A',\n",
       " 'few',\n",
       " 'words',\n",
       " 'about',\n",
       " 'Dostoevsky',\n",
       " 'himself',\n",
       " 'may',\n",
       " 'help',\n",
       " 'the',\n",
       " 'English',\n",
       " 'reader',\n",
       " 'to',\n",
       " 'understand',\n",
       " 'his',\n",
       " 'work',\n",
       " '.',\n",
       " 'Dostoevsky',\n",
       " 'was',\n",
       " 'the',\n",
       " 'son']"
      ]
     },
     "execution_count": 17,
     "metadata": {},
     "output_type": "execute_result"
    }
   ],
   "source": [
    "text[100:150]"
   ]
  },
  {
   "cell_type": "code",
   "execution_count": 18,
   "metadata": {},
   "outputs": [
    {
     "name": "stdout",
     "output_type": "stream",
     "text": [
      "Katerina Ivanovna; Pyotr Petrovitch; Pulcheria Alexandrovna; Avdotya\n",
      "Romanovna; Rodion Romanovitch; Marfa Petrovna; Sofya Semyonovna; old\n",
      "woman; Project Gutenberg-tm; Porfiry Petrovitch; Amalia Ivanovna;\n",
      "great deal; young man; Nikodim Fomitch; Ilya Petrovitch; Project\n",
      "Gutenberg; Andrey Semyonovitch; Hay Market; Dmitri Prokofitch; Good\n",
      "heavens\n"
     ]
    }
   ],
   "source": [
    "text.collocations()"
   ]
  },
  {
   "cell_type": "code",
   "execution_count": 19,
   "metadata": {},
   "outputs": [
    {
     "data": {
      "text/plain": [
       "[('Katerina', 'Ivanovna'),\n",
       " ('Pyotr', 'Petrovitch'),\n",
       " ('Pulcheria', 'Alexandrovna'),\n",
       " ('Avdotya', 'Romanovna'),\n",
       " ('Rodion', 'Romanovitch'),\n",
       " ('Marfa', 'Petrovna'),\n",
       " ('Sofya', 'Semyonovna'),\n",
       " ('old', 'woman'),\n",
       " ('Project', 'Gutenberg-tm'),\n",
       " ('Porfiry', 'Petrovitch'),\n",
       " ('Amalia', 'Ivanovna'),\n",
       " ('great', 'deal'),\n",
       " ('young', 'man'),\n",
       " ('Nikodim', 'Fomitch'),\n",
       " ('Ilya', 'Petrovitch'),\n",
       " ('Project', 'Gutenberg'),\n",
       " ('Andrey', 'Semyonovitch'),\n",
       " ('Hay', 'Market'),\n",
       " ('Dmitri', 'Prokofitch'),\n",
       " ('Good', 'heavens')]"
      ]
     },
     "execution_count": 19,
     "metadata": {},
     "output_type": "execute_result"
    }
   ],
   "source": [
    "text.collocation_list()"
   ]
  },
  {
   "cell_type": "code",
   "execution_count": 20,
   "metadata": {},
   "outputs": [
    {
     "data": {
      "text/plain": [
       "5336"
      ]
     },
     "execution_count": 20,
     "metadata": {},
     "output_type": "execute_result"
    }
   ],
   "source": [
    "raw.find('PART I')"
   ]
  },
  {
   "cell_type": "code",
   "execution_count": 21,
   "metadata": {},
   "outputs": [
    {
     "data": {
      "text/plain": [
       "13"
      ]
     },
     "execution_count": 21,
     "metadata": {},
     "output_type": "execute_result"
    }
   ],
   "source": [
    "raw.rfind(\"Gutenberg EBook of Crime\")"
   ]
  },
  {
   "cell_type": "code",
   "execution_count": 22,
   "metadata": {},
   "outputs": [],
   "source": [
    "url = \"http://news.bbc.co.uk/2/hi/health/2284783.stm\""
   ]
  },
  {
   "cell_type": "code",
   "execution_count": 23,
   "metadata": {},
   "outputs": [],
   "source": [
    "html=urlopen(url).read()"
   ]
  },
  {
   "cell_type": "code",
   "execution_count": 24,
   "metadata": {},
   "outputs": [],
   "source": [
    "raw=BeautifulSoup(html).get_text()"
   ]
  },
  {
   "cell_type": "code",
   "execution_count": 25,
   "metadata": {},
   "outputs": [],
   "source": [
    "tokens=nltk.word_tokenize(raw)"
   ]
  },
  {
   "cell_type": "code",
   "execution_count": 26,
   "metadata": {},
   "outputs": [
    {
     "data": {
      "text/plain": [
       "['BBC', 'NEWS', '|', 'Health', '|', 'Blondes', \"'to\", 'die', 'out', 'in']"
      ]
     },
     "execution_count": 26,
     "metadata": {},
     "output_type": "execute_result"
    }
   ],
   "source": [
    "tokens[:10]"
   ]
  },
  {
   "cell_type": "code",
   "execution_count": 27,
   "metadata": {},
   "outputs": [
    {
     "name": "stdout",
     "output_type": "stream",
     "text": [
      "Displaying 7 of 7 matches:\n",
      "hey say too few people now carry the gene for blondes to last beyond the next \n",
      "blonde hair is caused by a recessive gene . In order for a child to have blond\n",
      " have blonde hair , it must have the gene on both sides of the family in the g\n",
      "ere is a disadvantage of having that gene or by chance . They do n't disappear\n",
      "des would disappear is if having the gene was a disadvantage and I do not thin\n",
      "er's Polio campaign launched in Iraq Gene defect explains high blood pressure \n",
      "er's Polio campaign launched in Iraq Gene defect explains high blood pressure \n"
     ]
    }
   ],
   "source": [
    "text=nltk.Text(tokens)\n",
    "text.concordance('gene')"
   ]
  },
  {
   "cell_type": "markdown",
   "metadata": {},
   "source": [
    "concordance finds the strings present in particular sentences"
   ]
  },
  {
   "cell_type": "code",
   "execution_count": 28,
   "metadata": {},
   "outputs": [],
   "source": [
    "import feedparser\n",
    "llog=feedparser.parse(\"http://languagelog.ldc.upenn.edu/nll/?feed=atom\")\n"
   ]
  },
  {
   "cell_type": "code",
   "execution_count": 29,
   "metadata": {},
   "outputs": [
    {
     "data": {
      "text/plain": [
       "'Language Log'"
      ]
     },
     "execution_count": 29,
     "metadata": {},
     "output_type": "execute_result"
    }
   ],
   "source": [
    "llog['feed']['title']"
   ]
  },
  {
   "cell_type": "code",
   "execution_count": 30,
   "metadata": {},
   "outputs": [
    {
     "data": {
      "text/plain": [
       "13"
      ]
     },
     "execution_count": 30,
     "metadata": {},
     "output_type": "execute_result"
    }
   ],
   "source": [
    "len(llog.entries)"
   ]
  },
  {
   "cell_type": "code",
   "execution_count": 31,
   "metadata": {},
   "outputs": [],
   "source": [
    "post=llog.entries[2]"
   ]
  },
  {
   "cell_type": "code",
   "execution_count": 32,
   "metadata": {},
   "outputs": [
    {
     "data": {
      "text/plain": [
       "{'authors': [{'name': 'Victor Mair',\n",
       "   'href': 'https://www.sas.upenn.edu/ealc/mair'}],\n",
       " 'author_detail': {'name': 'Victor Mair',\n",
       "  'href': 'https://www.sas.upenn.edu/ealc/mair'},\n",
       " 'href': 'https://www.sas.upenn.edu/ealc/mair',\n",
       " 'author': 'Victor Mair',\n",
       " 'title': 'Some citrus terms in Sinitic:  today and in the past',\n",
       " 'title_detail': {'type': 'text/html',\n",
       "  'language': 'en-US',\n",
       "  'base': 'https://languagelog.ldc.upenn.edu/nll/wp-atom.php',\n",
       "  'value': 'Some citrus terms in Sinitic:  today and in the past'},\n",
       " 'links': [{'rel': 'alternate',\n",
       "   'type': 'text/html',\n",
       "   'href': 'https://languagelog.ldc.upenn.edu/nll/?p=47623&utm_source=rss&utm_medium=rss&utm_campaign=some-citrus-terms-in-sinitic-today-and-in-the-past'},\n",
       "  {'rel': 'replies',\n",
       "   'type': 'text/html',\n",
       "   'href': 'https://languagelog.ldc.upenn.edu/nll/?p=47623&utm_source=rss&utm_medium=rss&utm_campaign=some-citrus-terms-in-sinitic-today-and-in-the-past#comments',\n",
       "   'count': '20',\n",
       "   'thr:count': '20'},\n",
       "  {'rel': 'replies',\n",
       "   'type': 'application/atom+xml',\n",
       "   'href': 'https://languagelog.ldc.upenn.edu/nll/?feed=atom&p=47623',\n",
       "   'count': '20',\n",
       "   'thr:count': '20'}],\n",
       " 'link': 'https://languagelog.ldc.upenn.edu/nll/?p=47623&utm_source=rss&utm_medium=rss&utm_campaign=some-citrus-terms-in-sinitic-today-and-in-the-past',\n",
       " 'id': 'https://languagelog.ldc.upenn.edu/nll/?p=47623',\n",
       " 'guidislink': False,\n",
       " 'updated': '2020-07-11T17:05:46Z',\n",
       " 'updated_parsed': time.struct_time(tm_year=2020, tm_mon=7, tm_mday=11, tm_hour=17, tm_min=5, tm_sec=46, tm_wday=5, tm_yday=193, tm_isdst=0),\n",
       " 'published': '2020-07-11T16:07:16Z',\n",
       " 'published_parsed': time.struct_time(tm_year=2020, tm_mon=7, tm_mday=11, tm_hour=16, tm_min=7, tm_sec=16, tm_wday=5, tm_yday=193, tm_isdst=0),\n",
       " 'tags': [{'term': 'Classification',\n",
       "   'scheme': 'https://languagelog.ldc.upenn.edu/nll',\n",
       "   'label': None},\n",
       "  {'term': 'Etymology',\n",
       "   'scheme': 'https://languagelog.ldc.upenn.edu/nll',\n",
       "   'label': None},\n",
       "  {'term': 'Language and biology',\n",
       "   'scheme': 'https://languagelog.ldc.upenn.edu/nll',\n",
       "   'label': None},\n",
       "  {'term': 'Language and food',\n",
       "   'scheme': 'https://languagelog.ldc.upenn.edu/nll',\n",
       "   'label': None}],\n",
       " 'summary': 'From the time I started learning Chinese more than half a century ago, I had a hard time lining up the many Chinese terms for different types of citrus with the corresponding words in English. \\xa0 For example, I always wanted to call oranges \"júzi 橘子\", but it is technically (botanically) more correct to call [&#8230;]',\n",
       " 'summary_detail': {'type': 'text/html',\n",
       "  'language': 'en-US',\n",
       "  'base': 'https://languagelog.ldc.upenn.edu/nll/wp-atom.php',\n",
       "  'value': 'From the time I started learning Chinese more than half a century ago, I had a hard time lining up the many Chinese terms for different types of citrus with the corresponding words in English. \\xa0 For example, I always wanted to call oranges \"júzi 橘子\", but it is technically (botanically) more correct to call [&#8230;]'},\n",
       " 'content': [{'type': 'text/html',\n",
       "   'language': 'en-US',\n",
       "   'base': 'https://languagelog.ldc.upenn.edu/nll/?p=47623&utm_source=rss&utm_medium=rss&utm_campaign=some-citrus-terms-in-sinitic-today-and-in-the-past',\n",
       "   'value': '<p>From the time I started learning Chinese more than half a century ago, I had a hard time lining up the many Chinese terms for different types of citrus with the corresponding words in English. \\xa0 For example, I always wanted to call oranges \"júzi 橘子\", but it is technically (botanically) more correct to call them \"chéngzi 橙子\".\\xa0 As for what júzi 橘子 should be called in English, they are, well, \"mandarins\" or \"mandarin oranges\".\\xa0 Ahem!\\xa0 As L said in <a href=\"https://languagelog.ldc.upenn.edu/nll/?p=30004#comment-1525415\">this comment</a> several years ago, \"&#8230;in NZ, any small, peelable orange is a mandarin! And would never be considered an orange.\"\\xa0 (From \"<a title=\"Permanent link to Really?!\" href=\"https://languagelog.ldc.upenn.edu/nll/?p=30004\" rel=\"bookmark\">Really?!</a>\" [12/27/16]).</p>\\n<p>Then there are tangerines, clementines (cuties), and satsumas, just among closely related varieties of citrus fruits, and I won\\'t begin to get into grapefruit, pomelo, yuzu, citron, bergamot, kumquat, tangelo, kabosu, orangelo, hyuganatsu, rangpur, sudachi, kawachi bankan, etc., etc., and dozens of other types.\\xa0 My old friend, the late <a href=\"https://www.ellingoeide.org/\">Elling Eide</a> (1935-2012), a specialist on Li Bo (701-762) had a grove on his estate in Sarasota, Florida where he cultivated about fifty different types of citrus fruits.\\xa0 What a joy it was to walk through the grove and sample tree-ripened mandarins, tangerines, clementines, grapefruits, pomelos, and all manner of other citrus to satiety!</p>\\n<p>Be it should be noted that Elling could have all that richness of citrus because Sarasota has a humid subtropical climate bordering a tropical savanna climate, with an average of only one frost per year and rarely drops below freezing (which nonetheless always concerned Elling greatly).</p>\\n<p>But now we must turn to the main thrust of this post, which is a discussion of the etymology of gān 柑, another name for mandarin(e) (orange), often appearing in the disyllabic form gānjú 柑桔, which includes several closely related subspecies.</p>\\n<p><span id=\"more-47623\"></span></p>\\n<p>Chris Button writes:</p>\\n<p style=\"padding-left: 40px;\">Jú 橘 has a well-attested Mon-Khmer origin, but people have struggled to find a likely southern origin for gān 柑 despite the likelihood of it not being native vocabulary. I wonder if the variant spelling jīnjú 金*橘 of gānjú 柑橘 gives us a clue there? The etymological association of gold with oranges seems well-attested (even down to folk-etymologies like the \"or\" in \"orange\"), and so perhaps gān 柑 is simply representing the color of jīn 金?</p>\\n<p style=\"padding-left: 40px;\">*VHM:\\xa0 jīn 金 (\"gold\")</p>\\n<p>I\\'m doubtful about the validity of this line of reasoning, since jīnjú 金橘 is actually a different fruit, namely, kumquat.</p>\\n<p style=\"padding-left: 40px;\"><span class=\"hvr\">[Cantonese</span> <span class=\"tt\"><span class=\"hvr\">gam1</span> <span class=\"hvr\">gwat1</span></span>; <span class=\"hvr\">akin</span> to <span class=\"hvr\">Mandarin</span> <span class=\"tt\"><span class=\"hvr\">jīnjú</span></span> : <span class=\"tt\"><span class=\"hvr\">jīn</span></span>, <i><span class=\"hvr\">gold</span></i> <span class=\"hvr\">(from</span> <span class=\"hvr\">Middle</span> <span class=\"hvr\">Chinese</span> <span class=\"tt\"><span class=\"hvr\">kim</span></span>) + <span class=\"tt\">jú</span>, <i><span class=\"hvr\">mandarin</span> <span class=\"hvr\">orange</span></i> <span class=\"hvr\">(from</span> <span class=\"hvr\">Middle</span> <span class=\"hvr\">Chinese</span> <span class=\"tt\"><span class=\"hvr\">kjyt</span></span>; <span class=\"hvr\">probably</span> <span class=\"hvr\">akin</span> to <span class=\"hvr\">Khmer</span> <span class=\"tt\"><span class=\"hvr\">kwic</span></span>).]</p>\\n<p style=\"padding-left: 40px;\"><span class=\"hvr\">American Heritage® Dictionary of the English Language, Fifth Edition</span></p>\\n<p>It is also referred to as jīngān <a href=\"https://zh.wikipedia.org/wiki/%E9%87%91%E6%9F%91\">金柑</a>.</p>\\n<p>By itself, gān 柑 is usually understood as referring to mandarin(e) or tangerine.</p>\\n<p style=\"padding-left: 40px;\">Either the same etymon as <span class=\"Hani\" lang=\"zh\"><a title=\"甘\" href=\"https://en.wiktionary.org/wiki/%E7%94%98#Chinese\">甘</a></span> (<i><span class=\"tr Latn\"><span title=\"Old Chinese\">OC</span> *kaːm</span></i>, “sweet”) (<a title=\"Wiktionary:About Chinese/references\" href=\"https://en.wiktionary.org/wiki/Wiktionary:About_Chinese/references#W\">Wang, 1982</a>), or, in light of the citrus fruit\\'s southern origin, possibly connected with <a class=\"extiw\" title=\"wikipedia:Autroasiatic languages\" href=\"https://en.wikipedia.org/wiki/Autroasiatic_languages\">Austroasiatic</a>; compare <span class=\"etyl\"><a class=\"extiw\" title=\"w:Proto-Austroasiatic\" href=\"https://en.wikipedia.org/wiki/Proto-Austroasiatic\">Proto-Mon-Khmer</a></span> <i class=\"Latinx mention\" lang=\"mkh-pro\"><a title=\"Reconstruction:Proto-Mon-Khmer/lŋaam\" href=\"https://en.wiktionary.org/wiki/Reconstruction:Proto-Mon-Khmer/l%C5%8Baam\">*lŋaam</a></i> (<a title=\"Wiktionary:About Chinese/references\" href=\"https://en.wiktionary.org/wiki/Wiktionary:About_Chinese/references#S\">Schuessler, 2007</a>).</p>\\n<p style=\"padding-left: 40px;\"><a href=\"https://en.wiktionary.org/wiki/%E6%9F%91\">source</a></p>\\n<p>Something about that seemed not quite right, so I wrote to Axel Schuessler, asking him:</p>\\n<p style=\"padding-left: 40px;\">For 柑, Wiktionary cites you thus:</p>\\n<p style=\"padding-left: 80px;\">in light of the citrus fruit\\'s southern origin, possibly connected with <a class=\"extiw\" title=\"wikipedia:Autroasiatic languages\" href=\"https://en.wikipedia.org/wiki/Autroasiatic_languages\">Austroasiatic</a>; compare <span class=\"etyl\"><a class=\"extiw\" title=\"w:Proto-Austroasiatic\" href=\"https://en.wikipedia.org/wiki/Proto-Austroasiatic\">Proto-Mon-Khmer</a></span> <i class=\"Latinx mention\" lang=\"mkh-pro\"><a title=\"Reconstruction:Proto-Mon-Khmer/lŋaam\" href=\"https://en.wiktionary.org/wiki/Reconstruction:Proto-Mon-Khmer/l%C5%8Baam\">*lŋaam</a></i> (<a title=\"Wiktionary:About Chinese/references\" href=\"https://en.wiktionary.org/wiki/Wiktionary:About_Chinese/references#S\">Schuessler, 2007</a>).</p>\\n<p style=\"padding-left: 40px;\">But in the printed edition of your book (p. 249) you have this:</p>\\n<p style=\"padding-left: 80px;\">because of its southern origin, \\'orange\\' may be connected with AA, note PNB *qŋam \\'sweet\\'.</p>\\n<p style=\"padding-left: 40px;\">What\\'s going on here?\\xa0 Has Wiktionary misquoted you?\\xa0 And what does \"PNB\" mean?\\xa0 I can\\'t find it in your lists of abbreviations.</p>\\n<p>Axel wrote back:</p>\\n<p style=\"padding-left: 40px;\">Both are right. Shorto’s “A Mon-Khmer comparative dictionary” 2006, #1322 has *lŋaam ‘sweet’, my Proto-North-Bahnaric source at that time (Kenneth Smith 1972) had *qŋam ‘sweet’, Shorto #1322 *ʔŋa:m ‘sweet’.\\xa0Today, I would delete this part from my dictionary, phonetically too much of a stretch. And if the orange is indeed derived from ’sweet’, the ST source would explain it just as well.</p>\\n<p style=\"padding-left: 40px;\">Shorto 2006 came out too late for me to consider back then; the P-North-Bahnaric form of Smith looked close to Chinese, especially considering Cantonese; but now I think one should primarily rely on Shorto 2006 (edited and published by Sidwell).</p>\\n<p style=\"padding-left: 40px;\">Had I been aware of the Proto-MK form *lŋaam, I would never have suggested a connection with Chinese.\\xa0</p>\\n<p>As for the etymology of jú 橘 (\"tangerine\"):</p>\\n<p style=\"padding-left: 40px;\">Unknown. <a title=\"Wiktionary:About Chinese/references\" href=\"https://en.wiktionary.org/wiki/Wiktionary:About_Chinese/references#S\">Schuessler (2007)</a> connected <span class=\"Hani\" lang=\"zh\"><a title=\"橘\" href=\"https://en.wiktionary.org/wiki/%E6%A9%98#Chinese\">橘</a></span> (<i><span class=\"tr Latn\"><span title=\"Old Chinese\">OC</span> kwit</span></i>) to <i class=\"Khmr mention\" lang=\"km\"><a class=\"new\" title=\"ឃ្វិច (page does not exist)\" href=\"https://en.wiktionary.org/w/index.php?title=%E1%9E%83%E1%9F%92%E1%9E%9C%E1%9E%B7%E1%9E%85&amp;action=edit&amp;redlink=1\">ឃ្វិច</a></i> <span class=\"mention-gloss-paren annotation-paren\">(</span><span class=\"mention-tr tr Latn\" lang=\"km-Latn\">khvɨc</span>, <span class=\"mention-gloss-double-quote\">“</span><span class=\"mention-gloss\"><a title=\"tangerine\" href=\"https://en.wiktionary.org/wiki/tangerine\">tangerine</a></span><span class=\"mention-gloss-double-quote\">”</span><span class=\"mention-gloss-paren annotation-paren\">)</span> and also deemed as \"less likely\" connections to <i class=\"Khmr mention\" lang=\"km\"><a title=\"ក្រូច\" href=\"https://en.wiktionary.org/wiki/%E1%9E%80%E1%9F%92%E1%9E%9A%E1%9E%BC%E1%9E%85#Khmer\">ក្រូច</a></i> <span class=\"mention-gloss-paren annotation-paren\">(</span><span class=\"mention-tr tr Latn\" lang=\"km-Latn\">krouc</span>, <span class=\"mention-gloss-double-quote\">“</span><span class=\"mention-gloss\"><a title=\"citrus\" href=\"https://en.wiktionary.org/wiki/citrus\">citrus</a></span><span class=\"mention-gloss-double-quote\">”</span><span class=\"mention-gloss-paren annotation-paren\">)</span> and <a class=\"extiw\" title=\"wikipedia:Bahnaric languages\" href=\"https://en.wikipedia.org/wiki/Bahnaric_languages#North_Bahnaric\">Proto</a>&#8211;<a class=\"extiw\" title=\"wikipedia:Hre language\" href=\"https://en.wikipedia.org/wiki/Hre_language\">Hre</a>&#8211;<a class=\"extiw\" title=\"wikipedia:Sedang language\" href=\"https://en.wikipedia.org/wiki/Sedang_language\">Sedang</a> *<b>kruč</b> (Bodman, 1980). However, <a title=\"Wiktionary:About Chinese/references\" href=\"https://en.wiktionary.org/wiki/Wiktionary:About_Chinese/references#A\">Alves (2018)</a> considered the Old Chinese word\\'s <a class=\"extiw\" title=\"wikipedia:Proto-Austroasiatic language\" href=\"https://en.wikipedia.org/wiki/Proto-Austroasiatic_language\">Austroasiatic</a> origin likely, and compared it to <span class=\"etyl\"><a class=\"extiw\" title=\"w:Proto-Austroasiatic\" href=\"https://en.wikipedia.org/wiki/Proto-Austroasiatic\">Proto-Mon-Khmer</a></span> <i class=\"Latinx mention\" lang=\"mkh-pro\"><a class=\"new\" title=\"Reconstruction:Proto-Mon-Khmer/kruuc (page does not exist)\" href=\"https://en.wiktionary.org/w/index.php?title=Reconstruction:Proto-Mon-Khmer/kruuc&amp;action=edit&amp;redlink=1\">*kruuc ~ kruəc</a></i>.</p>\\n<p style=\"padding-left: 40px;\"><a href=\"https://en.wiktionary.org/wiki/%E6%A9%98\">source</a></p>\\n<p>Regarding the relationship between <span class=\"Hani\" lang=\"zh\">橘 and 桔, both pronounced jú and both referring to mandarin(e)s:</span></p>\\n<p style=\"padding-left: 40px;\"><span class=\"Hani\" lang=\"zh\">桔</span> was included as the simplified form of <span class=\"Hani\" lang=\"zh\"><a title=\"橘\" href=\"https://en.wiktionary.org/wiki/%E6%A9%98#Chinese\">橘</a></span> in the <a class=\"extiw\" title=\"wikipedia:Second round of simplified Chinese characters\" href=\"https://en.wikipedia.org/wiki/Second_round_of_simplified_Chinese_characters\">second round of simplification</a> in 1977. The current standard in Mainland China, the <a class=\"extiw\" title=\"wikipedia:Table of General Standard Chinese Characters\" href=\"https://en.wikipedia.org/wiki/Table_of_General_Standard_Chinese_Characters\">Table of General Standard Chinese Characters</a> (<span class=\"Hani\" lang=\"zh\"><a class=\"extiw\" title=\"w:zh:通用规范汉字表\" href=\"https://en.wikipedia.org/wiki/zh:%E9%80%9A%E7%94%A8%E8%A7%84%E8%8C%83%E6%B1%89%E5%AD%97%E8%A1%A8\">通用规范汉字表</a></span>), does not mention that <span class=\"Hani\" lang=\"zh\">桔</span> is a simplification of <span class=\"Hani\" lang=\"zh\"><a title=\"橘\" href=\"https://en.wiktionary.org/wiki/%E6%A9%98#Chinese\">橘</a></span>. <i><a class=\"extiw\" title=\"wikipedia:A Dictionary of Current Chinese\" href=\"https://en.wikipedia.org/wiki/A_Dictionary_of_Current_Chinese\">A Dictionary of Current Chinese</a></i> (<span class=\"Hani\" lang=\"zh\"><a class=\"extiw\" title=\"w:zh:现代汉语词典\" href=\"https://en.wikipedia.org/wiki/zh:%E7%8E%B0%E4%BB%A3%E6%B1%89%E8%AF%AD%E8%AF%8D%E5%85%B8\">现代汉语词典</a></span>) and the <i>Xinhua Dictionary</i> (<span class=\"Hani\" lang=\"zh\"><a class=\"extiw\" title=\"w:zh:新华字典\" href=\"https://en.wikipedia.org/wiki/zh:%E6%96%B0%E5%8D%8E%E5%AD%97%E5%85%B8\">新华字典</a></span>) list <span class=\"Hani\" lang=\"zh\">桔</span> as a separate entry from <span class=\"Hani\" lang=\"zh\"><a title=\"橘\" href=\"https://en.wiktionary.org/wiki/%E6%A9%98#Chinese\">橘</a></span> (unlike other variants, which are usually put beside the main character in parentheses) and define <span class=\"Hani\" lang=\"zh\">桔</span> as a common variant for <span class=\"Hani\" lang=\"zh\"><a title=\"橘\" href=\"https://en.wiktionary.org/wiki/%E6%A9%98#Chinese\">橘</a></span>, while <i><a class=\"extiw\" title=\"wikipedia:Xiandai Hanyu Guifan Cidian\" href=\"https://en.wikipedia.org/wiki/Xiandai_Hanyu_Guifan_Cidian\">Xiandai Hanyu Guifan Cidian</a></i> (<span class=\"Hani\" lang=\"zh\">《<a class=\"extiw\" title=\"w:zh:现代汉语规范词典\" href=\"https://en.wikipedia.org/wiki/zh:%E7%8E%B0%E4%BB%A3%E6%B1%89%E8%AF%AD%E8%A7%84%E8%8C%83%E8%AF%8D%E5%85%B8\">现代汉语规范词典</a>》</span>) proscribes the use of <span class=\"Hani\" lang=\"zh\">桔</span> as the simplified form of <span class=\"Hani\" lang=\"zh\"><a title=\"橘\" href=\"https://en.wiktionary.org/wiki/%E6%A9%98#Chinese\">橘</a></span>.</p>\\n<p style=\"padding-left: 40px;\">In Cantonese, <span class=\"Hani\" lang=\"zh\">桔</span> is generally used for <i>gat<sup>1</sup></i>, while <span class=\"Hani\" lang=\"zh\">橘</span> is used for <i>gwat<sup>1</sup></i>. [VHM:\\xa0 both mean \"tangerine\", though <a href=\"http://www.cantonese.sheik.co.uk/dictionary/characters/2318/\">the latter</a> may also mean \"orange\".]</p>\\n<p style=\"padding-left: 40px;\"><a href=\"https://en.wiktionary.org/wiki/%E6%A1%94\">source</a></p>\\n<p>If we think the etymology of citrus terms in Chinese is convoluted, check out that for English \"orange\":</p>\\n<p style=\"padding-left: 40px;\">If we <span class=\"hvr\">trace</span> <span class=\"hvr\">the</span> <span class=\"hvr\">origin</span> of <span class=\"hvr\">the</span> <span class=\"hvr\">English</span> <span class=\"hvr\">word</span> <i><span class=\"hvr\">orange</span></i> <span class=\"hvr\">from</span> <span class=\"hvr\">its</span> <span class=\"hvr\">source,</span> we <span class=\"hvr\">follow</span> <span class=\"hvr\">the</span> <span class=\"hvr\">path</span> of <span class=\"hvr\">the</span> <span class=\"hvr\">fruit</span> as <span class=\"hvr\">its</span> <span class=\"hvr\">popularity</span> <span class=\"hvr\">expands</span> <span class=\"hvr\">from</span> <span class=\"hvr\">Asia</span> to <span class=\"hvr\">Europe.</span> <span class=\"hvr\">The</span> <span class=\"hvr\">ultimate</span> <span class=\"hvr\">origins</span> of <span class=\"hvr\">the</span> <span class=\"hvr\">word</span> <span class=\"hvr\">lie</span> in <span class=\"hvr\">the</span> <span class=\"hvr\">Dravidian</span> <span class=\"hvr\">language</span> <span class=\"hvr\">family,</span> a <span class=\"hvr\">family</span> of <span class=\"hvr\">languages</span> <span class=\"hvr\">spoken</span> in <span class=\"hvr\">South</span> <span class=\"hvr\">Asia</span> <span class=\"hvr\">that</span> <span class=\"hvr\">includes</span> <span class=\"hvr\">Kannada,</span> <span class=\"hvr\">Malayalam,</span> <span class=\"hvr\">Tamil,</span> <span class=\"hvr\">and</span> <span class=\"hvr\">Telugu.</span> <span class=\"hvr\">The</span> <span class=\"hvr\">modern</span> <span class=\"hvr\">Tamil</span> <span class=\"hvr\">word</span> <span class=\"hvr\">for</span> an <span class=\"hvr\">orange,</span> <span class=\"hvr\">for</span> <span class=\"hvr\">example,</span> is <i><span class=\"hvr\">nāram,</span></i> <span class=\"hvr\">and</span> in <span class=\"hvr\">ancient</span> <span class=\"hvr\">times,</span> a <span class=\"hvr\">Dravidian</span> <span class=\"hvr\">word</span> <span class=\"hvr\">similar</span> to <span class=\"hvr\">this</span> <span class=\"hvr\">was</span> <span class=\"hvr\">adopted</span> <span class=\"hvr\">into</span> <span class=\"hvr\">the</span> <span class=\"hvr\">Indo-European</span> <span class=\"hvr\">language</span> <span class=\"hvr\">Sanskrit</span> as <i><span class=\"hvr\">nāraṅgaḥ.</span></i> As <span class=\"hvr\">the</span> <span class=\"hvr\">fruit</span> <span class=\"hvr\">passed</span> <span class=\"hvr\">westward</span> <span class=\"hvr\">from</span> <span class=\"hvr\">India,</span> so <span class=\"hvr\">did</span> <span class=\"hvr\">the</span> <span class=\"hvr\">word</span> <span class=\"hvr\">for</span> <span class=\"hvr\">it,</span> <span class=\"hvr\">becoming</span> <span class=\"hvr\">Persian</span> <i><span class=\"hvr\">nārang</span></i> <span class=\"hvr\">and</span> <span class=\"hvr\">Arabic</span> <i><span class=\"hvr\">nāranj.</span></i> <span class=\"hvr\">The</span> <span class=\"hvr\">Arabs</span> <span class=\"hvr\">brought</span> <span class=\"hvr\">the</span> <span class=\"hvr\">first</span> <span class=\"hvr\">oranges</span> to <span class=\"hvr\">Spain</span> <span class=\"hvr\">and</span> <span class=\"hvr\">Sicily</span> <span class=\"hvr\">between</span> <span class=\"hvr\">the</span> <span class=\"hvr\">8th</span> <span class=\"hvr\">and</span> <span class=\"hvr\">10th</span> <span class=\"hvr\">centuries,</span> <span class=\"hvr\">and</span> <span class=\"hvr\">from</span> <span class=\"hvr\">there</span> <span class=\"hvr\">the</span> <span class=\"hvr\">popularity</span> of <span class=\"hvr\">the</span> <span class=\"hvr\">fruit</span> <span class=\"hvr\">spread</span> <span class=\"hvr\">throughout</span> <span class=\"hvr\">Europe.</span> <span class=\"hvr\">The</span> <span class=\"hvr\">Arabic</span> <span class=\"hvr\">word</span> is <span class=\"hvr\">the</span> <span class=\"hvr\">source</span> of <span class=\"hvr\">Old</span> <span class=\"hvr\">Italian</span> <i><span class=\"hvr\">arancio,</span></i> <span class=\"hvr\">\"orange</span> <span class=\"hvr\">tree,\"</span> <span class=\"hvr\">and</span> <span class=\"hvr\">this</span> <span class=\"hvr\">word</span> <span class=\"hvr\">was</span> <span class=\"hvr\">compounded</span> <span class=\"hvr\">with</span> <span class=\"hvr\">Old</span> <span class=\"hvr\">Italian</span> <i><span class=\"hvr\">mela,</span></i> <span class=\"hvr\">\"apple,\"</span> to <span class=\"hvr\">make</span> <i><span class=\"hvr\">melarancio,</span></i> <span class=\"hvr\">referring</span> to <span class=\"hvr\">the</span> <span class=\"hvr\">fruit</span> of <span class=\"hvr\">the</span> <span class=\"hvr\">orange</span> <span class=\"hvr\">tree.</span> <span class=\"hvr\">Old</span> <span class=\"hvr\">Italian</span> <i><span class=\"hvr\">melarancio</span></i> <span class=\"hvr\">was</span> <span class=\"hvr\">translated</span> <span class=\"hvr\">into</span> <span class=\"hvr\">Old</span> <span class=\"hvr\">French</span> as <i><span class=\"hvr\">pume</span> <span class=\"hvr\">d\\'orenge,</span></i> <span class=\"hvr\">\"apple</span> of <span class=\"hvr\">the</span> <span class=\"hvr\">orange</span> <span class=\"hvr\">tree.\"</span> <span class=\"hvr\">The</span> <i>a</i> in <span class=\"hvr\">the</span> <span class=\"hvr\">Old</span> <span class=\"hvr\">Italian</span> <span class=\"hvr\">word</span> <span class=\"hvr\">was</span> <span class=\"hvr\">replaced</span> by <i>o</i> in <span class=\"hvr\">Old</span> <span class=\"hvr\">French</span> <span class=\"hvr\">due</span> to <span class=\"hvr\">the</span> <span class=\"hvr\">influence</span> of <span class=\"hvr\">the</span> <span class=\"hvr\">name</span> of <span class=\"hvr\">the</span> <span class=\"hvr\">town</span> of <span class=\"hvr\">Orange</span> <span class=\"hvr\">(from</span> <span class=\"hvr\">which</span> <span class=\"hvr\">oranges</span> <span class=\"hvr\">reached</span> <span class=\"hvr\">the</span> <span class=\"hvr\">northern</span> <span class=\"hvr\">part</span> of <span class=\"hvr\">France)</span> <span class=\"hvr\">and</span> <span class=\"hvr\">possibly</span> <span class=\"hvr\">also</span> <span class=\"hvr\">due</span> to <span class=\"hvr\">the</span> <span class=\"hvr\">influence</span> of <span class=\"hvr\">the</span> <span class=\"hvr\">Old</span> <span class=\"hvr\">French</span> <span class=\"hvr\">word</span> <i><span class=\"hvr\">or,</span></i> <span class=\"hvr\">\"gold\"</span> <span class=\"hvr\">(by</span> <span class=\"hvr\">association</span> <span class=\"hvr\">with</span> <span class=\"hvr\">the</span> <span class=\"hvr\">rich</span> <span class=\"hvr\">color</span> of <span class=\"hvr\">the</span> <span class=\"hvr\">fruit).</span> In <span class=\"hvr\">the</span> <span class=\"hvr\">final</span> <span class=\"hvr\">stage</span> in <span class=\"hvr\">the</span> <span class=\"hvr\">journey</span> of <span class=\"hvr\">the</span> <span class=\"hvr\">word,</span> <span class=\"hvr\">the</span> <span class=\"hvr\">Old</span> <span class=\"hvr\">French</span> <span class=\"hvr\">form</span> <span class=\"hvr\">was</span> <span class=\"hvr\">borrowed</span> <span class=\"hvr\">into</span> <span class=\"hvr\">Middle</span> <span class=\"hvr\">English,</span> at <span class=\"hvr\">first</span> <span class=\"hvr\">spelled</span> <i><span class=\"hvr\">orenge</span></i> in a <span class=\"hvr\">text</span> <span class=\"hvr\">dating</span> <span class=\"hvr\">from</span> <span class=\"hvr\">around</span> <span class=\"hvr\">1400.</span> <span class=\"hvr\">The</span> <span class=\"hvr\">English</span> <span class=\"hvr\">word</span> <i><span class=\"hvr\">orange</span></i> <span class=\"hvr\">begins</span> to be <span class=\"hvr\">used</span> to <span class=\"hvr\">designate</span> <span class=\"hvr\">the</span> <span class=\"hvr\">color</span> <span class=\"hvr\">orange</span> in <span class=\"hvr\">the</span> <span class=\"hvr\">16th</span> <span class=\"hvr\">century.</span></p>\\n<p style=\"padding-left: 40px;\"><span class=\"hvr\">American Heritage® Dictionary of the English Language, Fifth Edition</span></p>\\n<p>&nbsp;</p>\\n<p><b>Selected readings</b></p>\\n<ul>\\n<li>\"<a title=\"Permanent link to Orange Guard\" href=\"https://languagelog.ldc.upenn.edu/nll/?p=33561\" rel=\"bookmark\">Orange Guard</a>\" (7/9/17)</li>\\n<li>\"<a title=\"Permanent link to Grue and bleen:  the blue-green distinction and its implications\" href=\"https://languagelog.ldc.upenn.edu/nll/?p=44569\" rel=\"bookmark\">Grue and bleen: the blue-green distinction and its implications</a>\" (10/4/19)</li>\\n<li>\"<a title=\"Permanent link to \" href=\"https://languagelog.ldc.upenn.edu/nll/?p=47495\" rel=\"bookmark\">\\'Carrot\\' in Persian, Urdu, Uyghur, Sinitic, Vietnamese, etc.</a>\" (6/26/20)</li>\\n</ul>'}],\n",
       " 'thr_total': '20'}"
      ]
     },
     "execution_count": 32,
     "metadata": {},
     "output_type": "execute_result"
    }
   ],
   "source": [
    "post"
   ]
  },
  {
   "cell_type": "code",
   "execution_count": 33,
   "metadata": {},
   "outputs": [
    {
     "data": {
      "text/plain": [
       "'Some citrus terms in Sinitic:  today and in the past'"
      ]
     },
     "execution_count": 33,
     "metadata": {},
     "output_type": "execute_result"
    }
   ],
   "source": [
    "post.title"
   ]
  },
  {
   "cell_type": "code",
   "execution_count": 34,
   "metadata": {},
   "outputs": [
    {
     "data": {
      "text/plain": [
       "'<p>From the time I started learning Chinese more than half a century ago, I had a hard time lining up the many Chinese terms for different types of citrus with the corresponding words in English. \\xa0 For example, I always wanted to call oranges \"júzi 橘子\", but it is technically (botanically) more correct to call them \"chéngzi 橙子\".\\xa0 As for what júzi 橘子 should be called in English, they are, well, \"mandarins\" or \"mandarin oranges\".\\xa0 Ahem!\\xa0 As L said in <a href=\"https://languagelog.ldc.upenn.edu/nll/?'"
      ]
     },
     "execution_count": 34,
     "metadata": {},
     "output_type": "execute_result"
    }
   ],
   "source": [
    "content=post.content[0].value\n",
    "content[:500]"
   ]
  },
  {
   "cell_type": "code",
   "execution_count": 35,
   "metadata": {},
   "outputs": [
    {
     "data": {
      "text/plain": [
       "['From',\n",
       " 'the',\n",
       " 'time',\n",
       " 'I',\n",
       " 'started',\n",
       " 'learning',\n",
       " 'Chinese',\n",
       " 'more',\n",
       " 'than',\n",
       " 'half',\n",
       " 'a',\n",
       " 'century',\n",
       " 'ago',\n",
       " ',',\n",
       " 'I',\n",
       " 'had',\n",
       " 'a',\n",
       " 'hard',\n",
       " 'time',\n",
       " 'lining',\n",
       " 'up',\n",
       " 'the',\n",
       " 'many',\n",
       " 'Chinese',\n",
       " 'terms',\n",
       " 'for',\n",
       " 'different',\n",
       " 'types',\n",
       " 'of',\n",
       " 'citrus',\n",
       " 'with',\n",
       " 'the',\n",
       " 'corresponding',\n",
       " 'words',\n",
       " 'in',\n",
       " 'English',\n",
       " '.',\n",
       " 'For',\n",
       " 'example',\n",
       " ',',\n",
       " 'I',\n",
       " 'always',\n",
       " 'wanted',\n",
       " 'to',\n",
       " 'call',\n",
       " 'oranges',\n",
       " '``',\n",
       " 'júzi',\n",
       " '橘子',\n",
       " \"''\",\n",
       " ',',\n",
       " 'but',\n",
       " 'it',\n",
       " 'is',\n",
       " 'technically',\n",
       " '(',\n",
       " 'botanically',\n",
       " ')',\n",
       " 'more',\n",
       " 'correct',\n",
       " 'to',\n",
       " 'call',\n",
       " 'them',\n",
       " '``',\n",
       " 'chéngzi',\n",
       " '橙子',\n",
       " \"''\",\n",
       " '.',\n",
       " 'As',\n",
       " 'for',\n",
       " 'what',\n",
       " 'júzi',\n",
       " '橘子',\n",
       " 'should',\n",
       " 'be',\n",
       " 'called',\n",
       " 'in',\n",
       " 'English',\n",
       " ',',\n",
       " 'they',\n",
       " 'are',\n",
       " ',',\n",
       " 'well',\n",
       " ',',\n",
       " '``',\n",
       " 'mandarins',\n",
       " \"''\",\n",
       " 'or',\n",
       " '``',\n",
       " 'mandarin',\n",
       " 'oranges',\n",
       " \"''\",\n",
       " '.',\n",
       " 'Ahem',\n",
       " '!',\n",
       " 'As',\n",
       " 'L',\n",
       " 'said',\n",
       " 'in',\n",
       " 'this',\n",
       " 'comment',\n",
       " 'several',\n",
       " 'years',\n",
       " 'ago',\n",
       " ',',\n",
       " '``',\n",
       " '…in',\n",
       " 'NZ',\n",
       " ',',\n",
       " 'any',\n",
       " 'small',\n",
       " ',',\n",
       " 'peelable',\n",
       " 'orange',\n",
       " 'is',\n",
       " 'a',\n",
       " 'mandarin',\n",
       " '!',\n",
       " 'And',\n",
       " 'would',\n",
       " 'never',\n",
       " 'be',\n",
       " 'considered',\n",
       " 'an',\n",
       " 'orange',\n",
       " '.',\n",
       " \"''\",\n",
       " '(',\n",
       " 'From',\n",
       " '``',\n",
       " 'Really',\n",
       " '?',\n",
       " '!',\n",
       " \"''\",\n",
       " '[',\n",
       " '12/27/16',\n",
       " ']',\n",
       " ')',\n",
       " '.',\n",
       " 'Then',\n",
       " 'there',\n",
       " 'are',\n",
       " 'tangerines',\n",
       " ',',\n",
       " 'clementines',\n",
       " '(',\n",
       " 'cuties',\n",
       " ')',\n",
       " ',',\n",
       " 'and',\n",
       " 'satsumas',\n",
       " ',',\n",
       " 'just',\n",
       " 'among',\n",
       " 'closely',\n",
       " 'related',\n",
       " 'varieties',\n",
       " 'of',\n",
       " 'citrus',\n",
       " 'fruits',\n",
       " ',',\n",
       " 'and',\n",
       " 'I',\n",
       " 'wo',\n",
       " \"n't\",\n",
       " 'begin',\n",
       " 'to',\n",
       " 'get',\n",
       " 'into',\n",
       " 'grapefruit',\n",
       " ',',\n",
       " 'pomelo',\n",
       " ',',\n",
       " 'yuzu',\n",
       " ',',\n",
       " 'citron',\n",
       " ',',\n",
       " 'bergamot',\n",
       " ',',\n",
       " 'kumquat',\n",
       " ',',\n",
       " 'tangelo',\n",
       " ',',\n",
       " 'kabosu',\n",
       " ',',\n",
       " 'orangelo',\n",
       " ',',\n",
       " 'hyuganatsu',\n",
       " ',',\n",
       " 'rangpur',\n",
       " ',',\n",
       " 'sudachi',\n",
       " ',',\n",
       " 'kawachi',\n",
       " 'bankan',\n",
       " ',',\n",
       " 'etc.',\n",
       " ',',\n",
       " 'etc.',\n",
       " ',',\n",
       " 'and',\n",
       " 'dozens',\n",
       " 'of',\n",
       " 'other',\n",
       " 'types',\n",
       " '.',\n",
       " 'My',\n",
       " 'old',\n",
       " 'friend',\n",
       " ',',\n",
       " 'the',\n",
       " 'late',\n",
       " 'Elling',\n",
       " 'Eide',\n",
       " '(',\n",
       " '1935-2012',\n",
       " ')',\n",
       " ',',\n",
       " 'a',\n",
       " 'specialist',\n",
       " 'on',\n",
       " 'Li',\n",
       " 'Bo',\n",
       " '(',\n",
       " '701-762',\n",
       " ')',\n",
       " 'had',\n",
       " 'a',\n",
       " 'grove',\n",
       " 'on',\n",
       " 'his',\n",
       " 'estate',\n",
       " 'in',\n",
       " 'Sarasota',\n",
       " ',',\n",
       " 'Florida',\n",
       " 'where',\n",
       " 'he',\n",
       " 'cultivated',\n",
       " 'about',\n",
       " 'fifty',\n",
       " 'different',\n",
       " 'types',\n",
       " 'of',\n",
       " 'citrus',\n",
       " 'fruits',\n",
       " '.',\n",
       " 'What',\n",
       " 'a',\n",
       " 'joy',\n",
       " 'it',\n",
       " 'was',\n",
       " 'to',\n",
       " 'walk',\n",
       " 'through',\n",
       " 'the',\n",
       " 'grove',\n",
       " 'and',\n",
       " 'sample',\n",
       " 'tree-ripened',\n",
       " 'mandarins',\n",
       " ',',\n",
       " 'tangerines',\n",
       " ',',\n",
       " 'clementines',\n",
       " ',',\n",
       " 'grapefruits',\n",
       " ',',\n",
       " 'pomelos',\n",
       " ',',\n",
       " 'and',\n",
       " 'all',\n",
       " 'manner',\n",
       " 'of',\n",
       " 'other',\n",
       " 'citrus',\n",
       " 'to',\n",
       " 'satiety',\n",
       " '!',\n",
       " 'Be',\n",
       " 'it',\n",
       " 'should',\n",
       " 'be',\n",
       " 'noted',\n",
       " 'that',\n",
       " 'Elling',\n",
       " 'could',\n",
       " 'have',\n",
       " 'all',\n",
       " 'that',\n",
       " 'richness',\n",
       " 'of',\n",
       " 'citrus',\n",
       " 'because',\n",
       " 'Sarasota',\n",
       " 'has',\n",
       " 'a',\n",
       " 'humid',\n",
       " 'subtropical',\n",
       " 'climate',\n",
       " 'bordering',\n",
       " 'a',\n",
       " 'tropical',\n",
       " 'savanna',\n",
       " 'climate',\n",
       " ',',\n",
       " 'with',\n",
       " 'an',\n",
       " 'average',\n",
       " 'of',\n",
       " 'only',\n",
       " 'one',\n",
       " 'frost',\n",
       " 'per',\n",
       " 'year',\n",
       " 'and',\n",
       " 'rarely',\n",
       " 'drops',\n",
       " 'below',\n",
       " 'freezing',\n",
       " '(',\n",
       " 'which',\n",
       " 'nonetheless',\n",
       " 'always',\n",
       " 'concerned',\n",
       " 'Elling',\n",
       " 'greatly',\n",
       " ')',\n",
       " '.',\n",
       " 'But',\n",
       " 'now',\n",
       " 'we',\n",
       " 'must',\n",
       " 'turn',\n",
       " 'to',\n",
       " 'the',\n",
       " 'main',\n",
       " 'thrust',\n",
       " 'of',\n",
       " 'this',\n",
       " 'post',\n",
       " ',',\n",
       " 'which',\n",
       " 'is',\n",
       " 'a',\n",
       " 'discussion',\n",
       " 'of',\n",
       " 'the',\n",
       " 'etymology',\n",
       " 'of',\n",
       " 'gān',\n",
       " '柑',\n",
       " ',',\n",
       " 'another',\n",
       " 'name',\n",
       " 'for',\n",
       " 'mandarin',\n",
       " '(',\n",
       " 'e',\n",
       " ')',\n",
       " '(',\n",
       " 'orange',\n",
       " ')',\n",
       " ',',\n",
       " 'often',\n",
       " 'appearing',\n",
       " 'in',\n",
       " 'the',\n",
       " 'disyllabic',\n",
       " 'form',\n",
       " 'gānjú',\n",
       " '柑桔',\n",
       " ',',\n",
       " 'which',\n",
       " 'includes',\n",
       " 'several',\n",
       " 'closely',\n",
       " 'related',\n",
       " 'subspecies',\n",
       " '.',\n",
       " 'Chris',\n",
       " 'Button',\n",
       " 'writes',\n",
       " ':',\n",
       " 'Jú',\n",
       " '橘',\n",
       " 'has',\n",
       " 'a',\n",
       " 'well-attested',\n",
       " 'Mon-Khmer',\n",
       " 'origin',\n",
       " ',',\n",
       " 'but',\n",
       " 'people',\n",
       " 'have',\n",
       " 'struggled',\n",
       " 'to',\n",
       " 'find',\n",
       " 'a',\n",
       " 'likely',\n",
       " 'southern',\n",
       " 'origin',\n",
       " 'for',\n",
       " 'gān',\n",
       " '柑',\n",
       " 'despite',\n",
       " 'the',\n",
       " 'likelihood',\n",
       " 'of',\n",
       " 'it',\n",
       " 'not',\n",
       " 'being',\n",
       " 'native',\n",
       " 'vocabulary',\n",
       " '.',\n",
       " 'I',\n",
       " 'wonder',\n",
       " 'if',\n",
       " 'the',\n",
       " 'variant',\n",
       " 'spelling',\n",
       " 'jīnjú',\n",
       " '金',\n",
       " '*',\n",
       " '橘',\n",
       " 'of',\n",
       " 'gānjú',\n",
       " '柑橘',\n",
       " 'gives',\n",
       " 'us',\n",
       " 'a',\n",
       " 'clue',\n",
       " 'there',\n",
       " '?',\n",
       " 'The',\n",
       " 'etymological',\n",
       " 'association',\n",
       " 'of',\n",
       " 'gold',\n",
       " 'with',\n",
       " 'oranges',\n",
       " 'seems',\n",
       " 'well-attested',\n",
       " '(',\n",
       " 'even',\n",
       " 'down',\n",
       " 'to',\n",
       " 'folk-etymologies',\n",
       " 'like',\n",
       " 'the',\n",
       " '``',\n",
       " 'or',\n",
       " \"''\",\n",
       " 'in',\n",
       " '``',\n",
       " 'orange',\n",
       " \"''\",\n",
       " ')',\n",
       " ',',\n",
       " 'and',\n",
       " 'so',\n",
       " 'perhaps',\n",
       " 'gān',\n",
       " '柑',\n",
       " 'is',\n",
       " 'simply',\n",
       " 'representing',\n",
       " 'the',\n",
       " 'color',\n",
       " 'of',\n",
       " 'jīn',\n",
       " '金',\n",
       " '?',\n",
       " '*',\n",
       " 'VHM',\n",
       " ':',\n",
       " 'jīn',\n",
       " '金',\n",
       " '(',\n",
       " '``',\n",
       " 'gold',\n",
       " \"''\",\n",
       " ')',\n",
       " 'I',\n",
       " \"'m\",\n",
       " 'doubtful',\n",
       " 'about',\n",
       " 'the',\n",
       " 'validity',\n",
       " 'of',\n",
       " 'this',\n",
       " 'line',\n",
       " 'of',\n",
       " 'reasoning',\n",
       " ',',\n",
       " 'since',\n",
       " 'jīnjú',\n",
       " '金橘',\n",
       " 'is',\n",
       " 'actually',\n",
       " 'a',\n",
       " 'different',\n",
       " 'fruit',\n",
       " ',',\n",
       " 'namely',\n",
       " ',',\n",
       " 'kumquat',\n",
       " '.',\n",
       " '[',\n",
       " 'Cantonese',\n",
       " 'gam1',\n",
       " 'gwat1',\n",
       " ';',\n",
       " 'akin',\n",
       " 'to',\n",
       " 'Mandarin',\n",
       " 'jīnjú',\n",
       " ':',\n",
       " 'jīn',\n",
       " ',',\n",
       " 'gold',\n",
       " '(',\n",
       " 'from',\n",
       " 'Middle',\n",
       " 'Chinese',\n",
       " 'kim',\n",
       " ')',\n",
       " '+',\n",
       " 'jú',\n",
       " ',',\n",
       " 'mandarin',\n",
       " 'orange',\n",
       " '(',\n",
       " 'from',\n",
       " 'Middle',\n",
       " 'Chinese',\n",
       " 'kjyt',\n",
       " ';',\n",
       " 'probably',\n",
       " 'akin',\n",
       " 'to',\n",
       " 'Khmer',\n",
       " 'kwic',\n",
       " ')',\n",
       " '.',\n",
       " ']',\n",
       " 'American',\n",
       " 'Heritage®',\n",
       " 'Dictionary',\n",
       " 'of',\n",
       " 'the',\n",
       " 'English',\n",
       " 'Language',\n",
       " ',',\n",
       " 'Fifth',\n",
       " 'Edition',\n",
       " 'It',\n",
       " 'is',\n",
       " 'also',\n",
       " 'referred',\n",
       " 'to',\n",
       " 'as',\n",
       " 'jīngān',\n",
       " '金柑',\n",
       " '.',\n",
       " 'By',\n",
       " 'itself',\n",
       " ',',\n",
       " 'gān',\n",
       " '柑',\n",
       " 'is',\n",
       " 'usually',\n",
       " 'understood',\n",
       " 'as',\n",
       " 'referring',\n",
       " 'to',\n",
       " 'mandarin',\n",
       " '(',\n",
       " 'e',\n",
       " ')',\n",
       " 'or',\n",
       " 'tangerine',\n",
       " '.',\n",
       " 'Either',\n",
       " 'the',\n",
       " 'same',\n",
       " 'etymon',\n",
       " 'as',\n",
       " '甘',\n",
       " '(',\n",
       " 'OC',\n",
       " '*',\n",
       " 'kaːm',\n",
       " ',',\n",
       " '“',\n",
       " 'sweet',\n",
       " '”',\n",
       " ')',\n",
       " '(',\n",
       " 'Wang',\n",
       " ',',\n",
       " '1982',\n",
       " ')',\n",
       " ',',\n",
       " 'or',\n",
       " ',',\n",
       " 'in',\n",
       " 'light',\n",
       " 'of',\n",
       " 'the',\n",
       " 'citrus',\n",
       " 'fruit',\n",
       " \"'s\",\n",
       " 'southern',\n",
       " 'origin',\n",
       " ',',\n",
       " 'possibly',\n",
       " 'connected',\n",
       " 'with',\n",
       " 'Austroasiatic',\n",
       " ';',\n",
       " 'compare',\n",
       " 'Proto-Mon-Khmer',\n",
       " '*',\n",
       " 'lŋaam',\n",
       " '(',\n",
       " 'Schuessler',\n",
       " ',',\n",
       " '2007',\n",
       " ')',\n",
       " '.',\n",
       " 'source',\n",
       " 'Something',\n",
       " 'about',\n",
       " 'that',\n",
       " 'seemed',\n",
       " 'not',\n",
       " 'quite',\n",
       " 'right',\n",
       " ',',\n",
       " 'so',\n",
       " 'I',\n",
       " 'wrote',\n",
       " 'to',\n",
       " 'Axel',\n",
       " 'Schuessler',\n",
       " ',',\n",
       " 'asking',\n",
       " 'him',\n",
       " ':',\n",
       " 'For',\n",
       " '柑',\n",
       " ',',\n",
       " 'Wiktionary',\n",
       " 'cites',\n",
       " 'you',\n",
       " 'thus',\n",
       " ':',\n",
       " 'in',\n",
       " 'light',\n",
       " 'of',\n",
       " 'the',\n",
       " 'citrus',\n",
       " 'fruit',\n",
       " \"'s\",\n",
       " 'southern',\n",
       " 'origin',\n",
       " ',',\n",
       " 'possibly',\n",
       " 'connected',\n",
       " 'with',\n",
       " 'Austroasiatic',\n",
       " ';',\n",
       " 'compare',\n",
       " 'Proto-Mon-Khmer',\n",
       " '*',\n",
       " 'lŋaam',\n",
       " '(',\n",
       " 'Schuessler',\n",
       " ',',\n",
       " '2007',\n",
       " ')',\n",
       " '.',\n",
       " 'But',\n",
       " 'in',\n",
       " 'the',\n",
       " 'printed',\n",
       " 'edition',\n",
       " 'of',\n",
       " 'your',\n",
       " 'book',\n",
       " '(',\n",
       " 'p.',\n",
       " '249',\n",
       " ')',\n",
       " 'you',\n",
       " 'have',\n",
       " 'this',\n",
       " ':',\n",
       " 'because',\n",
       " 'of',\n",
       " 'its',\n",
       " 'southern',\n",
       " 'origin',\n",
       " ',',\n",
       " \"'orange\",\n",
       " \"'\",\n",
       " 'may',\n",
       " 'be',\n",
       " 'connected',\n",
       " 'with',\n",
       " 'AA',\n",
       " ',',\n",
       " 'note',\n",
       " 'PNB',\n",
       " '*',\n",
       " 'qŋam',\n",
       " \"'sweet\",\n",
       " \"'\",\n",
       " '.',\n",
       " 'What',\n",
       " \"'s\",\n",
       " 'going',\n",
       " 'on',\n",
       " 'here',\n",
       " '?',\n",
       " 'Has',\n",
       " 'Wiktionary',\n",
       " 'misquoted',\n",
       " 'you',\n",
       " '?',\n",
       " 'And',\n",
       " 'what',\n",
       " 'does',\n",
       " '``',\n",
       " 'PNB',\n",
       " \"''\",\n",
       " 'mean',\n",
       " '?',\n",
       " 'I',\n",
       " 'ca',\n",
       " \"n't\",\n",
       " 'find',\n",
       " 'it',\n",
       " 'in',\n",
       " 'your',\n",
       " 'lists',\n",
       " 'of',\n",
       " 'abbreviations',\n",
       " '.',\n",
       " 'Axel',\n",
       " 'wrote',\n",
       " 'back',\n",
       " ':',\n",
       " 'Both',\n",
       " 'are',\n",
       " 'right',\n",
       " '.',\n",
       " 'Shorto',\n",
       " '’',\n",
       " 's',\n",
       " '“',\n",
       " 'A',\n",
       " 'Mon-Khmer',\n",
       " 'comparative',\n",
       " 'dictionary',\n",
       " '”',\n",
       " '2006',\n",
       " ',',\n",
       " '#',\n",
       " '1322',\n",
       " 'has',\n",
       " '*',\n",
       " 'lŋaam',\n",
       " '‘',\n",
       " 'sweet',\n",
       " '’',\n",
       " ',',\n",
       " 'my',\n",
       " 'Proto-North-Bahnaric',\n",
       " 'source',\n",
       " 'at',\n",
       " 'that',\n",
       " 'time',\n",
       " '(',\n",
       " 'Kenneth',\n",
       " 'Smith',\n",
       " '1972',\n",
       " ')',\n",
       " 'had',\n",
       " '*',\n",
       " 'qŋam',\n",
       " '‘',\n",
       " 'sweet',\n",
       " '’',\n",
       " ',',\n",
       " 'Shorto',\n",
       " '#',\n",
       " '1322',\n",
       " '*',\n",
       " 'ʔŋa',\n",
       " ':',\n",
       " 'm',\n",
       " '‘',\n",
       " 'sweet',\n",
       " '’',\n",
       " '.',\n",
       " 'Today',\n",
       " ',',\n",
       " 'I',\n",
       " 'would',\n",
       " 'delete',\n",
       " 'this',\n",
       " 'part',\n",
       " 'from',\n",
       " 'my',\n",
       " 'dictionary',\n",
       " ',',\n",
       " 'phonetically',\n",
       " 'too',\n",
       " 'much',\n",
       " 'of',\n",
       " 'a',\n",
       " 'stretch',\n",
       " '.',\n",
       " 'And',\n",
       " 'if',\n",
       " 'the',\n",
       " 'orange',\n",
       " 'is',\n",
       " 'indeed',\n",
       " 'derived',\n",
       " 'from',\n",
       " '’',\n",
       " 'sweet',\n",
       " '’',\n",
       " ',',\n",
       " 'the',\n",
       " 'ST',\n",
       " 'source',\n",
       " 'would',\n",
       " 'explain',\n",
       " 'it',\n",
       " 'just',\n",
       " 'as',\n",
       " 'well',\n",
       " '.',\n",
       " 'Shorto',\n",
       " '2006',\n",
       " 'came',\n",
       " 'out',\n",
       " 'too',\n",
       " 'late',\n",
       " 'for',\n",
       " 'me',\n",
       " 'to',\n",
       " 'consider',\n",
       " 'back',\n",
       " 'then',\n",
       " ';',\n",
       " 'the',\n",
       " 'P-North-Bahnaric',\n",
       " 'form',\n",
       " 'of',\n",
       " 'Smith',\n",
       " 'looked',\n",
       " 'close',\n",
       " 'to',\n",
       " 'Chinese',\n",
       " ',',\n",
       " 'especially',\n",
       " 'considering',\n",
       " 'Cantonese',\n",
       " ';',\n",
       " 'but',\n",
       " 'now',\n",
       " 'I',\n",
       " 'think',\n",
       " 'one',\n",
       " 'should',\n",
       " 'primarily',\n",
       " 'rely',\n",
       " 'on',\n",
       " 'Shorto',\n",
       " '2006',\n",
       " '(',\n",
       " 'edited',\n",
       " 'and',\n",
       " 'published',\n",
       " 'by',\n",
       " 'Sidwell',\n",
       " ')',\n",
       " '.',\n",
       " 'Had',\n",
       " 'I',\n",
       " 'been',\n",
       " 'aware',\n",
       " 'of',\n",
       " 'the',\n",
       " 'Proto-MK',\n",
       " 'form',\n",
       " '*',\n",
       " 'lŋaam',\n",
       " ',',\n",
       " 'I',\n",
       " 'would',\n",
       " 'never',\n",
       " 'have',\n",
       " 'suggested',\n",
       " 'a',\n",
       " 'connection',\n",
       " 'with',\n",
       " 'Chinese',\n",
       " '.',\n",
       " 'As',\n",
       " 'for',\n",
       " 'the',\n",
       " 'etymology',\n",
       " 'of',\n",
       " 'jú',\n",
       " '橘',\n",
       " '(',\n",
       " '``',\n",
       " 'tangerine',\n",
       " \"''\",\n",
       " ')',\n",
       " ':',\n",
       " 'Unknown',\n",
       " '.',\n",
       " 'Schuessler',\n",
       " '(',\n",
       " '2007',\n",
       " ')',\n",
       " 'connected',\n",
       " '橘',\n",
       " '(',\n",
       " 'OC',\n",
       " 'kwit',\n",
       " ')',\n",
       " 'to',\n",
       " 'ឃ្វិច',\n",
       " '(',\n",
       " 'khvɨc',\n",
       " ',',\n",
       " '“',\n",
       " 'tangerine',\n",
       " '”',\n",
       " ')',\n",
       " 'and',\n",
       " 'also',\n",
       " 'deemed',\n",
       " 'as',\n",
       " '``',\n",
       " 'less',\n",
       " 'likely',\n",
       " \"''\",\n",
       " 'connections',\n",
       " 'to',\n",
       " 'ក្រូច',\n",
       " '(',\n",
       " 'krouc',\n",
       " ',',\n",
       " '“',\n",
       " 'citrus',\n",
       " '”',\n",
       " ')',\n",
       " 'and',\n",
       " 'Proto–Hre–Sedang',\n",
       " '*',\n",
       " 'kruč',\n",
       " '(',\n",
       " 'Bodman',\n",
       " ',',\n",
       " '1980',\n",
       " ')',\n",
       " '.',\n",
       " 'However',\n",
       " ',',\n",
       " 'Alves',\n",
       " '(',\n",
       " '2018',\n",
       " ')',\n",
       " 'considered',\n",
       " 'the',\n",
       " 'Old',\n",
       " 'Chinese',\n",
       " 'word',\n",
       " \"'s\",\n",
       " 'Austroasiatic',\n",
       " 'origin',\n",
       " 'likely',\n",
       " ',',\n",
       " 'and',\n",
       " 'compared',\n",
       " 'it',\n",
       " 'to',\n",
       " 'Proto-Mon-Khmer',\n",
       " '*',\n",
       " 'kruuc',\n",
       " '~',\n",
       " ...]"
      ]
     },
     "execution_count": 35,
     "metadata": {},
     "output_type": "execute_result"
    }
   ],
   "source": [
    "nltk.word_tokenize(BeautifulSoup(llog.entries[2].content[0].value).get_text())"
   ]
  },
  {
   "cell_type": "code",
   "execution_count": 36,
   "metadata": {},
   "outputs": [],
   "source": [
    "f=open('text.txt')"
   ]
  },
  {
   "cell_type": "code",
   "execution_count": 37,
   "metadata": {},
   "outputs": [
    {
     "data": {
      "text/plain": [
       "'My name is Rishav Paudel. I am doing masters in Artificial Intelligence. I am very good student.'"
      ]
     },
     "execution_count": 37,
     "metadata": {},
     "output_type": "execute_result"
    }
   ],
   "source": [
    "f.read()"
   ]
  },
  {
   "cell_type": "code",
   "execution_count": 38,
   "metadata": {},
   "outputs": [
    {
     "data": {
      "text/plain": [
       "''"
      ]
     },
     "execution_count": 38,
     "metadata": {},
     "output_type": "execute_result"
    }
   ],
   "source": [
    "f.readline()"
   ]
  },
  {
   "cell_type": "code",
   "execution_count": 39,
   "metadata": {},
   "outputs": [
    {
     "data": {
      "text/plain": [
       "['.ipynb_checkpoints',\n",
       " 'a.pdf',\n",
       " 'chapter1.ipynb',\n",
       " 'Chapter1exercise.ipynb',\n",
       " 'chapter2.ipynb',\n",
       " 'Chapter3.ipynb',\n",
       " 'text.txt']"
      ]
     },
     "execution_count": 39,
     "metadata": {},
     "output_type": "execute_result"
    }
   ],
   "source": [
    "import os\n",
    "os.listdir('.')"
   ]
  },
  {
   "cell_type": "code",
   "execution_count": 40,
   "metadata": {},
   "outputs": [
    {
     "name": "stderr",
     "output_type": "stream",
     "text": [
      "C:\\Users\\rissu\\anaconda3\\lib\\site-packages\\ipykernel_launcher.py:1: DeprecationWarning: 'U' mode is deprecated\n",
      "  \"\"\"Entry point for launching an IPython kernel.\n"
     ]
    }
   ],
   "source": [
    "file=open('text.txt','rU')"
   ]
  },
  {
   "cell_type": "code",
   "execution_count": 41,
   "metadata": {},
   "outputs": [
    {
     "name": "stdout",
     "output_type": "stream",
     "text": [
      "My name is Rishav Paudel. I am doing masters in Artificial Intelligence. I am very good student.\n"
     ]
    }
   ],
   "source": [
    "for line in file:\n",
    "    print(line.strip())"
   ]
  },
  {
   "cell_type": "code",
   "execution_count": 42,
   "metadata": {},
   "outputs": [
    {
     "data": {
      "text/plain": [
       "''"
      ]
     },
     "execution_count": 42,
     "metadata": {},
     "output_type": "execute_result"
    }
   ],
   "source": [
    "file.read()"
   ]
  },
  {
   "cell_type": "code",
   "execution_count": 43,
   "metadata": {},
   "outputs": [
    {
     "data": {
      "text/plain": [
       "0"
      ]
     },
     "execution_count": 43,
     "metadata": {},
     "output_type": "execute_result"
    }
   ],
   "source": [
    "len(file.read())"
   ]
  },
  {
   "cell_type": "code",
   "execution_count": 44,
   "metadata": {},
   "outputs": [
    {
     "data": {
      "text/plain": [
       "\"Rishav Paudel's\""
      ]
     },
     "execution_count": 44,
     "metadata": {},
     "output_type": "execute_result"
    }
   ],
   "source": [
    "'Rishav Paudel\\'s'"
   ]
  },
  {
   "cell_type": "code",
   "execution_count": 45,
   "metadata": {},
   "outputs": [
    {
     "name": "stdout",
     "output_type": "stream",
     "text": [
      "Rishav Paudel\n"
     ]
    }
   ],
   "source": [
    "print('Rishav \\\n",
    "Paudel')"
   ]
  },
  {
   "cell_type": "code",
   "execution_count": 46,
   "metadata": {},
   "outputs": [
    {
     "name": "stdout",
     "output_type": "stream",
     "text": [
      "Rishav\n",
      "Paudel\n"
     ]
    }
   ],
   "source": [
    "print(\"\"\"Rishav\n",
    "Paudel\"\"\")"
   ]
  },
  {
   "cell_type": "code",
   "execution_count": 47,
   "metadata": {},
   "outputs": [
    {
     "name": "stdout",
     "output_type": "stream",
     "text": [
      "Rishav\n",
      "Paudel\n"
     ]
    }
   ],
   "source": [
    "print('''Rishav\n",
    "Paudel''')"
   ]
  },
  {
   "cell_type": "code",
   "execution_count": 48,
   "metadata": {},
   "outputs": [
    {
     "data": {
      "text/plain": [
       "'aaa'"
      ]
     },
     "execution_count": 48,
     "metadata": {},
     "output_type": "execute_result"
    }
   ],
   "source": [
    "'a'+'a'+'a'"
   ]
  },
  {
   "cell_type": "code",
   "execution_count": 49,
   "metadata": {},
   "outputs": [
    {
     "data": {
      "text/plain": [
       "'aaa'"
      ]
     },
     "execution_count": 49,
     "metadata": {},
     "output_type": "execute_result"
    }
   ],
   "source": [
    "'a'*3"
   ]
  },
  {
   "cell_type": "code",
   "execution_count": 50,
   "metadata": {},
   "outputs": [],
   "source": [
    "a = [1, 2, 3, 4, 5, 6, 7, 6, 5, 4, 3, 2, 1]\n",
    "b = [' ' * 2 * (7 - i) + '****' * i for i in a]"
   ]
  },
  {
   "cell_type": "code",
   "execution_count": 51,
   "metadata": {},
   "outputs": [
    {
     "data": {
      "text/plain": [
       "['            ****',\n",
       " '          ********',\n",
       " '        ************',\n",
       " '      ****************',\n",
       " '    ********************',\n",
       " '  ************************',\n",
       " '****************************',\n",
       " '  ************************',\n",
       " '    ********************',\n",
       " '      ****************',\n",
       " '        ************',\n",
       " '          ********',\n",
       " '            ****']"
      ]
     },
     "execution_count": 51,
     "metadata": {},
     "output_type": "execute_result"
    }
   ],
   "source": [
    "b"
   ]
  },
  {
   "cell_type": "code",
   "execution_count": 52,
   "metadata": {},
   "outputs": [
    {
     "data": {
      "text/plain": [
       "'Rishav Paudel'"
      ]
     },
     "execution_count": 52,
     "metadata": {},
     "output_type": "execute_result"
    }
   ],
   "source": [
    "'Rishav'+' Paudel'"
   ]
  },
  {
   "cell_type": "code",
   "execution_count": 53,
   "metadata": {},
   "outputs": [],
   "source": [
    "sent='My name is Rishav Paudel'"
   ]
  },
  {
   "cell_type": "code",
   "execution_count": 54,
   "metadata": {},
   "outputs": [
    {
     "name": "stdout",
     "output_type": "stream",
     "text": [
      "My name is Rishav Paudel"
     ]
    }
   ],
   "source": [
    "for char in sent:\n",
    "    print(char,end='')"
   ]
  },
  {
   "cell_type": "code",
   "execution_count": 55,
   "metadata": {},
   "outputs": [],
   "source": [
    "from nltk.corpus import gutenberg\n",
    "raw=gutenberg.raw('melville-moby_dick.txt')\n",
    "fdist=nltk.FreqDist(ch.lower() for ch in raw if ch.isalpha())"
   ]
  },
  {
   "cell_type": "code",
   "execution_count": 56,
   "metadata": {},
   "outputs": [
    {
     "data": {
      "text/plain": [
       "dict_keys(['m', 'o', 'b', 'y', 'd', 'i', 'c', 'k', 'h', 'e', 'r', 'a', 'n', 'l', 'v', 't', 'g', 's', 'u', 'p', 'w', 'x', 'q', 'f', 'j', 'z'])"
      ]
     },
     "execution_count": 56,
     "metadata": {},
     "output_type": "execute_result"
    }
   ],
   "source": [
    "fdist.keys()"
   ]
  },
  {
   "cell_type": "code",
   "execution_count": 57,
   "metadata": {},
   "outputs": [
    {
     "data": {
      "text/plain": [
       "dict_values([23277, 69326, 16877, 16872, 38219, 65434, 22507, 8059, 62896, 117092, 52134, 77916, 65617, 42793, 8598, 87996, 20820, 64231, 26697, 17255, 22222, 1030, 1556, 20833, 1082, 632])"
      ]
     },
     "execution_count": 57,
     "metadata": {},
     "output_type": "execute_result"
    }
   ],
   "source": [
    "fdist.values()"
   ]
  },
  {
   "cell_type": "code",
   "execution_count": 58,
   "metadata": {},
   "outputs": [
    {
     "name": "stdout",
     "output_type": "stream",
     "text": [
      "Found\n"
     ]
    }
   ],
   "source": [
    "a='My name is Rishav Paudel......I am in Hyderabad'\n",
    "if 'name' in a:\n",
    "    print('Found')"
   ]
  },
  {
   "cell_type": "code",
   "execution_count": 59,
   "metadata": {},
   "outputs": [
    {
     "data": {
      "text/plain": [
       "0"
      ]
     },
     "execution_count": 59,
     "metadata": {},
     "output_type": "execute_result"
    }
   ],
   "source": [
    "a.find('My')"
   ]
  },
  {
   "cell_type": "code",
   "execution_count": 60,
   "metadata": {},
   "outputs": [
    {
     "data": {
      "text/plain": [
       "11"
      ]
     },
     "execution_count": 60,
     "metadata": {},
     "output_type": "execute_result"
    }
   ],
   "source": [
    "a.index('Rishav')"
   ]
  },
  {
   "cell_type": "code",
   "execution_count": 61,
   "metadata": {},
   "outputs": [
    {
     "data": {
      "text/plain": [
       "18"
      ]
     },
     "execution_count": 61,
     "metadata": {},
     "output_type": "execute_result"
    }
   ],
   "source": [
    "a.rfind('P')"
   ]
  },
  {
   "cell_type": "code",
   "execution_count": 62,
   "metadata": {},
   "outputs": [
    {
     "data": {
      "text/plain": [
       "['My', 'name', 'is', 'Rishav', 'Paudel......I', 'am', 'in', 'Hyderabad']"
      ]
     },
     "execution_count": 62,
     "metadata": {},
     "output_type": "execute_result"
    }
   ],
   "source": [
    "a.split()"
   ]
  },
  {
   "cell_type": "code",
   "execution_count": 63,
   "metadata": {},
   "outputs": [
    {
     "data": {
      "text/plain": [
       "['My name is Rishav Paudel......I am in Hyderabad']"
      ]
     },
     "execution_count": 63,
     "metadata": {},
     "output_type": "execute_result"
    }
   ],
   "source": [
    "a.splitlines()"
   ]
  },
  {
   "cell_type": "code",
   "execution_count": 64,
   "metadata": {},
   "outputs": [
    {
     "data": {
      "text/plain": [
       "'My Name Is Rishav Paudel......I Am In Hyderabad'"
      ]
     },
     "execution_count": 64,
     "metadata": {},
     "output_type": "execute_result"
    }
   ],
   "source": [
    "a.title()"
   ]
  },
  {
   "cell_type": "code",
   "execution_count": 65,
   "metadata": {},
   "outputs": [
    {
     "data": {
      "text/plain": [
       "'My name is Rishav Paudel......I am in Hyderabad'"
      ]
     },
     "execution_count": 65,
     "metadata": {},
     "output_type": "execute_result"
    }
   ],
   "source": [
    "a"
   ]
  },
  {
   "cell_type": "code",
   "execution_count": 66,
   "metadata": {},
   "outputs": [
    {
     "data": {
      "text/plain": [
       "'My name is Rishav Paudel......I am in Hyderabad'"
      ]
     },
     "execution_count": 66,
     "metadata": {},
     "output_type": "execute_result"
    }
   ],
   "source": [
    "a.strip(\"is.\")"
   ]
  },
  {
   "cell_type": "code",
   "execution_count": 67,
   "metadata": {},
   "outputs": [
    {
     "data": {
      "text/plain": [
       "'banana'"
      ]
     },
     "execution_count": 67,
     "metadata": {},
     "output_type": "execute_result"
    }
   ],
   "source": [
    "txt = \",,,,,rrttgg...   ..banana....rrr\"\n",
    "\n",
    "x = txt.strip(\",.grt \")\n",
    "x"
   ]
  },
  {
   "cell_type": "code",
   "execution_count": 68,
   "metadata": {},
   "outputs": [
    {
     "data": {
      "text/plain": [
       "'My,name,is,Rishav,paudel'"
      ]
     },
     "execution_count": 68,
     "metadata": {},
     "output_type": "execute_result"
    }
   ],
   "source": [
    "txt='My,name,is,Rishav,paudel'\n",
    "txt.strip(',')"
   ]
  },
  {
   "cell_type": "code",
   "execution_count": 69,
   "metadata": {},
   "outputs": [
    {
     "data": {
      "text/plain": [
       "'Rishav'"
      ]
     },
     "execution_count": 69,
     "metadata": {},
     "output_type": "execute_result"
    }
   ],
   "source": [
    "'   Rishav   '.strip()"
   ]
  },
  {
   "cell_type": "code",
   "execution_count": 70,
   "metadata": {},
   "outputs": [],
   "source": [
    "lis=['a','b','c']\n",
    "st='abc'"
   ]
  },
  {
   "cell_type": "code",
   "execution_count": 71,
   "metadata": {},
   "outputs": [
    {
     "data": {
      "text/plain": [
       "['r', 'b', 'c']"
      ]
     },
     "execution_count": 71,
     "metadata": {},
     "output_type": "execute_result"
    }
   ],
   "source": [
    "lis[0]='r'\n",
    "lis"
   ]
  },
  {
   "cell_type": "markdown",
   "metadata": {},
   "source": [
    "st[0]='z'\n",
    "---------------------------------------------------------------------------\n",
    "TypeError                                 Traceback (most recent call last)\n",
    "<ipython-input-200-2d107e0e7ba1> in <module>\n",
    "----> 1 st[0]='z'\n",
    "\n",
    "TypeError: 'str' object does not support item assignment\n"
   ]
  },
  {
   "cell_type": "code",
   "execution_count": 72,
   "metadata": {},
   "outputs": [],
   "source": [
    "import codecs"
   ]
  },
  {
   "cell_type": "code",
   "execution_count": null,
   "metadata": {},
   "outputs": [],
   "source": []
  },
  {
   "cell_type": "code",
   "execution_count": 73,
   "metadata": {},
   "outputs": [],
   "source": [
    "path = nltk.data.find('corpora/unicode_samples/polish-lat2.txt')"
   ]
  },
  {
   "cell_type": "code",
   "execution_count": 74,
   "metadata": {},
   "outputs": [],
   "source": [
    "f=codecs.open(path,encoding='latin1')"
   ]
  },
  {
   "cell_type": "code",
   "execution_count": 75,
   "metadata": {},
   "outputs": [
    {
     "data": {
      "text/plain": [
       "<codecs.StreamReaderWriter at 0x1b17dc4dd48>"
      ]
     },
     "execution_count": 75,
     "metadata": {},
     "output_type": "execute_result"
    }
   ],
   "source": [
    "f"
   ]
  },
  {
   "cell_type": "code",
   "execution_count": 76,
   "metadata": {},
   "outputs": [
    {
     "name": "stdout",
     "output_type": "stream",
     "text": [
      "b'Pruska Biblioteka Pa\\xc3\\xb1stwowa. Jej dawne zbiory znane pod nazw\\xc2\\xb1'\n",
      "b'\"Berlinka\" to skarb kultury i sztuki niemieckiej. Przewiezione przez'\n",
      "b'Niemc\\xc3\\xb3w pod koniec II wojny \\xc2\\xb6wiatowej na Dolny \\xc2\\xa6l\\xc2\\xb1sk, zosta\\xc2\\xb3y'\n",
      "b'odnalezione po 1945 r. na terytorium Polski. Trafi\\xc2\\xb3y do Biblioteki'\n",
      "b'Jagiello\\xc3\\xb1skiej w Krakowie, obejmuj\\xc2\\xb1 ponad 500 tys. zabytkowych'\n",
      "b'archiwali\\xc3\\xb3w, m.in. manuskrypty Goethego, Mozarta, Beethovena, Bacha.'\n"
     ]
    }
   ],
   "source": [
    "for line in f:\n",
    "    line=line.strip()\n",
    "    print(line.encode('utf-8'))"
   ]
  },
  {
   "cell_type": "code",
   "execution_count": 77,
   "metadata": {},
   "outputs": [
    {
     "data": {
      "text/plain": [
       "97"
      ]
     },
     "execution_count": 77,
     "metadata": {},
     "output_type": "execute_result"
    }
   ],
   "source": [
    "ord('a')"
   ]
  },
  {
   "cell_type": "code",
   "execution_count": 78,
   "metadata": {},
   "outputs": [
    {
     "data": {
      "text/plain": [
       "'a'"
      ]
     },
     "execution_count": 78,
     "metadata": {},
     "output_type": "execute_result"
    }
   ],
   "source": [
    "chr(97)"
   ]
  },
  {
   "cell_type": "code",
   "execution_count": 79,
   "metadata": {},
   "outputs": [
    {
     "data": {
      "text/plain": [
       "'ń'"
      ]
     },
     "execution_count": 79,
     "metadata": {},
     "output_type": "execute_result"
    }
   ],
   "source": [
    "nacute = u'\\u0144'\n",
    "nacute"
   ]
  },
  {
   "cell_type": "code",
   "execution_count": 80,
   "metadata": {},
   "outputs": [
    {
     "data": {
      "text/plain": [
       "b'\\xc5\\x84'"
      ]
     },
     "execution_count": 80,
     "metadata": {},
     "output_type": "execute_result"
    }
   ],
   "source": [
    "nacute.encode('utf8')"
   ]
  },
  {
   "cell_type": "code",
   "execution_count": 81,
   "metadata": {},
   "outputs": [
    {
     "data": {
      "text/plain": [
       "256"
      ]
     },
     "execution_count": 81,
     "metadata": {},
     "output_type": "execute_result"
    }
   ],
   "source": [
    "2**8"
   ]
  },
  {
   "cell_type": "code",
   "execution_count": 82,
   "metadata": {},
   "outputs": [],
   "source": [
    "import unicodedata\n",
    "lines=codecs.open(path,encoding='latin2').readline()"
   ]
  },
  {
   "cell_type": "code",
   "execution_count": 83,
   "metadata": {},
   "outputs": [
    {
     "data": {
      "text/plain": [
       "'Pruska Biblioteka Państwowa. Jej dawne zbiory znane pod nazwą\\n'"
      ]
     },
     "execution_count": 83,
     "metadata": {},
     "output_type": "execute_result"
    }
   ],
   "source": [
    "lines"
   ]
  },
  {
   "cell_type": "code",
   "execution_count": 84,
   "metadata": {},
   "outputs": [
    {
     "data": {
      "text/plain": [
       "b'Pruska Biblioteka Pa\\\\u0144stwowa. Jej dawne zbiory znane pod nazw\\\\u0105\\\\n'"
      ]
     },
     "execution_count": 84,
     "metadata": {},
     "output_type": "execute_result"
    }
   ],
   "source": [
    "lines.encode('unicode_escape')"
   ]
  },
  {
   "cell_type": "code",
   "execution_count": 85,
   "metadata": {},
   "outputs": [
    {
     "data": {
      "text/plain": [
       "b'\\xff\\xfeP\\x00r\\x00u\\x00s\\x00k\\x00a\\x00 \\x00B\\x00i\\x00b\\x00l\\x00i\\x00o\\x00t\\x00e\\x00k\\x00a\\x00 \\x00P\\x00a\\x00D\\x01s\\x00t\\x00w\\x00o\\x00w\\x00a\\x00.\\x00 \\x00J\\x00e\\x00j\\x00 \\x00d\\x00a\\x00w\\x00n\\x00e\\x00 \\x00z\\x00b\\x00i\\x00o\\x00r\\x00y\\x00 \\x00z\\x00n\\x00a\\x00n\\x00e\\x00 \\x00p\\x00o\\x00d\\x00 \\x00n\\x00a\\x00z\\x00w\\x00\\x05\\x01\\n\\x00'"
      ]
     },
     "execution_count": 85,
     "metadata": {},
     "output_type": "execute_result"
    }
   ],
   "source": [
    "temp=lines.encode('utf16')\n",
    "temp"
   ]
  },
  {
   "cell_type": "code",
   "execution_count": 86,
   "metadata": {},
   "outputs": [
    {
     "data": {
      "text/plain": [
       "'Pruska Biblioteka Państwowa. Jej dawne zbiory znane pod nazwą\\n'"
      ]
     },
     "execution_count": 86,
     "metadata": {},
     "output_type": "execute_result"
    }
   ],
   "source": [
    "temp.decode('utf16')"
   ]
  },
  {
   "cell_type": "code",
   "execution_count": 87,
   "metadata": {},
   "outputs": [],
   "source": [
    "line=lines[2]"
   ]
  },
  {
   "cell_type": "code",
   "execution_count": 88,
   "metadata": {},
   "outputs": [
    {
     "data": {
      "text/plain": [
       "'u'"
      ]
     },
     "execution_count": 88,
     "metadata": {},
     "output_type": "execute_result"
    }
   ],
   "source": [
    "line"
   ]
  },
  {
   "cell_type": "code",
   "execution_count": 89,
   "metadata": {},
   "outputs": [
    {
     "data": {
      "text/plain": [
       "117"
      ]
     },
     "execution_count": 89,
     "metadata": {},
     "output_type": "execute_result"
    }
   ],
   "source": [
    "ord('u')"
   ]
  },
  {
   "cell_type": "code",
   "execution_count": 90,
   "metadata": {},
   "outputs": [],
   "source": [
    "import re\n"
   ]
  },
  {
   "cell_type": "code",
   "execution_count": 91,
   "metadata": {},
   "outputs": [],
   "source": [
    "wordlist=[w for w in nltk.corpus.words.words('en') if w.islower()]"
   ]
  },
  {
   "cell_type": "code",
   "execution_count": 92,
   "metadata": {},
   "outputs": [
    {
     "data": {
      "text/plain": [
       "['a',\n",
       " 'aa',\n",
       " 'aal',\n",
       " 'aalii',\n",
       " 'aam',\n",
       " 'aardvark',\n",
       " 'aardwolf',\n",
       " 'aba',\n",
       " 'abac',\n",
       " 'abaca',\n",
       " 'abacate',\n",
       " 'abacay',\n",
       " 'abacinate',\n",
       " 'abacination',\n",
       " 'abaciscus',\n",
       " 'abacist',\n",
       " 'aback',\n",
       " 'abactinal',\n",
       " 'abactinally',\n",
       " 'abaction',\n",
       " 'abactor',\n",
       " 'abaculus',\n",
       " 'abacus',\n",
       " 'abaff',\n",
       " 'abaft',\n",
       " 'abaisance',\n",
       " 'abaiser',\n",
       " 'abaissed',\n",
       " 'abalienate',\n",
       " 'abalienation',\n",
       " 'abalone',\n",
       " 'abampere',\n",
       " 'abandon',\n",
       " 'abandonable',\n",
       " 'abandoned',\n",
       " 'abandonedly',\n",
       " 'abandonee',\n",
       " 'abandoner',\n",
       " 'abandonment',\n",
       " 'abaptiston',\n",
       " 'abarthrosis',\n",
       " 'abarticular',\n",
       " 'abarticulation',\n",
       " 'abas',\n",
       " 'abase',\n",
       " 'abased',\n",
       " 'abasedly',\n",
       " 'abasedness',\n",
       " 'abasement',\n",
       " 'abaser',\n",
       " 'abash',\n",
       " 'abashed',\n",
       " 'abashedly',\n",
       " 'abashedness',\n",
       " 'abashless',\n",
       " 'abashlessly',\n",
       " 'abashment',\n",
       " 'abasia',\n",
       " 'abasic',\n",
       " 'abask',\n",
       " 'abastardize',\n",
       " 'abatable',\n",
       " 'abate',\n",
       " 'abatement',\n",
       " 'abater',\n",
       " 'abatis',\n",
       " 'abatised',\n",
       " 'abaton',\n",
       " 'abator',\n",
       " 'abattoir',\n",
       " 'abature',\n",
       " 'abave',\n",
       " 'abaxial',\n",
       " 'abaxile',\n",
       " 'abaze',\n",
       " 'abb',\n",
       " 'abbacomes',\n",
       " 'abbacy',\n",
       " 'abbas',\n",
       " 'abbasi',\n",
       " 'abbassi',\n",
       " 'abbatial',\n",
       " 'abbatical',\n",
       " 'abbess',\n",
       " 'abbey',\n",
       " 'abbeystede',\n",
       " 'abbot',\n",
       " 'abbotcy',\n",
       " 'abbotnullius',\n",
       " 'abbotship',\n",
       " 'abbreviate',\n",
       " 'abbreviately',\n",
       " 'abbreviation',\n",
       " 'abbreviator',\n",
       " 'abbreviatory',\n",
       " 'abbreviature',\n",
       " 'abcoulomb',\n",
       " 'abdal',\n",
       " 'abdat',\n",
       " 'abdest',\n",
       " 'abdicable',\n",
       " 'abdicant',\n",
       " 'abdicate',\n",
       " 'abdication',\n",
       " 'abdicative',\n",
       " 'abdicator',\n",
       " 'abditive',\n",
       " 'abditory',\n",
       " 'abdomen',\n",
       " 'abdominal',\n",
       " 'abdominalian',\n",
       " 'abdominally',\n",
       " 'abdominoanterior',\n",
       " 'abdominocardiac',\n",
       " 'abdominocentesis',\n",
       " 'abdominocystic',\n",
       " 'abdominogenital',\n",
       " 'abdominohysterectomy',\n",
       " 'abdominohysterotomy',\n",
       " 'abdominoposterior',\n",
       " 'abdominoscope',\n",
       " 'abdominoscopy',\n",
       " 'abdominothoracic',\n",
       " 'abdominous',\n",
       " 'abdominovaginal',\n",
       " 'abdominovesical',\n",
       " 'abduce',\n",
       " 'abducens',\n",
       " 'abducent',\n",
       " 'abduct',\n",
       " 'abduction',\n",
       " 'abductor',\n",
       " 'abeam',\n",
       " 'abear',\n",
       " 'abearance',\n",
       " 'abecedarian',\n",
       " 'abecedarium',\n",
       " 'abecedary',\n",
       " 'abed',\n",
       " 'abeigh',\n",
       " 'abele',\n",
       " 'abelite',\n",
       " 'abelmosk',\n",
       " 'abeltree',\n",
       " 'abenteric',\n",
       " 'abepithymia',\n",
       " 'aberdevine',\n",
       " 'aberrance',\n",
       " 'aberrancy',\n",
       " 'aberrant',\n",
       " 'aberrate',\n",
       " 'aberration',\n",
       " 'aberrational',\n",
       " 'aberrator',\n",
       " 'aberrometer',\n",
       " 'aberroscope',\n",
       " 'aberuncator',\n",
       " 'abet',\n",
       " 'abetment',\n",
       " 'abettal',\n",
       " 'abettor',\n",
       " 'abevacuation',\n",
       " 'abey',\n",
       " 'abeyance',\n",
       " 'abeyancy',\n",
       " 'abeyant',\n",
       " 'abfarad',\n",
       " 'abhenry',\n",
       " 'abhiseka',\n",
       " 'abhominable',\n",
       " 'abhor',\n",
       " 'abhorrence',\n",
       " 'abhorrency',\n",
       " 'abhorrent',\n",
       " 'abhorrently',\n",
       " 'abhorrer',\n",
       " 'abhorrible',\n",
       " 'abhorring',\n",
       " 'abidal',\n",
       " 'abidance',\n",
       " 'abide',\n",
       " 'abider',\n",
       " 'abidi',\n",
       " 'abiding',\n",
       " 'abidingly',\n",
       " 'abidingness',\n",
       " 'abietate',\n",
       " 'abietene',\n",
       " 'abietic',\n",
       " 'abietin',\n",
       " 'abietineous',\n",
       " 'abietinic',\n",
       " 'abigail',\n",
       " 'abigailship',\n",
       " 'abigeat',\n",
       " 'abigeus',\n",
       " 'abilao',\n",
       " 'ability',\n",
       " 'abilla',\n",
       " 'abilo',\n",
       " 'abintestate',\n",
       " 'abiogenesis',\n",
       " 'abiogenesist',\n",
       " 'abiogenetic',\n",
       " 'abiogenetical',\n",
       " 'abiogenetically',\n",
       " 'abiogenist',\n",
       " 'abiogenous',\n",
       " 'abiogeny',\n",
       " 'abiological',\n",
       " 'abiologically',\n",
       " 'abiology',\n",
       " 'abiosis',\n",
       " 'abiotic',\n",
       " 'abiotrophic',\n",
       " 'abiotrophy',\n",
       " 'abir',\n",
       " 'abirritant',\n",
       " 'abirritate',\n",
       " 'abirritation',\n",
       " 'abirritative',\n",
       " 'abiston',\n",
       " 'abiuret',\n",
       " 'abject',\n",
       " 'abjectedness',\n",
       " 'abjection',\n",
       " 'abjective',\n",
       " 'abjectly',\n",
       " 'abjectness',\n",
       " 'abjoint',\n",
       " 'abjudge',\n",
       " 'abjudicate',\n",
       " 'abjudication',\n",
       " 'abjunction',\n",
       " 'abjunctive',\n",
       " 'abjuration',\n",
       " 'abjuratory',\n",
       " 'abjure',\n",
       " 'abjurement',\n",
       " 'abjurer',\n",
       " 'abkar',\n",
       " 'abkari',\n",
       " 'ablach',\n",
       " 'ablactate',\n",
       " 'ablactation',\n",
       " 'ablare',\n",
       " 'ablastemic',\n",
       " 'ablastous',\n",
       " 'ablate',\n",
       " 'ablation',\n",
       " 'ablatitious',\n",
       " 'ablatival',\n",
       " 'ablative',\n",
       " 'ablator',\n",
       " 'ablaut',\n",
       " 'ablaze',\n",
       " 'able',\n",
       " 'ableeze',\n",
       " 'ablegate',\n",
       " 'ableness',\n",
       " 'ablepharia',\n",
       " 'ablepharon',\n",
       " 'ablepharous',\n",
       " 'ablepsia',\n",
       " 'ableptical',\n",
       " 'ableptically',\n",
       " 'abler',\n",
       " 'ablest',\n",
       " 'ablewhackets',\n",
       " 'ablins',\n",
       " 'abloom',\n",
       " 'ablow',\n",
       " 'ablude',\n",
       " 'abluent',\n",
       " 'ablush',\n",
       " 'ablution',\n",
       " 'ablutionary',\n",
       " 'abluvion',\n",
       " 'ably',\n",
       " 'abmho',\n",
       " 'abnegate',\n",
       " 'abnegation',\n",
       " 'abnegative',\n",
       " 'abnegator',\n",
       " 'abnerval',\n",
       " 'abnet',\n",
       " 'abneural',\n",
       " 'abnormal',\n",
       " 'abnormalism',\n",
       " 'abnormalist',\n",
       " 'abnormality',\n",
       " 'abnormalize',\n",
       " 'abnormally',\n",
       " 'abnormalness',\n",
       " 'abnormity',\n",
       " 'abnormous',\n",
       " 'abnumerable',\n",
       " 'aboard',\n",
       " 'abode',\n",
       " 'abodement',\n",
       " 'abody',\n",
       " 'abohm',\n",
       " 'aboil',\n",
       " 'abolish',\n",
       " 'abolisher',\n",
       " 'abolishment',\n",
       " 'abolition',\n",
       " 'abolitionary',\n",
       " 'abolitionism',\n",
       " 'abolitionist',\n",
       " 'abolitionize',\n",
       " 'abolla',\n",
       " 'aboma',\n",
       " 'abomasum',\n",
       " 'abomasus',\n",
       " 'abominable',\n",
       " 'abominableness',\n",
       " 'abominably',\n",
       " 'abominate',\n",
       " 'abomination',\n",
       " 'abominator',\n",
       " 'abomine',\n",
       " 'aboon',\n",
       " 'aborad',\n",
       " 'aboral',\n",
       " 'aborally',\n",
       " 'abord',\n",
       " 'aboriginal',\n",
       " 'aboriginality',\n",
       " 'aboriginally',\n",
       " 'aboriginary',\n",
       " 'aborigine',\n",
       " 'abort',\n",
       " 'aborted',\n",
       " 'aborticide',\n",
       " 'abortient',\n",
       " 'abortifacient',\n",
       " 'abortin',\n",
       " 'abortion',\n",
       " 'abortional',\n",
       " 'abortionist',\n",
       " 'abortive',\n",
       " 'abortively',\n",
       " 'abortiveness',\n",
       " 'abortus',\n",
       " 'abouchement',\n",
       " 'abound',\n",
       " 'abounder',\n",
       " 'abounding',\n",
       " 'aboundingly',\n",
       " 'about',\n",
       " 'abouts',\n",
       " 'above',\n",
       " 'aboveboard',\n",
       " 'abovedeck',\n",
       " 'aboveground',\n",
       " 'aboveproof',\n",
       " 'abovestairs',\n",
       " 'abox',\n",
       " 'abracadabra',\n",
       " 'abrachia',\n",
       " 'abradant',\n",
       " 'abrade',\n",
       " 'abrader',\n",
       " 'abraid',\n",
       " 'abranchial',\n",
       " 'abranchialism',\n",
       " 'abranchian',\n",
       " 'abranchiate',\n",
       " 'abranchious',\n",
       " 'abrasax',\n",
       " 'abrase',\n",
       " 'abrash',\n",
       " 'abrasiometer',\n",
       " 'abrasion',\n",
       " 'abrasive',\n",
       " 'abrastol',\n",
       " 'abraum',\n",
       " 'abraxas',\n",
       " 'abreact',\n",
       " 'abreaction',\n",
       " 'abreast',\n",
       " 'abrenounce',\n",
       " 'abret',\n",
       " 'abrico',\n",
       " 'abridge',\n",
       " 'abridgeable',\n",
       " 'abridged',\n",
       " 'abridgedly',\n",
       " 'abridger',\n",
       " 'abridgment',\n",
       " 'abrim',\n",
       " 'abrin',\n",
       " 'abristle',\n",
       " 'abroach',\n",
       " 'abroad',\n",
       " 'abrocome',\n",
       " 'abrogable',\n",
       " 'abrogate',\n",
       " 'abrogation',\n",
       " 'abrogative',\n",
       " 'abrogator',\n",
       " 'abrook',\n",
       " 'abrotanum',\n",
       " 'abrotine',\n",
       " 'abrupt',\n",
       " 'abruptedly',\n",
       " 'abruption',\n",
       " 'abruptly',\n",
       " 'abruptness',\n",
       " 'absampere',\n",
       " 'absarokite',\n",
       " 'abscess',\n",
       " 'abscessed',\n",
       " 'abscession',\n",
       " 'abscessroot',\n",
       " 'abscind',\n",
       " 'abscise',\n",
       " 'abscision',\n",
       " 'absciss',\n",
       " 'abscissa',\n",
       " 'abscissae',\n",
       " 'abscisse',\n",
       " 'abscission',\n",
       " 'absconce',\n",
       " 'abscond',\n",
       " 'absconded',\n",
       " 'abscondedly',\n",
       " 'abscondence',\n",
       " 'absconder',\n",
       " 'absconsa',\n",
       " 'abscoulomb',\n",
       " 'absence',\n",
       " 'absent',\n",
       " 'absentation',\n",
       " 'absentee',\n",
       " 'absenteeism',\n",
       " 'absenteeship',\n",
       " 'absenter',\n",
       " 'absently',\n",
       " 'absentment',\n",
       " 'absentmindedly',\n",
       " 'absentness',\n",
       " 'absfarad',\n",
       " 'abshenry',\n",
       " 'absinthe',\n",
       " 'absinthial',\n",
       " 'absinthian',\n",
       " 'absinthiate',\n",
       " 'absinthic',\n",
       " 'absinthin',\n",
       " 'absinthine',\n",
       " 'absinthism',\n",
       " 'absinthismic',\n",
       " 'absinthium',\n",
       " 'absinthol',\n",
       " 'absit',\n",
       " 'absmho',\n",
       " 'absohm',\n",
       " 'absolute',\n",
       " 'absolutely',\n",
       " 'absoluteness',\n",
       " 'absolution',\n",
       " 'absolutism',\n",
       " 'absolutist',\n",
       " 'absolutistic',\n",
       " 'absolutistically',\n",
       " 'absolutive',\n",
       " 'absolutization',\n",
       " 'absolutize',\n",
       " 'absolutory',\n",
       " 'absolvable',\n",
       " 'absolvatory',\n",
       " 'absolve',\n",
       " 'absolvent',\n",
       " 'absolver',\n",
       " 'absolvitor',\n",
       " 'absolvitory',\n",
       " 'absonant',\n",
       " 'absonous',\n",
       " 'absorb',\n",
       " 'absorbability',\n",
       " 'absorbable',\n",
       " 'absorbed',\n",
       " 'absorbedly',\n",
       " 'absorbedness',\n",
       " 'absorbefacient',\n",
       " 'absorbency',\n",
       " 'absorbent',\n",
       " 'absorber',\n",
       " 'absorbing',\n",
       " 'absorbingly',\n",
       " 'absorbition',\n",
       " 'absorpt',\n",
       " 'absorptance',\n",
       " 'absorptiometer',\n",
       " 'absorptiometric',\n",
       " 'absorption',\n",
       " 'absorptive',\n",
       " 'absorptively',\n",
       " 'absorptiveness',\n",
       " 'absorptivity',\n",
       " 'absquatulate',\n",
       " 'abstain',\n",
       " 'abstainer',\n",
       " 'abstainment',\n",
       " 'abstemious',\n",
       " 'abstemiously',\n",
       " 'abstemiousness',\n",
       " 'abstention',\n",
       " 'abstentionist',\n",
       " 'abstentious',\n",
       " 'absterge',\n",
       " 'abstergent',\n",
       " 'abstersion',\n",
       " 'abstersive',\n",
       " 'abstersiveness',\n",
       " 'abstinence',\n",
       " 'abstinency',\n",
       " 'abstinent',\n",
       " 'abstinential',\n",
       " 'abstinently',\n",
       " 'abstract',\n",
       " 'abstracted',\n",
       " 'abstractedly',\n",
       " 'abstractedness',\n",
       " 'abstracter',\n",
       " 'abstraction',\n",
       " 'abstractional',\n",
       " 'abstractionism',\n",
       " 'abstractionist',\n",
       " 'abstractitious',\n",
       " 'abstractive',\n",
       " 'abstractively',\n",
       " 'abstractiveness',\n",
       " 'abstractly',\n",
       " 'abstractness',\n",
       " 'abstractor',\n",
       " 'abstrahent',\n",
       " 'abstricted',\n",
       " 'abstriction',\n",
       " 'abstruse',\n",
       " 'abstrusely',\n",
       " 'abstruseness',\n",
       " 'abstrusion',\n",
       " 'abstrusity',\n",
       " 'absume',\n",
       " 'absumption',\n",
       " 'absurd',\n",
       " 'absurdity',\n",
       " 'absurdly',\n",
       " 'absurdness',\n",
       " 'absvolt',\n",
       " 'abterminal',\n",
       " 'abthain',\n",
       " 'abthainrie',\n",
       " 'abthainry',\n",
       " 'abthanage',\n",
       " 'abu',\n",
       " 'abucco',\n",
       " 'abulia',\n",
       " 'abulic',\n",
       " 'abulomania',\n",
       " 'abuna',\n",
       " 'abundance',\n",
       " 'abundancy',\n",
       " 'abundant',\n",
       " 'abundantly',\n",
       " 'abura',\n",
       " 'aburabozu',\n",
       " 'aburban',\n",
       " 'aburst',\n",
       " 'aburton',\n",
       " 'abusable',\n",
       " 'abuse',\n",
       " 'abusedly',\n",
       " 'abusee',\n",
       " 'abuseful',\n",
       " 'abusefully',\n",
       " 'abusefulness',\n",
       " 'abuser',\n",
       " 'abusion',\n",
       " 'abusious',\n",
       " 'abusive',\n",
       " 'abusively',\n",
       " 'abusiveness',\n",
       " 'abut',\n",
       " 'abutment',\n",
       " 'abuttal',\n",
       " 'abutter',\n",
       " 'abutting',\n",
       " 'abuzz',\n",
       " 'abvolt',\n",
       " 'abwab',\n",
       " 'aby',\n",
       " 'abysm',\n",
       " 'abysmal',\n",
       " 'abysmally',\n",
       " 'abyss',\n",
       " 'abyssal',\n",
       " 'abyssobenthonic',\n",
       " 'abyssolith',\n",
       " 'abyssopelagic',\n",
       " 'acacatechin',\n",
       " 'acacatechol',\n",
       " 'acacetin',\n",
       " 'acaciin',\n",
       " 'acacin',\n",
       " 'academe',\n",
       " 'academial',\n",
       " 'academian',\n",
       " 'academic',\n",
       " 'academical',\n",
       " 'academically',\n",
       " 'academicals',\n",
       " 'academician',\n",
       " 'academicism',\n",
       " 'academism',\n",
       " 'academist',\n",
       " 'academite',\n",
       " 'academization',\n",
       " 'academize',\n",
       " 'academy',\n",
       " 'acadialite',\n",
       " 'acajou',\n",
       " 'acaleph',\n",
       " 'acalephan',\n",
       " 'acalephoid',\n",
       " 'acalycal',\n",
       " 'acalycine',\n",
       " 'acalycinous',\n",
       " 'acalyculate',\n",
       " 'acalyptrate',\n",
       " 'acampsia',\n",
       " 'acana',\n",
       " 'acanaceous',\n",
       " 'acanonical',\n",
       " 'acanth',\n",
       " 'acantha',\n",
       " 'acanthaceous',\n",
       " 'acanthad',\n",
       " 'acanthial',\n",
       " 'acanthin',\n",
       " 'acanthine',\n",
       " 'acanthion',\n",
       " 'acanthite',\n",
       " 'acanthocarpous',\n",
       " 'acanthocephalan',\n",
       " 'acanthocephalous',\n",
       " 'acanthocladous',\n",
       " 'acanthodean',\n",
       " 'acanthodian',\n",
       " 'acanthoid',\n",
       " 'acanthological',\n",
       " 'acanthology',\n",
       " 'acantholysis',\n",
       " 'acanthoma',\n",
       " 'acanthon',\n",
       " 'acanthophorous',\n",
       " 'acanthopod',\n",
       " 'acanthopodous',\n",
       " 'acanthopomatous',\n",
       " 'acanthopore',\n",
       " 'acanthopteran',\n",
       " 'acanthopterous',\n",
       " 'acanthopterygian',\n",
       " 'acanthosis',\n",
       " 'acanthous',\n",
       " 'acanthus',\n",
       " 'acapnia',\n",
       " 'acapnial',\n",
       " 'acapsular',\n",
       " 'acapu',\n",
       " 'acapulco',\n",
       " 'acara',\n",
       " 'acardia',\n",
       " 'acardiac',\n",
       " 'acari',\n",
       " 'acarian',\n",
       " 'acariasis',\n",
       " 'acaricidal',\n",
       " 'acaricide',\n",
       " 'acarid',\n",
       " 'acaridean',\n",
       " 'acaridomatium',\n",
       " 'acariform',\n",
       " 'acarine',\n",
       " 'acarinosis',\n",
       " 'acarocecidium',\n",
       " 'acarodermatitis',\n",
       " 'acaroid',\n",
       " 'acarol',\n",
       " 'acarologist',\n",
       " 'acarology',\n",
       " 'acarophilous',\n",
       " 'acarophobia',\n",
       " 'acarotoxic',\n",
       " 'acarpelous',\n",
       " 'acarpous',\n",
       " 'acatalectic',\n",
       " 'acatalepsia',\n",
       " 'acatalepsy',\n",
       " 'acataleptic',\n",
       " 'acatallactic',\n",
       " 'acatamathesia',\n",
       " 'acataphasia',\n",
       " 'acataposis',\n",
       " 'acatastasia',\n",
       " 'acatastatic',\n",
       " 'acate',\n",
       " 'acategorical',\n",
       " 'acatery',\n",
       " 'acatharsia',\n",
       " 'acatharsy',\n",
       " 'acatholic',\n",
       " 'acaudal',\n",
       " 'acaudate',\n",
       " 'acaulescent',\n",
       " 'acauline',\n",
       " 'acaulose',\n",
       " 'acaulous',\n",
       " 'acca',\n",
       " 'accede',\n",
       " 'accedence',\n",
       " 'acceder',\n",
       " 'accelerable',\n",
       " 'accelerando',\n",
       " 'accelerant',\n",
       " 'accelerate',\n",
       " 'accelerated',\n",
       " 'acceleratedly',\n",
       " 'acceleration',\n",
       " 'accelerative',\n",
       " 'accelerator',\n",
       " 'acceleratory',\n",
       " 'accelerograph',\n",
       " 'accelerometer',\n",
       " 'accend',\n",
       " 'accendibility',\n",
       " 'accendible',\n",
       " 'accension',\n",
       " 'accensor',\n",
       " 'accent',\n",
       " 'accentless',\n",
       " 'accentor',\n",
       " 'accentuable',\n",
       " 'accentual',\n",
       " 'accentuality',\n",
       " 'accentually',\n",
       " 'accentuate',\n",
       " 'accentuation',\n",
       " 'accentuator',\n",
       " 'accentus',\n",
       " 'accept',\n",
       " 'acceptability',\n",
       " 'acceptable',\n",
       " 'acceptableness',\n",
       " 'acceptably',\n",
       " 'acceptance',\n",
       " 'acceptancy',\n",
       " 'acceptant',\n",
       " 'acceptation',\n",
       " 'accepted',\n",
       " 'acceptedly',\n",
       " 'accepter',\n",
       " 'acceptilate',\n",
       " 'acceptilation',\n",
       " 'acception',\n",
       " 'acceptive',\n",
       " 'acceptor',\n",
       " 'acceptress',\n",
       " 'accerse',\n",
       " 'accersition',\n",
       " 'accersitor',\n",
       " 'access',\n",
       " 'accessarily',\n",
       " 'accessariness',\n",
       " 'accessary',\n",
       " 'accessaryship',\n",
       " 'accessibility',\n",
       " 'accessible',\n",
       " 'accessibly',\n",
       " 'accession',\n",
       " 'accessional',\n",
       " 'accessioner',\n",
       " 'accessive',\n",
       " 'accessively',\n",
       " 'accessless',\n",
       " 'accessorial',\n",
       " 'accessorily',\n",
       " 'accessoriness',\n",
       " 'accessorius',\n",
       " 'accessory',\n",
       " 'accidence',\n",
       " 'accidency',\n",
       " 'accident',\n",
       " 'accidental',\n",
       " 'accidentalism',\n",
       " 'accidentalist',\n",
       " 'accidentality',\n",
       " 'accidentally',\n",
       " 'accidentalness',\n",
       " 'accidented',\n",
       " 'accidential',\n",
       " 'accidentiality',\n",
       " 'accidently',\n",
       " 'accidia',\n",
       " 'accidie',\n",
       " 'accinge',\n",
       " 'accipient',\n",
       " 'accipitral',\n",
       " 'accipitrary',\n",
       " 'accipitrine',\n",
       " 'accismus',\n",
       " 'accite',\n",
       " 'acclaim',\n",
       " 'acclaimable',\n",
       " 'acclaimer',\n",
       " 'acclamation',\n",
       " 'acclamator',\n",
       " 'acclamatory',\n",
       " 'acclimatable',\n",
       " 'acclimatation',\n",
       " 'acclimate',\n",
       " 'acclimatement',\n",
       " 'acclimation',\n",
       " 'acclimatizable',\n",
       " 'acclimatization',\n",
       " 'acclimatize',\n",
       " 'acclimatizer',\n",
       " 'acclimature',\n",
       " 'acclinal',\n",
       " 'acclinate',\n",
       " 'acclivitous',\n",
       " 'acclivity',\n",
       " 'acclivous',\n",
       " 'accloy',\n",
       " 'accoast',\n",
       " 'accoil',\n",
       " 'accolade',\n",
       " 'accoladed',\n",
       " 'accolated',\n",
       " 'accolent',\n",
       " 'accolle',\n",
       " 'accombination',\n",
       " 'accommodable',\n",
       " 'accommodableness',\n",
       " 'accommodate',\n",
       " 'accommodately',\n",
       " 'accommodateness',\n",
       " 'accommodating',\n",
       " 'accommodatingly',\n",
       " 'accommodation',\n",
       " 'accommodational',\n",
       " 'accommodative',\n",
       " 'accommodativeness',\n",
       " 'accommodator',\n",
       " 'accompanier',\n",
       " 'accompaniment',\n",
       " 'accompanimental',\n",
       " 'accompanist',\n",
       " 'accompany',\n",
       " 'accompanyist',\n",
       " 'accompletive',\n",
       " 'accomplice',\n",
       " 'accompliceship',\n",
       " 'accomplicity',\n",
       " 'accomplish',\n",
       " 'accomplishable',\n",
       " 'accomplished',\n",
       " 'accomplisher',\n",
       " 'accomplishment',\n",
       " 'accomplisht',\n",
       " 'accompt',\n",
       " 'accord',\n",
       " 'accordable',\n",
       " 'accordance',\n",
       " 'accordancy',\n",
       " 'accordant',\n",
       " 'accordantly',\n",
       " 'accorder',\n",
       " 'according',\n",
       " 'accordingly',\n",
       " 'accordion',\n",
       " 'accordionist',\n",
       " 'accorporate',\n",
       " 'accorporation',\n",
       " 'accost',\n",
       " 'accostable',\n",
       " 'accosted',\n",
       " 'accouche',\n",
       " 'accouchement',\n",
       " 'accoucheur',\n",
       " 'accoucheuse',\n",
       " 'account',\n",
       " 'accountability',\n",
       " 'accountable',\n",
       " 'accountableness',\n",
       " 'accountably',\n",
       " 'accountancy',\n",
       " 'accountant',\n",
       " 'accountantship',\n",
       " 'accounting',\n",
       " 'accountment',\n",
       " 'accouple',\n",
       " 'accouplement',\n",
       " 'accouter',\n",
       " 'accouterment',\n",
       " 'accoy',\n",
       " 'accredit',\n",
       " 'accreditate',\n",
       " 'accreditation',\n",
       " 'accredited',\n",
       " 'accreditment',\n",
       " 'accrementitial',\n",
       " 'accrementition',\n",
       " 'accresce',\n",
       " 'accrescence',\n",
       " 'accrescent',\n",
       " 'accretal',\n",
       " 'accrete',\n",
       " 'accretion',\n",
       " 'accretionary',\n",
       " 'accretive',\n",
       " 'accroach',\n",
       " 'accroides',\n",
       " 'accrual',\n",
       " 'accrue',\n",
       " 'accruement',\n",
       " 'accruer',\n",
       " 'accubation',\n",
       " 'accubitum',\n",
       " 'accubitus',\n",
       " 'accultural',\n",
       " 'acculturate',\n",
       " 'acculturation',\n",
       " 'acculturize',\n",
       " 'accumbency',\n",
       " 'accumbent',\n",
       " 'accumber',\n",
       " 'accumulable',\n",
       " 'accumulate',\n",
       " 'accumulation',\n",
       " 'accumulativ',\n",
       " 'accumulative',\n",
       " 'accumulatively',\n",
       " 'accumulativeness',\n",
       " 'accumulator',\n",
       " 'accuracy',\n",
       " 'accurate',\n",
       " 'accurately',\n",
       " 'accurateness',\n",
       " 'accurse',\n",
       " 'accursed',\n",
       " 'accursedly',\n",
       " 'accursedness',\n",
       " 'accusable',\n",
       " 'accusably',\n",
       " 'accusal',\n",
       " 'accusant',\n",
       " 'accusation',\n",
       " 'accusatival',\n",
       " 'accusative',\n",
       " 'accusatively',\n",
       " 'accusatorial',\n",
       " 'accusatorially',\n",
       " 'accusatory',\n",
       " 'accusatrix',\n",
       " 'accuse',\n",
       " 'accused',\n",
       " 'accuser',\n",
       " 'accusingly',\n",
       " 'accusive',\n",
       " 'accustom',\n",
       " 'accustomed',\n",
       " 'accustomedly',\n",
       " 'accustomedness',\n",
       " 'ace',\n",
       " 'aceacenaphthene',\n",
       " 'aceanthrene',\n",
       " 'aceanthrenequinone',\n",
       " 'acecaffine',\n",
       " 'aceconitic',\n",
       " 'acedia',\n",
       " 'acediamine',\n",
       " 'acediast',\n",
       " 'acedy',\n",
       " 'acenaphthene',\n",
       " 'acenaphthenyl',\n",
       " 'acenaphthylene',\n",
       " 'acentric',\n",
       " 'acentrous',\n",
       " 'aceologic',\n",
       " 'aceology',\n",
       " 'acephal',\n",
       " 'acephalan',\n",
       " 'acephalia',\n",
       " 'acephaline',\n",
       " 'acephalism',\n",
       " 'acephalist',\n",
       " ...]"
      ]
     },
     "execution_count": 92,
     "metadata": {},
     "output_type": "execute_result"
    }
   ],
   "source": [
    "wordlist"
   ]
  },
  {
   "cell_type": "code",
   "execution_count": 93,
   "metadata": {},
   "outputs": [
    {
     "data": {
      "text/plain": [
       "['abaissed',\n",
       " 'abandoned',\n",
       " 'abased',\n",
       " 'abashed',\n",
       " 'abatised',\n",
       " 'abed',\n",
       " 'aborted',\n",
       " 'abridged',\n",
       " 'abscessed',\n",
       " 'absconded']"
      ]
     },
     "execution_count": 93,
     "metadata": {},
     "output_type": "execute_result"
    }
   ],
   "source": [
    "[w for w in wordlist if re.search('ed$',w)][:10]"
   ]
  },
  {
   "cell_type": "code",
   "execution_count": 94,
   "metadata": {},
   "outputs": [
    {
     "data": {
      "text/plain": [
       "['edacious',\n",
       " 'edaciously',\n",
       " 'edaciousness',\n",
       " 'edacity',\n",
       " 'edaphic',\n",
       " 'edaphology',\n",
       " 'edaphon',\n",
       " 'edder',\n",
       " 'eddish',\n",
       " 'eddo']"
      ]
     },
     "execution_count": 94,
     "metadata": {},
     "output_type": "execute_result"
    }
   ],
   "source": [
    "[w for w in wordlist if re.search('^ed',w)][:10]"
   ]
  },
  {
   "cell_type": "code",
   "execution_count": 95,
   "metadata": {},
   "outputs": [
    {
     "data": {
      "text/plain": [
       "9148"
      ]
     },
     "execution_count": 95,
     "metadata": {},
     "output_type": "execute_result"
    }
   ],
   "source": [
    "len([w for w in wordlist if re.search('ed$',w)])"
   ]
  },
  {
   "cell_type": "code",
   "execution_count": 96,
   "metadata": {},
   "outputs": [
    {
     "data": {
      "text/plain": [
       "14144"
      ]
     },
     "execution_count": 96,
     "metadata": {},
     "output_type": "execute_result"
    }
   ],
   "source": [
    "len([w for w in wordlist if re.search('ed',w)])"
   ]
  },
  {
   "cell_type": "code",
   "execution_count": 97,
   "metadata": {},
   "outputs": [
    {
     "data": {
      "text/plain": [
       "['antieducation',\n",
       " 'autoeducation',\n",
       " 'coeducation',\n",
       " 'education',\n",
       " 'fucation',\n",
       " 'ineducation',\n",
       " 'interlucation',\n",
       " 'maleducation',\n",
       " 'manducation',\n",
       " 'miseducation']"
      ]
     },
     "execution_count": 97,
     "metadata": {},
     "output_type": "execute_result"
    }
   ],
   "source": [
    "[w for w in wordlist if re.search('ucation$',w)][:10]"
   ]
  },
  {
   "cell_type": "code",
   "execution_count": 98,
   "metadata": {},
   "outputs": [
    {
     "data": {
      "text/plain": [
       "['education']"
      ]
     },
     "execution_count": 98,
     "metadata": {},
     "output_type": "execute_result"
    }
   ],
   "source": [
    "[w for w in wordlist if w=='education']"
   ]
  },
  {
   "cell_type": "markdown",
   "metadata": {},
   "source": [
    "Here in the below section, ^ is used to find all strings that is starting\n",
    "with particular digit. the term -> . is used to escape any character in \n",
    "between. $ is used to terminate the character search"
   ]
  },
  {
   "cell_type": "code",
   "execution_count": 99,
   "metadata": {},
   "outputs": [
    {
     "data": {
      "text/plain": [
       "['abjectly',\n",
       " 'adjuster',\n",
       " 'dejected',\n",
       " 'dejectly',\n",
       " 'injector',\n",
       " 'majestic',\n",
       " 'objectee',\n",
       " 'objector',\n",
       " 'rejecter',\n",
       " 'rejector',\n",
       " 'unjilted',\n",
       " 'unjolted',\n",
       " 'unjustly']"
      ]
     },
     "execution_count": 99,
     "metadata": {},
     "output_type": "execute_result"
    }
   ],
   "source": [
    "[w for w in wordlist if re.search('^..j..t..$',w)]"
   ]
  },
  {
   "cell_type": "code",
   "execution_count": 100,
   "metadata": {},
   "outputs": [
    {
     "data": {
      "text/plain": [
       "['abjectly', 'adjuster']"
      ]
     },
     "execution_count": 100,
     "metadata": {},
     "output_type": "execute_result"
    }
   ],
   "source": [
    "[w for w in wordlist if re.search('^a.j..t..$',w)]"
   ]
  },
  {
   "cell_type": "code",
   "execution_count": 101,
   "metadata": {},
   "outputs": [
    {
     "data": {
      "text/plain": [
       "['honeymoon']"
      ]
     },
     "execution_count": 101,
     "metadata": {},
     "output_type": "execute_result"
    }
   ],
   "source": [
    "[w for w in wordlist if re.search('^h...y...n$',w)]"
   ]
  },
  {
   "cell_type": "code",
   "execution_count": 102,
   "metadata": {},
   "outputs": [
    {
     "data": {
      "text/plain": [
       "['easel',\n",
       " 'ectal',\n",
       " 'enoil',\n",
       " 'enrol',\n",
       " 'ental',\n",
       " 'equal',\n",
       " 'ergal',\n",
       " 'ethal',\n",
       " 'ethel',\n",
       " 'ethyl',\n",
       " 'eusol',\n",
       " 'excel',\n",
       " 'expel',\n",
       " 'extol']"
      ]
     },
     "execution_count": 102,
     "metadata": {},
     "output_type": "execute_result"
    }
   ],
   "source": [
    "[w for w in wordlist if re.search('^e...l$',w)]"
   ]
  },
  {
   "cell_type": "code",
   "execution_count": 103,
   "metadata": {},
   "outputs": [
    {
     "data": {
      "text/plain": [
       "['gale',\n",
       " 'gold',\n",
       " 'golf',\n",
       " 'haje',\n",
       " 'hake',\n",
       " 'hale',\n",
       " 'half',\n",
       " 'hold',\n",
       " 'hole',\n",
       " 'wake',\n",
       " 'wakf',\n",
       " 'wale',\n",
       " 'walk',\n",
       " 'woke',\n",
       " 'wold',\n",
       " 'wolf']"
      ]
     },
     "execution_count": 103,
     "metadata": {},
     "output_type": "execute_result"
    }
   ],
   "source": [
    "[w for w in wordlist if re.search('^[ghiw][mnoa][jlk][defk]$', w)]"
   ]
  },
  {
   "cell_type": "markdown",
   "metadata": {},
   "source": [
    "The first part of the expression, «^[ghi]», matches the start of a word followed by g,\n",
    "h, or i. The next part of the expression, «[mno]», constrains the second character to be m,\n",
    "n, or o. The third and fourth characters are also constrained. Only four words satisfy\n",
    " all these constraints."
   ]
  },
  {
   "cell_type": "code",
   "execution_count": 104,
   "metadata": {},
   "outputs": [],
   "source": [
    "chat_words=sorted(set(w for w in nltk.corpus.nps_chat.words()))"
   ]
  },
  {
   "cell_type": "code",
   "execution_count": 105,
   "metadata": {},
   "outputs": [
    {
     "data": {
      "text/plain": [
       "['',\n",
       " '!',\n",
       " '!!',\n",
       " '!!!',\n",
       " '!!!!',\n",
       " '!!!!!',\n",
       " '!!!!!!',\n",
       " '!!!!!!!',\n",
       " '!!!!!!!!',\n",
       " '!!!!!!!!!']"
      ]
     },
     "execution_count": 105,
     "metadata": {},
     "output_type": "execute_result"
    }
   ],
   "source": [
    "chat_words[:10]"
   ]
  },
  {
   "cell_type": "code",
   "execution_count": 106,
   "metadata": {},
   "outputs": [
    {
     "data": {
      "text/plain": [
       "['miiiiiiiiiiiiinnnnnnnnnnneeeeeeeeee',\n",
       " 'miiiiiinnnnnnnnnneeeeeeee',\n",
       " 'mine',\n",
       " 'mmmmmmmmiiiiiiiiinnnnnnnnneeeeeeee']"
      ]
     },
     "execution_count": 106,
     "metadata": {},
     "output_type": "execute_result"
    }
   ],
   "source": [
    "[w for w in chat_words if re.search('^m+i+n+e+$',w)]"
   ]
  },
  {
   "cell_type": "code",
   "execution_count": 107,
   "metadata": {},
   "outputs": [
    {
     "data": {
      "text/plain": [
       "['a',\n",
       " 'aaaaaaaaaaaaaaaaa',\n",
       " 'aaahhhh',\n",
       " 'ah',\n",
       " 'ahah',\n",
       " 'ahahah',\n",
       " 'ahh',\n",
       " 'ahhahahaha',\n",
       " 'ahhh',\n",
       " 'ahhhh',\n",
       " 'ahhhhhh',\n",
       " 'ahhhhhhhhhhhhhh',\n",
       " 'h',\n",
       " 'ha',\n",
       " 'haaa',\n",
       " 'hah',\n",
       " 'haha',\n",
       " 'hahaaa',\n",
       " 'hahah',\n",
       " 'hahaha',\n",
       " 'hahahaa',\n",
       " 'hahahah',\n",
       " 'hahahaha',\n",
       " 'hahahahaaa',\n",
       " 'hahahahahaha',\n",
       " 'hahahahahahaha',\n",
       " 'hahahahahahahahahahahahahahahaha',\n",
       " 'hahahhahah',\n",
       " 'hahhahahaha']"
      ]
     },
     "execution_count": 107,
     "metadata": {},
     "output_type": "execute_result"
    }
   ],
   "source": [
    "[w for w in chat_words if re.search('^[ha]+$',w)]"
   ]
  },
  {
   "cell_type": "markdown",
   "metadata": {},
   "source": [
    "+ \"+\" gives all the occurances of particular character "
   ]
  },
  {
   "cell_type": "code",
   "execution_count": 108,
   "metadata": {},
   "outputs": [
    {
     "data": {
      "text/plain": [
       "['',\n",
       " 'a',\n",
       " 'aaaaaaaaaaaaaaaaa',\n",
       " 'al',\n",
       " 'all',\n",
       " 'k',\n",
       " 'l',\n",
       " 'll',\n",
       " 'w',\n",
       " 'wa',\n",
       " 'waaa',\n",
       " 'walk',\n",
       " 'wall']"
      ]
     },
     "execution_count": 108,
     "metadata": {},
     "output_type": "execute_result"
    }
   ],
   "source": [
    "[w for w in chat_words if re.search('^w*a*l*k*$',w)]"
   ]
  },
  {
   "cell_type": "code",
   "execution_count": 109,
   "metadata": {},
   "outputs": [
    {
     "data": {
      "text/plain": [
       "['walk']"
      ]
     },
     "execution_count": 109,
     "metadata": {},
     "output_type": "execute_result"
    }
   ],
   "source": [
    "[w for w in chat_words if re.search('^w+a+l+k+$',w)]"
   ]
  },
  {
   "cell_type": "code",
   "execution_count": 110,
   "metadata": {},
   "outputs": [],
   "source": [
    "wsj=sorted(set(nltk.corpus.treebank.words()))"
   ]
  },
  {
   "cell_type": "code",
   "execution_count": 111,
   "metadata": {},
   "outputs": [
    {
     "data": {
      "text/plain": [
       "[\"'80s\", \"'82\", \"'86\", \"'S\", \"'d\", \"'ll\", \"'m\", \"'re\", \"'s\", \"'ve\"]"
      ]
     },
     "execution_count": 111,
     "metadata": {},
     "output_type": "execute_result"
    }
   ],
   "source": [
    "wsj[10:20]"
   ]
  },
  {
   "cell_type": "code",
   "execution_count": 112,
   "metadata": {},
   "outputs": [
    {
     "data": {
      "text/plain": [
       "['C$', 'US$']"
      ]
     },
     "execution_count": 112,
     "metadata": {},
     "output_type": "execute_result"
    }
   ],
   "source": [
    "[w for w in wsj if re.search('^[A-Z]+\\$',w)]"
   ]
  },
  {
   "cell_type": "code",
   "execution_count": 113,
   "metadata": {},
   "outputs": [
    {
     "data": {
      "text/plain": [
       "['0.0085', '0.05', '0.1', '0.16', '0.2', '0.25', '0.28', '0.3', '0.4', '0.5']"
      ]
     },
     "execution_count": 113,
     "metadata": {},
     "output_type": "execute_result"
    }
   ],
   "source": [
    "[w for w in wsj if re.search('^[0-9]+\\.[0-9]+$',w)][:10]"
   ]
  },
  {
   "cell_type": "code",
   "execution_count": 114,
   "metadata": {},
   "outputs": [
    {
     "data": {
      "text/plain": [
       "['100', '101', '102', '103', '105', '106', '107', '108', '110', '111']"
      ]
     },
     "execution_count": 114,
     "metadata": {},
     "output_type": "execute_result"
    }
   ],
   "source": [
    "[w for w in wsj if re.search('^[0-9]{3}$', w)][:10]"
   ]
  },
  {
   "cell_type": "code",
   "execution_count": 115,
   "metadata": {},
   "outputs": [
    {
     "data": {
      "text/plain": [
       "['1614',\n",
       " '1637',\n",
       " '1787',\n",
       " '1901',\n",
       " '1903',\n",
       " '1917',\n",
       " '1925',\n",
       " '1929',\n",
       " '1933',\n",
       " '1934']"
      ]
     },
     "execution_count": 115,
     "metadata": {},
     "output_type": "execute_result"
    }
   ],
   "source": [
    "[w for w in wsj if re.search('^[0-9]{4}$', w)][:10]"
   ]
  },
  {
   "cell_type": "markdown",
   "metadata": {},
   "source": [
    "The above curly brace gives number of digits to be specified for given \n",
    "regular expression"
   ]
  },
  {
   "cell_type": "code",
   "execution_count": 116,
   "metadata": {},
   "outputs": [
    {
     "data": {
      "text/plain": [
       "['10-day',\n",
       " '10-lap',\n",
       " '10-year',\n",
       " '12-year',\n",
       " '14-hour',\n",
       " '15-day',\n",
       " '237-seat',\n",
       " '240-page',\n",
       " '27-year',\n",
       " '30-day',\n",
       " '30-year',\n",
       " '300-day',\n",
       " '36-day',\n",
       " '42-year',\n",
       " '52-week',\n",
       " '90-day']"
      ]
     },
     "execution_count": 116,
     "metadata": {},
     "output_type": "execute_result"
    }
   ],
   "source": [
    "[w for w in wsj if re.search('^[0-9]+-[a-z]{3,4}$', w)]"
   ]
  },
  {
   "cell_type": "code",
   "execution_count": 117,
   "metadata": {},
   "outputs": [
    {
     "data": {
      "text/plain": [
       "['black-and-white',\n",
       " 'bread-and-butter',\n",
       " 'father-in-law',\n",
       " 'machine-gun-toting',\n",
       " 'savings-and-loan']"
      ]
     },
     "execution_count": 117,
     "metadata": {},
     "output_type": "execute_result"
    }
   ],
   "source": [
    "[w for w in wsj if re.search('^[a-z]{5,}-[a-z]{2,3}-[a-z]{,6}$', w)]"
   ]
  },
  {
   "cell_type": "code",
   "execution_count": 118,
   "metadata": {
    "scrolled": true
   },
   "outputs": [
    {
     "data": {
      "text/plain": [
       "['edged',\n",
       " 'editing',\n",
       " 'edition',\n",
       " 'editions',\n",
       " 'editor',\n",
       " 'editorial',\n",
       " 'editorially',\n",
       " 'editors',\n",
       " 'educated',\n",
       " 'education',\n",
       " 'educational',\n",
       " 'educators',\n",
       " 'ingenuity',\n",
       " 'ingredients']"
      ]
     },
     "execution_count": 118,
     "metadata": {},
     "output_type": "execute_result"
    }
   ],
   "source": [
    "[w for w in wsj if re.search('^(ed|ing)', w)]"
   ]
  },
  {
   "cell_type": "code",
   "execution_count": 119,
   "metadata": {},
   "outputs": [
    {
     "data": {
      "text/plain": [
       "['62%-owned',\n",
       " 'Absorbed',\n",
       " 'According',\n",
       " 'Adopting',\n",
       " 'Advanced',\n",
       " 'Advancing',\n",
       " 'Alfred',\n",
       " 'Allied',\n",
       " 'Annualized',\n",
       " 'Anything',\n",
       " 'Arbitrage-related',\n",
       " 'Arbitraging',\n",
       " 'Asked',\n",
       " 'Assuming',\n",
       " 'Atlanta-based',\n",
       " 'Baking',\n",
       " 'Banking',\n",
       " 'Beginning',\n",
       " 'Beijing',\n",
       " 'Being',\n",
       " 'Bermuda-based',\n",
       " 'Betting',\n",
       " 'Boeing',\n",
       " 'Broadcasting',\n",
       " 'Bucking',\n",
       " 'Buying',\n",
       " 'Calif.-based',\n",
       " 'Change-ringing',\n",
       " 'Citing',\n",
       " 'Concerned',\n",
       " 'Confronted',\n",
       " 'Conn.based',\n",
       " 'Consolidated',\n",
       " 'Continued',\n",
       " 'Continuing',\n",
       " 'Declining',\n",
       " 'Defending',\n",
       " 'Depending',\n",
       " 'Designated',\n",
       " 'Determining',\n",
       " 'Developed',\n",
       " 'Died',\n",
       " 'During',\n",
       " 'Encouraged',\n",
       " 'Encouraging',\n",
       " 'English-speaking',\n",
       " 'Estimated',\n",
       " 'Everything',\n",
       " 'Excluding',\n",
       " 'Exxon-owned',\n",
       " 'Faulding',\n",
       " 'Fed',\n",
       " 'Feeding',\n",
       " 'Filling',\n",
       " 'Filmed',\n",
       " 'Financing',\n",
       " 'Following',\n",
       " 'Founded',\n",
       " 'Fracturing',\n",
       " 'Francisco-based',\n",
       " 'Fred',\n",
       " 'Funded',\n",
       " 'Funding',\n",
       " 'Generalized',\n",
       " 'Germany-based',\n",
       " 'Getting',\n",
       " 'Guaranteed',\n",
       " 'Having',\n",
       " 'Heating',\n",
       " 'Heightened',\n",
       " 'Holding',\n",
       " 'Housing',\n",
       " 'Illuminating',\n",
       " 'Indeed',\n",
       " 'Indexing',\n",
       " 'Irving',\n",
       " 'Jersey-based',\n",
       " 'Judging',\n",
       " 'Knowing',\n",
       " 'Learning',\n",
       " 'Legislating',\n",
       " 'Leming',\n",
       " 'Limited',\n",
       " 'London-based',\n",
       " 'Manfred',\n",
       " 'Manufacturing',\n",
       " 'Melamed',\n",
       " 'Miami-based',\n",
       " 'Mich.-based',\n",
       " 'Mining',\n",
       " 'Minneapolis-based',\n",
       " 'Mo.-based',\n",
       " 'Mortgage-Backed',\n",
       " 'Moving',\n",
       " 'Muzzling',\n",
       " 'N.J.-based',\n",
       " 'NBC-owned',\n",
       " 'NIH-appointed',\n",
       " 'Named',\n",
       " 'No-Smoking',\n",
       " 'Observing',\n",
       " 'Offering',\n",
       " 'Ohio-based',\n",
       " 'Orleans-based',\n",
       " 'Packaging',\n",
       " 'Performing',\n",
       " 'Philadelphia-based',\n",
       " 'Posted',\n",
       " 'Provided',\n",
       " 'Publishing',\n",
       " 'Purchasing',\n",
       " 'Rated',\n",
       " 'Reached',\n",
       " 'Red',\n",
       " 'Red-blooded',\n",
       " 'Reducing',\n",
       " 'Reed',\n",
       " 'Regarded',\n",
       " 'Rekindled',\n",
       " 'Related',\n",
       " 'Ringing',\n",
       " 'Rolling',\n",
       " 'Sacramento-based',\n",
       " 'Scoring',\n",
       " 'Seattle-based',\n",
       " 'Seed',\n",
       " 'Skilled',\n",
       " 'Smelting',\n",
       " 'Something',\n",
       " 'Spending',\n",
       " 'Standardized',\n",
       " 'Standing',\n",
       " 'Starting',\n",
       " 'Sterling',\n",
       " 'Taking',\n",
       " 'Texas-based',\n",
       " 'Toronto-based',\n",
       " 'Traded',\n",
       " 'Trading',\n",
       " 'Troubled',\n",
       " 'U.N.-supervised',\n",
       " 'U.S.-backed',\n",
       " 'United',\n",
       " 'Used',\n",
       " 'Varying',\n",
       " 'Washington-based',\n",
       " 'Whiting',\n",
       " 'Wilfred',\n",
       " 'Winning',\n",
       " 'Xiaoping',\n",
       " 'York-based',\n",
       " 'Zayed',\n",
       " 'abandoned',\n",
       " 'abating',\n",
       " 'abolishing',\n",
       " 'abortion-related',\n",
       " 'abounding',\n",
       " 'abridging',\n",
       " 'absorbed',\n",
       " 'acceded',\n",
       " 'accelerated',\n",
       " 'accepted',\n",
       " 'accepting',\n",
       " 'according',\n",
       " 'accounted',\n",
       " 'accounting',\n",
       " 'accrued',\n",
       " 'accumulated',\n",
       " 'accused',\n",
       " 'accusing',\n",
       " 'achieved',\n",
       " 'achieving',\n",
       " 'acknowledging',\n",
       " 'acquired',\n",
       " 'acquiring',\n",
       " 'acquisition-minded',\n",
       " 'acted',\n",
       " 'acting',\n",
       " 'adapted',\n",
       " 'adapting',\n",
       " 'added',\n",
       " 'adding',\n",
       " 'addressing',\n",
       " 'adjusted',\n",
       " 'adjusting',\n",
       " 'admitted',\n",
       " 'admitting',\n",
       " 'adopted',\n",
       " 'advanced',\n",
       " 'advancing',\n",
       " 'advertised',\n",
       " 'advertising',\n",
       " 'advised',\n",
       " 'advocated',\n",
       " 'advocating',\n",
       " 'affecting',\n",
       " 'afflicted',\n",
       " 'aggravated',\n",
       " 'agreed',\n",
       " 'agreeing',\n",
       " 'ailing',\n",
       " 'aimed',\n",
       " 'aiming',\n",
       " 'aired',\n",
       " 'airline-related',\n",
       " 'alarmed',\n",
       " 'alienated',\n",
       " 'alleged',\n",
       " 'alleging',\n",
       " 'allocated',\n",
       " 'allowed',\n",
       " 'altered',\n",
       " 'altering',\n",
       " 'amended',\n",
       " 'amending',\n",
       " 'amounted',\n",
       " 'amusing',\n",
       " 'angered',\n",
       " 'announced',\n",
       " 'annoyed',\n",
       " 'annualized',\n",
       " 'answered',\n",
       " 'anti-dumping',\n",
       " 'anticipated',\n",
       " 'anticipating',\n",
       " 'anything',\n",
       " 'apologizing',\n",
       " 'appealing',\n",
       " 'appeared',\n",
       " 'appearing',\n",
       " 'applied',\n",
       " 'appointed',\n",
       " 'approached',\n",
       " 'appropriated',\n",
       " 'approved',\n",
       " 'arched',\n",
       " 'argued',\n",
       " 'arguing',\n",
       " 'arising',\n",
       " 'armed',\n",
       " 'arranged',\n",
       " 'arrested',\n",
       " 'arrived',\n",
       " 'asbestos-related',\n",
       " 'asked',\n",
       " 'asking',\n",
       " 'assassinated',\n",
       " 'assembled',\n",
       " 'asserted',\n",
       " 'asserting',\n",
       " 'assessed',\n",
       " 'assigned',\n",
       " 'assisted',\n",
       " 'associated',\n",
       " 'assumed',\n",
       " 'assuming',\n",
       " 'assured',\n",
       " 'attached',\n",
       " 'attacking',\n",
       " 'attempted',\n",
       " 'attempting',\n",
       " 'attended',\n",
       " 'attending',\n",
       " 'attracted',\n",
       " 'attracting',\n",
       " 'attributed',\n",
       " 'auctioned',\n",
       " 'authorized',\n",
       " 'authorizing',\n",
       " 'automated',\n",
       " 'automotive-lighting',\n",
       " 'averaged',\n",
       " 'averted',\n",
       " 'avoiding',\n",
       " 'awarded',\n",
       " 'awarding',\n",
       " 'backed',\n",
       " 'backing',\n",
       " 'balanced',\n",
       " 'bald-faced',\n",
       " 'balkanized',\n",
       " 'balked',\n",
       " 'balloting',\n",
       " 'bank-backed',\n",
       " 'banking',\n",
       " 'banned',\n",
       " 'banning',\n",
       " 'barking',\n",
       " 'barred',\n",
       " 'based',\n",
       " 'battered',\n",
       " 'battery-operated',\n",
       " 'batting',\n",
       " 'bearing',\n",
       " 'becoming',\n",
       " 'bedding',\n",
       " 'befuddled',\n",
       " 'beginning',\n",
       " 'behaving',\n",
       " 'beheading',\n",
       " 'being',\n",
       " 'beleaguered',\n",
       " 'believed',\n",
       " 'bell-ringing',\n",
       " 'belonging',\n",
       " 'benefited',\n",
       " 'best-selling',\n",
       " 'betting',\n",
       " 'bickering',\n",
       " 'bidding',\n",
       " 'billed',\n",
       " 'billing',\n",
       " 'blamed',\n",
       " 'bled',\n",
       " 'blessing',\n",
       " 'blighted',\n",
       " 'blocked',\n",
       " 'blurred',\n",
       " 'boarding',\n",
       " 'bolstered',\n",
       " 'bombarding',\n",
       " 'booked',\n",
       " 'booming',\n",
       " 'boosted',\n",
       " 'boosting',\n",
       " 'borrowed',\n",
       " 'borrowing',\n",
       " 'botched',\n",
       " 'bothered',\n",
       " 'bounced',\n",
       " 'bowed',\n",
       " 'breaking',\n",
       " 'breathed',\n",
       " 'breathtaking',\n",
       " 'breed',\n",
       " 'bribed',\n",
       " 'bribing',\n",
       " 'briefing',\n",
       " 'brightened',\n",
       " 'bring',\n",
       " 'bringing',\n",
       " 'broad-based',\n",
       " 'broadcasting',\n",
       " 'broadened',\n",
       " 'brokering',\n",
       " 'brushed',\n",
       " 'budding',\n",
       " 'building',\n",
       " 'bundling',\n",
       " 'buoyed',\n",
       " 'burned',\n",
       " 'buying',\n",
       " 'calculated',\n",
       " 'called',\n",
       " 'calling',\n",
       " 'campaigning',\n",
       " 'cancer-causing',\n",
       " 'capitalized',\n",
       " 'capped',\n",
       " 'captivating',\n",
       " 'cared',\n",
       " 'carried',\n",
       " 'carrying',\n",
       " 'cascading',\n",
       " 'casting',\n",
       " 'caused',\n",
       " 'causing',\n",
       " 'cautioned',\n",
       " 'ceiling',\n",
       " 'centralized',\n",
       " 'certified',\n",
       " 'chaired',\n",
       " 'challenging',\n",
       " 'championing',\n",
       " 'change-ringing',\n",
       " 'changed',\n",
       " 'changing',\n",
       " 'characterized',\n",
       " 'characterizing',\n",
       " 'charged',\n",
       " 'charging',\n",
       " 'chastised',\n",
       " 'cheating',\n",
       " 'checking',\n",
       " 'cheerleading',\n",
       " 'chilled',\n",
       " 'choosing',\n",
       " 'chopped',\n",
       " 'circulated',\n",
       " 'cited',\n",
       " 'citing',\n",
       " 'citizen-sparked',\n",
       " 'city-owned',\n",
       " 'claimed',\n",
       " 'claiming',\n",
       " 'clamped',\n",
       " 'clarified',\n",
       " 'clashed',\n",
       " 'classed',\n",
       " 'classified',\n",
       " 'cleaned',\n",
       " 'cleaner-burning',\n",
       " 'cleared',\n",
       " 'clearing',\n",
       " 'clicked',\n",
       " 'climbed',\n",
       " 'climbing',\n",
       " 'clipped',\n",
       " 'clobbered',\n",
       " 'closed',\n",
       " 'closing',\n",
       " 'clothing',\n",
       " 'clouding',\n",
       " 'cluttered',\n",
       " 'co-founded',\n",
       " 'coaching',\n",
       " 'coal-fired',\n",
       " 'coated',\n",
       " 'codified',\n",
       " 'collaborated',\n",
       " 'collapsed',\n",
       " 'collected',\n",
       " 'collecting',\n",
       " 'collective-bargaining',\n",
       " 'colored',\n",
       " 'combined',\n",
       " 'coming',\n",
       " 'commanded',\n",
       " 'commenting',\n",
       " 'committed',\n",
       " 'committing',\n",
       " 'compared',\n",
       " 'compelling',\n",
       " 'competed',\n",
       " 'competing',\n",
       " 'compiled',\n",
       " 'complained',\n",
       " 'complaining',\n",
       " 'completed',\n",
       " 'completing',\n",
       " 'complicated',\n",
       " 'composed',\n",
       " 'composting',\n",
       " 'compressed',\n",
       " 'computer-aided',\n",
       " 'computer-assisted',\n",
       " 'computer-generated',\n",
       " 'computerized',\n",
       " 'computing',\n",
       " 'conceding',\n",
       " 'concentrated',\n",
       " 'concentrating',\n",
       " 'concerned',\n",
       " 'concluded',\n",
       " 'condemned',\n",
       " 'condemning',\n",
       " 'conducted',\n",
       " 'conducting',\n",
       " 'confined',\n",
       " 'confirmed',\n",
       " 'confused',\n",
       " 'connected',\n",
       " 'consented',\n",
       " 'considered',\n",
       " 'considering',\n",
       " 'consisting',\n",
       " 'construed',\n",
       " 'consulting',\n",
       " 'contacted',\n",
       " 'contained',\n",
       " 'containing',\n",
       " 'contesting',\n",
       " 'continued',\n",
       " 'continuing',\n",
       " 'contracted',\n",
       " 'contributed',\n",
       " 'contributing',\n",
       " 'controlled',\n",
       " 'controlling',\n",
       " 'converted',\n",
       " 'converting',\n",
       " 'convicted',\n",
       " 'convinced',\n",
       " 'cooled',\n",
       " 'cooperating',\n",
       " 'copied',\n",
       " 'copying',\n",
       " 'corn-buying',\n",
       " 'corrected',\n",
       " 'correcting',\n",
       " 'cost-cutting',\n",
       " 'cost-sharing',\n",
       " 'counseling',\n",
       " 'counting',\n",
       " 'coupled',\n",
       " 'court-ordered',\n",
       " 'covered',\n",
       " 'covering',\n",
       " 'cranked',\n",
       " 'crashing',\n",
       " 'created',\n",
       " 'creating',\n",
       " 'credit-rating',\n",
       " 'crippled',\n",
       " 'criticized',\n",
       " 'crossed',\n",
       " 'crossing',\n",
       " 'crowded',\n",
       " 'cruising',\n",
       " 'crushed',\n",
       " 'crying',\n",
       " 'cultivated',\n",
       " 'curbed',\n",
       " 'curbing',\n",
       " 'curled',\n",
       " 'current-carrying',\n",
       " 'curtailed',\n",
       " 'cushioned',\n",
       " 'customized',\n",
       " 'cutting',\n",
       " 'damaged',\n",
       " 'damaging',\n",
       " 'dancing',\n",
       " 'darned',\n",
       " 'dashed',\n",
       " 'dating',\n",
       " 'dead-eyed',\n",
       " 'dealing',\n",
       " 'decided',\n",
       " 'declared',\n",
       " 'declaring',\n",
       " 'declined',\n",
       " 'declining',\n",
       " 'decorated',\n",
       " 'decried',\n",
       " 'deducting',\n",
       " 'deemed',\n",
       " 'defeated',\n",
       " 'defended',\n",
       " 'defined',\n",
       " 'defying',\n",
       " 'delayed',\n",
       " 'deliberating',\n",
       " 'delisted',\n",
       " 'delivered',\n",
       " 'delivering',\n",
       " 'demanding',\n",
       " 'demonstrating',\n",
       " 'denied',\n",
       " 'denouncing',\n",
       " 'denying',\n",
       " 'depended',\n",
       " 'depending',\n",
       " 'depleted',\n",
       " 'depressed',\n",
       " 'deprived',\n",
       " 'derived',\n",
       " 'descending',\n",
       " 'described',\n",
       " 'deserving',\n",
       " 'designated',\n",
       " 'designed',\n",
       " 'designing',\n",
       " 'desired',\n",
       " 'despised',\n",
       " 'detailed',\n",
       " 'deteriorated',\n",
       " 'deteriorating',\n",
       " 'determined',\n",
       " 'deterring',\n",
       " 'devastating',\n",
       " 'developed',\n",
       " 'developing',\n",
       " 'devised',\n",
       " 'devoted',\n",
       " 'devouring',\n",
       " 'diagnosed',\n",
       " 'died',\n",
       " 'diluted',\n",
       " 'diming',\n",
       " 'diminished',\n",
       " 'directed',\n",
       " 'directing',\n",
       " 'disaffected',\n",
       " 'disagreed',\n",
       " 'disappointed',\n",
       " 'disappointing',\n",
       " 'disapproved',\n",
       " 'discarded',\n",
       " 'disciplined',\n",
       " 'disclosed',\n",
       " 'disclosing',\n",
       " 'discontinued',\n",
       " 'discontinuing',\n",
       " 'discouraging',\n",
       " 'discovered',\n",
       " 'discussed',\n",
       " 'discussing',\n",
       " 'disembodied',\n",
       " 'dismayed',\n",
       " 'dismissed',\n",
       " 'disposed',\n",
       " 'disputed',\n",
       " 'disseminating',\n",
       " 'distinguished',\n",
       " 'distorted',\n",
       " 'distributed',\n",
       " 'disturbing',\n",
       " 'diversified',\n",
       " 'diversifying',\n",
       " 'divided',\n",
       " 'dividing',\n",
       " 'documented',\n",
       " 'doing',\n",
       " 'doling',\n",
       " 'dollar-denominated',\n",
       " 'dominated',\n",
       " 'dominating',\n",
       " 'doubled',\n",
       " 'doubted',\n",
       " 'downgraded',\n",
       " 'downgrading',\n",
       " 'drafted',\n",
       " 'drawing',\n",
       " 'dreamed',\n",
       " 'dressed',\n",
       " 'drifted',\n",
       " 'drinking',\n",
       " 'driving',\n",
       " 'drooled',\n",
       " 'dropped',\n",
       " 'dubbed',\n",
       " 'duckling',\n",
       " 'dumbfounded',\n",
       " 'dumped',\n",
       " 'during',\n",
       " 'dwindling',\n",
       " 'earned',\n",
       " 'earning',\n",
       " 'eased',\n",
       " 'easing',\n",
       " 'eating',\n",
       " 'echoed',\n",
       " 'edged',\n",
       " 'editing',\n",
       " 'educated',\n",
       " 'elected',\n",
       " 'eliminated',\n",
       " 'eliminating',\n",
       " 'embarrassing',\n",
       " 'embroiled',\n",
       " 'emerged',\n",
       " 'emerging',\n",
       " 'emphasized',\n",
       " 'employed',\n",
       " 'empowered',\n",
       " 'enabled',\n",
       " 'enabling',\n",
       " 'enacted',\n",
       " 'encircling',\n",
       " 'enclosed',\n",
       " 'encouraging',\n",
       " 'encroaching',\n",
       " 'ended',\n",
       " 'ending',\n",
       " 'endorsed',\n",
       " 'engaged',\n",
       " 'engaging',\n",
       " 'engineered',\n",
       " 'engineering',\n",
       " 'enhanced',\n",
       " 'enjoyed',\n",
       " 'enjoying',\n",
       " 'enlarged',\n",
       " 'enraged',\n",
       " 'ensnarled',\n",
       " 'entangled',\n",
       " 'entered',\n",
       " 'entering',\n",
       " 'entertaining',\n",
       " 'enticed',\n",
       " 'entitled',\n",
       " 'entrenched',\n",
       " 'entrusted',\n",
       " 'equaling',\n",
       " 'equipped',\n",
       " 'escalated',\n",
       " 'escaped',\n",
       " 'established',\n",
       " 'establishing',\n",
       " 'estimated',\n",
       " 'evaluated',\n",
       " 'evaluating',\n",
       " 'evaporated',\n",
       " 'evening',\n",
       " 'everything',\n",
       " 'evoking',\n",
       " 'evolved',\n",
       " 'exacerbated',\n",
       " 'examined',\n",
       " 'exceed',\n",
       " 'exceeded',\n",
       " 'exceeding',\n",
       " 'exchanging',\n",
       " 'excited',\n",
       " 'exciting',\n",
       " 'executed',\n",
       " 'executing',\n",
       " 'exercised',\n",
       " 'exerting',\n",
       " 'exhausted',\n",
       " 'exhibited',\n",
       " 'existed',\n",
       " 'existing',\n",
       " 'expanded',\n",
       " 'expanding',\n",
       " 'expected',\n",
       " 'expecting',\n",
       " 'expedited',\n",
       " 'expelled',\n",
       " 'experienced',\n",
       " 'experiencing',\n",
       " 'expired',\n",
       " 'explained',\n",
       " 'explaining',\n",
       " 'exploded',\n",
       " 'export-oriented',\n",
       " 'exposed',\n",
       " 'expressed',\n",
       " 'expressing',\n",
       " 'expunged',\n",
       " 'extended',\n",
       " 'extending',\n",
       " 'exuded',\n",
       " 'eyeing',\n",
       " 'fabled',\n",
       " 'faced',\n",
       " 'facing',\n",
       " 'factoring',\n",
       " 'faded',\n",
       " 'failed',\n",
       " 'failing',\n",
       " 'fainting',\n",
       " 'falling',\n",
       " 'faltered',\n",
       " 'famed',\n",
       " 'family-planning',\n",
       " 'fared',\n",
       " 'fashioned',\n",
       " 'fast-growing',\n",
       " 'fastest-growing',\n",
       " 'fattened',\n",
       " 'favored',\n",
       " 'fawning',\n",
       " 'feared',\n",
       " 'featured',\n",
       " 'featuring',\n",
       " 'fed',\n",
       " 'feed',\n",
       " 'feeling',\n",
       " 'fetching',\n",
       " 'fielded',\n",
       " 'fighting',\n",
       " 'filed',\n",
       " 'filing',\n",
       " 'filled',\n",
       " 'filling',\n",
       " 'finalized',\n",
       " 'financed',\n",
       " 'financing',\n",
       " 'finding',\n",
       " 'fined',\n",
       " 'finished',\n",
       " 'fired',\n",
       " 'firmed',\n",
       " 'fixed',\n",
       " 'fizzled',\n",
       " 'fled',\n",
       " 'fledgling',\n",
       " 'fleeting',\n",
       " 'flirted',\n",
       " 'floated',\n",
       " 'flooded',\n",
       " 'focused',\n",
       " 'focusing',\n",
       " 'folded',\n",
       " 'followed',\n",
       " 'following',\n",
       " 'forced',\n",
       " 'forcing',\n",
       " 'forecasting',\n",
       " 'foreign-led',\n",
       " 'formed',\n",
       " 'forthcoming',\n",
       " 'founded',\n",
       " 'foundering',\n",
       " 'fretted',\n",
       " 'frightened',\n",
       " 'frustrating',\n",
       " 'fueled',\n",
       " 'fueling',\n",
       " 'full-fledged',\n",
       " 'fuming',\n",
       " 'functioning',\n",
       " 'funded',\n",
       " 'funding',\n",
       " 'fundraising',\n",
       " 'futures-related',\n",
       " 'gained',\n",
       " 'gaining',\n",
       " 'galling',\n",
       " 'galvanized',\n",
       " 'gambling',\n",
       " 'gauging',\n",
       " 'generated',\n",
       " 'getting',\n",
       " 'giving',\n",
       " 'going',\n",
       " 'good-hearted',\n",
       " 'good-natured',\n",
       " 'gored',\n",
       " 'government-certified',\n",
       " 'government-funded',\n",
       " 'government-owned',\n",
       " 'graduated',\n",
       " 'granted',\n",
       " 'granting',\n",
       " 'greed',\n",
       " 'gripping',\n",
       " 'growing',\n",
       " 'guaranteed',\n",
       " 'guarding',\n",
       " 'guided',\n",
       " 'gut-wrenching',\n",
       " 'hailed',\n",
       " 'hailing',\n",
       " 'halted',\n",
       " 'hampered',\n",
       " 'handed',\n",
       " 'handled',\n",
       " 'handling',\n",
       " 'happened',\n",
       " 'happening',\n",
       " 'hard-charging',\n",
       " 'hard-drinking',\n",
       " 'hard-hitting',\n",
       " 'harmed',\n",
       " 'harped',\n",
       " 'harvested',\n",
       " 'hauled',\n",
       " 'hauling',\n",
       " 'having',\n",
       " 'headed',\n",
       " 'heading',\n",
       " 'headlined',\n",
       " 'healing',\n",
       " 'hearing',\n",
       " 'heated',\n",
       " 'heating',\n",
       " 'hedging',\n",
       " 'heightened',\n",
       " 'helped',\n",
       " 'helping',\n",
       " 'high-flying',\n",
       " 'high-minded',\n",
       " 'high-polluting',\n",
       " 'high-priced',\n",
       " 'high-rolling',\n",
       " 'high-speed',\n",
       " 'higher-salaried',\n",
       " 'highest-pitched',\n",
       " 'hired',\n",
       " 'hitting',\n",
       " 'holding',\n",
       " 'hoped',\n",
       " 'hosted',\n",
       " 'housing',\n",
       " 'hugging',\n",
       " 'hundred',\n",
       " 'hunted',\n",
       " 'hurting',\n",
       " 'identified',\n",
       " 'ignored',\n",
       " 'ignoring',\n",
       " 'impaired',\n",
       " 'impeding',\n",
       " 'impending',\n",
       " 'implemented',\n",
       " 'implied',\n",
       " 'imported',\n",
       " 'imposed',\n",
       " 'imposing',\n",
       " 'impressed',\n",
       " 'improved',\n",
       " 'improving',\n",
       " 'incentive-backed',\n",
       " 'inched',\n",
       " 'inching',\n",
       " 'included',\n",
       " 'including',\n",
       " 'incorporated',\n",
       " 'increased',\n",
       " 'increasing',\n",
       " 'incurred',\n",
       " 'indeed',\n",
       " 'index-related',\n",
       " 'indicated',\n",
       " 'indicating',\n",
       " 'indulging',\n",
       " 'industrialized',\n",
       " 'industry-supported',\n",
       " 'inflated',\n",
       " 'influenced',\n",
       " 'influencing',\n",
       " 'infringed',\n",
       " 'inherited',\n",
       " 'initialing',\n",
       " 'initiated',\n",
       " 'initiating',\n",
       " 'injecting',\n",
       " 'injuring',\n",
       " 'inkling',\n",
       " 'inquiring',\n",
       " 'inserted',\n",
       " 'insider-trading',\n",
       " 'insinuating',\n",
       " 'insisted',\n",
       " 'inspired',\n",
       " 'installed',\n",
       " 'installing',\n",
       " 'instituted',\n",
       " 'instructed',\n",
       " 'insured',\n",
       " 'integrated',\n",
       " 'intended',\n",
       " 'intentioned',\n",
       " 'interest-bearing',\n",
       " 'interested',\n",
       " 'interesting',\n",
       " 'interrogated',\n",
       " 'interviewed',\n",
       " 'intriguing',\n",
       " 'introduced',\n",
       " 'introducing',\n",
       " 'invented',\n",
       " 'inverted',\n",
       " 'invested',\n",
       " 'investigating',\n",
       " 'investing',\n",
       " 'inviting',\n",
       " 'involved',\n",
       " 'involving',\n",
       " 'issued',\n",
       " 'issuing',\n",
       " 'jeopardizing',\n",
       " 'joined',\n",
       " 'joining',\n",
       " 'judged',\n",
       " 'jumped',\n",
       " 'jumping',\n",
       " 'justified',\n",
       " 'justifying',\n",
       " 'keeping',\n",
       " 'kicked',\n",
       " 'kidnapping',\n",
       " 'killed',\n",
       " 'killing',\n",
       " 'knitted',\n",
       " 'knocked',\n",
       " 'labeled',\n",
       " 'labeling',\n",
       " 'labor-backed',\n",
       " 'lacked',\n",
       " 'lagging',\n",
       " 'land-idling',\n",
       " 'landing',\n",
       " 'lasted',\n",
       " 'lasting',\n",
       " 'lauded',\n",
       " 'laughing',\n",
       " 'launched',\n",
       " 'lawmaking',\n",
       " 'laying',\n",
       " 'leading',\n",
       " 'learned',\n",
       " 'learning',\n",
       " 'leasing',\n",
       " 'leaving',\n",
       " 'led',\n",
       " 'lending',\n",
       " 'lengthened',\n",
       " 'lessening',\n",
       " 'letter-writing',\n",
       " 'letting',\n",
       " 'leveling',\n",
       " 'leveraged',\n",
       " 'leveraging',\n",
       " 'licensed',\n",
       " 'licensing',\n",
       " 'lifted',\n",
       " ...]"
      ]
     },
     "execution_count": 119,
     "metadata": {},
     "output_type": "execute_result"
    }
   ],
   "source": [
    "[w for w in wsj if re.search('(ed|ing)$', w)]"
   ]
  },
  {
   "cell_type": "markdown",
   "metadata": {},
   "source": [
    ". Wildcard, matches any character\n",
    "\n",
    "^abc Matches some pattern abc at the start of a string\n",
    "\n",
    "abc$ Matches some pattern abc at the end of a string\n",
    "\n",
    "[abc] Matches one of a set of characters\n",
    "\n",
    "[A-Z0-9] Matches one of a range of characters\n",
    "\n",
    "ed|ing|s Matches one of the specified strings (disjunction)\n",
    "\n",
    "* Zero or more of previous item, e.g., a*, [a-z]* (also known as Kleene Closure)\n",
    "\n",
    "+ One or more of previous item, e.g., a+, [a-z]+\n",
    "\n",
    "? Zero or one of the previous item (i.e., optional), e.g., a?, [a-z]?\n",
    "\n",
    "{n} Exactly n repeats where n is a non-negative integer\n",
    "\n",
    "{n,} At least n repeats\n",
    "\n",
    "{,n} No more than n repeats\n",
    "\n",
    "{m,n} At least m and no more than n repeats\n",
    "\n",
    "a(b|c)+ Parentheses that indicate the scope of the operators"
   ]
  },
  {
   "cell_type": "code",
   "execution_count": 120,
   "metadata": {},
   "outputs": [
    {
     "data": {
      "text/plain": [
       "['u',\n",
       " 'e',\n",
       " 'a',\n",
       " 'i',\n",
       " 'a',\n",
       " 'i',\n",
       " 'i',\n",
       " 'i',\n",
       " 'e',\n",
       " 'i',\n",
       " 'a',\n",
       " 'i',\n",
       " 'o',\n",
       " 'i',\n",
       " 'o',\n",
       " 'u']"
      ]
     },
     "execution_count": 120,
     "metadata": {},
     "output_type": "execute_result"
    }
   ],
   "source": [
    "word='supercalifragilisticexpialidocious'\n",
    "vow=re.findall(r'[aeiou]',word)\n",
    "vow"
   ]
  },
  {
   "cell_type": "code",
   "execution_count": 121,
   "metadata": {},
   "outputs": [
    {
     "data": {
      "text/plain": [
       "16"
      ]
     },
     "execution_count": 121,
     "metadata": {},
     "output_type": "execute_result"
    }
   ],
   "source": [
    "len(vow)"
   ]
  },
  {
   "cell_type": "code",
   "execution_count": 122,
   "metadata": {},
   "outputs": [
    {
     "data": {
      "text/plain": [
       "['a', 'e', 'i', 'o', 'u']"
      ]
     },
     "execution_count": 122,
     "metadata": {},
     "output_type": "execute_result"
    }
   ],
   "source": [
    "sorted(set(vow))"
   ]
  },
  {
   "cell_type": "code",
   "execution_count": 123,
   "metadata": {},
   "outputs": [],
   "source": [
    "wsj = sorted(set(nltk.corpus.treebank.words()))"
   ]
  },
  {
   "cell_type": "code",
   "execution_count": 124,
   "metadata": {},
   "outputs": [],
   "source": [
    "fd=nltk.FreqDist(vs for word in wsj\n",
    "                    for vs in re.findall(r'[aeiou]{2,}',word))"
   ]
  },
  {
   "cell_type": "code",
   "execution_count": 125,
   "metadata": {},
   "outputs": [
    {
     "data": {
      "text/plain": [
       "FreqDist({'io': 549, 'ea': 476, 'ie': 331, 'ou': 329, 'ai': 261, 'ia': 253, 'ee': 217, 'oo': 174, 'ua': 109, 'au': 106, ...})"
      ]
     },
     "execution_count": 125,
     "metadata": {},
     "output_type": "execute_result"
    }
   ],
   "source": [
    "fd"
   ]
  },
  {
   "cell_type": "code",
   "execution_count": 126,
   "metadata": {},
   "outputs": [
    {
     "data": {
      "text/plain": [
       "43"
      ]
     },
     "execution_count": 126,
     "metadata": {},
     "output_type": "execute_result"
    }
   ],
   "source": [
    "len(fd.keys())"
   ]
  },
  {
   "cell_type": "code",
   "execution_count": 127,
   "metadata": {},
   "outputs": [],
   "source": [
    "fd=nltk.ConditionalFreqDist((word,vs) for word in wsj\n",
    "                    for vs in re.findall(r'[aeiou]{2}',word))"
   ]
  },
  {
   "cell_type": "code",
   "execution_count": 128,
   "metadata": {},
   "outputs": [
    {
     "data": {
      "text/plain": [
       "['10-year',\n",
       " '12-point',\n",
       " '12-year',\n",
       " '14-hour',\n",
       " '150-point',\n",
       " '17-year-old',\n",
       " '18-year-old',\n",
       " '190-point',\n",
       " '20-point',\n",
       " '237-seat',\n",
       " '238,000-circulation',\n",
       " '25-year-old',\n",
       " '27-year',\n",
       " '29year',\n",
       " '30-point',\n",
       " '30-year',\n",
       " '31-year-old',\n",
       " '37-year-old',\n",
       " '40-year-old',\n",
       " '42-year',\n",
       " '43-year-old',\n",
       " '51-year-old',\n",
       " '52-week',\n",
       " '53-year-old',\n",
       " '54-year-old',\n",
       " '55-year-old',\n",
       " '58-year-old',\n",
       " '59-year-old',\n",
       " '62-year-old',\n",
       " '63-year-old',\n",
       " '64-year-old',\n",
       " '69-point',\n",
       " '75-year-old',\n",
       " '84-year-old',\n",
       " '90-cent-an-hour',\n",
       " 'About',\n",
       " 'Account',\n",
       " 'Achievement',\n",
       " 'Acquisition',\n",
       " 'Actually',\n",
       " 'Administration',\n",
       " 'Affairs',\n",
       " 'Again',\n",
       " 'Against',\n",
       " 'Akio',\n",
       " 'Aktiebolaget',\n",
       " 'Albuquerque',\n",
       " 'Alliance',\n",
       " 'Allied',\n",
       " 'Already',\n",
       " 'Altair',\n",
       " 'Although',\n",
       " 'Alysia',\n",
       " 'Alzheimer',\n",
       " 'Ancient',\n",
       " 'Andean',\n",
       " 'Andrea',\n",
       " 'Angier',\n",
       " 'Anglia',\n",
       " 'Anglian',\n",
       " 'Annualized',\n",
       " 'Anti-Deficiency',\n",
       " 'Antonio',\n",
       " 'Appeals',\n",
       " 'Appropriations',\n",
       " 'Aquino',\n",
       " 'Arabia',\n",
       " 'Arabian',\n",
       " 'Areas',\n",
       " 'Ariail',\n",
       " 'Arraignments',\n",
       " 'Asia',\n",
       " 'Asian',\n",
       " 'Asians',\n",
       " 'Associates',\n",
       " 'Association',\n",
       " 'Attwood',\n",
       " 'Auctions',\n",
       " 'Australia',\n",
       " 'Australian',\n",
       " 'Austria',\n",
       " 'Austrian',\n",
       " 'Avenue',\n",
       " 'Backseat',\n",
       " 'Bailey',\n",
       " 'Baim',\n",
       " 'Banque',\n",
       " 'Barfield',\n",
       " 'Baum',\n",
       " 'Beach',\n",
       " 'Beall',\n",
       " 'Bears',\n",
       " 'Beatles',\n",
       " 'Beauty',\n",
       " 'Because',\n",
       " 'Beige',\n",
       " 'Beijing',\n",
       " 'Being',\n",
       " 'Beirut',\n",
       " 'Bernstein',\n",
       " 'Biaggi',\n",
       " 'Biedermann',\n",
       " 'Biondi-Santi',\n",
       " 'Blue',\n",
       " 'Board',\n",
       " 'Boeing',\n",
       " 'Boesel',\n",
       " 'Bolivia',\n",
       " 'Book',\n",
       " 'Boone',\n",
       " 'Boorse',\n",
       " 'Bordeaux',\n",
       " 'Borough',\n",
       " 'Bougainville',\n",
       " 'Boulder',\n",
       " 'Braidwood',\n",
       " 'Bramalea',\n",
       " 'Braun',\n",
       " 'Brazilian',\n",
       " 'Breakey',\n",
       " 'Brean',\n",
       " 'Breeden',\n",
       " 'Brian',\n",
       " 'Britain',\n",
       " 'Broadcasting',\n",
       " 'Brooke',\n",
       " 'Brooklyn',\n",
       " 'Brooks',\n",
       " 'Brownstein',\n",
       " 'Brunei',\n",
       " 'Buckhead',\n",
       " 'Buick',\n",
       " 'Builders',\n",
       " 'Bureau',\n",
       " 'Burgundies',\n",
       " 'California',\n",
       " 'Californian',\n",
       " 'Campaign',\n",
       " 'Campeau',\n",
       " 'Canadian',\n",
       " 'Caribbean',\n",
       " 'Carnegie-Mellon',\n",
       " 'Carrier',\n",
       " 'Cartoonist',\n",
       " 'Certainly',\n",
       " 'Chairman',\n",
       " 'Champion',\n",
       " 'Charities',\n",
       " 'Charlie',\n",
       " 'Chateau',\n",
       " 'Cheese',\n",
       " 'Cheetham',\n",
       " 'Chilean',\n",
       " 'Chiodo',\n",
       " 'Choose',\n",
       " 'Christian',\n",
       " 'Christie',\n",
       " 'Circuit',\n",
       " 'Circulation',\n",
       " 'Circulations',\n",
       " 'Civilization',\n",
       " 'Claire',\n",
       " 'Clairton',\n",
       " 'Claude',\n",
       " 'Coast',\n",
       " 'Coincident',\n",
       " 'Columbia',\n",
       " 'Commission',\n",
       " 'Commissions',\n",
       " 'Committee',\n",
       " 'Commodities',\n",
       " 'Commonwealth',\n",
       " 'Communication',\n",
       " 'Communications',\n",
       " 'Companies',\n",
       " 'Compound',\n",
       " 'Confederation',\n",
       " 'Connections',\n",
       " 'Consequence',\n",
       " 'Constitution',\n",
       " 'Constitutional',\n",
       " 'Containers',\n",
       " 'Continued',\n",
       " 'Continuing',\n",
       " 'Convention',\n",
       " 'Cooper',\n",
       " 'Coors',\n",
       " 'Corporations',\n",
       " 'Cougar',\n",
       " 'Could',\n",
       " 'Council',\n",
       " 'Countries',\n",
       " 'Country',\n",
       " 'County',\n",
       " 'Court',\n",
       " 'Courter',\n",
       " 'Courts',\n",
       " 'Creek',\n",
       " 'Cruise',\n",
       " 'Cullowhee',\n",
       " 'Czechoslovakia',\n",
       " 'Dai-Ichi',\n",
       " 'Daily',\n",
       " 'Daiwa',\n",
       " 'Daniel',\n",
       " 'Daniels',\n",
       " 'Datapoint',\n",
       " 'Davies',\n",
       " 'DeFazio',\n",
       " 'Dealers',\n",
       " 'Dean',\n",
       " 'Deane',\n",
       " 'Deere',\n",
       " 'Default',\n",
       " 'Deregulation',\n",
       " 'Desai',\n",
       " 'Destinations',\n",
       " 'Detroit',\n",
       " 'Diamond',\n",
       " 'Diaper',\n",
       " 'Diceon',\n",
       " 'Died',\n",
       " 'Disease',\n",
       " 'Division',\n",
       " 'Doak',\n",
       " 'Doerflinger',\n",
       " 'Domaine',\n",
       " 'Dominion',\n",
       " 'Dompierre',\n",
       " 'Donoghue',\n",
       " 'Douglas',\n",
       " 'Duchossois',\n",
       " 'Due',\n",
       " 'DyDee',\n",
       " 'Earlier',\n",
       " 'Editorials',\n",
       " 'Ednie',\n",
       " 'Education',\n",
       " 'Educational',\n",
       " 'Egyptian',\n",
       " 'Elliott',\n",
       " 'Elsevier',\n",
       " 'Encouraged',\n",
       " 'Encouraging',\n",
       " 'Engineers',\n",
       " 'English-speaking',\n",
       " 'Entertainment',\n",
       " 'Equal',\n",
       " 'Equitable',\n",
       " 'Equity',\n",
       " 'Equivalents',\n",
       " 'Equus',\n",
       " 'European',\n",
       " 'Eveready',\n",
       " 'Excision',\n",
       " 'Express-Buick',\n",
       " 'F-series',\n",
       " 'Fabian',\n",
       " 'Facilities',\n",
       " 'Factories',\n",
       " 'Fahrenheit',\n",
       " 'Fails',\n",
       " 'Failure',\n",
       " 'Fair',\n",
       " 'Fairlawn',\n",
       " 'Fairless',\n",
       " 'Fannie',\n",
       " 'Faulding',\n",
       " 'Fears',\n",
       " 'February',\n",
       " 'Federation',\n",
       " 'Feeding',\n",
       " 'Fees',\n",
       " 'Fields',\n",
       " 'Fifteen',\n",
       " 'Financial',\n",
       " 'Financially',\n",
       " 'Florio',\n",
       " 'Food',\n",
       " 'Foods',\n",
       " 'Foot',\n",
       " 'Foreign',\n",
       " 'Foreigners',\n",
       " 'Foundation',\n",
       " 'Founded',\n",
       " 'Fountain',\n",
       " 'Four',\n",
       " 'Fourteen',\n",
       " 'Fourth',\n",
       " 'Freddie',\n",
       " 'Free',\n",
       " 'Freeport-McMoRan',\n",
       " 'Freud',\n",
       " 'FreudToy',\n",
       " 'Friedrichs',\n",
       " 'Friends',\n",
       " 'Fuentes',\n",
       " 'Gaithersburg',\n",
       " 'Genie',\n",
       " 'George',\n",
       " 'Georgetown',\n",
       " 'Georgia',\n",
       " 'Georgia-Pacific',\n",
       " 'Giant',\n",
       " 'Giants',\n",
       " 'Gillespie',\n",
       " 'Ginnie',\n",
       " 'Giraud',\n",
       " 'Giuliani',\n",
       " 'Glauber',\n",
       " 'Goode',\n",
       " 'Goodman',\n",
       " 'Gottlieb',\n",
       " 'Graduate',\n",
       " 'Graduates',\n",
       " 'Grain',\n",
       " 'Great',\n",
       " 'Greece',\n",
       " 'Green',\n",
       " 'Greenville',\n",
       " 'Greenwich',\n",
       " 'Greer',\n",
       " 'Groucho',\n",
       " 'Group',\n",
       " 'Groups',\n",
       " 'Guarantee',\n",
       " 'Guaranteed',\n",
       " 'Guard',\n",
       " 'Guerrilla',\n",
       " 'Guigal',\n",
       " 'Guild',\n",
       " 'Guinea',\n",
       " 'Hallwood',\n",
       " 'Harcourt',\n",
       " 'Hasbrouk',\n",
       " 'Haut-Brion',\n",
       " 'Hawaii',\n",
       " 'Hawaiian',\n",
       " 'Health',\n",
       " 'Hearst',\n",
       " 'Heatherington',\n",
       " 'Heating',\n",
       " 'Heavy',\n",
       " 'Heidelberg',\n",
       " 'Heightened',\n",
       " 'Heights',\n",
       " 'Heiwado',\n",
       " 'Hoosier',\n",
       " 'Hopwood',\n",
       " 'Houghton',\n",
       " 'Hours',\n",
       " 'House',\n",
       " 'House-Senate',\n",
       " 'Housing',\n",
       " 'Houston',\n",
       " 'Ideas',\n",
       " 'Illinois',\n",
       " 'Indeed',\n",
       " 'India',\n",
       " 'Indiana',\n",
       " 'Indianapolis',\n",
       " 'Individual',\n",
       " 'Individuals',\n",
       " 'Indonesia',\n",
       " 'Industrial',\n",
       " 'Industries',\n",
       " 'Information',\n",
       " 'Initiative',\n",
       " 'Inouye',\n",
       " 'Instead',\n",
       " 'Institution',\n",
       " 'Institutions',\n",
       " 'Interleukin-3',\n",
       " 'Intermediate',\n",
       " 'International',\n",
       " 'Interviews',\n",
       " 'Invariably',\n",
       " 'Inventories',\n",
       " 'Israel',\n",
       " 'Issues',\n",
       " 'Italian',\n",
       " 'Jaguar',\n",
       " 'Jail',\n",
       " 'Jalaalwalikraam',\n",
       " 'Jamaica',\n",
       " 'January',\n",
       " 'Joanne',\n",
       " 'Joe',\n",
       " 'Joel',\n",
       " 'Journal',\n",
       " 'Journals',\n",
       " 'Judicial',\n",
       " 'Judiciary',\n",
       " 'Judie',\n",
       " 'Julia',\n",
       " 'Kalamazoo',\n",
       " 'Kathleen',\n",
       " 'Katzenstein',\n",
       " 'Kean',\n",
       " 'Kearny',\n",
       " 'Keehn',\n",
       " 'Keidanren',\n",
       " 'Keith',\n",
       " 'Killeen',\n",
       " 'Klauser',\n",
       " 'Klein',\n",
       " 'Koito',\n",
       " 'Koizumi',\n",
       " 'Korea',\n",
       " 'Kuala',\n",
       " 'Laboratories',\n",
       " 'Labouisse',\n",
       " 'Landrieu',\n",
       " 'Latour',\n",
       " 'Lauderhill',\n",
       " 'Laura',\n",
       " 'Laurence',\n",
       " 'Lead',\n",
       " 'Leap',\n",
       " 'Learning',\n",
       " 'Lee',\n",
       " 'Lefcourt',\n",
       " 'Legislation',\n",
       " 'Leigh',\n",
       " 'Leighton',\n",
       " 'Leinonen',\n",
       " 'Leo',\n",
       " 'Leon',\n",
       " 'Liberation',\n",
       " 'Lieberman',\n",
       " 'Lighthouse',\n",
       " 'Loan',\n",
       " 'Loewi',\n",
       " 'Loews',\n",
       " 'Longwood',\n",
       " 'Lorain',\n",
       " 'Louis',\n",
       " 'Louisiana',\n",
       " 'Louisiana-Pacific',\n",
       " 'Louisville',\n",
       " 'Lurie',\n",
       " 'Mae',\n",
       " 'Maine',\n",
       " 'Malaysia',\n",
       " 'Malizia',\n",
       " 'Marie',\n",
       " 'Marie-Louise',\n",
       " 'Marietta',\n",
       " 'Mario',\n",
       " 'Marion',\n",
       " 'Mariotta',\n",
       " 'Materials',\n",
       " 'Maughan',\n",
       " 'McGuigan',\n",
       " 'McLeod',\n",
       " 'Mead',\n",
       " 'Meanwhile',\n",
       " 'Media',\n",
       " 'Meese',\n",
       " 'Meinders',\n",
       " 'Meridian',\n",
       " 'Miami',\n",
       " 'Miami-based',\n",
       " 'Michael',\n",
       " 'Michaels',\n",
       " 'Michio',\n",
       " 'Miguel',\n",
       " 'Mikhail',\n",
       " 'Milwaukee',\n",
       " 'Minneapolis',\n",
       " 'Minneapolis-based',\n",
       " 'Mission',\n",
       " 'Missouri',\n",
       " 'Mitsui',\n",
       " 'Modifications',\n",
       " 'Moines',\n",
       " 'Monchecourt',\n",
       " 'Monopolies',\n",
       " 'Moody',\n",
       " 'Moon',\n",
       " 'Moore',\n",
       " 'Moreover',\n",
       " 'Mount',\n",
       " 'Mutual',\n",
       " 'NIH-appointed',\n",
       " 'Najarian',\n",
       " 'Namibia',\n",
       " 'Namibian',\n",
       " 'National',\n",
       " 'Nationale',\n",
       " 'Nations',\n",
       " 'Nationwide',\n",
       " 'Neal',\n",
       " 'Neanderthals',\n",
       " 'Nearby',\n",
       " 'Needham',\n",
       " 'Negotiable',\n",
       " 'Neil',\n",
       " 'Neither',\n",
       " 'Nekoosa',\n",
       " 'Neuberger',\n",
       " 'Newhouse',\n",
       " 'Newsweek',\n",
       " 'Nicaraguan',\n",
       " 'Nielsen',\n",
       " 'Nikkei',\n",
       " 'Nissho-Iwai',\n",
       " 'Noriega',\n",
       " 'Northeast',\n",
       " 'Norwegian',\n",
       " 'Numerous',\n",
       " \"O'Brien\",\n",
       " \"O'Loughlin\",\n",
       " \"O'Neill\",\n",
       " 'Obligations',\n",
       " 'Occupational',\n",
       " 'Odd-year',\n",
       " 'Officials',\n",
       " 'Ohio',\n",
       " 'Ohio-based',\n",
       " 'Old-House',\n",
       " 'Olympia',\n",
       " 'Operations',\n",
       " 'Opinion',\n",
       " 'Options',\n",
       " 'Organization',\n",
       " 'Organizations',\n",
       " 'Orleans',\n",
       " 'Orleans-based',\n",
       " 'Overseas',\n",
       " 'PaineWebber',\n",
       " 'Palestinian',\n",
       " 'Papua-New',\n",
       " 'Paramount',\n",
       " 'Parliament',\n",
       " 'Patients',\n",
       " 'Patricia',\n",
       " 'Paul',\n",
       " 'Pauline',\n",
       " 'Payouts',\n",
       " 'Peabody',\n",
       " 'Pennsylvania',\n",
       " 'Pennview',\n",
       " 'People',\n",
       " 'Peoria',\n",
       " 'Perestroika',\n",
       " 'Periods',\n",
       " 'Perpetual',\n",
       " 'Petroleum',\n",
       " 'Pharaoh',\n",
       " 'Philadelphia',\n",
       " 'Philadelphia-based',\n",
       " 'Phoenix',\n",
       " 'Piero',\n",
       " 'Pierre',\n",
       " 'Pinocchio',\n",
       " 'Plains',\n",
       " 'Plantation',\n",
       " 'Policies',\n",
       " 'Poor',\n",
       " 'Poore',\n",
       " 'Population',\n",
       " 'Pramual',\n",
       " 'Precious',\n",
       " 'Premier',\n",
       " 'Pretoria',\n",
       " 'Previously',\n",
       " 'Prior',\n",
       " 'Proceeds',\n",
       " 'Productions',\n",
       " 'Professional',\n",
       " 'Property\\\\/casualty',\n",
       " 'Protection',\n",
       " 'Prudential-Bache',\n",
       " 'Psychiatry',\n",
       " 'Publications',\n",
       " 'Puccio',\n",
       " 'Puerto',\n",
       " 'Quant',\n",
       " 'Queen',\n",
       " 'Rabia',\n",
       " 'Radio',\n",
       " 'Rae',\n",
       " 'Rail',\n",
       " 'Railroad',\n",
       " 'Raleigh',\n",
       " 'Ranieri',\n",
       " 'Raul',\n",
       " 'Ravenswood',\n",
       " 'Reached',\n",
       " 'Reagan',\n",
       " 'Reagan-Bush',\n",
       " 'Reames',\n",
       " 'Reasons',\n",
       " 'Red-blooded',\n",
       " 'Reed',\n",
       " 'Relations',\n",
       " 'Reliance',\n",
       " 'Renaissance-style',\n",
       " 'Renee',\n",
       " 'Research',\n",
       " 'Researchers',\n",
       " 'Resources',\n",
       " 'Restaurant',\n",
       " 'Retail',\n",
       " 'Reupke',\n",
       " 'Reuter',\n",
       " 'Reuters',\n",
       " 'Revenue',\n",
       " 'Review',\n",
       " 'Revolution',\n",
       " 'Richebourg',\n",
       " 'Ridgefield',\n",
       " 'Riese',\n",
       " 'Rieslings',\n",
       " 'Riviera',\n",
       " 'Robbie',\n",
       " 'Roederer',\n",
       " 'Romanee-Conti',\n",
       " 'Roof',\n",
       " 'Roosevelt',\n",
       " 'Root',\n",
       " 'Rotie',\n",
       " 'Rouge',\n",
       " 'Roukema',\n",
       " 'Rubinfien',\n",
       " 'Russian',\n",
       " 'Saints',\n",
       " 'Saitama',\n",
       " 'Samuel',\n",
       " 'Saudi',\n",
       " 'Saul',\n",
       " 'Sauternes',\n",
       " 'Sauvignon',\n",
       " 'Scandinavian',\n",
       " 'Schaefer',\n",
       " 'School',\n",
       " 'Schweiz',\n",
       " 'Science',\n",
       " 'Scientists',\n",
       " 'Scotia',\n",
       " 'Sea',\n",
       " 'Seagate',\n",
       " 'Seahorse',\n",
       " 'Seats',\n",
       " 'Seattle',\n",
       " 'Seattle-based',\n",
       " 'Sebastian',\n",
       " 'Secilia',\n",
       " 'Section',\n",
       " 'Securities',\n",
       " 'Seed',\n",
       " 'Senate-House',\n",
       " 'Senior',\n",
       " 'Seniors',\n",
       " 'Seoul',\n",
       " 'Serial',\n",
       " 'Series',\n",
       " 'Session',\n",
       " 'Seymour',\n",
       " 'Shearson',\n",
       " 'Sheep',\n",
       " 'Sheffield',\n",
       " 'Sherwood',\n",
       " 'Shokubai',\n",
       " 'Shuxian',\n",
       " 'Siegal',\n",
       " 'Sierra',\n",
       " 'Simeon',\n",
       " 'Skokie',\n",
       " 'Sloan',\n",
       " 'Social',\n",
       " 'Society',\n",
       " 'Solaia',\n",
       " 'Solution',\n",
       " 'Soon',\n",
       " 'Soup',\n",
       " 'Souper',\n",
       " 'Soups',\n",
       " 'Source',\n",
       " 'South',\n",
       " 'Southeast',\n",
       " 'Southern',\n",
       " 'Soviet',\n",
       " 'Soviets',\n",
       " 'Spain',\n",
       " 'Speculation',\n",
       " 'Speedway',\n",
       " 'Spiegel',\n",
       " 'Spielvogel',\n",
       " 'Spoon',\n",
       " 'Spreads',\n",
       " 'Springfield',\n",
       " 'Squier',\n",
       " 'Stadium',\n",
       " 'Stadiums',\n",
       " 'Stearn',\n",
       " 'Steel',\n",
       " 'Steelworkers',\n",
       " 'Steinberg',\n",
       " 'Stephanie',\n",
       " 'Stieglitz',\n",
       " 'Stories',\n",
       " 'Strait',\n",
       " 'Street',\n",
       " 'Stuart',\n",
       " 'Suisse',\n",
       " 'Sulaiman',\n",
       " 'Swearingen',\n",
       " 'Tailors',\n",
       " 'Taipei',\n",
       " 'Taittinger',\n",
       " 'Taiwan',\n",
       " 'Taizo',\n",
       " 'Takeover',\n",
       " 'Taurus',\n",
       " 'Teacher',\n",
       " 'Team',\n",
       " 'Teikoku',\n",
       " 'Television',\n",
       " 'Test-preparation',\n",
       " 'Thai',\n",
       " 'Thailand',\n",
       " 'Their',\n",
       " 'Theodore',\n",
       " 'Though',\n",
       " 'Thousands',\n",
       " 'Three',\n",
       " 'Tiphook',\n",
       " 'Tokio',\n",
       " 'Too',\n",
       " 'Touches',\n",
       " 'Tourism',\n",
       " 'Traditional',\n",
       " 'Traditionally',\n",
       " 'Trailer',\n",
       " 'Train',\n",
       " 'Transportation',\n",
       " 'Treasury',\n",
       " 'Trettien',\n",
       " 'Trockenbeerenauslesen',\n",
       " 'Troubled',\n",
       " 'Trudeau',\n",
       " 'Tuesday',\n",
       " 'Turnaround',\n",
       " 'Uncertainty',\n",
       " 'Underwood',\n",
       " 'Underwoods',\n",
       " 'Union',\n",
       " 'Utilities',\n",
       " 'Vacancies',\n",
       " 'Value',\n",
       " 'Viacom',\n",
       " 'Video',\n",
       " 'Virginia',\n",
       " 'Virginians',\n",
       " 'Virtually',\n",
       " 'Voice',\n",
       " 'Waertsilae',\n",
       " 'Wakui',\n",
       " 'Warehouse',\n",
       " 'Waterloo',\n",
       " 'Weatherly',\n",
       " 'Week',\n",
       " 'Weil',\n",
       " 'Weisfield',\n",
       " 'Wertheim',\n",
       " 'Westborough',\n",
       " 'Wheeland',\n",
       " 'Whereas',\n",
       " 'William',\n",
       " 'Williams',\n",
       " 'Winiarski',\n",
       " 'Without',\n",
       " 'Wood',\n",
       " 'Woodcliff',\n",
       " 'Woodrow',\n",
       " 'Woodward',\n",
       " 'Woolworth',\n",
       " 'Worksheets',\n",
       " 'Wozniak',\n",
       " 'Xiaoping',\n",
       " 'Yamaichi',\n",
       " 'Year',\n",
       " 'Yeargin',\n",
       " 'Yields',\n",
       " 'You',\n",
       " 'Young',\n",
       " 'Younkers',\n",
       " 'Your',\n",
       " 'Youths',\n",
       " 'Yquem',\n",
       " 'Zealand',\n",
       " 'aboard',\n",
       " 'abortion',\n",
       " 'abortion-related',\n",
       " 'abortionist',\n",
       " 'abortions',\n",
       " 'abounding',\n",
       " 'about',\n",
       " 'abroad',\n",
       " 'acceleration',\n",
       " 'accessories',\n",
       " 'accommodations',\n",
       " 'account',\n",
       " 'accountability',\n",
       " 'accountant',\n",
       " 'accountants',\n",
       " 'accounted',\n",
       " 'accounting',\n",
       " 'accounts',\n",
       " 'accrue',\n",
       " 'accrued',\n",
       " 'achieve',\n",
       " 'achieved',\n",
       " 'achievement',\n",
       " 'achievement-test',\n",
       " 'achieving',\n",
       " 'acid-rain',\n",
       " 'acquire',\n",
       " 'acquired',\n",
       " 'acquirer',\n",
       " 'acquirers',\n",
       " 'acquires',\n",
       " 'acquiring',\n",
       " 'acquisition',\n",
       " 'acquisition-minded',\n",
       " 'acquisitions',\n",
       " 'action',\n",
       " 'actions',\n",
       " 'activities',\n",
       " 'actual',\n",
       " 'actually',\n",
       " 'addiction',\n",
       " 'addition',\n",
       " 'additional',\n",
       " 'additions',\n",
       " 'adequate',\n",
       " 'adequately',\n",
       " 'administration',\n",
       " 'administrations',\n",
       " 'advertorial',\n",
       " 'aerospace',\n",
       " 'aesthetic',\n",
       " 'affair',\n",
       " 'affairs',\n",
       " 'affiliate',\n",
       " 'affiliates',\n",
       " 'afraid',\n",
       " 'afternoon',\n",
       " 'again',\n",
       " 'against',\n",
       " 'agencies',\n",
       " 'agree',\n",
       " 'agreed',\n",
       " 'agreed-upon',\n",
       " 'agreeing',\n",
       " 'agreement',\n",
       " 'agreements',\n",
       " 'agrees',\n",
       " 'ahead',\n",
       " 'ai',\n",
       " 'aid',\n",
       " 'aide',\n",
       " 'aides',\n",
       " 'aids',\n",
       " 'ailing',\n",
       " 'aim',\n",
       " 'aimed',\n",
       " 'aiming',\n",
       " 'aims',\n",
       " 'air',\n",
       " 'aircraft',\n",
       " 'aired',\n",
       " 'airline',\n",
       " 'airline-related',\n",
       " 'airlines',\n",
       " 'airplane',\n",
       " 'airports',\n",
       " 'aisles',\n",
       " 'alienated',\n",
       " 'allegations',\n",
       " 'alleviate',\n",
       " 'allies',\n",
       " 'allocation',\n",
       " 'already',\n",
       " 'although',\n",
       " 'altruistic',\n",
       " 'ambitions',\n",
       " 'ambitious',\n",
       " 'amortization',\n",
       " 'amount',\n",
       " 'amounted',\n",
       " 'amounts',\n",
       " 'ancient',\n",
       " 'announce',\n",
       " 'announced',\n",
       " 'announcement',\n",
       " 'announcer',\n",
       " 'annual',\n",
       " 'annualized',\n",
       " 'annually',\n",
       " 'anti-abortion',\n",
       " 'anti-abortionists',\n",
       " 'anti-miscarriage',\n",
       " 'anti-takeover',\n",
       " 'anticipation',\n",
       " 'anxieties',\n",
       " 'anxious',\n",
       " 'apiece',\n",
       " 'appeal',\n",
       " 'appealing',\n",
       " 'appeals',\n",
       " 'appear',\n",
       " 'appeared',\n",
       " 'appearing',\n",
       " 'appears',\n",
       " 'appease',\n",
       " 'applaud',\n",
       " 'appliance',\n",
       " 'appliances',\n",
       " 'application',\n",
       " 'applications',\n",
       " 'applied',\n",
       " 'appoint',\n",
       " 'appointed',\n",
       " 'appointment',\n",
       " 'appointments',\n",
       " 'appreciation',\n",
       " 'approach',\n",
       " 'approached',\n",
       " 'approaches',\n",
       " 'appropriate',\n",
       " 'appropriated',\n",
       " 'appropriation',\n",
       " 'appropriations',\n",
       " 'appropriators',\n",
       " 'area',\n",
       " 'areas',\n",
       " 'argue',\n",
       " 'argued',\n",
       " 'argues',\n",
       " 'arguing',\n",
       " 'around',\n",
       " 'aspersions',\n",
       " 'assault',\n",
       " 'assaults',\n",
       " 'assertion',\n",
       " 'assertions',\n",
       " 'asset-valuation',\n",
       " 'associate',\n",
       " 'associated',\n",
       " 'associates',\n",
       " 'association',\n",
       " 'assumption',\n",
       " 'attention',\n",
       " 'attorney-client',\n",
       " 'attractions',\n",
       " 'auction',\n",
       " 'auctioned',\n",
       " 'auctions',\n",
       " 'audience',\n",
       " 'audiocassettes',\n",
       " 'audit',\n",
       " 'auditor',\n",
       " 'augment',\n",
       " 'auspices',\n",
       " 'austere',\n",
       " 'author',\n",
       " 'authorities',\n",
       " 'authority',\n",
       " 'authorized',\n",
       " 'authorizes',\n",
       " 'authorizing',\n",
       " 'authors',\n",
       " 'autions',\n",
       " 'auto',\n",
       " 'auto-safety',\n",
       " 'automated',\n",
       " 'automatic',\n",
       " 'automation',\n",
       " 'automobile',\n",
       " 'automobiles',\n",
       " 'automotive',\n",
       " 'automotive-lighting',\n",
       " 'automotive-parts',\n",
       " 'autos',\n",
       " 'autumn',\n",
       " 'available',\n",
       " 'avenues',\n",
       " 'avoid',\n",
       " 'avoiding',\n",
       " 'awaits',\n",
       " 'backgrounds',\n",
       " 'balloon',\n",
       " 'ballroom',\n",
       " 'banquet',\n",
       " 'bargain',\n",
       " 'bargains',\n",
       " 'barrier',\n",
       " ...]"
      ]
     },
     "execution_count": 128,
     "metadata": {},
     "output_type": "execute_result"
    }
   ],
   "source": [
    "list(fd)"
   ]
  },
  {
   "cell_type": "code",
   "execution_count": 129,
   "metadata": {},
   "outputs": [
    {
     "data": {
      "text/plain": [
       "'Unvrsl Dclrtn of Hmn Rghts Prmble Whrs rcgntn of the inhrnt dgnty and\\nof the eql and inlnble rghts of all mmbrs of the hmn fmly is the fndtn\\nof frdm , jstce and pce in the wrld , Whrs dsrgrd and cntmpt fr hmn\\nrghts hve rsltd in brbrs acts whch hve outrgd the cnscnce of mnknd ,\\nand the advnt of a wrld in whch hmn bngs shll enjy frdm of spch and'"
      ]
     },
     "execution_count": 129,
     "metadata": {},
     "output_type": "execute_result"
    }
   ],
   "source": [
    "regexpr=r'^[AEIOUaeiou]+|[AEIOUaeiou]+$|[^AEIOUaeiou]'\n",
    "def compress(word):\n",
    "    pieces=re.findall(regexpr,word)\n",
    "    return ''.join(pieces)\n",
    "\n",
    "\n",
    "english_udhr=nltk.corpus.udhr.words('English-Latin1')\n",
    "nltk.tokenwrap(compress(w) for w in english_udhr[:75])"
   ]
  },
  {
   "cell_type": "code",
   "execution_count": 130,
   "metadata": {},
   "outputs": [],
   "source": [
    "word = 'supercalifragilisticexpialidocious'"
   ]
  },
  {
   "cell_type": "code",
   "execution_count": 131,
   "metadata": {},
   "outputs": [
    {
     "data": {
      "text/plain": [
       "['u',\n",
       " 'e',\n",
       " 'a',\n",
       " 'i',\n",
       " 'a',\n",
       " 'i',\n",
       " 'i',\n",
       " 'i',\n",
       " 'e',\n",
       " 'i',\n",
       " 'a',\n",
       " 'i',\n",
       " 'o',\n",
       " 'i',\n",
       " 'o',\n",
       " 'u']"
      ]
     },
     "execution_count": 131,
     "metadata": {},
     "output_type": "execute_result"
    }
   ],
   "source": [
    "re.findall(r'[aeiou]',word)"
   ]
  },
  {
   "cell_type": "code",
   "execution_count": 132,
   "metadata": {},
   "outputs": [],
   "source": [
    "ws=sorted(set(nltk.corpus.treebank.words()))"
   ]
  },
  {
   "cell_type": "code",
   "execution_count": 133,
   "metadata": {},
   "outputs": [
    {
     "data": {
      "text/plain": [
       "FreqDist({'io': 549, 'ea': 476, 'ie': 331, 'ou': 329, 'ai': 261, 'ia': 253, 'ee': 217, 'oo': 174, 'ua': 109, 'au': 106, ...})"
      ]
     },
     "execution_count": 133,
     "metadata": {},
     "output_type": "execute_result"
    }
   ],
   "source": [
    "nltk.FreqDist(vs for word in ws\n",
    "             for vs in re.findall(r'[aeiou]{2,}',word))"
   ]
  },
  {
   "cell_type": "code",
   "execution_count": 134,
   "metadata": {},
   "outputs": [],
   "source": [
    "rotokas_words = nltk.corpus.toolbox.words('rotokas.dic')"
   ]
  },
  {
   "cell_type": "code",
   "execution_count": 135,
   "metadata": {},
   "outputs": [],
   "source": [
    "cvs=[cv for w in rotokas_words\n",
    "    for cv in re.findall(r'[ptksver][aeiou]',w)]"
   ]
  },
  {
   "cell_type": "code",
   "execution_count": 136,
   "metadata": {},
   "outputs": [
    {
     "data": {
      "text/plain": [
       "['kaa',\n",
       " 'kaa',\n",
       " 'kaa',\n",
       " 'kaakaaro',\n",
       " 'kaakaaviko',\n",
       " 'kaakaavo',\n",
       " 'kaakaoko',\n",
       " 'kaakasi',\n",
       " 'kaakau',\n",
       " 'kaakauko']"
      ]
     },
     "execution_count": 136,
     "metadata": {},
     "output_type": "execute_result"
    }
   ],
   "source": [
    "rotokas_words[:10]"
   ]
  },
  {
   "cell_type": "code",
   "execution_count": 137,
   "metadata": {},
   "outputs": [],
   "source": [
    "cfd=nltk.ConditionalFreqDist(cvs)"
   ]
  },
  {
   "cell_type": "code",
   "execution_count": 138,
   "metadata": {},
   "outputs": [
    {
     "name": "stdout",
     "output_type": "stream",
     "text": [
      "    a   e   i   o   u \n",
      "e   7   0   0   2   0 \n",
      "k 418 148  94 420 173 \n",
      "p  83  31 105  34  51 \n",
      "r 187  63  84  89  79 \n",
      "s   0   0 100   2   1 \n",
      "t  47   8   0 148  37 \n",
      "v  93  27 105  48  49 \n"
     ]
    }
   ],
   "source": [
    "cfd.tabulate()"
   ]
  },
  {
   "cell_type": "code",
   "execution_count": 139,
   "metadata": {},
   "outputs": [
    {
     "data": {
      "text/plain": [
       "2733"
      ]
     },
     "execution_count": 139,
     "metadata": {},
     "output_type": "execute_result"
    }
   ],
   "source": [
    "len(cvs)"
   ]
  },
  {
   "cell_type": "code",
   "execution_count": 140,
   "metadata": {},
   "outputs": [
    {
     "data": {
      "text/plain": [
       "FreqDist({'ko': 420, 'ka': 418, 'ra': 187, 'ku': 173, 'to': 148, 'ke': 148, 'vi': 105, 'pi': 105, 'si': 100, 'ki': 94, ...})"
      ]
     },
     "execution_count": 140,
     "metadata": {},
     "output_type": "execute_result"
    }
   ],
   "source": [
    "nltk.FreqDist(cvs)"
   ]
  },
  {
   "cell_type": "code",
   "execution_count": 141,
   "metadata": {},
   "outputs": [],
   "source": [
    "cv_wordpairs=[(cv,w) for w in rotokas_words\n",
    "             for cv in re.findall(r'[ptksver][aeiou]',w)]"
   ]
  },
  {
   "cell_type": "code",
   "execution_count": 142,
   "metadata": {},
   "outputs": [],
   "source": [
    "cv_index=nltk.Index(cv_wordpairs)"
   ]
  },
  {
   "cell_type": "code",
   "execution_count": 143,
   "metadata": {},
   "outputs": [
    {
     "data": {
      "text/plain": [
       "['kaa',\n",
       " 'kaa',\n",
       " 'kaa',\n",
       " 'kaakaaro',\n",
       " 'kaakaaro',\n",
       " 'kaakaaviko',\n",
       " 'kaakaaviko',\n",
       " 'kaakaavo',\n",
       " 'kaakaavo',\n",
       " 'kaakaoko']"
      ]
     },
     "execution_count": 143,
     "metadata": {},
     "output_type": "execute_result"
    }
   ],
   "source": [
    "cv_index['ka'][:10]"
   ]
  },
  {
   "cell_type": "code",
   "execution_count": 144,
   "metadata": {},
   "outputs": [
    {
     "data": {
      "text/plain": [
       "['kasuari']"
      ]
     },
     "execution_count": 144,
     "metadata": {},
     "output_type": "execute_result"
    }
   ],
   "source": [
    "cv_index['su'][:10]"
   ]
  },
  {
   "cell_type": "code",
   "execution_count": 145,
   "metadata": {},
   "outputs": [
    {
     "data": {
      "text/plain": [
       "['kaipori',\n",
       " 'kaiporipie',\n",
       " 'kaiporivira',\n",
       " 'kairi',\n",
       " 'kairiro',\n",
       " 'kakiri',\n",
       " 'kapokari',\n",
       " 'kapokarito',\n",
       " 'Karepirie',\n",
       " 'kari']"
      ]
     },
     "execution_count": 145,
     "metadata": {},
     "output_type": "execute_result"
    }
   ],
   "source": [
    "cv_index['ri'][:10]"
   ]
  },
  {
   "cell_type": "code",
   "execution_count": 146,
   "metadata": {},
   "outputs": [],
   "source": [
    "def stem(word):\n",
    "    for suffix in ['ing', 'ly', 'ed', 'ious', 'ies', 'ive', 'es', 's', 'ment']:\n",
    "        if word.endswith(suffix):\n",
    "            return word[:-len(suffix)]\n",
    "    return word"
   ]
  },
  {
   "cell_type": "code",
   "execution_count": 147,
   "metadata": {},
   "outputs": [
    {
     "data": {
      "text/plain": [
       "'Run'"
      ]
     },
     "execution_count": 147,
     "metadata": {},
     "output_type": "execute_result"
    }
   ],
   "source": [
    "stem('Runing')"
   ]
  },
  {
   "cell_type": "code",
   "execution_count": 148,
   "metadata": {},
   "outputs": [
    {
     "data": {
      "text/plain": [
       "'Cont'"
      ]
     },
     "execution_count": 148,
     "metadata": {},
     "output_type": "execute_result"
    }
   ],
   "source": [
    "stem('Contious')"
   ]
  },
  {
   "cell_type": "code",
   "execution_count": 149,
   "metadata": {},
   "outputs": [
    {
     "data": {
      "text/plain": [
       "'pass'"
      ]
     },
     "execution_count": 149,
     "metadata": {},
     "output_type": "execute_result"
    }
   ],
   "source": [
    "stem('passive')"
   ]
  },
  {
   "cell_type": "code",
   "execution_count": 150,
   "metadata": {},
   "outputs": [
    {
     "data": {
      "text/plain": [
       "['ing']"
      ]
     },
     "execution_count": 150,
     "metadata": {},
     "output_type": "execute_result"
    }
   ],
   "source": [
    "re.findall(r'^.*(ing|ly|ed|ous|ies|ive|es|s|ment)$','processing')"
   ]
  },
  {
   "cell_type": "code",
   "execution_count": 151,
   "metadata": {},
   "outputs": [
    {
     "data": {
      "text/plain": [
       "['ment']"
      ]
     },
     "execution_count": 151,
     "metadata": {},
     "output_type": "execute_result"
    }
   ],
   "source": [
    "re.findall(r'^.*(ing|ly|ed|ous|ies|ive|es|s|ment)$','Replacement')"
   ]
  },
  {
   "cell_type": "code",
   "execution_count": 152,
   "metadata": {},
   "outputs": [
    {
     "data": {
      "text/plain": [
       "['processing']"
      ]
     },
     "execution_count": 152,
     "metadata": {},
     "output_type": "execute_result"
    }
   ],
   "source": [
    "re.findall(r'^.*(?:ing|ly|ed|ious|ies|ive|es|s|ment)$', 'processing')"
   ]
  },
  {
   "cell_type": "code",
   "execution_count": 153,
   "metadata": {},
   "outputs": [
    {
     "data": {
      "text/plain": [
       "['process']"
      ]
     },
     "execution_count": 153,
     "metadata": {},
     "output_type": "execute_result"
    }
   ],
   "source": [
    "re.findall(r'^(.*)(?:ing|ly|ed|ious|ies|ive|es|s|ment)$', 'processing')"
   ]
  },
  {
   "cell_type": "code",
   "execution_count": 154,
   "metadata": {},
   "outputs": [
    {
     "data": {
      "text/plain": [
       "['Rish']"
      ]
     },
     "execution_count": 154,
     "metadata": {},
     "output_type": "execute_result"
    }
   ],
   "source": [
    "re.findall(r'^(.*)(?:av)','Rishav')"
   ]
  },
  {
   "cell_type": "code",
   "execution_count": 155,
   "metadata": {},
   "outputs": [
    {
     "data": {
      "text/plain": [
       "[('process', 'es')]"
      ]
     },
     "execution_count": 155,
     "metadata": {},
     "output_type": "execute_result"
    }
   ],
   "source": [
    "re.findall(r'^(.*?)(ing|ly|ed|ious|ies|ive|es|s|ment)$', 'processes')"
   ]
  },
  {
   "cell_type": "code",
   "execution_count": 156,
   "metadata": {},
   "outputs": [
    {
     "data": {
      "text/plain": [
       "['process']"
      ]
     },
     "execution_count": 156,
     "metadata": {},
     "output_type": "execute_result"
    }
   ],
   "source": [
    "re.findall(r'^(.*?)(?:ing|ly|ed|ious|ies|ive|es|s|ment)$', 'processes')"
   ]
  },
  {
   "cell_type": "code",
   "execution_count": 157,
   "metadata": {},
   "outputs": [],
   "source": [
    "def stem(word):\n",
    "    regexp=r'^(.*?)(?:ing|ly|ed|ious|ies|ive|es|s|ment)?$'\n",
    "    stem=re.findall(regexp,word)\n",
    "    return stem"
   ]
  },
  {
   "cell_type": "code",
   "execution_count": 158,
   "metadata": {},
   "outputs": [
    {
     "data": {
      "text/plain": [
       "['Interest']"
      ]
     },
     "execution_count": 158,
     "metadata": {},
     "output_type": "execute_result"
    }
   ],
   "source": [
    "stem('Interesting')"
   ]
  },
  {
   "cell_type": "code",
   "execution_count": 159,
   "metadata": {},
   "outputs": [
    {
     "data": {
      "text/plain": [
       "('supercalifragilisticexpialidoc', 'ious')"
      ]
     },
     "execution_count": 159,
     "metadata": {},
     "output_type": "execute_result"
    }
   ],
   "source": [
    "regexp=r'^(.*?)(ing|ly|ed|ious|ies|ive|es|s|ment)?$'\n",
    "re.findall(regexp,word)[0]"
   ]
  },
  {
   "cell_type": "code",
   "execution_count": 160,
   "metadata": {},
   "outputs": [],
   "source": [
    "raw = \"\"\"DENNIS: Listen, strange women lying in ponds distributing swords\n",
    "... is no basis for a system of government. Supreme executive power derives from\n",
    "... a mandate from the masses, not from some farcical aquatic ceremony.\"\"\""
   ]
  },
  {
   "cell_type": "code",
   "execution_count": 161,
   "metadata": {},
   "outputs": [
    {
     "data": {
      "text/plain": [
       "'DENNIS: Listen, strange women lying in ponds distributing swords\\nis no basis for a system of government. Supreme executive power derives from\\na mandate from the masses, not from some farcical aquatic ceremony.'"
      ]
     },
     "execution_count": 161,
     "metadata": {},
     "output_type": "execute_result"
    }
   ],
   "source": [
    "raw"
   ]
  },
  {
   "cell_type": "code",
   "execution_count": 162,
   "metadata": {},
   "outputs": [],
   "source": [
    "tokens=nltk.word_tokenize(raw)"
   ]
  },
  {
   "cell_type": "code",
   "execution_count": 163,
   "metadata": {},
   "outputs": [
    {
     "data": {
      "text/plain": [
       "[['DENNIS'],\n",
       " [':'],\n",
       " ['Listen'],\n",
       " [','],\n",
       " ['strange'],\n",
       " ['women'],\n",
       " ['ly'],\n",
       " ['in'],\n",
       " ['pond'],\n",
       " ['distribut'],\n",
       " ['sword'],\n",
       " ['i'],\n",
       " ['no'],\n",
       " ['basi'],\n",
       " ['for'],\n",
       " ['a'],\n",
       " ['system'],\n",
       " ['of'],\n",
       " ['govern'],\n",
       " ['.'],\n",
       " ['Supreme'],\n",
       " ['execut'],\n",
       " ['power'],\n",
       " ['deriv'],\n",
       " ['from'],\n",
       " ['a'],\n",
       " ['mandate'],\n",
       " ['from'],\n",
       " ['the'],\n",
       " ['mass'],\n",
       " [','],\n",
       " ['not'],\n",
       " ['from'],\n",
       " ['some'],\n",
       " ['farcical'],\n",
       " ['aquatic'],\n",
       " ['ceremony'],\n",
       " ['.']]"
      ]
     },
     "execution_count": 163,
     "metadata": {},
     "output_type": "execute_result"
    }
   ],
   "source": [
    "[stem(tok) for tok in tokens]"
   ]
  },
  {
   "cell_type": "code",
   "execution_count": 164,
   "metadata": {},
   "outputs": [],
   "source": [
    "from nltk.corpus import gutenberg,nps_chat"
   ]
  },
  {
   "cell_type": "code",
   "execution_count": 165,
   "metadata": {},
   "outputs": [],
   "source": [
    "moby=nltk.Text(gutenberg.words('melville-moby_dick.txt'))"
   ]
  },
  {
   "cell_type": "code",
   "execution_count": 166,
   "metadata": {},
   "outputs": [
    {
     "name": "stdout",
     "output_type": "stream",
     "text": [
      "monied; nervous; dangerous; white; white; white; pious; queer; good;\n",
      "mature; white; Cape; great; wise; wise; butterless; white; fiendish;\n",
      "pale; furious; better; certain; complete; dismasted; younger; brave;\n",
      "brave; brave; brave\n"
     ]
    }
   ],
   "source": [
    "moby.findall(r\"<a>(<.*>)<man>\")"
   ]
  },
  {
   "cell_type": "code",
   "execution_count": 167,
   "metadata": {},
   "outputs": [],
   "source": [
    "strng=nltk.Text(['My', 'name', 'is', 'Rishav', 'Paudel'])"
   ]
  },
  {
   "cell_type": "code",
   "execution_count": 168,
   "metadata": {},
   "outputs": [
    {
     "name": "stdout",
     "output_type": "stream",
     "text": [
      "Rishav\n"
     ]
    }
   ],
   "source": [
    "strng.findall(r\"<name><is>(<.*>)<Paudel>\")"
   ]
  },
  {
   "cell_type": "code",
   "execution_count": 169,
   "metadata": {},
   "outputs": [],
   "source": [
    "chat = nltk.Text(nps_chat.words())"
   ]
  },
  {
   "cell_type": "code",
   "execution_count": 170,
   "metadata": {},
   "outputs": [
    {
     "name": "stdout",
     "output_type": "stream",
     "text": [
      "you rule bro; telling you bro; u twizted bro\n"
     ]
    }
   ],
   "source": [
    "chat.findall(r'<.*><.*><bro>')"
   ]
  },
  {
   "cell_type": "code",
   "execution_count": 171,
   "metadata": {},
   "outputs": [
    {
     "name": "stdout",
     "output_type": "stream",
     "text": [
      "rule; you; twizted\n"
     ]
    }
   ],
   "source": [
    "chat.findall(r'<.*>(<.*>)<bro>')"
   ]
  },
  {
   "cell_type": "code",
   "execution_count": 172,
   "metadata": {},
   "outputs": [
    {
     "name": "stdout",
     "output_type": "stream",
     "text": [
      "lol lol lol; lmao lol lol; lol lol lol; la la la la la; la la la; la\n",
      "la la; lovely lol lol love; lol lol lol.; la la la; la la la\n"
     ]
    }
   ],
   "source": [
    "chat.findall(r'<l.*>{3,}')"
   ]
  },
  {
   "cell_type": "code",
   "execution_count": 173,
   "metadata": {},
   "outputs": [
    {
     "name": "stdout",
     "output_type": "stream",
     "text": [
      "lol lol lol; lol lol lol; lovely lol lol love; lol lol lol.\n"
     ]
    }
   ],
   "source": [
    "chat.findall(r'<lo.*>{3,}')"
   ]
  },
  {
   "cell_type": "code",
   "execution_count": 174,
   "metadata": {},
   "outputs": [
    {
     "name": "stdout",
     "output_type": "stream",
     "text": [
      "ha ha ha; ha ha ha\n"
     ]
    }
   ],
   "source": [
    "chat.findall(r'<ha.*>{3,}')"
   ]
  },
  {
   "cell_type": "code",
   "execution_count": 175,
   "metadata": {},
   "outputs": [
    {
     "name": "stdout",
     "output_type": "stream",
     "text": [
      "have have hot; ha ha ha; hehehe hahaha hehehe; have herd have; ha ha\n",
      "ha; hmm hmm hmm; high ho high ho\n"
     ]
    }
   ],
   "source": [
    "chat.findall(r'<h.*>{3,}')"
   ]
  },
  {
   "cell_type": "code",
   "execution_count": 176,
   "metadata": {},
   "outputs": [],
   "source": [
    "from nltk.corpus import brown\n",
    "hobbies_learned = nltk.Text(brown.words(categories=['hobbies', 'learned']))\n"
   ]
  },
  {
   "cell_type": "code",
   "execution_count": 177,
   "metadata": {},
   "outputs": [
    {
     "name": "stdout",
     "output_type": "stream",
     "text": [
      "speed and other activities; water and other liquids; tomb and other\n",
      "landmarks; Statues and other monuments; pearls and other jewels;\n",
      "charts and other items; roads and other features; figures and other\n",
      "objects; military and other areas; demands and other factors;\n",
      "abstracts and other compilations; iron and other metals\n"
     ]
    }
   ],
   "source": [
    "hobbies_learned.findall(r\"<\\w*> <and> <other> <\\w*s>\")"
   ]
  },
  {
   "cell_type": "code",
   "execution_count": 178,
   "metadata": {},
   "outputs": [
    {
     "name": "stdout",
     "output_type": "stream",
     "text": [
      "name is Rishav\n"
     ]
    }
   ],
   "source": [
    "strng.findall(r'<.*><is><.*>')"
   ]
  },
  {
   "cell_type": "code",
   "execution_count": 179,
   "metadata": {},
   "outputs": [],
   "source": [
    "raw = \"\"\"DENNIS: Listen, strange women lying in ponds distributing swords\n",
    "... is no basis for a system of government. Supreme executive power derives from\n",
    "... a mandate from the masses, not from some farcical aquatic ceremony.\"\"\""
   ]
  },
  {
   "cell_type": "code",
   "execution_count": 180,
   "metadata": {},
   "outputs": [
    {
     "name": "stdout",
     "output_type": "stream",
     "text": [
      "DENNIS: Listen, strange women lying in ponds distributing swords\n",
      "is no basis for a system of government. Supreme executive power derives from\n",
      "a mandate from the masses, not from some farcical aquatic ceremony.\n"
     ]
    }
   ],
   "source": [
    "print(raw)"
   ]
  },
  {
   "cell_type": "code",
   "execution_count": 181,
   "metadata": {},
   "outputs": [],
   "source": [
    "tokens=nltk.word_tokenize(raw)"
   ]
  },
  {
   "cell_type": "code",
   "execution_count": 182,
   "metadata": {},
   "outputs": [
    {
     "data": {
      "text/plain": [
       "['DENNIS',\n",
       " ':',\n",
       " 'Listen',\n",
       " ',',\n",
       " 'strange',\n",
       " 'women',\n",
       " 'lying',\n",
       " 'in',\n",
       " 'ponds',\n",
       " 'distributing',\n",
       " 'swords',\n",
       " 'is',\n",
       " 'no',\n",
       " 'basis',\n",
       " 'for',\n",
       " 'a',\n",
       " 'system',\n",
       " 'of',\n",
       " 'government',\n",
       " '.',\n",
       " 'Supreme',\n",
       " 'executive',\n",
       " 'power',\n",
       " 'derives',\n",
       " 'from',\n",
       " 'a',\n",
       " 'mandate',\n",
       " 'from',\n",
       " 'the',\n",
       " 'masses',\n",
       " ',',\n",
       " 'not',\n",
       " 'from',\n",
       " 'some',\n",
       " 'farcical',\n",
       " 'aquatic',\n",
       " 'ceremony',\n",
       " '.']"
      ]
     },
     "execution_count": 182,
     "metadata": {},
     "output_type": "execute_result"
    }
   ],
   "source": [
    "tokens"
   ]
  },
  {
   "cell_type": "code",
   "execution_count": 183,
   "metadata": {},
   "outputs": [],
   "source": [
    "porter=nltk.PorterStemmer()\n",
    "lancaster=nltk.LancasterStemmer()"
   ]
  },
  {
   "cell_type": "code",
   "execution_count": 184,
   "metadata": {},
   "outputs": [
    {
     "data": {
      "text/plain": [
       "['denni',\n",
       " ':',\n",
       " 'listen',\n",
       " ',',\n",
       " 'strang',\n",
       " 'women',\n",
       " 'lie',\n",
       " 'in',\n",
       " 'pond',\n",
       " 'distribut',\n",
       " 'sword',\n",
       " 'is',\n",
       " 'no',\n",
       " 'basi',\n",
       " 'for']"
      ]
     },
     "execution_count": 184,
     "metadata": {},
     "output_type": "execute_result"
    }
   ],
   "source": [
    "[porter.stem(stem) for stem in tokens][:15]"
   ]
  },
  {
   "cell_type": "code",
   "execution_count": 185,
   "metadata": {},
   "outputs": [
    {
     "data": {
      "text/plain": [
       "['den',\n",
       " ':',\n",
       " 'list',\n",
       " ',',\n",
       " 'strange',\n",
       " 'wom',\n",
       " 'lying',\n",
       " 'in',\n",
       " 'pond',\n",
       " 'distribut',\n",
       " 'sword',\n",
       " 'is',\n",
       " 'no',\n",
       " 'bas',\n",
       " 'for']"
      ]
     },
     "execution_count": 185,
     "metadata": {},
     "output_type": "execute_result"
    }
   ],
   "source": [
    "[lancaster.stem(stem) for stem in tokens][:15]"
   ]
  },
  {
   "cell_type": "markdown",
   "metadata": {},
   "source": [
    "class IndexedText(object):\n",
    "    def __init__(self, stemmer, text):\n",
    "        self._text = text\n",
    "        self._stemmer = stemmer\n",
    "        self._index = nltk.Index((self._stem(word), i)\n",
    "                for (i, word) in enumerate(text))\n",
    "        \n",
    "    def concordance(self, word, width=40):\n",
    "        key = self._stem(word)\n",
    "        wc = width/4 # words of context\n",
    "        for i in self._index[key]:\n",
    "            lcontext = ' '.join(self._text[i-wc:i])\n",
    "            rcontext = ' '.join(self._text[i:i+wc])\n",
    "            ldisplay = '%*s' % (width, lcontext[-width:])\n",
    "            rdisplay = '%-*s' % (width, rcontext[:width])\n",
    "            print (ldisplay, rdisplay)\n",
    "    def _stem(self, word):\n",
    "        return self._stemmer.stem(word).lower()\n",
    "            \n",
    "porter=nltk.PorterStemmer()\n",
    "grail=nltk.corpus.webtext.words('grail.txt')\n",
    "text=IndexedText(porter,grail)\n",
    "text.concordance('lie')\n"
   ]
  },
  {
   "cell_type": "code",
   "execution_count": 186,
   "metadata": {},
   "outputs": [
    {
     "data": {
      "text/plain": [
       "['DENNIS',\n",
       " ':',\n",
       " 'Listen',\n",
       " ',',\n",
       " 'strange',\n",
       " 'woman',\n",
       " 'lying',\n",
       " 'in',\n",
       " 'pond',\n",
       " 'distributing',\n",
       " 'sword',\n",
       " 'is',\n",
       " 'no',\n",
       " 'basis',\n",
       " 'for',\n",
       " 'a',\n",
       " 'system',\n",
       " 'of',\n",
       " 'government',\n",
       " '.',\n",
       " 'Supreme',\n",
       " 'executive',\n",
       " 'power',\n",
       " 'derives',\n",
       " 'from',\n",
       " 'a',\n",
       " 'mandate',\n",
       " 'from',\n",
       " 'the',\n",
       " 'mass',\n",
       " ',',\n",
       " 'not',\n",
       " 'from',\n",
       " 'some',\n",
       " 'farcical',\n",
       " 'aquatic',\n",
       " 'ceremony',\n",
       " '.']"
      ]
     },
     "execution_count": 186,
     "metadata": {},
     "output_type": "execute_result"
    }
   ],
   "source": [
    "wnl=nltk.WordNetLemmatizer()\n",
    "[wnl.lemmatize(t) for t in tokens]"
   ]
  },
  {
   "cell_type": "code",
   "execution_count": 187,
   "metadata": {},
   "outputs": [
    {
     "data": {
      "text/plain": [
       "['denni',\n",
       " ':',\n",
       " 'listen',\n",
       " ',',\n",
       " 'strang',\n",
       " 'women',\n",
       " 'lie',\n",
       " 'in',\n",
       " 'pond',\n",
       " 'distribut',\n",
       " 'sword',\n",
       " 'is',\n",
       " 'no',\n",
       " 'basi',\n",
       " 'for',\n",
       " 'a',\n",
       " 'system',\n",
       " 'of',\n",
       " 'govern',\n",
       " '.',\n",
       " 'suprem',\n",
       " 'execut',\n",
       " 'power',\n",
       " 'deriv',\n",
       " 'from',\n",
       " 'a',\n",
       " 'mandat',\n",
       " 'from',\n",
       " 'the',\n",
       " 'mass',\n",
       " ',',\n",
       " 'not',\n",
       " 'from',\n",
       " 'some',\n",
       " 'farcic',\n",
       " 'aquat',\n",
       " 'ceremoni',\n",
       " '.']"
      ]
     },
     "execution_count": 187,
     "metadata": {},
     "output_type": "execute_result"
    }
   ],
   "source": [
    "[porter.stem(t) for t in tokens]"
   ]
  },
  {
   "cell_type": "code",
   "execution_count": 188,
   "metadata": {},
   "outputs": [],
   "source": [
    "raw = \"\"\"'When I'M a Duchess,' she said to herself, (not in a very hopeful tone\n",
    "... though), 'I won't have any pepper in my kitchen AT ALL. Soup does very\n",
    "... well without--Maybe it's always pepper that makes people hot-tempered,'...\"\"\""
   ]
  },
  {
   "cell_type": "code",
   "execution_count": 189,
   "metadata": {},
   "outputs": [
    {
     "data": {
      "text/plain": [
       "[\"'When\",\n",
       " \"I'M\",\n",
       " 'a',\n",
       " \"Duchess,'\",\n",
       " 'she',\n",
       " 'said',\n",
       " 'to',\n",
       " 'herself,',\n",
       " '(not',\n",
       " 'in',\n",
       " 'a',\n",
       " 'very',\n",
       " 'hopeful',\n",
       " 'tone\\nthough),',\n",
       " \"'I\",\n",
       " \"won't\",\n",
       " 'have',\n",
       " 'any',\n",
       " 'pepper',\n",
       " 'in',\n",
       " 'my',\n",
       " 'kitchen',\n",
       " 'AT',\n",
       " 'ALL.',\n",
       " 'Soup',\n",
       " 'does',\n",
       " 'very\\nwell',\n",
       " 'without--Maybe',\n",
       " \"it's\",\n",
       " 'always',\n",
       " 'pepper',\n",
       " 'that',\n",
       " 'makes',\n",
       " 'people',\n",
       " \"hot-tempered,'...\"]"
      ]
     },
     "execution_count": 189,
     "metadata": {},
     "output_type": "execute_result"
    }
   ],
   "source": [
    "re.split(r' ',raw)"
   ]
  },
  {
   "cell_type": "code",
   "execution_count": 190,
   "metadata": {},
   "outputs": [
    {
     "data": {
      "text/plain": [
       "[\"'When\",\n",
       " \"I'M\",\n",
       " 'a',\n",
       " \"Duchess,'\",\n",
       " 'she',\n",
       " 'said',\n",
       " 'to',\n",
       " 'herself,',\n",
       " '(not',\n",
       " 'in',\n",
       " 'a',\n",
       " 'very',\n",
       " 'hopeful',\n",
       " 'tone',\n",
       " 'though),',\n",
       " \"'I\",\n",
       " \"won't\",\n",
       " 'have',\n",
       " 'any',\n",
       " 'pepper',\n",
       " 'in',\n",
       " 'my',\n",
       " 'kitchen',\n",
       " 'AT',\n",
       " 'ALL.',\n",
       " 'Soup',\n",
       " 'does',\n",
       " 'very',\n",
       " 'well',\n",
       " 'without--Maybe',\n",
       " \"it's\",\n",
       " 'always',\n",
       " 'pepper',\n",
       " 'that',\n",
       " 'makes',\n",
       " 'people',\n",
       " \"hot-tempered,'...\"]"
      ]
     },
     "execution_count": 190,
     "metadata": {},
     "output_type": "execute_result"
    }
   ],
   "source": [
    "raw.split()"
   ]
  },
  {
   "cell_type": "code",
   "execution_count": 191,
   "metadata": {},
   "outputs": [
    {
     "name": "stdout",
     "output_type": "stream",
     "text": [
      "'When I'M a Duchess,' she said to herself, (not in a very hopeful tone\n",
      "though), 'I won't have any pepper in my kitchen AT ALL. Soup does very\n",
      "well without--Maybe it's always pepper that makes people hot-tempered,'...\n"
     ]
    }
   ],
   "source": [
    "print(raw)"
   ]
  },
  {
   "cell_type": "code",
   "execution_count": 192,
   "metadata": {},
   "outputs": [
    {
     "data": {
      "text/plain": [
       "[\"'When\",\n",
       " \"I'M\",\n",
       " 'a',\n",
       " \"Duchess,'\",\n",
       " 'she',\n",
       " 'said',\n",
       " 'to',\n",
       " 'herself,',\n",
       " '(not',\n",
       " 'in',\n",
       " 'a',\n",
       " 'very',\n",
       " 'hopeful',\n",
       " 'tone',\n",
       " 'though),',\n",
       " \"'I\",\n",
       " \"won't\",\n",
       " 'have',\n",
       " 'any',\n",
       " 'pepper',\n",
       " 'in',\n",
       " 'my',\n",
       " 'kitchen',\n",
       " 'AT',\n",
       " 'ALL.',\n",
       " 'Soup',\n",
       " 'does',\n",
       " 'very',\n",
       " 'well',\n",
       " 'without--Maybe',\n",
       " \"it's\",\n",
       " 'always',\n",
       " 'pepper',\n",
       " 'that',\n",
       " 'makes',\n",
       " 'people',\n",
       " \"hot-tempered,'...\"]"
      ]
     },
     "execution_count": 192,
     "metadata": {},
     "output_type": "execute_result"
    }
   ],
   "source": [
    "re.split(r'[ \\t\\n ]+',raw)"
   ]
  },
  {
   "cell_type": "code",
   "execution_count": 193,
   "metadata": {},
   "outputs": [],
   "source": [
    "temp = \"\"\"'When I'M a Duchess,' 01 she said to herself, (not in a very hopeful tone\n",
    "... though), 'I won't have any pep?per 200 !@#$%^&* in my kitchen AT ALL. Soup does very\n",
    "... well without--Maybe it's always pepper that makes people hot-tempered,'...\"\"\""
   ]
  },
  {
   "cell_type": "code",
   "execution_count": 194,
   "metadata": {},
   "outputs": [
    {
     "name": "stdout",
     "output_type": "stream",
     "text": [
      "'When I'M a Duchess,' 01 she said to herself, (not in a very hopeful tone\n",
      "though), 'I won't have any pep?per 200 !@#$%^&* in my kitchen AT ALL. Soup does very\n",
      "well without--Maybe it's always pepper that makes people hot-tempered,'...\n"
     ]
    }
   ],
   "source": [
    "print(temp)"
   ]
  },
  {
   "cell_type": "code",
   "execution_count": null,
   "metadata": {},
   "outputs": [],
   "source": []
  },
  {
   "cell_type": "code",
   "execution_count": 195,
   "metadata": {},
   "outputs": [
    {
     "data": {
      "text/plain": [
       "' When I M a Duchess      she said to herself   not in a very hopeful tone though    I won t have any pep per              in my kitchen AT ALL  Soup does very well without  Maybe it s always pepper that makes people hot tempered     '"
      ]
     },
     "execution_count": 195,
     "metadata": {},
     "output_type": "execute_result"
    }
   ],
   "source": [
    "s=re.sub('[^a-zA-Z]',' ',temp)\n",
    "s"
   ]
  },
  {
   "cell_type": "code",
   "execution_count": 196,
   "metadata": {},
   "outputs": [
    {
     "data": {
      "text/plain": [
       "'When I M a Duchess she said to herself not in a very hopeful tone though I won t have any pep per in my kitchen AT ALL Soup does very well without Maybe it s always pepper that makes people hot tempered'"
      ]
     },
     "execution_count": 196,
     "metadata": {},
     "output_type": "execute_result"
    }
   ],
   "source": [
    "' '.join(s.split())"
   ]
  },
  {
   "cell_type": "code",
   "execution_count": 197,
   "metadata": {},
   "outputs": [
    {
     "data": {
      "text/plain": [
       "[\"'\",\n",
       " 'When',\n",
       " ' ',\n",
       " 'I',\n",
       " \"'\",\n",
       " 'M',\n",
       " ' ',\n",
       " 'a',\n",
       " ' ',\n",
       " 'Duchess',\n",
       " \",' \",\n",
       " 'she',\n",
       " ' ',\n",
       " 'said',\n",
       " ' ',\n",
       " 'to',\n",
       " ' ',\n",
       " 'herself',\n",
       " ', (',\n",
       " 'not',\n",
       " ' ',\n",
       " 'in',\n",
       " ' ',\n",
       " 'a',\n",
       " ' ',\n",
       " 'very',\n",
       " ' ',\n",
       " 'hopeful',\n",
       " ' ',\n",
       " 'tone',\n",
       " '\\n',\n",
       " 'though',\n",
       " \"), '\",\n",
       " 'I',\n",
       " ' ',\n",
       " 'won',\n",
       " \"'\",\n",
       " 't',\n",
       " ' ',\n",
       " 'have',\n",
       " ' ',\n",
       " 'any',\n",
       " ' ',\n",
       " 'pepper',\n",
       " ' ',\n",
       " 'in',\n",
       " ' ',\n",
       " 'my',\n",
       " ' ',\n",
       " 'kitchen',\n",
       " ' ',\n",
       " 'AT',\n",
       " ' ',\n",
       " 'ALL',\n",
       " '. ',\n",
       " 'Soup',\n",
       " ' ',\n",
       " 'does',\n",
       " ' ',\n",
       " 'very',\n",
       " '\\n',\n",
       " 'well',\n",
       " ' ',\n",
       " 'without',\n",
       " '--',\n",
       " 'Maybe',\n",
       " ' ',\n",
       " 'it',\n",
       " \"'\",\n",
       " 's',\n",
       " ' ',\n",
       " 'always',\n",
       " ' ',\n",
       " 'pepper',\n",
       " ' ',\n",
       " 'that',\n",
       " ' ',\n",
       " 'makes',\n",
       " ' ',\n",
       " 'people',\n",
       " ' ',\n",
       " 'hot',\n",
       " '-',\n",
       " 'tempered',\n",
       " \",'...\"]"
      ]
     },
     "execution_count": 197,
     "metadata": {},
     "output_type": "execute_result"
    }
   ],
   "source": [
    "re.findall(r'\\W+|\\S\\w*',raw)"
   ]
  },
  {
   "cell_type": "code",
   "execution_count": 198,
   "metadata": {},
   "outputs": [],
   "source": [
    "text='That U.S.A. poster-print costs $12.40...'"
   ]
  },
  {
   "cell_type": "code",
   "execution_count": 199,
   "metadata": {},
   "outputs": [],
   "source": [
    "pattern=r'''(?x) ([A-Z]\\.)+| \\w+(-\\w+)* | \\.\\.\\. '''"
   ]
  },
  {
   "cell_type": "code",
   "execution_count": 200,
   "metadata": {},
   "outputs": [
    {
     "data": {
      "text/plain": [
       "[('', ''), ('A.', ''), ('', '-print'), ('', ''), ('', ''), ('', ''), ('', '')]"
      ]
     },
     "execution_count": 200,
     "metadata": {},
     "output_type": "execute_result"
    }
   ],
   "source": [
    "nltk.regexp_tokenize(text,pattern)"
   ]
  },
  {
   "cell_type": "code",
   "execution_count": 201,
   "metadata": {},
   "outputs": [
    {
     "data": {
      "text/plain": [
       "['doyouseethekitty', 'seethedoggy', 'doyoulikethekitty', 'likethedoggy']"
      ]
     },
     "execution_count": 201,
     "metadata": {},
     "output_type": "execute_result"
    }
   ],
   "source": [
    "def segment(text,segs):\n",
    "    words=[]\n",
    "    last=0\n",
    "    for i in range(len(segs)):\n",
    "        if segs[i]=='1':\n",
    "            words.append(text[last:i+1])\n",
    "            last=i+1\n",
    "    words.append(text[last:])\n",
    "    return words\n",
    "\n",
    "\n",
    "text = \"doyouseethekittyseethedoggydoyoulikethekittylikethedoggy\"\n",
    "seg1 = \"0000000000000001000000000010000000000000000100000000000\"\n",
    "seg2 = \"0100100100100001001001000010100100010010000100010010000\"\n",
    "segment(text,seg1)"
   ]
  },
  {
   "cell_type": "code",
   "execution_count": 202,
   "metadata": {},
   "outputs": [
    {
     "data": {
      "text/plain": [
       "['do',\n",
       " 'you',\n",
       " 'see',\n",
       " 'the',\n",
       " 'kitty',\n",
       " 'see',\n",
       " 'the',\n",
       " 'doggy',\n",
       " 'do',\n",
       " 'you',\n",
       " 'like',\n",
       " 'the',\n",
       " 'kitty',\n",
       " 'like',\n",
       " 'the',\n",
       " 'doggy']"
      ]
     },
     "execution_count": 202,
     "metadata": {},
     "output_type": "execute_result"
    }
   ],
   "source": [
    "segment(text,seg2)"
   ]
  },
  {
   "cell_type": "code",
   "execution_count": 203,
   "metadata": {},
   "outputs": [],
   "source": [
    "def segment(text,seg):\n",
    "    words=[]\n",
    "    last=0\n",
    "    for i in range(len(seg)):\n",
    "        if seg[i]=='1':\n",
    "            words.append(text[last:i+1])\n",
    "            last=i+1\n",
    "    words.append(text[last:])\n",
    "    return words"
   ]
  },
  {
   "cell_type": "code",
   "execution_count": 204,
   "metadata": {},
   "outputs": [
    {
     "data": {
      "text/plain": [
       "['doyouseethekitty', 'seethedoggy', 'doyoulikethekitty', 'likethedoggy']"
      ]
     },
     "execution_count": 204,
     "metadata": {},
     "output_type": "execute_result"
    }
   ],
   "source": [
    "segment(text,seg1)"
   ]
  },
  {
   "cell_type": "code",
   "execution_count": 205,
   "metadata": {},
   "outputs": [],
   "source": [
    "def evaluate(text,seg):\n",
    "    words=segment(text,seg)\n",
    "    text_size=len(words)\n",
    "    lexicon_size=len(' '.join(list(words)))\n",
    "    return text_size+lexicon_size"
   ]
  },
  {
   "cell_type": "code",
   "execution_count": 206,
   "metadata": {},
   "outputs": [
    {
     "data": {
      "text/plain": [
       "'doyouseethekitty seethedoggy doyoulikethekitty'"
      ]
     },
     "execution_count": 206,
     "metadata": {},
     "output_type": "execute_result"
    }
   ],
   "source": [
    "' '.join(list(['doyouseethekitty', 'seethedoggy', 'doyoulikethekitty']))"
   ]
  },
  {
   "cell_type": "code",
   "execution_count": 207,
   "metadata": {},
   "outputs": [
    {
     "data": {
      "text/plain": [
       "63"
      ]
     },
     "execution_count": 207,
     "metadata": {},
     "output_type": "execute_result"
    }
   ],
   "source": [
    "evaluate(text,seg1)"
   ]
  },
  {
   "cell_type": "raw",
   "metadata": {},
   "source": [
    "from random import randint\n",
    "def flip(segs, pos):\n",
    "    return segs[:pos] + str(1-int(segs[pos])) + segs[pos+1:]\n",
    "def flip_n(segs, n):\n",
    "    for i in range(n):\n",
    "        segs = flip(segs, randint(0,len(segs)-1))\n",
    "    return segs\n",
    "def anneal(text, segs, iterations, cooling_rate):\n",
    "    temperature = float(len(segs))\n",
    "    while temperature > 0.5:\n",
    "        best_segs, best = segs, evaluate(text, segs)\n",
    "        for i in range(iterations):\n",
    "            guess = flip_n(segs, int(round(temperature)))\n",
    "            score = evaluate(text, guess)\n",
    "            if score < best:\n",
    "                best, best_segs = score, guess\n",
    "        score, segs = best, best_segs\n",
    "        temperature = temperature / cooling_rate\n",
    "        print (evaluate(text, segs), segment(text, segs))\n",
    "    print()\n",
    "    return segs\n",
    "            \n",
    "text = \"doyouseethekittyseethedoggydoyoulikethekittylikethedoggy\"\n",
    "seg1 = \"0000000000000001000000000010000000000000000100000000000\"\n",
    "anneal(text, seg1, 5000, 1.2)     "
   ]
  },
  {
   "cell_type": "code",
   "execution_count": 208,
   "metadata": {},
   "outputs": [],
   "source": [
    "silly = ['We', 'called', 'him', 'Tortoise', 'because', 'he', 'taught', 'us', '.']"
   ]
  },
  {
   "cell_type": "code",
   "execution_count": 209,
   "metadata": {},
   "outputs": [
    {
     "data": {
      "text/plain": [
       "'We called him Tortoise because he taught us .'"
      ]
     },
     "execution_count": 209,
     "metadata": {},
     "output_type": "execute_result"
    }
   ],
   "source": [
    "' '.join(silly)"
   ]
  },
  {
   "cell_type": "code",
   "execution_count": 210,
   "metadata": {},
   "outputs": [
    {
     "data": {
      "text/plain": [
       "'We;called;him;Tortoise;because;he;taught;us;.'"
      ]
     },
     "execution_count": 210,
     "metadata": {},
     "output_type": "execute_result"
    }
   ],
   "source": [
    "';'.join(silly)"
   ]
  },
  {
   "cell_type": "code",
   "execution_count": 211,
   "metadata": {},
   "outputs": [
    {
     "data": {
      "text/plain": [
       "'WecalledhimTortoisebecausehetaughtus.'"
      ]
     },
     "execution_count": 211,
     "metadata": {},
     "output_type": "execute_result"
    }
   ],
   "source": [
    "''.join(silly)"
   ]
  },
  {
   "cell_type": "code",
   "execution_count": 212,
   "metadata": {},
   "outputs": [],
   "source": [
    "word='cat'\n",
    "sent=\"\"\"hello\n",
    "...world\"\"\""
   ]
  },
  {
   "cell_type": "code",
   "execution_count": 213,
   "metadata": {},
   "outputs": [
    {
     "data": {
      "text/plain": [
       "'cat'"
      ]
     },
     "execution_count": 213,
     "metadata": {},
     "output_type": "execute_result"
    }
   ],
   "source": [
    "word"
   ]
  },
  {
   "cell_type": "code",
   "execution_count": 215,
   "metadata": {},
   "outputs": [
    {
     "name": "stdout",
     "output_type": "stream",
     "text": [
      "hello\n",
      "...world\n"
     ]
    }
   ],
   "source": [
    "print(sent)"
   ]
  },
  {
   "cell_type": "code",
   "execution_count": 216,
   "metadata": {},
   "outputs": [],
   "source": [
    "fdist = nltk.FreqDist(['dog', 'cat', 'dog', 'cat', 'dog', 'snake', 'dog', 'cat'])"
   ]
  },
  {
   "cell_type": "code",
   "execution_count": 217,
   "metadata": {},
   "outputs": [
    {
     "data": {
      "text/plain": [
       "FreqDist({'dog': 4, 'cat': 3, 'snake': 1})"
      ]
     },
     "execution_count": 217,
     "metadata": {},
     "output_type": "execute_result"
    }
   ],
   "source": [
    "fdist"
   ]
  },
  {
   "cell_type": "code",
   "execution_count": 221,
   "metadata": {},
   "outputs": [
    {
     "name": "stdout",
     "output_type": "stream",
     "text": [
      "dog -> 4 ; cat -> 3 ; snake -> 1 ; "
     ]
    }
   ],
   "source": [
    "for word in fdist:\n",
    "    print(word,'->',fdist[word],end=' ; ')"
   ]
  },
  {
   "cell_type": "code",
   "execution_count": 222,
   "metadata": {},
   "outputs": [
    {
     "name": "stdout",
     "output_type": "stream",
     "text": [
      "dog -> 4;\n",
      "cat -> 3;\n",
      "snake -> 1;\n"
     ]
    }
   ],
   "source": [
    "for word in fdist:\n",
    "    print('%s -> %d;'%(word,fdist[word]))"
   ]
  },
  {
   "cell_type": "code",
   "execution_count": 227,
   "metadata": {},
   "outputs": [
    {
     "name": "stdout",
     "output_type": "stream",
     "text": [
      "dog -> 4;\n",
      "cat -> 3;\n",
      "snake -> 1;\n"
     ]
    }
   ],
   "source": [
    "for word in fdist:\n",
    "    print('{} -> {};'.format(word,fdist[word]))"
   ]
  },
  {
   "cell_type": "code",
   "execution_count": 228,
   "metadata": {},
   "outputs": [
    {
     "data": {
      "text/plain": [
       "'Rishav'"
      ]
     },
     "execution_count": 228,
     "metadata": {},
     "output_type": "execute_result"
    }
   ],
   "source": [
    "'%s'%('Rishav')"
   ]
  },
  {
   "cell_type": "code",
   "execution_count": 229,
   "metadata": {},
   "outputs": [
    {
     "data": {
      "text/plain": [
       "'Rishav'"
      ]
     },
     "execution_count": 229,
     "metadata": {},
     "output_type": "execute_result"
    }
   ],
   "source": [
    "'{}'.format('Rishav')"
   ]
  },
  {
   "cell_type": "code",
   "execution_count": 231,
   "metadata": {},
   "outputs": [
    {
     "data": {
      "text/plain": [
       "'Rishav Paudel->10'"
      ]
     },
     "execution_count": 231,
     "metadata": {},
     "output_type": "execute_result"
    }
   ],
   "source": [
    "'%s%s->%d'%('Rishav ','Paudel',10)"
   ]
  },
  {
   "cell_type": "code",
   "execution_count": 232,
   "metadata": {},
   "outputs": [],
   "source": [
    "template = 'Lee wants a %s right now'\n",
    "menu = ['sandwich', 'spam fritter', 'pancake']"
   ]
  },
  {
   "cell_type": "code",
   "execution_count": 236,
   "metadata": {},
   "outputs": [
    {
     "name": "stdout",
     "output_type": "stream",
     "text": [
      "Lee wants a sandwich right now\n",
      "Lee wants a spam fritter right now\n",
      "Lee wants a pancake right now\n"
     ]
    }
   ],
   "source": [
    "for snack in menu:\n",
    "    print(template%(snack))"
   ]
  },
  {
   "cell_type": "code",
   "execution_count": 238,
   "metadata": {},
   "outputs": [
    {
     "data": {
      "text/plain": [
       "'  Dog'"
      ]
     },
     "execution_count": 238,
     "metadata": {},
     "output_type": "execute_result"
    }
   ],
   "source": [
    "'%5s'%('Dog')"
   ]
  },
  {
   "cell_type": "code",
   "execution_count": 239,
   "metadata": {},
   "outputs": [
    {
     "data": {
      "text/plain": [
       "'Dog   '"
      ]
     },
     "execution_count": 239,
     "metadata": {},
     "output_type": "execute_result"
    }
   ],
   "source": [
    "'%-6s'%('Dog')"
   ]
  },
  {
   "cell_type": "code",
   "execution_count": 240,
   "metadata": {},
   "outputs": [],
   "source": [
    "count,total=3205,9375"
   ]
  },
  {
   "cell_type": "code",
   "execution_count": 245,
   "metadata": {},
   "outputs": [
    {
     "data": {
      "text/plain": [
       "'accuracy for 9375 words:34.1867%'"
      ]
     },
     "execution_count": 245,
     "metadata": {},
     "output_type": "execute_result"
    }
   ],
   "source": [
    "'accuracy for %d words:%2.4f%%'%(total,100*count/total)"
   ]
  },
  {
   "cell_type": "code",
   "execution_count": 246,
   "metadata": {},
   "outputs": [
    {
     "data": {
      "text/plain": [
       "'accuracy for 9375 words:34.1867'"
      ]
     },
     "execution_count": 246,
     "metadata": {},
     "output_type": "execute_result"
    }
   ],
   "source": [
    "'accuracy for %d words:%2.4f'%(total,100*count/total)"
   ]
  },
  {
   "cell_type": "code",
   "execution_count": null,
   "metadata": {},
   "outputs": [],
   "source": []
  },
  {
   "cell_type": "code",
   "execution_count": 249,
   "metadata": {},
   "outputs": [
    {
     "name": "stdout",
     "output_type": "stream",
     "text": [
      "Category        \n"
     ]
    }
   ],
   "source": [
    "tabulate(None,None,None)"
   ]
  },
  {
   "cell_type": "code",
   "execution_count": 264,
   "metadata": {},
   "outputs": [],
   "source": [
    "from nltk.corpus import brown\n",
    "cfd = nltk.ConditionalFreqDist(\n",
    "     (genre, word)\n",
    "     for genre in brown.categories()\n",
    "     for word in brown.words(categories=genre))\n",
    "genres = ['news', 'religion', 'hobbies', 'science_fiction', 'romance', 'humor']\n",
    "modals = ['can', 'could', 'may', 'might', 'must', 'will']\n"
   ]
  },
  {
   "cell_type": "code",
   "execution_count": 254,
   "metadata": {},
   "outputs": [
    {
     "data": {
      "text/plain": [
       "['As', 'a', 'result', ',', 'although', 'we', 'still', ...]"
      ]
     },
     "execution_count": 254,
     "metadata": {},
     "output_type": "execute_result"
    }
   ],
   "source": [
    "brown.words(categories='religion')"
   ]
  },
  {
   "cell_type": "code",
   "execution_count": 290,
   "metadata": {},
   "outputs": [],
   "source": [
    "def tabulate(cfd,genres,modals):\n",
    "    print('%-16s'%'Categories',end='')\n",
    "    for modal in modals:\n",
    "        print('%-10s'%modal,end=' ')\n",
    "    print()\n",
    "    for cat in genres:\n",
    "        print(\"%-16s\"%cat,end=' ')\n",
    "        for word in modals:\n",
    "            print('%-10d'%cfd[cat][word],end=' ')\n",
    "        print()"
   ]
  },
  {
   "cell_type": "code",
   "execution_count": 291,
   "metadata": {},
   "outputs": [
    {
     "name": "stdout",
     "output_type": "stream",
     "text": [
      "Categories      can        could      may        might      must       will       \n",
      "news             93         86         66         38         50         389        \n",
      "religion         82         59         78         12         54         71         \n",
      "hobbies          268        58         131        22         83         264        \n",
      "science_fiction  16         49         4          12         8          16         \n",
      "romance          74         193        11         51         45         43         \n",
      "humor            16         30         8          8          9          13         \n"
     ]
    }
   ],
   "source": [
    "tabulate(cfd,genres,modals)"
   ]
  },
  {
   "cell_type": "code",
   "execution_count": 293,
   "metadata": {},
   "outputs": [],
   "source": [
    "words=set(nltk.corpus.genesis.words('english-kjv.txt'))"
   ]
  },
  {
   "cell_type": "code",
   "execution_count": 296,
   "metadata": {},
   "outputs": [],
   "source": [
    "output_f=open('output.txt','w')\n",
    "for word in sorted(words):\n",
    "    output_f.write(word+\"\\n\")"
   ]
  },
  {
   "cell_type": "code",
   "execution_count": 301,
   "metadata": {},
   "outputs": [],
   "source": [
    "f=open('output.txt','r')"
   ]
  },
  {
   "cell_type": "code",
   "execution_count": 302,
   "metadata": {},
   "outputs": [
    {
     "name": "stdout",
     "output_type": "stream",
     "text": [
      "!\n",
      "'\n",
      "(\n",
      ")\n",
      ",\n",
      ",)\n",
      ".\n",
      ".)\n",
      ":\n",
      ";\n",
      ";)\n",
      "?\n",
      "?)\n",
      "A\n",
      "Abel\n",
      "Abelmizraim\n",
      "Abidah\n",
      "Abide\n",
      "Abimael\n",
      "Abimelech\n",
      "Abr\n",
      "Abrah\n",
      "Abraham\n",
      "Abram\n",
      "Accad\n",
      "Achbor\n",
      "Adah\n",
      "Adam\n",
      "Adbeel\n",
      "Admah\n",
      "Adullamite\n",
      "After\n",
      "Aholibamah\n",
      "Ahuzzath\n",
      "Ajah\n",
      "Akan\n",
      "All\n",
      "Allonbachuth\n",
      "Almighty\n",
      "Almodad\n",
      "Also\n",
      "Alvah\n",
      "Alvan\n",
      "Am\n",
      "Amal\n",
      "Amalek\n",
      "Amalekites\n",
      "Ammon\n",
      "Amorite\n",
      "Amorites\n",
      "Amraphel\n",
      "An\n",
      "Anah\n",
      "Anamim\n",
      "And\n",
      "Aner\n",
      "Angel\n",
      "Appoint\n",
      "Aram\n",
      "Aran\n",
      "Ararat\n",
      "Arbah\n",
      "Ard\n",
      "Are\n",
      "Areli\n",
      "Arioch\n",
      "Arise\n",
      "Arkite\n",
      "Arodi\n",
      "Arphaxad\n",
      "Art\n",
      "Arvadite\n",
      "As\n",
      "Asenath\n",
      "Ashbel\n",
      "Asher\n",
      "Ashkenaz\n",
      "Ashteroth\n",
      "Ask\n",
      "Asshur\n",
      "Asshurim\n",
      "Assyr\n",
      "Assyria\n",
      "At\n",
      "Atad\n",
      "Avith\n",
      "Baalhanan\n",
      "Babel\n",
      "Bashemath\n",
      "Be\n",
      "Because\n",
      "Becher\n",
      "Bedad\n",
      "Beeri\n",
      "Beerlahairoi\n",
      "Beersheba\n",
      "Behold\n",
      "Bela\n",
      "Belah\n",
      "Benam\n",
      "Benjamin\n",
      "Beno\n",
      "Beor\n",
      "Bera\n",
      "Bered\n",
      "Beriah\n",
      "Bethel\n",
      "Bethlehem\n",
      "Bethuel\n",
      "Beware\n",
      "Bilhah\n",
      "Bilhan\n",
      "Binding\n",
      "Birsha\n",
      "Bless\n",
      "Blessed\n",
      "Both\n",
      "Bow\n",
      "Bozrah\n",
      "Bring\n",
      "But\n",
      "Buz\n",
      "By\n",
      "Cain\n",
      "Cainan\n",
      "Calah\n",
      "Calneh\n",
      "Can\n",
      "Cana\n",
      "Canaan\n",
      "Canaanite\n",
      "Canaanites\n",
      "Canaanitish\n",
      "Caphtorim\n",
      "Carmi\n",
      "Casluhim\n",
      "Cast\n",
      "Cause\n",
      "Chaldees\n",
      "Chedorlaomer\n",
      "Cheran\n",
      "Cherubims\n",
      "Chesed\n",
      "Chezib\n",
      "Come\n",
      "Cursed\n",
      "Cush\n",
      "Damascus\n",
      "Dan\n",
      "Day\n",
      "Deborah\n",
      "Dedan\n",
      "Deliver\n",
      "Diklah\n",
      "Din\n",
      "Dinah\n",
      "Dinhabah\n",
      "Discern\n",
      "Dishan\n",
      "Dishon\n",
      "Do\n",
      "Dodanim\n",
      "Dothan\n",
      "Drink\n",
      "Duke\n",
      "Dumah\n",
      "Earth\n",
      "Ebal\n",
      "Eber\n",
      "Edar\n",
      "Eden\n",
      "Edom\n",
      "Edomites\n",
      "Egy\n",
      "Egypt\n",
      "Egyptia\n",
      "Egyptian\n",
      "Egyptians\n",
      "Ehi\n",
      "Elah\n",
      "Elam\n",
      "Elbethel\n",
      "Eldaah\n",
      "EleloheIsrael\n",
      "Eliezer\n",
      "Eliphaz\n",
      "Elishah\n",
      "Ellasar\n",
      "Elon\n",
      "Elparan\n",
      "Emins\n",
      "En\n",
      "Enmishpat\n",
      "Eno\n",
      "Enoch\n",
      "Enos\n",
      "Ephah\n",
      "Epher\n",
      "Ephra\n",
      "Ephraim\n",
      "Ephrath\n",
      "Ephron\n",
      "Er\n",
      "Erech\n",
      "Eri\n",
      "Es\n",
      "Esau\n",
      "Escape\n",
      "Esek\n",
      "Eshban\n",
      "Eshcol\n",
      "Ethiopia\n",
      "Euphrat\n",
      "Euphrates\n",
      "Eve\n",
      "Even\n",
      "Every\n",
      "Except\n",
      "Ezbon\n",
      "Ezer\n",
      "Fear\n",
      "Feed\n",
      "Fifteen\n",
      "Fill\n",
      "For\n",
      "Forasmuch\n",
      "Forgive\n",
      "From\n",
      "Fulfil\n",
      "G\n",
      "Gad\n",
      "Gaham\n",
      "Galeed\n",
      "Gatam\n",
      "Gather\n",
      "Gaza\n",
      "Gentiles\n",
      "Gera\n",
      "Gerar\n",
      "Gershon\n",
      "Get\n",
      "Gether\n",
      "Gihon\n",
      "Gilead\n",
      "Girgashites\n",
      "Girgasite\n",
      "Give\n",
      "Go\n",
      "God\n",
      "Gomer\n",
      "Gomorrah\n",
      "Goshen\n",
      "Guni\n",
      "Hadad\n",
      "Hadar\n",
      "Hadoram\n",
      "Hagar\n",
      "Haggi\n",
      "Hai\n",
      "Ham\n",
      "Hamathite\n",
      "Hamor\n",
      "Hamul\n",
      "Hanoch\n",
      "Happy\n",
      "Haran\n",
      "Hast\n",
      "Haste\n",
      "Have\n",
      "Havilah\n",
      "Hazarmaveth\n",
      "Hazezontamar\n",
      "Hazo\n",
      "He\n",
      "Hear\n",
      "Heaven\n",
      "Heber\n",
      "Hebrew\n",
      "Hebrews\n",
      "Hebron\n",
      "Hemam\n",
      "Hemdan\n",
      "Here\n",
      "Hereby\n",
      "Heth\n",
      "Hezron\n",
      "Hiddekel\n",
      "Hinder\n",
      "Hirah\n",
      "His\n",
      "Hitti\n",
      "Hittite\n",
      "Hittites\n",
      "Hivite\n",
      "Hobah\n",
      "Hori\n",
      "Horite\n",
      "Horites\n",
      "How\n",
      "Hul\n",
      "Huppim\n",
      "Husham\n",
      "Hushim\n",
      "Huz\n",
      "I\n",
      "If\n",
      "In\n",
      "Irad\n",
      "Iram\n",
      "Is\n",
      "Isa\n",
      "Isaac\n",
      "Iscah\n",
      "Ishbak\n",
      "Ishmael\n",
      "Ishmeelites\n",
      "Ishuah\n",
      "Isra\n",
      "Israel\n",
      "Issachar\n",
      "Isui\n",
      "It\n",
      "Ithran\n",
      "Jaalam\n",
      "Jabal\n",
      "Jabbok\n",
      "Jac\n",
      "Jachin\n",
      "Jacob\n",
      "Jahleel\n",
      "Jahzeel\n",
      "Jamin\n",
      "Japhe\n",
      "Japheth\n",
      "Jared\n",
      "Javan\n",
      "Jebusite\n",
      "Jebusites\n",
      "Jegarsahadutha\n",
      "Jehovahjireh\n",
      "Jemuel\n",
      "Jerah\n",
      "Jetheth\n",
      "Jetur\n",
      "Jeush\n",
      "Jezer\n",
      "Jidlaph\n",
      "Jimnah\n",
      "Job\n",
      "Jobab\n",
      "Jokshan\n",
      "Joktan\n",
      "Jordan\n",
      "Joseph\n",
      "Jubal\n",
      "Judah\n",
      "Judge\n",
      "Judith\n",
      "Kadesh\n",
      "Kadmonites\n",
      "Karnaim\n",
      "Kedar\n",
      "Kedemah\n",
      "Kemuel\n",
      "Kenaz\n",
      "Kenites\n",
      "Kenizzites\n",
      "Keturah\n",
      "Kiriathaim\n",
      "Kirjatharba\n",
      "Kittim\n",
      "Know\n",
      "Kohath\n",
      "Kor\n",
      "Korah\n",
      "LO\n",
      "LORD\n",
      "Laban\n",
      "Lahairoi\n",
      "Lamech\n",
      "Lasha\n",
      "Lay\n",
      "Leah\n",
      "Lehabim\n",
      "Lest\n",
      "Let\n",
      "Letushim\n",
      "Leummim\n",
      "Levi\n",
      "Lie\n",
      "Lift\n",
      "Lo\n",
      "Look\n",
      "Lot\n",
      "Lotan\n",
      "Lud\n",
      "Ludim\n",
      "Luz\n",
      "Maachah\n",
      "Machir\n",
      "Machpelah\n",
      "Madai\n",
      "Magdiel\n",
      "Magog\n",
      "Mahalaleel\n",
      "Mahalath\n",
      "Mahanaim\n",
      "Make\n",
      "Malchiel\n",
      "Male\n",
      "Mam\n",
      "Mamre\n",
      "Man\n",
      "Manahath\n",
      "Manass\n",
      "Manasseh\n",
      "Mash\n",
      "Masrekah\n",
      "Massa\n",
      "Matred\n",
      "Me\n",
      "Medan\n",
      "Mehetabel\n",
      "Mehujael\n",
      "Melchizedek\n",
      "Merari\n",
      "Mesha\n",
      "Meshech\n",
      "Mesopotamia\n",
      "Methusa\n",
      "Methusael\n",
      "Methuselah\n",
      "Mezahab\n",
      "Mibsam\n",
      "Mibzar\n",
      "Midian\n",
      "Midianites\n",
      "Milcah\n",
      "Mishma\n",
      "Mizpah\n",
      "Mizraim\n",
      "Mizz\n",
      "Moab\n",
      "Moabites\n",
      "Moreh\n",
      "Moreover\n",
      "Moriah\n",
      "Muppim\n",
      "My\n",
      "Naamah\n",
      "Naaman\n",
      "Nahath\n",
      "Nahor\n",
      "Naphish\n",
      "Naphtali\n",
      "Naphtuhim\n",
      "Nay\n",
      "Nebajoth\n",
      "Neither\n",
      "Night\n",
      "Nimrod\n",
      "Nineveh\n",
      "Noah\n",
      "Nod\n",
      "Not\n",
      "Now\n",
      "O\n",
      "Obal\n",
      "Of\n",
      "Oh\n",
      "Ohad\n",
      "Omar\n",
      "On\n",
      "Onam\n",
      "Onan\n",
      "Only\n",
      "Ophir\n",
      "Our\n",
      "Out\n",
      "Padan\n",
      "Padanaram\n",
      "Paran\n",
      "Pass\n",
      "Pathrusim\n",
      "Pau\n",
      "Peace\n",
      "Peleg\n",
      "Peniel\n",
      "Penuel\n",
      "Peradventure\n",
      "Perizzit\n",
      "Perizzite\n",
      "Perizzites\n",
      "Phallu\n",
      "Phara\n",
      "Pharaoh\n",
      "Pharez\n",
      "Phichol\n",
      "Philistim\n",
      "Philistines\n",
      "Phut\n",
      "Phuvah\n",
      "Pildash\n",
      "Pinon\n",
      "Pison\n",
      "Potiphar\n",
      "Potipherah\n",
      "Put\n",
      "Raamah\n",
      "Rachel\n",
      "Rameses\n",
      "Rebek\n",
      "Rebekah\n",
      "Rehoboth\n",
      "Remain\n",
      "Rephaims\n",
      "Resen\n",
      "Return\n",
      "Reu\n",
      "Reub\n",
      "Reuben\n",
      "Reuel\n",
      "Reumah\n",
      "Riphath\n",
      "Rosh\n",
      "Sabtah\n",
      "Sabtech\n",
      "Said\n",
      "Salah\n",
      "Salem\n",
      "Samlah\n",
      "Sarah\n",
      "Sarai\n",
      "Saul\n",
      "Save\n",
      "Say\n",
      "Se\n",
      "Seba\n",
      "See\n",
      "Seeing\n",
      "Seir\n",
      "Sell\n",
      "Send\n",
      "Sephar\n",
      "Serah\n",
      "Sered\n",
      "Serug\n",
      "Set\n",
      "Seth\n",
      "Shalem\n",
      "Shall\n",
      "Shalt\n",
      "Shammah\n",
      "Shaul\n",
      "Shaveh\n",
      "She\n",
      "Sheba\n",
      "Shebah\n",
      "Shechem\n",
      "Shed\n",
      "Shel\n",
      "Shelah\n",
      "Sheleph\n",
      "Shem\n",
      "Shemeber\n",
      "Shepho\n",
      "Shillem\n",
      "Shiloh\n",
      "Shimron\n",
      "Shinab\n",
      "Shinar\n",
      "Shobal\n",
      "Should\n",
      "Shuah\n",
      "Shuni\n",
      "Shur\n",
      "Sichem\n",
      "Siddim\n",
      "Sidon\n",
      "Simeon\n",
      "Sinite\n",
      "Sitnah\n",
      "Slay\n",
      "So\n",
      "Sod\n",
      "Sodom\n",
      "Sojourn\n",
      "Some\n",
      "Spake\n",
      "Speak\n",
      "Spirit\n",
      "Stand\n",
      "Succoth\n",
      "Surely\n",
      "Swear\n",
      "Syrian\n",
      "Take\n",
      "Tamar\n",
      "Tarshish\n",
      "Tebah\n",
      "Tell\n",
      "Tema\n",
      "Teman\n",
      "Temani\n",
      "Terah\n",
      "Thahash\n",
      "That\n",
      "The\n",
      "Then\n",
      "There\n",
      "Therefore\n",
      "These\n",
      "They\n",
      "Thirty\n",
      "This\n",
      "Thorns\n",
      "Thou\n",
      "Thus\n",
      "Thy\n",
      "Tidal\n",
      "Timna\n",
      "Timnah\n",
      "Timnath\n",
      "Tiras\n",
      "To\n",
      "Togarmah\n",
      "Tola\n",
      "Tubal\n",
      "Tubalcain\n",
      "Twelve\n",
      "Two\n",
      "Unstable\n",
      "Until\n",
      "Unto\n",
      "Up\n",
      "Upon\n",
      "Ur\n",
      "Uz\n",
      "Uzal\n",
      "We\n",
      "What\n",
      "When\n",
      "Whence\n",
      "Where\n",
      "Whereas\n",
      "Wherefore\n",
      "Which\n",
      "While\n",
      "Who\n",
      "Whose\n",
      "Whoso\n",
      "Why\n",
      "Wilt\n",
      "With\n",
      "Woman\n",
      "Ye\n",
      "Yea\n",
      "Yet\n",
      "Zaavan\n",
      "Zaphnathpaaneah\n",
      "Zar\n",
      "Zarah\n",
      "Zeboiim\n",
      "Zeboim\n",
      "Zebul\n",
      "Zebulun\n",
      "Zemarite\n",
      "Zepho\n",
      "Zerah\n",
      "Zibeon\n",
      "Zidon\n",
      "Zillah\n",
      "Zilpah\n",
      "Zimran\n",
      "Ziphion\n",
      "Zo\n",
      "Zoar\n",
      "Zohar\n",
      "Zuzims\n",
      "a\n",
      "abated\n",
      "abide\n",
      "able\n",
      "abode\n",
      "abomination\n",
      "about\n",
      "above\n",
      "abroad\n",
      "absent\n",
      "abundantly\n",
      "accept\n",
      "accepted\n",
      "according\n",
      "acknowledged\n",
      "activity\n",
      "add\n",
      "adder\n",
      "afar\n",
      "afflict\n",
      "affliction\n",
      "afraid\n",
      "after\n",
      "afterward\n",
      "afterwards\n",
      "aga\n",
      "again\n",
      "against\n",
      "age\n",
      "aileth\n",
      "air\n",
      "al\n",
      "alive\n",
      "all\n",
      "almon\n",
      "alo\n",
      "alone\n",
      "aloud\n",
      "also\n",
      "altar\n",
      "altogether\n",
      "always\n",
      "am\n",
      "among\n",
      "amongst\n",
      "an\n",
      "and\n",
      "angel\n",
      "angels\n",
      "anger\n",
      "angry\n",
      "anguish\n",
      "anointedst\n",
      "anoth\n",
      "another\n",
      "answer\n",
      "answered\n",
      "any\n",
      "anything\n",
      "appe\n",
      "appear\n",
      "appeared\n",
      "appease\n",
      "appoint\n",
      "appointed\n",
      "aprons\n",
      "archer\n",
      "archers\n",
      "are\n",
      "arise\n",
      "ark\n",
      "armed\n",
      "arms\n",
      "army\n",
      "arose\n",
      "arrayed\n",
      "art\n",
      "artificer\n",
      "as\n",
      "ascending\n",
      "ash\n",
      "ashamed\n",
      "ask\n",
      "asked\n",
      "asketh\n",
      "ass\n",
      "assembly\n",
      "asses\n",
      "assigned\n",
      "asswaged\n",
      "at\n",
      "attained\n",
      "audience\n",
      "avenged\n",
      "aw\n",
      "awaked\n",
      "away\n",
      "awoke\n",
      "back\n",
      "backward\n",
      "bad\n",
      "bade\n",
      "badest\n",
      "badne\n",
      "bak\n",
      "bake\n",
      "bakemeats\n",
      "baker\n",
      "bakers\n",
      "balm\n",
      "bands\n",
      "bank\n",
      "bare\n",
      "barr\n",
      "barren\n",
      "basket\n",
      "baskets\n",
      "battle\n",
      "bdellium\n",
      "be\n",
      "bear\n",
      "beari\n",
      "bearing\n",
      "beast\n",
      "beasts\n",
      "beautiful\n",
      "became\n",
      "because\n",
      "become\n",
      "bed\n",
      "been\n",
      "befall\n",
      "befell\n",
      "before\n",
      "began\n",
      "begat\n",
      "beget\n",
      "begettest\n",
      "begin\n",
      "beginning\n",
      "begotten\n",
      "beguiled\n",
      "beheld\n",
      "behind\n",
      "behold\n",
      "being\n",
      "believed\n",
      "belly\n",
      "belong\n",
      "beneath\n",
      "bereaved\n",
      "beside\n",
      "besides\n",
      "besought\n",
      "best\n",
      "betimes\n",
      "better\n",
      "between\n",
      "betwixt\n",
      "beyond\n",
      "binding\n",
      "bird\n",
      "birds\n",
      "birthday\n",
      "birthright\n",
      "biteth\n",
      "bitter\n",
      "blame\n",
      "blameless\n",
      "blasted\n",
      "bless\n",
      "blessed\n",
      "blesseth\n",
      "blessi\n",
      "blessing\n",
      "blessings\n",
      "blindness\n",
      "blood\n",
      "blossoms\n",
      "bodies\n",
      "boldly\n",
      "bondman\n",
      "bondmen\n",
      "bondwoman\n",
      "bone\n",
      "bones\n",
      "book\n",
      "booths\n",
      "border\n",
      "borders\n",
      "born\n",
      "bosom\n",
      "both\n",
      "bottle\n",
      "bou\n",
      "boug\n",
      "bough\n",
      "bought\n",
      "bound\n",
      "bow\n",
      "bowed\n",
      "bowels\n",
      "bowing\n",
      "boys\n",
      "bracelets\n",
      "branches\n",
      "brass\n",
      "bre\n",
      "breach\n",
      "bread\n",
      "breadth\n",
      "break\n",
      "breaketh\n",
      "breaking\n",
      "breasts\n",
      "breath\n",
      "breathed\n",
      "breed\n",
      "brethren\n",
      "brick\n",
      "brimstone\n",
      "bring\n",
      "brink\n",
      "broken\n",
      "brook\n",
      "broth\n",
      "brother\n",
      "brought\n",
      "brown\n",
      "bruise\n",
      "budded\n",
      "build\n",
      "builded\n",
      "built\n",
      "bulls\n",
      "bundle\n",
      "bundles\n",
      "burdens\n",
      "buried\n",
      "burn\n",
      "burning\n",
      "burnt\n",
      "bury\n",
      "buryingplace\n",
      "business\n",
      "but\n",
      "butler\n",
      "butlers\n",
      "butlership\n",
      "butter\n",
      "buy\n",
      "by\n",
      "cakes\n",
      "calf\n",
      "call\n",
      "called\n",
      "came\n",
      "camel\n",
      "camels\n",
      "camest\n",
      "can\n",
      "cannot\n",
      "canst\n",
      "captain\n",
      "captive\n",
      "captives\n",
      "carcases\n",
      "carried\n",
      "carry\n",
      "cast\n",
      "castles\n",
      "catt\n",
      "cattle\n",
      "caught\n",
      "cause\n",
      "caused\n",
      "cave\n",
      "cease\n",
      "ceased\n",
      "certain\n",
      "certainly\n",
      "chain\n",
      "chamber\n",
      "change\n",
      "changed\n",
      "changes\n",
      "charge\n",
      "charged\n",
      "chariot\n",
      "chariots\n",
      "chesnut\n",
      "chi\n",
      "chief\n",
      "child\n",
      "childless\n",
      "childr\n",
      "children\n",
      "chode\n",
      "choice\n",
      "chose\n",
      "circumcis\n",
      "circumcise\n",
      "circumcised\n",
      "citi\n",
      "cities\n",
      "city\n",
      "clave\n",
      "clean\n",
      "clear\n",
      "cleave\n",
      "clo\n",
      "closed\n",
      "clothed\n",
      "clothes\n",
      "cloud\n",
      "clusters\n",
      "co\n",
      "coat\n",
      "coats\n",
      "coffin\n",
      "cold\n",
      "colours\n",
      "colt\n",
      "colts\n",
      "come\n",
      "comest\n",
      "cometh\n",
      "comfort\n",
      "comforted\n",
      "comi\n",
      "coming\n",
      "command\n",
      "commanded\n",
      "commanding\n",
      "commandment\n",
      "commandments\n",
      "commended\n",
      "committed\n",
      "commune\n",
      "communed\n",
      "communing\n",
      "company\n",
      "compassed\n",
      "compasseth\n",
      "conceal\n",
      "conceive\n",
      "conceived\n",
      "conception\n",
      "concerning\n",
      "concubi\n",
      "concubine\n",
      "concubines\n",
      "confederate\n",
      "confound\n",
      "consent\n",
      "conspired\n",
      "consume\n",
      "consumed\n",
      "content\n",
      "continually\n",
      "continued\n",
      "cool\n",
      "corn\n",
      "corrupt\n",
      "corrupted\n",
      "couch\n",
      "couched\n",
      "couching\n",
      "could\n",
      "counted\n",
      "countenance\n",
      "countries\n",
      "country\n",
      "covenant\n",
      "covered\n",
      "covering\n",
      "created\n",
      "creature\n",
      "creepeth\n",
      "creeping\n",
      "cried\n",
      "crieth\n",
      "crown\n",
      "cru\n",
      "cruelty\n",
      "cry\n",
      "cubit\n",
      "cubits\n",
      "cunning\n",
      "cup\n",
      "current\n",
      "curse\n",
      "cursed\n",
      "curseth\n",
      "custom\n",
      "cut\n",
      "d\n",
      "da\n",
      "dainties\n",
      "dale\n",
      "damsel\n",
      "damsels\n",
      "dark\n",
      "darkne\n",
      "darkness\n",
      "daughers\n",
      "daught\n",
      "daughte\n",
      "daughter\n",
      "daughters\n",
      "day\n",
      "days\n",
      "dea\n",
      "dead\n",
      "deal\n",
      "dealt\n",
      "dearth\n",
      "death\n",
      "deceitfully\n",
      "deceived\n",
      "deceiver\n",
      "declare\n",
      "decreased\n",
      "deed\n",
      "deeds\n",
      "deep\n",
      "deferred\n",
      "defiled\n",
      "defiledst\n",
      "delight\n",
      "deliver\n",
      "deliverance\n",
      "delivered\n",
      "denied\n",
      "depart\n",
      "departed\n",
      "departing\n",
      "deprived\n",
      "descending\n",
      "desire\n",
      "desired\n",
      "desolate\n",
      "despised\n",
      "destitute\n",
      "destroy\n",
      "destroyed\n",
      "devour\n",
      "devoured\n",
      "dew\n",
      "did\n",
      "didst\n",
      "die\n",
      "died\n",
      "digged\n",
      "dignity\n",
      "dim\n",
      "dine\n",
      "dipped\n",
      "direct\n",
      "discern\n",
      "discerned\n",
      "discreet\n",
      "displease\n",
      "displeased\n",
      "distress\n",
      "distressed\n",
      "divide\n",
      "divided\n",
      "divine\n",
      "divineth\n",
      "do\n",
      "doe\n",
      "doer\n",
      "doest\n",
      "doeth\n",
      "doing\n",
      "dominion\n",
      "done\n",
      "door\n",
      "dost\n",
      "doth\n",
      "double\n",
      "doubled\n",
      "doubt\n",
      "dove\n",
      "down\n",
      "dowry\n",
      "drank\n",
      "draw\n",
      "dread\n",
      "dreadful\n",
      "dream\n",
      "dreamed\n",
      "dreamer\n",
      "dreams\n",
      "dress\n",
      "dressed\n",
      "drew\n",
      "dried\n",
      "drink\n",
      "drinketh\n",
      "drinking\n",
      "driven\n",
      "drought\n",
      "drove\n",
      "droves\n",
      "drunken\n",
      "dry\n",
      "duke\n",
      "dukes\n",
      "dunge\n",
      "dungeon\n",
      "dust\n",
      "dwe\n",
      "dwell\n",
      "dwelled\n",
      "dwelling\n",
      "dwelt\n",
      "e\n",
      "ea\n",
      "each\n",
      "ear\n",
      "earing\n",
      "early\n",
      "earring\n",
      "earrings\n",
      "ears\n",
      "earth\n",
      "east\n",
      "eastward\n",
      "eat\n",
      "eaten\n",
      "eatest\n",
      "edge\n",
      "eight\n",
      "eighteen\n",
      "eighty\n",
      "either\n",
      "elder\n",
      "elders\n",
      "eldest\n",
      "eleven\n",
      "else\n",
      "embalm\n",
      "embalmed\n",
      "embraced\n",
      "emptied\n",
      "empty\n",
      "end\n",
      "ended\n",
      "endued\n",
      "endure\n",
      "enemies\n",
      "enlarge\n",
      "enmity\n",
      "enough\n",
      "enquire\n",
      "enter\n",
      "entered\n",
      "entreated\n",
      "envied\n",
      "erected\n",
      "errand\n",
      "escape\n",
      "escaped\n",
      "espied\n",
      "establish\n",
      "established\n",
      "ev\n",
      "even\n",
      "evening\n",
      "eventide\n",
      "ever\n",
      "everlasting\n",
      "every\n",
      "evil\n",
      "ewe\n",
      "ewes\n",
      "exceeding\n",
      "exceedingly\n",
      "excel\n",
      "excellency\n",
      "except\n",
      "exchange\n",
      "experience\n",
      "ey\n",
      "eyed\n",
      "eyes\n",
      "fa\n",
      "face\n",
      "faces\n",
      "fai\n",
      "fail\n",
      "failed\n",
      "faileth\n",
      "fainted\n",
      "fair\n",
      "fall\n",
      "fallen\n",
      "falsely\n",
      "fame\n",
      "families\n",
      "famine\n",
      "famished\n",
      "far\n",
      "fashion\n",
      "fast\n",
      "fat\n",
      "fatfleshed\n",
      "fath\n",
      "fathe\n",
      "father\n",
      "fathers\n",
      "fatness\n",
      "faults\n",
      "favour\n",
      "favoured\n",
      "fear\n",
      "feared\n",
      "fearest\n",
      "feast\n",
      "fed\n",
      "feeble\n",
      "feebler\n",
      "feed\n",
      "feeding\n",
      "feel\n",
      "feet\n",
      "fell\n",
      "fellow\n",
      "felt\n",
      "fema\n",
      "female\n",
      "fetch\n",
      "fetched\n",
      "fetcht\n",
      "few\n",
      "fie\n",
      "field\n",
      "fierce\n",
      "fifteen\n",
      "fifth\n",
      "fifty\n",
      "fig\n",
      "fill\n",
      "filled\n",
      "find\n",
      "findest\n",
      "findeth\n",
      "finding\n",
      "fine\n",
      "finish\n",
      "finished\n",
      "fir\n",
      "fire\n",
      "firmame\n",
      "firmament\n",
      "first\n",
      "firstborn\n",
      "firstlings\n",
      "fish\n",
      "fishes\n",
      "five\n",
      "flaming\n",
      "fle\n",
      "fled\n",
      "fleddest\n",
      "flee\n",
      "flesh\n",
      "flo\n",
      "floc\n",
      "flock\n",
      "flocks\n",
      "flood\n",
      "floor\n",
      "fly\n",
      "fo\n",
      "foal\n",
      "foals\n",
      "folk\n",
      "follow\n",
      "followed\n",
      "following\n",
      "folly\n",
      "food\n",
      "foolishly\n",
      "foot\n",
      "for\n",
      "forbid\n",
      "force\n",
      "ford\n",
      "foremost\n",
      "foreskin\n",
      "forgat\n",
      "forget\n",
      "forgive\n",
      "forgotten\n",
      "form\n",
      "formed\n",
      "former\n",
      "forth\n",
      "forty\n",
      "forward\n",
      "fou\n",
      "found\n",
      "fountain\n",
      "fountains\n",
      "four\n",
      "fourscore\n",
      "fourteen\n",
      "fourteenth\n",
      "fourth\n",
      "fowl\n",
      "fowls\n",
      "freely\n",
      "friend\n",
      "friends\n",
      "fro\n",
      "from\n",
      "frost\n",
      "fruit\n",
      "fruitful\n",
      "fruits\n",
      "fugitive\n",
      "fulfilled\n",
      "full\n",
      "furnace\n",
      "furniture\n",
      "fury\n",
      "gard\n",
      "garden\n",
      "garmen\n",
      "garment\n",
      "garments\n",
      "gat\n",
      "gate\n",
      "gather\n",
      "gathered\n",
      "gathering\n",
      "gave\n",
      "gavest\n",
      "generatio\n",
      "generation\n",
      "generations\n",
      "get\n",
      "getting\n",
      "ghost\n",
      "giants\n",
      "gift\n",
      "gifts\n",
      "give\n",
      "given\n",
      "giveth\n",
      "giving\n",
      "glory\n",
      "go\n",
      "goa\n",
      "goat\n",
      "goats\n",
      "gods\n",
      "goest\n",
      "goeth\n",
      "going\n",
      "gold\n",
      "golden\n",
      "gone\n",
      "good\n",
      "goodly\n",
      "goods\n",
      "gopher\n",
      "got\n",
      "gotten\n",
      "governor\n",
      "gr\n",
      "grace\n",
      "gracious\n",
      "graciously\n",
      "grap\n",
      "grapes\n",
      "grass\n",
      "grave\n",
      "gray\n",
      "gre\n",
      "great\n",
      "greater\n",
      "greatly\n",
      "green\n",
      "grew\n",
      "grief\n",
      "grieved\n",
      "grievous\n",
      "grisl\n",
      "grisled\n",
      "gro\n",
      "ground\n",
      "grove\n",
      "grow\n",
      "grown\n",
      "guard\n",
      "guiding\n",
      "guiltiness\n",
      "guilty\n",
      "gutters\n",
      "h\n",
      "ha\n",
      "habitations\n",
      "had\n",
      "hadst\n",
      "hairs\n",
      "hairy\n",
      "half\n",
      "halted\n",
      "han\n",
      "hand\n",
      "handfuls\n",
      "handle\n",
      "handmaid\n",
      "handmaidens\n",
      "handmaids\n",
      "hands\n",
      "hang\n",
      "hanged\n",
      "hard\n",
      "hardly\n",
      "harlot\n",
      "harm\n",
      "harp\n",
      "harvest\n",
      "hast\n",
      "haste\n",
      "hasted\n",
      "hastened\n",
      "hastily\n",
      "hate\n",
      "hated\n",
      "hath\n",
      "have\n",
      "haven\n",
      "having\n",
      "hazel\n",
      "he\n",
      "head\n",
      "heads\n",
      "healed\n",
      "health\n",
      "heap\n",
      "hear\n",
      "heard\n",
      "hearken\n",
      "hearkened\n",
      "heart\n",
      "hearth\n",
      "hearts\n",
      "heat\n",
      "heav\n",
      "heaven\n",
      "heavens\n",
      "heed\n",
      "heel\n",
      "heels\n",
      "heifer\n",
      "height\n",
      "heir\n",
      "held\n",
      "help\n",
      "hence\n",
      "henceforth\n",
      "her\n",
      "herb\n",
      "herd\n",
      "herdmen\n",
      "herds\n",
      "here\n",
      "herein\n",
      "herself\n",
      "hid\n",
      "hide\n",
      "high\n",
      "hil\n",
      "hills\n",
      "him\n",
      "himself\n",
      "hind\n",
      "hindermost\n",
      "hire\n",
      "hired\n",
      "his\n",
      "hith\n",
      "hither\n",
      "hold\n",
      "hollow\n",
      "home\n",
      "honey\n",
      "honour\n",
      "honourable\n",
      "hor\n",
      "horror\n",
      "horse\n",
      "horsemen\n",
      "horses\n",
      "host\n",
      "hotly\n",
      "hou\n",
      "hous\n",
      "house\n",
      "household\n",
      "households\n",
      "how\n",
      "hundred\n",
      "hundredfo\n",
      "hundredth\n",
      "hunt\n",
      "hunter\n",
      "hunting\n",
      "hurt\n",
      "husba\n",
      "husband\n",
      "husbandman\n",
      "if\n",
      "ill\n",
      "image\n",
      "images\n",
      "imagination\n",
      "imagined\n",
      "in\n",
      "increase\n",
      "increased\n",
      "indeed\n",
      "inhabitants\n",
      "inhabited\n",
      "inherit\n",
      "inheritance\n",
      "iniquity\n",
      "inn\n",
      "innocency\n",
      "instead\n",
      "instructor\n",
      "instruments\n",
      "integrity\n",
      "interpret\n",
      "interpretation\n",
      "interpretations\n",
      "interpreted\n",
      "interpreter\n",
      "into\n",
      "intreat\n",
      "intreated\n",
      "ir\n",
      "is\n",
      "isles\n",
      "issue\n",
      "it\n",
      "itself\n",
      "jewels\n",
      "joined\n",
      "joint\n",
      "journey\n",
      "journeyed\n",
      "journeys\n",
      "jud\n",
      "judge\n",
      "judged\n",
      "judgment\n",
      "just\n",
      "justice\n",
      "keep\n",
      "keeper\n",
      "kept\n",
      "ki\n",
      "kid\n",
      "kids\n",
      "kill\n",
      "killed\n",
      "kind\n",
      "kindled\n",
      "kindly\n",
      "kindness\n",
      "kindred\n",
      "kinds\n",
      "kine\n",
      "king\n",
      "kingdom\n",
      "kings\n",
      "kiss\n",
      "kissed\n",
      "kn\n",
      "knead\n",
      "kneel\n",
      "knees\n",
      "knew\n",
      "knife\n",
      "know\n",
      "knowest\n",
      "knoweth\n",
      "knowing\n",
      "knowledge\n",
      "known\n",
      "la\n",
      "labour\n",
      "lack\n",
      "lad\n",
      "ladder\n",
      "lade\n",
      "laded\n",
      "laden\n",
      "lads\n",
      "laid\n",
      "lamb\n",
      "lambs\n",
      "lamentati\n",
      "lamp\n",
      "lan\n",
      "land\n",
      "lands\n",
      "language\n",
      "large\n",
      "last\n",
      "laugh\n",
      "laughed\n",
      "law\n",
      "lawgiver\n",
      "laws\n",
      "lay\n",
      "lead\n",
      "leaf\n",
      "lean\n",
      "leanfleshed\n",
      "leap\n",
      "leaped\n",
      "learned\n",
      "least\n",
      "leave\n",
      "leaves\n",
      "led\n",
      "left\n",
      "length\n",
      "lentiles\n",
      "lesser\n",
      "lest\n",
      "let\n",
      "li\n",
      "lie\n",
      "lien\n",
      "liest\n",
      "lieth\n",
      "life\n",
      "lift\n",
      "lifted\n",
      "light\n",
      "lighted\n",
      "lightly\n",
      "lights\n",
      "like\n",
      "likene\n",
      "likeness\n",
      "linen\n",
      "lingered\n",
      "lion\n",
      "little\n",
      "live\n",
      "lived\n",
      "lives\n",
      "liveth\n",
      "living\n",
      "lo\n",
      "lodge\n",
      "lodged\n",
      "loins\n",
      "long\n",
      "longedst\n",
      "longeth\n",
      "look\n",
      "looked\n",
      "loose\n",
      "lord\n",
      "lords\n",
      "loss\n",
      "loud\n",
      "love\n",
      "loved\n",
      "lovest\n",
      "loveth\n",
      "lower\n",
      "lying\n",
      "m\n",
      "ma\n",
      "made\n",
      "magicians\n",
      "magnified\n",
      "maid\n",
      "maiden\n",
      "maidservants\n",
      "make\n",
      "male\n",
      "males\n",
      "man\n",
      "mandrakes\n",
      "manner\n",
      "many\n",
      "mark\n",
      "marriages\n",
      "married\n",
      "marry\n",
      "marvelled\n",
      "mast\n",
      "master\n",
      "matter\n",
      "may\n",
      "mayest\n",
      "me\n",
      "mead\n",
      "meadow\n",
      "meal\n",
      "mean\n",
      "meanest\n",
      "meant\n",
      "measures\n",
      "meat\n",
      "meditate\n",
      "meet\n",
      "meeteth\n",
      "men\n",
      "menservants\n",
      "mention\n",
      "merchant\n",
      "merchantmen\n",
      "mercies\n",
      "merciful\n",
      "mercy\n",
      "merry\n",
      "mess\n",
      "messenger\n",
      "messengers\n",
      "messes\n",
      "met\n",
      "mi\n",
      "midst\n",
      "midwife\n",
      "might\n",
      "mightier\n",
      "mighty\n",
      "milch\n",
      "milk\n",
      "millions\n",
      "mind\n",
      "mine\n",
      "mirth\n",
      "mischief\n",
      "mist\n",
      "mistress\n",
      "mock\n",
      "mocked\n",
      "mocking\n",
      "money\n",
      "month\n",
      "months\n",
      "moon\n",
      "more\n",
      "moreover\n",
      "morever\n",
      "morning\n",
      "morrow\n",
      "morsel\n",
      "morter\n",
      "most\n",
      "mother\n",
      "mou\n",
      "mount\n",
      "mountain\n",
      "mountains\n",
      "mourn\n",
      "mourned\n",
      "mourning\n",
      "mouth\n",
      "mouths\n",
      "moved\n",
      "moveth\n",
      "moving\n",
      "much\n",
      "mules\n",
      "multiplied\n",
      "multiply\n",
      "multiplying\n",
      "multitude\n",
      "must\n",
      "my\n",
      "myrrh\n",
      "myself\n",
      "n\n",
      "na\n",
      "naked\n",
      "nakedness\n",
      "name\n",
      "named\n",
      "names\n",
      "nati\n",
      "natio\n",
      "nation\n",
      "nations\n",
      "nativity\n",
      "ne\n",
      "near\n",
      "neck\n",
      "needeth\n",
      "needs\n",
      "neither\n",
      "never\n",
      "next\n",
      "nig\n",
      "nigh\n",
      "night\n",
      "nights\n",
      "nine\n",
      "nineteen\n",
      "ninety\n",
      "no\n",
      "none\n",
      "noon\n",
      "nor\n",
      "north\n",
      "northward\n",
      "nostrils\n",
      "not\n",
      "nothing\n",
      "nought\n",
      "nourish\n",
      "nourished\n",
      "now\n",
      "number\n",
      "numbered\n",
      "numbering\n",
      "nurse\n",
      "nuts\n",
      "o\n",
      "oa\n",
      "oak\n",
      "oath\n",
      "obeisance\n",
      "obey\n",
      "obeyed\n",
      "observed\n",
      "obtain\n",
      "occasion\n",
      "occupation\n",
      "of\n",
      "off\n",
      "offended\n",
      "offer\n",
      "offered\n",
      "offeri\n",
      "offering\n",
      "offerings\n",
      "office\n",
      "officer\n",
      "officers\n",
      "oil\n",
      "old\n",
      "olive\n",
      "on\n",
      "one\n",
      "ones\n",
      "only\n",
      "onyx\n",
      "open\n",
      "opened\n",
      "openly\n",
      "or\n",
      "order\n",
      "organ\n",
      "oth\n",
      "other\n",
      "ou\n",
      "ought\n",
      "our\n",
      "ours\n",
      "ourselves\n",
      "out\n",
      "over\n",
      "overcome\n",
      "overdrive\n",
      "overseer\n",
      "oversig\n",
      "overspread\n",
      "overtake\n",
      "overthrew\n",
      "overthrow\n",
      "overtook\n",
      "own\n",
      "oxen\n",
      "parcel\n",
      "part\n",
      "parted\n",
      "parts\n",
      "pass\n",
      "passed\n",
      "past\n",
      "pasture\n",
      "path\n",
      "pea\n",
      "peace\n",
      "peaceable\n",
      "peaceably\n",
      "peop\n",
      "people\n",
      "peradventure\n",
      "perceived\n",
      "perfect\n",
      "perform\n",
      "perish\n",
      "perpetual\n",
      "person\n",
      "persons\n",
      "physicians\n",
      "piece\n",
      "pieces\n",
      "pigeon\n",
      "pilgrimage\n",
      "pillar\n",
      "pilled\n",
      "pillows\n",
      "pit\n",
      "pitch\n",
      "pitched\n",
      "pitcher\n",
      "pla\n",
      "place\n",
      "placed\n",
      "places\n",
      "plagued\n",
      "plagues\n",
      "plain\n",
      "plains\n",
      "plant\n",
      "planted\n",
      "played\n",
      "pleasant\n",
      "pleased\n",
      "pleaseth\n",
      "pleasure\n",
      "pledge\n",
      "plenteous\n",
      "plenteousness\n",
      "plenty\n",
      "pluckt\n",
      "point\n",
      "poor\n",
      "poplar\n",
      "portion\n",
      "possess\n",
      "possessi\n",
      "possession\n",
      "possessions\n",
      "possessor\n",
      "posterity\n",
      "pottage\n",
      "poured\n",
      "poverty\n",
      "pow\n",
      "power\n",
      "praise\n",
      "pray\n",
      "prayed\n",
      "precious\n",
      "prepared\n",
      "presence\n",
      "present\n",
      "presented\n",
      "preserve\n",
      "preserved\n",
      "pressed\n",
      "prevail\n",
      "prevailed\n",
      "prey\n",
      "priest\n",
      "priests\n",
      "prince\n",
      "princes\n",
      "pris\n",
      "prison\n",
      "prisoners\n",
      "proceedeth\n",
      "process\n",
      "profit\n",
      "progenitors\n",
      "prophet\n",
      "prosper\n",
      "prospered\n",
      "prosperous\n",
      "protest\n",
      "proved\n",
      "provender\n",
      "provide\n",
      "provision\n",
      "pulled\n",
      "punishment\n",
      "purchase\n",
      "purchased\n",
      "purposing\n",
      "pursue\n",
      "pursued\n",
      "put\n",
      "putting\n",
      "quart\n",
      "quickly\n",
      "quite\n",
      "quiver\n",
      "raiment\n",
      "rain\n",
      "rained\n",
      "raise\n",
      "ram\n",
      "rams\n",
      "ran\n",
      "rank\n",
      "raven\n",
      "ravin\n",
      "reach\n",
      "reached\n",
      "ready\n",
      "reason\n",
      "rebelled\n",
      "rebuked\n",
      "receive\n",
      "received\n",
      "red\n",
      "redeemed\n",
      "refrain\n",
      "refrained\n",
      "refused\n",
      "regard\n",
      "reign\n",
      "reigned\n",
      "remained\n",
      "remaineth\n",
      "\n"
     ]
    }
   ],
   "source": [
    "print(f.read())"
   ]
  },
  {
   "cell_type": "code",
   "execution_count": 303,
   "metadata": {},
   "outputs": [],
   "source": [
    "output_f.close()"
   ]
  },
  {
   "cell_type": "code",
   "execution_count": 311,
   "metadata": {},
   "outputs": [],
   "source": [
    "saying = ['After', 'all', 'is', 'said', 'and', 'done', ',',\n",
    " 'more', 'is', 'said', 'than', 'done', '.']"
   ]
  },
  {
   "cell_type": "code",
   "execution_count": 308,
   "metadata": {},
   "outputs": [
    {
     "name": "stdout",
     "output_type": "stream",
     "text": [
      "After (5 ) all (3 ) is (2 ) said (4 ) and (3 ) done (4 ) , (1 ) more (4 ) is (2 ) said (4 ) than (4 ) done (4 ) . (1 ) "
     ]
    }
   ],
   "source": [
    "for word in saying:\n",
    "    print(word,'('+str(len(word)),')',end=' ')"
   ]
  },
  {
   "cell_type": "code",
   "execution_count": 315,
   "metadata": {},
   "outputs": [
    {
     "data": {
      "text/plain": [
       "[('After', 5),\n",
       " ('all', 3),\n",
       " ('is', 2),\n",
       " ('said', 4),\n",
       " ('and', 3),\n",
       " ('done', 4),\n",
       " (',', 1),\n",
       " ('more', 4),\n",
       " ('is', 2),\n",
       " ('said', 4),\n",
       " ('than', 4),\n",
       " ('done', 4),\n",
       " ('.', 1)]"
      ]
     },
     "execution_count": 315,
     "metadata": {},
     "output_type": "execute_result"
    }
   ],
   "source": [
    "pieces=[(word,len(word)) for word in saying]\n",
    "pieces"
   ]
  },
  {
   "cell_type": "code",
   "execution_count": null,
   "metadata": {},
   "outputs": [],
   "source": []
  },
  {
   "cell_type": "code",
   "execution_count": null,
   "metadata": {},
   "outputs": [],
   "source": []
  },
  {
   "cell_type": "code",
   "execution_count": null,
   "metadata": {},
   "outputs": [],
   "source": []
  },
  {
   "cell_type": "code",
   "execution_count": null,
   "metadata": {},
   "outputs": [],
   "source": []
  },
  {
   "cell_type": "code",
   "execution_count": null,
   "metadata": {},
   "outputs": [],
   "source": []
  },
  {
   "cell_type": "code",
   "execution_count": null,
   "metadata": {},
   "outputs": [],
   "source": []
  },
  {
   "cell_type": "code",
   "execution_count": null,
   "metadata": {},
   "outputs": [],
   "source": []
  },
  {
   "cell_type": "code",
   "execution_count": null,
   "metadata": {},
   "outputs": [],
   "source": []
  },
  {
   "cell_type": "code",
   "execution_count": null,
   "metadata": {},
   "outputs": [],
   "source": []
  },
  {
   "cell_type": "code",
   "execution_count": null,
   "metadata": {},
   "outputs": [],
   "source": []
  },
  {
   "cell_type": "code",
   "execution_count": null,
   "metadata": {},
   "outputs": [],
   "source": []
  },
  {
   "cell_type": "code",
   "execution_count": null,
   "metadata": {},
   "outputs": [],
   "source": []
  },
  {
   "cell_type": "code",
   "execution_count": null,
   "metadata": {},
   "outputs": [],
   "source": []
  },
  {
   "cell_type": "code",
   "execution_count": null,
   "metadata": {},
   "outputs": [],
   "source": []
  },
  {
   "cell_type": "code",
   "execution_count": null,
   "metadata": {},
   "outputs": [],
   "source": []
  },
  {
   "cell_type": "code",
   "execution_count": null,
   "metadata": {},
   "outputs": [],
   "source": []
  },
  {
   "cell_type": "code",
   "execution_count": null,
   "metadata": {},
   "outputs": [],
   "source": []
  },
  {
   "cell_type": "code",
   "execution_count": null,
   "metadata": {},
   "outputs": [],
   "source": []
  },
  {
   "cell_type": "code",
   "execution_count": null,
   "metadata": {},
   "outputs": [],
   "source": []
  },
  {
   "cell_type": "code",
   "execution_count": null,
   "metadata": {},
   "outputs": [],
   "source": []
  },
  {
   "cell_type": "code",
   "execution_count": null,
   "metadata": {},
   "outputs": [],
   "source": []
  },
  {
   "cell_type": "code",
   "execution_count": null,
   "metadata": {},
   "outputs": [],
   "source": []
  },
  {
   "cell_type": "code",
   "execution_count": null,
   "metadata": {},
   "outputs": [],
   "source": []
  },
  {
   "cell_type": "code",
   "execution_count": null,
   "metadata": {},
   "outputs": [],
   "source": []
  },
  {
   "cell_type": "code",
   "execution_count": null,
   "metadata": {},
   "outputs": [],
   "source": []
  },
  {
   "cell_type": "code",
   "execution_count": null,
   "metadata": {},
   "outputs": [],
   "source": []
  },
  {
   "cell_type": "code",
   "execution_count": null,
   "metadata": {},
   "outputs": [],
   "source": []
  },
  {
   "cell_type": "code",
   "execution_count": null,
   "metadata": {},
   "outputs": [],
   "source": []
  },
  {
   "cell_type": "code",
   "execution_count": null,
   "metadata": {},
   "outputs": [],
   "source": []
  },
  {
   "cell_type": "code",
   "execution_count": null,
   "metadata": {},
   "outputs": [],
   "source": []
  },
  {
   "cell_type": "code",
   "execution_count": null,
   "metadata": {},
   "outputs": [],
   "source": []
  },
  {
   "cell_type": "code",
   "execution_count": null,
   "metadata": {},
   "outputs": [],
   "source": []
  },
  {
   "cell_type": "code",
   "execution_count": null,
   "metadata": {},
   "outputs": [],
   "source": []
  },
  {
   "cell_type": "code",
   "execution_count": null,
   "metadata": {},
   "outputs": [],
   "source": []
  },
  {
   "cell_type": "code",
   "execution_count": null,
   "metadata": {},
   "outputs": [],
   "source": []
  },
  {
   "cell_type": "code",
   "execution_count": null,
   "metadata": {},
   "outputs": [],
   "source": []
  },
  {
   "cell_type": "code",
   "execution_count": null,
   "metadata": {},
   "outputs": [],
   "source": []
  },
  {
   "cell_type": "code",
   "execution_count": null,
   "metadata": {},
   "outputs": [],
   "source": []
  },
  {
   "cell_type": "code",
   "execution_count": null,
   "metadata": {},
   "outputs": [],
   "source": []
  },
  {
   "cell_type": "code",
   "execution_count": null,
   "metadata": {},
   "outputs": [],
   "source": []
  },
  {
   "cell_type": "code",
   "execution_count": null,
   "metadata": {},
   "outputs": [],
   "source": []
  },
  {
   "cell_type": "code",
   "execution_count": null,
   "metadata": {},
   "outputs": [],
   "source": []
  },
  {
   "cell_type": "code",
   "execution_count": null,
   "metadata": {},
   "outputs": [],
   "source": []
  },
  {
   "cell_type": "code",
   "execution_count": null,
   "metadata": {},
   "outputs": [],
   "source": []
  },
  {
   "cell_type": "code",
   "execution_count": null,
   "metadata": {},
   "outputs": [],
   "source": [
    "\n"
   ]
  },
  {
   "cell_type": "code",
   "execution_count": null,
   "metadata": {},
   "outputs": [],
   "source": []
  },
  {
   "cell_type": "code",
   "execution_count": null,
   "metadata": {},
   "outputs": [],
   "source": []
  },
  {
   "cell_type": "code",
   "execution_count": null,
   "metadata": {},
   "outputs": [],
   "source": []
  },
  {
   "cell_type": "code",
   "execution_count": null,
   "metadata": {},
   "outputs": [],
   "source": []
  },
  {
   "cell_type": "code",
   "execution_count": null,
   "metadata": {},
   "outputs": [],
   "source": []
  },
  {
   "cell_type": "code",
   "execution_count": null,
   "metadata": {},
   "outputs": [],
   "source": []
  },
  {
   "cell_type": "code",
   "execution_count": null,
   "metadata": {},
   "outputs": [],
   "source": []
  },
  {
   "cell_type": "code",
   "execution_count": null,
   "metadata": {},
   "outputs": [],
   "source": []
  }
 ],
 "metadata": {
  "kernelspec": {
   "display_name": "Python 3",
   "language": "python",
   "name": "python3"
  },
  "language_info": {
   "codemirror_mode": {
    "name": "ipython",
    "version": 3
   },
   "file_extension": ".py",
   "mimetype": "text/x-python",
   "name": "python",
   "nbconvert_exporter": "python",
   "pygments_lexer": "ipython3",
   "version": "3.7.7"
  }
 },
 "nbformat": 4,
 "nbformat_minor": 4
}
